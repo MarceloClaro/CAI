{
 "cells": [
  {
   "cell_type": "markdown",
   "metadata": {},
   "source": [
    "## 당신의 성별은\n",
    "    - 성별에 따라 퍼스널 컬러에 대해 아는지 모르는지 알 수 있음\n",
    "    - 성별에 따라 색을 보는 기준이 다를 수 있음\n",
    "    \n",
    "    1. 남\n",
    "    2. 여\n",
    "\n",
    "## 당신의 나이는\n",
    "    - 연령대 별로 퍼스널 컬러에 대해 아는지 모르는지 알 수 있음\n",
    "    - 연령대 별로 색을 보는 기준이 다를 수 있음.\n",
    "    \n",
    "    1. 10대, \n",
    "    2. 20대, \n",
    "    3. 30대, \n",
    "    4. 40대, \n",
    "    5. 50대,\n",
    "    6. 그 이상\n",
    "\n",
    "## 퍼스널 컬러가 무슨 의미인지\n",
    "    - 피부에 잘 어울리는 색이라고 생각한 사람들이 선택한 항목들\n",
    "    - 피부가 밝아보일수있는 색이라고 생각한 사람들이 선택한 항목들\n",
    "    - 이 두가지 중 많은 것을 기준으로 밝은것을 할지 어울리는것을 할지 선택하면 됌\n",
    "\n",
    "    1. 피부와 잘 어울리는 색\n",
    "    2. 피부가 밝아보이게 해주는 색\n",
    "    3. 모르겠음\n",
    "\n",
    "## 해당 피부색이 어떤 부위인가\n",
    "\n",
    "    은주에몽이 만든 것\n",
    "    \n",
    "##  어울리는지에 따른 점수 (10점 높음, 1점 낮음)\n",
    "    은주에몽이 만든 것 중에 선별\n",
    "\n",
    "## 퍼스널 컬러가 중요한 것 같은지\n",
    "    인식에 대해서 뭐 알 수도 있고.."
   ]
  },
  {
   "cell_type": "code",
   "execution_count": null,
   "metadata": {},
   "outputs": [],
   "source": []
  }
 ],
 "metadata": {
  "kernelspec": {
   "display_name": "Python 3",
   "language": "python",
   "name": "python3"
  },
  "language_info": {
   "codemirror_mode": {
    "name": "ipython",
    "version": 3
   },
   "file_extension": ".py",
   "mimetype": "text/x-python",
   "name": "python",
   "nbconvert_exporter": "python",
   "pygments_lexer": "ipython3",
   "version": "3.6.8"
  }
 },
 "nbformat": 4,
 "nbformat_minor": 4
}
