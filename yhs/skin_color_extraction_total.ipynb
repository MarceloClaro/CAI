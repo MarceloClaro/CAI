{
 "cells": [
  {
   "cell_type": "markdown",
   "metadata": {},
   "source": [
    "### 피부색 추출 알고리즘 병합\n",
    "    \n",
    "    최초 작성일 : 20/02/19\n",
    "    작성자 : 양희승\n",
    "    \n",
    "    작성내용 : 피부색 추출 시 모든 과정 통합\n",
    "               \n",
    "               원본사진\n",
    "               (white balace test)\n",
    "               -> 화이트밸런스 조정 \n",
    "               \n",
    "               (face_detection_test)\n",
    "               -> 사진 리사이징\n",
    "               -> 얼굴 인식\n",
    "               -> 크롭\n",
    "               -> 볼 인식\n",
    "               -> 볼 두개 이미지 평균 이미지 추출\n",
    "               -> 평균색으로 이미지 변환\n",
    "               \n",
    "               (color_convert_test)\n",
    "               -> 평균색 GBR - RGB 변환\n",
    "               -> RGB - HSV 변환\n",
    "               \n",
    "               (조예슬씨 코드)\n",
    "               -> HSV 분석\n",
    "               -> 웜 쿨 구분 후 \n",
    "               -> 반환 값\n",
    "               \n",
    "               \n",
    "               -> 결과값 저장\n",
    "               -> 입력값???"
   ]
  },
  {
   "cell_type": "code",
   "execution_count": 22,
   "metadata": {},
   "outputs": [],
   "source": [
    "import cv2 as cv\n",
    "import numpy as np\n",
    "import colour\n",
    "import utils\n",
    "import matplotlib.pyplot as plt"
   ]
  },
  {
   "cell_type": "code",
   "execution_count": 23,
   "metadata": {},
   "outputs": [],
   "source": [
    "def white_balance(img, file_name) :   \n",
    "    result = cv.cvtColor(img, cv.COLOR_BGR2LAB)\n",
    "    avg_a = np.average(result[:, :, 1])\n",
    "    avg_b = np.average(result[:, :, 2])\n",
    "    result[:, :, 1] = result[:, :, 1] - ((avg_a - 128) * (result[:, :, 0] / 255.0) * 1.1)\n",
    "    result[:, :, 2] = result[:, :, 2] - ((avg_b - 128) * (result[:, :, 0] / 255.0) * 1.1)\n",
    "    result = cv.cvtColor(result, cv.COLOR_LAB2BGR)\n",
    "    wb_img = result\n",
    "    cv.imwrite(\"img/\"+file_name+\"_1.jpg\", wb_img)\n",
    "    \n",
    "    return wb_img"
   ]
  },
  {
   "cell_type": "code",
   "execution_count": 45,
   "metadata": {},
   "outputs": [],
   "source": [
    "def face_detection(wb_img, file_name) :\n",
    "    origin_img = wb_img\n",
    "\n",
    "\n",
    "    # opencv의 얼굴인식 이용, 눈 인식 이용\n",
    "    faceCascade = cv.CascadeClassifier('data/haarcascade_frontface.xml') \n",
    "    faceCascade_eye = cv.CascadeClassifier('data/haarcascade_eye.xml') \n",
    "\n",
    "\n",
    "    # Gray 컬러 변환\n",
    "    gray = cv.cvtColor(origin_img, cv.COLOR_BGR2GRAY) \n",
    "    faces = faceCascade.detectMultiScale(gray, scaleFactor=1.3, minNeighbors=5, minSize=(30, 30) ) \n",
    "\n",
    "\n",
    "    face_cropped = None\n",
    "    cheek_cropped = None\n",
    "\n",
    "\n",
    "    # face_detection\n",
    "    if len(faces) > 1 :\n",
    "        print(\"한 사람만 찍힌 사진을 올려주세요\")\n",
    "    elif len(faces) == 1 :\n",
    "        for (x, y, w, h) in faces: \n",
    "            cv.rectangle(origin_img, (x, y), (x+w, y+h), (0, 255, 0), 2) \n",
    "        #     cv.imshow(\"Face\", origin_img) \n",
    "            cv.imwrite(\"img/\"+file_name+\"_2.jpg\", origin_img)\n",
    "            face_cropped = origin_img[y:y + h, x:x + w]\n",
    "            roi_gray = gray[y:y+h, x:x+w]\n",
    "            roi_color = origin_img[y:y+h, x:x+w]\n",
    "    elif len(faces) == 0 :\n",
    "        print(\"정면이거나 정상적인 사진을 올려주세요\")\n",
    "    else :\n",
    "        print(\"에러\")\n",
    "\n",
    "    cv.imwrite(\"img/\"+file_name+\"_3.jpg\", face_cropped)\n",
    "    gray = cv.cvtColor(face_cropped, cv.COLOR_BGR2GRAY) \n",
    "    eyes = faceCascade_eye.detectMultiScale(gray, scaleFactor=1.3, minNeighbors=5, minSize=(30, 30) ) \n",
    "\n",
    "    \n",
    "    \n",
    "    temp_img = face_cropped  \n",
    "    # cheek_detection\n",
    "    for i in range(len(eyes)): \n",
    "        x, y, w, h = eyes[i]\n",
    "        if i == 0 :\n",
    "            cheek_cropped1 = temp_img[y+40:y+40+15, x-10:x+20]\n",
    "#             cv.rectangle(face_cropped, (x-10, y+40), (x+20, y+40+15), (0, 255, 0), 2) \n",
    "            \n",
    "        elif i == 1 :\n",
    "            cheek_cropped2 = temp_img[y+40:y+40+15, x+10:x+40]\n",
    "#             cv.rectangle(face_cropped, (x+10, y+40), (x+40, y+40+15), (0, 255, 0), 2) \n",
    "#             cv.imwrite(\"img/\"+file_name+\"_4.jpg\", face_cropped)            \n",
    "            final = np.hstack((cheek_cropped1, cheek_cropped2))    \n",
    "##################################################################\n",
    "\n",
    "    for i in range(len(eyes)): \n",
    "        x, y, w, h = eyes[i]        \n",
    "        if i == 0 :\n",
    "            cv.rectangle(face_cropped, (x-10, y+40), (x+20, y+40+15), (0, 255, 0), 2)             \n",
    "        elif i == 1 :\n",
    "            cv.rectangle(face_cropped, (x+10, y+40), (x+40, y+40+15), (0, 255, 0), 2) \n",
    "            cv.imwrite(\"img/\"+file_name+\"_4.jpg\", face_cropped)\n",
    "\n",
    "\n",
    "\n",
    "\n",
    "#     cv.imshow(\"Face\", final) \n",
    "    cv.imwrite(\"img/\"+file_name+\"_5.jpg\", final)\n",
    "    cv.waitKey(0) \n",
    "    cv.destroyAllWindows() \n",
    "    cv.waitKey(0)\n",
    "    \n",
    "    return final"
   ]
  },
  {
   "cell_type": "code",
   "execution_count": 53,
   "metadata": {},
   "outputs": [],
   "source": [
    "def color_convert(cheek, file_name) :\n",
    "    img = cheek\n",
    "    img = cv.cvtColor(img, cv.COLOR_BGR2RGB)\n",
    "    plt.imshow(img)\n",
    "    plt.show()\n",
    "    \n",
    "    sum = 0\n",
    "    R = []\n",
    "    G = []\n",
    "    B = []\n",
    "    for i in img :\n",
    "        for j in i :\n",
    "            R.append(j[0])\n",
    "            G.append(j[1])\n",
    "            B.append(j[2])\n",
    "\n",
    "    R_sum = 0\n",
    "    G_sum = 0\n",
    "    B_sum = 0\n",
    "\n",
    "    # 각 R, G, B의 합계 구하기\n",
    "    for i in range(len(R)) :\n",
    "        R_sum += R[i]\n",
    "        G_sum += G[i]\n",
    "        B_sum += B[i]\n",
    "\n",
    "    R_avg = int(round((R_sum / len(R)), 0)) # R값 평균\n",
    "    G_avg = int(round((G_sum / len(G)), 0))  # R값 평균\n",
    "    B_avg = int(round((B_sum / len(B)), 0))  # R값 평균\n",
    "    RGB_color = [R_avg, G_avg, B_avg]\n",
    "    \n",
    "    \n",
    "    # 평균 색만 그래프 그리기 위함 img_avg\n",
    "    img_avg = img\n",
    "\n",
    "    for i in img_avg :\n",
    "        for j in i :\n",
    "            j[0] = R_avg\n",
    "            j[1] = G_avg\n",
    "            j[2] = B_avg\n",
    "\n",
    "    # 기존        \n",
    "    plt.imshow(img)\n",
    "    plt.show()\n",
    "\n",
    "    # 평균색\n",
    "    plt.imshow(img_avg)\n",
    "    plt.show()\n",
    "    bgr_img_avg = cv.cvtColor(img_avg, cv.COLOR_RGB2BGR)\n",
    "\n",
    "    # 저장\n",
    "    cv.imwrite(\"img/\"+file_name+\"_6.jpg\", bgr_img_avg)\n",
    "    \n",
    "    \n",
    "    # 변환식\n",
    "    arr_RGB_color = np.array(RGB_color)\n",
    "    float_arr_RGB_color = arr_RGB_color / 255\n",
    "    float_tp_RGB_color = tuple(float_arr_RGB_color)\n",
    "    HSV_color = colour.RGB_to_HSV(float_tp_RGB_color)\n",
    "    HSV_color2 = np.array([round(HSV_color[0]*359, 3), round(HSV_color[1] * 100, 3), round(HSV_color[2] * 100, 3)])\n",
    "#     print(\"HSV 값 : \", HSV_color2)\n",
    "    HSV_color2 = list(HSV_color2)\n",
    "    HSV_color2[0] = round(HSV_color2[0], 2)\n",
    "    HSV_color2[1] = round(HSV_color2[1], 2)\n",
    "    HSV_color2[2] = round(HSV_color2[2], 2)\n",
    "    return HSV_color2\n"
   ]
  },
  {
   "cell_type": "code",
   "execution_count": 54,
   "metadata": {},
   "outputs": [
    {
     "data": {
      "image/png": "[encoded data removed]",
      "text/plain": [
       "<Figure size 432x288 with 1 Axes>"
      ]
     },
     "metadata": {
      "needs_background": "light"
     },
     "output_type": "display_data"
    },
    {
     "data": {
      "image/png": "[encoded data removed]",
      "text/plain": [
       "<Figure size 432x288 with 1 Axes>"
      ]
     },
     "metadata": {
      "needs_background": "light"
     },
     "output_type": "display_data"
    },
    {
     "data": {
      "image/png": "[encoded data removed]",
      "text/plain": [
       "<Figure size 432x288 with 1 Axes>"
      ]
     },
     "metadata": {
      "needs_background": "light"
     },
     "output_type": "display_data"
    },
    {
     "name": "stdout",
     "output_type": "stream",
     "text": [
      "[31.530000000000001, 40.880000000000003, 70.980000000000004]\n"
     ]
    }
   ],
   "source": [
    "file_name = \"origin\"\n",
    "img = cv.imread(\"img/\"+file_name+\".jpg\")\n",
    "wb_img = white_balance(img, file_name)\n",
    "cheek = face_detection(wb_img, file_name)\n",
    "final = color_convert(cheek, file_name)\n",
    "\n",
    "print(final)"
   ]
  },
  {
   "cell_type": "code",
   "execution_count": null,
   "metadata": {},
   "outputs": [],
   "source": []
  },
  {
   "cell_type": "code",
   "execution_count": null,
   "metadata": {},
   "outputs": [],
   "source": []
  }
 ],
 "metadata": {
  "kernelspec": {
   "display_name": "Python 3",
   "language": "python",
   "name": "python3"
  },
  "language_info": {
   "codemirror_mode": {
    "name": "ipython",
    "version": 3
   },
   "file_extension": ".py",
   "mimetype": "text/x-python",
   "name": "python",
   "nbconvert_exporter": "python",
   "pygments_lexer": "ipython3",
   "version": "3.6.8"
  }
 },
 "nbformat": 4,
 "nbformat_minor": 4
}
