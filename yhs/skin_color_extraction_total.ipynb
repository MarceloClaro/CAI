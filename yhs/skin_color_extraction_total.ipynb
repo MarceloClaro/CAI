{
 "cells": [
  {
   "cell_type": "markdown",
   "metadata": {},
   "source": [
    "### 피부색 추출 알고리즘 병합\n",
    "    \n",
    "    최초 작성일 : 20/02/19\n",
    "    작성자 : 양희승\n",
    "    \n",
    "    작성내용 : 피부색 추출 시 모든 과정 통합\n",
    "               \n",
    "               원본사진\n",
    "               (white balace test)\n",
    "               -> 화이트밸런스 조정 \n",
    "              \n",
    "               (리사이징)\n",
    "               -> 크기가 클 경우 얼굴인식부분에 오차가 생기기 때문에\n",
    "                  일부 사이즈 줄이기\n",
    "               \n",
    "               (face_detection_test)\n",
    "               -> 얼굴 인식\n",
    "               -> 크롭\n",
    "               -> 저장  ##20/02/20\n",
    "               \n",
    "               (resizing_img)\n",
    "               -> 리사이징\n",
    "               -> 볼 인식\n",
    "               -> 볼 두개 이미지 평균 이미지 추출\n",
    "               -> 평균색으로 이미지 변환\n",
    "               \n",
    "               (color_convert_test)\n",
    "               -> 평균색 GBR - RGB 변환\n",
    "               -> RGB - HSV 변환\n",
    "               \n",
    "               (조예슬씨 코드)\n",
    "               -> HSV 분석\n",
    "               -> 웜 쿨 구분 후 \n",
    "               -> 반환 값\n",
    "               \n",
    "               \n",
    "               -> 결과값 저장\n",
    "               -> 입력값???\n",
    "    \n",
    "    수정내용 \n",
    "        20/02/20\n",
    "            사진 리사이징 추가로 인한 성능 개선\n",
    "                resizing_img 함수 추가  120*120으로 고정\n",
    "                \n",
    "            코드 수정\n",
    "                face_detection에서 얼굴인식 크롭에서 종료시키고\n",
    "                face_detection에서 볼인식 부분은 따로 함수 재설정\n",
    "            \n",
    "            \n",
    "            코드 추가\n",
    "                cheek_detection 함수 추가 \n",
    "                \n",
    "            팀원(조예슬) 코드 추가//테스트\n",
    "                color_classifier(person_HSV)\n",
    "                \n",
    "                \n",
    "        20/02/21\n",
    "            함수 추가\n",
    "                shadow_process  (그림자 제거) 함수\n",
    "                \n",
    "        \n",
    "        20/02/22\n",
    "            white_balance 함수 수정 \n",
    "                색깔 올바르게 변환시키기\n",
    "            \n",
    "            cheek_detection 함수 수정\n",
    "                눈 검출 표준화\n",
    "                \n",
    "        20/02/23\n",
    "            전체 크기 리사이징 함수 추가\n",
    "                resizing_first()\n",
    "                \n",
    "            종합 함수 추가\n",
    "                skin_color_extraction(file_name)\n",
    "                \n",
    "        20/02/29\n",
    "            테스트\n",
    "                얼굴 전체 피부색 추출 테스트 "
   ]
  },
  {
   "cell_type": "code",
   "execution_count": 2,
   "metadata": {},
   "outputs": [],
   "source": [
    "import cv2 as cv\n",
    "import numpy as np\n",
    "import colour\n",
    "import utils\n",
    "import matplotlib.pyplot as plt\n",
    "import math"
   ]
  },
  {
   "cell_type": "code",
   "execution_count": 2,
   "metadata": {},
   "outputs": [],
   "source": [
    "# 화이트 밸런스 변환\n",
    "def apply_mask(matrix, mask, fill_value):\n",
    "    masked = np.ma.array(matrix, mask=mask, fill_value=fill_value)\n",
    "    return masked.filled()\n",
    "\n",
    "def apply_threshold(matrix, low_value, high_value):\n",
    "    low_mask = matrix < low_value\n",
    "    matrix = apply_mask(matrix, low_mask, low_value)\n",
    "\n",
    "    high_mask = matrix > high_value\n",
    "    matrix = apply_mask(matrix, high_mask, high_value)\n",
    "\n",
    "    return matrix\n",
    "\n",
    "def white_balance(img, percent, file_name):\n",
    "    assert img.shape[2] == 3\n",
    "    assert percent > 0 and percent < 100\n",
    "\n",
    "    half_percent = percent / 200.0\n",
    "\n",
    "    channels = cv.split(img)\n",
    "\n",
    "    out_channels = []\n",
    "    for channel in channels:\n",
    "        assert len(channel.shape) == 2\n",
    "        # find the low and high precentile values (based on the input percentile)\n",
    "        height, width = channel.shape\n",
    "        vec_size = width * height\n",
    "        flat = channel.reshape(vec_size)\n",
    "\n",
    "        assert len(flat.shape) == 1\n",
    "\n",
    "        flat = np.sort(flat)\n",
    "\n",
    "        n_cols = flat.shape[0]\n",
    "\n",
    "        low_val  = flat[math.floor(n_cols * half_percent)]\n",
    "        high_val = flat[math.ceil( n_cols * (1.0 - half_percent))]\n",
    "\n",
    "#         print(\"Lowval: \", low_val)\n",
    "#         print(\"Highval: \", high_val)\n",
    "\n",
    "        # saturate below the low percentile and above the high percentile\n",
    "        thresholded = apply_threshold(channel, low_val, high_val)\n",
    "        # scale the channel\n",
    "        normalized = cv.normalize(thresholded, thresholded.copy(), 0, 255, cv.NORM_MINMAX)\n",
    "        out_channels.append(normalized)\n",
    "        \n",
    "    out = cv.merge(out_channels)\n",
    "    cv.imwrite(\"img/\"+file_name+\"_1.jpg\", out)\n",
    "#         cv.imshow(\"before\", img)\n",
    "#         cv.imshow(\"after\", out)\n",
    "#     cv.waitKey(0)\n",
    "    return out"
   ]
  },
  {
   "cell_type": "code",
   "execution_count": 3,
   "metadata": {},
   "outputs": [],
   "source": [
    "## 전체크기 리사이징 추가\n",
    "def resizing_first(img, file_name) :\n",
    "    h, w, r = img.shape\n",
    "#     print(\"세로 :\", h)  #600   550\n",
    "#     print(\"가로 :\", w)  #349   825\n",
    "\n",
    "    \n",
    "    if (h > 600) or (w > 600) :\n",
    "        if h < w :\n",
    "            tmp = round(600/w, 3)\n",
    "        elif h > w :\n",
    "            tmp = round(600/h, 3)\n",
    "        else :\n",
    "            pass\n",
    "        \n",
    "        re_img = cv.resize(img, dsize=(0, 0), fx= tmp, fy= tmp, interpolation=cv.INTER_LINEAR)\n",
    "    else :\n",
    "        pass\n",
    "    \n",
    "    cv.imwrite(\"img/\"+file_name+\"_2.jpg\", re_img)\n",
    "    \n",
    "    return re_img"
   ]
  },
  {
   "cell_type": "code",
   "execution_count": 4,
   "metadata": {},
   "outputs": [],
   "source": [
    "# 얼굴 인식\n",
    "def face_detection(img, file_name) :\n",
    "    origin_img = img\n",
    "    \n",
    "    faceCascade = cv.CascadeClassifier('data/haarcascade_frontface.xml') \n",
    "\n",
    "    gray = cv.cvtColor(origin_img, cv.COLOR_BGR2GRAY) \n",
    "    faces = faceCascade.detectMultiScale(gray, scaleFactor=1.3, minNeighbors=5, minSize=(30, 30)) \n",
    "\n",
    "    face_cropped = None\n",
    "\n",
    "    # face_detection\n",
    "    if len(faces) > 1 :\n",
    "        print(\"한 사람만 찍힌 사진을 올려주세요\")\n",
    "        face_cropped = [0,0,0]\n",
    "    elif len(faces) == 1 :\n",
    "        for (x, y, w, h) in faces: \n",
    "            cv.rectangle(origin_img, (x, y), (x+w, y+h), (0, 255, 0), 2) \n",
    "#             cv.imshow(\"Face\", origin_img) \n",
    "            cv.imwrite(\"img/\"+file_name+\"_3.jpg\", origin_img)\n",
    "            face_cropped = origin_img[y:y + h, x:x + w]\n",
    "            roi_gray = gray[y:y+h, x:x+w]\n",
    "            roi_color = origin_img[y:y+h, x:x+w]\n",
    "            cv.imwrite(\"img/\"+file_name+\"_4.jpg\", face_cropped)\n",
    "\n",
    "    elif len(faces) == 0 :\n",
    "        print(\"정면이거나 정상적인 사진을 올려주세요\")\n",
    "        face_cropped = [0,0,0]\n",
    "    else :\n",
    "        print(\"에러\")\n",
    "        face_cropped = [0,0,0]\n",
    "\n",
    "\n",
    "    return face_cropped"
   ]
  },
  {
   "cell_type": "code",
   "execution_count": 5,
   "metadata": {},
   "outputs": [],
   "source": [
    "# resizing\n",
    "def resizing_img(img, file_name) :\n",
    "    h,w,r = img.shape\n",
    "#     img = cv.cvtColor(img, cv.COLOR_BGR2RGB)\n",
    "    \n",
    "    if h > w :\n",
    "        pass\n",
    "    elif h < w :\n",
    "        pass\n",
    "    elif h == w :\n",
    "        mul = round((120/h), 3)        \n",
    "        resz_img = cv.resize(img, None, fx=mul, fy=mul, interpolation=cv.INTER_AREA)\n",
    "        h, w, r = resz_img.shape\n",
    "    else :\n",
    "        pass\n",
    "        \n",
    "#     print(h,w,r)\n",
    "    cv.imwrite(\"img/\"+file_name+\"_5.jpg\", resz_img)\n",
    "    return resz_img"
   ]
  },
  {
   "cell_type": "code",
   "execution_count": 64,
   "metadata": {},
   "outputs": [],
   "source": [
    "# 볼 인식\n",
    "\n",
    "def cheek_detection(img, file_name) :\n",
    "    face_cropped = img\n",
    "    gray = cv.cvtColor(face_cropped, cv.COLOR_BGR2GRAY) \n",
    "    faceCascade_eye = cv.CascadeClassifier('data/haarcascade_eye.xml') \n",
    "\n",
    "    eyes = faceCascade_eye.detectMultiScale(gray, scaleFactor=1.3, minNeighbors=3, minSize=(25, 25)) \n",
    "\n",
    "    cheek_cropped = None    \n",
    "    \n",
    "    temp_img = face_cropped  \n",
    "    \n",
    "    print(\"눈갯수 : \",len(eyes))\n",
    "    if len(eyes) == 2 :\n",
    "        # cheek_detection\n",
    "        for i in range(len(eyes)): \n",
    "            x, y, w, h = eyes[i]\n",
    "            if i == 0 :\n",
    "    #             cheek_cropped1 = temp_img[y+40:y+40+15, x-5:x+25]            \n",
    "                cheek_cropped1 = temp_img[y:y+20, x:x+w]\n",
    "            elif i == 1 :\n",
    "    #             cheek_cropped2 = temp_img[y+40:y+40+15, x+10:x+40]\n",
    "                cheek_cropped2 = temp_img[y:y+20, x:x+w]\n",
    "        final = np.hstack((cheek_cropped1, cheek_cropped2))    \n",
    "        cv.imwrite(\"img/\"+file_name+\"_7.jpg\", final)\n",
    "\n",
    "        for i in range(len(eyes)): \n",
    "            x, y, w, h = eyes[i]        \n",
    "            if i == 0 :\n",
    "    #             cv.rectangle(face_cropped, (x-5, y+40), (x+25, y+40+15), (0, 255, 0), 2)\n",
    "                cv.rectangle(face_cropped, (x, y), (x+w, y+20), (0, 255, 0), 2)\n",
    "            elif i == 1 :\n",
    "    #             cv.rectangle(face_cropped, (x+10, y+40), (x+40, y+40+15), (0, 255, 0), 2) \n",
    "                cv.rectangle(face_cropped, (x, y), (x+w, y+20), (0, 255, 0), 2)\n",
    "                cv.imwrite(\"img/\"+file_name+\"_6.jpg\", face_cropped)\n",
    "            \n",
    "    elif len(eyes) == 1 :\n",
    "        print(\"왜 눈이 하나만 검출되었죠?\")\n",
    "        for i in range(len(eyes)): \n",
    "            x, y, w, h = eyes[i]\n",
    "            final = np.array(temp_img[y:y+h, x:x+w])\n",
    "            cv.imwrite(\"img/\"+file_name+\"_7.jpg\", final)\n",
    "            \n",
    "    \n",
    "        for i in range(len(eyes)): \n",
    "            x, y, w, h = eyes[i]\n",
    "            cv.rectangle(face_cropped, (x, y), (x+w, y+h), (0, 255, 0), 2)\n",
    "            cv.imwrite(\"img/\"+file_name+\"_6.jpg\", face_cropped)\n",
    "\n",
    "    else : \n",
    "        print(\"눈을 인식할 수 없습니다. \")\n",
    "\n",
    "    \n",
    "    \n",
    "    return final"
   ]
  },
  {
   "cell_type": "code",
   "execution_count": 7,
   "metadata": {},
   "outputs": [],
   "source": [
    "def shadow_process(img, file_name) :\n",
    "#     img = cv.imread(\"img/\"+file_name+\".jpg\", -1)\n",
    "\n",
    "    rgb_planes = cv.split(img)  # rgb 채널로 분할\n",
    "\n",
    "    result_planes = []\n",
    "    result_norm_planes = []\n",
    "    for plane in rgb_planes:\n",
    "        dilated_img = cv.dilate(plane, np.ones((7,7), np.uint8))  # 필터 내부의 가장 높은 값으로 변환\n",
    "        bg_img = cv.medianBlur(dilated_img, 21)  # 블러처리\n",
    "        diff_img = 255 - cv.absdiff(plane, bg_img)  # 두 개의 값 합침\n",
    "        norm_img = cv.normalize(diff_img,None, alpha=0, beta=255, norm_type=cv.NORM_MINMAX, dtype=cv.CV_8UC1)\n",
    "            # 새로운 값으로 변환 비례한 크기로 변환\n",
    "            # 입력값, 출력갯수, 변환 최소값, 변환 최대값, 변환 방식 \n",
    "        result_planes.append(diff_img)\n",
    "        result_norm_planes.append(norm_img)\n",
    "\n",
    "    shadow_img = cv.merge(result_planes)\n",
    "    result_img = img - shadow_img\n",
    "    cv.imwrite(\"img/\"+file_name+\"_8.jpg\", result_img)\n",
    "    \n",
    "    return result_img"
   ]
  },
  {
   "cell_type": "code",
   "execution_count": 4,
   "metadata": {},
   "outputs": [],
   "source": [
    "# 볼 평균색 HSV 변환\n",
    "def color_convert(cheek, file_name) :\n",
    "    img = cheek\n",
    "    img = cv.cvtColor(img, cv.COLOR_BGR2RGB)\n",
    "    plt.imshow(img)\n",
    "    plt.show()\n",
    "    \n",
    "    sum = 0\n",
    "    R = []\n",
    "    G = []\n",
    "    B = []\n",
    "    for i in img :\n",
    "        for j in i :\n",
    "            R.append(j[0])\n",
    "            G.append(j[1])\n",
    "            B.append(j[2])\n",
    "\n",
    "    R_sum = 0\n",
    "    G_sum = 0\n",
    "    B_sum = 0\n",
    "\n",
    "    # 각 R, G, B의 합계 구하기\n",
    "    for i in range(len(R)) :\n",
    "        R_sum += R[i]\n",
    "        G_sum += G[i]\n",
    "        B_sum += B[i]\n",
    "\n",
    "    R_avg = int(round((R_sum / len(R)), 0))  # R값 평균\n",
    "    G_avg = int(round((G_sum / len(G)), 0))  # G값 평균\n",
    "    B_avg = int(round((B_sum / len(B)), 0))  # B값 평균\n",
    "    RGB_color = [R_avg, G_avg, B_avg]\n",
    "    \n",
    "    \n",
    "    # 평균 색만 그래프 그리기 위함 img_avg\n",
    "    img_avg = img\n",
    "\n",
    "    for i in img_avg :\n",
    "        for j in i :\n",
    "            j[0] = R_avg\n",
    "            j[1] = G_avg\n",
    "            j[2] = B_avg\n",
    "\n",
    "    # 기존        \n",
    "    plt.imshow(img)\n",
    "    plt.show()\n",
    "\n",
    "    # 평균색\n",
    "    plt.imshow(img_avg)\n",
    "    plt.show()\n",
    "    bgr_img_avg = cv.cvtColor(img_avg, cv.COLOR_RGB2BGR)\n",
    "\n",
    "    # 저장\n",
    "    cv.imwrite(\"img/\"+file_name+\"_9.jpg\", bgr_img_avg)\n",
    "    \n",
    "    \n",
    "    arr_RGB_color = np.array(RGB_color)\n",
    "    float_arr_RGB_color = arr_RGB_color / 255\n",
    "    float_tp_RGB_color = tuple(float_arr_RGB_color)\n",
    "    HSV_color = colour.RGB_to_HSV(float_tp_RGB_color)\n",
    "    HSV_color2 = np.array([round(HSV_color[0]*359, 3), round(HSV_color[1] * 100, 3), round(HSV_color[2] * 100, 3)])\n",
    "#     print(\"HSV 값 : \", HSV_color2)\n",
    "    HSV_color2 = list(HSV_color2)\n",
    "    HSV_color2[0] = round(HSV_color2[0], 2)\n",
    "    HSV_color2[1] = round(HSV_color2[1], 2)\n",
    "    HSV_color2[2] = round(HSV_color2[2], 2)\n",
    "    return HSV_color2\n"
   ]
  },
  {
   "cell_type": "code",
   "execution_count": 5,
   "metadata": {},
   "outputs": [],
   "source": [
    "def color_classifier(person_HSV) :    \n",
    "    \n",
    "    # 입력값 Hue, Sturation, Value에 따라 변수 지정\n",
    "    H = float(person_HSV[0])\n",
    "    S = float(person_HSV[1])\n",
    "    V = float(person_HSV[2])\n",
    "    diff = round(V - S, 2)\n",
    "    \n",
    "    color_type = [\"WSB\", \"WSL\", \"WAD\", \"WAM\", \"CSL\", \"CSM\", \"CWB\", \"CWD\"]\n",
    "    \n",
    "    if H >= 26 and H <= 206 : \n",
    "        if diff >= 43.15 :\n",
    "            if S >= 32.47 :\n",
    "                ans = 0\n",
    "                # Warm Spring Bright                            \n",
    "            else :\n",
    "                ans = 1\n",
    "                # Warm Spring Light\n",
    "                                \n",
    "        elif diff <= 43.15:\n",
    "            if S >= 32.47 :\n",
    "                ans = 2\n",
    "                # Warm Autumn Deep                \n",
    "            else :\n",
    "                ans = 3\n",
    "                # Warm Autumn Mute\n",
    "                \n",
    "\n",
    "                \n",
    "    elif (H >= 0 and H <= 25) or (H >= 207 and H <= 359) :\n",
    "        if diff >= 47.15 :\n",
    "            if diff >= 60.80 :\n",
    "                ans = 4\n",
    "                # Cool Summer Light                \n",
    "            else :\n",
    "                ans = 5\n",
    "                # Cool Summer Mute\n",
    "                                \n",
    "        elif diff <= 47.15:\n",
    "            if diff >= 23.58 :\n",
    "                ans = 6\n",
    "                # Cool Winter Bright                \n",
    "            else :\n",
    "                ans = 7\n",
    "                # Cool Winter Deep\n",
    "                \n",
    "                \n",
    "    else :\n",
    "        ans = -1\n",
    "        # 에러\n",
    "    \n",
    "    \n",
    "    return ans"
   ]
  },
  {
   "cell_type": "code",
   "execution_count": 116,
   "metadata": {},
   "outputs": [],
   "source": [
    "def skin_color_extraction(file_name) :\n",
    "    color_type = [\"WSB\", \"WSL\", \"WAD\", \"WAM\", \"CSL\", \"CSM\", \"CWB\", \"CWD\"]\n",
    "\n",
    "    img = cv.imread(\"img/\"+file_name+\".jpg\")\n",
    "    wb_img = white_balance(img, 1, file_name)\n",
    "    re_img = resizing_first(wb_img, file_name) # 2\n",
    "    face_cropp = face_detection(re_img, file_name) #_3, _4\n",
    "    resize_img = resizing_img(face_cropp, file_name) #_5\n",
    "    cheek_cropp = cheek_detection(resize_img, file_name) #_6, _7\n",
    "    rm_shadow = shadow_process(cheek_cropp, file_name) # 8\n",
    "    hsv = color_convert(rm_shadow, file_name) # _9\n",
    "\n",
    "    color_type_num = color_classifier(hsv)\n",
    "    print(\"입력 값 : \")\n",
    "    print(\"HSV 결과 값\", hsv)\n",
    "    print(\"타입 번호 : \", color_type_num)\n",
    "    print(\"당신은 : {} 입니다.\".format(color_type[color_type_num]))    \n",
    "    return color_type_num"
   ]
  },
  {
   "cell_type": "code",
   "execution_count": 117,
   "metadata": {
    "scrolled": false
   },
   "outputs": [
    {
     "name": "stdout",
     "output_type": "stream",
     "text": [
      "눈갯수 :  2\n"
     ]
    },
    {
     "data": {
      "image/png": "[encoded data removed]",
      "text/plain": [
       "<Figure size 432x288 with 1 Axes>"
      ]
     },
     "metadata": {
      "needs_background": "light"
     },
     "output_type": "display_data"
    },
    {
     "data": {
      "image/png": "[encoded data removed]",
      "text/plain": [
       "<Figure size 432x288 with 1 Axes>"
      ]
     },
     "metadata": {
      "needs_background": "light"
     },
     "output_type": "display_data"
    },
    {
     "data": {
      "image/png": "[encoded data removed]",
      "text/plain": [
       "<Figure size 432x288 with 1 Axes>"
      ]
     },
     "metadata": {
      "needs_background": "light"
     },
     "output_type": "display_data"
    },
    {
     "name": "stdout",
     "output_type": "stream",
     "text": [
      "입력 값 : \n",
      "HSV 결과 값 [24.280000000000001, 40.590000000000003, 66.670000000000002]\n",
      "타입 번호 :  6\n",
      "당신은 : CWB 입니다.\n"
     ]
    }
   ],
   "source": [
    "file_name = \"test44\"\n",
    "type_num = skin_color_extraction(file_name)"
   ]
  },
  {
   "cell_type": "code",
   "execution_count": 143,
   "metadata": {},
   "outputs": [],
   "source": [
    "# 볼 인식\n",
    "\n",
    "def test_cheek_detection(img, file_name) :\n",
    "    face_cropped = img\n",
    "    gray = cv.cvtColor(face_cropped, cv.COLOR_BGR2GRAY) \n",
    "    faceCascade_eye = cv.CascadeClassifier('data/haarcascade_eye.xml') \n",
    "\n",
    "    eyes = faceCascade_eye.detectMultiScale(gray, scaleFactor=1.3, minNeighbors=3, minSize=(25, 25)) \n",
    "\n",
    "    cheek_cropped = None    \n",
    "    \n",
    "    temp_img = face_cropped  \n",
    "    \n",
    "    print(\"눈갯수 : \",len(eyes))\n",
    "    if len(eyes) == 2 :\n",
    "        # cheek_detection\n",
    "        for i in range(len(eyes)): \n",
    "            x, y, w, h = eyes[i]\n",
    "            if i == 0 :\n",
    "    #             cheek_cropped1 = temp_img[y+40:y+40+15, x-5:x+25]            \n",
    "                cheek_cropped1 = temp_img[y:y+15, x:x+10]\n",
    "            elif i == 1 :\n",
    "    #             cheek_cropped2 = temp_img[y+40:y+40+15, x+10:x+40]\n",
    "                cheek_cropped2 = temp_img[y:y+15, x:x+10]\n",
    "        final = np.hstack((cheek_cropped1, cheek_cropped2))    \n",
    "        cv.imwrite(\"img/\"+file_name+\"_7.jpg\", final)\n",
    "\n",
    "        for i in range(len(eyes)): \n",
    "            x, y, w, h = eyes[i]        \n",
    "            if i == 0 :\n",
    "    #             cv.rectangle(face_cropped, (x-5, y+40), (x+25, y+40+15), (0, 255, 0), 2)\n",
    "                cv.rectangle(face_cropped, (x, y), (x+10, y+15), (0, 255, 0), 2)\n",
    "            elif i == 1 :\n",
    "    #             cv.rectangle(face_cropped, (x+10, y+40), (x+40, y+40+15), (0, 255, 0), 2) \n",
    "                cv.rectangle(face_cropped, (x, y), (x+10, y+15), (0, 255, 0), 2)\n",
    "                cv.imwrite(\"img/\"+file_name+\"_6.jpg\", face_cropped)\n",
    "            \n",
    "    elif len(eyes) == 1 :\n",
    "        print(\"왜 눈이 하나만 검출되었죠?\")        \n",
    "        for i in range(len(eyes)): \n",
    "            x, y, w, h = eyes[i]\n",
    "            print(x,y,w,h)\n",
    "            final = np.array(temp_img[y-15:y-15+10, x-15:x-15+20])\n",
    "            cv.imwrite(\"img/\"+file_name+\"_7.jpg\", final)\n",
    "            \n",
    "    \n",
    "        for i in range(len(eyes)): \n",
    "            x, y, w, h = eyes[i]\n",
    "            cv.rectangle(face_cropped, (x-15, y-15), (x-15+20, y-15+10), (0, 255, 0), 2)\n",
    "            cv.imwrite(\"img/\"+file_name+\"_6.jpg\", face_cropped)\n",
    "\n",
    "        \n",
    "    else : \n",
    "        print(\"눈을 인식할 수 없습니다. \")\n",
    "\n",
    "    \n",
    "    \n",
    "    return final"
   ]
  },
  {
   "cell_type": "code",
   "execution_count": 144,
   "metadata": {
    "scrolled": false
   },
   "outputs": [
    {
     "name": "stdout",
     "output_type": "stream",
     "text": [
      "눈갯수 :  1\n",
      "왜 눈이 하나만 검출되었죠?\n",
      "56 27 28 28\n"
     ]
    },
    {
     "data": {
      "image/png": "[encoded data removed]",
      "text/plain": [
       "<Figure size 432x288 with 1 Axes>"
      ]
     },
     "metadata": {
      "needs_background": "light"
     },
     "output_type": "display_data"
    },
    {
     "data": {
      "image/png": "[encoded data removed]",
      "text/plain": [
       "<Figure size 432x288 with 1 Axes>"
      ]
     },
     "metadata": {
      "needs_background": "light"
     },
     "output_type": "display_data"
    },
    {
     "data": {
      "image/png": "[encoded data removed]",
      "text/plain": [
       "<Figure size 432x288 with 1 Axes>"
      ]
     },
     "metadata": {
      "needs_background": "light"
     },
     "output_type": "display_data"
    },
    {
     "name": "stdout",
     "output_type": "stream",
     "text": [
      "[27.199999999999999, 34.68, 87.060000000000002]\n"
     ]
    }
   ],
   "source": [
    "file_name = \"test44\"\n",
    "resize_img = cv.imread(\"img/\"+file_name+\"_4.jpg\")\n",
    "cheek_cropp = test_cheek_detection(resize_img, file_name) #_6, _7\n",
    "rm_shadow = shadow_process(cheek_cropp, file_name) # 8\n",
    "hsv = color_convert(rm_shadow, file_name) # _9\n",
    "print(hsv)"
   ]
  },
  {
   "cell_type": "code",
   "execution_count": 13,
   "metadata": {},
   "outputs": [
    {
     "name": "stdout",
     "output_type": "stream",
     "text": [
      "CSM\n",
      "CWB\n",
      "CWB\n",
      "CWB\n",
      "CWB\n"
     ]
    }
   ],
   "source": [
    "# 정우성\n",
    "# 볼 [14.75, 34.6, 82.74]\n",
    "# 턱 [22.22, 34.31, 80.0]\n",
    "# 눈 [19.66, 38.25, 71.76]\n",
    "# 이마 [19.94, 34.33, 78.82]\n",
    "# 전체 [16.83, 36.99, 67.84]\n",
    "\n",
    "color_type = [\"WSB\", \"WSL\", \"WAD\", \"WAM\", \"CSL\", \"CSM\", \"CWB\", \"CWD\"]\n",
    "a = color_classifier([14.75, 34.6, 82.74])\n",
    "b = color_classifier([22.22, 34.31, 80.0])\n",
    "c = color_classifier([19.66, 38.25, 71.76])\n",
    "d = color_classifier([19.94, 34.33, 78.82])\n",
    "e = color_classifier([16.83, 36.99, 67.84])\n",
    "\n",
    "print(color_type[a])\n",
    "print(color_type[b])\n",
    "print(color_type[c])\n",
    "print(color_type[d])\n",
    "print(color_type[e])"
   ]
  },
  {
   "cell_type": "code",
   "execution_count": 7,
   "metadata": {},
   "outputs": [
    {
     "name": "stdout",
     "output_type": "stream",
     "text": [
      "WSB\n",
      "WAD\n",
      "WAD\n",
      "WSB\n",
      "WAD\n"
     ]
    }
   ],
   "source": [
    "# 원빈\n",
    "\n",
    "# 볼  [35.1, 33.94, 86.67]\n",
    "# 턱  [35.32, 43.92, 74.12]\n",
    "# 눈  [37.08, 38.17, 72.94]\n",
    "# 이마  [37.67, 44.26, 95.69]\n",
    "# 전체 [34.09, 45.26, 74.51]\n",
    "color_type = [\"WSB\", \"WSL\", \"WAD\", \"WAM\", \"CSL\", \"CSM\", \"CWB\", \"CWD\"]\n",
    "a = color_classifier([35.1, 33.94, 86.67])\n",
    "b = color_classifier([35.32, 43.92, 74.12])\n",
    "c = color_classifier([37.08, 38.17, 72.94])\n",
    "d = color_classifier([37.67, 44.26, 95.69])\n",
    "e = color_classifier([34.09, 45.26, 74.51])\n",
    "print(color_type[a])\n",
    "print(color_type[b])\n",
    "print(color_type[c])\n",
    "print(color_type[d])\n",
    "print(color_type[e])"
   ]
  },
  {
   "cell_type": "code",
   "execution_count": 9,
   "metadata": {},
   "outputs": [
    {
     "name": "stdout",
     "output_type": "stream",
     "text": [
      "CSL\n",
      "CSL\n",
      "CSL\n",
      "CSL\n",
      "CSM\n"
     ]
    }
   ],
   "source": [
    "# 이영애\n",
    "\n",
    "# 볼   [14.31, 19.74, 91.37]\n",
    "# 턱   [17.1, 18.67, 88.24]\n",
    "# 눈   [19.94, 19.36, 85.1]\n",
    "# 이마 [17.1, 18.67, 88.24]\n",
    "# 전체 [17.73, 25.59, 82.74]\n",
    "\n",
    "color_type = [\"WSB\", \"WSL\", \"WAD\", \"WAM\", \"CSL\", \"CSM\", \"CWB\", \"CWD\"]\n",
    "a = color_classifier([14.31, 19.74, 91.37])\n",
    "b = color_classifier([17.1, 18.67, 88.24])\n",
    "c = color_classifier([19.94, 19.36, 85.1])\n",
    "d = color_classifier([17.1, 18.67, 88.24])\n",
    "e = color_classifier([17.73, 25.59, 82.74])\n",
    "\n",
    "print(color_type[a])\n",
    "print(color_type[b])\n",
    "print(color_type[c])\n",
    "print(color_type[d])\n",
    "print(color_type[e])"
   ]
  },
  {
   "cell_type": "code",
   "execution_count": 11,
   "metadata": {},
   "outputs": [
    {
     "name": "stdout",
     "output_type": "stream",
     "text": [
      "CWB\n",
      "WSB\n",
      "CWB\n",
      "CWB\n",
      "CSM\n"
     ]
    }
   ],
   "source": [
    "# 이효리\n",
    "\n",
    "# 볼  [24.6, 43.27, 81.57]\n",
    "# 턱  [27.0, 38.32, 83.92]\n",
    "# 눈  [24.28, 40.59, 66.67]\n",
    "# 이마 [27.2, 34.68, 87.06]\n",
    "# 전체 [24.51, 44.15, 73.72]\n",
    "\n",
    "color_type = [\"WSB\", \"WSL\", \"WAD\", \"WAM\", \"CSL\", \"CSM\", \"CWB\", \"CWD\"]\n",
    "a = color_classifier([24.6, 43.27, 81.57])\n",
    "b = color_classifier([27.0, 38.32, 83.92])\n",
    "c = color_classifier([24.28, 40.59, 66.67])\n",
    "d = color_classifier([27.2, 34.68, 87.06])\n",
    "d = color_classifier([24.51, 44.15, 73.72])\n",
    "\n",
    "print(color_type[a])\n",
    "print(color_type[b])\n",
    "print(color_type[c])\n",
    "print(color_type[d])\n",
    "print(color_type[e])"
   ]
  },
  {
   "cell_type": "markdown",
   "metadata": {},
   "source": [
    "## 얼굴 전체"
   ]
  },
  {
   "cell_type": "code",
   "execution_count": 20,
   "metadata": {},
   "outputs": [
    {
     "data": {
      "image/png": "[encoded data removed]",
      "text/plain": [
       "<Figure size 432x288 with 1 Axes>"
      ]
     },
     "metadata": {
      "needs_background": "light"
     },
     "output_type": "display_data"
    },
    {
     "data": {
      "image/png": "[encoded data removed]",
      "text/plain": [
       "<Figure size 432x288 with 1 Axes>"
      ]
     },
     "metadata": {
      "needs_background": "light"
     },
     "output_type": "display_data"
    },
    {
     "data": {
      "image/png": "[encoded data removed]",
      "text/plain": [
       "<Figure size 432x288 with 1 Axes>"
      ]
     },
     "metadata": {
      "needs_background": "light"
     },
     "output_type": "display_data"
    },
    {
     "name": "stdout",
     "output_type": "stream",
     "text": [
      "[24.93, 42.420000000000002, 77.650000000000006]\n"
     ]
    }
   ],
   "source": [
    "\n",
    "file_name = \"test44\"\n",
    "img = cv.imread(\"img/\"+file_name+\"_test.jpg\")\n",
    "hsv = color_convert(img, file_name) # _9\n",
    "print(hsv)"
   ]
  },
  {
   "cell_type": "code",
   "execution_count": null,
   "metadata": {},
   "outputs": [],
   "source": []
  },
  {
   "cell_type": "code",
   "execution_count": null,
   "metadata": {},
   "outputs": [],
   "source": []
  }
 ],
 "metadata": {
  "kernelspec": {
   "display_name": "Python 3",
   "language": "python",
   "name": "python3"
  },
  "language_info": {
   "codemirror_mode": {
    "name": "ipython",
    "version": 3
   },
   "file_extension": ".py",
   "mimetype": "text/x-python",
   "name": "python",
   "nbconvert_exporter": "python",
   "pygments_lexer": "ipython3",
   "version": "3.6.8"
  }
 },
 "nbformat": 4,
 "nbformat_minor": 4
}
