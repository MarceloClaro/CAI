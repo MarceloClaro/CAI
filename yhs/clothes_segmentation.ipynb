{
 "cells": [
  {
   "cell_type": "markdown",
   "metadata": {},
   "source": [
    "### 옷 분리\n",
    "    \n",
    "    최초 작성일 : 20/03/09\n",
    "    작성자 : 양희승\n",
    "    \n",
    "    작성내용 : 무신사 이미지를 통해 옷 색깔 판별하기 위한 옷분리 코드\n",
    "    \n",
    "    \n",
    "    수정내용 :\n",
    "        전체 코드 수정\n",
    "        \n",
    "        20/03/20\n",
    "            - 분리코드 수정\n",
    "            - DB 적재 코드 추가\n",
    "            - 옷 색 판별 코드 추가"
   ]
  },
  {
   "cell_type": "code",
   "execution_count": 38,
   "metadata": {},
   "outputs": [
    {
     "name": "stderr",
     "output_type": "stream",
     "text": [
      "d:\\users\\yhs\\appdata\\local\\programs\\python\\python36\\lib\\site-packages\\tensorflow_core\\python\\client\\session.py:1752: UserWarning: An interactive session is already active. This can cause out-of-memory errors in some cases. You must explicitly call `InteractiveSession.close()` to release resources held by the other session(s).\n",
      "  warnings.warn('An interactive session is already active. This can '\n"
     ]
    }
   ],
   "source": [
    "import cv2 as cv\n",
    "import numpy as np\n",
    "from tensorflow.keras.models import load_model\n",
    "import matplotlib.pyplot as plt\n",
    "import tensorflow as tf\n",
    "import sys\n",
    "import os\n",
    "import time\n",
    "from tensorflow.compat.v1 import ConfigProto\n",
    "from tensorflow.compat.v1 import InteractiveSession\n",
    "config = ConfigProto()\n",
    "config.gpu_options.allow_growth = True\n",
    "session = InteractiveSession(config=config)"
   ]
  },
  {
   "cell_type": "code",
   "execution_count": 77,
   "metadata": {},
   "outputs": [],
   "source": [
    "class fashion_tools(object):\n",
    "    def __init__(self,imageid,version=1.1):\n",
    "        self.imageid = imageid\n",
    "#         self.model   = model\n",
    "        self.model = load_model(\"Fashion-AI/model/topwears.h5\")\n",
    "        self.version = version\n",
    "        \n",
    "    def get_dress(self,stack=False):\n",
    "        \"\"\"limited to top wear and full body dresses (wild and studio working)\"\"\"\n",
    "        \"\"\"takes input rgb----> return PNG\"\"\"\n",
    "        name =  self.imageid\n",
    "        file = cv.imread(name)\n",
    "        file = tf.image.resize_with_pad(file,target_height=512,target_width=512)\n",
    "        rgb  = file.numpy()\n",
    "        file = np.expand_dims(file,axis=0)/ 255.\n",
    "        seq = self.model.predict(file)\n",
    "        seq = seq[3][0,:,:,0]\n",
    "        seq = np.expand_dims(seq,axis=-1)\n",
    "        c1x = rgb*seq\n",
    "        c2x = rgb*(1-seq)\n",
    "        cfx = c1x+c2x\n",
    "        dummy = np.ones((rgb.shape[0],rgb.shape[1],1))\n",
    "        rgbx = np.concatenate((rgb,dummy*255),axis=-1)\n",
    "        rgbs = np.concatenate((cfx,seq*255.),axis=-1)\n",
    "        if stack:\n",
    "            stacked = np.hstack((rgbx,rgbs))\n",
    "            return stacked\n",
    "        else:\n",
    "            return rgbs[:,:,3]\n",
    "        \n",
    "        \n",
    "    def get_patch(self):\n",
    "        return None\n",
    "    \n",
    "    def development(self):\n",
    "        n_ = '\\n'\n",
    "        return (f\"VERSION : {self.version} {n_} Interesting tools to be added to the workflow pipe!!!\")\n",
    "\n"
   ]
  },
  {
   "cell_type": "code",
   "execution_count": 62,
   "metadata": {},
   "outputs": [
    {
     "name": "stdout",
     "output_type": "stream",
     "text": [
      "숫자만 입력 : 1\n"
     ]
    }
   ],
   "source": [
    "# f = sys.argv[1]\n",
    "# idx = int(sys.argv[1])\n",
    "idx = int(input(\"숫자만 입력 : \"))\n",
    "files = os.listdir(\"Fashion-AI/input/\")\n",
    "f = \"Fashion-AI/input/\"+files[i]\n",
    "o = \"Fashion-AI/output/\"+files[i].replace(\".jpg\", \"\")"
   ]
  },
  {
   "cell_type": "code",
   "execution_count": 80,
   "metadata": {},
   "outputs": [
    {
     "name": "stdout",
     "output_type": "stream",
     "text": [
      "WARNING:tensorflow:No training configuration found in save file: the model was *not* compiled. Compile it manually.\n"
     ]
    },
    {
     "data": {
      "image/png": "[encoded data removed]",
      "text/plain": [
       "<Figure size 432x288 with 1 Axes>"
      ]
     },
     "metadata": {
      "needs_background": "light"
     },
     "output_type": "display_data"
    },
    {
     "name": "stdout",
     "output_type": "stream",
     "text": [
      "total time :  10.794538259506226 초\n"
     ]
    }
   ],
   "source": [
    "start_time = time.time()\n",
    "\n",
    "for i in range(idx) :\n",
    "    \n",
    "#     f = \"Fashion-AI/input/\"+files[i]\n",
    "    f = \"Fashion-AI/input/100667.jpg\"\n",
    "#     test = cv.imread(f)\n",
    "#     plt.imshow(test)\n",
    "#     plt.show()\n",
    "    o = \"Fashion-AI/output/\"+files[i].replace(\".jpg\", \"\")\n",
    "    api    = fashion_tools(f)    \n",
    "    image_ = api.get_dress(False)\n",
    "#     img = cv.cvtColor(image_, cv.COLOR_)\n",
    "    \n",
    "    plt.imshow(image_)\n",
    "    plt.show()\n",
    "#     print(\"-----------------------------------------\", str(i+1), \"완료\")\n",
    "#     print(\"\")\n",
    "\n",
    "    cv.imwrite(o+\"aa.png\",image_)\n",
    "#     cv.imwrite(o+\".jpg\", img)\n",
    "    \n",
    "end_time = time.time()\n",
    "print(\"total time : \", end_time - start_time, \"초\")"
   ]
  },
  {
   "cell_type": "code",
   "execution_count": 57,
   "metadata": {
    "scrolled": false
   },
   "outputs": [
    {
     "name": "stdout",
     "output_type": "stream",
     "text": [
      "(600, 500, 3)\n"
     ]
    },
    {
     "data": {
      "image/png": "[encoded data removed]",
      "text/plain": [
       "<Figure size 432x288 with 1 Axes>"
      ]
     },
     "metadata": {
      "needs_background": "light"
     },
     "output_type": "display_data"
    },
    {
     "name": "stdout",
     "output_type": "stream",
     "text": [
      "----------------------------------------- 0 완료\n",
      "\n",
      "total time :  10.55115818977356 초\n"
     ]
    }
   ],
   "source": [
    "\n",
    "\n",
    "\n",
    "\n",
    "\n",
    "# img = cv.imread(\"Fashion-AI/input/100123.jpg\")\n",
    "# print(img.shape)\n",
    "# plt.imshow(img)\n",
    "# plt.show()\n",
    "# # api    = fashion_tools(f)    \n",
    "# # image_ = api.get_dress(False)\n",
    "# # img = image_\n",
    "# # img = cv.cvtColor(img, cv.COLOR_RGBA2RGB)\n",
    "# # print(img)\n",
    "# #     plt.imshow('', img)\n",
    "# #     plt.show()\n",
    "# #     plt.imshow('', img)\n",
    "# #     plt.show()\n",
    "# print(\"-----------------------------------------\", str(i), \"완료\")\n",
    "# print(\"\")\n",
    "\n",
    "# #     print(api.development())\n",
    "# #     cv.imwrite(o+\".png\",image_)\n",
    "    \n",
    "# end_time = time.time()\n",
    "# print(\"total time : \", end_time - start_time, \"초\")"
   ]
  },
  {
   "cell_type": "code",
   "execution_count": null,
   "metadata": {},
   "outputs": [],
   "source": []
  },
  {
   "cell_type": "code",
   "execution_count": null,
   "metadata": {},
   "outputs": [],
   "source": []
  },
  {
   "cell_type": "code",
   "execution_count": null,
   "metadata": {},
   "outputs": [],
   "source": []
  },
  {
   "cell_type": "code",
   "execution_count": null,
   "metadata": {},
   "outputs": [],
   "source": []
  },
  {
   "cell_type": "code",
   "execution_count": null,
   "metadata": {},
   "outputs": [],
   "source": []
  },
  {
   "cell_type": "code",
   "execution_count": 5,
   "metadata": {},
   "outputs": [],
   "source": [
    "# 배경색처리 - 8번 오류\n",
    "# cv2.namedWindow(‘image’, cv2.WINDOW_NORMAL)\n",
    "\n",
    "def kim(i) :\n",
    "    file_name = str(i)\n",
    "    img = cv.imread(\"img/clothes_test/\"+file_name+\".jpg\")\n",
    "    #Load the Image\n",
    "    imgo = img\n",
    "    height, width = imgo.shape[:2]\n",
    "\n",
    "    #Create a mask holder\n",
    "    mask = np.zeros(imgo.shape[:2],np.uint8)\n",
    "\n",
    "    #Grab Cut the object\n",
    "    bgdModel = np.zeros((1,65),np.float64)\n",
    "    fgdModel = np.zeros((1,65),np.float64)\n",
    "\n",
    "    #Hard Coding the Rect… The object must lie within this rect.\n",
    "    rect = (10,10,width-30,height-30)\n",
    "    cv.grabCut(imgo,mask,rect,bgdModel,fgdModel,5,cv.GC_INIT_WITH_RECT)\n",
    "    mask = np.where((mask==2)|(mask==0),0,1).astype(\"uint8\")\n",
    "    img1 = imgo*mask[:,:,np.newaxis]\n",
    "\n",
    "    #Get the background\n",
    "    background = imgo-img1\n",
    "\n",
    "    #Change all pixels in the background that are not black to white\n",
    "    background[np.where((background > [0,0,0]).all(axis = 2))] = [255,255,255]\n",
    "\n",
    "    #Add the background and the image\n",
    "    final = background + img1\n",
    "\n",
    "    #To be done – Smoothening the edges….\n",
    "\n",
    "    # plt.imshow(\"image\", final )\n",
    "    cv.imwrite(\"img/clothes_test/ext_\"+file_name+\".jpg\", final)\n",
    "#     plt.imshow(final)\n",
    "#     plt.show()\n",
    "\n",
    "for i in range(31) :\n",
    "    kim(i)"
   ]
  },
  {
   "cell_type": "code",
   "execution_count": null,
   "metadata": {},
   "outputs": [],
   "source": []
  },
  {
   "cell_type": "code",
   "execution_count": null,
   "metadata": {},
   "outputs": [],
   "source": []
  },
  {
   "cell_type": "code",
   "execution_count": null,
   "metadata": {},
   "outputs": [],
   "source": []
  },
  {
   "cell_type": "code",
   "execution_count": null,
   "metadata": {},
   "outputs": [],
   "source": []
  },
  {
   "cell_type": "code",
   "execution_count": null,
   "metadata": {},
   "outputs": [],
   "source": []
  }
 ],
 "metadata": {
  "kernelspec": {
   "display_name": "Python 3",
   "language": "python",
   "name": "python3"
  },
  "language_info": {
   "codemirror_mode": {
    "name": "ipython",
    "version": 3
   },
   "file_extension": ".py",
   "mimetype": "text/x-python",
   "name": "python",
   "nbconvert_exporter": "python",
   "pygments_lexer": "ipython3",
   "version": "3.6.8"
  }
 },
 "nbformat": 4,
 "nbformat_minor": 4
}
