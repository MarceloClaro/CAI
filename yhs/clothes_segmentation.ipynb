{
 "cells": [
  {
   "cell_type": "markdown",
   "metadata": {},
   "source": [
    "### 옷 분리\n",
    "    \n",
    "    최초 작성일 : 20/03/09\n",
    "    작성자 : 양희승\n",
    "    \n",
    "    작성내용 : 무신사 이미지를 통해 옷 색깔 판별하기 위한 옷분리 코드\n",
    "    \n",
    "    \n",
    "    수정내용 :\n",
    "        전체 코드 수정\n",
    "        \n",
    "        20/03/20\n",
    "            - 분리코드 수정\n",
    "            - DB 적재 코드 추가\n",
    "            - 옷 색 판별 코드 추가\n",
    "            \n",
    "        20/03/23\n",
    "            - 분리코드 수정  이미지 RGBA -> 투명배경 흰색 처리\n",
    "            - DB연결\n",
    "            \n",
    "        20/03/24\n",
    "            - 옷 이미지 색 추출\n",
    "            - HSV 변환\n",
    "            - DB 적재 테스트"
   ]
  },
  {
   "cell_type": "code",
   "execution_count": 248,
   "metadata": {},
   "outputs": [
    {
     "name": "stderr",
     "output_type": "stream",
     "text": [
      "d:\\users\\yhs\\appdata\\local\\programs\\python\\python36\\lib\\site-packages\\tensorflow_core\\python\\client\\session.py:1752: UserWarning: An interactive session is already active. This can cause out-of-memory errors in some cases. You must explicitly call `InteractiveSession.close()` to release resources held by the other session(s).\n",
      "  warnings.warn('An interactive session is already active. This can '\n"
     ]
    }
   ],
   "source": [
    "import pymysql\n",
    "import cv2 as cv\n",
    "import numpy as np\n",
    "from tensorflow.keras.models import load_model\n",
    "import matplotlib.pyplot as plt\n",
    "import tensorflow as tf\n",
    "import sys\n",
    "import os\n",
    "import colour\n",
    "from sklearn.cluster import KMeans\n",
    "import utils\n",
    "import time\n",
    "from tensorflow.compat.v1 import ConfigProto\n",
    "from tensorflow.compat.v1 import InteractiveSession\n",
    "config = ConfigProto()\n",
    "config.gpu_options.allow_growth = True\n",
    "session = InteractiveSession(config=config)\n",
    "\n",
    "import warnings\n",
    "warnings.filterwarnings(action='ignore')"
   ]
  },
  {
   "cell_type": "code",
   "execution_count": 249,
   "metadata": {},
   "outputs": [
    {
     "name": "stdout",
     "output_type": "stream",
     "text": [
      "WARNING:tensorflow:No training configuration found in save file: the model was *not* compiled. Compile it manually.\n"
     ]
    }
   ],
   "source": [
    "# ## DB 연결 데이터 \n",
    "config = {\"host\":\"192.168.0.41\", \"user\":\"cai\", \"passwd\":\"1234\", \"db\":\"final\"}\n",
    "# config = {\"host\":\"49.142.181.65\", \"user\":\"cai\",\"passwd\":\"1234\", \"db\":\"final\"}\n",
    "conn = pymysql.connect(**config)\n",
    "\n",
    "# 모델, file name저장\n",
    "files = os.listdir(\"Fashion-AI/input/\")\n",
    "model = load_model(\"Fashion-AI/model/topwears.h5\")"
   ]
  },
  {
   "cell_type": "code",
   "execution_count": 241,
   "metadata": {},
   "outputs": [
    {
     "name": "stdout",
     "output_type": "stream",
     "text": [
      "2189\n"
     ]
    }
   ],
   "source": [
    "print(len(files))"
   ]
  },
  {
   "cell_type": "code",
   "execution_count": 250,
   "metadata": {},
   "outputs": [],
   "source": [
    "#  옷 분할\n",
    "class fashion_tools(object):\n",
    "    def __init__(self,imageid,version=1.1):\n",
    "        self.imageid = imageid\n",
    "        self.model = model\n",
    "        self.version = version\n",
    "        \n",
    "    def get_dress(self,stack=False):\n",
    "        name =  self.imageid\n",
    "        file = cv.imread(name)\n",
    "        file = tf.image.resize_with_pad(file,target_height=512,target_width=512)\n",
    "        rgb  = file.numpy()\n",
    "        file = np.expand_dims(file,axis=0)/ 255.\n",
    "        seq = self.model.predict(file)\n",
    "        seq = seq[3][0,:,:,0]\n",
    "        seq = np.expand_dims(seq,axis=-1)\n",
    "        c1x = rgb*seq\n",
    "        c2x = rgb*(1-seq)\n",
    "        cfx = c1x+c2x\n",
    "        dummy = np.ones((rgb.shape[0],rgb.shape[1],1))\n",
    "        rgbx = np.concatenate((rgb,dummy*255),axis=-1)\n",
    "        rgbs = np.concatenate((cfx,seq*255.),axis=-1)\n",
    "        if stack:\n",
    "            stacked = np.hstack((rgbx,rgbs))\n",
    "            return stacked\n",
    "        else:\n",
    "            alpha_val = np.zeros((512,512))\n",
    "            result = np.array(rgbs[:,:,0:3])\n",
    "            for i in range(len(rgbs[:,:,3])) :\n",
    "                for j in range(len(rgbs[:,:,3][i])):\n",
    "                    alpha_val[i][j] = round(rgbs[:,:,3][i][j], 2)\n",
    "            \n",
    "            for i in range(len(alpha_val)) :\n",
    "                for j in range(len(alpha_val[i])) :\n",
    "                    if (alpha_val[i][j] <= 0.95) :\n",
    "                        result[i][j][0] = 255.0\n",
    "                        result[i][j][1] = 255.0\n",
    "                        result[i][j][2] = 255.0\n",
    "                        \n",
    "            return result"
   ]
  },
  {
   "cell_type": "code",
   "execution_count": 228,
   "metadata": {},
   "outputs": [],
   "source": [
    "## 한번더 경계값 처리 \n",
    "def grab_cut(img) :\n",
    "    imgo = image_.astype('uint8')\n",
    "    height, width = imgo.shape[:2]\n",
    "\n",
    "    mask = np.zeros(imgo.shape[:2],np.uint8)\n",
    "\n",
    "    bgdModel = np.zeros((1,65),np.float64)\n",
    "    fgdModel = np.zeros((1,65),np.float64)\n",
    "\n",
    "    rect = (10,10,width-30,height-30)\n",
    "    cv.grabCut(imgo,mask,rect,bgdModel,fgdModel,5,cv.GC_INIT_WITH_RECT)\n",
    "    mask = np.where((mask==2)|(mask==0),0,1).astype(\"uint8\")\n",
    "    img1 = imgo*mask[:,:,np.newaxis]\n",
    "\n",
    "    background = imgo - img1\n",
    "\n",
    "    background[np.where((background > [0,0,0]).all(axis = 2))] = [255,255,255]\n",
    "\n",
    "    final = background + img1  ## BGR\n",
    "#     show_img = cv.cvtColor(final, cv.COLOR_BGR2RGB)  ## RGB\n",
    "#     plt.imshow(show_img)\n",
    "#     plt.show()\n",
    "    return final"
   ]
  },
  {
   "cell_type": "code",
   "execution_count": 229,
   "metadata": {},
   "outputs": [],
   "source": [
    "# 색에 대한 비율 표기\n",
    "def color_ratio(clt) :\n",
    "    numLabels = np.arange(0, len(np.unique(clt.labels_)) + 1)\n",
    "    (hist, _) = np.histogram(clt.labels_, bins=numLabels)\n",
    "    \n",
    "    hist = hist.astype(\"float\")\n",
    "    hist /= hist.sum()\n",
    "    \n",
    "    return hist"
   ]
  },
  {
   "cell_type": "code",
   "execution_count": 230,
   "metadata": {},
   "outputs": [],
   "source": [
    "# 단지 색 비율 그래프 나타내기 위함\n",
    "def plot_colors(hist, centroids):\n",
    "    # initialize the bar chart representing the relative frequency\n",
    "    # of each of the colors\n",
    "    bar = np.zeros((50, 300, 3), dtype = \"uint8\")\n",
    "    startX = 0\n",
    "\n",
    "    total = []\n",
    "    for i in range(len(hist)):\n",
    "        total.append((hist[i], centroids[i]))\n",
    "    total.sort(reverse=True)\n",
    "    for percent, color in total:\n",
    "        endX = startX + (percent * 300)\n",
    "        cv.rectangle(bar, (int(startX), 0), (int(endX), 50),\n",
    "            color.astype(\"uint8\").tolist(), -1)\n",
    "        startX = endX\n",
    "    \n",
    "    return bar\n"
   ]
  },
  {
   "cell_type": "code",
   "execution_count": 251,
   "metadata": {},
   "outputs": [
    {
     "name": "stdout",
     "output_type": "stream",
     "text": [
      "시작 숫자 입력 : 187\n",
      "종료 숫자 입력 : 500\n"
     ]
    }
   ],
   "source": [
    "start_idx = int(input(\"시작 숫자 입력 : \"))\n",
    "end_idx = int(input(\"종료 숫자 입력 : \"))\n",
    "# end_idx = len(files)"
   ]
  },
  {
   "cell_type": "code",
   "execution_count": 252,
   "metadata": {
    "scrolled": true
   },
   "outputs": [
    {
     "name": "stdout",
     "output_type": "stream",
     "text": [
      "155478  에러\n",
      "-155479  에러\n",
      "----------------------------161610  에러\n",
      "--------------------------------------------------------------------------------------------------------------------------------------------------------------------------------------------------------------------------------------------------------------------------------------------total time :  2721.9790885448456 초\n"
     ]
    }
   ],
   "source": [
    "start_time = time.time()\n",
    "\n",
    "for i in range(start_idx, end_idx) :\n",
    "    \n",
    "#     f = \"Fashion-AI/input/27651.jpg\"    \n",
    "    prdt_code = files[i].replace(\".jpg\", \"\")\n",
    "    f = \"Fashion-AI/input/\"+files[i]\n",
    "    o = \"Fashion-AI/output/\"+prdt_code\n",
    "\n",
    "    api    = fashion_tools(f, model)    \n",
    "    try :\n",
    "        image_ = api.get_dress(False)    \n",
    "    except ValueError :\n",
    "        print(prdt_code, \" 에러\")\n",
    "        \n",
    "    ####### 코드 제일 느린부분######\n",
    "    image_grab = grab_cut(image_)\n",
    "    ################################  속도처리 요망\n",
    "    \n",
    "    \n",
    "    img = cv.cvtColor(image_grab, cv.COLOR_BGR2RGB)\n",
    "    img = img.reshape((img.shape[0]*img.shape[1], 3))\n",
    "    clt = KMeans(n_clusters=5)\n",
    "    clt.fit(img)\n",
    "    \n",
    "    hist = color_ratio(clt)\n",
    "    temp = np.array(clt.cluster_centers_)\n",
    "    delete_idx = 0\n",
    "    for i in range(0, len(temp)) :\n",
    "        check_color = (color[i][0] >= 254) and (color[i][1] >= 254) and (color[i][2] >= 254)\n",
    "        if check_color :\n",
    "            delete_idx = i        \n",
    "\n",
    "    hist = np.delete(hist, delete_idx)\n",
    "    temp = np.delete(temp, delete_idx, 0)\n",
    "    \n",
    "    max_idx = hist.argmax()\n",
    "    \n",
    "    rgb_color = temp[max_idx]\n",
    "    arr_RGB_color = np.array(rgb_color)\n",
    "    float_arr_RGB_color = arr_RGB_color / 255\n",
    "    float_tp_RGB_color = tuple(float_arr_RGB_color)\n",
    "    HSV_color = colour.RGB_to_HSV(float_tp_RGB_color)\n",
    "\n",
    "\n",
    "    HSV_color2 = np.array([round(HSV_color[0]*359, 3), round(HSV_color[1] * 100, 3), round(HSV_color[2] * 100, 3)])\n",
    "\n",
    "    h = str(round(HSV_color2[0], 2))\n",
    "    s = str(round(HSV_color2[1], 2))\n",
    "    v = str(round(HSV_color2[2], 2))\n",
    "    \n",
    "    # DB 적재\n",
    "    cursor = conn.cursor();\n",
    "    sql = \"UPDATE PRDT_IMAGE SET H={},S={},V={} WHERE PRDT_CODE={}\".format(h,s,v, prdt_code)\n",
    "    cursor.execute(sql)\n",
    "    conn.commit()\n",
    "\n",
    "    #해당파일 기록\n",
    "    fw = open(\"Fashion-AI/input/result/\"+prdt_code+\".txt\", 'w')\n",
    "    fw.write(\"h   s   v\\n\")\n",
    "    fw.write(h + \"   \" + s + \"   \" + v)\n",
    "    fw.close()\n",
    "    print(\"-\",end=\"\")\n",
    "    if(i%100 == 1) :\n",
    "        print(i + \" 개 완료\")\n",
    "    \n",
    "end_time = time.time()\n",
    "print(\"total time : \", end_time - start_time, \"초\")\n",
    "\n",
    "cursor.close()\n"
   ]
  },
  {
   "cell_type": "code",
   "execution_count": null,
   "metadata": {},
   "outputs": [],
   "source": []
  },
  {
   "cell_type": "code",
   "execution_count": null,
   "metadata": {},
   "outputs": [],
   "source": []
  },
  {
   "cell_type": "code",
   "execution_count": null,
   "metadata": {},
   "outputs": [],
   "source": []
  },
  {
   "cell_type": "code",
   "execution_count": null,
   "metadata": {},
   "outputs": [],
   "source": []
  },
  {
   "cell_type": "markdown",
   "metadata": {},
   "source": [
    "# 밑에는 테스트용 코드"
   ]
  },
  {
   "cell_type": "code",
   "execution_count": 212,
   "metadata": {
    "scrolled": false
   },
   "outputs": [
    {
     "data": {
      "image/png": "[encoded data removed]",
      "text/plain": [
       "<Figure size 432x288 with 1 Axes>"
      ]
     },
     "metadata": {
      "needs_background": "light"
     },
     "output_type": "display_data"
    }
   ],
   "source": [
    "f = \"Fashion-AI/input/27651.jpg\"\n",
    "o = \"Fashion-AI/output/\"+files[i].replace(\".jpg\", \"\")\n",
    "api    = fashion_tools(f, model)    \n",
    "image_ = api.get_dress(False)\n",
    "image_grab = grab_cut(image_)"
   ]
  },
  {
   "cell_type": "code",
   "execution_count": 213,
   "metadata": {},
   "outputs": [
    {
     "data": {
      "text/plain": [
       "KMeans(algorithm='auto', copy_x=True, init='k-means++', max_iter=300,\n",
       "       n_clusters=5, n_init=10, n_jobs=None, precompute_distances='auto',\n",
       "       random_state=None, tol=0.0001, verbose=0)"
      ]
     },
     "execution_count": 213,
     "metadata": {},
     "output_type": "execute_result"
    }
   ],
   "source": [
    "img = cv.cvtColor(image_grab, cv.COLOR_BGR2RGB)\n",
    "# img = image_grab\n",
    "img = img.reshape((img.shape[0]*img.shape[1], 3))\n",
    "clt = KMeans(n_clusters=5)\n",
    "clt.fit(img)"
   ]
  },
  {
   "cell_type": "code",
   "execution_count": 217,
   "metadata": {},
   "outputs": [
    {
     "name": "stdout",
     "output_type": "stream",
     "text": [
      "[ 254.97014758  254.96514104  254.95839342  255.        ]\n",
      "작동됨? 1\n",
      "[ 0.26784515  0.04176712  0.14961243  0.03026581]\n",
      "[[   4.32380722    3.7334492     3.76990583]\n",
      " [  86.32723596   75.54334038   66.85485798]\n",
      " [  36.53187757   32.79851543   31.78181402]\n",
      " [ 172.08106741  145.97736183  109.61540407]]\n"
     ]
    }
   ],
   "source": [
    "hist = color_ratio(clt)\n",
    "temp = np.array(clt.cluster_centers_)\n",
    "delete_idx = 0\n",
    "for i in range(0, len(temp)) :\n",
    "    check_color = (color[i][0] >= 254) and (color[i][1] >= 254) and (color[i][2] >= 254)\n",
    "    if check_color :\n",
    "        print(color[i])\n",
    "        print(\"작동됨?\", i)\n",
    "        delete_idx = i        \n",
    "\n",
    "hist = np.delete(hist, delete_idx)\n",
    "temp = np.delete(temp, delete_idx, 0)\n",
    "print(hist)\n",
    "print(temp)"
   ]
  },
  {
   "cell_type": "code",
   "execution_count": 215,
   "metadata": {},
   "outputs": [
    {
     "data": {
      "image/png": "[encoded data removed]",
      "text/plain": [
       "<Figure size 432x288 with 1 Axes>"
      ]
     },
     "metadata": {
      "needs_background": "light"
     },
     "output_type": "display_data"
    }
   ],
   "source": [
    "# 그래프임 무시해도 괜찮\n",
    "bar = plot_colors(hist, temp)  \n",
    "plt.figure()\n",
    "plt.axis(\"off\")\n",
    "plt.imshow(bar)\n",
    "plt.show()"
   ]
  },
  {
   "cell_type": "code",
   "execution_count": 218,
   "metadata": {},
   "outputs": [],
   "source": [
    "# 제일 높은 수치만 뽑기\n",
    "max_idx = hist.argmax()\n",
    "# print(\"수치 : \", hist[max_idx])\n",
    "# print(\"색(RGB) : \", temp[max_idx][0:3])"
   ]
  },
  {
   "cell_type": "code",
   "execution_count": 219,
   "metadata": {},
   "outputs": [
    {
     "name": "stdout",
     "output_type": "stream",
     "text": [
      "355.3 13.65 1.7\n"
     ]
    }
   ],
   "source": [
    "# RGB -> HSV 변환\n",
    "rgb_color = temp[max_idx]\n",
    "arr_RGB_color = np.array(rgb_color)\n",
    "float_arr_RGB_color = arr_RGB_color / 255\n",
    "float_tp_RGB_color = tuple(float_arr_RGB_color)\n",
    "HSV_color = colour.RGB_to_HSV(float_tp_RGB_color)\n",
    "\n",
    "\n",
    "HSV_color2 = np.array([round(HSV_color[0]*359, 3), round(HSV_color[1] * 100, 3), round(HSV_color[2] * 100, 3)])\n",
    "\n",
    "# print(\"HSV 값 : \", HSV_color2)\n",
    "\n",
    "h = str(round(HSV_color2[0], 2))\n",
    "s = str(round(HSV_color2[1], 2))\n",
    "v = str(round(HSV_color2[2], 2))\n",
    "print(h,s,v)\n"
   ]
  },
  {
   "cell_type": "code",
   "execution_count": 225,
   "metadata": {},
   "outputs": [],
   "source": [
    "# DB 적재\n",
    "cursor = conn.cursor();\n",
    "prdt_code = \"27651\"\n",
    "sql = \"UPDATE PRDT_IMAGE SET H={},S={},V={} WHERE PRDT_CODE={}\".format(h,s,v, prdt_code)\n",
    "cursor.execute(sql)\n",
    "conn.commit()\n"
   ]
  },
  {
   "cell_type": "code",
   "execution_count": null,
   "metadata": {},
   "outputs": [],
   "source": []
  }
 ],
 "metadata": {
  "kernelspec": {
   "display_name": "Python 3",
   "language": "python",
   "name": "python3"
  },
  "language_info": {
   "codemirror_mode": {
    "name": "ipython",
    "version": 3
   },
   "file_extension": ".py",
   "mimetype": "text/x-python",
   "name": "python",
   "nbconvert_exporter": "python",
   "pygments_lexer": "ipython3",
   "version": "3.6.8"
  }
 },
 "nbformat": 4,
 "nbformat_minor": 4
}
