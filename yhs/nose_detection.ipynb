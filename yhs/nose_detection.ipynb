{
 "cells": [
  {
   "cell_type": "code",
   "execution_count": 1,
   "metadata": {},
   "outputs": [],
   "source": [
    "import cv2 as cv\n",
    "import numpy as np"
   ]
  },
  {
   "cell_type": "code",
   "execution_count": 12,
   "metadata": {},
   "outputs": [
    {
     "data": {
      "text/plain": [
       "-1"
      ]
     },
     "execution_count": 12,
     "metadata": {},
     "output_type": "execute_result"
    }
   ],
   "source": [
    "\n",
    "file_name = \"origin\"\n",
    "img = cv.imread(\"img/\"+file_name+\".jpg\")\n",
    "gray = cv.cvtColor(img, cv.COLOR_BGR2GRAY) \n",
    "\n",
    "import sys\n",
    "import cv2\n",
    "\n",
    "# Create the haar cascade\n",
    "noseCascade = cv2.CascadeClassifier(\"data/haarcascade_mcs_nose.xml\")\n",
    "\n",
    "\n",
    "# roi_gray = gray[y:y+h, x:x+w]\n",
    "# roi_color = img[y:y+h, x:x+w]\n",
    "nose = noseCascade.detectMultiScale(gray, scaleFactor=1.3)\n",
    "for (ex,ey,ew,eh) in nose:\n",
    "    cv2.rectangle(img,(ex,ey),(ex+ew,ey+eh),(0,255,0),2)\n",
    "cv2.imshow(\"Nose found\" ,img)\n",
    "cv2.waitKey(0) \n",
    "    "
   ]
  },
  {
   "cell_type": "code",
   "execution_count": null,
   "metadata": {},
   "outputs": [],
   "source": []
  }
 ],
 "metadata": {
  "kernelspec": {
   "display_name": "Python 3",
   "language": "python",
   "name": "python3"
  },
  "language_info": {
   "codemirror_mode": {
    "name": "ipython",
    "version": 3
   },
   "file_extension": ".py",
   "mimetype": "text/x-python",
   "name": "python",
   "nbconvert_exporter": "python",
   "pygments_lexer": "ipython3",
   "version": "3.6.8"
  }
 },
 "nbformat": 4,
 "nbformat_minor": 4
}
