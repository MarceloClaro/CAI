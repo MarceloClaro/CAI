{
 "cells": [
  {
   "cell_type": "markdown",
   "metadata": {},
   "source": [
    "# 얼굴 인식을 통한 사진 분류\n",
    "    최초 작성일 : 20/03/01\n",
    "    작성자 : 양희승\n",
    "\n",
    "    작성내용 : 기본 사이즈 변경\n",
    "               얼굴 인식으로 사진 분류\n",
    "               얼굴 크롭해서 저장"
   ]
  },
  {
   "cell_type": "code",
   "execution_count": 1,
   "metadata": {},
   "outputs": [],
   "source": [
    "import cv2 as cv\n",
    "import numpy as np\n",
    "import matplotlib.pyplot as plt"
   ]
  },
  {
   "cell_type": "code",
   "execution_count": 2,
   "metadata": {},
   "outputs": [],
   "source": [
    "def resizer(img):\n",
    "    h, w, c = img.shape\n",
    "    \n",
    "    if h == 60 :\n",
    "        re_img = img\n",
    "    else :\n",
    "        tmp = 60/h\n",
    "        re_img = cv.resize(img, dsize=(0, 0), fx= tmp, fy= tmp, interpolation=cv.INTER_LINEAR)\n",
    "        \n",
    "\n",
    "    return re_img"
   ]
  },
  {
   "cell_type": "code",
   "execution_count": 3,
   "metadata": {},
   "outputs": [],
   "source": [
    "def photo_sorter(origin_img, file_name) :\n",
    "    h, w, c = origin_img.shape\n",
    "\n",
    "    if (h > 600) or (w > 600) :\n",
    "        if h < w :\n",
    "            tmp = round(600/w, 3)\n",
    "        elif h > w :\n",
    "            tmp = round(600/h, 3)\n",
    "        else :\n",
    "            tmp = round(600/h, 3)\n",
    "\n",
    "        re_img = cv.resize(origin_img, dsize=(0, 0), fx= tmp, fy= tmp, interpolation=cv.INTER_LINEAR)\n",
    "    else :\n",
    "        re_img = origin_img\n",
    "    \n",
    "    gray = cv.cvtColor(re_img, cv.COLOR_BGR2GRAY) \n",
    "    faces = faceCascade.detectMultiScale(gray, scaleFactor=1.3, minNeighbors=5, minSize=(30, 30))\n",
    "\n",
    "    \n",
    "    if len(faces) > 0 :\n",
    "        for i in range(len(faces)):\n",
    "            x, y, w, h = faces[i]\n",
    "            crop_img = re_img[y:y+h, x:x+w]\n",
    "            re_crop_img = resizer(crop_img)\n",
    "            cv.imwrite(\"img/\"+file_name+\"_\"+str(i)+\".jpg\", re_crop_img)\n",
    "    else :\n",
    "        pass"
   ]
  },
  {
   "cell_type": "code",
   "execution_count": 6,
   "metadata": {},
   "outputs": [
    {
     "name": "stdout",
     "output_type": "stream",
     "text": [
      "완료 뜰 때까지 기다리세요\n",
      "완료\n"
     ]
    }
   ],
   "source": [
    "print(\"완료 뜰 때까지 기다리세요\")\n",
    "faceCascade = cv.CascadeClassifier('data/haarcascade_frontface.xml') \n",
    "\n",
    "for i in range(0, 4, 1) :\n",
    "    file_name = \"sorter_test\"+str(i)\n",
    "    img = cv.imread(\"img/\"+file_name+\".jpg\")\n",
    "#     plt.imshow(img)\n",
    "#     plt.show()\n",
    "    photo_sorter(img, file_name)\n",
    "print(\"완료\")"
   ]
  },
  {
   "cell_type": "code",
   "execution_count": null,
   "metadata": {},
   "outputs": [],
   "source": []
  },
  {
   "cell_type": "code",
   "execution_count": null,
   "metadata": {},
   "outputs": [],
   "source": []
  },
  {
   "cell_type": "code",
   "execution_count": null,
   "metadata": {},
   "outputs": [],
   "source": []
  }
 ],
 "metadata": {
  "kernelspec": {
   "display_name": "Python 3",
   "language": "python",
   "name": "python3"
  },
  "language_info": {
   "codemirror_mode": {
    "name": "ipython",
    "version": 3
   },
   "file_extension": ".py",
   "mimetype": "text/x-python",
   "name": "python",
   "nbconvert_exporter": "python",
   "pygments_lexer": "ipython3",
   "version": "3.6.8"
  }
 },
 "nbformat": 4,
 "nbformat_minor": 4
}
