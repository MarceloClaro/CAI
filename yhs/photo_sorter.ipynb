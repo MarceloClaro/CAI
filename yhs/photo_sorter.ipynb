{
 "cells": [
  {
   "cell_type": "markdown",
   "metadata": {},
   "source": [
    "# 얼굴 인식을 통한 사진 분류\n",
    "    최초 작성일 : 20/03/01\n",
    "    작성자 : 양희승\n",
    "\n",
    "    작성내용 : 기본 사이즈 변경\n",
    "               얼굴 인식으로 사진 분류\n",
    "               얼굴 크롭해서 저장\n",
    "               \n",
    "    수정내용\n",
    "        20/03/02\n",
    "            - 사진의 갯수가 많아질수록 느려지므로 \n",
    "                멀티스레드\n",
    "                멀티프로세싱 테스트\n",
    "            - 사진 화질 개선\n",
    "            - 저장 포멧 변경  JPG -> png "
   ]
  },
  {
   "cell_type": "code",
   "execution_count": 2,
   "metadata": {},
   "outputs": [],
   "source": [
    "import cv2 as cv\n",
    "import numpy as np\n",
    "import matplotlib.pyplot as plt\n",
    "from threading import Thread\n",
    "import multiprocessing\n",
    "import timeit"
   ]
  },
  {
   "cell_type": "markdown",
   "metadata": {},
   "source": [
    "## 함수"
   ]
  },
  {
   "cell_type": "code",
   "execution_count": 10,
   "metadata": {},
   "outputs": [],
   "source": [
    "def resizer(img):\n",
    "    h, w, c = img.shape\n",
    "    \n",
    "    if h == 200 :\n",
    "        re_img = img\n",
    "    else :\n",
    "        tmp = 200/h\n",
    "        re_img = cv.resize(img, dsize=(0, 0), fx= tmp, fy= tmp, interpolation=cv.INTER_LINEAR)\n",
    "        \n",
    "\n",
    "    return re_img"
   ]
  },
  {
   "cell_type": "code",
   "execution_count": 11,
   "metadata": {},
   "outputs": [],
   "source": [
    "def photo_sorter(origin_img, file_name) :\n",
    "    h, w, c = origin_img.shape\n",
    "\n",
    "    if (h > 2000) or (w > 2000) :\n",
    "        if h < w :\n",
    "            tmp = round(2000/w, 3)\n",
    "        elif h > w :\n",
    "            tmp = round(2000/h, 3)\n",
    "        else :\n",
    "            tmp = round(2000/h, 3)\n",
    "\n",
    "        re_img = cv.resize(origin_img, dsize=(0, 0), fx= tmp, fy= tmp, interpolation=cv.INTER_LINEAR)\n",
    "    else :\n",
    "        re_img = origin_img\n",
    "    \n",
    "    gray = cv.cvtColor(re_img, cv.COLOR_BGR2GRAY) \n",
    "    faces = faceCascade.detectMultiScale(gray, scaleFactor=1.3, minNeighbors=5, minSize=(50, 50))\n",
    "\n",
    "    \n",
    "    if len(faces) > 0 :\n",
    "        for i in range(len(faces)):\n",
    "            x, y, w, h = faces[i]\n",
    "            crop_img = re_img[y:y+h, x:x+w]\n",
    "            re_crop_img = resizer(crop_img)\n",
    "            cv.imwrite(\"crop/\"+file_name+\"_\"+str(i)+\".png\", re_crop_img)\n",
    "    else :\n",
    "        pass"
   ]
  },
  {
   "cell_type": "code",
   "execution_count": 12,
   "metadata": {},
   "outputs": [],
   "source": [
    "def get_count(num, p=4) :\n",
    "    lists = []\n",
    "    allocate = int(num/p)\n",
    "    for n in range(p) :\n",
    "        lists.append(allocate)\n",
    "        \n",
    "    lists[p-1] += num%p\n",
    "    print(\"프로세스 할당량 :\", lists)\n",
    "    return lists"
   ]
  },
  {
   "cell_type": "code",
   "execution_count": 15,
   "metadata": {},
   "outputs": [],
   "source": [
    "def work(a, b):\n",
    "    for i in range(a, b, 1) :\n",
    "        file_name = \"img (\"+str(i) + \")\"\n",
    "        img = cv.imread(\"photo/\"+file_name+\".JPG\")\n",
    "    #     plt.imshow(img)\n",
    "    #     plt.show()\n",
    "        photo_sorter(img, file_name)\n",
    "            \n",
    "        if i%100 == 0 :\n",
    "            print(file_name, \"까지 완료\")\n",
    "        elif i%3==0 :\n",
    "            print(\"-\", end=\"\")\n",
    "    return 0\n",
    "\n",
    "#     file_name = \"img (\"+str(i) + \")\"\n",
    "#     img = cv.imread(\"photo/\"+file_name+\".JPG\")\n",
    "#     photo_sorter(img, file_name)\n",
    "\n",
    "#     if i%100 == 0 :\n",
    "#         print(file_name, \"까지 완료\")\n",
    "#     elif i%3==0 :\n",
    "#         print(\"-\", end=\"\")\n",
    "    "
   ]
  },
  {
   "cell_type": "markdown",
   "metadata": {},
   "source": [
    "## 코딩 실행 테스트용"
   ]
  },
  {
   "cell_type": "code",
   "execution_count": 6,
   "metadata": {},
   "outputs": [
    {
     "name": "stdout",
     "output_type": "stream",
     "text": [
      "완료 뜰 때까지 기다리세요\n",
      "---------------------------------총 걸린시간 :  44.0 초\n",
      "완료\n"
     ]
    }
   ],
   "source": [
    "## 테스트용  \n",
    "## 코드 잘 되나??  -> 잘되넹\n",
    "## 화질 좋아졌나?? -> 좋아졌넹 -> 다만 용량이 좀 늘어났다\n",
    "\n",
    "start = timeit.default_timer()\n",
    "faceCascade = cv.CascadeClassifier('data/haarcascade_frontface.xml') \n",
    "print(\"완료 뜰 때까지 기다리세요\")\n",
    "\n",
    "work(1, 100)\n",
    "stop = timeit.default_timer()\n",
    "end = round(stop - start, 0)\n",
    "print(\"총 걸린시간 : \", end,\"초\")\n",
    "print(\"완료\")"
   ]
  },
  {
   "cell_type": "markdown",
   "metadata": {},
   "source": [
    "## 테스트용 (6511장)\n",
    "\n",
    "    멀티스레드 사용시\n",
    "    멀티스레드 사용 안할시 \n",
    "    \n",
    "    시간 차이 검토"
   ]
  },
  {
   "cell_type": "code",
   "execution_count": null,
   "metadata": {},
   "outputs": [
    {
     "name": "stdout",
     "output_type": "stream",
     "text": [
      "완료 뜰 때까지 기다리세요\n"
     ]
    }
   ],
   "source": [
    "# 테스트용 !!! \n",
    "# 멀티스레드 사용\n",
    "\n",
    "# 엥? 왜 죽어버리지\n",
    "\n",
    "start = timeit.default_timer()\n",
    "print(\"완료 뜰 때까지 기다리세요\")\n",
    "faceCascade = cv.CascadeClassifier('data/haarcascade_frontface.xml') \n",
    "\n",
    "\n",
    "# th1 = Thread(target=work, args=(1, 1626))\n",
    "# th2 = Thread(target=work, args=(1626, 3251))\n",
    "# th3 = Thread(target=work, args=(3251, 4876))\n",
    "# th4 = Thread(target=work, args=(4876, 6512))\n",
    "\n",
    "# th1 = Thread(target=work, args=(1, 26))\n",
    "# th2 = Thread(target=work, args=(26, 51))\n",
    "# th3 = Thread(target=work, args=(51, 76))\n",
    "# th4 = Thread(target=work, args=(76, 101))\n",
    "\n",
    "th1 = Thread(target=work, args=(1, 2170))\n",
    "th2 = Thread(target=work, args=(2170, 4340))\n",
    "th3 = Thread(target=work, args=(4340, 6511))\n",
    "\n",
    "\n",
    "th1.start()\n",
    "th2.start()\n",
    "th3.start()\n",
    "# th4.start()\n",
    "\n",
    "th1.join()\n",
    "th2.join()\n",
    "th3.join()\n",
    "# th4.join()\n",
    "\n",
    "stop = timeit.default_timer()\n",
    "end = round(stop - start, 0)\n",
    "print(\"총 걸린시간 : \", end,\"초\")\n",
    "print(\"완료\")"
   ]
  },
  {
   "cell_type": "code",
   "execution_count": 16,
   "metadata": {},
   "outputs": [
    {
     "name": "stdout",
     "output_type": "stream",
     "text": [
      "완료 뜰 때까지 기다리세요\n",
      "프로세스 할당량 : [2170, 2170, 2171]\n",
      "실행 범위 1 ~ 2171\n",
      "실행 범위 2171 ~ 4341\n",
      "실행 범위 4341 ~ 6512\n",
      "총 걸린시간 :  0.0 초\n",
      "완료\n"
     ]
    }
   ],
   "source": [
    "# 멀티 프로세싱   --- 인터프리터에서는 작동이 되지 않는다. 즉 쥬피터에선 사용 불가\n",
    "\n",
    "# 파이참을 이용할 것\n",
    "\n",
    "start = timeit.default_timer()\n",
    "print(\"완료 뜰 때까지 기다리세요\")\n",
    "faceCascade = cv.CascadeClassifier('data/haarcascade_frontface.xml') \n",
    "\n",
    "num = int(6511)\n",
    "process_num = 3\n",
    "\n",
    "process = []\n",
    "start_num = 1\n",
    "end_num = 1\n",
    "\n",
    "\n",
    "for count in get_count(num, process_num) :\n",
    "    end_num += count\n",
    "    print(\"실행 범위\", start_num, \"~\", end_num)\n",
    "    p = multiprocessing.Process(target=work, args=(start_num, end_num))\n",
    "    start_num += count\n",
    "    process.append(p)\n",
    "    p.start()\n",
    "    \n",
    "for p in process :\n",
    "    p.join\n",
    "\n",
    "\n",
    "stop = timeit.default_timer()\n",
    "end = round(stop - start, 0)\n",
    "print(\"총 걸린시간 : \", end,\"초\")\n",
    "print(\"완료\")"
   ]
  },
  {
   "cell_type": "code",
   "execution_count": 25,
   "metadata": {},
   "outputs": [
    {
     "name": "stdout",
     "output_type": "stream",
     "text": [
      "완료 뜰 때까지 기다리세요\n",
      "---------------------------------img (100) 까지 완료\n",
      "---------------------------------img (200) 까지 완료\n",
      "---------------------------------img (300) 까지 완료\n",
      "---------------------------------img (400) 까지 완료\n",
      "---------------------------------img (500) 까지 완료\n",
      "---------------------------------img (600) 까지 완료\n",
      "---------------------------------img (700) 까지 완료\n",
      "---------------------------------img (800) 까지 완료\n",
      "---------------------------------img (900) 까지 완료\n",
      "---------------------------------img (1000) 까지 완료\n",
      "---------------------------------img (1100) 까지 완료\n",
      "---------------------------------img (1200) 까지 완료\n",
      "---------------------------------img (1300) 까지 완료\n",
      "---------------------------------img (1400) 까지 완료\n",
      "---------------------------------img (1500) 까지 완료\n",
      "---------------------------------img (1600) 까지 완료\n",
      "---------------------------------img (1700) 까지 완료\n",
      "---------------------------------img (1800) 까지 완료\n",
      "---------------------------------img (1900) 까지 완료\n",
      "---------------------------------img (2000) 까지 완료\n",
      "---------------------------------img (2100) 까지 완료\n",
      "---------------------------------img (2200) 까지 완료\n",
      "---------------------------------img (2300) 까지 완료\n",
      "---------------------------------img (2400) 까지 완료\n",
      "---------------------------------img (2500) 까지 완료\n",
      "---------------------------------img (2600) 까지 완료\n",
      "---------------------------------img (2700) 까지 완료\n",
      "---------------------------------img (2800) 까지 완료\n",
      "---------------------------------img (2900) 까지 완료\n",
      "---------------------------------img (3000) 까지 완료\n",
      "---------------------------------img (3100) 까지 완료\n",
      "---------------------------------img (3200) 까지 완료\n",
      "---------------------------------img (3300) 까지 완료\n",
      "---------------------------------img (3400) 까지 완료\n",
      "---------------------------------img (3500) 까지 완료\n",
      "---------------------------------img (3600) 까지 완료\n",
      "---------------------------------img (3700) 까지 완료\n",
      "---------------------------------img (3800) 까지 완료\n",
      "---------------------------------img (3900) 까지 완료\n",
      "---------------------------------img (4000) 까지 완료\n",
      "---------------------------------img (4100) 까지 완료\n",
      "---------------------------------img (4200) 까지 완료\n",
      "---------------------------------img (4300) 까지 완료\n",
      "---------------------------------img (4400) 까지 완료\n",
      "---------------------------------img (4500) 까지 완료\n",
      "---------------------------------img (4600) 까지 완료\n",
      "---------------------------------img (4700) 까지 완료\n",
      "---------------------------------img (4800) 까지 완료\n",
      "---------------------------------img (4900) 까지 완료\n",
      "---------------------------------img (5000) 까지 완료\n",
      "---------------------------------img (5100) 까지 완료\n",
      "---------------------------------img (5200) 까지 완료\n",
      "---------------------------------img (5300) 까지 완료\n",
      "---------------------------------img (5400) 까지 완료\n",
      "---------------------------------img (5500) 까지 완료\n",
      "---------------------------------img (5600) 까지 완료\n",
      "---------------------------------img (5700) 까지 완료\n",
      "---------------------------------img (5800) 까지 완료\n",
      "---------------------------------img (5900) 까지 완료\n",
      "---------------------------------img (6000) 까지 완료\n",
      "---------------------------------img (6100) 까지 완료\n",
      "---------------------------------img (6200) 까지 완료\n",
      "---------------------------------img (6300) 까지 완료\n",
      "---------------------------------img (6400) 까지 완료\n",
      "---------------------------------img (6500) 까지 완료\n",
      "----총 걸린시간 :  3617.0 초\n",
      "완료\n"
     ]
    }
   ],
   "source": [
    "## 테스트용 (멀티스레드 사용 안했을시)\n",
    "\n",
    "print(\"완료 뜰 때까지 기다리세요\")\n",
    "faceCascade = cv.CascadeClassifier('data/haarcascade_frontface.xml') \n",
    "work(1, 6512)\n",
    "stop = timeit.default_timer()\n",
    "end = round(stop - start, 0)\n",
    "print(\"총 걸린시간 : \", end,\"초\")\n",
    "print(\"완료\")"
   ]
  }
 ],
 "metadata": {
  "kernelspec": {
   "display_name": "Python 3",
   "language": "python",
   "name": "python3"
  },
  "language_info": {
   "codemirror_mode": {
    "name": "ipython",
    "version": 3
   },
   "file_extension": ".py",
   "mimetype": "text/x-python",
   "name": "python",
   "nbconvert_exporter": "python",
   "pygments_lexer": "ipython3",
   "version": "3.6.8"
  }
 },
 "nbformat": 4,
 "nbformat_minor": 4
}
