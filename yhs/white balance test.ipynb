{
 "cells": [
  {
   "cell_type": "markdown",
   "metadata": {},
   "source": [
    "### 사진 화이트 밸런스 변환기\n",
    "    \n",
    "    최초 작성일 : 2/9\n",
    "    작성자 : 양희승\n",
    "    \n",
    "    내용 : 사진의 빛이 다르기 때문에 하나로 정리할 화이트 밸런스 변환하는 코드\n",
    "    \n",
    "    현재 테스트 단계"
   ]
  },
  {
   "cell_type": "code",
   "execution_count": 2,
   "metadata": {},
   "outputs": [],
   "source": [
    "# 설치\n",
    "#  sudo apt-get install python-opencv  \n",
    "# !pip install opencv-python  #메인모듈만\n",
    "# !pip install opencv-contrib-python  #기본 및 contrib 모듈이 모두 필요한 경우\n",
    "\n",
    "# 임포트가 안된다면\n",
    "# sudo -H python -m pip install opencv-python \n",
    "import cv2 as cv\n",
    "import numpy as np"
   ]
  },
  {
   "cell_type": "code",
   "execution_count": 3,
   "metadata": {},
   "outputs": [],
   "source": [
    "def show(final):\n",
    "    print('display')\n",
    "    cv.imshow(\"Temple\", final)\n",
    "    cv.waitKey(0)\n",
    "    cv.destroyAllWindows()\n",
    "\n",
    "def saveimg(final) :\n",
    "    print('saving')\n",
    "    cv.imwrite(\"result.jpg\", final)"
   ]
  },
  {
   "cell_type": "code",
   "execution_count": 1,
   "metadata": {},
   "outputs": [],
   "source": [
    "# #Insert anyfilenmae with path\n",
    "# img = cv.imread(\"img/1.jpg\")\n",
    "# res = img\n",
    "# final = cv.cvtColor(res, cv.COLOR_BGR2LAB)\n",
    "\n",
    "\n",
    "# avg_a = -np.average(final[:,:,1])\n",
    "# avg_b = -np.average(final[:,:,2])\n",
    "\n",
    "# for x in range(final.shape[0]) :\n",
    "#     for y in range(final.shape[1]) :\n",
    "#         l, a, b = final[x][y]\n",
    "#         shift_a =avg_a * (1/100.0) * 1.1\n",
    "#         shift_b =avg_b * (1/100.0) * 1.1\n",
    "#         final[x][y][1]= a + shift_a\n",
    "#         final[x][y][2]= b + shift_b\n",
    "        \n",
    "# final = cv.cvtColor(final, cv.COLOR_LAB2BGR)\n",
    "# final = np.hstack((res, final))\n",
    "# show(final)\n",
    "# saveimg(final)\n"
   ]
  },
  {
   "cell_type": "code",
   "execution_count": 4,
   "metadata": {},
   "outputs": [],
   "source": [
    "def wb_conversion(img) :\n",
    "    result = cv.cvtColor(img, cv.COLOR_BGR2LAB)\n",
    "    avg_a = np.average(result[:, :, 1])\n",
    "    avg_b = np.average(result[:, :, 2])\n",
    "    result[:, :, 1] = result[:, :, 1] - ((avg_a - 128) * (result[:, :, 0] / 255.0) * 1.1)\n",
    "    result[:, :, 2] = result[:, :, 2] - ((avg_b - 128) * (result[:, :, 0] / 255.0) * 1.1)\n",
    "    result = cv.cvtColor(result, cv.COLOR_LAB2BGR)\n",
    "    return result"
   ]
  },
  {
   "cell_type": "code",
   "execution_count": 14,
   "metadata": {},
   "outputs": [
    {
     "name": "stdout",
     "output_type": "stream",
     "text": [
      "높이 :  1080\n",
      "가로 :  1440\n",
      "채널 :  3\n"
     ]
    },
    {
     "data": {
      "text/plain": [
       "True"
      ]
     },
     "execution_count": 14,
     "metadata": {},
     "output_type": "execute_result"
    }
   ],
   "source": [
    "#Insert anyfilenmae with path\n",
    "img = cv.imread(\"img/5.jpg\")\n",
    "wb_img = wb_conversion(img)\n",
    "h, w, channel = wb_img.shape\n",
    "print(\"높이 : \",h)\n",
    "print(\"가로 : \",w)\n",
    "print(\"채널 : \",channel)\n",
    "if h > w :\n",
    "    final = cv.resize(wb_img, dsize=(540, 720), interpolation=cv.INTER_AREA)\n",
    "elif h < w :\n",
    "    final = cv.resize(wb_img, dsize=(720, 540), interpolation=cv.INTER_AREA)\n",
    "else :\n",
    "    final = cv.resize(wb_img, dsize=(540, 540), interpolation=cv.INTER_AREA)\n",
    "\n",
    "cv.imwrite('img/5_convert.jpg', final)"
   ]
  },
  {
   "cell_type": "code",
   "execution_count": null,
   "metadata": {},
   "outputs": [],
   "source": []
  },
  {
   "cell_type": "code",
   "execution_count": null,
   "metadata": {},
   "outputs": [],
   "source": []
  }
 ],
 "metadata": {
  "kernelspec": {
   "display_name": "Python 3",
   "language": "python",
   "name": "python3"
  },
  "language_info": {
   "codemirror_mode": {
    "name": "ipython",
    "version": 3
   },
   "file_extension": ".py",
   "mimetype": "text/x-python",
   "name": "python",
   "nbconvert_exporter": "python",
   "pygments_lexer": "ipython3",
   "version": "3.6.8"
  }
 },
 "nbformat": 4,
 "nbformat_minor": 2
}
