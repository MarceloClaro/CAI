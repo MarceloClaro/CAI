{
 "cells": [
  {
   "cell_type": "markdown",
   "metadata": {},
   "source": [
    "### 얼굴인식 테스트\n",
    "    \n",
    "    최초 작성일 : 20/02/14\n",
    "    작성자 : 양희승\n",
    "    \n",
    "    내용 : 얼굴인식 테스트, 눈인식 테스트, 크롭 테스트\n",
    "    \n",
    "    수정내용 :\n",
    "        20/02/15 \n",
    "            - 옆모습 인식 테스트, 볼 부분 인식 위치 변경"
   ]
  },
  {
   "cell_type": "code",
   "execution_count": 1,
   "metadata": {},
   "outputs": [],
   "source": [
    "import cv2 as cv"
   ]
  },
  {
   "cell_type": "code",
   "execution_count": 12,
   "metadata": {},
   "outputs": [],
   "source": [
    "# 원본이미지 로드\n",
    "origin_img = cv.imread(\"img/4226019_130.jpg\")\n",
    "# cv.imshow(\"temple\", origin_img)\n",
    "# cv.waitKey(0)\n",
    "# cv.destroyAllWindows()"
   ]
  },
  {
   "cell_type": "code",
   "execution_count": 7,
   "metadata": {},
   "outputs": [],
   "source": [
    "# opencv의 얼굴인식 이용\n",
    "faceCascade = cv.CascadeClassifier('data/haarcascade_frontface.xml') \n",
    "\n",
    "gray = cv.cvtColor(origin_img, cv.COLOR_BGR2GRAY) \n",
    "faces = faceCascade.detectMultiScale(gray, scaleFactor=1.3, minNeighbors=5, minSize=(30, 30) ) "
   ]
  },
  {
   "cell_type": "code",
   "execution_count": 20,
   "metadata": {},
   "outputs": [
    {
     "name": "stdout",
     "output_type": "stream",
     "text": [
      "Face Count : 1\n"
     ]
    },
    {
     "data": {
      "text/plain": [
       "-1"
      ]
     },
     "execution_count": 20,
     "metadata": {},
     "output_type": "execute_result"
    }
   ],
   "source": [
    "print(\"Face Count : {0}\".format(len(faces))) \n",
    "\n",
    "for (x, y, w, h) in faces: \n",
    "    cv.rectangle(origin_img, (x, y), (x+w, y+h), (0, 255, 0), 2) \n",
    "\n",
    "cv.imshow(\"Face\", origin_img) \n",
    "cv.waitKey(0) \n",
    "cv.destroyAllWindows() \n",
    "cv.waitKey(1)"
   ]
  },
  {
   "cell_type": "code",
   "execution_count": null,
   "metadata": {},
   "outputs": [],
   "source": [
    "#눈 인식 테스트\n",
    "faceCascade_eye = cv.CascadeClassifier('data/haarcascade_eye.xml') \n",
    "\n",
    "gray = cv.cvtColor(origin_img, cv.COLOR_BGR2GRAY) \n",
    "faces = faceCascade_eye.detectMultiScale(gray, scaleFactor=1.3, minNeighbors=5, minSize=(30, 30) ) \n",
    "\n",
    "for (x, y, w, h) in faces: \n",
    "    cv.rectangle(origin_img, (x, y), (x+w, y+h+10), (0, 255, 0), 2) \n",
    "\n",
    "cv.imshow(\"Face\", origin_img) \n",
    "cv.waitKey(0) \n",
    "cv.destroyAllWindows() \n",
    "cv.waitKey(1)"
   ]
  },
  {
   "cell_type": "code",
   "execution_count": 5,
   "metadata": {},
   "outputs": [],
   "source": [
    "# 얼굴 인식 후 잘라서 저장\n",
    "for (x, y, w, h) in faces: \n",
    "    # 얼굴 인식부분에 사각형 씌우기\n",
    "    cv.rectangle(origin_img, (x, y), (x+w, y+h), (255, 0, 0), 2) \n",
    "    #원본이미지, 시작지점, 종료지점, 색깔, 선두께 \n",
    "\n",
    "#     cropped = origin_img[y - int(h/4):y + h + int(h/4), x - int(w/4):x + w + int(w/4)]\n",
    "    cropped = origin_img[y:y + h, x:x + w]\n",
    "    cv.imwrite(\"img/cropped_1.png\", cropped)\n",
    "    roi_gray = gray[y:y+h, x:x+w]\n",
    "    roi_color = origin_img[y:y+h, x:x+w]\n"
   ]
  },
  {
   "cell_type": "markdown",
   "metadata": {},
   "source": [
    "## 옆모습이라면?"
   ]
  },
  {
   "cell_type": "code",
   "execution_count": 2,
   "metadata": {},
   "outputs": [],
   "source": [
    "# 옆모습 사진 로드\n",
    "side_img = cv.imread(\"img/02.jpg\")\n",
    "# cv.imshow(\"temple\", side_img)\n",
    "# cv.waitKey(0)\n",
    "# cv.destroyAllWindows()"
   ]
  },
  {
   "cell_type": "code",
   "execution_count": 4,
   "metadata": {},
   "outputs": [],
   "source": [
    "# opencv의 얼굴인식 이용\n",
    "faceCascade = cv.CascadeClassifier('data/haarcascade_frontface.xml') \n",
    "\n",
    "gray = cv.cvtColor(side_img, cv.COLOR_BGR2GRAY) \n",
    "faces = faceCascade.detectMultiScale(gray, scaleFactor=1.3, minNeighbors=5, minSize=(30, 30) ) "
   ]
  },
  {
   "cell_type": "code",
   "execution_count": 5,
   "metadata": {},
   "outputs": [
    {
     "name": "stdout",
     "output_type": "stream",
     "text": [
      "Face Count : 0\n"
     ]
    },
    {
     "data": {
      "text/plain": [
       "-1"
      ]
     },
     "execution_count": 5,
     "metadata": {},
     "output_type": "execute_result"
    }
   ],
   "source": [
    "print(\"Face Count : {0}\".format(len(faces))) \n",
    "\n",
    "for (x, y, w, h) in faces: \n",
    "    cv.rectangle(side_img, (x, y), (x+w, y+h), (0, 255, 0), 2) \n",
    "\n",
    "cv.imshow(\"Face\", side_img) \n",
    "cv.waitKey(0) \n",
    "cv.destroyAllWindows() \n",
    "cv.waitKey(1)"
   ]
  },
  {
   "cell_type": "markdown",
   "metadata": {},
   "source": [
    "옆모습은 어차피 찾지도 못한다."
   ]
  },
  {
   "cell_type": "markdown",
   "metadata": {},
   "source": [
    "## 볼 부분으로 인식하게 하기"
   ]
  },
  {
   "cell_type": "code",
   "execution_count": 8,
   "metadata": {},
   "outputs": [
    {
     "name": "stdout",
     "output_type": "stream",
     "text": [
      "Face Count : 1\n"
     ]
    },
    {
     "data": {
      "text/plain": [
       "-1"
      ]
     },
     "execution_count": 8,
     "metadata": {},
     "output_type": "execute_result"
    }
   ],
   "source": [
    "print(\"Face Count : {0}\".format(len(faces))) \n",
    "\n",
    "for (x, y, w, h) in faces: \n",
    "    cv.rectangle(origin_img, (x, y), (x+w, y+h), (0, 255, 0), 2) \n",
    "\n",
    "cv.imshow(\"Face\", origin_img) \n",
    "cv.waitKey(0) \n",
    "cv.destroyAllWindows() \n",
    "cv.waitKey(1)"
   ]
  },
  {
   "cell_type": "code",
   "execution_count": 50,
   "metadata": {},
   "outputs": [
    {
     "name": "stdout",
     "output_type": "stream",
     "text": [
      "262 195 56 56\n",
      "159 207 61 61\n"
     ]
    },
    {
     "data": {
      "text/plain": [
       "-1"
      ]
     },
     "execution_count": 50,
     "metadata": {},
     "output_type": "execute_result"
    }
   ],
   "source": [
    "#눈 인식 테스트\n",
    "# 원본이미지 로드\n",
    "origin_img = cv.imread(\"img/01.jpg\")\n",
    "\n",
    "faceCascade_eye = cv.CascadeClassifier('data/haarcascade_eye.xml') \n",
    "\n",
    "gray = cv.cvtColor(origin_img, cv.COLOR_BGR2GRAY) \n",
    "eyes = faceCascade_eye.detectMultiScale(gray, scaleFactor=1.3, minNeighbors=5, minSize=(30, 30) ) \n",
    "\n",
    "for (x, y, w, h) in eyes: \n",
    "    print(x,y,w,h)\n",
    "#     cv.rectangle(origin_img, (x, y+30), (x+30, y+30+15), (0, 255, 0), 2) \n",
    "    cv.rectangle(origin_img, (x, y+45), (x+w-10, y+45+h), (0, 255, 0), 2) \n",
    "\n",
    "cv.imshow(\"Face\", origin_img) \n",
    "cv.waitKey(0) \n",
    "cv.destroyAllWindows() \n",
    "cv.waitKey(1)"
   ]
  },
  {
   "cell_type": "code",
   "execution_count": null,
   "metadata": {},
   "outputs": [],
   "source": []
  }
 ],
 "metadata": {
  "kernelspec": {
   "display_name": "Python 3",
   "language": "python",
   "name": "python3"
  },
  "language_info": {
   "codemirror_mode": {
    "name": "ipython",
    "version": 3
   },
   "file_extension": ".py",
   "mimetype": "text/x-python",
   "name": "python",
   "nbconvert_exporter": "python",
   "pygments_lexer": "ipython3",
   "version": "3.6.8"
  }
 },
 "nbformat": 4,
 "nbformat_minor": 4
}
