{
 "cells": [
  {
   "cell_type": "markdown",
   "metadata": {},
   "source": [
    "### 얼굴인식 테스트 (DNN)\n",
    "    \n",
    "    최초 작성일 : 20/02/28\n",
    "    작성자 : 양희승\n",
    "    \n",
    "    작성내용 : 얼굴인식 테스트 (Deep learning model)\n"
   ]
  },
  {
   "cell_type": "code",
   "execution_count": null,
   "metadata": {},
   "outputs": [],
   "source": []
  },
  {
   "cell_type": "code",
   "execution_count": null,
   "metadata": {},
   "outputs": [],
   "source": [
    "DNN = \"TF\"\n",
    "if DNN == \"CAFFE\":\n",
    "    modelFile = \"res10_300x300_ssd_iter_140000_fp16.caffemodel\"\n",
    "    configFile = \"deploy.prototxt\"\n",
    "    net = cv2.dnn.readNetFromCaffe(configFile, modelFile)\n",
    "else:\n",
    "    modelFile = \"opencv_face_detector_uint8.pb\"\n",
    "    configFile = \"opencv_face_detector.pbtxt\"\n",
    "    net = cv2.dnn.readNetFromTensorflow(modelFile, configFile)\n",
    "    \n",
    "    \n",
    "    \n",
    "blob = cv2.dnn.blobFromImage(frameOpencvDnn, 1.0, (300, 300), [104, 117, 123], False, False)\n",
    " \n",
    "net.setInput(blob)\n",
    "detections = net.forward()\n",
    "bboxes = []\n",
    "for i in range(detections.shape[2]):\n",
    "    confidence = detections[0, 0, i, 2]\n",
    "    if confidence > conf_threshold:\n",
    "        x1 = int(detections[0, 0, i, 3] * frameWidth)\n",
    "        y1 = int(detections[0, 0, i, 4] * frameHeight)\n",
    "        x2 = int(detections[0, 0, i, 5] * frameWidth)\n",
    "        y2 = int(detections[0, 0, i, 6] * frameHeight)\n",
    "    "
   ]
  },
  {
   "cell_type": "code",
   "execution_count": null,
   "metadata": {},
   "outputs": [],
   "source": [
    "#Load Model\n",
    "print(\"Loading model...................\")\n",
    "net = cv2.dnn.readNetFromCaffe(prototextPath,caffeModel)\n",
    "\n",
    "#procesess the import image with opencv\n",
    "image = cv2.imread(args.get(\"image\"))\n",
    "\n",
    "# extract the dimensions , Resize image into 300x300 and converting image into blobFromImage\n",
    "(h,w) = image.shape[:2]\n",
    "# blobImage convert RGB (104.0, 177.0, 123.0)\n",
    "blob = cv2.dnn.blobFromImage(cv2.resize(image,(300,300)),1.0,(300,300),(104.0, 177.0, 123.0))"
   ]
  },
  {
   "cell_type": "code",
   "execution_count": null,
   "metadata": {},
   "outputs": [],
   "source": [
    "#passing blob through the network to detect and pridiction\n",
    "net.setInput(blob)\n",
    "detections = net.forward()"
   ]
  },
  {
   "cell_type": "code",
   "execution_count": null,
   "metadata": {},
   "outputs": [],
   "source": [
    "# loop over the detections\n",
    "for i in range(0, detections.shape[2]):\n",
    "    # extract the confidence and prediction\n",
    "       confidence = detections[0, 0, i, 2]\n",
    "\n",
    "    # filter detections by confidence greater than the minimum     #confidence\n",
    "    print(confidence)\n",
    "    if confidence > 0.5:\n",
    "        # compute the (x, y)-coordinates of the bounding box for the\n",
    "        # object\n",
    "        box = detections[0, 0, i, 3:7] * np.array([w, h, w, h])\n",
    "        (startX, startY, endX, endY) = box.astype(\"int\")\n",
    "\n",
    "        # draw the bounding box of the face along Confidance\n",
    "        # probability\n",
    "        text = \"{:.2f}%\".format(confidence * 100)\n",
    "        y = startY - 10 if startY - 10 > 10 else startY + 10\n",
    "        cv2.rectangle(image, (startX, startY), (endX, endY),\n",
    "                      (0, 0, 255), 2)\n",
    "        cv2.putText(image, text, (startX, y),\n",
    "                    cv2.FONT_HERSHEY_SIMPLEX, 0.45, (0, 0, 255), 2)\n",
    "\n",
    "# show the output image\n",
    "cv2.imshow(\"Output\", image)\n",
    "cv2.waitKey(0)"
   ]
  },
  {
   "cell_type": "code",
   "execution_count": null,
   "metadata": {},
   "outputs": [],
   "source": []
  },
  {
   "cell_type": "code",
   "execution_count": null,
   "metadata": {},
   "outputs": [],
   "source": []
  },
  {
   "cell_type": "code",
   "execution_count": null,
   "metadata": {},
   "outputs": [],
   "source": []
  },
  {
   "cell_type": "code",
   "execution_count": null,
   "metadata": {},
   "outputs": [],
   "source": []
  },
  {
   "cell_type": "code",
   "execution_count": null,
   "metadata": {},
   "outputs": [],
   "source": []
  }
 ],
 "metadata": {
  "kernelspec": {
   "display_name": "Python 3",
   "language": "python",
   "name": "python3"
  },
  "language_info": {
   "codemirror_mode": {
    "name": "ipython",
    "version": 3
   },
   "file_extension": ".py",
   "mimetype": "text/x-python",
   "name": "python",
   "nbconvert_exporter": "python",
   "pygments_lexer": "ipython3",
   "version": "3.6.8"
  }
 },
 "nbformat": 4,
 "nbformat_minor": 4
}
