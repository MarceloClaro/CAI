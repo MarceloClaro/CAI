{
 "cells": [
  {
   "cell_type": "code",
   "execution_count": 23,
   "metadata": {},
   "outputs": [],
   "source": [
    "# 설치\n",
    "# !pip install colour\n",
    "import cv2 as cv\n",
    "import numpy as np\n",
    "import colour\n",
    "import utils\n",
    "import matplotlib.pyplot as plt\n",
    "from sklearn.cluster import KMeans"
   ]
  },
  {
   "cell_type": "code",
   "execution_count": 13,
   "metadata": {},
   "outputs": [],
   "source": [
    "# 사진 불러오기\n",
    "img = cv.imread(\"img/4.jpg\")"
   ]
  },
  {
   "cell_type": "code",
   "execution_count": 14,
   "metadata": {},
   "outputs": [],
   "source": [
    "# 위에서 이미지 불러와서 img에 저장하면\n",
    "# img는 3차원형태의 ndarray가 된다.\n",
    "\n",
    "# return값은 height, width, channel이다.\n",
    "# 이때 channel이 RGB3채널을 의미해서 3이라는 결과가 나온다.. (RGB가 아닌 BGR 순서이다.)\n",
    "\n",
    "# 그래서 BGR  -> RGB로 바꿔준다.  헷갈리기 때문에\n",
    "img = cv.cvtColor(img, cv.COLOR_BGR2RGB)"
   ]
  },
  {
   "cell_type": "code",
   "execution_count": 15,
   "metadata": {},
   "outputs": [
    {
     "name": "stdout",
     "output_type": "stream",
     "text": [
      "(214000, 3)\n"
     ]
    }
   ],
   "source": [
    "# 그리고 차원이 분산되어있으므로 가로,세로는 하나의 array로 통합\n",
    "img = img.reshape((img.shape[0]*img.shape[1], 3))\n",
    "print(img.shape)"
   ]
  },
  {
   "cell_type": "code",
   "execution_count": 16,
   "metadata": {},
   "outputs": [
    {
     "data": {
      "text/plain": [
       "KMeans(algorithm='auto', copy_x=True, init='k-means++', max_iter=300,\n",
       "       n_clusters=5, n_init=10, n_jobs=None, precompute_distances='auto',\n",
       "       random_state=None, tol=0.0001, verbose=0)"
      ]
     },
     "execution_count": 16,
     "metadata": {},
     "output_type": "execute_result"
    }
   ],
   "source": [
    "# 알고리즘으로 이미지 학습을 시킨다.\n",
    "# scikit-learn의 k-mean 알고리즘 사용\n",
    "\n",
    "# k개의 데이터 평균을 만들어 clustering 할 생각\n",
    "\n",
    "k = 5\n",
    "clt = KMeans(n_clusters=k)\n",
    "#학습시키기\n",
    "clt.fit(img)"
   ]
  },
  {
   "cell_type": "code",
   "execution_count": 17,
   "metadata": {},
   "outputs": [
    {
     "name": "stdout",
     "output_type": "stream",
     "text": [
      "[0.28033178 0.27799533 0.11685981 0.15358411 0.17122897]\n"
     ]
    }
   ],
   "source": [
    "# 테스트용으로 한가지 색밖에 없는 이미지를 사용하긴 했지만\n",
    "# 나중에 피부색을 추출하면 여러색이 분포되어있을테니 비율을 정하는 함수를 만든다.\n",
    "\n",
    "def color_ratio(clt) :\n",
    "    numLabels = np.arange(0, len(np.unique(clt.labels_)) + 1)\n",
    "    (hist, _) = np.histogram(clt.labels_, bins=numLabels)\n",
    "    \n",
    "    hist = hist.astype(\"float\")\n",
    "    hist /= hist.sum()\n",
    "    \n",
    "    return hist\n",
    "\n",
    "hist = color_ratio(clt)\n",
    "print(hist)\n",
    "\n",
    "\n",
    "# k=5이므로 다섯개의 영역에 얼마만큼의 퍼센테이지가 차지되었는지 return된다.\n"
   ]
  },
  {
   "cell_type": "code",
   "execution_count": 21,
   "metadata": {},
   "outputs": [],
   "source": [
    "def plot_colors(hist, centroids):\n",
    "    # initialize the bar chart representing the relative frequency\n",
    "    # of each of the colors\n",
    "    bar = np.zeros((50, 300, 3), dtype = \"uint8\")\n",
    "    startX = 0\n",
    "    # loop over the percentage of each cluster and the color of\n",
    "    # each cluster\n",
    "    for (percent, color) in zip(hist, centroids):\n",
    "        # plot the relative percentage of each cluster\n",
    "        endX = startX + (percent * 300)\n",
    "        cv.rectangle(bar, (int(startX), 0), (int(endX), 50),\n",
    "            color.astype(\"uint8\").tolist(), -1)\n",
    "        startX = endX\n",
    "        \n",
    "    # return the bar chart\n",
    "    return bar"
   ]
  },
  {
   "cell_type": "code",
   "execution_count": 24,
   "metadata": {},
   "outputs": [
    {
     "data": {
      "image/png": "[encoded data removed]",
      "text/plain": [
       "<Figure size 432x288 with 1 Axes>"
      ]
     },
     "metadata": {
      "needs_background": "light"
     },
     "output_type": "display_data"
    }
   ],
   "source": [
    "hist = color_ratio(clt)\n",
    "bar = plot_colors(hist, clt.cluster_centers_)\n",
    "# show our color bart\n",
    "plt.figure()\n",
    "plt.axis(\"off\")\n",
    "plt.imshow(bar)\n",
    "plt.show()"
   ]
  },
  {
   "cell_type": "code",
   "execution_count": null,
   "metadata": {},
   "outputs": [],
   "source": []
  }
 ],
 "metadata": {
  "kernelspec": {
   "display_name": "Python 3",
   "language": "python",
   "name": "python3"
  },
  "language_info": {
   "codemirror_mode": {
    "name": "ipython",
    "version": 3
   },
   "file_extension": ".py",
   "mimetype": "text/x-python",
   "name": "python",
   "nbconvert_exporter": "python",
   "pygments_lexer": "ipython3",
   "version": "3.6.8"
  }
 },
 "nbformat": 4,
 "nbformat_minor": 2
}
