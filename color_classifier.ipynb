{
 "cells": [
  {
   "cell_type": "markdown",
   "metadata": {},
   "source": [
    "### 퍼스널 컬러 타입 분류 \n",
    "\n",
    "    최초 작성일 : 20/02/11\n",
    "    작성자 : 조예슬\n",
    "    \n",
    "    작성내용 : HSV로 기준 세워 퍼스널 컬러 타입 분류\n",
    "    \n",
    "    수정내용 : \n",
    "        20/02/19\n",
    "            - 분류기준 먼셀에서 HSV로 변경  \n"
   ]
  },
  {
   "cell_type": "code",
   "execution_count": 36,
   "metadata": {},
   "outputs": [],
   "source": [
    "# 입력된 값\n",
    "# a = ['32.71', '41.667', '70.588']\n",
    "\n",
    "# # 입력값 Hue, Sturation, Value에 따라 변수 지정\n",
    "# H = float(a[0])\n",
    "# S = float(a[1])\n",
    "# V = float(a[2])\n",
    "\n",
    "# diff = round(V - S, 2)"
   ]
  },
  {
   "cell_type": "code",
   "execution_count": null,
   "metadata": {},
   "outputs": [],
   "source": []
  },
  {
   "cell_type": "code",
   "execution_count": 46,
   "metadata": {},
   "outputs": [],
   "source": [
    "# 기준값에 따라 분류하기\n",
    "\n",
    "def color_classifier(person_HSV) :    \n",
    "    \n",
    "    # 입력값 Hue, Sturation, Value에 따라 변수 지정\n",
    "    H = float(person_HSV[0])\n",
    "    S = float(person_HSV[1])\n",
    "    V = float(person_HSV[2])\n",
    "    diff = round(V - S, 2)\n",
    "    \n",
    "    \n",
    "    if H >= 26 and H <= 206 : \n",
    "        if diff >= 43.15 :\n",
    "            if S >= 32.47 :\n",
    "                ans = \"Warm Spring Bright\"\n",
    "                return ans\n",
    "            else :\n",
    "                ans = \"Warm Spring Light\"\n",
    "                return ans\n",
    "                \n",
    "        elif diff <= 43.15:\n",
    "            if S >= 32.47 :\n",
    "                ans = \"Warm Autumn Deep\"\n",
    "                return ans\n",
    "            else :\n",
    "                ans = \"Warm Autumn Mute\"\n",
    "                return ans\n",
    "\n",
    "                \n",
    "    elif (H >= 0 and H <= 25) or (H >= 207 and H <= 359) :\n",
    "        if diff >= 47.15 :\n",
    "            if diff >= 23.58 :\n",
    "                ans = \"Cool Summer Light\"\n",
    "                return ans\n",
    "            else :\n",
    "                ans = \"Cool Summer Mute\"\n",
    "                return ans\n",
    "                \n",
    "        elif diff <= 47.15:\n",
    "            if diff >= 73.58 :\n",
    "                ans = \"Cool Winter Bright\"\n",
    "                return ans\n",
    "            else :\n",
    "                ans = \"Cool Winter Deep\"\n",
    "                return ans\n",
    "                "
   ]
  },
  {
   "cell_type": "code",
   "execution_count": 48,
   "metadata": {},
   "outputs": [
    {
     "data": {
      "text/plain": [
       "'Cool Winter Deep'"
      ]
     },
     "execution_count": 48,
     "metadata": {},
     "output_type": "execute_result"
    }
   ],
   "source": [
    "color_classifier(['18.57', '34.52', '65.88'])"
   ]
  },
  {
   "cell_type": "code",
   "execution_count": null,
   "metadata": {},
   "outputs": [],
   "source": []
  },
  {
   "cell_type": "code",
   "execution_count": null,
   "metadata": {},
   "outputs": [],
   "source": []
  },
  {
   "cell_type": "code",
   "execution_count": null,
   "metadata": {},
   "outputs": [],
   "source": []
  }
 ],
 "metadata": {
  "kernelspec": {
   "display_name": "Python 3",
   "language": "python",
   "name": "python3"
  },
  "language_info": {
   "codemirror_mode": {
    "name": "ipython",
    "version": 3
   },
   "file_extension": ".py",
   "mimetype": "text/x-python",
   "name": "python",
   "nbconvert_exporter": "python",
   "pygments_lexer": "ipython3",
   "version": "3.7.6"
  }
 },
 "nbformat": 4,
 "nbformat_minor": 2
}
