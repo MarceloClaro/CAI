{
 "cells": [
  {
   "cell_type": "markdown",
   "metadata": {},
   "source": [
    "    작성일 : 20/03/08\n",
    "    작성자 : 김은주\n",
    "    \n",
    "    작성내용 : 무신사 브랜드 리스트, 랭킹 크롤링_최종프로젝트 모델링 수정 반영\n",
    "    \n",
    "    테이블생성 : \n",
    "    CREATE TABLE IF NOT EXISTS BRAND_LIST(\n",
    "    BRD_NO          INT(10) UNSIGNED AUTO_INCREMENT PRIMARY KEY,\n",
    "    BRD_CODE        VARCHAR(50),\n",
    "    BRD_NAME_ENG    VARCHAR(50)\n",
    "    );\n",
    "    \n",
    "    CREATE TABLE IF NOT EXISTS BRAND_RANK(\n",
    "    BRD_CODE        VARCHAR(50),\n",
    "    BRD_NAME_ENG    VARCHAR(50),\n",
    "    BRD_RANK        VARCHAR(5),\n",
    "    LOAD_DATE       TIMESTAMP DEFAULT CURRENT_TIMESTAMP()\n",
    "    );"
   ]
  },
  {
   "cell_type": "code",
   "execution_count": 2,
   "metadata": {},
   "outputs": [],
   "source": [
    "import requests, pymysql, math, re, time\n",
    "from bs4 import BeautifulSoup"
   ]
  },
  {
   "cell_type": "code",
   "execution_count": 3,
   "metadata": {},
   "outputs": [],
   "source": [
    "# ## DB 연결 데이터 \n",
    "# config = {\"host\":\"192.168.0.12\", \"user\":\"musinsa\", \"passwd\":\"1111\", \"db\":\"PR_TEST\"}\n",
    "# conn = pymysql.connect(**config)"
   ]
  },
  {
   "cell_type": "code",
   "execution_count": 4,
   "metadata": {},
   "outputs": [],
   "source": [
    "## DB 연결 데이터 \n",
    "config = {\"host\":\"127.0.0.1\", \"user\":\"root\", \"passwd\":\"1111\", \"db\":\"musinsa_test\"}\n",
    "conn = pymysql.connect(**config)"
   ]
  },
  {
   "cell_type": "code",
   "execution_count": 5,
   "metadata": {},
   "outputs": [],
   "source": [
    "## BRAND_LIST\n",
    "\n",
    "def crawl_brand_list() :\n",
    "    startTime = time.time()\n",
    "    \n",
    "    brand_codes = []      #브랜드 코드를 담을 리스트\n",
    "    brands_eng = []       #브랜드명(영문)을 담을 리스트\n",
    "    \n",
    "#     cursor = conn.cursor()\n",
    "    \n",
    "    html = \"\"\n",
    "    req = requests.get(\"https://store.musinsa.com/app/contents/brandshop\")\n",
    "    if req.status_code == 200 :\n",
    "        html = req.text\n",
    "\n",
    "    soup = BeautifulSoup(html, 'html.parser')\n",
    "    print(\"brand_list [HTTP Status : {}]\".format(req))\n",
    "\n",
    "    for li in soup('li'):\n",
    "        if('class' in li.attrs\n",
    "            and 'brand_li' in li['class']) :\n",
    "            brands_eng.append(li.dl.dt.a.get_text().strip())\n",
    "            brand_codes.append(li.dl.dt.a['href'].replace(\"/app/brand/goods_list/\",\"\"))\n",
    "            \n",
    "            \n",
    "    # DB 적재\n",
    "    sql = \"\"\n",
    "    for i in range(len(brands_eng)) :\n",
    "        if brands_eng[i] == \"I♥NY\":\n",
    "            data = [str(i+1), brand_codes[i], \"I LOVE NY\"]\n",
    "            #sql = \"INSERT INTO BRAND_LIST(BRD_NAME, BRD_LINK, BRD_CODE) VALUES(\"+ brands[i] + \", \" + brand_links[i] + \", \" + brand_codes[i] +\")\"\n",
    "            #cursor.execute(sql)\n",
    "            cursor.execute(\"insert into BRAND_LIST(BRD_NO, BRD_CODE, BRD_NAME_ENG) values(%s, %s, %s)\", data)\n",
    "            conn.commit()\n",
    "        else:\n",
    "            data = [str(i+1), brand_codes[i], brands_eng[i]]\n",
    "            #sql = \"INSERT INTO BRAND_LIST(BRD_NAME, BRD_LINK, BRD_CODE) VALUES(\"+ brands[i] + \", \" + brand_links[i] + \", \" + brand_codes[i] +\")\"\n",
    "            #cursor.execute(sql)\n",
    "            cursor.execute(\"insert into BRAND_LIST(BRD_NO, BRD_CODE, BRD_NAME_ENG) values(%s, %s, %s)\", data)\n",
    "            conn.commit()\n",
    "            \n",
    "#     conn.close()\n",
    "    \n",
    "    print(\"--- {} seconds ---\".format(time.time() - startTime))\n",
    "\n",
    "## BRAND_RANK\n",
    "\n",
    "def crawl_brand_rank():\n",
    "    startTime = time.time()\n",
    "    \n",
    "#     cursor = conn.cursor()\n",
    "    \n",
    "    url = \"https://store.musinsa.com/app/usr/brand_rank?d_cat_cd=&u_cat_cd=&range=1m&sex=&popup=&page=&sort=\"\n",
    "\n",
    "    html = \"\"\n",
    "    req = requests.get(url)\n",
    "    if req.status_code == 200 :\n",
    "        html = req.text\n",
    "\n",
    "    soup = BeautifulSoup(html, 'html.parser')\n",
    "    print(\"brand_rank [HTTP Status : {}]\".format(req))\n",
    "\n",
    "    brand = []\n",
    "\n",
    "    for inner in soup.find_all(\"div\", class_=\"li_inner\"):\n",
    "        rank = inner.find(\"p\", class_=\"n-label label-default txt_num_rank\").text\n",
    "        brand.append([\"brd_rank\", str(rank[:rank.index(\"위\")].strip())])\n",
    "        brand.append([\"brd_code\", inner.find(\"p\", class_=\"brand_name\").find(\"a\").get(\"href\")[22:].strip()])\n",
    "        brand.append([\"brd_name_eng\", inner.find(\"p\", class_=\"brand_name_en\").text.strip()])\n",
    "\n",
    "        dict_brand = dict(brand)\n",
    "\n",
    "        ## DB 적재\n",
    "        cursor = conn.cursor()\n",
    "        sql = \"INSERT INTO BRAND_RANK(BRD_CODE, BRD_NAME_ENG, BRD_RANK) VALUES(\"\\\n",
    "                     + \"'\" + dict_brand.get(\"brd_code\", '오류') +\"'\" +  \",\"\\\n",
    "                     + \"'\" + dict_brand.get(\"brd_name_eng\", '오류') +\"'\" +  \",\"\\\n",
    "                     + \"'\" + dict_brand.get(\"brd_rank\", '오류') +\"'\" + \");\"\n",
    "\n",
    "        cursor.execute(sql)\n",
    "        conn.commit()\n",
    "        \n",
    "#     conn.close()\n",
    "    print(\"--- {} seconds ---\".format(time.time() - startTime))"
   ]
  },
  {
   "cell_type": "code",
   "execution_count": 6,
   "metadata": {},
   "outputs": [
    {
     "name": "stdout",
     "output_type": "stream",
     "text": [
      "brand_list [HTTP Status : <Response [200]>]\n",
      "--- 20.25515842437744 seconds ---\n",
      "brand_rank [HTTP Status : <Response [200]>]\n",
      "--- 1.5860624313354492 seconds ---\n"
     ]
    }
   ],
   "source": [
    "# 크롤링 함수 실행\n",
    "cursor = conn.cursor()\n",
    "\n",
    "crawl_brand_list()\n",
    "crawl_brand_rank()\n",
    "\n",
    "conn.close()"
   ]
  },
  {
   "cell_type": "code",
   "execution_count": null,
   "metadata": {},
   "outputs": [],
   "source": []
  }
 ],
 "metadata": {
  "kernelspec": {
   "display_name": "Python 3",
   "language": "python",
   "name": "python3"
  },
  "language_info": {
   "codemirror_mode": {
    "name": "ipython",
    "version": 3
   },
   "file_extension": ".py",
   "mimetype": "text/x-python",
   "name": "python",
   "nbconvert_exporter": "python",
   "pygments_lexer": "ipython3",
   "version": "3.7.4"
  }
 },
 "nbformat": 4,
 "nbformat_minor": 2
}
