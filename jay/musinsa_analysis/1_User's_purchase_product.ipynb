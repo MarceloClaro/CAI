{
 "cells": [
  {
   "cell_type": "markdown",
   "metadata": {},
   "source": [
    "### 고객 구매상품 관련 분석\n",
    "    \n",
    "    최초 작성일 : 20/03/02\n",
    "    작성자 : 김은주\n",
    "    \n",
    "    작성내용 : 고객 구매상품 분석\n",
    "    \n",
    "               DB 內 PRDT_REVIEW 테이블 활용\n",
    "               - 상품코드 기준 상품 대표 이미지(ex. 썸네일 이미지) 크롤링\n",
    "               -> 이미지에서 대표 색상 추출하여 DB 추가\n",
    "               \n",
    "               유저 닉네임 별 주요 구매 색상 추출\n",
    "               -> \n",
    "\n",
    "    수정내용 \n",
    "        20/03/02"
   ]
  },
  {
   "cell_type": "code",
   "execution_count": 3,
   "metadata": {},
   "outputs": [],
   "source": [
    "import pandas as pd\n",
    "import numpy as np\n",
    "import matplotlib as mpl\n",
    "import matplotlib.pyplot as plt\n",
    "import seaborn as sns\n",
    "import matplotlib.font_manager as fm\n",
    "font_name = fm.FontProperties(fname='C:\\Windows/Fonts/malgun.ttf').get_name()\n",
    "plt.rc('font', family=font_name)\n",
    "mpl.rcParams[\"axes.unicode_minus\"] = False\n",
    "\n",
    "import pymysql, math, time\n",
    "from sklearn import preprocessing\n",
    "import urllib"
   ]
  },
  {
   "cell_type": "code",
   "execution_count": 8,
   "metadata": {},
   "outputs": [],
   "source": [
    "#DB 연결 데이터 \n",
    "config = {\"host\":\"49.142.181.65\", \"user\":\"cai\", \"passwd\":\"1234\", \"db\":\"final\"}\n",
    "conn = pymysql.connect(**config)\n",
    "cursor = conn.cursor()"
   ]
  },
  {
   "cell_type": "code",
   "execution_count": null,
   "metadata": {},
   "outputs": [],
   "source": [
    "sql = \"SELECT *,round((A.L+A.A+A.S+A.C)/4, 5) as 'con_avg' FROM (SELECT b.BRD_NAME_ENG, PRODUCT, REVIEW, LIKES, LOOKBOOK/(SELECT sum(LOOKBOOK) FROM BRAND_INFO) as 'L', ARTICLE/(SELECT sum(ARTICLE) FROM BRAND_INFO) as 'A', STYLE/(SELECT sum(STYLE) FROM BRAND_INFO) as 'S', CONTENTS/(SELECT sum(CONTENTS) FROM BRAND_INFO) as 'C' FROM BRAND_INFO a, BRAND_LIST b WHERE a.BRD_NAME_ENG = b.BRD_NAME_ENG AND a.BRD_NAME_ENG != 'Disney' AND a.BRD_NAME_ENG != 'ABERCROMBIE & FITCH') A WHERE (A.L+A.A+A.S+A.C) != 0;\"\n",
    "cursor.execute(sql)\n",
    "brand_info = pd.DataFrame(cursor, columns=[\"brand\", \"prdt\", \"review\", \"likes\", \"lookbook\", \"article\", \"style\", \"contents\", \"score\"])\n",
    "\n",
    "columns = [\"prdt\", \"review\", \"likes\", \"lookbook\", \"article\", \"style\", \"contents\", \"score\"]\n",
    "for col in columns:\n",
    "    brand_info[col] = brand_info[col].astype(float)\n",
    "\n",
    "brand_info.info()"
   ]
  },
  {
   "cell_type": "code",
   "execution_count": null,
   "metadata": {},
   "outputs": [],
   "source": []
  },
  {
   "cell_type": "code",
   "execution_count": 16,
   "metadata": {},
   "outputs": [
    {
     "name": "stdout",
     "output_type": "stream",
     "text": [
      "JAY\n"
     ]
    },
    {
     "data": {
      "text/plain": [
       "[[None,\n",
       "  None,\n",
       "  None,\n",
       "  '938783',\n",
       "  'https://image.msscdn.net/images/goods_img/20190123/938783/938783_1_500.jpg'],\n",
       " [None,\n",
       "  None,\n",
       "  None,\n",
       "  '428572',\n",
       "  'https://image.msscdn.net/images/goods_img/20161013/428572/428572_2_500.jpg'],\n",
       " [None,\n",
       "  None,\n",
       "  None,\n",
       "  '240543',\n",
       "  'https://image.msscdn.net/images/goods_img/20150825/240543/240543_2_500.jpg'],\n",
       " [None,\n",
       "  None,\n",
       "  None,\n",
       "  '846573',\n",
       "  'https://image.msscdn.net/images/goods_img/20180904/846573/846573_2_500.jpg'],\n",
       " [None,\n",
       "  None,\n",
       "  None,\n",
       "  '485070',\n",
       "  'https://image.msscdn.net/images/goods_img/20170217/485070/485070_1_500.jpg']]"
      ]
     },
     "execution_count": 16,
     "metadata": {},
     "output_type": "execute_result"
    }
   ],
   "source": [
    "############################\n",
    "# 웹에서 받아와야함\n",
    "user_nick = str(input())\n",
    "############################\n",
    "\n",
    "sql_front = \"SELECT c.H, c.S, c.V, b.PRDT_CODE, c.PRDT_IMG_LINK FROM PRDT_REVIEW a, FINAL_TOP b, PRDT_IMAGE c WHERE USER_NICK='\"\n",
    "sql_end = \"' AND a.PRDT_CODE = b.PRDT_CODE AND a.PRDT_CODE = c.PRDT_CODE;\"\n",
    "sql = sql_front+user_nick+sql_end\n",
    "\n",
    "cursor.execute(sql)\n",
    "\"\"\"\n",
    "↑↑↑↑유저 조회가 안돼서 발생하는 오류 잡을거 짜놓기\n",
    "\"\"\"\n",
    "\n",
    "# purchase_prdt = pd.DataFrame(cursor, columns=[\"H\", \"S\", \"V\", \"prdt\", \"img_link\"])\n",
    "# purchase_prdt\n",
    "\n",
    "purchase_prdt = [] # 고객 구매목록 담기\n",
    "for i in cursor.fetchall() :\n",
    "    purchase_prdt.append(list(i))\n",
    "\n",
    "purchase_prdt"
   ]
  },
  {
   "cell_type": "code",
   "execution_count": null,
   "metadata": {},
   "outputs": [],
   "source": []
  }
 ],
 "metadata": {
  "kernelspec": {
   "display_name": "Python 3",
   "language": "python",
   "name": "python3"
  },
  "language_info": {
   "codemirror_mode": {
    "name": "ipython",
    "version": 3
   },
   "file_extension": ".py",
   "mimetype": "text/x-python",
   "name": "python",
   "nbconvert_exporter": "python",
   "pygments_lexer": "ipython3",
   "version": "3.7.6"
  }
 },
 "nbformat": 4,
 "nbformat_minor": 2
}
