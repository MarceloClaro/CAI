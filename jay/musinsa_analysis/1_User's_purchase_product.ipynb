{
 "cells": [
  {
   "cell_type": "markdown",
   "metadata": {},
   "source": [
    "### 고객 구매상품 관련 분석\n",
    "    \n",
    "    최초 작성일 : 20/03/02\n",
    "    작성자 : 김은주\n",
    "    \n",
    "    작성내용 : 고객 구매상품 분석\n",
    "    \n",
    "               DB 內 PRDT_REVIEW 테이블 활용\n",
    "               - 상품코드 기준 상품 대표 이미지(ex. 썸네일 이미지) 크롤링\n",
    "               -> 이미지에서 대표 색상 추출하여 DB 추가\n",
    "               \n",
    "               유저 닉네임 별 주요 구매 색상 추출\n",
    "               -> \n",
    "\n",
    "    수정내용 \n",
    "        20/03/02"
   ]
  },
  {
   "cell_type": "code",
   "execution_count": null,
   "metadata": {},
   "outputs": [],
   "source": [
    "import pandas as pd\n",
    "import numpy as np\n",
    "import matplotlib as mpl\n",
    "import matplotlib.pyplot as plt\n",
    "import seaborn as sns\n",
    "import matplotlib.font_manager as fm\n",
    "font_name = fm.FontProperties(fname='C:\\Windows/Fonts/malgun.ttf').get_name()\n",
    "plt.rc('font', family=font_name)\n",
    "mpl.rcParams[\"axes.unicode_minus\"] = False\n",
    "\n",
    "import pymysql, math, time\n",
    "from sklearn import preprocessing\n",
    "import urllib"
   ]
  },
  {
   "cell_type": "code",
   "execution_count": null,
   "metadata": {},
   "outputs": [],
   "source": [
    "#DB 연결 데이터 \n",
    "config = {\"host\":\"192.168.0.44\", \"user\":\"musinsa\", \"passwd\":\"1111\", \"db\":\"PR_TEST\"}\n",
    "conn = pymysql.connect(**config)\n",
    "cursor = conn.cursor()"
   ]
  },
  {
   "cell_type": "code",
   "execution_count": null,
   "metadata": {},
   "outputs": [],
   "source": [
    "sql = \"SELECT *,round((A.L+A.A+A.S+A.C)/4, 5) as 'con_avg' FROM (SELECT b.BRD_NAME_ENG, PRODUCT, REVIEW, LIKES, LOOKBOOK/(SELECT sum(LOOKBOOK) FROM BRAND_INFO) as 'L', ARTICLE/(SELECT sum(ARTICLE) FROM BRAND_INFO) as 'A', STYLE/(SELECT sum(STYLE) FROM BRAND_INFO) as 'S', CONTENTS/(SELECT sum(CONTENTS) FROM BRAND_INFO) as 'C' FROM BRAND_INFO a, BRAND_LIST b WHERE a.BRD_NAME_ENG = b.BRD_NAME_ENG AND a.BRD_NAME_ENG != 'Disney' AND a.BRD_NAME_ENG != 'ABERCROMBIE & FITCH') A WHERE (A.L+A.A+A.S+A.C) != 0;\"\n",
    "cursor.execute(sql)\n",
    "brand_info = pd.DataFrame(cursor, columns=[\"brand\", \"prdt\", \"review\", \"likes\", \"lookbook\", \"article\", \"style\", \"contents\", \"score\"])\n",
    "\n",
    "columns = [\"prdt\", \"review\", \"likes\", \"lookbook\", \"article\", \"style\", \"contents\", \"score\"]\n",
    "for col in columns:\n",
    "    brand_info[col] = brand_info[col].astype(float)\n",
    "\n",
    "brand_info.info()"
   ]
  }
 ],
 "metadata": {
  "kernelspec": {
   "display_name": "Python 3",
   "language": "python",
   "name": "python3"
  },
  "language_info": {
   "codemirror_mode": {
    "name": "ipython",
    "version": 3
   },
   "file_extension": ".py",
   "mimetype": "text/x-python",
   "name": "python",
   "nbconvert_exporter": "python",
   "pygments_lexer": "ipython3",
   "version": "3.7.6"
  }
 },
 "nbformat": 4,
 "nbformat_minor": 2
}
