{
 "cells": [
  {
   "cell_type": "markdown",
   "metadata": {},
   "source": [
    "### 팔레트 추출 및 상품 매칭 통합 코드\n",
    "    \n",
    "    최초 작성일 : 20/04/04\n",
    "    작성자 : 김은주\n",
    "    \n",
    "    작성내용 : 팔레트 추출 및 상품 매칭 통합 코드 (CAIProjectModule.py)\n",
    "               \n",
    "               personal_color_palette 모듈화 및 테스트\n",
    "               -> ColorPalette클래스 (palette_bright / palette_harmony / matchedPrdt / to_rgb / show_color)\n",
    "               -> DatabaseConnetion클래스(connectDB / select_prdt_color / getPrdtimage)\n",
    "               \n",
    "               Main_product_color_extraction 모듈화 및 테스트\n",
    "               -> ColorClustering클래스 (greytone_filter / color_generator / colorClustering)\n",
    "               -> DatabaseConnection클래스 (getUserPurchase)\n",
    "               \n",
    "               최종 리턴 필요 값 추출 코드 정리\n",
    "               -> 팔레트 별 웹용 RGB 값\n",
    "               -> 추천항목 별 웹용 이미지링크"
   ]
  },
  {
   "cell_type": "code",
   "execution_count": 1,
   "metadata": {},
   "outputs": [],
   "source": [
    "import CAIProjectModule\n",
    "\n",
    "CP = CAIProjectModule.ColorPalette()\n",
    "CD = CAIProjectModule.DatabaseConnetion()\n",
    "CC = CAIProjectModule.ColorClustering()"
   ]
  },
  {
   "cell_type": "code",
   "execution_count": 5,
   "metadata": {},
   "outputs": [],
   "source": [
    "### DB 연결\n",
    "# database = {\"host\":\"49.142.181.65\", \"user\":\"cai\", \"passwd\":\"1234\", \"db\":\"final\"}\n",
    "database = {\"host\":\"localhost\", \"user\":\"root\", \"passwd\":\"1111\", \"db\":\"musinsa_test\"}\n",
    "cursor = CD.connectDB(database)\n",
    "\n",
    "### PRDT_IMAGE 테이블에 H, S, V, 상품코드 조회\n",
    "HSV = CD.select_prdt_color(cursor)\n",
    "\n",
    "########################################### 컬러 팔레트 추출 #########################################\n",
    "# 얼굴 측색결과 hsv 받아와야함\n",
    "hsv = [27, 45, 80]\n",
    "############################\n",
    "\n",
    "### 얼굴 측색값 기준 팔레트 추출 : 각 6개 색 추출\n",
    "hsv_palette_bright = CP.palette_bright(hsv)\n",
    "hsv_palette_harmony = CP.palette_harmony(hsv)\n",
    "\n",
    "### 팔레트 색 확인\n",
    "# CP.show_colors(hsv_palette_bright)\n",
    "# CP.show_colors(hsv_palette_harmony)\n",
    "\n",
    "### 웹용 팔레트 RGB 변환 : 각 6개 색\n",
    "rgb_palette_bright = CP.to_rgb(hsv_palette_bright)\n",
    "rgb_palette_harmony = CP.to_rgb(hsv_palette_harmony)\n",
    "\n",
    "\n",
    "########################################### 주요 구매색 추출 #########################################\n",
    "# 웹에서 받아와야함\n",
    "user_nick = \"JAY\"\n",
    "############################\n",
    "\n",
    "### 유저 닉네임에 따른 구매목록 조회\n",
    "purchase_prdt = CD.getUserPurchase(cursor, user_nick)\n",
    "### 회색조 필터링 (흰색/검은색 상품 필터링)\n",
    "purchase_hsv = CC.greytoneFilter(purchase_prdt)\n",
    "### Clustering 정확도를 위한 색값 제너레이팅\n",
    "purchase_HSV = CC.colorGenerator(purchase_hsv)\n",
    "### Clustering 중앙값(주구매색) 리턴\n",
    "centroid = CC.colorClustering(purchase_HSV)\n",
    "\n",
    "\n",
    "########################################### 상품매칭 & 이미지  #########################################\n",
    "\n",
    "### 팔레트 컬러 상품 매칭 : 각 상품코드 6개\n",
    "prdtCode_bright = CP.matchedPrdt(hsv_palette_bright, HSV)\n",
    "prdtCode_harmony = CP.matchedPrdt(hsv_palette_harmony, HSV)\n",
    "prdtCode_purchase = CP.matchedPrdt(centroid, HSV)\n",
    "\n",
    "### 상품 이미지링크 갖고오기 : 웹페이지 노출용 이미지링크 각 6개\n",
    "imgLink_bright = CD.getPrdtimage(cursor, prdtCode_bright)\n",
    "imgLink_harmony = CD.getPrdtimage(cursor, prdtCode_harmony)\n",
    "imgLink_purchase = CD.getPrdtimage(cursor, prdtCode_purchase)"
   ]
  },
  {
   "cell_type": "code",
   "execution_count": null,
   "metadata": {},
   "outputs": [],
   "source": []
  },
  {
   "cell_type": "code",
   "execution_count": 7,
   "metadata": {},
   "outputs": [
    {
     "name": "stdout",
     "output_type": "stream",
     "text": [
      "bright :  [[84.0, 127.0, 153.0], [217.0, 215.0, 184.0], [178.0, 116.0, 118.0], [129.0, 153.0, 69.0], [108.0, 167.0, 217.0], [94.0, 69.0, 153.0]]\n",
      "harmony :  [[124.0, 84.0, 153.0], [184.0, 217.0, 189.0], [169.0, 178.0, 116.0], [69.0, 153.0, 110.0], [180.0, 108.0, 217.0], [153.0, 69.0, 111.0]]\n"
     ]
    }
   ],
   "source": [
    "# 웹용 컬러팔레트 RGB값\n",
    "print(\"bright : \", rgb_palette_bright)\n",
    "print(\"harmony : \", rgb_palette_harmony)"
   ]
  },
  {
   "cell_type": "code",
   "execution_count": 9,
   "metadata": {},
   "outputs": [
    {
     "name": "stdout",
     "output_type": "stream",
     "text": [
      "bright :  ['https://image.msscdn.net/images/goods_img/20181104/897632/897632_1_500.jpg', 'https://image.msscdn.net/images/goods_img/20190123/938783/938783_1_500.jpg', 'https://image.msscdn.net/images/goods_img/20191021/1194852/1194852_1_500.jpg', 'https://image.msscdn.net/images/goods_img/20200317/1355555/1355555_1_500.jpg', 'https://image.msscdn.net/images/goods_img/20200214/1307039/1307039_1_500.jpg', 'https://image.msscdn.net/images/goods_img/20200324/1365816/1365816_2_500.jpg']\n",
      "\n",
      "harmony :  ['https://image.msscdn.net/images/goods_img/20180810/826451/826451_8_500.jpg', 'https://image.msscdn.net/images/goods_img/20180810/826451/826451_8_500.jpg', 'https://image.msscdn.net/images/goods_img/20180810/826451/826451_8_500.jpg', 'https://image.msscdn.net/images/goods_img/20180810/826451/826451_8_500.jpg', 'https://image.msscdn.net/images/goods_img/20180810/826451/826451_8_500.jpg', 'https://image.msscdn.net/images/goods_img/20180810/826451/826451_8_500.jpg']\n",
      "\n",
      "purchase :  ['https://image.msscdn.net/images/goods_img/20170922/640839/640839_5_500.jpg', 'https://image.msscdn.net/images/goods_img/20191005/1177553/1177553_2_500.jpg', 'https://image.msscdn.net/images/goods_img/20181025/890749/890749_2_500.jpg', 'https://image.msscdn.net/images/goods_img/20191031/1208839/1208839_1_500.jpg', 'https://image.msscdn.net/images/goods_img/20190827/1131763/1131763_4_500.jpg', 'https://image.msscdn.net/images/goods_img/20190820/1121465/1121465_2_500.jpg']\n"
     ]
    }
   ],
   "source": [
    "# 웹용 이미지 링크\n",
    "print(\"bright : \", imgLink_bright)\n",
    "print(\"\\nharmony : \", imgLink_harmony)\n",
    "print(\"\\npurchase : \", imgLink_purchase)"
   ]
  }
 ],
 "metadata": {
  "kernelspec": {
   "display_name": "Python 3",
   "language": "python",
   "name": "python3"
  },
  "language_info": {
   "codemirror_mode": {
    "name": "ipython",
    "version": 3
   },
   "file_extension": ".py",
   "mimetype": "text/x-python",
   "name": "python",
   "nbconvert_exporter": "python",
   "pygments_lexer": "ipython3",
   "version": "3.7.4"
  }
 },
 "nbformat": 4,
 "nbformat_minor": 2
}
