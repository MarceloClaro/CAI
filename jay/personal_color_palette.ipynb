{
 "cells": [
  {
   "cell_type": "markdown",
   "metadata": {},
   "source": [
    "### 퍼스널컬러 개인화 팔레트 색상 추출\n",
    "    \n",
    "    최초 작성일 : 20/02/23\n",
    "    작성자 : 김은주\n",
    "    \n",
    "    작성내용 : 퍼스널컬러 타입 별 퍼스널컬러 개인화 팔레트 추출\n",
    "               \n",
    "               측색 결과에 따른 개인화 팔레트 추출\n",
    "               -> (color_convert_test) 개인 스킨톤 HSV값\n",
    "               -> HSV 분석\n",
    "               -> 웜 쿨 타입 구분\n",
    "                   -> 보색 이론에 따른 웜쿨타입 색상(hue) 변경값 적용\n",
    "               -> 시즌 타입 구분\n",
    "                   -> 각 퍼스널컬러 타입 별 명도(Value), 채도(Saturation)\n",
    "               -> 개인 팔레트 색상 추출, 결과값 저장\n",
    "               \n",
    "               개인화 팔레트 추출 색 시각화\n",
    "               \n",
    "               팔레트-상품 색 매칭 & 코드추출\n",
    "    \n",
    "    수정내용 \n",
    "        20/03/06\n",
    "               개인화 팔레트 시각화\n",
    "               -> 개인화 팔레트 추출 색 시각화 함수 작성\n",
    "               \n",
    "               팔레트-상품 색 매칭 & 코드추출\n",
    "               -> 팔레트 매칭용 HSV 샘플 생성\n",
    "               -> 팔레트 매칭 색 오차범위 설정\n",
    "               -> HSV 오차범위 조건, fancy indexing\n",
    "               -> 팔레트 매칭된 상품코드 추출\n",
    "               \n",
    "               팔레트 추출/시각화/상품추출 함수 통합실행으로 수정\n"
   ]
  },
  {
   "cell_type": "code",
   "execution_count": 4,
   "metadata": {},
   "outputs": [],
   "source": [
    "# pip install colour-science\n",
    "# pip install opencv-python\n",
    "import pandas as pd\n",
    "import numpy as np\n",
    "from PIL import Image\n",
    "\n",
    "import cv2 as cv\n",
    "import colour\n",
    "\n",
    "import matplotlib as mpl\n",
    "import matplotlib.pyplot as plt\n",
    "import matplotlib.font_manager as fm\n",
    "font_name = fm.FontProperties(fname='C:\\Windows/Fonts/malgun.ttf').get_name()\n",
    "plt.rc('font', family=font_name)\n",
    "mpl.rcParams[\"axes.unicode_minus\"] = False\n",
    "from matplotlib.colors import hsv_to_rgb"
   ]
  },
  {
   "cell_type": "code",
   "execution_count": 431,
   "metadata": {},
   "outputs": [],
   "source": [
    "# 퍼스널컬러 팔레트 매칭 함수\n",
    "def color_palette(person_HSV):\n",
    "    # 입력값 Hue, Sturation, Value에 따라 변수 지정\n",
    "    H = float(person_HSV[0])\n",
    "    S = float(person_HSV[1])\n",
    "    V = float(person_HSV[2])\n",
    "    diff = round(V - S, 2)    \n",
    "    \n",
    "    # (보색, 삼각보색1, 삼각보색2, 이중보색1, 이중보색2, 이중보색3)\n",
    "    # hue 변경 값\n",
    "    h_warm_plus, h_cool_plus = [175, 30, 330, 50, 180, 230], [185, 150, 210, 130, 180, 310]\n",
    "    # saturation 변경 값\n",
    "    s_SpringWinter_plus, s_SummerAutumn_plus = [40, 10, 30, 50, 45, 50], [0, -30, -10, 10, 5, 10]\n",
    "    # Value 변경 값\n",
    "    v_SpringWinter_plus, v_SummerAutumn_plus = [-40, -15, -30, -40, -15, -40], [-20, 5, -10, -20, 5, -20]\n",
    "    # 각 보색 값 변수\n",
    "    h_list, s_list, v_list = [], [], []\n",
    "    \n",
    "    try:\n",
    "        # 웜톤\n",
    "        if H >= 26 and H <= 206 : \n",
    "            # 웜톤 HUE 변경\n",
    "            for hue, i in zip(h_warm_plus, range(6)):\n",
    "                if H+hue <= 359:\n",
    "                    h_list.append(H+h_warm_plus[i])\n",
    "                else:\n",
    "                    h_list.append(H+h_warm_plus[1]-359)\n",
    "\n",
    "            # 봄\n",
    "            if diff >= 43.15 :\n",
    "                for saturation, value, i in zip(s_SpringWinter_plus, v_SpringWinter_plus, range(6)):\n",
    "                    # Saturation\n",
    "                    if saturation >= 0:                    \n",
    "                        if S+saturation <= 100:\n",
    "                            s_list.append(S+s_SpringWinter_plus[i])\n",
    "                        else:\n",
    "                            s_list.append(S-s_SpringWinter_plus[i])\n",
    "                    else:\n",
    "                        if S+saturation >= 10:\n",
    "                            s_list.append(S+s_SpringWinter_plus[i])\n",
    "                        else:\n",
    "                            s_list.append(S-s_SpringWinter_plus[i])\n",
    "                    # Vlaue\n",
    "                    if value >= 0:                    \n",
    "                        if V+value <= 100:\n",
    "                            v_list.append(V+v_SpringWinter_plus[i])\n",
    "                        else:\n",
    "                            v_list.append(V-v_SpringWinter_plus[i])\n",
    "                    else:\n",
    "                        if V+saturation >= 10:\n",
    "                            v_list.append(V+v_SpringWinter_plus[i])\n",
    "                        else:\n",
    "                            v_list.append(V-v_SpringWinter_plus[i])                    \n",
    "\n",
    "            # 가을\n",
    "            elif diff <= 43.15:\n",
    "                for saturation, value, i in zip(s_SummerAutumn_plus, v_SummerAutumn_plus, range(6)):\n",
    "                    if saturation >= 0:                    \n",
    "                        if S+saturation <= 100:\n",
    "                            s_list.append(S+s_SummerAutumn_plus[i])\n",
    "                        else:\n",
    "                            s_list.append(S-s_SummerAutumn_plus[i])\n",
    "                    else:\n",
    "                        if S+saturation >= 10:\n",
    "                            s_list.append(S+s_SummerAutumn_plus[i])\n",
    "                        else:\n",
    "                            s_list.append(S-s_SummerAutumn_plus[i])\n",
    "\n",
    "                    if value >= 0:                    \n",
    "                        if V+value <= 100:\n",
    "                            v_list.append(V+v_SummerAutumn_plus[i])\n",
    "                        else:\n",
    "                            v_list.append(V-v_SummerAutumn_plus[i])\n",
    "                    else:\n",
    "                        if V+saturation >= 10:\n",
    "                            v_list.append(V+v_SummerAutumn_plus[i])\n",
    "                        else:\n",
    "                            v_list.append(V-v_SummerAutumn_plus[i])\n",
    "\n",
    "        # 쿨톤\n",
    "        elif (H >= 0 and H <= 25) or (H >= 207 and H <= 359) :\n",
    "            # 쿨톤 HUE 변경\n",
    "            for hue, i in zip(h_cool_plus, range(6)):\n",
    "                if H+hue <= 359:\n",
    "                    h_list.append(H+h_cool_plus[i])\n",
    "                else:\n",
    "                    h_list.append(H+h_cool_plus[1]-359)\n",
    "\n",
    "            # 여름\n",
    "            if diff >= 47.15 :\n",
    "                for saturation, value, i in zip(s_SummerAutumn_plus, v_SummerAutumn_plus, range(6)):\n",
    "                    if saturation >= 0:                    \n",
    "                        if S+saturation <= 100:\n",
    "                            s_list.append(S+s_SummerAutumn_plus[i])\n",
    "                        else:\n",
    "                            s_list.append(S-s_SummerAutumn_plus[i])\n",
    "                    else:\n",
    "                        if S+saturation >= 10:\n",
    "                            s_list.append(S+s_SummerAutumn_plus[i])\n",
    "                        else:\n",
    "                            s_list.append(S-s_SummerAutumn_plus[i])\n",
    "\n",
    "                    if value >= 0:                    \n",
    "                        if V+value <= 100:\n",
    "                            v_list.append(V+v_SummerAutumn_plus[i])\n",
    "                        else:\n",
    "                            v_list.append(V-v_SummerAutumn_plus[i])\n",
    "                    else:\n",
    "                        if V+saturation >= 10:\n",
    "                            v_list.append(V+v_SummerAutumn_plus[i])\n",
    "                        else:\n",
    "                            v_list.append(V-v_SummerAutumn_plus[i])\n",
    "\n",
    "            # 겨울\n",
    "            elif diff <= 47.15:\n",
    "                for saturation, value, i in zip(s_SpringWinter_plus, v_SpringWinter_plus, range(6)):\n",
    "                    # Saturation\n",
    "                    if saturation >= 0:                    \n",
    "                        if S+saturation <= 100:\n",
    "                            s_list.append(S+s_SpringWinter_plus[i])\n",
    "                        else:\n",
    "                            s_list.append(S-s_SpringWinter_plus[i])\n",
    "                    else:\n",
    "                        if S+saturation >= 10:\n",
    "                            s_list.append(S+s_SpringWinter_plus[i])\n",
    "                        else:\n",
    "                            s_list.append(S-s_SpringWinter_plus[i])\n",
    "                    # Vlaue\n",
    "                    if value >= 0:                    \n",
    "                        if V+value <= 100:\n",
    "                            v_list.append(V+v_SpringWinter_plus[i])\n",
    "                        else:\n",
    "                            v_list.append(V-v_SpringWinter_plus[i])\n",
    "                    else:\n",
    "                        if V+saturation >= 10:\n",
    "                            v_list.append(V+v_SpringWinter_plus[i])\n",
    "                        else:\n",
    "                            v_list.append(V-v_SpringWinter_plus[i])                    \n",
    "\n",
    "        else :\n",
    "            h_list, s_list, v_list = [0, 0, 0, 0, 0, 0], [0, 0, 0, 0, 0, 0], [0, 0, 0, 0, 0, 0]\n",
    "    \n",
    "    except:\n",
    "        print('팔레트 매칭에서 오류발생')\n",
    "    \n",
    "    # 팔레트 HSV\n",
    "    comp_color = [h_list[0], s_list[0], v_list[0]]\n",
    "    triangle_comp_color_1 = [h_list[1], s_list[1], v_list[1]]\n",
    "    triangle_comp_color_2 = [h_list[2], s_list[2], v_list[2]]\n",
    "    doubleness_comp_color_1 = [h_list[3], s_list[3], v_list[3]]\n",
    "    doubleness_comp_color_2 = [h_list[4], s_list[4], v_list[4]]\n",
    "    doubleness_comp_color_3 = [h_list[5], s_list[5], v_list[5]]\n",
    "    \n",
    "    personalization_palette = [comp_color, triangle_comp_color_1, triangle_comp_color_2, \n",
    "                              doubleness_comp_color_1, doubleness_comp_color_2, doubleness_comp_color_3]\n",
    "    \n",
    "    return personalization_palette"
   ]
  },
  {
   "cell_type": "code",
   "execution_count": 432,
   "metadata": {},
   "outputs": [],
   "source": [
    "# 컬러 시각화 함수\n",
    "def show_colors(personal_palette, labels):\n",
    "    try:\n",
    "        rows, cols, cnt = 1, len(personal_palette), 1\n",
    "        fig = plt.figure(figsize=(12, 3))\n",
    "\n",
    "        for i in range(len(personal_palette)):\n",
    "            h, s, v = personal_palette[i]\n",
    "            RGB = hsv_to_rgb(np.array([[[h/359, s/100, v/100]]]))\n",
    "\n",
    "            # 시각화\n",
    "            ax = fig.add_subplot(rows, cols, cnt)\n",
    "            ax.imshow(RGB)\n",
    "            ax.set_title(labels[i])\n",
    "            ax.set_xticks([]), ax.set_yticks([])\n",
    "            cnt += 1\n",
    "\n",
    "        plt.show()\n",
    "        \n",
    "    except:\n",
    "        print('팔레트 시각화에서 오류발생')"
   ]
  },
  {
   "cell_type": "code",
   "execution_count": 453,
   "metadata": {
    "scrolled": true
   },
   "outputs": [
    {
     "data": {
      "text/plain": [
       "'희희'"
      ]
     },
     "execution_count": 453,
     "metadata": {},
     "output_type": "execute_result"
    }
   ],
   "source": [
    "# 팔레트-상품 색 매칭 & 코드추출 테스트\n",
    "\n",
    "############################## 색매칭용 HSV 샘플 생성\n",
    "np.random.seed(0)\n",
    "H = np.random.randint(0, 359, size=(70, 300))\n",
    "S = np.random.randint(1, 99, size=(70, 300))\n",
    "V = np.random.randint(1, 99, size=(70, 300))\n",
    "CODE = np.random.randint(100000, 999999, size=(70, 300))\n",
    "\n",
    "HSV_sample = np.dstack((H, S, V, CODE))\n",
    "##############################\n",
    "\n",
    "############################## HSV 샘플 색 시각화\n",
    "# HSV_sample = np.dstack((H/359, S/100, V/100, CODE))\n",
    "# RGB = hsv_to_rgb(HSV_sample[:, :, :3])\n",
    "\n",
    "# plt.subplot(211)\n",
    "# plt.imshow(RGB, origin=\"lower\", extent=[0, 360, 0, 1], aspect=80)\n",
    "# plt.xlabel(\"색상(Hue)\")\n",
    "# plt.ylabel(\"명도(Value)\")\n",
    "# plt.grid(False)\n",
    "\n",
    "# plt.tight_layout()\n",
    "# plt.show()\n",
    "##############################\n",
    "\n",
    "############################## HSV 샘플 데이터 파악\n",
    "HSV_sample[:, :, 0] # H\n",
    "HSV_sample[:, :, 1] # s\n",
    "HSV_sample[:, :, 2] # V\n",
    "HSV_sample[:, :, :3] # HSV\n",
    "HSV_sample[:, :, 3] # CODE\n",
    "\n",
    "HSV_sample[69, :, :].shape # 0~69 : (300, 4)\n",
    "HSV_sample[:, 299, :].shape # 0~299 : (70, 4)\n",
    "HSV_sample[:, :, 0].shape # 0~3 : (70, 300)\n",
    "##############################\n",
    "\n",
    "############################## HSV 샘플에서 색 매칭 상품코드 찾기\n",
    "\"\"\"\n",
    "무신사 상품이미지 측색 데이터 DB에 저장되면\n",
    "나중에 \n",
    "HSV_sample = np.dstack((H, S, V, CODE))\n",
    "요런 형태로 끌어올 수 있게 코딩\n",
    "↓↓↓↓↓아래처럼 찾아오긔↓↓↓↓↓\n",
    "\"\"\"\n",
    "# 오차범위 설정\n",
    "### 오차범위 숫자들은 변수로 담아서 수식으로 넣기 (아래는 테스트용)\n",
    "# H_idx = (HSV_sample[:, :, 0]<160)&(HSV_sample[:, :, 0]>150)\n",
    "# S_idx = (HSV_sample[:, :, 1]<45)&(HSV_sample[:, :, 1]>35)\n",
    "# V_idx = (HSV_sample[:, :, 2]<45)&(HSV_sample[:, :, 2]>35)\n",
    "\n",
    "# # HSV 오차범위 조건으로 팬시인덱싱, 데이터 확인\n",
    "# HSV_sample[(H_idx&S_idx&V_idx)]      # fancy indexing\n",
    "# HSV_sample[(H_idx&S_idx&V_idx)][:,0] # H\n",
    "# HSV_sample[(H_idx&S_idx&V_idx)][:,1] # S\n",
    "# HSV_sample[(H_idx&S_idx&V_idx)][:,2] # V\n",
    "# HSV_sample[(H_idx&S_idx&V_idx)][:,3] # CODE\n",
    "\n",
    "# # fancy indexing으로 상품코드 찾기\n",
    "# for i in range(HSV_sample[(H_idx&S_idx&V_idx)].shape[0]): \n",
    "#     print(i+1,\"번째 매칭 상품\", HSV_sample[(H_idx&S_idx&V_idx)][:,3][i])\n",
    "\n",
    "# # np.where 로 상품코드 찾기\n",
    "# for i in range(HSV_sample[(H_idx&S_idx&V_idx)].shape[0]):\n",
    "#     prdt_idx1, prdt_idx2 = np.where(HSV_sample[(H_idx&S_idx&V_idx)][:,3][i] == HSV_sample[:, :, 3])\n",
    "#     prdt_code = HSV_sample[:, :, 3][prdt_idx1[0], prdt_idx2[0]]\n",
    "#     print(\"{}번째 매칭 상품 {}\".format(i, prdt_code))\n",
    "##############################\n",
    "\"희희\""
   ]
  },
  {
   "cell_type": "code",
   "execution_count": 454,
   "metadata": {},
   "outputs": [
    {
     "data": {
      "text/plain": [
       "(20741,)"
      ]
     },
     "execution_count": 454,
     "metadata": {},
     "output_type": "execute_result"
    }
   ],
   "source": [
    "np.unique(CODE).shape\n",
    "# CODE.reshape(1, -1).shape"
   ]
  },
  {
   "cell_type": "code",
   "execution_count": 457,
   "metadata": {},
   "outputs": [],
   "source": [
    "# 퍼스널컬러 팔레트 추출값에 색매칭 상품코드 추출\n",
    "def palette_matched_prdt(personal_palette, labels):\n",
    "    try:\n",
    "        show_colors(personal_palette, labels) # 팔레트 컬러 시각화 함수\n",
    "        error_range = [10, 5, 5] # 색매칭 오차범위 변수담기\n",
    "        matched_prdt = [] # 팔레트 총 추천상품 담을 변수\n",
    "\n",
    "        for i in range(len(personal_palette)):\n",
    "            prdt_codes = [] # 팔레트별 추출 상품코드 담을 변수\n",
    "            h, s, v = personal_palette[i][0], personal_palette[i][1], personal_palette[i][2]\n",
    "\n",
    "            # 오차범위 반영 fancy index 변수로 담기\n",
    "            H_idx = (HSV_sample[:, :, 0]<(h+error_range[0]))&(HSV_sample[:, :, 0]>(h-error_range[0]))\n",
    "            S_idx = (HSV_sample[:, :, 1]<(s+error_range[1]))&(HSV_sample[:, :, 1]>(s-error_range[1]))\n",
    "            V_idx = (HSV_sample[:, :, 2]<(v+error_range[2]))&(HSV_sample[:, :, 2]>(v-error_range[2]))\n",
    "\n",
    "            # fancy indexing으로 상품코드 찾기\n",
    "            for j in range(HSV_sample[(H_idx&S_idx&V_idx)].shape[0]): \n",
    "                prdt_codes.append(HSV_sample[(H_idx&S_idx&V_idx)][:,3][j])\n",
    "\n",
    "            matched_prdt.append(prdt_codes)\n",
    "        \n",
    "    except:\n",
    "        print('상품추출에서 오류발생')\n",
    "        \n",
    "    return matched_prdt"
   ]
  },
  {
   "cell_type": "code",
   "execution_count": 458,
   "metadata": {
    "scrolled": false
   },
   "outputs": [
    {
     "data": {
      "image/png": "[encoded data removed]",
      "text/plain": [
       "<Figure size 864x216 with 6 Axes>"
      ]
     },
     "metadata": {},
     "output_type": "display_data"
    },
    {
     "data": {
      "image/png": "[encoded data removed]",
      "text/plain": [
       "<Figure size 864x216 with 10 Axes>"
      ]
     },
     "metadata": {},
     "output_type": "display_data"
    },
    {
     "data": {
      "image/png": "[encoded data removed]",
      "text/plain": [
       "<Figure size 864x216 with 9 Axes>"
      ]
     },
     "metadata": {},
     "output_type": "display_data"
    },
    {
     "data": {
      "image/png": "[encoded data removed]",
      "text/plain": [
       "<Figure size 864x216 with 7 Axes>"
      ]
     },
     "metadata": {},
     "output_type": "display_data"
    },
    {
     "data": {
      "image/png": "[encoded data removed]",
      "text/plain": [
       "<Figure size 864x216 with 4 Axes>"
      ]
     },
     "metadata": {},
     "output_type": "display_data"
    },
    {
     "data": {
      "image/png": "[encoded data removed]",
      "text/plain": [
       "<Figure size 864x216 with 13 Axes>"
      ]
     },
     "metadata": {},
     "output_type": "display_data"
    },
    {
     "data": {
      "image/png": "[encoded data removed]",
      "text/plain": [
       "<Figure size 864x216 with 8 Axes>"
      ]
     },
     "metadata": {},
     "output_type": "display_data"
    }
   ],
   "source": [
    "## 실행코드\n",
    "hsv = [27, 45, 80]\n",
    "labels = [\"보색\", \"삼각보색1\", \"삼각보색2\", \"이중보색1\", \"이중보색2\", \"이중보색3\"]\n",
    "\n",
    "# 팔레트 매칭 상품추출 함수\n",
    "matched_prdt = palette_matched_prdt(color_palette(hsv), labels)\n",
    "\n",
    "## 추출된 상품 색 확인하기\n",
    "for i in range(len(matched_prdt)):\n",
    "    prdt_list = []\n",
    "    for j in range(len(matched_prdt[i])):\n",
    "        prdt = HSV_sample[matched_prdt[i][j] == HSV_sample[:, :, 3]]\n",
    "        prdt_list.append([prdt[0][0], prdt[0][1], prdt[0][2]])\n",
    "    show_colors(prdt_list, labels = [labels[i]]*len(prdt_list))"
   ]
  },
  {
   "cell_type": "code",
   "execution_count": null,
   "metadata": {},
   "outputs": [],
   "source": []
  },
  {
   "cell_type": "code",
   "execution_count": null,
   "metadata": {},
   "outputs": [],
   "source": []
  },
  {
   "cell_type": "code",
   "execution_count": null,
   "metadata": {},
   "outputs": [],
   "source": []
  },
  {
   "cell_type": "code",
   "execution_count": null,
   "metadata": {},
   "outputs": [],
   "source": []
  },
  {
   "cell_type": "code",
   "execution_count": null,
   "metadata": {},
   "outputs": [],
   "source": []
  },
  {
   "cell_type": "code",
   "execution_count": null,
   "metadata": {},
   "outputs": [],
   "source": []
  },
  {
   "cell_type": "code",
   "execution_count": null,
   "metadata": {},
   "outputs": [],
   "source": []
  }
 ],
 "metadata": {
  "kernelspec": {
   "display_name": "Python 3",
   "language": "python",
   "name": "python3"
  },
  "language_info": {
   "codemirror_mode": {
    "name": "ipython",
    "version": 3
   },
   "file_extension": ".py",
   "mimetype": "text/x-python",
   "name": "python",
   "nbconvert_exporter": "python",
   "pygments_lexer": "ipython3",
   "version": "3.7.4"
  }
 },
 "nbformat": 4,
 "nbformat_minor": 2
}
