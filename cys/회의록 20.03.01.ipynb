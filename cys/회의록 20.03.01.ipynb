{
 "cells": [
  {
   "cell_type": "markdown",
   "metadata": {},
   "source": [
    "### 설문지 수정 사항\n",
    "\n",
    "    - 화면 밝기 강조\n",
    "\n",
    "    - 퍼스널 컬러 관심의 유무, 어떤 것으로 알고있는 지에 대한 문항 하나로 합치기\n",
    "      어떤 것으로 알고 있나로 통일\n",
    "  \n",
    "\n",
    "### 연예인 피부톤 측색부위\n",
    "\n",
    "    - 점수 측정(1-5점) 방식\n",
    "        장 : 통계 낼 수 있는 부분이 많아진다\n",
    "        단 : 설문자들이 투표하기에 어려워할 것 같음\n",
    "\n",
    "    - 가장 적합한 부위 한 개만 선택\n",
    "        장 : 설문자들이 신중하게 하나만 선택할 수 있음\n",
    "        단 : 세워놓은 가설만 검증할 수 있을 것이라 생각됨\n",
    "\n",
    "    - 편차를 내는 방식 ( 전혀 비슷하지 않다, 비슷하지 않다, 비슷하다, 매우 비슷하다)\n",
    "        장 : 통계 낼 수 있는 부분이 많아진다\n",
    "        단 : 설문자들이 투표하기에 어려워할 것 같음 \n",
    "\n",
    "\n",
    "    < 최종 결론 >\n",
    "    \n",
    "    - 2개 선택하는 방식\n",
    "       이미지 나열해서 한번에 노출함으로써 설문지 보기에 간편\n",
    "       2개 선택 방식이므로 설문자들이 투표하기도 쉬워할 것 같고, 통계 낼 부분도 많아질 것이라 생각됨\n",
    "        \n",
    "\n",
    "### 퍼스널 컬러 이미지 사이즈\n",
    "\n",
    "    - 정사각형 형태에 번호는 별도 표시"
   ]
  }
 ],
 "metadata": {
  "kernelspec": {
   "display_name": "Python 3",
   "language": "python",
   "name": "python3"
  },
  "language_info": {
   "codemirror_mode": {
    "name": "ipython",
    "version": 3
   },
   "file_extension": ".py",
   "mimetype": "text/x-python",
   "name": "python",
   "nbconvert_exporter": "python",
   "pygments_lexer": "ipython3",
   "version": "3.7.4"
  }
 },
 "nbformat": 4,
 "nbformat_minor": 2
}
