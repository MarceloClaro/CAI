{
 "cells": [
  {
   "cell_type": "markdown",
   "metadata": {},
   "source": [
    "### 퍼스널 컬러 타입 분류 \n",
    "\n",
    "    최초 작성일 : 20/02/11\n",
    "    작성자 : 조예슬\n",
    "    \n",
    "    작성내용 : HSV로 기준 세워 퍼스널 컬러 타입 분류\n",
    "    \n",
    "    수정내용 : \n",
    "        20/02/19\n",
    "            - 분류기준 먼셀에서 HSV로 변경  \n",
    "        \n",
    "        20/02/20\n",
    "            - 퍼스널 컬러 타입 결과 숫자로 지정, return 재배치, 타입 기준점(Cool의 Detail) 재조정"
   ]
  },
  {
   "cell_type": "code",
   "execution_count": 2,
   "metadata": {},
   "outputs": [],
   "source": [
    "# 기준값에 따라 분류하기\n",
    "\n",
    "def color_classifier(person_HSV) :    \n",
    "    \n",
    "    # 입력값 Hue, Sturation, Value에 따라 변수 지정\n",
    "    H = float(person_HSV[0])\n",
    "    S = float(person_HSV[1])\n",
    "    V = float(person_HSV[2])\n",
    "    diff = round(V - S, 2)\n",
    "    \n",
    "    color_type = [\"WSB\", \"WSL\", \"WAD\", \"WAM\", \"CSL\", \"CSM\", \"CWB\", \"CWD\"]\n",
    "    \n",
    "    if H >= 26 and H <= 206 : \n",
    "        if diff >= 43.15 :\n",
    "            if S >= 32.47 :\n",
    "                ans = 0\n",
    "                # Warm Spring Bright                            \n",
    "            else :\n",
    "                ans = 1\n",
    "                # Warm Spring Light\n",
    "                                \n",
    "        elif diff <= 43.15:\n",
    "            if S >= 32.47 :\n",
    "                ans = 2\n",
    "                # Warm Autumn Deep                \n",
    "            else :\n",
    "                ans = 3\n",
    "                # Warm Autumn Mute\n",
    "                \n",
    "\n",
    "                \n",
    "    elif (H >= 0 and H <= 25) or (H >= 207 and H <= 359) :\n",
    "        if diff >= 47.15 :\n",
    "            if diff >= 60.80 :\n",
    "                ans = 4\n",
    "                # Cool Summer Light                \n",
    "            else :\n",
    "                ans = 5\n",
    "                # Cool Summer Mute\n",
    "                                \n",
    "        elif diff <= 47.15:\n",
    "            if diff >= 23.58 :\n",
    "                ans = 6\n",
    "                # Cool Winter Bright                \n",
    "            else :\n",
    "                ans = 7\n",
    "                # Cool Winter Deep\n",
    "                \n",
    "                \n",
    "    else :\n",
    "        ans = -1\n",
    "        # 에러\n",
    "    \n",
    "    \n",
    "    return ans"
   ]
  },
  {
   "cell_type": "code",
   "execution_count": 3,
   "metadata": {},
   "outputs": [],
   "source": [
    "# color type\n",
    "color_type = [\"WSB\", \"WSL\", \"WAD\", \"WAM\", \"CSL\", \"CSM\", \"CWB\", \"CWD\"]"
   ]
  },
  {
   "cell_type": "code",
   "execution_count": 4,
   "metadata": {},
   "outputs": [
    {
     "data": {
      "text/plain": [
       "'WAD'"
      ]
     },
     "execution_count": 4,
     "metadata": {},
     "output_type": "execute_result"
    }
   ],
   "source": [
    "# 대입\n",
    "color_type[color_classifier([31.533999999999, 40.884, 70.98000000000004])]"
   ]
  }
 ],
 "metadata": {
  "kernelspec": {
   "display_name": "Python 3",
   "language": "python",
   "name": "python3"
  },
  "language_info": {
   "codemirror_mode": {
    "name": "ipython",
    "version": 3
   },
   "file_extension": ".py",
   "mimetype": "text/x-python",
   "name": "python",
   "nbconvert_exporter": "python",
   "pygments_lexer": "ipython3",
   "version": "3.7.6"
  }
 },
 "nbformat": 4,
 "nbformat_minor": 2
}
