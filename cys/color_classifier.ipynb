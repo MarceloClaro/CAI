{
 "cells": [
  {
   "cell_type": "code",
   "execution_count": 2,
   "metadata": {},
   "outputs": [],
   "source": [
    "##########\n",
    "# \n",
    "##########\n"
   ]
  },
  {
   "cell_type": "code",
   "execution_count": 3,
   "metadata": {},
   "outputs": [],
   "source": [
    "import re"
   ]
  },
  {
   "cell_type": "code",
   "execution_count": 124,
   "metadata": {},
   "outputs": [
    {
     "data": {
      "text/plain": [
       "['1.7R', '9.5', '3.8']"
      ]
     },
     "execution_count": 124,
     "metadata": {},
     "output_type": "execute_result"
    }
   ],
   "source": [
    "# 입력된 먼셀값 색, 채도, 명도 나눠주기 \n",
    "a = \"1.7Y 9.5/3.8\"\n",
    "\n",
    "a2 = re.sub(\"/\", \" \", a)\n",
    "a3 = re.findall(\"\\S+\", a2)\n",
    "a3"
   ]
  },
  {
   "cell_type": "code",
   "execution_count": null,
   "metadata": {},
   "outputs": [],
   "source": []
  },
  {
   "cell_type": "code",
   "execution_count": null,
   "metadata": {},
   "outputs": [],
   "source": []
  },
  {
   "cell_type": "code",
   "execution_count": 125,
   "metadata": {},
   "outputs": [
    {
     "name": "stdout",
     "output_type": "stream",
     "text": [
      "1.7\n",
      "R\n"
     ]
    }
   ],
   "source": [
    "# 색상\n",
    "a4 = a3[0]\n",
    "a4\n",
    "\n",
    "# 색상 숫자 \n",
    "a5 = re.findall(\"^\\d+(?:[.]?[\\d]?[\\d])\", a4)\n",
    "a6 = \"\".join(a5)\n",
    "a_num = float(a6)\n",
    "print(a_num)\n",
    "\n",
    "# 색상 영어\n",
    "a7 = re.findall(\"\\D+$\", a4)\n",
    "a_eng = \"\".join(a7)\n",
    "print(a_eng)"
   ]
  },
  {
   "cell_type": "code",
   "execution_count": 126,
   "metadata": {},
   "outputs": [
    {
     "name": "stdout",
     "output_type": "stream",
     "text": [
      "cool\n"
     ]
    }
   ],
   "source": [
    "# 웜톤인지 쿨톤인지 알려주자아아아아아아아\n",
    "\n",
    "warm = [\"Y\", \"GY\", \"G\", \"BG\"]\n",
    "cool = [\"R\", \"RP\", \"P\", \"PB\"]\n",
    "\n",
    "if a_eng in warm :\n",
    "    print(\"warm\")\n",
    "    \n",
    "elif a_eng in cool :\n",
    "    print(\"cool\")\n",
    "    \n",
    "elif a_eng == \"YR\" :\n",
    "    if a_num >= 6 and a_num <= 10 :\n",
    "        print(\"warm\")\n",
    "        \n",
    "    else :\n",
    "        print(\"cool\")\n",
    "        \n",
    "elif a_eng == \"B\" :\n",
    "    if a_num >= 6 and a_num <= 10 :\n",
    "        print(\"cool\")\n",
    "    else :\n",
    "        print(\"warm\")"
   ]
  },
  {
   "cell_type": "code",
   "execution_count": null,
   "metadata": {},
   "outputs": [],
   "source": []
  },
  {
   "cell_type": "code",
   "execution_count": null,
   "metadata": {},
   "outputs": [],
   "source": []
  },
  {
   "cell_type": "code",
   "execution_count": null,
   "metadata": {},
   "outputs": [],
   "source": []
  },
  {
   "cell_type": "code",
   "execution_count": null,
   "metadata": {},
   "outputs": [],
   "source": []
  },
  {
   "cell_type": "code",
   "execution_count": null,
   "metadata": {},
   "outputs": [],
   "source": []
  },
  {
   "cell_type": "code",
   "execution_count": null,
   "metadata": {},
   "outputs": [],
   "source": []
  }
 ],
 "metadata": {
  "kernelspec": {
   "display_name": "Python 3",
   "language": "python",
   "name": "python3"
  },
  "language_info": {
   "codemirror_mode": {
    "name": "ipython",
    "version": 3
   },
   "file_extension": ".py",
   "mimetype": "text/x-python",
   "name": "python",
   "nbconvert_exporter": "python",
   "pygments_lexer": "ipython3",
   "version": "3.7.4"
  }
 },
 "nbformat": 4,
 "nbformat_minor": 2
}
