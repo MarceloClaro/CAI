{
 "cells": [
  {
   "cell_type": "markdown",
   "metadata": {},
   "source": [
    " ## 대표 색상(H변경) 관련 가설검증\n",
    " \n",
    "    최초 작성일 : 2020/03/23\n",
    "    작성자 : 조예슬 \n",
    " \n",
    "    < 작성 내용 >\n",
    "    \n",
    "        설문지(1) 사용 3번 문항\n",
    "    \n",
    "        - 설문조사 결과 그래프로 시각화\n",
    "        \n",
    "        - 성별에 따른 색상(FixedHue, bright) 인식 차이\n",
    "        \n",
    "        - 연령에 따른 색상(FixedHue, bright) 인식 차이\n",
    "        \n",
    "        - 패션 관심도에 따른 색상(FixedHue, bright) 인식 차이\n",
    "        \n",
    "        - definition + need 묶어서 색상(FixedHue, bright) 인식 차이 \n",
    "\n",
    "        - Sex + Age 묶어서 색상(FixedHue, bright) 인식 차이"
   ]
  },
  {
   "cell_type": "code",
   "execution_count": null,
   "metadata": {},
   "outputs": [],
   "source": []
  },
  {
   "cell_type": "markdown",
   "metadata": {},
   "source": [
    "# 색상변경, bright"
   ]
  },
  {
   "cell_type": "markdown",
   "metadata": {},
   "source": [
    "### 설문조사 결과를 토대로 대표 색상 설정"
   ]
  },
  {
   "cell_type": "code",
   "execution_count": 1,
   "metadata": {},
   "outputs": [
    {
     "name": "stdout",
     "output_type": "stream",
     "text": [
      "'data.frame':\t684 obs. of  4 variables:\n",
      " $ X     : int  0 1 2 3 4 5 6 7 8 9 ...\n",
      " $ select: Factor w/ 5 levels \"144\",\"216\",\"288\",..: 2 4 1 3 2 5 4 4 4 3 ...\n",
      " $ class : Factor w/ 6 levels \"comp\",\"doubleness1\",..: 1 1 1 1 1 1 1 1 1 1 ...\n",
      " $ cnt   : int  1 1 1 1 1 1 1 1 1 1 ...\n"
     ]
    },
    {
     "data": {
      "text/html": [
       "<table>\n",
       "<thead><tr><th scope=col>X</th><th scope=col>select</th><th scope=col>class</th><th scope=col>cnt</th></tr></thead>\n",
       "<tbody>\n",
       "\t<tr><td>0       </td><td>216     </td><td>comp    </td><td>1       </td></tr>\n",
       "\t<tr><td>1       </td><td>72      </td><td>comp    </td><td>1       </td></tr>\n",
       "\t<tr><td>2       </td><td>144     </td><td>comp    </td><td>1       </td></tr>\n",
       "\t<tr><td>3       </td><td>288     </td><td>comp    </td><td>1       </td></tr>\n",
       "\t<tr><td>4       </td><td>216     </td><td>comp    </td><td>1       </td></tr>\n",
       "\t<tr><td>5       </td><td>original</td><td>comp    </td><td>1       </td></tr>\n",
       "</tbody>\n",
       "</table>\n"
      ],
      "text/latex": [
       "\\begin{tabular}{r|llll}\n",
       " X & select & class & cnt\\\\\n",
       "\\hline\n",
       "\t 0        & 216      & comp     & 1       \\\\\n",
       "\t 1        & 72       & comp     & 1       \\\\\n",
       "\t 2        & 144      & comp     & 1       \\\\\n",
       "\t 3        & 288      & comp     & 1       \\\\\n",
       "\t 4        & 216      & comp     & 1       \\\\\n",
       "\t 5        & original & comp     & 1       \\\\\n",
       "\\end{tabular}\n"
      ],
      "text/markdown": [
       "\n",
       "| X | select | class | cnt |\n",
       "|---|---|---|---|\n",
       "| 0        | 216      | comp     | 1        |\n",
       "| 1        | 72       | comp     | 1        |\n",
       "| 2        | 144      | comp     | 1        |\n",
       "| 3        | 288      | comp     | 1        |\n",
       "| 4        | 216      | comp     | 1        |\n",
       "| 5        | original | comp     | 1        |\n",
       "\n"
      ],
      "text/plain": [
       "  X select   class cnt\n",
       "1 0 216      comp  1  \n",
       "2 1 72       comp  1  \n",
       "3 2 144      comp  1  \n",
       "4 3 288      comp  1  \n",
       "5 4 216      comp  1  \n",
       "6 5 original comp  1  "
      ]
     },
     "metadata": {},
     "output_type": "display_data"
    }
   ],
   "source": [
    "# 데이터 불러오기\n",
    "\n",
    "hChanged_bright <- read.csv(\"C:/Users/cho ye seul/Documents/예슬/Acorn/FinalProject/Statistical Analysis/hChanged_bright.csv\")\n",
    "str(hChanged_bright)\n",
    "head(hChanged_bright)"
   ]
  },
  {
   "cell_type": "code",
   "execution_count": 2,
   "metadata": {},
   "outputs": [
    {
     "data": {
      "image/png": "[encoded data removed]",
      "text/plain": [
       "plot without title"
      ]
     },
     "metadata": {},
     "output_type": "display_data"
    }
   ],
   "source": [
    "# 그래프로 상태 먼저 확인\n",
    "\n",
    "# install.packages(\"ggplot2\")\n",
    "library(\"ggplot2\")\n",
    "\n",
    "# 각 샘플마다 나눠서 보기\n",
    "ggplot(hChanged_bright, aes(class, fill=select)) + geom_bar(position=\"dodge\") + labs(title=\"Representative Color(changed hue)\")\n",
    "# 음.. 상당히 일관성이 없는것같다ㅋㅋㅋㅋ"
   ]
  },
  {
   "cell_type": "code",
   "execution_count": 6,
   "metadata": {
    "scrolled": true
   },
   "outputs": [
    {
     "name": "stderr",
     "output_type": "stream",
     "text": [
      "Warning message:\n",
      "\"package 'tibble' was built under R version 3.6.2\""
     ]
    },
    {
     "data": {
      "text/html": [
       "<table>\n",
       "<thead><tr><th scope=col>select</th><th scope=col>total</th></tr></thead>\n",
       "<tbody>\n",
       "\t<tr><td>72      </td><td>183     </td></tr>\n",
       "\t<tr><td>144     </td><td>141     </td></tr>\n",
       "\t<tr><td>original</td><td>115     </td></tr>\n",
       "\t<tr><td>216     </td><td>134     </td></tr>\n",
       "\t<tr><td>288     </td><td>111     </td></tr>\n",
       "</tbody>\n",
       "</table>\n"
      ],
      "text/latex": [
       "\\begin{tabular}{r|ll}\n",
       " select & total\\\\\n",
       "\\hline\n",
       "\t 72       & 183     \\\\\n",
       "\t 144      & 141     \\\\\n",
       "\t original & 115     \\\\\n",
       "\t 216      & 134     \\\\\n",
       "\t 288      & 111     \\\\\n",
       "\\end{tabular}\n"
      ],
      "text/markdown": [
       "\n",
       "| select | total |\n",
       "|---|---|\n",
       "| 72       | 183      |\n",
       "| 144      | 141      |\n",
       "| original | 115      |\n",
       "| 216      | 134      |\n",
       "| 288      | 111      |\n",
       "\n"
      ],
      "text/plain": [
       "  select   total\n",
       "1 72       183  \n",
       "2 144      141  \n",
       "3 original 115  \n",
       "4 216      134  \n",
       "5 288      111  "
      ]
     },
     "metadata": {},
     "output_type": "display_data"
    }
   ],
   "source": [
    "# 전체결과보기 위한 dataframe 새로 만들기\n",
    "t_72 <- with(hChanged_bright, sum(cnt[select==\"72\"]))\n",
    "t_144 <- with(hChanged_bright, sum(cnt[select==\"144\"]))\n",
    "t_origin <- with(hChanged_bright, sum(cnt[select==\"original\"]))\n",
    "t_216 <- with(hChanged_bright, sum(cnt[select==\"216\"]))\n",
    "t_288 <- with(hChanged_bright, sum(cnt[select==\"288\"]))\n",
    "\n",
    "# column 만들기\n",
    "total <- c(t_72, t_144, t_origin, t_216, t_288)\n",
    "\n",
    "# dataframe 만들기\n",
    "df_hChanged_bright <- data.frame(total)\n",
    "rownames(df_hChanged_bright) <- c(\"72\", \"144\", \"original\", \"216\", \"288\")\n",
    "library(tibble)\n",
    "df_hChanged_bright2 <- rownames_to_column(df_hChanged_bright, var=\"select\")\n",
    "\n",
    "df_hChanged_bright2"
   ]
  },
  {
   "cell_type": "code",
   "execution_count": 7,
   "metadata": {},
   "outputs": [
    {
     "data": {
      "image/png": "[encoded data removed]",
      "text/plain": [
       "plot without title"
      ]
     },
     "metadata": {},
     "output_type": "display_data"
    }
   ],
   "source": [
    "# 전체 결과 그래프로 확인\n",
    "\n",
    "ggplot(df_hChanged_bright2, aes(x=select, y=total)) + geom_bar(stat=\"identity\") + labs(title=\"Representative Color(changed hue)\")"
   ]
  },
  {
   "cell_type": "markdown",
   "metadata": {},
   "source": [
    "    설문조사 결과를 토대로 \n",
    "    대표색상(색상변경,bright)은 \"72º\"의 값으로 설정\n",
    "    (72도 : 피부색의 보색 원색에서 색 + 72º 한 값)\n",
    "        \n",
    "    그렇기에 앞으로 분석 방향은\n",
    "    대표색상 \"72º\"로 설정하여 모든것을 진행할 것"
   ]
  },
  {
   "cell_type": "code",
   "execution_count": null,
   "metadata": {},
   "outputs": [],
   "source": []
  },
  {
   "cell_type": "markdown",
   "metadata": {},
   "source": [
    "# 전체"
   ]
  },
  {
   "cell_type": "markdown",
   "metadata": {},
   "source": [
    "### 성별에 따른 대표 색상(색상변경, bright) 인식 차이 \n",
    "\n",
    "    귀무가설 : 성별에 따라 대표 색상(색상변경, bright) 인식 차이가 없다\n",
    "    대립가설 : 성별에 따라 대표 색상(색상변경, bright) 인식 차이가 있다\n",
    "    \n",
    "    - 대표 색상(색상변경, bright) : 72º\n",
    "    - chisq.test 사용"
   ]
  },
  {
   "cell_type": "code",
   "execution_count": 9,
   "metadata": {},
   "outputs": [
    {
     "name": "stdout",
     "output_type": "stream",
     "text": [
      "'data.frame':\t684 obs. of  4 variables:\n",
      " $ X     : int  0 1 2 3 4 5 6 7 8 9 ...\n",
      " $ sex   : Factor w/ 2 levels \"Female\",\"Male\": 2 1 1 1 1 1 1 2 1 1 ...\n",
      " $ select: Factor w/ 5 levels \"144\",\"216\",\"288\",..: 2 4 1 3 2 5 4 4 4 3 ...\n",
      " $ cnt   : int  1 1 1 1 1 1 1 1 1 1 ...\n"
     ]
    },
    {
     "data": {
      "text/html": [
       "<table>\n",
       "<thead><tr><th scope=col>X</th><th scope=col>sex</th><th scope=col>select</th><th scope=col>cnt</th></tr></thead>\n",
       "<tbody>\n",
       "\t<tr><td>0       </td><td>Male    </td><td>216     </td><td>1       </td></tr>\n",
       "\t<tr><td>1       </td><td>Female  </td><td>72      </td><td>1       </td></tr>\n",
       "\t<tr><td>2       </td><td>Female  </td><td>144     </td><td>1       </td></tr>\n",
       "\t<tr><td>3       </td><td>Female  </td><td>288     </td><td>1       </td></tr>\n",
       "\t<tr><td>4       </td><td>Female  </td><td>216     </td><td>1       </td></tr>\n",
       "\t<tr><td>5       </td><td>Female  </td><td>original</td><td>1       </td></tr>\n",
       "</tbody>\n",
       "</table>\n"
      ],
      "text/latex": [
       "\\begin{tabular}{r|llll}\n",
       " X & sex & select & cnt\\\\\n",
       "\\hline\n",
       "\t 0        & Male     & 216      & 1       \\\\\n",
       "\t 1        & Female   & 72       & 1       \\\\\n",
       "\t 2        & Female   & 144      & 1       \\\\\n",
       "\t 3        & Female   & 288      & 1       \\\\\n",
       "\t 4        & Female   & 216      & 1       \\\\\n",
       "\t 5        & Female   & original & 1       \\\\\n",
       "\\end{tabular}\n"
      ],
      "text/markdown": [
       "\n",
       "| X | sex | select | cnt |\n",
       "|---|---|---|---|\n",
       "| 0        | Male     | 216      | 1        |\n",
       "| 1        | Female   | 72       | 1        |\n",
       "| 2        | Female   | 144      | 1        |\n",
       "| 3        | Female   | 288      | 1        |\n",
       "| 4        | Female   | 216      | 1        |\n",
       "| 5        | Female   | original | 1        |\n",
       "\n"
      ],
      "text/plain": [
       "  X sex    select   cnt\n",
       "1 0 Male   216      1  \n",
       "2 1 Female 72       1  \n",
       "3 2 Female 144      1  \n",
       "4 3 Female 288      1  \n",
       "5 4 Female 216      1  \n",
       "6 5 Female original 1  "
      ]
     },
     "metadata": {},
     "output_type": "display_data"
    }
   ],
   "source": [
    "# 데이터 불러오기\n",
    "\n",
    "S_hCB_cnt <- read.csv(\"C:/Users/cho ye seul/Documents/예슬/Acorn/FinalProject/Statistical Analysis/S_hCB_cnt2.csv\")\n",
    "str(S_hCB_cnt)\n",
    "head(S_hCB_cnt)"
   ]
  },
  {
   "cell_type": "code",
   "execution_count": 12,
   "metadata": {},
   "outputs": [
    {
     "data": {
      "text/html": [
       "<table>\n",
       "<thead><tr><th></th><th scope=col>True</th><th scope=col>False</th><th scope=col>Sum</th></tr></thead>\n",
       "<tbody>\n",
       "\t<tr><th scope=row>Male</th><td> 41</td><td>115</td><td>156</td></tr>\n",
       "\t<tr><th scope=row>Female</th><td>142</td><td>386</td><td>528</td></tr>\n",
       "\t<tr><th scope=row>Sum</th><td>183</td><td>501</td><td>684</td></tr>\n",
       "</tbody>\n",
       "</table>\n"
      ],
      "text/latex": [
       "\\begin{tabular}{r|lll}\n",
       "  & True & False & Sum\\\\\n",
       "\\hline\n",
       "\tMale &  41 & 115 & 156\\\\\n",
       "\tFemale & 142 & 386 & 528\\\\\n",
       "\tSum & 183 & 501 & 684\\\\\n",
       "\\end{tabular}\n"
      ],
      "text/markdown": [
       "\n",
       "| <!--/--> | True | False | Sum |\n",
       "|---|---|---|---|\n",
       "| Male |  41 | 115 | 156 |\n",
       "| Female | 142 | 386 | 528 |\n",
       "| Sum | 183 | 501 | 684 |\n",
       "\n"
      ],
      "text/plain": [
       "       True False Sum\n",
       "Male    41  115   156\n",
       "Female 142  386   528\n",
       "Sum    183  501   684"
      ]
     },
     "metadata": {},
     "output_type": "display_data"
    },
    {
     "data": {
      "text/plain": [
       "\n",
       "\tPearson's Chi-squared test with Yates' continuity correction\n",
       "\n",
       "data:  df_S_hCB_cnt\n",
       "X-squared = 0.0023771, df = 1, p-value = 0.9611\n"
      ]
     },
     "metadata": {},
     "output_type": "display_data"
    }
   ],
   "source": [
    "## 데이터프레임 재생성\n",
    "\n",
    "# 남\n",
    "Male_T <- with(S_hCB_cnt, sum(cnt[sex==\"Male\" & select == \"72\"]))\n",
    "Male_F <- with(S_hCB_cnt, sum(cnt[sex==\"Male\" & select != \"72\"]))\n",
    "\n",
    "# 여\n",
    "Female_T <- with(S_hCB_cnt, sum(cnt[sex==\"Female\" & select == \"72\"]))\n",
    "Female_F <- with(S_hCB_cnt, sum(cnt[sex==\"Female\" & select != \"72\"]))\n",
    "\n",
    "# column 생성\n",
    "Male <- c(Male_T, Male_F)\n",
    "Female <- c(Female_T, Female_F)\n",
    "\n",
    "# dataframe 만들기\n",
    "df_S_hCB_cnt <- data.frame(Male, Female)\n",
    "df_S_hCB_cnt <-t(df_S_hCB_cnt)\n",
    "colnames(df_S_hCB_cnt) <- c(\"True\", \"False\")\n",
    "\n",
    "\n",
    "## 행, 열 각각의 합계 알아보기\n",
    "addmargins(df_S_hCB_cnt)\n",
    "\n",
    "\n",
    "## 카이제곱\n",
    "chisq.test(df_S_hCB_cnt)\n",
    "# p-value = 0.9611\n",
    "# 0.05보다 큰 값을 가지므로 귀무가설 성립\n",
    "# 성별에 따라 안면부위 인식 차이가 없음을 알 수 있다"
   ]
  },
  {
   "cell_type": "code",
   "execution_count": null,
   "metadata": {},
   "outputs": [],
   "source": []
  },
  {
   "cell_type": "markdown",
   "metadata": {},
   "source": [
    "### 연령에 따른 대표 색상(색상변경, bright) 인식 차이 \n",
    "\n",
    "    귀무가설 : 연령에 따라 대표 색상(색상변경, bright) 인식 차이가 없다\n",
    "    대립가설 : 연령에 따라 대표 색상(색상변경, bright) 인식 차이가 있다\n",
    "    \n",
    "    - 대표 색상(색상변경, bright) : 72º\n",
    "    - chisq.test 사용"
   ]
  },
  {
   "cell_type": "code",
   "execution_count": 13,
   "metadata": {},
   "outputs": [
    {
     "name": "stdout",
     "output_type": "stream",
     "text": [
      "'data.frame':\t684 obs. of  4 variables:\n",
      " $ X     : int  0 1 2 3 4 5 6 7 8 9 ...\n",
      " $ age   : int  20 20 20 20 20 20 20 20 20 20 ...\n",
      " $ select: Factor w/ 5 levels \"144\",\"216\",\"288\",..: 2 4 1 3 2 5 4 4 4 3 ...\n",
      " $ cnt   : int  1 1 1 1 1 1 1 1 1 1 ...\n"
     ]
    },
    {
     "data": {
      "text/html": [
       "<table>\n",
       "<thead><tr><th scope=col>X</th><th scope=col>age</th><th scope=col>select</th><th scope=col>cnt</th></tr></thead>\n",
       "<tbody>\n",
       "\t<tr><td>0       </td><td>20      </td><td>216     </td><td>1       </td></tr>\n",
       "\t<tr><td>1       </td><td>20      </td><td>72      </td><td>1       </td></tr>\n",
       "\t<tr><td>2       </td><td>20      </td><td>144     </td><td>1       </td></tr>\n",
       "\t<tr><td>3       </td><td>20      </td><td>288     </td><td>1       </td></tr>\n",
       "\t<tr><td>4       </td><td>20      </td><td>216     </td><td>1       </td></tr>\n",
       "\t<tr><td>5       </td><td>20      </td><td>original</td><td>1       </td></tr>\n",
       "</tbody>\n",
       "</table>\n"
      ],
      "text/latex": [
       "\\begin{tabular}{r|llll}\n",
       " X & age & select & cnt\\\\\n",
       "\\hline\n",
       "\t 0        & 20       & 216      & 1       \\\\\n",
       "\t 1        & 20       & 72       & 1       \\\\\n",
       "\t 2        & 20       & 144      & 1       \\\\\n",
       "\t 3        & 20       & 288      & 1       \\\\\n",
       "\t 4        & 20       & 216      & 1       \\\\\n",
       "\t 5        & 20       & original & 1       \\\\\n",
       "\\end{tabular}\n"
      ],
      "text/markdown": [
       "\n",
       "| X | age | select | cnt |\n",
       "|---|---|---|---|\n",
       "| 0        | 20       | 216      | 1        |\n",
       "| 1        | 20       | 72       | 1        |\n",
       "| 2        | 20       | 144      | 1        |\n",
       "| 3        | 20       | 288      | 1        |\n",
       "| 4        | 20       | 216      | 1        |\n",
       "| 5        | 20       | original | 1        |\n",
       "\n"
      ],
      "text/plain": [
       "  X age select   cnt\n",
       "1 0 20  216      1  \n",
       "2 1 20  72       1  \n",
       "3 2 20  144      1  \n",
       "4 3 20  288      1  \n",
       "5 4 20  216      1  \n",
       "6 5 20  original 1  "
      ]
     },
     "metadata": {},
     "output_type": "display_data"
    }
   ],
   "source": [
    "# 데이터 불러오기\n",
    "\n",
    "A_hCB_cnt <- read.csv(\"C:/Users/cho ye seul/Documents/예슬/Acorn/FinalProject/Statistical Analysis/A_hCB_cnt2.csv\")\n",
    "str(A_hCB_cnt)\n",
    "head(A_hCB_cnt)"
   ]
  },
  {
   "cell_type": "code",
   "execution_count": 21,
   "metadata": {},
   "outputs": [
    {
     "data": {
      "text/html": [
       "<table>\n",
       "<thead><tr><th></th><th scope=col>True</th><th scope=col>False</th><th scope=col>Sum</th></tr></thead>\n",
       "<tbody>\n",
       "\t<tr><th scope=row>teens</th><td>  2</td><td>  4</td><td>  6</td></tr>\n",
       "\t<tr><th scope=row>twenty</th><td>166</td><td>428</td><td>594</td></tr>\n",
       "\t<tr><th scope=row>thirty</th><td> 12</td><td> 42</td><td> 54</td></tr>\n",
       "\t<tr><th scope=row>forty</th><td>  3</td><td> 15</td><td> 18</td></tr>\n",
       "\t<tr><th scope=row>fifty</th><td>  0</td><td> 12</td><td> 12</td></tr>\n",
       "\t<tr><th scope=row>Sum</th><td>183</td><td>501</td><td>684</td></tr>\n",
       "</tbody>\n",
       "</table>\n"
      ],
      "text/latex": [
       "\\begin{tabular}{r|lll}\n",
       "  & True & False & Sum\\\\\n",
       "\\hline\n",
       "\tteens &   2 &   4 &   6\\\\\n",
       "\ttwenty & 166 & 428 & 594\\\\\n",
       "\tthirty &  12 &  42 &  54\\\\\n",
       "\tforty &   3 &  15 &  18\\\\\n",
       "\tfifty &   0 &  12 &  12\\\\\n",
       "\tSum & 183 & 501 & 684\\\\\n",
       "\\end{tabular}\n"
      ],
      "text/markdown": [
       "\n",
       "| <!--/--> | True | False | Sum |\n",
       "|---|---|---|---|\n",
       "| teens |   2 |   4 |   6 |\n",
       "| twenty | 166 | 428 | 594 |\n",
       "| thirty |  12 |  42 |  54 |\n",
       "| forty |   3 |  15 |  18 |\n",
       "| fifty |   0 |  12 |  12 |\n",
       "| Sum | 183 | 501 | 684 |\n",
       "\n"
      ],
      "text/plain": [
       "       True False Sum\n",
       "teens    2    4     6\n",
       "twenty 166  428   594\n",
       "thirty  12   42    54\n",
       "forty    3   15    18\n",
       "fifty    0   12    12\n",
       "Sum    183  501   684"
      ]
     },
     "metadata": {},
     "output_type": "display_data"
    },
    {
     "name": "stderr",
     "output_type": "stream",
     "text": [
      "Warning message in chisq.test(df_A_hCB_cnt):\n",
      "\"Chi-squared approximation may be incorrect\""
     ]
    },
    {
     "data": {
      "text/plain": [
       "\n",
       "\tPearson's Chi-squared test\n",
       "\n",
       "data:  df_A_hCB_cnt\n",
       "X-squared = 6.447, df = 4, p-value = 0.1682\n"
      ]
     },
     "metadata": {},
     "output_type": "display_data"
    },
    {
     "data": {
      "text/plain": [
       "\n",
       "\tFisher's Exact Test for Count Data\n",
       "\n",
       "data:  df_A_hCB_cnt\n",
       "p-value = 0.1287\n",
       "alternative hypothesis: two.sided\n"
      ]
     },
     "metadata": {},
     "output_type": "display_data"
    }
   ],
   "source": [
    "## 데이터프레임 재생성\n",
    "\n",
    "teens_T <- with(A_hCB_cnt, sum(cnt[age == \"10\" & select == \"72\"]))\n",
    "teens_F <- with(A_hCB_cnt, sum(cnt[age == \"10\" & select != \"72\"]))\n",
    "\n",
    "twenty_T <- with(A_hCB_cnt, sum(cnt[age == \"20\" & select == \"72\"]))\n",
    "twenty_F <- with(A_hCB_cnt, sum(cnt[age == \"20\" & select != \"72\"]))\n",
    "\n",
    "thirty_T <- with(A_hCB_cnt, sum(cnt[age == \"30\" & select == \"72\"]))\n",
    "thirty_F <- with(A_hCB_cnt, sum(cnt[age == \"30\" & select != \"72\"]))\n",
    "\n",
    "forty_T <- with(A_hCB_cnt, sum(cnt[age == \"40\" & select == \"72\"]))\n",
    "forty_F <- with(A_hCB_cnt, sum(cnt[age == \"40\" & select != \"72\"]))\n",
    "\n",
    "fifty_T <- with(A_hCB_cnt, sum(cnt[age == \"50\" & select == \"72\"]))\n",
    "fifty_F <- with(A_hCB_cnt, sum(cnt[age == \"50\" & select != \"72\"]))\n",
    "\n",
    "teens <- c(teens_T, teens_F)\n",
    "twenty <- c(twenty_T, twenty_F)\n",
    "thirty <- c(thirty_T, thirty_F)\n",
    "forty <- c(forty_T, forty_F)\n",
    "fifty <- c(fifty_T, fifty_F)\n",
    "             \n",
    "df_A_hCB_cnt <- data.frame(teens, twenty, thirty, forty, fifty)\n",
    "df_A_hCB_cnt <- t(df_A_hCB_cnt)\n",
    "colnames(df_A_hCB_cnt) <- c(\"True\", \"False\")\n",
    "# df_A_hCB_cnt\n",
    "\n",
    "\n",
    "## 행, 열 각각의 합계 알아보기\n",
    "\n",
    "addmargins(df_A_hCB_cnt)\n",
    "# 합계값이 동일하지 않으므로 chisq.test 사용\n",
    "\n",
    "\n",
    "## 카이제곱\n",
    "\n",
    "chisq.test(df_A_hCB_cnt)\n",
    "# p-value = 0.1682\n",
    "# 0.05보다 큰 값을 가지므로 귀무가설 성립\n",
    "# 연령에 따라 색상(hueBright) 인식 차이가 없음을 알 수 있다\n",
    "# but 기대도수가 낮은 셀이 전체의 25% 이상 존재하므로 \n",
    "# Fisher's exact test 사용해야한다!!\n",
    "\n",
    "\n",
    "## Fisher's exact test\n",
    "\n",
    "fisher.test(df_A_hCB_cnt)\n",
    "# p-value = 0.1287\n",
    "# 0.05보다 큰 값을 가지므로 귀무가설 성립\n",
    "# 연령에 따라 색상(hueBright) 인식 차이가 없음을 알 수 있다"
   ]
  },
  {
   "cell_type": "code",
   "execution_count": null,
   "metadata": {},
   "outputs": [],
   "source": []
  },
  {
   "cell_type": "markdown",
   "metadata": {},
   "source": [
    "### 패션 관심도에 따른 대표 색상(색상변경, bright) 인식 차이 \n",
    "\n",
    "    귀무가설 : 패션 관심도에 따라 대표 색상(색상변경, bright) 인식 차이가 없다\n",
    "    대립가설 : 패션 관심도에 따라 대표 색상(색상변경, bright) 인식 차이가 있다\n",
    "    \n",
    "    - 대표 색상(색상변경, bright) : 72º\n",
    "    - chisq.test 사용"
   ]
  },
  {
   "cell_type": "code",
   "execution_count": 22,
   "metadata": {},
   "outputs": [
    {
     "name": "stdout",
     "output_type": "stream",
     "text": [
      "'data.frame':\t684 obs. of  4 variables:\n",
      " $ X       : int  0 1 2 3 4 5 6 7 8 9 ...\n",
      " $ interest: int  5 5 3 3 4 2 5 3 4 4 ...\n",
      " $ select  : Factor w/ 5 levels \"144\",\"216\",\"288\",..: 2 4 1 3 2 5 4 4 4 3 ...\n",
      " $ cnt     : int  1 1 1 1 1 1 1 1 1 1 ...\n"
     ]
    },
    {
     "data": {
      "text/html": [
       "<table>\n",
       "<thead><tr><th scope=col>X</th><th scope=col>interest</th><th scope=col>select</th><th scope=col>cnt</th></tr></thead>\n",
       "<tbody>\n",
       "\t<tr><td>0       </td><td>5       </td><td>216     </td><td>1       </td></tr>\n",
       "\t<tr><td>1       </td><td>5       </td><td>72      </td><td>1       </td></tr>\n",
       "\t<tr><td>2       </td><td>3       </td><td>144     </td><td>1       </td></tr>\n",
       "\t<tr><td>3       </td><td>3       </td><td>288     </td><td>1       </td></tr>\n",
       "\t<tr><td>4       </td><td>4       </td><td>216     </td><td>1       </td></tr>\n",
       "\t<tr><td>5       </td><td>2       </td><td>original</td><td>1       </td></tr>\n",
       "</tbody>\n",
       "</table>\n"
      ],
      "text/latex": [
       "\\begin{tabular}{r|llll}\n",
       " X & interest & select & cnt\\\\\n",
       "\\hline\n",
       "\t 0        & 5        & 216      & 1       \\\\\n",
       "\t 1        & 5        & 72       & 1       \\\\\n",
       "\t 2        & 3        & 144      & 1       \\\\\n",
       "\t 3        & 3        & 288      & 1       \\\\\n",
       "\t 4        & 4        & 216      & 1       \\\\\n",
       "\t 5        & 2        & original & 1       \\\\\n",
       "\\end{tabular}\n"
      ],
      "text/markdown": [
       "\n",
       "| X | interest | select | cnt |\n",
       "|---|---|---|---|\n",
       "| 0        | 5        | 216      | 1        |\n",
       "| 1        | 5        | 72       | 1        |\n",
       "| 2        | 3        | 144      | 1        |\n",
       "| 3        | 3        | 288      | 1        |\n",
       "| 4        | 4        | 216      | 1        |\n",
       "| 5        | 2        | original | 1        |\n",
       "\n"
      ],
      "text/plain": [
       "  X interest select   cnt\n",
       "1 0 5        216      1  \n",
       "2 1 5        72       1  \n",
       "3 2 3        144      1  \n",
       "4 3 3        288      1  \n",
       "5 4 4        216      1  \n",
       "6 5 2        original 1  "
      ]
     },
     "metadata": {},
     "output_type": "display_data"
    }
   ],
   "source": [
    "# 데이터 불러오기\n",
    "\n",
    "I_hCB_cnt <- read.csv(\"C:/Users/cho ye seul/Documents/예슬/Acorn/FinalProject/Statistical Analysis/I_hCB_cnt.csv\")\n",
    "str(I_hCB_cnt)\n",
    "head(I_hCB_cnt)"
   ]
  },
  {
   "cell_type": "code",
   "execution_count": 24,
   "metadata": {},
   "outputs": [
    {
     "data": {
      "text/html": [
       "<table>\n",
       "<thead><tr><th scope=col>True</th><th scope=col>False</th></tr></thead>\n",
       "<tbody>\n",
       "\t<tr><td> 3 </td><td>  9</td></tr>\n",
       "\t<tr><td>22 </td><td> 62</td></tr>\n",
       "\t<tr><td>64 </td><td>182</td></tr>\n",
       "\t<tr><td>62 </td><td>166</td></tr>\n",
       "\t<tr><td>32 </td><td> 82</td></tr>\n",
       "</tbody>\n",
       "</table>\n"
      ],
      "text/latex": [
       "\\begin{tabular}{r|ll}\n",
       " True & False\\\\\n",
       "\\hline\n",
       "\t  3  &   9\\\\\n",
       "\t 22  &  62\\\\\n",
       "\t 64  & 182\\\\\n",
       "\t 62  & 166\\\\\n",
       "\t 32  &  82\\\\\n",
       "\\end{tabular}\n"
      ],
      "text/markdown": [
       "\n",
       "| True | False |\n",
       "|---|---|\n",
       "|  3  |   9 |\n",
       "| 22  |  62 |\n",
       "| 64  | 182 |\n",
       "| 62  | 166 |\n",
       "| 32  |  82 |\n",
       "\n"
      ],
      "text/plain": [
       "  True False\n",
       "1  3     9  \n",
       "2 22    62  \n",
       "3 64   182  \n",
       "4 62   166  \n",
       "5 32    82  "
      ]
     },
     "metadata": {},
     "output_type": "display_data"
    },
    {
     "name": "stderr",
     "output_type": "stream",
     "text": [
      "Warning message in chisq.test(interest_TF):\n",
      "\"Chi-squared approximation may be incorrect\""
     ]
    },
    {
     "data": {
      "text/plain": [
       "\n",
       "\tPearson's Chi-squared test\n",
       "\n",
       "data:  interest_TF\n",
       "X-squared = 0.22397, df = 4, p-value = 0.9942\n"
      ]
     },
     "metadata": {},
     "output_type": "display_data"
    },
    {
     "data": {
      "text/plain": [
       "\n",
       "\tFisher's Exact Test for Count Data\n",
       "\n",
       "data:  interest_TF\n",
       "p-value = 0.9935\n",
       "alternative hypothesis: two.sided\n"
      ]
     },
     "metadata": {},
     "output_type": "display_data"
    }
   ],
   "source": [
    "## 데이터프레임 재생성\n",
    "\n",
    "I_True <- c()\n",
    "I_False <- c()\n",
    "\n",
    "for(i in seq(1,5, by=1)){\n",
    "    True <- with(I_hCB_cnt, sum(cnt[interest==i & select ==\"72\"]))\n",
    "    I_True[[(i)]] <- True\n",
    "\n",
    "    False <- with(I_hCB_cnt, sum(cnt[interest==i & select != \"72\"]))\n",
    "\n",
    "    I_False[[i]] <- False\n",
    "       \n",
    "    interest_TF <- data.frame(True=I_True, False=I_False)\n",
    "}\n",
    "\n",
    "interest_TF\n",
    "\n",
    "# 카이제곱\n",
    "\n",
    "chisq.test(interest_TF)\n",
    "# p-value = 0.9942\n",
    "# but 기대도수가 낮은 셀이 전체의 25% 이상 존재하므로 \n",
    "# Fisher's exact test 사용해야한다!!\n",
    "\n",
    "\n",
    "## Fisher's exact test\n",
    "\n",
    "fisher.test(interest_TF)\n",
    "# p-value = 0.9935\n",
    "# 0.05보다 큰 값을 가지므로 귀무가설 성립\n",
    "# 패션 관심도에 따른 색상 인식차이 없다"
   ]
  },
  {
   "cell_type": "code",
   "execution_count": null,
   "metadata": {},
   "outputs": [],
   "source": []
  },
  {
   "cell_type": "markdown",
   "metadata": {},
   "source": [
    "### Defintion, Need 에 따른 대표 색상(색상변경, bright) 인식 차이 \n",
    "\n",
    "    귀무가설 : definition + need 에 따라 대표 색상(색상변경, bright) 인식 차이가 없다\n",
    "    대립가설 : definition + need 에 따라 대표 색상(색상변경, bright) 인식 차이가 있다\n",
    "    \n",
    "    definition + need 묶은 방법\n",
    "    : bright + bright\n",
    "    : bright + harmony\n",
    "    : harmony + bright\n",
    "    : harmony + harmony\n",
    "    \n",
    "    - 대표 색상(색상변경, bright) : 72º\n",
    "    - chisq.test 사용"
   ]
  },
  {
   "cell_type": "code",
   "execution_count": 25,
   "metadata": {},
   "outputs": [
    {
     "name": "stdout",
     "output_type": "stream",
     "text": [
      "'data.frame':\t684 obs. of  5 variables:\n",
      " $ X         : int  0 1 2 3 4 5 6 7 8 9 ...\n",
      " $ definition: Factor w/ 2 levels \"bright\",\"harmony\": 2 1 1 2 1 2 2 2 2 1 ...\n",
      " $ need      : Factor w/ 2 levels \"bright\",\"harmony\": 2 2 1 2 1 2 2 2 2 1 ...\n",
      " $ select    : Factor w/ 5 levels \"144\",\"216\",\"288\",..: 2 4 1 3 2 5 4 4 4 3 ...\n",
      " $ cnt       : int  1 1 1 1 1 1 1 1 1 1 ...\n"
     ]
    },
    {
     "data": {
      "text/html": [
       "<table>\n",
       "<thead><tr><th scope=col>X</th><th scope=col>definition</th><th scope=col>need</th><th scope=col>select</th><th scope=col>cnt</th></tr></thead>\n",
       "<tbody>\n",
       "\t<tr><td>0       </td><td>harmony </td><td>harmony </td><td>216     </td><td>1       </td></tr>\n",
       "\t<tr><td>1       </td><td>bright  </td><td>harmony </td><td>72      </td><td>1       </td></tr>\n",
       "\t<tr><td>2       </td><td>bright  </td><td>bright  </td><td>144     </td><td>1       </td></tr>\n",
       "\t<tr><td>3       </td><td>harmony </td><td>harmony </td><td>288     </td><td>1       </td></tr>\n",
       "\t<tr><td>4       </td><td>bright  </td><td>bright  </td><td>216     </td><td>1       </td></tr>\n",
       "\t<tr><td>5       </td><td>harmony </td><td>harmony </td><td>original</td><td>1       </td></tr>\n",
       "</tbody>\n",
       "</table>\n"
      ],
      "text/latex": [
       "\\begin{tabular}{r|lllll}\n",
       " X & definition & need & select & cnt\\\\\n",
       "\\hline\n",
       "\t 0        & harmony  & harmony  & 216      & 1       \\\\\n",
       "\t 1        & bright   & harmony  & 72       & 1       \\\\\n",
       "\t 2        & bright   & bright   & 144      & 1       \\\\\n",
       "\t 3        & harmony  & harmony  & 288      & 1       \\\\\n",
       "\t 4        & bright   & bright   & 216      & 1       \\\\\n",
       "\t 5        & harmony  & harmony  & original & 1       \\\\\n",
       "\\end{tabular}\n"
      ],
      "text/markdown": [
       "\n",
       "| X | definition | need | select | cnt |\n",
       "|---|---|---|---|---|\n",
       "| 0        | harmony  | harmony  | 216      | 1        |\n",
       "| 1        | bright   | harmony  | 72       | 1        |\n",
       "| 2        | bright   | bright   | 144      | 1        |\n",
       "| 3        | harmony  | harmony  | 288      | 1        |\n",
       "| 4        | bright   | bright   | 216      | 1        |\n",
       "| 5        | harmony  | harmony  | original | 1        |\n",
       "\n"
      ],
      "text/plain": [
       "  X definition need    select   cnt\n",
       "1 0 harmony    harmony 216      1  \n",
       "2 1 bright     harmony 72       1  \n",
       "3 2 bright     bright  144      1  \n",
       "4 3 harmony    harmony 288      1  \n",
       "5 4 bright     bright  216      1  \n",
       "6 5 harmony    harmony original 1  "
      ]
     },
     "metadata": {},
     "output_type": "display_data"
    }
   ],
   "source": [
    "# 데이터 불러오기\n",
    "\n",
    "DN_hCB_cnt <- read.csv(\"C:/Users/cho ye seul/Documents/예슬/Acorn/FinalProject/Statistical Analysis/DN_hCB_cnt.csv\")\n",
    "str(DN_hCB_cnt)\n",
    "head(DN_hCB_cnt)"
   ]
  },
  {
   "cell_type": "code",
   "execution_count": 31,
   "metadata": {},
   "outputs": [
    {
     "data": {
      "text/html": [
       "<table>\n",
       "<thead><tr><th></th><th scope=col>True</th><th scope=col>False</th></tr></thead>\n",
       "<tbody>\n",
       "\t<tr><th scope=row>BB</th><td> 32</td><td>100</td></tr>\n",
       "\t<tr><th scope=row>BH</th><td>  9</td><td> 21</td></tr>\n",
       "\t<tr><th scope=row>HB</th><td> 41</td><td> 91</td></tr>\n",
       "\t<tr><th scope=row>HH</th><td>101</td><td>289</td></tr>\n",
       "</tbody>\n",
       "</table>\n"
      ],
      "text/latex": [
       "\\begin{tabular}{r|ll}\n",
       "  & True & False\\\\\n",
       "\\hline\n",
       "\tBB &  32 & 100\\\\\n",
       "\tBH &   9 &  21\\\\\n",
       "\tHB &  41 &  91\\\\\n",
       "\tHH & 101 & 289\\\\\n",
       "\\end{tabular}\n"
      ],
      "text/markdown": [
       "\n",
       "| <!--/--> | True | False |\n",
       "|---|---|---|\n",
       "| BB |  32 | 100 |\n",
       "| BH |   9 |  21 |\n",
       "| HB |  41 |  91 |\n",
       "| HH | 101 | 289 |\n",
       "\n"
      ],
      "text/plain": [
       "   True False\n",
       "BB  32  100  \n",
       "BH   9   21  \n",
       "HB  41   91  \n",
       "HH 101  289  "
      ]
     },
     "metadata": {},
     "output_type": "display_data"
    },
    {
     "data": {
      "text/html": [
       "<table>\n",
       "<thead><tr><th></th><th scope=col>True</th><th scope=col>False</th><th scope=col>Sum</th></tr></thead>\n",
       "<tbody>\n",
       "\t<tr><th scope=row>BB</th><td> 32</td><td>100</td><td>132</td></tr>\n",
       "\t<tr><th scope=row>BH</th><td>  9</td><td> 21</td><td> 30</td></tr>\n",
       "\t<tr><th scope=row>HB</th><td> 41</td><td> 91</td><td>132</td></tr>\n",
       "\t<tr><th scope=row>HH</th><td>101</td><td>289</td><td>390</td></tr>\n",
       "\t<tr><th scope=row>Sum</th><td>183</td><td>501</td><td>684</td></tr>\n",
       "</tbody>\n",
       "</table>\n"
      ],
      "text/latex": [
       "\\begin{tabular}{r|lll}\n",
       "  & True & False & Sum\\\\\n",
       "\\hline\n",
       "\tBB &  32 & 100 & 132\\\\\n",
       "\tBH &   9 &  21 &  30\\\\\n",
       "\tHB &  41 &  91 & 132\\\\\n",
       "\tHH & 101 & 289 & 390\\\\\n",
       "\tSum & 183 & 501 & 684\\\\\n",
       "\\end{tabular}\n"
      ],
      "text/markdown": [
       "\n",
       "| <!--/--> | True | False | Sum |\n",
       "|---|---|---|---|\n",
       "| BB |  32 | 100 | 132 |\n",
       "| BH |   9 |  21 |  30 |\n",
       "| HB |  41 |  91 | 132 |\n",
       "| HH | 101 | 289 | 390 |\n",
       "| Sum | 183 | 501 | 684 |\n",
       "\n"
      ],
      "text/plain": [
       "    True False Sum\n",
       "BB   32  100   132\n",
       "BH    9   21    30\n",
       "HB   41   91   132\n",
       "HH  101  289   390\n",
       "Sum 183  501   684"
      ]
     },
     "metadata": {},
     "output_type": "display_data"
    },
    {
     "data": {
      "text/plain": [
       "\n",
       "\tPearson's Chi-squared test\n",
       "\n",
       "data:  df_DN_hCB_cnt\n",
       "X-squared = 1.9815, df = 3, p-value = 0.5762\n"
      ]
     },
     "metadata": {},
     "output_type": "display_data"
    }
   ],
   "source": [
    "## 데이터프레임 재생성\n",
    "\n",
    "# bright + bright\n",
    "BB_T <- with(DN_hCB_cnt, sum(cnt[definition == \"bright\" & need == \"bright\" & select == \"72\"]))\n",
    "BB_F <- with(DN_hCB_cnt, sum(cnt[definition == \"bright\" & need == \"bright\" & select != \"72\"]))\n",
    "             \n",
    "# bright + harmony\n",
    "BH_T <- with(DN_hCB_cnt, sum(cnt[definition == \"bright\" & need == \"harmony\" & select == \"72\"]))\n",
    "BH_F <- with(DN_hCB_cnt, sum(cnt[definition == \"bright\" & need == \"harmony\" & select != \"72\"]))\n",
    "\n",
    "# harmony + bright\n",
    "HB_T <- with(DN_hCB_cnt, sum(cnt[definition == \"harmony\" & need == \"bright\" & select == \"72\"]))\n",
    "HB_F <- with(DN_hCB_cnt, sum(cnt[definition == \"harmony\" & need == \"bright\" & select != \"72\"]))\n",
    "\n",
    "# harmony + harmony\n",
    "HH_T <- with(DN_hCB_cnt, sum(cnt[definition == \"harmony\" & need == \"harmony\" & select == \"72\"]))\n",
    "HH_F <- with(DN_hCB_cnt, sum(cnt[definition == \"harmony\" & need == \"harmony\" & select != \"72\"]))\n",
    "\n",
    "BB <- c(BB_T, BB_F)\n",
    "BH <- c(BH_T, BH_F)\n",
    "HB <- c(HB_T, HB_F)\n",
    "HH <- c(HH_T, HH_F)\n",
    "\n",
    "df_DN_hCB_cnt <- data.frame(BB, BH, HB, HH)\n",
    "df_DN_hCB_cnt <- t(df_DN_hCB_cnt)\n",
    "colnames(df_DN_hCB_cnt) <- c(\"True\", \"False\")\n",
    "df_DN_hCB_cnt\n",
    "\n",
    "## 행, 열 각각의 합계 알아보기\n",
    "addmargins(df_DN_hCB_cnt)\n",
    "# 합계값이 동일하지 않으므로 chisq.test 사용\n",
    "\n",
    "## 카이제곱\n",
    "chisq.test(df_DN_hCB_cnt)\n",
    "# p-value = 0.5762\n",
    "# 0.05보다 큰 값을 가지므로 귀무가설 성립\n",
    "# 색상(hueBright) 인식 차이가 없음을 알 수 있다"
   ]
  },
  {
   "cell_type": "markdown",
   "metadata": {},
   "source": [
    "#### Defintion, Need 에 따른 대표 색상(색상변경, bright) 선택 분석 "
   ]
  },
  {
   "cell_type": "code",
   "execution_count": 32,
   "metadata": {},
   "outputs": [
    {
     "data": {
      "text/html": [
       "<table>\n",
       "<thead><tr><th></th><th scope=col>True</th><th scope=col>False</th></tr></thead>\n",
       "<tbody>\n",
       "\t<tr><th scope=row>BB</th><td> 32</td><td>100</td></tr>\n",
       "\t<tr><th scope=row>BH</th><td>  9</td><td> 21</td></tr>\n",
       "\t<tr><th scope=row>HB</th><td> 41</td><td> 91</td></tr>\n",
       "\t<tr><th scope=row>HH</th><td>101</td><td>289</td></tr>\n",
       "</tbody>\n",
       "</table>\n"
      ],
      "text/latex": [
       "\\begin{tabular}{r|ll}\n",
       "  & True & False\\\\\n",
       "\\hline\n",
       "\tBB &  32 & 100\\\\\n",
       "\tBH &   9 &  21\\\\\n",
       "\tHB &  41 &  91\\\\\n",
       "\tHH & 101 & 289\\\\\n",
       "\\end{tabular}\n"
      ],
      "text/markdown": [
       "\n",
       "| <!--/--> | True | False |\n",
       "|---|---|---|\n",
       "| BB |  32 | 100 |\n",
       "| BH |   9 |  21 |\n",
       "| HB |  41 |  91 |\n",
       "| HH | 101 | 289 |\n",
       "\n"
      ],
      "text/plain": [
       "   True False\n",
       "BB  32  100  \n",
       "BH   9   21  \n",
       "HB  41   91  \n",
       "HH 101  289  "
      ]
     },
     "metadata": {},
     "output_type": "display_data"
    }
   ],
   "source": [
    "df_DN_hCB_cnt"
   ]
  },
  {
   "cell_type": "markdown",
   "metadata": {},
   "source": [
    "### 결과 해석 \n",
    "\n",
    "     + BB, BH, HB, HH 에 따른 인식 차이 분석\n",
    "\n",
    "     HH 선택이  제일 많음 \n",
    "     -> 논문에서는 퍼스널 컬러의 정의가 \"얼굴색을 밝게 해주는 색\"이라고 표현하였으나 \n",
    "        사람들이 일상에서 필요한 퍼스널 컬러는 \"얼굴색과 조화를 이루는 색\"이라고 생각됨\n",
    "\n",
    "     선택 개수 : BB 132  BH 30  HB 132  HH 390\n",
    "     definition과 need를 동일하게 선택한 결과가 많음\n",
    "\n",
    "     맞춘 확률 : BB 24.2%   BH 30.0%   HB 31.1%   HH 25.9%\n",
    "     need에서 Bright를 선택한 사람들의 정답 확률이 더 높은것을 볼 수 있음\n",
    "     -> 본 설문지는 \"밝기\"에 관해서 물어보았다\n",
    "        그렇기에 필요성 부분에 \"밝기\"로 선택한 사람들의 정답률이 더 높은 것으로 사료됨"
   ]
  },
  {
   "cell_type": "code",
   "execution_count": null,
   "metadata": {},
   "outputs": [],
   "source": []
  },
  {
   "cell_type": "markdown",
   "metadata": {},
   "source": [
    "### Sex, Age 에 따른 대표 색상(색상 변경, bright) 인식 차이 \n",
    "\n",
    "    귀무가설 : sex + age 에 따라 대표 색상(색상변경, bright) 인식 차이가 없다\n",
    "    대립가설 : sex + age 에 따라 대표 색상(색상변경, bright) 인식 차이가 있다\n",
    "    \n",
    "    - 대표 색상(색상변경, bright) : 72º\n",
    "    - chisq.test 사용"
   ]
  },
  {
   "cell_type": "code",
   "execution_count": 2,
   "metadata": {},
   "outputs": [
    {
     "name": "stdout",
     "output_type": "stream",
     "text": [
      "'data.frame':\t684 obs. of  5 variables:\n",
      " $ X        : int  0 1 2 3 4 5 6 7 8 9 ...\n",
      " $ sex      : Factor w/ 2 levels \"Female\",\"Male\": 2 1 1 1 1 1 1 2 1 1 ...\n",
      " $ age_class: int  20 20 20 20 20 20 20 20 20 20 ...\n",
      " $ select   : Factor w/ 5 levels \"144\",\"216\",\"288\",..: 2 4 1 3 2 5 4 4 4 3 ...\n",
      " $ cnt      : int  1 1 1 1 1 1 1 1 1 1 ...\n"
     ]
    },
    {
     "data": {
      "text/html": [
       "<table>\n",
       "<thead><tr><th scope=col>X</th><th scope=col>sex</th><th scope=col>age_class</th><th scope=col>select</th><th scope=col>cnt</th></tr></thead>\n",
       "<tbody>\n",
       "\t<tr><td>0       </td><td>Male    </td><td>20      </td><td>216     </td><td>1       </td></tr>\n",
       "\t<tr><td>1       </td><td>Female  </td><td>20      </td><td>72      </td><td>1       </td></tr>\n",
       "\t<tr><td>2       </td><td>Female  </td><td>20      </td><td>144     </td><td>1       </td></tr>\n",
       "\t<tr><td>3       </td><td>Female  </td><td>20      </td><td>288     </td><td>1       </td></tr>\n",
       "\t<tr><td>4       </td><td>Female  </td><td>20      </td><td>216     </td><td>1       </td></tr>\n",
       "\t<tr><td>5       </td><td>Female  </td><td>20      </td><td>original</td><td>1       </td></tr>\n",
       "</tbody>\n",
       "</table>\n"
      ],
      "text/latex": [
       "\\begin{tabular}{r|lllll}\n",
       " X & sex & age\\_class & select & cnt\\\\\n",
       "\\hline\n",
       "\t 0        & Male     & 20       & 216      & 1       \\\\\n",
       "\t 1        & Female   & 20       & 72       & 1       \\\\\n",
       "\t 2        & Female   & 20       & 144      & 1       \\\\\n",
       "\t 3        & Female   & 20       & 288      & 1       \\\\\n",
       "\t 4        & Female   & 20       & 216      & 1       \\\\\n",
       "\t 5        & Female   & 20       & original & 1       \\\\\n",
       "\\end{tabular}\n"
      ],
      "text/markdown": [
       "\n",
       "| X | sex | age_class | select | cnt |\n",
       "|---|---|---|---|---|\n",
       "| 0        | Male     | 20       | 216      | 1        |\n",
       "| 1        | Female   | 20       | 72       | 1        |\n",
       "| 2        | Female   | 20       | 144      | 1        |\n",
       "| 3        | Female   | 20       | 288      | 1        |\n",
       "| 4        | Female   | 20       | 216      | 1        |\n",
       "| 5        | Female   | 20       | original | 1        |\n",
       "\n"
      ],
      "text/plain": [
       "  X sex    age_class select   cnt\n",
       "1 0 Male   20        216      1  \n",
       "2 1 Female 20        72       1  \n",
       "3 2 Female 20        144      1  \n",
       "4 3 Female 20        288      1  \n",
       "5 4 Female 20        216      1  \n",
       "6 5 Female 20        original 1  "
      ]
     },
     "metadata": {},
     "output_type": "display_data"
    }
   ],
   "source": [
    "# 데이터 불러오기\n",
    "\n",
    "SA_hCB_cnt <- read.csv(\"C:/Users/cho ye seul/Documents/예슬/Acorn/FinalProject/Statistical Analysis/SA_hCB_cnt.csv\")\n",
    "str(SA_hCB_cnt)\n",
    "head(SA_hCB_cnt)"
   ]
  },
  {
   "cell_type": "code",
   "execution_count": 3,
   "metadata": {},
   "outputs": [
    {
     "data": {
      "text/html": [
       "<table>\n",
       "<thead><tr><th></th><th scope=col>True</th><th scope=col>False</th><th scope=col>Sum</th></tr></thead>\n",
       "<tbody>\n",
       "\t<tr><th scope=row>F10</th><td>  2</td><td>  4</td><td>  6</td></tr>\n",
       "\t<tr><th scope=row>F20</th><td>128</td><td>328</td><td>456</td></tr>\n",
       "\t<tr><th scope=row>F30</th><td>  9</td><td> 27</td><td> 36</td></tr>\n",
       "\t<tr><th scope=row>F40</th><td>  3</td><td> 15</td><td> 18</td></tr>\n",
       "\t<tr><th scope=row>F50</th><td>  0</td><td> 12</td><td> 12</td></tr>\n",
       "\t<tr><th scope=row>M10</th><td>  0</td><td>  0</td><td>  0</td></tr>\n",
       "\t<tr><th scope=row>M20</th><td> 38</td><td>100</td><td>138</td></tr>\n",
       "\t<tr><th scope=row>M30</th><td>  3</td><td> 15</td><td> 18</td></tr>\n",
       "\t<tr><th scope=row>M40</th><td>  0</td><td>  0</td><td>  0</td></tr>\n",
       "\t<tr><th scope=row>M50</th><td>  0</td><td>  0</td><td>  0</td></tr>\n",
       "\t<tr><th scope=row>Sum</th><td>183</td><td>501</td><td>684</td></tr>\n",
       "</tbody>\n",
       "</table>\n"
      ],
      "text/latex": [
       "\\begin{tabular}{r|lll}\n",
       "  & True & False & Sum\\\\\n",
       "\\hline\n",
       "\tF10 &   2 &   4 &   6\\\\\n",
       "\tF20 & 128 & 328 & 456\\\\\n",
       "\tF30 &   9 &  27 &  36\\\\\n",
       "\tF40 &   3 &  15 &  18\\\\\n",
       "\tF50 &   0 &  12 &  12\\\\\n",
       "\tM10 &   0 &   0 &   0\\\\\n",
       "\tM20 &  38 & 100 & 138\\\\\n",
       "\tM30 &   3 &  15 &  18\\\\\n",
       "\tM40 &   0 &   0 &   0\\\\\n",
       "\tM50 &   0 &   0 &   0\\\\\n",
       "\tSum & 183 & 501 & 684\\\\\n",
       "\\end{tabular}\n"
      ],
      "text/markdown": [
       "\n",
       "| <!--/--> | True | False | Sum |\n",
       "|---|---|---|---|\n",
       "| F10 |   2 |   4 |   6 |\n",
       "| F20 | 128 | 328 | 456 |\n",
       "| F30 |   9 |  27 |  36 |\n",
       "| F40 |   3 |  15 |  18 |\n",
       "| F50 |   0 |  12 |  12 |\n",
       "| M10 |   0 |   0 |   0 |\n",
       "| M20 |  38 | 100 | 138 |\n",
       "| M30 |   3 |  15 |  18 |\n",
       "| M40 |   0 |   0 |   0 |\n",
       "| M50 |   0 |   0 |   0 |\n",
       "| Sum | 183 | 501 | 684 |\n",
       "\n"
      ],
      "text/plain": [
       "    True False Sum\n",
       "F10   2    4     6\n",
       "F20 128  328   456\n",
       "F30   9   27    36\n",
       "F40   3   15    18\n",
       "F50   0   12    12\n",
       "M10   0    0     0\n",
       "M20  38  100   138\n",
       "M30   3   15    18\n",
       "M40   0    0     0\n",
       "M50   0    0     0\n",
       "Sum 183  501   684"
      ]
     },
     "metadata": {},
     "output_type": "display_data"
    },
    {
     "name": "stderr",
     "output_type": "stream",
     "text": [
      "Warning message in chisq.test(df_SA_hCB_cnt):\n",
      "\"Chi-squared approximation may be incorrect\""
     ]
    },
    {
     "data": {
      "text/plain": [
       "\n",
       "\tPearson's Chi-squared test\n",
       "\n",
       "data:  df_SA_hCB_cnt\n",
       "X-squared = NaN, df = 9, p-value = NA\n"
      ]
     },
     "metadata": {},
     "output_type": "display_data"
    },
    {
     "data": {
      "text/plain": [
       "\n",
       "\tFisher's Exact Test for Count Data\n",
       "\n",
       "data:  df_SA_hCB_cnt\n",
       "p-value = 0.2925\n",
       "alternative hypothesis: two.sided\n"
      ]
     },
     "metadata": {},
     "output_type": "display_data"
    }
   ],
   "source": [
    "## 데이터프레임 재생성\n",
    "\n",
    "# Female + 10 \n",
    "F10_T <- with(SA_hCB_cnt, sum(cnt[sex == \"Female\" & age_class == \"10\" & select == \"72\"]))\n",
    "F10_F <- with(SA_hCB_cnt, sum(cnt[sex == \"Female\" & age_class == \"10\" & select != \"72\"]))\n",
    "\n",
    "# Female + 20 \n",
    "F20_T <- with(SA_hCB_cnt, sum(cnt[sex == \"Female\" & age_class == \"20\" & select == \"72\"]))\n",
    "F20_F <- with(SA_hCB_cnt, sum(cnt[sex == \"Female\" & age_class == \"20\" & select != \"72\"]))\n",
    "\n",
    "# Female + 30 \n",
    "F30_T <- with(SA_hCB_cnt, sum(cnt[sex == \"Female\" & age_class == \"30\" & select == \"72\"]))\n",
    "F30_F <- with(SA_hCB_cnt, sum(cnt[sex == \"Female\" & age_class == \"30\" & select != \"72\"]))\n",
    "\n",
    "# Female + 40 \n",
    "F40_T <- with(SA_hCB_cnt, sum(cnt[sex == \"Female\" & age_class == \"40\" & select == \"72\"]))\n",
    "F40_F <- with(SA_hCB_cnt, sum(cnt[sex == \"Female\" & age_class == \"40\" & select != \"72\"]))\n",
    "\n",
    "# Female + 50 \n",
    "F50_T <- with(SA_hCB_cnt, sum(cnt[sex == \"Female\" & age_class == \"50\" & select == \"72\"]))\n",
    "F50_F <- with(SA_hCB_cnt, sum(cnt[sex == \"Female\" & age_class == \"50\" & select != \"72\"]))\n",
    "\n",
    "# Male + 10 \n",
    "M10_T <- with(SA_hCB_cnt, sum(cnt[sex == \"Male\" & age_class == \"10\" & select == \"72\"]))\n",
    "M10_F <- with(SA_hCB_cnt, sum(cnt[sex == \"Male\" & age_class == \"10\" & select != \"72\"]))\n",
    "\n",
    "# Male + 20 \n",
    "M20_T <- with(SA_hCB_cnt, sum(cnt[sex == \"Male\" & age_class == \"20\" & select == \"72\"]))\n",
    "M20_F <- with(SA_hCB_cnt, sum(cnt[sex == \"Male\" & age_class == \"20\" & select != \"72\"]))\n",
    "\n",
    "# Male + 30 \n",
    "M30_T <- with(SA_hCB_cnt, sum(cnt[sex == \"Male\" & age_class == \"30\" & select == \"72\"]))\n",
    "M30_F <- with(SA_hCB_cnt, sum(cnt[sex == \"Male\" & age_class == \"30\" & select != \"72\"]))\n",
    "\n",
    "# Male + 40 \n",
    "M40_T <- with(SA_hCB_cnt, sum(cnt[sex == \"Male\" & age_class == \"40\" & select == \"72\"]))\n",
    "M40_F <- with(SA_hCB_cnt, sum(cnt[sex == \"Male\" & age_class == \"40\" & select != \"72\"]))\n",
    "\n",
    "# Male + 50 \n",
    "M50_T <- with(SA_hCB_cnt, sum(cnt[sex == \"Male\" & age_class == \"50\" & select == \"72\"]))\n",
    "M50_F <- with(SA_hCB_cnt, sum(cnt[sex == \"Male\" & age_class == \"50\" & select != \"72\"]))\n",
    "\n",
    "\n",
    "F10 <- c(F10_T, F10_F)\n",
    "F20 <- c(F20_T, F20_F)\n",
    "F30 <- c(F30_T, F30_F)\n",
    "F40 <- c(F40_T, F40_F)\n",
    "F50 <- c(F50_T, F50_F)\n",
    "\n",
    "M10 <- c(M10_T, M10_F)\n",
    "M20 <- c(M20_T, M20_F)\n",
    "M30 <- c(M30_T, M30_F)\n",
    "M40 <- c(M40_T, M40_F)\n",
    "M50 <- c(M50_T, M50_F)\n",
    "\n",
    "df_SA_hCB_cnt <- data.frame(F10, F20, F30, F40, F50, M10, M20, M30, M40, M50)\n",
    "df_SA_hCB_cnt <- t(df_SA_hCB_cnt)\n",
    "colnames(df_SA_hCB_cnt) <- c(\"True\", \"False\")\n",
    "\n",
    "## 행, 열 각각의 합계 알아보기\n",
    "addmargins(df_SA_hCB_cnt)\n",
    "# 합계값이 동일하지 않으므로 chisq.test 사용\n",
    "\n",
    "## 카이제곱\n",
    "chisq.test(df_SA_hCB_cnt)\n",
    "# p-value = NA\n",
    "# but 기대도수가 낮은 셀이 전체의 25% 이상 존재하므로 \n",
    "# Fisher's exact test 사용해야한다!!\n",
    "\n",
    "\n",
    "## Fisher's exact test\n",
    "fisher.test(df_SA_hCB_cnt)\n",
    "# p-value = 0.2925\n",
    "# 0.05보다 큰 값을 가지므로 귀무가설 성립"
   ]
  },
  {
   "cell_type": "markdown",
   "metadata": {},
   "source": [
    "#### Sex, Age 에 따른 대표 색상(색상변경, bright) 선택 분석 "
   ]
  },
  {
   "cell_type": "code",
   "execution_count": 4,
   "metadata": {},
   "outputs": [
    {
     "data": {
      "text/html": [
       "<table>\n",
       "<thead><tr><th></th><th scope=col>True</th><th scope=col>False</th></tr></thead>\n",
       "<tbody>\n",
       "\t<tr><th scope=row>F10</th><td>  2</td><td>  4</td></tr>\n",
       "\t<tr><th scope=row>F20</th><td>128</td><td>328</td></tr>\n",
       "\t<tr><th scope=row>F30</th><td>  9</td><td> 27</td></tr>\n",
       "\t<tr><th scope=row>F40</th><td>  3</td><td> 15</td></tr>\n",
       "\t<tr><th scope=row>F50</th><td>  0</td><td> 12</td></tr>\n",
       "\t<tr><th scope=row>M10</th><td>  0</td><td>  0</td></tr>\n",
       "\t<tr><th scope=row>M20</th><td> 38</td><td>100</td></tr>\n",
       "\t<tr><th scope=row>M30</th><td>  3</td><td> 15</td></tr>\n",
       "\t<tr><th scope=row>M40</th><td>  0</td><td>  0</td></tr>\n",
       "\t<tr><th scope=row>M50</th><td>  0</td><td>  0</td></tr>\n",
       "</tbody>\n",
       "</table>\n"
      ],
      "text/latex": [
       "\\begin{tabular}{r|ll}\n",
       "  & True & False\\\\\n",
       "\\hline\n",
       "\tF10 &   2 &   4\\\\\n",
       "\tF20 & 128 & 328\\\\\n",
       "\tF30 &   9 &  27\\\\\n",
       "\tF40 &   3 &  15\\\\\n",
       "\tF50 &   0 &  12\\\\\n",
       "\tM10 &   0 &   0\\\\\n",
       "\tM20 &  38 & 100\\\\\n",
       "\tM30 &   3 &  15\\\\\n",
       "\tM40 &   0 &   0\\\\\n",
       "\tM50 &   0 &   0\\\\\n",
       "\\end{tabular}\n"
      ],
      "text/markdown": [
       "\n",
       "| <!--/--> | True | False |\n",
       "|---|---|---|\n",
       "| F10 |   2 |   4 |\n",
       "| F20 | 128 | 328 |\n",
       "| F30 |   9 |  27 |\n",
       "| F40 |   3 |  15 |\n",
       "| F50 |   0 |  12 |\n",
       "| M10 |   0 |   0 |\n",
       "| M20 |  38 | 100 |\n",
       "| M30 |   3 |  15 |\n",
       "| M40 |   0 |   0 |\n",
       "| M50 |   0 |   0 |\n",
       "\n"
      ],
      "text/plain": [
       "    True False\n",
       "F10   2    4  \n",
       "F20 128  328  \n",
       "F30   9   27  \n",
       "F40   3   15  \n",
       "F50   0   12  \n",
       "M10   0    0  \n",
       "M20  38  100  \n",
       "M30   3   15  \n",
       "M40   0    0  \n",
       "M50   0    0  "
      ]
     },
     "metadata": {},
     "output_type": "display_data"
    }
   ],
   "source": [
    "df_SA_hCB_cnt"
   ]
  },
  {
   "cell_type": "markdown",
   "metadata": {},
   "source": [
    "### 결과 해석 \n",
    "\n",
    "     + Sex, Age 에 따른 인식 차이 분석\n",
    "\n",
    "     정답 비율 \n",
    "     F10 33.3%  F20 28.1%  F30 25.0%  F40 16.7%  F50  0.0% \n",
    "     M10  0.0%  M20 27.5%  M30 16.7%  M40  0.0%  M50  0.0%\n",
    "     \n",
    "     카테고리별 인원 수의 차이가 너무 심함\n",
    "     \n",
    "     앞의 분석 결과 \n",
    "     성별에 따른 인식 차이가 없었고, \n",
    "     연령에 따른 인식 차이가 없었다.\n",
    "     \n",
    "     정답 확률 : 10대여자 > 20대여자 > 20대남자"
   ]
  }
 ],
 "metadata": {
  "kernelspec": {
   "display_name": "R",
   "language": "R",
   "name": "ir"
  },
  "language_info": {
   "codemirror_mode": "r",
   "file_extension": ".r",
   "mimetype": "text/x-r-source",
   "name": "R",
   "pygments_lexer": "r",
   "version": "3.6.1"
  }
 },
 "nbformat": 4,
 "nbformat_minor": 2
}
