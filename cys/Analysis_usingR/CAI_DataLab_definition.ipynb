{
 "cells": [
  {
   "cell_type": "markdown",
   "metadata": {},
   "source": [
    "## 20대 여성 퍼스널컬러 정의\n",
    "\n",
    "    최초 작성일 : 20/04/16\n",
    "    작성자 : 조예슬\n",
    "\n",
    "    '네이버 데이터랩'의 결과, 20대 여자의 퍼스널컬러 검색수가 가장 높았다\n",
    "    이는 다른 그룹 보다 관심이 많다고 판단\n",
    "    -> 20대 여자를 조사 대상으로 삼기\n",
    "    \n",
    "    퍼스널컬러 정의와 필요성에 대한 설문조사 진행함\n",
    "    원래 퍼스널컬러의 정의는 '얼굴을 밝아보이게 하는 색'\n",
    "    하지만 20대 여자들의 설문조사 결과 \n",
    "    밝아보이는 색 보다 얼굴과 조화를 이루는 색을 더 선호함\n",
    "    더 많은 데이터를 가지고 있는 네이버 데이터랩을 활용하여 \n",
    "    '퍼스널 컬러 + 정의인식' 검색수를 비교하고 분석하기\n",
    "    \n",
    "    < 작성 내용 >\n",
    "    \n",
    "        - 6개월 별로 퍼스널컬러 정의 검색수 상대값, 절대값 시각화 시키기\n",
    "        - 분기별(3개월)로 퍼스널컬러 정의 검색수 상대값, 절대값 시각화 시키기\n",
    "        - 20대 여자는 매년마다 (1, 2)월, (11, 12)월에 퍼스널컬러에 대한 검색수가 증가하는 경향이 보임\n",
    "          해당 월만 묶어서 퍼스널컬러 정의 검색수 상대값, 절대값 시각화 시키기\n",
    "        - 퍼스널컬러 검색수가 증가하는 달만 뽑아서 퍼스널컬러 정의 검색수의 상대값, 절대값 시각화 시키기"
   ]
  },
  {
   "cell_type": "code",
   "execution_count": 1,
   "metadata": {},
   "outputs": [],
   "source": [
    "library(ggplot2)"
   ]
  },
  {
   "cell_type": "code",
   "execution_count": 2,
   "metadata": {},
   "outputs": [
    {
     "name": "stdout",
     "output_type": "stream",
     "text": [
      "'data.frame':\t1547 obs. of  8 variables:\n",
      " $ X          : int  0 1 2 3 4 5 6 7 8 9 ...\n",
      " $ Year       : int  2016 2016 2016 2016 2016 2016 2016 2016 2016 2016 ...\n",
      " $ Month      : int  1 1 1 1 1 1 1 1 1 1 ...\n",
      " $ Day        : int  1 2 3 4 5 6 7 8 9 10 ...\n",
      " $ bright_rel : num  2.78 2.32 2.63 1.39 1.55 ...\n",
      " $ bright_ab  : int  25 21 24 13 14 27 30 30 18 20 ...\n",
      " $ harmony_rel: num  0 0 0.155 0.618 0.773 ...\n",
      " $ harmony_ab : int  0 0 1 6 7 13 10 1 3 1 ...\n"
     ]
    },
    {
     "data": {
      "text/html": [
       "<table>\n",
       "<thead><tr><th scope=col>X</th><th scope=col>Year</th><th scope=col>Month</th><th scope=col>Day</th><th scope=col>bright_rel</th><th scope=col>bright_ab</th><th scope=col>harmony_rel</th><th scope=col>harmony_ab</th></tr></thead>\n",
       "<tbody>\n",
       "\t<tr><td>0      </td><td>2016   </td><td>1      </td><td>1      </td><td>2.78207</td><td>25     </td><td>0.00000</td><td> 0     </td></tr>\n",
       "\t<tr><td>1      </td><td>2016   </td><td>1      </td><td>2      </td><td>2.31839</td><td>21     </td><td>0.00000</td><td> 0     </td></tr>\n",
       "\t<tr><td>2      </td><td>2016   </td><td>1      </td><td>3      </td><td>2.62751</td><td>24     </td><td>0.15455</td><td> 1     </td></tr>\n",
       "\t<tr><td>3      </td><td>2016   </td><td>1      </td><td>4      </td><td>1.39103</td><td>13     </td><td>0.61823</td><td> 6     </td></tr>\n",
       "\t<tr><td>4      </td><td>2016   </td><td>1      </td><td>5      </td><td>1.54559</td><td>14     </td><td>0.77279</td><td> 7     </td></tr>\n",
       "\t<tr><td>5      </td><td>2016   </td><td>1      </td><td>6      </td><td>2.93663</td><td>27     </td><td>1.39103</td><td>13     </td></tr>\n",
       "</tbody>\n",
       "</table>\n"
      ],
      "text/latex": [
       "\\begin{tabular}{r|llllllll}\n",
       " X & Year & Month & Day & bright\\_rel & bright\\_ab & harmony\\_rel & harmony\\_ab\\\\\n",
       "\\hline\n",
       "\t 0       & 2016    & 1       & 1       & 2.78207 & 25      & 0.00000 &  0     \\\\\n",
       "\t 1       & 2016    & 1       & 2       & 2.31839 & 21      & 0.00000 &  0     \\\\\n",
       "\t 2       & 2016    & 1       & 3       & 2.62751 & 24      & 0.15455 &  1     \\\\\n",
       "\t 3       & 2016    & 1       & 4       & 1.39103 & 13      & 0.61823 &  6     \\\\\n",
       "\t 4       & 2016    & 1       & 5       & 1.54559 & 14      & 0.77279 &  7     \\\\\n",
       "\t 5       & 2016    & 1       & 6       & 2.93663 & 27      & 1.39103 & 13     \\\\\n",
       "\\end{tabular}\n"
      ],
      "text/markdown": [
       "\n",
       "| X | Year | Month | Day | bright_rel | bright_ab | harmony_rel | harmony_ab |\n",
       "|---|---|---|---|---|---|---|---|\n",
       "| 0       | 2016    | 1       | 1       | 2.78207 | 25      | 0.00000 |  0      |\n",
       "| 1       | 2016    | 1       | 2       | 2.31839 | 21      | 0.00000 |  0      |\n",
       "| 2       | 2016    | 1       | 3       | 2.62751 | 24      | 0.15455 |  1      |\n",
       "| 3       | 2016    | 1       | 4       | 1.39103 | 13      | 0.61823 |  6      |\n",
       "| 4       | 2016    | 1       | 5       | 1.54559 | 14      | 0.77279 |  7      |\n",
       "| 5       | 2016    | 1       | 6       | 2.93663 | 27      | 1.39103 | 13      |\n",
       "\n"
      ],
      "text/plain": [
       "  X Year Month Day bright_rel bright_ab harmony_rel harmony_ab\n",
       "1 0 2016 1     1   2.78207    25        0.00000      0        \n",
       "2 1 2016 1     2   2.31839    21        0.00000      0        \n",
       "3 2 2016 1     3   2.62751    24        0.15455      1        \n",
       "4 3 2016 1     4   1.39103    13        0.61823      6        \n",
       "5 4 2016 1     5   1.54559    14        0.77279      7        \n",
       "6 5 2016 1     6   2.93663    27        1.39103     13        "
      ]
     },
     "metadata": {},
     "output_type": "display_data"
    }
   ],
   "source": [
    "# 데이터 불러오기\n",
    "data_definition <- read.csv(\"C:/Users/cho ye seul/Documents/예슬/Acorn/FinalProject/Statistical Analysis/datalab_definition.csv\")\n",
    "str(data_definition)\n",
    "head(data_definition)"
   ]
  },
  {
   "cell_type": "markdown",
   "metadata": {},
   "source": [
    "### 6개월 평균"
   ]
  },
  {
   "cell_type": "code",
   "execution_count": 22,
   "metadata": {
    "collapsed": true
   },
   "outputs": [
    {
     "name": "stdout",
     "output_type": "stream",
     "text": [
      "'data.frame':\t9 obs. of  5 variables:\n",
      " $ columns    : Factor w/ 9 levels \"2016_aw\",\"2016_ss\",..: 2 1 4 3 6 5 8 7 9\n",
      "  ..- attr(*, \"names\")= chr  \"name_ss\" \"name_aw\" \"name_ss\" \"name_aw\" ...\n",
      " $ bright_rel : num  3 3 3 2 3 2 2 2 2\n",
      " $ bright_ab  : num  28 25 27 23 25 21 22 21 22\n",
      " $ harmony_rel: num  1 1 1 1 1 1 1 1 1\n",
      " $ harmony_ab : num  11 11 11 9 10 9 8 8 8\n"
     ]
    },
    {
     "data": {
      "text/html": [
       "<table>\n",
       "<thead><tr><th></th><th scope=col>columns</th><th scope=col>bright_rel</th><th scope=col>bright_ab</th><th scope=col>harmony_rel</th><th scope=col>harmony_ab</th></tr></thead>\n",
       "<tbody>\n",
       "\t<tr><th scope=row>name_ss</th><td>2016_ss</td><td>3      </td><td>28     </td><td>1      </td><td>11     </td></tr>\n",
       "\t<tr><th scope=row>name_aw</th><td>2016_aw</td><td>3      </td><td>25     </td><td>1      </td><td>11     </td></tr>\n",
       "\t<tr><th scope=row>name_ss.1</th><td>2017_ss</td><td>3      </td><td>27     </td><td>1      </td><td>11     </td></tr>\n",
       "\t<tr><th scope=row>name_aw.1</th><td>2017_aw</td><td>2      </td><td>23     </td><td>1      </td><td> 9     </td></tr>\n",
       "\t<tr><th scope=row>name_ss.2</th><td>2018_ss</td><td>3      </td><td>25     </td><td>1      </td><td>10     </td></tr>\n",
       "\t<tr><th scope=row>name_aw.2</th><td>2018_aw</td><td>2      </td><td>21     </td><td>1      </td><td> 9     </td></tr>\n",
       "\t<tr><th scope=row>name_ss.3</th><td>2019_ss</td><td>2      </td><td>22     </td><td>1      </td><td> 8     </td></tr>\n",
       "\t<tr><th scope=row>name_aw.3</th><td>2019_aw</td><td>2      </td><td>21     </td><td>1      </td><td> 8     </td></tr>\n",
       "\t<tr><th scope=row>name_20</th><td>2020_ss</td><td>2      </td><td>22     </td><td>1      </td><td> 8     </td></tr>\n",
       "</tbody>\n",
       "</table>\n"
      ],
      "text/latex": [
       "\\begin{tabular}{r|lllll}\n",
       "  & columns & bright\\_rel & bright\\_ab & harmony\\_rel & harmony\\_ab\\\\\n",
       "\\hline\n",
       "\tname\\_ss & 2016\\_ss & 3         & 28        & 1         & 11       \\\\\n",
       "\tname\\_aw & 2016\\_aw & 3         & 25        & 1         & 11       \\\\\n",
       "\tname\\_ss.1 & 2017\\_ss & 3         & 27        & 1         & 11       \\\\\n",
       "\tname\\_aw.1 & 2017\\_aw & 2         & 23        & 1         &  9       \\\\\n",
       "\tname\\_ss.2 & 2018\\_ss & 3         & 25        & 1         & 10       \\\\\n",
       "\tname\\_aw.2 & 2018\\_aw & 2         & 21        & 1         &  9       \\\\\n",
       "\tname\\_ss.3 & 2019\\_ss & 2         & 22        & 1         &  8       \\\\\n",
       "\tname\\_aw.3 & 2019\\_aw & 2         & 21        & 1         &  8       \\\\\n",
       "\tname\\_20 & 2020\\_ss & 2         & 22        & 1         &  8       \\\\\n",
       "\\end{tabular}\n"
      ],
      "text/markdown": [
       "\n",
       "| <!--/--> | columns | bright_rel | bright_ab | harmony_rel | harmony_ab |\n",
       "|---|---|---|---|---|---|\n",
       "| name_ss | 2016_ss | 3       | 28      | 1       | 11      |\n",
       "| name_aw | 2016_aw | 3       | 25      | 1       | 11      |\n",
       "| name_ss.1 | 2017_ss | 3       | 27      | 1       | 11      |\n",
       "| name_aw.1 | 2017_aw | 2       | 23      | 1       |  9      |\n",
       "| name_ss.2 | 2018_ss | 3       | 25      | 1       | 10      |\n",
       "| name_aw.2 | 2018_aw | 2       | 21      | 1       |  9      |\n",
       "| name_ss.3 | 2019_ss | 2       | 22      | 1       |  8      |\n",
       "| name_aw.3 | 2019_aw | 2       | 21      | 1       |  8      |\n",
       "| name_20 | 2020_ss | 2       | 22      | 1       |  8      |\n",
       "\n"
      ],
      "text/plain": [
       "          columns bright_rel bright_ab harmony_rel harmony_ab\n",
       "name_ss   2016_ss 3          28        1           11        \n",
       "name_aw   2016_aw 3          25        1           11        \n",
       "name_ss.1 2017_ss 3          27        1           11        \n",
       "name_aw.1 2017_aw 2          23        1            9        \n",
       "name_ss.2 2018_ss 3          25        1           10        \n",
       "name_aw.2 2018_aw 2          21        1            9        \n",
       "name_ss.3 2019_ss 2          22        1            8        \n",
       "name_aw.3 2019_aw 2          21        1            8        \n",
       "name_20   2020_ss 2          22        1            8        "
      ]
     },
     "metadata": {},
     "output_type": "display_data"
    }
   ],
   "source": [
    "## 6개월씩 묶은 데이터프레임 생성\n",
    "\n",
    "ss <- c(\"1\", \"2\", \"3\", \"4\", \"5\", \"6\")\n",
    "aw <- c(\"7\", \"8\", \"9\", \"10\", \"11\", \"12\")\n",
    "\n",
    "# bright_rel\n",
    "DF1 <- c()\n",
    "for(i in seq(2016, 2019, by=1)){\n",
    "    name_ss <- with(data_definition, round(mean(bright_rel[(Year == i) & (Month %in% ss)])))\n",
    "    name_aw <- with(data_definition, round(mean(bright_rel[(Year == i) & (Month %in% aw)])))\n",
    "    df <- data.frame(name_ss, name_aw)\n",
    "    df <- t(df)\n",
    "    DF1 <- rbind(DF1, df)\n",
    "    colnames(DF1) <- c(\"bright_rel\")\n",
    "}\n",
    "name_20 <- with(data_definition, round(mean(bright_rel[(Year == i)])))\n",
    "DF1 <- rbind(DF1, name_20)\n",
    "# DF1\n",
    "\n",
    "# bright_ab\n",
    "DF2 <- c()\n",
    "for(i in seq(2016, 2019, by=1)){\n",
    "    name_ss <- with(data_definition, round(mean(bright_ab[(Year == i) & (Month %in% ss)])))\n",
    "    name_aw <- with(data_definition, round(mean(bright_ab[(Year == i) & (Month %in% aw)])))\n",
    "    df <- data.frame(name_ss, name_aw)\n",
    "    df <- t(df)\n",
    "    DF2 <- rbind(DF2, df)\n",
    "    colnames(DF2) <- c(\"bright_ab\")\n",
    "}\n",
    "name_20 <- with(data_definition, round(mean(bright_ab[(Year == i)])))\n",
    "DF2 <- rbind(DF2, name_20)\n",
    "# DF2\n",
    "\n",
    "# harmony_rel\n",
    "DF3 <- c()\n",
    "for(i in seq(2016, 2019, by=1)){\n",
    "    name_ss <- with(data_definition, round(mean(harmony_rel[(Year == i) & (Month %in% ss)])))\n",
    "    name_aw <- with(data_definition, round(mean(harmony_rel[(Year == i) & (Month %in% aw)])))\n",
    "    df <- data.frame(name_ss, name_aw)\n",
    "    df <- t(df)\n",
    "    DF3 <- rbind(DF3, df)\n",
    "    colnames(DF3) <- c(\"harmony_rel\")\n",
    "}\n",
    "name_20 <- with(data_definition, round(mean(harmony_rel[(Year == i)])))\n",
    "DF3 <- rbind(DF3, name_20)\n",
    "# DF3\n",
    "\n",
    "# harmony_ab\n",
    "DF4 <- c()\n",
    "for(i in seq(2016, 2019, by=1)){\n",
    "    name_ss <- with(data_definition, round(mean(harmony_ab[(Year == i) & (Month %in% ss)])))\n",
    "    name_aw <- with(data_definition, round(mean(harmony_ab[(Year == i) & (Month %in% aw)])))\n",
    "    df <- data.frame(name_ss, name_aw)\n",
    "    df <- t(df)\n",
    "    DF4 <- rbind(DF4, df)\n",
    "    colnames(DF4) <- c(\"harmony_ab\")\n",
    "}\n",
    "name_20 <- with(data_definition, round(mean(harmony_ab[(Year == i)])))\n",
    "DF4 <- rbind(DF4, name_20)\n",
    "# DF4\n",
    "\n",
    "# 인덱스명 변경\n",
    "columns <- c(\"2016_ss\", \"2016_aw\", \"2017_ss\", \"2017_aw\", \n",
    "                  \"2018_ss\", \"2018_aw\", \"2019_ss\", \"2019_aw\", \"2020_ss\")\n",
    "\n",
    "# 합치기\n",
    "DF <- cbind(columns, DF1)\n",
    "DF <- cbind(DF, DF2)\n",
    "DF <- cbind(DF, DF3)\n",
    "DF <- cbind(DF, DF4)\n",
    "\n",
    "# 형식전환\n",
    "DF2 <- as.data.frame(DF)\n",
    "DF2$bright_rel <- as.numeric(as.character(DF2$bright_rel))\n",
    "DF2$bright_ab <- as.numeric(as.character(DF2$bright_ab))\n",
    "DF2$harmony_rel <- as.numeric(as.character(DF2$harmony_rel))\n",
    "DF2$harmony_ab <- as.numeric(as.character(DF2$harmony_ab))\n",
    "\n",
    "# 확인\n",
    "str(DF2)\n",
    "DF2"
   ]
  },
  {
   "cell_type": "code",
   "execution_count": 27,
   "metadata": {
    "scrolled": false
   },
   "outputs": [
    {
     "data": {
      "image/png": "[encoded data removed]",
      "text/plain": [
       "plot without title"
      ]
     },
     "metadata": {},
     "output_type": "display_data"
    }
   ],
   "source": [
    "# 6개월 평균 상대값\n",
    "\n",
    "ggplot(DF2, aes(x=columns, y=bright_rel, group=1)) + geom_line(color=\"blue\") +\n",
    "    ylim(0, 100) + ggtitle(\"퍼스널컬러 정의 6개월 평균 상대값\") + xlab(\"Month(6개월)\") + \n",
    "    geom_line(aes(x=columns, y=harmony_rel), color=\"red\")"
   ]
  },
  {
   "cell_type": "code",
   "execution_count": 30,
   "metadata": {},
   "outputs": [
    {
     "data": {
      "image/png": "[encoded data removed]",
      "text/plain": [
       "plot without title"
      ]
     },
     "metadata": {},
     "output_type": "display_data"
    }
   ],
   "source": [
    "# 6개월 평균 절대값\n",
    "\n",
    "ggplot(DF2, aes(x=columns, y=bright_ab, group=1)) + geom_line(color=\"blue\") +\n",
    "    ylim(0, 100) + ggtitle(\"퍼스널컬러 정의 6개월 평균 절대값\") + xlab(\"Month(6개월)\") + \n",
    "    geom_line(aes(x=columns, y=harmony_ab), color=\"red\")"
   ]
  },
  {
   "cell_type": "code",
   "execution_count": null,
   "metadata": {},
   "outputs": [],
   "source": []
  },
  {
   "cell_type": "markdown",
   "metadata": {},
   "source": [
    "### 분기별(3개월) 평균"
   ]
  },
  {
   "cell_type": "code",
   "execution_count": 39,
   "metadata": {},
   "outputs": [
    {
     "name": "stdout",
     "output_type": "stream",
     "text": [
      "'data.frame':\t17 obs. of  5 variables:\n",
      " $ columns    : Factor w/ 17 levels \"2016_autumn\",..: 2 3 1 4 6 7 5 8 10 11 ...\n",
      "  ..- attr(*, \"names\")= chr  \"name_sp\" \"name_su\" \"name_au\" \"name_wi\" ...\n",
      " $ bright_rel : num  3 3 3 3 3 3 2 2 3 3 ...\n",
      " $ bright_ab  : num  26 29 24 26 26 28 23 22 24 26 ...\n",
      " $ harmony_rel: num  1 1 1 1 1 1 1 1 1 1 ...\n",
      " $ harmony_ab : num  9 13 10 13 10 12 9 10 9 10 ...\n"
     ]
    },
    {
     "data": {
      "text/html": [
       "<table>\n",
       "<thead><tr><th></th><th scope=col>columns</th><th scope=col>bright_rel</th><th scope=col>bright_ab</th><th scope=col>harmony_rel</th><th scope=col>harmony_ab</th></tr></thead>\n",
       "<tbody>\n",
       "\t<tr><th scope=row>name_sp</th><td>2016_spring</td><td>3          </td><td>26         </td><td>1          </td><td> 9         </td></tr>\n",
       "\t<tr><th scope=row>name_su</th><td>2016_summer</td><td>3          </td><td>29         </td><td>1          </td><td>13         </td></tr>\n",
       "\t<tr><th scope=row>name_au</th><td>2016_autumn</td><td>3          </td><td>24         </td><td>1          </td><td>10         </td></tr>\n",
       "\t<tr><th scope=row>name_wi</th><td>2016_winter</td><td>3          </td><td>26         </td><td>1          </td><td>13         </td></tr>\n",
       "\t<tr><th scope=row>name_sp.1</th><td>2017_spring</td><td>3          </td><td>26         </td><td>1          </td><td>10         </td></tr>\n",
       "\t<tr><th scope=row>name_su.1</th><td>2017_summer</td><td>3          </td><td>28         </td><td>1          </td><td>12         </td></tr>\n",
       "\t<tr><th scope=row>name_au.1</th><td>2017_autumn</td><td>2          </td><td>23         </td><td>1          </td><td> 9         </td></tr>\n",
       "\t<tr><th scope=row>name_wi.1</th><td>2017_winter</td><td>2          </td><td>22         </td><td>1          </td><td>10         </td></tr>\n",
       "\t<tr><th scope=row>name_sp.2</th><td>2018_spring</td><td>3          </td><td>24         </td><td>1          </td><td> 9         </td></tr>\n",
       "\t<tr><th scope=row>name_su.2</th><td>2018_summer</td><td>3          </td><td>26         </td><td>1          </td><td>10         </td></tr>\n",
       "\t<tr><th scope=row>name_au.2</th><td>2018_autumn</td><td>2          </td><td>21         </td><td>1          </td><td> 8         </td></tr>\n",
       "\t<tr><th scope=row>name_wi.2</th><td>2018_winter</td><td>2          </td><td>21         </td><td>1          </td><td>10         </td></tr>\n",
       "\t<tr><th scope=row>name_sp.3</th><td>2019_spring</td><td>2          </td><td>22         </td><td>1          </td><td> 8         </td></tr>\n",
       "\t<tr><th scope=row>name_su.3</th><td>2019_summer</td><td>2          </td><td>23         </td><td>1          </td><td> 9         </td></tr>\n",
       "\t<tr><th scope=row>name_au.3</th><td>2019_autumn</td><td>2          </td><td>21         </td><td>1          </td><td> 8         </td></tr>\n",
       "\t<tr><th scope=row>name_wi.3</th><td>2019_winter</td><td>2          </td><td>22         </td><td>1          </td><td> 8         </td></tr>\n",
       "\t<tr><th scope=row>name_20</th><td>2020_spring</td><td>3          </td><td>24         </td><td>1          </td><td> 8         </td></tr>\n",
       "</tbody>\n",
       "</table>\n"
      ],
      "text/latex": [
       "\\begin{tabular}{r|lllll}\n",
       "  & columns & bright\\_rel & bright\\_ab & harmony\\_rel & harmony\\_ab\\\\\n",
       "\\hline\n",
       "\tname\\_sp & 2016\\_spring & 3             & 26            & 1             &  9           \\\\\n",
       "\tname\\_su & 2016\\_summer & 3             & 29            & 1             & 13           \\\\\n",
       "\tname\\_au & 2016\\_autumn & 3             & 24            & 1             & 10           \\\\\n",
       "\tname\\_wi & 2016\\_winter & 3             & 26            & 1             & 13           \\\\\n",
       "\tname\\_sp.1 & 2017\\_spring & 3             & 26            & 1             & 10           \\\\\n",
       "\tname\\_su.1 & 2017\\_summer & 3             & 28            & 1             & 12           \\\\\n",
       "\tname\\_au.1 & 2017\\_autumn & 2             & 23            & 1             &  9           \\\\\n",
       "\tname\\_wi.1 & 2017\\_winter & 2             & 22            & 1             & 10           \\\\\n",
       "\tname\\_sp.2 & 2018\\_spring & 3             & 24            & 1             &  9           \\\\\n",
       "\tname\\_su.2 & 2018\\_summer & 3             & 26            & 1             & 10           \\\\\n",
       "\tname\\_au.2 & 2018\\_autumn & 2             & 21            & 1             &  8           \\\\\n",
       "\tname\\_wi.2 & 2018\\_winter & 2             & 21            & 1             & 10           \\\\\n",
       "\tname\\_sp.3 & 2019\\_spring & 2             & 22            & 1             &  8           \\\\\n",
       "\tname\\_su.3 & 2019\\_summer & 2             & 23            & 1             &  9           \\\\\n",
       "\tname\\_au.3 & 2019\\_autumn & 2             & 21            & 1             &  8           \\\\\n",
       "\tname\\_wi.3 & 2019\\_winter & 2             & 22            & 1             &  8           \\\\\n",
       "\tname\\_20 & 2020\\_spring & 3             & 24            & 1             &  8           \\\\\n",
       "\\end{tabular}\n"
      ],
      "text/markdown": [
       "\n",
       "| <!--/--> | columns | bright_rel | bright_ab | harmony_rel | harmony_ab |\n",
       "|---|---|---|---|---|---|\n",
       "| name_sp | 2016_spring | 3           | 26          | 1           |  9          |\n",
       "| name_su | 2016_summer | 3           | 29          | 1           | 13          |\n",
       "| name_au | 2016_autumn | 3           | 24          | 1           | 10          |\n",
       "| name_wi | 2016_winter | 3           | 26          | 1           | 13          |\n",
       "| name_sp.1 | 2017_spring | 3           | 26          | 1           | 10          |\n",
       "| name_su.1 | 2017_summer | 3           | 28          | 1           | 12          |\n",
       "| name_au.1 | 2017_autumn | 2           | 23          | 1           |  9          |\n",
       "| name_wi.1 | 2017_winter | 2           | 22          | 1           | 10          |\n",
       "| name_sp.2 | 2018_spring | 3           | 24          | 1           |  9          |\n",
       "| name_su.2 | 2018_summer | 3           | 26          | 1           | 10          |\n",
       "| name_au.2 | 2018_autumn | 2           | 21          | 1           |  8          |\n",
       "| name_wi.2 | 2018_winter | 2           | 21          | 1           | 10          |\n",
       "| name_sp.3 | 2019_spring | 2           | 22          | 1           |  8          |\n",
       "| name_su.3 | 2019_summer | 2           | 23          | 1           |  9          |\n",
       "| name_au.3 | 2019_autumn | 2           | 21          | 1           |  8          |\n",
       "| name_wi.3 | 2019_winter | 2           | 22          | 1           |  8          |\n",
       "| name_20 | 2020_spring | 3           | 24          | 1           |  8          |\n",
       "\n"
      ],
      "text/plain": [
       "          columns     bright_rel bright_ab harmony_rel harmony_ab\n",
       "name_sp   2016_spring 3          26        1            9        \n",
       "name_su   2016_summer 3          29        1           13        \n",
       "name_au   2016_autumn 3          24        1           10        \n",
       "name_wi   2016_winter 3          26        1           13        \n",
       "name_sp.1 2017_spring 3          26        1           10        \n",
       "name_su.1 2017_summer 3          28        1           12        \n",
       "name_au.1 2017_autumn 2          23        1            9        \n",
       "name_wi.1 2017_winter 2          22        1           10        \n",
       "name_sp.2 2018_spring 3          24        1            9        \n",
       "name_su.2 2018_summer 3          26        1           10        \n",
       "name_au.2 2018_autumn 2          21        1            8        \n",
       "name_wi.2 2018_winter 2          21        1           10        \n",
       "name_sp.3 2019_spring 2          22        1            8        \n",
       "name_su.3 2019_summer 2          23        1            9        \n",
       "name_au.3 2019_autumn 2          21        1            8        \n",
       "name_wi.3 2019_winter 2          22        1            8        \n",
       "name_20   2020_spring 3          24        1            8        "
      ]
     },
     "metadata": {},
     "output_type": "display_data"
    }
   ],
   "source": [
    "## 6개월씩 묶은 데이터프레임 생성\n",
    "\n",
    "sp <- c(\"1\", \"2\", \"3\")\n",
    "su <- c(\"4\", \"5\", \"6\")\n",
    "au <- c(\"7\", \"8\", \"9\")\n",
    "wi <- c(\"10\", \"11\", \"12\")\n",
    "\n",
    "# bright_rel\n",
    "DF1 <- c()\n",
    "\n",
    "for(i in seq(2016, 2019, by=1)){\n",
    "    name_sp <- with(data_definition, round(mean(bright_rel[(Year == i) & (Month %in% sp)])))\n",
    "    name_su <- with(data_definition, round(mean(bright_rel[(Year == i) & (Month %in% su)])))\n",
    "    name_au <- with(data_definition, round(mean(bright_rel[(Year == i) & (Month %in% au)])))\n",
    "    name_wi <- with(data_definition, round(mean(bright_rel[(Year == i) & (Month %in% wi)])))\n",
    "    df <- data.frame(name_sp, name_su, name_au, name_wi)\n",
    "    df <- t(df)\n",
    "    DF1 <- rbind(DF1, df)\n",
    "    colnames(DF1) <- c(\"bright_rel\")\n",
    "}\n",
    "name_20 <- with(data_definition, round(mean(bright_rel[(Year == 2020)])))\n",
    "DF1 <- rbind(DF1, name_20)\n",
    "# DF1\n",
    "\n",
    "# bright_ab\n",
    "DF2 <- c()\n",
    "\n",
    "for(i in seq(2016, 2019, by=1)){\n",
    "    name_sp <- with(data_definition, round(mean(bright_ab[(Year == i) & (Month %in% sp)])))\n",
    "    name_su <- with(data_definition, round(mean(bright_ab[(Year == i) & (Month %in% su)])))\n",
    "    name_au <- with(data_definition, round(mean(bright_ab[(Year == i) & (Month %in% au)])))\n",
    "    name_wi <- with(data_definition, round(mean(bright_ab[(Year == i) & (Month %in% wi)])))\n",
    "    df <- data.frame(name_sp, name_su, name_au, name_wi)\n",
    "    df <- t(df)\n",
    "    DF2 <- rbind(DF2, df)\n",
    "    colnames(DF2) <- c(\"bright_ab\")\n",
    "}\n",
    "name_20 <- with(data_definition, round(mean(bright_ab[(Year == 2020)])))\n",
    "DF2 <- rbind(DF2, name_20)\n",
    "# DF2\n",
    "\n",
    "# harmony_rel\n",
    "DF3 <- c()\n",
    "\n",
    "for(i in seq(2016, 2019, by=1)){\n",
    "    name_sp <- with(data_definition, round(mean(harmony_rel[(Year == i) & (Month %in% sp)])))\n",
    "    name_su <- with(data_definition, round(mean(harmony_rel[(Year == i) & (Month %in% su)])))\n",
    "    name_au <- with(data_definition, round(mean(harmony_rel[(Year == i) & (Month %in% au)])))\n",
    "    name_wi <- with(data_definition, round(mean(harmony_rel[(Year == i) & (Month %in% wi)])))\n",
    "    df <- data.frame(name_sp, name_su, name_au, name_wi)\n",
    "    df <- t(df)\n",
    "    DF3 <- rbind(DF3, df)\n",
    "    colnames(DF3) <- c(\"harmony_rel\")\n",
    "}\n",
    "name_20 <- with(data_definition, round(mean(harmony_rel[(Year == 2020)])))\n",
    "DF3 <- rbind(DF3, name_20)\n",
    "# DF3\n",
    "\n",
    "# harmony_ab\n",
    "DF4 <- c()\n",
    "\n",
    "for(i in seq(2016, 2019, by=1)){\n",
    "    name_sp <- with(data_definition, round(mean(harmony_ab[(Year == i) & (Month %in% sp)])))\n",
    "    name_su <- with(data_definition, round(mean(harmony_ab[(Year == i) & (Month %in% su)])))\n",
    "    name_au <- with(data_definition, round(mean(harmony_ab[(Year == i) & (Month %in% au)])))\n",
    "    name_wi <- with(data_definition, round(mean(harmony_ab[(Year == i) & (Month %in% wi)])))\n",
    "    df <- data.frame(name_sp, name_su, name_au, name_wi)\n",
    "    df <- t(df)\n",
    "    DF4 <- rbind(DF4, df)\n",
    "    colnames(DF4) <- c(\"harmony_ab\")\n",
    "}\n",
    "name_20 <- with(data_definition, round(mean(harmony_ab[(Year == 2020)])))\n",
    "DF4 <- rbind(DF4, name_20)\n",
    "# DF4\n",
    "\n",
    "# 인덱스명 변경\n",
    "columns <- c(\"2016_spring\",\"2016_summer\", \"2016_autumn\", \"2016_winter\",\n",
    "             \"2017_spring\",\"2017_summer\", \"2017_autumn\", \"2017_winter\",\n",
    "             \"2018_spring\",\"2018_summer\", \"2018_autumn\", \"2018_winter\",\n",
    "             \"2019_spring\",\"2019_summer\", \"2019_autumn\", \"2019_winter\",\n",
    "             \"2020_spring\")\n",
    "\n",
    "# 합치기\n",
    "DF <- cbind(columns, DF1)\n",
    "DF <- cbind(DF, DF2)\n",
    "DF <- cbind(DF, DF3)\n",
    "DF <- cbind(DF, DF4)\n",
    "\n",
    "# 형식전환\n",
    "DF2 <- as.data.frame(DF)\n",
    "DF2$bright_rel <- as.numeric(as.character(DF2$bright_rel))\n",
    "DF2$bright_ab <- as.numeric(as.character(DF2$bright_ab))\n",
    "DF2$harmony_rel <- as.numeric(as.character(DF2$harmony_rel))\n",
    "DF2$harmony_ab <- as.numeric(as.character(DF2$harmony_ab))\n",
    "\n",
    "# 확인\n",
    "str(DF2)\n",
    "DF2"
   ]
  },
  {
   "cell_type": "code",
   "execution_count": 40,
   "metadata": {},
   "outputs": [
    {
     "data": {
      "image/png": "[encoded data removed]",
      "text/plain": [
       "plot without title"
      ]
     },
     "metadata": {},
     "output_type": "display_data"
    }
   ],
   "source": [
    "# 분기별(3개월) 평균 상대값\n",
    "\n",
    "ggplot(DF2, aes(x=columns, y=bright_rel, group=1)) + geom_line(color=\"blue\") + \n",
    "    ylim(0, 100) + ggtitle(\"분기별(3개월) 평균 상대값\") + xlab(\"Month(3개월)\") + \n",
    "    geom_line(aes(x=columns, y=harmony_rel), color=\"red\")"
   ]
  },
  {
   "cell_type": "code",
   "execution_count": 41,
   "metadata": {},
   "outputs": [
    {
     "data": {
      "image/png": "[encoded data removed]",
      "text/plain": [
       "plot without title"
      ]
     },
     "metadata": {},
     "output_type": "display_data"
    }
   ],
   "source": [
    "# 분기별(3개월) 평균 절대값\n",
    "\n",
    "ggplot(DF2, aes(x=columns, y=bright_ab, group=1)) + geom_line(color=\"blue\") + \n",
    "    ylim(0, 100) + ggtitle(\"분기별(3개월) 평균 상대값\") + xlab(\"Month(3개월)\") + \n",
    "    geom_line(aes(x=columns, y=harmony_ab), color=\"red\")"
   ]
  },
  {
   "cell_type": "code",
   "execution_count": null,
   "metadata": {},
   "outputs": [],
   "source": []
  },
  {
   "cell_type": "markdown",
   "metadata": {},
   "source": [
    "### 여자 20대의 퍼스널컬러 검색수가 높은 달만 뽑아서 평균(1, 2) (11, 12)"
   ]
  },
  {
   "cell_type": "code",
   "execution_count": 51,
   "metadata": {},
   "outputs": [
    {
     "name": "stdout",
     "output_type": "stream",
     "text": [
      "'data.frame':\t9 obs. of  5 variables:\n",
      " $ columns    : Factor w/ 9 levels \"2016_aw\",\"2016_ss\",..: 2 1 4 3 6 5 8 7 9\n",
      "  ..- attr(*, \"names\")= chr  \"name_ss\" \"name_aw\" \"name_ss\" \"name_aw\" ...\n",
      " $ bright_rel : num  2 3 3 3 2 2 2 2 3\n",
      " $ bright_ab  : num  22 26 23 23 23 21 21 21 24\n",
      " $ harmony_rel: num  1 1 1 1 1 1 1 1 1\n",
      " $ harmony_ab : num  6 12 8 10 8 8 6 8 8\n"
     ]
    },
    {
     "data": {
      "text/html": [
       "<table>\n",
       "<thead><tr><th></th><th scope=col>columns</th><th scope=col>bright_rel</th><th scope=col>bright_ab</th><th scope=col>harmony_rel</th><th scope=col>harmony_ab</th></tr></thead>\n",
       "<tbody>\n",
       "\t<tr><th scope=row>name_ss</th><td>2016_ss</td><td>2      </td><td>22     </td><td>1      </td><td> 6     </td></tr>\n",
       "\t<tr><th scope=row>name_aw</th><td>2016_aw</td><td>3      </td><td>26     </td><td>1      </td><td>12     </td></tr>\n",
       "\t<tr><th scope=row>name_ss.1</th><td>2017_ss</td><td>3      </td><td>23     </td><td>1      </td><td> 8     </td></tr>\n",
       "\t<tr><th scope=row>name_aw.1</th><td>2017_aw</td><td>3      </td><td>23     </td><td>1      </td><td>10     </td></tr>\n",
       "\t<tr><th scope=row>name_ss.2</th><td>2018_ss</td><td>2      </td><td>23     </td><td>1      </td><td> 8     </td></tr>\n",
       "\t<tr><th scope=row>name_aw.2</th><td>2018_aw</td><td>2      </td><td>21     </td><td>1      </td><td> 8     </td></tr>\n",
       "\t<tr><th scope=row>name_ss.3</th><td>2019_ss</td><td>2      </td><td>21     </td><td>1      </td><td> 6     </td></tr>\n",
       "\t<tr><th scope=row>name_aw.3</th><td>2019_aw</td><td>2      </td><td>21     </td><td>1      </td><td> 8     </td></tr>\n",
       "\t<tr><th scope=row>name_20</th><td>2020_ss</td><td>3      </td><td>24     </td><td>1      </td><td> 8     </td></tr>\n",
       "</tbody>\n",
       "</table>\n"
      ],
      "text/latex": [
       "\\begin{tabular}{r|lllll}\n",
       "  & columns & bright\\_rel & bright\\_ab & harmony\\_rel & harmony\\_ab\\\\\n",
       "\\hline\n",
       "\tname\\_ss & 2016\\_ss & 2         & 22        & 1         &  6       \\\\\n",
       "\tname\\_aw & 2016\\_aw & 3         & 26        & 1         & 12       \\\\\n",
       "\tname\\_ss.1 & 2017\\_ss & 3         & 23        & 1         &  8       \\\\\n",
       "\tname\\_aw.1 & 2017\\_aw & 3         & 23        & 1         & 10       \\\\\n",
       "\tname\\_ss.2 & 2018\\_ss & 2         & 23        & 1         &  8       \\\\\n",
       "\tname\\_aw.2 & 2018\\_aw & 2         & 21        & 1         &  8       \\\\\n",
       "\tname\\_ss.3 & 2019\\_ss & 2         & 21        & 1         &  6       \\\\\n",
       "\tname\\_aw.3 & 2019\\_aw & 2         & 21        & 1         &  8       \\\\\n",
       "\tname\\_20 & 2020\\_ss & 3         & 24        & 1         &  8       \\\\\n",
       "\\end{tabular}\n"
      ],
      "text/markdown": [
       "\n",
       "| <!--/--> | columns | bright_rel | bright_ab | harmony_rel | harmony_ab |\n",
       "|---|---|---|---|---|---|\n",
       "| name_ss | 2016_ss | 2       | 22      | 1       |  6      |\n",
       "| name_aw | 2016_aw | 3       | 26      | 1       | 12      |\n",
       "| name_ss.1 | 2017_ss | 3       | 23      | 1       |  8      |\n",
       "| name_aw.1 | 2017_aw | 3       | 23      | 1       | 10      |\n",
       "| name_ss.2 | 2018_ss | 2       | 23      | 1       |  8      |\n",
       "| name_aw.2 | 2018_aw | 2       | 21      | 1       |  8      |\n",
       "| name_ss.3 | 2019_ss | 2       | 21      | 1       |  6      |\n",
       "| name_aw.3 | 2019_aw | 2       | 21      | 1       |  8      |\n",
       "| name_20 | 2020_ss | 3       | 24      | 1       |  8      |\n",
       "\n"
      ],
      "text/plain": [
       "          columns bright_rel bright_ab harmony_rel harmony_ab\n",
       "name_ss   2016_ss 2          22        1            6        \n",
       "name_aw   2016_aw 3          26        1           12        \n",
       "name_ss.1 2017_ss 3          23        1            8        \n",
       "name_aw.1 2017_aw 3          23        1           10        \n",
       "name_ss.2 2018_ss 2          23        1            8        \n",
       "name_aw.2 2018_aw 2          21        1            8        \n",
       "name_ss.3 2019_ss 2          21        1            6        \n",
       "name_aw.3 2019_aw 2          21        1            8        \n",
       "name_20   2020_ss 3          24        1            8        "
      ]
     },
     "metadata": {},
     "output_type": "display_data"
    }
   ],
   "source": [
    "##  데이터프레임 생성\n",
    "\n",
    "ss <- c(\"1\", \"2\")\n",
    "aw <- c(\"11\", \"12\")\n",
    "\n",
    "# bright_rel\n",
    "DF1 <- c()\n",
    "\n",
    "for(i in seq(2016, 2019, by=1)){\n",
    "    name_ss <- with(data_definition, round(mean(bright_rel[(Year == i) & (Month %in% ss)])))\n",
    "    name_aw <- with(data_definition, round(mean(bright_rel[(Year == i) & (Month %in% aw)])))\n",
    "    df <- data.frame(name_ss, name_aw)\n",
    "    df <- t(df)\n",
    "    DF1 <- rbind(DF1, df)\n",
    "    colnames(DF1) <- c(\"bright_rel\")\n",
    "}\n",
    "name_20 <- with(data_definition, round(mean(bright_rel[(Year == 2020)])))\n",
    "DF1 <- rbind(DF1, name_20)\n",
    "# DF1\n",
    "\n",
    "# bright_ab\n",
    "DF2 <- c()\n",
    "\n",
    "for(i in seq(2016, 2019, by=1)){\n",
    "    name_ss <- with(data_definition, round(mean(bright_ab[(Year == i) & (Month %in% ss)])))\n",
    "    name_aw <- with(data_definition, round(mean(bright_ab[(Year == i) & (Month %in% aw)])))\n",
    "    df <- data.frame(name_ss, name_aw)\n",
    "    df <- t(df)\n",
    "    DF2 <- rbind(DF2, df)\n",
    "    colnames(DF2) <- c(\"bright_ab\")\n",
    "}\n",
    "name_20 <- with(data_definition, round(mean(bright_ab[(Year == 2020)])))\n",
    "DF2 <- rbind(DF2, name_20)\n",
    "# DF2\n",
    "\n",
    "# harmony_rel\n",
    "DF3 <- c()\n",
    "\n",
    "for(i in seq(2016, 2019, by=1)){\n",
    "    name_ss <- with(data_definition, round(mean(harmony_rel[(Year == i) & (Month %in% ss)])))\n",
    "    name_aw <- with(data_definition, round(mean(harmony_rel[(Year == i) & (Month %in% aw)])))\n",
    "    df <- data.frame(name_ss, name_aw)\n",
    "    df <- t(df)\n",
    "    DF3 <- rbind(DF3, df)\n",
    "    colnames(DF3) <- c(\"harmony_rel\")\n",
    "}\n",
    "name_20 <- with(data_definition, round(mean(harmony_rel[(Year == 2020)])))\n",
    "DF3 <- rbind(DF3, name_20)\n",
    "# DF3\n",
    "\n",
    "# harmony_ab\n",
    "DF4 <- c()\n",
    "\n",
    "for(i in seq(2016, 2019, by=1)){\n",
    "    name_ss <- with(data_definition, round(mean(harmony_ab[(Year == i) & (Month %in% ss)])))\n",
    "    name_aw <- with(data_definition, round(mean(harmony_ab[(Year == i) & (Month %in% aw)])))\n",
    "    df <- data.frame(name_ss, name_aw)\n",
    "    df <- t(df)\n",
    "    DF4 <- rbind(DF4, df)\n",
    "    colnames(DF4) <- c(\"harmony_ab\")\n",
    "}\n",
    "name_20 <- with(data_definition, round(mean(harmony_ab[(Year == 2020)])))\n",
    "DF4 <- rbind(DF4, name_20)\n",
    "# DF4\n",
    "\n",
    "\n",
    "# 인덱스명 변경\n",
    "columns <- c(\"2016_ss\", \"2016_aw\", \"2017_ss\", \"2017_aw\", \n",
    "                  \"2018_ss\", \"2018_aw\", \"2019_ss\", \"2019_aw\", \"2020_ss\")\n",
    "\n",
    "\n",
    "# 합치기\n",
    "DF <- cbind(columns, DF1)\n",
    "DF <- cbind(DF, DF2)\n",
    "DF <- cbind(DF, DF3)\n",
    "DF <- cbind(DF, DF4)\n",
    "\n",
    "\n",
    "# 형식전환\n",
    "DF2 <- as.data.frame(DF)\n",
    "DF2$bright_rel <- as.numeric(as.character(DF2$bright_rel))\n",
    "DF2$bright_ab <- as.numeric(as.character(DF2$bright_ab))\n",
    "DF2$harmony_rel <- as.numeric(as.character(DF2$harmony_rel))\n",
    "DF2$harmony_ab <- as.numeric(as.character(DF2$harmony_ab))\n",
    "\n",
    "# 확인\n",
    "str(DF2)\n",
    "DF2"
   ]
  },
  {
   "cell_type": "code",
   "execution_count": 53,
   "metadata": {},
   "outputs": [
    {
     "data": {
      "image/png": "[encoded data removed]",
      "text/plain": [
       "plot without title"
      ]
     },
     "metadata": {},
     "output_type": "display_data"
    }
   ],
   "source": [
    "# 평균 상대값\n",
    "\n",
    "ggplot(DF2, aes(x=columns, y=bright_rel, group=1)) + geom_line(color=\"blue\") + \n",
    "    ylim(0, 100) + ggtitle(\"검색수 높은 달 평균 상대값\") + xlab(\"Month(Jan, Feb / Nov, Dec)\") + \n",
    "    geom_line(aes(x=columns, y=harmony_rel), color=\"red\")"
   ]
  },
  {
   "cell_type": "code",
   "execution_count": 54,
   "metadata": {},
   "outputs": [
    {
     "data": {
      "image/png": "[encoded data removed]",
      "text/plain": [
       "plot without title"
      ]
     },
     "metadata": {},
     "output_type": "display_data"
    }
   ],
   "source": [
    "# 평균 절대값\n",
    "\n",
    "ggplot(DF2, aes(x=columns, y=bright_ab, group=1)) + geom_line(color=\"blue\") + \n",
    "    ylim(0, 100) + ggtitle(\"검색수 높은 달 평균 상대값\") + xlab(\"Month(Jan, Feb / Nov, Dec)\") + \n",
    "    geom_line(aes(x=columns, y=harmony_ab), color=\"red\")"
   ]
  },
  {
   "cell_type": "code",
   "execution_count": null,
   "metadata": {},
   "outputs": [],
   "source": []
  },
  {
   "cell_type": "markdown",
   "metadata": {},
   "source": [
    "### 여자 20대의 퍼스널컬러 검색수가 높은 달(1, 2, 11, 12)만 뽑아서 보기"
   ]
  },
  {
   "cell_type": "code",
   "execution_count": 60,
   "metadata": {},
   "outputs": [
    {
     "name": "stdout",
     "output_type": "stream",
     "text": [
      "'data.frame':\t18 obs. of  5 variables:\n",
      " $ columns    : Factor w/ 18 levels \"2016_Dec\",\"2016_Feb\",..: 3 2 4 1 7 6 8 5 11 10 ...\n",
      " $ bright_rel : num  2 2 3 3 2 3 3 2 3 2 ...\n",
      " $ bright_ab  : num  23 22 28 24 23 24 25 21 24 21 ...\n",
      " $ harmony_rel: num  1 1 2 1 1 1 1 1 1 1 ...\n",
      " $ harmony_ab : num  7 6 14 10 8 9 11 9 7 8 ...\n"
     ]
    },
    {
     "data": {
      "text/html": [
       "<table>\n",
       "<thead><tr><th scope=col>columns</th><th scope=col>bright_rel</th><th scope=col>bright_ab</th><th scope=col>harmony_rel</th><th scope=col>harmony_ab</th></tr></thead>\n",
       "<tbody>\n",
       "\t<tr><td>2016_Jan</td><td>2       </td><td>23      </td><td>1       </td><td> 7      </td></tr>\n",
       "\t<tr><td>2016_Feb</td><td>2       </td><td>22      </td><td>1       </td><td> 6      </td></tr>\n",
       "\t<tr><td>2016_Nov</td><td>3       </td><td>28      </td><td>2       </td><td>14      </td></tr>\n",
       "\t<tr><td>2016_Dec</td><td>3       </td><td>24      </td><td>1       </td><td>10      </td></tr>\n",
       "\t<tr><td>2017_Jan</td><td>2       </td><td>23      </td><td>1       </td><td> 8      </td></tr>\n",
       "\t<tr><td>2017_Feb</td><td>3       </td><td>24      </td><td>1       </td><td> 9      </td></tr>\n",
       "\t<tr><td>2017_Nov</td><td>3       </td><td>25      </td><td>1       </td><td>11      </td></tr>\n",
       "\t<tr><td>2017_Dec</td><td>2       </td><td>21      </td><td>1       </td><td> 9      </td></tr>\n",
       "\t<tr><td>2018_Jan</td><td>3       </td><td>24      </td><td>1       </td><td> 7      </td></tr>\n",
       "\t<tr><td>2018_Feb</td><td>2       </td><td>21      </td><td>1       </td><td> 8      </td></tr>\n",
       "\t<tr><td>2018_Nov</td><td>3       </td><td>23      </td><td>1       </td><td>10      </td></tr>\n",
       "\t<tr><td>2018_Dec</td><td>2       </td><td>18      </td><td>1       </td><td> 7      </td></tr>\n",
       "\t<tr><td>2019_Jan</td><td>2       </td><td>21      </td><td>1       </td><td> 7      </td></tr>\n",
       "\t<tr><td>2019_Feb</td><td>2       </td><td>20      </td><td>1       </td><td> 6      </td></tr>\n",
       "\t<tr><td>2019_Nov</td><td>2       </td><td>22      </td><td>1       </td><td> 9      </td></tr>\n",
       "\t<tr><td>2019_Dec</td><td>2       </td><td>21      </td><td>1       </td><td> 6      </td></tr>\n",
       "\t<tr><td>2020_Jan</td><td>2       </td><td>22      </td><td>1       </td><td> 6      </td></tr>\n",
       "\t<tr><td>2020_Feb</td><td>2       </td><td>23      </td><td>1       </td><td> 8      </td></tr>\n",
       "</tbody>\n",
       "</table>\n"
      ],
      "text/latex": [
       "\\begin{tabular}{r|lllll}\n",
       " columns & bright\\_rel & bright\\_ab & harmony\\_rel & harmony\\_ab\\\\\n",
       "\\hline\n",
       "\t 2016\\_Jan & 2          & 23         & 1          &  7        \\\\\n",
       "\t 2016\\_Feb & 2          & 22         & 1          &  6        \\\\\n",
       "\t 2016\\_Nov & 3          & 28         & 2          & 14        \\\\\n",
       "\t 2016\\_Dec & 3          & 24         & 1          & 10        \\\\\n",
       "\t 2017\\_Jan & 2          & 23         & 1          &  8        \\\\\n",
       "\t 2017\\_Feb & 3          & 24         & 1          &  9        \\\\\n",
       "\t 2017\\_Nov & 3          & 25         & 1          & 11        \\\\\n",
       "\t 2017\\_Dec & 2          & 21         & 1          &  9        \\\\\n",
       "\t 2018\\_Jan & 3          & 24         & 1          &  7        \\\\\n",
       "\t 2018\\_Feb & 2          & 21         & 1          &  8        \\\\\n",
       "\t 2018\\_Nov & 3          & 23         & 1          & 10        \\\\\n",
       "\t 2018\\_Dec & 2          & 18         & 1          &  7        \\\\\n",
       "\t 2019\\_Jan & 2          & 21         & 1          &  7        \\\\\n",
       "\t 2019\\_Feb & 2          & 20         & 1          &  6        \\\\\n",
       "\t 2019\\_Nov & 2          & 22         & 1          &  9        \\\\\n",
       "\t 2019\\_Dec & 2          & 21         & 1          &  6        \\\\\n",
       "\t 2020\\_Jan & 2          & 22         & 1          &  6        \\\\\n",
       "\t 2020\\_Feb & 2          & 23         & 1          &  8        \\\\\n",
       "\\end{tabular}\n"
      ],
      "text/markdown": [
       "\n",
       "| columns | bright_rel | bright_ab | harmony_rel | harmony_ab |\n",
       "|---|---|---|---|---|\n",
       "| 2016_Jan | 2        | 23       | 1        |  7       |\n",
       "| 2016_Feb | 2        | 22       | 1        |  6       |\n",
       "| 2016_Nov | 3        | 28       | 2        | 14       |\n",
       "| 2016_Dec | 3        | 24       | 1        | 10       |\n",
       "| 2017_Jan | 2        | 23       | 1        |  8       |\n",
       "| 2017_Feb | 3        | 24       | 1        |  9       |\n",
       "| 2017_Nov | 3        | 25       | 1        | 11       |\n",
       "| 2017_Dec | 2        | 21       | 1        |  9       |\n",
       "| 2018_Jan | 3        | 24       | 1        |  7       |\n",
       "| 2018_Feb | 2        | 21       | 1        |  8       |\n",
       "| 2018_Nov | 3        | 23       | 1        | 10       |\n",
       "| 2018_Dec | 2        | 18       | 1        |  7       |\n",
       "| 2019_Jan | 2        | 21       | 1        |  7       |\n",
       "| 2019_Feb | 2        | 20       | 1        |  6       |\n",
       "| 2019_Nov | 2        | 22       | 1        |  9       |\n",
       "| 2019_Dec | 2        | 21       | 1        |  6       |\n",
       "| 2020_Jan | 2        | 22       | 1        |  6       |\n",
       "| 2020_Feb | 2        | 23       | 1        |  8       |\n",
       "\n"
      ],
      "text/plain": [
       "   columns  bright_rel bright_ab harmony_rel harmony_ab\n",
       "1  2016_Jan 2          23        1            7        \n",
       "2  2016_Feb 2          22        1            6        \n",
       "3  2016_Nov 3          28        2           14        \n",
       "4  2016_Dec 3          24        1           10        \n",
       "5  2017_Jan 2          23        1            8        \n",
       "6  2017_Feb 3          24        1            9        \n",
       "7  2017_Nov 3          25        1           11        \n",
       "8  2017_Dec 2          21        1            9        \n",
       "9  2018_Jan 3          24        1            7        \n",
       "10 2018_Feb 2          21        1            8        \n",
       "11 2018_Nov 3          23        1           10        \n",
       "12 2018_Dec 2          18        1            7        \n",
       "13 2019_Jan 2          21        1            7        \n",
       "14 2019_Feb 2          20        1            6        \n",
       "15 2019_Nov 2          22        1            9        \n",
       "16 2019_Dec 2          21        1            6        \n",
       "17 2020_Jan 2          22        1            6        \n",
       "18 2020_Feb 2          23        1            8        "
      ]
     },
     "metadata": {},
     "output_type": "display_data"
    }
   ],
   "source": [
    "# 데이터 프레임 재생성\n",
    "\n",
    "month_list <- c(\"1\", \"2\", \"11\", \"12\")\n",
    "\n",
    "# bright_rel\n",
    "DF1 <- c()\n",
    "for(i in seq(2016, 2020, by=1)){\n",
    "    for(j in month_list){\n",
    "        example <- with(data_definition, round(mean(bright_rel[(Year == i) & (Month == j)])))\n",
    "        df <- data.frame(bright_rel=example)\n",
    "        DF1 <- rbind(DF1, df)\n",
    "        DF1 <- na.omit(DF1)\n",
    "        }\n",
    "}\n",
    "\n",
    "# bright_ab\n",
    "DF2 <- c()\n",
    "for(i in seq(2016, 2020, by=1)){\n",
    "    for(j in month_list){\n",
    "        example <- with(data_definition, round(mean(bright_ab[(Year == i) & (Month == j)])))\n",
    "        df <- data.frame(bright_ab=example)\n",
    "        DF2 <- rbind(DF2, df)\n",
    "        DF2 <- na.omit(DF2)\n",
    "        }\n",
    "}\n",
    "\n",
    "# harmony_rel\n",
    "DF3 <- c()\n",
    "for(i in seq(2016, 2020, by=1)){\n",
    "    for(j in month_list){\n",
    "        example <- with(data_definition, round(mean(harmony_rel[(Year == i) & (Month == j)])))\n",
    "        df <- data.frame(harmony_rel=example)\n",
    "        DF3 <- rbind(DF3, df)\n",
    "        DF3 <- na.omit(DF3)\n",
    "        }\n",
    "}\n",
    "\n",
    "# harmony_ab\n",
    "DF4 <- c()\n",
    "for(i in seq(2016, 2020, by=1)){\n",
    "    for(j in month_list){\n",
    "        example <- with(data_definition, round(mean(harmony_ab[(Year == i) & (Month == j)])))\n",
    "        df <- data.frame(harmony_ab=example)\n",
    "        DF4 <- rbind(DF4, df)\n",
    "        DF4 <- na.omit(DF4)\n",
    "        }\n",
    "}\n",
    "\n",
    "# 인덱스명 변경\n",
    "columns <- c(\"2016_Jan\", \"2016_Feb\", \"2016_Nov\", \"2016_Dec\", \n",
    "             \"2017_Jan\", \"2017_Feb\", \"2017_Nov\", \"2017_Dec\", \n",
    "             \"2018_Jan\", \"2018_Feb\", \"2018_Nov\", \"2018_Dec\", \n",
    "             \"2019_Jan\", \"2019_Feb\", \"2019_Nov\", \"2019_Dec\", \n",
    "             \"2020_Jan\", \"2020_Feb\")\n",
    "\n",
    "# 합치기\n",
    "DF <- cbind(columns, DF1)\n",
    "DF <- cbind(DF, DF2)\n",
    "DF <- cbind(DF, DF3)\n",
    "DF <- cbind(DF, DF4)\n",
    "\n",
    "# 확인\n",
    "str(DF)\n",
    "DF"
   ]
  },
  {
   "cell_type": "code",
   "execution_count": 61,
   "metadata": {},
   "outputs": [
    {
     "data": {
      "image/png": "[encoded data removed]",
      "text/plain": [
       "plot without title"
      ]
     },
     "metadata": {},
     "output_type": "display_data"
    }
   ],
   "source": [
    "# 상대값\n",
    "\n",
    "ggplot(DF, aes(x=columns, y=bright_rel, group=1)) + geom_line(color=\"blue\") + \n",
    "    ylim(0,100) + ggtitle(\"검색수 높은 달 상대값\") + xlab(\"Month(Jan, Feb, Nov, Dec)\") + \n",
    "    geom_line(aes(x=columns, y=harmony_rel), color=\"red\")"
   ]
  },
  {
   "cell_type": "code",
   "execution_count": 62,
   "metadata": {},
   "outputs": [
    {
     "data": {
      "image/png": "[encoded data removed]",
      "text/plain": [
       "plot without title"
      ]
     },
     "metadata": {},
     "output_type": "display_data"
    }
   ],
   "source": [
    "# 절대값\n",
    "\n",
    "ggplot(DF, aes(x=columns, y=bright_ab, group=1)) + geom_line(color=\"blue\") + \n",
    "    ylim(0,100) + ggtitle(\"검색수 높은 달 상대값\") + xlab(\"Month(Jan, Feb, Nov, Dec)\") + \n",
    "    geom_line(aes(x=columns, y=harmony_ab), color=\"red\")"
   ]
  },
  {
   "cell_type": "code",
   "execution_count": null,
   "metadata": {},
   "outputs": [],
   "source": []
  }
 ],
 "metadata": {
  "kernelspec": {
   "display_name": "R",
   "language": "R",
   "name": "ir"
  },
  "language_info": {
   "codemirror_mode": "r",
   "file_extension": ".r",
   "mimetype": "text/x-r-source",
   "name": "R",
   "pygments_lexer": "r",
   "version": "3.6.1"
  }
 },
 "nbformat": 4,
 "nbformat_minor": 2
}
