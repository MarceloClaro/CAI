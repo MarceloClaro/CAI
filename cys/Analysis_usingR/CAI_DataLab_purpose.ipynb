{
 "cells": [
  {
   "cell_type": "markdown",
   "metadata": {},
   "source": [
    "## 20대 여성 퍼스널컬러 목적\n",
    "\n",
    "    최초 작성일 : 20/04/09\n",
    "    작성자 : 조예슬\n",
    "\n",
    "    '네이버 데이터랩'의 결과, 20대 여자의 퍼스널컬러 검색수가 가장 높았다\n",
    "    이는 다른 그룹 보다 관심이 많다고 판단\n",
    "    -> 20대 여자를 조사 대상으로 삼기\n",
    "    \n",
    "    퍼스널컬러 목적에 대한 설문조사 진행함\n",
    "    설문조사 결과\n",
    "        옷, 화장, 염색, 악세서리 \n",
    "    에 퍼스널컬러를 활용하겠다는 의견들이 제시됨\n",
    "    \n",
    "    데이터랩을 활용하여 \n",
    "    '퍼스널 컬러 + 목적' 검색수를 비교하고 분석하기\n",
    "    \n",
    "    \n",
    "    < 작성 내용 >\n",
    "    \n",
    "        - 년도별로(한달 평균) 퍼스널컬러 목적 검색수 상대값, 절대값 시각화 시키기\n",
    "        \n",
    "    < 수정 내용 >\n",
    "     \n",
    "        20/04/10\n",
    "        - 6개월 별로 퍼스널컬러 목적 검색수 상대값, 절대값 시각화 시키기\n",
    "        - 분기별(3개월)로 퍼스널컬러 목적 검색수 상대값, 절대값 시각화 시키기\n",
    "        - 20대 여자는 매년마다 (1, 2)월, (11, 12)월에 퍼스널컬러에 대한 검색수가 증가하는 경향이 보임\n",
    "          해당 월만 묶어서 퍼스널컬러 목적 검색수 상대값, 절대값 시각화 시키기\n",
    "        - 퍼스널컬러 검색수가 증가하는 달만 뽑아서 퍼스널컬러 목적 검색수의 상대값, 절대값 시각화 시키기"
   ]
  },
  {
   "cell_type": "code",
   "execution_count": 1,
   "metadata": {},
   "outputs": [],
   "source": [
    "library(ggplot2)"
   ]
  },
  {
   "cell_type": "code",
   "execution_count": 175,
   "metadata": {},
   "outputs": [
    {
     "name": "stdout",
     "output_type": "stream",
     "text": [
      "'data.frame':\t1547 obs. of  12 variables:\n",
      " $ X            : int  0 1 2 3 4 5 6 7 8 9 ...\n",
      " $ Year         : int  2016 2016 2016 2016 2016 2016 2016 2016 2016 2016 ...\n",
      " $ Month        : int  1 1 1 1 1 1 1 1 1 1 ...\n",
      " $ Day          : int  1 2 3 4 5 6 7 8 9 10 ...\n",
      " $ clothes_rel  : num  39 43.7 46 52.9 49.2 ...\n",
      " $ clothes_ab   : int  757 847 891 1028 954 1029 1013 1138 809 1075 ...\n",
      " $ cosmetic_rel : num  53.9 63.1 67 57.7 53.1 ...\n",
      " $ cosmetic_ab  : int  1656 1939 2055 1775 1632 1760 1846 1950 1792 2001 ...\n",
      " $ dye_rel      : num  57.7 68.3 66 60.9 53.2 ...\n",
      " $ dye_ab       : int  1886 2233 2155 1993 1738 2074 2119 2190 2049 2101 ...\n",
      " $ accessory_rel: num  35.9 43.8 43.4 41.6 38.8 ...\n",
      " $ accessory_ab : int  535 652 646 621 579 650 597 763 536 740 ...\n"
     ]
    },
    {
     "data": {
      "text/html": [
       "<table>\n",
       "<thead><tr><th scope=col>X</th><th scope=col>Year</th><th scope=col>Month</th><th scope=col>Day</th><th scope=col>clothes_rel</th><th scope=col>clothes_ab</th><th scope=col>cosmetic_rel</th><th scope=col>cosmetic_ab</th><th scope=col>dye_rel</th><th scope=col>dye_ab</th><th scope=col>accessory_rel</th><th scope=col>accessory_ab</th></tr></thead>\n",
       "<tbody>\n",
       "\t<tr><td>0       </td><td>2016    </td><td>1       </td><td>1       </td><td>39.01018</td><td> 757    </td><td>53.90625</td><td>1656    </td><td>57.71058</td><td>1886    </td><td>35.89015</td><td>535     </td></tr>\n",
       "\t<tr><td>1       </td><td>2016    </td><td>1       </td><td>2       </td><td>43.66812</td><td> 847    </td><td>63.14338</td><td>1939    </td><td>68.33693</td><td>2233    </td><td>43.75000</td><td>652     </td></tr>\n",
       "\t<tr><td>2       </td><td>2016    </td><td>1       </td><td>3       </td><td>45.99708</td><td> 891    </td><td>67.00367</td><td>2055    </td><td>66.04751</td><td>2155    </td><td>43.37121</td><td>646     </td></tr>\n",
       "\t<tr><td>3       </td><td>2016    </td><td>1       </td><td>4       </td><td>52.91120</td><td>1028    </td><td>57.67463</td><td>1775    </td><td>60.86393</td><td>1993    </td><td>41.57196</td><td>621     </td></tr>\n",
       "\t<tr><td>4       </td><td>2016    </td><td>1       </td><td>5       </td><td>49.19941</td><td> 954    </td><td>53.12500</td><td>1632    </td><td>53.17494</td><td>1738    </td><td>38.82575</td><td>579     </td></tr>\n",
       "\t<tr><td>5       </td><td>2016    </td><td>1       </td><td>6       </td><td>52.98398</td><td>1029    </td><td>57.21507</td><td>1760    </td><td>63.36933</td><td>2074    </td><td>43.56060</td><td>650     </td></tr>\n",
       "</tbody>\n",
       "</table>\n"
      ],
      "text/latex": [
       "\\begin{tabular}{r|llllllllllll}\n",
       " X & Year & Month & Day & clothes\\_rel & clothes\\_ab & cosmetic\\_rel & cosmetic\\_ab & dye\\_rel & dye\\_ab & accessory\\_rel & accessory\\_ab\\\\\n",
       "\\hline\n",
       "\t 0        & 2016     & 1        & 1        & 39.01018 &  757     & 53.90625 & 1656     & 57.71058 & 1886     & 35.89015 & 535     \\\\\n",
       "\t 1        & 2016     & 1        & 2        & 43.66812 &  847     & 63.14338 & 1939     & 68.33693 & 2233     & 43.75000 & 652     \\\\\n",
       "\t 2        & 2016     & 1        & 3        & 45.99708 &  891     & 67.00367 & 2055     & 66.04751 & 2155     & 43.37121 & 646     \\\\\n",
       "\t 3        & 2016     & 1        & 4        & 52.91120 & 1028     & 57.67463 & 1775     & 60.86393 & 1993     & 41.57196 & 621     \\\\\n",
       "\t 4        & 2016     & 1        & 5        & 49.19941 &  954     & 53.12500 & 1632     & 53.17494 & 1738     & 38.82575 & 579     \\\\\n",
       "\t 5        & 2016     & 1        & 6        & 52.98398 & 1029     & 57.21507 & 1760     & 63.36933 & 2074     & 43.56060 & 650     \\\\\n",
       "\\end{tabular}\n"
      ],
      "text/markdown": [
       "\n",
       "| X | Year | Month | Day | clothes_rel | clothes_ab | cosmetic_rel | cosmetic_ab | dye_rel | dye_ab | accessory_rel | accessory_ab |\n",
       "|---|---|---|---|---|---|---|---|---|---|---|---|\n",
       "| 0        | 2016     | 1        | 1        | 39.01018 |  757     | 53.90625 | 1656     | 57.71058 | 1886     | 35.89015 | 535      |\n",
       "| 1        | 2016     | 1        | 2        | 43.66812 |  847     | 63.14338 | 1939     | 68.33693 | 2233     | 43.75000 | 652      |\n",
       "| 2        | 2016     | 1        | 3        | 45.99708 |  891     | 67.00367 | 2055     | 66.04751 | 2155     | 43.37121 | 646      |\n",
       "| 3        | 2016     | 1        | 4        | 52.91120 | 1028     | 57.67463 | 1775     | 60.86393 | 1993     | 41.57196 | 621      |\n",
       "| 4        | 2016     | 1        | 5        | 49.19941 |  954     | 53.12500 | 1632     | 53.17494 | 1738     | 38.82575 | 579      |\n",
       "| 5        | 2016     | 1        | 6        | 52.98398 | 1029     | 57.21507 | 1760     | 63.36933 | 2074     | 43.56060 | 650      |\n",
       "\n"
      ],
      "text/plain": [
       "  X Year Month Day clothes_rel clothes_ab cosmetic_rel cosmetic_ab dye_rel \n",
       "1 0 2016 1     1   39.01018     757       53.90625     1656        57.71058\n",
       "2 1 2016 1     2   43.66812     847       63.14338     1939        68.33693\n",
       "3 2 2016 1     3   45.99708     891       67.00367     2055        66.04751\n",
       "4 3 2016 1     4   52.91120    1028       57.67463     1775        60.86393\n",
       "5 4 2016 1     5   49.19941     954       53.12500     1632        53.17494\n",
       "6 5 2016 1     6   52.98398    1029       57.21507     1760        63.36933\n",
       "  dye_ab accessory_rel accessory_ab\n",
       "1 1886   35.89015      535         \n",
       "2 2233   43.75000      652         \n",
       "3 2155   43.37121      646         \n",
       "4 1993   41.57196      621         \n",
       "5 1738   38.82575      579         \n",
       "6 2074   43.56060      650         "
      ]
     },
     "metadata": {},
     "output_type": "display_data"
    }
   ],
   "source": [
    "# 데이터 불러오기\n",
    "data_purpose <- read.csv(\"C:/Users/cho ye seul/Documents/예슬/Acorn/FinalProject/Statistical Analysis/datalab_purpose.csv\")\n",
    "str(data_purpose)\n",
    "head(data_purpose)"
   ]
  },
  {
   "cell_type": "markdown",
   "metadata": {},
   "source": [
    "### 년도별 한달 평균내어 상대값, 절대값 알아보기"
   ]
  },
  {
   "cell_type": "code",
   "execution_count": 176,
   "metadata": {
    "scrolled": true
   },
   "outputs": [
    {
     "data": {
      "text/html": [
       "<table>\n",
       "<thead><tr><th scope=col>year</th><th scope=col>month</th><th scope=col>clothes_rel</th><th scope=col>clothes_ab</th><th scope=col>cosmetic_rel</th><th scope=col>cosmetic_ab</th><th scope=col>dye_rel</th><th scope=col>dye_ab</th><th scope=col>accessory_rel</th><th scope=col>accessory_ab</th></tr></thead>\n",
       "<tbody>\n",
       "\t<tr><td>2016</td><td> 1  </td><td>58  </td><td>1131</td><td>63  </td><td>1934</td><td>69  </td><td>2246</td><td>50  </td><td>750 </td></tr>\n",
       "\t<tr><td>2016</td><td> 2  </td><td>54  </td><td>1040</td><td>57  </td><td>1761</td><td>76  </td><td>2490</td><td>44  </td><td>651 </td></tr>\n",
       "\t<tr><td>2016</td><td> 3  </td><td>50  </td><td> 977</td><td>47  </td><td>1440</td><td>62  </td><td>2040</td><td>34  </td><td>505 </td></tr>\n",
       "\t<tr><td>2016</td><td> 4  </td><td>51  </td><td> 984</td><td>44  </td><td>1360</td><td>68  </td><td>2218</td><td>34  </td><td>512 </td></tr>\n",
       "\t<tr><td>2016</td><td> 5  </td><td>47  </td><td> 904</td><td>43  </td><td>1328</td><td>61  </td><td>2005</td><td>29  </td><td>430 </td></tr>\n",
       "\t<tr><td>2016</td><td> 6  </td><td>46  </td><td> 892</td><td>39  </td><td>1205</td><td>72  </td><td>2349</td><td>31  </td><td>457 </td></tr>\n",
       "\t<tr><td>2016</td><td> 7  </td><td>49  </td><td> 946</td><td>41  </td><td>1253</td><td>70  </td><td>2287</td><td>38  </td><td>563 </td></tr>\n",
       "\t<tr><td>2016</td><td> 8  </td><td>51  </td><td> 983</td><td>42  </td><td>1289</td><td>65  </td><td>2119</td><td>39  </td><td>575 </td></tr>\n",
       "\t<tr><td>2016</td><td> 9  </td><td>58  </td><td>1128</td><td>45  </td><td>1387</td><td>56  </td><td>1843</td><td>45  </td><td>670 </td></tr>\n",
       "\t<tr><td>2016</td><td>10  </td><td>58  </td><td>1128</td><td>44  </td><td>1358</td><td>51  </td><td>1656</td><td>42  </td><td>632 </td></tr>\n",
       "\t<tr><td>2016</td><td>11  </td><td>56  </td><td>1086</td><td>45  </td><td>1385</td><td>55  </td><td>1798</td><td>45  </td><td>678 </td></tr>\n",
       "\t<tr><td>2016</td><td>12  </td><td>50  </td><td> 962</td><td>42  </td><td>1301</td><td>53  </td><td>1749</td><td>41  </td><td>605 </td></tr>\n",
       "</tbody>\n",
       "</table>\n"
      ],
      "text/latex": [
       "\\begin{tabular}{r|llllllllll}\n",
       " year & month & clothes\\_rel & clothes\\_ab & cosmetic\\_rel & cosmetic\\_ab & dye\\_rel & dye\\_ab & accessory\\_rel & accessory\\_ab\\\\\n",
       "\\hline\n",
       "\t 2016 &  1   & 58   & 1131 & 63   & 1934 & 69   & 2246 & 50   & 750 \\\\\n",
       "\t 2016 &  2   & 54   & 1040 & 57   & 1761 & 76   & 2490 & 44   & 651 \\\\\n",
       "\t 2016 &  3   & 50   &  977 & 47   & 1440 & 62   & 2040 & 34   & 505 \\\\\n",
       "\t 2016 &  4   & 51   &  984 & 44   & 1360 & 68   & 2218 & 34   & 512 \\\\\n",
       "\t 2016 &  5   & 47   &  904 & 43   & 1328 & 61   & 2005 & 29   & 430 \\\\\n",
       "\t 2016 &  6   & 46   &  892 & 39   & 1205 & 72   & 2349 & 31   & 457 \\\\\n",
       "\t 2016 &  7   & 49   &  946 & 41   & 1253 & 70   & 2287 & 38   & 563 \\\\\n",
       "\t 2016 &  8   & 51   &  983 & 42   & 1289 & 65   & 2119 & 39   & 575 \\\\\n",
       "\t 2016 &  9   & 58   & 1128 & 45   & 1387 & 56   & 1843 & 45   & 670 \\\\\n",
       "\t 2016 & 10   & 58   & 1128 & 44   & 1358 & 51   & 1656 & 42   & 632 \\\\\n",
       "\t 2016 & 11   & 56   & 1086 & 45   & 1385 & 55   & 1798 & 45   & 678 \\\\\n",
       "\t 2016 & 12   & 50   &  962 & 42   & 1301 & 53   & 1749 & 41   & 605 \\\\\n",
       "\\end{tabular}\n"
      ],
      "text/markdown": [
       "\n",
       "| year | month | clothes_rel | clothes_ab | cosmetic_rel | cosmetic_ab | dye_rel | dye_ab | accessory_rel | accessory_ab |\n",
       "|---|---|---|---|---|---|---|---|---|---|\n",
       "| 2016 |  1   | 58   | 1131 | 63   | 1934 | 69   | 2246 | 50   | 750  |\n",
       "| 2016 |  2   | 54   | 1040 | 57   | 1761 | 76   | 2490 | 44   | 651  |\n",
       "| 2016 |  3   | 50   |  977 | 47   | 1440 | 62   | 2040 | 34   | 505  |\n",
       "| 2016 |  4   | 51   |  984 | 44   | 1360 | 68   | 2218 | 34   | 512  |\n",
       "| 2016 |  5   | 47   |  904 | 43   | 1328 | 61   | 2005 | 29   | 430  |\n",
       "| 2016 |  6   | 46   |  892 | 39   | 1205 | 72   | 2349 | 31   | 457  |\n",
       "| 2016 |  7   | 49   |  946 | 41   | 1253 | 70   | 2287 | 38   | 563  |\n",
       "| 2016 |  8   | 51   |  983 | 42   | 1289 | 65   | 2119 | 39   | 575  |\n",
       "| 2016 |  9   | 58   | 1128 | 45   | 1387 | 56   | 1843 | 45   | 670  |\n",
       "| 2016 | 10   | 58   | 1128 | 44   | 1358 | 51   | 1656 | 42   | 632  |\n",
       "| 2016 | 11   | 56   | 1086 | 45   | 1385 | 55   | 1798 | 45   | 678  |\n",
       "| 2016 | 12   | 50   |  962 | 42   | 1301 | 53   | 1749 | 41   | 605  |\n",
       "\n"
      ],
      "text/plain": [
       "   year month clothes_rel clothes_ab cosmetic_rel cosmetic_ab dye_rel dye_ab\n",
       "1  2016  1    58          1131       63           1934        69      2246  \n",
       "2  2016  2    54          1040       57           1761        76      2490  \n",
       "3  2016  3    50           977       47           1440        62      2040  \n",
       "4  2016  4    51           984       44           1360        68      2218  \n",
       "5  2016  5    47           904       43           1328        61      2005  \n",
       "6  2016  6    46           892       39           1205        72      2349  \n",
       "7  2016  7    49           946       41           1253        70      2287  \n",
       "8  2016  8    51           983       42           1289        65      2119  \n",
       "9  2016  9    58          1128       45           1387        56      1843  \n",
       "10 2016 10    58          1128       44           1358        51      1656  \n",
       "11 2016 11    56          1086       45           1385        55      1798  \n",
       "12 2016 12    50           962       42           1301        53      1749  \n",
       "   accessory_rel accessory_ab\n",
       "1  50            750         \n",
       "2  44            651         \n",
       "3  34            505         \n",
       "4  34            512         \n",
       "5  29            430         \n",
       "6  31            457         \n",
       "7  38            563         \n",
       "8  39            575         \n",
       "9  45            670         \n",
       "10 42            632         \n",
       "11 45            678         \n",
       "12 41            605         "
      ]
     },
     "metadata": {},
     "output_type": "display_data"
    }
   ],
   "source": [
    "# 2016\n",
    "# dataframe 생성\n",
    "\n",
    "year_j <- c()\n",
    "month_i <- c()\n",
    "data1_i <- c()\n",
    "data2_i <- c()\n",
    "data3_i <- c()\n",
    "data4_i <- c()\n",
    "data5_i <- c()\n",
    "data6_i <- c()\n",
    "data7_i <- c()\n",
    "data8_i <- c()\n",
    "DF <- c()\n",
    "\n",
    "\n",
    "for(j in 2016){\n",
    "    for(i in seq(1, 12, by=1)){\n",
    "        data1 <- with(data_purpose, round(mean(clothes_rel[(Year == j) & (Month == i)])))\n",
    "        data2 <- with(data_purpose, round(mean(clothes_ab[(Year == j) & (Month == i)])))\n",
    "        data3 <- with(data_purpose, round(mean(cosmetic_rel[(Year == j) & (Month == i)])))\n",
    "        data4 <- with(data_purpose, round(mean(cosmetic_ab[(Year == j) & (Month == i)])))\n",
    "        data5 <- with(data_purpose, round(mean(dye_rel[(Year == j) & (Month == i)])))\n",
    "        data6 <- with(data_purpose, round(mean(dye_ab[(Year == j) & (Month == i)])))\n",
    "        data7 <- with(data_purpose, round(mean(accessory_rel[(Year == j) & (Month == i)])))\n",
    "        data8 <- with(data_purpose, round(mean(accessory_ab[(Year == j) & (Month == i)])))\n",
    "        \n",
    "        year_j[[(i)]] <- c(j)\n",
    "        month_i[[(i)]] <- c(i)\n",
    "        \n",
    "        data1_i[[(i)]] <- data1\n",
    "        data2_i[[(i)]] <- data2\n",
    "        data3_i[[(i)]] <- data3\n",
    "        data4_i[[(i)]] <- data4\n",
    "        data5_i[[(i)]] <- data5\n",
    "        data6_i[[(i)]] <- data6\n",
    "        data7_i[[(i)]] <- data7\n",
    "        data8_i[[(i)]] <- data8\n",
    "        \n",
    "        df <- data.frame(year=year_j, month=month_i, clothes_rel=data1_i, clothes_ab=data2_i,\n",
    "                        cosmetic_rel=data3_i, cosmetic_ab=data4_i, dye_rel=data5_i, dye_ab=data6_i,\n",
    "                        accessory_rel=data7_i, accessory_ab=data8_i)\n",
    "    }\n",
    "    DF <- rbind(DF, df)\n",
    "    DF_2016 <- na.omit(DF)\n",
    "}\n",
    "\n",
    "DF_2016"
   ]
  },
  {
   "cell_type": "code",
   "execution_count": 177,
   "metadata": {},
   "outputs": [
    {
     "data": {
      "image/png": "[encoded data removed]",
      "text/plain": [
       "plot without title"
      ]
     },
     "metadata": {},
     "output_type": "display_data"
    }
   ],
   "source": [
    "# 2016_상대값\n",
    "# 시각화\n",
    "\n",
    "ggplot(DF_2016, aes(x=month, y=clothes_rel)) + geom_line(color=\"blue\") + ylim(0, 100) +\n",
    "    geom_line(aes(x=month, y=cosmetic_rel), color=\"red\") +\n",
    "    geom_line(aes(x=month, y=dye_rel), color=\"green\") +\n",
    "    geom_line(aes(x=month, y=accessory_rel), color=\"purple\")"
   ]
  },
  {
   "cell_type": "markdown",
   "metadata": {},
   "source": [
    "    2016년도 한달별 검색결과 상대적으로 알아보면,\n",
    "    옷(blue) 미미하게 증가\n",
    "    화장품(red) 초기에 감소\n",
    "    염색(green) 중반부터 급격하게 감소\n",
    "    악세서리(purple) 중반부터 증가"
   ]
  },
  {
   "cell_type": "code",
   "execution_count": 182,
   "metadata": {},
   "outputs": [
    {
     "data": {
      "image/png": "[encoded data removed]",
      "text/plain": [
       "plot without title"
      ]
     },
     "metadata": {},
     "output_type": "display_data"
    }
   ],
   "source": [
    "# 2016_조회수\n",
    "# 시각화\n",
    "ggplot(DF_2016, aes(x=month, y=clothes_ab)) + geom_line(color=\"blue\") +  ylim(0, 2500) + \n",
    "    geom_line(aes(x=month, y=cosmetic_ab), color=\"red\") +\n",
    "    geom_line(aes(x=month, y=dye_ab), color=\"green\") +\n",
    "    geom_line(aes(x=month, y=accessory_ab), color=\"purple\")"
   ]
  },
  {
   "cell_type": "markdown",
   "metadata": {},
   "source": [
    "    2016년도 한달별 검색결과 절대적(조회수)으로 알아보면,\n",
    "    중간에 감소했다가 서서히 증가"
   ]
  },
  {
   "cell_type": "code",
   "execution_count": 183,
   "metadata": {},
   "outputs": [
    {
     "data": {
      "text/html": [
       "<table>\n",
       "<thead><tr><th scope=col>year</th><th scope=col>month</th><th scope=col>clothes_rel</th><th scope=col>clothes_ab</th><th scope=col>cosmetic_rel</th><th scope=col>cosmetic_ab</th><th scope=col>dye_rel</th><th scope=col>dye_ab</th><th scope=col>accessory_rel</th><th scope=col>accessory_ab</th></tr></thead>\n",
       "<tbody>\n",
       "\t<tr><td>2017</td><td> 1  </td><td>57  </td><td>1101</td><td>45  </td><td>1389</td><td>60  </td><td>1971</td><td>44  </td><td>664 </td></tr>\n",
       "\t<tr><td>2017</td><td> 2  </td><td>54  </td><td>1044</td><td>44  </td><td>1339</td><td>62  </td><td>2014</td><td>43  </td><td>646 </td></tr>\n",
       "\t<tr><td>2017</td><td> 3  </td><td>56  </td><td>1094</td><td>40  </td><td>1236</td><td>57  </td><td>1881</td><td>43  </td><td>641 </td></tr>\n",
       "\t<tr><td>2017</td><td> 4  </td><td>54  </td><td>1044</td><td>37  </td><td>1133</td><td>60  </td><td>1954</td><td>39  </td><td>584 </td></tr>\n",
       "\t<tr><td>2017</td><td> 5  </td><td>52  </td><td>1008</td><td>35  </td><td>1068</td><td>55  </td><td>1796</td><td>37  </td><td>558 </td></tr>\n",
       "\t<tr><td>2017</td><td> 6  </td><td>50  </td><td> 980</td><td>35  </td><td>1062</td><td>57  </td><td>1876</td><td>38  </td><td>569 </td></tr>\n",
       "\t<tr><td>2017</td><td> 7  </td><td>49  </td><td> 945</td><td>33  </td><td>1008</td><td>54  </td><td>1781</td><td>38  </td><td>570 </td></tr>\n",
       "\t<tr><td>2017</td><td> 8  </td><td>51  </td><td> 986</td><td>34  </td><td>1043</td><td>51  </td><td>1659</td><td>38  </td><td>562 </td></tr>\n",
       "\t<tr><td>2017</td><td> 9  </td><td>60  </td><td>1164</td><td>38  </td><td>1174</td><td>47  </td><td>1525</td><td>48  </td><td>712 </td></tr>\n",
       "\t<tr><td>2017</td><td>10  </td><td>52  </td><td>1020</td><td>34  </td><td>1058</td><td>38  </td><td>1239</td><td>39  </td><td>575 </td></tr>\n",
       "\t<tr><td>2017</td><td>11  </td><td>50  </td><td> 967</td><td>34  </td><td>1036</td><td>39  </td><td>1277</td><td>37  </td><td>558 </td></tr>\n",
       "\t<tr><td>2017</td><td>12  </td><td>45  </td><td> 867</td><td>32  </td><td> 975</td><td>39  </td><td>1261</td><td>34  </td><td>511 </td></tr>\n",
       "</tbody>\n",
       "</table>\n"
      ],
      "text/latex": [
       "\\begin{tabular}{r|llllllllll}\n",
       " year & month & clothes\\_rel & clothes\\_ab & cosmetic\\_rel & cosmetic\\_ab & dye\\_rel & dye\\_ab & accessory\\_rel & accessory\\_ab\\\\\n",
       "\\hline\n",
       "\t 2017 &  1   & 57   & 1101 & 45   & 1389 & 60   & 1971 & 44   & 664 \\\\\n",
       "\t 2017 &  2   & 54   & 1044 & 44   & 1339 & 62   & 2014 & 43   & 646 \\\\\n",
       "\t 2017 &  3   & 56   & 1094 & 40   & 1236 & 57   & 1881 & 43   & 641 \\\\\n",
       "\t 2017 &  4   & 54   & 1044 & 37   & 1133 & 60   & 1954 & 39   & 584 \\\\\n",
       "\t 2017 &  5   & 52   & 1008 & 35   & 1068 & 55   & 1796 & 37   & 558 \\\\\n",
       "\t 2017 &  6   & 50   &  980 & 35   & 1062 & 57   & 1876 & 38   & 569 \\\\\n",
       "\t 2017 &  7   & 49   &  945 & 33   & 1008 & 54   & 1781 & 38   & 570 \\\\\n",
       "\t 2017 &  8   & 51   &  986 & 34   & 1043 & 51   & 1659 & 38   & 562 \\\\\n",
       "\t 2017 &  9   & 60   & 1164 & 38   & 1174 & 47   & 1525 & 48   & 712 \\\\\n",
       "\t 2017 & 10   & 52   & 1020 & 34   & 1058 & 38   & 1239 & 39   & 575 \\\\\n",
       "\t 2017 & 11   & 50   &  967 & 34   & 1036 & 39   & 1277 & 37   & 558 \\\\\n",
       "\t 2017 & 12   & 45   &  867 & 32   &  975 & 39   & 1261 & 34   & 511 \\\\\n",
       "\\end{tabular}\n"
      ],
      "text/markdown": [
       "\n",
       "| year | month | clothes_rel | clothes_ab | cosmetic_rel | cosmetic_ab | dye_rel | dye_ab | accessory_rel | accessory_ab |\n",
       "|---|---|---|---|---|---|---|---|---|---|\n",
       "| 2017 |  1   | 57   | 1101 | 45   | 1389 | 60   | 1971 | 44   | 664  |\n",
       "| 2017 |  2   | 54   | 1044 | 44   | 1339 | 62   | 2014 | 43   | 646  |\n",
       "| 2017 |  3   | 56   | 1094 | 40   | 1236 | 57   | 1881 | 43   | 641  |\n",
       "| 2017 |  4   | 54   | 1044 | 37   | 1133 | 60   | 1954 | 39   | 584  |\n",
       "| 2017 |  5   | 52   | 1008 | 35   | 1068 | 55   | 1796 | 37   | 558  |\n",
       "| 2017 |  6   | 50   |  980 | 35   | 1062 | 57   | 1876 | 38   | 569  |\n",
       "| 2017 |  7   | 49   |  945 | 33   | 1008 | 54   | 1781 | 38   | 570  |\n",
       "| 2017 |  8   | 51   |  986 | 34   | 1043 | 51   | 1659 | 38   | 562  |\n",
       "| 2017 |  9   | 60   | 1164 | 38   | 1174 | 47   | 1525 | 48   | 712  |\n",
       "| 2017 | 10   | 52   | 1020 | 34   | 1058 | 38   | 1239 | 39   | 575  |\n",
       "| 2017 | 11   | 50   |  967 | 34   | 1036 | 39   | 1277 | 37   | 558  |\n",
       "| 2017 | 12   | 45   |  867 | 32   |  975 | 39   | 1261 | 34   | 511  |\n",
       "\n"
      ],
      "text/plain": [
       "   year month clothes_rel clothes_ab cosmetic_rel cosmetic_ab dye_rel dye_ab\n",
       "1  2017  1    57          1101       45           1389        60      1971  \n",
       "2  2017  2    54          1044       44           1339        62      2014  \n",
       "3  2017  3    56          1094       40           1236        57      1881  \n",
       "4  2017  4    54          1044       37           1133        60      1954  \n",
       "5  2017  5    52          1008       35           1068        55      1796  \n",
       "6  2017  6    50           980       35           1062        57      1876  \n",
       "7  2017  7    49           945       33           1008        54      1781  \n",
       "8  2017  8    51           986       34           1043        51      1659  \n",
       "9  2017  9    60          1164       38           1174        47      1525  \n",
       "10 2017 10    52          1020       34           1058        38      1239  \n",
       "11 2017 11    50           967       34           1036        39      1277  \n",
       "12 2017 12    45           867       32            975        39      1261  \n",
       "   accessory_rel accessory_ab\n",
       "1  44            664         \n",
       "2  43            646         \n",
       "3  43            641         \n",
       "4  39            584         \n",
       "5  37            558         \n",
       "6  38            569         \n",
       "7  38            570         \n",
       "8  38            562         \n",
       "9  48            712         \n",
       "10 39            575         \n",
       "11 37            558         \n",
       "12 34            511         "
      ]
     },
     "metadata": {},
     "output_type": "display_data"
    }
   ],
   "source": [
    "# 2017\n",
    "# dataframe 생성\n",
    "\n",
    "year_j <- c()\n",
    "month_i <- c()\n",
    "data1_i <- c()\n",
    "data2_i <- c()\n",
    "data3_i <- c()\n",
    "data4_i <- c()\n",
    "data5_i <- c()\n",
    "data6_i <- c()\n",
    "data7_i <- c()\n",
    "data8_i <- c()\n",
    "DF <- c()\n",
    "\n",
    "for(j in 2017){\n",
    "    for(i in seq(1, 12, by=1)){\n",
    "        data1 <- with(data_purpose, round(mean(clothes_rel[(Year == j) & (Month == i)])))\n",
    "        data2 <- with(data_purpose, round(mean(clothes_ab[(Year == j) & (Month == i)])))\n",
    "        data3 <- with(data_purpose, round(mean(cosmetic_rel[(Year == j) & (Month == i)])))\n",
    "        data4 <- with(data_purpose, round(mean(cosmetic_ab[(Year == j) & (Month == i)])))\n",
    "        data5 <- with(data_purpose, round(mean(dye_rel[(Year == j) & (Month == i)])))\n",
    "        data6 <- with(data_purpose, round(mean(dye_ab[(Year == j) & (Month == i)])))\n",
    "        data7 <- with(data_purpose, round(mean(accessory_rel[(Year == j) & (Month == i)])))\n",
    "        data8 <- with(data_purpose, round(mean(accessory_ab[(Year == j) & (Month == i)])))\n",
    "        \n",
    "        year_j[[(i)]] <- c(j)\n",
    "        month_i[[(i)]] <- c(i)\n",
    "        \n",
    "        data1_i[[(i)]] <- data1\n",
    "        data2_i[[(i)]] <- data2\n",
    "        data3_i[[(i)]] <- data3\n",
    "        data4_i[[(i)]] <- data4\n",
    "        data5_i[[(i)]] <- data5\n",
    "        data6_i[[(i)]] <- data6\n",
    "        data7_i[[(i)]] <- data7\n",
    "        data8_i[[(i)]] <- data8\n",
    "        \n",
    "        df <- data.frame(year=year_j, month=month_i, clothes_rel=data1_i, clothes_ab=data2_i,\n",
    "                        cosmetic_rel=data3_i, cosmetic_ab=data4_i, dye_rel=data5_i, dye_ab=data6_i,\n",
    "                        accessory_rel=data7_i, accessory_ab=data8_i)\n",
    "    }\n",
    "    DF <- rbind(DF, df)\n",
    "    DF_2017 <- na.omit(DF)\n",
    "}\n",
    "\n",
    "DF_2017"
   ]
  },
  {
   "cell_type": "code",
   "execution_count": 184,
   "metadata": {},
   "outputs": [
    {
     "data": {
      "image/png": "[encoded data removed]",
      "text/plain": [
       "plot without title"
      ]
     },
     "metadata": {},
     "output_type": "display_data"
    }
   ],
   "source": [
    "# 2017_상대값\n",
    "# 시각화\n",
    "ggplot(DF_2017, aes(x=month, y=clothes_rel)) + geom_line(color=\"blue\") + ylim(0, 100) +\n",
    "    geom_line(aes(x=month, y=cosmetic_rel), color=\"red\") +\n",
    "    geom_line(aes(x=month, y=dye_rel), color=\"green\") +\n",
    "    geom_line(aes(x=month, y=accessory_rel), color=\"purple\")"
   ]
  },
  {
   "cell_type": "markdown",
   "metadata": {},
   "source": [
    "    2017년도 한달별 검색결과 상대적으로 알아보면,\n",
    "    옷(blue) 미미하게 감소\n",
    "    화장품(red) 미미하게 감소\n",
    "    염색(green) 후기에 급격하게 감소\n",
    "    악세서리(purple) 후기에 급격하게 감소"
   ]
  },
  {
   "cell_type": "code",
   "execution_count": 185,
   "metadata": {},
   "outputs": [
    {
     "data": {
      "image/png": "[encoded data removed]",
      "text/plain": [
       "plot without title"
      ]
     },
     "metadata": {},
     "output_type": "display_data"
    }
   ],
   "source": [
    "# 2017_조회수\n",
    "# 시각화\n",
    "ggplot(DF_2017, aes(x=month, y=clothes_ab)) + geom_line(color=\"blue\") +  ylim(0, 2500) + \n",
    "    geom_line(aes(x=month, y=cosmetic_ab), color=\"red\") +\n",
    "    geom_line(aes(x=month, y=dye_ab), color=\"green\") +\n",
    "    geom_line(aes(x=month, y=accessory_ab), color=\"purple\")"
   ]
  },
  {
   "cell_type": "markdown",
   "metadata": {},
   "source": [
    "    2017년도 한달별 검색결과 절대적(조회수)으로 알아보면,\n",
    "    옷(blue), 화장품(red), 악세서리(purple) 미미하게 감소\n",
    "    염색(green) 중간부터 감소"
   ]
  },
  {
   "cell_type": "code",
   "execution_count": 186,
   "metadata": {},
   "outputs": [
    {
     "data": {
      "text/html": [
       "<table>\n",
       "<thead><tr><th scope=col>year</th><th scope=col>month</th><th scope=col>clothes_rel</th><th scope=col>clothes_ab</th><th scope=col>cosmetic_rel</th><th scope=col>cosmetic_ab</th><th scope=col>dye_rel</th><th scope=col>dye_ab</th><th scope=col>accessory_rel</th><th scope=col>accessory_ab</th></tr></thead>\n",
       "<tbody>\n",
       "\t<tr><td>2018</td><td> 1  </td><td>49  </td><td> 960</td><td>33  </td><td>1006</td><td>43  </td><td>1401</td><td>36  </td><td>539 </td></tr>\n",
       "\t<tr><td>2018</td><td> 2  </td><td>58  </td><td>1132</td><td>36  </td><td>1116</td><td>49  </td><td>1595</td><td>45  </td><td>678 </td></tr>\n",
       "\t<tr><td>2018</td><td> 3  </td><td>58  </td><td>1129</td><td>34  </td><td>1050</td><td>44  </td><td>1453</td><td>43  </td><td>649 </td></tr>\n",
       "\t<tr><td>2018</td><td> 4  </td><td>54  </td><td>1046</td><td>32  </td><td> 995</td><td>45  </td><td>1466</td><td>39  </td><td>579 </td></tr>\n",
       "\t<tr><td>2018</td><td> 5  </td><td>51  </td><td> 991</td><td>29  </td><td> 907</td><td>40  </td><td>1312</td><td>36  </td><td>542 </td></tr>\n",
       "\t<tr><td>2018</td><td> 6  </td><td>50  </td><td> 964</td><td>29  </td><td> 888</td><td>42  </td><td>1387</td><td>36  </td><td>542 </td></tr>\n",
       "\t<tr><td>2018</td><td> 7  </td><td>42  </td><td> 814</td><td>24  </td><td> 751</td><td>40  </td><td>1320</td><td>30  </td><td>441 </td></tr>\n",
       "\t<tr><td>2018</td><td> 8  </td><td>44  </td><td> 863</td><td>26  </td><td> 785</td><td>38  </td><td>1229</td><td>31  </td><td>464 </td></tr>\n",
       "\t<tr><td>2018</td><td> 9  </td><td>46  </td><td> 886</td><td>27  </td><td> 816</td><td>34  </td><td>1099</td><td>32  </td><td>484 </td></tr>\n",
       "\t<tr><td>2018</td><td>10  </td><td>49  </td><td> 944</td><td>27  </td><td> 836</td><td>32  </td><td>1036</td><td>33  </td><td>492 </td></tr>\n",
       "\t<tr><td>2018</td><td>11  </td><td>45  </td><td> 882</td><td>27  </td><td> 816</td><td>33  </td><td>1071</td><td>33  </td><td>489 </td></tr>\n",
       "\t<tr><td>2018</td><td>12  </td><td>41  </td><td> 791</td><td>24  </td><td> 743</td><td>32  </td><td>1032</td><td>30  </td><td>452 </td></tr>\n",
       "</tbody>\n",
       "</table>\n"
      ],
      "text/latex": [
       "\\begin{tabular}{r|llllllllll}\n",
       " year & month & clothes\\_rel & clothes\\_ab & cosmetic\\_rel & cosmetic\\_ab & dye\\_rel & dye\\_ab & accessory\\_rel & accessory\\_ab\\\\\n",
       "\\hline\n",
       "\t 2018 &  1   & 49   &  960 & 33   & 1006 & 43   & 1401 & 36   & 539 \\\\\n",
       "\t 2018 &  2   & 58   & 1132 & 36   & 1116 & 49   & 1595 & 45   & 678 \\\\\n",
       "\t 2018 &  3   & 58   & 1129 & 34   & 1050 & 44   & 1453 & 43   & 649 \\\\\n",
       "\t 2018 &  4   & 54   & 1046 & 32   &  995 & 45   & 1466 & 39   & 579 \\\\\n",
       "\t 2018 &  5   & 51   &  991 & 29   &  907 & 40   & 1312 & 36   & 542 \\\\\n",
       "\t 2018 &  6   & 50   &  964 & 29   &  888 & 42   & 1387 & 36   & 542 \\\\\n",
       "\t 2018 &  7   & 42   &  814 & 24   &  751 & 40   & 1320 & 30   & 441 \\\\\n",
       "\t 2018 &  8   & 44   &  863 & 26   &  785 & 38   & 1229 & 31   & 464 \\\\\n",
       "\t 2018 &  9   & 46   &  886 & 27   &  816 & 34   & 1099 & 32   & 484 \\\\\n",
       "\t 2018 & 10   & 49   &  944 & 27   &  836 & 32   & 1036 & 33   & 492 \\\\\n",
       "\t 2018 & 11   & 45   &  882 & 27   &  816 & 33   & 1071 & 33   & 489 \\\\\n",
       "\t 2018 & 12   & 41   &  791 & 24   &  743 & 32   & 1032 & 30   & 452 \\\\\n",
       "\\end{tabular}\n"
      ],
      "text/markdown": [
       "\n",
       "| year | month | clothes_rel | clothes_ab | cosmetic_rel | cosmetic_ab | dye_rel | dye_ab | accessory_rel | accessory_ab |\n",
       "|---|---|---|---|---|---|---|---|---|---|\n",
       "| 2018 |  1   | 49   |  960 | 33   | 1006 | 43   | 1401 | 36   | 539  |\n",
       "| 2018 |  2   | 58   | 1132 | 36   | 1116 | 49   | 1595 | 45   | 678  |\n",
       "| 2018 |  3   | 58   | 1129 | 34   | 1050 | 44   | 1453 | 43   | 649  |\n",
       "| 2018 |  4   | 54   | 1046 | 32   |  995 | 45   | 1466 | 39   | 579  |\n",
       "| 2018 |  5   | 51   |  991 | 29   |  907 | 40   | 1312 | 36   | 542  |\n",
       "| 2018 |  6   | 50   |  964 | 29   |  888 | 42   | 1387 | 36   | 542  |\n",
       "| 2018 |  7   | 42   |  814 | 24   |  751 | 40   | 1320 | 30   | 441  |\n",
       "| 2018 |  8   | 44   |  863 | 26   |  785 | 38   | 1229 | 31   | 464  |\n",
       "| 2018 |  9   | 46   |  886 | 27   |  816 | 34   | 1099 | 32   | 484  |\n",
       "| 2018 | 10   | 49   |  944 | 27   |  836 | 32   | 1036 | 33   | 492  |\n",
       "| 2018 | 11   | 45   |  882 | 27   |  816 | 33   | 1071 | 33   | 489  |\n",
       "| 2018 | 12   | 41   |  791 | 24   |  743 | 32   | 1032 | 30   | 452  |\n",
       "\n"
      ],
      "text/plain": [
       "   year month clothes_rel clothes_ab cosmetic_rel cosmetic_ab dye_rel dye_ab\n",
       "1  2018  1    49           960       33           1006        43      1401  \n",
       "2  2018  2    58          1132       36           1116        49      1595  \n",
       "3  2018  3    58          1129       34           1050        44      1453  \n",
       "4  2018  4    54          1046       32            995        45      1466  \n",
       "5  2018  5    51           991       29            907        40      1312  \n",
       "6  2018  6    50           964       29            888        42      1387  \n",
       "7  2018  7    42           814       24            751        40      1320  \n",
       "8  2018  8    44           863       26            785        38      1229  \n",
       "9  2018  9    46           886       27            816        34      1099  \n",
       "10 2018 10    49           944       27            836        32      1036  \n",
       "11 2018 11    45           882       27            816        33      1071  \n",
       "12 2018 12    41           791       24            743        32      1032  \n",
       "   accessory_rel accessory_ab\n",
       "1  36            539         \n",
       "2  45            678         \n",
       "3  43            649         \n",
       "4  39            579         \n",
       "5  36            542         \n",
       "6  36            542         \n",
       "7  30            441         \n",
       "8  31            464         \n",
       "9  32            484         \n",
       "10 33            492         \n",
       "11 33            489         \n",
       "12 30            452         "
      ]
     },
     "metadata": {},
     "output_type": "display_data"
    }
   ],
   "source": [
    "# 2018\n",
    "# dataframe 생성\n",
    "\n",
    "year_j <- c()\n",
    "month_i <- c()\n",
    "data1_i <- c()\n",
    "data2_i <- c()\n",
    "data3_i <- c()\n",
    "data4_i <- c()\n",
    "data5_i <- c()\n",
    "data6_i <- c()\n",
    "data7_i <- c()\n",
    "data8_i <- c()\n",
    "DF <- c()\n",
    "\n",
    "for(j in 2018){\n",
    "    for(i in seq(1, 12, by=1)){\n",
    "        data1 <- with(data_purpose, round(mean(clothes_rel[(Year == j) & (Month == i)])))\n",
    "        data2 <- with(data_purpose, round(mean(clothes_ab[(Year == j) & (Month == i)])))\n",
    "        data3 <- with(data_purpose, round(mean(cosmetic_rel[(Year == j) & (Month == i)])))\n",
    "        data4 <- with(data_purpose, round(mean(cosmetic_ab[(Year == j) & (Month == i)])))\n",
    "        data5 <- with(data_purpose, round(mean(dye_rel[(Year == j) & (Month == i)])))\n",
    "        data6 <- with(data_purpose, round(mean(dye_ab[(Year == j) & (Month == i)])))\n",
    "        data7 <- with(data_purpose, round(mean(accessory_rel[(Year == j) & (Month == i)])))\n",
    "        data8 <- with(data_purpose, round(mean(accessory_ab[(Year == j) & (Month == i)])))\n",
    "        \n",
    "        year_j[[(i)]] <- c(j)\n",
    "        month_i[[(i)]] <- c(i)\n",
    "        \n",
    "        data1_i[[(i)]] <- data1\n",
    "        data2_i[[(i)]] <- data2\n",
    "        data3_i[[(i)]] <- data3\n",
    "        data4_i[[(i)]] <- data4\n",
    "        data5_i[[(i)]] <- data5\n",
    "        data6_i[[(i)]] <- data6\n",
    "        data7_i[[(i)]] <- data7\n",
    "        data8_i[[(i)]] <- data8\n",
    "        \n",
    "        df <- data.frame(year=year_j, month=month_i, clothes_rel=data1_i, clothes_ab=data2_i,\n",
    "                        cosmetic_rel=data3_i, cosmetic_ab=data4_i, dye_rel=data5_i, dye_ab=data6_i,\n",
    "                        accessory_rel=data7_i, accessory_ab=data8_i)\n",
    "    }\n",
    "    DF <- rbind(DF, df)\n",
    "    DF_2018 <- na.omit(DF)\n",
    "}\n",
    "\n",
    "DF_2018"
   ]
  },
  {
   "cell_type": "code",
   "execution_count": 187,
   "metadata": {},
   "outputs": [
    {
     "data": {
      "image/png": "[encoded data removed]",
      "text/plain": [
       "plot without title"
      ]
     },
     "metadata": {},
     "output_type": "display_data"
    }
   ],
   "source": [
    "# 2018_상대값\n",
    "# 시각화\n",
    "ggplot(DF_2018, aes(x=month, y=clothes_rel)) + geom_line(color=\"blue\") +  ylim(0, 100) + \n",
    "    geom_line(aes(x=month, y=cosmetic_rel), color=\"red\") +\n",
    "    geom_line(aes(x=month, y=dye_rel), color=\"green\") +\n",
    "    geom_line(aes(x=month, y=accessory_rel), color=\"purple\")"
   ]
  },
  {
   "cell_type": "markdown",
   "metadata": {},
   "source": [
    "    2018년도 한달별 검색결과 상대적으로 알아보면,\n",
    "    옷(blue), 화장품(red), 악세서리(purple) 미미하게 감소\n",
    "    염색(green) 중간부터 감소"
   ]
  },
  {
   "cell_type": "code",
   "execution_count": 188,
   "metadata": {},
   "outputs": [
    {
     "data": {
      "image/png": "[encoded data removed]",
      "text/plain": [
       "plot without title"
      ]
     },
     "metadata": {},
     "output_type": "display_data"
    }
   ],
   "source": [
    "# 2018_조회수\n",
    "# 시각화\n",
    "ggplot(DF_2018, aes(x=month, y=clothes_ab)) + geom_line(color=\"blue\") +  ylim(0, 2500) + \n",
    "    geom_line(aes(x=month, y=cosmetic_ab), color=\"red\") +\n",
    "    geom_line(aes(x=month, y=dye_ab), color=\"green\") +\n",
    "    geom_line(aes(x=month, y=accessory_ab), color=\"purple\")"
   ]
  },
  {
   "cell_type": "markdown",
   "metadata": {},
   "source": [
    "    2018년도 한달별 검색결과 절대적(조회수)으로 알아보면,\n",
    "    미미하게 감소, 비슷한 조회수를 가짐"
   ]
  },
  {
   "cell_type": "code",
   "execution_count": 189,
   "metadata": {},
   "outputs": [
    {
     "data": {
      "text/html": [
       "<table>\n",
       "<thead><tr><th scope=col>year</th><th scope=col>month</th><th scope=col>clothes_rel</th><th scope=col>clothes_ab</th><th scope=col>cosmetic_rel</th><th scope=col>cosmetic_ab</th><th scope=col>dye_rel</th><th scope=col>dye_ab</th><th scope=col>accessory_rel</th><th scope=col>accessory_ab</th></tr></thead>\n",
       "<tbody>\n",
       "\t<tr><td>2019</td><td> 1  </td><td>48  </td><td> 936</td><td>26  </td><td> 804</td><td>37  </td><td>1201</td><td>34  </td><td>514 </td></tr>\n",
       "\t<tr><td>2019</td><td> 2  </td><td>49  </td><td> 956</td><td>28  </td><td> 862</td><td>40  </td><td>1294</td><td>38  </td><td>565 </td></tr>\n",
       "\t<tr><td>2019</td><td> 3  </td><td>49  </td><td> 952</td><td>25  </td><td> 778</td><td>35  </td><td>1150</td><td>34  </td><td>508 </td></tr>\n",
       "\t<tr><td>2019</td><td> 4  </td><td>47  </td><td> 908</td><td>23  </td><td> 717</td><td>35  </td><td>1134</td><td>30  </td><td>455 </td></tr>\n",
       "\t<tr><td>2019</td><td> 5  </td><td>47  </td><td> 919</td><td>23  </td><td> 710</td><td>34  </td><td>1117</td><td>31  </td><td>456 </td></tr>\n",
       "\t<tr><td>2019</td><td> 6  </td><td>43  </td><td> 826</td><td>22  </td><td> 682</td><td>36  </td><td>1170</td><td>29  </td><td>437 </td></tr>\n",
       "\t<tr><td>2019</td><td> 7  </td><td>40  </td><td> 778</td><td>20  </td><td> 624</td><td>35  </td><td>1130</td><td>27  </td><td>411 </td></tr>\n",
       "\t<tr><td>2019</td><td> 8  </td><td>47  </td><td> 905</td><td>24  </td><td> 739</td><td>37  </td><td>1217</td><td>34  </td><td>503 </td></tr>\n",
       "\t<tr><td>2019</td><td> 9  </td><td>53  </td><td>1038</td><td>28  </td><td> 854</td><td>36  </td><td>1185</td><td>41  </td><td>616 </td></tr>\n",
       "\t<tr><td>2019</td><td>10  </td><td>58  </td><td>1128</td><td>31  </td><td> 950</td><td>38  </td><td>1235</td><td>44  </td><td>662 </td></tr>\n",
       "\t<tr><td>2019</td><td>11  </td><td>63  </td><td>1224</td><td>36  </td><td>1101</td><td>44  </td><td>1444</td><td>55  </td><td>822 </td></tr>\n",
       "\t<tr><td>2019</td><td>12  </td><td>62  </td><td>1196</td><td>36  </td><td>1101</td><td>45  </td><td>1466</td><td>56  </td><td>843 </td></tr>\n",
       "</tbody>\n",
       "</table>\n"
      ],
      "text/latex": [
       "\\begin{tabular}{r|llllllllll}\n",
       " year & month & clothes\\_rel & clothes\\_ab & cosmetic\\_rel & cosmetic\\_ab & dye\\_rel & dye\\_ab & accessory\\_rel & accessory\\_ab\\\\\n",
       "\\hline\n",
       "\t 2019 &  1   & 48   &  936 & 26   &  804 & 37   & 1201 & 34   & 514 \\\\\n",
       "\t 2019 &  2   & 49   &  956 & 28   &  862 & 40   & 1294 & 38   & 565 \\\\\n",
       "\t 2019 &  3   & 49   &  952 & 25   &  778 & 35   & 1150 & 34   & 508 \\\\\n",
       "\t 2019 &  4   & 47   &  908 & 23   &  717 & 35   & 1134 & 30   & 455 \\\\\n",
       "\t 2019 &  5   & 47   &  919 & 23   &  710 & 34   & 1117 & 31   & 456 \\\\\n",
       "\t 2019 &  6   & 43   &  826 & 22   &  682 & 36   & 1170 & 29   & 437 \\\\\n",
       "\t 2019 &  7   & 40   &  778 & 20   &  624 & 35   & 1130 & 27   & 411 \\\\\n",
       "\t 2019 &  8   & 47   &  905 & 24   &  739 & 37   & 1217 & 34   & 503 \\\\\n",
       "\t 2019 &  9   & 53   & 1038 & 28   &  854 & 36   & 1185 & 41   & 616 \\\\\n",
       "\t 2019 & 10   & 58   & 1128 & 31   &  950 & 38   & 1235 & 44   & 662 \\\\\n",
       "\t 2019 & 11   & 63   & 1224 & 36   & 1101 & 44   & 1444 & 55   & 822 \\\\\n",
       "\t 2019 & 12   & 62   & 1196 & 36   & 1101 & 45   & 1466 & 56   & 843 \\\\\n",
       "\\end{tabular}\n"
      ],
      "text/markdown": [
       "\n",
       "| year | month | clothes_rel | clothes_ab | cosmetic_rel | cosmetic_ab | dye_rel | dye_ab | accessory_rel | accessory_ab |\n",
       "|---|---|---|---|---|---|---|---|---|---|\n",
       "| 2019 |  1   | 48   |  936 | 26   |  804 | 37   | 1201 | 34   | 514  |\n",
       "| 2019 |  2   | 49   |  956 | 28   |  862 | 40   | 1294 | 38   | 565  |\n",
       "| 2019 |  3   | 49   |  952 | 25   |  778 | 35   | 1150 | 34   | 508  |\n",
       "| 2019 |  4   | 47   |  908 | 23   |  717 | 35   | 1134 | 30   | 455  |\n",
       "| 2019 |  5   | 47   |  919 | 23   |  710 | 34   | 1117 | 31   | 456  |\n",
       "| 2019 |  6   | 43   |  826 | 22   |  682 | 36   | 1170 | 29   | 437  |\n",
       "| 2019 |  7   | 40   |  778 | 20   |  624 | 35   | 1130 | 27   | 411  |\n",
       "| 2019 |  8   | 47   |  905 | 24   |  739 | 37   | 1217 | 34   | 503  |\n",
       "| 2019 |  9   | 53   | 1038 | 28   |  854 | 36   | 1185 | 41   | 616  |\n",
       "| 2019 | 10   | 58   | 1128 | 31   |  950 | 38   | 1235 | 44   | 662  |\n",
       "| 2019 | 11   | 63   | 1224 | 36   | 1101 | 44   | 1444 | 55   | 822  |\n",
       "| 2019 | 12   | 62   | 1196 | 36   | 1101 | 45   | 1466 | 56   | 843  |\n",
       "\n"
      ],
      "text/plain": [
       "   year month clothes_rel clothes_ab cosmetic_rel cosmetic_ab dye_rel dye_ab\n",
       "1  2019  1    48           936       26            804        37      1201  \n",
       "2  2019  2    49           956       28            862        40      1294  \n",
       "3  2019  3    49           952       25            778        35      1150  \n",
       "4  2019  4    47           908       23            717        35      1134  \n",
       "5  2019  5    47           919       23            710        34      1117  \n",
       "6  2019  6    43           826       22            682        36      1170  \n",
       "7  2019  7    40           778       20            624        35      1130  \n",
       "8  2019  8    47           905       24            739        37      1217  \n",
       "9  2019  9    53          1038       28            854        36      1185  \n",
       "10 2019 10    58          1128       31            950        38      1235  \n",
       "11 2019 11    63          1224       36           1101        44      1444  \n",
       "12 2019 12    62          1196       36           1101        45      1466  \n",
       "   accessory_rel accessory_ab\n",
       "1  34            514         \n",
       "2  38            565         \n",
       "3  34            508         \n",
       "4  30            455         \n",
       "5  31            456         \n",
       "6  29            437         \n",
       "7  27            411         \n",
       "8  34            503         \n",
       "9  41            616         \n",
       "10 44            662         \n",
       "11 55            822         \n",
       "12 56            843         "
      ]
     },
     "metadata": {},
     "output_type": "display_data"
    }
   ],
   "source": [
    "# 2019\n",
    "# dataframe 생성\n",
    "\n",
    "year_j <- c()\n",
    "month_i <- c()\n",
    "data1_i <- c()\n",
    "data2_i <- c()\n",
    "data3_i <- c()\n",
    "data4_i <- c()\n",
    "data5_i <- c()\n",
    "data6_i <- c()\n",
    "data7_i <- c()\n",
    "data8_i <- c()\n",
    "DF <- c()\n",
    "\n",
    "for(j in 2019){\n",
    "    for(i in seq(1, 12, by=1)){\n",
    "        data1 <- with(data_purpose, round(mean(clothes_rel[(Year == j) & (Month == i)])))\n",
    "        data2 <- with(data_purpose, round(mean(clothes_ab[(Year == j) & (Month == i)])))\n",
    "        data3 <- with(data_purpose, round(mean(cosmetic_rel[(Year == j) & (Month == i)])))\n",
    "        data4 <- with(data_purpose, round(mean(cosmetic_ab[(Year == j) & (Month == i)])))\n",
    "        data5 <- with(data_purpose, round(mean(dye_rel[(Year == j) & (Month == i)])))\n",
    "        data6 <- with(data_purpose, round(mean(dye_ab[(Year == j) & (Month == i)])))\n",
    "        data7 <- with(data_purpose, round(mean(accessory_rel[(Year == j) & (Month == i)])))\n",
    "        data8 <- with(data_purpose, round(mean(accessory_ab[(Year == j) & (Month == i)])))\n",
    "        \n",
    "        year_j[[(i)]] <- c(j)\n",
    "        month_i[[(i)]] <- c(i)\n",
    "        \n",
    "        data1_i[[(i)]] <- data1\n",
    "        data2_i[[(i)]] <- data2\n",
    "        data3_i[[(i)]] <- data3\n",
    "        data4_i[[(i)]] <- data4\n",
    "        data5_i[[(i)]] <- data5\n",
    "        data6_i[[(i)]] <- data6\n",
    "        data7_i[[(i)]] <- data7\n",
    "        data8_i[[(i)]] <- data8\n",
    "        \n",
    "        df <- data.frame(year=year_j, month=month_i, clothes_rel=data1_i, clothes_ab=data2_i,\n",
    "                        cosmetic_rel=data3_i, cosmetic_ab=data4_i, dye_rel=data5_i, dye_ab=data6_i,\n",
    "                        accessory_rel=data7_i, accessory_ab=data8_i)\n",
    "    }\n",
    "    DF <- rbind(DF, df)\n",
    "    DF_2019 <- na.omit(DF)\n",
    "}\n",
    "\n",
    "DF_2019"
   ]
  },
  {
   "cell_type": "code",
   "execution_count": 190,
   "metadata": {},
   "outputs": [
    {
     "data": {
      "image/png": "[encoded data removed]",
      "text/plain": [
       "plot without title"
      ]
     },
     "metadata": {},
     "output_type": "display_data"
    }
   ],
   "source": [
    "# 2019_상대값\n",
    "# 시각화\n",
    "ggplot(DF_2019, aes(x=month, y=clothes_rel)) + geom_line(color=\"blue\") +  ylim(0, 100) + \n",
    "    geom_line(aes(x=month, y=cosmetic_rel), color=\"red\") +\n",
    "    geom_line(aes(x=month, y=dye_rel), color=\"green\") +\n",
    "    geom_line(aes(x=month, y=accessory_rel), color=\"purple\")"
   ]
  },
  {
   "cell_type": "markdown",
   "metadata": {},
   "source": [
    "    2019년도 한달별 검색결과 상대적으로 알아보면,\n",
    "    대체적으로 증가"
   ]
  },
  {
   "cell_type": "code",
   "execution_count": 191,
   "metadata": {},
   "outputs": [
    {
     "data": {
      "image/png": "[encoded data removed]",
      "text/plain": [
       "plot without title"
      ]
     },
     "metadata": {},
     "output_type": "display_data"
    }
   ],
   "source": [
    "# 2019_조회수\n",
    "# 시각화\n",
    "ggplot(DF_2019, aes(x=month, y=clothes_ab)) + geom_line(color=\"blue\") +  ylim(0, 2500) + \n",
    "    geom_line(aes(x=month, y=cosmetic_ab), color=\"red\") +\n",
    "    geom_line(aes(x=month, y=dye_ab), color=\"green\") +\n",
    "    geom_line(aes(x=month, y=accessory_ab), color=\"purple\")"
   ]
  },
  {
   "cell_type": "markdown",
   "metadata": {},
   "source": [
    "    2019년도 한달별 검색결과 절대적(조회수)으로 알아보면,\n",
    "    대체적으로 증가"
   ]
  },
  {
   "cell_type": "code",
   "execution_count": 192,
   "metadata": {},
   "outputs": [
    {
     "data": {
      "text/html": [
       "<table>\n",
       "<thead><tr><th scope=col>year</th><th scope=col>month</th><th scope=col>clothes_rel</th><th scope=col>clothes_ab</th><th scope=col>cosmetic_rel</th><th scope=col>cosmetic_ab</th><th scope=col>dye_rel</th><th scope=col>dye_ab</th><th scope=col>accessory_rel</th><th scope=col>accessory_ab</th></tr></thead>\n",
       "<tbody>\n",
       "\t<tr><td>2020</td><td>1   </td><td>57  </td><td>1103</td><td>32  </td><td> 985</td><td>41  </td><td>1357</td><td>49  </td><td>732 </td></tr>\n",
       "\t<tr><td>2020</td><td>2   </td><td>73  </td><td>1416</td><td>39  </td><td>1198</td><td>48  </td><td>1570</td><td>63  </td><td>944 </td></tr>\n",
       "\t<tr><td>2020</td><td>3   </td><td>64  </td><td>1234</td><td>32  </td><td> 978</td><td>41  </td><td>1334</td><td>50  </td><td>753 </td></tr>\n",
       "</tbody>\n",
       "</table>\n"
      ],
      "text/latex": [
       "\\begin{tabular}{r|llllllllll}\n",
       " year & month & clothes\\_rel & clothes\\_ab & cosmetic\\_rel & cosmetic\\_ab & dye\\_rel & dye\\_ab & accessory\\_rel & accessory\\_ab\\\\\n",
       "\\hline\n",
       "\t 2020 & 1    & 57   & 1103 & 32   &  985 & 41   & 1357 & 49   & 732 \\\\\n",
       "\t 2020 & 2    & 73   & 1416 & 39   & 1198 & 48   & 1570 & 63   & 944 \\\\\n",
       "\t 2020 & 3    & 64   & 1234 & 32   &  978 & 41   & 1334 & 50   & 753 \\\\\n",
       "\\end{tabular}\n"
      ],
      "text/markdown": [
       "\n",
       "| year | month | clothes_rel | clothes_ab | cosmetic_rel | cosmetic_ab | dye_rel | dye_ab | accessory_rel | accessory_ab |\n",
       "|---|---|---|---|---|---|---|---|---|---|\n",
       "| 2020 | 1    | 57   | 1103 | 32   |  985 | 41   | 1357 | 49   | 732  |\n",
       "| 2020 | 2    | 73   | 1416 | 39   | 1198 | 48   | 1570 | 63   | 944  |\n",
       "| 2020 | 3    | 64   | 1234 | 32   |  978 | 41   | 1334 | 50   | 753  |\n",
       "\n"
      ],
      "text/plain": [
       "  year month clothes_rel clothes_ab cosmetic_rel cosmetic_ab dye_rel dye_ab\n",
       "1 2020 1     57          1103       32            985        41      1357  \n",
       "2 2020 2     73          1416       39           1198        48      1570  \n",
       "3 2020 3     64          1234       32            978        41      1334  \n",
       "  accessory_rel accessory_ab\n",
       "1 49            732         \n",
       "2 63            944         \n",
       "3 50            753         "
      ]
     },
     "metadata": {},
     "output_type": "display_data"
    }
   ],
   "source": [
    "# 2020\n",
    "# dataframe 생성\n",
    "\n",
    "year_j <- c()\n",
    "month_i <- c()\n",
    "data1_i <- c()\n",
    "data2_i <- c()\n",
    "data3_i <- c()\n",
    "data4_i <- c()\n",
    "data5_i <- c()\n",
    "data6_i <- c()\n",
    "data7_i <- c()\n",
    "data8_i <- c()\n",
    "DF <- c()\n",
    "\n",
    "for(j in 2020){\n",
    "    for(i in seq(1, 12, by=1)){\n",
    "        data1 <- with(data_purpose, round(mean(clothes_rel[(Year == j) & (Month == i)])))\n",
    "        data2 <- with(data_purpose, round(mean(clothes_ab[(Year == j) & (Month == i)])))\n",
    "        data3 <- with(data_purpose, round(mean(cosmetic_rel[(Year == j) & (Month == i)])))\n",
    "        data4 <- with(data_purpose, round(mean(cosmetic_ab[(Year == j) & (Month == i)])))\n",
    "        data5 <- with(data_purpose, round(mean(dye_rel[(Year == j) & (Month == i)])))\n",
    "        data6 <- with(data_purpose, round(mean(dye_ab[(Year == j) & (Month == i)])))\n",
    "        data7 <- with(data_purpose, round(mean(accessory_rel[(Year == j) & (Month == i)])))\n",
    "        data8 <- with(data_purpose, round(mean(accessory_ab[(Year == j) & (Month == i)])))\n",
    "        \n",
    "        year_j[[(i)]] <- c(j)\n",
    "        month_i[[(i)]] <- c(i)\n",
    "        \n",
    "        data1_i[[(i)]] <- data1\n",
    "        data2_i[[(i)]] <- data2\n",
    "        data3_i[[(i)]] <- data3\n",
    "        data4_i[[(i)]] <- data4\n",
    "        data5_i[[(i)]] <- data5\n",
    "        data6_i[[(i)]] <- data6\n",
    "        data7_i[[(i)]] <- data7\n",
    "        data8_i[[(i)]] <- data8\n",
    "        \n",
    "        df <- data.frame(year=year_j, month=month_i, clothes_rel=data1_i, clothes_ab=data2_i,\n",
    "                        cosmetic_rel=data3_i, cosmetic_ab=data4_i, dye_rel=data5_i, dye_ab=data6_i,\n",
    "                        accessory_rel=data7_i, accessory_ab=data8_i)\n",
    "    }\n",
    "    DF <- rbind(DF, df)\n",
    "    DF_2020 <- na.omit(DF)\n",
    "}\n",
    "\n",
    "DF_2020"
   ]
  },
  {
   "cell_type": "code",
   "execution_count": 193,
   "metadata": {},
   "outputs": [
    {
     "data": {
      "image/png": "[encoded data removed]",
      "text/plain": [
       "plot without title"
      ]
     },
     "metadata": {},
     "output_type": "display_data"
    }
   ],
   "source": [
    "# 2020_상대값\n",
    "# 시각화\n",
    "ggplot(DF_2020, aes(x=month, y=clothes_rel)) + geom_line(color=\"blue\") +  ylim(0, 100) + \n",
    "    geom_line(aes(x=month, y=cosmetic_rel), color=\"red\") +\n",
    "    geom_line(aes(x=month, y=dye_rel), color=\"green\") +\n",
    "    geom_line(aes(x=month, y=accessory_rel), color=\"purple\")"
   ]
  },
  {
   "cell_type": "markdown",
   "metadata": {},
   "source": [
    "    2020년도 한달별 검색결과 상대적으로 알아보면,\n",
    "    비슷한 양상을 띔"
   ]
  },
  {
   "cell_type": "code",
   "execution_count": 194,
   "metadata": {},
   "outputs": [
    {
     "data": {
      "image/png": "[encoded data removed]",
      "text/plain": [
       "plot without title"
      ]
     },
     "metadata": {},
     "output_type": "display_data"
    }
   ],
   "source": [
    "# 2020_조회수\n",
    "# 시각화\n",
    "ggplot(DF_2020, aes(x=month, y=clothes_ab)) + geom_line(color=\"blue\") +  ylim(0, 2500) + \n",
    "    geom_line(aes(x=month, y=cosmetic_ab), color=\"red\") +\n",
    "    geom_line(aes(x=month, y=dye_ab), color=\"green\") +\n",
    "    geom_line(aes(x=month, y=accessory_ab), color=\"purple\")"
   ]
  },
  {
   "cell_type": "markdown",
   "metadata": {},
   "source": [
    "    2020년도 한달별 검색결과 절대적(조회수)으로 알아보면,\n",
    "    비슷한 양상을 띔"
   ]
  },
  {
   "cell_type": "code",
   "execution_count": null,
   "metadata": {},
   "outputs": [],
   "source": []
  },
  {
   "cell_type": "markdown",
   "metadata": {},
   "source": [
    "### 6개월 평균"
   ]
  },
  {
   "cell_type": "code",
   "execution_count": 195,
   "metadata": {},
   "outputs": [
    {
     "name": "stdout",
     "output_type": "stream",
     "text": [
      "'data.frame':\t9 obs. of  9 variables:\n",
      " $ columns      : Factor w/ 9 levels \"2016_aw\",\"2016_ss\",..: 2 1 4 3 6 5 8 7 9\n",
      "  ..- attr(*, \"names\")= chr  \"name_ss\" \"name_aw\" \"name_ss\" \"name_aw\" ...\n",
      " $ clothes_rel  : num  51 53 54 51 53 44 47 54 64\n",
      " $ clothes_ab   : num  988 1038 1046 991 1036 ...\n",
      " $ cosmetic_rel : num  49 43 39 34 32 26 25 29 34\n",
      " $ cosmetic_ab  : num  1504 1328 1203 1048 992 ...\n",
      " $ dye_rel      : num  68 58 58 45 44 35 36 39 43\n",
      " $ dye_ab       : num  2221 1910 1914 1457 1433 ...\n",
      " $ accessory_rel: num  37 42 41 39 39 31 33 43 54\n",
      " $ accessory_ab : num  551 620 610 581 587 470 488 642 810\n"
     ]
    },
    {
     "data": {
      "text/html": [
       "<table>\n",
       "<thead><tr><th></th><th scope=col>columns</th><th scope=col>clothes_rel</th><th scope=col>clothes_ab</th><th scope=col>cosmetic_rel</th><th scope=col>cosmetic_ab</th><th scope=col>dye_rel</th><th scope=col>dye_ab</th><th scope=col>accessory_rel</th><th scope=col>accessory_ab</th></tr></thead>\n",
       "<tbody>\n",
       "\t<tr><th scope=row>name_ss</th><td>2016_ss</td><td>51     </td><td> 988   </td><td>49     </td><td>1504   </td><td>68     </td><td>2221   </td><td>37     </td><td>551    </td></tr>\n",
       "\t<tr><th scope=row>name_aw</th><td>2016_aw</td><td>53     </td><td>1038   </td><td>43     </td><td>1328   </td><td>58     </td><td>1910   </td><td>42     </td><td>620    </td></tr>\n",
       "\t<tr><th scope=row>name_ss.1</th><td>2017_ss</td><td>54     </td><td>1046   </td><td>39     </td><td>1203   </td><td>58     </td><td>1914   </td><td>41     </td><td>610    </td></tr>\n",
       "\t<tr><th scope=row>name_aw.1</th><td>2017_aw</td><td>51     </td><td> 991   </td><td>34     </td><td>1048   </td><td>45     </td><td>1457   </td><td>39     </td><td>581    </td></tr>\n",
       "\t<tr><th scope=row>name_ss.2</th><td>2018_ss</td><td>53     </td><td>1036   </td><td>32     </td><td> 992   </td><td>44     </td><td>1433   </td><td>39     </td><td>587    </td></tr>\n",
       "\t<tr><th scope=row>name_aw.2</th><td>2018_aw</td><td>44     </td><td> 863   </td><td>26     </td><td> 791   </td><td>35     </td><td>1132   </td><td>31     </td><td>470    </td></tr>\n",
       "\t<tr><th scope=row>name_ss.3</th><td>2019_ss</td><td>47     </td><td> 916   </td><td>25     </td><td> 758   </td><td>36     </td><td>1176   </td><td>33     </td><td>488    </td></tr>\n",
       "\t<tr><th scope=row>name_aw.3</th><td>2019_aw</td><td>54     </td><td>1044   </td><td>29     </td><td> 894   </td><td>39     </td><td>1279   </td><td>43     </td><td>642    </td></tr>\n",
       "\t<tr><th scope=row>name_20</th><td>2020_ss</td><td>64     </td><td>1248   </td><td>34     </td><td>1055   </td><td>43     </td><td>1422   </td><td>54     </td><td>810    </td></tr>\n",
       "</tbody>\n",
       "</table>\n"
      ],
      "text/latex": [
       "\\begin{tabular}{r|lllllllll}\n",
       "  & columns & clothes\\_rel & clothes\\_ab & cosmetic\\_rel & cosmetic\\_ab & dye\\_rel & dye\\_ab & accessory\\_rel & accessory\\_ab\\\\\n",
       "\\hline\n",
       "\tname\\_ss & 2016\\_ss & 51        &  988      & 49        & 1504      & 68        & 2221      & 37        & 551      \\\\\n",
       "\tname\\_aw & 2016\\_aw & 53        & 1038      & 43        & 1328      & 58        & 1910      & 42        & 620      \\\\\n",
       "\tname\\_ss.1 & 2017\\_ss & 54        & 1046      & 39        & 1203      & 58        & 1914      & 41        & 610      \\\\\n",
       "\tname\\_aw.1 & 2017\\_aw & 51        &  991      & 34        & 1048      & 45        & 1457      & 39        & 581      \\\\\n",
       "\tname\\_ss.2 & 2018\\_ss & 53        & 1036      & 32        &  992      & 44        & 1433      & 39        & 587      \\\\\n",
       "\tname\\_aw.2 & 2018\\_aw & 44        &  863      & 26        &  791      & 35        & 1132      & 31        & 470      \\\\\n",
       "\tname\\_ss.3 & 2019\\_ss & 47        &  916      & 25        &  758      & 36        & 1176      & 33        & 488      \\\\\n",
       "\tname\\_aw.3 & 2019\\_aw & 54        & 1044      & 29        &  894      & 39        & 1279      & 43        & 642      \\\\\n",
       "\tname\\_20 & 2020\\_ss & 64        & 1248      & 34        & 1055      & 43        & 1422      & 54        & 810      \\\\\n",
       "\\end{tabular}\n"
      ],
      "text/markdown": [
       "\n",
       "| <!--/--> | columns | clothes_rel | clothes_ab | cosmetic_rel | cosmetic_ab | dye_rel | dye_ab | accessory_rel | accessory_ab |\n",
       "|---|---|---|---|---|---|---|---|---|---|\n",
       "| name_ss | 2016_ss | 51      |  988    | 49      | 1504    | 68      | 2221    | 37      | 551     |\n",
       "| name_aw | 2016_aw | 53      | 1038    | 43      | 1328    | 58      | 1910    | 42      | 620     |\n",
       "| name_ss.1 | 2017_ss | 54      | 1046    | 39      | 1203    | 58      | 1914    | 41      | 610     |\n",
       "| name_aw.1 | 2017_aw | 51      |  991    | 34      | 1048    | 45      | 1457    | 39      | 581     |\n",
       "| name_ss.2 | 2018_ss | 53      | 1036    | 32      |  992    | 44      | 1433    | 39      | 587     |\n",
       "| name_aw.2 | 2018_aw | 44      |  863    | 26      |  791    | 35      | 1132    | 31      | 470     |\n",
       "| name_ss.3 | 2019_ss | 47      |  916    | 25      |  758    | 36      | 1176    | 33      | 488     |\n",
       "| name_aw.3 | 2019_aw | 54      | 1044    | 29      |  894    | 39      | 1279    | 43      | 642     |\n",
       "| name_20 | 2020_ss | 64      | 1248    | 34      | 1055    | 43      | 1422    | 54      | 810     |\n",
       "\n"
      ],
      "text/plain": [
       "          columns clothes_rel clothes_ab cosmetic_rel cosmetic_ab dye_rel\n",
       "name_ss   2016_ss 51           988       49           1504        68     \n",
       "name_aw   2016_aw 53          1038       43           1328        58     \n",
       "name_ss.1 2017_ss 54          1046       39           1203        58     \n",
       "name_aw.1 2017_aw 51           991       34           1048        45     \n",
       "name_ss.2 2018_ss 53          1036       32            992        44     \n",
       "name_aw.2 2018_aw 44           863       26            791        35     \n",
       "name_ss.3 2019_ss 47           916       25            758        36     \n",
       "name_aw.3 2019_aw 54          1044       29            894        39     \n",
       "name_20   2020_ss 64          1248       34           1055        43     \n",
       "          dye_ab accessory_rel accessory_ab\n",
       "name_ss   2221   37            551         \n",
       "name_aw   1910   42            620         \n",
       "name_ss.1 1914   41            610         \n",
       "name_aw.1 1457   39            581         \n",
       "name_ss.2 1433   39            587         \n",
       "name_aw.2 1132   31            470         \n",
       "name_ss.3 1176   33            488         \n",
       "name_aw.3 1279   43            642         \n",
       "name_20   1422   54            810         "
      ]
     },
     "metadata": {},
     "output_type": "display_data"
    }
   ],
   "source": [
    "## 6개월씩 묶은 데이터프레임 생성\n",
    "\n",
    "ss <- c(\"1\", \"2\", \"3\", \"4\", \"5\", \"6\")\n",
    "aw <- c(\"7\", \"8\", \"9\", \"10\", \"11\", \"12\")\n",
    "\n",
    "# clothes_rel\n",
    "DF1 <- c()\n",
    "\n",
    "for(i in seq(2016, 2019, by=1)){\n",
    "    name_ss <- with(data_purpose, round(mean(clothes_rel[(Year == i) & (Month %in% ss)])))\n",
    "    name_aw <- with(data_purpose, round(mean(clothes_rel[(Year == i) & (Month %in% aw)])))\n",
    "    df <- data.frame(name_ss, name_aw)\n",
    "    df <- t(df)\n",
    "    DF1 <- rbind(DF1, df)\n",
    "    colnames(DF1) <- c(\"clothes_rel\")\n",
    "}\n",
    "name_20 <- with(data_purpose, round(mean(clothes_rel[(Year == 2020)])))\n",
    "DF1 <- rbind(DF1, name_20)\n",
    "\n",
    "# clothes_ab\n",
    "DF2 <- c()\n",
    "\n",
    "for(i in seq(2016, 2019, by=1)){\n",
    "    name_ss <- with(data_purpose, round(mean(clothes_ab[(Year == i) & (Month %in% ss)])))\n",
    "    name_aw <- with(data_purpose, round(mean(clothes_ab[(Year == i) & (Month %in% aw)])))\n",
    "    df <- data.frame(name_ss, name_aw)\n",
    "    df <- t(df)\n",
    "    DF2 <- rbind(DF2, df)\n",
    "    colnames(DF2) <- c(\"clothes_ab\")\n",
    "}\n",
    "name_20 <- with(data_purpose, round(mean(clothes_ab[(Year == 2020)])))\n",
    "DF2 <- rbind(DF2, name_20)\n",
    "\n",
    "\n",
    "# cosmetic_rel\n",
    "DF3 <- c()\n",
    "\n",
    "for(i in seq(2016, 2019, by=1)){\n",
    "    name_ss <- with(data_purpose, round(mean(cosmetic_rel[(Year == i) & (Month %in% ss)])))\n",
    "    name_aw <- with(data_purpose, round(mean(cosmetic_rel[(Year == i) & (Month %in% aw)])))\n",
    "    df <- data.frame(name_ss, name_aw)\n",
    "    df <- t(df)\n",
    "    DF3 <- rbind(DF3, df)\n",
    "    colnames(DF3) <- c(\"cosmetic_rel\")\n",
    "}\n",
    "name_20 <- with(data_purpose, round(mean(cosmetic_rel[(Year == 2020)])))\n",
    "DF3 <- rbind(DF3, name_20)\n",
    "\n",
    "\n",
    "# cosmetic_ab\n",
    "DF4 <- c()\n",
    "\n",
    "for(i in seq(2016, 2019, by=1)){\n",
    "    name_ss <- with(data_purpose, round(mean(cosmetic_ab[(Year == i) & (Month %in% ss)])))\n",
    "    name_aw <- with(data_purpose, round(mean(cosmetic_ab[(Year == i) & (Month %in% aw)])))\n",
    "    df <- data.frame(name_ss, name_aw)\n",
    "    df <- t(df)\n",
    "    DF4 <- rbind(DF4, df)\n",
    "    colnames(DF4) <- c(\"cosmetic_ab\")\n",
    "}\n",
    "name_20 <- with(data_purpose, round(mean(cosmetic_ab[(Year == 2020)])))\n",
    "DF4 <- rbind(DF4, name_20)\n",
    "\n",
    "\n",
    "# dye_rel\n",
    "DF5 <- c()\n",
    "\n",
    "for(i in seq(2016, 2019, by=1)){\n",
    "    name_ss <- with(data_purpose, round(mean(dye_rel[(Year == i) & (Month %in% ss)])))\n",
    "    name_aw <- with(data_purpose, round(mean(dye_rel[(Year == i) & (Month %in% aw)])))\n",
    "    df <- data.frame(name_ss, name_aw)\n",
    "    df <- t(df)\n",
    "    DF5 <- rbind(DF5, df)\n",
    "    colnames(DF5) <- c(\"dye_rel\")\n",
    "}\n",
    "name_20 <- with(data_purpose, round(mean(dye_rel[(Year == 2020)])))\n",
    "DF5 <- rbind(DF5, name_20)\n",
    "\n",
    "\n",
    "# dye_ab\n",
    "DF6 <- c()\n",
    "\n",
    "for(i in seq(2016, 2019, by=1)){\n",
    "    name_ss <- with(data_purpose, round(mean(dye_ab[(Year == i) & (Month %in% ss)])))\n",
    "    name_aw <- with(data_purpose, round(mean(dye_ab[(Year == i) & (Month %in% aw)])))\n",
    "    df <- data.frame(name_ss, name_aw)\n",
    "    df <- t(df)\n",
    "    DF6 <- rbind(DF6, df)\n",
    "    colnames(DF6) <- c(\"dye_ab\")\n",
    "}\n",
    "name_20 <- with(data_purpose, round(mean(dye_ab[(Year == 2020)])))\n",
    "DF6 <- rbind(DF6, name_20)\n",
    "\n",
    "\n",
    "# accessory_rel\n",
    "DF7 <- c()\n",
    "\n",
    "for(i in seq(2016, 2019, by=1)){\n",
    "    name_ss <- with(data_purpose, round(mean(accessory_rel[(Year == i) & (Month %in% ss)])))\n",
    "    name_aw <- with(data_purpose, round(mean(accessory_rel[(Year == i) & (Month %in% aw)])))\n",
    "    df <- data.frame(name_ss, name_aw)\n",
    "    df <- t(df)\n",
    "    DF7 <- rbind(DF7, df)\n",
    "    colnames(DF7) <- c(\"accessory_rel\")\n",
    "}\n",
    "name_20 <- with(data_purpose, round(mean(accessory_rel[(Year == 2020)])))\n",
    "DF7 <- rbind(DF7, name_20)\n",
    "\n",
    "\n",
    "# accessory_ab\n",
    "DF8 <- c()\n",
    "\n",
    "for(i in seq(2016, 2019, by=1)){\n",
    "    name_ss <- with(data_purpose, round(mean(accessory_ab[(Year == i) & (Month %in% ss)])))\n",
    "    name_aw <- with(data_purpose, round(mean(accessory_ab[(Year == i) & (Month %in% aw)])))\n",
    "    df <- data.frame(name_ss, name_aw)\n",
    "    df <- t(df)\n",
    "    DF8 <- rbind(DF8, df)\n",
    "    colnames(DF8) <- c(\"accessory_ab\")\n",
    "}\n",
    "name_20 <- with(data_purpose, round(mean(accessory_ab[(Year == 2020)])))\n",
    "DF8 <- rbind(DF8, name_20)\n",
    "\n",
    "\n",
    "# 인덱스명 변경\n",
    "columns <- c(\"2016_ss\", \"2016_aw\", \"2017_ss\", \"2017_aw\", \n",
    "                  \"2018_ss\", \"2018_aw\", \"2019_ss\", \"2019_aw\", \"2020_ss\")\n",
    "\n",
    "\n",
    "# 합치기\n",
    "DF <- cbind(columns, DF1)\n",
    "DF <- cbind(DF, DF2)\n",
    "DF <- cbind(DF, DF3)\n",
    "DF <- cbind(DF, DF4)\n",
    "DF <- cbind(DF, DF5)\n",
    "DF <- cbind(DF, DF6)\n",
    "DF <- cbind(DF, DF7)\n",
    "DF <- cbind(DF, DF8)\n",
    "\n",
    "# 형식전환\n",
    "DF2 <- as.data.frame(DF)\n",
    "DF2$clothes_rel <- as.numeric(as.character(DF2$clothes_rel))\n",
    "DF2$clothes_ab <- as.numeric(as.character(DF2$clothes_ab))\n",
    "DF2$cosmetic_rel <- as.numeric(as.character(DF2$cosmetic_rel))\n",
    "DF2$cosmetic_ab <- as.numeric(as.character(DF2$cosmetic_ab))\n",
    "DF2$dye_rel <- as.numeric(as.character(DF2$dye_rel))\n",
    "DF2$dye_ab <- as.numeric(as.character(DF2$dye_ab))\n",
    "DF2$accessory_rel <- as.numeric(as.character(DF2$accessory_rel))\n",
    "DF2$accessory_ab <- as.numeric(as.character(DF2$accessory_ab))\n",
    "\n",
    "# 확인\n",
    "str(DF2)\n",
    "DF2"
   ]
  },
  {
   "cell_type": "code",
   "execution_count": 196,
   "metadata": {},
   "outputs": [
    {
     "data": {
      "image/png": "[encoded data removed]",
      "text/plain": [
       "plot without title"
      ]
     },
     "metadata": {},
     "output_type": "display_data"
    }
   ],
   "source": [
    "# 6개월 평균 상대값\n",
    "\n",
    "ggplot(DF2, aes(x=columns, y=clothes_rel, group=1)) + geom_line(color=\"blue\") +\n",
    "    ylim(0, 100) + ggtitle(\"6개월 평균 상대값\") + xlab(\"Month(6개월)\") + \n",
    "    geom_line(aes(x=columns, y=cosmetic_rel), color=\"red\") +\n",
    "    geom_line(aes(x=columns, y=dye_rel), color=\"green\") +\n",
    "    geom_line(aes(x=columns, y=accessory_rel), color=\"purple\")"
   ]
  },
  {
   "cell_type": "markdown",
   "metadata": {},
   "source": [
    "    2016년도 부터 2020년도 까지, 6개월 평균 검색결과를 상대적으로 알아보면,\n",
    "    옷(blue), 화장품(red), 악세서리(purple) 비슷한 형태보임\n",
    "    염색(green) 감소하는 추세"
   ]
  },
  {
   "cell_type": "code",
   "execution_count": 197,
   "metadata": {},
   "outputs": [
    {
     "data": {
      "image/png": "[encoded data removed]",
      "text/plain": [
       "plot without title"
      ]
     },
     "metadata": {},
     "output_type": "display_data"
    }
   ],
   "source": [
    "# 6개월 평균 조회수(절대값)\n",
    "\n",
    "ggplot(DF2, aes(x=columns, y=clothes_ab, group=1)) + geom_line(color=\"blue\") + ylim(0, 2500) + \n",
    "    ggtitle(\"6개월 평균 조회수(절대값)\") + xlab(\"Month(6개월)\") + \n",
    "    geom_line(aes(x=columns, y=cosmetic_ab), color=\"red\") +\n",
    "    geom_line(aes(x=columns, y=dye_ab), color=\"green\") +\n",
    "    geom_line(aes(x=columns, y=accessory_ab), color=\"purple\")"
   ]
  },
  {
   "cell_type": "markdown",
   "metadata": {},
   "source": [
    "    2016년도 부터 2020년도 까지, 6개월 평균 검색결과를 절대적(조회수)으로 알아보면,\n",
    "    옷(blue), 악세서리(purple) 비슷한 양상을 띔, 미미하게 증가\n",
    "    화장품(red), 염색(green) 비슷한 양상을 띔, 점점 감소"
   ]
  },
  {
   "cell_type": "code",
   "execution_count": null,
   "metadata": {},
   "outputs": [],
   "source": []
  },
  {
   "cell_type": "markdown",
   "metadata": {},
   "source": [
    "### 분기별(3개월) 평균"
   ]
  },
  {
   "cell_type": "code",
   "execution_count": 198,
   "metadata": {},
   "outputs": [
    {
     "name": "stdout",
     "output_type": "stream",
     "text": [
      "'data.frame':\t17 obs. of  9 variables:\n",
      " $ columns      : Factor w/ 17 levels \"2016_autumn\",..: 2 3 1 4 6 7 5 8 10 11 ...\n",
      "  ..- attr(*, \"names\")= chr  \"name_sp\" \"name_su\" \"name_au\" \"name_wi\" ...\n",
      " $ clothes_rel  : num  54 48 52 54 56 52 53 49 55 51 ...\n",
      " $ clothes_ab   : num  1050 926 1018 1058 1081 ...\n",
      " $ cosmetic_rel : num  56 42 43 44 43 35 35 33 34 30 ...\n",
      " $ cosmetic_ab  : num  1710 1298 1309 1347 1321 ...\n",
      " $ dye_rel      : num  69 67 64 53 60 57 51 38 45 42 ...\n",
      " $ dye_ab       : num  2254 2189 2086 1733 1953 ...\n",
      " $ accessory_rel: num  43 31 40 43 44 38 41 37 42 37 ...\n",
      " $ accessory_ab : num  635 466 602 638 651 570 614 548 620 554 ...\n"
     ]
    },
    {
     "data": {
      "text/html": [
       "<table>\n",
       "<thead><tr><th></th><th scope=col>columns</th><th scope=col>clothes_rel</th><th scope=col>clothes_ab</th><th scope=col>cosmetic_rel</th><th scope=col>cosmetic_ab</th><th scope=col>dye_rel</th><th scope=col>dye_ab</th><th scope=col>accessory_rel</th><th scope=col>accessory_ab</th></tr></thead>\n",
       "<tbody>\n",
       "\t<tr><th scope=row>name_sp</th><td>2016_spring</td><td>54         </td><td>1050       </td><td>56         </td><td>1710       </td><td>69         </td><td>2254       </td><td>43         </td><td>635        </td></tr>\n",
       "\t<tr><th scope=row>name_su</th><td>2016_summer</td><td>48         </td><td> 926       </td><td>42         </td><td>1298       </td><td>67         </td><td>2189       </td><td>31         </td><td>466        </td></tr>\n",
       "\t<tr><th scope=row>name_au</th><td>2016_autumn</td><td>52         </td><td>1018       </td><td>43         </td><td>1309       </td><td>64         </td><td>2086       </td><td>40         </td><td>602        </td></tr>\n",
       "\t<tr><th scope=row>name_wi</th><td>2016_winter</td><td>54         </td><td>1058       </td><td>44         </td><td>1347       </td><td>53         </td><td>1733       </td><td>43         </td><td>638        </td></tr>\n",
       "\t<tr><th scope=row>name_sp.1</th><td>2017_spring</td><td>56         </td><td>1081       </td><td>43         </td><td>1321       </td><td>60         </td><td>1953       </td><td>44         </td><td>651        </td></tr>\n",
       "\t<tr><th scope=row>name_su.1</th><td>2017_summer</td><td>52         </td><td>1011       </td><td>35         </td><td>1087       </td><td>57         </td><td>1875       </td><td>38         </td><td>570        </td></tr>\n",
       "\t<tr><th scope=row>name_au.1</th><td>2017_autumn</td><td>53         </td><td>1030       </td><td>35         </td><td>1074       </td><td>51         </td><td>1656       </td><td>41         </td><td>614        </td></tr>\n",
       "\t<tr><th scope=row>name_wi.1</th><td>2017_winter</td><td>49         </td><td> 951       </td><td>33         </td><td>1023       </td><td>38         </td><td>1259       </td><td>37         </td><td>548        </td></tr>\n",
       "\t<tr><th scope=row>name_sp.2</th><td>2018_spring</td><td>55         </td><td>1072       </td><td>34         </td><td>1055       </td><td>45         </td><td>1479       </td><td>42         </td><td>620        </td></tr>\n",
       "\t<tr><th scope=row>name_su.2</th><td>2018_summer</td><td>51         </td><td>1000       </td><td>30         </td><td> 930       </td><td>42         </td><td>1388       </td><td>37         </td><td>554        </td></tr>\n",
       "\t<tr><th scope=row>name_au.2</th><td>2018_autumn</td><td>44         </td><td> 854       </td><td>25         </td><td> 784       </td><td>37         </td><td>1217       </td><td>31         </td><td>463        </td></tr>\n",
       "\t<tr><th scope=row>name_wi.2</th><td>2018_winter</td><td>45         </td><td> 872       </td><td>26         </td><td> 798       </td><td>32         </td><td>1046       </td><td>32         </td><td>478        </td></tr>\n",
       "\t<tr><th scope=row>name_sp.3</th><td>2019_spring</td><td>49         </td><td> 948       </td><td>26         </td><td> 813       </td><td>37         </td><td>1212       </td><td>35         </td><td>528        </td></tr>\n",
       "\t<tr><th scope=row>name_su.3</th><td>2019_summer</td><td>46         </td><td> 884       </td><td>23         </td><td> 703       </td><td>35         </td><td>1140       </td><td>30         </td><td>449        </td></tr>\n",
       "\t<tr><th scope=row>name_au.3</th><td>2019_autumn</td><td>47         </td><td> 905       </td><td>24         </td><td> 738       </td><td>36         </td><td>1177       </td><td>34         </td><td>509        </td></tr>\n",
       "\t<tr><th scope=row>name_wi.3</th><td>2019_winter</td><td>61         </td><td>1182       </td><td>34         </td><td>1050       </td><td>42         </td><td>1381       </td><td>52         </td><td>775        </td></tr>\n",
       "\t<tr><th scope=row>name_20</th><td>2020_spring</td><td>64         </td><td>1248       </td><td>34         </td><td>1055       </td><td>43         </td><td>1422       </td><td>54         </td><td>810        </td></tr>\n",
       "</tbody>\n",
       "</table>\n"
      ],
      "text/latex": [
       "\\begin{tabular}{r|lllllllll}\n",
       "  & columns & clothes\\_rel & clothes\\_ab & cosmetic\\_rel & cosmetic\\_ab & dye\\_rel & dye\\_ab & accessory\\_rel & accessory\\_ab\\\\\n",
       "\\hline\n",
       "\tname\\_sp & 2016\\_spring & 54            & 1050          & 56            & 1710          & 69            & 2254          & 43            & 635          \\\\\n",
       "\tname\\_su & 2016\\_summer & 48            &  926          & 42            & 1298          & 67            & 2189          & 31            & 466          \\\\\n",
       "\tname\\_au & 2016\\_autumn & 52            & 1018          & 43            & 1309          & 64            & 2086          & 40            & 602          \\\\\n",
       "\tname\\_wi & 2016\\_winter & 54            & 1058          & 44            & 1347          & 53            & 1733          & 43            & 638          \\\\\n",
       "\tname\\_sp.1 & 2017\\_spring & 56            & 1081          & 43            & 1321          & 60            & 1953          & 44            & 651          \\\\\n",
       "\tname\\_su.1 & 2017\\_summer & 52            & 1011          & 35            & 1087          & 57            & 1875          & 38            & 570          \\\\\n",
       "\tname\\_au.1 & 2017\\_autumn & 53            & 1030          & 35            & 1074          & 51            & 1656          & 41            & 614          \\\\\n",
       "\tname\\_wi.1 & 2017\\_winter & 49            &  951          & 33            & 1023          & 38            & 1259          & 37            & 548          \\\\\n",
       "\tname\\_sp.2 & 2018\\_spring & 55            & 1072          & 34            & 1055          & 45            & 1479          & 42            & 620          \\\\\n",
       "\tname\\_su.2 & 2018\\_summer & 51            & 1000          & 30            &  930          & 42            & 1388          & 37            & 554          \\\\\n",
       "\tname\\_au.2 & 2018\\_autumn & 44            &  854          & 25            &  784          & 37            & 1217          & 31            & 463          \\\\\n",
       "\tname\\_wi.2 & 2018\\_winter & 45            &  872          & 26            &  798          & 32            & 1046          & 32            & 478          \\\\\n",
       "\tname\\_sp.3 & 2019\\_spring & 49            &  948          & 26            &  813          & 37            & 1212          & 35            & 528          \\\\\n",
       "\tname\\_su.3 & 2019\\_summer & 46            &  884          & 23            &  703          & 35            & 1140          & 30            & 449          \\\\\n",
       "\tname\\_au.3 & 2019\\_autumn & 47            &  905          & 24            &  738          & 36            & 1177          & 34            & 509          \\\\\n",
       "\tname\\_wi.3 & 2019\\_winter & 61            & 1182          & 34            & 1050          & 42            & 1381          & 52            & 775          \\\\\n",
       "\tname\\_20 & 2020\\_spring & 64            & 1248          & 34            & 1055          & 43            & 1422          & 54            & 810          \\\\\n",
       "\\end{tabular}\n"
      ],
      "text/markdown": [
       "\n",
       "| <!--/--> | columns | clothes_rel | clothes_ab | cosmetic_rel | cosmetic_ab | dye_rel | dye_ab | accessory_rel | accessory_ab |\n",
       "|---|---|---|---|---|---|---|---|---|---|\n",
       "| name_sp | 2016_spring | 54          | 1050        | 56          | 1710        | 69          | 2254        | 43          | 635         |\n",
       "| name_su | 2016_summer | 48          |  926        | 42          | 1298        | 67          | 2189        | 31          | 466         |\n",
       "| name_au | 2016_autumn | 52          | 1018        | 43          | 1309        | 64          | 2086        | 40          | 602         |\n",
       "| name_wi | 2016_winter | 54          | 1058        | 44          | 1347        | 53          | 1733        | 43          | 638         |\n",
       "| name_sp.1 | 2017_spring | 56          | 1081        | 43          | 1321        | 60          | 1953        | 44          | 651         |\n",
       "| name_su.1 | 2017_summer | 52          | 1011        | 35          | 1087        | 57          | 1875        | 38          | 570         |\n",
       "| name_au.1 | 2017_autumn | 53          | 1030        | 35          | 1074        | 51          | 1656        | 41          | 614         |\n",
       "| name_wi.1 | 2017_winter | 49          |  951        | 33          | 1023        | 38          | 1259        | 37          | 548         |\n",
       "| name_sp.2 | 2018_spring | 55          | 1072        | 34          | 1055        | 45          | 1479        | 42          | 620         |\n",
       "| name_su.2 | 2018_summer | 51          | 1000        | 30          |  930        | 42          | 1388        | 37          | 554         |\n",
       "| name_au.2 | 2018_autumn | 44          |  854        | 25          |  784        | 37          | 1217        | 31          | 463         |\n",
       "| name_wi.2 | 2018_winter | 45          |  872        | 26          |  798        | 32          | 1046        | 32          | 478         |\n",
       "| name_sp.3 | 2019_spring | 49          |  948        | 26          |  813        | 37          | 1212        | 35          | 528         |\n",
       "| name_su.3 | 2019_summer | 46          |  884        | 23          |  703        | 35          | 1140        | 30          | 449         |\n",
       "| name_au.3 | 2019_autumn | 47          |  905        | 24          |  738        | 36          | 1177        | 34          | 509         |\n",
       "| name_wi.3 | 2019_winter | 61          | 1182        | 34          | 1050        | 42          | 1381        | 52          | 775         |\n",
       "| name_20 | 2020_spring | 64          | 1248        | 34          | 1055        | 43          | 1422        | 54          | 810         |\n",
       "\n"
      ],
      "text/plain": [
       "          columns     clothes_rel clothes_ab cosmetic_rel cosmetic_ab dye_rel\n",
       "name_sp   2016_spring 54          1050       56           1710        69     \n",
       "name_su   2016_summer 48           926       42           1298        67     \n",
       "name_au   2016_autumn 52          1018       43           1309        64     \n",
       "name_wi   2016_winter 54          1058       44           1347        53     \n",
       "name_sp.1 2017_spring 56          1081       43           1321        60     \n",
       "name_su.1 2017_summer 52          1011       35           1087        57     \n",
       "name_au.1 2017_autumn 53          1030       35           1074        51     \n",
       "name_wi.1 2017_winter 49           951       33           1023        38     \n",
       "name_sp.2 2018_spring 55          1072       34           1055        45     \n",
       "name_su.2 2018_summer 51          1000       30            930        42     \n",
       "name_au.2 2018_autumn 44           854       25            784        37     \n",
       "name_wi.2 2018_winter 45           872       26            798        32     \n",
       "name_sp.3 2019_spring 49           948       26            813        37     \n",
       "name_su.3 2019_summer 46           884       23            703        35     \n",
       "name_au.3 2019_autumn 47           905       24            738        36     \n",
       "name_wi.3 2019_winter 61          1182       34           1050        42     \n",
       "name_20   2020_spring 64          1248       34           1055        43     \n",
       "          dye_ab accessory_rel accessory_ab\n",
       "name_sp   2254   43            635         \n",
       "name_su   2189   31            466         \n",
       "name_au   2086   40            602         \n",
       "name_wi   1733   43            638         \n",
       "name_sp.1 1953   44            651         \n",
       "name_su.1 1875   38            570         \n",
       "name_au.1 1656   41            614         \n",
       "name_wi.1 1259   37            548         \n",
       "name_sp.2 1479   42            620         \n",
       "name_su.2 1388   37            554         \n",
       "name_au.2 1217   31            463         \n",
       "name_wi.2 1046   32            478         \n",
       "name_sp.3 1212   35            528         \n",
       "name_su.3 1140   30            449         \n",
       "name_au.3 1177   34            509         \n",
       "name_wi.3 1381   52            775         \n",
       "name_20   1422   54            810         "
      ]
     },
     "metadata": {},
     "output_type": "display_data"
    }
   ],
   "source": [
    "## 6개월씩 묶은 데이터프레임 생성\n",
    "\n",
    "sp <- c(\"1\", \"2\", \"3\")\n",
    "su <- c(\"4\", \"5\", \"6\")\n",
    "au <- c(\"7\", \"8\", \"9\")\n",
    "wi <- c(\"10\", \"11\", \"12\")\n",
    "\n",
    "# clothes_rel\n",
    "DF1 <- c()\n",
    "\n",
    "for(i in seq(2016, 2019, by=1)){\n",
    "    name_sp <- with(data_purpose, round(mean(clothes_rel[(Year == i) & (Month %in% sp)])))\n",
    "    name_su <- with(data_purpose, round(mean(clothes_rel[(Year == i) & (Month %in% su)])))\n",
    "    name_au <- with(data_purpose, round(mean(clothes_rel[(Year == i) & (Month %in% au)])))\n",
    "    name_wi <- with(data_purpose, round(mean(clothes_rel[(Year == i) & (Month %in% wi)])))\n",
    "    df <- data.frame(name_sp, name_su, name_au, name_wi)\n",
    "    df <- t(df)\n",
    "    DF1 <- rbind(DF1, df)\n",
    "    colnames(DF1) <- c(\"clothes_rel\")\n",
    "}\n",
    "name_20 <- with(data_purpose, round(mean(clothes_rel[(Year == 2020)])))\n",
    "DF1 <- rbind(DF1, name_20)\n",
    "\n",
    "# clothes_ab\n",
    "DF2 <- c()\n",
    "\n",
    "for(i in seq(2016, 2019, by=1)){\n",
    "    name_sp <- with(data_purpose, round(mean(clothes_ab[(Year == i) & (Month %in% sp)])))\n",
    "    name_su <- with(data_purpose, round(mean(clothes_ab[(Year == i) & (Month %in% su)])))\n",
    "    name_au <- with(data_purpose, round(mean(clothes_ab[(Year == i) & (Month %in% au)])))\n",
    "    name_wi <- with(data_purpose, round(mean(clothes_ab[(Year == i) & (Month %in% wi)])))\n",
    "    df <- data.frame(name_sp, name_su, name_au, name_wi)\n",
    "    df <- t(df)\n",
    "    DF2 <- rbind(DF2, df)\n",
    "    colnames(DF2) <- c(\"clothes_ab\")\n",
    "}\n",
    "name_20 <- with(data_purpose, round(mean(clothes_ab[(Year == 2020)])))\n",
    "DF2 <- rbind(DF2, name_20)\n",
    "\n",
    "\n",
    "# cosmetic_rel\n",
    "DF3 <- c()\n",
    "\n",
    "for(i in seq(2016, 2019, by=1)){\n",
    "    name_sp <- with(data_purpose, round(mean(cosmetic_rel[(Year == i) & (Month %in% sp)])))\n",
    "    name_su <- with(data_purpose, round(mean(cosmetic_rel[(Year == i) & (Month %in% su)])))\n",
    "    name_au <- with(data_purpose, round(mean(cosmetic_rel[(Year == i) & (Month %in% au)])))\n",
    "    name_wi <- with(data_purpose, round(mean(cosmetic_rel[(Year == i) & (Month %in% wi)])))\n",
    "    df <- data.frame(name_sp, name_su, name_au, name_wi)\n",
    "    df <- t(df)\n",
    "    DF3 <- rbind(DF3, df)\n",
    "    colnames(DF3) <- c(\"cosmetic_rel\")\n",
    "}\n",
    "name_20 <- with(data_purpose, round(mean(cosmetic_rel[(Year == 2020)])))\n",
    "DF3 <- rbind(DF3, name_20)\n",
    "\n",
    "\n",
    "# cosmetic_ab\n",
    "DF4 <- c()\n",
    "\n",
    "for(i in seq(2016, 2019, by=1)){\n",
    "    name_sp <- with(data_purpose, round(mean(cosmetic_ab[(Year == i) & (Month %in% sp)])))\n",
    "    name_su <- with(data_purpose, round(mean(cosmetic_ab[(Year == i) & (Month %in% su)])))\n",
    "    name_au <- with(data_purpose, round(mean(cosmetic_ab[(Year == i) & (Month %in% au)])))\n",
    "    name_wi <- with(data_purpose, round(mean(cosmetic_ab[(Year == i) & (Month %in% wi)])))\n",
    "    df <- data.frame(name_sp, name_su, name_au, name_wi)\n",
    "    df <- t(df)\n",
    "    DF4 <- rbind(DF4, df)\n",
    "    colnames(DF4) <- c(\"cosmetic_ab\")\n",
    "}\n",
    "name_20 <- with(data_purpose, round(mean(cosmetic_ab[(Year == 2020)])))\n",
    "DF4 <- rbind(DF4, name_20)\n",
    "\n",
    "\n",
    "# dye_rel\n",
    "DF5 <- c()\n",
    "\n",
    "for(i in seq(2016, 2019, by=1)){\n",
    "    name_sp <- with(data_purpose, round(mean(dye_rel[(Year == i) & (Month %in% sp)])))\n",
    "    name_su <- with(data_purpose, round(mean(dye_rel[(Year == i) & (Month %in% su)])))\n",
    "    name_au <- with(data_purpose, round(mean(dye_rel[(Year == i) & (Month %in% au)])))\n",
    "    name_wi <- with(data_purpose, round(mean(dye_rel[(Year == i) & (Month %in% wi)])))\n",
    "    df <- data.frame(name_sp, name_su, name_au, name_wi)\n",
    "    df <- t(df)\n",
    "    DF5 <- rbind(DF5, df)\n",
    "    colnames(DF5) <- c(\"dye_rel\")\n",
    "}\n",
    "name_20 <- with(data_purpose, round(mean(dye_rel[(Year == 2020)])))\n",
    "DF5 <- rbind(DF5, name_20)\n",
    "\n",
    "\n",
    "# dye_ab\n",
    "DF6 <- c()\n",
    "\n",
    "for(i in seq(2016, 2019, by=1)){\n",
    "    name_sp <- with(data_purpose, round(mean(dye_ab[(Year == i) & (Month %in% sp)])))\n",
    "    name_su <- with(data_purpose, round(mean(dye_ab[(Year == i) & (Month %in% su)])))\n",
    "    name_au <- with(data_purpose, round(mean(dye_ab[(Year == i) & (Month %in% au)])))\n",
    "    name_wi <- with(data_purpose, round(mean(dye_ab[(Year == i) & (Month %in% wi)])))\n",
    "    df <- data.frame(name_sp, name_su, name_au, name_wi)\n",
    "    df <- t(df)\n",
    "    DF6 <- rbind(DF6, df)\n",
    "    colnames(DF6) <- c(\"dye_ab\")\n",
    "}\n",
    "name_20 <- with(data_purpose, round(mean(dye_ab[(Year == 2020)])))\n",
    "DF6 <- rbind(DF6, name_20)\n",
    "\n",
    "\n",
    "# accessory_rel\n",
    "DF7 <- c()\n",
    "\n",
    "for(i in seq(2016, 2019, by=1)){\n",
    "    name_sp <- with(data_purpose, round(mean(accessory_rel[(Year == i) & (Month %in% sp)])))\n",
    "    name_su <- with(data_purpose, round(mean(accessory_rel[(Year == i) & (Month %in% su)])))\n",
    "    name_au <- with(data_purpose, round(mean(accessory_rel[(Year == i) & (Month %in% au)])))\n",
    "    name_wi <- with(data_purpose, round(mean(accessory_rel[(Year == i) & (Month %in% wi)])))\n",
    "    df <- data.frame(name_sp, name_su, name_au, name_wi)\n",
    "    df <- t(df)\n",
    "    DF7 <- rbind(DF7, df)\n",
    "    colnames(DF7) <- c(\"accessory_rel\")\n",
    "}\n",
    "name_20 <- with(data_purpose, round(mean(accessory_rel[(Year == 2020)])))\n",
    "DF7 <- rbind(DF7, name_20)\n",
    "\n",
    "\n",
    "# accessory_ab\n",
    "DF8 <- c()\n",
    "\n",
    "for(i in seq(2016, 2019, by=1)){\n",
    "    name_sp <- with(data_purpose, round(mean(accessory_ab[(Year == i) & (Month %in% sp)])))\n",
    "    name_su <- with(data_purpose, round(mean(accessory_ab[(Year == i) & (Month %in% su)])))\n",
    "    name_au <- with(data_purpose, round(mean(accessory_ab[(Year == i) & (Month %in% au)])))\n",
    "    name_wi <- with(data_purpose, round(mean(accessory_ab[(Year == i) & (Month %in% wi)])))\n",
    "    df <- data.frame(name_sp, name_su, name_au, name_wi)\n",
    "    df <- t(df)\n",
    "    DF8 <- rbind(DF8, df)\n",
    "    colnames(DF8) <- c(\"accessory_ab\")\n",
    "}\n",
    "name_20 <- with(data_purpose, round(mean(accessory_ab[(Year == 2020)])))\n",
    "DF8 <- rbind(DF8, name_20)\n",
    "\n",
    "\n",
    "# 인덱스명 변경\n",
    "columns <- c(\"2016_spring\",\"2016_summer\", \"2016_autumn\", \"2016_winter\",\n",
    "             \"2017_spring\",\"2017_summer\", \"2017_autumn\", \"2017_winter\",\n",
    "             \"2018_spring\",\"2018_summer\", \"2018_autumn\", \"2018_winter\",\n",
    "             \"2019_spring\",\"2019_summer\", \"2019_autumn\", \"2019_winter\",\n",
    "             \"2020_spring\")\n",
    "\n",
    "# 합치기\n",
    "DF <- cbind(columns, DF1)\n",
    "DF <- cbind(DF, DF2)\n",
    "DF <- cbind(DF, DF3)\n",
    "DF <- cbind(DF, DF4)\n",
    "DF <- cbind(DF, DF5)\n",
    "DF <- cbind(DF, DF6)\n",
    "DF <- cbind(DF, DF7)\n",
    "DF <- cbind(DF, DF8)\n",
    "\n",
    "# 형식전환\n",
    "DF2 <- as.data.frame(DF)\n",
    "DF2$clothes_rel <- as.numeric(as.character(DF2$clothes_rel))\n",
    "DF2$clothes_ab <- as.numeric(as.character(DF2$clothes_ab))\n",
    "DF2$cosmetic_rel <- as.numeric(as.character(DF2$cosmetic_rel))\n",
    "DF2$cosmetic_ab <- as.numeric(as.character(DF2$cosmetic_ab))\n",
    "DF2$dye_rel <- as.numeric(as.character(DF2$dye_rel))\n",
    "DF2$dye_ab <- as.numeric(as.character(DF2$dye_ab))\n",
    "DF2$accessory_rel <- as.numeric(as.character(DF2$accessory_rel))\n",
    "DF2$accessory_ab <- as.numeric(as.character(DF2$accessory_ab))\n",
    "\n",
    "# 확인\n",
    "str(DF2)\n",
    "DF2"
   ]
  },
  {
   "cell_type": "code",
   "execution_count": 199,
   "metadata": {},
   "outputs": [
    {
     "data": {
      "image/png": "[encoded data removed]",
      "text/plain": [
       "plot without title"
      ]
     },
     "metadata": {},
     "output_type": "display_data"
    }
   ],
   "source": [
    "# 분기별(3개월) 평균 상대값\n",
    "\n",
    "ggplot(DF2, aes(x=columns, y=clothes_rel, group=1)) + geom_line(color=\"blue\") + \n",
    "    ylim(0, 100) + ggtitle(\"분기별(3개월) 평균 상대값\") + xlab(\"Month(3개월)\") + \n",
    "    geom_line(aes(x=columns, y=cosmetic_rel), color=\"red\") +\n",
    "    geom_line(aes(x=columns, y=dye_rel), color=\"green\") +\n",
    "    geom_line(aes(x=columns, y=accessory_rel), color=\"purple\")"
   ]
  },
  {
   "cell_type": "markdown",
   "metadata": {},
   "source": [
    "    2016년도 부터 2020년도 까지, 분기별(3개월) 평균 검색결과를 상대적으로 알아보면,\n",
    "    옷(blue), 악세서리(purple) 비슷한 양상을 띔, 미미하게 증가\n",
    "    화장품(red), 염색(green) 비슷한 양상을 띔, 점점 감소"
   ]
  },
  {
   "cell_type": "code",
   "execution_count": 200,
   "metadata": {},
   "outputs": [
    {
     "data": {
      "image/png": "[encoded data removed]",
      "text/plain": [
       "plot without title"
      ]
     },
     "metadata": {},
     "output_type": "display_data"
    }
   ],
   "source": [
    "# 6개월 평균 조회수(절대값)\n",
    "\n",
    "ggplot(DF2, aes(x=columns, y=clothes_ab, group=1)) + geom_line(color=\"blue\") +\n",
    "    ggtitle(\"분기별(3개월) 평균 조회수(절대값)\") + xlab(\"Month(3개월)\") + ylim(0, 2500) + \n",
    "    geom_line(aes(x=columns, y=cosmetic_ab), color=\"red\") +\n",
    "    geom_line(aes(x=columns, y=dye_ab), color=\"green\") +\n",
    "    geom_line(aes(x=columns, y=accessory_ab), color=\"purple\")"
   ]
  },
  {
   "cell_type": "markdown",
   "metadata": {},
   "source": [
    "    2016년도 부터 2020년도 까지, 분기별(3개월) 평균 검색결과를 절대적(조회수)으로 알아보면,\n",
    "    옷(blue), 악세서리(purple) 비슷한 양상을 띔, 미미하게 증가\n",
    "    화장품(red), 염색(green) 비슷한 양상을 띔, 점점 감소"
   ]
  },
  {
   "cell_type": "code",
   "execution_count": null,
   "metadata": {},
   "outputs": [],
   "source": []
  },
  {
   "cell_type": "markdown",
   "metadata": {},
   "source": [
    "### 여자 20대의 퍼스널컬러 검색수가 높은 달만 뽑아서 평균(1, 2) (11, 12)"
   ]
  },
  {
   "cell_type": "code",
   "execution_count": 201,
   "metadata": {},
   "outputs": [
    {
     "name": "stdout",
     "output_type": "stream",
     "text": [
      "'data.frame':\t9 obs. of  9 variables:\n",
      " $ columns      : Factor w/ 9 levels \"2016_aw\",\"2016_ss\",..: 2 1 4 3 6 5 8 7 9\n",
      "  ..- attr(*, \"names\")= chr  \"name_ss\" \"name_aw\" \"name_ss\" \"name_aw\" ...\n",
      " $ clothes_rel  : num  56 53 55 47 54 43 49 62 64\n",
      " $ clothes_ab   : num  1087 1023 1074 916 1042 ...\n",
      " $ cosmetic_rel : num  60 44 44 33 34 25 27 36 34\n",
      " $ cosmetic_ab  : num  1850 1342 1365 1005 1058 ...\n",
      " $ dye_rel      : num  72 54 61 39 46 32 38 44 43\n",
      " $ dye_ab       : num  2364 1773 1991 1269 1493 ...\n",
      " $ accessory_rel: num  47 43 44 36 41 32 36 56 54\n",
      " $ accessory_ab : num  702 641 655 534 605 470 538 832 810\n"
     ]
    },
    {
     "data": {
      "text/html": [
       "<table>\n",
       "<thead><tr><th></th><th scope=col>columns</th><th scope=col>clothes_rel</th><th scope=col>clothes_ab</th><th scope=col>cosmetic_rel</th><th scope=col>cosmetic_ab</th><th scope=col>dye_rel</th><th scope=col>dye_ab</th><th scope=col>accessory_rel</th><th scope=col>accessory_ab</th></tr></thead>\n",
       "<tbody>\n",
       "\t<tr><th scope=row>name_ss</th><td>2016_ss</td><td>56     </td><td>1087   </td><td>60     </td><td>1850   </td><td>72     </td><td>2364   </td><td>47     </td><td>702    </td></tr>\n",
       "\t<tr><th scope=row>name_aw</th><td>2016_aw</td><td>53     </td><td>1023   </td><td>44     </td><td>1342   </td><td>54     </td><td>1773   </td><td>43     </td><td>641    </td></tr>\n",
       "\t<tr><th scope=row>name_ss.1</th><td>2017_ss</td><td>55     </td><td>1074   </td><td>44     </td><td>1365   </td><td>61     </td><td>1991   </td><td>44     </td><td>655    </td></tr>\n",
       "\t<tr><th scope=row>name_aw.1</th><td>2017_aw</td><td>47     </td><td> 916   </td><td>33     </td><td>1005   </td><td>39     </td><td>1269   </td><td>36     </td><td>534    </td></tr>\n",
       "\t<tr><th scope=row>name_ss.2</th><td>2018_ss</td><td>54     </td><td>1042   </td><td>34     </td><td>1058   </td><td>46     </td><td>1493   </td><td>41     </td><td>605    </td></tr>\n",
       "\t<tr><th scope=row>name_aw.2</th><td>2018_aw</td><td>43     </td><td> 836   </td><td>25     </td><td> 778   </td><td>32     </td><td>1051   </td><td>32     </td><td>470    </td></tr>\n",
       "\t<tr><th scope=row>name_ss.3</th><td>2019_ss</td><td>49     </td><td> 945   </td><td>27     </td><td> 831   </td><td>38     </td><td>1245   </td><td>36     </td><td>538    </td></tr>\n",
       "\t<tr><th scope=row>name_aw.3</th><td>2019_aw</td><td>62     </td><td>1210   </td><td>36     </td><td>1101   </td><td>44     </td><td>1455   </td><td>56     </td><td>832    </td></tr>\n",
       "\t<tr><th scope=row>name_20</th><td>2020_ss</td><td>64     </td><td>1248   </td><td>34     </td><td>1055   </td><td>43     </td><td>1422   </td><td>54     </td><td>810    </td></tr>\n",
       "</tbody>\n",
       "</table>\n"
      ],
      "text/latex": [
       "\\begin{tabular}{r|lllllllll}\n",
       "  & columns & clothes\\_rel & clothes\\_ab & cosmetic\\_rel & cosmetic\\_ab & dye\\_rel & dye\\_ab & accessory\\_rel & accessory\\_ab\\\\\n",
       "\\hline\n",
       "\tname\\_ss & 2016\\_ss & 56        & 1087      & 60        & 1850      & 72        & 2364      & 47        & 702      \\\\\n",
       "\tname\\_aw & 2016\\_aw & 53        & 1023      & 44        & 1342      & 54        & 1773      & 43        & 641      \\\\\n",
       "\tname\\_ss.1 & 2017\\_ss & 55        & 1074      & 44        & 1365      & 61        & 1991      & 44        & 655      \\\\\n",
       "\tname\\_aw.1 & 2017\\_aw & 47        &  916      & 33        & 1005      & 39        & 1269      & 36        & 534      \\\\\n",
       "\tname\\_ss.2 & 2018\\_ss & 54        & 1042      & 34        & 1058      & 46        & 1493      & 41        & 605      \\\\\n",
       "\tname\\_aw.2 & 2018\\_aw & 43        &  836      & 25        &  778      & 32        & 1051      & 32        & 470      \\\\\n",
       "\tname\\_ss.3 & 2019\\_ss & 49        &  945      & 27        &  831      & 38        & 1245      & 36        & 538      \\\\\n",
       "\tname\\_aw.3 & 2019\\_aw & 62        & 1210      & 36        & 1101      & 44        & 1455      & 56        & 832      \\\\\n",
       "\tname\\_20 & 2020\\_ss & 64        & 1248      & 34        & 1055      & 43        & 1422      & 54        & 810      \\\\\n",
       "\\end{tabular}\n"
      ],
      "text/markdown": [
       "\n",
       "| <!--/--> | columns | clothes_rel | clothes_ab | cosmetic_rel | cosmetic_ab | dye_rel | dye_ab | accessory_rel | accessory_ab |\n",
       "|---|---|---|---|---|---|---|---|---|---|\n",
       "| name_ss | 2016_ss | 56      | 1087    | 60      | 1850    | 72      | 2364    | 47      | 702     |\n",
       "| name_aw | 2016_aw | 53      | 1023    | 44      | 1342    | 54      | 1773    | 43      | 641     |\n",
       "| name_ss.1 | 2017_ss | 55      | 1074    | 44      | 1365    | 61      | 1991    | 44      | 655     |\n",
       "| name_aw.1 | 2017_aw | 47      |  916    | 33      | 1005    | 39      | 1269    | 36      | 534     |\n",
       "| name_ss.2 | 2018_ss | 54      | 1042    | 34      | 1058    | 46      | 1493    | 41      | 605     |\n",
       "| name_aw.2 | 2018_aw | 43      |  836    | 25      |  778    | 32      | 1051    | 32      | 470     |\n",
       "| name_ss.3 | 2019_ss | 49      |  945    | 27      |  831    | 38      | 1245    | 36      | 538     |\n",
       "| name_aw.3 | 2019_aw | 62      | 1210    | 36      | 1101    | 44      | 1455    | 56      | 832     |\n",
       "| name_20 | 2020_ss | 64      | 1248    | 34      | 1055    | 43      | 1422    | 54      | 810     |\n",
       "\n"
      ],
      "text/plain": [
       "          columns clothes_rel clothes_ab cosmetic_rel cosmetic_ab dye_rel\n",
       "name_ss   2016_ss 56          1087       60           1850        72     \n",
       "name_aw   2016_aw 53          1023       44           1342        54     \n",
       "name_ss.1 2017_ss 55          1074       44           1365        61     \n",
       "name_aw.1 2017_aw 47           916       33           1005        39     \n",
       "name_ss.2 2018_ss 54          1042       34           1058        46     \n",
       "name_aw.2 2018_aw 43           836       25            778        32     \n",
       "name_ss.3 2019_ss 49           945       27            831        38     \n",
       "name_aw.3 2019_aw 62          1210       36           1101        44     \n",
       "name_20   2020_ss 64          1248       34           1055        43     \n",
       "          dye_ab accessory_rel accessory_ab\n",
       "name_ss   2364   47            702         \n",
       "name_aw   1773   43            641         \n",
       "name_ss.1 1991   44            655         \n",
       "name_aw.1 1269   36            534         \n",
       "name_ss.2 1493   41            605         \n",
       "name_aw.2 1051   32            470         \n",
       "name_ss.3 1245   36            538         \n",
       "name_aw.3 1455   56            832         \n",
       "name_20   1422   54            810         "
      ]
     },
     "metadata": {},
     "output_type": "display_data"
    }
   ],
   "source": [
    "##  데이터프레임 생성\n",
    "\n",
    "ss <- c(\"1\", \"2\")\n",
    "aw <- c(\"11\", \"12\")\n",
    "\n",
    "# clothes_rel\n",
    "DF1 <- c()\n",
    "\n",
    "for(i in seq(2016, 2019, by=1)){\n",
    "    name_ss <- with(data_purpose, round(mean(clothes_rel[(Year == i) & (Month %in% ss)])))\n",
    "    name_aw <- with(data_purpose, round(mean(clothes_rel[(Year == i) & (Month %in% aw)])))\n",
    "    df <- data.frame(name_ss, name_aw)\n",
    "    df <- t(df)\n",
    "    DF1 <- rbind(DF1, df)\n",
    "    colnames(DF1) <- c(\"clothes_rel\")\n",
    "}\n",
    "name_20 <- with(data_purpose, round(mean(clothes_rel[(Year == 2020)])))\n",
    "DF1 <- rbind(DF1, name_20)\n",
    "\n",
    "# clothes_ab\n",
    "DF2 <- c()\n",
    "\n",
    "for(i in seq(2016, 2019, by=1)){\n",
    "    name_ss <- with(data_purpose, round(mean(clothes_ab[(Year == i) & (Month %in% ss)])))\n",
    "    name_aw <- with(data_purpose, round(mean(clothes_ab[(Year == i) & (Month %in% aw)])))\n",
    "    df <- data.frame(name_ss, name_aw)\n",
    "    df <- t(df)\n",
    "    DF2 <- rbind(DF2, df)\n",
    "    colnames(DF2) <- c(\"clothes_ab\")\n",
    "}\n",
    "name_20 <- with(data_purpose, round(mean(clothes_ab[(Year == 2020)])))\n",
    "DF2 <- rbind(DF2, name_20)\n",
    "\n",
    "\n",
    "# cosmetic_rel\n",
    "DF3 <- c()\n",
    "\n",
    "for(i in seq(2016, 2019, by=1)){\n",
    "    name_ss <- with(data_purpose, round(mean(cosmetic_rel[(Year == i) & (Month %in% ss)])))\n",
    "    name_aw <- with(data_purpose, round(mean(cosmetic_rel[(Year == i) & (Month %in% aw)])))\n",
    "    df <- data.frame(name_ss, name_aw)\n",
    "    df <- t(df)\n",
    "    DF3 <- rbind(DF3, df)\n",
    "    colnames(DF3) <- c(\"cosmetic_rel\")\n",
    "}\n",
    "name_20 <- with(data_purpose, round(mean(cosmetic_rel[(Year == 2020)])))\n",
    "DF3 <- rbind(DF3, name_20)\n",
    "\n",
    "\n",
    "# cosmetic_ab\n",
    "DF4 <- c()\n",
    "\n",
    "for(i in seq(2016, 2019, by=1)){\n",
    "    name_ss <- with(data_purpose, round(mean(cosmetic_ab[(Year == i) & (Month %in% ss)])))\n",
    "    name_aw <- with(data_purpose, round(mean(cosmetic_ab[(Year == i) & (Month %in% aw)])))\n",
    "    df <- data.frame(name_ss, name_aw)\n",
    "    df <- t(df)\n",
    "    DF4 <- rbind(DF4, df)\n",
    "    colnames(DF4) <- c(\"cosmetic_ab\")\n",
    "}\n",
    "name_20 <- with(data_purpose, round(mean(cosmetic_ab[(Year == 2020)])))\n",
    "DF4 <- rbind(DF4, name_20)\n",
    "\n",
    "\n",
    "# dye_rel\n",
    "DF5 <- c()\n",
    "\n",
    "for(i in seq(2016, 2019, by=1)){\n",
    "    name_ss <- with(data_purpose, round(mean(dye_rel[(Year == i) & (Month %in% ss)])))\n",
    "    name_aw <- with(data_purpose, round(mean(dye_rel[(Year == i) & (Month %in% aw)])))\n",
    "    df <- data.frame(name_ss, name_aw)\n",
    "    df <- t(df)\n",
    "    DF5 <- rbind(DF5, df)\n",
    "    colnames(DF5) <- c(\"dye_rel\")\n",
    "}\n",
    "name_20 <- with(data_purpose, round(mean(dye_rel[(Year == 2020)])))\n",
    "DF5 <- rbind(DF5, name_20)\n",
    "\n",
    "\n",
    "# dye_ab\n",
    "DF6 <- c()\n",
    "\n",
    "for(i in seq(2016, 2019, by=1)){\n",
    "    name_ss <- with(data_purpose, round(mean(dye_ab[(Year == i) & (Month %in% ss)])))\n",
    "    name_aw <- with(data_purpose, round(mean(dye_ab[(Year == i) & (Month %in% aw)])))\n",
    "    df <- data.frame(name_ss, name_aw)\n",
    "    df <- t(df)\n",
    "    DF6 <- rbind(DF6, df)\n",
    "    colnames(DF6) <- c(\"dye_ab\")\n",
    "}\n",
    "name_20 <- with(data_purpose, round(mean(dye_ab[(Year == 2020)])))\n",
    "DF6 <- rbind(DF6, name_20)\n",
    "\n",
    "\n",
    "# accessory_rel\n",
    "DF7 <- c()\n",
    "\n",
    "for(i in seq(2016, 2019, by=1)){\n",
    "    name_ss <- with(data_purpose, round(mean(accessory_rel[(Year == i) & (Month %in% ss)])))\n",
    "    name_aw <- with(data_purpose, round(mean(accessory_rel[(Year == i) & (Month %in% aw)])))\n",
    "    df <- data.frame(name_ss, name_aw)\n",
    "    df <- t(df)\n",
    "    DF7 <- rbind(DF7, df)\n",
    "    colnames(DF7) <- c(\"accessory_rel\")\n",
    "}\n",
    "name_20 <- with(data_purpose, round(mean(accessory_rel[(Year == 2020)])))\n",
    "DF7 <- rbind(DF7, name_20)\n",
    "\n",
    "\n",
    "# accessory_ab\n",
    "DF8 <- c()\n",
    "\n",
    "for(i in seq(2016, 2019, by=1)){\n",
    "    name_ss <- with(data_purpose, round(mean(accessory_ab[(Year == i) & (Month %in% ss)])))\n",
    "    name_aw <- with(data_purpose, round(mean(accessory_ab[(Year == i) & (Month %in% aw)])))\n",
    "    df <- data.frame(name_ss, name_aw)\n",
    "    df <- t(df)\n",
    "    DF8 <- rbind(DF8, df)\n",
    "    colnames(DF8) <- c(\"accessory_ab\")\n",
    "}\n",
    "name_20 <- with(data_purpose, round(mean(accessory_ab[(Year == 2020)])))\n",
    "DF8 <- rbind(DF8, name_20)\n",
    "\n",
    "\n",
    "# 인덱스명 변경\n",
    "columns <- c(\"2016_ss\", \"2016_aw\", \"2017_ss\", \"2017_aw\", \n",
    "                  \"2018_ss\", \"2018_aw\", \"2019_ss\", \"2019_aw\", \"2020_ss\")\n",
    "\n",
    "\n",
    "# 합치기\n",
    "DF <- cbind(columns, DF1)\n",
    "DF <- cbind(DF, DF2)\n",
    "DF <- cbind(DF, DF3)\n",
    "DF <- cbind(DF, DF4)\n",
    "DF <- cbind(DF, DF5)\n",
    "DF <- cbind(DF, DF6)\n",
    "DF <- cbind(DF, DF7)\n",
    "DF <- cbind(DF, DF8)\n",
    "\n",
    "# 형식전환\n",
    "DF2 <- as.data.frame(DF)\n",
    "DF2$clothes_rel <- as.numeric(as.character(DF2$clothes_rel))\n",
    "DF2$clothes_ab <- as.numeric(as.character(DF2$clothes_ab))\n",
    "DF2$cosmetic_rel <- as.numeric(as.character(DF2$cosmetic_rel))\n",
    "DF2$cosmetic_ab <- as.numeric(as.character(DF2$cosmetic_ab))\n",
    "DF2$dye_rel <- as.numeric(as.character(DF2$dye_rel))\n",
    "DF2$dye_ab <- as.numeric(as.character(DF2$dye_ab))\n",
    "DF2$accessory_rel <- as.numeric(as.character(DF2$accessory_rel))\n",
    "DF2$accessory_ab <- as.numeric(as.character(DF2$accessory_ab))\n",
    "\n",
    "# 확인\n",
    "str(DF2)\n",
    "DF2"
   ]
  },
  {
   "cell_type": "code",
   "execution_count": 202,
   "metadata": {},
   "outputs": [
    {
     "data": {
      "image/png": "[encoded data removed]",
      "text/plain": [
       "plot without title"
      ]
     },
     "metadata": {},
     "output_type": "display_data"
    }
   ],
   "source": [
    "# 평균 상대값\n",
    "\n",
    "ggplot(DF2, aes(x=columns, y=clothes_rel, group=1)) + geom_line(color=\"blue\") + \n",
    "    coord_cartesian(ylim=c(0, 100)) + ggtitle(\"검색수 높은 달 평균 상대값\") + xlab(\"Month(Jan, Feb / Nov, Dec)\") + \n",
    "    geom_line(aes(x=columns, y=cosmetic_rel), color=\"red\") +\n",
    "    geom_line(aes(x=columns, y=dye_rel), color=\"green\") +\n",
    "    geom_line(aes(x=columns, y=accessory_rel), color=\"purple\")"
   ]
  },
  {
   "cell_type": "markdown",
   "metadata": {},
   "source": [
    "    20대 여자의 퍼스널컬러 검색수가 높은 달인 (1, 2월) (11, 12월) 평균으로 \n",
    "    퍼스널컬러 목적 검색결과를 상대적으로 알아보면,\n",
    "    옷(blue), 악세서리(purple) 비슷한 양상을 띔, 미미하게 증가\n",
    "    화장품(red), 염색(green) 비슷한 양상을 띔, 점점 감소"
   ]
  },
  {
   "cell_type": "code",
   "execution_count": 203,
   "metadata": {},
   "outputs": [
    {
     "data": {
      "image/png": "[encoded data removed]",
      "text/plain": [
       "plot without title"
      ]
     },
     "metadata": {},
     "output_type": "display_data"
    }
   ],
   "source": [
    "# 평균 조회수(절대값)\n",
    "\n",
    "ggplot(DF2, aes(x=columns, y=clothes_ab, group=1)) + geom_line(color=\"blue\") + ylim(0, 2500) + \n",
    "    ggtitle(\"검색수 높은 달 평균 절대값\") + xlab(\"Month(Jan, Feb / Nov, Dec)\") + \n",
    "    geom_line(aes(x=columns, y=cosmetic_ab), color=\"red\") +\n",
    "    geom_line(aes(x=columns, y=dye_ab), color=\"green\") +\n",
    "    geom_line(aes(x=columns, y=accessory_ab), color=\"purple\")"
   ]
  },
  {
   "cell_type": "markdown",
   "metadata": {},
   "source": [
    "    20대 여자의 퍼스널컬러 검색수가 높은 달인 (1, 2월) (11, 12월) 평균으로 \n",
    "    퍼스널컬러 목적 검색결과를 절대적(조회수)으로 알아보면,\n",
    "    옷(blue), 악세서리(purple) 비슷한 양상을 띔, 미미하게 증가\n",
    "    화장품(red), 염색(green) 비슷한 양상을 띔, 점점 감소"
   ]
  },
  {
   "cell_type": "code",
   "execution_count": null,
   "metadata": {},
   "outputs": [],
   "source": []
  },
  {
   "cell_type": "markdown",
   "metadata": {},
   "source": [
    "### 여자 20대의 퍼스널컬러 검색수가 높은 달(1, 2, 11, 12)만 뽑아서 보기"
   ]
  },
  {
   "cell_type": "code",
   "execution_count": 204,
   "metadata": {},
   "outputs": [
    {
     "name": "stdout",
     "output_type": "stream",
     "text": [
      "'data.frame':\t18 obs. of  9 variables:\n",
      " $ columns      : Factor w/ 18 levels \"2016_Dec\",\"2016_Feb\",..: 3 2 4 1 7 6 8 5 11 10 ...\n",
      " $ clothes_rel  : num  58 54 56 50 57 54 50 45 49 58 ...\n",
      " $ clothes_ab   : num  1131 1040 1086 962 1101 ...\n",
      " $ cosmetic_rel : num  63 57 45 42 45 44 34 32 33 36 ...\n",
      " $ cosmetic_ab  : num  1934 1761 1385 1301 1389 ...\n",
      " $ dye_rel      : num  69 76 55 53 60 62 39 39 43 49 ...\n",
      " $ dye_ab       : num  2246 2490 1798 1749 1971 ...\n",
      " $ accessory_rel: num  50 44 45 41 44 43 37 34 36 45 ...\n",
      " $ accessory_ab : num  750 651 678 605 664 646 558 511 539 678 ...\n"
     ]
    },
    {
     "data": {
      "text/html": [
       "<table>\n",
       "<thead><tr><th scope=col>columns</th><th scope=col>clothes_rel</th><th scope=col>clothes_ab</th><th scope=col>cosmetic_rel</th><th scope=col>cosmetic_ab</th><th scope=col>dye_rel</th><th scope=col>dye_ab</th><th scope=col>accessory_rel</th><th scope=col>accessory_ab</th></tr></thead>\n",
       "<tbody>\n",
       "\t<tr><td>2016_Jan</td><td>58      </td><td>1131    </td><td>63      </td><td>1934    </td><td>69      </td><td>2246    </td><td>50      </td><td>750     </td></tr>\n",
       "\t<tr><td>2016_Feb</td><td>54      </td><td>1040    </td><td>57      </td><td>1761    </td><td>76      </td><td>2490    </td><td>44      </td><td>651     </td></tr>\n",
       "\t<tr><td>2016_Nov</td><td>56      </td><td>1086    </td><td>45      </td><td>1385    </td><td>55      </td><td>1798    </td><td>45      </td><td>678     </td></tr>\n",
       "\t<tr><td>2016_Dec</td><td>50      </td><td> 962    </td><td>42      </td><td>1301    </td><td>53      </td><td>1749    </td><td>41      </td><td>605     </td></tr>\n",
       "\t<tr><td>2017_Jan</td><td>57      </td><td>1101    </td><td>45      </td><td>1389    </td><td>60      </td><td>1971    </td><td>44      </td><td>664     </td></tr>\n",
       "\t<tr><td>2017_Feb</td><td>54      </td><td>1044    </td><td>44      </td><td>1339    </td><td>62      </td><td>2014    </td><td>43      </td><td>646     </td></tr>\n",
       "\t<tr><td>2017_Nov</td><td>50      </td><td> 967    </td><td>34      </td><td>1036    </td><td>39      </td><td>1277    </td><td>37      </td><td>558     </td></tr>\n",
       "\t<tr><td>2017_Dec</td><td>45      </td><td> 867    </td><td>32      </td><td> 975    </td><td>39      </td><td>1261    </td><td>34      </td><td>511     </td></tr>\n",
       "\t<tr><td>2018_Jan</td><td>49      </td><td> 960    </td><td>33      </td><td>1006    </td><td>43      </td><td>1401    </td><td>36      </td><td>539     </td></tr>\n",
       "\t<tr><td>2018_Feb</td><td>58      </td><td>1132    </td><td>36      </td><td>1116    </td><td>49      </td><td>1595    </td><td>45      </td><td>678     </td></tr>\n",
       "\t<tr><td>2018_Nov</td><td>45      </td><td> 882    </td><td>27      </td><td> 816    </td><td>33      </td><td>1071    </td><td>33      </td><td>489     </td></tr>\n",
       "\t<tr><td>2018_Dec</td><td>41      </td><td> 791    </td><td>24      </td><td> 743    </td><td>32      </td><td>1032    </td><td>30      </td><td>452     </td></tr>\n",
       "\t<tr><td>2019_Jan</td><td>48      </td><td> 936    </td><td>26      </td><td> 804    </td><td>37      </td><td>1201    </td><td>34      </td><td>514     </td></tr>\n",
       "\t<tr><td>2019_Feb</td><td>49      </td><td> 956    </td><td>28      </td><td> 862    </td><td>40      </td><td>1294    </td><td>38      </td><td>565     </td></tr>\n",
       "\t<tr><td>2019_Nov</td><td>63      </td><td>1224    </td><td>36      </td><td>1101    </td><td>44      </td><td>1444    </td><td>55      </td><td>822     </td></tr>\n",
       "\t<tr><td>2019_Dec</td><td>62      </td><td>1196    </td><td>36      </td><td>1101    </td><td>45      </td><td>1466    </td><td>56      </td><td>843     </td></tr>\n",
       "\t<tr><td>2020_Jan</td><td>57      </td><td>1103    </td><td>32      </td><td> 985    </td><td>41      </td><td>1357    </td><td>49      </td><td>732     </td></tr>\n",
       "\t<tr><td>2020_Feb</td><td>73      </td><td>1416    </td><td>39      </td><td>1198    </td><td>48      </td><td>1570    </td><td>63      </td><td>944     </td></tr>\n",
       "</tbody>\n",
       "</table>\n"
      ],
      "text/latex": [
       "\\begin{tabular}{r|lllllllll}\n",
       " columns & clothes\\_rel & clothes\\_ab & cosmetic\\_rel & cosmetic\\_ab & dye\\_rel & dye\\_ab & accessory\\_rel & accessory\\_ab\\\\\n",
       "\\hline\n",
       "\t 2016\\_Jan & 58         & 1131       & 63         & 1934       & 69         & 2246       & 50         & 750       \\\\\n",
       "\t 2016\\_Feb & 54         & 1040       & 57         & 1761       & 76         & 2490       & 44         & 651       \\\\\n",
       "\t 2016\\_Nov & 56         & 1086       & 45         & 1385       & 55         & 1798       & 45         & 678       \\\\\n",
       "\t 2016\\_Dec & 50         &  962       & 42         & 1301       & 53         & 1749       & 41         & 605       \\\\\n",
       "\t 2017\\_Jan & 57         & 1101       & 45         & 1389       & 60         & 1971       & 44         & 664       \\\\\n",
       "\t 2017\\_Feb & 54         & 1044       & 44         & 1339       & 62         & 2014       & 43         & 646       \\\\\n",
       "\t 2017\\_Nov & 50         &  967       & 34         & 1036       & 39         & 1277       & 37         & 558       \\\\\n",
       "\t 2017\\_Dec & 45         &  867       & 32         &  975       & 39         & 1261       & 34         & 511       \\\\\n",
       "\t 2018\\_Jan & 49         &  960       & 33         & 1006       & 43         & 1401       & 36         & 539       \\\\\n",
       "\t 2018\\_Feb & 58         & 1132       & 36         & 1116       & 49         & 1595       & 45         & 678       \\\\\n",
       "\t 2018\\_Nov & 45         &  882       & 27         &  816       & 33         & 1071       & 33         & 489       \\\\\n",
       "\t 2018\\_Dec & 41         &  791       & 24         &  743       & 32         & 1032       & 30         & 452       \\\\\n",
       "\t 2019\\_Jan & 48         &  936       & 26         &  804       & 37         & 1201       & 34         & 514       \\\\\n",
       "\t 2019\\_Feb & 49         &  956       & 28         &  862       & 40         & 1294       & 38         & 565       \\\\\n",
       "\t 2019\\_Nov & 63         & 1224       & 36         & 1101       & 44         & 1444       & 55         & 822       \\\\\n",
       "\t 2019\\_Dec & 62         & 1196       & 36         & 1101       & 45         & 1466       & 56         & 843       \\\\\n",
       "\t 2020\\_Jan & 57         & 1103       & 32         &  985       & 41         & 1357       & 49         & 732       \\\\\n",
       "\t 2020\\_Feb & 73         & 1416       & 39         & 1198       & 48         & 1570       & 63         & 944       \\\\\n",
       "\\end{tabular}\n"
      ],
      "text/markdown": [
       "\n",
       "| columns | clothes_rel | clothes_ab | cosmetic_rel | cosmetic_ab | dye_rel | dye_ab | accessory_rel | accessory_ab |\n",
       "|---|---|---|---|---|---|---|---|---|\n",
       "| 2016_Jan | 58       | 1131     | 63       | 1934     | 69       | 2246     | 50       | 750      |\n",
       "| 2016_Feb | 54       | 1040     | 57       | 1761     | 76       | 2490     | 44       | 651      |\n",
       "| 2016_Nov | 56       | 1086     | 45       | 1385     | 55       | 1798     | 45       | 678      |\n",
       "| 2016_Dec | 50       |  962     | 42       | 1301     | 53       | 1749     | 41       | 605      |\n",
       "| 2017_Jan | 57       | 1101     | 45       | 1389     | 60       | 1971     | 44       | 664      |\n",
       "| 2017_Feb | 54       | 1044     | 44       | 1339     | 62       | 2014     | 43       | 646      |\n",
       "| 2017_Nov | 50       |  967     | 34       | 1036     | 39       | 1277     | 37       | 558      |\n",
       "| 2017_Dec | 45       |  867     | 32       |  975     | 39       | 1261     | 34       | 511      |\n",
       "| 2018_Jan | 49       |  960     | 33       | 1006     | 43       | 1401     | 36       | 539      |\n",
       "| 2018_Feb | 58       | 1132     | 36       | 1116     | 49       | 1595     | 45       | 678      |\n",
       "| 2018_Nov | 45       |  882     | 27       |  816     | 33       | 1071     | 33       | 489      |\n",
       "| 2018_Dec | 41       |  791     | 24       |  743     | 32       | 1032     | 30       | 452      |\n",
       "| 2019_Jan | 48       |  936     | 26       |  804     | 37       | 1201     | 34       | 514      |\n",
       "| 2019_Feb | 49       |  956     | 28       |  862     | 40       | 1294     | 38       | 565      |\n",
       "| 2019_Nov | 63       | 1224     | 36       | 1101     | 44       | 1444     | 55       | 822      |\n",
       "| 2019_Dec | 62       | 1196     | 36       | 1101     | 45       | 1466     | 56       | 843      |\n",
       "| 2020_Jan | 57       | 1103     | 32       |  985     | 41       | 1357     | 49       | 732      |\n",
       "| 2020_Feb | 73       | 1416     | 39       | 1198     | 48       | 1570     | 63       | 944      |\n",
       "\n"
      ],
      "text/plain": [
       "   columns  clothes_rel clothes_ab cosmetic_rel cosmetic_ab dye_rel dye_ab\n",
       "1  2016_Jan 58          1131       63           1934        69      2246  \n",
       "2  2016_Feb 54          1040       57           1761        76      2490  \n",
       "3  2016_Nov 56          1086       45           1385        55      1798  \n",
       "4  2016_Dec 50           962       42           1301        53      1749  \n",
       "5  2017_Jan 57          1101       45           1389        60      1971  \n",
       "6  2017_Feb 54          1044       44           1339        62      2014  \n",
       "7  2017_Nov 50           967       34           1036        39      1277  \n",
       "8  2017_Dec 45           867       32            975        39      1261  \n",
       "9  2018_Jan 49           960       33           1006        43      1401  \n",
       "10 2018_Feb 58          1132       36           1116        49      1595  \n",
       "11 2018_Nov 45           882       27            816        33      1071  \n",
       "12 2018_Dec 41           791       24            743        32      1032  \n",
       "13 2019_Jan 48           936       26            804        37      1201  \n",
       "14 2019_Feb 49           956       28            862        40      1294  \n",
       "15 2019_Nov 63          1224       36           1101        44      1444  \n",
       "16 2019_Dec 62          1196       36           1101        45      1466  \n",
       "17 2020_Jan 57          1103       32            985        41      1357  \n",
       "18 2020_Feb 73          1416       39           1198        48      1570  \n",
       "   accessory_rel accessory_ab\n",
       "1  50            750         \n",
       "2  44            651         \n",
       "3  45            678         \n",
       "4  41            605         \n",
       "5  44            664         \n",
       "6  43            646         \n",
       "7  37            558         \n",
       "8  34            511         \n",
       "9  36            539         \n",
       "10 45            678         \n",
       "11 33            489         \n",
       "12 30            452         \n",
       "13 34            514         \n",
       "14 38            565         \n",
       "15 55            822         \n",
       "16 56            843         \n",
       "17 49            732         \n",
       "18 63            944         "
      ]
     },
     "metadata": {},
     "output_type": "display_data"
    }
   ],
   "source": [
    "# 데이터 프레임 재생성\n",
    "\n",
    "month_list <- c(\"1\", \"2\", \"11\", \"12\")\n",
    "\n",
    "# clothes_rel\n",
    "DF1 <- c()\n",
    "for(i in seq(2016, 2020, by=1)){\n",
    "    for(j in month_list){\n",
    "        example <- with(data_purpose, round(mean(clothes_rel[(Year == i) & (Month == j)])))\n",
    "        df <- data.frame(clothes_rel=example)\n",
    "        DF1 <- rbind(DF1, df)\n",
    "        DF1 <- na.omit(DF1)\n",
    "        }\n",
    "}\n",
    "\n",
    "# clothes_ab\n",
    "DF2 <- c()\n",
    "for(i in seq(2016, 2020, by=1)){\n",
    "    for(j in month_list){\n",
    "        example <- with(data_purpose, round(mean(clothes_ab[(Year == i) & (Month == j)])))\n",
    "        df <- data.frame(clothes_ab=example)\n",
    "        DF2 <- rbind(DF2, df)\n",
    "        DF2 <- na.omit(DF2)\n",
    "        }\n",
    "}\n",
    "\n",
    "# cosmetic_rel\n",
    "DF3 <- c()\n",
    "for(i in seq(2016, 2020, by=1)){\n",
    "    for(j in month_list){\n",
    "        example <- with(data_purpose, round(mean(cosmetic_rel[(Year == i) & (Month == j)])))\n",
    "        df <- data.frame(cosmetic_rel=example)\n",
    "        DF3 <- rbind(DF3, df)\n",
    "        DF3 <- na.omit(DF3)\n",
    "        }\n",
    "}\n",
    "\n",
    "# cosmetic_ab\n",
    "DF4 <- c()\n",
    "for(i in seq(2016, 2020, by=1)){\n",
    "    for(j in month_list){\n",
    "        example <- with(data_purpose, round(mean(cosmetic_ab[(Year == i) & (Month == j)])))\n",
    "        df <- data.frame(cosmetic_ab=example)\n",
    "        DF4 <- rbind(DF4, df)\n",
    "        DF4 <- na.omit(DF4)\n",
    "        }\n",
    "}\n",
    "\n",
    "# dye_rel\n",
    "DF5 <- c()\n",
    "for(i in seq(2016, 2020, by=1)){\n",
    "    for(j in month_list){\n",
    "        example <- with(data_purpose, round(mean(dye_rel[(Year == i) & (Month == j)])))\n",
    "        df <- data.frame(dye_rel=example)\n",
    "        DF5 <- rbind(DF5, df)\n",
    "        DF5 <- na.omit(DF5)\n",
    "        }\n",
    "}\n",
    "\n",
    "# dye_ab\n",
    "DF6 <- c()\n",
    "for(i in seq(2016, 2020, by=1)){\n",
    "    for(j in month_list){\n",
    "        example <- with(data_purpose, round(mean(dye_ab[(Year == i) & (Month == j)])))\n",
    "        df <- data.frame(dye_ab=example)\n",
    "        DF6 <- rbind(DF6, df)\n",
    "        DF6 <- na.omit(DF6)\n",
    "        }\n",
    "}\n",
    "\n",
    "# accessory_rel\n",
    "DF7 <- c()\n",
    "for(i in seq(2016, 2020, by=1)){\n",
    "    for(j in month_list){\n",
    "        example <- with(data_purpose, round(mean(accessory_rel[(Year == i) & (Month == j)])))\n",
    "        df <- data.frame(accessory_rel=example)\n",
    "        DF7 <- rbind(DF7, df)\n",
    "        DF7 <- na.omit(DF7)\n",
    "        }\n",
    "}\n",
    "\n",
    "# accessory_ab\n",
    "DF8 <- c()\n",
    "for(i in seq(2016, 2020, by=1)){\n",
    "    for(j in month_list){\n",
    "        example <- with(data_purpose, round(mean(accessory_ab[(Year == i) & (Month == j)])))\n",
    "        df <- data.frame(accessory_ab=example)\n",
    "        DF8 <- rbind(DF8, df)\n",
    "        DF8 <- na.omit(DF8)\n",
    "        }\n",
    "}\n",
    "\n",
    "\n",
    "# 인덱스명 변경\n",
    "columns <- c(\"2016_Jan\", \"2016_Feb\", \"2016_Nov\", \"2016_Dec\", \n",
    "             \"2017_Jan\", \"2017_Feb\", \"2017_Nov\", \"2017_Dec\", \n",
    "             \"2018_Jan\", \"2018_Feb\", \"2018_Nov\", \"2018_Dec\", \n",
    "             \"2019_Jan\", \"2019_Feb\", \"2019_Nov\", \"2019_Dec\", \n",
    "             \"2020_Jan\", \"2020_Feb\")\n",
    "\n",
    "\n",
    "# 합치기\n",
    "DF <- cbind(columns, DF1)\n",
    "DF <- cbind(DF, DF2)\n",
    "DF <- cbind(DF, DF3)\n",
    "DF <- cbind(DF, DF4)\n",
    "DF <- cbind(DF, DF5)\n",
    "DF <- cbind(DF, DF6)\n",
    "DF <- cbind(DF, DF7)\n",
    "DF <- cbind(DF, DF8)\n",
    "\n",
    "# 확인\n",
    "str(DF)\n",
    "DF"
   ]
  },
  {
   "cell_type": "code",
   "execution_count": 205,
   "metadata": {},
   "outputs": [
    {
     "data": {
      "image/png": "[encoded data removed]",
      "text/plain": [
       "plot without title"
      ]
     },
     "metadata": {},
     "output_type": "display_data"
    }
   ],
   "source": [
    "# 상대값\n",
    "\n",
    "ggplot(DF, aes(x=columns, y=clothes_rel, group=1)) + geom_line(color=\"blue\") + \n",
    "    coord_cartesian(ylim=c(0, 100)) + ggtitle(\"검색수 높은 달 상대값\") + xlab(\"Month(Jan, Feb, Nov, Dec)\") + \n",
    "    geom_line(aes(x=columns, y=cosmetic_rel), color=\"red\") +\n",
    "    geom_line(aes(x=columns, y=dye_rel), color=\"green\") +\n",
    "    geom_line(aes(x=columns, y=accessory_rel), color=\"purple\")"
   ]
  },
  {
   "cell_type": "markdown",
   "metadata": {},
   "source": [
    "    20대 여자의 퍼스널컬러 검색수가 높은 달(1, 2, 11, 12월)\n",
    "    퍼스널컬러 목적 검색결과를 상대적으로 알아보면,\n",
    "    옷(blue), 악세서리(purple) 비슷한 양상을 띔, 미미하게 증가\n",
    "    화장품(red), 염색(green) 비슷한 양상을 띔, 점점 감소"
   ]
  },
  {
   "cell_type": "code",
   "execution_count": 206,
   "metadata": {},
   "outputs": [
    {
     "data": {
      "image/png": "[encoded data removed]",
      "text/plain": [
       "plot without title"
      ]
     },
     "metadata": {},
     "output_type": "display_data"
    }
   ],
   "source": [
    "# 평균 조회수(절대값)\n",
    "\n",
    "ggplot(DF, aes(x=columns, y=clothes_ab, group=1)) + geom_line(color=\"blue\") +\n",
    "    ggtitle(\"검색수 높은 달 절대값\") +  xlab(\"Month(Jan, Feb, Nov, Dec)\") + ylim(0, 2500) + \n",
    "    geom_line(aes(x=columns, y=cosmetic_ab), color=\"red\") +\n",
    "    geom_line(aes(x=columns, y=dye_ab), color=\"green\") +\n",
    "    geom_line(aes(x=columns, y=accessory_ab), color=\"purple\")"
   ]
  },
  {
   "cell_type": "markdown",
   "metadata": {},
   "source": [
    "    20대 여자의 퍼스널컬러 검색수가 높은 달(1, 2, 11, 12월)\n",
    "    퍼스널컬러 목적 검색결과를 절대적(조회수)으로 알아보면,\n",
    "    옷(blue), 악세서리(purple) 비슷한 양상을 띔, 미미하게 증가\n",
    "    화장품(red), 염색(green) 비슷한 양상을 띔, 점점 감소"
   ]
  },
  {
   "cell_type": "code",
   "execution_count": null,
   "metadata": {},
   "outputs": [],
   "source": []
  }
 ],
 "metadata": {
  "kernelspec": {
   "display_name": "R",
   "language": "R",
   "name": "ir"
  },
  "language_info": {
   "codemirror_mode": "r",
   "file_extension": ".r",
   "mimetype": "text/x-r-source",
   "name": "R",
   "pygments_lexer": "r",
   "version": "3.6.1"
  }
 },
 "nbformat": 4,
 "nbformat_minor": 2
}
