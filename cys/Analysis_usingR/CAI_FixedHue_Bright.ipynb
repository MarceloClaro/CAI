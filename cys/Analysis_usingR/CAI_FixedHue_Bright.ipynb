{
 "cells": [
  {
   "cell_type": "markdown",
   "metadata": {},
   "source": [
    " ## 대표 색상(H고정) 관련 가설검증\n",
    " \n",
    "    최초 작성일 : 2020/03/10\n",
    "    작성자 : 조예슬 \n",
    " \n",
    "    < 작성 내용 >\n",
    "    \n",
    "        설문지(1) 사용 2번 문항\n",
    "        \n",
    "        - 설문조사 결과 그래프로 시각화\n",
    "        \n",
    "        - 성별에 따른 색상(FixedHue, bright) 인식 차이\n",
    "        \n",
    "        - 연령에 따른 색상(FixedHue, bright) 인식 차이\n",
    "        \n",
    "        - 패션 관심도에 따른 색상(FixedHue, bright) 인식 차이\n",
    "        \n",
    "    < 수정 내용 >\n",
    "        \n",
    "        20/03/21\n",
    "        - definition + need 묶어서 색상(FixedHue, bright) 인식 차이 \n",
    "        \n",
    "        20/03/22\n",
    "        - Sex + Age 묶어서 색상(FixedHue, bright) 인식 차이"
   ]
  },
  {
   "cell_type": "code",
   "execution_count": null,
   "metadata": {},
   "outputs": [],
   "source": []
  },
  {
   "cell_type": "markdown",
   "metadata": {},
   "source": [
    "# 색상고정, bright"
   ]
  },
  {
   "cell_type": "markdown",
   "metadata": {},
   "source": [
    "### 설문조사 결과를 토대로 대표 색상 설정"
   ]
  },
  {
   "cell_type": "code",
   "execution_count": 3,
   "metadata": {},
   "outputs": [
    {
     "name": "stdout",
     "output_type": "stream",
     "text": [
      "'data.frame':\t684 obs. of  4 variables:\n",
      " $ X     : int  0 1 2 3 4 5 6 7 8 9 ...\n",
      " $ select: Factor w/ 5 levels \"-S-V\",\"-S+V\",..: 2 4 3 2 2 5 3 4 1 4 ...\n",
      " $ class : Factor w/ 6 levels \"comp\",\"doubleness1\",..: 1 1 1 1 1 1 1 1 1 1 ...\n",
      " $ cnt   : int  1 1 1 1 1 1 1 1 1 1 ...\n"
     ]
    },
    {
     "data": {
      "text/html": [
       "<table>\n",
       "<thead><tr><th scope=col>X</th><th scope=col>select</th><th scope=col>class</th><th scope=col>cnt</th></tr></thead>\n",
       "<tbody>\n",
       "\t<tr><td>0       </td><td>-S+V    </td><td>comp    </td><td>1       </td></tr>\n",
       "\t<tr><td>1       </td><td>+S+V    </td><td>comp    </td><td>1       </td></tr>\n",
       "\t<tr><td>2       </td><td>+S-V    </td><td>comp    </td><td>1       </td></tr>\n",
       "\t<tr><td>3       </td><td>-S+V    </td><td>comp    </td><td>1       </td></tr>\n",
       "\t<tr><td>4       </td><td>-S+V    </td><td>comp    </td><td>1       </td></tr>\n",
       "\t<tr><td>5       </td><td>original</td><td>comp    </td><td>1       </td></tr>\n",
       "</tbody>\n",
       "</table>\n"
      ],
      "text/latex": [
       "\\begin{tabular}{r|llll}\n",
       " X & select & class & cnt\\\\\n",
       "\\hline\n",
       "\t 0        & -S+V     & comp     & 1       \\\\\n",
       "\t 1        & +S+V     & comp     & 1       \\\\\n",
       "\t 2        & +S-V     & comp     & 1       \\\\\n",
       "\t 3        & -S+V     & comp     & 1       \\\\\n",
       "\t 4        & -S+V     & comp     & 1       \\\\\n",
       "\t 5        & original & comp     & 1       \\\\\n",
       "\\end{tabular}\n"
      ],
      "text/markdown": [
       "\n",
       "| X | select | class | cnt |\n",
       "|---|---|---|---|\n",
       "| 0        | -S+V     | comp     | 1        |\n",
       "| 1        | +S+V     | comp     | 1        |\n",
       "| 2        | +S-V     | comp     | 1        |\n",
       "| 3        | -S+V     | comp     | 1        |\n",
       "| 4        | -S+V     | comp     | 1        |\n",
       "| 5        | original | comp     | 1        |\n",
       "\n"
      ],
      "text/plain": [
       "  X select   class cnt\n",
       "1 0 -S+V     comp  1  \n",
       "2 1 +S+V     comp  1  \n",
       "3 2 +S-V     comp  1  \n",
       "4 3 -S+V     comp  1  \n",
       "5 4 -S+V     comp  1  \n",
       "6 5 original comp  1  "
      ]
     },
     "metadata": {},
     "output_type": "display_data"
    }
   ],
   "source": [
    "# 데이터 불러오기\n",
    "\n",
    "hFixed_bright <- read.csv(\"C:/Users/cho ye seul/Documents/예슬/Acorn/FinalProject/Statistical Analysis/hFixed_bright.csv\")\n",
    "str(hFixed_bright)\n",
    "head(hFixed_bright)"
   ]
  },
  {
   "cell_type": "code",
   "execution_count": 4,
   "metadata": {},
   "outputs": [
    {
     "data": {
      "image/png": "[encoded data removed]",
      "text/plain": [
       "plot without title"
      ]
     },
     "metadata": {},
     "output_type": "display_data"
    }
   ],
   "source": [
    "# 그래프로 상태 먼저 확인\n",
    "\n",
    "# install.packages(\"ggplot2\")\n",
    "library(\"ggplot2\")\n",
    "\n",
    "# 각 샘플마다 나눠서 보기\n",
    "ggplot(hFixed_bright, aes(class, fill=select)) + geom_bar(position=\"dodge\") + labs(title=\"Representative Color(fixed hue)\")\n",
    "# 원래는 original이 가장 밝게 보여주는 색이지만\n",
    "# 그래프상으로 봤을때 doub1, tri1을 제외하고 \"-S+V\"가 많이 선택됐음을 볼 수 있다\n",
    "# 그래도 전체값을 봐보자"
   ]
  },
  {
   "cell_type": "code",
   "execution_count": 21,
   "metadata": {},
   "outputs": [
    {
     "data": {
      "text/html": [
       "<table>\n",
       "<thead><tr><th scope=col>select</th><th scope=col>total</th></tr></thead>\n",
       "<tbody>\n",
       "\t<tr><td>-S-V   </td><td>128    </td></tr>\n",
       "\t<tr><td>-S+V   </td><td>211    </td></tr>\n",
       "\t<tr><td>+S-V   </td><td>109    </td></tr>\n",
       "\t<tr><td>+S+V   </td><td>166    </td></tr>\n",
       "\t<tr><td>origial</td><td> 70    </td></tr>\n",
       "</tbody>\n",
       "</table>\n"
      ],
      "text/latex": [
       "\\begin{tabular}{r|ll}\n",
       " select & total\\\\\n",
       "\\hline\n",
       "\t -S-V    & 128    \\\\\n",
       "\t -S+V    & 211    \\\\\n",
       "\t +S-V    & 109    \\\\\n",
       "\t +S+V    & 166    \\\\\n",
       "\t origial &  70    \\\\\n",
       "\\end{tabular}\n"
      ],
      "text/markdown": [
       "\n",
       "| select | total |\n",
       "|---|---|\n",
       "| -S-V    | 128     |\n",
       "| -S+V    | 211     |\n",
       "| +S-V    | 109     |\n",
       "| +S+V    | 166     |\n",
       "| origial |  70     |\n",
       "\n"
      ],
      "text/plain": [
       "  select  total\n",
       "1 -S-V    128  \n",
       "2 -S+V    211  \n",
       "3 +S-V    109  \n",
       "4 +S+V    166  \n",
       "5 origial  70  "
      ]
     },
     "metadata": {},
     "output_type": "display_data"
    }
   ],
   "source": [
    "# 전체결과보기 위한 dataframe 새로 만들기\n",
    "t_sv <- with(hFixed_bright, sum(cnt[select==\"-S-V\"]))\n",
    "t_sV <- with(hFixed_bright, sum(cnt[select==\"-S+V\"]))\n",
    "t_Sv <- with(hFixed_bright, sum(cnt[select==\"+S-V\"]))\n",
    "t_SV <- with(hFixed_bright, sum(cnt[select==\"+S+V\"]))\n",
    "t_origin <- with(hFixed_bright, sum(cnt[select==\"original\"]))\n",
    "\n",
    "# column 만들기\n",
    "total <-c(t_sv, t_sV, t_Sv, t_SV, t_origin)\n",
    "\n",
    "# dataframe 만들기\n",
    "df_hFixed_bright <- data.frame(total)\n",
    "rownames(df_hFixed_bright) <- c(\"-S-V\", \"-S+V\", \"+S-V\", \"+S+V\", \"origial\")\n",
    "library(tibble)\n",
    "df_hFixed_bright2 <- rownames_to_column(df_hFixed_bright, var=\"select\")\n",
    "df_hFixed_bright2"
   ]
  },
  {
   "cell_type": "code",
   "execution_count": 6,
   "metadata": {},
   "outputs": [
    {
     "data": {
      "image/png": "[encoded data removed]",
      "text/plain": [
       "plot without title"
      ]
     },
     "metadata": {},
     "output_type": "display_data"
    }
   ],
   "source": [
    "# 전체 결과 그래프로 확인\n",
    "\n",
    "ggplot(df_hFixed_bright2, aes(x=select, y=total)) + geom_bar(stat=\"identity\") + labs(title=\"Representative Color(fixed hue)\")\n",
    "# 1. -S+V / 2. +S+V / 3. +S-V \n",
    "# 색상고정/bright의 경우, -S+V의 값이 대표 색상값으로 성립"
   ]
  },
  {
   "cell_type": "markdown",
   "metadata": {},
   "source": [
    "    설문조사 결과를 토대로 \n",
    "    대표색상(색상고정,bright)은 \"-S+V\"의 값으로 설정\n",
    "    (-S+V : 피부색의 보색 원색에서 명도 -5 채도 +5 한 값)\n",
    "        \n",
    "    그렇기에 앞으로 분석 방향은\n",
    "    대표색상 \"-S+V\"로 설정하여 모든것을 진행할 것"
   ]
  },
  {
   "cell_type": "code",
   "execution_count": null,
   "metadata": {},
   "outputs": [],
   "source": []
  },
  {
   "cell_type": "markdown",
   "metadata": {},
   "source": [
    "# 전체"
   ]
  },
  {
   "cell_type": "markdown",
   "metadata": {},
   "source": [
    "### 성별에 따른 대표 색상(색상고정, bright) 인식 차이 \n",
    "\n",
    "    귀무가설 : 성별에 따라 대표 색상(색상고정, bright) 인식 차이가 없다\n",
    "    대립가설 : 성별에 따라 대표 색상(색상고정, bright) 인식 차이가 있다\n",
    "    \n",
    "    - 대표 색상(색상고정, bright) : -S+V\n",
    "    - chisq.test 사용"
   ]
  },
  {
   "cell_type": "code",
   "execution_count": 1,
   "metadata": {},
   "outputs": [
    {
     "name": "stdout",
     "output_type": "stream",
     "text": [
      "'data.frame':\t684 obs. of  4 variables:\n",
      " $ X     : int  0 1 2 3 4 5 6 7 8 9 ...\n",
      " $ sex   : Factor w/ 2 levels \"Female\",\"Male\": 2 1 1 1 1 1 1 2 1 1 ...\n",
      " $ select: Factor w/ 5 levels \"-S-V\",\"-S+V\",..: 2 4 3 2 2 5 3 4 1 4 ...\n",
      " $ cnt   : int  1 1 1 1 1 1 1 1 1 1 ...\n"
     ]
    },
    {
     "data": {
      "text/html": [
       "<table>\n",
       "<thead><tr><th scope=col>X</th><th scope=col>sex</th><th scope=col>select</th><th scope=col>cnt</th></tr></thead>\n",
       "<tbody>\n",
       "\t<tr><td>0       </td><td>Male    </td><td>-S+V    </td><td>1       </td></tr>\n",
       "\t<tr><td>1       </td><td>Female  </td><td>+S+V    </td><td>1       </td></tr>\n",
       "\t<tr><td>2       </td><td>Female  </td><td>+S-V    </td><td>1       </td></tr>\n",
       "\t<tr><td>3       </td><td>Female  </td><td>-S+V    </td><td>1       </td></tr>\n",
       "\t<tr><td>4       </td><td>Female  </td><td>-S+V    </td><td>1       </td></tr>\n",
       "\t<tr><td>5       </td><td>Female  </td><td>original</td><td>1       </td></tr>\n",
       "</tbody>\n",
       "</table>\n"
      ],
      "text/latex": [
       "\\begin{tabular}{r|llll}\n",
       " X & sex & select & cnt\\\\\n",
       "\\hline\n",
       "\t 0        & Male     & -S+V     & 1       \\\\\n",
       "\t 1        & Female   & +S+V     & 1       \\\\\n",
       "\t 2        & Female   & +S-V     & 1       \\\\\n",
       "\t 3        & Female   & -S+V     & 1       \\\\\n",
       "\t 4        & Female   & -S+V     & 1       \\\\\n",
       "\t 5        & Female   & original & 1       \\\\\n",
       "\\end{tabular}\n"
      ],
      "text/markdown": [
       "\n",
       "| X | sex | select | cnt |\n",
       "|---|---|---|---|\n",
       "| 0        | Male     | -S+V     | 1        |\n",
       "| 1        | Female   | +S+V     | 1        |\n",
       "| 2        | Female   | +S-V     | 1        |\n",
       "| 3        | Female   | -S+V     | 1        |\n",
       "| 4        | Female   | -S+V     | 1        |\n",
       "| 5        | Female   | original | 1        |\n",
       "\n"
      ],
      "text/plain": [
       "  X sex    select   cnt\n",
       "1 0 Male   -S+V     1  \n",
       "2 1 Female +S+V     1  \n",
       "3 2 Female +S-V     1  \n",
       "4 3 Female -S+V     1  \n",
       "5 4 Female -S+V     1  \n",
       "6 5 Female original 1  "
      ]
     },
     "metadata": {},
     "output_type": "display_data"
    }
   ],
   "source": [
    "# 데이터 불러오기\n",
    "\n",
    "S_hFB_cnt <- read.csv(\"C:/Users/cho ye seul/Documents/예슬/Acorn/FinalProject/Statistical Analysis/S_hFB_cnt.csv\")\n",
    "str(S_hFB_cnt)\n",
    "head(S_hFB_cnt)"
   ]
  },
  {
   "cell_type": "code",
   "execution_count": 8,
   "metadata": {},
   "outputs": [
    {
     "data": {
      "text/html": [
       "<table>\n",
       "<thead><tr><th></th><th scope=col>True</th><th scope=col>False</th><th scope=col>Sum</th></tr></thead>\n",
       "<tbody>\n",
       "\t<tr><th scope=row>Male</th><td> 41</td><td>115</td><td>156</td></tr>\n",
       "\t<tr><th scope=row>Female</th><td>170</td><td>358</td><td>528</td></tr>\n",
       "\t<tr><th scope=row>Sum</th><td>211</td><td>473</td><td>684</td></tr>\n",
       "</tbody>\n",
       "</table>\n"
      ],
      "text/latex": [
       "\\begin{tabular}{r|lll}\n",
       "  & True & False & Sum\\\\\n",
       "\\hline\n",
       "\tMale &  41 & 115 & 156\\\\\n",
       "\tFemale & 170 & 358 & 528\\\\\n",
       "\tSum & 211 & 473 & 684\\\\\n",
       "\\end{tabular}\n"
      ],
      "text/markdown": [
       "\n",
       "| <!--/--> | True | False | Sum |\n",
       "|---|---|---|---|\n",
       "| Male |  41 | 115 | 156 |\n",
       "| Female | 170 | 358 | 528 |\n",
       "| Sum | 211 | 473 | 684 |\n",
       "\n"
      ],
      "text/plain": [
       "       True False Sum\n",
       "Male    41  115   156\n",
       "Female 170  358   528\n",
       "Sum    211  473   684"
      ]
     },
     "metadata": {},
     "output_type": "display_data"
    },
    {
     "data": {
      "text/plain": [
       "\n",
       "\tPearson's Chi-squared test with Yates' continuity correction\n",
       "\n",
       "data:  df_S_hFB_cnt\n",
       "X-squared = 1.7075, df = 1, p-value = 0.1913\n"
      ]
     },
     "metadata": {},
     "output_type": "display_data"
    }
   ],
   "source": [
    "## 데이터프레임 재생성\n",
    "\n",
    "# 남\n",
    "Male_T <- with(S_hFB_cnt, sum(cnt[sex==\"Male\" & select == \"-S+V\"]))\n",
    "Male_F <- with(S_hFB_cnt, sum(cnt[sex==\"Male\" & select != \"-S+V\"]))\n",
    "\n",
    "# 여\n",
    "Female_T <- with(S_hFB_cnt, sum(cnt[sex==\"Female\" & select == \"-S+V\"]))\n",
    "Female_F <- with(S_hFB_cnt, sum(cnt[sex==\"Female\" & select != \"-S+V\"]))\n",
    "\n",
    "# column 생성\n",
    "Male <- c(Male_T, Male_F)\n",
    "Female <- c(Female_T, Female_F)\n",
    "\n",
    "# dataframe 만들기\n",
    "df_S_hFB_cnt <- data.frame(Male, Female)\n",
    "df_S_hFB_cnt <- t(df_S_hFB_cnt)\n",
    "colnames(df_S_hFB_cnt) <- c(\"True\", \"False\")\n",
    "\n",
    "\n",
    "## 행, 열 각각의 합계 알아보기\n",
    "addmargins(df_S_hFB_cnt)\n",
    "\n",
    "\n",
    "## 카이제곱\n",
    "chisq.test(df_S_hFB_cnt)\n",
    "# p-value = 0.1913\n",
    "# 0.05보다 큰 값을 가지므로 귀무가설 성립\n",
    "# 성별에 따라 안면부위 인식 차이가 없음을 알 수 있다"
   ]
  },
  {
   "cell_type": "markdown",
   "metadata": {},
   "source": [
    "#### 성별에 따라 어떤 색상을 제일 많이 선택했는지 알아보기"
   ]
  },
  {
   "cell_type": "code",
   "execution_count": 41,
   "metadata": {},
   "outputs": [
    {
     "data": {
      "text/html": [
       "<table>\n",
       "<thead><tr><th></th><th scope=col>-S-V</th><th scope=col>-S+V</th><th scope=col>+S-V</th><th scope=col>+S+V</th><th scope=col>original</th></tr></thead>\n",
       "<tbody>\n",
       "\t<tr><th scope=row>M</th><td> 18</td><td> 41</td><td>31 </td><td> 51</td><td>15 </td></tr>\n",
       "\t<tr><th scope=row>F</th><td>110</td><td>170</td><td>78 </td><td>115</td><td>55 </td></tr>\n",
       "</tbody>\n",
       "</table>\n"
      ],
      "text/latex": [
       "\\begin{tabular}{r|lllll}\n",
       "  & -S-V & -S+V & +S-V & +S+V & original\\\\\n",
       "\\hline\n",
       "\tM &  18 &  41 & 31  &  51 & 15 \\\\\n",
       "\tF & 110 & 170 & 78  & 115 & 55 \\\\\n",
       "\\end{tabular}\n"
      ],
      "text/markdown": [
       "\n",
       "| <!--/--> | -S-V | -S+V | +S-V | +S+V | original |\n",
       "|---|---|---|---|---|---|\n",
       "| M |  18 |  41 | 31  |  51 | 15  |\n",
       "| F | 110 | 170 | 78  | 115 | 55  |\n",
       "\n"
      ],
      "text/plain": [
       "  -S-V -S+V +S-V +S+V original\n",
       "M  18   41  31    51  15      \n",
       "F 110  170  78   115  55      "
      ]
     },
     "metadata": {},
     "output_type": "display_data"
    }
   ],
   "source": [
    "# 남\n",
    "M_sv <- with(S_hFB_cnt, sum(cnt[sex == \"Male\" & select == \"-S-V\"]))\n",
    "M_sV <- with(S_hFB_cnt, sum(cnt[sex == \"Male\" & select == \"-S+V\"]))\n",
    "M_Sv <- with(S_hFB_cnt, sum(cnt[sex == \"Male\" & select == \"+S-V\"]))\n",
    "M_SV <- with(S_hFB_cnt, sum(cnt[sex == \"Male\" & select == \"+S+V\"]))\n",
    "M_origin <- with(S_hFB_cnt, sum(cnt[sex == \"Male\" & select == \"original\"]))\n",
    "\n",
    "# 여\n",
    "F_sv <- with(S_hFB_cnt, sum(cnt[sex == \"Female\" & select == \"-S-V\"]))\n",
    "F_sV <- with(S_hFB_cnt, sum(cnt[sex == \"Female\" & select == \"-S+V\"]))\n",
    "F_Sv <- with(S_hFB_cnt, sum(cnt[sex == \"Female\" & select == \"+S-V\"]))\n",
    "F_SV <- with(S_hFB_cnt, sum(cnt[sex == \"Female\" & select == \"+S+V\"]))\n",
    "F_origin <- with(S_hFB_cnt, sum(cnt[sex == \"Female\" & select == \"original\"]))\n",
    "\n",
    "# 컬럼\n",
    "M <- c(M_sv, M_sV, M_Sv, M_SV, M_origin)\n",
    "F <- c(F_sv, F_sV, F_Sv, F_SV, F_origin)\n",
    "\n",
    "# dataframe으로 생성\n",
    "total_sex_HFB <- data.frame(M, F)\n",
    "total_sex_HFB <- t(total_sex_HFB)\n",
    "colnames(total_sex_HFB) <- c(\"-S-V\", \"-S+V\", \"+S-V\", \"+S+V\", \"original\")\n",
    "library(tibble)\n",
    "# total_sex_HFB <- colnames_to_column(total_sex_HFB, var=\"select\")\n",
    "total_sex_HFB"
   ]
  },
  {
   "cell_type": "code",
   "execution_count": 42,
   "metadata": {},
   "outputs": [
    {
     "data": {
      "image/png": "[encoded data removed]",
      "text/plain": [
       "plot without title"
      ]
     },
     "metadata": {},
     "output_type": "display_data"
    }
   ],
   "source": [
    "# 시각적으로 나타내기\n",
    "\n",
    "barplot(total_sex_HFB, col=c(\"darkblue\", \"pink\"), beside=TRUE)\n",
    "# 음... 여자 남자 따로 보고싶지만 일단은 이렇게라도 봐보자 나중에 다시 수정할것!!\n",
    "# 여성 -S+V > +S+V > -S-V\n",
    "# 남성 +S+V > -S+V > +S-V"
   ]
  },
  {
   "cell_type": "code",
   "execution_count": null,
   "metadata": {},
   "outputs": [],
   "source": []
  },
  {
   "cell_type": "markdown",
   "metadata": {},
   "source": [
    "### 연령에 따른 대표 색상(색상고정, bright) 인식 차이 \n",
    "\n",
    "    귀무가설 : 연령에 따라 대표 색상(색상고정, bright) 인식 차이가 없다\n",
    "    대립가설 : 연령에 따라 대표 색상(색상고정, bright) 인식 차이가 있다\n",
    "    \n",
    "    - 대표 색상(색상고정, bright) : -S+V\n",
    "    - chisq.test 사용"
   ]
  },
  {
   "cell_type": "code",
   "execution_count": 51,
   "metadata": {},
   "outputs": [
    {
     "name": "stdout",
     "output_type": "stream",
     "text": [
      "'data.frame':\t684 obs. of  4 variables:\n",
      " $ X     : int  0 1 2 3 4 5 6 7 8 9 ...\n",
      " $ age   : int  20 20 20 20 20 20 20 20 20 20 ...\n",
      " $ select: Factor w/ 5 levels \"-S-V\",\"-S+V\",..: 2 4 3 2 2 5 3 4 1 4 ...\n",
      " $ cnt   : int  1 1 1 1 1 1 1 1 1 1 ...\n"
     ]
    },
    {
     "data": {
      "text/html": [
       "<table>\n",
       "<thead><tr><th scope=col>X</th><th scope=col>age</th><th scope=col>select</th><th scope=col>cnt</th></tr></thead>\n",
       "<tbody>\n",
       "\t<tr><td>0       </td><td>20      </td><td>-S+V    </td><td>1       </td></tr>\n",
       "\t<tr><td>1       </td><td>20      </td><td>+S+V    </td><td>1       </td></tr>\n",
       "\t<tr><td>2       </td><td>20      </td><td>+S-V    </td><td>1       </td></tr>\n",
       "\t<tr><td>3       </td><td>20      </td><td>-S+V    </td><td>1       </td></tr>\n",
       "\t<tr><td>4       </td><td>20      </td><td>-S+V    </td><td>1       </td></tr>\n",
       "\t<tr><td>5       </td><td>20      </td><td>original</td><td>1       </td></tr>\n",
       "</tbody>\n",
       "</table>\n"
      ],
      "text/latex": [
       "\\begin{tabular}{r|llll}\n",
       " X & age & select & cnt\\\\\n",
       "\\hline\n",
       "\t 0        & 20       & -S+V     & 1       \\\\\n",
       "\t 1        & 20       & +S+V     & 1       \\\\\n",
       "\t 2        & 20       & +S-V     & 1       \\\\\n",
       "\t 3        & 20       & -S+V     & 1       \\\\\n",
       "\t 4        & 20       & -S+V     & 1       \\\\\n",
       "\t 5        & 20       & original & 1       \\\\\n",
       "\\end{tabular}\n"
      ],
      "text/markdown": [
       "\n",
       "| X | age | select | cnt |\n",
       "|---|---|---|---|\n",
       "| 0        | 20       | -S+V     | 1        |\n",
       "| 1        | 20       | +S+V     | 1        |\n",
       "| 2        | 20       | +S-V     | 1        |\n",
       "| 3        | 20       | -S+V     | 1        |\n",
       "| 4        | 20       | -S+V     | 1        |\n",
       "| 5        | 20       | original | 1        |\n",
       "\n"
      ],
      "text/plain": [
       "  X age select   cnt\n",
       "1 0 20  -S+V     1  \n",
       "2 1 20  +S+V     1  \n",
       "3 2 20  +S-V     1  \n",
       "4 3 20  -S+V     1  \n",
       "5 4 20  -S+V     1  \n",
       "6 5 20  original 1  "
      ]
     },
     "metadata": {},
     "output_type": "display_data"
    }
   ],
   "source": [
    "# 데이터 불러오기\n",
    "\n",
    "A_hFB_cnt <- read.csv(\"C:/Users/cho ye seul/Documents/예슬/Acorn/FinalProject/Statistical Analysis/A_hFB_cnt.csv\")\n",
    "str(A_hFB_cnt)\n",
    "head(A_hFB_cnt)"
   ]
  },
  {
   "cell_type": "code",
   "execution_count": 56,
   "metadata": {},
   "outputs": [
    {
     "data": {
      "text/html": [
       "<table>\n",
       "<thead><tr><th></th><th scope=col>True</th><th scope=col>False</th><th scope=col>Sum</th></tr></thead>\n",
       "<tbody>\n",
       "\t<tr><th scope=row>teens</th><td>  2</td><td>  4</td><td>  6</td></tr>\n",
       "\t<tr><th scope=row>twenty</th><td>190</td><td>404</td><td>594</td></tr>\n",
       "\t<tr><th scope=row>thirty</th><td> 10</td><td> 44</td><td> 54</td></tr>\n",
       "\t<tr><th scope=row>forty</th><td>  7</td><td> 11</td><td> 18</td></tr>\n",
       "\t<tr><th scope=row>fifty</th><td>  2</td><td> 10</td><td> 12</td></tr>\n",
       "\t<tr><th scope=row>Sum</th><td>211</td><td>473</td><td>684</td></tr>\n",
       "</tbody>\n",
       "</table>\n"
      ],
      "text/latex": [
       "\\begin{tabular}{r|lll}\n",
       "  & True & False & Sum\\\\\n",
       "\\hline\n",
       "\tteens &   2 &   4 &   6\\\\\n",
       "\ttwenty & 190 & 404 & 594\\\\\n",
       "\tthirty &  10 &  44 &  54\\\\\n",
       "\tforty &   7 &  11 &  18\\\\\n",
       "\tfifty &   2 &  10 &  12\\\\\n",
       "\tSum & 211 & 473 & 684\\\\\n",
       "\\end{tabular}\n"
      ],
      "text/markdown": [
       "\n",
       "| <!--/--> | True | False | Sum |\n",
       "|---|---|---|---|\n",
       "| teens |   2 |   4 |   6 |\n",
       "| twenty | 190 | 404 | 594 |\n",
       "| thirty |  10 |  44 |  54 |\n",
       "| forty |   7 |  11 |  18 |\n",
       "| fifty |   2 |  10 |  12 |\n",
       "| Sum | 211 | 473 | 684 |\n",
       "\n"
      ],
      "text/plain": [
       "       True False Sum\n",
       "teens    2    4     6\n",
       "twenty 190  404   594\n",
       "thirty  10   44    54\n",
       "forty    7   11    18\n",
       "fifty    2   10    12\n",
       "Sum    211  473   684"
      ]
     },
     "metadata": {},
     "output_type": "display_data"
    },
    {
     "name": "stderr",
     "output_type": "stream",
     "text": [
      "Warning message in chisq.test(df_Age_Region):\n",
      "\"Chi-squared approximation may be incorrect\""
     ]
    },
    {
     "data": {
      "text/plain": [
       "\n",
       "\tPearson's Chi-squared test\n",
       "\n",
       "data:  df_Age_Region\n",
       "X-squared = 5.9034, df = 4, p-value = 0.2065\n"
      ]
     },
     "metadata": {},
     "output_type": "display_data"
    },
    {
     "data": {
      "text/plain": [
       "\n",
       "\tFisher's Exact Test for Count Data\n",
       "\n",
       "data:  df_Age_Region\n",
       "p-value = 0.1838\n",
       "alternative hypothesis: two.sided\n"
      ]
     },
     "metadata": {},
     "output_type": "display_data"
    }
   ],
   "source": [
    "## 데이터프레임 재생성\n",
    "\n",
    "teens_T <- with(A_hFB_cnt, sum(cnt[age == \"10\" & select == \"-S+V\"]))\n",
    "teens_F <- with(A_hFB_cnt, sum(cnt[age == \"10\" & select != \"-S+V\"]))\n",
    "\n",
    "twenty_T <- with(A_hFB_cnt, sum(cnt[age == \"20\" & select == \"-S+V\"]))\n",
    "twenty_F <- with(A_hFB_cnt, sum(cnt[age == \"20\" & select != \"-S+V\"]))\n",
    "\n",
    "thirty_T <- with(A_hFB_cnt, sum(cnt[age == \"30\" & select == \"-S+V\"]))\n",
    "thirty_F <- with(A_hFB_cnt, sum(cnt[age == \"30\" & select != \"-S+V\"]))\n",
    "\n",
    "forty_T <- with(A_hFB_cnt, sum(cnt[age == \"40\" & select == \"-S+V\"]))\n",
    "forty_F <- with(A_hFB_cnt, sum(cnt[age == \"40\" & select != \"-S+V\"]))\n",
    "\n",
    "fifty_T <- with(A_hFB_cnt, sum(cnt[age == \"50\" & select == \"-S+V\"]))\n",
    "fifty_F <- with(A_hFB_cnt, sum(cnt[age == \"50\" & select != \"-S+V\"]))\n",
    "\n",
    "teens <- c(teens_T, teens_F)\n",
    "twenty <- c(twenty_T, twenty_F)\n",
    "thirty <- c(thirty_T, thirty_F)\n",
    "forty <- c(forty_T, forty_F)\n",
    "fifty <- c(fifty_T, fifty_F)\n",
    "             \n",
    "df_Age_Region <- data.frame(teens, twenty, thirty, forty, fifty)\n",
    "df_Age_Region <- t(df_Age_Region)\n",
    "colnames(df_Age_Region) <- c(\"True\", \"False\")\n",
    "# df_Age_Region\n",
    "\n",
    "\n",
    "## 행, 열 각각의 합계 알아보기\n",
    "\n",
    "addmargins(df_Age_Region)\n",
    "# 합계값이 동일하지 않으므로 chisq.test 사용\n",
    "\n",
    "\n",
    "## 카이제곱\n",
    "\n",
    "chisq.test(df_Age_Region)\n",
    "# p-value = 0.2065\n",
    "# 0.05보다 큰 값을 가지므로 귀무가설 성립\n",
    "# 연령에 따라 색상(hueBright) 인식 차이가 없음을 알 수 있다\n",
    "# but 기대도수가 낮은 셀이 전체의 25% 이상 존재하므로 \n",
    "# Fisher's exact test 사용해야한다!!\n",
    "\n",
    "\n",
    "## Fisher's exact test\n",
    "\n",
    "fisher.test(df_Age_Region)\n",
    "# p-value = 0.1838\n",
    "# 0.05보다 큰 값을 가지므로 귀무가설 성립\n",
    "# 연령에 따라 색상(hueBright) 인식 차이가 없음을 알 수 있다"
   ]
  },
  {
   "cell_type": "markdown",
   "metadata": {},
   "source": [
    "#### 연령에 따라 어떤 색상을 제일 많이 선택했는지 알아보기"
   ]
  },
  {
   "cell_type": "code",
   "execution_count": 63,
   "metadata": {},
   "outputs": [
    {
     "data": {
      "text/html": [
       "<table>\n",
       "<thead><tr><th></th><th scope=col>sv</th><th scope=col>sV</th><th scope=col>SV</th><th scope=col>Sv</th><th scope=col>origin</th></tr></thead>\n",
       "<tbody>\n",
       "\t<tr><th scope=row>10대</th><td>  2</td><td>  2</td><td>  1</td><td> 1 </td><td> 0 </td></tr>\n",
       "\t<tr><th scope=row>20대</th><td>107</td><td>190</td><td>147</td><td>87 </td><td>63 </td></tr>\n",
       "\t<tr><th scope=row>30대</th><td> 14</td><td> 10</td><td> 14</td><td>12 </td><td> 4 </td></tr>\n",
       "\t<tr><th scope=row>40대</th><td>  4</td><td>  7</td><td>  2</td><td> 4 </td><td> 1 </td></tr>\n",
       "\t<tr><th scope=row>50대</th><td>  1</td><td>  2</td><td>  2</td><td> 5 </td><td> 2 </td></tr>\n",
       "</tbody>\n",
       "</table>\n"
      ],
      "text/latex": [
       "\\begin{tabular}{r|lllll}\n",
       "  & sv & sV & SV & Sv & origin\\\\\n",
       "\\hline\n",
       "\t10대 &   2 &   2 &   1 &  1  &  0 \\\\\n",
       "\t20대 & 107 & 190 & 147 & 87  & 63 \\\\\n",
       "\t30대 &  14 &  10 &  14 & 12  &  4 \\\\\n",
       "\t40대 &   4 &   7 &   2 &  4  &  1 \\\\\n",
       "\t50대 &   1 &   2 &   2 &  5  &  2 \\\\\n",
       "\\end{tabular}\n"
      ],
      "text/markdown": [
       "\n",
       "| <!--/--> | sv | sV | SV | Sv | origin |\n",
       "|---|---|---|---|---|---|\n",
       "| 10대 |   2 |   2 |   1 |  1  |  0  |\n",
       "| 20대 | 107 | 190 | 147 | 87  | 63  |\n",
       "| 30대 |  14 |  10 |  14 | 12  |  4  |\n",
       "| 40대 |   4 |   7 |   2 |  4  |  1  |\n",
       "| 50대 |   1 |   2 |   2 |  5  |  2  |\n",
       "\n"
      ],
      "text/plain": [
       "     sv  sV  SV  Sv origin\n",
       "10대   2   2   1  1  0    \n",
       "20대 107 190 147 87 63    \n",
       "30대  14  10  14 12  4    \n",
       "40대   4   7   2  4  1    \n",
       "50대   1   2   2  5  2    "
      ]
     },
     "metadata": {},
     "output_type": "display_data"
    }
   ],
   "source": [
    "# 연령에 따른 색상 선택 차이 보기 \n",
    "\n",
    "A_sv <- c()\n",
    "A_sV <- c()\n",
    "A_SV <- c()\n",
    "A_Sv <- c()\n",
    "A_origin <- c()\n",
    "\n",
    "for(i in seq(10, 50, by=10)){\n",
    "    sv <- with(A_hFB_cnt, sum(cnt[age==i & select==\"-S-V\"]))\n",
    "    A_sv[[i/10]] <- sv\n",
    "    \n",
    "    sV <- with(A_hFB_cnt, sum(cnt[age==i & select==\"-S+V\"]))\n",
    "    A_sV[[i/10]] <- sV\n",
    "    \n",
    "    SV <- with(A_hFB_cnt, sum(cnt[age==i & select==\"+S+V\"]))\n",
    "    A_SV[[i/10]] <- SV\n",
    "    \n",
    "    Sv <- with(A_hFB_cnt, sum(cnt[age==i & select==\"+S-V\"]))\n",
    "    A_Sv[[i/10]] <- Sv\n",
    "    \n",
    "    origin <- with(A_hFB_cnt, sum(cnt[age==i & select==\"original\"]))\n",
    "    A_origin[[i/10]] <- origin\n",
    "    \n",
    "    \n",
    "    Age_hFB <- data.frame(sv=A_sv, sV=A_sV, SV=A_SV, Sv=A_Sv, origin=A_origin)\n",
    "}\n",
    "\n",
    "\n",
    "rownames(Age_hFB) <- c(\"10대\", \"20대\", \"30대\", \"40대\", \"50대\") # 왜 for문 안에선 안먹히냐\n",
    "# Age_hFB <- rownames_to_column(Age_hFB, var=\"Age\")\n",
    "Age_hFB <- transform(Age_hFB, sv=as.numeric(sv), sV=as.numeric(sV), SV=as.numeric(SV), Sv=as.numeric(Sv), origin=as.numeric(origin) )\n",
    "Age_hFB "
   ]
  },
  {
   "cell_type": "code",
   "execution_count": null,
   "metadata": {},
   "outputs": [],
   "source": [
    "## 시각적으로 나타내기"
   ]
  },
  {
   "cell_type": "code",
   "execution_count": null,
   "metadata": {},
   "outputs": [],
   "source": []
  },
  {
   "cell_type": "markdown",
   "metadata": {},
   "source": [
    "### 패션 관심도에 따른 대표 색상(색상고정, bright) 인식 차이 \n",
    "\n",
    "    귀무가설 : 패션 관심도에 따라 대표 색상(색상고정, bright) 인식 차이가 없다\n",
    "    대립가설 : 패션 관심도에 따라 대표 색상(색상고정, bright) 인식 차이가 있다\n",
    "    \n",
    "    - 대표 색상(색상고정, bright) : -S+V\n",
    "    - chisq.test 사용"
   ]
  },
  {
   "cell_type": "code",
   "execution_count": 58,
   "metadata": {},
   "outputs": [
    {
     "name": "stdout",
     "output_type": "stream",
     "text": [
      "'data.frame':\t684 obs. of  4 variables:\n",
      " $ X       : int  0 1 2 3 4 5 6 7 8 9 ...\n",
      " $ interest: int  5 5 3 3 4 2 5 3 4 4 ...\n",
      " $ select  : Factor w/ 5 levels \"-S-V\",\"-S+V\",..: 2 4 3 2 2 5 3 4 1 4 ...\n",
      " $ cnt     : int  1 1 1 1 1 1 1 1 1 1 ...\n"
     ]
    },
    {
     "data": {
      "text/html": [
       "<table>\n",
       "<thead><tr><th scope=col>X</th><th scope=col>interest</th><th scope=col>select</th><th scope=col>cnt</th></tr></thead>\n",
       "<tbody>\n",
       "\t<tr><td>0       </td><td>5       </td><td>-S+V    </td><td>1       </td></tr>\n",
       "\t<tr><td>1       </td><td>5       </td><td>+S+V    </td><td>1       </td></tr>\n",
       "\t<tr><td>2       </td><td>3       </td><td>+S-V    </td><td>1       </td></tr>\n",
       "\t<tr><td>3       </td><td>3       </td><td>-S+V    </td><td>1       </td></tr>\n",
       "\t<tr><td>4       </td><td>4       </td><td>-S+V    </td><td>1       </td></tr>\n",
       "\t<tr><td>5       </td><td>2       </td><td>original</td><td>1       </td></tr>\n",
       "</tbody>\n",
       "</table>\n"
      ],
      "text/latex": [
       "\\begin{tabular}{r|llll}\n",
       " X & interest & select & cnt\\\\\n",
       "\\hline\n",
       "\t 0        & 5        & -S+V     & 1       \\\\\n",
       "\t 1        & 5        & +S+V     & 1       \\\\\n",
       "\t 2        & 3        & +S-V     & 1       \\\\\n",
       "\t 3        & 3        & -S+V     & 1       \\\\\n",
       "\t 4        & 4        & -S+V     & 1       \\\\\n",
       "\t 5        & 2        & original & 1       \\\\\n",
       "\\end{tabular}\n"
      ],
      "text/markdown": [
       "\n",
       "| X | interest | select | cnt |\n",
       "|---|---|---|---|\n",
       "| 0        | 5        | -S+V     | 1        |\n",
       "| 1        | 5        | +S+V     | 1        |\n",
       "| 2        | 3        | +S-V     | 1        |\n",
       "| 3        | 3        | -S+V     | 1        |\n",
       "| 4        | 4        | -S+V     | 1        |\n",
       "| 5        | 2        | original | 1        |\n",
       "\n"
      ],
      "text/plain": [
       "  X interest select   cnt\n",
       "1 0 5        -S+V     1  \n",
       "2 1 5        +S+V     1  \n",
       "3 2 3        +S-V     1  \n",
       "4 3 3        -S+V     1  \n",
       "5 4 4        -S+V     1  \n",
       "6 5 2        original 1  "
      ]
     },
     "metadata": {},
     "output_type": "display_data"
    }
   ],
   "source": [
    "# 데이터 불러오기\n",
    "\n",
    "I_hFB_cnt <- read.csv(\"C:/Users/cho ye seul/Documents/예슬/Acorn/FinalProject/Statistical Analysis/I_hFB_cnt.csv\")\n",
    "str(I_hFB_cnt)\n",
    "head(I_hFB_cnt)"
   ]
  },
  {
   "cell_type": "code",
   "execution_count": 91,
   "metadata": {},
   "outputs": [
    {
     "data": {
      "text/html": [
       "<table>\n",
       "<thead><tr><th scope=col>True</th><th scope=col>False</th></tr></thead>\n",
       "<tbody>\n",
       "\t<tr><td> 5 </td><td>  7</td></tr>\n",
       "\t<tr><td>26 </td><td> 58</td></tr>\n",
       "\t<tr><td>65 </td><td>181</td></tr>\n",
       "\t<tr><td>85 </td><td>143</td></tr>\n",
       "\t<tr><td>30 </td><td> 84</td></tr>\n",
       "</tbody>\n",
       "</table>\n"
      ],
      "text/latex": [
       "\\begin{tabular}{r|ll}\n",
       " True & False\\\\\n",
       "\\hline\n",
       "\t  5  &   7\\\\\n",
       "\t 26  &  58\\\\\n",
       "\t 65  & 181\\\\\n",
       "\t 85  & 143\\\\\n",
       "\t 30  &  84\\\\\n",
       "\\end{tabular}\n"
      ],
      "text/markdown": [
       "\n",
       "| True | False |\n",
       "|---|---|\n",
       "|  5  |   7 |\n",
       "| 26  |  58 |\n",
       "| 65  | 181 |\n",
       "| 85  | 143 |\n",
       "| 30  |  84 |\n",
       "\n"
      ],
      "text/plain": [
       "  True False\n",
       "1  5     7  \n",
       "2 26    58  \n",
       "3 65   181  \n",
       "4 85   143  \n",
       "5 30    84  "
      ]
     },
     "metadata": {},
     "output_type": "display_data"
    },
    {
     "name": "stderr",
     "output_type": "stream",
     "text": [
      "Warning message in chisq.test(interest_TF):\n",
      "\"Chi-squared approximation may be incorrect\""
     ]
    },
    {
     "data": {
      "text/plain": [
       "\n",
       "\tPearson's Chi-squared test\n",
       "\n",
       "data:  interest_TF\n",
       "X-squared = 8.4376, df = 4, p-value = 0.0768\n"
      ]
     },
     "metadata": {},
     "output_type": "display_data"
    },
    {
     "data": {
      "text/plain": [
       "\n",
       "\tFisher's Exact Test for Count Data\n",
       "\n",
       "data:  interest_TF\n",
       "p-value = 0.07355\n",
       "alternative hypothesis: two.sided\n"
      ]
     },
     "metadata": {},
     "output_type": "display_data"
    }
   ],
   "source": [
    "## 데이터프레임 재생성\n",
    "\n",
    "I_True <- c()\n",
    "I_False <- c()\n",
    "\n",
    "for(i in seq(1,5, by=1)){\n",
    "    True <- with(I_hFB_cnt, sum(cnt[interest==i & select ==\"-S+V\"]))\n",
    "    I_True[[(i)]] <- True\n",
    "    \n",
    "    False <- with(I_hFB_cnt, sum(cnt[interest==i & select != \"-S+V\"]))\n",
    "\n",
    "    I_False[[i]] <- False\n",
    "   \n",
    "    \n",
    "    interest_TF <- data.frame(True=I_True, False=I_False)\n",
    "}\n",
    "\n",
    "interest_TF\n",
    "\n",
    "# 카이제곱\n",
    "\n",
    "chisq.test(interest_TF)\n",
    "# p-value = 0.0768\n",
    "# but 기대도수가 낮은 셀이 전체의 25% 이상 존재하므로 \n",
    "# Fisher's exact test 사용해야한다!!\n",
    "\n",
    "\n",
    "## Fisher's exact test\n",
    "\n",
    "fisher.test(interest_TF)\n",
    "# p-value = 0.07355\n",
    "# 0.05보다 큰 값을 가지므로 귀무가설 성립"
   ]
  },
  {
   "cell_type": "code",
   "execution_count": 15,
   "metadata": {},
   "outputs": [
    {
     "data": {
      "text/html": [
       "<table>\n",
       "<thead><tr><th scope=col>Interest</th><th scope=col>sv</th><th scope=col>sV</th><th scope=col>SV</th><th scope=col>Sv</th><th scope=col>origin</th></tr></thead>\n",
       "<tbody>\n",
       "\t<tr><td>1 </td><td> 4</td><td> 5</td><td> 1</td><td> 1</td><td> 1</td></tr>\n",
       "\t<tr><td>2 </td><td>20</td><td>26</td><td>23</td><td> 8</td><td> 7</td></tr>\n",
       "\t<tr><td>3 </td><td>46</td><td>65</td><td>62</td><td>41</td><td>32</td></tr>\n",
       "\t<tr><td>4 </td><td>33</td><td>85</td><td>55</td><td>37</td><td>18</td></tr>\n",
       "\t<tr><td>5 </td><td>25</td><td>30</td><td>25</td><td>22</td><td>12</td></tr>\n",
       "</tbody>\n",
       "</table>\n"
      ],
      "text/latex": [
       "\\begin{tabular}{r|llllll}\n",
       " Interest & sv & sV & SV & Sv & origin\\\\\n",
       "\\hline\n",
       "\t 1  &  4 &  5 &  1 &  1 &  1\\\\\n",
       "\t 2  & 20 & 26 & 23 &  8 &  7\\\\\n",
       "\t 3  & 46 & 65 & 62 & 41 & 32\\\\\n",
       "\t 4  & 33 & 85 & 55 & 37 & 18\\\\\n",
       "\t 5  & 25 & 30 & 25 & 22 & 12\\\\\n",
       "\\end{tabular}\n"
      ],
      "text/markdown": [
       "\n",
       "| Interest | sv | sV | SV | Sv | origin |\n",
       "|---|---|---|---|---|---|\n",
       "| 1  |  4 |  5 |  1 |  1 |  1 |\n",
       "| 2  | 20 | 26 | 23 |  8 |  7 |\n",
       "| 3  | 46 | 65 | 62 | 41 | 32 |\n",
       "| 4  | 33 | 85 | 55 | 37 | 18 |\n",
       "| 5  | 25 | 30 | 25 | 22 | 12 |\n",
       "\n"
      ],
      "text/plain": [
       "  Interest sv sV SV Sv origin\n",
       "1 1         4  5  1  1  1    \n",
       "2 2        20 26 23  8  7    \n",
       "3 3        46 65 62 41 32    \n",
       "4 4        33 85 55 37 18    \n",
       "5 5        25 30 25 22 12    "
      ]
     },
     "metadata": {},
     "output_type": "display_data"
    }
   ],
   "source": [
    "# 패션관심도에 따른 색상 선택 차이 보기 \n",
    "\n",
    "A_sv <- c()\n",
    "A_sV <- c()\n",
    "A_SV <- c()\n",
    "A_Sv <- c()\n",
    "A_origin <- c()\n",
    "# I_hFB_cnt\n",
    "\n",
    "for(i in seq(1, 5, by=1)){\n",
    "    sv <- with(I_hFB_cnt, sum(cnt[interest==i & select==\"-S-V\"]))\n",
    "    A_sv[[i]] <- sv\n",
    "    \n",
    "    sV <- with(I_hFB_cnt, sum(cnt[interest==i & select==\"-S+V\"]))\n",
    "    A_sV[[i]] <- sV\n",
    "    \n",
    "    SV <- with(I_hFB_cnt, sum(cnt[interest==i & select==\"+S+V\"]))\n",
    "    A_SV[[i]] <- SV\n",
    "    \n",
    "    Sv <- with(I_hFB_cnt, sum(cnt[interest==i & select==\"+S-V\"]))\n",
    "    A_Sv[[i]] <- Sv\n",
    "    \n",
    "    origin <- with(I_hFB_cnt, sum(cnt[interest==i & select==\"original\"]))\n",
    "    A_origin[[i]] <- origin\n",
    "    \n",
    "    \n",
    "    Interest_hFB <- data.frame(sv=A_sv, sV=A_sV, SV=A_SV, Sv=A_Sv, origin=A_origin)\n",
    "}\n",
    "\n",
    "\n",
    "rownames(Interest_hFB) <- c(\"1\", \"2\", \"3\", \"4\", \"5\") # 왜 for문 안에선 안먹히냐\n",
    "library(tibble)\n",
    "Interest_hFB <- rownames_to_column(Interest_hFB, var=\"Interest\")\n",
    "Interest_hFB <- transform(Interest_hFB, sv=as.numeric(sv), sV=as.numeric(sV), SV=as.numeric(SV), Sv=as.numeric(Sv), origin=as.numeric(origin) )\n",
    "Interest_hFB"
   ]
  },
  {
   "cell_type": "code",
   "execution_count": null,
   "metadata": {},
   "outputs": [],
   "source": []
  },
  {
   "cell_type": "markdown",
   "metadata": {},
   "source": [
    "### Defintion, Need 에 따른 대표 색상(색상고정, bright) 인식 차이 \n",
    "\n",
    "    귀무가설 : definition + need 에 따라 대표 색상(색상고정, bright) 인식 차이가 없다\n",
    "    대립가설 : definition + need 에 따라 대표 색상(색상고정, bright) 인식 차이가 있다\n",
    "    \n",
    "    definition + need 묶은 방법\n",
    "    : bright + bright\n",
    "    : bright + harmony\n",
    "    : harmony + bright\n",
    "    : harmony + harmony\n",
    "    \n",
    "    - 대표 색상(색상고정, bright) : -S+V\n",
    "    - chisq.test 사용"
   ]
  },
  {
   "cell_type": "code",
   "execution_count": 1,
   "metadata": {},
   "outputs": [
    {
     "name": "stdout",
     "output_type": "stream",
     "text": [
      "'data.frame':\t684 obs. of  5 variables:\n",
      " $ X         : int  0 1 2 3 4 5 6 7 8 9 ...\n",
      " $ definition: Factor w/ 2 levels \"bright\",\"harmony\": 2 1 1 2 1 2 2 2 2 1 ...\n",
      " $ need      : Factor w/ 2 levels \"bright\",\"harmony\": 2 2 1 2 1 2 2 2 2 1 ...\n",
      " $ select    : Factor w/ 5 levels \"-S-V\",\"-S+V\",..: 2 4 3 2 2 5 3 4 1 4 ...\n",
      " $ cnt       : int  1 1 1 1 1 1 1 1 1 1 ...\n"
     ]
    },
    {
     "data": {
      "text/html": [
       "<table>\n",
       "<thead><tr><th scope=col>X</th><th scope=col>definition</th><th scope=col>need</th><th scope=col>select</th><th scope=col>cnt</th></tr></thead>\n",
       "<tbody>\n",
       "\t<tr><td>0       </td><td>harmony </td><td>harmony </td><td>-S+V    </td><td>1       </td></tr>\n",
       "\t<tr><td>1       </td><td>bright  </td><td>harmony </td><td>+S+V    </td><td>1       </td></tr>\n",
       "\t<tr><td>2       </td><td>bright  </td><td>bright  </td><td>+S-V    </td><td>1       </td></tr>\n",
       "\t<tr><td>3       </td><td>harmony </td><td>harmony </td><td>-S+V    </td><td>1       </td></tr>\n",
       "\t<tr><td>4       </td><td>bright  </td><td>bright  </td><td>-S+V    </td><td>1       </td></tr>\n",
       "\t<tr><td>5       </td><td>harmony </td><td>harmony </td><td>original</td><td>1       </td></tr>\n",
       "</tbody>\n",
       "</table>\n"
      ],
      "text/latex": [
       "\\begin{tabular}{r|lllll}\n",
       " X & definition & need & select & cnt\\\\\n",
       "\\hline\n",
       "\t 0        & harmony  & harmony  & -S+V     & 1       \\\\\n",
       "\t 1        & bright   & harmony  & +S+V     & 1       \\\\\n",
       "\t 2        & bright   & bright   & +S-V     & 1       \\\\\n",
       "\t 3        & harmony  & harmony  & -S+V     & 1       \\\\\n",
       "\t 4        & bright   & bright   & -S+V     & 1       \\\\\n",
       "\t 5        & harmony  & harmony  & original & 1       \\\\\n",
       "\\end{tabular}\n"
      ],
      "text/markdown": [
       "\n",
       "| X | definition | need | select | cnt |\n",
       "|---|---|---|---|---|\n",
       "| 0        | harmony  | harmony  | -S+V     | 1        |\n",
       "| 1        | bright   | harmony  | +S+V     | 1        |\n",
       "| 2        | bright   | bright   | +S-V     | 1        |\n",
       "| 3        | harmony  | harmony  | -S+V     | 1        |\n",
       "| 4        | bright   | bright   | -S+V     | 1        |\n",
       "| 5        | harmony  | harmony  | original | 1        |\n",
       "\n"
      ],
      "text/plain": [
       "  X definition need    select   cnt\n",
       "1 0 harmony    harmony -S+V     1  \n",
       "2 1 bright     harmony +S+V     1  \n",
       "3 2 bright     bright  +S-V     1  \n",
       "4 3 harmony    harmony -S+V     1  \n",
       "5 4 bright     bright  -S+V     1  \n",
       "6 5 harmony    harmony original 1  "
      ]
     },
     "metadata": {},
     "output_type": "display_data"
    }
   ],
   "source": [
    "# 데이터 불러오기\n",
    "\n",
    "DN_hFB_cnt <- read.csv(\"C:/Users/cho ye seul/Documents/예슬/Acorn/FinalProject/Statistical Analysis/DN_hFB_cnt.csv\")\n",
    "str(DN_hFB_cnt)\n",
    "head(DN_hFB_cnt)"
   ]
  },
  {
   "cell_type": "code",
   "execution_count": 68,
   "metadata": {},
   "outputs": [
    {
     "data": {
      "text/html": [
       "<table>\n",
       "<thead><tr><th></th><th scope=col>True</th><th scope=col>False</th><th scope=col>Sum</th></tr></thead>\n",
       "<tbody>\n",
       "\t<tr><th scope=row>BB</th><td> 42</td><td> 90</td><td>132</td></tr>\n",
       "\t<tr><th scope=row>BH</th><td>  8</td><td> 22</td><td> 30</td></tr>\n",
       "\t<tr><th scope=row>HB</th><td> 50</td><td> 82</td><td>132</td></tr>\n",
       "\t<tr><th scope=row>HH</th><td>111</td><td>279</td><td>390</td></tr>\n",
       "\t<tr><th scope=row>Sum</th><td>211</td><td>473</td><td>684</td></tr>\n",
       "</tbody>\n",
       "</table>\n"
      ],
      "text/latex": [
       "\\begin{tabular}{r|lll}\n",
       "  & True & False & Sum\\\\\n",
       "\\hline\n",
       "\tBB &  42 &  90 & 132\\\\\n",
       "\tBH &   8 &  22 &  30\\\\\n",
       "\tHB &  50 &  82 & 132\\\\\n",
       "\tHH & 111 & 279 & 390\\\\\n",
       "\tSum & 211 & 473 & 684\\\\\n",
       "\\end{tabular}\n"
      ],
      "text/markdown": [
       "\n",
       "| <!--/--> | True | False | Sum |\n",
       "|---|---|---|---|\n",
       "| BB |  42 |  90 | 132 |\n",
       "| BH |   8 |  22 |  30 |\n",
       "| HB |  50 |  82 | 132 |\n",
       "| HH | 111 | 279 | 390 |\n",
       "| Sum | 211 | 473 | 684 |\n",
       "\n"
      ],
      "text/plain": [
       "    True False Sum\n",
       "BB   42   90   132\n",
       "BH    8   22    30\n",
       "HB   50   82   132\n",
       "HH  111  279   390\n",
       "Sum 211  473   684"
      ]
     },
     "metadata": {},
     "output_type": "display_data"
    },
    {
     "data": {
      "text/plain": [
       "\n",
       "\tPearson's Chi-squared test\n",
       "\n",
       "data:  df_DN_hFB_cnt\n",
       "X-squared = 4.4041, df = 3, p-value = 0.221\n"
      ]
     },
     "metadata": {},
     "output_type": "display_data"
    }
   ],
   "source": [
    "## 데이터프레임 재생성\n",
    "\n",
    "# bright + bright\n",
    "BB_T <- with(DN_hFB_cnt, sum(cnt[definition == \"bright\" & need == \"bright\" & select == \"-S+V\"]))\n",
    "BB_F <- with(DN_hFB_cnt, sum(cnt[definition == \"bright\" & need == \"bright\" & select != \"-S+V\"]))\n",
    "             \n",
    "# bright + harmony\n",
    "BH_T <- with(DN_hFB_cnt, sum(cnt[definition == \"bright\" & need == \"harmony\" & select == \"-S+V\"]))\n",
    "BH_F <- with(DN_hFB_cnt, sum(cnt[definition == \"bright\" & need == \"harmony\" & select != \"-S+V\"]))\n",
    "\n",
    "# harmony + bright\n",
    "HB_T <- with(DN_hFB_cnt, sum(cnt[definition == \"harmony\" & need == \"bright\" & select == \"-S+V\"]))\n",
    "HB_F <- with(DN_hFB_cnt, sum(cnt[definition == \"harmony\" & need == \"bright\" & select != \"-S+V\"]))\n",
    "\n",
    "# harmony + harmony\n",
    "HH_T <- with(DN_hFB_cnt, sum(cnt[definition == \"harmony\" & need == \"harmony\" & select == \"-S+V\"]))\n",
    "HH_F <- with(DN_hFB_cnt, sum(cnt[definition == \"harmony\" & need == \"harmony\" & select != \"-S+V\"]))\n",
    "\n",
    "\n",
    "# select <- c(\"BB\", \"BH\", \"HB\", \"HH\")\n",
    "# True <- c(BB_T, BH_T, HB_T, HH_T)\n",
    "# False <- c(BB_F, BH_F, HB_F, HH_F)\n",
    "\n",
    "# df_DN_hFB_cnt2 <- data.frame(select, True, False)\n",
    "# df_DN_hFB_cnt2\n",
    "\n",
    "\n",
    "BB <- c(BB_T, BB_F)\n",
    "BH <- c(BH_T, BH_F)\n",
    "HB <- c(HB_T, HB_F)\n",
    "HH <- c(HH_T, HH_F)\n",
    "\n",
    "df_DN_hFB_cnt <- data.frame(BB, BH, HB, HH)\n",
    "df_DN_hFB_cnt <- t(df_DN_hFB_cnt)\n",
    "colnames(df_DN_hFB_cnt) <- c(\"True\", \"False\")\n",
    "# df_DN_hFB_cnt\n",
    "\n",
    "## 행, 열 각각의 합계 알아보기\n",
    "addmargins(df_DN_hFB_cnt)\n",
    "# 합계값이 동일하지 않으므로 chisq.test 사용\n",
    "\n",
    "## 카이제곱\n",
    "chisq.test(df_DN_hFB_cnt)\n",
    "# p-value = 0.221\n",
    "# 0.05보다 큰 값을 가지므로 귀무가설 성립\n",
    "# 색상(hueBright) 인식 차이가 없음을 알 수 있다"
   ]
  },
  {
   "cell_type": "markdown",
   "metadata": {},
   "source": [
    "#### Defintion, Need 에 따른 대표 색상(색상고정, bright) 선택 분석 "
   ]
  },
  {
   "cell_type": "code",
   "execution_count": 87,
   "metadata": {},
   "outputs": [
    {
     "data": {
      "text/html": [
       "<table>\n",
       "<thead><tr><th></th><th scope=col>True</th><th scope=col>False</th></tr></thead>\n",
       "<tbody>\n",
       "\t<tr><th scope=row>BB</th><td> 42</td><td> 90</td></tr>\n",
       "\t<tr><th scope=row>BH</th><td>  8</td><td> 22</td></tr>\n",
       "\t<tr><th scope=row>HB</th><td> 50</td><td> 82</td></tr>\n",
       "\t<tr><th scope=row>HH</th><td>111</td><td>279</td></tr>\n",
       "</tbody>\n",
       "</table>\n"
      ],
      "text/latex": [
       "\\begin{tabular}{r|ll}\n",
       "  & True & False\\\\\n",
       "\\hline\n",
       "\tBB &  42 &  90\\\\\n",
       "\tBH &   8 &  22\\\\\n",
       "\tHB &  50 &  82\\\\\n",
       "\tHH & 111 & 279\\\\\n",
       "\\end{tabular}\n"
      ],
      "text/markdown": [
       "\n",
       "| <!--/--> | True | False |\n",
       "|---|---|---|\n",
       "| BB |  42 |  90 |\n",
       "| BH |   8 |  22 |\n",
       "| HB |  50 |  82 |\n",
       "| HH | 111 | 279 |\n",
       "\n"
      ],
      "text/plain": [
       "   True False\n",
       "BB  42   90  \n",
       "BH   8   22  \n",
       "HB  50   82  \n",
       "HH 111  279  "
      ]
     },
     "metadata": {},
     "output_type": "display_data"
    }
   ],
   "source": [
    "df_DN_hFB_cnt"
   ]
  },
  {
   "cell_type": "markdown",
   "metadata": {},
   "source": [
    "### 결과 해석 \n",
    "\n",
    "     + BB, BH, HB, HH 에 따른 인식 차이 분석\n",
    "\n",
    "     HH 선택이  제일 많음 \n",
    "     -> 논문에서는 퍼스널 컬러의 정의가 \"얼굴색을 밝게 해주는 색\"이라고 표현하였으나 \n",
    "        사람들이 일상에서 필요한 퍼스널 컬러는 \"얼굴색과 조화를 이루는 색\"이라고 생각됨\n",
    "\n",
    "     선택 개수 : BB 132  BH 30  HB 132  HH 390\n",
    "     definition과 need를 동일하게 선택한 결과가 많음\n",
    "     -> 동일하게 선택한 사람의 결과만을 보도록 할까? \n",
    "\n",
    "     맞춘 확률 : BB 31.8%   BH 26.7%   HB 37.9%   HH 28.5% \n",
    "     need에서 Bright를 선택한 사람들의 정답 확률이 더 높은것을 볼 수 있음\n",
    "     -> 본 설문지는 \"밝기\"에 관해서 물어보았다\n",
    "        그렇기에 필요성 부분에 \"밝기\"로 선택한 사람들의 정답률이 더 높은 것으로 사료됨"
   ]
  },
  {
   "cell_type": "code",
   "execution_count": null,
   "metadata": {},
   "outputs": [],
   "source": []
  },
  {
   "cell_type": "markdown",
   "metadata": {},
   "source": [
    "### Sex, Age 에 따른 대표 색상(색상고정, bright) 인식 차이 \n",
    "\n",
    "    귀무가설 : sex + age 에 따라 대표 색상(색상고정, bright) 인식 차이가 없다\n",
    "    대립가설 : sex + age 에 따라 대표 색상(색상고정, bright) 인식 차이가 있다\n",
    "    \n",
    "    - 대표 색상(색상고정, bright) : -S+V\n",
    "    - chisq.test 사용"
   ]
  },
  {
   "cell_type": "code",
   "execution_count": 70,
   "metadata": {},
   "outputs": [
    {
     "name": "stdout",
     "output_type": "stream",
     "text": [
      "'data.frame':\t684 obs. of  5 variables:\n",
      " $ X        : int  0 1 2 3 4 5 6 7 8 9 ...\n",
      " $ sex      : Factor w/ 2 levels \"Female\",\"Male\": 2 1 1 1 1 1 1 2 1 1 ...\n",
      " $ age_class: int  20 20 20 20 20 20 20 20 20 20 ...\n",
      " $ select   : Factor w/ 5 levels \"-S-V\",\"-S+V\",..: 2 4 3 2 2 5 3 4 1 4 ...\n",
      " $ cnt      : int  1 1 1 1 1 1 1 1 1 1 ...\n"
     ]
    },
    {
     "data": {
      "text/html": [
       "<table>\n",
       "<thead><tr><th scope=col>X</th><th scope=col>sex</th><th scope=col>age_class</th><th scope=col>select</th><th scope=col>cnt</th></tr></thead>\n",
       "<tbody>\n",
       "\t<tr><td>0       </td><td>Male    </td><td>20      </td><td>-S+V    </td><td>1       </td></tr>\n",
       "\t<tr><td>1       </td><td>Female  </td><td>20      </td><td>+S+V    </td><td>1       </td></tr>\n",
       "\t<tr><td>2       </td><td>Female  </td><td>20      </td><td>+S-V    </td><td>1       </td></tr>\n",
       "\t<tr><td>3       </td><td>Female  </td><td>20      </td><td>-S+V    </td><td>1       </td></tr>\n",
       "\t<tr><td>4       </td><td>Female  </td><td>20      </td><td>-S+V    </td><td>1       </td></tr>\n",
       "\t<tr><td>5       </td><td>Female  </td><td>20      </td><td>original</td><td>1       </td></tr>\n",
       "</tbody>\n",
       "</table>\n"
      ],
      "text/latex": [
       "\\begin{tabular}{r|lllll}\n",
       " X & sex & age\\_class & select & cnt\\\\\n",
       "\\hline\n",
       "\t 0        & Male     & 20       & -S+V     & 1       \\\\\n",
       "\t 1        & Female   & 20       & +S+V     & 1       \\\\\n",
       "\t 2        & Female   & 20       & +S-V     & 1       \\\\\n",
       "\t 3        & Female   & 20       & -S+V     & 1       \\\\\n",
       "\t 4        & Female   & 20       & -S+V     & 1       \\\\\n",
       "\t 5        & Female   & 20       & original & 1       \\\\\n",
       "\\end{tabular}\n"
      ],
      "text/markdown": [
       "\n",
       "| X | sex | age_class | select | cnt |\n",
       "|---|---|---|---|---|\n",
       "| 0        | Male     | 20       | -S+V     | 1        |\n",
       "| 1        | Female   | 20       | +S+V     | 1        |\n",
       "| 2        | Female   | 20       | +S-V     | 1        |\n",
       "| 3        | Female   | 20       | -S+V     | 1        |\n",
       "| 4        | Female   | 20       | -S+V     | 1        |\n",
       "| 5        | Female   | 20       | original | 1        |\n",
       "\n"
      ],
      "text/plain": [
       "  X sex    age_class select   cnt\n",
       "1 0 Male   20        -S+V     1  \n",
       "2 1 Female 20        +S+V     1  \n",
       "3 2 Female 20        +S-V     1  \n",
       "4 3 Female 20        -S+V     1  \n",
       "5 4 Female 20        -S+V     1  \n",
       "6 5 Female 20        original 1  "
      ]
     },
     "metadata": {},
     "output_type": "display_data"
    }
   ],
   "source": [
    "# 데이터 불러오기\n",
    "\n",
    "SA_hFB_cnt <- read.csv(\"C:/Users/cho ye seul/Documents/예슬/Acorn/FinalProject/Statistical Analysis/SA_hFB_cnt.csv\")\n",
    "str(SA_hFB_cnt)\n",
    "head(SA_hFB_cnt)"
   ]
  },
  {
   "cell_type": "code",
   "execution_count": 86,
   "metadata": {},
   "outputs": [
    {
     "data": {
      "text/html": [
       "<table>\n",
       "<thead><tr><th></th><th scope=col>True</th><th scope=col>False</th><th scope=col>Sum</th></tr></thead>\n",
       "<tbody>\n",
       "\t<tr><th scope=row>F10</th><td>  2</td><td>  4</td><td>  6</td></tr>\n",
       "\t<tr><th scope=row>F20</th><td>153</td><td>303</td><td>456</td></tr>\n",
       "\t<tr><th scope=row>F30</th><td>  6</td><td> 30</td><td> 36</td></tr>\n",
       "\t<tr><th scope=row>F40</th><td>  7</td><td> 11</td><td> 18</td></tr>\n",
       "\t<tr><th scope=row>F50</th><td>  2</td><td> 10</td><td> 12</td></tr>\n",
       "\t<tr><th scope=row>M10</th><td>  0</td><td>  0</td><td>  0</td></tr>\n",
       "\t<tr><th scope=row>M20</th><td> 37</td><td>101</td><td>138</td></tr>\n",
       "\t<tr><th scope=row>M30</th><td>  4</td><td> 14</td><td> 18</td></tr>\n",
       "\t<tr><th scope=row>M40</th><td>  0</td><td>  0</td><td>  0</td></tr>\n",
       "\t<tr><th scope=row>M50</th><td>  0</td><td>  0</td><td>  0</td></tr>\n",
       "\t<tr><th scope=row>Sum</th><td>211</td><td>473</td><td>684</td></tr>\n",
       "</tbody>\n",
       "</table>\n"
      ],
      "text/latex": [
       "\\begin{tabular}{r|lll}\n",
       "  & True & False & Sum\\\\\n",
       "\\hline\n",
       "\tF10 &   2 &   4 &   6\\\\\n",
       "\tF20 & 153 & 303 & 456\\\\\n",
       "\tF30 &   6 &  30 &  36\\\\\n",
       "\tF40 &   7 &  11 &  18\\\\\n",
       "\tF50 &   2 &  10 &  12\\\\\n",
       "\tM10 &   0 &   0 &   0\\\\\n",
       "\tM20 &  37 & 101 & 138\\\\\n",
       "\tM30 &   4 &  14 &  18\\\\\n",
       "\tM40 &   0 &   0 &   0\\\\\n",
       "\tM50 &   0 &   0 &   0\\\\\n",
       "\tSum & 211 & 473 & 684\\\\\n",
       "\\end{tabular}\n"
      ],
      "text/markdown": [
       "\n",
       "| <!--/--> | True | False | Sum |\n",
       "|---|---|---|---|\n",
       "| F10 |   2 |   4 |   6 |\n",
       "| F20 | 153 | 303 | 456 |\n",
       "| F30 |   6 |  30 |  36 |\n",
       "| F40 |   7 |  11 |  18 |\n",
       "| F50 |   2 |  10 |  12 |\n",
       "| M10 |   0 |   0 |   0 |\n",
       "| M20 |  37 | 101 | 138 |\n",
       "| M30 |   4 |  14 |  18 |\n",
       "| M40 |   0 |   0 |   0 |\n",
       "| M50 |   0 |   0 |   0 |\n",
       "| Sum | 211 | 473 | 684 |\n",
       "\n"
      ],
      "text/plain": [
       "    True False Sum\n",
       "F10   2    4     6\n",
       "F20 153  303   456\n",
       "F30   6   30    36\n",
       "F40   7   11    18\n",
       "F50   2   10    12\n",
       "M10   0    0     0\n",
       "M20  37  101   138\n",
       "M30   4   14    18\n",
       "M40   0    0     0\n",
       "M50   0    0     0\n",
       "Sum 211  473   684"
      ]
     },
     "metadata": {},
     "output_type": "display_data"
    },
    {
     "name": "stderr",
     "output_type": "stream",
     "text": [
      "Warning message in chisq.test(df_SA_hFB_cnt):\n",
      "\"Chi-squared approximation may be incorrect\""
     ]
    },
    {
     "data": {
      "text/plain": [
       "\n",
       "\tPearson's Chi-squared test\n",
       "\n",
       "data:  df_SA_hFB_cnt\n",
       "X-squared = NaN, df = 9, p-value = NA\n"
      ]
     },
     "metadata": {},
     "output_type": "display_data"
    },
    {
     "data": {
      "text/plain": [
       "\n",
       "\tFisher's Exact Test for Count Data\n",
       "\n",
       "data:  df_SA_hFB_cnt\n",
       "p-value = 0.2093\n",
       "alternative hypothesis: two.sided\n"
      ]
     },
     "metadata": {},
     "output_type": "display_data"
    }
   ],
   "source": [
    "## 데이터프레임 재생성\n",
    "\n",
    "# Female + 10 \n",
    "F10_T <- with(SA_hFB_cnt, sum(cnt[sex == \"Female\" & age_class == \"10\" & select == \"-S+V\"]))\n",
    "F10_F <- with(SA_hFB_cnt, sum(cnt[sex == \"Female\" & age_class == \"10\" & select != \"-S+V\"]))\n",
    "\n",
    "# Female + 20 \n",
    "F20_T <- with(SA_hFB_cnt, sum(cnt[sex == \"Female\" & age_class == \"20\" & select == \"-S+V\"]))\n",
    "F20_F <- with(SA_hFB_cnt, sum(cnt[sex == \"Female\" & age_class == \"20\" & select != \"-S+V\"]))\n",
    "\n",
    "# Female + 30 \n",
    "F30_T <- with(SA_hFB_cnt, sum(cnt[sex == \"Female\" & age_class == \"30\" & select == \"-S+V\"]))\n",
    "F30_F <- with(SA_hFB_cnt, sum(cnt[sex == \"Female\" & age_class == \"30\" & select != \"-S+V\"]))\n",
    "\n",
    "# Female + 40 \n",
    "F40_T <- with(SA_hFB_cnt, sum(cnt[sex == \"Female\" & age_class == \"40\" & select == \"-S+V\"]))\n",
    "F40_F <- with(SA_hFB_cnt, sum(cnt[sex == \"Female\" & age_class == \"40\" & select != \"-S+V\"]))\n",
    "\n",
    "# Female + 50 \n",
    "F50_T <- with(SA_hFB_cnt, sum(cnt[sex == \"Female\" & age_class == \"50\" & select == \"-S+V\"]))\n",
    "F50_F <- with(SA_hFB_cnt, sum(cnt[sex == \"Female\" & age_class == \"50\" & select != \"-S+V\"]))\n",
    "\n",
    "# Male + 10 \n",
    "M10_T <- with(SA_hFB_cnt, sum(cnt[sex == \"Male\" & age_class == \"10\" & select == \"-S+V\"]))\n",
    "M10_F <- with(SA_hFB_cnt, sum(cnt[sex == \"Male\" & age_class == \"10\" & select != \"-S+V\"]))\n",
    "\n",
    "# Male + 20 \n",
    "M20_T <- with(SA_hFB_cnt, sum(cnt[sex == \"Male\" & age_class == \"20\" & select == \"-S+V\"]))\n",
    "M20_F <- with(SA_hFB_cnt, sum(cnt[sex == \"Male\" & age_class == \"20\" & select != \"-S+V\"]))\n",
    "\n",
    "# Male + 30 \n",
    "M30_T <- with(SA_hFB_cnt, sum(cnt[sex == \"Male\" & age_class == \"30\" & select == \"-S+V\"]))\n",
    "M30_F <- with(SA_hFB_cnt, sum(cnt[sex == \"Male\" & age_class == \"30\" & select != \"-S+V\"]))\n",
    "\n",
    "# Male + 40 \n",
    "M40_T <- with(SA_hFB_cnt, sum(cnt[sex == \"Male\" & age_class == \"40\" & select == \"-S+V\"]))\n",
    "M40_F <- with(SA_hFB_cnt, sum(cnt[sex == \"Male\" & age_class == \"40\" & select != \"-S+V\"]))\n",
    "\n",
    "# Male + 50 \n",
    "M50_T <- with(SA_hFB_cnt, sum(cnt[sex == \"Male\" & age_class == \"50\" & select == \"-S+V\"]))\n",
    "M50_F <- with(SA_hFB_cnt, sum(cnt[sex == \"Male\" & age_class == \"50\" & select != \"-S+V\"]))\n",
    "\n",
    "\n",
    "F10 <- c(F10_T, F10_F)\n",
    "F20 <- c(F20_T, F20_F)\n",
    "F30 <- c(F30_T, F30_F)\n",
    "F40 <- c(F40_T, F40_F)\n",
    "F50 <- c(F50_T, F50_F)\n",
    "\n",
    "M10 <- c(M10_T, M10_F)\n",
    "M20 <- c(M20_T, M20_F)\n",
    "M30 <- c(M30_T, M30_F)\n",
    "M40 <- c(M40_T, M40_F)\n",
    "M50 <- c(M50_T, M50_F)\n",
    "\n",
    "df_SA_hFB_cnt <- data.frame(F10, F20, F30, F40, F50, M10, M20, M30, M40, M50)\n",
    "df_SA_hFB_cnt <- t(df_SA_hFB_cnt)\n",
    "colnames(df_SA_hFB_cnt) <- c(\"True\", \"False\")\n",
    "\n",
    "## 행, 열 각각의 합계 알아보기\n",
    "addmargins(df_SA_hFB_cnt)\n",
    "# 합계값이 동일하지 않으므로 chisq.test 사용\n",
    "\n",
    "## 카이제곱\n",
    "chisq.test(df_SA_hFB_cnt)\n",
    "# p-value = NA\n",
    "# but 기대도수가 낮은 셀이 전체의 25% 이상 존재하므로 \n",
    "# Fisher's exact test 사용해야한다!!\n",
    "\n",
    "\n",
    "## Fisher's exact test\n",
    "fisher.test(df_SA_hFB_cnt)\n",
    "# p-value = 0.2093\n",
    "# 0.05보다 큰 값을 가지므로 귀무가설 성립"
   ]
  },
  {
   "cell_type": "markdown",
   "metadata": {},
   "source": [
    "#### Sex, Age 에 따른 대표 색상(색상고정, bright) 선택 분석 "
   ]
  },
  {
   "cell_type": "code",
   "execution_count": 88,
   "metadata": {},
   "outputs": [
    {
     "data": {
      "text/html": [
       "<table>\n",
       "<thead><tr><th></th><th scope=col>True</th><th scope=col>False</th></tr></thead>\n",
       "<tbody>\n",
       "\t<tr><th scope=row>F10</th><td>  2</td><td>  4</td></tr>\n",
       "\t<tr><th scope=row>F20</th><td>153</td><td>303</td></tr>\n",
       "\t<tr><th scope=row>F30</th><td>  6</td><td> 30</td></tr>\n",
       "\t<tr><th scope=row>F40</th><td>  7</td><td> 11</td></tr>\n",
       "\t<tr><th scope=row>F50</th><td>  2</td><td> 10</td></tr>\n",
       "\t<tr><th scope=row>M10</th><td>  0</td><td>  0</td></tr>\n",
       "\t<tr><th scope=row>M20</th><td> 37</td><td>101</td></tr>\n",
       "\t<tr><th scope=row>M30</th><td>  4</td><td> 14</td></tr>\n",
       "\t<tr><th scope=row>M40</th><td>  0</td><td>  0</td></tr>\n",
       "\t<tr><th scope=row>M50</th><td>  0</td><td>  0</td></tr>\n",
       "</tbody>\n",
       "</table>\n"
      ],
      "text/latex": [
       "\\begin{tabular}{r|ll}\n",
       "  & True & False\\\\\n",
       "\\hline\n",
       "\tF10 &   2 &   4\\\\\n",
       "\tF20 & 153 & 303\\\\\n",
       "\tF30 &   6 &  30\\\\\n",
       "\tF40 &   7 &  11\\\\\n",
       "\tF50 &   2 &  10\\\\\n",
       "\tM10 &   0 &   0\\\\\n",
       "\tM20 &  37 & 101\\\\\n",
       "\tM30 &   4 &  14\\\\\n",
       "\tM40 &   0 &   0\\\\\n",
       "\tM50 &   0 &   0\\\\\n",
       "\\end{tabular}\n"
      ],
      "text/markdown": [
       "\n",
       "| <!--/--> | True | False |\n",
       "|---|---|---|\n",
       "| F10 |   2 |   4 |\n",
       "| F20 | 153 | 303 |\n",
       "| F30 |   6 |  30 |\n",
       "| F40 |   7 |  11 |\n",
       "| F50 |   2 |  10 |\n",
       "| M10 |   0 |   0 |\n",
       "| M20 |  37 | 101 |\n",
       "| M30 |   4 |  14 |\n",
       "| M40 |   0 |   0 |\n",
       "| M50 |   0 |   0 |\n",
       "\n"
      ],
      "text/plain": [
       "    True False\n",
       "F10   2    4  \n",
       "F20 153  303  \n",
       "F30   6   30  \n",
       "F40   7   11  \n",
       "F50   2   10  \n",
       "M10   0    0  \n",
       "M20  37  101  \n",
       "M30   4   14  \n",
       "M40   0    0  \n",
       "M50   0    0  "
      ]
     },
     "metadata": {},
     "output_type": "display_data"
    }
   ],
   "source": [
    "df_SA_hFB_cnt"
   ]
  },
  {
   "cell_type": "markdown",
   "metadata": {},
   "source": [
    "### 결과 해석 \n",
    "\n",
    "     + Sex, Age 에 따른 인식 차이 분석\n",
    "\n",
    "     정답 비율 \n",
    "     F10 33.3%  F20 33.6%  F30 16.7%  F40 38.9%  F50 16.7% \n",
    "     M10  0.0%  M20 26.8%  M30 22.2%  M40  0.0%  M50  0.0%\n",
    "     \n",
    "     카테고리별 인원 수의 차이가 너무 심함\n",
    "     \n",
    "     앞의 분석 결과 \n",
    "     성별에 따른 인식 차이가 없었고, \n",
    "     연령에 따른 인식 차이가 없었다.\n",
    "     \n",
    "     정답 확률 : 40대여자 > 20대여자 > 10대여자\n",
    "     (다른 곳의 결과들을 보고 어떤 그룹을 대표 그룹으로 지정할 지 정하면 좋을 것 같다)\n",
    "     "
   ]
  },
  {
   "cell_type": "markdown",
   "metadata": {},
   "source": [
    "## 최종 결론\n",
    "\n",
    "    - 설문조사 결과 그래프로 시각화\n",
    "        : 대표 색상 '-S+V'로 선정\n",
    "\n",
    "    - 성별에 따른 색상(Fixed hue, bright) 인식 차이\n",
    "        : 카이제곱 이용, p-value = 0.1913로 성별에 따른 안면부위 인식 차이 '없음'\n",
    "\n",
    "    - 연령에 따른 색상(Fixed hue, bright) 인식 차이\n",
    "        : Fisher's exact test 이용, p-value 0.1838로 연령에 따른 안면부위 인식 차이 '없음'\n",
    "      \n",
    "    - 패션 관심도에 따른 색상(Fixed hue, bright) 인식 차이\n",
    "        : 카이제곱 이용, p-value 0.0768로 패션 관심도에 따른 안면부위 인식 차이 '없음'\n",
    "        "
   ]
  }
 ],
 "metadata": {
  "kernelspec": {
   "display_name": "R",
   "language": "R",
   "name": "ir"
  },
  "language_info": {
   "codemirror_mode": "r",
   "file_extension": ".r",
   "mimetype": "text/x-r-source",
   "name": "R",
   "pygments_lexer": "r",
   "version": "3.6.1"
  }
 },
 "nbformat": 4,
 "nbformat_minor": 4
}
