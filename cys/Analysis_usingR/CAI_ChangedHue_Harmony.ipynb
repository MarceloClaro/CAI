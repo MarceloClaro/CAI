{
 "cells": [
  {
   "cell_type": "markdown",
   "metadata": {},
   "source": [
    " ## 대표 색상(H변경) 관련 가설검증\n",
    " \n",
    "    최초 작성일 : 2020/03/23\n",
    "    작성자 : 조예슬 \n",
    " \n",
    "    < 작성 내용 >\n",
    "    \n",
    "        설문지(2) 사용 3번 문항\n",
    "    \n",
    "        - 설문조사 결과 그래프로 시각화\n",
    "        \n",
    "        - 성별에 따른 색상(FixedHue, harmony) 인식 차이\n",
    "        \n",
    "        - 연령에 따른 색상(FixedHue, harmony) 인식 차이\n",
    "        \n",
    "        - 패션 관심도에 따른 색상(FixedHue, harmony) 인식 차이\n",
    "        \n",
    "        - definition + need 묶어서 색상(FixedHue, harmony) 인식 차이 \n",
    "\n",
    "        - Sex + Age 묶어서 색상(FixedHue, harmony) 인식 차이"
   ]
  },
  {
   "cell_type": "code",
   "execution_count": null,
   "metadata": {},
   "outputs": [],
   "source": []
  },
  {
   "cell_type": "markdown",
   "metadata": {},
   "source": [
    "# 색상변경, harmony"
   ]
  },
  {
   "cell_type": "markdown",
   "metadata": {},
   "source": [
    "### 설문조사 결과를 토대로 대표 색상 설정"
   ]
  },
  {
   "cell_type": "code",
   "execution_count": 1,
   "metadata": {},
   "outputs": [
    {
     "name": "stdout",
     "output_type": "stream",
     "text": [
      "'data.frame':\t576 obs. of  4 variables:\n",
      " $ X     : int  0 1 2 3 4 5 6 7 8 9 ...\n",
      " $ select: Factor w/ 5 levels \"144\",\"216\",\"288\",..: 5 3 3 3 1 5 5 1 1 3 ...\n",
      " $ class : Factor w/ 6 levels \"comp\",\"doubleness1\",..: 1 1 1 1 1 1 1 1 1 1 ...\n",
      " $ cnt   : int  1 1 1 1 1 1 1 1 1 1 ...\n"
     ]
    },
    {
     "data": {
      "text/html": [
       "<table>\n",
       "<thead><tr><th scope=col>X</th><th scope=col>select</th><th scope=col>class</th><th scope=col>cnt</th></tr></thead>\n",
       "<tbody>\n",
       "\t<tr><td>0       </td><td>original</td><td>comp    </td><td>1       </td></tr>\n",
       "\t<tr><td>1       </td><td>288     </td><td>comp    </td><td>1       </td></tr>\n",
       "\t<tr><td>2       </td><td>288     </td><td>comp    </td><td>1       </td></tr>\n",
       "\t<tr><td>3       </td><td>288     </td><td>comp    </td><td>1       </td></tr>\n",
       "\t<tr><td>4       </td><td>144     </td><td>comp    </td><td>1       </td></tr>\n",
       "\t<tr><td>5       </td><td>original</td><td>comp    </td><td>1       </td></tr>\n",
       "</tbody>\n",
       "</table>\n"
      ],
      "text/latex": [
       "\\begin{tabular}{r|llll}\n",
       " X & select & class & cnt\\\\\n",
       "\\hline\n",
       "\t 0        & original & comp     & 1       \\\\\n",
       "\t 1        & 288      & comp     & 1       \\\\\n",
       "\t 2        & 288      & comp     & 1       \\\\\n",
       "\t 3        & 288      & comp     & 1       \\\\\n",
       "\t 4        & 144      & comp     & 1       \\\\\n",
       "\t 5        & original & comp     & 1       \\\\\n",
       "\\end{tabular}\n"
      ],
      "text/markdown": [
       "\n",
       "| X | select | class | cnt |\n",
       "|---|---|---|---|\n",
       "| 0        | original | comp     | 1        |\n",
       "| 1        | 288      | comp     | 1        |\n",
       "| 2        | 288      | comp     | 1        |\n",
       "| 3        | 288      | comp     | 1        |\n",
       "| 4        | 144      | comp     | 1        |\n",
       "| 5        | original | comp     | 1        |\n",
       "\n"
      ],
      "text/plain": [
       "  X select   class cnt\n",
       "1 0 original comp  1  \n",
       "2 1 288      comp  1  \n",
       "3 2 288      comp  1  \n",
       "4 3 288      comp  1  \n",
       "5 4 144      comp  1  \n",
       "6 5 original comp  1  "
      ]
     },
     "metadata": {},
     "output_type": "display_data"
    }
   ],
   "source": [
    "# 데이터 불러오기\n",
    "\n",
    "hChanged_harmony <- read.csv(\"C:/Users/cho ye seul/Documents/예슬/Acorn/FinalProject/Statistical Analysis/hChanged_harmony.csv\")\n",
    "str(hChanged_harmony)\n",
    "head(hChanged_harmony)"
   ]
  },
  {
   "cell_type": "code",
   "execution_count": 2,
   "metadata": {},
   "outputs": [
    {
     "data": {
      "image/png": "[encoded data removed]",
      "text/plain": [
       "plot without title"
      ]
     },
     "metadata": {},
     "output_type": "display_data"
    }
   ],
   "source": [
    "# 그래프로 상태 먼저 확인\n",
    "\n",
    "# install.packages(\"ggplot2\")\n",
    "library(\"ggplot2\")\n",
    "\n",
    "# 각 샘플마다 나눠서 보기\n",
    "ggplot(hChanged_harmony, aes(class, fill=select)) + geom_bar(position=\"dodge\") + labs(title=\"Representative Color(changed hue)\")\n",
    "# 음.. 상당히 일관성이 없는것같다ㅋㅋㅋㅋ"
   ]
  },
  {
   "cell_type": "code",
   "execution_count": 6,
   "metadata": {},
   "outputs": [
    {
     "data": {
      "text/html": [
       "<table>\n",
       "<thead><tr><th scope=col>select</th><th scope=col>total</th></tr></thead>\n",
       "<tbody>\n",
       "\t<tr><td>72      </td><td> 71     </td></tr>\n",
       "\t<tr><td>144     </td><td>137     </td></tr>\n",
       "\t<tr><td>original</td><td>137     </td></tr>\n",
       "\t<tr><td>216     </td><td>103     </td></tr>\n",
       "\t<tr><td>288     </td><td>128     </td></tr>\n",
       "</tbody>\n",
       "</table>\n"
      ],
      "text/latex": [
       "\\begin{tabular}{r|ll}\n",
       " select & total\\\\\n",
       "\\hline\n",
       "\t 72       &  71     \\\\\n",
       "\t 144      & 137     \\\\\n",
       "\t original & 137     \\\\\n",
       "\t 216      & 103     \\\\\n",
       "\t 288      & 128     \\\\\n",
       "\\end{tabular}\n"
      ],
      "text/markdown": [
       "\n",
       "| select | total |\n",
       "|---|---|\n",
       "| 72       |  71      |\n",
       "| 144      | 137      |\n",
       "| original | 137      |\n",
       "| 216      | 103      |\n",
       "| 288      | 128      |\n",
       "\n"
      ],
      "text/plain": [
       "  select   total\n",
       "1 72        71  \n",
       "2 144      137  \n",
       "3 original 137  \n",
       "4 216      103  \n",
       "5 288      128  "
      ]
     },
     "metadata": {},
     "output_type": "display_data"
    }
   ],
   "source": [
    "# 전체결과보기 위한 dataframe 새로 만들기\n",
    "t_72 <- with(hChanged_harmony, sum(cnt[select==\"72\"]))\n",
    "t_144 <- with(hChanged_harmony, sum(cnt[select==\"144\"]))\n",
    "t_origin <- with(hChanged_harmony, sum(cnt[select==\"original\"]))\n",
    "t_216 <- with(hChanged_harmony, sum(cnt[select==\"216\"]))\n",
    "t_288 <- with(hChanged_harmony, sum(cnt[select==\"288\"]))\n",
    "\n",
    "# column 만들기\n",
    "total <- c(t_72, t_144, t_origin, t_216, t_288)\n",
    "\n",
    "# dataframe 만들기\n",
    "df_hChanged_harmony <- data.frame(total)\n",
    "rownames(df_hChanged_harmony) <- c(\"72\", \"144\", \"original\", \"216\", \"288\")\n",
    "library(tibble)\n",
    "df_hChanged_harmony2 <- rownames_to_column(df_hChanged_harmony, var=\"select\")\n",
    "\n",
    "df_hChanged_harmony2"
   ]
  },
  {
   "cell_type": "code",
   "execution_count": 7,
   "metadata": {},
   "outputs": [
    {
     "data": {
      "image/png": "[encoded data removed]",
      "text/plain": [
       "plot without title"
      ]
     },
     "metadata": {},
     "output_type": "display_data"
    }
   ],
   "source": [
    "# 전체 결과 그래프로 확인\n",
    "\n",
    "ggplot(df_hChanged_harmony2, aes(x=select, y=total)) + geom_bar(stat=\"identity\") + labs(title=\"Representative Color(changed hue)\")"
   ]
  },
  {
   "cell_type": "markdown",
   "metadata": {},
   "source": [
    "    144º, original이 동일하게 같은 값을 선택 받음\n",
    "    논문에 의하면 original이 personal color이므로 \n",
    "    original로 진행\n",
    "    \n",
    "    설문조사 결과를 토대로 \n",
    "    대표색상(색상변경,harmony)은 \"original\" 값으로 설정\n",
    "        \n",
    "    그렇기에 앞으로 분석 방향은\n",
    "    대표색상 \"original\"로 설정하여 모든것을 진행할 것"
   ]
  },
  {
   "cell_type": "code",
   "execution_count": null,
   "metadata": {},
   "outputs": [],
   "source": []
  },
  {
   "cell_type": "markdown",
   "metadata": {},
   "source": [
    "# 전체"
   ]
  },
  {
   "cell_type": "markdown",
   "metadata": {},
   "source": [
    "### 성별에 따른 대표 색상(색상변경, harmony) 인식 차이 \n",
    "\n",
    "    귀무가설 : 성별에 따라 대표 색상(색상변경, harmony) 인식 차이가 없다\n",
    "    대립가설 : 성별에 따라 대표 색상(색상변경, harmony) 인식 차이가 있다\n",
    "    \n",
    "    - 대표 색상(색상변경, harmony) : original\n",
    "    - chisq.test 사용"
   ]
  },
  {
   "cell_type": "code",
   "execution_count": 8,
   "metadata": {},
   "outputs": [
    {
     "name": "stdout",
     "output_type": "stream",
     "text": [
      "'data.frame':\t576 obs. of  4 variables:\n",
      " $ X     : int  0 1 2 3 4 5 6 7 8 9 ...\n",
      " $ sex   : Factor w/ 2 levels \"Female\",\"Male\": 1 2 1 2 1 1 1 1 1 1 ...\n",
      " $ select: Factor w/ 5 levels \"144\",\"216\",\"288\",..: 5 3 3 3 1 5 5 1 1 3 ...\n",
      " $ cnt   : int  1 1 1 1 1 1 1 1 1 1 ...\n"
     ]
    },
    {
     "data": {
      "text/html": [
       "<table>\n",
       "<thead><tr><th scope=col>X</th><th scope=col>sex</th><th scope=col>select</th><th scope=col>cnt</th></tr></thead>\n",
       "<tbody>\n",
       "\t<tr><td>0       </td><td>Female  </td><td>original</td><td>1       </td></tr>\n",
       "\t<tr><td>1       </td><td>Male    </td><td>288     </td><td>1       </td></tr>\n",
       "\t<tr><td>2       </td><td>Female  </td><td>288     </td><td>1       </td></tr>\n",
       "\t<tr><td>3       </td><td>Male    </td><td>288     </td><td>1       </td></tr>\n",
       "\t<tr><td>4       </td><td>Female  </td><td>144     </td><td>1       </td></tr>\n",
       "\t<tr><td>5       </td><td>Female  </td><td>original</td><td>1       </td></tr>\n",
       "</tbody>\n",
       "</table>\n"
      ],
      "text/latex": [
       "\\begin{tabular}{r|llll}\n",
       " X & sex & select & cnt\\\\\n",
       "\\hline\n",
       "\t 0        & Female   & original & 1       \\\\\n",
       "\t 1        & Male     & 288      & 1       \\\\\n",
       "\t 2        & Female   & 288      & 1       \\\\\n",
       "\t 3        & Male     & 288      & 1       \\\\\n",
       "\t 4        & Female   & 144      & 1       \\\\\n",
       "\t 5        & Female   & original & 1       \\\\\n",
       "\\end{tabular}\n"
      ],
      "text/markdown": [
       "\n",
       "| X | sex | select | cnt |\n",
       "|---|---|---|---|\n",
       "| 0        | Female   | original | 1        |\n",
       "| 1        | Male     | 288      | 1        |\n",
       "| 2        | Female   | 288      | 1        |\n",
       "| 3        | Male     | 288      | 1        |\n",
       "| 4        | Female   | 144      | 1        |\n",
       "| 5        | Female   | original | 1        |\n",
       "\n"
      ],
      "text/plain": [
       "  X sex    select   cnt\n",
       "1 0 Female original 1  \n",
       "2 1 Male   288      1  \n",
       "3 2 Female 288      1  \n",
       "4 3 Male   288      1  \n",
       "5 4 Female 144      1  \n",
       "6 5 Female original 1  "
      ]
     },
     "metadata": {},
     "output_type": "display_data"
    }
   ],
   "source": [
    "# 데이터 불러오기\n",
    "\n",
    "S_hCH_cnt <- read.csv(\"C:/Users/cho ye seul/Documents/예슬/Acorn/FinalProject/Statistical Analysis/S_hCH_cnt2.csv\")\n",
    "str(S_hCH_cnt)\n",
    "head(S_hCH_cnt)"
   ]
  },
  {
   "cell_type": "code",
   "execution_count": 11,
   "metadata": {},
   "outputs": [
    {
     "data": {
      "text/html": [
       "<table>\n",
       "<thead><tr><th></th><th scope=col>True</th><th scope=col>False</th><th scope=col>Sum</th></tr></thead>\n",
       "<tbody>\n",
       "\t<tr><th scope=row>Male</th><td> 55</td><td>155</td><td>210</td></tr>\n",
       "\t<tr><th scope=row>Female</th><td> 82</td><td>284</td><td>366</td></tr>\n",
       "\t<tr><th scope=row>Sum</th><td>137</td><td>439</td><td>576</td></tr>\n",
       "</tbody>\n",
       "</table>\n"
      ],
      "text/latex": [
       "\\begin{tabular}{r|lll}\n",
       "  & True & False & Sum\\\\\n",
       "\\hline\n",
       "\tMale &  55 & 155 & 210\\\\\n",
       "\tFemale &  82 & 284 & 366\\\\\n",
       "\tSum & 137 & 439 & 576\\\\\n",
       "\\end{tabular}\n"
      ],
      "text/markdown": [
       "\n",
       "| <!--/--> | True | False | Sum |\n",
       "|---|---|---|---|\n",
       "| Male |  55 | 155 | 210 |\n",
       "| Female |  82 | 284 | 366 |\n",
       "| Sum | 137 | 439 | 576 |\n",
       "\n"
      ],
      "text/plain": [
       "       True False Sum\n",
       "Male    55  155   210\n",
       "Female  82  284   366\n",
       "Sum    137  439   576"
      ]
     },
     "metadata": {},
     "output_type": "display_data"
    },
    {
     "data": {
      "text/plain": [
       "\n",
       "\tPearson's Chi-squared test with Yates' continuity correction\n",
       "\n",
       "data:  df_S_hCH_cnt\n",
       "X-squared = 0.85665, df = 1, p-value = 0.3547\n"
      ]
     },
     "metadata": {},
     "output_type": "display_data"
    }
   ],
   "source": [
    "## 데이터프레임 재생성\n",
    "\n",
    "# 남\n",
    "Male_T <- with(S_hCH_cnt, sum(cnt[sex==\"Male\" & select == \"original\"]))\n",
    "Male_F <- with(S_hCH_cnt, sum(cnt[sex==\"Male\" & select != \"original\"]))\n",
    "\n",
    "# 여\n",
    "Female_T <- with(S_hCH_cnt, sum(cnt[sex==\"Female\" & select == \"original\"]))\n",
    "Female_F <- with(S_hCH_cnt, sum(cnt[sex==\"Female\" & select != \"original\"]))\n",
    "\n",
    "# column 생성\n",
    "Male <- c(Male_T, Male_F)\n",
    "Female <- c(Female_T, Female_F)\n",
    "\n",
    "# dataframe 만들기\n",
    "df_S_hCH_cnt <- data.frame(Male, Female)\n",
    "df_S_hCH_cnt <-t(df_S_hCH_cnt)\n",
    "colnames(df_S_hCH_cnt) <- c(\"True\", \"False\")\n",
    "\n",
    "\n",
    "## 행, 열 각각의 합계 알아보기\n",
    "addmargins(df_S_hCH_cnt)\n",
    "\n",
    "\n",
    "## 카이제곱\n",
    "chisq.test(df_S_hCH_cnt)\n",
    "# p-value = 0.3547\n",
    "# 0.05보다 큰 값을 가지므로 귀무가설 성립\n",
    "# 성별에 따라 안면부위 인식 차이가 없음을 알 수 있다"
   ]
  },
  {
   "cell_type": "code",
   "execution_count": null,
   "metadata": {},
   "outputs": [],
   "source": []
  },
  {
   "cell_type": "markdown",
   "metadata": {},
   "source": [
    "### 연령에 따른 대표 색상(색상변경, harmony) 인식 차이 \n",
    "\n",
    "    귀무가설 : 연령에 따라 대표 색상(색상변경, harmony) 인식 차이가 없다\n",
    "    대립가설 : 연령에 따라 대표 색상(색상변경, harmony) 인식 차이가 있다\n",
    "    \n",
    "    - 대표 색상(색상변경, harmony) : original\n",
    "    - chisq.test 사용"
   ]
  },
  {
   "cell_type": "code",
   "execution_count": 13,
   "metadata": {},
   "outputs": [
    {
     "name": "stdout",
     "output_type": "stream",
     "text": [
      "'data.frame':\t576 obs. of  4 variables:\n",
      " $ X     : int  0 1 2 3 4 5 6 7 8 9 ...\n",
      " $ age   : int  20 20 20 20 20 30 30 20 30 20 ...\n",
      " $ select: Factor w/ 5 levels \"144\",\"216\",\"288\",..: 5 3 3 3 1 5 5 1 1 3 ...\n",
      " $ cnt   : int  1 1 1 1 1 1 1 1 1 1 ...\n"
     ]
    },
    {
     "data": {
      "text/html": [
       "<table>\n",
       "<thead><tr><th scope=col>X</th><th scope=col>age</th><th scope=col>select</th><th scope=col>cnt</th></tr></thead>\n",
       "<tbody>\n",
       "\t<tr><td>0       </td><td>20      </td><td>original</td><td>1       </td></tr>\n",
       "\t<tr><td>1       </td><td>20      </td><td>288     </td><td>1       </td></tr>\n",
       "\t<tr><td>2       </td><td>20      </td><td>288     </td><td>1       </td></tr>\n",
       "\t<tr><td>3       </td><td>20      </td><td>288     </td><td>1       </td></tr>\n",
       "\t<tr><td>4       </td><td>20      </td><td>144     </td><td>1       </td></tr>\n",
       "\t<tr><td>5       </td><td>30      </td><td>original</td><td>1       </td></tr>\n",
       "</tbody>\n",
       "</table>\n"
      ],
      "text/latex": [
       "\\begin{tabular}{r|llll}\n",
       " X & age & select & cnt\\\\\n",
       "\\hline\n",
       "\t 0        & 20       & original & 1       \\\\\n",
       "\t 1        & 20       & 288      & 1       \\\\\n",
       "\t 2        & 20       & 288      & 1       \\\\\n",
       "\t 3        & 20       & 288      & 1       \\\\\n",
       "\t 4        & 20       & 144      & 1       \\\\\n",
       "\t 5        & 30       & original & 1       \\\\\n",
       "\\end{tabular}\n"
      ],
      "text/markdown": [
       "\n",
       "| X | age | select | cnt |\n",
       "|---|---|---|---|\n",
       "| 0        | 20       | original | 1        |\n",
       "| 1        | 20       | 288      | 1        |\n",
       "| 2        | 20       | 288      | 1        |\n",
       "| 3        | 20       | 288      | 1        |\n",
       "| 4        | 20       | 144      | 1        |\n",
       "| 5        | 30       | original | 1        |\n",
       "\n"
      ],
      "text/plain": [
       "  X age select   cnt\n",
       "1 0 20  original 1  \n",
       "2 1 20  288      1  \n",
       "3 2 20  288      1  \n",
       "4 3 20  288      1  \n",
       "5 4 20  144      1  \n",
       "6 5 30  original 1  "
      ]
     },
     "metadata": {},
     "output_type": "display_data"
    }
   ],
   "source": [
    "# 데이터 불러오기\n",
    "\n",
    "A_hCH_cnt <- read.csv(\"C:/Users/cho ye seul/Documents/예슬/Acorn/FinalProject/Statistical Analysis/A_hCH_cnt2.csv\")\n",
    "str(A_hCH_cnt)\n",
    "head(A_hCH_cnt)"
   ]
  },
  {
   "cell_type": "code",
   "execution_count": 15,
   "metadata": {},
   "outputs": [
    {
     "data": {
      "text/html": [
       "<table>\n",
       "<thead><tr><th></th><th scope=col>True</th><th scope=col>False</th><th scope=col>Sum</th></tr></thead>\n",
       "<tbody>\n",
       "\t<tr><th scope=row>teens</th><td> 11</td><td> 31</td><td> 42</td></tr>\n",
       "\t<tr><th scope=row>twenty</th><td> 79</td><td>257</td><td>336</td></tr>\n",
       "\t<tr><th scope=row>thirty</th><td> 36</td><td> 90</td><td>126</td></tr>\n",
       "\t<tr><th scope=row>forty</th><td>  2</td><td> 16</td><td> 18</td></tr>\n",
       "\t<tr><th scope=row>fifty</th><td>  9</td><td> 45</td><td> 54</td></tr>\n",
       "\t<tr><th scope=row>Sum</th><td>137</td><td>439</td><td>576</td></tr>\n",
       "</tbody>\n",
       "</table>\n"
      ],
      "text/latex": [
       "\\begin{tabular}{r|lll}\n",
       "  & True & False & Sum\\\\\n",
       "\\hline\n",
       "\tteens &  11 &  31 &  42\\\\\n",
       "\ttwenty &  79 & 257 & 336\\\\\n",
       "\tthirty &  36 &  90 & 126\\\\\n",
       "\tforty &   2 &  16 &  18\\\\\n",
       "\tfifty &   9 &  45 &  54\\\\\n",
       "\tSum & 137 & 439 & 576\\\\\n",
       "\\end{tabular}\n"
      ],
      "text/markdown": [
       "\n",
       "| <!--/--> | True | False | Sum |\n",
       "|---|---|---|---|\n",
       "| teens |  11 |  31 |  42 |\n",
       "| twenty |  79 | 257 | 336 |\n",
       "| thirty |  36 |  90 | 126 |\n",
       "| forty |   2 |  16 |  18 |\n",
       "| fifty |   9 |  45 |  54 |\n",
       "| Sum | 137 | 439 | 576 |\n",
       "\n"
      ],
      "text/plain": [
       "       True False Sum\n",
       "teens   11   31    42\n",
       "twenty  79  257   336\n",
       "thirty  36   90   126\n",
       "forty    2   16    18\n",
       "fifty    9   45    54\n",
       "Sum    137  439   576"
      ]
     },
     "metadata": {},
     "output_type": "display_data"
    },
    {
     "name": "stderr",
     "output_type": "stream",
     "text": [
      "Warning message in chisq.test(df_A_hCH_cnt):\n",
      "\"Chi-squared approximation may be incorrect\""
     ]
    },
    {
     "data": {
      "text/plain": [
       "\n",
       "\tPearson's Chi-squared test\n",
       "\n",
       "data:  df_A_hCH_cnt\n",
       "X-squared = 4.8447, df = 4, p-value = 0.3036\n"
      ]
     },
     "metadata": {},
     "output_type": "display_data"
    },
    {
     "data": {
      "text/plain": [
       "\n",
       "\tFisher's Exact Test for Count Data\n",
       "\n",
       "data:  df_A_hCH_cnt\n",
       "p-value = 0.3269\n",
       "alternative hypothesis: two.sided\n"
      ]
     },
     "metadata": {},
     "output_type": "display_data"
    }
   ],
   "source": [
    "## 데이터프레임 재생성\n",
    "\n",
    "teens_T <- with(A_hCH_cnt, sum(cnt[age == \"10\" & select == \"original\"]))\n",
    "teens_F <- with(A_hCH_cnt, sum(cnt[age == \"10\" & select != \"original\"]))\n",
    "\n",
    "twenty_T <- with(A_hCH_cnt, sum(cnt[age == \"20\" & select == \"original\"]))\n",
    "twenty_F <- with(A_hCH_cnt, sum(cnt[age == \"20\" & select != \"original\"]))\n",
    "\n",
    "thirty_T <- with(A_hCH_cnt, sum(cnt[age == \"30\" & select == \"original\"]))\n",
    "thirty_F <- with(A_hCH_cnt, sum(cnt[age == \"30\" & select != \"original\"]))\n",
    "\n",
    "forty_T <- with(A_hCH_cnt, sum(cnt[age == \"40\" & select == \"original\"]))\n",
    "forty_F <- with(A_hCH_cnt, sum(cnt[age == \"40\" & select != \"original\"]))\n",
    "\n",
    "fifty_T <- with(A_hCH_cnt, sum(cnt[age == \"50\" & select == \"original\"]))\n",
    "fifty_F <- with(A_hCH_cnt, sum(cnt[age == \"50\" & select != \"original\"]))\n",
    "\n",
    "teens <- c(teens_T, teens_F)\n",
    "twenty <- c(twenty_T, twenty_F)\n",
    "thirty <- c(thirty_T, thirty_F)\n",
    "forty <- c(forty_T, forty_F)\n",
    "fifty <- c(fifty_T, fifty_F)\n",
    "             \n",
    "df_A_hCH_cnt <- data.frame(teens, twenty, thirty, forty, fifty)\n",
    "df_A_hCH_cnt <- t(df_A_hCH_cnt)\n",
    "colnames(df_A_hCH_cnt) <- c(\"True\", \"False\")\n",
    "# df_A_hCB_cnt\n",
    "\n",
    "\n",
    "## 행, 열 각각의 합계 알아보기\n",
    "\n",
    "addmargins(df_A_hCH_cnt)\n",
    "# 합계값이 동일하지 않으므로 chisq.test 사용\n",
    "\n",
    "\n",
    "## 카이제곱\n",
    "\n",
    "chisq.test(df_A_hCH_cnt)\n",
    "# p-value = 0.3036\n",
    "# 0.05보다 큰 값을 가지므로 귀무가설 성립\n",
    "# 연령에 따라 색상(hueBright) 인식 차이가 없음을 알 수 있다\n",
    "# but 기대도수가 낮은 셀이 전체의 25% 이상 존재하므로 \n",
    "# Fisher's exact test 사용해야한다!!\n",
    "\n",
    "\n",
    "## Fisher's exact test\n",
    "\n",
    "fisher.test(df_A_hCH_cnt)\n",
    "# p-value = 0.3269\n",
    "# 0.05보다 큰 값을 가지므로 귀무가설 성립\n",
    "# 연령에 따라 색상(hueBright) 인식 차이가 없음을 알 수 있다"
   ]
  },
  {
   "cell_type": "code",
   "execution_count": null,
   "metadata": {},
   "outputs": [],
   "source": []
  },
  {
   "cell_type": "markdown",
   "metadata": {},
   "source": [
    "### 패션 관심도에 따른 대표 색상(색상변경, harmony) 인식 차이 \n",
    "\n",
    "    귀무가설 : 패션 관심도에 따라 대표 색상(색상변경, harmony) 인식 차이가 없다\n",
    "    대립가설 : 패션 관심도에 따라 대표 색상(색상변경, harmony) 인식 차이가 있다\n",
    "    \n",
    "    - 대표 색상(색상변경, harmony) : original\n",
    "    - chisq.test 사용"
   ]
  },
  {
   "cell_type": "code",
   "execution_count": 16,
   "metadata": {},
   "outputs": [
    {
     "name": "stdout",
     "output_type": "stream",
     "text": [
      "'data.frame':\t576 obs. of  4 variables:\n",
      " $ X       : int  0 1 2 3 4 5 6 7 8 9 ...\n",
      " $ interest: int  3 5 5 3 3 4 3 3 5 1 ...\n",
      " $ select  : Factor w/ 5 levels \"144\",\"216\",\"288\",..: 5 3 3 3 1 5 5 1 1 3 ...\n",
      " $ cnt     : int  1 1 1 1 1 1 1 1 1 1 ...\n"
     ]
    },
    {
     "data": {
      "text/html": [
       "<table>\n",
       "<thead><tr><th scope=col>X</th><th scope=col>interest</th><th scope=col>select</th><th scope=col>cnt</th></tr></thead>\n",
       "<tbody>\n",
       "\t<tr><td>0       </td><td>3       </td><td>original</td><td>1       </td></tr>\n",
       "\t<tr><td>1       </td><td>5       </td><td>288     </td><td>1       </td></tr>\n",
       "\t<tr><td>2       </td><td>5       </td><td>288     </td><td>1       </td></tr>\n",
       "\t<tr><td>3       </td><td>3       </td><td>288     </td><td>1       </td></tr>\n",
       "\t<tr><td>4       </td><td>3       </td><td>144     </td><td>1       </td></tr>\n",
       "\t<tr><td>5       </td><td>4       </td><td>original</td><td>1       </td></tr>\n",
       "</tbody>\n",
       "</table>\n"
      ],
      "text/latex": [
       "\\begin{tabular}{r|llll}\n",
       " X & interest & select & cnt\\\\\n",
       "\\hline\n",
       "\t 0        & 3        & original & 1       \\\\\n",
       "\t 1        & 5        & 288      & 1       \\\\\n",
       "\t 2        & 5        & 288      & 1       \\\\\n",
       "\t 3        & 3        & 288      & 1       \\\\\n",
       "\t 4        & 3        & 144      & 1       \\\\\n",
       "\t 5        & 4        & original & 1       \\\\\n",
       "\\end{tabular}\n"
      ],
      "text/markdown": [
       "\n",
       "| X | interest | select | cnt |\n",
       "|---|---|---|---|\n",
       "| 0        | 3        | original | 1        |\n",
       "| 1        | 5        | 288      | 1        |\n",
       "| 2        | 5        | 288      | 1        |\n",
       "| 3        | 3        | 288      | 1        |\n",
       "| 4        | 3        | 144      | 1        |\n",
       "| 5        | 4        | original | 1        |\n",
       "\n"
      ],
      "text/plain": [
       "  X interest select   cnt\n",
       "1 0 3        original 1  \n",
       "2 1 5        288      1  \n",
       "3 2 5        288      1  \n",
       "4 3 3        288      1  \n",
       "5 4 3        144      1  \n",
       "6 5 4        original 1  "
      ]
     },
     "metadata": {},
     "output_type": "display_data"
    }
   ],
   "source": [
    "# 데이터 불러오기\n",
    "\n",
    "I_hCH_cnt <- read.csv(\"C:/Users/cho ye seul/Documents/예슬/Acorn/FinalProject/Statistical Analysis/I_hCH_cnt.csv\")\n",
    "str(I_hCH_cnt)\n",
    "head(I_hCH_cnt)"
   ]
  },
  {
   "cell_type": "code",
   "execution_count": 19,
   "metadata": {},
   "outputs": [
    {
     "data": {
      "text/html": [
       "<table>\n",
       "<thead><tr><th scope=col>True</th><th scope=col>False</th></tr></thead>\n",
       "<tbody>\n",
       "\t<tr><td>14 </td><td> 40</td></tr>\n",
       "\t<tr><td>15 </td><td> 51</td></tr>\n",
       "\t<tr><td>43 </td><td>167</td></tr>\n",
       "\t<tr><td>43 </td><td>107</td></tr>\n",
       "\t<tr><td>22 </td><td> 74</td></tr>\n",
       "</tbody>\n",
       "</table>\n"
      ],
      "text/latex": [
       "\\begin{tabular}{r|ll}\n",
       " True & False\\\\\n",
       "\\hline\n",
       "\t 14  &  40\\\\\n",
       "\t 15  &  51\\\\\n",
       "\t 43  & 167\\\\\n",
       "\t 43  & 107\\\\\n",
       "\t 22  &  74\\\\\n",
       "\\end{tabular}\n"
      ],
      "text/markdown": [
       "\n",
       "| True | False |\n",
       "|---|---|\n",
       "| 14  |  40 |\n",
       "| 15  |  51 |\n",
       "| 43  | 167 |\n",
       "| 43  | 107 |\n",
       "| 22  |  74 |\n",
       "\n"
      ],
      "text/plain": [
       "  True False\n",
       "1 14    40  \n",
       "2 15    51  \n",
       "3 43   167  \n",
       "4 43   107  \n",
       "5 22    74  "
      ]
     },
     "metadata": {},
     "output_type": "display_data"
    },
    {
     "data": {
      "text/plain": [
       "\n",
       "\tPearson's Chi-squared test\n",
       "\n",
       "data:  interest_TF\n",
       "X-squared = 3.4574, df = 4, p-value = 0.4844\n"
      ]
     },
     "metadata": {},
     "output_type": "display_data"
    }
   ],
   "source": [
    "## 데이터프레임 재생성\n",
    "\n",
    "I_True <- c()\n",
    "I_False <- c()\n",
    "\n",
    "for(i in seq(1,5, by=1)){\n",
    "    True <- with(I_hCH_cnt, sum(cnt[interest==i & select ==\"original\"]))\n",
    "    I_True[[(i)]] <- True\n",
    "\n",
    "    False <- with(I_hCH_cnt, sum(cnt[interest==i & select != \"original\"]))\n",
    "\n",
    "    I_False[[i]] <- False\n",
    "       \n",
    "    interest_TF <- data.frame(True=I_True, False=I_False)\n",
    "}\n",
    "\n",
    "interest_TF\n",
    "\n",
    "# 카이제곱\n",
    "\n",
    "chisq.test(interest_TF)\n",
    "# p-value = 0.4844\n",
    "# 0.05보다 큰 값을 가지므로 귀무가설 성립\n",
    "# 패션 관심도에 따른 색상 인식차이 없다"
   ]
  },
  {
   "cell_type": "code",
   "execution_count": null,
   "metadata": {},
   "outputs": [],
   "source": []
  },
  {
   "cell_type": "markdown",
   "metadata": {},
   "source": [
    "### Defintion, Need 에 따른 대표 색상(색상변경, harmony) 인식 차이 \n",
    "\n",
    "    귀무가설 : definition + need 에 따라 대표 색상(색상변경, harmony) 인식 차이가 없다\n",
    "    대립가설 : definition + need 에 따라 대표 색상(색상변경, harmony) 인식 차이가 있다\n",
    "    \n",
    "    definition + need 묶은 방법\n",
    "    : bright + bright\n",
    "    : bright + harmony\n",
    "    : harmony + bright\n",
    "    : harmony + harmony\n",
    "    \n",
    "    - 대표 색상(색상변경, harmony) : original\n",
    "    - chisq.test 사용"
   ]
  },
  {
   "cell_type": "code",
   "execution_count": 20,
   "metadata": {},
   "outputs": [
    {
     "name": "stdout",
     "output_type": "stream",
     "text": [
      "'data.frame':\t576 obs. of  5 variables:\n",
      " $ X         : int  0 1 2 3 4 5 6 7 8 9 ...\n",
      " $ definition: Factor w/ 2 levels \"bright\",\"harmony\": 1 2 1 1 1 2 2 1 2 2 ...\n",
      " $ need      : Factor w/ 2 levels \"bright\",\"harmony\": 1 2 1 2 1 2 1 1 1 2 ...\n",
      " $ select    : Factor w/ 5 levels \"144\",\"216\",\"288\",..: 5 3 3 3 1 5 5 1 1 3 ...\n",
      " $ cnt       : int  1 1 1 1 1 1 1 1 1 1 ...\n"
     ]
    },
    {
     "data": {
      "text/html": [
       "<table>\n",
       "<thead><tr><th scope=col>X</th><th scope=col>definition</th><th scope=col>need</th><th scope=col>select</th><th scope=col>cnt</th></tr></thead>\n",
       "<tbody>\n",
       "\t<tr><td>0       </td><td>bright  </td><td>bright  </td><td>original</td><td>1       </td></tr>\n",
       "\t<tr><td>1       </td><td>harmony </td><td>harmony </td><td>288     </td><td>1       </td></tr>\n",
       "\t<tr><td>2       </td><td>bright  </td><td>bright  </td><td>288     </td><td>1       </td></tr>\n",
       "\t<tr><td>3       </td><td>bright  </td><td>harmony </td><td>288     </td><td>1       </td></tr>\n",
       "\t<tr><td>4       </td><td>bright  </td><td>bright  </td><td>144     </td><td>1       </td></tr>\n",
       "\t<tr><td>5       </td><td>harmony </td><td>harmony </td><td>original</td><td>1       </td></tr>\n",
       "</tbody>\n",
       "</table>\n"
      ],
      "text/latex": [
       "\\begin{tabular}{r|lllll}\n",
       " X & definition & need & select & cnt\\\\\n",
       "\\hline\n",
       "\t 0        & bright   & bright   & original & 1       \\\\\n",
       "\t 1        & harmony  & harmony  & 288      & 1       \\\\\n",
       "\t 2        & bright   & bright   & 288      & 1       \\\\\n",
       "\t 3        & bright   & harmony  & 288      & 1       \\\\\n",
       "\t 4        & bright   & bright   & 144      & 1       \\\\\n",
       "\t 5        & harmony  & harmony  & original & 1       \\\\\n",
       "\\end{tabular}\n"
      ],
      "text/markdown": [
       "\n",
       "| X | definition | need | select | cnt |\n",
       "|---|---|---|---|---|\n",
       "| 0        | bright   | bright   | original | 1        |\n",
       "| 1        | harmony  | harmony  | 288      | 1        |\n",
       "| 2        | bright   | bright   | 288      | 1        |\n",
       "| 3        | bright   | harmony  | 288      | 1        |\n",
       "| 4        | bright   | bright   | 144      | 1        |\n",
       "| 5        | harmony  | harmony  | original | 1        |\n",
       "\n"
      ],
      "text/plain": [
       "  X definition need    select   cnt\n",
       "1 0 bright     bright  original 1  \n",
       "2 1 harmony    harmony 288      1  \n",
       "3 2 bright     bright  288      1  \n",
       "4 3 bright     harmony 288      1  \n",
       "5 4 bright     bright  144      1  \n",
       "6 5 harmony    harmony original 1  "
      ]
     },
     "metadata": {},
     "output_type": "display_data"
    }
   ],
   "source": [
    "# 데이터 불러오기\n",
    "\n",
    "DN_hCH_cnt <- read.csv(\"C:/Users/cho ye seul/Documents/예슬/Acorn/FinalProject/Statistical Analysis/DN_hCH_cnt.csv\")\n",
    "str(DN_hCH_cnt)\n",
    "head(DN_hCH_cnt)"
   ]
  },
  {
   "cell_type": "code",
   "execution_count": 25,
   "metadata": {},
   "outputs": [
    {
     "data": {
      "text/html": [
       "<table>\n",
       "<thead><tr><th></th><th scope=col>True</th><th scope=col>False</th></tr></thead>\n",
       "<tbody>\n",
       "\t<tr><th scope=row>BB</th><td>21 </td><td> 93</td></tr>\n",
       "\t<tr><th scope=row>BH</th><td> 3 </td><td> 15</td></tr>\n",
       "\t<tr><th scope=row>HB</th><td>30 </td><td> 72</td></tr>\n",
       "\t<tr><th scope=row>HH</th><td>83 </td><td>259</td></tr>\n",
       "</tbody>\n",
       "</table>\n"
      ],
      "text/latex": [
       "\\begin{tabular}{r|ll}\n",
       "  & True & False\\\\\n",
       "\\hline\n",
       "\tBB & 21  &  93\\\\\n",
       "\tBH &  3  &  15\\\\\n",
       "\tHB & 30  &  72\\\\\n",
       "\tHH & 83  & 259\\\\\n",
       "\\end{tabular}\n"
      ],
      "text/markdown": [
       "\n",
       "| <!--/--> | True | False |\n",
       "|---|---|---|\n",
       "| BB | 21  |  93 |\n",
       "| BH |  3  |  15 |\n",
       "| HB | 30  |  72 |\n",
       "| HH | 83  | 259 |\n",
       "\n"
      ],
      "text/plain": [
       "   True False\n",
       "BB 21    93  \n",
       "BH  3    15  \n",
       "HB 30    72  \n",
       "HH 83   259  "
      ]
     },
     "metadata": {},
     "output_type": "display_data"
    },
    {
     "data": {
      "text/html": [
       "<table>\n",
       "<thead><tr><th></th><th scope=col>True</th><th scope=col>False</th><th scope=col>Sum</th></tr></thead>\n",
       "<tbody>\n",
       "\t<tr><th scope=row>BB</th><td> 21</td><td> 93</td><td>114</td></tr>\n",
       "\t<tr><th scope=row>BH</th><td>  3</td><td> 15</td><td> 18</td></tr>\n",
       "\t<tr><th scope=row>HB</th><td> 30</td><td> 72</td><td>102</td></tr>\n",
       "\t<tr><th scope=row>HH</th><td> 83</td><td>259</td><td>342</td></tr>\n",
       "\t<tr><th scope=row>Sum</th><td>137</td><td>439</td><td>576</td></tr>\n",
       "</tbody>\n",
       "</table>\n"
      ],
      "text/latex": [
       "\\begin{tabular}{r|lll}\n",
       "  & True & False & Sum\\\\\n",
       "\\hline\n",
       "\tBB &  21 &  93 & 114\\\\\n",
       "\tBH &   3 &  15 &  18\\\\\n",
       "\tHB &  30 &  72 & 102\\\\\n",
       "\tHH &  83 & 259 & 342\\\\\n",
       "\tSum & 137 & 439 & 576\\\\\n",
       "\\end{tabular}\n"
      ],
      "text/markdown": [
       "\n",
       "| <!--/--> | True | False | Sum |\n",
       "|---|---|---|---|\n",
       "| BB |  21 |  93 | 114 |\n",
       "| BH |   3 |  15 |  18 |\n",
       "| HB |  30 |  72 | 102 |\n",
       "| HH |  83 | 259 | 342 |\n",
       "| Sum | 137 | 439 | 576 |\n",
       "\n"
      ],
      "text/plain": [
       "    True False Sum\n",
       "BB   21   93   114\n",
       "BH    3   15    18\n",
       "HB   30   72   102\n",
       "HH   83  259   342\n",
       "Sum 137  439   576"
      ]
     },
     "metadata": {},
     "output_type": "display_data"
    },
    {
     "name": "stderr",
     "output_type": "stream",
     "text": [
      "Warning message in chisq.test(df_DN_hCH_cnt):\n",
      "\"Chi-squared approximation may be incorrect\""
     ]
    },
    {
     "data": {
      "text/plain": [
       "\n",
       "\tPearson's Chi-squared test\n",
       "\n",
       "data:  df_DN_hCH_cnt\n",
       "X-squared = 4.1382, df = 3, p-value = 0.2469\n"
      ]
     },
     "metadata": {},
     "output_type": "display_data"
    },
    {
     "data": {
      "text/plain": [
       "\n",
       "\tFisher's Exact Test for Count Data\n",
       "\n",
       "data:  df_DN_hCH_cnt\n",
       "p-value = 0.2651\n",
       "alternative hypothesis: two.sided\n"
      ]
     },
     "metadata": {},
     "output_type": "display_data"
    }
   ],
   "source": [
    "## 데이터프레임 재생성\n",
    "\n",
    "# bright + bright\n",
    "BB_T <- with(DN_hCH_cnt, sum(cnt[definition == \"bright\" & need == \"bright\" & select == \"original\"]))\n",
    "BB_F <- with(DN_hCH_cnt, sum(cnt[definition == \"bright\" & need == \"bright\" & select != \"original\"]))\n",
    "             \n",
    "# bright + harmony\n",
    "BH_T <- with(DN_hCH_cnt, sum(cnt[definition == \"bright\" & need == \"harmony\" & select == \"original\"]))\n",
    "BH_F <- with(DN_hCH_cnt, sum(cnt[definition == \"bright\" & need == \"harmony\" & select != \"original\"]))\n",
    "\n",
    "# harmony + bright\n",
    "HB_T <- with(DN_hCH_cnt, sum(cnt[definition == \"harmony\" & need == \"bright\" & select == \"original\"]))\n",
    "HB_F <- with(DN_hCH_cnt, sum(cnt[definition == \"harmony\" & need == \"bright\" & select != \"original\"]))\n",
    "\n",
    "# harmony + harmony\n",
    "HH_T <- with(DN_hCH_cnt, sum(cnt[definition == \"harmony\" & need == \"harmony\" & select == \"original\"]))\n",
    "HH_F <- with(DN_hCH_cnt, sum(cnt[definition == \"harmony\" & need == \"harmony\" & select != \"original\"]))\n",
    "\n",
    "BB <- c(BB_T, BB_F)\n",
    "BH <- c(BH_T, BH_F)\n",
    "HB <- c(HB_T, HB_F)\n",
    "HH <- c(HH_T, HH_F)\n",
    "\n",
    "df_DN_hCH_cnt <- data.frame(BB, BH, HB, HH)\n",
    "df_DN_hCH_cnt <- t(df_DN_hCH_cnt)\n",
    "colnames(df_DN_hCH_cnt) <- c(\"True\", \"False\")\n",
    "df_DN_hCH_cnt\n",
    "\n",
    "## 행, 열 각각의 합계 알아보기\n",
    "addmargins(df_DN_hCH_cnt)\n",
    "# 합계값이 동일하지 않으므로 chisq.test 사용\n",
    "\n",
    "## 카이제곱\n",
    "chisq.test(df_DN_hCH_cnt)\n",
    "# p-value = 0.2469\n",
    "# but 기대도수가 낮은 셀이 전체의 25% 이상 존재하므로 \n",
    "# Fisher's exact test 사용해야한다!!\n",
    "\n",
    "## Fisher's exact test\n",
    "\n",
    "fisher.test(df_DN_hCH_cnt)\n",
    "# p-value = 0.2651\n",
    "# 0.05보다 큰 값을 가지므로 귀무가설 성립\n",
    "# 패션 관심도에 따른 색상 인식차이 없다"
   ]
  },
  {
   "cell_type": "code",
   "execution_count": null,
   "metadata": {},
   "outputs": [],
   "source": []
  },
  {
   "cell_type": "markdown",
   "metadata": {},
   "source": [
    "#### Defintion, Need 에 따른 대표 색상(색상변경, harmony) 선택 분석 "
   ]
  },
  {
   "cell_type": "code",
   "execution_count": 26,
   "metadata": {},
   "outputs": [
    {
     "data": {
      "text/html": [
       "<table>\n",
       "<thead><tr><th></th><th scope=col>True</th><th scope=col>False</th></tr></thead>\n",
       "<tbody>\n",
       "\t<tr><th scope=row>BB</th><td>21 </td><td> 93</td></tr>\n",
       "\t<tr><th scope=row>BH</th><td> 3 </td><td> 15</td></tr>\n",
       "\t<tr><th scope=row>HB</th><td>30 </td><td> 72</td></tr>\n",
       "\t<tr><th scope=row>HH</th><td>83 </td><td>259</td></tr>\n",
       "</tbody>\n",
       "</table>\n"
      ],
      "text/latex": [
       "\\begin{tabular}{r|ll}\n",
       "  & True & False\\\\\n",
       "\\hline\n",
       "\tBB & 21  &  93\\\\\n",
       "\tBH &  3  &  15\\\\\n",
       "\tHB & 30  &  72\\\\\n",
       "\tHH & 83  & 259\\\\\n",
       "\\end{tabular}\n"
      ],
      "text/markdown": [
       "\n",
       "| <!--/--> | True | False |\n",
       "|---|---|---|\n",
       "| BB | 21  |  93 |\n",
       "| BH |  3  |  15 |\n",
       "| HB | 30  |  72 |\n",
       "| HH | 83  | 259 |\n",
       "\n"
      ],
      "text/plain": [
       "   True False\n",
       "BB 21    93  \n",
       "BH  3    15  \n",
       "HB 30    72  \n",
       "HH 83   259  "
      ]
     },
     "metadata": {},
     "output_type": "display_data"
    }
   ],
   "source": [
    "df_DN_hCH_cnt"
   ]
  },
  {
   "cell_type": "markdown",
   "metadata": {},
   "source": [
    "### 결과 해석 \n",
    "\n",
    "     + BB, BH, HB, HH 에 따른 인식 차이 분석\n",
    "\n",
    "     HH 선택이  제일 많음 \n",
    "\n",
    "     선택 개수 : BB 114  BH 18  HB 102  HH 342\n",
    "\n",
    "     맞춘 확률 : BB 18.4%   BH 16.7%   HB 29.4%   HH 24.3%"
   ]
  },
  {
   "cell_type": "code",
   "execution_count": null,
   "metadata": {},
   "outputs": [],
   "source": []
  },
  {
   "cell_type": "markdown",
   "metadata": {},
   "source": [
    "### Sex, Age 에 따른 대표 색상(색상 변경, harmony) 인식 차이 \n",
    "\n",
    "    귀무가설 : sex + age 에 따라 대표 색상(색상변경, harmony) 인식 차이가 없다\n",
    "    대립가설 : sex + age 에 따라 대표 색상(색상변경, harmony) 인식 차이가 있다\n",
    "    \n",
    "    - 대표 색상(색상변경, harmony) : original\n",
    "    - chisq.test 사용"
   ]
  },
  {
   "cell_type": "code",
   "execution_count": 32,
   "metadata": {},
   "outputs": [
    {
     "name": "stdout",
     "output_type": "stream",
     "text": [
      "'data.frame':\t576 obs. of  5 variables:\n",
      " $ X        : int  0 1 2 3 4 5 6 7 8 9 ...\n",
      " $ sex      : Factor w/ 2 levels \"Female\",\"Male\": 1 2 1 2 1 1 1 1 1 1 ...\n",
      " $ age_class: int  20 20 20 20 20 30 30 20 30 20 ...\n",
      " $ select   : Factor w/ 5 levels \"144\",\"216\",\"288\",..: 5 3 3 3 1 5 5 1 1 3 ...\n",
      " $ cnt      : int  1 1 1 1 1 1 1 1 1 1 ...\n"
     ]
    },
    {
     "data": {
      "text/html": [
       "<table>\n",
       "<thead><tr><th scope=col>X</th><th scope=col>sex</th><th scope=col>age_class</th><th scope=col>select</th><th scope=col>cnt</th></tr></thead>\n",
       "<tbody>\n",
       "\t<tr><td>0       </td><td>Female  </td><td>20      </td><td>original</td><td>1       </td></tr>\n",
       "\t<tr><td>1       </td><td>Male    </td><td>20      </td><td>288     </td><td>1       </td></tr>\n",
       "\t<tr><td>2       </td><td>Female  </td><td>20      </td><td>288     </td><td>1       </td></tr>\n",
       "\t<tr><td>3       </td><td>Male    </td><td>20      </td><td>288     </td><td>1       </td></tr>\n",
       "\t<tr><td>4       </td><td>Female  </td><td>20      </td><td>144     </td><td>1       </td></tr>\n",
       "\t<tr><td>5       </td><td>Female  </td><td>30      </td><td>original</td><td>1       </td></tr>\n",
       "</tbody>\n",
       "</table>\n"
      ],
      "text/latex": [
       "\\begin{tabular}{r|lllll}\n",
       " X & sex & age\\_class & select & cnt\\\\\n",
       "\\hline\n",
       "\t 0        & Female   & 20       & original & 1       \\\\\n",
       "\t 1        & Male     & 20       & 288      & 1       \\\\\n",
       "\t 2        & Female   & 20       & 288      & 1       \\\\\n",
       "\t 3        & Male     & 20       & 288      & 1       \\\\\n",
       "\t 4        & Female   & 20       & 144      & 1       \\\\\n",
       "\t 5        & Female   & 30       & original & 1       \\\\\n",
       "\\end{tabular}\n"
      ],
      "text/markdown": [
       "\n",
       "| X | sex | age_class | select | cnt |\n",
       "|---|---|---|---|---|\n",
       "| 0        | Female   | 20       | original | 1        |\n",
       "| 1        | Male     | 20       | 288      | 1        |\n",
       "| 2        | Female   | 20       | 288      | 1        |\n",
       "| 3        | Male     | 20       | 288      | 1        |\n",
       "| 4        | Female   | 20       | 144      | 1        |\n",
       "| 5        | Female   | 30       | original | 1        |\n",
       "\n"
      ],
      "text/plain": [
       "  X sex    age_class select   cnt\n",
       "1 0 Female 20        original 1  \n",
       "2 1 Male   20        288      1  \n",
       "3 2 Female 20        288      1  \n",
       "4 3 Male   20        288      1  \n",
       "5 4 Female 20        144      1  \n",
       "6 5 Female 30        original 1  "
      ]
     },
     "metadata": {},
     "output_type": "display_data"
    }
   ],
   "source": [
    "# 데이터 불러오기\n",
    "\n",
    "SA_hCH_cnt <- read.csv(\"C:/Users/cho ye seul/Documents/예슬/Acorn/FinalProject/Statistical Analysis/SA_hCH_cnt.csv\")\n",
    "str(SA_hCH_cnt)\n",
    "head(SA_hCH_cnt)"
   ]
  },
  {
   "cell_type": "code",
   "execution_count": 35,
   "metadata": {},
   "outputs": [
    {
     "data": {
      "text/html": [
       "<table>\n",
       "<thead><tr><th></th><th scope=col>True</th><th scope=col>False</th><th scope=col>Sum</th></tr></thead>\n",
       "<tbody>\n",
       "\t<tr><th scope=row>F10</th><td> 10</td><td> 26</td><td> 36</td></tr>\n",
       "\t<tr><th scope=row>F20</th><td> 37</td><td>155</td><td>192</td></tr>\n",
       "\t<tr><th scope=row>F30</th><td> 29</td><td> 67</td><td> 96</td></tr>\n",
       "\t<tr><th scope=row>F40</th><td>  0</td><td>  6</td><td>  6</td></tr>\n",
       "\t<tr><th scope=row>F50</th><td>  6</td><td> 30</td><td> 36</td></tr>\n",
       "\t<tr><th scope=row>M10</th><td>  1</td><td>  5</td><td>  6</td></tr>\n",
       "\t<tr><th scope=row>M20</th><td> 42</td><td>102</td><td>144</td></tr>\n",
       "\t<tr><th scope=row>M30</th><td>  7</td><td> 23</td><td> 30</td></tr>\n",
       "\t<tr><th scope=row>M40</th><td>  2</td><td> 10</td><td> 12</td></tr>\n",
       "\t<tr><th scope=row>M50</th><td>  3</td><td> 15</td><td> 18</td></tr>\n",
       "\t<tr><th scope=row>Sum</th><td>137</td><td>439</td><td>576</td></tr>\n",
       "</tbody>\n",
       "</table>\n"
      ],
      "text/latex": [
       "\\begin{tabular}{r|lll}\n",
       "  & True & False & Sum\\\\\n",
       "\\hline\n",
       "\tF10 &  10 &  26 &  36\\\\\n",
       "\tF20 &  37 & 155 & 192\\\\\n",
       "\tF30 &  29 &  67 &  96\\\\\n",
       "\tF40 &   0 &   6 &   6\\\\\n",
       "\tF50 &   6 &  30 &  36\\\\\n",
       "\tM10 &   1 &   5 &   6\\\\\n",
       "\tM20 &  42 & 102 & 144\\\\\n",
       "\tM30 &   7 &  23 &  30\\\\\n",
       "\tM40 &   2 &  10 &  12\\\\\n",
       "\tM50 &   3 &  15 &  18\\\\\n",
       "\tSum & 137 & 439 & 576\\\\\n",
       "\\end{tabular}\n"
      ],
      "text/markdown": [
       "\n",
       "| <!--/--> | True | False | Sum |\n",
       "|---|---|---|---|\n",
       "| F10 |  10 |  26 |  36 |\n",
       "| F20 |  37 | 155 | 192 |\n",
       "| F30 |  29 |  67 |  96 |\n",
       "| F40 |   0 |   6 |   6 |\n",
       "| F50 |   6 |  30 |  36 |\n",
       "| M10 |   1 |   5 |   6 |\n",
       "| M20 |  42 | 102 | 144 |\n",
       "| M30 |   7 |  23 |  30 |\n",
       "| M40 |   2 |  10 |  12 |\n",
       "| M50 |   3 |  15 |  18 |\n",
       "| Sum | 137 | 439 | 576 |\n",
       "\n"
      ],
      "text/plain": [
       "    True False Sum\n",
       "F10  10   26    36\n",
       "F20  37  155   192\n",
       "F30  29   67    96\n",
       "F40   0    6     6\n",
       "F50   6   30    36\n",
       "M10   1    5     6\n",
       "M20  42  102   144\n",
       "M30   7   23    30\n",
       "M40   2   10    12\n",
       "M50   3   15    18\n",
       "Sum 137  439   576"
      ]
     },
     "metadata": {},
     "output_type": "display_data"
    },
    {
     "name": "stderr",
     "output_type": "stream",
     "text": [
      "Warning message in chisq.test(df_SA_hCH_cnt):\n",
      "\"Chi-squared approximation may be incorrect\""
     ]
    },
    {
     "data": {
      "text/plain": [
       "\n",
       "\tPearson's Chi-squared test\n",
       "\n",
       "data:  df_SA_hCH_cnt\n",
       "X-squared = 10.849, df = 9, p-value = 0.2862\n"
      ]
     },
     "metadata": {},
     "output_type": "display_data"
    },
    {
     "data": {
      "text/plain": [
       "\n",
       "\tFisher's Exact Test for Count Data with simulated p-value (based on\n",
       "\t2000 replicates)\n",
       "\n",
       "data:  df_SA_hCH_cnt\n",
       "p-value = 0.3678\n",
       "alternative hypothesis: two.sided\n"
      ]
     },
     "metadata": {},
     "output_type": "display_data"
    }
   ],
   "source": [
    "## 데이터프레임 재생성\n",
    "\n",
    "# Female + 10 \n",
    "F10_T <- with(SA_hCH_cnt, sum(cnt[sex == \"Female\" & age_class == \"10\" & select == \"original\"]))\n",
    "F10_F <- with(SA_hCH_cnt, sum(cnt[sex == \"Female\" & age_class == \"10\" & select != \"original\"]))\n",
    "\n",
    "# Female + 20 \n",
    "F20_T <- with(SA_hCH_cnt, sum(cnt[sex == \"Female\" & age_class == \"20\" & select == \"original\"]))\n",
    "F20_F <- with(SA_hCH_cnt, sum(cnt[sex == \"Female\" & age_class == \"20\" & select != \"original\"]))\n",
    "\n",
    "# Female + 30 \n",
    "F30_T <- with(SA_hCH_cnt, sum(cnt[sex == \"Female\" & age_class == \"30\" & select == \"original\"]))\n",
    "F30_F <- with(SA_hCH_cnt, sum(cnt[sex == \"Female\" & age_class == \"30\" & select != \"original\"]))\n",
    "\n",
    "# Female + 40 \n",
    "F40_T <- with(SA_hCH_cnt, sum(cnt[sex == \"Female\" & age_class == \"40\" & select == \"original\"]))\n",
    "F40_F <- with(SA_hCH_cnt, sum(cnt[sex == \"Female\" & age_class == \"40\" & select != \"original\"]))\n",
    "\n",
    "# Female + 50 \n",
    "F50_T <- with(SA_hCH_cnt, sum(cnt[sex == \"Female\" & age_class == \"50\" & select == \"original\"]))\n",
    "F50_F <- with(SA_hCH_cnt, sum(cnt[sex == \"Female\" & age_class == \"50\" & select != \"original\"]))\n",
    "\n",
    "# Male + 10 \n",
    "M10_T <- with(SA_hCH_cnt, sum(cnt[sex == \"Male\" & age_class == \"10\" & select == \"original\"]))\n",
    "M10_F <- with(SA_hCH_cnt, sum(cnt[sex == \"Male\" & age_class == \"10\" & select != \"original\"]))\n",
    "\n",
    "# Male + 20 \n",
    "M20_T <- with(SA_hCH_cnt, sum(cnt[sex == \"Male\" & age_class == \"20\" & select == \"original\"]))\n",
    "M20_F <- with(SA_hCH_cnt, sum(cnt[sex == \"Male\" & age_class == \"20\" & select != \"original\"]))\n",
    "\n",
    "# Male + 30 \n",
    "M30_T <- with(SA_hCH_cnt, sum(cnt[sex == \"Male\" & age_class == \"30\" & select == \"original\"]))\n",
    "M30_F <- with(SA_hCH_cnt, sum(cnt[sex == \"Male\" & age_class == \"30\" & select != \"original\"]))\n",
    "\n",
    "# Male + 40 \n",
    "M40_T <- with(SA_hCH_cnt, sum(cnt[sex == \"Male\" & age_class == \"40\" & select == \"original\"]))\n",
    "M40_F <- with(SA_hCH_cnt, sum(cnt[sex == \"Male\" & age_class == \"40\" & select != \"original\"]))\n",
    "\n",
    "# Male + 50 \n",
    "M50_T <- with(SA_hCH_cnt, sum(cnt[sex == \"Male\" & age_class == \"50\" & select == \"original\"]))\n",
    "M50_F <- with(SA_hCH_cnt, sum(cnt[sex == \"Male\" & age_class == \"50\" & select != \"original\"]))\n",
    "\n",
    "\n",
    "F10 <- c(F10_T, F10_F)\n",
    "F20 <- c(F20_T, F20_F)\n",
    "F30 <- c(F30_T, F30_F)\n",
    "F40 <- c(F40_T, F40_F)\n",
    "F50 <- c(F50_T, F50_F)\n",
    "\n",
    "M10 <- c(M10_T, M10_F)\n",
    "M20 <- c(M20_T, M20_F)\n",
    "M30 <- c(M30_T, M30_F)\n",
    "M40 <- c(M40_T, M40_F)\n",
    "M50 <- c(M50_T, M50_F)\n",
    "\n",
    "df_SA_hCH_cnt <- data.frame(F10, F20, F30, F40, F50, M10, M20, M30, M40, M50)\n",
    "df_SA_hCH_cnt <- t(df_SA_hCH_cnt)\n",
    "colnames(df_SA_hCH_cnt) <- c(\"True\", \"False\")\n",
    "\n",
    "## 행, 열 각각의 합계 알아보기\n",
    "addmargins(df_SA_hCH_cnt)\n",
    "# 합계값이 동일하지 않으므로 chisq.test 사용\n",
    "\n",
    "## 카이제곱\n",
    "chisq.test(df_SA_hCH_cnt)\n",
    "# p-value = 0.2862\n",
    "# but 기대도수가 낮은 셀이 전체의 25% 이상 존재하므로 \n",
    "# Fisher's exact test 사용해야한다!!\n",
    "\n",
    "\n",
    "## Fisher's exact test\n",
    "fisher.test(df_SA_hCH_cnt, simulate.p.value=TRUE)\n",
    "# p-value = 0.3518\n",
    "# 0.05보다 큰 값을 가지므로 귀무가설 성립"
   ]
  },
  {
   "cell_type": "markdown",
   "metadata": {},
   "source": [
    "#### Sex, Age 에 따른 대표 색상(색상변경, harmony) 선택 분석 "
   ]
  },
  {
   "cell_type": "code",
   "execution_count": 36,
   "metadata": {},
   "outputs": [
    {
     "data": {
      "text/html": [
       "<table>\n",
       "<thead><tr><th></th><th scope=col>True</th><th scope=col>False</th></tr></thead>\n",
       "<tbody>\n",
       "\t<tr><th scope=row>F10</th><td>10 </td><td> 26</td></tr>\n",
       "\t<tr><th scope=row>F20</th><td>37 </td><td>155</td></tr>\n",
       "\t<tr><th scope=row>F30</th><td>29 </td><td> 67</td></tr>\n",
       "\t<tr><th scope=row>F40</th><td> 0 </td><td>  6</td></tr>\n",
       "\t<tr><th scope=row>F50</th><td> 6 </td><td> 30</td></tr>\n",
       "\t<tr><th scope=row>M10</th><td> 1 </td><td>  5</td></tr>\n",
       "\t<tr><th scope=row>M20</th><td>42 </td><td>102</td></tr>\n",
       "\t<tr><th scope=row>M30</th><td> 7 </td><td> 23</td></tr>\n",
       "\t<tr><th scope=row>M40</th><td> 2 </td><td> 10</td></tr>\n",
       "\t<tr><th scope=row>M50</th><td> 3 </td><td> 15</td></tr>\n",
       "</tbody>\n",
       "</table>\n"
      ],
      "text/latex": [
       "\\begin{tabular}{r|ll}\n",
       "  & True & False\\\\\n",
       "\\hline\n",
       "\tF10 & 10  &  26\\\\\n",
       "\tF20 & 37  & 155\\\\\n",
       "\tF30 & 29  &  67\\\\\n",
       "\tF40 &  0  &   6\\\\\n",
       "\tF50 &  6  &  30\\\\\n",
       "\tM10 &  1  &   5\\\\\n",
       "\tM20 & 42  & 102\\\\\n",
       "\tM30 &  7  &  23\\\\\n",
       "\tM40 &  2  &  10\\\\\n",
       "\tM50 &  3  &  15\\\\\n",
       "\\end{tabular}\n"
      ],
      "text/markdown": [
       "\n",
       "| <!--/--> | True | False |\n",
       "|---|---|---|\n",
       "| F10 | 10  |  26 |\n",
       "| F20 | 37  | 155 |\n",
       "| F30 | 29  |  67 |\n",
       "| F40 |  0  |   6 |\n",
       "| F50 |  6  |  30 |\n",
       "| M10 |  1  |   5 |\n",
       "| M20 | 42  | 102 |\n",
       "| M30 |  7  |  23 |\n",
       "| M40 |  2  |  10 |\n",
       "| M50 |  3  |  15 |\n",
       "\n"
      ],
      "text/plain": [
       "    True False\n",
       "F10 10    26  \n",
       "F20 37   155  \n",
       "F30 29    67  \n",
       "F40  0     6  \n",
       "F50  6    30  \n",
       "M10  1     5  \n",
       "M20 42   102  \n",
       "M30  7    23  \n",
       "M40  2    10  \n",
       "M50  3    15  "
      ]
     },
     "metadata": {},
     "output_type": "display_data"
    }
   ],
   "source": [
    "df_SA_hCH_cnt"
   ]
  },
  {
   "cell_type": "markdown",
   "metadata": {},
   "source": [
    "### 결과 해석 \n",
    "\n",
    "     + Sex, Age 에 따른 인식 차이 분석\n",
    "\n",
    "     정답 비율 \n",
    "     F10 27.8%  F20 19.3%  F30 30.2%  F40  0.0%  F50  16.7% \n",
    "     M10 16.7%  M20 29.2%  M30 23.3%  M40 16.7%  M50  16.7%\n",
    "     \n",
    "     앞의 분석 결과 \n",
    "     성별에 따른 인식 차이가 없었고, \n",
    "     연령에 따른 인식 차이가 없었다.\n",
    "     \n",
    "     정답 확률 : 30대여자 > 20대남자 > 10대여자"
   ]
  }
 ],
 "metadata": {
  "kernelspec": {
   "display_name": "R",
   "language": "R",
   "name": "ir"
  },
  "language_info": {
   "codemirror_mode": "r",
   "file_extension": ".r",
   "mimetype": "text/x-r-source",
   "name": "R",
   "pygments_lexer": "r",
   "version": "3.6.1"
  }
 },
 "nbformat": 4,
 "nbformat_minor": 2
}
