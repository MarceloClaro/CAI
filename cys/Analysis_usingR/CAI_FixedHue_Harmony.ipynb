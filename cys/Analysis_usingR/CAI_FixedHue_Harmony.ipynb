{
 "cells": [
  {
   "cell_type": "markdown",
   "metadata": {},
   "source": [
    " ## 대표 색상(H고정) 관련 가설검증\n",
    " \n",
    "    최초 작성일 : 2020/03/23\n",
    "    작성자 : 조예슬 \n",
    " \n",
    "    < 작성 내용 >\n",
    "    \n",
    "        설문지(2) 사용 2번 문항\n",
    "    \n",
    "        - 설문조사 결과 그래프로 시각화\n",
    "        \n",
    "        - 성별에 따른 색상(FixedHue, bright) 인식 차이\n",
    "        \n",
    "        - 연령에 따른 색상(FixedHue, bright) 인식 차이\n",
    "        \n",
    "        - 패션 관심도에 따른 색상(FixedHue, bright) 인식 차이\n",
    "        \n",
    "        - definition + need 묶어서 색상(FixedHue, bright) 인식 차이 \n",
    "        \n",
    "        - Sex + Age 묶어서 색상(FixedHue, bright) 인식 차이"
   ]
  },
  {
   "cell_type": "code",
   "execution_count": null,
   "metadata": {},
   "outputs": [],
   "source": []
  },
  {
   "cell_type": "markdown",
   "metadata": {},
   "source": [
    "# 색상고정, harmony"
   ]
  },
  {
   "cell_type": "markdown",
   "metadata": {},
   "source": [
    "### 설문조사 결과를 토대로 대표 색상 설정"
   ]
  },
  {
   "cell_type": "code",
   "execution_count": 1,
   "metadata": {},
   "outputs": [
    {
     "name": "stdout",
     "output_type": "stream",
     "text": [
      "'data.frame':\t576 obs. of  4 variables:\n",
      " $ X     : int  0 1 2 3 4 5 6 7 8 9 ...\n",
      " $ select: Factor w/ 5 levels \"-S-V\",\"-S+V\",..: 3 3 3 3 3 2 2 3 4 3 ...\n",
      " $ class : Factor w/ 6 levels \"comp\",\"doubleness1\",..: 1 1 1 1 1 1 1 1 1 1 ...\n",
      " $ cnt   : int  1 1 1 1 1 1 1 1 1 1 ...\n"
     ]
    },
    {
     "data": {
      "text/html": [
       "<table>\n",
       "<thead><tr><th scope=col>X</th><th scope=col>select</th><th scope=col>class</th><th scope=col>cnt</th></tr></thead>\n",
       "<tbody>\n",
       "\t<tr><td>0   </td><td>+S-V</td><td>comp</td><td>1   </td></tr>\n",
       "\t<tr><td>1   </td><td>+S-V</td><td>comp</td><td>1   </td></tr>\n",
       "\t<tr><td>2   </td><td>+S-V</td><td>comp</td><td>1   </td></tr>\n",
       "\t<tr><td>3   </td><td>+S-V</td><td>comp</td><td>1   </td></tr>\n",
       "\t<tr><td>4   </td><td>+S-V</td><td>comp</td><td>1   </td></tr>\n",
       "\t<tr><td>5   </td><td>-S+V</td><td>comp</td><td>1   </td></tr>\n",
       "</tbody>\n",
       "</table>\n"
      ],
      "text/latex": [
       "\\begin{tabular}{r|llll}\n",
       " X & select & class & cnt\\\\\n",
       "\\hline\n",
       "\t 0    & +S-V & comp & 1   \\\\\n",
       "\t 1    & +S-V & comp & 1   \\\\\n",
       "\t 2    & +S-V & comp & 1   \\\\\n",
       "\t 3    & +S-V & comp & 1   \\\\\n",
       "\t 4    & +S-V & comp & 1   \\\\\n",
       "\t 5    & -S+V & comp & 1   \\\\\n",
       "\\end{tabular}\n"
      ],
      "text/markdown": [
       "\n",
       "| X | select | class | cnt |\n",
       "|---|---|---|---|\n",
       "| 0    | +S-V | comp | 1    |\n",
       "| 1    | +S-V | comp | 1    |\n",
       "| 2    | +S-V | comp | 1    |\n",
       "| 3    | +S-V | comp | 1    |\n",
       "| 4    | +S-V | comp | 1    |\n",
       "| 5    | -S+V | comp | 1    |\n",
       "\n"
      ],
      "text/plain": [
       "  X select class cnt\n",
       "1 0 +S-V   comp  1  \n",
       "2 1 +S-V   comp  1  \n",
       "3 2 +S-V   comp  1  \n",
       "4 3 +S-V   comp  1  \n",
       "5 4 +S-V   comp  1  \n",
       "6 5 -S+V   comp  1  "
      ]
     },
     "metadata": {},
     "output_type": "display_data"
    }
   ],
   "source": [
    "# 데이터 불러오기\n",
    "\n",
    "hFixed_harmony <- read.csv(\"C:/Users/cho ye seul/Documents/예슬/Acorn/FinalProject/Statistical Analysis/hFixed_harmony.csv\")\n",
    "str(hFixed_harmony)\n",
    "head(hFixed_harmony)"
   ]
  },
  {
   "cell_type": "code",
   "execution_count": 2,
   "metadata": {},
   "outputs": [
    {
     "data": {
      "image/png": "[encoded data removed]",
      "text/plain": [
       "plot without title"
      ]
     },
     "metadata": {},
     "output_type": "display_data"
    }
   ],
   "source": [
    "# 그래프로 상태 먼저 확인\n",
    "\n",
    "# install.packages(\"ggplot2\")\n",
    "library(\"ggplot2\")\n",
    "\n",
    "# 각 샘플마다 나눠서 보기\n",
    "ggplot(hFixed_harmony, aes(class, fill=select)) + geom_bar(position=\"dodge\") + labs(title=\"Representative Color(fixed hue)\")\n",
    "# 원래는 original이 가장 밝게 보여주는 색이지만\n",
    "# 엄청 다양하네... 전체적으로 봐보자"
   ]
  },
  {
   "cell_type": "code",
   "execution_count": 3,
   "metadata": {},
   "outputs": [
    {
     "name": "stderr",
     "output_type": "stream",
     "text": [
      "Warning message:\n",
      "\"package 'tibble' was built under R version 3.6.2\""
     ]
    },
    {
     "data": {
      "text/html": [
       "<table>\n",
       "<thead><tr><th scope=col>select</th><th scope=col>total</th></tr></thead>\n",
       "<tbody>\n",
       "\t<tr><td>-S-V   </td><td> 45    </td></tr>\n",
       "\t<tr><td>-S+V   </td><td>145    </td></tr>\n",
       "\t<tr><td>+S-V   </td><td>134    </td></tr>\n",
       "\t<tr><td>+S+V   </td><td>147    </td></tr>\n",
       "\t<tr><td>origial</td><td>105    </td></tr>\n",
       "</tbody>\n",
       "</table>\n"
      ],
      "text/latex": [
       "\\begin{tabular}{r|ll}\n",
       " select & total\\\\\n",
       "\\hline\n",
       "\t -S-V    &  45    \\\\\n",
       "\t -S+V    & 145    \\\\\n",
       "\t +S-V    & 134    \\\\\n",
       "\t +S+V    & 147    \\\\\n",
       "\t origial & 105    \\\\\n",
       "\\end{tabular}\n"
      ],
      "text/markdown": [
       "\n",
       "| select | total |\n",
       "|---|---|\n",
       "| -S-V    |  45     |\n",
       "| -S+V    | 145     |\n",
       "| +S-V    | 134     |\n",
       "| +S+V    | 147     |\n",
       "| origial | 105     |\n",
       "\n"
      ],
      "text/plain": [
       "  select  total\n",
       "1 -S-V     45  \n",
       "2 -S+V    145  \n",
       "3 +S-V    134  \n",
       "4 +S+V    147  \n",
       "5 origial 105  "
      ]
     },
     "metadata": {},
     "output_type": "display_data"
    }
   ],
   "source": [
    "# 전체결과보기 위한 dataframe 새로 만들기\n",
    "t_sv <- with(hFixed_harmony, sum(cnt[select==\"-S-V\"]))\n",
    "t_sV <- with(hFixed_harmony, sum(cnt[select==\"-S+V\"]))\n",
    "t_Sv <- with(hFixed_harmony, sum(cnt[select==\"+S-V\"]))\n",
    "t_SV <- with(hFixed_harmony, sum(cnt[select==\"+S+V\"]))\n",
    "t_origin <- with(hFixed_harmony, sum(cnt[select==\"original\"]))\n",
    "\n",
    "# column 만들기\n",
    "total <-c(t_sv, t_sV, t_Sv, t_SV, t_origin)\n",
    "\n",
    "# dataframe 만들기\n",
    "df_hFixed_harmony <- data.frame(total)\n",
    "rownames(df_hFixed_harmony) <- c(\"-S-V\", \"-S+V\", \"+S-V\", \"+S+V\", \"origial\")\n",
    "library(tibble)\n",
    "df_hFixed_harmony2 <- rownames_to_column(df_hFixed_harmony, var=\"select\")\n",
    "df_hFixed_harmony2"
   ]
  },
  {
   "cell_type": "code",
   "execution_count": 4,
   "metadata": {},
   "outputs": [
    {
     "data": {
      "image/png": "[encoded data removed]",
      "text/plain": [
       "plot without title"
      ]
     },
     "metadata": {},
     "output_type": "display_data"
    }
   ],
   "source": [
    "# 전체 결과 그래프로 확인\n",
    "\n",
    "ggplot(df_hFixed_harmony2, aes(x=select, y=total)) + geom_bar(stat=\"identity\") + labs(title=\"Representative Color(fixed hue)\")"
   ]
  },
  {
   "cell_type": "markdown",
   "metadata": {},
   "source": [
    "#### 결과 분석\n",
    "\n",
    "    +S+V > -S+V > +S-V 순으로 가장 많이 뽑힘\n",
    "    hueFixed_harmony의 경우 +S+V의 값이 대표 색상값으로 성립이라 할 수 있다\n",
    "    하지만 -S+V와 2만큼 차이나므로 \n",
    "    harmony와 bright를 합쳐서 보면 -S+V 선택 받은 값이 가장 많을 것이기 때문에\n",
    "    -S+V를 대표 색상값으로 지정하자"
   ]
  },
  {
   "cell_type": "code",
   "execution_count": null,
   "metadata": {},
   "outputs": [],
   "source": []
  },
  {
   "cell_type": "markdown",
   "metadata": {},
   "source": [
    "# 전체"
   ]
  },
  {
   "cell_type": "markdown",
   "metadata": {},
   "source": [
    "### 성별에 따른 대표 색상(색상고정, harmony) 인식 차이 \n",
    "\n",
    "    귀무가설 : 성별에 따라 대표 색상(색상고정, harmony) 인식 차이가 없다\n",
    "    대립가설 : 성별에 따라 대표 색상(색상고정, harmony) 인식 차이가 있다\n",
    "    \n",
    "    - 대표 색상(색상고정, bright) : -S+V\n",
    "    - chisq.test 사용"
   ]
  },
  {
   "cell_type": "code",
   "execution_count": 5,
   "metadata": {},
   "outputs": [
    {
     "name": "stdout",
     "output_type": "stream",
     "text": [
      "'data.frame':\t576 obs. of  4 variables:\n",
      " $ X     : int  0 1 2 3 4 5 6 7 8 9 ...\n",
      " $ sex   : Factor w/ 2 levels \"Female\",\"Male\": 1 2 1 2 1 1 1 1 1 1 ...\n",
      " $ select: Factor w/ 5 levels \"-S-V\",\"-S+V\",..: 3 3 3 3 3 2 2 3 4 3 ...\n",
      " $ cnt   : int  1 1 1 1 1 1 1 1 1 1 ...\n"
     ]
    },
    {
     "data": {
      "text/html": [
       "<table>\n",
       "<thead><tr><th scope=col>X</th><th scope=col>sex</th><th scope=col>select</th><th scope=col>cnt</th></tr></thead>\n",
       "<tbody>\n",
       "\t<tr><td>0     </td><td>Female</td><td>+S-V  </td><td>1     </td></tr>\n",
       "\t<tr><td>1     </td><td>Male  </td><td>+S-V  </td><td>1     </td></tr>\n",
       "\t<tr><td>2     </td><td>Female</td><td>+S-V  </td><td>1     </td></tr>\n",
       "\t<tr><td>3     </td><td>Male  </td><td>+S-V  </td><td>1     </td></tr>\n",
       "\t<tr><td>4     </td><td>Female</td><td>+S-V  </td><td>1     </td></tr>\n",
       "\t<tr><td>5     </td><td>Female</td><td>-S+V  </td><td>1     </td></tr>\n",
       "</tbody>\n",
       "</table>\n"
      ],
      "text/latex": [
       "\\begin{tabular}{r|llll}\n",
       " X & sex & select & cnt\\\\\n",
       "\\hline\n",
       "\t 0      & Female & +S-V   & 1     \\\\\n",
       "\t 1      & Male   & +S-V   & 1     \\\\\n",
       "\t 2      & Female & +S-V   & 1     \\\\\n",
       "\t 3      & Male   & +S-V   & 1     \\\\\n",
       "\t 4      & Female & +S-V   & 1     \\\\\n",
       "\t 5      & Female & -S+V   & 1     \\\\\n",
       "\\end{tabular}\n"
      ],
      "text/markdown": [
       "\n",
       "| X | sex | select | cnt |\n",
       "|---|---|---|---|\n",
       "| 0      | Female | +S-V   | 1      |\n",
       "| 1      | Male   | +S-V   | 1      |\n",
       "| 2      | Female | +S-V   | 1      |\n",
       "| 3      | Male   | +S-V   | 1      |\n",
       "| 4      | Female | +S-V   | 1      |\n",
       "| 5      | Female | -S+V   | 1      |\n",
       "\n"
      ],
      "text/plain": [
       "  X sex    select cnt\n",
       "1 0 Female +S-V   1  \n",
       "2 1 Male   +S-V   1  \n",
       "3 2 Female +S-V   1  \n",
       "4 3 Male   +S-V   1  \n",
       "5 4 Female +S-V   1  \n",
       "6 5 Female -S+V   1  "
      ]
     },
     "metadata": {},
     "output_type": "display_data"
    }
   ],
   "source": [
    "# 데이터 불러오기\n",
    "\n",
    "S_hFH_cnt <- read.csv(\"C:/Users/cho ye seul/Documents/예슬/Acorn/FinalProject/Statistical Analysis/S_hFH_cnt.csv\")\n",
    "str(S_hFH_cnt)\n",
    "head(S_hFH_cnt)"
   ]
  },
  {
   "cell_type": "code",
   "execution_count": 7,
   "metadata": {},
   "outputs": [
    {
     "data": {
      "text/html": [
       "<table>\n",
       "<thead><tr><th></th><th scope=col>True</th><th scope=col>False</th><th scope=col>Sum</th></tr></thead>\n",
       "<tbody>\n",
       "\t<tr><th scope=row>Male</th><td> 51</td><td>159</td><td>210</td></tr>\n",
       "\t<tr><th scope=row>Female</th><td> 94</td><td>272</td><td>366</td></tr>\n",
       "\t<tr><th scope=row>Sum</th><td>145</td><td>431</td><td>576</td></tr>\n",
       "</tbody>\n",
       "</table>\n"
      ],
      "text/latex": [
       "\\begin{tabular}{r|lll}\n",
       "  & True & False & Sum\\\\\n",
       "\\hline\n",
       "\tMale &  51 & 159 & 210\\\\\n",
       "\tFemale &  94 & 272 & 366\\\\\n",
       "\tSum & 145 & 431 & 576\\\\\n",
       "\\end{tabular}\n"
      ],
      "text/markdown": [
       "\n",
       "| <!--/--> | True | False | Sum |\n",
       "|---|---|---|---|\n",
       "| Male |  51 | 159 | 210 |\n",
       "| Female |  94 | 272 | 366 |\n",
       "| Sum | 145 | 431 | 576 |\n",
       "\n"
      ],
      "text/plain": [
       "       True False Sum\n",
       "Male    51  159   210\n",
       "Female  94  272   366\n",
       "Sum    145  431   576"
      ]
     },
     "metadata": {},
     "output_type": "display_data"
    },
    {
     "data": {
      "text/plain": [
       "\n",
       "\tPearson's Chi-squared test with Yates' continuity correction\n",
       "\n",
       "data:  df_S_hFH_cnt\n",
       "X-squared = 0.074084, df = 1, p-value = 0.7855\n"
      ]
     },
     "metadata": {},
     "output_type": "display_data"
    }
   ],
   "source": [
    "## 데이터프레임 재생성\n",
    "\n",
    "# 남\n",
    "Male_T <- with(S_hFH_cnt, sum(cnt[sex==\"Male\" & select == \"-S+V\"]))\n",
    "Male_F <- with(S_hFH_cnt, sum(cnt[sex==\"Male\" & select != \"-S+V\"]))\n",
    "\n",
    "# 여\n",
    "Female_T <- with(S_hFH_cnt, sum(cnt[sex==\"Female\" & select == \"-S+V\"]))\n",
    "Female_F <- with(S_hFH_cnt, sum(cnt[sex==\"Female\" & select != \"-S+V\"]))\n",
    "\n",
    "# column 생성\n",
    "Male <- c(Male_T, Male_F)\n",
    "Female <- c(Female_T, Female_F)\n",
    "\n",
    "# dataframe 만들기\n",
    "df_S_hFH_cnt <- data.frame(Male, Female)\n",
    "df_S_hFH_cnt <- t(df_S_hFH_cnt)\n",
    "colnames(df_S_hFH_cnt) <- c(\"True\", \"False\")\n",
    "\n",
    "\n",
    "## 행, 열 각각의 합계 알아보기\n",
    "addmargins(df_S_hFH_cnt)\n",
    "\n",
    "\n",
    "## 카이제곱\n",
    "chisq.test(df_S_hFH_cnt)\n",
    "# p-value = 0.7855\n",
    "# 0.05보다 큰 값을 가지므로 귀무가설 성립\n",
    "# 성별에 따라 안면부위 인식 차이가 없음을 알 수 있다"
   ]
  },
  {
   "cell_type": "code",
   "execution_count": null,
   "metadata": {},
   "outputs": [],
   "source": []
  },
  {
   "cell_type": "markdown",
   "metadata": {},
   "source": [
    "### 연령에 따른 대표 색상(색상고정, harmony) 인식 차이 \n",
    "\n",
    "    귀무가설 : 연령에 따라 대표 색상(색상고정, harmony) 인식 차이가 없다\n",
    "    대립가설 : 연령에 따라 대표 색상(색상고정, harmony) 인식 차이가 있다\n",
    "    \n",
    "    - 대표 색상(색상고정, harmony) : -S+V\n",
    "    - chisq.test 사용"
   ]
  },
  {
   "cell_type": "code",
   "execution_count": 8,
   "metadata": {},
   "outputs": [
    {
     "name": "stdout",
     "output_type": "stream",
     "text": [
      "'data.frame':\t576 obs. of  4 variables:\n",
      " $ X     : int  0 1 2 3 4 5 6 7 8 9 ...\n",
      " $ age   : int  20 20 20 20 20 30 30 20 30 20 ...\n",
      " $ select: Factor w/ 5 levels \"-S-V\",\"-S+V\",..: 3 3 3 3 3 2 2 3 4 3 ...\n",
      " $ cnt   : int  1 1 1 1 1 1 1 1 1 1 ...\n"
     ]
    },
    {
     "data": {
      "text/html": [
       "<table>\n",
       "<thead><tr><th scope=col>X</th><th scope=col>age</th><th scope=col>select</th><th scope=col>cnt</th></tr></thead>\n",
       "<tbody>\n",
       "\t<tr><td>0   </td><td>20  </td><td>+S-V</td><td>1   </td></tr>\n",
       "\t<tr><td>1   </td><td>20  </td><td>+S-V</td><td>1   </td></tr>\n",
       "\t<tr><td>2   </td><td>20  </td><td>+S-V</td><td>1   </td></tr>\n",
       "\t<tr><td>3   </td><td>20  </td><td>+S-V</td><td>1   </td></tr>\n",
       "\t<tr><td>4   </td><td>20  </td><td>+S-V</td><td>1   </td></tr>\n",
       "\t<tr><td>5   </td><td>30  </td><td>-S+V</td><td>1   </td></tr>\n",
       "</tbody>\n",
       "</table>\n"
      ],
      "text/latex": [
       "\\begin{tabular}{r|llll}\n",
       " X & age & select & cnt\\\\\n",
       "\\hline\n",
       "\t 0    & 20   & +S-V & 1   \\\\\n",
       "\t 1    & 20   & +S-V & 1   \\\\\n",
       "\t 2    & 20   & +S-V & 1   \\\\\n",
       "\t 3    & 20   & +S-V & 1   \\\\\n",
       "\t 4    & 20   & +S-V & 1   \\\\\n",
       "\t 5    & 30   & -S+V & 1   \\\\\n",
       "\\end{tabular}\n"
      ],
      "text/markdown": [
       "\n",
       "| X | age | select | cnt |\n",
       "|---|---|---|---|\n",
       "| 0    | 20   | +S-V | 1    |\n",
       "| 1    | 20   | +S-V | 1    |\n",
       "| 2    | 20   | +S-V | 1    |\n",
       "| 3    | 20   | +S-V | 1    |\n",
       "| 4    | 20   | +S-V | 1    |\n",
       "| 5    | 30   | -S+V | 1    |\n",
       "\n"
      ],
      "text/plain": [
       "  X age select cnt\n",
       "1 0 20  +S-V   1  \n",
       "2 1 20  +S-V   1  \n",
       "3 2 20  +S-V   1  \n",
       "4 3 20  +S-V   1  \n",
       "5 4 20  +S-V   1  \n",
       "6 5 30  -S+V   1  "
      ]
     },
     "metadata": {},
     "output_type": "display_data"
    }
   ],
   "source": [
    "# 데이터 불러오기\n",
    "\n",
    "A_hFH_cnt <- read.csv(\"C:/Users/cho ye seul/Documents/예슬/Acorn/FinalProject/Statistical Analysis/A_hFH_cnt.csv\")\n",
    "str(A_hFH_cnt)\n",
    "head(A_hFH_cnt)"
   ]
  },
  {
   "cell_type": "code",
   "execution_count": 10,
   "metadata": {},
   "outputs": [
    {
     "data": {
      "text/html": [
       "<table>\n",
       "<thead><tr><th></th><th scope=col>True</th><th scope=col>False</th><th scope=col>Sum</th></tr></thead>\n",
       "<tbody>\n",
       "\t<tr><th scope=row>teens</th><td> 18</td><td> 24</td><td> 42</td></tr>\n",
       "\t<tr><th scope=row>twenty</th><td> 80</td><td>256</td><td>336</td></tr>\n",
       "\t<tr><th scope=row>thirty</th><td> 34</td><td> 92</td><td>126</td></tr>\n",
       "\t<tr><th scope=row>forty</th><td>  4</td><td> 14</td><td> 18</td></tr>\n",
       "\t<tr><th scope=row>fifty</th><td>  9</td><td> 45</td><td> 54</td></tr>\n",
       "\t<tr><th scope=row>Sum</th><td>145</td><td>431</td><td>576</td></tr>\n",
       "</tbody>\n",
       "</table>\n"
      ],
      "text/latex": [
       "\\begin{tabular}{r|lll}\n",
       "  & True & False & Sum\\\\\n",
       "\\hline\n",
       "\tteens &  18 &  24 &  42\\\\\n",
       "\ttwenty &  80 & 256 & 336\\\\\n",
       "\tthirty &  34 &  92 & 126\\\\\n",
       "\tforty &   4 &  14 &  18\\\\\n",
       "\tfifty &   9 &  45 &  54\\\\\n",
       "\tSum & 145 & 431 & 576\\\\\n",
       "\\end{tabular}\n"
      ],
      "text/markdown": [
       "\n",
       "| <!--/--> | True | False | Sum |\n",
       "|---|---|---|---|\n",
       "| teens |  18 |  24 |  42 |\n",
       "| twenty |  80 | 256 | 336 |\n",
       "| thirty |  34 |  92 | 126 |\n",
       "| forty |   4 |  14 |  18 |\n",
       "| fifty |   9 |  45 |  54 |\n",
       "| Sum | 145 | 431 | 576 |\n",
       "\n"
      ],
      "text/plain": [
       "       True False Sum\n",
       "teens   18   24    42\n",
       "twenty  80  256   336\n",
       "thirty  34   92   126\n",
       "forty    4   14    18\n",
       "fifty    9   45    54\n",
       "Sum    145  431   576"
      ]
     },
     "metadata": {},
     "output_type": "display_data"
    },
    {
     "name": "stderr",
     "output_type": "stream",
     "text": [
      "Warning message in chisq.test(df_Age_Region):\n",
      "\"Chi-squared approximation may be incorrect\""
     ]
    },
    {
     "data": {
      "text/plain": [
       "\n",
       "\tPearson's Chi-squared test\n",
       "\n",
       "data:  df_Age_Region\n",
       "X-squared = 9.6815, df = 4, p-value = 0.04615\n"
      ]
     },
     "metadata": {},
     "output_type": "display_data"
    },
    {
     "data": {
      "text/plain": [
       "\n",
       "\tFisher's Exact Test for Count Data\n",
       "\n",
       "data:  df_Age_Region\n",
       "p-value = 0.05686\n",
       "alternative hypothesis: two.sided\n"
      ]
     },
     "metadata": {},
     "output_type": "display_data"
    }
   ],
   "source": [
    "## 데이터프레임 재생성\n",
    "\n",
    "teens_T <- with(A_hFH_cnt, sum(cnt[age == \"10\" & select == \"-S+V\"]))\n",
    "teens_F <- with(A_hFH_cnt, sum(cnt[age == \"10\" & select != \"-S+V\"]))\n",
    "\n",
    "twenty_T <- with(A_hFH_cnt, sum(cnt[age == \"20\" & select == \"-S+V\"]))\n",
    "twenty_F <- with(A_hFH_cnt, sum(cnt[age == \"20\" & select != \"-S+V\"]))\n",
    "\n",
    "thirty_T <- with(A_hFH_cnt, sum(cnt[age == \"30\" & select == \"-S+V\"]))\n",
    "thirty_F <- with(A_hFH_cnt, sum(cnt[age == \"30\" & select != \"-S+V\"]))\n",
    "\n",
    "forty_T <- with(A_hFH_cnt, sum(cnt[age == \"40\" & select == \"-S+V\"]))\n",
    "forty_F <- with(A_hFH_cnt, sum(cnt[age == \"40\" & select != \"-S+V\"]))\n",
    "\n",
    "fifty_T <- with(A_hFH_cnt, sum(cnt[age == \"50\" & select == \"-S+V\"]))\n",
    "fifty_F <- with(A_hFH_cnt, sum(cnt[age == \"50\" & select != \"-S+V\"]))\n",
    "\n",
    "teens <- c(teens_T, teens_F)\n",
    "twenty <- c(twenty_T, twenty_F)\n",
    "thirty <- c(thirty_T, thirty_F)\n",
    "forty <- c(forty_T, forty_F)\n",
    "fifty <- c(fifty_T, fifty_F)\n",
    "             \n",
    "df_Age_Region <- data.frame(teens, twenty, thirty, forty, fifty)\n",
    "df_Age_Region <- t(df_Age_Region)\n",
    "colnames(df_Age_Region) <- c(\"True\", \"False\")\n",
    "# df_Age_Region\n",
    "\n",
    "\n",
    "## 행, 열 각각의 합계 알아보기\n",
    "\n",
    "addmargins(df_Age_Region)\n",
    "# 합계값이 동일하지 않으므로 chisq.test 사용\n",
    "\n",
    "\n",
    "## 카이제곱\n",
    "\n",
    "chisq.test(df_Age_Region)\n",
    "# p-value = 0.04615\n",
    "# 0.05보다 큰 값을 가지므로 귀무가설 성립\n",
    "# 연령에 따라 색상(hueBright) 인식 차이가 없음을 알 수 있다\n",
    "# but 기대도수가 낮은 셀이 전체의 25% 이상 존재하므로 \n",
    "# Fisher's exact test 사용해야한다!!\n",
    "\n",
    "\n",
    "## Fisher's exact test\n",
    "\n",
    "fisher.test(df_Age_Region)\n",
    "# p-value = 0.05686\n",
    "# 0.05보다 큰 값을 가지므로 귀무가설 성립\n",
    "# 연령에 따라 색상(hueBright) 인식 차이가 없음을 알 수 있다"
   ]
  },
  {
   "cell_type": "code",
   "execution_count": null,
   "metadata": {},
   "outputs": [],
   "source": []
  },
  {
   "cell_type": "markdown",
   "metadata": {},
   "source": [
    "### 패션 관심도에 따른 대표 색상(색상고정, harmony) 인식 차이 \n",
    "\n",
    "    귀무가설 : 패션 관심도에 따라 대표 색상(색상고정, harmony) 인식 차이가 없다\n",
    "    대립가설 : 패션 관심도에 따라 대표 색상(색상고정, harmony) 인식 차이가 있다\n",
    "    \n",
    "    - 대표 색상(색상고정, harmony) : -S+V\n",
    "    - chisq.test 사용"
   ]
  },
  {
   "cell_type": "code",
   "execution_count": 12,
   "metadata": {},
   "outputs": [
    {
     "name": "stdout",
     "output_type": "stream",
     "text": [
      "'data.frame':\t576 obs. of  4 variables:\n",
      " $ X       : int  0 1 2 3 4 5 6 7 8 9 ...\n",
      " $ interest: int  3 5 5 3 3 4 3 3 5 1 ...\n",
      " $ select  : Factor w/ 5 levels \"-S-V\",\"-S+V\",..: 3 3 3 3 3 2 2 3 4 3 ...\n",
      " $ cnt     : int  1 1 1 1 1 1 1 1 1 1 ...\n"
     ]
    },
    {
     "data": {
      "text/html": [
       "<table>\n",
       "<thead><tr><th scope=col>X</th><th scope=col>interest</th><th scope=col>select</th><th scope=col>cnt</th></tr></thead>\n",
       "<tbody>\n",
       "\t<tr><td>0   </td><td>3   </td><td>+S-V</td><td>1   </td></tr>\n",
       "\t<tr><td>1   </td><td>5   </td><td>+S-V</td><td>1   </td></tr>\n",
       "\t<tr><td>2   </td><td>5   </td><td>+S-V</td><td>1   </td></tr>\n",
       "\t<tr><td>3   </td><td>3   </td><td>+S-V</td><td>1   </td></tr>\n",
       "\t<tr><td>4   </td><td>3   </td><td>+S-V</td><td>1   </td></tr>\n",
       "\t<tr><td>5   </td><td>4   </td><td>-S+V</td><td>1   </td></tr>\n",
       "</tbody>\n",
       "</table>\n"
      ],
      "text/latex": [
       "\\begin{tabular}{r|llll}\n",
       " X & interest & select & cnt\\\\\n",
       "\\hline\n",
       "\t 0    & 3    & +S-V & 1   \\\\\n",
       "\t 1    & 5    & +S-V & 1   \\\\\n",
       "\t 2    & 5    & +S-V & 1   \\\\\n",
       "\t 3    & 3    & +S-V & 1   \\\\\n",
       "\t 4    & 3    & +S-V & 1   \\\\\n",
       "\t 5    & 4    & -S+V & 1   \\\\\n",
       "\\end{tabular}\n"
      ],
      "text/markdown": [
       "\n",
       "| X | interest | select | cnt |\n",
       "|---|---|---|---|\n",
       "| 0    | 3    | +S-V | 1    |\n",
       "| 1    | 5    | +S-V | 1    |\n",
       "| 2    | 5    | +S-V | 1    |\n",
       "| 3    | 3    | +S-V | 1    |\n",
       "| 4    | 3    | +S-V | 1    |\n",
       "| 5    | 4    | -S+V | 1    |\n",
       "\n"
      ],
      "text/plain": [
       "  X interest select cnt\n",
       "1 0 3        +S-V   1  \n",
       "2 1 5        +S-V   1  \n",
       "3 2 5        +S-V   1  \n",
       "4 3 3        +S-V   1  \n",
       "5 4 3        +S-V   1  \n",
       "6 5 4        -S+V   1  "
      ]
     },
     "metadata": {},
     "output_type": "display_data"
    }
   ],
   "source": [
    "# 데이터 불러오기\n",
    "\n",
    "I_hFH_cnt <- read.csv(\"C:/Users/cho ye seul/Documents/예슬/Acorn/FinalProject/Statistical Analysis/I_hFH_cnt.csv\")\n",
    "str(I_hFH_cnt)\n",
    "head(I_hFH_cnt)"
   ]
  },
  {
   "cell_type": "code",
   "execution_count": 14,
   "metadata": {},
   "outputs": [
    {
     "data": {
      "text/html": [
       "<table>\n",
       "<thead><tr><th scope=col>True</th><th scope=col>False</th></tr></thead>\n",
       "<tbody>\n",
       "\t<tr><td>13 </td><td> 41</td></tr>\n",
       "\t<tr><td>18 </td><td> 48</td></tr>\n",
       "\t<tr><td>47 </td><td>163</td></tr>\n",
       "\t<tr><td>48 </td><td>102</td></tr>\n",
       "\t<tr><td>19 </td><td> 77</td></tr>\n",
       "</tbody>\n",
       "</table>\n"
      ],
      "text/latex": [
       "\\begin{tabular}{r|ll}\n",
       " True & False\\\\\n",
       "\\hline\n",
       "\t 13  &  41\\\\\n",
       "\t 18  &  48\\\\\n",
       "\t 47  & 163\\\\\n",
       "\t 48  & 102\\\\\n",
       "\t 19  &  77\\\\\n",
       "\\end{tabular}\n"
      ],
      "text/markdown": [
       "\n",
       "| True | False |\n",
       "|---|---|\n",
       "| 13  |  41 |\n",
       "| 18  |  48 |\n",
       "| 47  | 163 |\n",
       "| 48  | 102 |\n",
       "| 19  |  77 |\n",
       "\n"
      ],
      "text/plain": [
       "  True False\n",
       "1 13    41  \n",
       "2 18    48  \n",
       "3 47   163  \n",
       "4 48   102  \n",
       "5 19    77  "
      ]
     },
     "metadata": {},
     "output_type": "display_data"
    },
    {
     "data": {
      "text/plain": [
       "\n",
       "\tPearson's Chi-squared test\n",
       "\n",
       "data:  interest_TF\n",
       "X-squared = 6.2456, df = 4, p-value = 0.1815\n"
      ]
     },
     "metadata": {},
     "output_type": "display_data"
    }
   ],
   "source": [
    "## 데이터프레임 재생성\n",
    "\n",
    "I_True <- c()\n",
    "I_False <- c()\n",
    "\n",
    "for(i in seq(1,5, by=1)){\n",
    "    True <- with(I_hFH_cnt, sum(cnt[interest==i & select ==\"-S+V\"]))\n",
    "    I_True[[(i)]] <- True\n",
    "    \n",
    "    False <- with(I_hFH_cnt, sum(cnt[interest==i & select != \"-S+V\"]))\n",
    "\n",
    "    I_False[[i]] <- False\n",
    "   \n",
    "    \n",
    "    interest_TF <- data.frame(True=I_True, False=I_False)\n",
    "}\n",
    "\n",
    "interest_TF\n",
    "\n",
    "# 카이제곱\n",
    "\n",
    "chisq.test(interest_TF)\n",
    "# p-value = 0.1815\n",
    "# 0.05보다 큰 값을 가지므로 귀무가설 성립"
   ]
  },
  {
   "cell_type": "code",
   "execution_count": null,
   "metadata": {},
   "outputs": [],
   "source": []
  },
  {
   "cell_type": "markdown",
   "metadata": {},
   "source": [
    "### Defintion, Need 에 따른 대표 색상(색상고정, harmony) 인식 차이 \n",
    "\n",
    "    귀무가설 : definition + need 에 따라 대표 색상(색상고정, harmony) 인식 차이가 없다\n",
    "    대립가설 : definition + need 에 따라 대표 색상(색상고정, harmony) 인식 차이가 있다\n",
    "    \n",
    "    definition + need 묶은 방법\n",
    "    : bright + bright\n",
    "    : bright + harmony\n",
    "    : harmony + bright\n",
    "    : harmony + harmony\n",
    "    \n",
    "    - 대표 색상(색상고정, harmony) : -S+V\n",
    "    - chisq.test 사용"
   ]
  },
  {
   "cell_type": "code",
   "execution_count": 2,
   "metadata": {},
   "outputs": [
    {
     "name": "stdout",
     "output_type": "stream",
     "text": [
      "'data.frame':\t576 obs. of  5 variables:\n",
      " $ X         : int  0 1 2 3 4 5 6 7 8 9 ...\n",
      " $ definition: Factor w/ 2 levels \"bright\",\"harmony\": 1 2 1 1 1 2 2 1 2 2 ...\n",
      " $ need      : Factor w/ 2 levels \"bright\",\"harmony\": 1 2 1 2 1 2 1 1 1 2 ...\n",
      " $ select    : Factor w/ 5 levels \"-S-V\",\"-S+V\",..: 3 3 3 3 3 2 2 3 4 3 ...\n",
      " $ cnt       : int  1 1 1 1 1 1 1 1 1 1 ...\n"
     ]
    },
    {
     "data": {
      "text/html": [
       "<table>\n",
       "<thead><tr><th scope=col>X</th><th scope=col>definition</th><th scope=col>need</th><th scope=col>select</th><th scope=col>cnt</th></tr></thead>\n",
       "<tbody>\n",
       "\t<tr><td>0      </td><td>bright </td><td>bright </td><td>+S-V   </td><td>1      </td></tr>\n",
       "\t<tr><td>1      </td><td>harmony</td><td>harmony</td><td>+S-V   </td><td>1      </td></tr>\n",
       "\t<tr><td>2      </td><td>bright </td><td>bright </td><td>+S-V   </td><td>1      </td></tr>\n",
       "\t<tr><td>3      </td><td>bright </td><td>harmony</td><td>+S-V   </td><td>1      </td></tr>\n",
       "\t<tr><td>4      </td><td>bright </td><td>bright </td><td>+S-V   </td><td>1      </td></tr>\n",
       "\t<tr><td>5      </td><td>harmony</td><td>harmony</td><td>-S+V   </td><td>1      </td></tr>\n",
       "</tbody>\n",
       "</table>\n"
      ],
      "text/latex": [
       "\\begin{tabular}{r|lllll}\n",
       " X & definition & need & select & cnt\\\\\n",
       "\\hline\n",
       "\t 0       & bright  & bright  & +S-V    & 1      \\\\\n",
       "\t 1       & harmony & harmony & +S-V    & 1      \\\\\n",
       "\t 2       & bright  & bright  & +S-V    & 1      \\\\\n",
       "\t 3       & bright  & harmony & +S-V    & 1      \\\\\n",
       "\t 4       & bright  & bright  & +S-V    & 1      \\\\\n",
       "\t 5       & harmony & harmony & -S+V    & 1      \\\\\n",
       "\\end{tabular}\n"
      ],
      "text/markdown": [
       "\n",
       "| X | definition | need | select | cnt |\n",
       "|---|---|---|---|---|\n",
       "| 0       | bright  | bright  | +S-V    | 1       |\n",
       "| 1       | harmony | harmony | +S-V    | 1       |\n",
       "| 2       | bright  | bright  | +S-V    | 1       |\n",
       "| 3       | bright  | harmony | +S-V    | 1       |\n",
       "| 4       | bright  | bright  | +S-V    | 1       |\n",
       "| 5       | harmony | harmony | -S+V    | 1       |\n",
       "\n"
      ],
      "text/plain": [
       "  X definition need    select cnt\n",
       "1 0 bright     bright  +S-V   1  \n",
       "2 1 harmony    harmony +S-V   1  \n",
       "3 2 bright     bright  +S-V   1  \n",
       "4 3 bright     harmony +S-V   1  \n",
       "5 4 bright     bright  +S-V   1  \n",
       "6 5 harmony    harmony -S+V   1  "
      ]
     },
     "metadata": {},
     "output_type": "display_data"
    }
   ],
   "source": [
    "# 데이터 불러오기\n",
    "\n",
    "DN_hFH_cnt <- read.csv(\"C:/Users/cho ye seul/Documents/예슬/Acorn/FinalProject/Statistical Analysis/DN_hFH_cnt.csv\")\n",
    "str(DN_hFH_cnt)\n",
    "head(DN_hFH_cnt)"
   ]
  },
  {
   "cell_type": "code",
   "execution_count": 18,
   "metadata": {},
   "outputs": [
    {
     "data": {
      "text/html": [
       "<table>\n",
       "<thead><tr><th></th><th scope=col>True</th><th scope=col>False</th><th scope=col>Sum</th></tr></thead>\n",
       "<tbody>\n",
       "\t<tr><th scope=row>BB</th><td> 29</td><td> 85</td><td>114</td></tr>\n",
       "\t<tr><th scope=row>BH</th><td>  0</td><td> 18</td><td> 18</td></tr>\n",
       "\t<tr><th scope=row>HB</th><td> 27</td><td> 75</td><td>102</td></tr>\n",
       "\t<tr><th scope=row>HH</th><td> 89</td><td>253</td><td>342</td></tr>\n",
       "\t<tr><th scope=row>Sum</th><td>145</td><td>431</td><td>576</td></tr>\n",
       "</tbody>\n",
       "</table>\n"
      ],
      "text/latex": [
       "\\begin{tabular}{r|lll}\n",
       "  & True & False & Sum\\\\\n",
       "\\hline\n",
       "\tBB &  29 &  85 & 114\\\\\n",
       "\tBH &   0 &  18 &  18\\\\\n",
       "\tHB &  27 &  75 & 102\\\\\n",
       "\tHH &  89 & 253 & 342\\\\\n",
       "\tSum & 145 & 431 & 576\\\\\n",
       "\\end{tabular}\n"
      ],
      "text/markdown": [
       "\n",
       "| <!--/--> | True | False | Sum |\n",
       "|---|---|---|---|\n",
       "| BB |  29 |  85 | 114 |\n",
       "| BH |   0 |  18 |  18 |\n",
       "| HB |  27 |  75 | 102 |\n",
       "| HH |  89 | 253 | 342 |\n",
       "| Sum | 145 | 431 | 576 |\n",
       "\n"
      ],
      "text/plain": [
       "    True False Sum\n",
       "BB   29   85   114\n",
       "BH    0   18    18\n",
       "HB   27   75   102\n",
       "HH   89  253   342\n",
       "Sum 145  431   576"
      ]
     },
     "metadata": {},
     "output_type": "display_data"
    },
    {
     "name": "stderr",
     "output_type": "stream",
     "text": [
      "Warning message in chisq.test(df_DN_hFH_cnt):\n",
      "\"Chi-squared approximation may be incorrect\""
     ]
    },
    {
     "data": {
      "text/plain": [
       "\n",
       "\tPearson's Chi-squared test\n",
       "\n",
       "data:  df_DN_hFH_cnt\n",
       "X-squared = 6.2821, df = 3, p-value = 0.09866\n"
      ]
     },
     "metadata": {},
     "output_type": "display_data"
    }
   ],
   "source": [
    "## 데이터프레임 재생성\n",
    "\n",
    "# bright + bright\n",
    "BB_T <- with(DN_hFH_cnt, sum(cnt[definition == \"bright\" & need == \"bright\" & select == \"-S+V\"]))\n",
    "BB_F <- with(DN_hFH_cnt, sum(cnt[definition == \"bright\" & need == \"bright\" & select != \"-S+V\"]))\n",
    "             \n",
    "# bright + harmony\n",
    "BH_T <- with(DN_hFH_cnt, sum(cnt[definition == \"bright\" & need == \"harmony\" & select == \"-S+V\"]))\n",
    "BH_F <- with(DN_hFH_cnt, sum(cnt[definition == \"bright\" & need == \"harmony\" & select != \"-S+V\"]))\n",
    "\n",
    "# harmony + bright\n",
    "HB_T <- with(DN_hFH_cnt, sum(cnt[definition == \"harmony\" & need == \"bright\" & select == \"-S+V\"]))\n",
    "HB_F <- with(DN_hFH_cnt, sum(cnt[definition == \"harmony\" & need == \"bright\" & select != \"-S+V\"]))\n",
    "\n",
    "# harmony + harmony\n",
    "HH_T <- with(DN_hFH_cnt, sum(cnt[definition == \"harmony\" & need == \"harmony\" & select == \"-S+V\"]))\n",
    "HH_F <- with(DN_hFH_cnt, sum(cnt[definition == \"harmony\" & need == \"harmony\" & select != \"-S+V\"]))\n",
    "\n",
    "BB <- c(BB_T, BB_F)\n",
    "BH <- c(BH_T, BH_F)\n",
    "HB <- c(HB_T, HB_F)\n",
    "HH <- c(HH_T, HH_F)\n",
    "\n",
    "df_DN_hFH_cnt <- data.frame(BB, BH, HB, HH)\n",
    "df_DN_hFH_cnt <- t(df_DN_hFH_cnt)\n",
    "colnames(df_DN_hFH_cnt) <- c(\"True\", \"False\")\n",
    "# df_DN_hFB_cnt\n",
    "\n",
    "## 행, 열 각각의 합계 알아보기\n",
    "addmargins(df_DN_hFH_cnt)\n",
    "# 합계값이 동일하지 않으므로 chisq.test 사용\n",
    "\n",
    "## 카이제곱\n",
    "chisq.test(df_DN_hFH_cnt)\n",
    "# p-value = 0.09866\n",
    "# 0.05보다 큰 값을 가지므로 귀무가설 성립\n",
    "# 색상(hueBright) 인식 차이가 없음을 알 수 있다"
   ]
  },
  {
   "cell_type": "markdown",
   "metadata": {},
   "source": [
    "#### Defintion, Need 에 따른 대표 색상(색상고정, harmony) 선택 분석 "
   ]
  },
  {
   "cell_type": "code",
   "execution_count": 19,
   "metadata": {},
   "outputs": [
    {
     "data": {
      "text/html": [
       "<table>\n",
       "<thead><tr><th></th><th scope=col>True</th><th scope=col>False</th></tr></thead>\n",
       "<tbody>\n",
       "\t<tr><th scope=row>BB</th><td>29 </td><td> 85</td></tr>\n",
       "\t<tr><th scope=row>BH</th><td> 0 </td><td> 18</td></tr>\n",
       "\t<tr><th scope=row>HB</th><td>27 </td><td> 75</td></tr>\n",
       "\t<tr><th scope=row>HH</th><td>89 </td><td>253</td></tr>\n",
       "</tbody>\n",
       "</table>\n"
      ],
      "text/latex": [
       "\\begin{tabular}{r|ll}\n",
       "  & True & False\\\\\n",
       "\\hline\n",
       "\tBB & 29  &  85\\\\\n",
       "\tBH &  0  &  18\\\\\n",
       "\tHB & 27  &  75\\\\\n",
       "\tHH & 89  & 253\\\\\n",
       "\\end{tabular}\n"
      ],
      "text/markdown": [
       "\n",
       "| <!--/--> | True | False |\n",
       "|---|---|---|\n",
       "| BB | 29  |  85 |\n",
       "| BH |  0  |  18 |\n",
       "| HB | 27  |  75 |\n",
       "| HH | 89  | 253 |\n",
       "\n"
      ],
      "text/plain": [
       "   True False\n",
       "BB 29    85  \n",
       "BH  0    18  \n",
       "HB 27    75  \n",
       "HH 89   253  "
      ]
     },
     "metadata": {},
     "output_type": "display_data"
    }
   ],
   "source": [
    "df_DN_hFH_cnt"
   ]
  },
  {
   "cell_type": "markdown",
   "metadata": {},
   "source": [
    "### 결과 해석\n",
    "\n",
    "    + BB, BH, HB, HH 에 따른 인식 차이 분석\n",
    "        \n",
    "    선택 개수 : BB 114  BH 18  HB 102  HH 342 \n",
    "    definition과 need를 동일하게 선택한 결과가 많음\n",
    "    \n",
    "    맞춘 확률 : BB 25.4%   BH 0.0%   HB 26.5%   HH 26.0%\n",
    "    음.. definition과 need를 동일하게 선택한 사람 위주로 봐야하나..\n",
    "    "
   ]
  },
  {
   "cell_type": "code",
   "execution_count": null,
   "metadata": {},
   "outputs": [],
   "source": []
  },
  {
   "cell_type": "markdown",
   "metadata": {},
   "source": [
    "### Sex, Age 에 따른 대표 색상(색상고정, harmony) 인식 차이 \n",
    "\n",
    "    귀무가설 : sex + age 에 따라 대표 색상(색상고정, harmony) 인식 차이가 없다\n",
    "    대립가설 : sex + age 에 따라 대표 색상(색상고정, harmony) 인식 차이가 있다\n",
    "    \n",
    "    - 대표 색상(색상고정, harmony) : -S+V\n",
    "    - chisq.test 사용"
   ]
  },
  {
   "cell_type": "code",
   "execution_count": 20,
   "metadata": {},
   "outputs": [
    {
     "name": "stdout",
     "output_type": "stream",
     "text": [
      "'data.frame':\t576 obs. of  5 variables:\n",
      " $ X        : int  0 1 2 3 4 5 6 7 8 9 ...\n",
      " $ sex      : Factor w/ 2 levels \"Female\",\"Male\": 1 2 1 2 1 1 1 1 1 1 ...\n",
      " $ age_class: int  20 20 20 20 20 30 30 20 30 20 ...\n",
      " $ select   : Factor w/ 5 levels \"-S-V\",\"-S+V\",..: 3 3 3 3 3 2 2 3 4 3 ...\n",
      " $ cnt      : int  1 1 1 1 1 1 1 1 1 1 ...\n"
     ]
    },
    {
     "data": {
      "text/html": [
       "<table>\n",
       "<thead><tr><th scope=col>X</th><th scope=col>sex</th><th scope=col>age_class</th><th scope=col>select</th><th scope=col>cnt</th></tr></thead>\n",
       "<tbody>\n",
       "\t<tr><td>0     </td><td>Female</td><td>20    </td><td>+S-V  </td><td>1     </td></tr>\n",
       "\t<tr><td>1     </td><td>Male  </td><td>20    </td><td>+S-V  </td><td>1     </td></tr>\n",
       "\t<tr><td>2     </td><td>Female</td><td>20    </td><td>+S-V  </td><td>1     </td></tr>\n",
       "\t<tr><td>3     </td><td>Male  </td><td>20    </td><td>+S-V  </td><td>1     </td></tr>\n",
       "\t<tr><td>4     </td><td>Female</td><td>20    </td><td>+S-V  </td><td>1     </td></tr>\n",
       "\t<tr><td>5     </td><td>Female</td><td>30    </td><td>-S+V  </td><td>1     </td></tr>\n",
       "</tbody>\n",
       "</table>\n"
      ],
      "text/latex": [
       "\\begin{tabular}{r|lllll}\n",
       " X & sex & age\\_class & select & cnt\\\\\n",
       "\\hline\n",
       "\t 0      & Female & 20     & +S-V   & 1     \\\\\n",
       "\t 1      & Male   & 20     & +S-V   & 1     \\\\\n",
       "\t 2      & Female & 20     & +S-V   & 1     \\\\\n",
       "\t 3      & Male   & 20     & +S-V   & 1     \\\\\n",
       "\t 4      & Female & 20     & +S-V   & 1     \\\\\n",
       "\t 5      & Female & 30     & -S+V   & 1     \\\\\n",
       "\\end{tabular}\n"
      ],
      "text/markdown": [
       "\n",
       "| X | sex | age_class | select | cnt |\n",
       "|---|---|---|---|---|\n",
       "| 0      | Female | 20     | +S-V   | 1      |\n",
       "| 1      | Male   | 20     | +S-V   | 1      |\n",
       "| 2      | Female | 20     | +S-V   | 1      |\n",
       "| 3      | Male   | 20     | +S-V   | 1      |\n",
       "| 4      | Female | 20     | +S-V   | 1      |\n",
       "| 5      | Female | 30     | -S+V   | 1      |\n",
       "\n"
      ],
      "text/plain": [
       "  X sex    age_class select cnt\n",
       "1 0 Female 20        +S-V   1  \n",
       "2 1 Male   20        +S-V   1  \n",
       "3 2 Female 20        +S-V   1  \n",
       "4 3 Male   20        +S-V   1  \n",
       "5 4 Female 20        +S-V   1  \n",
       "6 5 Female 30        -S+V   1  "
      ]
     },
     "metadata": {},
     "output_type": "display_data"
    }
   ],
   "source": [
    "# 데이터 불러오기\n",
    "\n",
    "SA_hFH_cnt <- read.csv(\"C:/Users/cho ye seul/Documents/예슬/Acorn/FinalProject/Statistical Analysis/SA_hFH_cnt.csv\")\n",
    "str(SA_hFH_cnt)\n",
    "head(SA_hFH_cnt)"
   ]
  },
  {
   "cell_type": "code",
   "execution_count": 26,
   "metadata": {},
   "outputs": [
    {
     "data": {
      "text/html": [
       "<table>\n",
       "<thead><tr><th></th><th scope=col>True</th><th scope=col>False</th><th scope=col>Sum</th></tr></thead>\n",
       "<tbody>\n",
       "\t<tr><th scope=row>F10</th><td> 17</td><td> 19</td><td> 36</td></tr>\n",
       "\t<tr><th scope=row>F20</th><td> 42</td><td>150</td><td>192</td></tr>\n",
       "\t<tr><th scope=row>F30</th><td> 25</td><td> 71</td><td> 96</td></tr>\n",
       "\t<tr><th scope=row>F40</th><td>  2</td><td>  4</td><td>  6</td></tr>\n",
       "\t<tr><th scope=row>F50</th><td>  8</td><td> 28</td><td> 36</td></tr>\n",
       "\t<tr><th scope=row>M10</th><td>  1</td><td>  5</td><td>  6</td></tr>\n",
       "\t<tr><th scope=row>M20</th><td> 38</td><td>106</td><td>144</td></tr>\n",
       "\t<tr><th scope=row>M30</th><td>  9</td><td> 21</td><td> 30</td></tr>\n",
       "\t<tr><th scope=row>M40</th><td>  2</td><td> 10</td><td> 12</td></tr>\n",
       "\t<tr><th scope=row>M50</th><td>  1</td><td> 17</td><td> 18</td></tr>\n",
       "\t<tr><th scope=row>Sum</th><td>145</td><td>431</td><td>576</td></tr>\n",
       "</tbody>\n",
       "</table>\n"
      ],
      "text/latex": [
       "\\begin{tabular}{r|lll}\n",
       "  & True & False & Sum\\\\\n",
       "\\hline\n",
       "\tF10 &  17 &  19 &  36\\\\\n",
       "\tF20 &  42 & 150 & 192\\\\\n",
       "\tF30 &  25 &  71 &  96\\\\\n",
       "\tF40 &   2 &   4 &   6\\\\\n",
       "\tF50 &   8 &  28 &  36\\\\\n",
       "\tM10 &   1 &   5 &   6\\\\\n",
       "\tM20 &  38 & 106 & 144\\\\\n",
       "\tM30 &   9 &  21 &  30\\\\\n",
       "\tM40 &   2 &  10 &  12\\\\\n",
       "\tM50 &   1 &  17 &  18\\\\\n",
       "\tSum & 145 & 431 & 576\\\\\n",
       "\\end{tabular}\n"
      ],
      "text/markdown": [
       "\n",
       "| <!--/--> | True | False | Sum |\n",
       "|---|---|---|---|\n",
       "| F10 |  17 |  19 |  36 |\n",
       "| F20 |  42 | 150 | 192 |\n",
       "| F30 |  25 |  71 |  96 |\n",
       "| F40 |   2 |   4 |   6 |\n",
       "| F50 |   8 |  28 |  36 |\n",
       "| M10 |   1 |   5 |   6 |\n",
       "| M20 |  38 | 106 | 144 |\n",
       "| M30 |   9 |  21 |  30 |\n",
       "| M40 |   2 |  10 |  12 |\n",
       "| M50 |   1 |  17 |  18 |\n",
       "| Sum | 145 | 431 | 576 |\n",
       "\n"
      ],
      "text/plain": [
       "    True False Sum\n",
       "F10  17   19    36\n",
       "F20  42  150   192\n",
       "F30  25   71    96\n",
       "F40   2    4     6\n",
       "F50   8   28    36\n",
       "M10   1    5     6\n",
       "M20  38  106   144\n",
       "M30   9   21    30\n",
       "M40   2   10    12\n",
       "M50   1   17    18\n",
       "Sum 145  431   576"
      ]
     },
     "metadata": {},
     "output_type": "display_data"
    },
    {
     "name": "stderr",
     "output_type": "stream",
     "text": [
      "Warning message in chisq.test(df_SA_hFH_cnt):\n",
      "\"Chi-squared approximation may be incorrect\""
     ]
    },
    {
     "data": {
      "text/plain": [
       "\n",
       "\tPearson's Chi-squared test\n",
       "\n",
       "data:  df_SA_hFH_cnt\n",
       "X-squared = 15.67, df = 9, p-value = 0.07409\n"
      ]
     },
     "metadata": {},
     "output_type": "display_data"
    },
    {
     "data": {
      "text/plain": [
       "\n",
       "\tFisher's Exact Test for Count Data with simulated p-value (based on\n",
       "\t2000 replicates)\n",
       "\n",
       "data:  df_SA_hFH_cnt\n",
       "p-value = 0.06947\n",
       "alternative hypothesis: two.sided\n"
      ]
     },
     "metadata": {},
     "output_type": "display_data"
    }
   ],
   "source": [
    "## 데이터프레임 재생성\n",
    "\n",
    "# Female + 10 \n",
    "F10_T <- with(SA_hFH_cnt, sum(cnt[sex == \"Female\" & age_class == \"10\" & select == \"-S+V\"]))\n",
    "F10_F <- with(SA_hFH_cnt, sum(cnt[sex == \"Female\" & age_class == \"10\" & select != \"-S+V\"]))\n",
    "\n",
    "# Female + 20 \n",
    "F20_T <- with(SA_hFH_cnt, sum(cnt[sex == \"Female\" & age_class == \"20\" & select == \"-S+V\"]))\n",
    "F20_F <- with(SA_hFH_cnt, sum(cnt[sex == \"Female\" & age_class == \"20\" & select != \"-S+V\"]))\n",
    "\n",
    "# Female + 30 \n",
    "F30_T <- with(SA_hFH_cnt, sum(cnt[sex == \"Female\" & age_class == \"30\" & select == \"-S+V\"]))\n",
    "F30_F <- with(SA_hFH_cnt, sum(cnt[sex == \"Female\" & age_class == \"30\" & select != \"-S+V\"]))\n",
    "\n",
    "# Female + 40 \n",
    "F40_T <- with(SA_hFH_cnt, sum(cnt[sex == \"Female\" & age_class == \"40\" & select == \"-S+V\"]))\n",
    "F40_F <- with(SA_hFH_cnt, sum(cnt[sex == \"Female\" & age_class == \"40\" & select != \"-S+V\"]))\n",
    "\n",
    "# Female + 50 \n",
    "F50_T <- with(SA_hFH_cnt, sum(cnt[sex == \"Female\" & age_class == \"50\" & select == \"-S+V\"]))\n",
    "F50_F <- with(SA_hFH_cnt, sum(cnt[sex == \"Female\" & age_class == \"50\" & select != \"-S+V\"]))\n",
    "\n",
    "# Male + 10 \n",
    "M10_T <- with(SA_hFH_cnt, sum(cnt[sex == \"Male\" & age_class == \"10\" & select == \"-S+V\"]))\n",
    "M10_F <- with(SA_hFH_cnt, sum(cnt[sex == \"Male\" & age_class == \"10\" & select != \"-S+V\"]))\n",
    "\n",
    "# Male + 20 \n",
    "M20_T <- with(SA_hFH_cnt, sum(cnt[sex == \"Male\" & age_class == \"20\" & select == \"-S+V\"]))\n",
    "M20_F <- with(SA_hFH_cnt, sum(cnt[sex == \"Male\" & age_class == \"20\" & select != \"-S+V\"]))\n",
    "\n",
    "# Male + 30 \n",
    "M30_T <- with(SA_hFH_cnt, sum(cnt[sex == \"Male\" & age_class == \"30\" & select == \"-S+V\"]))\n",
    "M30_F <- with(SA_hFH_cnt, sum(cnt[sex == \"Male\" & age_class == \"30\" & select != \"-S+V\"]))\n",
    "\n",
    "# Male + 40 \n",
    "M40_T <- with(SA_hFH_cnt, sum(cnt[sex == \"Male\" & age_class == \"40\" & select == \"-S+V\"]))\n",
    "M40_F <- with(SA_hFH_cnt, sum(cnt[sex == \"Male\" & age_class == \"40\" & select != \"-S+V\"]))\n",
    "\n",
    "# Male + 50 \n",
    "M50_T <- with(SA_hFH_cnt, sum(cnt[sex == \"Male\" & age_class == \"50\" & select == \"-S+V\"]))\n",
    "M50_F <- with(SA_hFH_cnt, sum(cnt[sex == \"Male\" & age_class == \"50\" & select != \"-S+V\"]))\n",
    "\n",
    "\n",
    "F10 <- c(F10_T, F10_F)\n",
    "F20 <- c(F20_T, F20_F)\n",
    "F30 <- c(F30_T, F30_F)\n",
    "F40 <- c(F40_T, F40_F)\n",
    "F50 <- c(F50_T, F50_F)\n",
    "\n",
    "M10 <- c(M10_T, M10_F)\n",
    "M20 <- c(M20_T, M20_F)\n",
    "M30 <- c(M30_T, M30_F)\n",
    "M40 <- c(M40_T, M40_F)\n",
    "M50 <- c(M50_T, M50_F)\n",
    "\n",
    "df_SA_hFH_cnt <- data.frame(F10, F20, F30, F40, F50, M10, M20, M30, M40, M50)\n",
    "df_SA_hFH_cnt <- t(df_SA_hFH_cnt)\n",
    "colnames(df_SA_hFH_cnt) <- c(\"True\", \"False\")\n",
    "\n",
    "## 행, 열 각각의 합계 알아보기\n",
    "addmargins(df_SA_hFH_cnt)\n",
    "# 합계값이 동일하지 않으므로 chisq.test 사용\n",
    "\n",
    "## 카이제곱\n",
    "chisq.test(df_SA_hFH_cnt)\n",
    "# p-value = 0.07409\n",
    "# but 기대도수가 낮은 셀이 전체의 25% 이상 존재하므로 \n",
    "# Fisher's exact test 사용해야한다!!\n",
    "\n",
    "## Fisher's exact test\n",
    "fisher.test(df_SA_hFH_cnt, simulate.p.value=TRUE)\n",
    "# p-value = 0.07646\n",
    "# 0.05보다 큰 값을 가지므로 귀무가설 성립"
   ]
  },
  {
   "cell_type": "markdown",
   "metadata": {},
   "source": [
    "#### Sex, Age 에 따른 대표 색상(색상고정, harmony) 선택 분석 "
   ]
  },
  {
   "cell_type": "code",
   "execution_count": 27,
   "metadata": {},
   "outputs": [
    {
     "data": {
      "text/html": [
       "<table>\n",
       "<thead><tr><th></th><th scope=col>True</th><th scope=col>False</th></tr></thead>\n",
       "<tbody>\n",
       "\t<tr><th scope=row>F10</th><td>17 </td><td> 19</td></tr>\n",
       "\t<tr><th scope=row>F20</th><td>42 </td><td>150</td></tr>\n",
       "\t<tr><th scope=row>F30</th><td>25 </td><td> 71</td></tr>\n",
       "\t<tr><th scope=row>F40</th><td> 2 </td><td>  4</td></tr>\n",
       "\t<tr><th scope=row>F50</th><td> 8 </td><td> 28</td></tr>\n",
       "\t<tr><th scope=row>M10</th><td> 1 </td><td>  5</td></tr>\n",
       "\t<tr><th scope=row>M20</th><td>38 </td><td>106</td></tr>\n",
       "\t<tr><th scope=row>M30</th><td> 9 </td><td> 21</td></tr>\n",
       "\t<tr><th scope=row>M40</th><td> 2 </td><td> 10</td></tr>\n",
       "\t<tr><th scope=row>M50</th><td> 1 </td><td> 17</td></tr>\n",
       "</tbody>\n",
       "</table>\n"
      ],
      "text/latex": [
       "\\begin{tabular}{r|ll}\n",
       "  & True & False\\\\\n",
       "\\hline\n",
       "\tF10 & 17  &  19\\\\\n",
       "\tF20 & 42  & 150\\\\\n",
       "\tF30 & 25  &  71\\\\\n",
       "\tF40 &  2  &   4\\\\\n",
       "\tF50 &  8  &  28\\\\\n",
       "\tM10 &  1  &   5\\\\\n",
       "\tM20 & 38  & 106\\\\\n",
       "\tM30 &  9  &  21\\\\\n",
       "\tM40 &  2  &  10\\\\\n",
       "\tM50 &  1  &  17\\\\\n",
       "\\end{tabular}\n"
      ],
      "text/markdown": [
       "\n",
       "| <!--/--> | True | False |\n",
       "|---|---|---|\n",
       "| F10 | 17  |  19 |\n",
       "| F20 | 42  | 150 |\n",
       "| F30 | 25  |  71 |\n",
       "| F40 |  2  |   4 |\n",
       "| F50 |  8  |  28 |\n",
       "| M10 |  1  |   5 |\n",
       "| M20 | 38  | 106 |\n",
       "| M30 |  9  |  21 |\n",
       "| M40 |  2  |  10 |\n",
       "| M50 |  1  |  17 |\n",
       "\n"
      ],
      "text/plain": [
       "    True False\n",
       "F10 17    19  \n",
       "F20 42   150  \n",
       "F30 25    71  \n",
       "F40  2     4  \n",
       "F50  8    28  \n",
       "M10  1     5  \n",
       "M20 38   106  \n",
       "M30  9    21  \n",
       "M40  2    10  \n",
       "M50  1    17  "
      ]
     },
     "metadata": {},
     "output_type": "display_data"
    }
   ],
   "source": [
    "df_SA_hFH_cnt"
   ]
  },
  {
   "cell_type": "markdown",
   "metadata": {},
   "source": [
    "### 결과 해석\n",
    "\n",
    "    + Sex, Age 에 따른 인식 차이 분석\n",
    "    \n",
    "    정답 비율\n",
    "     F10 47.2%  F20 21.9%  F30 26.0%  F40 33.3%  F50 22.2% \n",
    "     M10 16.7%  M20 26.4%  M30 30.0%  M40 16.7%  M50  5.6%\n",
    "     \n",
    "     정답 확률 : 10대여자 > 40대여자 > 30대남자"
   ]
  }
 ],
 "metadata": {
  "kernelspec": {
   "display_name": "R",
   "language": "R",
   "name": "ir"
  },
  "language_info": {
   "codemirror_mode": "r",
   "file_extension": ".r",
   "mimetype": "text/x-r-source",
   "name": "R",
   "pygments_lexer": "r",
   "version": "3.6.1"
  }
 },
 "nbformat": 4,
 "nbformat_minor": 2
}
