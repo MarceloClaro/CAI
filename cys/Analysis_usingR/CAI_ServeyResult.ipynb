{
 "cells": [
  {
   "cell_type": "markdown",
   "metadata": {},
   "source": [
    "## 20대 여자 기준으로 설문조사 결과 알아보기\n",
    "\n",
    "    최초 작성일 : 20/04/07\n",
    "    작성자 : 조예슬\n",
    "    \n",
    "    데이터랩을 통하여서 연령 + 성별로 퍼스널컬러에 관심이 가장 많은 집단은 '20대 여자'라는 결과 나타남\n",
    "    설문조사 진행한 내용도 '20대 여자'를 기준으로 하여\n",
    "    웹사이트 알고리즘의 결과값으로 나타내기\n",
    "    \n",
    "    < 작성내용 >\n",
    "        - 20대 여자가 선정한 안면부위\n",
    "        \n",
    "    < 수정내용 >\n",
    "        \n",
    "        20/04/08\n",
    "        - 20대 여자가 선정한 hueFixed_bright\n",
    "        - 20대 여자가 선정한 hueFixed_harmony\n",
    "        - 20대 여자가 선정한 hueChanged_bright\n",
    "        - 20대 여자가 선정한 hueChanged_harmony\n",
    "        \n",
    "        20/04/16\n",
    "        - 20대 여자가 선정한 personalcolor definition\n",
    "        - 20대 여자가 선정한 personalcolor need\n",
    "        - 20대 여자가 선정한 personalcolor definition & need"
   ]
  },
  {
   "cell_type": "markdown",
   "metadata": {},
   "source": [
    "### 20대 여자 대표 안면부위"
   ]
  },
  {
   "cell_type": "code",
   "execution_count": 19,
   "metadata": {
    "scrolled": true
   },
   "outputs": [
    {
     "data": {
      "text/html": [
       "<table>\n",
       "<thead><tr><th scope=col>region</th><th scope=col>cnt</th></tr></thead>\n",
       "<tbody>\n",
       "\t<tr><td>cheek   </td><td>190     </td></tr>\n",
       "\t<tr><td>forehead</td><td>249     </td></tr>\n",
       "\t<tr><td>chin    </td><td>260     </td></tr>\n",
       "\t<tr><td>eyes    </td><td> 74     </td></tr>\n",
       "\t<tr><td>face    </td><td> 91     </td></tr>\n",
       "</tbody>\n",
       "</table>\n"
      ],
      "text/latex": [
       "\\begin{tabular}{r|ll}\n",
       " region & cnt\\\\\n",
       "\\hline\n",
       "\t cheek    & 190     \\\\\n",
       "\t forehead & 249     \\\\\n",
       "\t chin     & 260     \\\\\n",
       "\t eyes     &  74     \\\\\n",
       "\t face     &  91     \\\\\n",
       "\\end{tabular}\n"
      ],
      "text/markdown": [
       "\n",
       "| region | cnt |\n",
       "|---|---|\n",
       "| cheek    | 190      |\n",
       "| forehead | 249      |\n",
       "| chin     | 260      |\n",
       "| eyes     |  74      |\n",
       "| face     |  91      |\n",
       "\n"
      ],
      "text/plain": [
       "  region   cnt\n",
       "1 cheek    190\n",
       "2 forehead 249\n",
       "3 chin     260\n",
       "4 eyes      74\n",
       "5 face      91"
      ]
     },
     "metadata": {},
     "output_type": "display_data"
    },
    {
     "name": "stdout",
     "output_type": "stream",
     "text": [
      "'data.frame':\t5 obs. of  2 variables:\n",
      " $ region: Factor w/ 5 levels \"cheek\",\"chin\",..: 1 5 2 3 4\n",
      " $ cnt   : int  190 249 260 74 91\n"
     ]
    }
   ],
   "source": [
    "## 데이터 불러오기\n",
    "result_face <- read.csv(\"C:/Users/cho ye seul/Documents/예슬/Acorn/FinalProject/Statistical Analysis/result_face.csv\")\n",
    "# str(result_face)\n",
    "# head(result_face)\n",
    "\n",
    "\n",
    "## 선택 결과 알아보기\n",
    "# 볼\n",
    "cheek_sum <- with(result_face, sum(cheek[sex==\"Female\" & age_class==\"20\"]))\n",
    "# 이마\n",
    "forehead_sum <- with(result_face, sum(forehead[sex==\"Female\" & age_class==\"20\"]))\n",
    "# 턱\n",
    "chin_sum <- with(result_face, sum(chin[sex==\"Female\" & age_class==\"20\"]))\n",
    "# 눈\n",
    "eyes_sum <- with(result_face, sum(eyes[sex==\"Female\" & age_class==\"20\"]))\n",
    "# 얼굴 전체\n",
    "face_sum <- with(result_face, sum(face[sex==\"Female\" & age_class==\"20\"]))\n",
    "\n",
    "## 데이터 프레임 생성\n",
    "cnt <- c(cheek_sum, forehead_sum, chin_sum, eyes_sum, face_sum)\n",
    "region <- c(\"cheek\", \"forehead\", \"chin\", \"eyes\", \"face\")\n",
    "Total_region <- data.frame(region, cnt)\n",
    "\n",
    "Total_region\n",
    "str(Total_region)"
   ]
  },
  {
   "cell_type": "code",
   "execution_count": 21,
   "metadata": {},
   "outputs": [
    {
     "data": {
      "image/png": "[encoded data removed]",
      "text/plain": [
       "plot without title"
      ]
     },
     "metadata": {},
     "output_type": "display_data"
    }
   ],
   "source": [
    "## 시각화\n",
    "library(ggplot2)\n",
    "ggplot(Total_region, aes(x=region, y=cnt)) + geom_col()"
   ]
  },
  {
   "cell_type": "code",
   "execution_count": null,
   "metadata": {},
   "outputs": [],
   "source": []
  },
  {
   "cell_type": "markdown",
   "metadata": {},
   "source": [
    "### 20대 여자 대표 hueFixed_bright"
   ]
  },
  {
   "cell_type": "code",
   "execution_count": 1,
   "metadata": {
    "scrolled": true
   },
   "outputs": [
    {
     "name": "stdout",
     "output_type": "stream",
     "text": [
      "'data.frame':\t114 obs. of  8 variables:\n",
      " $ X        : int  0 1 2 3 4 5 6 7 8 9 ...\n",
      " $ sex      : Factor w/ 2 levels \"Female\",\"Male\": 2 1 1 1 1 1 1 2 1 1 ...\n",
      " $ age_class: int  20 20 20 20 20 20 20 20 20 20 ...\n",
      " $ X.S.V    : int  0 0 0 0 0 3 0 1 4 0 ...\n",
      " $ X.S.V.1  : int  3 2 1 3 4 1 0 2 1 3 ...\n",
      " $ original : int  0 1 1 0 0 1 3 0 1 0 ...\n",
      " $ X.S.V.2  : int  3 2 3 3 2 0 1 3 0 3 ...\n",
      " $ X.S.V.3  : int  0 1 1 0 0 1 2 0 0 0 ...\n"
     ]
    },
    {
     "data": {
      "text/html": [
       "<table>\n",
       "<thead><tr><th scope=col>X</th><th scope=col>sex</th><th scope=col>age_class</th><th scope=col>X.S.V</th><th scope=col>X.S.V.1</th><th scope=col>original</th><th scope=col>X.S.V.2</th><th scope=col>X.S.V.3</th></tr></thead>\n",
       "<tbody>\n",
       "\t<tr><td>0     </td><td>Male  </td><td>20    </td><td>0     </td><td>3     </td><td>0     </td><td>3     </td><td>0     </td></tr>\n",
       "\t<tr><td>1     </td><td>Female</td><td>20    </td><td>0     </td><td>2     </td><td>1     </td><td>2     </td><td>1     </td></tr>\n",
       "\t<tr><td>2     </td><td>Female</td><td>20    </td><td>0     </td><td>1     </td><td>1     </td><td>3     </td><td>1     </td></tr>\n",
       "\t<tr><td>3     </td><td>Female</td><td>20    </td><td>0     </td><td>3     </td><td>0     </td><td>3     </td><td>0     </td></tr>\n",
       "\t<tr><td>4     </td><td>Female</td><td>20    </td><td>0     </td><td>4     </td><td>0     </td><td>2     </td><td>0     </td></tr>\n",
       "\t<tr><td>5     </td><td>Female</td><td>20    </td><td>3     </td><td>1     </td><td>1     </td><td>0     </td><td>1     </td></tr>\n",
       "</tbody>\n",
       "</table>\n"
      ],
      "text/latex": [
       "\\begin{tabular}{r|llllllll}\n",
       " X & sex & age\\_class & X.S.V & X.S.V.1 & original & X.S.V.2 & X.S.V.3\\\\\n",
       "\\hline\n",
       "\t 0      & Male   & 20     & 0      & 3      & 0      & 3      & 0     \\\\\n",
       "\t 1      & Female & 20     & 0      & 2      & 1      & 2      & 1     \\\\\n",
       "\t 2      & Female & 20     & 0      & 1      & 1      & 3      & 1     \\\\\n",
       "\t 3      & Female & 20     & 0      & 3      & 0      & 3      & 0     \\\\\n",
       "\t 4      & Female & 20     & 0      & 4      & 0      & 2      & 0     \\\\\n",
       "\t 5      & Female & 20     & 3      & 1      & 1      & 0      & 1     \\\\\n",
       "\\end{tabular}\n"
      ],
      "text/markdown": [
       "\n",
       "| X | sex | age_class | X.S.V | X.S.V.1 | original | X.S.V.2 | X.S.V.3 |\n",
       "|---|---|---|---|---|---|---|---|\n",
       "| 0      | Male   | 20     | 0      | 3      | 0      | 3      | 0      |\n",
       "| 1      | Female | 20     | 0      | 2      | 1      | 2      | 1      |\n",
       "| 2      | Female | 20     | 0      | 1      | 1      | 3      | 1      |\n",
       "| 3      | Female | 20     | 0      | 3      | 0      | 3      | 0      |\n",
       "| 4      | Female | 20     | 0      | 4      | 0      | 2      | 0      |\n",
       "| 5      | Female | 20     | 3      | 1      | 1      | 0      | 1      |\n",
       "\n"
      ],
      "text/plain": [
       "  X sex    age_class X.S.V X.S.V.1 original X.S.V.2 X.S.V.3\n",
       "1 0 Male   20        0     3       0        3       0      \n",
       "2 1 Female 20        0     2       1        2       1      \n",
       "3 2 Female 20        0     1       1        3       1      \n",
       "4 3 Female 20        0     3       0        3       0      \n",
       "5 4 Female 20        0     4       0        2       0      \n",
       "6 5 Female 20        3     1       1        0       1      "
      ]
     },
     "metadata": {},
     "output_type": "display_data"
    },
    {
     "data": {
      "text/html": [
       "<table>\n",
       "<thead><tr><th scope=col>HueFixed</th><th scope=col>cnt</th></tr></thead>\n",
       "<tbody>\n",
       "\t<tr><td>-S-V    </td><td> 91     </td></tr>\n",
       "\t<tr><td>-S+V    </td><td>153     </td></tr>\n",
       "\t<tr><td>original</td><td> 49     </td></tr>\n",
       "\t<tr><td>+S+V    </td><td>100     </td></tr>\n",
       "\t<tr><td>+S-V    </td><td> 63     </td></tr>\n",
       "</tbody>\n",
       "</table>\n"
      ],
      "text/latex": [
       "\\begin{tabular}{r|ll}\n",
       " HueFixed & cnt\\\\\n",
       "\\hline\n",
       "\t -S-V     &  91     \\\\\n",
       "\t -S+V     & 153     \\\\\n",
       "\t original &  49     \\\\\n",
       "\t +S+V     & 100     \\\\\n",
       "\t +S-V     &  63     \\\\\n",
       "\\end{tabular}\n"
      ],
      "text/markdown": [
       "\n",
       "| HueFixed | cnt |\n",
       "|---|---|\n",
       "| -S-V     |  91      |\n",
       "| -S+V     | 153      |\n",
       "| original |  49      |\n",
       "| +S+V     | 100      |\n",
       "| +S-V     |  63      |\n",
       "\n"
      ],
      "text/plain": [
       "  HueFixed cnt\n",
       "1 -S-V      91\n",
       "2 -S+V     153\n",
       "3 original  49\n",
       "4 +S+V     100\n",
       "5 +S-V      63"
      ]
     },
     "metadata": {},
     "output_type": "display_data"
    },
    {
     "name": "stdout",
     "output_type": "stream",
     "text": [
      "'data.frame':\t5 obs. of  2 variables:\n",
      " $ HueFixed: Factor w/ 5 levels \"-S-V\",\"-S+V\",..: 1 2 5 4 3\n",
      " $ cnt     : int  91 153 49 100 63\n"
     ]
    }
   ],
   "source": [
    "## 데이터 불러오기\n",
    "hueFixed <- read.csv(\"C:/Users/cho ye seul/Documents/예슬/Acorn/FinalProject/Statistical Analysis/hueFixed_bright.csv\")\n",
    "str(hueFixed)\n",
    "head(hueFixed)\n",
    "\n",
    "## 선택 결과 알아보기\n",
    "# -S-V\n",
    "sv_sum <- with(hueFixed, sum(X.S.V[sex==\"Female\" & age_class==\"20\"]))\n",
    "# -S+V\n",
    "sV_sum <- with(hueFixed, sum(X.S.V.1[sex==\"Female\" & age_class==\"20\"]))\n",
    "# original\n",
    "original_sum <- with(hueFixed, sum(original[sex==\"Female\" & age_class==\"20\"]))\n",
    "# +S+V\n",
    "SV_sum <- with(hueFixed, sum(X.S.V.2[sex==\"Female\" & age_class==\"20\"]))\n",
    "# +S-V\n",
    "Sv_sum <- with(hueFixed, sum(X.S.V.3[sex==\"Female\" & age_class==\"20\"]))\n",
    "\n",
    "## 데이터 프레임 생성\n",
    "cnt <- c(sv_sum, sV_sum, original_sum, SV_sum, Sv_sum)\n",
    "HueFixed <- c(\"-S-V\", \"-S+V\", \"original\", \"+S+V\", \"+S-V\")\n",
    "hueFixed_bright <- data.frame(HueFixed, cnt)\n",
    "\n",
    "hueFixed_bright\n",
    "str(hueFixed_bright)"
   ]
  },
  {
   "cell_type": "code",
   "execution_count": 113,
   "metadata": {},
   "outputs": [
    {
     "data": {
      "image/png": "[encoded data removed]",
      "text/plain": [
       "plot without title"
      ]
     },
     "metadata": {},
     "output_type": "display_data"
    }
   ],
   "source": [
    "## 시각화\n",
    "library(ggplot2)\n",
    "ggplot(hueFixed_bright, aes(x=HueFixed, y=cnt)) + geom_col()"
   ]
  },
  {
   "cell_type": "code",
   "execution_count": null,
   "metadata": {},
   "outputs": [],
   "source": []
  },
  {
   "cell_type": "markdown",
   "metadata": {},
   "source": [
    "### 20대 여자 대표 hueFixed_harmony"
   ]
  },
  {
   "cell_type": "code",
   "execution_count": 125,
   "metadata": {},
   "outputs": [
    {
     "data": {
      "text/html": [
       "<table>\n",
       "<thead><tr><th scope=col>HueFixed</th><th scope=col>cnt</th></tr></thead>\n",
       "<tbody>\n",
       "\t<tr><td>-S-V    </td><td>18      </td></tr>\n",
       "\t<tr><td>-S+V    </td><td>42      </td></tr>\n",
       "\t<tr><td>original</td><td>29      </td></tr>\n",
       "\t<tr><td>+S+V    </td><td>48      </td></tr>\n",
       "\t<tr><td>+S-V    </td><td>55      </td></tr>\n",
       "</tbody>\n",
       "</table>\n"
      ],
      "text/latex": [
       "\\begin{tabular}{r|ll}\n",
       " HueFixed & cnt\\\\\n",
       "\\hline\n",
       "\t -S-V     & 18      \\\\\n",
       "\t -S+V     & 42      \\\\\n",
       "\t original & 29      \\\\\n",
       "\t +S+V     & 48      \\\\\n",
       "\t +S-V     & 55      \\\\\n",
       "\\end{tabular}\n"
      ],
      "text/markdown": [
       "\n",
       "| HueFixed | cnt |\n",
       "|---|---|\n",
       "| -S-V     | 18       |\n",
       "| -S+V     | 42       |\n",
       "| original | 29       |\n",
       "| +S+V     | 48       |\n",
       "| +S-V     | 55       |\n",
       "\n"
      ],
      "text/plain": [
       "  HueFixed cnt\n",
       "1 -S-V     18 \n",
       "2 -S+V     42 \n",
       "3 original 29 \n",
       "4 +S+V     48 \n",
       "5 +S-V     55 "
      ]
     },
     "metadata": {},
     "output_type": "display_data"
    },
    {
     "name": "stdout",
     "output_type": "stream",
     "text": [
      "'data.frame':\t5 obs. of  2 variables:\n",
      " $ HueFixed: Factor w/ 5 levels \"-S-V\",\"-S+V\",..: 1 2 5 4 3\n",
      " $ cnt     : int  18 42 29 48 55\n"
     ]
    }
   ],
   "source": [
    "## 데이터 불러오기\n",
    "hueFixed <- read.csv(\"C:/Users/cho ye seul/Documents/예슬/Acorn/FinalProject/Statistical Analysis/hueFixed_harmony.csv\")\n",
    "# str(hueFixed)\n",
    "# head(hueFixed)\n",
    "\n",
    "## 선택 결과 알아보기\n",
    "# -S-V\n",
    "sv_sum <- with(hueFixed, sum(X.S.V[sex==\"Female\" & age_class==\"20\"]))\n",
    "# -S+V\n",
    "sV_sum <- with(hueFixed, sum(X.S.V.1[sex==\"Female\" & age_class==\"20\"]))\n",
    "# original\n",
    "original_sum <- with(hueFixed, sum(original[sex==\"Female\" & age_class==\"20\"]))\n",
    "# +S+V\n",
    "SV_sum <- with(hueFixed, sum(X.S.V.2[sex==\"Female\" & age_class==\"20\"]))\n",
    "# +S-V\n",
    "Sv_sum <- with(hueFixed, sum(X.S.V.3[sex==\"Female\" & age_class==\"20\"]))\n",
    "\n",
    "## 데이터 프레임 생성\n",
    "cnt <- c(sv_sum, sV_sum, original_sum, SV_sum, Sv_sum)\n",
    "HueFixed <- c(\"-S-V\", \"-S+V\", \"original\", \"+S+V\", \"+S-V\")\n",
    "hueFixed_harmony <- data.frame(HueFixed, cnt)\n",
    "\n",
    "hueFixed_harmony\n",
    "str(hueFixed_harmony)"
   ]
  },
  {
   "cell_type": "code",
   "execution_count": 126,
   "metadata": {},
   "outputs": [
    {
     "data": {
      "image/png": "[encoded data removed]",
      "text/plain": [
       "plot without title"
      ]
     },
     "metadata": {},
     "output_type": "display_data"
    }
   ],
   "source": [
    "## 시각화\n",
    "library(ggplot2)\n",
    "ggplot(hueFixed_harmony, aes(x=HueFixed, y=cnt)) + geom_col()"
   ]
  },
  {
   "cell_type": "code",
   "execution_count": null,
   "metadata": {},
   "outputs": [],
   "source": []
  },
  {
   "cell_type": "markdown",
   "metadata": {},
   "source": [
    "### 20대 여자 대표 hueChanged_bright"
   ]
  },
  {
   "cell_type": "code",
   "execution_count": 130,
   "metadata": {},
   "outputs": [
    {
     "data": {
      "text/html": [
       "<table>\n",
       "<thead><tr><th scope=col>HueChanged</th><th scope=col>cnt</th></tr></thead>\n",
       "<tbody>\n",
       "\t<tr><td>72      </td><td>128     </td></tr>\n",
       "\t<tr><td>144     </td><td> 94     </td></tr>\n",
       "\t<tr><td>original</td><td> 71     </td></tr>\n",
       "\t<tr><td>216     </td><td> 86     </td></tr>\n",
       "\t<tr><td>288     </td><td> 77     </td></tr>\n",
       "</tbody>\n",
       "</table>\n"
      ],
      "text/latex": [
       "\\begin{tabular}{r|ll}\n",
       " HueChanged & cnt\\\\\n",
       "\\hline\n",
       "\t 72       & 128     \\\\\n",
       "\t 144      &  94     \\\\\n",
       "\t original &  71     \\\\\n",
       "\t 216      &  86     \\\\\n",
       "\t 288      &  77     \\\\\n",
       "\\end{tabular}\n"
      ],
      "text/markdown": [
       "\n",
       "| HueChanged | cnt |\n",
       "|---|---|\n",
       "| 72       | 128      |\n",
       "| 144      |  94      |\n",
       "| original |  71      |\n",
       "| 216      |  86      |\n",
       "| 288      |  77      |\n",
       "\n"
      ],
      "text/plain": [
       "  HueChanged cnt\n",
       "1 72         128\n",
       "2 144         94\n",
       "3 original    71\n",
       "4 216         86\n",
       "5 288         77"
      ]
     },
     "metadata": {},
     "output_type": "display_data"
    },
    {
     "name": "stdout",
     "output_type": "stream",
     "text": [
      "'data.frame':\t5 obs. of  2 variables:\n",
      " $ HueChanged: Factor w/ 5 levels \"144\",\"216\",\"288\",..: 4 1 5 2 3\n",
      " $ cnt       : int  128 94 71 86 77\n"
     ]
    }
   ],
   "source": [
    "## 데이터 불러오기\n",
    "hueChanged <- read.csv(\"C:/Users/cho ye seul/Documents/예슬/Acorn/FinalProject/Statistical Analysis/hueChanged_bright.csv\")\n",
    "# str(hueChanged)\n",
    "# head(hueChanged)\n",
    "\n",
    "## 선택 결과 알아보기\n",
    "# 72\n",
    "st_sum <- with(hueChanged, sum(X72[sex==\"Female\" & age_class==\"20\"]))\n",
    "# 144\n",
    "off_sum <- with(hueChanged, sum(X144[sex==\"Female\" & age_class==\"20\"]))\n",
    "# original\n",
    "original_sum <- with(hueChanged, sum(original[sex==\"Female\" & age_class==\"20\"]))\n",
    "# 216\n",
    "tos_sum <- with(hueChanged, sum(X216[sex==\"Female\" & age_class==\"20\"]))\n",
    "# 288\n",
    "tee_sum <- with(hueChanged, sum(X288[sex==\"Female\" & age_class==\"20\"]))\n",
    "\n",
    "## 데이터 프레임 생성\n",
    "cnt <- c(st_sum, off_sum, original_sum, tos_sum, tee_sum)\n",
    "HueChanged <- c(\"72\", \"144\", \"original\", \"216\", \"288\")\n",
    "hueChanged_bright <- data.frame(HueChanged, cnt)\n",
    "\n",
    "hueChanged_bright\n",
    "str(hueChanged_bright)"
   ]
  },
  {
   "cell_type": "code",
   "execution_count": 131,
   "metadata": {},
   "outputs": [
    {
     "data": {
      "image/png": "[encoded data removed]",
      "text/plain": [
       "plot without title"
      ]
     },
     "metadata": {},
     "output_type": "display_data"
    }
   ],
   "source": [
    "## 시각화\n",
    "library(ggplot2)\n",
    "ggplot(hueChanged_bright, aes(x=HueChanged, y=cnt)) + geom_col()"
   ]
  },
  {
   "cell_type": "code",
   "execution_count": null,
   "metadata": {},
   "outputs": [],
   "source": []
  },
  {
   "cell_type": "markdown",
   "metadata": {},
   "source": [
    "### 20대 여자 대표 hueChanged_harmony"
   ]
  },
  {
   "cell_type": "code",
   "execution_count": 132,
   "metadata": {},
   "outputs": [
    {
     "data": {
      "text/html": [
       "<table>\n",
       "<thead><tr><th scope=col>HueChanged</th><th scope=col>cnt</th></tr></thead>\n",
       "<tbody>\n",
       "\t<tr><td>72      </td><td>22      </td></tr>\n",
       "\t<tr><td>144     </td><td>49      </td></tr>\n",
       "\t<tr><td>original</td><td>37      </td></tr>\n",
       "\t<tr><td>216     </td><td>50      </td></tr>\n",
       "\t<tr><td>288     </td><td>34      </td></tr>\n",
       "</tbody>\n",
       "</table>\n"
      ],
      "text/latex": [
       "\\begin{tabular}{r|ll}\n",
       " HueChanged & cnt\\\\\n",
       "\\hline\n",
       "\t 72       & 22      \\\\\n",
       "\t 144      & 49      \\\\\n",
       "\t original & 37      \\\\\n",
       "\t 216      & 50      \\\\\n",
       "\t 288      & 34      \\\\\n",
       "\\end{tabular}\n"
      ],
      "text/markdown": [
       "\n",
       "| HueChanged | cnt |\n",
       "|---|---|\n",
       "| 72       | 22       |\n",
       "| 144      | 49       |\n",
       "| original | 37       |\n",
       "| 216      | 50       |\n",
       "| 288      | 34       |\n",
       "\n"
      ],
      "text/plain": [
       "  HueChanged cnt\n",
       "1 72         22 \n",
       "2 144        49 \n",
       "3 original   37 \n",
       "4 216        50 \n",
       "5 288        34 "
      ]
     },
     "metadata": {},
     "output_type": "display_data"
    },
    {
     "name": "stdout",
     "output_type": "stream",
     "text": [
      "'data.frame':\t5 obs. of  2 variables:\n",
      " $ HueChanged: Factor w/ 5 levels \"144\",\"216\",\"288\",..: 4 1 5 2 3\n",
      " $ cnt       : int  22 49 37 50 34\n"
     ]
    }
   ],
   "source": [
    "## 데이터 불러오기\n",
    "hueChanged <- read.csv(\"C:/Users/cho ye seul/Documents/예슬/Acorn/FinalProject/Statistical Analysis/hueChanged_harmony.csv\")\n",
    "# str(hueChanged)\n",
    "# head(hueChanged)\n",
    "\n",
    "## 선택 결과 알아보기\n",
    "# 72\n",
    "st_sum <- with(hueChanged, sum(X72[sex==\"Female\" & age_class==\"20\"]))\n",
    "# 144\n",
    "off_sum <- with(hueChanged, sum(X144[sex==\"Female\" & age_class==\"20\"]))\n",
    "# original\n",
    "original_sum <- with(hueChanged, sum(original[sex==\"Female\" & age_class==\"20\"]))\n",
    "# 216\n",
    "tos_sum <- with(hueChanged, sum(X216[sex==\"Female\" & age_class==\"20\"]))\n",
    "# 288\n",
    "tee_sum <- with(hueChanged, sum(X288[sex==\"Female\" & age_class==\"20\"]))\n",
    "\n",
    "## 데이터 프레임 생성\n",
    "cnt <- c(st_sum, off_sum, original_sum, tos_sum, tee_sum)\n",
    "HueChanged <- c(\"72\", \"144\", \"original\", \"216\", \"288\")\n",
    "hueChanged_harmony <- data.frame(HueChanged, cnt)\n",
    "\n",
    "hueChanged_harmony\n",
    "str(hueChanged_harmony)"
   ]
  },
  {
   "cell_type": "code",
   "execution_count": 133,
   "metadata": {},
   "outputs": [
    {
     "data": {
      "image/png": "[encoded data removed]",
      "text/plain": [
       "plot without title"
      ]
     },
     "metadata": {},
     "output_type": "display_data"
    }
   ],
   "source": [
    "## 시각화\n",
    "library(ggplot2)\n",
    "ggplot(hueChanged_harmony, aes(x=HueChanged, y=cnt)) + geom_col()"
   ]
  },
  {
   "cell_type": "code",
   "execution_count": null,
   "metadata": {},
   "outputs": [],
   "source": []
  },
  {
   "cell_type": "markdown",
   "metadata": {},
   "source": [
    "### 20대 여자가 선정한 personalcolor definition"
   ]
  },
  {
   "cell_type": "code",
   "execution_count": 15,
   "metadata": {},
   "outputs": [
    {
     "data": {
      "text/html": [
       "<table>\n",
       "<thead><tr><th scope=col>name</th><th scope=col>cnt</th></tr></thead>\n",
       "<tbody>\n",
       "\t<tr><td>def_harmony </td><td>78          </td></tr>\n",
       "\t<tr><td>def_bright  </td><td>30          </td></tr>\n",
       "\t<tr><td>need_harmony</td><td>64          </td></tr>\n",
       "\t<tr><td>need_bright </td><td>44          </td></tr>\n",
       "</tbody>\n",
       "</table>\n"
      ],
      "text/latex": [
       "\\begin{tabular}{r|ll}\n",
       " name & cnt\\\\\n",
       "\\hline\n",
       "\t def\\_harmony  & 78            \\\\\n",
       "\t def\\_bright   & 30            \\\\\n",
       "\t need\\_harmony & 64            \\\\\n",
       "\t need\\_bright  & 44            \\\\\n",
       "\\end{tabular}\n"
      ],
      "text/markdown": [
       "\n",
       "| name | cnt |\n",
       "|---|---|\n",
       "| def_harmony  | 78           |\n",
       "| def_bright   | 30           |\n",
       "| need_harmony | 64           |\n",
       "| need_bright  | 44           |\n",
       "\n"
      ],
      "text/plain": [
       "  name         cnt\n",
       "1 def_harmony  78 \n",
       "2 def_bright   30 \n",
       "3 need_harmony 64 \n",
       "4 need_bright  44 "
      ]
     },
     "metadata": {},
     "output_type": "display_data"
    },
    {
     "name": "stdout",
     "output_type": "stream",
     "text": [
      "'data.frame':\t4 obs. of  2 variables:\n",
      " $ name: Factor w/ 4 levels \"def_bright\",\"def_harmony\",..: 2 1 4 3\n",
      " $ cnt : int  78 30 64 44\n"
     ]
    }
   ],
   "source": [
    "# 데이터 불러오기\n",
    "def_need <- read.csv(\"C:/Users/cho ye seul/Documents/예슬/Acorn/FinalProject/Statistical Analysis/definition_need.csv\")\n",
    "# str(def_need)\n",
    "# head(def_need)\n",
    "\n",
    "# 선택결과 알아보기\n",
    "d_harmony <- with(def_need, sum(def_harmony[sex==\"Female\" & age==\"20\"]))\n",
    "d_bright <- with(def_need, sum(def_bright[sex==\"Female\" & age==\"20\"]))\n",
    "n_harmony <- with(def_need, sum(need_harmony[sex==\"Female\" & age==\"20\"]))\n",
    "n_bright <- with(def_need, sum(need_bright[sex==\"Female\" & age==\"20\"]))\n",
    "\n",
    "# 데이터 프레임 생성\n",
    "cnt <- c(d_harmony, d_bright, n_harmony, n_bright)\n",
    "name <- c(\"def_harmony\", \"def_bright\", \"need_harmony\", \"need_bright\")\n",
    "definition_need <- data.frame(name, cnt)\n",
    "\n",
    "definition_need\n",
    "str(definition_need)"
   ]
  },
  {
   "cell_type": "code",
   "execution_count": 17,
   "metadata": {},
   "outputs": [
    {
     "data": {
      "image/png": "[encoded data removed]",
      "text/plain": [
       "plot without title"
      ]
     },
     "metadata": {},
     "output_type": "display_data"
    }
   ],
   "source": [
    "## 시각화\n",
    "library(ggplot2)\n",
    "ggplot(definition_need, aes(x=name, y=cnt)) + geom_col() + ylim(0, 100)"
   ]
  },
  {
   "cell_type": "markdown",
   "metadata": {},
   "source": []
  },
  {
   "cell_type": "markdown",
   "metadata": {},
   "source": [
    "### 전체 결과\n",
    "\n",
    "    대표 그룹 : 20대 여자\n",
    "    \n",
    "    안면부위 : 턱\n",
    "    \n",
    "    bright\n",
    "        색고정 : -S+V <- 반영\n",
    "        색변경 : 72\n",
    "        \n",
    "        bright는 밝아보이는 것을 물어본 것이므로 명도, 채도 조절한 것을 반영\n",
    "        \n",
    "        \n",
    "    harmony\n",
    "        색고정 : +S-V\n",
    "        색변경 : 216 <- 반영\n",
    "        \n",
    "        harmony는 조화로워 보이는 것을 물어본 것이므로 색상 조절한 것을 반영\n",
    "        \n",
    "    definition & need\n",
    "        definition과 need 둘다 bright 보다 harmony의 값이 더 큼"
   ]
  },
  {
   "cell_type": "code",
   "execution_count": null,
   "metadata": {},
   "outputs": [],
   "source": []
  }
 ],
 "metadata": {
  "kernelspec": {
   "display_name": "R",
   "language": "R",
   "name": "ir"
  },
  "language_info": {
   "codemirror_mode": "r",
   "file_extension": ".r",
   "mimetype": "text/x-r-source",
   "name": "R",
   "pygments_lexer": "r",
   "version": "3.6.1"
  }
 },
 "nbformat": 4,
 "nbformat_minor": 2
}
