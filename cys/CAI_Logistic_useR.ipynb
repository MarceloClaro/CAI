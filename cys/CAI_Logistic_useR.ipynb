{
 "cells": [
  {
   "cell_type": "markdown",
   "metadata": {},
   "source": [
    " ## 선형회귀분석 사용을 위한 조건들 분석 \n",
    " \n",
    "    최초 작성일 : 2020/03/19\n",
    "    작성자 : 조예슬 \n",
    " \n",
    "    + 선형회귀분석 사용하기 위한 조건\n",
    "    \n",
    "        1) 독립변수값에 해당하는 종속변수 값들은 정규분포를 이뤄야하고\n",
    "        \n",
    "           모든 정규분포의 분산은 동일해야한다\n",
    "           \n",
    "           -> shapiro.test(), bartlett.test() 이용\n",
    "           \n",
    "        2) 종속변수값들은 통계적으로 서로 독립적이어야한다\n",
    "        \n",
    "           -> 선형회귀분석 시에 Durbin-Watson값\n",
    "           \n",
    "        3) 독립변수끼리 다중공선성이 존재하지 않아야한다\n",
    "        \n",
    "           -> sqrt(vif()) 이용\n",
    " \n",
    " \n",
    "    < 작성 내용 >\n",
    "      \n",
    "        - p-value(로지스틱 회귀분석 이용)를 통한 연관성 알아보기\n",
    "        \n",
    "        - 다중공선성 알아보기\n",
    "            \n",
    "    < 수정 내용 > \n",
    "    \n",
    "        20/03/20\n",
    "        - step() 이용하여 사용 가능한 변수 알아보기\n",
    "        \n",
    "        - regsubsets() 이용하여 사용 가능한 변수 알아보기\n",
    "        \n",
    "        - shapiro.test() 이용하여 정규분포 확인\n",
    "        \n",
    "        - bartlett.test() 이용하여 등분산 확인\n",
    "            "
   ]
  },
  {
   "cell_type": "code",
   "execution_count": 1,
   "metadata": {},
   "outputs": [
    {
     "name": "stdout",
     "output_type": "stream",
     "text": [
      "'data.frame':\t96 obs. of  14 variables:\n",
      " $ X               : int  0 1 2 3 4 5 6 7 8 9 ...\n",
      " $ sex             : Factor w/ 2 levels \"Female\",\"Male\": 1 2 1 2 1 1 1 1 1 1 ...\n",
      " $ age_class       : int  20 20 20 20 20 30 30 20 30 20 ...\n",
      " $ definition      : Factor w/ 2 levels \"bright\",\"harmony\": 1 2 1 1 1 2 2 1 2 2 ...\n",
      " $ need            : Factor w/ 2 levels \"bright\",\"harmony\": 1 2 1 2 1 2 1 1 1 2 ...\n",
      " $ interest        : int  3 5 5 3 3 4 3 3 5 1 ...\n",
      " $ comp            : int  0 0 0 0 0 0 0 0 0 0 ...\n",
      " $ triangle1       : int  0 0 0 0 0 0 0 0 0 0 ...\n",
      " $ triangle2       : int  0 1 0 0 0 0 0 0 0 0 ...\n",
      " $ doubleness1     : int  1 0 1 0 0 0 0 0 1 0 ...\n",
      " $ doubleness2     : int  0 0 0 0 0 0 1 1 0 0 ...\n",
      " $ doubleness3     : int  0 0 0 0 0 0 0 0 1 0 ...\n",
      " $ purpose_clothes : int  1 1 1 1 NA 1 1 NA 1 1 ...\n",
      " $ purpose_cosmetic: int  NA NA NA NA 1 NA NA 1 1 NA ...\n"
     ]
    },
    {
     "data": {
      "text/html": [
       "<table>\n",
       "<thead><tr><th scope=col>X</th><th scope=col>sex</th><th scope=col>age_class</th><th scope=col>definition</th><th scope=col>need</th><th scope=col>interest</th><th scope=col>comp</th><th scope=col>triangle1</th><th scope=col>triangle2</th><th scope=col>doubleness1</th><th scope=col>doubleness2</th><th scope=col>doubleness3</th><th scope=col>purpose_clothes</th><th scope=col>purpose_cosmetic</th></tr></thead>\n",
       "<tbody>\n",
       "\t<tr><td>0      </td><td>Female </td><td>20     </td><td>bright </td><td>bright </td><td>3      </td><td>0      </td><td>0      </td><td>0      </td><td>1      </td><td>0      </td><td>0      </td><td> 1     </td><td>NA     </td></tr>\n",
       "\t<tr><td>1      </td><td>Male   </td><td>20     </td><td>harmony</td><td>harmony</td><td>5      </td><td>0      </td><td>0      </td><td>1      </td><td>0      </td><td>0      </td><td>0      </td><td> 1     </td><td>NA     </td></tr>\n",
       "\t<tr><td>2      </td><td>Female </td><td>20     </td><td>bright </td><td>bright </td><td>5      </td><td>0      </td><td>0      </td><td>0      </td><td>1      </td><td>0      </td><td>0      </td><td> 1     </td><td>NA     </td></tr>\n",
       "\t<tr><td>3      </td><td>Male   </td><td>20     </td><td>bright </td><td>harmony</td><td>3      </td><td>0      </td><td>0      </td><td>0      </td><td>0      </td><td>0      </td><td>0      </td><td> 1     </td><td>NA     </td></tr>\n",
       "\t<tr><td>4      </td><td>Female </td><td>20     </td><td>bright </td><td>bright </td><td>3      </td><td>0      </td><td>0      </td><td>0      </td><td>0      </td><td>0      </td><td>0      </td><td>NA     </td><td> 1     </td></tr>\n",
       "\t<tr><td>5      </td><td>Female </td><td>30     </td><td>harmony</td><td>harmony</td><td>4      </td><td>0      </td><td>0      </td><td>0      </td><td>0      </td><td>0      </td><td>0      </td><td> 1     </td><td>NA     </td></tr>\n",
       "</tbody>\n",
       "</table>\n"
      ],
      "text/latex": [
       "\\begin{tabular}{r|llllllllllllll}\n",
       " X & sex & age\\_class & definition & need & interest & comp & triangle1 & triangle2 & doubleness1 & doubleness2 & doubleness3 & purpose\\_clothes & purpose\\_cosmetic\\\\\n",
       "\\hline\n",
       "\t 0       & Female  & 20      & bright  & bright  & 3       & 0       & 0       & 0       & 1       & 0       & 0       &  1      & NA     \\\\\n",
       "\t 1       & Male    & 20      & harmony & harmony & 5       & 0       & 0       & 1       & 0       & 0       & 0       &  1      & NA     \\\\\n",
       "\t 2       & Female  & 20      & bright  & bright  & 5       & 0       & 0       & 0       & 1       & 0       & 0       &  1      & NA     \\\\\n",
       "\t 3       & Male    & 20      & bright  & harmony & 3       & 0       & 0       & 0       & 0       & 0       & 0       &  1      & NA     \\\\\n",
       "\t 4       & Female  & 20      & bright  & bright  & 3       & 0       & 0       & 0       & 0       & 0       & 0       & NA      &  1     \\\\\n",
       "\t 5       & Female  & 30      & harmony & harmony & 4       & 0       & 0       & 0       & 0       & 0       & 0       &  1      & NA     \\\\\n",
       "\\end{tabular}\n"
      ],
      "text/markdown": [
       "\n",
       "| X | sex | age_class | definition | need | interest | comp | triangle1 | triangle2 | doubleness1 | doubleness2 | doubleness3 | purpose_clothes | purpose_cosmetic |\n",
       "|---|---|---|---|---|---|---|---|---|---|---|---|---|---|\n",
       "| 0       | Female  | 20      | bright  | bright  | 3       | 0       | 0       | 0       | 1       | 0       | 0       |  1      | NA      |\n",
       "| 1       | Male    | 20      | harmony | harmony | 5       | 0       | 0       | 1       | 0       | 0       | 0       |  1      | NA      |\n",
       "| 2       | Female  | 20      | bright  | bright  | 5       | 0       | 0       | 0       | 1       | 0       | 0       |  1      | NA      |\n",
       "| 3       | Male    | 20      | bright  | harmony | 3       | 0       | 0       | 0       | 0       | 0       | 0       |  1      | NA      |\n",
       "| 4       | Female  | 20      | bright  | bright  | 3       | 0       | 0       | 0       | 0       | 0       | 0       | NA      |  1      |\n",
       "| 5       | Female  | 30      | harmony | harmony | 4       | 0       | 0       | 0       | 0       | 0       | 0       |  1      | NA      |\n",
       "\n"
      ],
      "text/plain": [
       "  X sex    age_class definition need    interest comp triangle1 triangle2\n",
       "1 0 Female 20        bright     bright  3        0    0         0        \n",
       "2 1 Male   20        harmony    harmony 5        0    0         1        \n",
       "3 2 Female 20        bright     bright  5        0    0         0        \n",
       "4 3 Male   20        bright     harmony 3        0    0         0        \n",
       "5 4 Female 20        bright     bright  3        0    0         0        \n",
       "6 5 Female 30        harmony    harmony 4        0    0         0        \n",
       "  doubleness1 doubleness2 doubleness3 purpose_clothes purpose_cosmetic\n",
       "1 1           0           0            1              NA              \n",
       "2 0           0           0            1              NA              \n",
       "3 1           0           0            1              NA              \n",
       "4 0           0           0            1              NA              \n",
       "5 0           0           0           NA               1              \n",
       "6 0           0           0            1              NA              "
      ]
     },
     "metadata": {},
     "output_type": "display_data"
    }
   ],
   "source": [
    "# 데이터 불러오기\n",
    "\n",
    "total <- read.csv(\"data/comp_sV1.csv\")\n",
    "str(total)\n",
    "head(total)"
   ]
  },
  {
   "cell_type": "code",
   "execution_count": 2,
   "metadata": {
    "scrolled": true
   },
   "outputs": [
    {
     "data": {
      "text/html": [
       "<table>\n",
       "<thead><tr><th scope=col>X</th><th scope=col>sex</th><th scope=col>age_class</th><th scope=col>definition</th><th scope=col>need</th><th scope=col>interest</th><th scope=col>comp</th><th scope=col>triangle1</th><th scope=col>triangle2</th><th scope=col>doubleness1</th><th scope=col>doubleness2</th><th scope=col>doubleness3</th><th scope=col>purpose_clothes</th><th scope=col>purpose_cosmetic</th></tr></thead>\n",
       "<tbody>\n",
       "\t<tr><td> 0     </td><td>Female </td><td>20     </td><td>bright </td><td>bright </td><td>3      </td><td>0      </td><td>0      </td><td>0      </td><td>1      </td><td>0      </td><td>0      </td><td>1      </td><td>0      </td></tr>\n",
       "\t<tr><td> 1     </td><td>Male   </td><td>20     </td><td>harmony</td><td>harmony</td><td>5      </td><td>0      </td><td>0      </td><td>1      </td><td>0      </td><td>0      </td><td>0      </td><td>1      </td><td>0      </td></tr>\n",
       "\t<tr><td> 2     </td><td>Female </td><td>20     </td><td>bright </td><td>bright </td><td>5      </td><td>0      </td><td>0      </td><td>0      </td><td>1      </td><td>0      </td><td>0      </td><td>1      </td><td>0      </td></tr>\n",
       "\t<tr><td> 3     </td><td>Male   </td><td>20     </td><td>bright </td><td>harmony</td><td>3      </td><td>0      </td><td>0      </td><td>0      </td><td>0      </td><td>0      </td><td>0      </td><td>1      </td><td>0      </td></tr>\n",
       "\t<tr><td> 4     </td><td>Female </td><td>20     </td><td>bright </td><td>bright </td><td>3      </td><td>0      </td><td>0      </td><td>0      </td><td>0      </td><td>0      </td><td>0      </td><td>0      </td><td>1      </td></tr>\n",
       "\t<tr><td> 5     </td><td>Female </td><td>30     </td><td>harmony</td><td>harmony</td><td>4      </td><td>0      </td><td>0      </td><td>0      </td><td>0      </td><td>0      </td><td>0      </td><td>1      </td><td>0      </td></tr>\n",
       "\t<tr><td> 6     </td><td>Female </td><td>30     </td><td>harmony</td><td>bright </td><td>3      </td><td>0      </td><td>0      </td><td>0      </td><td>0      </td><td>1      </td><td>0      </td><td>1      </td><td>0      </td></tr>\n",
       "\t<tr><td> 7     </td><td>Female </td><td>20     </td><td>bright </td><td>bright </td><td>3      </td><td>0      </td><td>0      </td><td>0      </td><td>0      </td><td>1      </td><td>0      </td><td>0      </td><td>1      </td></tr>\n",
       "\t<tr><td> 8     </td><td>Female </td><td>30     </td><td>harmony</td><td>bright </td><td>5      </td><td>0      </td><td>0      </td><td>0      </td><td>1      </td><td>0      </td><td>1      </td><td>1      </td><td>1      </td></tr>\n",
       "\t<tr><td> 9     </td><td>Female </td><td>20     </td><td>harmony</td><td>harmony</td><td>1      </td><td>0      </td><td>0      </td><td>0      </td><td>0      </td><td>0      </td><td>0      </td><td>1      </td><td>0      </td></tr>\n",
       "\t<tr><td>10     </td><td>Female </td><td>30     </td><td>harmony</td><td>bright </td><td>4      </td><td>0      </td><td>0      </td><td>0      </td><td>0      </td><td>0      </td><td>0      </td><td>0      </td><td>1      </td></tr>\n",
       "\t<tr><td>11     </td><td>Female </td><td>20     </td><td>bright </td><td>bright </td><td>4      </td><td>0      </td><td>0      </td><td>0      </td><td>0      </td><td>0      </td><td>0      </td><td>1      </td><td>1      </td></tr>\n",
       "\t<tr><td>12     </td><td>Female </td><td>20     </td><td>harmony</td><td>bright </td><td>3      </td><td>0      </td><td>0      </td><td>0      </td><td>0      </td><td>0      </td><td>0      </td><td>0      </td><td>1      </td></tr>\n",
       "\t<tr><td>13     </td><td>Male   </td><td>20     </td><td>harmony</td><td>harmony</td><td>3      </td><td>0      </td><td>0      </td><td>0      </td><td>0      </td><td>0      </td><td>0      </td><td>1      </td><td>0      </td></tr>\n",
       "\t<tr><td>14     </td><td>Female </td><td>20     </td><td>harmony</td><td>harmony</td><td>3      </td><td>0      </td><td>0      </td><td>0      </td><td>0      </td><td>0      </td><td>0      </td><td>1      </td><td>0      </td></tr>\n",
       "\t<tr><td>15     </td><td>Female </td><td>20     </td><td>bright </td><td>bright </td><td>5      </td><td>0      </td><td>0      </td><td>0      </td><td>0      </td><td>1      </td><td>0      </td><td>0      </td><td>1      </td></tr>\n",
       "\t<tr><td>16     </td><td>Female </td><td>30     </td><td>harmony</td><td>harmony</td><td>1      </td><td>0      </td><td>0      </td><td>0      </td><td>0      </td><td>0      </td><td>0      </td><td>0      </td><td>1      </td></tr>\n",
       "\t<tr><td>17     </td><td>Male   </td><td>30     </td><td>harmony</td><td>harmony</td><td>4      </td><td>0      </td><td>0      </td><td>0      </td><td>0      </td><td>0      </td><td>0      </td><td>1      </td><td>0      </td></tr>\n",
       "\t<tr><td>18     </td><td>Male   </td><td>30     </td><td>harmony</td><td>bright </td><td>1      </td><td>0      </td><td>0      </td><td>0      </td><td>1      </td><td>0      </td><td>1      </td><td>1      </td><td>0      </td></tr>\n",
       "\t<tr><td>19     </td><td>Female </td><td>30     </td><td>harmony</td><td>bright </td><td>4      </td><td>0      </td><td>0      </td><td>0      </td><td>0      </td><td>0      </td><td>0      </td><td>1      </td><td>0      </td></tr>\n",
       "\t<tr><td>20     </td><td>Male   </td><td>50     </td><td>bright </td><td>bright </td><td>4      </td><td>0      </td><td>1      </td><td>0      </td><td>0      </td><td>0      </td><td>0      </td><td>1      </td><td>0      </td></tr>\n",
       "\t<tr><td>21     </td><td>Male   </td><td>20     </td><td>harmony</td><td>harmony</td><td>1      </td><td>0      </td><td>0      </td><td>0      </td><td>0      </td><td>0      </td><td>0      </td><td>1      </td><td>0      </td></tr>\n",
       "\t<tr><td>22     </td><td>Female </td><td>30     </td><td>harmony</td><td>harmony</td><td>3      </td><td>0      </td><td>0      </td><td>0      </td><td>0      </td><td>0      </td><td>0      </td><td>1      </td><td>0      </td></tr>\n",
       "\t<tr><td>23     </td><td>Female </td><td>20     </td><td>harmony</td><td>bright </td><td>3      </td><td>0      </td><td>0      </td><td>0      </td><td>0      </td><td>0      </td><td>0      </td><td>1      </td><td>0      </td></tr>\n",
       "\t<tr><td>24     </td><td>Female </td><td>20     </td><td>bright </td><td>harmony</td><td>3      </td><td>0      </td><td>0      </td><td>0      </td><td>1      </td><td>0      </td><td>1      </td><td>1      </td><td>0      </td></tr>\n",
       "\t<tr><td>25     </td><td>Female </td><td>20     </td><td>bright </td><td>bright </td><td>4      </td><td>0      </td><td>0      </td><td>0      </td><td>0      </td><td>0      </td><td>0      </td><td>1      </td><td>0      </td></tr>\n",
       "\t<tr><td>26     </td><td>Female </td><td>30     </td><td>bright </td><td>bright </td><td>3      </td><td>0      </td><td>0      </td><td>0      </td><td>1      </td><td>0      </td><td>0      </td><td>0      </td><td>1      </td></tr>\n",
       "\t<tr><td>27     </td><td>Male   </td><td>40     </td><td>harmony</td><td>harmony</td><td>3      </td><td>0      </td><td>0      </td><td>0      </td><td>0      </td><td>0      </td><td>0      </td><td>1      </td><td>0      </td></tr>\n",
       "\t<tr><td>28     </td><td>Female </td><td>20     </td><td>harmony</td><td>harmony</td><td>3      </td><td>0      </td><td>0      </td><td>0      </td><td>0      </td><td>0      </td><td>0      </td><td>0      </td><td>1      </td></tr>\n",
       "\t<tr><td>29     </td><td>Female </td><td>20     </td><td>harmony</td><td>harmony</td><td>2      </td><td>0      </td><td>0      </td><td>0      </td><td>0      </td><td>0      </td><td>0      </td><td>1      </td><td>1      </td></tr>\n",
       "\t<tr><td>...</td><td>...</td><td>...</td><td>...</td><td>...</td><td>...</td><td>...</td><td>...</td><td>...</td><td>...</td><td>...</td><td>...</td><td>...</td><td>...</td></tr>\n",
       "\t<tr><td>66     </td><td>Female </td><td>20     </td><td>harmony</td><td>harmony</td><td>3      </td><td>0      </td><td>0      </td><td>0      </td><td>1      </td><td>0      </td><td>0      </td><td>1      </td><td>1      </td></tr>\n",
       "\t<tr><td>67     </td><td>Male   </td><td>20     </td><td>harmony</td><td>harmony</td><td>4      </td><td>1      </td><td>1      </td><td>0      </td><td>0      </td><td>1      </td><td>0      </td><td>1      </td><td>0      </td></tr>\n",
       "\t<tr><td>68     </td><td>Female </td><td>30     </td><td>harmony</td><td>bright </td><td>2      </td><td>0      </td><td>0      </td><td>0      </td><td>0      </td><td>0      </td><td>0      </td><td>0      </td><td>1      </td></tr>\n",
       "\t<tr><td>69     </td><td>Female </td><td>20     </td><td>harmony</td><td>harmony</td><td>4      </td><td>0      </td><td>0      </td><td>0      </td><td>1      </td><td>0      </td><td>0      </td><td>1      </td><td>1      </td></tr>\n",
       "\t<tr><td>70     </td><td>Female </td><td>20     </td><td>harmony</td><td>harmony</td><td>3      </td><td>0      </td><td>0      </td><td>0      </td><td>0      </td><td>0      </td><td>0      </td><td>1      </td><td>1      </td></tr>\n",
       "\t<tr><td>71     </td><td>Female </td><td>20     </td><td>harmony</td><td>harmony</td><td>5      </td><td>0      </td><td>0      </td><td>0      </td><td>0      </td><td>0      </td><td>0      </td><td>1      </td><td>1      </td></tr>\n",
       "\t<tr><td>72     </td><td>Female </td><td>20     </td><td>harmony</td><td>harmony</td><td>4      </td><td>0      </td><td>0      </td><td>0      </td><td>0      </td><td>0      </td><td>0      </td><td>0      </td><td>1      </td></tr>\n",
       "\t<tr><td>73     </td><td>Female </td><td>10     </td><td>harmony</td><td>harmony</td><td>4      </td><td>0      </td><td>0      </td><td>0      </td><td>0      </td><td>0      </td><td>1      </td><td>1      </td><td>1      </td></tr>\n",
       "\t<tr><td>74     </td><td>Female </td><td>30     </td><td>harmony</td><td>harmony</td><td>4      </td><td>0      </td><td>0      </td><td>0      </td><td>1      </td><td>0      </td><td>0      </td><td>0      </td><td>1      </td></tr>\n",
       "\t<tr><td>75     </td><td>Female </td><td>10     </td><td>bright </td><td>bright </td><td>4      </td><td>0      </td><td>0      </td><td>1      </td><td>0      </td><td>0      </td><td>0      </td><td>0      </td><td>1      </td></tr>\n",
       "\t<tr><td>76     </td><td>Male   </td><td>20     </td><td>harmony</td><td>harmony</td><td>5      </td><td>0      </td><td>0      </td><td>0      </td><td>0      </td><td>0      </td><td>0      </td><td>1      </td><td>0      </td></tr>\n",
       "\t<tr><td>77     </td><td>Female </td><td>10     </td><td>harmony</td><td>harmony</td><td>4      </td><td>1      </td><td>0      </td><td>0      </td><td>0      </td><td>0      </td><td>0      </td><td>1      </td><td>1      </td></tr>\n",
       "\t<tr><td>78     </td><td>Female </td><td>20     </td><td>harmony</td><td>harmony</td><td>3      </td><td>0      </td><td>0      </td><td>0      </td><td>0      </td><td>1      </td><td>0      </td><td>1      </td><td>1      </td></tr>\n",
       "\t<tr><td>79     </td><td>Male   </td><td>20     </td><td>harmony</td><td>harmony</td><td>2      </td><td>0      </td><td>0      </td><td>1      </td><td>0      </td><td>0      </td><td>0      </td><td>1      </td><td>0      </td></tr>\n",
       "\t<tr><td>80     </td><td>Male   </td><td>20     </td><td>harmony</td><td>harmony</td><td>3      </td><td>1      </td><td>0      </td><td>0      </td><td>0      </td><td>1      </td><td>1      </td><td>0      </td><td>1      </td></tr>\n",
       "\t<tr><td>81     </td><td>Male   </td><td>20     </td><td>harmony</td><td>harmony</td><td>4      </td><td>0      </td><td>0      </td><td>0      </td><td>0      </td><td>0      </td><td>0      </td><td>1      </td><td>0      </td></tr>\n",
       "\t<tr><td>82     </td><td>Female </td><td>30     </td><td>harmony</td><td>harmony</td><td>1      </td><td>0      </td><td>0      </td><td>0      </td><td>0      </td><td>0      </td><td>0      </td><td>1      </td><td>1      </td></tr>\n",
       "\t<tr><td>83     </td><td>Female </td><td>30     </td><td>harmony</td><td>bright </td><td>4      </td><td>0      </td><td>0      </td><td>0      </td><td>0      </td><td>0      </td><td>0      </td><td>1      </td><td>1      </td></tr>\n",
       "\t<tr><td>84     </td><td>Male   </td><td>20     </td><td>bright </td><td>bright </td><td>5      </td><td>0      </td><td>0      </td><td>0      </td><td>0      </td><td>0      </td><td>0      </td><td>1      </td><td>0      </td></tr>\n",
       "\t<tr><td>85     </td><td>Male   </td><td>20     </td><td>harmony</td><td>harmony</td><td>4      </td><td>0      </td><td>0      </td><td>0      </td><td>0      </td><td>0      </td><td>0      </td><td>1      </td><td>0      </td></tr>\n",
       "\t<tr><td>86     </td><td>Female </td><td>30     </td><td>bright </td><td>bright </td><td>3      </td><td>0      </td><td>0      </td><td>0      </td><td>0      </td><td>1      </td><td>0      </td><td>1      </td><td>0      </td></tr>\n",
       "\t<tr><td>87     </td><td>Female </td><td>30     </td><td>harmony</td><td>harmony</td><td>1      </td><td>0      </td><td>0      </td><td>0      </td><td>0      </td><td>0      </td><td>0      </td><td>1      </td><td>0      </td></tr>\n",
       "\t<tr><td>88     </td><td>Female </td><td>50     </td><td>harmony</td><td>harmony</td><td>4      </td><td>0      </td><td>0      </td><td>1      </td><td>0      </td><td>0      </td><td>0      </td><td>1      </td><td>1      </td></tr>\n",
       "\t<tr><td>89     </td><td>Female </td><td>50     </td><td>harmony</td><td>harmony</td><td>5      </td><td>0      </td><td>0      </td><td>0      </td><td>0      </td><td>0      </td><td>0      </td><td>1      </td><td>1      </td></tr>\n",
       "\t<tr><td>90     </td><td>Female </td><td>20     </td><td>harmony</td><td>harmony</td><td>2      </td><td>0      </td><td>0      </td><td>0      </td><td>0      </td><td>0      </td><td>0      </td><td>1      </td><td>0      </td></tr>\n",
       "\t<tr><td>91     </td><td>Female </td><td>50     </td><td>bright </td><td>bright </td><td>3      </td><td>0      </td><td>0      </td><td>0      </td><td>0      </td><td>0      </td><td>0      </td><td>0      </td><td>1      </td></tr>\n",
       "\t<tr><td>92     </td><td>Female </td><td>50     </td><td>harmony</td><td>harmony</td><td>5      </td><td>0      </td><td>1      </td><td>0      </td><td>0      </td><td>1      </td><td>0      </td><td>0      </td><td>1      </td></tr>\n",
       "\t<tr><td>93     </td><td>Female </td><td>50     </td><td>bright </td><td>bright </td><td>3      </td><td>0      </td><td>0      </td><td>0      </td><td>0      </td><td>0      </td><td>0      </td><td>1      </td><td>0      </td></tr>\n",
       "\t<tr><td>94     </td><td>Female </td><td>50     </td><td>harmony</td><td>harmony</td><td>4      </td><td>0      </td><td>0      </td><td>0      </td><td>0      </td><td>0      </td><td>0      </td><td>1      </td><td>0      </td></tr>\n",
       "\t<tr><td>95     </td><td>Female </td><td>20     </td><td>bright </td><td>harmony</td><td>4      </td><td>0      </td><td>0      </td><td>0      </td><td>0      </td><td>0      </td><td>0      </td><td>1      </td><td>1      </td></tr>\n",
       "</tbody>\n",
       "</table>\n"
      ],
      "text/latex": [
       "\\begin{tabular}{r|llllllllllllll}\n",
       " X & sex & age\\_class & definition & need & interest & comp & triangle1 & triangle2 & doubleness1 & doubleness2 & doubleness3 & purpose\\_clothes & purpose\\_cosmetic\\\\\n",
       "\\hline\n",
       "\t  0      & Female  & 20      & bright  & bright  & 3       & 0       & 0       & 0       & 1       & 0       & 0       & 1       & 0      \\\\\n",
       "\t  1      & Male    & 20      & harmony & harmony & 5       & 0       & 0       & 1       & 0       & 0       & 0       & 1       & 0      \\\\\n",
       "\t  2      & Female  & 20      & bright  & bright  & 5       & 0       & 0       & 0       & 1       & 0       & 0       & 1       & 0      \\\\\n",
       "\t  3      & Male    & 20      & bright  & harmony & 3       & 0       & 0       & 0       & 0       & 0       & 0       & 1       & 0      \\\\\n",
       "\t  4      & Female  & 20      & bright  & bright  & 3       & 0       & 0       & 0       & 0       & 0       & 0       & 0       & 1      \\\\\n",
       "\t  5      & Female  & 30      & harmony & harmony & 4       & 0       & 0       & 0       & 0       & 0       & 0       & 1       & 0      \\\\\n",
       "\t  6      & Female  & 30      & harmony & bright  & 3       & 0       & 0       & 0       & 0       & 1       & 0       & 1       & 0      \\\\\n",
       "\t  7      & Female  & 20      & bright  & bright  & 3       & 0       & 0       & 0       & 0       & 1       & 0       & 0       & 1      \\\\\n",
       "\t  8      & Female  & 30      & harmony & bright  & 5       & 0       & 0       & 0       & 1       & 0       & 1       & 1       & 1      \\\\\n",
       "\t  9      & Female  & 20      & harmony & harmony & 1       & 0       & 0       & 0       & 0       & 0       & 0       & 1       & 0      \\\\\n",
       "\t 10      & Female  & 30      & harmony & bright  & 4       & 0       & 0       & 0       & 0       & 0       & 0       & 0       & 1      \\\\\n",
       "\t 11      & Female  & 20      & bright  & bright  & 4       & 0       & 0       & 0       & 0       & 0       & 0       & 1       & 1      \\\\\n",
       "\t 12      & Female  & 20      & harmony & bright  & 3       & 0       & 0       & 0       & 0       & 0       & 0       & 0       & 1      \\\\\n",
       "\t 13      & Male    & 20      & harmony & harmony & 3       & 0       & 0       & 0       & 0       & 0       & 0       & 1       & 0      \\\\\n",
       "\t 14      & Female  & 20      & harmony & harmony & 3       & 0       & 0       & 0       & 0       & 0       & 0       & 1       & 0      \\\\\n",
       "\t 15      & Female  & 20      & bright  & bright  & 5       & 0       & 0       & 0       & 0       & 1       & 0       & 0       & 1      \\\\\n",
       "\t 16      & Female  & 30      & harmony & harmony & 1       & 0       & 0       & 0       & 0       & 0       & 0       & 0       & 1      \\\\\n",
       "\t 17      & Male    & 30      & harmony & harmony & 4       & 0       & 0       & 0       & 0       & 0       & 0       & 1       & 0      \\\\\n",
       "\t 18      & Male    & 30      & harmony & bright  & 1       & 0       & 0       & 0       & 1       & 0       & 1       & 1       & 0      \\\\\n",
       "\t 19      & Female  & 30      & harmony & bright  & 4       & 0       & 0       & 0       & 0       & 0       & 0       & 1       & 0      \\\\\n",
       "\t 20      & Male    & 50      & bright  & bright  & 4       & 0       & 1       & 0       & 0       & 0       & 0       & 1       & 0      \\\\\n",
       "\t 21      & Male    & 20      & harmony & harmony & 1       & 0       & 0       & 0       & 0       & 0       & 0       & 1       & 0      \\\\\n",
       "\t 22      & Female  & 30      & harmony & harmony & 3       & 0       & 0       & 0       & 0       & 0       & 0       & 1       & 0      \\\\\n",
       "\t 23      & Female  & 20      & harmony & bright  & 3       & 0       & 0       & 0       & 0       & 0       & 0       & 1       & 0      \\\\\n",
       "\t 24      & Female  & 20      & bright  & harmony & 3       & 0       & 0       & 0       & 1       & 0       & 1       & 1       & 0      \\\\\n",
       "\t 25      & Female  & 20      & bright  & bright  & 4       & 0       & 0       & 0       & 0       & 0       & 0       & 1       & 0      \\\\\n",
       "\t 26      & Female  & 30      & bright  & bright  & 3       & 0       & 0       & 0       & 1       & 0       & 0       & 0       & 1      \\\\\n",
       "\t 27      & Male    & 40      & harmony & harmony & 3       & 0       & 0       & 0       & 0       & 0       & 0       & 1       & 0      \\\\\n",
       "\t 28      & Female  & 20      & harmony & harmony & 3       & 0       & 0       & 0       & 0       & 0       & 0       & 0       & 1      \\\\\n",
       "\t 29      & Female  & 20      & harmony & harmony & 2       & 0       & 0       & 0       & 0       & 0       & 0       & 1       & 1      \\\\\n",
       "\t ... & ... & ... & ... & ... & ... & ... & ... & ... & ... & ... & ... & ... & ...\\\\\n",
       "\t 66      & Female  & 20      & harmony & harmony & 3       & 0       & 0       & 0       & 1       & 0       & 0       & 1       & 1      \\\\\n",
       "\t 67      & Male    & 20      & harmony & harmony & 4       & 1       & 1       & 0       & 0       & 1       & 0       & 1       & 0      \\\\\n",
       "\t 68      & Female  & 30      & harmony & bright  & 2       & 0       & 0       & 0       & 0       & 0       & 0       & 0       & 1      \\\\\n",
       "\t 69      & Female  & 20      & harmony & harmony & 4       & 0       & 0       & 0       & 1       & 0       & 0       & 1       & 1      \\\\\n",
       "\t 70      & Female  & 20      & harmony & harmony & 3       & 0       & 0       & 0       & 0       & 0       & 0       & 1       & 1      \\\\\n",
       "\t 71      & Female  & 20      & harmony & harmony & 5       & 0       & 0       & 0       & 0       & 0       & 0       & 1       & 1      \\\\\n",
       "\t 72      & Female  & 20      & harmony & harmony & 4       & 0       & 0       & 0       & 0       & 0       & 0       & 0       & 1      \\\\\n",
       "\t 73      & Female  & 10      & harmony & harmony & 4       & 0       & 0       & 0       & 0       & 0       & 1       & 1       & 1      \\\\\n",
       "\t 74      & Female  & 30      & harmony & harmony & 4       & 0       & 0       & 0       & 1       & 0       & 0       & 0       & 1      \\\\\n",
       "\t 75      & Female  & 10      & bright  & bright  & 4       & 0       & 0       & 1       & 0       & 0       & 0       & 0       & 1      \\\\\n",
       "\t 76      & Male    & 20      & harmony & harmony & 5       & 0       & 0       & 0       & 0       & 0       & 0       & 1       & 0      \\\\\n",
       "\t 77      & Female  & 10      & harmony & harmony & 4       & 1       & 0       & 0       & 0       & 0       & 0       & 1       & 1      \\\\\n",
       "\t 78      & Female  & 20      & harmony & harmony & 3       & 0       & 0       & 0       & 0       & 1       & 0       & 1       & 1      \\\\\n",
       "\t 79      & Male    & 20      & harmony & harmony & 2       & 0       & 0       & 1       & 0       & 0       & 0       & 1       & 0      \\\\\n",
       "\t 80      & Male    & 20      & harmony & harmony & 3       & 1       & 0       & 0       & 0       & 1       & 1       & 0       & 1      \\\\\n",
       "\t 81      & Male    & 20      & harmony & harmony & 4       & 0       & 0       & 0       & 0       & 0       & 0       & 1       & 0      \\\\\n",
       "\t 82      & Female  & 30      & harmony & harmony & 1       & 0       & 0       & 0       & 0       & 0       & 0       & 1       & 1      \\\\\n",
       "\t 83      & Female  & 30      & harmony & bright  & 4       & 0       & 0       & 0       & 0       & 0       & 0       & 1       & 1      \\\\\n",
       "\t 84      & Male    & 20      & bright  & bright  & 5       & 0       & 0       & 0       & 0       & 0       & 0       & 1       & 0      \\\\\n",
       "\t 85      & Male    & 20      & harmony & harmony & 4       & 0       & 0       & 0       & 0       & 0       & 0       & 1       & 0      \\\\\n",
       "\t 86      & Female  & 30      & bright  & bright  & 3       & 0       & 0       & 0       & 0       & 1       & 0       & 1       & 0      \\\\\n",
       "\t 87      & Female  & 30      & harmony & harmony & 1       & 0       & 0       & 0       & 0       & 0       & 0       & 1       & 0      \\\\\n",
       "\t 88      & Female  & 50      & harmony & harmony & 4       & 0       & 0       & 1       & 0       & 0       & 0       & 1       & 1      \\\\\n",
       "\t 89      & Female  & 50      & harmony & harmony & 5       & 0       & 0       & 0       & 0       & 0       & 0       & 1       & 1      \\\\\n",
       "\t 90      & Female  & 20      & harmony & harmony & 2       & 0       & 0       & 0       & 0       & 0       & 0       & 1       & 0      \\\\\n",
       "\t 91      & Female  & 50      & bright  & bright  & 3       & 0       & 0       & 0       & 0       & 0       & 0       & 0       & 1      \\\\\n",
       "\t 92      & Female  & 50      & harmony & harmony & 5       & 0       & 1       & 0       & 0       & 1       & 0       & 0       & 1      \\\\\n",
       "\t 93      & Female  & 50      & bright  & bright  & 3       & 0       & 0       & 0       & 0       & 0       & 0       & 1       & 0      \\\\\n",
       "\t 94      & Female  & 50      & harmony & harmony & 4       & 0       & 0       & 0       & 0       & 0       & 0       & 1       & 0      \\\\\n",
       "\t 95      & Female  & 20      & bright  & harmony & 4       & 0       & 0       & 0       & 0       & 0       & 0       & 1       & 1      \\\\\n",
       "\\end{tabular}\n"
      ],
      "text/markdown": [
       "\n",
       "| X | sex | age_class | definition | need | interest | comp | triangle1 | triangle2 | doubleness1 | doubleness2 | doubleness3 | purpose_clothes | purpose_cosmetic |\n",
       "|---|---|---|---|---|---|---|---|---|---|---|---|---|---|\n",
       "|  0      | Female  | 20      | bright  | bright  | 3       | 0       | 0       | 0       | 1       | 0       | 0       | 1       | 0       |\n",
       "|  1      | Male    | 20      | harmony | harmony | 5       | 0       | 0       | 1       | 0       | 0       | 0       | 1       | 0       |\n",
       "|  2      | Female  | 20      | bright  | bright  | 5       | 0       | 0       | 0       | 1       | 0       | 0       | 1       | 0       |\n",
       "|  3      | Male    | 20      | bright  | harmony | 3       | 0       | 0       | 0       | 0       | 0       | 0       | 1       | 0       |\n",
       "|  4      | Female  | 20      | bright  | bright  | 3       | 0       | 0       | 0       | 0       | 0       | 0       | 0       | 1       |\n",
       "|  5      | Female  | 30      | harmony | harmony | 4       | 0       | 0       | 0       | 0       | 0       | 0       | 1       | 0       |\n",
       "|  6      | Female  | 30      | harmony | bright  | 3       | 0       | 0       | 0       | 0       | 1       | 0       | 1       | 0       |\n",
       "|  7      | Female  | 20      | bright  | bright  | 3       | 0       | 0       | 0       | 0       | 1       | 0       | 0       | 1       |\n",
       "|  8      | Female  | 30      | harmony | bright  | 5       | 0       | 0       | 0       | 1       | 0       | 1       | 1       | 1       |\n",
       "|  9      | Female  | 20      | harmony | harmony | 1       | 0       | 0       | 0       | 0       | 0       | 0       | 1       | 0       |\n",
       "| 10      | Female  | 30      | harmony | bright  | 4       | 0       | 0       | 0       | 0       | 0       | 0       | 0       | 1       |\n",
       "| 11      | Female  | 20      | bright  | bright  | 4       | 0       | 0       | 0       | 0       | 0       | 0       | 1       | 1       |\n",
       "| 12      | Female  | 20      | harmony | bright  | 3       | 0       | 0       | 0       | 0       | 0       | 0       | 0       | 1       |\n",
       "| 13      | Male    | 20      | harmony | harmony | 3       | 0       | 0       | 0       | 0       | 0       | 0       | 1       | 0       |\n",
       "| 14      | Female  | 20      | harmony | harmony | 3       | 0       | 0       | 0       | 0       | 0       | 0       | 1       | 0       |\n",
       "| 15      | Female  | 20      | bright  | bright  | 5       | 0       | 0       | 0       | 0       | 1       | 0       | 0       | 1       |\n",
       "| 16      | Female  | 30      | harmony | harmony | 1       | 0       | 0       | 0       | 0       | 0       | 0       | 0       | 1       |\n",
       "| 17      | Male    | 30      | harmony | harmony | 4       | 0       | 0       | 0       | 0       | 0       | 0       | 1       | 0       |\n",
       "| 18      | Male    | 30      | harmony | bright  | 1       | 0       | 0       | 0       | 1       | 0       | 1       | 1       | 0       |\n",
       "| 19      | Female  | 30      | harmony | bright  | 4       | 0       | 0       | 0       | 0       | 0       | 0       | 1       | 0       |\n",
       "| 20      | Male    | 50      | bright  | bright  | 4       | 0       | 1       | 0       | 0       | 0       | 0       | 1       | 0       |\n",
       "| 21      | Male    | 20      | harmony | harmony | 1       | 0       | 0       | 0       | 0       | 0       | 0       | 1       | 0       |\n",
       "| 22      | Female  | 30      | harmony | harmony | 3       | 0       | 0       | 0       | 0       | 0       | 0       | 1       | 0       |\n",
       "| 23      | Female  | 20      | harmony | bright  | 3       | 0       | 0       | 0       | 0       | 0       | 0       | 1       | 0       |\n",
       "| 24      | Female  | 20      | bright  | harmony | 3       | 0       | 0       | 0       | 1       | 0       | 1       | 1       | 0       |\n",
       "| 25      | Female  | 20      | bright  | bright  | 4       | 0       | 0       | 0       | 0       | 0       | 0       | 1       | 0       |\n",
       "| 26      | Female  | 30      | bright  | bright  | 3       | 0       | 0       | 0       | 1       | 0       | 0       | 0       | 1       |\n",
       "| 27      | Male    | 40      | harmony | harmony | 3       | 0       | 0       | 0       | 0       | 0       | 0       | 1       | 0       |\n",
       "| 28      | Female  | 20      | harmony | harmony | 3       | 0       | 0       | 0       | 0       | 0       | 0       | 0       | 1       |\n",
       "| 29      | Female  | 20      | harmony | harmony | 2       | 0       | 0       | 0       | 0       | 0       | 0       | 1       | 1       |\n",
       "| ... | ... | ... | ... | ... | ... | ... | ... | ... | ... | ... | ... | ... | ... |\n",
       "| 66      | Female  | 20      | harmony | harmony | 3       | 0       | 0       | 0       | 1       | 0       | 0       | 1       | 1       |\n",
       "| 67      | Male    | 20      | harmony | harmony | 4       | 1       | 1       | 0       | 0       | 1       | 0       | 1       | 0       |\n",
       "| 68      | Female  | 30      | harmony | bright  | 2       | 0       | 0       | 0       | 0       | 0       | 0       | 0       | 1       |\n",
       "| 69      | Female  | 20      | harmony | harmony | 4       | 0       | 0       | 0       | 1       | 0       | 0       | 1       | 1       |\n",
       "| 70      | Female  | 20      | harmony | harmony | 3       | 0       | 0       | 0       | 0       | 0       | 0       | 1       | 1       |\n",
       "| 71      | Female  | 20      | harmony | harmony | 5       | 0       | 0       | 0       | 0       | 0       | 0       | 1       | 1       |\n",
       "| 72      | Female  | 20      | harmony | harmony | 4       | 0       | 0       | 0       | 0       | 0       | 0       | 0       | 1       |\n",
       "| 73      | Female  | 10      | harmony | harmony | 4       | 0       | 0       | 0       | 0       | 0       | 1       | 1       | 1       |\n",
       "| 74      | Female  | 30      | harmony | harmony | 4       | 0       | 0       | 0       | 1       | 0       | 0       | 0       | 1       |\n",
       "| 75      | Female  | 10      | bright  | bright  | 4       | 0       | 0       | 1       | 0       | 0       | 0       | 0       | 1       |\n",
       "| 76      | Male    | 20      | harmony | harmony | 5       | 0       | 0       | 0       | 0       | 0       | 0       | 1       | 0       |\n",
       "| 77      | Female  | 10      | harmony | harmony | 4       | 1       | 0       | 0       | 0       | 0       | 0       | 1       | 1       |\n",
       "| 78      | Female  | 20      | harmony | harmony | 3       | 0       | 0       | 0       | 0       | 1       | 0       | 1       | 1       |\n",
       "| 79      | Male    | 20      | harmony | harmony | 2       | 0       | 0       | 1       | 0       | 0       | 0       | 1       | 0       |\n",
       "| 80      | Male    | 20      | harmony | harmony | 3       | 1       | 0       | 0       | 0       | 1       | 1       | 0       | 1       |\n",
       "| 81      | Male    | 20      | harmony | harmony | 4       | 0       | 0       | 0       | 0       | 0       | 0       | 1       | 0       |\n",
       "| 82      | Female  | 30      | harmony | harmony | 1       | 0       | 0       | 0       | 0       | 0       | 0       | 1       | 1       |\n",
       "| 83      | Female  | 30      | harmony | bright  | 4       | 0       | 0       | 0       | 0       | 0       | 0       | 1       | 1       |\n",
       "| 84      | Male    | 20      | bright  | bright  | 5       | 0       | 0       | 0       | 0       | 0       | 0       | 1       | 0       |\n",
       "| 85      | Male    | 20      | harmony | harmony | 4       | 0       | 0       | 0       | 0       | 0       | 0       | 1       | 0       |\n",
       "| 86      | Female  | 30      | bright  | bright  | 3       | 0       | 0       | 0       | 0       | 1       | 0       | 1       | 0       |\n",
       "| 87      | Female  | 30      | harmony | harmony | 1       | 0       | 0       | 0       | 0       | 0       | 0       | 1       | 0       |\n",
       "| 88      | Female  | 50      | harmony | harmony | 4       | 0       | 0       | 1       | 0       | 0       | 0       | 1       | 1       |\n",
       "| 89      | Female  | 50      | harmony | harmony | 5       | 0       | 0       | 0       | 0       | 0       | 0       | 1       | 1       |\n",
       "| 90      | Female  | 20      | harmony | harmony | 2       | 0       | 0       | 0       | 0       | 0       | 0       | 1       | 0       |\n",
       "| 91      | Female  | 50      | bright  | bright  | 3       | 0       | 0       | 0       | 0       | 0       | 0       | 0       | 1       |\n",
       "| 92      | Female  | 50      | harmony | harmony | 5       | 0       | 1       | 0       | 0       | 1       | 0       | 0       | 1       |\n",
       "| 93      | Female  | 50      | bright  | bright  | 3       | 0       | 0       | 0       | 0       | 0       | 0       | 1       | 0       |\n",
       "| 94      | Female  | 50      | harmony | harmony | 4       | 0       | 0       | 0       | 0       | 0       | 0       | 1       | 0       |\n",
       "| 95      | Female  | 20      | bright  | harmony | 4       | 0       | 0       | 0       | 0       | 0       | 0       | 1       | 1       |\n",
       "\n"
      ],
      "text/plain": [
       "    X   sex    age_class definition need    interest comp triangle1 triangle2\n",
       "1    0  Female 20        bright     bright  3        0    0         0        \n",
       "2    1  Male   20        harmony    harmony 5        0    0         1        \n",
       "3    2  Female 20        bright     bright  5        0    0         0        \n",
       "4    3  Male   20        bright     harmony 3        0    0         0        \n",
       "5    4  Female 20        bright     bright  3        0    0         0        \n",
       "6    5  Female 30        harmony    harmony 4        0    0         0        \n",
       "7    6  Female 30        harmony    bright  3        0    0         0        \n",
       "8    7  Female 20        bright     bright  3        0    0         0        \n",
       "9    8  Female 30        harmony    bright  5        0    0         0        \n",
       "10   9  Female 20        harmony    harmony 1        0    0         0        \n",
       "11  10  Female 30        harmony    bright  4        0    0         0        \n",
       "12  11  Female 20        bright     bright  4        0    0         0        \n",
       "13  12  Female 20        harmony    bright  3        0    0         0        \n",
       "14  13  Male   20        harmony    harmony 3        0    0         0        \n",
       "15  14  Female 20        harmony    harmony 3        0    0         0        \n",
       "16  15  Female 20        bright     bright  5        0    0         0        \n",
       "17  16  Female 30        harmony    harmony 1        0    0         0        \n",
       "18  17  Male   30        harmony    harmony 4        0    0         0        \n",
       "19  18  Male   30        harmony    bright  1        0    0         0        \n",
       "20  19  Female 30        harmony    bright  4        0    0         0        \n",
       "21  20  Male   50        bright     bright  4        0    1         0        \n",
       "22  21  Male   20        harmony    harmony 1        0    0         0        \n",
       "23  22  Female 30        harmony    harmony 3        0    0         0        \n",
       "24  23  Female 20        harmony    bright  3        0    0         0        \n",
       "25  24  Female 20        bright     harmony 3        0    0         0        \n",
       "26  25  Female 20        bright     bright  4        0    0         0        \n",
       "27  26  Female 30        bright     bright  3        0    0         0        \n",
       "28  27  Male   40        harmony    harmony 3        0    0         0        \n",
       "29  28  Female 20        harmony    harmony 3        0    0         0        \n",
       "30  29  Female 20        harmony    harmony 2        0    0         0        \n",
       "... ... ...    ...       ...        ...     ...      ...  ...       ...      \n",
       "67  66  Female 20        harmony    harmony 3        0    0         0        \n",
       "68  67  Male   20        harmony    harmony 4        1    1         0        \n",
       "69  68  Female 30        harmony    bright  2        0    0         0        \n",
       "70  69  Female 20        harmony    harmony 4        0    0         0        \n",
       "71  70  Female 20        harmony    harmony 3        0    0         0        \n",
       "72  71  Female 20        harmony    harmony 5        0    0         0        \n",
       "73  72  Female 20        harmony    harmony 4        0    0         0        \n",
       "74  73  Female 10        harmony    harmony 4        0    0         0        \n",
       "75  74  Female 30        harmony    harmony 4        0    0         0        \n",
       "76  75  Female 10        bright     bright  4        0    0         1        \n",
       "77  76  Male   20        harmony    harmony 5        0    0         0        \n",
       "78  77  Female 10        harmony    harmony 4        1    0         0        \n",
       "79  78  Female 20        harmony    harmony 3        0    0         0        \n",
       "80  79  Male   20        harmony    harmony 2        0    0         1        \n",
       "81  80  Male   20        harmony    harmony 3        1    0         0        \n",
       "82  81  Male   20        harmony    harmony 4        0    0         0        \n",
       "83  82  Female 30        harmony    harmony 1        0    0         0        \n",
       "84  83  Female 30        harmony    bright  4        0    0         0        \n",
       "85  84  Male   20        bright     bright  5        0    0         0        \n",
       "86  85  Male   20        harmony    harmony 4        0    0         0        \n",
       "87  86  Female 30        bright     bright  3        0    0         0        \n",
       "88  87  Female 30        harmony    harmony 1        0    0         0        \n",
       "89  88  Female 50        harmony    harmony 4        0    0         1        \n",
       "90  89  Female 50        harmony    harmony 5        0    0         0        \n",
       "91  90  Female 20        harmony    harmony 2        0    0         0        \n",
       "92  91  Female 50        bright     bright  3        0    0         0        \n",
       "93  92  Female 50        harmony    harmony 5        0    1         0        \n",
       "94  93  Female 50        bright     bright  3        0    0         0        \n",
       "95  94  Female 50        harmony    harmony 4        0    0         0        \n",
       "96  95  Female 20        bright     harmony 4        0    0         0        \n",
       "    doubleness1 doubleness2 doubleness3 purpose_clothes purpose_cosmetic\n",
       "1   1           0           0           1               0               \n",
       "2   0           0           0           1               0               \n",
       "3   1           0           0           1               0               \n",
       "4   0           0           0           1               0               \n",
       "5   0           0           0           0               1               \n",
       "6   0           0           0           1               0               \n",
       "7   0           1           0           1               0               \n",
       "8   0           1           0           0               1               \n",
       "9   1           0           1           1               1               \n",
       "10  0           0           0           1               0               \n",
       "11  0           0           0           0               1               \n",
       "12  0           0           0           1               1               \n",
       "13  0           0           0           0               1               \n",
       "14  0           0           0           1               0               \n",
       "15  0           0           0           1               0               \n",
       "16  0           1           0           0               1               \n",
       "17  0           0           0           0               1               \n",
       "18  0           0           0           1               0               \n",
       "19  1           0           1           1               0               \n",
       "20  0           0           0           1               0               \n",
       "21  0           0           0           1               0               \n",
       "22  0           0           0           1               0               \n",
       "23  0           0           0           1               0               \n",
       "24  0           0           0           1               0               \n",
       "25  1           0           1           1               0               \n",
       "26  0           0           0           1               0               \n",
       "27  1           0           0           0               1               \n",
       "28  0           0           0           1               0               \n",
       "29  0           0           0           0               1               \n",
       "30  0           0           0           1               1               \n",
       "... ...         ...         ...         ...             ...             \n",
       "67  1           0           0           1               1               \n",
       "68  0           1           0           1               0               \n",
       "69  0           0           0           0               1               \n",
       "70  1           0           0           1               1               \n",
       "71  0           0           0           1               1               \n",
       "72  0           0           0           1               1               \n",
       "73  0           0           0           0               1               \n",
       "74  0           0           1           1               1               \n",
       "75  1           0           0           0               1               \n",
       "76  0           0           0           0               1               \n",
       "77  0           0           0           1               0               \n",
       "78  0           0           0           1               1               \n",
       "79  0           1           0           1               1               \n",
       "80  0           0           0           1               0               \n",
       "81  0           1           1           0               1               \n",
       "82  0           0           0           1               0               \n",
       "83  0           0           0           1               1               \n",
       "84  0           0           0           1               1               \n",
       "85  0           0           0           1               0               \n",
       "86  0           0           0           1               0               \n",
       "87  0           1           0           1               0               \n",
       "88  0           0           0           1               0               \n",
       "89  0           0           0           1               1               \n",
       "90  0           0           0           1               1               \n",
       "91  0           0           0           1               0               \n",
       "92  0           0           0           0               1               \n",
       "93  0           1           0           0               1               \n",
       "94  0           0           0           1               0               \n",
       "95  0           0           0           1               0               \n",
       "96  0           0           0           1               1               "
      ]
     },
     "metadata": {},
     "output_type": "display_data"
    }
   ],
   "source": [
    "# 결측치 제거\n",
    "\n",
    "total[is.na(total)] <- 0\n",
    "total"
   ]
  },
  {
   "cell_type": "code",
   "execution_count": null,
   "metadata": {},
   "outputs": [],
   "source": []
  },
  {
   "cell_type": "code",
   "execution_count": 3,
   "metadata": {},
   "outputs": [
    {
     "data": {
      "text/plain": [
       "\n",
       "Call:\n",
       "glm(formula = comp ~ sex + definition + need + purpose_clothes + \n",
       "    purpose_cosmetic + interest + age_class, family = binomial, \n",
       "    data = total)\n",
       "\n",
       "Deviance Residuals: \n",
       "     Min        1Q    Median        3Q       Max  \n",
       "-0.91974  -0.33018  -0.21494  -0.00009   2.65833  \n",
       "\n",
       "Coefficients:\n",
       "                    Estimate Std. Error z value Pr(>|z|)  \n",
       "(Intercept)       -2.277e+01  3.526e+03  -0.006   0.9948  \n",
       "sexMale            3.238e+00  1.804e+00   1.795   0.0726 .\n",
       "definitionharmony  1.742e+01  3.526e+03   0.005   0.9961  \n",
       "needharmony       -7.306e-01  1.298e+00  -0.563   0.5734  \n",
       "purpose_clothes    3.781e-04  1.802e+00   0.000   0.9998  \n",
       "purpose_cosmetic   2.192e+00  1.835e+00   1.194   0.2325  \n",
       "interest           1.271e-01  4.378e-01   0.290   0.7715  \n",
       "age_class         -1.256e-02  5.705e-02  -0.220   0.8258  \n",
       "---\n",
       "Signif. codes:  0 '***' 0.001 '**' 0.01 '*' 0.05 '.' 0.1 ' ' 1\n",
       "\n",
       "(Dispersion parameter for binomial family taken to be 1)\n",
       "\n",
       "    Null deviance: 33.255  on 95  degrees of freedom\n",
       "Residual deviance: 26.849  on 88  degrees of freedom\n",
       "AIC: 42.849\n",
       "\n",
       "Number of Fisher Scoring iterations: 19\n"
      ]
     },
     "metadata": {},
     "output_type": "display_data"
    }
   ],
   "source": [
    "# 로지스틱 회귀분석 \n",
    "# 종속변수가 이항변수인 경우에 사용 \n",
    "\n",
    "result <- glm(comp ~ sex + definition + need + purpose_clothes + purpose_cosmetic \n",
    "              + interest + age_class, family=binomial, data=total)\n",
    "\n",
    "summary(result)"
   ]
  },
  {
   "cell_type": "markdown",
   "metadata": {},
   "source": [
    "### glm() 설명\n",
    "\n",
    "    + Call\n",
    "     : 구축한 모형에 대해 다시 상기\n",
    "    + Deviance Residuals\n",
    "    : Deviance residual에 대한 정보를 알려주는데, model fitting이 잘 되었는지에 대한 measure이다. \n",
    "      이를 통해 모델이 잘 적합됐는지를 평가할 수 있다.\n",
    "    + Coefficient\n",
    "     : 회귀계수와 그것들의 표준편차, z-statistics(wals's z-statistics), p-value를 나타낸다.\n",
    "     : p-value가 0.05보다 작은 변수 통계적으로 유의하다고 해석 할 수 있다 \n",
    "     : p-value가 가장 낮은 것 예측력이 좀 더 강한것\n",
    "     \n",
    "----------------------------\n",
    "### 결과 해석\n",
    "\n",
    "    p-value 값이 0.05보다 작은 변수가 통계적으로 유의하다고 해석 할 수 있다\n",
    "    하지만 주어진 결과값을 보면 \n",
    "    모든 변수의 p-value 값이 0.05보다 크기 때문에 \n",
    "    모든 변수가 통계적으로 유의하다고 볼 수 없다"
   ]
  },
  {
   "cell_type": "code",
   "execution_count": null,
   "metadata": {},
   "outputs": [],
   "source": []
  },
  {
   "cell_type": "code",
   "execution_count": 4,
   "metadata": {},
   "outputs": [
    {
     "name": "stderr",
     "output_type": "stream",
     "text": [
      "Warning message:\n",
      "\"package 'car' was built under R version 3.6.3\"Loading required package: carData\n"
     ]
    },
    {
     "data": {
      "text/html": [
       "<dl class=dl-horizontal>\n",
       "\t<dt>sex</dt>\n",
       "\t\t<dd>1.50449421996316</dd>\n",
       "\t<dt>definition</dt>\n",
       "\t\t<dd>1.00000003184469</dd>\n",
       "\t<dt>need</dt>\n",
       "\t\t<dd>1.06355126809827</dd>\n",
       "\t<dt>purpose_clothes</dt>\n",
       "\t\t<dd>1.36940374676163</dd>\n",
       "\t<dt>purpose_cosmetic</dt>\n",
       "\t\t<dd>1.70145776269596</dd>\n",
       "\t<dt>interest</dt>\n",
       "\t\t<dd>1.06502533039289</dd>\n",
       "\t<dt>age_class</dt>\n",
       "\t\t<dd>1.09500636334636</dd>\n",
       "</dl>\n"
      ],
      "text/latex": [
       "\\begin{description*}\n",
       "\\item[sex] 1.50449421996316\n",
       "\\item[definition] 1.00000003184469\n",
       "\\item[need] 1.06355126809827\n",
       "\\item[purpose\\textbackslash{}\\_clothes] 1.36940374676163\n",
       "\\item[purpose\\textbackslash{}\\_cosmetic] 1.70145776269596\n",
       "\\item[interest] 1.06502533039289\n",
       "\\item[age\\textbackslash{}\\_class] 1.09500636334636\n",
       "\\end{description*}\n"
      ],
      "text/markdown": [
       "sex\n",
       ":   1.50449421996316definition\n",
       ":   1.00000003184469need\n",
       ":   1.06355126809827purpose_clothes\n",
       ":   1.36940374676163purpose_cosmetic\n",
       ":   1.70145776269596interest\n",
       ":   1.06502533039289age_class\n",
       ":   1.09500636334636\n",
       "\n"
      ],
      "text/plain": [
       "             sex       definition             need  purpose_clothes \n",
       "        1.504494         1.000000         1.063551         1.369404 \n",
       "purpose_cosmetic         interest        age_class \n",
       "        1.701458         1.065025         1.095006 "
      ]
     },
     "metadata": {},
     "output_type": "display_data"
    }
   ],
   "source": [
    "# 다중공선성\n",
    "library(car)\n",
    "\n",
    "sqrt(vif(result))\n",
    "# 2 넘는 건 없다 "
   ]
  },
  {
   "cell_type": "markdown",
   "metadata": {},
   "source": [
    "### sqrt(vif()) 설명\n",
    "\n",
    "    다중공선성 \n",
    "    서로 관련 없는 것 기리 묶여있어야 한다\n",
    "    2보다 크면 다중공선성에 문제가 있다고 판단\n",
    "\n",
    "--------------------------\n",
    "### 결과 해석\n",
    "\n",
    "    vif의 결과를 보면 2를 넘는 값이 없다\n",
    "    따라서 각각의 변수들은 다중공선성에 문제가 없다고 판단됨"
   ]
  },
  {
   "cell_type": "code",
   "execution_count": null,
   "metadata": {},
   "outputs": [],
   "source": []
  },
  {
   "cell_type": "code",
   "execution_count": 5,
   "metadata": {},
   "outputs": [
    {
     "name": "stdout",
     "output_type": "stream",
     "text": [
      "Start:  AIC=42.85\n",
      "comp ~ sex + definition + need + purpose_clothes + purpose_cosmetic + \n",
      "    interest + age_class\n",
      "\n",
      "                   Df Deviance    AIC\n",
      "- purpose_clothes   1   26.849 40.849\n",
      "- age_class         1   26.899 40.899\n",
      "- interest          1   26.934 40.934\n",
      "- need              1   27.144 41.144\n",
      "- purpose_cosmetic  1   28.218 42.218\n",
      "- definition        1   28.322 42.322\n",
      "<none>                  26.849 42.849\n",
      "- sex               1   30.864 44.864\n",
      "\n",
      "Step:  AIC=40.85\n",
      "comp ~ sex + definition + need + purpose_cosmetic + interest + \n",
      "    age_class\n",
      "\n",
      "                   Df Deviance    AIC\n",
      "- age_class         1   26.902 38.902\n",
      "- interest          1   26.937 38.937\n",
      "- need              1   27.144 39.144\n",
      "- definition        1   28.336 40.336\n",
      "<none>                  26.849 40.849\n",
      "- purpose_cosmetic  1   29.025 41.025\n",
      "+ purpose_clothes   1   26.849 42.849\n",
      "- sex               1   31.098 43.098\n",
      "\n",
      "Step:  AIC=38.9\n",
      "comp ~ sex + definition + need + purpose_cosmetic + interest\n",
      "\n",
      "                   Df Deviance    AIC\n",
      "- interest          1   26.964 36.964\n",
      "- need              1   27.186 37.186\n",
      "- definition        1   28.370 38.370\n",
      "<none>                  26.902 38.902\n",
      "- purpose_cosmetic  1   29.027 39.027\n",
      "+ age_class         1   26.849 40.849\n",
      "+ purpose_clothes   1   26.899 40.899\n",
      "- sex               1   31.098 41.098\n",
      "\n",
      "Step:  AIC=36.96\n",
      "comp ~ sex + definition + need + purpose_cosmetic\n",
      "\n",
      "                   Df Deviance    AIC\n",
      "- need              1   27.230 35.230\n",
      "- definition        1   28.379 36.379\n",
      "<none>                  26.964 36.964\n",
      "- purpose_cosmetic  1   29.117 37.117\n",
      "+ interest          1   26.902 38.902\n",
      "+ age_class         1   26.937 38.937\n",
      "+ purpose_clothes   1   26.964 38.964\n",
      "- sex               1   31.101 39.101\n",
      "\n",
      "Step:  AIC=35.23\n",
      "comp ~ sex + definition + purpose_cosmetic\n",
      "\n",
      "                   Df Deviance    AIC\n",
      "- definition        1   28.386 34.386\n",
      "- purpose_cosmetic  1   29.211 35.211\n",
      "<none>                  27.230 35.230\n",
      "+ need              1   26.964 36.964\n",
      "- sex               1   31.110 37.110\n",
      "+ interest          1   27.186 37.186\n",
      "+ age_class         1   27.210 37.210\n",
      "+ purpose_clothes   1   27.230 37.230\n",
      "\n",
      "Step:  AIC=34.39\n",
      "comp ~ sex + purpose_cosmetic\n",
      "\n",
      "                   Df Deviance    AIC\n",
      "<none>                  28.386 34.386\n",
      "- purpose_cosmetic  1   30.681 34.681\n",
      "+ definition        1   27.230 35.230\n",
      "+ age_class         1   28.364 36.364\n",
      "+ purpose_clothes   1   28.371 36.371\n",
      "+ interest          1   28.377 36.377\n",
      "+ need              1   28.379 36.379\n",
      "- sex               1   33.248 37.248\n"
     ]
    }
   ],
   "source": [
    "# 일부가 선형성을 만족하지 않을 때 사용하는 함수\n",
    "# backward dlimination방법으로 stepwise logistic regression\n",
    "\n",
    "reduced.model = step(result, direction=\"both\")"
   ]
  },
  {
   "cell_type": "markdown",
   "metadata": {},
   "source": [
    "### step() 설명\n",
    "\n",
    "    * 변수 선택법의 '단계적 방법(Stepwise Selection)'\n",
    "     : 기준 통계치에 가장 도움이 되지 않는 변수를 삭제하거나, \n",
    "       모델에서 빠져있는 변수 중에서 기준 통계치를 가장 개선시키는 변수를 추가 \n",
    "       이러한 변수의 추가 삭제 반복\n",
    "     : 단계별로  AIC를 가장 작게 만드는 변수 제거 시킴\n",
    "\n",
    "    * AIC(Akaike Information Criterion)\n",
    "     : 작을수록 더 좋은 모델을 뜻함\n",
    "     : AIC를 가장 작게 만드는 변수가 무엇인지 알아보기\n",
    "\n",
    "    * '-' \n",
    "     : 각 변수를 삭제했을 때 AIC의 변화 표현\n",
    " \n",
    "-------------------------------\n",
    "### 결과 해석\n",
    "\n",
    "    최종적으로 \n",
    "    AIC = 34.39\n",
    "    purpose_cosmetic, sex 변수가 남음\n",
    "    두 변수는 통계치에 도움이 된다는 것을 의미? \n"
   ]
  },
  {
   "cell_type": "code",
   "execution_count": null,
   "metadata": {},
   "outputs": [],
   "source": []
  },
  {
   "cell_type": "code",
   "execution_count": 13,
   "metadata": {},
   "outputs": [
    {
     "data": {
      "text/plain": [
       "Subset selection object\n",
       "Call: regsubsets.formula(comp ~ sex + definition + need + purpose_clothes + \n",
       "    purpose_cosmetic + interest + age_class, data = total)\n",
       "7 Variables  (and intercept)\n",
       "                  Forced in Forced out\n",
       "sexMale               FALSE      FALSE\n",
       "definitionharmony     FALSE      FALSE\n",
       "needharmony           FALSE      FALSE\n",
       "purpose_clothes       FALSE      FALSE\n",
       "purpose_cosmetic      FALSE      FALSE\n",
       "interest              FALSE      FALSE\n",
       "age_class             FALSE      FALSE\n",
       "1 subsets of each size up to 7\n",
       "Selection Algorithm: exhaustive\n",
       "         sexMale definitionharmony needharmony purpose_clothes purpose_cosmetic\n",
       "1  ( 1 ) \"*\"     \" \"               \" \"         \" \"             \" \"             \n",
       "2  ( 1 ) \"*\"     \" \"               \" \"         \" \"             \"*\"             \n",
       "3  ( 1 ) \"*\"     \"*\"               \" \"         \" \"             \"*\"             \n",
       "4  ( 1 ) \"*\"     \"*\"               \"*\"         \" \"             \"*\"             \n",
       "5  ( 1 ) \"*\"     \"*\"               \"*\"         \"*\"             \"*\"             \n",
       "6  ( 1 ) \"*\"     \"*\"               \"*\"         \"*\"             \"*\"             \n",
       "7  ( 1 ) \"*\"     \"*\"               \"*\"         \"*\"             \"*\"             \n",
       "         interest age_class\n",
       "1  ( 1 ) \" \"      \" \"      \n",
       "2  ( 1 ) \" \"      \" \"      \n",
       "3  ( 1 ) \" \"      \" \"      \n",
       "4  ( 1 ) \" \"      \" \"      \n",
       "5  ( 1 ) \" \"      \" \"      \n",
       "6  ( 1 ) \" \"      \"*\"      \n",
       "7  ( 1 ) \"*\"      \"*\"      "
      ]
     },
     "metadata": {},
     "output_type": "display_data"
    }
   ],
   "source": [
    "# 모든 변수가 선형성을 만족하지 않을 때 사용하는 함수\n",
    "# install.packages(\"leaps\")\n",
    "library(leaps)\n",
    "\n",
    "result2 <- regsubsets(comp ~ sex + definition + need + purpose_clothes + purpose_cosmetic \n",
    "              + interest + age_class, data = total)\n",
    "summary(result2)"
   ]
  },
  {
   "cell_type": "markdown",
   "metadata": {},
   "source": [
    "### regsubsets() 설명\n",
    "    N개의 설명변수가 있을 때, 각 변수를 추가하거나 뺀 총 2N개의 회귀모델을 만들고 \n",
    "    이들 모두를 비교하는 방법\n",
    "    \n",
    "    1, 2, 3, ..., 7 : 변수의 개수, 모델의 크기\n",
    "    \n",
    "    * : 변수가 해당 개수만큼 사용되었을 때 최적의 모델\n",
    "    \n",
    "    첫번째 행에 *이 있는 변수를 포함한 모델이 가장 좋다는 의미\n",
    "    \n",
    "--------------------\n",
    "### 결과 해석\n",
    "    1행을 봤을 때 *은 sexMale에 위치해있다 \n",
    "    sexMale만을 포함한 모델이 가장 좋다는 것을 의미\n",
    "    \n",
    "    *의 생성 순서\n",
    "    sexMale > purpose_cosmetic > definitionharmony > needharmony > purpose_clothes > age_class > interest"
   ]
  },
  {
   "cell_type": "code",
   "execution_count": null,
   "metadata": {},
   "outputs": [],
   "source": []
  },
  {
   "cell_type": "code",
   "execution_count": 17,
   "metadata": {},
   "outputs": [
    {
     "data": {
      "text/html": [
       "<ol class=list-inline>\n",
       "\t<li>6.41429327349982</li>\n",
       "\t<li>9.16306920403228</li>\n",
       "\t<li>13.3132387130152</li>\n",
       "\t<li>17.7672004268649</li>\n",
       "\t<li>22.2677882005106</li>\n",
       "\t<li>26.8239678610681</li>\n",
       "\t<li>31.3875643347568</li>\n",
       "</ol>\n"
      ],
      "text/latex": [
       "\\begin{enumerate*}\n",
       "\\item 6.41429327349982\n",
       "\\item 9.16306920403228\n",
       "\\item 13.3132387130152\n",
       "\\item 17.7672004268649\n",
       "\\item 22.2677882005106\n",
       "\\item 26.8239678610681\n",
       "\\item 31.3875643347568\n",
       "\\end{enumerate*}\n"
      ],
      "text/markdown": [
       "1. 6.41429327349982\n",
       "2. 9.16306920403228\n",
       "3. 13.3132387130152\n",
       "4. 17.7672004268649\n",
       "5. 22.2677882005106\n",
       "6. 26.8239678610681\n",
       "7. 31.3875643347568\n",
       "\n",
       "\n"
      ],
      "text/plain": [
       "[1]  6.414293  9.163069 13.313239 17.767200 22.267788 26.823968 31.387564"
      ]
     },
     "metadata": {},
     "output_type": "display_data"
    },
    {
     "data": {
      "image/png": "[encoded data removed]",
      "text/plain": [
       "plot without title"
      ]
     },
     "metadata": {},
     "output_type": "display_data"
    }
   ],
   "source": [
    "# BIC(Bayes Information Criterion)\n",
    "summary(result2)$bic\n",
    "\n",
    "# plot()을 이용하여 BIC 그려보기\n",
    "# 각변수가 선택되었을 때의 BIC를 좀 더 쉽게 알 수 있다 \n",
    "plot(result2, scale=\"bic\")"
   ]
  },
  {
   "cell_type": "code",
   "execution_count": 16,
   "metadata": {},
   "outputs": [
    {
     "data": {
      "image/png": "[encoded data removed]",
      "text/plain": [
       "plot without title"
      ]
     },
     "metadata": {},
     "output_type": "display_data"
    }
   ],
   "source": [
    "# 수정결정계수\n",
    "summary(result2)$adjr2\n",
    "\n",
    "# plot()을 이용하여 수정결정계수 그려보기\n",
    "# 각변수가 선택되었을 때의 수정 결정 계수를 좀 더 쉽게 알 수 있다 \n",
    "plot(result2, scale=\"adjr2\")"
   ]
  },
  {
   "cell_type": "code",
   "execution_count": null,
   "metadata": {},
   "outputs": [],
   "source": []
  },
  {
   "cell_type": "code",
   "execution_count": 45,
   "metadata": {},
   "outputs": [
    {
     "data": {
      "text/plain": [
       "\n",
       "\tShapiro-Wilk normality test\n",
       "\n",
       "data:  resid(out0)\n",
       "W = 0.39922, p-value < 2.2e-16\n"
      ]
     },
     "metadata": {},
     "output_type": "display_data"
    },
    {
     "data": {
      "text/plain": [
       "\n",
       "\tShapiro-Wilk normality test\n",
       "\n",
       "data:  resid(out1)\n",
       "W = 0.31387, p-value < 2.2e-16\n"
      ]
     },
     "metadata": {},
     "output_type": "display_data"
    },
    {
     "data": {
      "text/plain": [
       "\n",
       "\tShapiro-Wilk normality test\n",
       "\n",
       "data:  resid(out2)\n",
       "W = 0.26646, p-value < 2.2e-16\n"
      ]
     },
     "metadata": {},
     "output_type": "display_data"
    },
    {
     "data": {
      "text/plain": [
       "\n",
       "\tShapiro-Wilk normality test\n",
       "\n",
       "data:  resid(out3)\n",
       "W = 0.23475, p-value < 2.2e-16\n"
      ]
     },
     "metadata": {},
     "output_type": "display_data"
    },
    {
     "data": {
      "text/plain": [
       "\n",
       "\tShapiro-Wilk normality test\n",
       "\n",
       "data:  resid(out4)\n",
       "W = 0.21603, p-value < 2.2e-16\n"
      ]
     },
     "metadata": {},
     "output_type": "display_data"
    },
    {
     "data": {
      "text/plain": [
       "\n",
       "\tShapiro-Wilk normality test\n",
       "\n",
       "data:  resid(out5)\n",
       "W = 0.20587, p-value < 2.2e-16\n"
      ]
     },
     "metadata": {},
     "output_type": "display_data"
    },
    {
     "data": {
      "text/plain": [
       "\n",
       "\tShapiro-Wilk normality test\n",
       "\n",
       "data:  resid(out6)\n",
       "W = 0.20602, p-value < 2.2e-16\n"
      ]
     },
     "metadata": {},
     "output_type": "display_data"
    },
    {
     "data": {
      "text/plain": [
       "\n",
       "\tShapiro-Wilk normality test\n",
       "\n",
       "data:  resid(out7)\n",
       "W = 0.20172, p-value < 2.2e-16\n"
      ]
     },
     "metadata": {},
     "output_type": "display_data"
    }
   ],
   "source": [
    "# 정규분포 확인\n",
    "# p-value 0.05보다 크면 정규분포O\n",
    "# p-value 0.05보다 작으면 정규분포X\n",
    "\n",
    "out0 <- aov(result)\n",
    "shapiro.test(resid(out0))\n",
    "# 정규분포 X\n",
    "\n",
    "out1 <- aov(comp ~ sex, data = total)\n",
    "shapiro.test(resid(out1))\n",
    "# 정규분포 X\n",
    "\n",
    "out2 <- aov(comp ~ definition, data = total)\n",
    "shapiro.test(resid(out2))\n",
    "# 정규분포 X\n",
    "\n",
    "out3 <- aov(comp ~ need , data = total)\n",
    "shapiro.test(resid(out3))\n",
    "# 정규분포 X\n",
    "\n",
    "out4 <- aov(comp ~ purpose_clothes, data = total)\n",
    "shapiro.test(resid(out4))\n",
    "# 정규분포 X\n",
    "\n",
    "out5 <- aov(comp ~ purpose_cosmetic, data = total)\n",
    "shapiro.test(resid(out5))\n",
    "# 정규분포 X\n",
    "\n",
    "out6 <- aov(comp ~ interest, data = total)\n",
    "shapiro.test(resid(out6))\n",
    "# 정규분포 X\n",
    "\n",
    "out7 <- aov(comp ~ age_class, data = total)\n",
    "shapiro.test(resid(out7))\n",
    "# 정규분포 X"
   ]
  },
  {
   "cell_type": "markdown",
   "metadata": {},
   "source": [
    "### 결과 해석\n",
    "\n",
    "    모든 변수가 정규분포를 이루지 않음"
   ]
  },
  {
   "cell_type": "code",
   "execution_count": null,
   "metadata": {},
   "outputs": [],
   "source": []
  },
  {
   "cell_type": "code",
   "execution_count": 35,
   "metadata": {},
   "outputs": [
    {
     "data": {
      "text/plain": [
       "\n",
       "\tBartlett test of homogeneity of variances\n",
       "\n",
       "data:  comp by sex\n",
       "Bartlett's K-squared = 28.49, df = 1, p-value = 9.42e-08\n"
      ]
     },
     "metadata": {},
     "output_type": "display_data"
    },
    {
     "data": {
      "text/plain": [
       "\n",
       "\tBartlett test of homogeneity of variances\n",
       "\n",
       "data:  comp by definition\n",
       "Bartlett's K-squared = Inf, df = 1, p-value < 2.2e-16\n"
      ]
     },
     "metadata": {},
     "output_type": "display_data"
    },
    {
     "data": {
      "text/plain": [
       "\n",
       "\tBartlett test of homogeneity of variances\n",
       "\n",
       "data:  comp by need\n",
       "Bartlett's K-squared = 3.1381, df = 1, p-value = 0.07648\n"
      ]
     },
     "metadata": {},
     "output_type": "display_data"
    },
    {
     "data": {
      "text/plain": [
       "\n",
       "\tBartlett test of homogeneity of variances\n",
       "\n",
       "data:  comp by purpose_clothes\n",
       "Bartlett's K-squared = 0.81704, df = 1, p-value = 0.366\n"
      ]
     },
     "metadata": {},
     "output_type": "display_data"
    },
    {
     "data": {
      "text/plain": [
       "\n",
       "\tBartlett test of homogeneity of variances\n",
       "\n",
       "data:  comp by purpose_cosmetic\n",
       "Bartlett's K-squared = 0.077204, df = 1, p-value = 0.7811\n"
      ]
     },
     "metadata": {},
     "output_type": "display_data"
    },
    {
     "data": {
      "text/plain": [
       "\n",
       "\tBartlett test of homogeneity of variances\n",
       "\n",
       "data:  comp by interest\n",
       "Bartlett's K-squared = Inf, df = 4, p-value < 2.2e-16\n"
      ]
     },
     "metadata": {},
     "output_type": "display_data"
    },
    {
     "data": {
      "text/plain": [
       "\n",
       "\tBartlett test of homogeneity of variances\n",
       "\n",
       "data:  comp by age_class\n",
       "Bartlett's K-squared = Inf, df = 4, p-value < 2.2e-16\n"
      ]
     },
     "metadata": {},
     "output_type": "display_data"
    }
   ],
   "source": [
    "# 등분산 확인\n",
    "# p-value 0.05보다 크면 등분산O\n",
    "# p-value 0.05보다 작으면 등분산X\n",
    "\n",
    "bartlett.test(comp ~ sex, data = total)\n",
    "# 등분산X\n",
    "\n",
    "bartlett.test(comp ~ definition , data = total)\n",
    "# 등분산X\n",
    "\n",
    "bartlett.test(comp ~  need, data = total)\n",
    "# 등분산O\n",
    "\n",
    "bartlett.test(comp ~ purpose_clothes , data = total)\n",
    "# 등분산O\n",
    "\n",
    "bartlett.test(comp ~ purpose_cosmetic, data = total)\n",
    "# 등분산O\n",
    "\n",
    "bartlett.test(comp ~ interest, data = total)\n",
    "# 등분산X\n",
    "\n",
    "bartlett.test(comp ~ age_class, data = total)\n",
    "# 등분산X"
   ]
  },
  {
   "cell_type": "markdown",
   "metadata": {},
   "source": [
    "### 결과 해석\n",
    "\n",
    "need, purpose_clothes, purpose_cosmetic 등분산 성립\n",
    "그 외 나머지는 등분산 성립하지 않음"
   ]
  },
  {
   "cell_type": "code",
   "execution_count": null,
   "metadata": {},
   "outputs": [],
   "source": []
  },
  {
   "cell_type": "markdown",
   "metadata": {},
   "source": [
    "### 최종 결론\n",
    "\n",
    "    선형회귀분석의 가장 먼저 되어야하는 조건은 정규분포를 이뤄야하는 것이라 생각됨\n",
    "    하지만 위의 결과로 보면 모든 변수는 정규분포를 이루지 않음\n",
    "    그렇기에 우리 자료에 선형회귀분석을 사용하는 것이 맞는건지 의문스러움 "
   ]
  }
 ],
 "metadata": {
  "kernelspec": {
   "display_name": "R",
   "language": "R",
   "name": "ir"
  },
  "language_info": {
   "codemirror_mode": "r",
   "file_extension": ".r",
   "mimetype": "text/x-r-source",
   "name": "R",
   "pygments_lexer": "r",
   "version": "3.6.1"
  }
 },
 "nbformat": 4,
 "nbformat_minor": 4
}
