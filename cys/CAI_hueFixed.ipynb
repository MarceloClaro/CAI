{
 "cells": [
  {
   "cell_type": "markdown",
   "metadata": {},
   "source": [
    " ## 기준색에 대하여 대비이론에 따르는 색(H 고정)\n",
    " \n",
    "    최초 작성일 : 2020/03/07\n",
    "    작성자 : 조예슬 \n",
    " \n",
    "    < 작성 내용 >\n",
    "    \n",
    "        - kruskal.test를 이용하여 가설검정"
   ]
  },
  {
   "cell_type": "code",
   "execution_count": 2,
   "metadata": {},
   "outputs": [
    {
     "name": "stdout",
     "output_type": "stream",
     "text": [
      "'data.frame':\t210 obs. of  8 variables:\n",
      " $ X          : int  0 1 2 3 4 5 6 7 8 9 ...\n",
      " $ comp       : Factor w/ 5 levels \"-S-V\",\"-S+V\",..: 2 4 3 2 2 5 3 4 1 4 ...\n",
      " $ triangle1  : Factor w/ 5 levels \"-S-V\",\"-S+V\",..: 4 2 4 4 4 1 5 4 1 2 ...\n",
      " $ triangle2  : Factor w/ 5 levels \"-S-V\",\"-S+V\",..: 2 3 4 2 2 2 3 2 2 4 ...\n",
      " $ doubleness1: Factor w/ 5 levels \"-S-V\",\"-S+V\",..: 4 2 5 2 4 3 5 2 1 4 ...\n",
      " $ doubleness2: Factor w/ 5 levels \"-S-V\",\"-S+V\",..: 4 5 2 4 2 1 5 1 5 2 ...\n",
      " $ doubleness3: Factor w/ 5 levels \"-S-V\",\"-S+V\",..: 2 4 4 4 2 1 4 4 1 2 ...\n",
      " $ class      : Factor w/ 2 levels \"bright\",\"harmony\": 1 1 1 1 1 1 1 1 1 1 ...\n"
     ]
    },
    {
     "data": {
      "text/html": [
       "<table>\n",
       "<thead><tr><th scope=col>X</th><th scope=col>comp</th><th scope=col>triangle1</th><th scope=col>triangle2</th><th scope=col>doubleness1</th><th scope=col>doubleness2</th><th scope=col>doubleness3</th><th scope=col>class</th></tr></thead>\n",
       "<tbody>\n",
       "\t<tr><td>0       </td><td>-S+V    </td><td>+S+V    </td><td>-S+V    </td><td>+S+V    </td><td>+S+V    </td><td>-S+V    </td><td>bright  </td></tr>\n",
       "\t<tr><td>1       </td><td>+S+V    </td><td>-S+V    </td><td>+S-V    </td><td>-S+V    </td><td>original</td><td>+S+V    </td><td>bright  </td></tr>\n",
       "\t<tr><td>2       </td><td>+S-V    </td><td>+S+V    </td><td>+S+V    </td><td>original</td><td>-S+V    </td><td>+S+V    </td><td>bright  </td></tr>\n",
       "\t<tr><td>3       </td><td>-S+V    </td><td>+S+V    </td><td>-S+V    </td><td>-S+V    </td><td>+S+V    </td><td>+S+V    </td><td>bright  </td></tr>\n",
       "\t<tr><td>4       </td><td>-S+V    </td><td>+S+V    </td><td>-S+V    </td><td>+S+V    </td><td>-S+V    </td><td>-S+V    </td><td>bright  </td></tr>\n",
       "\t<tr><td>5       </td><td>original</td><td>-S-V    </td><td>-S+V    </td><td>+S-V    </td><td>-S-V    </td><td>-S-V    </td><td>bright  </td></tr>\n",
       "</tbody>\n",
       "</table>\n"
      ],
      "text/latex": [
       "\\begin{tabular}{r|llllllll}\n",
       " X & comp & triangle1 & triangle2 & doubleness1 & doubleness2 & doubleness3 & class\\\\\n",
       "\\hline\n",
       "\t 0        & -S+V     & +S+V     & -S+V     & +S+V     & +S+V     & -S+V     & bright  \\\\\n",
       "\t 1        & +S+V     & -S+V     & +S-V     & -S+V     & original & +S+V     & bright  \\\\\n",
       "\t 2        & +S-V     & +S+V     & +S+V     & original & -S+V     & +S+V     & bright  \\\\\n",
       "\t 3        & -S+V     & +S+V     & -S+V     & -S+V     & +S+V     & +S+V     & bright  \\\\\n",
       "\t 4        & -S+V     & +S+V     & -S+V     & +S+V     & -S+V     & -S+V     & bright  \\\\\n",
       "\t 5        & original & -S-V     & -S+V     & +S-V     & -S-V     & -S-V     & bright  \\\\\n",
       "\\end{tabular}\n"
      ],
      "text/markdown": [
       "\n",
       "| X | comp | triangle1 | triangle2 | doubleness1 | doubleness2 | doubleness3 | class |\n",
       "|---|---|---|---|---|---|---|---|\n",
       "| 0        | -S+V     | +S+V     | -S+V     | +S+V     | +S+V     | -S+V     | bright   |\n",
       "| 1        | +S+V     | -S+V     | +S-V     | -S+V     | original | +S+V     | bright   |\n",
       "| 2        | +S-V     | +S+V     | +S+V     | original | -S+V     | +S+V     | bright   |\n",
       "| 3        | -S+V     | +S+V     | -S+V     | -S+V     | +S+V     | +S+V     | bright   |\n",
       "| 4        | -S+V     | +S+V     | -S+V     | +S+V     | -S+V     | -S+V     | bright   |\n",
       "| 5        | original | -S-V     | -S+V     | +S-V     | -S-V     | -S-V     | bright   |\n",
       "\n"
      ],
      "text/plain": [
       "  X comp     triangle1 triangle2 doubleness1 doubleness2 doubleness3 class \n",
       "1 0 -S+V     +S+V      -S+V      +S+V        +S+V        -S+V        bright\n",
       "2 1 +S+V     -S+V      +S-V      -S+V        original    +S+V        bright\n",
       "3 2 +S-V     +S+V      +S+V      original    -S+V        +S+V        bright\n",
       "4 3 -S+V     +S+V      -S+V      -S+V        +S+V        +S+V        bright\n",
       "5 4 -S+V     +S+V      -S+V      +S+V        -S+V        -S+V        bright\n",
       "6 5 original -S-V      -S+V      +S-V        -S-V        -S-V        bright"
      ]
     },
     "metadata": {},
     "output_type": "display_data"
    }
   ],
   "source": [
    "# 데이터 불러오기\n",
    "\n",
    "hueFixed <- read.csv(\"C:/Users/cho ye seul/Documents/예슬/Acorn/FinalProject/Statistical Analysis/hueFixed.csv\")\n",
    "str(hueFixed)\n",
    "head(hueFixed)"
   ]
  },
  {
   "cell_type": "code",
   "execution_count": null,
   "metadata": {},
   "outputs": [],
   "source": []
  },
  {
   "cell_type": "markdown",
   "metadata": {},
   "source": [
    "### bright"
   ]
  },
  {
   "cell_type": "code",
   "execution_count": 3,
   "metadata": {},
   "outputs": [
    {
     "name": "stdout",
     "output_type": "stream",
     "text": [
      "19 44 11 22 18"
     ]
    },
    {
     "data": {
      "text/html": [
       "<table>\n",
       "<thead><tr><th scope=col>origin</th><th scope=col>-S-V</th><th scope=col>-S+V</th><th scope=col>+S+V</th><th scope=col>+S-V</th></tr></thead>\n",
       "<tbody>\n",
       "\t<tr><td>19</td><td>44</td><td>11</td><td>22</td><td>18</td></tr>\n",
       "\t<tr><td>29</td><td>32</td><td>11</td><td>37</td><td> 5</td></tr>\n",
       "\t<tr><td>16</td><td>35</td><td> 5</td><td>29</td><td>29</td></tr>\n",
       "\t<tr><td>16</td><td>30</td><td>17</td><td>33</td><td>18</td></tr>\n",
       "\t<tr><td>23</td><td>40</td><td>11</td><td>21</td><td>19</td></tr>\n",
       "\t<tr><td>25</td><td>30</td><td>15</td><td>24</td><td>20</td></tr>\n",
       "</tbody>\n",
       "</table>\n"
      ],
      "text/latex": [
       "\\begin{tabular}{lllll}\n",
       " origin & -S-V & -S+V & +S+V & +S-V\\\\\n",
       "\\hline\n",
       "\t 19 & 44 & 11 & 22 & 18\\\\\n",
       "\t 29 & 32 & 11 & 37 &  5\\\\\n",
       "\t 16 & 35 &  5 & 29 & 29\\\\\n",
       "\t 16 & 30 & 17 & 33 & 18\\\\\n",
       "\t 23 & 40 & 11 & 21 & 19\\\\\n",
       "\t 25 & 30 & 15 & 24 & 20\\\\\n",
       "\\end{tabular}\n"
      ],
      "text/markdown": [
       "\n",
       "| origin | -S-V | -S+V | +S+V | +S-V |\n",
       "|---|---|---|---|---|\n",
       "| 19 | 44 | 11 | 22 | 18 |\n",
       "| 29 | 32 | 11 | 37 |  5 |\n",
       "| 16 | 35 |  5 | 29 | 29 |\n",
       "| 16 | 30 | 17 | 33 | 18 |\n",
       "| 23 | 40 | 11 | 21 | 19 |\n",
       "| 25 | 30 | 15 | 24 | 20 |\n",
       "\n"
      ],
      "text/plain": [
       "     origin -S-V -S+V +S+V +S-V\n",
       "[1,] 19     44   11   22   18  \n",
       "[2,] 29     32   11   37    5  \n",
       "[3,] 16     35    5   29   29  \n",
       "[4,] 16     30   17   33   18  \n",
       "[5,] 23     40   11   21   19  \n",
       "[6,] 25     30   15   24   20  "
      ]
     },
     "metadata": {},
     "output_type": "display_data"
    }
   ],
   "source": [
    "# 'class = bright' DataFrame 만들기\n",
    "\n",
    "## comp\n",
    "comp1 <- with(hueFixed, length(which(class == \"bright\" & comp == \"-S-V\")))\n",
    "comp2 <- with(hueFixed, length(which(class == \"bright\" & comp == \"-S+V\")))\n",
    "comp3 <- with(hueFixed, length(which(class == \"bright\" & comp == \"original\")))\n",
    "comp4 <- with(hueFixed, length(which(class == \"bright\" & comp == \"+S+V\")))\n",
    "comp5 <- with(hueFixed, length(which(class == \"bright\" & comp == \"+S-V\")))\n",
    "\n",
    "# cat(comp1, comp2, comp3, comp4, comp5)\n",
    "\n",
    "## triangle1\n",
    "tri1_1 <- with(hueFixed, length(which(class == \"bright\" & triangle1 == \"-S-V\")))\n",
    "tri1_2 <- with(hueFixed, length(which(class == \"bright\" & triangle1 == \"-S+V\")))\n",
    "tri1_3 <- with(hueFixed, length(which(class == \"bright\" & triangle1 == \"original\")))\n",
    "tri1_4 <- with(hueFixed, length(which(class == \"bright\" & triangle1 == \"+S+V\")))\n",
    "tri1_5 <- with(hueFixed, length(which(class == \"bright\" & triangle1 == \"+S-V\")))\n",
    "\n",
    "# cat(tri1_1, tri1_2, tri1_3, tri1_4, tri1_5)\n",
    "\n",
    "## triangle2\n",
    "tri2_1 <- with(hueFixed, length(which(class == \"bright\" & triangle2 == \"-S-V\")))\n",
    "tri2_2 <- with(hueFixed, length(which(class == \"bright\" & triangle2 == \"-S+V\")))\n",
    "tri2_3 <- with(hueFixed, length(which(class == \"bright\" & triangle2 == \"original\")))\n",
    "tri2_4 <- with(hueFixed, length(which(class == \"bright\" & triangle2 == \"+S+V\")))\n",
    "tri2_5 <- with(hueFixed, length(which(class == \"bright\" & triangle2 == \"+S-V\")))\n",
    "\n",
    "# cat(tri2_1, tri2_2, tri2_3, tri2_4, tri2_5)\n",
    "\n",
    "## doubleness1\n",
    "doub1_1 <- with(hueFixed, length(which(class == \"bright\" & doubleness1 == \"-S-V\")))\n",
    "doub1_2 <- with(hueFixed, length(which(class == \"bright\" & doubleness1 == \"-S+V\")))\n",
    "doub1_3 <- with(hueFixed, length(which(class == \"bright\" & doubleness1 == \"original\")))\n",
    "doub1_4 <- with(hueFixed, length(which(class == \"bright\" & doubleness1 == \"+S+V\")))\n",
    "doub1_5 <- with(hueFixed, length(which(class == \"bright\" & doubleness1 == \"+S-V\")))\n",
    "\n",
    "# cat(doub1_1, doub1_2, doub1_3, doub1_4, doub1_5)\n",
    "\n",
    "## doubleness2\n",
    "doub2_1 <- with(hueFixed, length(which(class == \"bright\" & doubleness2 == \"-S-V\")))\n",
    "doub2_2 <- with(hueFixed, length(which(class == \"bright\" & doubleness2 == \"-S+V\")))\n",
    "doub2_3 <- with(hueFixed, length(which(class == \"bright\" & doubleness2 == \"original\")))\n",
    "doub2_4 <- with(hueFixed, length(which(class == \"bright\" & doubleness2 == \"+S+V\")))\n",
    "doub2_5 <- with(hueFixed, length(which(class == \"bright\" & doubleness2 == \"+S-V\")))\n",
    "\n",
    "# cat(doub2_1, doub2_2, doub2_3, doub2_4, doub2_5)\n",
    "\n",
    "## doubleness3\n",
    "doub3_1 <- with(hueFixed, length(which(class == \"bright\" & doubleness3 == \"-S-V\")))\n",
    "doub3_2 <- with(hueFixed, length(which(class == \"bright\" & doubleness3 == \"-S+V\")))\n",
    "doub3_3 <- with(hueFixed, length(which(class == \"bright\" & doubleness3 == \"original\")))\n",
    "doub3_4 <- with(hueFixed, length(which(class == \"bright\" & doubleness3 == \"+S+V\")))\n",
    "doub3_5 <- with(hueFixed, length(which(class == \"bright\" & doubleness3 == \"+S-V\")))\n",
    "\n",
    "# cat(doub3_1, doub3_2, doub3_3, doub3_4, doub3_5)\n",
    "\n",
    "\n",
    "## column 만들기\n",
    "comp <- c(comp1, comp2, comp3, comp4, comp5)\n",
    "tri1 <- c(tri1_1, tri1_2, tri1_3, tri1_4, tri1_5)\n",
    "tri2 <- c(tri2_1, tri2_2, tri2_3, tri2_4, tri2_5)\n",
    "doub1 <- c(doub1_1, doub1_2, doub1_3, doub1_4, doub1_5)\n",
    "doub2 <- c(doub2_1, doub2_2, doub2_3, doub2_4, doub2_5)\n",
    "doub3 <- c(doub3_1, doub3_2, doub3_3, doub3_4, doub3_5)\n",
    "\n",
    "\n",
    "## dataframe 만들기\n",
    "df_hue_bright <- data.frame(comp, tri1, tri2, doub1, doub2, doub3)\n",
    "rownames(df_hue_bright) <- c(\"origin\", \"-S-V\", \"-S+V\", \"+S+V\", \"+S-V\")\n",
    "df_hue_bright <- t(df_hue_bright)\n",
    "rownames(df_hue_bright) <- NULL\n",
    "df_hue_bright\n",
    "# 일단..  이 값들은 연속변수가 아닌 이산변수......."
   ]
  },
  {
   "cell_type": "markdown",
   "metadata": {},
   "source": [
    "음.. 일단 origin이 가장 밝아보인다고 가설을 하기...\n",
    "\n",
    "t.test 같은 경우는 두개의 집단을 놓고 비교해야하기때문에\n",
    "\n",
    "'origin vs +S+V', 'origin vs -S-V'... 등등 4번을 해야할것같단 말이지...??\n",
    "\n",
    "그러면 집단이 3개 이상일때는 ANOVA를 사용하라 했으니까...\n",
    "\n",
    "ANOVA를 사용하는데 일단 얘는 연속변수가 아니야! 그럼 바로 kruskal-Wallis H test로 넘어가면되나... 일단 해보쟈\n",
    "\n",
    "-\n",
    "\n",
    "여기서 보고자하는 것은 \"origin\"이 주인공이냐 아니냐 잖아\n",
    "\n",
    "그럼 comp, tri1, tri2 .. 얘네가 계속 붙어있을 필요는 없넹\n",
    "\n",
    "데이터 long형으로 만들어주자\n",
    "\n",
    "-\n",
    "\n",
    "< ANOVA 해보고 비율차이로 \"카이제곱\"도 되는것 같으면 카이제곱해보자 까먹을까바 먼저 써놓기 >"
   ]
  },
  {
   "cell_type": "markdown",
   "metadata": {},
   "source": [
    "#### < Kruskal-Wallis H test >\n",
    " \n",
    "    귀무가설 : 모든 그룹의 중위수(median)가 같다는 것\n",
    "    대립가설 : 중위수(median) 차이가 있는 어떤 그룹이 있다는 것 "
   ]
  },
  {
   "cell_type": "code",
   "execution_count": 65,
   "metadata": {
    "scrolled": true
   },
   "outputs": [
    {
     "data": {
      "text/html": [
       "<table>\n",
       "<thead><tr><th scope=col>X1</th><th scope=col>X2</th><th scope=col>value</th></tr></thead>\n",
       "<tbody>\n",
       "\t<tr><td>1     </td><td>origin</td><td>19    </td></tr>\n",
       "\t<tr><td>2     </td><td>origin</td><td>29    </td></tr>\n",
       "\t<tr><td>3     </td><td>origin</td><td>16    </td></tr>\n",
       "\t<tr><td>4     </td><td>origin</td><td>16    </td></tr>\n",
       "\t<tr><td>5     </td><td>origin</td><td>23    </td></tr>\n",
       "\t<tr><td>6     </td><td>origin</td><td>25    </td></tr>\n",
       "\t<tr><td>1     </td><td>-S-V  </td><td>44    </td></tr>\n",
       "\t<tr><td>2     </td><td>-S-V  </td><td>32    </td></tr>\n",
       "\t<tr><td>3     </td><td>-S-V  </td><td>35    </td></tr>\n",
       "\t<tr><td>4     </td><td>-S-V  </td><td>30    </td></tr>\n",
       "\t<tr><td>5     </td><td>-S-V  </td><td>40    </td></tr>\n",
       "\t<tr><td>6     </td><td>-S-V  </td><td>30    </td></tr>\n",
       "\t<tr><td>1     </td><td>-S+V  </td><td>11    </td></tr>\n",
       "\t<tr><td>2     </td><td>-S+V  </td><td>11    </td></tr>\n",
       "\t<tr><td>3     </td><td>-S+V  </td><td> 5    </td></tr>\n",
       "\t<tr><td>4     </td><td>-S+V  </td><td>17    </td></tr>\n",
       "\t<tr><td>5     </td><td>-S+V  </td><td>11    </td></tr>\n",
       "\t<tr><td>6     </td><td>-S+V  </td><td>15    </td></tr>\n",
       "\t<tr><td>1     </td><td>+S+V  </td><td>22    </td></tr>\n",
       "\t<tr><td>2     </td><td>+S+V  </td><td>37    </td></tr>\n",
       "\t<tr><td>3     </td><td>+S+V  </td><td>29    </td></tr>\n",
       "\t<tr><td>4     </td><td>+S+V  </td><td>33    </td></tr>\n",
       "\t<tr><td>5     </td><td>+S+V  </td><td>21    </td></tr>\n",
       "\t<tr><td>6     </td><td>+S+V  </td><td>24    </td></tr>\n",
       "\t<tr><td>1     </td><td>+S-V  </td><td>18    </td></tr>\n",
       "\t<tr><td>2     </td><td>+S-V  </td><td> 5    </td></tr>\n",
       "\t<tr><td>3     </td><td>+S-V  </td><td>29    </td></tr>\n",
       "\t<tr><td>4     </td><td>+S-V  </td><td>18    </td></tr>\n",
       "\t<tr><td>5     </td><td>+S-V  </td><td>19    </td></tr>\n",
       "\t<tr><td>6     </td><td>+S-V  </td><td>20    </td></tr>\n",
       "</tbody>\n",
       "</table>\n"
      ],
      "text/latex": [
       "\\begin{tabular}{r|lll}\n",
       " X1 & X2 & value\\\\\n",
       "\\hline\n",
       "\t 1      & origin & 19    \\\\\n",
       "\t 2      & origin & 29    \\\\\n",
       "\t 3      & origin & 16    \\\\\n",
       "\t 4      & origin & 16    \\\\\n",
       "\t 5      & origin & 23    \\\\\n",
       "\t 6      & origin & 25    \\\\\n",
       "\t 1      & -S-V   & 44    \\\\\n",
       "\t 2      & -S-V   & 32    \\\\\n",
       "\t 3      & -S-V   & 35    \\\\\n",
       "\t 4      & -S-V   & 30    \\\\\n",
       "\t 5      & -S-V   & 40    \\\\\n",
       "\t 6      & -S-V   & 30    \\\\\n",
       "\t 1      & -S+V   & 11    \\\\\n",
       "\t 2      & -S+V   & 11    \\\\\n",
       "\t 3      & -S+V   &  5    \\\\\n",
       "\t 4      & -S+V   & 17    \\\\\n",
       "\t 5      & -S+V   & 11    \\\\\n",
       "\t 6      & -S+V   & 15    \\\\\n",
       "\t 1      & +S+V   & 22    \\\\\n",
       "\t 2      & +S+V   & 37    \\\\\n",
       "\t 3      & +S+V   & 29    \\\\\n",
       "\t 4      & +S+V   & 33    \\\\\n",
       "\t 5      & +S+V   & 21    \\\\\n",
       "\t 6      & +S+V   & 24    \\\\\n",
       "\t 1      & +S-V   & 18    \\\\\n",
       "\t 2      & +S-V   &  5    \\\\\n",
       "\t 3      & +S-V   & 29    \\\\\n",
       "\t 4      & +S-V   & 18    \\\\\n",
       "\t 5      & +S-V   & 19    \\\\\n",
       "\t 6      & +S-V   & 20    \\\\\n",
       "\\end{tabular}\n"
      ],
      "text/markdown": [
       "\n",
       "| X1 | X2 | value |\n",
       "|---|---|---|\n",
       "| 1      | origin | 19     |\n",
       "| 2      | origin | 29     |\n",
       "| 3      | origin | 16     |\n",
       "| 4      | origin | 16     |\n",
       "| 5      | origin | 23     |\n",
       "| 6      | origin | 25     |\n",
       "| 1      | -S-V   | 44     |\n",
       "| 2      | -S-V   | 32     |\n",
       "| 3      | -S-V   | 35     |\n",
       "| 4      | -S-V   | 30     |\n",
       "| 5      | -S-V   | 40     |\n",
       "| 6      | -S-V   | 30     |\n",
       "| 1      | -S+V   | 11     |\n",
       "| 2      | -S+V   | 11     |\n",
       "| 3      | -S+V   |  5     |\n",
       "| 4      | -S+V   | 17     |\n",
       "| 5      | -S+V   | 11     |\n",
       "| 6      | -S+V   | 15     |\n",
       "| 1      | +S+V   | 22     |\n",
       "| 2      | +S+V   | 37     |\n",
       "| 3      | +S+V   | 29     |\n",
       "| 4      | +S+V   | 33     |\n",
       "| 5      | +S+V   | 21     |\n",
       "| 6      | +S+V   | 24     |\n",
       "| 1      | +S-V   | 18     |\n",
       "| 2      | +S-V   |  5     |\n",
       "| 3      | +S-V   | 29     |\n",
       "| 4      | +S-V   | 18     |\n",
       "| 5      | +S-V   | 19     |\n",
       "| 6      | +S-V   | 20     |\n",
       "\n"
      ],
      "text/plain": [
       "   X1 X2     value\n",
       "1  1  origin 19   \n",
       "2  2  origin 29   \n",
       "3  3  origin 16   \n",
       "4  4  origin 16   \n",
       "5  5  origin 23   \n",
       "6  6  origin 25   \n",
       "7  1  -S-V   44   \n",
       "8  2  -S-V   32   \n",
       "9  3  -S-V   35   \n",
       "10 4  -S-V   30   \n",
       "11 5  -S-V   40   \n",
       "12 6  -S-V   30   \n",
       "13 1  -S+V   11   \n",
       "14 2  -S+V   11   \n",
       "15 3  -S+V    5   \n",
       "16 4  -S+V   17   \n",
       "17 5  -S+V   11   \n",
       "18 6  -S+V   15   \n",
       "19 1  +S+V   22   \n",
       "20 2  +S+V   37   \n",
       "21 3  +S+V   29   \n",
       "22 4  +S+V   33   \n",
       "23 5  +S+V   21   \n",
       "24 6  +S+V   24   \n",
       "25 1  +S-V   18   \n",
       "26 2  +S-V    5   \n",
       "27 3  +S-V   29   \n",
       "28 4  +S-V   18   \n",
       "29 5  +S-V   19   \n",
       "30 6  +S-V   20   "
      ]
     },
     "metadata": {},
     "output_type": "display_data"
    }
   ],
   "source": [
    "# long형으로 구조 변경하는데 필요한 패키지 가져오기\n",
    "library(reshape)\n",
    "\n",
    "# 변경하자\n",
    "df_hue_bright2 <- reshape::melt(df_hue_bright)\n",
    "df_hue_bright2"
   ]
  },
  {
   "cell_type": "code",
   "execution_count": 77,
   "metadata": {},
   "outputs": [
    {
     "data": {
      "image/png": "[encoded data removed]",
      "text/plain": [
       "Plot with title \"Distribution of ' value ' by ' X2 '\""
      ]
     },
     "metadata": {},
     "output_type": "display_data"
    }
   ],
   "source": [
    "## 그래프로 데이터 상태 확인(집단간 분포 차이 시각적으로 확인)\n",
    "# library(userfriendlyscience)\n",
    "\n",
    "moonBook::densityplot(value ~ X2, data=df_hue_bright2)\n",
    "# 오.. 들쑥날쑥.. 정규분포 하나도 없고.. 뭐 짜피 연속변수 아니여서 정규분포 상관없다"
   ]
  },
  {
   "cell_type": "code",
   "execution_count": 67,
   "metadata": {},
   "outputs": [
    {
     "data": {
      "text/plain": [
       "\n",
       "\tKruskal-Wallis rank sum test\n",
       "\n",
       "data:  value by X2\n",
       "Kruskal-Wallis chi-squared = 21.455, df = 4, p-value = 0.0002573\n"
      ]
     },
     "metadata": {},
     "output_type": "display_data"
    }
   ],
   "source": [
    "## Kruskal-Wallis H test로 p-value 알아보기\n",
    "# 독립된 세 개 그룹 이상의 크기를 비교하는 비모수적인 방법\n",
    "\n",
    "kruskal.test(value ~ X2, data=df_hue_bright2)\n",
    "\n",
    "# p-value 0.05보다 작으므로  대립가설 채택\n",
    "# 한 집단이라도 중위수가 같지 않다는 결과가 나왔고, \n",
    "# 그룹의 크기에 유의한 차이가 있다고 할 수 있다.. 어떤 차이라 하면 되지..\n",
    "\n",
    "# 얘는 차이가 있다는 것만 알려줌\n",
    "# 어떤것과 어떤것이 얼만큼 차이가 있는지는 안알려줌 그걸 알려주는게 사후검정"
   ]
  },
  {
   "cell_type": "code",
   "execution_count": 80,
   "metadata": {},
   "outputs": [
    {
     "data": {
      "text/plain": [
       "       n means variances\n",
       "-S-V   6    35        33\n",
       "-S+V   6    12        17\n",
       "+S-V   6    18        59\n",
       "+S+V   6    28        41\n",
       "origin 6    21        27\n",
       "\n",
       "             diff  ci.lo ci.hi    t  df    p\n",
       "-S+V--S-V   -23.5 -33.19 -13.8 8.14 9.1 <.01\n",
       "+S-V--S-V   -17.0 -30.08  -3.9 4.34 9.3  .01\n",
       "+S+V--S-V    -7.5 -19.12   4.1 2.13 9.9  .28\n",
       "origin--S-V -13.8 -24.29  -3.4 4.36 9.9  .01\n",
       "+S-V--S+V     6.5  -5.93  18.9 1.83 7.7  .42\n",
       "+S+V--S+V    16.0   5.37  26.6 5.12 8.5 <.01\n",
       "origin--S+V   9.7   0.61  18.7 3.55 9.5  .04\n",
       "+S+V-+S-V     9.5  -4.04  23.0 2.32 9.7  .22\n",
       "origin-+S-V   3.2  -9.65  16.0 0.83 8.8  .91\n",
       "origin-+S+V  -6.3 -17.58   4.9 1.87 9.6  .39"
      ]
     },
     "metadata": {},
     "output_type": "display_data"
    }
   ],
   "source": [
    "## posthocTGH로 사후검정\n",
    "# 어떤것 끼리 비슷하고, 어떤 것끼리 큰 차이를 보이는지 알아보기\n",
    "\n",
    "posthocTGH(x=df_hue_bright2$X2, y=df_hue_bright2$value, method=\"games-howell\")\n",
    "\n",
    "# p-value 0.05보다 작은 것들\n",
    "# -S+V--S-V"
   ]
  },
  {
   "cell_type": "markdown",
   "metadata": {},
   "source": [
    "#### p-value 0.05 보다 작은것 : 두 집단간의 차이가 있다\n",
    "\n",
    "    -S+V--S-V :   12 < 35  -> 23 차이\n",
    "    +S-V--S-V :   18 < 35  -> 17 차이\n",
    "    origin--S-V : 21 < 35  -> 14 차이\n",
    "    +S+V--S+V :   28 > 12  -> 16 차이 \n",
    "    origin--S+V : 21 > 12  -> 9 차이\n",
    "    \n",
    "#### p-value 0.05보다 큰것 : 두 집단간의 차이가 없다\n",
    "\n",
    "    +S+V--S-V : 28 35     -> 7 차이\n",
    "    +S-V--S+V : 18 12     -> 6 차이\n",
    "    +S+V-+S-V : 28 18     -> 10 차이\n",
    "    origin-+S-V : 21 18   -> 3 차이\n",
    "    origin-+S+V : 21 28   -> 7 차이\n",
    "    \n",
    "그래서 뭐 어떻게하지....너ㅏㅎ머아ㅣㅎ어려붜 순서나온다며...."
   ]
  },
  {
   "cell_type": "code",
   "execution_count": 82,
   "metadata": {},
   "outputs": [
    {
     "name": "stderr",
     "output_type": "stream",
     "text": [
      "Warning message in wilcox.test.default(xi, xj, paired = paired, ...):\n",
      "\"cannot compute exact p-value with ties\"Warning message in wilcox.test.default(xi, xj, paired = paired, ...):\n",
      "\"cannot compute exact p-value with ties\"Warning message in wilcox.test.default(xi, xj, paired = paired, ...):\n",
      "\"cannot compute exact p-value with ties\"Warning message in wilcox.test.default(xi, xj, paired = paired, ...):\n",
      "\"cannot compute exact p-value with ties\"Warning message in wilcox.test.default(xi, xj, paired = paired, ...):\n",
      "\"cannot compute exact p-value with ties\"Warning message in wilcox.test.default(xi, xj, paired = paired, ...):\n",
      "\"cannot compute exact p-value with ties\"Warning message in wilcox.test.default(xi, xj, paired = paired, ...):\n",
      "\"cannot compute exact p-value with ties\"Warning message in wilcox.test.default(xi, xj, paired = paired, ...):\n",
      "\"cannot compute exact p-value with ties\"Warning message in wilcox.test.default(xi, xj, paired = paired, ...):\n",
      "\"cannot compute exact p-value with ties\"Warning message in wilcox.test.default(xi, xj, paired = paired, ...):\n",
      "\"cannot compute exact p-value with ties\""
     ]
    },
    {
     "data": {
      "text/plain": [
       "\n",
       "\tPairwise comparisons using Wilcoxon rank sum test \n",
       "\n",
       "data:  df_hue_bright2$value and df_hue_bright2$X2 \n",
       "\n",
       "       -S-V  -S+V  +S-V  +S+V \n",
       "-S+V   0.047 -     -     -    \n",
       "+S-V   0.049 0.521 -     -    \n",
       "+S+V   0.921 0.048 0.245 -    \n",
       "origin 0.049 0.123 1.000 1.000\n",
       "\n",
       "P value adjustment method: bonferroni "
      ]
     },
     "metadata": {},
     "output_type": "display_data"
    }
   ],
   "source": [
    "## 본페르니로 사후검정 / posthocTGH 둘중에 뭐가 맞는건지 모르겠어서....\n",
    "# 5개 집단 비교, 총 10회 검정 시행\n",
    "# 유의수준 : 0.05/10 = 0.005 로 설정\n",
    "\n",
    "pairwise.wilcox.test(df_hue_bright2$value, df_hue_bright2$X2, p.adjust=\"bonferroni\")\n",
    "\n",
    "# 총 10회의 test를 하므로 10개의 p-value가 나왔다\n",
    "# 얘는 위에꺼랑 다르게 origin - -S+V가 0.05보다 큰값을 갖는다...\n",
    "# 근데 또 여기저기 인터넷 뒤적뒤적하면 유의수준 보다 낮은 값을 찾아야한다했는데 \n",
    "# 0.005로 하면 얘네 다 차이 없다고 나와서 말이 안됨...음.... 버려?ㅋㅋㅋㅋㅋㅋㅋㅋㅋ"
   ]
  },
  {
   "cell_type": "code",
   "execution_count": null,
   "metadata": {},
   "outputs": [],
   "source": []
  },
  {
   "cell_type": "code",
   "execution_count": null,
   "metadata": {},
   "outputs": [],
   "source": []
  },
  {
   "cell_type": "code",
   "execution_count": null,
   "metadata": {},
   "outputs": [],
   "source": []
  },
  {
   "cell_type": "code",
   "execution_count": null,
   "metadata": {},
   "outputs": [],
   "source": []
  },
  {
   "cell_type": "markdown",
   "metadata": {},
   "source": [
    "### harmony"
   ]
  },
  {
   "cell_type": "code",
   "execution_count": 27,
   "metadata": {},
   "outputs": [
    {
     "data": {
      "text/html": [
       "<table>\n",
       "<thead><tr><th></th><th scope=col>h_comp</th><th scope=col>h_tri1</th><th scope=col>h_tri2</th><th scope=col>h_doub1</th><th scope=col>h_doub2</th><th scope=col>h_doub3</th></tr></thead>\n",
       "<tbody>\n",
       "\t<tr><th scope=row>-S-V</th><td> 4</td><td> 6</td><td> 8</td><td>10</td><td>11</td><td> 6</td></tr>\n",
       "\t<tr><th scope=row>-S+V</th><td>18</td><td>27</td><td>14</td><td>25</td><td>36</td><td>25</td></tr>\n",
       "\t<tr><th scope=row>origin</th><td>21</td><td>14</td><td>14</td><td>25</td><td>15</td><td>16</td></tr>\n",
       "\t<tr><th scope=row>+S+V</th><td>18</td><td>42</td><td>28</td><td>23</td><td>13</td><td>23</td></tr>\n",
       "\t<tr><th scope=row>+S-V</th><td>35</td><td> 7</td><td>32</td><td>13</td><td>21</td><td>26</td></tr>\n",
       "</tbody>\n",
       "</table>\n"
      ],
      "text/latex": [
       "\\begin{tabular}{r|llllll}\n",
       "  & h\\_comp & h\\_tri1 & h\\_tri2 & h\\_doub1 & h\\_doub2 & h\\_doub3\\\\\n",
       "\\hline\n",
       "\t-S-V &  4 &  6 &  8 & 10 & 11 &  6\\\\\n",
       "\t-S+V & 18 & 27 & 14 & 25 & 36 & 25\\\\\n",
       "\torigin & 21 & 14 & 14 & 25 & 15 & 16\\\\\n",
       "\t+S+V & 18 & 42 & 28 & 23 & 13 & 23\\\\\n",
       "\t+S-V & 35 &  7 & 32 & 13 & 21 & 26\\\\\n",
       "\\end{tabular}\n"
      ],
      "text/markdown": [
       "\n",
       "| <!--/--> | h_comp | h_tri1 | h_tri2 | h_doub1 | h_doub2 | h_doub3 |\n",
       "|---|---|---|---|---|---|---|\n",
       "| -S-V |  4 |  6 |  8 | 10 | 11 |  6 |\n",
       "| -S+V | 18 | 27 | 14 | 25 | 36 | 25 |\n",
       "| origin | 21 | 14 | 14 | 25 | 15 | 16 |\n",
       "| +S+V | 18 | 42 | 28 | 23 | 13 | 23 |\n",
       "| +S-V | 35 |  7 | 32 | 13 | 21 | 26 |\n",
       "\n"
      ],
      "text/plain": [
       "       h_comp h_tri1 h_tri2 h_doub1 h_doub2 h_doub3\n",
       "-S-V    4      6      8     10      11       6     \n",
       "-S+V   18     27     14     25      36      25     \n",
       "origin 21     14     14     25      15      16     \n",
       "+S+V   18     42     28     23      13      23     \n",
       "+S-V   35      7     32     13      21      26     "
      ]
     },
     "metadata": {},
     "output_type": "display_data"
    }
   ],
   "source": [
    "# 'class = harmony' DataFrame 만들기\n",
    "\n",
    "## comp\n",
    "h_comp1 <- with(hueFixed, length(which(class == \"harmony\" & comp == \"-S-V\")))\n",
    "h_comp2 <- with(hueFixed, length(which(class == \"harmony\" & comp == \"-S+V\")))\n",
    "h_comp3 <- with(hueFixed, length(which(class == \"harmony\" & comp == \"original\")))\n",
    "h_comp4 <- with(hueFixed, length(which(class == \"harmony\" & comp == \"+S+V\")))\n",
    "h_comp5 <- with(hueFixed, length(which(class == \"harmony\" & comp == \"+S-V\")))\n",
    "\n",
    "# cat(h_comp1, h_comp2, h_comp3, h_comp4, h_comp5)\n",
    "\n",
    "## triangle1\n",
    "h_tri1_1 <- with(hueFixed, length(which(class == \"harmony\" & triangle1 == \"-S-V\")))\n",
    "h_tri1_2 <- with(hueFixed, length(which(class == \"harmony\" & triangle1 == \"-S+V\")))\n",
    "h_tri1_3 <- with(hueFixed, length(which(class == \"harmony\" & triangle1 == \"original\")))\n",
    "h_tri1_4 <- with(hueFixed, length(which(class == \"harmony\" & triangle1 == \"+S+V\")))\n",
    "h_tri1_5 <- with(hueFixed, length(which(class == \"harmony\" & triangle1 == \"+S-V\")))\n",
    "\n",
    "# cat(h_tri1_1, h_tri1_2, h_tri1_3, h_tri1_4, h_tri1_5)\n",
    "\n",
    "## triangle2\n",
    "h_tri2_1 <- with(hueFixed, length(which(class == \"harmony\" & triangle2 == \"-S-V\")))\n",
    "h_tri2_2 <- with(hueFixed, length(which(class == \"harmony\" & triangle2 == \"-S+V\")))\n",
    "h_tri2_3 <- with(hueFixed, length(which(class == \"harmony\" & triangle2 == \"original\")))\n",
    "h_tri2_4 <- with(hueFixed, length(which(class == \"harmony\" & triangle2 == \"+S+V\")))\n",
    "h_tri2_5 <- with(hueFixed, length(which(class == \"harmony\" & triangle2 == \"+S-V\")))\n",
    "\n",
    "# cat(h_tri2_1, h_tri2_2, h_tri2_3, h_tri2_4, h_tri2_5)\n",
    "\n",
    "## doubleness1\n",
    "h_doub1_1 <- with(hueFixed, length(which(class == \"harmony\" & doubleness1 == \"-S-V\")))\n",
    "h_doub1_2 <- with(hueFixed, length(which(class == \"harmony\" & doubleness1 == \"-S+V\")))\n",
    "h_doub1_3 <- with(hueFixed, length(which(class == \"harmony\" & doubleness1 == \"original\")))\n",
    "h_doub1_4 <- with(hueFixed, length(which(class == \"harmony\" & doubleness1 == \"+S+V\")))\n",
    "h_doub1_5 <- with(hueFixed, length(which(class == \"harmony\" & doubleness1 == \"+S-V\")))\n",
    "\n",
    "# cat(h_doub1_1, h_doub1_2, h_doub1_3, h_doub1_4, h_doub1_5)\n",
    "\n",
    "## doubleness2\n",
    "h_doub2_1 <- with(hueFixed, length(which(class == \"harmony\" & doubleness2 == \"-S-V\")))\n",
    "h_doub2_2 <- with(hueFixed, length(which(class == \"harmony\" & doubleness2 == \"-S+V\")))\n",
    "h_doub2_3 <- with(hueFixed, length(which(class == \"harmony\" & doubleness2 == \"original\")))\n",
    "h_doub2_4 <- with(hueFixed, length(which(class == \"harmony\" & doubleness2 == \"+S+V\")))\n",
    "h_doub2_5 <- with(hueFixed, length(which(class == \"harmony\" & doubleness2 == \"+S-V\")))\n",
    "\n",
    "# cat(h_doub2_1, h_doub2_2, h_doub2_3, h_doub2_4, h_doub2_5)\n",
    "\n",
    "## doubleness3\n",
    "h_doub3_1 <- with(hueFixed, length(which(class == \"harmony\" & doubleness3 == \"-S-V\")))\n",
    "h_doub3_2 <- with(hueFixed, length(which(class == \"harmony\" & doubleness3 == \"-S+V\")))\n",
    "h_doub3_3 <- with(hueFixed, length(which(class == \"harmony\" & doubleness3 == \"original\")))\n",
    "h_doub3_4 <- with(hueFixed, length(which(class == \"harmony\" & doubleness3 == \"+S+V\")))\n",
    "h_doub3_5 <- with(hueFixed, length(which(class == \"harmony\" & doubleness3 == \"+S-V\")))\n",
    "\n",
    "# cat(h_doub3_1, h_doub3_2, h_doub3_3, h_doub3_4, h_doub3_5)\n",
    "\n",
    "\n",
    "## column 만들기\n",
    "h_comp <- c(h_comp1, h_comp2, h_comp3, h_comp4, h_comp5)\n",
    "h_tri1 <- c(h_tri1_1, h_tri1_2, h_tri1_3, h_tri1_4, h_tri1_5)\n",
    "h_tri2 <- c(h_tri2_1, h_tri2_2, h_tri2_3, h_tri2_4, h_tri2_5)\n",
    "h_doub1 <- c(h_doub1_1, h_doub1_2, h_doub1_3, h_doub1_4, h_doub1_5)\n",
    "h_doub2 <- c(h_doub2_1, h_doub2_2, h_doub2_3, h_doub2_4, h_doub2_5)\n",
    "h_doub3 <- c(h_doub3_1, h_doub3_2, h_doub3_3, h_doub3_4, h_doub3_5)\n",
    "\n",
    "\n",
    "## dataframe 만들기\n",
    "df_hue_harmony <- data.frame(h_comp, h_tri1, h_tri2, h_doub1, h_doub2, h_doub3)\n",
    "rownames(df_hue_harmony) <- c(\"-S-V\", \"-S+V\", \"origin\", \"+S+V\", \"+S-V\")\n",
    "df_hue_harmony"
   ]
  },
  {
   "cell_type": "code",
   "execution_count": null,
   "metadata": {},
   "outputs": [],
   "source": []
  }
 ],
 "metadata": {
  "kernelspec": {
   "display_name": "R",
   "language": "R",
   "name": "ir"
  },
  "language_info": {
   "codemirror_mode": "r",
   "file_extension": ".r",
   "mimetype": "text/x-r-source",
   "name": "R",
   "pygments_lexer": "r",
   "version": "3.6.1"
  }
 },
 "nbformat": 4,
 "nbformat_minor": 2
}
