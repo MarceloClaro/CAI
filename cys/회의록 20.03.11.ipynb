{
 "cells": [
  {
   "cell_type": "markdown",
   "metadata": {},
   "source": [
    "## 분석팀 업무 분담\n",
    "\n",
    "    색상 고정\n",
    "    - bright : 예슬\n",
    "    - harmony : 윤성\n",
    "    -> SV값 조정을 어떻게 해야할지 최종 결론 낼 수 있음    \n",
    "    \n",
    "    색상 변경\n",
    "    - bright : 재중\n",
    "    - harmony : 도연\n",
    "    -> H값 조정을 어떻게 해야할지 결론 낼 수 있음\n",
    "\n",
    "    \n",
    "## 분석 해야할 목록\n",
    "\n",
    "    1. 설문지 결과 그래프로 시각화 시키기 \n",
    "        - 샘플별\n",
    "        - 전체\n",
    "    \n",
    "    2. 인식 차이\n",
    "        - 성별\n",
    "        - 연령\n",
    "        - 패션 관심도\n",
    "        - 퍼스널 컬러 개념\n",
    "        - 선호하는 색상\n",
    "        - 목적\n",
    "        - 패션 관심도 * 선호하는 색상\n",
    "        등등 다양하게\n",
    "        \n",
    "    3. 결론 짓기\n",
    "        \n",
    "    \n",
    "    [ 참고자료 ]\n",
    "        설문지 전처리 자료 : github - CAI - jay - Statistical hypothesis testing - Survey_preprocessing.ipynb\n",
    "                           : github - CAI - cys - CAI_Survey_preprocessing.ipynb\n",
    "        설문지 관련 자료 : github - CAI - jay - 퍼스널컬러 가설검증 항목.ipynb\n",
    "        분석 예시 자료 : github - CAI - cys - CAI_안면부위.ipynb\n",
    "        카이제곱 관련 자료 : github - CAI - cys - statistics5_Chisquare.ipynb\n",
    "        \n",
    "        \n",
    "## 생각해봐야할 사항\n",
    "\n",
    "    1. 색상 고정의 대표값, 색상 변경의 대표값 둘 중에 어떤 것을 대표 색상으로 삼을 수 있는가\n",
    "    2. 퍼스널 컬러는 얼굴색을 밝혀주는 색상인가, 얼굴색과 조화로운 색상인가\n",
    "    3. 그 외.......\n",
    "    \n",
    "    이 사항들을 어떻게 통계적으로 분석해낼 것인지 구체적인 방안 생각하기    "
   ]
  },
  {
   "cell_type": "code",
   "execution_count": null,
   "metadata": {},
   "outputs": [],
   "source": []
  }
 ],
 "metadata": {
  "kernelspec": {
   "display_name": "Python 3",
   "language": "python",
   "name": "python3"
  },
  "language_info": {
   "codemirror_mode": {
    "name": "ipython",
    "version": 3
   },
   "file_extension": ".py",
   "mimetype": "text/x-python",
   "name": "python",
   "nbconvert_exporter": "python",
   "pygments_lexer": "ipython3",
   "version": "3.7.6"
  }
 },
 "nbformat": 4,
 "nbformat_minor": 4
}
