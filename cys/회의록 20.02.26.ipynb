{
 "cells": [
  {
   "cell_type": "markdown",
   "metadata": {},
   "source": [
    "### 분석 파트 \n",
    "\n",
    "- '퍼스널컬러스킨톤 유형 분류의 정량적 평가 모델 구축에 대한 연구' 논문 보고서 데이터 분석할 요소들 더 찾아보기\n",
    "\n",
    "\n",
    "- 분석요소에 따른 필요 데이터가 무엇인지 알아보고 개발담당(희승오빠)한테 알려주기\n",
    "\n",
    "\n",
    "- R or Python 통계 부분 공부하면서, 어떤 이론을 사용하는 것이 타당한지 알아보기"
   ]
  }
 ],
 "metadata": {
  "kernelspec": {
   "display_name": "Python 3",
   "language": "python",
   "name": "python3"
  },
  "language_info": {
   "codemirror_mode": {
    "name": "ipython",
    "version": 3
   },
   "file_extension": ".py",
   "mimetype": "text/x-python",
   "name": "python",
   "nbconvert_exporter": "python",
   "pygments_lexer": "ipython3",
   "version": "3.7.6"
  }
 },
 "nbformat": 4,
 "nbformat_minor": 4
}
