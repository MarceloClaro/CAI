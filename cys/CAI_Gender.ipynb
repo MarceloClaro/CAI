{
 "cells": [
  {
   "cell_type": "markdown",
   "metadata": {},
   "source": [
    " ## 성별에 따른 색 인식의 차이\n",
    " \n",
    "    최초 작성일 : 2020/03/07\n",
    "    작성자 : 조예슬 \n",
    " \n",
    "    < 작성 내용 >\n",
    "    \n",
    "        - 성별에 따른 색 인식 차이 ChiSquare 이용하여 가설검정"
   ]
  },
  {
   "cell_type": "markdown",
   "metadata": {},
   "source": [
    "### 색고정 / bright"
   ]
  },
  {
   "cell_type": "code",
   "execution_count": 46,
   "metadata": {},
   "outputs": [
    {
     "name": "stdout",
     "output_type": "stream",
     "text": [
      "'data.frame':\t114 obs. of  9 variables:\n",
      " $ X          : int  0 1 2 3 4 5 6 7 8 9 ...\n",
      " $ sex        : Factor w/ 2 levels \"Female\",\"Male\": 2 1 1 1 1 1 1 2 1 1 ...\n",
      " $ age_class  : int  20 20 20 20 20 20 20 20 20 20 ...\n",
      " $ comp       : Factor w/ 5 levels \"-S-V\",\"-S+V\",..: 4 1 2 3 4 5 1 1 1 3 ...\n",
      " $ triangle1  : Factor w/ 5 levels \"-S-V\",\"-S+V\",..: 3 1 4 3 2 4 4 1 4 3 ...\n",
      " $ triangle2  : Factor w/ 5 levels \"-S-V\",\"-S+V\",..: 2 2 1 4 1 1 3 5 1 2 ...\n",
      " $ doubleness1: Factor w/ 5 levels \"-S-V\",\"-S+V\",..: 5 2 2 3 1 2 5 1 1 2 ...\n",
      " $ doubleness2: Factor w/ 5 levels \"-S-V\",\"-S+V\",..: 2 5 1 4 2 2 5 3 2 1 ...\n",
      " $ doubleness3: Factor w/ 5 levels \"-S-V\",\"-S+V\",..: 2 2 2 1 2 2 5 3 2 3 ...\n"
     ]
    },
    {
     "data": {
      "text/html": [
       "<table>\n",
       "<thead><tr><th scope=col>X</th><th scope=col>sex</th><th scope=col>age_class</th><th scope=col>comp</th><th scope=col>triangle1</th><th scope=col>triangle2</th><th scope=col>doubleness1</th><th scope=col>doubleness2</th><th scope=col>doubleness3</th></tr></thead>\n",
       "<tbody>\n",
       "\t<tr><td>0       </td><td>Male    </td><td>20      </td><td>+S+V    </td><td>+S-V    </td><td>-S+V    </td><td>original</td><td>-S+V    </td><td>-S+V    </td></tr>\n",
       "\t<tr><td>1       </td><td>Female  </td><td>20      </td><td>-S-V    </td><td>-S-V    </td><td>-S+V    </td><td>-S+V    </td><td>original</td><td>-S+V    </td></tr>\n",
       "\t<tr><td>2       </td><td>Female  </td><td>20      </td><td>-S+V    </td><td>+S+V    </td><td>-S-V    </td><td>-S+V    </td><td>-S-V    </td><td>-S+V    </td></tr>\n",
       "\t<tr><td>3       </td><td>Female  </td><td>20      </td><td>+S-V    </td><td>+S-V    </td><td>+S+V    </td><td>+S-V    </td><td>+S+V    </td><td>-S-V    </td></tr>\n",
       "\t<tr><td>4       </td><td>Female  </td><td>20      </td><td>+S+V    </td><td>-S+V    </td><td>-S-V    </td><td>-S-V    </td><td>-S+V    </td><td>-S+V    </td></tr>\n",
       "\t<tr><td>5       </td><td>Female  </td><td>20      </td><td>original</td><td>+S+V    </td><td>-S-V    </td><td>-S+V    </td><td>-S+V    </td><td>-S+V    </td></tr>\n",
       "</tbody>\n",
       "</table>\n"
      ],
      "text/latex": [
       "\\begin{tabular}{r|lllllllll}\n",
       " X & sex & age\\_class & comp & triangle1 & triangle2 & doubleness1 & doubleness2 & doubleness3\\\\\n",
       "\\hline\n",
       "\t 0        & Male     & 20       & +S+V     & +S-V     & -S+V     & original & -S+V     & -S+V    \\\\\n",
       "\t 1        & Female   & 20       & -S-V     & -S-V     & -S+V     & -S+V     & original & -S+V    \\\\\n",
       "\t 2        & Female   & 20       & -S+V     & +S+V     & -S-V     & -S+V     & -S-V     & -S+V    \\\\\n",
       "\t 3        & Female   & 20       & +S-V     & +S-V     & +S+V     & +S-V     & +S+V     & -S-V    \\\\\n",
       "\t 4        & Female   & 20       & +S+V     & -S+V     & -S-V     & -S-V     & -S+V     & -S+V    \\\\\n",
       "\t 5        & Female   & 20       & original & +S+V     & -S-V     & -S+V     & -S+V     & -S+V    \\\\\n",
       "\\end{tabular}\n"
      ],
      "text/markdown": [
       "\n",
       "| X | sex | age_class | comp | triangle1 | triangle2 | doubleness1 | doubleness2 | doubleness3 |\n",
       "|---|---|---|---|---|---|---|---|---|\n",
       "| 0        | Male     | 20       | +S+V     | +S-V     | -S+V     | original | -S+V     | -S+V     |\n",
       "| 1        | Female   | 20       | -S-V     | -S-V     | -S+V     | -S+V     | original | -S+V     |\n",
       "| 2        | Female   | 20       | -S+V     | +S+V     | -S-V     | -S+V     | -S-V     | -S+V     |\n",
       "| 3        | Female   | 20       | +S-V     | +S-V     | +S+V     | +S-V     | +S+V     | -S-V     |\n",
       "| 4        | Female   | 20       | +S+V     | -S+V     | -S-V     | -S-V     | -S+V     | -S+V     |\n",
       "| 5        | Female   | 20       | original | +S+V     | -S-V     | -S+V     | -S+V     | -S+V     |\n",
       "\n"
      ],
      "text/plain": [
       "  X sex    age_class comp     triangle1 triangle2 doubleness1 doubleness2\n",
       "1 0 Male   20        +S+V     +S-V      -S+V      original    -S+V       \n",
       "2 1 Female 20        -S-V     -S-V      -S+V      -S+V        original   \n",
       "3 2 Female 20        -S+V     +S+V      -S-V      -S+V        -S-V       \n",
       "4 3 Female 20        +S-V     +S-V      +S+V      +S-V        +S+V       \n",
       "5 4 Female 20        +S+V     -S+V      -S-V      -S-V        -S+V       \n",
       "6 5 Female 20        original +S+V      -S-V      -S+V        -S+V       \n",
       "  doubleness3\n",
       "1 -S+V       \n",
       "2 -S+V       \n",
       "3 -S+V       \n",
       "4 -S-V       \n",
       "5 -S+V       \n",
       "6 -S+V       "
      ]
     },
     "metadata": {},
     "output_type": "display_data"
    }
   ],
   "source": [
    "# 데이터 불러오기\n",
    "\n",
    "AS_hueFixed_bright <- read.csv(\"C:/Users/cho ye seul/Documents/예슬/Acorn/FinalProject/Statistical Analysis/AS_hueFixed_bright.csv\")\n",
    "str(AS_hueFixed_bright)\n",
    "head(AS_hueFixed_bright)"
   ]
  },
  {
   "cell_type": "code",
   "execution_count": 57,
   "metadata": {},
   "outputs": [
    {
     "data": {
      "text/html": [
       "<table>\n",
       "<thead><tr><th></th><th scope=col>Female</th><th scope=col>Male</th></tr></thead>\n",
       "<tbody>\n",
       "\t<tr><th scope=row>-S-V</th><td>142</td><td>41 </td></tr>\n",
       "\t<tr><th scope=row>-S+V</th><td>115</td><td>26 </td></tr>\n",
       "\t<tr><th scope=row>+S-V</th><td> 82</td><td>29 </td></tr>\n",
       "\t<tr><th scope=row>+S+V</th><td>106</td><td>28 </td></tr>\n",
       "\t<tr><th scope=row>original</th><td> 83</td><td>32 </td></tr>\n",
       "</tbody>\n",
       "</table>\n"
      ],
      "text/latex": [
       "\\begin{tabular}{r|ll}\n",
       "  & Female & Male\\\\\n",
       "\\hline\n",
       "\t-S-V & 142 & 41 \\\\\n",
       "\t-S+V & 115 & 26 \\\\\n",
       "\t+S-V &  82 & 29 \\\\\n",
       "\t+S+V & 106 & 28 \\\\\n",
       "\toriginal &  83 & 32 \\\\\n",
       "\\end{tabular}\n"
      ],
      "text/markdown": [
       "\n",
       "| <!--/--> | Female | Male |\n",
       "|---|---|---|\n",
       "| -S-V | 142 | 41  |\n",
       "| -S+V | 115 | 26  |\n",
       "| +S-V |  82 | 29  |\n",
       "| +S+V | 106 | 28  |\n",
       "| original |  83 | 32  |\n",
       "\n"
      ],
      "text/plain": [
       "         Female Male\n",
       "-S-V     142    41  \n",
       "-S+V     115    26  \n",
       "+S-V      82    29  \n",
       "+S+V     106    28  \n",
       "original  83    32  "
      ]
     },
     "metadata": {},
     "output_type": "display_data"
    }
   ],
   "source": [
    "# 남여에 따른 bright 선택 횟수 DataFrame 만들기\n",
    "\n",
    "# 남여 비율알기 \n",
    "comp <- table(AS_hueFixed_bright$sex, AS_hueFixed_bright$comp)\n",
    "tri1 <- table(AS_hueFixed_bright$sex, AS_hueFixed_bright$triangle1)\n",
    "tri2 <- table(AS_hueFixed_bright$sex, AS_hueFixed_bright$triangle2)\n",
    "doub1 <- table(AS_hueFixed_bright$sex, AS_hueFixed_bright$doubleness1)\n",
    "doub2 <- table(AS_hueFixed_bright$sex, AS_hueFixed_bright$doubleness2)\n",
    "doub3 <- table(AS_hueFixed_bright$sex, AS_hueFixed_bright$doubleness3)\n",
    "\n",
    "# 선택 횟수 합치기\n",
    "F_1 <- comp[1] + tri1[1] + tri2[1] + doub1[1] + doub2[1] + doub3[1]\n",
    "F_3 <- comp[3] + tri1[3] + tri2[3] + doub1[3] + doub2[3] + doub3[3]\n",
    "F_5 <- comp[5] + tri1[5] + tri2[5] + doub1[5] + doub2[5] + doub3[5]\n",
    "F_7 <- comp[7] + tri1[7] + tri2[7] + doub1[7] + doub2[7] + doub3[7]\n",
    "F_9 <- comp[9] + tri1[9] + tri2[9] + doub1[9] + doub2[9] + doub3[9]\n",
    "\n",
    "M_2 <- comp[2] + tri1[2] + tri2[2] + doub1[2] + doub2[2] + doub3[2]\n",
    "M_4 <- comp[4] + tri1[4] + tri2[4] + doub1[4] + doub2[4] + doub3[4]\n",
    "M_6 <- comp[6] + tri1[6] + tri2[6] + doub1[6] + doub2[6] + doub3[6]\n",
    "M_8 <- comp[8] + tri1[8] + tri2[8] + doub1[8] + doub2[8] + doub3[8]\n",
    "M_10 <- comp[10] + tri1[10] + tri2[10] + doub1[10] + doub2[10] + doub3[10]\n",
    "\n",
    "# 컬럼 만들기\n",
    "Female <- c(F_1, F_3, F_5, F_7, F_9)\n",
    "Male <- c(M_2, M_4, M_6, M_8, M_10)\n",
    "\n",
    "# 데이터프레임 만들기\n",
    "sex_bright <- data.frame(Female, Male)\n",
    "rownames(sex_bright) <- c(\"-S-V\", \"-S+V\", \"+S-V\", \"+S+V\", \"original\")\n",
    "sex_bright"
   ]
  },
  {
   "cell_type": "markdown",
   "metadata": {},
   "source": [
    "#### ChiSquare test 이용\n",
    "\n",
    "    남여 비율이 일정하지 않으므로 chisq.test() 이용\n",
    "\n",
    "    귀무가설 : 남여 성별에 따른 색 인식차이 없다\n",
    "\n",
    "    대립가설 : 남여 성별에 따른 색 인식차이 있다"
   ]
  },
  {
   "cell_type": "code",
   "execution_count": 58,
   "metadata": {},
   "outputs": [
    {
     "data": {
      "text/plain": [
       "\n",
       "\tPearson's Chi-squared test\n",
       "\n",
       "data:  sex_bright\n",
       "X-squared = 4.1626, df = 4, p-value = 0.3844\n"
      ]
     },
     "metadata": {},
     "output_type": "display_data"
    }
   ],
   "source": [
    "## 카이제곱\n",
    "\n",
    "chisq.test(sex_bright)\n",
    "# p-value = 0.3844  0.05보다 큰 값을 가지므로 귀무가설 성립\n",
    "# 남여 성별에 따른 색 인식차이는 없다\n",
    "\n",
    "# 혹시몰라서 엑셀로 비율 차이 봤더니\n",
    "# 여 27 22 16 20 16\n",
    "# 남 26 17 19 18 21\n",
    "# 나름 비슷하네..."
   ]
  },
  {
   "cell_type": "code",
   "execution_count": null,
   "metadata": {},
   "outputs": [],
   "source": []
  },
  {
   "cell_type": "markdown",
   "metadata": {},
   "source": [
    "### 색 고정 / harmony"
   ]
  },
  {
   "cell_type": "code",
   "execution_count": 59,
   "metadata": {},
   "outputs": [
    {
     "name": "stdout",
     "output_type": "stream",
     "text": [
      "'data.frame':\t96 obs. of  9 variables:\n",
      " $ X          : int  0 1 2 3 4 5 6 7 8 9 ...\n",
      " $ sex        : Factor w/ 2 levels \"Female\",\"Male\": 1 2 1 2 1 1 1 1 1 1 ...\n",
      " $ age_class  : int  20 20 20 20 20 30 30 20 30 20 ...\n",
      " $ comp       : Factor w/ 5 levels \"-S-V\",\"-S+V\",..: 3 3 3 3 3 2 2 3 4 3 ...\n",
      " $ triangle1  : Factor w/ 5 levels \"-S-V\",\"-S+V\",..: 4 4 3 5 4 5 4 2 3 4 ...\n",
      " $ triangle2  : Factor w/ 5 levels \"-S-V\",\"-S+V\",..: 4 1 4 4 3 3 2 3 2 3 ...\n",
      " $ doubleness1: Factor w/ 5 levels \"-S-V\",\"-S+V\",..: 1 5 1 4 3 5 2 2 1 3 ...\n",
      " $ doubleness2: Factor w/ 5 levels \"-S-V\",\"-S+V\",..: 5 2 2 5 3 2 1 1 5 3 ...\n",
      " $ doubleness3: Factor w/ 5 levels \"-S-V\",\"-S+V\",..: 5 4 2 3 4 3 2 4 1 3 ...\n"
     ]
    },
    {
     "data": {
      "text/html": [
       "<table>\n",
       "<thead><tr><th scope=col>X</th><th scope=col>sex</th><th scope=col>age_class</th><th scope=col>comp</th><th scope=col>triangle1</th><th scope=col>triangle2</th><th scope=col>doubleness1</th><th scope=col>doubleness2</th><th scope=col>doubleness3</th></tr></thead>\n",
       "<tbody>\n",
       "\t<tr><td>0       </td><td>Female  </td><td>20      </td><td>+S-V    </td><td>+S+V    </td><td>+S+V    </td><td>-S-V    </td><td>original</td><td>original</td></tr>\n",
       "\t<tr><td>1       </td><td>Male    </td><td>20      </td><td>+S-V    </td><td>+S+V    </td><td>-S-V    </td><td>original</td><td>-S+V    </td><td>+S+V    </td></tr>\n",
       "\t<tr><td>2       </td><td>Female  </td><td>20      </td><td>+S-V    </td><td>+S-V    </td><td>+S+V    </td><td>-S-V    </td><td>-S+V    </td><td>-S+V    </td></tr>\n",
       "\t<tr><td>3       </td><td>Male    </td><td>20      </td><td>+S-V    </td><td>original</td><td>+S+V    </td><td>+S+V    </td><td>original</td><td>+S-V    </td></tr>\n",
       "\t<tr><td>4       </td><td>Female  </td><td>20      </td><td>+S-V    </td><td>+S+V    </td><td>+S-V    </td><td>+S-V    </td><td>+S-V    </td><td>+S+V    </td></tr>\n",
       "\t<tr><td>5       </td><td>Female  </td><td>30      </td><td>-S+V    </td><td>original</td><td>+S-V    </td><td>original</td><td>-S+V    </td><td>+S-V    </td></tr>\n",
       "</tbody>\n",
       "</table>\n"
      ],
      "text/latex": [
       "\\begin{tabular}{r|lllllllll}\n",
       " X & sex & age\\_class & comp & triangle1 & triangle2 & doubleness1 & doubleness2 & doubleness3\\\\\n",
       "\\hline\n",
       "\t 0        & Female   & 20       & +S-V     & +S+V     & +S+V     & -S-V     & original & original\\\\\n",
       "\t 1        & Male     & 20       & +S-V     & +S+V     & -S-V     & original & -S+V     & +S+V    \\\\\n",
       "\t 2        & Female   & 20       & +S-V     & +S-V     & +S+V     & -S-V     & -S+V     & -S+V    \\\\\n",
       "\t 3        & Male     & 20       & +S-V     & original & +S+V     & +S+V     & original & +S-V    \\\\\n",
       "\t 4        & Female   & 20       & +S-V     & +S+V     & +S-V     & +S-V     & +S-V     & +S+V    \\\\\n",
       "\t 5        & Female   & 30       & -S+V     & original & +S-V     & original & -S+V     & +S-V    \\\\\n",
       "\\end{tabular}\n"
      ],
      "text/markdown": [
       "\n",
       "| X | sex | age_class | comp | triangle1 | triangle2 | doubleness1 | doubleness2 | doubleness3 |\n",
       "|---|---|---|---|---|---|---|---|---|\n",
       "| 0        | Female   | 20       | +S-V     | +S+V     | +S+V     | -S-V     | original | original |\n",
       "| 1        | Male     | 20       | +S-V     | +S+V     | -S-V     | original | -S+V     | +S+V     |\n",
       "| 2        | Female   | 20       | +S-V     | +S-V     | +S+V     | -S-V     | -S+V     | -S+V     |\n",
       "| 3        | Male     | 20       | +S-V     | original | +S+V     | +S+V     | original | +S-V     |\n",
       "| 4        | Female   | 20       | +S-V     | +S+V     | +S-V     | +S-V     | +S-V     | +S+V     |\n",
       "| 5        | Female   | 30       | -S+V     | original | +S-V     | original | -S+V     | +S-V     |\n",
       "\n"
      ],
      "text/plain": [
       "  X sex    age_class comp triangle1 triangle2 doubleness1 doubleness2\n",
       "1 0 Female 20        +S-V +S+V      +S+V      -S-V        original   \n",
       "2 1 Male   20        +S-V +S+V      -S-V      original    -S+V       \n",
       "3 2 Female 20        +S-V +S-V      +S+V      -S-V        -S+V       \n",
       "4 3 Male   20        +S-V original  +S+V      +S+V        original   \n",
       "5 4 Female 20        +S-V +S+V      +S-V      +S-V        +S-V       \n",
       "6 5 Female 30        -S+V original  +S-V      original    -S+V       \n",
       "  doubleness3\n",
       "1 original   \n",
       "2 +S+V       \n",
       "3 -S+V       \n",
       "4 +S-V       \n",
       "5 +S+V       \n",
       "6 +S-V       "
      ]
     },
     "metadata": {},
     "output_type": "display_data"
    }
   ],
   "source": [
    "# 데이터 불러오기\n",
    "\n",
    "AS_hueFixed_harmony <- read.csv(\"C:/Users/cho ye seul/Documents/예슬/Acorn/FinalProject/Statistical Analysis/AS_hueFixed_harmony.csv\")\n",
    "str(AS_hueFixed_harmony)\n",
    "head(AS_hueFixed_harmony)"
   ]
  },
  {
   "cell_type": "code",
   "execution_count": 61,
   "metadata": {},
   "outputs": [
    {
     "data": {
      "text/html": [
       "<table>\n",
       "<thead><tr><th></th><th scope=col>h_Female</th><th scope=col>h_Male</th></tr></thead>\n",
       "<tbody>\n",
       "\t<tr><th scope=row>-S-V</th><td>30</td><td>15</td></tr>\n",
       "\t<tr><th scope=row>-S+V</th><td>94</td><td>51</td></tr>\n",
       "\t<tr><th scope=row>+S-V</th><td>90</td><td>44</td></tr>\n",
       "\t<tr><th scope=row>+S+V</th><td>87</td><td>60</td></tr>\n",
       "\t<tr><th scope=row>original</th><td>65</td><td>40</td></tr>\n",
       "</tbody>\n",
       "</table>\n"
      ],
      "text/latex": [
       "\\begin{tabular}{r|ll}\n",
       "  & h\\_Female & h\\_Male\\\\\n",
       "\\hline\n",
       "\t-S-V & 30 & 15\\\\\n",
       "\t-S+V & 94 & 51\\\\\n",
       "\t+S-V & 90 & 44\\\\\n",
       "\t+S+V & 87 & 60\\\\\n",
       "\toriginal & 65 & 40\\\\\n",
       "\\end{tabular}\n"
      ],
      "text/markdown": [
       "\n",
       "| <!--/--> | h_Female | h_Male |\n",
       "|---|---|---|\n",
       "| -S-V | 30 | 15 |\n",
       "| -S+V | 94 | 51 |\n",
       "| +S-V | 90 | 44 |\n",
       "| +S+V | 87 | 60 |\n",
       "| original | 65 | 40 |\n",
       "\n"
      ],
      "text/plain": [
       "         h_Female h_Male\n",
       "-S-V     30       15    \n",
       "-S+V     94       51    \n",
       "+S-V     90       44    \n",
       "+S+V     87       60    \n",
       "original 65       40    "
      ]
     },
     "metadata": {},
     "output_type": "display_data"
    }
   ],
   "source": [
    "# 남여에 따른 harmony 선택 횟수 DataFrame 만들기\n",
    "\n",
    "# 남여 비율알기 \n",
    "h_comp <- table(AS_hueFixed_harmony$sex, AS_hueFixed_harmony$comp)\n",
    "h_tri1 <- table(AS_hueFixed_harmony$sex, AS_hueFixed_harmony$triangle1)\n",
    "h_tri2 <- table(AS_hueFixed_harmony$sex, AS_hueFixed_harmony$triangle2)\n",
    "h_doub1 <- table(AS_hueFixed_harmony$sex, AS_hueFixed_harmony$doubleness1)\n",
    "h_doub2 <- table(AS_hueFixed_harmony$sex, AS_hueFixed_harmony$doubleness2)\n",
    "h_doub3 <- table(AS_hueFixed_harmony$sex, AS_hueFixed_harmony$doubleness3)\n",
    "\n",
    "# 선택 횟수 합치기\n",
    "h_F_1 <- h_comp[1] + h_tri1[1] + h_tri2[1] + h_doub1[1] + h_doub2[1] + h_doub3[1]\n",
    "h_F_3 <- h_comp[3] + h_tri1[3] + h_tri2[3] + h_doub1[3] + h_doub2[3] + h_doub3[3]\n",
    "h_F_5 <- h_comp[5] + h_tri1[5] + h_tri2[5] + h_doub1[5] + h_doub2[5] + h_doub3[5]\n",
    "h_F_7 <- h_comp[7] + h_tri1[7] + h_tri2[7] + h_doub1[7] + h_doub2[7] + h_doub3[7]\n",
    "h_F_9 <- h_comp[9] + h_tri1[9] + h_tri2[9] + h_doub1[9] + h_doub2[9] + h_doub3[9]\n",
    "\n",
    "h_M_2 <- h_comp[2] + h_tri1[2] + h_tri2[2] + h_doub1[2] + h_doub2[2] + h_doub3[2]\n",
    "h_M_4 <- h_comp[4] + h_tri1[4] + h_tri2[4] + h_doub1[4] + h_doub2[4] + h_doub3[4]\n",
    "h_M_6 <- h_comp[6] + h_tri1[6] + h_tri2[6] + h_doub1[6] + h_doub2[6] + h_doub3[6]\n",
    "h_M_8 <- h_comp[8] + h_tri1[8] + h_tri2[8] + h_doub1[8] + h_doub2[8] + h_doub3[8]\n",
    "h_M_10 <- h_comp[10] + h_tri1[10] + h_tri2[10] + h_doub1[10] + h_doub2[10] + h_doub3[10]\n",
    "\n",
    "# 컬럼 만들기\n",
    "h_Female <- c(h_F_1, h_F_3, h_F_5, h_F_7, h_F_9)\n",
    "h_Male <- c(h_M_2, h_M_4, h_M_6, h_M_8, h_M_10)\n",
    "\n",
    "# 데이터프레임 만들기\n",
    "sex_harmony <- data.frame(h_Female, h_Male)\n",
    "rownames(sex_harmony) <- c(\"-S-V\", \"-S+V\", \"+S-V\", \"+S+V\", \"original\")\n",
    "sex_harmony"
   ]
  },
  {
   "cell_type": "code",
   "execution_count": 62,
   "metadata": {},
   "outputs": [
    {
     "data": {
      "text/plain": [
       "\n",
       "\tPearson's Chi-squared test\n",
       "\n",
       "data:  sex_harmony\n",
       "X-squared = 2.3788, df = 4, p-value = 0.6665\n"
      ]
     },
     "metadata": {},
     "output_type": "display_data"
    }
   ],
   "source": [
    "## 카이제곱\n",
    "\n",
    "chisq.test(sex_harmony)\n",
    "# p-value = 0.6665  0.05보다 큰 값을 가지므로 귀무가설 성립\n",
    "# 남여 성별에 따른 색 인식차이는 없다\n",
    "\n",
    "# 혹시몰라서 엑셀로 비율 차이 봤더니\n",
    "# 여 8 26 25 24 18\n",
    "# 남 7 24 21 29 19\n",
    "# 비슷하네..."
   ]
  },
  {
   "cell_type": "code",
   "execution_count": null,
   "metadata": {},
   "outputs": [],
   "source": []
  },
  {
   "cell_type": "markdown",
   "metadata": {},
   "source": [
    "### 명도, 채도 변경 / bright"
   ]
  },
  {
   "cell_type": "code",
   "execution_count": 86,
   "metadata": {},
   "outputs": [
    {
     "name": "stdout",
     "output_type": "stream",
     "text": [
      "'data.frame':\t114 obs. of  9 variables:\n",
      " $ X          : int  0 1 2 3 4 5 6 7 8 9 ...\n",
      " $ sex        : Factor w/ 2 levels \"Female\",\"Male\": 2 1 1 1 1 1 1 2 1 1 ...\n",
      " $ age_class  : int  20 20 20 20 20 20 20 20 20 20 ...\n",
      " $ comp       : Factor w/ 5 levels \"144\",\"216\",\"288\",..: 1 2 3 1 1 5 3 2 4 2 ...\n",
      " $ triangle1  : Factor w/ 5 levels \"144\",\"216\",\"288\",..: 2 1 2 2 2 4 5 2 4 1 ...\n",
      " $ triangle2  : Factor w/ 5 levels \"144\",\"216\",\"288\",..: 1 3 2 1 1 1 3 1 1 2 ...\n",
      " $ doubleness1: Factor w/ 5 levels \"144\",\"216\",\"288\",..: 2 1 5 1 2 3 5 1 4 2 ...\n",
      " $ doubleness2: Factor w/ 5 levels \"144\",\"216\",\"288\",..: 2 5 1 2 1 4 5 4 5 1 ...\n",
      " $ doubleness3: Factor w/ 5 levels \"144\",\"216\",\"288\",..: 1 2 2 2 1 4 2 2 4 1 ...\n"
     ]
    },
    {
     "data": {
      "text/html": [
       "<table>\n",
       "<thead><tr><th scope=col>X</th><th scope=col>sex</th><th scope=col>age_class</th><th scope=col>comp</th><th scope=col>triangle1</th><th scope=col>triangle2</th><th scope=col>doubleness1</th><th scope=col>doubleness2</th><th scope=col>doubleness3</th></tr></thead>\n",
       "<tbody>\n",
       "\t<tr><td>0       </td><td>Male    </td><td>20      </td><td>144     </td><td>216     </td><td>144     </td><td>216     </td><td>216     </td><td>144     </td></tr>\n",
       "\t<tr><td>1       </td><td>Female  </td><td>20      </td><td>216     </td><td>144     </td><td>288     </td><td>144     </td><td>original</td><td>216     </td></tr>\n",
       "\t<tr><td>2       </td><td>Female  </td><td>20      </td><td>288     </td><td>216     </td><td>216     </td><td>original</td><td>144     </td><td>216     </td></tr>\n",
       "\t<tr><td>3       </td><td>Female  </td><td>20      </td><td>144     </td><td>216     </td><td>144     </td><td>144     </td><td>216     </td><td>216     </td></tr>\n",
       "\t<tr><td>4       </td><td>Female  </td><td>20      </td><td>144     </td><td>216     </td><td>144     </td><td>216     </td><td>144     </td><td>144     </td></tr>\n",
       "\t<tr><td>5       </td><td>Female  </td><td>20      </td><td>original</td><td>72      </td><td>144     </td><td>288     </td><td>72      </td><td>72      </td></tr>\n",
       "</tbody>\n",
       "</table>\n"
      ],
      "text/latex": [
       "\\begin{tabular}{r|lllllllll}\n",
       " X & sex & age\\_class & comp & triangle1 & triangle2 & doubleness1 & doubleness2 & doubleness3\\\\\n",
       "\\hline\n",
       "\t 0        & Male     & 20       & 144      & 216      & 144      & 216      & 216      & 144     \\\\\n",
       "\t 1        & Female   & 20       & 216      & 144      & 288      & 144      & original & 216     \\\\\n",
       "\t 2        & Female   & 20       & 288      & 216      & 216      & original & 144      & 216     \\\\\n",
       "\t 3        & Female   & 20       & 144      & 216      & 144      & 144      & 216      & 216     \\\\\n",
       "\t 4        & Female   & 20       & 144      & 216      & 144      & 216      & 144      & 144     \\\\\n",
       "\t 5        & Female   & 20       & original & 72       & 144      & 288      & 72       & 72      \\\\\n",
       "\\end{tabular}\n"
      ],
      "text/markdown": [
       "\n",
       "| X | sex | age_class | comp | triangle1 | triangle2 | doubleness1 | doubleness2 | doubleness3 |\n",
       "|---|---|---|---|---|---|---|---|---|\n",
       "| 0        | Male     | 20       | 144      | 216      | 144      | 216      | 216      | 144      |\n",
       "| 1        | Female   | 20       | 216      | 144      | 288      | 144      | original | 216      |\n",
       "| 2        | Female   | 20       | 288      | 216      | 216      | original | 144      | 216      |\n",
       "| 3        | Female   | 20       | 144      | 216      | 144      | 144      | 216      | 216      |\n",
       "| 4        | Female   | 20       | 144      | 216      | 144      | 216      | 144      | 144      |\n",
       "| 5        | Female   | 20       | original | 72       | 144      | 288      | 72       | 72       |\n",
       "\n"
      ],
      "text/plain": [
       "  X sex    age_class comp     triangle1 triangle2 doubleness1 doubleness2\n",
       "1 0 Male   20        144      216       144       216         216        \n",
       "2 1 Female 20        216      144       288       144         original   \n",
       "3 2 Female 20        288      216       216       original    144        \n",
       "4 3 Female 20        144      216       144       144         216        \n",
       "5 4 Female 20        144      216       144       216         144        \n",
       "6 5 Female 20        original 72        144       288         72         \n",
       "  doubleness3\n",
       "1 144        \n",
       "2 216        \n",
       "3 216        \n",
       "4 216        \n",
       "5 144        \n",
       "6 72         "
      ]
     },
     "metadata": {},
     "output_type": "display_data"
    }
   ],
   "source": [
    "# 데이터 불러오기\n",
    "\n",
    "AS_hueChanged_bright <- read.csv(\"C:/Users/cho ye seul/Documents/예슬/Acorn/FinalProject/Statistical Analysis/AS_hueChanged_bright.csv\")\n",
    "str(AS_hueChanged_bright)\n",
    "head(AS_hueChanged_bright)"
   ]
  },
  {
   "cell_type": "code",
   "execution_count": 87,
   "metadata": {},
   "outputs": [
    {
     "data": {
      "text/html": [
       "<table>\n",
       "<thead><tr><th></th><th scope=col>Female</th><th scope=col>Male</th></tr></thead>\n",
       "<tbody>\n",
       "\t<tr><th scope=row>144</th><td>170</td><td>41 </td></tr>\n",
       "\t<tr><th scope=row>216</th><td>115</td><td>51 </td></tr>\n",
       "\t<tr><th scope=row>288</th><td> 78</td><td>31 </td></tr>\n",
       "\t<tr><th scope=row>72</th><td>110</td><td>18 </td></tr>\n",
       "\t<tr><th scope=row>original</th><td> 55</td><td>15 </td></tr>\n",
       "</tbody>\n",
       "</table>\n"
      ],
      "text/latex": [
       "\\begin{tabular}{r|ll}\n",
       "  & Female & Male\\\\\n",
       "\\hline\n",
       "\t144 & 170 & 41 \\\\\n",
       "\t216 & 115 & 51 \\\\\n",
       "\t288 &  78 & 31 \\\\\n",
       "\t72 & 110 & 18 \\\\\n",
       "\toriginal &  55 & 15 \\\\\n",
       "\\end{tabular}\n"
      ],
      "text/markdown": [
       "\n",
       "| <!--/--> | Female | Male |\n",
       "|---|---|---|\n",
       "| 144 | 170 | 41  |\n",
       "| 216 | 115 | 51  |\n",
       "| 288 |  78 | 31  |\n",
       "| 72 | 110 | 18  |\n",
       "| original |  55 | 15  |\n",
       "\n"
      ],
      "text/plain": [
       "         Female Male\n",
       "144      170    41  \n",
       "216      115    51  \n",
       "288       78    31  \n",
       "72       110    18  \n",
       "original  55    15  "
      ]
     },
     "metadata": {},
     "output_type": "display_data"
    }
   ],
   "source": [
    "# 남여에 따른 bright 선택 횟수 DataFrame 만들기\n",
    "\n",
    "# 남여 비율알기 \n",
    "comp <- table(AS_hueChanged_bright$sex, AS_hueChanged_bright$comp)\n",
    "tri1 <- table(AS_hueChanged_bright$sex, AS_hueChanged_bright$triangle1)\n",
    "tri2 <- table(AS_hueChanged_bright$sex, AS_hueChanged_bright$triangle2)\n",
    "doub1 <- table(AS_hueChanged_bright$sex, AS_hueChanged_bright$doubleness1)\n",
    "doub2 <- table(AS_hueChanged_bright$sex, AS_hueChanged_bright$doubleness2)\n",
    "doub3 <- table(AS_hueChanged_bright$sex, AS_hueChanged_bright$doubleness3)\n",
    "\n",
    "# 선택 횟수 합치기\n",
    "F_1 <- comp[1] + tri1[1] + tri2[1] + doub1[1] + doub2[1] + doub3[1]\n",
    "F_3 <- comp[3] + tri1[3] + tri2[3] + doub1[3] + doub2[3] + doub3[3]\n",
    "F_5 <- comp[5] + tri1[5] + tri2[5] + doub1[5] + doub2[5] + doub3[5]\n",
    "F_7 <- comp[7] + tri1[7] + tri2[7] + doub1[7] + doub2[7] + doub3[7]\n",
    "F_9 <- comp[9] + tri1[9] + tri2[9] + doub1[9] + doub2[9] + doub3[9]\n",
    "\n",
    "M_2 <- comp[2] + tri1[2] + tri2[2] + doub1[2] + doub2[2] + doub3[2]\n",
    "M_4 <- comp[4] + tri1[4] + tri2[4] + doub1[4] + doub2[4] + doub3[4]\n",
    "M_6 <- comp[6] + tri1[6] + tri2[6] + doub1[6] + doub2[6] + doub3[6]\n",
    "M_8 <- comp[8] + tri1[8] + tri2[8] + doub1[8] + doub2[8] + doub3[8]\n",
    "M_10 <- comp[10] + tri1[10] + tri2[10] + doub1[10] + doub2[10] + doub3[10]\n",
    "\n",
    "# 컬럼 만들기\n",
    "Female <- c(F_1, F_3, F_5, F_7, F_9)\n",
    "Male <- c(M_2, M_4, M_6, M_8, M_10)\n",
    "\n",
    "# 데이터프레임 만들기\n",
    "sex_C_bright <- data.frame(Female, Male)\n",
    "rownames(sex_C_bright) <- c(\"144\", \"216\", \"288\", \"72\", \"original\")\n",
    "sex_C_bright"
   ]
  },
  {
   "cell_type": "code",
   "execution_count": 89,
   "metadata": {},
   "outputs": [
    {
     "data": {
      "text/plain": [
       "\n",
       "\tPearson's Chi-squared test\n",
       "\n",
       "data:  sex_C_bright\n",
       "X-squared = 14.874, df = 4, p-value = 0.00497\n"
      ]
     },
     "metadata": {},
     "output_type": "display_data"
    }
   ],
   "source": [
    "## 카이제곱\n",
    "\n",
    "chisq.test(sex_C_bright)\n",
    "# p-value = 0.00497 0.05보다 작은 값을 가지므로 대립가설 성립\n",
    "# 남여 성별에 따른 색 인식차이는 있다\n",
    "\n",
    "# 혹시몰라서 엑셀로 비율 차이 봤더니\n",
    "# 여 32 22 15 21 10\n",
    "# 남 26 33 20 12 10\n",
    "# 좀 차이가 나네....ㅎ 그렇다고 p-value가 혼자 이렇게 낮아?! 이상한데.....왜?????"
   ]
  },
  {
   "cell_type": "markdown",
   "metadata": {},
   "source": [
    "### Cochran-Amitage trend test : prop.trend.test()\n",
    "\n",
    "    색 변경 각도가 점점 커지는 것이니 트랜드가 있다고 판단\n",
    "    그래서 chisq.test() 대신 prop.trend.test() 사용"
   ]
  },
  {
   "cell_type": "code",
   "execution_count": 88,
   "metadata": {},
   "outputs": [
    {
     "data": {
      "text/html": [
       "<table>\n",
       "<thead><tr><th></th><th scope=col>Female</th></tr></thead>\n",
       "<tbody>\n",
       "\t<tr><th scope=row>144</th><td>170</td></tr>\n",
       "\t<tr><th scope=row>216</th><td>115</td></tr>\n",
       "\t<tr><th scope=row>288</th><td> 78</td></tr>\n",
       "\t<tr><th scope=row>72</th><td>110</td></tr>\n",
       "\t<tr><th scope=row>original</th><td> 55</td></tr>\n",
       "</tbody>\n",
       "</table>\n"
      ],
      "text/latex": [
       "\\begin{tabular}{r|l}\n",
       "  & Female\\\\\n",
       "\\hline\n",
       "\t144 & 170\\\\\n",
       "\t216 & 115\\\\\n",
       "\t288 &  78\\\\\n",
       "\t72 & 110\\\\\n",
       "\toriginal &  55\\\\\n",
       "\\end{tabular}\n"
      ],
      "text/markdown": [
       "\n",
       "| <!--/--> | Female |\n",
       "|---|---|\n",
       "| 144 | 170 |\n",
       "| 216 | 115 |\n",
       "| 288 |  78 |\n",
       "| 72 | 110 |\n",
       "| original |  55 |\n",
       "\n"
      ],
      "text/plain": [
       "         Female\n",
       "144      170   \n",
       "216      115   \n",
       "288       78   \n",
       "72       110   \n",
       "original  55   "
      ]
     },
     "metadata": {},
     "output_type": "display_data"
    },
    {
     "data": {
      "text/html": [
       "<dl class=dl-horizontal>\n",
       "\t<dt>Female</dt>\n",
       "\t\t<dd>528</dd>\n",
       "\t<dt>Male</dt>\n",
       "\t\t<dd>156</dd>\n",
       "</dl>\n"
      ],
      "text/latex": [
       "\\begin{description*}\n",
       "\\item[Female] 528\n",
       "\\item[Male] 156\n",
       "\\end{description*}\n"
      ],
      "text/markdown": [
       "Female\n",
       ":   528Male\n",
       ":   156\n",
       "\n"
      ],
      "text/plain": [
       "Female   Male \n",
       "   528    156 "
      ]
     },
     "metadata": {},
     "output_type": "display_data"
    },
    {
     "ename": "ERROR",
     "evalue": "Error in model.frame.default(formula = freq ~ score, data = list(freq = x/n, : 변수 freq에 유효하지 않은 타입 (list)입니다\n",
     "output_type": "error",
     "traceback": [
      "Error in model.frame.default(formula = freq ~ score, data = list(freq = x/n, : 변수 freq에 유효하지 않은 타입 (list)입니다\nTraceback:\n",
      "1. prop.trend.test(x = sex_C_bright[1], n = colSums(sex_C_bright))",
      "2. anova(lm(freq ~ score, data = list(freq = x/n, score = as.vector(score)), \n .     weights = w))",
      "3. lm(freq ~ score, data = list(freq = x/n, score = as.vector(score)), \n .     weights = w)",
      "4. eval(mf, parent.frame())",
      "5. eval(mf, parent.frame())",
      "6. stats::model.frame(formula = freq ~ score, data = list(freq = x/n, \n .     score = as.vector(score)), weights = w, drop.unused.levels = TRUE)",
      "7. model.frame.default(formula = freq ~ score, data = list(freq = x/n, \n .     score = as.vector(score)), weights = w, drop.unused.levels = TRUE)"
     ]
    }
   ],
   "source": [
    "# Female 에 해당하는 값 뽑아내기(x)\n",
    "sex_C_bright[1]\n",
    "\n",
    "# 각 열의 합계 뽑아내기(n)\n",
    "colSums(sex_C_bright)\n",
    "\n",
    "# # Cochran-Amitage trend test : prop.trend.test()\n",
    "prop.trend.test(x=sex_C_bright[1], n=colSums(sex_C_bright)) # 외 않되? 일단 패스.. 난 바쁘다"
   ]
  },
  {
   "cell_type": "code",
   "execution_count": null,
   "metadata": {},
   "outputs": [],
   "source": []
  },
  {
   "cell_type": "markdown",
   "metadata": {},
   "source": [
    "### 명도, 채도 변경 / harmony"
   ]
  },
  {
   "cell_type": "code",
   "execution_count": 90,
   "metadata": {},
   "outputs": [
    {
     "name": "stdout",
     "output_type": "stream",
     "text": [
      "'data.frame':\t96 obs. of  9 variables:\n",
      " $ X          : int  0 1 2 3 4 5 6 7 8 9 ...\n",
      " $ sex        : Factor w/ 2 levels \"Female\",\"Male\": 1 2 1 2 1 1 1 1 1 1 ...\n",
      " $ age_class  : int  20 20 20 20 20 30 30 20 30 20 ...\n",
      " $ comp       : Factor w/ 5 levels \"144\",\"216\",\"288\",..: 3 3 3 3 3 1 1 3 2 3 ...\n",
      " $ triangle1  : Factor w/ 5 levels \"144\",\"216\",\"288\",..: 2 2 3 5 2 5 2 1 3 2 ...\n",
      " $ triangle2  : Factor w/ 5 levels \"144\",\"216\",\"288\",..: 2 4 2 2 3 3 1 3 1 3 ...\n",
      " $ doubleness1: Factor w/ 5 levels \"144\",\"216\",\"288\",..: 4 5 4 2 3 5 1 1 4 3 ...\n",
      " $ doubleness2: Factor w/ 5 levels \"144\",\"216\",\"288\",..: 5 1 1 5 3 1 4 4 5 3 ...\n",
      " $ doubleness3: Factor w/ 5 levels \"144\",\"216\",\"288\",..: 5 2 1 3 2 3 1 2 4 3 ...\n"
     ]
    },
    {
     "data": {
      "text/html": [
       "<table>\n",
       "<thead><tr><th scope=col>X</th><th scope=col>sex</th><th scope=col>age_class</th><th scope=col>comp</th><th scope=col>triangle1</th><th scope=col>triangle2</th><th scope=col>doubleness1</th><th scope=col>doubleness2</th><th scope=col>doubleness3</th></tr></thead>\n",
       "<tbody>\n",
       "\t<tr><td>0       </td><td>Female  </td><td>20      </td><td>288     </td><td>216     </td><td>216     </td><td>72      </td><td>original</td><td>original</td></tr>\n",
       "\t<tr><td>1       </td><td>Male    </td><td>20      </td><td>288     </td><td>216     </td><td>72      </td><td>original</td><td>144     </td><td>216     </td></tr>\n",
       "\t<tr><td>2       </td><td>Female  </td><td>20      </td><td>288     </td><td>288     </td><td>216     </td><td>72      </td><td>144     </td><td>144     </td></tr>\n",
       "\t<tr><td>3       </td><td>Male    </td><td>20      </td><td>288     </td><td>original</td><td>216     </td><td>216     </td><td>original</td><td>288     </td></tr>\n",
       "\t<tr><td>4       </td><td>Female  </td><td>20      </td><td>288     </td><td>216     </td><td>288     </td><td>288     </td><td>288     </td><td>216     </td></tr>\n",
       "\t<tr><td>5       </td><td>Female  </td><td>30      </td><td>144     </td><td>original</td><td>288     </td><td>original</td><td>144     </td><td>288     </td></tr>\n",
       "</tbody>\n",
       "</table>\n"
      ],
      "text/latex": [
       "\\begin{tabular}{r|lllllllll}\n",
       " X & sex & age\\_class & comp & triangle1 & triangle2 & doubleness1 & doubleness2 & doubleness3\\\\\n",
       "\\hline\n",
       "\t 0        & Female   & 20       & 288      & 216      & 216      & 72       & original & original\\\\\n",
       "\t 1        & Male     & 20       & 288      & 216      & 72       & original & 144      & 216     \\\\\n",
       "\t 2        & Female   & 20       & 288      & 288      & 216      & 72       & 144      & 144     \\\\\n",
       "\t 3        & Male     & 20       & 288      & original & 216      & 216      & original & 288     \\\\\n",
       "\t 4        & Female   & 20       & 288      & 216      & 288      & 288      & 288      & 216     \\\\\n",
       "\t 5        & Female   & 30       & 144      & original & 288      & original & 144      & 288     \\\\\n",
       "\\end{tabular}\n"
      ],
      "text/markdown": [
       "\n",
       "| X | sex | age_class | comp | triangle1 | triangle2 | doubleness1 | doubleness2 | doubleness3 |\n",
       "|---|---|---|---|---|---|---|---|---|\n",
       "| 0        | Female   | 20       | 288      | 216      | 216      | 72       | original | original |\n",
       "| 1        | Male     | 20       | 288      | 216      | 72       | original | 144      | 216      |\n",
       "| 2        | Female   | 20       | 288      | 288      | 216      | 72       | 144      | 144      |\n",
       "| 3        | Male     | 20       | 288      | original | 216      | 216      | original | 288      |\n",
       "| 4        | Female   | 20       | 288      | 216      | 288      | 288      | 288      | 216      |\n",
       "| 5        | Female   | 30       | 144      | original | 288      | original | 144      | 288      |\n",
       "\n"
      ],
      "text/plain": [
       "  X sex    age_class comp triangle1 triangle2 doubleness1 doubleness2\n",
       "1 0 Female 20        288  216       216       72          original   \n",
       "2 1 Male   20        288  216       72        original    144        \n",
       "3 2 Female 20        288  288       216       72          144        \n",
       "4 3 Male   20        288  original  216       216         original   \n",
       "5 4 Female 20        288  216       288       288         288        \n",
       "6 5 Female 30        144  original  288       original    144        \n",
       "  doubleness3\n",
       "1 original   \n",
       "2 216        \n",
       "3 144        \n",
       "4 288        \n",
       "5 216        \n",
       "6 288        "
      ]
     },
     "metadata": {},
     "output_type": "display_data"
    }
   ],
   "source": [
    "# 데이터 불러오기\n",
    "\n",
    "AS_hueChanged_harmony <- read.csv(\"C:/Users/cho ye seul/Documents/예슬/Acorn/FinalProject/Statistical Analysis/AS_hueChanged_harmony.csv\")\n",
    "str(AS_hueChanged_harmony)\n",
    "head(AS_hueChanged_harmony)"
   ]
  },
  {
   "cell_type": "code",
   "execution_count": 91,
   "metadata": {},
   "outputs": [
    {
     "data": {
      "text/html": [
       "<table>\n",
       "<thead><tr><th></th><th scope=col>Female</th><th scope=col>Male</th></tr></thead>\n",
       "<tbody>\n",
       "\t<tr><th scope=row>144</th><td>94</td><td>51</td></tr>\n",
       "\t<tr><th scope=row>216</th><td>87</td><td>60</td></tr>\n",
       "\t<tr><th scope=row>288</th><td>90</td><td>44</td></tr>\n",
       "\t<tr><th scope=row>72</th><td>30</td><td>15</td></tr>\n",
       "\t<tr><th scope=row>original</th><td>65</td><td>40</td></tr>\n",
       "</tbody>\n",
       "</table>\n"
      ],
      "text/latex": [
       "\\begin{tabular}{r|ll}\n",
       "  & Female & Male\\\\\n",
       "\\hline\n",
       "\t144 & 94 & 51\\\\\n",
       "\t216 & 87 & 60\\\\\n",
       "\t288 & 90 & 44\\\\\n",
       "\t72 & 30 & 15\\\\\n",
       "\toriginal & 65 & 40\\\\\n",
       "\\end{tabular}\n"
      ],
      "text/markdown": [
       "\n",
       "| <!--/--> | Female | Male |\n",
       "|---|---|---|\n",
       "| 144 | 94 | 51 |\n",
       "| 216 | 87 | 60 |\n",
       "| 288 | 90 | 44 |\n",
       "| 72 | 30 | 15 |\n",
       "| original | 65 | 40 |\n",
       "\n"
      ],
      "text/plain": [
       "         Female Male\n",
       "144      94     51  \n",
       "216      87     60  \n",
       "288      90     44  \n",
       "72       30     15  \n",
       "original 65     40  "
      ]
     },
     "metadata": {},
     "output_type": "display_data"
    }
   ],
   "source": [
    "# 남여에 따른 harmony 선택 횟수 DataFrame 만들기\n",
    "\n",
    "# 남여 비율알기 \n",
    "comp <- table(AS_hueChanged_harmony$sex, AS_hueChanged_harmony$comp)\n",
    "tri1 <- table(AS_hueChanged_harmony$sex, AS_hueChanged_harmony$triangle1)\n",
    "tri2 <- table(AS_hueChanged_harmony$sex, AS_hueChanged_harmony$triangle2)\n",
    "doub1 <- table(AS_hueChanged_harmony$sex, AS_hueChanged_harmony$doubleness1)\n",
    "doub2 <- table(AS_hueChanged_harmony$sex, AS_hueChanged_harmony$doubleness2)\n",
    "doub3 <- table(AS_hueChanged_harmony$sex, AS_hueChanged_harmony$doubleness3)\n",
    "\n",
    "# 선택 횟수 합치기\n",
    "F_1 <- comp[1] + tri1[1] + tri2[1] + doub1[1] + doub2[1] + doub3[1]\n",
    "F_3 <- comp[3] + tri1[3] + tri2[3] + doub1[3] + doub2[3] + doub3[3]\n",
    "F_5 <- comp[5] + tri1[5] + tri2[5] + doub1[5] + doub2[5] + doub3[5]\n",
    "F_7 <- comp[7] + tri1[7] + tri2[7] + doub1[7] + doub2[7] + doub3[7]\n",
    "F_9 <- comp[9] + tri1[9] + tri2[9] + doub1[9] + doub2[9] + doub3[9]\n",
    "\n",
    "M_2 <- comp[2] + tri1[2] + tri2[2] + doub1[2] + doub2[2] + doub3[2]\n",
    "M_4 <- comp[4] + tri1[4] + tri2[4] + doub1[4] + doub2[4] + doub3[4]\n",
    "M_6 <- comp[6] + tri1[6] + tri2[6] + doub1[6] + doub2[6] + doub3[6]\n",
    "M_8 <- comp[8] + tri1[8] + tri2[8] + doub1[8] + doub2[8] + doub3[8]\n",
    "M_10 <- comp[10] + tri1[10] + tri2[10] + doub1[10] + doub2[10] + doub3[10]\n",
    "\n",
    "# 컬럼 만들기\n",
    "Female <- c(F_1, F_3, F_5, F_7, F_9)\n",
    "Male <- c(M_2, M_4, M_6, M_8, M_10)\n",
    "\n",
    "# 데이터프레임 만들기\n",
    "sex_C_harmony <- data.frame(Female, Male)\n",
    "rownames(sex_C_harmony) <- c(\"144\", \"216\", \"288\", \"72\", \"original\")\n",
    "sex_C_harmony"
   ]
  },
  {
   "cell_type": "code",
   "execution_count": 92,
   "metadata": {},
   "outputs": [
    {
     "data": {
      "text/plain": [
       "\n",
       "\tPearson's Chi-squared test\n",
       "\n",
       "data:  sex_C_harmony\n",
       "X-squared = 2.3788, df = 4, p-value = 0.6665\n"
      ]
     },
     "metadata": {},
     "output_type": "display_data"
    }
   ],
   "source": [
    "## 카이제곱\n",
    "\n",
    "chisq.test(sex_C_harmony)\n",
    "# p-value =0.6665 0.05보다 큰 값을 가지므로 귀무가설 성립\n",
    "# 남여 성별에 따른 색 인식차이는 없다\n",
    "\n",
    "# 혹시몰라서 엑셀로 비율 차이 봤더니\n",
    "# 여 26 24 25 8 18\n",
    "# 남 24 29 21 7 19\n",
    "# 비슷하네... # 으... bright랑 같은 결론 나오면 좋았을텐데"
   ]
  },
  {
   "cell_type": "code",
   "execution_count": null,
   "metadata": {},
   "outputs": [],
   "source": []
  },
  {
   "cell_type": "markdown",
   "metadata": {},
   "source": [
    "### 여기까지 결과\n",
    "\n",
    "    - 색 고정 / bright : 남여 색 인식 차이 없음\n",
    "    - 색 고정 / harmony : 남여 색 인식 차이 없음\n",
    "    - 명도, 채도 고정 / bright : 남여 색 인식 차이 있음\n",
    "    - 명도, 채도 고정 / harmony : 남여 색 인식 차이 없음\n",
    "\n",
    "    다같은 결과가 나오면 참 좋을텐데, 하나가 달라버렸다\n",
    "    그것도 p-value값이 현저히 낮게 나왔다\n",
    "    음.. 이유는 남여에 따라 색이 변화했을때 밝게 보는 것이 다른가봅니다.. 이것인데\n",
    "\n",
    "    다음에는 색고정 / 명도채도고정, bright / harmony 이렇게 두그룹으로만 나눠서도 봐야겠다.."
   ]
  }
 ],
 "metadata": {
  "kernelspec": {
   "display_name": "R",
   "language": "R",
   "name": "ir"
  },
  "language_info": {
   "codemirror_mode": "r",
   "file_extension": ".r",
   "mimetype": "text/x-r-source",
   "name": "R",
   "pygments_lexer": "r",
   "version": "3.6.1"
  }
 },
 "nbformat": 4,
 "nbformat_minor": 2
}
