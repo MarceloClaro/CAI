{
 "cells": [
  {
   "cell_type": "code",
   "execution_count": 1,
   "metadata": {
    "scrolled": true
   },
   "outputs": [
    {
     "name": "stderr",
     "output_type": "stream",
     "text": [
      "Warning message:\n",
      "\"package 'ROCR' was built under R version 3.6.3\"Loading required package: gplots\n",
      "Warning message:\n",
      "\"package 'gplots' was built under R version 3.6.3\"\n",
      "Attaching package: 'gplots'\n",
      "\n",
      "The following object is masked from 'package:stats':\n",
      "\n",
      "    lowess\n",
      "\n",
      "Warning message:\n",
      "\"package 'dplyr' was built under R version 3.6.3\"\n",
      "Attaching package: 'dplyr'\n",
      "\n",
      "The following objects are masked from 'package:stats':\n",
      "\n",
      "    filter, lag\n",
      "\n",
      "The following objects are masked from 'package:base':\n",
      "\n",
      "    intersect, setdiff, setequal, union\n",
      "\n"
     ]
    }
   ],
   "source": [
    "library(ROCR)\n",
    "library(dplyr)"
   ]
  },
  {
   "cell_type": "code",
   "execution_count": 2,
   "metadata": {},
   "outputs": [],
   "source": [
    "survey <- read.csv('전처리/2번설문/change_harmony.csv')"
   ]
  },
  {
   "cell_type": "code",
   "execution_count": 3,
   "metadata": {
    "scrolled": false
   },
   "outputs": [
    {
     "name": "stdout",
     "output_type": "stream",
     "text": [
      "'data.frame':\t96 obs. of  13 variables:\n",
      " $ X          : int  0 1 2 3 4 5 6 7 8 9 ...\n",
      " $ sex        : Factor w/ 2 levels \"Female\",\"Male\": 1 2 1 2 1 1 1 1 1 1 ...\n",
      " $ age_class  : int  20 20 20 20 20 30 30 20 30 20 ...\n",
      " $ definition : Factor w/ 2 levels \"bright\",\"harmony\": 1 2 1 1 1 2 2 1 2 2 ...\n",
      " $ need       : Factor w/ 2 levels \"bright\",\"harmony\": 1 2 1 2 1 2 1 1 1 2 ...\n",
      " $ purpose    : Factor w/ 3 levels \"clothes\",\"cosmetic\",..: 1 1 1 1 2 1 1 2 3 1 ...\n",
      " $ interest   : int  3 5 5 3 3 4 3 3 5 1 ...\n",
      " $ comp       : int  3 5 5 5 2 3 3 2 2 5 ...\n",
      " $ triangle1  : int  4 5 5 5 4 2 5 5 5 4 ...\n",
      " $ triangle2  : int  3 4 4 2 3 2 3 3 1 2 ...\n",
      " $ doubleness1: int  2 1 2 5 4 5 2 1 5 1 ...\n",
      " $ doubleness2: int  2 2 2 4 3 4 3 5 2 4 ...\n",
      " $ doubleness3: int  1 3 1 5 1 5 5 3 1 2 ...\n"
     ]
    },
    {
     "data": {
      "text/html": [
       "<table>\n",
       "<thead><tr><th scope=col>X</th><th scope=col>sex</th><th scope=col>age_class</th><th scope=col>definition</th><th scope=col>need</th><th scope=col>purpose</th><th scope=col>interest</th><th scope=col>comp</th><th scope=col>triangle1</th><th scope=col>triangle2</th><th scope=col>doubleness1</th><th scope=col>doubleness2</th><th scope=col>doubleness3</th></tr></thead>\n",
       "<tbody>\n",
       "\t<tr><td>0       </td><td>Female  </td><td>20      </td><td>bright  </td><td>bright  </td><td>clothes </td><td>3       </td><td>3       </td><td>4       </td><td>3       </td><td>2       </td><td>2       </td><td>1       </td></tr>\n",
       "\t<tr><td>1       </td><td>Male    </td><td>20      </td><td>harmony </td><td>harmony </td><td>clothes </td><td>5       </td><td>5       </td><td>5       </td><td>4       </td><td>1       </td><td>2       </td><td>3       </td></tr>\n",
       "\t<tr><td>2       </td><td>Female  </td><td>20      </td><td>bright  </td><td>bright  </td><td>clothes </td><td>5       </td><td>5       </td><td>5       </td><td>4       </td><td>2       </td><td>2       </td><td>1       </td></tr>\n",
       "\t<tr><td>3       </td><td>Male    </td><td>20      </td><td>bright  </td><td>harmony </td><td>clothes </td><td>3       </td><td>5       </td><td>5       </td><td>2       </td><td>5       </td><td>4       </td><td>5       </td></tr>\n",
       "\t<tr><td>4       </td><td>Female  </td><td>20      </td><td>bright  </td><td>bright  </td><td>cosmetic</td><td>3       </td><td>2       </td><td>4       </td><td>3       </td><td>4       </td><td>3       </td><td>1       </td></tr>\n",
       "\t<tr><td>5       </td><td>Female  </td><td>30      </td><td>harmony </td><td>harmony </td><td>clothes </td><td>4       </td><td>3       </td><td>2       </td><td>2       </td><td>5       </td><td>4       </td><td>5       </td></tr>\n",
       "</tbody>\n",
       "</table>\n"
      ],
      "text/latex": [
       "\\begin{tabular}{r|lllllllllllll}\n",
       " X & sex & age\\_class & definition & need & purpose & interest & comp & triangle1 & triangle2 & doubleness1 & doubleness2 & doubleness3\\\\\n",
       "\\hline\n",
       "\t 0        & Female   & 20       & bright   & bright   & clothes  & 3        & 3        & 4        & 3        & 2        & 2        & 1       \\\\\n",
       "\t 1        & Male     & 20       & harmony  & harmony  & clothes  & 5        & 5        & 5        & 4        & 1        & 2        & 3       \\\\\n",
       "\t 2        & Female   & 20       & bright   & bright   & clothes  & 5        & 5        & 5        & 4        & 2        & 2        & 1       \\\\\n",
       "\t 3        & Male     & 20       & bright   & harmony  & clothes  & 3        & 5        & 5        & 2        & 5        & 4        & 5       \\\\\n",
       "\t 4        & Female   & 20       & bright   & bright   & cosmetic & 3        & 2        & 4        & 3        & 4        & 3        & 1       \\\\\n",
       "\t 5        & Female   & 30       & harmony  & harmony  & clothes  & 4        & 3        & 2        & 2        & 5        & 4        & 5       \\\\\n",
       "\\end{tabular}\n"
      ],
      "text/markdown": [
       "\n",
       "| X | sex | age_class | definition | need | purpose | interest | comp | triangle1 | triangle2 | doubleness1 | doubleness2 | doubleness3 |\n",
       "|---|---|---|---|---|---|---|---|---|---|---|---|---|\n",
       "| 0        | Female   | 20       | bright   | bright   | clothes  | 3        | 3        | 4        | 3        | 2        | 2        | 1        |\n",
       "| 1        | Male     | 20       | harmony  | harmony  | clothes  | 5        | 5        | 5        | 4        | 1        | 2        | 3        |\n",
       "| 2        | Female   | 20       | bright   | bright   | clothes  | 5        | 5        | 5        | 4        | 2        | 2        | 1        |\n",
       "| 3        | Male     | 20       | bright   | harmony  | clothes  | 3        | 5        | 5        | 2        | 5        | 4        | 5        |\n",
       "| 4        | Female   | 20       | bright   | bright   | cosmetic | 3        | 2        | 4        | 3        | 4        | 3        | 1        |\n",
       "| 5        | Female   | 30       | harmony  | harmony  | clothes  | 4        | 3        | 2        | 2        | 5        | 4        | 5        |\n",
       "\n"
      ],
      "text/plain": [
       "  X sex    age_class definition need    purpose  interest comp triangle1\n",
       "1 0 Female 20        bright     bright  clothes  3        3    4        \n",
       "2 1 Male   20        harmony    harmony clothes  5        5    5        \n",
       "3 2 Female 20        bright     bright  clothes  5        5    5        \n",
       "4 3 Male   20        bright     harmony clothes  3        5    5        \n",
       "5 4 Female 20        bright     bright  cosmetic 3        2    4        \n",
       "6 5 Female 30        harmony    harmony clothes  4        3    2        \n",
       "  triangle2 doubleness1 doubleness2 doubleness3\n",
       "1 3         2           2           1          \n",
       "2 4         1           2           3          \n",
       "3 4         2           2           1          \n",
       "4 2         5           4           5          \n",
       "5 3         4           3           1          \n",
       "6 2         5           4           5          "
      ]
     },
     "metadata": {},
     "output_type": "display_data"
    }
   ],
   "source": [
    "str(survey)\n",
    "head(survey)"
   ]
  },
  {
   "cell_type": "code",
   "execution_count": 4,
   "metadata": {
    "scrolled": true
   },
   "outputs": [],
   "source": [
    "survey2 = filter(survey, sex=='Female', age_class==20)"
   ]
  },
  {
   "cell_type": "code",
   "execution_count": 5,
   "metadata": {},
   "outputs": [
    {
     "name": "stdout",
     "output_type": "stream",
     "text": [
      "'data.frame':\t32 obs. of  13 variables:\n",
      " $ X          : int  0 2 4 7 9 11 12 14 15 23 ...\n",
      " $ sex        : Factor w/ 2 levels \"Female\",\"Male\": 1 1 1 1 1 1 1 1 1 1 ...\n",
      " $ age_class  : int  20 20 20 20 20 20 20 20 20 20 ...\n",
      " $ definition : Factor w/ 2 levels \"bright\",\"harmony\": 1 1 1 1 2 1 2 2 1 2 ...\n",
      " $ need       : Factor w/ 2 levels \"bright\",\"harmony\": 1 1 1 1 2 1 1 2 1 1 ...\n",
      " $ purpose    : Factor w/ 3 levels \"clothes\",\"cosmetic\",..: 1 1 2 2 1 3 2 1 2 1 ...\n",
      " $ interest   : int  3 5 3 3 1 4 3 3 5 3 ...\n",
      " $ comp       : int  3 5 2 2 5 4 4 2 1 3 ...\n",
      " $ triangle1  : int  4 5 4 5 4 3 4 3 3 3 ...\n",
      " $ triangle2  : int  3 4 3 3 2 4 4 4 4 4 ...\n",
      " $ doubleness1: int  2 2 4 1 1 3 5 5 2 2 ...\n",
      " $ doubleness2: int  2 2 3 5 4 4 2 2 2 4 ...\n",
      " $ doubleness3: int  1 1 1 3 2 2 1 5 5 1 ...\n"
     ]
    }
   ],
   "source": [
    "str(survey2)"
   ]
  },
  {
   "cell_type": "code",
   "execution_count": 6,
   "metadata": {},
   "outputs": [],
   "source": [
    "survey2$comp1 <- case_when(\n",
    "    survey2$comp == 1 ~ 1,\n",
    "    survey2$comp != 1 ~ 0)\n",
    "\n",
    "survey2$comp2 <- case_when(\n",
    "    survey2$comp == 2 ~ 1,\n",
    "    survey2$comp != 2 ~ 0)\n",
    "\n",
    "survey2$comp3 <- case_when(\n",
    "    survey2$comp == 3 ~ 1,\n",
    "    survey2$comp != 3 ~ 0)\n",
    "\n",
    "survey2$comp4 <- case_when(\n",
    "    survey2$comp == 4 ~ 1,\n",
    "    survey2$comp != 4 ~ 0)\n",
    "\n",
    "survey2$comp5 <- case_when(\n",
    "    survey2$comp == 5 ~ 1,\n",
    "    survey2$comp != 5 ~ 0)\n",
    "\n",
    "survey2$t1_1 <- case_when(\n",
    "    survey2$triangle1 == 1 ~ 1,\n",
    "    survey2$triangle1 != 1 ~ 0)\n",
    "\n",
    "survey2$t1_2 <- case_when(\n",
    "    survey2$triangle1 == 2 ~ 1,\n",
    "    survey2$triangle1 != 2 ~ 0)\n",
    "\n",
    "survey2$t1_3 <- case_when(\n",
    "    survey2$triangle1 == 3 ~ 1,\n",
    "    survey2$triangle1 != 3 ~ 0)\n",
    "\n",
    "survey2$t1_4 <- case_when(\n",
    "    survey2$triangle1 == 4 ~ 1,\n",
    "    survey2$triangle1 != 4 ~ 0)\n",
    "\n",
    "survey2$t1_5 <- case_when(\n",
    "    survey2$triangle1 == 5 ~ 1,\n",
    "    survey2$triangle1 != 5 ~ 0)\n",
    "\t\n",
    "survey2$t2_1 <- case_when(\n",
    "    survey2$triangle2 == 1 ~ 1,\n",
    "    survey2$triangle2 != 1 ~ 0)\n",
    "\n",
    "survey2$t2_2 <- case_when(\n",
    "    survey2$triangle2 == 2 ~ 1,\n",
    "    survey2$triangle2 != 2 ~ 0)\n",
    "\n",
    "survey2$t2_3 <- case_when(\n",
    "    survey2$triangle2 == 3 ~ 1,\n",
    "    survey2$triangle2 != 3 ~ 0)\n",
    "\n",
    "survey2$t2_4 <- case_when(\n",
    "    survey2$triangle2 == 4 ~ 1,\n",
    "    survey2$triangle2 != 4 ~ 0)\n",
    "\n",
    "survey2$t2_5 <- case_when(\n",
    "    survey2$triangle2 == 5 ~ 1,\n",
    "    survey2$triangle2 != 5 ~ 0)\n",
    "\t\n",
    "survey2$d1_1 <- case_when(\n",
    "    survey2$doubleness1 == 1 ~ 1,\n",
    "    survey2$doubleness1 != 1 ~ 0)\n",
    "\n",
    "survey2$d1_2 <- case_when(\n",
    "    survey2$doubleness1 == 2 ~ 1,\n",
    "    survey2$doubleness1 != 2 ~ 0)\n",
    "\n",
    "survey2$d1_3 <- case_when(\n",
    "    survey2$doubleness1 == 3 ~ 1,\n",
    "    survey2$doubleness1 != 3 ~ 0)\n",
    "\n",
    "survey2$d1_4 <- case_when(\n",
    "    survey2$doubleness1 == 4 ~ 1,\n",
    "    survey2$doubleness1 != 4 ~ 0)\n",
    "\n",
    "survey2$d1_5 <- case_when(\n",
    "    survey2$doubleness1 == 5 ~ 1,\n",
    "    survey2$doubleness1 != 5 ~ 0)\n",
    "\t\n",
    "survey2$d2_1 <- case_when(\n",
    "    survey2$doubleness2 == 1 ~ 1,\n",
    "    survey2$doubleness2 != 1 ~ 0)\n",
    "\n",
    "survey2$d2_2 <- case_when(\n",
    "    survey2$doubleness2 == 2 ~ 1,\n",
    "    survey2$doubleness2 != 2 ~ 0)\n",
    "\n",
    "survey2$d2_3 <- case_when(\n",
    "    survey2$doubleness2 == 3 ~ 1,\n",
    "    survey2$doubleness2 != 3 ~ 0)\n",
    "\n",
    "survey2$d2_4 <- case_when(\n",
    "    survey2$doubleness2 == 4 ~ 1,\n",
    "    survey2$doubleness2 != 4 ~ 0)\n",
    "\n",
    "survey2$d2_5 <- case_when(\n",
    "    survey2$doubleness2 == 5 ~ 1,\n",
    "    survey2$doubleness2 != 5 ~ 0)\n",
    "\t\n",
    "survey2$d3_1 <- case_when(\n",
    "    survey2$doubleness3 == 1 ~ 1,\n",
    "    survey2$doubleness3 != 1 ~ 0)\n",
    "\n",
    "survey2$d3_2 <- case_when(\n",
    "    survey2$doubleness3 == 2 ~ 1,\n",
    "    survey2$doubleness3 != 2 ~ 0)\n",
    "\n",
    "survey2$d3_3 <- case_when(\n",
    "    survey2$doubleness3 == 3 ~ 1,\n",
    "    survey2$doubleness3 != 3 ~ 0)\n",
    "\n",
    "survey2$d3_4 <- case_when(\n",
    "    survey2$doubleness3 == 4 ~ 1,\n",
    "    survey2$doubleness3 != 4 ~ 0)\n",
    "\n",
    "survey2$d3_5 <- case_when(\n",
    "    survey2$doubleness3 == 5 ~ 1,\n",
    "    survey2$doubleness3 != 5 ~ 0)"
   ]
  },
  {
   "cell_type": "code",
   "execution_count": 7,
   "metadata": {
    "scrolled": true
   },
   "outputs": [
    {
     "data": {
      "text/html": [
       "<table>\n",
       "<thead><tr><th scope=col>X</th><th scope=col>sex</th><th scope=col>age_class</th><th scope=col>definition</th><th scope=col>need</th><th scope=col>purpose</th><th scope=col>interest</th><th scope=col>comp</th><th scope=col>triangle1</th><th scope=col>triangle2</th><th scope=col>...</th><th scope=col>d2_1</th><th scope=col>d2_2</th><th scope=col>d2_3</th><th scope=col>d2_4</th><th scope=col>d2_5</th><th scope=col>d3_1</th><th scope=col>d3_2</th><th scope=col>d3_3</th><th scope=col>d3_4</th><th scope=col>d3_5</th></tr></thead>\n",
       "<tbody>\n",
       "\t<tr><td> 0      </td><td>Female  </td><td>20      </td><td>bright  </td><td>bright  </td><td>clothes </td><td>3       </td><td>3       </td><td>4       </td><td>3       </td><td>...     </td><td>0       </td><td>1       </td><td>0       </td><td>0       </td><td>0       </td><td>1       </td><td>0       </td><td>0       </td><td>0       </td><td>0       </td></tr>\n",
       "\t<tr><td> 2      </td><td>Female  </td><td>20      </td><td>bright  </td><td>bright  </td><td>clothes </td><td>5       </td><td>5       </td><td>5       </td><td>4       </td><td>...     </td><td>0       </td><td>1       </td><td>0       </td><td>0       </td><td>0       </td><td>1       </td><td>0       </td><td>0       </td><td>0       </td><td>0       </td></tr>\n",
       "\t<tr><td> 4      </td><td>Female  </td><td>20      </td><td>bright  </td><td>bright  </td><td>cosmetic</td><td>3       </td><td>2       </td><td>4       </td><td>3       </td><td>...     </td><td>0       </td><td>0       </td><td>1       </td><td>0       </td><td>0       </td><td>1       </td><td>0       </td><td>0       </td><td>0       </td><td>0       </td></tr>\n",
       "\t<tr><td> 7      </td><td>Female  </td><td>20      </td><td>bright  </td><td>bright  </td><td>cosmetic</td><td>3       </td><td>2       </td><td>5       </td><td>3       </td><td>...     </td><td>0       </td><td>0       </td><td>0       </td><td>0       </td><td>1       </td><td>0       </td><td>0       </td><td>1       </td><td>0       </td><td>0       </td></tr>\n",
       "\t<tr><td> 9      </td><td>Female  </td><td>20      </td><td>harmony </td><td>harmony </td><td>clothes </td><td>1       </td><td>5       </td><td>4       </td><td>2       </td><td>...     </td><td>0       </td><td>0       </td><td>0       </td><td>1       </td><td>0       </td><td>0       </td><td>1       </td><td>0       </td><td>0       </td><td>0       </td></tr>\n",
       "\t<tr><td>11      </td><td>Female  </td><td>20      </td><td>bright  </td><td>bright  </td><td>etc     </td><td>4       </td><td>4       </td><td>3       </td><td>4       </td><td>...     </td><td>0       </td><td>0       </td><td>0       </td><td>1       </td><td>0       </td><td>0       </td><td>1       </td><td>0       </td><td>0       </td><td>0       </td></tr>\n",
       "\t<tr><td>12      </td><td>Female  </td><td>20      </td><td>harmony </td><td>bright  </td><td>cosmetic</td><td>3       </td><td>4       </td><td>4       </td><td>4       </td><td>...     </td><td>0       </td><td>1       </td><td>0       </td><td>0       </td><td>0       </td><td>1       </td><td>0       </td><td>0       </td><td>0       </td><td>0       </td></tr>\n",
       "\t<tr><td>14      </td><td>Female  </td><td>20      </td><td>harmony </td><td>harmony </td><td>clothes </td><td>3       </td><td>2       </td><td>3       </td><td>4       </td><td>...     </td><td>0       </td><td>1       </td><td>0       </td><td>0       </td><td>0       </td><td>0       </td><td>0       </td><td>0       </td><td>0       </td><td>1       </td></tr>\n",
       "\t<tr><td>15      </td><td>Female  </td><td>20      </td><td>bright  </td><td>bright  </td><td>cosmetic</td><td>5       </td><td>1       </td><td>3       </td><td>4       </td><td>...     </td><td>0       </td><td>1       </td><td>0       </td><td>0       </td><td>0       </td><td>0       </td><td>0       </td><td>0       </td><td>0       </td><td>1       </td></tr>\n",
       "\t<tr><td>23      </td><td>Female  </td><td>20      </td><td>harmony </td><td>bright  </td><td>clothes </td><td>3       </td><td>3       </td><td>3       </td><td>4       </td><td>...     </td><td>0       </td><td>0       </td><td>0       </td><td>1       </td><td>0       </td><td>1       </td><td>0       </td><td>0       </td><td>0       </td><td>0       </td></tr>\n",
       "\t<tr><td>24      </td><td>Female  </td><td>20      </td><td>bright  </td><td>harmony </td><td>clothes </td><td>3       </td><td>2       </td><td>3       </td><td>3       </td><td>...     </td><td>0       </td><td>1       </td><td>0       </td><td>0       </td><td>0       </td><td>1       </td><td>0       </td><td>0       </td><td>0       </td><td>0       </td></tr>\n",
       "\t<tr><td>25      </td><td>Female  </td><td>20      </td><td>bright  </td><td>bright  </td><td>clothes </td><td>4       </td><td>1       </td><td>3       </td><td>4       </td><td>...     </td><td>1       </td><td>0       </td><td>0       </td><td>0       </td><td>0       </td><td>1       </td><td>0       </td><td>0       </td><td>0       </td><td>0       </td></tr>\n",
       "\t<tr><td>28      </td><td>Female  </td><td>20      </td><td>harmony </td><td>harmony </td><td>cosmetic</td><td>3       </td><td>5       </td><td>1       </td><td>3       </td><td>...     </td><td>0       </td><td>0       </td><td>1       </td><td>0       </td><td>0       </td><td>0       </td><td>0       </td><td>0       </td><td>0       </td><td>1       </td></tr>\n",
       "\t<tr><td>29      </td><td>Female  </td><td>20      </td><td>harmony </td><td>harmony </td><td>etc     </td><td>2       </td><td>2       </td><td>3       </td><td>4       </td><td>...     </td><td>0       </td><td>0       </td><td>1       </td><td>0       </td><td>0       </td><td>0       </td><td>0       </td><td>0       </td><td>0       </td><td>1       </td></tr>\n",
       "\t<tr><td>30      </td><td>Female  </td><td>20      </td><td>bright  </td><td>bright  </td><td>cosmetic</td><td>2       </td><td>1       </td><td>5       </td><td>5       </td><td>...     </td><td>0       </td><td>0       </td><td>0       </td><td>1       </td><td>0       </td><td>1       </td><td>0       </td><td>0       </td><td>0       </td><td>0       </td></tr>\n",
       "\t<tr><td>31      </td><td>Female  </td><td>20      </td><td>harmony </td><td>bright  </td><td>etc     </td><td>2       </td><td>2       </td><td>2       </td><td>4       </td><td>...     </td><td>0       </td><td>1       </td><td>0       </td><td>0       </td><td>0       </td><td>0       </td><td>0       </td><td>0       </td><td>0       </td><td>1       </td></tr>\n",
       "\t<tr><td>34      </td><td>Female  </td><td>20      </td><td>harmony </td><td>harmony </td><td>clothes </td><td>3       </td><td>4       </td><td>1       </td><td>5       </td><td>...     </td><td>0       </td><td>0       </td><td>0       </td><td>1       </td><td>0       </td><td>1       </td><td>0       </td><td>0       </td><td>0       </td><td>0       </td></tr>\n",
       "\t<tr><td>35      </td><td>Female  </td><td>20      </td><td>harmony </td><td>harmony </td><td>cosmetic</td><td>3       </td><td>2       </td><td>5       </td><td>4       </td><td>...     </td><td>0       </td><td>0       </td><td>0       </td><td>1       </td><td>0       </td><td>0       </td><td>1       </td><td>0       </td><td>0       </td><td>0       </td></tr>\n",
       "\t<tr><td>45      </td><td>Female  </td><td>20      </td><td>harmony </td><td>harmony </td><td>etc     </td><td>3       </td><td>4       </td><td>3       </td><td>5       </td><td>...     </td><td>0       </td><td>0       </td><td>1       </td><td>0       </td><td>0       </td><td>1       </td><td>0       </td><td>0       </td><td>0       </td><td>0       </td></tr>\n",
       "\t<tr><td>47      </td><td>Female  </td><td>20      </td><td>harmony </td><td>harmony </td><td>etc     </td><td>5       </td><td>2       </td><td>1       </td><td>1       </td><td>...     </td><td>0       </td><td>1       </td><td>0       </td><td>0       </td><td>0       </td><td>0       </td><td>0       </td><td>0       </td><td>0       </td><td>1       </td></tr>\n",
       "\t<tr><td>52      </td><td>Female  </td><td>20      </td><td>harmony </td><td>bright  </td><td>etc     </td><td>3       </td><td>4       </td><td>5       </td><td>3       </td><td>...     </td><td>0       </td><td>0       </td><td>0       </td><td>1       </td><td>0       </td><td>0       </td><td>0       </td><td>1       </td><td>0       </td><td>0       </td></tr>\n",
       "\t<tr><td>53      </td><td>Female  </td><td>20      </td><td>harmony </td><td>harmony </td><td>etc     </td><td>4       </td><td>5       </td><td>4       </td><td>3       </td><td>...     </td><td>0       </td><td>1       </td><td>0       </td><td>0       </td><td>0       </td><td>0       </td><td>0       </td><td>1       </td><td>0       </td><td>0       </td></tr>\n",
       "\t<tr><td>55      </td><td>Female  </td><td>20      </td><td>bright  </td><td>bright  </td><td>etc     </td><td>5       </td><td>2       </td><td>2       </td><td>5       </td><td>...     </td><td>0       </td><td>0       </td><td>0       </td><td>1       </td><td>0       </td><td>0       </td><td>0       </td><td>0       </td><td>1       </td><td>0       </td></tr>\n",
       "\t<tr><td>57      </td><td>Female  </td><td>20      </td><td>harmony </td><td>harmony </td><td>cosmetic</td><td>3       </td><td>2       </td><td>3       </td><td>5       </td><td>...     </td><td>0       </td><td>1       </td><td>0       </td><td>0       </td><td>0       </td><td>0       </td><td>1       </td><td>0       </td><td>0       </td><td>0       </td></tr>\n",
       "\t<tr><td>66      </td><td>Female  </td><td>20      </td><td>harmony </td><td>harmony </td><td>etc     </td><td>3       </td><td>4       </td><td>5       </td><td>4       </td><td>...     </td><td>0       </td><td>1       </td><td>0       </td><td>0       </td><td>0       </td><td>0       </td><td>0       </td><td>0       </td><td>1       </td><td>0       </td></tr>\n",
       "\t<tr><td>69      </td><td>Female  </td><td>20      </td><td>harmony </td><td>harmony </td><td>etc     </td><td>4       </td><td>4       </td><td>2       </td><td>3       </td><td>...     </td><td>0       </td><td>0       </td><td>0       </td><td>1       </td><td>0       </td><td>0       </td><td>1       </td><td>0       </td><td>0       </td><td>0       </td></tr>\n",
       "\t<tr><td>70      </td><td>Female  </td><td>20      </td><td>harmony </td><td>harmony </td><td>etc     </td><td>3       </td><td>2       </td><td>3       </td><td>5       </td><td>...     </td><td>0       </td><td>0       </td><td>0       </td><td>1       </td><td>0       </td><td>0       </td><td>1       </td><td>0       </td><td>0       </td><td>0       </td></tr>\n",
       "\t<tr><td>71      </td><td>Female  </td><td>20      </td><td>harmony </td><td>harmony </td><td>etc     </td><td>5       </td><td>3       </td><td>5       </td><td>3       </td><td>...     </td><td>0       </td><td>1       </td><td>0       </td><td>0       </td><td>0       </td><td>0       </td><td>0       </td><td>1       </td><td>0       </td><td>0       </td></tr>\n",
       "\t<tr><td>72      </td><td>Female  </td><td>20      </td><td>harmony </td><td>harmony </td><td>cosmetic</td><td>4       </td><td>5       </td><td>4       </td><td>4       </td><td>...     </td><td>0       </td><td>1       </td><td>0       </td><td>0       </td><td>0       </td><td>0       </td><td>0       </td><td>0       </td><td>1       </td><td>0       </td></tr>\n",
       "\t<tr><td>78      </td><td>Female  </td><td>20      </td><td>harmony </td><td>harmony </td><td>etc     </td><td>3       </td><td>3       </td><td>5       </td><td>3       </td><td>...     </td><td>0       </td><td>0       </td><td>0       </td><td>1       </td><td>0       </td><td>0       </td><td>1       </td><td>0       </td><td>0       </td><td>0       </td></tr>\n",
       "\t<tr><td>90      </td><td>Female  </td><td>20      </td><td>harmony </td><td>harmony </td><td>clothes </td><td>2       </td><td>2       </td><td>3       </td><td>4       </td><td>...     </td><td>0       </td><td>0       </td><td>0       </td><td>0       </td><td>1       </td><td>0       </td><td>1       </td><td>0       </td><td>0       </td><td>0       </td></tr>\n",
       "\t<tr><td>95      </td><td>Female  </td><td>20      </td><td>bright  </td><td>harmony </td><td>etc     </td><td>4       </td><td>3       </td><td>4       </td><td>4       </td><td>...     </td><td>0       </td><td>0       </td><td>0       </td><td>1       </td><td>0       </td><td>0       </td><td>0       </td><td>0       </td><td>1       </td><td>0       </td></tr>\n",
       "</tbody>\n",
       "</table>\n"
      ],
      "text/latex": [
       "\\begin{tabular}{r|lllllllllllllllllllllllllllllllllllllllllll}\n",
       " X & sex & age\\_class & definition & need & purpose & interest & comp & triangle1 & triangle2 & ... & d2\\_1 & d2\\_2 & d2\\_3 & d2\\_4 & d2\\_5 & d3\\_1 & d3\\_2 & d3\\_3 & d3\\_4 & d3\\_5\\\\\n",
       "\\hline\n",
       "\t  0       & Female   & 20       & bright   & bright   & clothes  & 3        & 3        & 4        & 3        & ...      & 0        & 1        & 0        & 0        & 0        & 1        & 0        & 0        & 0        & 0       \\\\\n",
       "\t  2       & Female   & 20       & bright   & bright   & clothes  & 5        & 5        & 5        & 4        & ...      & 0        & 1        & 0        & 0        & 0        & 1        & 0        & 0        & 0        & 0       \\\\\n",
       "\t  4       & Female   & 20       & bright   & bright   & cosmetic & 3        & 2        & 4        & 3        & ...      & 0        & 0        & 1        & 0        & 0        & 1        & 0        & 0        & 0        & 0       \\\\\n",
       "\t  7       & Female   & 20       & bright   & bright   & cosmetic & 3        & 2        & 5        & 3        & ...      & 0        & 0        & 0        & 0        & 1        & 0        & 0        & 1        & 0        & 0       \\\\\n",
       "\t  9       & Female   & 20       & harmony  & harmony  & clothes  & 1        & 5        & 4        & 2        & ...      & 0        & 0        & 0        & 1        & 0        & 0        & 1        & 0        & 0        & 0       \\\\\n",
       "\t 11       & Female   & 20       & bright   & bright   & etc      & 4        & 4        & 3        & 4        & ...      & 0        & 0        & 0        & 1        & 0        & 0        & 1        & 0        & 0        & 0       \\\\\n",
       "\t 12       & Female   & 20       & harmony  & bright   & cosmetic & 3        & 4        & 4        & 4        & ...      & 0        & 1        & 0        & 0        & 0        & 1        & 0        & 0        & 0        & 0       \\\\\n",
       "\t 14       & Female   & 20       & harmony  & harmony  & clothes  & 3        & 2        & 3        & 4        & ...      & 0        & 1        & 0        & 0        & 0        & 0        & 0        & 0        & 0        & 1       \\\\\n",
       "\t 15       & Female   & 20       & bright   & bright   & cosmetic & 5        & 1        & 3        & 4        & ...      & 0        & 1        & 0        & 0        & 0        & 0        & 0        & 0        & 0        & 1       \\\\\n",
       "\t 23       & Female   & 20       & harmony  & bright   & clothes  & 3        & 3        & 3        & 4        & ...      & 0        & 0        & 0        & 1        & 0        & 1        & 0        & 0        & 0        & 0       \\\\\n",
       "\t 24       & Female   & 20       & bright   & harmony  & clothes  & 3        & 2        & 3        & 3        & ...      & 0        & 1        & 0        & 0        & 0        & 1        & 0        & 0        & 0        & 0       \\\\\n",
       "\t 25       & Female   & 20       & bright   & bright   & clothes  & 4        & 1        & 3        & 4        & ...      & 1        & 0        & 0        & 0        & 0        & 1        & 0        & 0        & 0        & 0       \\\\\n",
       "\t 28       & Female   & 20       & harmony  & harmony  & cosmetic & 3        & 5        & 1        & 3        & ...      & 0        & 0        & 1        & 0        & 0        & 0        & 0        & 0        & 0        & 1       \\\\\n",
       "\t 29       & Female   & 20       & harmony  & harmony  & etc      & 2        & 2        & 3        & 4        & ...      & 0        & 0        & 1        & 0        & 0        & 0        & 0        & 0        & 0        & 1       \\\\\n",
       "\t 30       & Female   & 20       & bright   & bright   & cosmetic & 2        & 1        & 5        & 5        & ...      & 0        & 0        & 0        & 1        & 0        & 1        & 0        & 0        & 0        & 0       \\\\\n",
       "\t 31       & Female   & 20       & harmony  & bright   & etc      & 2        & 2        & 2        & 4        & ...      & 0        & 1        & 0        & 0        & 0        & 0        & 0        & 0        & 0        & 1       \\\\\n",
       "\t 34       & Female   & 20       & harmony  & harmony  & clothes  & 3        & 4        & 1        & 5        & ...      & 0        & 0        & 0        & 1        & 0        & 1        & 0        & 0        & 0        & 0       \\\\\n",
       "\t 35       & Female   & 20       & harmony  & harmony  & cosmetic & 3        & 2        & 5        & 4        & ...      & 0        & 0        & 0        & 1        & 0        & 0        & 1        & 0        & 0        & 0       \\\\\n",
       "\t 45       & Female   & 20       & harmony  & harmony  & etc      & 3        & 4        & 3        & 5        & ...      & 0        & 0        & 1        & 0        & 0        & 1        & 0        & 0        & 0        & 0       \\\\\n",
       "\t 47       & Female   & 20       & harmony  & harmony  & etc      & 5        & 2        & 1        & 1        & ...      & 0        & 1        & 0        & 0        & 0        & 0        & 0        & 0        & 0        & 1       \\\\\n",
       "\t 52       & Female   & 20       & harmony  & bright   & etc      & 3        & 4        & 5        & 3        & ...      & 0        & 0        & 0        & 1        & 0        & 0        & 0        & 1        & 0        & 0       \\\\\n",
       "\t 53       & Female   & 20       & harmony  & harmony  & etc      & 4        & 5        & 4        & 3        & ...      & 0        & 1        & 0        & 0        & 0        & 0        & 0        & 1        & 0        & 0       \\\\\n",
       "\t 55       & Female   & 20       & bright   & bright   & etc      & 5        & 2        & 2        & 5        & ...      & 0        & 0        & 0        & 1        & 0        & 0        & 0        & 0        & 1        & 0       \\\\\n",
       "\t 57       & Female   & 20       & harmony  & harmony  & cosmetic & 3        & 2        & 3        & 5        & ...      & 0        & 1        & 0        & 0        & 0        & 0        & 1        & 0        & 0        & 0       \\\\\n",
       "\t 66       & Female   & 20       & harmony  & harmony  & etc      & 3        & 4        & 5        & 4        & ...      & 0        & 1        & 0        & 0        & 0        & 0        & 0        & 0        & 1        & 0       \\\\\n",
       "\t 69       & Female   & 20       & harmony  & harmony  & etc      & 4        & 4        & 2        & 3        & ...      & 0        & 0        & 0        & 1        & 0        & 0        & 1        & 0        & 0        & 0       \\\\\n",
       "\t 70       & Female   & 20       & harmony  & harmony  & etc      & 3        & 2        & 3        & 5        & ...      & 0        & 0        & 0        & 1        & 0        & 0        & 1        & 0        & 0        & 0       \\\\\n",
       "\t 71       & Female   & 20       & harmony  & harmony  & etc      & 5        & 3        & 5        & 3        & ...      & 0        & 1        & 0        & 0        & 0        & 0        & 0        & 1        & 0        & 0       \\\\\n",
       "\t 72       & Female   & 20       & harmony  & harmony  & cosmetic & 4        & 5        & 4        & 4        & ...      & 0        & 1        & 0        & 0        & 0        & 0        & 0        & 0        & 1        & 0       \\\\\n",
       "\t 78       & Female   & 20       & harmony  & harmony  & etc      & 3        & 3        & 5        & 3        & ...      & 0        & 0        & 0        & 1        & 0        & 0        & 1        & 0        & 0        & 0       \\\\\n",
       "\t 90       & Female   & 20       & harmony  & harmony  & clothes  & 2        & 2        & 3        & 4        & ...      & 0        & 0        & 0        & 0        & 1        & 0        & 1        & 0        & 0        & 0       \\\\\n",
       "\t 95       & Female   & 20       & bright   & harmony  & etc      & 4        & 3        & 4        & 4        & ...      & 0        & 0        & 0        & 1        & 0        & 0        & 0        & 0        & 1        & 0       \\\\\n",
       "\\end{tabular}\n"
      ],
      "text/markdown": [
       "\n",
       "| X | sex | age_class | definition | need | purpose | interest | comp | triangle1 | triangle2 | ... | d2_1 | d2_2 | d2_3 | d2_4 | d2_5 | d3_1 | d3_2 | d3_3 | d3_4 | d3_5 |\n",
       "|---|---|---|---|---|---|---|---|---|---|---|---|---|---|---|---|---|---|---|---|---|\n",
       "|  0       | Female   | 20       | bright   | bright   | clothes  | 3        | 3        | 4        | 3        | ...      | 0        | 1        | 0        | 0        | 0        | 1        | 0        | 0        | 0        | 0        |\n",
       "|  2       | Female   | 20       | bright   | bright   | clothes  | 5        | 5        | 5        | 4        | ...      | 0        | 1        | 0        | 0        | 0        | 1        | 0        | 0        | 0        | 0        |\n",
       "|  4       | Female   | 20       | bright   | bright   | cosmetic | 3        | 2        | 4        | 3        | ...      | 0        | 0        | 1        | 0        | 0        | 1        | 0        | 0        | 0        | 0        |\n",
       "|  7       | Female   | 20       | bright   | bright   | cosmetic | 3        | 2        | 5        | 3        | ...      | 0        | 0        | 0        | 0        | 1        | 0        | 0        | 1        | 0        | 0        |\n",
       "|  9       | Female   | 20       | harmony  | harmony  | clothes  | 1        | 5        | 4        | 2        | ...      | 0        | 0        | 0        | 1        | 0        | 0        | 1        | 0        | 0        | 0        |\n",
       "| 11       | Female   | 20       | bright   | bright   | etc      | 4        | 4        | 3        | 4        | ...      | 0        | 0        | 0        | 1        | 0        | 0        | 1        | 0        | 0        | 0        |\n",
       "| 12       | Female   | 20       | harmony  | bright   | cosmetic | 3        | 4        | 4        | 4        | ...      | 0        | 1        | 0        | 0        | 0        | 1        | 0        | 0        | 0        | 0        |\n",
       "| 14       | Female   | 20       | harmony  | harmony  | clothes  | 3        | 2        | 3        | 4        | ...      | 0        | 1        | 0        | 0        | 0        | 0        | 0        | 0        | 0        | 1        |\n",
       "| 15       | Female   | 20       | bright   | bright   | cosmetic | 5        | 1        | 3        | 4        | ...      | 0        | 1        | 0        | 0        | 0        | 0        | 0        | 0        | 0        | 1        |\n",
       "| 23       | Female   | 20       | harmony  | bright   | clothes  | 3        | 3        | 3        | 4        | ...      | 0        | 0        | 0        | 1        | 0        | 1        | 0        | 0        | 0        | 0        |\n",
       "| 24       | Female   | 20       | bright   | harmony  | clothes  | 3        | 2        | 3        | 3        | ...      | 0        | 1        | 0        | 0        | 0        | 1        | 0        | 0        | 0        | 0        |\n",
       "| 25       | Female   | 20       | bright   | bright   | clothes  | 4        | 1        | 3        | 4        | ...      | 1        | 0        | 0        | 0        | 0        | 1        | 0        | 0        | 0        | 0        |\n",
       "| 28       | Female   | 20       | harmony  | harmony  | cosmetic | 3        | 5        | 1        | 3        | ...      | 0        | 0        | 1        | 0        | 0        | 0        | 0        | 0        | 0        | 1        |\n",
       "| 29       | Female   | 20       | harmony  | harmony  | etc      | 2        | 2        | 3        | 4        | ...      | 0        | 0        | 1        | 0        | 0        | 0        | 0        | 0        | 0        | 1        |\n",
       "| 30       | Female   | 20       | bright   | bright   | cosmetic | 2        | 1        | 5        | 5        | ...      | 0        | 0        | 0        | 1        | 0        | 1        | 0        | 0        | 0        | 0        |\n",
       "| 31       | Female   | 20       | harmony  | bright   | etc      | 2        | 2        | 2        | 4        | ...      | 0        | 1        | 0        | 0        | 0        | 0        | 0        | 0        | 0        | 1        |\n",
       "| 34       | Female   | 20       | harmony  | harmony  | clothes  | 3        | 4        | 1        | 5        | ...      | 0        | 0        | 0        | 1        | 0        | 1        | 0        | 0        | 0        | 0        |\n",
       "| 35       | Female   | 20       | harmony  | harmony  | cosmetic | 3        | 2        | 5        | 4        | ...      | 0        | 0        | 0        | 1        | 0        | 0        | 1        | 0        | 0        | 0        |\n",
       "| 45       | Female   | 20       | harmony  | harmony  | etc      | 3        | 4        | 3        | 5        | ...      | 0        | 0        | 1        | 0        | 0        | 1        | 0        | 0        | 0        | 0        |\n",
       "| 47       | Female   | 20       | harmony  | harmony  | etc      | 5        | 2        | 1        | 1        | ...      | 0        | 1        | 0        | 0        | 0        | 0        | 0        | 0        | 0        | 1        |\n",
       "| 52       | Female   | 20       | harmony  | bright   | etc      | 3        | 4        | 5        | 3        | ...      | 0        | 0        | 0        | 1        | 0        | 0        | 0        | 1        | 0        | 0        |\n",
       "| 53       | Female   | 20       | harmony  | harmony  | etc      | 4        | 5        | 4        | 3        | ...      | 0        | 1        | 0        | 0        | 0        | 0        | 0        | 1        | 0        | 0        |\n",
       "| 55       | Female   | 20       | bright   | bright   | etc      | 5        | 2        | 2        | 5        | ...      | 0        | 0        | 0        | 1        | 0        | 0        | 0        | 0        | 1        | 0        |\n",
       "| 57       | Female   | 20       | harmony  | harmony  | cosmetic | 3        | 2        | 3        | 5        | ...      | 0        | 1        | 0        | 0        | 0        | 0        | 1        | 0        | 0        | 0        |\n",
       "| 66       | Female   | 20       | harmony  | harmony  | etc      | 3        | 4        | 5        | 4        | ...      | 0        | 1        | 0        | 0        | 0        | 0        | 0        | 0        | 1        | 0        |\n",
       "| 69       | Female   | 20       | harmony  | harmony  | etc      | 4        | 4        | 2        | 3        | ...      | 0        | 0        | 0        | 1        | 0        | 0        | 1        | 0        | 0        | 0        |\n",
       "| 70       | Female   | 20       | harmony  | harmony  | etc      | 3        | 2        | 3        | 5        | ...      | 0        | 0        | 0        | 1        | 0        | 0        | 1        | 0        | 0        | 0        |\n",
       "| 71       | Female   | 20       | harmony  | harmony  | etc      | 5        | 3        | 5        | 3        | ...      | 0        | 1        | 0        | 0        | 0        | 0        | 0        | 1        | 0        | 0        |\n",
       "| 72       | Female   | 20       | harmony  | harmony  | cosmetic | 4        | 5        | 4        | 4        | ...      | 0        | 1        | 0        | 0        | 0        | 0        | 0        | 0        | 1        | 0        |\n",
       "| 78       | Female   | 20       | harmony  | harmony  | etc      | 3        | 3        | 5        | 3        | ...      | 0        | 0        | 0        | 1        | 0        | 0        | 1        | 0        | 0        | 0        |\n",
       "| 90       | Female   | 20       | harmony  | harmony  | clothes  | 2        | 2        | 3        | 4        | ...      | 0        | 0        | 0        | 0        | 1        | 0        | 1        | 0        | 0        | 0        |\n",
       "| 95       | Female   | 20       | bright   | harmony  | etc      | 4        | 3        | 4        | 4        | ...      | 0        | 0        | 0        | 1        | 0        | 0        | 0        | 0        | 1        | 0        |\n",
       "\n"
      ],
      "text/plain": [
       "   X  sex    age_class definition need    purpose  interest comp triangle1\n",
       "1   0 Female 20        bright     bright  clothes  3        3    4        \n",
       "2   2 Female 20        bright     bright  clothes  5        5    5        \n",
       "3   4 Female 20        bright     bright  cosmetic 3        2    4        \n",
       "4   7 Female 20        bright     bright  cosmetic 3        2    5        \n",
       "5   9 Female 20        harmony    harmony clothes  1        5    4        \n",
       "6  11 Female 20        bright     bright  etc      4        4    3        \n",
       "7  12 Female 20        harmony    bright  cosmetic 3        4    4        \n",
       "8  14 Female 20        harmony    harmony clothes  3        2    3        \n",
       "9  15 Female 20        bright     bright  cosmetic 5        1    3        \n",
       "10 23 Female 20        harmony    bright  clothes  3        3    3        \n",
       "11 24 Female 20        bright     harmony clothes  3        2    3        \n",
       "12 25 Female 20        bright     bright  clothes  4        1    3        \n",
       "13 28 Female 20        harmony    harmony cosmetic 3        5    1        \n",
       "14 29 Female 20        harmony    harmony etc      2        2    3        \n",
       "15 30 Female 20        bright     bright  cosmetic 2        1    5        \n",
       "16 31 Female 20        harmony    bright  etc      2        2    2        \n",
       "17 34 Female 20        harmony    harmony clothes  3        4    1        \n",
       "18 35 Female 20        harmony    harmony cosmetic 3        2    5        \n",
       "19 45 Female 20        harmony    harmony etc      3        4    3        \n",
       "20 47 Female 20        harmony    harmony etc      5        2    1        \n",
       "21 52 Female 20        harmony    bright  etc      3        4    5        \n",
       "22 53 Female 20        harmony    harmony etc      4        5    4        \n",
       "23 55 Female 20        bright     bright  etc      5        2    2        \n",
       "24 57 Female 20        harmony    harmony cosmetic 3        2    3        \n",
       "25 66 Female 20        harmony    harmony etc      3        4    5        \n",
       "26 69 Female 20        harmony    harmony etc      4        4    2        \n",
       "27 70 Female 20        harmony    harmony etc      3        2    3        \n",
       "28 71 Female 20        harmony    harmony etc      5        3    5        \n",
       "29 72 Female 20        harmony    harmony cosmetic 4        5    4        \n",
       "30 78 Female 20        harmony    harmony etc      3        3    5        \n",
       "31 90 Female 20        harmony    harmony clothes  2        2    3        \n",
       "32 95 Female 20        bright     harmony etc      4        3    4        \n",
       "   triangle2 ... d2_1 d2_2 d2_3 d2_4 d2_5 d3_1 d3_2 d3_3 d3_4 d3_5\n",
       "1  3         ... 0    1    0    0    0    1    0    0    0    0   \n",
       "2  4         ... 0    1    0    0    0    1    0    0    0    0   \n",
       "3  3         ... 0    0    1    0    0    1    0    0    0    0   \n",
       "4  3         ... 0    0    0    0    1    0    0    1    0    0   \n",
       "5  2         ... 0    0    0    1    0    0    1    0    0    0   \n",
       "6  4         ... 0    0    0    1    0    0    1    0    0    0   \n",
       "7  4         ... 0    1    0    0    0    1    0    0    0    0   \n",
       "8  4         ... 0    1    0    0    0    0    0    0    0    1   \n",
       "9  4         ... 0    1    0    0    0    0    0    0    0    1   \n",
       "10 4         ... 0    0    0    1    0    1    0    0    0    0   \n",
       "11 3         ... 0    1    0    0    0    1    0    0    0    0   \n",
       "12 4         ... 1    0    0    0    0    1    0    0    0    0   \n",
       "13 3         ... 0    0    1    0    0    0    0    0    0    1   \n",
       "14 4         ... 0    0    1    0    0    0    0    0    0    1   \n",
       "15 5         ... 0    0    0    1    0    1    0    0    0    0   \n",
       "16 4         ... 0    1    0    0    0    0    0    0    0    1   \n",
       "17 5         ... 0    0    0    1    0    1    0    0    0    0   \n",
       "18 4         ... 0    0    0    1    0    0    1    0    0    0   \n",
       "19 5         ... 0    0    1    0    0    1    0    0    0    0   \n",
       "20 1         ... 0    1    0    0    0    0    0    0    0    1   \n",
       "21 3         ... 0    0    0    1    0    0    0    1    0    0   \n",
       "22 3         ... 0    1    0    0    0    0    0    1    0    0   \n",
       "23 5         ... 0    0    0    1    0    0    0    0    1    0   \n",
       "24 5         ... 0    1    0    0    0    0    1    0    0    0   \n",
       "25 4         ... 0    1    0    0    0    0    0    0    1    0   \n",
       "26 3         ... 0    0    0    1    0    0    1    0    0    0   \n",
       "27 5         ... 0    0    0    1    0    0    1    0    0    0   \n",
       "28 3         ... 0    1    0    0    0    0    0    1    0    0   \n",
       "29 4         ... 0    1    0    0    0    0    0    0    1    0   \n",
       "30 3         ... 0    0    0    1    0    0    1    0    0    0   \n",
       "31 4         ... 0    0    0    0    1    0    1    0    0    0   \n",
       "32 4         ... 0    0    0    1    0    0    0    0    1    0   "
      ]
     },
     "metadata": {},
     "output_type": "display_data"
    }
   ],
   "source": [
    "survey2"
   ]
  },
  {
   "cell_type": "code",
   "execution_count": 8,
   "metadata": {},
   "outputs": [
    {
     "name": "stderr",
     "output_type": "stream",
     "text": [
      "Warning message:\n",
      "\"glm.fit: fitted probabilities numerically 0 or 1 occurred\""
     ]
    },
    {
     "data": {
      "text/plain": [
       "\n",
       "Call:\n",
       "glm(formula = comp1 ~ definition + need + purpose + interest, \n",
       "    family = binomial, data = survey2)\n",
       "\n",
       "Deviance Residuals: \n",
       "     Min        1Q    Median        3Q       Max  \n",
       "-1.14540  -0.00005   0.00000   0.00000   1.48715  \n",
       "\n",
       "Coefficients:\n",
       "                    Estimate Std. Error z value Pr(>|z|)\n",
       "(Intercept)          -1.9504     3.4926  -0.558    0.577\n",
       "definitionharmony   -19.2827  8220.2728  -0.002    0.998\n",
       "needharmony         -18.0480  8364.7959  -0.002    0.998\n",
       "purposecosmetic       0.9397     1.7333   0.542    0.588\n",
       "purposeetc          -19.6187 10206.7614  -0.002    0.998\n",
       "interest              0.3116     0.8030   0.388    0.698\n",
       "\n",
       "(Dispersion parameter for binomial family taken to be 1)\n",
       "\n",
       "    Null deviance: 19.9123  on 31  degrees of freedom\n",
       "Residual deviance:  9.2098  on 26  degrees of freedom\n",
       "AIC: 21.21\n",
       "\n",
       "Number of Fisher Scoring iterations: 21\n"
      ]
     },
     "metadata": {},
     "output_type": "display_data"
    }
   ],
   "source": [
    "model <- glm(comp1 ~ definition + need + purpose \n",
    "              + interest, data =survey2, family = binomial)\n",
    "summary(model)"
   ]
  },
  {
   "cell_type": "code",
   "execution_count": 9,
   "metadata": {
    "scrolled": true
   },
   "outputs": [
    {
     "name": "stderr",
     "output_type": "stream",
     "text": [
      "Warning message:\n",
      "\"glm.fit: fitted probabilities numerically 0 or 1 occurred\"Warning message:\n",
      "\"glm.fit: fitted probabilities numerically 0 or 1 occurred\""
     ]
    },
    {
     "data": {
      "text/html": [
       "<table>\n",
       "<thead><tr><th></th><th scope=col>Df</th><th scope=col>Deviance</th><th scope=col>Resid. Df</th><th scope=col>Resid. Dev</th><th scope=col>Pr(&gt;Chi)</th></tr></thead>\n",
       "<tbody>\n",
       "\t<tr><th scope=row>NULL</th><td>NA         </td><td>       NA  </td><td>31         </td><td>19.912266  </td><td>         NA</td></tr>\n",
       "\t<tr><th scope=row>definition</th><td> 1         </td><td>7.0213083  </td><td>30         </td><td>12.890958  </td><td>0.008054536</td></tr>\n",
       "\t<tr><th scope=row>need</th><td> 1         </td><td>1.4337026  </td><td>29         </td><td>11.457255  </td><td>0.231161126</td></tr>\n",
       "\t<tr><th scope=row>purpose</th><td> 2         </td><td>2.0929926  </td><td>27         </td><td> 9.364262  </td><td>0.351165977</td></tr>\n",
       "\t<tr><th scope=row>interest</th><td> 1         </td><td>0.1544852  </td><td>26         </td><td> 9.209777  </td><td>0.694285460</td></tr>\n",
       "</tbody>\n",
       "</table>\n"
      ],
      "text/latex": [
       "\\begin{tabular}{r|lllll}\n",
       "  & Df & Deviance & Resid. Df & Resid. Dev & Pr(>Chi)\\\\\n",
       "\\hline\n",
       "\tNULL & NA          &        NA   & 31          & 19.912266   &          NA\\\\\n",
       "\tdefinition &  1          & 7.0213083   & 30          & 12.890958   & 0.008054536\\\\\n",
       "\tneed &  1          & 1.4337026   & 29          & 11.457255   & 0.231161126\\\\\n",
       "\tpurpose &  2          & 2.0929926   & 27          &  9.364262   & 0.351165977\\\\\n",
       "\tinterest &  1          & 0.1544852   & 26          &  9.209777   & 0.694285460\\\\\n",
       "\\end{tabular}\n"
      ],
      "text/markdown": [
       "\n",
       "| <!--/--> | Df | Deviance | Resid. Df | Resid. Dev | Pr(>Chi) |\n",
       "|---|---|---|---|---|---|\n",
       "| NULL | NA          |        NA   | 31          | 19.912266   |          NA |\n",
       "| definition |  1          | 7.0213083   | 30          | 12.890958   | 0.008054536 |\n",
       "| need |  1          | 1.4337026   | 29          | 11.457255   | 0.231161126 |\n",
       "| purpose |  2          | 2.0929926   | 27          |  9.364262   | 0.351165977 |\n",
       "| interest |  1          | 0.1544852   | 26          |  9.209777   | 0.694285460 |\n",
       "\n"
      ],
      "text/plain": [
       "           Df Deviance  Resid. Df Resid. Dev Pr(>Chi)   \n",
       "NULL       NA        NA 31        19.912266           NA\n",
       "definition  1 7.0213083 30        12.890958  0.008054536\n",
       "need        1 1.4337026 29        11.457255  0.231161126\n",
       "purpose     2 2.0929926 27         9.364262  0.351165977\n",
       "interest    1 0.1544852 26         9.209777  0.694285460"
      ]
     },
     "metadata": {},
     "output_type": "display_data"
    }
   ],
   "source": [
    "anova(model, test=\"Chisq\")"
   ]
  },
  {
   "cell_type": "code",
   "execution_count": 10,
   "metadata": {},
   "outputs": [
    {
     "data": {
      "text/plain": [
       "\n",
       "Call:\n",
       "glm(formula = comp2 ~ definition + need + purpose + interest, \n",
       "    family = binomial, data = survey2)\n",
       "\n",
       "Deviance Residuals: \n",
       "    Min       1Q   Median       3Q      Max  \n",
       "-1.3634  -0.9103  -0.7225   1.1799   1.7840  \n",
       "\n",
       "Coefficients:\n",
       "                  Estimate Std. Error z value Pr(>|z|)\n",
       "(Intercept)         0.6968     1.7030   0.409    0.682\n",
       "definitionharmony  -0.8114     1.0928  -0.743    0.458\n",
       "needharmony         0.9123     1.0117   0.902    0.367\n",
       "purposecosmetic     0.7475     1.0410   0.718    0.473\n",
       "purposeetc          0.4822     1.0217   0.472    0.637\n",
       "interest           -0.5085     0.4502  -1.130    0.259\n",
       "\n",
       "(Dispersion parameter for binomial family taken to be 1)\n",
       "\n",
       "    Null deviance: 42.340  on 31  degrees of freedom\n",
       "Residual deviance: 39.984  on 26  degrees of freedom\n",
       "AIC: 51.984\n",
       "\n",
       "Number of Fisher Scoring iterations: 4\n"
      ]
     },
     "metadata": {},
     "output_type": "display_data"
    },
    {
     "data": {
      "text/html": [
       "<table>\n",
       "<thead><tr><th></th><th scope=col>Df</th><th scope=col>Deviance</th><th scope=col>Resid. Df</th><th scope=col>Resid. Dev</th><th scope=col>Pr(&gt;Chi)</th></tr></thead>\n",
       "<tbody>\n",
       "\t<tr><th scope=row>NULL</th><td>NA         </td><td>         NA</td><td>31         </td><td>42.34005   </td><td>       NA  </td></tr>\n",
       "\t<tr><th scope=row>definition</th><td> 1         </td><td>0.009253793</td><td>30         </td><td>42.33079   </td><td>0.9233644  </td></tr>\n",
       "\t<tr><th scope=row>need</th><td> 1         </td><td>0.566874349</td><td>29         </td><td>41.76392   </td><td>0.4515036  </td></tr>\n",
       "\t<tr><th scope=row>purpose</th><td> 2         </td><td>0.423138377</td><td>27         </td><td>41.34078   </td><td>0.8093133  </td></tr>\n",
       "\t<tr><th scope=row>interest</th><td> 1         </td><td>1.356387339</td><td>26         </td><td>39.98439   </td><td>0.2441646  </td></tr>\n",
       "</tbody>\n",
       "</table>\n"
      ],
      "text/latex": [
       "\\begin{tabular}{r|lllll}\n",
       "  & Df & Deviance & Resid. Df & Resid. Dev & Pr(>Chi)\\\\\n",
       "\\hline\n",
       "\tNULL & NA          &          NA & 31          & 42.34005    &        NA  \\\\\n",
       "\tdefinition &  1          & 0.009253793 & 30          & 42.33079    & 0.9233644  \\\\\n",
       "\tneed &  1          & 0.566874349 & 29          & 41.76392    & 0.4515036  \\\\\n",
       "\tpurpose &  2          & 0.423138377 & 27          & 41.34078    & 0.8093133  \\\\\n",
       "\tinterest &  1          & 1.356387339 & 26          & 39.98439    & 0.2441646  \\\\\n",
       "\\end{tabular}\n"
      ],
      "text/markdown": [
       "\n",
       "| <!--/--> | Df | Deviance | Resid. Df | Resid. Dev | Pr(>Chi) |\n",
       "|---|---|---|---|---|---|\n",
       "| NULL | NA          |          NA | 31          | 42.34005    |        NA   |\n",
       "| definition |  1          | 0.009253793 | 30          | 42.33079    | 0.9233644   |\n",
       "| need |  1          | 0.566874349 | 29          | 41.76392    | 0.4515036   |\n",
       "| purpose |  2          | 0.423138377 | 27          | 41.34078    | 0.8093133   |\n",
       "| interest |  1          | 1.356387339 | 26          | 39.98439    | 0.2441646   |\n",
       "\n"
      ],
      "text/plain": [
       "           Df Deviance    Resid. Df Resid. Dev Pr(>Chi) \n",
       "NULL       NA          NA 31        42.34005          NA\n",
       "definition  1 0.009253793 30        42.33079   0.9233644\n",
       "need        1 0.566874349 29        41.76392   0.4515036\n",
       "purpose     2 0.423138377 27        41.34078   0.8093133\n",
       "interest    1 1.356387339 26        39.98439   0.2441646"
      ]
     },
     "metadata": {},
     "output_type": "display_data"
    }
   ],
   "source": [
    "model <- glm(comp2 ~ definition + need + purpose \n",
    "              + interest, data =survey2, family = binomial)\n",
    "summary(model)\n",
    "\n",
    "\n",
    "anova(model, test=\"Chisq\")"
   ]
  },
  {
   "cell_type": "code",
   "execution_count": 11,
   "metadata": {},
   "outputs": [
    {
     "data": {
      "text/plain": [
       "\n",
       "Call:\n",
       "glm(formula = comp3 ~ definition + need + purpose + interest, \n",
       "    family = binomial, data = survey2)\n",
       "\n",
       "Deviance Residuals: \n",
       "     Min        1Q    Median        3Q       Max  \n",
       "-0.93192  -0.66881  -0.55273  -0.00007   1.86243  \n",
       "\n",
       "Coefficients:\n",
       "                    Estimate Std. Error z value Pr(>|z|)\n",
       "(Intercept)       -1.921e+00  2.424e+00  -0.792    0.428\n",
       "definitionharmony -2.846e-01  1.426e+00  -0.200    0.842\n",
       "needharmony       -1.618e-03  1.267e+00  -0.001    0.999\n",
       "purposecosmetic   -1.835e+01  3.560e+03  -0.005    0.996\n",
       "purposeetc        -1.201e-01  1.192e+00  -0.101    0.920\n",
       "interest           2.623e-01  5.928e-01   0.442    0.658\n",
       "\n",
       "(Dispersion parameter for binomial family taken to be 1)\n",
       "\n",
       "    Null deviance: 27.738  on 31  degrees of freedom\n",
       "Residual deviance: 23.614  on 26  degrees of freedom\n",
       "AIC: 35.614\n",
       "\n",
       "Number of Fisher Scoring iterations: 18\n"
      ]
     },
     "metadata": {},
     "output_type": "display_data"
    },
    {
     "data": {
      "text/html": [
       "<table>\n",
       "<thead><tr><th></th><th scope=col>Df</th><th scope=col>Deviance</th><th scope=col>Resid. Df</th><th scope=col>Resid. Dev</th><th scope=col>Pr(&gt;Chi)</th></tr></thead>\n",
       "<tbody>\n",
       "\t<tr><th scope=row>NULL</th><td>NA        </td><td>        NA</td><td>31        </td><td>27.73753  </td><td>       NA </td></tr>\n",
       "\t<tr><th scope=row>definition</th><td> 1        </td><td>0.08157764</td><td>30        </td><td>27.65595  </td><td>0.7751707 </td></tr>\n",
       "\t<tr><th scope=row>need</th><td> 1        </td><td>0.06843822</td><td>29        </td><td>27.58751  </td><td>0.7936244 </td></tr>\n",
       "\t<tr><th scope=row>purpose</th><td> 2        </td><td>3.77691166</td><td>27        </td><td>23.81060  </td><td>0.1513053 </td></tr>\n",
       "\t<tr><th scope=row>interest</th><td> 1        </td><td>0.19611319</td><td>26        </td><td>23.61449  </td><td>0.6578766 </td></tr>\n",
       "</tbody>\n",
       "</table>\n"
      ],
      "text/latex": [
       "\\begin{tabular}{r|lllll}\n",
       "  & Df & Deviance & Resid. Df & Resid. Dev & Pr(>Chi)\\\\\n",
       "\\hline\n",
       "\tNULL & NA         &         NA & 31         & 27.73753   &        NA \\\\\n",
       "\tdefinition &  1         & 0.08157764 & 30         & 27.65595   & 0.7751707 \\\\\n",
       "\tneed &  1         & 0.06843822 & 29         & 27.58751   & 0.7936244 \\\\\n",
       "\tpurpose &  2         & 3.77691166 & 27         & 23.81060   & 0.1513053 \\\\\n",
       "\tinterest &  1         & 0.19611319 & 26         & 23.61449   & 0.6578766 \\\\\n",
       "\\end{tabular}\n"
      ],
      "text/markdown": [
       "\n",
       "| <!--/--> | Df | Deviance | Resid. Df | Resid. Dev | Pr(>Chi) |\n",
       "|---|---|---|---|---|---|\n",
       "| NULL | NA         |         NA | 31         | 27.73753   |        NA  |\n",
       "| definition |  1         | 0.08157764 | 30         | 27.65595   | 0.7751707  |\n",
       "| need |  1         | 0.06843822 | 29         | 27.58751   | 0.7936244  |\n",
       "| purpose |  2         | 3.77691166 | 27         | 23.81060   | 0.1513053  |\n",
       "| interest |  1         | 0.19611319 | 26         | 23.61449   | 0.6578766  |\n",
       "\n"
      ],
      "text/plain": [
       "           Df Deviance   Resid. Df Resid. Dev Pr(>Chi) \n",
       "NULL       NA         NA 31        27.73753          NA\n",
       "definition  1 0.08157764 30        27.65595   0.7751707\n",
       "need        1 0.06843822 29        27.58751   0.7936244\n",
       "purpose     2 3.77691166 27        23.81060   0.1513053\n",
       "interest    1 0.19611319 26        23.61449   0.6578766"
      ]
     },
     "metadata": {},
     "output_type": "display_data"
    }
   ],
   "source": [
    "model <- glm(comp3 ~ definition + need + purpose \n",
    "              + interest, data =survey2, family = binomial)\n",
    "summary(model)\n",
    "\n",
    "\n",
    "anova(model, test=\"Chisq\")"
   ]
  },
  {
   "cell_type": "code",
   "execution_count": 12,
   "metadata": {},
   "outputs": [
    {
     "data": {
      "text/plain": [
       "\n",
       "Call:\n",
       "glm(formula = comp4 ~ definition + need + purpose + interest, \n",
       "    family = binomial, data = survey2)\n",
       "\n",
       "Deviance Residuals: \n",
       "    Min       1Q   Median       3Q      Max  \n",
       "-1.5181  -0.7784  -0.4217  -0.3014   2.1031  \n",
       "\n",
       "Coefficients:\n",
       "                  Estimate Std. Error z value Pr(>|z|)\n",
       "(Intercept)       -2.83273    2.42889  -1.166    0.244\n",
       "definitionharmony  2.08234    1.56924   1.327    0.185\n",
       "needharmony       -1.50886    1.21253  -1.244    0.213\n",
       "purposecosmetic   -0.07543    1.56987  -0.048    0.962\n",
       "purposeetc         1.41394    1.32950   1.064    0.288\n",
       "interest           0.05456    0.54697   0.100    0.921\n",
       "\n",
       "(Dispersion parameter for binomial family taken to be 1)\n",
       "\n",
       "    Null deviance: 33.621  on 31  degrees of freedom\n",
       "Residual deviance: 28.139  on 26  degrees of freedom\n",
       "AIC: 40.139\n",
       "\n",
       "Number of Fisher Scoring iterations: 5\n"
      ]
     },
     "metadata": {},
     "output_type": "display_data"
    },
    {
     "data": {
      "text/html": [
       "<table>\n",
       "<thead><tr><th></th><th scope=col>Df</th><th scope=col>Deviance</th><th scope=col>Resid. Df</th><th scope=col>Resid. Dev</th><th scope=col>Pr(&gt;Chi)</th></tr></thead>\n",
       "<tbody>\n",
       "\t<tr><th scope=row>NULL</th><td>NA         </td><td>         NA</td><td>31         </td><td>33.62056   </td><td>       NA  </td></tr>\n",
       "\t<tr><th scope=row>definition</th><td> 1         </td><td>1.791247587</td><td>30         </td><td>31.82932   </td><td>0.1807742  </td></tr>\n",
       "\t<tr><th scope=row>need</th><td> 1         </td><td>1.315608723</td><td>29         </td><td>30.51371   </td><td>0.2513817  </td></tr>\n",
       "\t<tr><th scope=row>purpose</th><td> 2         </td><td>2.364792412</td><td>27         </td><td>28.14892   </td><td>0.3065433  </td></tr>\n",
       "\t<tr><th scope=row>interest</th><td> 1         </td><td>0.009961904</td><td>26         </td><td>28.13895   </td><td>0.9204957  </td></tr>\n",
       "</tbody>\n",
       "</table>\n"
      ],
      "text/latex": [
       "\\begin{tabular}{r|lllll}\n",
       "  & Df & Deviance & Resid. Df & Resid. Dev & Pr(>Chi)\\\\\n",
       "\\hline\n",
       "\tNULL & NA          &          NA & 31          & 33.62056    &        NA  \\\\\n",
       "\tdefinition &  1          & 1.791247587 & 30          & 31.82932    & 0.1807742  \\\\\n",
       "\tneed &  1          & 1.315608723 & 29          & 30.51371    & 0.2513817  \\\\\n",
       "\tpurpose &  2          & 2.364792412 & 27          & 28.14892    & 0.3065433  \\\\\n",
       "\tinterest &  1          & 0.009961904 & 26          & 28.13895    & 0.9204957  \\\\\n",
       "\\end{tabular}\n"
      ],
      "text/markdown": [
       "\n",
       "| <!--/--> | Df | Deviance | Resid. Df | Resid. Dev | Pr(>Chi) |\n",
       "|---|---|---|---|---|---|\n",
       "| NULL | NA          |          NA | 31          | 33.62056    |        NA   |\n",
       "| definition |  1          | 1.791247587 | 30          | 31.82932    | 0.1807742   |\n",
       "| need |  1          | 1.315608723 | 29          | 30.51371    | 0.2513817   |\n",
       "| purpose |  2          | 2.364792412 | 27          | 28.14892    | 0.3065433   |\n",
       "| interest |  1          | 0.009961904 | 26          | 28.13895    | 0.9204957   |\n",
       "\n"
      ],
      "text/plain": [
       "           Df Deviance    Resid. Df Resid. Dev Pr(>Chi) \n",
       "NULL       NA          NA 31        33.62056          NA\n",
       "definition  1 1.791247587 30        31.82932   0.1807742\n",
       "need        1 1.315608723 29        30.51371   0.2513817\n",
       "purpose     2 2.364792412 27        28.14892   0.3065433\n",
       "interest    1 0.009961904 26        28.13895   0.9204957"
      ]
     },
     "metadata": {},
     "output_type": "display_data"
    }
   ],
   "source": [
    "model <- glm(comp4 ~ definition + need + purpose \n",
    "              + interest, data =survey2, family = binomial)\n",
    "summary(model)\n",
    "\n",
    "\n",
    "anova(model, test=\"Chisq\")"
   ]
  },
  {
   "cell_type": "code",
   "execution_count": 13,
   "metadata": {},
   "outputs": [
    {
     "data": {
      "text/plain": [
       "\n",
       "Call:\n",
       "glm(formula = comp5 ~ definition + need + purpose + interest, \n",
       "    family = binomial, data = survey2)\n",
       "\n",
       "Deviance Residuals: \n",
       "    Min       1Q   Median       3Q      Max  \n",
       "-1.0408  -0.6377  -0.3438  -0.2040   2.0921  \n",
       "\n",
       "Coefficients:\n",
       "                  Estimate Std. Error z value Pr(>|z|)  \n",
       "(Intercept)        -4.9182     2.8923  -1.700   0.0891 .\n",
       "definitionharmony   0.9168     1.7402   0.527   0.5983  \n",
       "needharmony         1.4827     1.6714   0.887   0.3750  \n",
       "purposecosmetic    -0.2705     1.2861  -0.210   0.8334  \n",
       "purposeetc         -2.4689     1.6915  -1.460   0.1444  \n",
       "interest            0.7295     0.6872   1.061   0.2885  \n",
       "---\n",
       "Signif. codes:  0 '***' 0.001 '**' 0.01 '*' 0.05 '.' 0.1 ' ' 1\n",
       "\n",
       "(Dispersion parameter for binomial family taken to be 1)\n",
       "\n",
       "    Null deviance: 27.738  on 31  degrees of freedom\n",
       "Residual deviance: 23.108  on 26  degrees of freedom\n",
       "AIC: 35.108\n",
       "\n",
       "Number of Fisher Scoring iterations: 6\n"
      ]
     },
     "metadata": {},
     "output_type": "display_data"
    },
    {
     "data": {
      "text/html": [
       "<table>\n",
       "<thead><tr><th></th><th scope=col>Df</th><th scope=col>Deviance</th><th scope=col>Resid. Df</th><th scope=col>Resid. Dev</th><th scope=col>Pr(&gt;Chi)</th></tr></thead>\n",
       "<tbody>\n",
       "\t<tr><th scope=row>NULL</th><td>NA       </td><td>       NA</td><td>31       </td><td>27.73753 </td><td>       NA</td></tr>\n",
       "\t<tr><th scope=row>definition</th><td> 1       </td><td>0.5852000</td><td>30       </td><td>27.15233 </td><td>0.4442813</td></tr>\n",
       "\t<tr><th scope=row>need</th><td> 1       </td><td>0.5709104</td><td>29       </td><td>26.58142 </td><td>0.4498974</td></tr>\n",
       "\t<tr><th scope=row>purpose</th><td> 2       </td><td>2.2416675</td><td>27       </td><td>24.33975 </td><td>0.3260079</td></tr>\n",
       "\t<tr><th scope=row>interest</th><td> 1       </td><td>1.2315417</td><td>26       </td><td>23.10821 </td><td>0.2671074</td></tr>\n",
       "</tbody>\n",
       "</table>\n"
      ],
      "text/latex": [
       "\\begin{tabular}{r|lllll}\n",
       "  & Df & Deviance & Resid. Df & Resid. Dev & Pr(>Chi)\\\\\n",
       "\\hline\n",
       "\tNULL & NA        &        NA & 31        & 27.73753  &        NA\\\\\n",
       "\tdefinition &  1        & 0.5852000 & 30        & 27.15233  & 0.4442813\\\\\n",
       "\tneed &  1        & 0.5709104 & 29        & 26.58142  & 0.4498974\\\\\n",
       "\tpurpose &  2        & 2.2416675 & 27        & 24.33975  & 0.3260079\\\\\n",
       "\tinterest &  1        & 1.2315417 & 26        & 23.10821  & 0.2671074\\\\\n",
       "\\end{tabular}\n"
      ],
      "text/markdown": [
       "\n",
       "| <!--/--> | Df | Deviance | Resid. Df | Resid. Dev | Pr(>Chi) |\n",
       "|---|---|---|---|---|---|\n",
       "| NULL | NA        |        NA | 31        | 27.73753  |        NA |\n",
       "| definition |  1        | 0.5852000 | 30        | 27.15233  | 0.4442813 |\n",
       "| need |  1        | 0.5709104 | 29        | 26.58142  | 0.4498974 |\n",
       "| purpose |  2        | 2.2416675 | 27        | 24.33975  | 0.3260079 |\n",
       "| interest |  1        | 1.2315417 | 26        | 23.10821  | 0.2671074 |\n",
       "\n"
      ],
      "text/plain": [
       "           Df Deviance  Resid. Df Resid. Dev Pr(>Chi) \n",
       "NULL       NA        NA 31        27.73753          NA\n",
       "definition  1 0.5852000 30        27.15233   0.4442813\n",
       "need        1 0.5709104 29        26.58142   0.4498974\n",
       "purpose     2 2.2416675 27        24.33975   0.3260079\n",
       "interest    1 1.2315417 26        23.10821   0.2671074"
      ]
     },
     "metadata": {},
     "output_type": "display_data"
    }
   ],
   "source": [
    "model <- glm(comp5 ~ definition + need + purpose \n",
    "              + interest, data =survey2, family = binomial)\n",
    "summary(model)\n",
    "\n",
    "\n",
    "anova(model, test=\"Chisq\")"
   ]
  },
  {
   "cell_type": "code",
   "execution_count": 14,
   "metadata": {},
   "outputs": [
    {
     "name": "stderr",
     "output_type": "stream",
     "text": [
      "Warning message:\n",
      "\"glm.fit: fitted probabilities numerically 0 or 1 occurred\""
     ]
    },
    {
     "data": {
      "text/plain": [
       "\n",
       "Call:\n",
       "glm(formula = t1_1 ~ definition + need + purpose + interest, \n",
       "    family = binomial, data = survey2)\n",
       "\n",
       "Deviance Residuals: \n",
       "     Min        1Q    Median        3Q       Max  \n",
       "-1.20400  -0.27664  -0.00009   0.00000   1.90967  \n",
       "\n",
       "Coefficients:\n",
       "                  Estimate Std. Error z value Pr(>|z|)\n",
       "(Intercept)        -42.285   9073.605  -0.005    0.996\n",
       "definitionharmony   18.438   6619.584   0.003    0.998\n",
       "needharmony         18.430   6205.756   0.003    0.998\n",
       "purposecosmetic     -1.359      1.933  -0.703    0.482\n",
       "purposeetc          -3.678      2.803  -1.312    0.189\n",
       "interest             1.710      1.232   1.388    0.165\n",
       "\n",
       "(Dispersion parameter for binomial family taken to be 1)\n",
       "\n",
       "    Null deviance: 19.912  on 31  degrees of freedom\n",
       "Residual deviance: 12.393  on 26  degrees of freedom\n",
       "AIC: 24.393\n",
       "\n",
       "Number of Fisher Scoring iterations: 20\n"
      ]
     },
     "metadata": {},
     "output_type": "display_data"
    },
    {
     "name": "stderr",
     "output_type": "stream",
     "text": [
      "Warning message:\n",
      "\"glm.fit: fitted probabilities numerically 0 or 1 occurred\"Warning message:\n",
      "\"glm.fit: fitted probabilities numerically 0 or 1 occurred\""
     ]
    },
    {
     "data": {
      "text/html": [
       "<table>\n",
       "<thead><tr><th></th><th scope=col>Df</th><th scope=col>Deviance</th><th scope=col>Resid. Df</th><th scope=col>Resid. Dev</th><th scope=col>Pr(&gt;Chi)</th></tr></thead>\n",
       "<tbody>\n",
       "\t<tr><th scope=row>NULL</th><td>NA        </td><td>       NA </td><td>31        </td><td>19.91227  </td><td>        NA</td></tr>\n",
       "\t<tr><th scope=row>definition</th><td> 1        </td><td>2.6873805 </td><td>30        </td><td>17.22489  </td><td>0.10114597</td></tr>\n",
       "\t<tr><th scope=row>need</th><td> 1        </td><td>1.3809106 </td><td>29        </td><td>15.84397  </td><td>0.23994610</td></tr>\n",
       "\t<tr><th scope=row>purpose</th><td> 2        </td><td>0.5676347 </td><td>27        </td><td>15.27634  </td><td>0.75290415</td></tr>\n",
       "\t<tr><th scope=row>interest</th><td> 1        </td><td>2.8830005 </td><td>26        </td><td>12.39334  </td><td>0.08951907</td></tr>\n",
       "</tbody>\n",
       "</table>\n"
      ],
      "text/latex": [
       "\\begin{tabular}{r|lllll}\n",
       "  & Df & Deviance & Resid. Df & Resid. Dev & Pr(>Chi)\\\\\n",
       "\\hline\n",
       "\tNULL & NA         &        NA  & 31         & 19.91227   &         NA\\\\\n",
       "\tdefinition &  1         & 2.6873805  & 30         & 17.22489   & 0.10114597\\\\\n",
       "\tneed &  1         & 1.3809106  & 29         & 15.84397   & 0.23994610\\\\\n",
       "\tpurpose &  2         & 0.5676347  & 27         & 15.27634   & 0.75290415\\\\\n",
       "\tinterest &  1         & 2.8830005  & 26         & 12.39334   & 0.08951907\\\\\n",
       "\\end{tabular}\n"
      ],
      "text/markdown": [
       "\n",
       "| <!--/--> | Df | Deviance | Resid. Df | Resid. Dev | Pr(>Chi) |\n",
       "|---|---|---|---|---|---|\n",
       "| NULL | NA         |        NA  | 31         | 19.91227   |         NA |\n",
       "| definition |  1         | 2.6873805  | 30         | 17.22489   | 0.10114597 |\n",
       "| need |  1         | 1.3809106  | 29         | 15.84397   | 0.23994610 |\n",
       "| purpose |  2         | 0.5676347  | 27         | 15.27634   | 0.75290415 |\n",
       "| interest |  1         | 2.8830005  | 26         | 12.39334   | 0.08951907 |\n",
       "\n"
      ],
      "text/plain": [
       "           Df Deviance  Resid. Df Resid. Dev Pr(>Chi)  \n",
       "NULL       NA        NA 31        19.91227           NA\n",
       "definition  1 2.6873805 30        17.22489   0.10114597\n",
       "need        1 1.3809106 29        15.84397   0.23994610\n",
       "purpose     2 0.5676347 27        15.27634   0.75290415\n",
       "interest    1 2.8830005 26        12.39334   0.08951907"
      ]
     },
     "metadata": {},
     "output_type": "display_data"
    }
   ],
   "source": [
    "model <- glm(t1_1 ~ definition + need + purpose \n",
    "              + interest, data =survey2, family = binomial)\n",
    "summary(model)\n",
    "\n",
    "\n",
    "anova(model, test=\"Chisq\")"
   ]
  },
  {
   "cell_type": "code",
   "execution_count": 15,
   "metadata": {},
   "outputs": [
    {
     "data": {
      "text/plain": [
       "\n",
       "Call:\n",
       "glm(formula = t1_2 ~ definition + need + purpose + interest, \n",
       "    family = binomial, data = survey2)\n",
       "\n",
       "Deviance Residuals: \n",
       "     Min        1Q    Median        3Q       Max  \n",
       "-1.32029  -0.39965  -0.00006  -0.00002   2.06040  \n",
       "\n",
       "Coefficients:\n",
       "                    Estimate Std. Error z value Pr(>|z|)\n",
       "(Intercept)        -21.84495 5324.71575  -0.004    0.997\n",
       "definitionharmony    1.15177    2.50330   0.460    0.645\n",
       "needharmony         -2.81708    2.04661  -1.376    0.169\n",
       "purposecosmetic     -0.09495 7665.99601   0.000    1.000\n",
       "purposeetc          19.54653 5324.71419   0.004    0.997\n",
       "interest             0.49215    0.94316   0.522    0.602\n",
       "\n",
       "(Dispersion parameter for binomial family taken to be 1)\n",
       "\n",
       "    Null deviance: 19.912  on 31  degrees of freedom\n",
       "Residual deviance: 11.738  on 26  degrees of freedom\n",
       "AIC: 23.738\n",
       "\n",
       "Number of Fisher Scoring iterations: 19\n"
      ]
     },
     "metadata": {},
     "output_type": "display_data"
    },
    {
     "data": {
      "text/html": [
       "<table>\n",
       "<thead><tr><th></th><th scope=col>Df</th><th scope=col>Deviance</th><th scope=col>Resid. Df</th><th scope=col>Resid. Dev</th><th scope=col>Pr(&gt;Chi)</th></tr></thead>\n",
       "<tbody>\n",
       "\t<tr><th scope=row>NULL</th><td>NA         </td><td>         NA</td><td>31         </td><td>19.91227   </td><td>        NA </td></tr>\n",
       "\t<tr><th scope=row>definition</th><td> 1         </td><td>0.001599312</td><td>30         </td><td>19.91067   </td><td>0.96809998 </td></tr>\n",
       "\t<tr><th scope=row>need</th><td> 1         </td><td>1.440367650</td><td>29         </td><td>18.47030   </td><td>0.23007986 </td></tr>\n",
       "\t<tr><th scope=row>purpose</th><td> 2         </td><td>6.454180432</td><td>27         </td><td>12.01612   </td><td>0.03967277 </td></tr>\n",
       "\t<tr><th scope=row>interest</th><td> 1         </td><td>0.277653684</td><td>26         </td><td>11.73846   </td><td>0.59824322 </td></tr>\n",
       "</tbody>\n",
       "</table>\n"
      ],
      "text/latex": [
       "\\begin{tabular}{r|lllll}\n",
       "  & Df & Deviance & Resid. Df & Resid. Dev & Pr(>Chi)\\\\\n",
       "\\hline\n",
       "\tNULL & NA          &          NA & 31          & 19.91227    &         NA \\\\\n",
       "\tdefinition &  1          & 0.001599312 & 30          & 19.91067    & 0.96809998 \\\\\n",
       "\tneed &  1          & 1.440367650 & 29          & 18.47030    & 0.23007986 \\\\\n",
       "\tpurpose &  2          & 6.454180432 & 27          & 12.01612    & 0.03967277 \\\\\n",
       "\tinterest &  1          & 0.277653684 & 26          & 11.73846    & 0.59824322 \\\\\n",
       "\\end{tabular}\n"
      ],
      "text/markdown": [
       "\n",
       "| <!--/--> | Df | Deviance | Resid. Df | Resid. Dev | Pr(>Chi) |\n",
       "|---|---|---|---|---|---|\n",
       "| NULL | NA          |          NA | 31          | 19.91227    |         NA  |\n",
       "| definition |  1          | 0.001599312 | 30          | 19.91067    | 0.96809998  |\n",
       "| need |  1          | 1.440367650 | 29          | 18.47030    | 0.23007986  |\n",
       "| purpose |  2          | 6.454180432 | 27          | 12.01612    | 0.03967277  |\n",
       "| interest |  1          | 0.277653684 | 26          | 11.73846    | 0.59824322  |\n",
       "\n"
      ],
      "text/plain": [
       "           Df Deviance    Resid. Df Resid. Dev Pr(>Chi)  \n",
       "NULL       NA          NA 31        19.91227           NA\n",
       "definition  1 0.001599312 30        19.91067   0.96809998\n",
       "need        1 1.440367650 29        18.47030   0.23007986\n",
       "purpose     2 6.454180432 27        12.01612   0.03967277\n",
       "interest    1 0.277653684 26        11.73846   0.59824322"
      ]
     },
     "metadata": {},
     "output_type": "display_data"
    }
   ],
   "source": [
    "model <- glm(t1_2 ~ definition + need + purpose \n",
    "              + interest, data =survey2, family = binomial)\n",
    "summary(model)\n",
    "\n",
    "\n",
    "anova(model, test=\"Chisq\")"
   ]
  },
  {
   "cell_type": "code",
   "execution_count": 16,
   "metadata": {},
   "outputs": [
    {
     "data": {
      "text/plain": [
       "\n",
       "Call:\n",
       "glm(formula = t1_3 ~ definition + need + purpose + interest, \n",
       "    family = binomial, data = survey2)\n",
       "\n",
       "Deviance Residuals: \n",
       "    Min       1Q   Median       3Q      Max  \n",
       "-1.4226  -0.8101  -0.7338   1.0946   1.8488  \n",
       "\n",
       "Coefficients:\n",
       "                  Estimate Std. Error z value Pr(>|z|)\n",
       "(Intercept)         0.6659     1.7765   0.375    0.708\n",
       "definitionharmony  -0.4598     1.1169  -0.412    0.681\n",
       "needharmony         0.5092     1.0244   0.497    0.619\n",
       "purposecosmetic    -1.3991     1.0568  -1.324    0.186\n",
       "purposeetc         -1.0402     0.9772  -1.065    0.287\n",
       "interest           -0.1552     0.4486  -0.346    0.729\n",
       "\n",
       "(Dispersion parameter for binomial family taken to be 1)\n",
       "\n",
       "    Null deviance: 41.183  on 31  degrees of freedom\n",
       "Residual deviance: 38.284  on 26  degrees of freedom\n",
       "AIC: 50.284\n",
       "\n",
       "Number of Fisher Scoring iterations: 4\n"
      ]
     },
     "metadata": {},
     "output_type": "display_data"
    },
    {
     "data": {
      "text/html": [
       "<table>\n",
       "<thead><tr><th></th><th scope=col>Df</th><th scope=col>Deviance</th><th scope=col>Resid. Df</th><th scope=col>Resid. Dev</th><th scope=col>Pr(&gt;Chi)</th></tr></thead>\n",
       "<tbody>\n",
       "\t<tr><th scope=row>NULL</th><td>NA       </td><td>       NA</td><td>31       </td><td>41.18346 </td><td>       NA</td></tr>\n",
       "\t<tr><th scope=row>definition</th><td> 1       </td><td>0.0292653</td><td>30       </td><td>41.15419 </td><td>0.8641679</td></tr>\n",
       "\t<tr><th scope=row>need</th><td> 1       </td><td>0.3414153</td><td>29       </td><td>40.81278 </td><td>0.5590134</td></tr>\n",
       "\t<tr><th scope=row>purpose</th><td> 2       </td><td>2.4085401</td><td>27       </td><td>38.40424 </td><td>0.2999108</td></tr>\n",
       "\t<tr><th scope=row>interest</th><td> 1       </td><td>0.1205300</td><td>26       </td><td>38.28371 </td><td>0.7284603</td></tr>\n",
       "</tbody>\n",
       "</table>\n"
      ],
      "text/latex": [
       "\\begin{tabular}{r|lllll}\n",
       "  & Df & Deviance & Resid. Df & Resid. Dev & Pr(>Chi)\\\\\n",
       "\\hline\n",
       "\tNULL & NA        &        NA & 31        & 41.18346  &        NA\\\\\n",
       "\tdefinition &  1        & 0.0292653 & 30        & 41.15419  & 0.8641679\\\\\n",
       "\tneed &  1        & 0.3414153 & 29        & 40.81278  & 0.5590134\\\\\n",
       "\tpurpose &  2        & 2.4085401 & 27        & 38.40424  & 0.2999108\\\\\n",
       "\tinterest &  1        & 0.1205300 & 26        & 38.28371  & 0.7284603\\\\\n",
       "\\end{tabular}\n"
      ],
      "text/markdown": [
       "\n",
       "| <!--/--> | Df | Deviance | Resid. Df | Resid. Dev | Pr(>Chi) |\n",
       "|---|---|---|---|---|---|\n",
       "| NULL | NA        |        NA | 31        | 41.18346  |        NA |\n",
       "| definition |  1        | 0.0292653 | 30        | 41.15419  | 0.8641679 |\n",
       "| need |  1        | 0.3414153 | 29        | 40.81278  | 0.5590134 |\n",
       "| purpose |  2        | 2.4085401 | 27        | 38.40424  | 0.2999108 |\n",
       "| interest |  1        | 0.1205300 | 26        | 38.28371  | 0.7284603 |\n",
       "\n"
      ],
      "text/plain": [
       "           Df Deviance  Resid. Df Resid. Dev Pr(>Chi) \n",
       "NULL       NA        NA 31        41.18346          NA\n",
       "definition  1 0.0292653 30        41.15419   0.8641679\n",
       "need        1 0.3414153 29        40.81278   0.5590134\n",
       "purpose     2 2.4085401 27        38.40424   0.2999108\n",
       "interest    1 0.1205300 26        38.28371   0.7284603"
      ]
     },
     "metadata": {},
     "output_type": "display_data"
    }
   ],
   "source": [
    "model <- glm(t1_3 ~ definition + need + purpose \n",
    "              + interest, data =survey2, family = binomial)\n",
    "summary(model)\n",
    "\n",
    "\n",
    "anova(model, test=\"Chisq\")"
   ]
  },
  {
   "cell_type": "code",
   "execution_count": 17,
   "metadata": {},
   "outputs": [
    {
     "data": {
      "text/plain": [
       "\n",
       "Call:\n",
       "glm(formula = t1_4 ~ definition + need + purpose + interest, \n",
       "    family = binomial, data = survey2)\n",
       "\n",
       "Deviance Residuals: \n",
       "    Min       1Q   Median       3Q      Max  \n",
       "-1.1135  -0.6845  -0.5800  -0.4492   2.0496  \n",
       "\n",
       "Coefficients:\n",
       "                  Estimate Std. Error z value Pr(>|z|)\n",
       "(Intercept)        -0.3033     1.9384  -0.156    0.876\n",
       "definitionharmony  -0.7973     1.2402  -0.643    0.520\n",
       "needharmony         0.4932     1.1899   0.414    0.679\n",
       "purposecosmetic     0.6966     1.1101   0.627    0.530\n",
       "purposeetc         -0.2717     1.1975  -0.227    0.821\n",
       "interest           -0.2727     0.5113  -0.533    0.594\n",
       "\n",
       "(Dispersion parameter for binomial family taken to be 1)\n",
       "\n",
       "    Null deviance: 33.621  on 31  degrees of freedom\n",
       "Residual deviance: 31.915  on 26  degrees of freedom\n",
       "AIC: 43.915\n",
       "\n",
       "Number of Fisher Scoring iterations: 4\n"
      ]
     },
     "metadata": {},
     "output_type": "display_data"
    },
    {
     "data": {
      "text/html": [
       "<table>\n",
       "<thead><tr><th></th><th scope=col>Df</th><th scope=col>Deviance</th><th scope=col>Resid. Df</th><th scope=col>Resid. Dev</th><th scope=col>Pr(&gt;Chi)</th></tr></thead>\n",
       "<tbody>\n",
       "\t<tr><th scope=row>NULL</th><td>NA        </td><td>        NA</td><td>31        </td><td>33.62056  </td><td>       NA </td></tr>\n",
       "\t<tr><th scope=row>definition</th><td> 1        </td><td>0.27927305</td><td>30        </td><td>33.34129  </td><td>0.5971781 </td></tr>\n",
       "\t<tr><th scope=row>need</th><td> 1        </td><td>0.05752475</td><td>29        </td><td>33.28377  </td><td>0.8104518 </td></tr>\n",
       "\t<tr><th scope=row>purpose</th><td> 2        </td><td>1.07929594</td><td>27        </td><td>32.20447  </td><td>0.5829534 </td></tr>\n",
       "\t<tr><th scope=row>interest</th><td> 1        </td><td>0.28947294</td><td>26        </td><td>31.91500  </td><td>0.5905585 </td></tr>\n",
       "</tbody>\n",
       "</table>\n"
      ],
      "text/latex": [
       "\\begin{tabular}{r|lllll}\n",
       "  & Df & Deviance & Resid. Df & Resid. Dev & Pr(>Chi)\\\\\n",
       "\\hline\n",
       "\tNULL & NA         &         NA & 31         & 33.62056   &        NA \\\\\n",
       "\tdefinition &  1         & 0.27927305 & 30         & 33.34129   & 0.5971781 \\\\\n",
       "\tneed &  1         & 0.05752475 & 29         & 33.28377   & 0.8104518 \\\\\n",
       "\tpurpose &  2         & 1.07929594 & 27         & 32.20447   & 0.5829534 \\\\\n",
       "\tinterest &  1         & 0.28947294 & 26         & 31.91500   & 0.5905585 \\\\\n",
       "\\end{tabular}\n"
      ],
      "text/markdown": [
       "\n",
       "| <!--/--> | Df | Deviance | Resid. Df | Resid. Dev | Pr(>Chi) |\n",
       "|---|---|---|---|---|---|\n",
       "| NULL | NA         |         NA | 31         | 33.62056   |        NA  |\n",
       "| definition |  1         | 0.27927305 | 30         | 33.34129   | 0.5971781  |\n",
       "| need |  1         | 0.05752475 | 29         | 33.28377   | 0.8104518  |\n",
       "| purpose |  2         | 1.07929594 | 27         | 32.20447   | 0.5829534  |\n",
       "| interest |  1         | 0.28947294 | 26         | 31.91500   | 0.5905585  |\n",
       "\n"
      ],
      "text/plain": [
       "           Df Deviance   Resid. Df Resid. Dev Pr(>Chi) \n",
       "NULL       NA         NA 31        33.62056          NA\n",
       "definition  1 0.27927305 30        33.34129   0.5971781\n",
       "need        1 0.05752475 29        33.28377   0.8104518\n",
       "purpose     2 1.07929594 27        32.20447   0.5829534\n",
       "interest    1 0.28947294 26        31.91500   0.5905585"
      ]
     },
     "metadata": {},
     "output_type": "display_data"
    }
   ],
   "source": [
    "model <- glm(t1_4 ~ definition + need + purpose \n",
    "              + interest, data =survey2, family = binomial)\n",
    "summary(model)\n",
    "\n",
    "\n",
    "anova(model, test=\"Chisq\")"
   ]
  },
  {
   "cell_type": "code",
   "execution_count": 18,
   "metadata": {},
   "outputs": [
    {
     "data": {
      "text/plain": [
       "\n",
       "Call:\n",
       "glm(formula = t1_5 ~ definition + need + purpose + interest, \n",
       "    family = binomial, data = survey2)\n",
       "\n",
       "Deviance Residuals: \n",
       "     Min        1Q    Median        3Q       Max  \n",
       "-1.01309  -0.78663  -0.65294   0.03689   1.98506  \n",
       "\n",
       "Coefficients:\n",
       "                   Estimate Std. Error z value Pr(>|z|)\n",
       "(Intercept)       -1.801566   2.026831  -0.889    0.374\n",
       "definitionharmony  0.075564   1.212429   0.062    0.950\n",
       "needharmony       -0.612095   1.095893  -0.559    0.576\n",
       "purposecosmetic    1.337512   1.284202   1.042    0.298\n",
       "purposeetc         1.262047   1.277340   0.988    0.323\n",
       "interest          -0.003701   0.481293  -0.008    0.994\n",
       "\n",
       "(Dispersion parameter for binomial family taken to be 1)\n",
       "\n",
       "    Null deviance: 35.989  on 31  degrees of freedom\n",
       "Residual deviance: 34.058  on 26  degrees of freedom\n",
       "AIC: 46.058\n",
       "\n",
       "Number of Fisher Scoring iterations: 4\n"
      ]
     },
     "metadata": {},
     "output_type": "display_data"
    },
    {
     "data": {
      "text/html": [
       "<table>\n",
       "<thead><tr><th></th><th scope=col>Df</th><th scope=col>Deviance</th><th scope=col>Resid. Df</th><th scope=col>Resid. Dev</th><th scope=col>Pr(&gt;Chi)</th></tr></thead>\n",
       "<tbody>\n",
       "\t<tr><th scope=row>NULL</th><td>NA          </td><td>          NA</td><td>31          </td><td>35.98945    </td><td>       NA   </td></tr>\n",
       "\t<tr><th scope=row>definition</th><td> 1          </td><td>4.576750e-02</td><td>30          </td><td>35.94368    </td><td>0.8305990   </td></tr>\n",
       "\t<tr><th scope=row>need</th><td> 1          </td><td>3.795680e-01</td><td>29          </td><td>35.56411    </td><td>0.5378345   </td></tr>\n",
       "\t<tr><th scope=row>purpose</th><td> 2          </td><td>1.506334e+00</td><td>27          </td><td>34.05778    </td><td>0.4708728   </td></tr>\n",
       "\t<tr><th scope=row>interest</th><td> 1          </td><td>5.912113e-05</td><td>26          </td><td>34.05772    </td><td>0.9938651   </td></tr>\n",
       "</tbody>\n",
       "</table>\n"
      ],
      "text/latex": [
       "\\begin{tabular}{r|lllll}\n",
       "  & Df & Deviance & Resid. Df & Resid. Dev & Pr(>Chi)\\\\\n",
       "\\hline\n",
       "\tNULL & NA           &           NA & 31           & 35.98945     &        NA   \\\\\n",
       "\tdefinition &  1           & 4.576750e-02 & 30           & 35.94368     & 0.8305990   \\\\\n",
       "\tneed &  1           & 3.795680e-01 & 29           & 35.56411     & 0.5378345   \\\\\n",
       "\tpurpose &  2           & 1.506334e+00 & 27           & 34.05778     & 0.4708728   \\\\\n",
       "\tinterest &  1           & 5.912113e-05 & 26           & 34.05772     & 0.9938651   \\\\\n",
       "\\end{tabular}\n"
      ],
      "text/markdown": [
       "\n",
       "| <!--/--> | Df | Deviance | Resid. Df | Resid. Dev | Pr(>Chi) |\n",
       "|---|---|---|---|---|---|\n",
       "| NULL | NA           |           NA | 31           | 35.98945     |        NA    |\n",
       "| definition |  1           | 4.576750e-02 | 30           | 35.94368     | 0.8305990    |\n",
       "| need |  1           | 3.795680e-01 | 29           | 35.56411     | 0.5378345    |\n",
       "| purpose |  2           | 1.506334e+00 | 27           | 34.05778     | 0.4708728    |\n",
       "| interest |  1           | 5.912113e-05 | 26           | 34.05772     | 0.9938651    |\n",
       "\n"
      ],
      "text/plain": [
       "           Df Deviance     Resid. Df Resid. Dev Pr(>Chi) \n",
       "NULL       NA           NA 31        35.98945          NA\n",
       "definition  1 4.576750e-02 30        35.94368   0.8305990\n",
       "need        1 3.795680e-01 29        35.56411   0.5378345\n",
       "purpose     2 1.506334e+00 27        34.05778   0.4708728\n",
       "interest    1 5.912113e-05 26        34.05772   0.9938651"
      ]
     },
     "metadata": {},
     "output_type": "display_data"
    }
   ],
   "source": [
    "model <- glm(t1_5 ~ definition + need + purpose \n",
    "              + interest, data =survey2, family = binomial)\n",
    "summary(model)\n",
    "\n",
    "\n",
    "anova(model, test=\"Chisq\")"
   ]
  },
  {
   "cell_type": "code",
   "execution_count": 19,
   "metadata": {},
   "outputs": [
    {
     "name": "stderr",
     "output_type": "stream",
     "text": [
      "Warning message:\n",
      "\"glm.fit: fitted probabilities numerically 0 or 1 occurred\""
     ]
    },
    {
     "data": {
      "text/plain": [
       "\n",
       "Call:\n",
       "glm(formula = t2_1 ~ definition + need + purpose + interest, \n",
       "    family = binomial, data = survey2)\n",
       "\n",
       "Deviance Residuals: \n",
       "     Min        1Q    Median        3Q       Max  \n",
       "-1.17741  -0.00001   0.00000   0.00000   1.17741  \n",
       "\n",
       "Coefficients:\n",
       "                   Estimate Std. Error z value Pr(>|z|)\n",
       "(Intercept)        -120.502  49717.387  -0.002    0.998\n",
       "definitionharmony    37.356  68806.412   0.001    1.000\n",
       "needharmony         -15.132  71808.794   0.000    1.000\n",
       "purposecosmetic      -2.324  43630.722   0.000    1.000\n",
       "purposeetc           -1.198  40433.213   0.000    1.000\n",
       "interest             19.895   8911.473   0.002    0.998\n",
       "\n",
       "(Dispersion parameter for binomial family taken to be 1)\n",
       "\n",
       "    Null deviance: 8.8999  on 31  degrees of freedom\n",
       "Residual deviance: 2.7726  on 26  degrees of freedom\n",
       "AIC: 14.773\n",
       "\n",
       "Number of Fisher Scoring iterations: 22\n"
      ]
     },
     "metadata": {},
     "output_type": "display_data"
    },
    {
     "name": "stderr",
     "output_type": "stream",
     "text": [
      "Warning message:\n",
      "\"glm.fit: fitted probabilities numerically 0 or 1 occurred\"Warning message:\n",
      "\"glm.fit: fitted probabilities numerically 0 or 1 occurred\""
     ]
    },
    {
     "data": {
      "text/html": [
       "<table>\n",
       "<thead><tr><th></th><th scope=col>Df</th><th scope=col>Deviance</th><th scope=col>Resid. Df</th><th scope=col>Resid. Dev</th><th scope=col>Pr(&gt;Chi)</th></tr></thead>\n",
       "<tbody>\n",
       "\t<tr><th scope=row>NULL</th><td>NA        </td><td>       NA </td><td>31        </td><td>8.899891  </td><td>        NA</td></tr>\n",
       "\t<tr><th scope=row>definition</th><td> 1        </td><td>0.8592396 </td><td>30        </td><td>8.040651  </td><td>0.35395156</td></tr>\n",
       "\t<tr><th scope=row>need</th><td> 1        </td><td>0.4342369 </td><td>29        </td><td>7.606415  </td><td>0.50991728</td></tr>\n",
       "\t<tr><th scope=row>purpose</th><td> 2        </td><td>1.3274369 </td><td>27        </td><td>6.278978  </td><td>0.51493303</td></tr>\n",
       "\t<tr><th scope=row>interest</th><td> 1        </td><td>3.5063890 </td><td>26        </td><td>2.772589  </td><td>0.06113256</td></tr>\n",
       "</tbody>\n",
       "</table>\n"
      ],
      "text/latex": [
       "\\begin{tabular}{r|lllll}\n",
       "  & Df & Deviance & Resid. Df & Resid. Dev & Pr(>Chi)\\\\\n",
       "\\hline\n",
       "\tNULL & NA         &        NA  & 31         & 8.899891   &         NA\\\\\n",
       "\tdefinition &  1         & 0.8592396  & 30         & 8.040651   & 0.35395156\\\\\n",
       "\tneed &  1         & 0.4342369  & 29         & 7.606415   & 0.50991728\\\\\n",
       "\tpurpose &  2         & 1.3274369  & 27         & 6.278978   & 0.51493303\\\\\n",
       "\tinterest &  1         & 3.5063890  & 26         & 2.772589   & 0.06113256\\\\\n",
       "\\end{tabular}\n"
      ],
      "text/markdown": [
       "\n",
       "| <!--/--> | Df | Deviance | Resid. Df | Resid. Dev | Pr(>Chi) |\n",
       "|---|---|---|---|---|---|\n",
       "| NULL | NA         |        NA  | 31         | 8.899891   |         NA |\n",
       "| definition |  1         | 0.8592396  | 30         | 8.040651   | 0.35395156 |\n",
       "| need |  1         | 0.4342369  | 29         | 7.606415   | 0.50991728 |\n",
       "| purpose |  2         | 1.3274369  | 27         | 6.278978   | 0.51493303 |\n",
       "| interest |  1         | 3.5063890  | 26         | 2.772589   | 0.06113256 |\n",
       "\n"
      ],
      "text/plain": [
       "           Df Deviance  Resid. Df Resid. Dev Pr(>Chi)  \n",
       "NULL       NA        NA 31        8.899891           NA\n",
       "definition  1 0.8592396 30        8.040651   0.35395156\n",
       "need        1 0.4342369 29        7.606415   0.50991728\n",
       "purpose     2 1.3274369 27        6.278978   0.51493303\n",
       "interest    1 3.5063890 26        2.772589   0.06113256"
      ]
     },
     "metadata": {},
     "output_type": "display_data"
    }
   ],
   "source": [
    "model <- glm(t2_1 ~ definition + need + purpose \n",
    "              + interest, data =survey2, family = binomial)\n",
    "summary(model)\n",
    "\n",
    "\n",
    "anova(model, test=\"Chisq\")"
   ]
  },
  {
   "cell_type": "code",
   "execution_count": 20,
   "metadata": {},
   "outputs": [
    {
     "name": "stderr",
     "output_type": "stream",
     "text": [
      "Warning message:\n",
      "\"glm.fit: algorithm did not converge\"Warning message:\n",
      "\"glm.fit: fitted probabilities numerically 0 or 1 occurred\""
     ]
    },
    {
     "data": {
      "text/plain": [
       "\n",
       "Call:\n",
       "glm(formula = t2_2 ~ definition + need + purpose + interest, \n",
       "    family = binomial, data = survey2)\n",
       "\n",
       "Deviance Residuals: \n",
       "       Min          1Q      Median          3Q         Max  \n",
       "-2.607e-05  -2.110e-08  -2.110e-08  -2.110e-08   2.233e-05  \n",
       "\n",
       "Coefficients:\n",
       "                    Estimate Std. Error z value Pr(>|z|)\n",
       "(Intercept)          104.857 275726.232   0.000    1.000\n",
       "definitionharmony    -40.116 211747.449   0.000    1.000\n",
       "needharmony            1.287 156930.224   0.000    1.000\n",
       "purposecosmetic      -40.697 250139.182   0.000    1.000\n",
       "purposeetc            -1.710  83235.319   0.000    1.000\n",
       "interest             -43.915  50581.359  -0.001    0.999\n",
       "\n",
       "(Dispersion parameter for binomial family taken to be 1)\n",
       "\n",
       "    Null deviance: 8.8999e+00  on 31  degrees of freedom\n",
       "Residual deviance: 1.4593e-09  on 26  degrees of freedom\n",
       "AIC: 12\n",
       "\n",
       "Number of Fisher Scoring iterations: 25\n"
      ]
     },
     "metadata": {},
     "output_type": "display_data"
    },
    {
     "name": "stderr",
     "output_type": "stream",
     "text": [
      "Warning message:\n",
      "\"glm.fit: fitted probabilities numerically 0 or 1 occurred\"Warning message:\n",
      "\"glm.fit: fitted probabilities numerically 0 or 1 occurred\""
     ]
    },
    {
     "data": {
      "text/html": [
       "<table>\n",
       "<thead><tr><th></th><th scope=col>Df</th><th scope=col>Deviance</th><th scope=col>Resid. Df</th><th scope=col>Resid. Dev</th><th scope=col>Pr(&gt;Chi)</th></tr></thead>\n",
       "<tbody>\n",
       "\t<tr><th scope=row>NULL</th><td>NA          </td><td>       NA   </td><td>31          </td><td>8.899891e+00</td><td>        NA  </td></tr>\n",
       "\t<tr><th scope=row>definition</th><td> 1          </td><td>0.8592396   </td><td>30          </td><td>8.040651e+00</td><td>0.35395156  </td></tr>\n",
       "\t<tr><th scope=row>need</th><td> 1          </td><td>0.4342369   </td><td>29          </td><td>7.606415e+00</td><td>0.50991728  </td></tr>\n",
       "\t<tr><th scope=row>purpose</th><td> 2          </td><td>3.1077334   </td><td>27          </td><td>4.498681e+00</td><td>0.21142886  </td></tr>\n",
       "\t<tr><th scope=row>interest</th><td> 1          </td><td>4.4986812   </td><td>26          </td><td>1.459300e-09</td><td>0.03392101  </td></tr>\n",
       "</tbody>\n",
       "</table>\n"
      ],
      "text/latex": [
       "\\begin{tabular}{r|lllll}\n",
       "  & Df & Deviance & Resid. Df & Resid. Dev & Pr(>Chi)\\\\\n",
       "\\hline\n",
       "\tNULL & NA           &        NA    & 31           & 8.899891e+00 &         NA  \\\\\n",
       "\tdefinition &  1           & 0.8592396    & 30           & 8.040651e+00 & 0.35395156  \\\\\n",
       "\tneed &  1           & 0.4342369    & 29           & 7.606415e+00 & 0.50991728  \\\\\n",
       "\tpurpose &  2           & 3.1077334    & 27           & 4.498681e+00 & 0.21142886  \\\\\n",
       "\tinterest &  1           & 4.4986812    & 26           & 1.459300e-09 & 0.03392101  \\\\\n",
       "\\end{tabular}\n"
      ],
      "text/markdown": [
       "\n",
       "| <!--/--> | Df | Deviance | Resid. Df | Resid. Dev | Pr(>Chi) |\n",
       "|---|---|---|---|---|---|\n",
       "| NULL | NA           |        NA    | 31           | 8.899891e+00 |         NA   |\n",
       "| definition |  1           | 0.8592396    | 30           | 8.040651e+00 | 0.35395156   |\n",
       "| need |  1           | 0.4342369    | 29           | 7.606415e+00 | 0.50991728   |\n",
       "| purpose |  2           | 3.1077334    | 27           | 4.498681e+00 | 0.21142886   |\n",
       "| interest |  1           | 4.4986812    | 26           | 1.459300e-09 | 0.03392101   |\n",
       "\n"
      ],
      "text/plain": [
       "           Df Deviance  Resid. Df Resid. Dev   Pr(>Chi)  \n",
       "NULL       NA        NA 31        8.899891e+00         NA\n",
       "definition  1 0.8592396 30        8.040651e+00 0.35395156\n",
       "need        1 0.4342369 29        7.606415e+00 0.50991728\n",
       "purpose     2 3.1077334 27        4.498681e+00 0.21142886\n",
       "interest    1 4.4986812 26        1.459300e-09 0.03392101"
      ]
     },
     "metadata": {},
     "output_type": "display_data"
    }
   ],
   "source": [
    "model <- glm(t2_2 ~ definition + need + purpose \n",
    "              + interest, data =survey2, family = binomial)\n",
    "summary(model)\n",
    "\n",
    "\n",
    "anova(model, test=\"Chisq\")"
   ]
  },
  {
   "cell_type": "code",
   "execution_count": 21,
   "metadata": {},
   "outputs": [
    {
     "data": {
      "text/plain": [
       "\n",
       "Call:\n",
       "glm(formula = t2_3 ~ definition + need + purpose + interest, \n",
       "    family = binomial, data = survey2)\n",
       "\n",
       "Deviance Residuals: \n",
       "    Min       1Q   Median       3Q      Max  \n",
       "-1.2336  -0.9260  -0.7285   1.3960   1.6610  \n",
       "\n",
       "Coefficients:\n",
       "                  Estimate Std. Error z value Pr(>|z|)\n",
       "(Intercept)       -1.01090    1.75600  -0.576    0.565\n",
       "definitionharmony -0.78229    1.12521  -0.695    0.487\n",
       "needharmony        0.43911    1.04471   0.420    0.674\n",
       "purposecosmetic    0.63057    1.09321   0.577    0.564\n",
       "purposeetc         0.80758    1.06700   0.757    0.449\n",
       "interest          -0.02617    0.44012  -0.059    0.953\n",
       "\n",
       "(Dispersion parameter for binomial family taken to be 1)\n",
       "\n",
       "    Null deviance: 39.750  on 31  degrees of freedom\n",
       "Residual deviance: 38.711  on 26  degrees of freedom\n",
       "AIC: 50.711\n",
       "\n",
       "Number of Fisher Scoring iterations: 4\n"
      ]
     },
     "metadata": {},
     "output_type": "display_data"
    },
    {
     "data": {
      "text/html": [
       "<table>\n",
       "<thead><tr><th></th><th scope=col>Df</th><th scope=col>Deviance</th><th scope=col>Resid. Df</th><th scope=col>Resid. Dev</th><th scope=col>Pr(&gt;Chi)</th></tr></thead>\n",
       "<tbody>\n",
       "\t<tr><th scope=row>NULL</th><td>NA         </td><td>         NA</td><td>31         </td><td>39.74953   </td><td>       NA  </td></tr>\n",
       "\t<tr><th scope=row>definition</th><td> 1         </td><td>0.201606225</td><td>30         </td><td>39.54792   </td><td>0.6534275  </td></tr>\n",
       "\t<tr><th scope=row>need</th><td> 1         </td><td>0.169083785</td><td>29         </td><td>39.37884   </td><td>0.6809274  </td></tr>\n",
       "\t<tr><th scope=row>purpose</th><td> 2         </td><td>0.663978719</td><td>27         </td><td>38.71486   </td><td>0.7174950  </td></tr>\n",
       "\t<tr><th scope=row>interest</th><td> 1         </td><td>0.003535818</td><td>26         </td><td>38.71132   </td><td>0.9525835  </td></tr>\n",
       "</tbody>\n",
       "</table>\n"
      ],
      "text/latex": [
       "\\begin{tabular}{r|lllll}\n",
       "  & Df & Deviance & Resid. Df & Resid. Dev & Pr(>Chi)\\\\\n",
       "\\hline\n",
       "\tNULL & NA          &          NA & 31          & 39.74953    &        NA  \\\\\n",
       "\tdefinition &  1          & 0.201606225 & 30          & 39.54792    & 0.6534275  \\\\\n",
       "\tneed &  1          & 0.169083785 & 29          & 39.37884    & 0.6809274  \\\\\n",
       "\tpurpose &  2          & 0.663978719 & 27          & 38.71486    & 0.7174950  \\\\\n",
       "\tinterest &  1          & 0.003535818 & 26          & 38.71132    & 0.9525835  \\\\\n",
       "\\end{tabular}\n"
      ],
      "text/markdown": [
       "\n",
       "| <!--/--> | Df | Deviance | Resid. Df | Resid. Dev | Pr(>Chi) |\n",
       "|---|---|---|---|---|---|\n",
       "| NULL | NA          |          NA | 31          | 39.74953    |        NA   |\n",
       "| definition |  1          | 0.201606225 | 30          | 39.54792    | 0.6534275   |\n",
       "| need |  1          | 0.169083785 | 29          | 39.37884    | 0.6809274   |\n",
       "| purpose |  2          | 0.663978719 | 27          | 38.71486    | 0.7174950   |\n",
       "| interest |  1          | 0.003535818 | 26          | 38.71132    | 0.9525835   |\n",
       "\n"
      ],
      "text/plain": [
       "           Df Deviance    Resid. Df Resid. Dev Pr(>Chi) \n",
       "NULL       NA          NA 31        39.74953          NA\n",
       "definition  1 0.201606225 30        39.54792   0.6534275\n",
       "need        1 0.169083785 29        39.37884   0.6809274\n",
       "purpose     2 0.663978719 27        38.71486   0.7174950\n",
       "interest    1 0.003535818 26        38.71132   0.9525835"
      ]
     },
     "metadata": {},
     "output_type": "display_data"
    }
   ],
   "source": [
    "model <- glm(t2_3 ~ definition + need + purpose \n",
    "              + interest, data =survey2, family = binomial)\n",
    "summary(model)\n",
    "\n",
    "\n",
    "anova(model, test=\"Chisq\")"
   ]
  },
  {
   "cell_type": "code",
   "execution_count": 22,
   "metadata": {},
   "outputs": [
    {
     "data": {
      "text/plain": [
       "\n",
       "Call:\n",
       "glm(formula = t2_4 ~ definition + need + purpose + interest, \n",
       "    family = binomial, data = survey2)\n",
       "\n",
       "Deviance Residuals: \n",
       "    Min       1Q   Median       3Q      Max  \n",
       "-1.3200  -1.0301  -0.8336   1.1264   1.8759  \n",
       "\n",
       "Coefficients:\n",
       "                  Estimate Std. Error z value Pr(>|z|)\n",
       "(Intercept)        -0.4532     1.6483  -0.275    0.783\n",
       "definitionharmony   0.9529     1.1188   0.852    0.394\n",
       "needharmony        -1.1098     0.9984  -1.112    0.266\n",
       "purposecosmetic    -0.6485     0.9927  -0.653    0.514\n",
       "purposeetc         -1.0507     0.9883  -1.063    0.288\n",
       "interest            0.2608     0.4200   0.621    0.535\n",
       "\n",
       "(Dispersion parameter for binomial family taken to be 1)\n",
       "\n",
       "    Null deviance: 43.860  on 31  degrees of freedom\n",
       "Residual deviance: 41.375  on 26  degrees of freedom\n",
       "AIC: 53.375\n",
       "\n",
       "Number of Fisher Scoring iterations: 4\n"
      ]
     },
     "metadata": {},
     "output_type": "display_data"
    },
    {
     "data": {
      "text/html": [
       "<table>\n",
       "<thead><tr><th></th><th scope=col>Df</th><th scope=col>Deviance</th><th scope=col>Resid. Df</th><th scope=col>Resid. Dev</th><th scope=col>Pr(&gt;Chi)</th></tr></thead>\n",
       "<tbody>\n",
       "\t<tr><th scope=row>NULL</th><td>NA        </td><td>        NA</td><td>31        </td><td>43.86011  </td><td>       NA </td></tr>\n",
       "\t<tr><th scope=row>definition</th><td> 1        </td><td>0.01976562</td><td>30        </td><td>43.84034  </td><td>0.8881936 </td></tr>\n",
       "\t<tr><th scope=row>need</th><td> 1        </td><td>1.20224211</td><td>29        </td><td>42.63810  </td><td>0.2728740 </td></tr>\n",
       "\t<tr><th scope=row>purpose</th><td> 2        </td><td>0.87372299</td><td>27        </td><td>41.76438  </td><td>0.6460609 </td></tr>\n",
       "\t<tr><th scope=row>interest</th><td> 1        </td><td>0.38967011</td><td>26        </td><td>41.37471  </td><td>0.5324729 </td></tr>\n",
       "</tbody>\n",
       "</table>\n"
      ],
      "text/latex": [
       "\\begin{tabular}{r|lllll}\n",
       "  & Df & Deviance & Resid. Df & Resid. Dev & Pr(>Chi)\\\\\n",
       "\\hline\n",
       "\tNULL & NA         &         NA & 31         & 43.86011   &        NA \\\\\n",
       "\tdefinition &  1         & 0.01976562 & 30         & 43.84034   & 0.8881936 \\\\\n",
       "\tneed &  1         & 1.20224211 & 29         & 42.63810   & 0.2728740 \\\\\n",
       "\tpurpose &  2         & 0.87372299 & 27         & 41.76438   & 0.6460609 \\\\\n",
       "\tinterest &  1         & 0.38967011 & 26         & 41.37471   & 0.5324729 \\\\\n",
       "\\end{tabular}\n"
      ],
      "text/markdown": [
       "\n",
       "| <!--/--> | Df | Deviance | Resid. Df | Resid. Dev | Pr(>Chi) |\n",
       "|---|---|---|---|---|---|\n",
       "| NULL | NA         |         NA | 31         | 43.86011   |        NA  |\n",
       "| definition |  1         | 0.01976562 | 30         | 43.84034   | 0.8881936  |\n",
       "| need |  1         | 1.20224211 | 29         | 42.63810   | 0.2728740  |\n",
       "| purpose |  2         | 0.87372299 | 27         | 41.76438   | 0.6460609  |\n",
       "| interest |  1         | 0.38967011 | 26         | 41.37471   | 0.5324729  |\n",
       "\n"
      ],
      "text/plain": [
       "           Df Deviance   Resid. Df Resid. Dev Pr(>Chi) \n",
       "NULL       NA         NA 31        43.86011          NA\n",
       "definition  1 0.01976562 30        43.84034   0.8881936\n",
       "need        1 1.20224211 29        42.63810   0.2728740\n",
       "purpose     2 0.87372299 27        41.76438   0.6460609\n",
       "interest    1 0.38967011 26        41.37471   0.5324729"
      ]
     },
     "metadata": {},
     "output_type": "display_data"
    }
   ],
   "source": [
    "model <- glm(t2_4 ~ definition + need + purpose \n",
    "              + interest, data =survey2, family = binomial)\n",
    "summary(model)\n",
    "\n",
    "\n",
    "anova(model, test=\"Chisq\")"
   ]
  },
  {
   "cell_type": "code",
   "execution_count": 23,
   "metadata": {},
   "outputs": [
    {
     "data": {
      "text/plain": [
       "\n",
       "Call:\n",
       "glm(formula = t2_5 ~ definition + need + purpose + interest, \n",
       "    family = binomial, data = survey2)\n",
       "\n",
       "Deviance Residuals: \n",
       "    Min       1Q   Median       3Q      Max  \n",
       "-0.8966  -0.6762  -0.5516  -0.3697   2.1357  \n",
       "\n",
       "Coefficients:\n",
       "                  Estimate Std. Error z value Pr(>|z|)\n",
       "(Intercept)        -1.0956     2.0738  -0.528    0.597\n",
       "definitionharmony  -0.7188     1.3342  -0.539    0.590\n",
       "needharmony         0.7446     1.2713   0.586    0.558\n",
       "purposecosmetic     1.0620     1.3958   0.761    0.447\n",
       "purposeetc          1.1013     1.3710   0.803    0.422\n",
       "interest           -0.3677     0.5476  -0.671    0.502\n",
       "\n",
       "(Dispersion parameter for binomial family taken to be 1)\n",
       "\n",
       "    Null deviance: 30.885  on 31  degrees of freedom\n",
       "Residual deviance: 29.624  on 26  degrees of freedom\n",
       "AIC: 41.624\n",
       "\n",
       "Number of Fisher Scoring iterations: 4\n"
      ]
     },
     "metadata": {},
     "output_type": "display_data"
    },
    {
     "data": {
      "text/html": [
       "<table>\n",
       "<thead><tr><th></th><th scope=col>Df</th><th scope=col>Deviance</th><th scope=col>Resid. Df</th><th scope=col>Resid. Dev</th><th scope=col>Pr(&gt;Chi)</th></tr></thead>\n",
       "<tbody>\n",
       "\t<tr><th scope=row>NULL</th><td>NA         </td><td>         NA</td><td>31         </td><td>30.88496   </td><td>       NA  </td></tr>\n",
       "\t<tr><th scope=row>definition</th><td> 1         </td><td>0.003565487</td><td>30         </td><td>30.88140   </td><td>0.9523853  </td></tr>\n",
       "\t<tr><th scope=row>need</th><td> 1         </td><td>0.219310930</td><td>29         </td><td>30.66209   </td><td>0.6395655  </td></tr>\n",
       "\t<tr><th scope=row>purpose</th><td> 2         </td><td>0.571819317</td><td>27         </td><td>30.09027   </td><td>0.7513305  </td></tr>\n",
       "\t<tr><th scope=row>interest</th><td> 1         </td><td>0.465840069</td><td>26         </td><td>29.62443   </td><td>0.4949072  </td></tr>\n",
       "</tbody>\n",
       "</table>\n"
      ],
      "text/latex": [
       "\\begin{tabular}{r|lllll}\n",
       "  & Df & Deviance & Resid. Df & Resid. Dev & Pr(>Chi)\\\\\n",
       "\\hline\n",
       "\tNULL & NA          &          NA & 31          & 30.88496    &        NA  \\\\\n",
       "\tdefinition &  1          & 0.003565487 & 30          & 30.88140    & 0.9523853  \\\\\n",
       "\tneed &  1          & 0.219310930 & 29          & 30.66209    & 0.6395655  \\\\\n",
       "\tpurpose &  2          & 0.571819317 & 27          & 30.09027    & 0.7513305  \\\\\n",
       "\tinterest &  1          & 0.465840069 & 26          & 29.62443    & 0.4949072  \\\\\n",
       "\\end{tabular}\n"
      ],
      "text/markdown": [
       "\n",
       "| <!--/--> | Df | Deviance | Resid. Df | Resid. Dev | Pr(>Chi) |\n",
       "|---|---|---|---|---|---|\n",
       "| NULL | NA          |          NA | 31          | 30.88496    |        NA   |\n",
       "| definition |  1          | 0.003565487 | 30          | 30.88140    | 0.9523853   |\n",
       "| need |  1          | 0.219310930 | 29          | 30.66209    | 0.6395655   |\n",
       "| purpose |  2          | 0.571819317 | 27          | 30.09027    | 0.7513305   |\n",
       "| interest |  1          | 0.465840069 | 26          | 29.62443    | 0.4949072   |\n",
       "\n"
      ],
      "text/plain": [
       "           Df Deviance    Resid. Df Resid. Dev Pr(>Chi) \n",
       "NULL       NA          NA 31        30.88496          NA\n",
       "definition  1 0.003565487 30        30.88140   0.9523853\n",
       "need        1 0.219310930 29        30.66209   0.6395655\n",
       "purpose     2 0.571819317 27        30.09027   0.7513305\n",
       "interest    1 0.465840069 26        29.62443   0.4949072"
      ]
     },
     "metadata": {},
     "output_type": "display_data"
    }
   ],
   "source": [
    "model <- glm(t2_5 ~ definition + need + purpose \n",
    "              + interest, data =survey2, family = binomial)\n",
    "summary(model)\n",
    "\n",
    "\n",
    "anova(model, test=\"Chisq\")"
   ]
  },
  {
   "cell_type": "code",
   "execution_count": 24,
   "metadata": {},
   "outputs": [
    {
     "data": {
      "text/plain": [
       "\n",
       "Call:\n",
       "glm(formula = d1_1 ~ definition + need + purpose + interest, \n",
       "    family = binomial, data = survey2)\n",
       "\n",
       "Deviance Residuals: \n",
       "     Min        1Q    Median        3Q       Max  \n",
       "-1.09422  -0.55742  -0.00006  -0.00003   1.95285  \n",
       "\n",
       "Coefficients:\n",
       "                    Estimate Std. Error z value Pr(>|z|)\n",
       "(Intercept)          0.92487    2.71044   0.341    0.733\n",
       "definitionharmony   -0.04922    1.84151  -0.027    0.979\n",
       "needharmony          1.16908    1.90086   0.615    0.539\n",
       "purposecosmetic      0.69449    1.40655   0.494    0.621\n",
       "purposeetc         -18.73060 4405.08914  -0.004    0.997\n",
       "interest            -1.12179    0.90820  -1.235    0.217\n",
       "\n",
       "(Dispersion parameter for binomial family taken to be 1)\n",
       "\n",
       "    Null deviance: 24.113  on 31  degrees of freedom\n",
       "Residual deviance: 15.830  on 26  degrees of freedom\n",
       "AIC: 27.83\n",
       "\n",
       "Number of Fisher Scoring iterations: 19\n"
      ]
     },
     "metadata": {},
     "output_type": "display_data"
    },
    {
     "data": {
      "text/html": [
       "<table>\n",
       "<thead><tr><th></th><th scope=col>Df</th><th scope=col>Deviance</th><th scope=col>Resid. Df</th><th scope=col>Resid. Dev</th><th scope=col>Pr(&gt;Chi)</th></tr></thead>\n",
       "<tbody>\n",
       "\t<tr><th scope=row>NULL</th><td>NA        </td><td>       NA </td><td>31        </td><td>24.11329  </td><td>        NA</td></tr>\n",
       "\t<tr><th scope=row>definition</th><td> 1        </td><td>0.1864108 </td><td>30        </td><td>23.92688  </td><td>0.66592081</td></tr>\n",
       "\t<tr><th scope=row>need</th><td> 1        </td><td>0.3019385 </td><td>29        </td><td>23.62494  </td><td>0.58266973</td></tr>\n",
       "\t<tr><th scope=row>purpose</th><td> 2        </td><td>5.9341577 </td><td>27        </td><td>17.69078  </td><td>0.05145339</td></tr>\n",
       "\t<tr><th scope=row>interest</th><td> 1        </td><td>1.8610090 </td><td>26        </td><td>15.82977  </td><td>0.17250839</td></tr>\n",
       "</tbody>\n",
       "</table>\n"
      ],
      "text/latex": [
       "\\begin{tabular}{r|lllll}\n",
       "  & Df & Deviance & Resid. Df & Resid. Dev & Pr(>Chi)\\\\\n",
       "\\hline\n",
       "\tNULL & NA         &        NA  & 31         & 24.11329   &         NA\\\\\n",
       "\tdefinition &  1         & 0.1864108  & 30         & 23.92688   & 0.66592081\\\\\n",
       "\tneed &  1         & 0.3019385  & 29         & 23.62494   & 0.58266973\\\\\n",
       "\tpurpose &  2         & 5.9341577  & 27         & 17.69078   & 0.05145339\\\\\n",
       "\tinterest &  1         & 1.8610090  & 26         & 15.82977   & 0.17250839\\\\\n",
       "\\end{tabular}\n"
      ],
      "text/markdown": [
       "\n",
       "| <!--/--> | Df | Deviance | Resid. Df | Resid. Dev | Pr(>Chi) |\n",
       "|---|---|---|---|---|---|\n",
       "| NULL | NA         |        NA  | 31         | 24.11329   |         NA |\n",
       "| definition |  1         | 0.1864108  | 30         | 23.92688   | 0.66592081 |\n",
       "| need |  1         | 0.3019385  | 29         | 23.62494   | 0.58266973 |\n",
       "| purpose |  2         | 5.9341577  | 27         | 17.69078   | 0.05145339 |\n",
       "| interest |  1         | 1.8610090  | 26         | 15.82977   | 0.17250839 |\n",
       "\n"
      ],
      "text/plain": [
       "           Df Deviance  Resid. Df Resid. Dev Pr(>Chi)  \n",
       "NULL       NA        NA 31        24.11329           NA\n",
       "definition  1 0.1864108 30        23.92688   0.66592081\n",
       "need        1 0.3019385 29        23.62494   0.58266973\n",
       "purpose     2 5.9341577 27        17.69078   0.05145339\n",
       "interest    1 1.8610090 26        15.82977   0.17250839"
      ]
     },
     "metadata": {},
     "output_type": "display_data"
    }
   ],
   "source": [
    "model <- glm(d1_1 ~ definition + need + purpose \n",
    "              + interest, data =survey2, family = binomial)\n",
    "summary(model)\n",
    "\n",
    "\n",
    "anova(model, test=\"Chisq\")"
   ]
  },
  {
   "cell_type": "code",
   "execution_count": 25,
   "metadata": {},
   "outputs": [
    {
     "data": {
      "text/plain": [
       "\n",
       "Call:\n",
       "glm(formula = d1_2 ~ definition + need + purpose + interest, \n",
       "    family = binomial, data = survey2)\n",
       "\n",
       "Deviance Residuals: \n",
       "    Min       1Q   Median       3Q      Max  \n",
       "-1.4078  -0.9787  -0.7472   1.1673   1.6547  \n",
       "\n",
       "Coefficients:\n",
       "                  Estimate Std. Error z value Pr(>|z|)\n",
       "(Intercept)        0.80199    1.70651   0.470    0.638\n",
       "definitionharmony -0.09859    1.06516  -0.093    0.926\n",
       "needharmony       -0.56424    0.96331  -0.586    0.558\n",
       "purposecosmetic   -0.98610    0.99977  -0.986    0.324\n",
       "purposeetc        -1.00841    0.97024  -1.039    0.299\n",
       "interest          -0.06878    0.43203  -0.159    0.874\n",
       "\n",
       "(Dispersion parameter for binomial family taken to be 1)\n",
       "\n",
       "    Null deviance: 42.340  on 31  degrees of freedom\n",
       "Residual deviance: 39.974  on 26  degrees of freedom\n",
       "AIC: 51.974\n",
       "\n",
       "Number of Fisher Scoring iterations: 4\n"
      ]
     },
     "metadata": {},
     "output_type": "display_data"
    },
    {
     "data": {
      "text/html": [
       "<table>\n",
       "<thead><tr><th></th><th scope=col>Df</th><th scope=col>Deviance</th><th scope=col>Resid. Df</th><th scope=col>Resid. Dev</th><th scope=col>Pr(&gt;Chi)</th></tr></thead>\n",
       "<tbody>\n",
       "\t<tr><th scope=row>NULL</th><td>NA        </td><td>        NA</td><td>31        </td><td>42.34005  </td><td>       NA </td></tr>\n",
       "\t<tr><th scope=row>definition</th><td> 1        </td><td>0.44824893</td><td>30        </td><td>41.89180  </td><td>0.5031677 </td></tr>\n",
       "\t<tr><th scope=row>need</th><td> 1        </td><td>0.29071013</td><td>29        </td><td>41.60109  </td><td>0.5897658 </td></tr>\n",
       "\t<tr><th scope=row>purpose</th><td> 2        </td><td>1.60218921</td><td>27        </td><td>39.99890  </td><td>0.4488374 </td></tr>\n",
       "\t<tr><th scope=row>interest</th><td> 1        </td><td>0.02538979</td><td>26        </td><td>39.97351  </td><td>0.8733996 </td></tr>\n",
       "</tbody>\n",
       "</table>\n"
      ],
      "text/latex": [
       "\\begin{tabular}{r|lllll}\n",
       "  & Df & Deviance & Resid. Df & Resid. Dev & Pr(>Chi)\\\\\n",
       "\\hline\n",
       "\tNULL & NA         &         NA & 31         & 42.34005   &        NA \\\\\n",
       "\tdefinition &  1         & 0.44824893 & 30         & 41.89180   & 0.5031677 \\\\\n",
       "\tneed &  1         & 0.29071013 & 29         & 41.60109   & 0.5897658 \\\\\n",
       "\tpurpose &  2         & 1.60218921 & 27         & 39.99890   & 0.4488374 \\\\\n",
       "\tinterest &  1         & 0.02538979 & 26         & 39.97351   & 0.8733996 \\\\\n",
       "\\end{tabular}\n"
      ],
      "text/markdown": [
       "\n",
       "| <!--/--> | Df | Deviance | Resid. Df | Resid. Dev | Pr(>Chi) |\n",
       "|---|---|---|---|---|---|\n",
       "| NULL | NA         |         NA | 31         | 42.34005   |        NA  |\n",
       "| definition |  1         | 0.44824893 | 30         | 41.89180   | 0.5031677  |\n",
       "| need |  1         | 0.29071013 | 29         | 41.60109   | 0.5897658  |\n",
       "| purpose |  2         | 1.60218921 | 27         | 39.99890   | 0.4488374  |\n",
       "| interest |  1         | 0.02538979 | 26         | 39.97351   | 0.8733996  |\n",
       "\n"
      ],
      "text/plain": [
       "           Df Deviance   Resid. Df Resid. Dev Pr(>Chi) \n",
       "NULL       NA         NA 31        42.34005          NA\n",
       "definition  1 0.44824893 30        41.89180   0.5031677\n",
       "need        1 0.29071013 29        41.60109   0.5897658\n",
       "purpose     2 1.60218921 27        39.99890   0.4488374\n",
       "interest    1 0.02538979 26        39.97351   0.8733996"
      ]
     },
     "metadata": {},
     "output_type": "display_data"
    }
   ],
   "source": [
    "model <- glm(d1_2 ~ definition + need + purpose \n",
    "              + interest, data =survey2, family = binomial)\n",
    "summary(model)\n",
    "\n",
    "\n",
    "anova(model, test=\"Chisq\")"
   ]
  },
  {
   "cell_type": "code",
   "execution_count": 26,
   "metadata": {},
   "outputs": [
    {
     "data": {
      "text/plain": [
       "\n",
       "Call:\n",
       "glm(formula = d1_3 ~ definition + need + purpose + interest, \n",
       "    family = binomial, data = survey2)\n",
       "\n",
       "Deviance Residuals: \n",
       "     Min        1Q    Median        3Q       Max  \n",
       "-0.93057  -0.61989  -0.00006  -0.00004   1.85173  \n",
       "\n",
       "Coefficients:\n",
       "                    Estimate Std. Error z value Pr(>|z|)\n",
       "(Intercept)        -20.03868 5845.01869  -0.003    0.997\n",
       "definitionharmony   -0.90315    1.89442  -0.477    0.634\n",
       "needharmony          0.09857    1.64239   0.060    0.952\n",
       "purposecosmetic      0.01652 8264.00222   0.000    1.000\n",
       "purposeetc          19.51043 5845.01811   0.003    0.997\n",
       "interest            -0.04577    0.78578  -0.058    0.954\n",
       "\n",
       "(Dispersion parameter for binomial family taken to be 1)\n",
       "\n",
       "    Null deviance: 19.912  on 31  degrees of freedom\n",
       "Residual deviance: 14.244  on 26  degrees of freedom\n",
       "AIC: 26.244\n",
       "\n",
       "Number of Fisher Scoring iterations: 19\n"
      ]
     },
     "metadata": {},
     "output_type": "display_data"
    },
    {
     "data": {
      "text/html": [
       "<table>\n",
       "<thead><tr><th></th><th scope=col>Df</th><th scope=col>Deviance</th><th scope=col>Resid. Df</th><th scope=col>Resid. Dev</th><th scope=col>Pr(&gt;Chi)</th></tr></thead>\n",
       "<tbody>\n",
       "\t<tr><th scope=row>NULL</th><td>NA         </td><td>         NA</td><td>31         </td><td>19.91227   </td><td>        NA </td></tr>\n",
       "\t<tr><th scope=row>definition</th><td> 1         </td><td>0.001599312</td><td>30         </td><td>19.91067   </td><td>0.96809998 </td></tr>\n",
       "\t<tr><th scope=row>need</th><td> 1         </td><td>0.098516347</td><td>29         </td><td>19.81215   </td><td>0.75361739 </td></tr>\n",
       "\t<tr><th scope=row>purpose</th><td> 2         </td><td>5.564358406</td><td>27         </td><td>14.24779   </td><td>0.06190346 </td></tr>\n",
       "\t<tr><th scope=row>interest</th><td> 1         </td><td>0.003405713</td><td>26         </td><td>14.24439   </td><td>0.95346308 </td></tr>\n",
       "</tbody>\n",
       "</table>\n"
      ],
      "text/latex": [
       "\\begin{tabular}{r|lllll}\n",
       "  & Df & Deviance & Resid. Df & Resid. Dev & Pr(>Chi)\\\\\n",
       "\\hline\n",
       "\tNULL & NA          &          NA & 31          & 19.91227    &         NA \\\\\n",
       "\tdefinition &  1          & 0.001599312 & 30          & 19.91067    & 0.96809998 \\\\\n",
       "\tneed &  1          & 0.098516347 & 29          & 19.81215    & 0.75361739 \\\\\n",
       "\tpurpose &  2          & 5.564358406 & 27          & 14.24779    & 0.06190346 \\\\\n",
       "\tinterest &  1          & 0.003405713 & 26          & 14.24439    & 0.95346308 \\\\\n",
       "\\end{tabular}\n"
      ],
      "text/markdown": [
       "\n",
       "| <!--/--> | Df | Deviance | Resid. Df | Resid. Dev | Pr(>Chi) |\n",
       "|---|---|---|---|---|---|\n",
       "| NULL | NA          |          NA | 31          | 19.91227    |         NA  |\n",
       "| definition |  1          | 0.001599312 | 30          | 19.91067    | 0.96809998  |\n",
       "| need |  1          | 0.098516347 | 29          | 19.81215    | 0.75361739  |\n",
       "| purpose |  2          | 5.564358406 | 27          | 14.24779    | 0.06190346  |\n",
       "| interest |  1          | 0.003405713 | 26          | 14.24439    | 0.95346308  |\n",
       "\n"
      ],
      "text/plain": [
       "           Df Deviance    Resid. Df Resid. Dev Pr(>Chi)  \n",
       "NULL       NA          NA 31        19.91227           NA\n",
       "definition  1 0.001599312 30        19.91067   0.96809998\n",
       "need        1 0.098516347 29        19.81215   0.75361739\n",
       "purpose     2 5.564358406 27        14.24779   0.06190346\n",
       "interest    1 0.003405713 26        14.24439   0.95346308"
      ]
     },
     "metadata": {},
     "output_type": "display_data"
    }
   ],
   "source": [
    "model <- glm(d1_3 ~ definition + need + purpose \n",
    "              + interest, data =survey2, family = binomial)\n",
    "summary(model)\n",
    "\n",
    "\n",
    "anova(model, test=\"Chisq\")"
   ]
  },
  {
   "cell_type": "code",
   "execution_count": 27,
   "metadata": {},
   "outputs": [
    {
     "data": {
      "text/plain": [
       "\n",
       "Call:\n",
       "glm(formula = d1_5 ~ definition + need + purpose + interest, \n",
       "    family = binomial, data = survey2)\n",
       "\n",
       "Deviance Residuals: \n",
       "    Min       1Q   Median       3Q      Max  \n",
       "-1.3405  -0.6952  -0.4869  -0.2415   1.8913  \n",
       "\n",
       "Coefficients:\n",
       "                  Estimate Std. Error z value Pr(>|z|)  \n",
       "(Intercept)        -4.6093     2.5218  -1.828   0.0676 .\n",
       "definitionharmony   1.8275     1.5862   1.152   0.2493  \n",
       "needharmony        -0.3751     1.1946  -0.314   0.7535  \n",
       "purposecosmetic    -0.2312     1.5489  -0.149   0.8813  \n",
       "purposeetc          0.9469     1.2907   0.734   0.4632  \n",
       "interest            0.5171     0.5589   0.925   0.3548  \n",
       "---\n",
       "Signif. codes:  0 '***' 0.001 '**' 0.01 '*' 0.05 '.' 0.1 ' ' 1\n",
       "\n",
       "(Dispersion parameter for binomial family taken to be 1)\n",
       "\n",
       "    Null deviance: 33.621  on 31  degrees of freedom\n",
       "Residual deviance: 28.870  on 26  degrees of freedom\n",
       "AIC: 40.87\n",
       "\n",
       "Number of Fisher Scoring iterations: 5\n"
      ]
     },
     "metadata": {},
     "output_type": "display_data"
    },
    {
     "data": {
      "text/html": [
       "<table>\n",
       "<thead><tr><th></th><th scope=col>Df</th><th scope=col>Deviance</th><th scope=col>Resid. Df</th><th scope=col>Resid. Dev</th><th scope=col>Pr(&gt;Chi)</th></tr></thead>\n",
       "<tbody>\n",
       "\t<tr><th scope=row>NULL</th><td>NA       </td><td>       NA</td><td>31       </td><td>33.62056 </td><td>       NA</td></tr>\n",
       "\t<tr><th scope=row>definition</th><td> 1       </td><td>1.7912476</td><td>30       </td><td>31.82932 </td><td>0.1807742</td></tr>\n",
       "\t<tr><th scope=row>need</th><td> 1       </td><td>0.0019028</td><td>29       </td><td>31.82741 </td><td>0.9652064</td></tr>\n",
       "\t<tr><th scope=row>purpose</th><td> 2       </td><td>2.0519736</td><td>27       </td><td>29.77544 </td><td>0.3584426</td></tr>\n",
       "\t<tr><th scope=row>interest</th><td> 1       </td><td>0.9049427</td><td>26       </td><td>28.87050 </td><td>0.3414598</td></tr>\n",
       "</tbody>\n",
       "</table>\n"
      ],
      "text/latex": [
       "\\begin{tabular}{r|lllll}\n",
       "  & Df & Deviance & Resid. Df & Resid. Dev & Pr(>Chi)\\\\\n",
       "\\hline\n",
       "\tNULL & NA        &        NA & 31        & 33.62056  &        NA\\\\\n",
       "\tdefinition &  1        & 1.7912476 & 30        & 31.82932  & 0.1807742\\\\\n",
       "\tneed &  1        & 0.0019028 & 29        & 31.82741  & 0.9652064\\\\\n",
       "\tpurpose &  2        & 2.0519736 & 27        & 29.77544  & 0.3584426\\\\\n",
       "\tinterest &  1        & 0.9049427 & 26        & 28.87050  & 0.3414598\\\\\n",
       "\\end{tabular}\n"
      ],
      "text/markdown": [
       "\n",
       "| <!--/--> | Df | Deviance | Resid. Df | Resid. Dev | Pr(>Chi) |\n",
       "|---|---|---|---|---|---|\n",
       "| NULL | NA        |        NA | 31        | 33.62056  |        NA |\n",
       "| definition |  1        | 1.7912476 | 30        | 31.82932  | 0.1807742 |\n",
       "| need |  1        | 0.0019028 | 29        | 31.82741  | 0.9652064 |\n",
       "| purpose |  2        | 2.0519736 | 27        | 29.77544  | 0.3584426 |\n",
       "| interest |  1        | 0.9049427 | 26        | 28.87050  | 0.3414598 |\n",
       "\n"
      ],
      "text/plain": [
       "           Df Deviance  Resid. Df Resid. Dev Pr(>Chi) \n",
       "NULL       NA        NA 31        33.62056          NA\n",
       "definition  1 1.7912476 30        31.82932   0.1807742\n",
       "need        1 0.0019028 29        31.82741   0.9652064\n",
       "purpose     2 2.0519736 27        29.77544   0.3584426\n",
       "interest    1 0.9049427 26        28.87050   0.3414598"
      ]
     },
     "metadata": {},
     "output_type": "display_data"
    }
   ],
   "source": [
    "model <- glm(d1_5 ~ definition + need + purpose \n",
    "              + interest, data =survey2, family = binomial)\n",
    "summary(model)\n",
    "\n",
    "\n",
    "anova(model, test=\"Chisq\")"
   ]
  },
  {
   "cell_type": "code",
   "execution_count": 28,
   "metadata": {},
   "outputs": [
    {
     "name": "stderr",
     "output_type": "stream",
     "text": [
      "Warning message:\n",
      "\"glm.fit: fitted probabilities numerically 0 or 1 occurred\""
     ]
    },
    {
     "data": {
      "text/plain": [
       "\n",
       "Call:\n",
       "glm(formula = d2_1 ~ definition + need + purpose + interest, \n",
       "    family = binomial, data = survey2)\n",
       "\n",
       "Deviance Residuals: \n",
       "     Min        1Q    Median        3Q       Max  \n",
       "-0.90052  -0.00002   0.00000   0.00000   1.48230  \n",
       "\n",
       "Coefficients:\n",
       "                    Estimate Std. Error z value Pr(>|z|)\n",
       "(Intercept)       -6.931e-01  6.124e+00  -0.113    0.910\n",
       "definitionharmony -1.923e+01  1.285e+04  -0.001    0.999\n",
       "needharmony       -1.931e+01  1.335e+04  -0.001    0.999\n",
       "purposecosmetic   -2.177e+01  2.292e+04  -0.001    0.999\n",
       "purposeetc        -2.047e+01  1.689e+04  -0.001    0.999\n",
       "interest           1.747e-14  1.500e+00   0.000    1.000\n",
       "\n",
       "(Dispersion parameter for binomial family taken to be 1)\n",
       "\n",
       "    Null deviance: 8.8999  on 31  degrees of freedom\n",
       "Residual deviance: 3.8191  on 26  degrees of freedom\n",
       "AIC: 15.819\n",
       "\n",
       "Number of Fisher Scoring iterations: 22\n"
      ]
     },
     "metadata": {},
     "output_type": "display_data"
    },
    {
     "name": "stderr",
     "output_type": "stream",
     "text": [
      "Warning message:\n",
      "\"glm.fit: fitted probabilities numerically 0 or 1 occurred\"Warning message:\n",
      "\"glm.fit: fitted probabilities numerically 0 or 1 occurred\""
     ]
    },
    {
     "data": {
      "text/html": [
       "<table>\n",
       "<thead><tr><th></th><th scope=col>Df</th><th scope=col>Deviance</th><th scope=col>Resid. Df</th><th scope=col>Resid. Dev</th><th scope=col>Pr(&gt;Chi)</th></tr></thead>\n",
       "<tbody>\n",
       "\t<tr><th scope=row>NULL</th><td>NA       </td><td>       NA</td><td>31       </td><td>8.899891 </td><td>       NA</td></tr>\n",
       "\t<tr><th scope=row>definition</th><td> 1       </td><td>2.1978969</td><td>30       </td><td>6.701994 </td><td>0.1381992</td></tr>\n",
       "\t<tr><th scope=row>need</th><td> 1       </td><td>0.4230164</td><td>29       </td><td>6.278978 </td><td>0.5154357</td></tr>\n",
       "\t<tr><th scope=row>purpose</th><td> 2       </td><td>2.4598927</td><td>27       </td><td>3.819085 </td><td>0.2923083</td></tr>\n",
       "\t<tr><th scope=row>interest</th><td> 1       </td><td>0.0000000</td><td>26       </td><td>3.819085 </td><td>1.0000000</td></tr>\n",
       "</tbody>\n",
       "</table>\n"
      ],
      "text/latex": [
       "\\begin{tabular}{r|lllll}\n",
       "  & Df & Deviance & Resid. Df & Resid. Dev & Pr(>Chi)\\\\\n",
       "\\hline\n",
       "\tNULL & NA        &        NA & 31        & 8.899891  &        NA\\\\\n",
       "\tdefinition &  1        & 2.1978969 & 30        & 6.701994  & 0.1381992\\\\\n",
       "\tneed &  1        & 0.4230164 & 29        & 6.278978  & 0.5154357\\\\\n",
       "\tpurpose &  2        & 2.4598927 & 27        & 3.819085  & 0.2923083\\\\\n",
       "\tinterest &  1        & 0.0000000 & 26        & 3.819085  & 1.0000000\\\\\n",
       "\\end{tabular}\n"
      ],
      "text/markdown": [
       "\n",
       "| <!--/--> | Df | Deviance | Resid. Df | Resid. Dev | Pr(>Chi) |\n",
       "|---|---|---|---|---|---|\n",
       "| NULL | NA        |        NA | 31        | 8.899891  |        NA |\n",
       "| definition |  1        | 2.1978969 | 30        | 6.701994  | 0.1381992 |\n",
       "| need |  1        | 0.4230164 | 29        | 6.278978  | 0.5154357 |\n",
       "| purpose |  2        | 2.4598927 | 27        | 3.819085  | 0.2923083 |\n",
       "| interest |  1        | 0.0000000 | 26        | 3.819085  | 1.0000000 |\n",
       "\n"
      ],
      "text/plain": [
       "           Df Deviance  Resid. Df Resid. Dev Pr(>Chi) \n",
       "NULL       NA        NA 31        8.899891          NA\n",
       "definition  1 2.1978969 30        6.701994   0.1381992\n",
       "need        1 0.4230164 29        6.278978   0.5154357\n",
       "purpose     2 2.4598927 27        3.819085   0.2923083\n",
       "interest    1 0.0000000 26        3.819085   1.0000000"
      ]
     },
     "metadata": {},
     "output_type": "display_data"
    }
   ],
   "source": [
    "model <- glm(d2_1 ~ definition + need + purpose \n",
    "              + interest, data =survey2, family = binomial)\n",
    "summary(model)\n",
    "\n",
    "\n",
    "anova(model, test=\"Chisq\")"
   ]
  },
  {
   "cell_type": "code",
   "execution_count": 29,
   "metadata": {},
   "outputs": [
    {
     "data": {
      "text/plain": [
       "\n",
       "Call:\n",
       "glm(formula = d2_2 ~ definition + need + purpose + interest, \n",
       "    family = binomial, data = survey2)\n",
       "\n",
       "Deviance Residuals: \n",
       "    Min       1Q   Median       3Q      Max  \n",
       "-1.3317  -0.8040  -0.6011   0.8637   2.1232  \n",
       "\n",
       "Coefficients:\n",
       "                  Estimate Std. Error z value Pr(>|z|)  \n",
       "(Intercept)       -4.41483    2.06458  -2.138   0.0325 *\n",
       "definitionharmony  1.35599    1.17262   1.156   0.2475  \n",
       "needharmony       -0.05951    1.04556  -0.057   0.9546  \n",
       "purposecosmetic   -0.30150    1.06316  -0.284   0.7767  \n",
       "purposeetc        -1.36069    1.06536  -1.277   0.2015  \n",
       "interest           1.13820    0.52249   2.178   0.0294 *\n",
       "---\n",
       "Signif. codes:  0 '***' 0.001 '**' 0.01 '*' 0.05 '.' 0.1 ' ' 1\n",
       "\n",
       "(Dispersion parameter for binomial family taken to be 1)\n",
       "\n",
       "    Null deviance: 43.230  on 31  degrees of freedom\n",
       "Residual deviance: 36.711  on 26  degrees of freedom\n",
       "AIC: 48.711\n",
       "\n",
       "Number of Fisher Scoring iterations: 4\n"
      ]
     },
     "metadata": {},
     "output_type": "display_data"
    },
    {
     "data": {
      "text/html": [
       "<table>\n",
       "<thead><tr><th></th><th scope=col>Df</th><th scope=col>Deviance</th><th scope=col>Resid. Df</th><th scope=col>Resid. Dev</th><th scope=col>Pr(&gt;Chi)</th></tr></thead>\n",
       "<tbody>\n",
       "\t<tr><th scope=row>NULL</th><td>NA          </td><td>          NA</td><td>31          </td><td>43.22973    </td><td>        NA  </td></tr>\n",
       "\t<tr><th scope=row>definition</th><td> 1          </td><td>0.1269938536</td><td>30          </td><td>43.10274    </td><td>0.72156951  </td></tr>\n",
       "\t<tr><th scope=row>need</th><td> 1          </td><td>0.0001439494</td><td>29          </td><td>43.10260    </td><td>0.99042730  </td></tr>\n",
       "\t<tr><th scope=row>purpose</th><td> 2          </td><td>0.3668525397</td><td>27          </td><td>42.73574    </td><td>0.83241325  </td></tr>\n",
       "\t<tr><th scope=row>interest</th><td> 1          </td><td>6.0251845305</td><td>26          </td><td>36.71056    </td><td>0.01410316  </td></tr>\n",
       "</tbody>\n",
       "</table>\n"
      ],
      "text/latex": [
       "\\begin{tabular}{r|lllll}\n",
       "  & Df & Deviance & Resid. Df & Resid. Dev & Pr(>Chi)\\\\\n",
       "\\hline\n",
       "\tNULL & NA           &           NA & 31           & 43.22973     &         NA  \\\\\n",
       "\tdefinition &  1           & 0.1269938536 & 30           & 43.10274     & 0.72156951  \\\\\n",
       "\tneed &  1           & 0.0001439494 & 29           & 43.10260     & 0.99042730  \\\\\n",
       "\tpurpose &  2           & 0.3668525397 & 27           & 42.73574     & 0.83241325  \\\\\n",
       "\tinterest &  1           & 6.0251845305 & 26           & 36.71056     & 0.01410316  \\\\\n",
       "\\end{tabular}\n"
      ],
      "text/markdown": [
       "\n",
       "| <!--/--> | Df | Deviance | Resid. Df | Resid. Dev | Pr(>Chi) |\n",
       "|---|---|---|---|---|---|\n",
       "| NULL | NA           |           NA | 31           | 43.22973     |         NA   |\n",
       "| definition |  1           | 0.1269938536 | 30           | 43.10274     | 0.72156951   |\n",
       "| need |  1           | 0.0001439494 | 29           | 43.10260     | 0.99042730   |\n",
       "| purpose |  2           | 0.3668525397 | 27           | 42.73574     | 0.83241325   |\n",
       "| interest |  1           | 6.0251845305 | 26           | 36.71056     | 0.01410316   |\n",
       "\n"
      ],
      "text/plain": [
       "           Df Deviance     Resid. Df Resid. Dev Pr(>Chi)  \n",
       "NULL       NA           NA 31        43.22973           NA\n",
       "definition  1 0.1269938536 30        43.10274   0.72156951\n",
       "need        1 0.0001439494 29        43.10260   0.99042730\n",
       "purpose     2 0.3668525397 27        42.73574   0.83241325\n",
       "interest    1 6.0251845305 26        36.71056   0.01410316"
      ]
     },
     "metadata": {},
     "output_type": "display_data"
    }
   ],
   "source": [
    "model <- glm(d2_2 ~ definition + need + purpose \n",
    "              + interest, data =survey2, family = binomial)\n",
    "summary(model)\n",
    "\n",
    "\n",
    "anova(model, test=\"Chisq\")"
   ]
  },
  {
   "cell_type": "code",
   "execution_count": 30,
   "metadata": {},
   "outputs": [
    {
     "data": {
      "text/plain": [
       "\n",
       "Call:\n",
       "glm(formula = d2_3 ~ definition + need + purpose + interest, \n",
       "    family = binomial, data = survey2)\n",
       "\n",
       "Deviance Residuals: \n",
       "     Min        1Q    Median        3Q       Max  \n",
       "-1.25542  -0.50643  -0.10273  -0.00003   1.99032  \n",
       "\n",
       "Coefficients:\n",
       "                  Estimate Std. Error z value Pr(>|z|)\n",
       "(Intercept)        -16.383   2854.725  -0.006    0.995\n",
       "definitionharmony   -1.593      2.197  -0.725    0.468\n",
       "needharmony          2.843      2.429   1.170    0.242\n",
       "purposecosmetic     20.593   2854.725   0.007    0.994\n",
       "purposeetc          19.961   2854.725   0.007    0.994\n",
       "interest            -2.014      1.256  -1.603    0.109\n",
       "\n",
       "(Dispersion parameter for binomial family taken to be 1)\n",
       "\n",
       "    Null deviance: 24.113  on 31  degrees of freedom\n",
       "Residual deviance: 15.963  on 26  degrees of freedom\n",
       "AIC: 27.963\n",
       "\n",
       "Number of Fisher Scoring iterations: 18\n"
      ]
     },
     "metadata": {},
     "output_type": "display_data"
    },
    {
     "data": {
      "text/html": [
       "<table>\n",
       "<thead><tr><th></th><th scope=col>Df</th><th scope=col>Deviance</th><th scope=col>Resid. Df</th><th scope=col>Resid. Dev</th><th scope=col>Pr(&gt;Chi)</th></tr></thead>\n",
       "<tbody>\n",
       "\t<tr><th scope=row>NULL</th><td>NA        </td><td>       NA </td><td>31        </td><td>24.11329  </td><td>        NA</td></tr>\n",
       "\t<tr><th scope=row>definition</th><td> 1        </td><td>0.1864108 </td><td>30        </td><td>23.92688  </td><td>0.66592081</td></tr>\n",
       "\t<tr><th scope=row>need</th><td> 1        </td><td>0.3019385 </td><td>29        </td><td>23.62494  </td><td>0.58266973</td></tr>\n",
       "\t<tr><th scope=row>purpose</th><td> 2        </td><td>3.3176825 </td><td>27        </td><td>20.30726  </td><td>0.19035943</td></tr>\n",
       "\t<tr><th scope=row>interest</th><td> 1        </td><td>4.3444839 </td><td>26        </td><td>15.96277  </td><td>0.03712902</td></tr>\n",
       "</tbody>\n",
       "</table>\n"
      ],
      "text/latex": [
       "\\begin{tabular}{r|lllll}\n",
       "  & Df & Deviance & Resid. Df & Resid. Dev & Pr(>Chi)\\\\\n",
       "\\hline\n",
       "\tNULL & NA         &        NA  & 31         & 24.11329   &         NA\\\\\n",
       "\tdefinition &  1         & 0.1864108  & 30         & 23.92688   & 0.66592081\\\\\n",
       "\tneed &  1         & 0.3019385  & 29         & 23.62494   & 0.58266973\\\\\n",
       "\tpurpose &  2         & 3.3176825  & 27         & 20.30726   & 0.19035943\\\\\n",
       "\tinterest &  1         & 4.3444839  & 26         & 15.96277   & 0.03712902\\\\\n",
       "\\end{tabular}\n"
      ],
      "text/markdown": [
       "\n",
       "| <!--/--> | Df | Deviance | Resid. Df | Resid. Dev | Pr(>Chi) |\n",
       "|---|---|---|---|---|---|\n",
       "| NULL | NA         |        NA  | 31         | 24.11329   |         NA |\n",
       "| definition |  1         | 0.1864108  | 30         | 23.92688   | 0.66592081 |\n",
       "| need |  1         | 0.3019385  | 29         | 23.62494   | 0.58266973 |\n",
       "| purpose |  2         | 3.3176825  | 27         | 20.30726   | 0.19035943 |\n",
       "| interest |  1         | 4.3444839  | 26         | 15.96277   | 0.03712902 |\n",
       "\n"
      ],
      "text/plain": [
       "           Df Deviance  Resid. Df Resid. Dev Pr(>Chi)  \n",
       "NULL       NA        NA 31        24.11329           NA\n",
       "definition  1 0.1864108 30        23.92688   0.66592081\n",
       "need        1 0.3019385 29        23.62494   0.58266973\n",
       "purpose     2 3.3176825 27        20.30726   0.19035943\n",
       "interest    1 4.3444839 26        15.96277   0.03712902"
      ]
     },
     "metadata": {},
     "output_type": "display_data"
    }
   ],
   "source": [
    "model <- glm(d2_3 ~ definition + need + purpose \n",
    "              + interest, data =survey2, family = binomial)\n",
    "summary(model)\n",
    "\n",
    "\n",
    "anova(model, test=\"Chisq\")"
   ]
  },
  {
   "cell_type": "code",
   "execution_count": 31,
   "metadata": {},
   "outputs": [
    {
     "data": {
      "text/plain": [
       "\n",
       "Call:\n",
       "glm(formula = d2_4 ~ definition + need + purpose + interest, \n",
       "    family = binomial, data = survey2)\n",
       "\n",
       "Deviance Residuals: \n",
       "    Min       1Q   Median       3Q      Max  \n",
       "-1.5769  -0.8772  -0.6545   1.1422   1.8768  \n",
       "\n",
       "Coefficients:\n",
       "                  Estimate Std. Error z value Pr(>|z|)\n",
       "(Intercept)         1.1718     1.7402   0.673    0.501\n",
       "definitionharmony  -0.4206     1.0817  -0.389    0.697\n",
       "needharmony        -0.3072     0.9899  -0.310    0.756\n",
       "purposecosmetic    -0.5347     1.1057  -0.484    0.629\n",
       "purposeetc          1.1398     0.9942   1.146    0.252\n",
       "interest           -0.4940     0.4478  -1.103    0.270\n",
       "\n",
       "(Dispersion parameter for binomial family taken to be 1)\n",
       "\n",
       "    Null deviance: 42.340  on 31  degrees of freedom\n",
       "Residual deviance: 38.928  on 26  degrees of freedom\n",
       "AIC: 50.928\n",
       "\n",
       "Number of Fisher Scoring iterations: 4\n"
      ]
     },
     "metadata": {},
     "output_type": "display_data"
    },
    {
     "data": {
      "text/html": [
       "<table>\n",
       "<thead><tr><th></th><th scope=col>Df</th><th scope=col>Deviance</th><th scope=col>Resid. Df</th><th scope=col>Resid. Dev</th><th scope=col>Pr(&gt;Chi)</th></tr></thead>\n",
       "<tbody>\n",
       "\t<tr><th scope=row>NULL</th><td>NA         </td><td>         NA</td><td>31         </td><td>42.34005   </td><td>       NA  </td></tr>\n",
       "\t<tr><th scope=row>definition</th><td> 1         </td><td>0.009253793</td><td>30         </td><td>42.33079   </td><td>0.9233644  </td></tr>\n",
       "\t<tr><th scope=row>need</th><td> 1         </td><td>0.036176320</td><td>29         </td><td>42.29462   </td><td>0.8491518  </td></tr>\n",
       "\t<tr><th scope=row>purpose</th><td> 2         </td><td>2.089392690</td><td>27         </td><td>40.20522   </td><td>0.3517986  </td></tr>\n",
       "\t<tr><th scope=row>interest</th><td> 1         </td><td>1.277162108</td><td>26         </td><td>38.92806   </td><td>0.2584274  </td></tr>\n",
       "</tbody>\n",
       "</table>\n"
      ],
      "text/latex": [
       "\\begin{tabular}{r|lllll}\n",
       "  & Df & Deviance & Resid. Df & Resid. Dev & Pr(>Chi)\\\\\n",
       "\\hline\n",
       "\tNULL & NA          &          NA & 31          & 42.34005    &        NA  \\\\\n",
       "\tdefinition &  1          & 0.009253793 & 30          & 42.33079    & 0.9233644  \\\\\n",
       "\tneed &  1          & 0.036176320 & 29          & 42.29462    & 0.8491518  \\\\\n",
       "\tpurpose &  2          & 2.089392690 & 27          & 40.20522    & 0.3517986  \\\\\n",
       "\tinterest &  1          & 1.277162108 & 26          & 38.92806    & 0.2584274  \\\\\n",
       "\\end{tabular}\n"
      ],
      "text/markdown": [
       "\n",
       "| <!--/--> | Df | Deviance | Resid. Df | Resid. Dev | Pr(>Chi) |\n",
       "|---|---|---|---|---|---|\n",
       "| NULL | NA          |          NA | 31          | 42.34005    |        NA   |\n",
       "| definition |  1          | 0.009253793 | 30          | 42.33079    | 0.9233644   |\n",
       "| need |  1          | 0.036176320 | 29          | 42.29462    | 0.8491518   |\n",
       "| purpose |  2          | 2.089392690 | 27          | 40.20522    | 0.3517986   |\n",
       "| interest |  1          | 1.277162108 | 26          | 38.92806    | 0.2584274   |\n",
       "\n"
      ],
      "text/plain": [
       "           Df Deviance    Resid. Df Resid. Dev Pr(>Chi) \n",
       "NULL       NA          NA 31        42.34005          NA\n",
       "definition  1 0.009253793 30        42.33079   0.9233644\n",
       "need        1 0.036176320 29        42.29462   0.8491518\n",
       "purpose     2 2.089392690 27        40.20522   0.3517986\n",
       "interest    1 1.277162108 26        38.92806   0.2584274"
      ]
     },
     "metadata": {},
     "output_type": "display_data"
    }
   ],
   "source": [
    "model <- glm(d2_4 ~ definition + need + purpose \n",
    "              + interest, data =survey2, family = binomial)\n",
    "summary(model)\n",
    "\n",
    "\n",
    "anova(model, test=\"Chisq\")"
   ]
  },
  {
   "cell_type": "code",
   "execution_count": 32,
   "metadata": {},
   "outputs": [
    {
     "data": {
      "text/plain": [
       "\n",
       "Call:\n",
       "glm(formula = d2_5 ~ definition + need + purpose + interest, \n",
       "    family = binomial, data = survey2)\n",
       "\n",
       "Deviance Residuals: \n",
       "     Min        1Q    Median        3Q       Max  \n",
       "-0.90789  -0.39130  -0.09702  -0.00005   1.93512  \n",
       "\n",
       "Coefficients:\n",
       "                    Estimate Std. Error z value Pr(>|z|)\n",
       "(Intercept)          1.14531    3.15676   0.363    0.717\n",
       "definitionharmony   -0.84580    2.24245  -0.377    0.706\n",
       "needharmony          0.03881    2.37074   0.016    0.987\n",
       "purposecosmetic      0.22511    1.74555   0.129    0.897\n",
       "purposeetc         -17.69693 4524.09534  -0.004    0.997\n",
       "interest            -1.02185    0.96679  -1.057    0.291\n",
       "\n",
       "(Dispersion parameter for binomial family taken to be 1)\n",
       "\n",
       "    Null deviance: 14.963  on 31  degrees of freedom\n",
       "Residual deviance: 11.253  on 26  degrees of freedom\n",
       "AIC: 23.253\n",
       "\n",
       "Number of Fisher Scoring iterations: 19\n"
      ]
     },
     "metadata": {},
     "output_type": "display_data"
    },
    {
     "data": {
      "text/html": [
       "<table>\n",
       "<thead><tr><th></th><th scope=col>Df</th><th scope=col>Deviance</th><th scope=col>Resid. Df</th><th scope=col>Resid. Dev</th><th scope=col>Pr(&gt;Chi)</th></tr></thead>\n",
       "<tbody>\n",
       "\t<tr><th scope=row>NULL</th><td>NA          </td><td>          NA</td><td>31          </td><td>14.96267    </td><td>       NA   </td></tr>\n",
       "\t<tr><th scope=row>definition</th><td> 1          </td><td>0.2200205733</td><td>30          </td><td>14.74265    </td><td>0.6390242   </td></tr>\n",
       "\t<tr><th scope=row>need</th><td> 1          </td><td>0.0002658499</td><td>29          </td><td>14.74238    </td><td>0.9869911   </td></tr>\n",
       "\t<tr><th scope=row>purpose</th><td> 2          </td><td>2.2368602907</td><td>27          </td><td>12.50552    </td><td>0.3267924   </td></tr>\n",
       "\t<tr><th scope=row>interest</th><td> 1          </td><td>1.2525581463</td><td>26          </td><td>11.25296    </td><td>0.2630644   </td></tr>\n",
       "</tbody>\n",
       "</table>\n"
      ],
      "text/latex": [
       "\\begin{tabular}{r|lllll}\n",
       "  & Df & Deviance & Resid. Df & Resid. Dev & Pr(>Chi)\\\\\n",
       "\\hline\n",
       "\tNULL & NA           &           NA & 31           & 14.96267     &        NA   \\\\\n",
       "\tdefinition &  1           & 0.2200205733 & 30           & 14.74265     & 0.6390242   \\\\\n",
       "\tneed &  1           & 0.0002658499 & 29           & 14.74238     & 0.9869911   \\\\\n",
       "\tpurpose &  2           & 2.2368602907 & 27           & 12.50552     & 0.3267924   \\\\\n",
       "\tinterest &  1           & 1.2525581463 & 26           & 11.25296     & 0.2630644   \\\\\n",
       "\\end{tabular}\n"
      ],
      "text/markdown": [
       "\n",
       "| <!--/--> | Df | Deviance | Resid. Df | Resid. Dev | Pr(>Chi) |\n",
       "|---|---|---|---|---|---|\n",
       "| NULL | NA           |           NA | 31           | 14.96267     |        NA    |\n",
       "| definition |  1           | 0.2200205733 | 30           | 14.74265     | 0.6390242    |\n",
       "| need |  1           | 0.0002658499 | 29           | 14.74238     | 0.9869911    |\n",
       "| purpose |  2           | 2.2368602907 | 27           | 12.50552     | 0.3267924    |\n",
       "| interest |  1           | 1.2525581463 | 26           | 11.25296     | 0.2630644    |\n",
       "\n"
      ],
      "text/plain": [
       "           Df Deviance     Resid. Df Resid. Dev Pr(>Chi) \n",
       "NULL       NA           NA 31        14.96267          NA\n",
       "definition  1 0.2200205733 30        14.74265   0.6390242\n",
       "need        1 0.0002658499 29        14.74238   0.9869911\n",
       "purpose     2 2.2368602907 27        12.50552   0.3267924\n",
       "interest    1 1.2525581463 26        11.25296   0.2630644"
      ]
     },
     "metadata": {},
     "output_type": "display_data"
    }
   ],
   "source": [
    "model <- glm(d2_5 ~ definition + need + purpose \n",
    "              + interest, data =survey2, family = binomial)\n",
    "summary(model)\n",
    "\n",
    "\n",
    "anova(model, test=\"Chisq\")"
   ]
  },
  {
   "cell_type": "code",
   "execution_count": 33,
   "metadata": {},
   "outputs": [
    {
     "data": {
      "text/plain": [
       "\n",
       "Call:\n",
       "glm(formula = d3_1 ~ definition + need + purpose + interest, \n",
       "    family = binomial, data = survey2)\n",
       "\n",
       "Deviance Residuals: \n",
       "    Min       1Q   Median       3Q      Max  \n",
       "-1.3177  -0.6059  -0.2190   0.4729   2.7357  \n",
       "\n",
       "Coefficients:\n",
       "                  Estimate Std. Error z value Pr(>|z|)  \n",
       "(Intercept)         3.0830     2.3110   1.334   0.1822  \n",
       "definitionharmony  -0.6563     1.3116  -0.500   0.6168  \n",
       "needharmony        -2.0618     1.3793  -1.495   0.1350  \n",
       "purposecosmetic    -2.0908     1.3164  -1.588   0.1122  \n",
       "purposeetc         -3.4147     1.5200  -2.247   0.0247 *\n",
       "interest           -0.2228     0.5733  -0.389   0.6976  \n",
       "---\n",
       "Signif. codes:  0 '***' 0.001 '**' 0.01 '*' 0.05 '.' 0.1 ' ' 1\n",
       "\n",
       "(Dispersion parameter for binomial family taken to be 1)\n",
       "\n",
       "    Null deviance: 39.75  on 31  degrees of freedom\n",
       "Residual deviance: 24.72  on 26  degrees of freedom\n",
       "AIC: 36.72\n",
       "\n",
       "Number of Fisher Scoring iterations: 5\n"
      ]
     },
     "metadata": {},
     "output_type": "display_data"
    },
    {
     "data": {
      "text/html": [
       "<table>\n",
       "<thead><tr><th></th><th scope=col>Df</th><th scope=col>Deviance</th><th scope=col>Resid. Df</th><th scope=col>Resid. Dev</th><th scope=col>Pr(&gt;Chi)</th></tr></thead>\n",
       "<tbody>\n",
       "\t<tr><th scope=row>NULL</th><td>NA        </td><td>       NA </td><td>31        </td><td>39.74953  </td><td>        NA</td></tr>\n",
       "\t<tr><th scope=row>definition</th><td> 1        </td><td>4.1409909 </td><td>30        </td><td>35.60854  </td><td>0.04185666</td></tr>\n",
       "\t<tr><th scope=row>need</th><td> 1        </td><td>1.8206664 </td><td>29        </td><td>33.78787  </td><td>0.17723398</td></tr>\n",
       "\t<tr><th scope=row>purpose</th><td> 2        </td><td>8.9161167 </td><td>27        </td><td>24.87175  </td><td>0.01158484</td></tr>\n",
       "\t<tr><th scope=row>interest</th><td> 1        </td><td>0.1517342 </td><td>26        </td><td>24.72002  </td><td>0.69688353</td></tr>\n",
       "</tbody>\n",
       "</table>\n"
      ],
      "text/latex": [
       "\\begin{tabular}{r|lllll}\n",
       "  & Df & Deviance & Resid. Df & Resid. Dev & Pr(>Chi)\\\\\n",
       "\\hline\n",
       "\tNULL & NA         &        NA  & 31         & 39.74953   &         NA\\\\\n",
       "\tdefinition &  1         & 4.1409909  & 30         & 35.60854   & 0.04185666\\\\\n",
       "\tneed &  1         & 1.8206664  & 29         & 33.78787   & 0.17723398\\\\\n",
       "\tpurpose &  2         & 8.9161167  & 27         & 24.87175   & 0.01158484\\\\\n",
       "\tinterest &  1         & 0.1517342  & 26         & 24.72002   & 0.69688353\\\\\n",
       "\\end{tabular}\n"
      ],
      "text/markdown": [
       "\n",
       "| <!--/--> | Df | Deviance | Resid. Df | Resid. Dev | Pr(>Chi) |\n",
       "|---|---|---|---|---|---|\n",
       "| NULL | NA         |        NA  | 31         | 39.74953   |         NA |\n",
       "| definition |  1         | 4.1409909  | 30         | 35.60854   | 0.04185666 |\n",
       "| need |  1         | 1.8206664  | 29         | 33.78787   | 0.17723398 |\n",
       "| purpose |  2         | 8.9161167  | 27         | 24.87175   | 0.01158484 |\n",
       "| interest |  1         | 0.1517342  | 26         | 24.72002   | 0.69688353 |\n",
       "\n"
      ],
      "text/plain": [
       "           Df Deviance  Resid. Df Resid. Dev Pr(>Chi)  \n",
       "NULL       NA        NA 31        39.74953           NA\n",
       "definition  1 4.1409909 30        35.60854   0.04185666\n",
       "need        1 1.8206664 29        33.78787   0.17723398\n",
       "purpose     2 8.9161167 27        24.87175   0.01158484\n",
       "interest    1 0.1517342 26        24.72002   0.69688353"
      ]
     },
     "metadata": {},
     "output_type": "display_data"
    }
   ],
   "source": [
    "model <- glm(d3_1 ~ definition + need + purpose \n",
    "              + interest, data =survey2, family = binomial)\n",
    "summary(model)\n",
    "\n",
    "\n",
    "anova(model, test=\"Chisq\")"
   ]
  },
  {
   "cell_type": "code",
   "execution_count": 34,
   "metadata": {},
   "outputs": [
    {
     "data": {
      "text/plain": [
       "\n",
       "Call:\n",
       "glm(formula = d3_2 ~ definition + need + purpose + interest, \n",
       "    family = binomial, data = survey2)\n",
       "\n",
       "Deviance Residuals: \n",
       "    Min       1Q   Median       3Q      Max  \n",
       "-1.4635  -0.7554  -0.4432   0.1307   2.4745  \n",
       "\n",
       "Coefficients:\n",
       "                  Estimate Std. Error z value Pr(>|z|)\n",
       "(Intercept)        -0.6398     2.0849  -0.307    0.759\n",
       "definitionharmony   0.1499     1.4141   0.106    0.916\n",
       "needharmony         1.9031     1.3935   1.366    0.172\n",
       "purposecosmetic     0.7103     1.3656   0.520    0.603\n",
       "purposeetc          0.8500     1.2842   0.662    0.508\n",
       "interest           -0.8059     0.5964  -1.351    0.177\n",
       "\n",
       "(Dispersion parameter for binomial family taken to be 1)\n",
       "\n",
       "    Null deviance: 35.989  on 31  degrees of freedom\n",
       "Residual deviance: 29.652  on 26  degrees of freedom\n",
       "AIC: 41.652\n",
       "\n",
       "Number of Fisher Scoring iterations: 5\n"
      ]
     },
     "metadata": {},
     "output_type": "display_data"
    },
    {
     "data": {
      "text/html": [
       "<table>\n",
       "<thead><tr><th></th><th scope=col>Df</th><th scope=col>Deviance</th><th scope=col>Resid. Df</th><th scope=col>Resid. Dev</th><th scope=col>Pr(&gt;Chi)</th></tr></thead>\n",
       "<tbody>\n",
       "\t<tr><th scope=row>NULL</th><td>NA        </td><td>        NA</td><td>31        </td><td>35.98945  </td><td>       NA </td></tr>\n",
       "\t<tr><th scope=row>definition</th><td> 1        </td><td>2.55386005</td><td>30        </td><td>33.43559  </td><td>0.1100251 </td></tr>\n",
       "\t<tr><th scope=row>need</th><td> 1        </td><td>1.68330844</td><td>29        </td><td>31.75228  </td><td>0.1944854 </td></tr>\n",
       "\t<tr><th scope=row>purpose</th><td> 2        </td><td>0.01296461</td><td>27        </td><td>31.73932  </td><td>0.9935387 </td></tr>\n",
       "\t<tr><th scope=row>interest</th><td> 1        </td><td>2.08722883</td><td>26        </td><td>29.65209  </td><td>0.1485353 </td></tr>\n",
       "</tbody>\n",
       "</table>\n"
      ],
      "text/latex": [
       "\\begin{tabular}{r|lllll}\n",
       "  & Df & Deviance & Resid. Df & Resid. Dev & Pr(>Chi)\\\\\n",
       "\\hline\n",
       "\tNULL & NA         &         NA & 31         & 35.98945   &        NA \\\\\n",
       "\tdefinition &  1         & 2.55386005 & 30         & 33.43559   & 0.1100251 \\\\\n",
       "\tneed &  1         & 1.68330844 & 29         & 31.75228   & 0.1944854 \\\\\n",
       "\tpurpose &  2         & 0.01296461 & 27         & 31.73932   & 0.9935387 \\\\\n",
       "\tinterest &  1         & 2.08722883 & 26         & 29.65209   & 0.1485353 \\\\\n",
       "\\end{tabular}\n"
      ],
      "text/markdown": [
       "\n",
       "| <!--/--> | Df | Deviance | Resid. Df | Resid. Dev | Pr(>Chi) |\n",
       "|---|---|---|---|---|---|\n",
       "| NULL | NA         |         NA | 31         | 35.98945   |        NA  |\n",
       "| definition |  1         | 2.55386005 | 30         | 33.43559   | 0.1100251  |\n",
       "| need |  1         | 1.68330844 | 29         | 31.75228   | 0.1944854  |\n",
       "| purpose |  2         | 0.01296461 | 27         | 31.73932   | 0.9935387  |\n",
       "| interest |  1         | 2.08722883 | 26         | 29.65209   | 0.1485353  |\n",
       "\n"
      ],
      "text/plain": [
       "           Df Deviance   Resid. Df Resid. Dev Pr(>Chi) \n",
       "NULL       NA         NA 31        35.98945          NA\n",
       "definition  1 2.55386005 30        33.43559   0.1100251\n",
       "need        1 1.68330844 29        31.75228   0.1944854\n",
       "purpose     2 0.01296461 27        31.73932   0.9935387\n",
       "interest    1 2.08722883 26        29.65209   0.1485353"
      ]
     },
     "metadata": {},
     "output_type": "display_data"
    }
   ],
   "source": [
    "model <- glm(d3_2 ~ definition + need + purpose \n",
    "              + interest, data =survey2, family = binomial)\n",
    "summary(model)\n",
    "\n",
    "\n",
    "anova(model, test=\"Chisq\")"
   ]
  },
  {
   "cell_type": "code",
   "execution_count": 35,
   "metadata": {},
   "outputs": [
    {
     "data": {
      "text/plain": [
       "\n",
       "Call:\n",
       "glm(formula = d3_3 ~ definition + need + purpose + interest, \n",
       "    family = binomial, data = survey2)\n",
       "\n",
       "Deviance Residuals: \n",
       "     Min        1Q    Median        3Q       Max  \n",
       "-0.94192  -0.49803  -0.35598  -0.00006   2.34101  \n",
       "\n",
       "Coefficients:\n",
       "                   Estimate Std. Error z value Pr(>|z|)\n",
       "(Intercept)        -22.1592  3307.8203  -0.007    0.995\n",
       "definitionharmony    1.8314     1.9369   0.946    0.344\n",
       "needharmony         -1.8517     1.5957  -1.160    0.246\n",
       "purposecosmetic     17.3281  3307.8190   0.005    0.996\n",
       "purposeetc          17.9802  3307.8189   0.005    0.996\n",
       "interest             0.7192     0.7106   1.012    0.311\n",
       "\n",
       "(Dispersion parameter for binomial family taken to be 1)\n",
       "\n",
       "    Null deviance: 24.113  on 31  degrees of freedom\n",
       "Residual deviance: 18.915  on 26  degrees of freedom\n",
       "AIC: 30.915\n",
       "\n",
       "Number of Fisher Scoring iterations: 18\n"
      ]
     },
     "metadata": {},
     "output_type": "display_data"
    },
    {
     "data": {
      "text/html": [
       "<table>\n",
       "<thead><tr><th></th><th scope=col>Df</th><th scope=col>Deviance</th><th scope=col>Resid. Df</th><th scope=col>Resid. Dev</th><th scope=col>Pr(&gt;Chi)</th></tr></thead>\n",
       "<tbody>\n",
       "\t<tr><th scope=row>NULL</th><td>NA       </td><td>       NA</td><td>31       </td><td>24.11329 </td><td>       NA</td></tr>\n",
       "\t<tr><th scope=row>definition</th><td> 1       </td><td>0.1864108</td><td>30       </td><td>23.92688 </td><td>0.6659208</td></tr>\n",
       "\t<tr><th scope=row>need</th><td> 1       </td><td>0.6608058</td><td>29       </td><td>23.26607 </td><td>0.4162756</td></tr>\n",
       "\t<tr><th scope=row>purpose</th><td> 2       </td><td>3.2534372</td><td>27       </td><td>20.01264 </td><td>0.1965736</td></tr>\n",
       "\t<tr><th scope=row>interest</th><td> 1       </td><td>1.0980784</td><td>26       </td><td>18.91456 </td><td>0.2946882</td></tr>\n",
       "</tbody>\n",
       "</table>\n"
      ],
      "text/latex": [
       "\\begin{tabular}{r|lllll}\n",
       "  & Df & Deviance & Resid. Df & Resid. Dev & Pr(>Chi)\\\\\n",
       "\\hline\n",
       "\tNULL & NA        &        NA & 31        & 24.11329  &        NA\\\\\n",
       "\tdefinition &  1        & 0.1864108 & 30        & 23.92688  & 0.6659208\\\\\n",
       "\tneed &  1        & 0.6608058 & 29        & 23.26607  & 0.4162756\\\\\n",
       "\tpurpose &  2        & 3.2534372 & 27        & 20.01264  & 0.1965736\\\\\n",
       "\tinterest &  1        & 1.0980784 & 26        & 18.91456  & 0.2946882\\\\\n",
       "\\end{tabular}\n"
      ],
      "text/markdown": [
       "\n",
       "| <!--/--> | Df | Deviance | Resid. Df | Resid. Dev | Pr(>Chi) |\n",
       "|---|---|---|---|---|---|\n",
       "| NULL | NA        |        NA | 31        | 24.11329  |        NA |\n",
       "| definition |  1        | 0.1864108 | 30        | 23.92688  | 0.6659208 |\n",
       "| need |  1        | 0.6608058 | 29        | 23.26607  | 0.4162756 |\n",
       "| purpose |  2        | 3.2534372 | 27        | 20.01264  | 0.1965736 |\n",
       "| interest |  1        | 1.0980784 | 26        | 18.91456  | 0.2946882 |\n",
       "\n"
      ],
      "text/plain": [
       "           Df Deviance  Resid. Df Resid. Dev Pr(>Chi) \n",
       "NULL       NA        NA 31        24.11329          NA\n",
       "definition  1 0.1864108 30        23.92688   0.6659208\n",
       "need        1 0.6608058 29        23.26607   0.4162756\n",
       "purpose     2 3.2534372 27        20.01264   0.1965736\n",
       "interest    1 1.0980784 26        18.91456   0.2946882"
      ]
     },
     "metadata": {},
     "output_type": "display_data"
    }
   ],
   "source": [
    "model <- glm(d3_3 ~ definition + need + purpose \n",
    "              + interest, data =survey2, family = binomial)\n",
    "summary(model)\n",
    "\n",
    "\n",
    "anova(model, test=\"Chisq\")"
   ]
  },
  {
   "cell_type": "code",
   "execution_count": 36,
   "metadata": {},
   "outputs": [
    {
     "name": "stderr",
     "output_type": "stream",
     "text": [
      "Warning message:\n",
      "\"glm.fit: fitted probabilities numerically 0 or 1 occurred\""
     ]
    },
    {
     "data": {
      "text/plain": [
       "\n",
       "Call:\n",
       "glm(formula = d3_4 ~ definition + need + purpose + interest, \n",
       "    family = binomial, data = survey2)\n",
       "\n",
       "Deviance Residuals: \n",
       "    Min       1Q   Median       3Q      Max  \n",
       "-0.8596  -0.4900  -0.1667   0.0000   2.0877  \n",
       "\n",
       "Coefficients:\n",
       "                   Estimate Std. Error z value Pr(>|z|)\n",
       "(Intercept)        -38.8625  6045.2603  -0.006    0.995\n",
       "definitionharmony  -19.0778  3980.4112  -0.005    0.996\n",
       "needharmony         19.1362  3980.4113   0.005    0.996\n",
       "purposecosmetic     34.7460  6045.2598   0.006    0.995\n",
       "purposeetc          34.8644  6045.2597   0.006    0.995\n",
       "interest             0.6268     0.7436   0.843    0.399\n",
       "\n",
       "(Dispersion parameter for binomial family taken to be 1)\n",
       "\n",
       "    Null deviance: 24.113  on 31  degrees of freedom\n",
       "Residual deviance: 15.666  on 26  degrees of freedom\n",
       "AIC: 27.666\n",
       "\n",
       "Number of Fisher Scoring iterations: 19\n"
      ]
     },
     "metadata": {},
     "output_type": "display_data"
    },
    {
     "name": "stderr",
     "output_type": "stream",
     "text": [
      "Warning message:\n",
      "\"glm.fit: fitted probabilities numerically 0 or 1 occurred\""
     ]
    },
    {
     "data": {
      "text/html": [
       "<table>\n",
       "<thead><tr><th></th><th scope=col>Df</th><th scope=col>Deviance</th><th scope=col>Resid. Df</th><th scope=col>Resid. Dev</th><th scope=col>Pr(&gt;Chi)</th></tr></thead>\n",
       "<tbody>\n",
       "\t<tr><th scope=row>NULL</th><td>NA       </td><td>       NA</td><td>31       </td><td>24.11329 </td><td>       NA</td></tr>\n",
       "\t<tr><th scope=row>definition</th><td> 1       </td><td>0.4735530</td><td>30       </td><td>23.63974 </td><td>0.4913572</td></tr>\n",
       "\t<tr><th scope=row>need</th><td> 1       </td><td>2.1538196</td><td>29       </td><td>21.48592 </td><td>0.1422157</td></tr>\n",
       "\t<tr><th scope=row>purpose</th><td> 2       </td><td>5.0660176</td><td>27       </td><td>16.41990 </td><td>0.0794197</td></tr>\n",
       "\t<tr><th scope=row>interest</th><td> 1       </td><td>0.7541595</td><td>26       </td><td>15.66574 </td><td>0.3851625</td></tr>\n",
       "</tbody>\n",
       "</table>\n"
      ],
      "text/latex": [
       "\\begin{tabular}{r|lllll}\n",
       "  & Df & Deviance & Resid. Df & Resid. Dev & Pr(>Chi)\\\\\n",
       "\\hline\n",
       "\tNULL & NA        &        NA & 31        & 24.11329  &        NA\\\\\n",
       "\tdefinition &  1        & 0.4735530 & 30        & 23.63974  & 0.4913572\\\\\n",
       "\tneed &  1        & 2.1538196 & 29        & 21.48592  & 0.1422157\\\\\n",
       "\tpurpose &  2        & 5.0660176 & 27        & 16.41990  & 0.0794197\\\\\n",
       "\tinterest &  1        & 0.7541595 & 26        & 15.66574  & 0.3851625\\\\\n",
       "\\end{tabular}\n"
      ],
      "text/markdown": [
       "\n",
       "| <!--/--> | Df | Deviance | Resid. Df | Resid. Dev | Pr(>Chi) |\n",
       "|---|---|---|---|---|---|\n",
       "| NULL | NA        |        NA | 31        | 24.11329  |        NA |\n",
       "| definition |  1        | 0.4735530 | 30        | 23.63974  | 0.4913572 |\n",
       "| need |  1        | 2.1538196 | 29        | 21.48592  | 0.1422157 |\n",
       "| purpose |  2        | 5.0660176 | 27        | 16.41990  | 0.0794197 |\n",
       "| interest |  1        | 0.7541595 | 26        | 15.66574  | 0.3851625 |\n",
       "\n"
      ],
      "text/plain": [
       "           Df Deviance  Resid. Df Resid. Dev Pr(>Chi) \n",
       "NULL       NA        NA 31        24.11329          NA\n",
       "definition  1 0.4735530 30        23.63974   0.4913572\n",
       "need        1 2.1538196 29        21.48592   0.1422157\n",
       "purpose     2 5.0660176 27        16.41990   0.0794197\n",
       "interest    1 0.7541595 26        15.66574   0.3851625"
      ]
     },
     "metadata": {},
     "output_type": "display_data"
    }
   ],
   "source": [
    "model <- glm(d3_4 ~ definition + need + purpose \n",
    "              + interest, data =survey2, family = binomial)\n",
    "summary(model)\n",
    "\n",
    "\n",
    "anova(model, test=\"Chisq\")"
   ]
  },
  {
   "cell_type": "code",
   "execution_count": 37,
   "metadata": {},
   "outputs": [
    {
     "data": {
      "text/plain": [
       "\n",
       "Call:\n",
       "glm(formula = d3_5 ~ definition + need + purpose + interest, \n",
       "    family = binomial, data = survey2)\n",
       "\n",
       "Deviance Residuals: \n",
       "    Min       1Q   Median       3Q      Max  \n",
       "-0.9439  -0.7234  -0.4943  -0.3609   1.9389  \n",
       "\n",
       "Coefficients:\n",
       "                  Estimate Std. Error z value Pr(>|z|)\n",
       "(Intercept)        -3.3511     2.3178  -1.446    0.148\n",
       "definitionharmony   1.4837     1.5350   0.967    0.334\n",
       "needharmony        -0.3557     1.2081  -0.294    0.768\n",
       "purposecosmetic     0.7686     1.3719   0.560    0.575\n",
       "purposeetc          0.4505     1.3398   0.336    0.737\n",
       "interest            0.1737     0.5465   0.318    0.751\n",
       "\n",
       "(Dispersion parameter for binomial family taken to be 1)\n",
       "\n",
       "    Null deviance: 30.885  on 31  degrees of freedom\n",
       "Residual deviance: 29.164  on 26  degrees of freedom\n",
       "AIC: 41.164\n",
       "\n",
       "Number of Fisher Scoring iterations: 5\n"
      ]
     },
     "metadata": {},
     "output_type": "display_data"
    },
    {
     "data": {
      "text/html": [
       "<table>\n",
       "<thead><tr><th></th><th scope=col>Df</th><th scope=col>Deviance</th><th scope=col>Resid. Df</th><th scope=col>Resid. Dev</th><th scope=col>Pr(&gt;Chi)</th></tr></thead>\n",
       "<tbody>\n",
       "\t<tr><th scope=row>NULL</th><td>NA        </td><td>        NA</td><td>31        </td><td>30.88496  </td><td>       NA </td></tr>\n",
       "\t<tr><th scope=row>definition</th><td> 1        </td><td>1.13024588</td><td>30        </td><td>29.75472  </td><td>0.2877229 </td></tr>\n",
       "\t<tr><th scope=row>need</th><td> 1        </td><td>0.07169694</td><td>29        </td><td>29.68302  </td><td>0.7888819 </td></tr>\n",
       "\t<tr><th scope=row>purpose</th><td> 2        </td><td>0.41738385</td><td>27        </td><td>29.26564  </td><td>0.8116452 </td></tr>\n",
       "\t<tr><th scope=row>interest</th><td> 1        </td><td>0.10139451</td><td>26        </td><td>29.16424  </td><td>0.7501625 </td></tr>\n",
       "</tbody>\n",
       "</table>\n"
      ],
      "text/latex": [
       "\\begin{tabular}{r|lllll}\n",
       "  & Df & Deviance & Resid. Df & Resid. Dev & Pr(>Chi)\\\\\n",
       "\\hline\n",
       "\tNULL & NA         &         NA & 31         & 30.88496   &        NA \\\\\n",
       "\tdefinition &  1         & 1.13024588 & 30         & 29.75472   & 0.2877229 \\\\\n",
       "\tneed &  1         & 0.07169694 & 29         & 29.68302   & 0.7888819 \\\\\n",
       "\tpurpose &  2         & 0.41738385 & 27         & 29.26564   & 0.8116452 \\\\\n",
       "\tinterest &  1         & 0.10139451 & 26         & 29.16424   & 0.7501625 \\\\\n",
       "\\end{tabular}\n"
      ],
      "text/markdown": [
       "\n",
       "| <!--/--> | Df | Deviance | Resid. Df | Resid. Dev | Pr(>Chi) |\n",
       "|---|---|---|---|---|---|\n",
       "| NULL | NA         |         NA | 31         | 30.88496   |        NA  |\n",
       "| definition |  1         | 1.13024588 | 30         | 29.75472   | 0.2877229  |\n",
       "| need |  1         | 0.07169694 | 29         | 29.68302   | 0.7888819  |\n",
       "| purpose |  2         | 0.41738385 | 27         | 29.26564   | 0.8116452  |\n",
       "| interest |  1         | 0.10139451 | 26         | 29.16424   | 0.7501625  |\n",
       "\n"
      ],
      "text/plain": [
       "           Df Deviance   Resid. Df Resid. Dev Pr(>Chi) \n",
       "NULL       NA         NA 31        30.88496          NA\n",
       "definition  1 1.13024588 30        29.75472   0.2877229\n",
       "need        1 0.07169694 29        29.68302   0.7888819\n",
       "purpose     2 0.41738385 27        29.26564   0.8116452\n",
       "interest    1 0.10139451 26        29.16424   0.7501625"
      ]
     },
     "metadata": {},
     "output_type": "display_data"
    }
   ],
   "source": [
    "model <- glm(d3_5 ~ definition + need + purpose \n",
    "              + interest, data =survey2, family = binomial)\n",
    "summary(model)\n",
    "\n",
    "\n",
    "anova(model, test=\"Chisq\")"
   ]
  },
  {
   "cell_type": "code",
   "execution_count": null,
   "metadata": {},
   "outputs": [],
   "source": []
  }
 ],
 "metadata": {
  "kernelspec": {
   "display_name": "R",
   "language": "R",
   "name": "ir"
  },
  "language_info": {
   "codemirror_mode": "r",
   "file_extension": ".r",
   "mimetype": "text/x-r-source",
   "name": "R",
   "pygments_lexer": "r",
   "version": "3.6.1"
  }
 },
 "nbformat": 4,
 "nbformat_minor": 4
}
