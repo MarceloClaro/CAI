{
 "cells": [
  {
   "cell_type": "code",
   "execution_count": 1,
   "metadata": {},
   "outputs": [
    {
     "name": "stderr",
     "output_type": "stream",
     "text": [
      "Warning message:\n",
      "\"package 'ROCR' was built under R version 3.6.3\"Loading required package: gplots\n",
      "Warning message:\n",
      "\"package 'gplots' was built under R version 3.6.3\"\n",
      "Attaching package: 'gplots'\n",
      "\n",
      "The following object is masked from 'package:stats':\n",
      "\n",
      "    lowess\n",
      "\n",
      "Warning message:\n",
      "\"package 'dplyr' was built under R version 3.6.3\"\n",
      "Attaching package: 'dplyr'\n",
      "\n",
      "The following objects are masked from 'package:stats':\n",
      "\n",
      "    filter, lag\n",
      "\n",
      "The following objects are masked from 'package:base':\n",
      "\n",
      "    intersect, setdiff, setequal, union\n",
      "\n"
     ]
    }
   ],
   "source": [
    "library(ROCR)\n",
    "library(dplyr)"
   ]
  },
  {
   "cell_type": "code",
   "execution_count": 2,
   "metadata": {},
   "outputs": [],
   "source": [
    "survey <- read.csv('전처리/2번설문/change_harmony.csv')"
   ]
  },
  {
   "cell_type": "code",
   "execution_count": 3,
   "metadata": {},
   "outputs": [
    {
     "name": "stdout",
     "output_type": "stream",
     "text": [
      "'data.frame':\t96 obs. of  13 variables:\n",
      " $ X          : int  0 1 2 3 4 5 6 7 8 9 ...\n",
      " $ sex        : Factor w/ 2 levels \"Female\",\"Male\": 1 2 1 2 1 1 1 1 1 1 ...\n",
      " $ age_class  : int  20 20 20 20 20 30 30 20 30 20 ...\n",
      " $ definition : Factor w/ 2 levels \"bright\",\"harmony\": 1 2 1 1 1 2 2 1 2 2 ...\n",
      " $ need       : Factor w/ 2 levels \"bright\",\"harmony\": 1 2 1 2 1 2 1 1 1 2 ...\n",
      " $ purpose    : Factor w/ 3 levels \"clothes\",\"cosmetic\",..: 1 1 1 1 2 1 1 2 3 1 ...\n",
      " $ interest   : int  3 5 5 3 3 4 3 3 5 1 ...\n",
      " $ comp       : int  3 5 5 5 2 3 3 2 2 5 ...\n",
      " $ triangle1  : int  4 5 5 5 4 2 5 5 5 4 ...\n",
      " $ triangle2  : int  3 4 4 2 3 2 3 3 1 2 ...\n",
      " $ doubleness1: int  2 1 2 5 4 5 2 1 5 1 ...\n",
      " $ doubleness2: int  2 2 2 4 3 4 3 5 2 4 ...\n",
      " $ doubleness3: int  1 3 1 5 1 5 5 3 1 2 ...\n"
     ]
    },
    {
     "data": {
      "text/html": [
       "<table>\n",
       "<thead><tr><th scope=col>X</th><th scope=col>sex</th><th scope=col>age_class</th><th scope=col>definition</th><th scope=col>need</th><th scope=col>purpose</th><th scope=col>interest</th><th scope=col>comp</th><th scope=col>triangle1</th><th scope=col>triangle2</th><th scope=col>doubleness1</th><th scope=col>doubleness2</th><th scope=col>doubleness3</th></tr></thead>\n",
       "<tbody>\n",
       "\t<tr><td>0       </td><td>Female  </td><td>20      </td><td>bright  </td><td>bright  </td><td>clothes </td><td>3       </td><td>3       </td><td>4       </td><td>3       </td><td>2       </td><td>2       </td><td>1       </td></tr>\n",
       "\t<tr><td>1       </td><td>Male    </td><td>20      </td><td>harmony </td><td>harmony </td><td>clothes </td><td>5       </td><td>5       </td><td>5       </td><td>4       </td><td>1       </td><td>2       </td><td>3       </td></tr>\n",
       "\t<tr><td>2       </td><td>Female  </td><td>20      </td><td>bright  </td><td>bright  </td><td>clothes </td><td>5       </td><td>5       </td><td>5       </td><td>4       </td><td>2       </td><td>2       </td><td>1       </td></tr>\n",
       "\t<tr><td>3       </td><td>Male    </td><td>20      </td><td>bright  </td><td>harmony </td><td>clothes </td><td>3       </td><td>5       </td><td>5       </td><td>2       </td><td>5       </td><td>4       </td><td>5       </td></tr>\n",
       "\t<tr><td>4       </td><td>Female  </td><td>20      </td><td>bright  </td><td>bright  </td><td>cosmetic</td><td>3       </td><td>2       </td><td>4       </td><td>3       </td><td>4       </td><td>3       </td><td>1       </td></tr>\n",
       "\t<tr><td>5       </td><td>Female  </td><td>30      </td><td>harmony </td><td>harmony </td><td>clothes </td><td>4       </td><td>3       </td><td>2       </td><td>2       </td><td>5       </td><td>4       </td><td>5       </td></tr>\n",
       "</tbody>\n",
       "</table>\n"
      ],
      "text/latex": [
       "\\begin{tabular}{r|lllllllllllll}\n",
       " X & sex & age\\_class & definition & need & purpose & interest & comp & triangle1 & triangle2 & doubleness1 & doubleness2 & doubleness3\\\\\n",
       "\\hline\n",
       "\t 0        & Female   & 20       & bright   & bright   & clothes  & 3        & 3        & 4        & 3        & 2        & 2        & 1       \\\\\n",
       "\t 1        & Male     & 20       & harmony  & harmony  & clothes  & 5        & 5        & 5        & 4        & 1        & 2        & 3       \\\\\n",
       "\t 2        & Female   & 20       & bright   & bright   & clothes  & 5        & 5        & 5        & 4        & 2        & 2        & 1       \\\\\n",
       "\t 3        & Male     & 20       & bright   & harmony  & clothes  & 3        & 5        & 5        & 2        & 5        & 4        & 5       \\\\\n",
       "\t 4        & Female   & 20       & bright   & bright   & cosmetic & 3        & 2        & 4        & 3        & 4        & 3        & 1       \\\\\n",
       "\t 5        & Female   & 30       & harmony  & harmony  & clothes  & 4        & 3        & 2        & 2        & 5        & 4        & 5       \\\\\n",
       "\\end{tabular}\n"
      ],
      "text/markdown": [
       "\n",
       "| X | sex | age_class | definition | need | purpose | interest | comp | triangle1 | triangle2 | doubleness1 | doubleness2 | doubleness3 |\n",
       "|---|---|---|---|---|---|---|---|---|---|---|---|---|\n",
       "| 0        | Female   | 20       | bright   | bright   | clothes  | 3        | 3        | 4        | 3        | 2        | 2        | 1        |\n",
       "| 1        | Male     | 20       | harmony  | harmony  | clothes  | 5        | 5        | 5        | 4        | 1        | 2        | 3        |\n",
       "| 2        | Female   | 20       | bright   | bright   | clothes  | 5        | 5        | 5        | 4        | 2        | 2        | 1        |\n",
       "| 3        | Male     | 20       | bright   | harmony  | clothes  | 3        | 5        | 5        | 2        | 5        | 4        | 5        |\n",
       "| 4        | Female   | 20       | bright   | bright   | cosmetic | 3        | 2        | 4        | 3        | 4        | 3        | 1        |\n",
       "| 5        | Female   | 30       | harmony  | harmony  | clothes  | 4        | 3        | 2        | 2        | 5        | 4        | 5        |\n",
       "\n"
      ],
      "text/plain": [
       "  X sex    age_class definition need    purpose  interest comp triangle1\n",
       "1 0 Female 20        bright     bright  clothes  3        3    4        \n",
       "2 1 Male   20        harmony    harmony clothes  5        5    5        \n",
       "3 2 Female 20        bright     bright  clothes  5        5    5        \n",
       "4 3 Male   20        bright     harmony clothes  3        5    5        \n",
       "5 4 Female 20        bright     bright  cosmetic 3        2    4        \n",
       "6 5 Female 30        harmony    harmony clothes  4        3    2        \n",
       "  triangle2 doubleness1 doubleness2 doubleness3\n",
       "1 3         2           2           1          \n",
       "2 4         1           2           3          \n",
       "3 4         2           2           1          \n",
       "4 2         5           4           5          \n",
       "5 3         4           3           1          \n",
       "6 2         5           4           5          "
      ]
     },
     "metadata": {},
     "output_type": "display_data"
    }
   ],
   "source": [
    "str(survey)\n",
    "head(survey)"
   ]
  },
  {
   "cell_type": "code",
   "execution_count": 4,
   "metadata": {},
   "outputs": [],
   "source": [
    "survey$comp1 <- case_when(\n",
    "    survey$comp == 1 ~ 1,\n",
    "    survey$comp != 1 ~ 0)\n",
    "\n",
    "survey$comp2 <- case_when(\n",
    "    survey$comp == 2 ~ 1,\n",
    "    survey$comp != 2 ~ 0)\n",
    "\n",
    "survey$comp3 <- case_when(\n",
    "    survey$comp == 3 ~ 1,\n",
    "    survey$comp != 3 ~ 0)\n",
    "\n",
    "survey$comp4 <- case_when(\n",
    "    survey$comp == 4 ~ 1,\n",
    "    survey$comp != 4 ~ 0)\n",
    "\n",
    "survey$comp5 <- case_when(\n",
    "    survey$comp == 5 ~ 1,\n",
    "    survey$comp != 5 ~ 0)\n",
    "\n",
    "survey$t1_1 <- case_when(\n",
    "    survey$triangle1 == 1 ~ 1,\n",
    "    survey$triangle1 != 1 ~ 0)\n",
    "\n",
    "survey$t1_2 <- case_when(\n",
    "    survey$triangle1 == 2 ~ 1,\n",
    "    survey$triangle1 != 2 ~ 0)\n",
    "\n",
    "survey$t1_3 <- case_when(\n",
    "    survey$triangle1 == 3 ~ 1,\n",
    "    survey$triangle1 != 3 ~ 0)\n",
    "\n",
    "survey$t1_4 <- case_when(\n",
    "    survey$triangle1 == 4 ~ 1,\n",
    "    survey$triangle1 != 4 ~ 0)\n",
    "\n",
    "survey$t1_5 <- case_when(\n",
    "    survey$triangle1 == 5 ~ 1,\n",
    "    survey$triangle1 != 5 ~ 0)\n",
    "\t\n",
    "survey$t2_1 <- case_when(\n",
    "    survey$triangle2 == 1 ~ 1,\n",
    "    survey$triangle2 != 1 ~ 0)\n",
    "\n",
    "survey$t2_2 <- case_when(\n",
    "    survey$triangle2 == 2 ~ 1,\n",
    "    survey$triangle2 != 2 ~ 0)\n",
    "\n",
    "survey$t2_3 <- case_when(\n",
    "    survey$triangle2 == 3 ~ 1,\n",
    "    survey$triangle2 != 3 ~ 0)\n",
    "\n",
    "survey$t2_4 <- case_when(\n",
    "    survey$triangle2 == 4 ~ 1,\n",
    "    survey$triangle2 != 4 ~ 0)\n",
    "\n",
    "survey$t2_5 <- case_when(\n",
    "    survey$triangle2 == 5 ~ 1,\n",
    "    survey$triangle2 != 5 ~ 0)\n",
    "\t\n",
    "survey$d1_1 <- case_when(\n",
    "    survey$doubleness1 == 1 ~ 1,\n",
    "    survey$doubleness1 != 1 ~ 0)\n",
    "\n",
    "survey$d1_2 <- case_when(\n",
    "    survey$doubleness1 == 2 ~ 1,\n",
    "    survey$doubleness1 != 2 ~ 0)\n",
    "\n",
    "survey$d1_3 <- case_when(\n",
    "    survey$doubleness1 == 3 ~ 1,\n",
    "    survey$doubleness1 != 3 ~ 0)\n",
    "\n",
    "survey$d1_4 <- case_when(\n",
    "    survey$doubleness1 == 4 ~ 1,\n",
    "    survey$doubleness1 != 4 ~ 0)\n",
    "\n",
    "survey$d1_5 <- case_when(\n",
    "    survey$doubleness1 == 5 ~ 1,\n",
    "    survey$doubleness1 != 5 ~ 0)\n",
    "\t\n",
    "survey$d2_1 <- case_when(\n",
    "    survey$doubleness2 == 1 ~ 1,\n",
    "    survey$doubleness2 != 1 ~ 0)\n",
    "\n",
    "survey$d2_2 <- case_when(\n",
    "    survey$doubleness2 == 2 ~ 1,\n",
    "    survey$doubleness2 != 2 ~ 0)\n",
    "\n",
    "survey$d2_3 <- case_when(\n",
    "    survey$doubleness2 == 3 ~ 1,\n",
    "    survey$doubleness2 != 3 ~ 0)\n",
    "\n",
    "survey$d2_4 <- case_when(\n",
    "    survey$doubleness2 == 4 ~ 1,\n",
    "    survey$doubleness2 != 4 ~ 0)\n",
    "\n",
    "survey$d2_5 <- case_when(\n",
    "    survey$doubleness2 == 5 ~ 1,\n",
    "    survey$doubleness2 != 5 ~ 0)\n",
    "\t\n",
    "survey$d3_1 <- case_when(\n",
    "    survey$doubleness3 == 1 ~ 1,\n",
    "    survey$doubleness3 != 1 ~ 0)\n",
    "\n",
    "survey$d3_2 <- case_when(\n",
    "    survey$doubleness3 == 2 ~ 1,\n",
    "    survey$doubleness3 != 2 ~ 0)\n",
    "\n",
    "survey$d3_3 <- case_when(\n",
    "    survey$doubleness3 == 3 ~ 1,\n",
    "    survey$doubleness3 != 3 ~ 0)\n",
    "\n",
    "survey$d3_4 <- case_when(\n",
    "    survey$doubleness3 == 4 ~ 1,\n",
    "    survey$doubleness3 != 4 ~ 0)\n",
    "\n",
    "survey$d3_5 <- case_when(\n",
    "    survey$doubleness3 == 5 ~ 1,\n",
    "    survey$doubleness3 != 5 ~ 0)"
   ]
  },
  {
   "cell_type": "code",
   "execution_count": 5,
   "metadata": {},
   "outputs": [
    {
     "data": {
      "text/html": [
       "<table>\n",
       "<thead><tr><th scope=col>X</th><th scope=col>sex</th><th scope=col>age_class</th><th scope=col>definition</th><th scope=col>need</th><th scope=col>purpose</th><th scope=col>interest</th><th scope=col>comp</th><th scope=col>triangle1</th><th scope=col>triangle2</th><th scope=col>...</th><th scope=col>d2_1</th><th scope=col>d2_2</th><th scope=col>d2_3</th><th scope=col>d2_4</th><th scope=col>d2_5</th><th scope=col>d3_1</th><th scope=col>d3_2</th><th scope=col>d3_3</th><th scope=col>d3_4</th><th scope=col>d3_5</th></tr></thead>\n",
       "<tbody>\n",
       "\t<tr><td>0       </td><td>Female  </td><td>20      </td><td>bright  </td><td>bright  </td><td>clothes </td><td>3       </td><td>3       </td><td>4       </td><td>3       </td><td>...     </td><td>0       </td><td>1       </td><td>0       </td><td>0       </td><td>0       </td><td>1       </td><td>0       </td><td>0       </td><td>0       </td><td>0       </td></tr>\n",
       "\t<tr><td>1       </td><td>Male    </td><td>20      </td><td>harmony </td><td>harmony </td><td>clothes </td><td>5       </td><td>5       </td><td>5       </td><td>4       </td><td>...     </td><td>0       </td><td>1       </td><td>0       </td><td>0       </td><td>0       </td><td>0       </td><td>0       </td><td>1       </td><td>0       </td><td>0       </td></tr>\n",
       "\t<tr><td>2       </td><td>Female  </td><td>20      </td><td>bright  </td><td>bright  </td><td>clothes </td><td>5       </td><td>5       </td><td>5       </td><td>4       </td><td>...     </td><td>0       </td><td>1       </td><td>0       </td><td>0       </td><td>0       </td><td>1       </td><td>0       </td><td>0       </td><td>0       </td><td>0       </td></tr>\n",
       "\t<tr><td>3       </td><td>Male    </td><td>20      </td><td>bright  </td><td>harmony </td><td>clothes </td><td>3       </td><td>5       </td><td>5       </td><td>2       </td><td>...     </td><td>0       </td><td>0       </td><td>0       </td><td>1       </td><td>0       </td><td>0       </td><td>0       </td><td>0       </td><td>0       </td><td>1       </td></tr>\n",
       "\t<tr><td>4       </td><td>Female  </td><td>20      </td><td>bright  </td><td>bright  </td><td>cosmetic</td><td>3       </td><td>2       </td><td>4       </td><td>3       </td><td>...     </td><td>0       </td><td>0       </td><td>1       </td><td>0       </td><td>0       </td><td>1       </td><td>0       </td><td>0       </td><td>0       </td><td>0       </td></tr>\n",
       "\t<tr><td>5       </td><td>Female  </td><td>30      </td><td>harmony </td><td>harmony </td><td>clothes </td><td>4       </td><td>3       </td><td>2       </td><td>2       </td><td>...     </td><td>0       </td><td>0       </td><td>0       </td><td>1       </td><td>0       </td><td>0       </td><td>0       </td><td>0       </td><td>0       </td><td>1       </td></tr>\n",
       "</tbody>\n",
       "</table>\n"
      ],
      "text/latex": [
       "\\begin{tabular}{r|lllllllllllllllllllllllllllllllllllllllllll}\n",
       " X & sex & age\\_class & definition & need & purpose & interest & comp & triangle1 & triangle2 & ... & d2\\_1 & d2\\_2 & d2\\_3 & d2\\_4 & d2\\_5 & d3\\_1 & d3\\_2 & d3\\_3 & d3\\_4 & d3\\_5\\\\\n",
       "\\hline\n",
       "\t 0        & Female   & 20       & bright   & bright   & clothes  & 3        & 3        & 4        & 3        & ...      & 0        & 1        & 0        & 0        & 0        & 1        & 0        & 0        & 0        & 0       \\\\\n",
       "\t 1        & Male     & 20       & harmony  & harmony  & clothes  & 5        & 5        & 5        & 4        & ...      & 0        & 1        & 0        & 0        & 0        & 0        & 0        & 1        & 0        & 0       \\\\\n",
       "\t 2        & Female   & 20       & bright   & bright   & clothes  & 5        & 5        & 5        & 4        & ...      & 0        & 1        & 0        & 0        & 0        & 1        & 0        & 0        & 0        & 0       \\\\\n",
       "\t 3        & Male     & 20       & bright   & harmony  & clothes  & 3        & 5        & 5        & 2        & ...      & 0        & 0        & 0        & 1        & 0        & 0        & 0        & 0        & 0        & 1       \\\\\n",
       "\t 4        & Female   & 20       & bright   & bright   & cosmetic & 3        & 2        & 4        & 3        & ...      & 0        & 0        & 1        & 0        & 0        & 1        & 0        & 0        & 0        & 0       \\\\\n",
       "\t 5        & Female   & 30       & harmony  & harmony  & clothes  & 4        & 3        & 2        & 2        & ...      & 0        & 0        & 0        & 1        & 0        & 0        & 0        & 0        & 0        & 1       \\\\\n",
       "\\end{tabular}\n"
      ],
      "text/markdown": [
       "\n",
       "| X | sex | age_class | definition | need | purpose | interest | comp | triangle1 | triangle2 | ... | d2_1 | d2_2 | d2_3 | d2_4 | d2_5 | d3_1 | d3_2 | d3_3 | d3_4 | d3_5 |\n",
       "|---|---|---|---|---|---|---|---|---|---|---|---|---|---|---|---|---|---|---|---|---|\n",
       "| 0        | Female   | 20       | bright   | bright   | clothes  | 3        | 3        | 4        | 3        | ...      | 0        | 1        | 0        | 0        | 0        | 1        | 0        | 0        | 0        | 0        |\n",
       "| 1        | Male     | 20       | harmony  | harmony  | clothes  | 5        | 5        | 5        | 4        | ...      | 0        | 1        | 0        | 0        | 0        | 0        | 0        | 1        | 0        | 0        |\n",
       "| 2        | Female   | 20       | bright   | bright   | clothes  | 5        | 5        | 5        | 4        | ...      | 0        | 1        | 0        | 0        | 0        | 1        | 0        | 0        | 0        | 0        |\n",
       "| 3        | Male     | 20       | bright   | harmony  | clothes  | 3        | 5        | 5        | 2        | ...      | 0        | 0        | 0        | 1        | 0        | 0        | 0        | 0        | 0        | 1        |\n",
       "| 4        | Female   | 20       | bright   | bright   | cosmetic | 3        | 2        | 4        | 3        | ...      | 0        | 0        | 1        | 0        | 0        | 1        | 0        | 0        | 0        | 0        |\n",
       "| 5        | Female   | 30       | harmony  | harmony  | clothes  | 4        | 3        | 2        | 2        | ...      | 0        | 0        | 0        | 1        | 0        | 0        | 0        | 0        | 0        | 1        |\n",
       "\n"
      ],
      "text/plain": [
       "  X sex    age_class definition need    purpose  interest comp triangle1\n",
       "1 0 Female 20        bright     bright  clothes  3        3    4        \n",
       "2 1 Male   20        harmony    harmony clothes  5        5    5        \n",
       "3 2 Female 20        bright     bright  clothes  5        5    5        \n",
       "4 3 Male   20        bright     harmony clothes  3        5    5        \n",
       "5 4 Female 20        bright     bright  cosmetic 3        2    4        \n",
       "6 5 Female 30        harmony    harmony clothes  4        3    2        \n",
       "  triangle2 ... d2_1 d2_2 d2_3 d2_4 d2_5 d3_1 d3_2 d3_3 d3_4 d3_5\n",
       "1 3         ... 0    1    0    0    0    1    0    0    0    0   \n",
       "2 4         ... 0    1    0    0    0    0    0    1    0    0   \n",
       "3 4         ... 0    1    0    0    0    1    0    0    0    0   \n",
       "4 2         ... 0    0    0    1    0    0    0    0    0    1   \n",
       "5 3         ... 0    0    1    0    0    1    0    0    0    0   \n",
       "6 2         ... 0    0    0    1    0    0    0    0    0    1   "
      ]
     },
     "metadata": {},
     "output_type": "display_data"
    }
   ],
   "source": [
    "head(survey)"
   ]
  },
  {
   "cell_type": "code",
   "execution_count": 6,
   "metadata": {},
   "outputs": [],
   "source": [
    "train <- survey[1:67, ]\n",
    "test <- survey[68:96, ]"
   ]
  },
  {
   "cell_type": "code",
   "execution_count": 7,
   "metadata": {},
   "outputs": [
    {
     "data": {
      "text/plain": [
       "\n",
       "Call:\n",
       "glm(formula = comp1 ~ sex + definition + need + purpose + interest, \n",
       "    family = binomial, data = train)\n",
       "\n",
       "Deviance Residuals: \n",
       "    Min       1Q   Median       3Q      Max  \n",
       "-1.0396  -0.6186  -0.4729  -0.3849   2.1713  \n",
       "\n",
       "Coefficients:\n",
       "                  Estimate Std. Error z value Pr(>|z|)\n",
       "(Intercept)        0.03723    1.38692   0.027    0.979\n",
       "sexMale           -0.16052    0.89015  -0.180    0.857\n",
       "definitionharmony -0.96164    0.84788  -1.134    0.257\n",
       "needharmony       -0.67891    0.82230  -0.826    0.409\n",
       "purposecosmetic   -0.59200    1.03444  -0.572    0.567\n",
       "purposeetc        -0.53810    1.02666  -0.524    0.600\n",
       "interest          -0.12346    0.32791  -0.377    0.707\n",
       "\n",
       "(Dispersion parameter for binomial family taken to be 1)\n",
       "\n",
       "    Null deviance: 59.836  on 66  degrees of freedom\n",
       "Residual deviance: 55.629  on 60  degrees of freedom\n",
       "AIC: 69.629\n",
       "\n",
       "Number of Fisher Scoring iterations: 5\n"
      ]
     },
     "metadata": {},
     "output_type": "display_data"
    }
   ],
   "source": [
    "model <- glm(comp1 ~ sex + definition + need + purpose \n",
    "              + interest, data =train, family = binomial)\n",
    "summary(model)"
   ]
  },
  {
   "cell_type": "code",
   "execution_count": 8,
   "metadata": {},
   "outputs": [
    {
     "data": {
      "text/html": [
       "<table>\n",
       "<thead><tr><th></th><th scope=col>Df</th><th scope=col>Deviance</th><th scope=col>Resid. Df</th><th scope=col>Resid. Dev</th><th scope=col>Pr(&gt;Chi)</th></tr></thead>\n",
       "<tbody>\n",
       "\t<tr><th scope=row>NULL</th><td>NA        </td><td>       NA </td><td>66        </td><td>59.83573  </td><td>        NA</td></tr>\n",
       "\t<tr><th scope=row>sex</th><td> 1        </td><td>0.1612433 </td><td>65        </td><td>59.67448  </td><td>0.68801443</td></tr>\n",
       "\t<tr><th scope=row>definition</th><td> 1        </td><td>2.8621996 </td><td>64        </td><td>56.81228  </td><td>0.09068341</td></tr>\n",
       "\t<tr><th scope=row>need</th><td> 1        </td><td>0.5485269 </td><td>63        </td><td>56.26376  </td><td>0.45892023</td></tr>\n",
       "\t<tr><th scope=row>purpose</th><td> 2        </td><td>0.4926346 </td><td>61        </td><td>55.77112  </td><td>0.78167417</td></tr>\n",
       "\t<tr><th scope=row>interest</th><td> 1        </td><td>0.1421683 </td><td>60        </td><td>55.62895  </td><td>0.70613486</td></tr>\n",
       "</tbody>\n",
       "</table>\n"
      ],
      "text/latex": [
       "\\begin{tabular}{r|lllll}\n",
       "  & Df & Deviance & Resid. Df & Resid. Dev & Pr(>Chi)\\\\\n",
       "\\hline\n",
       "\tNULL & NA         &        NA  & 66         & 59.83573   &         NA\\\\\n",
       "\tsex &  1         & 0.1612433  & 65         & 59.67448   & 0.68801443\\\\\n",
       "\tdefinition &  1         & 2.8621996  & 64         & 56.81228   & 0.09068341\\\\\n",
       "\tneed &  1         & 0.5485269  & 63         & 56.26376   & 0.45892023\\\\\n",
       "\tpurpose &  2         & 0.4926346  & 61         & 55.77112   & 0.78167417\\\\\n",
       "\tinterest &  1         & 0.1421683  & 60         & 55.62895   & 0.70613486\\\\\n",
       "\\end{tabular}\n"
      ],
      "text/markdown": [
       "\n",
       "| <!--/--> | Df | Deviance | Resid. Df | Resid. Dev | Pr(>Chi) |\n",
       "|---|---|---|---|---|---|\n",
       "| NULL | NA         |        NA  | 66         | 59.83573   |         NA |\n",
       "| sex |  1         | 0.1612433  | 65         | 59.67448   | 0.68801443 |\n",
       "| definition |  1         | 2.8621996  | 64         | 56.81228   | 0.09068341 |\n",
       "| need |  1         | 0.5485269  | 63         | 56.26376   | 0.45892023 |\n",
       "| purpose |  2         | 0.4926346  | 61         | 55.77112   | 0.78167417 |\n",
       "| interest |  1         | 0.1421683  | 60         | 55.62895   | 0.70613486 |\n",
       "\n"
      ],
      "text/plain": [
       "           Df Deviance  Resid. Df Resid. Dev Pr(>Chi)  \n",
       "NULL       NA        NA 66        59.83573           NA\n",
       "sex         1 0.1612433 65        59.67448   0.68801443\n",
       "definition  1 2.8621996 64        56.81228   0.09068341\n",
       "need        1 0.5485269 63        56.26376   0.45892023\n",
       "purpose     2 0.4926346 61        55.77112   0.78167417\n",
       "interest    1 0.1421683 60        55.62895   0.70613486"
      ]
     },
     "metadata": {},
     "output_type": "display_data"
    }
   ],
   "source": [
    "anova(model, test=\"Chisq\")"
   ]
  },
  {
   "cell_type": "code",
   "execution_count": 9,
   "metadata": {
    "scrolled": false
   },
   "outputs": [
    {
     "data": {
      "image/png": "[encoded data removed]",
      "text/plain": [
       "plot without title"
      ]
     },
     "metadata": {},
     "output_type": "display_data"
    }
   ],
   "source": [
    "p <- predict(model, newdata=test, type=\"response\")\n",
    "pr <- prediction(p, test$comp1)\n",
    "prf <- performance(pr, measure = \"tpr\", x.measure = \"fpr\")\n",
    "plot(prf)"
   ]
  },
  {
   "cell_type": "code",
   "execution_count": 10,
   "metadata": {},
   "outputs": [
    {
     "data": {
      "text/html": [
       "0.722222222222222"
      ],
      "text/latex": [
       "0.722222222222222"
      ],
      "text/markdown": [
       "0.722222222222222"
      ],
      "text/plain": [
       "[1] 0.7222222"
      ]
     },
     "metadata": {},
     "output_type": "display_data"
    }
   ],
   "source": [
    "auc <- performance(pr, measure = \"auc\")\n",
    "auc <- auc@y.values[[1]]\n",
    "auc"
   ]
  },
  {
   "cell_type": "code",
   "execution_count": 11,
   "metadata": {},
   "outputs": [
    {
     "data": {
      "text/plain": [
       "\n",
       "Call:\n",
       "glm(formula = comp2 ~ sex + definition + need + purpose + interest, \n",
       "    family = binomial, data = train)\n",
       "\n",
       "Deviance Residuals: \n",
       "    Min       1Q   Median       3Q      Max  \n",
       "-1.4454  -0.7706  -0.6584   0.9866   1.9991  \n",
       "\n",
       "Coefficients:\n",
       "                  Estimate Std. Error z value Pr(>|z|)  \n",
       "(Intercept)        -1.7515     1.1928  -1.468   0.1420  \n",
       "sexMale            -0.2212     0.7815  -0.283   0.7771  \n",
       "definitionharmony  -0.6550     0.8001  -0.819   0.4130  \n",
       "needharmony         0.9253     0.7472   1.238   0.2156  \n",
       "purposecosmetic     1.6698     0.8354   1.999   0.0456 *\n",
       "purposeetc          0.5104     0.8359   0.611   0.5414  \n",
       "interest            0.1385     0.2641   0.524   0.6000  \n",
       "---\n",
       "Signif. codes:  0 '***' 0.001 '**' 0.01 '*' 0.05 '.' 0.1 ' ' 1\n",
       "\n",
       "(Dispersion parameter for binomial family taken to be 1)\n",
       "\n",
       "    Null deviance: 81.686  on 66  degrees of freedom\n",
       "Residual deviance: 73.855  on 60  degrees of freedom\n",
       "AIC: 87.855\n",
       "\n",
       "Number of Fisher Scoring iterations: 4\n"
      ]
     },
     "metadata": {},
     "output_type": "display_data"
    },
    {
     "data": {
      "text/html": [
       "<table>\n",
       "<thead><tr><th></th><th scope=col>Df</th><th scope=col>Deviance</th><th scope=col>Resid. Df</th><th scope=col>Resid. Dev</th><th scope=col>Pr(&gt;Chi)</th></tr></thead>\n",
       "<tbody>\n",
       "\t<tr><th scope=row>NULL</th><td>NA       </td><td>       NA</td><td>66       </td><td>81.68565 </td><td>       NA</td></tr>\n",
       "\t<tr><th scope=row>sex</th><td> 1       </td><td>1.6687626</td><td>65       </td><td>80.01688 </td><td>0.1964244</td></tr>\n",
       "\t<tr><th scope=row>definition</th><td> 1       </td><td>0.1923399</td><td>64       </td><td>79.82454 </td><td>0.6609762</td></tr>\n",
       "\t<tr><th scope=row>need</th><td> 1       </td><td>1.3472124</td><td>63       </td><td>78.47733 </td><td>0.2457660</td></tr>\n",
       "\t<tr><th scope=row>purpose</th><td> 2       </td><td>4.3442992</td><td>61       </td><td>74.13303 </td><td>0.1139324</td></tr>\n",
       "\t<tr><th scope=row>interest</th><td> 1       </td><td>0.2781284</td><td>60       </td><td>73.85490 </td><td>0.5979306</td></tr>\n",
       "</tbody>\n",
       "</table>\n"
      ],
      "text/latex": [
       "\\begin{tabular}{r|lllll}\n",
       "  & Df & Deviance & Resid. Df & Resid. Dev & Pr(>Chi)\\\\\n",
       "\\hline\n",
       "\tNULL & NA        &        NA & 66        & 81.68565  &        NA\\\\\n",
       "\tsex &  1        & 1.6687626 & 65        & 80.01688  & 0.1964244\\\\\n",
       "\tdefinition &  1        & 0.1923399 & 64        & 79.82454  & 0.6609762\\\\\n",
       "\tneed &  1        & 1.3472124 & 63        & 78.47733  & 0.2457660\\\\\n",
       "\tpurpose &  2        & 4.3442992 & 61        & 74.13303  & 0.1139324\\\\\n",
       "\tinterest &  1        & 0.2781284 & 60        & 73.85490  & 0.5979306\\\\\n",
       "\\end{tabular}\n"
      ],
      "text/markdown": [
       "\n",
       "| <!--/--> | Df | Deviance | Resid. Df | Resid. Dev | Pr(>Chi) |\n",
       "|---|---|---|---|---|---|\n",
       "| NULL | NA        |        NA | 66        | 81.68565  |        NA |\n",
       "| sex |  1        | 1.6687626 | 65        | 80.01688  | 0.1964244 |\n",
       "| definition |  1        | 0.1923399 | 64        | 79.82454  | 0.6609762 |\n",
       "| need |  1        | 1.3472124 | 63        | 78.47733  | 0.2457660 |\n",
       "| purpose |  2        | 4.3442992 | 61        | 74.13303  | 0.1139324 |\n",
       "| interest |  1        | 0.2781284 | 60        | 73.85490  | 0.5979306 |\n",
       "\n"
      ],
      "text/plain": [
       "           Df Deviance  Resid. Df Resid. Dev Pr(>Chi) \n",
       "NULL       NA        NA 66        81.68565          NA\n",
       "sex         1 1.6687626 65        80.01688   0.1964244\n",
       "definition  1 0.1923399 64        79.82454   0.6609762\n",
       "need        1 1.3472124 63        78.47733   0.2457660\n",
       "purpose     2 4.3442992 61        74.13303   0.1139324\n",
       "interest    1 0.2781284 60        73.85490   0.5979306"
      ]
     },
     "metadata": {},
     "output_type": "display_data"
    },
    {
     "data": {
      "text/html": [
       "0.494047619047619"
      ],
      "text/latex": [
       "0.494047619047619"
      ],
      "text/markdown": [
       "0.494047619047619"
      ],
      "text/plain": [
       "[1] 0.4940476"
      ]
     },
     "metadata": {},
     "output_type": "display_data"
    },
    {
     "data": {
      "image/png": "[encoded data removed]",
      "text/plain": [
       "plot without title"
      ]
     },
     "metadata": {},
     "output_type": "display_data"
    }
   ],
   "source": [
    "model <- glm(comp2 ~ sex + definition + need + purpose \n",
    "              + interest, data =train, family = binomial)\n",
    "summary(model)\n",
    "\n",
    "\n",
    "anova(model, test=\"Chisq\")\n",
    "\n",
    "\n",
    "p <- predict(model, newdata=test, type=\"response\")\n",
    "pr <- prediction(p, test$comp2)\n",
    "prf <- performance(pr, measure = \"tpr\", x.measure = \"fpr\")\n",
    "plot(prf)\n",
    "\n",
    "auc <- performance(pr, measure = \"auc\")\n",
    "auc <- auc@y.values[[1]]\n",
    "auc"
   ]
  },
  {
   "cell_type": "code",
   "execution_count": 12,
   "metadata": {},
   "outputs": [
    {
     "data": {
      "text/plain": [
       "\n",
       "Call:\n",
       "glm(formula = comp3 ~ sex + definition + need + purpose + interest, \n",
       "    family = binomial, data = train)\n",
       "\n",
       "Deviance Residuals: \n",
       "    Min       1Q   Median       3Q      Max  \n",
       "-1.3812  -0.7722  -0.4031  -0.3168   2.2989  \n",
       "\n",
       "Coefficients:\n",
       "                  Estimate Std. Error z value Pr(>|z|)  \n",
       "(Intercept)       -1.69374    1.35888  -1.246   0.2126  \n",
       "sexMale           -0.07744    0.78926  -0.098   0.9218  \n",
       "definitionharmony  1.57963    0.97315   1.623   0.1045  \n",
       "needharmony       -1.30178    0.72202  -1.803   0.0714 .\n",
       "purposecosmetic   -1.70298    1.21550  -1.401   0.1612  \n",
       "purposeetc        -1.58879    1.02968  -1.543   0.1228  \n",
       "interest           0.14535    0.28835   0.504   0.6142  \n",
       "---\n",
       "Signif. codes:  0 '***' 0.001 '**' 0.01 '*' 0.05 '.' 0.1 ' ' 1\n",
       "\n",
       "(Dispersion parameter for binomial family taken to be 1)\n",
       "\n",
       "    Null deviance: 71.258  on 66  degrees of freedom\n",
       "Residual deviance: 62.217  on 60  degrees of freedom\n",
       "AIC: 76.217\n",
       "\n",
       "Number of Fisher Scoring iterations: 5\n"
      ]
     },
     "metadata": {},
     "output_type": "display_data"
    },
    {
     "data": {
      "text/html": [
       "<table>\n",
       "<thead><tr><th></th><th scope=col>Df</th><th scope=col>Deviance</th><th scope=col>Resid. Df</th><th scope=col>Resid. Dev</th><th scope=col>Pr(&gt;Chi)</th></tr></thead>\n",
       "<tbody>\n",
       "\t<tr><th scope=row>NULL</th><td>NA        </td><td>       NA </td><td>66        </td><td>71.25796  </td><td>        NA</td></tr>\n",
       "\t<tr><th scope=row>sex</th><td> 1        </td><td>1.0468927 </td><td>65        </td><td>70.21107  </td><td>0.30622380</td></tr>\n",
       "\t<tr><th scope=row>definition</th><td> 1        </td><td>0.8343359 </td><td>64        </td><td>69.37673  </td><td>0.36102175</td></tr>\n",
       "\t<tr><th scope=row>need</th><td> 1        </td><td>3.3815009 </td><td>63        </td><td>65.99523  </td><td>0.06593199</td></tr>\n",
       "\t<tr><th scope=row>purpose</th><td> 2        </td><td>3.5216012 </td><td>61        </td><td>62.47363  </td><td>0.17190718</td></tr>\n",
       "\t<tr><th scope=row>interest</th><td> 1        </td><td>0.2565195 </td><td>60        </td><td>62.21711  </td><td>0.61252148</td></tr>\n",
       "</tbody>\n",
       "</table>\n"
      ],
      "text/latex": [
       "\\begin{tabular}{r|lllll}\n",
       "  & Df & Deviance & Resid. Df & Resid. Dev & Pr(>Chi)\\\\\n",
       "\\hline\n",
       "\tNULL & NA         &        NA  & 66         & 71.25796   &         NA\\\\\n",
       "\tsex &  1         & 1.0468927  & 65         & 70.21107   & 0.30622380\\\\\n",
       "\tdefinition &  1         & 0.8343359  & 64         & 69.37673   & 0.36102175\\\\\n",
       "\tneed &  1         & 3.3815009  & 63         & 65.99523   & 0.06593199\\\\\n",
       "\tpurpose &  2         & 3.5216012  & 61         & 62.47363   & 0.17190718\\\\\n",
       "\tinterest &  1         & 0.2565195  & 60         & 62.21711   & 0.61252148\\\\\n",
       "\\end{tabular}\n"
      ],
      "text/markdown": [
       "\n",
       "| <!--/--> | Df | Deviance | Resid. Df | Resid. Dev | Pr(>Chi) |\n",
       "|---|---|---|---|---|---|\n",
       "| NULL | NA         |        NA  | 66         | 71.25796   |         NA |\n",
       "| sex |  1         | 1.0468927  | 65         | 70.21107   | 0.30622380 |\n",
       "| definition |  1         | 0.8343359  | 64         | 69.37673   | 0.36102175 |\n",
       "| need |  1         | 3.3815009  | 63         | 65.99523   | 0.06593199 |\n",
       "| purpose |  2         | 3.5216012  | 61         | 62.47363   | 0.17190718 |\n",
       "| interest |  1         | 0.2565195  | 60         | 62.21711   | 0.61252148 |\n",
       "\n"
      ],
      "text/plain": [
       "           Df Deviance  Resid. Df Resid. Dev Pr(>Chi)  \n",
       "NULL       NA        NA 66        71.25796           NA\n",
       "sex         1 1.0468927 65        70.21107   0.30622380\n",
       "definition  1 0.8343359 64        69.37673   0.36102175\n",
       "need        1 3.3815009 63        65.99523   0.06593199\n",
       "purpose     2 3.5216012 61        62.47363   0.17190718\n",
       "interest    1 0.2565195 60        62.21711   0.61252148"
      ]
     },
     "metadata": {},
     "output_type": "display_data"
    },
    {
     "data": {
      "text/html": [
       "0.553921568627451"
      ],
      "text/latex": [
       "0.553921568627451"
      ],
      "text/markdown": [
       "0.553921568627451"
      ],
      "text/plain": [
       "[1] 0.5539216"
      ]
     },
     "metadata": {},
     "output_type": "display_data"
    },
    {
     "data": {
      "image/png": "[encoded data removed]",
      "text/plain": [
       "plot without title"
      ]
     },
     "metadata": {},
     "output_type": "display_data"
    }
   ],
   "source": [
    "model <- glm(comp3 ~ sex + definition + need + purpose \n",
    "              + interest, data =train, family = binomial)\n",
    "summary(model)\n",
    "\n",
    "\n",
    "anova(model, test=\"Chisq\")\n",
    "\n",
    "\n",
    "p <- predict(model, newdata=test, type=\"response\")\n",
    "pr <- prediction(p, test$comp3)\n",
    "prf <- performance(pr, measure = \"tpr\", x.measure = \"fpr\")\n",
    "plot(prf)\n",
    "\n",
    "auc <- performance(pr, measure = \"auc\")\n",
    "auc <- auc@y.values[[1]]\n",
    "auc"
   ]
  },
  {
   "cell_type": "code",
   "execution_count": 13,
   "metadata": {},
   "outputs": [
    {
     "data": {
      "text/plain": [
       "\n",
       "Call:\n",
       "glm(formula = comp4 ~ sex + definition + need + purpose + interest, \n",
       "    family = binomial, data = train)\n",
       "\n",
       "Deviance Residuals: \n",
       "    Min       1Q   Median       3Q      Max  \n",
       "-1.3023  -0.4312  -0.3240  -0.2378   2.4565  \n",
       "\n",
       "Coefficients:\n",
       "                  Estimate Std. Error z value Pr(>|z|)  \n",
       "(Intercept)       -2.73151    1.99222  -1.371   0.1703  \n",
       "sexMale           -0.07128    1.28606  -0.055   0.9558  \n",
       "definitionharmony  1.04128    1.29352   0.805   0.4208  \n",
       "needharmony       -0.32902    0.90682  -0.363   0.7167  \n",
       "purposecosmetic    0.68702    1.51343   0.454   0.6499  \n",
       "purposeetc         2.56344    1.19307   2.149   0.0317 *\n",
       "interest          -0.29218    0.36059  -0.810   0.4178  \n",
       "---\n",
       "Signif. codes:  0 '***' 0.001 '**' 0.01 '*' 0.05 '.' 0.1 ' ' 1\n",
       "\n",
       "(Dispersion parameter for binomial family taken to be 1)\n",
       "\n",
       "    Null deviance: 52.867  on 66  degrees of freedom\n",
       "Residual deviance: 42.168  on 60  degrees of freedom\n",
       "AIC: 56.168\n",
       "\n",
       "Number of Fisher Scoring iterations: 5\n"
      ]
     },
     "metadata": {},
     "output_type": "display_data"
    },
    {
     "data": {
      "text/html": [
       "<table>\n",
       "<thead><tr><th></th><th scope=col>Df</th><th scope=col>Deviance</th><th scope=col>Resid. Df</th><th scope=col>Resid. Dev</th><th scope=col>Pr(&gt;Chi)</th></tr></thead>\n",
       "<tbody>\n",
       "\t<tr><th scope=row>NULL</th><td>NA        </td><td>        NA</td><td>66        </td><td>52.86738  </td><td>        NA</td></tr>\n",
       "\t<tr><th scope=row>sex</th><td> 1        </td><td>1.74956698</td><td>65        </td><td>51.11781  </td><td>0.18593118</td></tr>\n",
       "\t<tr><th scope=row>definition</th><td> 1        </td><td>1.90292431</td><td>64        </td><td>49.21489  </td><td>0.16775136</td></tr>\n",
       "\t<tr><th scope=row>need</th><td> 1        </td><td>0.09438654</td><td>63        </td><td>49.12050  </td><td>0.75867294</td></tr>\n",
       "\t<tr><th scope=row>purpose</th><td> 2        </td><td>6.27261332</td><td>61        </td><td>42.84789  </td><td>0.04344295</td></tr>\n",
       "\t<tr><th scope=row>interest</th><td> 1        </td><td>0.67978657</td><td>60        </td><td>42.16810  </td><td>0.40966023</td></tr>\n",
       "</tbody>\n",
       "</table>\n"
      ],
      "text/latex": [
       "\\begin{tabular}{r|lllll}\n",
       "  & Df & Deviance & Resid. Df & Resid. Dev & Pr(>Chi)\\\\\n",
       "\\hline\n",
       "\tNULL & NA         &         NA & 66         & 52.86738   &         NA\\\\\n",
       "\tsex &  1         & 1.74956698 & 65         & 51.11781   & 0.18593118\\\\\n",
       "\tdefinition &  1         & 1.90292431 & 64         & 49.21489   & 0.16775136\\\\\n",
       "\tneed &  1         & 0.09438654 & 63         & 49.12050   & 0.75867294\\\\\n",
       "\tpurpose &  2         & 6.27261332 & 61         & 42.84789   & 0.04344295\\\\\n",
       "\tinterest &  1         & 0.67978657 & 60         & 42.16810   & 0.40966023\\\\\n",
       "\\end{tabular}\n"
      ],
      "text/markdown": [
       "\n",
       "| <!--/--> | Df | Deviance | Resid. Df | Resid. Dev | Pr(>Chi) |\n",
       "|---|---|---|---|---|---|\n",
       "| NULL | NA         |         NA | 66         | 52.86738   |         NA |\n",
       "| sex |  1         | 1.74956698 | 65         | 51.11781   | 0.18593118 |\n",
       "| definition |  1         | 1.90292431 | 64         | 49.21489   | 0.16775136 |\n",
       "| need |  1         | 0.09438654 | 63         | 49.12050   | 0.75867294 |\n",
       "| purpose |  2         | 6.27261332 | 61         | 42.84789   | 0.04344295 |\n",
       "| interest |  1         | 0.67978657 | 60         | 42.16810   | 0.40966023 |\n",
       "\n"
      ],
      "text/plain": [
       "           Df Deviance   Resid. Df Resid. Dev Pr(>Chi)  \n",
       "NULL       NA         NA 66        52.86738           NA\n",
       "sex         1 1.74956698 65        51.11781   0.18593118\n",
       "definition  1 1.90292431 64        49.21489   0.16775136\n",
       "need        1 0.09438654 63        49.12050   0.75867294\n",
       "purpose     2 6.27261332 61        42.84789   0.04344295\n",
       "interest    1 0.67978657 60        42.16810   0.40966023"
      ]
     },
     "metadata": {},
     "output_type": "display_data"
    },
    {
     "data": {
      "text/html": [
       "0.397435897435897"
      ],
      "text/latex": [
       "0.397435897435897"
      ],
      "text/markdown": [
       "0.397435897435897"
      ],
      "text/plain": [
       "[1] 0.3974359"
      ]
     },
     "metadata": {},
     "output_type": "display_data"
    },
    {
     "data": {
      "image/png": "[encoded data removed]",
      "text/plain": [
       "plot without title"
      ]
     },
     "metadata": {},
     "output_type": "display_data"
    }
   ],
   "source": [
    "model <- glm(comp4 ~ sex + definition + need + purpose \n",
    "              + interest, data =train, family = binomial)\n",
    "summary(model)\n",
    "\n",
    "\n",
    "anova(model, test=\"Chisq\")\n",
    "\n",
    "\n",
    "p <- predict(model, newdata=test, type=\"response\")\n",
    "pr <- prediction(p, test$comp4)\n",
    "prf <- performance(pr, measure = \"tpr\", x.measure = \"fpr\")\n",
    "plot(prf)\n",
    "\n",
    "auc <- performance(pr, measure = \"auc\")\n",
    "auc <- auc@y.values[[1]]\n",
    "auc"
   ]
  },
  {
   "cell_type": "code",
   "execution_count": 14,
   "metadata": {},
   "outputs": [
    {
     "data": {
      "text/plain": [
       "\n",
       "Call:\n",
       "glm(formula = comp5 ~ sex + definition + need + purpose + interest, \n",
       "    family = binomial, data = train)\n",
       "\n",
       "Deviance Residuals: \n",
       "    Min       1Q   Median       3Q      Max  \n",
       "-0.9768  -0.7079  -0.4419  -0.2239   2.1783  \n",
       "\n",
       "Coefficients:\n",
       "                   Estimate Std. Error z value Pr(>|z|)\n",
       "(Intercept)       -2.081895   1.434304  -1.452    0.147\n",
       "sexMale            0.445453   0.840704   0.530    0.596\n",
       "definitionharmony -0.558541   1.087503  -0.514    0.608\n",
       "needharmony        1.581034   0.991220   1.595    0.111\n",
       "purposecosmetic   -0.877305   1.220488  -0.719    0.472\n",
       "purposeetc        -1.226702   1.239784  -0.989    0.322\n",
       "interest           0.002879   0.304397   0.009    0.992\n",
       "\n",
       "(Dispersion parameter for binomial family taken to be 1)\n",
       "\n",
       "    Null deviance: 62.984  on 66  degrees of freedom\n",
       "Residual deviance: 54.723  on 60  degrees of freedom\n",
       "AIC: 68.723\n",
       "\n",
       "Number of Fisher Scoring iterations: 5\n"
      ]
     },
     "metadata": {},
     "output_type": "display_data"
    },
    {
     "data": {
      "text/html": [
       "<table>\n",
       "<thead><tr><th></th><th scope=col>Df</th><th scope=col>Deviance</th><th scope=col>Resid. Df</th><th scope=col>Resid. Dev</th><th scope=col>Pr(&gt;Chi)</th></tr></thead>\n",
       "<tbody>\n",
       "\t<tr><th scope=row>NULL</th><td>NA          </td><td>          NA</td><td>66          </td><td>62.98440    </td><td>        NA  </td></tr>\n",
       "\t<tr><th scope=row>sex</th><td> 1          </td><td>3.688215e+00</td><td>65          </td><td>59.29619    </td><td>0.05479824  </td></tr>\n",
       "\t<tr><th scope=row>definition</th><td> 1          </td><td>2.738646e-02</td><td>64          </td><td>59.26880    </td><td>0.86855946  </td></tr>\n",
       "\t<tr><th scope=row>need</th><td> 1          </td><td>3.229252e+00</td><td>63          </td><td>56.03955    </td><td>0.07233370  </td></tr>\n",
       "\t<tr><th scope=row>purpose</th><td> 2          </td><td>1.316439e+00</td><td>61          </td><td>54.72311    </td><td>0.51777248  </td></tr>\n",
       "\t<tr><th scope=row>interest</th><td> 1          </td><td>8.948094e-05</td><td>60          </td><td>54.72302    </td><td>0.99245257  </td></tr>\n",
       "</tbody>\n",
       "</table>\n"
      ],
      "text/latex": [
       "\\begin{tabular}{r|lllll}\n",
       "  & Df & Deviance & Resid. Df & Resid. Dev & Pr(>Chi)\\\\\n",
       "\\hline\n",
       "\tNULL & NA           &           NA & 66           & 62.98440     &         NA  \\\\\n",
       "\tsex &  1           & 3.688215e+00 & 65           & 59.29619     & 0.05479824  \\\\\n",
       "\tdefinition &  1           & 2.738646e-02 & 64           & 59.26880     & 0.86855946  \\\\\n",
       "\tneed &  1           & 3.229252e+00 & 63           & 56.03955     & 0.07233370  \\\\\n",
       "\tpurpose &  2           & 1.316439e+00 & 61           & 54.72311     & 0.51777248  \\\\\n",
       "\tinterest &  1           & 8.948094e-05 & 60           & 54.72302     & 0.99245257  \\\\\n",
       "\\end{tabular}\n"
      ],
      "text/markdown": [
       "\n",
       "| <!--/--> | Df | Deviance | Resid. Df | Resid. Dev | Pr(>Chi) |\n",
       "|---|---|---|---|---|---|\n",
       "| NULL | NA           |           NA | 66           | 62.98440     |         NA   |\n",
       "| sex |  1           | 3.688215e+00 | 65           | 59.29619     | 0.05479824   |\n",
       "| definition |  1           | 2.738646e-02 | 64           | 59.26880     | 0.86855946   |\n",
       "| need |  1           | 3.229252e+00 | 63           | 56.03955     | 0.07233370   |\n",
       "| purpose |  2           | 1.316439e+00 | 61           | 54.72311     | 0.51777248   |\n",
       "| interest |  1           | 8.948094e-05 | 60           | 54.72302     | 0.99245257   |\n",
       "\n"
      ],
      "text/plain": [
       "           Df Deviance     Resid. Df Resid. Dev Pr(>Chi)  \n",
       "NULL       NA           NA 66        62.98440           NA\n",
       "sex         1 3.688215e+00 65        59.29619   0.05479824\n",
       "definition  1 2.738646e-02 64        59.26880   0.86855946\n",
       "need        1 3.229252e+00 63        56.03955   0.07233370\n",
       "purpose     2 1.316439e+00 61        54.72311   0.51777248\n",
       "interest    1 8.948094e-05 60        54.72302   0.99245257"
      ]
     },
     "metadata": {},
     "output_type": "display_data"
    },
    {
     "data": {
      "text/html": [
       "0.42"
      ],
      "text/latex": [
       "0.42"
      ],
      "text/markdown": [
       "0.42"
      ],
      "text/plain": [
       "[1] 0.42"
      ]
     },
     "metadata": {},
     "output_type": "display_data"
    },
    {
     "data": {
      "image/png": "[encoded data removed]",
      "text/plain": [
       "plot without title"
      ]
     },
     "metadata": {},
     "output_type": "display_data"
    }
   ],
   "source": [
    "model <- glm(comp5 ~ sex + definition + need + purpose \n",
    "              + interest, data =train, family = binomial)\n",
    "summary(model)\n",
    "\n",
    "\n",
    "anova(model, test=\"Chisq\")\n",
    "\n",
    "\n",
    "p <- predict(model, newdata=test, type=\"response\")\n",
    "pr <- prediction(p, test$comp5)\n",
    "prf <- performance(pr, measure = \"tpr\", x.measure = \"fpr\")\n",
    "plot(prf)\n",
    "\n",
    "auc <- performance(pr, measure = \"auc\")\n",
    "auc <- auc@y.values[[1]]\n",
    "auc"
   ]
  },
  {
   "cell_type": "code",
   "execution_count": 15,
   "metadata": {},
   "outputs": [
    {
     "data": {
      "text/plain": [
       "\n",
       "Call:\n",
       "glm(formula = t1_1 ~ sex + definition + need + purpose + interest, \n",
       "    family = binomial, data = train)\n",
       "\n",
       "Deviance Residuals: \n",
       "    Min       1Q   Median       3Q      Max  \n",
       "-0.5210  -0.4311  -0.3698  -0.3276   2.4307  \n",
       "\n",
       "Coefficients:\n",
       "                  Estimate Std. Error z value Pr(>|z|)  \n",
       "(Intercept)       -3.45836    1.98536  -1.742   0.0815 .\n",
       "sexMale           -0.32463    1.20340  -0.270   0.7873  \n",
       "definitionharmony  0.38918    1.36074   0.286   0.7749  \n",
       "needharmony        0.15413    1.12708   0.137   0.8912  \n",
       "purposecosmetic   -0.02301    1.34425  -0.017   0.9863  \n",
       "purposeetc        -0.56596    1.43419  -0.395   0.6931  \n",
       "interest           0.24664    0.43904   0.562   0.5743  \n",
       "---\n",
       "Signif. codes:  0 '***' 0.001 '**' 0.01 '*' 0.05 '.' 0.1 ' ' 1\n",
       "\n",
       "(Dispersion parameter for binomial family taken to be 1)\n",
       "\n",
       "    Null deviance: 35.570  on 66  degrees of freedom\n",
       "Residual deviance: 35.069  on 60  degrees of freedom\n",
       "AIC: 49.069\n",
       "\n",
       "Number of Fisher Scoring iterations: 5\n"
      ]
     },
     "metadata": {},
     "output_type": "display_data"
    },
    {
     "data": {
      "text/html": [
       "<table>\n",
       "<thead><tr><th></th><th scope=col>Df</th><th scope=col>Deviance</th><th scope=col>Resid. Df</th><th scope=col>Resid. Dev</th><th scope=col>Pr(&gt;Chi)</th></tr></thead>\n",
       "<tbody>\n",
       "\t<tr><th scope=row>NULL</th><td>NA         </td><td>         NA</td><td>66         </td><td>35.56977   </td><td>       NA  </td></tr>\n",
       "\t<tr><th scope=row>sex</th><td> 1         </td><td>0.007153161</td><td>65         </td><td>35.56261   </td><td>0.9325982  </td></tr>\n",
       "\t<tr><th scope=row>definition</th><td> 1         </td><td>0.060058258</td><td>64         </td><td>35.50256   </td><td>0.8064039  </td></tr>\n",
       "\t<tr><th scope=row>need</th><td> 1         </td><td>0.007779336</td><td>63         </td><td>35.49478   </td><td>0.9297173  </td></tr>\n",
       "\t<tr><th scope=row>purpose</th><td> 2         </td><td>0.102056672</td><td>61         </td><td>35.39272   </td><td>0.9502517  </td></tr>\n",
       "\t<tr><th scope=row>interest</th><td> 1         </td><td>0.323346861</td><td>60         </td><td>35.06937   </td><td>0.5696032  </td></tr>\n",
       "</tbody>\n",
       "</table>\n"
      ],
      "text/latex": [
       "\\begin{tabular}{r|lllll}\n",
       "  & Df & Deviance & Resid. Df & Resid. Dev & Pr(>Chi)\\\\\n",
       "\\hline\n",
       "\tNULL & NA          &          NA & 66          & 35.56977    &        NA  \\\\\n",
       "\tsex &  1          & 0.007153161 & 65          & 35.56261    & 0.9325982  \\\\\n",
       "\tdefinition &  1          & 0.060058258 & 64          & 35.50256    & 0.8064039  \\\\\n",
       "\tneed &  1          & 0.007779336 & 63          & 35.49478    & 0.9297173  \\\\\n",
       "\tpurpose &  2          & 0.102056672 & 61          & 35.39272    & 0.9502517  \\\\\n",
       "\tinterest &  1          & 0.323346861 & 60          & 35.06937    & 0.5696032  \\\\\n",
       "\\end{tabular}\n"
      ],
      "text/markdown": [
       "\n",
       "| <!--/--> | Df | Deviance | Resid. Df | Resid. Dev | Pr(>Chi) |\n",
       "|---|---|---|---|---|---|\n",
       "| NULL | NA          |          NA | 66          | 35.56977    |        NA   |\n",
       "| sex |  1          | 0.007153161 | 65          | 35.56261    | 0.9325982   |\n",
       "| definition |  1          | 0.060058258 | 64          | 35.50256    | 0.8064039   |\n",
       "| need |  1          | 0.007779336 | 63          | 35.49478    | 0.9297173   |\n",
       "| purpose |  2          | 0.102056672 | 61          | 35.39272    | 0.9502517   |\n",
       "| interest |  1          | 0.323346861 | 60          | 35.06937    | 0.5696032   |\n",
       "\n"
      ],
      "text/plain": [
       "           Df Deviance    Resid. Df Resid. Dev Pr(>Chi) \n",
       "NULL       NA          NA 66        35.56977          NA\n",
       "sex         1 0.007153161 65        35.56261   0.9325982\n",
       "definition  1 0.060058258 64        35.50256   0.8064039\n",
       "need        1 0.007779336 63        35.49478   0.9297173\n",
       "purpose     2 0.102056672 61        35.39272   0.9502517\n",
       "interest    1 0.323346861 60        35.06937   0.5696032"
      ]
     },
     "metadata": {},
     "output_type": "display_data"
    },
    {
     "data": {
      "text/html": [
       "0.391025641025641"
      ],
      "text/latex": [
       "0.391025641025641"
      ],
      "text/markdown": [
       "0.391025641025641"
      ],
      "text/plain": [
       "[1] 0.3910256"
      ]
     },
     "metadata": {},
     "output_type": "display_data"
    },
    {
     "data": {
      "image/png": "[encoded data removed]",
      "text/plain": [
       "plot without title"
      ]
     },
     "metadata": {},
     "output_type": "display_data"
    }
   ],
   "source": [
    "model <- glm(t1_1 ~ sex + definition + need + purpose \n",
    "              + interest, data =train, family = binomial)\n",
    "summary(model)\n",
    "\n",
    "\n",
    "anova(model, test=\"Chisq\")\n",
    "\n",
    "\n",
    "p <- predict(model, newdata=test, type=\"response\")\n",
    "pr <- prediction(p, test$t1_1)\n",
    "prf <- performance(pr, measure = \"tpr\", x.measure = \"fpr\")\n",
    "plot(prf)\n",
    "\n",
    "auc <- performance(pr, measure = \"auc\")\n",
    "auc <- auc@y.values[[1]]\n",
    "auc"
   ]
  },
  {
   "cell_type": "code",
   "execution_count": 16,
   "metadata": {},
   "outputs": [
    {
     "data": {
      "text/plain": [
       "\n",
       "Call:\n",
       "glm(formula = t1_2 ~ sex + definition + need + purpose + interest, \n",
       "    family = binomial, data = train)\n",
       "\n",
       "Deviance Residuals: \n",
       "     Min        1Q    Median        3Q       Max  \n",
       "-0.98357  -0.57206  -0.47314  -0.00014   2.41768  \n",
       "\n",
       "Coefficients:\n",
       "                   Estimate Std. Error z value Pr(>|z|)\n",
       "(Intercept)         -1.2397     1.7321  -0.716    0.474\n",
       "sexMale              0.6848     0.9892   0.692    0.489\n",
       "definitionharmony    0.3749     1.2480   0.300    0.764\n",
       "needharmony         -0.1032     0.8586  -0.120    0.904\n",
       "purposecosmetic    -16.4673  1860.3691  -0.009    0.993\n",
       "purposeetc           0.1675     1.0811   0.155    0.877\n",
       "interest            -0.3590     0.3383  -1.061    0.289\n",
       "\n",
       "(Dispersion parameter for binomial family taken to be 1)\n",
       "\n",
       "    Null deviance: 52.867  on 66  degrees of freedom\n",
       "Residual deviance: 46.186  on 60  degrees of freedom\n",
       "AIC: 60.186\n",
       "\n",
       "Number of Fisher Scoring iterations: 17\n"
      ]
     },
     "metadata": {},
     "output_type": "display_data"
    },
    {
     "data": {
      "text/html": [
       "<table>\n",
       "<thead><tr><th></th><th scope=col>Df</th><th scope=col>Deviance</th><th scope=col>Resid. Df</th><th scope=col>Resid. Dev</th><th scope=col>Pr(&gt;Chi)</th></tr></thead>\n",
       "<tbody>\n",
       "\t<tr><th scope=row>NULL</th><td>NA        </td><td>        NA</td><td>66        </td><td>52.86738  </td><td>       NA </td></tr>\n",
       "\t<tr><th scope=row>sex</th><td> 1        </td><td>2.61813729</td><td>65        </td><td>50.24924  </td><td>0.1056484 </td></tr>\n",
       "\t<tr><th scope=row>definition</th><td> 1        </td><td>0.42385117</td><td>64        </td><td>49.82539  </td><td>0.5150216 </td></tr>\n",
       "\t<tr><th scope=row>need</th><td> 1        </td><td>0.01364007</td><td>63        </td><td>49.81175  </td><td>0.9070259 </td></tr>\n",
       "\t<tr><th scope=row>purpose</th><td> 2        </td><td>2.45074373</td><td>61        </td><td>47.36101  </td><td>0.2936485 </td></tr>\n",
       "\t<tr><th scope=row>interest</th><td> 1        </td><td>1.17520356</td><td>60        </td><td>46.18580  </td><td>0.2783346 </td></tr>\n",
       "</tbody>\n",
       "</table>\n"
      ],
      "text/latex": [
       "\\begin{tabular}{r|lllll}\n",
       "  & Df & Deviance & Resid. Df & Resid. Dev & Pr(>Chi)\\\\\n",
       "\\hline\n",
       "\tNULL & NA         &         NA & 66         & 52.86738   &        NA \\\\\n",
       "\tsex &  1         & 2.61813729 & 65         & 50.24924   & 0.1056484 \\\\\n",
       "\tdefinition &  1         & 0.42385117 & 64         & 49.82539   & 0.5150216 \\\\\n",
       "\tneed &  1         & 0.01364007 & 63         & 49.81175   & 0.9070259 \\\\\n",
       "\tpurpose &  2         & 2.45074373 & 61         & 47.36101   & 0.2936485 \\\\\n",
       "\tinterest &  1         & 1.17520356 & 60         & 46.18580   & 0.2783346 \\\\\n",
       "\\end{tabular}\n"
      ],
      "text/markdown": [
       "\n",
       "| <!--/--> | Df | Deviance | Resid. Df | Resid. Dev | Pr(>Chi) |\n",
       "|---|---|---|---|---|---|\n",
       "| NULL | NA         |         NA | 66         | 52.86738   |        NA  |\n",
       "| sex |  1         | 2.61813729 | 65         | 50.24924   | 0.1056484  |\n",
       "| definition |  1         | 0.42385117 | 64         | 49.82539   | 0.5150216  |\n",
       "| need |  1         | 0.01364007 | 63         | 49.81175   | 0.9070259  |\n",
       "| purpose |  2         | 2.45074373 | 61         | 47.36101   | 0.2936485  |\n",
       "| interest |  1         | 1.17520356 | 60         | 46.18580   | 0.2783346  |\n",
       "\n"
      ],
      "text/plain": [
       "           Df Deviance   Resid. Df Resid. Dev Pr(>Chi) \n",
       "NULL       NA         NA 66        52.86738          NA\n",
       "sex         1 2.61813729 65        50.24924   0.1056484\n",
       "definition  1 0.42385117 64        49.82539   0.5150216\n",
       "need        1 0.01364007 63        49.81175   0.9070259\n",
       "purpose     2 2.45074373 61        47.36101   0.2936485\n",
       "interest    1 1.17520356 60        46.18580   0.2783346"
      ]
     },
     "metadata": {},
     "output_type": "display_data"
    },
    {
     "data": {
      "text/html": [
       "0.520833333333333"
      ],
      "text/latex": [
       "0.520833333333333"
      ],
      "text/markdown": [
       "0.520833333333333"
      ],
      "text/plain": [
       "[1] 0.5208333"
      ]
     },
     "metadata": {},
     "output_type": "display_data"
    },
    {
     "data": {
      "image/png": "[encoded data removed]",
      "text/plain": [
       "plot without title"
      ]
     },
     "metadata": {},
     "output_type": "display_data"
    }
   ],
   "source": [
    "model <- glm(t1_2 ~ sex + definition + need + purpose \n",
    "              + interest, data =train, family = binomial)\n",
    "summary(model)\n",
    "\n",
    "\n",
    "anova(model, test=\"Chisq\")\n",
    "\n",
    "\n",
    "p <- predict(model, newdata=test, type=\"response\")\n",
    "pr <- prediction(p, test$t1_2)\n",
    "prf <- performance(pr, measure = \"tpr\", x.measure = \"fpr\")\n",
    "plot(prf)\n",
    "\n",
    "auc <- performance(pr, measure = \"auc\")\n",
    "auc <- auc@y.values[[1]]\n",
    "auc"
   ]
  },
  {
   "cell_type": "code",
   "execution_count": 17,
   "metadata": {},
   "outputs": [
    {
     "data": {
      "text/plain": [
       "\n",
       "Call:\n",
       "glm(formula = t1_3 ~ sex + definition + need + purpose + interest, \n",
       "    family = binomial, data = train)\n",
       "\n",
       "Deviance Residuals: \n",
       "    Min       1Q   Median       3Q      Max  \n",
       "-1.2032  -0.7441  -0.5660   0.3366   2.2101  \n",
       "\n",
       "Coefficients:\n",
       "                   Estimate Std. Error z value Pr(>|z|)\n",
       "(Intercept)       -0.990593   1.227750  -0.807    0.420\n",
       "sexMale           -0.944546   0.804730  -1.174    0.240\n",
       "definitionharmony -0.106139   0.820437  -0.129    0.897\n",
       "needharmony        0.477147   0.720954   0.662    0.508\n",
       "purposecosmetic    0.005733   0.883934   0.006    0.995\n",
       "purposeetc         0.866205   0.788421   1.099    0.272\n",
       "interest          -0.062005   0.273004  -0.227    0.820\n",
       "\n",
       "(Dispersion parameter for binomial family taken to be 1)\n",
       "\n",
       "    Null deviance: 75.897  on 66  degrees of freedom\n",
       "Residual deviance: 70.437  on 60  degrees of freedom\n",
       "AIC: 84.437\n",
       "\n",
       "Number of Fisher Scoring iterations: 4\n"
      ]
     },
     "metadata": {},
     "output_type": "display_data"
    },
    {
     "data": {
      "text/html": [
       "<table>\n",
       "<thead><tr><th></th><th scope=col>Df</th><th scope=col>Deviance</th><th scope=col>Resid. Df</th><th scope=col>Resid. Dev</th><th scope=col>Pr(&gt;Chi)</th></tr></thead>\n",
       "<tbody>\n",
       "\t<tr><th scope=row>NULL</th><td>NA        </td><td>        NA</td><td>66        </td><td>75.89726  </td><td>        NA</td></tr>\n",
       "\t<tr><th scope=row>sex</th><td> 1        </td><td>3.28263781</td><td>65        </td><td>72.61462  </td><td>0.07001631</td></tr>\n",
       "\t<tr><th scope=row>definition</th><td> 1        </td><td>0.26333198</td><td>64        </td><td>72.35129  </td><td>0.60784023</td></tr>\n",
       "\t<tr><th scope=row>need</th><td> 1        </td><td>0.40588114</td><td>63        </td><td>71.94541  </td><td>0.52406751</td></tr>\n",
       "\t<tr><th scope=row>purpose</th><td> 2        </td><td>1.45637848</td><td>61        </td><td>70.48903  </td><td>0.48278240</td></tr>\n",
       "\t<tr><th scope=row>interest</th><td> 1        </td><td>0.05162331</td><td>60        </td><td>70.43740  </td><td>0.82026230</td></tr>\n",
       "</tbody>\n",
       "</table>\n"
      ],
      "text/latex": [
       "\\begin{tabular}{r|lllll}\n",
       "  & Df & Deviance & Resid. Df & Resid. Dev & Pr(>Chi)\\\\\n",
       "\\hline\n",
       "\tNULL & NA         &         NA & 66         & 75.89726   &         NA\\\\\n",
       "\tsex &  1         & 3.28263781 & 65         & 72.61462   & 0.07001631\\\\\n",
       "\tdefinition &  1         & 0.26333198 & 64         & 72.35129   & 0.60784023\\\\\n",
       "\tneed &  1         & 0.40588114 & 63         & 71.94541   & 0.52406751\\\\\n",
       "\tpurpose &  2         & 1.45637848 & 61         & 70.48903   & 0.48278240\\\\\n",
       "\tinterest &  1         & 0.05162331 & 60         & 70.43740   & 0.82026230\\\\\n",
       "\\end{tabular}\n"
      ],
      "text/markdown": [
       "\n",
       "| <!--/--> | Df | Deviance | Resid. Df | Resid. Dev | Pr(>Chi) |\n",
       "|---|---|---|---|---|---|\n",
       "| NULL | NA         |         NA | 66         | 75.89726   |         NA |\n",
       "| sex |  1         | 3.28263781 | 65         | 72.61462   | 0.07001631 |\n",
       "| definition |  1         | 0.26333198 | 64         | 72.35129   | 0.60784023 |\n",
       "| need |  1         | 0.40588114 | 63         | 71.94541   | 0.52406751 |\n",
       "| purpose |  2         | 1.45637848 | 61         | 70.48903   | 0.48278240 |\n",
       "| interest |  1         | 0.05162331 | 60         | 70.43740   | 0.82026230 |\n",
       "\n"
      ],
      "text/plain": [
       "           Df Deviance   Resid. Df Resid. Dev Pr(>Chi)  \n",
       "NULL       NA         NA 66        75.89726           NA\n",
       "sex         1 3.28263781 65        72.61462   0.07001631\n",
       "definition  1 0.26333198 64        72.35129   0.60784023\n",
       "need        1 0.40588114 63        71.94541   0.52406751\n",
       "purpose     2 1.45637848 61        70.48903   0.48278240\n",
       "interest    1 0.05162331 60        70.43740   0.82026230"
      ]
     },
     "metadata": {},
     "output_type": "display_data"
    },
    {
     "data": {
      "text/html": [
       "0.544117647058823"
      ],
      "text/latex": [
       "0.544117647058823"
      ],
      "text/markdown": [
       "0.544117647058823"
      ],
      "text/plain": [
       "[1] 0.5441176"
      ]
     },
     "metadata": {},
     "output_type": "display_data"
    },
    {
     "data": {
      "image/png": "[encoded data removed]",
      "text/plain": [
       "plot without title"
      ]
     },
     "metadata": {},
     "output_type": "display_data"
    }
   ],
   "source": [
    "model <- glm(t1_3 ~ sex + definition + need + purpose \n",
    "              + interest, data =train, family = binomial)\n",
    "summary(model)\n",
    "\n",
    "\n",
    "anova(model, test=\"Chisq\")\n",
    "\n",
    "\n",
    "p <- predict(model, newdata=test, type=\"response\")\n",
    "pr <- prediction(p, test$t1_3)\n",
    "prf <- performance(pr, measure = \"tpr\", x.measure = \"fpr\")\n",
    "plot(prf)\n",
    "\n",
    "auc <- performance(pr, measure = \"auc\")\n",
    "auc <- auc@y.values[[1]]\n",
    "auc"
   ]
  },
  {
   "cell_type": "code",
   "execution_count": 18,
   "metadata": {},
   "outputs": [
    {
     "data": {
      "text/plain": [
       "\n",
       "Call:\n",
       "glm(formula = t1_4 ~ sex + definition + need + purpose + interest, \n",
       "    family = binomial, data = train)\n",
       "\n",
       "Deviance Residuals: \n",
       "    Min       1Q   Median       3Q      Max  \n",
       "-0.9353  -0.6611  -0.4800  -0.4178   2.1179  \n",
       "\n",
       "Coefficients:\n",
       "                  Estimate Std. Error z value Pr(>|z|)\n",
       "(Intercept)        -1.7727     1.3826  -1.282    0.200\n",
       "sexMale            -0.5308     0.9291  -0.571    0.568\n",
       "definitionharmony  -0.8588     0.9207  -0.933    0.351\n",
       "needharmony         0.6353     0.8869   0.716    0.474\n",
       "purposecosmetic     0.5116     0.9386   0.545    0.586\n",
       "purposeetc          0.1901     0.9782   0.194    0.846\n",
       "interest            0.1321     0.3220   0.410    0.682\n",
       "\n",
       "(Dispersion parameter for binomial family taken to be 1)\n",
       "\n",
       "    Null deviance: 59.836  on 66  degrees of freedom\n",
       "Residual deviance: 57.175  on 60  degrees of freedom\n",
       "AIC: 71.175\n",
       "\n",
       "Number of Fisher Scoring iterations: 5\n"
      ]
     },
     "metadata": {},
     "output_type": "display_data"
    },
    {
     "data": {
      "text/html": [
       "<table>\n",
       "<thead><tr><th></th><th scope=col>Df</th><th scope=col>Deviance</th><th scope=col>Resid. Df</th><th scope=col>Resid. Dev</th><th scope=col>Pr(&gt;Chi)</th></tr></thead>\n",
       "<tbody>\n",
       "\t<tr><th scope=row>NULL</th><td>NA       </td><td>       NA</td><td>66       </td><td>59.83573 </td><td>       NA</td></tr>\n",
       "\t<tr><th scope=row>sex</th><td> 1       </td><td>1.1882010</td><td>65       </td><td>58.64752 </td><td>0.2756927</td></tr>\n",
       "\t<tr><th scope=row>definition</th><td> 1       </td><td>0.5870211</td><td>64       </td><td>58.06050 </td><td>0.4435734</td></tr>\n",
       "\t<tr><th scope=row>need</th><td> 1       </td><td>0.4298919</td><td>63       </td><td>57.63061 </td><td>0.5120420</td></tr>\n",
       "\t<tr><th scope=row>purpose</th><td> 2       </td><td>0.2855626</td><td>61       </td><td>57.34505 </td><td>0.8669436</td></tr>\n",
       "\t<tr><th scope=row>interest</th><td> 1       </td><td>0.1699540</td><td>60       </td><td>57.17510 </td><td>0.6801527</td></tr>\n",
       "</tbody>\n",
       "</table>\n"
      ],
      "text/latex": [
       "\\begin{tabular}{r|lllll}\n",
       "  & Df & Deviance & Resid. Df & Resid. Dev & Pr(>Chi)\\\\\n",
       "\\hline\n",
       "\tNULL & NA        &        NA & 66        & 59.83573  &        NA\\\\\n",
       "\tsex &  1        & 1.1882010 & 65        & 58.64752  & 0.2756927\\\\\n",
       "\tdefinition &  1        & 0.5870211 & 64        & 58.06050  & 0.4435734\\\\\n",
       "\tneed &  1        & 0.4298919 & 63        & 57.63061  & 0.5120420\\\\\n",
       "\tpurpose &  2        & 0.2855626 & 61        & 57.34505  & 0.8669436\\\\\n",
       "\tinterest &  1        & 0.1699540 & 60        & 57.17510  & 0.6801527\\\\\n",
       "\\end{tabular}\n"
      ],
      "text/markdown": [
       "\n",
       "| <!--/--> | Df | Deviance | Resid. Df | Resid. Dev | Pr(>Chi) |\n",
       "|---|---|---|---|---|---|\n",
       "| NULL | NA        |        NA | 66        | 59.83573  |        NA |\n",
       "| sex |  1        | 1.1882010 | 65        | 58.64752  | 0.2756927 |\n",
       "| definition |  1        | 0.5870211 | 64        | 58.06050  | 0.4435734 |\n",
       "| need |  1        | 0.4298919 | 63        | 57.63061  | 0.5120420 |\n",
       "| purpose |  2        | 0.2855626 | 61        | 57.34505  | 0.8669436 |\n",
       "| interest |  1        | 0.1699540 | 60        | 57.17510  | 0.6801527 |\n",
       "\n"
      ],
      "text/plain": [
       "           Df Deviance  Resid. Df Resid. Dev Pr(>Chi) \n",
       "NULL       NA        NA 66        59.83573          NA\n",
       "sex         1 1.1882010 65        58.64752   0.2756927\n",
       "definition  1 0.5870211 64        58.06050   0.4435734\n",
       "need        1 0.4298919 63        57.63061   0.5120420\n",
       "purpose     2 0.2855626 61        57.34505   0.8669436\n",
       "interest    1 0.1699540 60        57.17510   0.6801527"
      ]
     },
     "metadata": {},
     "output_type": "display_data"
    },
    {
     "data": {
      "text/html": [
       "0.967948717948718"
      ],
      "text/latex": [
       "0.967948717948718"
      ],
      "text/markdown": [
       "0.967948717948718"
      ],
      "text/plain": [
       "[1] 0.9679487"
      ]
     },
     "metadata": {},
     "output_type": "display_data"
    },
    {
     "data": {
      "image/png": "[encoded data removed]",
      "text/plain": [
       "plot without title"
      ]
     },
     "metadata": {},
     "output_type": "display_data"
    }
   ],
   "source": [
    "model <- glm(t1_4 ~ sex + definition + need + purpose \n",
    "              + interest, data =train, family = binomial)\n",
    "summary(model)\n",
    "\n",
    "\n",
    "anova(model, test=\"Chisq\")\n",
    "\n",
    "\n",
    "p <- predict(model, newdata=test, type=\"response\")\n",
    "pr <- prediction(p, test$t1_4)\n",
    "prf <- performance(pr, measure = \"tpr\", x.measure = \"fpr\")\n",
    "plot(prf)\n",
    "\n",
    "auc <- performance(pr, measure = \"auc\")\n",
    "auc <- auc@y.values[[1]]\n",
    "auc"
   ]
  },
  {
   "cell_type": "code",
   "execution_count": 19,
   "metadata": {},
   "outputs": [
    {
     "data": {
      "text/plain": [
       "\n",
       "Call:\n",
       "glm(formula = t1_5 ~ sex + definition + need + purpose + interest, \n",
       "    family = binomial, data = train)\n",
       "\n",
       "Deviance Residuals: \n",
       "    Min       1Q   Median       3Q      Max  \n",
       "-1.4579  -1.0036  -0.6563   1.2661   2.0070  \n",
       "\n",
       "Coefficients:\n",
       "                  Estimate Std. Error z value Pr(>|z|)\n",
       "(Intercept)        -0.8329     1.0728  -0.776    0.438\n",
       "sexMale             0.5826     0.6900   0.844    0.399\n",
       "definitionharmony   0.3219     0.7296   0.441    0.659\n",
       "needharmony        -0.6532     0.6348  -1.029    0.303\n",
       "purposecosmetic     0.1647     0.7816   0.211    0.833\n",
       "purposeetc         -1.0468     0.8532  -1.227    0.220\n",
       "interest            0.1134     0.2397   0.473    0.636\n",
       "\n",
       "(Dispersion parameter for binomial family taken to be 1)\n",
       "\n",
       "    Null deviance: 88.521  on 66  degrees of freedom\n",
       "Residual deviance: 83.305  on 60  degrees of freedom\n",
       "AIC: 97.305\n",
       "\n",
       "Number of Fisher Scoring iterations: 4\n"
      ]
     },
     "metadata": {},
     "output_type": "display_data"
    },
    {
     "data": {
      "text/html": [
       "<table>\n",
       "<thead><tr><th></th><th scope=col>Df</th><th scope=col>Deviance</th><th scope=col>Resid. Df</th><th scope=col>Resid. Dev</th><th scope=col>Pr(&gt;Chi)</th></tr></thead>\n",
       "<tbody>\n",
       "\t<tr><th scope=row>NULL</th><td>NA       </td><td>       NA</td><td>66       </td><td>88.52077 </td><td>       NA</td></tr>\n",
       "\t<tr><th scope=row>sex</th><td> 1       </td><td>1.7026505</td><td>65       </td><td>86.81812 </td><td>0.1919417</td></tr>\n",
       "\t<tr><th scope=row>definition</th><td> 1       </td><td>0.1456183</td><td>64       </td><td>86.67250 </td><td>0.7027583</td></tr>\n",
       "\t<tr><th scope=row>need</th><td> 1       </td><td>1.0495321</td><td>63       </td><td>85.62297 </td><td>0.3056149</td></tr>\n",
       "\t<tr><th scope=row>purpose</th><td> 2       </td><td>2.0927705</td><td>61       </td><td>83.53020 </td><td>0.3512050</td></tr>\n",
       "\t<tr><th scope=row>interest</th><td> 1       </td><td>0.2256532</td><td>60       </td><td>83.30455 </td><td>0.6347658</td></tr>\n",
       "</tbody>\n",
       "</table>\n"
      ],
      "text/latex": [
       "\\begin{tabular}{r|lllll}\n",
       "  & Df & Deviance & Resid. Df & Resid. Dev & Pr(>Chi)\\\\\n",
       "\\hline\n",
       "\tNULL & NA        &        NA & 66        & 88.52077  &        NA\\\\\n",
       "\tsex &  1        & 1.7026505 & 65        & 86.81812  & 0.1919417\\\\\n",
       "\tdefinition &  1        & 0.1456183 & 64        & 86.67250  & 0.7027583\\\\\n",
       "\tneed &  1        & 1.0495321 & 63        & 85.62297  & 0.3056149\\\\\n",
       "\tpurpose &  2        & 2.0927705 & 61        & 83.53020  & 0.3512050\\\\\n",
       "\tinterest &  1        & 0.2256532 & 60        & 83.30455  & 0.6347658\\\\\n",
       "\\end{tabular}\n"
      ],
      "text/markdown": [
       "\n",
       "| <!--/--> | Df | Deviance | Resid. Df | Resid. Dev | Pr(>Chi) |\n",
       "|---|---|---|---|---|---|\n",
       "| NULL | NA        |        NA | 66        | 88.52077  |        NA |\n",
       "| sex |  1        | 1.7026505 | 65        | 86.81812  | 0.1919417 |\n",
       "| definition |  1        | 0.1456183 | 64        | 86.67250  | 0.7027583 |\n",
       "| need |  1        | 1.0495321 | 63        | 85.62297  | 0.3056149 |\n",
       "| purpose |  2        | 2.0927705 | 61        | 83.53020  | 0.3512050 |\n",
       "| interest |  1        | 0.2256532 | 60        | 83.30455  | 0.6347658 |\n",
       "\n"
      ],
      "text/plain": [
       "           Df Deviance  Resid. Df Resid. Dev Pr(>Chi) \n",
       "NULL       NA        NA 66        88.52077          NA\n",
       "sex         1 1.7026505 65        86.81812   0.1919417\n",
       "definition  1 0.1456183 64        86.67250   0.7027583\n",
       "need        1 1.0495321 63        85.62297   0.3056149\n",
       "purpose     2 2.0927705 61        83.53020   0.3512050\n",
       "interest    1 0.2256532 60        83.30455   0.6347658"
      ]
     },
     "metadata": {},
     "output_type": "display_data"
    },
    {
     "data": {
      "text/html": [
       "0.38768115942029"
      ],
      "text/latex": [
       "0.38768115942029"
      ],
      "text/markdown": [
       "0.38768115942029"
      ],
      "text/plain": [
       "[1] 0.3876812"
      ]
     },
     "metadata": {},
     "output_type": "display_data"
    },
    {
     "data": {
      "image/png": "[encoded data removed]",
      "text/plain": [
       "plot without title"
      ]
     },
     "metadata": {},
     "output_type": "display_data"
    }
   ],
   "source": [
    "model <- glm(t1_5 ~ sex + definition + need + purpose \n",
    "              + interest, data =train, family = binomial)\n",
    "summary(model)\n",
    "\n",
    "\n",
    "anova(model, test=\"Chisq\")\n",
    "\n",
    "\n",
    "p <- predict(model, newdata=test, type=\"response\")\n",
    "pr <- prediction(p, test$t1_5)\n",
    "prf <- performance(pr, measure = \"tpr\", x.measure = \"fpr\")\n",
    "plot(prf)\n",
    "\n",
    "auc <- performance(pr, measure = \"auc\")\n",
    "auc <- auc@y.values[[1]]\n",
    "auc"
   ]
  },
  {
   "cell_type": "code",
   "execution_count": 20,
   "metadata": {},
   "outputs": [
    {
     "name": "stderr",
     "output_type": "stream",
     "text": [
      "Warning message:\n",
      "\"glm.fit: fitted probabilities numerically 0 or 1 occurred\""
     ]
    },
    {
     "data": {
      "text/plain": [
       "\n",
       "Call:\n",
       "glm(formula = t2_1 ~ sex + definition + need + purpose + interest, \n",
       "    family = binomial, data = train)\n",
       "\n",
       "Deviance Residuals: \n",
       "     Min        1Q    Median        3Q       Max  \n",
       "-1.32416  -0.23385  -0.13466  -0.00004   2.68810  \n",
       "\n",
       "Coefficients:\n",
       "                   Estimate Std. Error z value Pr(>|z|)  \n",
       "(Intercept)        -25.9066  3696.3855  -0.007   0.9944  \n",
       "sexMale              1.0868     2.5757   0.422   0.6731  \n",
       "definitionharmony   18.4295  3696.3837   0.005   0.9960  \n",
       "needharmony          0.0262     1.2145   0.022   0.9828  \n",
       "purposecosmetic    -16.2654  4229.1376  -0.004   0.9969  \n",
       "purposeetc           3.1586     2.5317   1.248   0.2122  \n",
       "interest             0.9262     0.5289   1.751   0.0799 .\n",
       "---\n",
       "Signif. codes:  0 '***' 0.001 '**' 0.01 '*' 0.05 '.' 0.1 ' ' 1\n",
       "\n",
       "(Dispersion parameter for binomial family taken to be 1)\n",
       "\n",
       "    Null deviance: 35.570  on 66  degrees of freedom\n",
       "Residual deviance: 21.173  on 60  degrees of freedom\n",
       "AIC: 35.173\n",
       "\n",
       "Number of Fisher Scoring iterations: 19\n"
      ]
     },
     "metadata": {},
     "output_type": "display_data"
    },
    {
     "name": "stderr",
     "output_type": "stream",
     "text": [
      "Warning message:\n",
      "\"glm.fit: fitted probabilities numerically 0 or 1 occurred\""
     ]
    },
    {
     "data": {
      "text/html": [
       "<table>\n",
       "<thead><tr><th></th><th scope=col>Df</th><th scope=col>Deviance</th><th scope=col>Resid. Df</th><th scope=col>Resid. Dev</th><th scope=col>Pr(&gt;Chi)</th></tr></thead>\n",
       "<tbody>\n",
       "\t<tr><th scope=row>NULL</th><td>NA        </td><td>        NA</td><td>66        </td><td>35.56977  </td><td>        NA</td></tr>\n",
       "\t<tr><th scope=row>sex</th><td> 1        </td><td>1.14841712</td><td>65        </td><td>34.42135  </td><td>0.28388075</td></tr>\n",
       "\t<tr><th scope=row>definition</th><td> 1        </td><td>3.69934638</td><td>64        </td><td>30.72200  </td><td>0.05443379</td></tr>\n",
       "\t<tr><th scope=row>need</th><td> 1        </td><td>0.07035072</td><td>63        </td><td>30.65165  </td><td>0.79082682</td></tr>\n",
       "\t<tr><th scope=row>purpose</th><td> 2        </td><td>5.81805448</td><td>61        </td><td>24.83360  </td><td>0.05452875</td></tr>\n",
       "\t<tr><th scope=row>interest</th><td> 1        </td><td>3.66025400</td><td>60        </td><td>21.17335  </td><td>0.05572514</td></tr>\n",
       "</tbody>\n",
       "</table>\n"
      ],
      "text/latex": [
       "\\begin{tabular}{r|lllll}\n",
       "  & Df & Deviance & Resid. Df & Resid. Dev & Pr(>Chi)\\\\\n",
       "\\hline\n",
       "\tNULL & NA         &         NA & 66         & 35.56977   &         NA\\\\\n",
       "\tsex &  1         & 1.14841712 & 65         & 34.42135   & 0.28388075\\\\\n",
       "\tdefinition &  1         & 3.69934638 & 64         & 30.72200   & 0.05443379\\\\\n",
       "\tneed &  1         & 0.07035072 & 63         & 30.65165   & 0.79082682\\\\\n",
       "\tpurpose &  2         & 5.81805448 & 61         & 24.83360   & 0.05452875\\\\\n",
       "\tinterest &  1         & 3.66025400 & 60         & 21.17335   & 0.05572514\\\\\n",
       "\\end{tabular}\n"
      ],
      "text/markdown": [
       "\n",
       "| <!--/--> | Df | Deviance | Resid. Df | Resid. Dev | Pr(>Chi) |\n",
       "|---|---|---|---|---|---|\n",
       "| NULL | NA         |         NA | 66         | 35.56977   |         NA |\n",
       "| sex |  1         | 1.14841712 | 65         | 34.42135   | 0.28388075 |\n",
       "| definition |  1         | 3.69934638 | 64         | 30.72200   | 0.05443379 |\n",
       "| need |  1         | 0.07035072 | 63         | 30.65165   | 0.79082682 |\n",
       "| purpose |  2         | 5.81805448 | 61         | 24.83360   | 0.05452875 |\n",
       "| interest |  1         | 3.66025400 | 60         | 21.17335   | 0.05572514 |\n",
       "\n"
      ],
      "text/plain": [
       "           Df Deviance   Resid. Df Resid. Dev Pr(>Chi)  \n",
       "NULL       NA         NA 66        35.56977           NA\n",
       "sex         1 1.14841712 65        34.42135   0.28388075\n",
       "definition  1 3.69934638 64        30.72200   0.05443379\n",
       "need        1 0.07035072 63        30.65165   0.79082682\n",
       "purpose     2 5.81805448 61        24.83360   0.05452875\n",
       "interest    1 3.66025400 60        21.17335   0.05572514"
      ]
     },
     "metadata": {},
     "output_type": "display_data"
    },
    {
     "data": {
      "text/html": [
       "0.157407407407407"
      ],
      "text/latex": [
       "0.157407407407407"
      ],
      "text/markdown": [
       "0.157407407407407"
      ],
      "text/plain": [
       "[1] 0.1574074"
      ]
     },
     "metadata": {},
     "output_type": "display_data"
    },
    {
     "data": {
      "image/png": "[encoded data removed]",
      "text/plain": [
       "plot without title"
      ]
     },
     "metadata": {},
     "output_type": "display_data"
    }
   ],
   "source": [
    "model <- glm(t2_1 ~ sex + definition + need + purpose \n",
    "              + interest, data =train, family = binomial)\n",
    "summary(model)\n",
    "\n",
    "\n",
    "anova(model, test=\"Chisq\")\n",
    "\n",
    "\n",
    "p <- predict(model, newdata=test, type=\"response\")\n",
    "pr <- prediction(p, test$t2_1)\n",
    "prf <- performance(pr, measure = \"tpr\", x.measure = \"fpr\")\n",
    "plot(prf)\n",
    "\n",
    "auc <- performance(pr, measure = \"auc\")\n",
    "auc <- auc@y.values[[1]]\n",
    "auc"
   ]
  },
  {
   "cell_type": "code",
   "execution_count": 21,
   "metadata": {},
   "outputs": [
    {
     "data": {
      "text/plain": [
       "\n",
       "Call:\n",
       "glm(formula = t2_2 ~ sex + definition + need + purpose + interest, \n",
       "    family = binomial, data = train)\n",
       "\n",
       "Deviance Residuals: \n",
       "     Min        1Q    Median        3Q       Max  \n",
       "-1.49177  -0.53759  -0.25639  -0.00011   2.26214  \n",
       "\n",
       "Coefficients:\n",
       "                    Estimate Std. Error z value Pr(>|z|)  \n",
       "(Intercept)         -0.55802    1.76469  -0.316   0.7518  \n",
       "sexMale              1.12590    0.97909   1.150   0.2502  \n",
       "definitionharmony   -0.08564    1.29728  -0.066   0.9474  \n",
       "needharmony          0.92075    0.95805   0.961   0.3365  \n",
       "purposecosmetic    -16.54051 1778.84979  -0.009   0.9926  \n",
       "purposeetc          -0.86131    1.32488  -0.650   0.5156  \n",
       "interest            -0.68879    0.36869  -1.868   0.0617 .\n",
       "---\n",
       "Signif. codes:  0 '***' 0.001 '**' 0.01 '*' 0.05 '.' 0.1 ' ' 1\n",
       "\n",
       "(Dispersion parameter for binomial family taken to be 1)\n",
       "\n",
       "    Null deviance: 59.836  on 66  degrees of freedom\n",
       "Residual deviance: 43.062  on 60  degrees of freedom\n",
       "AIC: 57.062\n",
       "\n",
       "Number of Fisher Scoring iterations: 17\n"
      ]
     },
     "metadata": {},
     "output_type": "display_data"
    },
    {
     "data": {
      "text/html": [
       "<table>\n",
       "<thead><tr><th></th><th scope=col>Df</th><th scope=col>Deviance</th><th scope=col>Resid. Df</th><th scope=col>Resid. Dev</th><th scope=col>Pr(&gt;Chi)</th></tr></thead>\n",
       "<tbody>\n",
       "\t<tr><th scope=row>NULL</th><td>NA         </td><td>       NA  </td><td>66         </td><td>59.83573   </td><td>         NA</td></tr>\n",
       "\t<tr><th scope=row>sex</th><td> 1         </td><td>8.8937025  </td><td>65         </td><td>50.94202   </td><td>0.002861559</td></tr>\n",
       "\t<tr><th scope=row>definition</th><td> 1         </td><td>0.4282970  </td><td>64         </td><td>50.51373   </td><td>0.512825752</td></tr>\n",
       "\t<tr><th scope=row>need</th><td> 1         </td><td>0.8644098  </td><td>63         </td><td>49.64932   </td><td>0.352507584</td></tr>\n",
       "\t<tr><th scope=row>purpose</th><td> 2         </td><td>2.5461355  </td><td>61         </td><td>47.10318   </td><td>0.279971424</td></tr>\n",
       "\t<tr><th scope=row>interest</th><td> 1         </td><td>4.0411691  </td><td>60         </td><td>43.06201   </td><td>0.044403050</td></tr>\n",
       "</tbody>\n",
       "</table>\n"
      ],
      "text/latex": [
       "\\begin{tabular}{r|lllll}\n",
       "  & Df & Deviance & Resid. Df & Resid. Dev & Pr(>Chi)\\\\\n",
       "\\hline\n",
       "\tNULL & NA          &        NA   & 66          & 59.83573    &          NA\\\\\n",
       "\tsex &  1          & 8.8937025   & 65          & 50.94202    & 0.002861559\\\\\n",
       "\tdefinition &  1          & 0.4282970   & 64          & 50.51373    & 0.512825752\\\\\n",
       "\tneed &  1          & 0.8644098   & 63          & 49.64932    & 0.352507584\\\\\n",
       "\tpurpose &  2          & 2.5461355   & 61          & 47.10318    & 0.279971424\\\\\n",
       "\tinterest &  1          & 4.0411691   & 60          & 43.06201    & 0.044403050\\\\\n",
       "\\end{tabular}\n"
      ],
      "text/markdown": [
       "\n",
       "| <!--/--> | Df | Deviance | Resid. Df | Resid. Dev | Pr(>Chi) |\n",
       "|---|---|---|---|---|---|\n",
       "| NULL | NA          |        NA   | 66          | 59.83573    |          NA |\n",
       "| sex |  1          | 8.8937025   | 65          | 50.94202    | 0.002861559 |\n",
       "| definition |  1          | 0.4282970   | 64          | 50.51373    | 0.512825752 |\n",
       "| need |  1          | 0.8644098   | 63          | 49.64932    | 0.352507584 |\n",
       "| purpose |  2          | 2.5461355   | 61          | 47.10318    | 0.279971424 |\n",
       "| interest |  1          | 4.0411691   | 60          | 43.06201    | 0.044403050 |\n",
       "\n"
      ],
      "text/plain": [
       "           Df Deviance  Resid. Df Resid. Dev Pr(>Chi)   \n",
       "NULL       NA        NA 66        59.83573            NA\n",
       "sex         1 8.8937025 65        50.94202   0.002861559\n",
       "definition  1 0.4282970 64        50.51373   0.512825752\n",
       "need        1 0.8644098 63        49.64932   0.352507584\n",
       "purpose     2 2.5461355 61        47.10318   0.279971424\n",
       "interest    1 4.0411691 60        43.06201   0.044403050"
      ]
     },
     "metadata": {},
     "output_type": "display_data"
    },
    {
     "data": {
      "text/html": [
       "0.537037037037037"
      ],
      "text/latex": [
       "0.537037037037037"
      ],
      "text/markdown": [
       "0.537037037037037"
      ],
      "text/plain": [
       "[1] 0.537037"
      ]
     },
     "metadata": {},
     "output_type": "display_data"
    },
    {
     "data": {
      "image/png": "[encoded data removed]",
      "text/plain": [
       "plot without title"
      ]
     },
     "metadata": {},
     "output_type": "display_data"
    }
   ],
   "source": [
    "model <- glm(t2_2 ~ sex + definition + need + purpose \n",
    "              + interest, data =train, family = binomial)\n",
    "summary(model)\n",
    "\n",
    "\n",
    "anova(model, test=\"Chisq\")\n",
    "\n",
    "\n",
    "p <- predict(model, newdata=test, type=\"response\")\n",
    "pr <- prediction(p, test$t2_2)\n",
    "prf <- performance(pr, measure = \"tpr\", x.measure = \"fpr\")\n",
    "plot(prf)\n",
    "\n",
    "auc <- performance(pr, measure = \"auc\")\n",
    "auc <- auc@y.values[[1]]\n",
    "auc"
   ]
  },
  {
   "cell_type": "code",
   "execution_count": 22,
   "metadata": {},
   "outputs": [
    {
     "data": {
      "text/plain": [
       "\n",
       "Call:\n",
       "glm(formula = t2_3 ~ sex + definition + need + purpose + interest, \n",
       "    family = binomial, data = train)\n",
       "\n",
       "Deviance Residuals: \n",
       "    Min       1Q   Median       3Q      Max  \n",
       "-1.3536  -0.8829  -0.7196   1.3049   2.0497  \n",
       "\n",
       "Coefficients:\n",
       "                  Estimate Std. Error z value Pr(>|z|)\n",
       "(Intercept)        -0.5505     1.0913  -0.504    0.614\n",
       "sexMale             0.2497     0.7070   0.353    0.724\n",
       "definitionharmony  -0.9797     0.7577  -1.293    0.196\n",
       "needharmony         0.3948     0.6836   0.578    0.564\n",
       "purposecosmetic    -0.1106     0.8092  -0.137    0.891\n",
       "purposeetc         -0.7511     0.8606  -0.873    0.383\n",
       "interest            0.1037     0.2489   0.417    0.677\n",
       "\n",
       "(Dispersion parameter for binomial family taken to be 1)\n",
       "\n",
       "    Null deviance: 83.324  on 66  degrees of freedom\n",
       "Residual deviance: 79.554  on 60  degrees of freedom\n",
       "AIC: 93.554\n",
       "\n",
       "Number of Fisher Scoring iterations: 4\n"
      ]
     },
     "metadata": {},
     "output_type": "display_data"
    },
    {
     "data": {
      "text/html": [
       "<table>\n",
       "<thead><tr><th></th><th scope=col>Df</th><th scope=col>Deviance</th><th scope=col>Resid. Df</th><th scope=col>Resid. Dev</th><th scope=col>Pr(&gt;Chi)</th></tr></thead>\n",
       "<tbody>\n",
       "\t<tr><th scope=row>NULL</th><td>NA       </td><td>       NA</td><td>66       </td><td>83.32386 </td><td>       NA</td></tr>\n",
       "\t<tr><th scope=row>sex</th><td> 1       </td><td>0.4248329</td><td>65       </td><td>82.89903 </td><td>0.5145353</td></tr>\n",
       "\t<tr><th scope=row>definition</th><td> 1       </td><td>2.0872325</td><td>64       </td><td>80.81179 </td><td>0.1485349</td></tr>\n",
       "\t<tr><th scope=row>need</th><td> 1       </td><td>0.3392195</td><td>63       </td><td>80.47258 </td><td>0.5602801</td></tr>\n",
       "\t<tr><th scope=row>purpose</th><td> 2       </td><td>0.7434906</td><td>61       </td><td>79.72908 </td><td>0.6895298</td></tr>\n",
       "\t<tr><th scope=row>interest</th><td> 1       </td><td>0.1747016</td><td>60       </td><td>79.55438 </td><td>0.6759667</td></tr>\n",
       "</tbody>\n",
       "</table>\n"
      ],
      "text/latex": [
       "\\begin{tabular}{r|lllll}\n",
       "  & Df & Deviance & Resid. Df & Resid. Dev & Pr(>Chi)\\\\\n",
       "\\hline\n",
       "\tNULL & NA        &        NA & 66        & 83.32386  &        NA\\\\\n",
       "\tsex &  1        & 0.4248329 & 65        & 82.89903  & 0.5145353\\\\\n",
       "\tdefinition &  1        & 2.0872325 & 64        & 80.81179  & 0.1485349\\\\\n",
       "\tneed &  1        & 0.3392195 & 63        & 80.47258  & 0.5602801\\\\\n",
       "\tpurpose &  2        & 0.7434906 & 61        & 79.72908  & 0.6895298\\\\\n",
       "\tinterest &  1        & 0.1747016 & 60        & 79.55438  & 0.6759667\\\\\n",
       "\\end{tabular}\n"
      ],
      "text/markdown": [
       "\n",
       "| <!--/--> | Df | Deviance | Resid. Df | Resid. Dev | Pr(>Chi) |\n",
       "|---|---|---|---|---|---|\n",
       "| NULL | NA        |        NA | 66        | 83.32386  |        NA |\n",
       "| sex |  1        | 0.4248329 | 65        | 82.89903  | 0.5145353 |\n",
       "| definition |  1        | 2.0872325 | 64        | 80.81179  | 0.1485349 |\n",
       "| need |  1        | 0.3392195 | 63        | 80.47258  | 0.5602801 |\n",
       "| purpose |  2        | 0.7434906 | 61        | 79.72908  | 0.6895298 |\n",
       "| interest |  1        | 0.1747016 | 60        | 79.55438  | 0.6759667 |\n",
       "\n"
      ],
      "text/plain": [
       "           Df Deviance  Resid. Df Resid. Dev Pr(>Chi) \n",
       "NULL       NA        NA 66        83.32386          NA\n",
       "sex         1 0.4248329 65        82.89903   0.5145353\n",
       "definition  1 2.0872325 64        80.81179   0.1485349\n",
       "need        1 0.3392195 63        80.47258   0.5602801\n",
       "purpose     2 0.7434906 61        79.72908   0.6895298\n",
       "interest    1 0.1747016 60        79.55438   0.6759667"
      ]
     },
     "metadata": {},
     "output_type": "display_data"
    },
    {
     "data": {
      "text/html": [
       "0.522058823529412"
      ],
      "text/latex": [
       "0.522058823529412"
      ],
      "text/markdown": [
       "0.522058823529412"
      ],
      "text/plain": [
       "[1] 0.5220588"
      ]
     },
     "metadata": {},
     "output_type": "display_data"
    },
    {
     "data": {
      "image/png": "[encoded data removed]",
      "text/plain": [
       "plot without title"
      ]
     },
     "metadata": {},
     "output_type": "display_data"
    }
   ],
   "source": [
    "model <- glm(t2_3 ~ sex + definition + need + purpose \n",
    "              + interest, data =train, family = binomial)\n",
    "summary(model)\n",
    "\n",
    "\n",
    "anova(model, test=\"Chisq\")\n",
    "\n",
    "\n",
    "p <- predict(model, newdata=test, type=\"response\")\n",
    "pr <- prediction(p, test$t2_3)\n",
    "prf <- performance(pr, measure = \"tpr\", x.measure = \"fpr\")\n",
    "plot(prf)\n",
    "\n",
    "auc <- performance(pr, measure = \"auc\")\n",
    "auc <- auc@y.values[[1]]\n",
    "auc"
   ]
  },
  {
   "cell_type": "code",
   "execution_count": 23,
   "metadata": {},
   "outputs": [
    {
     "data": {
      "text/plain": [
       "\n",
       "Call:\n",
       "glm(formula = t2_4 ~ sex + definition + need + purpose + interest, \n",
       "    family = binomial, data = train)\n",
       "\n",
       "Deviance Residuals: \n",
       "    Min       1Q   Median       3Q      Max  \n",
       "-1.3275  -0.8915  -0.6747   1.3008   1.8748  \n",
       "\n",
       "Coefficients:\n",
       "                  Estimate Std. Error z value Pr(>|z|)\n",
       "(Intercept)       -0.87182    1.11410  -0.783    0.434\n",
       "sexMale           -0.96222    0.72616  -1.325    0.185\n",
       "definitionharmony  0.71364    0.75959   0.940    0.347\n",
       "needharmony       -0.54976    0.63809  -0.862    0.389\n",
       "purposecosmetic    0.09621    0.78789   0.122    0.903\n",
       "purposeetc        -0.57009    0.79747  -0.715    0.475\n",
       "interest           0.10204    0.25213   0.405    0.686\n",
       "\n",
       "(Dispersion parameter for binomial family taken to be 1)\n",
       "\n",
       "    Null deviance: 83.324  on 66  degrees of freedom\n",
       "Residual deviance: 79.338  on 60  degrees of freedom\n",
       "AIC: 93.338\n",
       "\n",
       "Number of Fisher Scoring iterations: 4\n"
      ]
     },
     "metadata": {},
     "output_type": "display_data"
    },
    {
     "data": {
      "text/html": [
       "<table>\n",
       "<thead><tr><th></th><th scope=col>Df</th><th scope=col>Deviance</th><th scope=col>Resid. Df</th><th scope=col>Resid. Dev</th><th scope=col>Pr(&gt;Chi)</th></tr></thead>\n",
       "<tbody>\n",
       "\t<tr><th scope=row>NULL</th><td>NA       </td><td>       NA</td><td>66       </td><td>83.32386 </td><td>       NA</td></tr>\n",
       "\t<tr><th scope=row>sex</th><td> 1       </td><td>2.2576706</td><td>65       </td><td>81.06619 </td><td>0.1329539</td></tr>\n",
       "\t<tr><th scope=row>definition</th><td> 1       </td><td>0.1674071</td><td>64       </td><td>80.89878 </td><td>0.6824265</td></tr>\n",
       "\t<tr><th scope=row>need</th><td> 1       </td><td>0.7573575</td><td>63       </td><td>80.14142 </td><td>0.3841567</td></tr>\n",
       "\t<tr><th scope=row>purpose</th><td> 2       </td><td>0.6388835</td><td>61       </td><td>79.50254 </td><td>0.7265545</td></tr>\n",
       "\t<tr><th scope=row>interest</th><td> 1       </td><td>0.1644168</td><td>60       </td><td>79.33812 </td><td>0.6851222</td></tr>\n",
       "</tbody>\n",
       "</table>\n"
      ],
      "text/latex": [
       "\\begin{tabular}{r|lllll}\n",
       "  & Df & Deviance & Resid. Df & Resid. Dev & Pr(>Chi)\\\\\n",
       "\\hline\n",
       "\tNULL & NA        &        NA & 66        & 83.32386  &        NA\\\\\n",
       "\tsex &  1        & 2.2576706 & 65        & 81.06619  & 0.1329539\\\\\n",
       "\tdefinition &  1        & 0.1674071 & 64        & 80.89878  & 0.6824265\\\\\n",
       "\tneed &  1        & 0.7573575 & 63        & 80.14142  & 0.3841567\\\\\n",
       "\tpurpose &  2        & 0.6388835 & 61        & 79.50254  & 0.7265545\\\\\n",
       "\tinterest &  1        & 0.1644168 & 60        & 79.33812  & 0.6851222\\\\\n",
       "\\end{tabular}\n"
      ],
      "text/markdown": [
       "\n",
       "| <!--/--> | Df | Deviance | Resid. Df | Resid. Dev | Pr(>Chi) |\n",
       "|---|---|---|---|---|---|\n",
       "| NULL | NA        |        NA | 66        | 83.32386  |        NA |\n",
       "| sex |  1        | 2.2576706 | 65        | 81.06619  | 0.1329539 |\n",
       "| definition |  1        | 0.1674071 | 64        | 80.89878  | 0.6824265 |\n",
       "| need |  1        | 0.7573575 | 63        | 80.14142  | 0.3841567 |\n",
       "| purpose |  2        | 0.6388835 | 61        | 79.50254  | 0.7265545 |\n",
       "| interest |  1        | 0.1644168 | 60        | 79.33812  | 0.6851222 |\n",
       "\n"
      ],
      "text/plain": [
       "           Df Deviance  Resid. Df Resid. Dev Pr(>Chi) \n",
       "NULL       NA        NA 66        83.32386          NA\n",
       "sex         1 2.2576706 65        81.06619   0.1329539\n",
       "definition  1 0.1674071 64        80.89878   0.6824265\n",
       "need        1 0.7573575 63        80.14142   0.3841567\n",
       "purpose     2 0.6388835 61        79.50254   0.7265545\n",
       "interest    1 0.1644168 60        79.33812   0.6851222"
      ]
     },
     "metadata": {},
     "output_type": "display_data"
    },
    {
     "data": {
      "text/html": [
       "0.467532467532468"
      ],
      "text/latex": [
       "0.467532467532468"
      ],
      "text/markdown": [
       "0.467532467532468"
      ],
      "text/plain": [
       "[1] 0.4675325"
      ]
     },
     "metadata": {},
     "output_type": "display_data"
    },
    {
     "data": {
      "image/png": "[encoded data removed]",
      "text/plain": [
       "plot without title"
      ]
     },
     "metadata": {},
     "output_type": "display_data"
    }
   ],
   "source": [
    "model <- glm(t2_4 ~ sex + definition + need + purpose \n",
    "              + interest, data =train, family = binomial)\n",
    "summary(model)\n",
    "\n",
    "\n",
    "anova(model, test=\"Chisq\")\n",
    "\n",
    "\n",
    "p <- predict(model, newdata=test, type=\"response\")\n",
    "pr <- prediction(p, test$t2_4)\n",
    "prf <- performance(pr, measure = \"tpr\", x.measure = \"fpr\")\n",
    "plot(prf)\n",
    "\n",
    "auc <- performance(pr, measure = \"auc\")\n",
    "auc <- auc@y.values[[1]]\n",
    "auc"
   ]
  },
  {
   "cell_type": "code",
   "execution_count": 24,
   "metadata": {},
   "outputs": [
    {
     "data": {
      "text/plain": [
       "\n",
       "Call:\n",
       "glm(formula = t2_5 ~ sex + definition + need + purpose + interest, \n",
       "    family = binomial, data = train)\n",
       "\n",
       "Deviance Residuals: \n",
       "    Min       1Q   Median       3Q      Max  \n",
       "-0.8468  -0.6162  -0.4116  -0.3496   2.2433  \n",
       "\n",
       "Coefficients:\n",
       "                  Estimate Std. Error z value Pr(>|z|)\n",
       "(Intercept)       -1.68486    1.53101  -1.100    0.271\n",
       "sexMale           -0.33855    1.09862  -0.308    0.758\n",
       "definitionharmony -0.22962    0.97671  -0.235    0.814\n",
       "needharmony       -0.24327    0.90212  -0.270    0.787\n",
       "purposecosmetic    1.11212    1.05863   1.051    0.293\n",
       "purposeetc         0.86115    1.07434   0.802    0.423\n",
       "interest          -0.08946    0.34214  -0.261    0.794\n",
       "\n",
       "(Dispersion parameter for binomial family taken to be 1)\n",
       "\n",
       "    Null deviance: 52.867  on 66  degrees of freedom\n",
       "Residual deviance: 49.617  on 60  degrees of freedom\n",
       "AIC: 63.617\n",
       "\n",
       "Number of Fisher Scoring iterations: 5\n"
      ]
     },
     "metadata": {},
     "output_type": "display_data"
    },
    {
     "data": {
      "text/html": [
       "<table>\n",
       "<thead><tr><th></th><th scope=col>Df</th><th scope=col>Deviance</th><th scope=col>Resid. Df</th><th scope=col>Resid. Dev</th><th scope=col>Pr(&gt;Chi)</th></tr></thead>\n",
       "<tbody>\n",
       "\t<tr><th scope=row>NULL</th><td>NA        </td><td>        NA</td><td>66        </td><td>52.86738  </td><td>       NA </td></tr>\n",
       "\t<tr><th scope=row>sex</th><td> 1        </td><td>1.74956698</td><td>65        </td><td>51.11781  </td><td>0.1859312 </td></tr>\n",
       "\t<tr><th scope=row>definition</th><td> 1        </td><td>0.13722158</td><td>64        </td><td>50.98059  </td><td>0.7110589 </td></tr>\n",
       "\t<tr><th scope=row>need</th><td> 1        </td><td>0.07351167</td><td>63        </td><td>50.90708  </td><td>0.7862908 </td></tr>\n",
       "\t<tr><th scope=row>purpose</th><td> 2        </td><td>1.22172840</td><td>61        </td><td>49.68535  </td><td>0.5428815 </td></tr>\n",
       "\t<tr><th scope=row>interest</th><td> 1        </td><td>0.06837537</td><td>60        </td><td>49.61698  </td><td>0.7937171 </td></tr>\n",
       "</tbody>\n",
       "</table>\n"
      ],
      "text/latex": [
       "\\begin{tabular}{r|lllll}\n",
       "  & Df & Deviance & Resid. Df & Resid. Dev & Pr(>Chi)\\\\\n",
       "\\hline\n",
       "\tNULL & NA         &         NA & 66         & 52.86738   &        NA \\\\\n",
       "\tsex &  1         & 1.74956698 & 65         & 51.11781   & 0.1859312 \\\\\n",
       "\tdefinition &  1         & 0.13722158 & 64         & 50.98059   & 0.7110589 \\\\\n",
       "\tneed &  1         & 0.07351167 & 63         & 50.90708   & 0.7862908 \\\\\n",
       "\tpurpose &  2         & 1.22172840 & 61         & 49.68535   & 0.5428815 \\\\\n",
       "\tinterest &  1         & 0.06837537 & 60         & 49.61698   & 0.7937171 \\\\\n",
       "\\end{tabular}\n"
      ],
      "text/markdown": [
       "\n",
       "| <!--/--> | Df | Deviance | Resid. Df | Resid. Dev | Pr(>Chi) |\n",
       "|---|---|---|---|---|---|\n",
       "| NULL | NA         |         NA | 66         | 52.86738   |        NA  |\n",
       "| sex |  1         | 1.74956698 | 65         | 51.11781   | 0.1859312  |\n",
       "| definition |  1         | 0.13722158 | 64         | 50.98059   | 0.7110589  |\n",
       "| need |  1         | 0.07351167 | 63         | 50.90708   | 0.7862908  |\n",
       "| purpose |  2         | 1.22172840 | 61         | 49.68535   | 0.5428815  |\n",
       "| interest |  1         | 0.06837537 | 60         | 49.61698   | 0.7937171  |\n",
       "\n"
      ],
      "text/plain": [
       "           Df Deviance   Resid. Df Resid. Dev Pr(>Chi) \n",
       "NULL       NA         NA 66        52.86738          NA\n",
       "sex         1 1.74956698 65        51.11781   0.1859312\n",
       "definition  1 0.13722158 64        50.98059   0.7110589\n",
       "need        1 0.07351167 63        50.90708   0.7862908\n",
       "purpose     2 1.22172840 61        49.68535   0.5428815\n",
       "interest    1 0.06837537 60        49.61698   0.7937171"
      ]
     },
     "metadata": {},
     "output_type": "display_data"
    },
    {
     "data": {
      "text/html": [
       "0.52536231884058"
      ],
      "text/latex": [
       "0.52536231884058"
      ],
      "text/markdown": [
       "0.52536231884058"
      ],
      "text/plain": [
       "[1] 0.5253623"
      ]
     },
     "metadata": {},
     "output_type": "display_data"
    },
    {
     "data": {
      "image/png": "[encoded data removed]",
      "text/plain": [
       "plot without title"
      ]
     },
     "metadata": {},
     "output_type": "display_data"
    }
   ],
   "source": [
    "model <- glm(t2_5 ~ sex + definition + need + purpose \n",
    "              + interest, data =train, family = binomial)\n",
    "summary(model)\n",
    "\n",
    "\n",
    "anova(model, test=\"Chisq\")\n",
    "\n",
    "\n",
    "p <- predict(model, newdata=test, type=\"response\")\n",
    "pr <- prediction(p, test$t2_5)\n",
    "prf <- performance(pr, measure = \"tpr\", x.measure = \"fpr\")\n",
    "plot(prf)\n",
    "\n",
    "auc <- performance(pr, measure = \"auc\")\n",
    "auc <- auc@y.values[[1]]\n",
    "auc"
   ]
  },
  {
   "cell_type": "code",
   "execution_count": 25,
   "metadata": {},
   "outputs": [
    {
     "data": {
      "text/plain": [
       "\n",
       "Call:\n",
       "glm(formula = d1_1 ~ sex + definition + need + purpose + interest, \n",
       "    family = binomial, data = train)\n",
       "\n",
       "Deviance Residuals: \n",
       "    Min       1Q   Median       3Q      Max  \n",
       "-0.9638  -0.5234  -0.4021  -0.2614   2.4466  \n",
       "\n",
       "Coefficients:\n",
       "                  Estimate Std. Error z value Pr(>|z|)  \n",
       "(Intercept)       -3.92840    1.78800  -2.197    0.028 *\n",
       "sexMale           -1.00717    0.97635  -1.032    0.302  \n",
       "definitionharmony  0.83717    1.30227   0.643    0.520  \n",
       "needharmony        1.02297    1.03322   0.990    0.322  \n",
       "purposecosmetic    0.06812    1.03175   0.066    0.947  \n",
       "purposeetc        -1.56310    1.33573  -1.170    0.242  \n",
       "interest           0.38565    0.38277   1.008    0.314  \n",
       "---\n",
       "Signif. codes:  0 '***' 0.001 '**' 0.01 '*' 0.05 '.' 0.1 ' ' 1\n",
       "\n",
       "(Dispersion parameter for binomial family taken to be 1)\n",
       "\n",
       "    Null deviance: 49.008  on 66  degrees of freedom\n",
       "Residual deviance: 44.641  on 60  degrees of freedom\n",
       "AIC: 58.641\n",
       "\n",
       "Number of Fisher Scoring iterations: 5\n"
      ]
     },
     "metadata": {},
     "output_type": "display_data"
    },
    {
     "data": {
      "text/html": [
       "<table>\n",
       "<thead><tr><th></th><th scope=col>Df</th><th scope=col>Deviance</th><th scope=col>Resid. Df</th><th scope=col>Resid. Dev</th><th scope=col>Pr(&gt;Chi)</th></tr></thead>\n",
       "<tbody>\n",
       "\t<tr><th scope=row>NULL</th><td>NA        </td><td>        NA</td><td>66        </td><td>49.00833  </td><td>       NA </td></tr>\n",
       "\t<tr><th scope=row>sex</th><td> 1        </td><td>0.06942676</td><td>65        </td><td>48.93890  </td><td>0.7921733 </td></tr>\n",
       "\t<tr><th scope=row>definition</th><td> 1        </td><td>0.89722680</td><td>64        </td><td>48.04167  </td><td>0.3435264 </td></tr>\n",
       "\t<tr><th scope=row>need</th><td> 1        </td><td>0.90105074</td><td>63        </td><td>47.14062  </td><td>0.3425001 </td></tr>\n",
       "\t<tr><th scope=row>purpose</th><td> 2        </td><td>1.42823961</td><td>61        </td><td>45.71238  </td><td>0.4896229 </td></tr>\n",
       "\t<tr><th scope=row>interest</th><td> 1        </td><td>1.07144620</td><td>60        </td><td>44.64094  </td><td>0.3006190 </td></tr>\n",
       "</tbody>\n",
       "</table>\n"
      ],
      "text/latex": [
       "\\begin{tabular}{r|lllll}\n",
       "  & Df & Deviance & Resid. Df & Resid. Dev & Pr(>Chi)\\\\\n",
       "\\hline\n",
       "\tNULL & NA         &         NA & 66         & 49.00833   &        NA \\\\\n",
       "\tsex &  1         & 0.06942676 & 65         & 48.93890   & 0.7921733 \\\\\n",
       "\tdefinition &  1         & 0.89722680 & 64         & 48.04167   & 0.3435264 \\\\\n",
       "\tneed &  1         & 0.90105074 & 63         & 47.14062   & 0.3425001 \\\\\n",
       "\tpurpose &  2         & 1.42823961 & 61         & 45.71238   & 0.4896229 \\\\\n",
       "\tinterest &  1         & 1.07144620 & 60         & 44.64094   & 0.3006190 \\\\\n",
       "\\end{tabular}\n"
      ],
      "text/markdown": [
       "\n",
       "| <!--/--> | Df | Deviance | Resid. Df | Resid. Dev | Pr(>Chi) |\n",
       "|---|---|---|---|---|---|\n",
       "| NULL | NA         |         NA | 66         | 49.00833   |        NA  |\n",
       "| sex |  1         | 0.06942676 | 65         | 48.93890   | 0.7921733  |\n",
       "| definition |  1         | 0.89722680 | 64         | 48.04167   | 0.3435264  |\n",
       "| need |  1         | 0.90105074 | 63         | 47.14062   | 0.3425001  |\n",
       "| purpose |  2         | 1.42823961 | 61         | 45.71238   | 0.4896229  |\n",
       "| interest |  1         | 1.07144620 | 60         | 44.64094   | 0.3006190  |\n",
       "\n"
      ],
      "text/plain": [
       "           Df Deviance   Resid. Df Resid. Dev Pr(>Chi) \n",
       "NULL       NA         NA 66        49.00833          NA\n",
       "sex         1 0.06942676 65        48.93890   0.7921733\n",
       "definition  1 0.89722680 64        48.04167   0.3435264\n",
       "need        1 0.90105074 63        47.14062   0.3425001\n",
       "purpose     2 1.42823961 61        45.71238   0.4896229\n",
       "interest    1 1.07144620 60        44.64094   0.3006190"
      ]
     },
     "metadata": {},
     "output_type": "display_data"
    },
    {
     "data": {
      "text/html": [
       "0.342592592592593"
      ],
      "text/latex": [
       "0.342592592592593"
      ],
      "text/markdown": [
       "0.342592592592593"
      ],
      "text/plain": [
       "[1] 0.3425926"
      ]
     },
     "metadata": {},
     "output_type": "display_data"
    },
    {
     "data": {
      "image/png": "[encoded data removed]",
      "text/plain": [
       "plot without title"
      ]
     },
     "metadata": {},
     "output_type": "display_data"
    }
   ],
   "source": [
    "model <- glm(d1_1 ~ sex + definition + need + purpose \n",
    "              + interest, data =train, family = binomial)\n",
    "summary(model)\n",
    "\n",
    "\n",
    "anova(model, test=\"Chisq\")\n",
    "\n",
    "\n",
    "p <- predict(model, newdata=test, type=\"response\")\n",
    "pr <- prediction(p, test$d1_1)\n",
    "prf <- performance(pr, measure = \"tpr\", x.measure = \"fpr\")\n",
    "plot(prf)\n",
    "\n",
    "auc <- performance(pr, measure = \"auc\")\n",
    "auc <- auc@y.values[[1]]\n",
    "auc"
   ]
  },
  {
   "cell_type": "code",
   "execution_count": 26,
   "metadata": {},
   "outputs": [
    {
     "data": {
      "text/plain": [
       "\n",
       "Call:\n",
       "glm(formula = d1_2 ~ sex + definition + need + purpose + interest, \n",
       "    family = binomial, data = train)\n",
       "\n",
       "Deviance Residuals: \n",
       "    Min       1Q   Median       3Q      Max  \n",
       "-1.4815  -0.9148  -0.7155   1.2339   1.7404  \n",
       "\n",
       "Coefficients:\n",
       "                  Estimate Std. Error z value Pr(>|z|)\n",
       "(Intercept)         1.2245     1.1279   1.086    0.278\n",
       "sexMale            -0.4991     0.6939  -0.719    0.472\n",
       "definitionharmony  -0.2972     0.7165  -0.415    0.678\n",
       "needharmony        -0.5496     0.6285  -0.875    0.382\n",
       "purposecosmetic    -0.6846     0.8229  -0.832    0.405\n",
       "purposeetc         -0.8439     0.7928  -1.064    0.287\n",
       "interest           -0.2666     0.2506  -1.064    0.287\n",
       "\n",
       "(Dispersion parameter for binomial family taken to be 1)\n",
       "\n",
       "    Null deviance: 86.187  on 66  degrees of freedom\n",
       "Residual deviance: 82.002  on 60  degrees of freedom\n",
       "AIC: 96.002\n",
       "\n",
       "Number of Fisher Scoring iterations: 4\n"
      ]
     },
     "metadata": {},
     "output_type": "display_data"
    },
    {
     "data": {
      "text/html": [
       "<table>\n",
       "<thead><tr><th></th><th scope=col>Df</th><th scope=col>Deviance</th><th scope=col>Resid. Df</th><th scope=col>Resid. Dev</th><th scope=col>Pr(&gt;Chi)</th></tr></thead>\n",
       "<tbody>\n",
       "\t<tr><th scope=row>NULL</th><td>NA       </td><td>       NA</td><td>66       </td><td>86.18739 </td><td>       NA</td></tr>\n",
       "\t<tr><th scope=row>sex</th><td> 1       </td><td>0.1022484</td><td>65       </td><td>86.08514 </td><td>0.7491480</td></tr>\n",
       "\t<tr><th scope=row>definition</th><td> 1       </td><td>0.7133216</td><td>64       </td><td>85.37182 </td><td>0.3983433</td></tr>\n",
       "\t<tr><th scope=row>need</th><td> 1       </td><td>0.4958610</td><td>63       </td><td>84.87596 </td><td>0.4813244</td></tr>\n",
       "\t<tr><th scope=row>purpose</th><td> 2       </td><td>1.7161374</td><td>61       </td><td>83.15982 </td><td>0.4239801</td></tr>\n",
       "\t<tr><th scope=row>interest</th><td> 1       </td><td>1.1580611</td><td>60       </td><td>82.00176 </td><td>0.2818680</td></tr>\n",
       "</tbody>\n",
       "</table>\n"
      ],
      "text/latex": [
       "\\begin{tabular}{r|lllll}\n",
       "  & Df & Deviance & Resid. Df & Resid. Dev & Pr(>Chi)\\\\\n",
       "\\hline\n",
       "\tNULL & NA        &        NA & 66        & 86.18739  &        NA\\\\\n",
       "\tsex &  1        & 0.1022484 & 65        & 86.08514  & 0.7491480\\\\\n",
       "\tdefinition &  1        & 0.7133216 & 64        & 85.37182  & 0.3983433\\\\\n",
       "\tneed &  1        & 0.4958610 & 63        & 84.87596  & 0.4813244\\\\\n",
       "\tpurpose &  2        & 1.7161374 & 61        & 83.15982  & 0.4239801\\\\\n",
       "\tinterest &  1        & 1.1580611 & 60        & 82.00176  & 0.2818680\\\\\n",
       "\\end{tabular}\n"
      ],
      "text/markdown": [
       "\n",
       "| <!--/--> | Df | Deviance | Resid. Df | Resid. Dev | Pr(>Chi) |\n",
       "|---|---|---|---|---|---|\n",
       "| NULL | NA        |        NA | 66        | 86.18739  |        NA |\n",
       "| sex |  1        | 0.1022484 | 65        | 86.08514  | 0.7491480 |\n",
       "| definition |  1        | 0.7133216 | 64        | 85.37182  | 0.3983433 |\n",
       "| need |  1        | 0.4958610 | 63        | 84.87596  | 0.4813244 |\n",
       "| purpose |  2        | 1.7161374 | 61        | 83.15982  | 0.4239801 |\n",
       "| interest |  1        | 1.1580611 | 60        | 82.00176  | 0.2818680 |\n",
       "\n"
      ],
      "text/plain": [
       "           Df Deviance  Resid. Df Resid. Dev Pr(>Chi) \n",
       "NULL       NA        NA 66        86.18739          NA\n",
       "sex         1 0.1022484 65        86.08514   0.7491480\n",
       "definition  1 0.7133216 64        85.37182   0.3983433\n",
       "need        1 0.4958610 63        84.87596   0.4813244\n",
       "purpose     2 1.7161374 61        83.15982   0.4239801\n",
       "interest    1 1.1580611 60        82.00176   0.2818680"
      ]
     },
     "metadata": {},
     "output_type": "display_data"
    },
    {
     "data": {
      "text/html": [
       "0.755555555555556"
      ],
      "text/latex": [
       "0.755555555555556"
      ],
      "text/markdown": [
       "0.755555555555556"
      ],
      "text/plain": [
       "[1] 0.7555556"
      ]
     },
     "metadata": {},
     "output_type": "display_data"
    },
    {
     "data": {
      "image/png": "[encoded data removed]",
      "text/plain": [
       "plot without title"
      ]
     },
     "metadata": {},
     "output_type": "display_data"
    }
   ],
   "source": [
    "model <- glm(d1_2 ~ sex + definition + need + purpose \n",
    "              + interest, data =train, family = binomial)\n",
    "summary(model)\n",
    "\n",
    "\n",
    "anova(model, test=\"Chisq\")\n",
    "\n",
    "\n",
    "p <- predict(model, newdata=test, type=\"response\")\n",
    "pr <- prediction(p, test$d1_2)\n",
    "prf <- performance(pr, measure = \"tpr\", x.measure = \"fpr\")\n",
    "plot(prf)\n",
    "\n",
    "auc <- performance(pr, measure = \"auc\")\n",
    "auc <- auc@y.values[[1]]\n",
    "auc"
   ]
  },
  {
   "cell_type": "code",
   "execution_count": 27,
   "metadata": {},
   "outputs": [
    {
     "data": {
      "text/plain": [
       "\n",
       "Call:\n",
       "glm(formula = d1_3 ~ sex + definition + need + purpose + interest, \n",
       "    family = binomial, data = train)\n",
       "\n",
       "Deviance Residuals: \n",
       "     Min        1Q    Median        3Q       Max  \n",
       "-0.95017  -0.57565  -0.36681  -0.00013   2.07400  \n",
       "\n",
       "Coefficients:\n",
       "                   Estimate Std. Error z value Pr(>|z|)  \n",
       "(Intercept)         -4.6808     2.3142  -2.023   0.0431 *\n",
       "sexMale              2.1923     1.4999   1.462   0.1438  \n",
       "definitionharmony    0.9336     1.2709   0.735   0.4626  \n",
       "needharmony         -1.0132     0.8953  -1.132   0.2577  \n",
       "purposecosmetic    -15.4352  1755.9130  -0.009   0.9930  \n",
       "purposeetc           1.7363     1.4130   1.229   0.2191  \n",
       "interest             0.2705     0.3469   0.780   0.4356  \n",
       "---\n",
       "Signif. codes:  0 '***' 0.001 '**' 0.01 '*' 0.05 '.' 0.1 ' ' 1\n",
       "\n",
       "(Dispersion parameter for binomial family taken to be 1)\n",
       "\n",
       "    Null deviance: 49.008  on 66  degrees of freedom\n",
       "Residual deviance: 41.085  on 60  degrees of freedom\n",
       "AIC: 55.085\n",
       "\n",
       "Number of Fisher Scoring iterations: 17\n"
      ]
     },
     "metadata": {},
     "output_type": "display_data"
    },
    {
     "data": {
      "text/html": [
       "<table>\n",
       "<thead><tr><th></th><th scope=col>Df</th><th scope=col>Deviance</th><th scope=col>Resid. Df</th><th scope=col>Resid. Dev</th><th scope=col>Pr(&gt;Chi)</th></tr></thead>\n",
       "<tbody>\n",
       "\t<tr><th scope=row>NULL</th><td>NA       </td><td>       NA</td><td>66       </td><td>49.00833 </td><td>       NA</td></tr>\n",
       "\t<tr><th scope=row>sex</th><td> 1       </td><td>1.5792173</td><td>65       </td><td>47.42911 </td><td>0.2088735</td></tr>\n",
       "\t<tr><th scope=row>definition</th><td> 1       </td><td>0.3082480</td><td>64       </td><td>47.12086 </td><td>0.5787573</td></tr>\n",
       "\t<tr><th scope=row>need</th><td> 1       </td><td>1.3762688</td><td>63       </td><td>45.74459 </td><td>0.2407377</td></tr>\n",
       "\t<tr><th scope=row>purpose</th><td> 2       </td><td>4.0444187</td><td>61       </td><td>41.70018 </td><td>0.1323627</td></tr>\n",
       "\t<tr><th scope=row>interest</th><td> 1       </td><td>0.6155506</td><td>60       </td><td>41.08462 </td><td>0.4327055</td></tr>\n",
       "</tbody>\n",
       "</table>\n"
      ],
      "text/latex": [
       "\\begin{tabular}{r|lllll}\n",
       "  & Df & Deviance & Resid. Df & Resid. Dev & Pr(>Chi)\\\\\n",
       "\\hline\n",
       "\tNULL & NA        &        NA & 66        & 49.00833  &        NA\\\\\n",
       "\tsex &  1        & 1.5792173 & 65        & 47.42911  & 0.2088735\\\\\n",
       "\tdefinition &  1        & 0.3082480 & 64        & 47.12086  & 0.5787573\\\\\n",
       "\tneed &  1        & 1.3762688 & 63        & 45.74459  & 0.2407377\\\\\n",
       "\tpurpose &  2        & 4.0444187 & 61        & 41.70018  & 0.1323627\\\\\n",
       "\tinterest &  1        & 0.6155506 & 60        & 41.08462  & 0.4327055\\\\\n",
       "\\end{tabular}\n"
      ],
      "text/markdown": [
       "\n",
       "| <!--/--> | Df | Deviance | Resid. Df | Resid. Dev | Pr(>Chi) |\n",
       "|---|---|---|---|---|---|\n",
       "| NULL | NA        |        NA | 66        | 49.00833  |        NA |\n",
       "| sex |  1        | 1.5792173 | 65        | 47.42911  | 0.2088735 |\n",
       "| definition |  1        | 0.3082480 | 64        | 47.12086  | 0.5787573 |\n",
       "| need |  1        | 1.3762688 | 63        | 45.74459  | 0.2407377 |\n",
       "| purpose |  2        | 4.0444187 | 61        | 41.70018  | 0.1323627 |\n",
       "| interest |  1        | 0.6155506 | 60        | 41.08462  | 0.4327055 |\n",
       "\n"
      ],
      "text/plain": [
       "           Df Deviance  Resid. Df Resid. Dev Pr(>Chi) \n",
       "NULL       NA        NA 66        49.00833          NA\n",
       "sex         1 1.5792173 65        47.42911   0.2088735\n",
       "definition  1 0.3082480 64        47.12086   0.5787573\n",
       "need        1 1.3762688 63        45.74459   0.2407377\n",
       "purpose     2 4.0444187 61        41.70018   0.1323627\n",
       "interest    1 0.6155506 60        41.08462   0.4327055"
      ]
     },
     "metadata": {},
     "output_type": "display_data"
    },
    {
     "data": {
      "text/html": [
       "0.66025641025641"
      ],
      "text/latex": [
       "0.66025641025641"
      ],
      "text/markdown": [
       "0.66025641025641"
      ],
      "text/plain": [
       "[1] 0.6602564"
      ]
     },
     "metadata": {},
     "output_type": "display_data"
    },
    {
     "data": {
      "image/png": "[encoded data removed]",
      "text/plain": [
       "plot without title"
      ]
     },
     "metadata": {},
     "output_type": "display_data"
    }
   ],
   "source": [
    "model <- glm(d1_3 ~ sex + definition + need + purpose \n",
    "              + interest, data =train, family = binomial)\n",
    "summary(model)\n",
    "\n",
    "\n",
    "anova(model, test=\"Chisq\")\n",
    "\n",
    "\n",
    "p <- predict(model, newdata=test, type=\"response\")\n",
    "pr <- prediction(p, test$d1_3)\n",
    "prf <- performance(pr, measure = \"tpr\", x.measure = \"fpr\")\n",
    "plot(prf)\n",
    "\n",
    "auc <- performance(pr, measure = \"auc\")\n",
    "auc <- auc@y.values[[1]]\n",
    "auc"
   ]
  },
  {
   "cell_type": "code",
   "execution_count": 28,
   "metadata": {},
   "outputs": [
    {
     "data": {
      "text/plain": [
       "\n",
       "Call:\n",
       "glm(formula = d1_5 ~ sex + definition + need + purpose + interest, \n",
       "    family = binomial, data = train)\n",
       "\n",
       "Deviance Residuals: \n",
       "    Min       1Q   Median       3Q      Max  \n",
       "-1.0203  -0.8270  -0.6831   0.3266   1.8809  \n",
       "\n",
       "Coefficients:\n",
       "                  Estimate Std. Error z value Pr(>|z|)\n",
       "(Intercept)       -1.85241    1.22988  -1.506    0.132\n",
       "sexMale            0.63907    0.80278   0.796    0.426\n",
       "definitionharmony  0.15806    0.85215   0.185    0.853\n",
       "needharmony        0.29479    0.69476   0.424    0.671\n",
       "purposecosmetic    0.60702    0.92339   0.657    0.511\n",
       "purposeetc         0.89864    0.86961   1.033    0.301\n",
       "interest          -0.04558    0.25199  -0.181    0.856\n",
       "\n",
       "(Dispersion parameter for binomial family taken to be 1)\n",
       "\n",
       "    Null deviance: 75.897  on 66  degrees of freedom\n",
       "Residual deviance: 73.950  on 60  degrees of freedom\n",
       "AIC: 87.95\n",
       "\n",
       "Number of Fisher Scoring iterations: 4\n"
      ]
     },
     "metadata": {},
     "output_type": "display_data"
    },
    {
     "data": {
      "text/html": [
       "<table>\n",
       "<thead><tr><th></th><th scope=col>Df</th><th scope=col>Deviance</th><th scope=col>Resid. Df</th><th scope=col>Resid. Dev</th><th scope=col>Pr(&gt;Chi)</th></tr></thead>\n",
       "<tbody>\n",
       "\t<tr><th scope=row>NULL</th><td>NA        </td><td>        NA</td><td>66        </td><td>75.89726  </td><td>       NA </td></tr>\n",
       "\t<tr><th scope=row>sex</th><td> 1        </td><td>0.25823669</td><td>65        </td><td>75.63902  </td><td>0.6113342 </td></tr>\n",
       "\t<tr><th scope=row>definition</th><td> 1        </td><td>0.36503405</td><td>64        </td><td>75.27399  </td><td>0.5457237 </td></tr>\n",
       "\t<tr><th scope=row>need</th><td> 1        </td><td>0.17885197</td><td>63        </td><td>75.09513  </td><td>0.6723617 </td></tr>\n",
       "\t<tr><th scope=row>purpose</th><td> 2        </td><td>1.11252937</td><td>61        </td><td>73.98260  </td><td>0.5733467 </td></tr>\n",
       "\t<tr><th scope=row>interest</th><td> 1        </td><td>0.03273954</td><td>60        </td><td>73.94987  </td><td>0.8564141 </td></tr>\n",
       "</tbody>\n",
       "</table>\n"
      ],
      "text/latex": [
       "\\begin{tabular}{r|lllll}\n",
       "  & Df & Deviance & Resid. Df & Resid. Dev & Pr(>Chi)\\\\\n",
       "\\hline\n",
       "\tNULL & NA         &         NA & 66         & 75.89726   &        NA \\\\\n",
       "\tsex &  1         & 0.25823669 & 65         & 75.63902   & 0.6113342 \\\\\n",
       "\tdefinition &  1         & 0.36503405 & 64         & 75.27399   & 0.5457237 \\\\\n",
       "\tneed &  1         & 0.17885197 & 63         & 75.09513   & 0.6723617 \\\\\n",
       "\tpurpose &  2         & 1.11252937 & 61         & 73.98260   & 0.5733467 \\\\\n",
       "\tinterest &  1         & 0.03273954 & 60         & 73.94987   & 0.8564141 \\\\\n",
       "\\end{tabular}\n"
      ],
      "text/markdown": [
       "\n",
       "| <!--/--> | Df | Deviance | Resid. Df | Resid. Dev | Pr(>Chi) |\n",
       "|---|---|---|---|---|---|\n",
       "| NULL | NA         |         NA | 66         | 75.89726   |        NA  |\n",
       "| sex |  1         | 0.25823669 | 65         | 75.63902   | 0.6113342  |\n",
       "| definition |  1         | 0.36503405 | 64         | 75.27399   | 0.5457237  |\n",
       "| need |  1         | 0.17885197 | 63         | 75.09513   | 0.6723617  |\n",
       "| purpose |  2         | 1.11252937 | 61         | 73.98260   | 0.5733467  |\n",
       "| interest |  1         | 0.03273954 | 60         | 73.94987   | 0.8564141  |\n",
       "\n"
      ],
      "text/plain": [
       "           Df Deviance   Resid. Df Resid. Dev Pr(>Chi) \n",
       "NULL       NA         NA 66        75.89726          NA\n",
       "sex         1 0.25823669 65        75.63902   0.6113342\n",
       "definition  1 0.36503405 64        75.27399   0.5457237\n",
       "need        1 0.17885197 63        75.09513   0.6723617\n",
       "purpose     2 1.11252937 61        73.98260   0.5733467\n",
       "interest    1 0.03273954 60        73.94987   0.8564141"
      ]
     },
     "metadata": {},
     "output_type": "display_data"
    },
    {
     "data": {
      "text/html": [
       "0.713235294117647"
      ],
      "text/latex": [
       "0.713235294117647"
      ],
      "text/markdown": [
       "0.713235294117647"
      ],
      "text/plain": [
       "[1] 0.7132353"
      ]
     },
     "metadata": {},
     "output_type": "display_data"
    },
    {
     "data": {
      "image/png": "[encoded data removed]",
      "text/plain": [
       "plot without title"
      ]
     },
     "metadata": {},
     "output_type": "display_data"
    }
   ],
   "source": [
    "model <- glm(d1_5 ~ sex + definition + need + purpose \n",
    "              + interest, data =train, family = binomial)\n",
    "summary(model)\n",
    "\n",
    "\n",
    "anova(model, test=\"Chisq\")\n",
    "\n",
    "\n",
    "p <- predict(model, newdata=test, type=\"response\")\n",
    "pr <- prediction(p, test$d1_5)\n",
    "prf <- performance(pr, measure = \"tpr\", x.measure = \"fpr\")\n",
    "plot(prf)\n",
    "\n",
    "auc <- performance(pr, measure = \"auc\")\n",
    "auc <- auc@y.values[[1]]\n",
    "auc"
   ]
  },
  {
   "cell_type": "code",
   "execution_count": 29,
   "metadata": {},
   "outputs": [
    {
     "data": {
      "text/plain": [
       "\n",
       "Call:\n",
       "glm(formula = d2_1 ~ sex + definition + need + purpose + interest, \n",
       "    family = binomial, data = train)\n",
       "\n",
       "Deviance Residuals: \n",
       "    Min       1Q   Median       3Q      Max  \n",
       "-1.0292  -0.4645  -0.3529  -0.2319   2.2617  \n",
       "\n",
       "Coefficients:\n",
       "                  Estimate Std. Error z value Pr(>|z|)  \n",
       "(Intercept)        -5.1156     2.0645  -2.478   0.0132 *\n",
       "sexMale             0.1279     1.1533   0.111   0.9117  \n",
       "definitionharmony   1.0987     1.3104   0.838   0.4018  \n",
       "needharmony        -0.6140     1.0280  -0.597   0.5503  \n",
       "purposecosmetic    -0.2322     1.3194  -0.176   0.8603  \n",
       "purposeetc         -1.0800     1.4727  -0.733   0.4633  \n",
       "interest            0.7060     0.4456   1.584   0.1131  \n",
       "---\n",
       "Signif. codes:  0 '***' 0.001 '**' 0.01 '*' 0.05 '.' 0.1 ' ' 1\n",
       "\n",
       "(Dispersion parameter for binomial family taken to be 1)\n",
       "\n",
       "    Null deviance: 40.401  on 66  degrees of freedom\n",
       "Residual deviance: 36.535  on 60  degrees of freedom\n",
       "AIC: 50.535\n",
       "\n",
       "Number of Fisher Scoring iterations: 6\n"
      ]
     },
     "metadata": {},
     "output_type": "display_data"
    },
    {
     "data": {
      "text/html": [
       "<table>\n",
       "<thead><tr><th></th><th scope=col>Df</th><th scope=col>Deviance</th><th scope=col>Resid. Df</th><th scope=col>Resid. Dev</th><th scope=col>Pr(&gt;Chi)</th></tr></thead>\n",
       "<tbody>\n",
       "\t<tr><th scope=row>NULL</th><td>NA        </td><td>       NA </td><td>66        </td><td>40.40109  </td><td>        NA</td></tr>\n",
       "\t<tr><th scope=row>sex</th><td> 1        </td><td>0.1803272 </td><td>65        </td><td>40.22076  </td><td>0.67109216</td></tr>\n",
       "\t<tr><th scope=row>definition</th><td> 1        </td><td>0.1250170 </td><td>64        </td><td>40.09574  </td><td>0.72365554</td></tr>\n",
       "\t<tr><th scope=row>need</th><td> 1        </td><td>0.5146654 </td><td>63        </td><td>39.58108  </td><td>0.47312617</td></tr>\n",
       "\t<tr><th scope=row>purpose</th><td> 2        </td><td>0.1592705 </td><td>61        </td><td>39.42181  </td><td>0.92345309</td></tr>\n",
       "\t<tr><th scope=row>interest</th><td> 1        </td><td>2.8863971 </td><td>60        </td><td>36.53541  </td><td>0.08933049</td></tr>\n",
       "</tbody>\n",
       "</table>\n"
      ],
      "text/latex": [
       "\\begin{tabular}{r|lllll}\n",
       "  & Df & Deviance & Resid. Df & Resid. Dev & Pr(>Chi)\\\\\n",
       "\\hline\n",
       "\tNULL & NA         &        NA  & 66         & 40.40109   &         NA\\\\\n",
       "\tsex &  1         & 0.1803272  & 65         & 40.22076   & 0.67109216\\\\\n",
       "\tdefinition &  1         & 0.1250170  & 64         & 40.09574   & 0.72365554\\\\\n",
       "\tneed &  1         & 0.5146654  & 63         & 39.58108   & 0.47312617\\\\\n",
       "\tpurpose &  2         & 0.1592705  & 61         & 39.42181   & 0.92345309\\\\\n",
       "\tinterest &  1         & 2.8863971  & 60         & 36.53541   & 0.08933049\\\\\n",
       "\\end{tabular}\n"
      ],
      "text/markdown": [
       "\n",
       "| <!--/--> | Df | Deviance | Resid. Df | Resid. Dev | Pr(>Chi) |\n",
       "|---|---|---|---|---|---|\n",
       "| NULL | NA         |        NA  | 66         | 40.40109   |         NA |\n",
       "| sex |  1         | 0.1803272  | 65         | 40.22076   | 0.67109216 |\n",
       "| definition |  1         | 0.1250170  | 64         | 40.09574   | 0.72365554 |\n",
       "| need |  1         | 0.5146654  | 63         | 39.58108   | 0.47312617 |\n",
       "| purpose |  2         | 0.1592705  | 61         | 39.42181   | 0.92345309 |\n",
       "| interest |  1         | 2.8863971  | 60         | 36.53541   | 0.08933049 |\n",
       "\n"
      ],
      "text/plain": [
       "           Df Deviance  Resid. Df Resid. Dev Pr(>Chi)  \n",
       "NULL       NA        NA 66        40.40109           NA\n",
       "sex         1 0.1803272 65        40.22076   0.67109216\n",
       "definition  1 0.1250170 64        40.09574   0.72365554\n",
       "need        1 0.5146654 63        39.58108   0.47312617\n",
       "purpose     2 0.1592705 61        39.42181   0.92345309\n",
       "interest    1 2.8863971 60        36.53541   0.08933049"
      ]
     },
     "metadata": {},
     "output_type": "display_data"
    },
    {
     "data": {
      "text/html": [
       "0.453703703703704"
      ],
      "text/latex": [
       "0.453703703703704"
      ],
      "text/markdown": [
       "0.453703703703704"
      ],
      "text/plain": [
       "[1] 0.4537037"
      ]
     },
     "metadata": {},
     "output_type": "display_data"
    },
    {
     "data": {
      "image/png": "[encoded data removed]",
      "text/plain": [
       "plot without title"
      ]
     },
     "metadata": {},
     "output_type": "display_data"
    }
   ],
   "source": [
    "model <- glm(d2_1 ~ sex + definition + need + purpose \n",
    "              + interest, data =train, family = binomial)\n",
    "summary(model)\n",
    "\n",
    "\n",
    "anova(model, test=\"Chisq\")\n",
    "\n",
    "\n",
    "p <- predict(model, newdata=test, type=\"response\")\n",
    "pr <- prediction(p, test$d2_1)\n",
    "prf <- performance(pr, measure = \"tpr\", x.measure = \"fpr\")\n",
    "plot(prf)\n",
    "\n",
    "auc <- performance(pr, measure = \"auc\")\n",
    "auc <- auc@y.values[[1]]\n",
    "auc"
   ]
  },
  {
   "cell_type": "code",
   "execution_count": 30,
   "metadata": {},
   "outputs": [
    {
     "data": {
      "text/plain": [
       "\n",
       "Call:\n",
       "glm(formula = d2_2 ~ sex + definition + need + purpose + interest, \n",
       "    family = binomial, data = train)\n",
       "\n",
       "Deviance Residuals: \n",
       "    Min       1Q   Median       3Q      Max  \n",
       "-1.3688  -1.0767  -0.6448   1.1232   1.8834  \n",
       "\n",
       "Coefficients:\n",
       "                  Estimate Std. Error z value Pr(>|z|)  \n",
       "(Intercept)       -1.78692    1.13037  -1.581   0.1139  \n",
       "sexMale           -0.21176    0.69551  -0.304   0.7608  \n",
       "definitionharmony  0.04709    0.79751   0.059   0.9529  \n",
       "needharmony        1.55347    0.68372   2.272   0.0231 *\n",
       "purposecosmetic   -0.14746    0.83077  -0.178   0.8591  \n",
       "purposeetc        -0.16060    0.78451  -0.205   0.8378  \n",
       "interest           0.15644    0.24119   0.649   0.5166  \n",
       "---\n",
       "Signif. codes:  0 '***' 0.001 '**' 0.01 '*' 0.05 '.' 0.1 ' ' 1\n",
       "\n",
       "(Dispersion parameter for binomial family taken to be 1)\n",
       "\n",
       "    Null deviance: 89.495  on 66  degrees of freedom\n",
       "Residual deviance: 81.608  on 60  degrees of freedom\n",
       "AIC: 95.608\n",
       "\n",
       "Number of Fisher Scoring iterations: 4\n"
      ]
     },
     "metadata": {},
     "output_type": "display_data"
    },
    {
     "data": {
      "text/html": [
       "<table>\n",
       "<thead><tr><th></th><th scope=col>Df</th><th scope=col>Deviance</th><th scope=col>Resid. Df</th><th scope=col>Resid. Dev</th><th scope=col>Pr(&gt;Chi)</th></tr></thead>\n",
       "<tbody>\n",
       "\t<tr><th scope=row>NULL</th><td>NA        </td><td>       NA </td><td>66        </td><td>89.49488  </td><td>        NA</td></tr>\n",
       "\t<tr><th scope=row>sex</th><td> 1        </td><td>0.3316158 </td><td>65        </td><td>89.16327  </td><td>0.56470921</td></tr>\n",
       "\t<tr><th scope=row>definition</th><td> 1        </td><td>1.4917753 </td><td>64        </td><td>87.67149  </td><td>0.22194122</td></tr>\n",
       "\t<tr><th scope=row>need</th><td> 1        </td><td>5.6068490 </td><td>63        </td><td>82.06464  </td><td>0.01789041</td></tr>\n",
       "\t<tr><th scope=row>purpose</th><td> 2        </td><td>0.0312564 </td><td>61        </td><td>82.03339  </td><td>0.98449329</td></tr>\n",
       "\t<tr><th scope=row>interest</th><td> 1        </td><td>0.4249521 </td><td>60        </td><td>81.60843  </td><td>0.51447633</td></tr>\n",
       "</tbody>\n",
       "</table>\n"
      ],
      "text/latex": [
       "\\begin{tabular}{r|lllll}\n",
       "  & Df & Deviance & Resid. Df & Resid. Dev & Pr(>Chi)\\\\\n",
       "\\hline\n",
       "\tNULL & NA         &        NA  & 66         & 89.49488   &         NA\\\\\n",
       "\tsex &  1         & 0.3316158  & 65         & 89.16327   & 0.56470921\\\\\n",
       "\tdefinition &  1         & 1.4917753  & 64         & 87.67149   & 0.22194122\\\\\n",
       "\tneed &  1         & 5.6068490  & 63         & 82.06464   & 0.01789041\\\\\n",
       "\tpurpose &  2         & 0.0312564  & 61         & 82.03339   & 0.98449329\\\\\n",
       "\tinterest &  1         & 0.4249521  & 60         & 81.60843   & 0.51447633\\\\\n",
       "\\end{tabular}\n"
      ],
      "text/markdown": [
       "\n",
       "| <!--/--> | Df | Deviance | Resid. Df | Resid. Dev | Pr(>Chi) |\n",
       "|---|---|---|---|---|---|\n",
       "| NULL | NA         |        NA  | 66         | 89.49488   |         NA |\n",
       "| sex |  1         | 0.3316158  | 65         | 89.16327   | 0.56470921 |\n",
       "| definition |  1         | 1.4917753  | 64         | 87.67149   | 0.22194122 |\n",
       "| need |  1         | 5.6068490  | 63         | 82.06464   | 0.01789041 |\n",
       "| purpose |  2         | 0.0312564  | 61         | 82.03339   | 0.98449329 |\n",
       "| interest |  1         | 0.4249521  | 60         | 81.60843   | 0.51447633 |\n",
       "\n"
      ],
      "text/plain": [
       "           Df Deviance  Resid. Df Resid. Dev Pr(>Chi)  \n",
       "NULL       NA        NA 66        89.49488           NA\n",
       "sex         1 0.3316158 65        89.16327   0.56470921\n",
       "definition  1 1.4917753 64        87.67149   0.22194122\n",
       "need        1 5.6068490 63        82.06464   0.01789041\n",
       "purpose     2 0.0312564 61        82.03339   0.98449329\n",
       "interest    1 0.4249521 60        81.60843   0.51447633"
      ]
     },
     "metadata": {},
     "output_type": "display_data"
    },
    {
     "data": {
      "text/html": [
       "0.369444444444444"
      ],
      "text/latex": [
       "0.369444444444444"
      ],
      "text/markdown": [
       "0.369444444444444"
      ],
      "text/plain": [
       "[1] 0.3694444"
      ]
     },
     "metadata": {},
     "output_type": "display_data"
    },
    {
     "data": {
      "image/png": "[encoded data removed]",
      "text/plain": [
       "plot without title"
      ]
     },
     "metadata": {},
     "output_type": "display_data"
    }
   ],
   "source": [
    "model <- glm(d2_2 ~ sex + definition + need + purpose \n",
    "              + interest, data =train, family = binomial)\n",
    "summary(model)\n",
    "\n",
    "\n",
    "anova(model, test=\"Chisq\")\n",
    "\n",
    "\n",
    "p <- predict(model, newdata=test, type=\"response\")\n",
    "pr <- prediction(p, test$d2_2)\n",
    "prf <- performance(pr, measure = \"tpr\", x.measure = \"fpr\")\n",
    "plot(prf)\n",
    "\n",
    "auc <- performance(pr, measure = \"auc\")\n",
    "auc <- auc@y.values[[1]]\n",
    "auc"
   ]
  },
  {
   "cell_type": "code",
   "execution_count": 31,
   "metadata": {},
   "outputs": [
    {
     "data": {
      "text/plain": [
       "\n",
       "Call:\n",
       "glm(formula = d2_3 ~ sex + definition + need + purpose + interest, \n",
       "    family = binomial, data = train)\n",
       "\n",
       "Deviance Residuals: \n",
       "    Min       1Q   Median       3Q      Max  \n",
       "-1.3747  -0.6350  -0.4466  -0.2849   2.1702  \n",
       "\n",
       "Coefficients:\n",
       "                  Estimate Std. Error z value Pr(>|z|)  \n",
       "(Intercept)        -0.7285     1.4766  -0.493   0.6217  \n",
       "sexMale            -0.1025     0.9597  -0.107   0.9149  \n",
       "definitionharmony   1.1071     1.0487   1.056   0.2911  \n",
       "needharmony        -0.8216     0.7781  -1.056   0.2910  \n",
       "purposecosmetic     1.4656     1.0161   1.442   0.1492  \n",
       "purposeetc          0.6538     1.0046   0.651   0.5152  \n",
       "interest           -0.5699     0.3210  -1.775   0.0758 .\n",
       "---\n",
       "Signif. codes:  0 '***' 0.001 '**' 0.01 '*' 0.05 '.' 0.1 ' ' 1\n",
       "\n",
       "(Dispersion parameter for binomial family taken to be 1)\n",
       "\n",
       "    Null deviance: 62.984  on 66  degrees of freedom\n",
       "Residual deviance: 55.379  on 60  degrees of freedom\n",
       "AIC: 69.379\n",
       "\n",
       "Number of Fisher Scoring iterations: 5\n"
      ]
     },
     "metadata": {},
     "output_type": "display_data"
    },
    {
     "data": {
      "text/html": [
       "<table>\n",
       "<thead><tr><th></th><th scope=col>Df</th><th scope=col>Deviance</th><th scope=col>Resid. Df</th><th scope=col>Resid. Dev</th><th scope=col>Pr(&gt;Chi)</th></tr></thead>\n",
       "<tbody>\n",
       "\t<tr><th scope=row>NULL</th><td>NA       </td><td>       NA</td><td>66       </td><td>62.98440 </td><td>       NA</td></tr>\n",
       "\t<tr><th scope=row>sex</th><td> 1       </td><td>0.4383502</td><td>65       </td><td>62.54605 </td><td>0.5079198</td></tr>\n",
       "\t<tr><th scope=row>definition</th><td> 1       </td><td>0.7382536</td><td>64       </td><td>61.80780 </td><td>0.3902209</td></tr>\n",
       "\t<tr><th scope=row>need</th><td> 1       </td><td>0.6167415</td><td>63       </td><td>61.19106 </td><td>0.4322608</td></tr>\n",
       "\t<tr><th scope=row>purpose</th><td> 2       </td><td>2.3357653</td><td>61       </td><td>58.85529 </td><td>0.3110248</td></tr>\n",
       "\t<tr><th scope=row>interest</th><td> 1       </td><td>3.4764034</td><td>60       </td><td>55.37889 </td><td>0.0622499</td></tr>\n",
       "</tbody>\n",
       "</table>\n"
      ],
      "text/latex": [
       "\\begin{tabular}{r|lllll}\n",
       "  & Df & Deviance & Resid. Df & Resid. Dev & Pr(>Chi)\\\\\n",
       "\\hline\n",
       "\tNULL & NA        &        NA & 66        & 62.98440  &        NA\\\\\n",
       "\tsex &  1        & 0.4383502 & 65        & 62.54605  & 0.5079198\\\\\n",
       "\tdefinition &  1        & 0.7382536 & 64        & 61.80780  & 0.3902209\\\\\n",
       "\tneed &  1        & 0.6167415 & 63        & 61.19106  & 0.4322608\\\\\n",
       "\tpurpose &  2        & 2.3357653 & 61        & 58.85529  & 0.3110248\\\\\n",
       "\tinterest &  1        & 3.4764034 & 60        & 55.37889  & 0.0622499\\\\\n",
       "\\end{tabular}\n"
      ],
      "text/markdown": [
       "\n",
       "| <!--/--> | Df | Deviance | Resid. Df | Resid. Dev | Pr(>Chi) |\n",
       "|---|---|---|---|---|---|\n",
       "| NULL | NA        |        NA | 66        | 62.98440  |        NA |\n",
       "| sex |  1        | 0.4383502 | 65        | 62.54605  | 0.5079198 |\n",
       "| definition |  1        | 0.7382536 | 64        | 61.80780  | 0.3902209 |\n",
       "| need |  1        | 0.6167415 | 63        | 61.19106  | 0.4322608 |\n",
       "| purpose |  2        | 2.3357653 | 61        | 58.85529  | 0.3110248 |\n",
       "| interest |  1        | 3.4764034 | 60        | 55.37889  | 0.0622499 |\n",
       "\n"
      ],
      "text/plain": [
       "           Df Deviance  Resid. Df Resid. Dev Pr(>Chi) \n",
       "NULL       NA        NA 66        62.98440          NA\n",
       "sex         1 0.4383502 65        62.54605   0.5079198\n",
       "definition  1 0.7382536 64        61.80780   0.3902209\n",
       "need        1 0.6167415 63        61.19106   0.4322608\n",
       "purpose     2 2.3357653 61        58.85529   0.3110248\n",
       "interest    1 3.4764034 60        55.37889   0.0622499"
      ]
     },
     "metadata": {},
     "output_type": "display_data"
    },
    {
     "data": {
      "text/html": [
       "0.308333333333333"
      ],
      "text/latex": [
       "0.308333333333333"
      ],
      "text/markdown": [
       "0.308333333333333"
      ],
      "text/plain": [
       "[1] 0.3083333"
      ]
     },
     "metadata": {},
     "output_type": "display_data"
    },
    {
     "data": {
      "image/png": "[encoded data removed]",
      "text/plain": [
       "plot without title"
      ]
     },
     "metadata": {},
     "output_type": "display_data"
    }
   ],
   "source": [
    "model <- glm(d2_3 ~ sex + definition + need + purpose \n",
    "              + interest, data =train, family = binomial)\n",
    "summary(model)\n",
    "\n",
    "\n",
    "anova(model, test=\"Chisq\")\n",
    "\n",
    "\n",
    "p <- predict(model, newdata=test, type=\"response\")\n",
    "pr <- prediction(p, test$d2_3)\n",
    "prf <- performance(pr, measure = \"tpr\", x.measure = \"fpr\")\n",
    "plot(prf)\n",
    "\n",
    "auc <- performance(pr, measure = \"auc\")\n",
    "auc <- auc@y.values[[1]]\n",
    "auc"
   ]
  },
  {
   "cell_type": "code",
   "execution_count": 32,
   "metadata": {},
   "outputs": [
    {
     "data": {
      "text/plain": [
       "\n",
       "Call:\n",
       "glm(formula = d2_4 ~ sex + definition + need + purpose + interest, \n",
       "    family = binomial, data = train)\n",
       "\n",
       "Deviance Residuals: \n",
       "    Min       1Q   Median       3Q      Max  \n",
       "-1.2544  -0.7690  -0.5748   0.3915   2.1543  \n",
       "\n",
       "Coefficients:\n",
       "                  Estimate Std. Error z value Pr(>|z|)\n",
       "(Intercept)         0.5038     1.2255   0.411    0.681\n",
       "sexMale            -0.8219     0.7671  -1.072    0.284\n",
       "definitionharmony  -0.4963     0.7570  -0.656    0.512\n",
       "needharmony        -0.6171     0.6800  -0.907    0.364\n",
       "purposecosmetic    -1.2829     0.9756  -1.315    0.189\n",
       "purposeetc         -0.1772     0.8007  -0.221    0.825\n",
       "interest           -0.1082     0.2789  -0.388    0.698\n",
       "\n",
       "(Dispersion parameter for binomial family taken to be 1)\n",
       "\n",
       "    Null deviance: 75.897  on 66  degrees of freedom\n",
       "Residual deviance: 70.694  on 60  degrees of freedom\n",
       "AIC: 84.694\n",
       "\n",
       "Number of Fisher Scoring iterations: 4\n"
      ]
     },
     "metadata": {},
     "output_type": "display_data"
    },
    {
     "data": {
      "text/html": [
       "<table>\n",
       "<thead><tr><th></th><th scope=col>Df</th><th scope=col>Deviance</th><th scope=col>Resid. Df</th><th scope=col>Resid. Dev</th><th scope=col>Pr(&gt;Chi)</th></tr></thead>\n",
       "<tbody>\n",
       "\t<tr><th scope=row>NULL</th><td>NA       </td><td>       NA</td><td>66       </td><td>75.89726 </td><td>       NA</td></tr>\n",
       "\t<tr><th scope=row>sex</th><td> 1       </td><td>1.4760592</td><td>65       </td><td>74.42120 </td><td>0.2243921</td></tr>\n",
       "\t<tr><th scope=row>definition</th><td> 1       </td><td>0.9252659</td><td>64       </td><td>73.49593 </td><td>0.3360961</td></tr>\n",
       "\t<tr><th scope=row>need</th><td> 1       </td><td>0.6851309</td><td>63       </td><td>72.81080 </td><td>0.4078255</td></tr>\n",
       "\t<tr><th scope=row>purpose</th><td> 2       </td><td>1.9661420</td><td>61       </td><td>70.84466 </td><td>0.3741603</td></tr>\n",
       "\t<tr><th scope=row>interest</th><td> 1       </td><td>0.1510400</td><td>60       </td><td>70.69362 </td><td>0.6975435</td></tr>\n",
       "</tbody>\n",
       "</table>\n"
      ],
      "text/latex": [
       "\\begin{tabular}{r|lllll}\n",
       "  & Df & Deviance & Resid. Df & Resid. Dev & Pr(>Chi)\\\\\n",
       "\\hline\n",
       "\tNULL & NA        &        NA & 66        & 75.89726  &        NA\\\\\n",
       "\tsex &  1        & 1.4760592 & 65        & 74.42120  & 0.2243921\\\\\n",
       "\tdefinition &  1        & 0.9252659 & 64        & 73.49593  & 0.3360961\\\\\n",
       "\tneed &  1        & 0.6851309 & 63        & 72.81080  & 0.4078255\\\\\n",
       "\tpurpose &  2        & 1.9661420 & 61        & 70.84466  & 0.3741603\\\\\n",
       "\tinterest &  1        & 0.1510400 & 60        & 70.69362  & 0.6975435\\\\\n",
       "\\end{tabular}\n"
      ],
      "text/markdown": [
       "\n",
       "| <!--/--> | Df | Deviance | Resid. Df | Resid. Dev | Pr(>Chi) |\n",
       "|---|---|---|---|---|---|\n",
       "| NULL | NA        |        NA | 66        | 75.89726  |        NA |\n",
       "| sex |  1        | 1.4760592 | 65        | 74.42120  | 0.2243921 |\n",
       "| definition |  1        | 0.9252659 | 64        | 73.49593  | 0.3360961 |\n",
       "| need |  1        | 0.6851309 | 63        | 72.81080  | 0.4078255 |\n",
       "| purpose |  2        | 1.9661420 | 61        | 70.84466  | 0.3741603 |\n",
       "| interest |  1        | 0.1510400 | 60        | 70.69362  | 0.6975435 |\n",
       "\n"
      ],
      "text/plain": [
       "           Df Deviance  Resid. Df Resid. Dev Pr(>Chi) \n",
       "NULL       NA        NA 66        75.89726          NA\n",
       "sex         1 1.4760592 65        74.42120   0.2243921\n",
       "definition  1 0.9252659 64        73.49593   0.3360961\n",
       "need        1 0.6851309 63        72.81080   0.4078255\n",
       "purpose     2 1.9661420 61        70.84466   0.3741603\n",
       "interest    1 0.1510400 60        70.69362   0.6975435"
      ]
     },
     "metadata": {},
     "output_type": "display_data"
    },
    {
     "data": {
      "text/html": [
       "0.613888888888889"
      ],
      "text/latex": [
       "0.613888888888889"
      ],
      "text/markdown": [
       "0.613888888888889"
      ],
      "text/plain": [
       "[1] 0.6138889"
      ]
     },
     "metadata": {},
     "output_type": "display_data"
    },
    {
     "data": {
      "image/png": "[encoded data removed]",
      "text/plain": [
       "plot without title"
      ]
     },
     "metadata": {},
     "output_type": "display_data"
    }
   ],
   "source": [
    "model <- glm(d2_4 ~ sex + definition + need + purpose \n",
    "              + interest, data =train, family = binomial)\n",
    "summary(model)\n",
    "\n",
    "\n",
    "anova(model, test=\"Chisq\")\n",
    "\n",
    "\n",
    "p <- predict(model, newdata=test, type=\"response\")\n",
    "pr <- prediction(p, test$d2_4)\n",
    "prf <- performance(pr, measure = \"tpr\", x.measure = \"fpr\")\n",
    "plot(prf)\n",
    "\n",
    "auc <- performance(pr, measure = \"auc\")\n",
    "auc <- auc@y.values[[1]]\n",
    "auc"
   ]
  },
  {
   "cell_type": "code",
   "execution_count": 33,
   "metadata": {},
   "outputs": [
    {
     "data": {
      "text/plain": [
       "\n",
       "Call:\n",
       "glm(formula = d2_5 ~ sex + definition + need + purpose + interest, \n",
       "    family = binomial, data = train)\n",
       "\n",
       "Deviance Residuals: \n",
       "    Min       1Q   Median       3Q      Max  \n",
       "-1.3173  -0.3800  -0.3578  -0.1522   2.3168  \n",
       "\n",
       "Coefficients:\n",
       "                  Estimate Std. Error z value Pr(>|z|)  \n",
       "(Intercept)       -2.78927    2.00220  -1.393   0.1636  \n",
       "sexMale            2.96706    1.63404   1.816   0.0694 .\n",
       "definitionharmony -1.66295    1.18919  -1.398   0.1620  \n",
       "needharmony       -1.23681    1.15446  -1.071   0.2840  \n",
       "purposecosmetic    0.91437    1.60449   0.570   0.5688  \n",
       "purposeetc         1.12741    1.62746   0.693   0.4885  \n",
       "interest           0.03631    0.40068   0.091   0.9278  \n",
       "---\n",
       "Signif. codes:  0 '***' 0.001 '**' 0.01 '*' 0.05 '.' 0.1 ' ' 1\n",
       "\n",
       "(Dispersion parameter for binomial family taken to be 1)\n",
       "\n",
       "    Null deviance: 40.401  on 66  degrees of freedom\n",
       "Residual deviance: 33.016  on 60  degrees of freedom\n",
       "AIC: 47.016\n",
       "\n",
       "Number of Fisher Scoring iterations: 6\n"
      ]
     },
     "metadata": {},
     "output_type": "display_data"
    },
    {
     "data": {
      "text/html": [
       "<table>\n",
       "<thead><tr><th></th><th scope=col>Df</th><th scope=col>Deviance</th><th scope=col>Resid. Df</th><th scope=col>Resid. Dev</th><th scope=col>Pr(&gt;Chi)</th></tr></thead>\n",
       "<tbody>\n",
       "\t<tr><th scope=row>NULL</th><td>NA         </td><td>         NA</td><td>66         </td><td>40.40109   </td><td>        NA </td></tr>\n",
       "\t<tr><th scope=row>sex</th><td> 1         </td><td>1.657277974</td><td>65         </td><td>38.74381   </td><td>0.19797125 </td></tr>\n",
       "\t<tr><th scope=row>definition</th><td> 1         </td><td>4.071256778</td><td>64         </td><td>34.67255   </td><td>0.04361881 </td></tr>\n",
       "\t<tr><th scope=row>need</th><td> 1         </td><td>1.090895750</td><td>63         </td><td>33.58166   </td><td>0.29627282 </td></tr>\n",
       "\t<tr><th scope=row>purpose</th><td> 2         </td><td>0.557012291</td><td>61         </td><td>33.02464   </td><td>0.75691362 </td></tr>\n",
       "\t<tr><th scope=row>interest</th><td> 1         </td><td>0.008207114</td><td>60         </td><td>33.01644   </td><td>0.92781589 </td></tr>\n",
       "</tbody>\n",
       "</table>\n"
      ],
      "text/latex": [
       "\\begin{tabular}{r|lllll}\n",
       "  & Df & Deviance & Resid. Df & Resid. Dev & Pr(>Chi)\\\\\n",
       "\\hline\n",
       "\tNULL & NA          &          NA & 66          & 40.40109    &         NA \\\\\n",
       "\tsex &  1          & 1.657277974 & 65          & 38.74381    & 0.19797125 \\\\\n",
       "\tdefinition &  1          & 4.071256778 & 64          & 34.67255    & 0.04361881 \\\\\n",
       "\tneed &  1          & 1.090895750 & 63          & 33.58166    & 0.29627282 \\\\\n",
       "\tpurpose &  2          & 0.557012291 & 61          & 33.02464    & 0.75691362 \\\\\n",
       "\tinterest &  1          & 0.008207114 & 60          & 33.01644    & 0.92781589 \\\\\n",
       "\\end{tabular}\n"
      ],
      "text/markdown": [
       "\n",
       "| <!--/--> | Df | Deviance | Resid. Df | Resid. Dev | Pr(>Chi) |\n",
       "|---|---|---|---|---|---|\n",
       "| NULL | NA          |          NA | 66          | 40.40109    |         NA  |\n",
       "| sex |  1          | 1.657277974 | 65          | 38.74381    | 0.19797125  |\n",
       "| definition |  1          | 4.071256778 | 64          | 34.67255    | 0.04361881  |\n",
       "| need |  1          | 1.090895750 | 63          | 33.58166    | 0.29627282  |\n",
       "| purpose |  2          | 0.557012291 | 61          | 33.02464    | 0.75691362  |\n",
       "| interest |  1          | 0.008207114 | 60          | 33.01644    | 0.92781589  |\n",
       "\n"
      ],
      "text/plain": [
       "           Df Deviance    Resid. Df Resid. Dev Pr(>Chi)  \n",
       "NULL       NA          NA 66        40.40109           NA\n",
       "sex         1 1.657277974 65        38.74381   0.19797125\n",
       "definition  1 4.071256778 64        34.67255   0.04361881\n",
       "need        1 1.090895750 63        33.58166   0.29627282\n",
       "purpose     2 0.557012291 61        33.02464   0.75691362\n",
       "interest    1 0.008207114 60        33.01644   0.92781589"
      ]
     },
     "metadata": {},
     "output_type": "display_data"
    },
    {
     "data": {
      "text/html": [
       "0.345"
      ],
      "text/latex": [
       "0.345"
      ],
      "text/markdown": [
       "0.345"
      ],
      "text/plain": [
       "[1] 0.345"
      ]
     },
     "metadata": {},
     "output_type": "display_data"
    },
    {
     "data": {
      "image/png": "[encoded data removed]",
      "text/plain": [
       "plot without title"
      ]
     },
     "metadata": {},
     "output_type": "display_data"
    }
   ],
   "source": [
    "model <- glm(d2_5 ~ sex + definition + need + purpose \n",
    "              + interest, data =train, family = binomial)\n",
    "summary(model)\n",
    "\n",
    "\n",
    "anova(model, test=\"Chisq\")\n",
    "\n",
    "\n",
    "p <- predict(model, newdata=test, type=\"response\")\n",
    "pr <- prediction(p, test$d2_5)\n",
    "prf <- performance(pr, measure = \"tpr\", x.measure = \"fpr\")\n",
    "plot(prf)\n",
    "\n",
    "auc <- performance(pr, measure = \"auc\")\n",
    "auc <- auc@y.values[[1]]\n",
    "auc"
   ]
  },
  {
   "cell_type": "code",
   "execution_count": 34,
   "metadata": {},
   "outputs": [
    {
     "data": {
      "text/plain": [
       "\n",
       "Call:\n",
       "glm(formula = d3_1 ~ sex + definition + need + purpose + interest, \n",
       "    family = binomial, data = train)\n",
       "\n",
       "Deviance Residuals: \n",
       "    Min       1Q   Median       3Q      Max  \n",
       "-1.6351  -0.7786  -0.5500   0.8985   2.4714  \n",
       "\n",
       "Coefficients:\n",
       "                  Estimate Std. Error z value Pr(>|z|)  \n",
       "(Intercept)       -0.04217    1.19628  -0.035   0.9719  \n",
       "sexMale           -0.50871    0.75654  -0.672   0.5013  \n",
       "definitionharmony -0.85390    0.73893  -1.156   0.2479  \n",
       "needharmony       -0.90864    0.69287  -1.311   0.1897  \n",
       "purposecosmetic   -0.34955    0.84484  -0.414   0.6791  \n",
       "purposeetc        -2.05511    1.02824  -1.999   0.0456 *\n",
       "interest           0.28476    0.29230   0.974   0.3299  \n",
       "---\n",
       "Signif. codes:  0 '***' 0.001 '**' 0.01 '*' 0.05 '.' 0.1 ' ' 1\n",
       "\n",
       "(Dispersion parameter for binomial family taken to be 1)\n",
       "\n",
       "    Null deviance: 81.686  on 66  degrees of freedom\n",
       "Residual deviance: 68.341  on 60  degrees of freedom\n",
       "AIC: 82.341\n",
       "\n",
       "Number of Fisher Scoring iterations: 5\n"
      ]
     },
     "metadata": {},
     "output_type": "display_data"
    },
    {
     "data": {
      "text/html": [
       "<table>\n",
       "<thead><tr><th></th><th scope=col>Df</th><th scope=col>Deviance</th><th scope=col>Resid. Df</th><th scope=col>Resid. Dev</th><th scope=col>Pr(&gt;Chi)</th></tr></thead>\n",
       "<tbody>\n",
       "\t<tr><th scope=row>NULL</th><td>NA        </td><td>       NA </td><td>66        </td><td>81.68565  </td><td>        NA</td></tr>\n",
       "\t<tr><th scope=row>sex</th><td> 1        </td><td>0.5467723 </td><td>65        </td><td>81.13887  </td><td>0.45963955</td></tr>\n",
       "\t<tr><th scope=row>definition</th><td> 1        </td><td>6.0289587 </td><td>64        </td><td>75.10991  </td><td>0.01407303</td></tr>\n",
       "\t<tr><th scope=row>need</th><td> 1        </td><td>1.5986593 </td><td>63        </td><td>73.51126  </td><td>0.20609331</td></tr>\n",
       "\t<tr><th scope=row>purpose</th><td> 2        </td><td>4.1910915 </td><td>61        </td><td>69.32016  </td><td>0.12300310</td></tr>\n",
       "\t<tr><th scope=row>interest</th><td> 1        </td><td>0.9796115 </td><td>60        </td><td>68.34055  </td><td>0.32229474</td></tr>\n",
       "</tbody>\n",
       "</table>\n"
      ],
      "text/latex": [
       "\\begin{tabular}{r|lllll}\n",
       "  & Df & Deviance & Resid. Df & Resid. Dev & Pr(>Chi)\\\\\n",
       "\\hline\n",
       "\tNULL & NA         &        NA  & 66         & 81.68565   &         NA\\\\\n",
       "\tsex &  1         & 0.5467723  & 65         & 81.13887   & 0.45963955\\\\\n",
       "\tdefinition &  1         & 6.0289587  & 64         & 75.10991   & 0.01407303\\\\\n",
       "\tneed &  1         & 1.5986593  & 63         & 73.51126   & 0.20609331\\\\\n",
       "\tpurpose &  2         & 4.1910915  & 61         & 69.32016   & 0.12300310\\\\\n",
       "\tinterest &  1         & 0.9796115  & 60         & 68.34055   & 0.32229474\\\\\n",
       "\\end{tabular}\n"
      ],
      "text/markdown": [
       "\n",
       "| <!--/--> | Df | Deviance | Resid. Df | Resid. Dev | Pr(>Chi) |\n",
       "|---|---|---|---|---|---|\n",
       "| NULL | NA         |        NA  | 66         | 81.68565   |         NA |\n",
       "| sex |  1         | 0.5467723  | 65         | 81.13887   | 0.45963955 |\n",
       "| definition |  1         | 6.0289587  | 64         | 75.10991   | 0.01407303 |\n",
       "| need |  1         | 1.5986593  | 63         | 73.51126   | 0.20609331 |\n",
       "| purpose |  2         | 4.1910915  | 61         | 69.32016   | 0.12300310 |\n",
       "| interest |  1         | 0.9796115  | 60         | 68.34055   | 0.32229474 |\n",
       "\n"
      ],
      "text/plain": [
       "           Df Deviance  Resid. Df Resid. Dev Pr(>Chi)  \n",
       "NULL       NA        NA 66        81.68565           NA\n",
       "sex         1 0.5467723 65        81.13887   0.45963955\n",
       "definition  1 6.0289587 64        75.10991   0.01407303\n",
       "need        1 1.5986593 63        73.51126   0.20609331\n",
       "purpose     2 4.1910915 61        69.32016   0.12300310\n",
       "interest    1 0.9796115 60        68.34055   0.32229474"
      ]
     },
     "metadata": {},
     "output_type": "display_data"
    },
    {
     "data": {
      "text/html": [
       "0.5"
      ],
      "text/latex": [
       "0.5"
      ],
      "text/markdown": [
       "0.5"
      ],
      "text/plain": [
       "[1] 0.5"
      ]
     },
     "metadata": {},
     "output_type": "display_data"
    },
    {
     "data": {
      "image/png": "[encoded data removed]",
      "text/plain": [
       "plot without title"
      ]
     },
     "metadata": {},
     "output_type": "display_data"
    }
   ],
   "source": [
    "model <- glm(d3_1 ~ sex + definition + need + purpose \n",
    "              + interest, data =train, family = binomial)\n",
    "summary(model)\n",
    "\n",
    "\n",
    "anova(model, test=\"Chisq\")\n",
    "\n",
    "\n",
    "p <- predict(model, newdata=test, type=\"response\")\n",
    "pr <- prediction(p, test$d3_1)\n",
    "prf <- performance(pr, measure = \"tpr\", x.measure = \"fpr\")\n",
    "plot(prf)\n",
    "\n",
    "auc <- performance(pr, measure = \"auc\")\n",
    "auc <- auc@y.values[[1]]\n",
    "auc"
   ]
  },
  {
   "cell_type": "code",
   "execution_count": 35,
   "metadata": {},
   "outputs": [
    {
     "data": {
      "text/plain": [
       "\n",
       "Call:\n",
       "glm(formula = d3_2 ~ sex + definition + need + purpose + interest, \n",
       "    family = binomial, data = train)\n",
       "\n",
       "Deviance Residuals: \n",
       "    Min       1Q   Median       3Q      Max  \n",
       "-0.9452  -0.5009  -0.4128  -0.2927   2.2696  \n",
       "\n",
       "Coefficients:\n",
       "                  Estimate Std. Error z value Pr(>|z|)  \n",
       "(Intercept)        -3.9097     1.7930  -2.181   0.0292 *\n",
       "sexMale            -0.8566     1.0929  -0.784   0.4331  \n",
       "definitionharmony   0.5075     1.3287   0.382   0.7025  \n",
       "needharmony         1.2025     1.0552   1.140   0.2544  \n",
       "purposecosmetic     0.7362     1.1240   0.655   0.5125  \n",
       "purposeetc          0.5649     1.1089   0.509   0.6105  \n",
       "interest            0.2121     0.3641   0.583   0.5602  \n",
       "---\n",
       "Signif. codes:  0 '***' 0.001 '**' 0.01 '*' 0.05 '.' 0.1 ' ' 1\n",
       "\n",
       "(Dispersion parameter for binomial family taken to be 1)\n",
       "\n",
       "    Null deviance: 49.008  on 66  degrees of freedom\n",
       "Residual deviance: 44.447  on 60  degrees of freedom\n",
       "AIC: 58.447\n",
       "\n",
       "Number of Fisher Scoring iterations: 5\n"
      ]
     },
     "metadata": {},
     "output_type": "display_data"
    },
    {
     "data": {
      "text/html": [
       "<table>\n",
       "<thead><tr><th></th><th scope=col>Df</th><th scope=col>Deviance</th><th scope=col>Resid. Df</th><th scope=col>Resid. Dev</th><th scope=col>Pr(&gt;Chi)</th></tr></thead>\n",
       "<tbody>\n",
       "\t<tr><th scope=row>NULL</th><td>NA       </td><td>       NA</td><td>66       </td><td>49.00833 </td><td>       NA</td></tr>\n",
       "\t<tr><th scope=row>sex</th><td> 1       </td><td>1.1112884</td><td>65       </td><td>47.89704 </td><td>0.2918021</td></tr>\n",
       "\t<tr><th scope=row>definition</th><td> 1       </td><td>1.2840045</td><td>64       </td><td>46.61304 </td><td>0.2571558</td></tr>\n",
       "\t<tr><th scope=row>need</th><td> 1       </td><td>1.2476135</td><td>63       </td><td>45.36542 </td><td>0.2640088</td></tr>\n",
       "\t<tr><th scope=row>purpose</th><td> 2       </td><td>0.5718062</td><td>61       </td><td>44.79362 </td><td>0.7513354</td></tr>\n",
       "\t<tr><th scope=row>interest</th><td> 1       </td><td>0.3470036</td><td>60       </td><td>44.44661 </td><td>0.5558142</td></tr>\n",
       "</tbody>\n",
       "</table>\n"
      ],
      "text/latex": [
       "\\begin{tabular}{r|lllll}\n",
       "  & Df & Deviance & Resid. Df & Resid. Dev & Pr(>Chi)\\\\\n",
       "\\hline\n",
       "\tNULL & NA        &        NA & 66        & 49.00833  &        NA\\\\\n",
       "\tsex &  1        & 1.1112884 & 65        & 47.89704  & 0.2918021\\\\\n",
       "\tdefinition &  1        & 1.2840045 & 64        & 46.61304  & 0.2571558\\\\\n",
       "\tneed &  1        & 1.2476135 & 63        & 45.36542  & 0.2640088\\\\\n",
       "\tpurpose &  2        & 0.5718062 & 61        & 44.79362  & 0.7513354\\\\\n",
       "\tinterest &  1        & 0.3470036 & 60        & 44.44661  & 0.5558142\\\\\n",
       "\\end{tabular}\n"
      ],
      "text/markdown": [
       "\n",
       "| <!--/--> | Df | Deviance | Resid. Df | Resid. Dev | Pr(>Chi) |\n",
       "|---|---|---|---|---|---|\n",
       "| NULL | NA        |        NA | 66        | 49.00833  |        NA |\n",
       "| sex |  1        | 1.1112884 | 65        | 47.89704  | 0.2918021 |\n",
       "| definition |  1        | 1.2840045 | 64        | 46.61304  | 0.2571558 |\n",
       "| need |  1        | 1.2476135 | 63        | 45.36542  | 0.2640088 |\n",
       "| purpose |  2        | 0.5718062 | 61        | 44.79362  | 0.7513354 |\n",
       "| interest |  1        | 0.3470036 | 60        | 44.44661  | 0.5558142 |\n",
       "\n"
      ],
      "text/plain": [
       "           Df Deviance  Resid. Df Resid. Dev Pr(>Chi) \n",
       "NULL       NA        NA 66        49.00833          NA\n",
       "sex         1 1.1112884 65        47.89704   0.2918021\n",
       "definition  1 1.2840045 64        46.61304   0.2571558\n",
       "need        1 1.2476135 63        45.36542   0.2640088\n",
       "purpose     2 0.5718062 61        44.79362   0.7513354\n",
       "interest    1 0.3470036 60        44.44661   0.5558142"
      ]
     },
     "metadata": {},
     "output_type": "display_data"
    },
    {
     "data": {
      "text/html": [
       "0.522727272727273"
      ],
      "text/latex": [
       "0.522727272727273"
      ],
      "text/markdown": [
       "0.522727272727273"
      ],
      "text/plain": [
       "[1] 0.5227273"
      ]
     },
     "metadata": {},
     "output_type": "display_data"
    },
    {
     "data": {
      "image/png": "[encoded data removed]",
      "text/plain": [
       "plot without title"
      ]
     },
     "metadata": {},
     "output_type": "display_data"
    }
   ],
   "source": [
    "model <- glm(d3_2 ~ sex + definition + need + purpose \n",
    "              + interest, data =train, family = binomial)\n",
    "summary(model)\n",
    "\n",
    "\n",
    "anova(model, test=\"Chisq\")\n",
    "\n",
    "\n",
    "p <- predict(model, newdata=test, type=\"response\")\n",
    "pr <- prediction(p, test$d3_2)\n",
    "prf <- performance(pr, measure = \"tpr\", x.measure = \"fpr\")\n",
    "plot(prf)\n",
    "\n",
    "auc <- performance(pr, measure = \"auc\")\n",
    "auc <- auc@y.values[[1]]\n",
    "auc"
   ]
  },
  {
   "cell_type": "code",
   "execution_count": 36,
   "metadata": {},
   "outputs": [
    {
     "data": {
      "text/plain": [
       "\n",
       "Call:\n",
       "glm(formula = d3_3 ~ sex + definition + need + purpose + interest, \n",
       "    family = binomial, data = train)\n",
       "\n",
       "Deviance Residuals: \n",
       "    Min       1Q   Median       3Q      Max  \n",
       "-1.0243  -0.7412  -0.5133  -0.2928   2.5423  \n",
       "\n",
       "Coefficients:\n",
       "                  Estimate Std. Error z value Pr(>|z|)\n",
       "(Intercept)        -2.1884     1.5676  -1.396    0.163\n",
       "sexMale             0.6255     0.8876   0.705    0.481\n",
       "definitionharmony   1.3748     1.1808   1.164    0.244\n",
       "needharmony        -0.4135     0.7223  -0.572    0.567\n",
       "purposecosmetic    -0.4533     1.2638  -0.359    0.720\n",
       "purposeetc          0.7137     0.9376   0.761    0.447\n",
       "interest           -0.1833     0.2785  -0.658    0.510\n",
       "\n",
       "(Dispersion parameter for binomial family taken to be 1)\n",
       "\n",
       "    Null deviance: 65.930  on 66  degrees of freedom\n",
       "Residual deviance: 60.975  on 60  degrees of freedom\n",
       "AIC: 74.975\n",
       "\n",
       "Number of Fisher Scoring iterations: 5\n"
      ]
     },
     "metadata": {},
     "output_type": "display_data"
    },
    {
     "data": {
      "text/html": [
       "<table>\n",
       "<thead><tr><th></th><th scope=col>Df</th><th scope=col>Deviance</th><th scope=col>Resid. Df</th><th scope=col>Resid. Dev</th><th scope=col>Pr(&gt;Chi)</th></tr></thead>\n",
       "<tbody>\n",
       "\t<tr><th scope=row>NULL</th><td>NA       </td><td>       NA</td><td>66       </td><td>65.92985 </td><td>       NA</td></tr>\n",
       "\t<tr><th scope=row>sex</th><td> 1       </td><td>0.9518869</td><td>65       </td><td>64.97796 </td><td>0.3292395</td></tr>\n",
       "\t<tr><th scope=row>definition</th><td> 1       </td><td>2.2001899</td><td>64       </td><td>62.77777 </td><td>0.1379937</td></tr>\n",
       "\t<tr><th scope=row>need</th><td> 1       </td><td>0.3107643</td><td>63       </td><td>62.46701 </td><td>0.5772116</td></tr>\n",
       "\t<tr><th scope=row>purpose</th><td> 2       </td><td>1.0532632</td><td>61       </td><td>61.41375 </td><td>0.5905910</td></tr>\n",
       "\t<tr><th scope=row>interest</th><td> 1       </td><td>0.4387283</td><td>60       </td><td>60.97502 </td><td>0.5077369</td></tr>\n",
       "</tbody>\n",
       "</table>\n"
      ],
      "text/latex": [
       "\\begin{tabular}{r|lllll}\n",
       "  & Df & Deviance & Resid. Df & Resid. Dev & Pr(>Chi)\\\\\n",
       "\\hline\n",
       "\tNULL & NA        &        NA & 66        & 65.92985  &        NA\\\\\n",
       "\tsex &  1        & 0.9518869 & 65        & 64.97796  & 0.3292395\\\\\n",
       "\tdefinition &  1        & 2.2001899 & 64        & 62.77777  & 0.1379937\\\\\n",
       "\tneed &  1        & 0.3107643 & 63        & 62.46701  & 0.5772116\\\\\n",
       "\tpurpose &  2        & 1.0532632 & 61        & 61.41375  & 0.5905910\\\\\n",
       "\tinterest &  1        & 0.4387283 & 60        & 60.97502  & 0.5077369\\\\\n",
       "\\end{tabular}\n"
      ],
      "text/markdown": [
       "\n",
       "| <!--/--> | Df | Deviance | Resid. Df | Resid. Dev | Pr(>Chi) |\n",
       "|---|---|---|---|---|---|\n",
       "| NULL | NA        |        NA | 66        | 65.92985  |        NA |\n",
       "| sex |  1        | 0.9518869 | 65        | 64.97796  | 0.3292395 |\n",
       "| definition |  1        | 2.2001899 | 64        | 62.77777  | 0.1379937 |\n",
       "| need |  1        | 0.3107643 | 63        | 62.46701  | 0.5772116 |\n",
       "| purpose |  2        | 1.0532632 | 61        | 61.41375  | 0.5905910 |\n",
       "| interest |  1        | 0.4387283 | 60        | 60.97502  | 0.5077369 |\n",
       "\n"
      ],
      "text/plain": [
       "           Df Deviance  Resid. Df Resid. Dev Pr(>Chi) \n",
       "NULL       NA        NA 66        65.92985          NA\n",
       "sex         1 0.9518869 65        64.97796   0.3292395\n",
       "definition  1 2.2001899 64        62.77777   0.1379937\n",
       "need        1 0.3107643 63        62.46701   0.5772116\n",
       "purpose     2 1.0532632 61        61.41375   0.5905910\n",
       "interest    1 0.4387283 60        60.97502   0.5077369"
      ]
     },
     "metadata": {},
     "output_type": "display_data"
    },
    {
     "data": {
      "text/html": [
       "0.237012987012987"
      ],
      "text/latex": [
       "0.237012987012987"
      ],
      "text/markdown": [
       "0.237012987012987"
      ],
      "text/plain": [
       "[1] 0.237013"
      ]
     },
     "metadata": {},
     "output_type": "display_data"
    },
    {
     "data": {
      "image/png": "[encoded data removed]",
      "text/plain": [
       "plot without title"
      ]
     },
     "metadata": {},
     "output_type": "display_data"
    }
   ],
   "source": [
    "model <- glm(d3_3 ~ sex + definition + need + purpose \n",
    "              + interest, data =train, family = binomial)\n",
    "summary(model)\n",
    "\n",
    "\n",
    "anova(model, test=\"Chisq\")\n",
    "\n",
    "\n",
    "p <- predict(model, newdata=test, type=\"response\")\n",
    "pr <- prediction(p, test$d3_3)\n",
    "prf <- performance(pr, measure = \"tpr\", x.measure = \"fpr\")\n",
    "plot(prf)\n",
    "\n",
    "auc <- performance(pr, measure = \"auc\")\n",
    "auc <- auc@y.values[[1]]\n",
    "auc"
   ]
  },
  {
   "cell_type": "code",
   "execution_count": 37,
   "metadata": {},
   "outputs": [
    {
     "data": {
      "text/plain": [
       "\n",
       "Call:\n",
       "glm(formula = d3_4 ~ sex + definition + need + purpose + interest, \n",
       "    family = binomial, data = train)\n",
       "\n",
       "Deviance Residuals: \n",
       "     Min        1Q    Median        3Q       Max  \n",
       "-1.07756  -0.54313  -0.27310  -0.00008   1.99340  \n",
       "\n",
       "Coefficients:\n",
       "                   Estimate Std. Error z value Pr(>|z|)  \n",
       "(Intercept)         -5.0092     2.4585  -2.038   0.0416 *\n",
       "sexMale              1.9929     1.5255   1.306   0.1914  \n",
       "definitionharmony   -1.5999     1.2722  -1.258   0.2085  \n",
       "needharmony          1.4310     1.2780   1.120   0.2628  \n",
       "purposecosmetic    -16.4238  2808.5481  -0.006   0.9953  \n",
       "purposeetc           2.1583     1.4647   1.473   0.1406  \n",
       "interest             0.4486     0.4110   1.091   0.2751  \n",
       "---\n",
       "Signif. codes:  0 '***' 0.001 '**' 0.01 '*' 0.05 '.' 0.1 ' ' 1\n",
       "\n",
       "(Dispersion parameter for binomial family taken to be 1)\n",
       "\n",
       "    Null deviance: 44.865  on 66  degrees of freedom\n",
       "Residual deviance: 36.365  on 60  degrees of freedom\n",
       "AIC: 50.365\n",
       "\n",
       "Number of Fisher Scoring iterations: 18\n"
      ]
     },
     "metadata": {},
     "output_type": "display_data"
    },
    {
     "data": {
      "text/html": [
       "<table>\n",
       "<thead><tr><th></th><th scope=col>Df</th><th scope=col>Deviance</th><th scope=col>Resid. Df</th><th scope=col>Resid. Dev</th><th scope=col>Pr(&gt;Chi)</th></tr></thead>\n",
       "<tbody>\n",
       "\t<tr><th scope=row>NULL</th><td>NA        </td><td>       NA </td><td>66        </td><td>44.86472  </td><td>        NA</td></tr>\n",
       "\t<tr><th scope=row>sex</th><td> 1        </td><td>0.7454365 </td><td>65        </td><td>44.11928  </td><td>0.38792491</td></tr>\n",
       "\t<tr><th scope=row>definition</th><td> 1        </td><td>0.3248797 </td><td>64        </td><td>43.79441  </td><td>0.56868977</td></tr>\n",
       "\t<tr><th scope=row>need</th><td> 1        </td><td>1.0209199 </td><td>63        </td><td>42.77349  </td><td>0.31230092</td></tr>\n",
       "\t<tr><th scope=row>purpose</th><td> 2        </td><td>5.1590147 </td><td>61        </td><td>37.61447  </td><td>0.07581134</td></tr>\n",
       "\t<tr><th scope=row>interest</th><td> 1        </td><td>1.2493607 </td><td>60        </td><td>36.36511  </td><td>0.26367462</td></tr>\n",
       "</tbody>\n",
       "</table>\n"
      ],
      "text/latex": [
       "\\begin{tabular}{r|lllll}\n",
       "  & Df & Deviance & Resid. Df & Resid. Dev & Pr(>Chi)\\\\\n",
       "\\hline\n",
       "\tNULL & NA         &        NA  & 66         & 44.86472   &         NA\\\\\n",
       "\tsex &  1         & 0.7454365  & 65         & 44.11928   & 0.38792491\\\\\n",
       "\tdefinition &  1         & 0.3248797  & 64         & 43.79441   & 0.56868977\\\\\n",
       "\tneed &  1         & 1.0209199  & 63         & 42.77349   & 0.31230092\\\\\n",
       "\tpurpose &  2         & 5.1590147  & 61         & 37.61447   & 0.07581134\\\\\n",
       "\tinterest &  1         & 1.2493607  & 60         & 36.36511   & 0.26367462\\\\\n",
       "\\end{tabular}\n"
      ],
      "text/markdown": [
       "\n",
       "| <!--/--> | Df | Deviance | Resid. Df | Resid. Dev | Pr(>Chi) |\n",
       "|---|---|---|---|---|---|\n",
       "| NULL | NA         |        NA  | 66         | 44.86472   |         NA |\n",
       "| sex |  1         | 0.7454365  | 65         | 44.11928   | 0.38792491 |\n",
       "| definition |  1         | 0.3248797  | 64         | 43.79441   | 0.56868977 |\n",
       "| need |  1         | 1.0209199  | 63         | 42.77349   | 0.31230092 |\n",
       "| purpose |  2         | 5.1590147  | 61         | 37.61447   | 0.07581134 |\n",
       "| interest |  1         | 1.2493607  | 60         | 36.36511   | 0.26367462 |\n",
       "\n"
      ],
      "text/plain": [
       "           Df Deviance  Resid. Df Resid. Dev Pr(>Chi)  \n",
       "NULL       NA        NA 66        44.86472           NA\n",
       "sex         1 0.7454365 65        44.11928   0.38792491\n",
       "definition  1 0.3248797 64        43.79441   0.56868977\n",
       "need        1 1.0209199 63        42.77349   0.31230092\n",
       "purpose     2 5.1590147 61        37.61447   0.07581134\n",
       "interest    1 1.2493607 60        36.36511   0.26367462"
      ]
     },
     "metadata": {},
     "output_type": "display_data"
    },
    {
     "data": {
      "text/html": [
       "0.546296296296296"
      ],
      "text/latex": [
       "0.546296296296296"
      ],
      "text/markdown": [
       "0.546296296296296"
      ],
      "text/plain": [
       "[1] 0.5462963"
      ]
     },
     "metadata": {},
     "output_type": "display_data"
    },
    {
     "data": {
      "image/png": "[encoded data removed]",
      "text/plain": [
       "plot without title"
      ]
     },
     "metadata": {},
     "output_type": "display_data"
    }
   ],
   "source": [
    "model <- glm(d3_4 ~ sex + definition + need + purpose \n",
    "              + interest, data =train, family = binomial)\n",
    "summary(model)\n",
    "\n",
    "\n",
    "anova(model, test=\"Chisq\")\n",
    "\n",
    "\n",
    "p <- predict(model, newdata=test, type=\"response\")\n",
    "pr <- prediction(p, test$d3_4)\n",
    "prf <- performance(pr, measure = \"tpr\", x.measure = \"fpr\")\n",
    "plot(prf)\n",
    "\n",
    "auc <- performance(pr, measure = \"auc\")\n",
    "auc <- auc@y.values[[1]]\n",
    "auc"
   ]
  },
  {
   "cell_type": "code",
   "execution_count": 38,
   "metadata": {},
   "outputs": [
    {
     "data": {
      "text/plain": [
       "\n",
       "Call:\n",
       "glm(formula = d3_5 ~ sex + definition + need + purpose + interest, \n",
       "    family = binomial, data = train)\n",
       "\n",
       "Deviance Residuals: \n",
       "    Min       1Q   Median       3Q      Max  \n",
       "-1.1229  -0.8315  -0.7428   1.3288   1.8935  \n",
       "\n",
       "Coefficients:\n",
       "                  Estimate Std. Error z value Pr(>|z|)\n",
       "(Intercept)       -0.61417    1.16436  -0.527    0.598\n",
       "sexMale           -0.23001    0.72608  -0.317    0.751\n",
       "definitionharmony  0.65020    0.83734   0.777    0.437\n",
       "needharmony        0.09685    0.65469   0.148    0.882\n",
       "purposecosmetic    0.31582    0.83617   0.378    0.706\n",
       "purposeetc        -0.14877    0.81986  -0.181    0.856\n",
       "interest          -0.26242    0.25192  -1.042    0.298\n",
       "\n",
       "(Dispersion parameter for binomial family taken to be 1)\n",
       "\n",
       "    Null deviance: 79.905  on 66  degrees of freedom\n",
       "Residual deviance: 77.199  on 60  degrees of freedom\n",
       "AIC: 91.199\n",
       "\n",
       "Number of Fisher Scoring iterations: 4\n"
      ]
     },
     "metadata": {},
     "output_type": "display_data"
    },
    {
     "data": {
      "text/html": [
       "<table>\n",
       "<thead><tr><th></th><th scope=col>Df</th><th scope=col>Deviance</th><th scope=col>Resid. Df</th><th scope=col>Resid. Dev</th><th scope=col>Pr(&gt;Chi)</th></tr></thead>\n",
       "<tbody>\n",
       "\t<tr><th scope=row>NULL</th><td>NA         </td><td>         NA</td><td>66         </td><td>79.90483   </td><td>       NA  </td></tr>\n",
       "\t<tr><th scope=row>sex</th><td> 1         </td><td>0.001075955</td><td>65         </td><td>79.90376   </td><td>0.9738327  </td></tr>\n",
       "\t<tr><th scope=row>definition</th><td> 1         </td><td>1.065214512</td><td>64         </td><td>78.83854   </td><td>0.3020289  </td></tr>\n",
       "\t<tr><th scope=row>need</th><td> 1         </td><td>0.069155166</td><td>63         </td><td>78.76939   </td><td>0.7925709  </td></tr>\n",
       "\t<tr><th scope=row>purpose</th><td> 2         </td><td>0.460202236</td><td>61         </td><td>78.30918   </td><td>0.7944533  </td></tr>\n",
       "\t<tr><th scope=row>interest</th><td> 1         </td><td>1.109779326</td><td>60         </td><td>77.19941   </td><td>0.2921299  </td></tr>\n",
       "</tbody>\n",
       "</table>\n"
      ],
      "text/latex": [
       "\\begin{tabular}{r|lllll}\n",
       "  & Df & Deviance & Resid. Df & Resid. Dev & Pr(>Chi)\\\\\n",
       "\\hline\n",
       "\tNULL & NA          &          NA & 66          & 79.90483    &        NA  \\\\\n",
       "\tsex &  1          & 0.001075955 & 65          & 79.90376    & 0.9738327  \\\\\n",
       "\tdefinition &  1          & 1.065214512 & 64          & 78.83854    & 0.3020289  \\\\\n",
       "\tneed &  1          & 0.069155166 & 63          & 78.76939    & 0.7925709  \\\\\n",
       "\tpurpose &  2          & 0.460202236 & 61          & 78.30918    & 0.7944533  \\\\\n",
       "\tinterest &  1          & 1.109779326 & 60          & 77.19941    & 0.2921299  \\\\\n",
       "\\end{tabular}\n"
      ],
      "text/markdown": [
       "\n",
       "| <!--/--> | Df | Deviance | Resid. Df | Resid. Dev | Pr(>Chi) |\n",
       "|---|---|---|---|---|---|\n",
       "| NULL | NA          |          NA | 66          | 79.90483    |        NA   |\n",
       "| sex |  1          | 0.001075955 | 65          | 79.90376    | 0.9738327   |\n",
       "| definition |  1          | 1.065214512 | 64          | 78.83854    | 0.3020289   |\n",
       "| need |  1          | 0.069155166 | 63          | 78.76939    | 0.7925709   |\n",
       "| purpose |  2          | 0.460202236 | 61          | 78.30918    | 0.7944533   |\n",
       "| interest |  1          | 1.109779326 | 60          | 77.19941    | 0.2921299   |\n",
       "\n"
      ],
      "text/plain": [
       "           Df Deviance    Resid. Df Resid. Dev Pr(>Chi) \n",
       "NULL       NA          NA 66        79.90483          NA\n",
       "sex         1 0.001075955 65        79.90376   0.9738327\n",
       "definition  1 1.065214512 64        78.83854   0.3020289\n",
       "need        1 0.069155166 63        78.76939   0.7925709\n",
       "purpose     2 0.460202236 61        78.30918   0.7944533\n",
       "interest    1 1.109779326 60        77.19941   0.2921299"
      ]
     },
     "metadata": {},
     "output_type": "display_data"
    },
    {
     "data": {
      "text/html": [
       "0.330357142857143"
      ],
      "text/latex": [
       "0.330357142857143"
      ],
      "text/markdown": [
       "0.330357142857143"
      ],
      "text/plain": [
       "[1] 0.3303571"
      ]
     },
     "metadata": {},
     "output_type": "display_data"
    },
    {
     "data": {
      "image/png": "[encoded data removed]",
      "text/plain": [
       "plot without title"
      ]
     },
     "metadata": {},
     "output_type": "display_data"
    }
   ],
   "source": [
    "model <- glm(d3_5 ~ sex + definition + need + purpose \n",
    "              + interest, data =train, family = binomial)\n",
    "summary(model)\n",
    "\n",
    "\n",
    "anova(model, test=\"Chisq\")\n",
    "\n",
    "\n",
    "p <- predict(model, newdata=test, type=\"response\")\n",
    "pr <- prediction(p, test$d3_5)\n",
    "prf <- performance(pr, measure = \"tpr\", x.measure = \"fpr\")\n",
    "plot(prf)\n",
    "\n",
    "auc <- performance(pr, measure = \"auc\")\n",
    "auc <- auc@y.values[[1]]\n",
    "auc"
   ]
  },
  {
   "cell_type": "code",
   "execution_count": null,
   "metadata": {},
   "outputs": [],
   "source": []
  }
 ],
 "metadata": {
  "kernelspec": {
   "display_name": "R",
   "language": "R",
   "name": "ir"
  },
  "language_info": {
   "codemirror_mode": "r",
   "file_extension": ".r",
   "mimetype": "text/x-r-source",
   "name": "R",
   "pygments_lexer": "r",
   "version": "3.6.1"
  }
 },
 "nbformat": 4,
 "nbformat_minor": 4
}
