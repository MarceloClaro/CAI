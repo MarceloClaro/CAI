{
 "cells": [
  {
   "cell_type": "code",
   "execution_count": 1,
   "metadata": {
    "scrolled": true
   },
   "outputs": [
    {
     "name": "stderr",
     "output_type": "stream",
     "text": [
      "Warning message:\n",
      "\"package 'ROCR' was built under R version 3.6.3\"Loading required package: gplots\n",
      "Warning message:\n",
      "\"package 'gplots' was built under R version 3.6.3\"\n",
      "Attaching package: 'gplots'\n",
      "\n",
      "The following object is masked from 'package:stats':\n",
      "\n",
      "    lowess\n",
      "\n",
      "Warning message:\n",
      "\"package 'dplyr' was built under R version 3.6.3\"\n",
      "Attaching package: 'dplyr'\n",
      "\n",
      "The following objects are masked from 'package:stats':\n",
      "\n",
      "    filter, lag\n",
      "\n",
      "The following objects are masked from 'package:base':\n",
      "\n",
      "    intersect, setdiff, setequal, union\n",
      "\n"
     ]
    }
   ],
   "source": [
    "library(ROCR)\n",
    "library(dplyr)"
   ]
  },
  {
   "cell_type": "code",
   "execution_count": 2,
   "metadata": {},
   "outputs": [],
   "source": [
    "survey <- read.csv('전처리/2번설문/change_harmony.csv')"
   ]
  },
  {
   "cell_type": "code",
   "execution_count": 3,
   "metadata": {
    "scrolled": false
   },
   "outputs": [
    {
     "name": "stdout",
     "output_type": "stream",
     "text": [
      "'data.frame':\t96 obs. of  13 variables:\n",
      " $ X          : int  0 1 2 3 4 5 6 7 8 9 ...\n",
      " $ sex        : Factor w/ 2 levels \"Female\",\"Male\": 1 2 1 2 1 1 1 1 1 1 ...\n",
      " $ age_class  : int  20 20 20 20 20 30 30 20 30 20 ...\n",
      " $ definition : Factor w/ 2 levels \"bright\",\"harmony\": 1 2 1 1 1 2 2 1 2 2 ...\n",
      " $ need       : Factor w/ 2 levels \"bright\",\"harmony\": 1 2 1 2 1 2 1 1 1 2 ...\n",
      " $ purpose    : Factor w/ 3 levels \"clothes\",\"cosmetic\",..: 1 1 1 1 2 1 1 2 3 1 ...\n",
      " $ interest   : int  3 5 5 3 3 4 3 3 5 1 ...\n",
      " $ comp       : int  3 5 5 5 2 3 3 2 2 5 ...\n",
      " $ triangle1  : int  4 5 5 5 4 2 5 5 5 4 ...\n",
      " $ triangle2  : int  3 4 4 2 3 2 3 3 1 2 ...\n",
      " $ doubleness1: int  2 1 2 5 4 5 2 1 5 1 ...\n",
      " $ doubleness2: int  2 2 2 4 3 4 3 5 2 4 ...\n",
      " $ doubleness3: int  1 3 1 5 1 5 5 3 1 2 ...\n"
     ]
    },
    {
     "data": {
      "text/html": [
       "<table>\n",
       "<thead><tr><th scope=col>X</th><th scope=col>sex</th><th scope=col>age_class</th><th scope=col>definition</th><th scope=col>need</th><th scope=col>purpose</th><th scope=col>interest</th><th scope=col>comp</th><th scope=col>triangle1</th><th scope=col>triangle2</th><th scope=col>doubleness1</th><th scope=col>doubleness2</th><th scope=col>doubleness3</th></tr></thead>\n",
       "<tbody>\n",
       "\t<tr><td>0       </td><td>Female  </td><td>20      </td><td>bright  </td><td>bright  </td><td>clothes </td><td>3       </td><td>3       </td><td>4       </td><td>3       </td><td>2       </td><td>2       </td><td>1       </td></tr>\n",
       "\t<tr><td>1       </td><td>Male    </td><td>20      </td><td>harmony </td><td>harmony </td><td>clothes </td><td>5       </td><td>5       </td><td>5       </td><td>4       </td><td>1       </td><td>2       </td><td>3       </td></tr>\n",
       "\t<tr><td>2       </td><td>Female  </td><td>20      </td><td>bright  </td><td>bright  </td><td>clothes </td><td>5       </td><td>5       </td><td>5       </td><td>4       </td><td>2       </td><td>2       </td><td>1       </td></tr>\n",
       "\t<tr><td>3       </td><td>Male    </td><td>20      </td><td>bright  </td><td>harmony </td><td>clothes </td><td>3       </td><td>5       </td><td>5       </td><td>2       </td><td>5       </td><td>4       </td><td>5       </td></tr>\n",
       "\t<tr><td>4       </td><td>Female  </td><td>20      </td><td>bright  </td><td>bright  </td><td>cosmetic</td><td>3       </td><td>2       </td><td>4       </td><td>3       </td><td>4       </td><td>3       </td><td>1       </td></tr>\n",
       "\t<tr><td>5       </td><td>Female  </td><td>30      </td><td>harmony </td><td>harmony </td><td>clothes </td><td>4       </td><td>3       </td><td>2       </td><td>2       </td><td>5       </td><td>4       </td><td>5       </td></tr>\n",
       "</tbody>\n",
       "</table>\n"
      ],
      "text/latex": [
       "\\begin{tabular}{r|lllllllllllll}\n",
       " X & sex & age\\_class & definition & need & purpose & interest & comp & triangle1 & triangle2 & doubleness1 & doubleness2 & doubleness3\\\\\n",
       "\\hline\n",
       "\t 0        & Female   & 20       & bright   & bright   & clothes  & 3        & 3        & 4        & 3        & 2        & 2        & 1       \\\\\n",
       "\t 1        & Male     & 20       & harmony  & harmony  & clothes  & 5        & 5        & 5        & 4        & 1        & 2        & 3       \\\\\n",
       "\t 2        & Female   & 20       & bright   & bright   & clothes  & 5        & 5        & 5        & 4        & 2        & 2        & 1       \\\\\n",
       "\t 3        & Male     & 20       & bright   & harmony  & clothes  & 3        & 5        & 5        & 2        & 5        & 4        & 5       \\\\\n",
       "\t 4        & Female   & 20       & bright   & bright   & cosmetic & 3        & 2        & 4        & 3        & 4        & 3        & 1       \\\\\n",
       "\t 5        & Female   & 30       & harmony  & harmony  & clothes  & 4        & 3        & 2        & 2        & 5        & 4        & 5       \\\\\n",
       "\\end{tabular}\n"
      ],
      "text/markdown": [
       "\n",
       "| X | sex | age_class | definition | need | purpose | interest | comp | triangle1 | triangle2 | doubleness1 | doubleness2 | doubleness3 |\n",
       "|---|---|---|---|---|---|---|---|---|---|---|---|---|\n",
       "| 0        | Female   | 20       | bright   | bright   | clothes  | 3        | 3        | 4        | 3        | 2        | 2        | 1        |\n",
       "| 1        | Male     | 20       | harmony  | harmony  | clothes  | 5        | 5        | 5        | 4        | 1        | 2        | 3        |\n",
       "| 2        | Female   | 20       | bright   | bright   | clothes  | 5        | 5        | 5        | 4        | 2        | 2        | 1        |\n",
       "| 3        | Male     | 20       | bright   | harmony  | clothes  | 3        | 5        | 5        | 2        | 5        | 4        | 5        |\n",
       "| 4        | Female   | 20       | bright   | bright   | cosmetic | 3        | 2        | 4        | 3        | 4        | 3        | 1        |\n",
       "| 5        | Female   | 30       | harmony  | harmony  | clothes  | 4        | 3        | 2        | 2        | 5        | 4        | 5        |\n",
       "\n"
      ],
      "text/plain": [
       "  X sex    age_class definition need    purpose  interest comp triangle1\n",
       "1 0 Female 20        bright     bright  clothes  3        3    4        \n",
       "2 1 Male   20        harmony    harmony clothes  5        5    5        \n",
       "3 2 Female 20        bright     bright  clothes  5        5    5        \n",
       "4 3 Male   20        bright     harmony clothes  3        5    5        \n",
       "5 4 Female 20        bright     bright  cosmetic 3        2    4        \n",
       "6 5 Female 30        harmony    harmony clothes  4        3    2        \n",
       "  triangle2 doubleness1 doubleness2 doubleness3\n",
       "1 3         2           2           1          \n",
       "2 4         1           2           3          \n",
       "3 4         2           2           1          \n",
       "4 2         5           4           5          \n",
       "5 3         4           3           1          \n",
       "6 2         5           4           5          "
      ]
     },
     "metadata": {},
     "output_type": "display_data"
    }
   ],
   "source": [
    "str(survey)\n",
    "head(survey)"
   ]
  },
  {
   "cell_type": "code",
   "execution_count": 4,
   "metadata": {
    "scrolled": true
   },
   "outputs": [],
   "source": [
    "survey2 = filter(survey, sex=='Female')"
   ]
  },
  {
   "cell_type": "code",
   "execution_count": 5,
   "metadata": {},
   "outputs": [
    {
     "name": "stdout",
     "output_type": "stream",
     "text": [
      "'data.frame':\t61 obs. of  13 variables:\n",
      " $ X          : int  0 2 4 5 6 7 8 9 10 11 ...\n",
      " $ sex        : Factor w/ 2 levels \"Female\",\"Male\": 1 1 1 1 1 1 1 1 1 1 ...\n",
      " $ age_class  : int  20 20 20 30 30 20 30 20 30 20 ...\n",
      " $ definition : Factor w/ 2 levels \"bright\",\"harmony\": 1 1 1 2 2 1 2 2 2 1 ...\n",
      " $ need       : Factor w/ 2 levels \"bright\",\"harmony\": 1 1 1 2 1 1 1 2 1 1 ...\n",
      " $ purpose    : Factor w/ 3 levels \"clothes\",\"cosmetic\",..: 1 1 2 1 1 2 3 1 2 3 ...\n",
      " $ interest   : int  3 5 3 4 3 3 5 1 4 4 ...\n",
      " $ comp       : int  3 5 2 3 3 2 2 5 3 4 ...\n",
      " $ triangle1  : int  4 5 4 2 5 5 5 4 5 3 ...\n",
      " $ triangle2  : int  3 4 3 2 3 3 1 2 3 4 ...\n",
      " $ doubleness1: int  2 2 4 5 2 1 5 1 5 3 ...\n",
      " $ doubleness2: int  2 2 3 4 3 5 2 4 3 4 ...\n",
      " $ doubleness3: int  1 1 1 5 5 3 1 2 1 2 ...\n"
     ]
    }
   ],
   "source": [
    "str(survey2)"
   ]
  },
  {
   "cell_type": "code",
   "execution_count": 6,
   "metadata": {},
   "outputs": [],
   "source": [
    "survey2$comp1 <- case_when(\n",
    "    survey2$comp == 1 ~ 1,\n",
    "    survey2$comp != 1 ~ 0)\n",
    "\n",
    "survey2$comp2 <- case_when(\n",
    "    survey2$comp == 2 ~ 1,\n",
    "    survey2$comp != 2 ~ 0)\n",
    "\n",
    "survey2$comp3 <- case_when(\n",
    "    survey2$comp == 3 ~ 1,\n",
    "    survey2$comp != 3 ~ 0)\n",
    "\n",
    "survey2$comp4 <- case_when(\n",
    "    survey2$comp == 4 ~ 1,\n",
    "    survey2$comp != 4 ~ 0)\n",
    "\n",
    "survey2$comp5 <- case_when(\n",
    "    survey2$comp == 5 ~ 1,\n",
    "    survey2$comp != 5 ~ 0)\n",
    "\n",
    "survey2$t1_1 <- case_when(\n",
    "    survey2$triangle1 == 1 ~ 1,\n",
    "    survey2$triangle1 != 1 ~ 0)\n",
    "\n",
    "survey2$t1_2 <- case_when(\n",
    "    survey2$triangle1 == 2 ~ 1,\n",
    "    survey2$triangle1 != 2 ~ 0)\n",
    "\n",
    "survey2$t1_3 <- case_when(\n",
    "    survey2$triangle1 == 3 ~ 1,\n",
    "    survey2$triangle1 != 3 ~ 0)\n",
    "\n",
    "survey2$t1_4 <- case_when(\n",
    "    survey2$triangle1 == 4 ~ 1,\n",
    "    survey2$triangle1 != 4 ~ 0)\n",
    "\n",
    "survey2$t1_5 <- case_when(\n",
    "    survey2$triangle1 == 5 ~ 1,\n",
    "    survey2$triangle1 != 5 ~ 0)\n",
    "\t\n",
    "survey2$t2_1 <- case_when(\n",
    "    survey2$triangle2 == 1 ~ 1,\n",
    "    survey2$triangle2 != 1 ~ 0)\n",
    "\n",
    "survey2$t2_2 <- case_when(\n",
    "    survey2$triangle2 == 2 ~ 1,\n",
    "    survey2$triangle2 != 2 ~ 0)\n",
    "\n",
    "survey2$t2_3 <- case_when(\n",
    "    survey2$triangle2 == 3 ~ 1,\n",
    "    survey2$triangle2 != 3 ~ 0)\n",
    "\n",
    "survey2$t2_4 <- case_when(\n",
    "    survey2$triangle2 == 4 ~ 1,\n",
    "    survey2$triangle2 != 4 ~ 0)\n",
    "\n",
    "survey2$t2_5 <- case_when(\n",
    "    survey2$triangle2 == 5 ~ 1,\n",
    "    survey2$triangle2 != 5 ~ 0)\n",
    "\t\n",
    "survey2$d1_1 <- case_when(\n",
    "    survey2$doubleness1 == 1 ~ 1,\n",
    "    survey2$doubleness1 != 1 ~ 0)\n",
    "\n",
    "survey2$d1_2 <- case_when(\n",
    "    survey2$doubleness1 == 2 ~ 1,\n",
    "    survey2$doubleness1 != 2 ~ 0)\n",
    "\n",
    "survey2$d1_3 <- case_when(\n",
    "    survey2$doubleness1 == 3 ~ 1,\n",
    "    survey2$doubleness1 != 3 ~ 0)\n",
    "\n",
    "survey2$d1_4 <- case_when(\n",
    "    survey2$doubleness1 == 4 ~ 1,\n",
    "    survey2$doubleness1 != 4 ~ 0)\n",
    "\n",
    "survey2$d1_5 <- case_when(\n",
    "    survey2$doubleness1 == 5 ~ 1,\n",
    "    survey2$doubleness1 != 5 ~ 0)\n",
    "\t\n",
    "survey2$d2_1 <- case_when(\n",
    "    survey2$doubleness2 == 1 ~ 1,\n",
    "    survey2$doubleness2 != 1 ~ 0)\n",
    "\n",
    "survey2$d2_2 <- case_when(\n",
    "    survey2$doubleness2 == 2 ~ 1,\n",
    "    survey2$doubleness2 != 2 ~ 0)\n",
    "\n",
    "survey2$d2_3 <- case_when(\n",
    "    survey2$doubleness2 == 3 ~ 1,\n",
    "    survey2$doubleness2 != 3 ~ 0)\n",
    "\n",
    "survey2$d2_4 <- case_when(\n",
    "    survey2$doubleness2 == 4 ~ 1,\n",
    "    survey2$doubleness2 != 4 ~ 0)\n",
    "\n",
    "survey2$d2_5 <- case_when(\n",
    "    survey2$doubleness2 == 5 ~ 1,\n",
    "    survey2$doubleness2 != 5 ~ 0)\n",
    "\t\n",
    "survey2$d3_1 <- case_when(\n",
    "    survey2$doubleness3 == 1 ~ 1,\n",
    "    survey2$doubleness3 != 1 ~ 0)\n",
    "\n",
    "survey2$d3_2 <- case_when(\n",
    "    survey2$doubleness3 == 2 ~ 1,\n",
    "    survey2$doubleness3 != 2 ~ 0)\n",
    "\n",
    "survey2$d3_3 <- case_when(\n",
    "    survey2$doubleness3 == 3 ~ 1,\n",
    "    survey2$doubleness3 != 3 ~ 0)\n",
    "\n",
    "survey2$d3_4 <- case_when(\n",
    "    survey2$doubleness3 == 4 ~ 1,\n",
    "    survey2$doubleness3 != 4 ~ 0)\n",
    "\n",
    "survey2$d3_5 <- case_when(\n",
    "    survey2$doubleness3 == 5 ~ 1,\n",
    "    survey2$doubleness3 != 5 ~ 0)"
   ]
  },
  {
   "cell_type": "code",
   "execution_count": 7,
   "metadata": {
    "scrolled": true
   },
   "outputs": [
    {
     "data": {
      "text/html": [
       "<table>\n",
       "<thead><tr><th scope=col>X</th><th scope=col>sex</th><th scope=col>age_class</th><th scope=col>definition</th><th scope=col>need</th><th scope=col>purpose</th><th scope=col>interest</th><th scope=col>comp</th><th scope=col>triangle1</th><th scope=col>triangle2</th><th scope=col>...</th><th scope=col>d2_1</th><th scope=col>d2_2</th><th scope=col>d2_3</th><th scope=col>d2_4</th><th scope=col>d2_5</th><th scope=col>d3_1</th><th scope=col>d3_2</th><th scope=col>d3_3</th><th scope=col>d3_4</th><th scope=col>d3_5</th></tr></thead>\n",
       "<tbody>\n",
       "\t<tr><td> 0      </td><td>Female  </td><td>20      </td><td>bright  </td><td>bright  </td><td>clothes </td><td>3       </td><td>3       </td><td>4       </td><td>3       </td><td>...     </td><td>0       </td><td>1       </td><td>0       </td><td>0       </td><td>0       </td><td>1       </td><td>0       </td><td>0       </td><td>0       </td><td>0       </td></tr>\n",
       "\t<tr><td> 2      </td><td>Female  </td><td>20      </td><td>bright  </td><td>bright  </td><td>clothes </td><td>5       </td><td>5       </td><td>5       </td><td>4       </td><td>...     </td><td>0       </td><td>1       </td><td>0       </td><td>0       </td><td>0       </td><td>1       </td><td>0       </td><td>0       </td><td>0       </td><td>0       </td></tr>\n",
       "\t<tr><td> 4      </td><td>Female  </td><td>20      </td><td>bright  </td><td>bright  </td><td>cosmetic</td><td>3       </td><td>2       </td><td>4       </td><td>3       </td><td>...     </td><td>0       </td><td>0       </td><td>1       </td><td>0       </td><td>0       </td><td>1       </td><td>0       </td><td>0       </td><td>0       </td><td>0       </td></tr>\n",
       "\t<tr><td> 5      </td><td>Female  </td><td>30      </td><td>harmony </td><td>harmony </td><td>clothes </td><td>4       </td><td>3       </td><td>2       </td><td>2       </td><td>...     </td><td>0       </td><td>0       </td><td>0       </td><td>1       </td><td>0       </td><td>0       </td><td>0       </td><td>0       </td><td>0       </td><td>1       </td></tr>\n",
       "\t<tr><td> 6      </td><td>Female  </td><td>30      </td><td>harmony </td><td>bright  </td><td>clothes </td><td>3       </td><td>3       </td><td>5       </td><td>3       </td><td>...     </td><td>0       </td><td>0       </td><td>1       </td><td>0       </td><td>0       </td><td>0       </td><td>0       </td><td>0       </td><td>0       </td><td>1       </td></tr>\n",
       "\t<tr><td> 7      </td><td>Female  </td><td>20      </td><td>bright  </td><td>bright  </td><td>cosmetic</td><td>3       </td><td>2       </td><td>5       </td><td>3       </td><td>...     </td><td>0       </td><td>0       </td><td>0       </td><td>0       </td><td>1       </td><td>0       </td><td>0       </td><td>1       </td><td>0       </td><td>0       </td></tr>\n",
       "\t<tr><td> 8      </td><td>Female  </td><td>30      </td><td>harmony </td><td>bright  </td><td>etc     </td><td>5       </td><td>2       </td><td>5       </td><td>1       </td><td>...     </td><td>0       </td><td>1       </td><td>0       </td><td>0       </td><td>0       </td><td>1       </td><td>0       </td><td>0       </td><td>0       </td><td>0       </td></tr>\n",
       "\t<tr><td> 9      </td><td>Female  </td><td>20      </td><td>harmony </td><td>harmony </td><td>clothes </td><td>1       </td><td>5       </td><td>4       </td><td>2       </td><td>...     </td><td>0       </td><td>0       </td><td>0       </td><td>1       </td><td>0       </td><td>0       </td><td>1       </td><td>0       </td><td>0       </td><td>0       </td></tr>\n",
       "\t<tr><td>10      </td><td>Female  </td><td>30      </td><td>harmony </td><td>bright  </td><td>cosmetic</td><td>4       </td><td>3       </td><td>5       </td><td>3       </td><td>...     </td><td>0       </td><td>0       </td><td>1       </td><td>0       </td><td>0       </td><td>1       </td><td>0       </td><td>0       </td><td>0       </td><td>0       </td></tr>\n",
       "\t<tr><td>11      </td><td>Female  </td><td>20      </td><td>bright  </td><td>bright  </td><td>etc     </td><td>4       </td><td>4       </td><td>3       </td><td>4       </td><td>...     </td><td>0       </td><td>0       </td><td>0       </td><td>1       </td><td>0       </td><td>0       </td><td>1       </td><td>0       </td><td>0       </td><td>0       </td></tr>\n",
       "\t<tr><td>12      </td><td>Female  </td><td>20      </td><td>harmony </td><td>bright  </td><td>cosmetic</td><td>3       </td><td>4       </td><td>4       </td><td>4       </td><td>...     </td><td>0       </td><td>1       </td><td>0       </td><td>0       </td><td>0       </td><td>1       </td><td>0       </td><td>0       </td><td>0       </td><td>0       </td></tr>\n",
       "\t<tr><td>14      </td><td>Female  </td><td>20      </td><td>harmony </td><td>harmony </td><td>clothes </td><td>3       </td><td>2       </td><td>3       </td><td>4       </td><td>...     </td><td>0       </td><td>1       </td><td>0       </td><td>0       </td><td>0       </td><td>0       </td><td>0       </td><td>0       </td><td>0       </td><td>1       </td></tr>\n",
       "\t<tr><td>15      </td><td>Female  </td><td>20      </td><td>bright  </td><td>bright  </td><td>cosmetic</td><td>5       </td><td>1       </td><td>3       </td><td>4       </td><td>...     </td><td>0       </td><td>1       </td><td>0       </td><td>0       </td><td>0       </td><td>0       </td><td>0       </td><td>0       </td><td>0       </td><td>1       </td></tr>\n",
       "\t<tr><td>16      </td><td>Female  </td><td>30      </td><td>harmony </td><td>harmony </td><td>cosmetic</td><td>1       </td><td>2       </td><td>3       </td><td>4       </td><td>...     </td><td>0       </td><td>1       </td><td>0       </td><td>0       </td><td>0       </td><td>0       </td><td>0       </td><td>0       </td><td>0       </td><td>1       </td></tr>\n",
       "\t<tr><td>19      </td><td>Female  </td><td>30      </td><td>harmony </td><td>bright  </td><td>clothes </td><td>4       </td><td>2       </td><td>5       </td><td>4       </td><td>...     </td><td>1       </td><td>0       </td><td>0       </td><td>0       </td><td>0       </td><td>0       </td><td>0       </td><td>1       </td><td>0       </td><td>0       </td></tr>\n",
       "\t<tr><td>22      </td><td>Female  </td><td>30      </td><td>harmony </td><td>harmony </td><td>clothes </td><td>3       </td><td>1       </td><td>5       </td><td>3       </td><td>...     </td><td>0       </td><td>1       </td><td>0       </td><td>0       </td><td>0       </td><td>0       </td><td>0       </td><td>1       </td><td>0       </td><td>0       </td></tr>\n",
       "\t<tr><td>23      </td><td>Female  </td><td>20      </td><td>harmony </td><td>bright  </td><td>clothes </td><td>3       </td><td>3       </td><td>3       </td><td>4       </td><td>...     </td><td>0       </td><td>0       </td><td>0       </td><td>1       </td><td>0       </td><td>1       </td><td>0       </td><td>0       </td><td>0       </td><td>0       </td></tr>\n",
       "\t<tr><td>24      </td><td>Female  </td><td>20      </td><td>bright  </td><td>harmony </td><td>clothes </td><td>3       </td><td>2       </td><td>3       </td><td>3       </td><td>...     </td><td>0       </td><td>1       </td><td>0       </td><td>0       </td><td>0       </td><td>1       </td><td>0       </td><td>0       </td><td>0       </td><td>0       </td></tr>\n",
       "\t<tr><td>25      </td><td>Female  </td><td>20      </td><td>bright  </td><td>bright  </td><td>clothes </td><td>4       </td><td>1       </td><td>3       </td><td>4       </td><td>...     </td><td>1       </td><td>0       </td><td>0       </td><td>0       </td><td>0       </td><td>1       </td><td>0       </td><td>0       </td><td>0       </td><td>0       </td></tr>\n",
       "\t<tr><td>26      </td><td>Female  </td><td>30      </td><td>bright  </td><td>bright  </td><td>cosmetic</td><td>3       </td><td>2       </td><td>5       </td><td>4       </td><td>...     </td><td>0       </td><td>0       </td><td>1       </td><td>0       </td><td>0       </td><td>0       </td><td>0       </td><td>0       </td><td>0       </td><td>1       </td></tr>\n",
       "\t<tr><td>28      </td><td>Female  </td><td>20      </td><td>harmony </td><td>harmony </td><td>cosmetic</td><td>3       </td><td>5       </td><td>1       </td><td>3       </td><td>...     </td><td>0       </td><td>0       </td><td>1       </td><td>0       </td><td>0       </td><td>0       </td><td>0       </td><td>0       </td><td>0       </td><td>1       </td></tr>\n",
       "\t<tr><td>29      </td><td>Female  </td><td>20      </td><td>harmony </td><td>harmony </td><td>etc     </td><td>2       </td><td>2       </td><td>3       </td><td>4       </td><td>...     </td><td>0       </td><td>0       </td><td>1       </td><td>0       </td><td>0       </td><td>0       </td><td>0       </td><td>0       </td><td>0       </td><td>1       </td></tr>\n",
       "\t<tr><td>30      </td><td>Female  </td><td>20      </td><td>bright  </td><td>bright  </td><td>cosmetic</td><td>2       </td><td>1       </td><td>5       </td><td>5       </td><td>...     </td><td>0       </td><td>0       </td><td>0       </td><td>1       </td><td>0       </td><td>1       </td><td>0       </td><td>0       </td><td>0       </td><td>0       </td></tr>\n",
       "\t<tr><td>31      </td><td>Female  </td><td>20      </td><td>harmony </td><td>bright  </td><td>etc     </td><td>2       </td><td>2       </td><td>2       </td><td>4       </td><td>...     </td><td>0       </td><td>1       </td><td>0       </td><td>0       </td><td>0       </td><td>0       </td><td>0       </td><td>0       </td><td>0       </td><td>1       </td></tr>\n",
       "\t<tr><td>34      </td><td>Female  </td><td>20      </td><td>harmony </td><td>harmony </td><td>clothes </td><td>3       </td><td>4       </td><td>1       </td><td>5       </td><td>...     </td><td>0       </td><td>0       </td><td>0       </td><td>1       </td><td>0       </td><td>1       </td><td>0       </td><td>0       </td><td>0       </td><td>0       </td></tr>\n",
       "\t<tr><td>35      </td><td>Female  </td><td>20      </td><td>harmony </td><td>harmony </td><td>cosmetic</td><td>3       </td><td>2       </td><td>5       </td><td>4       </td><td>...     </td><td>0       </td><td>0       </td><td>0       </td><td>1       </td><td>0       </td><td>0       </td><td>1       </td><td>0       </td><td>0       </td><td>0       </td></tr>\n",
       "\t<tr><td>41      </td><td>Female  </td><td>40      </td><td>bright  </td><td>bright  </td><td>clothes </td><td>2       </td><td>1       </td><td>4       </td><td>5       </td><td>...     </td><td>0       </td><td>0       </td><td>0       </td><td>1       </td><td>0       </td><td>1       </td><td>0       </td><td>0       </td><td>0       </td><td>0       </td></tr>\n",
       "\t<tr><td>45      </td><td>Female  </td><td>20      </td><td>harmony </td><td>harmony </td><td>etc     </td><td>3       </td><td>4       </td><td>3       </td><td>5       </td><td>...     </td><td>0       </td><td>0       </td><td>1       </td><td>0       </td><td>0       </td><td>1       </td><td>0       </td><td>0       </td><td>0       </td><td>0       </td></tr>\n",
       "\t<tr><td>46      </td><td>Female  </td><td>10      </td><td>harmony </td><td>harmony </td><td>etc     </td><td>3       </td><td>3       </td><td>3       </td><td>1       </td><td>...     </td><td>0       </td><td>0       </td><td>0       </td><td>1       </td><td>0       </td><td>0       </td><td>1       </td><td>0       </td><td>0       </td><td>0       </td></tr>\n",
       "\t<tr><td>47      </td><td>Female  </td><td>20      </td><td>harmony </td><td>harmony </td><td>etc     </td><td>5       </td><td>2       </td><td>1       </td><td>1       </td><td>...     </td><td>0       </td><td>1       </td><td>0       </td><td>0       </td><td>0       </td><td>0       </td><td>0       </td><td>0       </td><td>0       </td><td>1       </td></tr>\n",
       "\t<tr><td>...</td><td>...</td><td>...</td><td>...</td><td>...</td><td>...</td><td>...</td><td>...</td><td>...</td><td>...</td><td>   </td><td>...</td><td>...</td><td>...</td><td>...</td><td>...</td><td>...</td><td>...</td><td>...</td><td>...</td><td>...</td></tr>\n",
       "\t<tr><td>49      </td><td>Female  </td><td>10      </td><td>bright  </td><td>bright  </td><td>etc     </td><td>4       </td><td>1       </td><td>4       </td><td>3       </td><td>...     </td><td>0       </td><td>0       </td><td>0       </td><td>0       </td><td>1       </td><td>0       </td><td>0       </td><td>0       </td><td>1       </td><td>0       </td></tr>\n",
       "\t<tr><td>52      </td><td>Female  </td><td>20      </td><td>harmony </td><td>bright  </td><td>etc     </td><td>3       </td><td>4       </td><td>5       </td><td>3       </td><td>...     </td><td>0       </td><td>0       </td><td>0       </td><td>1       </td><td>0       </td><td>0       </td><td>0       </td><td>1       </td><td>0       </td><td>0       </td></tr>\n",
       "\t<tr><td>53      </td><td>Female  </td><td>20      </td><td>harmony </td><td>harmony </td><td>etc     </td><td>4       </td><td>5       </td><td>4       </td><td>3       </td><td>...     </td><td>0       </td><td>1       </td><td>0       </td><td>0       </td><td>0       </td><td>0       </td><td>0       </td><td>1       </td><td>0       </td><td>0       </td></tr>\n",
       "\t<tr><td>54      </td><td>Female  </td><td>30      </td><td>harmony </td><td>harmony </td><td>etc     </td><td>5       </td><td>3       </td><td>4       </td><td>4       </td><td>...     </td><td>1       </td><td>0       </td><td>0       </td><td>0       </td><td>0       </td><td>0       </td><td>0       </td><td>0       </td><td>0       </td><td>1       </td></tr>\n",
       "\t<tr><td>55      </td><td>Female  </td><td>20      </td><td>bright  </td><td>bright  </td><td>etc     </td><td>5       </td><td>2       </td><td>2       </td><td>5       </td><td>...     </td><td>0       </td><td>0       </td><td>0       </td><td>1       </td><td>0       </td><td>0       </td><td>0       </td><td>0       </td><td>1       </td><td>0       </td></tr>\n",
       "\t<tr><td>57      </td><td>Female  </td><td>20      </td><td>harmony </td><td>harmony </td><td>cosmetic</td><td>3       </td><td>2       </td><td>3       </td><td>5       </td><td>...     </td><td>0       </td><td>1       </td><td>0       </td><td>0       </td><td>0       </td><td>0       </td><td>1       </td><td>0       </td><td>0       </td><td>0       </td></tr>\n",
       "\t<tr><td>58      </td><td>Female  </td><td>30      </td><td>harmony </td><td>bright  </td><td>etc     </td><td>4       </td><td>1       </td><td>3       </td><td>5       </td><td>...     </td><td>0       </td><td>0       </td><td>0       </td><td>1       </td><td>0       </td><td>0       </td><td>0       </td><td>1       </td><td>0       </td><td>0       </td></tr>\n",
       "\t<tr><td>66      </td><td>Female  </td><td>20      </td><td>harmony </td><td>harmony </td><td>etc     </td><td>3       </td><td>4       </td><td>5       </td><td>4       </td><td>...     </td><td>0       </td><td>1       </td><td>0       </td><td>0       </td><td>0       </td><td>0       </td><td>0       </td><td>0       </td><td>1       </td><td>0       </td></tr>\n",
       "\t<tr><td>68      </td><td>Female  </td><td>30      </td><td>harmony </td><td>bright  </td><td>cosmetic</td><td>2       </td><td>5       </td><td>3       </td><td>3       </td><td>...     </td><td>0       </td><td>0       </td><td>0       </td><td>1       </td><td>0       </td><td>0       </td><td>0       </td><td>1       </td><td>0       </td><td>0       </td></tr>\n",
       "\t<tr><td>69      </td><td>Female  </td><td>20      </td><td>harmony </td><td>harmony </td><td>etc     </td><td>4       </td><td>4       </td><td>2       </td><td>3       </td><td>...     </td><td>0       </td><td>0       </td><td>0       </td><td>1       </td><td>0       </td><td>0       </td><td>1       </td><td>0       </td><td>0       </td><td>0       </td></tr>\n",
       "\t<tr><td>70      </td><td>Female  </td><td>20      </td><td>harmony </td><td>harmony </td><td>etc     </td><td>3       </td><td>2       </td><td>3       </td><td>5       </td><td>...     </td><td>0       </td><td>0       </td><td>0       </td><td>1       </td><td>0       </td><td>0       </td><td>1       </td><td>0       </td><td>0       </td><td>0       </td></tr>\n",
       "\t<tr><td>71      </td><td>Female  </td><td>20      </td><td>harmony </td><td>harmony </td><td>etc     </td><td>5       </td><td>3       </td><td>5       </td><td>3       </td><td>...     </td><td>0       </td><td>1       </td><td>0       </td><td>0       </td><td>0       </td><td>0       </td><td>0       </td><td>1       </td><td>0       </td><td>0       </td></tr>\n",
       "\t<tr><td>72      </td><td>Female  </td><td>20      </td><td>harmony </td><td>harmony </td><td>cosmetic</td><td>4       </td><td>5       </td><td>4       </td><td>4       </td><td>...     </td><td>0       </td><td>1       </td><td>0       </td><td>0       </td><td>0       </td><td>0       </td><td>0       </td><td>0       </td><td>1       </td><td>0       </td></tr>\n",
       "\t<tr><td>73      </td><td>Female  </td><td>10      </td><td>harmony </td><td>harmony </td><td>etc     </td><td>4       </td><td>3       </td><td>3       </td><td>2       </td><td>...     </td><td>0       </td><td>0       </td><td>0       </td><td>0       </td><td>1       </td><td>0       </td><td>0       </td><td>0       </td><td>0       </td><td>1       </td></tr>\n",
       "\t<tr><td>74      </td><td>Female  </td><td>30      </td><td>harmony </td><td>harmony </td><td>cosmetic</td><td>4       </td><td>3       </td><td>3       </td><td>5       </td><td>...     </td><td>1       </td><td>0       </td><td>0       </td><td>0       </td><td>0       </td><td>0       </td><td>0       </td><td>1       </td><td>0       </td><td>0       </td></tr>\n",
       "\t<tr><td>75      </td><td>Female  </td><td>10      </td><td>bright  </td><td>bright  </td><td>cosmetic</td><td>4       </td><td>2       </td><td>4       </td><td>3       </td><td>...     </td><td>0       </td><td>1       </td><td>0       </td><td>0       </td><td>0       </td><td>0       </td><td>0       </td><td>1       </td><td>0       </td><td>0       </td></tr>\n",
       "\t<tr><td>77      </td><td>Female  </td><td>10      </td><td>harmony </td><td>harmony </td><td>etc     </td><td>4       </td><td>5       </td><td>5       </td><td>5       </td><td>...     </td><td>0       </td><td>0       </td><td>0       </td><td>0       </td><td>1       </td><td>0       </td><td>0       </td><td>0       </td><td>0       </td><td>1       </td></tr>\n",
       "\t<tr><td>78      </td><td>Female  </td><td>20      </td><td>harmony </td><td>harmony </td><td>etc     </td><td>3       </td><td>3       </td><td>5       </td><td>3       </td><td>...     </td><td>0       </td><td>0       </td><td>0       </td><td>1       </td><td>0       </td><td>0       </td><td>1       </td><td>0       </td><td>0       </td><td>0       </td></tr>\n",
       "\t<tr><td>82      </td><td>Female  </td><td>30      </td><td>harmony </td><td>harmony </td><td>etc     </td><td>1       </td><td>2       </td><td>3       </td><td>3       </td><td>...     </td><td>0       </td><td>0       </td><td>0       </td><td>1       </td><td>0       </td><td>1       </td><td>0       </td><td>0       </td><td>0       </td><td>0       </td></tr>\n",
       "\t<tr><td>83      </td><td>Female  </td><td>30      </td><td>harmony </td><td>bright  </td><td>etc     </td><td>4       </td><td>3       </td><td>3       </td><td>4       </td><td>...     </td><td>0       </td><td>0       </td><td>1       </td><td>0       </td><td>0       </td><td>1       </td><td>0       </td><td>0       </td><td>0       </td><td>0       </td></tr>\n",
       "\t<tr><td>86      </td><td>Female  </td><td>30      </td><td>bright  </td><td>bright  </td><td>clothes </td><td>3       </td><td>3       </td><td>5       </td><td>4       </td><td>...     </td><td>0       </td><td>0       </td><td>0       </td><td>0       </td><td>1       </td><td>0       </td><td>0       </td><td>0       </td><td>0       </td><td>1       </td></tr>\n",
       "\t<tr><td>87      </td><td>Female  </td><td>30      </td><td>harmony </td><td>harmony </td><td>clothes </td><td>1       </td><td>3       </td><td>1       </td><td>3       </td><td>...     </td><td>0       </td><td>1       </td><td>0       </td><td>0       </td><td>0       </td><td>1       </td><td>0       </td><td>0       </td><td>0       </td><td>0       </td></tr>\n",
       "\t<tr><td>88      </td><td>Female  </td><td>50      </td><td>harmony </td><td>harmony </td><td>etc     </td><td>4       </td><td>3       </td><td>3       </td><td>5       </td><td>...     </td><td>0       </td><td>0       </td><td>0       </td><td>1       </td><td>0       </td><td>0       </td><td>0       </td><td>0       </td><td>0       </td><td>1       </td></tr>\n",
       "\t<tr><td>89      </td><td>Female  </td><td>50      </td><td>harmony </td><td>harmony </td><td>etc     </td><td>5       </td><td>2       </td><td>1       </td><td>5       </td><td>...     </td><td>0       </td><td>0       </td><td>0       </td><td>1       </td><td>0       </td><td>0       </td><td>0       </td><td>1       </td><td>0       </td><td>0       </td></tr>\n",
       "\t<tr><td>90      </td><td>Female  </td><td>20      </td><td>harmony </td><td>harmony </td><td>clothes </td><td>2       </td><td>2       </td><td>3       </td><td>4       </td><td>...     </td><td>0       </td><td>0       </td><td>0       </td><td>0       </td><td>1       </td><td>0       </td><td>1       </td><td>0       </td><td>0       </td><td>0       </td></tr>\n",
       "\t<tr><td>91      </td><td>Female  </td><td>50      </td><td>bright  </td><td>bright  </td><td>cosmetic</td><td>3       </td><td>1       </td><td>1       </td><td>1       </td><td>...     </td><td>1       </td><td>0       </td><td>0       </td><td>0       </td><td>0       </td><td>1       </td><td>0       </td><td>0       </td><td>0       </td><td>0       </td></tr>\n",
       "\t<tr><td>92      </td><td>Female  </td><td>50      </td><td>harmony </td><td>harmony </td><td>cosmetic</td><td>5       </td><td>4       </td><td>2       </td><td>1       </td><td>...     </td><td>0       </td><td>0       </td><td>1       </td><td>0       </td><td>0       </td><td>0       </td><td>0       </td><td>1       </td><td>0       </td><td>0       </td></tr>\n",
       "\t<tr><td>93      </td><td>Female  </td><td>50      </td><td>bright  </td><td>bright  </td><td>clothes </td><td>3       </td><td>4       </td><td>5       </td><td>2       </td><td>...     </td><td>0       </td><td>1       </td><td>0       </td><td>0       </td><td>0       </td><td>0       </td><td>0       </td><td>0       </td><td>0       </td><td>1       </td></tr>\n",
       "\t<tr><td>94      </td><td>Female  </td><td>50      </td><td>harmony </td><td>harmony </td><td>clothes </td><td>4       </td><td>5       </td><td>3       </td><td>5       </td><td>...     </td><td>0       </td><td>0       </td><td>0       </td><td>1       </td><td>0       </td><td>1       </td><td>0       </td><td>0       </td><td>0       </td><td>0       </td></tr>\n",
       "\t<tr><td>95      </td><td>Female  </td><td>20      </td><td>bright  </td><td>harmony </td><td>etc     </td><td>4       </td><td>3       </td><td>4       </td><td>4       </td><td>...     </td><td>0       </td><td>0       </td><td>0       </td><td>1       </td><td>0       </td><td>0       </td><td>0       </td><td>0       </td><td>1       </td><td>0       </td></tr>\n",
       "</tbody>\n",
       "</table>\n"
      ],
      "text/latex": [
       "\\begin{tabular}{r|lllllllllllllllllllllllllllllllllllllllllll}\n",
       " X & sex & age\\_class & definition & need & purpose & interest & comp & triangle1 & triangle2 & ... & d2\\_1 & d2\\_2 & d2\\_3 & d2\\_4 & d2\\_5 & d3\\_1 & d3\\_2 & d3\\_3 & d3\\_4 & d3\\_5\\\\\n",
       "\\hline\n",
       "\t  0       & Female   & 20       & bright   & bright   & clothes  & 3        & 3        & 4        & 3        & ...      & 0        & 1        & 0        & 0        & 0        & 1        & 0        & 0        & 0        & 0       \\\\\n",
       "\t  2       & Female   & 20       & bright   & bright   & clothes  & 5        & 5        & 5        & 4        & ...      & 0        & 1        & 0        & 0        & 0        & 1        & 0        & 0        & 0        & 0       \\\\\n",
       "\t  4       & Female   & 20       & bright   & bright   & cosmetic & 3        & 2        & 4        & 3        & ...      & 0        & 0        & 1        & 0        & 0        & 1        & 0        & 0        & 0        & 0       \\\\\n",
       "\t  5       & Female   & 30       & harmony  & harmony  & clothes  & 4        & 3        & 2        & 2        & ...      & 0        & 0        & 0        & 1        & 0        & 0        & 0        & 0        & 0        & 1       \\\\\n",
       "\t  6       & Female   & 30       & harmony  & bright   & clothes  & 3        & 3        & 5        & 3        & ...      & 0        & 0        & 1        & 0        & 0        & 0        & 0        & 0        & 0        & 1       \\\\\n",
       "\t  7       & Female   & 20       & bright   & bright   & cosmetic & 3        & 2        & 5        & 3        & ...      & 0        & 0        & 0        & 0        & 1        & 0        & 0        & 1        & 0        & 0       \\\\\n",
       "\t  8       & Female   & 30       & harmony  & bright   & etc      & 5        & 2        & 5        & 1        & ...      & 0        & 1        & 0        & 0        & 0        & 1        & 0        & 0        & 0        & 0       \\\\\n",
       "\t  9       & Female   & 20       & harmony  & harmony  & clothes  & 1        & 5        & 4        & 2        & ...      & 0        & 0        & 0        & 1        & 0        & 0        & 1        & 0        & 0        & 0       \\\\\n",
       "\t 10       & Female   & 30       & harmony  & bright   & cosmetic & 4        & 3        & 5        & 3        & ...      & 0        & 0        & 1        & 0        & 0        & 1        & 0        & 0        & 0        & 0       \\\\\n",
       "\t 11       & Female   & 20       & bright   & bright   & etc      & 4        & 4        & 3        & 4        & ...      & 0        & 0        & 0        & 1        & 0        & 0        & 1        & 0        & 0        & 0       \\\\\n",
       "\t 12       & Female   & 20       & harmony  & bright   & cosmetic & 3        & 4        & 4        & 4        & ...      & 0        & 1        & 0        & 0        & 0        & 1        & 0        & 0        & 0        & 0       \\\\\n",
       "\t 14       & Female   & 20       & harmony  & harmony  & clothes  & 3        & 2        & 3        & 4        & ...      & 0        & 1        & 0        & 0        & 0        & 0        & 0        & 0        & 0        & 1       \\\\\n",
       "\t 15       & Female   & 20       & bright   & bright   & cosmetic & 5        & 1        & 3        & 4        & ...      & 0        & 1        & 0        & 0        & 0        & 0        & 0        & 0        & 0        & 1       \\\\\n",
       "\t 16       & Female   & 30       & harmony  & harmony  & cosmetic & 1        & 2        & 3        & 4        & ...      & 0        & 1        & 0        & 0        & 0        & 0        & 0        & 0        & 0        & 1       \\\\\n",
       "\t 19       & Female   & 30       & harmony  & bright   & clothes  & 4        & 2        & 5        & 4        & ...      & 1        & 0        & 0        & 0        & 0        & 0        & 0        & 1        & 0        & 0       \\\\\n",
       "\t 22       & Female   & 30       & harmony  & harmony  & clothes  & 3        & 1        & 5        & 3        & ...      & 0        & 1        & 0        & 0        & 0        & 0        & 0        & 1        & 0        & 0       \\\\\n",
       "\t 23       & Female   & 20       & harmony  & bright   & clothes  & 3        & 3        & 3        & 4        & ...      & 0        & 0        & 0        & 1        & 0        & 1        & 0        & 0        & 0        & 0       \\\\\n",
       "\t 24       & Female   & 20       & bright   & harmony  & clothes  & 3        & 2        & 3        & 3        & ...      & 0        & 1        & 0        & 0        & 0        & 1        & 0        & 0        & 0        & 0       \\\\\n",
       "\t 25       & Female   & 20       & bright   & bright   & clothes  & 4        & 1        & 3        & 4        & ...      & 1        & 0        & 0        & 0        & 0        & 1        & 0        & 0        & 0        & 0       \\\\\n",
       "\t 26       & Female   & 30       & bright   & bright   & cosmetic & 3        & 2        & 5        & 4        & ...      & 0        & 0        & 1        & 0        & 0        & 0        & 0        & 0        & 0        & 1       \\\\\n",
       "\t 28       & Female   & 20       & harmony  & harmony  & cosmetic & 3        & 5        & 1        & 3        & ...      & 0        & 0        & 1        & 0        & 0        & 0        & 0        & 0        & 0        & 1       \\\\\n",
       "\t 29       & Female   & 20       & harmony  & harmony  & etc      & 2        & 2        & 3        & 4        & ...      & 0        & 0        & 1        & 0        & 0        & 0        & 0        & 0        & 0        & 1       \\\\\n",
       "\t 30       & Female   & 20       & bright   & bright   & cosmetic & 2        & 1        & 5        & 5        & ...      & 0        & 0        & 0        & 1        & 0        & 1        & 0        & 0        & 0        & 0       \\\\\n",
       "\t 31       & Female   & 20       & harmony  & bright   & etc      & 2        & 2        & 2        & 4        & ...      & 0        & 1        & 0        & 0        & 0        & 0        & 0        & 0        & 0        & 1       \\\\\n",
       "\t 34       & Female   & 20       & harmony  & harmony  & clothes  & 3        & 4        & 1        & 5        & ...      & 0        & 0        & 0        & 1        & 0        & 1        & 0        & 0        & 0        & 0       \\\\\n",
       "\t 35       & Female   & 20       & harmony  & harmony  & cosmetic & 3        & 2        & 5        & 4        & ...      & 0        & 0        & 0        & 1        & 0        & 0        & 1        & 0        & 0        & 0       \\\\\n",
       "\t 41       & Female   & 40       & bright   & bright   & clothes  & 2        & 1        & 4        & 5        & ...      & 0        & 0        & 0        & 1        & 0        & 1        & 0        & 0        & 0        & 0       \\\\\n",
       "\t 45       & Female   & 20       & harmony  & harmony  & etc      & 3        & 4        & 3        & 5        & ...      & 0        & 0        & 1        & 0        & 0        & 1        & 0        & 0        & 0        & 0       \\\\\n",
       "\t 46       & Female   & 10       & harmony  & harmony  & etc      & 3        & 3        & 3        & 1        & ...      & 0        & 0        & 0        & 1        & 0        & 0        & 1        & 0        & 0        & 0       \\\\\n",
       "\t 47       & Female   & 20       & harmony  & harmony  & etc      & 5        & 2        & 1        & 1        & ...      & 0        & 1        & 0        & 0        & 0        & 0        & 0        & 0        & 0        & 1       \\\\\n",
       "\t ... & ... & ... & ... & ... & ... & ... & ... & ... & ... &     & ... & ... & ... & ... & ... & ... & ... & ... & ... & ...\\\\\n",
       "\t 49       & Female   & 10       & bright   & bright   & etc      & 4        & 1        & 4        & 3        & ...      & 0        & 0        & 0        & 0        & 1        & 0        & 0        & 0        & 1        & 0       \\\\\n",
       "\t 52       & Female   & 20       & harmony  & bright   & etc      & 3        & 4        & 5        & 3        & ...      & 0        & 0        & 0        & 1        & 0        & 0        & 0        & 1        & 0        & 0       \\\\\n",
       "\t 53       & Female   & 20       & harmony  & harmony  & etc      & 4        & 5        & 4        & 3        & ...      & 0        & 1        & 0        & 0        & 0        & 0        & 0        & 1        & 0        & 0       \\\\\n",
       "\t 54       & Female   & 30       & harmony  & harmony  & etc      & 5        & 3        & 4        & 4        & ...      & 1        & 0        & 0        & 0        & 0        & 0        & 0        & 0        & 0        & 1       \\\\\n",
       "\t 55       & Female   & 20       & bright   & bright   & etc      & 5        & 2        & 2        & 5        & ...      & 0        & 0        & 0        & 1        & 0        & 0        & 0        & 0        & 1        & 0       \\\\\n",
       "\t 57       & Female   & 20       & harmony  & harmony  & cosmetic & 3        & 2        & 3        & 5        & ...      & 0        & 1        & 0        & 0        & 0        & 0        & 1        & 0        & 0        & 0       \\\\\n",
       "\t 58       & Female   & 30       & harmony  & bright   & etc      & 4        & 1        & 3        & 5        & ...      & 0        & 0        & 0        & 1        & 0        & 0        & 0        & 1        & 0        & 0       \\\\\n",
       "\t 66       & Female   & 20       & harmony  & harmony  & etc      & 3        & 4        & 5        & 4        & ...      & 0        & 1        & 0        & 0        & 0        & 0        & 0        & 0        & 1        & 0       \\\\\n",
       "\t 68       & Female   & 30       & harmony  & bright   & cosmetic & 2        & 5        & 3        & 3        & ...      & 0        & 0        & 0        & 1        & 0        & 0        & 0        & 1        & 0        & 0       \\\\\n",
       "\t 69       & Female   & 20       & harmony  & harmony  & etc      & 4        & 4        & 2        & 3        & ...      & 0        & 0        & 0        & 1        & 0        & 0        & 1        & 0        & 0        & 0       \\\\\n",
       "\t 70       & Female   & 20       & harmony  & harmony  & etc      & 3        & 2        & 3        & 5        & ...      & 0        & 0        & 0        & 1        & 0        & 0        & 1        & 0        & 0        & 0       \\\\\n",
       "\t 71       & Female   & 20       & harmony  & harmony  & etc      & 5        & 3        & 5        & 3        & ...      & 0        & 1        & 0        & 0        & 0        & 0        & 0        & 1        & 0        & 0       \\\\\n",
       "\t 72       & Female   & 20       & harmony  & harmony  & cosmetic & 4        & 5        & 4        & 4        & ...      & 0        & 1        & 0        & 0        & 0        & 0        & 0        & 0        & 1        & 0       \\\\\n",
       "\t 73       & Female   & 10       & harmony  & harmony  & etc      & 4        & 3        & 3        & 2        & ...      & 0        & 0        & 0        & 0        & 1        & 0        & 0        & 0        & 0        & 1       \\\\\n",
       "\t 74       & Female   & 30       & harmony  & harmony  & cosmetic & 4        & 3        & 3        & 5        & ...      & 1        & 0        & 0        & 0        & 0        & 0        & 0        & 1        & 0        & 0       \\\\\n",
       "\t 75       & Female   & 10       & bright   & bright   & cosmetic & 4        & 2        & 4        & 3        & ...      & 0        & 1        & 0        & 0        & 0        & 0        & 0        & 1        & 0        & 0       \\\\\n",
       "\t 77       & Female   & 10       & harmony  & harmony  & etc      & 4        & 5        & 5        & 5        & ...      & 0        & 0        & 0        & 0        & 1        & 0        & 0        & 0        & 0        & 1       \\\\\n",
       "\t 78       & Female   & 20       & harmony  & harmony  & etc      & 3        & 3        & 5        & 3        & ...      & 0        & 0        & 0        & 1        & 0        & 0        & 1        & 0        & 0        & 0       \\\\\n",
       "\t 82       & Female   & 30       & harmony  & harmony  & etc      & 1        & 2        & 3        & 3        & ...      & 0        & 0        & 0        & 1        & 0        & 1        & 0        & 0        & 0        & 0       \\\\\n",
       "\t 83       & Female   & 30       & harmony  & bright   & etc      & 4        & 3        & 3        & 4        & ...      & 0        & 0        & 1        & 0        & 0        & 1        & 0        & 0        & 0        & 0       \\\\\n",
       "\t 86       & Female   & 30       & bright   & bright   & clothes  & 3        & 3        & 5        & 4        & ...      & 0        & 0        & 0        & 0        & 1        & 0        & 0        & 0        & 0        & 1       \\\\\n",
       "\t 87       & Female   & 30       & harmony  & harmony  & clothes  & 1        & 3        & 1        & 3        & ...      & 0        & 1        & 0        & 0        & 0        & 1        & 0        & 0        & 0        & 0       \\\\\n",
       "\t 88       & Female   & 50       & harmony  & harmony  & etc      & 4        & 3        & 3        & 5        & ...      & 0        & 0        & 0        & 1        & 0        & 0        & 0        & 0        & 0        & 1       \\\\\n",
       "\t 89       & Female   & 50       & harmony  & harmony  & etc      & 5        & 2        & 1        & 5        & ...      & 0        & 0        & 0        & 1        & 0        & 0        & 0        & 1        & 0        & 0       \\\\\n",
       "\t 90       & Female   & 20       & harmony  & harmony  & clothes  & 2        & 2        & 3        & 4        & ...      & 0        & 0        & 0        & 0        & 1        & 0        & 1        & 0        & 0        & 0       \\\\\n",
       "\t 91       & Female   & 50       & bright   & bright   & cosmetic & 3        & 1        & 1        & 1        & ...      & 1        & 0        & 0        & 0        & 0        & 1        & 0        & 0        & 0        & 0       \\\\\n",
       "\t 92       & Female   & 50       & harmony  & harmony  & cosmetic & 5        & 4        & 2        & 1        & ...      & 0        & 0        & 1        & 0        & 0        & 0        & 0        & 1        & 0        & 0       \\\\\n",
       "\t 93       & Female   & 50       & bright   & bright   & clothes  & 3        & 4        & 5        & 2        & ...      & 0        & 1        & 0        & 0        & 0        & 0        & 0        & 0        & 0        & 1       \\\\\n",
       "\t 94       & Female   & 50       & harmony  & harmony  & clothes  & 4        & 5        & 3        & 5        & ...      & 0        & 0        & 0        & 1        & 0        & 1        & 0        & 0        & 0        & 0       \\\\\n",
       "\t 95       & Female   & 20       & bright   & harmony  & etc      & 4        & 3        & 4        & 4        & ...      & 0        & 0        & 0        & 1        & 0        & 0        & 0        & 0        & 1        & 0       \\\\\n",
       "\\end{tabular}\n"
      ],
      "text/markdown": [
       "\n",
       "| X | sex | age_class | definition | need | purpose | interest | comp | triangle1 | triangle2 | ... | d2_1 | d2_2 | d2_3 | d2_4 | d2_5 | d3_1 | d3_2 | d3_3 | d3_4 | d3_5 |\n",
       "|---|---|---|---|---|---|---|---|---|---|---|---|---|---|---|---|---|---|---|---|---|\n",
       "|  0       | Female   | 20       | bright   | bright   | clothes  | 3        | 3        | 4        | 3        | ...      | 0        | 1        | 0        | 0        | 0        | 1        | 0        | 0        | 0        | 0        |\n",
       "|  2       | Female   | 20       | bright   | bright   | clothes  | 5        | 5        | 5        | 4        | ...      | 0        | 1        | 0        | 0        | 0        | 1        | 0        | 0        | 0        | 0        |\n",
       "|  4       | Female   | 20       | bright   | bright   | cosmetic | 3        | 2        | 4        | 3        | ...      | 0        | 0        | 1        | 0        | 0        | 1        | 0        | 0        | 0        | 0        |\n",
       "|  5       | Female   | 30       | harmony  | harmony  | clothes  | 4        | 3        | 2        | 2        | ...      | 0        | 0        | 0        | 1        | 0        | 0        | 0        | 0        | 0        | 1        |\n",
       "|  6       | Female   | 30       | harmony  | bright   | clothes  | 3        | 3        | 5        | 3        | ...      | 0        | 0        | 1        | 0        | 0        | 0        | 0        | 0        | 0        | 1        |\n",
       "|  7       | Female   | 20       | bright   | bright   | cosmetic | 3        | 2        | 5        | 3        | ...      | 0        | 0        | 0        | 0        | 1        | 0        | 0        | 1        | 0        | 0        |\n",
       "|  8       | Female   | 30       | harmony  | bright   | etc      | 5        | 2        | 5        | 1        | ...      | 0        | 1        | 0        | 0        | 0        | 1        | 0        | 0        | 0        | 0        |\n",
       "|  9       | Female   | 20       | harmony  | harmony  | clothes  | 1        | 5        | 4        | 2        | ...      | 0        | 0        | 0        | 1        | 0        | 0        | 1        | 0        | 0        | 0        |\n",
       "| 10       | Female   | 30       | harmony  | bright   | cosmetic | 4        | 3        | 5        | 3        | ...      | 0        | 0        | 1        | 0        | 0        | 1        | 0        | 0        | 0        | 0        |\n",
       "| 11       | Female   | 20       | bright   | bright   | etc      | 4        | 4        | 3        | 4        | ...      | 0        | 0        | 0        | 1        | 0        | 0        | 1        | 0        | 0        | 0        |\n",
       "| 12       | Female   | 20       | harmony  | bright   | cosmetic | 3        | 4        | 4        | 4        | ...      | 0        | 1        | 0        | 0        | 0        | 1        | 0        | 0        | 0        | 0        |\n",
       "| 14       | Female   | 20       | harmony  | harmony  | clothes  | 3        | 2        | 3        | 4        | ...      | 0        | 1        | 0        | 0        | 0        | 0        | 0        | 0        | 0        | 1        |\n",
       "| 15       | Female   | 20       | bright   | bright   | cosmetic | 5        | 1        | 3        | 4        | ...      | 0        | 1        | 0        | 0        | 0        | 0        | 0        | 0        | 0        | 1        |\n",
       "| 16       | Female   | 30       | harmony  | harmony  | cosmetic | 1        | 2        | 3        | 4        | ...      | 0        | 1        | 0        | 0        | 0        | 0        | 0        | 0        | 0        | 1        |\n",
       "| 19       | Female   | 30       | harmony  | bright   | clothes  | 4        | 2        | 5        | 4        | ...      | 1        | 0        | 0        | 0        | 0        | 0        | 0        | 1        | 0        | 0        |\n",
       "| 22       | Female   | 30       | harmony  | harmony  | clothes  | 3        | 1        | 5        | 3        | ...      | 0        | 1        | 0        | 0        | 0        | 0        | 0        | 1        | 0        | 0        |\n",
       "| 23       | Female   | 20       | harmony  | bright   | clothes  | 3        | 3        | 3        | 4        | ...      | 0        | 0        | 0        | 1        | 0        | 1        | 0        | 0        | 0        | 0        |\n",
       "| 24       | Female   | 20       | bright   | harmony  | clothes  | 3        | 2        | 3        | 3        | ...      | 0        | 1        | 0        | 0        | 0        | 1        | 0        | 0        | 0        | 0        |\n",
       "| 25       | Female   | 20       | bright   | bright   | clothes  | 4        | 1        | 3        | 4        | ...      | 1        | 0        | 0        | 0        | 0        | 1        | 0        | 0        | 0        | 0        |\n",
       "| 26       | Female   | 30       | bright   | bright   | cosmetic | 3        | 2        | 5        | 4        | ...      | 0        | 0        | 1        | 0        | 0        | 0        | 0        | 0        | 0        | 1        |\n",
       "| 28       | Female   | 20       | harmony  | harmony  | cosmetic | 3        | 5        | 1        | 3        | ...      | 0        | 0        | 1        | 0        | 0        | 0        | 0        | 0        | 0        | 1        |\n",
       "| 29       | Female   | 20       | harmony  | harmony  | etc      | 2        | 2        | 3        | 4        | ...      | 0        | 0        | 1        | 0        | 0        | 0        | 0        | 0        | 0        | 1        |\n",
       "| 30       | Female   | 20       | bright   | bright   | cosmetic | 2        | 1        | 5        | 5        | ...      | 0        | 0        | 0        | 1        | 0        | 1        | 0        | 0        | 0        | 0        |\n",
       "| 31       | Female   | 20       | harmony  | bright   | etc      | 2        | 2        | 2        | 4        | ...      | 0        | 1        | 0        | 0        | 0        | 0        | 0        | 0        | 0        | 1        |\n",
       "| 34       | Female   | 20       | harmony  | harmony  | clothes  | 3        | 4        | 1        | 5        | ...      | 0        | 0        | 0        | 1        | 0        | 1        | 0        | 0        | 0        | 0        |\n",
       "| 35       | Female   | 20       | harmony  | harmony  | cosmetic | 3        | 2        | 5        | 4        | ...      | 0        | 0        | 0        | 1        | 0        | 0        | 1        | 0        | 0        | 0        |\n",
       "| 41       | Female   | 40       | bright   | bright   | clothes  | 2        | 1        | 4        | 5        | ...      | 0        | 0        | 0        | 1        | 0        | 1        | 0        | 0        | 0        | 0        |\n",
       "| 45       | Female   | 20       | harmony  | harmony  | etc      | 3        | 4        | 3        | 5        | ...      | 0        | 0        | 1        | 0        | 0        | 1        | 0        | 0        | 0        | 0        |\n",
       "| 46       | Female   | 10       | harmony  | harmony  | etc      | 3        | 3        | 3        | 1        | ...      | 0        | 0        | 0        | 1        | 0        | 0        | 1        | 0        | 0        | 0        |\n",
       "| 47       | Female   | 20       | harmony  | harmony  | etc      | 5        | 2        | 1        | 1        | ...      | 0        | 1        | 0        | 0        | 0        | 0        | 0        | 0        | 0        | 1        |\n",
       "| ... | ... | ... | ... | ... | ... | ... | ... | ... | ... |     | ... | ... | ... | ... | ... | ... | ... | ... | ... | ... |\n",
       "| 49       | Female   | 10       | bright   | bright   | etc      | 4        | 1        | 4        | 3        | ...      | 0        | 0        | 0        | 0        | 1        | 0        | 0        | 0        | 1        | 0        |\n",
       "| 52       | Female   | 20       | harmony  | bright   | etc      | 3        | 4        | 5        | 3        | ...      | 0        | 0        | 0        | 1        | 0        | 0        | 0        | 1        | 0        | 0        |\n",
       "| 53       | Female   | 20       | harmony  | harmony  | etc      | 4        | 5        | 4        | 3        | ...      | 0        | 1        | 0        | 0        | 0        | 0        | 0        | 1        | 0        | 0        |\n",
       "| 54       | Female   | 30       | harmony  | harmony  | etc      | 5        | 3        | 4        | 4        | ...      | 1        | 0        | 0        | 0        | 0        | 0        | 0        | 0        | 0        | 1        |\n",
       "| 55       | Female   | 20       | bright   | bright   | etc      | 5        | 2        | 2        | 5        | ...      | 0        | 0        | 0        | 1        | 0        | 0        | 0        | 0        | 1        | 0        |\n",
       "| 57       | Female   | 20       | harmony  | harmony  | cosmetic | 3        | 2        | 3        | 5        | ...      | 0        | 1        | 0        | 0        | 0        | 0        | 1        | 0        | 0        | 0        |\n",
       "| 58       | Female   | 30       | harmony  | bright   | etc      | 4        | 1        | 3        | 5        | ...      | 0        | 0        | 0        | 1        | 0        | 0        | 0        | 1        | 0        | 0        |\n",
       "| 66       | Female   | 20       | harmony  | harmony  | etc      | 3        | 4        | 5        | 4        | ...      | 0        | 1        | 0        | 0        | 0        | 0        | 0        | 0        | 1        | 0        |\n",
       "| 68       | Female   | 30       | harmony  | bright   | cosmetic | 2        | 5        | 3        | 3        | ...      | 0        | 0        | 0        | 1        | 0        | 0        | 0        | 1        | 0        | 0        |\n",
       "| 69       | Female   | 20       | harmony  | harmony  | etc      | 4        | 4        | 2        | 3        | ...      | 0        | 0        | 0        | 1        | 0        | 0        | 1        | 0        | 0        | 0        |\n",
       "| 70       | Female   | 20       | harmony  | harmony  | etc      | 3        | 2        | 3        | 5        | ...      | 0        | 0        | 0        | 1        | 0        | 0        | 1        | 0        | 0        | 0        |\n",
       "| 71       | Female   | 20       | harmony  | harmony  | etc      | 5        | 3        | 5        | 3        | ...      | 0        | 1        | 0        | 0        | 0        | 0        | 0        | 1        | 0        | 0        |\n",
       "| 72       | Female   | 20       | harmony  | harmony  | cosmetic | 4        | 5        | 4        | 4        | ...      | 0        | 1        | 0        | 0        | 0        | 0        | 0        | 0        | 1        | 0        |\n",
       "| 73       | Female   | 10       | harmony  | harmony  | etc      | 4        | 3        | 3        | 2        | ...      | 0        | 0        | 0        | 0        | 1        | 0        | 0        | 0        | 0        | 1        |\n",
       "| 74       | Female   | 30       | harmony  | harmony  | cosmetic | 4        | 3        | 3        | 5        | ...      | 1        | 0        | 0        | 0        | 0        | 0        | 0        | 1        | 0        | 0        |\n",
       "| 75       | Female   | 10       | bright   | bright   | cosmetic | 4        | 2        | 4        | 3        | ...      | 0        | 1        | 0        | 0        | 0        | 0        | 0        | 1        | 0        | 0        |\n",
       "| 77       | Female   | 10       | harmony  | harmony  | etc      | 4        | 5        | 5        | 5        | ...      | 0        | 0        | 0        | 0        | 1        | 0        | 0        | 0        | 0        | 1        |\n",
       "| 78       | Female   | 20       | harmony  | harmony  | etc      | 3        | 3        | 5        | 3        | ...      | 0        | 0        | 0        | 1        | 0        | 0        | 1        | 0        | 0        | 0        |\n",
       "| 82       | Female   | 30       | harmony  | harmony  | etc      | 1        | 2        | 3        | 3        | ...      | 0        | 0        | 0        | 1        | 0        | 1        | 0        | 0        | 0        | 0        |\n",
       "| 83       | Female   | 30       | harmony  | bright   | etc      | 4        | 3        | 3        | 4        | ...      | 0        | 0        | 1        | 0        | 0        | 1        | 0        | 0        | 0        | 0        |\n",
       "| 86       | Female   | 30       | bright   | bright   | clothes  | 3        | 3        | 5        | 4        | ...      | 0        | 0        | 0        | 0        | 1        | 0        | 0        | 0        | 0        | 1        |\n",
       "| 87       | Female   | 30       | harmony  | harmony  | clothes  | 1        | 3        | 1        | 3        | ...      | 0        | 1        | 0        | 0        | 0        | 1        | 0        | 0        | 0        | 0        |\n",
       "| 88       | Female   | 50       | harmony  | harmony  | etc      | 4        | 3        | 3        | 5        | ...      | 0        | 0        | 0        | 1        | 0        | 0        | 0        | 0        | 0        | 1        |\n",
       "| 89       | Female   | 50       | harmony  | harmony  | etc      | 5        | 2        | 1        | 5        | ...      | 0        | 0        | 0        | 1        | 0        | 0        | 0        | 1        | 0        | 0        |\n",
       "| 90       | Female   | 20       | harmony  | harmony  | clothes  | 2        | 2        | 3        | 4        | ...      | 0        | 0        | 0        | 0        | 1        | 0        | 1        | 0        | 0        | 0        |\n",
       "| 91       | Female   | 50       | bright   | bright   | cosmetic | 3        | 1        | 1        | 1        | ...      | 1        | 0        | 0        | 0        | 0        | 1        | 0        | 0        | 0        | 0        |\n",
       "| 92       | Female   | 50       | harmony  | harmony  | cosmetic | 5        | 4        | 2        | 1        | ...      | 0        | 0        | 1        | 0        | 0        | 0        | 0        | 1        | 0        | 0        |\n",
       "| 93       | Female   | 50       | bright   | bright   | clothes  | 3        | 4        | 5        | 2        | ...      | 0        | 1        | 0        | 0        | 0        | 0        | 0        | 0        | 0        | 1        |\n",
       "| 94       | Female   | 50       | harmony  | harmony  | clothes  | 4        | 5        | 3        | 5        | ...      | 0        | 0        | 0        | 1        | 0        | 1        | 0        | 0        | 0        | 0        |\n",
       "| 95       | Female   | 20       | bright   | harmony  | etc      | 4        | 3        | 4        | 4        | ...      | 0        | 0        | 0        | 1        | 0        | 0        | 0        | 0        | 1        | 0        |\n",
       "\n"
      ],
      "text/plain": [
       "    X   sex    age_class definition need    purpose  interest comp triangle1\n",
       "1    0  Female 20        bright     bright  clothes  3        3    4        \n",
       "2    2  Female 20        bright     bright  clothes  5        5    5        \n",
       "3    4  Female 20        bright     bright  cosmetic 3        2    4        \n",
       "4    5  Female 30        harmony    harmony clothes  4        3    2        \n",
       "5    6  Female 30        harmony    bright  clothes  3        3    5        \n",
       "6    7  Female 20        bright     bright  cosmetic 3        2    5        \n",
       "7    8  Female 30        harmony    bright  etc      5        2    5        \n",
       "8    9  Female 20        harmony    harmony clothes  1        5    4        \n",
       "9   10  Female 30        harmony    bright  cosmetic 4        3    5        \n",
       "10  11  Female 20        bright     bright  etc      4        4    3        \n",
       "11  12  Female 20        harmony    bright  cosmetic 3        4    4        \n",
       "12  14  Female 20        harmony    harmony clothes  3        2    3        \n",
       "13  15  Female 20        bright     bright  cosmetic 5        1    3        \n",
       "14  16  Female 30        harmony    harmony cosmetic 1        2    3        \n",
       "15  19  Female 30        harmony    bright  clothes  4        2    5        \n",
       "16  22  Female 30        harmony    harmony clothes  3        1    5        \n",
       "17  23  Female 20        harmony    bright  clothes  3        3    3        \n",
       "18  24  Female 20        bright     harmony clothes  3        2    3        \n",
       "19  25  Female 20        bright     bright  clothes  4        1    3        \n",
       "20  26  Female 30        bright     bright  cosmetic 3        2    5        \n",
       "21  28  Female 20        harmony    harmony cosmetic 3        5    1        \n",
       "22  29  Female 20        harmony    harmony etc      2        2    3        \n",
       "23  30  Female 20        bright     bright  cosmetic 2        1    5        \n",
       "24  31  Female 20        harmony    bright  etc      2        2    2        \n",
       "25  34  Female 20        harmony    harmony clothes  3        4    1        \n",
       "26  35  Female 20        harmony    harmony cosmetic 3        2    5        \n",
       "27  41  Female 40        bright     bright  clothes  2        1    4        \n",
       "28  45  Female 20        harmony    harmony etc      3        4    3        \n",
       "29  46  Female 10        harmony    harmony etc      3        3    3        \n",
       "30  47  Female 20        harmony    harmony etc      5        2    1        \n",
       "... ... ...    ...       ...        ...     ...      ...      ...  ...      \n",
       "32  49  Female 10        bright     bright  etc      4        1    4        \n",
       "33  52  Female 20        harmony    bright  etc      3        4    5        \n",
       "34  53  Female 20        harmony    harmony etc      4        5    4        \n",
       "35  54  Female 30        harmony    harmony etc      5        3    4        \n",
       "36  55  Female 20        bright     bright  etc      5        2    2        \n",
       "37  57  Female 20        harmony    harmony cosmetic 3        2    3        \n",
       "38  58  Female 30        harmony    bright  etc      4        1    3        \n",
       "39  66  Female 20        harmony    harmony etc      3        4    5        \n",
       "40  68  Female 30        harmony    bright  cosmetic 2        5    3        \n",
       "41  69  Female 20        harmony    harmony etc      4        4    2        \n",
       "42  70  Female 20        harmony    harmony etc      3        2    3        \n",
       "43  71  Female 20        harmony    harmony etc      5        3    5        \n",
       "44  72  Female 20        harmony    harmony cosmetic 4        5    4        \n",
       "45  73  Female 10        harmony    harmony etc      4        3    3        \n",
       "46  74  Female 30        harmony    harmony cosmetic 4        3    3        \n",
       "47  75  Female 10        bright     bright  cosmetic 4        2    4        \n",
       "48  77  Female 10        harmony    harmony etc      4        5    5        \n",
       "49  78  Female 20        harmony    harmony etc      3        3    5        \n",
       "50  82  Female 30        harmony    harmony etc      1        2    3        \n",
       "51  83  Female 30        harmony    bright  etc      4        3    3        \n",
       "52  86  Female 30        bright     bright  clothes  3        3    5        \n",
       "53  87  Female 30        harmony    harmony clothes  1        3    1        \n",
       "54  88  Female 50        harmony    harmony etc      4        3    3        \n",
       "55  89  Female 50        harmony    harmony etc      5        2    1        \n",
       "56  90  Female 20        harmony    harmony clothes  2        2    3        \n",
       "57  91  Female 50        bright     bright  cosmetic 3        1    1        \n",
       "58  92  Female 50        harmony    harmony cosmetic 5        4    2        \n",
       "59  93  Female 50        bright     bright  clothes  3        4    5        \n",
       "60  94  Female 50        harmony    harmony clothes  4        5    3        \n",
       "61  95  Female 20        bright     harmony etc      4        3    4        \n",
       "    triangle2 ... d2_1 d2_2 d2_3 d2_4 d2_5 d3_1 d3_2 d3_3 d3_4 d3_5\n",
       "1   3         ... 0    1    0    0    0    1    0    0    0    0   \n",
       "2   4         ... 0    1    0    0    0    1    0    0    0    0   \n",
       "3   3         ... 0    0    1    0    0    1    0    0    0    0   \n",
       "4   2         ... 0    0    0    1    0    0    0    0    0    1   \n",
       "5   3         ... 0    0    1    0    0    0    0    0    0    1   \n",
       "6   3         ... 0    0    0    0    1    0    0    1    0    0   \n",
       "7   1         ... 0    1    0    0    0    1    0    0    0    0   \n",
       "8   2         ... 0    0    0    1    0    0    1    0    0    0   \n",
       "9   3         ... 0    0    1    0    0    1    0    0    0    0   \n",
       "10  4         ... 0    0    0    1    0    0    1    0    0    0   \n",
       "11  4         ... 0    1    0    0    0    1    0    0    0    0   \n",
       "12  4         ... 0    1    0    0    0    0    0    0    0    1   \n",
       "13  4         ... 0    1    0    0    0    0    0    0    0    1   \n",
       "14  4         ... 0    1    0    0    0    0    0    0    0    1   \n",
       "15  4         ... 1    0    0    0    0    0    0    1    0    0   \n",
       "16  3         ... 0    1    0    0    0    0    0    1    0    0   \n",
       "17  4         ... 0    0    0    1    0    1    0    0    0    0   \n",
       "18  3         ... 0    1    0    0    0    1    0    0    0    0   \n",
       "19  4         ... 1    0    0    0    0    1    0    0    0    0   \n",
       "20  4         ... 0    0    1    0    0    0    0    0    0    1   \n",
       "21  3         ... 0    0    1    0    0    0    0    0    0    1   \n",
       "22  4         ... 0    0    1    0    0    0    0    0    0    1   \n",
       "23  5         ... 0    0    0    1    0    1    0    0    0    0   \n",
       "24  4         ... 0    1    0    0    0    0    0    0    0    1   \n",
       "25  5         ... 0    0    0    1    0    1    0    0    0    0   \n",
       "26  4         ... 0    0    0    1    0    0    1    0    0    0   \n",
       "27  5         ... 0    0    0    1    0    1    0    0    0    0   \n",
       "28  5         ... 0    0    1    0    0    1    0    0    0    0   \n",
       "29  1         ... 0    0    0    1    0    0    1    0    0    0   \n",
       "30  1         ... 0    1    0    0    0    0    0    0    0    1   \n",
       "... ...           ...  ...  ...  ...  ...  ...  ...  ...  ...  ... \n",
       "32  3         ... 0    0    0    0    1    0    0    0    1    0   \n",
       "33  3         ... 0    0    0    1    0    0    0    1    0    0   \n",
       "34  3         ... 0    1    0    0    0    0    0    1    0    0   \n",
       "35  4         ... 1    0    0    0    0    0    0    0    0    1   \n",
       "36  5         ... 0    0    0    1    0    0    0    0    1    0   \n",
       "37  5         ... 0    1    0    0    0    0    1    0    0    0   \n",
       "38  5         ... 0    0    0    1    0    0    0    1    0    0   \n",
       "39  4         ... 0    1    0    0    0    0    0    0    1    0   \n",
       "40  3         ... 0    0    0    1    0    0    0    1    0    0   \n",
       "41  3         ... 0    0    0    1    0    0    1    0    0    0   \n",
       "42  5         ... 0    0    0    1    0    0    1    0    0    0   \n",
       "43  3         ... 0    1    0    0    0    0    0    1    0    0   \n",
       "44  4         ... 0    1    0    0    0    0    0    0    1    0   \n",
       "45  2         ... 0    0    0    0    1    0    0    0    0    1   \n",
       "46  5         ... 1    0    0    0    0    0    0    1    0    0   \n",
       "47  3         ... 0    1    0    0    0    0    0    1    0    0   \n",
       "48  5         ... 0    0    0    0    1    0    0    0    0    1   \n",
       "49  3         ... 0    0    0    1    0    0    1    0    0    0   \n",
       "50  3         ... 0    0    0    1    0    1    0    0    0    0   \n",
       "51  4         ... 0    0    1    0    0    1    0    0    0    0   \n",
       "52  4         ... 0    0    0    0    1    0    0    0    0    1   \n",
       "53  3         ... 0    1    0    0    0    1    0    0    0    0   \n",
       "54  5         ... 0    0    0    1    0    0    0    0    0    1   \n",
       "55  5         ... 0    0    0    1    0    0    0    1    0    0   \n",
       "56  4         ... 0    0    0    0    1    0    1    0    0    0   \n",
       "57  1         ... 1    0    0    0    0    1    0    0    0    0   \n",
       "58  1         ... 0    0    1    0    0    0    0    1    0    0   \n",
       "59  2         ... 0    1    0    0    0    0    0    0    0    1   \n",
       "60  5         ... 0    0    0    1    0    1    0    0    0    0   \n",
       "61  4         ... 0    0    0    1    0    0    0    0    1    0   "
      ]
     },
     "metadata": {},
     "output_type": "display_data"
    }
   ],
   "source": [
    "survey2"
   ]
  },
  {
   "cell_type": "code",
   "execution_count": 8,
   "metadata": {},
   "outputs": [
    {
     "data": {
      "text/plain": [
       "\n",
       "Call:\n",
       "glm(formula = comp1 ~ definition + need + purpose + interest, \n",
       "    family = binomial, data = survey2)\n",
       "\n",
       "Deviance Residuals: \n",
       "    Min       1Q   Median       3Q      Max  \n",
       "-1.0015  -0.4723  -0.2383  -0.2087   2.6742  \n",
       "\n",
       "Coefficients:\n",
       "                   Estimate Std. Error z value Pr(>|z|)\n",
       "(Intercept)        0.004426   1.726367   0.003    0.998\n",
       "definitionharmony -1.594884   1.040695  -1.533    0.125\n",
       "needharmony       -1.523572   1.271176  -1.199    0.231\n",
       "purposecosmetic   -0.113130   0.991930  -0.114    0.909\n",
       "purposeetc        -0.123680   1.155058  -0.107    0.915\n",
       "interest          -0.144462   0.467752  -0.309    0.757\n",
       "\n",
       "(Dispersion parameter for binomial family taken to be 1)\n",
       "\n",
       "    Null deviance: 47.405  on 60  degrees of freedom\n",
       "Residual deviance: 37.345  on 55  degrees of freedom\n",
       "AIC: 49.345\n",
       "\n",
       "Number of Fisher Scoring iterations: 6\n"
      ]
     },
     "metadata": {},
     "output_type": "display_data"
    }
   ],
   "source": [
    "model <- glm(comp1 ~ definition + need + purpose \n",
    "              + interest, data =survey2, family = binomial)\n",
    "summary(model)"
   ]
  },
  {
   "cell_type": "code",
   "execution_count": 9,
   "metadata": {
    "scrolled": true
   },
   "outputs": [
    {
     "data": {
      "text/html": [
       "<table>\n",
       "<thead><tr><th></th><th scope=col>Df</th><th scope=col>Deviance</th><th scope=col>Resid. Df</th><th scope=col>Resid. Dev</th><th scope=col>Pr(&gt;Chi)</th></tr></thead>\n",
       "<tbody>\n",
       "\t<tr><th scope=row>NULL</th><td>NA         </td><td>        NA </td><td>60         </td><td>47.40460   </td><td>         NA</td></tr>\n",
       "\t<tr><th scope=row>definition</th><td> 1         </td><td>8.31238211 </td><td>59         </td><td>39.09222   </td><td>0.003937572</td></tr>\n",
       "\t<tr><th scope=row>need</th><td> 1         </td><td>1.59929251 </td><td>58         </td><td>37.49293   </td><td>0.206003501</td></tr>\n",
       "\t<tr><th scope=row>purpose</th><td> 2         </td><td>0.05224736 </td><td>56         </td><td>37.44068   </td><td>0.974214594</td></tr>\n",
       "\t<tr><th scope=row>interest</th><td> 1         </td><td>0.09526475 </td><td>55         </td><td>37.34542   </td><td>0.757587876</td></tr>\n",
       "</tbody>\n",
       "</table>\n"
      ],
      "text/latex": [
       "\\begin{tabular}{r|lllll}\n",
       "  & Df & Deviance & Resid. Df & Resid. Dev & Pr(>Chi)\\\\\n",
       "\\hline\n",
       "\tNULL & NA          &         NA  & 60          & 47.40460    &          NA\\\\\n",
       "\tdefinition &  1          & 8.31238211  & 59          & 39.09222    & 0.003937572\\\\\n",
       "\tneed &  1          & 1.59929251  & 58          & 37.49293    & 0.206003501\\\\\n",
       "\tpurpose &  2          & 0.05224736  & 56          & 37.44068    & 0.974214594\\\\\n",
       "\tinterest &  1          & 0.09526475  & 55          & 37.34542    & 0.757587876\\\\\n",
       "\\end{tabular}\n"
      ],
      "text/markdown": [
       "\n",
       "| <!--/--> | Df | Deviance | Resid. Df | Resid. Dev | Pr(>Chi) |\n",
       "|---|---|---|---|---|---|\n",
       "| NULL | NA          |         NA  | 60          | 47.40460    |          NA |\n",
       "| definition |  1          | 8.31238211  | 59          | 39.09222    | 0.003937572 |\n",
       "| need |  1          | 1.59929251  | 58          | 37.49293    | 0.206003501 |\n",
       "| purpose |  2          | 0.05224736  | 56          | 37.44068    | 0.974214594 |\n",
       "| interest |  1          | 0.09526475  | 55          | 37.34542    | 0.757587876 |\n",
       "\n"
      ],
      "text/plain": [
       "           Df Deviance   Resid. Df Resid. Dev Pr(>Chi)   \n",
       "NULL       NA         NA 60        47.40460            NA\n",
       "definition  1 8.31238211 59        39.09222   0.003937572\n",
       "need        1 1.59929251 58        37.49293   0.206003501\n",
       "purpose     2 0.05224736 56        37.44068   0.974214594\n",
       "interest    1 0.09526475 55        37.34542   0.757587876"
      ]
     },
     "metadata": {},
     "output_type": "display_data"
    }
   ],
   "source": [
    "anova(model, test=\"Chisq\")"
   ]
  },
  {
   "cell_type": "code",
   "execution_count": 10,
   "metadata": {},
   "outputs": [
    {
     "data": {
      "text/plain": [
       "\n",
       "Call:\n",
       "glm(formula = comp2 ~ definition + need + purpose + interest, \n",
       "    family = binomial, data = survey2)\n",
       "\n",
       "Deviance Residuals: \n",
       "    Min       1Q   Median       3Q      Max  \n",
       "-1.2725  -0.8735  -0.7182   1.2406   2.1196  \n",
       "\n",
       "Coefficients:\n",
       "                  Estimate Std. Error z value Pr(>|z|)\n",
       "(Intercept)       -0.09732    1.11836  -0.087    0.931\n",
       "definitionharmony -0.56451    0.79059  -0.714    0.475\n",
       "needharmony        0.47616    0.72476   0.657    0.511\n",
       "purposecosmetic    1.05461    0.77781   1.356    0.175\n",
       "purposeetc         0.80318    0.78546   1.023    0.307\n",
       "interest          -0.36820    0.28379  -1.297    0.194\n",
       "\n",
       "(Dispersion parameter for binomial family taken to be 1)\n",
       "\n",
       "    Null deviance: 75.674  on 60  degrees of freedom\n",
       "Residual deviance: 71.861  on 55  degrees of freedom\n",
       "AIC: 83.861\n",
       "\n",
       "Number of Fisher Scoring iterations: 4\n"
      ]
     },
     "metadata": {},
     "output_type": "display_data"
    },
    {
     "data": {
      "text/html": [
       "<table>\n",
       "<thead><tr><th></th><th scope=col>Df</th><th scope=col>Deviance</th><th scope=col>Resid. Df</th><th scope=col>Resid. Dev</th><th scope=col>Pr(&gt;Chi)</th></tr></thead>\n",
       "<tbody>\n",
       "\t<tr><th scope=row>NULL</th><td>NA        </td><td>        NA</td><td>60        </td><td>75.67368  </td><td>       NA </td></tr>\n",
       "\t<tr><th scope=row>definition</th><td> 1        </td><td>0.05648847</td><td>59        </td><td>75.61719  </td><td>0.8121347 </td></tr>\n",
       "\t<tr><th scope=row>need</th><td> 1        </td><td>0.42380394</td><td>58        </td><td>75.19339  </td><td>0.5150450 </td></tr>\n",
       "\t<tr><th scope=row>purpose</th><td> 2        </td><td>1.60123667</td><td>56        </td><td>73.59215  </td><td>0.4490512 </td></tr>\n",
       "\t<tr><th scope=row>interest</th><td> 1        </td><td>1.73141507</td><td>55        </td><td>71.86074  </td><td>0.1882303 </td></tr>\n",
       "</tbody>\n",
       "</table>\n"
      ],
      "text/latex": [
       "\\begin{tabular}{r|lllll}\n",
       "  & Df & Deviance & Resid. Df & Resid. Dev & Pr(>Chi)\\\\\n",
       "\\hline\n",
       "\tNULL & NA         &         NA & 60         & 75.67368   &        NA \\\\\n",
       "\tdefinition &  1         & 0.05648847 & 59         & 75.61719   & 0.8121347 \\\\\n",
       "\tneed &  1         & 0.42380394 & 58         & 75.19339   & 0.5150450 \\\\\n",
       "\tpurpose &  2         & 1.60123667 & 56         & 73.59215   & 0.4490512 \\\\\n",
       "\tinterest &  1         & 1.73141507 & 55         & 71.86074   & 0.1882303 \\\\\n",
       "\\end{tabular}\n"
      ],
      "text/markdown": [
       "\n",
       "| <!--/--> | Df | Deviance | Resid. Df | Resid. Dev | Pr(>Chi) |\n",
       "|---|---|---|---|---|---|\n",
       "| NULL | NA         |         NA | 60         | 75.67368   |        NA  |\n",
       "| definition |  1         | 0.05648847 | 59         | 75.61719   | 0.8121347  |\n",
       "| need |  1         | 0.42380394 | 58         | 75.19339   | 0.5150450  |\n",
       "| purpose |  2         | 1.60123667 | 56         | 73.59215   | 0.4490512  |\n",
       "| interest |  1         | 1.73141507 | 55         | 71.86074   | 0.1882303  |\n",
       "\n"
      ],
      "text/plain": [
       "           Df Deviance   Resid. Df Resid. Dev Pr(>Chi) \n",
       "NULL       NA         NA 60        75.67368          NA\n",
       "definition  1 0.05648847 59        75.61719   0.8121347\n",
       "need        1 0.42380394 58        75.19339   0.5150450\n",
       "purpose     2 1.60123667 56        73.59215   0.4490512\n",
       "interest    1 1.73141507 55        71.86074   0.1882303"
      ]
     },
     "metadata": {},
     "output_type": "display_data"
    }
   ],
   "source": [
    "model <- glm(comp2 ~ definition + need + purpose \n",
    "              + interest, data =survey2, family = binomial)\n",
    "summary(model)\n",
    "\n",
    "\n",
    "anova(model, test=\"Chisq\")"
   ]
  },
  {
   "cell_type": "code",
   "execution_count": 11,
   "metadata": {},
   "outputs": [
    {
     "data": {
      "text/plain": [
       "\n",
       "Call:\n",
       "glm(formula = comp3 ~ definition + need + purpose + interest, \n",
       "    family = binomial, data = survey2)\n",
       "\n",
       "Deviance Residuals: \n",
       "    Min       1Q   Median       3Q      Max  \n",
       "-1.1379  -0.8333  -0.6322   1.2175   1.9135  \n",
       "\n",
       "Coefficients:\n",
       "                  Estimate Std. Error z value Pr(>|z|)\n",
       "(Intercept)        -2.0552     1.2584  -1.633    0.102\n",
       "definitionharmony   0.7388     0.8616   0.858    0.391\n",
       "needharmony         0.1475     0.7137   0.207    0.836\n",
       "purposecosmetic    -1.4147     0.9260  -1.528    0.127\n",
       "purposeetc         -0.5166     0.7392  -0.699    0.485\n",
       "interest            0.2688     0.3059   0.879    0.380\n",
       "\n",
       "(Dispersion parameter for binomial family taken to be 1)\n",
       "\n",
       "    Null deviance: 70.204  on 60  degrees of freedom\n",
       "Residual deviance: 65.558  on 55  degrees of freedom\n",
       "AIC: 77.558\n",
       "\n",
       "Number of Fisher Scoring iterations: 4\n"
      ]
     },
     "metadata": {},
     "output_type": "display_data"
    },
    {
     "data": {
      "text/html": [
       "<table>\n",
       "<thead><tr><th></th><th scope=col>Df</th><th scope=col>Deviance</th><th scope=col>Resid. Df</th><th scope=col>Resid. Dev</th><th scope=col>Pr(&gt;Chi)</th></tr></thead>\n",
       "<tbody>\n",
       "\t<tr><th scope=row>NULL</th><td>NA        </td><td>        NA</td><td>60        </td><td>70.20415  </td><td>       NA </td></tr>\n",
       "\t<tr><th scope=row>definition</th><td> 1        </td><td>1.28126096</td><td>59        </td><td>68.92289  </td><td>0.2576647 </td></tr>\n",
       "\t<tr><th scope=row>need</th><td> 1        </td><td>0.04208351</td><td>58        </td><td>68.88080  </td><td>0.8374607 </td></tr>\n",
       "\t<tr><th scope=row>purpose</th><td> 2        </td><td>2.52545551</td><td>56        </td><td>66.35535  </td><td>0.2828813 </td></tr>\n",
       "\t<tr><th scope=row>interest</th><td> 1        </td><td>0.79731844</td><td>55        </td><td>65.55803  </td><td>0.3718963 </td></tr>\n",
       "</tbody>\n",
       "</table>\n"
      ],
      "text/latex": [
       "\\begin{tabular}{r|lllll}\n",
       "  & Df & Deviance & Resid. Df & Resid. Dev & Pr(>Chi)\\\\\n",
       "\\hline\n",
       "\tNULL & NA         &         NA & 60         & 70.20415   &        NA \\\\\n",
       "\tdefinition &  1         & 1.28126096 & 59         & 68.92289   & 0.2576647 \\\\\n",
       "\tneed &  1         & 0.04208351 & 58         & 68.88080   & 0.8374607 \\\\\n",
       "\tpurpose &  2         & 2.52545551 & 56         & 66.35535   & 0.2828813 \\\\\n",
       "\tinterest &  1         & 0.79731844 & 55         & 65.55803   & 0.3718963 \\\\\n",
       "\\end{tabular}\n"
      ],
      "text/markdown": [
       "\n",
       "| <!--/--> | Df | Deviance | Resid. Df | Resid. Dev | Pr(>Chi) |\n",
       "|---|---|---|---|---|---|\n",
       "| NULL | NA         |         NA | 60         | 70.20415   |        NA  |\n",
       "| definition |  1         | 1.28126096 | 59         | 68.92289   | 0.2576647  |\n",
       "| need |  1         | 0.04208351 | 58         | 68.88080   | 0.8374607  |\n",
       "| purpose |  2         | 2.52545551 | 56         | 66.35535   | 0.2828813  |\n",
       "| interest |  1         | 0.79731844 | 55         | 65.55803   | 0.3718963  |\n",
       "\n"
      ],
      "text/plain": [
       "           Df Deviance   Resid. Df Resid. Dev Pr(>Chi) \n",
       "NULL       NA         NA 60        70.20415          NA\n",
       "definition  1 1.28126096 59        68.92289   0.2576647\n",
       "need        1 0.04208351 58        68.88080   0.8374607\n",
       "purpose     2 2.52545551 56        66.35535   0.2828813\n",
       "interest    1 0.79731844 55        65.55803   0.3718963"
      ]
     },
     "metadata": {},
     "output_type": "display_data"
    }
   ],
   "source": [
    "model <- glm(comp3 ~ definition + need + purpose \n",
    "              + interest, data =survey2, family = binomial)\n",
    "summary(model)\n",
    "\n",
    "\n",
    "anova(model, test=\"Chisq\")"
   ]
  },
  {
   "cell_type": "code",
   "execution_count": 12,
   "metadata": {},
   "outputs": [
    {
     "data": {
      "text/plain": [
       "\n",
       "Call:\n",
       "glm(formula = comp4 ~ definition + need + purpose + interest, \n",
       "    family = binomial, data = survey2)\n",
       "\n",
       "Deviance Residuals: \n",
       "    Min       1Q   Median       3Q      Max  \n",
       "-0.9568  -0.6546  -0.4776  -0.4242   2.1820  \n",
       "\n",
       "Coefficients:\n",
       "                  Estimate Std. Error z value Pr(>|z|)  \n",
       "(Intercept)       -2.61786    1.53434  -1.706    0.088 .\n",
       "definitionharmony  0.79351    0.98728   0.804    0.422  \n",
       "needharmony       -0.66470    0.80205  -0.829    0.407  \n",
       "purposecosmetic    0.01486    1.07195   0.014    0.989  \n",
       "purposeetc         0.72336    0.95221   0.760    0.447  \n",
       "interest           0.11142    0.35499   0.314    0.754  \n",
       "---\n",
       "Signif. codes:  0 '***' 0.001 '**' 0.01 '*' 0.05 '.' 0.1 ' ' 1\n",
       "\n",
       "(Dispersion parameter for binomial family taken to be 1)\n",
       "\n",
       "    Null deviance: 54.429  on 60  degrees of freedom\n",
       "Residual deviance: 51.941  on 55  degrees of freedom\n",
       "AIC: 63.941\n",
       "\n",
       "Number of Fisher Scoring iterations: 4\n"
      ]
     },
     "metadata": {},
     "output_type": "display_data"
    },
    {
     "data": {
      "text/html": [
       "<table>\n",
       "<thead><tr><th></th><th scope=col>Df</th><th scope=col>Deviance</th><th scope=col>Resid. Df</th><th scope=col>Resid. Dev</th><th scope=col>Pr(&gt;Chi)</th></tr></thead>\n",
       "<tbody>\n",
       "\t<tr><th scope=row>NULL</th><td>NA        </td><td>        NA</td><td>60        </td><td>54.42870  </td><td>       NA </td></tr>\n",
       "\t<tr><th scope=row>definition</th><td> 1        </td><td>0.55295860</td><td>59        </td><td>53.87574  </td><td>0.4571113 </td></tr>\n",
       "\t<tr><th scope=row>need</th><td> 1        </td><td>0.63949124</td><td>58        </td><td>53.23625  </td><td>0.4238951 </td></tr>\n",
       "\t<tr><th scope=row>purpose</th><td> 2        </td><td>1.19550359</td><td>56        </td><td>52.04074  </td><td>0.5500469 </td></tr>\n",
       "\t<tr><th scope=row>interest</th><td> 1        </td><td>0.09969675</td><td>55        </td><td>51.94104  </td><td>0.7521938 </td></tr>\n",
       "</tbody>\n",
       "</table>\n"
      ],
      "text/latex": [
       "\\begin{tabular}{r|lllll}\n",
       "  & Df & Deviance & Resid. Df & Resid. Dev & Pr(>Chi)\\\\\n",
       "\\hline\n",
       "\tNULL & NA         &         NA & 60         & 54.42870   &        NA \\\\\n",
       "\tdefinition &  1         & 0.55295860 & 59         & 53.87574   & 0.4571113 \\\\\n",
       "\tneed &  1         & 0.63949124 & 58         & 53.23625   & 0.4238951 \\\\\n",
       "\tpurpose &  2         & 1.19550359 & 56         & 52.04074   & 0.5500469 \\\\\n",
       "\tinterest &  1         & 0.09969675 & 55         & 51.94104   & 0.7521938 \\\\\n",
       "\\end{tabular}\n"
      ],
      "text/markdown": [
       "\n",
       "| <!--/--> | Df | Deviance | Resid. Df | Resid. Dev | Pr(>Chi) |\n",
       "|---|---|---|---|---|---|\n",
       "| NULL | NA         |         NA | 60         | 54.42870   |        NA  |\n",
       "| definition |  1         | 0.55295860 | 59         | 53.87574   | 0.4571113  |\n",
       "| need |  1         | 0.63949124 | 58         | 53.23625   | 0.4238951  |\n",
       "| purpose |  2         | 1.19550359 | 56         | 52.04074   | 0.5500469  |\n",
       "| interest |  1         | 0.09969675 | 55         | 51.94104   | 0.7521938  |\n",
       "\n"
      ],
      "text/plain": [
       "           Df Deviance   Resid. Df Resid. Dev Pr(>Chi) \n",
       "NULL       NA         NA 60        54.42870          NA\n",
       "definition  1 0.55295860 59        53.87574   0.4571113\n",
       "need        1 0.63949124 58        53.23625   0.4238951\n",
       "purpose     2 1.19550359 56        52.04074   0.5500469\n",
       "interest    1 0.09969675 55        51.94104   0.7521938"
      ]
     },
     "metadata": {},
     "output_type": "display_data"
    }
   ],
   "source": [
    "model <- glm(comp4 ~ definition + need + purpose \n",
    "              + interest, data =survey2, family = binomial)\n",
    "summary(model)\n",
    "\n",
    "\n",
    "anova(model, test=\"Chisq\")"
   ]
  },
  {
   "cell_type": "code",
   "execution_count": 13,
   "metadata": {},
   "outputs": [
    {
     "data": {
      "text/plain": [
       "\n",
       "Call:\n",
       "glm(formula = comp5 ~ definition + need + purpose + interest, \n",
       "    family = binomial, data = survey2)\n",
       "\n",
       "Deviance Residuals: \n",
       "    Min       1Q   Median       3Q      Max  \n",
       "-0.9824  -0.5426  -0.3879  -0.3103   2.2485  \n",
       "\n",
       "Coefficients:\n",
       "                  Estimate Std. Error z value Pr(>|z|)  \n",
       "(Intercept)       -3.50332    1.70675  -2.053   0.0401 *\n",
       "definitionharmony  1.02671    1.31898   0.778   0.4363  \n",
       "needharmony        0.86952    1.03307   0.842   0.4000  \n",
       "purposecosmetic    0.07065    0.94794   0.075   0.9406  \n",
       "purposeetc        -1.36550    1.06884  -1.278   0.2014  \n",
       "interest           0.21175    0.38825   0.545   0.5855  \n",
       "---\n",
       "Signif. codes:  0 '***' 0.001 '**' 0.01 '*' 0.05 '.' 0.1 ' ' 1\n",
       "\n",
       "(Dispersion parameter for binomial family taken to be 1)\n",
       "\n",
       "    Null deviance: 47.405  on 60  degrees of freedom\n",
       "Residual deviance: 42.810  on 55  degrees of freedom\n",
       "AIC: 54.81\n",
       "\n",
       "Number of Fisher Scoring iterations: 5\n"
      ]
     },
     "metadata": {},
     "output_type": "display_data"
    },
    {
     "data": {
      "text/html": [
       "<table>\n",
       "<thead><tr><th></th><th scope=col>Df</th><th scope=col>Deviance</th><th scope=col>Resid. Df</th><th scope=col>Resid. Dev</th><th scope=col>Pr(&gt;Chi)</th></tr></thead>\n",
       "<tbody>\n",
       "\t<tr><th scope=row>NULL</th><td>NA       </td><td>       NA</td><td>60       </td><td>47.40460 </td><td>       NA</td></tr>\n",
       "\t<tr><th scope=row>definition</th><td> 1       </td><td>1.4733700</td><td>59       </td><td>45.93123 </td><td>0.2248147</td></tr>\n",
       "\t<tr><th scope=row>need</th><td> 1       </td><td>0.5932605</td><td>58       </td><td>45.33797 </td><td>0.4411611</td></tr>\n",
       "\t<tr><th scope=row>purpose</th><td> 2       </td><td>2.2219424</td><td>56       </td><td>43.11603 </td><td>0.3292390</td></tr>\n",
       "\t<tr><th scope=row>interest</th><td> 1       </td><td>0.3064225</td><td>55       </td><td>42.80961 </td><td>0.5798838</td></tr>\n",
       "</tbody>\n",
       "</table>\n"
      ],
      "text/latex": [
       "\\begin{tabular}{r|lllll}\n",
       "  & Df & Deviance & Resid. Df & Resid. Dev & Pr(>Chi)\\\\\n",
       "\\hline\n",
       "\tNULL & NA        &        NA & 60        & 47.40460  &        NA\\\\\n",
       "\tdefinition &  1        & 1.4733700 & 59        & 45.93123  & 0.2248147\\\\\n",
       "\tneed &  1        & 0.5932605 & 58        & 45.33797  & 0.4411611\\\\\n",
       "\tpurpose &  2        & 2.2219424 & 56        & 43.11603  & 0.3292390\\\\\n",
       "\tinterest &  1        & 0.3064225 & 55        & 42.80961  & 0.5798838\\\\\n",
       "\\end{tabular}\n"
      ],
      "text/markdown": [
       "\n",
       "| <!--/--> | Df | Deviance | Resid. Df | Resid. Dev | Pr(>Chi) |\n",
       "|---|---|---|---|---|---|\n",
       "| NULL | NA        |        NA | 60        | 47.40460  |        NA |\n",
       "| definition |  1        | 1.4733700 | 59        | 45.93123  | 0.2248147 |\n",
       "| need |  1        | 0.5932605 | 58        | 45.33797  | 0.4411611 |\n",
       "| purpose |  2        | 2.2219424 | 56        | 43.11603  | 0.3292390 |\n",
       "| interest |  1        | 0.3064225 | 55        | 42.80961  | 0.5798838 |\n",
       "\n"
      ],
      "text/plain": [
       "           Df Deviance  Resid. Df Resid. Dev Pr(>Chi) \n",
       "NULL       NA        NA 60        47.40460          NA\n",
       "definition  1 1.4733700 59        45.93123   0.2248147\n",
       "need        1 0.5932605 58        45.33797   0.4411611\n",
       "purpose     2 2.2219424 56        43.11603   0.3292390\n",
       "interest    1 0.3064225 55        42.80961   0.5798838"
      ]
     },
     "metadata": {},
     "output_type": "display_data"
    }
   ],
   "source": [
    "model <- glm(comp5 ~ definition + need + purpose \n",
    "              + interest, data =survey2, family = binomial)\n",
    "summary(model)\n",
    "\n",
    "\n",
    "anova(model, test=\"Chisq\")"
   ]
  },
  {
   "cell_type": "code",
   "execution_count": 14,
   "metadata": {},
   "outputs": [
    {
     "data": {
      "text/plain": [
       "\n",
       "Call:\n",
       "glm(formula = t1_1 ~ definition + need + purpose + interest, \n",
       "    family = binomial, data = survey2)\n",
       "\n",
       "Deviance Residuals: \n",
       "    Min       1Q   Median       3Q      Max  \n",
       "-0.7528  -0.5014  -0.3134  -0.2628   2.4649  \n",
       "\n",
       "Coefficients:\n",
       "                  Estimate Std. Error z value Pr(>|z|)  \n",
       "(Intercept)       -3.45445    1.84488  -1.872   0.0611 .\n",
       "definitionharmony -0.17233    1.46584  -0.118   0.9064  \n",
       "needharmony        1.85959    1.44108   1.290   0.1969  \n",
       "purposecosmetic    0.18752    1.12414   0.167   0.8675  \n",
       "purposeetc        -0.70650    1.15738  -0.610   0.5416  \n",
       "interest           0.09271    0.42425   0.219   0.8270  \n",
       "---\n",
       "Signif. codes:  0 '***' 0.001 '**' 0.01 '*' 0.05 '.' 0.1 ' ' 1\n",
       "\n",
       "(Dispersion parameter for binomial family taken to be 1)\n",
       "\n",
       "    Null deviance: 39.219  on 60  degrees of freedom\n",
       "Residual deviance: 35.948  on 55  degrees of freedom\n",
       "AIC: 47.948\n",
       "\n",
       "Number of Fisher Scoring iterations: 6\n"
      ]
     },
     "metadata": {},
     "output_type": "display_data"
    },
    {
     "data": {
      "text/html": [
       "<table>\n",
       "<thead><tr><th></th><th scope=col>Df</th><th scope=col>Deviance</th><th scope=col>Resid. Df</th><th scope=col>Resid. Dev</th><th scope=col>Pr(&gt;Chi)</th></tr></thead>\n",
       "<tbody>\n",
       "\t<tr><th scope=row>NULL</th><td>NA        </td><td>        NA</td><td>60        </td><td>39.21885  </td><td>       NA </td></tr>\n",
       "\t<tr><th scope=row>definition</th><td> 1        </td><td>0.58243515</td><td>59        </td><td>38.63641  </td><td>0.4453594 </td></tr>\n",
       "\t<tr><th scope=row>need</th><td> 1        </td><td>1.96882990</td><td>58        </td><td>36.66758  </td><td>0.1605721 </td></tr>\n",
       "\t<tr><th scope=row>purpose</th><td> 2        </td><td>0.67137523</td><td>56        </td><td>35.99621  </td><td>0.7148464 </td></tr>\n",
       "\t<tr><th scope=row>interest</th><td> 1        </td><td>0.04833671</td><td>55        </td><td>35.94787  </td><td>0.8259832 </td></tr>\n",
       "</tbody>\n",
       "</table>\n"
      ],
      "text/latex": [
       "\\begin{tabular}{r|lllll}\n",
       "  & Df & Deviance & Resid. Df & Resid. Dev & Pr(>Chi)\\\\\n",
       "\\hline\n",
       "\tNULL & NA         &         NA & 60         & 39.21885   &        NA \\\\\n",
       "\tdefinition &  1         & 0.58243515 & 59         & 38.63641   & 0.4453594 \\\\\n",
       "\tneed &  1         & 1.96882990 & 58         & 36.66758   & 0.1605721 \\\\\n",
       "\tpurpose &  2         & 0.67137523 & 56         & 35.99621   & 0.7148464 \\\\\n",
       "\tinterest &  1         & 0.04833671 & 55         & 35.94787   & 0.8259832 \\\\\n",
       "\\end{tabular}\n"
      ],
      "text/markdown": [
       "\n",
       "| <!--/--> | Df | Deviance | Resid. Df | Resid. Dev | Pr(>Chi) |\n",
       "|---|---|---|---|---|---|\n",
       "| NULL | NA         |         NA | 60         | 39.21885   |        NA  |\n",
       "| definition |  1         | 0.58243515 | 59         | 38.63641   | 0.4453594  |\n",
       "| need |  1         | 1.96882990 | 58         | 36.66758   | 0.1605721  |\n",
       "| purpose |  2         | 0.67137523 | 56         | 35.99621   | 0.7148464  |\n",
       "| interest |  1         | 0.04833671 | 55         | 35.94787   | 0.8259832  |\n",
       "\n"
      ],
      "text/plain": [
       "           Df Deviance   Resid. Df Resid. Dev Pr(>Chi) \n",
       "NULL       NA         NA 60        39.21885          NA\n",
       "definition  1 0.58243515 59        38.63641   0.4453594\n",
       "need        1 1.96882990 58        36.66758   0.1605721\n",
       "purpose     2 0.67137523 56        35.99621   0.7148464\n",
       "interest    1 0.04833671 55        35.94787   0.8259832"
      ]
     },
     "metadata": {},
     "output_type": "display_data"
    }
   ],
   "source": [
    "model <- glm(t1_1 ~ definition + need + purpose \n",
    "              + interest, data =survey2, family = binomial)\n",
    "summary(model)\n",
    "\n",
    "\n",
    "anova(model, test=\"Chisq\")"
   ]
  },
  {
   "cell_type": "code",
   "execution_count": 15,
   "metadata": {},
   "outputs": [
    {
     "data": {
      "text/plain": [
       "\n",
       "Call:\n",
       "glm(formula = t1_2 ~ definition + need + purpose + interest, \n",
       "    family = binomial, data = survey2)\n",
       "\n",
       "Deviance Residuals: \n",
       "    Min       1Q   Median       3Q      Max  \n",
       "-0.6894  -0.4560  -0.3494  -0.2522   2.5668  \n",
       "\n",
       "Coefficients:\n",
       "                  Estimate Std. Error z value Pr(>|z|)  \n",
       "(Intercept)       -5.19644    2.36095  -2.201   0.0277 *\n",
       "definitionharmony  0.49071    1.37576   0.357   0.7213  \n",
       "needharmony        0.06952    1.12094   0.062   0.9505  \n",
       "purposecosmetic   -0.10638    1.48283  -0.072   0.9428  \n",
       "purposeetc         0.20214    1.31191   0.154   0.8775  \n",
       "interest           0.62363    0.54352   1.147   0.2512  \n",
       "---\n",
       "Signif. codes:  0 '***' 0.001 '**' 0.01 '*' 0.05 '.' 0.1 ' ' 1\n",
       "\n",
       "(Dispersion parameter for binomial family taken to be 1)\n",
       "\n",
       "    Null deviance: 34.593  on 60  degrees of freedom\n",
       "Residual deviance: 32.334  on 55  degrees of freedom\n",
       "AIC: 44.334\n",
       "\n",
       "Number of Fisher Scoring iterations: 6\n"
      ]
     },
     "metadata": {},
     "output_type": "display_data"
    },
    {
     "data": {
      "text/html": [
       "<table>\n",
       "<thead><tr><th></th><th scope=col>Df</th><th scope=col>Deviance</th><th scope=col>Resid. Df</th><th scope=col>Resid. Dev</th><th scope=col>Pr(&gt;Chi)</th></tr></thead>\n",
       "<tbody>\n",
       "\t<tr><th scope=row>NULL</th><td>NA          </td><td>          NA</td><td>60          </td><td>34.59284    </td><td>       NA   </td></tr>\n",
       "\t<tr><th scope=row>definition</th><td> 1          </td><td>2.536667e-01</td><td>59          </td><td>34.33918    </td><td>0.6145050   </td></tr>\n",
       "\t<tr><th scope=row>need</th><td> 1          </td><td>3.246117e-05</td><td>58          </td><td>34.33914    </td><td>0.9954541   </td></tr>\n",
       "\t<tr><th scope=row>purpose</th><td> 2          </td><td>5.024188e-01</td><td>56          </td><td>33.83672    </td><td>0.7778595   </td></tr>\n",
       "\t<tr><th scope=row>interest</th><td> 1          </td><td>1.502640e+00</td><td>55          </td><td>32.33408    </td><td>0.2202656   </td></tr>\n",
       "</tbody>\n",
       "</table>\n"
      ],
      "text/latex": [
       "\\begin{tabular}{r|lllll}\n",
       "  & Df & Deviance & Resid. Df & Resid. Dev & Pr(>Chi)\\\\\n",
       "\\hline\n",
       "\tNULL & NA           &           NA & 60           & 34.59284     &        NA   \\\\\n",
       "\tdefinition &  1           & 2.536667e-01 & 59           & 34.33918     & 0.6145050   \\\\\n",
       "\tneed &  1           & 3.246117e-05 & 58           & 34.33914     & 0.9954541   \\\\\n",
       "\tpurpose &  2           & 5.024188e-01 & 56           & 33.83672     & 0.7778595   \\\\\n",
       "\tinterest &  1           & 1.502640e+00 & 55           & 32.33408     & 0.2202656   \\\\\n",
       "\\end{tabular}\n"
      ],
      "text/markdown": [
       "\n",
       "| <!--/--> | Df | Deviance | Resid. Df | Resid. Dev | Pr(>Chi) |\n",
       "|---|---|---|---|---|---|\n",
       "| NULL | NA           |           NA | 60           | 34.59284     |        NA    |\n",
       "| definition |  1           | 2.536667e-01 | 59           | 34.33918     | 0.6145050    |\n",
       "| need |  1           | 3.246117e-05 | 58           | 34.33914     | 0.9954541    |\n",
       "| purpose |  2           | 5.024188e-01 | 56           | 33.83672     | 0.7778595    |\n",
       "| interest |  1           | 1.502640e+00 | 55           | 32.33408     | 0.2202656    |\n",
       "\n"
      ],
      "text/plain": [
       "           Df Deviance     Resid. Df Resid. Dev Pr(>Chi) \n",
       "NULL       NA           NA 60        34.59284          NA\n",
       "definition  1 2.536667e-01 59        34.33918   0.6145050\n",
       "need        1 3.246117e-05 58        34.33914   0.9954541\n",
       "purpose     2 5.024188e-01 56        33.83672   0.7778595\n",
       "interest    1 1.502640e+00 55        32.33408   0.2202656"
      ]
     },
     "metadata": {},
     "output_type": "display_data"
    }
   ],
   "source": [
    "model <- glm(t1_2 ~ definition + need + purpose \n",
    "              + interest, data =survey2, family = binomial)\n",
    "summary(model)\n",
    "\n",
    "\n",
    "anova(model, test=\"Chisq\")"
   ]
  },
  {
   "cell_type": "code",
   "execution_count": 16,
   "metadata": {},
   "outputs": [
    {
     "data": {
      "text/plain": [
       "\n",
       "Call:\n",
       "glm(formula = t1_3 ~ definition + need + purpose + interest, \n",
       "    family = binomial, data = survey2)\n",
       "\n",
       "Deviance Residuals: \n",
       "    Min       1Q   Median       3Q      Max  \n",
       "-1.2406  -0.9728  -0.7206   1.2335   1.9972  \n",
       "\n",
       "Coefficients:\n",
       "                  Estimate Std. Error z value Pr(>|z|)\n",
       "(Intercept)       -0.40458    1.10498  -0.366    0.714\n",
       "definitionharmony  0.65266    0.77281   0.845    0.398\n",
       "needharmony        0.16184    0.65505   0.247    0.805\n",
       "purposecosmetic   -0.09119    0.75275  -0.121    0.904\n",
       "purposeetc         0.44012    0.71066   0.619    0.536\n",
       "interest          -0.27048    0.27268  -0.992    0.321\n",
       "\n",
       "(Dispersion parameter for binomial family taken to be 1)\n",
       "\n",
       "    Null deviance: 79.763  on 60  degrees of freedom\n",
       "Residual deviance: 76.107  on 55  degrees of freedom\n",
       "AIC: 88.107\n",
       "\n",
       "Number of Fisher Scoring iterations: 4\n"
      ]
     },
     "metadata": {},
     "output_type": "display_data"
    },
    {
     "data": {
      "text/html": [
       "<table>\n",
       "<thead><tr><th></th><th scope=col>Df</th><th scope=col>Deviance</th><th scope=col>Resid. Df</th><th scope=col>Resid. Dev</th><th scope=col>Pr(&gt;Chi)</th></tr></thead>\n",
       "<tbody>\n",
       "\t<tr><th scope=row>NULL</th><td>NA       </td><td>       NA</td><td>60       </td><td>79.76294 </td><td>       NA</td></tr>\n",
       "\t<tr><th scope=row>definition</th><td> 1       </td><td>2.2274765</td><td>59       </td><td>77.53546 </td><td>0.1355751</td></tr>\n",
       "\t<tr><th scope=row>need</th><td> 1       </td><td>0.1390685</td><td>58       </td><td>77.39639 </td><td>0.7092088</td></tr>\n",
       "\t<tr><th scope=row>purpose</th><td> 2       </td><td>0.2831975</td><td>56       </td><td>77.11319 </td><td>0.8679695</td></tr>\n",
       "\t<tr><th scope=row>interest</th><td> 1       </td><td>1.0063675</td><td>55       </td><td>76.10683 </td><td>0.3157746</td></tr>\n",
       "</tbody>\n",
       "</table>\n"
      ],
      "text/latex": [
       "\\begin{tabular}{r|lllll}\n",
       "  & Df & Deviance & Resid. Df & Resid. Dev & Pr(>Chi)\\\\\n",
       "\\hline\n",
       "\tNULL & NA        &        NA & 60        & 79.76294  &        NA\\\\\n",
       "\tdefinition &  1        & 2.2274765 & 59        & 77.53546  & 0.1355751\\\\\n",
       "\tneed &  1        & 0.1390685 & 58        & 77.39639  & 0.7092088\\\\\n",
       "\tpurpose &  2        & 0.2831975 & 56        & 77.11319  & 0.8679695\\\\\n",
       "\tinterest &  1        & 1.0063675 & 55        & 76.10683  & 0.3157746\\\\\n",
       "\\end{tabular}\n"
      ],
      "text/markdown": [
       "\n",
       "| <!--/--> | Df | Deviance | Resid. Df | Resid. Dev | Pr(>Chi) |\n",
       "|---|---|---|---|---|---|\n",
       "| NULL | NA        |        NA | 60        | 79.76294  |        NA |\n",
       "| definition |  1        | 2.2274765 | 59        | 77.53546  | 0.1355751 |\n",
       "| need |  1        | 0.1390685 | 58        | 77.39639  | 0.7092088 |\n",
       "| purpose |  2        | 0.2831975 | 56        | 77.11319  | 0.8679695 |\n",
       "| interest |  1        | 1.0063675 | 55        | 76.10683  | 0.3157746 |\n",
       "\n"
      ],
      "text/plain": [
       "           Df Deviance  Resid. Df Resid. Dev Pr(>Chi) \n",
       "NULL       NA        NA 60        79.76294          NA\n",
       "definition  1 2.2274765 59        77.53546   0.1355751\n",
       "need        1 0.1390685 58        77.39639   0.7092088\n",
       "purpose     2 0.2831975 56        77.11319   0.8679695\n",
       "interest    1 1.0063675 55        76.10683   0.3157746"
      ]
     },
     "metadata": {},
     "output_type": "display_data"
    }
   ],
   "source": [
    "model <- glm(t1_3 ~ definition + need + purpose \n",
    "              + interest, data =survey2, family = binomial)\n",
    "summary(model)\n",
    "\n",
    "\n",
    "anova(model, test=\"Chisq\")"
   ]
  },
  {
   "cell_type": "code",
   "execution_count": 17,
   "metadata": {},
   "outputs": [
    {
     "data": {
      "text/plain": [
       "\n",
       "Call:\n",
       "glm(formula = t1_4 ~ definition + need + purpose + interest, \n",
       "    family = binomial, data = survey2)\n",
       "\n",
       "Deviance Residuals: \n",
       "    Min       1Q   Median       3Q      Max  \n",
       "-1.0279  -0.5946  -0.5029  -0.3692   2.1850  \n",
       "\n",
       "Coefficients:\n",
       "                  Estimate Std. Error z value Pr(>|z|)  \n",
       "(Intercept)       -0.71538    1.35766  -0.527   0.5982  \n",
       "definitionharmony -1.79872    0.98004  -1.835   0.0665 .\n",
       "needharmony        0.64755    0.97210   0.666   0.5053  \n",
       "purposecosmetic    0.51790    0.89668   0.578   0.5636  \n",
       "purposeetc         0.35331    0.95009   0.372   0.7100  \n",
       "interest          -0.09815    0.35456  -0.277   0.7819  \n",
       "---\n",
       "Signif. codes:  0 '***' 0.001 '**' 0.01 '*' 0.05 '.' 0.1 ' ' 1\n",
       "\n",
       "(Dispersion parameter for binomial family taken to be 1)\n",
       "\n",
       "    Null deviance: 57.571  on 60  degrees of freedom\n",
       "Residual deviance: 53.004  on 55  degrees of freedom\n",
       "AIC: 65.004\n",
       "\n",
       "Number of Fisher Scoring iterations: 5\n"
      ]
     },
     "metadata": {},
     "output_type": "display_data"
    },
    {
     "data": {
      "text/html": [
       "<table>\n",
       "<thead><tr><th></th><th scope=col>Df</th><th scope=col>Deviance</th><th scope=col>Resid. Df</th><th scope=col>Resid. Dev</th><th scope=col>Pr(&gt;Chi)</th></tr></thead>\n",
       "<tbody>\n",
       "\t<tr><th scope=row>NULL</th><td>NA        </td><td>        NA</td><td>60        </td><td>57.57061  </td><td>        NA</td></tr>\n",
       "\t<tr><th scope=row>definition</th><td> 1        </td><td>3.74382214</td><td>59        </td><td>53.82679  </td><td>0.05300307</td></tr>\n",
       "\t<tr><th scope=row>need</th><td> 1        </td><td>0.42935109</td><td>58        </td><td>53.39744  </td><td>0.51230753</td></tr>\n",
       "\t<tr><th scope=row>purpose</th><td> 2        </td><td>0.31705044</td><td>56        </td><td>53.08039  </td><td>0.85340144</td></tr>\n",
       "\t<tr><th scope=row>interest</th><td> 1        </td><td>0.07626781</td><td>55        </td><td>53.00412  </td><td>0.78242036</td></tr>\n",
       "</tbody>\n",
       "</table>\n"
      ],
      "text/latex": [
       "\\begin{tabular}{r|lllll}\n",
       "  & Df & Deviance & Resid. Df & Resid. Dev & Pr(>Chi)\\\\\n",
       "\\hline\n",
       "\tNULL & NA         &         NA & 60         & 57.57061   &         NA\\\\\n",
       "\tdefinition &  1         & 3.74382214 & 59         & 53.82679   & 0.05300307\\\\\n",
       "\tneed &  1         & 0.42935109 & 58         & 53.39744   & 0.51230753\\\\\n",
       "\tpurpose &  2         & 0.31705044 & 56         & 53.08039   & 0.85340144\\\\\n",
       "\tinterest &  1         & 0.07626781 & 55         & 53.00412   & 0.78242036\\\\\n",
       "\\end{tabular}\n"
      ],
      "text/markdown": [
       "\n",
       "| <!--/--> | Df | Deviance | Resid. Df | Resid. Dev | Pr(>Chi) |\n",
       "|---|---|---|---|---|---|\n",
       "| NULL | NA         |         NA | 60         | 57.57061   |         NA |\n",
       "| definition |  1         | 3.74382214 | 59         | 53.82679   | 0.05300307 |\n",
       "| need |  1         | 0.42935109 | 58         | 53.39744   | 0.51230753 |\n",
       "| purpose |  2         | 0.31705044 | 56         | 53.08039   | 0.85340144 |\n",
       "| interest |  1         | 0.07626781 | 55         | 53.00412   | 0.78242036 |\n",
       "\n"
      ],
      "text/plain": [
       "           Df Deviance   Resid. Df Resid. Dev Pr(>Chi)  \n",
       "NULL       NA         NA 60        57.57061           NA\n",
       "definition  1 3.74382214 59        53.82679   0.05300307\n",
       "need        1 0.42935109 58        53.39744   0.51230753\n",
       "purpose     2 0.31705044 56        53.08039   0.85340144\n",
       "interest    1 0.07626781 55        53.00412   0.78242036"
      ]
     },
     "metadata": {},
     "output_type": "display_data"
    }
   ],
   "source": [
    "model <- glm(t1_4 ~ definition + need + purpose \n",
    "              + interest, data =survey2, family = binomial)\n",
    "summary(model)\n",
    "\n",
    "\n",
    "anova(model, test=\"Chisq\")"
   ]
  },
  {
   "cell_type": "code",
   "execution_count": 18,
   "metadata": {},
   "outputs": [
    {
     "data": {
      "text/plain": [
       "\n",
       "Call:\n",
       "glm(formula = t1_5 ~ definition + need + purpose + interest, \n",
       "    family = binomial, data = survey2)\n",
       "\n",
       "Deviance Residuals: \n",
       "    Min       1Q   Median       3Q      Max  \n",
       "-1.1977  -0.8436  -0.6379   1.1573   1.9507  \n",
       "\n",
       "Coefficients:\n",
       "                  Estimate Std. Error z value Pr(>|z|)  \n",
       "(Intercept)        -0.7932     1.1903  -0.666   0.5051  \n",
       "definitionharmony   0.4622     0.7614   0.607   0.5438  \n",
       "needharmony        -1.2270     0.7084  -1.732   0.0833 .\n",
       "purposecosmetic    -0.3046     0.7550  -0.403   0.6867  \n",
       "purposeetc         -0.5616     0.7709  -0.728   0.4663  \n",
       "interest            0.1262     0.3045   0.414   0.6786  \n",
       "---\n",
       "Signif. codes:  0 '***' 0.001 '**' 0.01 '*' 0.05 '.' 0.1 ' ' 1\n",
       "\n",
       "(Dispersion parameter for binomial family taken to be 1)\n",
       "\n",
       "    Null deviance: 72.189  on 60  degrees of freedom\n",
       "Residual deviance: 68.018  on 55  degrees of freedom\n",
       "AIC: 80.018\n",
       "\n",
       "Number of Fisher Scoring iterations: 4\n"
      ]
     },
     "metadata": {},
     "output_type": "display_data"
    },
    {
     "data": {
      "text/html": [
       "<table>\n",
       "<thead><tr><th></th><th scope=col>Df</th><th scope=col>Deviance</th><th scope=col>Resid. Df</th><th scope=col>Resid. Dev</th><th scope=col>Pr(&gt;Chi)</th></tr></thead>\n",
       "<tbody>\n",
       "\t<tr><th scope=row>NULL</th><td>NA        </td><td>       NA </td><td>60        </td><td>72.18867  </td><td>        NA</td></tr>\n",
       "\t<tr><th scope=row>definition</th><td> 1        </td><td>0.3717437 </td><td>59        </td><td>71.81693  </td><td>0.54205532</td></tr>\n",
       "\t<tr><th scope=row>need</th><td> 1        </td><td>3.2250708 </td><td>58        </td><td>68.59186  </td><td>0.07251866</td></tr>\n",
       "\t<tr><th scope=row>purpose</th><td> 2        </td><td>0.4004981 </td><td>56        </td><td>68.19136  </td><td>0.81852689</td></tr>\n",
       "\t<tr><th scope=row>interest</th><td> 1        </td><td>0.1737113 </td><td>55        </td><td>68.01765  </td><td>0.67683427</td></tr>\n",
       "</tbody>\n",
       "</table>\n"
      ],
      "text/latex": [
       "\\begin{tabular}{r|lllll}\n",
       "  & Df & Deviance & Resid. Df & Resid. Dev & Pr(>Chi)\\\\\n",
       "\\hline\n",
       "\tNULL & NA         &        NA  & 60         & 72.18867   &         NA\\\\\n",
       "\tdefinition &  1         & 0.3717437  & 59         & 71.81693   & 0.54205532\\\\\n",
       "\tneed &  1         & 3.2250708  & 58         & 68.59186   & 0.07251866\\\\\n",
       "\tpurpose &  2         & 0.4004981  & 56         & 68.19136   & 0.81852689\\\\\n",
       "\tinterest &  1         & 0.1737113  & 55         & 68.01765   & 0.67683427\\\\\n",
       "\\end{tabular}\n"
      ],
      "text/markdown": [
       "\n",
       "| <!--/--> | Df | Deviance | Resid. Df | Resid. Dev | Pr(>Chi) |\n",
       "|---|---|---|---|---|---|\n",
       "| NULL | NA         |        NA  | 60         | 72.18867   |         NA |\n",
       "| definition |  1         | 0.3717437  | 59         | 71.81693   | 0.54205532 |\n",
       "| need |  1         | 3.2250708  | 58         | 68.59186   | 0.07251866 |\n",
       "| purpose |  2         | 0.4004981  | 56         | 68.19136   | 0.81852689 |\n",
       "| interest |  1         | 0.1737113  | 55         | 68.01765   | 0.67683427 |\n",
       "\n"
      ],
      "text/plain": [
       "           Df Deviance  Resid. Df Resid. Dev Pr(>Chi)  \n",
       "NULL       NA        NA 60        72.18867           NA\n",
       "definition  1 0.3717437 59        71.81693   0.54205532\n",
       "need        1 3.2250708 58        68.59186   0.07251866\n",
       "purpose     2 0.4004981 56        68.19136   0.81852689\n",
       "interest    1 0.1737113 55        68.01765   0.67683427"
      ]
     },
     "metadata": {},
     "output_type": "display_data"
    }
   ],
   "source": [
    "model <- glm(t1_5 ~ definition + need + purpose \n",
    "              + interest, data =survey2, family = binomial)\n",
    "summary(model)\n",
    "\n",
    "\n",
    "anova(model, test=\"Chisq\")"
   ]
  },
  {
   "cell_type": "code",
   "execution_count": 19,
   "metadata": {},
   "outputs": [
    {
     "data": {
      "text/plain": [
       "\n",
       "Call:\n",
       "glm(formula = t2_1 ~ definition + need + purpose + interest, \n",
       "    family = binomial, data = survey2)\n",
       "\n",
       "Deviance Residuals: \n",
       "     Min        1Q    Median        3Q       Max  \n",
       "-0.86504  -0.50930  -0.29121  -0.00007   2.52258  \n",
       "\n",
       "Coefficients:\n",
       "                   Estimate Std. Error z value Pr(>|z|)  \n",
       "(Intercept)        -23.7499  2338.3093  -0.010   0.9919  \n",
       "definitionharmony    1.2318     1.4013   0.879   0.3794  \n",
       "needharmony         -0.7859     1.0675  -0.736   0.4616  \n",
       "purposecosmetic     17.2585  2338.3081   0.007   0.9941  \n",
       "purposeetc          16.8576  2338.3081   0.007   0.9942  \n",
       "interest             1.1173     0.6045   1.848   0.0645 .\n",
       "---\n",
       "Signif. codes:  0 '***' 0.001 '**' 0.01 '*' 0.05 '.' 0.1 ' ' 1\n",
       "\n",
       "(Dispersion parameter for binomial family taken to be 1)\n",
       "\n",
       "    Null deviance: 39.219  on 60  degrees of freedom\n",
       "Residual deviance: 29.398  on 55  degrees of freedom\n",
       "AIC: 41.398\n",
       "\n",
       "Number of Fisher Scoring iterations: 18\n"
      ]
     },
     "metadata": {},
     "output_type": "display_data"
    },
    {
     "data": {
      "text/html": [
       "<table>\n",
       "<thead><tr><th></th><th scope=col>Df</th><th scope=col>Deviance</th><th scope=col>Resid. Df</th><th scope=col>Resid. Dev</th><th scope=col>Pr(&gt;Chi)</th></tr></thead>\n",
       "<tbody>\n",
       "\t<tr><th scope=row>NULL</th><td>NA        </td><td>       NA </td><td>60        </td><td>39.21885  </td><td>        NA</td></tr>\n",
       "\t<tr><th scope=row>definition</th><td> 1        </td><td>0.5824352 </td><td>59        </td><td>38.63641  </td><td>0.44535940</td></tr>\n",
       "\t<tr><th scope=row>need</th><td> 1        </td><td>0.4977981 </td><td>58        </td><td>38.13861  </td><td>0.48046924</td></tr>\n",
       "\t<tr><th scope=row>purpose</th><td> 2        </td><td>4.2390521 </td><td>56        </td><td>33.89956  </td><td>0.12008853</td></tr>\n",
       "\t<tr><th scope=row>interest</th><td> 1        </td><td>4.5016088 </td><td>55        </td><td>29.39795  </td><td>0.03386298</td></tr>\n",
       "</tbody>\n",
       "</table>\n"
      ],
      "text/latex": [
       "\\begin{tabular}{r|lllll}\n",
       "  & Df & Deviance & Resid. Df & Resid. Dev & Pr(>Chi)\\\\\n",
       "\\hline\n",
       "\tNULL & NA         &        NA  & 60         & 39.21885   &         NA\\\\\n",
       "\tdefinition &  1         & 0.5824352  & 59         & 38.63641   & 0.44535940\\\\\n",
       "\tneed &  1         & 0.4977981  & 58         & 38.13861   & 0.48046924\\\\\n",
       "\tpurpose &  2         & 4.2390521  & 56         & 33.89956   & 0.12008853\\\\\n",
       "\tinterest &  1         & 4.5016088  & 55         & 29.39795   & 0.03386298\\\\\n",
       "\\end{tabular}\n"
      ],
      "text/markdown": [
       "\n",
       "| <!--/--> | Df | Deviance | Resid. Df | Resid. Dev | Pr(>Chi) |\n",
       "|---|---|---|---|---|---|\n",
       "| NULL | NA         |        NA  | 60         | 39.21885   |         NA |\n",
       "| definition |  1         | 0.5824352  | 59         | 38.63641   | 0.44535940 |\n",
       "| need |  1         | 0.4977981  | 58         | 38.13861   | 0.48046924 |\n",
       "| purpose |  2         | 4.2390521  | 56         | 33.89956   | 0.12008853 |\n",
       "| interest |  1         | 4.5016088  | 55         | 29.39795   | 0.03386298 |\n",
       "\n"
      ],
      "text/plain": [
       "           Df Deviance  Resid. Df Resid. Dev Pr(>Chi)  \n",
       "NULL       NA        NA 60        39.21885           NA\n",
       "definition  1 0.5824352 59        38.63641   0.44535940\n",
       "need        1 0.4977981 58        38.13861   0.48046924\n",
       "purpose     2 4.2390521 56        33.89956   0.12008853\n",
       "interest    1 4.5016088 55        29.39795   0.03386298"
      ]
     },
     "metadata": {},
     "output_type": "display_data"
    }
   ],
   "source": [
    "model <- glm(t2_1 ~ definition + need + purpose \n",
    "              + interest, data =survey2, family = binomial)\n",
    "summary(model)\n",
    "\n",
    "\n",
    "anova(model, test=\"Chisq\")"
   ]
  },
  {
   "cell_type": "code",
   "execution_count": 20,
   "metadata": {},
   "outputs": [
    {
     "data": {
      "text/plain": [
       "\n",
       "Call:\n",
       "glm(formula = t2_2 ~ definition + need + purpose + interest, \n",
       "    family = binomial, data = survey2)\n",
       "\n",
       "Deviance Residuals: \n",
       "    Min       1Q   Median       3Q      Max  \n",
       "-0.8013  -0.3543  -0.3001  -0.0001   2.4663  \n",
       "\n",
       "Coefficients:\n",
       "                    Estimate Std. Error z value Pr(>|z|)\n",
       "(Intercept)         -1.89983    2.15318  -0.882    0.378\n",
       "definitionharmony   -0.24744    1.53566  -0.161    0.872\n",
       "needharmony          1.18406    1.50851   0.785    0.433\n",
       "purposecosmetic    -17.82803 2563.35372  -0.007    0.994\n",
       "purposeetc          -1.68851    1.33364  -1.266    0.205\n",
       "interest            -0.08518    0.53984  -0.158    0.875\n",
       "\n",
       "(Dispersion parameter for binomial family taken to be 1)\n",
       "\n",
       "    Null deviance: 29.528  on 60  degrees of freedom\n",
       "Residual deviance: 23.754  on 55  degrees of freedom\n",
       "AIC: 35.754\n",
       "\n",
       "Number of Fisher Scoring iterations: 18\n"
      ]
     },
     "metadata": {},
     "output_type": "display_data"
    },
    {
     "data": {
      "text/html": [
       "<table>\n",
       "<thead><tr><th></th><th scope=col>Df</th><th scope=col>Deviance</th><th scope=col>Resid. Df</th><th scope=col>Resid. Dev</th><th scope=col>Pr(&gt;Chi)</th></tr></thead>\n",
       "<tbody>\n",
       "\t<tr><th scope=row>NULL</th><td>NA        </td><td>        NA</td><td>60        </td><td>29.52841  </td><td>        NA</td></tr>\n",
       "\t<tr><th scope=row>definition</th><td> 1        </td><td>0.04310253</td><td>59        </td><td>29.48531  </td><td>0.83553233</td></tr>\n",
       "\t<tr><th scope=row>need</th><td> 1        </td><td>0.90101262</td><td>58        </td><td>28.58430  </td><td>0.34251034</td></tr>\n",
       "\t<tr><th scope=row>purpose</th><td> 2        </td><td>4.80543788</td><td>56        </td><td>23.77886  </td><td>0.09047163</td></tr>\n",
       "\t<tr><th scope=row>interest</th><td> 1        </td><td>0.02475131</td><td>55        </td><td>23.75411  </td><td>0.87498833</td></tr>\n",
       "</tbody>\n",
       "</table>\n"
      ],
      "text/latex": [
       "\\begin{tabular}{r|lllll}\n",
       "  & Df & Deviance & Resid. Df & Resid. Dev & Pr(>Chi)\\\\\n",
       "\\hline\n",
       "\tNULL & NA         &         NA & 60         & 29.52841   &         NA\\\\\n",
       "\tdefinition &  1         & 0.04310253 & 59         & 29.48531   & 0.83553233\\\\\n",
       "\tneed &  1         & 0.90101262 & 58         & 28.58430   & 0.34251034\\\\\n",
       "\tpurpose &  2         & 4.80543788 & 56         & 23.77886   & 0.09047163\\\\\n",
       "\tinterest &  1         & 0.02475131 & 55         & 23.75411   & 0.87498833\\\\\n",
       "\\end{tabular}\n"
      ],
      "text/markdown": [
       "\n",
       "| <!--/--> | Df | Deviance | Resid. Df | Resid. Dev | Pr(>Chi) |\n",
       "|---|---|---|---|---|---|\n",
       "| NULL | NA         |         NA | 60         | 29.52841   |         NA |\n",
       "| definition |  1         | 0.04310253 | 59         | 29.48531   | 0.83553233 |\n",
       "| need |  1         | 0.90101262 | 58         | 28.58430   | 0.34251034 |\n",
       "| purpose |  2         | 4.80543788 | 56         | 23.77886   | 0.09047163 |\n",
       "| interest |  1         | 0.02475131 | 55         | 23.75411   | 0.87498833 |\n",
       "\n"
      ],
      "text/plain": [
       "           Df Deviance   Resid. Df Resid. Dev Pr(>Chi)  \n",
       "NULL       NA         NA 60        29.52841           NA\n",
       "definition  1 0.04310253 59        29.48531   0.83553233\n",
       "need        1 0.90101262 58        28.58430   0.34251034\n",
       "purpose     2 4.80543788 56        23.77886   0.09047163\n",
       "interest    1 0.02475131 55        23.75411   0.87498833"
      ]
     },
     "metadata": {},
     "output_type": "display_data"
    }
   ],
   "source": [
    "model <- glm(t2_2 ~ definition + need + purpose \n",
    "              + interest, data =survey2, family = binomial)\n",
    "summary(model)\n",
    "\n",
    "\n",
    "anova(model, test=\"Chisq\")"
   ]
  },
  {
   "cell_type": "code",
   "execution_count": 21,
   "metadata": {},
   "outputs": [
    {
     "data": {
      "text/plain": [
       "\n",
       "Call:\n",
       "glm(formula = t2_3 ~ definition + need + purpose + interest, \n",
       "    family = binomial, data = survey2)\n",
       "\n",
       "Deviance Residuals: \n",
       "    Min       1Q   Median       3Q      Max  \n",
       "-1.2128  -0.8481  -0.7142   1.3140   1.9040  \n",
       "\n",
       "Coefficients:\n",
       "                  Estimate Std. Error z value Pr(>|z|)\n",
       "(Intercept)         0.4578     1.1205   0.409    0.683\n",
       "definitionharmony  -0.2419     0.7663  -0.316    0.752\n",
       "needharmony        -0.2050     0.7030  -0.292    0.771\n",
       "purposecosmetic     0.4220     0.7503   0.563    0.574\n",
       "purposeetc          0.3469     0.7566   0.459    0.647\n",
       "interest           -0.3984     0.2864  -1.391    0.164\n",
       "\n",
       "(Dispersion parameter for binomial family taken to be 1)\n",
       "\n",
       "    Null deviance: 74.010  on 60  degrees of freedom\n",
       "Residual deviance: 71.512  on 55  degrees of freedom\n",
       "AIC: 83.512\n",
       "\n",
       "Number of Fisher Scoring iterations: 4\n"
      ]
     },
     "metadata": {},
     "output_type": "display_data"
    },
    {
     "data": {
      "text/html": [
       "<table>\n",
       "<thead><tr><th></th><th scope=col>Df</th><th scope=col>Deviance</th><th scope=col>Resid. Df</th><th scope=col>Resid. Dev</th><th scope=col>Pr(&gt;Chi)</th></tr></thead>\n",
       "<tbody>\n",
       "\t<tr><th scope=row>NULL</th><td>NA        </td><td>        NA</td><td>60        </td><td>74.01002  </td><td>       NA </td></tr>\n",
       "\t<tr><th scope=row>definition</th><td> 1        </td><td>0.17726446</td><td>59        </td><td>73.83275  </td><td>0.6737347 </td></tr>\n",
       "\t<tr><th scope=row>need</th><td> 1        </td><td>0.04706141</td><td>58        </td><td>73.78569  </td><td>0.8282579 </td></tr>\n",
       "\t<tr><th scope=row>purpose</th><td> 2        </td><td>0.28330168</td><td>56        </td><td>73.50239  </td><td>0.8679242 </td></tr>\n",
       "\t<tr><th scope=row>interest</th><td> 1        </td><td>1.99008661</td><td>55        </td><td>71.51230  </td><td>0.1583318 </td></tr>\n",
       "</tbody>\n",
       "</table>\n"
      ],
      "text/latex": [
       "\\begin{tabular}{r|lllll}\n",
       "  & Df & Deviance & Resid. Df & Resid. Dev & Pr(>Chi)\\\\\n",
       "\\hline\n",
       "\tNULL & NA         &         NA & 60         & 74.01002   &        NA \\\\\n",
       "\tdefinition &  1         & 0.17726446 & 59         & 73.83275   & 0.6737347 \\\\\n",
       "\tneed &  1         & 0.04706141 & 58         & 73.78569   & 0.8282579 \\\\\n",
       "\tpurpose &  2         & 0.28330168 & 56         & 73.50239   & 0.8679242 \\\\\n",
       "\tinterest &  1         & 1.99008661 & 55         & 71.51230   & 0.1583318 \\\\\n",
       "\\end{tabular}\n"
      ],
      "text/markdown": [
       "\n",
       "| <!--/--> | Df | Deviance | Resid. Df | Resid. Dev | Pr(>Chi) |\n",
       "|---|---|---|---|---|---|\n",
       "| NULL | NA         |         NA | 60         | 74.01002   |        NA  |\n",
       "| definition |  1         | 0.17726446 | 59         | 73.83275   | 0.6737347  |\n",
       "| need |  1         | 0.04706141 | 58         | 73.78569   | 0.8282579  |\n",
       "| purpose |  2         | 0.28330168 | 56         | 73.50239   | 0.8679242  |\n",
       "| interest |  1         | 1.99008661 | 55         | 71.51230   | 0.1583318  |\n",
       "\n"
      ],
      "text/plain": [
       "           Df Deviance   Resid. Df Resid. Dev Pr(>Chi) \n",
       "NULL       NA         NA 60        74.01002          NA\n",
       "definition  1 0.17726446 59        73.83275   0.6737347\n",
       "need        1 0.04706141 58        73.78569   0.8282579\n",
       "purpose     2 0.28330168 56        73.50239   0.8679242\n",
       "interest    1 1.99008661 55        71.51230   0.1583318"
      ]
     },
     "metadata": {},
     "output_type": "display_data"
    }
   ],
   "source": [
    "model <- glm(t2_3 ~ definition + need + purpose \n",
    "              + interest, data =survey2, family = binomial)\n",
    "summary(model)\n",
    "\n",
    "\n",
    "anova(model, test=\"Chisq\")"
   ]
  },
  {
   "cell_type": "code",
   "execution_count": 22,
   "metadata": {},
   "outputs": [
    {
     "data": {
      "text/plain": [
       "\n",
       "Call:\n",
       "glm(formula = t2_4 ~ definition + need + purpose + interest, \n",
       "    family = binomial, data = survey2)\n",
       "\n",
       "Deviance Residuals: \n",
       "    Min       1Q   Median       3Q      Max  \n",
       "-1.0971  -0.8986  -0.7369   1.2901   1.7157  \n",
       "\n",
       "Coefficients:\n",
       "                  Estimate Std. Error z value Pr(>|z|)\n",
       "(Intercept)       -0.14557    1.09245  -0.133    0.894\n",
       "definitionharmony  0.01117    0.72720   0.015    0.988\n",
       "needharmony       -0.50077    0.66759  -0.750    0.453\n",
       "purposecosmetic   -0.19533    0.70973  -0.275    0.783\n",
       "purposeetc        -0.46029    0.71482  -0.644    0.520\n",
       "interest          -0.02311    0.27701  -0.083    0.934\n",
       "\n",
       "(Dispersion parameter for binomial family taken to be 1)\n",
       "\n",
       "    Null deviance: 77.184  on 60  degrees of freedom\n",
       "Residual deviance: 75.659  on 55  degrees of freedom\n",
       "AIC: 87.659\n",
       "\n",
       "Number of Fisher Scoring iterations: 4\n"
      ]
     },
     "metadata": {},
     "output_type": "display_data"
    },
    {
     "data": {
      "text/html": [
       "<table>\n",
       "<thead><tr><th></th><th scope=col>Df</th><th scope=col>Deviance</th><th scope=col>Resid. Df</th><th scope=col>Resid. Dev</th><th scope=col>Pr(&gt;Chi)</th></tr></thead>\n",
       "<tbody>\n",
       "\t<tr><th scope=row>NULL</th><td>NA         </td><td>         NA</td><td>60         </td><td>77.18441   </td><td>       NA  </td></tr>\n",
       "\t<tr><th scope=row>definition</th><td> 1         </td><td>0.424782065</td><td>59         </td><td>76.75963   </td><td>0.5145605  </td></tr>\n",
       "\t<tr><th scope=row>need</th><td> 1         </td><td>0.580428718</td><td>58         </td><td>76.17920   </td><td>0.4461443  </td></tr>\n",
       "\t<tr><th scope=row>purpose</th><td> 2         </td><td>0.512867004</td><td>56         </td><td>75.66633   </td><td>0.7738064  </td></tr>\n",
       "\t<tr><th scope=row>interest</th><td> 1         </td><td>0.006950776</td><td>55         </td><td>75.65938   </td><td>0.9335563  </td></tr>\n",
       "</tbody>\n",
       "</table>\n"
      ],
      "text/latex": [
       "\\begin{tabular}{r|lllll}\n",
       "  & Df & Deviance & Resid. Df & Resid. Dev & Pr(>Chi)\\\\\n",
       "\\hline\n",
       "\tNULL & NA          &          NA & 60          & 77.18441    &        NA  \\\\\n",
       "\tdefinition &  1          & 0.424782065 & 59          & 76.75963    & 0.5145605  \\\\\n",
       "\tneed &  1          & 0.580428718 & 58          & 76.17920    & 0.4461443  \\\\\n",
       "\tpurpose &  2          & 0.512867004 & 56          & 75.66633    & 0.7738064  \\\\\n",
       "\tinterest &  1          & 0.006950776 & 55          & 75.65938    & 0.9335563  \\\\\n",
       "\\end{tabular}\n"
      ],
      "text/markdown": [
       "\n",
       "| <!--/--> | Df | Deviance | Resid. Df | Resid. Dev | Pr(>Chi) |\n",
       "|---|---|---|---|---|---|\n",
       "| NULL | NA          |          NA | 60          | 77.18441    |        NA   |\n",
       "| definition |  1          | 0.424782065 | 59          | 76.75963    | 0.5145605   |\n",
       "| need |  1          | 0.580428718 | 58          | 76.17920    | 0.4461443   |\n",
       "| purpose |  2          | 0.512867004 | 56          | 75.66633    | 0.7738064   |\n",
       "| interest |  1          | 0.006950776 | 55          | 75.65938    | 0.9335563   |\n",
       "\n"
      ],
      "text/plain": [
       "           Df Deviance    Resid. Df Resid. Dev Pr(>Chi) \n",
       "NULL       NA          NA 60        77.18441          NA\n",
       "definition  1 0.424782065 59        76.75963   0.5145605\n",
       "need        1 0.580428718 58        76.17920   0.4461443\n",
       "purpose     2 0.512867004 56        75.66633   0.7738064\n",
       "interest    1 0.006950776 55        75.65938   0.9335563"
      ]
     },
     "metadata": {},
     "output_type": "display_data"
    }
   ],
   "source": [
    "model <- glm(t2_4 ~ definition + need + purpose \n",
    "              + interest, data =survey2, family = binomial)\n",
    "summary(model)\n",
    "\n",
    "\n",
    "anova(model, test=\"Chisq\")"
   ]
  },
  {
   "cell_type": "code",
   "execution_count": 23,
   "metadata": {},
   "outputs": [
    {
     "data": {
      "text/plain": [
       "\n",
       "Call:\n",
       "glm(formula = t2_5 ~ definition + need + purpose + interest, \n",
       "    family = binomial, data = survey2)\n",
       "\n",
       "Deviance Residuals: \n",
       "    Min       1Q   Median       3Q      Max  \n",
       "-0.9694  -0.7370  -0.5808  -0.4617   2.1034  \n",
       "\n",
       "Coefficients:\n",
       "                  Estimate Std. Error z value Pr(>|z|)  \n",
       "(Intercept)        -2.3643     1.3241  -1.786   0.0742 .\n",
       "definitionharmony  -0.2227     0.9225  -0.241   0.8092  \n",
       "needharmony         0.8862     0.8272   1.071   0.2840  \n",
       "purposecosmetic     0.1049     0.9146   0.115   0.9087  \n",
       "purposeetc          0.4309     0.8421   0.512   0.6088  \n",
       "interest            0.1340     0.3158   0.424   0.6713  \n",
       "---\n",
       "Signif. codes:  0 '***' 0.001 '**' 0.01 '*' 0.05 '.' 0.1 ' ' 1\n",
       "\n",
       "(Dispersion parameter for binomial family taken to be 1)\n",
       "\n",
       "    Null deviance: 63.203  on 60  degrees of freedom\n",
       "Residual deviance: 60.873  on 55  degrees of freedom\n",
       "AIC: 72.873\n",
       "\n",
       "Number of Fisher Scoring iterations: 4\n"
      ]
     },
     "metadata": {},
     "output_type": "display_data"
    },
    {
     "data": {
      "text/html": [
       "<table>\n",
       "<thead><tr><th></th><th scope=col>Df</th><th scope=col>Deviance</th><th scope=col>Resid. Df</th><th scope=col>Resid. Dev</th><th scope=col>Pr(&gt;Chi)</th></tr></thead>\n",
       "<tbody>\n",
       "\t<tr><th scope=row>NULL</th><td>NA       </td><td>       NA</td><td>60       </td><td>63.20263 </td><td>       NA</td></tr>\n",
       "\t<tr><th scope=row>definition</th><td> 1       </td><td>0.3404185</td><td>59       </td><td>62.86221 </td><td>0.5595877</td></tr>\n",
       "\t<tr><th scope=row>need</th><td> 1       </td><td>1.2462918</td><td>58       </td><td>61.61592 </td><td>0.2642619</td></tr>\n",
       "\t<tr><th scope=row>purpose</th><td> 2       </td><td>0.5602128</td><td>56       </td><td>61.05571 </td><td>0.7557033</td></tr>\n",
       "\t<tr><th scope=row>interest</th><td> 1       </td><td>0.1826139</td><td>55       </td><td>60.87309 </td><td>0.6691364</td></tr>\n",
       "</tbody>\n",
       "</table>\n"
      ],
      "text/latex": [
       "\\begin{tabular}{r|lllll}\n",
       "  & Df & Deviance & Resid. Df & Resid. Dev & Pr(>Chi)\\\\\n",
       "\\hline\n",
       "\tNULL & NA        &        NA & 60        & 63.20263  &        NA\\\\\n",
       "\tdefinition &  1        & 0.3404185 & 59        & 62.86221  & 0.5595877\\\\\n",
       "\tneed &  1        & 1.2462918 & 58        & 61.61592  & 0.2642619\\\\\n",
       "\tpurpose &  2        & 0.5602128 & 56        & 61.05571  & 0.7557033\\\\\n",
       "\tinterest &  1        & 0.1826139 & 55        & 60.87309  & 0.6691364\\\\\n",
       "\\end{tabular}\n"
      ],
      "text/markdown": [
       "\n",
       "| <!--/--> | Df | Deviance | Resid. Df | Resid. Dev | Pr(>Chi) |\n",
       "|---|---|---|---|---|---|\n",
       "| NULL | NA        |        NA | 60        | 63.20263  |        NA |\n",
       "| definition |  1        | 0.3404185 | 59        | 62.86221  | 0.5595877 |\n",
       "| need |  1        | 1.2462918 | 58        | 61.61592  | 0.2642619 |\n",
       "| purpose |  2        | 0.5602128 | 56        | 61.05571  | 0.7557033 |\n",
       "| interest |  1        | 0.1826139 | 55        | 60.87309  | 0.6691364 |\n",
       "\n"
      ],
      "text/plain": [
       "           Df Deviance  Resid. Df Resid. Dev Pr(>Chi) \n",
       "NULL       NA        NA 60        63.20263          NA\n",
       "definition  1 0.3404185 59        62.86221   0.5595877\n",
       "need        1 1.2462918 58        61.61592   0.2642619\n",
       "purpose     2 0.5602128 56        61.05571   0.7557033\n",
       "interest    1 0.1826139 55        60.87309   0.6691364"
      ]
     },
     "metadata": {},
     "output_type": "display_data"
    }
   ],
   "source": [
    "model <- glm(t2_5 ~ definition + need + purpose \n",
    "              + interest, data =survey2, family = binomial)\n",
    "summary(model)\n",
    "\n",
    "\n",
    "anova(model, test=\"Chisq\")"
   ]
  },
  {
   "cell_type": "code",
   "execution_count": 24,
   "metadata": {},
   "outputs": [
    {
     "data": {
      "text/plain": [
       "\n",
       "Call:\n",
       "glm(formula = d1_1 ~ definition + need + purpose + interest, \n",
       "    family = binomial, data = survey2)\n",
       "\n",
       "Deviance Residuals: \n",
       "    Min       1Q   Median       3Q      Max  \n",
       "-0.8892  -0.5435  -0.4218  -0.2662   2.2521  \n",
       "\n",
       "Coefficients:\n",
       "                  Estimate Std. Error z value Pr(>|z|)\n",
       "(Intercept)        -2.0668     1.5720  -1.315    0.189\n",
       "definitionharmony  -0.7937     1.2648  -0.628    0.530\n",
       "needharmony         1.5255     1.2642   1.207    0.228\n",
       "purposecosmetic     0.7652     1.0320   0.742    0.458\n",
       "purposeetc         -0.3488     1.1380  -0.307    0.759\n",
       "interest           -0.1539     0.3937  -0.391    0.696\n",
       "\n",
       "(Dispersion parameter for binomial family taken to be 1)\n",
       "\n",
       "    Null deviance: 43.474  on 60  degrees of freedom\n",
       "Residual deviance: 40.485  on 55  degrees of freedom\n",
       "AIC: 52.485\n",
       "\n",
       "Number of Fisher Scoring iterations: 5\n"
      ]
     },
     "metadata": {},
     "output_type": "display_data"
    },
    {
     "data": {
      "text/html": [
       "<table>\n",
       "<thead><tr><th></th><th scope=col>Df</th><th scope=col>Deviance</th><th scope=col>Resid. Df</th><th scope=col>Resid. Dev</th><th scope=col>Pr(&gt;Chi)</th></tr></thead>\n",
       "<tbody>\n",
       "\t<tr><th scope=row>NULL</th><td>NA         </td><td>         NA</td><td>60         </td><td>43.47359   </td><td>       NA  </td></tr>\n",
       "\t<tr><th scope=row>definition</th><td> 1         </td><td>0.003354177</td><td>59         </td><td>43.47024   </td><td>0.9538161  </td></tr>\n",
       "\t<tr><th scope=row>need</th><td> 1         </td><td>1.419477249</td><td>58         </td><td>42.05076   </td><td>0.2334895  </td></tr>\n",
       "\t<tr><th scope=row>purpose</th><td> 2         </td><td>1.414303868</td><td>56         </td><td>40.63646   </td><td>0.4930464  </td></tr>\n",
       "\t<tr><th scope=row>interest</th><td> 1         </td><td>0.151796555</td><td>55         </td><td>40.48466   </td><td>0.6968244  </td></tr>\n",
       "</tbody>\n",
       "</table>\n"
      ],
      "text/latex": [
       "\\begin{tabular}{r|lllll}\n",
       "  & Df & Deviance & Resid. Df & Resid. Dev & Pr(>Chi)\\\\\n",
       "\\hline\n",
       "\tNULL & NA          &          NA & 60          & 43.47359    &        NA  \\\\\n",
       "\tdefinition &  1          & 0.003354177 & 59          & 43.47024    & 0.9538161  \\\\\n",
       "\tneed &  1          & 1.419477249 & 58          & 42.05076    & 0.2334895  \\\\\n",
       "\tpurpose &  2          & 1.414303868 & 56          & 40.63646    & 0.4930464  \\\\\n",
       "\tinterest &  1          & 0.151796555 & 55          & 40.48466    & 0.6968244  \\\\\n",
       "\\end{tabular}\n"
      ],
      "text/markdown": [
       "\n",
       "| <!--/--> | Df | Deviance | Resid. Df | Resid. Dev | Pr(>Chi) |\n",
       "|---|---|---|---|---|---|\n",
       "| NULL | NA          |          NA | 60          | 43.47359    |        NA   |\n",
       "| definition |  1          | 0.003354177 | 59          | 43.47024    | 0.9538161   |\n",
       "| need |  1          | 1.419477249 | 58          | 42.05076    | 0.2334895   |\n",
       "| purpose |  2          | 1.414303868 | 56          | 40.63646    | 0.4930464   |\n",
       "| interest |  1          | 0.151796555 | 55          | 40.48466    | 0.6968244   |\n",
       "\n"
      ],
      "text/plain": [
       "           Df Deviance    Resid. Df Resid. Dev Pr(>Chi) \n",
       "NULL       NA          NA 60        43.47359          NA\n",
       "definition  1 0.003354177 59        43.47024   0.9538161\n",
       "need        1 1.419477249 58        42.05076   0.2334895\n",
       "purpose     2 1.414303868 56        40.63646   0.4930464\n",
       "interest    1 0.151796555 55        40.48466   0.6968244"
      ]
     },
     "metadata": {},
     "output_type": "display_data"
    }
   ],
   "source": [
    "model <- glm(d1_1 ~ definition + need + purpose \n",
    "              + interest, data =survey2, family = binomial)\n",
    "summary(model)\n",
    "\n",
    "\n",
    "anova(model, test=\"Chisq\")"
   ]
  },
  {
   "cell_type": "code",
   "execution_count": 25,
   "metadata": {},
   "outputs": [
    {
     "data": {
      "text/plain": [
       "\n",
       "Call:\n",
       "glm(formula = d1_2 ~ definition + need + purpose + interest, \n",
       "    family = binomial, data = survey2)\n",
       "\n",
       "Deviance Residuals: \n",
       "    Min       1Q   Median       3Q      Max  \n",
       "-1.6353  -0.9095  -0.6060   1.0817   1.8896  \n",
       "\n",
       "Coefficients:\n",
       "                  Estimate Std. Error z value Pr(>|z|)\n",
       "(Intercept)         1.5111     1.1444   1.320    0.187\n",
       "definitionharmony  -0.3426     0.7353  -0.466    0.641\n",
       "needharmony        -0.6999     0.6871  -1.019    0.308\n",
       "purposecosmetic    -0.8983     0.7220  -1.244    0.213\n",
       "purposeetc         -1.1132     0.7197  -1.547    0.122\n",
       "interest           -0.2393     0.2848  -0.840    0.401\n",
       "\n",
       "(Dispersion parameter for binomial family taken to be 1)\n",
       "\n",
       "    Null deviance: 79.763  on 60  degrees of freedom\n",
       "Residual deviance: 72.194  on 55  degrees of freedom\n",
       "AIC: 84.194\n",
       "\n",
       "Number of Fisher Scoring iterations: 4\n"
      ]
     },
     "metadata": {},
     "output_type": "display_data"
    },
    {
     "data": {
      "text/html": [
       "<table>\n",
       "<thead><tr><th></th><th scope=col>Df</th><th scope=col>Deviance</th><th scope=col>Resid. Df</th><th scope=col>Resid. Dev</th><th scope=col>Pr(&gt;Chi)</th></tr></thead>\n",
       "<tbody>\n",
       "\t<tr><th scope=row>NULL</th><td>NA       </td><td>       NA</td><td>60       </td><td>79.76294 </td><td>       NA</td></tr>\n",
       "\t<tr><th scope=row>definition</th><td> 1       </td><td>2.1069528</td><td>59       </td><td>77.65598 </td><td>0.1466310</td></tr>\n",
       "\t<tr><th scope=row>need</th><td> 1       </td><td>0.8126943</td><td>58       </td><td>76.84329 </td><td>0.3673249</td></tr>\n",
       "\t<tr><th scope=row>purpose</th><td> 2       </td><td>3.9411769</td><td>56       </td><td>72.90211 </td><td>0.1393748</td></tr>\n",
       "\t<tr><th scope=row>interest</th><td> 1       </td><td>0.7078322</td><td>55       </td><td>72.19428 </td><td>0.4001644</td></tr>\n",
       "</tbody>\n",
       "</table>\n"
      ],
      "text/latex": [
       "\\begin{tabular}{r|lllll}\n",
       "  & Df & Deviance & Resid. Df & Resid. Dev & Pr(>Chi)\\\\\n",
       "\\hline\n",
       "\tNULL & NA        &        NA & 60        & 79.76294  &        NA\\\\\n",
       "\tdefinition &  1        & 2.1069528 & 59        & 77.65598  & 0.1466310\\\\\n",
       "\tneed &  1        & 0.8126943 & 58        & 76.84329  & 0.3673249\\\\\n",
       "\tpurpose &  2        & 3.9411769 & 56        & 72.90211  & 0.1393748\\\\\n",
       "\tinterest &  1        & 0.7078322 & 55        & 72.19428  & 0.4001644\\\\\n",
       "\\end{tabular}\n"
      ],
      "text/markdown": [
       "\n",
       "| <!--/--> | Df | Deviance | Resid. Df | Resid. Dev | Pr(>Chi) |\n",
       "|---|---|---|---|---|---|\n",
       "| NULL | NA        |        NA | 60        | 79.76294  |        NA |\n",
       "| definition |  1        | 2.1069528 | 59        | 77.65598  | 0.1466310 |\n",
       "| need |  1        | 0.8126943 | 58        | 76.84329  | 0.3673249 |\n",
       "| purpose |  2        | 3.9411769 | 56        | 72.90211  | 0.1393748 |\n",
       "| interest |  1        | 0.7078322 | 55        | 72.19428  | 0.4001644 |\n",
       "\n"
      ],
      "text/plain": [
       "           Df Deviance  Resid. Df Resid. Dev Pr(>Chi) \n",
       "NULL       NA        NA 60        79.76294          NA\n",
       "definition  1 2.1069528 59        77.65598   0.1466310\n",
       "need        1 0.8126943 58        76.84329   0.3673249\n",
       "purpose     2 3.9411769 56        72.90211   0.1393748\n",
       "interest    1 0.7078322 55        72.19428   0.4001644"
      ]
     },
     "metadata": {},
     "output_type": "display_data"
    }
   ],
   "source": [
    "model <- glm(d1_2 ~ definition + need + purpose \n",
    "              + interest, data =survey2, family = binomial)\n",
    "summary(model)\n",
    "\n",
    "\n",
    "anova(model, test=\"Chisq\")"
   ]
  },
  {
   "cell_type": "code",
   "execution_count": 26,
   "metadata": {},
   "outputs": [
    {
     "data": {
      "text/plain": [
       "\n",
       "Call:\n",
       "glm(formula = d1_3 ~ definition + need + purpose + interest, \n",
       "    family = binomial, data = survey2)\n",
       "\n",
       "Deviance Residuals: \n",
       "     Min        1Q    Median        3Q       Max  \n",
       "-0.85229  -0.50651  -0.00006  -0.00004   2.14132  \n",
       "\n",
       "Coefficients:\n",
       "                    Estimate Std. Error z value Pr(>|z|)\n",
       "(Intercept)        -20.73237 4106.12552  -0.005    0.996\n",
       "definitionharmony   -0.37889    1.43707  -0.264    0.792\n",
       "needharmony         -0.58673    1.19676  -0.490    0.624\n",
       "purposecosmetic     -0.08949 5901.76353   0.000    1.000\n",
       "purposeetc          18.91958 4106.12506   0.005    0.996\n",
       "interest             0.19742    0.58692   0.336    0.737\n",
       "\n",
       "(Dispersion parameter for binomial family taken to be 1)\n",
       "\n",
       "    Null deviance: 29.528  on 60  degrees of freedom\n",
       "Residual deviance: 21.632  on 55  degrees of freedom\n",
       "AIC: 33.632\n",
       "\n",
       "Number of Fisher Scoring iterations: 19\n"
      ]
     },
     "metadata": {},
     "output_type": "display_data"
    },
    {
     "data": {
      "text/html": [
       "<table>\n",
       "<thead><tr><th></th><th scope=col>Df</th><th scope=col>Deviance</th><th scope=col>Resid. Df</th><th scope=col>Resid. Dev</th><th scope=col>Pr(&gt;Chi)</th></tr></thead>\n",
       "<tbody>\n",
       "\t<tr><th scope=row>NULL</th><td>NA        </td><td>        NA</td><td>60        </td><td>29.52841  </td><td>        NA</td></tr>\n",
       "\t<tr><th scope=row>definition</th><td> 1        </td><td>0.04310253</td><td>59        </td><td>29.48531  </td><td>0.83553233</td></tr>\n",
       "\t<tr><th scope=row>need</th><td> 1        </td><td>0.11141901</td><td>58        </td><td>29.37389  </td><td>0.73853436</td></tr>\n",
       "\t<tr><th scope=row>purpose</th><td> 2        </td><td>7.62464123</td><td>56        </td><td>21.74925  </td><td>0.02209684</td></tr>\n",
       "\t<tr><th scope=row>interest</th><td> 1        </td><td>0.11735474</td><td>55        </td><td>21.63189  </td><td>0.73192138</td></tr>\n",
       "</tbody>\n",
       "</table>\n"
      ],
      "text/latex": [
       "\\begin{tabular}{r|lllll}\n",
       "  & Df & Deviance & Resid. Df & Resid. Dev & Pr(>Chi)\\\\\n",
       "\\hline\n",
       "\tNULL & NA         &         NA & 60         & 29.52841   &         NA\\\\\n",
       "\tdefinition &  1         & 0.04310253 & 59         & 29.48531   & 0.83553233\\\\\n",
       "\tneed &  1         & 0.11141901 & 58         & 29.37389   & 0.73853436\\\\\n",
       "\tpurpose &  2         & 7.62464123 & 56         & 21.74925   & 0.02209684\\\\\n",
       "\tinterest &  1         & 0.11735474 & 55         & 21.63189   & 0.73192138\\\\\n",
       "\\end{tabular}\n"
      ],
      "text/markdown": [
       "\n",
       "| <!--/--> | Df | Deviance | Resid. Df | Resid. Dev | Pr(>Chi) |\n",
       "|---|---|---|---|---|---|\n",
       "| NULL | NA         |         NA | 60         | 29.52841   |         NA |\n",
       "| definition |  1         | 0.04310253 | 59         | 29.48531   | 0.83553233 |\n",
       "| need |  1         | 0.11141901 | 58         | 29.37389   | 0.73853436 |\n",
       "| purpose |  2         | 7.62464123 | 56         | 21.74925   | 0.02209684 |\n",
       "| interest |  1         | 0.11735474 | 55         | 21.63189   | 0.73192138 |\n",
       "\n"
      ],
      "text/plain": [
       "           Df Deviance   Resid. Df Resid. Dev Pr(>Chi)  \n",
       "NULL       NA         NA 60        29.52841           NA\n",
       "definition  1 0.04310253 59        29.48531   0.83553233\n",
       "need        1 0.11141901 58        29.37389   0.73853436\n",
       "purpose     2 7.62464123 56        21.74925   0.02209684\n",
       "interest    1 0.11735474 55        21.63189   0.73192138"
      ]
     },
     "metadata": {},
     "output_type": "display_data"
    }
   ],
   "source": [
    "model <- glm(d1_3 ~ definition + need + purpose \n",
    "              + interest, data =survey2, family = binomial)\n",
    "summary(model)\n",
    "\n",
    "\n",
    "anova(model, test=\"Chisq\")"
   ]
  },
  {
   "cell_type": "code",
   "execution_count": 27,
   "metadata": {},
   "outputs": [
    {
     "data": {
      "text/plain": [
       "\n",
       "Call:\n",
       "glm(formula = d1_5 ~ definition + need + purpose + interest, \n",
       "    family = binomial, data = survey2)\n",
       "\n",
       "Deviance Residuals: \n",
       "    Min       1Q   Median       3Q      Max  \n",
       "-1.3318  -0.9651  -0.3520   1.1349   2.1164  \n",
       "\n",
       "Coefficients:\n",
       "                  Estimate Std. Error z value Pr(>|z|)   \n",
       "(Intercept)        -4.2219     1.5569  -2.712  0.00669 **\n",
       "definitionharmony   2.1396     1.1671   1.833  0.06676 . \n",
       "needharmony         0.3433     0.7067   0.486  0.62717   \n",
       "purposecosmetic     0.4518     0.9132   0.495  0.62078   \n",
       "purposeetc          0.8199     0.8178   1.002  0.31611   \n",
       "interest            0.2550     0.2970   0.859  0.39049   \n",
       "---\n",
       "Signif. codes:  0 '***' 0.001 '**' 0.01 '*' 0.05 '.' 0.1 ' ' 1\n",
       "\n",
       "(Dispersion parameter for binomial family taken to be 1)\n",
       "\n",
       "    Null deviance: 74.010  on 60  degrees of freedom\n",
       "Residual deviance: 62.576  on 55  degrees of freedom\n",
       "AIC: 74.576\n",
       "\n",
       "Number of Fisher Scoring iterations: 5\n"
      ]
     },
     "metadata": {},
     "output_type": "display_data"
    },
    {
     "data": {
      "text/html": [
       "<table>\n",
       "<thead><tr><th></th><th scope=col>Df</th><th scope=col>Deviance</th><th scope=col>Resid. Df</th><th scope=col>Resid. Dev</th><th scope=col>Pr(&gt;Chi)</th></tr></thead>\n",
       "<tbody>\n",
       "\t<tr><th scope=row>NULL</th><td>NA         </td><td>       NA  </td><td>60         </td><td>74.01002   </td><td>         NA</td></tr>\n",
       "\t<tr><th scope=row>definition</th><td> 1         </td><td>8.5729523  </td><td>59         </td><td>65.43707   </td><td>0.003411935</td></tr>\n",
       "\t<tr><th scope=row>need</th><td> 1         </td><td>0.1867567  </td><td>58         </td><td>65.25031   </td><td>0.665629837</td></tr>\n",
       "\t<tr><th scope=row>purpose</th><td> 2         </td><td>1.9157003  </td><td>56         </td><td>63.33461   </td><td>0.383716940</td></tr>\n",
       "\t<tr><th scope=row>interest</th><td> 1         </td><td>0.7586859  </td><td>55         </td><td>62.57592   </td><td>0.383740065</td></tr>\n",
       "</tbody>\n",
       "</table>\n"
      ],
      "text/latex": [
       "\\begin{tabular}{r|lllll}\n",
       "  & Df & Deviance & Resid. Df & Resid. Dev & Pr(>Chi)\\\\\n",
       "\\hline\n",
       "\tNULL & NA          &        NA   & 60          & 74.01002    &          NA\\\\\n",
       "\tdefinition &  1          & 8.5729523   & 59          & 65.43707    & 0.003411935\\\\\n",
       "\tneed &  1          & 0.1867567   & 58          & 65.25031    & 0.665629837\\\\\n",
       "\tpurpose &  2          & 1.9157003   & 56          & 63.33461    & 0.383716940\\\\\n",
       "\tinterest &  1          & 0.7586859   & 55          & 62.57592    & 0.383740065\\\\\n",
       "\\end{tabular}\n"
      ],
      "text/markdown": [
       "\n",
       "| <!--/--> | Df | Deviance | Resid. Df | Resid. Dev | Pr(>Chi) |\n",
       "|---|---|---|---|---|---|\n",
       "| NULL | NA          |        NA   | 60          | 74.01002    |          NA |\n",
       "| definition |  1          | 8.5729523   | 59          | 65.43707    | 0.003411935 |\n",
       "| need |  1          | 0.1867567   | 58          | 65.25031    | 0.665629837 |\n",
       "| purpose |  2          | 1.9157003   | 56          | 63.33461    | 0.383716940 |\n",
       "| interest |  1          | 0.7586859   | 55          | 62.57592    | 0.383740065 |\n",
       "\n"
      ],
      "text/plain": [
       "           Df Deviance  Resid. Df Resid. Dev Pr(>Chi)   \n",
       "NULL       NA        NA 60        74.01002            NA\n",
       "definition  1 8.5729523 59        65.43707   0.003411935\n",
       "need        1 0.1867567 58        65.25031   0.665629837\n",
       "purpose     2 1.9157003 56        63.33461   0.383716940\n",
       "interest    1 0.7586859 55        62.57592   0.383740065"
      ]
     },
     "metadata": {},
     "output_type": "display_data"
    }
   ],
   "source": [
    "model <- glm(d1_5 ~ definition + need + purpose \n",
    "              + interest, data =survey2, family = binomial)\n",
    "summary(model)\n",
    "\n",
    "\n",
    "anova(model, test=\"Chisq\")"
   ]
  },
  {
   "cell_type": "code",
   "execution_count": 28,
   "metadata": {},
   "outputs": [
    {
     "data": {
      "text/plain": [
       "\n",
       "Call:\n",
       "glm(formula = d2_1 ~ definition + need + purpose + interest, \n",
       "    family = binomial, data = survey2)\n",
       "\n",
       "Deviance Residuals: \n",
       "    Min       1Q   Median       3Q      Max  \n",
       "-1.0265  -0.4206  -0.2920  -0.1463   2.2925  \n",
       "\n",
       "Coefficients:\n",
       "                  Estimate Std. Error z value Pr(>|z|)  \n",
       "(Intercept)        -5.4032     2.4388  -2.216   0.0267 *\n",
       "definitionharmony   0.1971     1.2692   0.155   0.8766  \n",
       "needharmony        -0.3912     1.2231  -0.320   0.7491  \n",
       "purposecosmetic    -0.1721     1.1264  -0.153   0.8786  \n",
       "purposeetc         -1.9577     1.4351  -1.364   0.1725  \n",
       "interest            1.0075     0.6010   1.676   0.0937 .\n",
       "---\n",
       "Signif. codes:  0 '***' 0.001 '**' 0.01 '*' 0.05 '.' 0.1 ' ' 1\n",
       "\n",
       "(Dispersion parameter for binomial family taken to be 1)\n",
       "\n",
       "    Null deviance: 34.593  on 60  degrees of freedom\n",
       "Residual deviance: 29.764  on 55  degrees of freedom\n",
       "AIC: 41.764\n",
       "\n",
       "Number of Fisher Scoring iterations: 6\n"
      ]
     },
     "metadata": {},
     "output_type": "display_data"
    },
    {
     "data": {
      "text/html": [
       "<table>\n",
       "<thead><tr><th></th><th scope=col>Df</th><th scope=col>Deviance</th><th scope=col>Resid. Df</th><th scope=col>Resid. Dev</th><th scope=col>Pr(&gt;Chi)</th></tr></thead>\n",
       "<tbody>\n",
       "\t<tr><th scope=row>NULL</th><td>NA        </td><td>       NA </td><td>60        </td><td>34.59284  </td><td>        NA</td></tr>\n",
       "\t<tr><th scope=row>definition</th><td> 1        </td><td>0.2737076 </td><td>59        </td><td>34.31914  </td><td>0.60085545</td></tr>\n",
       "\t<tr><th scope=row>need</th><td> 1        </td><td>0.1969150 </td><td>58        </td><td>34.12222  </td><td>0.65722260</td></tr>\n",
       "\t<tr><th scope=row>purpose</th><td> 2        </td><td>0.9825414 </td><td>56        </td><td>33.13968  </td><td>0.61184841</td></tr>\n",
       "\t<tr><th scope=row>interest</th><td> 1        </td><td>3.3753575 </td><td>55        </td><td>29.76432  </td><td>0.06617822</td></tr>\n",
       "</tbody>\n",
       "</table>\n"
      ],
      "text/latex": [
       "\\begin{tabular}{r|lllll}\n",
       "  & Df & Deviance & Resid. Df & Resid. Dev & Pr(>Chi)\\\\\n",
       "\\hline\n",
       "\tNULL & NA         &        NA  & 60         & 34.59284   &         NA\\\\\n",
       "\tdefinition &  1         & 0.2737076  & 59         & 34.31914   & 0.60085545\\\\\n",
       "\tneed &  1         & 0.1969150  & 58         & 34.12222   & 0.65722260\\\\\n",
       "\tpurpose &  2         & 0.9825414  & 56         & 33.13968   & 0.61184841\\\\\n",
       "\tinterest &  1         & 3.3753575  & 55         & 29.76432   & 0.06617822\\\\\n",
       "\\end{tabular}\n"
      ],
      "text/markdown": [
       "\n",
       "| <!--/--> | Df | Deviance | Resid. Df | Resid. Dev | Pr(>Chi) |\n",
       "|---|---|---|---|---|---|\n",
       "| NULL | NA         |        NA  | 60         | 34.59284   |         NA |\n",
       "| definition |  1         | 0.2737076  | 59         | 34.31914   | 0.60085545 |\n",
       "| need |  1         | 0.1969150  | 58         | 34.12222   | 0.65722260 |\n",
       "| purpose |  2         | 0.9825414  | 56         | 33.13968   | 0.61184841 |\n",
       "| interest |  1         | 3.3753575  | 55         | 29.76432   | 0.06617822 |\n",
       "\n"
      ],
      "text/plain": [
       "           Df Deviance  Resid. Df Resid. Dev Pr(>Chi)  \n",
       "NULL       NA        NA 60        34.59284           NA\n",
       "definition  1 0.2737076 59        34.31914   0.60085545\n",
       "need        1 0.1969150 58        34.12222   0.65722260\n",
       "purpose     2 0.9825414 56        33.13968   0.61184841\n",
       "interest    1 3.3753575 55        29.76432   0.06617822"
      ]
     },
     "metadata": {},
     "output_type": "display_data"
    }
   ],
   "source": [
    "model <- glm(d2_1 ~ definition + need + purpose \n",
    "              + interest, data =survey2, family = binomial)\n",
    "summary(model)\n",
    "\n",
    "\n",
    "anova(model, test=\"Chisq\")"
   ]
  },
  {
   "cell_type": "code",
   "execution_count": 29,
   "metadata": {},
   "outputs": [
    {
     "data": {
      "text/plain": [
       "\n",
       "Call:\n",
       "glm(formula = d2_2 ~ definition + need + purpose + interest, \n",
       "    family = binomial, data = survey2)\n",
       "\n",
       "Deviance Residuals: \n",
       "    Min       1Q   Median       3Q      Max  \n",
       "-1.1442  -0.8797  -0.7225   1.2963   2.0322  \n",
       "\n",
       "Coefficients:\n",
       "                  Estimate Std. Error z value Pr(>|z|)\n",
       "(Intercept)        -1.1237     1.1202  -1.003    0.316\n",
       "definitionharmony  -0.2259     0.7707  -0.293    0.769\n",
       "needharmony         0.5422     0.7159   0.757    0.449\n",
       "purposecosmetic    -0.1582     0.7118  -0.222    0.824\n",
       "purposeetc         -0.9346     0.7401  -1.263    0.207\n",
       "interest            0.1774     0.2852   0.622    0.534\n",
       "\n",
       "(Dispersion parameter for binomial family taken to be 1)\n",
       "\n",
       "    Null deviance: 75.674  on 60  degrees of freedom\n",
       "Residual deviance: 73.308  on 55  degrees of freedom\n",
       "AIC: 85.308\n",
       "\n",
       "Number of Fisher Scoring iterations: 4\n"
      ]
     },
     "metadata": {},
     "output_type": "display_data"
    },
    {
     "data": {
      "text/html": [
       "<table>\n",
       "<thead><tr><th></th><th scope=col>Df</th><th scope=col>Deviance</th><th scope=col>Resid. Df</th><th scope=col>Resid. Dev</th><th scope=col>Pr(&gt;Chi)</th></tr></thead>\n",
       "<tbody>\n",
       "\t<tr><th scope=row>NULL</th><td>NA        </td><td>        NA</td><td>60        </td><td>75.67368  </td><td>       NA </td></tr>\n",
       "\t<tr><th scope=row>definition</th><td> 1        </td><td>0.05648847</td><td>59        </td><td>75.61719  </td><td>0.8121347 </td></tr>\n",
       "\t<tr><th scope=row>need</th><td> 1        </td><td>0.42380394</td><td>58        </td><td>75.19339  </td><td>0.5150450 </td></tr>\n",
       "\t<tr><th scope=row>purpose</th><td> 2        </td><td>1.49130097</td><td>56        </td><td>73.70209  </td><td>0.4744256 </td></tr>\n",
       "\t<tr><th scope=row>interest</th><td> 1        </td><td>0.39391479</td><td>55        </td><td>73.30817  </td><td>0.5302488 </td></tr>\n",
       "</tbody>\n",
       "</table>\n"
      ],
      "text/latex": [
       "\\begin{tabular}{r|lllll}\n",
       "  & Df & Deviance & Resid. Df & Resid. Dev & Pr(>Chi)\\\\\n",
       "\\hline\n",
       "\tNULL & NA         &         NA & 60         & 75.67368   &        NA \\\\\n",
       "\tdefinition &  1         & 0.05648847 & 59         & 75.61719   & 0.8121347 \\\\\n",
       "\tneed &  1         & 0.42380394 & 58         & 75.19339   & 0.5150450 \\\\\n",
       "\tpurpose &  2         & 1.49130097 & 56         & 73.70209   & 0.4744256 \\\\\n",
       "\tinterest &  1         & 0.39391479 & 55         & 73.30817   & 0.5302488 \\\\\n",
       "\\end{tabular}\n"
      ],
      "text/markdown": [
       "\n",
       "| <!--/--> | Df | Deviance | Resid. Df | Resid. Dev | Pr(>Chi) |\n",
       "|---|---|---|---|---|---|\n",
       "| NULL | NA         |         NA | 60         | 75.67368   |        NA  |\n",
       "| definition |  1         | 0.05648847 | 59         | 75.61719   | 0.8121347  |\n",
       "| need |  1         | 0.42380394 | 58         | 75.19339   | 0.5150450  |\n",
       "| purpose |  2         | 1.49130097 | 56         | 73.70209   | 0.4744256  |\n",
       "| interest |  1         | 0.39391479 | 55         | 73.30817   | 0.5302488  |\n",
       "\n"
      ],
      "text/plain": [
       "           Df Deviance   Resid. Df Resid. Dev Pr(>Chi) \n",
       "NULL       NA         NA 60        75.67368          NA\n",
       "definition  1 0.05648847 59        75.61719   0.8121347\n",
       "need        1 0.42380394 58        75.19339   0.5150450\n",
       "purpose     2 1.49130097 56        73.70209   0.4744256\n",
       "interest    1 0.39391479 55        73.30817   0.5302488"
      ]
     },
     "metadata": {},
     "output_type": "display_data"
    }
   ],
   "source": [
    "model <- glm(d2_2 ~ definition + need + purpose \n",
    "              + interest, data =survey2, family = binomial)\n",
    "summary(model)\n",
    "\n",
    "\n",
    "anova(model, test=\"Chisq\")"
   ]
  },
  {
   "cell_type": "code",
   "execution_count": 30,
   "metadata": {},
   "outputs": [
    {
     "data": {
      "text/plain": [
       "\n",
       "Call:\n",
       "glm(formula = d2_3 ~ definition + need + purpose + interest, \n",
       "    family = binomial, data = survey2)\n",
       "\n",
       "Deviance Residuals: \n",
       "    Min       1Q   Median       3Q      Max  \n",
       "-1.2782  -0.6434  -0.4679  -0.2596   2.1781  \n",
       "\n",
       "Coefficients:\n",
       "                  Estimate Std. Error z value Pr(>|z|)  \n",
       "(Intercept)        -3.7252     1.7671  -2.108    0.035 *\n",
       "definitionharmony   1.5864     1.0492   1.512    0.131  \n",
       "needharmony        -1.2990     0.8426  -1.542    0.123  \n",
       "purposecosmetic     2.0206     1.1956   1.690    0.091 .\n",
       "purposeetc          0.9290     1.2269   0.757    0.449  \n",
       "interest            0.1173     0.3692   0.318    0.751  \n",
       "---\n",
       "Signif. codes:  0 '***' 0.001 '**' 0.01 '*' 0.05 '.' 0.1 ' ' 1\n",
       "\n",
       "(Dispersion parameter for binomial family taken to be 1)\n",
       "\n",
       "    Null deviance: 54.429  on 60  degrees of freedom\n",
       "Residual deviance: 47.328  on 55  degrees of freedom\n",
       "AIC: 59.328\n",
       "\n",
       "Number of Fisher Scoring iterations: 5\n"
      ]
     },
     "metadata": {},
     "output_type": "display_data"
    },
    {
     "data": {
      "text/html": [
       "<table>\n",
       "<thead><tr><th></th><th scope=col>Df</th><th scope=col>Deviance</th><th scope=col>Resid. Df</th><th scope=col>Resid. Dev</th><th scope=col>Pr(&gt;Chi)</th></tr></thead>\n",
       "<tbody>\n",
       "\t<tr><th scope=row>NULL</th><td>NA       </td><td>       NA</td><td>60       </td><td>54.42870 </td><td>       NA</td></tr>\n",
       "\t<tr><th scope=row>definition</th><td> 1       </td><td>0.5529586</td><td>59       </td><td>53.87574 </td><td>0.4571113</td></tr>\n",
       "\t<tr><th scope=row>need</th><td> 1       </td><td>2.5427406</td><td>58       </td><td>51.33300 </td><td>0.1108023</td></tr>\n",
       "\t<tr><th scope=row>purpose</th><td> 2       </td><td>3.9031874</td><td>56       </td><td>47.42981 </td><td>0.1420475</td></tr>\n",
       "\t<tr><th scope=row>interest</th><td> 1       </td><td>0.1022284</td><td>55       </td><td>47.32758 </td><td>0.7491716</td></tr>\n",
       "</tbody>\n",
       "</table>\n"
      ],
      "text/latex": [
       "\\begin{tabular}{r|lllll}\n",
       "  & Df & Deviance & Resid. Df & Resid. Dev & Pr(>Chi)\\\\\n",
       "\\hline\n",
       "\tNULL & NA        &        NA & 60        & 54.42870  &        NA\\\\\n",
       "\tdefinition &  1        & 0.5529586 & 59        & 53.87574  & 0.4571113\\\\\n",
       "\tneed &  1        & 2.5427406 & 58        & 51.33300  & 0.1108023\\\\\n",
       "\tpurpose &  2        & 3.9031874 & 56        & 47.42981  & 0.1420475\\\\\n",
       "\tinterest &  1        & 0.1022284 & 55        & 47.32758  & 0.7491716\\\\\n",
       "\\end{tabular}\n"
      ],
      "text/markdown": [
       "\n",
       "| <!--/--> | Df | Deviance | Resid. Df | Resid. Dev | Pr(>Chi) |\n",
       "|---|---|---|---|---|---|\n",
       "| NULL | NA        |        NA | 60        | 54.42870  |        NA |\n",
       "| definition |  1        | 0.5529586 | 59        | 53.87574  | 0.4571113 |\n",
       "| need |  1        | 2.5427406 | 58        | 51.33300  | 0.1108023 |\n",
       "| purpose |  2        | 3.9031874 | 56        | 47.42981  | 0.1420475 |\n",
       "| interest |  1        | 0.1022284 | 55        | 47.32758  | 0.7491716 |\n",
       "\n"
      ],
      "text/plain": [
       "           Df Deviance  Resid. Df Resid. Dev Pr(>Chi) \n",
       "NULL       NA        NA 60        54.42870          NA\n",
       "definition  1 0.5529586 59        53.87574   0.4571113\n",
       "need        1 2.5427406 58        51.33300   0.1108023\n",
       "purpose     2 3.9031874 56        47.42981   0.1420475\n",
       "interest    1 0.1022284 55        47.32758   0.7491716"
      ]
     },
     "metadata": {},
     "output_type": "display_data"
    }
   ],
   "source": [
    "model <- glm(d2_3 ~ definition + need + purpose \n",
    "              + interest, data =survey2, family = binomial)\n",
    "summary(model)\n",
    "\n",
    "\n",
    "anova(model, test=\"Chisq\")"
   ]
  },
  {
   "cell_type": "code",
   "execution_count": 31,
   "metadata": {},
   "outputs": [
    {
     "data": {
      "text/plain": [
       "\n",
       "Call:\n",
       "glm(formula = d2_4 ~ definition + need + purpose + interest, \n",
       "    family = binomial, data = survey2)\n",
       "\n",
       "Deviance Residuals: \n",
       "    Min       1Q   Median       3Q      Max  \n",
       "-1.4732  -0.9155  -0.6327   1.1614   1.8152  \n",
       "\n",
       "Coefficients:\n",
       "                  Estimate Std. Error z value Pr(>|z|)\n",
       "(Intercept)         0.5763     1.1394   0.506    0.613\n",
       "definitionharmony  -0.1200     0.7750  -0.155    0.877\n",
       "needharmony         0.1934     0.6859   0.282    0.778\n",
       "purposecosmetic    -0.7576     0.8271  -0.916    0.360\n",
       "purposeetc          0.9071     0.7283   1.245    0.213\n",
       "interest           -0.4419     0.2918  -1.514    0.130\n",
       "\n",
       "(Dispersion parameter for binomial family taken to be 1)\n",
       "\n",
       "    Null deviance: 78.546  on 60  degrees of freedom\n",
       "Residual deviance: 71.944  on 55  degrees of freedom\n",
       "AIC: 83.944\n",
       "\n",
       "Number of Fisher Scoring iterations: 4\n"
      ]
     },
     "metadata": {},
     "output_type": "display_data"
    },
    {
     "data": {
      "text/html": [
       "<table>\n",
       "<thead><tr><th></th><th scope=col>Df</th><th scope=col>Deviance</th><th scope=col>Resid. Df</th><th scope=col>Resid. Dev</th><th scope=col>Pr(&gt;Chi)</th></tr></thead>\n",
       "<tbody>\n",
       "\t<tr><th scope=row>NULL</th><td>NA       </td><td>       NA</td><td>60       </td><td>78.54631 </td><td>       NA</td></tr>\n",
       "\t<tr><th scope=row>definition</th><td> 1       </td><td>0.5108118</td><td>59       </td><td>78.03550 </td><td>0.4747877</td></tr>\n",
       "\t<tr><th scope=row>need</th><td> 1       </td><td>0.3507867</td><td>58       </td><td>77.68471 </td><td>0.5536681</td></tr>\n",
       "\t<tr><th scope=row>purpose</th><td> 2       </td><td>3.3123077</td><td>56       </td><td>74.37241 </td><td>0.1908717</td></tr>\n",
       "\t<tr><th scope=row>interest</th><td> 1       </td><td>2.4280033</td><td>55       </td><td>71.94440 </td><td>0.1191846</td></tr>\n",
       "</tbody>\n",
       "</table>\n"
      ],
      "text/latex": [
       "\\begin{tabular}{r|lllll}\n",
       "  & Df & Deviance & Resid. Df & Resid. Dev & Pr(>Chi)\\\\\n",
       "\\hline\n",
       "\tNULL & NA        &        NA & 60        & 78.54631  &        NA\\\\\n",
       "\tdefinition &  1        & 0.5108118 & 59        & 78.03550  & 0.4747877\\\\\n",
       "\tneed &  1        & 0.3507867 & 58        & 77.68471  & 0.5536681\\\\\n",
       "\tpurpose &  2        & 3.3123077 & 56        & 74.37241  & 0.1908717\\\\\n",
       "\tinterest &  1        & 2.4280033 & 55        & 71.94440  & 0.1191846\\\\\n",
       "\\end{tabular}\n"
      ],
      "text/markdown": [
       "\n",
       "| <!--/--> | Df | Deviance | Resid. Df | Resid. Dev | Pr(>Chi) |\n",
       "|---|---|---|---|---|---|\n",
       "| NULL | NA        |        NA | 60        | 78.54631  |        NA |\n",
       "| definition |  1        | 0.5108118 | 59        | 78.03550  | 0.4747877 |\n",
       "| need |  1        | 0.3507867 | 58        | 77.68471  | 0.5536681 |\n",
       "| purpose |  2        | 3.3123077 | 56        | 74.37241  | 0.1908717 |\n",
       "| interest |  1        | 2.4280033 | 55        | 71.94440  | 0.1191846 |\n",
       "\n"
      ],
      "text/plain": [
       "           Df Deviance  Resid. Df Resid. Dev Pr(>Chi) \n",
       "NULL       NA        NA 60        78.54631          NA\n",
       "definition  1 0.5108118 59        78.03550   0.4747877\n",
       "need        1 0.3507867 58        77.68471   0.5536681\n",
       "purpose     2 3.3123077 56        74.37241   0.1908717\n",
       "interest    1 2.4280033 55        71.94440   0.1191846"
      ]
     },
     "metadata": {},
     "output_type": "display_data"
    }
   ],
   "source": [
    "model <- glm(d2_4 ~ definition + need + purpose \n",
    "              + interest, data =survey2, family = binomial)\n",
    "summary(model)\n",
    "\n",
    "\n",
    "anova(model, test=\"Chisq\")"
   ]
  },
  {
   "cell_type": "code",
   "execution_count": 32,
   "metadata": {},
   "outputs": [
    {
     "data": {
      "text/plain": [
       "\n",
       "Call:\n",
       "glm(formula = d2_5 ~ definition + need + purpose + interest, \n",
       "    family = binomial, data = survey2)\n",
       "\n",
       "Deviance Residuals: \n",
       "    Min       1Q   Median       3Q      Max  \n",
       "-0.8904  -0.4836  -0.3945  -0.2697   2.2464  \n",
       "\n",
       "Coefficients:\n",
       "                  Estimate Std. Error z value Pr(>|z|)\n",
       "(Intercept)        -0.8610     1.7082  -0.504    0.614\n",
       "definitionharmony  -1.5800     1.1822  -1.336    0.181\n",
       "needharmony         0.4290     1.1526   0.372    0.710\n",
       "purposecosmetic    -0.6615     1.3063  -0.506    0.613\n",
       "purposeetc          0.5662     1.1215   0.505    0.614\n",
       "interest           -0.2137     0.4549  -0.470    0.638\n",
       "\n",
       "(Dispersion parameter for binomial family taken to be 1)\n",
       "\n",
       "    Null deviance: 39.219  on 60  degrees of freedom\n",
       "Residual deviance: 36.675  on 55  degrees of freedom\n",
       "AIC: 48.675\n",
       "\n",
       "Number of Fisher Scoring iterations: 5\n"
      ]
     },
     "metadata": {},
     "output_type": "display_data"
    },
    {
     "data": {
      "text/html": [
       "<table>\n",
       "<thead><tr><th></th><th scope=col>Df</th><th scope=col>Deviance</th><th scope=col>Resid. Df</th><th scope=col>Resid. Dev</th><th scope=col>Pr(&gt;Chi)</th></tr></thead>\n",
       "<tbody>\n",
       "\t<tr><th scope=row>NULL</th><td>NA       </td><td>       NA</td><td>60       </td><td>39.21885 </td><td>       NA</td></tr>\n",
       "\t<tr><th scope=row>definition</th><td> 1       </td><td>1.2374640</td><td>59       </td><td>37.98138 </td><td>0.2659604</td></tr>\n",
       "\t<tr><th scope=row>need</th><td> 1       </td><td>0.3228154</td><td>58       </td><td>37.65857 </td><td>0.5699206</td></tr>\n",
       "\t<tr><th scope=row>purpose</th><td> 2       </td><td>0.7646059</td><td>56       </td><td>36.89396 </td><td>0.6822883</td></tr>\n",
       "\t<tr><th scope=row>interest</th><td> 1       </td><td>0.2191376</td><td>55       </td><td>36.67482 </td><td>0.6396978</td></tr>\n",
       "</tbody>\n",
       "</table>\n"
      ],
      "text/latex": [
       "\\begin{tabular}{r|lllll}\n",
       "  & Df & Deviance & Resid. Df & Resid. Dev & Pr(>Chi)\\\\\n",
       "\\hline\n",
       "\tNULL & NA        &        NA & 60        & 39.21885  &        NA\\\\\n",
       "\tdefinition &  1        & 1.2374640 & 59        & 37.98138  & 0.2659604\\\\\n",
       "\tneed &  1        & 0.3228154 & 58        & 37.65857  & 0.5699206\\\\\n",
       "\tpurpose &  2        & 0.7646059 & 56        & 36.89396  & 0.6822883\\\\\n",
       "\tinterest &  1        & 0.2191376 & 55        & 36.67482  & 0.6396978\\\\\n",
       "\\end{tabular}\n"
      ],
      "text/markdown": [
       "\n",
       "| <!--/--> | Df | Deviance | Resid. Df | Resid. Dev | Pr(>Chi) |\n",
       "|---|---|---|---|---|---|\n",
       "| NULL | NA        |        NA | 60        | 39.21885  |        NA |\n",
       "| definition |  1        | 1.2374640 | 59        | 37.98138  | 0.2659604 |\n",
       "| need |  1        | 0.3228154 | 58        | 37.65857  | 0.5699206 |\n",
       "| purpose |  2        | 0.7646059 | 56        | 36.89396  | 0.6822883 |\n",
       "| interest |  1        | 0.2191376 | 55        | 36.67482  | 0.6396978 |\n",
       "\n"
      ],
      "text/plain": [
       "           Df Deviance  Resid. Df Resid. Dev Pr(>Chi) \n",
       "NULL       NA        NA 60        39.21885          NA\n",
       "definition  1 1.2374640 59        37.98138   0.2659604\n",
       "need        1 0.3228154 58        37.65857   0.5699206\n",
       "purpose     2 0.7646059 56        36.89396   0.6822883\n",
       "interest    1 0.2191376 55        36.67482   0.6396978"
      ]
     },
     "metadata": {},
     "output_type": "display_data"
    }
   ],
   "source": [
    "model <- glm(d2_5 ~ definition + need + purpose \n",
    "              + interest, data =survey2, family = binomial)\n",
    "summary(model)\n",
    "\n",
    "\n",
    "anova(model, test=\"Chisq\")"
   ]
  },
  {
   "cell_type": "code",
   "execution_count": 33,
   "metadata": {},
   "outputs": [
    {
     "data": {
      "text/plain": [
       "\n",
       "Call:\n",
       "glm(formula = d3_1 ~ definition + need + purpose + interest, \n",
       "    family = binomial, data = survey2)\n",
       "\n",
       "Deviance Residuals: \n",
       "    Min       1Q   Median       3Q      Max  \n",
       "-1.5038  -0.8098  -0.4885   0.9612   2.0852  \n",
       "\n",
       "Coefficients:\n",
       "                  Estimate Std. Error z value Pr(>|z|)  \n",
       "(Intercept)         1.7412     1.2449   1.399   0.1619  \n",
       "definitionharmony  -0.2084     0.7749  -0.269   0.7880  \n",
       "needharmony        -1.2317     0.7559  -1.629   0.1032  \n",
       "purposecosmetic    -1.0330     0.7616  -1.356   0.1750  \n",
       "purposeetc         -1.3542     0.7907  -1.713   0.0868 .\n",
       "interest           -0.3334     0.3133  -1.064   0.2872  \n",
       "---\n",
       "Signif. codes:  0 '***' 0.001 '**' 0.01 '*' 0.05 '.' 0.1 ' ' 1\n",
       "\n",
       "(Dispersion parameter for binomial family taken to be 1)\n",
       "\n",
       "    Null deviance: 74.010  on 60  degrees of freedom\n",
       "Residual deviance: 63.016  on 55  degrees of freedom\n",
       "AIC: 75.016\n",
       "\n",
       "Number of Fisher Scoring iterations: 4\n"
      ]
     },
     "metadata": {},
     "output_type": "display_data"
    },
    {
     "data": {
      "text/html": [
       "<table>\n",
       "<thead><tr><th></th><th scope=col>Df</th><th scope=col>Deviance</th><th scope=col>Resid. Df</th><th scope=col>Resid. Dev</th><th scope=col>Pr(&gt;Chi)</th></tr></thead>\n",
       "<tbody>\n",
       "\t<tr><th scope=row>NULL</th><td>NA        </td><td>      NA  </td><td>60        </td><td>74.01002  </td><td>        NA</td></tr>\n",
       "\t<tr><th scope=row>definition</th><td> 1        </td><td>2.637392  </td><td>59        </td><td>71.37263  </td><td>0.10437473</td></tr>\n",
       "\t<tr><th scope=row>need</th><td> 1        </td><td>2.144520  </td><td>58        </td><td>69.22811  </td><td>0.14307981</td></tr>\n",
       "\t<tr><th scope=row>purpose</th><td> 2        </td><td>5.070754  </td><td>56        </td><td>64.15735  </td><td>0.07923186</td></tr>\n",
       "\t<tr><th scope=row>interest</th><td> 1        </td><td>1.141400  </td><td>55        </td><td>63.01595  </td><td>0.28535667</td></tr>\n",
       "</tbody>\n",
       "</table>\n"
      ],
      "text/latex": [
       "\\begin{tabular}{r|lllll}\n",
       "  & Df & Deviance & Resid. Df & Resid. Dev & Pr(>Chi)\\\\\n",
       "\\hline\n",
       "\tNULL & NA         &       NA   & 60         & 74.01002   &         NA\\\\\n",
       "\tdefinition &  1         & 2.637392   & 59         & 71.37263   & 0.10437473\\\\\n",
       "\tneed &  1         & 2.144520   & 58         & 69.22811   & 0.14307981\\\\\n",
       "\tpurpose &  2         & 5.070754   & 56         & 64.15735   & 0.07923186\\\\\n",
       "\tinterest &  1         & 1.141400   & 55         & 63.01595   & 0.28535667\\\\\n",
       "\\end{tabular}\n"
      ],
      "text/markdown": [
       "\n",
       "| <!--/--> | Df | Deviance | Resid. Df | Resid. Dev | Pr(>Chi) |\n",
       "|---|---|---|---|---|---|\n",
       "| NULL | NA         |       NA   | 60         | 74.01002   |         NA |\n",
       "| definition |  1         | 2.637392   | 59         | 71.37263   | 0.10437473 |\n",
       "| need |  1         | 2.144520   | 58         | 69.22811   | 0.14307981 |\n",
       "| purpose |  2         | 5.070754   | 56         | 64.15735   | 0.07923186 |\n",
       "| interest |  1         | 1.141400   | 55         | 63.01595   | 0.28535667 |\n",
       "\n"
      ],
      "text/plain": [
       "           Df Deviance Resid. Df Resid. Dev Pr(>Chi)  \n",
       "NULL       NA       NA 60        74.01002           NA\n",
       "definition  1 2.637392 59        71.37263   0.10437473\n",
       "need        1 2.144520 58        69.22811   0.14307981\n",
       "purpose     2 5.070754 56        64.15735   0.07923186\n",
       "interest    1 1.141400 55        63.01595   0.28535667"
      ]
     },
     "metadata": {},
     "output_type": "display_data"
    }
   ],
   "source": [
    "model <- glm(d3_1 ~ definition + need + purpose \n",
    "              + interest, data =survey2, family = binomial)\n",
    "summary(model)\n",
    "\n",
    "\n",
    "anova(model, test=\"Chisq\")"
   ]
  },
  {
   "cell_type": "code",
   "execution_count": 34,
   "metadata": {},
   "outputs": [
    {
     "data": {
      "text/plain": [
       "\n",
       "Call:\n",
       "glm(formula = d3_2 ~ definition + need + purpose + interest, \n",
       "    family = binomial, data = survey2)\n",
       "\n",
       "Deviance Residuals: \n",
       "    Min       1Q   Median       3Q      Max  \n",
       "-1.2145  -0.6748  -0.4318  -0.2783   2.3065  \n",
       "\n",
       "Coefficients:\n",
       "                  Estimate Std. Error z value Pr(>|z|)\n",
       "(Intercept)        -2.1439     1.5973  -1.342    0.180\n",
       "definitionharmony   0.6051     1.2646   0.478    0.632\n",
       "needharmony         0.9812     0.9630   1.019    0.308\n",
       "purposecosmetic     0.3010     1.1140   0.270    0.787\n",
       "purposeetc          1.0071     0.9844   1.023    0.306\n",
       "interest           -0.3627     0.3379  -1.073    0.283\n",
       "\n",
       "(Dispersion parameter for binomial family taken to be 1)\n",
       "\n",
       "    Null deviance: 54.429  on 60  degrees of freedom\n",
       "Residual deviance: 48.610  on 55  degrees of freedom\n",
       "AIC: 60.61\n",
       "\n",
       "Number of Fisher Scoring iterations: 5\n"
      ]
     },
     "metadata": {},
     "output_type": "display_data"
    },
    {
     "data": {
      "text/html": [
       "<table>\n",
       "<thead><tr><th></th><th scope=col>Df</th><th scope=col>Deviance</th><th scope=col>Resid. Df</th><th scope=col>Resid. Dev</th><th scope=col>Pr(&gt;Chi)</th></tr></thead>\n",
       "<tbody>\n",
       "\t<tr><th scope=row>NULL</th><td>NA       </td><td>       NA</td><td>60       </td><td>54.42870 </td><td>       NA</td></tr>\n",
       "\t<tr><th scope=row>definition</th><td> 1       </td><td>2.5839136</td><td>59       </td><td>51.84478 </td><td>0.1079545</td></tr>\n",
       "\t<tr><th scope=row>need</th><td> 1       </td><td>1.3987827</td><td>58       </td><td>50.44600 </td><td>0.2369275</td></tr>\n",
       "\t<tr><th scope=row>purpose</th><td> 2       </td><td>0.6663811</td><td>56       </td><td>49.77962 </td><td>0.7166336</td></tr>\n",
       "\t<tr><th scope=row>interest</th><td> 1       </td><td>1.1699149</td><td>55       </td><td>48.60970 </td><td>0.2794187</td></tr>\n",
       "</tbody>\n",
       "</table>\n"
      ],
      "text/latex": [
       "\\begin{tabular}{r|lllll}\n",
       "  & Df & Deviance & Resid. Df & Resid. Dev & Pr(>Chi)\\\\\n",
       "\\hline\n",
       "\tNULL & NA        &        NA & 60        & 54.42870  &        NA\\\\\n",
       "\tdefinition &  1        & 2.5839136 & 59        & 51.84478  & 0.1079545\\\\\n",
       "\tneed &  1        & 1.3987827 & 58        & 50.44600  & 0.2369275\\\\\n",
       "\tpurpose &  2        & 0.6663811 & 56        & 49.77962  & 0.7166336\\\\\n",
       "\tinterest &  1        & 1.1699149 & 55        & 48.60970  & 0.2794187\\\\\n",
       "\\end{tabular}\n"
      ],
      "text/markdown": [
       "\n",
       "| <!--/--> | Df | Deviance | Resid. Df | Resid. Dev | Pr(>Chi) |\n",
       "|---|---|---|---|---|---|\n",
       "| NULL | NA        |        NA | 60        | 54.42870  |        NA |\n",
       "| definition |  1        | 2.5839136 | 59        | 51.84478  | 0.1079545 |\n",
       "| need |  1        | 1.3987827 | 58        | 50.44600  | 0.2369275 |\n",
       "| purpose |  2        | 0.6663811 | 56        | 49.77962  | 0.7166336 |\n",
       "| interest |  1        | 1.1699149 | 55        | 48.60970  | 0.2794187 |\n",
       "\n"
      ],
      "text/plain": [
       "           Df Deviance  Resid. Df Resid. Dev Pr(>Chi) \n",
       "NULL       NA        NA 60        54.42870          NA\n",
       "definition  1 2.5839136 59        51.84478   0.1079545\n",
       "need        1 1.3987827 58        50.44600   0.2369275\n",
       "purpose     2 0.6663811 56        49.77962   0.7166336\n",
       "interest    1 1.1699149 55        48.60970   0.2794187"
      ]
     },
     "metadata": {},
     "output_type": "display_data"
    }
   ],
   "source": [
    "model <- glm(d3_2 ~ definition + need + purpose \n",
    "              + interest, data =survey2, family = binomial)\n",
    "summary(model)\n",
    "\n",
    "\n",
    "anova(model, test=\"Chisq\")"
   ]
  },
  {
   "cell_type": "code",
   "execution_count": 35,
   "metadata": {},
   "outputs": [
    {
     "data": {
      "text/plain": [
       "\n",
       "Call:\n",
       "glm(formula = d3_3 ~ definition + need + purpose + interest, \n",
       "    family = binomial, data = survey2)\n",
       "\n",
       "Deviance Residuals: \n",
       "    Min       1Q   Median       3Q      Max  \n",
       "-1.3856  -0.6444  -0.4725  -0.2587   2.1069  \n",
       "\n",
       "Coefficients:\n",
       "                  Estimate Std. Error z value Pr(>|z|)   \n",
       "(Intercept)       -4.92424    1.73268  -2.842  0.00448 **\n",
       "definitionharmony  1.67433    1.02141   1.639  0.10116   \n",
       "needharmony       -0.76886    0.78773  -0.976  0.32904   \n",
       "purposecosmetic    1.17478    0.96752   1.214  0.22467   \n",
       "purposeetc        -0.03174    0.99099  -0.032  0.97445   \n",
       "interest           0.63806    0.38210   1.670  0.09495 . \n",
       "---\n",
       "Signif. codes:  0 '***' 0.001 '**' 0.01 '*' 0.05 '.' 0.1 ' ' 1\n",
       "\n",
       "(Dispersion parameter for binomial family taken to be 1)\n",
       "\n",
       "    Null deviance: 60.490  on 60  degrees of freedom\n",
       "Residual deviance: 52.831  on 55  degrees of freedom\n",
       "AIC: 64.831\n",
       "\n",
       "Number of Fisher Scoring iterations: 5\n"
      ]
     },
     "metadata": {},
     "output_type": "display_data"
    },
    {
     "data": {
      "text/html": [
       "<table>\n",
       "<thead><tr><th></th><th scope=col>Df</th><th scope=col>Deviance</th><th scope=col>Resid. Df</th><th scope=col>Resid. Dev</th><th scope=col>Pr(&gt;Chi)</th></tr></thead>\n",
       "<tbody>\n",
       "\t<tr><th scope=row>NULL</th><td>NA        </td><td>      NA  </td><td>60        </td><td>60.49046  </td><td>        NA</td></tr>\n",
       "\t<tr><th scope=row>definition</th><td> 1        </td><td>1.290498  </td><td>59        </td><td>59.19996  </td><td>0.25595617</td></tr>\n",
       "\t<tr><th scope=row>need</th><td> 1        </td><td>1.156259  </td><td>58        </td><td>58.04371  </td><td>0.28224280</td></tr>\n",
       "\t<tr><th scope=row>purpose</th><td> 2        </td><td>2.027692  </td><td>56        </td><td>56.01601  </td><td>0.36282096</td></tr>\n",
       "\t<tr><th scope=row>interest</th><td> 1        </td><td>3.184568  </td><td>55        </td><td>52.83145  </td><td>0.07433663</td></tr>\n",
       "</tbody>\n",
       "</table>\n"
      ],
      "text/latex": [
       "\\begin{tabular}{r|lllll}\n",
       "  & Df & Deviance & Resid. Df & Resid. Dev & Pr(>Chi)\\\\\n",
       "\\hline\n",
       "\tNULL & NA         &       NA   & 60         & 60.49046   &         NA\\\\\n",
       "\tdefinition &  1         & 1.290498   & 59         & 59.19996   & 0.25595617\\\\\n",
       "\tneed &  1         & 1.156259   & 58         & 58.04371   & 0.28224280\\\\\n",
       "\tpurpose &  2         & 2.027692   & 56         & 56.01601   & 0.36282096\\\\\n",
       "\tinterest &  1         & 3.184568   & 55         & 52.83145   & 0.07433663\\\\\n",
       "\\end{tabular}\n"
      ],
      "text/markdown": [
       "\n",
       "| <!--/--> | Df | Deviance | Resid. Df | Resid. Dev | Pr(>Chi) |\n",
       "|---|---|---|---|---|---|\n",
       "| NULL | NA         |       NA   | 60         | 60.49046   |         NA |\n",
       "| definition |  1         | 1.290498   | 59         | 59.19996   | 0.25595617 |\n",
       "| need |  1         | 1.156259   | 58         | 58.04371   | 0.28224280 |\n",
       "| purpose |  2         | 2.027692   | 56         | 56.01601   | 0.36282096 |\n",
       "| interest |  1         | 3.184568   | 55         | 52.83145   | 0.07433663 |\n",
       "\n"
      ],
      "text/plain": [
       "           Df Deviance Resid. Df Resid. Dev Pr(>Chi)  \n",
       "NULL       NA       NA 60        60.49046           NA\n",
       "definition  1 1.290498 59        59.19996   0.25595617\n",
       "need        1 1.156259 58        58.04371   0.28224280\n",
       "purpose     2 2.027692 56        56.01601   0.36282096\n",
       "interest    1 3.184568 55        52.83145   0.07433663"
      ]
     },
     "metadata": {},
     "output_type": "display_data"
    }
   ],
   "source": [
    "model <- glm(d3_3 ~ definition + need + purpose \n",
    "              + interest, data =survey2, family = binomial)\n",
    "summary(model)\n",
    "\n",
    "\n",
    "anova(model, test=\"Chisq\")"
   ]
  },
  {
   "cell_type": "code",
   "execution_count": 36,
   "metadata": {},
   "outputs": [
    {
     "name": "stderr",
     "output_type": "stream",
     "text": [
      "Warning message:\n",
      "\"glm.fit: fitted probabilities numerically 0 or 1 occurred\""
     ]
    },
    {
     "data": {
      "text/plain": [
       "\n",
       "Call:\n",
       "glm(formula = d3_4 ~ definition + need + purpose + interest, \n",
       "    family = binomial, data = survey2)\n",
       "\n",
       "Deviance Residuals: \n",
       "     Min        1Q    Median        3Q       Max  \n",
       "-0.96643  -0.45879  -0.00005   0.00000   2.58845  \n",
       "\n",
       "Coefficients:\n",
       "                   Estimate Std. Error z value Pr(>|z|)\n",
       "(Intercept)        -37.9258  6825.5141  -0.006    0.996\n",
       "definitionharmony  -20.2122  4421.7319  -0.005    0.996\n",
       "needharmony         18.7379  4421.7319   0.004    0.997\n",
       "purposecosmetic     34.6521  6825.5138   0.005    0.996\n",
       "purposeetc          35.9733  6825.5138   0.005    0.996\n",
       "interest             0.3584     0.6232   0.575    0.565\n",
       "\n",
       "(Dispersion parameter for binomial family taken to be 1)\n",
       "\n",
       "    Null deviance: 34.593  on 60  degrees of freedom\n",
       "Residual deviance: 21.738  on 55  degrees of freedom\n",
       "AIC: 33.738\n",
       "\n",
       "Number of Fisher Scoring iterations: 20\n"
      ]
     },
     "metadata": {},
     "output_type": "display_data"
    },
    {
     "name": "stderr",
     "output_type": "stream",
     "text": [
      "Warning message:\n",
      "\"glm.fit: fitted probabilities numerically 0 or 1 occurred\""
     ]
    },
    {
     "data": {
      "text/html": [
       "<table>\n",
       "<thead><tr><th></th><th scope=col>Df</th><th scope=col>Deviance</th><th scope=col>Resid. Df</th><th scope=col>Resid. Dev</th><th scope=col>Pr(&gt;Chi)</th></tr></thead>\n",
       "<tbody>\n",
       "\t<tr><th scope=row>NULL</th><td>NA        </td><td>       NA </td><td>60        </td><td>34.59284  </td><td>        NA</td></tr>\n",
       "\t<tr><th scope=row>definition</th><td> 1        </td><td>2.1949277 </td><td>59        </td><td>32.39792  </td><td>0.13846571</td></tr>\n",
       "\t<tr><th scope=row>need</th><td> 1        </td><td>2.5340784 </td><td>58        </td><td>29.86384  </td><td>0.11141192</td></tr>\n",
       "\t<tr><th scope=row>purpose</th><td> 2        </td><td>7.7755414 </td><td>56        </td><td>22.08830  </td><td>0.02049098</td></tr>\n",
       "\t<tr><th scope=row>interest</th><td> 1        </td><td>0.3505368 </td><td>55        </td><td>21.73776  </td><td>0.55380940</td></tr>\n",
       "</tbody>\n",
       "</table>\n"
      ],
      "text/latex": [
       "\\begin{tabular}{r|lllll}\n",
       "  & Df & Deviance & Resid. Df & Resid. Dev & Pr(>Chi)\\\\\n",
       "\\hline\n",
       "\tNULL & NA         &        NA  & 60         & 34.59284   &         NA\\\\\n",
       "\tdefinition &  1         & 2.1949277  & 59         & 32.39792   & 0.13846571\\\\\n",
       "\tneed &  1         & 2.5340784  & 58         & 29.86384   & 0.11141192\\\\\n",
       "\tpurpose &  2         & 7.7755414  & 56         & 22.08830   & 0.02049098\\\\\n",
       "\tinterest &  1         & 0.3505368  & 55         & 21.73776   & 0.55380940\\\\\n",
       "\\end{tabular}\n"
      ],
      "text/markdown": [
       "\n",
       "| <!--/--> | Df | Deviance | Resid. Df | Resid. Dev | Pr(>Chi) |\n",
       "|---|---|---|---|---|---|\n",
       "| NULL | NA         |        NA  | 60         | 34.59284   |         NA |\n",
       "| definition |  1         | 2.1949277  | 59         | 32.39792   | 0.13846571 |\n",
       "| need |  1         | 2.5340784  | 58         | 29.86384   | 0.11141192 |\n",
       "| purpose |  2         | 7.7755414  | 56         | 22.08830   | 0.02049098 |\n",
       "| interest |  1         | 0.3505368  | 55         | 21.73776   | 0.55380940 |\n",
       "\n"
      ],
      "text/plain": [
       "           Df Deviance  Resid. Df Resid. Dev Pr(>Chi)  \n",
       "NULL       NA        NA 60        34.59284           NA\n",
       "definition  1 2.1949277 59        32.39792   0.13846571\n",
       "need        1 2.5340784 58        29.86384   0.11141192\n",
       "purpose     2 7.7755414 56        22.08830   0.02049098\n",
       "interest    1 0.3505368 55        21.73776   0.55380940"
      ]
     },
     "metadata": {},
     "output_type": "display_data"
    }
   ],
   "source": [
    "model <- glm(d3_4 ~ definition + need + purpose \n",
    "              + interest, data =survey2, family = binomial)\n",
    "summary(model)\n",
    "\n",
    "\n",
    "anova(model, test=\"Chisq\")"
   ]
  },
  {
   "cell_type": "code",
   "execution_count": 37,
   "metadata": {},
   "outputs": [
    {
     "data": {
      "text/plain": [
       "\n",
       "Call:\n",
       "glm(formula = d3_5 ~ definition + need + purpose + interest, \n",
       "    family = binomial, data = survey2)\n",
       "\n",
       "Deviance Residuals: \n",
       "    Min       1Q   Median       3Q      Max  \n",
       "-0.8908  -0.8414  -0.6991   1.4942   1.8011  \n",
       "\n",
       "Coefficients:\n",
       "                   Estimate Std. Error z value Pr(>|z|)\n",
       "(Intercept)       -1.243015   1.165884  -1.066    0.286\n",
       "definitionharmony  0.038073   0.818388   0.047    0.963\n",
       "needharmony        0.447255   0.727295   0.615    0.539\n",
       "purposecosmetic   -0.187566   0.786438  -0.239    0.811\n",
       "purposeetc        -0.127192   0.750179  -0.170    0.865\n",
       "interest           0.009553   0.288176   0.033    0.974\n",
       "\n",
       "(Dispersion parameter for binomial family taken to be 1)\n",
       "\n",
       "    Null deviance: 70.204  on 60  degrees of freedom\n",
       "Residual deviance: 69.521  on 55  degrees of freedom\n",
       "AIC: 81.521\n",
       "\n",
       "Number of Fisher Scoring iterations: 4\n"
      ]
     },
     "metadata": {},
     "output_type": "display_data"
    },
    {
     "data": {
      "text/html": [
       "<table>\n",
       "<thead><tr><th></th><th scope=col>Df</th><th scope=col>Deviance</th><th scope=col>Resid. Df</th><th scope=col>Resid. Dev</th><th scope=col>Pr(&gt;Chi)</th></tr></thead>\n",
       "<tbody>\n",
       "\t<tr><th scope=row>NULL</th><td>NA         </td><td>         NA</td><td>60         </td><td>70.20415   </td><td>       NA  </td></tr>\n",
       "\t<tr><th scope=row>definition</th><td> 1         </td><td>0.216481395</td><td>59         </td><td>69.98767   </td><td>0.6417341  </td></tr>\n",
       "\t<tr><th scope=row>need</th><td> 1         </td><td>0.406905887</td><td>58         </td><td>69.58076   </td><td>0.5235441  </td></tr>\n",
       "\t<tr><th scope=row>purpose</th><td> 2         </td><td>0.058963038</td><td>56         </td><td>69.52180   </td><td>0.9709488  </td></tr>\n",
       "\t<tr><th scope=row>interest</th><td> 1         </td><td>0.001099579</td><td>55         </td><td>69.52070   </td><td>0.9735471  </td></tr>\n",
       "</tbody>\n",
       "</table>\n"
      ],
      "text/latex": [
       "\\begin{tabular}{r|lllll}\n",
       "  & Df & Deviance & Resid. Df & Resid. Dev & Pr(>Chi)\\\\\n",
       "\\hline\n",
       "\tNULL & NA          &          NA & 60          & 70.20415    &        NA  \\\\\n",
       "\tdefinition &  1          & 0.216481395 & 59          & 69.98767    & 0.6417341  \\\\\n",
       "\tneed &  1          & 0.406905887 & 58          & 69.58076    & 0.5235441  \\\\\n",
       "\tpurpose &  2          & 0.058963038 & 56          & 69.52180    & 0.9709488  \\\\\n",
       "\tinterest &  1          & 0.001099579 & 55          & 69.52070    & 0.9735471  \\\\\n",
       "\\end{tabular}\n"
      ],
      "text/markdown": [
       "\n",
       "| <!--/--> | Df | Deviance | Resid. Df | Resid. Dev | Pr(>Chi) |\n",
       "|---|---|---|---|---|---|\n",
       "| NULL | NA          |          NA | 60          | 70.20415    |        NA   |\n",
       "| definition |  1          | 0.216481395 | 59          | 69.98767    | 0.6417341   |\n",
       "| need |  1          | 0.406905887 | 58          | 69.58076    | 0.5235441   |\n",
       "| purpose |  2          | 0.058963038 | 56          | 69.52180    | 0.9709488   |\n",
       "| interest |  1          | 0.001099579 | 55          | 69.52070    | 0.9735471   |\n",
       "\n"
      ],
      "text/plain": [
       "           Df Deviance    Resid. Df Resid. Dev Pr(>Chi) \n",
       "NULL       NA          NA 60        70.20415          NA\n",
       "definition  1 0.216481395 59        69.98767   0.6417341\n",
       "need        1 0.406905887 58        69.58076   0.5235441\n",
       "purpose     2 0.058963038 56        69.52180   0.9709488\n",
       "interest    1 0.001099579 55        69.52070   0.9735471"
      ]
     },
     "metadata": {},
     "output_type": "display_data"
    }
   ],
   "source": [
    "model <- glm(d3_5 ~ definition + need + purpose \n",
    "              + interest, data =survey2, family = binomial)\n",
    "summary(model)\n",
    "\n",
    "\n",
    "anova(model, test=\"Chisq\")"
   ]
  },
  {
   "cell_type": "code",
   "execution_count": null,
   "metadata": {},
   "outputs": [],
   "source": []
  }
 ],
 "metadata": {
  "kernelspec": {
   "display_name": "R",
   "language": "R",
   "name": "ir"
  },
  "language_info": {
   "codemirror_mode": "r",
   "file_extension": ".r",
   "mimetype": "text/x-r-source",
   "name": "R",
   "pygments_lexer": "r",
   "version": "3.6.1"
  }
 },
 "nbformat": 4,
 "nbformat_minor": 4
}
