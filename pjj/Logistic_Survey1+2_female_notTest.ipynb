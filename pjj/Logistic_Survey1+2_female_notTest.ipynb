{
 "cells": [
  {
   "cell_type": "code",
   "execution_count": 1,
   "metadata": {
    "scrolled": true
   },
   "outputs": [
    {
     "name": "stderr",
     "output_type": "stream",
     "text": [
      "Warning message:\n",
      "\"package 'ROCR' was built under R version 3.6.3\"Loading required package: gplots\n",
      "Warning message:\n",
      "\"package 'gplots' was built under R version 3.6.3\"\n",
      "Attaching package: 'gplots'\n",
      "\n",
      "The following object is masked from 'package:stats':\n",
      "\n",
      "    lowess\n",
      "\n",
      "Warning message:\n",
      "\"package 'dplyr' was built under R version 3.6.3\"\n",
      "Attaching package: 'dplyr'\n",
      "\n",
      "The following objects are masked from 'package:stats':\n",
      "\n",
      "    filter, lag\n",
      "\n",
      "The following objects are masked from 'package:base':\n",
      "\n",
      "    intersect, setdiff, setequal, union\n",
      "\n"
     ]
    }
   ],
   "source": [
    "library(ROCR)\n",
    "library(dplyr)"
   ]
  },
  {
   "cell_type": "code",
   "execution_count": 2,
   "metadata": {},
   "outputs": [],
   "source": [
    "survey <- read.csv('전처리/survey.csv')"
   ]
  },
  {
   "cell_type": "code",
   "execution_count": 3,
   "metadata": {
    "scrolled": false
   },
   "outputs": [
    {
     "name": "stdout",
     "output_type": "stream",
     "text": [
      "'data.frame':\t213 obs. of  13 variables:\n",
      " $ X          : int  0 1 2 3 4 5 6 7 8 9 ...\n",
      " $ sex        : Factor w/ 2 levels \"Female\",\"Male\": 2 1 1 1 2 1 2 1 1 1 ...\n",
      " $ age_class  : int  20 20 20 20 20 20 20 20 30 30 ...\n",
      " $ definition : Factor w/ 2 levels \"bright\",\"harmony\": 2 1 1 1 2 1 1 1 2 2 ...\n",
      " $ need       : Factor w/ 2 levels \"bright\",\"harmony\": 2 2 1 1 2 1 2 1 2 1 ...\n",
      " $ purpose    : Factor w/ 3 levels \"clothes\",\"cosmetic\",..: 1 1 1 1 1 1 1 2 1 1 ...\n",
      " $ interest   : int  5 5 3 3 5 5 3 3 4 3 ...\n",
      " $ comp       : int  4 1 2 3 5 5 5 2 3 3 ...\n",
      " $ triangle1  : int  5 1 4 4 5 5 5 4 2 5 ...\n",
      " $ triangle2  : int  2 2 1 3 4 4 2 3 2 3 ...\n",
      " $ doubleness1: int  3 2 2 2 1 2 5 4 5 2 ...\n",
      " $ doubleness2: int  2 3 1 2 2 2 4 3 4 3 ...\n",
      " $ doubleness3: int  2 2 2 1 3 1 5 1 5 5 ...\n"
     ]
    },
    {
     "data": {
      "text/html": [
       "<table>\n",
       "<thead><tr><th scope=col>X</th><th scope=col>sex</th><th scope=col>age_class</th><th scope=col>definition</th><th scope=col>need</th><th scope=col>purpose</th><th scope=col>interest</th><th scope=col>comp</th><th scope=col>triangle1</th><th scope=col>triangle2</th><th scope=col>doubleness1</th><th scope=col>doubleness2</th><th scope=col>doubleness3</th></tr></thead>\n",
       "<tbody>\n",
       "\t<tr><td>0      </td><td>Male   </td><td>20     </td><td>harmony</td><td>harmony</td><td>clothes</td><td>5      </td><td>4      </td><td>5      </td><td>2      </td><td>3      </td><td>2      </td><td>2      </td></tr>\n",
       "\t<tr><td>1      </td><td>Female </td><td>20     </td><td>bright </td><td>harmony</td><td>clothes</td><td>5      </td><td>1      </td><td>1      </td><td>2      </td><td>2      </td><td>3      </td><td>2      </td></tr>\n",
       "\t<tr><td>2      </td><td>Female </td><td>20     </td><td>bright </td><td>bright </td><td>clothes</td><td>3      </td><td>2      </td><td>4      </td><td>1      </td><td>2      </td><td>1      </td><td>2      </td></tr>\n",
       "\t<tr><td>3      </td><td>Female </td><td>20     </td><td>bright </td><td>bright </td><td>clothes</td><td>3      </td><td>3      </td><td>4      </td><td>3      </td><td>2      </td><td>2      </td><td>1      </td></tr>\n",
       "\t<tr><td>4      </td><td>Male   </td><td>20     </td><td>harmony</td><td>harmony</td><td>clothes</td><td>5      </td><td>5      </td><td>5      </td><td>4      </td><td>1      </td><td>2      </td><td>3      </td></tr>\n",
       "\t<tr><td>5      </td><td>Female </td><td>20     </td><td>bright </td><td>bright </td><td>clothes</td><td>5      </td><td>5      </td><td>5      </td><td>4      </td><td>2      </td><td>2      </td><td>1      </td></tr>\n",
       "</tbody>\n",
       "</table>\n"
      ],
      "text/latex": [
       "\\begin{tabular}{r|lllllllllllll}\n",
       " X & sex & age\\_class & definition & need & purpose & interest & comp & triangle1 & triangle2 & doubleness1 & doubleness2 & doubleness3\\\\\n",
       "\\hline\n",
       "\t 0       & Male    & 20      & harmony & harmony & clothes & 5       & 4       & 5       & 2       & 3       & 2       & 2      \\\\\n",
       "\t 1       & Female  & 20      & bright  & harmony & clothes & 5       & 1       & 1       & 2       & 2       & 3       & 2      \\\\\n",
       "\t 2       & Female  & 20      & bright  & bright  & clothes & 3       & 2       & 4       & 1       & 2       & 1       & 2      \\\\\n",
       "\t 3       & Female  & 20      & bright  & bright  & clothes & 3       & 3       & 4       & 3       & 2       & 2       & 1      \\\\\n",
       "\t 4       & Male    & 20      & harmony & harmony & clothes & 5       & 5       & 5       & 4       & 1       & 2       & 3      \\\\\n",
       "\t 5       & Female  & 20      & bright  & bright  & clothes & 5       & 5       & 5       & 4       & 2       & 2       & 1      \\\\\n",
       "\\end{tabular}\n"
      ],
      "text/markdown": [
       "\n",
       "| X | sex | age_class | definition | need | purpose | interest | comp | triangle1 | triangle2 | doubleness1 | doubleness2 | doubleness3 |\n",
       "|---|---|---|---|---|---|---|---|---|---|---|---|---|\n",
       "| 0       | Male    | 20      | harmony | harmony | clothes | 5       | 4       | 5       | 2       | 3       | 2       | 2       |\n",
       "| 1       | Female  | 20      | bright  | harmony | clothes | 5       | 1       | 1       | 2       | 2       | 3       | 2       |\n",
       "| 2       | Female  | 20      | bright  | bright  | clothes | 3       | 2       | 4       | 1       | 2       | 1       | 2       |\n",
       "| 3       | Female  | 20      | bright  | bright  | clothes | 3       | 3       | 4       | 3       | 2       | 2       | 1       |\n",
       "| 4       | Male    | 20      | harmony | harmony | clothes | 5       | 5       | 5       | 4       | 1       | 2       | 3       |\n",
       "| 5       | Female  | 20      | bright  | bright  | clothes | 5       | 5       | 5       | 4       | 2       | 2       | 1       |\n",
       "\n"
      ],
      "text/plain": [
       "  X sex    age_class definition need    purpose interest comp triangle1\n",
       "1 0 Male   20        harmony    harmony clothes 5        4    5        \n",
       "2 1 Female 20        bright     harmony clothes 5        1    1        \n",
       "3 2 Female 20        bright     bright  clothes 3        2    4        \n",
       "4 3 Female 20        bright     bright  clothes 3        3    4        \n",
       "5 4 Male   20        harmony    harmony clothes 5        5    5        \n",
       "6 5 Female 20        bright     bright  clothes 5        5    5        \n",
       "  triangle2 doubleness1 doubleness2 doubleness3\n",
       "1 2         3           2           2          \n",
       "2 2         2           3           2          \n",
       "3 1         2           1           2          \n",
       "4 3         2           2           1          \n",
       "5 4         1           2           3          \n",
       "6 4         2           2           1          "
      ]
     },
     "metadata": {},
     "output_type": "display_data"
    }
   ],
   "source": [
    "str(survey)\n",
    "head(survey)"
   ]
  },
  {
   "cell_type": "code",
   "execution_count": 4,
   "metadata": {
    "scrolled": true
   },
   "outputs": [],
   "source": [
    "survey = filter(survey, sex=='Female')"
   ]
  },
  {
   "cell_type": "code",
   "execution_count": 5,
   "metadata": {},
   "outputs": [
    {
     "name": "stdout",
     "output_type": "stream",
     "text": [
      "'data.frame':\t151 obs. of  13 variables:\n",
      " $ X          : int  1 2 3 5 7 8 9 10 11 12 ...\n",
      " $ sex        : Factor w/ 2 levels \"Female\",\"Male\": 1 1 1 1 1 1 1 1 1 1 ...\n",
      " $ age_class  : int  20 20 20 20 20 30 30 20 30 20 ...\n",
      " $ definition : Factor w/ 2 levels \"bright\",\"harmony\": 1 1 1 1 1 2 2 1 2 2 ...\n",
      " $ need       : Factor w/ 2 levels \"bright\",\"harmony\": 2 1 1 1 1 2 1 1 1 2 ...\n",
      " $ purpose    : Factor w/ 3 levels \"clothes\",\"cosmetic\",..: 1 1 1 1 2 1 1 2 3 1 ...\n",
      " $ interest   : int  5 3 3 5 3 4 3 3 5 1 ...\n",
      " $ comp       : int  1 2 3 5 2 3 3 2 2 5 ...\n",
      " $ triangle1  : int  1 4 4 5 4 2 5 5 5 4 ...\n",
      " $ triangle2  : int  2 1 3 4 3 2 3 3 1 2 ...\n",
      " $ doubleness1: int  2 2 2 2 4 5 2 1 5 1 ...\n",
      " $ doubleness2: int  3 1 2 2 3 4 3 5 2 4 ...\n",
      " $ doubleness3: int  2 2 1 1 1 5 5 3 1 2 ...\n"
     ]
    }
   ],
   "source": [
    "str(survey)"
   ]
  },
  {
   "cell_type": "code",
   "execution_count": 6,
   "metadata": {},
   "outputs": [],
   "source": [
    "survey$comp1 <- case_when(\n",
    "    survey$comp == 1 ~ 1,\n",
    "    survey$comp != 1 ~ 0)\n",
    "\n",
    "survey$comp2 <- case_when(\n",
    "    survey$comp == 2 ~ 1,\n",
    "    survey$comp != 2 ~ 0)\n",
    "\n",
    "survey$comp3 <- case_when(\n",
    "    survey$comp == 3 ~ 1,\n",
    "    survey$comp != 3 ~ 0)\n",
    "\n",
    "survey$comp4 <- case_when(\n",
    "    survey$comp == 4 ~ 1,\n",
    "    survey$comp != 4 ~ 0)\n",
    "\n",
    "survey$comp5 <- case_when(\n",
    "    survey$comp == 5 ~ 1,\n",
    "    survey$comp != 5 ~ 0)\n",
    "\n",
    "survey$t1_1 <- case_when(\n",
    "    survey$triangle1 == 1 ~ 1,\n",
    "    survey$triangle1 != 1 ~ 0)\n",
    "\n",
    "survey$t1_2 <- case_when(\n",
    "    survey$triangle1 == 2 ~ 1,\n",
    "    survey$triangle1 != 2 ~ 0)\n",
    "\n",
    "survey$t1_3 <- case_when(\n",
    "    survey$triangle1 == 3 ~ 1,\n",
    "    survey$triangle1 != 3 ~ 0)\n",
    "\n",
    "survey$t1_4 <- case_when(\n",
    "    survey$triangle1 == 4 ~ 1,\n",
    "    survey$triangle1 != 4 ~ 0)\n",
    "\n",
    "survey$t1_5 <- case_when(\n",
    "    survey$triangle1 == 5 ~ 1,\n",
    "    survey$triangle1 != 5 ~ 0)\n",
    "\t\n",
    "survey$t2_1 <- case_when(\n",
    "    survey$triangle2 == 1 ~ 1,\n",
    "    survey$triangle2 != 1 ~ 0)\n",
    "\n",
    "survey$t2_2 <- case_when(\n",
    "    survey$triangle2 == 2 ~ 1,\n",
    "    survey$triangle2 != 2 ~ 0)\n",
    "\n",
    "survey$t2_3 <- case_when(\n",
    "    survey$triangle2 == 3 ~ 1,\n",
    "    survey$triangle2 != 3 ~ 0)\n",
    "\n",
    "survey$t2_4 <- case_when(\n",
    "    survey$triangle2 == 4 ~ 1,\n",
    "    survey$triangle2 != 4 ~ 0)\n",
    "\n",
    "survey$t2_5 <- case_when(\n",
    "    survey$triangle2 == 5 ~ 1,\n",
    "    survey$triangle2 != 5 ~ 0)\n",
    "\t\n",
    "survey$d1_1 <- case_when(\n",
    "    survey$doubleness1 == 1 ~ 1,\n",
    "    survey$doubleness1 != 1 ~ 0)\n",
    "\n",
    "survey$d1_2 <- case_when(\n",
    "    survey$doubleness1 == 2 ~ 1,\n",
    "    survey$doubleness1 != 2 ~ 0)\n",
    "\n",
    "survey$d1_3 <- case_when(\n",
    "    survey$doubleness1 == 3 ~ 1,\n",
    "    survey$doubleness1 != 3 ~ 0)\n",
    "\n",
    "survey$d1_4 <- case_when(\n",
    "    survey$doubleness1 == 4 ~ 1,\n",
    "    survey$doubleness1 != 4 ~ 0)\n",
    "\n",
    "survey$d1_5 <- case_when(\n",
    "    survey$doubleness1 == 5 ~ 1,\n",
    "    survey$doubleness1 != 5 ~ 0)\n",
    "\t\n",
    "survey$d2_1 <- case_when(\n",
    "    survey$doubleness2 == 1 ~ 1,\n",
    "    survey$doubleness2 != 1 ~ 0)\n",
    "\n",
    "survey$d2_2 <- case_when(\n",
    "    survey$doubleness2 == 2 ~ 1,\n",
    "    survey$doubleness2 != 2 ~ 0)\n",
    "\n",
    "survey$d2_3 <- case_when(\n",
    "    survey$doubleness2 == 3 ~ 1,\n",
    "    survey$doubleness2 != 3 ~ 0)\n",
    "\n",
    "survey$d2_4 <- case_when(\n",
    "    survey$doubleness2 == 4 ~ 1,\n",
    "    survey$doubleness2 != 4 ~ 0)\n",
    "\n",
    "survey$d2_5 <- case_when(\n",
    "    survey$doubleness2 == 5 ~ 1,\n",
    "    survey$doubleness2 != 5 ~ 0)\n",
    "\t\n",
    "survey$d3_1 <- case_when(\n",
    "    survey$doubleness3 == 1 ~ 1,\n",
    "    survey$doubleness3 != 1 ~ 0)\n",
    "\n",
    "survey$d3_2 <- case_when(\n",
    "    survey$doubleness3 == 2 ~ 1,\n",
    "    survey$doubleness3 != 2 ~ 0)\n",
    "\n",
    "survey$d3_3 <- case_when(\n",
    "    survey$doubleness3 == 3 ~ 1,\n",
    "    survey$doubleness3 != 3 ~ 0)\n",
    "\n",
    "survey$d3_4 <- case_when(\n",
    "    survey$doubleness3 == 4 ~ 1,\n",
    "    survey$doubleness3 != 4 ~ 0)\n",
    "\n",
    "survey$d3_5 <- case_when(\n",
    "    survey$doubleness3 == 5 ~ 1,\n",
    "    survey$doubleness3 != 5 ~ 0)"
   ]
  },
  {
   "cell_type": "code",
   "execution_count": 7,
   "metadata": {},
   "outputs": [
    {
     "data": {
      "text/html": [
       "<table>\n",
       "<thead><tr><th scope=col>X</th><th scope=col>sex</th><th scope=col>age_class</th><th scope=col>definition</th><th scope=col>need</th><th scope=col>purpose</th><th scope=col>interest</th><th scope=col>comp</th><th scope=col>triangle1</th><th scope=col>triangle2</th><th scope=col>...</th><th scope=col>d2_1</th><th scope=col>d2_2</th><th scope=col>d2_3</th><th scope=col>d2_4</th><th scope=col>d2_5</th><th scope=col>d3_1</th><th scope=col>d3_2</th><th scope=col>d3_3</th><th scope=col>d3_4</th><th scope=col>d3_5</th></tr></thead>\n",
       "<tbody>\n",
       "\t<tr><td>1       </td><td>Female  </td><td>20      </td><td>bright  </td><td>harmony </td><td>clothes </td><td>5       </td><td>1       </td><td>1       </td><td>2       </td><td>...     </td><td>0       </td><td>0       </td><td>1       </td><td>0       </td><td>0       </td><td>0       </td><td>1       </td><td>0       </td><td>0       </td><td>0       </td></tr>\n",
       "\t<tr><td>2       </td><td>Female  </td><td>20      </td><td>bright  </td><td>bright  </td><td>clothes </td><td>3       </td><td>2       </td><td>4       </td><td>1       </td><td>...     </td><td>1       </td><td>0       </td><td>0       </td><td>0       </td><td>0       </td><td>0       </td><td>1       </td><td>0       </td><td>0       </td><td>0       </td></tr>\n",
       "\t<tr><td>3       </td><td>Female  </td><td>20      </td><td>bright  </td><td>bright  </td><td>clothes </td><td>3       </td><td>3       </td><td>4       </td><td>3       </td><td>...     </td><td>0       </td><td>1       </td><td>0       </td><td>0       </td><td>0       </td><td>1       </td><td>0       </td><td>0       </td><td>0       </td><td>0       </td></tr>\n",
       "\t<tr><td>5       </td><td>Female  </td><td>20      </td><td>bright  </td><td>bright  </td><td>clothes </td><td>5       </td><td>5       </td><td>5       </td><td>4       </td><td>...     </td><td>0       </td><td>1       </td><td>0       </td><td>0       </td><td>0       </td><td>1       </td><td>0       </td><td>0       </td><td>0       </td><td>0       </td></tr>\n",
       "\t<tr><td>7       </td><td>Female  </td><td>20      </td><td>bright  </td><td>bright  </td><td>cosmetic</td><td>3       </td><td>2       </td><td>4       </td><td>3       </td><td>...     </td><td>0       </td><td>0       </td><td>1       </td><td>0       </td><td>0       </td><td>1       </td><td>0       </td><td>0       </td><td>0       </td><td>0       </td></tr>\n",
       "\t<tr><td>8       </td><td>Female  </td><td>30      </td><td>harmony </td><td>harmony </td><td>clothes </td><td>4       </td><td>3       </td><td>2       </td><td>2       </td><td>...     </td><td>0       </td><td>0       </td><td>0       </td><td>1       </td><td>0       </td><td>0       </td><td>0       </td><td>0       </td><td>0       </td><td>1       </td></tr>\n",
       "</tbody>\n",
       "</table>\n"
      ],
      "text/latex": [
       "\\begin{tabular}{r|lllllllllllllllllllllllllllllllllllllllllll}\n",
       " X & sex & age\\_class & definition & need & purpose & interest & comp & triangle1 & triangle2 & ... & d2\\_1 & d2\\_2 & d2\\_3 & d2\\_4 & d2\\_5 & d3\\_1 & d3\\_2 & d3\\_3 & d3\\_4 & d3\\_5\\\\\n",
       "\\hline\n",
       "\t 1        & Female   & 20       & bright   & harmony  & clothes  & 5        & 1        & 1        & 2        & ...      & 0        & 0        & 1        & 0        & 0        & 0        & 1        & 0        & 0        & 0       \\\\\n",
       "\t 2        & Female   & 20       & bright   & bright   & clothes  & 3        & 2        & 4        & 1        & ...      & 1        & 0        & 0        & 0        & 0        & 0        & 1        & 0        & 0        & 0       \\\\\n",
       "\t 3        & Female   & 20       & bright   & bright   & clothes  & 3        & 3        & 4        & 3        & ...      & 0        & 1        & 0        & 0        & 0        & 1        & 0        & 0        & 0        & 0       \\\\\n",
       "\t 5        & Female   & 20       & bright   & bright   & clothes  & 5        & 5        & 5        & 4        & ...      & 0        & 1        & 0        & 0        & 0        & 1        & 0        & 0        & 0        & 0       \\\\\n",
       "\t 7        & Female   & 20       & bright   & bright   & cosmetic & 3        & 2        & 4        & 3        & ...      & 0        & 0        & 1        & 0        & 0        & 1        & 0        & 0        & 0        & 0       \\\\\n",
       "\t 8        & Female   & 30       & harmony  & harmony  & clothes  & 4        & 3        & 2        & 2        & ...      & 0        & 0        & 0        & 1        & 0        & 0        & 0        & 0        & 0        & 1       \\\\\n",
       "\\end{tabular}\n"
      ],
      "text/markdown": [
       "\n",
       "| X | sex | age_class | definition | need | purpose | interest | comp | triangle1 | triangle2 | ... | d2_1 | d2_2 | d2_3 | d2_4 | d2_5 | d3_1 | d3_2 | d3_3 | d3_4 | d3_5 |\n",
       "|---|---|---|---|---|---|---|---|---|---|---|---|---|---|---|---|---|---|---|---|---|\n",
       "| 1        | Female   | 20       | bright   | harmony  | clothes  | 5        | 1        | 1        | 2        | ...      | 0        | 0        | 1        | 0        | 0        | 0        | 1        | 0        | 0        | 0        |\n",
       "| 2        | Female   | 20       | bright   | bright   | clothes  | 3        | 2        | 4        | 1        | ...      | 1        | 0        | 0        | 0        | 0        | 0        | 1        | 0        | 0        | 0        |\n",
       "| 3        | Female   | 20       | bright   | bright   | clothes  | 3        | 3        | 4        | 3        | ...      | 0        | 1        | 0        | 0        | 0        | 1        | 0        | 0        | 0        | 0        |\n",
       "| 5        | Female   | 20       | bright   | bright   | clothes  | 5        | 5        | 5        | 4        | ...      | 0        | 1        | 0        | 0        | 0        | 1        | 0        | 0        | 0        | 0        |\n",
       "| 7        | Female   | 20       | bright   | bright   | cosmetic | 3        | 2        | 4        | 3        | ...      | 0        | 0        | 1        | 0        | 0        | 1        | 0        | 0        | 0        | 0        |\n",
       "| 8        | Female   | 30       | harmony  | harmony  | clothes  | 4        | 3        | 2        | 2        | ...      | 0        | 0        | 0        | 1        | 0        | 0        | 0        | 0        | 0        | 1        |\n",
       "\n"
      ],
      "text/plain": [
       "  X sex    age_class definition need    purpose  interest comp triangle1\n",
       "1 1 Female 20        bright     harmony clothes  5        1    1        \n",
       "2 2 Female 20        bright     bright  clothes  3        2    4        \n",
       "3 3 Female 20        bright     bright  clothes  3        3    4        \n",
       "4 5 Female 20        bright     bright  clothes  5        5    5        \n",
       "5 7 Female 20        bright     bright  cosmetic 3        2    4        \n",
       "6 8 Female 30        harmony    harmony clothes  4        3    2        \n",
       "  triangle2 ... d2_1 d2_2 d2_3 d2_4 d2_5 d3_1 d3_2 d3_3 d3_4 d3_5\n",
       "1 2         ... 0    0    1    0    0    0    1    0    0    0   \n",
       "2 1         ... 1    0    0    0    0    0    1    0    0    0   \n",
       "3 3         ... 0    1    0    0    0    1    0    0    0    0   \n",
       "4 4         ... 0    1    0    0    0    1    0    0    0    0   \n",
       "5 3         ... 0    0    1    0    0    1    0    0    0    0   \n",
       "6 2         ... 0    0    0    1    0    0    0    0    0    1   "
      ]
     },
     "metadata": {},
     "output_type": "display_data"
    }
   ],
   "source": [
    "head(survey)"
   ]
  },
  {
   "cell_type": "code",
   "execution_count": 8,
   "metadata": {},
   "outputs": [
    {
     "data": {
      "text/plain": [
       "\n",
       "Call:\n",
       "glm(formula = comp1 ~ definition + need + purpose + interest, \n",
       "    family = binomial, data = survey)\n",
       "\n",
       "Deviance Residuals: \n",
       "    Min       1Q   Median       3Q      Max  \n",
       "-1.0510  -0.8411  -0.7246   1.3482   1.9127  \n",
       "\n",
       "Coefficients:\n",
       "                  Estimate Std. Error z value Pr(>|z|)   \n",
       "(Intercept)       -2.34643    0.85101  -2.757  0.00583 **\n",
       "definitionharmony -0.04647    0.47905  -0.097  0.92272   \n",
       "needharmony        0.20620    0.43959   0.469  0.63902   \n",
       "purposecosmetic    0.15123    0.50713   0.298  0.76555   \n",
       "purposeetc         0.07978    0.45036   0.177  0.85939   \n",
       "interest           0.34610    0.20059   1.725  0.08445 . \n",
       "---\n",
       "Signif. codes:  0 '***' 0.001 '**' 0.01 '*' 0.05 '.' 0.1 ' ' 1\n",
       "\n",
       "(Dispersion parameter for binomial family taken to be 1)\n",
       "\n",
       "    Null deviance: 178.54  on 150  degrees of freedom\n",
       "Residual deviance: 174.91  on 145  degrees of freedom\n",
       "AIC: 186.91\n",
       "\n",
       "Number of Fisher Scoring iterations: 4\n"
      ]
     },
     "metadata": {},
     "output_type": "display_data"
    }
   ],
   "source": [
    "model <- glm(comp1 ~ definition + need + purpose \n",
    "              + interest, data =survey, family = binomial)\n",
    "summary(model)"
   ]
  },
  {
   "cell_type": "code",
   "execution_count": 9,
   "metadata": {},
   "outputs": [
    {
     "data": {
      "text/html": [
       "<table>\n",
       "<thead><tr><th></th><th scope=col>Df</th><th scope=col>Deviance</th><th scope=col>Resid. Df</th><th scope=col>Resid. Dev</th><th scope=col>Pr(&gt;Chi)</th></tr></thead>\n",
       "<tbody>\n",
       "\t<tr><th scope=row>NULL</th><td>NA          </td><td>          NA</td><td>150         </td><td>178.5404    </td><td>        NA  </td></tr>\n",
       "\t<tr><th scope=row>definition</th><td> 1          </td><td>0.0002555842</td><td>149         </td><td>178.5402    </td><td>0.98724476  </td></tr>\n",
       "\t<tr><th scope=row>need</th><td> 1          </td><td>0.2251171017</td><td>148         </td><td>178.3151    </td><td>0.63516830  </td></tr>\n",
       "\t<tr><th scope=row>purpose</th><td> 2          </td><td>0.2734305790</td><td>146         </td><td>178.0416    </td><td>0.87221852  </td></tr>\n",
       "\t<tr><th scope=row>interest</th><td> 1          </td><td>3.1289521113</td><td>145         </td><td>174.9127    </td><td>0.07691316  </td></tr>\n",
       "</tbody>\n",
       "</table>\n"
      ],
      "text/latex": [
       "\\begin{tabular}{r|lllll}\n",
       "  & Df & Deviance & Resid. Df & Resid. Dev & Pr(>Chi)\\\\\n",
       "\\hline\n",
       "\tNULL & NA           &           NA & 150          & 178.5404     &         NA  \\\\\n",
       "\tdefinition &  1           & 0.0002555842 & 149          & 178.5402     & 0.98724476  \\\\\n",
       "\tneed &  1           & 0.2251171017 & 148          & 178.3151     & 0.63516830  \\\\\n",
       "\tpurpose &  2           & 0.2734305790 & 146          & 178.0416     & 0.87221852  \\\\\n",
       "\tinterest &  1           & 3.1289521113 & 145          & 174.9127     & 0.07691316  \\\\\n",
       "\\end{tabular}\n"
      ],
      "text/markdown": [
       "\n",
       "| <!--/--> | Df | Deviance | Resid. Df | Resid. Dev | Pr(>Chi) |\n",
       "|---|---|---|---|---|---|\n",
       "| NULL | NA           |           NA | 150          | 178.5404     |         NA   |\n",
       "| definition |  1           | 0.0002555842 | 149          | 178.5402     | 0.98724476   |\n",
       "| need |  1           | 0.2251171017 | 148          | 178.3151     | 0.63516830   |\n",
       "| purpose |  2           | 0.2734305790 | 146          | 178.0416     | 0.87221852   |\n",
       "| interest |  1           | 3.1289521113 | 145          | 174.9127     | 0.07691316   |\n",
       "\n"
      ],
      "text/plain": [
       "           Df Deviance     Resid. Df Resid. Dev Pr(>Chi)  \n",
       "NULL       NA           NA 150       178.5404           NA\n",
       "definition  1 0.0002555842 149       178.5402   0.98724476\n",
       "need        1 0.2251171017 148       178.3151   0.63516830\n",
       "purpose     2 0.2734305790 146       178.0416   0.87221852\n",
       "interest    1 3.1289521113 145       174.9127   0.07691316"
      ]
     },
     "metadata": {},
     "output_type": "display_data"
    }
   ],
   "source": [
    "anova(model, test=\"Chisq\")"
   ]
  },
  {
   "cell_type": "code",
   "execution_count": 10,
   "metadata": {},
   "outputs": [
    {
     "data": {
      "text/plain": [
       "\n",
       "Call:\n",
       "glm(formula = comp2 ~ definition + need + purpose + interest, \n",
       "    family = binomial, data = survey)\n",
       "\n",
       "Deviance Residuals: \n",
       "    Min       1Q   Median       3Q      Max  \n",
       "-0.9909  -0.7324  -0.6581  -0.5351   2.0223  \n",
       "\n",
       "Coefficients:\n",
       "                  Estimate Std. Error z value Pr(>|z|)\n",
       "(Intercept)       -0.09232    0.82524  -0.112    0.911\n",
       "definitionharmony -0.48642    0.50235  -0.968    0.333\n",
       "needharmony        0.03483    0.47571   0.073    0.942\n",
       "purposecosmetic    0.06508    0.51496   0.126    0.899\n",
       "purposeetc        -0.25548    0.47422  -0.539    0.590\n",
       "interest          -0.21442    0.20314  -1.055    0.291\n",
       "\n",
       "(Dispersion parameter for binomial family taken to be 1)\n",
       "\n",
       "    Null deviance: 161.08  on 150  degrees of freedom\n",
       "Residual deviance: 158.17  on 145  degrees of freedom\n",
       "AIC: 170.17\n",
       "\n",
       "Number of Fisher Scoring iterations: 4\n"
      ]
     },
     "metadata": {},
     "output_type": "display_data"
    },
    {
     "data": {
      "text/html": [
       "<table>\n",
       "<thead><tr><th></th><th scope=col>Df</th><th scope=col>Deviance</th><th scope=col>Resid. Df</th><th scope=col>Resid. Dev</th><th scope=col>Pr(&gt;Chi)</th></tr></thead>\n",
       "<tbody>\n",
       "\t<tr><th scope=row>NULL</th><td>NA          </td><td>          NA</td><td>150         </td><td>161.0773    </td><td>       NA   </td></tr>\n",
       "\t<tr><th scope=row>definition</th><td> 1          </td><td>0.9723084694</td><td>149         </td><td>160.1050    </td><td>0.3241051   </td></tr>\n",
       "\t<tr><th scope=row>need</th><td> 1          </td><td>0.0004594284</td><td>148         </td><td>160.1045    </td><td>0.9828992   </td></tr>\n",
       "\t<tr><th scope=row>purpose</th><td> 2          </td><td>0.8232842965</td><td>146         </td><td>159.2812    </td><td>0.6625613   </td></tr>\n",
       "\t<tr><th scope=row>interest</th><td> 1          </td><td>1.1112571192</td><td>145         </td><td>158.1700    </td><td>0.2918088   </td></tr>\n",
       "</tbody>\n",
       "</table>\n"
      ],
      "text/latex": [
       "\\begin{tabular}{r|lllll}\n",
       "  & Df & Deviance & Resid. Df & Resid. Dev & Pr(>Chi)\\\\\n",
       "\\hline\n",
       "\tNULL & NA           &           NA & 150          & 161.0773     &        NA   \\\\\n",
       "\tdefinition &  1           & 0.9723084694 & 149          & 160.1050     & 0.3241051   \\\\\n",
       "\tneed &  1           & 0.0004594284 & 148          & 160.1045     & 0.9828992   \\\\\n",
       "\tpurpose &  2           & 0.8232842965 & 146          & 159.2812     & 0.6625613   \\\\\n",
       "\tinterest &  1           & 1.1112571192 & 145          & 158.1700     & 0.2918088   \\\\\n",
       "\\end{tabular}\n"
      ],
      "text/markdown": [
       "\n",
       "| <!--/--> | Df | Deviance | Resid. Df | Resid. Dev | Pr(>Chi) |\n",
       "|---|---|---|---|---|---|\n",
       "| NULL | NA           |           NA | 150          | 161.0773     |        NA    |\n",
       "| definition |  1           | 0.9723084694 | 149          | 160.1050     | 0.3241051    |\n",
       "| need |  1           | 0.0004594284 | 148          | 160.1045     | 0.9828992    |\n",
       "| purpose |  2           | 0.8232842965 | 146          | 159.2812     | 0.6625613    |\n",
       "| interest |  1           | 1.1112571192 | 145          | 158.1700     | 0.2918088    |\n",
       "\n"
      ],
      "text/plain": [
       "           Df Deviance     Resid. Df Resid. Dev Pr(>Chi) \n",
       "NULL       NA           NA 150       161.0773          NA\n",
       "definition  1 0.9723084694 149       160.1050   0.3241051\n",
       "need        1 0.0004594284 148       160.1045   0.9828992\n",
       "purpose     2 0.8232842965 146       159.2812   0.6625613\n",
       "interest    1 1.1112571192 145       158.1700   0.2918088"
      ]
     },
     "metadata": {},
     "output_type": "display_data"
    }
   ],
   "source": [
    "model <- glm(comp2 ~ definition + need + purpose \n",
    "              + interest, data =survey, family = binomial)\n",
    "summary(model)\n",
    "\n",
    "\n",
    "anova(model, test=\"Chisq\")"
   ]
  },
  {
   "cell_type": "code",
   "execution_count": 11,
   "metadata": {},
   "outputs": [
    {
     "data": {
      "text/plain": [
       "\n",
       "Call:\n",
       "glm(formula = comp3 ~ definition + need + purpose + interest, \n",
       "    family = binomial, data = survey)\n",
       "\n",
       "Deviance Residuals: \n",
       "    Min       1Q   Median       3Q      Max  \n",
       "-1.0135  -0.6987  -0.5877  -0.4840   2.1710  \n",
       "\n",
       "Coefficients:\n",
       "                   Estimate Std. Error z value Pr(>|z|)\n",
       "(Intercept)       -0.911546   0.895663  -1.018    0.309\n",
       "definitionharmony  0.000971   0.576576   0.002    0.999\n",
       "needharmony        0.341991   0.522006   0.655    0.512\n",
       "purposecosmetic   -0.337266   0.626596  -0.538    0.590\n",
       "purposeetc         0.422227   0.496563   0.850    0.395\n",
       "interest          -0.252299   0.213009  -1.184    0.236\n",
       "\n",
       "(Dispersion parameter for binomial family taken to be 1)\n",
       "\n",
       "    Null deviance: 147.73  on 150  degrees of freedom\n",
       "Residual deviance: 143.59  on 145  degrees of freedom\n",
       "AIC: 155.59\n",
       "\n",
       "Number of Fisher Scoring iterations: 4\n"
      ]
     },
     "metadata": {},
     "output_type": "display_data"
    },
    {
     "data": {
      "text/html": [
       "<table>\n",
       "<thead><tr><th></th><th scope=col>Df</th><th scope=col>Deviance</th><th scope=col>Resid. Df</th><th scope=col>Resid. Dev</th><th scope=col>Pr(&gt;Chi)</th></tr></thead>\n",
       "<tbody>\n",
       "\t<tr><th scope=row>NULL</th><td>NA       </td><td>       NA</td><td>150      </td><td>147.7342 </td><td>       NA</td></tr>\n",
       "\t<tr><th scope=row>definition</th><td> 1       </td><td>0.3403712</td><td>149      </td><td>147.3938 </td><td>0.5596150</td></tr>\n",
       "\t<tr><th scope=row>need</th><td> 1       </td><td>0.7538712</td><td>148      </td><td>146.6400 </td><td>0.3852533</td></tr>\n",
       "\t<tr><th scope=row>purpose</th><td> 2       </td><td>1.6519738</td><td>146      </td><td>144.9880 </td><td>0.4378027</td></tr>\n",
       "\t<tr><th scope=row>interest</th><td> 1       </td><td>1.4005156</td><td>145      </td><td>143.5875 </td><td>0.2366373</td></tr>\n",
       "</tbody>\n",
       "</table>\n"
      ],
      "text/latex": [
       "\\begin{tabular}{r|lllll}\n",
       "  & Df & Deviance & Resid. Df & Resid. Dev & Pr(>Chi)\\\\\n",
       "\\hline\n",
       "\tNULL & NA        &        NA & 150       & 147.7342  &        NA\\\\\n",
       "\tdefinition &  1        & 0.3403712 & 149       & 147.3938  & 0.5596150\\\\\n",
       "\tneed &  1        & 0.7538712 & 148       & 146.6400  & 0.3852533\\\\\n",
       "\tpurpose &  2        & 1.6519738 & 146       & 144.9880  & 0.4378027\\\\\n",
       "\tinterest &  1        & 1.4005156 & 145       & 143.5875  & 0.2366373\\\\\n",
       "\\end{tabular}\n"
      ],
      "text/markdown": [
       "\n",
       "| <!--/--> | Df | Deviance | Resid. Df | Resid. Dev | Pr(>Chi) |\n",
       "|---|---|---|---|---|---|\n",
       "| NULL | NA        |        NA | 150       | 147.7342  |        NA |\n",
       "| definition |  1        | 0.3403712 | 149       | 147.3938  | 0.5596150 |\n",
       "| need |  1        | 0.7538712 | 148       | 146.6400  | 0.3852533 |\n",
       "| purpose |  2        | 1.6519738 | 146       | 144.9880  | 0.4378027 |\n",
       "| interest |  1        | 1.4005156 | 145       | 143.5875  | 0.2366373 |\n",
       "\n"
      ],
      "text/plain": [
       "           Df Deviance  Resid. Df Resid. Dev Pr(>Chi) \n",
       "NULL       NA        NA 150       147.7342          NA\n",
       "definition  1 0.3403712 149       147.3938   0.5596150\n",
       "need        1 0.7538712 148       146.6400   0.3852533\n",
       "purpose     2 1.6519738 146       144.9880   0.4378027\n",
       "interest    1 1.4005156 145       143.5875   0.2366373"
      ]
     },
     "metadata": {},
     "output_type": "display_data"
    }
   ],
   "source": [
    "model <- glm(comp3 ~ definition + need + purpose \n",
    "              + interest, data =survey, family = binomial)\n",
    "summary(model)\n",
    "\n",
    "\n",
    "anova(model, test=\"Chisq\")"
   ]
  },
  {
   "cell_type": "code",
   "execution_count": 12,
   "metadata": {},
   "outputs": [
    {
     "data": {
      "text/plain": [
       "\n",
       "Call:\n",
       "glm(formula = comp4 ~ definition + need + purpose + interest, \n",
       "    family = binomial, data = survey)\n",
       "\n",
       "Deviance Residuals: \n",
       "    Min       1Q   Median       3Q      Max  \n",
       "-0.7878  -0.5415  -0.4822  -0.4098   2.2980  \n",
       "\n",
       "Coefficients:\n",
       "                   Estimate Std. Error z value Pr(>|z|)  \n",
       "(Intercept)       -1.786716   1.075461  -1.661   0.0966 .\n",
       "definitionharmony  0.473160   0.602803   0.785   0.4325  \n",
       "needharmony       -1.043130   0.564378  -1.848   0.0646 .\n",
       "purposecosmetic   -0.001701   0.686679  -0.002   0.9980  \n",
       "purposeetc         0.341930   0.602011   0.568   0.5700  \n",
       "interest          -0.019623   0.257771  -0.076   0.9393  \n",
       "---\n",
       "Signif. codes:  0 '***' 0.001 '**' 0.01 '*' 0.05 '.' 0.1 ' ' 1\n",
       "\n",
       "(Dispersion parameter for binomial family taken to be 1)\n",
       "\n",
       "    Null deviance: 118.09  on 150  degrees of freedom\n",
       "Residual deviance: 114.36  on 145  degrees of freedom\n",
       "AIC: 126.36\n",
       "\n",
       "Number of Fisher Scoring iterations: 5\n"
      ]
     },
     "metadata": {},
     "output_type": "display_data"
    },
    {
     "data": {
      "text/html": [
       "<table>\n",
       "<thead><tr><th></th><th scope=col>Df</th><th scope=col>Deviance</th><th scope=col>Resid. Df</th><th scope=col>Resid. Dev</th><th scope=col>Pr(&gt;Chi)</th></tr></thead>\n",
       "<tbody>\n",
       "\t<tr><th scope=row>NULL</th><td>NA         </td><td>         NA</td><td>150        </td><td>118.0875   </td><td>        NA </td></tr>\n",
       "\t<tr><th scope=row>definition</th><td> 1         </td><td>0.026029551</td><td>149        </td><td>118.0615   </td><td>0.87182817 </td></tr>\n",
       "\t<tr><th scope=row>need</th><td> 1         </td><td>3.225912896</td><td>148        </td><td>114.8356   </td><td>0.07248137 </td></tr>\n",
       "\t<tr><th scope=row>purpose</th><td> 2         </td><td>0.465897567</td><td>146        </td><td>114.3697   </td><td>0.79219415 </td></tr>\n",
       "\t<tr><th scope=row>interest</th><td> 1         </td><td>0.005785417</td><td>145        </td><td>114.3639   </td><td>0.93936983 </td></tr>\n",
       "</tbody>\n",
       "</table>\n"
      ],
      "text/latex": [
       "\\begin{tabular}{r|lllll}\n",
       "  & Df & Deviance & Resid. Df & Resid. Dev & Pr(>Chi)\\\\\n",
       "\\hline\n",
       "\tNULL & NA          &          NA & 150         & 118.0875    &         NA \\\\\n",
       "\tdefinition &  1          & 0.026029551 & 149         & 118.0615    & 0.87182817 \\\\\n",
       "\tneed &  1          & 3.225912896 & 148         & 114.8356    & 0.07248137 \\\\\n",
       "\tpurpose &  2          & 0.465897567 & 146         & 114.3697    & 0.79219415 \\\\\n",
       "\tinterest &  1          & 0.005785417 & 145         & 114.3639    & 0.93936983 \\\\\n",
       "\\end{tabular}\n"
      ],
      "text/markdown": [
       "\n",
       "| <!--/--> | Df | Deviance | Resid. Df | Resid. Dev | Pr(>Chi) |\n",
       "|---|---|---|---|---|---|\n",
       "| NULL | NA          |          NA | 150         | 118.0875    |         NA  |\n",
       "| definition |  1          | 0.026029551 | 149         | 118.0615    | 0.87182817  |\n",
       "| need |  1          | 3.225912896 | 148         | 114.8356    | 0.07248137  |\n",
       "| purpose |  2          | 0.465897567 | 146         | 114.3697    | 0.79219415  |\n",
       "| interest |  1          | 0.005785417 | 145         | 114.3639    | 0.93936983  |\n",
       "\n"
      ],
      "text/plain": [
       "           Df Deviance    Resid. Df Resid. Dev Pr(>Chi)  \n",
       "NULL       NA          NA 150       118.0875           NA\n",
       "definition  1 0.026029551 149       118.0615   0.87182817\n",
       "need        1 3.225912896 148       114.8356   0.07248137\n",
       "purpose     2 0.465897567 146       114.3697   0.79219415\n",
       "interest    1 0.005785417 145       114.3639   0.93936983"
      ]
     },
     "metadata": {},
     "output_type": "display_data"
    }
   ],
   "source": [
    "model <- glm(comp4 ~ definition + need + purpose \n",
    "              + interest, data =survey, family = binomial)\n",
    "summary(model)\n",
    "\n",
    "\n",
    "anova(model, test=\"Chisq\")"
   ]
  },
  {
   "cell_type": "code",
   "execution_count": 13,
   "metadata": {},
   "outputs": [
    {
     "data": {
      "text/plain": [
       "\n",
       "Call:\n",
       "glm(formula = comp5 ~ definition + need + purpose + interest, \n",
       "    family = binomial, data = survey)\n",
       "\n",
       "Deviance Residuals: \n",
       "    Min       1Q   Median       3Q      Max  \n",
       "-0.7716  -0.6640  -0.5727  -0.4859   2.1688  \n",
       "\n",
       "Coefficients:\n",
       "                   Estimate Std. Error z value Pr(>|z|)  \n",
       "(Intercept)       -1.944693   0.960405  -2.025   0.0429 *\n",
       "definitionharmony  0.273645   0.585456   0.467   0.6402  \n",
       "needharmony        0.166038   0.514969   0.322   0.7471  \n",
       "purposecosmetic    0.008896   0.551802   0.016   0.9871  \n",
       "purposeetc        -0.569399   0.527885  -1.079   0.2807  \n",
       "interest           0.087390   0.228510   0.382   0.7021  \n",
       "---\n",
       "Signif. codes:  0 '***' 0.001 '**' 0.01 '*' 0.05 '.' 0.1 ' ' 1\n",
       "\n",
       "(Dispersion parameter for binomial family taken to be 1)\n",
       "\n",
       "    Null deviance: 138.72  on 150  degrees of freedom\n",
       "Residual deviance: 136.58  on 145  degrees of freedom\n",
       "AIC: 148.58\n",
       "\n",
       "Number of Fisher Scoring iterations: 4\n"
      ]
     },
     "metadata": {},
     "output_type": "display_data"
    },
    {
     "data": {
      "text/html": [
       "<table>\n",
       "<thead><tr><th></th><th scope=col>Df</th><th scope=col>Deviance</th><th scope=col>Resid. Df</th><th scope=col>Resid. Dev</th><th scope=col>Pr(&gt;Chi)</th></tr></thead>\n",
       "<tbody>\n",
       "\t<tr><th scope=row>NULL</th><td>NA       </td><td>       NA</td><td>150      </td><td>138.7191 </td><td>       NA</td></tr>\n",
       "\t<tr><th scope=row>definition</th><td> 1       </td><td>0.4651109</td><td>149      </td><td>138.2539 </td><td>0.4952450</td></tr>\n",
       "\t<tr><th scope=row>need</th><td> 1       </td><td>0.0398928</td><td>148      </td><td>138.2141 </td><td>0.8416903</td></tr>\n",
       "\t<tr><th scope=row>purpose</th><td> 2       </td><td>1.4881350</td><td>146      </td><td>136.7259 </td><td>0.4751772</td></tr>\n",
       "\t<tr><th scope=row>interest</th><td> 1       </td><td>0.1475642</td><td>145      </td><td>136.5784 </td><td>0.7008741</td></tr>\n",
       "</tbody>\n",
       "</table>\n"
      ],
      "text/latex": [
       "\\begin{tabular}{r|lllll}\n",
       "  & Df & Deviance & Resid. Df & Resid. Dev & Pr(>Chi)\\\\\n",
       "\\hline\n",
       "\tNULL & NA        &        NA & 150       & 138.7191  &        NA\\\\\n",
       "\tdefinition &  1        & 0.4651109 & 149       & 138.2539  & 0.4952450\\\\\n",
       "\tneed &  1        & 0.0398928 & 148       & 138.2141  & 0.8416903\\\\\n",
       "\tpurpose &  2        & 1.4881350 & 146       & 136.7259  & 0.4751772\\\\\n",
       "\tinterest &  1        & 0.1475642 & 145       & 136.5784  & 0.7008741\\\\\n",
       "\\end{tabular}\n"
      ],
      "text/markdown": [
       "\n",
       "| <!--/--> | Df | Deviance | Resid. Df | Resid. Dev | Pr(>Chi) |\n",
       "|---|---|---|---|---|---|\n",
       "| NULL | NA        |        NA | 150       | 138.7191  |        NA |\n",
       "| definition |  1        | 0.4651109 | 149       | 138.2539  | 0.4952450 |\n",
       "| need |  1        | 0.0398928 | 148       | 138.2141  | 0.8416903 |\n",
       "| purpose |  2        | 1.4881350 | 146       | 136.7259  | 0.4751772 |\n",
       "| interest |  1        | 0.1475642 | 145       | 136.5784  | 0.7008741 |\n",
       "\n"
      ],
      "text/plain": [
       "           Df Deviance  Resid. Df Resid. Dev Pr(>Chi) \n",
       "NULL       NA        NA 150       138.7191          NA\n",
       "definition  1 0.4651109 149       138.2539   0.4952450\n",
       "need        1 0.0398928 148       138.2141   0.8416903\n",
       "purpose     2 1.4881350 146       136.7259   0.4751772\n",
       "interest    1 0.1475642 145       136.5784   0.7008741"
      ]
     },
     "metadata": {},
     "output_type": "display_data"
    }
   ],
   "source": [
    "model <- glm(comp5 ~ definition + need + purpose \n",
    "              + interest, data =survey, family = binomial)\n",
    "summary(model)\n",
    "\n",
    "\n",
    "anova(model, test=\"Chisq\")"
   ]
  },
  {
   "cell_type": "code",
   "execution_count": 14,
   "metadata": {},
   "outputs": [
    {
     "data": {
      "text/plain": [
       "\n",
       "Call:\n",
       "glm(formula = t1_1 ~ definition + need + purpose + interest, \n",
       "    family = binomial, data = survey)\n",
       "\n",
       "Deviance Residuals: \n",
       "    Min       1Q   Median       3Q      Max  \n",
       "-0.8142  -0.5673  -0.4834  -0.3287   2.4838  \n",
       "\n",
       "Coefficients:\n",
       "                  Estimate Std. Error z value Pr(>|z|)   \n",
       "(Intercept)       -2.94149    1.13166  -2.599  0.00934 **\n",
       "definitionharmony  0.63981    0.74139   0.863  0.38814   \n",
       "needharmony        0.51447    0.59890   0.859  0.39033   \n",
       "purposecosmetic    0.77001    0.63405   1.214  0.22458   \n",
       "purposeetc        -0.14623    0.63437  -0.231  0.81769   \n",
       "interest           0.01666    0.25252   0.066  0.94740   \n",
       "---\n",
       "Signif. codes:  0 '***' 0.001 '**' 0.01 '*' 0.05 '.' 0.1 ' ' 1\n",
       "\n",
       "(Dispersion parameter for binomial family taken to be 1)\n",
       "\n",
       "    Null deviance: 118.09  on 150  degrees of freedom\n",
       "Residual deviance: 112.73  on 145  degrees of freedom\n",
       "AIC: 124.73\n",
       "\n",
       "Number of Fisher Scoring iterations: 5\n"
      ]
     },
     "metadata": {},
     "output_type": "display_data"
    },
    {
     "data": {
      "text/html": [
       "<table>\n",
       "<thead><tr><th></th><th scope=col>Df</th><th scope=col>Deviance</th><th scope=col>Resid. Df</th><th scope=col>Resid. Dev</th><th scope=col>Pr(&gt;Chi)</th></tr></thead>\n",
       "<tbody>\n",
       "\t<tr><th scope=row>NULL</th><td>NA         </td><td>         NA</td><td>150        </td><td>118.0875   </td><td>       NA  </td></tr>\n",
       "\t<tr><th scope=row>definition</th><td> 1         </td><td>2.291680034</td><td>149        </td><td>115.7958   </td><td>0.1300691  </td></tr>\n",
       "\t<tr><th scope=row>need</th><td> 1         </td><td>0.372472680</td><td>148        </td><td>115.4234   </td><td>0.5416595  </td></tr>\n",
       "\t<tr><th scope=row>purpose</th><td> 2         </td><td>2.692909675</td><td>146        </td><td>112.7305   </td><td>0.2601609  </td></tr>\n",
       "\t<tr><th scope=row>interest</th><td> 1         </td><td>0.004359369</td><td>145        </td><td>112.7261   </td><td>0.9473575  </td></tr>\n",
       "</tbody>\n",
       "</table>\n"
      ],
      "text/latex": [
       "\\begin{tabular}{r|lllll}\n",
       "  & Df & Deviance & Resid. Df & Resid. Dev & Pr(>Chi)\\\\\n",
       "\\hline\n",
       "\tNULL & NA          &          NA & 150         & 118.0875    &        NA  \\\\\n",
       "\tdefinition &  1          & 2.291680034 & 149         & 115.7958    & 0.1300691  \\\\\n",
       "\tneed &  1          & 0.372472680 & 148         & 115.4234    & 0.5416595  \\\\\n",
       "\tpurpose &  2          & 2.692909675 & 146         & 112.7305    & 0.2601609  \\\\\n",
       "\tinterest &  1          & 0.004359369 & 145         & 112.7261    & 0.9473575  \\\\\n",
       "\\end{tabular}\n"
      ],
      "text/markdown": [
       "\n",
       "| <!--/--> | Df | Deviance | Resid. Df | Resid. Dev | Pr(>Chi) |\n",
       "|---|---|---|---|---|---|\n",
       "| NULL | NA          |          NA | 150         | 118.0875    |        NA   |\n",
       "| definition |  1          | 2.291680034 | 149         | 115.7958    | 0.1300691   |\n",
       "| need |  1          | 0.372472680 | 148         | 115.4234    | 0.5416595   |\n",
       "| purpose |  2          | 2.692909675 | 146         | 112.7305    | 0.2601609   |\n",
       "| interest |  1          | 0.004359369 | 145         | 112.7261    | 0.9473575   |\n",
       "\n"
      ],
      "text/plain": [
       "           Df Deviance    Resid. Df Resid. Dev Pr(>Chi) \n",
       "NULL       NA          NA 150       118.0875          NA\n",
       "definition  1 2.291680034 149       115.7958   0.1300691\n",
       "need        1 0.372472680 148       115.4234   0.5416595\n",
       "purpose     2 2.692909675 146       112.7305   0.2601609\n",
       "interest    1 0.004359369 145       112.7261   0.9473575"
      ]
     },
     "metadata": {},
     "output_type": "display_data"
    }
   ],
   "source": [
    "model <- glm(t1_1 ~ definition + need + purpose \n",
    "              + interest, data =survey, family = binomial)\n",
    "summary(model)\n",
    "\n",
    "\n",
    "anova(model, test=\"Chisq\")"
   ]
  },
  {
   "cell_type": "code",
   "execution_count": 15,
   "metadata": {},
   "outputs": [
    {
     "data": {
      "text/plain": [
       "\n",
       "Call:\n",
       "glm(formula = t1_2 ~ definition + need + purpose + interest, \n",
       "    family = binomial, data = survey)\n",
       "\n",
       "Deviance Residuals: \n",
       "    Min       1Q   Median       3Q      Max  \n",
       "-0.8232  -0.5317  -0.4668  -0.3189   2.5045  \n",
       "\n",
       "Coefficients:\n",
       "                  Estimate Std. Error z value Pr(>|z|)  \n",
       "(Intercept)        -1.5612     1.1004  -1.419   0.1560  \n",
       "definitionharmony  -1.0791     0.6366  -1.695   0.0901 .\n",
       "needharmony         0.1025     0.6313   0.162   0.8710  \n",
       "purposecosmetic     0.7472     0.7814   0.956   0.3389  \n",
       "purposeetc          1.0684     0.6991   1.528   0.1264  \n",
       "interest           -0.1385     0.2580  -0.537   0.5914  \n",
       "---\n",
       "Signif. codes:  0 '***' 0.001 '**' 0.01 '*' 0.05 '.' 0.1 ' ' 1\n",
       "\n",
       "(Dispersion parameter for binomial family taken to be 1)\n",
       "\n",
       "    Null deviance: 114.27  on 150  degrees of freedom\n",
       "Residual deviance: 108.00  on 145  degrees of freedom\n",
       "AIC: 120\n",
       "\n",
       "Number of Fisher Scoring iterations: 5\n"
      ]
     },
     "metadata": {},
     "output_type": "display_data"
    },
    {
     "data": {
      "text/html": [
       "<table>\n",
       "<thead><tr><th></th><th scope=col>Df</th><th scope=col>Deviance</th><th scope=col>Resid. Df</th><th scope=col>Resid. Dev</th><th scope=col>Pr(&gt;Chi)</th></tr></thead>\n",
       "<tbody>\n",
       "\t<tr><th scope=row>NULL</th><td>NA        </td><td>       NA </td><td>150       </td><td>114.2701  </td><td>        NA</td></tr>\n",
       "\t<tr><th scope=row>definition</th><td> 1        </td><td>3.5144527 </td><td>149       </td><td>110.7557  </td><td>0.06083575</td></tr>\n",
       "\t<tr><th scope=row>need</th><td> 1        </td><td>0.0176488 </td><td>148       </td><td>110.7380  </td><td>0.89431297</td></tr>\n",
       "\t<tr><th scope=row>purpose</th><td> 2        </td><td>2.4562432 </td><td>146       </td><td>108.2818  </td><td>0.29284214</td></tr>\n",
       "\t<tr><th scope=row>interest</th><td> 1        </td><td>0.2852425 </td><td>145       </td><td>107.9965  </td><td>0.59328551</td></tr>\n",
       "</tbody>\n",
       "</table>\n"
      ],
      "text/latex": [
       "\\begin{tabular}{r|lllll}\n",
       "  & Df & Deviance & Resid. Df & Resid. Dev & Pr(>Chi)\\\\\n",
       "\\hline\n",
       "\tNULL & NA         &        NA  & 150        & 114.2701   &         NA\\\\\n",
       "\tdefinition &  1         & 3.5144527  & 149        & 110.7557   & 0.06083575\\\\\n",
       "\tneed &  1         & 0.0176488  & 148        & 110.7380   & 0.89431297\\\\\n",
       "\tpurpose &  2         & 2.4562432  & 146        & 108.2818   & 0.29284214\\\\\n",
       "\tinterest &  1         & 0.2852425  & 145        & 107.9965   & 0.59328551\\\\\n",
       "\\end{tabular}\n"
      ],
      "text/markdown": [
       "\n",
       "| <!--/--> | Df | Deviance | Resid. Df | Resid. Dev | Pr(>Chi) |\n",
       "|---|---|---|---|---|---|\n",
       "| NULL | NA         |        NA  | 150        | 114.2701   |         NA |\n",
       "| definition |  1         | 3.5144527  | 149        | 110.7557   | 0.06083575 |\n",
       "| need |  1         | 0.0176488  | 148        | 110.7380   | 0.89431297 |\n",
       "| purpose |  2         | 2.4562432  | 146        | 108.2818   | 0.29284214 |\n",
       "| interest |  1         | 0.2852425  | 145        | 107.9965   | 0.59328551 |\n",
       "\n"
      ],
      "text/plain": [
       "           Df Deviance  Resid. Df Resid. Dev Pr(>Chi)  \n",
       "NULL       NA        NA 150       114.2701           NA\n",
       "definition  1 3.5144527 149       110.7557   0.06083575\n",
       "need        1 0.0176488 148       110.7380   0.89431297\n",
       "purpose     2 2.4562432 146       108.2818   0.29284214\n",
       "interest    1 0.2852425 145       107.9965   0.59328551"
      ]
     },
     "metadata": {},
     "output_type": "display_data"
    }
   ],
   "source": [
    "model <- glm(t1_2 ~ definition + need + purpose \n",
    "              + interest, data =survey, family = binomial)\n",
    "summary(model)\n",
    "\n",
    "\n",
    "anova(model, test=\"Chisq\")"
   ]
  },
  {
   "cell_type": "code",
   "execution_count": 16,
   "metadata": {},
   "outputs": [
    {
     "data": {
      "text/plain": [
       "\n",
       "Call:\n",
       "glm(formula = t1_3 ~ definition + need + purpose + interest, \n",
       "    family = binomial, data = survey)\n",
       "\n",
       "Deviance Residuals: \n",
       "    Min       1Q   Median       3Q      Max  \n",
       "-0.9811  -0.7455  -0.6767  -0.5620   1.9836  \n",
       "\n",
       "Coefficients:\n",
       "                  Estimate Std. Error z value Pr(>|z|)\n",
       "(Intercept)        -0.7941     0.8336  -0.953    0.341\n",
       "definitionharmony   0.2116     0.5302   0.399    0.690\n",
       "needharmony         0.1963     0.4706   0.417    0.677\n",
       "purposecosmetic     0.0731     0.5318   0.137    0.891\n",
       "purposeetc          0.1242     0.4700   0.264    0.792\n",
       "interest           -0.2191     0.1988  -1.102    0.270\n",
       "\n",
       "(Dispersion parameter for binomial family taken to be 1)\n",
       "\n",
       "    Null deviance: 163.51  on 150  degrees of freedom\n",
       "Residual deviance: 161.37  on 145  degrees of freedom\n",
       "AIC: 173.37\n",
       "\n",
       "Number of Fisher Scoring iterations: 4\n"
      ]
     },
     "metadata": {},
     "output_type": "display_data"
    },
    {
     "data": {
      "text/html": [
       "<table>\n",
       "<thead><tr><th></th><th scope=col>Df</th><th scope=col>Deviance</th><th scope=col>Resid. Df</th><th scope=col>Resid. Dev</th><th scope=col>Pr(&gt;Chi)</th></tr></thead>\n",
       "<tbody>\n",
       "\t<tr><th scope=row>NULL</th><td>NA         </td><td>         NA</td><td>150        </td><td>163.5112   </td><td>       NA  </td></tr>\n",
       "\t<tr><th scope=row>definition</th><td> 1         </td><td>0.729049861</td><td>149        </td><td>162.7822   </td><td>0.3931913  </td></tr>\n",
       "\t<tr><th scope=row>need</th><td> 1         </td><td>0.186080620</td><td>148        </td><td>162.5961   </td><td>0.6661989  </td></tr>\n",
       "\t<tr><th scope=row>purpose</th><td> 2         </td><td>0.008062752</td><td>146        </td><td>162.5880   </td><td>0.9959767  </td></tr>\n",
       "\t<tr><th scope=row>interest</th><td> 1         </td><td>1.213779907</td><td>145        </td><td>161.3742   </td><td>0.2705848  </td></tr>\n",
       "</tbody>\n",
       "</table>\n"
      ],
      "text/latex": [
       "\\begin{tabular}{r|lllll}\n",
       "  & Df & Deviance & Resid. Df & Resid. Dev & Pr(>Chi)\\\\\n",
       "\\hline\n",
       "\tNULL & NA          &          NA & 150         & 163.5112    &        NA  \\\\\n",
       "\tdefinition &  1          & 0.729049861 & 149         & 162.7822    & 0.3931913  \\\\\n",
       "\tneed &  1          & 0.186080620 & 148         & 162.5961    & 0.6661989  \\\\\n",
       "\tpurpose &  2          & 0.008062752 & 146         & 162.5880    & 0.9959767  \\\\\n",
       "\tinterest &  1          & 1.213779907 & 145         & 161.3742    & 0.2705848  \\\\\n",
       "\\end{tabular}\n"
      ],
      "text/markdown": [
       "\n",
       "| <!--/--> | Df | Deviance | Resid. Df | Resid. Dev | Pr(>Chi) |\n",
       "|---|---|---|---|---|---|\n",
       "| NULL | NA          |          NA | 150         | 163.5112    |        NA   |\n",
       "| definition |  1          | 0.729049861 | 149         | 162.7822    | 0.3931913   |\n",
       "| need |  1          | 0.186080620 | 148         | 162.5961    | 0.6661989   |\n",
       "| purpose |  2          | 0.008062752 | 146         | 162.5880    | 0.9959767   |\n",
       "| interest |  1          | 1.213779907 | 145         | 161.3742    | 0.2705848   |\n",
       "\n"
      ],
      "text/plain": [
       "           Df Deviance    Resid. Df Resid. Dev Pr(>Chi) \n",
       "NULL       NA          NA 150       163.5112          NA\n",
       "definition  1 0.729049861 149       162.7822   0.3931913\n",
       "need        1 0.186080620 148       162.5961   0.6661989\n",
       "purpose     2 0.008062752 146       162.5880   0.9959767\n",
       "interest    1 1.213779907 145       161.3742   0.2705848"
      ]
     },
     "metadata": {},
     "output_type": "display_data"
    }
   ],
   "source": [
    "model <- glm(t1_3 ~ definition + need + purpose \n",
    "              + interest, data =survey, family = binomial)\n",
    "summary(model)\n",
    "\n",
    "\n",
    "anova(model, test=\"Chisq\")"
   ]
  },
  {
   "cell_type": "code",
   "execution_count": 17,
   "metadata": {},
   "outputs": [
    {
     "data": {
      "text/plain": [
       "\n",
       "Call:\n",
       "glm(formula = t1_4 ~ definition + need + purpose + interest, \n",
       "    family = binomial, data = survey)\n",
       "\n",
       "Deviance Residuals: \n",
       "    Min       1Q   Median       3Q      Max  \n",
       "-1.0219  -0.8758  -0.8051   1.4482   1.7588  \n",
       "\n",
       "Coefficients:\n",
       "                   Estimate Std. Error z value Pr(>|z|)  \n",
       "(Intercept)       -1.492454   0.792709  -1.883   0.0597 .\n",
       "definitionharmony  0.001737   0.463886   0.004   0.9970  \n",
       "needharmony        0.111792   0.424235   0.264   0.7922  \n",
       "purposecosmetic   -0.183290   0.486812  -0.377   0.7065  \n",
       "purposeetc        -0.128907   0.426035  -0.303   0.7622  \n",
       "interest           0.200663   0.189237   1.060   0.2890  \n",
       "---\n",
       "Signif. codes:  0 '***' 0.001 '**' 0.01 '*' 0.05 '.' 0.1 ' ' 1\n",
       "\n",
       "(Dispersion parameter for binomial family taken to be 1)\n",
       "\n",
       "    Null deviance: 185.65  on 150  degrees of freedom\n",
       "Residual deviance: 184.29  on 145  degrees of freedom\n",
       "AIC: 196.29\n",
       "\n",
       "Number of Fisher Scoring iterations: 4\n"
      ]
     },
     "metadata": {},
     "output_type": "display_data"
    },
    {
     "data": {
      "text/html": [
       "<table>\n",
       "<thead><tr><th></th><th scope=col>Df</th><th scope=col>Deviance</th><th scope=col>Resid. Df</th><th scope=col>Resid. Dev</th><th scope=col>Pr(&gt;Chi)</th></tr></thead>\n",
       "<tbody>\n",
       "\t<tr><th scope=row>NULL</th><td>NA         </td><td>         NA</td><td>150        </td><td>185.6518   </td><td>       NA  </td></tr>\n",
       "\t<tr><th scope=row>definition</th><td> 1         </td><td>0.001515981</td><td>149        </td><td>185.6503   </td><td>0.9689417  </td></tr>\n",
       "\t<tr><th scope=row>need</th><td> 1         </td><td>0.097077788</td><td>148        </td><td>185.5532   </td><td>0.7553650  </td></tr>\n",
       "\t<tr><th scope=row>purpose</th><td> 2         </td><td>0.110624434</td><td>146        </td><td>185.4426   </td><td>0.9461897  </td></tr>\n",
       "\t<tr><th scope=row>interest</th><td> 1         </td><td>1.149133014</td><td>145        </td><td>184.2935   </td><td>0.2837307  </td></tr>\n",
       "</tbody>\n",
       "</table>\n"
      ],
      "text/latex": [
       "\\begin{tabular}{r|lllll}\n",
       "  & Df & Deviance & Resid. Df & Resid. Dev & Pr(>Chi)\\\\\n",
       "\\hline\n",
       "\tNULL & NA          &          NA & 150         & 185.6518    &        NA  \\\\\n",
       "\tdefinition &  1          & 0.001515981 & 149         & 185.6503    & 0.9689417  \\\\\n",
       "\tneed &  1          & 0.097077788 & 148         & 185.5532    & 0.7553650  \\\\\n",
       "\tpurpose &  2          & 0.110624434 & 146         & 185.4426    & 0.9461897  \\\\\n",
       "\tinterest &  1          & 1.149133014 & 145         & 184.2935    & 0.2837307  \\\\\n",
       "\\end{tabular}\n"
      ],
      "text/markdown": [
       "\n",
       "| <!--/--> | Df | Deviance | Resid. Df | Resid. Dev | Pr(>Chi) |\n",
       "|---|---|---|---|---|---|\n",
       "| NULL | NA          |          NA | 150         | 185.6518    |        NA   |\n",
       "| definition |  1          | 0.001515981 | 149         | 185.6503    | 0.9689417   |\n",
       "| need |  1          | 0.097077788 | 148         | 185.5532    | 0.7553650   |\n",
       "| purpose |  2          | 0.110624434 | 146         | 185.4426    | 0.9461897   |\n",
       "| interest |  1          | 1.149133014 | 145         | 184.2935    | 0.2837307   |\n",
       "\n"
      ],
      "text/plain": [
       "           Df Deviance    Resid. Df Resid. Dev Pr(>Chi) \n",
       "NULL       NA          NA 150       185.6518          NA\n",
       "definition  1 0.001515981 149       185.6503   0.9689417\n",
       "need        1 0.097077788 148       185.5532   0.7553650\n",
       "purpose     2 0.110624434 146       185.4426   0.9461897\n",
       "interest    1 1.149133014 145       184.2935   0.2837307"
      ]
     },
     "metadata": {},
     "output_type": "display_data"
    }
   ],
   "source": [
    "model <- glm(t1_4 ~ definition + need + purpose \n",
    "              + interest, data =survey, family = binomial)\n",
    "summary(model)\n",
    "\n",
    "\n",
    "anova(model, test=\"Chisq\")"
   ]
  },
  {
   "cell_type": "code",
   "execution_count": 18,
   "metadata": {},
   "outputs": [
    {
     "data": {
      "text/plain": [
       "\n",
       "Call:\n",
       "glm(formula = t1_5 ~ definition + need + purpose + interest, \n",
       "    family = binomial, data = survey)\n",
       "\n",
       "Deviance Residuals: \n",
       "    Min       1Q   Median       3Q      Max  \n",
       "-0.9866  -0.7068  -0.5828  -0.4849   2.1088  \n",
       "\n",
       "Coefficients:\n",
       "                  Estimate Std. Error z value Pr(>|z|)\n",
       "(Intercept)        -0.8870     0.8882  -0.999    0.318\n",
       "definitionharmony   0.2017     0.5115   0.394    0.693\n",
       "needharmony        -0.7460     0.4778  -1.561    0.118\n",
       "purposecosmetic    -0.8416     0.5693  -1.478    0.139\n",
       "purposeetc         -0.4740     0.4718  -1.005    0.315\n",
       "interest            0.0546     0.2181   0.250    0.802\n",
       "\n",
       "(Dispersion parameter for binomial family taken to be 1)\n",
       "\n",
       "    Null deviance: 153.31  on 150  degrees of freedom\n",
       "Residual deviance: 148.64  on 145  degrees of freedom\n",
       "AIC: 160.64\n",
       "\n",
       "Number of Fisher Scoring iterations: 4\n"
      ]
     },
     "metadata": {},
     "output_type": "display_data"
    },
    {
     "data": {
      "text/html": [
       "<table>\n",
       "<thead><tr><th></th><th scope=col>Df</th><th scope=col>Deviance</th><th scope=col>Resid. Df</th><th scope=col>Resid. Dev</th><th scope=col>Pr(&gt;Chi)</th></tr></thead>\n",
       "<tbody>\n",
       "\t<tr><th scope=row>NULL</th><td>NA        </td><td>        NA</td><td>150       </td><td>153.3133  </td><td>       NA </td></tr>\n",
       "\t<tr><th scope=row>definition</th><td> 1        </td><td>0.26888671</td><td>149       </td><td>153.0444  </td><td>0.6040796 </td></tr>\n",
       "\t<tr><th scope=row>need</th><td> 1        </td><td>2.00212310</td><td>148       </td><td>151.0423  </td><td>0.1570791 </td></tr>\n",
       "\t<tr><th scope=row>purpose</th><td> 2        </td><td>2.33650523</td><td>146       </td><td>148.7058  </td><td>0.3109097 </td></tr>\n",
       "\t<tr><th scope=row>interest</th><td> 1        </td><td>0.06296002</td><td>145       </td><td>148.6428  </td><td>0.8018772 </td></tr>\n",
       "</tbody>\n",
       "</table>\n"
      ],
      "text/latex": [
       "\\begin{tabular}{r|lllll}\n",
       "  & Df & Deviance & Resid. Df & Resid. Dev & Pr(>Chi)\\\\\n",
       "\\hline\n",
       "\tNULL & NA         &         NA & 150        & 153.3133   &        NA \\\\\n",
       "\tdefinition &  1         & 0.26888671 & 149        & 153.0444   & 0.6040796 \\\\\n",
       "\tneed &  1         & 2.00212310 & 148        & 151.0423   & 0.1570791 \\\\\n",
       "\tpurpose &  2         & 2.33650523 & 146        & 148.7058   & 0.3109097 \\\\\n",
       "\tinterest &  1         & 0.06296002 & 145        & 148.6428   & 0.8018772 \\\\\n",
       "\\end{tabular}\n"
      ],
      "text/markdown": [
       "\n",
       "| <!--/--> | Df | Deviance | Resid. Df | Resid. Dev | Pr(>Chi) |\n",
       "|---|---|---|---|---|---|\n",
       "| NULL | NA         |         NA | 150        | 153.3133   |        NA  |\n",
       "| definition |  1         | 0.26888671 | 149        | 153.0444   | 0.6040796  |\n",
       "| need |  1         | 2.00212310 | 148        | 151.0423   | 0.1570791  |\n",
       "| purpose |  2         | 2.33650523 | 146        | 148.7058   | 0.3109097  |\n",
       "| interest |  1         | 0.06296002 | 145        | 148.6428   | 0.8018772  |\n",
       "\n"
      ],
      "text/plain": [
       "           Df Deviance   Resid. Df Resid. Dev Pr(>Chi) \n",
       "NULL       NA         NA 150       153.3133          NA\n",
       "definition  1 0.26888671 149       153.0444   0.6040796\n",
       "need        1 2.00212310 148       151.0423   0.1570791\n",
       "purpose     2 2.33650523 146       148.7058   0.3109097\n",
       "interest    1 0.06296002 145       148.6428   0.8018772"
      ]
     },
     "metadata": {},
     "output_type": "display_data"
    }
   ],
   "source": [
    "model <- glm(t1_5 ~ definition + need + purpose \n",
    "              + interest, data =survey, family = binomial)\n",
    "summary(model)\n",
    "\n",
    "\n",
    "anova(model, test=\"Chisq\")"
   ]
  },
  {
   "cell_type": "code",
   "execution_count": 19,
   "metadata": {},
   "outputs": [
    {
     "data": {
      "text/plain": [
       "\n",
       "Call:\n",
       "glm(formula = t2_1 ~ definition + need + purpose + interest, \n",
       "    family = binomial, data = survey)\n",
       "\n",
       "Deviance Residuals: \n",
       "    Min       1Q   Median       3Q      Max  \n",
       "-0.8723  -0.6965  -0.6675  -0.5548   1.9766  \n",
       "\n",
       "Coefficients:\n",
       "                  Estimate Std. Error z value Pr(>|z|)  \n",
       "(Intercept)       -1.49875    0.89436  -1.676   0.0938 .\n",
       "definitionharmony  0.41225    0.53285   0.774   0.4391  \n",
       "needharmony       -0.46136    0.47525  -0.971   0.3317  \n",
       "purposecosmetic    0.40512    0.56662   0.715   0.4746  \n",
       "purposeetc         0.43918    0.51465   0.853   0.3935  \n",
       "interest          -0.06138    0.21043  -0.292   0.7705  \n",
       "---\n",
       "Signif. codes:  0 '***' 0.001 '**' 0.01 '*' 0.05 '.' 0.1 ' ' 1\n",
       "\n",
       "(Dispersion parameter for binomial family taken to be 1)\n",
       "\n",
       "    Null deviance: 153.31  on 150  degrees of freedom\n",
       "Residual deviance: 151.31  on 145  degrees of freedom\n",
       "AIC: 163.31\n",
       "\n",
       "Number of Fisher Scoring iterations: 4\n"
      ]
     },
     "metadata": {},
     "output_type": "display_data"
    },
    {
     "data": {
      "text/html": [
       "<table>\n",
       "<thead><tr><th></th><th scope=col>Df</th><th scope=col>Deviance</th><th scope=col>Resid. Df</th><th scope=col>Resid. Dev</th><th scope=col>Pr(&gt;Chi)</th></tr></thead>\n",
       "<tbody>\n",
       "\t<tr><th scope=row>NULL</th><td>NA        </td><td>        NA</td><td>150       </td><td>153.3133  </td><td>       NA </td></tr>\n",
       "\t<tr><th scope=row>definition</th><td> 1        </td><td>0.13860727</td><td>149       </td><td>153.1747  </td><td>0.7096695 </td></tr>\n",
       "\t<tr><th scope=row>need</th><td> 1        </td><td>1.00101103</td><td>148       </td><td>152.1737  </td><td>0.3170660 </td></tr>\n",
       "\t<tr><th scope=row>purpose</th><td> 2        </td><td>0.77677451</td><td>146       </td><td>151.3969  </td><td>0.6781497 </td></tr>\n",
       "\t<tr><th scope=row>interest</th><td> 1        </td><td>0.08474923</td><td>145       </td><td>151.3121  </td><td>0.7709617 </td></tr>\n",
       "</tbody>\n",
       "</table>\n"
      ],
      "text/latex": [
       "\\begin{tabular}{r|lllll}\n",
       "  & Df & Deviance & Resid. Df & Resid. Dev & Pr(>Chi)\\\\\n",
       "\\hline\n",
       "\tNULL & NA         &         NA & 150        & 153.3133   &        NA \\\\\n",
       "\tdefinition &  1         & 0.13860727 & 149        & 153.1747   & 0.7096695 \\\\\n",
       "\tneed &  1         & 1.00101103 & 148        & 152.1737   & 0.3170660 \\\\\n",
       "\tpurpose &  2         & 0.77677451 & 146        & 151.3969   & 0.6781497 \\\\\n",
       "\tinterest &  1         & 0.08474923 & 145        & 151.3121   & 0.7709617 \\\\\n",
       "\\end{tabular}\n"
      ],
      "text/markdown": [
       "\n",
       "| <!--/--> | Df | Deviance | Resid. Df | Resid. Dev | Pr(>Chi) |\n",
       "|---|---|---|---|---|---|\n",
       "| NULL | NA         |         NA | 150        | 153.3133   |        NA  |\n",
       "| definition |  1         | 0.13860727 | 149        | 153.1747   | 0.7096695  |\n",
       "| need |  1         | 1.00101103 | 148        | 152.1737   | 0.3170660  |\n",
       "| purpose |  2         | 0.77677451 | 146        | 151.3969   | 0.6781497  |\n",
       "| interest |  1         | 0.08474923 | 145        | 151.3121   | 0.7709617  |\n",
       "\n"
      ],
      "text/plain": [
       "           Df Deviance   Resid. Df Resid. Dev Pr(>Chi) \n",
       "NULL       NA         NA 150       153.3133          NA\n",
       "definition  1 0.13860727 149       153.1747   0.7096695\n",
       "need        1 1.00101103 148       152.1737   0.3170660\n",
       "purpose     2 0.77677451 146       151.3969   0.6781497\n",
       "interest    1 0.08474923 145       151.3121   0.7709617"
      ]
     },
     "metadata": {},
     "output_type": "display_data"
    }
   ],
   "source": [
    "model <- glm(t2_1 ~ definition + need + purpose \n",
    "              + interest, data =survey, family = binomial)\n",
    "summary(model)\n",
    "\n",
    "\n",
    "anova(model, test=\"Chisq\")"
   ]
  },
  {
   "cell_type": "code",
   "execution_count": 20,
   "metadata": {},
   "outputs": [
    {
     "data": {
      "text/plain": [
       "\n",
       "Call:\n",
       "glm(formula = t2_2 ~ definition + need + purpose + interest, \n",
       "    family = binomial, data = survey)\n",
       "\n",
       "Deviance Residuals: \n",
       "    Min       1Q   Median       3Q      Max  \n",
       "-0.9206  -0.6143  -0.5643  -0.4265   2.2757  \n",
       "\n",
       "Coefficients:\n",
       "                  Estimate Std. Error z value Pr(>|z|)\n",
       "(Intercept)       -1.09309    0.92616  -1.180    0.238\n",
       "definitionharmony -0.08616    0.60564  -0.142    0.887\n",
       "needharmony        0.69961    0.55297   1.265    0.206\n",
       "purposecosmetic   -0.18498    0.56222  -0.329    0.742\n",
       "purposeetc        -0.62047    0.51925  -1.195    0.232\n",
       "interest          -0.15956    0.22266  -0.717    0.474\n",
       "\n",
       "(Dispersion parameter for binomial family taken to be 1)\n",
       "\n",
       "    Null deviance: 138.72  on 150  degrees of freedom\n",
       "Residual deviance: 134.33  on 145  degrees of freedom\n",
       "AIC: 146.33\n",
       "\n",
       "Number of Fisher Scoring iterations: 4\n"
      ]
     },
     "metadata": {},
     "output_type": "display_data"
    },
    {
     "data": {
      "text/html": [
       "<table>\n",
       "<thead><tr><th></th><th scope=col>Df</th><th scope=col>Deviance</th><th scope=col>Resid. Df</th><th scope=col>Resid. Dev</th><th scope=col>Pr(&gt;Chi)</th></tr></thead>\n",
       "<tbody>\n",
       "\t<tr><th scope=row>NULL</th><td>NA       </td><td>       NA</td><td>150      </td><td>138.7191 </td><td>       NA</td></tr>\n",
       "\t<tr><th scope=row>definition</th><td> 1       </td><td>0.4651109</td><td>149      </td><td>138.2539 </td><td>0.4952450</td></tr>\n",
       "\t<tr><th scope=row>need</th><td> 1       </td><td>1.5250741</td><td>148      </td><td>136.7289 </td><td>0.2168532</td></tr>\n",
       "\t<tr><th scope=row>purpose</th><td> 2       </td><td>1.8892977</td><td>146      </td><td>134.8396 </td><td>0.3888161</td></tr>\n",
       "\t<tr><th scope=row>interest</th><td> 1       </td><td>0.5099375</td><td>145      </td><td>134.3296 </td><td>0.4751659</td></tr>\n",
       "</tbody>\n",
       "</table>\n"
      ],
      "text/latex": [
       "\\begin{tabular}{r|lllll}\n",
       "  & Df & Deviance & Resid. Df & Resid. Dev & Pr(>Chi)\\\\\n",
       "\\hline\n",
       "\tNULL & NA        &        NA & 150       & 138.7191  &        NA\\\\\n",
       "\tdefinition &  1        & 0.4651109 & 149       & 138.2539  & 0.4952450\\\\\n",
       "\tneed &  1        & 1.5250741 & 148       & 136.7289  & 0.2168532\\\\\n",
       "\tpurpose &  2        & 1.8892977 & 146       & 134.8396  & 0.3888161\\\\\n",
       "\tinterest &  1        & 0.5099375 & 145       & 134.3296  & 0.4751659\\\\\n",
       "\\end{tabular}\n"
      ],
      "text/markdown": [
       "\n",
       "| <!--/--> | Df | Deviance | Resid. Df | Resid. Dev | Pr(>Chi) |\n",
       "|---|---|---|---|---|---|\n",
       "| NULL | NA        |        NA | 150       | 138.7191  |        NA |\n",
       "| definition |  1        | 0.4651109 | 149       | 138.2539  | 0.4952450 |\n",
       "| need |  1        | 1.5250741 | 148       | 136.7289  | 0.2168532 |\n",
       "| purpose |  2        | 1.8892977 | 146       | 134.8396  | 0.3888161 |\n",
       "| interest |  1        | 0.5099375 | 145       | 134.3296  | 0.4751659 |\n",
       "\n"
      ],
      "text/plain": [
       "           Df Deviance  Resid. Df Resid. Dev Pr(>Chi) \n",
       "NULL       NA        NA 150       138.7191          NA\n",
       "definition  1 0.4651109 149       138.2539   0.4952450\n",
       "need        1 1.5250741 148       136.7289   0.2168532\n",
       "purpose     2 1.8892977 146       134.8396   0.3888161\n",
       "interest    1 0.5099375 145       134.3296   0.4751659"
      ]
     },
     "metadata": {},
     "output_type": "display_data"
    }
   ],
   "source": [
    "model <- glm(t2_2 ~ definition + need + purpose \n",
    "              + interest, data =survey, family = binomial)\n",
    "summary(model)\n",
    "\n",
    "\n",
    "anova(model, test=\"Chisq\")"
   ]
  },
  {
   "cell_type": "code",
   "execution_count": 21,
   "metadata": {},
   "outputs": [
    {
     "data": {
      "text/plain": [
       "\n",
       "Call:\n",
       "glm(formula = t2_3 ~ definition + need + purpose + interest, \n",
       "    family = binomial, data = survey)\n",
       "\n",
       "Deviance Residuals: \n",
       "    Min       1Q   Median       3Q      Max  \n",
       "-0.9250  -0.7376  -0.6670  -0.5843   1.8716  \n",
       "\n",
       "Coefficients:\n",
       "                  Estimate Std. Error z value Pr(>|z|)\n",
       "(Intercept)        -0.5766     0.8303  -0.694    0.487\n",
       "definitionharmony  -0.5740     0.5056  -1.135    0.256\n",
       "needharmony         0.2250     0.4808   0.468    0.640\n",
       "purposecosmetic     0.0686     0.5312   0.129    0.897\n",
       "purposeetc          0.0145     0.4730   0.031    0.976\n",
       "interest           -0.1197     0.2022  -0.592    0.554\n",
       "\n",
       "(Dispersion parameter for binomial family taken to be 1)\n",
       "\n",
       "    Null deviance: 161.08  on 150  degrees of freedom\n",
       "Residual deviance: 159.52  on 145  degrees of freedom\n",
       "AIC: 171.52\n",
       "\n",
       "Number of Fisher Scoring iterations: 4\n"
      ]
     },
     "metadata": {},
     "output_type": "display_data"
    },
    {
     "data": {
      "text/html": [
       "<table>\n",
       "<thead><tr><th></th><th scope=col>Df</th><th scope=col>Deviance</th><th scope=col>Resid. Df</th><th scope=col>Resid. Dev</th><th scope=col>Pr(&gt;Chi)</th></tr></thead>\n",
       "<tbody>\n",
       "\t<tr><th scope=row>NULL</th><td>NA       </td><td>       NA</td><td>150      </td><td>161.0773 </td><td>       NA</td></tr>\n",
       "\t<tr><th scope=row>definition</th><td> 1       </td><td>0.9723085</td><td>149      </td><td>160.1050 </td><td>0.3241051</td></tr>\n",
       "\t<tr><th scope=row>need</th><td> 1       </td><td>0.1988802</td><td>148      </td><td>159.9061 </td><td>0.6556262</td></tr>\n",
       "\t<tr><th scope=row>purpose</th><td> 2       </td><td>0.0341949</td><td>146      </td><td>159.8719 </td><td>0.9830479</td></tr>\n",
       "\t<tr><th scope=row>interest</th><td> 1       </td><td>0.3488388</td><td>145      </td><td>159.5231 </td><td>0.5547712</td></tr>\n",
       "</tbody>\n",
       "</table>\n"
      ],
      "text/latex": [
       "\\begin{tabular}{r|lllll}\n",
       "  & Df & Deviance & Resid. Df & Resid. Dev & Pr(>Chi)\\\\\n",
       "\\hline\n",
       "\tNULL & NA        &        NA & 150       & 161.0773  &        NA\\\\\n",
       "\tdefinition &  1        & 0.9723085 & 149       & 160.1050  & 0.3241051\\\\\n",
       "\tneed &  1        & 0.1988802 & 148       & 159.9061  & 0.6556262\\\\\n",
       "\tpurpose &  2        & 0.0341949 & 146       & 159.8719  & 0.9830479\\\\\n",
       "\tinterest &  1        & 0.3488388 & 145       & 159.5231  & 0.5547712\\\\\n",
       "\\end{tabular}\n"
      ],
      "text/markdown": [
       "\n",
       "| <!--/--> | Df | Deviance | Resid. Df | Resid. Dev | Pr(>Chi) |\n",
       "|---|---|---|---|---|---|\n",
       "| NULL | NA        |        NA | 150       | 161.0773  |        NA |\n",
       "| definition |  1        | 0.9723085 | 149       | 160.1050  | 0.3241051 |\n",
       "| need |  1        | 0.1988802 | 148       | 159.9061  | 0.6556262 |\n",
       "| purpose |  2        | 0.0341949 | 146       | 159.8719  | 0.9830479 |\n",
       "| interest |  1        | 0.3488388 | 145       | 159.5231  | 0.5547712 |\n",
       "\n"
      ],
      "text/plain": [
       "           Df Deviance  Resid. Df Resid. Dev Pr(>Chi) \n",
       "NULL       NA        NA 150       161.0773          NA\n",
       "definition  1 0.9723085 149       160.1050   0.3241051\n",
       "need        1 0.1988802 148       159.9061   0.6556262\n",
       "purpose     2 0.0341949 146       159.8719   0.9830479\n",
       "interest    1 0.3488388 145       159.5231   0.5547712"
      ]
     },
     "metadata": {},
     "output_type": "display_data"
    }
   ],
   "source": [
    "model <- glm(t2_3 ~ definition + need + purpose \n",
    "              + interest, data =survey, family = binomial)\n",
    "summary(model)\n",
    "\n",
    "\n",
    "anova(model, test=\"Chisq\")"
   ]
  },
  {
   "cell_type": "code",
   "execution_count": 22,
   "metadata": {},
   "outputs": [
    {
     "data": {
      "text/plain": [
       "\n",
       "Call:\n",
       "glm(formula = t2_4 ~ definition + need + purpose + interest, \n",
       "    family = binomial, data = survey)\n",
       "\n",
       "Deviance Residuals: \n",
       "    Min       1Q   Median       3Q      Max  \n",
       "-0.8408  -0.7486  -0.6594  -0.6300   1.8519  \n",
       "\n",
       "Coefficients:\n",
       "                  Estimate Std. Error z value Pr(>|z|)\n",
       "(Intercept)       -0.83633    0.84201  -0.993    0.321\n",
       "definitionharmony -0.05072    0.49500  -0.102    0.918\n",
       "needharmony       -0.33683    0.46110  -0.730    0.465\n",
       "purposecosmetic   -0.14821    0.52131  -0.284    0.776\n",
       "purposeetc        -0.23861    0.46835  -0.509    0.610\n",
       "interest          -0.01077    0.20509  -0.053    0.958\n",
       "\n",
       "(Dispersion parameter for binomial family taken to be 1)\n",
       "\n",
       "    Null deviance: 161.08  on 150  degrees of freedom\n",
       "Residual deviance: 159.93  on 145  degrees of freedom\n",
       "AIC: 171.93\n",
       "\n",
       "Number of Fisher Scoring iterations: 4\n"
      ]
     },
     "metadata": {},
     "output_type": "display_data"
    },
    {
     "data": {
      "text/html": [
       "<table>\n",
       "<thead><tr><th></th><th scope=col>Df</th><th scope=col>Deviance</th><th scope=col>Resid. Df</th><th scope=col>Resid. Dev</th><th scope=col>Pr(&gt;Chi)</th></tr></thead>\n",
       "<tbody>\n",
       "\t<tr><th scope=row>NULL</th><td>NA         </td><td>         NA</td><td>150        </td><td>161.0773   </td><td>       NA  </td></tr>\n",
       "\t<tr><th scope=row>definition</th><td> 1         </td><td>0.317980610</td><td>149        </td><td>160.7593   </td><td>0.5728238  </td></tr>\n",
       "\t<tr><th scope=row>need</th><td> 1         </td><td>0.551513596</td><td>148        </td><td>160.2078   </td><td>0.4576999  </td></tr>\n",
       "\t<tr><th scope=row>purpose</th><td> 2         </td><td>0.276496061</td><td>146        </td><td>159.9313   </td><td>0.8708827  </td></tr>\n",
       "\t<tr><th scope=row>interest</th><td> 1         </td><td>0.002754915</td><td>145        </td><td>159.9285   </td><td>0.9581404  </td></tr>\n",
       "</tbody>\n",
       "</table>\n"
      ],
      "text/latex": [
       "\\begin{tabular}{r|lllll}\n",
       "  & Df & Deviance & Resid. Df & Resid. Dev & Pr(>Chi)\\\\\n",
       "\\hline\n",
       "\tNULL & NA          &          NA & 150         & 161.0773    &        NA  \\\\\n",
       "\tdefinition &  1          & 0.317980610 & 149         & 160.7593    & 0.5728238  \\\\\n",
       "\tneed &  1          & 0.551513596 & 148         & 160.2078    & 0.4576999  \\\\\n",
       "\tpurpose &  2          & 0.276496061 & 146         & 159.9313    & 0.8708827  \\\\\n",
       "\tinterest &  1          & 0.002754915 & 145         & 159.9285    & 0.9581404  \\\\\n",
       "\\end{tabular}\n"
      ],
      "text/markdown": [
       "\n",
       "| <!--/--> | Df | Deviance | Resid. Df | Resid. Dev | Pr(>Chi) |\n",
       "|---|---|---|---|---|---|\n",
       "| NULL | NA          |          NA | 150         | 161.0773    |        NA   |\n",
       "| definition |  1          | 0.317980610 | 149         | 160.7593    | 0.5728238   |\n",
       "| need |  1          | 0.551513596 | 148         | 160.2078    | 0.4576999   |\n",
       "| purpose |  2          | 0.276496061 | 146         | 159.9313    | 0.8708827   |\n",
       "| interest |  1          | 0.002754915 | 145         | 159.9285    | 0.9581404   |\n",
       "\n"
      ],
      "text/plain": [
       "           Df Deviance    Resid. Df Resid. Dev Pr(>Chi) \n",
       "NULL       NA          NA 150       161.0773          NA\n",
       "definition  1 0.317980610 149       160.7593   0.5728238\n",
       "need        1 0.551513596 148       160.2078   0.4576999\n",
       "purpose     2 0.276496061 146       159.9313   0.8708827\n",
       "interest    1 0.002754915 145       159.9285   0.9581404"
      ]
     },
     "metadata": {},
     "output_type": "display_data"
    }
   ],
   "source": [
    "model <- glm(t2_4 ~ definition + need + purpose \n",
    "              + interest, data =survey, family = binomial)\n",
    "summary(model)\n",
    "\n",
    "\n",
    "anova(model, test=\"Chisq\")"
   ]
  },
  {
   "cell_type": "code",
   "execution_count": 23,
   "metadata": {},
   "outputs": [
    {
     "data": {
      "text/plain": [
       "\n",
       "Call:\n",
       "glm(formula = t2_5 ~ definition + need + purpose + interest, \n",
       "    family = binomial, data = survey)\n",
       "\n",
       "Deviance Residuals: \n",
       "    Min       1Q   Median       3Q      Max  \n",
       "-0.9241  -0.6422  -0.5331  -0.4294   2.4255  \n",
       "\n",
       "Coefficients:\n",
       "                  Estimate Std. Error z value Pr(>|z|)    \n",
       "(Intercept)       -3.58635    1.08032  -3.320 0.000901 ***\n",
       "definitionharmony  0.42766    0.59484   0.719 0.472173    \n",
       "needharmony        0.03022    0.52062   0.058 0.953712    \n",
       "purposecosmetic   -0.13380    0.65999  -0.203 0.839342    \n",
       "purposeetc         0.41665    0.54159   0.769 0.441712    \n",
       "interest           0.41638    0.24404   1.706 0.087974 .  \n",
       "---\n",
       "Signif. codes:  0 '***' 0.001 '**' 0.01 '*' 0.05 '.' 0.1 ' ' 1\n",
       "\n",
       "(Dispersion parameter for binomial family taken to be 1)\n",
       "\n",
       "    Null deviance: 138.72  on 150  degrees of freedom\n",
       "Residual deviance: 133.12  on 145  degrees of freedom\n",
       "AIC: 145.12\n",
       "\n",
       "Number of Fisher Scoring iterations: 4\n"
      ]
     },
     "metadata": {},
     "output_type": "display_data"
    },
    {
     "data": {
      "text/html": [
       "<table>\n",
       "<thead><tr><th></th><th scope=col>Df</th><th scope=col>Deviance</th><th scope=col>Resid. Df</th><th scope=col>Resid. Dev</th><th scope=col>Pr(&gt;Chi)</th></tr></thead>\n",
       "<tbody>\n",
       "\t<tr><th scope=row>NULL</th><td>NA        </td><td>       NA </td><td>150       </td><td>138.7191  </td><td>        NA</td></tr>\n",
       "\t<tr><th scope=row>definition</th><td> 1        </td><td>0.4651109 </td><td>149       </td><td>138.2539  </td><td>0.49524504</td></tr>\n",
       "\t<tr><th scope=row>need</th><td> 1        </td><td>0.0398928 </td><td>148       </td><td>138.2141  </td><td>0.84169033</td></tr>\n",
       "\t<tr><th scope=row>purpose</th><td> 2        </td><td>1.9855414 </td><td>146       </td><td>136.2285  </td><td>0.37054859</td></tr>\n",
       "\t<tr><th scope=row>interest</th><td> 1        </td><td>3.1044217 </td><td>145       </td><td>133.1241  </td><td>0.07807996</td></tr>\n",
       "</tbody>\n",
       "</table>\n"
      ],
      "text/latex": [
       "\\begin{tabular}{r|lllll}\n",
       "  & Df & Deviance & Resid. Df & Resid. Dev & Pr(>Chi)\\\\\n",
       "\\hline\n",
       "\tNULL & NA         &        NA  & 150        & 138.7191   &         NA\\\\\n",
       "\tdefinition &  1         & 0.4651109  & 149        & 138.2539   & 0.49524504\\\\\n",
       "\tneed &  1         & 0.0398928  & 148        & 138.2141   & 0.84169033\\\\\n",
       "\tpurpose &  2         & 1.9855414  & 146        & 136.2285   & 0.37054859\\\\\n",
       "\tinterest &  1         & 3.1044217  & 145        & 133.1241   & 0.07807996\\\\\n",
       "\\end{tabular}\n"
      ],
      "text/markdown": [
       "\n",
       "| <!--/--> | Df | Deviance | Resid. Df | Resid. Dev | Pr(>Chi) |\n",
       "|---|---|---|---|---|---|\n",
       "| NULL | NA         |        NA  | 150        | 138.7191   |         NA |\n",
       "| definition |  1         | 0.4651109  | 149        | 138.2539   | 0.49524504 |\n",
       "| need |  1         | 0.0398928  | 148        | 138.2141   | 0.84169033 |\n",
       "| purpose |  2         | 1.9855414  | 146        | 136.2285   | 0.37054859 |\n",
       "| interest |  1         | 3.1044217  | 145        | 133.1241   | 0.07807996 |\n",
       "\n"
      ],
      "text/plain": [
       "           Df Deviance  Resid. Df Resid. Dev Pr(>Chi)  \n",
       "NULL       NA        NA 150       138.7191           NA\n",
       "definition  1 0.4651109 149       138.2539   0.49524504\n",
       "need        1 0.0398928 148       138.2141   0.84169033\n",
       "purpose     2 1.9855414 146       136.2285   0.37054859\n",
       "interest    1 3.1044217 145       133.1241   0.07807996"
      ]
     },
     "metadata": {},
     "output_type": "display_data"
    }
   ],
   "source": [
    "model <- glm(t2_5 ~ definition + need + purpose \n",
    "              + interest, data =survey, family = binomial)\n",
    "summary(model)\n",
    "\n",
    "\n",
    "anova(model, test=\"Chisq\")"
   ]
  },
  {
   "cell_type": "code",
   "execution_count": 24,
   "metadata": {},
   "outputs": [
    {
     "data": {
      "text/plain": [
       "\n",
       "Call:\n",
       "glm(formula = d1_1 ~ definition + need + purpose + interest, \n",
       "    family = binomial, data = survey)\n",
       "\n",
       "Deviance Residuals: \n",
       "    Min       1Q   Median       3Q      Max  \n",
       "-0.7995  -0.6493  -0.5959  -0.5055   2.0632  \n",
       "\n",
       "Coefficients:\n",
       "                  Estimate Std. Error z value Pr(>|z|)\n",
       "(Intercept)       -1.31341    0.92232  -1.424    0.154\n",
       "definitionharmony -0.36937    0.55252  -0.669    0.504\n",
       "needharmony        0.09462    0.52176   0.181    0.856\n",
       "purposecosmetic    0.35428    0.61227   0.579    0.563\n",
       "purposeetc         0.54339    0.54071   1.005    0.315\n",
       "interest          -0.10336    0.21953  -0.471    0.638\n",
       "\n",
       "(Dispersion parameter for binomial family taken to be 1)\n",
       "\n",
       "    Null deviance: 141.81  on 150  degrees of freedom\n",
       "Residual deviance: 140.26  on 145  degrees of freedom\n",
       "AIC: 152.26\n",
       "\n",
       "Number of Fisher Scoring iterations: 4\n"
      ]
     },
     "metadata": {},
     "output_type": "display_data"
    },
    {
     "data": {
      "text/html": [
       "<table>\n",
       "<thead><tr><th></th><th scope=col>Df</th><th scope=col>Deviance</th><th scope=col>Resid. Df</th><th scope=col>Resid. Dev</th><th scope=col>Pr(&gt;Chi)</th></tr></thead>\n",
       "<tbody>\n",
       "\t<tr><th scope=row>NULL</th><td>NA        </td><td>        NA</td><td>150       </td><td>141.8135  </td><td>       NA </td></tr>\n",
       "\t<tr><th scope=row>definition</th><td> 1        </td><td>0.37161869</td><td>149       </td><td>141.4419  </td><td>0.5421233 </td></tr>\n",
       "\t<tr><th scope=row>need</th><td> 1        </td><td>0.03477459</td><td>148       </td><td>141.4071  </td><td>0.8520688 </td></tr>\n",
       "\t<tr><th scope=row>purpose</th><td> 2        </td><td>0.92311185</td><td>146       </td><td>140.4840  </td><td>0.6303022 </td></tr>\n",
       "\t<tr><th scope=row>interest</th><td> 1        </td><td>0.22027541</td><td>145       </td><td>140.2637  </td><td>0.6388302 </td></tr>\n",
       "</tbody>\n",
       "</table>\n"
      ],
      "text/latex": [
       "\\begin{tabular}{r|lllll}\n",
       "  & Df & Deviance & Resid. Df & Resid. Dev & Pr(>Chi)\\\\\n",
       "\\hline\n",
       "\tNULL & NA         &         NA & 150        & 141.8135   &        NA \\\\\n",
       "\tdefinition &  1         & 0.37161869 & 149        & 141.4419   & 0.5421233 \\\\\n",
       "\tneed &  1         & 0.03477459 & 148        & 141.4071   & 0.8520688 \\\\\n",
       "\tpurpose &  2         & 0.92311185 & 146        & 140.4840   & 0.6303022 \\\\\n",
       "\tinterest &  1         & 0.22027541 & 145        & 140.2637   & 0.6388302 \\\\\n",
       "\\end{tabular}\n"
      ],
      "text/markdown": [
       "\n",
       "| <!--/--> | Df | Deviance | Resid. Df | Resid. Dev | Pr(>Chi) |\n",
       "|---|---|---|---|---|---|\n",
       "| NULL | NA         |         NA | 150        | 141.8135   |        NA  |\n",
       "| definition |  1         | 0.37161869 | 149        | 141.4419   | 0.5421233  |\n",
       "| need |  1         | 0.03477459 | 148        | 141.4071   | 0.8520688  |\n",
       "| purpose |  2         | 0.92311185 | 146        | 140.4840   | 0.6303022  |\n",
       "| interest |  1         | 0.22027541 | 145        | 140.2637   | 0.6388302  |\n",
       "\n"
      ],
      "text/plain": [
       "           Df Deviance   Resid. Df Resid. Dev Pr(>Chi) \n",
       "NULL       NA         NA 150       141.8135          NA\n",
       "definition  1 0.37161869 149       141.4419   0.5421233\n",
       "need        1 0.03477459 148       141.4071   0.8520688\n",
       "purpose     2 0.92311185 146       140.4840   0.6303022\n",
       "interest    1 0.22027541 145       140.2637   0.6388302"
      ]
     },
     "metadata": {},
     "output_type": "display_data"
    }
   ],
   "source": [
    "model <- glm(d1_1 ~ definition + need + purpose \n",
    "              + interest, data =survey, family = binomial)\n",
    "summary(model)\n",
    "\n",
    "\n",
    "anova(model, test=\"Chisq\")"
   ]
  },
  {
   "cell_type": "code",
   "execution_count": 25,
   "metadata": {},
   "outputs": [
    {
     "data": {
      "text/plain": [
       "\n",
       "Call:\n",
       "glm(formula = d1_2 ~ definition + need + purpose + interest, \n",
       "    family = binomial, data = survey)\n",
       "\n",
       "Deviance Residuals: \n",
       "    Min       1Q   Median       3Q      Max  \n",
       "-1.5421  -0.9639  -0.7286   1.2109   1.8142  \n",
       "\n",
       "Coefficients:\n",
       "                  Estimate Std. Error z value Pr(>|z|)  \n",
       "(Intercept)         1.3012     0.7606   1.711   0.0871 .\n",
       "definitionharmony  -0.6667     0.4432  -1.504   0.1325  \n",
       "needharmony        -0.2467     0.4145  -0.595   0.5518  \n",
       "purposecosmetic    -0.6279     0.4693  -1.338   0.1809  \n",
       "purposeetc         -0.6309     0.4125  -1.529   0.1262  \n",
       "interest           -0.2377     0.1822  -1.305   0.1920  \n",
       "---\n",
       "Signif. codes:  0 '***' 0.001 '**' 0.01 '*' 0.05 '.' 0.1 ' ' 1\n",
       "\n",
       "(Dispersion parameter for binomial family taken to be 1)\n",
       "\n",
       "    Null deviance: 198.06  on 150  degrees of freedom\n",
       "Residual deviance: 188.67  on 145  degrees of freedom\n",
       "AIC: 200.67\n",
       "\n",
       "Number of Fisher Scoring iterations: 4\n"
      ]
     },
     "metadata": {},
     "output_type": "display_data"
    },
    {
     "data": {
      "text/html": [
       "<table>\n",
       "<thead><tr><th></th><th scope=col>Df</th><th scope=col>Deviance</th><th scope=col>Resid. Df</th><th scope=col>Resid. Dev</th><th scope=col>Pr(&gt;Chi)</th></tr></thead>\n",
       "<tbody>\n",
       "\t<tr><th scope=row>NULL</th><td>NA        </td><td>      NA  </td><td>150       </td><td>198.0570  </td><td>        NA</td></tr>\n",
       "\t<tr><th scope=row>definition</th><td> 1        </td><td>3.923412  </td><td>149       </td><td>194.1336  </td><td>0.04761813</td></tr>\n",
       "\t<tr><th scope=row>need</th><td> 1        </td><td>0.272877  </td><td>148       </td><td>193.8607  </td><td>0.60140836</td></tr>\n",
       "\t<tr><th scope=row>purpose</th><td> 2        </td><td>3.474718  </td><td>146       </td><td>190.3860  </td><td>0.17598458</td></tr>\n",
       "\t<tr><th scope=row>interest</th><td> 1        </td><td>1.714431  </td><td>145       </td><td>188.6716  </td><td>0.19041153</td></tr>\n",
       "</tbody>\n",
       "</table>\n"
      ],
      "text/latex": [
       "\\begin{tabular}{r|lllll}\n",
       "  & Df & Deviance & Resid. Df & Resid. Dev & Pr(>Chi)\\\\\n",
       "\\hline\n",
       "\tNULL & NA         &       NA   & 150        & 198.0570   &         NA\\\\\n",
       "\tdefinition &  1         & 3.923412   & 149        & 194.1336   & 0.04761813\\\\\n",
       "\tneed &  1         & 0.272877   & 148        & 193.8607   & 0.60140836\\\\\n",
       "\tpurpose &  2         & 3.474718   & 146        & 190.3860   & 0.17598458\\\\\n",
       "\tinterest &  1         & 1.714431   & 145        & 188.6716   & 0.19041153\\\\\n",
       "\\end{tabular}\n"
      ],
      "text/markdown": [
       "\n",
       "| <!--/--> | Df | Deviance | Resid. Df | Resid. Dev | Pr(>Chi) |\n",
       "|---|---|---|---|---|---|\n",
       "| NULL | NA         |       NA   | 150        | 198.0570   |         NA |\n",
       "| definition |  1         | 3.923412   | 149        | 194.1336   | 0.04761813 |\n",
       "| need |  1         | 0.272877   | 148        | 193.8607   | 0.60140836 |\n",
       "| purpose |  2         | 3.474718   | 146        | 190.3860   | 0.17598458 |\n",
       "| interest |  1         | 1.714431   | 145        | 188.6716   | 0.19041153 |\n",
       "\n"
      ],
      "text/plain": [
       "           Df Deviance Resid. Df Resid. Dev Pr(>Chi)  \n",
       "NULL       NA       NA 150       198.0570           NA\n",
       "definition  1 3.923412 149       194.1336   0.04761813\n",
       "need        1 0.272877 148       193.8607   0.60140836\n",
       "purpose     2 3.474718 146       190.3860   0.17598458\n",
       "interest    1 1.714431 145       188.6716   0.19041153"
      ]
     },
     "metadata": {},
     "output_type": "display_data"
    }
   ],
   "source": [
    "model <- glm(d1_2 ~ definition + need + purpose \n",
    "              + interest, data =survey, family = binomial)\n",
    "summary(model)\n",
    "\n",
    "\n",
    "anova(model, test=\"Chisq\")"
   ]
  },
  {
   "cell_type": "code",
   "execution_count": 26,
   "metadata": {},
   "outputs": [
    {
     "data": {
      "text/plain": [
       "\n",
       "Call:\n",
       "glm(formula = d1_3 ~ definition + need + purpose + interest, \n",
       "    family = binomial, data = survey)\n",
       "\n",
       "Deviance Residuals: \n",
       "    Min       1Q   Median       3Q      Max  \n",
       "-0.6720  -0.5675  -0.3757  -0.3409   2.3690  \n",
       "\n",
       "Coefficients:\n",
       "                  Estimate Std. Error z value Pr(>|z|)   \n",
       "(Intercept)       -3.57198    1.30973  -2.727  0.00639 **\n",
       "definitionharmony  0.06949    0.80325   0.087  0.93106   \n",
       "needharmony        0.87141    0.72312   1.205  0.22818   \n",
       "purposecosmetic    0.99945    0.90820   1.100  0.27112   \n",
       "purposeetc         1.29537    0.81284   1.594  0.11102   \n",
       "interest          -0.03758    0.27213  -0.138  0.89016   \n",
       "---\n",
       "Signif. codes:  0 '***' 0.001 '**' 0.01 '*' 0.05 '.' 0.1 ' ' 1\n",
       "\n",
       "(Dispersion parameter for binomial family taken to be 1)\n",
       "\n",
       "    Null deviance: 102.071  on 150  degrees of freedom\n",
       "Residual deviance:  96.381  on 145  degrees of freedom\n",
       "AIC: 108.38\n",
       "\n",
       "Number of Fisher Scoring iterations: 5\n"
      ]
     },
     "metadata": {},
     "output_type": "display_data"
    },
    {
     "data": {
      "text/html": [
       "<table>\n",
       "<thead><tr><th></th><th scope=col>Df</th><th scope=col>Deviance</th><th scope=col>Resid. Df</th><th scope=col>Resid. Dev</th><th scope=col>Pr(&gt;Chi)</th></tr></thead>\n",
       "<tbody>\n",
       "\t<tr><th scope=row>NULL</th><td>NA        </td><td>        NA</td><td>150       </td><td>102.07148 </td><td>       NA </td></tr>\n",
       "\t<tr><th scope=row>definition</th><td> 1        </td><td>0.89524918</td><td>149       </td><td>101.17623 </td><td>0.3440588 </td></tr>\n",
       "\t<tr><th scope=row>need</th><td> 1        </td><td>1.63642044</td><td>148       </td><td> 99.53981 </td><td>0.2008173 </td></tr>\n",
       "\t<tr><th scope=row>purpose</th><td> 2        </td><td>3.13955574</td><td>146       </td><td> 96.40026 </td><td>0.2080914 </td></tr>\n",
       "\t<tr><th scope=row>interest</th><td> 1        </td><td>0.01899464</td><td>145       </td><td> 96.38126 </td><td>0.8903819 </td></tr>\n",
       "</tbody>\n",
       "</table>\n"
      ],
      "text/latex": [
       "\\begin{tabular}{r|lllll}\n",
       "  & Df & Deviance & Resid. Df & Resid. Dev & Pr(>Chi)\\\\\n",
       "\\hline\n",
       "\tNULL & NA         &         NA & 150        & 102.07148  &        NA \\\\\n",
       "\tdefinition &  1         & 0.89524918 & 149        & 101.17623  & 0.3440588 \\\\\n",
       "\tneed &  1         & 1.63642044 & 148        &  99.53981  & 0.2008173 \\\\\n",
       "\tpurpose &  2         & 3.13955574 & 146        &  96.40026  & 0.2080914 \\\\\n",
       "\tinterest &  1         & 0.01899464 & 145        &  96.38126  & 0.8903819 \\\\\n",
       "\\end{tabular}\n"
      ],
      "text/markdown": [
       "\n",
       "| <!--/--> | Df | Deviance | Resid. Df | Resid. Dev | Pr(>Chi) |\n",
       "|---|---|---|---|---|---|\n",
       "| NULL | NA         |         NA | 150        | 102.07148  |        NA  |\n",
       "| definition |  1         | 0.89524918 | 149        | 101.17623  | 0.3440588  |\n",
       "| need |  1         | 1.63642044 | 148        |  99.53981  | 0.2008173  |\n",
       "| purpose |  2         | 3.13955574 | 146        |  96.40026  | 0.2080914  |\n",
       "| interest |  1         | 0.01899464 | 145        |  96.38126  | 0.8903819  |\n",
       "\n"
      ],
      "text/plain": [
       "           Df Deviance   Resid. Df Resid. Dev Pr(>Chi) \n",
       "NULL       NA         NA 150       102.07148         NA\n",
       "definition  1 0.89524918 149       101.17623  0.3440588\n",
       "need        1 1.63642044 148        99.53981  0.2008173\n",
       "purpose     2 3.13955574 146        96.40026  0.2080914\n",
       "interest    1 0.01899464 145        96.38126  0.8903819"
      ]
     },
     "metadata": {},
     "output_type": "display_data"
    }
   ],
   "source": [
    "model <- glm(d1_3 ~ definition + need + purpose \n",
    "              + interest, data =survey, family = binomial)\n",
    "summary(model)\n",
    "\n",
    "\n",
    "anova(model, test=\"Chisq\")"
   ]
  },
  {
   "cell_type": "code",
   "execution_count": 27,
   "metadata": {},
   "outputs": [
    {
     "data": {
      "text/plain": [
       "\n",
       "Call:\n",
       "glm(formula = d1_5 ~ definition + need + purpose + interest, \n",
       "    family = binomial, data = survey)\n",
       "\n",
       "Deviance Residuals: \n",
       "    Min       1Q   Median       3Q      Max  \n",
       "-0.9989  -0.6677  -0.4996  -0.3196   2.3359  \n",
       "\n",
       "Coefficients:\n",
       "                  Estimate Std. Error z value Pr(>|z|)    \n",
       "(Intercept)        -3.9130     1.1228  -3.485 0.000492 ***\n",
       "definitionharmony   1.3794     0.7168   1.924 0.054300 .  \n",
       "needharmony         0.1373     0.5230   0.262 0.792941    \n",
       "purposecosmetic    -0.5858     0.6861  -0.854 0.393196    \n",
       "purposeetc          0.3538     0.5226   0.677 0.498475    \n",
       "interest            0.3214     0.2360   1.362 0.173234    \n",
       "---\n",
       "Signif. codes:  0 '***' 0.001 '**' 0.01 '*' 0.05 '.' 0.1 ' ' 1\n",
       "\n",
       "(Dispersion parameter for binomial family taken to be 1)\n",
       "\n",
       "    Null deviance: 141.81  on 150  degrees of freedom\n",
       "Residual deviance: 130.88  on 145  degrees of freedom\n",
       "AIC: 142.88\n",
       "\n",
       "Number of Fisher Scoring iterations: 5\n"
      ]
     },
     "metadata": {},
     "output_type": "display_data"
    },
    {
     "data": {
      "text/html": [
       "<table>\n",
       "<thead><tr><th></th><th scope=col>Df</th><th scope=col>Deviance</th><th scope=col>Resid. Df</th><th scope=col>Resid. Dev</th><th scope=col>Pr(&gt;Chi)</th></tr></thead>\n",
       "<tbody>\n",
       "\t<tr><th scope=row>NULL</th><td>NA        </td><td>      NA  </td><td>150       </td><td>141.8135  </td><td>        NA</td></tr>\n",
       "\t<tr><th scope=row>definition</th><td> 1        </td><td>5.635773  </td><td>149       </td><td>136.1777  </td><td>0.01759759</td></tr>\n",
       "\t<tr><th scope=row>need</th><td> 1        </td><td>0.229350  </td><td>148       </td><td>135.9484  </td><td>0.63200625</td></tr>\n",
       "\t<tr><th scope=row>purpose</th><td> 2        </td><td>3.135046  </td><td>146       </td><td>132.8133  </td><td>0.20856115</td></tr>\n",
       "\t<tr><th scope=row>interest</th><td> 1        </td><td>1.937932  </td><td>145       </td><td>130.8754  </td><td>0.16389329</td></tr>\n",
       "</tbody>\n",
       "</table>\n"
      ],
      "text/latex": [
       "\\begin{tabular}{r|lllll}\n",
       "  & Df & Deviance & Resid. Df & Resid. Dev & Pr(>Chi)\\\\\n",
       "\\hline\n",
       "\tNULL & NA         &       NA   & 150        & 141.8135   &         NA\\\\\n",
       "\tdefinition &  1         & 5.635773   & 149        & 136.1777   & 0.01759759\\\\\n",
       "\tneed &  1         & 0.229350   & 148        & 135.9484   & 0.63200625\\\\\n",
       "\tpurpose &  2         & 3.135046   & 146        & 132.8133   & 0.20856115\\\\\n",
       "\tinterest &  1         & 1.937932   & 145        & 130.8754   & 0.16389329\\\\\n",
       "\\end{tabular}\n"
      ],
      "text/markdown": [
       "\n",
       "| <!--/--> | Df | Deviance | Resid. Df | Resid. Dev | Pr(>Chi) |\n",
       "|---|---|---|---|---|---|\n",
       "| NULL | NA         |       NA   | 150        | 141.8135   |         NA |\n",
       "| definition |  1         | 5.635773   | 149        | 136.1777   | 0.01759759 |\n",
       "| need |  1         | 0.229350   | 148        | 135.9484   | 0.63200625 |\n",
       "| purpose |  2         | 3.135046   | 146        | 132.8133   | 0.20856115 |\n",
       "| interest |  1         | 1.937932   | 145        | 130.8754   | 0.16389329 |\n",
       "\n"
      ],
      "text/plain": [
       "           Df Deviance Resid. Df Resid. Dev Pr(>Chi)  \n",
       "NULL       NA       NA 150       141.8135           NA\n",
       "definition  1 5.635773 149       136.1777   0.01759759\n",
       "need        1 0.229350 148       135.9484   0.63200625\n",
       "purpose     2 3.135046 146       132.8133   0.20856115\n",
       "interest    1 1.937932 145       130.8754   0.16389329"
      ]
     },
     "metadata": {},
     "output_type": "display_data"
    }
   ],
   "source": [
    "model <- glm(d1_5 ~ definition + need + purpose \n",
    "              + interest, data =survey, family = binomial)\n",
    "summary(model)\n",
    "\n",
    "\n",
    "anova(model, test=\"Chisq\")"
   ]
  },
  {
   "cell_type": "code",
   "execution_count": 28,
   "metadata": {},
   "outputs": [
    {
     "data": {
      "text/plain": [
       "\n",
       "Call:\n",
       "glm(formula = d2_1 ~ definition + need + purpose + interest, \n",
       "    family = binomial, data = survey)\n",
       "\n",
       "Deviance Residuals: \n",
       "    Min       1Q   Median       3Q      Max  \n",
       "-0.9589  -0.7934  -0.7182   1.4607   1.9245  \n",
       "\n",
       "Coefficients:\n",
       "                  Estimate Std. Error z value Pr(>|z|)  \n",
       "(Intercept)        -1.9899     0.8512  -2.338   0.0194 *\n",
       "definitionharmony   0.1932     0.4841   0.399   0.6898  \n",
       "needharmony        -0.2273     0.4398  -0.517   0.6052  \n",
       "purposecosmetic     0.2356     0.5119   0.460   0.6453  \n",
       "purposeetc          0.1141     0.4625   0.247   0.8051  \n",
       "interest            0.2288     0.2013   1.137   0.2556  \n",
       "---\n",
       "Signif. codes:  0 '***' 0.001 '**' 0.01 '*' 0.05 '.' 0.1 ' ' 1\n",
       "\n",
       "(Dispersion parameter for binomial family taken to be 1)\n",
       "\n",
       "    Null deviance: 172.52  on 150  degrees of freedom\n",
       "Residual deviance: 170.57  on 145  degrees of freedom\n",
       "AIC: 182.57\n",
       "\n",
       "Number of Fisher Scoring iterations: 4\n"
      ]
     },
     "metadata": {},
     "output_type": "display_data"
    },
    {
     "data": {
      "text/html": [
       "<table>\n",
       "<thead><tr><th></th><th scope=col>Df</th><th scope=col>Deviance</th><th scope=col>Resid. Df</th><th scope=col>Resid. Dev</th><th scope=col>Pr(&gt;Chi)</th></tr></thead>\n",
       "<tbody>\n",
       "\t<tr><th scope=row>NULL</th><td>NA        </td><td>        NA</td><td>150       </td><td>172.5170  </td><td>       NA </td></tr>\n",
       "\t<tr><th scope=row>definition</th><td> 1        </td><td>0.00190804</td><td>149       </td><td>172.5150  </td><td>0.9651586 </td></tr>\n",
       "\t<tr><th scope=row>need</th><td> 1        </td><td>0.30955639</td><td>148       </td><td>172.2055  </td><td>0.5779525 </td></tr>\n",
       "\t<tr><th scope=row>purpose</th><td> 2        </td><td>0.30578799</td><td>146       </td><td>171.8997  </td><td>0.8582207 </td></tr>\n",
       "\t<tr><th scope=row>interest</th><td> 1        </td><td>1.32869525</td><td>145       </td><td>170.5710  </td><td>0.2490375 </td></tr>\n",
       "</tbody>\n",
       "</table>\n"
      ],
      "text/latex": [
       "\\begin{tabular}{r|lllll}\n",
       "  & Df & Deviance & Resid. Df & Resid. Dev & Pr(>Chi)\\\\\n",
       "\\hline\n",
       "\tNULL & NA         &         NA & 150        & 172.5170   &        NA \\\\\n",
       "\tdefinition &  1         & 0.00190804 & 149        & 172.5150   & 0.9651586 \\\\\n",
       "\tneed &  1         & 0.30955639 & 148        & 172.2055   & 0.5779525 \\\\\n",
       "\tpurpose &  2         & 0.30578799 & 146        & 171.8997   & 0.8582207 \\\\\n",
       "\tinterest &  1         & 1.32869525 & 145        & 170.5710   & 0.2490375 \\\\\n",
       "\\end{tabular}\n"
      ],
      "text/markdown": [
       "\n",
       "| <!--/--> | Df | Deviance | Resid. Df | Resid. Dev | Pr(>Chi) |\n",
       "|---|---|---|---|---|---|\n",
       "| NULL | NA         |         NA | 150        | 172.5170   |        NA  |\n",
       "| definition |  1         | 0.00190804 | 149        | 172.5150   | 0.9651586  |\n",
       "| need |  1         | 0.30955639 | 148        | 172.2055   | 0.5779525  |\n",
       "| purpose |  2         | 0.30578799 | 146        | 171.8997   | 0.8582207  |\n",
       "| interest |  1         | 1.32869525 | 145        | 170.5710   | 0.2490375  |\n",
       "\n"
      ],
      "text/plain": [
       "           Df Deviance   Resid. Df Resid. Dev Pr(>Chi) \n",
       "NULL       NA         NA 150       172.5170          NA\n",
       "definition  1 0.00190804 149       172.5150   0.9651586\n",
       "need        1 0.30955639 148       172.2055   0.5779525\n",
       "purpose     2 0.30578799 146       171.8997   0.8582207\n",
       "interest    1 1.32869525 145       170.5710   0.2490375"
      ]
     },
     "metadata": {},
     "output_type": "display_data"
    }
   ],
   "source": [
    "model <- glm(d2_1 ~ definition + need + purpose \n",
    "              + interest, data =survey, family = binomial)\n",
    "summary(model)\n",
    "\n",
    "\n",
    "anova(model, test=\"Chisq\")"
   ]
  },
  {
   "cell_type": "code",
   "execution_count": 29,
   "metadata": {},
   "outputs": [
    {
     "data": {
      "text/plain": [
       "\n",
       "Call:\n",
       "glm(formula = d2_2 ~ definition + need + purpose + interest, \n",
       "    family = binomial, data = survey)\n",
       "\n",
       "Deviance Residuals: \n",
       "    Min       1Q   Median       3Q      Max  \n",
       "-1.1406  -0.7893  -0.6180  -0.5394   1.9998  \n",
       "\n",
       "Coefficients:\n",
       "                  Estimate Std. Error z value Pr(>|z|)\n",
       "(Intercept)         0.1943     0.8124   0.239    0.811\n",
       "definitionharmony  -0.7065     0.4926  -1.434    0.151\n",
       "needharmony         0.1545     0.4707   0.328    0.743\n",
       "purposecosmetic    -0.6670     0.5176  -1.289    0.197\n",
       "purposeetc         -0.6378     0.4475  -1.425    0.154\n",
       "interest           -0.1408     0.2000  -0.704    0.481\n",
       "\n",
       "(Dispersion parameter for binomial family taken to be 1)\n",
       "\n",
       "    Null deviance: 168.16  on 150  degrees of freedom\n",
       "Residual deviance: 162.59  on 145  degrees of freedom\n",
       "AIC: 174.59\n",
       "\n",
       "Number of Fisher Scoring iterations: 4\n"
      ]
     },
     "metadata": {},
     "output_type": "display_data"
    },
    {
     "data": {
      "text/html": [
       "<table>\n",
       "<thead><tr><th></th><th scope=col>Df</th><th scope=col>Deviance</th><th scope=col>Resid. Df</th><th scope=col>Resid. Dev</th><th scope=col>Pr(&gt;Chi)</th></tr></thead>\n",
       "<tbody>\n",
       "\t<tr><th scope=row>NULL</th><td>NA       </td><td>       NA</td><td>150      </td><td>168.1573 </td><td>       NA</td></tr>\n",
       "\t<tr><th scope=row>definition</th><td> 1       </td><td>2.0339948</td><td>149      </td><td>166.1233 </td><td>0.1538158</td></tr>\n",
       "\t<tr><th scope=row>need</th><td> 1       </td><td>0.1675964</td><td>148      </td><td>165.9557 </td><td>0.6822569</td></tr>\n",
       "\t<tr><th scope=row>purpose</th><td> 2       </td><td>2.8729423</td><td>146      </td><td>163.0828 </td><td>0.2377653</td></tr>\n",
       "\t<tr><th scope=row>interest</th><td> 1       </td><td>0.4936440</td><td>145      </td><td>162.5892 </td><td>0.4823063</td></tr>\n",
       "</tbody>\n",
       "</table>\n"
      ],
      "text/latex": [
       "\\begin{tabular}{r|lllll}\n",
       "  & Df & Deviance & Resid. Df & Resid. Dev & Pr(>Chi)\\\\\n",
       "\\hline\n",
       "\tNULL & NA        &        NA & 150       & 168.1573  &        NA\\\\\n",
       "\tdefinition &  1        & 2.0339948 & 149       & 166.1233  & 0.1538158\\\\\n",
       "\tneed &  1        & 0.1675964 & 148       & 165.9557  & 0.6822569\\\\\n",
       "\tpurpose &  2        & 2.8729423 & 146       & 163.0828  & 0.2377653\\\\\n",
       "\tinterest &  1        & 0.4936440 & 145       & 162.5892  & 0.4823063\\\\\n",
       "\\end{tabular}\n"
      ],
      "text/markdown": [
       "\n",
       "| <!--/--> | Df | Deviance | Resid. Df | Resid. Dev | Pr(>Chi) |\n",
       "|---|---|---|---|---|---|\n",
       "| NULL | NA        |        NA | 150       | 168.1573  |        NA |\n",
       "| definition |  1        | 2.0339948 | 149       | 166.1233  | 0.1538158 |\n",
       "| need |  1        | 0.1675964 | 148       | 165.9557  | 0.6822569 |\n",
       "| purpose |  2        | 2.8729423 | 146       | 163.0828  | 0.2377653 |\n",
       "| interest |  1        | 0.4936440 | 145       | 162.5892  | 0.4823063 |\n",
       "\n"
      ],
      "text/plain": [
       "           Df Deviance  Resid. Df Resid. Dev Pr(>Chi) \n",
       "NULL       NA        NA 150       168.1573          NA\n",
       "definition  1 2.0339948 149       166.1233   0.1538158\n",
       "need        1 0.1675964 148       165.9557   0.6822569\n",
       "purpose     2 2.8729423 146       163.0828   0.2377653\n",
       "interest    1 0.4936440 145       162.5892   0.4823063"
      ]
     },
     "metadata": {},
     "output_type": "display_data"
    }
   ],
   "source": [
    "model <- glm(d2_2 ~ definition + need + purpose \n",
    "              + interest, data =survey, family = binomial)\n",
    "summary(model)\n",
    "\n",
    "\n",
    "anova(model, test=\"Chisq\")"
   ]
  },
  {
   "cell_type": "code",
   "execution_count": 30,
   "metadata": {},
   "outputs": [
    {
     "data": {
      "text/plain": [
       "\n",
       "Call:\n",
       "glm(formula = d2_3 ~ definition + need + purpose + interest, \n",
       "    family = binomial, data = survey)\n",
       "\n",
       "Deviance Residuals: \n",
       "    Min       1Q   Median       3Q      Max  \n",
       "-0.7523  -0.6241  -0.5027  -0.3145   2.5812  \n",
       "\n",
       "Coefficients:\n",
       "                  Estimate Std. Error z value Pr(>|z|)   \n",
       "(Intercept)        -3.9578     1.2618  -3.137  0.00171 **\n",
       "definitionharmony   0.6223     0.6878   0.905  0.36562   \n",
       "needharmony        -0.1101     0.5763  -0.191  0.84845   \n",
       "purposecosmetic     1.3032     0.8543   1.525  0.12718   \n",
       "purposeetc          1.4449     0.7986   1.809  0.07042 . \n",
       "interest            0.1546     0.2586   0.598  0.54994   \n",
       "---\n",
       "Signif. codes:  0 '***' 0.001 '**' 0.01 '*' 0.05 '.' 0.1 ' ' 1\n",
       "\n",
       "(Dispersion parameter for binomial family taken to be 1)\n",
       "\n",
       "    Null deviance: 118.09  on 150  degrees of freedom\n",
       "Residual deviance: 111.90  on 145  degrees of freedom\n",
       "AIC: 123.9\n",
       "\n",
       "Number of Fisher Scoring iterations: 5\n"
      ]
     },
     "metadata": {},
     "output_type": "display_data"
    },
    {
     "data": {
      "text/html": [
       "<table>\n",
       "<thead><tr><th></th><th scope=col>Df</th><th scope=col>Deviance</th><th scope=col>Resid. Df</th><th scope=col>Resid. Dev</th><th scope=col>Pr(&gt;Chi)</th></tr></thead>\n",
       "<tbody>\n",
       "\t<tr><th scope=row>NULL</th><td>NA        </td><td>        NA</td><td>150       </td><td>118.0875  </td><td>       NA </td></tr>\n",
       "\t<tr><th scope=row>definition</th><td> 1        </td><td>0.86406666</td><td>149       </td><td>117.2235  </td><td>0.3526032 </td></tr>\n",
       "\t<tr><th scope=row>need</th><td> 1        </td><td>0.03943678</td><td>148       </td><td>117.1840  </td><td>0.8425859 </td></tr>\n",
       "\t<tr><th scope=row>purpose</th><td> 2        </td><td>4.91442819</td><td>146       </td><td>112.2696  </td><td>0.0856733 </td></tr>\n",
       "\t<tr><th scope=row>interest</th><td> 1        </td><td>0.36479910</td><td>145       </td><td>111.9048  </td><td>0.5458529 </td></tr>\n",
       "</tbody>\n",
       "</table>\n"
      ],
      "text/latex": [
       "\\begin{tabular}{r|lllll}\n",
       "  & Df & Deviance & Resid. Df & Resid. Dev & Pr(>Chi)\\\\\n",
       "\\hline\n",
       "\tNULL & NA         &         NA & 150        & 118.0875   &        NA \\\\\n",
       "\tdefinition &  1         & 0.86406666 & 149        & 117.2235   & 0.3526032 \\\\\n",
       "\tneed &  1         & 0.03943678 & 148        & 117.1840   & 0.8425859 \\\\\n",
       "\tpurpose &  2         & 4.91442819 & 146        & 112.2696   & 0.0856733 \\\\\n",
       "\tinterest &  1         & 0.36479910 & 145        & 111.9048   & 0.5458529 \\\\\n",
       "\\end{tabular}\n"
      ],
      "text/markdown": [
       "\n",
       "| <!--/--> | Df | Deviance | Resid. Df | Resid. Dev | Pr(>Chi) |\n",
       "|---|---|---|---|---|---|\n",
       "| NULL | NA         |         NA | 150        | 118.0875   |        NA  |\n",
       "| definition |  1         | 0.86406666 | 149        | 117.2235   | 0.3526032  |\n",
       "| need |  1         | 0.03943678 | 148        | 117.1840   | 0.8425859  |\n",
       "| purpose |  2         | 4.91442819 | 146        | 112.2696   | 0.0856733  |\n",
       "| interest |  1         | 0.36479910 | 145        | 111.9048   | 0.5458529  |\n",
       "\n"
      ],
      "text/plain": [
       "           Df Deviance   Resid. Df Resid. Dev Pr(>Chi) \n",
       "NULL       NA         NA 150       118.0875          NA\n",
       "definition  1 0.86406666 149       117.2235   0.3526032\n",
       "need        1 0.03943678 148       117.1840   0.8425859\n",
       "purpose     2 4.91442819 146       112.2696   0.0856733\n",
       "interest    1 0.36479910 145       111.9048   0.5458529"
      ]
     },
     "metadata": {},
     "output_type": "display_data"
    }
   ],
   "source": [
    "model <- glm(d2_3 ~ definition + need + purpose \n",
    "              + interest, data =survey, family = binomial)\n",
    "summary(model)\n",
    "\n",
    "\n",
    "anova(model, test=\"Chisq\")"
   ]
  },
  {
   "cell_type": "code",
   "execution_count": 31,
   "metadata": {},
   "outputs": [
    {
     "data": {
      "text/plain": [
       "\n",
       "Call:\n",
       "glm(formula = d2_4 ~ definition + need + purpose + interest, \n",
       "    family = binomial, data = survey)\n",
       "\n",
       "Deviance Residuals: \n",
       "    Min       1Q   Median       3Q      Max  \n",
       "-1.0552  -0.8282  -0.7153   1.3825   1.8987  \n",
       "\n",
       "Coefficients:\n",
       "                  Estimate Std. Error z value Pr(>|z|)\n",
       "(Intercept)       -0.44378    0.79874  -0.556    0.578\n",
       "definitionharmony  0.38973    0.50464   0.772    0.440\n",
       "needharmony       -0.04639    0.44449  -0.104    0.917\n",
       "purposecosmetic   -0.06491    0.50772  -0.128    0.898\n",
       "purposeetc         0.05221    0.44679   0.117    0.907\n",
       "interest          -0.24618    0.19165  -1.285    0.199\n",
       "\n",
       "(Dispersion parameter for binomial family taken to be 1)\n",
       "\n",
       "    Null deviance: 174.59  on 150  degrees of freedom\n",
       "Residual deviance: 171.91  on 145  degrees of freedom\n",
       "AIC: 183.91\n",
       "\n",
       "Number of Fisher Scoring iterations: 4\n"
      ]
     },
     "metadata": {},
     "output_type": "display_data"
    },
    {
     "data": {
      "text/html": [
       "<table>\n",
       "<thead><tr><th></th><th scope=col>Df</th><th scope=col>Deviance</th><th scope=col>Resid. Df</th><th scope=col>Resid. Dev</th><th scope=col>Pr(&gt;Chi)</th></tr></thead>\n",
       "<tbody>\n",
       "\t<tr><th scope=row>NULL</th><td>NA         </td><td>         NA</td><td>150        </td><td>174.5924   </td><td>       NA  </td></tr>\n",
       "\t<tr><th scope=row>definition</th><td> 1         </td><td>0.984694399</td><td>149        </td><td>173.6078   </td><td>0.3210426  </td></tr>\n",
       "\t<tr><th scope=row>need</th><td> 1         </td><td>0.003742652</td><td>148        </td><td>173.6040   </td><td>0.9512181  </td></tr>\n",
       "\t<tr><th scope=row>purpose</th><td> 2         </td><td>0.035426496</td><td>146        </td><td>173.5686   </td><td>0.9824427  </td></tr>\n",
       "\t<tr><th scope=row>interest</th><td> 1         </td><td>1.656168258</td><td>145        </td><td>171.9124   </td><td>0.1981215  </td></tr>\n",
       "</tbody>\n",
       "</table>\n"
      ],
      "text/latex": [
       "\\begin{tabular}{r|lllll}\n",
       "  & Df & Deviance & Resid. Df & Resid. Dev & Pr(>Chi)\\\\\n",
       "\\hline\n",
       "\tNULL & NA          &          NA & 150         & 174.5924    &        NA  \\\\\n",
       "\tdefinition &  1          & 0.984694399 & 149         & 173.6078    & 0.3210426  \\\\\n",
       "\tneed &  1          & 0.003742652 & 148         & 173.6040    & 0.9512181  \\\\\n",
       "\tpurpose &  2          & 0.035426496 & 146         & 173.5686    & 0.9824427  \\\\\n",
       "\tinterest &  1          & 1.656168258 & 145         & 171.9124    & 0.1981215  \\\\\n",
       "\\end{tabular}\n"
      ],
      "text/markdown": [
       "\n",
       "| <!--/--> | Df | Deviance | Resid. Df | Resid. Dev | Pr(>Chi) |\n",
       "|---|---|---|---|---|---|\n",
       "| NULL | NA          |          NA | 150         | 174.5924    |        NA   |\n",
       "| definition |  1          | 0.984694399 | 149         | 173.6078    | 0.3210426   |\n",
       "| need |  1          | 0.003742652 | 148         | 173.6040    | 0.9512181   |\n",
       "| purpose |  2          | 0.035426496 | 146         | 173.5686    | 0.9824427   |\n",
       "| interest |  1          | 1.656168258 | 145         | 171.9124    | 0.1981215   |\n",
       "\n"
      ],
      "text/plain": [
       "           Df Deviance    Resid. Df Resid. Dev Pr(>Chi) \n",
       "NULL       NA          NA 150       174.5924          NA\n",
       "definition  1 0.984694399 149       173.6078   0.3210426\n",
       "need        1 0.003742652 148       173.6040   0.9512181\n",
       "purpose     2 0.035426496 146       173.5686   0.9824427\n",
       "interest    1 1.656168258 145       171.9124   0.1981215"
      ]
     },
     "metadata": {},
     "output_type": "display_data"
    }
   ],
   "source": [
    "model <- glm(d2_4 ~ definition + need + purpose \n",
    "              + interest, data =survey, family = binomial)\n",
    "summary(model)\n",
    "\n",
    "\n",
    "anova(model, test=\"Chisq\")"
   ]
  },
  {
   "cell_type": "code",
   "execution_count": 32,
   "metadata": {},
   "outputs": [
    {
     "data": {
      "text/plain": [
       "\n",
       "Call:\n",
       "glm(formula = d2_5 ~ definition + need + purpose + interest, \n",
       "    family = binomial, data = survey)\n",
       "\n",
       "Deviance Residuals: \n",
       "    Min       1Q   Median       3Q      Max  \n",
       "-0.6781  -0.4828  -0.4408  -0.3982   2.3988  \n",
       "\n",
       "Coefficients:\n",
       "                  Estimate Std. Error z value Pr(>|z|)  \n",
       "(Intercept)       -2.49831    1.20682  -2.070   0.0384 *\n",
       "definitionharmony -0.43320    0.70046  -0.618   0.5363  \n",
       "needharmony        0.38471    0.66939   0.575   0.5655  \n",
       "purposecosmetic   -0.07817    0.71859  -0.109   0.9134  \n",
       "purposeetc        -0.34399    0.65278  -0.527   0.5982  \n",
       "interest           0.15212    0.29180   0.521   0.6022  \n",
       "---\n",
       "Signif. codes:  0 '***' 0.001 '**' 0.01 '*' 0.05 '.' 0.1 ' ' 1\n",
       "\n",
       "(Dispersion parameter for binomial family taken to be 1)\n",
       "\n",
       "    Null deviance: 97.735  on 150  degrees of freedom\n",
       "Residual deviance: 96.727  on 145  degrees of freedom\n",
       "AIC: 108.73\n",
       "\n",
       "Number of Fisher Scoring iterations: 5\n"
      ]
     },
     "metadata": {},
     "output_type": "display_data"
    },
    {
     "data": {
      "text/html": [
       "<table>\n",
       "<thead><tr><th></th><th scope=col>Df</th><th scope=col>Deviance</th><th scope=col>Resid. Df</th><th scope=col>Resid. Dev</th><th scope=col>Pr(&gt;Chi)</th></tr></thead>\n",
       "<tbody>\n",
       "\t<tr><th scope=row>NULL</th><td>NA       </td><td>       NA</td><td>150      </td><td>97.73488 </td><td>       NA</td></tr>\n",
       "\t<tr><th scope=row>definition</th><td> 1       </td><td>0.1875757</td><td>149      </td><td>97.54730 </td><td>0.6649420</td></tr>\n",
       "\t<tr><th scope=row>need</th><td> 1       </td><td>0.3249635</td><td>148      </td><td>97.22234 </td><td>0.5686399</td></tr>\n",
       "\t<tr><th scope=row>purpose</th><td> 2       </td><td>0.2183873</td><td>146      </td><td>97.00395 </td><td>0.8965568</td></tr>\n",
       "\t<tr><th scope=row>interest</th><td> 1       </td><td>0.2770319</td><td>145      </td><td>96.72692 </td><td>0.5986533</td></tr>\n",
       "</tbody>\n",
       "</table>\n"
      ],
      "text/latex": [
       "\\begin{tabular}{r|lllll}\n",
       "  & Df & Deviance & Resid. Df & Resid. Dev & Pr(>Chi)\\\\\n",
       "\\hline\n",
       "\tNULL & NA        &        NA & 150       & 97.73488  &        NA\\\\\n",
       "\tdefinition &  1        & 0.1875757 & 149       & 97.54730  & 0.6649420\\\\\n",
       "\tneed &  1        & 0.3249635 & 148       & 97.22234  & 0.5686399\\\\\n",
       "\tpurpose &  2        & 0.2183873 & 146       & 97.00395  & 0.8965568\\\\\n",
       "\tinterest &  1        & 0.2770319 & 145       & 96.72692  & 0.5986533\\\\\n",
       "\\end{tabular}\n"
      ],
      "text/markdown": [
       "\n",
       "| <!--/--> | Df | Deviance | Resid. Df | Resid. Dev | Pr(>Chi) |\n",
       "|---|---|---|---|---|---|\n",
       "| NULL | NA        |        NA | 150       | 97.73488  |        NA |\n",
       "| definition |  1        | 0.1875757 | 149       | 97.54730  | 0.6649420 |\n",
       "| need |  1        | 0.3249635 | 148       | 97.22234  | 0.5686399 |\n",
       "| purpose |  2        | 0.2183873 | 146       | 97.00395  | 0.8965568 |\n",
       "| interest |  1        | 0.2770319 | 145       | 96.72692  | 0.5986533 |\n",
       "\n"
      ],
      "text/plain": [
       "           Df Deviance  Resid. Df Resid. Dev Pr(>Chi) \n",
       "NULL       NA        NA 150       97.73488          NA\n",
       "definition  1 0.1875757 149       97.54730   0.6649420\n",
       "need        1 0.3249635 148       97.22234   0.5686399\n",
       "purpose     2 0.2183873 146       97.00395   0.8965568\n",
       "interest    1 0.2770319 145       96.72692   0.5986533"
      ]
     },
     "metadata": {},
     "output_type": "display_data"
    }
   ],
   "source": [
    "model <- glm(d2_5 ~ definition + need + purpose \n",
    "              + interest, data =survey, family = binomial)\n",
    "summary(model)\n",
    "\n",
    "\n",
    "anova(model, test=\"Chisq\")"
   ]
  },
  {
   "cell_type": "code",
   "execution_count": 33,
   "metadata": {},
   "outputs": [
    {
     "data": {
      "text/plain": [
       "\n",
       "Call:\n",
       "glm(formula = d3_1 ~ definition + need + purpose + interest, \n",
       "    family = binomial, data = survey)\n",
       "\n",
       "Deviance Residuals: \n",
       "    Min       1Q   Median       3Q      Max  \n",
       "-1.1286  -0.7058  -0.6288  -0.4027   2.2341  \n",
       "\n",
       "Coefficients:\n",
       "                   Estimate Std. Error z value Pr(>|z|)  \n",
       "(Intercept)       -0.004633   0.857909  -0.005   0.9957  \n",
       "definitionharmony -0.263692   0.486247  -0.542   0.5876  \n",
       "needharmony       -0.889005   0.469982  -1.892   0.0585 .\n",
       "purposecosmetic    0.073910   0.491724   0.150   0.8805  \n",
       "purposeetc        -1.005231   0.505515  -1.989   0.0468 *\n",
       "interest          -0.061750   0.214657  -0.288   0.7736  \n",
       "---\n",
       "Signif. codes:  0 '***' 0.001 '**' 0.01 '*' 0.05 '.' 0.1 ' ' 1\n",
       "\n",
       "(Dispersion parameter for binomial family taken to be 1)\n",
       "\n",
       "    Null deviance: 163.51  on 150  degrees of freedom\n",
       "Residual deviance: 149.62  on 145  degrees of freedom\n",
       "AIC: 161.62\n",
       "\n",
       "Number of Fisher Scoring iterations: 4\n"
      ]
     },
     "metadata": {},
     "output_type": "display_data"
    },
    {
     "data": {
      "text/html": [
       "<table>\n",
       "<thead><tr><th></th><th scope=col>Df</th><th scope=col>Deviance</th><th scope=col>Resid. Df</th><th scope=col>Resid. Dev</th><th scope=col>Pr(&gt;Chi)</th></tr></thead>\n",
       "<tbody>\n",
       "\t<tr><th scope=row>NULL</th><td>NA        </td><td>        NA</td><td>150       </td><td>163.5112  </td><td>        NA</td></tr>\n",
       "\t<tr><th scope=row>definition</th><td> 1        </td><td>2.84238547</td><td>149       </td><td>160.6688  </td><td>0.09180783</td></tr>\n",
       "\t<tr><th scope=row>need</th><td> 1        </td><td>4.54473686</td><td>148       </td><td>156.1241  </td><td>0.03302010</td></tr>\n",
       "\t<tr><th scope=row>purpose</th><td> 2        </td><td>6.42043122</td><td>146       </td><td>149.7037  </td><td>0.04034791</td></tr>\n",
       "\t<tr><th scope=row>interest</th><td> 1        </td><td>0.08251977</td><td>145       </td><td>149.6211  </td><td>0.77391130</td></tr>\n",
       "</tbody>\n",
       "</table>\n"
      ],
      "text/latex": [
       "\\begin{tabular}{r|lllll}\n",
       "  & Df & Deviance & Resid. Df & Resid. Dev & Pr(>Chi)\\\\\n",
       "\\hline\n",
       "\tNULL & NA         &         NA & 150        & 163.5112   &         NA\\\\\n",
       "\tdefinition &  1         & 2.84238547 & 149        & 160.6688   & 0.09180783\\\\\n",
       "\tneed &  1         & 4.54473686 & 148        & 156.1241   & 0.03302010\\\\\n",
       "\tpurpose &  2         & 6.42043122 & 146        & 149.7037   & 0.04034791\\\\\n",
       "\tinterest &  1         & 0.08251977 & 145        & 149.6211   & 0.77391130\\\\\n",
       "\\end{tabular}\n"
      ],
      "text/markdown": [
       "\n",
       "| <!--/--> | Df | Deviance | Resid. Df | Resid. Dev | Pr(>Chi) |\n",
       "|---|---|---|---|---|---|\n",
       "| NULL | NA         |         NA | 150        | 163.5112   |         NA |\n",
       "| definition |  1         | 2.84238547 | 149        | 160.6688   | 0.09180783 |\n",
       "| need |  1         | 4.54473686 | 148        | 156.1241   | 0.03302010 |\n",
       "| purpose |  2         | 6.42043122 | 146        | 149.7037   | 0.04034791 |\n",
       "| interest |  1         | 0.08251977 | 145        | 149.6211   | 0.77391130 |\n",
       "\n"
      ],
      "text/plain": [
       "           Df Deviance   Resid. Df Resid. Dev Pr(>Chi)  \n",
       "NULL       NA         NA 150       163.5112           NA\n",
       "definition  1 2.84238547 149       160.6688   0.09180783\n",
       "need        1 4.54473686 148       156.1241   0.03302010\n",
       "purpose     2 6.42043122 146       149.7037   0.04034791\n",
       "interest    1 0.08251977 145       149.6211   0.77391130"
      ]
     },
     "metadata": {},
     "output_type": "display_data"
    }
   ],
   "source": [
    "model <- glm(d3_1 ~ definition + need + purpose \n",
    "              + interest, data =survey, family = binomial)\n",
    "summary(model)\n",
    "\n",
    "\n",
    "anova(model, test=\"Chisq\")"
   ]
  },
  {
   "cell_type": "code",
   "execution_count": 34,
   "metadata": {},
   "outputs": [
    {
     "data": {
      "text/plain": [
       "\n",
       "Call:\n",
       "glm(formula = d3_2 ~ definition + need + purpose + interest, \n",
       "    family = binomial, data = survey)\n",
       "\n",
       "Deviance Residuals: \n",
       "    Min       1Q   Median       3Q      Max  \n",
       "-1.0132  -0.7151  -0.5046  -0.3242   2.3442  \n",
       "\n",
       "Coefficients:\n",
       "                  Estimate Std. Error z value Pr(>|z|)\n",
       "(Intercept)        -1.0912     0.9493  -1.149    0.250\n",
       "definitionharmony  -0.2381     0.6292  -0.378    0.705\n",
       "needharmony         0.8442     0.5871   1.438    0.150\n",
       "purposecosmetic    -0.8468     0.7270  -1.165    0.244\n",
       "purposeetc          0.3335     0.5048   0.661    0.509\n",
       "interest           -0.2478     0.2240  -1.106    0.269\n",
       "\n",
       "(Dispersion parameter for binomial family taken to be 1)\n",
       "\n",
       "    Null deviance: 138.72  on 150  degrees of freedom\n",
       "Residual deviance: 130.65  on 145  degrees of freedom\n",
       "AIC: 142.65\n",
       "\n",
       "Number of Fisher Scoring iterations: 5\n"
      ]
     },
     "metadata": {},
     "output_type": "display_data"
    },
    {
     "data": {
      "text/html": [
       "<table>\n",
       "<thead><tr><th></th><th scope=col>Df</th><th scope=col>Deviance</th><th scope=col>Resid. Df</th><th scope=col>Resid. Dev</th><th scope=col>Pr(&gt;Chi)</th></tr></thead>\n",
       "<tbody>\n",
       "\t<tr><th scope=row>NULL</th><td>NA        </td><td>       NA </td><td>150       </td><td>138.7191  </td><td>        NA</td></tr>\n",
       "\t<tr><th scope=row>definition</th><td> 1        </td><td>0.4651109 </td><td>149       </td><td>138.2539  </td><td>0.49524504</td></tr>\n",
       "\t<tr><th scope=row>need</th><td> 1        </td><td>3.1317421 </td><td>148       </td><td>135.1222  </td><td>0.07678165</td></tr>\n",
       "\t<tr><th scope=row>purpose</th><td> 2        </td><td>3.2523748 </td><td>146       </td><td>131.8698  </td><td>0.19667800</td></tr>\n",
       "\t<tr><th scope=row>interest</th><td> 1        </td><td>1.2216896 </td><td>145       </td><td>130.6481  </td><td>0.26902933</td></tr>\n",
       "</tbody>\n",
       "</table>\n"
      ],
      "text/latex": [
       "\\begin{tabular}{r|lllll}\n",
       "  & Df & Deviance & Resid. Df & Resid. Dev & Pr(>Chi)\\\\\n",
       "\\hline\n",
       "\tNULL & NA         &        NA  & 150        & 138.7191   &         NA\\\\\n",
       "\tdefinition &  1         & 0.4651109  & 149        & 138.2539   & 0.49524504\\\\\n",
       "\tneed &  1         & 3.1317421  & 148        & 135.1222   & 0.07678165\\\\\n",
       "\tpurpose &  2         & 3.2523748  & 146        & 131.8698   & 0.19667800\\\\\n",
       "\tinterest &  1         & 1.2216896  & 145        & 130.6481   & 0.26902933\\\\\n",
       "\\end{tabular}\n"
      ],
      "text/markdown": [
       "\n",
       "| <!--/--> | Df | Deviance | Resid. Df | Resid. Dev | Pr(>Chi) |\n",
       "|---|---|---|---|---|---|\n",
       "| NULL | NA         |        NA  | 150        | 138.7191   |         NA |\n",
       "| definition |  1         | 0.4651109  | 149        | 138.2539   | 0.49524504 |\n",
       "| need |  1         | 3.1317421  | 148        | 135.1222   | 0.07678165 |\n",
       "| purpose |  2         | 3.2523748  | 146        | 131.8698   | 0.19667800 |\n",
       "| interest |  1         | 1.2216896  | 145        | 130.6481   | 0.26902933 |\n",
       "\n"
      ],
      "text/plain": [
       "           Df Deviance  Resid. Df Resid. Dev Pr(>Chi)  \n",
       "NULL       NA        NA 150       138.7191           NA\n",
       "definition  1 0.4651109 149       138.2539   0.49524504\n",
       "need        1 3.1317421 148       135.1222   0.07678165\n",
       "purpose     2 3.2523748 146       131.8698   0.19667800\n",
       "interest    1 1.2216896 145       130.6481   0.26902933"
      ]
     },
     "metadata": {},
     "output_type": "display_data"
    }
   ],
   "source": [
    "model <- glm(d3_2 ~ definition + need + purpose \n",
    "              + interest, data =survey, family = binomial)\n",
    "summary(model)\n",
    "\n",
    "\n",
    "anova(model, test=\"Chisq\")"
   ]
  },
  {
   "cell_type": "code",
   "execution_count": 35,
   "metadata": {},
   "outputs": [
    {
     "data": {
      "text/plain": [
       "\n",
       "Call:\n",
       "glm(formula = d3_3 ~ definition + need + purpose + interest, \n",
       "    family = binomial, data = survey)\n",
       "\n",
       "Deviance Residuals: \n",
       "    Min       1Q   Median       3Q      Max  \n",
       "-1.1620  -0.7541  -0.5618  -0.3481   2.1040  \n",
       "\n",
       "Coefficients:\n",
       "                  Estimate Std. Error z value Pr(>|z|)    \n",
       "(Intercept)       -4.07473    1.06721  -3.818 0.000134 ***\n",
       "definitionharmony  0.76627    0.55658   1.377 0.168590    \n",
       "needharmony       -0.40683    0.47895  -0.849 0.395645    \n",
       "purposecosmetic    0.01374    0.57714   0.024 0.981011    \n",
       "purposeetc        -0.01441    0.51430  -0.028 0.977646    \n",
       "interest           0.65444    0.24458   2.676 0.007456 ** \n",
       "---\n",
       "Signif. codes:  0 '***' 0.001 '**' 0.01 '*' 0.05 '.' 0.1 ' ' 1\n",
       "\n",
       "(Dispersion parameter for binomial family taken to be 1)\n",
       "\n",
       "    Null deviance: 153.31  on 150  degrees of freedom\n",
       "Residual deviance: 143.65  on 145  degrees of freedom\n",
       "AIC: 155.65\n",
       "\n",
       "Number of Fisher Scoring iterations: 4\n"
      ]
     },
     "metadata": {},
     "output_type": "display_data"
    },
    {
     "data": {
      "text/html": [
       "<table>\n",
       "<thead><tr><th></th><th scope=col>Df</th><th scope=col>Deviance</th><th scope=col>Resid. Df</th><th scope=col>Resid. Dev</th><th scope=col>Pr(&gt;Chi)</th></tr></thead>\n",
       "<tbody>\n",
       "\t<tr><th scope=row>NULL</th><td>NA         </td><td>       NA  </td><td>150        </td><td>153.3133   </td><td>         NA</td></tr>\n",
       "\t<tr><th scope=row>definition</th><td> 1         </td><td>0.6896425  </td><td>149        </td><td>152.6236   </td><td>0.406286013</td></tr>\n",
       "\t<tr><th scope=row>need</th><td> 1         </td><td>0.6345747  </td><td>148        </td><td>151.9891   </td><td>0.425682243</td></tr>\n",
       "\t<tr><th scope=row>purpose</th><td> 2         </td><td>0.2781337  </td><td>146        </td><td>151.7109   </td><td>0.870169859</td></tr>\n",
       "\t<tr><th scope=row>interest</th><td> 1         </td><td>8.0630238  </td><td>145        </td><td>143.6479   </td><td>0.004517772</td></tr>\n",
       "</tbody>\n",
       "</table>\n"
      ],
      "text/latex": [
       "\\begin{tabular}{r|lllll}\n",
       "  & Df & Deviance & Resid. Df & Resid. Dev & Pr(>Chi)\\\\\n",
       "\\hline\n",
       "\tNULL & NA          &        NA   & 150         & 153.3133    &          NA\\\\\n",
       "\tdefinition &  1          & 0.6896425   & 149         & 152.6236    & 0.406286013\\\\\n",
       "\tneed &  1          & 0.6345747   & 148         & 151.9891    & 0.425682243\\\\\n",
       "\tpurpose &  2          & 0.2781337   & 146         & 151.7109    & 0.870169859\\\\\n",
       "\tinterest &  1          & 8.0630238   & 145         & 143.6479    & 0.004517772\\\\\n",
       "\\end{tabular}\n"
      ],
      "text/markdown": [
       "\n",
       "| <!--/--> | Df | Deviance | Resid. Df | Resid. Dev | Pr(>Chi) |\n",
       "|---|---|---|---|---|---|\n",
       "| NULL | NA          |        NA   | 150         | 153.3133    |          NA |\n",
       "| definition |  1          | 0.6896425   | 149         | 152.6236    | 0.406286013 |\n",
       "| need |  1          | 0.6345747   | 148         | 151.9891    | 0.425682243 |\n",
       "| purpose |  2          | 0.2781337   | 146         | 151.7109    | 0.870169859 |\n",
       "| interest |  1          | 8.0630238   | 145         | 143.6479    | 0.004517772 |\n",
       "\n"
      ],
      "text/plain": [
       "           Df Deviance  Resid. Df Resid. Dev Pr(>Chi)   \n",
       "NULL       NA        NA 150       153.3133            NA\n",
       "definition  1 0.6896425 149       152.6236   0.406286013\n",
       "need        1 0.6345747 148       151.9891   0.425682243\n",
       "purpose     2 0.2781337 146       151.7109   0.870169859\n",
       "interest    1 8.0630238 145       143.6479   0.004517772"
      ]
     },
     "metadata": {},
     "output_type": "display_data"
    }
   ],
   "source": [
    "model <- glm(d3_3 ~ definition + need + purpose \n",
    "              + interest, data =survey, family = binomial)\n",
    "summary(model)\n",
    "\n",
    "\n",
    "anova(model, test=\"Chisq\")"
   ]
  },
  {
   "cell_type": "code",
   "execution_count": 36,
   "metadata": {},
   "outputs": [
    {
     "data": {
      "text/plain": [
       "\n",
       "Call:\n",
       "glm(formula = d3_4 ~ definition + need + purpose + interest, \n",
       "    family = binomial, data = survey)\n",
       "\n",
       "Deviance Residuals: \n",
       "    Min       1Q   Median       3Q      Max  \n",
       "-0.6714  -0.5961  -0.5307  -0.4389   2.2733  \n",
       "\n",
       "Coefficients:\n",
       "                  Estimate Std. Error z value Pr(>|z|)  \n",
       "(Intercept)       -2.38564    1.08405  -2.201   0.0278 *\n",
       "definitionharmony -0.23408    0.63628  -0.368   0.7130  \n",
       "needharmony        0.25130    0.59401   0.423   0.6723  \n",
       "purposecosmetic    0.41833    0.71621   0.584   0.5592  \n",
       "purposeetc         0.64510    0.62813   1.027   0.3044  \n",
       "interest           0.02854    0.25076   0.114   0.9094  \n",
       "---\n",
       "Signif. codes:  0 '***' 0.001 '**' 0.01 '*' 0.05 '.' 0.1 ' ' 1\n",
       "\n",
       "(Dispersion parameter for binomial family taken to be 1)\n",
       "\n",
       "    Null deviance: 118.09  on 150  degrees of freedom\n",
       "Residual deviance: 116.64  on 145  degrees of freedom\n",
       "AIC: 128.64\n",
       "\n",
       "Number of Fisher Scoring iterations: 5\n"
      ]
     },
     "metadata": {},
     "output_type": "display_data"
    },
    {
     "data": {
      "text/html": [
       "<table>\n",
       "<thead><tr><th></th><th scope=col>Df</th><th scope=col>Deviance</th><th scope=col>Resid. Df</th><th scope=col>Resid. Dev</th><th scope=col>Pr(&gt;Chi)</th></tr></thead>\n",
       "<tbody>\n",
       "\t<tr><th scope=row>NULL</th><td>NA        </td><td>        NA</td><td>150       </td><td>118.0875  </td><td>       NA </td></tr>\n",
       "\t<tr><th scope=row>definition</th><td> 1        </td><td>0.02602955</td><td>149       </td><td>118.0615  </td><td>0.8718282 </td></tr>\n",
       "\t<tr><th scope=row>need</th><td> 1        </td><td>0.20054077</td><td>148       </td><td>117.8610  </td><td>0.6542847 </td></tr>\n",
       "\t<tr><th scope=row>purpose</th><td> 2        </td><td>1.20449481</td><td>146       </td><td>116.6565  </td><td>0.5475796 </td></tr>\n",
       "\t<tr><th scope=row>interest</th><td> 1        </td><td>0.01299032</td><td>145       </td><td>116.6435  </td><td>0.9092575 </td></tr>\n",
       "</tbody>\n",
       "</table>\n"
      ],
      "text/latex": [
       "\\begin{tabular}{r|lllll}\n",
       "  & Df & Deviance & Resid. Df & Resid. Dev & Pr(>Chi)\\\\\n",
       "\\hline\n",
       "\tNULL & NA         &         NA & 150        & 118.0875   &        NA \\\\\n",
       "\tdefinition &  1         & 0.02602955 & 149        & 118.0615   & 0.8718282 \\\\\n",
       "\tneed &  1         & 0.20054077 & 148        & 117.8610   & 0.6542847 \\\\\n",
       "\tpurpose &  2         & 1.20449481 & 146        & 116.6565   & 0.5475796 \\\\\n",
       "\tinterest &  1         & 0.01299032 & 145        & 116.6435   & 0.9092575 \\\\\n",
       "\\end{tabular}\n"
      ],
      "text/markdown": [
       "\n",
       "| <!--/--> | Df | Deviance | Resid. Df | Resid. Dev | Pr(>Chi) |\n",
       "|---|---|---|---|---|---|\n",
       "| NULL | NA         |         NA | 150        | 118.0875   |        NA  |\n",
       "| definition |  1         | 0.02602955 | 149        | 118.0615   | 0.8718282  |\n",
       "| need |  1         | 0.20054077 | 148        | 117.8610   | 0.6542847  |\n",
       "| purpose |  2         | 1.20449481 | 146        | 116.6565   | 0.5475796  |\n",
       "| interest |  1         | 0.01299032 | 145        | 116.6435   | 0.9092575  |\n",
       "\n"
      ],
      "text/plain": [
       "           Df Deviance   Resid. Df Resid. Dev Pr(>Chi) \n",
       "NULL       NA         NA 150       118.0875          NA\n",
       "definition  1 0.02602955 149       118.0615   0.8718282\n",
       "need        1 0.20054077 148       117.8610   0.6542847\n",
       "purpose     2 1.20449481 146       116.6565   0.5475796\n",
       "interest    1 0.01299032 145       116.6435   0.9092575"
      ]
     },
     "metadata": {},
     "output_type": "display_data"
    }
   ],
   "source": [
    "model <- glm(d3_4 ~ definition + need + purpose \n",
    "              + interest, data =survey, family = binomial)\n",
    "summary(model)\n",
    "\n",
    "\n",
    "anova(model, test=\"Chisq\")"
   ]
  },
  {
   "cell_type": "code",
   "execution_count": 37,
   "metadata": {},
   "outputs": [
    {
     "data": {
      "text/plain": [
       "\n",
       "Call:\n",
       "glm(formula = d3_5 ~ definition + need + purpose + interest, \n",
       "    family = binomial, data = survey)\n",
       "\n",
       "Deviance Residuals: \n",
       "    Min       1Q   Median       3Q      Max  \n",
       "-1.0756  -0.7936  -0.7118   1.2922   1.8891  \n",
       "\n",
       "Coefficients:\n",
       "                  Estimate Std. Error z value Pr(>|z|)\n",
       "(Intercept)        -0.4776     0.8006  -0.597    0.551\n",
       "definitionharmony  -0.1236     0.5065  -0.244    0.807\n",
       "needharmony         0.4373     0.4635   0.944    0.345\n",
       "purposecosmetic     0.1265     0.5154   0.245    0.806\n",
       "purposeetc          0.1694     0.4549   0.372    0.710\n",
       "interest           -0.2499     0.1927  -1.297    0.195\n",
       "\n",
       "(Dispersion parameter for binomial family taken to be 1)\n",
       "\n",
       "    Null deviance: 172.52  on 150  degrees of freedom\n",
       "Residual deviance: 169.67  on 145  degrees of freedom\n",
       "AIC: 181.67\n",
       "\n",
       "Number of Fisher Scoring iterations: 4\n"
      ]
     },
     "metadata": {},
     "output_type": "display_data"
    },
    {
     "data": {
      "text/html": [
       "<table>\n",
       "<thead><tr><th></th><th scope=col>Df</th><th scope=col>Deviance</th><th scope=col>Resid. Df</th><th scope=col>Resid. Dev</th><th scope=col>Pr(&gt;Chi)</th></tr></thead>\n",
       "<tbody>\n",
       "\t<tr><th scope=row>NULL</th><td>NA        </td><td>        NA</td><td>150       </td><td>172.5170  </td><td>       NA </td></tr>\n",
       "\t<tr><th scope=row>definition</th><td> 1        </td><td>0.21051989</td><td>149       </td><td>172.3064  </td><td>0.6463602 </td></tr>\n",
       "\t<tr><th scope=row>need</th><td> 1        </td><td>0.90961190</td><td>148       </td><td>171.3968  </td><td>0.3402174 </td></tr>\n",
       "\t<tr><th scope=row>purpose</th><td> 2        </td><td>0.03604342</td><td>146       </td><td>171.3608  </td><td>0.9821397 </td></tr>\n",
       "\t<tr><th scope=row>interest</th><td> 1        </td><td>1.68945927</td><td>145       </td><td>169.6713  </td><td>0.1936723 </td></tr>\n",
       "</tbody>\n",
       "</table>\n"
      ],
      "text/latex": [
       "\\begin{tabular}{r|lllll}\n",
       "  & Df & Deviance & Resid. Df & Resid. Dev & Pr(>Chi)\\\\\n",
       "\\hline\n",
       "\tNULL & NA         &         NA & 150        & 172.5170   &        NA \\\\\n",
       "\tdefinition &  1         & 0.21051989 & 149        & 172.3064   & 0.6463602 \\\\\n",
       "\tneed &  1         & 0.90961190 & 148        & 171.3968   & 0.3402174 \\\\\n",
       "\tpurpose &  2         & 0.03604342 & 146        & 171.3608   & 0.9821397 \\\\\n",
       "\tinterest &  1         & 1.68945927 & 145        & 169.6713   & 0.1936723 \\\\\n",
       "\\end{tabular}\n"
      ],
      "text/markdown": [
       "\n",
       "| <!--/--> | Df | Deviance | Resid. Df | Resid. Dev | Pr(>Chi) |\n",
       "|---|---|---|---|---|---|\n",
       "| NULL | NA         |         NA | 150        | 172.5170   |        NA  |\n",
       "| definition |  1         | 0.21051989 | 149        | 172.3064   | 0.6463602  |\n",
       "| need |  1         | 0.90961190 | 148        | 171.3968   | 0.3402174  |\n",
       "| purpose |  2         | 0.03604342 | 146        | 171.3608   | 0.9821397  |\n",
       "| interest |  1         | 1.68945927 | 145        | 169.6713   | 0.1936723  |\n",
       "\n"
      ],
      "text/plain": [
       "           Df Deviance   Resid. Df Resid. Dev Pr(>Chi) \n",
       "NULL       NA         NA 150       172.5170          NA\n",
       "definition  1 0.21051989 149       172.3064   0.6463602\n",
       "need        1 0.90961190 148       171.3968   0.3402174\n",
       "purpose     2 0.03604342 146       171.3608   0.9821397\n",
       "interest    1 1.68945927 145       169.6713   0.1936723"
      ]
     },
     "metadata": {},
     "output_type": "display_data"
    }
   ],
   "source": [
    "model <- glm(d3_5 ~ definition + need + purpose \n",
    "              + interest, data =survey, family = binomial)\n",
    "summary(model)\n",
    "\n",
    "\n",
    "anova(model, test=\"Chisq\")"
   ]
  },
  {
   "cell_type": "code",
   "execution_count": null,
   "metadata": {},
   "outputs": [],
   "source": []
  }
 ],
 "metadata": {
  "kernelspec": {
   "display_name": "R",
   "language": "R",
   "name": "ir"
  },
  "language_info": {
   "codemirror_mode": "r",
   "file_extension": ".r",
   "mimetype": "text/x-r-source",
   "name": "R",
   "pygments_lexer": "r",
   "version": "3.6.1"
  }
 },
 "nbformat": 4,
 "nbformat_minor": 4
}
