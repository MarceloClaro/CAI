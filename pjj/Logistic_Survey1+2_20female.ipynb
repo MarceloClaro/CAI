{
 "cells": [
  {
   "cell_type": "code",
   "execution_count": 1,
   "metadata": {
    "scrolled": true
   },
   "outputs": [
    {
     "name": "stderr",
     "output_type": "stream",
     "text": [
      "Warning message:\n",
      "\"package 'ROCR' was built under R version 3.6.3\"Loading required package: gplots\n",
      "Warning message:\n",
      "\"package 'gplots' was built under R version 3.6.3\"\n",
      "Attaching package: 'gplots'\n",
      "\n",
      "The following object is masked from 'package:stats':\n",
      "\n",
      "    lowess\n",
      "\n",
      "Warning message:\n",
      "\"package 'dplyr' was built under R version 3.6.3\"\n",
      "Attaching package: 'dplyr'\n",
      "\n",
      "The following objects are masked from 'package:stats':\n",
      "\n",
      "    filter, lag\n",
      "\n",
      "The following objects are masked from 'package:base':\n",
      "\n",
      "    intersect, setdiff, setequal, union\n",
      "\n"
     ]
    }
   ],
   "source": [
    "library(ROCR)\n",
    "library(dplyr)"
   ]
  },
  {
   "cell_type": "code",
   "execution_count": 2,
   "metadata": {},
   "outputs": [],
   "source": [
    "survey <- read.csv('전처리/survey.csv')"
   ]
  },
  {
   "cell_type": "code",
   "execution_count": 3,
   "metadata": {
    "scrolled": false
   },
   "outputs": [
    {
     "name": "stdout",
     "output_type": "stream",
     "text": [
      "'data.frame':\t213 obs. of  13 variables:\n",
      " $ X          : int  0 1 2 3 4 5 6 7 8 9 ...\n",
      " $ sex        : Factor w/ 2 levels \"Female\",\"Male\": 2 1 1 1 2 1 2 1 1 1 ...\n",
      " $ age_class  : int  20 20 20 20 20 20 20 20 30 30 ...\n",
      " $ definition : Factor w/ 2 levels \"bright\",\"harmony\": 2 1 1 1 2 1 1 1 2 2 ...\n",
      " $ need       : Factor w/ 2 levels \"bright\",\"harmony\": 2 2 1 1 2 1 2 1 2 1 ...\n",
      " $ purpose    : Factor w/ 3 levels \"clothes\",\"cosmetic\",..: 1 1 1 1 1 1 1 2 1 1 ...\n",
      " $ interest   : int  5 5 3 3 5 5 3 3 4 3 ...\n",
      " $ comp       : int  4 1 2 3 5 5 5 2 3 3 ...\n",
      " $ triangle1  : int  5 1 4 4 5 5 5 4 2 5 ...\n",
      " $ triangle2  : int  2 2 1 3 4 4 2 3 2 3 ...\n",
      " $ doubleness1: int  3 2 2 2 1 2 5 4 5 2 ...\n",
      " $ doubleness2: int  2 3 1 2 2 2 4 3 4 3 ...\n",
      " $ doubleness3: int  2 2 2 1 3 1 5 1 5 5 ...\n"
     ]
    },
    {
     "data": {
      "text/html": [
       "<table>\n",
       "<thead><tr><th scope=col>X</th><th scope=col>sex</th><th scope=col>age_class</th><th scope=col>definition</th><th scope=col>need</th><th scope=col>purpose</th><th scope=col>interest</th><th scope=col>comp</th><th scope=col>triangle1</th><th scope=col>triangle2</th><th scope=col>doubleness1</th><th scope=col>doubleness2</th><th scope=col>doubleness3</th></tr></thead>\n",
       "<tbody>\n",
       "\t<tr><td>0      </td><td>Male   </td><td>20     </td><td>harmony</td><td>harmony</td><td>clothes</td><td>5      </td><td>4      </td><td>5      </td><td>2      </td><td>3      </td><td>2      </td><td>2      </td></tr>\n",
       "\t<tr><td>1      </td><td>Female </td><td>20     </td><td>bright </td><td>harmony</td><td>clothes</td><td>5      </td><td>1      </td><td>1      </td><td>2      </td><td>2      </td><td>3      </td><td>2      </td></tr>\n",
       "\t<tr><td>2      </td><td>Female </td><td>20     </td><td>bright </td><td>bright </td><td>clothes</td><td>3      </td><td>2      </td><td>4      </td><td>1      </td><td>2      </td><td>1      </td><td>2      </td></tr>\n",
       "\t<tr><td>3      </td><td>Female </td><td>20     </td><td>bright </td><td>bright </td><td>clothes</td><td>3      </td><td>3      </td><td>4      </td><td>3      </td><td>2      </td><td>2      </td><td>1      </td></tr>\n",
       "\t<tr><td>4      </td><td>Male   </td><td>20     </td><td>harmony</td><td>harmony</td><td>clothes</td><td>5      </td><td>5      </td><td>5      </td><td>4      </td><td>1      </td><td>2      </td><td>3      </td></tr>\n",
       "\t<tr><td>5      </td><td>Female </td><td>20     </td><td>bright </td><td>bright </td><td>clothes</td><td>5      </td><td>5      </td><td>5      </td><td>4      </td><td>2      </td><td>2      </td><td>1      </td></tr>\n",
       "</tbody>\n",
       "</table>\n"
      ],
      "text/latex": [
       "\\begin{tabular}{r|lllllllllllll}\n",
       " X & sex & age\\_class & definition & need & purpose & interest & comp & triangle1 & triangle2 & doubleness1 & doubleness2 & doubleness3\\\\\n",
       "\\hline\n",
       "\t 0       & Male    & 20      & harmony & harmony & clothes & 5       & 4       & 5       & 2       & 3       & 2       & 2      \\\\\n",
       "\t 1       & Female  & 20      & bright  & harmony & clothes & 5       & 1       & 1       & 2       & 2       & 3       & 2      \\\\\n",
       "\t 2       & Female  & 20      & bright  & bright  & clothes & 3       & 2       & 4       & 1       & 2       & 1       & 2      \\\\\n",
       "\t 3       & Female  & 20      & bright  & bright  & clothes & 3       & 3       & 4       & 3       & 2       & 2       & 1      \\\\\n",
       "\t 4       & Male    & 20      & harmony & harmony & clothes & 5       & 5       & 5       & 4       & 1       & 2       & 3      \\\\\n",
       "\t 5       & Female  & 20      & bright  & bright  & clothes & 5       & 5       & 5       & 4       & 2       & 2       & 1      \\\\\n",
       "\\end{tabular}\n"
      ],
      "text/markdown": [
       "\n",
       "| X | sex | age_class | definition | need | purpose | interest | comp | triangle1 | triangle2 | doubleness1 | doubleness2 | doubleness3 |\n",
       "|---|---|---|---|---|---|---|---|---|---|---|---|---|\n",
       "| 0       | Male    | 20      | harmony | harmony | clothes | 5       | 4       | 5       | 2       | 3       | 2       | 2       |\n",
       "| 1       | Female  | 20      | bright  | harmony | clothes | 5       | 1       | 1       | 2       | 2       | 3       | 2       |\n",
       "| 2       | Female  | 20      | bright  | bright  | clothes | 3       | 2       | 4       | 1       | 2       | 1       | 2       |\n",
       "| 3       | Female  | 20      | bright  | bright  | clothes | 3       | 3       | 4       | 3       | 2       | 2       | 1       |\n",
       "| 4       | Male    | 20      | harmony | harmony | clothes | 5       | 5       | 5       | 4       | 1       | 2       | 3       |\n",
       "| 5       | Female  | 20      | bright  | bright  | clothes | 5       | 5       | 5       | 4       | 2       | 2       | 1       |\n",
       "\n"
      ],
      "text/plain": [
       "  X sex    age_class definition need    purpose interest comp triangle1\n",
       "1 0 Male   20        harmony    harmony clothes 5        4    5        \n",
       "2 1 Female 20        bright     harmony clothes 5        1    1        \n",
       "3 2 Female 20        bright     bright  clothes 3        2    4        \n",
       "4 3 Female 20        bright     bright  clothes 3        3    4        \n",
       "5 4 Male   20        harmony    harmony clothes 5        5    5        \n",
       "6 5 Female 20        bright     bright  clothes 5        5    5        \n",
       "  triangle2 doubleness1 doubleness2 doubleness3\n",
       "1 2         3           2           2          \n",
       "2 2         2           3           2          \n",
       "3 1         2           1           2          \n",
       "4 3         2           2           1          \n",
       "5 4         1           2           3          \n",
       "6 4         2           2           1          "
      ]
     },
     "metadata": {},
     "output_type": "display_data"
    }
   ],
   "source": [
    "str(survey)\n",
    "head(survey)"
   ]
  },
  {
   "cell_type": "code",
   "execution_count": 4,
   "metadata": {
    "scrolled": true
   },
   "outputs": [],
   "source": [
    "survey = filter(survey, sex=='Female')"
   ]
  },
  {
   "cell_type": "code",
   "execution_count": 5,
   "metadata": {
    "scrolled": true
   },
   "outputs": [
    {
     "name": "stdout",
     "output_type": "stream",
     "text": [
      "'data.frame':\t151 obs. of  13 variables:\n",
      " $ X          : int  1 2 3 5 7 8 9 10 11 12 ...\n",
      " $ sex        : Factor w/ 2 levels \"Female\",\"Male\": 1 1 1 1 1 1 1 1 1 1 ...\n",
      " $ age_class  : int  20 20 20 20 20 30 30 20 30 20 ...\n",
      " $ definition : Factor w/ 2 levels \"bright\",\"harmony\": 1 1 1 1 1 2 2 1 2 2 ...\n",
      " $ need       : Factor w/ 2 levels \"bright\",\"harmony\": 2 1 1 1 1 2 1 1 1 2 ...\n",
      " $ purpose    : Factor w/ 3 levels \"clothes\",\"cosmetic\",..: 1 1 1 1 2 1 1 2 3 1 ...\n",
      " $ interest   : int  5 3 3 5 3 4 3 3 5 1 ...\n",
      " $ comp       : int  1 2 3 5 2 3 3 2 2 5 ...\n",
      " $ triangle1  : int  1 4 4 5 4 2 5 5 5 4 ...\n",
      " $ triangle2  : int  2 1 3 4 3 2 3 3 1 2 ...\n",
      " $ doubleness1: int  2 2 2 2 4 5 2 1 5 1 ...\n",
      " $ doubleness2: int  3 1 2 2 3 4 3 5 2 4 ...\n",
      " $ doubleness3: int  2 2 1 1 1 5 5 3 1 2 ...\n"
     ]
    }
   ],
   "source": [
    "str(survey)"
   ]
  },
  {
   "cell_type": "code",
   "execution_count": 6,
   "metadata": {
    "scrolled": true
   },
   "outputs": [
    {
     "data": {
      "text/html": [
       "<table>\n",
       "<thead><tr><th scope=col>X</th><th scope=col>sex</th><th scope=col>age_class</th><th scope=col>definition</th><th scope=col>need</th><th scope=col>purpose</th><th scope=col>interest</th><th scope=col>comp</th><th scope=col>triangle1</th><th scope=col>triangle2</th><th scope=col>doubleness1</th><th scope=col>doubleness2</th><th scope=col>doubleness3</th></tr></thead>\n",
       "<tbody>\n",
       "\t<tr><td> 1      </td><td>Female  </td><td>20      </td><td>bright  </td><td>harmony </td><td>clothes </td><td>5       </td><td>1       </td><td>1       </td><td>2       </td><td>2       </td><td>3       </td><td>2       </td></tr>\n",
       "\t<tr><td> 2      </td><td>Female  </td><td>20      </td><td>bright  </td><td>bright  </td><td>clothes </td><td>3       </td><td>2       </td><td>4       </td><td>1       </td><td>2       </td><td>1       </td><td>2       </td></tr>\n",
       "\t<tr><td> 3      </td><td>Female  </td><td>20      </td><td>bright  </td><td>bright  </td><td>clothes </td><td>3       </td><td>3       </td><td>4       </td><td>3       </td><td>2       </td><td>2       </td><td>1       </td></tr>\n",
       "\t<tr><td> 5      </td><td>Female  </td><td>20      </td><td>bright  </td><td>bright  </td><td>clothes </td><td>5       </td><td>5       </td><td>5       </td><td>4       </td><td>2       </td><td>2       </td><td>1       </td></tr>\n",
       "\t<tr><td> 7      </td><td>Female  </td><td>20      </td><td>bright  </td><td>bright  </td><td>cosmetic</td><td>3       </td><td>2       </td><td>4       </td><td>3       </td><td>4       </td><td>3       </td><td>1       </td></tr>\n",
       "\t<tr><td> 8      </td><td>Female  </td><td>30      </td><td>harmony </td><td>harmony </td><td>clothes </td><td>4       </td><td>3       </td><td>2       </td><td>2       </td><td>5       </td><td>4       </td><td>5       </td></tr>\n",
       "\t<tr><td> 9      </td><td>Female  </td><td>30      </td><td>harmony </td><td>bright  </td><td>clothes </td><td>3       </td><td>3       </td><td>5       </td><td>3       </td><td>2       </td><td>3       </td><td>5       </td></tr>\n",
       "\t<tr><td>10      </td><td>Female  </td><td>20      </td><td>bright  </td><td>bright  </td><td>cosmetic</td><td>3       </td><td>2       </td><td>5       </td><td>3       </td><td>1       </td><td>5       </td><td>3       </td></tr>\n",
       "\t<tr><td>11      </td><td>Female  </td><td>30      </td><td>harmony </td><td>bright  </td><td>etc     </td><td>5       </td><td>2       </td><td>5       </td><td>1       </td><td>5       </td><td>2       </td><td>1       </td></tr>\n",
       "\t<tr><td>12      </td><td>Female  </td><td>20      </td><td>harmony </td><td>harmony </td><td>clothes </td><td>1       </td><td>5       </td><td>4       </td><td>2       </td><td>1       </td><td>4       </td><td>2       </td></tr>\n",
       "\t<tr><td>13      </td><td>Female  </td><td>30      </td><td>harmony </td><td>bright  </td><td>cosmetic</td><td>4       </td><td>3       </td><td>5       </td><td>3       </td><td>5       </td><td>3       </td><td>1       </td></tr>\n",
       "\t<tr><td>14      </td><td>Female  </td><td>20      </td><td>bright  </td><td>bright  </td><td>etc     </td><td>4       </td><td>4       </td><td>3       </td><td>4       </td><td>3       </td><td>4       </td><td>2       </td></tr>\n",
       "\t<tr><td>15      </td><td>Female  </td><td>20      </td><td>harmony </td><td>bright  </td><td>cosmetic</td><td>3       </td><td>4       </td><td>4       </td><td>4       </td><td>5       </td><td>2       </td><td>1       </td></tr>\n",
       "\t<tr><td>17      </td><td>Female  </td><td>20      </td><td>harmony </td><td>harmony </td><td>clothes </td><td>3       </td><td>2       </td><td>3       </td><td>4       </td><td>5       </td><td>2       </td><td>5       </td></tr>\n",
       "\t<tr><td>18      </td><td>Female  </td><td>20      </td><td>bright  </td><td>bright  </td><td>cosmetic</td><td>5       </td><td>1       </td><td>3       </td><td>4       </td><td>2       </td><td>2       </td><td>5       </td></tr>\n",
       "\t<tr><td>19      </td><td>Female  </td><td>30      </td><td>harmony </td><td>harmony </td><td>cosmetic</td><td>1       </td><td>2       </td><td>3       </td><td>4       </td><td>5       </td><td>2       </td><td>5       </td></tr>\n",
       "\t<tr><td>22      </td><td>Female  </td><td>30      </td><td>harmony </td><td>bright  </td><td>clothes </td><td>4       </td><td>2       </td><td>5       </td><td>4       </td><td>2       </td><td>1       </td><td>3       </td></tr>\n",
       "\t<tr><td>25      </td><td>Female  </td><td>30      </td><td>harmony </td><td>harmony </td><td>clothes </td><td>3       </td><td>1       </td><td>5       </td><td>3       </td><td>4       </td><td>2       </td><td>3       </td></tr>\n",
       "\t<tr><td>26      </td><td>Female  </td><td>20      </td><td>harmony </td><td>bright  </td><td>clothes </td><td>3       </td><td>3       </td><td>3       </td><td>4       </td><td>2       </td><td>4       </td><td>1       </td></tr>\n",
       "\t<tr><td>27      </td><td>Female  </td><td>20      </td><td>bright  </td><td>harmony </td><td>clothes </td><td>3       </td><td>2       </td><td>3       </td><td>3       </td><td>2       </td><td>2       </td><td>1       </td></tr>\n",
       "\t<tr><td>28      </td><td>Female  </td><td>20      </td><td>bright  </td><td>bright  </td><td>clothes </td><td>4       </td><td>1       </td><td>3       </td><td>4       </td><td>4       </td><td>1       </td><td>1       </td></tr>\n",
       "\t<tr><td>29      </td><td>Female  </td><td>30      </td><td>bright  </td><td>bright  </td><td>cosmetic</td><td>3       </td><td>2       </td><td>5       </td><td>4       </td><td>2       </td><td>3       </td><td>5       </td></tr>\n",
       "\t<tr><td>31      </td><td>Female  </td><td>20      </td><td>harmony </td><td>harmony </td><td>cosmetic</td><td>3       </td><td>5       </td><td>1       </td><td>3       </td><td>1       </td><td>3       </td><td>5       </td></tr>\n",
       "\t<tr><td>32      </td><td>Female  </td><td>20      </td><td>harmony </td><td>harmony </td><td>etc     </td><td>2       </td><td>2       </td><td>3       </td><td>4       </td><td>5       </td><td>3       </td><td>5       </td></tr>\n",
       "\t<tr><td>33      </td><td>Female  </td><td>20      </td><td>bright  </td><td>bright  </td><td>cosmetic</td><td>2       </td><td>1       </td><td>5       </td><td>5       </td><td>4       </td><td>4       </td><td>1       </td></tr>\n",
       "\t<tr><td>34      </td><td>Female  </td><td>20      </td><td>harmony </td><td>bright  </td><td>etc     </td><td>2       </td><td>2       </td><td>2       </td><td>4       </td><td>2       </td><td>2       </td><td>5       </td></tr>\n",
       "\t<tr><td>37      </td><td>Female  </td><td>20      </td><td>harmony </td><td>harmony </td><td>clothes </td><td>3       </td><td>4       </td><td>1       </td><td>5       </td><td>1       </td><td>4       </td><td>1       </td></tr>\n",
       "\t<tr><td>38      </td><td>Female  </td><td>20      </td><td>harmony </td><td>harmony </td><td>cosmetic</td><td>3       </td><td>2       </td><td>5       </td><td>4       </td><td>2       </td><td>4       </td><td>2       </td></tr>\n",
       "\t<tr><td>44      </td><td>Female  </td><td>40      </td><td>bright  </td><td>bright  </td><td>clothes </td><td>2       </td><td>1       </td><td>4       </td><td>5       </td><td>4       </td><td>4       </td><td>1       </td></tr>\n",
       "\t<tr><td>47      </td><td>Female  </td><td>20      </td><td>harmony </td><td>harmony </td><td>clothes </td><td>3       </td><td>5       </td><td>5       </td><td>4       </td><td>5       </td><td>4       </td><td>1       </td></tr>\n",
       "\t<tr><td>...</td><td>...</td><td>...</td><td>...</td><td>...</td><td>...</td><td>...</td><td>...</td><td>...</td><td>...</td><td>...</td><td>...</td><td>...</td></tr>\n",
       "\t<tr><td>170     </td><td>Female  </td><td>20      </td><td>harmony </td><td>harmony </td><td>etc     </td><td>1       </td><td>3       </td><td>4       </td><td>1       </td><td>2       </td><td>1       </td><td>5       </td></tr>\n",
       "\t<tr><td>171     </td><td>Female  </td><td>20      </td><td>harmony </td><td>harmony </td><td>clothes </td><td>4       </td><td>2       </td><td>1       </td><td>1       </td><td>2       </td><td>4       </td><td>3       </td></tr>\n",
       "\t<tr><td>172     </td><td>Female  </td><td>10      </td><td>harmony </td><td>harmony </td><td>etc     </td><td>4       </td><td>5       </td><td>5       </td><td>5       </td><td>2       </td><td>5       </td><td>5       </td></tr>\n",
       "\t<tr><td>173     </td><td>Female  </td><td>20      </td><td>harmony </td><td>harmony </td><td>etc     </td><td>3       </td><td>3       </td><td>5       </td><td>3       </td><td>5       </td><td>4       </td><td>2       </td></tr>\n",
       "\t<tr><td>174     </td><td>Female  </td><td>20      </td><td>harmony </td><td>harmony </td><td>etc     </td><td>4       </td><td>1       </td><td>2       </td><td>3       </td><td>1       </td><td>1       </td><td>5       </td></tr>\n",
       "\t<tr><td>178     </td><td>Female  </td><td>20      </td><td>harmony </td><td>harmony </td><td>clothes </td><td>5       </td><td>5       </td><td>4       </td><td>5       </td><td>4       </td><td>1       </td><td>3       </td></tr>\n",
       "\t<tr><td>180     </td><td>Female  </td><td>30      </td><td>harmony </td><td>harmony </td><td>etc     </td><td>1       </td><td>2       </td><td>3       </td><td>3       </td><td>5       </td><td>4       </td><td>1       </td></tr>\n",
       "\t<tr><td>181     </td><td>Female  </td><td>10      </td><td>harmony </td><td>harmony </td><td>clothes </td><td>2       </td><td>4       </td><td>1       </td><td>1       </td><td>3       </td><td>4       </td><td>2       </td></tr>\n",
       "\t<tr><td>183     </td><td>Female  </td><td>30      </td><td>harmony </td><td>bright  </td><td>etc     </td><td>4       </td><td>3       </td><td>3       </td><td>4       </td><td>5       </td><td>3       </td><td>1       </td></tr>\n",
       "\t<tr><td>186     </td><td>Female  </td><td>20      </td><td>harmony </td><td>bright  </td><td>etc     </td><td>3       </td><td>1       </td><td>4       </td><td>2       </td><td>4       </td><td>5       </td><td>3       </td></tr>\n",
       "\t<tr><td>188     </td><td>Female  </td><td>20      </td><td>harmony </td><td>bright  </td><td>etc     </td><td>5       </td><td>5       </td><td>4       </td><td>5       </td><td>5       </td><td>4       </td><td>3       </td></tr>\n",
       "\t<tr><td>190     </td><td>Female  </td><td>30      </td><td>bright  </td><td>bright  </td><td>clothes </td><td>3       </td><td>3       </td><td>5       </td><td>4       </td><td>2       </td><td>5       </td><td>5       </td></tr>\n",
       "\t<tr><td>191     </td><td>Female  </td><td>20      </td><td>harmony </td><td>harmony </td><td>etc     </td><td>4       </td><td>3       </td><td>3       </td><td>3       </td><td>3       </td><td>3       </td><td>4       </td></tr>\n",
       "\t<tr><td>192     </td><td>Female  </td><td>30      </td><td>harmony </td><td>harmony </td><td>clothes </td><td>1       </td><td>3       </td><td>1       </td><td>3       </td><td>2       </td><td>2       </td><td>1       </td></tr>\n",
       "\t<tr><td>194     </td><td>Female  </td><td>20      </td><td>harmony </td><td>bright  </td><td>etc     </td><td>3       </td><td>1       </td><td>4       </td><td>5       </td><td>1       </td><td>3       </td><td>1       </td></tr>\n",
       "\t<tr><td>195     </td><td>Female  </td><td>20      </td><td>harmony </td><td>harmony </td><td>clothes </td><td>3       </td><td>2       </td><td>4       </td><td>4       </td><td>2       </td><td>4       </td><td>4       </td></tr>\n",
       "\t<tr><td>196     </td><td>Female  </td><td>20      </td><td>harmony </td><td>harmony </td><td>cosmetic</td><td>4       </td><td>1       </td><td>4       </td><td>5       </td><td>4       </td><td>5       </td><td>4       </td></tr>\n",
       "\t<tr><td>198     </td><td>Female  </td><td>20      </td><td>harmony </td><td>harmony </td><td>etc     </td><td>4       </td><td>1       </td><td>3       </td><td>4       </td><td>2       </td><td>4       </td><td>4       </td></tr>\n",
       "\t<tr><td>199     </td><td>Female  </td><td>20      </td><td>harmony </td><td>harmony </td><td>etc     </td><td>4       </td><td>1       </td><td>4       </td><td>5       </td><td>2       </td><td>1       </td><td>5       </td></tr>\n",
       "\t<tr><td>200     </td><td>Female  </td><td>50      </td><td>harmony </td><td>harmony </td><td>etc     </td><td>4       </td><td>3       </td><td>3       </td><td>5       </td><td>1       </td><td>4       </td><td>5       </td></tr>\n",
       "\t<tr><td>201     </td><td>Female  </td><td>50      </td><td>harmony </td><td>harmony </td><td>etc     </td><td>5       </td><td>2       </td><td>1       </td><td>5       </td><td>5       </td><td>4       </td><td>3       </td></tr>\n",
       "\t<tr><td>202     </td><td>Female  </td><td>20      </td><td>harmony </td><td>harmony </td><td>clothes </td><td>2       </td><td>2       </td><td>3       </td><td>4       </td><td>2       </td><td>5       </td><td>2       </td></tr>\n",
       "\t<tr><td>203     </td><td>Female  </td><td>50      </td><td>bright  </td><td>bright  </td><td>cosmetic</td><td>3       </td><td>1       </td><td>1       </td><td>1       </td><td>1       </td><td>1       </td><td>1       </td></tr>\n",
       "\t<tr><td>204     </td><td>Female  </td><td>50      </td><td>harmony </td><td>harmony </td><td>cosmetic</td><td>5       </td><td>4       </td><td>2       </td><td>1       </td><td>5       </td><td>3       </td><td>3       </td></tr>\n",
       "\t<tr><td>205     </td><td>Female  </td><td>50      </td><td>bright  </td><td>bright  </td><td>clothes </td><td>3       </td><td>4       </td><td>5       </td><td>2       </td><td>2       </td><td>2       </td><td>5       </td></tr>\n",
       "\t<tr><td>206     </td><td>Female  </td><td>30      </td><td>harmony </td><td>harmony </td><td>cosmetic</td><td>4       </td><td>4       </td><td>2       </td><td>2       </td><td>4       </td><td>1       </td><td>3       </td></tr>\n",
       "\t<tr><td>207     </td><td>Female  </td><td>50      </td><td>harmony </td><td>harmony </td><td>clothes </td><td>4       </td><td>5       </td><td>3       </td><td>5       </td><td>5       </td><td>4       </td><td>1       </td></tr>\n",
       "\t<tr><td>209     </td><td>Female  </td><td>20      </td><td>bright  </td><td>harmony </td><td>etc     </td><td>4       </td><td>3       </td><td>4       </td><td>4       </td><td>2       </td><td>4       </td><td>4       </td></tr>\n",
       "\t<tr><td>210     </td><td>Female  </td><td>20      </td><td>bright  </td><td>harmony </td><td>etc     </td><td>4       </td><td>4       </td><td>5       </td><td>4       </td><td>1       </td><td>2       </td><td>5       </td></tr>\n",
       "\t<tr><td>212     </td><td>Female  </td><td>20      </td><td>harmony </td><td>bright  </td><td>clothes </td><td>3       </td><td>2       </td><td>5       </td><td>5       </td><td>4       </td><td>2       </td><td>1       </td></tr>\n",
       "</tbody>\n",
       "</table>\n"
      ],
      "text/latex": [
       "\\begin{tabular}{r|lllllllllllll}\n",
       " X & sex & age\\_class & definition & need & purpose & interest & comp & triangle1 & triangle2 & doubleness1 & doubleness2 & doubleness3\\\\\n",
       "\\hline\n",
       "\t  1       & Female   & 20       & bright   & harmony  & clothes  & 5        & 1        & 1        & 2        & 2        & 3        & 2       \\\\\n",
       "\t  2       & Female   & 20       & bright   & bright   & clothes  & 3        & 2        & 4        & 1        & 2        & 1        & 2       \\\\\n",
       "\t  3       & Female   & 20       & bright   & bright   & clothes  & 3        & 3        & 4        & 3        & 2        & 2        & 1       \\\\\n",
       "\t  5       & Female   & 20       & bright   & bright   & clothes  & 5        & 5        & 5        & 4        & 2        & 2        & 1       \\\\\n",
       "\t  7       & Female   & 20       & bright   & bright   & cosmetic & 3        & 2        & 4        & 3        & 4        & 3        & 1       \\\\\n",
       "\t  8       & Female   & 30       & harmony  & harmony  & clothes  & 4        & 3        & 2        & 2        & 5        & 4        & 5       \\\\\n",
       "\t  9       & Female   & 30       & harmony  & bright   & clothes  & 3        & 3        & 5        & 3        & 2        & 3        & 5       \\\\\n",
       "\t 10       & Female   & 20       & bright   & bright   & cosmetic & 3        & 2        & 5        & 3        & 1        & 5        & 3       \\\\\n",
       "\t 11       & Female   & 30       & harmony  & bright   & etc      & 5        & 2        & 5        & 1        & 5        & 2        & 1       \\\\\n",
       "\t 12       & Female   & 20       & harmony  & harmony  & clothes  & 1        & 5        & 4        & 2        & 1        & 4        & 2       \\\\\n",
       "\t 13       & Female   & 30       & harmony  & bright   & cosmetic & 4        & 3        & 5        & 3        & 5        & 3        & 1       \\\\\n",
       "\t 14       & Female   & 20       & bright   & bright   & etc      & 4        & 4        & 3        & 4        & 3        & 4        & 2       \\\\\n",
       "\t 15       & Female   & 20       & harmony  & bright   & cosmetic & 3        & 4        & 4        & 4        & 5        & 2        & 1       \\\\\n",
       "\t 17       & Female   & 20       & harmony  & harmony  & clothes  & 3        & 2        & 3        & 4        & 5        & 2        & 5       \\\\\n",
       "\t 18       & Female   & 20       & bright   & bright   & cosmetic & 5        & 1        & 3        & 4        & 2        & 2        & 5       \\\\\n",
       "\t 19       & Female   & 30       & harmony  & harmony  & cosmetic & 1        & 2        & 3        & 4        & 5        & 2        & 5       \\\\\n",
       "\t 22       & Female   & 30       & harmony  & bright   & clothes  & 4        & 2        & 5        & 4        & 2        & 1        & 3       \\\\\n",
       "\t 25       & Female   & 30       & harmony  & harmony  & clothes  & 3        & 1        & 5        & 3        & 4        & 2        & 3       \\\\\n",
       "\t 26       & Female   & 20       & harmony  & bright   & clothes  & 3        & 3        & 3        & 4        & 2        & 4        & 1       \\\\\n",
       "\t 27       & Female   & 20       & bright   & harmony  & clothes  & 3        & 2        & 3        & 3        & 2        & 2        & 1       \\\\\n",
       "\t 28       & Female   & 20       & bright   & bright   & clothes  & 4        & 1        & 3        & 4        & 4        & 1        & 1       \\\\\n",
       "\t 29       & Female   & 30       & bright   & bright   & cosmetic & 3        & 2        & 5        & 4        & 2        & 3        & 5       \\\\\n",
       "\t 31       & Female   & 20       & harmony  & harmony  & cosmetic & 3        & 5        & 1        & 3        & 1        & 3        & 5       \\\\\n",
       "\t 32       & Female   & 20       & harmony  & harmony  & etc      & 2        & 2        & 3        & 4        & 5        & 3        & 5       \\\\\n",
       "\t 33       & Female   & 20       & bright   & bright   & cosmetic & 2        & 1        & 5        & 5        & 4        & 4        & 1       \\\\\n",
       "\t 34       & Female   & 20       & harmony  & bright   & etc      & 2        & 2        & 2        & 4        & 2        & 2        & 5       \\\\\n",
       "\t 37       & Female   & 20       & harmony  & harmony  & clothes  & 3        & 4        & 1        & 5        & 1        & 4        & 1       \\\\\n",
       "\t 38       & Female   & 20       & harmony  & harmony  & cosmetic & 3        & 2        & 5        & 4        & 2        & 4        & 2       \\\\\n",
       "\t 44       & Female   & 40       & bright   & bright   & clothes  & 2        & 1        & 4        & 5        & 4        & 4        & 1       \\\\\n",
       "\t 47       & Female   & 20       & harmony  & harmony  & clothes  & 3        & 5        & 5        & 4        & 5        & 4        & 1       \\\\\n",
       "\t ... & ... & ... & ... & ... & ... & ... & ... & ... & ... & ... & ... & ...\\\\\n",
       "\t 170      & Female   & 20       & harmony  & harmony  & etc      & 1        & 3        & 4        & 1        & 2        & 1        & 5       \\\\\n",
       "\t 171      & Female   & 20       & harmony  & harmony  & clothes  & 4        & 2        & 1        & 1        & 2        & 4        & 3       \\\\\n",
       "\t 172      & Female   & 10       & harmony  & harmony  & etc      & 4        & 5        & 5        & 5        & 2        & 5        & 5       \\\\\n",
       "\t 173      & Female   & 20       & harmony  & harmony  & etc      & 3        & 3        & 5        & 3        & 5        & 4        & 2       \\\\\n",
       "\t 174      & Female   & 20       & harmony  & harmony  & etc      & 4        & 1        & 2        & 3        & 1        & 1        & 5       \\\\\n",
       "\t 178      & Female   & 20       & harmony  & harmony  & clothes  & 5        & 5        & 4        & 5        & 4        & 1        & 3       \\\\\n",
       "\t 180      & Female   & 30       & harmony  & harmony  & etc      & 1        & 2        & 3        & 3        & 5        & 4        & 1       \\\\\n",
       "\t 181      & Female   & 10       & harmony  & harmony  & clothes  & 2        & 4        & 1        & 1        & 3        & 4        & 2       \\\\\n",
       "\t 183      & Female   & 30       & harmony  & bright   & etc      & 4        & 3        & 3        & 4        & 5        & 3        & 1       \\\\\n",
       "\t 186      & Female   & 20       & harmony  & bright   & etc      & 3        & 1        & 4        & 2        & 4        & 5        & 3       \\\\\n",
       "\t 188      & Female   & 20       & harmony  & bright   & etc      & 5        & 5        & 4        & 5        & 5        & 4        & 3       \\\\\n",
       "\t 190      & Female   & 30       & bright   & bright   & clothes  & 3        & 3        & 5        & 4        & 2        & 5        & 5       \\\\\n",
       "\t 191      & Female   & 20       & harmony  & harmony  & etc      & 4        & 3        & 3        & 3        & 3        & 3        & 4       \\\\\n",
       "\t 192      & Female   & 30       & harmony  & harmony  & clothes  & 1        & 3        & 1        & 3        & 2        & 2        & 1       \\\\\n",
       "\t 194      & Female   & 20       & harmony  & bright   & etc      & 3        & 1        & 4        & 5        & 1        & 3        & 1       \\\\\n",
       "\t 195      & Female   & 20       & harmony  & harmony  & clothes  & 3        & 2        & 4        & 4        & 2        & 4        & 4       \\\\\n",
       "\t 196      & Female   & 20       & harmony  & harmony  & cosmetic & 4        & 1        & 4        & 5        & 4        & 5        & 4       \\\\\n",
       "\t 198      & Female   & 20       & harmony  & harmony  & etc      & 4        & 1        & 3        & 4        & 2        & 4        & 4       \\\\\n",
       "\t 199      & Female   & 20       & harmony  & harmony  & etc      & 4        & 1        & 4        & 5        & 2        & 1        & 5       \\\\\n",
       "\t 200      & Female   & 50       & harmony  & harmony  & etc      & 4        & 3        & 3        & 5        & 1        & 4        & 5       \\\\\n",
       "\t 201      & Female   & 50       & harmony  & harmony  & etc      & 5        & 2        & 1        & 5        & 5        & 4        & 3       \\\\\n",
       "\t 202      & Female   & 20       & harmony  & harmony  & clothes  & 2        & 2        & 3        & 4        & 2        & 5        & 2       \\\\\n",
       "\t 203      & Female   & 50       & bright   & bright   & cosmetic & 3        & 1        & 1        & 1        & 1        & 1        & 1       \\\\\n",
       "\t 204      & Female   & 50       & harmony  & harmony  & cosmetic & 5        & 4        & 2        & 1        & 5        & 3        & 3       \\\\\n",
       "\t 205      & Female   & 50       & bright   & bright   & clothes  & 3        & 4        & 5        & 2        & 2        & 2        & 5       \\\\\n",
       "\t 206      & Female   & 30       & harmony  & harmony  & cosmetic & 4        & 4        & 2        & 2        & 4        & 1        & 3       \\\\\n",
       "\t 207      & Female   & 50       & harmony  & harmony  & clothes  & 4        & 5        & 3        & 5        & 5        & 4        & 1       \\\\\n",
       "\t 209      & Female   & 20       & bright   & harmony  & etc      & 4        & 3        & 4        & 4        & 2        & 4        & 4       \\\\\n",
       "\t 210      & Female   & 20       & bright   & harmony  & etc      & 4        & 4        & 5        & 4        & 1        & 2        & 5       \\\\\n",
       "\t 212      & Female   & 20       & harmony  & bright   & clothes  & 3        & 2        & 5        & 5        & 4        & 2        & 1       \\\\\n",
       "\\end{tabular}\n"
      ],
      "text/markdown": [
       "\n",
       "| X | sex | age_class | definition | need | purpose | interest | comp | triangle1 | triangle2 | doubleness1 | doubleness2 | doubleness3 |\n",
       "|---|---|---|---|---|---|---|---|---|---|---|---|---|\n",
       "|  1       | Female   | 20       | bright   | harmony  | clothes  | 5        | 1        | 1        | 2        | 2        | 3        | 2        |\n",
       "|  2       | Female   | 20       | bright   | bright   | clothes  | 3        | 2        | 4        | 1        | 2        | 1        | 2        |\n",
       "|  3       | Female   | 20       | bright   | bright   | clothes  | 3        | 3        | 4        | 3        | 2        | 2        | 1        |\n",
       "|  5       | Female   | 20       | bright   | bright   | clothes  | 5        | 5        | 5        | 4        | 2        | 2        | 1        |\n",
       "|  7       | Female   | 20       | bright   | bright   | cosmetic | 3        | 2        | 4        | 3        | 4        | 3        | 1        |\n",
       "|  8       | Female   | 30       | harmony  | harmony  | clothes  | 4        | 3        | 2        | 2        | 5        | 4        | 5        |\n",
       "|  9       | Female   | 30       | harmony  | bright   | clothes  | 3        | 3        | 5        | 3        | 2        | 3        | 5        |\n",
       "| 10       | Female   | 20       | bright   | bright   | cosmetic | 3        | 2        | 5        | 3        | 1        | 5        | 3        |\n",
       "| 11       | Female   | 30       | harmony  | bright   | etc      | 5        | 2        | 5        | 1        | 5        | 2        | 1        |\n",
       "| 12       | Female   | 20       | harmony  | harmony  | clothes  | 1        | 5        | 4        | 2        | 1        | 4        | 2        |\n",
       "| 13       | Female   | 30       | harmony  | bright   | cosmetic | 4        | 3        | 5        | 3        | 5        | 3        | 1        |\n",
       "| 14       | Female   | 20       | bright   | bright   | etc      | 4        | 4        | 3        | 4        | 3        | 4        | 2        |\n",
       "| 15       | Female   | 20       | harmony  | bright   | cosmetic | 3        | 4        | 4        | 4        | 5        | 2        | 1        |\n",
       "| 17       | Female   | 20       | harmony  | harmony  | clothes  | 3        | 2        | 3        | 4        | 5        | 2        | 5        |\n",
       "| 18       | Female   | 20       | bright   | bright   | cosmetic | 5        | 1        | 3        | 4        | 2        | 2        | 5        |\n",
       "| 19       | Female   | 30       | harmony  | harmony  | cosmetic | 1        | 2        | 3        | 4        | 5        | 2        | 5        |\n",
       "| 22       | Female   | 30       | harmony  | bright   | clothes  | 4        | 2        | 5        | 4        | 2        | 1        | 3        |\n",
       "| 25       | Female   | 30       | harmony  | harmony  | clothes  | 3        | 1        | 5        | 3        | 4        | 2        | 3        |\n",
       "| 26       | Female   | 20       | harmony  | bright   | clothes  | 3        | 3        | 3        | 4        | 2        | 4        | 1        |\n",
       "| 27       | Female   | 20       | bright   | harmony  | clothes  | 3        | 2        | 3        | 3        | 2        | 2        | 1        |\n",
       "| 28       | Female   | 20       | bright   | bright   | clothes  | 4        | 1        | 3        | 4        | 4        | 1        | 1        |\n",
       "| 29       | Female   | 30       | bright   | bright   | cosmetic | 3        | 2        | 5        | 4        | 2        | 3        | 5        |\n",
       "| 31       | Female   | 20       | harmony  | harmony  | cosmetic | 3        | 5        | 1        | 3        | 1        | 3        | 5        |\n",
       "| 32       | Female   | 20       | harmony  | harmony  | etc      | 2        | 2        | 3        | 4        | 5        | 3        | 5        |\n",
       "| 33       | Female   | 20       | bright   | bright   | cosmetic | 2        | 1        | 5        | 5        | 4        | 4        | 1        |\n",
       "| 34       | Female   | 20       | harmony  | bright   | etc      | 2        | 2        | 2        | 4        | 2        | 2        | 5        |\n",
       "| 37       | Female   | 20       | harmony  | harmony  | clothes  | 3        | 4        | 1        | 5        | 1        | 4        | 1        |\n",
       "| 38       | Female   | 20       | harmony  | harmony  | cosmetic | 3        | 2        | 5        | 4        | 2        | 4        | 2        |\n",
       "| 44       | Female   | 40       | bright   | bright   | clothes  | 2        | 1        | 4        | 5        | 4        | 4        | 1        |\n",
       "| 47       | Female   | 20       | harmony  | harmony  | clothes  | 3        | 5        | 5        | 4        | 5        | 4        | 1        |\n",
       "| ... | ... | ... | ... | ... | ... | ... | ... | ... | ... | ... | ... | ... |\n",
       "| 170      | Female   | 20       | harmony  | harmony  | etc      | 1        | 3        | 4        | 1        | 2        | 1        | 5        |\n",
       "| 171      | Female   | 20       | harmony  | harmony  | clothes  | 4        | 2        | 1        | 1        | 2        | 4        | 3        |\n",
       "| 172      | Female   | 10       | harmony  | harmony  | etc      | 4        | 5        | 5        | 5        | 2        | 5        | 5        |\n",
       "| 173      | Female   | 20       | harmony  | harmony  | etc      | 3        | 3        | 5        | 3        | 5        | 4        | 2        |\n",
       "| 174      | Female   | 20       | harmony  | harmony  | etc      | 4        | 1        | 2        | 3        | 1        | 1        | 5        |\n",
       "| 178      | Female   | 20       | harmony  | harmony  | clothes  | 5        | 5        | 4        | 5        | 4        | 1        | 3        |\n",
       "| 180      | Female   | 30       | harmony  | harmony  | etc      | 1        | 2        | 3        | 3        | 5        | 4        | 1        |\n",
       "| 181      | Female   | 10       | harmony  | harmony  | clothes  | 2        | 4        | 1        | 1        | 3        | 4        | 2        |\n",
       "| 183      | Female   | 30       | harmony  | bright   | etc      | 4        | 3        | 3        | 4        | 5        | 3        | 1        |\n",
       "| 186      | Female   | 20       | harmony  | bright   | etc      | 3        | 1        | 4        | 2        | 4        | 5        | 3        |\n",
       "| 188      | Female   | 20       | harmony  | bright   | etc      | 5        | 5        | 4        | 5        | 5        | 4        | 3        |\n",
       "| 190      | Female   | 30       | bright   | bright   | clothes  | 3        | 3        | 5        | 4        | 2        | 5        | 5        |\n",
       "| 191      | Female   | 20       | harmony  | harmony  | etc      | 4        | 3        | 3        | 3        | 3        | 3        | 4        |\n",
       "| 192      | Female   | 30       | harmony  | harmony  | clothes  | 1        | 3        | 1        | 3        | 2        | 2        | 1        |\n",
       "| 194      | Female   | 20       | harmony  | bright   | etc      | 3        | 1        | 4        | 5        | 1        | 3        | 1        |\n",
       "| 195      | Female   | 20       | harmony  | harmony  | clothes  | 3        | 2        | 4        | 4        | 2        | 4        | 4        |\n",
       "| 196      | Female   | 20       | harmony  | harmony  | cosmetic | 4        | 1        | 4        | 5        | 4        | 5        | 4        |\n",
       "| 198      | Female   | 20       | harmony  | harmony  | etc      | 4        | 1        | 3        | 4        | 2        | 4        | 4        |\n",
       "| 199      | Female   | 20       | harmony  | harmony  | etc      | 4        | 1        | 4        | 5        | 2        | 1        | 5        |\n",
       "| 200      | Female   | 50       | harmony  | harmony  | etc      | 4        | 3        | 3        | 5        | 1        | 4        | 5        |\n",
       "| 201      | Female   | 50       | harmony  | harmony  | etc      | 5        | 2        | 1        | 5        | 5        | 4        | 3        |\n",
       "| 202      | Female   | 20       | harmony  | harmony  | clothes  | 2        | 2        | 3        | 4        | 2        | 5        | 2        |\n",
       "| 203      | Female   | 50       | bright   | bright   | cosmetic | 3        | 1        | 1        | 1        | 1        | 1        | 1        |\n",
       "| 204      | Female   | 50       | harmony  | harmony  | cosmetic | 5        | 4        | 2        | 1        | 5        | 3        | 3        |\n",
       "| 205      | Female   | 50       | bright   | bright   | clothes  | 3        | 4        | 5        | 2        | 2        | 2        | 5        |\n",
       "| 206      | Female   | 30       | harmony  | harmony  | cosmetic | 4        | 4        | 2        | 2        | 4        | 1        | 3        |\n",
       "| 207      | Female   | 50       | harmony  | harmony  | clothes  | 4        | 5        | 3        | 5        | 5        | 4        | 1        |\n",
       "| 209      | Female   | 20       | bright   | harmony  | etc      | 4        | 3        | 4        | 4        | 2        | 4        | 4        |\n",
       "| 210      | Female   | 20       | bright   | harmony  | etc      | 4        | 4        | 5        | 4        | 1        | 2        | 5        |\n",
       "| 212      | Female   | 20       | harmony  | bright   | clothes  | 3        | 2        | 5        | 5        | 4        | 2        | 1        |\n",
       "\n"
      ],
      "text/plain": [
       "    X   sex    age_class definition need    purpose  interest comp triangle1\n",
       "1    1  Female 20        bright     harmony clothes  5        1    1        \n",
       "2    2  Female 20        bright     bright  clothes  3        2    4        \n",
       "3    3  Female 20        bright     bright  clothes  3        3    4        \n",
       "4    5  Female 20        bright     bright  clothes  5        5    5        \n",
       "5    7  Female 20        bright     bright  cosmetic 3        2    4        \n",
       "6    8  Female 30        harmony    harmony clothes  4        3    2        \n",
       "7    9  Female 30        harmony    bright  clothes  3        3    5        \n",
       "8   10  Female 20        bright     bright  cosmetic 3        2    5        \n",
       "9   11  Female 30        harmony    bright  etc      5        2    5        \n",
       "10  12  Female 20        harmony    harmony clothes  1        5    4        \n",
       "11  13  Female 30        harmony    bright  cosmetic 4        3    5        \n",
       "12  14  Female 20        bright     bright  etc      4        4    3        \n",
       "13  15  Female 20        harmony    bright  cosmetic 3        4    4        \n",
       "14  17  Female 20        harmony    harmony clothes  3        2    3        \n",
       "15  18  Female 20        bright     bright  cosmetic 5        1    3        \n",
       "16  19  Female 30        harmony    harmony cosmetic 1        2    3        \n",
       "17  22  Female 30        harmony    bright  clothes  4        2    5        \n",
       "18  25  Female 30        harmony    harmony clothes  3        1    5        \n",
       "19  26  Female 20        harmony    bright  clothes  3        3    3        \n",
       "20  27  Female 20        bright     harmony clothes  3        2    3        \n",
       "21  28  Female 20        bright     bright  clothes  4        1    3        \n",
       "22  29  Female 30        bright     bright  cosmetic 3        2    5        \n",
       "23  31  Female 20        harmony    harmony cosmetic 3        5    1        \n",
       "24  32  Female 20        harmony    harmony etc      2        2    3        \n",
       "25  33  Female 20        bright     bright  cosmetic 2        1    5        \n",
       "26  34  Female 20        harmony    bright  etc      2        2    2        \n",
       "27  37  Female 20        harmony    harmony clothes  3        4    1        \n",
       "28  38  Female 20        harmony    harmony cosmetic 3        2    5        \n",
       "29  44  Female 40        bright     bright  clothes  2        1    4        \n",
       "30  47  Female 20        harmony    harmony clothes  3        5    5        \n",
       "... ... ...    ...       ...        ...     ...      ...      ...  ...      \n",
       "122 170 Female 20        harmony    harmony etc      1        3    4        \n",
       "123 171 Female 20        harmony    harmony clothes  4        2    1        \n",
       "124 172 Female 10        harmony    harmony etc      4        5    5        \n",
       "125 173 Female 20        harmony    harmony etc      3        3    5        \n",
       "126 174 Female 20        harmony    harmony etc      4        1    2        \n",
       "127 178 Female 20        harmony    harmony clothes  5        5    4        \n",
       "128 180 Female 30        harmony    harmony etc      1        2    3        \n",
       "129 181 Female 10        harmony    harmony clothes  2        4    1        \n",
       "130 183 Female 30        harmony    bright  etc      4        3    3        \n",
       "131 186 Female 20        harmony    bright  etc      3        1    4        \n",
       "132 188 Female 20        harmony    bright  etc      5        5    4        \n",
       "133 190 Female 30        bright     bright  clothes  3        3    5        \n",
       "134 191 Female 20        harmony    harmony etc      4        3    3        \n",
       "135 192 Female 30        harmony    harmony clothes  1        3    1        \n",
       "136 194 Female 20        harmony    bright  etc      3        1    4        \n",
       "137 195 Female 20        harmony    harmony clothes  3        2    4        \n",
       "138 196 Female 20        harmony    harmony cosmetic 4        1    4        \n",
       "139 198 Female 20        harmony    harmony etc      4        1    3        \n",
       "140 199 Female 20        harmony    harmony etc      4        1    4        \n",
       "141 200 Female 50        harmony    harmony etc      4        3    3        \n",
       "142 201 Female 50        harmony    harmony etc      5        2    1        \n",
       "143 202 Female 20        harmony    harmony clothes  2        2    3        \n",
       "144 203 Female 50        bright     bright  cosmetic 3        1    1        \n",
       "145 204 Female 50        harmony    harmony cosmetic 5        4    2        \n",
       "146 205 Female 50        bright     bright  clothes  3        4    5        \n",
       "147 206 Female 30        harmony    harmony cosmetic 4        4    2        \n",
       "148 207 Female 50        harmony    harmony clothes  4        5    3        \n",
       "149 209 Female 20        bright     harmony etc      4        3    4        \n",
       "150 210 Female 20        bright     harmony etc      4        4    5        \n",
       "151 212 Female 20        harmony    bright  clothes  3        2    5        \n",
       "    triangle2 doubleness1 doubleness2 doubleness3\n",
       "1   2         2           3           2          \n",
       "2   1         2           1           2          \n",
       "3   3         2           2           1          \n",
       "4   4         2           2           1          \n",
       "5   3         4           3           1          \n",
       "6   2         5           4           5          \n",
       "7   3         2           3           5          \n",
       "8   3         1           5           3          \n",
       "9   1         5           2           1          \n",
       "10  2         1           4           2          \n",
       "11  3         5           3           1          \n",
       "12  4         3           4           2          \n",
       "13  4         5           2           1          \n",
       "14  4         5           2           5          \n",
       "15  4         2           2           5          \n",
       "16  4         5           2           5          \n",
       "17  4         2           1           3          \n",
       "18  3         4           2           3          \n",
       "19  4         2           4           1          \n",
       "20  3         2           2           1          \n",
       "21  4         4           1           1          \n",
       "22  4         2           3           5          \n",
       "23  3         1           3           5          \n",
       "24  4         5           3           5          \n",
       "25  5         4           4           1          \n",
       "26  4         2           2           5          \n",
       "27  5         1           4           1          \n",
       "28  4         2           4           2          \n",
       "29  5         4           4           1          \n",
       "30  4         5           4           1          \n",
       "... ...       ...         ...         ...        \n",
       "122 1         2           1           5          \n",
       "123 1         2           4           3          \n",
       "124 5         2           5           5          \n",
       "125 3         5           4           2          \n",
       "126 3         1           1           5          \n",
       "127 5         4           1           3          \n",
       "128 3         5           4           1          \n",
       "129 1         3           4           2          \n",
       "130 4         5           3           1          \n",
       "131 2         4           5           3          \n",
       "132 5         5           4           3          \n",
       "133 4         2           5           5          \n",
       "134 3         3           3           4          \n",
       "135 3         2           2           1          \n",
       "136 5         1           3           1          \n",
       "137 4         2           4           4          \n",
       "138 5         4           5           4          \n",
       "139 4         2           4           4          \n",
       "140 5         2           1           5          \n",
       "141 5         1           4           5          \n",
       "142 5         5           4           3          \n",
       "143 4         2           5           2          \n",
       "144 1         1           1           1          \n",
       "145 1         5           3           3          \n",
       "146 2         2           2           5          \n",
       "147 2         4           1           3          \n",
       "148 5         5           4           1          \n",
       "149 4         2           4           4          \n",
       "150 4         1           2           5          \n",
       "151 5         4           2           1          "
      ]
     },
     "metadata": {},
     "output_type": "display_data"
    }
   ],
   "source": [
    "survey"
   ]
  },
  {
   "cell_type": "code",
   "execution_count": 7,
   "metadata": {},
   "outputs": [],
   "source": [
    "survey$comp1 <- case_when(\n",
    "    survey$comp == 1 ~ 1,\n",
    "    survey$comp != 1 ~ 0)\n",
    "\n",
    "survey$comp2 <- case_when(\n",
    "    survey$comp == 2 ~ 1,\n",
    "    survey$comp != 2 ~ 0)\n",
    "\n",
    "survey$comp3 <- case_when(\n",
    "    survey$comp == 3 ~ 1,\n",
    "    survey$comp != 3 ~ 0)\n",
    "\n",
    "survey$comp4 <- case_when(\n",
    "    survey$comp == 4 ~ 1,\n",
    "    survey$comp != 4 ~ 0)\n",
    "\n",
    "survey$comp5 <- case_when(\n",
    "    survey$comp == 5 ~ 1,\n",
    "    survey$comp != 5 ~ 0)\n",
    "\n",
    "survey$t1_1 <- case_when(\n",
    "    survey$triangle1 == 1 ~ 1,\n",
    "    survey$triangle1 != 1 ~ 0)\n",
    "\n",
    "survey$t1_2 <- case_when(\n",
    "    survey$triangle1 == 2 ~ 1,\n",
    "    survey$triangle1 != 2 ~ 0)\n",
    "\n",
    "survey$t1_3 <- case_when(\n",
    "    survey$triangle1 == 3 ~ 1,\n",
    "    survey$triangle1 != 3 ~ 0)\n",
    "\n",
    "survey$t1_4 <- case_when(\n",
    "    survey$triangle1 == 4 ~ 1,\n",
    "    survey$triangle1 != 4 ~ 0)\n",
    "\n",
    "survey$t1_5 <- case_when(\n",
    "    survey$triangle1 == 5 ~ 1,\n",
    "    survey$triangle1 != 5 ~ 0)\n",
    "\t\n",
    "survey$t2_1 <- case_when(\n",
    "    survey$triangle2 == 1 ~ 1,\n",
    "    survey$triangle2 != 1 ~ 0)\n",
    "\n",
    "survey$t2_2 <- case_when(\n",
    "    survey$triangle2 == 2 ~ 1,\n",
    "    survey$triangle2 != 2 ~ 0)\n",
    "\n",
    "survey$t2_3 <- case_when(\n",
    "    survey$triangle2 == 3 ~ 1,\n",
    "    survey$triangle2 != 3 ~ 0)\n",
    "\n",
    "survey$t2_4 <- case_when(\n",
    "    survey$triangle2 == 4 ~ 1,\n",
    "    survey$triangle2 != 4 ~ 0)\n",
    "\n",
    "survey$t2_5 <- case_when(\n",
    "    survey$triangle2 == 5 ~ 1,\n",
    "    survey$triangle2 != 5 ~ 0)\n",
    "\t\n",
    "survey$d1_1 <- case_when(\n",
    "    survey$doubleness1 == 1 ~ 1,\n",
    "    survey$doubleness1 != 1 ~ 0)\n",
    "\n",
    "survey$d1_2 <- case_when(\n",
    "    survey$doubleness1 == 2 ~ 1,\n",
    "    survey$doubleness1 != 2 ~ 0)\n",
    "\n",
    "survey$d1_3 <- case_when(\n",
    "    survey$doubleness1 == 3 ~ 1,\n",
    "    survey$doubleness1 != 3 ~ 0)\n",
    "\n",
    "survey$d1_4 <- case_when(\n",
    "    survey$doubleness1 == 4 ~ 1,\n",
    "    survey$doubleness1 != 4 ~ 0)\n",
    "\n",
    "survey$d1_5 <- case_when(\n",
    "    survey$doubleness1 == 5 ~ 1,\n",
    "    survey$doubleness1 != 5 ~ 0)\n",
    "\t\n",
    "survey$d2_1 <- case_when(\n",
    "    survey$doubleness2 == 1 ~ 1,\n",
    "    survey$doubleness2 != 1 ~ 0)\n",
    "\n",
    "survey$d2_2 <- case_when(\n",
    "    survey$doubleness2 == 2 ~ 1,\n",
    "    survey$doubleness2 != 2 ~ 0)\n",
    "\n",
    "survey$d2_3 <- case_when(\n",
    "    survey$doubleness2 == 3 ~ 1,\n",
    "    survey$doubleness2 != 3 ~ 0)\n",
    "\n",
    "survey$d2_4 <- case_when(\n",
    "    survey$doubleness2 == 4 ~ 1,\n",
    "    survey$doubleness2 != 4 ~ 0)\n",
    "\n",
    "survey$d2_5 <- case_when(\n",
    "    survey$doubleness2 == 5 ~ 1,\n",
    "    survey$doubleness2 != 5 ~ 0)\n",
    "\t\n",
    "survey$d3_1 <- case_when(\n",
    "    survey$doubleness3 == 1 ~ 1,\n",
    "    survey$doubleness3 != 1 ~ 0)\n",
    "\n",
    "survey$d3_2 <- case_when(\n",
    "    survey$doubleness3 == 2 ~ 1,\n",
    "    survey$doubleness3 != 2 ~ 0)\n",
    "\n",
    "survey$d3_3 <- case_when(\n",
    "    survey$doubleness3 == 3 ~ 1,\n",
    "    survey$doubleness3 != 3 ~ 0)\n",
    "\n",
    "survey$d3_4 <- case_when(\n",
    "    survey$doubleness3 == 4 ~ 1,\n",
    "    survey$doubleness3 != 4 ~ 0)\n",
    "\n",
    "survey$d3_5 <- case_when(\n",
    "    survey$doubleness3 == 5 ~ 1,\n",
    "    survey$doubleness3 != 5 ~ 0)"
   ]
  },
  {
   "cell_type": "code",
   "execution_count": 8,
   "metadata": {},
   "outputs": [
    {
     "data": {
      "text/html": [
       "<table>\n",
       "<thead><tr><th scope=col>X</th><th scope=col>sex</th><th scope=col>age_class</th><th scope=col>definition</th><th scope=col>need</th><th scope=col>purpose</th><th scope=col>interest</th><th scope=col>comp</th><th scope=col>triangle1</th><th scope=col>triangle2</th><th scope=col>...</th><th scope=col>d2_1</th><th scope=col>d2_2</th><th scope=col>d2_3</th><th scope=col>d2_4</th><th scope=col>d2_5</th><th scope=col>d3_1</th><th scope=col>d3_2</th><th scope=col>d3_3</th><th scope=col>d3_4</th><th scope=col>d3_5</th></tr></thead>\n",
       "<tbody>\n",
       "\t<tr><td>1       </td><td>Female  </td><td>20      </td><td>bright  </td><td>harmony </td><td>clothes </td><td>5       </td><td>1       </td><td>1       </td><td>2       </td><td>...     </td><td>0       </td><td>0       </td><td>1       </td><td>0       </td><td>0       </td><td>0       </td><td>1       </td><td>0       </td><td>0       </td><td>0       </td></tr>\n",
       "\t<tr><td>2       </td><td>Female  </td><td>20      </td><td>bright  </td><td>bright  </td><td>clothes </td><td>3       </td><td>2       </td><td>4       </td><td>1       </td><td>...     </td><td>1       </td><td>0       </td><td>0       </td><td>0       </td><td>0       </td><td>0       </td><td>1       </td><td>0       </td><td>0       </td><td>0       </td></tr>\n",
       "\t<tr><td>3       </td><td>Female  </td><td>20      </td><td>bright  </td><td>bright  </td><td>clothes </td><td>3       </td><td>3       </td><td>4       </td><td>3       </td><td>...     </td><td>0       </td><td>1       </td><td>0       </td><td>0       </td><td>0       </td><td>1       </td><td>0       </td><td>0       </td><td>0       </td><td>0       </td></tr>\n",
       "\t<tr><td>5       </td><td>Female  </td><td>20      </td><td>bright  </td><td>bright  </td><td>clothes </td><td>5       </td><td>5       </td><td>5       </td><td>4       </td><td>...     </td><td>0       </td><td>1       </td><td>0       </td><td>0       </td><td>0       </td><td>1       </td><td>0       </td><td>0       </td><td>0       </td><td>0       </td></tr>\n",
       "\t<tr><td>7       </td><td>Female  </td><td>20      </td><td>bright  </td><td>bright  </td><td>cosmetic</td><td>3       </td><td>2       </td><td>4       </td><td>3       </td><td>...     </td><td>0       </td><td>0       </td><td>1       </td><td>0       </td><td>0       </td><td>1       </td><td>0       </td><td>0       </td><td>0       </td><td>0       </td></tr>\n",
       "\t<tr><td>8       </td><td>Female  </td><td>30      </td><td>harmony </td><td>harmony </td><td>clothes </td><td>4       </td><td>3       </td><td>2       </td><td>2       </td><td>...     </td><td>0       </td><td>0       </td><td>0       </td><td>1       </td><td>0       </td><td>0       </td><td>0       </td><td>0       </td><td>0       </td><td>1       </td></tr>\n",
       "</tbody>\n",
       "</table>\n"
      ],
      "text/latex": [
       "\\begin{tabular}{r|lllllllllllllllllllllllllllllllllllllllllll}\n",
       " X & sex & age\\_class & definition & need & purpose & interest & comp & triangle1 & triangle2 & ... & d2\\_1 & d2\\_2 & d2\\_3 & d2\\_4 & d2\\_5 & d3\\_1 & d3\\_2 & d3\\_3 & d3\\_4 & d3\\_5\\\\\n",
       "\\hline\n",
       "\t 1        & Female   & 20       & bright   & harmony  & clothes  & 5        & 1        & 1        & 2        & ...      & 0        & 0        & 1        & 0        & 0        & 0        & 1        & 0        & 0        & 0       \\\\\n",
       "\t 2        & Female   & 20       & bright   & bright   & clothes  & 3        & 2        & 4        & 1        & ...      & 1        & 0        & 0        & 0        & 0        & 0        & 1        & 0        & 0        & 0       \\\\\n",
       "\t 3        & Female   & 20       & bright   & bright   & clothes  & 3        & 3        & 4        & 3        & ...      & 0        & 1        & 0        & 0        & 0        & 1        & 0        & 0        & 0        & 0       \\\\\n",
       "\t 5        & Female   & 20       & bright   & bright   & clothes  & 5        & 5        & 5        & 4        & ...      & 0        & 1        & 0        & 0        & 0        & 1        & 0        & 0        & 0        & 0       \\\\\n",
       "\t 7        & Female   & 20       & bright   & bright   & cosmetic & 3        & 2        & 4        & 3        & ...      & 0        & 0        & 1        & 0        & 0        & 1        & 0        & 0        & 0        & 0       \\\\\n",
       "\t 8        & Female   & 30       & harmony  & harmony  & clothes  & 4        & 3        & 2        & 2        & ...      & 0        & 0        & 0        & 1        & 0        & 0        & 0        & 0        & 0        & 1       \\\\\n",
       "\\end{tabular}\n"
      ],
      "text/markdown": [
       "\n",
       "| X | sex | age_class | definition | need | purpose | interest | comp | triangle1 | triangle2 | ... | d2_1 | d2_2 | d2_3 | d2_4 | d2_5 | d3_1 | d3_2 | d3_3 | d3_4 | d3_5 |\n",
       "|---|---|---|---|---|---|---|---|---|---|---|---|---|---|---|---|---|---|---|---|---|\n",
       "| 1        | Female   | 20       | bright   | harmony  | clothes  | 5        | 1        | 1        | 2        | ...      | 0        | 0        | 1        | 0        | 0        | 0        | 1        | 0        | 0        | 0        |\n",
       "| 2        | Female   | 20       | bright   | bright   | clothes  | 3        | 2        | 4        | 1        | ...      | 1        | 0        | 0        | 0        | 0        | 0        | 1        | 0        | 0        | 0        |\n",
       "| 3        | Female   | 20       | bright   | bright   | clothes  | 3        | 3        | 4        | 3        | ...      | 0        | 1        | 0        | 0        | 0        | 1        | 0        | 0        | 0        | 0        |\n",
       "| 5        | Female   | 20       | bright   | bright   | clothes  | 5        | 5        | 5        | 4        | ...      | 0        | 1        | 0        | 0        | 0        | 1        | 0        | 0        | 0        | 0        |\n",
       "| 7        | Female   | 20       | bright   | bright   | cosmetic | 3        | 2        | 4        | 3        | ...      | 0        | 0        | 1        | 0        | 0        | 1        | 0        | 0        | 0        | 0        |\n",
       "| 8        | Female   | 30       | harmony  | harmony  | clothes  | 4        | 3        | 2        | 2        | ...      | 0        | 0        | 0        | 1        | 0        | 0        | 0        | 0        | 0        | 1        |\n",
       "\n"
      ],
      "text/plain": [
       "  X sex    age_class definition need    purpose  interest comp triangle1\n",
       "1 1 Female 20        bright     harmony clothes  5        1    1        \n",
       "2 2 Female 20        bright     bright  clothes  3        2    4        \n",
       "3 3 Female 20        bright     bright  clothes  3        3    4        \n",
       "4 5 Female 20        bright     bright  clothes  5        5    5        \n",
       "5 7 Female 20        bright     bright  cosmetic 3        2    4        \n",
       "6 8 Female 30        harmony    harmony clothes  4        3    2        \n",
       "  triangle2 ... d2_1 d2_2 d2_3 d2_4 d2_5 d3_1 d3_2 d3_3 d3_4 d3_5\n",
       "1 2         ... 0    0    1    0    0    0    1    0    0    0   \n",
       "2 1         ... 1    0    0    0    0    0    1    0    0    0   \n",
       "3 3         ... 0    1    0    0    0    1    0    0    0    0   \n",
       "4 4         ... 0    1    0    0    0    1    0    0    0    0   \n",
       "5 3         ... 0    0    1    0    0    1    0    0    0    0   \n",
       "6 2         ... 0    0    0    1    0    0    0    0    0    1   "
      ]
     },
     "metadata": {},
     "output_type": "display_data"
    }
   ],
   "source": [
    "head(survey)"
   ]
  },
  {
   "cell_type": "code",
   "execution_count": 9,
   "metadata": {},
   "outputs": [],
   "source": [
    "train <- survey[1:106, ]\n",
    "test <- survey[107:151, ]"
   ]
  },
  {
   "cell_type": "code",
   "execution_count": 10,
   "metadata": {},
   "outputs": [
    {
     "data": {
      "text/plain": [
       "\n",
       "Call:\n",
       "glm(formula = comp1 ~ definition + need + purpose + interest, \n",
       "    family = binomial, data = train)\n",
       "\n",
       "Deviance Residuals: \n",
       "    Min       1Q   Median       3Q      Max  \n",
       "-1.2770  -0.8679  -0.6700   1.2250   2.0256  \n",
       "\n",
       "Coefficients:\n",
       "                  Estimate Std. Error z value Pr(>|z|)   \n",
       "(Intercept)       -2.87698    1.03689  -2.775  0.00553 **\n",
       "definitionharmony -0.26572    0.55991  -0.475  0.63510   \n",
       "needharmony        0.82932    0.53073   1.563  0.11815   \n",
       "purposecosmetic   -0.08425    0.58770  -0.143  0.88601   \n",
       "purposeetc        -0.07382    0.51936  -0.142  0.88697   \n",
       "interest           0.52368    0.24133   2.170  0.03001 * \n",
       "---\n",
       "Signif. codes:  0 '***' 0.001 '**' 0.01 '*' 0.05 '.' 0.1 ' ' 1\n",
       "\n",
       "(Dispersion parameter for binomial family taken to be 1)\n",
       "\n",
       "    Null deviance: 131.47  on 105  degrees of freedom\n",
       "Residual deviance: 123.85  on 100  degrees of freedom\n",
       "AIC: 135.85\n",
       "\n",
       "Number of Fisher Scoring iterations: 4\n"
      ]
     },
     "metadata": {},
     "output_type": "display_data"
    }
   ],
   "source": [
    "model <- glm(comp1 ~ definition + need + purpose \n",
    "              + interest, data =train, family = binomial)\n",
    "summary(model)"
   ]
  },
  {
   "cell_type": "code",
   "execution_count": 11,
   "metadata": {},
   "outputs": [
    {
     "data": {
      "text/html": [
       "<table>\n",
       "<thead><tr><th></th><th scope=col>Df</th><th scope=col>Deviance</th><th scope=col>Resid. Df</th><th scope=col>Resid. Dev</th><th scope=col>Pr(&gt;Chi)</th></tr></thead>\n",
       "<tbody>\n",
       "\t<tr><th scope=row>NULL</th><td>NA         </td><td>         NA</td><td>105        </td><td>131.4725   </td><td>        NA </td></tr>\n",
       "\t<tr><th scope=row>definition</th><td> 1         </td><td>0.008465271</td><td>104        </td><td>131.4640   </td><td>0.92669255 </td></tr>\n",
       "\t<tr><th scope=row>need</th><td> 1         </td><td>2.368852267</td><td>103        </td><td>129.0952   </td><td>0.12377802 </td></tr>\n",
       "\t<tr><th scope=row>purpose</th><td> 2         </td><td>0.147277982</td><td>101        </td><td>128.9479   </td><td>0.92900701 </td></tr>\n",
       "\t<tr><th scope=row>interest</th><td> 1         </td><td>5.095986177</td><td>100        </td><td>123.8519   </td><td>0.02398127 </td></tr>\n",
       "</tbody>\n",
       "</table>\n"
      ],
      "text/latex": [
       "\\begin{tabular}{r|lllll}\n",
       "  & Df & Deviance & Resid. Df & Resid. Dev & Pr(>Chi)\\\\\n",
       "\\hline\n",
       "\tNULL & NA          &          NA & 105         & 131.4725    &         NA \\\\\n",
       "\tdefinition &  1          & 0.008465271 & 104         & 131.4640    & 0.92669255 \\\\\n",
       "\tneed &  1          & 2.368852267 & 103         & 129.0952    & 0.12377802 \\\\\n",
       "\tpurpose &  2          & 0.147277982 & 101         & 128.9479    & 0.92900701 \\\\\n",
       "\tinterest &  1          & 5.095986177 & 100         & 123.8519    & 0.02398127 \\\\\n",
       "\\end{tabular}\n"
      ],
      "text/markdown": [
       "\n",
       "| <!--/--> | Df | Deviance | Resid. Df | Resid. Dev | Pr(>Chi) |\n",
       "|---|---|---|---|---|---|\n",
       "| NULL | NA          |          NA | 105         | 131.4725    |         NA  |\n",
       "| definition |  1          | 0.008465271 | 104         | 131.4640    | 0.92669255  |\n",
       "| need |  1          | 2.368852267 | 103         | 129.0952    | 0.12377802  |\n",
       "| purpose |  2          | 0.147277982 | 101         | 128.9479    | 0.92900701  |\n",
       "| interest |  1          | 5.095986177 | 100         | 123.8519    | 0.02398127  |\n",
       "\n"
      ],
      "text/plain": [
       "           Df Deviance    Resid. Df Resid. Dev Pr(>Chi)  \n",
       "NULL       NA          NA 105       131.4725           NA\n",
       "definition  1 0.008465271 104       131.4640   0.92669255\n",
       "need        1 2.368852267 103       129.0952   0.12377802\n",
       "purpose     2 0.147277982 101       128.9479   0.92900701\n",
       "interest    1 5.095986177 100       123.8519   0.02398127"
      ]
     },
     "metadata": {},
     "output_type": "display_data"
    }
   ],
   "source": [
    "anova(model, test=\"Chisq\")"
   ]
  },
  {
   "cell_type": "code",
   "execution_count": 12,
   "metadata": {
    "scrolled": false
   },
   "outputs": [
    {
     "data": {
      "image/png": "[encoded data removed]",
      "text/plain": [
       "plot without title"
      ]
     },
     "metadata": {},
     "output_type": "display_data"
    }
   ],
   "source": [
    "p <- predict(model, newdata=test, type=\"response\")\n",
    "pr <- prediction(p, test$comp1)\n",
    "prf <- performance(pr, measure = \"tpr\", x.measure = \"fpr\")\n",
    "plot(prf)"
   ]
  },
  {
   "cell_type": "code",
   "execution_count": 13,
   "metadata": {},
   "outputs": [
    {
     "data": {
      "text/html": [
       "0.408950617283951"
      ],
      "text/latex": [
       "0.408950617283951"
      ],
      "text/markdown": [
       "0.408950617283951"
      ],
      "text/plain": [
       "[1] 0.4089506"
      ]
     },
     "metadata": {},
     "output_type": "display_data"
    }
   ],
   "source": [
    "auc <- performance(pr, measure = \"auc\")\n",
    "auc <- auc@y.values[[1]]\n",
    "auc"
   ]
  },
  {
   "cell_type": "code",
   "execution_count": 14,
   "metadata": {},
   "outputs": [
    {
     "data": {
      "text/plain": [
       "\n",
       "Call:\n",
       "glm(formula = comp2 ~ definition + need + purpose + interest, \n",
       "    family = binomial, data = train)\n",
       "\n",
       "Deviance Residuals: \n",
       "    Min       1Q   Median       3Q      Max  \n",
       "-1.0783  -0.7784  -0.6404  -0.5544   1.9743  \n",
       "\n",
       "Coefficients:\n",
       "                  Estimate Std. Error z value Pr(>|z|)\n",
       "(Intercept)       -0.49737    0.99716  -0.499    0.618\n",
       "definitionharmony -0.60267    0.57029  -1.057    0.291\n",
       "needharmony       -0.04039    0.55840  -0.072    0.942\n",
       "purposecosmetic    0.48605    0.59659   0.815    0.415\n",
       "purposeetc        -0.08876    0.57618  -0.154    0.878\n",
       "interest          -0.11320    0.24102  -0.470    0.639\n",
       "\n",
       "(Dispersion parameter for binomial family taken to be 1)\n",
       "\n",
       "    Null deviance: 115.80  on 105  degrees of freedom\n",
       "Residual deviance: 112.79  on 100  degrees of freedom\n",
       "AIC: 124.79\n",
       "\n",
       "Number of Fisher Scoring iterations: 4\n"
      ]
     },
     "metadata": {},
     "output_type": "display_data"
    },
    {
     "data": {
      "text/html": [
       "<table>\n",
       "<thead><tr><th></th><th scope=col>Df</th><th scope=col>Deviance</th><th scope=col>Resid. Df</th><th scope=col>Resid. Dev</th><th scope=col>Pr(&gt;Chi)</th></tr></thead>\n",
       "<tbody>\n",
       "\t<tr><th scope=row>NULL</th><td>NA        </td><td>        NA</td><td>105       </td><td>115.8045  </td><td>       NA </td></tr>\n",
       "\t<tr><th scope=row>definition</th><td> 1        </td><td>1.43231803</td><td>104       </td><td>114.3722  </td><td>0.2313865 </td></tr>\n",
       "\t<tr><th scope=row>need</th><td> 1        </td><td>0.03280285</td><td>103       </td><td>114.3394  </td><td>0.8562769 </td></tr>\n",
       "\t<tr><th scope=row>purpose</th><td> 2        </td><td>1.32725123</td><td>101       </td><td>113.0122  </td><td>0.5149808 </td></tr>\n",
       "\t<tr><th scope=row>interest</th><td> 1        </td><td>0.22063824</td><td>100       </td><td>112.7915  </td><td>0.6385540 </td></tr>\n",
       "</tbody>\n",
       "</table>\n"
      ],
      "text/latex": [
       "\\begin{tabular}{r|lllll}\n",
       "  & Df & Deviance & Resid. Df & Resid. Dev & Pr(>Chi)\\\\\n",
       "\\hline\n",
       "\tNULL & NA         &         NA & 105        & 115.8045   &        NA \\\\\n",
       "\tdefinition &  1         & 1.43231803 & 104        & 114.3722   & 0.2313865 \\\\\n",
       "\tneed &  1         & 0.03280285 & 103        & 114.3394   & 0.8562769 \\\\\n",
       "\tpurpose &  2         & 1.32725123 & 101        & 113.0122   & 0.5149808 \\\\\n",
       "\tinterest &  1         & 0.22063824 & 100        & 112.7915   & 0.6385540 \\\\\n",
       "\\end{tabular}\n"
      ],
      "text/markdown": [
       "\n",
       "| <!--/--> | Df | Deviance | Resid. Df | Resid. Dev | Pr(>Chi) |\n",
       "|---|---|---|---|---|---|\n",
       "| NULL | NA         |         NA | 105        | 115.8045   |        NA  |\n",
       "| definition |  1         | 1.43231803 | 104        | 114.3722   | 0.2313865  |\n",
       "| need |  1         | 0.03280285 | 103        | 114.3394   | 0.8562769  |\n",
       "| purpose |  2         | 1.32725123 | 101        | 113.0122   | 0.5149808  |\n",
       "| interest |  1         | 0.22063824 | 100        | 112.7915   | 0.6385540  |\n",
       "\n"
      ],
      "text/plain": [
       "           Df Deviance   Resid. Df Resid. Dev Pr(>Chi) \n",
       "NULL       NA         NA 105       115.8045          NA\n",
       "definition  1 1.43231803 104       114.3722   0.2313865\n",
       "need        1 0.03280285 103       114.3394   0.8562769\n",
       "purpose     2 1.32725123 101       113.0122   0.5149808\n",
       "interest    1 0.22063824 100       112.7915   0.6385540"
      ]
     },
     "metadata": {},
     "output_type": "display_data"
    },
    {
     "data": {
      "text/html": [
       "0.478395061728395"
      ],
      "text/latex": [
       "0.478395061728395"
      ],
      "text/markdown": [
       "0.478395061728395"
      ],
      "text/plain": [
       "[1] 0.4783951"
      ]
     },
     "metadata": {},
     "output_type": "display_data"
    },
    {
     "data": {
      "image/png": "[encoded data removed]",
      "text/plain": [
       "plot without title"
      ]
     },
     "metadata": {},
     "output_type": "display_data"
    }
   ],
   "source": [
    "model <- glm(comp2 ~ definition + need + purpose \n",
    "              + interest, data =train, family = binomial)\n",
    "summary(model)\n",
    "\n",
    "\n",
    "anova(model, test=\"Chisq\")\n",
    "\n",
    "\n",
    "p <- predict(model, newdata=test, type=\"response\")\n",
    "pr <- prediction(p, test$comp2)\n",
    "prf <- performance(pr, measure = \"tpr\", x.measure = \"fpr\")\n",
    "plot(prf)\n",
    "\n",
    "auc <- performance(pr, measure = \"auc\")\n",
    "auc <- auc@y.values[[1]]\n",
    "auc"
   ]
  },
  {
   "cell_type": "code",
   "execution_count": 15,
   "metadata": {},
   "outputs": [
    {
     "data": {
      "text/plain": [
       "\n",
       "Call:\n",
       "glm(formula = comp3 ~ definition + need + purpose + interest, \n",
       "    family = binomial, data = train)\n",
       "\n",
       "Deviance Residuals: \n",
       "    Min       1Q   Median       3Q      Max  \n",
       "-0.9207  -0.6332  -0.5291  -0.4597   2.1447  \n",
       "\n",
       "Coefficients:\n",
       "                  Estimate Std. Error z value Pr(>|z|)\n",
       "(Intercept)       -0.91832    1.16032  -0.791    0.429\n",
       "definitionharmony  0.49690    0.71932   0.691    0.490\n",
       "needharmony        0.06583    0.63541   0.104    0.917\n",
       "purposecosmetic   -0.40651    0.71401  -0.569    0.569\n",
       "purposeetc        -0.14255    0.62327  -0.229    0.819\n",
       "interest          -0.28335    0.28054  -1.010    0.312\n",
       "\n",
       "(Dispersion parameter for binomial family taken to be 1)\n",
       "\n",
       "    Null deviance: 93.343  on 105  degrees of freedom\n",
       "Residual deviance: 90.937  on 100  degrees of freedom\n",
       "AIC: 102.94\n",
       "\n",
       "Number of Fisher Scoring iterations: 4\n"
      ]
     },
     "metadata": {},
     "output_type": "display_data"
    },
    {
     "data": {
      "text/html": [
       "<table>\n",
       "<thead><tr><th></th><th scope=col>Df</th><th scope=col>Deviance</th><th scope=col>Resid. Df</th><th scope=col>Resid. Dev</th><th scope=col>Pr(&gt;Chi)</th></tr></thead>\n",
       "<tbody>\n",
       "\t<tr><th scope=row>NULL</th><td>NA        </td><td>        NA</td><td>105       </td><td>93.34256  </td><td>       NA </td></tr>\n",
       "\t<tr><th scope=row>definition</th><td> 1        </td><td>1.03384348</td><td>104       </td><td>92.30872  </td><td>0.3092577 </td></tr>\n",
       "\t<tr><th scope=row>need</th><td> 1        </td><td>0.04504901</td><td>103       </td><td>92.26367  </td><td>0.8319139 </td></tr>\n",
       "\t<tr><th scope=row>purpose</th><td> 2        </td><td>0.29986958</td><td>101       </td><td>91.96380  </td><td>0.8607641 </td></tr>\n",
       "\t<tr><th scope=row>interest</th><td> 1        </td><td>1.02644142</td><td>100       </td><td>90.93736  </td><td>0.3109959 </td></tr>\n",
       "</tbody>\n",
       "</table>\n"
      ],
      "text/latex": [
       "\\begin{tabular}{r|lllll}\n",
       "  & Df & Deviance & Resid. Df & Resid. Dev & Pr(>Chi)\\\\\n",
       "\\hline\n",
       "\tNULL & NA         &         NA & 105        & 93.34256   &        NA \\\\\n",
       "\tdefinition &  1         & 1.03384348 & 104        & 92.30872   & 0.3092577 \\\\\n",
       "\tneed &  1         & 0.04504901 & 103        & 92.26367   & 0.8319139 \\\\\n",
       "\tpurpose &  2         & 0.29986958 & 101        & 91.96380   & 0.8607641 \\\\\n",
       "\tinterest &  1         & 1.02644142 & 100        & 90.93736   & 0.3109959 \\\\\n",
       "\\end{tabular}\n"
      ],
      "text/markdown": [
       "\n",
       "| <!--/--> | Df | Deviance | Resid. Df | Resid. Dev | Pr(>Chi) |\n",
       "|---|---|---|---|---|---|\n",
       "| NULL | NA         |         NA | 105        | 93.34256   |        NA  |\n",
       "| definition |  1         | 1.03384348 | 104        | 92.30872   | 0.3092577  |\n",
       "| need |  1         | 0.04504901 | 103        | 92.26367   | 0.8319139  |\n",
       "| purpose |  2         | 0.29986958 | 101        | 91.96380   | 0.8607641  |\n",
       "| interest |  1         | 1.02644142 | 100        | 90.93736   | 0.3109959  |\n",
       "\n"
      ],
      "text/plain": [
       "           Df Deviance   Resid. Df Resid. Dev Pr(>Chi) \n",
       "NULL       NA         NA 105       93.34256          NA\n",
       "definition  1 1.03384348 104       92.30872   0.3092577\n",
       "need        1 0.04504901 103       92.26367   0.8319139\n",
       "purpose     2 0.29986958 101       91.96380   0.8607641\n",
       "interest    1 1.02644142 100       90.93736   0.3109959"
      ]
     },
     "metadata": {},
     "output_type": "display_data"
    },
    {
     "data": {
      "text/html": [
       "0.455808080808081"
      ],
      "text/latex": [
       "0.455808080808081"
      ],
      "text/markdown": [
       "0.455808080808081"
      ],
      "text/plain": [
       "[1] 0.4558081"
      ]
     },
     "metadata": {},
     "output_type": "display_data"
    },
    {
     "data": {
      "image/png": "[encoded data removed]",
      "text/plain": [
       "plot without title"
      ]
     },
     "metadata": {},
     "output_type": "display_data"
    }
   ],
   "source": [
    "model <- glm(comp3 ~ definition + need + purpose \n",
    "              + interest, data =train, family = binomial)\n",
    "summary(model)\n",
    "\n",
    "\n",
    "anova(model, test=\"Chisq\")\n",
    "\n",
    "\n",
    "p <- predict(model, newdata=test, type=\"response\")\n",
    "pr <- prediction(p, test$comp3)\n",
    "prf <- performance(pr, measure = \"tpr\", x.measure = \"fpr\")\n",
    "plot(prf)\n",
    "\n",
    "auc <- performance(pr, measure = \"auc\")\n",
    "auc <- auc@y.values[[1]]\n",
    "auc"
   ]
  },
  {
   "cell_type": "code",
   "execution_count": 16,
   "metadata": {},
   "outputs": [
    {
     "data": {
      "text/plain": [
       "\n",
       "Call:\n",
       "glm(formula = comp4 ~ definition + need + purpose + interest, \n",
       "    family = binomial, data = train)\n",
       "\n",
       "Deviance Residuals: \n",
       "    Min       1Q   Median       3Q      Max  \n",
       "-1.3891  -0.5140  -0.3714  -0.2412   2.5882  \n",
       "\n",
       "Coefficients:\n",
       "                  Estimate Std. Error z value Pr(>|z|)   \n",
       "(Intercept)        -1.6836     1.4017  -1.201  0.22970   \n",
       "definitionharmony   1.5293     0.7496   2.040  0.04134 * \n",
       "needharmony        -2.4427     0.8101  -3.015  0.00257 **\n",
       "purposecosmetic    -0.1228     0.9137  -0.134  0.89306   \n",
       "purposeetc          1.1173     0.8009   1.395  0.16302   \n",
       "interest           -0.2389     0.3327  -0.718  0.47273   \n",
       "---\n",
       "Signif. codes:  0 '***' 0.001 '**' 0.01 '*' 0.05 '.' 0.1 ' ' 1\n",
       "\n",
       "(Dispersion parameter for binomial family taken to be 1)\n",
       "\n",
       "    Null deviance: 82.746  on 105  degrees of freedom\n",
       "Residual deviance: 69.928  on 100  degrees of freedom\n",
       "AIC: 81.928\n",
       "\n",
       "Number of Fisher Scoring iterations: 5\n"
      ]
     },
     "metadata": {},
     "output_type": "display_data"
    },
    {
     "data": {
      "text/html": [
       "<table>\n",
       "<thead><tr><th></th><th scope=col>Df</th><th scope=col>Deviance</th><th scope=col>Resid. Df</th><th scope=col>Resid. Dev</th><th scope=col>Pr(&gt;Chi)</th></tr></thead>\n",
       "<tbody>\n",
       "\t<tr><th scope=row>NULL</th><td>NA         </td><td>       NA  </td><td>105        </td><td>82.74638   </td><td>         NA</td></tr>\n",
       "\t<tr><th scope=row>definition</th><td> 1         </td><td>0.2141891  </td><td>104        </td><td>82.53220   </td><td>0.643503670</td></tr>\n",
       "\t<tr><th scope=row>need</th><td> 1         </td><td>9.2010143  </td><td>103        </td><td>73.33118   </td><td>0.002418811</td></tr>\n",
       "\t<tr><th scope=row>purpose</th><td> 2         </td><td>2.8851989  </td><td>101        </td><td>70.44598   </td><td>0.236312673</td></tr>\n",
       "\t<tr><th scope=row>interest</th><td> 1         </td><td>0.5178480  </td><td>100        </td><td>69.92813   </td><td>0.471761101</td></tr>\n",
       "</tbody>\n",
       "</table>\n"
      ],
      "text/latex": [
       "\\begin{tabular}{r|lllll}\n",
       "  & Df & Deviance & Resid. Df & Resid. Dev & Pr(>Chi)\\\\\n",
       "\\hline\n",
       "\tNULL & NA          &        NA   & 105         & 82.74638    &          NA\\\\\n",
       "\tdefinition &  1          & 0.2141891   & 104         & 82.53220    & 0.643503670\\\\\n",
       "\tneed &  1          & 9.2010143   & 103         & 73.33118    & 0.002418811\\\\\n",
       "\tpurpose &  2          & 2.8851989   & 101         & 70.44598    & 0.236312673\\\\\n",
       "\tinterest &  1          & 0.5178480   & 100         & 69.92813    & 0.471761101\\\\\n",
       "\\end{tabular}\n"
      ],
      "text/markdown": [
       "\n",
       "| <!--/--> | Df | Deviance | Resid. Df | Resid. Dev | Pr(>Chi) |\n",
       "|---|---|---|---|---|---|\n",
       "| NULL | NA          |        NA   | 105         | 82.74638    |          NA |\n",
       "| definition |  1          | 0.2141891   | 104         | 82.53220    | 0.643503670 |\n",
       "| need |  1          | 9.2010143   | 103         | 73.33118    | 0.002418811 |\n",
       "| purpose |  2          | 2.8851989   | 101         | 70.44598    | 0.236312673 |\n",
       "| interest |  1          | 0.5178480   | 100         | 69.92813    | 0.471761101 |\n",
       "\n"
      ],
      "text/plain": [
       "           Df Deviance  Resid. Df Resid. Dev Pr(>Chi)   \n",
       "NULL       NA        NA 105       82.74638            NA\n",
       "definition  1 0.2141891 104       82.53220   0.643503670\n",
       "need        1 9.2010143 103       73.33118   0.002418811\n",
       "purpose     2 2.8851989 101       70.44598   0.236312673\n",
       "interest    1 0.5178480 100       69.92813   0.471761101"
      ]
     },
     "metadata": {},
     "output_type": "display_data"
    },
    {
     "data": {
      "text/html": [
       "0.256410256410256"
      ],
      "text/latex": [
       "0.256410256410256"
      ],
      "text/markdown": [
       "0.256410256410256"
      ],
      "text/plain": [
       "[1] 0.2564103"
      ]
     },
     "metadata": {},
     "output_type": "display_data"
    },
    {
     "data": {
      "image/png": "[encoded data removed]",
      "text/plain": [
       "plot without title"
      ]
     },
     "metadata": {},
     "output_type": "display_data"
    }
   ],
   "source": [
    "model <- glm(comp4 ~ definition + need + purpose \n",
    "              + interest, data =train, family = binomial)\n",
    "summary(model)\n",
    "\n",
    "\n",
    "anova(model, test=\"Chisq\")\n",
    "\n",
    "\n",
    "p <- predict(model, newdata=test, type=\"response\")\n",
    "pr <- prediction(p, test$comp4)\n",
    "prf <- performance(pr, measure = \"tpr\", x.measure = \"fpr\")\n",
    "plot(prf)\n",
    "\n",
    "auc <- performance(pr, measure = \"auc\")\n",
    "auc <- auc@y.values[[1]]\n",
    "auc"
   ]
  },
  {
   "cell_type": "code",
   "execution_count": 17,
   "metadata": {},
   "outputs": [
    {
     "data": {
      "text/plain": [
       "\n",
       "Call:\n",
       "glm(formula = comp5 ~ definition + need + purpose + interest, \n",
       "    family = binomial, data = train)\n",
       "\n",
       "Deviance Residuals: \n",
       "    Min       1Q   Median       3Q      Max  \n",
       "-0.8527  -0.6523  -0.5321  -0.4608   2.1400  \n",
       "\n",
       "Coefficients:\n",
       "                  Estimate Std. Error z value Pr(>|z|)\n",
       "(Intercept)       -0.80277    1.12986  -0.711    0.477\n",
       "definitionharmony -0.48410    0.68929  -0.702    0.482\n",
       "needharmony        0.60689    0.66233   0.916    0.360\n",
       "purposecosmetic   -0.05763    0.67947  -0.085    0.932\n",
       "purposeetc        -0.34014    0.63945  -0.532    0.595\n",
       "interest          -0.20961    0.27652  -0.758    0.448\n",
       "\n",
       "(Dispersion parameter for binomial family taken to be 1)\n",
       "\n",
       "    Null deviance: 93.343  on 105  degrees of freedom\n",
       "Residual deviance: 91.386  on 100  degrees of freedom\n",
       "AIC: 103.39\n",
       "\n",
       "Number of Fisher Scoring iterations: 4\n"
      ]
     },
     "metadata": {},
     "output_type": "display_data"
    },
    {
     "data": {
      "text/html": [
       "<table>\n",
       "<thead><tr><th></th><th scope=col>Df</th><th scope=col>Deviance</th><th scope=col>Resid. Df</th><th scope=col>Resid. Dev</th><th scope=col>Pr(&gt;Chi)</th></tr></thead>\n",
       "<tbody>\n",
       "\t<tr><th scope=row>NULL</th><td>NA       </td><td>       NA</td><td>105      </td><td>93.34256 </td><td>       NA</td></tr>\n",
       "\t<tr><th scope=row>definition</th><td> 1       </td><td>0.0159339</td><td>104      </td><td>93.32663 </td><td>0.8995502</td></tr>\n",
       "\t<tr><th scope=row>need</th><td> 1       </td><td>0.8661791</td><td>103      </td><td>92.46045 </td><td>0.3520153</td></tr>\n",
       "\t<tr><th scope=row>purpose</th><td> 2       </td><td>0.4997244</td><td>101      </td><td>91.96072 </td><td>0.7789081</td></tr>\n",
       "\t<tr><th scope=row>interest</th><td> 1       </td><td>0.5748178</td><td>100      </td><td>91.38591 </td><td>0.4483508</td></tr>\n",
       "</tbody>\n",
       "</table>\n"
      ],
      "text/latex": [
       "\\begin{tabular}{r|lllll}\n",
       "  & Df & Deviance & Resid. Df & Resid. Dev & Pr(>Chi)\\\\\n",
       "\\hline\n",
       "\tNULL & NA        &        NA & 105       & 93.34256  &        NA\\\\\n",
       "\tdefinition &  1        & 0.0159339 & 104       & 93.32663  & 0.8995502\\\\\n",
       "\tneed &  1        & 0.8661791 & 103       & 92.46045  & 0.3520153\\\\\n",
       "\tpurpose &  2        & 0.4997244 & 101       & 91.96072  & 0.7789081\\\\\n",
       "\tinterest &  1        & 0.5748178 & 100       & 91.38591  & 0.4483508\\\\\n",
       "\\end{tabular}\n"
      ],
      "text/markdown": [
       "\n",
       "| <!--/--> | Df | Deviance | Resid. Df | Resid. Dev | Pr(>Chi) |\n",
       "|---|---|---|---|---|---|\n",
       "| NULL | NA        |        NA | 105       | 93.34256  |        NA |\n",
       "| definition |  1        | 0.0159339 | 104       | 93.32663  | 0.8995502 |\n",
       "| need |  1        | 0.8661791 | 103       | 92.46045  | 0.3520153 |\n",
       "| purpose |  2        | 0.4997244 | 101       | 91.96072  | 0.7789081 |\n",
       "| interest |  1        | 0.5748178 | 100       | 91.38591  | 0.4483508 |\n",
       "\n"
      ],
      "text/plain": [
       "           Df Deviance  Resid. Df Resid. Dev Pr(>Chi) \n",
       "NULL       NA        NA 105       93.34256          NA\n",
       "definition  1 0.0159339 104       93.32663   0.8995502\n",
       "need        1 0.8661791 103       92.46045   0.3520153\n",
       "purpose     2 0.4997244 101       91.96072   0.7789081\n",
       "interest    1 0.5748178 100       91.38591   0.4483508"
      ]
     },
     "metadata": {},
     "output_type": "display_data"
    },
    {
     "data": {
      "text/html": [
       "0.391975308641975"
      ],
      "text/latex": [
       "0.391975308641975"
      ],
      "text/markdown": [
       "0.391975308641975"
      ],
      "text/plain": [
       "[1] 0.3919753"
      ]
     },
     "metadata": {},
     "output_type": "display_data"
    },
    {
     "data": {
      "image/png": "[encoded data removed]",
      "text/plain": [
       "plot without title"
      ]
     },
     "metadata": {},
     "output_type": "display_data"
    }
   ],
   "source": [
    "model <- glm(comp5 ~ definition + need + purpose \n",
    "              + interest, data =train, family = binomial)\n",
    "summary(model)\n",
    "\n",
    "\n",
    "anova(model, test=\"Chisq\")\n",
    "\n",
    "\n",
    "p <- predict(model, newdata=test, type=\"response\")\n",
    "pr <- prediction(p, test$comp5)\n",
    "prf <- performance(pr, measure = \"tpr\", x.measure = \"fpr\")\n",
    "plot(prf)\n",
    "\n",
    "auc <- performance(pr, measure = \"auc\")\n",
    "auc <- auc@y.values[[1]]\n",
    "auc"
   ]
  },
  {
   "cell_type": "code",
   "execution_count": 18,
   "metadata": {},
   "outputs": [
    {
     "data": {
      "text/plain": [
       "\n",
       "Call:\n",
       "glm(formula = t1_1 ~ definition + need + purpose + interest, \n",
       "    family = binomial, data = train)\n",
       "\n",
       "Deviance Residuals: \n",
       "    Min       1Q   Median       3Q      Max  \n",
       "-1.0801  -0.5241  -0.3795  -0.2444   2.6806  \n",
       "\n",
       "Coefficients:\n",
       "                  Estimate Std. Error z value Pr(>|z|)   \n",
       "(Intercept)        -5.3773     1.6952  -3.172  0.00151 **\n",
       "definitionharmony   0.5309     0.9399   0.565  0.57217   \n",
       "needharmony         1.1183     0.8127   1.376  0.16880   \n",
       "purposecosmetic     1.2520     0.9070   1.380  0.16746   \n",
       "purposeetc          0.4666     0.8962   0.521  0.60262   \n",
       "interest            0.4486     0.3477   1.290  0.19699   \n",
       "---\n",
       "Signif. codes:  0 '***' 0.001 '**' 0.01 '*' 0.05 '.' 0.1 ' ' 1\n",
       "\n",
       "(Dispersion parameter for binomial family taken to be 1)\n",
       "\n",
       "    Null deviance: 74.872  on 105  degrees of freedom\n",
       "Residual deviance: 67.384  on 100  degrees of freedom\n",
       "AIC: 79.384\n",
       "\n",
       "Number of Fisher Scoring iterations: 5\n"
      ]
     },
     "metadata": {},
     "output_type": "display_data"
    },
    {
     "data": {
      "text/html": [
       "<table>\n",
       "<thead><tr><th></th><th scope=col>Df</th><th scope=col>Deviance</th><th scope=col>Resid. Df</th><th scope=col>Resid. Dev</th><th scope=col>Pr(&gt;Chi)</th></tr></thead>\n",
       "<tbody>\n",
       "\t<tr><th scope=row>NULL</th><td>NA       </td><td>      NA </td><td>105      </td><td>74.87191 </td><td>       NA</td></tr>\n",
       "\t<tr><th scope=row>definition</th><td> 1       </td><td>2.007366 </td><td>104      </td><td>72.86454 </td><td>0.1565369</td></tr>\n",
       "\t<tr><th scope=row>need</th><td> 1       </td><td>1.569452 </td><td>103      </td><td>71.29509 </td><td>0.2102867</td></tr>\n",
       "\t<tr><th scope=row>purpose</th><td> 2       </td><td>2.143740 </td><td>101      </td><td>69.15135 </td><td>0.3423677</td></tr>\n",
       "\t<tr><th scope=row>interest</th><td> 1       </td><td>1.767674 </td><td>100      </td><td>67.38368 </td><td>0.1836702</td></tr>\n",
       "</tbody>\n",
       "</table>\n"
      ],
      "text/latex": [
       "\\begin{tabular}{r|lllll}\n",
       "  & Df & Deviance & Resid. Df & Resid. Dev & Pr(>Chi)\\\\\n",
       "\\hline\n",
       "\tNULL & NA        &       NA  & 105       & 74.87191  &        NA\\\\\n",
       "\tdefinition &  1        & 2.007366  & 104       & 72.86454  & 0.1565369\\\\\n",
       "\tneed &  1        & 1.569452  & 103       & 71.29509  & 0.2102867\\\\\n",
       "\tpurpose &  2        & 2.143740  & 101       & 69.15135  & 0.3423677\\\\\n",
       "\tinterest &  1        & 1.767674  & 100       & 67.38368  & 0.1836702\\\\\n",
       "\\end{tabular}\n"
      ],
      "text/markdown": [
       "\n",
       "| <!--/--> | Df | Deviance | Resid. Df | Resid. Dev | Pr(>Chi) |\n",
       "|---|---|---|---|---|---|\n",
       "| NULL | NA        |       NA  | 105       | 74.87191  |        NA |\n",
       "| definition |  1        | 2.007366  | 104       | 72.86454  | 0.1565369 |\n",
       "| need |  1        | 1.569452  | 103       | 71.29509  | 0.2102867 |\n",
       "| purpose |  2        | 2.143740  | 101       | 69.15135  | 0.3423677 |\n",
       "| interest |  1        | 1.767674  | 100       | 67.38368  | 0.1836702 |\n",
       "\n"
      ],
      "text/plain": [
       "           Df Deviance Resid. Df Resid. Dev Pr(>Chi) \n",
       "NULL       NA       NA 105       74.87191          NA\n",
       "definition  1 2.007366 104       72.86454   0.1565369\n",
       "need        1 1.569452 103       71.29509   0.2102867\n",
       "purpose     2 2.143740 101       69.15135   0.3423677\n",
       "interest    1 1.767674 100       67.38368   0.1836702"
      ]
     },
     "metadata": {},
     "output_type": "display_data"
    },
    {
     "data": {
      "text/html": [
       "0.396959459459459"
      ],
      "text/latex": [
       "0.396959459459459"
      ],
      "text/markdown": [
       "0.396959459459459"
      ],
      "text/plain": [
       "[1] 0.3969595"
      ]
     },
     "metadata": {},
     "output_type": "display_data"
    },
    {
     "data": {
      "image/png": "[encoded data removed]",
      "text/plain": [
       "plot without title"
      ]
     },
     "metadata": {},
     "output_type": "display_data"
    }
   ],
   "source": [
    "model <- glm(t1_1 ~ definition + need + purpose \n",
    "              + interest, data =train, family = binomial)\n",
    "summary(model)\n",
    "\n",
    "\n",
    "anova(model, test=\"Chisq\")\n",
    "\n",
    "\n",
    "p <- predict(model, newdata=test, type=\"response\")\n",
    "pr <- prediction(p, test$t1_1)\n",
    "prf <- performance(pr, measure = \"tpr\", x.measure = \"fpr\")\n",
    "plot(prf)\n",
    "\n",
    "auc <- performance(pr, measure = \"auc\")\n",
    "auc <- auc@y.values[[1]]\n",
    "auc"
   ]
  },
  {
   "cell_type": "code",
   "execution_count": 19,
   "metadata": {},
   "outputs": [
    {
     "data": {
      "text/plain": [
       "\n",
       "Call:\n",
       "glm(formula = t1_2 ~ definition + need + purpose + interest, \n",
       "    family = binomial, data = train)\n",
       "\n",
       "Deviance Residuals: \n",
       "    Min       1Q   Median       3Q      Max  \n",
       "-1.0739  -0.5028  -0.2946  -0.2268   2.8473  \n",
       "\n",
       "Coefficients:\n",
       "                   Estimate Std. Error z value Pr(>|z|)  \n",
       "(Intercept)        0.038214   1.418816   0.027   0.9785  \n",
       "definitionharmony -1.944473   0.959520  -2.027   0.0427 *\n",
       "needharmony        0.188584   0.940159   0.201   0.8410  \n",
       "purposecosmetic   -0.002973   1.097760  -0.003   0.9978  \n",
       "purposeetc         1.452117   0.879424   1.651   0.0987 .\n",
       "interest          -0.579583   0.351666  -1.648   0.0993 .\n",
       "---\n",
       "Signif. codes:  0 '***' 0.001 '**' 0.01 '*' 0.05 '.' 0.1 ' ' 1\n",
       "\n",
       "(Dispersion parameter for binomial family taken to be 1)\n",
       "\n",
       "    Null deviance: 74.872  on 105  degrees of freedom\n",
       "Residual deviance: 62.736  on 100  degrees of freedom\n",
       "AIC: 74.736\n",
       "\n",
       "Number of Fisher Scoring iterations: 6\n"
      ]
     },
     "metadata": {},
     "output_type": "display_data"
    },
    {
     "data": {
      "text/html": [
       "<table>\n",
       "<thead><tr><th></th><th scope=col>Df</th><th scope=col>Deviance</th><th scope=col>Resid. Df</th><th scope=col>Resid. Dev</th><th scope=col>Pr(&gt;Chi)</th></tr></thead>\n",
       "<tbody>\n",
       "\t<tr><th scope=row>NULL</th><td>NA         </td><td>         NA</td><td>105        </td><td>74.87191   </td><td>        NA </td></tr>\n",
       "\t<tr><th scope=row>definition</th><td> 1         </td><td>6.068509907</td><td>104        </td><td>68.80340   </td><td>0.01376130 </td></tr>\n",
       "\t<tr><th scope=row>need</th><td> 1         </td><td>0.005142574</td><td>103        </td><td>68.79826   </td><td>0.94283131 </td></tr>\n",
       "\t<tr><th scope=row>purpose</th><td> 2         </td><td>3.204179808</td><td>101        </td><td>65.59408   </td><td>0.20147501 </td></tr>\n",
       "\t<tr><th scope=row>interest</th><td> 1         </td><td>2.857692544</td><td>100        </td><td>62.73638   </td><td>0.09093786 </td></tr>\n",
       "</tbody>\n",
       "</table>\n"
      ],
      "text/latex": [
       "\\begin{tabular}{r|lllll}\n",
       "  & Df & Deviance & Resid. Df & Resid. Dev & Pr(>Chi)\\\\\n",
       "\\hline\n",
       "\tNULL & NA          &          NA & 105         & 74.87191    &         NA \\\\\n",
       "\tdefinition &  1          & 6.068509907 & 104         & 68.80340    & 0.01376130 \\\\\n",
       "\tneed &  1          & 0.005142574 & 103         & 68.79826    & 0.94283131 \\\\\n",
       "\tpurpose &  2          & 3.204179808 & 101         & 65.59408    & 0.20147501 \\\\\n",
       "\tinterest &  1          & 2.857692544 & 100         & 62.73638    & 0.09093786 \\\\\n",
       "\\end{tabular}\n"
      ],
      "text/markdown": [
       "\n",
       "| <!--/--> | Df | Deviance | Resid. Df | Resid. Dev | Pr(>Chi) |\n",
       "|---|---|---|---|---|---|\n",
       "| NULL | NA          |          NA | 105         | 74.87191    |         NA  |\n",
       "| definition |  1          | 6.068509907 | 104         | 68.80340    | 0.01376130  |\n",
       "| need |  1          | 0.005142574 | 103         | 68.79826    | 0.94283131  |\n",
       "| purpose |  2          | 3.204179808 | 101         | 65.59408    | 0.20147501  |\n",
       "| interest |  1          | 2.857692544 | 100         | 62.73638    | 0.09093786  |\n",
       "\n"
      ],
      "text/plain": [
       "           Df Deviance    Resid. Df Resid. Dev Pr(>Chi)  \n",
       "NULL       NA          NA 105       74.87191           NA\n",
       "definition  1 6.068509907 104       68.80340   0.01376130\n",
       "need        1 0.005142574 103       68.79826   0.94283131\n",
       "purpose     2 3.204179808 101       65.59408   0.20147501\n",
       "interest    1 2.857692544 100       62.73638   0.09093786"
      ]
     },
     "metadata": {},
     "output_type": "display_data"
    },
    {
     "data": {
      "text/html": [
       "0.362781954887218"
      ],
      "text/latex": [
       "0.362781954887218"
      ],
      "text/markdown": [
       "0.362781954887218"
      ],
      "text/plain": [
       "[1] 0.362782"
      ]
     },
     "metadata": {},
     "output_type": "display_data"
    },
    {
     "data": {
      "image/png": "[encoded data removed]",
      "text/plain": [
       "plot without title"
      ]
     },
     "metadata": {},
     "output_type": "display_data"
    }
   ],
   "source": [
    "model <- glm(t1_2 ~ definition + need + purpose \n",
    "              + interest, data =train, family = binomial)\n",
    "summary(model)\n",
    "\n",
    "\n",
    "anova(model, test=\"Chisq\")\n",
    "\n",
    "\n",
    "p <- predict(model, newdata=test, type=\"response\")\n",
    "pr <- prediction(p, test$t1_2)\n",
    "prf <- performance(pr, measure = \"tpr\", x.measure = \"fpr\")\n",
    "plot(prf)\n",
    "\n",
    "auc <- performance(pr, measure = \"auc\")\n",
    "auc <- auc@y.values[[1]]\n",
    "auc"
   ]
  },
  {
   "cell_type": "code",
   "execution_count": 20,
   "metadata": {},
   "outputs": [
    {
     "data": {
      "text/plain": [
       "\n",
       "Call:\n",
       "glm(formula = t1_3 ~ definition + need + purpose + interest, \n",
       "    family = binomial, data = train)\n",
       "\n",
       "Deviance Residuals: \n",
       "    Min       1Q   Median       3Q      Max  \n",
       "-0.9937  -0.7901  -0.6822  -0.5647   1.9412  \n",
       "\n",
       "Coefficients:\n",
       "                  Estimate Std. Error z value Pr(>|z|)\n",
       "(Intercept)       -0.31069    0.98918  -0.314    0.753\n",
       "definitionharmony  0.03611    0.58343   0.062    0.951\n",
       "needharmony        0.01006    0.54810   0.018    0.985\n",
       "purposecosmetic    0.10769    0.58929   0.183    0.855\n",
       "purposeetc        -0.21589    0.55919  -0.386    0.699\n",
       "interest          -0.24576    0.24061  -1.021    0.307\n",
       "\n",
       "(Dispersion parameter for binomial family taken to be 1)\n",
       "\n",
       "    Null deviance: 115.80  on 105  degrees of freedom\n",
       "Residual deviance: 114.09  on 100  degrees of freedom\n",
       "AIC: 126.09\n",
       "\n",
       "Number of Fisher Scoring iterations: 4\n"
      ]
     },
     "metadata": {},
     "output_type": "display_data"
    },
    {
     "data": {
      "text/html": [
       "<table>\n",
       "<thead><tr><th></th><th scope=col>Df</th><th scope=col>Deviance</th><th scope=col>Resid. Df</th><th scope=col>Resid. Dev</th><th scope=col>Pr(&gt;Chi)</th></tr></thead>\n",
       "<tbody>\n",
       "\t<tr><th scope=row>NULL</th><td>NA          </td><td>          NA</td><td>105         </td><td>115.8045    </td><td>       NA   </td></tr>\n",
       "\t<tr><th scope=row>definition</th><td> 1          </td><td>5.654997e-02</td><td>104         </td><td>115.7480    </td><td>0.8120344   </td></tr>\n",
       "\t<tr><th scope=row>need</th><td> 1          </td><td>3.581109e-05</td><td>103         </td><td>115.7479    </td><td>0.9952253   </td></tr>\n",
       "\t<tr><th scope=row>purpose</th><td> 2          </td><td>6.090499e-01</td><td>101         </td><td>115.1389    </td><td>0.7374736   </td></tr>\n",
       "\t<tr><th scope=row>interest</th><td> 1          </td><td>1.051603e+00</td><td>100         </td><td>114.0873    </td><td>0.3051381   </td></tr>\n",
       "</tbody>\n",
       "</table>\n"
      ],
      "text/latex": [
       "\\begin{tabular}{r|lllll}\n",
       "  & Df & Deviance & Resid. Df & Resid. Dev & Pr(>Chi)\\\\\n",
       "\\hline\n",
       "\tNULL & NA           &           NA & 105          & 115.8045     &        NA   \\\\\n",
       "\tdefinition &  1           & 5.654997e-02 & 104          & 115.7480     & 0.8120344   \\\\\n",
       "\tneed &  1           & 3.581109e-05 & 103          & 115.7479     & 0.9952253   \\\\\n",
       "\tpurpose &  2           & 6.090499e-01 & 101          & 115.1389     & 0.7374736   \\\\\n",
       "\tinterest &  1           & 1.051603e+00 & 100          & 114.0873     & 0.3051381   \\\\\n",
       "\\end{tabular}\n"
      ],
      "text/markdown": [
       "\n",
       "| <!--/--> | Df | Deviance | Resid. Df | Resid. Dev | Pr(>Chi) |\n",
       "|---|---|---|---|---|---|\n",
       "| NULL | NA           |           NA | 105          | 115.8045     |        NA    |\n",
       "| definition |  1           | 5.654997e-02 | 104          | 115.7480     | 0.8120344    |\n",
       "| need |  1           | 3.581109e-05 | 103          | 115.7479     | 0.9952253    |\n",
       "| purpose |  2           | 6.090499e-01 | 101          | 115.1389     | 0.7374736    |\n",
       "| interest |  1           | 1.051603e+00 | 100          | 114.0873     | 0.3051381    |\n",
       "\n"
      ],
      "text/plain": [
       "           Df Deviance     Resid. Df Resid. Dev Pr(>Chi) \n",
       "NULL       NA           NA 105       115.8045          NA\n",
       "definition  1 5.654997e-02 104       115.7480   0.8120344\n",
       "need        1 3.581109e-05 103       115.7479   0.9952253\n",
       "purpose     2 6.090499e-01 101       115.1389   0.7374736\n",
       "interest    1 1.051603e+00 100       114.0873   0.3051381"
      ]
     },
     "metadata": {},
     "output_type": "display_data"
    },
    {
     "data": {
      "text/html": [
       "0.462857142857143"
      ],
      "text/latex": [
       "0.462857142857143"
      ],
      "text/markdown": [
       "0.462857142857143"
      ],
      "text/plain": [
       "[1] 0.4628571"
      ]
     },
     "metadata": {},
     "output_type": "display_data"
    },
    {
     "data": {
      "image/png": "[encoded data removed]",
      "text/plain": [
       "plot without title"
      ]
     },
     "metadata": {},
     "output_type": "display_data"
    }
   ],
   "source": [
    "model <- glm(t1_3 ~ definition + need + purpose \n",
    "              + interest, data =train, family = binomial)\n",
    "summary(model)\n",
    "\n",
    "\n",
    "anova(model, test=\"Chisq\")\n",
    "\n",
    "\n",
    "p <- predict(model, newdata=test, type=\"response\")\n",
    "pr <- prediction(p, test$t1_3)\n",
    "prf <- performance(pr, measure = \"tpr\", x.measure = \"fpr\")\n",
    "plot(prf)\n",
    "\n",
    "auc <- performance(pr, measure = \"auc\")\n",
    "auc <- auc@y.values[[1]]\n",
    "auc"
   ]
  },
  {
   "cell_type": "code",
   "execution_count": 21,
   "metadata": {},
   "outputs": [
    {
     "data": {
      "text/plain": [
       "\n",
       "Call:\n",
       "glm(formula = t1_4 ~ definition + need + purpose + interest, \n",
       "    family = binomial, data = train)\n",
       "\n",
       "Deviance Residuals: \n",
       "    Min       1Q   Median       3Q      Max  \n",
       "-1.1069  -0.9025  -0.8054   1.4356   1.6953  \n",
       "\n",
       "Coefficients:\n",
       "                  Estimate Std. Error z value Pr(>|z|)\n",
       "(Intercept)       -1.46180    0.94815  -1.542    0.123\n",
       "definitionharmony -0.04104    0.53277  -0.077    0.939\n",
       "needharmony        0.26208    0.50236   0.522    0.602\n",
       "purposecosmetic   -0.28181    0.56323  -0.500    0.617\n",
       "purposeetc        -0.21667    0.50040  -0.433    0.665\n",
       "interest           0.20633    0.22462   0.919    0.358\n",
       "\n",
       "(Dispersion parameter for binomial family taken to be 1)\n",
       "\n",
       "    Null deviance: 131.47  on 105  degrees of freedom\n",
       "Residual deviance: 130.04  on 100  degrees of freedom\n",
       "AIC: 142.04\n",
       "\n",
       "Number of Fisher Scoring iterations: 4\n"
      ]
     },
     "metadata": {},
     "output_type": "display_data"
    },
    {
     "data": {
      "text/html": [
       "<table>\n",
       "<thead><tr><th></th><th scope=col>Df</th><th scope=col>Deviance</th><th scope=col>Resid. Df</th><th scope=col>Resid. Dev</th><th scope=col>Pr(&gt;Chi)</th></tr></thead>\n",
       "<tbody>\n",
       "\t<tr><th scope=row>NULL</th><td>NA         </td><td>         NA</td><td>105        </td><td>131.4725   </td><td>       NA  </td></tr>\n",
       "\t<tr><th scope=row>definition</th><td> 1         </td><td>0.008465271</td><td>104        </td><td>131.4640   </td><td>0.9266925  </td></tr>\n",
       "\t<tr><th scope=row>need</th><td> 1         </td><td>0.283316807</td><td>103        </td><td>131.1807   </td><td>0.5945355  </td></tr>\n",
       "\t<tr><th scope=row>purpose</th><td> 2         </td><td>0.281328441</td><td>101        </td><td>130.8994   </td><td>0.8687810  </td></tr>\n",
       "\t<tr><th scope=row>interest</th><td> 1         </td><td>0.858121787</td><td>100        </td><td>130.0413   </td><td>0.3542648  </td></tr>\n",
       "</tbody>\n",
       "</table>\n"
      ],
      "text/latex": [
       "\\begin{tabular}{r|lllll}\n",
       "  & Df & Deviance & Resid. Df & Resid. Dev & Pr(>Chi)\\\\\n",
       "\\hline\n",
       "\tNULL & NA          &          NA & 105         & 131.4725    &        NA  \\\\\n",
       "\tdefinition &  1          & 0.008465271 & 104         & 131.4640    & 0.9266925  \\\\\n",
       "\tneed &  1          & 0.283316807 & 103         & 131.1807    & 0.5945355  \\\\\n",
       "\tpurpose &  2          & 0.281328441 & 101         & 130.8994    & 0.8687810  \\\\\n",
       "\tinterest &  1          & 0.858121787 & 100         & 130.0413    & 0.3542648  \\\\\n",
       "\\end{tabular}\n"
      ],
      "text/markdown": [
       "\n",
       "| <!--/--> | Df | Deviance | Resid. Df | Resid. Dev | Pr(>Chi) |\n",
       "|---|---|---|---|---|---|\n",
       "| NULL | NA          |          NA | 105         | 131.4725    |        NA   |\n",
       "| definition |  1          | 0.008465271 | 104         | 131.4640    | 0.9266925   |\n",
       "| need |  1          | 0.283316807 | 103         | 131.1807    | 0.5945355   |\n",
       "| purpose |  2          | 0.281328441 | 101         | 130.8994    | 0.8687810   |\n",
       "| interest |  1          | 0.858121787 | 100         | 130.0413    | 0.3542648   |\n",
       "\n"
      ],
      "text/plain": [
       "           Df Deviance    Resid. Df Resid. Dev Pr(>Chi) \n",
       "NULL       NA          NA 105       131.4725          NA\n",
       "definition  1 0.008465271 104       131.4640   0.9266925\n",
       "need        1 0.283316807 103       131.1807   0.5945355\n",
       "purpose     2 0.281328441 101       130.8994   0.8687810\n",
       "interest    1 0.858121787 100       130.0413   0.3542648"
      ]
     },
     "metadata": {},
     "output_type": "display_data"
    },
    {
     "data": {
      "text/html": [
       "0.53125"
      ],
      "text/latex": [
       "0.53125"
      ],
      "text/markdown": [
       "0.53125"
      ],
      "text/plain": [
       "[1] 0.53125"
      ]
     },
     "metadata": {},
     "output_type": "display_data"
    },
    {
     "data": {
      "image/png": "[encoded data removed]",
      "text/plain": [
       "plot without title"
      ]
     },
     "metadata": {},
     "output_type": "display_data"
    }
   ],
   "source": [
    "model <- glm(t1_4 ~ definition + need + purpose \n",
    "              + interest, data =train, family = binomial)\n",
    "summary(model)\n",
    "\n",
    "\n",
    "anova(model, test=\"Chisq\")\n",
    "\n",
    "\n",
    "p <- predict(model, newdata=test, type=\"response\")\n",
    "pr <- prediction(p, test$t1_4)\n",
    "prf <- performance(pr, measure = \"tpr\", x.measure = \"fpr\")\n",
    "plot(prf)\n",
    "\n",
    "auc <- performance(pr, measure = \"auc\")\n",
    "auc <- auc@y.values[[1]]\n",
    "auc"
   ]
  },
  {
   "cell_type": "code",
   "execution_count": 22,
   "metadata": {},
   "outputs": [
    {
     "data": {
      "text/plain": [
       "\n",
       "Call:\n",
       "glm(formula = t1_5 ~ definition + need + purpose + interest, \n",
       "    family = binomial, data = train)\n",
       "\n",
       "Deviance Residuals: \n",
       "    Min       1Q   Median       3Q      Max  \n",
       "-1.0773  -0.7471  -0.6259  -0.5325   1.9060  \n",
       "\n",
       "Coefficients:\n",
       "                  Estimate Std. Error z value Pr(>|z|)\n",
       "(Intercept)        -1.1599     1.0441  -1.111    0.267\n",
       "definitionharmony   0.7583     0.5888   1.288    0.198\n",
       "needharmony        -0.8531     0.5494  -1.553    0.121\n",
       "purposecosmetic    -0.5056     0.6186  -0.817    0.414\n",
       "purposeetc         -0.4378     0.5565  -0.787    0.431\n",
       "interest            0.0404     0.2509   0.161    0.872\n",
       "\n",
       "(Dispersion parameter for binomial family taken to be 1)\n",
       "\n",
       "    Null deviance: 113.40  on 105  degrees of freedom\n",
       "Residual deviance: 109.78  on 100  degrees of freedom\n",
       "AIC: 121.78\n",
       "\n",
       "Number of Fisher Scoring iterations: 4\n"
      ]
     },
     "metadata": {},
     "output_type": "display_data"
    },
    {
     "data": {
      "text/html": [
       "<table>\n",
       "<thead><tr><th></th><th scope=col>Df</th><th scope=col>Deviance</th><th scope=col>Resid. Df</th><th scope=col>Resid. Dev</th><th scope=col>Pr(&gt;Chi)</th></tr></thead>\n",
       "<tbody>\n",
       "\t<tr><th scope=row>NULL</th><td>NA       </td><td>       NA</td><td>105      </td><td>113.4005 </td><td>       NA</td></tr>\n",
       "\t<tr><th scope=row>definition</th><td> 1       </td><td>0.3239468</td><td>104      </td><td>113.0766 </td><td>0.5692453</td></tr>\n",
       "\t<tr><th scope=row>need</th><td> 1       </td><td>2.4167071</td><td>103      </td><td>110.6599 </td><td>0.1200470</td></tr>\n",
       "\t<tr><th scope=row>purpose</th><td> 2       </td><td>0.8561536</td><td>101      </td><td>109.8037 </td><td>0.6517613</td></tr>\n",
       "\t<tr><th scope=row>interest</th><td> 1       </td><td>0.0259653</td><td>100      </td><td>109.7778 </td><td>0.8719851</td></tr>\n",
       "</tbody>\n",
       "</table>\n"
      ],
      "text/latex": [
       "\\begin{tabular}{r|lllll}\n",
       "  & Df & Deviance & Resid. Df & Resid. Dev & Pr(>Chi)\\\\\n",
       "\\hline\n",
       "\tNULL & NA        &        NA & 105       & 113.4005  &        NA\\\\\n",
       "\tdefinition &  1        & 0.3239468 & 104       & 113.0766  & 0.5692453\\\\\n",
       "\tneed &  1        & 2.4167071 & 103       & 110.6599  & 0.1200470\\\\\n",
       "\tpurpose &  2        & 0.8561536 & 101       & 109.8037  & 0.6517613\\\\\n",
       "\tinterest &  1        & 0.0259653 & 100       & 109.7778  & 0.8719851\\\\\n",
       "\\end{tabular}\n"
      ],
      "text/markdown": [
       "\n",
       "| <!--/--> | Df | Deviance | Resid. Df | Resid. Dev | Pr(>Chi) |\n",
       "|---|---|---|---|---|---|\n",
       "| NULL | NA        |        NA | 105       | 113.4005  |        NA |\n",
       "| definition |  1        | 0.3239468 | 104       | 113.0766  | 0.5692453 |\n",
       "| need |  1        | 2.4167071 | 103       | 110.6599  | 0.1200470 |\n",
       "| purpose |  2        | 0.8561536 | 101       | 109.8037  | 0.6517613 |\n",
       "| interest |  1        | 0.0259653 | 100       | 109.7778  | 0.8719851 |\n",
       "\n"
      ],
      "text/plain": [
       "           Df Deviance  Resid. Df Resid. Dev Pr(>Chi) \n",
       "NULL       NA        NA 105       113.4005          NA\n",
       "definition  1 0.3239468 104       113.0766   0.5692453\n",
       "need        1 2.4167071 103       110.6599   0.1200470\n",
       "purpose     2 0.8561536 101       109.8037   0.6517613\n",
       "interest    1 0.0259653 100       109.7778   0.8719851"
      ]
     },
     "metadata": {},
     "output_type": "display_data"
    },
    {
     "data": {
      "text/html": [
       "0.541353383458647"
      ],
      "text/latex": [
       "0.541353383458647"
      ],
      "text/markdown": [
       "0.541353383458647"
      ],
      "text/plain": [
       "[1] 0.5413534"
      ]
     },
     "metadata": {},
     "output_type": "display_data"
    },
    {
     "data": {
      "image/png": "[encoded data removed]",
      "text/plain": [
       "plot without title"
      ]
     },
     "metadata": {},
     "output_type": "display_data"
    }
   ],
   "source": [
    "model <- glm(t1_5 ~ definition + need + purpose \n",
    "              + interest, data =train, family = binomial)\n",
    "summary(model)\n",
    "\n",
    "\n",
    "anova(model, test=\"Chisq\")\n",
    "\n",
    "\n",
    "p <- predict(model, newdata=test, type=\"response\")\n",
    "pr <- prediction(p, test$t1_5)\n",
    "prf <- performance(pr, measure = \"tpr\", x.measure = \"fpr\")\n",
    "plot(prf)\n",
    "\n",
    "auc <- performance(pr, measure = \"auc\")\n",
    "auc <- auc@y.values[[1]]\n",
    "auc"
   ]
  },
  {
   "cell_type": "code",
   "execution_count": 23,
   "metadata": {},
   "outputs": [
    {
     "data": {
      "text/plain": [
       "\n",
       "Call:\n",
       "glm(formula = t2_1 ~ definition + need + purpose + interest, \n",
       "    family = binomial, data = train)\n",
       "\n",
       "Deviance Residuals: \n",
       "    Min       1Q   Median       3Q      Max  \n",
       "-0.9573  -0.7442  -0.5829  -0.5179   2.1239  \n",
       "\n",
       "Coefficients:\n",
       "                  Estimate Std. Error z value Pr(>|z|)  \n",
       "(Intercept)       -2.05269    1.10669  -1.855   0.0636 .\n",
       "definitionharmony  0.47312    0.61600   0.768   0.4425  \n",
       "needharmony       -0.52940    0.57795  -0.916   0.3597  \n",
       "purposecosmetic    0.07120    0.69813   0.102   0.9188  \n",
       "purposeetc         0.67080    0.60205   1.114   0.2652  \n",
       "interest           0.09152    0.25572   0.358   0.7204  \n",
       "---\n",
       "Signif. codes:  0 '***' 0.001 '**' 0.01 '*' 0.05 '.' 0.1 ' ' 1\n",
       "\n",
       "(Dispersion parameter for binomial family taken to be 1)\n",
       "\n",
       "    Null deviance: 108.27  on 105  degrees of freedom\n",
       "Residual deviance: 105.51  on 100  degrees of freedom\n",
       "AIC: 117.51\n",
       "\n",
       "Number of Fisher Scoring iterations: 4\n"
      ]
     },
     "metadata": {},
     "output_type": "display_data"
    },
    {
     "data": {
      "text/html": [
       "<table>\n",
       "<thead><tr><th></th><th scope=col>Df</th><th scope=col>Deviance</th><th scope=col>Resid. Df</th><th scope=col>Resid. Dev</th><th scope=col>Pr(&gt;Chi)</th></tr></thead>\n",
       "<tbody>\n",
       "\t<tr><th scope=row>NULL</th><td>NA        </td><td>        NA</td><td>105       </td><td>108.2660  </td><td>       NA </td></tr>\n",
       "\t<tr><th scope=row>definition</th><td> 1        </td><td>0.05735698</td><td>104       </td><td>108.2086  </td><td>0.8107232 </td></tr>\n",
       "\t<tr><th scope=row>need</th><td> 1        </td><td>0.68153703</td><td>103       </td><td>107.5271  </td><td>0.4090580 </td></tr>\n",
       "\t<tr><th scope=row>purpose</th><td> 2        </td><td>1.89017622</td><td>101       </td><td>105.6369  </td><td>0.3886453 </td></tr>\n",
       "\t<tr><th scope=row>interest</th><td> 1        </td><td>0.12873507</td><td>100       </td><td>105.5082  </td><td>0.7197472 </td></tr>\n",
       "</tbody>\n",
       "</table>\n"
      ],
      "text/latex": [
       "\\begin{tabular}{r|lllll}\n",
       "  & Df & Deviance & Resid. Df & Resid. Dev & Pr(>Chi)\\\\\n",
       "\\hline\n",
       "\tNULL & NA         &         NA & 105        & 108.2660   &        NA \\\\\n",
       "\tdefinition &  1         & 0.05735698 & 104        & 108.2086   & 0.8107232 \\\\\n",
       "\tneed &  1         & 0.68153703 & 103        & 107.5271   & 0.4090580 \\\\\n",
       "\tpurpose &  2         & 1.89017622 & 101        & 105.6369   & 0.3886453 \\\\\n",
       "\tinterest &  1         & 0.12873507 & 100        & 105.5082   & 0.7197472 \\\\\n",
       "\\end{tabular}\n"
      ],
      "text/markdown": [
       "\n",
       "| <!--/--> | Df | Deviance | Resid. Df | Resid. Dev | Pr(>Chi) |\n",
       "|---|---|---|---|---|---|\n",
       "| NULL | NA         |         NA | 105        | 108.2660   |        NA  |\n",
       "| definition |  1         | 0.05735698 | 104        | 108.2086   | 0.8107232  |\n",
       "| need |  1         | 0.68153703 | 103        | 107.5271   | 0.4090580  |\n",
       "| purpose |  2         | 1.89017622 | 101        | 105.6369   | 0.3886453  |\n",
       "| interest |  1         | 0.12873507 | 100        | 105.5082   | 0.7197472  |\n",
       "\n"
      ],
      "text/plain": [
       "           Df Deviance   Resid. Df Resid. Dev Pr(>Chi) \n",
       "NULL       NA         NA 105       108.2660          NA\n",
       "definition  1 0.05735698 104       108.2086   0.8107232\n",
       "need        1 0.68153703 103       107.5271   0.4090580\n",
       "purpose     2 1.89017622 101       105.6369   0.3886453\n",
       "interest    1 0.12873507 100       105.5082   0.7197472"
      ]
     },
     "metadata": {},
     "output_type": "display_data"
    },
    {
     "data": {
      "text/html": [
       "0.399691358024691"
      ],
      "text/latex": [
       "0.399691358024691"
      ],
      "text/markdown": [
       "0.399691358024691"
      ],
      "text/plain": [
       "[1] 0.3996914"
      ]
     },
     "metadata": {},
     "output_type": "display_data"
    },
    {
     "data": {
      "image/png": "[encoded data removed]",
      "text/plain": [
       "plot without title"
      ]
     },
     "metadata": {},
     "output_type": "display_data"
    }
   ],
   "source": [
    "model <- glm(t2_1 ~ definition + need + purpose \n",
    "              + interest, data =train, family = binomial)\n",
    "summary(model)\n",
    "\n",
    "\n",
    "anova(model, test=\"Chisq\")\n",
    "\n",
    "\n",
    "p <- predict(model, newdata=test, type=\"response\")\n",
    "pr <- prediction(p, test$t2_1)\n",
    "prf <- performance(pr, measure = \"tpr\", x.measure = \"fpr\")\n",
    "plot(prf)\n",
    "\n",
    "auc <- performance(pr, measure = \"auc\")\n",
    "auc <- auc@y.values[[1]]\n",
    "auc"
   ]
  },
  {
   "cell_type": "code",
   "execution_count": 24,
   "metadata": {},
   "outputs": [
    {
     "data": {
      "text/plain": [
       "\n",
       "Call:\n",
       "glm(formula = t2_2 ~ definition + need + purpose + interest, \n",
       "    family = binomial, data = train)\n",
       "\n",
       "Deviance Residuals: \n",
       "    Min       1Q   Median       3Q      Max  \n",
       "-1.0528  -0.6965  -0.5020  -0.3323   2.4946  \n",
       "\n",
       "Coefficients:\n",
       "                  Estimate Std. Error z value Pr(>|z|)  \n",
       "(Intercept)        -1.3060     1.1452  -1.140    0.254  \n",
       "definitionharmony   0.1506     0.7197   0.209    0.834  \n",
       "needharmony         1.2283     0.6556   1.874    0.061 .\n",
       "purposecosmetic    -0.1763     0.6411  -0.275    0.783  \n",
       "purposeetc         -0.7747     0.6245  -1.240    0.215  \n",
       "interest           -0.1971     0.2704  -0.729    0.466  \n",
       "---\n",
       "Signif. codes:  0 '***' 0.001 '**' 0.01 '*' 0.05 '.' 0.1 ' ' 1\n",
       "\n",
       "(Dispersion parameter for binomial family taken to be 1)\n",
       "\n",
       "    Null deviance: 102.672  on 105  degrees of freedom\n",
       "Residual deviance:  94.073  on 100  degrees of freedom\n",
       "AIC: 106.07\n",
       "\n",
       "Number of Fisher Scoring iterations: 5\n"
      ]
     },
     "metadata": {},
     "output_type": "display_data"
    },
    {
     "data": {
      "text/html": [
       "<table>\n",
       "<thead><tr><th></th><th scope=col>Df</th><th scope=col>Deviance</th><th scope=col>Resid. Df</th><th scope=col>Resid. Dev</th><th scope=col>Pr(&gt;Chi)</th></tr></thead>\n",
       "<tbody>\n",
       "\t<tr><th scope=row>NULL</th><td>NA        </td><td>       NA </td><td>105       </td><td>102.67206 </td><td>        NA</td></tr>\n",
       "\t<tr><th scope=row>definition</th><td> 1        </td><td>2.2999334 </td><td>104       </td><td>100.37213 </td><td>0.12937955</td></tr>\n",
       "\t<tr><th scope=row>need</th><td> 1        </td><td>3.7088549 </td><td>103       </td><td> 96.66327 </td><td>0.05412451</td></tr>\n",
       "\t<tr><th scope=row>purpose</th><td> 2        </td><td>2.0566300 </td><td>101       </td><td> 94.60664 </td><td>0.35760903</td></tr>\n",
       "\t<tr><th scope=row>interest</th><td> 1        </td><td>0.5331932 </td><td>100       </td><td> 94.07345 </td><td>0.46526745</td></tr>\n",
       "</tbody>\n",
       "</table>\n"
      ],
      "text/latex": [
       "\\begin{tabular}{r|lllll}\n",
       "  & Df & Deviance & Resid. Df & Resid. Dev & Pr(>Chi)\\\\\n",
       "\\hline\n",
       "\tNULL & NA         &        NA  & 105        & 102.67206  &         NA\\\\\n",
       "\tdefinition &  1         & 2.2999334  & 104        & 100.37213  & 0.12937955\\\\\n",
       "\tneed &  1         & 3.7088549  & 103        &  96.66327  & 0.05412451\\\\\n",
       "\tpurpose &  2         & 2.0566300  & 101        &  94.60664  & 0.35760903\\\\\n",
       "\tinterest &  1         & 0.5331932  & 100        &  94.07345  & 0.46526745\\\\\n",
       "\\end{tabular}\n"
      ],
      "text/markdown": [
       "\n",
       "| <!--/--> | Df | Deviance | Resid. Df | Resid. Dev | Pr(>Chi) |\n",
       "|---|---|---|---|---|---|\n",
       "| NULL | NA         |        NA  | 105        | 102.67206  |         NA |\n",
       "| definition |  1         | 2.2999334  | 104        | 100.37213  | 0.12937955 |\n",
       "| need |  1         | 3.7088549  | 103        |  96.66327  | 0.05412451 |\n",
       "| purpose |  2         | 2.0566300  | 101        |  94.60664  | 0.35760903 |\n",
       "| interest |  1         | 0.5331932  | 100        |  94.07345  | 0.46526745 |\n",
       "\n"
      ],
      "text/plain": [
       "           Df Deviance  Resid. Df Resid. Dev Pr(>Chi)  \n",
       "NULL       NA        NA 105       102.67206          NA\n",
       "definition  1 2.2999334 104       100.37213  0.12937955\n",
       "need        1 3.7088549 103        96.66327  0.05412451\n",
       "purpose     2 2.0566300 101        94.60664  0.35760903\n",
       "interest    1 0.5331932 100        94.07345  0.46526745"
      ]
     },
     "metadata": {},
     "output_type": "display_data"
    },
    {
     "data": {
      "text/html": [
       "0.408119658119658"
      ],
      "text/latex": [
       "0.408119658119658"
      ],
      "text/markdown": [
       "0.408119658119658"
      ],
      "text/plain": [
       "[1] 0.4081197"
      ]
     },
     "metadata": {},
     "output_type": "display_data"
    },
    {
     "data": {
      "image/png": "[encoded data removed]",
      "text/plain": [
       "plot without title"
      ]
     },
     "metadata": {},
     "output_type": "display_data"
    }
   ],
   "source": [
    "model <- glm(t2_2 ~ definition + need + purpose \n",
    "              + interest, data =train, family = binomial)\n",
    "summary(model)\n",
    "\n",
    "\n",
    "anova(model, test=\"Chisq\")\n",
    "\n",
    "\n",
    "p <- predict(model, newdata=test, type=\"response\")\n",
    "pr <- prediction(p, test$t2_2)\n",
    "prf <- performance(pr, measure = \"tpr\", x.measure = \"fpr\")\n",
    "plot(prf)\n",
    "\n",
    "auc <- performance(pr, measure = \"auc\")\n",
    "auc <- auc@y.values[[1]]\n",
    "auc"
   ]
  },
  {
   "cell_type": "code",
   "execution_count": 25,
   "metadata": {},
   "outputs": [
    {
     "data": {
      "text/plain": [
       "\n",
       "Call:\n",
       "glm(formula = t2_3 ~ definition + need + purpose + interest, \n",
       "    family = binomial, data = train)\n",
       "\n",
       "Deviance Residuals: \n",
       "    Min       1Q   Median       3Q      Max  \n",
       "-0.9482  -0.6902  -0.6484  -0.5694   1.9562  \n",
       "\n",
       "Coefficients:\n",
       "                   Estimate Std. Error z value Pr(>|z|)\n",
       "(Intercept)       -0.738352   1.011366  -0.730    0.465\n",
       "definitionharmony -0.738684   0.577457  -1.279    0.201\n",
       "needharmony        0.130792   0.568251   0.230    0.818\n",
       "purposecosmetic   -0.008478   0.606432  -0.014    0.989\n",
       "purposeetc        -0.301428   0.563885  -0.535    0.593\n",
       "interest           0.008234   0.245108   0.034    0.973\n",
       "\n",
       "(Dispersion parameter for binomial family taken to be 1)\n",
       "\n",
       "    Null deviance: 113.40  on 105  degrees of freedom\n",
       "Residual deviance: 111.08  on 100  degrees of freedom\n",
       "AIC: 123.08\n",
       "\n",
       "Number of Fisher Scoring iterations: 4\n"
      ]
     },
     "metadata": {},
     "output_type": "display_data"
    },
    {
     "data": {
      "text/html": [
       "<table>\n",
       "<thead><tr><th></th><th scope=col>Df</th><th scope=col>Deviance</th><th scope=col>Resid. Df</th><th scope=col>Resid. Dev</th><th scope=col>Pr(&gt;Chi)</th></tr></thead>\n",
       "<tbody>\n",
       "\t<tr><th scope=row>NULL</th><td>NA         </td><td>         NA</td><td>105        </td><td>113.4005   </td><td>       NA  </td></tr>\n",
       "\t<tr><th scope=row>definition</th><td> 1         </td><td>1.891865160</td><td>104        </td><td>111.5087   </td><td>0.1689917  </td></tr>\n",
       "\t<tr><th scope=row>need</th><td> 1         </td><td>0.044353250</td><td>103        </td><td>111.4643   </td><td>0.8331978  </td></tr>\n",
       "\t<tr><th scope=row>purpose</th><td> 2         </td><td>0.378250876</td><td>101        </td><td>111.0861   </td><td>0.8276827  </td></tr>\n",
       "\t<tr><th scope=row>interest</th><td> 1         </td><td>0.001128923</td><td>100        </td><td>111.0849   </td><td>0.9731966  </td></tr>\n",
       "</tbody>\n",
       "</table>\n"
      ],
      "text/latex": [
       "\\begin{tabular}{r|lllll}\n",
       "  & Df & Deviance & Resid. Df & Resid. Dev & Pr(>Chi)\\\\\n",
       "\\hline\n",
       "\tNULL & NA          &          NA & 105         & 113.4005    &        NA  \\\\\n",
       "\tdefinition &  1          & 1.891865160 & 104         & 111.5087    & 0.1689917  \\\\\n",
       "\tneed &  1          & 0.044353250 & 103         & 111.4643    & 0.8331978  \\\\\n",
       "\tpurpose &  2          & 0.378250876 & 101         & 111.0861    & 0.8276827  \\\\\n",
       "\tinterest &  1          & 0.001128923 & 100         & 111.0849    & 0.9731966  \\\\\n",
       "\\end{tabular}\n"
      ],
      "text/markdown": [
       "\n",
       "| <!--/--> | Df | Deviance | Resid. Df | Resid. Dev | Pr(>Chi) |\n",
       "|---|---|---|---|---|---|\n",
       "| NULL | NA          |          NA | 105         | 113.4005    |        NA   |\n",
       "| definition |  1          | 1.891865160 | 104         | 111.5087    | 0.1689917   |\n",
       "| need |  1          | 0.044353250 | 103         | 111.4643    | 0.8331978   |\n",
       "| purpose |  2          | 0.378250876 | 101         | 111.0861    | 0.8276827   |\n",
       "| interest |  1          | 0.001128923 | 100         | 111.0849    | 0.9731966   |\n",
       "\n"
      ],
      "text/plain": [
       "           Df Deviance    Resid. Df Resid. Dev Pr(>Chi) \n",
       "NULL       NA          NA 105       113.4005          NA\n",
       "definition  1 1.891865160 104       111.5087   0.1689917\n",
       "need        1 0.044353250 103       111.4643   0.8331978\n",
       "purpose     2 0.378250876 101       111.0861   0.8276827\n",
       "interest    1 0.001128923 100       111.0849   0.9731966"
      ]
     },
     "metadata": {},
     "output_type": "display_data"
    },
    {
     "data": {
      "text/html": [
       "0.408571428571429"
      ],
      "text/latex": [
       "0.408571428571429"
      ],
      "text/markdown": [
       "0.408571428571429"
      ],
      "text/plain": [
       "[1] 0.4085714"
      ]
     },
     "metadata": {},
     "output_type": "display_data"
    },
    {
     "data": {
      "image/png": "[encoded data removed]",
      "text/plain": [
       "plot without title"
      ]
     },
     "metadata": {},
     "output_type": "display_data"
    }
   ],
   "source": [
    "model <- glm(t2_3 ~ definition + need + purpose \n",
    "              + interest, data =train, family = binomial)\n",
    "summary(model)\n",
    "\n",
    "\n",
    "anova(model, test=\"Chisq\")\n",
    "\n",
    "\n",
    "p <- predict(model, newdata=test, type=\"response\")\n",
    "pr <- prediction(p, test$t2_3)\n",
    "prf <- performance(pr, measure = \"tpr\", x.measure = \"fpr\")\n",
    "plot(prf)\n",
    "\n",
    "auc <- performance(pr, measure = \"auc\")\n",
    "auc <- auc@y.values[[1]]\n",
    "auc"
   ]
  },
  {
   "cell_type": "code",
   "execution_count": 26,
   "metadata": {},
   "outputs": [
    {
     "data": {
      "text/plain": [
       "\n",
       "Call:\n",
       "glm(formula = t2_4 ~ definition + need + purpose + interest, \n",
       "    family = binomial, data = train)\n",
       "\n",
       "Deviance Residuals: \n",
       "    Min       1Q   Median       3Q      Max  \n",
       "-0.9889  -0.7251  -0.7027  -0.5117   1.8119  \n",
       "\n",
       "Coefficients:\n",
       "                  Estimate Std. Error z value Pr(>|z|)\n",
       "(Intercept)       -1.07581    1.00196  -1.074    0.283\n",
       "definitionharmony  0.58367    0.56865   1.026    0.305\n",
       "needharmony       -0.73703    0.53493  -1.378    0.168\n",
       "purposecosmetic    0.05903    0.59216   0.100    0.921\n",
       "purposeetc        -0.12696    0.55479  -0.229    0.819\n",
       "interest          -0.01402    0.23943  -0.059    0.953\n",
       "\n",
       "(Dispersion parameter for binomial family taken to be 1)\n",
       "\n",
       "    Null deviance: 118.10  on 105  degrees of freedom\n",
       "Residual deviance: 115.76  on 100  degrees of freedom\n",
       "AIC: 127.76\n",
       "\n",
       "Number of Fisher Scoring iterations: 4\n"
      ]
     },
     "metadata": {},
     "output_type": "display_data"
    },
    {
     "data": {
      "text/html": [
       "<table>\n",
       "<thead><tr><th></th><th scope=col>Df</th><th scope=col>Deviance</th><th scope=col>Resid. Df</th><th scope=col>Resid. Dev</th><th scope=col>Pr(&gt;Chi)</th></tr></thead>\n",
       "<tbody>\n",
       "\t<tr><th scope=row>NULL</th><td>NA         </td><td>         NA</td><td>105        </td><td>118.1038   </td><td>       NA  </td></tr>\n",
       "\t<tr><th scope=row>definition</th><td> 1         </td><td>0.158356224</td><td>104        </td><td>117.9455   </td><td>0.6906744  </td></tr>\n",
       "\t<tr><th scope=row>need</th><td> 1         </td><td>2.051430958</td><td>103        </td><td>115.8940   </td><td>0.1520632  </td></tr>\n",
       "\t<tr><th scope=row>purpose</th><td> 2         </td><td>0.128419475</td><td>101        </td><td>115.7656   </td><td>0.9378083  </td></tr>\n",
       "\t<tr><th scope=row>interest</th><td> 1         </td><td>0.003427456</td><td>100        </td><td>115.7622   </td><td>0.9533149  </td></tr>\n",
       "</tbody>\n",
       "</table>\n"
      ],
      "text/latex": [
       "\\begin{tabular}{r|lllll}\n",
       "  & Df & Deviance & Resid. Df & Resid. Dev & Pr(>Chi)\\\\\n",
       "\\hline\n",
       "\tNULL & NA          &          NA & 105         & 118.1038    &        NA  \\\\\n",
       "\tdefinition &  1          & 0.158356224 & 104         & 117.9455    & 0.6906744  \\\\\n",
       "\tneed &  1          & 2.051430958 & 103         & 115.8940    & 0.1520632  \\\\\n",
       "\tpurpose &  2          & 0.128419475 & 101         & 115.7656    & 0.9378083  \\\\\n",
       "\tinterest &  1          & 0.003427456 & 100         & 115.7622    & 0.9533149  \\\\\n",
       "\\end{tabular}\n"
      ],
      "text/markdown": [
       "\n",
       "| <!--/--> | Df | Deviance | Resid. Df | Resid. Dev | Pr(>Chi) |\n",
       "|---|---|---|---|---|---|\n",
       "| NULL | NA          |          NA | 105         | 118.1038    |        NA   |\n",
       "| definition |  1          | 0.158356224 | 104         | 117.9455    | 0.6906744   |\n",
       "| need |  1          | 2.051430958 | 103         | 115.8940    | 0.1520632   |\n",
       "| purpose |  2          | 0.128419475 | 101         | 115.7656    | 0.9378083   |\n",
       "| interest |  1          | 0.003427456 | 100         | 115.7622    | 0.9533149   |\n",
       "\n"
      ],
      "text/plain": [
       "           Df Deviance    Resid. Df Resid. Dev Pr(>Chi) \n",
       "NULL       NA          NA 105       118.1038          NA\n",
       "definition  1 0.158356224 104       117.9455   0.6906744\n",
       "need        1 2.051430958 103       115.8940   0.1520632\n",
       "purpose     2 0.128419475 101       115.7656   0.9378083\n",
       "interest    1 0.003427456 100       115.7622   0.9533149"
      ]
     },
     "metadata": {},
     "output_type": "display_data"
    },
    {
     "data": {
      "text/html": [
       "0.440878378378378"
      ],
      "text/latex": [
       "0.440878378378378"
      ],
      "text/markdown": [
       "0.440878378378378"
      ],
      "text/plain": [
       "[1] 0.4408784"
      ]
     },
     "metadata": {},
     "output_type": "display_data"
    },
    {
     "data": {
      "image/png": "[encoded data removed]",
      "text/plain": [
       "plot without title"
      ]
     },
     "metadata": {},
     "output_type": "display_data"
    }
   ],
   "source": [
    "model <- glm(t2_4 ~ definition + need + purpose \n",
    "              + interest, data =train, family = binomial)\n",
    "summary(model)\n",
    "\n",
    "\n",
    "anova(model, test=\"Chisq\")\n",
    "\n",
    "\n",
    "p <- predict(model, newdata=test, type=\"response\")\n",
    "pr <- prediction(p, test$t2_4)\n",
    "prf <- performance(pr, measure = \"tpr\", x.measure = \"fpr\")\n",
    "plot(prf)\n",
    "\n",
    "auc <- performance(pr, measure = \"auc\")\n",
    "auc <- auc@y.values[[1]]\n",
    "auc"
   ]
  },
  {
   "cell_type": "code",
   "execution_count": 27,
   "metadata": {},
   "outputs": [
    {
     "data": {
      "text/plain": [
       "\n",
       "Call:\n",
       "glm(formula = t2_5 ~ definition + need + purpose + interest, \n",
       "    family = binomial, data = train)\n",
       "\n",
       "Deviance Residuals: \n",
       "    Min       1Q   Median       3Q      Max  \n",
       "-0.7827  -0.5799  -0.4751  -0.4047   2.2331  \n",
       "\n",
       "Coefficients:\n",
       "                  Estimate Std. Error z value Pr(>|z|)  \n",
       "(Intercept)        -2.4567     1.3165  -1.866    0.062 .\n",
       "definitionharmony  -0.5600     0.7441  -0.753    0.452  \n",
       "needharmony         0.2749     0.7291   0.377    0.706  \n",
       "purposecosmetic     0.1684     0.8685   0.194    0.846  \n",
       "purposeetc          0.7095     0.7305   0.971    0.331  \n",
       "interest            0.1116     0.3044   0.367    0.714  \n",
       "---\n",
       "Signif. codes:  0 '***' 0.001 '**' 0.01 '*' 0.05 '.' 0.1 ' ' 1\n",
       "\n",
       "(Dispersion parameter for binomial family taken to be 1)\n",
       "\n",
       "    Null deviance: 82.746  on 105  degrees of freedom\n",
       "Residual deviance: 80.536  on 100  degrees of freedom\n",
       "AIC: 92.536\n",
       "\n",
       "Number of Fisher Scoring iterations: 5\n"
      ]
     },
     "metadata": {},
     "output_type": "display_data"
    },
    {
     "data": {
      "text/html": [
       "<table>\n",
       "<thead><tr><th></th><th scope=col>Df</th><th scope=col>Deviance</th><th scope=col>Resid. Df</th><th scope=col>Resid. Dev</th><th scope=col>Pr(&gt;Chi)</th></tr></thead>\n",
       "<tbody>\n",
       "\t<tr><th scope=row>NULL</th><td>NA       </td><td>       NA</td><td>105      </td><td>82.74638 </td><td>       NA</td></tr>\n",
       "\t<tr><th scope=row>definition</th><td> 1       </td><td>0.5523720</td><td>104      </td><td>82.19401 </td><td>0.4573501</td></tr>\n",
       "\t<tr><th scope=row>need</th><td> 1       </td><td>0.1552722</td><td>103      </td><td>82.03874 </td><td>0.6935472</td></tr>\n",
       "\t<tr><th scope=row>purpose</th><td> 2       </td><td>1.3672051</td><td>101      </td><td>80.67154 </td><td>0.5047952</td></tr>\n",
       "\t<tr><th scope=row>interest</th><td> 1       </td><td>0.1354945</td><td>100      </td><td>80.53604 </td><td>0.7128018</td></tr>\n",
       "</tbody>\n",
       "</table>\n"
      ],
      "text/latex": [
       "\\begin{tabular}{r|lllll}\n",
       "  & Df & Deviance & Resid. Df & Resid. Dev & Pr(>Chi)\\\\\n",
       "\\hline\n",
       "\tNULL & NA        &        NA & 105       & 82.74638  &        NA\\\\\n",
       "\tdefinition &  1        & 0.5523720 & 104       & 82.19401  & 0.4573501\\\\\n",
       "\tneed &  1        & 0.1552722 & 103       & 82.03874  & 0.6935472\\\\\n",
       "\tpurpose &  2        & 1.3672051 & 101       & 80.67154  & 0.5047952\\\\\n",
       "\tinterest &  1        & 0.1354945 & 100       & 80.53604  & 0.7128018\\\\\n",
       "\\end{tabular}\n"
      ],
      "text/markdown": [
       "\n",
       "| <!--/--> | Df | Deviance | Resid. Df | Resid. Dev | Pr(>Chi) |\n",
       "|---|---|---|---|---|---|\n",
       "| NULL | NA        |        NA | 105       | 82.74638  |        NA |\n",
       "| definition |  1        | 0.5523720 | 104       | 82.19401  | 0.4573501 |\n",
       "| need |  1        | 0.1552722 | 103       | 82.03874  | 0.6935472 |\n",
       "| purpose |  2        | 1.3672051 | 101       | 80.67154  | 0.5047952 |\n",
       "| interest |  1        | 0.1354945 | 100       | 80.53604  | 0.7128018 |\n",
       "\n"
      ],
      "text/plain": [
       "           Df Deviance  Resid. Df Resid. Dev Pr(>Chi) \n",
       "NULL       NA        NA 105       82.74638          NA\n",
       "definition  1 0.5523720 104       82.19401   0.4573501\n",
       "need        1 0.1552722 103       82.03874   0.6935472\n",
       "purpose     2 1.3672051 101       80.67154   0.5047952\n",
       "interest    1 0.1354945 100       80.53604   0.7128018"
      ]
     },
     "metadata": {},
     "output_type": "display_data"
    },
    {
     "data": {
      "text/html": [
       "0.523989898989899"
      ],
      "text/latex": [
       "0.523989898989899"
      ],
      "text/markdown": [
       "0.523989898989899"
      ],
      "text/plain": [
       "[1] 0.5239899"
      ]
     },
     "metadata": {},
     "output_type": "display_data"
    },
    {
     "data": {
      "image/png": "[encoded data removed]",
      "text/plain": [
       "plot without title"
      ]
     },
     "metadata": {},
     "output_type": "display_data"
    }
   ],
   "source": [
    "model <- glm(t2_5 ~ definition + need + purpose \n",
    "              + interest, data =train, family = binomial)\n",
    "summary(model)\n",
    "\n",
    "\n",
    "anova(model, test=\"Chisq\")\n",
    "\n",
    "\n",
    "p <- predict(model, newdata=test, type=\"response\")\n",
    "pr <- prediction(p, test$t2_5)\n",
    "prf <- performance(pr, measure = \"tpr\", x.measure = \"fpr\")\n",
    "plot(prf)\n",
    "\n",
    "auc <- performance(pr, measure = \"auc\")\n",
    "auc <- auc@y.values[[1]]\n",
    "auc"
   ]
  },
  {
   "cell_type": "code",
   "execution_count": 28,
   "metadata": {},
   "outputs": [
    {
     "data": {
      "text/plain": [
       "\n",
       "Call:\n",
       "glm(formula = d1_1 ~ definition + need + purpose + interest, \n",
       "    family = binomial, data = train)\n",
       "\n",
       "Deviance Residuals: \n",
       "    Min       1Q   Median       3Q      Max  \n",
       "-0.8016  -0.6978  -0.6362  -0.5504   2.0136  \n",
       "\n",
       "Coefficients:\n",
       "                  Estimate Std. Error z value Pr(>|z|)\n",
       "(Intercept)       -1.24929    1.06853  -1.169    0.242\n",
       "definitionharmony -0.21067    0.63501  -0.332    0.740\n",
       "needharmony        0.39146    0.60190   0.650    0.515\n",
       "purposecosmetic   -0.07099    0.67417  -0.105    0.916\n",
       "purposeetc         0.24260    0.58472   0.415    0.678\n",
       "interest          -0.08879    0.25419  -0.349    0.727\n",
       "\n",
       "(Dispersion parameter for binomial family taken to be 1)\n",
       "\n",
       "    Null deviance: 105.53  on 105  degrees of freedom\n",
       "Residual deviance: 104.64  on 100  degrees of freedom\n",
       "AIC: 116.64\n",
       "\n",
       "Number of Fisher Scoring iterations: 4\n"
      ]
     },
     "metadata": {},
     "output_type": "display_data"
    },
    {
     "data": {
      "text/html": [
       "<table>\n",
       "<thead><tr><th></th><th scope=col>Df</th><th scope=col>Deviance</th><th scope=col>Resid. Df</th><th scope=col>Resid. Dev</th><th scope=col>Pr(&gt;Chi)</th></tr></thead>\n",
       "<tbody>\n",
       "\t<tr><th scope=row>NULL</th><td>NA         </td><td>         NA</td><td>105        </td><td>105.5284   </td><td>       NA  </td></tr>\n",
       "\t<tr><th scope=row>definition</th><td> 1         </td><td>0.004629326</td><td>104        </td><td>105.5238   </td><td>0.9457545  </td></tr>\n",
       "\t<tr><th scope=row>need</th><td> 1         </td><td>0.505549092</td><td>103        </td><td>105.0183   </td><td>0.4770720  </td></tr>\n",
       "\t<tr><th scope=row>purpose</th><td> 2         </td><td>0.254401681</td><td>101        </td><td>104.7639   </td><td>0.8805568  </td></tr>\n",
       "\t<tr><th scope=row>interest</th><td> 1         </td><td>0.121795768</td><td>100        </td><td>104.6421   </td><td>0.7270949  </td></tr>\n",
       "</tbody>\n",
       "</table>\n"
      ],
      "text/latex": [
       "\\begin{tabular}{r|lllll}\n",
       "  & Df & Deviance & Resid. Df & Resid. Dev & Pr(>Chi)\\\\\n",
       "\\hline\n",
       "\tNULL & NA          &          NA & 105         & 105.5284    &        NA  \\\\\n",
       "\tdefinition &  1          & 0.004629326 & 104         & 105.5238    & 0.9457545  \\\\\n",
       "\tneed &  1          & 0.505549092 & 103         & 105.0183    & 0.4770720  \\\\\n",
       "\tpurpose &  2          & 0.254401681 & 101         & 104.7639    & 0.8805568  \\\\\n",
       "\tinterest &  1          & 0.121795768 & 100         & 104.6421    & 0.7270949  \\\\\n",
       "\\end{tabular}\n"
      ],
      "text/markdown": [
       "\n",
       "| <!--/--> | Df | Deviance | Resid. Df | Resid. Dev | Pr(>Chi) |\n",
       "|---|---|---|---|---|---|\n",
       "| NULL | NA          |          NA | 105         | 105.5284    |        NA   |\n",
       "| definition |  1          | 0.004629326 | 104         | 105.5238    | 0.9457545   |\n",
       "| need |  1          | 0.505549092 | 103         | 105.0183    | 0.4770720   |\n",
       "| purpose |  2          | 0.254401681 | 101         | 104.7639    | 0.8805568   |\n",
       "| interest |  1          | 0.121795768 | 100         | 104.6421    | 0.7270949   |\n",
       "\n"
      ],
      "text/plain": [
       "           Df Deviance    Resid. Df Resid. Dev Pr(>Chi) \n",
       "NULL       NA          NA 105       105.5284          NA\n",
       "definition  1 0.004629326 104       105.5238   0.9457545\n",
       "need        1 0.505549092 103       105.0183   0.4770720\n",
       "purpose     2 0.254401681 101       104.7639   0.8805568\n",
       "interest    1 0.121795768 100       104.6421   0.7270949"
      ]
     },
     "metadata": {},
     "output_type": "display_data"
    },
    {
     "data": {
      "text/html": [
       "0.487179487179487"
      ],
      "text/latex": [
       "0.487179487179487"
      ],
      "text/markdown": [
       "0.487179487179487"
      ],
      "text/plain": [
       "[1] 0.4871795"
      ]
     },
     "metadata": {},
     "output_type": "display_data"
    },
    {
     "data": {
      "image/png": "[encoded data removed]",
      "text/plain": [
       "plot without title"
      ]
     },
     "metadata": {},
     "output_type": "display_data"
    }
   ],
   "source": [
    "model <- glm(d1_1 ~ definition + need + purpose \n",
    "              + interest, data =train, family = binomial)\n",
    "summary(model)\n",
    "\n",
    "\n",
    "anova(model, test=\"Chisq\")\n",
    "\n",
    "\n",
    "p <- predict(model, newdata=test, type=\"response\")\n",
    "pr <- prediction(p, test$d1_1)\n",
    "prf <- performance(pr, measure = \"tpr\", x.measure = \"fpr\")\n",
    "plot(prf)\n",
    "\n",
    "auc <- performance(pr, measure = \"auc\")\n",
    "auc <- auc@y.values[[1]]\n",
    "auc"
   ]
  },
  {
   "cell_type": "code",
   "execution_count": 29,
   "metadata": {},
   "outputs": [
    {
     "data": {
      "text/plain": [
       "\n",
       "Call:\n",
       "glm(formula = d1_2 ~ definition + need + purpose + interest, \n",
       "    family = binomial, data = train)\n",
       "\n",
       "Deviance Residuals: \n",
       "    Min       1Q   Median       3Q      Max  \n",
       "-1.4005  -0.9762  -0.7829   1.2008   1.7202  \n",
       "\n",
       "Coefficients:\n",
       "                  Estimate Std. Error z value Pr(>|z|)\n",
       "(Intercept)         0.7544     0.8995   0.839    0.402\n",
       "definitionharmony  -0.4203     0.4982  -0.844    0.399\n",
       "needharmony        -0.6163     0.4818  -1.279    0.201\n",
       "purposecosmetic    -0.3049     0.5387  -0.566    0.571\n",
       "purposeetc         -0.3297     0.4884  -0.675    0.500\n",
       "interest           -0.1219     0.2147  -0.568    0.570\n",
       "\n",
       "(Dispersion parameter for binomial family taken to be 1)\n",
       "\n",
       "    Null deviance: 141.47  on 105  degrees of freedom\n",
       "Residual deviance: 136.08  on 100  degrees of freedom\n",
       "AIC: 148.08\n",
       "\n",
       "Number of Fisher Scoring iterations: 4\n"
      ]
     },
     "metadata": {},
     "output_type": "display_data"
    },
    {
     "data": {
      "text/html": [
       "<table>\n",
       "<thead><tr><th></th><th scope=col>Df</th><th scope=col>Deviance</th><th scope=col>Resid. Df</th><th scope=col>Resid. Dev</th><th scope=col>Pr(&gt;Chi)</th></tr></thead>\n",
       "<tbody>\n",
       "\t<tr><th scope=row>NULL</th><td>NA        </td><td>       NA </td><td>105       </td><td>141.4658  </td><td>        NA</td></tr>\n",
       "\t<tr><th scope=row>definition</th><td> 1        </td><td>2.9165110 </td><td>104       </td><td>138.5493  </td><td>0.08767725</td></tr>\n",
       "\t<tr><th scope=row>need</th><td> 1        </td><td>1.5438709 </td><td>103       </td><td>137.0055  </td><td>0.21404254</td></tr>\n",
       "\t<tr><th scope=row>purpose</th><td> 2        </td><td>0.6017095 </td><td>101       </td><td>136.4037  </td><td>0.74018527</td></tr>\n",
       "\t<tr><th scope=row>interest</th><td> 1        </td><td>0.3229931 </td><td>100       </td><td>136.0807  </td><td>0.56981441</td></tr>\n",
       "</tbody>\n",
       "</table>\n"
      ],
      "text/latex": [
       "\\begin{tabular}{r|lllll}\n",
       "  & Df & Deviance & Resid. Df & Resid. Dev & Pr(>Chi)\\\\\n",
       "\\hline\n",
       "\tNULL & NA         &        NA  & 105        & 141.4658   &         NA\\\\\n",
       "\tdefinition &  1         & 2.9165110  & 104        & 138.5493   & 0.08767725\\\\\n",
       "\tneed &  1         & 1.5438709  & 103        & 137.0055   & 0.21404254\\\\\n",
       "\tpurpose &  2         & 0.6017095  & 101        & 136.4037   & 0.74018527\\\\\n",
       "\tinterest &  1         & 0.3229931  & 100        & 136.0807   & 0.56981441\\\\\n",
       "\\end{tabular}\n"
      ],
      "text/markdown": [
       "\n",
       "| <!--/--> | Df | Deviance | Resid. Df | Resid. Dev | Pr(>Chi) |\n",
       "|---|---|---|---|---|---|\n",
       "| NULL | NA         |        NA  | 105        | 141.4658   |         NA |\n",
       "| definition |  1         | 2.9165110  | 104        | 138.5493   | 0.08767725 |\n",
       "| need |  1         | 1.5438709  | 103        | 137.0055   | 0.21404254 |\n",
       "| purpose |  2         | 0.6017095  | 101        | 136.4037   | 0.74018527 |\n",
       "| interest |  1         | 0.3229931  | 100        | 136.0807   | 0.56981441 |\n",
       "\n"
      ],
      "text/plain": [
       "           Df Deviance  Resid. Df Resid. Dev Pr(>Chi)  \n",
       "NULL       NA        NA 105       141.4658           NA\n",
       "definition  1 2.9165110 104       138.5493   0.08767725\n",
       "need        1 1.5438709 103       137.0055   0.21404254\n",
       "purpose     2 0.6017095 101       136.4037   0.74018527\n",
       "interest    1 0.3229931 100       136.0807   0.56981441"
      ]
     },
     "metadata": {},
     "output_type": "display_data"
    },
    {
     "data": {
      "text/html": [
       "0.581797235023041"
      ],
      "text/latex": [
       "0.581797235023041"
      ],
      "text/markdown": [
       "0.581797235023041"
      ],
      "text/plain": [
       "[1] 0.5817972"
      ]
     },
     "metadata": {},
     "output_type": "display_data"
    },
    {
     "data": {
      "image/png": "[encoded data removed]",
      "text/plain": [
       "plot without title"
      ]
     },
     "metadata": {},
     "output_type": "display_data"
    }
   ],
   "source": [
    "model <- glm(d1_2 ~ definition + need + purpose \n",
    "              + interest, data =train, family = binomial)\n",
    "summary(model)\n",
    "\n",
    "\n",
    "anova(model, test=\"Chisq\")\n",
    "\n",
    "\n",
    "p <- predict(model, newdata=test, type=\"response\")\n",
    "pr <- prediction(p, test$d1_2)\n",
    "prf <- performance(pr, measure = \"tpr\", x.measure = \"fpr\")\n",
    "plot(prf)\n",
    "\n",
    "auc <- performance(pr, measure = \"auc\")\n",
    "auc <- auc@y.values[[1]]\n",
    "auc"
   ]
  },
  {
   "cell_type": "code",
   "execution_count": 30,
   "metadata": {},
   "outputs": [
    {
     "data": {
      "text/plain": [
       "\n",
       "Call:\n",
       "glm(formula = d1_3 ~ definition + need + purpose + interest, \n",
       "    family = binomial, data = train)\n",
       "\n",
       "Deviance Residuals: \n",
       "    Min       1Q   Median       3Q      Max  \n",
       "-0.7234  -0.5382  -0.4475  -0.2426   2.5639  \n",
       "\n",
       "Coefficients:\n",
       "                  Estimate Std. Error z value Pr(>|z|)   \n",
       "(Intercept)        -4.4428     1.6913  -2.627  0.00862 **\n",
       "definitionharmony  -0.0306     0.8984  -0.034  0.97283   \n",
       "needharmony         0.6822     0.8310   0.821  0.41168   \n",
       "purposecosmetic     1.6800     1.1598   1.449  0.14746   \n",
       "purposeetc          1.5156     1.1152   1.359  0.17411   \n",
       "interest            0.1808     0.3375   0.536  0.59218   \n",
       "---\n",
       "Signif. codes:  0 '***' 0.001 '**' 0.01 '*' 0.05 '.' 0.1 ' ' 1\n",
       "\n",
       "(Dispersion parameter for binomial family taken to be 1)\n",
       "\n",
       "    Null deviance: 70.659  on 105  degrees of freedom\n",
       "Residual deviance: 66.288  on 100  degrees of freedom\n",
       "AIC: 78.288\n",
       "\n",
       "Number of Fisher Scoring iterations: 6\n"
      ]
     },
     "metadata": {},
     "output_type": "display_data"
    },
    {
     "data": {
      "text/html": [
       "<table>\n",
       "<thead><tr><th></th><th scope=col>Df</th><th scope=col>Deviance</th><th scope=col>Resid. Df</th><th scope=col>Resid. Dev</th><th scope=col>Pr(&gt;Chi)</th></tr></thead>\n",
       "<tbody>\n",
       "\t<tr><th scope=row>NULL</th><td>NA       </td><td>       NA</td><td>105      </td><td>70.65878 </td><td>       NA</td></tr>\n",
       "\t<tr><th scope=row>definition</th><td> 1       </td><td>0.2529863</td><td>104      </td><td>70.40580 </td><td>0.6149801</td></tr>\n",
       "\t<tr><th scope=row>need</th><td> 1       </td><td>0.5492081</td><td>103      </td><td>69.85659 </td><td>0.4586415</td></tr>\n",
       "\t<tr><th scope=row>purpose</th><td> 2       </td><td>3.2768571</td><td>101      </td><td>66.57973 </td><td>0.1942851</td></tr>\n",
       "\t<tr><th scope=row>interest</th><td> 1       </td><td>0.2919091</td><td>100      </td><td>66.28782 </td><td>0.5889997</td></tr>\n",
       "</tbody>\n",
       "</table>\n"
      ],
      "text/latex": [
       "\\begin{tabular}{r|lllll}\n",
       "  & Df & Deviance & Resid. Df & Resid. Dev & Pr(>Chi)\\\\\n",
       "\\hline\n",
       "\tNULL & NA        &        NA & 105       & 70.65878  &        NA\\\\\n",
       "\tdefinition &  1        & 0.2529863 & 104       & 70.40580  & 0.6149801\\\\\n",
       "\tneed &  1        & 0.5492081 & 103       & 69.85659  & 0.4586415\\\\\n",
       "\tpurpose &  2        & 3.2768571 & 101       & 66.57973  & 0.1942851\\\\\n",
       "\tinterest &  1        & 0.2919091 & 100       & 66.28782  & 0.5889997\\\\\n",
       "\\end{tabular}\n"
      ],
      "text/markdown": [
       "\n",
       "| <!--/--> | Df | Deviance | Resid. Df | Resid. Dev | Pr(>Chi) |\n",
       "|---|---|---|---|---|---|\n",
       "| NULL | NA        |        NA | 105       | 70.65878  |        NA |\n",
       "| definition |  1        | 0.2529863 | 104       | 70.40580  | 0.6149801 |\n",
       "| need |  1        | 0.5492081 | 103       | 69.85659  | 0.4586415 |\n",
       "| purpose |  2        | 3.2768571 | 101       | 66.57973  | 0.1942851 |\n",
       "| interest |  1        | 0.2919091 | 100       | 66.28782  | 0.5889997 |\n",
       "\n"
      ],
      "text/plain": [
       "           Df Deviance  Resid. Df Resid. Dev Pr(>Chi) \n",
       "NULL       NA        NA 105       70.65878          NA\n",
       "definition  1 0.2529863 104       70.40580   0.6149801\n",
       "need        1 0.5492081 103       69.85659   0.4586415\n",
       "purpose     2 3.2768571 101       66.57973   0.1942851\n",
       "interest    1 0.2919091 100       66.28782   0.5889997"
      ]
     },
     "metadata": {},
     "output_type": "display_data"
    },
    {
     "data": {
      "text/html": [
       "0.5325"
      ],
      "text/latex": [
       "0.5325"
      ],
      "text/markdown": [
       "0.5325"
      ],
      "text/plain": [
       "[1] 0.5325"
      ]
     },
     "metadata": {},
     "output_type": "display_data"
    },
    {
     "data": {
      "image/png": "[encoded data removed]",
      "text/plain": [
       "plot without title"
      ]
     },
     "metadata": {},
     "output_type": "display_data"
    }
   ],
   "source": [
    "model <- glm(d1_3 ~ definition + need + purpose \n",
    "              + interest, data =train, family = binomial)\n",
    "summary(model)\n",
    "\n",
    "\n",
    "anova(model, test=\"Chisq\")\n",
    "\n",
    "\n",
    "p <- predict(model, newdata=test, type=\"response\")\n",
    "pr <- prediction(p, test$d1_3)\n",
    "prf <- performance(pr, measure = \"tpr\", x.measure = \"fpr\")\n",
    "plot(prf)\n",
    "\n",
    "auc <- performance(pr, measure = \"auc\")\n",
    "auc <- auc@y.values[[1]]\n",
    "auc"
   ]
  },
  {
   "cell_type": "code",
   "execution_count": 31,
   "metadata": {},
   "outputs": [
    {
     "data": {
      "text/plain": [
       "\n",
       "Call:\n",
       "glm(formula = d1_5 ~ definition + need + purpose + interest, \n",
       "    family = binomial, data = train)\n",
       "\n",
       "Deviance Residuals: \n",
       "    Min       1Q   Median       3Q      Max  \n",
       "-0.8203  -0.7012  -0.5051  -0.3930   2.1507  \n",
       "\n",
       "Coefficients:\n",
       "                  Estimate Std. Error z value Pr(>|z|)  \n",
       "(Intercept)        -2.6703     1.2703  -2.102   0.0355 *\n",
       "definitionharmony   0.9388     0.7691   1.221   0.2222  \n",
       "needharmony         0.2479     0.6337   0.391   0.6957  \n",
       "purposecosmetic    -0.7167     0.7702  -0.931   0.3521  \n",
       "purposeetc         -0.1053     0.6152  -0.171   0.8641  \n",
       "interest            0.1134     0.2864   0.396   0.6921  \n",
       "---\n",
       "Signif. codes:  0 '***' 0.001 '**' 0.01 '*' 0.05 '.' 0.1 ' ' 1\n",
       "\n",
       "(Dispersion parameter for binomial family taken to be 1)\n",
       "\n",
       "    Null deviance: 93.343  on 105  degrees of freedom\n",
       "Residual deviance: 89.232  on 100  degrees of freedom\n",
       "AIC: 101.23\n",
       "\n",
       "Number of Fisher Scoring iterations: 5\n"
      ]
     },
     "metadata": {},
     "output_type": "display_data"
    },
    {
     "data": {
      "text/html": [
       "<table>\n",
       "<thead><tr><th></th><th scope=col>Df</th><th scope=col>Deviance</th><th scope=col>Resid. Df</th><th scope=col>Resid. Dev</th><th scope=col>Pr(&gt;Chi)</th></tr></thead>\n",
       "<tbody>\n",
       "\t<tr><th scope=row>NULL</th><td>NA       </td><td>       NA</td><td>105      </td><td>93.34256 </td><td>       NA</td></tr>\n",
       "\t<tr><th scope=row>definition</th><td> 1       </td><td>2.6340304</td><td>104      </td><td>90.70853 </td><td>0.1045959</td></tr>\n",
       "\t<tr><th scope=row>need</th><td> 1       </td><td>0.2323251</td><td>103      </td><td>90.47621 </td><td>0.6298052</td></tr>\n",
       "\t<tr><th scope=row>purpose</th><td> 2       </td><td>1.0862652</td><td>101      </td><td>89.38994 </td><td>0.5809256</td></tr>\n",
       "\t<tr><th scope=row>interest</th><td> 1       </td><td>0.1578437</td><td>100      </td><td>89.23210 </td><td>0.6911496</td></tr>\n",
       "</tbody>\n",
       "</table>\n"
      ],
      "text/latex": [
       "\\begin{tabular}{r|lllll}\n",
       "  & Df & Deviance & Resid. Df & Resid. Dev & Pr(>Chi)\\\\\n",
       "\\hline\n",
       "\tNULL & NA        &        NA & 105       & 93.34256  &        NA\\\\\n",
       "\tdefinition &  1        & 2.6340304 & 104       & 90.70853  & 0.1045959\\\\\n",
       "\tneed &  1        & 0.2323251 & 103       & 90.47621  & 0.6298052\\\\\n",
       "\tpurpose &  2        & 1.0862652 & 101       & 89.38994  & 0.5809256\\\\\n",
       "\tinterest &  1        & 0.1578437 & 100       & 89.23210  & 0.6911496\\\\\n",
       "\\end{tabular}\n"
      ],
      "text/markdown": [
       "\n",
       "| <!--/--> | Df | Deviance | Resid. Df | Resid. Dev | Pr(>Chi) |\n",
       "|---|---|---|---|---|---|\n",
       "| NULL | NA        |        NA | 105       | 93.34256  |        NA |\n",
       "| definition |  1        | 2.6340304 | 104       | 90.70853  | 0.1045959 |\n",
       "| need |  1        | 0.2323251 | 103       | 90.47621  | 0.6298052 |\n",
       "| purpose |  2        | 1.0862652 | 101       | 89.38994  | 0.5809256 |\n",
       "| interest |  1        | 0.1578437 | 100       | 89.23210  | 0.6911496 |\n",
       "\n"
      ],
      "text/plain": [
       "           Df Deviance  Resid. Df Resid. Dev Pr(>Chi) \n",
       "NULL       NA        NA 105       93.34256          NA\n",
       "definition  1 2.6340304 104       90.70853   0.1045959\n",
       "need        1 0.2323251 103       90.47621   0.6298052\n",
       "purpose     2 1.0862652 101       89.38994   0.5809256\n",
       "interest    1 0.1578437 100       89.23210   0.6911496"
      ]
     },
     "metadata": {},
     "output_type": "display_data"
    },
    {
     "data": {
      "text/html": [
       "0.714285714285714"
      ],
      "text/latex": [
       "0.714285714285714"
      ],
      "text/markdown": [
       "0.714285714285714"
      ],
      "text/plain": [
       "[1] 0.7142857"
      ]
     },
     "metadata": {},
     "output_type": "display_data"
    },
    {
     "data": {
      "image/png": "[encoded data removed]",
      "text/plain": [
       "plot without title"
      ]
     },
     "metadata": {},
     "output_type": "display_data"
    }
   ],
   "source": [
    "model <- glm(d1_5 ~ definition + need + purpose \n",
    "              + interest, data =train, family = binomial)\n",
    "summary(model)\n",
    "\n",
    "\n",
    "anova(model, test=\"Chisq\")\n",
    "\n",
    "\n",
    "p <- predict(model, newdata=test, type=\"response\")\n",
    "pr <- prediction(p, test$d1_5)\n",
    "prf <- performance(pr, measure = \"tpr\", x.measure = \"fpr\")\n",
    "plot(prf)\n",
    "\n",
    "auc <- performance(pr, measure = \"auc\")\n",
    "auc <- auc@y.values[[1]]\n",
    "auc"
   ]
  },
  {
   "cell_type": "code",
   "execution_count": 32,
   "metadata": {},
   "outputs": [
    {
     "data": {
      "text/plain": [
       "\n",
       "Call:\n",
       "glm(formula = d2_1 ~ definition + need + purpose + interest, \n",
       "    family = binomial, data = train)\n",
       "\n",
       "Deviance Residuals: \n",
       "    Min       1Q   Median       3Q      Max  \n",
       "-1.0631  -0.8132  -0.7010   1.3437   1.8288  \n",
       "\n",
       "Coefficients:\n",
       "                  Estimate Std. Error z value Pr(>|z|)  \n",
       "(Intercept)       -2.23404    1.03522  -2.158   0.0309 *\n",
       "definitionharmony  0.32085    0.56022   0.573   0.5668  \n",
       "needharmony       -0.16566    0.52339  -0.317   0.7516  \n",
       "purposecosmetic   -0.41431    0.61279  -0.676   0.4990  \n",
       "purposeetc        -0.06758    0.52465  -0.129   0.8975  \n",
       "interest           0.34116    0.24288   1.405   0.1601  \n",
       "---\n",
       "Signif. codes:  0 '***' 0.001 '**' 0.01 '*' 0.05 '.' 0.1 ' ' 1\n",
       "\n",
       "(Dispersion parameter for binomial family taken to be 1)\n",
       "\n",
       "    Null deviance: 122.40  on 105  degrees of freedom\n",
       "Residual deviance: 119.43  on 100  degrees of freedom\n",
       "AIC: 131.43\n",
       "\n",
       "Number of Fisher Scoring iterations: 4\n"
      ]
     },
     "metadata": {},
     "output_type": "display_data"
    },
    {
     "data": {
      "text/html": [
       "<table>\n",
       "<thead><tr><th></th><th scope=col>Df</th><th scope=col>Deviance</th><th scope=col>Resid. Df</th><th scope=col>Resid. Dev</th><th scope=col>Pr(&gt;Chi)</th></tr></thead>\n",
       "<tbody>\n",
       "\t<tr><th scope=row>NULL</th><td>NA        </td><td>        NA</td><td>105       </td><td>122.3991  </td><td>       NA </td></tr>\n",
       "\t<tr><th scope=row>definition</th><td> 1        </td><td>0.05648987</td><td>104       </td><td>122.3426  </td><td>0.8121324 </td></tr>\n",
       "\t<tr><th scope=row>need</th><td> 1        </td><td>0.08121255</td><td>103       </td><td>122.2614  </td><td>0.7756609 </td></tr>\n",
       "\t<tr><th scope=row>purpose</th><td> 2        </td><td>0.78557547</td><td>101       </td><td>121.4758  </td><td>0.6751720 </td></tr>\n",
       "\t<tr><th scope=row>interest</th><td> 1        </td><td>2.04799975</td><td>100       </td><td>119.4278  </td><td>0.1524063 </td></tr>\n",
       "</tbody>\n",
       "</table>\n"
      ],
      "text/latex": [
       "\\begin{tabular}{r|lllll}\n",
       "  & Df & Deviance & Resid. Df & Resid. Dev & Pr(>Chi)\\\\\n",
       "\\hline\n",
       "\tNULL & NA         &         NA & 105        & 122.3991   &        NA \\\\\n",
       "\tdefinition &  1         & 0.05648987 & 104        & 122.3426   & 0.8121324 \\\\\n",
       "\tneed &  1         & 0.08121255 & 103        & 122.2614   & 0.7756609 \\\\\n",
       "\tpurpose &  2         & 0.78557547 & 101        & 121.4758   & 0.6751720 \\\\\n",
       "\tinterest &  1         & 2.04799975 & 100        & 119.4278   & 0.1524063 \\\\\n",
       "\\end{tabular}\n"
      ],
      "text/markdown": [
       "\n",
       "| <!--/--> | Df | Deviance | Resid. Df | Resid. Dev | Pr(>Chi) |\n",
       "|---|---|---|---|---|---|\n",
       "| NULL | NA         |         NA | 105        | 122.3991   |        NA  |\n",
       "| definition |  1         | 0.05648987 | 104        | 122.3426   | 0.8121324  |\n",
       "| need |  1         | 0.08121255 | 103        | 122.2614   | 0.7756609  |\n",
       "| purpose |  2         | 0.78557547 | 101        | 121.4758   | 0.6751720  |\n",
       "| interest |  1         | 2.04799975 | 100        | 119.4278   | 0.1524063  |\n",
       "\n"
      ],
      "text/plain": [
       "           Df Deviance   Resid. Df Resid. Dev Pr(>Chi) \n",
       "NULL       NA         NA 105       122.3991          NA\n",
       "definition  1 0.05648987 104       122.3426   0.8121324\n",
       "need        1 0.08121255 103       122.2614   0.7756609\n",
       "purpose     2 0.78557547 101       121.4758   0.6751720\n",
       "interest    1 2.04799975 100       119.4278   0.1524063"
      ]
     },
     "metadata": {},
     "output_type": "display_data"
    },
    {
     "data": {
      "text/html": [
       "0.378342245989305"
      ],
      "text/latex": [
       "0.378342245989305"
      ],
      "text/markdown": [
       "0.378342245989305"
      ],
      "text/plain": [
       "[1] 0.3783422"
      ]
     },
     "metadata": {},
     "output_type": "display_data"
    },
    {
     "data": {
      "image/png": "[encoded data removed]",
      "text/plain": [
       "plot without title"
      ]
     },
     "metadata": {},
     "output_type": "display_data"
    }
   ],
   "source": [
    "model <- glm(d2_1 ~ definition + need + purpose \n",
    "              + interest, data =train, family = binomial)\n",
    "summary(model)\n",
    "\n",
    "\n",
    "anova(model, test=\"Chisq\")\n",
    "\n",
    "\n",
    "p <- predict(model, newdata=test, type=\"response\")\n",
    "pr <- prediction(p, test$d2_1)\n",
    "prf <- performance(pr, measure = \"tpr\", x.measure = \"fpr\")\n",
    "plot(prf)\n",
    "\n",
    "auc <- performance(pr, measure = \"auc\")\n",
    "auc <- auc@y.values[[1]]\n",
    "auc"
   ]
  },
  {
   "cell_type": "code",
   "execution_count": 33,
   "metadata": {},
   "outputs": [
    {
     "data": {
      "text/plain": [
       "\n",
       "Call:\n",
       "glm(formula = d2_2 ~ definition + need + purpose + interest, \n",
       "    family = binomial, data = train)\n",
       "\n",
       "Deviance Residuals: \n",
       "    Min       1Q   Median       3Q      Max  \n",
       "-1.1434  -0.8245  -0.7329   1.3216   1.9385  \n",
       "\n",
       "Coefficients:\n",
       "                  Estimate Std. Error z value Pr(>|z|)\n",
       "(Intercept)         0.2131     0.9468   0.225    0.822\n",
       "definitionharmony  -0.3492     0.5530  -0.632    0.528\n",
       "needharmony         0.2421     0.5287   0.458    0.647\n",
       "purposecosmetic    -0.8307     0.5926  -1.402    0.161\n",
       "purposeetc         -0.4507     0.5032  -0.896    0.370\n",
       "interest           -0.1866     0.2298  -0.812    0.417\n",
       "\n",
       "(Dispersion parameter for binomial family taken to be 1)\n",
       "\n",
       "    Null deviance: 126.31  on 105  degrees of freedom\n",
       "Residual deviance: 123.08  on 100  degrees of freedom\n",
       "AIC: 135.08\n",
       "\n",
       "Number of Fisher Scoring iterations: 4\n"
      ]
     },
     "metadata": {},
     "output_type": "display_data"
    },
    {
     "data": {
      "text/html": [
       "<table>\n",
       "<thead><tr><th></th><th scope=col>Df</th><th scope=col>Deviance</th><th scope=col>Resid. Df</th><th scope=col>Resid. Dev</th><th scope=col>Pr(&gt;Chi)</th></tr></thead>\n",
       "<tbody>\n",
       "\t<tr><th scope=row>NULL</th><td>NA       </td><td>       NA</td><td>105      </td><td>126.3058 </td><td>       NA</td></tr>\n",
       "\t<tr><th scope=row>definition</th><td> 1       </td><td>0.1354629</td><td>104      </td><td>126.1703 </td><td>0.7128339</td></tr>\n",
       "\t<tr><th scope=row>need</th><td> 1       </td><td>0.3629638</td><td>103      </td><td>125.8074 </td><td>0.5468648</td></tr>\n",
       "\t<tr><th scope=row>purpose</th><td> 2       </td><td>2.0672280</td><td>101      </td><td>123.7401 </td><td>0.3557191</td></tr>\n",
       "\t<tr><th scope=row>interest</th><td> 1       </td><td>0.6615089</td><td>100      </td><td>123.0786 </td><td>0.4160277</td></tr>\n",
       "</tbody>\n",
       "</table>\n"
      ],
      "text/latex": [
       "\\begin{tabular}{r|lllll}\n",
       "  & Df & Deviance & Resid. Df & Resid. Dev & Pr(>Chi)\\\\\n",
       "\\hline\n",
       "\tNULL & NA        &        NA & 105       & 126.3058  &        NA\\\\\n",
       "\tdefinition &  1        & 0.1354629 & 104       & 126.1703  & 0.7128339\\\\\n",
       "\tneed &  1        & 0.3629638 & 103       & 125.8074  & 0.5468648\\\\\n",
       "\tpurpose &  2        & 2.0672280 & 101       & 123.7401  & 0.3557191\\\\\n",
       "\tinterest &  1        & 0.6615089 & 100       & 123.0786  & 0.4160277\\\\\n",
       "\\end{tabular}\n"
      ],
      "text/markdown": [
       "\n",
       "| <!--/--> | Df | Deviance | Resid. Df | Resid. Dev | Pr(>Chi) |\n",
       "|---|---|---|---|---|---|\n",
       "| NULL | NA        |        NA | 105       | 126.3058  |        NA |\n",
       "| definition |  1        | 0.1354629 | 104       | 126.1703  | 0.7128339 |\n",
       "| need |  1        | 0.3629638 | 103       | 125.8074  | 0.5468648 |\n",
       "| purpose |  2        | 2.0672280 | 101       | 123.7401  | 0.3557191 |\n",
       "| interest |  1        | 0.6615089 | 100       | 123.0786  | 0.4160277 |\n",
       "\n"
      ],
      "text/plain": [
       "           Df Deviance  Resid. Df Resid. Dev Pr(>Chi) \n",
       "NULL       NA        NA 105       126.3058          NA\n",
       "definition  1 0.1354629 104       126.1703   0.7128339\n",
       "need        1 0.3629638 103       125.8074   0.5468648\n",
       "purpose     2 2.0672280 101       123.7401   0.3557191\n",
       "interest    1 0.6615089 100       123.0786   0.4160277"
      ]
     },
     "metadata": {},
     "output_type": "display_data"
    },
    {
     "data": {
      "text/html": [
       "0.575187969924812"
      ],
      "text/latex": [
       "0.575187969924812"
      ],
      "text/markdown": [
       "0.575187969924812"
      ],
      "text/plain": [
       "[1] 0.575188"
      ]
     },
     "metadata": {},
     "output_type": "display_data"
    },
    {
     "data": {
      "image/png": "[encoded data removed]",
      "text/plain": [
       "plot without title"
      ]
     },
     "metadata": {},
     "output_type": "display_data"
    }
   ],
   "source": [
    "model <- glm(d2_2 ~ definition + need + purpose \n",
    "              + interest, data =train, family = binomial)\n",
    "summary(model)\n",
    "\n",
    "\n",
    "anova(model, test=\"Chisq\")\n",
    "\n",
    "\n",
    "p <- predict(model, newdata=test, type=\"response\")\n",
    "pr <- prediction(p, test$d2_2)\n",
    "prf <- performance(pr, measure = \"tpr\", x.measure = \"fpr\")\n",
    "plot(prf)\n",
    "\n",
    "auc <- performance(pr, measure = \"auc\")\n",
    "auc <- auc@y.values[[1]]\n",
    "auc"
   ]
  },
  {
   "cell_type": "code",
   "execution_count": 34,
   "metadata": {},
   "outputs": [
    {
     "data": {
      "text/plain": [
       "\n",
       "Call:\n",
       "glm(formula = d2_3 ~ definition + need + purpose + interest, \n",
       "    family = binomial, data = train)\n",
       "\n",
       "Deviance Residuals: \n",
       "    Min       1Q   Median       3Q      Max  \n",
       "-0.7187  -0.6457  -0.5328  -0.3394   2.4245  \n",
       "\n",
       "Coefficients:\n",
       "                  Estimate Std. Error z value Pr(>|z|)  \n",
       "(Intercept)       -3.25421    1.35945  -2.394   0.0167 *\n",
       "definitionharmony  0.19239    0.76731   0.251   0.8020  \n",
       "needharmony        0.37233    0.69845   0.533   0.5940  \n",
       "purposecosmetic    1.17237    0.88638   1.323   0.1860  \n",
       "purposeetc         1.16150    0.83478   1.391   0.1641  \n",
       "interest           0.05907    0.29169   0.203   0.8395  \n",
       "---\n",
       "Signif. codes:  0 '***' 0.001 '**' 0.01 '*' 0.05 '.' 0.1 ' ' 1\n",
       "\n",
       "(Dispersion parameter for binomial family taken to be 1)\n",
       "\n",
       "    Null deviance: 86.431  on 105  degrees of freedom\n",
       "Residual deviance: 82.992  on 100  degrees of freedom\n",
       "AIC: 94.992\n",
       "\n",
       "Number of Fisher Scoring iterations: 5\n"
      ]
     },
     "metadata": {},
     "output_type": "display_data"
    },
    {
     "data": {
      "text/html": [
       "<table>\n",
       "<thead><tr><th></th><th scope=col>Df</th><th scope=col>Deviance</th><th scope=col>Resid. Df</th><th scope=col>Resid. Dev</th><th scope=col>Pr(&gt;Chi)</th></tr></thead>\n",
       "<tbody>\n",
       "\t<tr><th scope=row>NULL</th><td>NA       </td><td>       NA</td><td>105      </td><td>86.43115 </td><td>       NA</td></tr>\n",
       "\t<tr><th scope=row>definition</th><td> 1       </td><td>0.4290213</td><td>104      </td><td>86.00213 </td><td>0.5124696</td></tr>\n",
       "\t<tr><th scope=row>need</th><td> 1       </td><td>0.2370968</td><td>103      </td><td>85.76503 </td><td>0.6263109</td></tr>\n",
       "\t<tr><th scope=row>purpose</th><td> 2       </td><td>2.7322625</td><td>101      </td><td>83.03277 </td><td>0.2550919</td></tr>\n",
       "\t<tr><th scope=row>interest</th><td> 1       </td><td>0.0411604</td><td>100      </td><td>82.99161 </td><td>0.8392286</td></tr>\n",
       "</tbody>\n",
       "</table>\n"
      ],
      "text/latex": [
       "\\begin{tabular}{r|lllll}\n",
       "  & Df & Deviance & Resid. Df & Resid. Dev & Pr(>Chi)\\\\\n",
       "\\hline\n",
       "\tNULL & NA        &        NA & 105       & 86.43115  &        NA\\\\\n",
       "\tdefinition &  1        & 0.4290213 & 104       & 86.00213  & 0.5124696\\\\\n",
       "\tneed &  1        & 0.2370968 & 103       & 85.76503  & 0.6263109\\\\\n",
       "\tpurpose &  2        & 2.7322625 & 101       & 83.03277  & 0.2550919\\\\\n",
       "\tinterest &  1        & 0.0411604 & 100       & 82.99161  & 0.8392286\\\\\n",
       "\\end{tabular}\n"
      ],
      "text/markdown": [
       "\n",
       "| <!--/--> | Df | Deviance | Resid. Df | Resid. Dev | Pr(>Chi) |\n",
       "|---|---|---|---|---|---|\n",
       "| NULL | NA        |        NA | 105       | 86.43115  |        NA |\n",
       "| definition |  1        | 0.4290213 | 104       | 86.00213  | 0.5124696 |\n",
       "| need |  1        | 0.2370968 | 103       | 85.76503  | 0.6263109 |\n",
       "| purpose |  2        | 2.7322625 | 101       | 83.03277  | 0.2550919 |\n",
       "| interest |  1        | 0.0411604 | 100       | 82.99161  | 0.8392286 |\n",
       "\n"
      ],
      "text/plain": [
       "           Df Deviance  Resid. Df Resid. Dev Pr(>Chi) \n",
       "NULL       NA        NA 105       86.43115          NA\n",
       "definition  1 0.4290213 104       86.00213   0.5124696\n",
       "need        1 0.2370968 103       85.76503   0.6263109\n",
       "purpose     2 2.7322625 101       83.03277   0.2550919\n",
       "interest    1 0.0411604 100       82.99161   0.8392286"
      ]
     },
     "metadata": {},
     "output_type": "display_data"
    },
    {
     "data": {
      "text/html": [
       "0.6775"
      ],
      "text/latex": [
       "0.6775"
      ],
      "text/markdown": [
       "0.6775"
      ],
      "text/plain": [
       "[1] 0.6775"
      ]
     },
     "metadata": {},
     "output_type": "display_data"
    },
    {
     "data": {
      "image/png": "[encoded data removed]",
      "text/plain": [
       "plot without title"
      ]
     },
     "metadata": {},
     "output_type": "display_data"
    }
   ],
   "source": [
    "model <- glm(d2_3 ~ definition + need + purpose \n",
    "              + interest, data =train, family = binomial)\n",
    "summary(model)\n",
    "\n",
    "\n",
    "anova(model, test=\"Chisq\")\n",
    "\n",
    "\n",
    "p <- predict(model, newdata=test, type=\"response\")\n",
    "pr <- prediction(p, test$d2_3)\n",
    "prf <- performance(pr, measure = \"tpr\", x.measure = \"fpr\")\n",
    "plot(prf)\n",
    "\n",
    "auc <- performance(pr, measure = \"auc\")\n",
    "auc <- auc@y.values[[1]]\n",
    "auc"
   ]
  },
  {
   "cell_type": "code",
   "execution_count": 35,
   "metadata": {},
   "outputs": [
    {
     "data": {
      "text/plain": [
       "\n",
       "Call:\n",
       "glm(formula = d2_4 ~ definition + need + purpose + interest, \n",
       "    family = binomial, data = train)\n",
       "\n",
       "Deviance Residuals: \n",
       "    Min       1Q   Median       3Q      Max  \n",
       "-1.0938  -0.7610  -0.6466  -0.4831   2.0976  \n",
       "\n",
       "Coefficients:\n",
       "                   Estimate Std. Error z value Pr(>|z|)\n",
       "(Intercept)        0.037673   1.001400   0.038    0.970\n",
       "definitionharmony  0.336158   0.587257   0.572    0.567\n",
       "needharmony       -0.583736   0.554952  -1.052    0.293\n",
       "purposecosmetic    0.386452   0.599071   0.645    0.519\n",
       "purposeetc         0.008857   0.579433   0.015    0.988\n",
       "interest          -0.376310   0.246041  -1.529    0.126\n",
       "\n",
       "(Dispersion parameter for binomial family taken to be 1)\n",
       "\n",
       "    Null deviance: 115.80  on 105  degrees of freedom\n",
       "Residual deviance: 111.22  on 100  degrees of freedom\n",
       "AIC: 123.22\n",
       "\n",
       "Number of Fisher Scoring iterations: 4\n"
      ]
     },
     "metadata": {},
     "output_type": "display_data"
    },
    {
     "data": {
      "text/html": [
       "<table>\n",
       "<thead><tr><th></th><th scope=col>Df</th><th scope=col>Deviance</th><th scope=col>Resid. Df</th><th scope=col>Resid. Dev</th><th scope=col>Pr(&gt;Chi)</th></tr></thead>\n",
       "<tbody>\n",
       "\t<tr><th scope=row>NULL</th><td>NA        </td><td>        NA</td><td>105       </td><td>115.8045  </td><td>       NA </td></tr>\n",
       "\t<tr><th scope=row>definition</th><td> 1        </td><td>0.05654997</td><td>104       </td><td>115.7480  </td><td>0.8120344 </td></tr>\n",
       "\t<tr><th scope=row>need</th><td> 1        </td><td>1.16269750</td><td>103       </td><td>114.5853  </td><td>0.2809068 </td></tr>\n",
       "\t<tr><th scope=row>purpose</th><td> 2        </td><td>0.96183420</td><td>101       </td><td>113.6235  </td><td>0.6182162 </td></tr>\n",
       "\t<tr><th scope=row>interest</th><td> 1        </td><td>2.39995285</td><td>100       </td><td>111.2235  </td><td>0.1213389 </td></tr>\n",
       "</tbody>\n",
       "</table>\n"
      ],
      "text/latex": [
       "\\begin{tabular}{r|lllll}\n",
       "  & Df & Deviance & Resid. Df & Resid. Dev & Pr(>Chi)\\\\\n",
       "\\hline\n",
       "\tNULL & NA         &         NA & 105        & 115.8045   &        NA \\\\\n",
       "\tdefinition &  1         & 0.05654997 & 104        & 115.7480   & 0.8120344 \\\\\n",
       "\tneed &  1         & 1.16269750 & 103        & 114.5853   & 0.2809068 \\\\\n",
       "\tpurpose &  2         & 0.96183420 & 101        & 113.6235   & 0.6182162 \\\\\n",
       "\tinterest &  1         & 2.39995285 & 100        & 111.2235   & 0.1213389 \\\\\n",
       "\\end{tabular}\n"
      ],
      "text/markdown": [
       "\n",
       "| <!--/--> | Df | Deviance | Resid. Df | Resid. Dev | Pr(>Chi) |\n",
       "|---|---|---|---|---|---|\n",
       "| NULL | NA         |         NA | 105        | 115.8045   |        NA  |\n",
       "| definition |  1         | 0.05654997 | 104        | 115.7480   | 0.8120344  |\n",
       "| need |  1         | 1.16269750 | 103        | 114.5853   | 0.2809068  |\n",
       "| purpose |  2         | 0.96183420 | 101        | 113.6235   | 0.6182162  |\n",
       "| interest |  1         | 2.39995285 | 100        | 111.2235   | 0.1213389  |\n",
       "\n"
      ],
      "text/plain": [
       "           Df Deviance   Resid. Df Resid. Dev Pr(>Chi) \n",
       "NULL       NA         NA 105       115.8045          NA\n",
       "definition  1 0.05654997 104       115.7480   0.8120344\n",
       "need        1 1.16269750 103       114.5853   0.2809068\n",
       "purpose     2 0.96183420 101       113.6235   0.6182162\n",
       "interest    1 2.39995285 100       111.2235   0.1213389"
      ]
     },
     "metadata": {},
     "output_type": "display_data"
    },
    {
     "data": {
      "text/html": [
       "0.364444444444444"
      ],
      "text/latex": [
       "0.364444444444444"
      ],
      "text/markdown": [
       "0.364444444444444"
      ],
      "text/plain": [
       "[1] 0.3644444"
      ]
     },
     "metadata": {},
     "output_type": "display_data"
    },
    {
     "data": {
      "image/png": "[encoded data removed]",
      "text/plain": [
       "plot without title"
      ]
     },
     "metadata": {},
     "output_type": "display_data"
    }
   ],
   "source": [
    "model <- glm(d2_4 ~ definition + need + purpose \n",
    "              + interest, data =train, family = binomial)\n",
    "summary(model)\n",
    "\n",
    "\n",
    "anova(model, test=\"Chisq\")\n",
    "\n",
    "\n",
    "p <- predict(model, newdata=test, type=\"response\")\n",
    "pr <- prediction(p, test$d2_4)\n",
    "prf <- performance(pr, measure = \"tpr\", x.measure = \"fpr\")\n",
    "plot(prf)\n",
    "\n",
    "auc <- performance(pr, measure = \"auc\")\n",
    "auc <- auc@y.values[[1]]\n",
    "auc"
   ]
  },
  {
   "cell_type": "code",
   "execution_count": 36,
   "metadata": {},
   "outputs": [
    {
     "data": {
      "text/plain": [
       "\n",
       "Call:\n",
       "glm(formula = d2_5 ~ definition + need + purpose + interest, \n",
       "    family = binomial, data = train)\n",
       "\n",
       "Deviance Residuals: \n",
       "    Min       1Q   Median       3Q      Max  \n",
       "-0.7960  -0.4315  -0.3460  -0.2775   2.5394  \n",
       "\n",
       "Coefficients:\n",
       "                  Estimate Std. Error z value Pr(>|z|)  \n",
       "(Intercept)       -4.16044    1.80979  -2.299   0.0215 *\n",
       "definitionharmony -0.96550    0.91929  -1.050   0.2936  \n",
       "needharmony        0.57948    0.91060   0.636   0.5245  \n",
       "purposecosmetic    0.71206    0.98221   0.725   0.4685  \n",
       "purposeetc        -0.04877    0.97235  -0.050   0.9600  \n",
       "interest           0.47050    0.41344   1.138   0.2551  \n",
       "---\n",
       "Signif. codes:  0 '***' 0.001 '**' 0.01 '*' 0.05 '.' 0.1 ' ' 1\n",
       "\n",
       "(Dispersion parameter for binomial family taken to be 1)\n",
       "\n",
       "    Null deviance: 56.724  on 105  degrees of freedom\n",
       "Residual deviance: 53.469  on 100  degrees of freedom\n",
       "AIC: 65.469\n",
       "\n",
       "Number of Fisher Scoring iterations: 6\n"
      ]
     },
     "metadata": {},
     "output_type": "display_data"
    },
    {
     "data": {
      "text/html": [
       "<table>\n",
       "<thead><tr><th></th><th scope=col>Df</th><th scope=col>Deviance</th><th scope=col>Resid. Df</th><th scope=col>Resid. Dev</th><th scope=col>Pr(&gt;Chi)</th></tr></thead>\n",
       "<tbody>\n",
       "\t<tr><th scope=row>NULL</th><td>NA       </td><td>       NA</td><td>105      </td><td>56.72440 </td><td>       NA</td></tr>\n",
       "\t<tr><th scope=row>definition</th><td> 1       </td><td>0.9439335</td><td>104      </td><td>55.78046 </td><td>0.3312683</td></tr>\n",
       "\t<tr><th scope=row>need</th><td> 1       </td><td>0.3443427</td><td>103      </td><td>55.43612 </td><td>0.5573332</td></tr>\n",
       "\t<tr><th scope=row>purpose</th><td> 2       </td><td>0.5838907</td><td>101      </td><td>54.85223 </td><td>0.7468094</td></tr>\n",
       "\t<tr><th scope=row>interest</th><td> 1       </td><td>1.3834247</td><td>100      </td><td>53.46881 </td><td>0.2395187</td></tr>\n",
       "</tbody>\n",
       "</table>\n"
      ],
      "text/latex": [
       "\\begin{tabular}{r|lllll}\n",
       "  & Df & Deviance & Resid. Df & Resid. Dev & Pr(>Chi)\\\\\n",
       "\\hline\n",
       "\tNULL & NA        &        NA & 105       & 56.72440  &        NA\\\\\n",
       "\tdefinition &  1        & 0.9439335 & 104       & 55.78046  & 0.3312683\\\\\n",
       "\tneed &  1        & 0.3443427 & 103       & 55.43612  & 0.5573332\\\\\n",
       "\tpurpose &  2        & 0.5838907 & 101       & 54.85223  & 0.7468094\\\\\n",
       "\tinterest &  1        & 1.3834247 & 100       & 53.46881  & 0.2395187\\\\\n",
       "\\end{tabular}\n"
      ],
      "text/markdown": [
       "\n",
       "| <!--/--> | Df | Deviance | Resid. Df | Resid. Dev | Pr(>Chi) |\n",
       "|---|---|---|---|---|---|\n",
       "| NULL | NA        |        NA | 105       | 56.72440  |        NA |\n",
       "| definition |  1        | 0.9439335 | 104       | 55.78046  | 0.3312683 |\n",
       "| need |  1        | 0.3443427 | 103       | 55.43612  | 0.5573332 |\n",
       "| purpose |  2        | 0.5838907 | 101       | 54.85223  | 0.7468094 |\n",
       "| interest |  1        | 1.3834247 | 100       | 53.46881  | 0.2395187 |\n",
       "\n"
      ],
      "text/plain": [
       "           Df Deviance  Resid. Df Resid. Dev Pr(>Chi) \n",
       "NULL       NA        NA 105       56.72440          NA\n",
       "definition  1 0.9439335 104       55.78046   0.3312683\n",
       "need        1 0.3443427 103       55.43612   0.5573332\n",
       "purpose     2 0.5838907 101       54.85223   0.7468094\n",
       "interest    1 1.3834247 100       53.46881   0.2395187"
      ]
     },
     "metadata": {},
     "output_type": "display_data"
    },
    {
     "data": {
      "text/html": [
       "0.413533834586466"
      ],
      "text/latex": [
       "0.413533834586466"
      ],
      "text/markdown": [
       "0.413533834586466"
      ],
      "text/plain": [
       "[1] 0.4135338"
      ]
     },
     "metadata": {},
     "output_type": "display_data"
    },
    {
     "data": {
      "image/png": "[encoded data removed]",
      "text/plain": [
       "plot without title"
      ]
     },
     "metadata": {},
     "output_type": "display_data"
    }
   ],
   "source": [
    "model <- glm(d2_5 ~ definition + need + purpose \n",
    "              + interest, data =train, family = binomial)\n",
    "summary(model)\n",
    "\n",
    "\n",
    "anova(model, test=\"Chisq\")\n",
    "\n",
    "\n",
    "p <- predict(model, newdata=test, type=\"response\")\n",
    "pr <- prediction(p, test$d2_5)\n",
    "prf <- performance(pr, measure = \"tpr\", x.measure = \"fpr\")\n",
    "plot(prf)\n",
    "\n",
    "auc <- performance(pr, measure = \"auc\")\n",
    "auc <- auc@y.values[[1]]\n",
    "auc"
   ]
  },
  {
   "cell_type": "code",
   "execution_count": 37,
   "metadata": {},
   "outputs": [
    {
     "data": {
      "text/plain": [
       "\n",
       "Call:\n",
       "glm(formula = d3_1 ~ definition + need + purpose + interest, \n",
       "    family = binomial, data = train)\n",
       "\n",
       "Deviance Residuals: \n",
       "    Min       1Q   Median       3Q      Max  \n",
       "-1.4660  -0.7764  -0.5464   1.0517   2.3148  \n",
       "\n",
       "Coefficients:\n",
       "                  Estimate Std. Error z value Pr(>|z|)  \n",
       "(Intercept)        -0.9940     1.0229  -0.972   0.3312  \n",
       "definitionharmony  -0.5289     0.5468  -0.967   0.3335  \n",
       "needharmony        -0.5607     0.5405  -1.037   0.2995  \n",
       "purposecosmetic     0.4663     0.5565   0.838   0.4021  \n",
       "purposeetc         -1.2353     0.6077  -2.033   0.0421 *\n",
       "interest            0.2369     0.2521   0.940   0.3473  \n",
       "---\n",
       "Signif. codes:  0 '***' 0.001 '**' 0.01 '*' 0.05 '.' 0.1 ' ' 1\n",
       "\n",
       "(Dispersion parameter for binomial family taken to be 1)\n",
       "\n",
       "    Null deviance: 122.40  on 105  degrees of freedom\n",
       "Residual deviance: 109.25  on 100  degrees of freedom\n",
       "AIC: 121.25\n",
       "\n",
       "Number of Fisher Scoring iterations: 4\n"
      ]
     },
     "metadata": {},
     "output_type": "display_data"
    },
    {
     "data": {
      "text/html": [
       "<table>\n",
       "<thead><tr><th></th><th scope=col>Df</th><th scope=col>Deviance</th><th scope=col>Resid. Df</th><th scope=col>Resid. Dev</th><th scope=col>Pr(&gt;Chi)</th></tr></thead>\n",
       "<tbody>\n",
       "\t<tr><th scope=row>NULL</th><td>NA        </td><td>       NA </td><td>105       </td><td>122.3991  </td><td>        NA</td></tr>\n",
       "\t<tr><th scope=row>definition</th><td> 1        </td><td>2.5659346 </td><td>104       </td><td>119.8331  </td><td>0.10918801</td></tr>\n",
       "\t<tr><th scope=row>need</th><td> 1        </td><td>1.5102252 </td><td>103       </td><td>118.3229  </td><td>0.21910472</td></tr>\n",
       "\t<tr><th scope=row>purpose</th><td> 2        </td><td>8.1753001 </td><td>101       </td><td>110.1476  </td><td>0.01677862</td></tr>\n",
       "\t<tr><th scope=row>interest</th><td> 1        </td><td>0.9009059 </td><td>100       </td><td>109.2467  </td><td>0.34253892</td></tr>\n",
       "</tbody>\n",
       "</table>\n"
      ],
      "text/latex": [
       "\\begin{tabular}{r|lllll}\n",
       "  & Df & Deviance & Resid. Df & Resid. Dev & Pr(>Chi)\\\\\n",
       "\\hline\n",
       "\tNULL & NA         &        NA  & 105        & 122.3991   &         NA\\\\\n",
       "\tdefinition &  1         & 2.5659346  & 104        & 119.8331   & 0.10918801\\\\\n",
       "\tneed &  1         & 1.5102252  & 103        & 118.3229   & 0.21910472\\\\\n",
       "\tpurpose &  2         & 8.1753001  & 101        & 110.1476   & 0.01677862\\\\\n",
       "\tinterest &  1         & 0.9009059  & 100        & 109.2467   & 0.34253892\\\\\n",
       "\\end{tabular}\n"
      ],
      "text/markdown": [
       "\n",
       "| <!--/--> | Df | Deviance | Resid. Df | Resid. Dev | Pr(>Chi) |\n",
       "|---|---|---|---|---|---|\n",
       "| NULL | NA         |        NA  | 105        | 122.3991   |         NA |\n",
       "| definition |  1         | 2.5659346  | 104        | 119.8331   | 0.10918801 |\n",
       "| need |  1         | 1.5102252  | 103        | 118.3229   | 0.21910472 |\n",
       "| purpose |  2         | 8.1753001  | 101        | 110.1476   | 0.01677862 |\n",
       "| interest |  1         | 0.9009059  | 100        | 109.2467   | 0.34253892 |\n",
       "\n"
      ],
      "text/plain": [
       "           Df Deviance  Resid. Df Resid. Dev Pr(>Chi)  \n",
       "NULL       NA        NA 105       122.3991           NA\n",
       "definition  1 2.5659346 104       119.8331   0.10918801\n",
       "need        1 1.5102252 103       118.3229   0.21910472\n",
       "purpose     2 8.1753001 101       110.1476   0.01677862\n",
       "interest    1 0.9009059 100       109.2467   0.34253892"
      ]
     },
     "metadata": {},
     "output_type": "display_data"
    },
    {
     "data": {
      "text/html": [
       "0.524436090225564"
      ],
      "text/latex": [
       "0.524436090225564"
      ],
      "text/markdown": [
       "0.524436090225564"
      ],
      "text/plain": [
       "[1] 0.5244361"
      ]
     },
     "metadata": {},
     "output_type": "display_data"
    },
    {
     "data": {
      "image/png": "[encoded data removed]",
      "text/plain": [
       "plot without title"
      ]
     },
     "metadata": {},
     "output_type": "display_data"
    }
   ],
   "source": [
    "model <- glm(d3_1 ~ definition + need + purpose \n",
    "              + interest, data =train, family = binomial)\n",
    "summary(model)\n",
    "\n",
    "\n",
    "anova(model, test=\"Chisq\")\n",
    "\n",
    "\n",
    "p <- predict(model, newdata=test, type=\"response\")\n",
    "pr <- prediction(p, test$d3_1)\n",
    "prf <- performance(pr, measure = \"tpr\", x.measure = \"fpr\")\n",
    "plot(prf)\n",
    "\n",
    "auc <- performance(pr, measure = \"auc\")\n",
    "auc <- auc@y.values[[1]]\n",
    "auc"
   ]
  },
  {
   "cell_type": "code",
   "execution_count": 38,
   "metadata": {},
   "outputs": [
    {
     "data": {
      "text/plain": [
       "\n",
       "Call:\n",
       "glm(formula = d3_2 ~ definition + need + purpose + interest, \n",
       "    family = binomial, data = train)\n",
       "\n",
       "Deviance Residuals: \n",
       "    Min       1Q   Median       3Q      Max  \n",
       "-0.8662  -0.7153  -0.5646  -0.3944   2.1799  \n",
       "\n",
       "Coefficients:\n",
       "                  Estimate Std. Error z value Pr(>|z|)\n",
       "(Intercept)        -1.2833     1.1264  -1.139    0.255\n",
       "definitionharmony  -0.3057     0.6889  -0.444    0.657\n",
       "needharmony         0.7106     0.6546   1.085    0.278\n",
       "purposecosmetic    -0.6410     0.7676  -0.835    0.404\n",
       "purposeetc          0.2581     0.5890   0.438    0.661\n",
       "interest           -0.1181     0.2688  -0.439    0.660\n",
       "\n",
       "(Dispersion parameter for binomial family taken to be 1)\n",
       "\n",
       "    Null deviance: 99.692  on 105  degrees of freedom\n",
       "Residual deviance: 96.295  on 100  degrees of freedom\n",
       "AIC: 108.3\n",
       "\n",
       "Number of Fisher Scoring iterations: 4\n"
      ]
     },
     "metadata": {},
     "output_type": "display_data"
    },
    {
     "data": {
      "text/html": [
       "<table>\n",
       "<thead><tr><th></th><th scope=col>Df</th><th scope=col>Deviance</th><th scope=col>Resid. Df</th><th scope=col>Resid. Dev</th><th scope=col>Pr(&gt;Chi)</th></tr></thead>\n",
       "<tbody>\n",
       "\t<tr><th scope=row>NULL</th><td>NA       </td><td>       NA</td><td>105      </td><td>99.69239 </td><td>       NA</td></tr>\n",
       "\t<tr><th scope=row>definition</th><td> 1       </td><td>0.0591810</td><td>104      </td><td>99.63321 </td><td>0.8077951</td></tr>\n",
       "\t<tr><th scope=row>need</th><td> 1       </td><td>1.5652841</td><td>103      </td><td>98.06793 </td><td>0.2108932</td></tr>\n",
       "\t<tr><th scope=row>purpose</th><td> 2       </td><td>1.5797091</td><td>101      </td><td>96.48822 </td><td>0.4539108</td></tr>\n",
       "\t<tr><th scope=row>interest</th><td> 1       </td><td>0.1928142</td><td>100      </td><td>96.29541 </td><td>0.6605846</td></tr>\n",
       "</tbody>\n",
       "</table>\n"
      ],
      "text/latex": [
       "\\begin{tabular}{r|lllll}\n",
       "  & Df & Deviance & Resid. Df & Resid. Dev & Pr(>Chi)\\\\\n",
       "\\hline\n",
       "\tNULL & NA        &        NA & 105       & 99.69239  &        NA\\\\\n",
       "\tdefinition &  1        & 0.0591810 & 104       & 99.63321  & 0.8077951\\\\\n",
       "\tneed &  1        & 1.5652841 & 103       & 98.06793  & 0.2108932\\\\\n",
       "\tpurpose &  2        & 1.5797091 & 101       & 96.48822  & 0.4539108\\\\\n",
       "\tinterest &  1        & 0.1928142 & 100       & 96.29541  & 0.6605846\\\\\n",
       "\\end{tabular}\n"
      ],
      "text/markdown": [
       "\n",
       "| <!--/--> | Df | Deviance | Resid. Df | Resid. Dev | Pr(>Chi) |\n",
       "|---|---|---|---|---|---|\n",
       "| NULL | NA        |        NA | 105       | 99.69239  |        NA |\n",
       "| definition |  1        | 0.0591810 | 104       | 99.63321  | 0.8077951 |\n",
       "| need |  1        | 1.5652841 | 103       | 98.06793  | 0.2108932 |\n",
       "| purpose |  2        | 1.5797091 | 101       | 96.48822  | 0.4539108 |\n",
       "| interest |  1        | 0.1928142 | 100       | 96.29541  | 0.6605846 |\n",
       "\n"
      ],
      "text/plain": [
       "           Df Deviance  Resid. Df Resid. Dev Pr(>Chi) \n",
       "NULL       NA        NA 105       99.69239          NA\n",
       "definition  1 0.0591810 104       99.63321   0.8077951\n",
       "need        1 1.5652841 103       98.06793   0.2108932\n",
       "purpose     2 1.5797091 101       96.48822   0.4539108\n",
       "interest    1 0.1928142 100       96.29541   0.6605846"
      ]
     },
     "metadata": {},
     "output_type": "display_data"
    },
    {
     "data": {
      "text/html": [
       "0.800751879699248"
      ],
      "text/latex": [
       "0.800751879699248"
      ],
      "text/markdown": [
       "0.800751879699248"
      ],
      "text/plain": [
       "[1] 0.8007519"
      ]
     },
     "metadata": {},
     "output_type": "display_data"
    },
    {
     "data": {
      "image/png": "[encoded data removed]",
      "text/plain": [
       "plot without title"
      ]
     },
     "metadata": {},
     "output_type": "display_data"
    }
   ],
   "source": [
    "model <- glm(d3_2 ~ definition + need + purpose \n",
    "              + interest, data =train, family = binomial)\n",
    "summary(model)\n",
    "\n",
    "\n",
    "anova(model, test=\"Chisq\")\n",
    "\n",
    "\n",
    "p <- predict(model, newdata=test, type=\"response\")\n",
    "pr <- prediction(p, test$d3_2)\n",
    "prf <- performance(pr, measure = \"tpr\", x.measure = \"fpr\")\n",
    "plot(prf)\n",
    "\n",
    "auc <- performance(pr, measure = \"auc\")\n",
    "auc <- auc@y.values[[1]]\n",
    "auc"
   ]
  },
  {
   "cell_type": "code",
   "execution_count": 39,
   "metadata": {},
   "outputs": [
    {
     "data": {
      "text/plain": [
       "\n",
       "Call:\n",
       "glm(formula = d3_3 ~ definition + need + purpose + interest, \n",
       "    family = binomial, data = train)\n",
       "\n",
       "Deviance Residuals: \n",
       "    Min       1Q   Median       3Q      Max  \n",
       "-1.0750  -0.6619  -0.5421  -0.4022   2.1747  \n",
       "\n",
       "Coefficients:\n",
       "                  Estimate Std. Error z value Pr(>|z|)  \n",
       "(Intercept)       -3.15085    1.26670  -2.487   0.0129 *\n",
       "definitionharmony  0.85902    0.68051   1.262   0.2068  \n",
       "needharmony       -0.71265    0.61899  -1.151   0.2496  \n",
       "purposecosmetic    0.05577    0.77123   0.072   0.9424  \n",
       "purposeetc         0.66417    0.66233   1.003   0.3160  \n",
       "interest           0.27637    0.28468   0.971   0.3316  \n",
       "---\n",
       "Signif. codes:  0 '***' 0.001 '**' 0.01 '*' 0.05 '.' 0.1 ' ' 1\n",
       "\n",
       "(Dispersion parameter for binomial family taken to be 1)\n",
       "\n",
       "    Null deviance: 96.584  on 105  degrees of freedom\n",
       "Residual deviance: 92.188  on 100  degrees of freedom\n",
       "AIC: 104.19\n",
       "\n",
       "Number of Fisher Scoring iterations: 4\n"
      ]
     },
     "metadata": {},
     "output_type": "display_data"
    },
    {
     "data": {
      "text/html": [
       "<table>\n",
       "<thead><tr><th></th><th scope=col>Df</th><th scope=col>Deviance</th><th scope=col>Resid. Df</th><th scope=col>Resid. Dev</th><th scope=col>Pr(&gt;Chi)</th></tr></thead>\n",
       "<tbody>\n",
       "\t<tr><th scope=row>NULL</th><td>NA       </td><td>       NA</td><td>105      </td><td>96.58443 </td><td>       NA</td></tr>\n",
       "\t<tr><th scope=row>definition</th><td> 1       </td><td>0.3798415</td><td>104      </td><td>96.20458 </td><td>0.5376881</td></tr>\n",
       "\t<tr><th scope=row>need</th><td> 1       </td><td>1.1570554</td><td>103      </td><td>95.04753 </td><td>0.2820771</td></tr>\n",
       "\t<tr><th scope=row>purpose</th><td> 2       </td><td>1.8933953</td><td>101      </td><td>93.15413 </td><td>0.3880203</td></tr>\n",
       "\t<tr><th scope=row>interest</th><td> 1       </td><td>0.9656459</td><td>100      </td><td>92.18849 </td><td>0.3257685</td></tr>\n",
       "</tbody>\n",
       "</table>\n"
      ],
      "text/latex": [
       "\\begin{tabular}{r|lllll}\n",
       "  & Df & Deviance & Resid. Df & Resid. Dev & Pr(>Chi)\\\\\n",
       "\\hline\n",
       "\tNULL & NA        &        NA & 105       & 96.58443  &        NA\\\\\n",
       "\tdefinition &  1        & 0.3798415 & 104       & 96.20458  & 0.5376881\\\\\n",
       "\tneed &  1        & 1.1570554 & 103       & 95.04753  & 0.2820771\\\\\n",
       "\tpurpose &  2        & 1.8933953 & 101       & 93.15413  & 0.3880203\\\\\n",
       "\tinterest &  1        & 0.9656459 & 100       & 92.18849  & 0.3257685\\\\\n",
       "\\end{tabular}\n"
      ],
      "text/markdown": [
       "\n",
       "| <!--/--> | Df | Deviance | Resid. Df | Resid. Dev | Pr(>Chi) |\n",
       "|---|---|---|---|---|---|\n",
       "| NULL | NA        |        NA | 105       | 96.58443  |        NA |\n",
       "| definition |  1        | 0.3798415 | 104       | 96.20458  | 0.5376881 |\n",
       "| need |  1        | 1.1570554 | 103       | 95.04753  | 0.2820771 |\n",
       "| purpose |  2        | 1.8933953 | 101       | 93.15413  | 0.3880203 |\n",
       "| interest |  1        | 0.9656459 | 100       | 92.18849  | 0.3257685 |\n",
       "\n"
      ],
      "text/plain": [
       "           Df Deviance  Resid. Df Resid. Dev Pr(>Chi) \n",
       "NULL       NA        NA 105       96.58443          NA\n",
       "definition  1 0.3798415 104       96.20458   0.5376881\n",
       "need        1 1.1570554 103       95.04753   0.2820771\n",
       "purpose     2 1.8933953 101       93.15413   0.3880203\n",
       "interest    1 0.9656459 100       92.18849   0.3257685"
      ]
     },
     "metadata": {},
     "output_type": "display_data"
    },
    {
     "data": {
      "text/html": [
       "0.560096153846154"
      ],
      "text/latex": [
       "0.560096153846154"
      ],
      "text/markdown": [
       "0.560096153846154"
      ],
      "text/plain": [
       "[1] 0.5600962"
      ]
     },
     "metadata": {},
     "output_type": "display_data"
    },
    {
     "data": {
      "image/png": "[encoded data removed]",
      "text/plain": [
       "plot without title"
      ]
     },
     "metadata": {},
     "output_type": "display_data"
    }
   ],
   "source": [
    "model <- glm(d3_3 ~ definition + need + purpose \n",
    "              + interest, data =train, family = binomial)\n",
    "summary(model)\n",
    "\n",
    "\n",
    "anova(model, test=\"Chisq\")\n",
    "\n",
    "\n",
    "p <- predict(model, newdata=test, type=\"response\")\n",
    "pr <- prediction(p, test$d3_3)\n",
    "prf <- performance(pr, measure = \"tpr\", x.measure = \"fpr\")\n",
    "plot(prf)\n",
    "\n",
    "auc <- performance(pr, measure = \"auc\")\n",
    "auc <- auc@y.values[[1]]\n",
    "auc"
   ]
  },
  {
   "cell_type": "code",
   "execution_count": 40,
   "metadata": {},
   "outputs": [
    {
     "data": {
      "text/plain": [
       "\n",
       "Call:\n",
       "glm(formula = d3_4 ~ definition + need + purpose + interest, \n",
       "    family = binomial, data = train)\n",
       "\n",
       "Deviance Residuals: \n",
       "    Min       1Q   Median       3Q      Max  \n",
       "-0.7599  -0.5808  -0.4282  -0.2559   2.6213  \n",
       "\n",
       "Coefficients:\n",
       "                  Estimate Std. Error z value Pr(>|z|)\n",
       "(Intercept)        -1.6151     1.3771  -1.173    0.241\n",
       "definitionharmony  -0.4558     0.8229  -0.554    0.580\n",
       "needharmony         0.1127     0.8027   0.140    0.888\n",
       "purposecosmetic    -1.0598     1.1912  -0.890    0.374\n",
       "purposeetc          0.7772     0.7302   1.064    0.287\n",
       "interest           -0.1283     0.3296  -0.389    0.697\n",
       "\n",
       "(Dispersion parameter for binomial family taken to be 1)\n",
       "\n",
       "    Null deviance: 74.872  on 105  degrees of freedom\n",
       "Residual deviance: 70.279  on 100  degrees of freedom\n",
       "AIC: 82.279\n",
       "\n",
       "Number of Fisher Scoring iterations: 6\n"
      ]
     },
     "metadata": {},
     "output_type": "display_data"
    },
    {
     "data": {
      "text/html": [
       "<table>\n",
       "<thead><tr><th></th><th scope=col>Df</th><th scope=col>Deviance</th><th scope=col>Resid. Df</th><th scope=col>Resid. Dev</th><th scope=col>Pr(&gt;Chi)</th></tr></thead>\n",
       "<tbody>\n",
       "\t<tr><th scope=row>NULL</th><td>NA        </td><td>        NA</td><td>105       </td><td>74.87191  </td><td>       NA </td></tr>\n",
       "\t<tr><th scope=row>definition</th><td> 1        </td><td>0.34851525</td><td>104       </td><td>74.52339  </td><td>0.5549548 </td></tr>\n",
       "\t<tr><th scope=row>need</th><td> 1        </td><td>0.09011284</td><td>103       </td><td>74.43328  </td><td>0.7640338 </td></tr>\n",
       "\t<tr><th scope=row>purpose</th><td> 2        </td><td>4.00309805</td><td>101       </td><td>70.43018  </td><td>0.1351258 </td></tr>\n",
       "\t<tr><th scope=row>interest</th><td> 1        </td><td>0.15125617</td><td>100       </td><td>70.27893  </td><td>0.6973378 </td></tr>\n",
       "</tbody>\n",
       "</table>\n"
      ],
      "text/latex": [
       "\\begin{tabular}{r|lllll}\n",
       "  & Df & Deviance & Resid. Df & Resid. Dev & Pr(>Chi)\\\\\n",
       "\\hline\n",
       "\tNULL & NA         &         NA & 105        & 74.87191   &        NA \\\\\n",
       "\tdefinition &  1         & 0.34851525 & 104        & 74.52339   & 0.5549548 \\\\\n",
       "\tneed &  1         & 0.09011284 & 103        & 74.43328   & 0.7640338 \\\\\n",
       "\tpurpose &  2         & 4.00309805 & 101        & 70.43018   & 0.1351258 \\\\\n",
       "\tinterest &  1         & 0.15125617 & 100        & 70.27893   & 0.6973378 \\\\\n",
       "\\end{tabular}\n"
      ],
      "text/markdown": [
       "\n",
       "| <!--/--> | Df | Deviance | Resid. Df | Resid. Dev | Pr(>Chi) |\n",
       "|---|---|---|---|---|---|\n",
       "| NULL | NA         |         NA | 105        | 74.87191   |        NA  |\n",
       "| definition |  1         | 0.34851525 | 104        | 74.52339   | 0.5549548  |\n",
       "| need |  1         | 0.09011284 | 103        | 74.43328   | 0.7640338  |\n",
       "| purpose |  2         | 4.00309805 | 101        | 70.43018   | 0.1351258  |\n",
       "| interest |  1         | 0.15125617 | 100        | 70.27893   | 0.6973378  |\n",
       "\n"
      ],
      "text/plain": [
       "           Df Deviance   Resid. Df Resid. Dev Pr(>Chi) \n",
       "NULL       NA         NA 105       74.87191          NA\n",
       "definition  1 0.34851525 104       74.52339   0.5549548\n",
       "need        1 0.09011284 103       74.43328   0.7640338\n",
       "purpose     2 4.00309805 101       70.43018   0.1351258\n",
       "interest    1 0.15125617 100       70.27893   0.6973378"
      ]
     },
     "metadata": {},
     "output_type": "display_data"
    },
    {
     "data": {
      "text/html": [
       "0.363175675675676"
      ],
      "text/latex": [
       "0.363175675675676"
      ],
      "text/markdown": [
       "0.363175675675676"
      ],
      "text/plain": [
       "[1] 0.3631757"
      ]
     },
     "metadata": {},
     "output_type": "display_data"
    },
    {
     "data": {
      "image/png": "[encoded data removed]",
      "text/plain": [
       "plot without title"
      ]
     },
     "metadata": {},
     "output_type": "display_data"
    }
   ],
   "source": [
    "model <- glm(d3_4 ~ definition + need + purpose \n",
    "              + interest, data =train, family = binomial)\n",
    "summary(model)\n",
    "\n",
    "\n",
    "anova(model, test=\"Chisq\")\n",
    "\n",
    "\n",
    "p <- predict(model, newdata=test, type=\"response\")\n",
    "pr <- prediction(p, test$d3_4)\n",
    "prf <- performance(pr, measure = \"tpr\", x.measure = \"fpr\")\n",
    "plot(prf)\n",
    "\n",
    "auc <- performance(pr, measure = \"auc\")\n",
    "auc <- auc@y.values[[1]]\n",
    "auc"
   ]
  },
  {
   "cell_type": "code",
   "execution_count": 41,
   "metadata": {},
   "outputs": [
    {
     "data": {
      "text/plain": [
       "\n",
       "Call:\n",
       "glm(formula = d3_5 ~ definition + need + purpose + interest, \n",
       "    family = binomial, data = train)\n",
       "\n",
       "Deviance Residuals: \n",
       "    Min       1Q   Median       3Q      Max  \n",
       "-1.1415  -0.8299  -0.6958   1.3309   2.0381  \n",
       "\n",
       "Coefficients:\n",
       "                  Estimate Std. Error z value Pr(>|z|)\n",
       "(Intercept)        -0.6170     0.9669  -0.638    0.523\n",
       "definitionharmony   0.3228     0.5841   0.553    0.580\n",
       "needharmony         0.4488     0.5295   0.847    0.397\n",
       "purposecosmetic     0.1513     0.5746   0.263    0.792\n",
       "purposeetc         -0.1272     0.5376  -0.237    0.813\n",
       "interest           -0.2398     0.2319  -1.034    0.301\n",
       "\n",
       "(Dispersion parameter for binomial family taken to be 1)\n",
       "\n",
       "    Null deviance: 124.40  on 105  degrees of freedom\n",
       "Residual deviance: 120.37  on 100  degrees of freedom\n",
       "AIC: 132.37\n",
       "\n",
       "Number of Fisher Scoring iterations: 4\n"
      ]
     },
     "metadata": {},
     "output_type": "display_data"
    },
    {
     "data": {
      "text/html": [
       "<table>\n",
       "<thead><tr><th></th><th scope=col>Df</th><th scope=col>Deviance</th><th scope=col>Resid. Df</th><th scope=col>Resid. Dev</th><th scope=col>Pr(&gt;Chi)</th></tr></thead>\n",
       "<tbody>\n",
       "\t<tr><th scope=row>NULL</th><td>NA       </td><td>       NA</td><td>105      </td><td>124.3999 </td><td>       NA</td></tr>\n",
       "\t<tr><th scope=row>definition</th><td> 1       </td><td>1.7842626</td><td>104      </td><td>122.6156 </td><td>0.1816268</td></tr>\n",
       "\t<tr><th scope=row>need</th><td> 1       </td><td>0.6959704</td><td>103      </td><td>121.9197 </td><td>0.4041410</td></tr>\n",
       "\t<tr><th scope=row>purpose</th><td> 2       </td><td>0.4690447</td><td>101      </td><td>121.4506 </td><td>0.7909486</td></tr>\n",
       "\t<tr><th scope=row>interest</th><td> 1       </td><td>1.0788598</td><td>100      </td><td>120.3718 </td><td>0.2989528</td></tr>\n",
       "</tbody>\n",
       "</table>\n"
      ],
      "text/latex": [
       "\\begin{tabular}{r|lllll}\n",
       "  & Df & Deviance & Resid. Df & Resid. Dev & Pr(>Chi)\\\\\n",
       "\\hline\n",
       "\tNULL & NA        &        NA & 105       & 124.3999  &        NA\\\\\n",
       "\tdefinition &  1        & 1.7842626 & 104       & 122.6156  & 0.1816268\\\\\n",
       "\tneed &  1        & 0.6959704 & 103       & 121.9197  & 0.4041410\\\\\n",
       "\tpurpose &  2        & 0.4690447 & 101       & 121.4506  & 0.7909486\\\\\n",
       "\tinterest &  1        & 1.0788598 & 100       & 120.3718  & 0.2989528\\\\\n",
       "\\end{tabular}\n"
      ],
      "text/markdown": [
       "\n",
       "| <!--/--> | Df | Deviance | Resid. Df | Resid. Dev | Pr(>Chi) |\n",
       "|---|---|---|---|---|---|\n",
       "| NULL | NA        |        NA | 105       | 124.3999  |        NA |\n",
       "| definition |  1        | 1.7842626 | 104       | 122.6156  | 0.1816268 |\n",
       "| need |  1        | 0.6959704 | 103       | 121.9197  | 0.4041410 |\n",
       "| purpose |  2        | 0.4690447 | 101       | 121.4506  | 0.7909486 |\n",
       "| interest |  1        | 1.0788598 | 100       | 120.3718  | 0.2989528 |\n",
       "\n"
      ],
      "text/plain": [
       "           Df Deviance  Resid. Df Resid. Dev Pr(>Chi) \n",
       "NULL       NA        NA 105       124.3999          NA\n",
       "definition  1 1.7842626 104       122.6156   0.1816268\n",
       "need        1 0.6959704 103       121.9197   0.4041410\n",
       "purpose     2 0.4690447 101       121.4506   0.7909486\n",
       "interest    1 1.0788598 100       120.3718   0.2989528"
      ]
     },
     "metadata": {},
     "output_type": "display_data"
    },
    {
     "data": {
      "text/html": [
       "0.382857142857143"
      ],
      "text/latex": [
       "0.382857142857143"
      ],
      "text/markdown": [
       "0.382857142857143"
      ],
      "text/plain": [
       "[1] 0.3828571"
      ]
     },
     "metadata": {},
     "output_type": "display_data"
    },
    {
     "data": {
      "image/png": "[encoded data removed]",
      "text/plain": [
       "plot without title"
      ]
     },
     "metadata": {},
     "output_type": "display_data"
    }
   ],
   "source": [
    "model <- glm(d3_5 ~ definition + need + purpose \n",
    "              + interest, data =train, family = binomial)\n",
    "summary(model)\n",
    "\n",
    "\n",
    "anova(model, test=\"Chisq\")\n",
    "\n",
    "\n",
    "p <- predict(model, newdata=test, type=\"response\")\n",
    "pr <- prediction(p, test$d3_5)\n",
    "prf <- performance(pr, measure = \"tpr\", x.measure = \"fpr\")\n",
    "plot(prf)\n",
    "\n",
    "auc <- performance(pr, measure = \"auc\")\n",
    "auc <- auc@y.values[[1]]\n",
    "auc"
   ]
  },
  {
   "cell_type": "code",
   "execution_count": null,
   "metadata": {},
   "outputs": [],
   "source": []
  }
 ],
 "metadata": {
  "kernelspec": {
   "display_name": "R",
   "language": "R",
   "name": "ir"
  },
  "language_info": {
   "codemirror_mode": "r",
   "file_extension": ".r",
   "mimetype": "text/x-r-source",
   "name": "R",
   "pygments_lexer": "r",
   "version": "3.6.1"
  }
 },
 "nbformat": 4,
 "nbformat_minor": 4
}
