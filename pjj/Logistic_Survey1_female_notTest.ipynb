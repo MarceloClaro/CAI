{
 "cells": [
  {
   "cell_type": "code",
   "execution_count": 1,
   "metadata": {
    "scrolled": true
   },
   "outputs": [
    {
     "name": "stderr",
     "output_type": "stream",
     "text": [
      "Warning message:\n",
      "\"package 'ROCR' was built under R version 3.6.3\"Loading required package: gplots\n",
      "Warning message:\n",
      "\"package 'gplots' was built under R version 3.6.3\"\n",
      "Attaching package: 'gplots'\n",
      "\n",
      "The following object is masked from 'package:stats':\n",
      "\n",
      "    lowess\n",
      "\n",
      "Warning message:\n",
      "\"package 'dplyr' was built under R version 3.6.3\"\n",
      "Attaching package: 'dplyr'\n",
      "\n",
      "The following objects are masked from 'package:stats':\n",
      "\n",
      "    filter, lag\n",
      "\n",
      "The following objects are masked from 'package:base':\n",
      "\n",
      "    intersect, setdiff, setequal, union\n",
      "\n"
     ]
    }
   ],
   "source": [
    "library(ROCR)\n",
    "library(dplyr)"
   ]
  },
  {
   "cell_type": "code",
   "execution_count": 2,
   "metadata": {},
   "outputs": [],
   "source": [
    "survey <- read.csv('전처리/1번설문/change_bright.csv')"
   ]
  },
  {
   "cell_type": "code",
   "execution_count": 3,
   "metadata": {
    "scrolled": false
   },
   "outputs": [
    {
     "name": "stdout",
     "output_type": "stream",
     "text": [
      "'data.frame':\t117 obs. of  13 variables:\n",
      " $ X          : int  0 1 2 3 4 5 6 7 8 9 ...\n",
      " $ sex        : Factor w/ 2 levels \"Female\",\"Male\": 2 1 1 1 1 1 1 2 1 1 ...\n",
      " $ age_class  : int  20 20 20 20 20 20 20 20 20 20 ...\n",
      " $ definition : Factor w/ 2 levels \"bright\",\"harmony\": 2 1 1 2 1 2 2 2 2 1 ...\n",
      " $ need       : Factor w/ 2 levels \"bright\",\"harmony\": 2 2 1 2 1 2 2 2 2 1 ...\n",
      " $ purpose    : Factor w/ 3 levels \"clothes\",\"cosmetic\",..: 1 1 1 1 3 3 3 1 1 1 ...\n",
      " $ interest   : int  5 5 3 3 4 2 5 3 4 4 ...\n",
      " $ comp       : int  4 1 2 5 4 3 1 1 1 5 ...\n",
      " $ triangle1  : int  5 1 4 5 2 4 4 1 4 5 ...\n",
      " $ triangle2  : int  2 2 1 4 1 1 5 3 1 2 ...\n",
      " $ doubleness1: int  3 2 2 5 1 2 3 1 1 2 ...\n",
      " $ doubleness2: int  2 3 1 4 2 2 3 5 2 1 ...\n",
      " $ doubleness3: int  2 2 2 1 2 2 3 5 2 5 ...\n"
     ]
    },
    {
     "data": {
      "text/html": [
       "<table>\n",
       "<thead><tr><th scope=col>X</th><th scope=col>sex</th><th scope=col>age_class</th><th scope=col>definition</th><th scope=col>need</th><th scope=col>purpose</th><th scope=col>interest</th><th scope=col>comp</th><th scope=col>triangle1</th><th scope=col>triangle2</th><th scope=col>doubleness1</th><th scope=col>doubleness2</th><th scope=col>doubleness3</th></tr></thead>\n",
       "<tbody>\n",
       "\t<tr><td>0      </td><td>Male   </td><td>20     </td><td>harmony</td><td>harmony</td><td>clothes</td><td>5      </td><td>4      </td><td>5      </td><td>2      </td><td>3      </td><td>2      </td><td>2      </td></tr>\n",
       "\t<tr><td>1      </td><td>Female </td><td>20     </td><td>bright </td><td>harmony</td><td>clothes</td><td>5      </td><td>1      </td><td>1      </td><td>2      </td><td>2      </td><td>3      </td><td>2      </td></tr>\n",
       "\t<tr><td>2      </td><td>Female </td><td>20     </td><td>bright </td><td>bright </td><td>clothes</td><td>3      </td><td>2      </td><td>4      </td><td>1      </td><td>2      </td><td>1      </td><td>2      </td></tr>\n",
       "\t<tr><td>3      </td><td>Female </td><td>20     </td><td>harmony</td><td>harmony</td><td>clothes</td><td>3      </td><td>5      </td><td>5      </td><td>4      </td><td>5      </td><td>4      </td><td>1      </td></tr>\n",
       "\t<tr><td>4      </td><td>Female </td><td>20     </td><td>bright </td><td>bright </td><td>etc    </td><td>4      </td><td>4      </td><td>2      </td><td>1      </td><td>1      </td><td>2      </td><td>2      </td></tr>\n",
       "\t<tr><td>5      </td><td>Female </td><td>20     </td><td>harmony</td><td>harmony</td><td>etc    </td><td>2      </td><td>3      </td><td>4      </td><td>1      </td><td>2      </td><td>2      </td><td>2      </td></tr>\n",
       "</tbody>\n",
       "</table>\n"
      ],
      "text/latex": [
       "\\begin{tabular}{r|lllllllllllll}\n",
       " X & sex & age\\_class & definition & need & purpose & interest & comp & triangle1 & triangle2 & doubleness1 & doubleness2 & doubleness3\\\\\n",
       "\\hline\n",
       "\t 0       & Male    & 20      & harmony & harmony & clothes & 5       & 4       & 5       & 2       & 3       & 2       & 2      \\\\\n",
       "\t 1       & Female  & 20      & bright  & harmony & clothes & 5       & 1       & 1       & 2       & 2       & 3       & 2      \\\\\n",
       "\t 2       & Female  & 20      & bright  & bright  & clothes & 3       & 2       & 4       & 1       & 2       & 1       & 2      \\\\\n",
       "\t 3       & Female  & 20      & harmony & harmony & clothes & 3       & 5       & 5       & 4       & 5       & 4       & 1      \\\\\n",
       "\t 4       & Female  & 20      & bright  & bright  & etc     & 4       & 4       & 2       & 1       & 1       & 2       & 2      \\\\\n",
       "\t 5       & Female  & 20      & harmony & harmony & etc     & 2       & 3       & 4       & 1       & 2       & 2       & 2      \\\\\n",
       "\\end{tabular}\n"
      ],
      "text/markdown": [
       "\n",
       "| X | sex | age_class | definition | need | purpose | interest | comp | triangle1 | triangle2 | doubleness1 | doubleness2 | doubleness3 |\n",
       "|---|---|---|---|---|---|---|---|---|---|---|---|---|\n",
       "| 0       | Male    | 20      | harmony | harmony | clothes | 5       | 4       | 5       | 2       | 3       | 2       | 2       |\n",
       "| 1       | Female  | 20      | bright  | harmony | clothes | 5       | 1       | 1       | 2       | 2       | 3       | 2       |\n",
       "| 2       | Female  | 20      | bright  | bright  | clothes | 3       | 2       | 4       | 1       | 2       | 1       | 2       |\n",
       "| 3       | Female  | 20      | harmony | harmony | clothes | 3       | 5       | 5       | 4       | 5       | 4       | 1       |\n",
       "| 4       | Female  | 20      | bright  | bright  | etc     | 4       | 4       | 2       | 1       | 1       | 2       | 2       |\n",
       "| 5       | Female  | 20      | harmony | harmony | etc     | 2       | 3       | 4       | 1       | 2       | 2       | 2       |\n",
       "\n"
      ],
      "text/plain": [
       "  X sex    age_class definition need    purpose interest comp triangle1\n",
       "1 0 Male   20        harmony    harmony clothes 5        4    5        \n",
       "2 1 Female 20        bright     harmony clothes 5        1    1        \n",
       "3 2 Female 20        bright     bright  clothes 3        2    4        \n",
       "4 3 Female 20        harmony    harmony clothes 3        5    5        \n",
       "5 4 Female 20        bright     bright  etc     4        4    2        \n",
       "6 5 Female 20        harmony    harmony etc     2        3    4        \n",
       "  triangle2 doubleness1 doubleness2 doubleness3\n",
       "1 2         3           2           2          \n",
       "2 2         2           3           2          \n",
       "3 1         2           1           2          \n",
       "4 4         5           4           1          \n",
       "5 1         1           2           2          \n",
       "6 1         2           2           2          "
      ]
     },
     "metadata": {},
     "output_type": "display_data"
    }
   ],
   "source": [
    "str(survey)\n",
    "head(survey)"
   ]
  },
  {
   "cell_type": "code",
   "execution_count": 4,
   "metadata": {
    "scrolled": true
   },
   "outputs": [],
   "source": [
    "survey = filter(survey, sex=='Female')"
   ]
  },
  {
   "cell_type": "code",
   "execution_count": 5,
   "metadata": {},
   "outputs": [
    {
     "name": "stdout",
     "output_type": "stream",
     "text": [
      "'data.frame':\t90 obs. of  13 variables:\n",
      " $ X          : int  1 2 3 4 5 6 8 9 10 12 ...\n",
      " $ sex        : Factor w/ 2 levels \"Female\",\"Male\": 1 1 1 1 1 1 1 1 1 1 ...\n",
      " $ age_class  : int  20 20 20 20 20 20 20 20 20 20 ...\n",
      " $ definition : Factor w/ 2 levels \"bright\",\"harmony\": 1 1 2 1 2 2 2 1 2 2 ...\n",
      " $ need       : Factor w/ 2 levels \"bright\",\"harmony\": 2 1 2 1 2 2 2 1 2 2 ...\n",
      " $ purpose    : Factor w/ 3 levels \"clothes\",\"cosmetic\",..: 1 1 1 3 3 3 1 1 3 3 ...\n",
      " $ interest   : int  5 3 3 4 2 5 4 4 3 3 ...\n",
      " $ comp       : int  1 2 5 4 3 1 1 5 5 1 ...\n",
      " $ triangle1  : int  1 4 5 2 4 4 4 5 3 4 ...\n",
      " $ triangle2  : int  2 1 4 1 1 5 1 2 2 3 ...\n",
      " $ doubleness1: int  2 2 5 1 2 3 1 2 3 3 ...\n",
      " $ doubleness2: int  3 1 4 2 2 3 2 1 5 1 ...\n",
      " $ doubleness3: int  2 2 1 2 2 3 2 5 2 2 ...\n"
     ]
    }
   ],
   "source": [
    "str(survey)"
   ]
  },
  {
   "cell_type": "code",
   "execution_count": 6,
   "metadata": {},
   "outputs": [],
   "source": [
    "survey$comp1 <- case_when(\n",
    "    survey$comp == 1 ~ 1,\n",
    "    survey$comp != 1 ~ 0)\n",
    "\n",
    "survey$comp2 <- case_when(\n",
    "    survey$comp == 2 ~ 1,\n",
    "    survey$comp != 2 ~ 0)\n",
    "\n",
    "survey$comp3 <- case_when(\n",
    "    survey$comp == 3 ~ 1,\n",
    "    survey$comp != 3 ~ 0)\n",
    "\n",
    "survey$comp4 <- case_when(\n",
    "    survey$comp == 4 ~ 1,\n",
    "    survey$comp != 4 ~ 0)\n",
    "\n",
    "survey$comp5 <- case_when(\n",
    "    survey$comp == 5 ~ 1,\n",
    "    survey$comp != 5 ~ 0)\n",
    "\n",
    "survey$t1_1 <- case_when(\n",
    "    survey$triangle1 == 1 ~ 1,\n",
    "    survey$triangle1 != 1 ~ 0)\n",
    "\n",
    "survey$t1_2 <- case_when(\n",
    "    survey$triangle1 == 2 ~ 1,\n",
    "    survey$triangle1 != 2 ~ 0)\n",
    "\n",
    "survey$t1_3 <- case_when(\n",
    "    survey$triangle1 == 3 ~ 1,\n",
    "    survey$triangle1 != 3 ~ 0)\n",
    "\n",
    "survey$t1_4 <- case_when(\n",
    "    survey$triangle1 == 4 ~ 1,\n",
    "    survey$triangle1 != 4 ~ 0)\n",
    "\n",
    "survey$t1_5 <- case_when(\n",
    "    survey$triangle1 == 5 ~ 1,\n",
    "    survey$triangle1 != 5 ~ 0)\n",
    "\t\n",
    "survey$t2_1 <- case_when(\n",
    "    survey$triangle2 == 1 ~ 1,\n",
    "    survey$triangle2 != 1 ~ 0)\n",
    "\n",
    "survey$t2_2 <- case_when(\n",
    "    survey$triangle2 == 2 ~ 1,\n",
    "    survey$triangle2 != 2 ~ 0)\n",
    "\n",
    "survey$t2_3 <- case_when(\n",
    "    survey$triangle2 == 3 ~ 1,\n",
    "    survey$triangle2 != 3 ~ 0)\n",
    "\n",
    "survey$t2_4 <- case_when(\n",
    "    survey$triangle2 == 4 ~ 1,\n",
    "    survey$triangle2 != 4 ~ 0)\n",
    "\n",
    "survey$t2_5 <- case_when(\n",
    "    survey$triangle2 == 5 ~ 1,\n",
    "    survey$triangle2 != 5 ~ 0)\n",
    "\t\n",
    "survey$d1_1 <- case_when(\n",
    "    survey$doubleness1 == 1 ~ 1,\n",
    "    survey$doubleness1 != 1 ~ 0)\n",
    "\n",
    "survey$d1_2 <- case_when(\n",
    "    survey$doubleness1 == 2 ~ 1,\n",
    "    survey$doubleness1 != 2 ~ 0)\n",
    "\n",
    "survey$d1_3 <- case_when(\n",
    "    survey$doubleness1 == 3 ~ 1,\n",
    "    survey$doubleness1 != 3 ~ 0)\n",
    "\n",
    "survey$d1_4 <- case_when(\n",
    "    survey$doubleness1 == 4 ~ 1,\n",
    "    survey$doubleness1 != 4 ~ 0)\n",
    "\n",
    "survey$d1_5 <- case_when(\n",
    "    survey$doubleness1 == 5 ~ 1,\n",
    "    survey$doubleness1 != 5 ~ 0)\n",
    "\t\n",
    "survey$d2_1 <- case_when(\n",
    "    survey$doubleness2 == 1 ~ 1,\n",
    "    survey$doubleness2 != 1 ~ 0)\n",
    "\n",
    "survey$d2_2 <- case_when(\n",
    "    survey$doubleness2 == 2 ~ 1,\n",
    "    survey$doubleness2 != 2 ~ 0)\n",
    "\n",
    "survey$d2_3 <- case_when(\n",
    "    survey$doubleness2 == 3 ~ 1,\n",
    "    survey$doubleness2 != 3 ~ 0)\n",
    "\n",
    "survey$d2_4 <- case_when(\n",
    "    survey$doubleness2 == 4 ~ 1,\n",
    "    survey$doubleness2 != 4 ~ 0)\n",
    "\n",
    "survey$d2_5 <- case_when(\n",
    "    survey$doubleness2 == 5 ~ 1,\n",
    "    survey$doubleness2 != 5 ~ 0)\n",
    "\t\n",
    "survey$d3_1 <- case_when(\n",
    "    survey$doubleness3 == 1 ~ 1,\n",
    "    survey$doubleness3 != 1 ~ 0)\n",
    "\n",
    "survey$d3_2 <- case_when(\n",
    "    survey$doubleness3 == 2 ~ 1,\n",
    "    survey$doubleness3 != 2 ~ 0)\n",
    "\n",
    "survey$d3_3 <- case_when(\n",
    "    survey$doubleness3 == 3 ~ 1,\n",
    "    survey$doubleness3 != 3 ~ 0)\n",
    "\n",
    "survey$d3_4 <- case_when(\n",
    "    survey$doubleness3 == 4 ~ 1,\n",
    "    survey$doubleness3 != 4 ~ 0)\n",
    "\n",
    "survey$d3_5 <- case_when(\n",
    "    survey$doubleness3 == 5 ~ 1,\n",
    "    survey$doubleness3 != 5 ~ 0)"
   ]
  },
  {
   "cell_type": "code",
   "execution_count": 7,
   "metadata": {},
   "outputs": [
    {
     "data": {
      "text/html": [
       "<table>\n",
       "<thead><tr><th scope=col>X</th><th scope=col>sex</th><th scope=col>age_class</th><th scope=col>definition</th><th scope=col>need</th><th scope=col>purpose</th><th scope=col>interest</th><th scope=col>comp</th><th scope=col>triangle1</th><th scope=col>triangle2</th><th scope=col>...</th><th scope=col>d2_1</th><th scope=col>d2_2</th><th scope=col>d2_3</th><th scope=col>d2_4</th><th scope=col>d2_5</th><th scope=col>d3_1</th><th scope=col>d3_2</th><th scope=col>d3_3</th><th scope=col>d3_4</th><th scope=col>d3_5</th></tr></thead>\n",
       "<tbody>\n",
       "\t<tr><td>1      </td><td>Female </td><td>20     </td><td>bright </td><td>harmony</td><td>clothes</td><td>5      </td><td>1      </td><td>1      </td><td>2      </td><td>...    </td><td>0      </td><td>0      </td><td>1      </td><td>0      </td><td>0      </td><td>0      </td><td>1      </td><td>0      </td><td>0      </td><td>0      </td></tr>\n",
       "\t<tr><td>2      </td><td>Female </td><td>20     </td><td>bright </td><td>bright </td><td>clothes</td><td>3      </td><td>2      </td><td>4      </td><td>1      </td><td>...    </td><td>1      </td><td>0      </td><td>0      </td><td>0      </td><td>0      </td><td>0      </td><td>1      </td><td>0      </td><td>0      </td><td>0      </td></tr>\n",
       "\t<tr><td>3      </td><td>Female </td><td>20     </td><td>harmony</td><td>harmony</td><td>clothes</td><td>3      </td><td>5      </td><td>5      </td><td>4      </td><td>...    </td><td>0      </td><td>0      </td><td>0      </td><td>1      </td><td>0      </td><td>1      </td><td>0      </td><td>0      </td><td>0      </td><td>0      </td></tr>\n",
       "\t<tr><td>4      </td><td>Female </td><td>20     </td><td>bright </td><td>bright </td><td>etc    </td><td>4      </td><td>4      </td><td>2      </td><td>1      </td><td>...    </td><td>0      </td><td>1      </td><td>0      </td><td>0      </td><td>0      </td><td>0      </td><td>1      </td><td>0      </td><td>0      </td><td>0      </td></tr>\n",
       "\t<tr><td>5      </td><td>Female </td><td>20     </td><td>harmony</td><td>harmony</td><td>etc    </td><td>2      </td><td>3      </td><td>4      </td><td>1      </td><td>...    </td><td>0      </td><td>1      </td><td>0      </td><td>0      </td><td>0      </td><td>0      </td><td>1      </td><td>0      </td><td>0      </td><td>0      </td></tr>\n",
       "\t<tr><td>6      </td><td>Female </td><td>20     </td><td>harmony</td><td>harmony</td><td>etc    </td><td>5      </td><td>1      </td><td>4      </td><td>5      </td><td>...    </td><td>0      </td><td>0      </td><td>1      </td><td>0      </td><td>0      </td><td>0      </td><td>0      </td><td>1      </td><td>0      </td><td>0      </td></tr>\n",
       "</tbody>\n",
       "</table>\n"
      ],
      "text/latex": [
       "\\begin{tabular}{r|lllllllllllllllllllllllllllllllllllllllllll}\n",
       " X & sex & age\\_class & definition & need & purpose & interest & comp & triangle1 & triangle2 & ... & d2\\_1 & d2\\_2 & d2\\_3 & d2\\_4 & d2\\_5 & d3\\_1 & d3\\_2 & d3\\_3 & d3\\_4 & d3\\_5\\\\\n",
       "\\hline\n",
       "\t 1       & Female  & 20      & bright  & harmony & clothes & 5       & 1       & 1       & 2       & ...     & 0       & 0       & 1       & 0       & 0       & 0       & 1       & 0       & 0       & 0      \\\\\n",
       "\t 2       & Female  & 20      & bright  & bright  & clothes & 3       & 2       & 4       & 1       & ...     & 1       & 0       & 0       & 0       & 0       & 0       & 1       & 0       & 0       & 0      \\\\\n",
       "\t 3       & Female  & 20      & harmony & harmony & clothes & 3       & 5       & 5       & 4       & ...     & 0       & 0       & 0       & 1       & 0       & 1       & 0       & 0       & 0       & 0      \\\\\n",
       "\t 4       & Female  & 20      & bright  & bright  & etc     & 4       & 4       & 2       & 1       & ...     & 0       & 1       & 0       & 0       & 0       & 0       & 1       & 0       & 0       & 0      \\\\\n",
       "\t 5       & Female  & 20      & harmony & harmony & etc     & 2       & 3       & 4       & 1       & ...     & 0       & 1       & 0       & 0       & 0       & 0       & 1       & 0       & 0       & 0      \\\\\n",
       "\t 6       & Female  & 20      & harmony & harmony & etc     & 5       & 1       & 4       & 5       & ...     & 0       & 0       & 1       & 0       & 0       & 0       & 0       & 1       & 0       & 0      \\\\\n",
       "\\end{tabular}\n"
      ],
      "text/markdown": [
       "\n",
       "| X | sex | age_class | definition | need | purpose | interest | comp | triangle1 | triangle2 | ... | d2_1 | d2_2 | d2_3 | d2_4 | d2_5 | d3_1 | d3_2 | d3_3 | d3_4 | d3_5 |\n",
       "|---|---|---|---|---|---|---|---|---|---|---|---|---|---|---|---|---|---|---|---|---|\n",
       "| 1       | Female  | 20      | bright  | harmony | clothes | 5       | 1       | 1       | 2       | ...     | 0       | 0       | 1       | 0       | 0       | 0       | 1       | 0       | 0       | 0       |\n",
       "| 2       | Female  | 20      | bright  | bright  | clothes | 3       | 2       | 4       | 1       | ...     | 1       | 0       | 0       | 0       | 0       | 0       | 1       | 0       | 0       | 0       |\n",
       "| 3       | Female  | 20      | harmony | harmony | clothes | 3       | 5       | 5       | 4       | ...     | 0       | 0       | 0       | 1       | 0       | 1       | 0       | 0       | 0       | 0       |\n",
       "| 4       | Female  | 20      | bright  | bright  | etc     | 4       | 4       | 2       | 1       | ...     | 0       | 1       | 0       | 0       | 0       | 0       | 1       | 0       | 0       | 0       |\n",
       "| 5       | Female  | 20      | harmony | harmony | etc     | 2       | 3       | 4       | 1       | ...     | 0       | 1       | 0       | 0       | 0       | 0       | 1       | 0       | 0       | 0       |\n",
       "| 6       | Female  | 20      | harmony | harmony | etc     | 5       | 1       | 4       | 5       | ...     | 0       | 0       | 1       | 0       | 0       | 0       | 0       | 1       | 0       | 0       |\n",
       "\n"
      ],
      "text/plain": [
       "  X sex    age_class definition need    purpose interest comp triangle1\n",
       "1 1 Female 20        bright     harmony clothes 5        1    1        \n",
       "2 2 Female 20        bright     bright  clothes 3        2    4        \n",
       "3 3 Female 20        harmony    harmony clothes 3        5    5        \n",
       "4 4 Female 20        bright     bright  etc     4        4    2        \n",
       "5 5 Female 20        harmony    harmony etc     2        3    4        \n",
       "6 6 Female 20        harmony    harmony etc     5        1    4        \n",
       "  triangle2 ... d2_1 d2_2 d2_3 d2_4 d2_5 d3_1 d3_2 d3_3 d3_4 d3_5\n",
       "1 2         ... 0    0    1    0    0    0    1    0    0    0   \n",
       "2 1         ... 1    0    0    0    0    0    1    0    0    0   \n",
       "3 4         ... 0    0    0    1    0    1    0    0    0    0   \n",
       "4 1         ... 0    1    0    0    0    0    1    0    0    0   \n",
       "5 1         ... 0    1    0    0    0    0    1    0    0    0   \n",
       "6 5         ... 0    0    1    0    0    0    0    1    0    0   "
      ]
     },
     "metadata": {},
     "output_type": "display_data"
    }
   ],
   "source": [
    "head(survey)"
   ]
  },
  {
   "cell_type": "code",
   "execution_count": 8,
   "metadata": {},
   "outputs": [
    {
     "data": {
      "text/plain": [
       "\n",
       "Call:\n",
       "glm(formula = comp1 ~ definition + need + purpose + interest, \n",
       "    family = binomial, data = survey)\n",
       "\n",
       "Deviance Residuals: \n",
       "    Min       1Q   Median       3Q      Max  \n",
       "-1.4287  -0.8698  -0.7030   0.9929   2.1684  \n",
       "\n",
       "Coefficients:\n",
       "                  Estimate Std. Error z value Pr(>|z|)   \n",
       "(Intercept)        -4.1041     1.2972  -3.164  0.00156 **\n",
       "definitionharmony   0.9788     0.6510   1.504  0.13269   \n",
       "needharmony         0.4948     0.5435   0.910  0.36260   \n",
       "purposecosmetic     0.2327     0.6529   0.356  0.72154   \n",
       "purposeetc          0.6101     0.5612   1.087  0.27692   \n",
       "interest            0.6178     0.2796   2.209  0.02715 * \n",
       "---\n",
       "Signif. codes:  0 '***' 0.001 '**' 0.01 '*' 0.05 '.' 0.1 ' ' 1\n",
       "\n",
       "(Dispersion parameter for binomial family taken to be 1)\n",
       "\n",
       "    Null deviance: 119.33  on 89  degrees of freedom\n",
       "Residual deviance: 108.33  on 84  degrees of freedom\n",
       "AIC: 120.33\n",
       "\n",
       "Number of Fisher Scoring iterations: 4\n"
      ]
     },
     "metadata": {},
     "output_type": "display_data"
    }
   ],
   "source": [
    "model <- glm(comp1 ~ definition + need + purpose \n",
    "              + interest, data =survey, family = binomial)\n",
    "summary(model)"
   ]
  },
  {
   "cell_type": "code",
   "execution_count": 9,
   "metadata": {},
   "outputs": [
    {
     "data": {
      "text/html": [
       "<table>\n",
       "<thead><tr><th></th><th scope=col>Df</th><th scope=col>Deviance</th><th scope=col>Resid. Df</th><th scope=col>Resid. Dev</th><th scope=col>Pr(&gt;Chi)</th></tr></thead>\n",
       "<tbody>\n",
       "\t<tr><th scope=row>NULL</th><td>NA        </td><td>      NA  </td><td>89        </td><td>119.3338  </td><td>        NA</td></tr>\n",
       "\t<tr><th scope=row>definition</th><td> 1        </td><td>2.920872  </td><td>88        </td><td>116.4130  </td><td>0.08744059</td></tr>\n",
       "\t<tr><th scope=row>need</th><td> 1        </td><td>1.188680  </td><td>87        </td><td>115.2243  </td><td>0.27559599</td></tr>\n",
       "\t<tr><th scope=row>purpose</th><td> 2        </td><td>1.510017  </td><td>85        </td><td>113.7143  </td><td>0.47000661</td></tr>\n",
       "\t<tr><th scope=row>interest</th><td> 1        </td><td>5.384543  </td><td>84        </td><td>108.3297  </td><td>0.02031591</td></tr>\n",
       "</tbody>\n",
       "</table>\n"
      ],
      "text/latex": [
       "\\begin{tabular}{r|lllll}\n",
       "  & Df & Deviance & Resid. Df & Resid. Dev & Pr(>Chi)\\\\\n",
       "\\hline\n",
       "\tNULL & NA         &       NA   & 89         & 119.3338   &         NA\\\\\n",
       "\tdefinition &  1         & 2.920872   & 88         & 116.4130   & 0.08744059\\\\\n",
       "\tneed &  1         & 1.188680   & 87         & 115.2243   & 0.27559599\\\\\n",
       "\tpurpose &  2         & 1.510017   & 85         & 113.7143   & 0.47000661\\\\\n",
       "\tinterest &  1         & 5.384543   & 84         & 108.3297   & 0.02031591\\\\\n",
       "\\end{tabular}\n"
      ],
      "text/markdown": [
       "\n",
       "| <!--/--> | Df | Deviance | Resid. Df | Resid. Dev | Pr(>Chi) |\n",
       "|---|---|---|---|---|---|\n",
       "| NULL | NA         |       NA   | 89         | 119.3338   |         NA |\n",
       "| definition |  1         | 2.920872   | 88         | 116.4130   | 0.08744059 |\n",
       "| need |  1         | 1.188680   | 87         | 115.2243   | 0.27559599 |\n",
       "| purpose |  2         | 1.510017   | 85         | 113.7143   | 0.47000661 |\n",
       "| interest |  1         | 5.384543   | 84         | 108.3297   | 0.02031591 |\n",
       "\n"
      ],
      "text/plain": [
       "           Df Deviance Resid. Df Resid. Dev Pr(>Chi)  \n",
       "NULL       NA       NA 89        119.3338           NA\n",
       "definition  1 2.920872 88        116.4130   0.08744059\n",
       "need        1 1.188680 87        115.2243   0.27559599\n",
       "purpose     2 1.510017 85        113.7143   0.47000661\n",
       "interest    1 5.384543 84        108.3297   0.02031591"
      ]
     },
     "metadata": {},
     "output_type": "display_data"
    }
   ],
   "source": [
    "anova(model, test=\"Chisq\")"
   ]
  },
  {
   "cell_type": "code",
   "execution_count": 10,
   "metadata": {},
   "outputs": [
    {
     "data": {
      "text/plain": [
       "\n",
       "Call:\n",
       "glm(formula = comp2 ~ definition + need + purpose + interest, \n",
       "    family = binomial, data = survey)\n",
       "\n",
       "Deviance Residuals: \n",
       "    Min       1Q   Median       3Q      Max  \n",
       "-1.0691  -0.6600  -0.4737  -0.3987   2.2679  \n",
       "\n",
       "Coefficients:\n",
       "                  Estimate Std. Error z value Pr(>|z|)  \n",
       "(Intercept)       -0.16326    1.36029  -0.120   0.9045  \n",
       "definitionharmony -0.60848    0.71503  -0.851   0.3948  \n",
       "needharmony       -0.43807    0.67257  -0.651   0.5148  \n",
       "purposecosmetic   -0.90202    0.78375  -1.151   0.2498  \n",
       "purposeetc        -1.15302    0.67700  -1.703   0.0885 .\n",
       "interest          -0.03235    0.32725  -0.099   0.9213  \n",
       "---\n",
       "Signif. codes:  0 '***' 0.001 '**' 0.01 '*' 0.05 '.' 0.1 ' ' 1\n",
       "\n",
       "(Dispersion parameter for binomial family taken to be 1)\n",
       "\n",
       "    Null deviance: 81.101  on 89  degrees of freedom\n",
       "Residual deviance: 76.311  on 84  degrees of freedom\n",
       "AIC: 88.311\n",
       "\n",
       "Number of Fisher Scoring iterations: 4\n"
      ]
     },
     "metadata": {},
     "output_type": "display_data"
    },
    {
     "data": {
      "text/html": [
       "<table>\n",
       "<thead><tr><th></th><th scope=col>Df</th><th scope=col>Deviance</th><th scope=col>Resid. Df</th><th scope=col>Resid. Dev</th><th scope=col>Pr(&gt;Chi)</th></tr></thead>\n",
       "<tbody>\n",
       "\t<tr><th scope=row>NULL</th><td>NA         </td><td>         NA</td><td>89         </td><td>81.10102   </td><td>       NA  </td></tr>\n",
       "\t<tr><th scope=row>definition</th><td> 1         </td><td>1.266107860</td><td>88         </td><td>79.83491   </td><td>0.2604981  </td></tr>\n",
       "\t<tr><th scope=row>need</th><td> 1         </td><td>0.317057942</td><td>87         </td><td>79.51785   </td><td>0.5733811  </td></tr>\n",
       "\t<tr><th scope=row>purpose</th><td> 2         </td><td>3.197541877</td><td>85         </td><td>76.32031   </td><td>0.2021448  </td></tr>\n",
       "\t<tr><th scope=row>interest</th><td> 1         </td><td>0.009750905</td><td>84         </td><td>76.31056   </td><td>0.9213394  </td></tr>\n",
       "</tbody>\n",
       "</table>\n"
      ],
      "text/latex": [
       "\\begin{tabular}{r|lllll}\n",
       "  & Df & Deviance & Resid. Df & Resid. Dev & Pr(>Chi)\\\\\n",
       "\\hline\n",
       "\tNULL & NA          &          NA & 89          & 81.10102    &        NA  \\\\\n",
       "\tdefinition &  1          & 1.266107860 & 88          & 79.83491    & 0.2604981  \\\\\n",
       "\tneed &  1          & 0.317057942 & 87          & 79.51785    & 0.5733811  \\\\\n",
       "\tpurpose &  2          & 3.197541877 & 85          & 76.32031    & 0.2021448  \\\\\n",
       "\tinterest &  1          & 0.009750905 & 84          & 76.31056    & 0.9213394  \\\\\n",
       "\\end{tabular}\n"
      ],
      "text/markdown": [
       "\n",
       "| <!--/--> | Df | Deviance | Resid. Df | Resid. Dev | Pr(>Chi) |\n",
       "|---|---|---|---|---|---|\n",
       "| NULL | NA          |          NA | 89          | 81.10102    |        NA   |\n",
       "| definition |  1          | 1.266107860 | 88          | 79.83491    | 0.2604981   |\n",
       "| need |  1          | 0.317057942 | 87          | 79.51785    | 0.5733811   |\n",
       "| purpose |  2          | 3.197541877 | 85          | 76.32031    | 0.2021448   |\n",
       "| interest |  1          | 0.009750905 | 84          | 76.31056    | 0.9213394   |\n",
       "\n"
      ],
      "text/plain": [
       "           Df Deviance    Resid. Df Resid. Dev Pr(>Chi) \n",
       "NULL       NA          NA 89        81.10102          NA\n",
       "definition  1 1.266107860 88        79.83491   0.2604981\n",
       "need        1 0.317057942 87        79.51785   0.5733811\n",
       "purpose     2 3.197541877 85        76.32031   0.2021448\n",
       "interest    1 0.009750905 84        76.31056   0.9213394"
      ]
     },
     "metadata": {},
     "output_type": "display_data"
    }
   ],
   "source": [
    "model <- glm(comp2 ~ definition + need + purpose \n",
    "              + interest, data =survey, family = binomial)\n",
    "summary(model)\n",
    "\n",
    "\n",
    "anova(model, test=\"Chisq\")"
   ]
  },
  {
   "cell_type": "code",
   "execution_count": 11,
   "metadata": {},
   "outputs": [
    {
     "data": {
      "text/plain": [
       "\n",
       "Call:\n",
       "glm(formula = comp3 ~ definition + need + purpose + interest, \n",
       "    family = binomial, data = survey)\n",
       "\n",
       "Deviance Residuals: \n",
       "    Min       1Q   Median       3Q      Max  \n",
       "-1.2707  -0.5343  -0.4605  -0.2757   2.5742  \n",
       "\n",
       "Coefficients:\n",
       "                  Estimate Std. Error z value Pr(>|z|)  \n",
       "(Intercept)         0.1865     1.4750   0.126   0.8994  \n",
       "definitionharmony  -0.9701     0.9000  -1.078   0.2811  \n",
       "needharmony         1.1160     0.8832   1.264   0.2064  \n",
       "purposecosmetic     0.8711     1.0133   0.860   0.3900  \n",
       "purposeetc          1.1568     0.8650   1.337   0.1811  \n",
       "interest           -0.8409     0.3497  -2.405   0.0162 *\n",
       "---\n",
       "Signif. codes:  0 '***' 0.001 '**' 0.01 '*' 0.05 '.' 0.1 ' ' 1\n",
       "\n",
       "(Dispersion parameter for binomial family taken to be 1)\n",
       "\n",
       "    Null deviance: 74.331  on 89  degrees of freedom\n",
       "Residual deviance: 64.865  on 84  degrees of freedom\n",
       "AIC: 76.865\n",
       "\n",
       "Number of Fisher Scoring iterations: 5\n"
      ]
     },
     "metadata": {},
     "output_type": "display_data"
    },
    {
     "data": {
      "text/html": [
       "<table>\n",
       "<thead><tr><th></th><th scope=col>Df</th><th scope=col>Deviance</th><th scope=col>Resid. Df</th><th scope=col>Resid. Dev</th><th scope=col>Pr(&gt;Chi)</th></tr></thead>\n",
       "<tbody>\n",
       "\t<tr><th scope=row>NULL</th><td>NA        </td><td>       NA </td><td>89        </td><td>74.33102  </td><td>        NA</td></tr>\n",
       "\t<tr><th scope=row>definition</th><td> 1        </td><td>0.0666151 </td><td>88        </td><td>74.26441  </td><td>0.79633050</td></tr>\n",
       "\t<tr><th scope=row>need</th><td> 1        </td><td>1.2455675 </td><td>87        </td><td>73.01884  </td><td>0.26440075</td></tr>\n",
       "\t<tr><th scope=row>purpose</th><td> 2        </td><td>1.8019118 </td><td>85        </td><td>71.21693  </td><td>0.40618121</td></tr>\n",
       "\t<tr><th scope=row>interest</th><td> 1        </td><td>6.3521701 </td><td>84        </td><td>64.86476  </td><td>0.01172378</td></tr>\n",
       "</tbody>\n",
       "</table>\n"
      ],
      "text/latex": [
       "\\begin{tabular}{r|lllll}\n",
       "  & Df & Deviance & Resid. Df & Resid. Dev & Pr(>Chi)\\\\\n",
       "\\hline\n",
       "\tNULL & NA         &        NA  & 89         & 74.33102   &         NA\\\\\n",
       "\tdefinition &  1         & 0.0666151  & 88         & 74.26441   & 0.79633050\\\\\n",
       "\tneed &  1         & 1.2455675  & 87         & 73.01884   & 0.26440075\\\\\n",
       "\tpurpose &  2         & 1.8019118  & 85         & 71.21693   & 0.40618121\\\\\n",
       "\tinterest &  1         & 6.3521701  & 84         & 64.86476   & 0.01172378\\\\\n",
       "\\end{tabular}\n"
      ],
      "text/markdown": [
       "\n",
       "| <!--/--> | Df | Deviance | Resid. Df | Resid. Dev | Pr(>Chi) |\n",
       "|---|---|---|---|---|---|\n",
       "| NULL | NA         |        NA  | 89         | 74.33102   |         NA |\n",
       "| definition |  1         | 0.0666151  | 88         | 74.26441   | 0.79633050 |\n",
       "| need |  1         | 1.2455675  | 87         | 73.01884   | 0.26440075 |\n",
       "| purpose |  2         | 1.8019118  | 85         | 71.21693   | 0.40618121 |\n",
       "| interest |  1         | 6.3521701  | 84         | 64.86476   | 0.01172378 |\n",
       "\n"
      ],
      "text/plain": [
       "           Df Deviance  Resid. Df Resid. Dev Pr(>Chi)  \n",
       "NULL       NA        NA 89        74.33102           NA\n",
       "definition  1 0.0666151 88        74.26441   0.79633050\n",
       "need        1 1.2455675 87        73.01884   0.26440075\n",
       "purpose     2 1.8019118 85        71.21693   0.40618121\n",
       "interest    1 6.3521701 84        64.86476   0.01172378"
      ]
     },
     "metadata": {},
     "output_type": "display_data"
    }
   ],
   "source": [
    "model <- glm(comp3 ~ definition + need + purpose \n",
    "              + interest, data =survey, family = binomial)\n",
    "summary(model)\n",
    "\n",
    "\n",
    "anova(model, test=\"Chisq\")"
   ]
  },
  {
   "cell_type": "code",
   "execution_count": 12,
   "metadata": {},
   "outputs": [
    {
     "data": {
      "text/plain": [
       "\n",
       "Call:\n",
       "glm(formula = comp4 ~ definition + need + purpose + interest, \n",
       "    family = binomial, data = survey)\n",
       "\n",
       "Deviance Residuals: \n",
       "    Min       1Q   Median       3Q      Max  \n",
       "-0.8726  -0.5872  -0.3651  -0.2993   2.4685  \n",
       "\n",
       "Coefficients:\n",
       "                  Estimate Std. Error z value Pr(>|z|)\n",
       "(Intercept)       -0.53154    1.56917  -0.339    0.735\n",
       "definitionharmony -0.09926    0.82653  -0.120    0.904\n",
       "needharmony       -1.32752    0.82691  -1.605    0.108\n",
       "purposecosmetic   -0.02667    0.91393  -0.029    0.977\n",
       "purposeetc        -0.29428    0.84444  -0.348    0.727\n",
       "interest          -0.21119    0.38275  -0.552    0.581\n",
       "\n",
       "(Dispersion parameter for binomial family taken to be 1)\n",
       "\n",
       "    Null deviance: 62.790  on 89  degrees of freedom\n",
       "Residual deviance: 58.451  on 84  degrees of freedom\n",
       "AIC: 70.451\n",
       "\n",
       "Number of Fisher Scoring iterations: 5\n"
      ]
     },
     "metadata": {},
     "output_type": "display_data"
    },
    {
     "data": {
      "text/html": [
       "<table>\n",
       "<thead><tr><th></th><th scope=col>Df</th><th scope=col>Deviance</th><th scope=col>Resid. Df</th><th scope=col>Resid. Dev</th><th scope=col>Pr(&gt;Chi)</th></tr></thead>\n",
       "<tbody>\n",
       "\t<tr><th scope=row>NULL</th><td>NA        </td><td>       NA </td><td>89        </td><td>62.78978  </td><td>        NA</td></tr>\n",
       "\t<tr><th scope=row>definition</th><td> 1        </td><td>0.7864702 </td><td>88        </td><td>62.00331  </td><td>0.37516960</td></tr>\n",
       "\t<tr><th scope=row>need</th><td> 1        </td><td>3.0557026 </td><td>87        </td><td>58.94760  </td><td>0.08045419</td></tr>\n",
       "\t<tr><th scope=row>purpose</th><td> 2        </td><td>0.1940753 </td><td>85        </td><td>58.75353  </td><td>0.90752185</td></tr>\n",
       "\t<tr><th scope=row>interest</th><td> 1        </td><td>0.3026853 </td><td>84        </td><td>58.45084  </td><td>0.58220389</td></tr>\n",
       "</tbody>\n",
       "</table>\n"
      ],
      "text/latex": [
       "\\begin{tabular}{r|lllll}\n",
       "  & Df & Deviance & Resid. Df & Resid. Dev & Pr(>Chi)\\\\\n",
       "\\hline\n",
       "\tNULL & NA         &        NA  & 89         & 62.78978   &         NA\\\\\n",
       "\tdefinition &  1         & 0.7864702  & 88         & 62.00331   & 0.37516960\\\\\n",
       "\tneed &  1         & 3.0557026  & 87         & 58.94760   & 0.08045419\\\\\n",
       "\tpurpose &  2         & 0.1940753  & 85         & 58.75353   & 0.90752185\\\\\n",
       "\tinterest &  1         & 0.3026853  & 84         & 58.45084   & 0.58220389\\\\\n",
       "\\end{tabular}\n"
      ],
      "text/markdown": [
       "\n",
       "| <!--/--> | Df | Deviance | Resid. Df | Resid. Dev | Pr(>Chi) |\n",
       "|---|---|---|---|---|---|\n",
       "| NULL | NA         |        NA  | 89         | 62.78978   |         NA |\n",
       "| definition |  1         | 0.7864702  | 88         | 62.00331   | 0.37516960 |\n",
       "| need |  1         | 3.0557026  | 87         | 58.94760   | 0.08045419 |\n",
       "| purpose |  2         | 0.1940753  | 85         | 58.75353   | 0.90752185 |\n",
       "| interest |  1         | 0.3026853  | 84         | 58.45084   | 0.58220389 |\n",
       "\n"
      ],
      "text/plain": [
       "           Df Deviance  Resid. Df Resid. Dev Pr(>Chi)  \n",
       "NULL       NA        NA 89        62.78978           NA\n",
       "definition  1 0.7864702 88        62.00331   0.37516960\n",
       "need        1 3.0557026 87        58.94760   0.08045419\n",
       "purpose     2 0.1940753 85        58.75353   0.90752185\n",
       "interest    1 0.3026853 84        58.45084   0.58220389"
      ]
     },
     "metadata": {},
     "output_type": "display_data"
    }
   ],
   "source": [
    "model <- glm(comp4 ~ definition + need + purpose \n",
    "              + interest, data =survey, family = binomial)\n",
    "summary(model)\n",
    "\n",
    "\n",
    "anova(model, test=\"Chisq\")"
   ]
  },
  {
   "cell_type": "code",
   "execution_count": 13,
   "metadata": {},
   "outputs": [
    {
     "data": {
      "text/plain": [
       "\n",
       "Call:\n",
       "glm(formula = comp5 ~ definition + need + purpose + interest, \n",
       "    family = binomial, data = survey)\n",
       "\n",
       "Deviance Residuals: \n",
       "    Min       1Q   Median       3Q      Max  \n",
       "-0.7842  -0.7008  -0.6317  -0.5801   1.9314  \n",
       "\n",
       "Coefficients:\n",
       "                  Estimate Std. Error z value Pr(>|z|)\n",
       "(Intercept)       -1.23502    1.27611  -0.968    0.333\n",
       "definitionharmony  0.03483    0.69209   0.050    0.960\n",
       "needharmony       -0.18577    0.61414  -0.302    0.762\n",
       "purposecosmetic   -0.05140    0.70015  -0.073    0.941\n",
       "purposeetc        -0.41810    0.63012  -0.664    0.507\n",
       "interest           0.03568    0.29813   0.120    0.905\n",
       "\n",
       "(Dispersion parameter for binomial family taken to be 1)\n",
       "\n",
       "    Null deviance: 90.072  on 89  degrees of freedom\n",
       "Residual deviance: 89.403  on 84  degrees of freedom\n",
       "AIC: 101.4\n",
       "\n",
       "Number of Fisher Scoring iterations: 4\n"
      ]
     },
     "metadata": {},
     "output_type": "display_data"
    },
    {
     "data": {
      "text/html": [
       "<table>\n",
       "<thead><tr><th></th><th scope=col>Df</th><th scope=col>Deviance</th><th scope=col>Resid. Df</th><th scope=col>Resid. Dev</th><th scope=col>Pr(&gt;Chi)</th></tr></thead>\n",
       "<tbody>\n",
       "\t<tr><th scope=row>NULL</th><td>NA        </td><td>        NA</td><td>89        </td><td>90.07244  </td><td>       NA </td></tr>\n",
       "\t<tr><th scope=row>definition</th><td> 1        </td><td>0.00000000</td><td>88        </td><td>90.07244  </td><td>1.0000000 </td></tr>\n",
       "\t<tr><th scope=row>need</th><td> 1        </td><td>0.13471629</td><td>87        </td><td>89.93772  </td><td>0.7135913 </td></tr>\n",
       "\t<tr><th scope=row>purpose</th><td> 2        </td><td>0.52015835</td><td>85        </td><td>89.41756  </td><td>0.7709905 </td></tr>\n",
       "\t<tr><th scope=row>interest</th><td> 1        </td><td>0.01436298</td><td>84        </td><td>89.40320  </td><td>0.9046054 </td></tr>\n",
       "</tbody>\n",
       "</table>\n"
      ],
      "text/latex": [
       "\\begin{tabular}{r|lllll}\n",
       "  & Df & Deviance & Resid. Df & Resid. Dev & Pr(>Chi)\\\\\n",
       "\\hline\n",
       "\tNULL & NA         &         NA & 89         & 90.07244   &        NA \\\\\n",
       "\tdefinition &  1         & 0.00000000 & 88         & 90.07244   & 1.0000000 \\\\\n",
       "\tneed &  1         & 0.13471629 & 87         & 89.93772   & 0.7135913 \\\\\n",
       "\tpurpose &  2         & 0.52015835 & 85         & 89.41756   & 0.7709905 \\\\\n",
       "\tinterest &  1         & 0.01436298 & 84         & 89.40320   & 0.9046054 \\\\\n",
       "\\end{tabular}\n"
      ],
      "text/markdown": [
       "\n",
       "| <!--/--> | Df | Deviance | Resid. Df | Resid. Dev | Pr(>Chi) |\n",
       "|---|---|---|---|---|---|\n",
       "| NULL | NA         |         NA | 89         | 90.07244   |        NA  |\n",
       "| definition |  1         | 0.00000000 | 88         | 90.07244   | 1.0000000  |\n",
       "| need |  1         | 0.13471629 | 87         | 89.93772   | 0.7135913  |\n",
       "| purpose |  2         | 0.52015835 | 85         | 89.41756   | 0.7709905  |\n",
       "| interest |  1         | 0.01436298 | 84         | 89.40320   | 0.9046054  |\n",
       "\n"
      ],
      "text/plain": [
       "           Df Deviance   Resid. Df Resid. Dev Pr(>Chi) \n",
       "NULL       NA         NA 89        90.07244          NA\n",
       "definition  1 0.00000000 88        90.07244   1.0000000\n",
       "need        1 0.13471629 87        89.93772   0.7135913\n",
       "purpose     2 0.52015835 85        89.41756   0.7709905\n",
       "interest    1 0.01436298 84        89.40320   0.9046054"
      ]
     },
     "metadata": {},
     "output_type": "display_data"
    }
   ],
   "source": [
    "model <- glm(comp5 ~ definition + need + purpose \n",
    "              + interest, data =survey, family = binomial)\n",
    "summary(model)\n",
    "\n",
    "\n",
    "anova(model, test=\"Chisq\")"
   ]
  },
  {
   "cell_type": "code",
   "execution_count": 14,
   "metadata": {},
   "outputs": [
    {
     "data": {
      "text/plain": [
       "\n",
       "Call:\n",
       "glm(formula = t1_1 ~ definition + need + purpose + interest, \n",
       "    family = binomial, data = survey)\n",
       "\n",
       "Deviance Residuals: \n",
       "    Min       1Q   Median       3Q      Max  \n",
       "-0.8723  -0.5730  -0.5403  -0.3690   2.3475  \n",
       "\n",
       "Coefficients:\n",
       "                  Estimate Std. Error z value Pr(>|z|)  \n",
       "(Intercept)       -2.68789    1.52231  -1.766   0.0775 .\n",
       "definitionharmony  0.79349    0.89959   0.882   0.3777  \n",
       "needharmony        0.11288    0.69328   0.163   0.8707  \n",
       "purposecosmetic    1.05732    0.79506   1.330   0.1836  \n",
       "purposeetc         0.12681    0.78622   0.161   0.8719  \n",
       "interest          -0.02295    0.33513  -0.068   0.9454  \n",
       "---\n",
       "Signif. codes:  0 '***' 0.001 '**' 0.01 '*' 0.05 '.' 0.1 ' ' 1\n",
       "\n",
       "(Dispersion parameter for binomial family taken to be 1)\n",
       "\n",
       "    Null deviance: 77.801  on 89  degrees of freedom\n",
       "Residual deviance: 73.743  on 84  degrees of freedom\n",
       "AIC: 85.743\n",
       "\n",
       "Number of Fisher Scoring iterations: 5\n"
      ]
     },
     "metadata": {},
     "output_type": "display_data"
    },
    {
     "data": {
      "text/html": [
       "<table>\n",
       "<thead><tr><th></th><th scope=col>Df</th><th scope=col>Deviance</th><th scope=col>Resid. Df</th><th scope=col>Resid. Dev</th><th scope=col>Pr(&gt;Chi)</th></tr></thead>\n",
       "<tbody>\n",
       "\t<tr><th scope=row>NULL</th><td>NA         </td><td>         NA</td><td>89         </td><td>77.80067   </td><td>       NA  </td></tr>\n",
       "\t<tr><th scope=row>definition</th><td> 1         </td><td>1.680556463</td><td>88         </td><td>76.12011   </td><td>0.1948505  </td></tr>\n",
       "\t<tr><th scope=row>need</th><td> 1         </td><td>0.031087272</td><td>87         </td><td>76.08902   </td><td>0.8600458  </td></tr>\n",
       "\t<tr><th scope=row>purpose</th><td> 2         </td><td>2.341327269</td><td>85         </td><td>73.74770   </td><td>0.3101610  </td></tr>\n",
       "\t<tr><th scope=row>interest</th><td> 1         </td><td>0.004681734</td><td>84         </td><td>73.74301   </td><td>0.9454488  </td></tr>\n",
       "</tbody>\n",
       "</table>\n"
      ],
      "text/latex": [
       "\\begin{tabular}{r|lllll}\n",
       "  & Df & Deviance & Resid. Df & Resid. Dev & Pr(>Chi)\\\\\n",
       "\\hline\n",
       "\tNULL & NA          &          NA & 89          & 77.80067    &        NA  \\\\\n",
       "\tdefinition &  1          & 1.680556463 & 88          & 76.12011    & 0.1948505  \\\\\n",
       "\tneed &  1          & 0.031087272 & 87          & 76.08902    & 0.8600458  \\\\\n",
       "\tpurpose &  2          & 2.341327269 & 85          & 73.74770    & 0.3101610  \\\\\n",
       "\tinterest &  1          & 0.004681734 & 84          & 73.74301    & 0.9454488  \\\\\n",
       "\\end{tabular}\n"
      ],
      "text/markdown": [
       "\n",
       "| <!--/--> | Df | Deviance | Resid. Df | Resid. Dev | Pr(>Chi) |\n",
       "|---|---|---|---|---|---|\n",
       "| NULL | NA          |          NA | 89          | 77.80067    |        NA   |\n",
       "| definition |  1          | 1.680556463 | 88          | 76.12011    | 0.1948505   |\n",
       "| need |  1          | 0.031087272 | 87          | 76.08902    | 0.8600458   |\n",
       "| purpose |  2          | 2.341327269 | 85          | 73.74770    | 0.3101610   |\n",
       "| interest |  1          | 0.004681734 | 84          | 73.74301    | 0.9454488   |\n",
       "\n"
      ],
      "text/plain": [
       "           Df Deviance    Resid. Df Resid. Dev Pr(>Chi) \n",
       "NULL       NA          NA 89        77.80067          NA\n",
       "definition  1 1.680556463 88        76.12011   0.1948505\n",
       "need        1 0.031087272 87        76.08902   0.8600458\n",
       "purpose     2 2.341327269 85        73.74770   0.3101610\n",
       "interest    1 0.004681734 84        73.74301   0.9454488"
      ]
     },
     "metadata": {},
     "output_type": "display_data"
    }
   ],
   "source": [
    "model <- glm(t1_1 ~ definition + need + purpose \n",
    "              + interest, data =survey, family = binomial)\n",
    "summary(model)\n",
    "\n",
    "\n",
    "anova(model, test=\"Chisq\")"
   ]
  },
  {
   "cell_type": "code",
   "execution_count": 15,
   "metadata": {},
   "outputs": [
    {
     "data": {
      "text/plain": [
       "\n",
       "Call:\n",
       "glm(formula = t1_2 ~ definition + need + purpose + interest, \n",
       "    family = binomial, data = survey)\n",
       "\n",
       "Deviance Residuals: \n",
       "    Min       1Q   Median       3Q      Max  \n",
       "-1.1682  -0.5287  -0.4087  -0.3005   2.4124  \n",
       "\n",
       "Coefficients:\n",
       "                  Estimate Std. Error z value Pr(>|z|)  \n",
       "(Intercept)         0.4317     1.4937   0.289   0.7726  \n",
       "definitionharmony  -1.8752     0.8104  -2.314   0.0207 *\n",
       "needharmony         0.2211     0.7714   0.287   0.7743  \n",
       "purposecosmetic     1.1779     0.9867   1.194   0.2326  \n",
       "purposeetc          0.9334     0.8655   1.078   0.2808  \n",
       "interest           -0.5438     0.3443  -1.580   0.1142  \n",
       "---\n",
       "Signif. codes:  0 '***' 0.001 '**' 0.01 '*' 0.05 '.' 0.1 ' ' 1\n",
       "\n",
       "(Dispersion parameter for binomial family taken to be 1)\n",
       "\n",
       "    Null deviance: 77.801  on 89  degrees of freedom\n",
       "Residual deviance: 66.984  on 84  degrees of freedom\n",
       "AIC: 78.984\n",
       "\n",
       "Number of Fisher Scoring iterations: 5\n"
      ]
     },
     "metadata": {},
     "output_type": "display_data"
    },
    {
     "data": {
      "text/html": [
       "<table>\n",
       "<thead><tr><th></th><th scope=col>Df</th><th scope=col>Deviance</th><th scope=col>Resid. Df</th><th scope=col>Resid. Dev</th><th scope=col>Pr(&gt;Chi)</th></tr></thead>\n",
       "<tbody>\n",
       "\t<tr><th scope=row>NULL</th><td>NA          </td><td>          NA</td><td>89          </td><td>77.80067    </td><td>        NA  </td></tr>\n",
       "\t<tr><th scope=row>definition</th><td> 1          </td><td>6.4373817533</td><td>88          </td><td>71.36329    </td><td>0.01117432  </td></tr>\n",
       "\t<tr><th scope=row>need</th><td> 1          </td><td>0.0004922201</td><td>87          </td><td>71.36279    </td><td>0.98229956  </td></tr>\n",
       "\t<tr><th scope=row>purpose</th><td> 2          </td><td>1.7591909378</td><td>85          </td><td>69.60360    </td><td>0.41495074  </td></tr>\n",
       "\t<tr><th scope=row>interest</th><td> 1          </td><td>2.6192645602</td><td>84          </td><td>66.98434    </td><td>0.10557336  </td></tr>\n",
       "</tbody>\n",
       "</table>\n"
      ],
      "text/latex": [
       "\\begin{tabular}{r|lllll}\n",
       "  & Df & Deviance & Resid. Df & Resid. Dev & Pr(>Chi)\\\\\n",
       "\\hline\n",
       "\tNULL & NA           &           NA & 89           & 77.80067     &         NA  \\\\\n",
       "\tdefinition &  1           & 6.4373817533 & 88           & 71.36329     & 0.01117432  \\\\\n",
       "\tneed &  1           & 0.0004922201 & 87           & 71.36279     & 0.98229956  \\\\\n",
       "\tpurpose &  2           & 1.7591909378 & 85           & 69.60360     & 0.41495074  \\\\\n",
       "\tinterest &  1           & 2.6192645602 & 84           & 66.98434     & 0.10557336  \\\\\n",
       "\\end{tabular}\n"
      ],
      "text/markdown": [
       "\n",
       "| <!--/--> | Df | Deviance | Resid. Df | Resid. Dev | Pr(>Chi) |\n",
       "|---|---|---|---|---|---|\n",
       "| NULL | NA           |           NA | 89           | 77.80067     |         NA   |\n",
       "| definition |  1           | 6.4373817533 | 88           | 71.36329     | 0.01117432   |\n",
       "| need |  1           | 0.0004922201 | 87           | 71.36279     | 0.98229956   |\n",
       "| purpose |  2           | 1.7591909378 | 85           | 69.60360     | 0.41495074   |\n",
       "| interest |  1           | 2.6192645602 | 84           | 66.98434     | 0.10557336   |\n",
       "\n"
      ],
      "text/plain": [
       "           Df Deviance     Resid. Df Resid. Dev Pr(>Chi)  \n",
       "NULL       NA           NA 89        77.80067           NA\n",
       "definition  1 6.4373817533 88        71.36329   0.01117432\n",
       "need        1 0.0004922201 87        71.36279   0.98229956\n",
       "purpose     2 1.7591909378 85        69.60360   0.41495074\n",
       "interest    1 2.6192645602 84        66.98434   0.10557336"
      ]
     },
     "metadata": {},
     "output_type": "display_data"
    }
   ],
   "source": [
    "model <- glm(t1_2 ~ definition + need + purpose \n",
    "              + interest, data =survey, family = binomial)\n",
    "summary(model)\n",
    "\n",
    "\n",
    "anova(model, test=\"Chisq\")"
   ]
  },
  {
   "cell_type": "code",
   "execution_count": 16,
   "metadata": {},
   "outputs": [
    {
     "data": {
      "text/plain": [
       "\n",
       "Call:\n",
       "glm(formula = t1_3 ~ definition + need + purpose + interest, \n",
       "    family = binomial, data = survey)\n",
       "\n",
       "Deviance Residuals: \n",
       "    Min       1Q   Median       3Q      Max  \n",
       "-0.8014  -0.5945  -0.5249  -0.4787   2.1013  \n",
       "\n",
       "Coefficients:\n",
       "                  Estimate Std. Error z value Pr(>|z|)\n",
       "(Intercept)        -1.1234     1.4042  -0.800    0.424\n",
       "definitionharmony  -0.4997     0.7833  -0.638    0.524\n",
       "needharmony         0.3826     0.7270   0.526    0.599\n",
       "purposecosmetic     0.2867     0.7898   0.363    0.717\n",
       "purposeetc         -0.3131     0.7301  -0.429    0.668\n",
       "interest           -0.1345     0.3313  -0.406    0.685\n",
       "\n",
       "(Dispersion parameter for binomial family taken to be 1)\n",
       "\n",
       "    Null deviance: 74.331  on 89  degrees of freedom\n",
       "Residual deviance: 73.287  on 84  degrees of freedom\n",
       "AIC: 85.287\n",
       "\n",
       "Number of Fisher Scoring iterations: 4\n"
      ]
     },
     "metadata": {},
     "output_type": "display_data"
    },
    {
     "data": {
      "text/html": [
       "<table>\n",
       "<thead><tr><th></th><th scope=col>Df</th><th scope=col>Deviance</th><th scope=col>Resid. Df</th><th scope=col>Resid. Dev</th><th scope=col>Pr(&gt;Chi)</th></tr></thead>\n",
       "<tbody>\n",
       "\t<tr><th scope=row>NULL</th><td>NA       </td><td>       NA</td><td>89       </td><td>74.33102 </td><td>       NA</td></tr>\n",
       "\t<tr><th scope=row>definition</th><td> 1       </td><td>0.0666151</td><td>88       </td><td>74.26441 </td><td>0.7963305</td></tr>\n",
       "\t<tr><th scope=row>need</th><td> 1       </td><td>0.1529437</td><td>87       </td><td>74.11146 </td><td>0.6957380</td></tr>\n",
       "\t<tr><th scope=row>purpose</th><td> 2       </td><td>0.6608416</td><td>85       </td><td>73.45062 </td><td>0.7186213</td></tr>\n",
       "\t<tr><th scope=row>interest</th><td> 1       </td><td>0.1634122</td><td>84       </td><td>73.28721 </td><td>0.6860342</td></tr>\n",
       "</tbody>\n",
       "</table>\n"
      ],
      "text/latex": [
       "\\begin{tabular}{r|lllll}\n",
       "  & Df & Deviance & Resid. Df & Resid. Dev & Pr(>Chi)\\\\\n",
       "\\hline\n",
       "\tNULL & NA        &        NA & 89        & 74.33102  &        NA\\\\\n",
       "\tdefinition &  1        & 0.0666151 & 88        & 74.26441  & 0.7963305\\\\\n",
       "\tneed &  1        & 0.1529437 & 87        & 74.11146  & 0.6957380\\\\\n",
       "\tpurpose &  2        & 0.6608416 & 85        & 73.45062  & 0.7186213\\\\\n",
       "\tinterest &  1        & 0.1634122 & 84        & 73.28721  & 0.6860342\\\\\n",
       "\\end{tabular}\n"
      ],
      "text/markdown": [
       "\n",
       "| <!--/--> | Df | Deviance | Resid. Df | Resid. Dev | Pr(>Chi) |\n",
       "|---|---|---|---|---|---|\n",
       "| NULL | NA        |        NA | 89        | 74.33102  |        NA |\n",
       "| definition |  1        | 0.0666151 | 88        | 74.26441  | 0.7963305 |\n",
       "| need |  1        | 0.1529437 | 87        | 74.11146  | 0.6957380 |\n",
       "| purpose |  2        | 0.6608416 | 85        | 73.45062  | 0.7186213 |\n",
       "| interest |  1        | 0.1634122 | 84        | 73.28721  | 0.6860342 |\n",
       "\n"
      ],
      "text/plain": [
       "           Df Deviance  Resid. Df Resid. Dev Pr(>Chi) \n",
       "NULL       NA        NA 89        74.33102          NA\n",
       "definition  1 0.0666151 88        74.26441   0.7963305\n",
       "need        1 0.1529437 87        74.11146   0.6957380\n",
       "purpose     2 0.6608416 85        73.45062   0.7186213\n",
       "interest    1 0.1634122 84        73.28721   0.6860342"
      ]
     },
     "metadata": {},
     "output_type": "display_data"
    }
   ],
   "source": [
    "model <- glm(t1_3 ~ definition + need + purpose \n",
    "              + interest, data =survey, family = binomial)\n",
    "summary(model)\n",
    "\n",
    "\n",
    "anova(model, test=\"Chisq\")"
   ]
  },
  {
   "cell_type": "code",
   "execution_count": 17,
   "metadata": {},
   "outputs": [
    {
     "data": {
      "text/plain": [
       "\n",
       "Call:\n",
       "glm(formula = t1_4 ~ definition + need + purpose + interest, \n",
       "    family = binomial, data = survey)\n",
       "\n",
       "Deviance Residuals: \n",
       "    Min       1Q   Median       3Q      Max  \n",
       "-1.4304  -1.0247  -0.8138   1.2586   1.6772  \n",
       "\n",
       "Coefficients:\n",
       "                  Estimate Std. Error z value Pr(>|z|)  \n",
       "(Intercept)       -2.23972    1.15427  -1.940   0.0523 .\n",
       "definitionharmony  0.96020    0.62208   1.544   0.1227  \n",
       "needharmony       -0.16495    0.52788  -0.312   0.7547  \n",
       "purposecosmetic   -0.57660    0.63094  -0.914   0.3608  \n",
       "purposeetc        -0.03191    0.52372  -0.061   0.9514  \n",
       "interest           0.37140    0.26199   1.418   0.1563  \n",
       "---\n",
       "Signif. codes:  0 '***' 0.001 '**' 0.01 '*' 0.05 '.' 0.1 ' ' 1\n",
       "\n",
       "(Dispersion parameter for binomial family taken to be 1)\n",
       "\n",
       "    Null deviance: 120.28  on 89  degrees of freedom\n",
       "Residual deviance: 115.41  on 84  degrees of freedom\n",
       "AIC: 127.41\n",
       "\n",
       "Number of Fisher Scoring iterations: 4\n"
      ]
     },
     "metadata": {},
     "output_type": "display_data"
    },
    {
     "data": {
      "text/html": [
       "<table>\n",
       "<thead><tr><th></th><th scope=col>Df</th><th scope=col>Deviance</th><th scope=col>Resid. Df</th><th scope=col>Resid. Dev</th><th scope=col>Pr(&gt;Chi)</th></tr></thead>\n",
       "<tbody>\n",
       "\t<tr><th scope=row>NULL</th><td>NA         </td><td>         NA</td><td>89         </td><td>120.2847   </td><td>       NA  </td></tr>\n",
       "\t<tr><th scope=row>definition</th><td> 1         </td><td>1.778093126</td><td>88         </td><td>118.5066   </td><td>0.1823837  </td></tr>\n",
       "\t<tr><th scope=row>need</th><td> 1         </td><td>0.001523234</td><td>87         </td><td>118.5051   </td><td>0.9688676  </td></tr>\n",
       "\t<tr><th scope=row>purpose</th><td> 2         </td><td>0.983063336</td><td>85         </td><td>117.5220   </td><td>0.6116888  </td></tr>\n",
       "\t<tr><th scope=row>interest</th><td> 1         </td><td>2.114638051</td><td>84         </td><td>115.4074   </td><td>0.1458965  </td></tr>\n",
       "</tbody>\n",
       "</table>\n"
      ],
      "text/latex": [
       "\\begin{tabular}{r|lllll}\n",
       "  & Df & Deviance & Resid. Df & Resid. Dev & Pr(>Chi)\\\\\n",
       "\\hline\n",
       "\tNULL & NA          &          NA & 89          & 120.2847    &        NA  \\\\\n",
       "\tdefinition &  1          & 1.778093126 & 88          & 118.5066    & 0.1823837  \\\\\n",
       "\tneed &  1          & 0.001523234 & 87          & 118.5051    & 0.9688676  \\\\\n",
       "\tpurpose &  2          & 0.983063336 & 85          & 117.5220    & 0.6116888  \\\\\n",
       "\tinterest &  1          & 2.114638051 & 84          & 115.4074    & 0.1458965  \\\\\n",
       "\\end{tabular}\n"
      ],
      "text/markdown": [
       "\n",
       "| <!--/--> | Df | Deviance | Resid. Df | Resid. Dev | Pr(>Chi) |\n",
       "|---|---|---|---|---|---|\n",
       "| NULL | NA          |          NA | 89          | 120.2847    |        NA   |\n",
       "| definition |  1          | 1.778093126 | 88          | 118.5066    | 0.1823837   |\n",
       "| need |  1          | 0.001523234 | 87          | 118.5051    | 0.9688676   |\n",
       "| purpose |  2          | 0.983063336 | 85          | 117.5220    | 0.6116888   |\n",
       "| interest |  1          | 2.114638051 | 84          | 115.4074    | 0.1458965   |\n",
       "\n"
      ],
      "text/plain": [
       "           Df Deviance    Resid. Df Resid. Dev Pr(>Chi) \n",
       "NULL       NA          NA 89        120.2847          NA\n",
       "definition  1 1.778093126 88        118.5066   0.1823837\n",
       "need        1 0.001523234 87        118.5051   0.9688676\n",
       "purpose     2 0.983063336 85        117.5220   0.6116888\n",
       "interest    1 2.114638051 84        115.4074   0.1458965"
      ]
     },
     "metadata": {},
     "output_type": "display_data"
    }
   ],
   "source": [
    "model <- glm(t1_4 ~ definition + need + purpose \n",
    "              + interest, data =survey, family = binomial)\n",
    "summary(model)\n",
    "\n",
    "\n",
    "anova(model, test=\"Chisq\")"
   ]
  },
  {
   "cell_type": "code",
   "execution_count": 18,
   "metadata": {},
   "outputs": [
    {
     "data": {
      "text/plain": [
       "\n",
       "Call:\n",
       "glm(formula = t1_5 ~ definition + need + purpose + interest, \n",
       "    family = binomial, data = survey)\n",
       "\n",
       "Deviance Residuals: \n",
       "    Min       1Q   Median       3Q      Max  \n",
       "-0.8212  -0.6516  -0.5949  -0.2894   2.4209  \n",
       "\n",
       "Coefficients:\n",
       "                  Estimate Std. Error z value Pr(>|z|)  \n",
       "(Intercept)       -1.35650    1.44395  -0.939   0.3475  \n",
       "definitionharmony  0.23910    0.79439   0.301   0.7634  \n",
       "needharmony       -0.32707    0.71300  -0.459   0.6464  \n",
       "purposecosmetic   -1.91074    1.13704  -1.680   0.0929 .\n",
       "purposeetc        -0.40122    0.63216  -0.635   0.5256  \n",
       "interest           0.05089    0.33646   0.151   0.8798  \n",
       "---\n",
       "Signif. codes:  0 '***' 0.001 '**' 0.01 '*' 0.05 '.' 0.1 ' ' 1\n",
       "\n",
       "(Dispersion parameter for binomial family taken to be 1)\n",
       "\n",
       "    Null deviance: 77.801  on 89  degrees of freedom\n",
       "Residual deviance: 73.843  on 84  degrees of freedom\n",
       "AIC: 85.843\n",
       "\n",
       "Number of Fisher Scoring iterations: 5\n"
      ]
     },
     "metadata": {},
     "output_type": "display_data"
    },
    {
     "data": {
      "text/html": [
       "<table>\n",
       "<thead><tr><th></th><th scope=col>Df</th><th scope=col>Deviance</th><th scope=col>Resid. Df</th><th scope=col>Resid. Dev</th><th scope=col>Pr(&gt;Chi)</th></tr></thead>\n",
       "<tbody>\n",
       "\t<tr><th scope=row>NULL</th><td>NA         </td><td>         NA</td><td>89         </td><td>77.80067   </td><td>       NA  </td></tr>\n",
       "\t<tr><th scope=row>definition</th><td> 1         </td><td>0.005180886</td><td>88         </td><td>77.79549   </td><td>0.9426191  </td></tr>\n",
       "\t<tr><th scope=row>need</th><td> 1         </td><td>0.015629779</td><td>87         </td><td>77.77986   </td><td>0.9005084  </td></tr>\n",
       "\t<tr><th scope=row>purpose</th><td> 2         </td><td>3.913683071</td><td>85         </td><td>73.86617   </td><td>0.1413040  </td></tr>\n",
       "\t<tr><th scope=row>interest</th><td> 1         </td><td>0.022938223</td><td>84         </td><td>73.84324   </td><td>0.8796178  </td></tr>\n",
       "</tbody>\n",
       "</table>\n"
      ],
      "text/latex": [
       "\\begin{tabular}{r|lllll}\n",
       "  & Df & Deviance & Resid. Df & Resid. Dev & Pr(>Chi)\\\\\n",
       "\\hline\n",
       "\tNULL & NA          &          NA & 89          & 77.80067    &        NA  \\\\\n",
       "\tdefinition &  1          & 0.005180886 & 88          & 77.79549    & 0.9426191  \\\\\n",
       "\tneed &  1          & 0.015629779 & 87          & 77.77986    & 0.9005084  \\\\\n",
       "\tpurpose &  2          & 3.913683071 & 85          & 73.86617    & 0.1413040  \\\\\n",
       "\tinterest &  1          & 0.022938223 & 84          & 73.84324    & 0.8796178  \\\\\n",
       "\\end{tabular}\n"
      ],
      "text/markdown": [
       "\n",
       "| <!--/--> | Df | Deviance | Resid. Df | Resid. Dev | Pr(>Chi) |\n",
       "|---|---|---|---|---|---|\n",
       "| NULL | NA          |          NA | 89          | 77.80067    |        NA   |\n",
       "| definition |  1          | 0.005180886 | 88          | 77.79549    | 0.9426191   |\n",
       "| need |  1          | 0.015629779 | 87          | 77.77986    | 0.9005084   |\n",
       "| purpose |  2          | 3.913683071 | 85          | 73.86617    | 0.1413040   |\n",
       "| interest |  1          | 0.022938223 | 84          | 73.84324    | 0.8796178   |\n",
       "\n"
      ],
      "text/plain": [
       "           Df Deviance    Resid. Df Resid. Dev Pr(>Chi) \n",
       "NULL       NA          NA 89        77.80067          NA\n",
       "definition  1 0.005180886 88        77.79549   0.9426191\n",
       "need        1 0.015629779 87        77.77986   0.9005084\n",
       "purpose     2 3.913683071 85        73.86617   0.1413040\n",
       "interest    1 0.022938223 84        73.84324   0.8796178"
      ]
     },
     "metadata": {},
     "output_type": "display_data"
    }
   ],
   "source": [
    "model <- glm(t1_5 ~ definition + need + purpose \n",
    "              + interest, data =survey, family = binomial)\n",
    "summary(model)\n",
    "\n",
    "\n",
    "anova(model, test=\"Chisq\")"
   ]
  },
  {
   "cell_type": "code",
   "execution_count": 19,
   "metadata": {},
   "outputs": [
    {
     "data": {
      "text/plain": [
       "\n",
       "Call:\n",
       "glm(formula = t2_1 ~ definition + need + purpose + interest, \n",
       "    family = binomial, data = survey)\n",
       "\n",
       "Deviance Residuals: \n",
       "    Min       1Q   Median       3Q      Max  \n",
       "-1.4775  -0.8145  -0.6477   1.2840   1.8743  \n",
       "\n",
       "Coefficients:\n",
       "                  Estimate Std. Error z value Pr(>|z|)  \n",
       "(Intercept)        1.01815    1.15893   0.879   0.3797  \n",
       "definitionharmony  0.04783    0.64943   0.074   0.9413  \n",
       "needharmony       -0.43319    0.57153  -0.758   0.4485  \n",
       "purposecosmetic    0.19100    0.66445   0.287   0.7738  \n",
       "purposeetc         0.01841    0.58299   0.032   0.9748  \n",
       "interest          -0.52658    0.27619  -1.907   0.0566 .\n",
       "---\n",
       "Signif. codes:  0 '***' 0.001 '**' 0.01 '*' 0.05 '.' 0.1 ' ' 1\n",
       "\n",
       "(Dispersion parameter for binomial family taken to be 1)\n",
       "\n",
       "    Null deviance: 106.35  on 89  degrees of freedom\n",
       "Residual deviance: 101.55  on 84  degrees of freedom\n",
       "AIC: 113.55\n",
       "\n",
       "Number of Fisher Scoring iterations: 4\n"
      ]
     },
     "metadata": {},
     "output_type": "display_data"
    },
    {
     "data": {
      "text/html": [
       "<table>\n",
       "<thead><tr><th></th><th scope=col>Df</th><th scope=col>Deviance</th><th scope=col>Resid. Df</th><th scope=col>Resid. Dev</th><th scope=col>Pr(&gt;Chi)</th></tr></thead>\n",
       "<tbody>\n",
       "\t<tr><th scope=row>NULL</th><td>NA          </td><td>          NA</td><td>89          </td><td>106.3516    </td><td>       NA   </td></tr>\n",
       "\t<tr><th scope=row>definition</th><td> 1          </td><td>0.0008512158</td><td>88          </td><td>106.3508    </td><td>0.9767245   </td></tr>\n",
       "\t<tr><th scope=row>need</th><td> 1          </td><td>0.8523684860</td><td>87          </td><td>105.4984    </td><td>0.3558832   </td></tr>\n",
       "\t<tr><th scope=row>purpose</th><td> 2          </td><td>0.1048258614</td><td>85          </td><td>105.3936    </td><td>0.9489369   </td></tr>\n",
       "\t<tr><th scope=row>interest</th><td> 1          </td><td>3.8481194270</td><td>84          </td><td>101.5454    </td><td>0.0498018   </td></tr>\n",
       "</tbody>\n",
       "</table>\n"
      ],
      "text/latex": [
       "\\begin{tabular}{r|lllll}\n",
       "  & Df & Deviance & Resid. Df & Resid. Dev & Pr(>Chi)\\\\\n",
       "\\hline\n",
       "\tNULL & NA           &           NA & 89           & 106.3516     &        NA   \\\\\n",
       "\tdefinition &  1           & 0.0008512158 & 88           & 106.3508     & 0.9767245   \\\\\n",
       "\tneed &  1           & 0.8523684860 & 87           & 105.4984     & 0.3558832   \\\\\n",
       "\tpurpose &  2           & 0.1048258614 & 85           & 105.3936     & 0.9489369   \\\\\n",
       "\tinterest &  1           & 3.8481194270 & 84           & 101.5454     & 0.0498018   \\\\\n",
       "\\end{tabular}\n"
      ],
      "text/markdown": [
       "\n",
       "| <!--/--> | Df | Deviance | Resid. Df | Resid. Dev | Pr(>Chi) |\n",
       "|---|---|---|---|---|---|\n",
       "| NULL | NA           |           NA | 89           | 106.3516     |        NA    |\n",
       "| definition |  1           | 0.0008512158 | 88           | 106.3508     | 0.9767245    |\n",
       "| need |  1           | 0.8523684860 | 87           | 105.4984     | 0.3558832    |\n",
       "| purpose |  2           | 0.1048258614 | 85           | 105.3936     | 0.9489369    |\n",
       "| interest |  1           | 3.8481194270 | 84           | 101.5454     | 0.0498018    |\n",
       "\n"
      ],
      "text/plain": [
       "           Df Deviance     Resid. Df Resid. Dev Pr(>Chi) \n",
       "NULL       NA           NA 89        106.3516          NA\n",
       "definition  1 0.0008512158 88        106.3508   0.9767245\n",
       "need        1 0.8523684860 87        105.4984   0.3558832\n",
       "purpose     2 0.1048258614 85        105.3936   0.9489369\n",
       "interest    1 3.8481194270 84        101.5454   0.0498018"
      ]
     },
     "metadata": {},
     "output_type": "display_data"
    }
   ],
   "source": [
    "model <- glm(t2_1 ~ definition + need + purpose \n",
    "              + interest, data =survey, family = binomial)\n",
    "summary(model)\n",
    "\n",
    "\n",
    "anova(model, test=\"Chisq\")"
   ]
  },
  {
   "cell_type": "code",
   "execution_count": 20,
   "metadata": {},
   "outputs": [
    {
     "data": {
      "text/plain": [
       "\n",
       "Call:\n",
       "glm(formula = t2_2 ~ definition + need + purpose + interest, \n",
       "    family = binomial, data = survey)\n",
       "\n",
       "Deviance Residuals: \n",
       "    Min       1Q   Median       3Q      Max  \n",
       "-1.0349  -0.7900  -0.6630  -0.4364   2.1338  \n",
       "\n",
       "Coefficients:\n",
       "                  Estimate Std. Error z value Pr(>|z|)\n",
       "(Intercept)        -0.3286     1.1828  -0.278    0.781\n",
       "definitionharmony  -0.1821     0.6841  -0.266    0.790\n",
       "needharmony         0.6596     0.6126   1.077    0.282\n",
       "purposecosmetic     0.3691     0.6567   0.562    0.574\n",
       "purposeetc         -0.4018     0.6018  -0.668    0.504\n",
       "interest           -0.2876     0.2774  -1.037    0.300\n",
       "\n",
       "(Dispersion parameter for binomial family taken to be 1)\n",
       "\n",
       "    Null deviance: 100.107  on 89  degrees of freedom\n",
       "Residual deviance:  96.396  on 84  degrees of freedom\n",
       "AIC: 108.4\n",
       "\n",
       "Number of Fisher Scoring iterations: 4\n"
      ]
     },
     "metadata": {},
     "output_type": "display_data"
    },
    {
     "data": {
      "text/html": [
       "<table>\n",
       "<thead><tr><th></th><th scope=col>Df</th><th scope=col>Deviance</th><th scope=col>Resid. Df</th><th scope=col>Resid. Dev</th><th scope=col>Pr(&gt;Chi)</th></tr></thead>\n",
       "<tbody>\n",
       "\t<tr><th scope=row>NULL</th><td>NA       </td><td>       NA</td><td>89       </td><td>100.10682</td><td>       NA</td></tr>\n",
       "\t<tr><th scope=row>definition</th><td> 1       </td><td>0.3809093</td><td>88       </td><td> 99.72592</td><td>0.5371170</td></tr>\n",
       "\t<tr><th scope=row>need</th><td> 1       </td><td>0.6967281</td><td>87       </td><td> 99.02919</td><td>0.4038853</td></tr>\n",
       "\t<tr><th scope=row>purpose</th><td> 2       </td><td>1.5516796</td><td>85       </td><td> 97.47751</td><td>0.4603170</td></tr>\n",
       "\t<tr><th scope=row>interest</th><td> 1       </td><td>1.0812426</td><td>84       </td><td> 96.39627</td><td>0.2984197</td></tr>\n",
       "</tbody>\n",
       "</table>\n"
      ],
      "text/latex": [
       "\\begin{tabular}{r|lllll}\n",
       "  & Df & Deviance & Resid. Df & Resid. Dev & Pr(>Chi)\\\\\n",
       "\\hline\n",
       "\tNULL & NA        &        NA & 89        & 100.10682 &        NA\\\\\n",
       "\tdefinition &  1        & 0.3809093 & 88        &  99.72592 & 0.5371170\\\\\n",
       "\tneed &  1        & 0.6967281 & 87        &  99.02919 & 0.4038853\\\\\n",
       "\tpurpose &  2        & 1.5516796 & 85        &  97.47751 & 0.4603170\\\\\n",
       "\tinterest &  1        & 1.0812426 & 84        &  96.39627 & 0.2984197\\\\\n",
       "\\end{tabular}\n"
      ],
      "text/markdown": [
       "\n",
       "| <!--/--> | Df | Deviance | Resid. Df | Resid. Dev | Pr(>Chi) |\n",
       "|---|---|---|---|---|---|\n",
       "| NULL | NA        |        NA | 89        | 100.10682 |        NA |\n",
       "| definition |  1        | 0.3809093 | 88        |  99.72592 | 0.5371170 |\n",
       "| need |  1        | 0.6967281 | 87        |  99.02919 | 0.4038853 |\n",
       "| purpose |  2        | 1.5516796 | 85        |  97.47751 | 0.4603170 |\n",
       "| interest |  1        | 1.0812426 | 84        |  96.39627 | 0.2984197 |\n",
       "\n"
      ],
      "text/plain": [
       "           Df Deviance  Resid. Df Resid. Dev Pr(>Chi) \n",
       "NULL       NA        NA 89        100.10682         NA\n",
       "definition  1 0.3809093 88         99.72592  0.5371170\n",
       "need        1 0.6967281 87         99.02919  0.4038853\n",
       "purpose     2 1.5516796 85         97.47751  0.4603170\n",
       "interest    1 1.0812426 84         96.39627  0.2984197"
      ]
     },
     "metadata": {},
     "output_type": "display_data"
    }
   ],
   "source": [
    "model <- glm(t2_2 ~ definition + need + purpose \n",
    "              + interest, data =survey, family = binomial)\n",
    "summary(model)\n",
    "\n",
    "\n",
    "anova(model, test=\"Chisq\")"
   ]
  },
  {
   "cell_type": "code",
   "execution_count": 21,
   "metadata": {},
   "outputs": [
    {
     "data": {
      "text/plain": [
       "\n",
       "Call:\n",
       "glm(formula = t2_3 ~ definition + need + purpose + interest, \n",
       "    family = binomial, data = survey)\n",
       "\n",
       "Deviance Residuals: \n",
       "    Min       1Q   Median       3Q      Max  \n",
       "-1.0448  -0.6516  -0.5797  -0.4561   2.2531  \n",
       "\n",
       "Coefficients:\n",
       "                  Estimate Std. Error z value Pr(>|z|)\n",
       "(Intercept)        -2.1516     1.3928  -1.545    0.122\n",
       "definitionharmony  -0.7592     0.7252  -1.047    0.295\n",
       "needharmony         0.5490     0.6960   0.789    0.430\n",
       "purposecosmetic    -0.3147     0.8138  -0.387    0.699\n",
       "purposeetc         -0.1060     0.6495  -0.163    0.870\n",
       "interest            0.2565     0.3225   0.795    0.426\n",
       "\n",
       "(Dispersion parameter for binomial family taken to be 1)\n",
       "\n",
       "    Null deviance: 84.241  on 89  degrees of freedom\n",
       "Residual deviance: 81.700  on 84  degrees of freedom\n",
       "AIC: 93.7\n",
       "\n",
       "Number of Fisher Scoring iterations: 4\n"
      ]
     },
     "metadata": {},
     "output_type": "display_data"
    },
    {
     "data": {
      "text/html": [
       "<table>\n",
       "<thead><tr><th></th><th scope=col>Df</th><th scope=col>Deviance</th><th scope=col>Resid. Df</th><th scope=col>Resid. Dev</th><th scope=col>Pr(&gt;Chi)</th></tr></thead>\n",
       "<tbody>\n",
       "\t<tr><th scope=row>NULL</th><td>NA       </td><td>       NA</td><td>89       </td><td>84.24127 </td><td>       NA</td></tr>\n",
       "\t<tr><th scope=row>definition</th><td> 1       </td><td>0.8752785</td><td>88       </td><td>83.36599 </td><td>0.3494981</td></tr>\n",
       "\t<tr><th scope=row>need</th><td> 1       </td><td>0.8763867</td><td>87       </td><td>82.48960 </td><td>0.3491932</td></tr>\n",
       "\t<tr><th scope=row>purpose</th><td> 2       </td><td>0.1374064</td><td>85       </td><td>82.35220 </td><td>0.9336038</td></tr>\n",
       "\t<tr><th scope=row>interest</th><td> 1       </td><td>0.6522513</td><td>84       </td><td>81.69994 </td><td>0.4193089</td></tr>\n",
       "</tbody>\n",
       "</table>\n"
      ],
      "text/latex": [
       "\\begin{tabular}{r|lllll}\n",
       "  & Df & Deviance & Resid. Df & Resid. Dev & Pr(>Chi)\\\\\n",
       "\\hline\n",
       "\tNULL & NA        &        NA & 89        & 84.24127  &        NA\\\\\n",
       "\tdefinition &  1        & 0.8752785 & 88        & 83.36599  & 0.3494981\\\\\n",
       "\tneed &  1        & 0.8763867 & 87        & 82.48960  & 0.3491932\\\\\n",
       "\tpurpose &  2        & 0.1374064 & 85        & 82.35220  & 0.9336038\\\\\n",
       "\tinterest &  1        & 0.6522513 & 84        & 81.69994  & 0.4193089\\\\\n",
       "\\end{tabular}\n"
      ],
      "text/markdown": [
       "\n",
       "| <!--/--> | Df | Deviance | Resid. Df | Resid. Dev | Pr(>Chi) |\n",
       "|---|---|---|---|---|---|\n",
       "| NULL | NA        |        NA | 89        | 84.24127  |        NA |\n",
       "| definition |  1        | 0.8752785 | 88        | 83.36599  | 0.3494981 |\n",
       "| need |  1        | 0.8763867 | 87        | 82.48960  | 0.3491932 |\n",
       "| purpose |  2        | 0.1374064 | 85        | 82.35220  | 0.9336038 |\n",
       "| interest |  1        | 0.6522513 | 84        | 81.69994  | 0.4193089 |\n",
       "\n"
      ],
      "text/plain": [
       "           Df Deviance  Resid. Df Resid. Dev Pr(>Chi) \n",
       "NULL       NA        NA 89        84.24127          NA\n",
       "definition  1 0.8752785 88        83.36599   0.3494981\n",
       "need        1 0.8763867 87        82.48960   0.3491932\n",
       "purpose     2 0.1374064 85        82.35220   0.9336038\n",
       "interest    1 0.6522513 84        81.69994   0.4193089"
      ]
     },
     "metadata": {},
     "output_type": "display_data"
    }
   ],
   "source": [
    "model <- glm(t2_3 ~ definition + need + purpose \n",
    "              + interest, data =survey, family = binomial)\n",
    "summary(model)\n",
    "\n",
    "\n",
    "anova(model, test=\"Chisq\")"
   ]
  },
  {
   "cell_type": "code",
   "execution_count": 22,
   "metadata": {},
   "outputs": [
    {
     "data": {
      "text/plain": [
       "\n",
       "Call:\n",
       "glm(formula = t2_4 ~ definition + need + purpose + interest, \n",
       "    family = binomial, data = survey)\n",
       "\n",
       "Deviance Residuals: \n",
       "    Min       1Q   Median       3Q      Max  \n",
       "-0.6965  -0.6118  -0.5613  -0.5359   2.0522  \n",
       "\n",
       "Coefficients:\n",
       "                  Estimate Std. Error z value Pr(>|z|)\n",
       "(Intercept)       -2.20085    1.44836  -1.520    0.129\n",
       "definitionharmony  0.11029    0.77234   0.143    0.886\n",
       "needharmony       -0.14312    0.68928  -0.208    0.836\n",
       "purposecosmetic   -0.17453    0.83703  -0.209    0.835\n",
       "purposeetc         0.07746    0.69114   0.112    0.911\n",
       "interest           0.14405    0.33129   0.435    0.664\n",
       "\n",
       "(Dispersion parameter for binomial family taken to be 1)\n",
       "\n",
       "    Null deviance: 77.801  on 89  degrees of freedom\n",
       "Residual deviance: 77.472  on 84  degrees of freedom\n",
       "AIC: 89.472\n",
       "\n",
       "Number of Fisher Scoring iterations: 4\n"
      ]
     },
     "metadata": {},
     "output_type": "display_data"
    },
    {
     "data": {
      "text/html": [
       "<table>\n",
       "<thead><tr><th></th><th scope=col>Df</th><th scope=col>Deviance</th><th scope=col>Resid. Df</th><th scope=col>Resid. Dev</th><th scope=col>Pr(&gt;Chi)</th></tr></thead>\n",
       "<tbody>\n",
       "\t<tr><th scope=row>NULL</th><td>NA         </td><td>         NA</td><td>89         </td><td>77.80067   </td><td>       NA  </td></tr>\n",
       "\t<tr><th scope=row>definition</th><td> 1         </td><td>0.005180886</td><td>88         </td><td>77.79549   </td><td>0.9426191  </td></tr>\n",
       "\t<tr><th scope=row>need</th><td> 1         </td><td>0.015629779</td><td>87         </td><td>77.77986   </td><td>0.9005084  </td></tr>\n",
       "\t<tr><th scope=row>purpose</th><td> 2         </td><td>0.116546107</td><td>85         </td><td>77.66331   </td><td>0.9433923  </td></tr>\n",
       "\t<tr><th scope=row>interest</th><td> 1         </td><td>0.191732210</td><td>84         </td><td>77.47158   </td><td>0.6614788  </td></tr>\n",
       "</tbody>\n",
       "</table>\n"
      ],
      "text/latex": [
       "\\begin{tabular}{r|lllll}\n",
       "  & Df & Deviance & Resid. Df & Resid. Dev & Pr(>Chi)\\\\\n",
       "\\hline\n",
       "\tNULL & NA          &          NA & 89          & 77.80067    &        NA  \\\\\n",
       "\tdefinition &  1          & 0.005180886 & 88          & 77.79549    & 0.9426191  \\\\\n",
       "\tneed &  1          & 0.015629779 & 87          & 77.77986    & 0.9005084  \\\\\n",
       "\tpurpose &  2          & 0.116546107 & 85          & 77.66331    & 0.9433923  \\\\\n",
       "\tinterest &  1          & 0.191732210 & 84          & 77.47158    & 0.6614788  \\\\\n",
       "\\end{tabular}\n"
      ],
      "text/markdown": [
       "\n",
       "| <!--/--> | Df | Deviance | Resid. Df | Resid. Dev | Pr(>Chi) |\n",
       "|---|---|---|---|---|---|\n",
       "| NULL | NA          |          NA | 89          | 77.80067    |        NA   |\n",
       "| definition |  1          | 0.005180886 | 88          | 77.79549    | 0.9426191   |\n",
       "| need |  1          | 0.015629779 | 87          | 77.77986    | 0.9005084   |\n",
       "| purpose |  2          | 0.116546107 | 85          | 77.66331    | 0.9433923   |\n",
       "| interest |  1          | 0.191732210 | 84          | 77.47158    | 0.6614788   |\n",
       "\n"
      ],
      "text/plain": [
       "           Df Deviance    Resid. Df Resid. Dev Pr(>Chi) \n",
       "NULL       NA          NA 89        77.80067          NA\n",
       "definition  1 0.005180886 88        77.79549   0.9426191\n",
       "need        1 0.015629779 87        77.77986   0.9005084\n",
       "purpose     2 0.116546107 85        77.66331   0.9433923\n",
       "interest    1 0.191732210 84        77.47158   0.6614788"
      ]
     },
     "metadata": {},
     "output_type": "display_data"
    }
   ],
   "source": [
    "model <- glm(t2_4 ~ definition + need + purpose \n",
    "              + interest, data =survey, family = binomial)\n",
    "summary(model)\n",
    "\n",
    "\n",
    "anova(model, test=\"Chisq\")"
   ]
  },
  {
   "cell_type": "code",
   "execution_count": 23,
   "metadata": {},
   "outputs": [
    {
     "data": {
      "text/plain": [
       "\n",
       "Call:\n",
       "glm(formula = t2_5 ~ definition + need + purpose + interest, \n",
       "    family = binomial, data = survey)\n",
       "\n",
       "Deviance Residuals: \n",
       "    Min       1Q   Median       3Q      Max  \n",
       "-1.1505  -0.5964  -0.4109  -0.2788   2.5407  \n",
       "\n",
       "Coefficients:\n",
       "                  Estimate Std. Error z value Pr(>|z|)   \n",
       "(Intercept)        -6.0136     1.9242  -3.125  0.00178 **\n",
       "definitionharmony   1.2392     0.9045   1.370  0.17070   \n",
       "needharmony        -0.8129     0.7563  -1.075  0.28248   \n",
       "purposecosmetic    -0.4815     1.0058  -0.479  0.63216   \n",
       "purposeetc          0.6083     0.7847   0.775  0.43819   \n",
       "interest            0.9422     0.4079   2.310  0.02089 * \n",
       "---\n",
       "Signif. codes:  0 '***' 0.001 '**' 0.01 '*' 0.05 '.' 0.1 ' ' 1\n",
       "\n",
       "(Dispersion parameter for binomial family taken to be 1)\n",
       "\n",
       "    Null deviance: 74.331  on 89  degrees of freedom\n",
       "Residual deviance: 65.418  on 84  degrees of freedom\n",
       "AIC: 77.418\n",
       "\n",
       "Number of Fisher Scoring iterations: 5\n"
      ]
     },
     "metadata": {},
     "output_type": "display_data"
    },
    {
     "data": {
      "text/html": [
       "<table>\n",
       "<thead><tr><th></th><th scope=col>Df</th><th scope=col>Deviance</th><th scope=col>Resid. Df</th><th scope=col>Resid. Dev</th><th scope=col>Pr(&gt;Chi)</th></tr></thead>\n",
       "<tbody>\n",
       "\t<tr><th scope=row>NULL</th><td>NA       </td><td>      NA </td><td>89       </td><td>74.33102 </td><td>       NA</td></tr>\n",
       "\t<tr><th scope=row>definition</th><td> 1       </td><td>0.172780 </td><td>88       </td><td>74.15824 </td><td>0.6776529</td></tr>\n",
       "\t<tr><th scope=row>need</th><td> 1       </td><td>0.460787 </td><td>87       </td><td>73.69746 </td><td>0.4972564</td></tr>\n",
       "\t<tr><th scope=row>purpose</th><td> 2       </td><td>2.079897 </td><td>85       </td><td>71.61756 </td><td>0.3534729</td></tr>\n",
       "\t<tr><th scope=row>interest</th><td> 1       </td><td>6.199132 </td><td>84       </td><td>65.41843 </td><td>0.0127813</td></tr>\n",
       "</tbody>\n",
       "</table>\n"
      ],
      "text/latex": [
       "\\begin{tabular}{r|lllll}\n",
       "  & Df & Deviance & Resid. Df & Resid. Dev & Pr(>Chi)\\\\\n",
       "\\hline\n",
       "\tNULL & NA        &       NA  & 89        & 74.33102  &        NA\\\\\n",
       "\tdefinition &  1        & 0.172780  & 88        & 74.15824  & 0.6776529\\\\\n",
       "\tneed &  1        & 0.460787  & 87        & 73.69746  & 0.4972564\\\\\n",
       "\tpurpose &  2        & 2.079897  & 85        & 71.61756  & 0.3534729\\\\\n",
       "\tinterest &  1        & 6.199132  & 84        & 65.41843  & 0.0127813\\\\\n",
       "\\end{tabular}\n"
      ],
      "text/markdown": [
       "\n",
       "| <!--/--> | Df | Deviance | Resid. Df | Resid. Dev | Pr(>Chi) |\n",
       "|---|---|---|---|---|---|\n",
       "| NULL | NA        |       NA  | 89        | 74.33102  |        NA |\n",
       "| definition |  1        | 0.172780  | 88        | 74.15824  | 0.6776529 |\n",
       "| need |  1        | 0.460787  | 87        | 73.69746  | 0.4972564 |\n",
       "| purpose |  2        | 2.079897  | 85        | 71.61756  | 0.3534729 |\n",
       "| interest |  1        | 6.199132  | 84        | 65.41843  | 0.0127813 |\n",
       "\n"
      ],
      "text/plain": [
       "           Df Deviance Resid. Df Resid. Dev Pr(>Chi) \n",
       "NULL       NA       NA 89        74.33102          NA\n",
       "definition  1 0.172780 88        74.15824   0.6776529\n",
       "need        1 0.460787 87        73.69746   0.4972564\n",
       "purpose     2 2.079897 85        71.61756   0.3534729\n",
       "interest    1 6.199132 84        65.41843   0.0127813"
      ]
     },
     "metadata": {},
     "output_type": "display_data"
    }
   ],
   "source": [
    "model <- glm(t2_5 ~ definition + need + purpose \n",
    "              + interest, data =survey, family = binomial)\n",
    "summary(model)\n",
    "\n",
    "\n",
    "anova(model, test=\"Chisq\")"
   ]
  },
  {
   "cell_type": "code",
   "execution_count": 24,
   "metadata": {},
   "outputs": [
    {
     "data": {
      "text/plain": [
       "\n",
       "Call:\n",
       "glm(formula = d1_1 ~ definition + need + purpose + interest, \n",
       "    family = binomial, data = survey)\n",
       "\n",
       "Deviance Residuals: \n",
       "    Min       1Q   Median       3Q      Max  \n",
       "-0.9542  -0.7413  -0.6451  -0.5271   2.0252  \n",
       "\n",
       "Coefficients:\n",
       "                  Estimate Std. Error z value Pr(>|z|)\n",
       "(Intercept)       -1.23818    1.24497  -0.995    0.320\n",
       "definitionharmony -0.09593    0.67117  -0.143    0.886\n",
       "needharmony       -0.43036    0.61815  -0.696    0.486\n",
       "purposecosmetic    0.13980    0.78764   0.177    0.859\n",
       "purposeetc         0.76167    0.65028   1.171    0.241\n",
       "interest          -0.03714    0.28423  -0.131    0.896\n",
       "\n",
       "(Dispersion parameter for binomial family taken to be 1)\n",
       "\n",
       "    Null deviance: 95.347  on 89  degrees of freedom\n",
       "Residual deviance: 92.570  on 84  degrees of freedom\n",
       "AIC: 104.57\n",
       "\n",
       "Number of Fisher Scoring iterations: 4\n"
      ]
     },
     "metadata": {},
     "output_type": "display_data"
    },
    {
     "data": {
      "text/html": [
       "<table>\n",
       "<thead><tr><th></th><th scope=col>Df</th><th scope=col>Deviance</th><th scope=col>Resid. Df</th><th scope=col>Resid. Dev</th><th scope=col>Pr(&gt;Chi)</th></tr></thead>\n",
       "<tbody>\n",
       "\t<tr><th scope=row>NULL</th><td>NA       </td><td>       NA</td><td>89       </td><td>95.34712 </td><td>       NA</td></tr>\n",
       "\t<tr><th scope=row>definition</th><td> 1       </td><td>0.6471349</td><td>88       </td><td>94.69998 </td><td>0.4211389</td></tr>\n",
       "\t<tr><th scope=row>need</th><td> 1       </td><td>0.3506956</td><td>87       </td><td>94.34929 </td><td>0.5537196</td></tr>\n",
       "\t<tr><th scope=row>purpose</th><td> 2       </td><td>1.7622861</td><td>85       </td><td>92.58700 </td><td>0.4143091</td></tr>\n",
       "\t<tr><th scope=row>interest</th><td> 1       </td><td>0.0170370</td><td>84       </td><td>92.56996 </td><td>0.8961504</td></tr>\n",
       "</tbody>\n",
       "</table>\n"
      ],
      "text/latex": [
       "\\begin{tabular}{r|lllll}\n",
       "  & Df & Deviance & Resid. Df & Resid. Dev & Pr(>Chi)\\\\\n",
       "\\hline\n",
       "\tNULL & NA        &        NA & 89        & 95.34712  &        NA\\\\\n",
       "\tdefinition &  1        & 0.6471349 & 88        & 94.69998  & 0.4211389\\\\\n",
       "\tneed &  1        & 0.3506956 & 87        & 94.34929  & 0.5537196\\\\\n",
       "\tpurpose &  2        & 1.7622861 & 85        & 92.58700  & 0.4143091\\\\\n",
       "\tinterest &  1        & 0.0170370 & 84        & 92.56996  & 0.8961504\\\\\n",
       "\\end{tabular}\n"
      ],
      "text/markdown": [
       "\n",
       "| <!--/--> | Df | Deviance | Resid. Df | Resid. Dev | Pr(>Chi) |\n",
       "|---|---|---|---|---|---|\n",
       "| NULL | NA        |        NA | 89        | 95.34712  |        NA |\n",
       "| definition |  1        | 0.6471349 | 88        | 94.69998  | 0.4211389 |\n",
       "| need |  1        | 0.3506956 | 87        | 94.34929  | 0.5537196 |\n",
       "| purpose |  2        | 1.7622861 | 85        | 92.58700  | 0.4143091 |\n",
       "| interest |  1        | 0.0170370 | 84        | 92.56996  | 0.8961504 |\n",
       "\n"
      ],
      "text/plain": [
       "           Df Deviance  Resid. Df Resid. Dev Pr(>Chi) \n",
       "NULL       NA        NA 89        95.34712          NA\n",
       "definition  1 0.6471349 88        94.69998   0.4211389\n",
       "need        1 0.3506956 87        94.34929   0.5537196\n",
       "purpose     2 1.7622861 85        92.58700   0.4143091\n",
       "interest    1 0.0170370 84        92.56996   0.8961504"
      ]
     },
     "metadata": {},
     "output_type": "display_data"
    }
   ],
   "source": [
    "model <- glm(d1_1 ~ definition + need + purpose \n",
    "              + interest, data =survey, family = binomial)\n",
    "summary(model)\n",
    "\n",
    "\n",
    "anova(model, test=\"Chisq\")"
   ]
  },
  {
   "cell_type": "code",
   "execution_count": 25,
   "metadata": {},
   "outputs": [
    {
     "data": {
      "text/plain": [
       "\n",
       "Call:\n",
       "glm(formula = d1_2 ~ definition + need + purpose + interest, \n",
       "    family = binomial, data = survey)\n",
       "\n",
       "Deviance Residuals: \n",
       "    Min       1Q   Median       3Q      Max  \n",
       "-1.3500  -0.9913  -0.8055   1.2925   1.7035  \n",
       "\n",
       "Coefficients:\n",
       "                  Estimate Std. Error z value Pr(>|z|)\n",
       "(Intercept)        1.03775    1.07417   0.966    0.334\n",
       "definitionharmony -0.76404    0.58328  -1.310    0.190\n",
       "needharmony        0.01685    0.53093   0.032    0.975\n",
       "purposecosmetic   -0.41598    0.62329  -0.667    0.505\n",
       "purposeetc        -0.35051    0.52480  -0.668    0.504\n",
       "interest          -0.22479    0.24912  -0.902    0.367\n",
       "\n",
       "(Dispersion parameter for binomial family taken to be 1)\n",
       "\n",
       "    Null deviance: 118.29  on 89  degrees of freedom\n",
       "Residual deviance: 114.92  on 84  degrees of freedom\n",
       "AIC: 126.92\n",
       "\n",
       "Number of Fisher Scoring iterations: 4\n"
      ]
     },
     "metadata": {},
     "output_type": "display_data"
    },
    {
     "data": {
      "text/html": [
       "<table>\n",
       "<thead><tr><th></th><th scope=col>Df</th><th scope=col>Deviance</th><th scope=col>Resid. Df</th><th scope=col>Resid. Dev</th><th scope=col>Pr(&gt;Chi)</th></tr></thead>\n",
       "<tbody>\n",
       "\t<tr><th scope=row>NULL</th><td>NA         </td><td>         NA</td><td>89         </td><td>118.2884   </td><td>       NA  </td></tr>\n",
       "\t<tr><th scope=row>definition</th><td> 1         </td><td>1.879333798</td><td>88         </td><td>116.4091   </td><td>0.1704099  </td></tr>\n",
       "\t<tr><th scope=row>need</th><td> 1         </td><td>0.002278114</td><td>87         </td><td>116.4068   </td><td>0.9619317  </td></tr>\n",
       "\t<tr><th scope=row>purpose</th><td> 2         </td><td>0.658981659</td><td>85         </td><td>115.7478   </td><td>0.7192899  </td></tr>\n",
       "\t<tr><th scope=row>interest</th><td> 1         </td><td>0.822831952</td><td>84         </td><td>114.9250   </td><td>0.3643535  </td></tr>\n",
       "</tbody>\n",
       "</table>\n"
      ],
      "text/latex": [
       "\\begin{tabular}{r|lllll}\n",
       "  & Df & Deviance & Resid. Df & Resid. Dev & Pr(>Chi)\\\\\n",
       "\\hline\n",
       "\tNULL & NA          &          NA & 89          & 118.2884    &        NA  \\\\\n",
       "\tdefinition &  1          & 1.879333798 & 88          & 116.4091    & 0.1704099  \\\\\n",
       "\tneed &  1          & 0.002278114 & 87          & 116.4068    & 0.9619317  \\\\\n",
       "\tpurpose &  2          & 0.658981659 & 85          & 115.7478    & 0.7192899  \\\\\n",
       "\tinterest &  1          & 0.822831952 & 84          & 114.9250    & 0.3643535  \\\\\n",
       "\\end{tabular}\n"
      ],
      "text/markdown": [
       "\n",
       "| <!--/--> | Df | Deviance | Resid. Df | Resid. Dev | Pr(>Chi) |\n",
       "|---|---|---|---|---|---|\n",
       "| NULL | NA          |          NA | 89          | 118.2884    |        NA   |\n",
       "| definition |  1          | 1.879333798 | 88          | 116.4091    | 0.1704099   |\n",
       "| need |  1          | 0.002278114 | 87          | 116.4068    | 0.9619317   |\n",
       "| purpose |  2          | 0.658981659 | 85          | 115.7478    | 0.7192899   |\n",
       "| interest |  1          | 0.822831952 | 84          | 114.9250    | 0.3643535   |\n",
       "\n"
      ],
      "text/plain": [
       "           Df Deviance    Resid. Df Resid. Dev Pr(>Chi) \n",
       "NULL       NA          NA 89        118.2884          NA\n",
       "definition  1 1.879333798 88        116.4091   0.1704099\n",
       "need        1 0.002278114 87        116.4068   0.9619317\n",
       "purpose     2 0.658981659 85        115.7478   0.7192899\n",
       "interest    1 0.822831952 84        114.9250   0.3643535"
      ]
     },
     "metadata": {},
     "output_type": "display_data"
    }
   ],
   "source": [
    "model <- glm(d1_2 ~ definition + need + purpose \n",
    "              + interest, data =survey, family = binomial)\n",
    "summary(model)\n",
    "\n",
    "\n",
    "anova(model, test=\"Chisq\")"
   ]
  },
  {
   "cell_type": "code",
   "execution_count": 26,
   "metadata": {},
   "outputs": [
    {
     "data": {
      "text/plain": [
       "\n",
       "Call:\n",
       "glm(formula = d1_3 ~ definition + need + purpose + interest, \n",
       "    family = binomial, data = survey)\n",
       "\n",
       "Deviance Residuals: \n",
       "    Min       1Q   Median       3Q      Max  \n",
       "-1.0090  -0.6178  -0.4173  -0.2651   2.3637  \n",
       "\n",
       "Coefficients:\n",
       "                  Estimate Std. Error z value Pr(>|z|)  \n",
       "(Intercept)        -2.4934     1.5997  -1.559   0.1191  \n",
       "definitionharmony  -0.2160     0.9729  -0.222   0.8243  \n",
       "needharmony         1.6545     0.9531   1.736   0.0826 .\n",
       "purposecosmetic     1.3108     0.9587   1.367   0.1715  \n",
       "purposeetc          0.8274     0.8772   0.943   0.3456  \n",
       "interest           -0.3329     0.3450  -0.965   0.3346  \n",
       "---\n",
       "Signif. codes:  0 '***' 0.001 '**' 0.01 '*' 0.05 '.' 0.1 ' ' 1\n",
       "\n",
       "(Dispersion parameter for binomial family taken to be 1)\n",
       "\n",
       "    Null deviance: 70.681  on 89  degrees of freedom\n",
       "Residual deviance: 64.131  on 84  degrees of freedom\n",
       "AIC: 76.131\n",
       "\n",
       "Number of Fisher Scoring iterations: 5\n"
      ]
     },
     "metadata": {},
     "output_type": "display_data"
    },
    {
     "data": {
      "text/html": [
       "<table>\n",
       "<thead><tr><th></th><th scope=col>Df</th><th scope=col>Deviance</th><th scope=col>Resid. Df</th><th scope=col>Resid. Dev</th><th scope=col>Pr(&gt;Chi)</th></tr></thead>\n",
       "<tbody>\n",
       "\t<tr><th scope=row>NULL</th><td>NA        </td><td>       NA </td><td>89        </td><td>70.68140  </td><td>        NA</td></tr>\n",
       "\t<tr><th scope=row>definition</th><td> 1        </td><td>0.9309427 </td><td>88        </td><td>69.75046  </td><td>0.33461809</td></tr>\n",
       "\t<tr><th scope=row>need</th><td> 1        </td><td>2.8539740 </td><td>87        </td><td>66.89649  </td><td>0.09114837</td></tr>\n",
       "\t<tr><th scope=row>purpose</th><td> 2        </td><td>1.8447449 </td><td>85        </td><td>65.05174  </td><td>0.39757470</td></tr>\n",
       "\t<tr><th scope=row>interest</th><td> 1        </td><td>0.9208395 </td><td>84        </td><td>64.13090  </td><td>0.33725463</td></tr>\n",
       "</tbody>\n",
       "</table>\n"
      ],
      "text/latex": [
       "\\begin{tabular}{r|lllll}\n",
       "  & Df & Deviance & Resid. Df & Resid. Dev & Pr(>Chi)\\\\\n",
       "\\hline\n",
       "\tNULL & NA         &        NA  & 89         & 70.68140   &         NA\\\\\n",
       "\tdefinition &  1         & 0.9309427  & 88         & 69.75046   & 0.33461809\\\\\n",
       "\tneed &  1         & 2.8539740  & 87         & 66.89649   & 0.09114837\\\\\n",
       "\tpurpose &  2         & 1.8447449  & 85         & 65.05174   & 0.39757470\\\\\n",
       "\tinterest &  1         & 0.9208395  & 84         & 64.13090   & 0.33725463\\\\\n",
       "\\end{tabular}\n"
      ],
      "text/markdown": [
       "\n",
       "| <!--/--> | Df | Deviance | Resid. Df | Resid. Dev | Pr(>Chi) |\n",
       "|---|---|---|---|---|---|\n",
       "| NULL | NA         |        NA  | 89         | 70.68140   |         NA |\n",
       "| definition |  1         | 0.9309427  | 88         | 69.75046   | 0.33461809 |\n",
       "| need |  1         | 2.8539740  | 87         | 66.89649   | 0.09114837 |\n",
       "| purpose |  2         | 1.8447449  | 85         | 65.05174   | 0.39757470 |\n",
       "| interest |  1         | 0.9208395  | 84         | 64.13090   | 0.33725463 |\n",
       "\n"
      ],
      "text/plain": [
       "           Df Deviance  Resid. Df Resid. Dev Pr(>Chi)  \n",
       "NULL       NA        NA 89        70.68140           NA\n",
       "definition  1 0.9309427 88        69.75046   0.33461809\n",
       "need        1 2.8539740 87        66.89649   0.09114837\n",
       "purpose     2 1.8447449 85        65.05174   0.39757470\n",
       "interest    1 0.9208395 84        64.13090   0.33725463"
      ]
     },
     "metadata": {},
     "output_type": "display_data"
    }
   ],
   "source": [
    "model <- glm(d1_3 ~ definition + need + purpose \n",
    "              + interest, data =survey, family = binomial)\n",
    "summary(model)\n",
    "\n",
    "\n",
    "anova(model, test=\"Chisq\")"
   ]
  },
  {
   "cell_type": "code",
   "execution_count": 27,
   "metadata": {},
   "outputs": [
    {
     "data": {
      "text/plain": [
       "\n",
       "Call:\n",
       "glm(formula = d1_5 ~ definition + need + purpose + interest, \n",
       "    family = binomial, data = survey)\n",
       "\n",
       "Deviance Residuals: \n",
       "     Min        1Q    Median        3Q       Max  \n",
       "-0.87344  -0.52958  -0.42821  -0.00009   2.38722  \n",
       "\n",
       "Coefficients:\n",
       "                    Estimate Std. Error z value Pr(>|z|)  \n",
       "(Intercept)         -4.26340    1.91982  -2.221   0.0264 *\n",
       "definitionharmony    0.69448    1.00990   0.688   0.4917  \n",
       "needharmony         -0.01449    0.89234  -0.016   0.9870  \n",
       "purposecosmetic    -17.93045 2244.07880  -0.008   0.9936  \n",
       "purposeetc          -0.33294    0.74581  -0.446   0.6553  \n",
       "interest             0.56328    0.42480   1.326   0.1848  \n",
       "---\n",
       "Signif. codes:  0 '***' 0.001 '**' 0.01 '*' 0.05 '.' 0.1 ' ' 1\n",
       "\n",
       "(Dispersion parameter for binomial family taken to be 1)\n",
       "\n",
       "    Null deviance: 58.515  on 89  degrees of freedom\n",
       "Residual deviance: 50.806  on 84  degrees of freedom\n",
       "AIC: 62.806\n",
       "\n",
       "Number of Fisher Scoring iterations: 18\n"
      ]
     },
     "metadata": {},
     "output_type": "display_data"
    },
    {
     "data": {
      "text/html": [
       "<table>\n",
       "<thead><tr><th></th><th scope=col>Df</th><th scope=col>Deviance</th><th scope=col>Resid. Df</th><th scope=col>Resid. Dev</th><th scope=col>Pr(&gt;Chi)</th></tr></thead>\n",
       "<tbody>\n",
       "\t<tr><th scope=row>NULL</th><td>NA        </td><td>       NA </td><td>89        </td><td>58.51494  </td><td>        NA</td></tr>\n",
       "\t<tr><th scope=row>definition</th><td> 1        </td><td>0.1602528 </td><td>88        </td><td>58.35468  </td><td>0.68892383</td></tr>\n",
       "\t<tr><th scope=row>need</th><td> 1        </td><td>0.1262810 </td><td>87        </td><td>58.22840  </td><td>0.72231966</td></tr>\n",
       "\t<tr><th scope=row>purpose</th><td> 2        </td><td>5.5690155 </td><td>85        </td><td>52.65939  </td><td>0.06175948</td></tr>\n",
       "\t<tr><th scope=row>interest</th><td> 1        </td><td>1.8536719 </td><td>84        </td><td>50.80571  </td><td>0.17335693</td></tr>\n",
       "</tbody>\n",
       "</table>\n"
      ],
      "text/latex": [
       "\\begin{tabular}{r|lllll}\n",
       "  & Df & Deviance & Resid. Df & Resid. Dev & Pr(>Chi)\\\\\n",
       "\\hline\n",
       "\tNULL & NA         &        NA  & 89         & 58.51494   &         NA\\\\\n",
       "\tdefinition &  1         & 0.1602528  & 88         & 58.35468   & 0.68892383\\\\\n",
       "\tneed &  1         & 0.1262810  & 87         & 58.22840   & 0.72231966\\\\\n",
       "\tpurpose &  2         & 5.5690155  & 85         & 52.65939   & 0.06175948\\\\\n",
       "\tinterest &  1         & 1.8536719  & 84         & 50.80571   & 0.17335693\\\\\n",
       "\\end{tabular}\n"
      ],
      "text/markdown": [
       "\n",
       "| <!--/--> | Df | Deviance | Resid. Df | Resid. Dev | Pr(>Chi) |\n",
       "|---|---|---|---|---|---|\n",
       "| NULL | NA         |        NA  | 89         | 58.51494   |         NA |\n",
       "| definition |  1         | 0.1602528  | 88         | 58.35468   | 0.68892383 |\n",
       "| need |  1         | 0.1262810  | 87         | 58.22840   | 0.72231966 |\n",
       "| purpose |  2         | 5.5690155  | 85         | 52.65939   | 0.06175948 |\n",
       "| interest |  1         | 1.8536719  | 84         | 50.80571   | 0.17335693 |\n",
       "\n"
      ],
      "text/plain": [
       "           Df Deviance  Resid. Df Resid. Dev Pr(>Chi)  \n",
       "NULL       NA        NA 89        58.51494           NA\n",
       "definition  1 0.1602528 88        58.35468   0.68892383\n",
       "need        1 0.1262810 87        58.22840   0.72231966\n",
       "purpose     2 5.5690155 85        52.65939   0.06175948\n",
       "interest    1 1.8536719 84        50.80571   0.17335693"
      ]
     },
     "metadata": {},
     "output_type": "display_data"
    }
   ],
   "source": [
    "model <- glm(d1_5 ~ definition + need + purpose \n",
    "              + interest, data =survey, family = binomial)\n",
    "summary(model)\n",
    "\n",
    "\n",
    "anova(model, test=\"Chisq\")"
   ]
  },
  {
   "cell_type": "code",
   "execution_count": 28,
   "metadata": {},
   "outputs": [
    {
     "data": {
      "text/plain": [
       "\n",
       "Call:\n",
       "glm(formula = d2_1 ~ definition + need + purpose + interest, \n",
       "    family = binomial, data = survey)\n",
       "\n",
       "Deviance Residuals: \n",
       "    Min       1Q   Median       3Q      Max  \n",
       "-1.2023  -1.0036  -0.8414   1.3334   1.5820  \n",
       "\n",
       "Coefficients:\n",
       "                  Estimate Std. Error z value Pr(>|z|)\n",
       "(Intercept)       -1.19544    1.07341  -1.114    0.265\n",
       "definitionharmony  0.34641    0.58740   0.590    0.555\n",
       "needharmony       -0.32424    0.51958  -0.624    0.533\n",
       "purposecosmetic    0.37502    0.61661   0.608    0.543\n",
       "purposeetc         0.43908    0.53548   0.820    0.412\n",
       "interest           0.09369    0.24524   0.382    0.702\n",
       "\n",
       "(Dispersion parameter for binomial family taken to be 1)\n",
       "\n",
       "    Null deviance: 119.33  on 89  degrees of freedom\n",
       "Residual deviance: 117.97  on 84  degrees of freedom\n",
       "AIC: 129.97\n",
       "\n",
       "Number of Fisher Scoring iterations: 4\n"
      ]
     },
     "metadata": {},
     "output_type": "display_data"
    },
    {
     "data": {
      "text/html": [
       "<table>\n",
       "<thead><tr><th></th><th scope=col>Df</th><th scope=col>Deviance</th><th scope=col>Resid. Df</th><th scope=col>Resid. Dev</th><th scope=col>Pr(&gt;Chi)</th></tr></thead>\n",
       "<tbody>\n",
       "\t<tr><th scope=row>NULL</th><td>NA        </td><td>        NA</td><td>89        </td><td>119.3338  </td><td>       NA </td></tr>\n",
       "\t<tr><th scope=row>definition</th><td> 1        </td><td>0.04672837</td><td>88        </td><td>119.2871  </td><td>0.8288572 </td></tr>\n",
       "\t<tr><th scope=row>need</th><td> 1        </td><td>0.40763068</td><td>87        </td><td>118.8795  </td><td>0.5231745 </td></tr>\n",
       "\t<tr><th scope=row>purpose</th><td> 2        </td><td>0.76505698</td><td>85        </td><td>118.1144  </td><td>0.6821345 </td></tr>\n",
       "\t<tr><th scope=row>interest</th><td> 1        </td><td>0.14667579</td><td>84        </td><td>117.9677  </td><td>0.7017326 </td></tr>\n",
       "</tbody>\n",
       "</table>\n"
      ],
      "text/latex": [
       "\\begin{tabular}{r|lllll}\n",
       "  & Df & Deviance & Resid. Df & Resid. Dev & Pr(>Chi)\\\\\n",
       "\\hline\n",
       "\tNULL & NA         &         NA & 89         & 119.3338   &        NA \\\\\n",
       "\tdefinition &  1         & 0.04672837 & 88         & 119.2871   & 0.8288572 \\\\\n",
       "\tneed &  1         & 0.40763068 & 87         & 118.8795   & 0.5231745 \\\\\n",
       "\tpurpose &  2         & 0.76505698 & 85         & 118.1144   & 0.6821345 \\\\\n",
       "\tinterest &  1         & 0.14667579 & 84         & 117.9677   & 0.7017326 \\\\\n",
       "\\end{tabular}\n"
      ],
      "text/markdown": [
       "\n",
       "| <!--/--> | Df | Deviance | Resid. Df | Resid. Dev | Pr(>Chi) |\n",
       "|---|---|---|---|---|---|\n",
       "| NULL | NA         |         NA | 89         | 119.3338   |        NA  |\n",
       "| definition |  1         | 0.04672837 | 88         | 119.2871   | 0.8288572  |\n",
       "| need |  1         | 0.40763068 | 87         | 118.8795   | 0.5231745  |\n",
       "| purpose |  2         | 0.76505698 | 85         | 118.1144   | 0.6821345  |\n",
       "| interest |  1         | 0.14667579 | 84         | 117.9677   | 0.7017326  |\n",
       "\n"
      ],
      "text/plain": [
       "           Df Deviance   Resid. Df Resid. Dev Pr(>Chi) \n",
       "NULL       NA         NA 89        119.3338          NA\n",
       "definition  1 0.04672837 88        119.2871   0.8288572\n",
       "need        1 0.40763068 87        118.8795   0.5231745\n",
       "purpose     2 0.76505698 85        118.1144   0.6821345\n",
       "interest    1 0.14667579 84        117.9677   0.7017326"
      ]
     },
     "metadata": {},
     "output_type": "display_data"
    }
   ],
   "source": [
    "model <- glm(d2_1 ~ definition + need + purpose \n",
    "              + interest, data =survey, family = binomial)\n",
    "summary(model)\n",
    "\n",
    "\n",
    "anova(model, test=\"Chisq\")"
   ]
  },
  {
   "cell_type": "code",
   "execution_count": 29,
   "metadata": {},
   "outputs": [
    {
     "data": {
      "text/plain": [
       "\n",
       "Call:\n",
       "glm(formula = d2_2 ~ definition + need + purpose + interest, \n",
       "    family = binomial, data = survey)\n",
       "\n",
       "Deviance Residuals: \n",
       "    Min       1Q   Median       3Q      Max  \n",
       "-1.2870  -0.6923  -0.4660  -0.3191   2.4101  \n",
       "\n",
       "Coefficients:\n",
       "                  Estimate Std. Error z value Pr(>|z|)  \n",
       "(Intercept)         1.5426     1.2881   1.198   0.2311  \n",
       "definitionharmony  -1.1031     0.7095  -1.555   0.1200  \n",
       "needharmony        -0.1037     0.6749  -0.154   0.8779  \n",
       "purposecosmetic    -1.5693     0.8983  -1.747   0.0807 .\n",
       "purposeetc         -0.7829     0.6098  -1.284   0.1992  \n",
       "interest           -0.4296     0.3072  -1.398   0.1621  \n",
       "---\n",
       "Signif. codes:  0 '***' 0.001 '**' 0.01 '*' 0.05 '.' 0.1 ' ' 1\n",
       "\n",
       "(Dispersion parameter for binomial family taken to be 1)\n",
       "\n",
       "    Null deviance: 90.072  on 89  degrees of freedom\n",
       "Residual deviance: 81.396  on 84  degrees of freedom\n",
       "AIC: 93.396\n",
       "\n",
       "Number of Fisher Scoring iterations: 5\n"
      ]
     },
     "metadata": {},
     "output_type": "display_data"
    },
    {
     "data": {
      "text/html": [
       "<table>\n",
       "<thead><tr><th></th><th scope=col>Df</th><th scope=col>Deviance</th><th scope=col>Resid. Df</th><th scope=col>Resid. Dev</th><th scope=col>Pr(&gt;Chi)</th></tr></thead>\n",
       "<tbody>\n",
       "\t<tr><th scope=row>NULL</th><td>NA          </td><td>          NA</td><td>89          </td><td>90.07244    </td><td>        NA  </td></tr>\n",
       "\t<tr><th scope=row>definition</th><td> 1          </td><td>2.916971e+00</td><td>88          </td><td>87.15547    </td><td>0.08765229  </td></tr>\n",
       "\t<tr><th scope=row>need</th><td> 1          </td><td>9.452684e-05</td><td>87          </td><td>87.15537    </td><td>0.99224270  </td></tr>\n",
       "\t<tr><th scope=row>purpose</th><td> 2          </td><td>3.779542e+00</td><td>85          </td><td>83.37583    </td><td>0.15110637  </td></tr>\n",
       "\t<tr><th scope=row>interest</th><td> 1          </td><td>1.979816e+00</td><td>84          </td><td>81.39601    </td><td>0.15940980  </td></tr>\n",
       "</tbody>\n",
       "</table>\n"
      ],
      "text/latex": [
       "\\begin{tabular}{r|lllll}\n",
       "  & Df & Deviance & Resid. Df & Resid. Dev & Pr(>Chi)\\\\\n",
       "\\hline\n",
       "\tNULL & NA           &           NA & 89           & 90.07244     &         NA  \\\\\n",
       "\tdefinition &  1           & 2.916971e+00 & 88           & 87.15547     & 0.08765229  \\\\\n",
       "\tneed &  1           & 9.452684e-05 & 87           & 87.15537     & 0.99224270  \\\\\n",
       "\tpurpose &  2           & 3.779542e+00 & 85           & 83.37583     & 0.15110637  \\\\\n",
       "\tinterest &  1           & 1.979816e+00 & 84           & 81.39601     & 0.15940980  \\\\\n",
       "\\end{tabular}\n"
      ],
      "text/markdown": [
       "\n",
       "| <!--/--> | Df | Deviance | Resid. Df | Resid. Dev | Pr(>Chi) |\n",
       "|---|---|---|---|---|---|\n",
       "| NULL | NA           |           NA | 89           | 90.07244     |         NA   |\n",
       "| definition |  1           | 2.916971e+00 | 88           | 87.15547     | 0.08765229   |\n",
       "| need |  1           | 9.452684e-05 | 87           | 87.15537     | 0.99224270   |\n",
       "| purpose |  2           | 3.779542e+00 | 85           | 83.37583     | 0.15110637   |\n",
       "| interest |  1           | 1.979816e+00 | 84           | 81.39601     | 0.15940980   |\n",
       "\n"
      ],
      "text/plain": [
       "           Df Deviance     Resid. Df Resid. Dev Pr(>Chi)  \n",
       "NULL       NA           NA 89        90.07244           NA\n",
       "definition  1 2.916971e+00 88        87.15547   0.08765229\n",
       "need        1 9.452684e-05 87        87.15537   0.99224270\n",
       "purpose     2 3.779542e+00 85        83.37583   0.15110637\n",
       "interest    1 1.979816e+00 84        81.39601   0.15940980"
      ]
     },
     "metadata": {},
     "output_type": "display_data"
    }
   ],
   "source": [
    "model <- glm(d2_2 ~ definition + need + purpose \n",
    "              + interest, data =survey, family = binomial)\n",
    "summary(model)\n",
    "\n",
    "\n",
    "anova(model, test=\"Chisq\")"
   ]
  },
  {
   "cell_type": "code",
   "execution_count": 30,
   "metadata": {},
   "outputs": [
    {
     "data": {
      "text/plain": [
       "\n",
       "Call:\n",
       "glm(formula = d2_3 ~ definition + need + purpose + interest, \n",
       "    family = binomial, data = survey)\n",
       "\n",
       "Deviance Residuals: \n",
       "    Min       1Q   Median       3Q      Max  \n",
       "-0.9570  -0.4688  -0.3436  -0.1925   2.5542  \n",
       "\n",
       "Coefficients:\n",
       "                  Estimate Std. Error z value Pr(>|z|)   \n",
       "(Intercept)        -5.5549     2.0732  -2.679  0.00737 **\n",
       "definitionharmony   0.2159     1.0731   0.201  0.84058   \n",
       "needharmony         1.1237     1.0401   1.080  0.27998   \n",
       "purposecosmetic     0.2578     1.4628   0.176  0.86010   \n",
       "purposeetc          1.8357     1.1054   1.661  0.09679 . \n",
       "interest            0.3673     0.4042   0.909  0.36348   \n",
       "---\n",
       "Signif. codes:  0 '***' 0.001 '**' 0.01 '*' 0.05 '.' 0.1 ' ' 1\n",
       "\n",
       "(Dispersion parameter for binomial family taken to be 1)\n",
       "\n",
       "    Null deviance: 62.790  on 89  degrees of freedom\n",
       "Residual deviance: 54.316  on 84  degrees of freedom\n",
       "AIC: 66.316\n",
       "\n",
       "Number of Fisher Scoring iterations: 6\n"
      ]
     },
     "metadata": {},
     "output_type": "display_data"
    },
    {
     "data": {
      "text/html": [
       "<table>\n",
       "<thead><tr><th></th><th scope=col>Df</th><th scope=col>Deviance</th><th scope=col>Resid. Df</th><th scope=col>Resid. Dev</th><th scope=col>Pr(&gt;Chi)</th></tr></thead>\n",
       "<tbody>\n",
       "\t<tr><th scope=row>NULL</th><td>NA        </td><td>       NA </td><td>89        </td><td>62.78978  </td><td>        NA</td></tr>\n",
       "\t<tr><th scope=row>definition</th><td> 1        </td><td>0.3598728 </td><td>88        </td><td>62.42990  </td><td>0.54857690</td></tr>\n",
       "\t<tr><th scope=row>need</th><td> 1        </td><td>1.9139954 </td><td>87        </td><td>60.51591  </td><td>0.16652012</td></tr>\n",
       "\t<tr><th scope=row>purpose</th><td> 2        </td><td>5.3313724 </td><td>85        </td><td>55.18454  </td><td>0.06955161</td></tr>\n",
       "\t<tr><th scope=row>interest</th><td> 1        </td><td>0.8687321 </td><td>84        </td><td>54.31580  </td><td>0.35130656</td></tr>\n",
       "</tbody>\n",
       "</table>\n"
      ],
      "text/latex": [
       "\\begin{tabular}{r|lllll}\n",
       "  & Df & Deviance & Resid. Df & Resid. Dev & Pr(>Chi)\\\\\n",
       "\\hline\n",
       "\tNULL & NA         &        NA  & 89         & 62.78978   &         NA\\\\\n",
       "\tdefinition &  1         & 0.3598728  & 88         & 62.42990   & 0.54857690\\\\\n",
       "\tneed &  1         & 1.9139954  & 87         & 60.51591   & 0.16652012\\\\\n",
       "\tpurpose &  2         & 5.3313724  & 85         & 55.18454   & 0.06955161\\\\\n",
       "\tinterest &  1         & 0.8687321  & 84         & 54.31580   & 0.35130656\\\\\n",
       "\\end{tabular}\n"
      ],
      "text/markdown": [
       "\n",
       "| <!--/--> | Df | Deviance | Resid. Df | Resid. Dev | Pr(>Chi) |\n",
       "|---|---|---|---|---|---|\n",
       "| NULL | NA         |        NA  | 89         | 62.78978   |         NA |\n",
       "| definition |  1         | 0.3598728  | 88         | 62.42990   | 0.54857690 |\n",
       "| need |  1         | 1.9139954  | 87         | 60.51591   | 0.16652012 |\n",
       "| purpose |  2         | 5.3313724  | 85         | 55.18454   | 0.06955161 |\n",
       "| interest |  1         | 0.8687321  | 84         | 54.31580   | 0.35130656 |\n",
       "\n"
      ],
      "text/plain": [
       "           Df Deviance  Resid. Df Resid. Dev Pr(>Chi)  \n",
       "NULL       NA        NA 89        62.78978           NA\n",
       "definition  1 0.3598728 88        62.42990   0.54857690\n",
       "need        1 1.9139954 87        60.51591   0.16652012\n",
       "purpose     2 5.3313724 85        55.18454   0.06955161\n",
       "interest    1 0.8687321 84        54.31580   0.35130656"
      ]
     },
     "metadata": {},
     "output_type": "display_data"
    }
   ],
   "source": [
    "model <- glm(d2_3 ~ definition + need + purpose \n",
    "              + interest, data =survey, family = binomial)\n",
    "summary(model)\n",
    "\n",
    "\n",
    "anova(model, test=\"Chisq\")"
   ]
  },
  {
   "cell_type": "code",
   "execution_count": 31,
   "metadata": {},
   "outputs": [
    {
     "data": {
      "text/plain": [
       "\n",
       "Call:\n",
       "glm(formula = d2_4 ~ definition + need + purpose + interest, \n",
       "    family = binomial, data = survey)\n",
       "\n",
       "Deviance Residuals: \n",
       "    Min       1Q   Median       3Q      Max  \n",
       "-0.9563  -0.7429  -0.5943  -0.4794   2.1299  \n",
       "\n",
       "Coefficients:\n",
       "                  Estimate Std. Error z value Pr(>|z|)\n",
       "(Intercept)        -0.8703     1.2538  -0.694    0.488\n",
       "definitionharmony   0.3438     0.7175   0.479    0.632\n",
       "needharmony        -0.1315     0.6065  -0.217    0.828\n",
       "purposecosmetic     0.4152     0.6652   0.624    0.533\n",
       "purposeetc         -0.5326     0.6477  -0.822    0.411\n",
       "interest           -0.1512     0.2935  -0.515    0.606\n",
       "\n",
       "(Dispersion parameter for binomial family taken to be 1)\n",
       "\n",
       "    Null deviance: 92.777  on 89  degrees of freedom\n",
       "Residual deviance: 89.494  on 84  degrees of freedom\n",
       "AIC: 101.49\n",
       "\n",
       "Number of Fisher Scoring iterations: 4\n"
      ]
     },
     "metadata": {},
     "output_type": "display_data"
    },
    {
     "data": {
      "text/html": [
       "<table>\n",
       "<thead><tr><th></th><th scope=col>Df</th><th scope=col>Deviance</th><th scope=col>Resid. Df</th><th scope=col>Resid. Dev</th><th scope=col>Pr(&gt;Chi)</th></tr></thead>\n",
       "<tbody>\n",
       "\t<tr><th scope=row>NULL</th><td>NA       </td><td>       NA</td><td>89       </td><td>92.77652 </td><td>       NA</td></tr>\n",
       "\t<tr><th scope=row>definition</th><td> 1       </td><td>0.5664844</td><td>88       </td><td>92.21003 </td><td>0.4516593</td></tr>\n",
       "\t<tr><th scope=row>need</th><td> 1       </td><td>0.2747666</td><td>87       </td><td>91.93527 </td><td>0.6001520</td></tr>\n",
       "\t<tr><th scope=row>purpose</th><td> 2       </td><td>2.1771080</td><td>85       </td><td>89.75816 </td><td>0.3367030</td></tr>\n",
       "\t<tr><th scope=row>interest</th><td> 1       </td><td>0.2644139</td><td>84       </td><td>89.49374 </td><td>0.6071038</td></tr>\n",
       "</tbody>\n",
       "</table>\n"
      ],
      "text/latex": [
       "\\begin{tabular}{r|lllll}\n",
       "  & Df & Deviance & Resid. Df & Resid. Dev & Pr(>Chi)\\\\\n",
       "\\hline\n",
       "\tNULL & NA        &        NA & 89        & 92.77652  &        NA\\\\\n",
       "\tdefinition &  1        & 0.5664844 & 88        & 92.21003  & 0.4516593\\\\\n",
       "\tneed &  1        & 0.2747666 & 87        & 91.93527  & 0.6001520\\\\\n",
       "\tpurpose &  2        & 2.1771080 & 85        & 89.75816  & 0.3367030\\\\\n",
       "\tinterest &  1        & 0.2644139 & 84        & 89.49374  & 0.6071038\\\\\n",
       "\\end{tabular}\n"
      ],
      "text/markdown": [
       "\n",
       "| <!--/--> | Df | Deviance | Resid. Df | Resid. Dev | Pr(>Chi) |\n",
       "|---|---|---|---|---|---|\n",
       "| NULL | NA        |        NA | 89        | 92.77652  |        NA |\n",
       "| definition |  1        | 0.5664844 | 88        | 92.21003  | 0.4516593 |\n",
       "| need |  1        | 0.2747666 | 87        | 91.93527  | 0.6001520 |\n",
       "| purpose |  2        | 2.1771080 | 85        | 89.75816  | 0.3367030 |\n",
       "| interest |  1        | 0.2644139 | 84        | 89.49374  | 0.6071038 |\n",
       "\n"
      ],
      "text/plain": [
       "           Df Deviance  Resid. Df Resid. Dev Pr(>Chi) \n",
       "NULL       NA        NA 89        92.77652          NA\n",
       "definition  1 0.5664844 88        92.21003   0.4516593\n",
       "need        1 0.2747666 87        91.93527   0.6001520\n",
       "purpose     2 2.1771080 85        89.75816   0.3367030\n",
       "interest    1 0.2644139 84        89.49374   0.6071038"
      ]
     },
     "metadata": {},
     "output_type": "display_data"
    }
   ],
   "source": [
    "model <- glm(d2_4 ~ definition + need + purpose \n",
    "              + interest, data =survey, family = binomial)\n",
    "summary(model)\n",
    "\n",
    "\n",
    "anova(model, test=\"Chisq\")"
   ]
  },
  {
   "cell_type": "code",
   "execution_count": 32,
   "metadata": {},
   "outputs": [
    {
     "data": {
      "text/plain": [
       "\n",
       "Call:\n",
       "glm(formula = d2_5 ~ definition + need + purpose + interest, \n",
       "    family = binomial, data = survey)\n",
       "\n",
       "Deviance Residuals: \n",
       "    Min       1Q   Median       3Q      Max  \n",
       "-0.7426  -0.4795  -0.4385  -0.3462   2.4720  \n",
       "\n",
       "Coefficients:\n",
       "                  Estimate Std. Error z value Pr(>|z|)  \n",
       "(Intercept)        -3.7239     1.8874  -1.973   0.0485 *\n",
       "definitionharmony   0.1534     0.9610   0.160   0.8732  \n",
       "needharmony         0.3375     0.8329   0.405   0.6853  \n",
       "purposecosmetic     0.2058     0.8921   0.231   0.8175  \n",
       "purposeetc         -0.5644     0.8696  -0.649   0.5163  \n",
       "interest            0.3759     0.4231   0.888   0.3743  \n",
       "---\n",
       "Signif. codes:  0 '***' 0.001 '**' 0.01 '*' 0.05 '.' 0.1 ' ' 1\n",
       "\n",
       "(Dispersion parameter for binomial family taken to be 1)\n",
       "\n",
       "    Null deviance: 58.515  on 89  degrees of freedom\n",
       "Residual deviance: 56.610  on 84  degrees of freedom\n",
       "AIC: 68.61\n",
       "\n",
       "Number of Fisher Scoring iterations: 5\n"
      ]
     },
     "metadata": {},
     "output_type": "display_data"
    },
    {
     "data": {
      "text/html": [
       "<table>\n",
       "<thead><tr><th></th><th scope=col>Df</th><th scope=col>Deviance</th><th scope=col>Resid. Df</th><th scope=col>Resid. Dev</th><th scope=col>Pr(&gt;Chi)</th></tr></thead>\n",
       "<tbody>\n",
       "\t<tr><th scope=row>NULL</th><td>NA       </td><td>       NA</td><td>89       </td><td>58.51494 </td><td>       NA</td></tr>\n",
       "\t<tr><th scope=row>definition</th><td> 1       </td><td>0.1602528</td><td>88       </td><td>58.35468 </td><td>0.6889238</td></tr>\n",
       "\t<tr><th scope=row>need</th><td> 1       </td><td>0.1262810</td><td>87       </td><td>58.22840 </td><td>0.7223197</td></tr>\n",
       "\t<tr><th scope=row>purpose</th><td> 2       </td><td>0.7933435</td><td>85       </td><td>57.43506 </td><td>0.6725547</td></tr>\n",
       "\t<tr><th scope=row>interest</th><td> 1       </td><td>0.8246269</td><td>84       </td><td>56.61043 </td><td>0.3638308</td></tr>\n",
       "</tbody>\n",
       "</table>\n"
      ],
      "text/latex": [
       "\\begin{tabular}{r|lllll}\n",
       "  & Df & Deviance & Resid. Df & Resid. Dev & Pr(>Chi)\\\\\n",
       "\\hline\n",
       "\tNULL & NA        &        NA & 89        & 58.51494  &        NA\\\\\n",
       "\tdefinition &  1        & 0.1602528 & 88        & 58.35468  & 0.6889238\\\\\n",
       "\tneed &  1        & 0.1262810 & 87        & 58.22840  & 0.7223197\\\\\n",
       "\tpurpose &  2        & 0.7933435 & 85        & 57.43506  & 0.6725547\\\\\n",
       "\tinterest &  1        & 0.8246269 & 84        & 56.61043  & 0.3638308\\\\\n",
       "\\end{tabular}\n"
      ],
      "text/markdown": [
       "\n",
       "| <!--/--> | Df | Deviance | Resid. Df | Resid. Dev | Pr(>Chi) |\n",
       "|---|---|---|---|---|---|\n",
       "| NULL | NA        |        NA | 89        | 58.51494  |        NA |\n",
       "| definition |  1        | 0.1602528 | 88        | 58.35468  | 0.6889238 |\n",
       "| need |  1        | 0.1262810 | 87        | 58.22840  | 0.7223197 |\n",
       "| purpose |  2        | 0.7933435 | 85        | 57.43506  | 0.6725547 |\n",
       "| interest |  1        | 0.8246269 | 84        | 56.61043  | 0.3638308 |\n",
       "\n"
      ],
      "text/plain": [
       "           Df Deviance  Resid. Df Resid. Dev Pr(>Chi) \n",
       "NULL       NA        NA 89        58.51494          NA\n",
       "definition  1 0.1602528 88        58.35468   0.6889238\n",
       "need        1 0.1262810 87        58.22840   0.7223197\n",
       "purpose     2 0.7933435 85        57.43506   0.6725547\n",
       "interest    1 0.8246269 84        56.61043   0.3638308"
      ]
     },
     "metadata": {},
     "output_type": "display_data"
    }
   ],
   "source": [
    "model <- glm(d2_5 ~ definition + need + purpose \n",
    "              + interest, data =survey, family = binomial)\n",
    "summary(model)\n",
    "\n",
    "\n",
    "anova(model, test=\"Chisq\")"
   ]
  },
  {
   "cell_type": "code",
   "execution_count": 33,
   "metadata": {},
   "outputs": [
    {
     "data": {
      "text/plain": [
       "\n",
       "Call:\n",
       "glm(formula = d3_1 ~ definition + need + purpose + interest, \n",
       "    family = binomial, data = survey)\n",
       "\n",
       "Deviance Residuals: \n",
       "    Min       1Q   Median       3Q      Max  \n",
       "-1.1321  -0.6722  -0.4597  -0.3519   2.2434  \n",
       "\n",
       "Coefficients:\n",
       "                  Estimate Std. Error z value Pr(>|z|)\n",
       "(Intercept)        -2.1732     1.4056  -1.546    0.122\n",
       "definitionharmony  -0.3290     0.6950  -0.473    0.636\n",
       "needharmony        -0.7306     0.6349  -1.151    0.250\n",
       "purposecosmetic     1.1100     0.7248   1.532    0.126\n",
       "purposeetc         -0.4735     0.7507  -0.631    0.528\n",
       "interest            0.3185     0.3317   0.960    0.337\n",
       "\n",
       "(Dispersion parameter for binomial family taken to be 1)\n",
       "\n",
       "    Null deviance: 87.229  on 89  degrees of freedom\n",
       "Residual deviance: 78.411  on 84  degrees of freedom\n",
       "AIC: 90.411\n",
       "\n",
       "Number of Fisher Scoring iterations: 5\n"
      ]
     },
     "metadata": {},
     "output_type": "display_data"
    },
    {
     "data": {
      "text/html": [
       "<table>\n",
       "<thead><tr><th></th><th scope=col>Df</th><th scope=col>Deviance</th><th scope=col>Resid. Df</th><th scope=col>Resid. Dev</th><th scope=col>Pr(&gt;Chi)</th></tr></thead>\n",
       "<tbody>\n",
       "\t<tr><th scope=row>NULL</th><td>NA        </td><td>       NA </td><td>89        </td><td>87.22941  </td><td>        NA</td></tr>\n",
       "\t<tr><th scope=row>definition</th><td> 1        </td><td>0.5690401 </td><td>88        </td><td>86.66037  </td><td>0.45064061</td></tr>\n",
       "\t<tr><th scope=row>need</th><td> 1        </td><td>2.1080012 </td><td>87        </td><td>84.55237  </td><td>0.14653060</td></tr>\n",
       "\t<tr><th scope=row>purpose</th><td> 2        </td><td>5.1896016 </td><td>85        </td><td>79.36277  </td><td>0.07466075</td></tr>\n",
       "\t<tr><th scope=row>interest</th><td> 1        </td><td>0.9513959 </td><td>84        </td><td>78.41137  </td><td>0.32936423</td></tr>\n",
       "</tbody>\n",
       "</table>\n"
      ],
      "text/latex": [
       "\\begin{tabular}{r|lllll}\n",
       "  & Df & Deviance & Resid. Df & Resid. Dev & Pr(>Chi)\\\\\n",
       "\\hline\n",
       "\tNULL & NA         &        NA  & 89         & 87.22941   &         NA\\\\\n",
       "\tdefinition &  1         & 0.5690401  & 88         & 86.66037   & 0.45064061\\\\\n",
       "\tneed &  1         & 2.1080012  & 87         & 84.55237   & 0.14653060\\\\\n",
       "\tpurpose &  2         & 5.1896016  & 85         & 79.36277   & 0.07466075\\\\\n",
       "\tinterest &  1         & 0.9513959  & 84         & 78.41137   & 0.32936423\\\\\n",
       "\\end{tabular}\n"
      ],
      "text/markdown": [
       "\n",
       "| <!--/--> | Df | Deviance | Resid. Df | Resid. Dev | Pr(>Chi) |\n",
       "|---|---|---|---|---|---|\n",
       "| NULL | NA         |        NA  | 89         | 87.22941   |         NA |\n",
       "| definition |  1         | 0.5690401  | 88         | 86.66037   | 0.45064061 |\n",
       "| need |  1         | 2.1080012  | 87         | 84.55237   | 0.14653060 |\n",
       "| purpose |  2         | 5.1896016  | 85         | 79.36277   | 0.07466075 |\n",
       "| interest |  1         | 0.9513959  | 84         | 78.41137   | 0.32936423 |\n",
       "\n"
      ],
      "text/plain": [
       "           Df Deviance  Resid. Df Resid. Dev Pr(>Chi)  \n",
       "NULL       NA        NA 89        87.22941           NA\n",
       "definition  1 0.5690401 88        86.66037   0.45064061\n",
       "need        1 2.1080012 87        84.55237   0.14653060\n",
       "purpose     2 5.1896016 85        79.36277   0.07466075\n",
       "interest    1 0.9513959 84        78.41137   0.32936423"
      ]
     },
     "metadata": {},
     "output_type": "display_data"
    }
   ],
   "source": [
    "model <- glm(d3_1 ~ definition + need + purpose \n",
    "              + interest, data =survey, family = binomial)\n",
    "summary(model)\n",
    "\n",
    "\n",
    "anova(model, test=\"Chisq\")"
   ]
  },
  {
   "cell_type": "code",
   "execution_count": 34,
   "metadata": {},
   "outputs": [
    {
     "data": {
      "text/plain": [
       "\n",
       "Call:\n",
       "glm(formula = d3_2 ~ definition + need + purpose + interest, \n",
       "    family = binomial, data = survey)\n",
       "\n",
       "Deviance Residuals: \n",
       "    Min       1Q   Median       3Q      Max  \n",
       "-0.9228  -0.7120  -0.5775  -0.2455   2.4230  \n",
       "\n",
       "Coefficients:\n",
       "                  Estimate Std. Error z value Pr(>|z|)\n",
       "(Intercept)       -0.53883    1.34721  -0.400    0.689\n",
       "definitionharmony -0.60611    0.78776  -0.769    0.442\n",
       "needharmony        0.72673    0.75553   0.962    0.336\n",
       "purposecosmetic   -1.72605    1.13271  -1.524    0.128\n",
       "purposeetc        -0.08823    0.60817  -0.145    0.885\n",
       "interest          -0.20534    0.31486  -0.652    0.514\n",
       "\n",
       "(Dispersion parameter for binomial family taken to be 1)\n",
       "\n",
       "    Null deviance: 84.241  on 89  degrees of freedom\n",
       "Residual deviance: 78.510  on 84  degrees of freedom\n",
       "AIC: 90.51\n",
       "\n",
       "Number of Fisher Scoring iterations: 5\n"
      ]
     },
     "metadata": {},
     "output_type": "display_data"
    },
    {
     "data": {
      "text/html": [
       "<table>\n",
       "<thead><tr><th></th><th scope=col>Df</th><th scope=col>Deviance</th><th scope=col>Resid. Df</th><th scope=col>Resid. Dev</th><th scope=col>Pr(&gt;Chi)</th></tr></thead>\n",
       "<tbody>\n",
       "\t<tr><th scope=row>NULL</th><td>NA       </td><td>       NA</td><td>89       </td><td>84.24127 </td><td>       NA</td></tr>\n",
       "\t<tr><th scope=row>definition</th><td> 1       </td><td>0.1147745</td><td>88       </td><td>84.12649 </td><td>0.7347725</td></tr>\n",
       "\t<tr><th scope=row>need</th><td> 1       </td><td>1.5365578</td><td>87       </td><td>82.58994 </td><td>0.2151309</td></tr>\n",
       "\t<tr><th scope=row>purpose</th><td> 2       </td><td>3.6559278</td><td>85       </td><td>78.93401 </td><td>0.1607405</td></tr>\n",
       "\t<tr><th scope=row>interest</th><td> 1       </td><td>0.4244974</td><td>84       </td><td>78.50951 </td><td>0.5147014</td></tr>\n",
       "</tbody>\n",
       "</table>\n"
      ],
      "text/latex": [
       "\\begin{tabular}{r|lllll}\n",
       "  & Df & Deviance & Resid. Df & Resid. Dev & Pr(>Chi)\\\\\n",
       "\\hline\n",
       "\tNULL & NA        &        NA & 89        & 84.24127  &        NA\\\\\n",
       "\tdefinition &  1        & 0.1147745 & 88        & 84.12649  & 0.7347725\\\\\n",
       "\tneed &  1        & 1.5365578 & 87        & 82.58994  & 0.2151309\\\\\n",
       "\tpurpose &  2        & 3.6559278 & 85        & 78.93401  & 0.1607405\\\\\n",
       "\tinterest &  1        & 0.4244974 & 84        & 78.50951  & 0.5147014\\\\\n",
       "\\end{tabular}\n"
      ],
      "text/markdown": [
       "\n",
       "| <!--/--> | Df | Deviance | Resid. Df | Resid. Dev | Pr(>Chi) |\n",
       "|---|---|---|---|---|---|\n",
       "| NULL | NA        |        NA | 89        | 84.24127  |        NA |\n",
       "| definition |  1        | 0.1147745 | 88        | 84.12649  | 0.7347725 |\n",
       "| need |  1        | 1.5365578 | 87        | 82.58994  | 0.2151309 |\n",
       "| purpose |  2        | 3.6559278 | 85        | 78.93401  | 0.1607405 |\n",
       "| interest |  1        | 0.4244974 | 84        | 78.50951  | 0.5147014 |\n",
       "\n"
      ],
      "text/plain": [
       "           Df Deviance  Resid. Df Resid. Dev Pr(>Chi) \n",
       "NULL       NA        NA 89        84.24127          NA\n",
       "definition  1 0.1147745 88        84.12649   0.7347725\n",
       "need        1 1.5365578 87        82.58994   0.2151309\n",
       "purpose     2 3.6559278 85        78.93401   0.1607405\n",
       "interest    1 0.4244974 84        78.50951   0.5147014"
      ]
     },
     "metadata": {},
     "output_type": "display_data"
    }
   ],
   "source": [
    "model <- glm(d3_2 ~ definition + need + purpose \n",
    "              + interest, data =survey, family = binomial)\n",
    "summary(model)\n",
    "\n",
    "\n",
    "anova(model, test=\"Chisq\")"
   ]
  },
  {
   "cell_type": "code",
   "execution_count": 35,
   "metadata": {},
   "outputs": [
    {
     "data": {
      "text/plain": [
       "\n",
       "Call:\n",
       "glm(formula = d3_3 ~ definition + need + purpose + interest, \n",
       "    family = binomial, data = survey)\n",
       "\n",
       "Deviance Residuals: \n",
       "    Min       1Q   Median       3Q      Max  \n",
       "-1.2685  -0.7281  -0.5831  -0.3621   1.9266  \n",
       "\n",
       "Coefficients:\n",
       "                  Estimate Std. Error z value Pr(>|z|)   \n",
       "(Intercept)        -4.1140     1.4866  -2.767  0.00565 **\n",
       "definitionharmony   0.6222     0.7251   0.858  0.39086   \n",
       "needharmony        -0.3507     0.6339  -0.553  0.58007   \n",
       "purposecosmetic    -0.8061     0.8085  -0.997  0.31879   \n",
       "purposeetc         -0.0411     0.6210  -0.066  0.94723   \n",
       "interest            0.7407     0.3359   2.205  0.02747 * \n",
       "---\n",
       "Signif. codes:  0 '***' 0.001 '**' 0.01 '*' 0.05 '.' 0.1 ' ' 1\n",
       "\n",
       "(Dispersion parameter for binomial family taken to be 1)\n",
       "\n",
       "    Null deviance: 92.777  on 89  degrees of freedom\n",
       "Residual deviance: 85.992  on 84  degrees of freedom\n",
       "AIC: 97.992\n",
       "\n",
       "Number of Fisher Scoring iterations: 4\n"
      ]
     },
     "metadata": {},
     "output_type": "display_data"
    },
    {
     "data": {
      "text/html": [
       "<table>\n",
       "<thead><tr><th></th><th scope=col>Df</th><th scope=col>Deviance</th><th scope=col>Resid. Df</th><th scope=col>Resid. Dev</th><th scope=col>Pr(&gt;Chi)</th></tr></thead>\n",
       "<tbody>\n",
       "\t<tr><th scope=row>NULL</th><td>NA        </td><td>        NA</td><td>89        </td><td>92.77652  </td><td>        NA</td></tr>\n",
       "\t<tr><th scope=row>definition</th><td> 1        </td><td>0.02587042</td><td>88        </td><td>92.75065  </td><td>0.87221719</td></tr>\n",
       "\t<tr><th scope=row>need</th><td> 1        </td><td>0.04128264</td><td>87        </td><td>92.70936  </td><td>0.83899334</td></tr>\n",
       "\t<tr><th scope=row>purpose</th><td> 2        </td><td>1.24922201</td><td>85        </td><td>91.46014  </td><td>0.53546968</td></tr>\n",
       "\t<tr><th scope=row>interest</th><td> 1        </td><td>5.46830557</td><td>84        </td><td>85.99184  </td><td>0.01936439</td></tr>\n",
       "</tbody>\n",
       "</table>\n"
      ],
      "text/latex": [
       "\\begin{tabular}{r|lllll}\n",
       "  & Df & Deviance & Resid. Df & Resid. Dev & Pr(>Chi)\\\\\n",
       "\\hline\n",
       "\tNULL & NA         &         NA & 89         & 92.77652   &         NA\\\\\n",
       "\tdefinition &  1         & 0.02587042 & 88         & 92.75065   & 0.87221719\\\\\n",
       "\tneed &  1         & 0.04128264 & 87         & 92.70936   & 0.83899334\\\\\n",
       "\tpurpose &  2         & 1.24922201 & 85         & 91.46014   & 0.53546968\\\\\n",
       "\tinterest &  1         & 5.46830557 & 84         & 85.99184   & 0.01936439\\\\\n",
       "\\end{tabular}\n"
      ],
      "text/markdown": [
       "\n",
       "| <!--/--> | Df | Deviance | Resid. Df | Resid. Dev | Pr(>Chi) |\n",
       "|---|---|---|---|---|---|\n",
       "| NULL | NA         |         NA | 89         | 92.77652   |         NA |\n",
       "| definition |  1         | 0.02587042 | 88         | 92.75065   | 0.87221719 |\n",
       "| need |  1         | 0.04128264 | 87         | 92.70936   | 0.83899334 |\n",
       "| purpose |  2         | 1.24922201 | 85         | 91.46014   | 0.53546968 |\n",
       "| interest |  1         | 5.46830557 | 84         | 85.99184   | 0.01936439 |\n",
       "\n"
      ],
      "text/plain": [
       "           Df Deviance   Resid. Df Resid. Dev Pr(>Chi)  \n",
       "NULL       NA         NA 89        92.77652           NA\n",
       "definition  1 0.02587042 88        92.75065   0.87221719\n",
       "need        1 0.04128264 87        92.70936   0.83899334\n",
       "purpose     2 1.24922201 85        91.46014   0.53546968\n",
       "interest    1 5.46830557 84        85.99184   0.01936439"
      ]
     },
     "metadata": {},
     "output_type": "display_data"
    }
   ],
   "source": [
    "model <- glm(d3_3 ~ definition + need + purpose \n",
    "              + interest, data =survey, family = binomial)\n",
    "summary(model)\n",
    "\n",
    "\n",
    "anova(model, test=\"Chisq\")"
   ]
  },
  {
   "cell_type": "code",
   "execution_count": 36,
   "metadata": {},
   "outputs": [
    {
     "data": {
      "text/plain": [
       "\n",
       "Call:\n",
       "glm(formula = d3_4 ~ definition + need + purpose + interest, \n",
       "    family = binomial, data = survey)\n",
       "\n",
       "Deviance Residuals: \n",
       "    Min       1Q   Median       3Q      Max  \n",
       "-0.7808  -0.6573  -0.6051  -0.4689   2.0498  \n",
       "\n",
       "Coefficients:\n",
       "                  Estimate Std. Error z value Pr(>|z|)\n",
       "(Intercept)        -1.4264     1.3737  -1.038    0.299\n",
       "definitionharmony   0.5735     0.8109   0.707    0.479\n",
       "needharmony        -0.1814     0.6733  -0.269    0.788\n",
       "purposecosmetic     0.1592     0.7908   0.201    0.840\n",
       "purposeetc          0.1848     0.6933   0.267    0.790\n",
       "interest           -0.1822     0.3142  -0.580    0.562\n",
       "\n",
       "(Dispersion parameter for binomial family taken to be 1)\n",
       "\n",
       "    Null deviance: 81.101  on 89  degrees of freedom\n",
       "Residual deviance: 80.042  on 84  degrees of freedom\n",
       "AIC: 92.042\n",
       "\n",
       "Number of Fisher Scoring iterations: 4\n"
      ]
     },
     "metadata": {},
     "output_type": "display_data"
    },
    {
     "data": {
      "text/html": [
       "<table>\n",
       "<thead><tr><th></th><th scope=col>Df</th><th scope=col>Deviance</th><th scope=col>Resid. Df</th><th scope=col>Resid. Dev</th><th scope=col>Pr(&gt;Chi)</th></tr></thead>\n",
       "<tbody>\n",
       "\t<tr><th scope=row>NULL</th><td>NA       </td><td>       NA</td><td>89       </td><td>81.10102 </td><td>       NA</td></tr>\n",
       "\t<tr><th scope=row>definition</th><td> 1       </td><td>0.5731254</td><td>88       </td><td>80.52789 </td><td>0.4490196</td></tr>\n",
       "\t<tr><th scope=row>need</th><td> 1       </td><td>0.0912065</td><td>87       </td><td>80.43669 </td><td>0.7626489</td></tr>\n",
       "\t<tr><th scope=row>purpose</th><td> 2       </td><td>0.0612033</td><td>85       </td><td>80.37548 </td><td>0.9698618</td></tr>\n",
       "\t<tr><th scope=row>interest</th><td> 1       </td><td>0.3339678</td><td>84       </td><td>80.04151 </td><td>0.5633320</td></tr>\n",
       "</tbody>\n",
       "</table>\n"
      ],
      "text/latex": [
       "\\begin{tabular}{r|lllll}\n",
       "  & Df & Deviance & Resid. Df & Resid. Dev & Pr(>Chi)\\\\\n",
       "\\hline\n",
       "\tNULL & NA        &        NA & 89        & 81.10102  &        NA\\\\\n",
       "\tdefinition &  1        & 0.5731254 & 88        & 80.52789  & 0.4490196\\\\\n",
       "\tneed &  1        & 0.0912065 & 87        & 80.43669  & 0.7626489\\\\\n",
       "\tpurpose &  2        & 0.0612033 & 85        & 80.37548  & 0.9698618\\\\\n",
       "\tinterest &  1        & 0.3339678 & 84        & 80.04151  & 0.5633320\\\\\n",
       "\\end{tabular}\n"
      ],
      "text/markdown": [
       "\n",
       "| <!--/--> | Df | Deviance | Resid. Df | Resid. Dev | Pr(>Chi) |\n",
       "|---|---|---|---|---|---|\n",
       "| NULL | NA        |        NA | 89        | 81.10102  |        NA |\n",
       "| definition |  1        | 0.5731254 | 88        | 80.52789  | 0.4490196 |\n",
       "| need |  1        | 0.0912065 | 87        | 80.43669  | 0.7626489 |\n",
       "| purpose |  2        | 0.0612033 | 85        | 80.37548  | 0.9698618 |\n",
       "| interest |  1        | 0.3339678 | 84        | 80.04151  | 0.5633320 |\n",
       "\n"
      ],
      "text/plain": [
       "           Df Deviance  Resid. Df Resid. Dev Pr(>Chi) \n",
       "NULL       NA        NA 89        81.10102          NA\n",
       "definition  1 0.5731254 88        80.52789   0.4490196\n",
       "need        1 0.0912065 87        80.43669   0.7626489\n",
       "purpose     2 0.0612033 85        80.37548   0.9698618\n",
       "interest    1 0.3339678 84        80.04151   0.5633320"
      ]
     },
     "metadata": {},
     "output_type": "display_data"
    }
   ],
   "source": [
    "model <- glm(d3_4 ~ definition + need + purpose \n",
    "              + interest, data =survey, family = binomial)\n",
    "summary(model)\n",
    "\n",
    "\n",
    "anova(model, test=\"Chisq\")"
   ]
  },
  {
   "cell_type": "code",
   "execution_count": 37,
   "metadata": {},
   "outputs": [
    {
     "data": {
      "text/plain": [
       "\n",
       "Call:\n",
       "glm(formula = d3_5 ~ definition + need + purpose + interest, \n",
       "    family = binomial, data = survey)\n",
       "\n",
       "Deviance Residuals: \n",
       "    Min       1Q   Median       3Q      Max  \n",
       "-1.2552  -0.8056  -0.6667   0.6915   2.0097  \n",
       "\n",
       "Coefficients:\n",
       "                  Estimate Std. Error z value Pr(>|z|)  \n",
       "(Intercept)         0.3169     1.1672   0.272    0.786  \n",
       "definitionharmony  -0.3068     0.6743  -0.455    0.649  \n",
       "needharmony         0.5229     0.6118   0.855    0.393  \n",
       "purposecosmetic     0.3503     0.6923   0.506    0.613  \n",
       "purposeetc          0.2369     0.5991   0.395    0.693  \n",
       "interest           -0.4862     0.2777  -1.750    0.080 .\n",
       "---\n",
       "Signif. codes:  0 '***' 0.001 '**' 0.01 '*' 0.05 '.' 0.1 ' ' 1\n",
       "\n",
       "(Dispersion parameter for binomial family taken to be 1)\n",
       "\n",
       "    Null deviance: 102.304  on 89  degrees of freedom\n",
       "Residual deviance:  98.359  on 84  degrees of freedom\n",
       "AIC: 110.36\n",
       "\n",
       "Number of Fisher Scoring iterations: 4\n"
      ]
     },
     "metadata": {},
     "output_type": "display_data"
    },
    {
     "data": {
      "text/html": [
       "<table>\n",
       "<thead><tr><th></th><th scope=col>Df</th><th scope=col>Deviance</th><th scope=col>Resid. Df</th><th scope=col>Resid. Dev</th><th scope=col>Pr(&gt;Chi)</th></tr></thead>\n",
       "<tbody>\n",
       "\t<tr><th scope=row>NULL</th><td>NA        </td><td>        NA</td><td>89        </td><td>102.30420 </td><td>        NA</td></tr>\n",
       "\t<tr><th scope=row>definition</th><td> 1        </td><td>0.04440498</td><td>88        </td><td>102.25979 </td><td>0.83310195</td></tr>\n",
       "\t<tr><th scope=row>need</th><td> 1        </td><td>0.50053085</td><td>87        </td><td>101.75926 </td><td>0.47926697</td></tr>\n",
       "\t<tr><th scope=row>purpose</th><td> 2        </td><td>0.19996848</td><td>85        </td><td>101.55929 </td><td>0.90485168</td></tr>\n",
       "\t<tr><th scope=row>interest</th><td> 1        </td><td>3.20022295</td><td>84        </td><td> 98.35907 </td><td>0.07362823</td></tr>\n",
       "</tbody>\n",
       "</table>\n"
      ],
      "text/latex": [
       "\\begin{tabular}{r|lllll}\n",
       "  & Df & Deviance & Resid. Df & Resid. Dev & Pr(>Chi)\\\\\n",
       "\\hline\n",
       "\tNULL & NA         &         NA & 89         & 102.30420  &         NA\\\\\n",
       "\tdefinition &  1         & 0.04440498 & 88         & 102.25979  & 0.83310195\\\\\n",
       "\tneed &  1         & 0.50053085 & 87         & 101.75926  & 0.47926697\\\\\n",
       "\tpurpose &  2         & 0.19996848 & 85         & 101.55929  & 0.90485168\\\\\n",
       "\tinterest &  1         & 3.20022295 & 84         &  98.35907  & 0.07362823\\\\\n",
       "\\end{tabular}\n"
      ],
      "text/markdown": [
       "\n",
       "| <!--/--> | Df | Deviance | Resid. Df | Resid. Dev | Pr(>Chi) |\n",
       "|---|---|---|---|---|---|\n",
       "| NULL | NA         |         NA | 89         | 102.30420  |         NA |\n",
       "| definition |  1         | 0.04440498 | 88         | 102.25979  | 0.83310195 |\n",
       "| need |  1         | 0.50053085 | 87         | 101.75926  | 0.47926697 |\n",
       "| purpose |  2         | 0.19996848 | 85         | 101.55929  | 0.90485168 |\n",
       "| interest |  1         | 3.20022295 | 84         |  98.35907  | 0.07362823 |\n",
       "\n"
      ],
      "text/plain": [
       "           Df Deviance   Resid. Df Resid. Dev Pr(>Chi)  \n",
       "NULL       NA         NA 89        102.30420          NA\n",
       "definition  1 0.04440498 88        102.25979  0.83310195\n",
       "need        1 0.50053085 87        101.75926  0.47926697\n",
       "purpose     2 0.19996848 85        101.55929  0.90485168\n",
       "interest    1 3.20022295 84         98.35907  0.07362823"
      ]
     },
     "metadata": {},
     "output_type": "display_data"
    }
   ],
   "source": [
    "model <- glm(d3_5 ~ definition + need + purpose \n",
    "              + interest, data =survey, family = binomial)\n",
    "summary(model)\n",
    "\n",
    "\n",
    "anova(model, test=\"Chisq\")"
   ]
  },
  {
   "cell_type": "code",
   "execution_count": null,
   "metadata": {},
   "outputs": [],
   "source": []
  }
 ],
 "metadata": {
  "kernelspec": {
   "display_name": "R",
   "language": "R",
   "name": "ir"
  },
  "language_info": {
   "codemirror_mode": "r",
   "file_extension": ".r",
   "mimetype": "text/x-r-source",
   "name": "R",
   "pygments_lexer": "r",
   "version": "3.6.1"
  }
 },
 "nbformat": 4,
 "nbformat_minor": 4
}
