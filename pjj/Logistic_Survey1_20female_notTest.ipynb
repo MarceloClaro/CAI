{
 "cells": [
  {
   "cell_type": "code",
   "execution_count": 1,
   "metadata": {
    "scrolled": true
   },
   "outputs": [
    {
     "name": "stderr",
     "output_type": "stream",
     "text": [
      "Warning message:\n",
      "\"package 'ROCR' was built under R version 3.6.3\"Loading required package: gplots\n",
      "Warning message:\n",
      "\"package 'gplots' was built under R version 3.6.3\"\n",
      "Attaching package: 'gplots'\n",
      "\n",
      "The following object is masked from 'package:stats':\n",
      "\n",
      "    lowess\n",
      "\n",
      "Warning message:\n",
      "\"package 'dplyr' was built under R version 3.6.3\"\n",
      "Attaching package: 'dplyr'\n",
      "\n",
      "The following objects are masked from 'package:stats':\n",
      "\n",
      "    filter, lag\n",
      "\n",
      "The following objects are masked from 'package:base':\n",
      "\n",
      "    intersect, setdiff, setequal, union\n",
      "\n"
     ]
    }
   ],
   "source": [
    "library(ROCR)\n",
    "library(dplyr)"
   ]
  },
  {
   "cell_type": "code",
   "execution_count": 2,
   "metadata": {},
   "outputs": [],
   "source": [
    "survey <- read.csv('전처리/1번설문/change_bright.csv')"
   ]
  },
  {
   "cell_type": "code",
   "execution_count": 3,
   "metadata": {
    "scrolled": false
   },
   "outputs": [
    {
     "name": "stdout",
     "output_type": "stream",
     "text": [
      "'data.frame':\t117 obs. of  13 variables:\n",
      " $ X          : int  0 1 2 3 4 5 6 7 8 9 ...\n",
      " $ sex        : Factor w/ 2 levels \"Female\",\"Male\": 2 1 1 1 1 1 1 2 1 1 ...\n",
      " $ age_class  : int  20 20 20 20 20 20 20 20 20 20 ...\n",
      " $ definition : Factor w/ 2 levels \"bright\",\"harmony\": 2 1 1 2 1 2 2 2 2 1 ...\n",
      " $ need       : Factor w/ 2 levels \"bright\",\"harmony\": 2 2 1 2 1 2 2 2 2 1 ...\n",
      " $ purpose    : Factor w/ 3 levels \"clothes\",\"cosmetic\",..: 1 1 1 1 3 3 3 1 1 1 ...\n",
      " $ interest   : int  5 5 3 3 4 2 5 3 4 4 ...\n",
      " $ comp       : int  4 1 2 5 4 3 1 1 1 5 ...\n",
      " $ triangle1  : int  5 1 4 5 2 4 4 1 4 5 ...\n",
      " $ triangle2  : int  2 2 1 4 1 1 5 3 1 2 ...\n",
      " $ doubleness1: int  3 2 2 5 1 2 3 1 1 2 ...\n",
      " $ doubleness2: int  2 3 1 4 2 2 3 5 2 1 ...\n",
      " $ doubleness3: int  2 2 2 1 2 2 3 5 2 5 ...\n"
     ]
    },
    {
     "data": {
      "text/html": [
       "<table>\n",
       "<thead><tr><th scope=col>X</th><th scope=col>sex</th><th scope=col>age_class</th><th scope=col>definition</th><th scope=col>need</th><th scope=col>purpose</th><th scope=col>interest</th><th scope=col>comp</th><th scope=col>triangle1</th><th scope=col>triangle2</th><th scope=col>doubleness1</th><th scope=col>doubleness2</th><th scope=col>doubleness3</th></tr></thead>\n",
       "<tbody>\n",
       "\t<tr><td>0      </td><td>Male   </td><td>20     </td><td>harmony</td><td>harmony</td><td>clothes</td><td>5      </td><td>4      </td><td>5      </td><td>2      </td><td>3      </td><td>2      </td><td>2      </td></tr>\n",
       "\t<tr><td>1      </td><td>Female </td><td>20     </td><td>bright </td><td>harmony</td><td>clothes</td><td>5      </td><td>1      </td><td>1      </td><td>2      </td><td>2      </td><td>3      </td><td>2      </td></tr>\n",
       "\t<tr><td>2      </td><td>Female </td><td>20     </td><td>bright </td><td>bright </td><td>clothes</td><td>3      </td><td>2      </td><td>4      </td><td>1      </td><td>2      </td><td>1      </td><td>2      </td></tr>\n",
       "\t<tr><td>3      </td><td>Female </td><td>20     </td><td>harmony</td><td>harmony</td><td>clothes</td><td>3      </td><td>5      </td><td>5      </td><td>4      </td><td>5      </td><td>4      </td><td>1      </td></tr>\n",
       "\t<tr><td>4      </td><td>Female </td><td>20     </td><td>bright </td><td>bright </td><td>etc    </td><td>4      </td><td>4      </td><td>2      </td><td>1      </td><td>1      </td><td>2      </td><td>2      </td></tr>\n",
       "\t<tr><td>5      </td><td>Female </td><td>20     </td><td>harmony</td><td>harmony</td><td>etc    </td><td>2      </td><td>3      </td><td>4      </td><td>1      </td><td>2      </td><td>2      </td><td>2      </td></tr>\n",
       "</tbody>\n",
       "</table>\n"
      ],
      "text/latex": [
       "\\begin{tabular}{r|lllllllllllll}\n",
       " X & sex & age\\_class & definition & need & purpose & interest & comp & triangle1 & triangle2 & doubleness1 & doubleness2 & doubleness3\\\\\n",
       "\\hline\n",
       "\t 0       & Male    & 20      & harmony & harmony & clothes & 5       & 4       & 5       & 2       & 3       & 2       & 2      \\\\\n",
       "\t 1       & Female  & 20      & bright  & harmony & clothes & 5       & 1       & 1       & 2       & 2       & 3       & 2      \\\\\n",
       "\t 2       & Female  & 20      & bright  & bright  & clothes & 3       & 2       & 4       & 1       & 2       & 1       & 2      \\\\\n",
       "\t 3       & Female  & 20      & harmony & harmony & clothes & 3       & 5       & 5       & 4       & 5       & 4       & 1      \\\\\n",
       "\t 4       & Female  & 20      & bright  & bright  & etc     & 4       & 4       & 2       & 1       & 1       & 2       & 2      \\\\\n",
       "\t 5       & Female  & 20      & harmony & harmony & etc     & 2       & 3       & 4       & 1       & 2       & 2       & 2      \\\\\n",
       "\\end{tabular}\n"
      ],
      "text/markdown": [
       "\n",
       "| X | sex | age_class | definition | need | purpose | interest | comp | triangle1 | triangle2 | doubleness1 | doubleness2 | doubleness3 |\n",
       "|---|---|---|---|---|---|---|---|---|---|---|---|---|\n",
       "| 0       | Male    | 20      | harmony | harmony | clothes | 5       | 4       | 5       | 2       | 3       | 2       | 2       |\n",
       "| 1       | Female  | 20      | bright  | harmony | clothes | 5       | 1       | 1       | 2       | 2       | 3       | 2       |\n",
       "| 2       | Female  | 20      | bright  | bright  | clothes | 3       | 2       | 4       | 1       | 2       | 1       | 2       |\n",
       "| 3       | Female  | 20      | harmony | harmony | clothes | 3       | 5       | 5       | 4       | 5       | 4       | 1       |\n",
       "| 4       | Female  | 20      | bright  | bright  | etc     | 4       | 4       | 2       | 1       | 1       | 2       | 2       |\n",
       "| 5       | Female  | 20      | harmony | harmony | etc     | 2       | 3       | 4       | 1       | 2       | 2       | 2       |\n",
       "\n"
      ],
      "text/plain": [
       "  X sex    age_class definition need    purpose interest comp triangle1\n",
       "1 0 Male   20        harmony    harmony clothes 5        4    5        \n",
       "2 1 Female 20        bright     harmony clothes 5        1    1        \n",
       "3 2 Female 20        bright     bright  clothes 3        2    4        \n",
       "4 3 Female 20        harmony    harmony clothes 3        5    5        \n",
       "5 4 Female 20        bright     bright  etc     4        4    2        \n",
       "6 5 Female 20        harmony    harmony etc     2        3    4        \n",
       "  triangle2 doubleness1 doubleness2 doubleness3\n",
       "1 2         3           2           2          \n",
       "2 2         2           3           2          \n",
       "3 1         2           1           2          \n",
       "4 4         5           4           1          \n",
       "5 1         1           2           2          \n",
       "6 1         2           2           2          "
      ]
     },
     "metadata": {},
     "output_type": "display_data"
    }
   ],
   "source": [
    "str(survey)\n",
    "head(survey)"
   ]
  },
  {
   "cell_type": "code",
   "execution_count": 4,
   "metadata": {
    "scrolled": true
   },
   "outputs": [],
   "source": [
    "survey = filter(survey, sex=='Female', age_class==20)"
   ]
  },
  {
   "cell_type": "code",
   "execution_count": 5,
   "metadata": {},
   "outputs": [
    {
     "name": "stdout",
     "output_type": "stream",
     "text": [
      "'data.frame':\t78 obs. of  13 variables:\n",
      " $ X          : int  1 2 3 4 5 6 8 9 10 12 ...\n",
      " $ sex        : Factor w/ 2 levels \"Female\",\"Male\": 1 1 1 1 1 1 1 1 1 1 ...\n",
      " $ age_class  : int  20 20 20 20 20 20 20 20 20 20 ...\n",
      " $ definition : Factor w/ 2 levels \"bright\",\"harmony\": 1 1 2 1 2 2 2 1 2 2 ...\n",
      " $ need       : Factor w/ 2 levels \"bright\",\"harmony\": 2 1 2 1 2 2 2 1 2 2 ...\n",
      " $ purpose    : Factor w/ 3 levels \"clothes\",\"cosmetic\",..: 1 1 1 3 3 3 1 1 3 3 ...\n",
      " $ interest   : int  5 3 3 4 2 5 4 4 3 3 ...\n",
      " $ comp       : int  1 2 5 4 3 1 1 5 5 1 ...\n",
      " $ triangle1  : int  1 4 5 2 4 4 4 5 3 4 ...\n",
      " $ triangle2  : int  2 1 4 1 1 5 1 2 2 3 ...\n",
      " $ doubleness1: int  2 2 5 1 2 3 1 2 3 3 ...\n",
      " $ doubleness2: int  3 1 4 2 2 3 2 1 5 1 ...\n",
      " $ doubleness3: int  2 2 1 2 2 3 2 5 2 2 ...\n"
     ]
    }
   ],
   "source": [
    "str(survey)"
   ]
  },
  {
   "cell_type": "code",
   "execution_count": 6,
   "metadata": {},
   "outputs": [],
   "source": [
    "survey$comp1 <- case_when(\n",
    "    survey$comp == 1 ~ 1,\n",
    "    survey$comp != 1 ~ 0)\n",
    "\n",
    "survey$comp2 <- case_when(\n",
    "    survey$comp == 2 ~ 1,\n",
    "    survey$comp != 2 ~ 0)\n",
    "\n",
    "survey$comp3 <- case_when(\n",
    "    survey$comp == 3 ~ 1,\n",
    "    survey$comp != 3 ~ 0)\n",
    "\n",
    "survey$comp4 <- case_when(\n",
    "    survey$comp == 4 ~ 1,\n",
    "    survey$comp != 4 ~ 0)\n",
    "\n",
    "survey$comp5 <- case_when(\n",
    "    survey$comp == 5 ~ 1,\n",
    "    survey$comp != 5 ~ 0)\n",
    "\n",
    "survey$t1_1 <- case_when(\n",
    "    survey$triangle1 == 1 ~ 1,\n",
    "    survey$triangle1 != 1 ~ 0)\n",
    "\n",
    "survey$t1_2 <- case_when(\n",
    "    survey$triangle1 == 2 ~ 1,\n",
    "    survey$triangle1 != 2 ~ 0)\n",
    "\n",
    "survey$t1_3 <- case_when(\n",
    "    survey$triangle1 == 3 ~ 1,\n",
    "    survey$triangle1 != 3 ~ 0)\n",
    "\n",
    "survey$t1_4 <- case_when(\n",
    "    survey$triangle1 == 4 ~ 1,\n",
    "    survey$triangle1 != 4 ~ 0)\n",
    "\n",
    "survey$t1_5 <- case_when(\n",
    "    survey$triangle1 == 5 ~ 1,\n",
    "    survey$triangle1 != 5 ~ 0)\n",
    "\t\n",
    "survey$t2_1 <- case_when(\n",
    "    survey$triangle2 == 1 ~ 1,\n",
    "    survey$triangle2 != 1 ~ 0)\n",
    "\n",
    "survey$t2_2 <- case_when(\n",
    "    survey$triangle2 == 2 ~ 1,\n",
    "    survey$triangle2 != 2 ~ 0)\n",
    "\n",
    "survey$t2_3 <- case_when(\n",
    "    survey$triangle2 == 3 ~ 1,\n",
    "    survey$triangle2 != 3 ~ 0)\n",
    "\n",
    "survey$t2_4 <- case_when(\n",
    "    survey$triangle2 == 4 ~ 1,\n",
    "    survey$triangle2 != 4 ~ 0)\n",
    "\n",
    "survey$t2_5 <- case_when(\n",
    "    survey$triangle2 == 5 ~ 1,\n",
    "    survey$triangle2 != 5 ~ 0)\n",
    "\t\n",
    "survey$d1_1 <- case_when(\n",
    "    survey$doubleness1 == 1 ~ 1,\n",
    "    survey$doubleness1 != 1 ~ 0)\n",
    "\n",
    "survey$d1_2 <- case_when(\n",
    "    survey$doubleness1 == 2 ~ 1,\n",
    "    survey$doubleness1 != 2 ~ 0)\n",
    "\n",
    "survey$d1_3 <- case_when(\n",
    "    survey$doubleness1 == 3 ~ 1,\n",
    "    survey$doubleness1 != 3 ~ 0)\n",
    "\n",
    "survey$d1_4 <- case_when(\n",
    "    survey$doubleness1 == 4 ~ 1,\n",
    "    survey$doubleness1 != 4 ~ 0)\n",
    "\n",
    "survey$d1_5 <- case_when(\n",
    "    survey$doubleness1 == 5 ~ 1,\n",
    "    survey$doubleness1 != 5 ~ 0)\n",
    "\t\n",
    "survey$d2_1 <- case_when(\n",
    "    survey$doubleness2 == 1 ~ 1,\n",
    "    survey$doubleness2 != 1 ~ 0)\n",
    "\n",
    "survey$d2_2 <- case_when(\n",
    "    survey$doubleness2 == 2 ~ 1,\n",
    "    survey$doubleness2 != 2 ~ 0)\n",
    "\n",
    "survey$d2_3 <- case_when(\n",
    "    survey$doubleness2 == 3 ~ 1,\n",
    "    survey$doubleness2 != 3 ~ 0)\n",
    "\n",
    "survey$d2_4 <- case_when(\n",
    "    survey$doubleness2 == 4 ~ 1,\n",
    "    survey$doubleness2 != 4 ~ 0)\n",
    "\n",
    "survey$d2_5 <- case_when(\n",
    "    survey$doubleness2 == 5 ~ 1,\n",
    "    survey$doubleness2 != 5 ~ 0)\n",
    "\t\n",
    "survey$d3_1 <- case_when(\n",
    "    survey$doubleness3 == 1 ~ 1,\n",
    "    survey$doubleness3 != 1 ~ 0)\n",
    "\n",
    "survey$d3_2 <- case_when(\n",
    "    survey$doubleness3 == 2 ~ 1,\n",
    "    survey$doubleness3 != 2 ~ 0)\n",
    "\n",
    "survey$d3_3 <- case_when(\n",
    "    survey$doubleness3 == 3 ~ 1,\n",
    "    survey$doubleness3 != 3 ~ 0)\n",
    "\n",
    "survey$d3_4 <- case_when(\n",
    "    survey$doubleness3 == 4 ~ 1,\n",
    "    survey$doubleness3 != 4 ~ 0)\n",
    "\n",
    "survey$d3_5 <- case_when(\n",
    "    survey$doubleness3 == 5 ~ 1,\n",
    "    survey$doubleness3 != 5 ~ 0)"
   ]
  },
  {
   "cell_type": "code",
   "execution_count": 7,
   "metadata": {},
   "outputs": [
    {
     "data": {
      "text/html": [
       "<table>\n",
       "<thead><tr><th scope=col>X</th><th scope=col>sex</th><th scope=col>age_class</th><th scope=col>definition</th><th scope=col>need</th><th scope=col>purpose</th><th scope=col>interest</th><th scope=col>comp</th><th scope=col>triangle1</th><th scope=col>triangle2</th><th scope=col>...</th><th scope=col>d2_1</th><th scope=col>d2_2</th><th scope=col>d2_3</th><th scope=col>d2_4</th><th scope=col>d2_5</th><th scope=col>d3_1</th><th scope=col>d3_2</th><th scope=col>d3_3</th><th scope=col>d3_4</th><th scope=col>d3_5</th></tr></thead>\n",
       "<tbody>\n",
       "\t<tr><td>1      </td><td>Female </td><td>20     </td><td>bright </td><td>harmony</td><td>clothes</td><td>5      </td><td>1      </td><td>1      </td><td>2      </td><td>...    </td><td>0      </td><td>0      </td><td>1      </td><td>0      </td><td>0      </td><td>0      </td><td>1      </td><td>0      </td><td>0      </td><td>0      </td></tr>\n",
       "\t<tr><td>2      </td><td>Female </td><td>20     </td><td>bright </td><td>bright </td><td>clothes</td><td>3      </td><td>2      </td><td>4      </td><td>1      </td><td>...    </td><td>1      </td><td>0      </td><td>0      </td><td>0      </td><td>0      </td><td>0      </td><td>1      </td><td>0      </td><td>0      </td><td>0      </td></tr>\n",
       "\t<tr><td>3      </td><td>Female </td><td>20     </td><td>harmony</td><td>harmony</td><td>clothes</td><td>3      </td><td>5      </td><td>5      </td><td>4      </td><td>...    </td><td>0      </td><td>0      </td><td>0      </td><td>1      </td><td>0      </td><td>1      </td><td>0      </td><td>0      </td><td>0      </td><td>0      </td></tr>\n",
       "\t<tr><td>4      </td><td>Female </td><td>20     </td><td>bright </td><td>bright </td><td>etc    </td><td>4      </td><td>4      </td><td>2      </td><td>1      </td><td>...    </td><td>0      </td><td>1      </td><td>0      </td><td>0      </td><td>0      </td><td>0      </td><td>1      </td><td>0      </td><td>0      </td><td>0      </td></tr>\n",
       "\t<tr><td>5      </td><td>Female </td><td>20     </td><td>harmony</td><td>harmony</td><td>etc    </td><td>2      </td><td>3      </td><td>4      </td><td>1      </td><td>...    </td><td>0      </td><td>1      </td><td>0      </td><td>0      </td><td>0      </td><td>0      </td><td>1      </td><td>0      </td><td>0      </td><td>0      </td></tr>\n",
       "\t<tr><td>6      </td><td>Female </td><td>20     </td><td>harmony</td><td>harmony</td><td>etc    </td><td>5      </td><td>1      </td><td>4      </td><td>5      </td><td>...    </td><td>0      </td><td>0      </td><td>1      </td><td>0      </td><td>0      </td><td>0      </td><td>0      </td><td>1      </td><td>0      </td><td>0      </td></tr>\n",
       "</tbody>\n",
       "</table>\n"
      ],
      "text/latex": [
       "\\begin{tabular}{r|lllllllllllllllllllllllllllllllllllllllllll}\n",
       " X & sex & age\\_class & definition & need & purpose & interest & comp & triangle1 & triangle2 & ... & d2\\_1 & d2\\_2 & d2\\_3 & d2\\_4 & d2\\_5 & d3\\_1 & d3\\_2 & d3\\_3 & d3\\_4 & d3\\_5\\\\\n",
       "\\hline\n",
       "\t 1       & Female  & 20      & bright  & harmony & clothes & 5       & 1       & 1       & 2       & ...     & 0       & 0       & 1       & 0       & 0       & 0       & 1       & 0       & 0       & 0      \\\\\n",
       "\t 2       & Female  & 20      & bright  & bright  & clothes & 3       & 2       & 4       & 1       & ...     & 1       & 0       & 0       & 0       & 0       & 0       & 1       & 0       & 0       & 0      \\\\\n",
       "\t 3       & Female  & 20      & harmony & harmony & clothes & 3       & 5       & 5       & 4       & ...     & 0       & 0       & 0       & 1       & 0       & 1       & 0       & 0       & 0       & 0      \\\\\n",
       "\t 4       & Female  & 20      & bright  & bright  & etc     & 4       & 4       & 2       & 1       & ...     & 0       & 1       & 0       & 0       & 0       & 0       & 1       & 0       & 0       & 0      \\\\\n",
       "\t 5       & Female  & 20      & harmony & harmony & etc     & 2       & 3       & 4       & 1       & ...     & 0       & 1       & 0       & 0       & 0       & 0       & 1       & 0       & 0       & 0      \\\\\n",
       "\t 6       & Female  & 20      & harmony & harmony & etc     & 5       & 1       & 4       & 5       & ...     & 0       & 0       & 1       & 0       & 0       & 0       & 0       & 1       & 0       & 0      \\\\\n",
       "\\end{tabular}\n"
      ],
      "text/markdown": [
       "\n",
       "| X | sex | age_class | definition | need | purpose | interest | comp | triangle1 | triangle2 | ... | d2_1 | d2_2 | d2_3 | d2_4 | d2_5 | d3_1 | d3_2 | d3_3 | d3_4 | d3_5 |\n",
       "|---|---|---|---|---|---|---|---|---|---|---|---|---|---|---|---|---|---|---|---|---|\n",
       "| 1       | Female  | 20      | bright  | harmony | clothes | 5       | 1       | 1       | 2       | ...     | 0       | 0       | 1       | 0       | 0       | 0       | 1       | 0       | 0       | 0       |\n",
       "| 2       | Female  | 20      | bright  | bright  | clothes | 3       | 2       | 4       | 1       | ...     | 1       | 0       | 0       | 0       | 0       | 0       | 1       | 0       | 0       | 0       |\n",
       "| 3       | Female  | 20      | harmony | harmony | clothes | 3       | 5       | 5       | 4       | ...     | 0       | 0       | 0       | 1       | 0       | 1       | 0       | 0       | 0       | 0       |\n",
       "| 4       | Female  | 20      | bright  | bright  | etc     | 4       | 4       | 2       | 1       | ...     | 0       | 1       | 0       | 0       | 0       | 0       | 1       | 0       | 0       | 0       |\n",
       "| 5       | Female  | 20      | harmony | harmony | etc     | 2       | 3       | 4       | 1       | ...     | 0       | 1       | 0       | 0       | 0       | 0       | 1       | 0       | 0       | 0       |\n",
       "| 6       | Female  | 20      | harmony | harmony | etc     | 5       | 1       | 4       | 5       | ...     | 0       | 0       | 1       | 0       | 0       | 0       | 0       | 1       | 0       | 0       |\n",
       "\n"
      ],
      "text/plain": [
       "  X sex    age_class definition need    purpose interest comp triangle1\n",
       "1 1 Female 20        bright     harmony clothes 5        1    1        \n",
       "2 2 Female 20        bright     bright  clothes 3        2    4        \n",
       "3 3 Female 20        harmony    harmony clothes 3        5    5        \n",
       "4 4 Female 20        bright     bright  etc     4        4    2        \n",
       "5 5 Female 20        harmony    harmony etc     2        3    4        \n",
       "6 6 Female 20        harmony    harmony etc     5        1    4        \n",
       "  triangle2 ... d2_1 d2_2 d2_3 d2_4 d2_5 d3_1 d3_2 d3_3 d3_4 d3_5\n",
       "1 2         ... 0    0    1    0    0    0    1    0    0    0   \n",
       "2 1         ... 1    0    0    0    0    0    1    0    0    0   \n",
       "3 4         ... 0    0    0    1    0    1    0    0    0    0   \n",
       "4 1         ... 0    1    0    0    0    0    1    0    0    0   \n",
       "5 1         ... 0    1    0    0    0    0    1    0    0    0   \n",
       "6 5         ... 0    0    1    0    0    0    0    1    0    0   "
      ]
     },
     "metadata": {},
     "output_type": "display_data"
    }
   ],
   "source": [
    "head(survey)"
   ]
  },
  {
   "cell_type": "code",
   "execution_count": 8,
   "metadata": {},
   "outputs": [
    {
     "data": {
      "text/plain": [
       "\n",
       "Call:\n",
       "glm(formula = comp1 ~ definition + need + purpose + interest, \n",
       "    family = binomial, data = survey)\n",
       "\n",
       "Deviance Residuals: \n",
       "    Min       1Q   Median       3Q      Max  \n",
       "-1.4817  -0.9766  -0.6546   1.0515   2.1156  \n",
       "\n",
       "Coefficients:\n",
       "                  Estimate Std. Error z value Pr(>|z|)   \n",
       "(Intercept)        -4.1917     1.4233  -2.945  0.00323 **\n",
       "definitionharmony   0.6937     0.6819   1.017  0.30903   \n",
       "needharmony         0.4784     0.5707   0.838  0.40186   \n",
       "purposecosmetic     0.5278     0.7210   0.732  0.46412   \n",
       "purposeetc          0.7455     0.5865   1.271  0.20374   \n",
       "interest            0.6889     0.3085   2.233  0.02557 * \n",
       "---\n",
       "Signif. codes:  0 '***' 0.001 '**' 0.01 '*' 0.05 '.' 0.1 ' ' 1\n",
       "\n",
       "(Dispersion parameter for binomial family taken to be 1)\n",
       "\n",
       "    Null deviance: 105.604  on 77  degrees of freedom\n",
       "Residual deviance:  95.954  on 72  degrees of freedom\n",
       "AIC: 107.95\n",
       "\n",
       "Number of Fisher Scoring iterations: 4\n"
      ]
     },
     "metadata": {},
     "output_type": "display_data"
    }
   ],
   "source": [
    "model <- glm(comp1 ~ definition + need + purpose \n",
    "              + interest, data =survey, family = binomial)\n",
    "summary(model)"
   ]
  },
  {
   "cell_type": "code",
   "execution_count": 9,
   "metadata": {},
   "outputs": [
    {
     "data": {
      "text/html": [
       "<table>\n",
       "<thead><tr><th></th><th scope=col>Df</th><th scope=col>Deviance</th><th scope=col>Resid. Df</th><th scope=col>Resid. Dev</th><th scope=col>Pr(&gt;Chi)</th></tr></thead>\n",
       "<tbody>\n",
       "\t<tr><th scope=row>NULL</th><td>NA        </td><td>      NA  </td><td>77        </td><td>105.60447 </td><td>        NA</td></tr>\n",
       "\t<tr><th scope=row>definition</th><td> 1        </td><td>1.386627  </td><td>76        </td><td>104.21784 </td><td>0.23897552</td></tr>\n",
       "\t<tr><th scope=row>need</th><td> 1        </td><td>1.103982  </td><td>75        </td><td>103.11386 </td><td>0.29339395</td></tr>\n",
       "\t<tr><th scope=row>purpose</th><td> 2        </td><td>1.672089  </td><td>73        </td><td>101.44177 </td><td>0.43342153</td></tr>\n",
       "\t<tr><th scope=row>interest</th><td> 1        </td><td>5.487856  </td><td>72        </td><td> 95.95392 </td><td>0.01914901</td></tr>\n",
       "</tbody>\n",
       "</table>\n"
      ],
      "text/latex": [
       "\\begin{tabular}{r|lllll}\n",
       "  & Df & Deviance & Resid. Df & Resid. Dev & Pr(>Chi)\\\\\n",
       "\\hline\n",
       "\tNULL & NA         &       NA   & 77         & 105.60447  &         NA\\\\\n",
       "\tdefinition &  1         & 1.386627   & 76         & 104.21784  & 0.23897552\\\\\n",
       "\tneed &  1         & 1.103982   & 75         & 103.11386  & 0.29339395\\\\\n",
       "\tpurpose &  2         & 1.672089   & 73         & 101.44177  & 0.43342153\\\\\n",
       "\tinterest &  1         & 5.487856   & 72         &  95.95392  & 0.01914901\\\\\n",
       "\\end{tabular}\n"
      ],
      "text/markdown": [
       "\n",
       "| <!--/--> | Df | Deviance | Resid. Df | Resid. Dev | Pr(>Chi) |\n",
       "|---|---|---|---|---|---|\n",
       "| NULL | NA         |       NA   | 77         | 105.60447  |         NA |\n",
       "| definition |  1         | 1.386627   | 76         | 104.21784  | 0.23897552 |\n",
       "| need |  1         | 1.103982   | 75         | 103.11386  | 0.29339395 |\n",
       "| purpose |  2         | 1.672089   | 73         | 101.44177  | 0.43342153 |\n",
       "| interest |  1         | 5.487856   | 72         |  95.95392  | 0.01914901 |\n",
       "\n"
      ],
      "text/plain": [
       "           Df Deviance Resid. Df Resid. Dev Pr(>Chi)  \n",
       "NULL       NA       NA 77        105.60447          NA\n",
       "definition  1 1.386627 76        104.21784  0.23897552\n",
       "need        1 1.103982 75        103.11386  0.29339395\n",
       "purpose     2 1.672089 73        101.44177  0.43342153\n",
       "interest    1 5.487856 72         95.95392  0.01914901"
      ]
     },
     "metadata": {},
     "output_type": "display_data"
    }
   ],
   "source": [
    "anova(model, test=\"Chisq\")"
   ]
  },
  {
   "cell_type": "code",
   "execution_count": 10,
   "metadata": {},
   "outputs": [
    {
     "data": {
      "text/plain": [
       "\n",
       "Call:\n",
       "glm(formula = comp2 ~ definition + need + purpose + interest, \n",
       "    family = binomial, data = survey)\n",
       "\n",
       "Deviance Residuals: \n",
       "    Min       1Q   Median       3Q      Max  \n",
       "-0.9128  -0.6192  -0.4725  -0.3862   2.4512  \n",
       "\n",
       "Coefficients:\n",
       "                  Estimate Std. Error z value Pr(>|z|)\n",
       "(Intercept)       -0.93468    1.64376  -0.569    0.570\n",
       "definitionharmony -0.11834    0.81900  -0.144    0.885\n",
       "needharmony       -0.46353    0.74582  -0.622    0.534\n",
       "purposecosmetic   -1.71138    1.15730  -1.479    0.139\n",
       "purposeetc        -0.89422    0.68218  -1.311    0.190\n",
       "interest           0.06863    0.38934   0.176    0.860\n",
       "\n",
       "(Dispersion parameter for binomial family taken to be 1)\n",
       "\n",
       "    Null deviance: 66.974  on 77  degrees of freedom\n",
       "Residual deviance: 63.050  on 72  degrees of freedom\n",
       "AIC: 75.05\n",
       "\n",
       "Number of Fisher Scoring iterations: 5\n"
      ]
     },
     "metadata": {},
     "output_type": "display_data"
    },
    {
     "data": {
      "text/html": [
       "<table>\n",
       "<thead><tr><th></th><th scope=col>Df</th><th scope=col>Deviance</th><th scope=col>Resid. Df</th><th scope=col>Resid. Dev</th><th scope=col>Pr(&gt;Chi)</th></tr></thead>\n",
       "<tbody>\n",
       "\t<tr><th scope=row>NULL</th><td>NA        </td><td>        NA</td><td>77        </td><td>66.97439  </td><td>       NA </td></tr>\n",
       "\t<tr><th scope=row>definition</th><td> 1        </td><td>0.42027047</td><td>76        </td><td>66.55412  </td><td>0.5168021 </td></tr>\n",
       "\t<tr><th scope=row>need</th><td> 1        </td><td>0.18380464</td><td>75        </td><td>66.37032  </td><td>0.6681238 </td></tr>\n",
       "\t<tr><th scope=row>purpose</th><td> 2        </td><td>3.28870750</td><td>73        </td><td>63.08161  </td><td>0.1931373 </td></tr>\n",
       "\t<tr><th scope=row>interest</th><td> 1        </td><td>0.03114497</td><td>72        </td><td>63.05046  </td><td>0.8599173 </td></tr>\n",
       "</tbody>\n",
       "</table>\n"
      ],
      "text/latex": [
       "\\begin{tabular}{r|lllll}\n",
       "  & Df & Deviance & Resid. Df & Resid. Dev & Pr(>Chi)\\\\\n",
       "\\hline\n",
       "\tNULL & NA         &         NA & 77         & 66.97439   &        NA \\\\\n",
       "\tdefinition &  1         & 0.42027047 & 76         & 66.55412   & 0.5168021 \\\\\n",
       "\tneed &  1         & 0.18380464 & 75         & 66.37032   & 0.6681238 \\\\\n",
       "\tpurpose &  2         & 3.28870750 & 73         & 63.08161   & 0.1931373 \\\\\n",
       "\tinterest &  1         & 0.03114497 & 72         & 63.05046   & 0.8599173 \\\\\n",
       "\\end{tabular}\n"
      ],
      "text/markdown": [
       "\n",
       "| <!--/--> | Df | Deviance | Resid. Df | Resid. Dev | Pr(>Chi) |\n",
       "|---|---|---|---|---|---|\n",
       "| NULL | NA         |         NA | 77         | 66.97439   |        NA  |\n",
       "| definition |  1         | 0.42027047 | 76         | 66.55412   | 0.5168021  |\n",
       "| need |  1         | 0.18380464 | 75         | 66.37032   | 0.6681238  |\n",
       "| purpose |  2         | 3.28870750 | 73         | 63.08161   | 0.1931373  |\n",
       "| interest |  1         | 0.03114497 | 72         | 63.05046   | 0.8599173  |\n",
       "\n"
      ],
      "text/plain": [
       "           Df Deviance   Resid. Df Resid. Dev Pr(>Chi) \n",
       "NULL       NA         NA 77        66.97439          NA\n",
       "definition  1 0.42027047 76        66.55412   0.5168021\n",
       "need        1 0.18380464 75        66.37032   0.6681238\n",
       "purpose     2 3.28870750 73        63.08161   0.1931373\n",
       "interest    1 0.03114497 72        63.05046   0.8599173"
      ]
     },
     "metadata": {},
     "output_type": "display_data"
    }
   ],
   "source": [
    "model <- glm(comp2 ~ definition + need + purpose \n",
    "              + interest, data =survey, family = binomial)\n",
    "summary(model)\n",
    "\n",
    "\n",
    "anova(model, test=\"Chisq\")"
   ]
  },
  {
   "cell_type": "code",
   "execution_count": 11,
   "metadata": {},
   "outputs": [
    {
     "data": {
      "text/plain": [
       "\n",
       "Call:\n",
       "glm(formula = comp3 ~ definition + need + purpose + interest, \n",
       "    family = binomial, data = survey)\n",
       "\n",
       "Deviance Residuals: \n",
       "    Min       1Q   Median       3Q      Max  \n",
       "-1.2003  -0.5776  -0.3858  -0.2044   2.4650  \n",
       "\n",
       "Coefficients:\n",
       "                  Estimate Std. Error z value Pr(>|z|)  \n",
       "(Intercept)         1.9023     2.0055   0.949   0.3429  \n",
       "definitionharmony  -0.5014     1.0758  -0.466   0.6412  \n",
       "needharmony         0.8143     0.9480   0.859   0.3904  \n",
       "purposecosmetic     0.8386     1.1151   0.752   0.4520  \n",
       "purposeetc          0.4527     0.9170   0.494   0.6216  \n",
       "interest           -1.3071     0.5115  -2.555   0.0106 *\n",
       "---\n",
       "Signif. codes:  0 '***' 0.001 '**' 0.01 '*' 0.05 '.' 0.1 ' ' 1\n",
       "\n",
       "(Dispersion parameter for binomial family taken to be 1)\n",
       "\n",
       "    Null deviance: 59.742  on 77  degrees of freedom\n",
       "Residual deviance: 49.895  on 72  degrees of freedom\n",
       "AIC: 61.895\n",
       "\n",
       "Number of Fisher Scoring iterations: 5\n"
      ]
     },
     "metadata": {},
     "output_type": "display_data"
    },
    {
     "data": {
      "text/html": [
       "<table>\n",
       "<thead><tr><th></th><th scope=col>Df</th><th scope=col>Deviance</th><th scope=col>Resid. Df</th><th scope=col>Resid. Dev</th><th scope=col>Pr(&gt;Chi)</th></tr></thead>\n",
       "<tbody>\n",
       "\t<tr><th scope=row>NULL</th><td>NA         </td><td>       NA  </td><td>77         </td><td>59.74183   </td><td>         NA</td></tr>\n",
       "\t<tr><th scope=row>definition</th><td> 1         </td><td>0.2004843  </td><td>76         </td><td>59.54134   </td><td>0.654330257</td></tr>\n",
       "\t<tr><th scope=row>need</th><td> 1         </td><td>0.4049638  </td><td>75         </td><td>59.13638   </td><td>0.524536830</td></tr>\n",
       "\t<tr><th scope=row>purpose</th><td> 2         </td><td>0.6065896  </td><td>73         </td><td>58.52979   </td><td>0.738381391</td></tr>\n",
       "\t<tr><th scope=row>interest</th><td> 1         </td><td>8.6350151  </td><td>72         </td><td>49.89477   </td><td>0.003297625</td></tr>\n",
       "</tbody>\n",
       "</table>\n"
      ],
      "text/latex": [
       "\\begin{tabular}{r|lllll}\n",
       "  & Df & Deviance & Resid. Df & Resid. Dev & Pr(>Chi)\\\\\n",
       "\\hline\n",
       "\tNULL & NA          &        NA   & 77          & 59.74183    &          NA\\\\\n",
       "\tdefinition &  1          & 0.2004843   & 76          & 59.54134    & 0.654330257\\\\\n",
       "\tneed &  1          & 0.4049638   & 75          & 59.13638    & 0.524536830\\\\\n",
       "\tpurpose &  2          & 0.6065896   & 73          & 58.52979    & 0.738381391\\\\\n",
       "\tinterest &  1          & 8.6350151   & 72          & 49.89477    & 0.003297625\\\\\n",
       "\\end{tabular}\n"
      ],
      "text/markdown": [
       "\n",
       "| <!--/--> | Df | Deviance | Resid. Df | Resid. Dev | Pr(>Chi) |\n",
       "|---|---|---|---|---|---|\n",
       "| NULL | NA          |        NA   | 77          | 59.74183    |          NA |\n",
       "| definition |  1          | 0.2004843   | 76          | 59.54134    | 0.654330257 |\n",
       "| need |  1          | 0.4049638   | 75          | 59.13638    | 0.524536830 |\n",
       "| purpose |  2          | 0.6065896   | 73          | 58.52979    | 0.738381391 |\n",
       "| interest |  1          | 8.6350151   | 72          | 49.89477    | 0.003297625 |\n",
       "\n"
      ],
      "text/plain": [
       "           Df Deviance  Resid. Df Resid. Dev Pr(>Chi)   \n",
       "NULL       NA        NA 77        59.74183            NA\n",
       "definition  1 0.2004843 76        59.54134   0.654330257\n",
       "need        1 0.4049638 75        59.13638   0.524536830\n",
       "purpose     2 0.6065896 73        58.52979   0.738381391\n",
       "interest    1 8.6350151 72        49.89477   0.003297625"
      ]
     },
     "metadata": {},
     "output_type": "display_data"
    }
   ],
   "source": [
    "model <- glm(comp3 ~ definition + need + purpose \n",
    "              + interest, data =survey, family = binomial)\n",
    "summary(model)\n",
    "\n",
    "\n",
    "anova(model, test=\"Chisq\")"
   ]
  },
  {
   "cell_type": "code",
   "execution_count": 12,
   "metadata": {},
   "outputs": [
    {
     "data": {
      "text/plain": [
       "\n",
       "Call:\n",
       "glm(formula = comp4 ~ definition + need + purpose + interest, \n",
       "    family = binomial, data = survey)\n",
       "\n",
       "Deviance Residuals: \n",
       "    Min       1Q   Median       3Q      Max  \n",
       "-0.8683  -0.6455  -0.2075  -0.1958   2.6736  \n",
       "\n",
       "Coefficients:\n",
       "                  Estimate Std. Error z value Pr(>|z|)  \n",
       "(Intercept)        -0.2324     2.0451  -0.114   0.9095  \n",
       "definitionharmony  -0.3996     0.9389  -0.426   0.6704  \n",
       "needharmony        -2.3653     1.1881  -1.991   0.0465 *\n",
       "purposecosmetic     0.2972     1.1553   0.257   0.7970  \n",
       "purposeetc          0.1801     0.9797   0.184   0.8541  \n",
       "interest           -0.2820     0.5064  -0.557   0.5776  \n",
       "---\n",
       "Signif. codes:  0 '***' 0.001 '**' 0.01 '*' 0.05 '.' 0.1 ' ' 1\n",
       "\n",
       "(Dispersion parameter for binomial family taken to be 1)\n",
       "\n",
       "    Null deviance: 51.586  on 77  degrees of freedom\n",
       "Residual deviance: 42.753  on 72  degrees of freedom\n",
       "AIC: 54.753\n",
       "\n",
       "Number of Fisher Scoring iterations: 6\n"
      ]
     },
     "metadata": {},
     "output_type": "display_data"
    },
    {
     "data": {
      "text/html": [
       "<table>\n",
       "<thead><tr><th></th><th scope=col>Df</th><th scope=col>Deviance</th><th scope=col>Resid. Df</th><th scope=col>Resid. Dev</th><th scope=col>Pr(&gt;Chi)</th></tr></thead>\n",
       "<tbody>\n",
       "\t<tr><th scope=row>NULL</th><td>NA        </td><td>        NA</td><td>77        </td><td>51.58618  </td><td>        NA</td></tr>\n",
       "\t<tr><th scope=row>definition</th><td> 1        </td><td>2.45932416</td><td>76        </td><td>49.12685  </td><td>0.11682904</td></tr>\n",
       "\t<tr><th scope=row>need</th><td> 1        </td><td>5.98867210</td><td>75        </td><td>43.13818  </td><td>0.01439804</td></tr>\n",
       "\t<tr><th scope=row>purpose</th><td> 2        </td><td>0.07241293</td><td>73        </td><td>43.06577  </td><td>0.96444115</td></tr>\n",
       "\t<tr><th scope=row>interest</th><td> 1        </td><td>0.31238668</td><td>72        </td><td>42.75338  </td><td>0.57621930</td></tr>\n",
       "</tbody>\n",
       "</table>\n"
      ],
      "text/latex": [
       "\\begin{tabular}{r|lllll}\n",
       "  & Df & Deviance & Resid. Df & Resid. Dev & Pr(>Chi)\\\\\n",
       "\\hline\n",
       "\tNULL & NA         &         NA & 77         & 51.58618   &         NA\\\\\n",
       "\tdefinition &  1         & 2.45932416 & 76         & 49.12685   & 0.11682904\\\\\n",
       "\tneed &  1         & 5.98867210 & 75         & 43.13818   & 0.01439804\\\\\n",
       "\tpurpose &  2         & 0.07241293 & 73         & 43.06577   & 0.96444115\\\\\n",
       "\tinterest &  1         & 0.31238668 & 72         & 42.75338   & 0.57621930\\\\\n",
       "\\end{tabular}\n"
      ],
      "text/markdown": [
       "\n",
       "| <!--/--> | Df | Deviance | Resid. Df | Resid. Dev | Pr(>Chi) |\n",
       "|---|---|---|---|---|---|\n",
       "| NULL | NA         |         NA | 77         | 51.58618   |         NA |\n",
       "| definition |  1         | 2.45932416 | 76         | 49.12685   | 0.11682904 |\n",
       "| need |  1         | 5.98867210 | 75         | 43.13818   | 0.01439804 |\n",
       "| purpose |  2         | 0.07241293 | 73         | 43.06577   | 0.96444115 |\n",
       "| interest |  1         | 0.31238668 | 72         | 42.75338   | 0.57621930 |\n",
       "\n"
      ],
      "text/plain": [
       "           Df Deviance   Resid. Df Resid. Dev Pr(>Chi)  \n",
       "NULL       NA         NA 77        51.58618           NA\n",
       "definition  1 2.45932416 76        49.12685   0.11682904\n",
       "need        1 5.98867210 75        43.13818   0.01439804\n",
       "purpose     2 0.07241293 73        43.06577   0.96444115\n",
       "interest    1 0.31238668 72        42.75338   0.57621930"
      ]
     },
     "metadata": {},
     "output_type": "display_data"
    }
   ],
   "source": [
    "model <- glm(comp4 ~ definition + need + purpose \n",
    "              + interest, data =survey, family = binomial)\n",
    "summary(model)\n",
    "\n",
    "\n",
    "anova(model, test=\"Chisq\")"
   ]
  },
  {
   "cell_type": "code",
   "execution_count": 13,
   "metadata": {},
   "outputs": [
    {
     "data": {
      "text/plain": [
       "\n",
       "Call:\n",
       "glm(formula = comp5 ~ definition + need + purpose + interest, \n",
       "    family = binomial, data = survey)\n",
       "\n",
       "Deviance Residuals: \n",
       "    Min       1Q   Median       3Q      Max  \n",
       "-0.8518  -0.7470  -0.5878  -0.5526   2.0643  \n",
       "\n",
       "Coefficients:\n",
       "                   Estimate Std. Error z value Pr(>|z|)\n",
       "(Intercept)       -0.955720   1.493579  -0.640    0.522\n",
       "definitionharmony -0.202129   0.754869  -0.268    0.789\n",
       "needharmony        0.301467   0.658865   0.458    0.647\n",
       "purposecosmetic    0.004513   0.764649   0.006    0.995\n",
       "purposeetc        -0.673648   0.651483  -1.034    0.301\n",
       "interest          -0.034555   0.350178  -0.099    0.921\n",
       "\n",
       "(Dispersion parameter for binomial family taken to be 1)\n",
       "\n",
       "    Null deviance: 79.159  on 77  degrees of freedom\n",
       "Residual deviance: 77.667  on 72  degrees of freedom\n",
       "AIC: 89.667\n",
       "\n",
       "Number of Fisher Scoring iterations: 4\n"
      ]
     },
     "metadata": {},
     "output_type": "display_data"
    },
    {
     "data": {
      "text/html": [
       "<table>\n",
       "<thead><tr><th></th><th scope=col>Df</th><th scope=col>Deviance</th><th scope=col>Resid. Df</th><th scope=col>Resid. Dev</th><th scope=col>Pr(&gt;Chi)</th></tr></thead>\n",
       "<tbody>\n",
       "\t<tr><th scope=row>NULL</th><td>NA         </td><td>         NA</td><td>77         </td><td>79.15907   </td><td>       NA  </td></tr>\n",
       "\t<tr><th scope=row>definition</th><td> 1         </td><td>0.004356013</td><td>76         </td><td>79.15472   </td><td>0.9473777  </td></tr>\n",
       "\t<tr><th scope=row>need</th><td> 1         </td><td>0.109023326</td><td>75         </td><td>79.04569   </td><td>0.7412588  </td></tr>\n",
       "\t<tr><th scope=row>purpose</th><td> 2         </td><td>1.369131846</td><td>73         </td><td>77.67656   </td><td>0.5043091  </td></tr>\n",
       "\t<tr><th scope=row>interest</th><td> 1         </td><td>0.009730138</td><td>72         </td><td>77.66683   </td><td>0.9214229  </td></tr>\n",
       "</tbody>\n",
       "</table>\n"
      ],
      "text/latex": [
       "\\begin{tabular}{r|lllll}\n",
       "  & Df & Deviance & Resid. Df & Resid. Dev & Pr(>Chi)\\\\\n",
       "\\hline\n",
       "\tNULL & NA          &          NA & 77          & 79.15907    &        NA  \\\\\n",
       "\tdefinition &  1          & 0.004356013 & 76          & 79.15472    & 0.9473777  \\\\\n",
       "\tneed &  1          & 0.109023326 & 75          & 79.04569    & 0.7412588  \\\\\n",
       "\tpurpose &  2          & 1.369131846 & 73          & 77.67656    & 0.5043091  \\\\\n",
       "\tinterest &  1          & 0.009730138 & 72          & 77.66683    & 0.9214229  \\\\\n",
       "\\end{tabular}\n"
      ],
      "text/markdown": [
       "\n",
       "| <!--/--> | Df | Deviance | Resid. Df | Resid. Dev | Pr(>Chi) |\n",
       "|---|---|---|---|---|---|\n",
       "| NULL | NA          |          NA | 77          | 79.15907    |        NA   |\n",
       "| definition |  1          | 0.004356013 | 76          | 79.15472    | 0.9473777   |\n",
       "| need |  1          | 0.109023326 | 75          | 79.04569    | 0.7412588   |\n",
       "| purpose |  2          | 1.369131846 | 73          | 77.67656    | 0.5043091   |\n",
       "| interest |  1          | 0.009730138 | 72          | 77.66683    | 0.9214229   |\n",
       "\n"
      ],
      "text/plain": [
       "           Df Deviance    Resid. Df Resid. Dev Pr(>Chi) \n",
       "NULL       NA          NA 77        79.15907          NA\n",
       "definition  1 0.004356013 76        79.15472   0.9473777\n",
       "need        1 0.109023326 75        79.04569   0.7412588\n",
       "purpose     2 1.369131846 73        77.67656   0.5043091\n",
       "interest    1 0.009730138 72        77.66683   0.9214229"
      ]
     },
     "metadata": {},
     "output_type": "display_data"
    }
   ],
   "source": [
    "model <- glm(comp5 ~ definition + need + purpose \n",
    "              + interest, data =survey, family = binomial)\n",
    "summary(model)\n",
    "\n",
    "\n",
    "anova(model, test=\"Chisq\")"
   ]
  },
  {
   "cell_type": "code",
   "execution_count": 14,
   "metadata": {},
   "outputs": [
    {
     "data": {
      "text/plain": [
       "\n",
       "Call:\n",
       "glm(formula = t1_1 ~ definition + need + purpose + interest, \n",
       "    family = binomial, data = survey)\n",
       "\n",
       "Deviance Residuals: \n",
       "    Min       1Q   Median       3Q      Max  \n",
       "-1.1045  -0.5710  -0.4850  -0.2658   2.3450  \n",
       "\n",
       "Coefficients:\n",
       "                  Estimate Std. Error z value Pr(>|z|)  \n",
       "(Intercept)        -4.1682     2.0690  -2.015   0.0440 *\n",
       "definitionharmony   0.9314     1.1668   0.798   0.4247  \n",
       "needharmony         0.6629     0.8184   0.810   0.4180  \n",
       "purposecosmetic     1.5781     0.9487   1.663   0.0962 .\n",
       "purposeetc          0.1850     0.9196   0.201   0.8405  \n",
       "interest            0.1644     0.4325   0.380   0.7039  \n",
       "---\n",
       "Signif. codes:  0 '***' 0.001 '**' 0.01 '*' 0.05 '.' 0.1 ' ' 1\n",
       "\n",
       "(Dispersion parameter for binomial family taken to be 1)\n",
       "\n",
       "    Null deviance: 63.464  on 77  degrees of freedom\n",
       "Residual deviance: 56.836  on 72  degrees of freedom\n",
       "AIC: 68.836\n",
       "\n",
       "Number of Fisher Scoring iterations: 5\n"
      ]
     },
     "metadata": {},
     "output_type": "display_data"
    },
    {
     "data": {
      "text/html": [
       "<table>\n",
       "<thead><tr><th></th><th scope=col>Df</th><th scope=col>Deviance</th><th scope=col>Resid. Df</th><th scope=col>Resid. Dev</th><th scope=col>Pr(&gt;Chi)</th></tr></thead>\n",
       "<tbody>\n",
       "\t<tr><th scope=row>NULL</th><td>NA       </td><td>       NA</td><td>77       </td><td>63.46407 </td><td>       NA</td></tr>\n",
       "\t<tr><th scope=row>definition</th><td> 1       </td><td>2.1990699</td><td>76       </td><td>61.26500 </td><td>0.1380940</td></tr>\n",
       "\t<tr><th scope=row>need</th><td> 1       </td><td>0.1773521</td><td>75       </td><td>61.08765 </td><td>0.6736587</td></tr>\n",
       "\t<tr><th scope=row>purpose</th><td> 2       </td><td>4.1054149</td><td>73       </td><td>56.98223 </td><td>0.1283868</td></tr>\n",
       "\t<tr><th scope=row>interest</th><td> 1       </td><td>0.1458190</td><td>72       </td><td>56.83641 </td><td>0.7025633</td></tr>\n",
       "</tbody>\n",
       "</table>\n"
      ],
      "text/latex": [
       "\\begin{tabular}{r|lllll}\n",
       "  & Df & Deviance & Resid. Df & Resid. Dev & Pr(>Chi)\\\\\n",
       "\\hline\n",
       "\tNULL & NA        &        NA & 77        & 63.46407  &        NA\\\\\n",
       "\tdefinition &  1        & 2.1990699 & 76        & 61.26500  & 0.1380940\\\\\n",
       "\tneed &  1        & 0.1773521 & 75        & 61.08765  & 0.6736587\\\\\n",
       "\tpurpose &  2        & 4.1054149 & 73        & 56.98223  & 0.1283868\\\\\n",
       "\tinterest &  1        & 0.1458190 & 72        & 56.83641  & 0.7025633\\\\\n",
       "\\end{tabular}\n"
      ],
      "text/markdown": [
       "\n",
       "| <!--/--> | Df | Deviance | Resid. Df | Resid. Dev | Pr(>Chi) |\n",
       "|---|---|---|---|---|---|\n",
       "| NULL | NA        |        NA | 77        | 63.46407  |        NA |\n",
       "| definition |  1        | 2.1990699 | 76        | 61.26500  | 0.1380940 |\n",
       "| need |  1        | 0.1773521 | 75        | 61.08765  | 0.6736587 |\n",
       "| purpose |  2        | 4.1054149 | 73        | 56.98223  | 0.1283868 |\n",
       "| interest |  1        | 0.1458190 | 72        | 56.83641  | 0.7025633 |\n",
       "\n"
      ],
      "text/plain": [
       "           Df Deviance  Resid. Df Resid. Dev Pr(>Chi) \n",
       "NULL       NA        NA 77        63.46407          NA\n",
       "definition  1 2.1990699 76        61.26500   0.1380940\n",
       "need        1 0.1773521 75        61.08765   0.6736587\n",
       "purpose     2 4.1054149 73        56.98223   0.1283868\n",
       "interest    1 0.1458190 72        56.83641   0.7025633"
      ]
     },
     "metadata": {},
     "output_type": "display_data"
    }
   ],
   "source": [
    "model <- glm(t1_1 ~ definition + need + purpose \n",
    "              + interest, data =survey, family = binomial)\n",
    "summary(model)\n",
    "\n",
    "\n",
    "anova(model, test=\"Chisq\")"
   ]
  },
  {
   "cell_type": "code",
   "execution_count": 15,
   "metadata": {},
   "outputs": [
    {
     "data": {
      "text/plain": [
       "\n",
       "Call:\n",
       "glm(formula = t1_2 ~ definition + need + purpose + interest, \n",
       "    family = binomial, data = survey)\n",
       "\n",
       "Deviance Residuals: \n",
       "    Min       1Q   Median       3Q      Max  \n",
       "-1.0039  -0.4664  -0.3506  -0.2831   2.4377  \n",
       "\n",
       "Coefficients:\n",
       "                  Estimate Std. Error z value Pr(>|z|)\n",
       "(Intercept)         0.2934     1.8442   0.159    0.874\n",
       "definitionharmony  -1.2177     0.9492  -1.283    0.200\n",
       "needharmony        -0.6798     0.9380  -0.725    0.469\n",
       "purposecosmetic    -0.1954     1.3254  -0.147    0.883\n",
       "purposeetc          0.5981     0.8966   0.667    0.505\n",
       "interest           -0.4381     0.4389  -0.998    0.318\n",
       "\n",
       "(Dispersion parameter for binomial family taken to be 1)\n",
       "\n",
       "    Null deviance: 55.790  on 77  degrees of freedom\n",
       "Residual deviance: 49.225  on 72  degrees of freedom\n",
       "AIC: 61.225\n",
       "\n",
       "Number of Fisher Scoring iterations: 5\n"
      ]
     },
     "metadata": {},
     "output_type": "display_data"
    },
    {
     "data": {
      "text/html": [
       "<table>\n",
       "<thead><tr><th></th><th scope=col>Df</th><th scope=col>Deviance</th><th scope=col>Resid. Df</th><th scope=col>Resid. Dev</th><th scope=col>Pr(&gt;Chi)</th></tr></thead>\n",
       "<tbody>\n",
       "\t<tr><th scope=row>NULL</th><td>NA       </td><td>       NA</td><td>77       </td><td>55.78984 </td><td>       NA</td></tr>\n",
       "\t<tr><th scope=row>definition</th><td> 1       </td><td>4.1856738</td><td>76       </td><td>51.60416 </td><td>0.0407670</td></tr>\n",
       "\t<tr><th scope=row>need</th><td> 1       </td><td>0.5921885</td><td>75       </td><td>51.01197 </td><td>0.4415741</td></tr>\n",
       "\t<tr><th scope=row>purpose</th><td> 2       </td><td>0.7786599</td><td>73       </td><td>50.23331 </td><td>0.6775107</td></tr>\n",
       "\t<tr><th scope=row>interest</th><td> 1       </td><td>1.0078149</td><td>72       </td><td>49.22550 </td><td>0.3154269</td></tr>\n",
       "</tbody>\n",
       "</table>\n"
      ],
      "text/latex": [
       "\\begin{tabular}{r|lllll}\n",
       "  & Df & Deviance & Resid. Df & Resid. Dev & Pr(>Chi)\\\\\n",
       "\\hline\n",
       "\tNULL & NA        &        NA & 77        & 55.78984  &        NA\\\\\n",
       "\tdefinition &  1        & 4.1856738 & 76        & 51.60416  & 0.0407670\\\\\n",
       "\tneed &  1        & 0.5921885 & 75        & 51.01197  & 0.4415741\\\\\n",
       "\tpurpose &  2        & 0.7786599 & 73        & 50.23331  & 0.6775107\\\\\n",
       "\tinterest &  1        & 1.0078149 & 72        & 49.22550  & 0.3154269\\\\\n",
       "\\end{tabular}\n"
      ],
      "text/markdown": [
       "\n",
       "| <!--/--> | Df | Deviance | Resid. Df | Resid. Dev | Pr(>Chi) |\n",
       "|---|---|---|---|---|---|\n",
       "| NULL | NA        |        NA | 77        | 55.78984  |        NA |\n",
       "| definition |  1        | 4.1856738 | 76        | 51.60416  | 0.0407670 |\n",
       "| need |  1        | 0.5921885 | 75        | 51.01197  | 0.4415741 |\n",
       "| purpose |  2        | 0.7786599 | 73        | 50.23331  | 0.6775107 |\n",
       "| interest |  1        | 1.0078149 | 72        | 49.22550  | 0.3154269 |\n",
       "\n"
      ],
      "text/plain": [
       "           Df Deviance  Resid. Df Resid. Dev Pr(>Chi) \n",
       "NULL       NA        NA 77        55.78984          NA\n",
       "definition  1 4.1856738 76        51.60416   0.0407670\n",
       "need        1 0.5921885 75        51.01197   0.4415741\n",
       "purpose     2 0.7786599 73        50.23331   0.6775107\n",
       "interest    1 1.0078149 72        49.22550   0.3154269"
      ]
     },
     "metadata": {},
     "output_type": "display_data"
    }
   ],
   "source": [
    "model <- glm(t1_2 ~ definition + need + purpose \n",
    "              + interest, data =survey, family = binomial)\n",
    "summary(model)\n",
    "\n",
    "\n",
    "anova(model, test=\"Chisq\")"
   ]
  },
  {
   "cell_type": "code",
   "execution_count": 16,
   "metadata": {},
   "outputs": [
    {
     "data": {
      "text/plain": [
       "\n",
       "Call:\n",
       "glm(formula = t1_3 ~ definition + need + purpose + interest, \n",
       "    family = binomial, data = survey)\n",
       "\n",
       "Deviance Residuals: \n",
       "    Min       1Q   Median       3Q      Max  \n",
       "-0.8258  -0.6012  -0.5274  -0.4324   2.1989  \n",
       "\n",
       "Coefficients:\n",
       "                  Estimate Std. Error z value Pr(>|z|)\n",
       "(Intercept)       -0.87713    1.67634  -0.523    0.601\n",
       "definitionharmony -0.89067    0.82619  -1.078    0.281\n",
       "needharmony        0.42189    0.75094   0.562    0.574\n",
       "purposecosmetic    1.00182    0.88214   1.136    0.256\n",
       "purposeetc        -0.04961    0.78921  -0.063    0.950\n",
       "interest          -0.18550    0.39757  -0.467    0.641\n",
       "\n",
       "(Dispersion parameter for binomial family taken to be 1)\n",
       "\n",
       "    Null deviance: 66.974  on 77  degrees of freedom\n",
       "Residual deviance: 64.460  on 72  degrees of freedom\n",
       "AIC: 76.46\n",
       "\n",
       "Number of Fisher Scoring iterations: 4\n"
      ]
     },
     "metadata": {},
     "output_type": "display_data"
    },
    {
     "data": {
      "text/html": [
       "<table>\n",
       "<thead><tr><th></th><th scope=col>Df</th><th scope=col>Deviance</th><th scope=col>Resid. Df</th><th scope=col>Resid. Dev</th><th scope=col>Pr(&gt;Chi)</th></tr></thead>\n",
       "<tbody>\n",
       "\t<tr><th scope=row>NULL</th><td>NA        </td><td>        NA</td><td>77        </td><td>66.97439  </td><td>       NA </td></tr>\n",
       "\t<tr><th scope=row>definition</th><td> 1        </td><td>0.42027047</td><td>76        </td><td>66.55412  </td><td>0.5168021 </td></tr>\n",
       "\t<tr><th scope=row>need</th><td> 1        </td><td>0.08857608</td><td>75        </td><td>66.46554  </td><td>0.7659952 </td></tr>\n",
       "\t<tr><th scope=row>purpose</th><td> 2        </td><td>1.78819920</td><td>73        </td><td>64.67735  </td><td>0.4089757 </td></tr>\n",
       "\t<tr><th scope=row>interest</th><td> 1        </td><td>0.21712150</td><td>72        </td><td>64.46022  </td><td>0.6412420 </td></tr>\n",
       "</tbody>\n",
       "</table>\n"
      ],
      "text/latex": [
       "\\begin{tabular}{r|lllll}\n",
       "  & Df & Deviance & Resid. Df & Resid. Dev & Pr(>Chi)\\\\\n",
       "\\hline\n",
       "\tNULL & NA         &         NA & 77         & 66.97439   &        NA \\\\\n",
       "\tdefinition &  1         & 0.42027047 & 76         & 66.55412   & 0.5168021 \\\\\n",
       "\tneed &  1         & 0.08857608 & 75         & 66.46554   & 0.7659952 \\\\\n",
       "\tpurpose &  2         & 1.78819920 & 73         & 64.67735   & 0.4089757 \\\\\n",
       "\tinterest &  1         & 0.21712150 & 72         & 64.46022   & 0.6412420 \\\\\n",
       "\\end{tabular}\n"
      ],
      "text/markdown": [
       "\n",
       "| <!--/--> | Df | Deviance | Resid. Df | Resid. Dev | Pr(>Chi) |\n",
       "|---|---|---|---|---|---|\n",
       "| NULL | NA         |         NA | 77         | 66.97439   |        NA  |\n",
       "| definition |  1         | 0.42027047 | 76         | 66.55412   | 0.5168021  |\n",
       "| need |  1         | 0.08857608 | 75         | 66.46554   | 0.7659952  |\n",
       "| purpose |  2         | 1.78819920 | 73         | 64.67735   | 0.4089757  |\n",
       "| interest |  1         | 0.21712150 | 72         | 64.46022   | 0.6412420  |\n",
       "\n"
      ],
      "text/plain": [
       "           Df Deviance   Resid. Df Resid. Dev Pr(>Chi) \n",
       "NULL       NA         NA 77        66.97439          NA\n",
       "definition  1 0.42027047 76        66.55412   0.5168021\n",
       "need        1 0.08857608 75        66.46554   0.7659952\n",
       "purpose     2 1.78819920 73        64.67735   0.4089757\n",
       "interest    1 0.21712150 72        64.46022   0.6412420"
      ]
     },
     "metadata": {},
     "output_type": "display_data"
    }
   ],
   "source": [
    "model <- glm(t1_3 ~ definition + need + purpose \n",
    "              + interest, data =survey, family = binomial)\n",
    "summary(model)\n",
    "\n",
    "\n",
    "anova(model, test=\"Chisq\")"
   ]
  },
  {
   "cell_type": "code",
   "execution_count": 17,
   "metadata": {},
   "outputs": [
    {
     "data": {
      "text/plain": [
       "\n",
       "Call:\n",
       "glm(formula = t1_4 ~ definition + need + purpose + interest, \n",
       "    family = binomial, data = survey)\n",
       "\n",
       "Deviance Residuals: \n",
       "    Min       1Q   Median       3Q      Max  \n",
       "-1.3479  -1.0762  -0.8216   1.1839   1.6138  \n",
       "\n",
       "Coefficients:\n",
       "                  Estimate Std. Error z value Pr(>|z|)\n",
       "(Intercept)       -1.66804    1.25698  -1.327    0.185\n",
       "definitionharmony  0.92161    0.66965   1.376    0.169\n",
       "needharmony       -0.17945    0.55904  -0.321    0.748\n",
       "purposecosmetic   -0.70072    0.71008  -0.987    0.324\n",
       "purposeetc         0.04789    0.54100   0.089    0.929\n",
       "interest           0.22774    0.28287   0.805    0.421\n",
       "\n",
       "(Dispersion parameter for binomial family taken to be 1)\n",
       "\n",
       "    Null deviance: 105.60  on 77  degrees of freedom\n",
       "Residual deviance: 102.29  on 72  degrees of freedom\n",
       "AIC: 114.29\n",
       "\n",
       "Number of Fisher Scoring iterations: 4\n"
      ]
     },
     "metadata": {},
     "output_type": "display_data"
    },
    {
     "data": {
      "text/html": [
       "<table>\n",
       "<thead><tr><th></th><th scope=col>Df</th><th scope=col>Deviance</th><th scope=col>Resid. Df</th><th scope=col>Resid. Dev</th><th scope=col>Pr(&gt;Chi)</th></tr></thead>\n",
       "<tbody>\n",
       "\t<tr><th scope=row>NULL</th><td>NA          </td><td>          NA</td><td>77          </td><td>105.6045    </td><td>       NA   </td></tr>\n",
       "\t<tr><th scope=row>definition</th><td> 1          </td><td>1.3866271581</td><td>76          </td><td>104.2178    </td><td>0.2389755   </td></tr>\n",
       "\t<tr><th scope=row>need</th><td> 1          </td><td>0.0002151248</td><td>75          </td><td>104.2176    </td><td>0.9882977   </td></tr>\n",
       "\t<tr><th scope=row>purpose</th><td> 2          </td><td>1.2700530470</td><td>73          </td><td>102.9476    </td><td>0.5299214   </td></tr>\n",
       "\t<tr><th scope=row>interest</th><td> 1          </td><td>0.6584807484</td><td>72          </td><td>102.2891    </td><td>0.4170968   </td></tr>\n",
       "</tbody>\n",
       "</table>\n"
      ],
      "text/latex": [
       "\\begin{tabular}{r|lllll}\n",
       "  & Df & Deviance & Resid. Df & Resid. Dev & Pr(>Chi)\\\\\n",
       "\\hline\n",
       "\tNULL & NA           &           NA & 77           & 105.6045     &        NA   \\\\\n",
       "\tdefinition &  1           & 1.3866271581 & 76           & 104.2178     & 0.2389755   \\\\\n",
       "\tneed &  1           & 0.0002151248 & 75           & 104.2176     & 0.9882977   \\\\\n",
       "\tpurpose &  2           & 1.2700530470 & 73           & 102.9476     & 0.5299214   \\\\\n",
       "\tinterest &  1           & 0.6584807484 & 72           & 102.2891     & 0.4170968   \\\\\n",
       "\\end{tabular}\n"
      ],
      "text/markdown": [
       "\n",
       "| <!--/--> | Df | Deviance | Resid. Df | Resid. Dev | Pr(>Chi) |\n",
       "|---|---|---|---|---|---|\n",
       "| NULL | NA           |           NA | 77           | 105.6045     |        NA    |\n",
       "| definition |  1           | 1.3866271581 | 76           | 104.2178     | 0.2389755    |\n",
       "| need |  1           | 0.0002151248 | 75           | 104.2176     | 0.9882977    |\n",
       "| purpose |  2           | 1.2700530470 | 73           | 102.9476     | 0.5299214    |\n",
       "| interest |  1           | 0.6584807484 | 72           | 102.2891     | 0.4170968    |\n",
       "\n"
      ],
      "text/plain": [
       "           Df Deviance     Resid. Df Resid. Dev Pr(>Chi) \n",
       "NULL       NA           NA 77        105.6045          NA\n",
       "definition  1 1.3866271581 76        104.2178   0.2389755\n",
       "need        1 0.0002151248 75        104.2176   0.9882977\n",
       "purpose     2 1.2700530470 73        102.9476   0.5299214\n",
       "interest    1 0.6584807484 72        102.2891   0.4170968"
      ]
     },
     "metadata": {},
     "output_type": "display_data"
    }
   ],
   "source": [
    "model <- glm(t1_4 ~ definition + need + purpose \n",
    "              + interest, data =survey, family = binomial)\n",
    "summary(model)\n",
    "\n",
    "\n",
    "anova(model, test=\"Chisq\")"
   ]
  },
  {
   "cell_type": "code",
   "execution_count": 18,
   "metadata": {},
   "outputs": [
    {
     "data": {
      "text/plain": [
       "\n",
       "Call:\n",
       "glm(formula = t1_5 ~ definition + need + purpose + interest, \n",
       "    family = binomial, data = survey)\n",
       "\n",
       "Deviance Residuals: \n",
       "    Min       1Q   Median       3Q      Max  \n",
       "-0.8315  -0.6754  -0.6003  -0.3388   2.2989  \n",
       "\n",
       "Coefficients:\n",
       "                   Estimate Std. Error z value Pr(>|z|)\n",
       "(Intercept)       -0.647533   1.513863  -0.428    0.669\n",
       "definitionharmony  0.004685   0.804647   0.006    0.995\n",
       "needharmony       -0.179981   0.718558  -0.250    0.802\n",
       "purposecosmetic   -1.684039   1.152721  -1.461    0.144\n",
       "purposeetc        -0.477251   0.634633  -0.752    0.452\n",
       "interest          -0.080558   0.351558  -0.229    0.819\n",
       "\n",
       "(Dispersion parameter for binomial family taken to be 1)\n",
       "\n",
       "    Null deviance: 73.416  on 77  degrees of freedom\n",
       "Residual deviance: 70.457  on 72  degrees of freedom\n",
       "AIC: 82.457\n",
       "\n",
       "Number of Fisher Scoring iterations: 5\n"
      ]
     },
     "metadata": {},
     "output_type": "display_data"
    },
    {
     "data": {
      "text/html": [
       "<table>\n",
       "<thead><tr><th></th><th scope=col>Df</th><th scope=col>Deviance</th><th scope=col>Resid. Df</th><th scope=col>Resid. Dev</th><th scope=col>Pr(&gt;Chi)</th></tr></thead>\n",
       "<tbody>\n",
       "\t<tr><th scope=row>NULL</th><td>NA          </td><td>          NA</td><td>77          </td><td>73.41594    </td><td>       NA   </td></tr>\n",
       "\t<tr><th scope=row>definition</th><td> 1          </td><td>0.0754498064</td><td>76          </td><td>73.34049    </td><td>0.7835611   </td></tr>\n",
       "\t<tr><th scope=row>need</th><td> 1          </td><td>0.0007901068</td><td>75          </td><td>73.33970    </td><td>0.9775753   </td></tr>\n",
       "\t<tr><th scope=row>purpose</th><td> 2          </td><td>2.8297929166</td><td>73          </td><td>70.50990    </td><td>0.2429508   </td></tr>\n",
       "\t<tr><th scope=row>interest</th><td> 1          </td><td>0.0524502110</td><td>72          </td><td>70.45745    </td><td>0.8188533   </td></tr>\n",
       "</tbody>\n",
       "</table>\n"
      ],
      "text/latex": [
       "\\begin{tabular}{r|lllll}\n",
       "  & Df & Deviance & Resid. Df & Resid. Dev & Pr(>Chi)\\\\\n",
       "\\hline\n",
       "\tNULL & NA           &           NA & 77           & 73.41594     &        NA   \\\\\n",
       "\tdefinition &  1           & 0.0754498064 & 76           & 73.34049     & 0.7835611   \\\\\n",
       "\tneed &  1           & 0.0007901068 & 75           & 73.33970     & 0.9775753   \\\\\n",
       "\tpurpose &  2           & 2.8297929166 & 73           & 70.50990     & 0.2429508   \\\\\n",
       "\tinterest &  1           & 0.0524502110 & 72           & 70.45745     & 0.8188533   \\\\\n",
       "\\end{tabular}\n"
      ],
      "text/markdown": [
       "\n",
       "| <!--/--> | Df | Deviance | Resid. Df | Resid. Dev | Pr(>Chi) |\n",
       "|---|---|---|---|---|---|\n",
       "| NULL | NA           |           NA | 77           | 73.41594     |        NA    |\n",
       "| definition |  1           | 0.0754498064 | 76           | 73.34049     | 0.7835611    |\n",
       "| need |  1           | 0.0007901068 | 75           | 73.33970     | 0.9775753    |\n",
       "| purpose |  2           | 2.8297929166 | 73           | 70.50990     | 0.2429508    |\n",
       "| interest |  1           | 0.0524502110 | 72           | 70.45745     | 0.8188533    |\n",
       "\n"
      ],
      "text/plain": [
       "           Df Deviance     Resid. Df Resid. Dev Pr(>Chi) \n",
       "NULL       NA           NA 77        73.41594          NA\n",
       "definition  1 0.0754498064 76        73.34049   0.7835611\n",
       "need        1 0.0007901068 75        73.33970   0.9775753\n",
       "purpose     2 2.8297929166 73        70.50990   0.2429508\n",
       "interest    1 0.0524502110 72        70.45745   0.8188533"
      ]
     },
     "metadata": {},
     "output_type": "display_data"
    }
   ],
   "source": [
    "model <- glm(t1_5 ~ definition + need + purpose \n",
    "              + interest, data =survey, family = binomial)\n",
    "summary(model)\n",
    "\n",
    "\n",
    "anova(model, test=\"Chisq\")"
   ]
  },
  {
   "cell_type": "code",
   "execution_count": 19,
   "metadata": {},
   "outputs": [
    {
     "data": {
      "text/plain": [
       "\n",
       "Call:\n",
       "glm(formula = t2_1 ~ definition + need + purpose + interest, \n",
       "    family = binomial, data = survey)\n",
       "\n",
       "Deviance Residuals: \n",
       "    Min       1Q   Median       3Q      Max  \n",
       "-1.1608  -0.8487  -0.6116   1.1280   2.1987  \n",
       "\n",
       "Coefficients:\n",
       "                  Estimate Std. Error z value Pr(>|z|)  \n",
       "(Intercept)        2.19948    1.41563   1.554   0.1203  \n",
       "definitionharmony -0.66692    0.69923  -0.954   0.3402  \n",
       "needharmony       -0.09154    0.60436  -0.151   0.8796  \n",
       "purposecosmetic    0.72890    0.74600   0.977   0.3285  \n",
       "purposeetc         0.06232    0.61784   0.101   0.9197  \n",
       "interest          -0.77126    0.34077  -2.263   0.0236 *\n",
       "---\n",
       "Signif. codes:  0 '***' 0.001 '**' 0.01 '*' 0.05 '.' 0.1 ' ' 1\n",
       "\n",
       "(Dispersion parameter for binomial family taken to be 1)\n",
       "\n",
       "    Null deviance: 94.607  on 77  degrees of freedom\n",
       "Residual deviance: 87.455  on 72  degrees of freedom\n",
       "AIC: 99.455\n",
       "\n",
       "Number of Fisher Scoring iterations: 4\n"
      ]
     },
     "metadata": {},
     "output_type": "display_data"
    },
    {
     "data": {
      "text/html": [
       "<table>\n",
       "<thead><tr><th></th><th scope=col>Df</th><th scope=col>Deviance</th><th scope=col>Resid. Df</th><th scope=col>Resid. Dev</th><th scope=col>Pr(&gt;Chi)</th></tr></thead>\n",
       "<tbody>\n",
       "\t<tr><th scope=row>NULL</th><td>NA        </td><td>       NA </td><td>77        </td><td>94.60719  </td><td>        NA</td></tr>\n",
       "\t<tr><th scope=row>definition</th><td> 1        </td><td>0.3850249 </td><td>76        </td><td>94.22217  </td><td>0.53492618</td></tr>\n",
       "\t<tr><th scope=row>need</th><td> 1        </td><td>0.3165315 </td><td>75        </td><td>93.90564  </td><td>0.57369958</td></tr>\n",
       "\t<tr><th scope=row>purpose</th><td> 2        </td><td>0.6626362 </td><td>73        </td><td>93.24300  </td><td>0.71797673</td></tr>\n",
       "\t<tr><th scope=row>interest</th><td> 1        </td><td>5.7875645 </td><td>72        </td><td>87.45544  </td><td>0.01613993</td></tr>\n",
       "</tbody>\n",
       "</table>\n"
      ],
      "text/latex": [
       "\\begin{tabular}{r|lllll}\n",
       "  & Df & Deviance & Resid. Df & Resid. Dev & Pr(>Chi)\\\\\n",
       "\\hline\n",
       "\tNULL & NA         &        NA  & 77         & 94.60719   &         NA\\\\\n",
       "\tdefinition &  1         & 0.3850249  & 76         & 94.22217   & 0.53492618\\\\\n",
       "\tneed &  1         & 0.3165315  & 75         & 93.90564   & 0.57369958\\\\\n",
       "\tpurpose &  2         & 0.6626362  & 73         & 93.24300   & 0.71797673\\\\\n",
       "\tinterest &  1         & 5.7875645  & 72         & 87.45544   & 0.01613993\\\\\n",
       "\\end{tabular}\n"
      ],
      "text/markdown": [
       "\n",
       "| <!--/--> | Df | Deviance | Resid. Df | Resid. Dev | Pr(>Chi) |\n",
       "|---|---|---|---|---|---|\n",
       "| NULL | NA         |        NA  | 77         | 94.60719   |         NA |\n",
       "| definition |  1         | 0.3850249  | 76         | 94.22217   | 0.53492618 |\n",
       "| need |  1         | 0.3165315  | 75         | 93.90564   | 0.57369958 |\n",
       "| purpose |  2         | 0.6626362  | 73         | 93.24300   | 0.71797673 |\n",
       "| interest |  1         | 5.7875645  | 72         | 87.45544   | 0.01613993 |\n",
       "\n"
      ],
      "text/plain": [
       "           Df Deviance  Resid. Df Resid. Dev Pr(>Chi)  \n",
       "NULL       NA        NA 77        94.60719           NA\n",
       "definition  1 0.3850249 76        94.22217   0.53492618\n",
       "need        1 0.3165315 75        93.90564   0.57369958\n",
       "purpose     2 0.6626362 73        93.24300   0.71797673\n",
       "interest    1 5.7875645 72        87.45544   0.01613993"
      ]
     },
     "metadata": {},
     "output_type": "display_data"
    }
   ],
   "source": [
    "model <- glm(t2_1 ~ definition + need + purpose \n",
    "              + interest, data =survey, family = binomial)\n",
    "summary(model)\n",
    "\n",
    "\n",
    "anova(model, test=\"Chisq\")"
   ]
  },
  {
   "cell_type": "code",
   "execution_count": 20,
   "metadata": {},
   "outputs": [
    {
     "data": {
      "text/plain": [
       "\n",
       "Call:\n",
       "glm(formula = t2_2 ~ definition + need + purpose + interest, \n",
       "    family = binomial, data = survey)\n",
       "\n",
       "Deviance Residuals: \n",
       "    Min       1Q   Median       3Q      Max  \n",
       "-0.8858  -0.7178  -0.6673  -0.4768   2.1428  \n",
       "\n",
       "Coefficients:\n",
       "                   Estimate Std. Error z value Pr(>|z|)\n",
       "(Intercept)       -1.335812   1.483041  -0.901    0.368\n",
       "definitionharmony  0.217646   0.797904   0.273    0.785\n",
       "needharmony        0.602444   0.667994   0.902    0.367\n",
       "purposecosmetic   -0.007929   0.769051  -0.010    0.992\n",
       "purposeetc        -0.491368   0.639481  -0.768    0.442\n",
       "interest          -0.072503   0.337230  -0.215    0.830\n",
       "\n",
       "(Dispersion parameter for binomial family taken to be 1)\n",
       "\n",
       "    Null deviance: 81.791  on 77  degrees of freedom\n",
       "Residual deviance: 79.599  on 72  degrees of freedom\n",
       "AIC: 91.599\n",
       "\n",
       "Number of Fisher Scoring iterations: 4\n"
      ]
     },
     "metadata": {},
     "output_type": "display_data"
    },
    {
     "data": {
      "text/html": [
       "<table>\n",
       "<thead><tr><th></th><th scope=col>Df</th><th scope=col>Deviance</th><th scope=col>Resid. Df</th><th scope=col>Resid. Dev</th><th scope=col>Pr(&gt;Chi)</th></tr></thead>\n",
       "<tbody>\n",
       "\t<tr><th scope=row>NULL</th><td>NA        </td><td>        NA</td><td>77        </td><td>81.79071  </td><td>       NA </td></tr>\n",
       "\t<tr><th scope=row>definition</th><td> 1        </td><td>0.77325211</td><td>76        </td><td>81.01746  </td><td>0.3792129 </td></tr>\n",
       "\t<tr><th scope=row>need</th><td> 1        </td><td>0.64632792</td><td>75        </td><td>80.37113  </td><td>0.4214286 </td></tr>\n",
       "\t<tr><th scope=row>purpose</th><td> 2        </td><td>0.72589386</td><td>73        </td><td>79.64524  </td><td>0.6956233 </td></tr>\n",
       "\t<tr><th scope=row>interest</th><td> 1        </td><td>0.04619169</td><td>72        </td><td>79.59905  </td><td>0.8298277 </td></tr>\n",
       "</tbody>\n",
       "</table>\n"
      ],
      "text/latex": [
       "\\begin{tabular}{r|lllll}\n",
       "  & Df & Deviance & Resid. Df & Resid. Dev & Pr(>Chi)\\\\\n",
       "\\hline\n",
       "\tNULL & NA         &         NA & 77         & 81.79071   &        NA \\\\\n",
       "\tdefinition &  1         & 0.77325211 & 76         & 81.01746   & 0.3792129 \\\\\n",
       "\tneed &  1         & 0.64632792 & 75         & 80.37113   & 0.4214286 \\\\\n",
       "\tpurpose &  2         & 0.72589386 & 73         & 79.64524   & 0.6956233 \\\\\n",
       "\tinterest &  1         & 0.04619169 & 72         & 79.59905   & 0.8298277 \\\\\n",
       "\\end{tabular}\n"
      ],
      "text/markdown": [
       "\n",
       "| <!--/--> | Df | Deviance | Resid. Df | Resid. Dev | Pr(>Chi) |\n",
       "|---|---|---|---|---|---|\n",
       "| NULL | NA         |         NA | 77         | 81.79071   |        NA  |\n",
       "| definition |  1         | 0.77325211 | 76         | 81.01746   | 0.3792129  |\n",
       "| need |  1         | 0.64632792 | 75         | 80.37113   | 0.4214286  |\n",
       "| purpose |  2         | 0.72589386 | 73         | 79.64524   | 0.6956233  |\n",
       "| interest |  1         | 0.04619169 | 72         | 79.59905   | 0.8298277  |\n",
       "\n"
      ],
      "text/plain": [
       "           Df Deviance   Resid. Df Resid. Dev Pr(>Chi) \n",
       "NULL       NA         NA 77        81.79071          NA\n",
       "definition  1 0.77325211 76        81.01746   0.3792129\n",
       "need        1 0.64632792 75        80.37113   0.4214286\n",
       "purpose     2 0.72589386 73        79.64524   0.6956233\n",
       "interest    1 0.04619169 72        79.59905   0.8298277"
      ]
     },
     "metadata": {},
     "output_type": "display_data"
    }
   ],
   "source": [
    "model <- glm(t2_2 ~ definition + need + purpose \n",
    "              + interest, data =survey, family = binomial)\n",
    "summary(model)\n",
    "\n",
    "\n",
    "anova(model, test=\"Chisq\")"
   ]
  },
  {
   "cell_type": "code",
   "execution_count": 21,
   "metadata": {},
   "outputs": [
    {
     "data": {
      "text/plain": [
       "\n",
       "Call:\n",
       "glm(formula = t2_3 ~ definition + need + purpose + interest, \n",
       "    family = binomial, data = survey)\n",
       "\n",
       "Deviance Residuals: \n",
       "    Min       1Q   Median       3Q      Max  \n",
       "-0.8387  -0.6409  -0.6270  -0.4740   2.1546  \n",
       "\n",
       "Coefficients:\n",
       "                   Estimate Std. Error z value Pr(>|z|)\n",
       "(Intercept)       -1.285337   1.530168  -0.840    0.401\n",
       "definitionharmony -0.359843   0.796025  -0.452    0.651\n",
       "needharmony        0.407992   0.724311   0.563    0.573\n",
       "purposecosmetic   -0.580837   0.924304  -0.628    0.530\n",
       "purposeetc        -0.252201   0.657610  -0.384    0.701\n",
       "interest           0.002709   0.353342   0.008    0.994\n",
       "\n",
       "(Dispersion parameter for binomial family taken to be 1)\n",
       "\n",
       "    Null deviance: 73.416  on 77  degrees of freedom\n",
       "Residual deviance: 72.482  on 72  degrees of freedom\n",
       "AIC: 84.482\n",
       "\n",
       "Number of Fisher Scoring iterations: 4\n"
      ]
     },
     "metadata": {},
     "output_type": "display_data"
    },
    {
     "data": {
      "text/html": [
       "<table>\n",
       "<thead><tr><th></th><th scope=col>Df</th><th scope=col>Deviance</th><th scope=col>Resid. Df</th><th scope=col>Resid. Dev</th><th scope=col>Pr(&gt;Chi)</th></tr></thead>\n",
       "<tbody>\n",
       "\t<tr><th scope=row>NULL</th><td>NA          </td><td>          NA</td><td>77          </td><td>73.41594    </td><td>       NA   </td></tr>\n",
       "\t<tr><th scope=row>definition</th><td> 1          </td><td>7.544981e-02</td><td>76          </td><td>73.34049    </td><td>0.7835611   </td></tr>\n",
       "\t<tr><th scope=row>need</th><td> 1          </td><td>4.349836e-01</td><td>75          </td><td>72.90550    </td><td>0.5095536   </td></tr>\n",
       "\t<tr><th scope=row>purpose</th><td> 2          </td><td>4.234587e-01</td><td>73          </td><td>72.48204    </td><td>0.8091837   </td></tr>\n",
       "\t<tr><th scope=row>interest</th><td> 1          </td><td>5.879853e-05</td><td>72          </td><td>72.48199    </td><td>0.9938819   </td></tr>\n",
       "</tbody>\n",
       "</table>\n"
      ],
      "text/latex": [
       "\\begin{tabular}{r|lllll}\n",
       "  & Df & Deviance & Resid. Df & Resid. Dev & Pr(>Chi)\\\\\n",
       "\\hline\n",
       "\tNULL & NA           &           NA & 77           & 73.41594     &        NA   \\\\\n",
       "\tdefinition &  1           & 7.544981e-02 & 76           & 73.34049     & 0.7835611   \\\\\n",
       "\tneed &  1           & 4.349836e-01 & 75           & 72.90550     & 0.5095536   \\\\\n",
       "\tpurpose &  2           & 4.234587e-01 & 73           & 72.48204     & 0.8091837   \\\\\n",
       "\tinterest &  1           & 5.879853e-05 & 72           & 72.48199     & 0.9938819   \\\\\n",
       "\\end{tabular}\n"
      ],
      "text/markdown": [
       "\n",
       "| <!--/--> | Df | Deviance | Resid. Df | Resid. Dev | Pr(>Chi) |\n",
       "|---|---|---|---|---|---|\n",
       "| NULL | NA           |           NA | 77           | 73.41594     |        NA    |\n",
       "| definition |  1           | 7.544981e-02 | 76           | 73.34049     | 0.7835611    |\n",
       "| need |  1           | 4.349836e-01 | 75           | 72.90550     | 0.5095536    |\n",
       "| purpose |  2           | 4.234587e-01 | 73           | 72.48204     | 0.8091837    |\n",
       "| interest |  1           | 5.879853e-05 | 72           | 72.48199     | 0.9938819    |\n",
       "\n"
      ],
      "text/plain": [
       "           Df Deviance     Resid. Df Resid. Dev Pr(>Chi) \n",
       "NULL       NA           NA 77        73.41594          NA\n",
       "definition  1 7.544981e-02 76        73.34049   0.7835611\n",
       "need        1 4.349836e-01 75        72.90550   0.5095536\n",
       "purpose     2 4.234587e-01 73        72.48204   0.8091837\n",
       "interest    1 5.879853e-05 72        72.48199   0.9938819"
      ]
     },
     "metadata": {},
     "output_type": "display_data"
    }
   ],
   "source": [
    "model <- glm(t2_3 ~ definition + need + purpose \n",
    "              + interest, data =survey, family = binomial)\n",
    "summary(model)\n",
    "\n",
    "\n",
    "anova(model, test=\"Chisq\")"
   ]
  },
  {
   "cell_type": "code",
   "execution_count": 22,
   "metadata": {},
   "outputs": [
    {
     "data": {
      "text/plain": [
       "\n",
       "Call:\n",
       "glm(formula = t2_4 ~ definition + need + purpose + interest, \n",
       "    family = binomial, data = survey)\n",
       "\n",
       "Deviance Residuals: \n",
       "    Min       1Q   Median       3Q      Max  \n",
       "-0.7832  -0.5858  -0.5059  -0.4593   2.1455  \n",
       "\n",
       "Coefficients:\n",
       "                  Estimate Std. Error z value Pr(>|z|)  \n",
       "(Intercept)        -3.0758     1.7748  -1.733   0.0831 .\n",
       "definitionharmony   0.2127     0.8765   0.243   0.8082  \n",
       "needharmony        -0.3216     0.7621  -0.422   0.6730  \n",
       "purposecosmetic    -0.1247     0.9971  -0.125   0.9005  \n",
       "purposeetc          0.1910     0.7690   0.248   0.8039  \n",
       "interest            0.3295     0.3993   0.825   0.4093  \n",
       "---\n",
       "Signif. codes:  0 '***' 0.001 '**' 0.01 '*' 0.05 '.' 0.1 ' ' 1\n",
       "\n",
       "(Dispersion parameter for binomial family taken to be 1)\n",
       "\n",
       "    Null deviance: 63.464  on 77  degrees of freedom\n",
       "Residual deviance: 62.529  on 72  degrees of freedom\n",
       "AIC: 74.529\n",
       "\n",
       "Number of Fisher Scoring iterations: 4\n"
      ]
     },
     "metadata": {},
     "output_type": "display_data"
    },
    {
     "data": {
      "text/html": [
       "<table>\n",
       "<thead><tr><th></th><th scope=col>Df</th><th scope=col>Deviance</th><th scope=col>Resid. Df</th><th scope=col>Resid. Dev</th><th scope=col>Pr(&gt;Chi)</th></tr></thead>\n",
       "<tbody>\n",
       "\t<tr><th scope=row>NULL</th><td>NA        </td><td>        NA</td><td>77        </td><td>63.46407  </td><td>       NA </td></tr>\n",
       "\t<tr><th scope=row>definition</th><td> 1        </td><td>0.01768244</td><td>76        </td><td>63.44639  </td><td>0.8942129 </td></tr>\n",
       "\t<tr><th scope=row>need</th><td> 1        </td><td>0.08564312</td><td>75        </td><td>63.36074  </td><td>0.7697909 </td></tr>\n",
       "\t<tr><th scope=row>purpose</th><td> 2        </td><td>0.13248691</td><td>73        </td><td>63.22826  </td><td>0.9359030 </td></tr>\n",
       "\t<tr><th scope=row>interest</th><td> 1        </td><td>0.69898267</td><td>72        </td><td>62.52927  </td><td>0.4031257 </td></tr>\n",
       "</tbody>\n",
       "</table>\n"
      ],
      "text/latex": [
       "\\begin{tabular}{r|lllll}\n",
       "  & Df & Deviance & Resid. Df & Resid. Dev & Pr(>Chi)\\\\\n",
       "\\hline\n",
       "\tNULL & NA         &         NA & 77         & 63.46407   &        NA \\\\\n",
       "\tdefinition &  1         & 0.01768244 & 76         & 63.44639   & 0.8942129 \\\\\n",
       "\tneed &  1         & 0.08564312 & 75         & 63.36074   & 0.7697909 \\\\\n",
       "\tpurpose &  2         & 0.13248691 & 73         & 63.22826   & 0.9359030 \\\\\n",
       "\tinterest &  1         & 0.69898267 & 72         & 62.52927   & 0.4031257 \\\\\n",
       "\\end{tabular}\n"
      ],
      "text/markdown": [
       "\n",
       "| <!--/--> | Df | Deviance | Resid. Df | Resid. Dev | Pr(>Chi) |\n",
       "|---|---|---|---|---|---|\n",
       "| NULL | NA         |         NA | 77         | 63.46407   |        NA  |\n",
       "| definition |  1         | 0.01768244 | 76         | 63.44639   | 0.8942129  |\n",
       "| need |  1         | 0.08564312 | 75         | 63.36074   | 0.7697909  |\n",
       "| purpose |  2         | 0.13248691 | 73         | 63.22826   | 0.9359030  |\n",
       "| interest |  1         | 0.69898267 | 72         | 62.52927   | 0.4031257  |\n",
       "\n"
      ],
      "text/plain": [
       "           Df Deviance   Resid. Df Resid. Dev Pr(>Chi) \n",
       "NULL       NA         NA 77        63.46407          NA\n",
       "definition  1 0.01768244 76        63.44639   0.8942129\n",
       "need        1 0.08564312 75        63.36074   0.7697909\n",
       "purpose     2 0.13248691 73        63.22826   0.9359030\n",
       "interest    1 0.69898267 72        62.52927   0.4031257"
      ]
     },
     "metadata": {},
     "output_type": "display_data"
    }
   ],
   "source": [
    "model <- glm(t2_4 ~ definition + need + purpose \n",
    "              + interest, data =survey, family = binomial)\n",
    "summary(model)\n",
    "\n",
    "\n",
    "anova(model, test=\"Chisq\")"
   ]
  },
  {
   "cell_type": "code",
   "execution_count": 23,
   "metadata": {},
   "outputs": [
    {
     "data": {
      "text/plain": [
       "\n",
       "Call:\n",
       "glm(formula = t2_5 ~ definition + need + purpose + interest, \n",
       "    family = binomial, data = survey)\n",
       "\n",
       "Deviance Residuals: \n",
       "    Min       1Q   Median       3Q      Max  \n",
       "-1.1044  -0.6705  -0.4835  -0.3178   2.4336  \n",
       "\n",
       "Coefficients:\n",
       "                  Estimate Std. Error z value Pr(>|z|)   \n",
       "(Intercept)        -5.5661     1.9410  -2.868  0.00414 **\n",
       "definitionharmony   0.9620     0.9113   1.056  0.29109   \n",
       "needharmony        -0.7283     0.7546  -0.965  0.33444   \n",
       "purposecosmetic    -0.2459     1.0204  -0.241  0.80954   \n",
       "purposeetc          0.5867     0.7782   0.754  0.45084   \n",
       "interest            0.8860     0.4149   2.136  0.03272 * \n",
       "---\n",
       "Signif. codes:  0 '***' 0.001 '**' 0.01 '*' 0.05 '.' 0.1 ' ' 1\n",
       "\n",
       "(Dispersion parameter for binomial family taken to be 1)\n",
       "\n",
       "    Null deviance: 70.288  on 77  degrees of freedom\n",
       "Residual deviance: 63.532  on 72  degrees of freedom\n",
       "AIC: 75.532\n",
       "\n",
       "Number of Fisher Scoring iterations: 5\n"
      ]
     },
     "metadata": {},
     "output_type": "display_data"
    },
    {
     "data": {
      "text/html": [
       "<table>\n",
       "<thead><tr><th></th><th scope=col>Df</th><th scope=col>Deviance</th><th scope=col>Resid. Df</th><th scope=col>Resid. Dev</th><th scope=col>Pr(&gt;Chi)</th></tr></thead>\n",
       "<tbody>\n",
       "\t<tr><th scope=row>NULL</th><td>NA        </td><td>        NA</td><td>77        </td><td>70.28755  </td><td>        NA</td></tr>\n",
       "\t<tr><th scope=row>definition</th><td> 1        </td><td>0.05479475</td><td>76        </td><td>70.23275  </td><td>0.81492070</td></tr>\n",
       "\t<tr><th scope=row>need</th><td> 1        </td><td>0.33745175</td><td>75        </td><td>69.89530  </td><td>0.56130382</td></tr>\n",
       "\t<tr><th scope=row>purpose</th><td> 2        </td><td>1.16296458</td><td>73        </td><td>68.73234  </td><td>0.55906905</td></tr>\n",
       "\t<tr><th scope=row>interest</th><td> 1        </td><td>5.20017429</td><td>72        </td><td>63.53216  </td><td>0.02258462</td></tr>\n",
       "</tbody>\n",
       "</table>\n"
      ],
      "text/latex": [
       "\\begin{tabular}{r|lllll}\n",
       "  & Df & Deviance & Resid. Df & Resid. Dev & Pr(>Chi)\\\\\n",
       "\\hline\n",
       "\tNULL & NA         &         NA & 77         & 70.28755   &         NA\\\\\n",
       "\tdefinition &  1         & 0.05479475 & 76         & 70.23275   & 0.81492070\\\\\n",
       "\tneed &  1         & 0.33745175 & 75         & 69.89530   & 0.56130382\\\\\n",
       "\tpurpose &  2         & 1.16296458 & 73         & 68.73234   & 0.55906905\\\\\n",
       "\tinterest &  1         & 5.20017429 & 72         & 63.53216   & 0.02258462\\\\\n",
       "\\end{tabular}\n"
      ],
      "text/markdown": [
       "\n",
       "| <!--/--> | Df | Deviance | Resid. Df | Resid. Dev | Pr(>Chi) |\n",
       "|---|---|---|---|---|---|\n",
       "| NULL | NA         |         NA | 77         | 70.28755   |         NA |\n",
       "| definition |  1         | 0.05479475 | 76         | 70.23275   | 0.81492070 |\n",
       "| need |  1         | 0.33745175 | 75         | 69.89530   | 0.56130382 |\n",
       "| purpose |  2         | 1.16296458 | 73         | 68.73234   | 0.55906905 |\n",
       "| interest |  1         | 5.20017429 | 72         | 63.53216   | 0.02258462 |\n",
       "\n"
      ],
      "text/plain": [
       "           Df Deviance   Resid. Df Resid. Dev Pr(>Chi)  \n",
       "NULL       NA         NA 77        70.28755           NA\n",
       "definition  1 0.05479475 76        70.23275   0.81492070\n",
       "need        1 0.33745175 75        69.89530   0.56130382\n",
       "purpose     2 1.16296458 73        68.73234   0.55906905\n",
       "interest    1 5.20017429 72        63.53216   0.02258462"
      ]
     },
     "metadata": {},
     "output_type": "display_data"
    }
   ],
   "source": [
    "model <- glm(t2_5 ~ definition + need + purpose \n",
    "              + interest, data =survey, family = binomial)\n",
    "summary(model)\n",
    "\n",
    "\n",
    "anova(model, test=\"Chisq\")"
   ]
  },
  {
   "cell_type": "code",
   "execution_count": 24,
   "metadata": {},
   "outputs": [
    {
     "data": {
      "text/plain": [
       "\n",
       "Call:\n",
       "glm(formula = d1_1 ~ definition + need + purpose + interest, \n",
       "    family = binomial, data = survey)\n",
       "\n",
       "Deviance Residuals: \n",
       "    Min       1Q   Median       3Q      Max  \n",
       "-0.9820  -0.7381  -0.6862  -0.4676   2.1296  \n",
       "\n",
       "Coefficients:\n",
       "                  Estimate Std. Error z value Pr(>|z|)\n",
       "(Intercept)       -1.63906    1.44956  -1.131    0.258\n",
       "definitionharmony -0.29167    0.72228  -0.404    0.686\n",
       "needharmony       -0.34995    0.64668  -0.541    0.588\n",
       "purposecosmetic    0.81133    0.86546   0.937    0.349\n",
       "purposeetc         0.95625    0.71877   1.330    0.183\n",
       "interest           0.04081    0.32581   0.125    0.900\n",
       "\n",
       "(Dispersion parameter for binomial family taken to be 1)\n",
       "\n",
       "    Null deviance: 84.272  on 77  degrees of freedom\n",
       "Residual deviance: 81.228  on 72  degrees of freedom\n",
       "AIC: 93.228\n",
       "\n",
       "Number of Fisher Scoring iterations: 4\n"
      ]
     },
     "metadata": {},
     "output_type": "display_data"
    },
    {
     "data": {
      "text/html": [
       "<table>\n",
       "<thead><tr><th></th><th scope=col>Df</th><th scope=col>Deviance</th><th scope=col>Resid. Df</th><th scope=col>Resid. Dev</th><th scope=col>Pr(&gt;Chi)</th></tr></thead>\n",
       "<tbody>\n",
       "\t<tr><th scope=row>NULL</th><td>NA        </td><td>        NA</td><td>77        </td><td>84.27185  </td><td>       NA </td></tr>\n",
       "\t<tr><th scope=row>definition</th><td> 1        </td><td>0.69865298</td><td>76        </td><td>83.57319  </td><td>0.4032367 </td></tr>\n",
       "\t<tr><th scope=row>need</th><td> 1        </td><td>0.30366845</td><td>75        </td><td>83.26952  </td><td>0.5815917 </td></tr>\n",
       "\t<tr><th scope=row>purpose</th><td> 2        </td><td>2.02625349</td><td>73        </td><td>81.24327  </td><td>0.3630819 </td></tr>\n",
       "\t<tr><th scope=row>interest</th><td> 1        </td><td>0.01571661</td><td>72        </td><td>81.22755  </td><td>0.9002339 </td></tr>\n",
       "</tbody>\n",
       "</table>\n"
      ],
      "text/latex": [
       "\\begin{tabular}{r|lllll}\n",
       "  & Df & Deviance & Resid. Df & Resid. Dev & Pr(>Chi)\\\\\n",
       "\\hline\n",
       "\tNULL & NA         &         NA & 77         & 84.27185   &        NA \\\\\n",
       "\tdefinition &  1         & 0.69865298 & 76         & 83.57319   & 0.4032367 \\\\\n",
       "\tneed &  1         & 0.30366845 & 75         & 83.26952   & 0.5815917 \\\\\n",
       "\tpurpose &  2         & 2.02625349 & 73         & 81.24327   & 0.3630819 \\\\\n",
       "\tinterest &  1         & 0.01571661 & 72         & 81.22755   & 0.9002339 \\\\\n",
       "\\end{tabular}\n"
      ],
      "text/markdown": [
       "\n",
       "| <!--/--> | Df | Deviance | Resid. Df | Resid. Dev | Pr(>Chi) |\n",
       "|---|---|---|---|---|---|\n",
       "| NULL | NA         |         NA | 77         | 84.27185   |        NA  |\n",
       "| definition |  1         | 0.69865298 | 76         | 83.57319   | 0.4032367  |\n",
       "| need |  1         | 0.30366845 | 75         | 83.26952   | 0.5815917  |\n",
       "| purpose |  2         | 2.02625349 | 73         | 81.24327   | 0.3630819  |\n",
       "| interest |  1         | 0.01571661 | 72         | 81.22755   | 0.9002339  |\n",
       "\n"
      ],
      "text/plain": [
       "           Df Deviance   Resid. Df Resid. Dev Pr(>Chi) \n",
       "NULL       NA         NA 77        84.27185          NA\n",
       "definition  1 0.69865298 76        83.57319   0.4032367\n",
       "need        1 0.30366845 75        83.26952   0.5815917\n",
       "purpose     2 2.02625349 73        81.24327   0.3630819\n",
       "interest    1 0.01571661 72        81.22755   0.9002339"
      ]
     },
     "metadata": {},
     "output_type": "display_data"
    }
   ],
   "source": [
    "model <- glm(d1_1 ~ definition + need + purpose \n",
    "              + interest, data =survey, family = binomial)\n",
    "summary(model)\n",
    "\n",
    "\n",
    "anova(model, test=\"Chisq\")"
   ]
  },
  {
   "cell_type": "code",
   "execution_count": 25,
   "metadata": {},
   "outputs": [
    {
     "data": {
      "text/plain": [
       "\n",
       "Call:\n",
       "glm(formula = d1_2 ~ definition + need + purpose + interest, \n",
       "    family = binomial, data = survey)\n",
       "\n",
       "Deviance Residuals: \n",
       "    Min       1Q   Median       3Q      Max  \n",
       "-1.2971  -0.9779  -0.7568   1.1738   1.9033  \n",
       "\n",
       "Coefficients:\n",
       "                  Estimate Std. Error z value Pr(>|z|)  \n",
       "(Intercept)        2.45251    1.30662   1.877   0.0605 .\n",
       "definitionharmony -0.78748    0.64474  -1.221   0.2219  \n",
       "needharmony       -0.09247    0.56286  -0.164   0.8695  \n",
       "purposecosmetic   -0.58838    0.71208  -0.826   0.4086  \n",
       "purposeetc        -0.56018    0.55426  -1.011   0.3122  \n",
       "interest          -0.52903    0.29987  -1.764   0.0777 .\n",
       "---\n",
       "Signif. codes:  0 '***' 0.001 '**' 0.01 '*' 0.05 '.' 0.1 ' ' 1\n",
       "\n",
       "(Dispersion parameter for binomial family taken to be 1)\n",
       "\n",
       "    Null deviance: 103.939  on 77  degrees of freedom\n",
       "Residual deviance:  97.828  on 72  degrees of freedom\n",
       "AIC: 109.83\n",
       "\n",
       "Number of Fisher Scoring iterations: 4\n"
      ]
     },
     "metadata": {},
     "output_type": "display_data"
    },
    {
     "data": {
      "text/html": [
       "<table>\n",
       "<thead><tr><th></th><th scope=col>Df</th><th scope=col>Deviance</th><th scope=col>Resid. Df</th><th scope=col>Resid. Dev</th><th scope=col>Pr(&gt;Chi)</th></tr></thead>\n",
       "<tbody>\n",
       "\t<tr><th scope=row>NULL</th><td>NA        </td><td>        NA</td><td>77        </td><td>103.93944 </td><td>        NA</td></tr>\n",
       "\t<tr><th scope=row>definition</th><td> 1        </td><td>1.48799965</td><td>76        </td><td>102.45144 </td><td>0.22252708</td></tr>\n",
       "\t<tr><th scope=row>need</th><td> 1        </td><td>0.06787875</td><td>75        </td><td>102.38356 </td><td>0.79445074</td></tr>\n",
       "\t<tr><th scope=row>purpose</th><td> 2        </td><td>1.25879423</td><td>73        </td><td>101.12476 </td><td>0.53291299</td></tr>\n",
       "\t<tr><th scope=row>interest</th><td> 1        </td><td>3.29665319</td><td>72        </td><td> 97.82811 </td><td>0.06942119</td></tr>\n",
       "</tbody>\n",
       "</table>\n"
      ],
      "text/latex": [
       "\\begin{tabular}{r|lllll}\n",
       "  & Df & Deviance & Resid. Df & Resid. Dev & Pr(>Chi)\\\\\n",
       "\\hline\n",
       "\tNULL & NA         &         NA & 77         & 103.93944  &         NA\\\\\n",
       "\tdefinition &  1         & 1.48799965 & 76         & 102.45144  & 0.22252708\\\\\n",
       "\tneed &  1         & 0.06787875 & 75         & 102.38356  & 0.79445074\\\\\n",
       "\tpurpose &  2         & 1.25879423 & 73         & 101.12476  & 0.53291299\\\\\n",
       "\tinterest &  1         & 3.29665319 & 72         &  97.82811  & 0.06942119\\\\\n",
       "\\end{tabular}\n"
      ],
      "text/markdown": [
       "\n",
       "| <!--/--> | Df | Deviance | Resid. Df | Resid. Dev | Pr(>Chi) |\n",
       "|---|---|---|---|---|---|\n",
       "| NULL | NA         |         NA | 77         | 103.93944  |         NA |\n",
       "| definition |  1         | 1.48799965 | 76         | 102.45144  | 0.22252708 |\n",
       "| need |  1         | 0.06787875 | 75         | 102.38356  | 0.79445074 |\n",
       "| purpose |  2         | 1.25879423 | 73         | 101.12476  | 0.53291299 |\n",
       "| interest |  1         | 3.29665319 | 72         |  97.82811  | 0.06942119 |\n",
       "\n"
      ],
      "text/plain": [
       "           Df Deviance   Resid. Df Resid. Dev Pr(>Chi)  \n",
       "NULL       NA         NA 77        103.93944          NA\n",
       "definition  1 1.48799965 76        102.45144  0.22252708\n",
       "need        1 0.06787875 75        102.38356  0.79445074\n",
       "purpose     2 1.25879423 73        101.12476  0.53291299\n",
       "interest    1 3.29665319 72         97.82811  0.06942119"
      ]
     },
     "metadata": {},
     "output_type": "display_data"
    }
   ],
   "source": [
    "model <- glm(d1_2 ~ definition + need + purpose \n",
    "              + interest, data =survey, family = binomial)\n",
    "summary(model)\n",
    "\n",
    "\n",
    "anova(model, test=\"Chisq\")"
   ]
  },
  {
   "cell_type": "code",
   "execution_count": 26,
   "metadata": {},
   "outputs": [
    {
     "data": {
      "text/plain": [
       "\n",
       "Call:\n",
       "glm(formula = d1_3 ~ definition + need + purpose + interest, \n",
       "    family = binomial, data = survey)\n",
       "\n",
       "Deviance Residuals: \n",
       "    Min       1Q   Median       3Q      Max  \n",
       "-0.9246  -0.6808  -0.3361  -0.2311   2.3787  \n",
       "\n",
       "Coefficients:\n",
       "                  Estimate Std. Error z value Pr(>|z|)  \n",
       "(Intercept)       -5.25056    2.25329  -2.330   0.0198 *\n",
       "definitionharmony  0.24436    1.24050   0.197   0.8438  \n",
       "needharmony        2.04559    1.18621   1.724   0.0846 .\n",
       "purposecosmetic    1.86152    1.25197   1.487   0.1370  \n",
       "purposeetc         1.42842    1.13302   1.261   0.2074  \n",
       "interest           0.09411    0.41952   0.224   0.8225  \n",
       "---\n",
       "Signif. codes:  0 '***' 0.001 '**' 0.01 '*' 0.05 '.' 0.1 ' ' 1\n",
       "\n",
       "(Dispersion parameter for binomial family taken to be 1)\n",
       "\n",
       "    Null deviance: 59.742  on 77  degrees of freedom\n",
       "Residual deviance: 51.199  on 72  degrees of freedom\n",
       "AIC: 63.199\n",
       "\n",
       "Number of Fisher Scoring iterations: 6\n"
      ]
     },
     "metadata": {},
     "output_type": "display_data"
    },
    {
     "data": {
      "text/html": [
       "<table>\n",
       "<thead><tr><th></th><th scope=col>Df</th><th scope=col>Deviance</th><th scope=col>Resid. Df</th><th scope=col>Resid. Dev</th><th scope=col>Pr(&gt;Chi)</th></tr></thead>\n",
       "<tbody>\n",
       "\t<tr><th scope=row>NULL</th><td>NA        </td><td>        NA</td><td>77        </td><td>59.74183  </td><td>        NA</td></tr>\n",
       "\t<tr><th scope=row>definition</th><td> 1        </td><td>1.73825985</td><td>76        </td><td>58.00357  </td><td>0.18735947</td></tr>\n",
       "\t<tr><th scope=row>need</th><td> 1        </td><td>3.72899470</td><td>75        </td><td>54.27457  </td><td>0.05347557</td></tr>\n",
       "\t<tr><th scope=row>purpose</th><td> 2        </td><td>3.02523167</td><td>73        </td><td>51.24934  </td><td>0.22033287</td></tr>\n",
       "\t<tr><th scope=row>interest</th><td> 1        </td><td>0.05068516</td><td>72        </td><td>51.19866  </td><td>0.82187531</td></tr>\n",
       "</tbody>\n",
       "</table>\n"
      ],
      "text/latex": [
       "\\begin{tabular}{r|lllll}\n",
       "  & Df & Deviance & Resid. Df & Resid. Dev & Pr(>Chi)\\\\\n",
       "\\hline\n",
       "\tNULL & NA         &         NA & 77         & 59.74183   &         NA\\\\\n",
       "\tdefinition &  1         & 1.73825985 & 76         & 58.00357   & 0.18735947\\\\\n",
       "\tneed &  1         & 3.72899470 & 75         & 54.27457   & 0.05347557\\\\\n",
       "\tpurpose &  2         & 3.02523167 & 73         & 51.24934   & 0.22033287\\\\\n",
       "\tinterest &  1         & 0.05068516 & 72         & 51.19866   & 0.82187531\\\\\n",
       "\\end{tabular}\n"
      ],
      "text/markdown": [
       "\n",
       "| <!--/--> | Df | Deviance | Resid. Df | Resid. Dev | Pr(>Chi) |\n",
       "|---|---|---|---|---|---|\n",
       "| NULL | NA         |         NA | 77         | 59.74183   |         NA |\n",
       "| definition |  1         | 1.73825985 | 76         | 58.00357   | 0.18735947 |\n",
       "| need |  1         | 3.72899470 | 75         | 54.27457   | 0.05347557 |\n",
       "| purpose |  2         | 3.02523167 | 73         | 51.24934   | 0.22033287 |\n",
       "| interest |  1         | 0.05068516 | 72         | 51.19866   | 0.82187531 |\n",
       "\n"
      ],
      "text/plain": [
       "           Df Deviance   Resid. Df Resid. Dev Pr(>Chi)  \n",
       "NULL       NA         NA 77        59.74183           NA\n",
       "definition  1 1.73825985 76        58.00357   0.18735947\n",
       "need        1 3.72899470 75        54.27457   0.05347557\n",
       "purpose     2 3.02523167 73        51.24934   0.22033287\n",
       "interest    1 0.05068516 72        51.19866   0.82187531"
      ]
     },
     "metadata": {},
     "output_type": "display_data"
    }
   ],
   "source": [
    "model <- glm(d1_3 ~ definition + need + purpose \n",
    "              + interest, data =survey, family = binomial)\n",
    "summary(model)\n",
    "\n",
    "\n",
    "anova(model, test=\"Chisq\")"
   ]
  },
  {
   "cell_type": "code",
   "execution_count": 27,
   "metadata": {},
   "outputs": [
    {
     "data": {
      "text/plain": [
       "\n",
       "Call:\n",
       "glm(formula = d1_5 ~ definition + need + purpose + interest, \n",
       "    family = binomial, data = survey)\n",
       "\n",
       "Deviance Residuals: \n",
       "     Min        1Q    Median        3Q       Max  \n",
       "-0.86685  -0.57040  -0.46339  -0.00015   2.30210  \n",
       "\n",
       "Coefficients:\n",
       "                    Estimate Std. Error z value Pr(>|z|)  \n",
       "(Intercept)         -3.75665    1.95815  -1.918   0.0551 .\n",
       "definitionharmony    0.52568    1.02137   0.515   0.6068  \n",
       "needharmony          0.07495    0.89956   0.083   0.9336  \n",
       "purposecosmetic    -17.09697 1613.20959  -0.011   0.9915  \n",
       "purposeetc          -0.36887    0.74170  -0.497   0.6190  \n",
       "interest             0.47417    0.43174   1.098   0.2721  \n",
       "---\n",
       "Signif. codes:  0 '***' 0.001 '**' 0.01 '*' 0.05 '.' 0.1 ' ' 1\n",
       "\n",
       "(Dispersion parameter for binomial family taken to be 1)\n",
       "\n",
       "    Null deviance: 55.790  on 77  degrees of freedom\n",
       "Residual deviance: 49.625  on 72  degrees of freedom\n",
       "AIC: 61.625\n",
       "\n",
       "Number of Fisher Scoring iterations: 17\n"
      ]
     },
     "metadata": {},
     "output_type": "display_data"
    },
    {
     "data": {
      "text/html": [
       "<table>\n",
       "<thead><tr><th></th><th scope=col>Df</th><th scope=col>Deviance</th><th scope=col>Resid. Df</th><th scope=col>Resid. Dev</th><th scope=col>Pr(&gt;Chi)</th></tr></thead>\n",
       "<tbody>\n",
       "\t<tr><th scope=row>NULL</th><td>NA        </td><td>       NA </td><td>77        </td><td>55.78984  </td><td>        NA</td></tr>\n",
       "\t<tr><th scope=row>definition</th><td> 1        </td><td>0.0640854 </td><td>76        </td><td>55.72575  </td><td>0.80015157</td></tr>\n",
       "\t<tr><th scope=row>need</th><td> 1        </td><td>0.1903798 </td><td>75        </td><td>55.53537  </td><td>0.66260071</td></tr>\n",
       "\t<tr><th scope=row>purpose</th><td> 2        </td><td>4.6510864 </td><td>73        </td><td>50.88429  </td><td>0.09773034</td></tr>\n",
       "\t<tr><th scope=row>interest</th><td> 1        </td><td>1.2591211 </td><td>72        </td><td>49.62516  </td><td>0.26181752</td></tr>\n",
       "</tbody>\n",
       "</table>\n"
      ],
      "text/latex": [
       "\\begin{tabular}{r|lllll}\n",
       "  & Df & Deviance & Resid. Df & Resid. Dev & Pr(>Chi)\\\\\n",
       "\\hline\n",
       "\tNULL & NA         &        NA  & 77         & 55.78984   &         NA\\\\\n",
       "\tdefinition &  1         & 0.0640854  & 76         & 55.72575   & 0.80015157\\\\\n",
       "\tneed &  1         & 0.1903798  & 75         & 55.53537   & 0.66260071\\\\\n",
       "\tpurpose &  2         & 4.6510864  & 73         & 50.88429   & 0.09773034\\\\\n",
       "\tinterest &  1         & 1.2591211  & 72         & 49.62516   & 0.26181752\\\\\n",
       "\\end{tabular}\n"
      ],
      "text/markdown": [
       "\n",
       "| <!--/--> | Df | Deviance | Resid. Df | Resid. Dev | Pr(>Chi) |\n",
       "|---|---|---|---|---|---|\n",
       "| NULL | NA         |        NA  | 77         | 55.78984   |         NA |\n",
       "| definition |  1         | 0.0640854  | 76         | 55.72575   | 0.80015157 |\n",
       "| need |  1         | 0.1903798  | 75         | 55.53537   | 0.66260071 |\n",
       "| purpose |  2         | 4.6510864  | 73         | 50.88429   | 0.09773034 |\n",
       "| interest |  1         | 1.2591211  | 72         | 49.62516   | 0.26181752 |\n",
       "\n"
      ],
      "text/plain": [
       "           Df Deviance  Resid. Df Resid. Dev Pr(>Chi)  \n",
       "NULL       NA        NA 77        55.78984           NA\n",
       "definition  1 0.0640854 76        55.72575   0.80015157\n",
       "need        1 0.1903798 75        55.53537   0.66260071\n",
       "purpose     2 4.6510864 73        50.88429   0.09773034\n",
       "interest    1 1.2591211 72        49.62516   0.26181752"
      ]
     },
     "metadata": {},
     "output_type": "display_data"
    }
   ],
   "source": [
    "model <- glm(d1_5 ~ definition + need + purpose \n",
    "              + interest, data =survey, family = binomial)\n",
    "summary(model)\n",
    "\n",
    "\n",
    "anova(model, test=\"Chisq\")"
   ]
  },
  {
   "cell_type": "code",
   "execution_count": 28,
   "metadata": {},
   "outputs": [
    {
     "data": {
      "text/plain": [
       "\n",
       "Call:\n",
       "glm(formula = d2_1 ~ definition + need + purpose + interest, \n",
       "    family = binomial, data = survey)\n",
       "\n",
       "Deviance Residuals: \n",
       "    Min       1Q   Median       3Q      Max  \n",
       "-1.1322  -1.0285  -0.9425   1.3137   1.5392  \n",
       "\n",
       "Coefficients:\n",
       "                  Estimate Std. Error z value Pr(>|z|)\n",
       "(Intercept)       -0.14366    1.21544  -0.118    0.906\n",
       "definitionharmony -0.05910    0.62978  -0.094    0.925\n",
       "needharmony       -0.02165    0.54664  -0.040    0.968\n",
       "purposecosmetic    0.39328    0.68134   0.577    0.564\n",
       "purposeetc         0.26409    0.54711   0.483    0.629\n",
       "interest          -0.11900    0.27907  -0.426    0.670\n",
       "\n",
       "(Dispersion parameter for binomial family taken to be 1)\n",
       "\n",
       "    Null deviance: 104.83  on 77  degrees of freedom\n",
       "Residual deviance: 104.26  on 72  degrees of freedom\n",
       "AIC: 116.26\n",
       "\n",
       "Number of Fisher Scoring iterations: 4\n"
      ]
     },
     "metadata": {},
     "output_type": "display_data"
    },
    {
     "data": {
      "text/html": [
       "<table>\n",
       "<thead><tr><th></th><th scope=col>Df</th><th scope=col>Deviance</th><th scope=col>Resid. Df</th><th scope=col>Resid. Dev</th><th scope=col>Pr(&gt;Chi)</th></tr></thead>\n",
       "<tbody>\n",
       "\t<tr><th scope=row>NULL</th><td>NA         </td><td>         NA</td><td>77         </td><td>104.8255   </td><td>       NA  </td></tr>\n",
       "\t<tr><th scope=row>definition</th><td> 1         </td><td>0.000738058</td><td>76         </td><td>104.8248   </td><td>0.9783264  </td></tr>\n",
       "\t<tr><th scope=row>need</th><td> 1         </td><td>0.018371705</td><td>75         </td><td>104.8064   </td><td>0.8921832  </td></tr>\n",
       "\t<tr><th scope=row>purpose</th><td> 2         </td><td>0.364545524</td><td>73         </td><td>104.4418   </td><td>0.8333740  </td></tr>\n",
       "\t<tr><th scope=row>interest</th><td> 1         </td><td>0.182463918</td><td>72         </td><td>104.2594   </td><td>0.6692643  </td></tr>\n",
       "</tbody>\n",
       "</table>\n"
      ],
      "text/latex": [
       "\\begin{tabular}{r|lllll}\n",
       "  & Df & Deviance & Resid. Df & Resid. Dev & Pr(>Chi)\\\\\n",
       "\\hline\n",
       "\tNULL & NA          &          NA & 77          & 104.8255    &        NA  \\\\\n",
       "\tdefinition &  1          & 0.000738058 & 76          & 104.8248    & 0.9783264  \\\\\n",
       "\tneed &  1          & 0.018371705 & 75          & 104.8064    & 0.8921832  \\\\\n",
       "\tpurpose &  2          & 0.364545524 & 73          & 104.4418    & 0.8333740  \\\\\n",
       "\tinterest &  1          & 0.182463918 & 72          & 104.2594    & 0.6692643  \\\\\n",
       "\\end{tabular}\n"
      ],
      "text/markdown": [
       "\n",
       "| <!--/--> | Df | Deviance | Resid. Df | Resid. Dev | Pr(>Chi) |\n",
       "|---|---|---|---|---|---|\n",
       "| NULL | NA          |          NA | 77          | 104.8255    |        NA   |\n",
       "| definition |  1          | 0.000738058 | 76          | 104.8248    | 0.9783264   |\n",
       "| need |  1          | 0.018371705 | 75          | 104.8064    | 0.8921832   |\n",
       "| purpose |  2          | 0.364545524 | 73          | 104.4418    | 0.8333740   |\n",
       "| interest |  1          | 0.182463918 | 72          | 104.2594    | 0.6692643   |\n",
       "\n"
      ],
      "text/plain": [
       "           Df Deviance    Resid. Df Resid. Dev Pr(>Chi) \n",
       "NULL       NA          NA 77        104.8255          NA\n",
       "definition  1 0.000738058 76        104.8248   0.9783264\n",
       "need        1 0.018371705 75        104.8064   0.8921832\n",
       "purpose     2 0.364545524 73        104.4418   0.8333740\n",
       "interest    1 0.182463918 72        104.2594   0.6692643"
      ]
     },
     "metadata": {},
     "output_type": "display_data"
    }
   ],
   "source": [
    "model <- glm(d2_1 ~ definition + need + purpose \n",
    "              + interest, data =survey, family = binomial)\n",
    "summary(model)\n",
    "\n",
    "\n",
    "anova(model, test=\"Chisq\")"
   ]
  },
  {
   "cell_type": "code",
   "execution_count": 29,
   "metadata": {},
   "outputs": [
    {
     "data": {
      "text/plain": [
       "\n",
       "Call:\n",
       "glm(formula = d2_2 ~ definition + need + purpose + interest, \n",
       "    family = binomial, data = survey)\n",
       "\n",
       "Deviance Residuals: \n",
       "    Min       1Q   Median       3Q      Max  \n",
       "-1.4414  -0.6932  -0.4285  -0.2364   2.4261  \n",
       "\n",
       "Coefficients:\n",
       "                  Estimate Std. Error z value Pr(>|z|)\n",
       "(Intercept)         2.2427     1.6107   1.392    0.164\n",
       "definitionharmony  -1.0503     0.7799  -1.347    0.178\n",
       "needharmony        -0.6748     0.7292  -0.925    0.355\n",
       "purposecosmetic    -1.8938     1.1740  -1.613    0.107\n",
       "purposeetc         -0.8554     0.6626  -1.291    0.197\n",
       "interest           -0.5469     0.3792  -1.442    0.149\n",
       "\n",
       "(Dispersion parameter for binomial family taken to be 1)\n",
       "\n",
       "    Null deviance: 76.370  on 77  degrees of freedom\n",
       "Residual deviance: 65.774  on 72  degrees of freedom\n",
       "AIC: 77.774\n",
       "\n",
       "Number of Fisher Scoring iterations: 5\n"
      ]
     },
     "metadata": {},
     "output_type": "display_data"
    },
    {
     "data": {
      "text/html": [
       "<table>\n",
       "<thead><tr><th></th><th scope=col>Df</th><th scope=col>Deviance</th><th scope=col>Resid. Df</th><th scope=col>Resid. Dev</th><th scope=col>Pr(&gt;Chi)</th></tr></thead>\n",
       "<tbody>\n",
       "\t<tr><th scope=row>NULL</th><td>NA        </td><td>       NA </td><td>77        </td><td>76.37010  </td><td>        NA</td></tr>\n",
       "\t<tr><th scope=row>definition</th><td> 1        </td><td>3.9342058 </td><td>76        </td><td>72.43589  </td><td>0.04731348</td></tr>\n",
       "\t<tr><th scope=row>need</th><td> 1        </td><td>0.6615167 </td><td>75        </td><td>71.77437  </td><td>0.41602501</td></tr>\n",
       "\t<tr><th scope=row>purpose</th><td> 2        </td><td>3.8304145 </td><td>73        </td><td>67.94396  </td><td>0.14731130</td></tr>\n",
       "\t<tr><th scope=row>interest</th><td> 1        </td><td>2.1699688 </td><td>72        </td><td>65.77399  </td><td>0.14072909</td></tr>\n",
       "</tbody>\n",
       "</table>\n"
      ],
      "text/latex": [
       "\\begin{tabular}{r|lllll}\n",
       "  & Df & Deviance & Resid. Df & Resid. Dev & Pr(>Chi)\\\\\n",
       "\\hline\n",
       "\tNULL & NA         &        NA  & 77         & 76.37010   &         NA\\\\\n",
       "\tdefinition &  1         & 3.9342058  & 76         & 72.43589   & 0.04731348\\\\\n",
       "\tneed &  1         & 0.6615167  & 75         & 71.77437   & 0.41602501\\\\\n",
       "\tpurpose &  2         & 3.8304145  & 73         & 67.94396   & 0.14731130\\\\\n",
       "\tinterest &  1         & 2.1699688  & 72         & 65.77399   & 0.14072909\\\\\n",
       "\\end{tabular}\n"
      ],
      "text/markdown": [
       "\n",
       "| <!--/--> | Df | Deviance | Resid. Df | Resid. Dev | Pr(>Chi) |\n",
       "|---|---|---|---|---|---|\n",
       "| NULL | NA         |        NA  | 77         | 76.37010   |         NA |\n",
       "| definition |  1         | 3.9342058  | 76         | 72.43589   | 0.04731348 |\n",
       "| need |  1         | 0.6615167  | 75         | 71.77437   | 0.41602501 |\n",
       "| purpose |  2         | 3.8304145  | 73         | 67.94396   | 0.14731130 |\n",
       "| interest |  1         | 2.1699688  | 72         | 65.77399   | 0.14072909 |\n",
       "\n"
      ],
      "text/plain": [
       "           Df Deviance  Resid. Df Resid. Dev Pr(>Chi)  \n",
       "NULL       NA        NA 77        76.37010           NA\n",
       "definition  1 3.9342058 76        72.43589   0.04731348\n",
       "need        1 0.6615167 75        71.77437   0.41602501\n",
       "purpose     2 3.8304145 73        67.94396   0.14731130\n",
       "interest    1 2.1699688 72        65.77399   0.14072909"
      ]
     },
     "metadata": {},
     "output_type": "display_data"
    }
   ],
   "source": [
    "model <- glm(d2_2 ~ definition + need + purpose \n",
    "              + interest, data =survey, family = binomial)\n",
    "summary(model)\n",
    "\n",
    "\n",
    "anova(model, test=\"Chisq\")"
   ]
  },
  {
   "cell_type": "code",
   "execution_count": 30,
   "metadata": {},
   "outputs": [
    {
     "data": {
      "text/plain": [
       "\n",
       "Call:\n",
       "glm(formula = d2_3 ~ definition + need + purpose + interest, \n",
       "    family = binomial, data = survey)\n",
       "\n",
       "Deviance Residuals: \n",
       "    Min       1Q   Median       3Q      Max  \n",
       "-1.1041  -0.5133  -0.2659  -0.0001   2.3350  \n",
       "\n",
       "Coefficients:\n",
       "                    Estimate Std. Error z value Pr(>|z|)   \n",
       "(Intercept)         -6.43374    2.38834  -2.694  0.00706 **\n",
       "definitionharmony   -0.03633    1.22485  -0.030  0.97634   \n",
       "needharmony          1.15974    1.20418   0.963  0.33550   \n",
       "purposecosmetic    -16.36667 2568.88631  -0.006  0.99492   \n",
       "purposeetc           1.82595    1.12497   1.623  0.10457   \n",
       "interest             0.66189    0.45908   1.442  0.14937   \n",
       "---\n",
       "Signif. codes:  0 '***' 0.001 '**' 0.01 '*' 0.05 '.' 0.1 ' ' 1\n",
       "\n",
       "(Dispersion parameter for binomial family taken to be 1)\n",
       "\n",
       "    Null deviance: 55.790  on 77  degrees of freedom\n",
       "Residual deviance: 44.062  on 72  degrees of freedom\n",
       "AIC: 56.062\n",
       "\n",
       "Number of Fisher Scoring iterations: 18\n"
      ]
     },
     "metadata": {},
     "output_type": "display_data"
    },
    {
     "data": {
      "text/html": [
       "<table>\n",
       "<thead><tr><th></th><th scope=col>Df</th><th scope=col>Deviance</th><th scope=col>Resid. Df</th><th scope=col>Resid. Dev</th><th scope=col>Pr(&gt;Chi)</th></tr></thead>\n",
       "<tbody>\n",
       "\t<tr><th scope=row>NULL</th><td>NA        </td><td>       NA </td><td>77        </td><td>55.78984  </td><td>        NA</td></tr>\n",
       "\t<tr><th scope=row>definition</th><td> 1        </td><td>0.0640854 </td><td>76        </td><td>55.72575  </td><td>0.80015157</td></tr>\n",
       "\t<tr><th scope=row>need</th><td> 1        </td><td>1.6859050 </td><td>75        </td><td>54.03985  </td><td>0.19414166</td></tr>\n",
       "\t<tr><th scope=row>purpose</th><td> 2        </td><td>7.6321484 </td><td>73        </td><td>46.40770  </td><td>0.02201405</td></tr>\n",
       "\t<tr><th scope=row>interest</th><td> 1        </td><td>2.3459666 </td><td>72        </td><td>44.06173  </td><td>0.12560763</td></tr>\n",
       "</tbody>\n",
       "</table>\n"
      ],
      "text/latex": [
       "\\begin{tabular}{r|lllll}\n",
       "  & Df & Deviance & Resid. Df & Resid. Dev & Pr(>Chi)\\\\\n",
       "\\hline\n",
       "\tNULL & NA         &        NA  & 77         & 55.78984   &         NA\\\\\n",
       "\tdefinition &  1         & 0.0640854  & 76         & 55.72575   & 0.80015157\\\\\n",
       "\tneed &  1         & 1.6859050  & 75         & 54.03985   & 0.19414166\\\\\n",
       "\tpurpose &  2         & 7.6321484  & 73         & 46.40770   & 0.02201405\\\\\n",
       "\tinterest &  1         & 2.3459666  & 72         & 44.06173   & 0.12560763\\\\\n",
       "\\end{tabular}\n"
      ],
      "text/markdown": [
       "\n",
       "| <!--/--> | Df | Deviance | Resid. Df | Resid. Dev | Pr(>Chi) |\n",
       "|---|---|---|---|---|---|\n",
       "| NULL | NA         |        NA  | 77         | 55.78984   |         NA |\n",
       "| definition |  1         | 0.0640854  | 76         | 55.72575   | 0.80015157 |\n",
       "| need |  1         | 1.6859050  | 75         | 54.03985   | 0.19414166 |\n",
       "| purpose |  2         | 7.6321484  | 73         | 46.40770   | 0.02201405 |\n",
       "| interest |  1         | 2.3459666  | 72         | 44.06173   | 0.12560763 |\n",
       "\n"
      ],
      "text/plain": [
       "           Df Deviance  Resid. Df Resid. Dev Pr(>Chi)  \n",
       "NULL       NA        NA 77        55.78984           NA\n",
       "definition  1 0.0640854 76        55.72575   0.80015157\n",
       "need        1 1.6859050 75        54.03985   0.19414166\n",
       "purpose     2 7.6321484 73        46.40770   0.02201405\n",
       "interest    1 2.3459666 72        44.06173   0.12560763"
      ]
     },
     "metadata": {},
     "output_type": "display_data"
    }
   ],
   "source": [
    "model <- glm(d2_3 ~ definition + need + purpose \n",
    "              + interest, data =survey, family = binomial)\n",
    "summary(model)\n",
    "\n",
    "\n",
    "anova(model, test=\"Chisq\")"
   ]
  },
  {
   "cell_type": "code",
   "execution_count": 31,
   "metadata": {},
   "outputs": [
    {
     "data": {
      "text/plain": [
       "\n",
       "Call:\n",
       "glm(formula = d2_4 ~ definition + need + purpose + interest, \n",
       "    family = binomial, data = survey)\n",
       "\n",
       "Deviance Residuals: \n",
       "    Min       1Q   Median       3Q      Max  \n",
       "-1.1118  -0.6409  -0.5284  -0.4132   2.1356  \n",
       "\n",
       "Coefficients:\n",
       "                  Estimate Std. Error z value Pr(>|z|)  \n",
       "(Intercept)        -3.0730     1.7044  -1.803   0.0714 .\n",
       "definitionharmony   0.8881     0.8940   0.993   0.3205  \n",
       "needharmony        -0.1229     0.6682  -0.184   0.8541  \n",
       "purposecosmetic     0.9237     0.7739   1.194   0.2326  \n",
       "purposeetc         -0.3273     0.7379  -0.443   0.6574  \n",
       "interest            0.2456     0.3798   0.647   0.5179  \n",
       "---\n",
       "Signif. codes:  0 '***' 0.001 '**' 0.01 '*' 0.05 '.' 0.1 ' ' 1\n",
       "\n",
       "(Dispersion parameter for binomial family taken to be 1)\n",
       "\n",
       "    Null deviance: 76.370  on 77  degrees of freedom\n",
       "Residual deviance: 70.888  on 72  degrees of freedom\n",
       "AIC: 82.888\n",
       "\n",
       "Number of Fisher Scoring iterations: 4\n"
      ]
     },
     "metadata": {},
     "output_type": "display_data"
    },
    {
     "data": {
      "text/html": [
       "<table>\n",
       "<thead><tr><th></th><th scope=col>Df</th><th scope=col>Deviance</th><th scope=col>Resid. Df</th><th scope=col>Resid. Dev</th><th scope=col>Pr(&gt;Chi)</th></tr></thead>\n",
       "<tbody>\n",
       "\t<tr><th scope=row>NULL</th><td>NA       </td><td>       NA</td><td>77       </td><td>76.37010 </td><td>       NA</td></tr>\n",
       "\t<tr><th scope=row>definition</th><td> 1       </td><td>1.6436946</td><td>76       </td><td>74.72640 </td><td>0.1998193</td></tr>\n",
       "\t<tr><th scope=row>need</th><td> 1       </td><td>0.2830037</td><td>75       </td><td>74.44340 </td><td>0.5947392</td></tr>\n",
       "\t<tr><th scope=row>purpose</th><td> 2       </td><td>3.1317677</td><td>73       </td><td>71.31163 </td><td>0.2089033</td></tr>\n",
       "\t<tr><th scope=row>interest</th><td> 1       </td><td>0.4239942</td><td>72       </td><td>70.88764 </td><td>0.5149507</td></tr>\n",
       "</tbody>\n",
       "</table>\n"
      ],
      "text/latex": [
       "\\begin{tabular}{r|lllll}\n",
       "  & Df & Deviance & Resid. Df & Resid. Dev & Pr(>Chi)\\\\\n",
       "\\hline\n",
       "\tNULL & NA        &        NA & 77        & 76.37010  &        NA\\\\\n",
       "\tdefinition &  1        & 1.6436946 & 76        & 74.72640  & 0.1998193\\\\\n",
       "\tneed &  1        & 0.2830037 & 75        & 74.44340  & 0.5947392\\\\\n",
       "\tpurpose &  2        & 3.1317677 & 73        & 71.31163  & 0.2089033\\\\\n",
       "\tinterest &  1        & 0.4239942 & 72        & 70.88764  & 0.5149507\\\\\n",
       "\\end{tabular}\n"
      ],
      "text/markdown": [
       "\n",
       "| <!--/--> | Df | Deviance | Resid. Df | Resid. Dev | Pr(>Chi) |\n",
       "|---|---|---|---|---|---|\n",
       "| NULL | NA        |        NA | 77        | 76.37010  |        NA |\n",
       "| definition |  1        | 1.6436946 | 76        | 74.72640  | 0.1998193 |\n",
       "| need |  1        | 0.2830037 | 75        | 74.44340  | 0.5947392 |\n",
       "| purpose |  2        | 3.1317677 | 73        | 71.31163  | 0.2089033 |\n",
       "| interest |  1        | 0.4239942 | 72        | 70.88764  | 0.5149507 |\n",
       "\n"
      ],
      "text/plain": [
       "           Df Deviance  Resid. Df Resid. Dev Pr(>Chi) \n",
       "NULL       NA        NA 77        76.37010          NA\n",
       "definition  1 1.6436946 76        74.72640   0.1998193\n",
       "need        1 0.2830037 75        74.44340   0.5947392\n",
       "purpose     2 3.1317677 73        71.31163   0.2089033\n",
       "interest    1 0.4239942 72        70.88764   0.5149507"
      ]
     },
     "metadata": {},
     "output_type": "display_data"
    }
   ],
   "source": [
    "model <- glm(d2_4 ~ definition + need + purpose \n",
    "              + interest, data =survey, family = binomial)\n",
    "summary(model)\n",
    "\n",
    "\n",
    "anova(model, test=\"Chisq\")"
   ]
  },
  {
   "cell_type": "code",
   "execution_count": 32,
   "metadata": {},
   "outputs": [
    {
     "data": {
      "text/plain": [
       "\n",
       "Call:\n",
       "glm(formula = d2_5 ~ definition + need + purpose + interest, \n",
       "    family = binomial, data = survey)\n",
       "\n",
       "Deviance Residuals: \n",
       "    Min       1Q   Median       3Q      Max  \n",
       "-0.6216  -0.4674  -0.4581  -0.3379   2.6258  \n",
       "\n",
       "Coefficients:\n",
       "                  Estimate Std. Error z value Pr(>|z|)\n",
       "(Intercept)       -2.86010    2.11830  -1.350    0.177\n",
       "definitionharmony  0.59244    1.20979   0.490    0.624\n",
       "needharmony        0.66351    0.93395   0.710    0.477\n",
       "purposecosmetic   -0.03389    1.00545  -0.034    0.973\n",
       "purposeetc        -0.60157    0.87178  -0.690    0.490\n",
       "interest           0.01162    0.46305   0.025    0.980\n",
       "\n",
       "(Dispersion parameter for binomial family taken to be 1)\n",
       "\n",
       "    Null deviance: 51.586  on 77  degrees of freedom\n",
       "Residual deviance: 49.668  on 72  degrees of freedom\n",
       "AIC: 61.668\n",
       "\n",
       "Number of Fisher Scoring iterations: 5\n"
      ]
     },
     "metadata": {},
     "output_type": "display_data"
    },
    {
     "data": {
      "text/html": [
       "<table>\n",
       "<thead><tr><th></th><th scope=col>Df</th><th scope=col>Deviance</th><th scope=col>Resid. Df</th><th scope=col>Resid. Dev</th><th scope=col>Pr(&gt;Chi)</th></tr></thead>\n",
       "<tbody>\n",
       "\t<tr><th scope=row>NULL</th><td>NA          </td><td>          NA</td><td>77          </td><td>51.58618    </td><td>       NA   </td></tr>\n",
       "\t<tr><th scope=row>definition</th><td> 1          </td><td>0.9231360772</td><td>76          </td><td>50.66304    </td><td>0.3366529   </td></tr>\n",
       "\t<tr><th scope=row>need</th><td> 1          </td><td>0.4071373149</td><td>75          </td><td>50.25591    </td><td>0.5234261   </td></tr>\n",
       "\t<tr><th scope=row>purpose</th><td> 2          </td><td>0.5871826981</td><td>73          </td><td>49.66872    </td><td>0.7455811   </td></tr>\n",
       "\t<tr><th scope=row>interest</th><td> 1          </td><td>0.0006298868</td><td>72          </td><td>49.66809    </td><td>0.9799772   </td></tr>\n",
       "</tbody>\n",
       "</table>\n"
      ],
      "text/latex": [
       "\\begin{tabular}{r|lllll}\n",
       "  & Df & Deviance & Resid. Df & Resid. Dev & Pr(>Chi)\\\\\n",
       "\\hline\n",
       "\tNULL & NA           &           NA & 77           & 51.58618     &        NA   \\\\\n",
       "\tdefinition &  1           & 0.9231360772 & 76           & 50.66304     & 0.3366529   \\\\\n",
       "\tneed &  1           & 0.4071373149 & 75           & 50.25591     & 0.5234261   \\\\\n",
       "\tpurpose &  2           & 0.5871826981 & 73           & 49.66872     & 0.7455811   \\\\\n",
       "\tinterest &  1           & 0.0006298868 & 72           & 49.66809     & 0.9799772   \\\\\n",
       "\\end{tabular}\n"
      ],
      "text/markdown": [
       "\n",
       "| <!--/--> | Df | Deviance | Resid. Df | Resid. Dev | Pr(>Chi) |\n",
       "|---|---|---|---|---|---|\n",
       "| NULL | NA           |           NA | 77           | 51.58618     |        NA    |\n",
       "| definition |  1           | 0.9231360772 | 76           | 50.66304     | 0.3366529    |\n",
       "| need |  1           | 0.4071373149 | 75           | 50.25591     | 0.5234261    |\n",
       "| purpose |  2           | 0.5871826981 | 73           | 49.66872     | 0.7455811    |\n",
       "| interest |  1           | 0.0006298868 | 72           | 49.66809     | 0.9799772    |\n",
       "\n"
      ],
      "text/plain": [
       "           Df Deviance     Resid. Df Resid. Dev Pr(>Chi) \n",
       "NULL       NA           NA 77        51.58618          NA\n",
       "definition  1 0.9231360772 76        50.66304   0.3366529\n",
       "need        1 0.4071373149 75        50.25591   0.5234261\n",
       "purpose     2 0.5871826981 73        49.66872   0.7455811\n",
       "interest    1 0.0006298868 72        49.66809   0.9799772"
      ]
     },
     "metadata": {},
     "output_type": "display_data"
    }
   ],
   "source": [
    "model <- glm(d2_5 ~ definition + need + purpose \n",
    "              + interest, data =survey, family = binomial)\n",
    "summary(model)\n",
    "\n",
    "\n",
    "anova(model, test=\"Chisq\")"
   ]
  },
  {
   "cell_type": "code",
   "execution_count": 33,
   "metadata": {},
   "outputs": [
    {
     "data": {
      "text/plain": [
       "\n",
       "Call:\n",
       "glm(formula = d3_1 ~ definition + need + purpose + interest, \n",
       "    family = binomial, data = survey)\n",
       "\n",
       "Deviance Residuals: \n",
       "    Min       1Q   Median       3Q      Max  \n",
       "-1.1378  -0.6485  -0.4896  -0.4063   2.0973  \n",
       "\n",
       "Coefficients:\n",
       "                  Estimate Std. Error z value Pr(>|z|)\n",
       "(Intercept)        -2.6066     1.6720  -1.559    0.119\n",
       "definitionharmony   0.0418     0.7623   0.055    0.956\n",
       "needharmony        -0.6084     0.6614  -0.920    0.358\n",
       "purposecosmetic     0.9877     0.7760   1.273    0.203\n",
       "purposeetc         -0.3917     0.7433  -0.527    0.598\n",
       "interest            0.3708     0.3927   0.944    0.345\n",
       "\n",
       "(Dispersion parameter for binomial family taken to be 1)\n",
       "\n",
       "    Null deviance: 76.37  on 77  degrees of freedom\n",
       "Residual deviance: 70.55  on 72  degrees of freedom\n",
       "AIC: 82.55\n",
       "\n",
       "Number of Fisher Scoring iterations: 4\n"
      ]
     },
     "metadata": {},
     "output_type": "display_data"
    },
    {
     "data": {
      "text/html": [
       "<table>\n",
       "<thead><tr><th></th><th scope=col>Df</th><th scope=col>Deviance</th><th scope=col>Resid. Df</th><th scope=col>Resid. Dev</th><th scope=col>Pr(&gt;Chi)</th></tr></thead>\n",
       "<tbody>\n",
       "\t<tr><th scope=row>NULL</th><td>NA       </td><td>       NA</td><td>77       </td><td>76.37010 </td><td>       NA</td></tr>\n",
       "\t<tr><th scope=row>definition</th><td> 1       </td><td>0.0101798</td><td>76       </td><td>76.35992 </td><td>0.9196338</td></tr>\n",
       "\t<tr><th scope=row>need</th><td> 1       </td><td>1.3269583</td><td>75       </td><td>75.03296 </td><td>0.2493471</td></tr>\n",
       "\t<tr><th scope=row>purpose</th><td> 2       </td><td>3.5680857</td><td>73       </td><td>71.46487 </td><td>0.1679577</td></tr>\n",
       "\t<tr><th scope=row>interest</th><td> 1       </td><td>0.9148431</td><td>72       </td><td>70.55003 </td><td>0.3388327</td></tr>\n",
       "</tbody>\n",
       "</table>\n"
      ],
      "text/latex": [
       "\\begin{tabular}{r|lllll}\n",
       "  & Df & Deviance & Resid. Df & Resid. Dev & Pr(>Chi)\\\\\n",
       "\\hline\n",
       "\tNULL & NA        &        NA & 77        & 76.37010  &        NA\\\\\n",
       "\tdefinition &  1        & 0.0101798 & 76        & 76.35992  & 0.9196338\\\\\n",
       "\tneed &  1        & 1.3269583 & 75        & 75.03296  & 0.2493471\\\\\n",
       "\tpurpose &  2        & 3.5680857 & 73        & 71.46487  & 0.1679577\\\\\n",
       "\tinterest &  1        & 0.9148431 & 72        & 70.55003  & 0.3388327\\\\\n",
       "\\end{tabular}\n"
      ],
      "text/markdown": [
       "\n",
       "| <!--/--> | Df | Deviance | Resid. Df | Resid. Dev | Pr(>Chi) |\n",
       "|---|---|---|---|---|---|\n",
       "| NULL | NA        |        NA | 77        | 76.37010  |        NA |\n",
       "| definition |  1        | 0.0101798 | 76        | 76.35992  | 0.9196338 |\n",
       "| need |  1        | 1.3269583 | 75        | 75.03296  | 0.2493471 |\n",
       "| purpose |  2        | 3.5680857 | 73        | 71.46487  | 0.1679577 |\n",
       "| interest |  1        | 0.9148431 | 72        | 70.55003  | 0.3388327 |\n",
       "\n"
      ],
      "text/plain": [
       "           Df Deviance  Resid. Df Resid. Dev Pr(>Chi) \n",
       "NULL       NA        NA 77        76.37010          NA\n",
       "definition  1 0.0101798 76        76.35992   0.9196338\n",
       "need        1 1.3269583 75        75.03296   0.2493471\n",
       "purpose     2 3.5680857 73        71.46487   0.1679577\n",
       "interest    1 0.9148431 72        70.55003   0.3388327"
      ]
     },
     "metadata": {},
     "output_type": "display_data"
    }
   ],
   "source": [
    "model <- glm(d3_1 ~ definition + need + purpose \n",
    "              + interest, data =survey, family = binomial)\n",
    "summary(model)\n",
    "\n",
    "\n",
    "anova(model, test=\"Chisq\")"
   ]
  },
  {
   "cell_type": "code",
   "execution_count": 34,
   "metadata": {},
   "outputs": [
    {
     "data": {
      "text/plain": [
       "\n",
       "Call:\n",
       "glm(formula = d3_2 ~ definition + need + purpose + interest, \n",
       "    family = binomial, data = survey)\n",
       "\n",
       "Deviance Residuals: \n",
       "    Min       1Q   Median       3Q      Max  \n",
       "-1.0346  -0.7115  -0.6057  -0.2767   2.2074  \n",
       "\n",
       "Coefficients:\n",
       "                  Estimate Std. Error z value Pr(>|z|)\n",
       "(Intercept)       -1.26641    1.51998  -0.833    0.405\n",
       "definitionharmony -0.89896    0.83224  -1.080    0.280\n",
       "needharmony        0.69879    0.80003   0.873    0.382\n",
       "purposecosmetic   -0.98758    1.18663  -0.832    0.405\n",
       "purposeetc         0.34308    0.67673   0.507    0.612\n",
       "interest          -0.03027    0.34662  -0.087    0.930\n",
       "\n",
       "(Dispersion parameter for binomial family taken to be 1)\n",
       "\n",
       "    Null deviance: 73.416  on 77  degrees of freedom\n",
       "Residual deviance: 69.573  on 72  degrees of freedom\n",
       "AIC: 81.573\n",
       "\n",
       "Number of Fisher Scoring iterations: 5\n"
      ]
     },
     "metadata": {},
     "output_type": "display_data"
    },
    {
     "data": {
      "text/html": [
       "<table>\n",
       "<thead><tr><th></th><th scope=col>Df</th><th scope=col>Deviance</th><th scope=col>Resid. Df</th><th scope=col>Resid. Dev</th><th scope=col>Pr(&gt;Chi)</th></tr></thead>\n",
       "<tbody>\n",
       "\t<tr><th scope=row>NULL</th><td>NA         </td><td>         NA</td><td>77         </td><td>73.41594   </td><td>       NA  </td></tr>\n",
       "\t<tr><th scope=row>definition</th><td> 1         </td><td>0.859573663</td><td>76         </td><td>72.55636   </td><td>0.3538580  </td></tr>\n",
       "\t<tr><th scope=row>need</th><td> 1         </td><td>1.082769784</td><td>75         </td><td>71.47359   </td><td>0.2980788  </td></tr>\n",
       "\t<tr><th scope=row>purpose</th><td> 2         </td><td>1.893173472</td><td>73         </td><td>69.58042   </td><td>0.3880633  </td></tr>\n",
       "\t<tr><th scope=row>interest</th><td> 1         </td><td>0.007619463</td><td>72         </td><td>69.57280   </td><td>0.9304414  </td></tr>\n",
       "</tbody>\n",
       "</table>\n"
      ],
      "text/latex": [
       "\\begin{tabular}{r|lllll}\n",
       "  & Df & Deviance & Resid. Df & Resid. Dev & Pr(>Chi)\\\\\n",
       "\\hline\n",
       "\tNULL & NA          &          NA & 77          & 73.41594    &        NA  \\\\\n",
       "\tdefinition &  1          & 0.859573663 & 76          & 72.55636    & 0.3538580  \\\\\n",
       "\tneed &  1          & 1.082769784 & 75          & 71.47359    & 0.2980788  \\\\\n",
       "\tpurpose &  2          & 1.893173472 & 73          & 69.58042    & 0.3880633  \\\\\n",
       "\tinterest &  1          & 0.007619463 & 72          & 69.57280    & 0.9304414  \\\\\n",
       "\\end{tabular}\n"
      ],
      "text/markdown": [
       "\n",
       "| <!--/--> | Df | Deviance | Resid. Df | Resid. Dev | Pr(>Chi) |\n",
       "|---|---|---|---|---|---|\n",
       "| NULL | NA          |          NA | 77          | 73.41594    |        NA   |\n",
       "| definition |  1          | 0.859573663 | 76          | 72.55636    | 0.3538580   |\n",
       "| need |  1          | 1.082769784 | 75          | 71.47359    | 0.2980788   |\n",
       "| purpose |  2          | 1.893173472 | 73          | 69.58042    | 0.3880633   |\n",
       "| interest |  1          | 0.007619463 | 72          | 69.57280    | 0.9304414   |\n",
       "\n"
      ],
      "text/plain": [
       "           Df Deviance    Resid. Df Resid. Dev Pr(>Chi) \n",
       "NULL       NA          NA 77        73.41594          NA\n",
       "definition  1 0.859573663 76        72.55636   0.3538580\n",
       "need        1 1.082769784 75        71.47359   0.2980788\n",
       "purpose     2 1.893173472 73        69.58042   0.3880633\n",
       "interest    1 0.007619463 72        69.57280   0.9304414"
      ]
     },
     "metadata": {},
     "output_type": "display_data"
    }
   ],
   "source": [
    "model <- glm(d3_2 ~ definition + need + purpose \n",
    "              + interest, data =survey, family = binomial)\n",
    "summary(model)\n",
    "\n",
    "\n",
    "anova(model, test=\"Chisq\")"
   ]
  },
  {
   "cell_type": "code",
   "execution_count": 35,
   "metadata": {},
   "outputs": [
    {
     "data": {
      "text/plain": [
       "\n",
       "Call:\n",
       "glm(formula = d3_3 ~ definition + need + purpose + interest, \n",
       "    family = binomial, data = survey)\n",
       "\n",
       "Deviance Residuals: \n",
       "    Min       1Q   Median       3Q      Max  \n",
       "-1.4333  -0.7494  -0.5479  -0.3188   2.0825  \n",
       "\n",
       "Coefficients:\n",
       "                  Estimate Std. Error z value Pr(>|z|)  \n",
       "(Intercept)        -4.1126     1.6744  -2.456   0.0140 *\n",
       "definitionharmony   1.2262     0.8534   1.437   0.1508  \n",
       "needharmony        -0.7105     0.6858  -1.036   0.3002  \n",
       "purposecosmetic    -1.2262     0.9379  -1.307   0.1911  \n",
       "purposeetc         -0.3057     0.6525  -0.468   0.6394  \n",
       "interest            0.6941     0.3743   1.854   0.0637 .\n",
       "---\n",
       "Signif. codes:  0 '***' 0.001 '**' 0.01 '*' 0.05 '.' 0.1 ' ' 1\n",
       "\n",
       "(Dispersion parameter for binomial family taken to be 1)\n",
       "\n",
       "    Null deviance: 79.159  on 77  degrees of freedom\n",
       "Residual deviance: 72.777  on 72  degrees of freedom\n",
       "AIC: 84.777\n",
       "\n",
       "Number of Fisher Scoring iterations: 4\n"
      ]
     },
     "metadata": {},
     "output_type": "display_data"
    },
    {
     "data": {
      "text/html": [
       "<table>\n",
       "<thead><tr><th></th><th scope=col>Df</th><th scope=col>Deviance</th><th scope=col>Resid. Df</th><th scope=col>Resid. Dev</th><th scope=col>Pr(&gt;Chi)</th></tr></thead>\n",
       "<tbody>\n",
       "\t<tr><th scope=row>NULL</th><td>NA       </td><td>       NA</td><td>77       </td><td>79.15907 </td><td>       NA</td></tr>\n",
       "\t<tr><th scope=row>definition</th><td> 1       </td><td>0.5276287</td><td>76       </td><td>78.63145 </td><td>0.4676055</td></tr>\n",
       "\t<tr><th scope=row>need</th><td> 1       </td><td>0.4176014</td><td>75       </td><td>78.21384 </td><td>0.5181363</td></tr>\n",
       "\t<tr><th scope=row>purpose</th><td> 2       </td><td>1.6569823</td><td>73       </td><td>76.55686 </td><td>0.4367077</td></tr>\n",
       "\t<tr><th scope=row>interest</th><td> 1       </td><td>3.7795666</td><td>72       </td><td>72.77730 </td><td>0.0518821</td></tr>\n",
       "</tbody>\n",
       "</table>\n"
      ],
      "text/latex": [
       "\\begin{tabular}{r|lllll}\n",
       "  & Df & Deviance & Resid. Df & Resid. Dev & Pr(>Chi)\\\\\n",
       "\\hline\n",
       "\tNULL & NA        &        NA & 77        & 79.15907  &        NA\\\\\n",
       "\tdefinition &  1        & 0.5276287 & 76        & 78.63145  & 0.4676055\\\\\n",
       "\tneed &  1        & 0.4176014 & 75        & 78.21384  & 0.5181363\\\\\n",
       "\tpurpose &  2        & 1.6569823 & 73        & 76.55686  & 0.4367077\\\\\n",
       "\tinterest &  1        & 3.7795666 & 72        & 72.77730  & 0.0518821\\\\\n",
       "\\end{tabular}\n"
      ],
      "text/markdown": [
       "\n",
       "| <!--/--> | Df | Deviance | Resid. Df | Resid. Dev | Pr(>Chi) |\n",
       "|---|---|---|---|---|---|\n",
       "| NULL | NA        |        NA | 77        | 79.15907  |        NA |\n",
       "| definition |  1        | 0.5276287 | 76        | 78.63145  | 0.4676055 |\n",
       "| need |  1        | 0.4176014 | 75        | 78.21384  | 0.5181363 |\n",
       "| purpose |  2        | 1.6569823 | 73        | 76.55686  | 0.4367077 |\n",
       "| interest |  1        | 3.7795666 | 72        | 72.77730  | 0.0518821 |\n",
       "\n"
      ],
      "text/plain": [
       "           Df Deviance  Resid. Df Resid. Dev Pr(>Chi) \n",
       "NULL       NA        NA 77        79.15907          NA\n",
       "definition  1 0.5276287 76        78.63145   0.4676055\n",
       "need        1 0.4176014 75        78.21384   0.5181363\n",
       "purpose     2 1.6569823 73        76.55686   0.4367077\n",
       "interest    1 3.7795666 72        72.77730   0.0518821"
      ]
     },
     "metadata": {},
     "output_type": "display_data"
    }
   ],
   "source": [
    "model <- glm(d3_3 ~ definition + need + purpose \n",
    "              + interest, data =survey, family = binomial)\n",
    "summary(model)\n",
    "\n",
    "\n",
    "anova(model, test=\"Chisq\")"
   ]
  },
  {
   "cell_type": "code",
   "execution_count": 36,
   "metadata": {},
   "outputs": [
    {
     "data": {
      "text/plain": [
       "\n",
       "Call:\n",
       "glm(formula = d3_4 ~ definition + need + purpose + interest, \n",
       "    family = binomial, data = survey)\n",
       "\n",
       "Deviance Residuals: \n",
       "    Min       1Q   Median       3Q      Max  \n",
       "-0.7829  -0.6063  -0.5551  -0.4437   2.1747  \n",
       "\n",
       "Coefficients:\n",
       "                  Estimate Std. Error z value Pr(>|z|)\n",
       "(Intercept)        -1.6943     1.6877  -1.004    0.315\n",
       "definitionharmony   0.3925     0.9450   0.415    0.678\n",
       "needharmony         0.2730     0.7587   0.360    0.719\n",
       "purposecosmetic     0.4464     0.9130   0.489    0.625\n",
       "purposeetc          0.1952     0.7681   0.254    0.799\n",
       "interest           -0.1917     0.3767  -0.509    0.611\n",
       "\n",
       "(Dispersion parameter for binomial family taken to be 1)\n",
       "\n",
       "    Null deviance: 66.974  on 77  degrees of freedom\n",
       "Residual deviance: 65.800  on 72  degrees of freedom\n",
       "AIC: 77.8\n",
       "\n",
       "Number of Fisher Scoring iterations: 4\n"
      ]
     },
     "metadata": {},
     "output_type": "display_data"
    },
    {
     "data": {
      "text/html": [
       "<table>\n",
       "<thead><tr><th></th><th scope=col>Df</th><th scope=col>Deviance</th><th scope=col>Resid. Df</th><th scope=col>Resid. Dev</th><th scope=col>Pr(&gt;Chi)</th></tr></thead>\n",
       "<tbody>\n",
       "\t<tr><th scope=row>NULL</th><td>NA        </td><td>        NA</td><td>77        </td><td>66.97439  </td><td>       NA </td></tr>\n",
       "\t<tr><th scope=row>definition</th><td> 1        </td><td>0.64668217</td><td>76        </td><td>66.32771  </td><td>0.4213014 </td></tr>\n",
       "\t<tr><th scope=row>need</th><td> 1        </td><td>0.06703613</td><td>75        </td><td>66.26067  </td><td>0.7957021 </td></tr>\n",
       "\t<tr><th scope=row>purpose</th><td> 2        </td><td>0.20150235</td><td>73        </td><td>66.05917  </td><td>0.9041580 </td></tr>\n",
       "\t<tr><th scope=row>interest</th><td> 1        </td><td>0.25940428</td><td>72        </td><td>65.79977  </td><td>0.6105297 </td></tr>\n",
       "</tbody>\n",
       "</table>\n"
      ],
      "text/latex": [
       "\\begin{tabular}{r|lllll}\n",
       "  & Df & Deviance & Resid. Df & Resid. Dev & Pr(>Chi)\\\\\n",
       "\\hline\n",
       "\tNULL & NA         &         NA & 77         & 66.97439   &        NA \\\\\n",
       "\tdefinition &  1         & 0.64668217 & 76         & 66.32771   & 0.4213014 \\\\\n",
       "\tneed &  1         & 0.06703613 & 75         & 66.26067   & 0.7957021 \\\\\n",
       "\tpurpose &  2         & 0.20150235 & 73         & 66.05917   & 0.9041580 \\\\\n",
       "\tinterest &  1         & 0.25940428 & 72         & 65.79977   & 0.6105297 \\\\\n",
       "\\end{tabular}\n"
      ],
      "text/markdown": [
       "\n",
       "| <!--/--> | Df | Deviance | Resid. Df | Resid. Dev | Pr(>Chi) |\n",
       "|---|---|---|---|---|---|\n",
       "| NULL | NA         |         NA | 77         | 66.97439   |        NA  |\n",
       "| definition |  1         | 0.64668217 | 76         | 66.32771   | 0.4213014  |\n",
       "| need |  1         | 0.06703613 | 75         | 66.26067   | 0.7957021  |\n",
       "| purpose |  2         | 0.20150235 | 73         | 66.05917   | 0.9041580  |\n",
       "| interest |  1         | 0.25940428 | 72         | 65.79977   | 0.6105297  |\n",
       "\n"
      ],
      "text/plain": [
       "           Df Deviance   Resid. Df Resid. Dev Pr(>Chi) \n",
       "NULL       NA         NA 77        66.97439          NA\n",
       "definition  1 0.64668217 76        66.32771   0.4213014\n",
       "need        1 0.06703613 75        66.26067   0.7957021\n",
       "purpose     2 0.20150235 73        66.05917   0.9041580\n",
       "interest    1 0.25940428 72        65.79977   0.6105297"
      ]
     },
     "metadata": {},
     "output_type": "display_data"
    }
   ],
   "source": [
    "model <- glm(d3_4 ~ definition + need + purpose \n",
    "              + interest, data =survey, family = binomial)\n",
    "summary(model)\n",
    "\n",
    "\n",
    "anova(model, test=\"Chisq\")"
   ]
  },
  {
   "cell_type": "code",
   "execution_count": 37,
   "metadata": {},
   "outputs": [
    {
     "data": {
      "text/plain": [
       "\n",
       "Call:\n",
       "glm(formula = d3_5 ~ definition + need + purpose + interest, \n",
       "    family = binomial, data = survey)\n",
       "\n",
       "Deviance Residuals: \n",
       "    Min       1Q   Median       3Q      Max  \n",
       "-1.1760  -0.7844  -0.6983   1.0485   2.0320  \n",
       "\n",
       "Coefficients:\n",
       "                  Estimate Std. Error z value Pr(>|z|)  \n",
       "(Intercept)         1.4257     1.3855   1.029   0.3035  \n",
       "definitionharmony  -0.6829     0.7137  -0.957   0.3387  \n",
       "needharmony         0.4728     0.6376   0.742   0.4583  \n",
       "purposecosmetic     0.1614     0.7785   0.207   0.8357  \n",
       "purposeetc          0.0645     0.6103   0.106   0.9158  \n",
       "interest           -0.6418     0.3327  -1.929   0.0538 .\n",
       "---\n",
       "Signif. codes:  0 '***' 0.001 '**' 0.01 '*' 0.05 '.' 0.1 ' ' 1\n",
       "\n",
       "(Dispersion parameter for binomial family taken to be 1)\n",
       "\n",
       "    Null deviance: 90.869  on 77  degrees of freedom\n",
       "Residual deviance: 86.336  on 72  degrees of freedom\n",
       "AIC: 98.336\n",
       "\n",
       "Number of Fisher Scoring iterations: 4\n"
      ]
     },
     "metadata": {},
     "output_type": "display_data"
    },
    {
     "data": {
      "text/html": [
       "<table>\n",
       "<thead><tr><th></th><th scope=col>Df</th><th scope=col>Deviance</th><th scope=col>Resid. Df</th><th scope=col>Resid. Dev</th><th scope=col>Pr(&gt;Chi)</th></tr></thead>\n",
       "<tbody>\n",
       "\t<tr><th scope=row>NULL</th><td>NA        </td><td>       NA </td><td>77        </td><td>90.86879  </td><td>        NA</td></tr>\n",
       "\t<tr><th scope=row>definition</th><td> 1        </td><td>0.1275447 </td><td>76        </td><td>90.74125  </td><td>0.72099146</td></tr>\n",
       "\t<tr><th scope=row>need</th><td> 1        </td><td>0.3083347 </td><td>75        </td><td>90.43291  </td><td>0.57870388</td></tr>\n",
       "\t<tr><th scope=row>purpose</th><td> 2        </td><td>0.0265138 </td><td>73        </td><td>90.40640  </td><td>0.98683058</td></tr>\n",
       "\t<tr><th scope=row>interest</th><td> 1        </td><td>4.0707031 </td><td>72        </td><td>86.33569  </td><td>0.04363311</td></tr>\n",
       "</tbody>\n",
       "</table>\n"
      ],
      "text/latex": [
       "\\begin{tabular}{r|lllll}\n",
       "  & Df & Deviance & Resid. Df & Resid. Dev & Pr(>Chi)\\\\\n",
       "\\hline\n",
       "\tNULL & NA         &        NA  & 77         & 90.86879   &         NA\\\\\n",
       "\tdefinition &  1         & 0.1275447  & 76         & 90.74125   & 0.72099146\\\\\n",
       "\tneed &  1         & 0.3083347  & 75         & 90.43291   & 0.57870388\\\\\n",
       "\tpurpose &  2         & 0.0265138  & 73         & 90.40640   & 0.98683058\\\\\n",
       "\tinterest &  1         & 4.0707031  & 72         & 86.33569   & 0.04363311\\\\\n",
       "\\end{tabular}\n"
      ],
      "text/markdown": [
       "\n",
       "| <!--/--> | Df | Deviance | Resid. Df | Resid. Dev | Pr(>Chi) |\n",
       "|---|---|---|---|---|---|\n",
       "| NULL | NA         |        NA  | 77         | 90.86879   |         NA |\n",
       "| definition |  1         | 0.1275447  | 76         | 90.74125   | 0.72099146 |\n",
       "| need |  1         | 0.3083347  | 75         | 90.43291   | 0.57870388 |\n",
       "| purpose |  2         | 0.0265138  | 73         | 90.40640   | 0.98683058 |\n",
       "| interest |  1         | 4.0707031  | 72         | 86.33569   | 0.04363311 |\n",
       "\n"
      ],
      "text/plain": [
       "           Df Deviance  Resid. Df Resid. Dev Pr(>Chi)  \n",
       "NULL       NA        NA 77        90.86879           NA\n",
       "definition  1 0.1275447 76        90.74125   0.72099146\n",
       "need        1 0.3083347 75        90.43291   0.57870388\n",
       "purpose     2 0.0265138 73        90.40640   0.98683058\n",
       "interest    1 4.0707031 72        86.33569   0.04363311"
      ]
     },
     "metadata": {},
     "output_type": "display_data"
    }
   ],
   "source": [
    "model <- glm(d3_5 ~ definition + need + purpose \n",
    "              + interest, data =survey, family = binomial)\n",
    "summary(model)\n",
    "\n",
    "\n",
    "anova(model, test=\"Chisq\")"
   ]
  },
  {
   "cell_type": "code",
   "execution_count": null,
   "metadata": {},
   "outputs": [],
   "source": []
  }
 ],
 "metadata": {
  "kernelspec": {
   "display_name": "R",
   "language": "R",
   "name": "ir"
  },
  "language_info": {
   "codemirror_mode": "r",
   "file_extension": ".r",
   "mimetype": "text/x-r-source",
   "name": "R",
   "pygments_lexer": "r",
   "version": "3.6.1"
  }
 },
 "nbformat": 4,
 "nbformat_minor": 4
}
