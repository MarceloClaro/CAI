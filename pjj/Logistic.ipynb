{
 "cells": [
  {
   "cell_type": "code",
   "execution_count": 1,
   "metadata": {},
   "outputs": [
    {
     "name": "stderr",
     "output_type": "stream",
     "text": [
      "Installing package into 'C:/Users/acorn/Documents/R/win-library/3.6'\n",
      "(as 'lib' is unspecified)\n",
      "also installing the dependencies 'bitops', 'gtools', 'gdata', 'caTools', 'gplots'\n",
      "\n"
     ]
    },
    {
     "name": "stdout",
     "output_type": "stream",
     "text": [
      "package 'bitops' successfully unpacked and MD5 sums checked\n",
      "package 'gtools' successfully unpacked and MD5 sums checked\n",
      "package 'gdata' successfully unpacked and MD5 sums checked\n",
      "package 'caTools' successfully unpacked and MD5 sums checked\n",
      "package 'gplots' successfully unpacked and MD5 sums checked\n",
      "package 'ROCR' successfully unpacked and MD5 sums checked\n",
      "\n",
      "The downloaded binary packages are in\n",
      "\tC:\\Users\\acorn\\AppData\\Local\\Temp\\RtmpSywi0u\\downloaded_packages\n"
     ]
    }
   ],
   "source": [
    "install.packages(\"ROCR\")"
   ]
  },
  {
   "cell_type": "code",
   "execution_count": 2,
   "metadata": {},
   "outputs": [
    {
     "name": "stderr",
     "output_type": "stream",
     "text": [
      "Warning message:\n",
      "\"package 'ROCR' was built under R version 3.6.3\"Loading required package: gplots\n",
      "Warning message:\n",
      "\"package 'gplots' was built under R version 3.6.3\"\n",
      "Attaching package: 'gplots'\n",
      "\n",
      "The following object is masked from 'package:stats':\n",
      "\n",
      "    lowess\n",
      "\n"
     ]
    }
   ],
   "source": [
    "library(ROCR)"
   ]
  },
  {
   "cell_type": "markdown",
   "metadata": {},
   "source": [
    "### 참조\n",
    "http://www.dodomira.com/2016/02/12/logistic-regression-in-r/"
   ]
  },
  {
   "cell_type": "code",
   "execution_count": 3,
   "metadata": {},
   "outputs": [],
   "source": [
    "total1 <- read.csv(\"C:/Users/acorn/Desktop/work/Project/전처리/1번설문/comp1.csv\")"
   ]
  },
  {
   "cell_type": "code",
   "execution_count": 4,
   "metadata": {},
   "outputs": [
    {
     "name": "stdout",
     "output_type": "stream",
     "text": [
      "'data.frame':\t117 obs. of  13 variables:\n",
      " $ X          : int  0 1 2 3 4 5 6 7 8 9 ...\n",
      " $ sex        : Factor w/ 2 levels \"Female\",\"Male\": 2 1 1 1 1 1 1 2 1 1 ...\n",
      " $ age_class  : int  20 20 20 20 20 20 20 20 20 20 ...\n",
      " $ definition : Factor w/ 2 levels \"bright\",\"harmony\": 2 1 1 2 1 2 2 2 2 1 ...\n",
      " $ need       : Factor w/ 2 levels \"bright\",\"harmony\": 2 2 1 2 1 2 2 2 2 1 ...\n",
      " $ purpose    : Factor w/ 3 levels \"clothes\",\"cosmetic\",..: 1 1 1 1 3 3 3 1 1 1 ...\n",
      " $ interest   : int  5 5 3 3 4 2 5 3 4 4 ...\n",
      " $ comp       : int  0 1 0 0 0 0 1 1 1 0 ...\n",
      " $ triangle1  : int  5 1 4 5 2 4 4 1 4 5 ...\n",
      " $ triangle2  : int  2 2 1 4 1 1 5 3 1 2 ...\n",
      " $ doubleness1: int  3 2 2 5 1 2 3 1 1 2 ...\n",
      " $ doubleness2: int  2 3 1 4 2 2 3 5 2 1 ...\n",
      " $ doubleness3: int  2 2 2 1 2 2 3 5 2 5 ...\n"
     ]
    }
   ],
   "source": [
    "str(total1)"
   ]
  },
  {
   "cell_type": "code",
   "execution_count": 5,
   "metadata": {},
   "outputs": [
    {
     "data": {
      "text/html": [
       "<table>\n",
       "<thead><tr><th scope=col>X</th><th scope=col>sex</th><th scope=col>age_class</th><th scope=col>definition</th><th scope=col>need</th><th scope=col>purpose</th><th scope=col>interest</th><th scope=col>comp</th><th scope=col>triangle1</th><th scope=col>triangle2</th><th scope=col>doubleness1</th><th scope=col>doubleness2</th><th scope=col>doubleness3</th></tr></thead>\n",
       "<tbody>\n",
       "\t<tr><td>0      </td><td>Male   </td><td>20     </td><td>harmony</td><td>harmony</td><td>clothes</td><td>5      </td><td>0      </td><td>5      </td><td>2      </td><td>3      </td><td>2      </td><td>2      </td></tr>\n",
       "\t<tr><td>1      </td><td>Female </td><td>20     </td><td>bright </td><td>harmony</td><td>clothes</td><td>5      </td><td>1      </td><td>1      </td><td>2      </td><td>2      </td><td>3      </td><td>2      </td></tr>\n",
       "\t<tr><td>2      </td><td>Female </td><td>20     </td><td>bright </td><td>bright </td><td>clothes</td><td>3      </td><td>0      </td><td>4      </td><td>1      </td><td>2      </td><td>1      </td><td>2      </td></tr>\n",
       "\t<tr><td>3      </td><td>Female </td><td>20     </td><td>harmony</td><td>harmony</td><td>clothes</td><td>3      </td><td>0      </td><td>5      </td><td>4      </td><td>5      </td><td>4      </td><td>1      </td></tr>\n",
       "\t<tr><td>4      </td><td>Female </td><td>20     </td><td>bright </td><td>bright </td><td>etc    </td><td>4      </td><td>0      </td><td>2      </td><td>1      </td><td>1      </td><td>2      </td><td>2      </td></tr>\n",
       "\t<tr><td>5      </td><td>Female </td><td>20     </td><td>harmony</td><td>harmony</td><td>etc    </td><td>2      </td><td>0      </td><td>4      </td><td>1      </td><td>2      </td><td>2      </td><td>2      </td></tr>\n",
       "</tbody>\n",
       "</table>\n"
      ],
      "text/latex": [
       "\\begin{tabular}{r|lllllllllllll}\n",
       " X & sex & age\\_class & definition & need & purpose & interest & comp & triangle1 & triangle2 & doubleness1 & doubleness2 & doubleness3\\\\\n",
       "\\hline\n",
       "\t 0       & Male    & 20      & harmony & harmony & clothes & 5       & 0       & 5       & 2       & 3       & 2       & 2      \\\\\n",
       "\t 1       & Female  & 20      & bright  & harmony & clothes & 5       & 1       & 1       & 2       & 2       & 3       & 2      \\\\\n",
       "\t 2       & Female  & 20      & bright  & bright  & clothes & 3       & 0       & 4       & 1       & 2       & 1       & 2      \\\\\n",
       "\t 3       & Female  & 20      & harmony & harmony & clothes & 3       & 0       & 5       & 4       & 5       & 4       & 1      \\\\\n",
       "\t 4       & Female  & 20      & bright  & bright  & etc     & 4       & 0       & 2       & 1       & 1       & 2       & 2      \\\\\n",
       "\t 5       & Female  & 20      & harmony & harmony & etc     & 2       & 0       & 4       & 1       & 2       & 2       & 2      \\\\\n",
       "\\end{tabular}\n"
      ],
      "text/markdown": [
       "\n",
       "| X | sex | age_class | definition | need | purpose | interest | comp | triangle1 | triangle2 | doubleness1 | doubleness2 | doubleness3 |\n",
       "|---|---|---|---|---|---|---|---|---|---|---|---|---|\n",
       "| 0       | Male    | 20      | harmony | harmony | clothes | 5       | 0       | 5       | 2       | 3       | 2       | 2       |\n",
       "| 1       | Female  | 20      | bright  | harmony | clothes | 5       | 1       | 1       | 2       | 2       | 3       | 2       |\n",
       "| 2       | Female  | 20      | bright  | bright  | clothes | 3       | 0       | 4       | 1       | 2       | 1       | 2       |\n",
       "| 3       | Female  | 20      | harmony | harmony | clothes | 3       | 0       | 5       | 4       | 5       | 4       | 1       |\n",
       "| 4       | Female  | 20      | bright  | bright  | etc     | 4       | 0       | 2       | 1       | 1       | 2       | 2       |\n",
       "| 5       | Female  | 20      | harmony | harmony | etc     | 2       | 0       | 4       | 1       | 2       | 2       | 2       |\n",
       "\n"
      ],
      "text/plain": [
       "  X sex    age_class definition need    purpose interest comp triangle1\n",
       "1 0 Male   20        harmony    harmony clothes 5        0    5        \n",
       "2 1 Female 20        bright     harmony clothes 5        1    1        \n",
       "3 2 Female 20        bright     bright  clothes 3        0    4        \n",
       "4 3 Female 20        harmony    harmony clothes 3        0    5        \n",
       "5 4 Female 20        bright     bright  etc     4        0    2        \n",
       "6 5 Female 20        harmony    harmony etc     2        0    4        \n",
       "  triangle2 doubleness1 doubleness2 doubleness3\n",
       "1 2         3           2           2          \n",
       "2 2         2           3           2          \n",
       "3 1         2           1           2          \n",
       "4 4         5           4           1          \n",
       "5 1         1           2           2          \n",
       "6 1         2           2           2          "
      ]
     },
     "metadata": {},
     "output_type": "display_data"
    }
   ],
   "source": [
    "head(total1)"
   ]
  },
  {
   "cell_type": "code",
   "execution_count": 6,
   "metadata": {
    "scrolled": true
   },
   "outputs": [
    {
     "data": {
      "text/html": [
       "<table>\n",
       "<thead><tr><th scope=col>X</th><th scope=col>sex</th><th scope=col>age_class</th><th scope=col>definition</th><th scope=col>need</th><th scope=col>purpose</th><th scope=col>interest</th><th scope=col>comp</th><th scope=col>triangle1</th><th scope=col>triangle2</th><th scope=col>doubleness1</th><th scope=col>doubleness2</th><th scope=col>doubleness3</th></tr></thead>\n",
       "<tbody>\n",
       "\t<tr><td> 0      </td><td>Male    </td><td>20      </td><td>harmony </td><td>harmony </td><td>clothes </td><td>5       </td><td>0       </td><td>5       </td><td>2       </td><td>3       </td><td>2       </td><td>2       </td></tr>\n",
       "\t<tr><td> 1      </td><td>Female  </td><td>20      </td><td>bright  </td><td>harmony </td><td>clothes </td><td>5       </td><td>1       </td><td>1       </td><td>2       </td><td>2       </td><td>3       </td><td>2       </td></tr>\n",
       "\t<tr><td> 2      </td><td>Female  </td><td>20      </td><td>bright  </td><td>bright  </td><td>clothes </td><td>3       </td><td>0       </td><td>4       </td><td>1       </td><td>2       </td><td>1       </td><td>2       </td></tr>\n",
       "\t<tr><td> 3      </td><td>Female  </td><td>20      </td><td>harmony </td><td>harmony </td><td>clothes </td><td>3       </td><td>0       </td><td>5       </td><td>4       </td><td>5       </td><td>4       </td><td>1       </td></tr>\n",
       "\t<tr><td> 4      </td><td>Female  </td><td>20      </td><td>bright  </td><td>bright  </td><td>etc     </td><td>4       </td><td>0       </td><td>2       </td><td>1       </td><td>1       </td><td>2       </td><td>2       </td></tr>\n",
       "\t<tr><td> 5      </td><td>Female  </td><td>20      </td><td>harmony </td><td>harmony </td><td>etc     </td><td>2       </td><td>0       </td><td>4       </td><td>1       </td><td>2       </td><td>2       </td><td>2       </td></tr>\n",
       "\t<tr><td> 6      </td><td>Female  </td><td>20      </td><td>harmony </td><td>harmony </td><td>etc     </td><td>5       </td><td>1       </td><td>4       </td><td>5       </td><td>3       </td><td>3       </td><td>3       </td></tr>\n",
       "\t<tr><td> 7      </td><td>Male    </td><td>20      </td><td>harmony </td><td>harmony </td><td>clothes </td><td>3       </td><td>1       </td><td>1       </td><td>3       </td><td>1       </td><td>5       </td><td>5       </td></tr>\n",
       "\t<tr><td> 8      </td><td>Female  </td><td>20      </td><td>harmony </td><td>harmony </td><td>clothes </td><td>4       </td><td>1       </td><td>4       </td><td>1       </td><td>1       </td><td>2       </td><td>2       </td></tr>\n",
       "\t<tr><td> 9      </td><td>Female  </td><td>20      </td><td>bright  </td><td>bright  </td><td>clothes </td><td>4       </td><td>0       </td><td>5       </td><td>2       </td><td>2       </td><td>1       </td><td>5       </td></tr>\n",
       "\t<tr><td>10      </td><td>Female  </td><td>20      </td><td>harmony </td><td>harmony </td><td>etc     </td><td>3       </td><td>0       </td><td>3       </td><td>2       </td><td>3       </td><td>5       </td><td>2       </td></tr>\n",
       "\t<tr><td>11      </td><td>Male    </td><td>20      </td><td>harmony </td><td>harmony </td><td>clothes </td><td>3       </td><td>0       </td><td>4       </td><td>5       </td><td>4       </td><td>3       </td><td>3       </td></tr>\n",
       "\t<tr><td>12      </td><td>Female  </td><td>20      </td><td>harmony </td><td>harmony </td><td>etc     </td><td>3       </td><td>1       </td><td>4       </td><td>3       </td><td>3       </td><td>1       </td><td>2       </td></tr>\n",
       "\t<tr><td>13      </td><td>Female  </td><td>20      </td><td>bright  </td><td>bright  </td><td>cosmetic</td><td>3       </td><td>1       </td><td>3       </td><td>1       </td><td>1       </td><td>4       </td><td>2       </td></tr>\n",
       "\t<tr><td>14      </td><td>Female  </td><td>20      </td><td>harmony </td><td>harmony </td><td>clothes </td><td>3       </td><td>1       </td><td>5       </td><td>2       </td><td>3       </td><td>2       </td><td>5       </td></tr>\n",
       "\t<tr><td>15      </td><td>Female  </td><td>50      </td><td>harmony </td><td>harmony </td><td>clothes </td><td>3       </td><td>0       </td><td>4       </td><td>4       </td><td>4       </td><td>4       </td><td>4       </td></tr>\n",
       "\t<tr><td>16      </td><td>Female  </td><td>20      </td><td>harmony </td><td>bright  </td><td>etc     </td><td>3       </td><td>0       </td><td>1       </td><td>3       </td><td>1       </td><td>1       </td><td>3       </td></tr>\n",
       "\t<tr><td>17      </td><td>Female  </td><td>20      </td><td>harmony </td><td>harmony </td><td>clothes </td><td>3       </td><td>0       </td><td>2       </td><td>3       </td><td>5       </td><td>1       </td><td>3       </td></tr>\n",
       "\t<tr><td>18      </td><td>Male    </td><td>20      </td><td>harmony </td><td>harmony </td><td>clothes </td><td>2       </td><td>1       </td><td>5       </td><td>4       </td><td>4       </td><td>1       </td><td>3       </td></tr>\n",
       "\t<tr><td>19      </td><td>Female  </td><td>20      </td><td>bright  </td><td>bright  </td><td>etc     </td><td>3       </td><td>0       </td><td>2       </td><td>5       </td><td>2       </td><td>2       </td><td>1       </td></tr>\n",
       "\t<tr><td>20      </td><td>Female  </td><td>20      </td><td>harmony </td><td>bright  </td><td>cosmetic</td><td>4       </td><td>0       </td><td>4       </td><td>4       </td><td>1       </td><td>4       </td><td>1       </td></tr>\n",
       "\t<tr><td>21      </td><td>Female  </td><td>20      </td><td>harmony </td><td>harmony </td><td>cosmetic</td><td>5       </td><td>1       </td><td>4       </td><td>5       </td><td>1       </td><td>1       </td><td>1       </td></tr>\n",
       "\t<tr><td>22      </td><td>Female  </td><td>20      </td><td>harmony </td><td>harmony </td><td>clothes </td><td>5       </td><td>1       </td><td>4       </td><td>2       </td><td>2       </td><td>5       </td><td>1       </td></tr>\n",
       "\t<tr><td>23      </td><td>Female  </td><td>20      </td><td>harmony </td><td>harmony </td><td>etc     </td><td>5       </td><td>1       </td><td>4       </td><td>5       </td><td>2       </td><td>1       </td><td>5       </td></tr>\n",
       "\t<tr><td>24      </td><td>Male    </td><td>20      </td><td>harmony </td><td>harmony </td><td>clothes </td><td>2       </td><td>1       </td><td>3       </td><td>4       </td><td>2       </td><td>3       </td><td>2       </td></tr>\n",
       "\t<tr><td>25      </td><td>Male    </td><td>20      </td><td>harmony </td><td>harmony </td><td>clothes </td><td>2       </td><td>0       </td><td>1       </td><td>3       </td><td>1       </td><td>4       </td><td>2       </td></tr>\n",
       "\t<tr><td>26      </td><td>Female  </td><td>20      </td><td>bright  </td><td>bright  </td><td>etc     </td><td>5       </td><td>0       </td><td>2       </td><td>2       </td><td>1       </td><td>3       </td><td>5       </td></tr>\n",
       "\t<tr><td>27      </td><td>Female  </td><td>20      </td><td>bright  </td><td>bright  </td><td>etc     </td><td>4       </td><td>0       </td><td>4       </td><td>4       </td><td>4       </td><td>5       </td><td>5       </td></tr>\n",
       "\t<tr><td>28      </td><td>Male    </td><td>30      </td><td>harmony </td><td>harmony </td><td>clothes </td><td>3       </td><td>0       </td><td>1       </td><td>1       </td><td>3       </td><td>2       </td><td>2       </td></tr>\n",
       "\t<tr><td>29      </td><td>Female  </td><td>20      </td><td>harmony </td><td>harmony </td><td>clothes </td><td>3       </td><td>0       </td><td>5       </td><td>1       </td><td>1       </td><td>1       </td><td>5       </td></tr>\n",
       "\t<tr><td>...</td><td>...</td><td>...</td><td>...</td><td>...</td><td>...</td><td>...</td><td>...</td><td>...</td><td>...</td><td>...</td><td>...</td><td>...</td></tr>\n",
       "\t<tr><td> 87     </td><td>Female  </td><td>30      </td><td>bright  </td><td>bright  </td><td>etc     </td><td>4       </td><td>0       </td><td>2       </td><td>2       </td><td>4       </td><td>1       </td><td>3       </td></tr>\n",
       "\t<tr><td> 88     </td><td>Female  </td><td>30      </td><td>harmony </td><td>bright  </td><td>cosmetic</td><td>3       </td><td>0       </td><td>1       </td><td>1       </td><td>4       </td><td>1       </td><td>4       </td></tr>\n",
       "\t<tr><td> 89     </td><td>Female  </td><td>20      </td><td>harmony </td><td>harmony </td><td>clothes </td><td>3       </td><td>0       </td><td>4       </td><td>3       </td><td>4       </td><td>5       </td><td>3       </td></tr>\n",
       "\t<tr><td> 90     </td><td>Female  </td><td>20      </td><td>harmony </td><td>harmony </td><td>clothes </td><td>3       </td><td>1       </td><td>2       </td><td>2       </td><td>2       </td><td>4       </td><td>3       </td></tr>\n",
       "\t<tr><td> 91     </td><td>Female  </td><td>20      </td><td>harmony </td><td>harmony </td><td>etc     </td><td>3       </td><td>0       </td><td>1       </td><td>1       </td><td>3       </td><td>1       </td><td>2       </td></tr>\n",
       "\t<tr><td> 92     </td><td>Female  </td><td>20      </td><td>harmony </td><td>harmony </td><td>etc     </td><td>4       </td><td>0       </td><td>4       </td><td>1       </td><td>3       </td><td>3       </td><td>2       </td></tr>\n",
       "\t<tr><td> 93     </td><td>Female  </td><td>20      </td><td>harmony </td><td>harmony </td><td>etc     </td><td>1       </td><td>0       </td><td>4       </td><td>1       </td><td>2       </td><td>1       </td><td>5       </td></tr>\n",
       "\t<tr><td> 94     </td><td>Female  </td><td>20      </td><td>harmony </td><td>harmony </td><td>clothes </td><td>4       </td><td>0       </td><td>1       </td><td>1       </td><td>2       </td><td>4       </td><td>3       </td></tr>\n",
       "\t<tr><td> 95     </td><td>Female  </td><td>20      </td><td>harmony </td><td>harmony </td><td>etc     </td><td>4       </td><td>1       </td><td>2       </td><td>3       </td><td>1       </td><td>1       </td><td>5       </td></tr>\n",
       "\t<tr><td> 96     </td><td>Male    </td><td>20      </td><td>bright  </td><td>bright  </td><td>clothes </td><td>3       </td><td>0       </td><td>3       </td><td>1       </td><td>5       </td><td>2       </td><td>5       </td></tr>\n",
       "\t<tr><td> 97     </td><td>Female  </td><td>20      </td><td>harmony </td><td>harmony </td><td>clothes </td><td>5       </td><td>0       </td><td>4       </td><td>5       </td><td>4       </td><td>1       </td><td>3       </td></tr>\n",
       "\t<tr><td> 98     </td><td>Female  </td><td>10      </td><td>harmony </td><td>harmony </td><td>clothes </td><td>2       </td><td>0       </td><td>1       </td><td>1       </td><td>3       </td><td>4       </td><td>2       </td></tr>\n",
       "\t<tr><td> 99     </td><td>Male    </td><td>20      </td><td>harmony </td><td>harmony </td><td>clothes </td><td>5       </td><td>0       </td><td>1       </td><td>3       </td><td>4       </td><td>1       </td><td>5       </td></tr>\n",
       "\t<tr><td>100     </td><td>Male    </td><td>30      </td><td>bright  </td><td>bright  </td><td>clothes </td><td>3       </td><td>0       </td><td>4       </td><td>5       </td><td>2       </td><td>5       </td><td>4       </td></tr>\n",
       "\t<tr><td>101     </td><td>Female  </td><td>20      </td><td>harmony </td><td>bright  </td><td>etc     </td><td>3       </td><td>1       </td><td>4       </td><td>2       </td><td>4       </td><td>5       </td><td>3       </td></tr>\n",
       "\t<tr><td>102     </td><td>Male    </td><td>20      </td><td>harmony </td><td>harmony </td><td>clothes </td><td>3       </td><td>1       </td><td>4       </td><td>3       </td><td>4       </td><td>1       </td><td>3       </td></tr>\n",
       "\t<tr><td>103     </td><td>Female  </td><td>20      </td><td>harmony </td><td>bright  </td><td>etc     </td><td>5       </td><td>0       </td><td>4       </td><td>5       </td><td>5       </td><td>4       </td><td>3       </td></tr>\n",
       "\t<tr><td>104     </td><td>Female  </td><td>20      </td><td>harmony </td><td>harmony </td><td>etc     </td><td>4       </td><td>0       </td><td>3       </td><td>3       </td><td>3       </td><td>3       </td><td>4       </td></tr>\n",
       "\t<tr><td>105     </td><td>Male    </td><td>20      </td><td>harmony </td><td>harmony </td><td>clothes </td><td>3       </td><td>0       </td><td>1       </td><td>3       </td><td>5       </td><td>3       </td><td>4       </td></tr>\n",
       "\t<tr><td>106     </td><td>Female  </td><td>20      </td><td>harmony </td><td>bright  </td><td>etc     </td><td>3       </td><td>1       </td><td>4       </td><td>5       </td><td>1       </td><td>3       </td><td>1       </td></tr>\n",
       "\t<tr><td>107     </td><td>Female  </td><td>20      </td><td>harmony </td><td>harmony </td><td>clothes </td><td>3       </td><td>0       </td><td>4       </td><td>4       </td><td>2       </td><td>4       </td><td>4       </td></tr>\n",
       "\t<tr><td>108     </td><td>Female  </td><td>20      </td><td>harmony </td><td>harmony </td><td>cosmetic</td><td>4       </td><td>1       </td><td>4       </td><td>5       </td><td>4       </td><td>5       </td><td>4       </td></tr>\n",
       "\t<tr><td>109     </td><td>Male    </td><td>20      </td><td>harmony </td><td>harmony </td><td>clothes </td><td>2       </td><td>0       </td><td>1       </td><td>2       </td><td>4       </td><td>1       </td><td>3       </td></tr>\n",
       "\t<tr><td>110     </td><td>Female  </td><td>20      </td><td>harmony </td><td>harmony </td><td>etc     </td><td>4       </td><td>1       </td><td>3       </td><td>4       </td><td>2       </td><td>4       </td><td>4       </td></tr>\n",
       "\t<tr><td>111     </td><td>Female  </td><td>20      </td><td>harmony </td><td>harmony </td><td>etc     </td><td>4       </td><td>1       </td><td>4       </td><td>5       </td><td>2       </td><td>1       </td><td>5       </td></tr>\n",
       "\t<tr><td>112     </td><td>Female  </td><td>30      </td><td>harmony </td><td>harmony </td><td>cosmetic</td><td>4       </td><td>0       </td><td>2       </td><td>2       </td><td>4       </td><td>1       </td><td>3       </td></tr>\n",
       "\t<tr><td>113     </td><td>Male    </td><td>30      </td><td>harmony </td><td>bright  </td><td>cosmetic</td><td>2       </td><td>1       </td><td>4       </td><td>5       </td><td>2       </td><td>4       </td><td>3       </td></tr>\n",
       "\t<tr><td>114     </td><td>Female  </td><td>20      </td><td>bright  </td><td>harmony </td><td>etc     </td><td>4       </td><td>0       </td><td>5       </td><td>4       </td><td>1       </td><td>2       </td><td>5       </td></tr>\n",
       "\t<tr><td>115     </td><td>Male    </td><td>20      </td><td>bright  </td><td>harmony </td><td>clothes </td><td>2       </td><td>0       </td><td>2       </td><td>5       </td><td>4       </td><td>5       </td><td>5       </td></tr>\n",
       "\t<tr><td>116     </td><td>Female  </td><td>20      </td><td>harmony </td><td>bright  </td><td>clothes </td><td>3       </td><td>0       </td><td>5       </td><td>5       </td><td>4       </td><td>2       </td><td>1       </td></tr>\n",
       "</tbody>\n",
       "</table>\n"
      ],
      "text/latex": [
       "\\begin{tabular}{r|lllllllllllll}\n",
       " X & sex & age\\_class & definition & need & purpose & interest & comp & triangle1 & triangle2 & doubleness1 & doubleness2 & doubleness3\\\\\n",
       "\\hline\n",
       "\t  0       & Male     & 20       & harmony  & harmony  & clothes  & 5        & 0        & 5        & 2        & 3        & 2        & 2       \\\\\n",
       "\t  1       & Female   & 20       & bright   & harmony  & clothes  & 5        & 1        & 1        & 2        & 2        & 3        & 2       \\\\\n",
       "\t  2       & Female   & 20       & bright   & bright   & clothes  & 3        & 0        & 4        & 1        & 2        & 1        & 2       \\\\\n",
       "\t  3       & Female   & 20       & harmony  & harmony  & clothes  & 3        & 0        & 5        & 4        & 5        & 4        & 1       \\\\\n",
       "\t  4       & Female   & 20       & bright   & bright   & etc      & 4        & 0        & 2        & 1        & 1        & 2        & 2       \\\\\n",
       "\t  5       & Female   & 20       & harmony  & harmony  & etc      & 2        & 0        & 4        & 1        & 2        & 2        & 2       \\\\\n",
       "\t  6       & Female   & 20       & harmony  & harmony  & etc      & 5        & 1        & 4        & 5        & 3        & 3        & 3       \\\\\n",
       "\t  7       & Male     & 20       & harmony  & harmony  & clothes  & 3        & 1        & 1        & 3        & 1        & 5        & 5       \\\\\n",
       "\t  8       & Female   & 20       & harmony  & harmony  & clothes  & 4        & 1        & 4        & 1        & 1        & 2        & 2       \\\\\n",
       "\t  9       & Female   & 20       & bright   & bright   & clothes  & 4        & 0        & 5        & 2        & 2        & 1        & 5       \\\\\n",
       "\t 10       & Female   & 20       & harmony  & harmony  & etc      & 3        & 0        & 3        & 2        & 3        & 5        & 2       \\\\\n",
       "\t 11       & Male     & 20       & harmony  & harmony  & clothes  & 3        & 0        & 4        & 5        & 4        & 3        & 3       \\\\\n",
       "\t 12       & Female   & 20       & harmony  & harmony  & etc      & 3        & 1        & 4        & 3        & 3        & 1        & 2       \\\\\n",
       "\t 13       & Female   & 20       & bright   & bright   & cosmetic & 3        & 1        & 3        & 1        & 1        & 4        & 2       \\\\\n",
       "\t 14       & Female   & 20       & harmony  & harmony  & clothes  & 3        & 1        & 5        & 2        & 3        & 2        & 5       \\\\\n",
       "\t 15       & Female   & 50       & harmony  & harmony  & clothes  & 3        & 0        & 4        & 4        & 4        & 4        & 4       \\\\\n",
       "\t 16       & Female   & 20       & harmony  & bright   & etc      & 3        & 0        & 1        & 3        & 1        & 1        & 3       \\\\\n",
       "\t 17       & Female   & 20       & harmony  & harmony  & clothes  & 3        & 0        & 2        & 3        & 5        & 1        & 3       \\\\\n",
       "\t 18       & Male     & 20       & harmony  & harmony  & clothes  & 2        & 1        & 5        & 4        & 4        & 1        & 3       \\\\\n",
       "\t 19       & Female   & 20       & bright   & bright   & etc      & 3        & 0        & 2        & 5        & 2        & 2        & 1       \\\\\n",
       "\t 20       & Female   & 20       & harmony  & bright   & cosmetic & 4        & 0        & 4        & 4        & 1        & 4        & 1       \\\\\n",
       "\t 21       & Female   & 20       & harmony  & harmony  & cosmetic & 5        & 1        & 4        & 5        & 1        & 1        & 1       \\\\\n",
       "\t 22       & Female   & 20       & harmony  & harmony  & clothes  & 5        & 1        & 4        & 2        & 2        & 5        & 1       \\\\\n",
       "\t 23       & Female   & 20       & harmony  & harmony  & etc      & 5        & 1        & 4        & 5        & 2        & 1        & 5       \\\\\n",
       "\t 24       & Male     & 20       & harmony  & harmony  & clothes  & 2        & 1        & 3        & 4        & 2        & 3        & 2       \\\\\n",
       "\t 25       & Male     & 20       & harmony  & harmony  & clothes  & 2        & 0        & 1        & 3        & 1        & 4        & 2       \\\\\n",
       "\t 26       & Female   & 20       & bright   & bright   & etc      & 5        & 0        & 2        & 2        & 1        & 3        & 5       \\\\\n",
       "\t 27       & Female   & 20       & bright   & bright   & etc      & 4        & 0        & 4        & 4        & 4        & 5        & 5       \\\\\n",
       "\t 28       & Male     & 30       & harmony  & harmony  & clothes  & 3        & 0        & 1        & 1        & 3        & 2        & 2       \\\\\n",
       "\t 29       & Female   & 20       & harmony  & harmony  & clothes  & 3        & 0        & 5        & 1        & 1        & 1        & 5       \\\\\n",
       "\t ... & ... & ... & ... & ... & ... & ... & ... & ... & ... & ... & ... & ...\\\\\n",
       "\t  87      & Female   & 30       & bright   & bright   & etc      & 4        & 0        & 2        & 2        & 4        & 1        & 3       \\\\\n",
       "\t  88      & Female   & 30       & harmony  & bright   & cosmetic & 3        & 0        & 1        & 1        & 4        & 1        & 4       \\\\\n",
       "\t  89      & Female   & 20       & harmony  & harmony  & clothes  & 3        & 0        & 4        & 3        & 4        & 5        & 3       \\\\\n",
       "\t  90      & Female   & 20       & harmony  & harmony  & clothes  & 3        & 1        & 2        & 2        & 2        & 4        & 3       \\\\\n",
       "\t  91      & Female   & 20       & harmony  & harmony  & etc      & 3        & 0        & 1        & 1        & 3        & 1        & 2       \\\\\n",
       "\t  92      & Female   & 20       & harmony  & harmony  & etc      & 4        & 0        & 4        & 1        & 3        & 3        & 2       \\\\\n",
       "\t  93      & Female   & 20       & harmony  & harmony  & etc      & 1        & 0        & 4        & 1        & 2        & 1        & 5       \\\\\n",
       "\t  94      & Female   & 20       & harmony  & harmony  & clothes  & 4        & 0        & 1        & 1        & 2        & 4        & 3       \\\\\n",
       "\t  95      & Female   & 20       & harmony  & harmony  & etc      & 4        & 1        & 2        & 3        & 1        & 1        & 5       \\\\\n",
       "\t  96      & Male     & 20       & bright   & bright   & clothes  & 3        & 0        & 3        & 1        & 5        & 2        & 5       \\\\\n",
       "\t  97      & Female   & 20       & harmony  & harmony  & clothes  & 5        & 0        & 4        & 5        & 4        & 1        & 3       \\\\\n",
       "\t  98      & Female   & 10       & harmony  & harmony  & clothes  & 2        & 0        & 1        & 1        & 3        & 4        & 2       \\\\\n",
       "\t  99      & Male     & 20       & harmony  & harmony  & clothes  & 5        & 0        & 1        & 3        & 4        & 1        & 5       \\\\\n",
       "\t 100      & Male     & 30       & bright   & bright   & clothes  & 3        & 0        & 4        & 5        & 2        & 5        & 4       \\\\\n",
       "\t 101      & Female   & 20       & harmony  & bright   & etc      & 3        & 1        & 4        & 2        & 4        & 5        & 3       \\\\\n",
       "\t 102      & Male     & 20       & harmony  & harmony  & clothes  & 3        & 1        & 4        & 3        & 4        & 1        & 3       \\\\\n",
       "\t 103      & Female   & 20       & harmony  & bright   & etc      & 5        & 0        & 4        & 5        & 5        & 4        & 3       \\\\\n",
       "\t 104      & Female   & 20       & harmony  & harmony  & etc      & 4        & 0        & 3        & 3        & 3        & 3        & 4       \\\\\n",
       "\t 105      & Male     & 20       & harmony  & harmony  & clothes  & 3        & 0        & 1        & 3        & 5        & 3        & 4       \\\\\n",
       "\t 106      & Female   & 20       & harmony  & bright   & etc      & 3        & 1        & 4        & 5        & 1        & 3        & 1       \\\\\n",
       "\t 107      & Female   & 20       & harmony  & harmony  & clothes  & 3        & 0        & 4        & 4        & 2        & 4        & 4       \\\\\n",
       "\t 108      & Female   & 20       & harmony  & harmony  & cosmetic & 4        & 1        & 4        & 5        & 4        & 5        & 4       \\\\\n",
       "\t 109      & Male     & 20       & harmony  & harmony  & clothes  & 2        & 0        & 1        & 2        & 4        & 1        & 3       \\\\\n",
       "\t 110      & Female   & 20       & harmony  & harmony  & etc      & 4        & 1        & 3        & 4        & 2        & 4        & 4       \\\\\n",
       "\t 111      & Female   & 20       & harmony  & harmony  & etc      & 4        & 1        & 4        & 5        & 2        & 1        & 5       \\\\\n",
       "\t 112      & Female   & 30       & harmony  & harmony  & cosmetic & 4        & 0        & 2        & 2        & 4        & 1        & 3       \\\\\n",
       "\t 113      & Male     & 30       & harmony  & bright   & cosmetic & 2        & 1        & 4        & 5        & 2        & 4        & 3       \\\\\n",
       "\t 114      & Female   & 20       & bright   & harmony  & etc      & 4        & 0        & 5        & 4        & 1        & 2        & 5       \\\\\n",
       "\t 115      & Male     & 20       & bright   & harmony  & clothes  & 2        & 0        & 2        & 5        & 4        & 5        & 5       \\\\\n",
       "\t 116      & Female   & 20       & harmony  & bright   & clothes  & 3        & 0        & 5        & 5        & 4        & 2        & 1       \\\\\n",
       "\\end{tabular}\n"
      ],
      "text/markdown": [
       "\n",
       "| X | sex | age_class | definition | need | purpose | interest | comp | triangle1 | triangle2 | doubleness1 | doubleness2 | doubleness3 |\n",
       "|---|---|---|---|---|---|---|---|---|---|---|---|---|\n",
       "|  0       | Male     | 20       | harmony  | harmony  | clothes  | 5        | 0        | 5        | 2        | 3        | 2        | 2        |\n",
       "|  1       | Female   | 20       | bright   | harmony  | clothes  | 5        | 1        | 1        | 2        | 2        | 3        | 2        |\n",
       "|  2       | Female   | 20       | bright   | bright   | clothes  | 3        | 0        | 4        | 1        | 2        | 1        | 2        |\n",
       "|  3       | Female   | 20       | harmony  | harmony  | clothes  | 3        | 0        | 5        | 4        | 5        | 4        | 1        |\n",
       "|  4       | Female   | 20       | bright   | bright   | etc      | 4        | 0        | 2        | 1        | 1        | 2        | 2        |\n",
       "|  5       | Female   | 20       | harmony  | harmony  | etc      | 2        | 0        | 4        | 1        | 2        | 2        | 2        |\n",
       "|  6       | Female   | 20       | harmony  | harmony  | etc      | 5        | 1        | 4        | 5        | 3        | 3        | 3        |\n",
       "|  7       | Male     | 20       | harmony  | harmony  | clothes  | 3        | 1        | 1        | 3        | 1        | 5        | 5        |\n",
       "|  8       | Female   | 20       | harmony  | harmony  | clothes  | 4        | 1        | 4        | 1        | 1        | 2        | 2        |\n",
       "|  9       | Female   | 20       | bright   | bright   | clothes  | 4        | 0        | 5        | 2        | 2        | 1        | 5        |\n",
       "| 10       | Female   | 20       | harmony  | harmony  | etc      | 3        | 0        | 3        | 2        | 3        | 5        | 2        |\n",
       "| 11       | Male     | 20       | harmony  | harmony  | clothes  | 3        | 0        | 4        | 5        | 4        | 3        | 3        |\n",
       "| 12       | Female   | 20       | harmony  | harmony  | etc      | 3        | 1        | 4        | 3        | 3        | 1        | 2        |\n",
       "| 13       | Female   | 20       | bright   | bright   | cosmetic | 3        | 1        | 3        | 1        | 1        | 4        | 2        |\n",
       "| 14       | Female   | 20       | harmony  | harmony  | clothes  | 3        | 1        | 5        | 2        | 3        | 2        | 5        |\n",
       "| 15       | Female   | 50       | harmony  | harmony  | clothes  | 3        | 0        | 4        | 4        | 4        | 4        | 4        |\n",
       "| 16       | Female   | 20       | harmony  | bright   | etc      | 3        | 0        | 1        | 3        | 1        | 1        | 3        |\n",
       "| 17       | Female   | 20       | harmony  | harmony  | clothes  | 3        | 0        | 2        | 3        | 5        | 1        | 3        |\n",
       "| 18       | Male     | 20       | harmony  | harmony  | clothes  | 2        | 1        | 5        | 4        | 4        | 1        | 3        |\n",
       "| 19       | Female   | 20       | bright   | bright   | etc      | 3        | 0        | 2        | 5        | 2        | 2        | 1        |\n",
       "| 20       | Female   | 20       | harmony  | bright   | cosmetic | 4        | 0        | 4        | 4        | 1        | 4        | 1        |\n",
       "| 21       | Female   | 20       | harmony  | harmony  | cosmetic | 5        | 1        | 4        | 5        | 1        | 1        | 1        |\n",
       "| 22       | Female   | 20       | harmony  | harmony  | clothes  | 5        | 1        | 4        | 2        | 2        | 5        | 1        |\n",
       "| 23       | Female   | 20       | harmony  | harmony  | etc      | 5        | 1        | 4        | 5        | 2        | 1        | 5        |\n",
       "| 24       | Male     | 20       | harmony  | harmony  | clothes  | 2        | 1        | 3        | 4        | 2        | 3        | 2        |\n",
       "| 25       | Male     | 20       | harmony  | harmony  | clothes  | 2        | 0        | 1        | 3        | 1        | 4        | 2        |\n",
       "| 26       | Female   | 20       | bright   | bright   | etc      | 5        | 0        | 2        | 2        | 1        | 3        | 5        |\n",
       "| 27       | Female   | 20       | bright   | bright   | etc      | 4        | 0        | 4        | 4        | 4        | 5        | 5        |\n",
       "| 28       | Male     | 30       | harmony  | harmony  | clothes  | 3        | 0        | 1        | 1        | 3        | 2        | 2        |\n",
       "| 29       | Female   | 20       | harmony  | harmony  | clothes  | 3        | 0        | 5        | 1        | 1        | 1        | 5        |\n",
       "| ... | ... | ... | ... | ... | ... | ... | ... | ... | ... | ... | ... | ... |\n",
       "|  87      | Female   | 30       | bright   | bright   | etc      | 4        | 0        | 2        | 2        | 4        | 1        | 3        |\n",
       "|  88      | Female   | 30       | harmony  | bright   | cosmetic | 3        | 0        | 1        | 1        | 4        | 1        | 4        |\n",
       "|  89      | Female   | 20       | harmony  | harmony  | clothes  | 3        | 0        | 4        | 3        | 4        | 5        | 3        |\n",
       "|  90      | Female   | 20       | harmony  | harmony  | clothes  | 3        | 1        | 2        | 2        | 2        | 4        | 3        |\n",
       "|  91      | Female   | 20       | harmony  | harmony  | etc      | 3        | 0        | 1        | 1        | 3        | 1        | 2        |\n",
       "|  92      | Female   | 20       | harmony  | harmony  | etc      | 4        | 0        | 4        | 1        | 3        | 3        | 2        |\n",
       "|  93      | Female   | 20       | harmony  | harmony  | etc      | 1        | 0        | 4        | 1        | 2        | 1        | 5        |\n",
       "|  94      | Female   | 20       | harmony  | harmony  | clothes  | 4        | 0        | 1        | 1        | 2        | 4        | 3        |\n",
       "|  95      | Female   | 20       | harmony  | harmony  | etc      | 4        | 1        | 2        | 3        | 1        | 1        | 5        |\n",
       "|  96      | Male     | 20       | bright   | bright   | clothes  | 3        | 0        | 3        | 1        | 5        | 2        | 5        |\n",
       "|  97      | Female   | 20       | harmony  | harmony  | clothes  | 5        | 0        | 4        | 5        | 4        | 1        | 3        |\n",
       "|  98      | Female   | 10       | harmony  | harmony  | clothes  | 2        | 0        | 1        | 1        | 3        | 4        | 2        |\n",
       "|  99      | Male     | 20       | harmony  | harmony  | clothes  | 5        | 0        | 1        | 3        | 4        | 1        | 5        |\n",
       "| 100      | Male     | 30       | bright   | bright   | clothes  | 3        | 0        | 4        | 5        | 2        | 5        | 4        |\n",
       "| 101      | Female   | 20       | harmony  | bright   | etc      | 3        | 1        | 4        | 2        | 4        | 5        | 3        |\n",
       "| 102      | Male     | 20       | harmony  | harmony  | clothes  | 3        | 1        | 4        | 3        | 4        | 1        | 3        |\n",
       "| 103      | Female   | 20       | harmony  | bright   | etc      | 5        | 0        | 4        | 5        | 5        | 4        | 3        |\n",
       "| 104      | Female   | 20       | harmony  | harmony  | etc      | 4        | 0        | 3        | 3        | 3        | 3        | 4        |\n",
       "| 105      | Male     | 20       | harmony  | harmony  | clothes  | 3        | 0        | 1        | 3        | 5        | 3        | 4        |\n",
       "| 106      | Female   | 20       | harmony  | bright   | etc      | 3        | 1        | 4        | 5        | 1        | 3        | 1        |\n",
       "| 107      | Female   | 20       | harmony  | harmony  | clothes  | 3        | 0        | 4        | 4        | 2        | 4        | 4        |\n",
       "| 108      | Female   | 20       | harmony  | harmony  | cosmetic | 4        | 1        | 4        | 5        | 4        | 5        | 4        |\n",
       "| 109      | Male     | 20       | harmony  | harmony  | clothes  | 2        | 0        | 1        | 2        | 4        | 1        | 3        |\n",
       "| 110      | Female   | 20       | harmony  | harmony  | etc      | 4        | 1        | 3        | 4        | 2        | 4        | 4        |\n",
       "| 111      | Female   | 20       | harmony  | harmony  | etc      | 4        | 1        | 4        | 5        | 2        | 1        | 5        |\n",
       "| 112      | Female   | 30       | harmony  | harmony  | cosmetic | 4        | 0        | 2        | 2        | 4        | 1        | 3        |\n",
       "| 113      | Male     | 30       | harmony  | bright   | cosmetic | 2        | 1        | 4        | 5        | 2        | 4        | 3        |\n",
       "| 114      | Female   | 20       | bright   | harmony  | etc      | 4        | 0        | 5        | 4        | 1        | 2        | 5        |\n",
       "| 115      | Male     | 20       | bright   | harmony  | clothes  | 2        | 0        | 2        | 5        | 4        | 5        | 5        |\n",
       "| 116      | Female   | 20       | harmony  | bright   | clothes  | 3        | 0        | 5        | 5        | 4        | 2        | 1        |\n",
       "\n"
      ],
      "text/plain": [
       "    X   sex    age_class definition need    purpose  interest comp triangle1\n",
       "1    0  Male   20        harmony    harmony clothes  5        0    5        \n",
       "2    1  Female 20        bright     harmony clothes  5        1    1        \n",
       "3    2  Female 20        bright     bright  clothes  3        0    4        \n",
       "4    3  Female 20        harmony    harmony clothes  3        0    5        \n",
       "5    4  Female 20        bright     bright  etc      4        0    2        \n",
       "6    5  Female 20        harmony    harmony etc      2        0    4        \n",
       "7    6  Female 20        harmony    harmony etc      5        1    4        \n",
       "8    7  Male   20        harmony    harmony clothes  3        1    1        \n",
       "9    8  Female 20        harmony    harmony clothes  4        1    4        \n",
       "10   9  Female 20        bright     bright  clothes  4        0    5        \n",
       "11  10  Female 20        harmony    harmony etc      3        0    3        \n",
       "12  11  Male   20        harmony    harmony clothes  3        0    4        \n",
       "13  12  Female 20        harmony    harmony etc      3        1    4        \n",
       "14  13  Female 20        bright     bright  cosmetic 3        1    3        \n",
       "15  14  Female 20        harmony    harmony clothes  3        1    5        \n",
       "16  15  Female 50        harmony    harmony clothes  3        0    4        \n",
       "17  16  Female 20        harmony    bright  etc      3        0    1        \n",
       "18  17  Female 20        harmony    harmony clothes  3        0    2        \n",
       "19  18  Male   20        harmony    harmony clothes  2        1    5        \n",
       "20  19  Female 20        bright     bright  etc      3        0    2        \n",
       "21  20  Female 20        harmony    bright  cosmetic 4        0    4        \n",
       "22  21  Female 20        harmony    harmony cosmetic 5        1    4        \n",
       "23  22  Female 20        harmony    harmony clothes  5        1    4        \n",
       "24  23  Female 20        harmony    harmony etc      5        1    4        \n",
       "25  24  Male   20        harmony    harmony clothes  2        1    3        \n",
       "26  25  Male   20        harmony    harmony clothes  2        0    1        \n",
       "27  26  Female 20        bright     bright  etc      5        0    2        \n",
       "28  27  Female 20        bright     bright  etc      4        0    4        \n",
       "29  28  Male   30        harmony    harmony clothes  3        0    1        \n",
       "30  29  Female 20        harmony    harmony clothes  3        0    5        \n",
       "... ... ...    ...       ...        ...     ...      ...      ...  ...      \n",
       "88   87 Female 30        bright     bright  etc      4        0    2        \n",
       "89   88 Female 30        harmony    bright  cosmetic 3        0    1        \n",
       "90   89 Female 20        harmony    harmony clothes  3        0    4        \n",
       "91   90 Female 20        harmony    harmony clothes  3        1    2        \n",
       "92   91 Female 20        harmony    harmony etc      3        0    1        \n",
       "93   92 Female 20        harmony    harmony etc      4        0    4        \n",
       "94   93 Female 20        harmony    harmony etc      1        0    4        \n",
       "95   94 Female 20        harmony    harmony clothes  4        0    1        \n",
       "96   95 Female 20        harmony    harmony etc      4        1    2        \n",
       "97   96 Male   20        bright     bright  clothes  3        0    3        \n",
       "98   97 Female 20        harmony    harmony clothes  5        0    4        \n",
       "99   98 Female 10        harmony    harmony clothes  2        0    1        \n",
       "100  99 Male   20        harmony    harmony clothes  5        0    1        \n",
       "101 100 Male   30        bright     bright  clothes  3        0    4        \n",
       "102 101 Female 20        harmony    bright  etc      3        1    4        \n",
       "103 102 Male   20        harmony    harmony clothes  3        1    4        \n",
       "104 103 Female 20        harmony    bright  etc      5        0    4        \n",
       "105 104 Female 20        harmony    harmony etc      4        0    3        \n",
       "106 105 Male   20        harmony    harmony clothes  3        0    1        \n",
       "107 106 Female 20        harmony    bright  etc      3        1    4        \n",
       "108 107 Female 20        harmony    harmony clothes  3        0    4        \n",
       "109 108 Female 20        harmony    harmony cosmetic 4        1    4        \n",
       "110 109 Male   20        harmony    harmony clothes  2        0    1        \n",
       "111 110 Female 20        harmony    harmony etc      4        1    3        \n",
       "112 111 Female 20        harmony    harmony etc      4        1    4        \n",
       "113 112 Female 30        harmony    harmony cosmetic 4        0    2        \n",
       "114 113 Male   30        harmony    bright  cosmetic 2        1    4        \n",
       "115 114 Female 20        bright     harmony etc      4        0    5        \n",
       "116 115 Male   20        bright     harmony clothes  2        0    2        \n",
       "117 116 Female 20        harmony    bright  clothes  3        0    5        \n",
       "    triangle2 doubleness1 doubleness2 doubleness3\n",
       "1   2         3           2           2          \n",
       "2   2         2           3           2          \n",
       "3   1         2           1           2          \n",
       "4   4         5           4           1          \n",
       "5   1         1           2           2          \n",
       "6   1         2           2           2          \n",
       "7   5         3           3           3          \n",
       "8   3         1           5           5          \n",
       "9   1         1           2           2          \n",
       "10  2         2           1           5          \n",
       "11  2         3           5           2          \n",
       "12  5         4           3           3          \n",
       "13  3         3           1           2          \n",
       "14  1         1           4           2          \n",
       "15  2         3           2           5          \n",
       "16  4         4           4           4          \n",
       "17  3         1           1           3          \n",
       "18  3         5           1           3          \n",
       "19  4         4           1           3          \n",
       "20  5         2           2           1          \n",
       "21  4         1           4           1          \n",
       "22  5         1           1           1          \n",
       "23  2         2           5           1          \n",
       "24  5         2           1           5          \n",
       "25  4         2           3           2          \n",
       "26  3         1           4           2          \n",
       "27  2         1           3           5          \n",
       "28  4         4           5           5          \n",
       "29  1         3           2           2          \n",
       "30  1         1           1           5          \n",
       "... ...       ...         ...         ...        \n",
       "88  2         4           1           3          \n",
       "89  1         4           1           4          \n",
       "90  3         4           5           3          \n",
       "91  2         2           4           3          \n",
       "92  1         3           1           2          \n",
       "93  1         3           3           2          \n",
       "94  1         2           1           5          \n",
       "95  1         2           4           3          \n",
       "96  3         1           1           5          \n",
       "97  1         5           2           5          \n",
       "98  5         4           1           3          \n",
       "99  1         3           4           2          \n",
       "100 3         4           1           5          \n",
       "101 5         2           5           4          \n",
       "102 2         4           5           3          \n",
       "103 3         4           1           3          \n",
       "104 5         5           4           3          \n",
       "105 3         3           3           4          \n",
       "106 3         5           3           4          \n",
       "107 5         1           3           1          \n",
       "108 4         2           4           4          \n",
       "109 5         4           5           4          \n",
       "110 2         4           1           3          \n",
       "111 4         2           4           4          \n",
       "112 5         2           1           5          \n",
       "113 2         4           1           3          \n",
       "114 5         2           4           3          \n",
       "115 4         1           2           5          \n",
       "116 5         4           5           5          \n",
       "117 5         4           2           1          "
      ]
     },
     "metadata": {},
     "output_type": "display_data"
    }
   ],
   "source": [
    "total1[is.na(total1)] <- 0\n",
    "total1"
   ]
  },
  {
   "cell_type": "code",
   "execution_count": 7,
   "metadata": {
    "scrolled": false
   },
   "outputs": [
    {
     "data": {
      "text/plain": [
       "\n",
       "Call:\n",
       "glm(formula = comp ~ sex + definition + need + purpose + interest, \n",
       "    family = binomial, data = total1)\n",
       "\n",
       "Deviance Residuals: \n",
       "    Min       1Q   Median       3Q      Max  \n",
       "-1.4567  -0.9487  -0.7770   1.1757   1.9904  \n",
       "\n",
       "Coefficients:\n",
       "                  Estimate Std. Error z value Pr(>|z|)   \n",
       "(Intercept)        -2.6520     0.9881  -2.684  0.00728 **\n",
       "sexMale             0.2046     0.5655   0.362  0.71748   \n",
       "definitionharmony   0.7894     0.5585   1.414  0.15748   \n",
       "needharmony         0.3763     0.4622   0.814  0.41554   \n",
       "purposecosmetic     0.3975     0.6037   0.659  0.51020   \n",
       "purposeetc          0.5517     0.5232   1.054  0.29168   \n",
       "interest            0.2732     0.2094   1.305  0.19197   \n",
       "---\n",
       "Signif. codes:  0 '***' 0.001 '**' 0.01 '*' 0.05 '.' 0.1 ' ' 1\n",
       "\n",
       "(Dispersion parameter for binomial family taken to be 1)\n",
       "\n",
       "    Null deviance: 154.93  on 116  degrees of freedom\n",
       "Residual deviance: 147.83  on 110  degrees of freedom\n",
       "AIC: 161.83\n",
       "\n",
       "Number of Fisher Scoring iterations: 4\n"
      ]
     },
     "metadata": {},
     "output_type": "display_data"
    }
   ],
   "source": [
    "result <- glm(comp ~ sex + definition + need + purpose \n",
    "              + interest, family=binomial, data=total1)\n",
    "\n",
    "summary(result)"
   ]
  },
  {
   "cell_type": "markdown",
   "metadata": {},
   "source": [
    "# Train, Test 나눠서"
   ]
  },
  {
   "cell_type": "code",
   "execution_count": 8,
   "metadata": {},
   "outputs": [
    {
     "data": {
      "text/plain": [
       "\n",
       "Call:\n",
       "glm(formula = comp ~ sex + definition + need + purpose + interest, \n",
       "    family = binomial, data = train)\n",
       "\n",
       "Deviance Residuals: \n",
       "    Min       1Q   Median       3Q      Max  \n",
       "-1.3095  -0.9706  -0.6379   1.0568   1.9336  \n",
       "\n",
       "Coefficients:\n",
       "                  Estimate Std. Error z value Pr(>|z|)  \n",
       "(Intercept)       -2.99701    1.23016  -2.436   0.0148 *\n",
       "sexMale           -0.66076    0.72466  -0.912   0.3619  \n",
       "definitionharmony  0.14154    0.68376   0.207   0.8360  \n",
       "needharmony        1.23770    0.62295   1.987   0.0469 *\n",
       "purposecosmetic   -0.22000    0.74391  -0.296   0.7674  \n",
       "purposeetc        -0.09704    0.62673  -0.155   0.8769  \n",
       "interest           0.50504    0.26692   1.892   0.0585 .\n",
       "---\n",
       "Signif. codes:  0 '***' 0.001 '**' 0.01 '*' 0.05 '.' 0.1 ' ' 1\n",
       "\n",
       "(Dispersion parameter for binomial family taken to be 1)\n",
       "\n",
       "    Null deviance: 106.819  on 79  degrees of freedom\n",
       "Residual deviance:  97.222  on 73  degrees of freedom\n",
       "AIC: 111.22\n",
       "\n",
       "Number of Fisher Scoring iterations: 4\n"
      ]
     },
     "metadata": {},
     "output_type": "display_data"
    }
   ],
   "source": [
    "train<-total1[1:80, ]\n",
    "test<-total1[81:117, ]\n",
    "model <- glm(comp ~ sex + definition + need + purpose \n",
    "              + interest, data =train, family = binomial)\n",
    "summary(model)"
   ]
  },
  {
   "cell_type": "code",
   "execution_count": 9,
   "metadata": {
    "scrolled": true
   },
   "outputs": [
    {
     "data": {
      "text/html": [
       "<table>\n",
       "<thead><tr><th></th><th scope=col>Df</th><th scope=col>Deviance</th><th scope=col>Resid. Df</th><th scope=col>Resid. Dev</th><th scope=col>Pr(&gt;Chi)</th></tr></thead>\n",
       "<tbody>\n",
       "\t<tr><th scope=row>NULL</th><td>NA        </td><td>        NA</td><td>79        </td><td>106.81867 </td><td>        NA</td></tr>\n",
       "\t<tr><th scope=row>sex</th><td> 1        </td><td>0.10958545</td><td>78        </td><td>106.70908 </td><td>0.74061659</td></tr>\n",
       "\t<tr><th scope=row>definition</th><td> 1        </td><td>1.21510424</td><td>77        </td><td>105.49398 </td><td>0.27032359</td></tr>\n",
       "\t<tr><th scope=row>need</th><td> 1        </td><td>4.36617656</td><td>76        </td><td>101.12780 </td><td>0.03665916</td></tr>\n",
       "\t<tr><th scope=row>purpose</th><td> 2        </td><td>0.03175402</td><td>74        </td><td>101.09605 </td><td>0.98424836</td></tr>\n",
       "\t<tr><th scope=row>interest</th><td> 1        </td><td>3.87402879</td><td>73        </td><td> 97.22202 </td><td>0.04903867</td></tr>\n",
       "</tbody>\n",
       "</table>\n"
      ],
      "text/latex": [
       "\\begin{tabular}{r|lllll}\n",
       "  & Df & Deviance & Resid. Df & Resid. Dev & Pr(>Chi)\\\\\n",
       "\\hline\n",
       "\tNULL & NA         &         NA & 79         & 106.81867  &         NA\\\\\n",
       "\tsex &  1         & 0.10958545 & 78         & 106.70908  & 0.74061659\\\\\n",
       "\tdefinition &  1         & 1.21510424 & 77         & 105.49398  & 0.27032359\\\\\n",
       "\tneed &  1         & 4.36617656 & 76         & 101.12780  & 0.03665916\\\\\n",
       "\tpurpose &  2         & 0.03175402 & 74         & 101.09605  & 0.98424836\\\\\n",
       "\tinterest &  1         & 3.87402879 & 73         &  97.22202  & 0.04903867\\\\\n",
       "\\end{tabular}\n"
      ],
      "text/markdown": [
       "\n",
       "| <!--/--> | Df | Deviance | Resid. Df | Resid. Dev | Pr(>Chi) |\n",
       "|---|---|---|---|---|---|\n",
       "| NULL | NA         |         NA | 79         | 106.81867  |         NA |\n",
       "| sex |  1         | 0.10958545 | 78         | 106.70908  | 0.74061659 |\n",
       "| definition |  1         | 1.21510424 | 77         | 105.49398  | 0.27032359 |\n",
       "| need |  1         | 4.36617656 | 76         | 101.12780  | 0.03665916 |\n",
       "| purpose |  2         | 0.03175402 | 74         | 101.09605  | 0.98424836 |\n",
       "| interest |  1         | 3.87402879 | 73         |  97.22202  | 0.04903867 |\n",
       "\n"
      ],
      "text/plain": [
       "           Df Deviance   Resid. Df Resid. Dev Pr(>Chi)  \n",
       "NULL       NA         NA 79        106.81867          NA\n",
       "sex         1 0.10958545 78        106.70908  0.74061659\n",
       "definition  1 1.21510424 77        105.49398  0.27032359\n",
       "need        1 4.36617656 76        101.12780  0.03665916\n",
       "purpose     2 0.03175402 74        101.09605  0.98424836\n",
       "interest    1 3.87402879 73         97.22202  0.04903867"
      ]
     },
     "metadata": {},
     "output_type": "display_data"
    }
   ],
   "source": [
    "anova(model, test=\"Chisq\")"
   ]
  },
  {
   "cell_type": "code",
   "execution_count": 10,
   "metadata": {
    "scrolled": false
   },
   "outputs": [
    {
     "data": {
      "image/png": "[encoded data removed]",
      "text/plain": [
       "plot without title"
      ]
     },
     "metadata": {},
     "output_type": "display_data"
    }
   ],
   "source": [
    " p <- predict(model, newdata=test, type=\"response\")\n",
    "pr <- prediction(p, test$comp)\n",
    "prf <- performance(pr, measure = \"tpr\", x.measure = \"fpr\")\n",
    " plot(prf)"
   ]
  },
  {
   "cell_type": "code",
   "execution_count": 11,
   "metadata": {},
   "outputs": [
    {
     "data": {
      "text/plain": [
       "\n",
       "Call:\n",
       "glm(formula = comp ~ sex + definition + need + purpose + interest, \n",
       "    family = binomial, data = total1_1)\n",
       "\n",
       "Deviance Residuals: \n",
       "    Min       1Q   Median       3Q      Max  \n",
       "-1.3605  -0.9499  -0.7651   1.2106   2.0179  \n",
       "\n",
       "Coefficients:\n",
       "                  Estimate Std. Error z value Pr(>|z|)   \n",
       "(Intercept)        -2.3930     0.8666  -2.761  0.00575 **\n",
       "sexMale             0.1657     0.5630   0.294  0.76856   \n",
       "definitionharmony   0.8170     0.5621   1.454  0.14608   \n",
       "needharmony         0.3390     0.4640   0.731  0.46505   \n",
       "purposecosmetic     0.3206     0.6074   0.528  0.59763   \n",
       "purposeetc          0.4984     0.5262   0.947  0.34364   \n",
       "interest            0.4968     0.4074   1.219  0.22270   \n",
       "---\n",
       "Signif. codes:  0 '***' 0.001 '**' 0.01 '*' 0.05 '.' 0.1 ' ' 1\n",
       "\n",
       "(Dispersion parameter for binomial family taken to be 1)\n",
       "\n",
       "    Null deviance: 154.93  on 116  degrees of freedom\n",
       "Residual deviance: 148.07  on 110  degrees of freedom\n",
       "AIC: 162.07\n",
       "\n",
       "Number of Fisher Scoring iterations: 4\n"
      ]
     },
     "metadata": {},
     "output_type": "display_data"
    }
   ],
   "source": [
    "total1_1 <- read.csv(\"C:/Users/acorn/Desktop/work/Project/전처리/1번설문/comp1,123~45.csv\")\n",
    "total1_1[is.na(total1_1)] <- 0\n",
    "\n",
    "result <- glm(comp ~ sex + definition + need + purpose \n",
    "              + interest, family=binomial, data=total1_1)\n",
    "\n",
    "summary(result)"
   ]
  },
  {
   "cell_type": "code",
   "execution_count": 12,
   "metadata": {},
   "outputs": [
    {
     "data": {
      "text/plain": [
       "\n",
       "Call:\n",
       "glm(formula = comp ~ sex + definition + need + purpose + interest, \n",
       "    family = binomial, data = total1_2)\n",
       "\n",
       "Deviance Residuals: \n",
       "    Min       1Q   Median       3Q      Max  \n",
       "-1.3168  -0.9638  -0.7774   1.2180   1.9104  \n",
       "\n",
       "Coefficients:\n",
       "                  Estimate Std. Error z value Pr(>|z|)  \n",
       "(Intercept)        -2.1477     1.2970  -1.656   0.0978 .\n",
       "sexMale             0.2407     0.5735   0.420   0.6747  \n",
       "definitionharmony   0.6924     0.5503   1.258   0.2083  \n",
       "needharmony         0.4307     0.4638   0.928   0.3532  \n",
       "purposecosmetic     0.4310     0.6008   0.717   0.4732  \n",
       "purposeetc          0.6070     0.5202   1.167   0.2433  \n",
       "interest            0.2494     0.5771   0.432   0.6656  \n",
       "---\n",
       "Signif. codes:  0 '***' 0.001 '**' 0.01 '*' 0.05 '.' 0.1 ' ' 1\n",
       "\n",
       "(Dispersion parameter for binomial family taken to be 1)\n",
       "\n",
       "    Null deviance: 154.93  on 116  degrees of freedom\n",
       "Residual deviance: 149.38  on 110  degrees of freedom\n",
       "AIC: 163.38\n",
       "\n",
       "Number of Fisher Scoring iterations: 4\n"
      ]
     },
     "metadata": {},
     "output_type": "display_data"
    }
   ],
   "source": [
    "total1_2 <- read.csv(\"C:/Users/acorn/Desktop/work/Project/전처리/1번설문/comp1,12~345.csv\")\n",
    "total1_2[is.na(total1_2)] <- 0\n",
    "\n",
    "result <- glm(comp ~ sex + definition + need + purpose \n",
    "              + interest, family=binomial, data=total1_2)\n",
    "\n",
    "summary(result)"
   ]
  },
  {
   "cell_type": "code",
   "execution_count": 13,
   "metadata": {},
   "outputs": [
    {
     "data": {
      "text/plain": [
       "\n",
       "Call:\n",
       "glm(formula = comp ~ sex + definition + need + purpose + interest, \n",
       "    family = binomial, data = total2)\n",
       "\n",
       "Deviance Residuals: \n",
       "    Min       1Q   Median       3Q      Max  \n",
       "-1.0326  -0.6170  -0.4932  -0.4028   2.2593  \n",
       "\n",
       "Coefficients:\n",
       "                  Estimate Std. Error z value Pr(>|z|)  \n",
       "(Intercept)       -0.06728    1.18021  -0.057   0.9545  \n",
       "sexMale           -0.69792    0.69798  -1.000   0.3174  \n",
       "definitionharmony -0.16100    0.64221  -0.251   0.8020  \n",
       "needharmony       -0.74149    0.57985  -1.279   0.2010  \n",
       "purposecosmetic   -1.05040    0.77278  -1.359   0.1741  \n",
       "purposeetc        -1.12346    0.66204  -1.697   0.0897 .\n",
       "interest          -0.09447    0.27838  -0.339   0.7343  \n",
       "---\n",
       "Signif. codes:  0 '***' 0.001 '**' 0.01 '*' 0.05 '.' 0.1 ' ' 1\n",
       "\n",
       "(Dispersion parameter for binomial family taken to be 1)\n",
       "\n",
       "    Null deviance: 103.806  on 116  degrees of freedom\n",
       "Residual deviance:  98.236  on 110  degrees of freedom\n",
       "AIC: 112.24\n",
       "\n",
       "Number of Fisher Scoring iterations: 4\n"
      ]
     },
     "metadata": {},
     "output_type": "display_data"
    }
   ],
   "source": [
    "total2 <- read.csv(\"C:/Users/acorn/Desktop/work/Project/전처리/1번설문/comp2.csv\")\n",
    "total2[is.na(total2)] <- 0\n",
    "\n",
    "result <- glm(comp ~ sex + definition + need + purpose \n",
    "              + interest, family=binomial, data=total2)\n",
    "\n",
    "summary(result)"
   ]
  },
  {
   "cell_type": "code",
   "execution_count": 14,
   "metadata": {
    "scrolled": false
   },
   "outputs": [
    {
     "data": {
      "text/plain": [
       "\n",
       "Call:\n",
       "glm(formula = comp ~ sex + definition + need + purpose + interest, \n",
       "    family = binomial, data = total3)\n",
       "\n",
       "Deviance Residuals: \n",
       "    Min       1Q   Median       3Q      Max  \n",
       "-1.0893  -0.5816  -0.4653  -0.2689   2.5839  \n",
       "\n",
       "Coefficients:\n",
       "                  Estimate Std. Error z value Pr(>|z|)  \n",
       "(Intercept)        -0.2966     1.2504  -0.237   0.8125  \n",
       "sexMale             0.4649     0.8459   0.550   0.5826  \n",
       "definitionharmony  -1.3723     0.7342  -1.869   0.0616 .\n",
       "needharmony         1.2195     0.7448   1.637   0.1015  \n",
       "purposecosmetic     0.6589     0.9241   0.713   0.4758  \n",
       "purposeetc          0.9204     0.7790   1.182   0.2374  \n",
       "interest           -0.5730     0.2827  -2.027   0.0426 *\n",
       "---\n",
       "Signif. codes:  0 '***' 0.001 '**' 0.01 '*' 0.05 '.' 0.1 ' ' 1\n",
       "\n",
       "(Dispersion parameter for binomial family taken to be 1)\n",
       "\n",
       "    Null deviance: 96.985  on 116  degrees of freedom\n",
       "Residual deviance: 88.031  on 110  degrees of freedom\n",
       "AIC: 102.03\n",
       "\n",
       "Number of Fisher Scoring iterations: 5\n"
      ]
     },
     "metadata": {},
     "output_type": "display_data"
    }
   ],
   "source": [
    "total3 <- read.csv(\"C:/Users/acorn/Desktop/work/Project/전처리/1번설문/comp3.csv\")\n",
    "total3[is.na(total3)] <- 0\n",
    "\n",
    "result <- glm(comp ~ sex + definition + need + purpose \n",
    "              + interest, family=binomial, data=total3)\n",
    "\n",
    "summary(result)"
   ]
  },
  {
   "cell_type": "code",
   "execution_count": 15,
   "metadata": {},
   "outputs": [
    {
     "data": {
      "text/plain": [
       "\n",
       "Call:\n",
       "glm(formula = comp ~ sex + definition + need + purpose + interest, \n",
       "    family = binomial, data = total3_1)\n",
       "\n",
       "Deviance Residuals: \n",
       "    Min       1Q   Median       3Q      Max  \n",
       "-1.3605  -0.9499  -0.7651   1.2106   2.0179  \n",
       "\n",
       "Coefficients:\n",
       "                  Estimate Std. Error z value Pr(>|z|)   \n",
       "(Intercept)        -2.3930     0.8666  -2.761  0.00575 **\n",
       "sexMale             0.1657     0.5630   0.294  0.76856   \n",
       "definitionharmony   0.8170     0.5621   1.454  0.14608   \n",
       "needharmony         0.3390     0.4640   0.731  0.46505   \n",
       "purposecosmetic     0.3206     0.6074   0.528  0.59763   \n",
       "purposeetc          0.4984     0.5262   0.947  0.34364   \n",
       "interest            0.4968     0.4074   1.219  0.22270   \n",
       "---\n",
       "Signif. codes:  0 '***' 0.001 '**' 0.01 '*' 0.05 '.' 0.1 ' ' 1\n",
       "\n",
       "(Dispersion parameter for binomial family taken to be 1)\n",
       "\n",
       "    Null deviance: 154.93  on 116  degrees of freedom\n",
       "Residual deviance: 148.07  on 110  degrees of freedom\n",
       "AIC: 162.07\n",
       "\n",
       "Number of Fisher Scoring iterations: 4\n"
      ]
     },
     "metadata": {},
     "output_type": "display_data"
    }
   ],
   "source": [
    "total3_1 <- read.csv(\"C:/Users/acorn/Desktop/work/Project/전처리/1번설문/comp1,123~45.csv\")\n",
    "total3_1[is.na(total3_1)] <- 0\n",
    "\n",
    "result <- glm(comp ~ sex + definition + need + purpose \n",
    "              + interest, family=binomial, data=total3_1)\n",
    "\n",
    "summary(result)"
   ]
  },
  {
   "cell_type": "code",
   "execution_count": 16,
   "metadata": {},
   "outputs": [
    {
     "data": {
      "text/plain": [
       "\n",
       "Call:\n",
       "glm(formula = comp ~ sex + definition + need + purpose + interest, \n",
       "    family = binomial, data = total3_2)\n",
       "\n",
       "Deviance Residuals: \n",
       "    Min       1Q   Median       3Q      Max  \n",
       "-1.3168  -0.9638  -0.7774   1.2180   1.9104  \n",
       "\n",
       "Coefficients:\n",
       "                  Estimate Std. Error z value Pr(>|z|)  \n",
       "(Intercept)        -2.1477     1.2970  -1.656   0.0978 .\n",
       "sexMale             0.2407     0.5735   0.420   0.6747  \n",
       "definitionharmony   0.6924     0.5503   1.258   0.2083  \n",
       "needharmony         0.4307     0.4638   0.928   0.3532  \n",
       "purposecosmetic     0.4310     0.6008   0.717   0.4732  \n",
       "purposeetc          0.6070     0.5202   1.167   0.2433  \n",
       "interest            0.2494     0.5771   0.432   0.6656  \n",
       "---\n",
       "Signif. codes:  0 '***' 0.001 '**' 0.01 '*' 0.05 '.' 0.1 ' ' 1\n",
       "\n",
       "(Dispersion parameter for binomial family taken to be 1)\n",
       "\n",
       "    Null deviance: 154.93  on 116  degrees of freedom\n",
       "Residual deviance: 149.38  on 110  degrees of freedom\n",
       "AIC: 163.38\n",
       "\n",
       "Number of Fisher Scoring iterations: 4\n"
      ]
     },
     "metadata": {},
     "output_type": "display_data"
    }
   ],
   "source": [
    "total3_2 <- read.csv(\"C:/Users/acorn/Desktop/work/Project/전처리/1번설문/comp1,12~345.csv\")\n",
    "total3_2[is.na(total3_2)] <- 0\n",
    "\n",
    "result <- glm(comp ~ sex + definition + need + purpose \n",
    "              + interest, family=binomial, data=total3_2)\n",
    "\n",
    "summary(result)"
   ]
  },
  {
   "cell_type": "code",
   "execution_count": 17,
   "metadata": {},
   "outputs": [
    {
     "data": {
      "text/plain": [
       "\n",
       "Call:\n",
       "glm(formula = comp ~ sex + definition + need + purpose + interest, \n",
       "    family = binomial, data = total4)\n",
       "\n",
       "Deviance Residuals: \n",
       "    Min       1Q   Median       3Q      Max  \n",
       "-0.7146  -0.5324  -0.4385  -0.3868   2.3009  \n",
       "\n",
       "Coefficients:\n",
       "                  Estimate Std. Error z value Pr(>|z|)\n",
       "(Intercept)       -1.04464    1.35602  -0.770    0.441\n",
       "sexMale           -0.09383    0.82817  -0.113    0.910\n",
       "definitionharmony -0.10669    0.74220  -0.144    0.886\n",
       "needharmony       -0.67301    0.66898  -1.006    0.314\n",
       "purposecosmetic   -0.06521    0.85112  -0.077    0.939\n",
       "purposeetc        -0.35550    0.78915  -0.450    0.652\n",
       "interest          -0.12513    0.31718  -0.395    0.693\n",
       "\n",
       "(Dispersion parameter for binomial family taken to be 1)\n",
       "\n",
       "    Null deviance: 81.627  on 116  degrees of freedom\n",
       "Residual deviance: 79.773  on 110  degrees of freedom\n",
       "AIC: 93.773\n",
       "\n",
       "Number of Fisher Scoring iterations: 5\n"
      ]
     },
     "metadata": {},
     "output_type": "display_data"
    }
   ],
   "source": [
    "total4 <- read.csv(\"C:/Users/acorn/Desktop/work/Project/전처리/1번설문/comp4.csv\")\n",
    "total4[is.na(total4)] <- 0\n",
    "\n",
    "result <- glm(comp ~ sex + definition + need + purpose \n",
    "              + interest, family=binomial, data=total4)\n",
    "\n",
    "summary(result)"
   ]
  },
  {
   "cell_type": "code",
   "execution_count": 18,
   "metadata": {
    "scrolled": false
   },
   "outputs": [
    {
     "data": {
      "text/plain": [
       "\n",
       "Call:\n",
       "glm(formula = comp ~ sex + definition + need + purpose + interest, \n",
       "    family = binomial, data = total5)\n",
       "\n",
       "Deviance Residuals: \n",
       "    Min       1Q   Median       3Q      Max  \n",
       "-0.8382  -0.7006  -0.6405  -0.5667   1.9240  \n",
       "\n",
       "Coefficients:\n",
       "                   Estimate Std. Error z value Pr(>|z|)  \n",
       "(Intercept)       -1.956505   1.096110  -1.785   0.0743 .\n",
       "sexMale            0.108758   0.639242   0.170   0.8649  \n",
       "definitionharmony  0.090458   0.606566   0.149   0.8814  \n",
       "needharmony       -0.223015   0.526664  -0.423   0.6720  \n",
       "purposecosmetic    0.005884   0.687705   0.009   0.9932  \n",
       "purposeetc        -0.191209   0.606936  -0.315   0.7527  \n",
       "interest           0.200127   0.245741   0.814   0.4154  \n",
       "---\n",
       "Signif. codes:  0 '***' 0.001 '**' 0.01 '*' 0.05 '.' 0.1 ' ' 1\n",
       "\n",
       "(Dispersion parameter for binomial family taken to be 1)\n",
       "\n",
       "    Null deviance: 118.74  on 116  degrees of freedom\n",
       "Residual deviance: 117.75  on 110  degrees of freedom\n",
       "AIC: 131.75\n",
       "\n",
       "Number of Fisher Scoring iterations: 4\n"
      ]
     },
     "metadata": {},
     "output_type": "display_data"
    }
   ],
   "source": [
    "total5 <- read.csv(\"C:/Users/acorn/Desktop/work/Project/전처리/1번설문/comp5.csv\")\n",
    "total5[is.na(total5)] <- 0\n",
    "\n",
    "result <- glm(comp ~ sex + definition + need + purpose \n",
    "              + interest, family=binomial, data=total5)\n",
    "\n",
    "summary(result)"
   ]
  },
  {
   "cell_type": "code",
   "execution_count": 19,
   "metadata": {},
   "outputs": [],
   "source": [
    "total <- read.csv(\"C:/Users/acorn/Desktop/work/Project/전처리/1번설문/change_bright.csv\")"
   ]
  },
  {
   "cell_type": "code",
   "execution_count": 20,
   "metadata": {},
   "outputs": [
    {
     "name": "stderr",
     "output_type": "stream",
     "text": [
      "Warning message:\n",
      "\"package 'dplyr' was built under R version 3.6.3\"\n",
      "Attaching package: 'dplyr'\n",
      "\n",
      "The following objects are masked from 'package:stats':\n",
      "\n",
      "    filter, lag\n",
      "\n",
      "The following objects are masked from 'package:base':\n",
      "\n",
      "    intersect, setdiff, setequal, union\n",
      "\n"
     ]
    }
   ],
   "source": [
    "library(dplyr)"
   ]
  },
  {
   "cell_type": "code",
   "execution_count": 21,
   "metadata": {
    "scrolled": true
   },
   "outputs": [
    {
     "data": {
      "text/html": [
       "<table>\n",
       "<thead><tr><th scope=col>X</th><th scope=col>sex</th><th scope=col>age_class</th><th scope=col>definition</th><th scope=col>need</th><th scope=col>purpose</th><th scope=col>interest</th><th scope=col>comp</th><th scope=col>triangle1</th><th scope=col>triangle2</th><th scope=col>doubleness1</th><th scope=col>doubleness2</th><th scope=col>doubleness3</th></tr></thead>\n",
       "<tbody>\n",
       "\t<tr><td>0      </td><td>Male   </td><td>20     </td><td>harmony</td><td>harmony</td><td>clothes</td><td>5      </td><td>4      </td><td>5      </td><td>2      </td><td>3      </td><td>2      </td><td>2      </td></tr>\n",
       "\t<tr><td>1      </td><td>Female </td><td>20     </td><td>bright </td><td>harmony</td><td>clothes</td><td>5      </td><td>1      </td><td>1      </td><td>2      </td><td>2      </td><td>3      </td><td>2      </td></tr>\n",
       "\t<tr><td>2      </td><td>Female </td><td>20     </td><td>bright </td><td>bright </td><td>clothes</td><td>3      </td><td>2      </td><td>4      </td><td>1      </td><td>2      </td><td>1      </td><td>2      </td></tr>\n",
       "\t<tr><td>3      </td><td>Female </td><td>20     </td><td>harmony</td><td>harmony</td><td>clothes</td><td>3      </td><td>5      </td><td>5      </td><td>4      </td><td>5      </td><td>4      </td><td>1      </td></tr>\n",
       "\t<tr><td>4      </td><td>Female </td><td>20     </td><td>bright </td><td>bright </td><td>etc    </td><td>4      </td><td>4      </td><td>2      </td><td>1      </td><td>1      </td><td>2      </td><td>2      </td></tr>\n",
       "\t<tr><td>5      </td><td>Female </td><td>20     </td><td>harmony</td><td>harmony</td><td>etc    </td><td>2      </td><td>3      </td><td>4      </td><td>1      </td><td>2      </td><td>2      </td><td>2      </td></tr>\n",
       "</tbody>\n",
       "</table>\n"
      ],
      "text/latex": [
       "\\begin{tabular}{r|lllllllllllll}\n",
       " X & sex & age\\_class & definition & need & purpose & interest & comp & triangle1 & triangle2 & doubleness1 & doubleness2 & doubleness3\\\\\n",
       "\\hline\n",
       "\t 0       & Male    & 20      & harmony & harmony & clothes & 5       & 4       & 5       & 2       & 3       & 2       & 2      \\\\\n",
       "\t 1       & Female  & 20      & bright  & harmony & clothes & 5       & 1       & 1       & 2       & 2       & 3       & 2      \\\\\n",
       "\t 2       & Female  & 20      & bright  & bright  & clothes & 3       & 2       & 4       & 1       & 2       & 1       & 2      \\\\\n",
       "\t 3       & Female  & 20      & harmony & harmony & clothes & 3       & 5       & 5       & 4       & 5       & 4       & 1      \\\\\n",
       "\t 4       & Female  & 20      & bright  & bright  & etc     & 4       & 4       & 2       & 1       & 1       & 2       & 2      \\\\\n",
       "\t 5       & Female  & 20      & harmony & harmony & etc     & 2       & 3       & 4       & 1       & 2       & 2       & 2      \\\\\n",
       "\\end{tabular}\n"
      ],
      "text/markdown": [
       "\n",
       "| X | sex | age_class | definition | need | purpose | interest | comp | triangle1 | triangle2 | doubleness1 | doubleness2 | doubleness3 |\n",
       "|---|---|---|---|---|---|---|---|---|---|---|---|---|\n",
       "| 0       | Male    | 20      | harmony | harmony | clothes | 5       | 4       | 5       | 2       | 3       | 2       | 2       |\n",
       "| 1       | Female  | 20      | bright  | harmony | clothes | 5       | 1       | 1       | 2       | 2       | 3       | 2       |\n",
       "| 2       | Female  | 20      | bright  | bright  | clothes | 3       | 2       | 4       | 1       | 2       | 1       | 2       |\n",
       "| 3       | Female  | 20      | harmony | harmony | clothes | 3       | 5       | 5       | 4       | 5       | 4       | 1       |\n",
       "| 4       | Female  | 20      | bright  | bright  | etc     | 4       | 4       | 2       | 1       | 1       | 2       | 2       |\n",
       "| 5       | Female  | 20      | harmony | harmony | etc     | 2       | 3       | 4       | 1       | 2       | 2       | 2       |\n",
       "\n"
      ],
      "text/plain": [
       "  X sex    age_class definition need    purpose interest comp triangle1\n",
       "1 0 Male   20        harmony    harmony clothes 5        4    5        \n",
       "2 1 Female 20        bright     harmony clothes 5        1    1        \n",
       "3 2 Female 20        bright     bright  clothes 3        2    4        \n",
       "4 3 Female 20        harmony    harmony clothes 3        5    5        \n",
       "5 4 Female 20        bright     bright  etc     4        4    2        \n",
       "6 5 Female 20        harmony    harmony etc     2        3    4        \n",
       "  triangle2 doubleness1 doubleness2 doubleness3\n",
       "1 2         3           2           2          \n",
       "2 2         2           3           2          \n",
       "3 1         2           1           2          \n",
       "4 4         5           4           1          \n",
       "5 1         1           2           2          \n",
       "6 1         2           2           2          "
      ]
     },
     "metadata": {},
     "output_type": "display_data"
    }
   ],
   "source": [
    "head(total)"
   ]
  },
  {
   "cell_type": "code",
   "execution_count": 22,
   "metadata": {},
   "outputs": [],
   "source": [
    "total$t1_1 <- case_when(\n",
    "    total$triangle1 == 1 ~ 1,\n",
    "    total$triangle1 != 1 ~ 0)\n",
    "\n",
    "total$t1_2 <- case_when(\n",
    "    total$triangle1 == 2 ~ 1,\n",
    "    total$triangle1 != 2 ~ 0)\n",
    "\n",
    "total$t1_3 <- case_when(\n",
    "    total$triangle1 == 3 ~ 1,\n",
    "    total$triangle1 != 3 ~ 0)\n",
    "\n",
    "total$t1_4 <- case_when(\n",
    "    total$triangle1 == 4 ~ 1,\n",
    "    total$triangle1 != 4 ~ 0)\n",
    "\n",
    "total$t1_5 <- case_when(\n",
    "    total$triangle1 == 5 ~ 1,\n",
    "    total$triangle1 != 5 ~ 0)"
   ]
  },
  {
   "cell_type": "code",
   "execution_count": 23,
   "metadata": {},
   "outputs": [],
   "source": [
    "total$t2_1 <- case_when(\n",
    "    total$triangle2 == 1 ~ 1,\n",
    "    total$triangle2 != 1 ~ 0)\n",
    "\n",
    "total$t2_2 <- case_when(\n",
    "    total$triangle2 == 2 ~ 1,\n",
    "    total$triangle2 != 2 ~ 0)\n",
    "\n",
    "total$t2_3 <- case_when(\n",
    "    total$triangle2 == 3 ~ 1,\n",
    "    total$triangle2 != 3 ~ 0)\n",
    "\n",
    "total$t2_4 <- case_when(\n",
    "    total$triangle2 == 4 ~ 1,\n",
    "    total$triangle2 != 4 ~ 0)\n",
    "\n",
    "total$t2_5 <- case_when(\n",
    "    total$triangle2 == 5 ~ 1,\n",
    "    total$triangle2 != 5 ~ 0)"
   ]
  },
  {
   "cell_type": "code",
   "execution_count": 24,
   "metadata": {},
   "outputs": [],
   "source": [
    "total$d1_1 <- case_when(\n",
    "    total$doubleness1 == 1 ~ 1,\n",
    "    total$doubleness1 != 1 ~ 0)\n",
    "\n",
    "total$d1_2 <- case_when(\n",
    "    total$doubleness1 == 2 ~ 1,\n",
    "    total$doubleness1 != 2 ~ 0)\n",
    "\n",
    "total$d1_3 <- case_when(\n",
    "    total$doubleness1 == 3 ~ 1,\n",
    "    total$doubleness1 != 3 ~ 0)\n",
    "\n",
    "total$d1_4 <- case_when(\n",
    "    total$doubleness1 == 4 ~ 1,\n",
    "    total$doubleness1 != 4 ~ 0)\n",
    "\n",
    "total$d1_5 <- case_when(\n",
    "    total$doubleness1 == 5 ~ 1,\n",
    "    total$doubleness1 != 5 ~ 0)"
   ]
  },
  {
   "cell_type": "code",
   "execution_count": 25,
   "metadata": {},
   "outputs": [],
   "source": [
    "total$d2_1 <- case_when(\n",
    "    total$doubleness2 == 1 ~ 1,\n",
    "    total$doubleness2 != 1 ~ 0)\n",
    "\n",
    "total$d2_2 <- case_when(\n",
    "    total$doubleness2 == 2 ~ 1,\n",
    "    total$doubleness2 != 2 ~ 0)\n",
    "\n",
    "total$d2_3 <- case_when(\n",
    "    total$doubleness2 == 3 ~ 1,\n",
    "    total$doubleness2 != 3 ~ 0)\n",
    "\n",
    "total$d2_4 <- case_when(\n",
    "    total$doubleness2 == 4 ~ 1,\n",
    "    total$doubleness2 != 4 ~ 0)\n",
    "\n",
    "total$d2_5 <- case_when(\n",
    "    total$doubleness2 == 5 ~ 1,\n",
    "    total$doubleness2 != 5 ~ 0)"
   ]
  },
  {
   "cell_type": "code",
   "execution_count": 26,
   "metadata": {},
   "outputs": [],
   "source": [
    "total$d3_1 <- case_when(\n",
    "    total$doubleness3 == 1 ~ 1,\n",
    "    total$doubleness3 != 1 ~ 0)\n",
    "\n",
    "total$d3_2 <- case_when(\n",
    "    total$doubleness3 == 2 ~ 1,\n",
    "    total$doubleness3 != 2 ~ 0)\n",
    "\n",
    "total$d3_3 <- case_when(\n",
    "    total$doubleness3 == 3 ~ 1,\n",
    "    total$doubleness3 != 3 ~ 0)\n",
    "\n",
    "total$d3_4 <- case_when(\n",
    "    total$doubleness3 == 4 ~ 1,\n",
    "    total$doubleness3 != 4 ~ 0)\n",
    "\n",
    "total$d3_5 <- case_when(\n",
    "    total$doubleness3 == 5 ~ 1,\n",
    "    total$doubleness3 != 5 ~ 0)"
   ]
  },
  {
   "cell_type": "code",
   "execution_count": 27,
   "metadata": {
    "scrolled": true
   },
   "outputs": [
    {
     "data": {
      "text/html": [
       "<table>\n",
       "<thead><tr><th scope=col>X</th><th scope=col>sex</th><th scope=col>age_class</th><th scope=col>definition</th><th scope=col>need</th><th scope=col>purpose</th><th scope=col>interest</th><th scope=col>comp</th><th scope=col>triangle1</th><th scope=col>triangle2</th><th scope=col>...</th><th scope=col>d2_1</th><th scope=col>d2_2</th><th scope=col>d2_3</th><th scope=col>d2_4</th><th scope=col>d2_5</th><th scope=col>d3_1</th><th scope=col>d3_2</th><th scope=col>d3_3</th><th scope=col>d3_4</th><th scope=col>d3_5</th></tr></thead>\n",
       "<tbody>\n",
       "\t<tr><td> 0      </td><td>Male    </td><td>20      </td><td>harmony </td><td>harmony </td><td>clothes </td><td>5       </td><td>4       </td><td>5       </td><td>2       </td><td>...     </td><td>0       </td><td>1       </td><td>0       </td><td>0       </td><td>0       </td><td>0       </td><td>1       </td><td>0       </td><td>0       </td><td>0       </td></tr>\n",
       "\t<tr><td> 1      </td><td>Female  </td><td>20      </td><td>bright  </td><td>harmony </td><td>clothes </td><td>5       </td><td>1       </td><td>1       </td><td>2       </td><td>...     </td><td>0       </td><td>0       </td><td>1       </td><td>0       </td><td>0       </td><td>0       </td><td>1       </td><td>0       </td><td>0       </td><td>0       </td></tr>\n",
       "\t<tr><td> 2      </td><td>Female  </td><td>20      </td><td>bright  </td><td>bright  </td><td>clothes </td><td>3       </td><td>2       </td><td>4       </td><td>1       </td><td>...     </td><td>1       </td><td>0       </td><td>0       </td><td>0       </td><td>0       </td><td>0       </td><td>1       </td><td>0       </td><td>0       </td><td>0       </td></tr>\n",
       "\t<tr><td> 3      </td><td>Female  </td><td>20      </td><td>harmony </td><td>harmony </td><td>clothes </td><td>3       </td><td>5       </td><td>5       </td><td>4       </td><td>...     </td><td>0       </td><td>0       </td><td>0       </td><td>1       </td><td>0       </td><td>1       </td><td>0       </td><td>0       </td><td>0       </td><td>0       </td></tr>\n",
       "\t<tr><td> 4      </td><td>Female  </td><td>20      </td><td>bright  </td><td>bright  </td><td>etc     </td><td>4       </td><td>4       </td><td>2       </td><td>1       </td><td>...     </td><td>0       </td><td>1       </td><td>0       </td><td>0       </td><td>0       </td><td>0       </td><td>1       </td><td>0       </td><td>0       </td><td>0       </td></tr>\n",
       "\t<tr><td> 5      </td><td>Female  </td><td>20      </td><td>harmony </td><td>harmony </td><td>etc     </td><td>2       </td><td>3       </td><td>4       </td><td>1       </td><td>...     </td><td>0       </td><td>1       </td><td>0       </td><td>0       </td><td>0       </td><td>0       </td><td>1       </td><td>0       </td><td>0       </td><td>0       </td></tr>\n",
       "\t<tr><td> 6      </td><td>Female  </td><td>20      </td><td>harmony </td><td>harmony </td><td>etc     </td><td>5       </td><td>1       </td><td>4       </td><td>5       </td><td>...     </td><td>0       </td><td>0       </td><td>1       </td><td>0       </td><td>0       </td><td>0       </td><td>0       </td><td>1       </td><td>0       </td><td>0       </td></tr>\n",
       "\t<tr><td> 7      </td><td>Male    </td><td>20      </td><td>harmony </td><td>harmony </td><td>clothes </td><td>3       </td><td>1       </td><td>1       </td><td>3       </td><td>...     </td><td>0       </td><td>0       </td><td>0       </td><td>0       </td><td>1       </td><td>0       </td><td>0       </td><td>0       </td><td>0       </td><td>1       </td></tr>\n",
       "\t<tr><td> 8      </td><td>Female  </td><td>20      </td><td>harmony </td><td>harmony </td><td>clothes </td><td>4       </td><td>1       </td><td>4       </td><td>1       </td><td>...     </td><td>0       </td><td>1       </td><td>0       </td><td>0       </td><td>0       </td><td>0       </td><td>1       </td><td>0       </td><td>0       </td><td>0       </td></tr>\n",
       "\t<tr><td> 9      </td><td>Female  </td><td>20      </td><td>bright  </td><td>bright  </td><td>clothes </td><td>4       </td><td>5       </td><td>5       </td><td>2       </td><td>...     </td><td>1       </td><td>0       </td><td>0       </td><td>0       </td><td>0       </td><td>0       </td><td>0       </td><td>0       </td><td>0       </td><td>1       </td></tr>\n",
       "\t<tr><td>10      </td><td>Female  </td><td>20      </td><td>harmony </td><td>harmony </td><td>etc     </td><td>3       </td><td>5       </td><td>3       </td><td>2       </td><td>...     </td><td>0       </td><td>0       </td><td>0       </td><td>0       </td><td>1       </td><td>0       </td><td>1       </td><td>0       </td><td>0       </td><td>0       </td></tr>\n",
       "\t<tr><td>11      </td><td>Male    </td><td>20      </td><td>harmony </td><td>harmony </td><td>clothes </td><td>3       </td><td>5       </td><td>4       </td><td>5       </td><td>...     </td><td>0       </td><td>0       </td><td>1       </td><td>0       </td><td>0       </td><td>0       </td><td>0       </td><td>1       </td><td>0       </td><td>0       </td></tr>\n",
       "\t<tr><td>12      </td><td>Female  </td><td>20      </td><td>harmony </td><td>harmony </td><td>etc     </td><td>3       </td><td>1       </td><td>4       </td><td>3       </td><td>...     </td><td>1       </td><td>0       </td><td>0       </td><td>0       </td><td>0       </td><td>0       </td><td>1       </td><td>0       </td><td>0       </td><td>0       </td></tr>\n",
       "\t<tr><td>13      </td><td>Female  </td><td>20      </td><td>bright  </td><td>bright  </td><td>cosmetic</td><td>3       </td><td>1       </td><td>3       </td><td>1       </td><td>...     </td><td>0       </td><td>0       </td><td>0       </td><td>1       </td><td>0       </td><td>0       </td><td>1       </td><td>0       </td><td>0       </td><td>0       </td></tr>\n",
       "\t<tr><td>14      </td><td>Female  </td><td>20      </td><td>harmony </td><td>harmony </td><td>clothes </td><td>3       </td><td>1       </td><td>5       </td><td>2       </td><td>...     </td><td>0       </td><td>1       </td><td>0       </td><td>0       </td><td>0       </td><td>0       </td><td>0       </td><td>0       </td><td>0       </td><td>1       </td></tr>\n",
       "\t<tr><td>15      </td><td>Female  </td><td>50      </td><td>harmony </td><td>harmony </td><td>clothes </td><td>3       </td><td>2       </td><td>4       </td><td>4       </td><td>...     </td><td>0       </td><td>0       </td><td>0       </td><td>1       </td><td>0       </td><td>0       </td><td>0       </td><td>0       </td><td>1       </td><td>0       </td></tr>\n",
       "\t<tr><td>16      </td><td>Female  </td><td>20      </td><td>harmony </td><td>bright  </td><td>etc     </td><td>3       </td><td>2       </td><td>1       </td><td>3       </td><td>...     </td><td>1       </td><td>0       </td><td>0       </td><td>0       </td><td>0       </td><td>0       </td><td>0       </td><td>1       </td><td>0       </td><td>0       </td></tr>\n",
       "\t<tr><td>17      </td><td>Female  </td><td>20      </td><td>harmony </td><td>harmony </td><td>clothes </td><td>3       </td><td>3       </td><td>2       </td><td>3       </td><td>...     </td><td>1       </td><td>0       </td><td>0       </td><td>0       </td><td>0       </td><td>0       </td><td>0       </td><td>1       </td><td>0       </td><td>0       </td></tr>\n",
       "\t<tr><td>18      </td><td>Male    </td><td>20      </td><td>harmony </td><td>harmony </td><td>clothes </td><td>2       </td><td>1       </td><td>5       </td><td>4       </td><td>...     </td><td>1       </td><td>0       </td><td>0       </td><td>0       </td><td>0       </td><td>0       </td><td>0       </td><td>1       </td><td>0       </td><td>0       </td></tr>\n",
       "\t<tr><td>19      </td><td>Female  </td><td>20      </td><td>bright  </td><td>bright  </td><td>etc     </td><td>3       </td><td>5       </td><td>2       </td><td>5       </td><td>...     </td><td>0       </td><td>1       </td><td>0       </td><td>0       </td><td>0       </td><td>1       </td><td>0       </td><td>0       </td><td>0       </td><td>0       </td></tr>\n",
       "\t<tr><td>20      </td><td>Female  </td><td>20      </td><td>harmony </td><td>bright  </td><td>cosmetic</td><td>4       </td><td>3       </td><td>4       </td><td>4       </td><td>...     </td><td>0       </td><td>0       </td><td>0       </td><td>1       </td><td>0       </td><td>1       </td><td>0       </td><td>0       </td><td>0       </td><td>0       </td></tr>\n",
       "\t<tr><td>21      </td><td>Female  </td><td>20      </td><td>harmony </td><td>harmony </td><td>cosmetic</td><td>5       </td><td>1       </td><td>4       </td><td>5       </td><td>...     </td><td>1       </td><td>0       </td><td>0       </td><td>0       </td><td>0       </td><td>1       </td><td>0       </td><td>0       </td><td>0       </td><td>0       </td></tr>\n",
       "\t<tr><td>22      </td><td>Female  </td><td>20      </td><td>harmony </td><td>harmony </td><td>clothes </td><td>5       </td><td>1       </td><td>4       </td><td>2       </td><td>...     </td><td>0       </td><td>0       </td><td>0       </td><td>0       </td><td>1       </td><td>1       </td><td>0       </td><td>0       </td><td>0       </td><td>0       </td></tr>\n",
       "\t<tr><td>23      </td><td>Female  </td><td>20      </td><td>harmony </td><td>harmony </td><td>etc     </td><td>5       </td><td>1       </td><td>4       </td><td>5       </td><td>...     </td><td>1       </td><td>0       </td><td>0       </td><td>0       </td><td>0       </td><td>0       </td><td>0       </td><td>0       </td><td>0       </td><td>1       </td></tr>\n",
       "\t<tr><td>24      </td><td>Male    </td><td>20      </td><td>harmony </td><td>harmony </td><td>clothes </td><td>2       </td><td>1       </td><td>3       </td><td>4       </td><td>...     </td><td>0       </td><td>0       </td><td>1       </td><td>0       </td><td>0       </td><td>0       </td><td>1       </td><td>0       </td><td>0       </td><td>0       </td></tr>\n",
       "\t<tr><td>25      </td><td>Male    </td><td>20      </td><td>harmony </td><td>harmony </td><td>clothes </td><td>2       </td><td>2       </td><td>1       </td><td>3       </td><td>...     </td><td>0       </td><td>0       </td><td>0       </td><td>1       </td><td>0       </td><td>0       </td><td>1       </td><td>0       </td><td>0       </td><td>0       </td></tr>\n",
       "\t<tr><td>26      </td><td>Female  </td><td>20      </td><td>bright  </td><td>bright  </td><td>etc     </td><td>5       </td><td>2       </td><td>2       </td><td>2       </td><td>...     </td><td>0       </td><td>0       </td><td>1       </td><td>0       </td><td>0       </td><td>0       </td><td>0       </td><td>0       </td><td>0       </td><td>1       </td></tr>\n",
       "\t<tr><td>27      </td><td>Female  </td><td>20      </td><td>bright  </td><td>bright  </td><td>etc     </td><td>4       </td><td>3       </td><td>4       </td><td>4       </td><td>...     </td><td>0       </td><td>0       </td><td>0       </td><td>0       </td><td>1       </td><td>0       </td><td>0       </td><td>0       </td><td>0       </td><td>1       </td></tr>\n",
       "\t<tr><td>28      </td><td>Male    </td><td>30      </td><td>harmony </td><td>harmony </td><td>clothes </td><td>3       </td><td>4       </td><td>1       </td><td>1       </td><td>...     </td><td>0       </td><td>1       </td><td>0       </td><td>0       </td><td>0       </td><td>0       </td><td>1       </td><td>0       </td><td>0       </td><td>0       </td></tr>\n",
       "\t<tr><td>29      </td><td>Female  </td><td>20      </td><td>harmony </td><td>harmony </td><td>clothes </td><td>3       </td><td>3       </td><td>5       </td><td>1       </td><td>...     </td><td>1       </td><td>0       </td><td>0       </td><td>0       </td><td>0       </td><td>0       </td><td>0       </td><td>0       </td><td>0       </td><td>1       </td></tr>\n",
       "\t<tr><td>...</td><td>...</td><td>...</td><td>...</td><td>...</td><td>...</td><td>...</td><td>...</td><td>...</td><td>...</td><td>   </td><td>...</td><td>...</td><td>...</td><td>...</td><td>...</td><td>...</td><td>...</td><td>...</td><td>...</td><td>...</td></tr>\n",
       "\t<tr><td> 87     </td><td>Female  </td><td>30      </td><td>bright  </td><td>bright  </td><td>etc     </td><td>4       </td><td>3       </td><td>2       </td><td>2       </td><td>...     </td><td>1       </td><td>0       </td><td>0       </td><td>0       </td><td>0       </td><td>0       </td><td>0       </td><td>1       </td><td>0       </td><td>0       </td></tr>\n",
       "\t<tr><td> 88     </td><td>Female  </td><td>30      </td><td>harmony </td><td>bright  </td><td>cosmetic</td><td>3       </td><td>5       </td><td>1       </td><td>1       </td><td>...     </td><td>1       </td><td>0       </td><td>0       </td><td>0       </td><td>0       </td><td>0       </td><td>0       </td><td>0       </td><td>1       </td><td>0       </td></tr>\n",
       "\t<tr><td> 89     </td><td>Female  </td><td>20      </td><td>harmony </td><td>harmony </td><td>clothes </td><td>3       </td><td>5       </td><td>4       </td><td>3       </td><td>...     </td><td>0       </td><td>0       </td><td>0       </td><td>0       </td><td>1       </td><td>0       </td><td>0       </td><td>1       </td><td>0       </td><td>0       </td></tr>\n",
       "\t<tr><td> 90     </td><td>Female  </td><td>20      </td><td>harmony </td><td>harmony </td><td>clothes </td><td>3       </td><td>1       </td><td>2       </td><td>2       </td><td>...     </td><td>0       </td><td>0       </td><td>0       </td><td>1       </td><td>0       </td><td>0       </td><td>0       </td><td>1       </td><td>0       </td><td>0       </td></tr>\n",
       "\t<tr><td> 91     </td><td>Female  </td><td>20      </td><td>harmony </td><td>harmony </td><td>etc     </td><td>3       </td><td>2       </td><td>1       </td><td>1       </td><td>...     </td><td>1       </td><td>0       </td><td>0       </td><td>0       </td><td>0       </td><td>0       </td><td>1       </td><td>0       </td><td>0       </td><td>0       </td></tr>\n",
       "\t<tr><td> 92     </td><td>Female  </td><td>20      </td><td>harmony </td><td>harmony </td><td>etc     </td><td>4       </td><td>5       </td><td>4       </td><td>1       </td><td>...     </td><td>0       </td><td>0       </td><td>1       </td><td>0       </td><td>0       </td><td>0       </td><td>1       </td><td>0       </td><td>0       </td><td>0       </td></tr>\n",
       "\t<tr><td> 93     </td><td>Female  </td><td>20      </td><td>harmony </td><td>harmony </td><td>etc     </td><td>1       </td><td>3       </td><td>4       </td><td>1       </td><td>...     </td><td>1       </td><td>0       </td><td>0       </td><td>0       </td><td>0       </td><td>0       </td><td>0       </td><td>0       </td><td>0       </td><td>1       </td></tr>\n",
       "\t<tr><td> 94     </td><td>Female  </td><td>20      </td><td>harmony </td><td>harmony </td><td>clothes </td><td>4       </td><td>2       </td><td>1       </td><td>1       </td><td>...     </td><td>0       </td><td>0       </td><td>0       </td><td>1       </td><td>0       </td><td>0       </td><td>0       </td><td>1       </td><td>0       </td><td>0       </td></tr>\n",
       "\t<tr><td> 95     </td><td>Female  </td><td>20      </td><td>harmony </td><td>harmony </td><td>etc     </td><td>4       </td><td>1       </td><td>2       </td><td>3       </td><td>...     </td><td>1       </td><td>0       </td><td>0       </td><td>0       </td><td>0       </td><td>0       </td><td>0       </td><td>0       </td><td>0       </td><td>1       </td></tr>\n",
       "\t<tr><td> 96     </td><td>Male    </td><td>20      </td><td>bright  </td><td>bright  </td><td>clothes </td><td>3       </td><td>5       </td><td>3       </td><td>1       </td><td>...     </td><td>0       </td><td>1       </td><td>0       </td><td>0       </td><td>0       </td><td>0       </td><td>0       </td><td>0       </td><td>0       </td><td>1       </td></tr>\n",
       "\t<tr><td> 97     </td><td>Female  </td><td>20      </td><td>harmony </td><td>harmony </td><td>clothes </td><td>5       </td><td>5       </td><td>4       </td><td>5       </td><td>...     </td><td>1       </td><td>0       </td><td>0       </td><td>0       </td><td>0       </td><td>0       </td><td>0       </td><td>1       </td><td>0       </td><td>0       </td></tr>\n",
       "\t<tr><td> 98     </td><td>Female  </td><td>10      </td><td>harmony </td><td>harmony </td><td>clothes </td><td>2       </td><td>4       </td><td>1       </td><td>1       </td><td>...     </td><td>0       </td><td>0       </td><td>0       </td><td>1       </td><td>0       </td><td>0       </td><td>1       </td><td>0       </td><td>0       </td><td>0       </td></tr>\n",
       "\t<tr><td> 99     </td><td>Male    </td><td>20      </td><td>harmony </td><td>harmony </td><td>clothes </td><td>5       </td><td>3       </td><td>1       </td><td>3       </td><td>...     </td><td>1       </td><td>0       </td><td>0       </td><td>0       </td><td>0       </td><td>0       </td><td>0       </td><td>0       </td><td>0       </td><td>1       </td></tr>\n",
       "\t<tr><td>100     </td><td>Male    </td><td>30      </td><td>bright  </td><td>bright  </td><td>clothes </td><td>3       </td><td>3       </td><td>4       </td><td>5       </td><td>...     </td><td>0       </td><td>0       </td><td>0       </td><td>0       </td><td>1       </td><td>0       </td><td>0       </td><td>0       </td><td>1       </td><td>0       </td></tr>\n",
       "\t<tr><td>101     </td><td>Female  </td><td>20      </td><td>harmony </td><td>bright  </td><td>etc     </td><td>3       </td><td>1       </td><td>4       </td><td>2       </td><td>...     </td><td>0       </td><td>0       </td><td>0       </td><td>0       </td><td>1       </td><td>0       </td><td>0       </td><td>1       </td><td>0       </td><td>0       </td></tr>\n",
       "\t<tr><td>102     </td><td>Male    </td><td>20      </td><td>harmony </td><td>harmony </td><td>clothes </td><td>3       </td><td>1       </td><td>4       </td><td>3       </td><td>...     </td><td>1       </td><td>0       </td><td>0       </td><td>0       </td><td>0       </td><td>0       </td><td>0       </td><td>1       </td><td>0       </td><td>0       </td></tr>\n",
       "\t<tr><td>103     </td><td>Female  </td><td>20      </td><td>harmony </td><td>bright  </td><td>etc     </td><td>5       </td><td>5       </td><td>4       </td><td>5       </td><td>...     </td><td>0       </td><td>0       </td><td>0       </td><td>1       </td><td>0       </td><td>0       </td><td>0       </td><td>1       </td><td>0       </td><td>0       </td></tr>\n",
       "\t<tr><td>104     </td><td>Female  </td><td>20      </td><td>harmony </td><td>harmony </td><td>etc     </td><td>4       </td><td>3       </td><td>3       </td><td>3       </td><td>...     </td><td>0       </td><td>0       </td><td>1       </td><td>0       </td><td>0       </td><td>0       </td><td>0       </td><td>0       </td><td>1       </td><td>0       </td></tr>\n",
       "\t<tr><td>105     </td><td>Male    </td><td>20      </td><td>harmony </td><td>harmony </td><td>clothes </td><td>3       </td><td>5       </td><td>1       </td><td>3       </td><td>...     </td><td>0       </td><td>0       </td><td>1       </td><td>0       </td><td>0       </td><td>0       </td><td>0       </td><td>0       </td><td>1       </td><td>0       </td></tr>\n",
       "\t<tr><td>106     </td><td>Female  </td><td>20      </td><td>harmony </td><td>bright  </td><td>etc     </td><td>3       </td><td>1       </td><td>4       </td><td>5       </td><td>...     </td><td>0       </td><td>0       </td><td>1       </td><td>0       </td><td>0       </td><td>1       </td><td>0       </td><td>0       </td><td>0       </td><td>0       </td></tr>\n",
       "\t<tr><td>107     </td><td>Female  </td><td>20      </td><td>harmony </td><td>harmony </td><td>clothes </td><td>3       </td><td>2       </td><td>4       </td><td>4       </td><td>...     </td><td>0       </td><td>0       </td><td>0       </td><td>1       </td><td>0       </td><td>0       </td><td>0       </td><td>0       </td><td>1       </td><td>0       </td></tr>\n",
       "\t<tr><td>108     </td><td>Female  </td><td>20      </td><td>harmony </td><td>harmony </td><td>cosmetic</td><td>4       </td><td>1       </td><td>4       </td><td>5       </td><td>...     </td><td>0       </td><td>0       </td><td>0       </td><td>0       </td><td>1       </td><td>0       </td><td>0       </td><td>0       </td><td>1       </td><td>0       </td></tr>\n",
       "\t<tr><td>109     </td><td>Male    </td><td>20      </td><td>harmony </td><td>harmony </td><td>clothes </td><td>2       </td><td>2       </td><td>1       </td><td>2       </td><td>...     </td><td>1       </td><td>0       </td><td>0       </td><td>0       </td><td>0       </td><td>0       </td><td>0       </td><td>1       </td><td>0       </td><td>0       </td></tr>\n",
       "\t<tr><td>110     </td><td>Female  </td><td>20      </td><td>harmony </td><td>harmony </td><td>etc     </td><td>4       </td><td>1       </td><td>3       </td><td>4       </td><td>...     </td><td>0       </td><td>0       </td><td>0       </td><td>1       </td><td>0       </td><td>0       </td><td>0       </td><td>0       </td><td>1       </td><td>0       </td></tr>\n",
       "\t<tr><td>111     </td><td>Female  </td><td>20      </td><td>harmony </td><td>harmony </td><td>etc     </td><td>4       </td><td>1       </td><td>4       </td><td>5       </td><td>...     </td><td>1       </td><td>0       </td><td>0       </td><td>0       </td><td>0       </td><td>0       </td><td>0       </td><td>0       </td><td>0       </td><td>1       </td></tr>\n",
       "\t<tr><td>112     </td><td>Female  </td><td>30      </td><td>harmony </td><td>harmony </td><td>cosmetic</td><td>4       </td><td>4       </td><td>2       </td><td>2       </td><td>...     </td><td>1       </td><td>0       </td><td>0       </td><td>0       </td><td>0       </td><td>0       </td><td>0       </td><td>1       </td><td>0       </td><td>0       </td></tr>\n",
       "\t<tr><td>113     </td><td>Male    </td><td>30      </td><td>harmony </td><td>bright  </td><td>cosmetic</td><td>2       </td><td>1       </td><td>4       </td><td>5       </td><td>...     </td><td>0       </td><td>0       </td><td>0       </td><td>1       </td><td>0       </td><td>0       </td><td>0       </td><td>1       </td><td>0       </td><td>0       </td></tr>\n",
       "\t<tr><td>114     </td><td>Female  </td><td>20      </td><td>bright  </td><td>harmony </td><td>etc     </td><td>4       </td><td>4       </td><td>5       </td><td>4       </td><td>...     </td><td>0       </td><td>1       </td><td>0       </td><td>0       </td><td>0       </td><td>0       </td><td>0       </td><td>0       </td><td>0       </td><td>1       </td></tr>\n",
       "\t<tr><td>115     </td><td>Male    </td><td>20      </td><td>bright  </td><td>harmony </td><td>clothes </td><td>2       </td><td>3       </td><td>2       </td><td>5       </td><td>...     </td><td>0       </td><td>0       </td><td>0       </td><td>0       </td><td>1       </td><td>0       </td><td>0       </td><td>0       </td><td>0       </td><td>1       </td></tr>\n",
       "\t<tr><td>116     </td><td>Female  </td><td>20      </td><td>harmony </td><td>bright  </td><td>clothes </td><td>3       </td><td>2       </td><td>5       </td><td>5       </td><td>...     </td><td>0       </td><td>1       </td><td>0       </td><td>0       </td><td>0       </td><td>1       </td><td>0       </td><td>0       </td><td>0       </td><td>0       </td></tr>\n",
       "</tbody>\n",
       "</table>\n"
      ],
      "text/latex": [
       "\\begin{tabular}{r|llllllllllllllllllllllllllllllllllllll}\n",
       " X & sex & age\\_class & definition & need & purpose & interest & comp & triangle1 & triangle2 & ... & d2\\_1 & d2\\_2 & d2\\_3 & d2\\_4 & d2\\_5 & d3\\_1 & d3\\_2 & d3\\_3 & d3\\_4 & d3\\_5\\\\\n",
       "\\hline\n",
       "\t  0       & Male     & 20       & harmony  & harmony  & clothes  & 5        & 4        & 5        & 2        & ...      & 0        & 1        & 0        & 0        & 0        & 0        & 1        & 0        & 0        & 0       \\\\\n",
       "\t  1       & Female   & 20       & bright   & harmony  & clothes  & 5        & 1        & 1        & 2        & ...      & 0        & 0        & 1        & 0        & 0        & 0        & 1        & 0        & 0        & 0       \\\\\n",
       "\t  2       & Female   & 20       & bright   & bright   & clothes  & 3        & 2        & 4        & 1        & ...      & 1        & 0        & 0        & 0        & 0        & 0        & 1        & 0        & 0        & 0       \\\\\n",
       "\t  3       & Female   & 20       & harmony  & harmony  & clothes  & 3        & 5        & 5        & 4        & ...      & 0        & 0        & 0        & 1        & 0        & 1        & 0        & 0        & 0        & 0       \\\\\n",
       "\t  4       & Female   & 20       & bright   & bright   & etc      & 4        & 4        & 2        & 1        & ...      & 0        & 1        & 0        & 0        & 0        & 0        & 1        & 0        & 0        & 0       \\\\\n",
       "\t  5       & Female   & 20       & harmony  & harmony  & etc      & 2        & 3        & 4        & 1        & ...      & 0        & 1        & 0        & 0        & 0        & 0        & 1        & 0        & 0        & 0       \\\\\n",
       "\t  6       & Female   & 20       & harmony  & harmony  & etc      & 5        & 1        & 4        & 5        & ...      & 0        & 0        & 1        & 0        & 0        & 0        & 0        & 1        & 0        & 0       \\\\\n",
       "\t  7       & Male     & 20       & harmony  & harmony  & clothes  & 3        & 1        & 1        & 3        & ...      & 0        & 0        & 0        & 0        & 1        & 0        & 0        & 0        & 0        & 1       \\\\\n",
       "\t  8       & Female   & 20       & harmony  & harmony  & clothes  & 4        & 1        & 4        & 1        & ...      & 0        & 1        & 0        & 0        & 0        & 0        & 1        & 0        & 0        & 0       \\\\\n",
       "\t  9       & Female   & 20       & bright   & bright   & clothes  & 4        & 5        & 5        & 2        & ...      & 1        & 0        & 0        & 0        & 0        & 0        & 0        & 0        & 0        & 1       \\\\\n",
       "\t 10       & Female   & 20       & harmony  & harmony  & etc      & 3        & 5        & 3        & 2        & ...      & 0        & 0        & 0        & 0        & 1        & 0        & 1        & 0        & 0        & 0       \\\\\n",
       "\t 11       & Male     & 20       & harmony  & harmony  & clothes  & 3        & 5        & 4        & 5        & ...      & 0        & 0        & 1        & 0        & 0        & 0        & 0        & 1        & 0        & 0       \\\\\n",
       "\t 12       & Female   & 20       & harmony  & harmony  & etc      & 3        & 1        & 4        & 3        & ...      & 1        & 0        & 0        & 0        & 0        & 0        & 1        & 0        & 0        & 0       \\\\\n",
       "\t 13       & Female   & 20       & bright   & bright   & cosmetic & 3        & 1        & 3        & 1        & ...      & 0        & 0        & 0        & 1        & 0        & 0        & 1        & 0        & 0        & 0       \\\\\n",
       "\t 14       & Female   & 20       & harmony  & harmony  & clothes  & 3        & 1        & 5        & 2        & ...      & 0        & 1        & 0        & 0        & 0        & 0        & 0        & 0        & 0        & 1       \\\\\n",
       "\t 15       & Female   & 50       & harmony  & harmony  & clothes  & 3        & 2        & 4        & 4        & ...      & 0        & 0        & 0        & 1        & 0        & 0        & 0        & 0        & 1        & 0       \\\\\n",
       "\t 16       & Female   & 20       & harmony  & bright   & etc      & 3        & 2        & 1        & 3        & ...      & 1        & 0        & 0        & 0        & 0        & 0        & 0        & 1        & 0        & 0       \\\\\n",
       "\t 17       & Female   & 20       & harmony  & harmony  & clothes  & 3        & 3        & 2        & 3        & ...      & 1        & 0        & 0        & 0        & 0        & 0        & 0        & 1        & 0        & 0       \\\\\n",
       "\t 18       & Male     & 20       & harmony  & harmony  & clothes  & 2        & 1        & 5        & 4        & ...      & 1        & 0        & 0        & 0        & 0        & 0        & 0        & 1        & 0        & 0       \\\\\n",
       "\t 19       & Female   & 20       & bright   & bright   & etc      & 3        & 5        & 2        & 5        & ...      & 0        & 1        & 0        & 0        & 0        & 1        & 0        & 0        & 0        & 0       \\\\\n",
       "\t 20       & Female   & 20       & harmony  & bright   & cosmetic & 4        & 3        & 4        & 4        & ...      & 0        & 0        & 0        & 1        & 0        & 1        & 0        & 0        & 0        & 0       \\\\\n",
       "\t 21       & Female   & 20       & harmony  & harmony  & cosmetic & 5        & 1        & 4        & 5        & ...      & 1        & 0        & 0        & 0        & 0        & 1        & 0        & 0        & 0        & 0       \\\\\n",
       "\t 22       & Female   & 20       & harmony  & harmony  & clothes  & 5        & 1        & 4        & 2        & ...      & 0        & 0        & 0        & 0        & 1        & 1        & 0        & 0        & 0        & 0       \\\\\n",
       "\t 23       & Female   & 20       & harmony  & harmony  & etc      & 5        & 1        & 4        & 5        & ...      & 1        & 0        & 0        & 0        & 0        & 0        & 0        & 0        & 0        & 1       \\\\\n",
       "\t 24       & Male     & 20       & harmony  & harmony  & clothes  & 2        & 1        & 3        & 4        & ...      & 0        & 0        & 1        & 0        & 0        & 0        & 1        & 0        & 0        & 0       \\\\\n",
       "\t 25       & Male     & 20       & harmony  & harmony  & clothes  & 2        & 2        & 1        & 3        & ...      & 0        & 0        & 0        & 1        & 0        & 0        & 1        & 0        & 0        & 0       \\\\\n",
       "\t 26       & Female   & 20       & bright   & bright   & etc      & 5        & 2        & 2        & 2        & ...      & 0        & 0        & 1        & 0        & 0        & 0        & 0        & 0        & 0        & 1       \\\\\n",
       "\t 27       & Female   & 20       & bright   & bright   & etc      & 4        & 3        & 4        & 4        & ...      & 0        & 0        & 0        & 0        & 1        & 0        & 0        & 0        & 0        & 1       \\\\\n",
       "\t 28       & Male     & 30       & harmony  & harmony  & clothes  & 3        & 4        & 1        & 1        & ...      & 0        & 1        & 0        & 0        & 0        & 0        & 1        & 0        & 0        & 0       \\\\\n",
       "\t 29       & Female   & 20       & harmony  & harmony  & clothes  & 3        & 3        & 5        & 1        & ...      & 1        & 0        & 0        & 0        & 0        & 0        & 0        & 0        & 0        & 1       \\\\\n",
       "\t ... & ... & ... & ... & ... & ... & ... & ... & ... & ... &     & ... & ... & ... & ... & ... & ... & ... & ... & ... & ...\\\\\n",
       "\t  87      & Female   & 30       & bright   & bright   & etc      & 4        & 3        & 2        & 2        & ...      & 1        & 0        & 0        & 0        & 0        & 0        & 0        & 1        & 0        & 0       \\\\\n",
       "\t  88      & Female   & 30       & harmony  & bright   & cosmetic & 3        & 5        & 1        & 1        & ...      & 1        & 0        & 0        & 0        & 0        & 0        & 0        & 0        & 1        & 0       \\\\\n",
       "\t  89      & Female   & 20       & harmony  & harmony  & clothes  & 3        & 5        & 4        & 3        & ...      & 0        & 0        & 0        & 0        & 1        & 0        & 0        & 1        & 0        & 0       \\\\\n",
       "\t  90      & Female   & 20       & harmony  & harmony  & clothes  & 3        & 1        & 2        & 2        & ...      & 0        & 0        & 0        & 1        & 0        & 0        & 0        & 1        & 0        & 0       \\\\\n",
       "\t  91      & Female   & 20       & harmony  & harmony  & etc      & 3        & 2        & 1        & 1        & ...      & 1        & 0        & 0        & 0        & 0        & 0        & 1        & 0        & 0        & 0       \\\\\n",
       "\t  92      & Female   & 20       & harmony  & harmony  & etc      & 4        & 5        & 4        & 1        & ...      & 0        & 0        & 1        & 0        & 0        & 0        & 1        & 0        & 0        & 0       \\\\\n",
       "\t  93      & Female   & 20       & harmony  & harmony  & etc      & 1        & 3        & 4        & 1        & ...      & 1        & 0        & 0        & 0        & 0        & 0        & 0        & 0        & 0        & 1       \\\\\n",
       "\t  94      & Female   & 20       & harmony  & harmony  & clothes  & 4        & 2        & 1        & 1        & ...      & 0        & 0        & 0        & 1        & 0        & 0        & 0        & 1        & 0        & 0       \\\\\n",
       "\t  95      & Female   & 20       & harmony  & harmony  & etc      & 4        & 1        & 2        & 3        & ...      & 1        & 0        & 0        & 0        & 0        & 0        & 0        & 0        & 0        & 1       \\\\\n",
       "\t  96      & Male     & 20       & bright   & bright   & clothes  & 3        & 5        & 3        & 1        & ...      & 0        & 1        & 0        & 0        & 0        & 0        & 0        & 0        & 0        & 1       \\\\\n",
       "\t  97      & Female   & 20       & harmony  & harmony  & clothes  & 5        & 5        & 4        & 5        & ...      & 1        & 0        & 0        & 0        & 0        & 0        & 0        & 1        & 0        & 0       \\\\\n",
       "\t  98      & Female   & 10       & harmony  & harmony  & clothes  & 2        & 4        & 1        & 1        & ...      & 0        & 0        & 0        & 1        & 0        & 0        & 1        & 0        & 0        & 0       \\\\\n",
       "\t  99      & Male     & 20       & harmony  & harmony  & clothes  & 5        & 3        & 1        & 3        & ...      & 1        & 0        & 0        & 0        & 0        & 0        & 0        & 0        & 0        & 1       \\\\\n",
       "\t 100      & Male     & 30       & bright   & bright   & clothes  & 3        & 3        & 4        & 5        & ...      & 0        & 0        & 0        & 0        & 1        & 0        & 0        & 0        & 1        & 0       \\\\\n",
       "\t 101      & Female   & 20       & harmony  & bright   & etc      & 3        & 1        & 4        & 2        & ...      & 0        & 0        & 0        & 0        & 1        & 0        & 0        & 1        & 0        & 0       \\\\\n",
       "\t 102      & Male     & 20       & harmony  & harmony  & clothes  & 3        & 1        & 4        & 3        & ...      & 1        & 0        & 0        & 0        & 0        & 0        & 0        & 1        & 0        & 0       \\\\\n",
       "\t 103      & Female   & 20       & harmony  & bright   & etc      & 5        & 5        & 4        & 5        & ...      & 0        & 0        & 0        & 1        & 0        & 0        & 0        & 1        & 0        & 0       \\\\\n",
       "\t 104      & Female   & 20       & harmony  & harmony  & etc      & 4        & 3        & 3        & 3        & ...      & 0        & 0        & 1        & 0        & 0        & 0        & 0        & 0        & 1        & 0       \\\\\n",
       "\t 105      & Male     & 20       & harmony  & harmony  & clothes  & 3        & 5        & 1        & 3        & ...      & 0        & 0        & 1        & 0        & 0        & 0        & 0        & 0        & 1        & 0       \\\\\n",
       "\t 106      & Female   & 20       & harmony  & bright   & etc      & 3        & 1        & 4        & 5        & ...      & 0        & 0        & 1        & 0        & 0        & 1        & 0        & 0        & 0        & 0       \\\\\n",
       "\t 107      & Female   & 20       & harmony  & harmony  & clothes  & 3        & 2        & 4        & 4        & ...      & 0        & 0        & 0        & 1        & 0        & 0        & 0        & 0        & 1        & 0       \\\\\n",
       "\t 108      & Female   & 20       & harmony  & harmony  & cosmetic & 4        & 1        & 4        & 5        & ...      & 0        & 0        & 0        & 0        & 1        & 0        & 0        & 0        & 1        & 0       \\\\\n",
       "\t 109      & Male     & 20       & harmony  & harmony  & clothes  & 2        & 2        & 1        & 2        & ...      & 1        & 0        & 0        & 0        & 0        & 0        & 0        & 1        & 0        & 0       \\\\\n",
       "\t 110      & Female   & 20       & harmony  & harmony  & etc      & 4        & 1        & 3        & 4        & ...      & 0        & 0        & 0        & 1        & 0        & 0        & 0        & 0        & 1        & 0       \\\\\n",
       "\t 111      & Female   & 20       & harmony  & harmony  & etc      & 4        & 1        & 4        & 5        & ...      & 1        & 0        & 0        & 0        & 0        & 0        & 0        & 0        & 0        & 1       \\\\\n",
       "\t 112      & Female   & 30       & harmony  & harmony  & cosmetic & 4        & 4        & 2        & 2        & ...      & 1        & 0        & 0        & 0        & 0        & 0        & 0        & 1        & 0        & 0       \\\\\n",
       "\t 113      & Male     & 30       & harmony  & bright   & cosmetic & 2        & 1        & 4        & 5        & ...      & 0        & 0        & 0        & 1        & 0        & 0        & 0        & 1        & 0        & 0       \\\\\n",
       "\t 114      & Female   & 20       & bright   & harmony  & etc      & 4        & 4        & 5        & 4        & ...      & 0        & 1        & 0        & 0        & 0        & 0        & 0        & 0        & 0        & 1       \\\\\n",
       "\t 115      & Male     & 20       & bright   & harmony  & clothes  & 2        & 3        & 2        & 5        & ...      & 0        & 0        & 0        & 0        & 1        & 0        & 0        & 0        & 0        & 1       \\\\\n",
       "\t 116      & Female   & 20       & harmony  & bright   & clothes  & 3        & 2        & 5        & 5        & ...      & 0        & 1        & 0        & 0        & 0        & 1        & 0        & 0        & 0        & 0       \\\\\n",
       "\\end{tabular}\n"
      ],
      "text/markdown": [
       "\n",
       "| X | sex | age_class | definition | need | purpose | interest | comp | triangle1 | triangle2 | ... | d2_1 | d2_2 | d2_3 | d2_4 | d2_5 | d3_1 | d3_2 | d3_3 | d3_4 | d3_5 |\n",
       "|---|---|---|---|---|---|---|---|---|---|---|---|---|---|---|---|---|---|---|---|---|\n",
       "|  0       | Male     | 20       | harmony  | harmony  | clothes  | 5        | 4        | 5        | 2        | ...      | 0        | 1        | 0        | 0        | 0        | 0        | 1        | 0        | 0        | 0        |\n",
       "|  1       | Female   | 20       | bright   | harmony  | clothes  | 5        | 1        | 1        | 2        | ...      | 0        | 0        | 1        | 0        | 0        | 0        | 1        | 0        | 0        | 0        |\n",
       "|  2       | Female   | 20       | bright   | bright   | clothes  | 3        | 2        | 4        | 1        | ...      | 1        | 0        | 0        | 0        | 0        | 0        | 1        | 0        | 0        | 0        |\n",
       "|  3       | Female   | 20       | harmony  | harmony  | clothes  | 3        | 5        | 5        | 4        | ...      | 0        | 0        | 0        | 1        | 0        | 1        | 0        | 0        | 0        | 0        |\n",
       "|  4       | Female   | 20       | bright   | bright   | etc      | 4        | 4        | 2        | 1        | ...      | 0        | 1        | 0        | 0        | 0        | 0        | 1        | 0        | 0        | 0        |\n",
       "|  5       | Female   | 20       | harmony  | harmony  | etc      | 2        | 3        | 4        | 1        | ...      | 0        | 1        | 0        | 0        | 0        | 0        | 1        | 0        | 0        | 0        |\n",
       "|  6       | Female   | 20       | harmony  | harmony  | etc      | 5        | 1        | 4        | 5        | ...      | 0        | 0        | 1        | 0        | 0        | 0        | 0        | 1        | 0        | 0        |\n",
       "|  7       | Male     | 20       | harmony  | harmony  | clothes  | 3        | 1        | 1        | 3        | ...      | 0        | 0        | 0        | 0        | 1        | 0        | 0        | 0        | 0        | 1        |\n",
       "|  8       | Female   | 20       | harmony  | harmony  | clothes  | 4        | 1        | 4        | 1        | ...      | 0        | 1        | 0        | 0        | 0        | 0        | 1        | 0        | 0        | 0        |\n",
       "|  9       | Female   | 20       | bright   | bright   | clothes  | 4        | 5        | 5        | 2        | ...      | 1        | 0        | 0        | 0        | 0        | 0        | 0        | 0        | 0        | 1        |\n",
       "| 10       | Female   | 20       | harmony  | harmony  | etc      | 3        | 5        | 3        | 2        | ...      | 0        | 0        | 0        | 0        | 1        | 0        | 1        | 0        | 0        | 0        |\n",
       "| 11       | Male     | 20       | harmony  | harmony  | clothes  | 3        | 5        | 4        | 5        | ...      | 0        | 0        | 1        | 0        | 0        | 0        | 0        | 1        | 0        | 0        |\n",
       "| 12       | Female   | 20       | harmony  | harmony  | etc      | 3        | 1        | 4        | 3        | ...      | 1        | 0        | 0        | 0        | 0        | 0        | 1        | 0        | 0        | 0        |\n",
       "| 13       | Female   | 20       | bright   | bright   | cosmetic | 3        | 1        | 3        | 1        | ...      | 0        | 0        | 0        | 1        | 0        | 0        | 1        | 0        | 0        | 0        |\n",
       "| 14       | Female   | 20       | harmony  | harmony  | clothes  | 3        | 1        | 5        | 2        | ...      | 0        | 1        | 0        | 0        | 0        | 0        | 0        | 0        | 0        | 1        |\n",
       "| 15       | Female   | 50       | harmony  | harmony  | clothes  | 3        | 2        | 4        | 4        | ...      | 0        | 0        | 0        | 1        | 0        | 0        | 0        | 0        | 1        | 0        |\n",
       "| 16       | Female   | 20       | harmony  | bright   | etc      | 3        | 2        | 1        | 3        | ...      | 1        | 0        | 0        | 0        | 0        | 0        | 0        | 1        | 0        | 0        |\n",
       "| 17       | Female   | 20       | harmony  | harmony  | clothes  | 3        | 3        | 2        | 3        | ...      | 1        | 0        | 0        | 0        | 0        | 0        | 0        | 1        | 0        | 0        |\n",
       "| 18       | Male     | 20       | harmony  | harmony  | clothes  | 2        | 1        | 5        | 4        | ...      | 1        | 0        | 0        | 0        | 0        | 0        | 0        | 1        | 0        | 0        |\n",
       "| 19       | Female   | 20       | bright   | bright   | etc      | 3        | 5        | 2        | 5        | ...      | 0        | 1        | 0        | 0        | 0        | 1        | 0        | 0        | 0        | 0        |\n",
       "| 20       | Female   | 20       | harmony  | bright   | cosmetic | 4        | 3        | 4        | 4        | ...      | 0        | 0        | 0        | 1        | 0        | 1        | 0        | 0        | 0        | 0        |\n",
       "| 21       | Female   | 20       | harmony  | harmony  | cosmetic | 5        | 1        | 4        | 5        | ...      | 1        | 0        | 0        | 0        | 0        | 1        | 0        | 0        | 0        | 0        |\n",
       "| 22       | Female   | 20       | harmony  | harmony  | clothes  | 5        | 1        | 4        | 2        | ...      | 0        | 0        | 0        | 0        | 1        | 1        | 0        | 0        | 0        | 0        |\n",
       "| 23       | Female   | 20       | harmony  | harmony  | etc      | 5        | 1        | 4        | 5        | ...      | 1        | 0        | 0        | 0        | 0        | 0        | 0        | 0        | 0        | 1        |\n",
       "| 24       | Male     | 20       | harmony  | harmony  | clothes  | 2        | 1        | 3        | 4        | ...      | 0        | 0        | 1        | 0        | 0        | 0        | 1        | 0        | 0        | 0        |\n",
       "| 25       | Male     | 20       | harmony  | harmony  | clothes  | 2        | 2        | 1        | 3        | ...      | 0        | 0        | 0        | 1        | 0        | 0        | 1        | 0        | 0        | 0        |\n",
       "| 26       | Female   | 20       | bright   | bright   | etc      | 5        | 2        | 2        | 2        | ...      | 0        | 0        | 1        | 0        | 0        | 0        | 0        | 0        | 0        | 1        |\n",
       "| 27       | Female   | 20       | bright   | bright   | etc      | 4        | 3        | 4        | 4        | ...      | 0        | 0        | 0        | 0        | 1        | 0        | 0        | 0        | 0        | 1        |\n",
       "| 28       | Male     | 30       | harmony  | harmony  | clothes  | 3        | 4        | 1        | 1        | ...      | 0        | 1        | 0        | 0        | 0        | 0        | 1        | 0        | 0        | 0        |\n",
       "| 29       | Female   | 20       | harmony  | harmony  | clothes  | 3        | 3        | 5        | 1        | ...      | 1        | 0        | 0        | 0        | 0        | 0        | 0        | 0        | 0        | 1        |\n",
       "| ... | ... | ... | ... | ... | ... | ... | ... | ... | ... |     | ... | ... | ... | ... | ... | ... | ... | ... | ... | ... |\n",
       "|  87      | Female   | 30       | bright   | bright   | etc      | 4        | 3        | 2        | 2        | ...      | 1        | 0        | 0        | 0        | 0        | 0        | 0        | 1        | 0        | 0        |\n",
       "|  88      | Female   | 30       | harmony  | bright   | cosmetic | 3        | 5        | 1        | 1        | ...      | 1        | 0        | 0        | 0        | 0        | 0        | 0        | 0        | 1        | 0        |\n",
       "|  89      | Female   | 20       | harmony  | harmony  | clothes  | 3        | 5        | 4        | 3        | ...      | 0        | 0        | 0        | 0        | 1        | 0        | 0        | 1        | 0        | 0        |\n",
       "|  90      | Female   | 20       | harmony  | harmony  | clothes  | 3        | 1        | 2        | 2        | ...      | 0        | 0        | 0        | 1        | 0        | 0        | 0        | 1        | 0        | 0        |\n",
       "|  91      | Female   | 20       | harmony  | harmony  | etc      | 3        | 2        | 1        | 1        | ...      | 1        | 0        | 0        | 0        | 0        | 0        | 1        | 0        | 0        | 0        |\n",
       "|  92      | Female   | 20       | harmony  | harmony  | etc      | 4        | 5        | 4        | 1        | ...      | 0        | 0        | 1        | 0        | 0        | 0        | 1        | 0        | 0        | 0        |\n",
       "|  93      | Female   | 20       | harmony  | harmony  | etc      | 1        | 3        | 4        | 1        | ...      | 1        | 0        | 0        | 0        | 0        | 0        | 0        | 0        | 0        | 1        |\n",
       "|  94      | Female   | 20       | harmony  | harmony  | clothes  | 4        | 2        | 1        | 1        | ...      | 0        | 0        | 0        | 1        | 0        | 0        | 0        | 1        | 0        | 0        |\n",
       "|  95      | Female   | 20       | harmony  | harmony  | etc      | 4        | 1        | 2        | 3        | ...      | 1        | 0        | 0        | 0        | 0        | 0        | 0        | 0        | 0        | 1        |\n",
       "|  96      | Male     | 20       | bright   | bright   | clothes  | 3        | 5        | 3        | 1        | ...      | 0        | 1        | 0        | 0        | 0        | 0        | 0        | 0        | 0        | 1        |\n",
       "|  97      | Female   | 20       | harmony  | harmony  | clothes  | 5        | 5        | 4        | 5        | ...      | 1        | 0        | 0        | 0        | 0        | 0        | 0        | 1        | 0        | 0        |\n",
       "|  98      | Female   | 10       | harmony  | harmony  | clothes  | 2        | 4        | 1        | 1        | ...      | 0        | 0        | 0        | 1        | 0        | 0        | 1        | 0        | 0        | 0        |\n",
       "|  99      | Male     | 20       | harmony  | harmony  | clothes  | 5        | 3        | 1        | 3        | ...      | 1        | 0        | 0        | 0        | 0        | 0        | 0        | 0        | 0        | 1        |\n",
       "| 100      | Male     | 30       | bright   | bright   | clothes  | 3        | 3        | 4        | 5        | ...      | 0        | 0        | 0        | 0        | 1        | 0        | 0        | 0        | 1        | 0        |\n",
       "| 101      | Female   | 20       | harmony  | bright   | etc      | 3        | 1        | 4        | 2        | ...      | 0        | 0        | 0        | 0        | 1        | 0        | 0        | 1        | 0        | 0        |\n",
       "| 102      | Male     | 20       | harmony  | harmony  | clothes  | 3        | 1        | 4        | 3        | ...      | 1        | 0        | 0        | 0        | 0        | 0        | 0        | 1        | 0        | 0        |\n",
       "| 103      | Female   | 20       | harmony  | bright   | etc      | 5        | 5        | 4        | 5        | ...      | 0        | 0        | 0        | 1        | 0        | 0        | 0        | 1        | 0        | 0        |\n",
       "| 104      | Female   | 20       | harmony  | harmony  | etc      | 4        | 3        | 3        | 3        | ...      | 0        | 0        | 1        | 0        | 0        | 0        | 0        | 0        | 1        | 0        |\n",
       "| 105      | Male     | 20       | harmony  | harmony  | clothes  | 3        | 5        | 1        | 3        | ...      | 0        | 0        | 1        | 0        | 0        | 0        | 0        | 0        | 1        | 0        |\n",
       "| 106      | Female   | 20       | harmony  | bright   | etc      | 3        | 1        | 4        | 5        | ...      | 0        | 0        | 1        | 0        | 0        | 1        | 0        | 0        | 0        | 0        |\n",
       "| 107      | Female   | 20       | harmony  | harmony  | clothes  | 3        | 2        | 4        | 4        | ...      | 0        | 0        | 0        | 1        | 0        | 0        | 0        | 0        | 1        | 0        |\n",
       "| 108      | Female   | 20       | harmony  | harmony  | cosmetic | 4        | 1        | 4        | 5        | ...      | 0        | 0        | 0        | 0        | 1        | 0        | 0        | 0        | 1        | 0        |\n",
       "| 109      | Male     | 20       | harmony  | harmony  | clothes  | 2        | 2        | 1        | 2        | ...      | 1        | 0        | 0        | 0        | 0        | 0        | 0        | 1        | 0        | 0        |\n",
       "| 110      | Female   | 20       | harmony  | harmony  | etc      | 4        | 1        | 3        | 4        | ...      | 0        | 0        | 0        | 1        | 0        | 0        | 0        | 0        | 1        | 0        |\n",
       "| 111      | Female   | 20       | harmony  | harmony  | etc      | 4        | 1        | 4        | 5        | ...      | 1        | 0        | 0        | 0        | 0        | 0        | 0        | 0        | 0        | 1        |\n",
       "| 112      | Female   | 30       | harmony  | harmony  | cosmetic | 4        | 4        | 2        | 2        | ...      | 1        | 0        | 0        | 0        | 0        | 0        | 0        | 1        | 0        | 0        |\n",
       "| 113      | Male     | 30       | harmony  | bright   | cosmetic | 2        | 1        | 4        | 5        | ...      | 0        | 0        | 0        | 1        | 0        | 0        | 0        | 1        | 0        | 0        |\n",
       "| 114      | Female   | 20       | bright   | harmony  | etc      | 4        | 4        | 5        | 4        | ...      | 0        | 1        | 0        | 0        | 0        | 0        | 0        | 0        | 0        | 1        |\n",
       "| 115      | Male     | 20       | bright   | harmony  | clothes  | 2        | 3        | 2        | 5        | ...      | 0        | 0        | 0        | 0        | 1        | 0        | 0        | 0        | 0        | 1        |\n",
       "| 116      | Female   | 20       | harmony  | bright   | clothes  | 3        | 2        | 5        | 5        | ...      | 0        | 1        | 0        | 0        | 0        | 1        | 0        | 0        | 0        | 0        |\n",
       "\n"
      ],
      "text/plain": [
       "    X   sex    age_class definition need    purpose  interest comp triangle1\n",
       "1    0  Male   20        harmony    harmony clothes  5        4    5        \n",
       "2    1  Female 20        bright     harmony clothes  5        1    1        \n",
       "3    2  Female 20        bright     bright  clothes  3        2    4        \n",
       "4    3  Female 20        harmony    harmony clothes  3        5    5        \n",
       "5    4  Female 20        bright     bright  etc      4        4    2        \n",
       "6    5  Female 20        harmony    harmony etc      2        3    4        \n",
       "7    6  Female 20        harmony    harmony etc      5        1    4        \n",
       "8    7  Male   20        harmony    harmony clothes  3        1    1        \n",
       "9    8  Female 20        harmony    harmony clothes  4        1    4        \n",
       "10   9  Female 20        bright     bright  clothes  4        5    5        \n",
       "11  10  Female 20        harmony    harmony etc      3        5    3        \n",
       "12  11  Male   20        harmony    harmony clothes  3        5    4        \n",
       "13  12  Female 20        harmony    harmony etc      3        1    4        \n",
       "14  13  Female 20        bright     bright  cosmetic 3        1    3        \n",
       "15  14  Female 20        harmony    harmony clothes  3        1    5        \n",
       "16  15  Female 50        harmony    harmony clothes  3        2    4        \n",
       "17  16  Female 20        harmony    bright  etc      3        2    1        \n",
       "18  17  Female 20        harmony    harmony clothes  3        3    2        \n",
       "19  18  Male   20        harmony    harmony clothes  2        1    5        \n",
       "20  19  Female 20        bright     bright  etc      3        5    2        \n",
       "21  20  Female 20        harmony    bright  cosmetic 4        3    4        \n",
       "22  21  Female 20        harmony    harmony cosmetic 5        1    4        \n",
       "23  22  Female 20        harmony    harmony clothes  5        1    4        \n",
       "24  23  Female 20        harmony    harmony etc      5        1    4        \n",
       "25  24  Male   20        harmony    harmony clothes  2        1    3        \n",
       "26  25  Male   20        harmony    harmony clothes  2        2    1        \n",
       "27  26  Female 20        bright     bright  etc      5        2    2        \n",
       "28  27  Female 20        bright     bright  etc      4        3    4        \n",
       "29  28  Male   30        harmony    harmony clothes  3        4    1        \n",
       "30  29  Female 20        harmony    harmony clothes  3        3    5        \n",
       "... ... ...    ...       ...        ...     ...      ...      ...  ...      \n",
       "88   87 Female 30        bright     bright  etc      4        3    2        \n",
       "89   88 Female 30        harmony    bright  cosmetic 3        5    1        \n",
       "90   89 Female 20        harmony    harmony clothes  3        5    4        \n",
       "91   90 Female 20        harmony    harmony clothes  3        1    2        \n",
       "92   91 Female 20        harmony    harmony etc      3        2    1        \n",
       "93   92 Female 20        harmony    harmony etc      4        5    4        \n",
       "94   93 Female 20        harmony    harmony etc      1        3    4        \n",
       "95   94 Female 20        harmony    harmony clothes  4        2    1        \n",
       "96   95 Female 20        harmony    harmony etc      4        1    2        \n",
       "97   96 Male   20        bright     bright  clothes  3        5    3        \n",
       "98   97 Female 20        harmony    harmony clothes  5        5    4        \n",
       "99   98 Female 10        harmony    harmony clothes  2        4    1        \n",
       "100  99 Male   20        harmony    harmony clothes  5        3    1        \n",
       "101 100 Male   30        bright     bright  clothes  3        3    4        \n",
       "102 101 Female 20        harmony    bright  etc      3        1    4        \n",
       "103 102 Male   20        harmony    harmony clothes  3        1    4        \n",
       "104 103 Female 20        harmony    bright  etc      5        5    4        \n",
       "105 104 Female 20        harmony    harmony etc      4        3    3        \n",
       "106 105 Male   20        harmony    harmony clothes  3        5    1        \n",
       "107 106 Female 20        harmony    bright  etc      3        1    4        \n",
       "108 107 Female 20        harmony    harmony clothes  3        2    4        \n",
       "109 108 Female 20        harmony    harmony cosmetic 4        1    4        \n",
       "110 109 Male   20        harmony    harmony clothes  2        2    1        \n",
       "111 110 Female 20        harmony    harmony etc      4        1    3        \n",
       "112 111 Female 20        harmony    harmony etc      4        1    4        \n",
       "113 112 Female 30        harmony    harmony cosmetic 4        4    2        \n",
       "114 113 Male   30        harmony    bright  cosmetic 2        1    4        \n",
       "115 114 Female 20        bright     harmony etc      4        4    5        \n",
       "116 115 Male   20        bright     harmony clothes  2        3    2        \n",
       "117 116 Female 20        harmony    bright  clothes  3        2    5        \n",
       "    triangle2 ... d2_1 d2_2 d2_3 d2_4 d2_5 d3_1 d3_2 d3_3 d3_4 d3_5\n",
       "1   2         ... 0    1    0    0    0    0    1    0    0    0   \n",
       "2   2         ... 0    0    1    0    0    0    1    0    0    0   \n",
       "3   1         ... 1    0    0    0    0    0    1    0    0    0   \n",
       "4   4         ... 0    0    0    1    0    1    0    0    0    0   \n",
       "5   1         ... 0    1    0    0    0    0    1    0    0    0   \n",
       "6   1         ... 0    1    0    0    0    0    1    0    0    0   \n",
       "7   5         ... 0    0    1    0    0    0    0    1    0    0   \n",
       "8   3         ... 0    0    0    0    1    0    0    0    0    1   \n",
       "9   1         ... 0    1    0    0    0    0    1    0    0    0   \n",
       "10  2         ... 1    0    0    0    0    0    0    0    0    1   \n",
       "11  2         ... 0    0    0    0    1    0    1    0    0    0   \n",
       "12  5         ... 0    0    1    0    0    0    0    1    0    0   \n",
       "13  3         ... 1    0    0    0    0    0    1    0    0    0   \n",
       "14  1         ... 0    0    0    1    0    0    1    0    0    0   \n",
       "15  2         ... 0    1    0    0    0    0    0    0    0    1   \n",
       "16  4         ... 0    0    0    1    0    0    0    0    1    0   \n",
       "17  3         ... 1    0    0    0    0    0    0    1    0    0   \n",
       "18  3         ... 1    0    0    0    0    0    0    1    0    0   \n",
       "19  4         ... 1    0    0    0    0    0    0    1    0    0   \n",
       "20  5         ... 0    1    0    0    0    1    0    0    0    0   \n",
       "21  4         ... 0    0    0    1    0    1    0    0    0    0   \n",
       "22  5         ... 1    0    0    0    0    1    0    0    0    0   \n",
       "23  2         ... 0    0    0    0    1    1    0    0    0    0   \n",
       "24  5         ... 1    0    0    0    0    0    0    0    0    1   \n",
       "25  4         ... 0    0    1    0    0    0    1    0    0    0   \n",
       "26  3         ... 0    0    0    1    0    0    1    0    0    0   \n",
       "27  2         ... 0    0    1    0    0    0    0    0    0    1   \n",
       "28  4         ... 0    0    0    0    1    0    0    0    0    1   \n",
       "29  1         ... 0    1    0    0    0    0    1    0    0    0   \n",
       "30  1         ... 1    0    0    0    0    0    0    0    0    1   \n",
       "... ...           ...  ...  ...  ...  ...  ...  ...  ...  ...  ... \n",
       "88  2         ... 1    0    0    0    0    0    0    1    0    0   \n",
       "89  1         ... 1    0    0    0    0    0    0    0    1    0   \n",
       "90  3         ... 0    0    0    0    1    0    0    1    0    0   \n",
       "91  2         ... 0    0    0    1    0    0    0    1    0    0   \n",
       "92  1         ... 1    0    0    0    0    0    1    0    0    0   \n",
       "93  1         ... 0    0    1    0    0    0    1    0    0    0   \n",
       "94  1         ... 1    0    0    0    0    0    0    0    0    1   \n",
       "95  1         ... 0    0    0    1    0    0    0    1    0    0   \n",
       "96  3         ... 1    0    0    0    0    0    0    0    0    1   \n",
       "97  1         ... 0    1    0    0    0    0    0    0    0    1   \n",
       "98  5         ... 1    0    0    0    0    0    0    1    0    0   \n",
       "99  1         ... 0    0    0    1    0    0    1    0    0    0   \n",
       "100 3         ... 1    0    0    0    0    0    0    0    0    1   \n",
       "101 5         ... 0    0    0    0    1    0    0    0    1    0   \n",
       "102 2         ... 0    0    0    0    1    0    0    1    0    0   \n",
       "103 3         ... 1    0    0    0    0    0    0    1    0    0   \n",
       "104 5         ... 0    0    0    1    0    0    0    1    0    0   \n",
       "105 3         ... 0    0    1    0    0    0    0    0    1    0   \n",
       "106 3         ... 0    0    1    0    0    0    0    0    1    0   \n",
       "107 5         ... 0    0    1    0    0    1    0    0    0    0   \n",
       "108 4         ... 0    0    0    1    0    0    0    0    1    0   \n",
       "109 5         ... 0    0    0    0    1    0    0    0    1    0   \n",
       "110 2         ... 1    0    0    0    0    0    0    1    0    0   \n",
       "111 4         ... 0    0    0    1    0    0    0    0    1    0   \n",
       "112 5         ... 1    0    0    0    0    0    0    0    0    1   \n",
       "113 2         ... 1    0    0    0    0    0    0    1    0    0   \n",
       "114 5         ... 0    0    0    1    0    0    0    1    0    0   \n",
       "115 4         ... 0    1    0    0    0    0    0    0    0    1   \n",
       "116 5         ... 0    0    0    0    1    0    0    0    0    1   \n",
       "117 5         ... 0    1    0    0    0    1    0    0    0    0   "
      ]
     },
     "metadata": {},
     "output_type": "display_data"
    }
   ],
   "source": [
    "total"
   ]
  },
  {
   "cell_type": "code",
   "execution_count": 28,
   "metadata": {},
   "outputs": [
    {
     "data": {
      "text/plain": [
       "\n",
       "Call:\n",
       "glm(formula = t1_1 ~ sex + definition + need + purpose + interest, \n",
       "    family = binomial, data = total)\n",
       "\n",
       "Deviance Residuals: \n",
       "    Min       1Q   Median       3Q      Max  \n",
       "-1.2988  -0.6902  -0.5412  -0.2790   2.4850  \n",
       "\n",
       "Coefficients:\n",
       "                  Estimate Std. Error z value Pr(>|z|)  \n",
       "(Intercept)       -3.03157    1.25311  -2.419   0.0156 *\n",
       "sexMale            1.40801    0.66994   2.102   0.0356 *\n",
       "definitionharmony  1.08425    0.82780   1.310   0.1903  \n",
       "needharmony        0.55031    0.58615   0.939   0.3478  \n",
       "purposecosmetic    1.00597    0.74811   1.345   0.1787  \n",
       "purposeetc         0.26936    0.71305   0.378   0.7056  \n",
       "interest          -0.09288    0.24553  -0.378   0.7052  \n",
       "---\n",
       "Signif. codes:  0 '***' 0.001 '**' 0.01 '*' 0.05 '.' 0.1 ' ' 1\n",
       "\n",
       "(Dispersion parameter for binomial family taken to be 1)\n",
       "\n",
       "    Null deviance: 118.74  on 116  degrees of freedom\n",
       "Residual deviance: 106.70  on 110  degrees of freedom\n",
       "AIC: 120.7\n",
       "\n",
       "Number of Fisher Scoring iterations: 5\n"
      ]
     },
     "metadata": {},
     "output_type": "display_data"
    }
   ],
   "source": [
    "result <- glm(t1_1 ~ sex + definition + need + purpose \n",
    "              + interest, family=binomial, data=total)\n",
    "\n",
    "summary(result)\n",
    "\n",
    "## 1번을 고른 남녀 비율은 비슷하나\n",
    "## 2~5번을 고른 여성의 숫자가 매우많음"
   ]
  },
  {
   "cell_type": "code",
   "execution_count": 29,
   "metadata": {},
   "outputs": [
    {
     "data": {
      "text/plain": [
       "\n",
       "Call:\n",
       "glm(formula = t1_2 ~ sex + definition + need + purpose + interest, \n",
       "    family = binomial, data = total)\n",
       "\n",
       "Deviance Residuals: \n",
       "    Min       1Q   Median       3Q      Max  \n",
       "-1.1685  -0.5350  -0.4014  -0.2468   2.6482  \n",
       "\n",
       "Coefficients:\n",
       "                  Estimate Std. Error z value Pr(>|z|)   \n",
       "(Intercept)         0.3309     1.3596   0.243   0.8077   \n",
       "sexMale            -0.2311     1.0210  -0.226   0.8209   \n",
       "definitionharmony  -2.1143     0.7387  -2.862   0.0042 **\n",
       "needharmony         0.6066     0.7180   0.845   0.3982   \n",
       "purposecosmetic     1.1096     0.9357   1.186   0.2357   \n",
       "purposeetc          0.8561     0.8210   1.043   0.2970   \n",
       "interest           -0.5170     0.3100  -1.668   0.0953 . \n",
       "---\n",
       "Signif. codes:  0 '***' 0.001 '**' 0.01 '*' 0.05 '.' 0.1 ' ' 1\n",
       "\n",
       "(Dispersion parameter for binomial family taken to be 1)\n",
       "\n",
       "    Null deviance: 93.372  on 116  degrees of freedom\n",
       "Residual deviance: 79.296  on 110  degrees of freedom\n",
       "AIC: 93.296\n",
       "\n",
       "Number of Fisher Scoring iterations: 5\n"
      ]
     },
     "metadata": {},
     "output_type": "display_data"
    }
   ],
   "source": [
    "result <- glm(t1_2 ~ sex + definition + need + purpose \n",
    "              + interest, family=binomial, data=total)\n",
    "\n",
    "summary(result)\n",
    "\n",
    "# 표본이 적어서 답변수가 적은 경우에 맞을때가 많은듯"
   ]
  },
  {
   "cell_type": "code",
   "execution_count": 30,
   "metadata": {},
   "outputs": [
    {
     "data": {
      "text/plain": [
       "\n",
       "Call:\n",
       "glm(formula = t1_3 ~ sex + definition + need + purpose + interest, \n",
       "    family = binomial, data = total)\n",
       "\n",
       "Deviance Residuals: \n",
       "    Min       1Q   Median       3Q      Max  \n",
       "-0.8894  -0.5712  -0.5557  -0.4559   2.1959  \n",
       "\n",
       "Coefficients:\n",
       "                  Estimate Std. Error z value Pr(>|z|)\n",
       "(Intercept)       -1.36193    1.20351  -1.132    0.258\n",
       "sexMale           -0.04267    0.74535  -0.057    0.954\n",
       "definitionharmony -0.98627    0.66219  -1.489    0.136\n",
       "needharmony        0.58664    0.64276   0.913    0.361\n",
       "purposecosmetic    0.24520    0.76895   0.319    0.750\n",
       "purposeetc        -0.45932    0.71031  -0.647    0.518\n",
       "interest           0.01041    0.27643   0.038    0.970\n",
       "\n",
       "(Dispersion parameter for binomial family taken to be 1)\n",
       "\n",
       "    Null deviance: 96.985  on 116  degrees of freedom\n",
       "Residual deviance: 94.135  on 110  degrees of freedom\n",
       "AIC: 108.14\n",
       "\n",
       "Number of Fisher Scoring iterations: 4\n"
      ]
     },
     "metadata": {},
     "output_type": "display_data"
    }
   ],
   "source": [
    "result <- glm(t1_3 ~ sex + definition + need + purpose \n",
    "              + interest, family=binomial, data=total)\n",
    "\n",
    "summary(result)"
   ]
  },
  {
   "cell_type": "code",
   "execution_count": 31,
   "metadata": {},
   "outputs": [
    {
     "data": {
      "text/plain": [
       "\n",
       "Call:\n",
       "glm(formula = t1_4 ~ sex + definition + need + purpose + interest, \n",
       "    family = binomial, data = total)\n",
       "\n",
       "Deviance Residuals: \n",
       "    Min       1Q   Median       3Q      Max  \n",
       "-1.4581  -0.9859  -0.7563   1.2777   1.8107  \n",
       "\n",
       "Coefficients:\n",
       "                   Estimate Std. Error z value Pr(>|z|)  \n",
       "(Intercept)       -1.570153   0.955833  -1.643   0.1004  \n",
       "sexMale           -0.540319   0.568291  -0.951   0.3417  \n",
       "definitionharmony  1.064701   0.563556   1.889   0.0589 .\n",
       "needharmony       -0.650033   0.465352  -1.397   0.1625  \n",
       "purposecosmetic   -0.428711   0.601066  -0.713   0.4757  \n",
       "purposeetc         0.006893   0.505712   0.014   0.9891  \n",
       "interest           0.228958   0.212844   1.076   0.2821  \n",
       "---\n",
       "Signif. codes:  0 '***' 0.001 '**' 0.01 '*' 0.05 '.' 0.1 ' ' 1\n",
       "\n",
       "(Dispersion parameter for binomial family taken to be 1)\n",
       "\n",
       "    Null deviance: 153.88  on 116  degrees of freedom\n",
       "Residual deviance: 148.01  on 110  degrees of freedom\n",
       "AIC: 162.01\n",
       "\n",
       "Number of Fisher Scoring iterations: 4\n"
      ]
     },
     "metadata": {},
     "output_type": "display_data"
    }
   ],
   "source": [
    "result <- glm(t1_4 ~ sex + definition + need + purpose \n",
    "              + interest, family=binomial, data=total)\n",
    "\n",
    "summary(result)"
   ]
  },
  {
   "cell_type": "code",
   "execution_count": 32,
   "metadata": {},
   "outputs": [
    {
     "data": {
      "text/plain": [
       "\n",
       "Call:\n",
       "glm(formula = t1_5 ~ sex + definition + need + purpose + interest, \n",
       "    family = binomial, data = total)\n",
       "\n",
       "Deviance Residuals: \n",
       "    Min       1Q   Median       3Q      Max  \n",
       "-0.8842  -0.6089  -0.5306  -0.2885   2.4154  \n",
       "\n",
       "Coefficients:\n",
       "                  Estimate Std. Error z value Pr(>|z|)  \n",
       "(Intercept)        -1.7278     1.2776  -1.352   0.1762  \n",
       "sexMale            -0.8552     0.7610  -1.124   0.2611  \n",
       "definitionharmony   0.4755     0.7323   0.649   0.5162  \n",
       "needharmony        -0.4254     0.6249  -0.681   0.4960  \n",
       "purposecosmetic    -1.9952     1.1300  -1.766   0.0774 .\n",
       "purposeetc         -0.4285     0.6225  -0.688   0.4913  \n",
       "interest            0.1287     0.2910   0.442   0.6583  \n",
       "---\n",
       "Signif. codes:  0 '***' 0.001 '**' 0.01 '*' 0.05 '.' 0.1 ' ' 1\n",
       "\n",
       "(Dispersion parameter for binomial family taken to be 1)\n",
       "\n",
       "    Null deviance: 96.985  on 116  degrees of freedom\n",
       "Residual deviance: 91.881  on 110  degrees of freedom\n",
       "AIC: 105.88\n",
       "\n",
       "Number of Fisher Scoring iterations: 5\n"
      ]
     },
     "metadata": {},
     "output_type": "display_data"
    }
   ],
   "source": [
    "result <- glm(t1_5 ~ sex + definition + need + purpose \n",
    "              + interest, family=binomial, data=total)\n",
    "\n",
    "summary(result)"
   ]
  },
  {
   "cell_type": "code",
   "execution_count": 33,
   "metadata": {},
   "outputs": [
    {
     "data": {
      "text/plain": [
       "\n",
       "Call:\n",
       "glm(formula = t2_1 ~ sex + definition + need + purpose + interest, \n",
       "    family = binomial, data = total)\n",
       "\n",
       "Deviance Residuals: \n",
       "    Min       1Q   Median       3Q      Max  \n",
       "-1.4441  -0.8035  -0.6447  -0.3189   2.2726  \n",
       "\n",
       "Coefficients:\n",
       "                  Estimate Std. Error z value Pr(>|z|)\n",
       "(Intercept)         0.8422     1.0612   0.794    0.427\n",
       "sexMale            -1.2015     0.7466  -1.609    0.108\n",
       "definitionharmony  -0.4496     0.5777  -0.778    0.436\n",
       "needharmony        -0.1772     0.5204  -0.341    0.733\n",
       "purposecosmetic     0.1594     0.6393   0.249    0.803\n",
       "purposeetc         -0.1071     0.5657  -0.189    0.850\n",
       "interest           -0.3935     0.2473  -1.591    0.112\n",
       "\n",
       "(Dispersion parameter for binomial family taken to be 1)\n",
       "\n",
       "    Null deviance: 128.77  on 116  degrees of freedom\n",
       "Residual deviance: 121.40  on 110  degrees of freedom\n",
       "AIC: 135.4\n",
       "\n",
       "Number of Fisher Scoring iterations: 4\n"
      ]
     },
     "metadata": {},
     "output_type": "display_data"
    }
   ],
   "source": [
    "result <- glm(t2_1 ~ sex + definition + need + purpose \n",
    "              + interest, family=binomial, data=total)\n",
    "\n",
    "summary(result)"
   ]
  },
  {
   "cell_type": "code",
   "execution_count": 34,
   "metadata": {},
   "outputs": [
    {
     "data": {
      "text/plain": [
       "\n",
       "Call:\n",
       "glm(formula = t2_2 ~ sex + definition + need + purpose + interest, \n",
       "    family = binomial, data = total)\n",
       "\n",
       "Deviance Residuals: \n",
       "    Min       1Q   Median       3Q      Max  \n",
       "-0.9343  -0.7598  -0.7115  -0.5565   1.9707  \n",
       "\n",
       "Coefficients:\n",
       "                  Estimate Std. Error z value Pr(>|z|)\n",
       "(Intercept)       -1.49365    1.04355  -1.431    0.152\n",
       "sexMale           -0.19527    0.62115  -0.314    0.753\n",
       "definitionharmony  0.34789    0.61673   0.564    0.573\n",
       "needharmony        0.29399    0.51764   0.568    0.570\n",
       "purposecosmetic    0.32453    0.63470   0.511    0.609\n",
       "purposeetc        -0.16741    0.57661  -0.290    0.772\n",
       "interest          -0.02519    0.22951  -0.110    0.913\n",
       "\n",
       "(Dispersion parameter for binomial family taken to be 1)\n",
       "\n",
       "    Null deviance: 128.77  on 116  degrees of freedom\n",
       "Residual deviance: 126.79  on 110  degrees of freedom\n",
       "AIC: 140.79\n",
       "\n",
       "Number of Fisher Scoring iterations: 4\n"
      ]
     },
     "metadata": {},
     "output_type": "display_data"
    }
   ],
   "source": [
    "result <- glm(t2_2 ~ sex + definition + need + purpose \n",
    "              + interest, family=binomial, data=total)\n",
    "\n",
    "summary(result)"
   ]
  },
  {
   "cell_type": "code",
   "execution_count": 35,
   "metadata": {},
   "outputs": [
    {
     "data": {
      "text/plain": [
       "\n",
       "Call:\n",
       "glm(formula = t2_3 ~ sex + definition + need + purpose + interest, \n",
       "    family = binomial, data = total)\n",
       "\n",
       "Deviance Residuals: \n",
       "    Min       1Q   Median       3Q      Max  \n",
       "-1.0700  -0.6793  -0.5982  -0.4619   2.1404  \n",
       "\n",
       "Coefficients:\n",
       "                  Estimate Std. Error z value Pr(>|z|)  \n",
       "(Intercept)        -2.2606     1.1005  -2.054    0.040 *\n",
       "sexMale             0.5092     0.6159   0.827    0.408  \n",
       "definitionharmony  -0.1332     0.6153  -0.216    0.829  \n",
       "needharmony         0.2203     0.5513   0.400    0.689  \n",
       "purposecosmetic    -0.5540     0.7746  -0.715    0.474  \n",
       "purposeetc         -0.2283     0.6051  -0.377    0.706  \n",
       "interest            0.2546     0.2450   1.039    0.299  \n",
       "---\n",
       "Signif. codes:  0 '***' 0.001 '**' 0.01 '*' 0.05 '.' 0.1 ' ' 1\n",
       "\n",
       "(Dispersion parameter for binomial family taken to be 1)\n",
       "\n",
       "    Null deviance: 118.74  on 116  degrees of freedom\n",
       "Residual deviance: 115.05  on 110  degrees of freedom\n",
       "AIC: 129.05\n",
       "\n",
       "Number of Fisher Scoring iterations: 4\n"
      ]
     },
     "metadata": {},
     "output_type": "display_data"
    }
   ],
   "source": [
    "result <- glm(t2_3 ~ sex + definition + need + purpose \n",
    "              + interest, family=binomial, data=total)\n",
    "\n",
    "summary(result)"
   ]
  },
  {
   "cell_type": "code",
   "execution_count": 36,
   "metadata": {},
   "outputs": [
    {
     "data": {
      "text/plain": [
       "\n",
       "Call:\n",
       "glm(formula = t2_3 ~ sex + definition + need + purpose + interest, \n",
       "    family = binomial, data = total)\n",
       "\n",
       "Deviance Residuals: \n",
       "    Min       1Q   Median       3Q      Max  \n",
       "-1.0700  -0.6793  -0.5982  -0.4619   2.1404  \n",
       "\n",
       "Coefficients:\n",
       "                  Estimate Std. Error z value Pr(>|z|)  \n",
       "(Intercept)        -2.2606     1.1005  -2.054    0.040 *\n",
       "sexMale             0.5092     0.6159   0.827    0.408  \n",
       "definitionharmony  -0.1332     0.6153  -0.216    0.829  \n",
       "needharmony         0.2203     0.5513   0.400    0.689  \n",
       "purposecosmetic    -0.5540     0.7746  -0.715    0.474  \n",
       "purposeetc         -0.2283     0.6051  -0.377    0.706  \n",
       "interest            0.2546     0.2450   1.039    0.299  \n",
       "---\n",
       "Signif. codes:  0 '***' 0.001 '**' 0.01 '*' 0.05 '.' 0.1 ' ' 1\n",
       "\n",
       "(Dispersion parameter for binomial family taken to be 1)\n",
       "\n",
       "    Null deviance: 118.74  on 116  degrees of freedom\n",
       "Residual deviance: 115.05  on 110  degrees of freedom\n",
       "AIC: 129.05\n",
       "\n",
       "Number of Fisher Scoring iterations: 4\n"
      ]
     },
     "metadata": {},
     "output_type": "display_data"
    }
   ],
   "source": [
    "result <- glm(t2_3 ~ sex + definition + need + purpose \n",
    "              + interest, family=binomial, data=total)\n",
    "\n",
    "summary(result)"
   ]
  },
  {
   "cell_type": "code",
   "execution_count": 37,
   "metadata": {},
   "outputs": [
    {
     "data": {
      "text/plain": [
       "\n",
       "Call:\n",
       "glm(formula = t2_4 ~ sex + definition + need + purpose + interest, \n",
       "    family = binomial, data = total)\n",
       "\n",
       "Deviance Residuals: \n",
       "    Min       1Q   Median       3Q      Max  \n",
       "-0.6804  -0.5999  -0.5562  -0.5190   2.0740  \n",
       "\n",
       "Coefficients:\n",
       "                  Estimate Std. Error z value Pr(>|z|)\n",
       "(Intercept)       -1.59621    1.20239  -1.328    0.184\n",
       "sexMale           -0.13862    0.72827  -0.190    0.849\n",
       "definitionharmony  0.07613    0.70621   0.108    0.914\n",
       "needharmony        0.21842    0.61839   0.353    0.724\n",
       "purposecosmetic   -0.22859    0.80580  -0.284    0.777\n",
       "purposeetc         0.02571    0.65745   0.039    0.969\n",
       "interest          -0.06956    0.26837  -0.259    0.795\n",
       "\n",
       "(Dispersion parameter for binomial family taken to be 1)\n",
       "\n",
       "    Null deviance: 100.46  on 116  degrees of freedom\n",
       "Residual deviance: 100.01  on 110  degrees of freedom\n",
       "AIC: 114.01\n",
       "\n",
       "Number of Fisher Scoring iterations: 4\n"
      ]
     },
     "metadata": {},
     "output_type": "display_data"
    }
   ],
   "source": [
    "result <- glm(t2_4 ~ sex + definition + need + purpose \n",
    "              + interest, family=binomial, data=total)\n",
    "\n",
    "summary(result)"
   ]
  },
  {
   "cell_type": "code",
   "execution_count": 38,
   "metadata": {},
   "outputs": [
    {
     "data": {
      "text/plain": [
       "\n",
       "Call:\n",
       "glm(formula = t2_5 ~ sex + definition + need + purpose + interest, \n",
       "    family = binomial, data = total)\n",
       "\n",
       "Deviance Residuals: \n",
       "    Min       1Q   Median       3Q      Max  \n",
       "-1.0098  -0.6326  -0.5350  -0.3965   2.1217  \n",
       "\n",
       "Coefficients:\n",
       "                  Estimate Std. Error z value Pr(>|z|)  \n",
       "(Intercept)        -2.9254     1.2499  -2.341   0.0193 *\n",
       "sexMale             0.9398     0.7307   1.286   0.1984  \n",
       "definitionharmony   0.2674     0.6757   0.396   0.6923  \n",
       "needharmony        -0.6316     0.5853  -1.079   0.2805  \n",
       "purposecosmetic     0.1145     0.8563   0.134   0.8936  \n",
       "purposeetc          0.6321     0.7135   0.886   0.3756  \n",
       "interest            0.2620     0.2715   0.965   0.3346  \n",
       "---\n",
       "Signif. codes:  0 '***' 0.001 '**' 0.01 '*' 0.05 '.' 0.1 ' ' 1\n",
       "\n",
       "(Dispersion parameter for binomial family taken to be 1)\n",
       "\n",
       "    Null deviance: 103.806  on 116  degrees of freedom\n",
       "Residual deviance:  99.861  on 110  degrees of freedom\n",
       "AIC: 113.86\n",
       "\n",
       "Number of Fisher Scoring iterations: 4\n"
      ]
     },
     "metadata": {},
     "output_type": "display_data"
    }
   ],
   "source": [
    "result <- glm(t2_5 ~ sex + definition + need + purpose \n",
    "              + interest, family=binomial, data=total)\n",
    "\n",
    "summary(result)"
   ]
  },
  {
   "cell_type": "code",
   "execution_count": 39,
   "metadata": {},
   "outputs": [
    {
     "data": {
      "text/plain": [
       "\n",
       "Call:\n",
       "glm(formula = d1_1 ~ sex + definition + need + purpose + interest, \n",
       "    family = binomial, data = total)\n",
       "\n",
       "Deviance Residuals: \n",
       "    Min       1Q   Median       3Q      Max  \n",
       "-0.9546  -0.7616  -0.6086  -0.5179   2.0652  \n",
       "\n",
       "Coefficients:\n",
       "                  Estimate Std. Error z value Pr(>|z|)  \n",
       "(Intercept)       -1.79215    1.07094  -1.673   0.0942 .\n",
       "sexMale            0.54236    0.67715   0.801   0.4232  \n",
       "definitionharmony -0.21867    0.58922  -0.371   0.7105  \n",
       "needharmony       -0.12582    0.53446  -0.235   0.8139  \n",
       "purposecosmetic    0.22017    0.76007   0.290   0.7721  \n",
       "purposeetc         0.91696    0.62163   1.475   0.1402  \n",
       "interest           0.06514    0.23566   0.276   0.7822  \n",
       "---\n",
       "Signif. codes:  0 '***' 0.001 '**' 0.01 '*' 0.05 '.' 0.1 ' ' 1\n",
       "\n",
       "(Dispersion parameter for binomial family taken to be 1)\n",
       "\n",
       "    Null deviance: 123.95  on 116  degrees of freedom\n",
       "Residual deviance: 120.47  on 110  degrees of freedom\n",
       "AIC: 134.47\n",
       "\n",
       "Number of Fisher Scoring iterations: 4\n"
      ]
     },
     "metadata": {},
     "output_type": "display_data"
    }
   ],
   "source": [
    "result <- glm(d1_1 ~ sex + definition + need + purpose \n",
    "              + interest, family=binomial, data=total)\n",
    "\n",
    "summary(result)"
   ]
  },
  {
   "cell_type": "code",
   "execution_count": 40,
   "metadata": {},
   "outputs": [
    {
     "data": {
      "text/plain": [
       "\n",
       "Call:\n",
       "glm(formula = d1_2 ~ sex + definition + need + purpose + interest, \n",
       "    family = binomial, data = total)\n",
       "\n",
       "Deviance Residuals: \n",
       "    Min       1Q   Median       3Q      Max  \n",
       "-1.3172  -0.9337  -0.7865   1.2430   1.9382  \n",
       "\n",
       "Coefficients:\n",
       "                  Estimate Std. Error z value Pr(>|z|)\n",
       "(Intercept)         0.7245     0.9487   0.764    0.445\n",
       "sexMale            -0.8097     0.6009  -1.347    0.178\n",
       "definitionharmony  -0.4299     0.5160  -0.833    0.405\n",
       "needharmony        -0.4514     0.4614  -0.978    0.328\n",
       "purposecosmetic    -0.2526     0.5973  -0.423    0.672\n",
       "purposeetc         -0.2613     0.5157  -0.507    0.612\n",
       "interest           -0.1492     0.2156  -0.692    0.489\n",
       "\n",
       "(Dispersion parameter for binomial family taken to be 1)\n",
       "\n",
       "    Null deviance: 148.94  on 116  degrees of freedom\n",
       "Residual deviance: 143.32  on 110  degrees of freedom\n",
       "AIC: 157.32\n",
       "\n",
       "Number of Fisher Scoring iterations: 4\n"
      ]
     },
     "metadata": {},
     "output_type": "display_data"
    }
   ],
   "source": [
    "result <- glm(d1_2 ~ sex + definition + need + purpose \n",
    "              + interest, family=binomial, data=total)\n",
    "\n",
    "summary(result)"
   ]
  },
  {
   "cell_type": "code",
   "execution_count": 41,
   "metadata": {},
   "outputs": [
    {
     "data": {
      "text/plain": [
       "\n",
       "Call:\n",
       "glm(formula = d1_3 ~ sex + definition + need + purpose + interest, \n",
       "    family = binomial, data = total)\n",
       "\n",
       "Deviance Residuals: \n",
       "    Min       1Q   Median       3Q      Max  \n",
       "-0.8392  -0.6532  -0.4739  -0.2750   2.3557  \n",
       "\n",
       "Coefficients:\n",
       "                  Estimate Std. Error z value Pr(>|z|)  \n",
       "(Intercept)       -3.70919    1.45092  -2.556   0.0106 *\n",
       "sexMale            0.44403    0.81285   0.546   0.5849  \n",
       "definitionharmony  0.15517    0.87760   0.177   0.8597  \n",
       "needharmony        1.71132    0.85844   1.994   0.0462 *\n",
       "purposecosmetic    1.01785    0.87241   1.167   0.2433  \n",
       "purposeetc         0.54713    0.77752   0.704   0.4816  \n",
       "interest          -0.01885    0.28235  -0.067   0.9468  \n",
       "---\n",
       "Signif. codes:  0 '***' 0.001 '**' 0.01 '*' 0.05 '.' 0.1 ' ' 1\n",
       "\n",
       "(Dispersion parameter for binomial family taken to be 1)\n",
       "\n",
       "    Null deviance: 93.372  on 116  degrees of freedom\n",
       "Residual deviance: 85.820  on 110  degrees of freedom\n",
       "AIC: 99.82\n",
       "\n",
       "Number of Fisher Scoring iterations: 5\n"
      ]
     },
     "metadata": {},
     "output_type": "display_data"
    }
   ],
   "source": [
    "result <- glm(d1_3 ~ sex + definition + need + purpose \n",
    "              + interest, family=binomial, data=total)\n",
    "\n",
    "summary(result)\n",
    "\n",
    "# 역시 답변이 매우 적은편"
   ]
  },
  {
   "cell_type": "code",
   "execution_count": 42,
   "metadata": {},
   "outputs": [
    {
     "data": {
      "text/plain": [
       "\n",
       "Call:\n",
       "glm(formula = d1_4 ~ sex + definition + need + purpose + interest, \n",
       "    family = binomial, data = total)\n",
       "\n",
       "Deviance Residuals: \n",
       "    Min       1Q   Median       3Q      Max  \n",
       "-0.9627  -0.7387  -0.4892  -0.3391   2.4019  \n",
       "\n",
       "Coefficients:\n",
       "                   Estimate Std. Error z value Pr(>|z|)  \n",
       "(Intercept)       -1.930365   1.164900  -1.657   0.0975 .\n",
       "sexMale            0.222431   0.623748   0.357   0.7214  \n",
       "definitionharmony  0.721049   0.718396   1.004   0.3155  \n",
       "needharmony        0.041545   0.544919   0.076   0.9392  \n",
       "purposecosmetic    0.454161   0.650494   0.698   0.4851  \n",
       "purposeetc        -0.905088   0.696886  -1.299   0.1940  \n",
       "interest           0.002067   0.251627   0.008   0.9934  \n",
       "---\n",
       "Signif. codes:  0 '***' 0.001 '**' 0.01 '*' 0.05 '.' 0.1 ' ' 1\n",
       "\n",
       "(Dispersion parameter for binomial family taken to be 1)\n",
       "\n",
       "    Null deviance: 115.98  on 116  degrees of freedom\n",
       "Residual deviance: 108.99  on 110  degrees of freedom\n",
       "AIC: 122.99\n",
       "\n",
       "Number of Fisher Scoring iterations: 5\n"
      ]
     },
     "metadata": {},
     "output_type": "display_data"
    }
   ],
   "source": [
    "result <- glm(d1_4 ~ sex + definition + need + purpose \n",
    "              + interest, family=binomial, data=total)\n",
    "\n",
    "summary(result)"
   ]
  },
  {
   "cell_type": "code",
   "execution_count": 43,
   "metadata": {},
   "outputs": [
    {
     "data": {
      "text/plain": [
       "\n",
       "Call:\n",
       "glm(formula = d1_5 ~ sex + definition + need + purpose + interest, \n",
       "    family = binomial, data = total)\n",
       "\n",
       "Deviance Residuals: \n",
       "     Min        1Q    Median        3Q       Max  \n",
       "-0.70227  -0.55124  -0.50721  -0.00014   2.19799  \n",
       "\n",
       "Coefficients:\n",
       "                    Estimate Std. Error z value Pr(>|z|)  \n",
       "(Intercept)         -2.33508    1.40197  -1.666   0.0958 .\n",
       "sexMale             -0.02289    0.75196  -0.030   0.9757  \n",
       "definitionharmony    0.38841    0.81641   0.476   0.6342  \n",
       "needharmony         -0.34653    0.70046  -0.495   0.6208  \n",
       "purposecosmetic    -16.97917 1354.21675  -0.013   0.9900  \n",
       "purposeetc          -0.36508    0.71226  -0.513   0.6083  \n",
       "interest             0.16812    0.31637   0.531   0.5951  \n",
       "---\n",
       "Signif. codes:  0 '***' 0.001 '**' 0.01 '*' 0.05 '.' 0.1 ' ' 1\n",
       "\n",
       "(Dispersion parameter for binomial family taken to be 1)\n",
       "\n",
       "    Null deviance: 81.627  on 116  degrees of freedom\n",
       "Residual deviance: 74.653  on 110  degrees of freedom\n",
       "AIC: 88.653\n",
       "\n",
       "Number of Fisher Scoring iterations: 17\n"
      ]
     },
     "metadata": {},
     "output_type": "display_data"
    }
   ],
   "source": [
    "result <- glm(d1_5 ~ sex + definition + need + purpose \n",
    "              + interest, family=binomial, data=total)\n",
    "\n",
    "summary(result)"
   ]
  },
  {
   "cell_type": "code",
   "execution_count": 44,
   "metadata": {},
   "outputs": [
    {
     "data": {
      "text/plain": [
       "\n",
       "Call:\n",
       "glm(formula = d2_1 ~ sex + definition + need + purpose + interest, \n",
       "    family = binomial, data = total)\n",
       "\n",
       "Deviance Residuals: \n",
       "    Min       1Q   Median       3Q      Max  \n",
       "-1.2850  -0.9736  -0.8647   1.3471   1.6467  \n",
       "\n",
       "Coefficients:\n",
       "                  Estimate Std. Error z value Pr(>|z|)\n",
       "(Intercept)       -1.21720    0.91611  -1.329    0.184\n",
       "sexMale            0.10980    0.55007   0.200    0.842\n",
       "definitionharmony  0.50325    0.52416   0.960    0.337\n",
       "needharmony       -0.51330    0.44982  -1.141    0.254\n",
       "purposecosmetic    0.09129    0.58747   0.155    0.877\n",
       "purposeetc         0.23651    0.50695   0.467    0.641\n",
       "interest           0.14539    0.20438   0.711    0.477\n",
       "\n",
       "(Dispersion parameter for binomial family taken to be 1)\n",
       "\n",
       "    Null deviance: 154.93  on 116  degrees of freedom\n",
       "Residual deviance: 152.75  on 110  degrees of freedom\n",
       "AIC: 166.75\n",
       "\n",
       "Number of Fisher Scoring iterations: 4\n"
      ]
     },
     "metadata": {},
     "output_type": "display_data"
    }
   ],
   "source": [
    "result <- glm(d2_1 ~ sex + definition + need + purpose \n",
    "              + interest, family=binomial, data=total)\n",
    "\n",
    "summary(result)"
   ]
  },
  {
   "cell_type": "code",
   "execution_count": 45,
   "metadata": {},
   "outputs": [
    {
     "data": {
      "text/plain": [
       "\n",
       "Call:\n",
       "glm(formula = d2_2 ~ sex + definition + need + purpose + interest, \n",
       "    family = binomial, data = total)\n",
       "\n",
       "Deviance Residuals: \n",
       "    Min       1Q   Median       3Q      Max  \n",
       "-1.2466  -0.6575  -0.4897  -0.3413   2.3718  \n",
       "\n",
       "Coefficients:\n",
       "                  Estimate Std. Error z value Pr(>|z|)  \n",
       "(Intercept)        0.94903    1.15197   0.824   0.4100  \n",
       "sexMale           -1.23372    0.75971  -1.624   0.1044  \n",
       "definitionharmony -1.05780    0.62370  -1.696   0.0899 .\n",
       "needharmony       -0.09542    0.59712  -0.160   0.8730  \n",
       "purposecosmetic   -1.55932    0.87705  -1.778   0.0754 .\n",
       "purposeetc        -0.80577    0.60108  -1.341   0.1801  \n",
       "interest          -0.26260    0.27109  -0.969   0.3327  \n",
       "---\n",
       "Signif. codes:  0 '***' 0.001 '**' 0.01 '*' 0.05 '.' 0.1 ' ' 1\n",
       "\n",
       "(Dispersion parameter for binomial family taken to be 1)\n",
       "\n",
       "    Null deviance: 110.12  on 116  degrees of freedom\n",
       "Residual deviance: 100.30  on 110  degrees of freedom\n",
       "AIC: 114.3\n",
       "\n",
       "Number of Fisher Scoring iterations: 5\n"
      ]
     },
     "metadata": {},
     "output_type": "display_data"
    }
   ],
   "source": [
    "result <- glm(d2_2 ~ sex + definition + need + purpose \n",
    "              + interest, family=binomial, data=total)\n",
    "\n",
    "summary(result)"
   ]
  },
  {
   "cell_type": "code",
   "execution_count": 46,
   "metadata": {},
   "outputs": [
    {
     "data": {
      "text/plain": [
       "\n",
       "Call:\n",
       "glm(formula = d2_3 ~ sex + definition + need + purpose + interest, \n",
       "    family = binomial, data = total)\n",
       "\n",
       "Deviance Residuals: \n",
       "    Min       1Q   Median       3Q      Max  \n",
       "-1.2274  -0.6875  -0.3791  -0.1938   2.3476  \n",
       "\n",
       "Coefficients:\n",
       "                  Estimate Std. Error z value Pr(>|z|)   \n",
       "(Intercept)       -4.10175    1.49157  -2.750  0.00596 **\n",
       "sexMale            1.14850    0.87262   1.316  0.18813   \n",
       "definitionharmony  0.27196    0.92045   0.295  0.76764   \n",
       "needharmony        1.38638    0.89248   1.553  0.12033   \n",
       "purposecosmetic   -0.20885    1.26998  -0.164  0.86938   \n",
       "purposeetc         1.31995    0.84427   1.563  0.11795   \n",
       "interest           0.01837    0.28567   0.064  0.94872   \n",
       "---\n",
       "Signif. codes:  0 '***' 0.001 '**' 0.01 '*' 0.05 '.' 0.1 ' ' 1\n",
       "\n",
       "(Dispersion parameter for binomial family taken to be 1)\n",
       "\n",
       "    Null deviance: 89.613  on 116  degrees of freedom\n",
       "Residual deviance: 79.538  on 110  degrees of freedom\n",
       "AIC: 93.538\n",
       "\n",
       "Number of Fisher Scoring iterations: 6\n"
      ]
     },
     "metadata": {},
     "output_type": "display_data"
    }
   ],
   "source": [
    "result <- glm(d2_3 ~ sex + definition + need + purpose \n",
    "              + interest, family=binomial, data=total)\n",
    "\n",
    "summary(result)"
   ]
  },
  {
   "cell_type": "code",
   "execution_count": 47,
   "metadata": {},
   "outputs": [
    {
     "data": {
      "text/plain": [
       "\n",
       "Call:\n",
       "glm(formula = d2_4 ~ sex + definition + need + purpose + interest, \n",
       "    family = binomial, data = total)\n",
       "\n",
       "Deviance Residuals: \n",
       "    Min       1Q   Median       3Q      Max  \n",
       "-1.0763  -0.6490  -0.5481  -0.4198   2.2240  \n",
       "\n",
       "Coefficients:\n",
       "                  Estimate Std. Error z value Pr(>|z|)\n",
       "(Intercept)        -0.8062     1.1570  -0.697    0.486\n",
       "sexMale            -0.8353     0.7610  -1.098    0.272\n",
       "definitionharmony   0.4431     0.6869   0.645    0.519\n",
       "needharmony        -0.1199     0.5590  -0.215    0.830\n",
       "purposecosmetic     0.7244     0.6500   1.115    0.265\n",
       "purposeetc         -0.3693     0.6508  -0.567    0.570\n",
       "interest           -0.2419     0.2633  -0.919    0.358\n",
       "\n",
       "(Dispersion parameter for binomial family taken to be 1)\n",
       "\n",
       "    Null deviance: 113.11  on 116  degrees of freedom\n",
       "Residual deviance: 106.36  on 110  degrees of freedom\n",
       "AIC: 120.36\n",
       "\n",
       "Number of Fisher Scoring iterations: 4\n"
      ]
     },
     "metadata": {},
     "output_type": "display_data"
    }
   ],
   "source": [
    "result <- glm(d2_4 ~ sex + definition + need + purpose \n",
    "              + interest, family=binomial, data=total)\n",
    "\n",
    "summary(result)"
   ]
  },
  {
   "cell_type": "code",
   "execution_count": 48,
   "metadata": {},
   "outputs": [
    {
     "data": {
      "text/plain": [
       "\n",
       "Call:\n",
       "glm(formula = d2_5 ~ sex + definition + need + purpose + interest, \n",
       "    family = binomial, data = total)\n",
       "\n",
       "Deviance Residuals: \n",
       "    Min       1Q   Median       3Q      Max  \n",
       "-1.0014  -0.5365  -0.4395  -0.3913   2.4138  \n",
       "\n",
       "Coefficients:\n",
       "                  Estimate Std. Error z value Pr(>|z|)  \n",
       "(Intercept)        -3.0269     1.3308  -2.274   0.0229 *\n",
       "sexMale             1.0585     0.7577   1.397   0.1624  \n",
       "definitionharmony  -0.4228     0.7230  -0.585   0.5587  \n",
       "needharmony         0.3261     0.6630   0.492   0.6228  \n",
       "purposecosmetic     0.4064     0.8779   0.463   0.6434  \n",
       "purposeetc         -0.1355     0.8056  -0.168   0.8665  \n",
       "interest            0.2426     0.2906   0.835   0.4038  \n",
       "---\n",
       "Signif. codes:  0 '***' 0.001 '**' 0.01 '*' 0.05 '.' 0.1 ' ' 1\n",
       "\n",
       "(Dispersion parameter for binomial family taken to be 1)\n",
       "\n",
       "    Null deviance: 89.613  on 116  degrees of freedom\n",
       "Residual deviance: 85.650  on 110  degrees of freedom\n",
       "AIC: 99.65\n",
       "\n",
       "Number of Fisher Scoring iterations: 5\n"
      ]
     },
     "metadata": {},
     "output_type": "display_data"
    }
   ],
   "source": [
    "result <- glm(d2_5 ~ sex + definition + need + purpose \n",
    "              + interest, family=binomial, data=total)\n",
    "\n",
    "summary(result)"
   ]
  },
  {
   "cell_type": "code",
   "execution_count": 49,
   "metadata": {},
   "outputs": [
    {
     "data": {
      "text/plain": [
       "\n",
       "Call:\n",
       "glm(formula = d3_1 ~ sex + definition + need + purpose + interest, \n",
       "    family = binomial, data = total)\n",
       "\n",
       "Deviance Residuals: \n",
       "    Min       1Q   Median       3Q      Max  \n",
       "-1.2540  -0.6273  -0.4135  -0.2748   2.2830  \n",
       "\n",
       "Coefficients:\n",
       "                  Estimate Std. Error z value Pr(>|z|)  \n",
       "(Intercept)       -2.58211    1.34074  -1.926   0.0541 .\n",
       "sexMale           -0.84168    0.89523  -0.940   0.3471  \n",
       "definitionharmony  0.02721    0.66188   0.041   0.9672  \n",
       "needharmony       -1.19658    0.59646  -2.006   0.0448 *\n",
       "purposecosmetic    0.95266    0.70492   1.351   0.1766  \n",
       "purposeetc        -0.55835    0.73700  -0.758   0.4487  \n",
       "interest           0.44512    0.31191   1.427   0.1536  \n",
       "---\n",
       "Signif. codes:  0 '***' 0.001 '**' 0.01 '*' 0.05 '.' 0.1 ' ' 1\n",
       "\n",
       "(Dispersion parameter for binomial family taken to be 1)\n",
       "\n",
       "    Null deviance: 103.806  on 116  degrees of freedom\n",
       "Residual deviance:  89.792  on 110  degrees of freedom\n",
       "AIC: 103.79\n",
       "\n",
       "Number of Fisher Scoring iterations: 5\n"
      ]
     },
     "metadata": {},
     "output_type": "display_data"
    }
   ],
   "source": [
    "result <- glm(d3_1 ~ sex + definition + need + purpose \n",
    "              + interest, family=binomial, data=total)\n",
    "\n",
    "summary(result)"
   ]
  },
  {
   "cell_type": "code",
   "execution_count": 50,
   "metadata": {},
   "outputs": [
    {
     "data": {
      "text/plain": [
       "\n",
       "Call:\n",
       "glm(formula = d3_2 ~ sex + definition + need + purpose + interest, \n",
       "    family = binomial, data = total)\n",
       "\n",
       "Deviance Residuals: \n",
       "    Min       1Q   Median       3Q      Max  \n",
       "-0.9568  -0.7003  -0.6128  -0.2686   2.5302  \n",
       "\n",
       "Coefficients:\n",
       "                  Estimate Std. Error z value Pr(>|z|)  \n",
       "(Intercept)        -0.5806     1.1171  -0.520   0.6032  \n",
       "sexMale            -0.1046     0.6449  -0.162   0.8711  \n",
       "definitionharmony  -0.1445     0.6729  -0.215   0.8300  \n",
       "needharmony         0.5424     0.6187   0.877   0.3806  \n",
       "purposecosmetic    -1.8420     1.1193  -1.646   0.0998 .\n",
       "purposeetc         -0.1155     0.5897  -0.196   0.8447  \n",
       "interest           -0.2456     0.2524  -0.973   0.3304  \n",
       "---\n",
       "Signif. codes:  0 '***' 0.001 '**' 0.01 '*' 0.05 '.' 0.1 ' ' 1\n",
       "\n",
       "(Dispersion parameter for binomial family taken to be 1)\n",
       "\n",
       "    Null deviance: 113.11  on 116  degrees of freedom\n",
       "Residual deviance: 106.12  on 110  degrees of freedom\n",
       "AIC: 120.12\n",
       "\n",
       "Number of Fisher Scoring iterations: 5\n"
      ]
     },
     "metadata": {},
     "output_type": "display_data"
    }
   ],
   "source": [
    "result <- glm(d3_2 ~ sex + definition + need + purpose \n",
    "              + interest, family=binomial, data=total)\n",
    "\n",
    "summary(result)"
   ]
  },
  {
   "cell_type": "code",
   "execution_count": 51,
   "metadata": {},
   "outputs": [
    {
     "data": {
      "text/plain": [
       "\n",
       "Call:\n",
       "glm(formula = d3_3 ~ sex + definition + need + purpose + interest, \n",
       "    family = binomial, data = total)\n",
       "\n",
       "Deviance Residuals: \n",
       "    Min       1Q   Median       3Q      Max  \n",
       "-0.9937  -0.7641  -0.6536  -0.4832   1.9182  \n",
       "\n",
       "Coefficients:\n",
       "                  Estimate Std. Error z value Pr(>|z|)  \n",
       "(Intercept)        -2.2411     1.0769  -2.081   0.0374 *\n",
       "sexMale             0.4137     0.6052   0.684   0.4942  \n",
       "definitionharmony   0.6308     0.6299   1.001   0.3167  \n",
       "needharmony        -0.2318     0.5166  -0.449   0.6537  \n",
       "purposecosmetic    -0.3677     0.7163  -0.513   0.6077  \n",
       "purposeetc          0.1127     0.5812   0.194   0.8462  \n",
       "interest            0.1733     0.2343   0.740   0.4594  \n",
       "---\n",
       "Signif. codes:  0 '***' 0.001 '**' 0.01 '*' 0.05 '.' 0.1 ' ' 1\n",
       "\n",
       "(Dispersion parameter for binomial family taken to be 1)\n",
       "\n",
       "    Null deviance: 126.41  on 116  degrees of freedom\n",
       "Residual deviance: 123.79  on 110  degrees of freedom\n",
       "AIC: 137.79\n",
       "\n",
       "Number of Fisher Scoring iterations: 4\n"
      ]
     },
     "metadata": {},
     "output_type": "display_data"
    }
   ],
   "source": [
    "result <- glm(d3_3 ~ sex + definition + need + purpose \n",
    "              + interest, family=binomial, data=total)\n",
    "\n",
    "summary(result)"
   ]
  },
  {
   "cell_type": "code",
   "execution_count": 52,
   "metadata": {},
   "outputs": [
    {
     "data": {
      "text/plain": [
       "\n",
       "Call:\n",
       "glm(formula = d3_4 ~ sex + definition + need + purpose + interest, \n",
       "    family = binomial, data = total)\n",
       "\n",
       "Deviance Residuals: \n",
       "    Min       1Q   Median       3Q      Max  \n",
       "-0.6681  -0.6139  -0.5831  -0.5552   1.9935  \n",
       "\n",
       "Coefficients:\n",
       "                  Estimate Std. Error z value Pr(>|z|)\n",
       "(Intercept)       -1.38981    1.17040  -1.187    0.235\n",
       "sexMale           -0.12806    0.72382  -0.177    0.860\n",
       "definitionharmony -0.01689    0.66012  -0.026    0.980\n",
       "needharmony       -0.16014    0.58103  -0.276    0.783\n",
       "purposecosmetic    0.03597    0.75023   0.048    0.962\n",
       "purposeetc        -0.02196    0.65569  -0.033    0.973\n",
       "interest          -0.03229    0.26506  -0.122    0.903\n",
       "\n",
       "(Dispersion parameter for binomial family taken to be 1)\n",
       "\n",
       "    Null deviance: 103.81  on 116  degrees of freedom\n",
       "Residual deviance: 103.62  on 110  degrees of freedom\n",
       "AIC: 117.62\n",
       "\n",
       "Number of Fisher Scoring iterations: 4\n"
      ]
     },
     "metadata": {},
     "output_type": "display_data"
    }
   ],
   "source": [
    "result <- glm(d3_4 ~ sex + definition + need + purpose \n",
    "              + interest, family=binomial, data=total)\n",
    "\n",
    "summary(result)"
   ]
  },
  {
   "cell_type": "code",
   "execution_count": 53,
   "metadata": {},
   "outputs": [
    {
     "data": {
      "text/plain": [
       "\n",
       "Call:\n",
       "glm(formula = d3_5 ~ sex + definition + need + purpose + interest, \n",
       "    family = binomial, data = total)\n",
       "\n",
       "Deviance Residuals: \n",
       "    Min       1Q   Median       3Q      Max  \n",
       "-1.0484  -0.8169  -0.7046   1.2482   2.0229  \n",
       "\n",
       "Coefficients:\n",
       "                  Estimate Std. Error z value Pr(>|z|)\n",
       "(Intercept)        -0.8059     0.9910  -0.813    0.416\n",
       "sexMale             0.2138     0.6216   0.344    0.731\n",
       "definitionharmony  -0.5669     0.5777  -0.981    0.326\n",
       "needharmony         0.7839     0.5385   1.456    0.145\n",
       "purposecosmetic     0.4239     0.6692   0.633    0.526\n",
       "purposeetc          0.3760     0.5733   0.656    0.512\n",
       "interest           -0.1783     0.2217  -0.804    0.421\n",
       "\n",
       "(Dispersion parameter for binomial family taken to be 1)\n",
       "\n",
       "    Null deviance: 133.21  on 116  degrees of freedom\n",
       "Residual deviance: 130.05  on 110  degrees of freedom\n",
       "AIC: 144.05\n",
       "\n",
       "Number of Fisher Scoring iterations: 4\n"
      ]
     },
     "metadata": {},
     "output_type": "display_data"
    }
   ],
   "source": [
    "result <- glm(d3_5 ~ sex + definition + need + purpose \n",
    "              + interest, family=binomial, data=total)\n",
    "\n",
    "summary(result)"
   ]
  },
  {
   "cell_type": "code",
   "execution_count": null,
   "metadata": {},
   "outputs": [],
   "source": []
  }
 ],
 "metadata": {
  "kernelspec": {
   "display_name": "R",
   "language": "R",
   "name": "ir"
  },
  "language_info": {
   "codemirror_mode": "r",
   "file_extension": ".r",
   "mimetype": "text/x-r-source",
   "name": "R",
   "pygments_lexer": "r",
   "version": "3.6.1"
  }
 },
 "nbformat": 4,
 "nbformat_minor": 4
}
