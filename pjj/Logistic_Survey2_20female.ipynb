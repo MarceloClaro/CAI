{
 "cells": [
  {
   "cell_type": "code",
   "execution_count": 1,
   "metadata": {
    "scrolled": true
   },
   "outputs": [
    {
     "name": "stderr",
     "output_type": "stream",
     "text": [
      "Warning message:\n",
      "\"package 'ROCR' was built under R version 3.6.3\"Loading required package: gplots\n",
      "Warning message:\n",
      "\"package 'gplots' was built under R version 3.6.3\"\n",
      "Attaching package: 'gplots'\n",
      "\n",
      "The following object is masked from 'package:stats':\n",
      "\n",
      "    lowess\n",
      "\n",
      "Warning message:\n",
      "\"package 'dplyr' was built under R version 3.6.3\"\n",
      "Attaching package: 'dplyr'\n",
      "\n",
      "The following objects are masked from 'package:stats':\n",
      "\n",
      "    filter, lag\n",
      "\n",
      "The following objects are masked from 'package:base':\n",
      "\n",
      "    intersect, setdiff, setequal, union\n",
      "\n"
     ]
    }
   ],
   "source": [
    "library(ROCR)\n",
    "library(dplyr)"
   ]
  },
  {
   "cell_type": "code",
   "execution_count": 2,
   "metadata": {},
   "outputs": [],
   "source": [
    "survey <- read.csv('전처리/2번설문/change_harmony.csv')"
   ]
  },
  {
   "cell_type": "code",
   "execution_count": 3,
   "metadata": {
    "scrolled": false
   },
   "outputs": [
    {
     "name": "stdout",
     "output_type": "stream",
     "text": [
      "'data.frame':\t96 obs. of  13 variables:\n",
      " $ X          : int  0 1 2 3 4 5 6 7 8 9 ...\n",
      " $ sex        : Factor w/ 2 levels \"Female\",\"Male\": 1 2 1 2 1 1 1 1 1 1 ...\n",
      " $ age_class  : int  20 20 20 20 20 30 30 20 30 20 ...\n",
      " $ definition : Factor w/ 2 levels \"bright\",\"harmony\": 1 2 1 1 1 2 2 1 2 2 ...\n",
      " $ need       : Factor w/ 2 levels \"bright\",\"harmony\": 1 2 1 2 1 2 1 1 1 2 ...\n",
      " $ purpose    : Factor w/ 3 levels \"clothes\",\"cosmetic\",..: 1 1 1 1 2 1 1 2 3 1 ...\n",
      " $ interest   : int  3 5 5 3 3 4 3 3 5 1 ...\n",
      " $ comp       : int  3 5 5 5 2 3 3 2 2 5 ...\n",
      " $ triangle1  : int  4 5 5 5 4 2 5 5 5 4 ...\n",
      " $ triangle2  : int  3 4 4 2 3 2 3 3 1 2 ...\n",
      " $ doubleness1: int  2 1 2 5 4 5 2 1 5 1 ...\n",
      " $ doubleness2: int  2 2 2 4 3 4 3 5 2 4 ...\n",
      " $ doubleness3: int  1 3 1 5 1 5 5 3 1 2 ...\n"
     ]
    },
    {
     "data": {
      "text/html": [
       "<table>\n",
       "<thead><tr><th scope=col>X</th><th scope=col>sex</th><th scope=col>age_class</th><th scope=col>definition</th><th scope=col>need</th><th scope=col>purpose</th><th scope=col>interest</th><th scope=col>comp</th><th scope=col>triangle1</th><th scope=col>triangle2</th><th scope=col>doubleness1</th><th scope=col>doubleness2</th><th scope=col>doubleness3</th></tr></thead>\n",
       "<tbody>\n",
       "\t<tr><td>0       </td><td>Female  </td><td>20      </td><td>bright  </td><td>bright  </td><td>clothes </td><td>3       </td><td>3       </td><td>4       </td><td>3       </td><td>2       </td><td>2       </td><td>1       </td></tr>\n",
       "\t<tr><td>1       </td><td>Male    </td><td>20      </td><td>harmony </td><td>harmony </td><td>clothes </td><td>5       </td><td>5       </td><td>5       </td><td>4       </td><td>1       </td><td>2       </td><td>3       </td></tr>\n",
       "\t<tr><td>2       </td><td>Female  </td><td>20      </td><td>bright  </td><td>bright  </td><td>clothes </td><td>5       </td><td>5       </td><td>5       </td><td>4       </td><td>2       </td><td>2       </td><td>1       </td></tr>\n",
       "\t<tr><td>3       </td><td>Male    </td><td>20      </td><td>bright  </td><td>harmony </td><td>clothes </td><td>3       </td><td>5       </td><td>5       </td><td>2       </td><td>5       </td><td>4       </td><td>5       </td></tr>\n",
       "\t<tr><td>4       </td><td>Female  </td><td>20      </td><td>bright  </td><td>bright  </td><td>cosmetic</td><td>3       </td><td>2       </td><td>4       </td><td>3       </td><td>4       </td><td>3       </td><td>1       </td></tr>\n",
       "\t<tr><td>5       </td><td>Female  </td><td>30      </td><td>harmony </td><td>harmony </td><td>clothes </td><td>4       </td><td>3       </td><td>2       </td><td>2       </td><td>5       </td><td>4       </td><td>5       </td></tr>\n",
       "</tbody>\n",
       "</table>\n"
      ],
      "text/latex": [
       "\\begin{tabular}{r|lllllllllllll}\n",
       " X & sex & age\\_class & definition & need & purpose & interest & comp & triangle1 & triangle2 & doubleness1 & doubleness2 & doubleness3\\\\\n",
       "\\hline\n",
       "\t 0        & Female   & 20       & bright   & bright   & clothes  & 3        & 3        & 4        & 3        & 2        & 2        & 1       \\\\\n",
       "\t 1        & Male     & 20       & harmony  & harmony  & clothes  & 5        & 5        & 5        & 4        & 1        & 2        & 3       \\\\\n",
       "\t 2        & Female   & 20       & bright   & bright   & clothes  & 5        & 5        & 5        & 4        & 2        & 2        & 1       \\\\\n",
       "\t 3        & Male     & 20       & bright   & harmony  & clothes  & 3        & 5        & 5        & 2        & 5        & 4        & 5       \\\\\n",
       "\t 4        & Female   & 20       & bright   & bright   & cosmetic & 3        & 2        & 4        & 3        & 4        & 3        & 1       \\\\\n",
       "\t 5        & Female   & 30       & harmony  & harmony  & clothes  & 4        & 3        & 2        & 2        & 5        & 4        & 5       \\\\\n",
       "\\end{tabular}\n"
      ],
      "text/markdown": [
       "\n",
       "| X | sex | age_class | definition | need | purpose | interest | comp | triangle1 | triangle2 | doubleness1 | doubleness2 | doubleness3 |\n",
       "|---|---|---|---|---|---|---|---|---|---|---|---|---|\n",
       "| 0        | Female   | 20       | bright   | bright   | clothes  | 3        | 3        | 4        | 3        | 2        | 2        | 1        |\n",
       "| 1        | Male     | 20       | harmony  | harmony  | clothes  | 5        | 5        | 5        | 4        | 1        | 2        | 3        |\n",
       "| 2        | Female   | 20       | bright   | bright   | clothes  | 5        | 5        | 5        | 4        | 2        | 2        | 1        |\n",
       "| 3        | Male     | 20       | bright   | harmony  | clothes  | 3        | 5        | 5        | 2        | 5        | 4        | 5        |\n",
       "| 4        | Female   | 20       | bright   | bright   | cosmetic | 3        | 2        | 4        | 3        | 4        | 3        | 1        |\n",
       "| 5        | Female   | 30       | harmony  | harmony  | clothes  | 4        | 3        | 2        | 2        | 5        | 4        | 5        |\n",
       "\n"
      ],
      "text/plain": [
       "  X sex    age_class definition need    purpose  interest comp triangle1\n",
       "1 0 Female 20        bright     bright  clothes  3        3    4        \n",
       "2 1 Male   20        harmony    harmony clothes  5        5    5        \n",
       "3 2 Female 20        bright     bright  clothes  5        5    5        \n",
       "4 3 Male   20        bright     harmony clothes  3        5    5        \n",
       "5 4 Female 20        bright     bright  cosmetic 3        2    4        \n",
       "6 5 Female 30        harmony    harmony clothes  4        3    2        \n",
       "  triangle2 doubleness1 doubleness2 doubleness3\n",
       "1 3         2           2           1          \n",
       "2 4         1           2           3          \n",
       "3 4         2           2           1          \n",
       "4 2         5           4           5          \n",
       "5 3         4           3           1          \n",
       "6 2         5           4           5          "
      ]
     },
     "metadata": {},
     "output_type": "display_data"
    }
   ],
   "source": [
    "str(survey)\n",
    "head(survey)"
   ]
  },
  {
   "cell_type": "code",
   "execution_count": 4,
   "metadata": {
    "scrolled": true
   },
   "outputs": [],
   "source": [
    "survey2 = filter(survey, sex=='Female')"
   ]
  },
  {
   "cell_type": "code",
   "execution_count": 5,
   "metadata": {},
   "outputs": [
    {
     "name": "stdout",
     "output_type": "stream",
     "text": [
      "'data.frame':\t61 obs. of  13 variables:\n",
      " $ X          : int  0 2 4 5 6 7 8 9 10 11 ...\n",
      " $ sex        : Factor w/ 2 levels \"Female\",\"Male\": 1 1 1 1 1 1 1 1 1 1 ...\n",
      " $ age_class  : int  20 20 20 30 30 20 30 20 30 20 ...\n",
      " $ definition : Factor w/ 2 levels \"bright\",\"harmony\": 1 1 1 2 2 1 2 2 2 1 ...\n",
      " $ need       : Factor w/ 2 levels \"bright\",\"harmony\": 1 1 1 2 1 1 1 2 1 1 ...\n",
      " $ purpose    : Factor w/ 3 levels \"clothes\",\"cosmetic\",..: 1 1 2 1 1 2 3 1 2 3 ...\n",
      " $ interest   : int  3 5 3 4 3 3 5 1 4 4 ...\n",
      " $ comp       : int  3 5 2 3 3 2 2 5 3 4 ...\n",
      " $ triangle1  : int  4 5 4 2 5 5 5 4 5 3 ...\n",
      " $ triangle2  : int  3 4 3 2 3 3 1 2 3 4 ...\n",
      " $ doubleness1: int  2 2 4 5 2 1 5 1 5 3 ...\n",
      " $ doubleness2: int  2 2 3 4 3 5 2 4 3 4 ...\n",
      " $ doubleness3: int  1 1 1 5 5 3 1 2 1 2 ...\n"
     ]
    }
   ],
   "source": [
    "str(survey2)"
   ]
  },
  {
   "cell_type": "code",
   "execution_count": 6,
   "metadata": {},
   "outputs": [],
   "source": [
    "survey2$comp1 <- case_when(\n",
    "    survey2$comp == 1 ~ 1,\n",
    "    survey2$comp != 1 ~ 0)\n",
    "\n",
    "survey2$comp2 <- case_when(\n",
    "    survey2$comp == 2 ~ 1,\n",
    "    survey2$comp != 2 ~ 0)\n",
    "\n",
    "survey2$comp3 <- case_when(\n",
    "    survey2$comp == 3 ~ 1,\n",
    "    survey2$comp != 3 ~ 0)\n",
    "\n",
    "survey2$comp4 <- case_when(\n",
    "    survey2$comp == 4 ~ 1,\n",
    "    survey2$comp != 4 ~ 0)\n",
    "\n",
    "survey2$comp5 <- case_when(\n",
    "    survey2$comp == 5 ~ 1,\n",
    "    survey2$comp != 5 ~ 0)\n",
    "\n",
    "survey2$t1_1 <- case_when(\n",
    "    survey2$triangle1 == 1 ~ 1,\n",
    "    survey2$triangle1 != 1 ~ 0)\n",
    "\n",
    "survey2$t1_2 <- case_when(\n",
    "    survey2$triangle1 == 2 ~ 1,\n",
    "    survey2$triangle1 != 2 ~ 0)\n",
    "\n",
    "survey2$t1_3 <- case_when(\n",
    "    survey2$triangle1 == 3 ~ 1,\n",
    "    survey2$triangle1 != 3 ~ 0)\n",
    "\n",
    "survey2$t1_4 <- case_when(\n",
    "    survey2$triangle1 == 4 ~ 1,\n",
    "    survey2$triangle1 != 4 ~ 0)\n",
    "\n",
    "survey2$t1_5 <- case_when(\n",
    "    survey2$triangle1 == 5 ~ 1,\n",
    "    survey2$triangle1 != 5 ~ 0)\n",
    "\t\n",
    "survey2$t2_1 <- case_when(\n",
    "    survey2$triangle2 == 1 ~ 1,\n",
    "    survey2$triangle2 != 1 ~ 0)\n",
    "\n",
    "survey2$t2_2 <- case_when(\n",
    "    survey2$triangle2 == 2 ~ 1,\n",
    "    survey2$triangle2 != 2 ~ 0)\n",
    "\n",
    "survey2$t2_3 <- case_when(\n",
    "    survey2$triangle2 == 3 ~ 1,\n",
    "    survey2$triangle2 != 3 ~ 0)\n",
    "\n",
    "survey2$t2_4 <- case_when(\n",
    "    survey2$triangle2 == 4 ~ 1,\n",
    "    survey2$triangle2 != 4 ~ 0)\n",
    "\n",
    "survey2$t2_5 <- case_when(\n",
    "    survey2$triangle2 == 5 ~ 1,\n",
    "    survey2$triangle2 != 5 ~ 0)\n",
    "\t\n",
    "survey2$d1_1 <- case_when(\n",
    "    survey2$doubleness1 == 1 ~ 1,\n",
    "    survey2$doubleness1 != 1 ~ 0)\n",
    "\n",
    "survey2$d1_2 <- case_when(\n",
    "    survey2$doubleness1 == 2 ~ 1,\n",
    "    survey2$doubleness1 != 2 ~ 0)\n",
    "\n",
    "survey2$d1_3 <- case_when(\n",
    "    survey2$doubleness1 == 3 ~ 1,\n",
    "    survey2$doubleness1 != 3 ~ 0)\n",
    "\n",
    "survey2$d1_4 <- case_when(\n",
    "    survey2$doubleness1 == 4 ~ 1,\n",
    "    survey2$doubleness1 != 4 ~ 0)\n",
    "\n",
    "survey2$d1_5 <- case_when(\n",
    "    survey2$doubleness1 == 5 ~ 1,\n",
    "    survey2$doubleness1 != 5 ~ 0)\n",
    "\t\n",
    "survey2$d2_1 <- case_when(\n",
    "    survey2$doubleness2 == 1 ~ 1,\n",
    "    survey2$doubleness2 != 1 ~ 0)\n",
    "\n",
    "survey2$d2_2 <- case_when(\n",
    "    survey2$doubleness2 == 2 ~ 1,\n",
    "    survey2$doubleness2 != 2 ~ 0)\n",
    "\n",
    "survey2$d2_3 <- case_when(\n",
    "    survey2$doubleness2 == 3 ~ 1,\n",
    "    survey2$doubleness2 != 3 ~ 0)\n",
    "\n",
    "survey2$d2_4 <- case_when(\n",
    "    survey2$doubleness2 == 4 ~ 1,\n",
    "    survey2$doubleness2 != 4 ~ 0)\n",
    "\n",
    "survey2$d2_5 <- case_when(\n",
    "    survey2$doubleness2 == 5 ~ 1,\n",
    "    survey2$doubleness2 != 5 ~ 0)\n",
    "\t\n",
    "survey2$d3_1 <- case_when(\n",
    "    survey2$doubleness3 == 1 ~ 1,\n",
    "    survey2$doubleness3 != 1 ~ 0)\n",
    "\n",
    "survey2$d3_2 <- case_when(\n",
    "    survey2$doubleness3 == 2 ~ 1,\n",
    "    survey2$doubleness3 != 2 ~ 0)\n",
    "\n",
    "survey2$d3_3 <- case_when(\n",
    "    survey2$doubleness3 == 3 ~ 1,\n",
    "    survey2$doubleness3 != 3 ~ 0)\n",
    "\n",
    "survey2$d3_4 <- case_when(\n",
    "    survey2$doubleness3 == 4 ~ 1,\n",
    "    survey2$doubleness3 != 4 ~ 0)\n",
    "\n",
    "survey2$d3_5 <- case_when(\n",
    "    survey2$doubleness3 == 5 ~ 1,\n",
    "    survey2$doubleness3 != 5 ~ 0)"
   ]
  },
  {
   "cell_type": "code",
   "execution_count": 7,
   "metadata": {
    "scrolled": true
   },
   "outputs": [
    {
     "data": {
      "text/html": [
       "<table>\n",
       "<thead><tr><th scope=col>X</th><th scope=col>sex</th><th scope=col>age_class</th><th scope=col>definition</th><th scope=col>need</th><th scope=col>purpose</th><th scope=col>interest</th><th scope=col>comp</th><th scope=col>triangle1</th><th scope=col>triangle2</th><th scope=col>...</th><th scope=col>d2_1</th><th scope=col>d2_2</th><th scope=col>d2_3</th><th scope=col>d2_4</th><th scope=col>d2_5</th><th scope=col>d3_1</th><th scope=col>d3_2</th><th scope=col>d3_3</th><th scope=col>d3_4</th><th scope=col>d3_5</th></tr></thead>\n",
       "<tbody>\n",
       "\t<tr><td> 0      </td><td>Female  </td><td>20      </td><td>bright  </td><td>bright  </td><td>clothes </td><td>3       </td><td>3       </td><td>4       </td><td>3       </td><td>...     </td><td>0       </td><td>1       </td><td>0       </td><td>0       </td><td>0       </td><td>1       </td><td>0       </td><td>0       </td><td>0       </td><td>0       </td></tr>\n",
       "\t<tr><td> 2      </td><td>Female  </td><td>20      </td><td>bright  </td><td>bright  </td><td>clothes </td><td>5       </td><td>5       </td><td>5       </td><td>4       </td><td>...     </td><td>0       </td><td>1       </td><td>0       </td><td>0       </td><td>0       </td><td>1       </td><td>0       </td><td>0       </td><td>0       </td><td>0       </td></tr>\n",
       "\t<tr><td> 4      </td><td>Female  </td><td>20      </td><td>bright  </td><td>bright  </td><td>cosmetic</td><td>3       </td><td>2       </td><td>4       </td><td>3       </td><td>...     </td><td>0       </td><td>0       </td><td>1       </td><td>0       </td><td>0       </td><td>1       </td><td>0       </td><td>0       </td><td>0       </td><td>0       </td></tr>\n",
       "\t<tr><td> 5      </td><td>Female  </td><td>30      </td><td>harmony </td><td>harmony </td><td>clothes </td><td>4       </td><td>3       </td><td>2       </td><td>2       </td><td>...     </td><td>0       </td><td>0       </td><td>0       </td><td>1       </td><td>0       </td><td>0       </td><td>0       </td><td>0       </td><td>0       </td><td>1       </td></tr>\n",
       "\t<tr><td> 6      </td><td>Female  </td><td>30      </td><td>harmony </td><td>bright  </td><td>clothes </td><td>3       </td><td>3       </td><td>5       </td><td>3       </td><td>...     </td><td>0       </td><td>0       </td><td>1       </td><td>0       </td><td>0       </td><td>0       </td><td>0       </td><td>0       </td><td>0       </td><td>1       </td></tr>\n",
       "\t<tr><td> 7      </td><td>Female  </td><td>20      </td><td>bright  </td><td>bright  </td><td>cosmetic</td><td>3       </td><td>2       </td><td>5       </td><td>3       </td><td>...     </td><td>0       </td><td>0       </td><td>0       </td><td>0       </td><td>1       </td><td>0       </td><td>0       </td><td>1       </td><td>0       </td><td>0       </td></tr>\n",
       "\t<tr><td> 8      </td><td>Female  </td><td>30      </td><td>harmony </td><td>bright  </td><td>etc     </td><td>5       </td><td>2       </td><td>5       </td><td>1       </td><td>...     </td><td>0       </td><td>1       </td><td>0       </td><td>0       </td><td>0       </td><td>1       </td><td>0       </td><td>0       </td><td>0       </td><td>0       </td></tr>\n",
       "\t<tr><td> 9      </td><td>Female  </td><td>20      </td><td>harmony </td><td>harmony </td><td>clothes </td><td>1       </td><td>5       </td><td>4       </td><td>2       </td><td>...     </td><td>0       </td><td>0       </td><td>0       </td><td>1       </td><td>0       </td><td>0       </td><td>1       </td><td>0       </td><td>0       </td><td>0       </td></tr>\n",
       "\t<tr><td>10      </td><td>Female  </td><td>30      </td><td>harmony </td><td>bright  </td><td>cosmetic</td><td>4       </td><td>3       </td><td>5       </td><td>3       </td><td>...     </td><td>0       </td><td>0       </td><td>1       </td><td>0       </td><td>0       </td><td>1       </td><td>0       </td><td>0       </td><td>0       </td><td>0       </td></tr>\n",
       "\t<tr><td>11      </td><td>Female  </td><td>20      </td><td>bright  </td><td>bright  </td><td>etc     </td><td>4       </td><td>4       </td><td>3       </td><td>4       </td><td>...     </td><td>0       </td><td>0       </td><td>0       </td><td>1       </td><td>0       </td><td>0       </td><td>1       </td><td>0       </td><td>0       </td><td>0       </td></tr>\n",
       "\t<tr><td>12      </td><td>Female  </td><td>20      </td><td>harmony </td><td>bright  </td><td>cosmetic</td><td>3       </td><td>4       </td><td>4       </td><td>4       </td><td>...     </td><td>0       </td><td>1       </td><td>0       </td><td>0       </td><td>0       </td><td>1       </td><td>0       </td><td>0       </td><td>0       </td><td>0       </td></tr>\n",
       "\t<tr><td>14      </td><td>Female  </td><td>20      </td><td>harmony </td><td>harmony </td><td>clothes </td><td>3       </td><td>2       </td><td>3       </td><td>4       </td><td>...     </td><td>0       </td><td>1       </td><td>0       </td><td>0       </td><td>0       </td><td>0       </td><td>0       </td><td>0       </td><td>0       </td><td>1       </td></tr>\n",
       "\t<tr><td>15      </td><td>Female  </td><td>20      </td><td>bright  </td><td>bright  </td><td>cosmetic</td><td>5       </td><td>1       </td><td>3       </td><td>4       </td><td>...     </td><td>0       </td><td>1       </td><td>0       </td><td>0       </td><td>0       </td><td>0       </td><td>0       </td><td>0       </td><td>0       </td><td>1       </td></tr>\n",
       "\t<tr><td>16      </td><td>Female  </td><td>30      </td><td>harmony </td><td>harmony </td><td>cosmetic</td><td>1       </td><td>2       </td><td>3       </td><td>4       </td><td>...     </td><td>0       </td><td>1       </td><td>0       </td><td>0       </td><td>0       </td><td>0       </td><td>0       </td><td>0       </td><td>0       </td><td>1       </td></tr>\n",
       "\t<tr><td>19      </td><td>Female  </td><td>30      </td><td>harmony </td><td>bright  </td><td>clothes </td><td>4       </td><td>2       </td><td>5       </td><td>4       </td><td>...     </td><td>1       </td><td>0       </td><td>0       </td><td>0       </td><td>0       </td><td>0       </td><td>0       </td><td>1       </td><td>0       </td><td>0       </td></tr>\n",
       "\t<tr><td>22      </td><td>Female  </td><td>30      </td><td>harmony </td><td>harmony </td><td>clothes </td><td>3       </td><td>1       </td><td>5       </td><td>3       </td><td>...     </td><td>0       </td><td>1       </td><td>0       </td><td>0       </td><td>0       </td><td>0       </td><td>0       </td><td>1       </td><td>0       </td><td>0       </td></tr>\n",
       "\t<tr><td>23      </td><td>Female  </td><td>20      </td><td>harmony </td><td>bright  </td><td>clothes </td><td>3       </td><td>3       </td><td>3       </td><td>4       </td><td>...     </td><td>0       </td><td>0       </td><td>0       </td><td>1       </td><td>0       </td><td>1       </td><td>0       </td><td>0       </td><td>0       </td><td>0       </td></tr>\n",
       "\t<tr><td>24      </td><td>Female  </td><td>20      </td><td>bright  </td><td>harmony </td><td>clothes </td><td>3       </td><td>2       </td><td>3       </td><td>3       </td><td>...     </td><td>0       </td><td>1       </td><td>0       </td><td>0       </td><td>0       </td><td>1       </td><td>0       </td><td>0       </td><td>0       </td><td>0       </td></tr>\n",
       "\t<tr><td>25      </td><td>Female  </td><td>20      </td><td>bright  </td><td>bright  </td><td>clothes </td><td>4       </td><td>1       </td><td>3       </td><td>4       </td><td>...     </td><td>1       </td><td>0       </td><td>0       </td><td>0       </td><td>0       </td><td>1       </td><td>0       </td><td>0       </td><td>0       </td><td>0       </td></tr>\n",
       "\t<tr><td>26      </td><td>Female  </td><td>30      </td><td>bright  </td><td>bright  </td><td>cosmetic</td><td>3       </td><td>2       </td><td>5       </td><td>4       </td><td>...     </td><td>0       </td><td>0       </td><td>1       </td><td>0       </td><td>0       </td><td>0       </td><td>0       </td><td>0       </td><td>0       </td><td>1       </td></tr>\n",
       "\t<tr><td>28      </td><td>Female  </td><td>20      </td><td>harmony </td><td>harmony </td><td>cosmetic</td><td>3       </td><td>5       </td><td>1       </td><td>3       </td><td>...     </td><td>0       </td><td>0       </td><td>1       </td><td>0       </td><td>0       </td><td>0       </td><td>0       </td><td>0       </td><td>0       </td><td>1       </td></tr>\n",
       "\t<tr><td>29      </td><td>Female  </td><td>20      </td><td>harmony </td><td>harmony </td><td>etc     </td><td>2       </td><td>2       </td><td>3       </td><td>4       </td><td>...     </td><td>0       </td><td>0       </td><td>1       </td><td>0       </td><td>0       </td><td>0       </td><td>0       </td><td>0       </td><td>0       </td><td>1       </td></tr>\n",
       "\t<tr><td>30      </td><td>Female  </td><td>20      </td><td>bright  </td><td>bright  </td><td>cosmetic</td><td>2       </td><td>1       </td><td>5       </td><td>5       </td><td>...     </td><td>0       </td><td>0       </td><td>0       </td><td>1       </td><td>0       </td><td>1       </td><td>0       </td><td>0       </td><td>0       </td><td>0       </td></tr>\n",
       "\t<tr><td>31      </td><td>Female  </td><td>20      </td><td>harmony </td><td>bright  </td><td>etc     </td><td>2       </td><td>2       </td><td>2       </td><td>4       </td><td>...     </td><td>0       </td><td>1       </td><td>0       </td><td>0       </td><td>0       </td><td>0       </td><td>0       </td><td>0       </td><td>0       </td><td>1       </td></tr>\n",
       "\t<tr><td>34      </td><td>Female  </td><td>20      </td><td>harmony </td><td>harmony </td><td>clothes </td><td>3       </td><td>4       </td><td>1       </td><td>5       </td><td>...     </td><td>0       </td><td>0       </td><td>0       </td><td>1       </td><td>0       </td><td>1       </td><td>0       </td><td>0       </td><td>0       </td><td>0       </td></tr>\n",
       "\t<tr><td>35      </td><td>Female  </td><td>20      </td><td>harmony </td><td>harmony </td><td>cosmetic</td><td>3       </td><td>2       </td><td>5       </td><td>4       </td><td>...     </td><td>0       </td><td>0       </td><td>0       </td><td>1       </td><td>0       </td><td>0       </td><td>1       </td><td>0       </td><td>0       </td><td>0       </td></tr>\n",
       "\t<tr><td>41      </td><td>Female  </td><td>40      </td><td>bright  </td><td>bright  </td><td>clothes </td><td>2       </td><td>1       </td><td>4       </td><td>5       </td><td>...     </td><td>0       </td><td>0       </td><td>0       </td><td>1       </td><td>0       </td><td>1       </td><td>0       </td><td>0       </td><td>0       </td><td>0       </td></tr>\n",
       "\t<tr><td>45      </td><td>Female  </td><td>20      </td><td>harmony </td><td>harmony </td><td>etc     </td><td>3       </td><td>4       </td><td>3       </td><td>5       </td><td>...     </td><td>0       </td><td>0       </td><td>1       </td><td>0       </td><td>0       </td><td>1       </td><td>0       </td><td>0       </td><td>0       </td><td>0       </td></tr>\n",
       "\t<tr><td>46      </td><td>Female  </td><td>10      </td><td>harmony </td><td>harmony </td><td>etc     </td><td>3       </td><td>3       </td><td>3       </td><td>1       </td><td>...     </td><td>0       </td><td>0       </td><td>0       </td><td>1       </td><td>0       </td><td>0       </td><td>1       </td><td>0       </td><td>0       </td><td>0       </td></tr>\n",
       "\t<tr><td>47      </td><td>Female  </td><td>20      </td><td>harmony </td><td>harmony </td><td>etc     </td><td>5       </td><td>2       </td><td>1       </td><td>1       </td><td>...     </td><td>0       </td><td>1       </td><td>0       </td><td>0       </td><td>0       </td><td>0       </td><td>0       </td><td>0       </td><td>0       </td><td>1       </td></tr>\n",
       "\t<tr><td>...</td><td>...</td><td>...</td><td>...</td><td>...</td><td>...</td><td>...</td><td>...</td><td>...</td><td>...</td><td>   </td><td>...</td><td>...</td><td>...</td><td>...</td><td>...</td><td>...</td><td>...</td><td>...</td><td>...</td><td>...</td></tr>\n",
       "\t<tr><td>49      </td><td>Female  </td><td>10      </td><td>bright  </td><td>bright  </td><td>etc     </td><td>4       </td><td>1       </td><td>4       </td><td>3       </td><td>...     </td><td>0       </td><td>0       </td><td>0       </td><td>0       </td><td>1       </td><td>0       </td><td>0       </td><td>0       </td><td>1       </td><td>0       </td></tr>\n",
       "\t<tr><td>52      </td><td>Female  </td><td>20      </td><td>harmony </td><td>bright  </td><td>etc     </td><td>3       </td><td>4       </td><td>5       </td><td>3       </td><td>...     </td><td>0       </td><td>0       </td><td>0       </td><td>1       </td><td>0       </td><td>0       </td><td>0       </td><td>1       </td><td>0       </td><td>0       </td></tr>\n",
       "\t<tr><td>53      </td><td>Female  </td><td>20      </td><td>harmony </td><td>harmony </td><td>etc     </td><td>4       </td><td>5       </td><td>4       </td><td>3       </td><td>...     </td><td>0       </td><td>1       </td><td>0       </td><td>0       </td><td>0       </td><td>0       </td><td>0       </td><td>1       </td><td>0       </td><td>0       </td></tr>\n",
       "\t<tr><td>54      </td><td>Female  </td><td>30      </td><td>harmony </td><td>harmony </td><td>etc     </td><td>5       </td><td>3       </td><td>4       </td><td>4       </td><td>...     </td><td>1       </td><td>0       </td><td>0       </td><td>0       </td><td>0       </td><td>0       </td><td>0       </td><td>0       </td><td>0       </td><td>1       </td></tr>\n",
       "\t<tr><td>55      </td><td>Female  </td><td>20      </td><td>bright  </td><td>bright  </td><td>etc     </td><td>5       </td><td>2       </td><td>2       </td><td>5       </td><td>...     </td><td>0       </td><td>0       </td><td>0       </td><td>1       </td><td>0       </td><td>0       </td><td>0       </td><td>0       </td><td>1       </td><td>0       </td></tr>\n",
       "\t<tr><td>57      </td><td>Female  </td><td>20      </td><td>harmony </td><td>harmony </td><td>cosmetic</td><td>3       </td><td>2       </td><td>3       </td><td>5       </td><td>...     </td><td>0       </td><td>1       </td><td>0       </td><td>0       </td><td>0       </td><td>0       </td><td>1       </td><td>0       </td><td>0       </td><td>0       </td></tr>\n",
       "\t<tr><td>58      </td><td>Female  </td><td>30      </td><td>harmony </td><td>bright  </td><td>etc     </td><td>4       </td><td>1       </td><td>3       </td><td>5       </td><td>...     </td><td>0       </td><td>0       </td><td>0       </td><td>1       </td><td>0       </td><td>0       </td><td>0       </td><td>1       </td><td>0       </td><td>0       </td></tr>\n",
       "\t<tr><td>66      </td><td>Female  </td><td>20      </td><td>harmony </td><td>harmony </td><td>etc     </td><td>3       </td><td>4       </td><td>5       </td><td>4       </td><td>...     </td><td>0       </td><td>1       </td><td>0       </td><td>0       </td><td>0       </td><td>0       </td><td>0       </td><td>0       </td><td>1       </td><td>0       </td></tr>\n",
       "\t<tr><td>68      </td><td>Female  </td><td>30      </td><td>harmony </td><td>bright  </td><td>cosmetic</td><td>2       </td><td>5       </td><td>3       </td><td>3       </td><td>...     </td><td>0       </td><td>0       </td><td>0       </td><td>1       </td><td>0       </td><td>0       </td><td>0       </td><td>1       </td><td>0       </td><td>0       </td></tr>\n",
       "\t<tr><td>69      </td><td>Female  </td><td>20      </td><td>harmony </td><td>harmony </td><td>etc     </td><td>4       </td><td>4       </td><td>2       </td><td>3       </td><td>...     </td><td>0       </td><td>0       </td><td>0       </td><td>1       </td><td>0       </td><td>0       </td><td>1       </td><td>0       </td><td>0       </td><td>0       </td></tr>\n",
       "\t<tr><td>70      </td><td>Female  </td><td>20      </td><td>harmony </td><td>harmony </td><td>etc     </td><td>3       </td><td>2       </td><td>3       </td><td>5       </td><td>...     </td><td>0       </td><td>0       </td><td>0       </td><td>1       </td><td>0       </td><td>0       </td><td>1       </td><td>0       </td><td>0       </td><td>0       </td></tr>\n",
       "\t<tr><td>71      </td><td>Female  </td><td>20      </td><td>harmony </td><td>harmony </td><td>etc     </td><td>5       </td><td>3       </td><td>5       </td><td>3       </td><td>...     </td><td>0       </td><td>1       </td><td>0       </td><td>0       </td><td>0       </td><td>0       </td><td>0       </td><td>1       </td><td>0       </td><td>0       </td></tr>\n",
       "\t<tr><td>72      </td><td>Female  </td><td>20      </td><td>harmony </td><td>harmony </td><td>cosmetic</td><td>4       </td><td>5       </td><td>4       </td><td>4       </td><td>...     </td><td>0       </td><td>1       </td><td>0       </td><td>0       </td><td>0       </td><td>0       </td><td>0       </td><td>0       </td><td>1       </td><td>0       </td></tr>\n",
       "\t<tr><td>73      </td><td>Female  </td><td>10      </td><td>harmony </td><td>harmony </td><td>etc     </td><td>4       </td><td>3       </td><td>3       </td><td>2       </td><td>...     </td><td>0       </td><td>0       </td><td>0       </td><td>0       </td><td>1       </td><td>0       </td><td>0       </td><td>0       </td><td>0       </td><td>1       </td></tr>\n",
       "\t<tr><td>74      </td><td>Female  </td><td>30      </td><td>harmony </td><td>harmony </td><td>cosmetic</td><td>4       </td><td>3       </td><td>3       </td><td>5       </td><td>...     </td><td>1       </td><td>0       </td><td>0       </td><td>0       </td><td>0       </td><td>0       </td><td>0       </td><td>1       </td><td>0       </td><td>0       </td></tr>\n",
       "\t<tr><td>75      </td><td>Female  </td><td>10      </td><td>bright  </td><td>bright  </td><td>cosmetic</td><td>4       </td><td>2       </td><td>4       </td><td>3       </td><td>...     </td><td>0       </td><td>1       </td><td>0       </td><td>0       </td><td>0       </td><td>0       </td><td>0       </td><td>1       </td><td>0       </td><td>0       </td></tr>\n",
       "\t<tr><td>77      </td><td>Female  </td><td>10      </td><td>harmony </td><td>harmony </td><td>etc     </td><td>4       </td><td>5       </td><td>5       </td><td>5       </td><td>...     </td><td>0       </td><td>0       </td><td>0       </td><td>0       </td><td>1       </td><td>0       </td><td>0       </td><td>0       </td><td>0       </td><td>1       </td></tr>\n",
       "\t<tr><td>78      </td><td>Female  </td><td>20      </td><td>harmony </td><td>harmony </td><td>etc     </td><td>3       </td><td>3       </td><td>5       </td><td>3       </td><td>...     </td><td>0       </td><td>0       </td><td>0       </td><td>1       </td><td>0       </td><td>0       </td><td>1       </td><td>0       </td><td>0       </td><td>0       </td></tr>\n",
       "\t<tr><td>82      </td><td>Female  </td><td>30      </td><td>harmony </td><td>harmony </td><td>etc     </td><td>1       </td><td>2       </td><td>3       </td><td>3       </td><td>...     </td><td>0       </td><td>0       </td><td>0       </td><td>1       </td><td>0       </td><td>1       </td><td>0       </td><td>0       </td><td>0       </td><td>0       </td></tr>\n",
       "\t<tr><td>83      </td><td>Female  </td><td>30      </td><td>harmony </td><td>bright  </td><td>etc     </td><td>4       </td><td>3       </td><td>3       </td><td>4       </td><td>...     </td><td>0       </td><td>0       </td><td>1       </td><td>0       </td><td>0       </td><td>1       </td><td>0       </td><td>0       </td><td>0       </td><td>0       </td></tr>\n",
       "\t<tr><td>86      </td><td>Female  </td><td>30      </td><td>bright  </td><td>bright  </td><td>clothes </td><td>3       </td><td>3       </td><td>5       </td><td>4       </td><td>...     </td><td>0       </td><td>0       </td><td>0       </td><td>0       </td><td>1       </td><td>0       </td><td>0       </td><td>0       </td><td>0       </td><td>1       </td></tr>\n",
       "\t<tr><td>87      </td><td>Female  </td><td>30      </td><td>harmony </td><td>harmony </td><td>clothes </td><td>1       </td><td>3       </td><td>1       </td><td>3       </td><td>...     </td><td>0       </td><td>1       </td><td>0       </td><td>0       </td><td>0       </td><td>1       </td><td>0       </td><td>0       </td><td>0       </td><td>0       </td></tr>\n",
       "\t<tr><td>88      </td><td>Female  </td><td>50      </td><td>harmony </td><td>harmony </td><td>etc     </td><td>4       </td><td>3       </td><td>3       </td><td>5       </td><td>...     </td><td>0       </td><td>0       </td><td>0       </td><td>1       </td><td>0       </td><td>0       </td><td>0       </td><td>0       </td><td>0       </td><td>1       </td></tr>\n",
       "\t<tr><td>89      </td><td>Female  </td><td>50      </td><td>harmony </td><td>harmony </td><td>etc     </td><td>5       </td><td>2       </td><td>1       </td><td>5       </td><td>...     </td><td>0       </td><td>0       </td><td>0       </td><td>1       </td><td>0       </td><td>0       </td><td>0       </td><td>1       </td><td>0       </td><td>0       </td></tr>\n",
       "\t<tr><td>90      </td><td>Female  </td><td>20      </td><td>harmony </td><td>harmony </td><td>clothes </td><td>2       </td><td>2       </td><td>3       </td><td>4       </td><td>...     </td><td>0       </td><td>0       </td><td>0       </td><td>0       </td><td>1       </td><td>0       </td><td>1       </td><td>0       </td><td>0       </td><td>0       </td></tr>\n",
       "\t<tr><td>91      </td><td>Female  </td><td>50      </td><td>bright  </td><td>bright  </td><td>cosmetic</td><td>3       </td><td>1       </td><td>1       </td><td>1       </td><td>...     </td><td>1       </td><td>0       </td><td>0       </td><td>0       </td><td>0       </td><td>1       </td><td>0       </td><td>0       </td><td>0       </td><td>0       </td></tr>\n",
       "\t<tr><td>92      </td><td>Female  </td><td>50      </td><td>harmony </td><td>harmony </td><td>cosmetic</td><td>5       </td><td>4       </td><td>2       </td><td>1       </td><td>...     </td><td>0       </td><td>0       </td><td>1       </td><td>0       </td><td>0       </td><td>0       </td><td>0       </td><td>1       </td><td>0       </td><td>0       </td></tr>\n",
       "\t<tr><td>93      </td><td>Female  </td><td>50      </td><td>bright  </td><td>bright  </td><td>clothes </td><td>3       </td><td>4       </td><td>5       </td><td>2       </td><td>...     </td><td>0       </td><td>1       </td><td>0       </td><td>0       </td><td>0       </td><td>0       </td><td>0       </td><td>0       </td><td>0       </td><td>1       </td></tr>\n",
       "\t<tr><td>94      </td><td>Female  </td><td>50      </td><td>harmony </td><td>harmony </td><td>clothes </td><td>4       </td><td>5       </td><td>3       </td><td>5       </td><td>...     </td><td>0       </td><td>0       </td><td>0       </td><td>1       </td><td>0       </td><td>1       </td><td>0       </td><td>0       </td><td>0       </td><td>0       </td></tr>\n",
       "\t<tr><td>95      </td><td>Female  </td><td>20      </td><td>bright  </td><td>harmony </td><td>etc     </td><td>4       </td><td>3       </td><td>4       </td><td>4       </td><td>...     </td><td>0       </td><td>0       </td><td>0       </td><td>1       </td><td>0       </td><td>0       </td><td>0       </td><td>0       </td><td>1       </td><td>0       </td></tr>\n",
       "</tbody>\n",
       "</table>\n"
      ],
      "text/latex": [
       "\\begin{tabular}{r|lllllllllllllllllllllllllllllllllllllllllll}\n",
       " X & sex & age\\_class & definition & need & purpose & interest & comp & triangle1 & triangle2 & ... & d2\\_1 & d2\\_2 & d2\\_3 & d2\\_4 & d2\\_5 & d3\\_1 & d3\\_2 & d3\\_3 & d3\\_4 & d3\\_5\\\\\n",
       "\\hline\n",
       "\t  0       & Female   & 20       & bright   & bright   & clothes  & 3        & 3        & 4        & 3        & ...      & 0        & 1        & 0        & 0        & 0        & 1        & 0        & 0        & 0        & 0       \\\\\n",
       "\t  2       & Female   & 20       & bright   & bright   & clothes  & 5        & 5        & 5        & 4        & ...      & 0        & 1        & 0        & 0        & 0        & 1        & 0        & 0        & 0        & 0       \\\\\n",
       "\t  4       & Female   & 20       & bright   & bright   & cosmetic & 3        & 2        & 4        & 3        & ...      & 0        & 0        & 1        & 0        & 0        & 1        & 0        & 0        & 0        & 0       \\\\\n",
       "\t  5       & Female   & 30       & harmony  & harmony  & clothes  & 4        & 3        & 2        & 2        & ...      & 0        & 0        & 0        & 1        & 0        & 0        & 0        & 0        & 0        & 1       \\\\\n",
       "\t  6       & Female   & 30       & harmony  & bright   & clothes  & 3        & 3        & 5        & 3        & ...      & 0        & 0        & 1        & 0        & 0        & 0        & 0        & 0        & 0        & 1       \\\\\n",
       "\t  7       & Female   & 20       & bright   & bright   & cosmetic & 3        & 2        & 5        & 3        & ...      & 0        & 0        & 0        & 0        & 1        & 0        & 0        & 1        & 0        & 0       \\\\\n",
       "\t  8       & Female   & 30       & harmony  & bright   & etc      & 5        & 2        & 5        & 1        & ...      & 0        & 1        & 0        & 0        & 0        & 1        & 0        & 0        & 0        & 0       \\\\\n",
       "\t  9       & Female   & 20       & harmony  & harmony  & clothes  & 1        & 5        & 4        & 2        & ...      & 0        & 0        & 0        & 1        & 0        & 0        & 1        & 0        & 0        & 0       \\\\\n",
       "\t 10       & Female   & 30       & harmony  & bright   & cosmetic & 4        & 3        & 5        & 3        & ...      & 0        & 0        & 1        & 0        & 0        & 1        & 0        & 0        & 0        & 0       \\\\\n",
       "\t 11       & Female   & 20       & bright   & bright   & etc      & 4        & 4        & 3        & 4        & ...      & 0        & 0        & 0        & 1        & 0        & 0        & 1        & 0        & 0        & 0       \\\\\n",
       "\t 12       & Female   & 20       & harmony  & bright   & cosmetic & 3        & 4        & 4        & 4        & ...      & 0        & 1        & 0        & 0        & 0        & 1        & 0        & 0        & 0        & 0       \\\\\n",
       "\t 14       & Female   & 20       & harmony  & harmony  & clothes  & 3        & 2        & 3        & 4        & ...      & 0        & 1        & 0        & 0        & 0        & 0        & 0        & 0        & 0        & 1       \\\\\n",
       "\t 15       & Female   & 20       & bright   & bright   & cosmetic & 5        & 1        & 3        & 4        & ...      & 0        & 1        & 0        & 0        & 0        & 0        & 0        & 0        & 0        & 1       \\\\\n",
       "\t 16       & Female   & 30       & harmony  & harmony  & cosmetic & 1        & 2        & 3        & 4        & ...      & 0        & 1        & 0        & 0        & 0        & 0        & 0        & 0        & 0        & 1       \\\\\n",
       "\t 19       & Female   & 30       & harmony  & bright   & clothes  & 4        & 2        & 5        & 4        & ...      & 1        & 0        & 0        & 0        & 0        & 0        & 0        & 1        & 0        & 0       \\\\\n",
       "\t 22       & Female   & 30       & harmony  & harmony  & clothes  & 3        & 1        & 5        & 3        & ...      & 0        & 1        & 0        & 0        & 0        & 0        & 0        & 1        & 0        & 0       \\\\\n",
       "\t 23       & Female   & 20       & harmony  & bright   & clothes  & 3        & 3        & 3        & 4        & ...      & 0        & 0        & 0        & 1        & 0        & 1        & 0        & 0        & 0        & 0       \\\\\n",
       "\t 24       & Female   & 20       & bright   & harmony  & clothes  & 3        & 2        & 3        & 3        & ...      & 0        & 1        & 0        & 0        & 0        & 1        & 0        & 0        & 0        & 0       \\\\\n",
       "\t 25       & Female   & 20       & bright   & bright   & clothes  & 4        & 1        & 3        & 4        & ...      & 1        & 0        & 0        & 0        & 0        & 1        & 0        & 0        & 0        & 0       \\\\\n",
       "\t 26       & Female   & 30       & bright   & bright   & cosmetic & 3        & 2        & 5        & 4        & ...      & 0        & 0        & 1        & 0        & 0        & 0        & 0        & 0        & 0        & 1       \\\\\n",
       "\t 28       & Female   & 20       & harmony  & harmony  & cosmetic & 3        & 5        & 1        & 3        & ...      & 0        & 0        & 1        & 0        & 0        & 0        & 0        & 0        & 0        & 1       \\\\\n",
       "\t 29       & Female   & 20       & harmony  & harmony  & etc      & 2        & 2        & 3        & 4        & ...      & 0        & 0        & 1        & 0        & 0        & 0        & 0        & 0        & 0        & 1       \\\\\n",
       "\t 30       & Female   & 20       & bright   & bright   & cosmetic & 2        & 1        & 5        & 5        & ...      & 0        & 0        & 0        & 1        & 0        & 1        & 0        & 0        & 0        & 0       \\\\\n",
       "\t 31       & Female   & 20       & harmony  & bright   & etc      & 2        & 2        & 2        & 4        & ...      & 0        & 1        & 0        & 0        & 0        & 0        & 0        & 0        & 0        & 1       \\\\\n",
       "\t 34       & Female   & 20       & harmony  & harmony  & clothes  & 3        & 4        & 1        & 5        & ...      & 0        & 0        & 0        & 1        & 0        & 1        & 0        & 0        & 0        & 0       \\\\\n",
       "\t 35       & Female   & 20       & harmony  & harmony  & cosmetic & 3        & 2        & 5        & 4        & ...      & 0        & 0        & 0        & 1        & 0        & 0        & 1        & 0        & 0        & 0       \\\\\n",
       "\t 41       & Female   & 40       & bright   & bright   & clothes  & 2        & 1        & 4        & 5        & ...      & 0        & 0        & 0        & 1        & 0        & 1        & 0        & 0        & 0        & 0       \\\\\n",
       "\t 45       & Female   & 20       & harmony  & harmony  & etc      & 3        & 4        & 3        & 5        & ...      & 0        & 0        & 1        & 0        & 0        & 1        & 0        & 0        & 0        & 0       \\\\\n",
       "\t 46       & Female   & 10       & harmony  & harmony  & etc      & 3        & 3        & 3        & 1        & ...      & 0        & 0        & 0        & 1        & 0        & 0        & 1        & 0        & 0        & 0       \\\\\n",
       "\t 47       & Female   & 20       & harmony  & harmony  & etc      & 5        & 2        & 1        & 1        & ...      & 0        & 1        & 0        & 0        & 0        & 0        & 0        & 0        & 0        & 1       \\\\\n",
       "\t ... & ... & ... & ... & ... & ... & ... & ... & ... & ... &     & ... & ... & ... & ... & ... & ... & ... & ... & ... & ...\\\\\n",
       "\t 49       & Female   & 10       & bright   & bright   & etc      & 4        & 1        & 4        & 3        & ...      & 0        & 0        & 0        & 0        & 1        & 0        & 0        & 0        & 1        & 0       \\\\\n",
       "\t 52       & Female   & 20       & harmony  & bright   & etc      & 3        & 4        & 5        & 3        & ...      & 0        & 0        & 0        & 1        & 0        & 0        & 0        & 1        & 0        & 0       \\\\\n",
       "\t 53       & Female   & 20       & harmony  & harmony  & etc      & 4        & 5        & 4        & 3        & ...      & 0        & 1        & 0        & 0        & 0        & 0        & 0        & 1        & 0        & 0       \\\\\n",
       "\t 54       & Female   & 30       & harmony  & harmony  & etc      & 5        & 3        & 4        & 4        & ...      & 1        & 0        & 0        & 0        & 0        & 0        & 0        & 0        & 0        & 1       \\\\\n",
       "\t 55       & Female   & 20       & bright   & bright   & etc      & 5        & 2        & 2        & 5        & ...      & 0        & 0        & 0        & 1        & 0        & 0        & 0        & 0        & 1        & 0       \\\\\n",
       "\t 57       & Female   & 20       & harmony  & harmony  & cosmetic & 3        & 2        & 3        & 5        & ...      & 0        & 1        & 0        & 0        & 0        & 0        & 1        & 0        & 0        & 0       \\\\\n",
       "\t 58       & Female   & 30       & harmony  & bright   & etc      & 4        & 1        & 3        & 5        & ...      & 0        & 0        & 0        & 1        & 0        & 0        & 0        & 1        & 0        & 0       \\\\\n",
       "\t 66       & Female   & 20       & harmony  & harmony  & etc      & 3        & 4        & 5        & 4        & ...      & 0        & 1        & 0        & 0        & 0        & 0        & 0        & 0        & 1        & 0       \\\\\n",
       "\t 68       & Female   & 30       & harmony  & bright   & cosmetic & 2        & 5        & 3        & 3        & ...      & 0        & 0        & 0        & 1        & 0        & 0        & 0        & 1        & 0        & 0       \\\\\n",
       "\t 69       & Female   & 20       & harmony  & harmony  & etc      & 4        & 4        & 2        & 3        & ...      & 0        & 0        & 0        & 1        & 0        & 0        & 1        & 0        & 0        & 0       \\\\\n",
       "\t 70       & Female   & 20       & harmony  & harmony  & etc      & 3        & 2        & 3        & 5        & ...      & 0        & 0        & 0        & 1        & 0        & 0        & 1        & 0        & 0        & 0       \\\\\n",
       "\t 71       & Female   & 20       & harmony  & harmony  & etc      & 5        & 3        & 5        & 3        & ...      & 0        & 1        & 0        & 0        & 0        & 0        & 0        & 1        & 0        & 0       \\\\\n",
       "\t 72       & Female   & 20       & harmony  & harmony  & cosmetic & 4        & 5        & 4        & 4        & ...      & 0        & 1        & 0        & 0        & 0        & 0        & 0        & 0        & 1        & 0       \\\\\n",
       "\t 73       & Female   & 10       & harmony  & harmony  & etc      & 4        & 3        & 3        & 2        & ...      & 0        & 0        & 0        & 0        & 1        & 0        & 0        & 0        & 0        & 1       \\\\\n",
       "\t 74       & Female   & 30       & harmony  & harmony  & cosmetic & 4        & 3        & 3        & 5        & ...      & 1        & 0        & 0        & 0        & 0        & 0        & 0        & 1        & 0        & 0       \\\\\n",
       "\t 75       & Female   & 10       & bright   & bright   & cosmetic & 4        & 2        & 4        & 3        & ...      & 0        & 1        & 0        & 0        & 0        & 0        & 0        & 1        & 0        & 0       \\\\\n",
       "\t 77       & Female   & 10       & harmony  & harmony  & etc      & 4        & 5        & 5        & 5        & ...      & 0        & 0        & 0        & 0        & 1        & 0        & 0        & 0        & 0        & 1       \\\\\n",
       "\t 78       & Female   & 20       & harmony  & harmony  & etc      & 3        & 3        & 5        & 3        & ...      & 0        & 0        & 0        & 1        & 0        & 0        & 1        & 0        & 0        & 0       \\\\\n",
       "\t 82       & Female   & 30       & harmony  & harmony  & etc      & 1        & 2        & 3        & 3        & ...      & 0        & 0        & 0        & 1        & 0        & 1        & 0        & 0        & 0        & 0       \\\\\n",
       "\t 83       & Female   & 30       & harmony  & bright   & etc      & 4        & 3        & 3        & 4        & ...      & 0        & 0        & 1        & 0        & 0        & 1        & 0        & 0        & 0        & 0       \\\\\n",
       "\t 86       & Female   & 30       & bright   & bright   & clothes  & 3        & 3        & 5        & 4        & ...      & 0        & 0        & 0        & 0        & 1        & 0        & 0        & 0        & 0        & 1       \\\\\n",
       "\t 87       & Female   & 30       & harmony  & harmony  & clothes  & 1        & 3        & 1        & 3        & ...      & 0        & 1        & 0        & 0        & 0        & 1        & 0        & 0        & 0        & 0       \\\\\n",
       "\t 88       & Female   & 50       & harmony  & harmony  & etc      & 4        & 3        & 3        & 5        & ...      & 0        & 0        & 0        & 1        & 0        & 0        & 0        & 0        & 0        & 1       \\\\\n",
       "\t 89       & Female   & 50       & harmony  & harmony  & etc      & 5        & 2        & 1        & 5        & ...      & 0        & 0        & 0        & 1        & 0        & 0        & 0        & 1        & 0        & 0       \\\\\n",
       "\t 90       & Female   & 20       & harmony  & harmony  & clothes  & 2        & 2        & 3        & 4        & ...      & 0        & 0        & 0        & 0        & 1        & 0        & 1        & 0        & 0        & 0       \\\\\n",
       "\t 91       & Female   & 50       & bright   & bright   & cosmetic & 3        & 1        & 1        & 1        & ...      & 1        & 0        & 0        & 0        & 0        & 1        & 0        & 0        & 0        & 0       \\\\\n",
       "\t 92       & Female   & 50       & harmony  & harmony  & cosmetic & 5        & 4        & 2        & 1        & ...      & 0        & 0        & 1        & 0        & 0        & 0        & 0        & 1        & 0        & 0       \\\\\n",
       "\t 93       & Female   & 50       & bright   & bright   & clothes  & 3        & 4        & 5        & 2        & ...      & 0        & 1        & 0        & 0        & 0        & 0        & 0        & 0        & 0        & 1       \\\\\n",
       "\t 94       & Female   & 50       & harmony  & harmony  & clothes  & 4        & 5        & 3        & 5        & ...      & 0        & 0        & 0        & 1        & 0        & 1        & 0        & 0        & 0        & 0       \\\\\n",
       "\t 95       & Female   & 20       & bright   & harmony  & etc      & 4        & 3        & 4        & 4        & ...      & 0        & 0        & 0        & 1        & 0        & 0        & 0        & 0        & 1        & 0       \\\\\n",
       "\\end{tabular}\n"
      ],
      "text/markdown": [
       "\n",
       "| X | sex | age_class | definition | need | purpose | interest | comp | triangle1 | triangle2 | ... | d2_1 | d2_2 | d2_3 | d2_4 | d2_5 | d3_1 | d3_2 | d3_3 | d3_4 | d3_5 |\n",
       "|---|---|---|---|---|---|---|---|---|---|---|---|---|---|---|---|---|---|---|---|---|\n",
       "|  0       | Female   | 20       | bright   | bright   | clothes  | 3        | 3        | 4        | 3        | ...      | 0        | 1        | 0        | 0        | 0        | 1        | 0        | 0        | 0        | 0        |\n",
       "|  2       | Female   | 20       | bright   | bright   | clothes  | 5        | 5        | 5        | 4        | ...      | 0        | 1        | 0        | 0        | 0        | 1        | 0        | 0        | 0        | 0        |\n",
       "|  4       | Female   | 20       | bright   | bright   | cosmetic | 3        | 2        | 4        | 3        | ...      | 0        | 0        | 1        | 0        | 0        | 1        | 0        | 0        | 0        | 0        |\n",
       "|  5       | Female   | 30       | harmony  | harmony  | clothes  | 4        | 3        | 2        | 2        | ...      | 0        | 0        | 0        | 1        | 0        | 0        | 0        | 0        | 0        | 1        |\n",
       "|  6       | Female   | 30       | harmony  | bright   | clothes  | 3        | 3        | 5        | 3        | ...      | 0        | 0        | 1        | 0        | 0        | 0        | 0        | 0        | 0        | 1        |\n",
       "|  7       | Female   | 20       | bright   | bright   | cosmetic | 3        | 2        | 5        | 3        | ...      | 0        | 0        | 0        | 0        | 1        | 0        | 0        | 1        | 0        | 0        |\n",
       "|  8       | Female   | 30       | harmony  | bright   | etc      | 5        | 2        | 5        | 1        | ...      | 0        | 1        | 0        | 0        | 0        | 1        | 0        | 0        | 0        | 0        |\n",
       "|  9       | Female   | 20       | harmony  | harmony  | clothes  | 1        | 5        | 4        | 2        | ...      | 0        | 0        | 0        | 1        | 0        | 0        | 1        | 0        | 0        | 0        |\n",
       "| 10       | Female   | 30       | harmony  | bright   | cosmetic | 4        | 3        | 5        | 3        | ...      | 0        | 0        | 1        | 0        | 0        | 1        | 0        | 0        | 0        | 0        |\n",
       "| 11       | Female   | 20       | bright   | bright   | etc      | 4        | 4        | 3        | 4        | ...      | 0        | 0        | 0        | 1        | 0        | 0        | 1        | 0        | 0        | 0        |\n",
       "| 12       | Female   | 20       | harmony  | bright   | cosmetic | 3        | 4        | 4        | 4        | ...      | 0        | 1        | 0        | 0        | 0        | 1        | 0        | 0        | 0        | 0        |\n",
       "| 14       | Female   | 20       | harmony  | harmony  | clothes  | 3        | 2        | 3        | 4        | ...      | 0        | 1        | 0        | 0        | 0        | 0        | 0        | 0        | 0        | 1        |\n",
       "| 15       | Female   | 20       | bright   | bright   | cosmetic | 5        | 1        | 3        | 4        | ...      | 0        | 1        | 0        | 0        | 0        | 0        | 0        | 0        | 0        | 1        |\n",
       "| 16       | Female   | 30       | harmony  | harmony  | cosmetic | 1        | 2        | 3        | 4        | ...      | 0        | 1        | 0        | 0        | 0        | 0        | 0        | 0        | 0        | 1        |\n",
       "| 19       | Female   | 30       | harmony  | bright   | clothes  | 4        | 2        | 5        | 4        | ...      | 1        | 0        | 0        | 0        | 0        | 0        | 0        | 1        | 0        | 0        |\n",
       "| 22       | Female   | 30       | harmony  | harmony  | clothes  | 3        | 1        | 5        | 3        | ...      | 0        | 1        | 0        | 0        | 0        | 0        | 0        | 1        | 0        | 0        |\n",
       "| 23       | Female   | 20       | harmony  | bright   | clothes  | 3        | 3        | 3        | 4        | ...      | 0        | 0        | 0        | 1        | 0        | 1        | 0        | 0        | 0        | 0        |\n",
       "| 24       | Female   | 20       | bright   | harmony  | clothes  | 3        | 2        | 3        | 3        | ...      | 0        | 1        | 0        | 0        | 0        | 1        | 0        | 0        | 0        | 0        |\n",
       "| 25       | Female   | 20       | bright   | bright   | clothes  | 4        | 1        | 3        | 4        | ...      | 1        | 0        | 0        | 0        | 0        | 1        | 0        | 0        | 0        | 0        |\n",
       "| 26       | Female   | 30       | bright   | bright   | cosmetic | 3        | 2        | 5        | 4        | ...      | 0        | 0        | 1        | 0        | 0        | 0        | 0        | 0        | 0        | 1        |\n",
       "| 28       | Female   | 20       | harmony  | harmony  | cosmetic | 3        | 5        | 1        | 3        | ...      | 0        | 0        | 1        | 0        | 0        | 0        | 0        | 0        | 0        | 1        |\n",
       "| 29       | Female   | 20       | harmony  | harmony  | etc      | 2        | 2        | 3        | 4        | ...      | 0        | 0        | 1        | 0        | 0        | 0        | 0        | 0        | 0        | 1        |\n",
       "| 30       | Female   | 20       | bright   | bright   | cosmetic | 2        | 1        | 5        | 5        | ...      | 0        | 0        | 0        | 1        | 0        | 1        | 0        | 0        | 0        | 0        |\n",
       "| 31       | Female   | 20       | harmony  | bright   | etc      | 2        | 2        | 2        | 4        | ...      | 0        | 1        | 0        | 0        | 0        | 0        | 0        | 0        | 0        | 1        |\n",
       "| 34       | Female   | 20       | harmony  | harmony  | clothes  | 3        | 4        | 1        | 5        | ...      | 0        | 0        | 0        | 1        | 0        | 1        | 0        | 0        | 0        | 0        |\n",
       "| 35       | Female   | 20       | harmony  | harmony  | cosmetic | 3        | 2        | 5        | 4        | ...      | 0        | 0        | 0        | 1        | 0        | 0        | 1        | 0        | 0        | 0        |\n",
       "| 41       | Female   | 40       | bright   | bright   | clothes  | 2        | 1        | 4        | 5        | ...      | 0        | 0        | 0        | 1        | 0        | 1        | 0        | 0        | 0        | 0        |\n",
       "| 45       | Female   | 20       | harmony  | harmony  | etc      | 3        | 4        | 3        | 5        | ...      | 0        | 0        | 1        | 0        | 0        | 1        | 0        | 0        | 0        | 0        |\n",
       "| 46       | Female   | 10       | harmony  | harmony  | etc      | 3        | 3        | 3        | 1        | ...      | 0        | 0        | 0        | 1        | 0        | 0        | 1        | 0        | 0        | 0        |\n",
       "| 47       | Female   | 20       | harmony  | harmony  | etc      | 5        | 2        | 1        | 1        | ...      | 0        | 1        | 0        | 0        | 0        | 0        | 0        | 0        | 0        | 1        |\n",
       "| ... | ... | ... | ... | ... | ... | ... | ... | ... | ... |     | ... | ... | ... | ... | ... | ... | ... | ... | ... | ... |\n",
       "| 49       | Female   | 10       | bright   | bright   | etc      | 4        | 1        | 4        | 3        | ...      | 0        | 0        | 0        | 0        | 1        | 0        | 0        | 0        | 1        | 0        |\n",
       "| 52       | Female   | 20       | harmony  | bright   | etc      | 3        | 4        | 5        | 3        | ...      | 0        | 0        | 0        | 1        | 0        | 0        | 0        | 1        | 0        | 0        |\n",
       "| 53       | Female   | 20       | harmony  | harmony  | etc      | 4        | 5        | 4        | 3        | ...      | 0        | 1        | 0        | 0        | 0        | 0        | 0        | 1        | 0        | 0        |\n",
       "| 54       | Female   | 30       | harmony  | harmony  | etc      | 5        | 3        | 4        | 4        | ...      | 1        | 0        | 0        | 0        | 0        | 0        | 0        | 0        | 0        | 1        |\n",
       "| 55       | Female   | 20       | bright   | bright   | etc      | 5        | 2        | 2        | 5        | ...      | 0        | 0        | 0        | 1        | 0        | 0        | 0        | 0        | 1        | 0        |\n",
       "| 57       | Female   | 20       | harmony  | harmony  | cosmetic | 3        | 2        | 3        | 5        | ...      | 0        | 1        | 0        | 0        | 0        | 0        | 1        | 0        | 0        | 0        |\n",
       "| 58       | Female   | 30       | harmony  | bright   | etc      | 4        | 1        | 3        | 5        | ...      | 0        | 0        | 0        | 1        | 0        | 0        | 0        | 1        | 0        | 0        |\n",
       "| 66       | Female   | 20       | harmony  | harmony  | etc      | 3        | 4        | 5        | 4        | ...      | 0        | 1        | 0        | 0        | 0        | 0        | 0        | 0        | 1        | 0        |\n",
       "| 68       | Female   | 30       | harmony  | bright   | cosmetic | 2        | 5        | 3        | 3        | ...      | 0        | 0        | 0        | 1        | 0        | 0        | 0        | 1        | 0        | 0        |\n",
       "| 69       | Female   | 20       | harmony  | harmony  | etc      | 4        | 4        | 2        | 3        | ...      | 0        | 0        | 0        | 1        | 0        | 0        | 1        | 0        | 0        | 0        |\n",
       "| 70       | Female   | 20       | harmony  | harmony  | etc      | 3        | 2        | 3        | 5        | ...      | 0        | 0        | 0        | 1        | 0        | 0        | 1        | 0        | 0        | 0        |\n",
       "| 71       | Female   | 20       | harmony  | harmony  | etc      | 5        | 3        | 5        | 3        | ...      | 0        | 1        | 0        | 0        | 0        | 0        | 0        | 1        | 0        | 0        |\n",
       "| 72       | Female   | 20       | harmony  | harmony  | cosmetic | 4        | 5        | 4        | 4        | ...      | 0        | 1        | 0        | 0        | 0        | 0        | 0        | 0        | 1        | 0        |\n",
       "| 73       | Female   | 10       | harmony  | harmony  | etc      | 4        | 3        | 3        | 2        | ...      | 0        | 0        | 0        | 0        | 1        | 0        | 0        | 0        | 0        | 1        |\n",
       "| 74       | Female   | 30       | harmony  | harmony  | cosmetic | 4        | 3        | 3        | 5        | ...      | 1        | 0        | 0        | 0        | 0        | 0        | 0        | 1        | 0        | 0        |\n",
       "| 75       | Female   | 10       | bright   | bright   | cosmetic | 4        | 2        | 4        | 3        | ...      | 0        | 1        | 0        | 0        | 0        | 0        | 0        | 1        | 0        | 0        |\n",
       "| 77       | Female   | 10       | harmony  | harmony  | etc      | 4        | 5        | 5        | 5        | ...      | 0        | 0        | 0        | 0        | 1        | 0        | 0        | 0        | 0        | 1        |\n",
       "| 78       | Female   | 20       | harmony  | harmony  | etc      | 3        | 3        | 5        | 3        | ...      | 0        | 0        | 0        | 1        | 0        | 0        | 1        | 0        | 0        | 0        |\n",
       "| 82       | Female   | 30       | harmony  | harmony  | etc      | 1        | 2        | 3        | 3        | ...      | 0        | 0        | 0        | 1        | 0        | 1        | 0        | 0        | 0        | 0        |\n",
       "| 83       | Female   | 30       | harmony  | bright   | etc      | 4        | 3        | 3        | 4        | ...      | 0        | 0        | 1        | 0        | 0        | 1        | 0        | 0        | 0        | 0        |\n",
       "| 86       | Female   | 30       | bright   | bright   | clothes  | 3        | 3        | 5        | 4        | ...      | 0        | 0        | 0        | 0        | 1        | 0        | 0        | 0        | 0        | 1        |\n",
       "| 87       | Female   | 30       | harmony  | harmony  | clothes  | 1        | 3        | 1        | 3        | ...      | 0        | 1        | 0        | 0        | 0        | 1        | 0        | 0        | 0        | 0        |\n",
       "| 88       | Female   | 50       | harmony  | harmony  | etc      | 4        | 3        | 3        | 5        | ...      | 0        | 0        | 0        | 1        | 0        | 0        | 0        | 0        | 0        | 1        |\n",
       "| 89       | Female   | 50       | harmony  | harmony  | etc      | 5        | 2        | 1        | 5        | ...      | 0        | 0        | 0        | 1        | 0        | 0        | 0        | 1        | 0        | 0        |\n",
       "| 90       | Female   | 20       | harmony  | harmony  | clothes  | 2        | 2        | 3        | 4        | ...      | 0        | 0        | 0        | 0        | 1        | 0        | 1        | 0        | 0        | 0        |\n",
       "| 91       | Female   | 50       | bright   | bright   | cosmetic | 3        | 1        | 1        | 1        | ...      | 1        | 0        | 0        | 0        | 0        | 1        | 0        | 0        | 0        | 0        |\n",
       "| 92       | Female   | 50       | harmony  | harmony  | cosmetic | 5        | 4        | 2        | 1        | ...      | 0        | 0        | 1        | 0        | 0        | 0        | 0        | 1        | 0        | 0        |\n",
       "| 93       | Female   | 50       | bright   | bright   | clothes  | 3        | 4        | 5        | 2        | ...      | 0        | 1        | 0        | 0        | 0        | 0        | 0        | 0        | 0        | 1        |\n",
       "| 94       | Female   | 50       | harmony  | harmony  | clothes  | 4        | 5        | 3        | 5        | ...      | 0        | 0        | 0        | 1        | 0        | 1        | 0        | 0        | 0        | 0        |\n",
       "| 95       | Female   | 20       | bright   | harmony  | etc      | 4        | 3        | 4        | 4        | ...      | 0        | 0        | 0        | 1        | 0        | 0        | 0        | 0        | 1        | 0        |\n",
       "\n"
      ],
      "text/plain": [
       "    X   sex    age_class definition need    purpose  interest comp triangle1\n",
       "1    0  Female 20        bright     bright  clothes  3        3    4        \n",
       "2    2  Female 20        bright     bright  clothes  5        5    5        \n",
       "3    4  Female 20        bright     bright  cosmetic 3        2    4        \n",
       "4    5  Female 30        harmony    harmony clothes  4        3    2        \n",
       "5    6  Female 30        harmony    bright  clothes  3        3    5        \n",
       "6    7  Female 20        bright     bright  cosmetic 3        2    5        \n",
       "7    8  Female 30        harmony    bright  etc      5        2    5        \n",
       "8    9  Female 20        harmony    harmony clothes  1        5    4        \n",
       "9   10  Female 30        harmony    bright  cosmetic 4        3    5        \n",
       "10  11  Female 20        bright     bright  etc      4        4    3        \n",
       "11  12  Female 20        harmony    bright  cosmetic 3        4    4        \n",
       "12  14  Female 20        harmony    harmony clothes  3        2    3        \n",
       "13  15  Female 20        bright     bright  cosmetic 5        1    3        \n",
       "14  16  Female 30        harmony    harmony cosmetic 1        2    3        \n",
       "15  19  Female 30        harmony    bright  clothes  4        2    5        \n",
       "16  22  Female 30        harmony    harmony clothes  3        1    5        \n",
       "17  23  Female 20        harmony    bright  clothes  3        3    3        \n",
       "18  24  Female 20        bright     harmony clothes  3        2    3        \n",
       "19  25  Female 20        bright     bright  clothes  4        1    3        \n",
       "20  26  Female 30        bright     bright  cosmetic 3        2    5        \n",
       "21  28  Female 20        harmony    harmony cosmetic 3        5    1        \n",
       "22  29  Female 20        harmony    harmony etc      2        2    3        \n",
       "23  30  Female 20        bright     bright  cosmetic 2        1    5        \n",
       "24  31  Female 20        harmony    bright  etc      2        2    2        \n",
       "25  34  Female 20        harmony    harmony clothes  3        4    1        \n",
       "26  35  Female 20        harmony    harmony cosmetic 3        2    5        \n",
       "27  41  Female 40        bright     bright  clothes  2        1    4        \n",
       "28  45  Female 20        harmony    harmony etc      3        4    3        \n",
       "29  46  Female 10        harmony    harmony etc      3        3    3        \n",
       "30  47  Female 20        harmony    harmony etc      5        2    1        \n",
       "... ... ...    ...       ...        ...     ...      ...      ...  ...      \n",
       "32  49  Female 10        bright     bright  etc      4        1    4        \n",
       "33  52  Female 20        harmony    bright  etc      3        4    5        \n",
       "34  53  Female 20        harmony    harmony etc      4        5    4        \n",
       "35  54  Female 30        harmony    harmony etc      5        3    4        \n",
       "36  55  Female 20        bright     bright  etc      5        2    2        \n",
       "37  57  Female 20        harmony    harmony cosmetic 3        2    3        \n",
       "38  58  Female 30        harmony    bright  etc      4        1    3        \n",
       "39  66  Female 20        harmony    harmony etc      3        4    5        \n",
       "40  68  Female 30        harmony    bright  cosmetic 2        5    3        \n",
       "41  69  Female 20        harmony    harmony etc      4        4    2        \n",
       "42  70  Female 20        harmony    harmony etc      3        2    3        \n",
       "43  71  Female 20        harmony    harmony etc      5        3    5        \n",
       "44  72  Female 20        harmony    harmony cosmetic 4        5    4        \n",
       "45  73  Female 10        harmony    harmony etc      4        3    3        \n",
       "46  74  Female 30        harmony    harmony cosmetic 4        3    3        \n",
       "47  75  Female 10        bright     bright  cosmetic 4        2    4        \n",
       "48  77  Female 10        harmony    harmony etc      4        5    5        \n",
       "49  78  Female 20        harmony    harmony etc      3        3    5        \n",
       "50  82  Female 30        harmony    harmony etc      1        2    3        \n",
       "51  83  Female 30        harmony    bright  etc      4        3    3        \n",
       "52  86  Female 30        bright     bright  clothes  3        3    5        \n",
       "53  87  Female 30        harmony    harmony clothes  1        3    1        \n",
       "54  88  Female 50        harmony    harmony etc      4        3    3        \n",
       "55  89  Female 50        harmony    harmony etc      5        2    1        \n",
       "56  90  Female 20        harmony    harmony clothes  2        2    3        \n",
       "57  91  Female 50        bright     bright  cosmetic 3        1    1        \n",
       "58  92  Female 50        harmony    harmony cosmetic 5        4    2        \n",
       "59  93  Female 50        bright     bright  clothes  3        4    5        \n",
       "60  94  Female 50        harmony    harmony clothes  4        5    3        \n",
       "61  95  Female 20        bright     harmony etc      4        3    4        \n",
       "    triangle2 ... d2_1 d2_2 d2_3 d2_4 d2_5 d3_1 d3_2 d3_3 d3_4 d3_5\n",
       "1   3         ... 0    1    0    0    0    1    0    0    0    0   \n",
       "2   4         ... 0    1    0    0    0    1    0    0    0    0   \n",
       "3   3         ... 0    0    1    0    0    1    0    0    0    0   \n",
       "4   2         ... 0    0    0    1    0    0    0    0    0    1   \n",
       "5   3         ... 0    0    1    0    0    0    0    0    0    1   \n",
       "6   3         ... 0    0    0    0    1    0    0    1    0    0   \n",
       "7   1         ... 0    1    0    0    0    1    0    0    0    0   \n",
       "8   2         ... 0    0    0    1    0    0    1    0    0    0   \n",
       "9   3         ... 0    0    1    0    0    1    0    0    0    0   \n",
       "10  4         ... 0    0    0    1    0    0    1    0    0    0   \n",
       "11  4         ... 0    1    0    0    0    1    0    0    0    0   \n",
       "12  4         ... 0    1    0    0    0    0    0    0    0    1   \n",
       "13  4         ... 0    1    0    0    0    0    0    0    0    1   \n",
       "14  4         ... 0    1    0    0    0    0    0    0    0    1   \n",
       "15  4         ... 1    0    0    0    0    0    0    1    0    0   \n",
       "16  3         ... 0    1    0    0    0    0    0    1    0    0   \n",
       "17  4         ... 0    0    0    1    0    1    0    0    0    0   \n",
       "18  3         ... 0    1    0    0    0    1    0    0    0    0   \n",
       "19  4         ... 1    0    0    0    0    1    0    0    0    0   \n",
       "20  4         ... 0    0    1    0    0    0    0    0    0    1   \n",
       "21  3         ... 0    0    1    0    0    0    0    0    0    1   \n",
       "22  4         ... 0    0    1    0    0    0    0    0    0    1   \n",
       "23  5         ... 0    0    0    1    0    1    0    0    0    0   \n",
       "24  4         ... 0    1    0    0    0    0    0    0    0    1   \n",
       "25  5         ... 0    0    0    1    0    1    0    0    0    0   \n",
       "26  4         ... 0    0    0    1    0    0    1    0    0    0   \n",
       "27  5         ... 0    0    0    1    0    1    0    0    0    0   \n",
       "28  5         ... 0    0    1    0    0    1    0    0    0    0   \n",
       "29  1         ... 0    0    0    1    0    0    1    0    0    0   \n",
       "30  1         ... 0    1    0    0    0    0    0    0    0    1   \n",
       "... ...           ...  ...  ...  ...  ...  ...  ...  ...  ...  ... \n",
       "32  3         ... 0    0    0    0    1    0    0    0    1    0   \n",
       "33  3         ... 0    0    0    1    0    0    0    1    0    0   \n",
       "34  3         ... 0    1    0    0    0    0    0    1    0    0   \n",
       "35  4         ... 1    0    0    0    0    0    0    0    0    1   \n",
       "36  5         ... 0    0    0    1    0    0    0    0    1    0   \n",
       "37  5         ... 0    1    0    0    0    0    1    0    0    0   \n",
       "38  5         ... 0    0    0    1    0    0    0    1    0    0   \n",
       "39  4         ... 0    1    0    0    0    0    0    0    1    0   \n",
       "40  3         ... 0    0    0    1    0    0    0    1    0    0   \n",
       "41  3         ... 0    0    0    1    0    0    1    0    0    0   \n",
       "42  5         ... 0    0    0    1    0    0    1    0    0    0   \n",
       "43  3         ... 0    1    0    0    0    0    0    1    0    0   \n",
       "44  4         ... 0    1    0    0    0    0    0    0    1    0   \n",
       "45  2         ... 0    0    0    0    1    0    0    0    0    1   \n",
       "46  5         ... 1    0    0    0    0    0    0    1    0    0   \n",
       "47  3         ... 0    1    0    0    0    0    0    1    0    0   \n",
       "48  5         ... 0    0    0    0    1    0    0    0    0    1   \n",
       "49  3         ... 0    0    0    1    0    0    1    0    0    0   \n",
       "50  3         ... 0    0    0    1    0    1    0    0    0    0   \n",
       "51  4         ... 0    0    1    0    0    1    0    0    0    0   \n",
       "52  4         ... 0    0    0    0    1    0    0    0    0    1   \n",
       "53  3         ... 0    1    0    0    0    1    0    0    0    0   \n",
       "54  5         ... 0    0    0    1    0    0    0    0    0    1   \n",
       "55  5         ... 0    0    0    1    0    0    0    1    0    0   \n",
       "56  4         ... 0    0    0    0    1    0    1    0    0    0   \n",
       "57  1         ... 1    0    0    0    0    1    0    0    0    0   \n",
       "58  1         ... 0    0    1    0    0    0    0    1    0    0   \n",
       "59  2         ... 0    1    0    0    0    0    0    0    0    1   \n",
       "60  5         ... 0    0    0    1    0    1    0    0    0    0   \n",
       "61  4         ... 0    0    0    1    0    0    0    0    1    0   "
      ]
     },
     "metadata": {},
     "output_type": "display_data"
    }
   ],
   "source": [
    "survey2"
   ]
  },
  {
   "cell_type": "code",
   "execution_count": 8,
   "metadata": {
    "scrolled": true
   },
   "outputs": [
    {
     "data": {
      "text/html": [
       "<table>\n",
       "<thead><tr><th scope=col>definition</th><th scope=col>need</th><th scope=col>purpose</th><th scope=col>interest</th><th scope=col>comp1</th><th scope=col>comp2</th><th scope=col>comp3</th><th scope=col>comp4</th><th scope=col>comp5</th><th scope=col>t1_1</th><th scope=col>t1_2</th><th scope=col>t1_3</th><th scope=col>t1_4</th><th scope=col>t1_5</th></tr></thead>\n",
       "<tbody>\n",
       "\t<tr><td>bright  </td><td>bright  </td><td>clothes </td><td>3       </td><td>0       </td><td>0       </td><td>1       </td><td>0       </td><td>0       </td><td>0       </td><td>0       </td><td>0       </td><td>1       </td><td>0       </td></tr>\n",
       "\t<tr><td>bright  </td><td>bright  </td><td>clothes </td><td>5       </td><td>0       </td><td>0       </td><td>0       </td><td>0       </td><td>1       </td><td>0       </td><td>0       </td><td>0       </td><td>0       </td><td>1       </td></tr>\n",
       "\t<tr><td>bright  </td><td>bright  </td><td>cosmetic</td><td>3       </td><td>0       </td><td>1       </td><td>0       </td><td>0       </td><td>0       </td><td>0       </td><td>0       </td><td>0       </td><td>1       </td><td>0       </td></tr>\n",
       "\t<tr><td>harmony </td><td>harmony </td><td>clothes </td><td>4       </td><td>0       </td><td>0       </td><td>1       </td><td>0       </td><td>0       </td><td>0       </td><td>1       </td><td>0       </td><td>0       </td><td>0       </td></tr>\n",
       "\t<tr><td>harmony </td><td>bright  </td><td>clothes </td><td>3       </td><td>0       </td><td>0       </td><td>1       </td><td>0       </td><td>0       </td><td>0       </td><td>0       </td><td>0       </td><td>0       </td><td>1       </td></tr>\n",
       "\t<tr><td>bright  </td><td>bright  </td><td>cosmetic</td><td>3       </td><td>0       </td><td>1       </td><td>0       </td><td>0       </td><td>0       </td><td>0       </td><td>0       </td><td>0       </td><td>0       </td><td>1       </td></tr>\n",
       "\t<tr><td>harmony </td><td>bright  </td><td>etc     </td><td>5       </td><td>0       </td><td>1       </td><td>0       </td><td>0       </td><td>0       </td><td>0       </td><td>0       </td><td>0       </td><td>0       </td><td>1       </td></tr>\n",
       "\t<tr><td>harmony </td><td>harmony </td><td>clothes </td><td>1       </td><td>0       </td><td>0       </td><td>0       </td><td>0       </td><td>1       </td><td>0       </td><td>0       </td><td>0       </td><td>1       </td><td>0       </td></tr>\n",
       "\t<tr><td>harmony </td><td>bright  </td><td>cosmetic</td><td>4       </td><td>0       </td><td>0       </td><td>1       </td><td>0       </td><td>0       </td><td>0       </td><td>0       </td><td>0       </td><td>0       </td><td>1       </td></tr>\n",
       "\t<tr><td>bright  </td><td>bright  </td><td>etc     </td><td>4       </td><td>0       </td><td>0       </td><td>0       </td><td>1       </td><td>0       </td><td>0       </td><td>0       </td><td>1       </td><td>0       </td><td>0       </td></tr>\n",
       "\t<tr><td>harmony </td><td>bright  </td><td>cosmetic</td><td>3       </td><td>0       </td><td>0       </td><td>0       </td><td>1       </td><td>0       </td><td>0       </td><td>0       </td><td>0       </td><td>1       </td><td>0       </td></tr>\n",
       "\t<tr><td>harmony </td><td>harmony </td><td>clothes </td><td>3       </td><td>0       </td><td>1       </td><td>0       </td><td>0       </td><td>0       </td><td>0       </td><td>0       </td><td>1       </td><td>0       </td><td>0       </td></tr>\n",
       "\t<tr><td>bright  </td><td>bright  </td><td>cosmetic</td><td>5       </td><td>1       </td><td>0       </td><td>0       </td><td>0       </td><td>0       </td><td>0       </td><td>0       </td><td>1       </td><td>0       </td><td>0       </td></tr>\n",
       "\t<tr><td>harmony </td><td>harmony </td><td>cosmetic</td><td>1       </td><td>0       </td><td>1       </td><td>0       </td><td>0       </td><td>0       </td><td>0       </td><td>0       </td><td>1       </td><td>0       </td><td>0       </td></tr>\n",
       "\t<tr><td>harmony </td><td>bright  </td><td>clothes </td><td>4       </td><td>0       </td><td>1       </td><td>0       </td><td>0       </td><td>0       </td><td>0       </td><td>0       </td><td>0       </td><td>0       </td><td>1       </td></tr>\n",
       "\t<tr><td>harmony </td><td>harmony </td><td>clothes </td><td>3       </td><td>1       </td><td>0       </td><td>0       </td><td>0       </td><td>0       </td><td>0       </td><td>0       </td><td>0       </td><td>0       </td><td>1       </td></tr>\n",
       "\t<tr><td>harmony </td><td>bright  </td><td>clothes </td><td>3       </td><td>0       </td><td>0       </td><td>1       </td><td>0       </td><td>0       </td><td>0       </td><td>0       </td><td>1       </td><td>0       </td><td>0       </td></tr>\n",
       "\t<tr><td>bright  </td><td>harmony </td><td>clothes </td><td>3       </td><td>0       </td><td>1       </td><td>0       </td><td>0       </td><td>0       </td><td>0       </td><td>0       </td><td>1       </td><td>0       </td><td>0       </td></tr>\n",
       "\t<tr><td>bright  </td><td>bright  </td><td>clothes </td><td>4       </td><td>1       </td><td>0       </td><td>0       </td><td>0       </td><td>0       </td><td>0       </td><td>0       </td><td>1       </td><td>0       </td><td>0       </td></tr>\n",
       "\t<tr><td>bright  </td><td>bright  </td><td>cosmetic</td><td>3       </td><td>0       </td><td>1       </td><td>0       </td><td>0       </td><td>0       </td><td>0       </td><td>0       </td><td>0       </td><td>0       </td><td>1       </td></tr>\n",
       "\t<tr><td>harmony </td><td>harmony </td><td>cosmetic</td><td>3       </td><td>0       </td><td>0       </td><td>0       </td><td>0       </td><td>1       </td><td>1       </td><td>0       </td><td>0       </td><td>0       </td><td>0       </td></tr>\n",
       "\t<tr><td>harmony </td><td>harmony </td><td>etc     </td><td>2       </td><td>0       </td><td>1       </td><td>0       </td><td>0       </td><td>0       </td><td>0       </td><td>0       </td><td>1       </td><td>0       </td><td>0       </td></tr>\n",
       "\t<tr><td>bright  </td><td>bright  </td><td>cosmetic</td><td>2       </td><td>1       </td><td>0       </td><td>0       </td><td>0       </td><td>0       </td><td>0       </td><td>0       </td><td>0       </td><td>0       </td><td>1       </td></tr>\n",
       "\t<tr><td>harmony </td><td>bright  </td><td>etc     </td><td>2       </td><td>0       </td><td>1       </td><td>0       </td><td>0       </td><td>0       </td><td>0       </td><td>1       </td><td>0       </td><td>0       </td><td>0       </td></tr>\n",
       "\t<tr><td>harmony </td><td>harmony </td><td>clothes </td><td>3       </td><td>0       </td><td>0       </td><td>0       </td><td>1       </td><td>0       </td><td>1       </td><td>0       </td><td>0       </td><td>0       </td><td>0       </td></tr>\n",
       "\t<tr><td>harmony </td><td>harmony </td><td>cosmetic</td><td>3       </td><td>0       </td><td>1       </td><td>0       </td><td>0       </td><td>0       </td><td>0       </td><td>0       </td><td>0       </td><td>0       </td><td>1       </td></tr>\n",
       "\t<tr><td>bright  </td><td>bright  </td><td>clothes </td><td>2       </td><td>1       </td><td>0       </td><td>0       </td><td>0       </td><td>0       </td><td>0       </td><td>0       </td><td>0       </td><td>1       </td><td>0       </td></tr>\n",
       "\t<tr><td>harmony </td><td>harmony </td><td>etc     </td><td>3       </td><td>0       </td><td>0       </td><td>0       </td><td>1       </td><td>0       </td><td>0       </td><td>0       </td><td>1       </td><td>0       </td><td>0       </td></tr>\n",
       "\t<tr><td>harmony </td><td>harmony </td><td>etc     </td><td>3       </td><td>0       </td><td>0       </td><td>1       </td><td>0       </td><td>0       </td><td>0       </td><td>0       </td><td>1       </td><td>0       </td><td>0       </td></tr>\n",
       "\t<tr><td>harmony </td><td>harmony </td><td>etc     </td><td>5       </td><td>0       </td><td>1       </td><td>0       </td><td>0       </td><td>0       </td><td>1       </td><td>0       </td><td>0       </td><td>0       </td><td>0       </td></tr>\n",
       "\t<tr><td>...</td><td>...</td><td>...</td><td>...</td><td>...</td><td>...</td><td>...</td><td>...</td><td>...</td><td>...</td><td>...</td><td>...</td><td>...</td><td>...</td></tr>\n",
       "\t<tr><td>bright  </td><td>bright  </td><td>etc     </td><td>4       </td><td>1       </td><td>0       </td><td>0       </td><td>0       </td><td>0       </td><td>0       </td><td>0       </td><td>0       </td><td>1       </td><td>0       </td></tr>\n",
       "\t<tr><td>harmony </td><td>bright  </td><td>etc     </td><td>3       </td><td>0       </td><td>0       </td><td>0       </td><td>1       </td><td>0       </td><td>0       </td><td>0       </td><td>0       </td><td>0       </td><td>1       </td></tr>\n",
       "\t<tr><td>harmony </td><td>harmony </td><td>etc     </td><td>4       </td><td>0       </td><td>0       </td><td>0       </td><td>0       </td><td>1       </td><td>0       </td><td>0       </td><td>0       </td><td>1       </td><td>0       </td></tr>\n",
       "\t<tr><td>harmony </td><td>harmony </td><td>etc     </td><td>5       </td><td>0       </td><td>0       </td><td>1       </td><td>0       </td><td>0       </td><td>0       </td><td>0       </td><td>0       </td><td>1       </td><td>0       </td></tr>\n",
       "\t<tr><td>bright  </td><td>bright  </td><td>etc     </td><td>5       </td><td>0       </td><td>1       </td><td>0       </td><td>0       </td><td>0       </td><td>0       </td><td>1       </td><td>0       </td><td>0       </td><td>0       </td></tr>\n",
       "\t<tr><td>harmony </td><td>harmony </td><td>cosmetic</td><td>3       </td><td>0       </td><td>1       </td><td>0       </td><td>0       </td><td>0       </td><td>0       </td><td>0       </td><td>1       </td><td>0       </td><td>0       </td></tr>\n",
       "\t<tr><td>harmony </td><td>bright  </td><td>etc     </td><td>4       </td><td>1       </td><td>0       </td><td>0       </td><td>0       </td><td>0       </td><td>0       </td><td>0       </td><td>1       </td><td>0       </td><td>0       </td></tr>\n",
       "\t<tr><td>harmony </td><td>harmony </td><td>etc     </td><td>3       </td><td>0       </td><td>0       </td><td>0       </td><td>1       </td><td>0       </td><td>0       </td><td>0       </td><td>0       </td><td>0       </td><td>1       </td></tr>\n",
       "\t<tr><td>harmony </td><td>bright  </td><td>cosmetic</td><td>2       </td><td>0       </td><td>0       </td><td>0       </td><td>0       </td><td>1       </td><td>0       </td><td>0       </td><td>1       </td><td>0       </td><td>0       </td></tr>\n",
       "\t<tr><td>harmony </td><td>harmony </td><td>etc     </td><td>4       </td><td>0       </td><td>0       </td><td>0       </td><td>1       </td><td>0       </td><td>0       </td><td>1       </td><td>0       </td><td>0       </td><td>0       </td></tr>\n",
       "\t<tr><td>harmony </td><td>harmony </td><td>etc     </td><td>3       </td><td>0       </td><td>1       </td><td>0       </td><td>0       </td><td>0       </td><td>0       </td><td>0       </td><td>1       </td><td>0       </td><td>0       </td></tr>\n",
       "\t<tr><td>harmony </td><td>harmony </td><td>etc     </td><td>5       </td><td>0       </td><td>0       </td><td>1       </td><td>0       </td><td>0       </td><td>0       </td><td>0       </td><td>0       </td><td>0       </td><td>1       </td></tr>\n",
       "\t<tr><td>harmony </td><td>harmony </td><td>cosmetic</td><td>4       </td><td>0       </td><td>0       </td><td>0       </td><td>0       </td><td>1       </td><td>0       </td><td>0       </td><td>0       </td><td>1       </td><td>0       </td></tr>\n",
       "\t<tr><td>harmony </td><td>harmony </td><td>etc     </td><td>4       </td><td>0       </td><td>0       </td><td>1       </td><td>0       </td><td>0       </td><td>0       </td><td>0       </td><td>1       </td><td>0       </td><td>0       </td></tr>\n",
       "\t<tr><td>harmony </td><td>harmony </td><td>cosmetic</td><td>4       </td><td>0       </td><td>0       </td><td>1       </td><td>0       </td><td>0       </td><td>0       </td><td>0       </td><td>1       </td><td>0       </td><td>0       </td></tr>\n",
       "\t<tr><td>bright  </td><td>bright  </td><td>cosmetic</td><td>4       </td><td>0       </td><td>1       </td><td>0       </td><td>0       </td><td>0       </td><td>0       </td><td>0       </td><td>0       </td><td>1       </td><td>0       </td></tr>\n",
       "\t<tr><td>harmony </td><td>harmony </td><td>etc     </td><td>4       </td><td>0       </td><td>0       </td><td>0       </td><td>0       </td><td>1       </td><td>0       </td><td>0       </td><td>0       </td><td>0       </td><td>1       </td></tr>\n",
       "\t<tr><td>harmony </td><td>harmony </td><td>etc     </td><td>3       </td><td>0       </td><td>0       </td><td>1       </td><td>0       </td><td>0       </td><td>0       </td><td>0       </td><td>0       </td><td>0       </td><td>1       </td></tr>\n",
       "\t<tr><td>harmony </td><td>harmony </td><td>etc     </td><td>1       </td><td>0       </td><td>1       </td><td>0       </td><td>0       </td><td>0       </td><td>0       </td><td>0       </td><td>1       </td><td>0       </td><td>0       </td></tr>\n",
       "\t<tr><td>harmony </td><td>bright  </td><td>etc     </td><td>4       </td><td>0       </td><td>0       </td><td>1       </td><td>0       </td><td>0       </td><td>0       </td><td>0       </td><td>1       </td><td>0       </td><td>0       </td></tr>\n",
       "\t<tr><td>bright  </td><td>bright  </td><td>clothes </td><td>3       </td><td>0       </td><td>0       </td><td>1       </td><td>0       </td><td>0       </td><td>0       </td><td>0       </td><td>0       </td><td>0       </td><td>1       </td></tr>\n",
       "\t<tr><td>harmony </td><td>harmony </td><td>clothes </td><td>1       </td><td>0       </td><td>0       </td><td>1       </td><td>0       </td><td>0       </td><td>1       </td><td>0       </td><td>0       </td><td>0       </td><td>0       </td></tr>\n",
       "\t<tr><td>harmony </td><td>harmony </td><td>etc     </td><td>4       </td><td>0       </td><td>0       </td><td>1       </td><td>0       </td><td>0       </td><td>0       </td><td>0       </td><td>1       </td><td>0       </td><td>0       </td></tr>\n",
       "\t<tr><td>harmony </td><td>harmony </td><td>etc     </td><td>5       </td><td>0       </td><td>1       </td><td>0       </td><td>0       </td><td>0       </td><td>1       </td><td>0       </td><td>0       </td><td>0       </td><td>0       </td></tr>\n",
       "\t<tr><td>harmony </td><td>harmony </td><td>clothes </td><td>2       </td><td>0       </td><td>1       </td><td>0       </td><td>0       </td><td>0       </td><td>0       </td><td>0       </td><td>1       </td><td>0       </td><td>0       </td></tr>\n",
       "\t<tr><td>bright  </td><td>bright  </td><td>cosmetic</td><td>3       </td><td>1       </td><td>0       </td><td>0       </td><td>0       </td><td>0       </td><td>1       </td><td>0       </td><td>0       </td><td>0       </td><td>0       </td></tr>\n",
       "\t<tr><td>harmony </td><td>harmony </td><td>cosmetic</td><td>5       </td><td>0       </td><td>0       </td><td>0       </td><td>1       </td><td>0       </td><td>0       </td><td>1       </td><td>0       </td><td>0       </td><td>0       </td></tr>\n",
       "\t<tr><td>bright  </td><td>bright  </td><td>clothes </td><td>3       </td><td>0       </td><td>0       </td><td>0       </td><td>1       </td><td>0       </td><td>0       </td><td>0       </td><td>0       </td><td>0       </td><td>1       </td></tr>\n",
       "\t<tr><td>harmony </td><td>harmony </td><td>clothes </td><td>4       </td><td>0       </td><td>0       </td><td>0       </td><td>0       </td><td>1       </td><td>0       </td><td>0       </td><td>1       </td><td>0       </td><td>0       </td></tr>\n",
       "\t<tr><td>bright  </td><td>harmony </td><td>etc     </td><td>4       </td><td>0       </td><td>0       </td><td>1       </td><td>0       </td><td>0       </td><td>0       </td><td>0       </td><td>0       </td><td>1       </td><td>0       </td></tr>\n",
       "</tbody>\n",
       "</table>\n"
      ],
      "text/latex": [
       "\\begin{tabular}{r|llllllllllllll}\n",
       " definition & need & purpose & interest & comp1 & comp2 & comp3 & comp4 & comp5 & t1\\_1 & t1\\_2 & t1\\_3 & t1\\_4 & t1\\_5\\\\\n",
       "\\hline\n",
       "\t bright   & bright   & clothes  & 3        & 0        & 0        & 1        & 0        & 0        & 0        & 0        & 0        & 1        & 0       \\\\\n",
       "\t bright   & bright   & clothes  & 5        & 0        & 0        & 0        & 0        & 1        & 0        & 0        & 0        & 0        & 1       \\\\\n",
       "\t bright   & bright   & cosmetic & 3        & 0        & 1        & 0        & 0        & 0        & 0        & 0        & 0        & 1        & 0       \\\\\n",
       "\t harmony  & harmony  & clothes  & 4        & 0        & 0        & 1        & 0        & 0        & 0        & 1        & 0        & 0        & 0       \\\\\n",
       "\t harmony  & bright   & clothes  & 3        & 0        & 0        & 1        & 0        & 0        & 0        & 0        & 0        & 0        & 1       \\\\\n",
       "\t bright   & bright   & cosmetic & 3        & 0        & 1        & 0        & 0        & 0        & 0        & 0        & 0        & 0        & 1       \\\\\n",
       "\t harmony  & bright   & etc      & 5        & 0        & 1        & 0        & 0        & 0        & 0        & 0        & 0        & 0        & 1       \\\\\n",
       "\t harmony  & harmony  & clothes  & 1        & 0        & 0        & 0        & 0        & 1        & 0        & 0        & 0        & 1        & 0       \\\\\n",
       "\t harmony  & bright   & cosmetic & 4        & 0        & 0        & 1        & 0        & 0        & 0        & 0        & 0        & 0        & 1       \\\\\n",
       "\t bright   & bright   & etc      & 4        & 0        & 0        & 0        & 1        & 0        & 0        & 0        & 1        & 0        & 0       \\\\\n",
       "\t harmony  & bright   & cosmetic & 3        & 0        & 0        & 0        & 1        & 0        & 0        & 0        & 0        & 1        & 0       \\\\\n",
       "\t harmony  & harmony  & clothes  & 3        & 0        & 1        & 0        & 0        & 0        & 0        & 0        & 1        & 0        & 0       \\\\\n",
       "\t bright   & bright   & cosmetic & 5        & 1        & 0        & 0        & 0        & 0        & 0        & 0        & 1        & 0        & 0       \\\\\n",
       "\t harmony  & harmony  & cosmetic & 1        & 0        & 1        & 0        & 0        & 0        & 0        & 0        & 1        & 0        & 0       \\\\\n",
       "\t harmony  & bright   & clothes  & 4        & 0        & 1        & 0        & 0        & 0        & 0        & 0        & 0        & 0        & 1       \\\\\n",
       "\t harmony  & harmony  & clothes  & 3        & 1        & 0        & 0        & 0        & 0        & 0        & 0        & 0        & 0        & 1       \\\\\n",
       "\t harmony  & bright   & clothes  & 3        & 0        & 0        & 1        & 0        & 0        & 0        & 0        & 1        & 0        & 0       \\\\\n",
       "\t bright   & harmony  & clothes  & 3        & 0        & 1        & 0        & 0        & 0        & 0        & 0        & 1        & 0        & 0       \\\\\n",
       "\t bright   & bright   & clothes  & 4        & 1        & 0        & 0        & 0        & 0        & 0        & 0        & 1        & 0        & 0       \\\\\n",
       "\t bright   & bright   & cosmetic & 3        & 0        & 1        & 0        & 0        & 0        & 0        & 0        & 0        & 0        & 1       \\\\\n",
       "\t harmony  & harmony  & cosmetic & 3        & 0        & 0        & 0        & 0        & 1        & 1        & 0        & 0        & 0        & 0       \\\\\n",
       "\t harmony  & harmony  & etc      & 2        & 0        & 1        & 0        & 0        & 0        & 0        & 0        & 1        & 0        & 0       \\\\\n",
       "\t bright   & bright   & cosmetic & 2        & 1        & 0        & 0        & 0        & 0        & 0        & 0        & 0        & 0        & 1       \\\\\n",
       "\t harmony  & bright   & etc      & 2        & 0        & 1        & 0        & 0        & 0        & 0        & 1        & 0        & 0        & 0       \\\\\n",
       "\t harmony  & harmony  & clothes  & 3        & 0        & 0        & 0        & 1        & 0        & 1        & 0        & 0        & 0        & 0       \\\\\n",
       "\t harmony  & harmony  & cosmetic & 3        & 0        & 1        & 0        & 0        & 0        & 0        & 0        & 0        & 0        & 1       \\\\\n",
       "\t bright   & bright   & clothes  & 2        & 1        & 0        & 0        & 0        & 0        & 0        & 0        & 0        & 1        & 0       \\\\\n",
       "\t harmony  & harmony  & etc      & 3        & 0        & 0        & 0        & 1        & 0        & 0        & 0        & 1        & 0        & 0       \\\\\n",
       "\t harmony  & harmony  & etc      & 3        & 0        & 0        & 1        & 0        & 0        & 0        & 0        & 1        & 0        & 0       \\\\\n",
       "\t harmony  & harmony  & etc      & 5        & 0        & 1        & 0        & 0        & 0        & 1        & 0        & 0        & 0        & 0       \\\\\n",
       "\t ... & ... & ... & ... & ... & ... & ... & ... & ... & ... & ... & ... & ... & ...\\\\\n",
       "\t bright   & bright   & etc      & 4        & 1        & 0        & 0        & 0        & 0        & 0        & 0        & 0        & 1        & 0       \\\\\n",
       "\t harmony  & bright   & etc      & 3        & 0        & 0        & 0        & 1        & 0        & 0        & 0        & 0        & 0        & 1       \\\\\n",
       "\t harmony  & harmony  & etc      & 4        & 0        & 0        & 0        & 0        & 1        & 0        & 0        & 0        & 1        & 0       \\\\\n",
       "\t harmony  & harmony  & etc      & 5        & 0        & 0        & 1        & 0        & 0        & 0        & 0        & 0        & 1        & 0       \\\\\n",
       "\t bright   & bright   & etc      & 5        & 0        & 1        & 0        & 0        & 0        & 0        & 1        & 0        & 0        & 0       \\\\\n",
       "\t harmony  & harmony  & cosmetic & 3        & 0        & 1        & 0        & 0        & 0        & 0        & 0        & 1        & 0        & 0       \\\\\n",
       "\t harmony  & bright   & etc      & 4        & 1        & 0        & 0        & 0        & 0        & 0        & 0        & 1        & 0        & 0       \\\\\n",
       "\t harmony  & harmony  & etc      & 3        & 0        & 0        & 0        & 1        & 0        & 0        & 0        & 0        & 0        & 1       \\\\\n",
       "\t harmony  & bright   & cosmetic & 2        & 0        & 0        & 0        & 0        & 1        & 0        & 0        & 1        & 0        & 0       \\\\\n",
       "\t harmony  & harmony  & etc      & 4        & 0        & 0        & 0        & 1        & 0        & 0        & 1        & 0        & 0        & 0       \\\\\n",
       "\t harmony  & harmony  & etc      & 3        & 0        & 1        & 0        & 0        & 0        & 0        & 0        & 1        & 0        & 0       \\\\\n",
       "\t harmony  & harmony  & etc      & 5        & 0        & 0        & 1        & 0        & 0        & 0        & 0        & 0        & 0        & 1       \\\\\n",
       "\t harmony  & harmony  & cosmetic & 4        & 0        & 0        & 0        & 0        & 1        & 0        & 0        & 0        & 1        & 0       \\\\\n",
       "\t harmony  & harmony  & etc      & 4        & 0        & 0        & 1        & 0        & 0        & 0        & 0        & 1        & 0        & 0       \\\\\n",
       "\t harmony  & harmony  & cosmetic & 4        & 0        & 0        & 1        & 0        & 0        & 0        & 0        & 1        & 0        & 0       \\\\\n",
       "\t bright   & bright   & cosmetic & 4        & 0        & 1        & 0        & 0        & 0        & 0        & 0        & 0        & 1        & 0       \\\\\n",
       "\t harmony  & harmony  & etc      & 4        & 0        & 0        & 0        & 0        & 1        & 0        & 0        & 0        & 0        & 1       \\\\\n",
       "\t harmony  & harmony  & etc      & 3        & 0        & 0        & 1        & 0        & 0        & 0        & 0        & 0        & 0        & 1       \\\\\n",
       "\t harmony  & harmony  & etc      & 1        & 0        & 1        & 0        & 0        & 0        & 0        & 0        & 1        & 0        & 0       \\\\\n",
       "\t harmony  & bright   & etc      & 4        & 0        & 0        & 1        & 0        & 0        & 0        & 0        & 1        & 0        & 0       \\\\\n",
       "\t bright   & bright   & clothes  & 3        & 0        & 0        & 1        & 0        & 0        & 0        & 0        & 0        & 0        & 1       \\\\\n",
       "\t harmony  & harmony  & clothes  & 1        & 0        & 0        & 1        & 0        & 0        & 1        & 0        & 0        & 0        & 0       \\\\\n",
       "\t harmony  & harmony  & etc      & 4        & 0        & 0        & 1        & 0        & 0        & 0        & 0        & 1        & 0        & 0       \\\\\n",
       "\t harmony  & harmony  & etc      & 5        & 0        & 1        & 0        & 0        & 0        & 1        & 0        & 0        & 0        & 0       \\\\\n",
       "\t harmony  & harmony  & clothes  & 2        & 0        & 1        & 0        & 0        & 0        & 0        & 0        & 1        & 0        & 0       \\\\\n",
       "\t bright   & bright   & cosmetic & 3        & 1        & 0        & 0        & 0        & 0        & 1        & 0        & 0        & 0        & 0       \\\\\n",
       "\t harmony  & harmony  & cosmetic & 5        & 0        & 0        & 0        & 1        & 0        & 0        & 1        & 0        & 0        & 0       \\\\\n",
       "\t bright   & bright   & clothes  & 3        & 0        & 0        & 0        & 1        & 0        & 0        & 0        & 0        & 0        & 1       \\\\\n",
       "\t harmony  & harmony  & clothes  & 4        & 0        & 0        & 0        & 0        & 1        & 0        & 0        & 1        & 0        & 0       \\\\\n",
       "\t bright   & harmony  & etc      & 4        & 0        & 0        & 1        & 0        & 0        & 0        & 0        & 0        & 1        & 0       \\\\\n",
       "\\end{tabular}\n"
      ],
      "text/markdown": [
       "\n",
       "| definition | need | purpose | interest | comp1 | comp2 | comp3 | comp4 | comp5 | t1_1 | t1_2 | t1_3 | t1_4 | t1_5 |\n",
       "|---|---|---|---|---|---|---|---|---|---|---|---|---|---|\n",
       "| bright   | bright   | clothes  | 3        | 0        | 0        | 1        | 0        | 0        | 0        | 0        | 0        | 1        | 0        |\n",
       "| bright   | bright   | clothes  | 5        | 0        | 0        | 0        | 0        | 1        | 0        | 0        | 0        | 0        | 1        |\n",
       "| bright   | bright   | cosmetic | 3        | 0        | 1        | 0        | 0        | 0        | 0        | 0        | 0        | 1        | 0        |\n",
       "| harmony  | harmony  | clothes  | 4        | 0        | 0        | 1        | 0        | 0        | 0        | 1        | 0        | 0        | 0        |\n",
       "| harmony  | bright   | clothes  | 3        | 0        | 0        | 1        | 0        | 0        | 0        | 0        | 0        | 0        | 1        |\n",
       "| bright   | bright   | cosmetic | 3        | 0        | 1        | 0        | 0        | 0        | 0        | 0        | 0        | 0        | 1        |\n",
       "| harmony  | bright   | etc      | 5        | 0        | 1        | 0        | 0        | 0        | 0        | 0        | 0        | 0        | 1        |\n",
       "| harmony  | harmony  | clothes  | 1        | 0        | 0        | 0        | 0        | 1        | 0        | 0        | 0        | 1        | 0        |\n",
       "| harmony  | bright   | cosmetic | 4        | 0        | 0        | 1        | 0        | 0        | 0        | 0        | 0        | 0        | 1        |\n",
       "| bright   | bright   | etc      | 4        | 0        | 0        | 0        | 1        | 0        | 0        | 0        | 1        | 0        | 0        |\n",
       "| harmony  | bright   | cosmetic | 3        | 0        | 0        | 0        | 1        | 0        | 0        | 0        | 0        | 1        | 0        |\n",
       "| harmony  | harmony  | clothes  | 3        | 0        | 1        | 0        | 0        | 0        | 0        | 0        | 1        | 0        | 0        |\n",
       "| bright   | bright   | cosmetic | 5        | 1        | 0        | 0        | 0        | 0        | 0        | 0        | 1        | 0        | 0        |\n",
       "| harmony  | harmony  | cosmetic | 1        | 0        | 1        | 0        | 0        | 0        | 0        | 0        | 1        | 0        | 0        |\n",
       "| harmony  | bright   | clothes  | 4        | 0        | 1        | 0        | 0        | 0        | 0        | 0        | 0        | 0        | 1        |\n",
       "| harmony  | harmony  | clothes  | 3        | 1        | 0        | 0        | 0        | 0        | 0        | 0        | 0        | 0        | 1        |\n",
       "| harmony  | bright   | clothes  | 3        | 0        | 0        | 1        | 0        | 0        | 0        | 0        | 1        | 0        | 0        |\n",
       "| bright   | harmony  | clothes  | 3        | 0        | 1        | 0        | 0        | 0        | 0        | 0        | 1        | 0        | 0        |\n",
       "| bright   | bright   | clothes  | 4        | 1        | 0        | 0        | 0        | 0        | 0        | 0        | 1        | 0        | 0        |\n",
       "| bright   | bright   | cosmetic | 3        | 0        | 1        | 0        | 0        | 0        | 0        | 0        | 0        | 0        | 1        |\n",
       "| harmony  | harmony  | cosmetic | 3        | 0        | 0        | 0        | 0        | 1        | 1        | 0        | 0        | 0        | 0        |\n",
       "| harmony  | harmony  | etc      | 2        | 0        | 1        | 0        | 0        | 0        | 0        | 0        | 1        | 0        | 0        |\n",
       "| bright   | bright   | cosmetic | 2        | 1        | 0        | 0        | 0        | 0        | 0        | 0        | 0        | 0        | 1        |\n",
       "| harmony  | bright   | etc      | 2        | 0        | 1        | 0        | 0        | 0        | 0        | 1        | 0        | 0        | 0        |\n",
       "| harmony  | harmony  | clothes  | 3        | 0        | 0        | 0        | 1        | 0        | 1        | 0        | 0        | 0        | 0        |\n",
       "| harmony  | harmony  | cosmetic | 3        | 0        | 1        | 0        | 0        | 0        | 0        | 0        | 0        | 0        | 1        |\n",
       "| bright   | bright   | clothes  | 2        | 1        | 0        | 0        | 0        | 0        | 0        | 0        | 0        | 1        | 0        |\n",
       "| harmony  | harmony  | etc      | 3        | 0        | 0        | 0        | 1        | 0        | 0        | 0        | 1        | 0        | 0        |\n",
       "| harmony  | harmony  | etc      | 3        | 0        | 0        | 1        | 0        | 0        | 0        | 0        | 1        | 0        | 0        |\n",
       "| harmony  | harmony  | etc      | 5        | 0        | 1        | 0        | 0        | 0        | 1        | 0        | 0        | 0        | 0        |\n",
       "| ... | ... | ... | ... | ... | ... | ... | ... | ... | ... | ... | ... | ... | ... |\n",
       "| bright   | bright   | etc      | 4        | 1        | 0        | 0        | 0        | 0        | 0        | 0        | 0        | 1        | 0        |\n",
       "| harmony  | bright   | etc      | 3        | 0        | 0        | 0        | 1        | 0        | 0        | 0        | 0        | 0        | 1        |\n",
       "| harmony  | harmony  | etc      | 4        | 0        | 0        | 0        | 0        | 1        | 0        | 0        | 0        | 1        | 0        |\n",
       "| harmony  | harmony  | etc      | 5        | 0        | 0        | 1        | 0        | 0        | 0        | 0        | 0        | 1        | 0        |\n",
       "| bright   | bright   | etc      | 5        | 0        | 1        | 0        | 0        | 0        | 0        | 1        | 0        | 0        | 0        |\n",
       "| harmony  | harmony  | cosmetic | 3        | 0        | 1        | 0        | 0        | 0        | 0        | 0        | 1        | 0        | 0        |\n",
       "| harmony  | bright   | etc      | 4        | 1        | 0        | 0        | 0        | 0        | 0        | 0        | 1        | 0        | 0        |\n",
       "| harmony  | harmony  | etc      | 3        | 0        | 0        | 0        | 1        | 0        | 0        | 0        | 0        | 0        | 1        |\n",
       "| harmony  | bright   | cosmetic | 2        | 0        | 0        | 0        | 0        | 1        | 0        | 0        | 1        | 0        | 0        |\n",
       "| harmony  | harmony  | etc      | 4        | 0        | 0        | 0        | 1        | 0        | 0        | 1        | 0        | 0        | 0        |\n",
       "| harmony  | harmony  | etc      | 3        | 0        | 1        | 0        | 0        | 0        | 0        | 0        | 1        | 0        | 0        |\n",
       "| harmony  | harmony  | etc      | 5        | 0        | 0        | 1        | 0        | 0        | 0        | 0        | 0        | 0        | 1        |\n",
       "| harmony  | harmony  | cosmetic | 4        | 0        | 0        | 0        | 0        | 1        | 0        | 0        | 0        | 1        | 0        |\n",
       "| harmony  | harmony  | etc      | 4        | 0        | 0        | 1        | 0        | 0        | 0        | 0        | 1        | 0        | 0        |\n",
       "| harmony  | harmony  | cosmetic | 4        | 0        | 0        | 1        | 0        | 0        | 0        | 0        | 1        | 0        | 0        |\n",
       "| bright   | bright   | cosmetic | 4        | 0        | 1        | 0        | 0        | 0        | 0        | 0        | 0        | 1        | 0        |\n",
       "| harmony  | harmony  | etc      | 4        | 0        | 0        | 0        | 0        | 1        | 0        | 0        | 0        | 0        | 1        |\n",
       "| harmony  | harmony  | etc      | 3        | 0        | 0        | 1        | 0        | 0        | 0        | 0        | 0        | 0        | 1        |\n",
       "| harmony  | harmony  | etc      | 1        | 0        | 1        | 0        | 0        | 0        | 0        | 0        | 1        | 0        | 0        |\n",
       "| harmony  | bright   | etc      | 4        | 0        | 0        | 1        | 0        | 0        | 0        | 0        | 1        | 0        | 0        |\n",
       "| bright   | bright   | clothes  | 3        | 0        | 0        | 1        | 0        | 0        | 0        | 0        | 0        | 0        | 1        |\n",
       "| harmony  | harmony  | clothes  | 1        | 0        | 0        | 1        | 0        | 0        | 1        | 0        | 0        | 0        | 0        |\n",
       "| harmony  | harmony  | etc      | 4        | 0        | 0        | 1        | 0        | 0        | 0        | 0        | 1        | 0        | 0        |\n",
       "| harmony  | harmony  | etc      | 5        | 0        | 1        | 0        | 0        | 0        | 1        | 0        | 0        | 0        | 0        |\n",
       "| harmony  | harmony  | clothes  | 2        | 0        | 1        | 0        | 0        | 0        | 0        | 0        | 1        | 0        | 0        |\n",
       "| bright   | bright   | cosmetic | 3        | 1        | 0        | 0        | 0        | 0        | 1        | 0        | 0        | 0        | 0        |\n",
       "| harmony  | harmony  | cosmetic | 5        | 0        | 0        | 0        | 1        | 0        | 0        | 1        | 0        | 0        | 0        |\n",
       "| bright   | bright   | clothes  | 3        | 0        | 0        | 0        | 1        | 0        | 0        | 0        | 0        | 0        | 1        |\n",
       "| harmony  | harmony  | clothes  | 4        | 0        | 0        | 0        | 0        | 1        | 0        | 0        | 1        | 0        | 0        |\n",
       "| bright   | harmony  | etc      | 4        | 0        | 0        | 1        | 0        | 0        | 0        | 0        | 0        | 1        | 0        |\n",
       "\n"
      ],
      "text/plain": [
       "    definition need    purpose  interest comp1 comp2 comp3 comp4 comp5 t1_1\n",
       "1   bright     bright  clothes  3        0     0     1     0     0     0   \n",
       "2   bright     bright  clothes  5        0     0     0     0     1     0   \n",
       "3   bright     bright  cosmetic 3        0     1     0     0     0     0   \n",
       "4   harmony    harmony clothes  4        0     0     1     0     0     0   \n",
       "5   harmony    bright  clothes  3        0     0     1     0     0     0   \n",
       "6   bright     bright  cosmetic 3        0     1     0     0     0     0   \n",
       "7   harmony    bright  etc      5        0     1     0     0     0     0   \n",
       "8   harmony    harmony clothes  1        0     0     0     0     1     0   \n",
       "9   harmony    bright  cosmetic 4        0     0     1     0     0     0   \n",
       "10  bright     bright  etc      4        0     0     0     1     0     0   \n",
       "11  harmony    bright  cosmetic 3        0     0     0     1     0     0   \n",
       "12  harmony    harmony clothes  3        0     1     0     0     0     0   \n",
       "13  bright     bright  cosmetic 5        1     0     0     0     0     0   \n",
       "14  harmony    harmony cosmetic 1        0     1     0     0     0     0   \n",
       "15  harmony    bright  clothes  4        0     1     0     0     0     0   \n",
       "16  harmony    harmony clothes  3        1     0     0     0     0     0   \n",
       "17  harmony    bright  clothes  3        0     0     1     0     0     0   \n",
       "18  bright     harmony clothes  3        0     1     0     0     0     0   \n",
       "19  bright     bright  clothes  4        1     0     0     0     0     0   \n",
       "20  bright     bright  cosmetic 3        0     1     0     0     0     0   \n",
       "21  harmony    harmony cosmetic 3        0     0     0     0     1     1   \n",
       "22  harmony    harmony etc      2        0     1     0     0     0     0   \n",
       "23  bright     bright  cosmetic 2        1     0     0     0     0     0   \n",
       "24  harmony    bright  etc      2        0     1     0     0     0     0   \n",
       "25  harmony    harmony clothes  3        0     0     0     1     0     1   \n",
       "26  harmony    harmony cosmetic 3        0     1     0     0     0     0   \n",
       "27  bright     bright  clothes  2        1     0     0     0     0     0   \n",
       "28  harmony    harmony etc      3        0     0     0     1     0     0   \n",
       "29  harmony    harmony etc      3        0     0     1     0     0     0   \n",
       "30  harmony    harmony etc      5        0     1     0     0     0     1   \n",
       "... ...        ...     ...      ...      ...   ...   ...   ...   ...   ... \n",
       "32  bright     bright  etc      4        1     0     0     0     0     0   \n",
       "33  harmony    bright  etc      3        0     0     0     1     0     0   \n",
       "34  harmony    harmony etc      4        0     0     0     0     1     0   \n",
       "35  harmony    harmony etc      5        0     0     1     0     0     0   \n",
       "36  bright     bright  etc      5        0     1     0     0     0     0   \n",
       "37  harmony    harmony cosmetic 3        0     1     0     0     0     0   \n",
       "38  harmony    bright  etc      4        1     0     0     0     0     0   \n",
       "39  harmony    harmony etc      3        0     0     0     1     0     0   \n",
       "40  harmony    bright  cosmetic 2        0     0     0     0     1     0   \n",
       "41  harmony    harmony etc      4        0     0     0     1     0     0   \n",
       "42  harmony    harmony etc      3        0     1     0     0     0     0   \n",
       "43  harmony    harmony etc      5        0     0     1     0     0     0   \n",
       "44  harmony    harmony cosmetic 4        0     0     0     0     1     0   \n",
       "45  harmony    harmony etc      4        0     0     1     0     0     0   \n",
       "46  harmony    harmony cosmetic 4        0     0     1     0     0     0   \n",
       "47  bright     bright  cosmetic 4        0     1     0     0     0     0   \n",
       "48  harmony    harmony etc      4        0     0     0     0     1     0   \n",
       "49  harmony    harmony etc      3        0     0     1     0     0     0   \n",
       "50  harmony    harmony etc      1        0     1     0     0     0     0   \n",
       "51  harmony    bright  etc      4        0     0     1     0     0     0   \n",
       "52  bright     bright  clothes  3        0     0     1     0     0     0   \n",
       "53  harmony    harmony clothes  1        0     0     1     0     0     1   \n",
       "54  harmony    harmony etc      4        0     0     1     0     0     0   \n",
       "55  harmony    harmony etc      5        0     1     0     0     0     1   \n",
       "56  harmony    harmony clothes  2        0     1     0     0     0     0   \n",
       "57  bright     bright  cosmetic 3        1     0     0     0     0     1   \n",
       "58  harmony    harmony cosmetic 5        0     0     0     1     0     0   \n",
       "59  bright     bright  clothes  3        0     0     0     1     0     0   \n",
       "60  harmony    harmony clothes  4        0     0     0     0     1     0   \n",
       "61  bright     harmony etc      4        0     0     1     0     0     0   \n",
       "    t1_2 t1_3 t1_4 t1_5\n",
       "1   0    0    1    0   \n",
       "2   0    0    0    1   \n",
       "3   0    0    1    0   \n",
       "4   1    0    0    0   \n",
       "5   0    0    0    1   \n",
       "6   0    0    0    1   \n",
       "7   0    0    0    1   \n",
       "8   0    0    1    0   \n",
       "9   0    0    0    1   \n",
       "10  0    1    0    0   \n",
       "11  0    0    1    0   \n",
       "12  0    1    0    0   \n",
       "13  0    1    0    0   \n",
       "14  0    1    0    0   \n",
       "15  0    0    0    1   \n",
       "16  0    0    0    1   \n",
       "17  0    1    0    0   \n",
       "18  0    1    0    0   \n",
       "19  0    1    0    0   \n",
       "20  0    0    0    1   \n",
       "21  0    0    0    0   \n",
       "22  0    1    0    0   \n",
       "23  0    0    0    1   \n",
       "24  1    0    0    0   \n",
       "25  0    0    0    0   \n",
       "26  0    0    0    1   \n",
       "27  0    0    1    0   \n",
       "28  0    1    0    0   \n",
       "29  0    1    0    0   \n",
       "30  0    0    0    0   \n",
       "... ...  ...  ...  ... \n",
       "32  0    0    1    0   \n",
       "33  0    0    0    1   \n",
       "34  0    0    1    0   \n",
       "35  0    0    1    0   \n",
       "36  1    0    0    0   \n",
       "37  0    1    0    0   \n",
       "38  0    1    0    0   \n",
       "39  0    0    0    1   \n",
       "40  0    1    0    0   \n",
       "41  1    0    0    0   \n",
       "42  0    1    0    0   \n",
       "43  0    0    0    1   \n",
       "44  0    0    1    0   \n",
       "45  0    1    0    0   \n",
       "46  0    1    0    0   \n",
       "47  0    0    1    0   \n",
       "48  0    0    0    1   \n",
       "49  0    0    0    1   \n",
       "50  0    1    0    0   \n",
       "51  0    1    0    0   \n",
       "52  0    0    0    1   \n",
       "53  0    0    0    0   \n",
       "54  0    1    0    0   \n",
       "55  0    0    0    0   \n",
       "56  0    1    0    0   \n",
       "57  0    0    0    0   \n",
       "58  1    0    0    0   \n",
       "59  0    0    0    1   \n",
       "60  0    1    0    0   \n",
       "61  0    0    1    0   "
      ]
     },
     "metadata": {},
     "output_type": "display_data"
    }
   ],
   "source": [
    "select(survey2, definition, need, purpose, interest, comp1, comp2, comp3, comp4, comp5, t1_1, t1_2, t1_3, t1_4, t1_5)"
   ]
  },
  {
   "cell_type": "code",
   "execution_count": null,
   "metadata": {},
   "outputs": [],
   "source": []
  },
  {
   "cell_type": "code",
   "execution_count": 9,
   "metadata": {},
   "outputs": [],
   "source": [
    "train <- survey2[1:42, ]\n",
    "test <- survey2[43:61, ]"
   ]
  },
  {
   "cell_type": "code",
   "execution_count": 10,
   "metadata": {},
   "outputs": [
    {
     "data": {
      "text/plain": [
       "\n",
       "Call:\n",
       "glm(formula = comp1 ~ definition + need + purpose + interest, \n",
       "    family = binomial, data = train)\n",
       "\n",
       "Deviance Residuals: \n",
       "    Min       1Q   Median       3Q      Max  \n",
       "-1.1977  -0.5514  -0.3341  -0.2527   2.3908  \n",
       "\n",
       "Coefficients:\n",
       "                  Estimate Std. Error z value Pr(>|z|)\n",
       "(Intercept)         0.4072     1.9486   0.209    0.834\n",
       "definitionharmony  -1.6981     1.0728  -1.583    0.113\n",
       "needharmony        -1.1484     1.3172  -0.872    0.383\n",
       "purposecosmetic    -0.7514     1.1430  -0.657    0.511\n",
       "purposeetc         -0.3894     1.1672  -0.334    0.739\n",
       "interest           -0.1199     0.4988  -0.240    0.810\n",
       "\n",
       "(Dispersion parameter for binomial family taken to be 1)\n",
       "\n",
       "    Null deviance: 37.847  on 41  degrees of freedom\n",
       "Residual deviance: 30.793  on 36  degrees of freedom\n",
       "AIC: 42.793\n",
       "\n",
       "Number of Fisher Scoring iterations: 5\n"
      ]
     },
     "metadata": {},
     "output_type": "display_data"
    }
   ],
   "source": [
    "model <- glm(comp1 ~ definition + need + purpose \n",
    "              + interest, data =train, family = binomial)\n",
    "summary(model)"
   ]
  },
  {
   "cell_type": "code",
   "execution_count": 11,
   "metadata": {},
   "outputs": [
    {
     "data": {
      "text/html": [
       "<table>\n",
       "<thead><tr><th></th><th scope=col>Df</th><th scope=col>Deviance</th><th scope=col>Resid. Df</th><th scope=col>Resid. Dev</th><th scope=col>Pr(&gt;Chi)</th></tr></thead>\n",
       "<tbody>\n",
       "\t<tr><th scope=row>NULL</th><td>NA        </td><td>        NA</td><td>41        </td><td>37.84714  </td><td>        NA</td></tr>\n",
       "\t<tr><th scope=row>definition</th><td> 1        </td><td>5.96852339</td><td>40        </td><td>31.87862  </td><td>0.01456347</td></tr>\n",
       "\t<tr><th scope=row>need</th><td> 1        </td><td>0.59855497</td><td>39        </td><td>31.28006  </td><td>0.43912990</td></tr>\n",
       "\t<tr><th scope=row>purpose</th><td> 2        </td><td>0.42904144</td><td>37        </td><td>30.85102  </td><td>0.80692809</td></tr>\n",
       "\t<tr><th scope=row>interest</th><td> 1        </td><td>0.05781249</td><td>36        </td><td>30.79321  </td><td>0.80998741</td></tr>\n",
       "</tbody>\n",
       "</table>\n"
      ],
      "text/latex": [
       "\\begin{tabular}{r|lllll}\n",
       "  & Df & Deviance & Resid. Df & Resid. Dev & Pr(>Chi)\\\\\n",
       "\\hline\n",
       "\tNULL & NA         &         NA & 41         & 37.84714   &         NA\\\\\n",
       "\tdefinition &  1         & 5.96852339 & 40         & 31.87862   & 0.01456347\\\\\n",
       "\tneed &  1         & 0.59855497 & 39         & 31.28006   & 0.43912990\\\\\n",
       "\tpurpose &  2         & 0.42904144 & 37         & 30.85102   & 0.80692809\\\\\n",
       "\tinterest &  1         & 0.05781249 & 36         & 30.79321   & 0.80998741\\\\\n",
       "\\end{tabular}\n"
      ],
      "text/markdown": [
       "\n",
       "| <!--/--> | Df | Deviance | Resid. Df | Resid. Dev | Pr(>Chi) |\n",
       "|---|---|---|---|---|---|\n",
       "| NULL | NA         |         NA | 41         | 37.84714   |         NA |\n",
       "| definition |  1         | 5.96852339 | 40         | 31.87862   | 0.01456347 |\n",
       "| need |  1         | 0.59855497 | 39         | 31.28006   | 0.43912990 |\n",
       "| purpose |  2         | 0.42904144 | 37         | 30.85102   | 0.80692809 |\n",
       "| interest |  1         | 0.05781249 | 36         | 30.79321   | 0.80998741 |\n",
       "\n"
      ],
      "text/plain": [
       "           Df Deviance   Resid. Df Resid. Dev Pr(>Chi)  \n",
       "NULL       NA         NA 41        37.84714           NA\n",
       "definition  1 5.96852339 40        31.87862   0.01456347\n",
       "need        1 0.59855497 39        31.28006   0.43912990\n",
       "purpose     2 0.42904144 37        30.85102   0.80692809\n",
       "interest    1 0.05781249 36        30.79321   0.80998741"
      ]
     },
     "metadata": {},
     "output_type": "display_data"
    }
   ],
   "source": [
    "anova(model, test=\"Chisq\")"
   ]
  },
  {
   "cell_type": "code",
   "execution_count": 12,
   "metadata": {
    "scrolled": false
   },
   "outputs": [
    {
     "data": {
      "image/png": "[encoded data removed]",
      "text/plain": [
       "plot without title"
      ]
     },
     "metadata": {},
     "output_type": "display_data"
    }
   ],
   "source": [
    "p <- predict(model, newdata=test, type=\"response\")\n",
    "pr <- prediction(p, test$comp1)\n",
    "prf <- performance(pr, measure = \"tpr\", x.measure = \"fpr\")\n",
    "plot(prf)"
   ]
  },
  {
   "cell_type": "code",
   "execution_count": 13,
   "metadata": {},
   "outputs": [
    {
     "data": {
      "text/html": [
       "0.888888888888889"
      ],
      "text/latex": [
       "0.888888888888889"
      ],
      "text/markdown": [
       "0.888888888888889"
      ],
      "text/plain": [
       "[1] 0.8888889"
      ]
     },
     "metadata": {},
     "output_type": "display_data"
    }
   ],
   "source": [
    "auc <- performance(pr, measure = \"auc\")\n",
    "auc <- auc@y.values[[1]]\n",
    "auc"
   ]
  },
  {
   "cell_type": "code",
   "execution_count": 14,
   "metadata": {},
   "outputs": [
    {
     "data": {
      "text/plain": [
       "\n",
       "Call:\n",
       "glm(formula = comp2 ~ definition + need + purpose + interest, \n",
       "    family = binomial, data = train)\n",
       "\n",
       "Deviance Residuals: \n",
       "    Min       1Q   Median       3Q      Max  \n",
       "-1.3086  -0.9589  -0.7036   1.1269   2.1227  \n",
       "\n",
       "Coefficients:\n",
       "                  Estimate Std. Error z value Pr(>|z|)\n",
       "(Intercept)        -0.7966     1.4929  -0.534    0.594\n",
       "definitionharmony  -0.7880     0.9077  -0.868    0.385\n",
       "needharmony         0.9713     0.8456   1.149    0.251\n",
       "purposecosmetic     1.3344     0.9155   1.458    0.145\n",
       "purposeetc          0.8154     0.9140   0.892    0.372\n",
       "interest           -0.1393     0.3628  -0.384    0.701\n",
       "\n",
       "(Dispersion parameter for binomial family taken to be 1)\n",
       "\n",
       "    Null deviance: 54.748  on 41  degrees of freedom\n",
       "Residual deviance: 50.965  on 36  degrees of freedom\n",
       "AIC: 62.965\n",
       "\n",
       "Number of Fisher Scoring iterations: 4\n"
      ]
     },
     "metadata": {},
     "output_type": "display_data"
    },
    {
     "data": {
      "text/html": [
       "<table>\n",
       "<thead><tr><th></th><th scope=col>Df</th><th scope=col>Deviance</th><th scope=col>Resid. Df</th><th scope=col>Resid. Dev</th><th scope=col>Pr(&gt;Chi)</th></tr></thead>\n",
       "<tbody>\n",
       "\t<tr><th scope=row>NULL</th><td>NA        </td><td>        NA</td><td>41        </td><td>54.74755  </td><td>       NA </td></tr>\n",
       "\t<tr><th scope=row>definition</th><td> 1        </td><td>0.06153656</td><td>40        </td><td>54.68601  </td><td>0.8040836 </td></tr>\n",
       "\t<tr><th scope=row>need</th><td> 1        </td><td>1.15241108</td><td>39        </td><td>53.53360  </td><td>0.2830450 </td></tr>\n",
       "\t<tr><th scope=row>purpose</th><td> 2        </td><td>2.42136323</td><td>37        </td><td>51.11224  </td><td>0.2979941 </td></tr>\n",
       "\t<tr><th scope=row>interest</th><td> 1        </td><td>0.14749261</td><td>36        </td><td>50.96475  </td><td>0.7009431 </td></tr>\n",
       "</tbody>\n",
       "</table>\n"
      ],
      "text/latex": [
       "\\begin{tabular}{r|lllll}\n",
       "  & Df & Deviance & Resid. Df & Resid. Dev & Pr(>Chi)\\\\\n",
       "\\hline\n",
       "\tNULL & NA         &         NA & 41         & 54.74755   &        NA \\\\\n",
       "\tdefinition &  1         & 0.06153656 & 40         & 54.68601   & 0.8040836 \\\\\n",
       "\tneed &  1         & 1.15241108 & 39         & 53.53360   & 0.2830450 \\\\\n",
       "\tpurpose &  2         & 2.42136323 & 37         & 51.11224   & 0.2979941 \\\\\n",
       "\tinterest &  1         & 0.14749261 & 36         & 50.96475   & 0.7009431 \\\\\n",
       "\\end{tabular}\n"
      ],
      "text/markdown": [
       "\n",
       "| <!--/--> | Df | Deviance | Resid. Df | Resid. Dev | Pr(>Chi) |\n",
       "|---|---|---|---|---|---|\n",
       "| NULL | NA         |         NA | 41         | 54.74755   |        NA  |\n",
       "| definition |  1         | 0.06153656 | 40         | 54.68601   | 0.8040836  |\n",
       "| need |  1         | 1.15241108 | 39         | 53.53360   | 0.2830450  |\n",
       "| purpose |  2         | 2.42136323 | 37         | 51.11224   | 0.2979941  |\n",
       "| interest |  1         | 0.14749261 | 36         | 50.96475   | 0.7009431  |\n",
       "\n"
      ],
      "text/plain": [
       "           Df Deviance   Resid. Df Resid. Dev Pr(>Chi) \n",
       "NULL       NA         NA 41        54.74755          NA\n",
       "definition  1 0.06153656 40        54.68601   0.8040836\n",
       "need        1 1.15241108 39        53.53360   0.2830450\n",
       "purpose     2 2.42136323 37        51.11224   0.2979941\n",
       "interest    1 0.14749261 36        50.96475   0.7009431"
      ]
     },
     "metadata": {},
     "output_type": "display_data"
    },
    {
     "data": {
      "text/html": [
       "0.508333333333333"
      ],
      "text/latex": [
       "0.508333333333333"
      ],
      "text/markdown": [
       "0.508333333333333"
      ],
      "text/plain": [
       "[1] 0.5083333"
      ]
     },
     "metadata": {},
     "output_type": "display_data"
    },
    {
     "data": {
      "image/png": "[encoded data removed]",
      "text/plain": [
       "plot without title"
      ]
     },
     "metadata": {},
     "output_type": "display_data"
    }
   ],
   "source": [
    "model <- glm(comp2 ~ definition + need + purpose \n",
    "              + interest, data =train, family = binomial)\n",
    "summary(model)\n",
    "\n",
    "\n",
    "anova(model, test=\"Chisq\")\n",
    "\n",
    "\n",
    "p <- predict(model, newdata=test, type=\"response\")\n",
    "pr <- prediction(p, test$comp2)\n",
    "prf <- performance(pr, measure = \"tpr\", x.measure = \"fpr\")\n",
    "plot(prf)\n",
    "\n",
    "auc <- performance(pr, measure = \"auc\")\n",
    "auc <- auc@y.values[[1]]\n",
    "auc"
   ]
  },
  {
   "cell_type": "code",
   "execution_count": 15,
   "metadata": {},
   "outputs": [
    {
     "data": {
      "text/plain": [
       "\n",
       "Call:\n",
       "glm(formula = comp3 ~ definition + need + purpose + interest, \n",
       "    family = binomial, data = train)\n",
       "\n",
       "Deviance Residuals: \n",
       "    Min       1Q   Median       3Q      Max  \n",
       "-1.3923  -0.5904  -0.3863  -0.2349   2.2971  \n",
       "\n",
       "Coefficients:\n",
       "                  Estimate Std. Error z value Pr(>|z|)  \n",
       "(Intercept)        -3.6165     2.3098  -1.566   0.1174  \n",
       "definitionharmony   1.9800     1.3282   1.491   0.1360  \n",
       "needharmony        -0.5846     0.9941  -0.588   0.5565  \n",
       "purposecosmetic    -1.6086     1.2692  -1.267   0.2050  \n",
       "purposeetc         -1.9395     1.1380  -1.704   0.0883 .\n",
       "interest            0.5322     0.5257   1.012   0.3113  \n",
       "---\n",
       "Signif. codes:  0 '***' 0.001 '**' 0.01 '*' 0.05 '.' 0.1 ' ' 1\n",
       "\n",
       "(Dispersion parameter for binomial family taken to be 1)\n",
       "\n",
       "    Null deviance: 37.847  on 41  degrees of freedom\n",
       "Residual deviance: 31.738  on 36  degrees of freedom\n",
       "AIC: 43.738\n",
       "\n",
       "Number of Fisher Scoring iterations: 5\n"
      ]
     },
     "metadata": {},
     "output_type": "display_data"
    },
    {
     "data": {
      "text/html": [
       "<table>\n",
       "<thead><tr><th></th><th scope=col>Df</th><th scope=col>Deviance</th><th scope=col>Resid. Df</th><th scope=col>Resid. Dev</th><th scope=col>Pr(&gt;Chi)</th></tr></thead>\n",
       "<tbody>\n",
       "\t<tr><th scope=row>NULL</th><td>NA       </td><td>       NA</td><td>41       </td><td>37.84714 </td><td>       NA</td></tr>\n",
       "\t<tr><th scope=row>definition</th><td> 1       </td><td>1.2269073</td><td>40       </td><td>36.62023 </td><td>0.2680093</td></tr>\n",
       "\t<tr><th scope=row>need</th><td> 1       </td><td>0.5341897</td><td>39       </td><td>36.08604 </td><td>0.4648507</td></tr>\n",
       "\t<tr><th scope=row>purpose</th><td> 2       </td><td>3.2282716</td><td>37       </td><td>32.85777 </td><td>0.1990626</td></tr>\n",
       "\t<tr><th scope=row>interest</th><td> 1       </td><td>1.1199569</td><td>36       </td><td>31.73782 </td><td>0.2899277</td></tr>\n",
       "</tbody>\n",
       "</table>\n"
      ],
      "text/latex": [
       "\\begin{tabular}{r|lllll}\n",
       "  & Df & Deviance & Resid. Df & Resid. Dev & Pr(>Chi)\\\\\n",
       "\\hline\n",
       "\tNULL & NA        &        NA & 41        & 37.84714  &        NA\\\\\n",
       "\tdefinition &  1        & 1.2269073 & 40        & 36.62023  & 0.2680093\\\\\n",
       "\tneed &  1        & 0.5341897 & 39        & 36.08604  & 0.4648507\\\\\n",
       "\tpurpose &  2        & 3.2282716 & 37        & 32.85777  & 0.1990626\\\\\n",
       "\tinterest &  1        & 1.1199569 & 36        & 31.73782  & 0.2899277\\\\\n",
       "\\end{tabular}\n"
      ],
      "text/markdown": [
       "\n",
       "| <!--/--> | Df | Deviance | Resid. Df | Resid. Dev | Pr(>Chi) |\n",
       "|---|---|---|---|---|---|\n",
       "| NULL | NA        |        NA | 41        | 37.84714  |        NA |\n",
       "| definition |  1        | 1.2269073 | 40        | 36.62023  | 0.2680093 |\n",
       "| need |  1        | 0.5341897 | 39        | 36.08604  | 0.4648507 |\n",
       "| purpose |  2        | 3.2282716 | 37        | 32.85777  | 0.1990626 |\n",
       "| interest |  1        | 1.1199569 | 36        | 31.73782  | 0.2899277 |\n",
       "\n"
      ],
      "text/plain": [
       "           Df Deviance  Resid. Df Resid. Dev Pr(>Chi) \n",
       "NULL       NA        NA 41        37.84714          NA\n",
       "definition  1 1.2269073 40        36.62023   0.2680093\n",
       "need        1 0.5341897 39        36.08604   0.4648507\n",
       "purpose     2 3.2282716 37        32.85777   0.1990626\n",
       "interest    1 1.1199569 36        31.73782   0.2899277"
      ]
     },
     "metadata": {},
     "output_type": "display_data"
    },
    {
     "data": {
      "text/html": [
       "0.438888888888889"
      ],
      "text/latex": [
       "0.438888888888889"
      ],
      "text/markdown": [
       "0.438888888888889"
      ],
      "text/plain": [
       "[1] 0.4388889"
      ]
     },
     "metadata": {},
     "output_type": "display_data"
    },
    {
     "data": {
      "image/png": "[encoded data removed]",
      "text/plain": [
       "plot without title"
      ]
     },
     "metadata": {},
     "output_type": "display_data"
    }
   ],
   "source": [
    "model <- glm(comp3 ~ definition + need + purpose \n",
    "              + interest, data =train, family = binomial)\n",
    "summary(model)\n",
    "\n",
    "\n",
    "anova(model, test=\"Chisq\")\n",
    "\n",
    "\n",
    "p <- predict(model, newdata=test, type=\"response\")\n",
    "pr <- prediction(p, test$comp3)\n",
    "prf <- performance(pr, measure = \"tpr\", x.measure = \"fpr\")\n",
    "plot(prf)\n",
    "\n",
    "auc <- performance(pr, measure = \"auc\")\n",
    "auc <- auc@y.values[[1]]\n",
    "auc"
   ]
  },
  {
   "cell_type": "code",
   "execution_count": 16,
   "metadata": {},
   "outputs": [
    {
     "data": {
      "text/plain": [
       "\n",
       "Call:\n",
       "glm(formula = comp4 ~ definition + need + purpose + interest, \n",
       "    family = binomial, data = train)\n",
       "\n",
       "Deviance Residuals: \n",
       "    Min       1Q   Median       3Q      Max  \n",
       "-1.1417  -0.6226  -0.4305  -0.2851   2.2156  \n",
       "\n",
       "Coefficients:\n",
       "                  Estimate Std. Error z value Pr(>|z|)\n",
       "(Intercept)       -2.93107    2.11366  -1.387    0.166\n",
       "definitionharmony  1.18687    1.29439   0.917    0.359\n",
       "needharmony       -0.43156    0.94511  -0.457    0.648\n",
       "purposecosmetic    0.06506    1.49520   0.044    0.965\n",
       "purposeetc         1.78552    1.21372   1.471    0.141\n",
       "interest          -0.06295    0.44543  -0.141    0.888\n",
       "\n",
       "(Dispersion parameter for binomial family taken to be 1)\n",
       "\n",
       "    Null deviance: 40.901  on 41  degrees of freedom\n",
       "Residual deviance: 35.000  on 36  degrees of freedom\n",
       "AIC: 47\n",
       "\n",
       "Number of Fisher Scoring iterations: 5\n"
      ]
     },
     "metadata": {},
     "output_type": "display_data"
    },
    {
     "data": {
      "text/html": [
       "<table>\n",
       "<thead><tr><th></th><th scope=col>Df</th><th scope=col>Deviance</th><th scope=col>Resid. Df</th><th scope=col>Resid. Dev</th><th scope=col>Pr(&gt;Chi)</th></tr></thead>\n",
       "<tbody>\n",
       "\t<tr><th scope=row>NULL</th><td>NA        </td><td>        NA</td><td>41        </td><td>40.90067  </td><td>       NA </td></tr>\n",
       "\t<tr><th scope=row>definition</th><td> 1        </td><td>1.79519579</td><td>40        </td><td>39.10547  </td><td>0.1802944 </td></tr>\n",
       "\t<tr><th scope=row>need</th><td> 1        </td><td>0.13422456</td><td>39        </td><td>38.97125  </td><td>0.7140915 </td></tr>\n",
       "\t<tr><th scope=row>purpose</th><td> 2        </td><td>3.95131267</td><td>37        </td><td>35.01993  </td><td>0.1386703 </td></tr>\n",
       "\t<tr><th scope=row>interest</th><td> 1        </td><td>0.01996244</td><td>36        </td><td>34.99997  </td><td>0.8876420 </td></tr>\n",
       "</tbody>\n",
       "</table>\n"
      ],
      "text/latex": [
       "\\begin{tabular}{r|lllll}\n",
       "  & Df & Deviance & Resid. Df & Resid. Dev & Pr(>Chi)\\\\\n",
       "\\hline\n",
       "\tNULL & NA         &         NA & 41         & 40.90067   &        NA \\\\\n",
       "\tdefinition &  1         & 1.79519579 & 40         & 39.10547   & 0.1802944 \\\\\n",
       "\tneed &  1         & 0.13422456 & 39         & 38.97125   & 0.7140915 \\\\\n",
       "\tpurpose &  2         & 3.95131267 & 37         & 35.01993   & 0.1386703 \\\\\n",
       "\tinterest &  1         & 0.01996244 & 36         & 34.99997   & 0.8876420 \\\\\n",
       "\\end{tabular}\n"
      ],
      "text/markdown": [
       "\n",
       "| <!--/--> | Df | Deviance | Resid. Df | Resid. Dev | Pr(>Chi) |\n",
       "|---|---|---|---|---|---|\n",
       "| NULL | NA         |         NA | 41         | 40.90067   |        NA  |\n",
       "| definition |  1         | 1.79519579 | 40         | 39.10547   | 0.1802944  |\n",
       "| need |  1         | 0.13422456 | 39         | 38.97125   | 0.7140915  |\n",
       "| purpose |  2         | 3.95131267 | 37         | 35.01993   | 0.1386703  |\n",
       "| interest |  1         | 0.01996244 | 36         | 34.99997   | 0.8876420  |\n",
       "\n"
      ],
      "text/plain": [
       "           Df Deviance   Resid. Df Resid. Dev Pr(>Chi) \n",
       "NULL       NA         NA 41        40.90067          NA\n",
       "definition  1 1.79519579 40        39.10547   0.1802944\n",
       "need        1 0.13422456 39        38.97125   0.7140915\n",
       "purpose     2 3.95131267 37        35.01993   0.1386703\n",
       "interest    1 0.01996244 36        34.99997   0.8876420"
      ]
     },
     "metadata": {},
     "output_type": "display_data"
    },
    {
     "data": {
      "text/html": [
       "0.132352941176471"
      ],
      "text/latex": [
       "0.132352941176471"
      ],
      "text/markdown": [
       "0.132352941176471"
      ],
      "text/plain": [
       "[1] 0.1323529"
      ]
     },
     "metadata": {},
     "output_type": "display_data"
    },
    {
     "data": {
      "image/png": "[encoded data removed]",
      "text/plain": [
       "plot without title"
      ]
     },
     "metadata": {},
     "output_type": "display_data"
    }
   ],
   "source": [
    "model <- glm(comp4 ~ definition + need + purpose \n",
    "              + interest, data =train, family = binomial)\n",
    "summary(model)\n",
    "\n",
    "\n",
    "anova(model, test=\"Chisq\")\n",
    "\n",
    "\n",
    "p <- predict(model, newdata=test, type=\"response\")\n",
    "pr <- prediction(p, test$comp4)\n",
    "prf <- performance(pr, measure = \"tpr\", x.measure = \"fpr\")\n",
    "plot(prf)\n",
    "\n",
    "auc <- performance(pr, measure = \"auc\")\n",
    "auc <- auc@y.values[[1]]\n",
    "auc"
   ]
  },
  {
   "cell_type": "code",
   "execution_count": 17,
   "metadata": {},
   "outputs": [
    {
     "data": {
      "text/plain": [
       "\n",
       "Call:\n",
       "glm(formula = comp5 ~ definition + need + purpose + interest, \n",
       "    family = binomial, data = train)\n",
       "\n",
       "Deviance Residuals: \n",
       "    Min       1Q   Median       3Q      Max  \n",
       "-0.8216  -0.5504  -0.4113  -0.3061   2.3053  \n",
       "\n",
       "Coefficients:\n",
       "                  Estimate Std. Error z value Pr(>|z|)\n",
       "(Intercept)       -2.12690    2.20644  -0.964    0.335\n",
       "definitionharmony  0.60667    1.36765   0.444    0.657\n",
       "needharmony        0.54168    1.15889   0.467    0.640\n",
       "purposecosmetic    0.15724    1.12932   0.139    0.889\n",
       "purposeetc        -1.17455    1.36034  -0.863    0.388\n",
       "interest          -0.09149    0.53559  -0.171    0.864\n",
       "\n",
       "(Dispersion parameter for binomial family taken to be 1)\n",
       "\n",
       "    Null deviance: 30.662  on 41  degrees of freedom\n",
       "Residual deviance: 28.583  on 36  degrees of freedom\n",
       "AIC: 40.583\n",
       "\n",
       "Number of Fisher Scoring iterations: 5\n"
      ]
     },
     "metadata": {},
     "output_type": "display_data"
    },
    {
     "data": {
      "text/html": [
       "<table>\n",
       "<thead><tr><th></th><th scope=col>Df</th><th scope=col>Deviance</th><th scope=col>Resid. Df</th><th scope=col>Resid. Dev</th><th scope=col>Pr(&gt;Chi)</th></tr></thead>\n",
       "<tbody>\n",
       "\t<tr><th scope=row>NULL</th><td>NA        </td><td>        NA</td><td>41        </td><td>30.66194  </td><td>       NA </td></tr>\n",
       "\t<tr><th scope=row>definition</th><td> 1        </td><td>0.34200757</td><td>40        </td><td>30.31994  </td><td>0.5586727 </td></tr>\n",
       "\t<tr><th scope=row>need</th><td> 1        </td><td>0.22635421</td><td>39        </td><td>30.09358  </td><td>0.6342404 </td></tr>\n",
       "\t<tr><th scope=row>purpose</th><td> 2        </td><td>1.48183180</td><td>37        </td><td>28.61175  </td><td>0.4766771 </td></tr>\n",
       "\t<tr><th scope=row>interest</th><td> 1        </td><td>0.02911107</td><td>36        </td><td>28.58264  </td><td>0.8645228 </td></tr>\n",
       "</tbody>\n",
       "</table>\n"
      ],
      "text/latex": [
       "\\begin{tabular}{r|lllll}\n",
       "  & Df & Deviance & Resid. Df & Resid. Dev & Pr(>Chi)\\\\\n",
       "\\hline\n",
       "\tNULL & NA         &         NA & 41         & 30.66194   &        NA \\\\\n",
       "\tdefinition &  1         & 0.34200757 & 40         & 30.31994   & 0.5586727 \\\\\n",
       "\tneed &  1         & 0.22635421 & 39         & 30.09358   & 0.6342404 \\\\\n",
       "\tpurpose &  2         & 1.48183180 & 37         & 28.61175   & 0.4766771 \\\\\n",
       "\tinterest &  1         & 0.02911107 & 36         & 28.58264   & 0.8645228 \\\\\n",
       "\\end{tabular}\n"
      ],
      "text/markdown": [
       "\n",
       "| <!--/--> | Df | Deviance | Resid. Df | Resid. Dev | Pr(>Chi) |\n",
       "|---|---|---|---|---|---|\n",
       "| NULL | NA         |         NA | 41         | 30.66194   |        NA  |\n",
       "| definition |  1         | 0.34200757 | 40         | 30.31994   | 0.5586727  |\n",
       "| need |  1         | 0.22635421 | 39         | 30.09358   | 0.6342404  |\n",
       "| purpose |  2         | 1.48183180 | 37         | 28.61175   | 0.4766771  |\n",
       "| interest |  1         | 0.02911107 | 36         | 28.58264   | 0.8645228  |\n",
       "\n"
      ],
      "text/plain": [
       "           Df Deviance   Resid. Df Resid. Dev Pr(>Chi) \n",
       "NULL       NA         NA 41        30.66194          NA\n",
       "definition  1 0.34200757 40        30.31994   0.5586727\n",
       "need        1 0.22635421 39        30.09358   0.6342404\n",
       "purpose     2 1.48183180 37        28.61175   0.4766771\n",
       "interest    1 0.02911107 36        28.58264   0.8645228"
      ]
     },
     "metadata": {},
     "output_type": "display_data"
    },
    {
     "data": {
      "text/html": [
       "0.635416666666667"
      ],
      "text/latex": [
       "0.635416666666667"
      ],
      "text/markdown": [
       "0.635416666666667"
      ],
      "text/plain": [
       "[1] 0.6354167"
      ]
     },
     "metadata": {},
     "output_type": "display_data"
    },
    {
     "data": {
      "image/png": "[encoded data removed]",
      "text/plain": [
       "plot without title"
      ]
     },
     "metadata": {},
     "output_type": "display_data"
    }
   ],
   "source": [
    "model <- glm(comp5 ~ definition + need + purpose \n",
    "              + interest, data =train, family = binomial)\n",
    "summary(model)\n",
    "\n",
    "\n",
    "anova(model, test=\"Chisq\")\n",
    "\n",
    "\n",
    "p <- predict(model, newdata=test, type=\"response\")\n",
    "pr <- prediction(p, test$comp5)\n",
    "prf <- performance(pr, measure = \"tpr\", x.measure = \"fpr\")\n",
    "plot(prf)\n",
    "\n",
    "auc <- performance(pr, measure = \"auc\")\n",
    "auc <- auc@y.values[[1]]\n",
    "auc"
   ]
  },
  {
   "cell_type": "code",
   "execution_count": 18,
   "metadata": {},
   "outputs": [
    {
     "name": "stderr",
     "output_type": "stream",
     "text": [
      "Warning message:\n",
      "\"glm.fit: fitted probabilities numerically 0 or 1 occurred\""
     ]
    },
    {
     "data": {
      "text/plain": [
       "\n",
       "Call:\n",
       "glm(formula = t1_1 ~ definition + need + purpose + interest, \n",
       "    family = binomial, data = train)\n",
       "\n",
       "Deviance Residuals: \n",
       "     Min        1Q    Median        3Q       Max  \n",
       "-1.14825  -0.22267  -0.00004   0.00000   1.88499  \n",
       "\n",
       "Coefficients:\n",
       "                   Estimate Std. Error z value Pr(>|z|)\n",
       "(Intercept)        -42.7557  7972.6187  -0.005    0.996\n",
       "definitionharmony   16.8548  6142.6138   0.003    0.998\n",
       "needharmony         19.7430  5082.4141   0.004    0.997\n",
       "purposecosmetic      0.8641     1.7801   0.485    0.627\n",
       "purposeetc          -2.0936     2.1543  -0.972    0.331\n",
       "interest             1.5222     1.1934   1.276    0.202\n",
       "\n",
       "(Dispersion parameter for binomial family taken to be 1)\n",
       "\n",
       "    Null deviance: 21.615  on 41  degrees of freedom\n",
       "Residual deviance: 13.117  on 36  degrees of freedom\n",
       "AIC: 25.117\n",
       "\n",
       "Number of Fisher Scoring iterations: 20\n"
      ]
     },
     "metadata": {},
     "output_type": "display_data"
    },
    {
     "name": "stderr",
     "output_type": "stream",
     "text": [
      "Warning message:\n",
      "\"glm.fit: fitted probabilities numerically 0 or 1 occurred\"Warning message:\n",
      "\"glm.fit: fitted probabilities numerically 0 or 1 occurred\""
     ]
    },
    {
     "data": {
      "text/html": [
       "<table>\n",
       "<thead><tr><th></th><th scope=col>Df</th><th scope=col>Deviance</th><th scope=col>Resid. Df</th><th scope=col>Resid. Dev</th><th scope=col>Pr(&gt;Chi)</th></tr></thead>\n",
       "<tbody>\n",
       "\t<tr><th scope=row>NULL</th><td>NA        </td><td>       NA </td><td>41        </td><td>21.61477  </td><td>        NA</td></tr>\n",
       "\t<tr><th scope=row>definition</th><td> 1        </td><td>2.3243013 </td><td>40        </td><td>19.29046  </td><td>0.12736740</td></tr>\n",
       "\t<tr><th scope=row>need</th><td> 1        </td><td>3.0702610 </td><td>39        </td><td>16.22020  </td><td>0.07973667</td></tr>\n",
       "\t<tr><th scope=row>purpose</th><td> 2        </td><td>0.4385204 </td><td>37        </td><td>15.78168  </td><td>0.80311272</td></tr>\n",
       "\t<tr><th scope=row>interest</th><td> 1        </td><td>2.6648133 </td><td>36        </td><td>13.11687  </td><td>0.10258986</td></tr>\n",
       "</tbody>\n",
       "</table>\n"
      ],
      "text/latex": [
       "\\begin{tabular}{r|lllll}\n",
       "  & Df & Deviance & Resid. Df & Resid. Dev & Pr(>Chi)\\\\\n",
       "\\hline\n",
       "\tNULL & NA         &        NA  & 41         & 21.61477   &         NA\\\\\n",
       "\tdefinition &  1         & 2.3243013  & 40         & 19.29046   & 0.12736740\\\\\n",
       "\tneed &  1         & 3.0702610  & 39         & 16.22020   & 0.07973667\\\\\n",
       "\tpurpose &  2         & 0.4385204  & 37         & 15.78168   & 0.80311272\\\\\n",
       "\tinterest &  1         & 2.6648133  & 36         & 13.11687   & 0.10258986\\\\\n",
       "\\end{tabular}\n"
      ],
      "text/markdown": [
       "\n",
       "| <!--/--> | Df | Deviance | Resid. Df | Resid. Dev | Pr(>Chi) |\n",
       "|---|---|---|---|---|---|\n",
       "| NULL | NA         |        NA  | 41         | 21.61477   |         NA |\n",
       "| definition |  1         | 2.3243013  | 40         | 19.29046   | 0.12736740 |\n",
       "| need |  1         | 3.0702610  | 39         | 16.22020   | 0.07973667 |\n",
       "| purpose |  2         | 0.4385204  | 37         | 15.78168   | 0.80311272 |\n",
       "| interest |  1         | 2.6648133  | 36         | 13.11687   | 0.10258986 |\n",
       "\n"
      ],
      "text/plain": [
       "           Df Deviance  Resid. Df Resid. Dev Pr(>Chi)  \n",
       "NULL       NA        NA 41        21.61477           NA\n",
       "definition  1 2.3243013 40        19.29046   0.12736740\n",
       "need        1 3.0702610 39        16.22020   0.07973667\n",
       "purpose     2 0.4385204 37        15.78168   0.80311272\n",
       "interest    1 2.6648133 36        13.11687   0.10258986"
      ]
     },
     "metadata": {},
     "output_type": "display_data"
    },
    {
     "data": {
      "text/html": [
       "0.395833333333333"
      ],
      "text/latex": [
       "0.395833333333333"
      ],
      "text/markdown": [
       "0.395833333333333"
      ],
      "text/plain": [
       "[1] 0.3958333"
      ]
     },
     "metadata": {},
     "output_type": "display_data"
    },
    {
     "data": {
      "image/png": "[encoded data removed]",
      "text/plain": [
       "plot without title"
      ]
     },
     "metadata": {},
     "output_type": "display_data"
    }
   ],
   "source": [
    "model <- glm(t1_1 ~ definition + need + purpose \n",
    "              + interest, data =train, family = binomial)\n",
    "summary(model)\n",
    "\n",
    "\n",
    "anova(model, test=\"Chisq\")\n",
    "\n",
    "\n",
    "p <- predict(model, newdata=test, type=\"response\")\n",
    "pr <- prediction(p, test$t1_1)\n",
    "prf <- performance(pr, measure = \"tpr\", x.measure = \"fpr\")\n",
    "plot(prf)\n",
    "\n",
    "auc <- performance(pr, measure = \"auc\")\n",
    "auc <- auc@y.values[[1]]\n",
    "auc"
   ]
  },
  {
   "cell_type": "code",
   "execution_count": 19,
   "metadata": {},
   "outputs": [
    {
     "data": {
      "text/plain": [
       "\n",
       "Call:\n",
       "glm(formula = t1_2 ~ definition + need + purpose + interest, \n",
       "    family = binomial, data = train)\n",
       "\n",
       "Deviance Residuals: \n",
       "     Min        1Q    Median        3Q       Max  \n",
       "-0.68518  -0.58807  -0.39275  -0.00008   2.21151  \n",
       "\n",
       "Coefficients:\n",
       "                    Estimate Std. Error z value Pr(>|z|)\n",
       "(Intercept)         -3.00397    2.49581  -1.204    0.229\n",
       "definitionharmony   -0.08237    1.47777  -0.056    0.956\n",
       "needharmony          0.05636    1.25852   0.045    0.964\n",
       "purposecosmetic    -17.03485 3097.57225  -0.005    0.996\n",
       "purposeetc           0.85625    1.31948   0.649    0.516\n",
       "interest             0.16882    0.58604   0.288    0.773\n",
       "\n",
       "(Dispersion parameter for binomial family taken to be 1)\n",
       "\n",
       "    Null deviance: 26.417  on 41  degrees of freedom\n",
       "Residual deviance: 22.798  on 36  degrees of freedom\n",
       "AIC: 34.798\n",
       "\n",
       "Number of Fisher Scoring iterations: 18\n"
      ]
     },
     "metadata": {},
     "output_type": "display_data"
    },
    {
     "data": {
      "text/html": [
       "<table>\n",
       "<thead><tr><th></th><th scope=col>Df</th><th scope=col>Deviance</th><th scope=col>Resid. Df</th><th scope=col>Resid. Dev</th><th scope=col>Pr(&gt;Chi)</th></tr></thead>\n",
       "<tbody>\n",
       "\t<tr><th scope=row>NULL</th><td>NA         </td><td>         NA</td><td>41         </td><td>26.41734   </td><td>       NA  </td></tr>\n",
       "\t<tr><th scope=row>definition</th><td> 1         </td><td>0.075956778</td><td>40         </td><td>26.34139   </td><td>0.7828533  </td></tr>\n",
       "\t<tr><th scope=row>need</th><td> 1         </td><td>0.005343854</td><td>39         </td><td>26.33604   </td><td>0.9417252  </td></tr>\n",
       "\t<tr><th scope=row>purpose</th><td> 2         </td><td>3.453747283</td><td>37         </td><td>22.88230   </td><td>0.1778395  </td></tr>\n",
       "\t<tr><th scope=row>interest</th><td> 1         </td><td>0.084156152</td><td>36         </td><td>22.79814   </td><td>0.7717422  </td></tr>\n",
       "</tbody>\n",
       "</table>\n"
      ],
      "text/latex": [
       "\\begin{tabular}{r|lllll}\n",
       "  & Df & Deviance & Resid. Df & Resid. Dev & Pr(>Chi)\\\\\n",
       "\\hline\n",
       "\tNULL & NA          &          NA & 41          & 26.41734    &        NA  \\\\\n",
       "\tdefinition &  1          & 0.075956778 & 40          & 26.34139    & 0.7828533  \\\\\n",
       "\tneed &  1          & 0.005343854 & 39          & 26.33604    & 0.9417252  \\\\\n",
       "\tpurpose &  2          & 3.453747283 & 37          & 22.88230    & 0.1778395  \\\\\n",
       "\tinterest &  1          & 0.084156152 & 36          & 22.79814    & 0.7717422  \\\\\n",
       "\\end{tabular}\n"
      ],
      "text/markdown": [
       "\n",
       "| <!--/--> | Df | Deviance | Resid. Df | Resid. Dev | Pr(>Chi) |\n",
       "|---|---|---|---|---|---|\n",
       "| NULL | NA          |          NA | 41          | 26.41734    |        NA   |\n",
       "| definition |  1          | 0.075956778 | 40          | 26.34139    | 0.7828533   |\n",
       "| need |  1          | 0.005343854 | 39          | 26.33604    | 0.9417252   |\n",
       "| purpose |  2          | 3.453747283 | 37          | 22.88230    | 0.1778395   |\n",
       "| interest |  1          | 0.084156152 | 36          | 22.79814    | 0.7717422   |\n",
       "\n"
      ],
      "text/plain": [
       "           Df Deviance    Resid. Df Resid. Dev Pr(>Chi) \n",
       "NULL       NA          NA 41        26.41734          NA\n",
       "definition  1 0.075956778 40        26.34139   0.7828533\n",
       "need        1 0.005343854 39        26.33604   0.9417252\n",
       "purpose     2 3.453747283 37        22.88230   0.1778395\n",
       "interest    1 0.084156152 36        22.79814   0.7717422"
      ]
     },
     "metadata": {},
     "output_type": "display_data"
    },
    {
     "data": {
      "text/html": [
       "0.222222222222222"
      ],
      "text/latex": [
       "0.222222222222222"
      ],
      "text/markdown": [
       "0.222222222222222"
      ],
      "text/plain": [
       "[1] 0.2222222"
      ]
     },
     "metadata": {},
     "output_type": "display_data"
    },
    {
     "data": {
      "image/png": "[encoded data removed]",
      "text/plain": [
       "plot without title"
      ]
     },
     "metadata": {},
     "output_type": "display_data"
    }
   ],
   "source": [
    "model <- glm(t1_2 ~ definition + need + purpose \n",
    "              + interest, data =train, family = binomial)\n",
    "summary(model)\n",
    "\n",
    "\n",
    "anova(model, test=\"Chisq\")\n",
    "\n",
    "\n",
    "p <- predict(model, newdata=test, type=\"response\")\n",
    "pr <- prediction(p, test$t1_2)\n",
    "prf <- performance(pr, measure = \"tpr\", x.measure = \"fpr\")\n",
    "plot(prf)\n",
    "\n",
    "auc <- performance(pr, measure = \"auc\")\n",
    "auc <- auc@y.values[[1]]\n",
    "auc"
   ]
  },
  {
   "cell_type": "code",
   "execution_count": 20,
   "metadata": {},
   "outputs": [
    {
     "data": {
      "text/plain": [
       "\n",
       "Call:\n",
       "glm(formula = t1_3 ~ definition + need + purpose + interest, \n",
       "    family = binomial, data = train)\n",
       "\n",
       "Deviance Residuals: \n",
       "    Min       1Q   Median       3Q      Max  \n",
       "-1.1764  -0.9572  -0.8217   1.1784   1.7576  \n",
       "\n",
       "Coefficients:\n",
       "                  Estimate Std. Error z value Pr(>|z|)\n",
       "(Intercept)        -0.1456     1.4385  -0.101    0.919\n",
       "definitionharmony  -0.1206     0.8665  -0.139    0.889\n",
       "needharmony         0.4071     0.7800   0.522    0.602\n",
       "purposecosmetic     0.1106     0.8798   0.126    0.900\n",
       "purposeetc          0.6185     0.8445   0.732    0.464\n",
       "interest           -0.2539     0.3543  -0.717    0.474\n",
       "\n",
       "(Dispersion parameter for binomial family taken to be 1)\n",
       "\n",
       "    Null deviance: 54.748  on 41  degrees of freedom\n",
       "Residual deviance: 53.299  on 36  degrees of freedom\n",
       "AIC: 65.299\n",
       "\n",
       "Number of Fisher Scoring iterations: 4\n"
      ]
     },
     "metadata": {},
     "output_type": "display_data"
    },
    {
     "data": {
      "text/html": [
       "<table>\n",
       "<thead><tr><th></th><th scope=col>Df</th><th scope=col>Deviance</th><th scope=col>Resid. Df</th><th scope=col>Resid. Dev</th><th scope=col>Pr(&gt;Chi)</th></tr></thead>\n",
       "<tbody>\n",
       "\t<tr><th scope=row>NULL</th><td>NA       </td><td>       NA</td><td>41       </td><td>54.74755 </td><td>       NA</td></tr>\n",
       "\t<tr><th scope=row>definition</th><td> 1       </td><td>0.2031863</td><td>40       </td><td>54.54436 </td><td>0.6521612</td></tr>\n",
       "\t<tr><th scope=row>need</th><td> 1       </td><td>0.4170005</td><td>39       </td><td>54.12736 </td><td>0.5184376</td></tr>\n",
       "\t<tr><th scope=row>purpose</th><td> 2       </td><td>0.3080736</td><td>37       </td><td>53.81929 </td><td>0.8572405</td></tr>\n",
       "\t<tr><th scope=row>interest</th><td> 1       </td><td>0.5200591</td><td>36       </td><td>53.29923 </td><td>0.4708165</td></tr>\n",
       "</tbody>\n",
       "</table>\n"
      ],
      "text/latex": [
       "\\begin{tabular}{r|lllll}\n",
       "  & Df & Deviance & Resid. Df & Resid. Dev & Pr(>Chi)\\\\\n",
       "\\hline\n",
       "\tNULL & NA        &        NA & 41        & 54.74755  &        NA\\\\\n",
       "\tdefinition &  1        & 0.2031863 & 40        & 54.54436  & 0.6521612\\\\\n",
       "\tneed &  1        & 0.4170005 & 39        & 54.12736  & 0.5184376\\\\\n",
       "\tpurpose &  2        & 0.3080736 & 37        & 53.81929  & 0.8572405\\\\\n",
       "\tinterest &  1        & 0.5200591 & 36        & 53.29923  & 0.4708165\\\\\n",
       "\\end{tabular}\n"
      ],
      "text/markdown": [
       "\n",
       "| <!--/--> | Df | Deviance | Resid. Df | Resid. Dev | Pr(>Chi) |\n",
       "|---|---|---|---|---|---|\n",
       "| NULL | NA        |        NA | 41        | 54.74755  |        NA |\n",
       "| definition |  1        | 0.2031863 | 40        | 54.54436  | 0.6521612 |\n",
       "| need |  1        | 0.4170005 | 39        | 54.12736  | 0.5184376 |\n",
       "| purpose |  2        | 0.3080736 | 37        | 53.81929  | 0.8572405 |\n",
       "| interest |  1        | 0.5200591 | 36        | 53.29923  | 0.4708165 |\n",
       "\n"
      ],
      "text/plain": [
       "           Df Deviance  Resid. Df Resid. Dev Pr(>Chi) \n",
       "NULL       NA        NA 41        54.74755          NA\n",
       "definition  1 0.2031863 40        54.54436   0.6521612\n",
       "need        1 0.4170005 39        54.12736   0.5184376\n",
       "purpose     2 0.3080736 37        53.81929   0.8572405\n",
       "interest    1 0.5200591 36        53.29923   0.4708165"
      ]
     },
     "metadata": {},
     "output_type": "display_data"
    },
    {
     "data": {
      "text/html": [
       "0.625"
      ],
      "text/latex": [
       "0.625"
      ],
      "text/markdown": [
       "0.625"
      ],
      "text/plain": [
       "[1] 0.625"
      ]
     },
     "metadata": {},
     "output_type": "display_data"
    },
    {
     "data": {
      "image/png": "[encoded data removed]",
      "text/plain": [
       "plot without title"
      ]
     },
     "metadata": {},
     "output_type": "display_data"
    }
   ],
   "source": [
    "model <- glm(t1_3 ~ definition + need + purpose \n",
    "              + interest, data =train, family = binomial)\n",
    "summary(model)\n",
    "\n",
    "\n",
    "anova(model, test=\"Chisq\")\n",
    "\n",
    "\n",
    "p <- predict(model, newdata=test, type=\"response\")\n",
    "pr <- prediction(p, test$t1_3)\n",
    "prf <- performance(pr, measure = \"tpr\", x.measure = \"fpr\")\n",
    "plot(prf)\n",
    "\n",
    "auc <- performance(pr, measure = \"auc\")\n",
    "auc <- auc@y.values[[1]]\n",
    "auc"
   ]
  },
  {
   "cell_type": "code",
   "execution_count": 21,
   "metadata": {},
   "outputs": [
    {
     "data": {
      "text/plain": [
       "\n",
       "Call:\n",
       "glm(formula = t1_4 ~ definition + need + purpose + interest, \n",
       "    family = binomial, data = train)\n",
       "\n",
       "Deviance Residuals: \n",
       "    Min       1Q   Median       3Q      Max  \n",
       "-0.9893  -0.6360  -0.5433  -0.4148   2.2428  \n",
       "\n",
       "Coefficients:\n",
       "                  Estimate Std. Error z value Pr(>|z|)\n",
       "(Intercept)        0.87876    1.72902   0.508    0.611\n",
       "definitionharmony -1.31722    1.04945  -1.255    0.209\n",
       "needharmony       -0.02098    1.03343  -0.020    0.984\n",
       "purposecosmetic   -0.58474    1.07973  -0.542    0.588\n",
       "purposeetc         0.22491    1.02424   0.220    0.826\n",
       "interest          -0.43926    0.44638  -0.984    0.325\n",
       "\n",
       "(Dispersion parameter for binomial family taken to be 1)\n",
       "\n",
       "    Null deviance: 40.901  on 41  degrees of freedom\n",
       "Residual deviance: 38.082  on 36  degrees of freedom\n",
       "AIC: 50.082\n",
       "\n",
       "Number of Fisher Scoring iterations: 4\n"
      ]
     },
     "metadata": {},
     "output_type": "display_data"
    },
    {
     "data": {
      "text/html": [
       "<table>\n",
       "<thead><tr><th></th><th scope=col>Df</th><th scope=col>Deviance</th><th scope=col>Resid. Df</th><th scope=col>Resid. Dev</th><th scope=col>Pr(&gt;Chi)</th></tr></thead>\n",
       "<tbody>\n",
       "\t<tr><th scope=row>NULL</th><td>NA        </td><td>        NA</td><td>41        </td><td>40.90067  </td><td>       NA </td></tr>\n",
       "\t<tr><th scope=row>definition</th><td> 1        </td><td>1.58336958</td><td>40        </td><td>39.31730  </td><td>0.2082760 </td></tr>\n",
       "\t<tr><th scope=row>need</th><td> 1        </td><td>0.04382266</td><td>39        </td><td>39.27348  </td><td>0.8341839 </td></tr>\n",
       "\t<tr><th scope=row>purpose</th><td> 2        </td><td>0.19437740</td><td>37        </td><td>39.07910  </td><td>0.9073848 </td></tr>\n",
       "\t<tr><th scope=row>interest</th><td> 1        </td><td>0.99719736</td><td>36        </td><td>38.08190  </td><td>0.3179896 </td></tr>\n",
       "</tbody>\n",
       "</table>\n"
      ],
      "text/latex": [
       "\\begin{tabular}{r|lllll}\n",
       "  & Df & Deviance & Resid. Df & Resid. Dev & Pr(>Chi)\\\\\n",
       "\\hline\n",
       "\tNULL & NA         &         NA & 41         & 40.90067   &        NA \\\\\n",
       "\tdefinition &  1         & 1.58336958 & 40         & 39.31730   & 0.2082760 \\\\\n",
       "\tneed &  1         & 0.04382266 & 39         & 39.27348   & 0.8341839 \\\\\n",
       "\tpurpose &  2         & 0.19437740 & 37         & 39.07910   & 0.9073848 \\\\\n",
       "\tinterest &  1         & 0.99719736 & 36         & 38.08190   & 0.3179896 \\\\\n",
       "\\end{tabular}\n"
      ],
      "text/markdown": [
       "\n",
       "| <!--/--> | Df | Deviance | Resid. Df | Resid. Dev | Pr(>Chi) |\n",
       "|---|---|---|---|---|---|\n",
       "| NULL | NA         |         NA | 41         | 40.90067   |        NA  |\n",
       "| definition |  1         | 1.58336958 | 40         | 39.31730   | 0.2082760  |\n",
       "| need |  1         | 0.04382266 | 39         | 39.27348   | 0.8341839  |\n",
       "| purpose |  2         | 0.19437740 | 37         | 39.07910   | 0.9073848  |\n",
       "| interest |  1         | 0.99719736 | 36         | 38.08190   | 0.3179896  |\n",
       "\n"
      ],
      "text/plain": [
       "           Df Deviance   Resid. Df Resid. Dev Pr(>Chi) \n",
       "NULL       NA         NA 41        40.90067          NA\n",
       "definition  1 1.58336958 40        39.31730   0.2082760\n",
       "need        1 0.04382266 39        39.27348   0.8341839\n",
       "purpose     2 0.19437740 37        39.07910   0.9073848\n",
       "interest    1 0.99719736 36        38.08190   0.3179896"
      ]
     },
     "metadata": {},
     "output_type": "display_data"
    },
    {
     "data": {
      "text/html": [
       "0.510416666666667"
      ],
      "text/latex": [
       "0.510416666666667"
      ],
      "text/markdown": [
       "0.510416666666667"
      ],
      "text/plain": [
       "[1] 0.5104167"
      ]
     },
     "metadata": {},
     "output_type": "display_data"
    },
    {
     "data": {
      "image/png": "[encoded data removed]",
      "text/plain": [
       "plot without title"
      ]
     },
     "metadata": {},
     "output_type": "display_data"
    }
   ],
   "source": [
    "model <- glm(t1_4 ~ definition + need + purpose \n",
    "              + interest, data =train, family = binomial)\n",
    "summary(model)\n",
    "\n",
    "\n",
    "anova(model, test=\"Chisq\")\n",
    "\n",
    "\n",
    "p <- predict(model, newdata=test, type=\"response\")\n",
    "pr <- prediction(p, test$t1_4)\n",
    "prf <- performance(pr, measure = \"tpr\", x.measure = \"fpr\")\n",
    "plot(prf)\n",
    "\n",
    "auc <- performance(pr, measure = \"auc\")\n",
    "auc <- auc@y.values[[1]]\n",
    "auc"
   ]
  },
  {
   "cell_type": "code",
   "execution_count": 22,
   "metadata": {},
   "outputs": [
    {
     "data": {
      "text/plain": [
       "\n",
       "Call:\n",
       "glm(formula = t1_5 ~ definition + need + purpose + interest, \n",
       "    family = binomial, data = train)\n",
       "\n",
       "Deviance Residuals: \n",
       "    Min       1Q   Median       3Q      Max  \n",
       "-1.4044  -0.8047  -0.5311   1.0012   2.2320  \n",
       "\n",
       "Coefficients:\n",
       "                  Estimate Std. Error z value Pr(>|z|)\n",
       "(Intercept)        -1.6349     1.6538  -0.989    0.323\n",
       "definitionharmony   0.9227     0.9016   1.023    0.306\n",
       "needharmony        -1.4319     0.8937  -1.602    0.109\n",
       "purposecosmetic     0.4578     0.8968   0.510    0.610\n",
       "purposeetc         -1.0342     0.9773  -1.058    0.290\n",
       "interest            0.2579     0.4017   0.642    0.521\n",
       "\n",
       "(Dispersion parameter for binomial family taken to be 1)\n",
       "\n",
       "    Null deviance: 50.255  on 41  degrees of freedom\n",
       "Residual deviance: 44.500  on 36  degrees of freedom\n",
       "AIC: 56.5\n",
       "\n",
       "Number of Fisher Scoring iterations: 4\n"
      ]
     },
     "metadata": {},
     "output_type": "display_data"
    },
    {
     "data": {
      "text/html": [
       "<table>\n",
       "<thead><tr><th></th><th scope=col>Df</th><th scope=col>Deviance</th><th scope=col>Resid. Df</th><th scope=col>Resid. Dev</th><th scope=col>Pr(&gt;Chi)</th></tr></thead>\n",
       "<tbody>\n",
       "\t<tr><th scope=row>NULL</th><td>NA        </td><td>        NA</td><td>41        </td><td>50.25465  </td><td>        NA</td></tr>\n",
       "\t<tr><th scope=row>definition</th><td> 1        </td><td>0.04420834</td><td>40        </td><td>50.21044  </td><td>0.83346647</td></tr>\n",
       "\t<tr><th scope=row>need</th><td> 1        </td><td>3.34092563</td><td>39        </td><td>46.86951  </td><td>0.06757658</td></tr>\n",
       "\t<tr><th scope=row>purpose</th><td> 2        </td><td>1.94658905</td><td>37        </td><td>44.92292  </td><td>0.37783619</td></tr>\n",
       "\t<tr><th scope=row>interest</th><td> 1        </td><td>0.42293882</td><td>36        </td><td>44.49998  </td><td>0.51547426</td></tr>\n",
       "</tbody>\n",
       "</table>\n"
      ],
      "text/latex": [
       "\\begin{tabular}{r|lllll}\n",
       "  & Df & Deviance & Resid. Df & Resid. Dev & Pr(>Chi)\\\\\n",
       "\\hline\n",
       "\tNULL & NA         &         NA & 41         & 50.25465   &         NA\\\\\n",
       "\tdefinition &  1         & 0.04420834 & 40         & 50.21044   & 0.83346647\\\\\n",
       "\tneed &  1         & 3.34092563 & 39         & 46.86951   & 0.06757658\\\\\n",
       "\tpurpose &  2         & 1.94658905 & 37         & 44.92292   & 0.37783619\\\\\n",
       "\tinterest &  1         & 0.42293882 & 36         & 44.49998   & 0.51547426\\\\\n",
       "\\end{tabular}\n"
      ],
      "text/markdown": [
       "\n",
       "| <!--/--> | Df | Deviance | Resid. Df | Resid. Dev | Pr(>Chi) |\n",
       "|---|---|---|---|---|---|\n",
       "| NULL | NA         |         NA | 41         | 50.25465   |         NA |\n",
       "| definition |  1         | 0.04420834 | 40         | 50.21044   | 0.83346647 |\n",
       "| need |  1         | 3.34092563 | 39         | 46.86951   | 0.06757658 |\n",
       "| purpose |  2         | 1.94658905 | 37         | 44.92292   | 0.37783619 |\n",
       "| interest |  1         | 0.42293882 | 36         | 44.49998   | 0.51547426 |\n",
       "\n"
      ],
      "text/plain": [
       "           Df Deviance   Resid. Df Resid. Dev Pr(>Chi)  \n",
       "NULL       NA         NA 41        50.25465           NA\n",
       "definition  1 0.04420834 40        50.21044   0.83346647\n",
       "need        1 3.34092563 39        46.86951   0.06757658\n",
       "purpose     2 1.94658905 37        44.92292   0.37783619\n",
       "interest    1 0.42293882 36        44.49998   0.51547426"
      ]
     },
     "metadata": {},
     "output_type": "display_data"
    },
    {
     "data": {
      "text/html": [
       "0.364285714285714"
      ],
      "text/latex": [
       "0.364285714285714"
      ],
      "text/markdown": [
       "0.364285714285714"
      ],
      "text/plain": [
       "[1] 0.3642857"
      ]
     },
     "metadata": {},
     "output_type": "display_data"
    },
    {
     "data": {
      "image/png": "[encoded data removed]",
      "text/plain": [
       "plot without title"
      ]
     },
     "metadata": {},
     "output_type": "display_data"
    }
   ],
   "source": [
    "model <- glm(t1_5 ~ definition + need + purpose \n",
    "              + interest, data =train, family = binomial)\n",
    "summary(model)\n",
    "\n",
    "\n",
    "anova(model, test=\"Chisq\")\n",
    "\n",
    "\n",
    "p <- predict(model, newdata=test, type=\"response\")\n",
    "pr <- prediction(p, test$t1_5)\n",
    "prf <- performance(pr, measure = \"tpr\", x.measure = \"fpr\")\n",
    "plot(prf)\n",
    "\n",
    "auc <- performance(pr, measure = \"auc\")\n",
    "auc <- auc@y.values[[1]]\n",
    "auc"
   ]
  },
  {
   "cell_type": "code",
   "execution_count": 23,
   "metadata": {},
   "outputs": [
    {
     "name": "stderr",
     "output_type": "stream",
     "text": [
      "Warning message:\n",
      "\"glm.fit: fitted probabilities numerically 0 or 1 occurred\""
     ]
    },
    {
     "data": {
      "text/plain": [
       "\n",
       "Call:\n",
       "glm(formula = t2_1 ~ definition + need + purpose + interest, \n",
       "    family = binomial, data = train)\n",
       "\n",
       "Deviance Residuals: \n",
       "     Min        1Q    Median        3Q       Max  \n",
       "-1.30731  -0.00011  -0.00003   0.00000   2.24837  \n",
       "\n",
       "Coefficients:\n",
       "                   Estimate Std. Error z value Pr(>|z|)  \n",
       "(Intercept)        -44.9319  9425.8426  -0.005   0.9962  \n",
       "definitionharmony   19.8392  6327.6838   0.003   0.9975  \n",
       "needharmony         -0.6234     1.4502  -0.430   0.6673  \n",
       "purposecosmetic      0.3107  9977.0064   0.000   1.0000  \n",
       "purposeetc          19.1548  6986.1951   0.003   0.9978  \n",
       "interest             1.3723     0.8248   1.664   0.0961 .\n",
       "---\n",
       "Signif. codes:  0 '***' 0.001 '**' 0.01 '*' 0.05 '.' 0.1 ' ' 1\n",
       "\n",
       "(Dispersion parameter for binomial family taken to be 1)\n",
       "\n",
       "    Null deviance: 26.417  on 41  degrees of freedom\n",
       "Residual deviance: 12.299  on 36  degrees of freedom\n",
       "AIC: 24.299\n",
       "\n",
       "Number of Fisher Scoring iterations: 20\n"
      ]
     },
     "metadata": {},
     "output_type": "display_data"
    },
    {
     "name": "stderr",
     "output_type": "stream",
     "text": [
      "Warning message:\n",
      "\"glm.fit: fitted probabilities numerically 0 or 1 occurred\""
     ]
    },
    {
     "data": {
      "text/html": [
       "<table>\n",
       "<thead><tr><th></th><th scope=col>Df</th><th scope=col>Deviance</th><th scope=col>Resid. Df</th><th scope=col>Resid. Dev</th><th scope=col>Pr(&gt;Chi)</th></tr></thead>\n",
       "<tbody>\n",
       "\t<tr><th scope=row>NULL</th><td>NA        </td><td>       NA </td><td>41        </td><td>26.41734  </td><td>        NA</td></tr>\n",
       "\t<tr><th scope=row>definition</th><td> 1        </td><td>3.1483328 </td><td>40        </td><td>23.26901  </td><td>0.07600458</td></tr>\n",
       "\t<tr><th scope=row>need</th><td> 1        </td><td>0.2799917 </td><td>39        </td><td>22.98902  </td><td>0.59670668</td></tr>\n",
       "\t<tr><th scope=row>purpose</th><td> 2        </td><td>6.7241921 </td><td>37        </td><td>16.26483  </td><td>0.03466253</td></tr>\n",
       "\t<tr><th scope=row>interest</th><td> 1        </td><td>3.9662266 </td><td>36        </td><td>12.29860  </td><td>0.04642169</td></tr>\n",
       "</tbody>\n",
       "</table>\n"
      ],
      "text/latex": [
       "\\begin{tabular}{r|lllll}\n",
       "  & Df & Deviance & Resid. Df & Resid. Dev & Pr(>Chi)\\\\\n",
       "\\hline\n",
       "\tNULL & NA         &        NA  & 41         & 26.41734   &         NA\\\\\n",
       "\tdefinition &  1         & 3.1483328  & 40         & 23.26901   & 0.07600458\\\\\n",
       "\tneed &  1         & 0.2799917  & 39         & 22.98902   & 0.59670668\\\\\n",
       "\tpurpose &  2         & 6.7241921  & 37         & 16.26483   & 0.03466253\\\\\n",
       "\tinterest &  1         & 3.9662266  & 36         & 12.29860   & 0.04642169\\\\\n",
       "\\end{tabular}\n"
      ],
      "text/markdown": [
       "\n",
       "| <!--/--> | Df | Deviance | Resid. Df | Resid. Dev | Pr(>Chi) |\n",
       "|---|---|---|---|---|---|\n",
       "| NULL | NA         |        NA  | 41         | 26.41734   |         NA |\n",
       "| definition |  1         | 3.1483328  | 40         | 23.26901   | 0.07600458 |\n",
       "| need |  1         | 0.2799917  | 39         | 22.98902   | 0.59670668 |\n",
       "| purpose |  2         | 6.7241921  | 37         | 16.26483   | 0.03466253 |\n",
       "| interest |  1         | 3.9662266  | 36         | 12.29860   | 0.04642169 |\n",
       "\n"
      ],
      "text/plain": [
       "           Df Deviance  Resid. Df Resid. Dev Pr(>Chi)  \n",
       "NULL       NA        NA 41        26.41734           NA\n",
       "definition  1 3.1483328 40        23.26901   0.07600458\n",
       "need        1 0.2799917 39        22.98902   0.59670668\n",
       "purpose     2 6.7241921 37        16.26483   0.03466253\n",
       "interest    1 3.9662266 36        12.29860   0.04642169"
      ]
     },
     "metadata": {},
     "output_type": "display_data"
    },
    {
     "data": {
      "text/html": [
       "0.308823529411765"
      ],
      "text/latex": [
       "0.308823529411765"
      ],
      "text/markdown": [
       "0.308823529411765"
      ],
      "text/plain": [
       "[1] 0.3088235"
      ]
     },
     "metadata": {},
     "output_type": "display_data"
    },
    {
     "data": {
      "image/png": "[encoded data removed]",
      "text/plain": [
       "plot without title"
      ]
     },
     "metadata": {},
     "output_type": "display_data"
    }
   ],
   "source": [
    "model <- glm(t2_1 ~ definition + need + purpose \n",
    "              + interest, data =train, family = binomial)\n",
    "summary(model)\n",
    "\n",
    "\n",
    "anova(model, test=\"Chisq\")\n",
    "\n",
    "\n",
    "p <- predict(model, newdata=test, type=\"response\")\n",
    "pr <- prediction(p, test$t2_1)\n",
    "prf <- performance(pr, measure = \"tpr\", x.measure = \"fpr\")\n",
    "plot(prf)\n",
    "\n",
    "auc <- performance(pr, measure = \"auc\")\n",
    "auc <- auc@y.values[[1]]\n",
    "auc"
   ]
  },
  {
   "cell_type": "code",
   "execution_count": 24,
   "metadata": {},
   "outputs": [
    {
     "name": "stderr",
     "output_type": "stream",
     "text": [
      "Warning message:\n",
      "\"glm.fit: fitted probabilities numerically 0 or 1 occurred\""
     ]
    },
    {
     "data": {
      "text/plain": [
       "\n",
       "Call:\n",
       "glm(formula = t2_2 ~ definition + need + purpose + interest, \n",
       "    family = binomial, data = train)\n",
       "\n",
       "Deviance Residuals: \n",
       "     Min        1Q    Median        3Q       Max  \n",
       "-0.96289  -0.00003   0.00000   0.00000   1.64595  \n",
       "\n",
       "Coefficients:\n",
       "                    Estimate Std. Error z value Pr(>|z|)\n",
       "(Intercept)         -37.0558 12251.4177  -0.003    0.998\n",
       "definitionharmony    18.8066  9579.1227   0.002    0.998\n",
       "needharmony          19.3053  7637.9096   0.003    0.998\n",
       "purposecosmetic     -20.9424 11497.3021  -0.002    0.999\n",
       "purposeetc          -20.9923 10384.2747  -0.002    0.998\n",
       "interest             -0.5280     0.9724  -0.543    0.587\n",
       "\n",
       "(Dispersion parameter for binomial family taken to be 1)\n",
       "\n",
       "    Null deviance: 16.0813  on 41  degrees of freedom\n",
       "Residual deviance:  6.4178  on 36  degrees of freedom\n",
       "AIC: 18.418\n",
       "\n",
       "Number of Fisher Scoring iterations: 21\n"
      ]
     },
     "metadata": {},
     "output_type": "display_data"
    },
    {
     "name": "stderr",
     "output_type": "stream",
     "text": [
      "Warning message:\n",
      "\"glm.fit: fitted probabilities numerically 0 or 1 occurred\"Warning message:\n",
      "\"glm.fit: fitted probabilities numerically 0 or 1 occurred\""
     ]
    },
    {
     "data": {
      "text/html": [
       "<table>\n",
       "<thead><tr><th></th><th scope=col>Df</th><th scope=col>Deviance</th><th scope=col>Resid. Df</th><th scope=col>Resid. Dev</th><th scope=col>Pr(&gt;Chi)</th></tr></thead>\n",
       "<tbody>\n",
       "\t<tr><th scope=row>NULL</th><td>NA        </td><td>       NA </td><td>41        </td><td>16.081303 </td><td>        NA</td></tr>\n",
       "\t<tr><th scope=row>definition</th><td> 1        </td><td>1.5259241 </td><td>40        </td><td>14.555379 </td><td>0.21672519</td></tr>\n",
       "\t<tr><th scope=row>need</th><td> 1        </td><td>1.9974232 </td><td>39        </td><td>12.557955 </td><td>0.15756687</td></tr>\n",
       "\t<tr><th scope=row>purpose</th><td> 2        </td><td>5.8278388 </td><td>37        </td><td> 6.730117 </td><td>0.05426264</td></tr>\n",
       "\t<tr><th scope=row>interest</th><td> 1        </td><td>0.3123215 </td><td>36        </td><td> 6.417795 </td><td>0.57625912</td></tr>\n",
       "</tbody>\n",
       "</table>\n"
      ],
      "text/latex": [
       "\\begin{tabular}{r|lllll}\n",
       "  & Df & Deviance & Resid. Df & Resid. Dev & Pr(>Chi)\\\\\n",
       "\\hline\n",
       "\tNULL & NA         &        NA  & 41         & 16.081303  &         NA\\\\\n",
       "\tdefinition &  1         & 1.5259241  & 40         & 14.555379  & 0.21672519\\\\\n",
       "\tneed &  1         & 1.9974232  & 39         & 12.557955  & 0.15756687\\\\\n",
       "\tpurpose &  2         & 5.8278388  & 37         &  6.730117  & 0.05426264\\\\\n",
       "\tinterest &  1         & 0.3123215  & 36         &  6.417795  & 0.57625912\\\\\n",
       "\\end{tabular}\n"
      ],
      "text/markdown": [
       "\n",
       "| <!--/--> | Df | Deviance | Resid. Df | Resid. Dev | Pr(>Chi) |\n",
       "|---|---|---|---|---|---|\n",
       "| NULL | NA         |        NA  | 41         | 16.081303  |         NA |\n",
       "| definition |  1         | 1.5259241  | 40         | 14.555379  | 0.21672519 |\n",
       "| need |  1         | 1.9974232  | 39         | 12.557955  | 0.15756687 |\n",
       "| purpose |  2         | 5.8278388  | 37         |  6.730117  | 0.05426264 |\n",
       "| interest |  1         | 0.3123215  | 36         |  6.417795  | 0.57625912 |\n",
       "\n"
      ],
      "text/plain": [
       "           Df Deviance  Resid. Df Resid. Dev Pr(>Chi)  \n",
       "NULL       NA        NA 41        16.081303          NA\n",
       "definition  1 1.5259241 40        14.555379  0.21672519\n",
       "need        1 1.9974232 39        12.557955  0.15756687\n",
       "purpose     2 5.8278388 37         6.730117  0.05426264\n",
       "interest    1 0.3123215 36         6.417795  0.57625912"
      ]
     },
     "metadata": {},
     "output_type": "display_data"
    },
    {
     "data": {
      "text/html": [
       "0.338235294117647"
      ],
      "text/latex": [
       "0.338235294117647"
      ],
      "text/markdown": [
       "0.338235294117647"
      ],
      "text/plain": [
       "[1] 0.3382353"
      ]
     },
     "metadata": {},
     "output_type": "display_data"
    },
    {
     "data": {
      "image/png": "[encoded data removed]",
      "text/plain": [
       "plot without title"
      ]
     },
     "metadata": {},
     "output_type": "display_data"
    }
   ],
   "source": [
    "model <- glm(t2_2 ~ definition + need + purpose \n",
    "              + interest, data =train, family = binomial)\n",
    "summary(model)\n",
    "\n",
    "\n",
    "anova(model, test=\"Chisq\")\n",
    "\n",
    "\n",
    "p <- predict(model, newdata=test, type=\"response\")\n",
    "pr <- prediction(p, test$t2_2)\n",
    "prf <- performance(pr, measure = \"tpr\", x.measure = \"fpr\")\n",
    "plot(prf)\n",
    "\n",
    "auc <- performance(pr, measure = \"auc\")\n",
    "auc <- auc@y.values[[1]]\n",
    "auc"
   ]
  },
  {
   "cell_type": "code",
   "execution_count": 25,
   "metadata": {},
   "outputs": [
    {
     "data": {
      "text/plain": [
       "\n",
       "Call:\n",
       "glm(formula = t2_3 ~ definition + need + purpose + interest, \n",
       "    family = binomial, data = train)\n",
       "\n",
       "Deviance Residuals: \n",
       "    Min       1Q   Median       3Q      Max  \n",
       "-1.1750  -0.8522  -0.7228   1.2874   1.7845  \n",
       "\n",
       "Coefficients:\n",
       "                  Estimate Std. Error z value Pr(>|z|)\n",
       "(Intercept)       -0.23271    1.48618  -0.157    0.876\n",
       "definitionharmony -0.29971    0.85173  -0.352    0.725\n",
       "needharmony       -0.21510    0.81876  -0.263    0.793\n",
       "purposecosmetic    0.41877    0.85416   0.490    0.624\n",
       "purposeetc        -0.23348    0.88444  -0.264    0.792\n",
       "interest          -0.09592    0.36672  -0.262    0.794\n",
       "\n",
       "(Dispersion parameter for binomial family taken to be 1)\n",
       "\n",
       "    Null deviance: 51.972  on 41  degrees of freedom\n",
       "Residual deviance: 50.537  on 36  degrees of freedom\n",
       "AIC: 62.537\n",
       "\n",
       "Number of Fisher Scoring iterations: 4\n"
      ]
     },
     "metadata": {},
     "output_type": "display_data"
    },
    {
     "data": {
      "text/html": [
       "<table>\n",
       "<thead><tr><th></th><th scope=col>Df</th><th scope=col>Deviance</th><th scope=col>Resid. Df</th><th scope=col>Resid. Dev</th><th scope=col>Pr(&gt;Chi)</th></tr></thead>\n",
       "<tbody>\n",
       "\t<tr><th scope=row>NULL</th><td>NA        </td><td>        NA</td><td>41        </td><td>51.97241  </td><td>       NA </td></tr>\n",
       "\t<tr><th scope=row>definition</th><td> 1        </td><td>0.48701591</td><td>40        </td><td>51.48539  </td><td>0.4852615 </td></tr>\n",
       "\t<tr><th scope=row>need</th><td> 1        </td><td>0.07716680</td><td>39        </td><td>51.40822  </td><td>0.7811742 </td></tr>\n",
       "\t<tr><th scope=row>purpose</th><td> 2        </td><td>0.80275735</td><td>37        </td><td>50.60547  </td><td>0.6693965 </td></tr>\n",
       "\t<tr><th scope=row>interest</th><td> 1        </td><td>0.06834546</td><td>36        </td><td>50.53712  </td><td>0.7937612 </td></tr>\n",
       "</tbody>\n",
       "</table>\n"
      ],
      "text/latex": [
       "\\begin{tabular}{r|lllll}\n",
       "  & Df & Deviance & Resid. Df & Resid. Dev & Pr(>Chi)\\\\\n",
       "\\hline\n",
       "\tNULL & NA         &         NA & 41         & 51.97241   &        NA \\\\\n",
       "\tdefinition &  1         & 0.48701591 & 40         & 51.48539   & 0.4852615 \\\\\n",
       "\tneed &  1         & 0.07716680 & 39         & 51.40822   & 0.7811742 \\\\\n",
       "\tpurpose &  2         & 0.80275735 & 37         & 50.60547   & 0.6693965 \\\\\n",
       "\tinterest &  1         & 0.06834546 & 36         & 50.53712   & 0.7937612 \\\\\n",
       "\\end{tabular}\n"
      ],
      "text/markdown": [
       "\n",
       "| <!--/--> | Df | Deviance | Resid. Df | Resid. Dev | Pr(>Chi) |\n",
       "|---|---|---|---|---|---|\n",
       "| NULL | NA         |         NA | 41         | 51.97241   |        NA  |\n",
       "| definition |  1         | 0.48701591 | 40         | 51.48539   | 0.4852615  |\n",
       "| need |  1         | 0.07716680 | 39         | 51.40822   | 0.7811742  |\n",
       "| purpose |  2         | 0.80275735 | 37         | 50.60547   | 0.6693965  |\n",
       "| interest |  1         | 0.06834546 | 36         | 50.53712   | 0.7937612  |\n",
       "\n"
      ],
      "text/plain": [
       "           Df Deviance   Resid. Df Resid. Dev Pr(>Chi) \n",
       "NULL       NA         NA 41        51.97241          NA\n",
       "definition  1 0.48701591 40        51.48539   0.4852615\n",
       "need        1 0.07716680 39        51.40822   0.7811742\n",
       "purpose     2 0.80275735 37        50.60547   0.6693965\n",
       "interest    1 0.06834546 36        50.53712   0.7937612"
      ]
     },
     "metadata": {},
     "output_type": "display_data"
    },
    {
     "data": {
      "text/html": [
       "0.45"
      ],
      "text/latex": [
       "0.45"
      ],
      "text/markdown": [
       "0.45"
      ],
      "text/plain": [
       "[1] 0.45"
      ]
     },
     "metadata": {},
     "output_type": "display_data"
    },
    {
     "data": {
      "image/png": "[encoded data removed]",
      "text/plain": [
       "plot without title"
      ]
     },
     "metadata": {},
     "output_type": "display_data"
    }
   ],
   "source": [
    "model <- glm(t2_3 ~ definition + need + purpose \n",
    "              + interest, data =train, family = binomial)\n",
    "summary(model)\n",
    "\n",
    "\n",
    "anova(model, test=\"Chisq\")\n",
    "\n",
    "\n",
    "p <- predict(model, newdata=test, type=\"response\")\n",
    "pr <- prediction(p, test$t2_3)\n",
    "prf <- performance(pr, measure = \"tpr\", x.measure = \"fpr\")\n",
    "plot(prf)\n",
    "\n",
    "auc <- performance(pr, measure = \"auc\")\n",
    "auc <- auc@y.values[[1]]\n",
    "auc"
   ]
  },
  {
   "cell_type": "code",
   "execution_count": 26,
   "metadata": {},
   "outputs": [
    {
     "data": {
      "text/plain": [
       "\n",
       "Call:\n",
       "glm(formula = t2_4 ~ definition + need + purpose + interest, \n",
       "    family = binomial, data = train)\n",
       "\n",
       "Deviance Residuals: \n",
       "    Min       1Q   Median       3Q      Max  \n",
       "-1.1300  -0.9574  -0.8380   1.3055   1.6714  \n",
       "\n",
       "Coefficients:\n",
       "                  Estimate Std. Error z value Pr(>|z|)\n",
       "(Intercept)       -0.62537    1.43829  -0.435    0.664\n",
       "definitionharmony  0.13315    0.82354   0.162    0.872\n",
       "needharmony       -0.29684    0.77293  -0.384    0.701\n",
       "purposecosmetic    0.11665    0.83053   0.140    0.888\n",
       "purposeetc        -0.45507    0.83405  -0.546    0.585\n",
       "interest           0.06576    0.35141   0.187    0.852\n",
       "\n",
       "(Dispersion parameter for binomial family taken to be 1)\n",
       "\n",
       "    Null deviance: 54.748  on 41  degrees of freedom\n",
       "Residual deviance: 53.997  on 36  degrees of freedom\n",
       "AIC: 65.997\n",
       "\n",
       "Number of Fisher Scoring iterations: 4\n"
      ]
     },
     "metadata": {},
     "output_type": "display_data"
    },
    {
     "data": {
      "text/html": [
       "<table>\n",
       "<thead><tr><th></th><th scope=col>Df</th><th scope=col>Deviance</th><th scope=col>Resid. Df</th><th scope=col>Resid. Dev</th><th scope=col>Pr(&gt;Chi)</th></tr></thead>\n",
       "<tbody>\n",
       "\t<tr><th scope=row>NULL</th><td>NA        </td><td>        NA</td><td>41        </td><td>54.74755  </td><td>       NA </td></tr>\n",
       "\t<tr><th scope=row>definition</th><td> 1        </td><td>0.06153656</td><td>40        </td><td>54.68601  </td><td>0.8040836 </td></tr>\n",
       "\t<tr><th scope=row>need</th><td> 1        </td><td>0.19812728</td><td>39        </td><td>54.48789  </td><td>0.6562367 </td></tr>\n",
       "\t<tr><th scope=row>purpose</th><td> 2        </td><td>0.45534482</td><td>37        </td><td>54.03254  </td><td>0.7963851 </td></tr>\n",
       "\t<tr><th scope=row>interest</th><td> 1        </td><td>0.03509954</td><td>36        </td><td>53.99744  </td><td>0.8513872 </td></tr>\n",
       "</tbody>\n",
       "</table>\n"
      ],
      "text/latex": [
       "\\begin{tabular}{r|lllll}\n",
       "  & Df & Deviance & Resid. Df & Resid. Dev & Pr(>Chi)\\\\\n",
       "\\hline\n",
       "\tNULL & NA         &         NA & 41         & 54.74755   &        NA \\\\\n",
       "\tdefinition &  1         & 0.06153656 & 40         & 54.68601   & 0.8040836 \\\\\n",
       "\tneed &  1         & 0.19812728 & 39         & 54.48789   & 0.6562367 \\\\\n",
       "\tpurpose &  2         & 0.45534482 & 37         & 54.03254   & 0.7963851 \\\\\n",
       "\tinterest &  1         & 0.03509954 & 36         & 53.99744   & 0.8513872 \\\\\n",
       "\\end{tabular}\n"
      ],
      "text/markdown": [
       "\n",
       "| <!--/--> | Df | Deviance | Resid. Df | Resid. Dev | Pr(>Chi) |\n",
       "|---|---|---|---|---|---|\n",
       "| NULL | NA         |         NA | 41         | 54.74755   |        NA  |\n",
       "| definition |  1         | 0.06153656 | 40         | 54.68601   | 0.8040836  |\n",
       "| need |  1         | 0.19812728 | 39         | 54.48789   | 0.6562367  |\n",
       "| purpose |  2         | 0.45534482 | 37         | 54.03254   | 0.7963851  |\n",
       "| interest |  1         | 0.03509954 | 36         | 53.99744   | 0.8513872  |\n",
       "\n"
      ],
      "text/plain": [
       "           Df Deviance   Resid. Df Resid. Dev Pr(>Chi) \n",
       "NULL       NA         NA 41        54.74755          NA\n",
       "definition  1 0.06153656 40        54.68601   0.8040836\n",
       "need        1 0.19812728 39        54.48789   0.6562367\n",
       "purpose     2 0.45534482 37        54.03254   0.7963851\n",
       "interest    1 0.03509954 36        53.99744   0.8513872"
      ]
     },
     "metadata": {},
     "output_type": "display_data"
    },
    {
     "data": {
      "text/html": [
       "0.528571428571429"
      ],
      "text/latex": [
       "0.528571428571429"
      ],
      "text/markdown": [
       "0.528571428571429"
      ],
      "text/plain": [
       "[1] 0.5285714"
      ]
     },
     "metadata": {},
     "output_type": "display_data"
    },
    {
     "data": {
      "image/png": "[encoded data removed]",
      "text/plain": [
       "plot without title"
      ]
     },
     "metadata": {},
     "output_type": "display_data"
    }
   ],
   "source": [
    "model <- glm(t2_4 ~ definition + need + purpose \n",
    "              + interest, data =train, family = binomial)\n",
    "summary(model)\n",
    "\n",
    "\n",
    "anova(model, test=\"Chisq\")\n",
    "\n",
    "\n",
    "p <- predict(model, newdata=test, type=\"response\")\n",
    "pr <- prediction(p, test$t2_4)\n",
    "prf <- performance(pr, measure = \"tpr\", x.measure = \"fpr\")\n",
    "plot(prf)\n",
    "\n",
    "auc <- performance(pr, measure = \"auc\")\n",
    "auc <- auc@y.values[[1]]\n",
    "auc"
   ]
  },
  {
   "cell_type": "code",
   "execution_count": 27,
   "metadata": {},
   "outputs": [
    {
     "data": {
      "text/plain": [
       "\n",
       "Call:\n",
       "glm(formula = t2_5 ~ definition + need + purpose + interest, \n",
       "    family = binomial, data = train)\n",
       "\n",
       "Deviance Residuals: \n",
       "    Min       1Q   Median       3Q      Max  \n",
       "-0.9953  -0.7007  -0.5309  -0.4138   2.0255  \n",
       "\n",
       "Coefficients:\n",
       "                  Estimate Std. Error z value Pr(>|z|)\n",
       "(Intercept)       -0.03751    1.71504  -0.022    0.983\n",
       "definitionharmony -1.08447    1.11313  -0.974    0.330\n",
       "needharmony        0.50114    1.02774   0.488    0.626\n",
       "purposecosmetic    0.05122    1.13351   0.045    0.964\n",
       "purposeetc         1.03815    1.08162   0.960    0.337\n",
       "interest          -0.43100    0.43958  -0.980    0.327\n",
       "\n",
       "(Dispersion parameter for binomial family taken to be 1)\n",
       "\n",
       "    Null deviance: 40.901  on 41  degrees of freedom\n",
       "Residual deviance: 38.741  on 36  degrees of freedom\n",
       "AIC: 50.741\n",
       "\n",
       "Number of Fisher Scoring iterations: 4\n"
      ]
     },
     "metadata": {},
     "output_type": "display_data"
    },
    {
     "data": {
      "text/html": [
       "<table>\n",
       "<thead><tr><th></th><th scope=col>Df</th><th scope=col>Deviance</th><th scope=col>Resid. Df</th><th scope=col>Resid. Dev</th><th scope=col>Pr(&gt;Chi)</th></tr></thead>\n",
       "<tbody>\n",
       "\t<tr><th scope=row>NULL</th><td>NA       </td><td>       NA</td><td>41       </td><td>40.90067 </td><td>       NA</td></tr>\n",
       "\t<tr><th scope=row>definition</th><td> 1       </td><td>0.1931647</td><td>40       </td><td>40.70750 </td><td>0.6602956</td></tr>\n",
       "\t<tr><th scope=row>need</th><td> 1       </td><td>0.3978587</td><td>39       </td><td>40.30964 </td><td>0.5281972</td></tr>\n",
       "\t<tr><th scope=row>purpose</th><td> 2       </td><td>0.5814166</td><td>37       </td><td>39.72823 </td><td>0.7477337</td></tr>\n",
       "\t<tr><th scope=row>interest</th><td> 1       </td><td>0.9876644</td><td>36       </td><td>38.74056 </td><td>0.3203139</td></tr>\n",
       "</tbody>\n",
       "</table>\n"
      ],
      "text/latex": [
       "\\begin{tabular}{r|lllll}\n",
       "  & Df & Deviance & Resid. Df & Resid. Dev & Pr(>Chi)\\\\\n",
       "\\hline\n",
       "\tNULL & NA        &        NA & 41        & 40.90067  &        NA\\\\\n",
       "\tdefinition &  1        & 0.1931647 & 40        & 40.70750  & 0.6602956\\\\\n",
       "\tneed &  1        & 0.3978587 & 39        & 40.30964  & 0.5281972\\\\\n",
       "\tpurpose &  2        & 0.5814166 & 37        & 39.72823  & 0.7477337\\\\\n",
       "\tinterest &  1        & 0.9876644 & 36        & 38.74056  & 0.3203139\\\\\n",
       "\\end{tabular}\n"
      ],
      "text/markdown": [
       "\n",
       "| <!--/--> | Df | Deviance | Resid. Df | Resid. Dev | Pr(>Chi) |\n",
       "|---|---|---|---|---|---|\n",
       "| NULL | NA        |        NA | 41        | 40.90067  |        NA |\n",
       "| definition |  1        | 0.1931647 | 40        | 40.70750  | 0.6602956 |\n",
       "| need |  1        | 0.3978587 | 39        | 40.30964  | 0.5281972 |\n",
       "| purpose |  2        | 0.5814166 | 37        | 39.72823  | 0.7477337 |\n",
       "| interest |  1        | 0.9876644 | 36        | 38.74056  | 0.3203139 |\n",
       "\n"
      ],
      "text/plain": [
       "           Df Deviance  Resid. Df Resid. Dev Pr(>Chi) \n",
       "NULL       NA        NA 41        40.90067          NA\n",
       "definition  1 0.1931647 40        40.70750   0.6602956\n",
       "need        1 0.3978587 39        40.30964   0.5281972\n",
       "purpose     2 0.5814166 37        39.72823   0.7477337\n",
       "interest    1 0.9876644 36        38.74056   0.3203139"
      ]
     },
     "metadata": {},
     "output_type": "display_data"
    },
    {
     "data": {
      "text/html": [
       "0.328571428571429"
      ],
      "text/latex": [
       "0.328571428571429"
      ],
      "text/markdown": [
       "0.328571428571429"
      ],
      "text/plain": [
       "[1] 0.3285714"
      ]
     },
     "metadata": {},
     "output_type": "display_data"
    },
    {
     "data": {
      "image/png": "[encoded data removed]",
      "text/plain": [
       "plot without title"
      ]
     },
     "metadata": {},
     "output_type": "display_data"
    }
   ],
   "source": [
    "model <- glm(t2_5 ~ definition + need + purpose \n",
    "              + interest, data =train, family = binomial)\n",
    "summary(model)\n",
    "\n",
    "\n",
    "anova(model, test=\"Chisq\")\n",
    "\n",
    "\n",
    "p <- predict(model, newdata=test, type=\"response\")\n",
    "pr <- prediction(p, test$t2_5)\n",
    "prf <- performance(pr, measure = \"tpr\", x.measure = \"fpr\")\n",
    "plot(prf)\n",
    "\n",
    "auc <- performance(pr, measure = \"auc\")\n",
    "auc <- auc@y.values[[1]]\n",
    "auc"
   ]
  },
  {
   "cell_type": "code",
   "execution_count": 28,
   "metadata": {},
   "outputs": [
    {
     "data": {
      "text/plain": [
       "\n",
       "Call:\n",
       "glm(formula = d1_1 ~ definition + need + purpose + interest, \n",
       "    family = binomial, data = train)\n",
       "\n",
       "Deviance Residuals: \n",
       "    Min       1Q   Median       3Q      Max  \n",
       "-0.9511  -0.4510  -0.3417  -0.1821   2.2561  \n",
       "\n",
       "Coefficients:\n",
       "                  Estimate Std. Error z value Pr(>|z|)\n",
       "(Intercept)        -3.0505     2.3892  -1.277    0.202\n",
       "definitionharmony  -0.3469     1.5845  -0.219    0.827\n",
       "needharmony         2.2514     1.5464   1.456    0.145\n",
       "purposecosmetic     0.4441     1.2068   0.368    0.713\n",
       "purposeetc         -1.2316     1.4252  -0.864    0.388\n",
       "interest            0.0477     0.5613   0.085    0.932\n",
       "\n",
       "(Dispersion parameter for binomial family taken to be 1)\n",
       "\n",
       "    Null deviance: 30.662  on 41  degrees of freedom\n",
       "Residual deviance: 25.953  on 36  degrees of freedom\n",
       "AIC: 37.953\n",
       "\n",
       "Number of Fisher Scoring iterations: 6\n"
      ]
     },
     "metadata": {},
     "output_type": "display_data"
    },
    {
     "data": {
      "text/html": [
       "<table>\n",
       "<thead><tr><th></th><th scope=col>Df</th><th scope=col>Deviance</th><th scope=col>Resid. Df</th><th scope=col>Resid. Dev</th><th scope=col>Pr(&gt;Chi)</th></tr></thead>\n",
       "<tbody>\n",
       "\t<tr><th scope=row>NULL</th><td>NA         </td><td>         NA</td><td>41         </td><td>30.66194   </td><td>        NA </td></tr>\n",
       "\t<tr><th scope=row>definition</th><td> 1         </td><td>0.342007570</td><td>40         </td><td>30.31994   </td><td>0.55867270 </td></tr>\n",
       "\t<tr><th scope=row>need</th><td> 1         </td><td>2.712081759</td><td>39         </td><td>27.60785   </td><td>0.09959095 </td></tr>\n",
       "\t<tr><th scope=row>purpose</th><td> 2         </td><td>1.647575992</td><td>37         </td><td>25.96028   </td><td>0.43876646 </td></tr>\n",
       "\t<tr><th scope=row>interest</th><td> 1         </td><td>0.007233149</td><td>36         </td><td>25.95304   </td><td>0.93222329 </td></tr>\n",
       "</tbody>\n",
       "</table>\n"
      ],
      "text/latex": [
       "\\begin{tabular}{r|lllll}\n",
       "  & Df & Deviance & Resid. Df & Resid. Dev & Pr(>Chi)\\\\\n",
       "\\hline\n",
       "\tNULL & NA          &          NA & 41          & 30.66194    &         NA \\\\\n",
       "\tdefinition &  1          & 0.342007570 & 40          & 30.31994    & 0.55867270 \\\\\n",
       "\tneed &  1          & 2.712081759 & 39          & 27.60785    & 0.09959095 \\\\\n",
       "\tpurpose &  2          & 1.647575992 & 37          & 25.96028    & 0.43876646 \\\\\n",
       "\tinterest &  1          & 0.007233149 & 36          & 25.95304    & 0.93222329 \\\\\n",
       "\\end{tabular}\n"
      ],
      "text/markdown": [
       "\n",
       "| <!--/--> | Df | Deviance | Resid. Df | Resid. Dev | Pr(>Chi) |\n",
       "|---|---|---|---|---|---|\n",
       "| NULL | NA          |          NA | 41          | 30.66194    |         NA  |\n",
       "| definition |  1          | 0.342007570 | 40          | 30.31994    | 0.55867270  |\n",
       "| need |  1          | 2.712081759 | 39          | 27.60785    | 0.09959095  |\n",
       "| purpose |  2          | 1.647575992 | 37          | 25.96028    | 0.43876646  |\n",
       "| interest |  1          | 0.007233149 | 36          | 25.95304    | 0.93222329  |\n",
       "\n"
      ],
      "text/plain": [
       "           Df Deviance    Resid. Df Resid. Dev Pr(>Chi)  \n",
       "NULL       NA          NA 41        30.66194           NA\n",
       "definition  1 0.342007570 40        30.31994   0.55867270\n",
       "need        1 2.712081759 39        27.60785   0.09959095\n",
       "purpose     2 1.647575992 37        25.96028   0.43876646\n",
       "interest    1 0.007233149 36        25.95304   0.93222329"
      ]
     },
     "metadata": {},
     "output_type": "display_data"
    },
    {
     "data": {
      "text/html": [
       "0.294117647058824"
      ],
      "text/latex": [
       "0.294117647058824"
      ],
      "text/markdown": [
       "0.294117647058824"
      ],
      "text/plain": [
       "[1] 0.2941176"
      ]
     },
     "metadata": {},
     "output_type": "display_data"
    },
    {
     "data": {
      "image/png": "[encoded data removed]",
      "text/plain": [
       "plot without title"
      ]
     },
     "metadata": {},
     "output_type": "display_data"
    }
   ],
   "source": [
    "model <- glm(d1_1 ~ definition + need + purpose \n",
    "              + interest, data =train, family = binomial)\n",
    "summary(model)\n",
    "\n",
    "\n",
    "anova(model, test=\"Chisq\")\n",
    "\n",
    "\n",
    "p <- predict(model, newdata=test, type=\"response\")\n",
    "pr <- prediction(p, test$d1_1)\n",
    "prf <- performance(pr, measure = \"tpr\", x.measure = \"fpr\")\n",
    "plot(prf)\n",
    "\n",
    "auc <- performance(pr, measure = \"auc\")\n",
    "auc <- auc@y.values[[1]]\n",
    "auc"
   ]
  },
  {
   "cell_type": "code",
   "execution_count": 29,
   "metadata": {},
   "outputs": [
    {
     "data": {
      "text/plain": [
       "\n",
       "Call:\n",
       "glm(formula = d1_2 ~ definition + need + purpose + interest, \n",
       "    family = binomial, data = train)\n",
       "\n",
       "Deviance Residuals: \n",
       "    Min       1Q   Median       3Q      Max  \n",
       "-1.3965  -0.8972  -0.5535   1.0615   1.9756  \n",
       "\n",
       "Coefficients:\n",
       "                  Estimate Std. Error z value Pr(>|z|)\n",
       "(Intercept)         0.7442     1.4996   0.496    0.620\n",
       "definitionharmony   0.1404     0.8288   0.169    0.865\n",
       "needharmony        -1.3435     0.8311  -1.616    0.106\n",
       "purposecosmetic    -0.3968     0.8572  -0.463    0.643\n",
       "purposeetc         -0.9758     0.8795  -1.109    0.267\n",
       "interest           -0.1212     0.3677  -0.330    0.742\n",
       "\n",
       "(Dispersion parameter for binomial family taken to be 1)\n",
       "\n",
       "    Null deviance: 54.748  on 41  degrees of freedom\n",
       "Residual deviance: 49.623  on 36  degrees of freedom\n",
       "AIC: 61.623\n",
       "\n",
       "Number of Fisher Scoring iterations: 3\n"
      ]
     },
     "metadata": {},
     "output_type": "display_data"
    },
    {
     "data": {
      "text/html": [
       "<table>\n",
       "<thead><tr><th></th><th scope=col>Df</th><th scope=col>Deviance</th><th scope=col>Resid. Df</th><th scope=col>Resid. Dev</th><th scope=col>Pr(&gt;Chi)</th></tr></thead>\n",
       "<tbody>\n",
       "\t<tr><th scope=row>NULL</th><td>NA       </td><td>       NA</td><td>41       </td><td>54.74755 </td><td>       NA</td></tr>\n",
       "\t<tr><th scope=row>definition</th><td> 1       </td><td>0.8788988</td><td>40       </td><td>53.86865 </td><td>0.3485035</td></tr>\n",
       "\t<tr><th scope=row>need</th><td> 1       </td><td>2.4721474</td><td>39       </td><td>51.39650 </td><td>0.1158795</td></tr>\n",
       "\t<tr><th scope=row>purpose</th><td> 2       </td><td>1.6649271</td><td>37       </td><td>49.73158 </td><td>0.4349764</td></tr>\n",
       "\t<tr><th scope=row>interest</th><td> 1       </td><td>0.1087184</td><td>36       </td><td>49.62286 </td><td>0.7416080</td></tr>\n",
       "</tbody>\n",
       "</table>\n"
      ],
      "text/latex": [
       "\\begin{tabular}{r|lllll}\n",
       "  & Df & Deviance & Resid. Df & Resid. Dev & Pr(>Chi)\\\\\n",
       "\\hline\n",
       "\tNULL & NA        &        NA & 41        & 54.74755  &        NA\\\\\n",
       "\tdefinition &  1        & 0.8788988 & 40        & 53.86865  & 0.3485035\\\\\n",
       "\tneed &  1        & 2.4721474 & 39        & 51.39650  & 0.1158795\\\\\n",
       "\tpurpose &  2        & 1.6649271 & 37        & 49.73158  & 0.4349764\\\\\n",
       "\tinterest &  1        & 0.1087184 & 36        & 49.62286  & 0.7416080\\\\\n",
       "\\end{tabular}\n"
      ],
      "text/markdown": [
       "\n",
       "| <!--/--> | Df | Deviance | Resid. Df | Resid. Dev | Pr(>Chi) |\n",
       "|---|---|---|---|---|---|\n",
       "| NULL | NA        |        NA | 41        | 54.74755  |        NA |\n",
       "| definition |  1        | 0.8788988 | 40        | 53.86865  | 0.3485035 |\n",
       "| need |  1        | 2.4721474 | 39        | 51.39650  | 0.1158795 |\n",
       "| purpose |  2        | 1.6649271 | 37        | 49.73158  | 0.4349764 |\n",
       "| interest |  1        | 0.1087184 | 36        | 49.62286  | 0.7416080 |\n",
       "\n"
      ],
      "text/plain": [
       "           Df Deviance  Resid. Df Resid. Dev Pr(>Chi) \n",
       "NULL       NA        NA 41        54.74755          NA\n",
       "definition  1 0.8788988 40        53.86865   0.3485035\n",
       "need        1 2.4721474 39        51.39650   0.1158795\n",
       "purpose     2 1.6649271 37        49.73158   0.4349764\n",
       "interest    1 0.1087184 36        49.62286   0.7416080"
      ]
     },
     "metadata": {},
     "output_type": "display_data"
    },
    {
     "data": {
      "text/html": [
       "0.625"
      ],
      "text/latex": [
       "0.625"
      ],
      "text/markdown": [
       "0.625"
      ],
      "text/plain": [
       "[1] 0.625"
      ]
     },
     "metadata": {},
     "output_type": "display_data"
    },
    {
     "data": {
      "image/png": "[encoded data removed]",
      "text/plain": [
       "plot without title"
      ]
     },
     "metadata": {},
     "output_type": "display_data"
    }
   ],
   "source": [
    "model <- glm(d1_2 ~ definition + need + purpose \n",
    "              + interest, data =train, family = binomial)\n",
    "summary(model)\n",
    "\n",
    "\n",
    "anova(model, test=\"Chisq\")\n",
    "\n",
    "\n",
    "p <- predict(model, newdata=test, type=\"response\")\n",
    "pr <- prediction(p, test$d1_2)\n",
    "prf <- performance(pr, measure = \"tpr\", x.measure = \"fpr\")\n",
    "plot(prf)\n",
    "\n",
    "auc <- performance(pr, measure = \"auc\")\n",
    "auc <- auc@y.values[[1]]\n",
    "auc"
   ]
  },
  {
   "cell_type": "code",
   "execution_count": 30,
   "metadata": {},
   "outputs": [
    {
     "data": {
      "text/plain": [
       "\n",
       "Call:\n",
       "glm(formula = d1_3 ~ definition + need + purpose + interest, \n",
       "    family = binomial, data = train)\n",
       "\n",
       "Deviance Residuals: \n",
       "     Min        1Q    Median        3Q       Max  \n",
       "-0.97261  -0.58729  -0.00005  -0.00004   1.81581  \n",
       "\n",
       "Coefficients:\n",
       "                    Estimate Std. Error z value Pr(>|z|)\n",
       "(Intercept)        -21.28708 4865.94780  -0.004    0.997\n",
       "definitionharmony   -0.56950    1.67877  -0.339    0.734\n",
       "needharmony          0.21720    1.40222   0.155    0.877\n",
       "purposecosmetic      0.07725 7022.50240   0.000    1.000\n",
       "purposeetc          19.33473 4865.94726   0.004    0.997\n",
       "interest             0.28989    0.62988   0.460    0.645\n",
       "\n",
       "(Dispersion parameter for binomial family taken to be 1)\n",
       "\n",
       "    Null deviance: 26.417  on 41  degrees of freedom\n",
       "Residual deviance: 18.141  on 36  degrees of freedom\n",
       "AIC: 30.141\n",
       "\n",
       "Number of Fisher Scoring iterations: 19\n"
      ]
     },
     "metadata": {},
     "output_type": "display_data"
    },
    {
     "data": {
      "text/html": [
       "<table>\n",
       "<thead><tr><th></th><th scope=col>Df</th><th scope=col>Deviance</th><th scope=col>Resid. Df</th><th scope=col>Resid. Dev</th><th scope=col>Pr(&gt;Chi)</th></tr></thead>\n",
       "<tbody>\n",
       "\t<tr><th scope=row>NULL</th><td>NA         </td><td>         NA</td><td>41         </td><td>26.41734   </td><td>        NA </td></tr>\n",
       "\t<tr><th scope=row>definition</th><td> 1         </td><td>0.075956778</td><td>40         </td><td>26.34139   </td><td>0.78285333 </td></tr>\n",
       "\t<tr><th scope=row>need</th><td> 1         </td><td>0.005343854</td><td>39         </td><td>26.33604   </td><td>0.94172521 </td></tr>\n",
       "\t<tr><th scope=row>purpose</th><td> 2         </td><td>7.978223388</td><td>37         </td><td>18.35782   </td><td>0.01851615 </td></tr>\n",
       "\t<tr><th scope=row>interest</th><td> 1         </td><td>0.217095545</td><td>36         </td><td>18.14073   </td><td>0.64126193 </td></tr>\n",
       "</tbody>\n",
       "</table>\n"
      ],
      "text/latex": [
       "\\begin{tabular}{r|lllll}\n",
       "  & Df & Deviance & Resid. Df & Resid. Dev & Pr(>Chi)\\\\\n",
       "\\hline\n",
       "\tNULL & NA          &          NA & 41          & 26.41734    &         NA \\\\\n",
       "\tdefinition &  1          & 0.075956778 & 40          & 26.34139    & 0.78285333 \\\\\n",
       "\tneed &  1          & 0.005343854 & 39          & 26.33604    & 0.94172521 \\\\\n",
       "\tpurpose &  2          & 7.978223388 & 37          & 18.35782    & 0.01851615 \\\\\n",
       "\tinterest &  1          & 0.217095545 & 36          & 18.14073    & 0.64126193 \\\\\n",
       "\\end{tabular}\n"
      ],
      "text/markdown": [
       "\n",
       "| <!--/--> | Df | Deviance | Resid. Df | Resid. Dev | Pr(>Chi) |\n",
       "|---|---|---|---|---|---|\n",
       "| NULL | NA          |          NA | 41          | 26.41734    |         NA  |\n",
       "| definition |  1          | 0.075956778 | 40          | 26.34139    | 0.78285333  |\n",
       "| need |  1          | 0.005343854 | 39          | 26.33604    | 0.94172521  |\n",
       "| purpose |  2          | 7.978223388 | 37          | 18.35782    | 0.01851615  |\n",
       "| interest |  1          | 0.217095545 | 36          | 18.14073    | 0.64126193  |\n",
       "\n"
      ],
      "text/plain": [
       "           Df Deviance    Resid. Df Resid. Dev Pr(>Chi)  \n",
       "NULL       NA          NA 41        26.41734           NA\n",
       "definition  1 0.075956778 40        26.34139   0.78285333\n",
       "need        1 0.005343854 39        26.33604   0.94172521\n",
       "purpose     2 7.978223388 37        18.35782   0.01851615\n",
       "interest    1 0.217095545 36        18.14073   0.64126193"
      ]
     },
     "metadata": {},
     "output_type": "display_data"
    },
    {
     "ename": "ERROR",
     "evalue": "Error in prediction(p, test$d1_3): Number of classes is not equal to 2.\nROCR currently supports only evaluation of binary classification tasks.\n",
     "output_type": "error",
     "traceback": [
      "Error in prediction(p, test$d1_3): Number of classes is not equal to 2.\nROCR currently supports only evaluation of binary classification tasks.\nTraceback:\n",
      "1. prediction(p, test$d1_3)",
      "2. stop(message)"
     ]
    }
   ],
   "source": [
    "model <- glm(d1_3 ~ definition + need + purpose \n",
    "              + interest, data =train, family = binomial)\n",
    "summary(model)\n",
    "\n",
    "\n",
    "anova(model, test=\"Chisq\")\n",
    "\n",
    "\n",
    "p <- predict(model, newdata=test, type=\"response\")\n",
    "pr <- prediction(p, test$d1_3)\n",
    "prf <- performance(pr, measure = \"tpr\", x.measure = \"fpr\")\n",
    "plot(prf)\n",
    "\n",
    "auc <- performance(pr, measure = \"auc\")\n",
    "auc <- auc@y.values[[1]]\n",
    "auc"
   ]
  },
  {
   "cell_type": "code",
   "execution_count": 31,
   "metadata": {},
   "outputs": [
    {
     "data": {
      "text/plain": [
       "\n",
       "Call:\n",
       "glm(formula = d1_5 ~ definition + need + purpose + interest, \n",
       "    family = binomial, data = train)\n",
       "\n",
       "Deviance Residuals: \n",
       "    Min       1Q   Median       3Q      Max  \n",
       "-1.0621  -0.8437  -0.4840  -0.2766   2.1489  \n",
       "\n",
       "Coefficients:\n",
       "                  Estimate Std. Error z value Pr(>|z|)  \n",
       "(Intercept)        -3.7157     1.9649  -1.891   0.0586 .\n",
       "definitionharmony   1.5877     1.2438   1.276   0.2018  \n",
       "needharmony         0.3392     0.8525   0.398   0.6907  \n",
       "purposecosmetic     0.7863     1.0717   0.734   0.4632  \n",
       "purposeetc          0.4679     1.0040   0.466   0.6412  \n",
       "interest            0.2087     0.4099   0.509   0.6107  \n",
       "---\n",
       "Signif. codes:  0 '***' 0.001 '**' 0.01 '*' 0.05 '.' 0.1 ' ' 1\n",
       "\n",
       "(Dispersion parameter for binomial family taken to be 1)\n",
       "\n",
       "    Null deviance: 46.105  on 41  degrees of freedom\n",
       "Residual deviance: 42.065  on 36  degrees of freedom\n",
       "AIC: 54.065\n",
       "\n",
       "Number of Fisher Scoring iterations: 5\n"
      ]
     },
     "metadata": {},
     "output_type": "display_data"
    },
    {
     "data": {
      "text/html": [
       "<table>\n",
       "<thead><tr><th></th><th scope=col>Df</th><th scope=col>Deviance</th><th scope=col>Resid. Df</th><th scope=col>Resid. Dev</th><th scope=col>Pr(&gt;Chi)</th></tr></thead>\n",
       "<tbody>\n",
       "\t<tr><th scope=row>NULL</th><td>NA        </td><td>        NA</td><td>41        </td><td>46.10545  </td><td>        NA</td></tr>\n",
       "\t<tr><th scope=row>definition</th><td> 1        </td><td>3.13069979</td><td>40        </td><td>42.97475  </td><td>0.07683075</td></tr>\n",
       "\t<tr><th scope=row>need</th><td> 1        </td><td>0.07468823</td><td>39        </td><td>42.90006  </td><td>0.78462917</td></tr>\n",
       "\t<tr><th scope=row>purpose</th><td> 2        </td><td>0.57134218</td><td>37        </td><td>42.32872  </td><td>0.75150975</td></tr>\n",
       "\t<tr><th scope=row>interest</th><td> 1        </td><td>0.26323488</td><td>36        </td><td>42.06548  </td><td>0.60790641</td></tr>\n",
       "</tbody>\n",
       "</table>\n"
      ],
      "text/latex": [
       "\\begin{tabular}{r|lllll}\n",
       "  & Df & Deviance & Resid. Df & Resid. Dev & Pr(>Chi)\\\\\n",
       "\\hline\n",
       "\tNULL & NA         &         NA & 41         & 46.10545   &         NA\\\\\n",
       "\tdefinition &  1         & 3.13069979 & 40         & 42.97475   & 0.07683075\\\\\n",
       "\tneed &  1         & 0.07468823 & 39         & 42.90006   & 0.78462917\\\\\n",
       "\tpurpose &  2         & 0.57134218 & 37         & 42.32872   & 0.75150975\\\\\n",
       "\tinterest &  1         & 0.26323488 & 36         & 42.06548   & 0.60790641\\\\\n",
       "\\end{tabular}\n"
      ],
      "text/markdown": [
       "\n",
       "| <!--/--> | Df | Deviance | Resid. Df | Resid. Dev | Pr(>Chi) |\n",
       "|---|---|---|---|---|---|\n",
       "| NULL | NA         |         NA | 41         | 46.10545   |         NA |\n",
       "| definition |  1         | 3.13069979 | 40         | 42.97475   | 0.07683075 |\n",
       "| need |  1         | 0.07468823 | 39         | 42.90006   | 0.78462917 |\n",
       "| purpose |  2         | 0.57134218 | 37         | 42.32872   | 0.75150975 |\n",
       "| interest |  1         | 0.26323488 | 36         | 42.06548   | 0.60790641 |\n",
       "\n"
      ],
      "text/plain": [
       "           Df Deviance   Resid. Df Resid. Dev Pr(>Chi)  \n",
       "NULL       NA         NA 41        46.10545           NA\n",
       "definition  1 3.13069979 40        42.97475   0.07683075\n",
       "need        1 0.07468823 39        42.90006   0.78462917\n",
       "purpose     2 0.57134218 37        42.32872   0.75150975\n",
       "interest    1 0.26323488 36        42.06548   0.60790641"
      ]
     },
     "metadata": {},
     "output_type": "display_data"
    },
    {
     "data": {
      "text/html": [
       "0.738636363636364"
      ],
      "text/latex": [
       "0.738636363636364"
      ],
      "text/markdown": [
       "0.738636363636364"
      ],
      "text/plain": [
       "[1] 0.7386364"
      ]
     },
     "metadata": {},
     "output_type": "display_data"
    },
    {
     "data": {
      "image/png": "[encoded data removed]",
      "text/plain": [
       "plot without title"
      ]
     },
     "metadata": {},
     "output_type": "display_data"
    }
   ],
   "source": [
    "model <- glm(d1_5 ~ definition + need + purpose \n",
    "              + interest, data =train, family = binomial)\n",
    "summary(model)\n",
    "\n",
    "\n",
    "anova(model, test=\"Chisq\")\n",
    "\n",
    "\n",
    "p <- predict(model, newdata=test, type=\"response\")\n",
    "pr <- prediction(p, test$d1_5)\n",
    "prf <- performance(pr, measure = \"tpr\", x.measure = \"fpr\")\n",
    "plot(prf)\n",
    "\n",
    "auc <- performance(pr, measure = \"auc\")\n",
    "auc <- auc@y.values[[1]]\n",
    "auc"
   ]
  },
  {
   "cell_type": "code",
   "execution_count": 32,
   "metadata": {},
   "outputs": [
    {
     "data": {
      "text/plain": [
       "\n",
       "Call:\n",
       "glm(formula = d2_1 ~ definition + need + purpose + interest, \n",
       "    family = binomial, data = train)\n",
       "\n",
       "Deviance Residuals: \n",
       "     Min        1Q    Median        3Q       Max  \n",
       "-1.40149  -0.35230  -0.09295  -0.00003   1.87204  \n",
       "\n",
       "Coefficients:\n",
       "                   Estimate Std. Error z value Pr(>|z|)  \n",
       "(Intercept)         -9.1887     5.2904  -1.737   0.0824 .\n",
       "definitionharmony    0.9996     1.8710   0.534   0.5931  \n",
       "needharmony         -0.2307     1.5733  -0.147   0.8834  \n",
       "purposecosmetic    -18.7897  4389.0508  -0.004   0.9966  \n",
       "purposeetc          -2.8436     1.9506  -1.458   0.1449  \n",
       "interest             1.9403     1.2052   1.610   0.1074  \n",
       "---\n",
       "Signif. codes:  0 '***' 0.001 '**' 0.01 '*' 0.05 '.' 0.1 ' ' 1\n",
       "\n",
       "(Dispersion parameter for binomial family taken to be 1)\n",
       "\n",
       "    Null deviance: 21.615  on 41  degrees of freedom\n",
       "Residual deviance: 14.172  on 36  degrees of freedom\n",
       "AIC: 26.172\n",
       "\n",
       "Number of Fisher Scoring iterations: 19\n"
      ]
     },
     "metadata": {},
     "output_type": "display_data"
    },
    {
     "data": {
      "text/html": [
       "<table>\n",
       "<thead><tr><th></th><th scope=col>Df</th><th scope=col>Deviance</th><th scope=col>Resid. Df</th><th scope=col>Resid. Dev</th><th scope=col>Pr(&gt;Chi)</th></tr></thead>\n",
       "<tbody>\n",
       "\t<tr><th scope=row>NULL</th><td>NA         </td><td>         NA</td><td>41         </td><td>21.61477   </td><td>        NA </td></tr>\n",
       "\t<tr><th scope=row>definition</th><td> 1         </td><td>0.008463454</td><td>40         </td><td>21.60630   </td><td>0.92670040 </td></tr>\n",
       "\t<tr><th scope=row>need</th><td> 1         </td><td>0.199236748</td><td>39         </td><td>21.40707   </td><td>0.65533763 </td></tr>\n",
       "\t<tr><th scope=row>purpose</th><td> 2         </td><td>2.988409990</td><td>37         </td><td>18.41866   </td><td>0.22442695 </td></tr>\n",
       "\t<tr><th scope=row>interest</th><td> 1         </td><td>4.246934095</td><td>36         </td><td>14.17172   </td><td>0.03932126 </td></tr>\n",
       "</tbody>\n",
       "</table>\n"
      ],
      "text/latex": [
       "\\begin{tabular}{r|lllll}\n",
       "  & Df & Deviance & Resid. Df & Resid. Dev & Pr(>Chi)\\\\\n",
       "\\hline\n",
       "\tNULL & NA          &          NA & 41          & 21.61477    &         NA \\\\\n",
       "\tdefinition &  1          & 0.008463454 & 40          & 21.60630    & 0.92670040 \\\\\n",
       "\tneed &  1          & 0.199236748 & 39          & 21.40707    & 0.65533763 \\\\\n",
       "\tpurpose &  2          & 2.988409990 & 37          & 18.41866    & 0.22442695 \\\\\n",
       "\tinterest &  1          & 4.246934095 & 36          & 14.17172    & 0.03932126 \\\\\n",
       "\\end{tabular}\n"
      ],
      "text/markdown": [
       "\n",
       "| <!--/--> | Df | Deviance | Resid. Df | Resid. Dev | Pr(>Chi) |\n",
       "|---|---|---|---|---|---|\n",
       "| NULL | NA          |          NA | 41          | 21.61477    |         NA  |\n",
       "| definition |  1          | 0.008463454 | 40          | 21.60630    | 0.92670040  |\n",
       "| need |  1          | 0.199236748 | 39          | 21.40707    | 0.65533763  |\n",
       "| purpose |  2          | 2.988409990 | 37          | 18.41866    | 0.22442695  |\n",
       "| interest |  1          | 4.246934095 | 36          | 14.17172    | 0.03932126  |\n",
       "\n"
      ],
      "text/plain": [
       "           Df Deviance    Resid. Df Resid. Dev Pr(>Chi)  \n",
       "NULL       NA          NA 41        21.61477           NA\n",
       "definition  1 0.008463454 40        21.60630   0.92670040\n",
       "need        1 0.199236748 39        21.40707   0.65533763\n",
       "purpose     2 2.988409990 37        18.41866   0.22442695\n",
       "interest    1 4.246934095 36        14.17172   0.03932126"
      ]
     },
     "metadata": {},
     "output_type": "display_data"
    },
    {
     "data": {
      "text/html": [
       "0.0441176470588235"
      ],
      "text/latex": [
       "0.0441176470588235"
      ],
      "text/markdown": [
       "0.0441176470588235"
      ],
      "text/plain": [
       "[1] 0.04411765"
      ]
     },
     "metadata": {},
     "output_type": "display_data"
    },
    {
     "data": {
      "image/png": "[encoded data removed]",
      "text/plain": [
       "plot without title"
      ]
     },
     "metadata": {},
     "output_type": "display_data"
    }
   ],
   "source": [
    "model <- glm(d2_1 ~ definition + need + purpose \n",
    "              + interest, data =train, family = binomial)\n",
    "summary(model)\n",
    "\n",
    "\n",
    "anova(model, test=\"Chisq\")\n",
    "\n",
    "\n",
    "p <- predict(model, newdata=test, type=\"response\")\n",
    "pr <- prediction(p, test$d2_1)\n",
    "prf <- performance(pr, measure = \"tpr\", x.measure = \"fpr\")\n",
    "plot(prf)\n",
    "\n",
    "auc <- performance(pr, measure = \"auc\")\n",
    "auc <- auc@y.values[[1]]\n",
    "auc"
   ]
  },
  {
   "cell_type": "code",
   "execution_count": 33,
   "metadata": {},
   "outputs": [
    {
     "data": {
      "text/plain": [
       "\n",
       "Call:\n",
       "glm(formula = d2_2 ~ definition + need + purpose + interest, \n",
       "    family = binomial, data = train)\n",
       "\n",
       "Deviance Residuals: \n",
       "    Min       1Q   Median       3Q      Max  \n",
       "-1.3069  -0.8837  -0.7295   1.1970   2.1154  \n",
       "\n",
       "Coefficients:\n",
       "                  Estimate Std. Error z value Pr(>|z|)\n",
       "(Intercept)        -1.9802     1.5472  -1.280    0.201\n",
       "definitionharmony  -0.1476     0.8984  -0.164    0.869\n",
       "needharmony         1.0464     0.8344   1.254    0.210\n",
       "purposecosmetic    -0.0183     0.8709  -0.021    0.983\n",
       "purposeetc         -0.6871     0.8671  -0.792    0.428\n",
       "interest            0.3452     0.3727   0.926    0.354\n",
       "\n",
       "(Dispersion parameter for binomial family taken to be 1)\n",
       "\n",
       "    Null deviance: 53.467  on 41  degrees of freedom\n",
       "Residual deviance: 50.927  on 36  degrees of freedom\n",
       "AIC: 62.927\n",
       "\n",
       "Number of Fisher Scoring iterations: 4\n"
      ]
     },
     "metadata": {},
     "output_type": "display_data"
    },
    {
     "data": {
      "text/html": [
       "<table>\n",
       "<thead><tr><th></th><th scope=col>Df</th><th scope=col>Deviance</th><th scope=col>Resid. Df</th><th scope=col>Resid. Dev</th><th scope=col>Pr(&gt;Chi)</th></tr></thead>\n",
       "<tbody>\n",
       "\t<tr><th scope=row>NULL</th><td>NA        </td><td>        NA</td><td>41        </td><td>53.46719  </td><td>       NA </td></tr>\n",
       "\t<tr><th scope=row>definition</th><td> 1        </td><td>0.05612905</td><td>40        </td><td>53.41106  </td><td>0.8127222 </td></tr>\n",
       "\t<tr><th scope=row>need</th><td> 1        </td><td>1.29539755</td><td>39        </td><td>52.11566  </td><td>0.2550556 </td></tr>\n",
       "\t<tr><th scope=row>purpose</th><td> 2        </td><td>0.30415949</td><td>37        </td><td>51.81150  </td><td>0.8589198 </td></tr>\n",
       "\t<tr><th scope=row>interest</th><td> 1        </td><td>0.88433863</td><td>36        </td><td>50.92717  </td><td>0.3470161 </td></tr>\n",
       "</tbody>\n",
       "</table>\n"
      ],
      "text/latex": [
       "\\begin{tabular}{r|lllll}\n",
       "  & Df & Deviance & Resid. Df & Resid. Dev & Pr(>Chi)\\\\\n",
       "\\hline\n",
       "\tNULL & NA         &         NA & 41         & 53.46719   &        NA \\\\\n",
       "\tdefinition &  1         & 0.05612905 & 40         & 53.41106   & 0.8127222 \\\\\n",
       "\tneed &  1         & 1.29539755 & 39         & 52.11566   & 0.2550556 \\\\\n",
       "\tpurpose &  2         & 0.30415949 & 37         & 51.81150   & 0.8589198 \\\\\n",
       "\tinterest &  1         & 0.88433863 & 36         & 50.92717   & 0.3470161 \\\\\n",
       "\\end{tabular}\n"
      ],
      "text/markdown": [
       "\n",
       "| <!--/--> | Df | Deviance | Resid. Df | Resid. Dev | Pr(>Chi) |\n",
       "|---|---|---|---|---|---|\n",
       "| NULL | NA         |         NA | 41         | 53.46719   |        NA  |\n",
       "| definition |  1         | 0.05612905 | 40         | 53.41106   | 0.8127222  |\n",
       "| need |  1         | 1.29539755 | 39         | 52.11566   | 0.2550556  |\n",
       "| purpose |  2         | 0.30415949 | 37         | 51.81150   | 0.8589198  |\n",
       "| interest |  1         | 0.88433863 | 36         | 50.92717   | 0.3470161  |\n",
       "\n"
      ],
      "text/plain": [
       "           Df Deviance   Resid. Df Resid. Dev Pr(>Chi) \n",
       "NULL       NA         NA 41        53.46719          NA\n",
       "definition  1 0.05612905 40        53.41106   0.8127222\n",
       "need        1 1.29539755 39        52.11566   0.2550556\n",
       "purpose     2 0.30415949 37        51.81150   0.8589198\n",
       "interest    1 0.88433863 36        50.92717   0.3470161"
      ]
     },
     "metadata": {},
     "output_type": "display_data"
    },
    {
     "data": {
      "text/html": [
       "0.492857142857143"
      ],
      "text/latex": [
       "0.492857142857143"
      ],
      "text/markdown": [
       "0.492857142857143"
      ],
      "text/plain": [
       "[1] 0.4928571"
      ]
     },
     "metadata": {},
     "output_type": "display_data"
    },
    {
     "data": {
      "image/png": "[encoded data removed]",
      "text/plain": [
       "plot without title"
      ]
     },
     "metadata": {},
     "output_type": "display_data"
    }
   ],
   "source": [
    "model <- glm(d2_2 ~ definition + need + purpose \n",
    "              + interest, data =train, family = binomial)\n",
    "summary(model)\n",
    "\n",
    "\n",
    "anova(model, test=\"Chisq\")\n",
    "\n",
    "\n",
    "p <- predict(model, newdata=test, type=\"response\")\n",
    "pr <- prediction(p, test$d2_2)\n",
    "prf <- performance(pr, measure = \"tpr\", x.measure = \"fpr\")\n",
    "plot(prf)\n",
    "\n",
    "auc <- performance(pr, measure = \"auc\")\n",
    "auc <- auc@y.values[[1]]\n",
    "auc"
   ]
  },
  {
   "cell_type": "code",
   "execution_count": 34,
   "metadata": {},
   "outputs": [
    {
     "data": {
      "text/plain": [
       "\n",
       "Call:\n",
       "glm(formula = d2_3 ~ definition + need + purpose + interest, \n",
       "    family = binomial, data = train)\n",
       "\n",
       "Deviance Residuals: \n",
       "    Min       1Q   Median       3Q      Max  \n",
       "-1.1229  -0.7604  -0.5209  -0.3467   2.0320  \n",
       "\n",
       "Coefficients:\n",
       "                  Estimate Std. Error z value Pr(>|z|)\n",
       "(Intercept)       -2.71900    1.99560  -1.362    0.173\n",
       "definitionharmony  0.84007    1.08605   0.774    0.439\n",
       "needharmony       -0.64569    0.96237  -0.671    0.502\n",
       "purposecosmetic    1.78278    1.22900   1.451    0.147\n",
       "purposeetc         0.85677    1.26890   0.675    0.500\n",
       "interest          -0.01666    0.43849  -0.038    0.970\n",
       "\n",
       "(Dispersion parameter for binomial family taken to be 1)\n",
       "\n",
       "    Null deviance: 40.901  on 41  degrees of freedom\n",
       "Residual deviance: 37.429  on 36  degrees of freedom\n",
       "AIC: 49.429\n",
       "\n",
       "Number of Fisher Scoring iterations: 5\n"
      ]
     },
     "metadata": {},
     "output_type": "display_data"
    },
    {
     "data": {
      "text/html": [
       "<table>\n",
       "<thead><tr><th></th><th scope=col>Df</th><th scope=col>Deviance</th><th scope=col>Resid. Df</th><th scope=col>Resid. Dev</th><th scope=col>Pr(&gt;Chi)</th></tr></thead>\n",
       "<tbody>\n",
       "\t<tr><th scope=row>NULL</th><td>NA         </td><td>         NA</td><td>41         </td><td>40.90067   </td><td>       NA  </td></tr>\n",
       "\t<tr><th scope=row>definition</th><td> 1         </td><td>0.168958449</td><td>40         </td><td>40.73171   </td><td>0.6810391  </td></tr>\n",
       "\t<tr><th scope=row>need</th><td> 1         </td><td>0.616495383</td><td>39         </td><td>40.11521   </td><td>0.4323526  </td></tr>\n",
       "\t<tr><th scope=row>purpose</th><td> 2         </td><td>2.684936192</td><td>37         </td><td>37.43028   </td><td>0.2612002  </td></tr>\n",
       "\t<tr><th scope=row>interest</th><td> 1         </td><td>0.001443193</td><td>36         </td><td>37.42883   </td><td>0.9696962  </td></tr>\n",
       "</tbody>\n",
       "</table>\n"
      ],
      "text/latex": [
       "\\begin{tabular}{r|lllll}\n",
       "  & Df & Deviance & Resid. Df & Resid. Dev & Pr(>Chi)\\\\\n",
       "\\hline\n",
       "\tNULL & NA          &          NA & 41          & 40.90067    &        NA  \\\\\n",
       "\tdefinition &  1          & 0.168958449 & 40          & 40.73171    & 0.6810391  \\\\\n",
       "\tneed &  1          & 0.616495383 & 39          & 40.11521    & 0.4323526  \\\\\n",
       "\tpurpose &  2          & 2.684936192 & 37          & 37.43028    & 0.2612002  \\\\\n",
       "\tinterest &  1          & 0.001443193 & 36          & 37.42883    & 0.9696962  \\\\\n",
       "\\end{tabular}\n"
      ],
      "text/markdown": [
       "\n",
       "| <!--/--> | Df | Deviance | Resid. Df | Resid. Dev | Pr(>Chi) |\n",
       "|---|---|---|---|---|---|\n",
       "| NULL | NA          |          NA | 41          | 40.90067    |        NA   |\n",
       "| definition |  1          | 0.168958449 | 40          | 40.73171    | 0.6810391   |\n",
       "| need |  1          | 0.616495383 | 39          | 40.11521    | 0.4323526   |\n",
       "| purpose |  2          | 2.684936192 | 37          | 37.43028    | 0.2612002   |\n",
       "| interest |  1          | 0.001443193 | 36          | 37.42883    | 0.9696962   |\n",
       "\n"
      ],
      "text/plain": [
       "           Df Deviance    Resid. Df Resid. Dev Pr(>Chi) \n",
       "NULL       NA          NA 41        40.90067          NA\n",
       "definition  1 0.168958449 40        40.73171   0.6810391\n",
       "need        1 0.616495383 39        40.11521   0.4323526\n",
       "purpose     2 2.684936192 37        37.43028   0.2612002\n",
       "interest    1 0.001443193 36        37.42883   0.9696962"
      ]
     },
     "metadata": {},
     "output_type": "display_data"
    },
    {
     "data": {
      "text/html": [
       "0.823529411764706"
      ],
      "text/latex": [
       "0.823529411764706"
      ],
      "text/markdown": [
       "0.823529411764706"
      ],
      "text/plain": [
       "[1] 0.8235294"
      ]
     },
     "metadata": {},
     "output_type": "display_data"
    },
    {
     "data": {
      "image/png": "[encoded data removed]",
      "text/plain": [
       "plot without title"
      ]
     },
     "metadata": {},
     "output_type": "display_data"
    }
   ],
   "source": [
    "model <- glm(d2_3 ~ definition + need + purpose \n",
    "              + interest, data =train, family = binomial)\n",
    "summary(model)\n",
    "\n",
    "\n",
    "anova(model, test=\"Chisq\")\n",
    "\n",
    "\n",
    "p <- predict(model, newdata=test, type=\"response\")\n",
    "pr <- prediction(p, test$d2_3)\n",
    "prf <- performance(pr, measure = \"tpr\", x.measure = \"fpr\")\n",
    "plot(prf)\n",
    "\n",
    "auc <- performance(pr, measure = \"auc\")\n",
    "auc <- auc@y.values[[1]]\n",
    "auc"
   ]
  },
  {
   "cell_type": "code",
   "execution_count": 35,
   "metadata": {},
   "outputs": [
    {
     "data": {
      "text/plain": [
       "\n",
       "Call:\n",
       "glm(formula = d2_4 ~ definition + need + purpose + interest, \n",
       "    family = binomial, data = train)\n",
       "\n",
       "Deviance Residuals: \n",
       "    Min       1Q   Median       3Q      Max  \n",
       "-1.5909  -0.9016  -0.6928   1.2080   1.8147  \n",
       "\n",
       "Coefficients:\n",
       "                  Estimate Std. Error z value Pr(>|z|)\n",
       "(Intercept)         1.5434     1.5082   1.023    0.306\n",
       "definitionharmony   0.1296     0.8667   0.150    0.881\n",
       "needharmony        -0.3893     0.7956  -0.489    0.625\n",
       "purposecosmetic    -0.8664     0.9249  -0.937    0.349\n",
       "purposeetc          0.4943     0.8397   0.589    0.556\n",
       "interest           -0.6166     0.3812  -1.617    0.106\n",
       "\n",
       "(Dispersion parameter for binomial family taken to be 1)\n",
       "\n",
       "    Null deviance: 54.748  on 41  degrees of freedom\n",
       "Residual deviance: 50.884  on 36  degrees of freedom\n",
       "AIC: 62.884\n",
       "\n",
       "Number of Fisher Scoring iterations: 4\n"
      ]
     },
     "metadata": {},
     "output_type": "display_data"
    },
    {
     "data": {
      "text/html": [
       "<table>\n",
       "<thead><tr><th></th><th scope=col>Df</th><th scope=col>Deviance</th><th scope=col>Resid. Df</th><th scope=col>Resid. Dev</th><th scope=col>Pr(&gt;Chi)</th></tr></thead>\n",
       "<tbody>\n",
       "\t<tr><th scope=row>NULL</th><td>NA        </td><td>        NA</td><td>41        </td><td>54.74755  </td><td>        NA</td></tr>\n",
       "\t<tr><th scope=row>definition</th><td> 1        </td><td>0.20318627</td><td>40        </td><td>54.54436  </td><td>0.65216118</td></tr>\n",
       "\t<tr><th scope=row>need</th><td> 1        </td><td>0.01014049</td><td>39        </td><td>54.53422  </td><td>0.91978862</td></tr>\n",
       "\t<tr><th scope=row>purpose</th><td> 2        </td><td>0.80038559</td><td>37        </td><td>53.73384  </td><td>0.67019083</td></tr>\n",
       "\t<tr><th scope=row>interest</th><td> 1        </td><td>2.84934410</td><td>36        </td><td>50.88449  </td><td>0.09141122</td></tr>\n",
       "</tbody>\n",
       "</table>\n"
      ],
      "text/latex": [
       "\\begin{tabular}{r|lllll}\n",
       "  & Df & Deviance & Resid. Df & Resid. Dev & Pr(>Chi)\\\\\n",
       "\\hline\n",
       "\tNULL & NA         &         NA & 41         & 54.74755   &         NA\\\\\n",
       "\tdefinition &  1         & 0.20318627 & 40         & 54.54436   & 0.65216118\\\\\n",
       "\tneed &  1         & 0.01014049 & 39         & 54.53422   & 0.91978862\\\\\n",
       "\tpurpose &  2         & 0.80038559 & 37         & 53.73384   & 0.67019083\\\\\n",
       "\tinterest &  1         & 2.84934410 & 36         & 50.88449   & 0.09141122\\\\\n",
       "\\end{tabular}\n"
      ],
      "text/markdown": [
       "\n",
       "| <!--/--> | Df | Deviance | Resid. Df | Resid. Dev | Pr(>Chi) |\n",
       "|---|---|---|---|---|---|\n",
       "| NULL | NA         |         NA | 41         | 54.74755   |         NA |\n",
       "| definition |  1         | 0.20318627 | 40         | 54.54436   | 0.65216118 |\n",
       "| need |  1         | 0.01014049 | 39         | 54.53422   | 0.91978862 |\n",
       "| purpose |  2         | 0.80038559 | 37         | 53.73384   | 0.67019083 |\n",
       "| interest |  1         | 2.84934410 | 36         | 50.88449   | 0.09141122 |\n",
       "\n"
      ],
      "text/plain": [
       "           Df Deviance   Resid. Df Resid. Dev Pr(>Chi)  \n",
       "NULL       NA         NA 41        54.74755           NA\n",
       "definition  1 0.20318627 40        54.54436   0.65216118\n",
       "need        1 0.01014049 39        54.53422   0.91978862\n",
       "purpose     2 0.80038559 37        53.73384   0.67019083\n",
       "interest    1 2.84934410 36        50.88449   0.09141122"
      ]
     },
     "metadata": {},
     "output_type": "display_data"
    },
    {
     "data": {
      "text/html": [
       "0.596153846153846"
      ],
      "text/latex": [
       "0.596153846153846"
      ],
      "text/markdown": [
       "0.596153846153846"
      ],
      "text/plain": [
       "[1] 0.5961538"
      ]
     },
     "metadata": {},
     "output_type": "display_data"
    },
    {
     "data": {
      "image/png": "[encoded data removed]",
      "text/plain": [
       "plot without title"
      ]
     },
     "metadata": {},
     "output_type": "display_data"
    }
   ],
   "source": [
    "model <- glm(d2_4 ~ definition + need + purpose \n",
    "              + interest, data =train, family = binomial)\n",
    "summary(model)\n",
    "\n",
    "\n",
    "anova(model, test=\"Chisq\")\n",
    "\n",
    "\n",
    "p <- predict(model, newdata=test, type=\"response\")\n",
    "pr <- prediction(p, test$d2_4)\n",
    "prf <- performance(pr, measure = \"tpr\", x.measure = \"fpr\")\n",
    "plot(prf)\n",
    "\n",
    "auc <- performance(pr, measure = \"auc\")\n",
    "auc <- auc@y.values[[1]]\n",
    "auc"
   ]
  },
  {
   "cell_type": "code",
   "execution_count": 36,
   "metadata": {},
   "outputs": [
    {
     "name": "stderr",
     "output_type": "stream",
     "text": [
      "Warning message:\n",
      "\"glm.fit: fitted probabilities numerically 0 or 1 occurred\""
     ]
    },
    {
     "data": {
      "text/plain": [
       "\n",
       "Call:\n",
       "glm(formula = d2_5 ~ definition + need + purpose + interest, \n",
       "    family = binomial, data = train)\n",
       "\n",
       "Deviance Residuals: \n",
       "     Min        1Q    Median        3Q       Max  \n",
       "-0.98476  -0.00005  -0.00003  -0.00002   1.79189  \n",
       "\n",
       "Coefficients:\n",
       "                   Estimate Std. Error z value Pr(>|z|)\n",
       "(Intercept)        -17.9360  6846.2328  -0.003    0.998\n",
       "definitionharmony  -20.6347  6966.1159  -0.003    0.998\n",
       "needharmony         -0.3965  8781.7025   0.000    1.000\n",
       "purposecosmetic     18.7385  6846.2319   0.003    0.998\n",
       "purposeetc          20.3761  6846.2322   0.003    0.998\n",
       "interest            -0.7280     1.3553  -0.537    0.591\n",
       "\n",
       "(Dispersion parameter for binomial family taken to be 1)\n",
       "\n",
       "    Null deviance: 16.0813  on 41  degrees of freedom\n",
       "Residual deviance:  8.4687  on 36  degrees of freedom\n",
       "AIC: 20.469\n",
       "\n",
       "Number of Fisher Scoring iterations: 20\n"
      ]
     },
     "metadata": {},
     "output_type": "display_data"
    },
    {
     "name": "stderr",
     "output_type": "stream",
     "text": [
      "Warning message:\n",
      "\"glm.fit: fitted probabilities numerically 0 or 1 occurred\"Warning message:\n",
      "\"glm.fit: fitted probabilities numerically 0 or 1 occurred\""
     ]
    },
    {
     "data": {
      "text/html": [
       "<table>\n",
       "<thead><tr><th></th><th scope=col>Df</th><th scope=col>Deviance</th><th scope=col>Resid. Df</th><th scope=col>Resid. Dev</th><th scope=col>Pr(&gt;Chi)</th></tr></thead>\n",
       "<tbody>\n",
       "\t<tr><th scope=row>NULL</th><td>NA        </td><td>       NA </td><td>41        </td><td>16.081303 </td><td>        NA</td></tr>\n",
       "\t<tr><th scope=row>definition</th><td> 1        </td><td>4.9189043 </td><td>40        </td><td>11.162399 </td><td>0.02656436</td></tr>\n",
       "\t<tr><th scope=row>need</th><td> 1        </td><td>0.3489295 </td><td>39        </td><td>10.813469 </td><td>0.55471972</td></tr>\n",
       "\t<tr><th scope=row>purpose</th><td> 2        </td><td>1.9903598 </td><td>37        </td><td> 8.823109 </td><td>0.36965694</td></tr>\n",
       "\t<tr><th scope=row>interest</th><td> 1        </td><td>0.3544030 </td><td>36        </td><td> 8.468706 </td><td>0.55163120</td></tr>\n",
       "</tbody>\n",
       "</table>\n"
      ],
      "text/latex": [
       "\\begin{tabular}{r|lllll}\n",
       "  & Df & Deviance & Resid. Df & Resid. Dev & Pr(>Chi)\\\\\n",
       "\\hline\n",
       "\tNULL & NA         &        NA  & 41         & 16.081303  &         NA\\\\\n",
       "\tdefinition &  1         & 4.9189043  & 40         & 11.162399  & 0.02656436\\\\\n",
       "\tneed &  1         & 0.3489295  & 39         & 10.813469  & 0.55471972\\\\\n",
       "\tpurpose &  2         & 1.9903598  & 37         &  8.823109  & 0.36965694\\\\\n",
       "\tinterest &  1         & 0.3544030  & 36         &  8.468706  & 0.55163120\\\\\n",
       "\\end{tabular}\n"
      ],
      "text/markdown": [
       "\n",
       "| <!--/--> | Df | Deviance | Resid. Df | Resid. Dev | Pr(>Chi) |\n",
       "|---|---|---|---|---|---|\n",
       "| NULL | NA         |        NA  | 41         | 16.081303  |         NA |\n",
       "| definition |  1         | 4.9189043  | 40         | 11.162399  | 0.02656436 |\n",
       "| need |  1         | 0.3489295  | 39         | 10.813469  | 0.55471972 |\n",
       "| purpose |  2         | 1.9903598  | 37         |  8.823109  | 0.36965694 |\n",
       "| interest |  1         | 0.3544030  | 36         |  8.468706  | 0.55163120 |\n",
       "\n"
      ],
      "text/plain": [
       "           Df Deviance  Resid. Df Resid. Dev Pr(>Chi)  \n",
       "NULL       NA        NA 41        16.081303          NA\n",
       "definition  1 4.9189043 40        11.162399  0.02656436\n",
       "need        1 0.3489295 39        10.813469  0.55471972\n",
       "purpose     2 1.9903598 37         8.823109  0.36965694\n",
       "interest    1 0.3544030 36         8.468706  0.55163120"
      ]
     },
     "metadata": {},
     "output_type": "display_data"
    },
    {
     "data": {
      "text/html": [
       "0.441666666666667"
      ],
      "text/latex": [
       "0.441666666666667"
      ],
      "text/markdown": [
       "0.441666666666667"
      ],
      "text/plain": [
       "[1] 0.4416667"
      ]
     },
     "metadata": {},
     "output_type": "display_data"
    },
    {
     "data": {
      "image/png": "[encoded data removed]",
      "text/plain": [
       "plot without title"
      ]
     },
     "metadata": {},
     "output_type": "display_data"
    }
   ],
   "source": [
    "model <- glm(d2_5 ~ definition + need + purpose \n",
    "              + interest, data =train, family = binomial)\n",
    "summary(model)\n",
    "\n",
    "\n",
    "anova(model, test=\"Chisq\")\n",
    "\n",
    "\n",
    "p <- predict(model, newdata=test, type=\"response\")\n",
    "pr <- prediction(p, test$d2_5)\n",
    "prf <- performance(pr, measure = \"tpr\", x.measure = \"fpr\")\n",
    "plot(prf)\n",
    "\n",
    "auc <- performance(pr, measure = \"auc\")\n",
    "auc <- auc@y.values[[1]]\n",
    "auc"
   ]
  },
  {
   "cell_type": "code",
   "execution_count": null,
   "metadata": {},
   "outputs": [],
   "source": [
    "model <- glm(d3_1 ~ definition + need + purpose \n",
    "              + interest, data =train, family = binomial)\n",
    "summary(model)\n",
    "\n",
    "\n",
    "anova(model, test=\"Chisq\")\n",
    "\n",
    "\n",
    "p <- predict(model, newdata=test, type=\"response\")\n",
    "pr <- prediction(p, test$d3_1)\n",
    "prf <- performance(pr, measure = \"tpr\", x.measure = \"fpr\")\n",
    "plot(prf)\n",
    "\n",
    "auc <- performance(pr, measure = \"auc\")\n",
    "auc <- auc@y.values[[1]]\n",
    "auc"
   ]
  },
  {
   "cell_type": "code",
   "execution_count": null,
   "metadata": {},
   "outputs": [],
   "source": [
    "model <- glm(d3_2 ~ definition + need + purpose \n",
    "              + interest, data =train, family = binomial)\n",
    "summary(model)\n",
    "\n",
    "\n",
    "anova(model, test=\"Chisq\")\n",
    "\n",
    "\n",
    "p <- predict(model, newdata=test, type=\"response\")\n",
    "pr <- prediction(p, test$d3_2)\n",
    "prf <- performance(pr, measure = \"tpr\", x.measure = \"fpr\")\n",
    "plot(prf)\n",
    "\n",
    "auc <- performance(pr, measure = \"auc\")\n",
    "auc <- auc@y.values[[1]]\n",
    "auc"
   ]
  },
  {
   "cell_type": "code",
   "execution_count": null,
   "metadata": {},
   "outputs": [],
   "source": [
    "model <- glm(d3_3 ~ definition + need + purpose \n",
    "              + interest, data =train, family = binomial)\n",
    "summary(model)\n",
    "\n",
    "\n",
    "anova(model, test=\"Chisq\")\n",
    "\n",
    "\n",
    "p <- predict(model, newdata=test, type=\"response\")\n",
    "pr <- prediction(p, test$d3_3)\n",
    "prf <- performance(pr, measure = \"tpr\", x.measure = \"fpr\")\n",
    "plot(prf)\n",
    "\n",
    "auc <- performance(pr, measure = \"auc\")\n",
    "auc <- auc@y.values[[1]]\n",
    "auc"
   ]
  },
  {
   "cell_type": "code",
   "execution_count": null,
   "metadata": {},
   "outputs": [],
   "source": [
    "model <- glm(d3_4 ~ definition + need + purpose \n",
    "              + interest, data =train, family = binomial)\n",
    "summary(model)\n",
    "\n",
    "\n",
    "anova(model, test=\"Chisq\")\n",
    "\n",
    "\n",
    "p <- predict(model, newdata=test, type=\"response\")\n",
    "pr <- prediction(p, test$d3_4)\n",
    "prf <- performance(pr, measure = \"tpr\", x.measure = \"fpr\")\n",
    "plot(prf)\n",
    "\n",
    "auc <- performance(pr, measure = \"auc\")\n",
    "auc <- auc@y.values[[1]]\n",
    "auc"
   ]
  },
  {
   "cell_type": "code",
   "execution_count": null,
   "metadata": {},
   "outputs": [],
   "source": [
    "model <- glm(d3_5 ~ definition + need + purpose \n",
    "              + interest, data =train, family = binomial)\n",
    "summary(model)\n",
    "\n",
    "\n",
    "anova(model, test=\"Chisq\")\n",
    "\n",
    "\n",
    "p <- predict(model, newdata=test, type=\"response\")\n",
    "pr <- prediction(p, test$d3_5)\n",
    "prf <- performance(pr, measure = \"tpr\", x.measure = \"fpr\")\n",
    "plot(prf)\n",
    "\n",
    "auc <- performance(pr, measure = \"auc\")\n",
    "auc <- auc@y.values[[1]]\n",
    "auc"
   ]
  },
  {
   "cell_type": "code",
   "execution_count": null,
   "metadata": {},
   "outputs": [],
   "source": []
  }
 ],
 "metadata": {
  "kernelspec": {
   "display_name": "R",
   "language": "R",
   "name": "ir"
  },
  "language_info": {
   "codemirror_mode": "r",
   "file_extension": ".r",
   "mimetype": "text/x-r-source",
   "name": "R",
   "pygments_lexer": "r",
   "version": "3.6.1"
  }
 },
 "nbformat": 4,
 "nbformat_minor": 4
}
