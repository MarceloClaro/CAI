{
 "cells": [
  {
   "cell_type": "code",
   "execution_count": 1,
   "metadata": {},
   "outputs": [
    {
     "name": "stderr",
     "output_type": "stream",
     "text": [
      "Warning message:\n",
      "\"package 'ROCR' was built under R version 3.6.3\"Loading required package: gplots\n",
      "Warning message:\n",
      "\"package 'gplots' was built under R version 3.6.3\"\n",
      "Attaching package: 'gplots'\n",
      "\n",
      "The following object is masked from 'package:stats':\n",
      "\n",
      "    lowess\n",
      "\n",
      "Warning message:\n",
      "\"package 'dplyr' was built under R version 3.6.3\"\n",
      "Attaching package: 'dplyr'\n",
      "\n",
      "The following objects are masked from 'package:stats':\n",
      "\n",
      "    filter, lag\n",
      "\n",
      "The following objects are masked from 'package:base':\n",
      "\n",
      "    intersect, setdiff, setequal, union\n",
      "\n"
     ]
    }
   ],
   "source": [
    "library(ROCR)\n",
    "library(dplyr)"
   ]
  },
  {
   "cell_type": "code",
   "execution_count": 2,
   "metadata": {},
   "outputs": [],
   "source": [
    "survey <- read.csv('전처리/1번설문/change_bright.csv')"
   ]
  },
  {
   "cell_type": "code",
   "execution_count": 3,
   "metadata": {},
   "outputs": [
    {
     "name": "stdout",
     "output_type": "stream",
     "text": [
      "'data.frame':\t117 obs. of  13 variables:\n",
      " $ X          : int  0 1 2 3 4 5 6 7 8 9 ...\n",
      " $ sex        : Factor w/ 2 levels \"Female\",\"Male\": 2 1 1 1 1 1 1 2 1 1 ...\n",
      " $ age_class  : int  20 20 20 20 20 20 20 20 20 20 ...\n",
      " $ definition : Factor w/ 2 levels \"bright\",\"harmony\": 2 1 1 2 1 2 2 2 2 1 ...\n",
      " $ need       : Factor w/ 2 levels \"bright\",\"harmony\": 2 2 1 2 1 2 2 2 2 1 ...\n",
      " $ purpose    : Factor w/ 3 levels \"clothes\",\"cosmetic\",..: 1 1 1 1 3 3 3 1 1 1 ...\n",
      " $ interest   : int  5 5 3 3 4 2 5 3 4 4 ...\n",
      " $ comp       : int  4 1 2 5 4 3 1 1 1 5 ...\n",
      " $ triangle1  : int  5 1 4 5 2 4 4 1 4 5 ...\n",
      " $ triangle2  : int  2 2 1 4 1 1 5 3 1 2 ...\n",
      " $ doubleness1: int  3 2 2 5 1 2 3 1 1 2 ...\n",
      " $ doubleness2: int  2 3 1 4 2 2 3 5 2 1 ...\n",
      " $ doubleness3: int  2 2 2 1 2 2 3 5 2 5 ...\n"
     ]
    },
    {
     "data": {
      "text/html": [
       "<table>\n",
       "<thead><tr><th scope=col>X</th><th scope=col>sex</th><th scope=col>age_class</th><th scope=col>definition</th><th scope=col>need</th><th scope=col>purpose</th><th scope=col>interest</th><th scope=col>comp</th><th scope=col>triangle1</th><th scope=col>triangle2</th><th scope=col>doubleness1</th><th scope=col>doubleness2</th><th scope=col>doubleness3</th></tr></thead>\n",
       "<tbody>\n",
       "\t<tr><td>0      </td><td>Male   </td><td>20     </td><td>harmony</td><td>harmony</td><td>clothes</td><td>5      </td><td>4      </td><td>5      </td><td>2      </td><td>3      </td><td>2      </td><td>2      </td></tr>\n",
       "\t<tr><td>1      </td><td>Female </td><td>20     </td><td>bright </td><td>harmony</td><td>clothes</td><td>5      </td><td>1      </td><td>1      </td><td>2      </td><td>2      </td><td>3      </td><td>2      </td></tr>\n",
       "\t<tr><td>2      </td><td>Female </td><td>20     </td><td>bright </td><td>bright </td><td>clothes</td><td>3      </td><td>2      </td><td>4      </td><td>1      </td><td>2      </td><td>1      </td><td>2      </td></tr>\n",
       "\t<tr><td>3      </td><td>Female </td><td>20     </td><td>harmony</td><td>harmony</td><td>clothes</td><td>3      </td><td>5      </td><td>5      </td><td>4      </td><td>5      </td><td>4      </td><td>1      </td></tr>\n",
       "\t<tr><td>4      </td><td>Female </td><td>20     </td><td>bright </td><td>bright </td><td>etc    </td><td>4      </td><td>4      </td><td>2      </td><td>1      </td><td>1      </td><td>2      </td><td>2      </td></tr>\n",
       "\t<tr><td>5      </td><td>Female </td><td>20     </td><td>harmony</td><td>harmony</td><td>etc    </td><td>2      </td><td>3      </td><td>4      </td><td>1      </td><td>2      </td><td>2      </td><td>2      </td></tr>\n",
       "</tbody>\n",
       "</table>\n"
      ],
      "text/latex": [
       "\\begin{tabular}{r|lllllllllllll}\n",
       " X & sex & age\\_class & definition & need & purpose & interest & comp & triangle1 & triangle2 & doubleness1 & doubleness2 & doubleness3\\\\\n",
       "\\hline\n",
       "\t 0       & Male    & 20      & harmony & harmony & clothes & 5       & 4       & 5       & 2       & 3       & 2       & 2      \\\\\n",
       "\t 1       & Female  & 20      & bright  & harmony & clothes & 5       & 1       & 1       & 2       & 2       & 3       & 2      \\\\\n",
       "\t 2       & Female  & 20      & bright  & bright  & clothes & 3       & 2       & 4       & 1       & 2       & 1       & 2      \\\\\n",
       "\t 3       & Female  & 20      & harmony & harmony & clothes & 3       & 5       & 5       & 4       & 5       & 4       & 1      \\\\\n",
       "\t 4       & Female  & 20      & bright  & bright  & etc     & 4       & 4       & 2       & 1       & 1       & 2       & 2      \\\\\n",
       "\t 5       & Female  & 20      & harmony & harmony & etc     & 2       & 3       & 4       & 1       & 2       & 2       & 2      \\\\\n",
       "\\end{tabular}\n"
      ],
      "text/markdown": [
       "\n",
       "| X | sex | age_class | definition | need | purpose | interest | comp | triangle1 | triangle2 | doubleness1 | doubleness2 | doubleness3 |\n",
       "|---|---|---|---|---|---|---|---|---|---|---|---|---|\n",
       "| 0       | Male    | 20      | harmony | harmony | clothes | 5       | 4       | 5       | 2       | 3       | 2       | 2       |\n",
       "| 1       | Female  | 20      | bright  | harmony | clothes | 5       | 1       | 1       | 2       | 2       | 3       | 2       |\n",
       "| 2       | Female  | 20      | bright  | bright  | clothes | 3       | 2       | 4       | 1       | 2       | 1       | 2       |\n",
       "| 3       | Female  | 20      | harmony | harmony | clothes | 3       | 5       | 5       | 4       | 5       | 4       | 1       |\n",
       "| 4       | Female  | 20      | bright  | bright  | etc     | 4       | 4       | 2       | 1       | 1       | 2       | 2       |\n",
       "| 5       | Female  | 20      | harmony | harmony | etc     | 2       | 3       | 4       | 1       | 2       | 2       | 2       |\n",
       "\n"
      ],
      "text/plain": [
       "  X sex    age_class definition need    purpose interest comp triangle1\n",
       "1 0 Male   20        harmony    harmony clothes 5        4    5        \n",
       "2 1 Female 20        bright     harmony clothes 5        1    1        \n",
       "3 2 Female 20        bright     bright  clothes 3        2    4        \n",
       "4 3 Female 20        harmony    harmony clothes 3        5    5        \n",
       "5 4 Female 20        bright     bright  etc     4        4    2        \n",
       "6 5 Female 20        harmony    harmony etc     2        3    4        \n",
       "  triangle2 doubleness1 doubleness2 doubleness3\n",
       "1 2         3           2           2          \n",
       "2 2         2           3           2          \n",
       "3 1         2           1           2          \n",
       "4 4         5           4           1          \n",
       "5 1         1           2           2          \n",
       "6 1         2           2           2          "
      ]
     },
     "metadata": {},
     "output_type": "display_data"
    }
   ],
   "source": [
    "str(survey)\n",
    "head(survey)"
   ]
  },
  {
   "cell_type": "code",
   "execution_count": 4,
   "metadata": {},
   "outputs": [],
   "source": [
    "survey$comp1 <- case_when(\n",
    "    survey$comp == 1 ~ 1,\n",
    "    survey$comp != 1 ~ 0)\n",
    "\n",
    "survey$comp2 <- case_when(\n",
    "    survey$comp == 2 ~ 1,\n",
    "    survey$comp != 2 ~ 0)\n",
    "\n",
    "survey$comp3 <- case_when(\n",
    "    survey$comp == 3 ~ 1,\n",
    "    survey$comp != 3 ~ 0)\n",
    "\n",
    "survey$comp4 <- case_when(\n",
    "    survey$comp == 4 ~ 1,\n",
    "    survey$comp != 4 ~ 0)\n",
    "\n",
    "survey$comp5 <- case_when(\n",
    "    survey$comp == 5 ~ 1,\n",
    "    survey$comp != 5 ~ 0)\n",
    "\n",
    "survey$t1_1 <- case_when(\n",
    "    survey$triangle1 == 1 ~ 1,\n",
    "    survey$triangle1 != 1 ~ 0)\n",
    "\n",
    "survey$t1_2 <- case_when(\n",
    "    survey$triangle1 == 2 ~ 1,\n",
    "    survey$triangle1 != 2 ~ 0)\n",
    "\n",
    "survey$t1_3 <- case_when(\n",
    "    survey$triangle1 == 3 ~ 1,\n",
    "    survey$triangle1 != 3 ~ 0)\n",
    "\n",
    "survey$t1_4 <- case_when(\n",
    "    survey$triangle1 == 4 ~ 1,\n",
    "    survey$triangle1 != 4 ~ 0)\n",
    "\n",
    "survey$t1_5 <- case_when(\n",
    "    survey$triangle1 == 5 ~ 1,\n",
    "    survey$triangle1 != 5 ~ 0)\n",
    "\t\n",
    "survey$t2_1 <- case_when(\n",
    "    survey$triangle2 == 1 ~ 1,\n",
    "    survey$triangle2 != 1 ~ 0)\n",
    "\n",
    "survey$t2_2 <- case_when(\n",
    "    survey$triangle2 == 2 ~ 1,\n",
    "    survey$triangle2 != 2 ~ 0)\n",
    "\n",
    "survey$t2_3 <- case_when(\n",
    "    survey$triangle2 == 3 ~ 1,\n",
    "    survey$triangle2 != 3 ~ 0)\n",
    "\n",
    "survey$t2_4 <- case_when(\n",
    "    survey$triangle2 == 4 ~ 1,\n",
    "    survey$triangle2 != 4 ~ 0)\n",
    "\n",
    "survey$t2_5 <- case_when(\n",
    "    survey$triangle2 == 5 ~ 1,\n",
    "    survey$triangle2 != 5 ~ 0)\n",
    "\t\n",
    "survey$d1_1 <- case_when(\n",
    "    survey$doubleness1 == 1 ~ 1,\n",
    "    survey$doubleness1 != 1 ~ 0)\n",
    "\n",
    "survey$d1_2 <- case_when(\n",
    "    survey$doubleness1 == 2 ~ 1,\n",
    "    survey$doubleness1 != 2 ~ 0)\n",
    "\n",
    "survey$d1_3 <- case_when(\n",
    "    survey$doubleness1 == 3 ~ 1,\n",
    "    survey$doubleness1 != 3 ~ 0)\n",
    "\n",
    "survey$d1_4 <- case_when(\n",
    "    survey$doubleness1 == 4 ~ 1,\n",
    "    survey$doubleness1 != 4 ~ 0)\n",
    "\n",
    "survey$d1_5 <- case_when(\n",
    "    survey$doubleness1 == 5 ~ 1,\n",
    "    survey$doubleness1 != 5 ~ 0)\n",
    "\t\n",
    "survey$d2_1 <- case_when(\n",
    "    survey$doubleness2 == 1 ~ 1,\n",
    "    survey$doubleness2 != 1 ~ 0)\n",
    "\n",
    "survey$d2_2 <- case_when(\n",
    "    survey$doubleness2 == 2 ~ 1,\n",
    "    survey$doubleness2 != 2 ~ 0)\n",
    "\n",
    "survey$d2_3 <- case_when(\n",
    "    survey$doubleness2 == 3 ~ 1,\n",
    "    survey$doubleness2 != 3 ~ 0)\n",
    "\n",
    "survey$d2_4 <- case_when(\n",
    "    survey$doubleness2 == 4 ~ 1,\n",
    "    survey$doubleness2 != 4 ~ 0)\n",
    "\n",
    "survey$d2_5 <- case_when(\n",
    "    survey$doubleness2 == 5 ~ 1,\n",
    "    survey$doubleness2 != 5 ~ 0)\n",
    "\t\n",
    "survey$d3_1 <- case_when(\n",
    "    survey$doubleness3 == 1 ~ 1,\n",
    "    survey$doubleness3 != 1 ~ 0)\n",
    "\n",
    "survey$d3_2 <- case_when(\n",
    "    survey$doubleness3 == 2 ~ 1,\n",
    "    survey$doubleness3 != 2 ~ 0)\n",
    "\n",
    "survey$d3_3 <- case_when(\n",
    "    survey$doubleness3 == 3 ~ 1,\n",
    "    survey$doubleness3 != 3 ~ 0)\n",
    "\n",
    "survey$d3_4 <- case_when(\n",
    "    survey$doubleness3 == 4 ~ 1,\n",
    "    survey$doubleness3 != 4 ~ 0)\n",
    "\n",
    "survey$d3_5 <- case_when(\n",
    "    survey$doubleness3 == 5 ~ 1,\n",
    "    survey$doubleness3 != 5 ~ 0)"
   ]
  },
  {
   "cell_type": "code",
   "execution_count": 5,
   "metadata": {},
   "outputs": [
    {
     "data": {
      "text/html": [
       "<table>\n",
       "<thead><tr><th scope=col>X</th><th scope=col>sex</th><th scope=col>age_class</th><th scope=col>definition</th><th scope=col>need</th><th scope=col>purpose</th><th scope=col>interest</th><th scope=col>comp</th><th scope=col>triangle1</th><th scope=col>triangle2</th><th scope=col>...</th><th scope=col>d2_1</th><th scope=col>d2_2</th><th scope=col>d2_3</th><th scope=col>d2_4</th><th scope=col>d2_5</th><th scope=col>d3_1</th><th scope=col>d3_2</th><th scope=col>d3_3</th><th scope=col>d3_4</th><th scope=col>d3_5</th></tr></thead>\n",
       "<tbody>\n",
       "\t<tr><td>0      </td><td>Male   </td><td>20     </td><td>harmony</td><td>harmony</td><td>clothes</td><td>5      </td><td>4      </td><td>5      </td><td>2      </td><td>...    </td><td>0      </td><td>1      </td><td>0      </td><td>0      </td><td>0      </td><td>0      </td><td>1      </td><td>0      </td><td>0      </td><td>0      </td></tr>\n",
       "\t<tr><td>1      </td><td>Female </td><td>20     </td><td>bright </td><td>harmony</td><td>clothes</td><td>5      </td><td>1      </td><td>1      </td><td>2      </td><td>...    </td><td>0      </td><td>0      </td><td>1      </td><td>0      </td><td>0      </td><td>0      </td><td>1      </td><td>0      </td><td>0      </td><td>0      </td></tr>\n",
       "\t<tr><td>2      </td><td>Female </td><td>20     </td><td>bright </td><td>bright </td><td>clothes</td><td>3      </td><td>2      </td><td>4      </td><td>1      </td><td>...    </td><td>1      </td><td>0      </td><td>0      </td><td>0      </td><td>0      </td><td>0      </td><td>1      </td><td>0      </td><td>0      </td><td>0      </td></tr>\n",
       "\t<tr><td>3      </td><td>Female </td><td>20     </td><td>harmony</td><td>harmony</td><td>clothes</td><td>3      </td><td>5      </td><td>5      </td><td>4      </td><td>...    </td><td>0      </td><td>0      </td><td>0      </td><td>1      </td><td>0      </td><td>1      </td><td>0      </td><td>0      </td><td>0      </td><td>0      </td></tr>\n",
       "\t<tr><td>4      </td><td>Female </td><td>20     </td><td>bright </td><td>bright </td><td>etc    </td><td>4      </td><td>4      </td><td>2      </td><td>1      </td><td>...    </td><td>0      </td><td>1      </td><td>0      </td><td>0      </td><td>0      </td><td>0      </td><td>1      </td><td>0      </td><td>0      </td><td>0      </td></tr>\n",
       "\t<tr><td>5      </td><td>Female </td><td>20     </td><td>harmony</td><td>harmony</td><td>etc    </td><td>2      </td><td>3      </td><td>4      </td><td>1      </td><td>...    </td><td>0      </td><td>1      </td><td>0      </td><td>0      </td><td>0      </td><td>0      </td><td>1      </td><td>0      </td><td>0      </td><td>0      </td></tr>\n",
       "</tbody>\n",
       "</table>\n"
      ],
      "text/latex": [
       "\\begin{tabular}{r|lllllllllllllllllllllllllllllllllllllllllll}\n",
       " X & sex & age\\_class & definition & need & purpose & interest & comp & triangle1 & triangle2 & ... & d2\\_1 & d2\\_2 & d2\\_3 & d2\\_4 & d2\\_5 & d3\\_1 & d3\\_2 & d3\\_3 & d3\\_4 & d3\\_5\\\\\n",
       "\\hline\n",
       "\t 0       & Male    & 20      & harmony & harmony & clothes & 5       & 4       & 5       & 2       & ...     & 0       & 1       & 0       & 0       & 0       & 0       & 1       & 0       & 0       & 0      \\\\\n",
       "\t 1       & Female  & 20      & bright  & harmony & clothes & 5       & 1       & 1       & 2       & ...     & 0       & 0       & 1       & 0       & 0       & 0       & 1       & 0       & 0       & 0      \\\\\n",
       "\t 2       & Female  & 20      & bright  & bright  & clothes & 3       & 2       & 4       & 1       & ...     & 1       & 0       & 0       & 0       & 0       & 0       & 1       & 0       & 0       & 0      \\\\\n",
       "\t 3       & Female  & 20      & harmony & harmony & clothes & 3       & 5       & 5       & 4       & ...     & 0       & 0       & 0       & 1       & 0       & 1       & 0       & 0       & 0       & 0      \\\\\n",
       "\t 4       & Female  & 20      & bright  & bright  & etc     & 4       & 4       & 2       & 1       & ...     & 0       & 1       & 0       & 0       & 0       & 0       & 1       & 0       & 0       & 0      \\\\\n",
       "\t 5       & Female  & 20      & harmony & harmony & etc     & 2       & 3       & 4       & 1       & ...     & 0       & 1       & 0       & 0       & 0       & 0       & 1       & 0       & 0       & 0      \\\\\n",
       "\\end{tabular}\n"
      ],
      "text/markdown": [
       "\n",
       "| X | sex | age_class | definition | need | purpose | interest | comp | triangle1 | triangle2 | ... | d2_1 | d2_2 | d2_3 | d2_4 | d2_5 | d3_1 | d3_2 | d3_3 | d3_4 | d3_5 |\n",
       "|---|---|---|---|---|---|---|---|---|---|---|---|---|---|---|---|---|---|---|---|---|\n",
       "| 0       | Male    | 20      | harmony | harmony | clothes | 5       | 4       | 5       | 2       | ...     | 0       | 1       | 0       | 0       | 0       | 0       | 1       | 0       | 0       | 0       |\n",
       "| 1       | Female  | 20      | bright  | harmony | clothes | 5       | 1       | 1       | 2       | ...     | 0       | 0       | 1       | 0       | 0       | 0       | 1       | 0       | 0       | 0       |\n",
       "| 2       | Female  | 20      | bright  | bright  | clothes | 3       | 2       | 4       | 1       | ...     | 1       | 0       | 0       | 0       | 0       | 0       | 1       | 0       | 0       | 0       |\n",
       "| 3       | Female  | 20      | harmony | harmony | clothes | 3       | 5       | 5       | 4       | ...     | 0       | 0       | 0       | 1       | 0       | 1       | 0       | 0       | 0       | 0       |\n",
       "| 4       | Female  | 20      | bright  | bright  | etc     | 4       | 4       | 2       | 1       | ...     | 0       | 1       | 0       | 0       | 0       | 0       | 1       | 0       | 0       | 0       |\n",
       "| 5       | Female  | 20      | harmony | harmony | etc     | 2       | 3       | 4       | 1       | ...     | 0       | 1       | 0       | 0       | 0       | 0       | 1       | 0       | 0       | 0       |\n",
       "\n"
      ],
      "text/plain": [
       "  X sex    age_class definition need    purpose interest comp triangle1\n",
       "1 0 Male   20        harmony    harmony clothes 5        4    5        \n",
       "2 1 Female 20        bright     harmony clothes 5        1    1        \n",
       "3 2 Female 20        bright     bright  clothes 3        2    4        \n",
       "4 3 Female 20        harmony    harmony clothes 3        5    5        \n",
       "5 4 Female 20        bright     bright  etc     4        4    2        \n",
       "6 5 Female 20        harmony    harmony etc     2        3    4        \n",
       "  triangle2 ... d2_1 d2_2 d2_3 d2_4 d2_5 d3_1 d3_2 d3_3 d3_4 d3_5\n",
       "1 2         ... 0    1    0    0    0    0    1    0    0    0   \n",
       "2 2         ... 0    0    1    0    0    0    1    0    0    0   \n",
       "3 1         ... 1    0    0    0    0    0    1    0    0    0   \n",
       "4 4         ... 0    0    0    1    0    1    0    0    0    0   \n",
       "5 1         ... 0    1    0    0    0    0    1    0    0    0   \n",
       "6 1         ... 0    1    0    0    0    0    1    0    0    0   "
      ]
     },
     "metadata": {},
     "output_type": "display_data"
    }
   ],
   "source": [
    "head(survey)"
   ]
  },
  {
   "cell_type": "code",
   "execution_count": 6,
   "metadata": {},
   "outputs": [],
   "source": [
    "train <- survey[1:82, ]\n",
    "test <- survey[83:117, ]"
   ]
  },
  {
   "cell_type": "code",
   "execution_count": 7,
   "metadata": {},
   "outputs": [
    {
     "data": {
      "text/plain": [
       "\n",
       "Call:\n",
       "glm(formula = comp1 ~ sex + definition + need + purpose + interest, \n",
       "    family = binomial, data = train)\n",
       "\n",
       "Deviance Residuals: \n",
       "    Min       1Q   Median       3Q      Max  \n",
       "-1.3117  -0.9902  -0.7694   1.1187   1.9909  \n",
       "\n",
       "Coefficients:\n",
       "                   Estimate Std. Error z value Pr(>|z|)  \n",
       "(Intercept)       -2.511345   1.167017  -2.152   0.0314 *\n",
       "sexMale           -0.394571   0.692242  -0.570   0.5687  \n",
       "definitionharmony  0.304199   0.660180   0.461   0.6450  \n",
       "needharmony        0.977522   0.584885   1.671   0.0947 .\n",
       "purposecosmetic   -0.217876   0.729561  -0.299   0.7652  \n",
       "purposeetc         0.003857   0.609881   0.006   0.9950  \n",
       "interest           0.384019   0.252495   1.521   0.1283  \n",
       "---\n",
       "Signif. codes:  0 '***' 0.001 '**' 0.01 '*' 0.05 '.' 0.1 ' ' 1\n",
       "\n",
       "(Dispersion parameter for binomial family taken to be 1)\n",
       "\n",
       "    Null deviance: 110.53  on 81  degrees of freedom\n",
       "Residual deviance: 103.28  on 75  degrees of freedom\n",
       "AIC: 117.28\n",
       "\n",
       "Number of Fisher Scoring iterations: 4\n"
      ]
     },
     "metadata": {},
     "output_type": "display_data"
    }
   ],
   "source": [
    "model <- glm(comp1 ~ sex + definition + need + purpose \n",
    "              + interest, data =train, family = binomial)\n",
    "summary(model)"
   ]
  },
  {
   "cell_type": "code",
   "execution_count": 8,
   "metadata": {},
   "outputs": [
    {
     "data": {
      "text/html": [
       "<table>\n",
       "<thead><tr><th></th><th scope=col>Df</th><th scope=col>Deviance</th><th scope=col>Resid. Df</th><th scope=col>Resid. Dev</th><th scope=col>Pr(&gt;Chi)</th></tr></thead>\n",
       "<tbody>\n",
       "\t<tr><th scope=row>NULL</th><td>NA        </td><td>        NA</td><td>81        </td><td>110.5341  </td><td>        NA</td></tr>\n",
       "\t<tr><th scope=row>sex</th><td> 1        </td><td>0.01765653</td><td>80        </td><td>110.5164  </td><td>0.89428996</td></tr>\n",
       "\t<tr><th scope=row>definition</th><td> 1        </td><td>1.49059270</td><td>79        </td><td>109.0258  </td><td>0.22212452</td></tr>\n",
       "\t<tr><th scope=row>need</th><td> 1        </td><td>3.21671695</td><td>78        </td><td>105.8091  </td><td>0.07288968</td></tr>\n",
       "\t<tr><th scope=row>purpose</th><td> 2        </td><td>0.09965430</td><td>76        </td><td>105.7094  </td><td>0.95139386</td></tr>\n",
       "\t<tr><th scope=row>interest</th><td> 1        </td><td>2.43157834</td><td>75        </td><td>103.2779  </td><td>0.11891311</td></tr>\n",
       "</tbody>\n",
       "</table>\n"
      ],
      "text/latex": [
       "\\begin{tabular}{r|lllll}\n",
       "  & Df & Deviance & Resid. Df & Resid. Dev & Pr(>Chi)\\\\\n",
       "\\hline\n",
       "\tNULL & NA         &         NA & 81         & 110.5341   &         NA\\\\\n",
       "\tsex &  1         & 0.01765653 & 80         & 110.5164   & 0.89428996\\\\\n",
       "\tdefinition &  1         & 1.49059270 & 79         & 109.0258   & 0.22212452\\\\\n",
       "\tneed &  1         & 3.21671695 & 78         & 105.8091   & 0.07288968\\\\\n",
       "\tpurpose &  2         & 0.09965430 & 76         & 105.7094   & 0.95139386\\\\\n",
       "\tinterest &  1         & 2.43157834 & 75         & 103.2779   & 0.11891311\\\\\n",
       "\\end{tabular}\n"
      ],
      "text/markdown": [
       "\n",
       "| <!--/--> | Df | Deviance | Resid. Df | Resid. Dev | Pr(>Chi) |\n",
       "|---|---|---|---|---|---|\n",
       "| NULL | NA         |         NA | 81         | 110.5341   |         NA |\n",
       "| sex |  1         | 0.01765653 | 80         | 110.5164   | 0.89428996 |\n",
       "| definition |  1         | 1.49059270 | 79         | 109.0258   | 0.22212452 |\n",
       "| need |  1         | 3.21671695 | 78         | 105.8091   | 0.07288968 |\n",
       "| purpose |  2         | 0.09965430 | 76         | 105.7094   | 0.95139386 |\n",
       "| interest |  1         | 2.43157834 | 75         | 103.2779   | 0.11891311 |\n",
       "\n"
      ],
      "text/plain": [
       "           Df Deviance   Resid. Df Resid. Dev Pr(>Chi)  \n",
       "NULL       NA         NA 81        110.5341           NA\n",
       "sex         1 0.01765653 80        110.5164   0.89428996\n",
       "definition  1 1.49059270 79        109.0258   0.22212452\n",
       "need        1 3.21671695 78        105.8091   0.07288968\n",
       "purpose     2 0.09965430 76        105.7094   0.95139386\n",
       "interest    1 2.43157834 75        103.2779   0.11891311"
      ]
     },
     "metadata": {},
     "output_type": "display_data"
    }
   ],
   "source": [
    "anova(model, test=\"Chisq\")"
   ]
  },
  {
   "cell_type": "code",
   "execution_count": 9,
   "metadata": {
    "scrolled": false
   },
   "outputs": [
    {
     "data": {
      "image/png": "[encoded data removed]",
      "text/plain": [
       "plot without title"
      ]
     },
     "metadata": {},
     "output_type": "display_data"
    }
   ],
   "source": [
    "p <- predict(model, newdata=test, type=\"response\")\n",
    "pr <- prediction(p, test$comp1)\n",
    "prf <- performance(pr, measure = \"tpr\", x.measure = \"fpr\")\n",
    "plot(prf)"
   ]
  },
  {
   "cell_type": "code",
   "execution_count": 10,
   "metadata": {},
   "outputs": [
    {
     "data": {
      "text/html": [
       "0.494318181818182"
      ],
      "text/latex": [
       "0.494318181818182"
      ],
      "text/markdown": [
       "0.494318181818182"
      ],
      "text/plain": [
       "[1] 0.4943182"
      ]
     },
     "metadata": {},
     "output_type": "display_data"
    }
   ],
   "source": [
    "auc <- performance(pr, measure = \"auc\")\n",
    "auc <- auc@y.values[[1]]\n",
    "auc"
   ]
  },
  {
   "cell_type": "code",
   "execution_count": 11,
   "metadata": {},
   "outputs": [
    {
     "data": {
      "text/plain": [
       "\n",
       "Call:\n",
       "glm(formula = comp2 ~ sex + definition + need + purpose + interest, \n",
       "    family = binomial, data = train)\n",
       "\n",
       "Deviance Residuals: \n",
       "    Min       1Q   Median       3Q      Max  \n",
       "-0.8950  -0.6924  -0.4765  -0.3774   2.3332  \n",
       "\n",
       "Coefficients:\n",
       "                  Estimate Std. Error z value Pr(>|z|)\n",
       "(Intercept)       -0.68117    1.37622  -0.495    0.621\n",
       "sexMale            0.25881    0.92306   0.280    0.779\n",
       "definitionharmony -0.19006    0.79799  -0.238    0.812\n",
       "needharmony       -1.15767    0.71244  -1.625    0.104\n",
       "purposecosmetic    0.06009    0.91543   0.066    0.948\n",
       "purposeetc        -0.43351    0.85598  -0.506    0.613\n",
       "interest          -0.04788    0.31684  -0.151    0.880\n",
       "\n",
       "(Dispersion parameter for binomial family taken to be 1)\n",
       "\n",
       "    Null deviance: 71.707  on 81  degrees of freedom\n",
       "Residual deviance: 67.465  on 75  degrees of freedom\n",
       "AIC: 81.465\n",
       "\n",
       "Number of Fisher Scoring iterations: 5\n"
      ]
     },
     "metadata": {},
     "output_type": "display_data"
    },
    {
     "data": {
      "text/html": [
       "<table>\n",
       "<thead><tr><th></th><th scope=col>Df</th><th scope=col>Deviance</th><th scope=col>Resid. Df</th><th scope=col>Resid. Dev</th><th scope=col>Pr(&gt;Chi)</th></tr></thead>\n",
       "<tbody>\n",
       "\t<tr><th scope=row>NULL</th><td>NA        </td><td>        NA</td><td>81        </td><td>71.70658  </td><td>        NA</td></tr>\n",
       "\t<tr><th scope=row>sex</th><td> 1        </td><td>0.01131632</td><td>80        </td><td>71.69526  </td><td>0.91528228</td></tr>\n",
       "\t<tr><th scope=row>definition</th><td> 1        </td><td>0.91809406</td><td>79        </td><td>70.77717  </td><td>0.33797591</td></tr>\n",
       "\t<tr><th scope=row>need</th><td> 1        </td><td>2.87557306</td><td>78        </td><td>67.90159  </td><td>0.08993296</td></tr>\n",
       "\t<tr><th scope=row>purpose</th><td> 2        </td><td>0.41428486</td><td>76        </td><td>67.48731  </td><td>0.81290386</td></tr>\n",
       "\t<tr><th scope=row>interest</th><td> 1        </td><td>0.02279875</td><td>75        </td><td>67.46451  </td><td>0.87998159</td></tr>\n",
       "</tbody>\n",
       "</table>\n"
      ],
      "text/latex": [
       "\\begin{tabular}{r|lllll}\n",
       "  & Df & Deviance & Resid. Df & Resid. Dev & Pr(>Chi)\\\\\n",
       "\\hline\n",
       "\tNULL & NA         &         NA & 81         & 71.70658   &         NA\\\\\n",
       "\tsex &  1         & 0.01131632 & 80         & 71.69526   & 0.91528228\\\\\n",
       "\tdefinition &  1         & 0.91809406 & 79         & 70.77717   & 0.33797591\\\\\n",
       "\tneed &  1         & 2.87557306 & 78         & 67.90159   & 0.08993296\\\\\n",
       "\tpurpose &  2         & 0.41428486 & 76         & 67.48731   & 0.81290386\\\\\n",
       "\tinterest &  1         & 0.02279875 & 75         & 67.46451   & 0.87998159\\\\\n",
       "\\end{tabular}\n"
      ],
      "text/markdown": [
       "\n",
       "| <!--/--> | Df | Deviance | Resid. Df | Resid. Dev | Pr(>Chi) |\n",
       "|---|---|---|---|---|---|\n",
       "| NULL | NA         |         NA | 81         | 71.70658   |         NA |\n",
       "| sex |  1         | 0.01131632 | 80         | 71.69526   | 0.91528228 |\n",
       "| definition |  1         | 0.91809406 | 79         | 70.77717   | 0.33797591 |\n",
       "| need |  1         | 2.87557306 | 78         | 67.90159   | 0.08993296 |\n",
       "| purpose |  2         | 0.41428486 | 76         | 67.48731   | 0.81290386 |\n",
       "| interest |  1         | 0.02279875 | 75         | 67.46451   | 0.87998159 |\n",
       "\n"
      ],
      "text/plain": [
       "           Df Deviance   Resid. Df Resid. Dev Pr(>Chi)  \n",
       "NULL       NA         NA 81        71.70658           NA\n",
       "sex         1 0.01131632 80        71.69526   0.91528228\n",
       "definition  1 0.91809406 79        70.77717   0.33797591\n",
       "need        1 2.87557306 78        67.90159   0.08993296\n",
       "purpose     2 0.41428486 76        67.48731   0.81290386\n",
       "interest    1 0.02279875 75        67.46451   0.87998159"
      ]
     },
     "metadata": {},
     "output_type": "display_data"
    },
    {
     "data": {
      "text/html": [
       "0.482758620689655"
      ],
      "text/latex": [
       "0.482758620689655"
      ],
      "text/markdown": [
       "0.482758620689655"
      ],
      "text/plain": [
       "[1] 0.4827586"
      ]
     },
     "metadata": {},
     "output_type": "display_data"
    },
    {
     "data": {
      "image/png": "[encoded data removed]",
      "text/plain": [
       "plot without title"
      ]
     },
     "metadata": {},
     "output_type": "display_data"
    }
   ],
   "source": [
    "model <- glm(comp2 ~ sex + definition + need + purpose \n",
    "              + interest, data =train, family = binomial)\n",
    "summary(model)\n",
    "\n",
    "\n",
    "anova(model, test=\"Chisq\")\n",
    "\n",
    "\n",
    "p <- predict(model, newdata=test, type=\"response\")\n",
    "pr <- prediction(p, test$comp2)\n",
    "prf <- performance(pr, measure = \"tpr\", x.measure = \"fpr\")\n",
    "plot(prf)\n",
    "\n",
    "auc <- performance(pr, measure = \"auc\")\n",
    "auc <- auc@y.values[[1]]\n",
    "auc"
   ]
  },
  {
   "cell_type": "code",
   "execution_count": 12,
   "metadata": {},
   "outputs": [
    {
     "data": {
      "text/plain": [
       "\n",
       "Call:\n",
       "glm(formula = comp3 ~ sex + definition + need + purpose + interest, \n",
       "    family = binomial, data = train)\n",
       "\n",
       "Deviance Residuals: \n",
       "    Min       1Q   Median       3Q      Max  \n",
       "-1.0982  -0.5886  -0.4340  -0.2698   2.5624  \n",
       "\n",
       "Coefficients:\n",
       "                  Estimate Std. Error z value Pr(>|z|)  \n",
       "(Intercept)        -0.2307     1.5169  -0.152   0.8791  \n",
       "sexMale            -0.9415     1.2886  -0.731   0.4650  \n",
       "definitionharmony  -0.4821     1.0174  -0.474   0.6356  \n",
       "needharmony         1.0084     0.9982   1.010   0.3124  \n",
       "purposecosmetic     0.6913     1.0116   0.683   0.4944  \n",
       "purposeetc          0.5146     0.9056   0.568   0.5699  \n",
       "interest           -0.6497     0.3588  -1.811   0.0702 .\n",
       "---\n",
       "Signif. codes:  0 '***' 0.001 '**' 0.01 '*' 0.05 '.' 0.1 ' ' 1\n",
       "\n",
       "(Dispersion parameter for binomial family taken to be 1)\n",
       "\n",
       "    Null deviance: 64.648  on 81  degrees of freedom\n",
       "Residual deviance: 58.237  on 75  degrees of freedom\n",
       "AIC: 72.237\n",
       "\n",
       "Number of Fisher Scoring iterations: 5\n"
      ]
     },
     "metadata": {},
     "output_type": "display_data"
    },
    {
     "data": {
      "text/html": [
       "<table>\n",
       "<thead><tr><th></th><th scope=col>Df</th><th scope=col>Deviance</th><th scope=col>Resid. Df</th><th scope=col>Resid. Dev</th><th scope=col>Pr(&gt;Chi)</th></tr></thead>\n",
       "<tbody>\n",
       "\t<tr><th scope=row>NULL</th><td>NA       </td><td>       NA</td><td>81       </td><td>64.64772 </td><td>       NA</td></tr>\n",
       "\t<tr><th scope=row>sex</th><td> 1       </td><td>1.4485326</td><td>80       </td><td>63.19919 </td><td>0.2287635</td></tr>\n",
       "\t<tr><th scope=row>definition</th><td> 1       </td><td>0.1271648</td><td>79       </td><td>63.07202 </td><td>0.7213900</td></tr>\n",
       "\t<tr><th scope=row>need</th><td> 1       </td><td>0.8995308</td><td>78       </td><td>62.17249 </td><td>0.3429075</td></tr>\n",
       "\t<tr><th scope=row>purpose</th><td> 2       </td><td>0.4379282</td><td>76       </td><td>61.73456 </td><td>0.8033506</td></tr>\n",
       "\t<tr><th scope=row>interest</th><td> 1       </td><td>3.4979943</td><td>75       </td><td>58.23657 </td><td>0.0614432</td></tr>\n",
       "</tbody>\n",
       "</table>\n"
      ],
      "text/latex": [
       "\\begin{tabular}{r|lllll}\n",
       "  & Df & Deviance & Resid. Df & Resid. Dev & Pr(>Chi)\\\\\n",
       "\\hline\n",
       "\tNULL & NA        &        NA & 81        & 64.64772  &        NA\\\\\n",
       "\tsex &  1        & 1.4485326 & 80        & 63.19919  & 0.2287635\\\\\n",
       "\tdefinition &  1        & 0.1271648 & 79        & 63.07202  & 0.7213900\\\\\n",
       "\tneed &  1        & 0.8995308 & 78        & 62.17249  & 0.3429075\\\\\n",
       "\tpurpose &  2        & 0.4379282 & 76        & 61.73456  & 0.8033506\\\\\n",
       "\tinterest &  1        & 3.4979943 & 75        & 58.23657  & 0.0614432\\\\\n",
       "\\end{tabular}\n"
      ],
      "text/markdown": [
       "\n",
       "| <!--/--> | Df | Deviance | Resid. Df | Resid. Dev | Pr(>Chi) |\n",
       "|---|---|---|---|---|---|\n",
       "| NULL | NA        |        NA | 81        | 64.64772  |        NA |\n",
       "| sex |  1        | 1.4485326 | 80        | 63.19919  | 0.2287635 |\n",
       "| definition |  1        | 0.1271648 | 79        | 63.07202  | 0.7213900 |\n",
       "| need |  1        | 0.8995308 | 78        | 62.17249  | 0.3429075 |\n",
       "| purpose |  2        | 0.4379282 | 76        | 61.73456  | 0.8033506 |\n",
       "| interest |  1        | 3.4979943 | 75        | 58.23657  | 0.0614432 |\n",
       "\n"
      ],
      "text/plain": [
       "           Df Deviance  Resid. Df Resid. Dev Pr(>Chi) \n",
       "NULL       NA        NA 81        64.64772          NA\n",
       "sex         1 1.4485326 80        63.19919   0.2287635\n",
       "definition  1 0.1271648 79        63.07202   0.7213900\n",
       "need        1 0.8995308 78        62.17249   0.3429075\n",
       "purpose     2 0.4379282 76        61.73456   0.8033506\n",
       "interest    1 3.4979943 75        58.23657   0.0614432"
      ]
     },
     "metadata": {},
     "output_type": "display_data"
    },
    {
     "data": {
      "text/html": [
       "0.485632183908046"
      ],
      "text/latex": [
       "0.485632183908046"
      ],
      "text/markdown": [
       "0.485632183908046"
      ],
      "text/plain": [
       "[1] 0.4856322"
      ]
     },
     "metadata": {},
     "output_type": "display_data"
    },
    {
     "data": {
      "image/png": "[encoded data removed]",
      "text/plain": [
       "plot without title"
      ]
     },
     "metadata": {},
     "output_type": "display_data"
    }
   ],
   "source": [
    "model <- glm(comp3 ~ sex + definition + need + purpose \n",
    "              + interest, data =train, family = binomial)\n",
    "summary(model)\n",
    "\n",
    "\n",
    "anova(model, test=\"Chisq\")\n",
    "\n",
    "\n",
    "p <- predict(model, newdata=test, type=\"response\")\n",
    "pr <- prediction(p, test$comp3)\n",
    "prf <- performance(pr, measure = \"tpr\", x.measure = \"fpr\")\n",
    "plot(prf)\n",
    "\n",
    "auc <- performance(pr, measure = \"auc\")\n",
    "auc <- auc@y.values[[1]]\n",
    "auc"
   ]
  },
  {
   "cell_type": "code",
   "execution_count": 13,
   "metadata": {},
   "outputs": [
    {
     "data": {
      "text/plain": [
       "\n",
       "Call:\n",
       "glm(formula = comp4 ~ sex + definition + need + purpose + interest, \n",
       "    family = binomial, data = train)\n",
       "\n",
       "Deviance Residuals: \n",
       "    Min       1Q   Median       3Q      Max  \n",
       "-1.1017  -0.5306  -0.3447  -0.2701   2.2370  \n",
       "\n",
       "Coefficients:\n",
       "                  Estimate Std. Error z value Pr(>|z|)  \n",
       "(Intercept)        -0.8437     1.6416  -0.514    0.607  \n",
       "sexMale             0.7282     1.0344   0.704    0.481  \n",
       "definitionharmony   0.2864     1.0047   0.285    0.776  \n",
       "needharmony        -1.7087     0.8754  -1.952    0.051 .\n",
       "purposecosmetic    -0.7984     1.2937  -0.617    0.537  \n",
       "purposeetc         -0.1477     1.0143  -0.146    0.884  \n",
       "interest           -0.1758     0.3807  -0.462    0.644  \n",
       "---\n",
       "Signif. codes:  0 '***' 0.001 '**' 0.01 '*' 0.05 '.' 0.1 ' ' 1\n",
       "\n",
       "(Dispersion parameter for binomial family taken to be 1)\n",
       "\n",
       "    Null deviance: 56.745  on 81  degrees of freedom\n",
       "Residual deviance: 51.010  on 75  degrees of freedom\n",
       "AIC: 65.01\n",
       "\n",
       "Number of Fisher Scoring iterations: 5\n"
      ]
     },
     "metadata": {},
     "output_type": "display_data"
    },
    {
     "data": {
      "text/html": [
       "<table>\n",
       "<thead><tr><th></th><th scope=col>Df</th><th scope=col>Deviance</th><th scope=col>Resid. Df</th><th scope=col>Resid. Dev</th><th scope=col>Pr(&gt;Chi)</th></tr></thead>\n",
       "<tbody>\n",
       "\t<tr><th scope=row>NULL</th><td>NA        </td><td>       NA </td><td>81        </td><td>56.74484  </td><td>        NA</td></tr>\n",
       "\t<tr><th scope=row>sex</th><td> 1        </td><td>0.7001004 </td><td>80        </td><td>56.04474  </td><td>0.40274995</td></tr>\n",
       "\t<tr><th scope=row>definition</th><td> 1        </td><td>0.4189143 </td><td>79        </td><td>55.62582  </td><td>0.51747929</td></tr>\n",
       "\t<tr><th scope=row>need</th><td> 1        </td><td>3.9792924 </td><td>78        </td><td>51.64653  </td><td>0.04606291</td></tr>\n",
       "\t<tr><th scope=row>purpose</th><td> 2        </td><td>0.4231424 </td><td>76        </td><td>51.22339  </td><td>0.80931166</td></tr>\n",
       "\t<tr><th scope=row>interest</th><td> 1        </td><td>0.2129760 </td><td>75        </td><td>51.01041  </td><td>0.64444479</td></tr>\n",
       "</tbody>\n",
       "</table>\n"
      ],
      "text/latex": [
       "\\begin{tabular}{r|lllll}\n",
       "  & Df & Deviance & Resid. Df & Resid. Dev & Pr(>Chi)\\\\\n",
       "\\hline\n",
       "\tNULL & NA         &        NA  & 81         & 56.74484   &         NA\\\\\n",
       "\tsex &  1         & 0.7001004  & 80         & 56.04474   & 0.40274995\\\\\n",
       "\tdefinition &  1         & 0.4189143  & 79         & 55.62582   & 0.51747929\\\\\n",
       "\tneed &  1         & 3.9792924  & 78         & 51.64653   & 0.04606291\\\\\n",
       "\tpurpose &  2         & 0.4231424  & 76         & 51.22339   & 0.80931166\\\\\n",
       "\tinterest &  1         & 0.2129760  & 75         & 51.01041   & 0.64444479\\\\\n",
       "\\end{tabular}\n"
      ],
      "text/markdown": [
       "\n",
       "| <!--/--> | Df | Deviance | Resid. Df | Resid. Dev | Pr(>Chi) |\n",
       "|---|---|---|---|---|---|\n",
       "| NULL | NA         |        NA  | 81         | 56.74484   |         NA |\n",
       "| sex |  1         | 0.7001004  | 80         | 56.04474   | 0.40274995 |\n",
       "| definition |  1         | 0.4189143  | 79         | 55.62582   | 0.51747929 |\n",
       "| need |  1         | 3.9792924  | 78         | 51.64653   | 0.04606291 |\n",
       "| purpose |  2         | 0.4231424  | 76         | 51.22339   | 0.80931166 |\n",
       "| interest |  1         | 0.2129760  | 75         | 51.01041   | 0.64444479 |\n",
       "\n"
      ],
      "text/plain": [
       "           Df Deviance  Resid. Df Resid. Dev Pr(>Chi)  \n",
       "NULL       NA        NA 81        56.74484           NA\n",
       "sex         1 0.7001004 80        56.04474   0.40274995\n",
       "definition  1 0.4189143 79        55.62582   0.51747929\n",
       "need        1 3.9792924 78        51.64653   0.04606291\n",
       "purpose     2 0.4231424 76        51.22339   0.80931166\n",
       "interest    1 0.2129760 75        51.01041   0.64444479"
      ]
     },
     "metadata": {},
     "output_type": "display_data"
    },
    {
     "data": {
      "text/html": [
       "0.266129032258065"
      ],
      "text/latex": [
       "0.266129032258065"
      ],
      "text/markdown": [
       "0.266129032258065"
      ],
      "text/plain": [
       "[1] 0.266129"
      ]
     },
     "metadata": {},
     "output_type": "display_data"
    },
    {
     "data": {
      "image/png": "[encoded data removed]",
      "text/plain": [
       "plot without title"
      ]
     },
     "metadata": {},
     "output_type": "display_data"
    }
   ],
   "source": [
    "model <- glm(comp4 ~ sex + definition + need + purpose \n",
    "              + interest, data =train, family = binomial)\n",
    "summary(model)\n",
    "\n",
    "\n",
    "anova(model, test=\"Chisq\")\n",
    "\n",
    "\n",
    "p <- predict(model, newdata=test, type=\"response\")\n",
    "pr <- prediction(p, test$comp4)\n",
    "prf <- performance(pr, measure = \"tpr\", x.measure = \"fpr\")\n",
    "plot(prf)\n",
    "\n",
    "auc <- performance(pr, measure = \"auc\")\n",
    "auc <- auc@y.values[[1]]\n",
    "auc"
   ]
  },
  {
   "cell_type": "code",
   "execution_count": 14,
   "metadata": {},
   "outputs": [
    {
     "data": {
      "text/plain": [
       "\n",
       "Call:\n",
       "glm(formula = comp5 ~ sex + definition + need + purpose + interest, \n",
       "    family = binomial, data = train)\n",
       "\n",
       "Deviance Residuals: \n",
       "    Min       1Q   Median       3Q      Max  \n",
       "-0.8429  -0.6886  -0.6321  -0.5979   1.9419  \n",
       "\n",
       "Coefficients:\n",
       "                  Estimate Std. Error z value Pr(>|z|)\n",
       "(Intercept)       -1.53062    1.27908  -1.197    0.231\n",
       "sexMale            0.31310    0.82122   0.381    0.703\n",
       "definitionharmony -0.32838    0.75193  -0.437    0.662\n",
       "needharmony        0.13527    0.68218   0.198    0.843\n",
       "purposecosmetic    0.06477    0.87840   0.074    0.941\n",
       "purposeetc         0.03067    0.74118   0.041    0.967\n",
       "interest           0.04603    0.28486   0.162    0.872\n",
       "\n",
       "(Dispersion parameter for binomial family taken to be 1)\n",
       "\n",
       "    Null deviance: 80.945  on 81  degrees of freedom\n",
       "Residual deviance: 80.586  on 75  degrees of freedom\n",
       "AIC: 94.586\n",
       "\n",
       "Number of Fisher Scoring iterations: 4\n"
      ]
     },
     "metadata": {},
     "output_type": "display_data"
    },
    {
     "data": {
      "text/html": [
       "<table>\n",
       "<thead><tr><th></th><th scope=col>Df</th><th scope=col>Deviance</th><th scope=col>Resid. Df</th><th scope=col>Resid. Dev</th><th scope=col>Pr(&gt;Chi)</th></tr></thead>\n",
       "<tbody>\n",
       "\t<tr><th scope=row>NULL</th><td>NA        </td><td>        NA</td><td>81        </td><td>80.94469  </td><td>       NA </td></tr>\n",
       "\t<tr><th scope=row>sex</th><td> 1        </td><td>0.10533998</td><td>80        </td><td>80.83935  </td><td>0.7455132 </td></tr>\n",
       "\t<tr><th scope=row>definition</th><td> 1        </td><td>0.17715748</td><td>79        </td><td>80.66219  </td><td>0.6738275 </td></tr>\n",
       "\t<tr><th scope=row>need</th><td> 1        </td><td>0.04279560</td><td>78        </td><td>80.61940  </td><td>0.8361106 </td></tr>\n",
       "\t<tr><th scope=row>purpose</th><td> 2        </td><td>0.00681416</td><td>76        </td><td>80.61258  </td><td>0.9965987 </td></tr>\n",
       "\t<tr><th scope=row>interest</th><td> 1        </td><td>0.02619647</td><td>75        </td><td>80.58639  </td><td>0.8714214 </td></tr>\n",
       "</tbody>\n",
       "</table>\n"
      ],
      "text/latex": [
       "\\begin{tabular}{r|lllll}\n",
       "  & Df & Deviance & Resid. Df & Resid. Dev & Pr(>Chi)\\\\\n",
       "\\hline\n",
       "\tNULL & NA         &         NA & 81         & 80.94469   &        NA \\\\\n",
       "\tsex &  1         & 0.10533998 & 80         & 80.83935   & 0.7455132 \\\\\n",
       "\tdefinition &  1         & 0.17715748 & 79         & 80.66219   & 0.6738275 \\\\\n",
       "\tneed &  1         & 0.04279560 & 78         & 80.61940   & 0.8361106 \\\\\n",
       "\tpurpose &  2         & 0.00681416 & 76         & 80.61258   & 0.9965987 \\\\\n",
       "\tinterest &  1         & 0.02619647 & 75         & 80.58639   & 0.8714214 \\\\\n",
       "\\end{tabular}\n"
      ],
      "text/markdown": [
       "\n",
       "| <!--/--> | Df | Deviance | Resid. Df | Resid. Dev | Pr(>Chi) |\n",
       "|---|---|---|---|---|---|\n",
       "| NULL | NA         |         NA | 81         | 80.94469   |        NA  |\n",
       "| sex |  1         | 0.10533998 | 80         | 80.83935   | 0.7455132  |\n",
       "| definition |  1         | 0.17715748 | 79         | 80.66219   | 0.6738275  |\n",
       "| need |  1         | 0.04279560 | 78         | 80.61940   | 0.8361106  |\n",
       "| purpose |  2         | 0.00681416 | 76         | 80.61258   | 0.9965987  |\n",
       "| interest |  1         | 0.02619647 | 75         | 80.58639   | 0.8714214  |\n",
       "\n"
      ],
      "text/plain": [
       "           Df Deviance   Resid. Df Resid. Dev Pr(>Chi) \n",
       "NULL       NA         NA 81        80.94469          NA\n",
       "sex         1 0.10533998 80        80.83935   0.7455132\n",
       "definition  1 0.17715748 79        80.66219   0.6738275\n",
       "need        1 0.04279560 78        80.61940   0.8361106\n",
       "purpose     2 0.00681416 76        80.61258   0.9965987\n",
       "interest    1 0.02619647 75        80.58639   0.8714214"
      ]
     },
     "metadata": {},
     "output_type": "display_data"
    },
    {
     "data": {
      "text/html": [
       "0.458333333333333"
      ],
      "text/latex": [
       "0.458333333333333"
      ],
      "text/markdown": [
       "0.458333333333333"
      ],
      "text/plain": [
       "[1] 0.4583333"
      ]
     },
     "metadata": {},
     "output_type": "display_data"
    },
    {
     "data": {
      "image/png": "[encoded data removed]",
      "text/plain": [
       "plot without title"
      ]
     },
     "metadata": {},
     "output_type": "display_data"
    }
   ],
   "source": [
    "model <- glm(comp5 ~ sex + definition + need + purpose \n",
    "              + interest, data =train, family = binomial)\n",
    "summary(model)\n",
    "\n",
    "\n",
    "anova(model, test=\"Chisq\")\n",
    "\n",
    "\n",
    "p <- predict(model, newdata=test, type=\"response\")\n",
    "pr <- prediction(p, test$comp5)\n",
    "prf <- performance(pr, measure = \"tpr\", x.measure = \"fpr\")\n",
    "plot(prf)\n",
    "\n",
    "auc <- performance(pr, measure = \"auc\")\n",
    "auc <- auc@y.values[[1]]\n",
    "auc"
   ]
  },
  {
   "cell_type": "code",
   "execution_count": 15,
   "metadata": {},
   "outputs": [
    {
     "data": {
      "text/plain": [
       "\n",
       "Call:\n",
       "glm(formula = t1_1 ~ sex + definition + need + purpose + interest, \n",
       "    family = binomial, data = train)\n",
       "\n",
       "Deviance Residuals: \n",
       "    Min       1Q   Median       3Q      Max  \n",
       "-1.0697  -0.7045  -0.4128  -0.2553   2.7637  \n",
       "\n",
       "Coefficients:\n",
       "                  Estimate Std. Error z value Pr(>|z|)  \n",
       "(Intercept)        -3.5265     1.5949  -2.211   0.0270 *\n",
       "sexMale             2.5177     1.1514   2.187   0.0288 *\n",
       "definitionharmony   0.6711     0.9490   0.707   0.4794  \n",
       "needharmony         0.3117     0.7461   0.418   0.6761  \n",
       "purposecosmetic     2.1292     1.2320   1.728   0.0839 .\n",
       "purposeetc          1.5133     1.1552   1.310   0.1902  \n",
       "interest           -0.1164     0.2917  -0.399   0.6899  \n",
       "---\n",
       "Signif. codes:  0 '***' 0.001 '**' 0.01 '*' 0.05 '.' 0.1 ' ' 1\n",
       "\n",
       "(Dispersion parameter for binomial family taken to be 1)\n",
       "\n",
       "    Null deviance: 80.945  on 81  degrees of freedom\n",
       "Residual deviance: 70.686  on 75  degrees of freedom\n",
       "AIC: 84.686\n",
       "\n",
       "Number of Fisher Scoring iterations: 5\n"
      ]
     },
     "metadata": {},
     "output_type": "display_data"
    },
    {
     "data": {
      "text/html": [
       "<table>\n",
       "<thead><tr><th></th><th scope=col>Df</th><th scope=col>Deviance</th><th scope=col>Resid. Df</th><th scope=col>Resid. Dev</th><th scope=col>Pr(&gt;Chi)</th></tr></thead>\n",
       "<tbody>\n",
       "\t<tr><th scope=row>NULL</th><td>NA       </td><td>       NA</td><td>81       </td><td>80.94469 </td><td>       NA</td></tr>\n",
       "\t<tr><th scope=row>sex</th><td> 1       </td><td>4.9074044</td><td>80       </td><td>76.03729 </td><td>0.0267418</td></tr>\n",
       "\t<tr><th scope=row>definition</th><td> 1       </td><td>1.2070247</td><td>79       </td><td>74.83026 </td><td>0.2719222</td></tr>\n",
       "\t<tr><th scope=row>need</th><td> 1       </td><td>0.1748306</td><td>78       </td><td>74.65543 </td><td>0.6758539</td></tr>\n",
       "\t<tr><th scope=row>purpose</th><td> 2       </td><td>3.8106119</td><td>76       </td><td>70.84482 </td><td>0.1487771</td></tr>\n",
       "\t<tr><th scope=row>interest</th><td> 1       </td><td>0.1585851</td><td>75       </td><td>70.68623 </td><td>0.6904626</td></tr>\n",
       "</tbody>\n",
       "</table>\n"
      ],
      "text/latex": [
       "\\begin{tabular}{r|lllll}\n",
       "  & Df & Deviance & Resid. Df & Resid. Dev & Pr(>Chi)\\\\\n",
       "\\hline\n",
       "\tNULL & NA        &        NA & 81        & 80.94469  &        NA\\\\\n",
       "\tsex &  1        & 4.9074044 & 80        & 76.03729  & 0.0267418\\\\\n",
       "\tdefinition &  1        & 1.2070247 & 79        & 74.83026  & 0.2719222\\\\\n",
       "\tneed &  1        & 0.1748306 & 78        & 74.65543  & 0.6758539\\\\\n",
       "\tpurpose &  2        & 3.8106119 & 76        & 70.84482  & 0.1487771\\\\\n",
       "\tinterest &  1        & 0.1585851 & 75        & 70.68623  & 0.6904626\\\\\n",
       "\\end{tabular}\n"
      ],
      "text/markdown": [
       "\n",
       "| <!--/--> | Df | Deviance | Resid. Df | Resid. Dev | Pr(>Chi) |\n",
       "|---|---|---|---|---|---|\n",
       "| NULL | NA        |        NA | 81        | 80.94469  |        NA |\n",
       "| sex |  1        | 4.9074044 | 80        | 76.03729  | 0.0267418 |\n",
       "| definition |  1        | 1.2070247 | 79        | 74.83026  | 0.2719222 |\n",
       "| need |  1        | 0.1748306 | 78        | 74.65543  | 0.6758539 |\n",
       "| purpose |  2        | 3.8106119 | 76        | 70.84482  | 0.1487771 |\n",
       "| interest |  1        | 0.1585851 | 75        | 70.68623  | 0.6904626 |\n",
       "\n"
      ],
      "text/plain": [
       "           Df Deviance  Resid. Df Resid. Dev Pr(>Chi) \n",
       "NULL       NA        NA 81        80.94469          NA\n",
       "sex         1 4.9074044 80        76.03729   0.0267418\n",
       "definition  1 1.2070247 79        74.83026   0.2719222\n",
       "need        1 0.1748306 78        74.65543   0.6758539\n",
       "purpose     2 3.8106119 76        70.84482   0.1487771\n",
       "interest    1 0.1585851 75        70.68623   0.6904626"
      ]
     },
     "metadata": {},
     "output_type": "display_data"
    },
    {
     "data": {
      "text/html": [
       "0.655092592592593"
      ],
      "text/latex": [
       "0.655092592592593"
      ],
      "text/markdown": [
       "0.655092592592593"
      ],
      "text/plain": [
       "[1] 0.6550926"
      ]
     },
     "metadata": {},
     "output_type": "display_data"
    },
    {
     "data": {
      "image/png": "[encoded data removed]",
      "text/plain": [
       "plot without title"
      ]
     },
     "metadata": {},
     "output_type": "display_data"
    }
   ],
   "source": [
    "model <- glm(t1_1 ~ sex + definition + need + purpose \n",
    "              + interest, data =train, family = binomial)\n",
    "summary(model)\n",
    "\n",
    "\n",
    "anova(model, test=\"Chisq\")\n",
    "\n",
    "\n",
    "p <- predict(model, newdata=test, type=\"response\")\n",
    "pr <- prediction(p, test$t1_1)\n",
    "prf <- performance(pr, measure = \"tpr\", x.measure = \"fpr\")\n",
    "plot(prf)\n",
    "\n",
    "auc <- performance(pr, measure = \"auc\")\n",
    "auc <- auc@y.values[[1]]\n",
    "auc"
   ]
  },
  {
   "cell_type": "code",
   "execution_count": 16,
   "metadata": {},
   "outputs": [
    {
     "data": {
      "text/plain": [
       "\n",
       "Call:\n",
       "glm(formula = t1_2 ~ sex + definition + need + purpose + interest, \n",
       "    family = binomial, data = train)\n",
       "\n",
       "Deviance Residuals: \n",
       "    Min       1Q   Median       3Q      Max  \n",
       "-1.1295  -0.4715  -0.3149  -0.1688   2.6936  \n",
       "\n",
       "Coefficients:\n",
       "                  Estimate Std. Error z value Pr(>|z|)  \n",
       "(Intercept)         0.7648     1.7633   0.434   0.6645  \n",
       "sexMale             0.6851     1.5030   0.456   0.6485  \n",
       "definitionharmony  -2.7977     1.1814  -2.368   0.0179 *\n",
       "needharmony         0.6948     1.0904   0.637   0.5240  \n",
       "purposecosmetic     0.8595     1.3749   0.625   0.5319  \n",
       "purposeetc          1.3323     1.1459   1.163   0.2450  \n",
       "interest           -0.7369     0.4071  -1.810   0.0703 .\n",
       "---\n",
       "Signif. codes:  0 '***' 0.001 '**' 0.01 '*' 0.05 '.' 0.1 ' ' 1\n",
       "\n",
       "(Dispersion parameter for binomial family taken to be 1)\n",
       "\n",
       "    Null deviance: 60.810  on 81  degrees of freedom\n",
       "Residual deviance: 46.939  on 75  degrees of freedom\n",
       "AIC: 60.939\n",
       "\n",
       "Number of Fisher Scoring iterations: 6\n"
      ]
     },
     "metadata": {},
     "output_type": "display_data"
    },
    {
     "data": {
      "text/html": [
       "<table>\n",
       "<thead><tr><th></th><th scope=col>Df</th><th scope=col>Deviance</th><th scope=col>Resid. Df</th><th scope=col>Resid. Dev</th><th scope=col>Pr(&gt;Chi)</th></tr></thead>\n",
       "<tbody>\n",
       "\t<tr><th scope=row>NULL</th><td>NA         </td><td>        NA </td><td>81         </td><td>60.81033   </td><td>         NA</td></tr>\n",
       "\t<tr><th scope=row>sex</th><td> 1         </td><td>1.10586206 </td><td>80         </td><td>59.70447   </td><td>0.292983216</td></tr>\n",
       "\t<tr><th scope=row>definition</th><td> 1         </td><td>7.75623761 </td><td>79         </td><td>51.94823   </td><td>0.005352735</td></tr>\n",
       "\t<tr><th scope=row>need</th><td> 1         </td><td>0.02326362 </td><td>78         </td><td>51.92497   </td><td>0.878773523</td></tr>\n",
       "\t<tr><th scope=row>purpose</th><td> 2         </td><td>1.28833468 </td><td>76         </td><td>50.63664   </td><td>0.525099591</td></tr>\n",
       "\t<tr><th scope=row>interest</th><td> 1         </td><td>3.69736711 </td><td>75         </td><td>46.93927   </td><td>0.054498401</td></tr>\n",
       "</tbody>\n",
       "</table>\n"
      ],
      "text/latex": [
       "\\begin{tabular}{r|lllll}\n",
       "  & Df & Deviance & Resid. Df & Resid. Dev & Pr(>Chi)\\\\\n",
       "\\hline\n",
       "\tNULL & NA          &         NA  & 81          & 60.81033    &          NA\\\\\n",
       "\tsex &  1          & 1.10586206  & 80          & 59.70447    & 0.292983216\\\\\n",
       "\tdefinition &  1          & 7.75623761  & 79          & 51.94823    & 0.005352735\\\\\n",
       "\tneed &  1          & 0.02326362  & 78          & 51.92497    & 0.878773523\\\\\n",
       "\tpurpose &  2          & 1.28833468  & 76          & 50.63664    & 0.525099591\\\\\n",
       "\tinterest &  1          & 3.69736711  & 75          & 46.93927    & 0.054498401\\\\\n",
       "\\end{tabular}\n"
      ],
      "text/markdown": [
       "\n",
       "| <!--/--> | Df | Deviance | Resid. Df | Resid. Dev | Pr(>Chi) |\n",
       "|---|---|---|---|---|---|\n",
       "| NULL | NA          |         NA  | 81          | 60.81033    |          NA |\n",
       "| sex |  1          | 1.10586206  | 80          | 59.70447    | 0.292983216 |\n",
       "| definition |  1          | 7.75623761  | 79          | 51.94823    | 0.005352735 |\n",
       "| need |  1          | 0.02326362  | 78          | 51.92497    | 0.878773523 |\n",
       "| purpose |  2          | 1.28833468  | 76          | 50.63664    | 0.525099591 |\n",
       "| interest |  1          | 3.69736711  | 75          | 46.93927    | 0.054498401 |\n",
       "\n"
      ],
      "text/plain": [
       "           Df Deviance   Resid. Df Resid. Dev Pr(>Chi)   \n",
       "NULL       NA         NA 81        60.81033            NA\n",
       "sex         1 1.10586206 80        59.70447   0.292983216\n",
       "definition  1 7.75623761 79        51.94823   0.005352735\n",
       "need        1 0.02326362 78        51.92497   0.878773523\n",
       "purpose     2 1.28833468 76        50.63664   0.525099591\n",
       "interest    1 3.69736711 75        46.93927   0.054498401"
      ]
     },
     "metadata": {},
     "output_type": "display_data"
    },
    {
     "data": {
      "text/html": [
       "0.540229885057471"
      ],
      "text/latex": [
       "0.540229885057471"
      ],
      "text/markdown": [
       "0.540229885057471"
      ],
      "text/plain": [
       "[1] 0.5402299"
      ]
     },
     "metadata": {},
     "output_type": "display_data"
    },
    {
     "data": {
      "image/png": "[encoded data removed]",
      "text/plain": [
       "plot without title"
      ]
     },
     "metadata": {},
     "output_type": "display_data"
    }
   ],
   "source": [
    "model <- glm(t1_2 ~ sex + definition + need + purpose \n",
    "              + interest, data =train, family = binomial)\n",
    "summary(model)\n",
    "\n",
    "\n",
    "anova(model, test=\"Chisq\")\n",
    "\n",
    "\n",
    "p <- predict(model, newdata=test, type=\"response\")\n",
    "pr <- prediction(p, test$t1_2)\n",
    "prf <- performance(pr, measure = \"tpr\", x.measure = \"fpr\")\n",
    "plot(prf)\n",
    "\n",
    "auc <- performance(pr, measure = \"auc\")\n",
    "auc <- auc@y.values[[1]]\n",
    "auc"
   ]
  },
  {
   "cell_type": "code",
   "execution_count": 17,
   "metadata": {},
   "outputs": [
    {
     "data": {
      "text/plain": [
       "\n",
       "Call:\n",
       "glm(formula = t1_3 ~ sex + definition + need + purpose + interest, \n",
       "    family = binomial, data = train)\n",
       "\n",
       "Deviance Residuals: \n",
       "    Min       1Q   Median       3Q      Max  \n",
       "-1.0020  -0.6718  -0.4977  -0.3999   2.2653  \n",
       "\n",
       "Coefficients:\n",
       "                  Estimate Std. Error z value Pr(>|z|)\n",
       "(Intercept)        -0.5149     1.3248  -0.389    0.697\n",
       "sexMale            -0.1889     0.8688  -0.217    0.828\n",
       "definitionharmony  -0.9463     0.7729  -1.224    0.221\n",
       "needharmony         0.4979     0.7299   0.682    0.495\n",
       "purposecosmetic     0.1980     0.8199   0.241    0.809\n",
       "purposeetc         -1.0794     0.8345  -1.293    0.196\n",
       "interest           -0.1107     0.3038  -0.364    0.715\n",
       "\n",
       "(Dispersion parameter for binomial family taken to be 1)\n",
       "\n",
       "    Null deviance: 74.955  on 81  degrees of freedom\n",
       "Residual deviance: 71.001  on 75  degrees of freedom\n",
       "AIC: 85.001\n",
       "\n",
       "Number of Fisher Scoring iterations: 4\n"
      ]
     },
     "metadata": {},
     "output_type": "display_data"
    },
    {
     "data": {
      "text/html": [
       "<table>\n",
       "<thead><tr><th></th><th scope=col>Df</th><th scope=col>Deviance</th><th scope=col>Resid. Df</th><th scope=col>Resid. Dev</th><th scope=col>Pr(&gt;Chi)</th></tr></thead>\n",
       "<tbody>\n",
       "\t<tr><th scope=row>NULL</th><td>NA         </td><td>         NA</td><td>81         </td><td>74.95530   </td><td>       NA  </td></tr>\n",
       "\t<tr><th scope=row>sex</th><td> 1         </td><td>0.002704067</td><td>80         </td><td>74.95260   </td><td>0.9585282  </td></tr>\n",
       "\t<tr><th scope=row>definition</th><td> 1         </td><td>0.491089964</td><td>79         </td><td>74.46151   </td><td>0.4834415  </td></tr>\n",
       "\t<tr><th scope=row>need</th><td> 1         </td><td>0.407279328</td><td>78         </td><td>74.05423   </td><td>0.5233537  </td></tr>\n",
       "\t<tr><th scope=row>purpose</th><td> 2         </td><td>2.920874653</td><td>76         </td><td>71.13336   </td><td>0.2321347  </td></tr>\n",
       "\t<tr><th scope=row>interest</th><td> 1         </td><td>0.132655535</td><td>75         </td><td>71.00070   </td><td>0.7156944  </td></tr>\n",
       "</tbody>\n",
       "</table>\n"
      ],
      "text/latex": [
       "\\begin{tabular}{r|lllll}\n",
       "  & Df & Deviance & Resid. Df & Resid. Dev & Pr(>Chi)\\\\\n",
       "\\hline\n",
       "\tNULL & NA          &          NA & 81          & 74.95530    &        NA  \\\\\n",
       "\tsex &  1          & 0.002704067 & 80          & 74.95260    & 0.9585282  \\\\\n",
       "\tdefinition &  1          & 0.491089964 & 79          & 74.46151    & 0.4834415  \\\\\n",
       "\tneed &  1          & 0.407279328 & 78          & 74.05423    & 0.5233537  \\\\\n",
       "\tpurpose &  2          & 2.920874653 & 76          & 71.13336    & 0.2321347  \\\\\n",
       "\tinterest &  1          & 0.132655535 & 75          & 71.00070    & 0.7156944  \\\\\n",
       "\\end{tabular}\n"
      ],
      "text/markdown": [
       "\n",
       "| <!--/--> | Df | Deviance | Resid. Df | Resid. Dev | Pr(>Chi) |\n",
       "|---|---|---|---|---|---|\n",
       "| NULL | NA          |          NA | 81          | 74.95530    |        NA   |\n",
       "| sex |  1          | 0.002704067 | 80          | 74.95260    | 0.9585282   |\n",
       "| definition |  1          | 0.491089964 | 79          | 74.46151    | 0.4834415   |\n",
       "| need |  1          | 0.407279328 | 78          | 74.05423    | 0.5233537   |\n",
       "| purpose |  2          | 2.920874653 | 76          | 71.13336    | 0.2321347   |\n",
       "| interest |  1          | 0.132655535 | 75          | 71.00070    | 0.7156944   |\n",
       "\n"
      ],
      "text/plain": [
       "           Df Deviance    Resid. Df Resid. Dev Pr(>Chi) \n",
       "NULL       NA          NA 81        74.95530          NA\n",
       "sex         1 0.002704067 80        74.95260   0.9585282\n",
       "definition  1 0.491089964 79        74.46151   0.4834415\n",
       "need        1 0.407279328 78        74.05423   0.5233537\n",
       "purpose     2 2.920874653 76        71.13336   0.2321347\n",
       "interest    1 0.132655535 75        71.00070   0.7156944"
      ]
     },
     "metadata": {},
     "output_type": "display_data"
    },
    {
     "data": {
      "text/html": [
       "0.401041666666667"
      ],
      "text/latex": [
       "0.401041666666667"
      ],
      "text/markdown": [
       "0.401041666666667"
      ],
      "text/plain": [
       "[1] 0.4010417"
      ]
     },
     "metadata": {},
     "output_type": "display_data"
    },
    {
     "data": {
      "image/png": "[encoded data removed]",
      "text/plain": [
       "plot without title"
      ]
     },
     "metadata": {},
     "output_type": "display_data"
    }
   ],
   "source": [
    "model <- glm(t1_3 ~ sex + definition + need + purpose \n",
    "              + interest, data =train, family = binomial)\n",
    "summary(model)\n",
    "\n",
    "\n",
    "anova(model, test=\"Chisq\")\n",
    "\n",
    "\n",
    "p <- predict(model, newdata=test, type=\"response\")\n",
    "pr <- prediction(p, test$t1_3)\n",
    "prf <- performance(pr, measure = \"tpr\", x.measure = \"fpr\")\n",
    "plot(prf)\n",
    "\n",
    "auc <- performance(pr, measure = \"auc\")\n",
    "auc <- auc@y.values[[1]]\n",
    "auc"
   ]
  },
  {
   "cell_type": "code",
   "execution_count": 18,
   "metadata": {},
   "outputs": [
    {
     "data": {
      "text/plain": [
       "\n",
       "Call:\n",
       "glm(formula = t1_4 ~ sex + definition + need + purpose + interest, \n",
       "    family = binomial, data = train)\n",
       "\n",
       "Deviance Residuals: \n",
       "    Min       1Q   Median       3Q      Max  \n",
       "-1.4614  -0.9438  -0.7005   1.2464   1.8626  \n",
       "\n",
       "Coefficients:\n",
       "                  Estimate Std. Error z value Pr(>|z|)  \n",
       "(Intercept)        -2.3780     1.2049  -1.974   0.0484 *\n",
       "sexMale            -1.0997     0.7519  -1.463   0.1436  \n",
       "definitionharmony   0.9663     0.6891   1.402   0.1608  \n",
       "needharmony        -0.2641     0.5875  -0.450   0.6530  \n",
       "purposecosmetic    -0.5273     0.7430  -0.710   0.4779  \n",
       "purposeetc         -0.1371     0.6157  -0.223   0.8238  \n",
       "interest            0.4117     0.2691   1.530   0.1260  \n",
       "---\n",
       "Signif. codes:  0 '***' 0.001 '**' 0.01 '*' 0.05 '.' 0.1 ' ' 1\n",
       "\n",
       "(Dispersion parameter for binomial family taken to be 1)\n",
       "\n",
       "    Null deviance: 103.920  on 81  degrees of freedom\n",
       "Residual deviance:  98.302  on 75  degrees of freedom\n",
       "AIC: 112.3\n",
       "\n",
       "Number of Fisher Scoring iterations: 4\n"
      ]
     },
     "metadata": {},
     "output_type": "display_data"
    },
    {
     "data": {
      "text/html": [
       "<table>\n",
       "<thead><tr><th></th><th scope=col>Df</th><th scope=col>Deviance</th><th scope=col>Resid. Df</th><th scope=col>Resid. Dev</th><th scope=col>Pr(&gt;Chi)</th></tr></thead>\n",
       "<tbody>\n",
       "\t<tr><th scope=row>NULL</th><td>NA       </td><td>       NA</td><td>81       </td><td>103.92012</td><td>       NA</td></tr>\n",
       "\t<tr><th scope=row>sex</th><td> 1       </td><td>1.2593010</td><td>80       </td><td>102.66081</td><td>0.2617834</td></tr>\n",
       "\t<tr><th scope=row>definition</th><td> 1       </td><td>1.3368464</td><td>79       </td><td>101.32397</td><td>0.2475909</td></tr>\n",
       "\t<tr><th scope=row>need</th><td> 1       </td><td>0.1293392</td><td>78       </td><td>101.19463</td><td>0.7191182</td></tr>\n",
       "\t<tr><th scope=row>purpose</th><td> 2       </td><td>0.4058208</td><td>76       </td><td>100.78881</td><td>0.8163514</td></tr>\n",
       "\t<tr><th scope=row>interest</th><td> 1       </td><td>2.4872978</td><td>75       </td><td> 98.30151</td><td>0.1147686</td></tr>\n",
       "</tbody>\n",
       "</table>\n"
      ],
      "text/latex": [
       "\\begin{tabular}{r|lllll}\n",
       "  & Df & Deviance & Resid. Df & Resid. Dev & Pr(>Chi)\\\\\n",
       "\\hline\n",
       "\tNULL & NA        &        NA & 81        & 103.92012 &        NA\\\\\n",
       "\tsex &  1        & 1.2593010 & 80        & 102.66081 & 0.2617834\\\\\n",
       "\tdefinition &  1        & 1.3368464 & 79        & 101.32397 & 0.2475909\\\\\n",
       "\tneed &  1        & 0.1293392 & 78        & 101.19463 & 0.7191182\\\\\n",
       "\tpurpose &  2        & 0.4058208 & 76        & 100.78881 & 0.8163514\\\\\n",
       "\tinterest &  1        & 2.4872978 & 75        &  98.30151 & 0.1147686\\\\\n",
       "\\end{tabular}\n"
      ],
      "text/markdown": [
       "\n",
       "| <!--/--> | Df | Deviance | Resid. Df | Resid. Dev | Pr(>Chi) |\n",
       "|---|---|---|---|---|---|\n",
       "| NULL | NA        |        NA | 81        | 103.92012 |        NA |\n",
       "| sex |  1        | 1.2593010 | 80        | 102.66081 | 0.2617834 |\n",
       "| definition |  1        | 1.3368464 | 79        | 101.32397 | 0.2475909 |\n",
       "| need |  1        | 0.1293392 | 78        | 101.19463 | 0.7191182 |\n",
       "| purpose |  2        | 0.4058208 | 76        | 100.78881 | 0.8163514 |\n",
       "| interest |  1        | 2.4872978 | 75        |  98.30151 | 0.1147686 |\n",
       "\n"
      ],
      "text/plain": [
       "           Df Deviance  Resid. Df Resid. Dev Pr(>Chi) \n",
       "NULL       NA        NA 81        103.92012         NA\n",
       "sex         1 1.2593010 80        102.66081  0.2617834\n",
       "definition  1 1.3368464 79        101.32397  0.2475909\n",
       "need        1 0.1293392 78        101.19463  0.7191182\n",
       "purpose     2 0.4058208 76        100.78881  0.8163514\n",
       "interest    1 2.4872978 75         98.30151  0.1147686"
      ]
     },
     "metadata": {},
     "output_type": "display_data"
    },
    {
     "data": {
      "text/html": [
       "0.559210526315789"
      ],
      "text/latex": [
       "0.559210526315789"
      ],
      "text/markdown": [
       "0.559210526315789"
      ],
      "text/plain": [
       "[1] 0.5592105"
      ]
     },
     "metadata": {},
     "output_type": "display_data"
    },
    {
     "data": {
      "image/png": "[encoded data removed]",
      "text/plain": [
       "plot without title"
      ]
     },
     "metadata": {},
     "output_type": "display_data"
    }
   ],
   "source": [
    "model <- glm(t1_4 ~ sex + definition + need + purpose \n",
    "              + interest, data =train, family = binomial)\n",
    "summary(model)\n",
    "\n",
    "\n",
    "anova(model, test=\"Chisq\")\n",
    "\n",
    "\n",
    "p <- predict(model, newdata=test, type=\"response\")\n",
    "pr <- prediction(p, test$t1_4)\n",
    "prf <- performance(pr, measure = \"tpr\", x.measure = \"fpr\")\n",
    "plot(prf)\n",
    "\n",
    "auc <- performance(pr, measure = \"auc\")\n",
    "auc <- auc@y.values[[1]]\n",
    "auc"
   ]
  },
  {
   "cell_type": "code",
   "execution_count": 19,
   "metadata": {},
   "outputs": [
    {
     "data": {
      "text/plain": [
       "\n",
       "Call:\n",
       "glm(formula = t1_5 ~ sex + definition + need + purpose + interest, \n",
       "    family = binomial, data = train)\n",
       "\n",
       "Deviance Residuals: \n",
       "    Min       1Q   Median       3Q      Max  \n",
       "-1.0721  -0.6949  -0.5560  -0.3353   2.1712  \n",
       "\n",
       "Coefficients:\n",
       "                  Estimate Std. Error z value Pr(>|z|)\n",
       "(Intercept)        -1.7629     1.4128  -1.248    0.212\n",
       "sexMale            -0.8127     0.8263  -0.984    0.325\n",
       "definitionharmony   1.0837     0.8777   1.235    0.217\n",
       "needharmony        -0.5928     0.7112  -0.834    0.405\n",
       "purposecosmetic    -1.8980     1.1720  -1.619    0.105\n",
       "purposeetc         -0.3455     0.7062  -0.489    0.625\n",
       "interest            0.1066     0.3142   0.339    0.735\n",
       "\n",
       "(Dispersion parameter for binomial family taken to be 1)\n",
       "\n",
       "    Null deviance: 78.032  on 81  degrees of freedom\n",
       "Residual deviance: 73.141  on 75  degrees of freedom\n",
       "AIC: 87.141\n",
       "\n",
       "Number of Fisher Scoring iterations: 5\n"
      ]
     },
     "metadata": {},
     "output_type": "display_data"
    },
    {
     "data": {
      "text/html": [
       "<table>\n",
       "<thead><tr><th></th><th scope=col>Df</th><th scope=col>Deviance</th><th scope=col>Resid. Df</th><th scope=col>Resid. Dev</th><th scope=col>Pr(&gt;Chi)</th></tr></thead>\n",
       "<tbody>\n",
       "\t<tr><th scope=row>NULL</th><td>NA        </td><td>        NA</td><td>81        </td><td>78.03164  </td><td>       NA </td></tr>\n",
       "\t<tr><th scope=row>sex</th><td> 1        </td><td>0.04150766</td><td>80        </td><td>77.99013  </td><td>0.8385612 </td></tr>\n",
       "\t<tr><th scope=row>definition</th><td> 1        </td><td>0.75253853</td><td>79        </td><td>77.23759  </td><td>0.3856737 </td></tr>\n",
       "\t<tr><th scope=row>need</th><td> 1        </td><td>0.46884229</td><td>78        </td><td>76.76875  </td><td>0.4935203 </td></tr>\n",
       "\t<tr><th scope=row>purpose</th><td> 2        </td><td>3.51258551</td><td>76        </td><td>73.25617  </td><td>0.1726839 </td></tr>\n",
       "\t<tr><th scope=row>interest</th><td> 1        </td><td>0.11560129</td><td>75        </td><td>73.14056  </td><td>0.7338551 </td></tr>\n",
       "</tbody>\n",
       "</table>\n"
      ],
      "text/latex": [
       "\\begin{tabular}{r|lllll}\n",
       "  & Df & Deviance & Resid. Df & Resid. Dev & Pr(>Chi)\\\\\n",
       "\\hline\n",
       "\tNULL & NA         &         NA & 81         & 78.03164   &        NA \\\\\n",
       "\tsex &  1         & 0.04150766 & 80         & 77.99013   & 0.8385612 \\\\\n",
       "\tdefinition &  1         & 0.75253853 & 79         & 77.23759   & 0.3856737 \\\\\n",
       "\tneed &  1         & 0.46884229 & 78         & 76.76875   & 0.4935203 \\\\\n",
       "\tpurpose &  2         & 3.51258551 & 76         & 73.25617   & 0.1726839 \\\\\n",
       "\tinterest &  1         & 0.11560129 & 75         & 73.14056   & 0.7338551 \\\\\n",
       "\\end{tabular}\n"
      ],
      "text/markdown": [
       "\n",
       "| <!--/--> | Df | Deviance | Resid. Df | Resid. Dev | Pr(>Chi) |\n",
       "|---|---|---|---|---|---|\n",
       "| NULL | NA         |         NA | 81         | 78.03164   |        NA  |\n",
       "| sex |  1         | 0.04150766 | 80         | 77.99013   | 0.8385612  |\n",
       "| definition |  1         | 0.75253853 | 79         | 77.23759   | 0.3856737  |\n",
       "| need |  1         | 0.46884229 | 78         | 76.76875   | 0.4935203  |\n",
       "| purpose |  2         | 3.51258551 | 76         | 73.25617   | 0.1726839  |\n",
       "| interest |  1         | 0.11560129 | 75         | 73.14056   | 0.7338551  |\n",
       "\n"
      ],
      "text/plain": [
       "           Df Deviance   Resid. Df Resid. Dev Pr(>Chi) \n",
       "NULL       NA         NA 81        78.03164          NA\n",
       "sex         1 0.04150766 80        77.99013   0.8385612\n",
       "definition  1 0.75253853 79        77.23759   0.3856737\n",
       "need        1 0.46884229 78        76.76875   0.4935203\n",
       "purpose     2 3.51258551 76        73.25617   0.1726839\n",
       "interest    1 0.11560129 75        73.14056   0.7338551"
      ]
     },
     "metadata": {},
     "output_type": "display_data"
    },
    {
     "data": {
      "text/html": [
       "0.560606060606061"
      ],
      "text/latex": [
       "0.560606060606061"
      ],
      "text/markdown": [
       "0.560606060606061"
      ],
      "text/plain": [
       "[1] 0.5606061"
      ]
     },
     "metadata": {},
     "output_type": "display_data"
    },
    {
     "data": {
      "image/png": "[encoded data removed]",
      "text/plain": [
       "plot without title"
      ]
     },
     "metadata": {},
     "output_type": "display_data"
    }
   ],
   "source": [
    "model <- glm(t1_5 ~ sex + definition + need + purpose \n",
    "              + interest, data =train, family = binomial)\n",
    "summary(model)\n",
    "\n",
    "\n",
    "anova(model, test=\"Chisq\")\n",
    "\n",
    "\n",
    "p <- predict(model, newdata=test, type=\"response\")\n",
    "pr <- prediction(p, test$t1_5)\n",
    "prf <- performance(pr, measure = \"tpr\", x.measure = \"fpr\")\n",
    "plot(prf)\n",
    "\n",
    "auc <- performance(pr, measure = \"auc\")\n",
    "auc <- auc@y.values[[1]]\n",
    "auc"
   ]
  },
  {
   "cell_type": "code",
   "execution_count": 20,
   "metadata": {},
   "outputs": [
    {
     "data": {
      "text/plain": [
       "\n",
       "Call:\n",
       "glm(formula = t2_1 ~ sex + definition + need + purpose + interest, \n",
       "    family = binomial, data = train)\n",
       "\n",
       "Deviance Residuals: \n",
       "    Min       1Q   Median       3Q      Max  \n",
       "-1.1424  -0.7614  -0.6447  -0.4133   2.0808  \n",
       "\n",
       "Coefficients:\n",
       "                  Estimate Std. Error z value Pr(>|z|)\n",
       "(Intercept)        0.25215    1.21079   0.208    0.835\n",
       "sexMale           -0.95294    0.92070  -1.035    0.301\n",
       "definitionharmony -0.71424    0.70151  -1.018    0.309\n",
       "needharmony       -0.06621    0.65649  -0.101    0.920\n",
       "purposecosmetic   -0.14785    0.79028  -0.187    0.852\n",
       "purposeetc        -0.18827    0.67578  -0.279    0.781\n",
       "interest          -0.18722    0.27929  -0.670    0.503\n",
       "\n",
       "(Dispersion parameter for binomial family taken to be 1)\n",
       "\n",
       "    Null deviance: 88.778  on 81  degrees of freedom\n",
       "Residual deviance: 84.684  on 75  degrees of freedom\n",
       "AIC: 98.684\n",
       "\n",
       "Number of Fisher Scoring iterations: 4\n"
      ]
     },
     "metadata": {},
     "output_type": "display_data"
    },
    {
     "data": {
      "text/html": [
       "<table>\n",
       "<thead><tr><th></th><th scope=col>Df</th><th scope=col>Deviance</th><th scope=col>Resid. Df</th><th scope=col>Resid. Dev</th><th scope=col>Pr(&gt;Chi)</th></tr></thead>\n",
       "<tbody>\n",
       "\t<tr><th scope=row>NULL</th><td>NA        </td><td>        NA</td><td>81        </td><td>88.77830  </td><td>       NA </td></tr>\n",
       "\t<tr><th scope=row>sex</th><td> 1        </td><td>2.12643796</td><td>80        </td><td>86.65186  </td><td>0.1447769 </td></tr>\n",
       "\t<tr><th scope=row>definition</th><td> 1        </td><td>1.39618344</td><td>79        </td><td>85.25568  </td><td>0.2373636 </td></tr>\n",
       "\t<tr><th scope=row>need</th><td> 1        </td><td>0.01956628</td><td>78        </td><td>85.23611  </td><td>0.8887552 </td></tr>\n",
       "\t<tr><th scope=row>purpose</th><td> 2        </td><td>0.10040462</td><td>76        </td><td>85.13571  </td><td>0.9510370 </td></tr>\n",
       "\t<tr><th scope=row>interest</th><td> 1        </td><td>0.45127209</td><td>75        </td><td>84.68444  </td><td>0.5017315 </td></tr>\n",
       "</tbody>\n",
       "</table>\n"
      ],
      "text/latex": [
       "\\begin{tabular}{r|lllll}\n",
       "  & Df & Deviance & Resid. Df & Resid. Dev & Pr(>Chi)\\\\\n",
       "\\hline\n",
       "\tNULL & NA         &         NA & 81         & 88.77830   &        NA \\\\\n",
       "\tsex &  1         & 2.12643796 & 80         & 86.65186   & 0.1447769 \\\\\n",
       "\tdefinition &  1         & 1.39618344 & 79         & 85.25568   & 0.2373636 \\\\\n",
       "\tneed &  1         & 0.01956628 & 78         & 85.23611   & 0.8887552 \\\\\n",
       "\tpurpose &  2         & 0.10040462 & 76         & 85.13571   & 0.9510370 \\\\\n",
       "\tinterest &  1         & 0.45127209 & 75         & 84.68444   & 0.5017315 \\\\\n",
       "\\end{tabular}\n"
      ],
      "text/markdown": [
       "\n",
       "| <!--/--> | Df | Deviance | Resid. Df | Resid. Dev | Pr(>Chi) |\n",
       "|---|---|---|---|---|---|\n",
       "| NULL | NA         |         NA | 81         | 88.77830   |        NA  |\n",
       "| sex |  1         | 2.12643796 | 80         | 86.65186   | 0.1447769  |\n",
       "| definition |  1         | 1.39618344 | 79         | 85.25568   | 0.2373636  |\n",
       "| need |  1         | 0.01956628 | 78         | 85.23611   | 0.8887552  |\n",
       "| purpose |  2         | 0.10040462 | 76         | 85.13571   | 0.9510370  |\n",
       "| interest |  1         | 0.45127209 | 75         | 84.68444   | 0.5017315  |\n",
       "\n"
      ],
      "text/plain": [
       "           Df Deviance   Resid. Df Resid. Dev Pr(>Chi) \n",
       "NULL       NA         NA 81        88.77830          NA\n",
       "sex         1 2.12643796 80        86.65186   0.1447769\n",
       "definition  1 1.39618344 79        85.25568   0.2373636\n",
       "need        1 0.01956628 78        85.23611   0.8887552\n",
       "purpose     2 0.10040462 76        85.13571   0.9510370\n",
       "interest    1 0.45127209 75        84.68444   0.5017315"
      ]
     },
     "metadata": {},
     "output_type": "display_data"
    },
    {
     "data": {
      "text/html": [
       "0.641025641025641"
      ],
      "text/latex": [
       "0.641025641025641"
      ],
      "text/markdown": [
       "0.641025641025641"
      ],
      "text/plain": [
       "[1] 0.6410256"
      ]
     },
     "metadata": {},
     "output_type": "display_data"
    },
    {
     "data": {
      "image/png": "[encoded data removed]",
      "text/plain": [
       "plot without title"
      ]
     },
     "metadata": {},
     "output_type": "display_data"
    }
   ],
   "source": [
    "model <- glm(t2_1 ~ sex + definition + need + purpose \n",
    "              + interest, data =train, family = binomial)\n",
    "summary(model)\n",
    "\n",
    "\n",
    "anova(model, test=\"Chisq\")\n",
    "\n",
    "\n",
    "p <- predict(model, newdata=test, type=\"response\")\n",
    "pr <- prediction(p, test$t2_1)\n",
    "prf <- performance(pr, measure = \"tpr\", x.measure = \"fpr\")\n",
    "plot(prf)\n",
    "\n",
    "auc <- performance(pr, measure = \"auc\")\n",
    "auc <- auc@y.values[[1]]\n",
    "auc"
   ]
  },
  {
   "cell_type": "code",
   "execution_count": 21,
   "metadata": {},
   "outputs": [
    {
     "data": {
      "text/plain": [
       "\n",
       "Call:\n",
       "glm(formula = t2_2 ~ sex + definition + need + purpose + interest, \n",
       "    family = binomial, data = train)\n",
       "\n",
       "Deviance Residuals: \n",
       "    Min       1Q   Median       3Q      Max  \n",
       "-1.0711  -0.8423  -0.7557   1.2970   1.9866  \n",
       "\n",
       "Coefficients:\n",
       "                  Estimate Std. Error z value Pr(>|z|)\n",
       "(Intercept)       -1.43081    1.17460  -1.218    0.223\n",
       "sexMale           -0.21550    0.72977  -0.295    0.768\n",
       "definitionharmony  0.68650    0.72502   0.947    0.344\n",
       "needharmony        0.19331    0.60848   0.318    0.751\n",
       "purposecosmetic    0.38167    0.73452   0.520    0.603\n",
       "purposeetc        -0.24942    0.66758  -0.374    0.709\n",
       "interest          -0.02867    0.25653  -0.112    0.911\n",
       "\n",
       "(Dispersion parameter for binomial family taken to be 1)\n",
       "\n",
       "    Null deviance: 97.320  on 81  degrees of freedom\n",
       "Residual deviance: 94.367  on 75  degrees of freedom\n",
       "AIC: 108.37\n",
       "\n",
       "Number of Fisher Scoring iterations: 4\n"
      ]
     },
     "metadata": {},
     "output_type": "display_data"
    },
    {
     "data": {
      "text/html": [
       "<table>\n",
       "<thead><tr><th></th><th scope=col>Df</th><th scope=col>Deviance</th><th scope=col>Resid. Df</th><th scope=col>Resid. Dev</th><th scope=col>Pr(&gt;Chi)</th></tr></thead>\n",
       "<tbody>\n",
       "\t<tr><th scope=row>NULL</th><td>NA         </td><td>         NA</td><td>81         </td><td>97.31980   </td><td>       NA  </td></tr>\n",
       "\t<tr><th scope=row>sex</th><td> 1         </td><td>0.000840463</td><td>80         </td><td>97.31896   </td><td>0.9768720  </td></tr>\n",
       "\t<tr><th scope=row>definition</th><td> 1         </td><td>2.068414331</td><td>79         </td><td>95.25055   </td><td>0.1503778  </td></tr>\n",
       "\t<tr><th scope=row>need</th><td> 1         </td><td>0.039375249</td><td>78         </td><td>95.21117   </td><td>0.8427071  </td></tr>\n",
       "\t<tr><th scope=row>purpose</th><td> 2         </td><td>0.831643046</td><td>76         </td><td>94.37953   </td><td>0.6597980  </td></tr>\n",
       "\t<tr><th scope=row>interest</th><td> 1         </td><td>0.012477573</td><td>75         </td><td>94.36705   </td><td>0.9110589  </td></tr>\n",
       "</tbody>\n",
       "</table>\n"
      ],
      "text/latex": [
       "\\begin{tabular}{r|lllll}\n",
       "  & Df & Deviance & Resid. Df & Resid. Dev & Pr(>Chi)\\\\\n",
       "\\hline\n",
       "\tNULL & NA          &          NA & 81          & 97.31980    &        NA  \\\\\n",
       "\tsex &  1          & 0.000840463 & 80          & 97.31896    & 0.9768720  \\\\\n",
       "\tdefinition &  1          & 2.068414331 & 79          & 95.25055    & 0.1503778  \\\\\n",
       "\tneed &  1          & 0.039375249 & 78          & 95.21117    & 0.8427071  \\\\\n",
       "\tpurpose &  2          & 0.831643046 & 76          & 94.37953    & 0.6597980  \\\\\n",
       "\tinterest &  1          & 0.012477573 & 75          & 94.36705    & 0.9110589  \\\\\n",
       "\\end{tabular}\n"
      ],
      "text/markdown": [
       "\n",
       "| <!--/--> | Df | Deviance | Resid. Df | Resid. Dev | Pr(>Chi) |\n",
       "|---|---|---|---|---|---|\n",
       "| NULL | NA          |          NA | 81          | 97.31980    |        NA   |\n",
       "| sex |  1          | 0.000840463 | 80          | 97.31896    | 0.9768720   |\n",
       "| definition |  1          | 2.068414331 | 79          | 95.25055    | 0.1503778   |\n",
       "| need |  1          | 0.039375249 | 78          | 95.21117    | 0.8427071   |\n",
       "| purpose |  2          | 0.831643046 | 76          | 94.37953    | 0.6597980   |\n",
       "| interest |  1          | 0.012477573 | 75          | 94.36705    | 0.9110589   |\n",
       "\n"
      ],
      "text/plain": [
       "           Df Deviance    Resid. Df Resid. Dev Pr(>Chi) \n",
       "NULL       NA          NA 81        97.31980          NA\n",
       "sex         1 0.000840463 80        97.31896   0.9768720\n",
       "definition  1 2.068414331 79        95.25055   0.1503778\n",
       "need        1 0.039375249 78        95.21117   0.8427071\n",
       "purpose     2 0.831643046 76        94.37953   0.6597980\n",
       "interest    1 0.012477573 75        94.36705   0.9110589"
      ]
     },
     "metadata": {},
     "output_type": "display_data"
    },
    {
     "data": {
      "text/html": [
       "0.513333333333333"
      ],
      "text/latex": [
       "0.513333333333333"
      ],
      "text/markdown": [
       "0.513333333333333"
      ],
      "text/plain": [
       "[1] 0.5133333"
      ]
     },
     "metadata": {},
     "output_type": "display_data"
    },
    {
     "data": {
      "image/png": "[encoded data removed]",
      "text/plain": [
       "plot without title"
      ]
     },
     "metadata": {},
     "output_type": "display_data"
    }
   ],
   "source": [
    "model <- glm(t2_2 ~ sex + definition + need + purpose \n",
    "              + interest, data =train, family = binomial)\n",
    "summary(model)\n",
    "\n",
    "\n",
    "anova(model, test=\"Chisq\")\n",
    "\n",
    "\n",
    "p <- predict(model, newdata=test, type=\"response\")\n",
    "pr <- prediction(p, test$t2_2)\n",
    "prf <- performance(pr, measure = \"tpr\", x.measure = \"fpr\")\n",
    "plot(prf)\n",
    "\n",
    "auc <- performance(pr, measure = \"auc\")\n",
    "auc <- auc@y.values[[1]]\n",
    "auc"
   ]
  },
  {
   "cell_type": "code",
   "execution_count": 22,
   "metadata": {},
   "outputs": [
    {
     "data": {
      "text/plain": [
       "\n",
       "Call:\n",
       "glm(formula = t2_3 ~ sex + definition + need + purpose + interest, \n",
       "    family = binomial, data = train)\n",
       "\n",
       "Deviance Residuals: \n",
       "    Min       1Q   Median       3Q      Max  \n",
       "-1.0038  -0.7081  -0.5958  -0.4943   2.0465  \n",
       "\n",
       "Coefficients:\n",
       "                  Estimate Std. Error z value Pr(>|z|)\n",
       "(Intercept)       -1.71820    1.30008  -1.322    0.186\n",
       "sexMale            0.60514    0.79372   0.762    0.446\n",
       "definitionharmony -0.36429    0.76195  -0.478    0.633\n",
       "needharmony        0.07438    0.68351   0.109    0.913\n",
       "purposecosmetic   -0.44687    0.96284  -0.464    0.643\n",
       "purposeetc        -0.02959    0.73572  -0.040    0.968\n",
       "interest           0.12311    0.28881   0.426    0.670\n",
       "\n",
       "(Dispersion parameter for binomial family taken to be 1)\n",
       "\n",
       "    Null deviance: 80.945  on 81  degrees of freedom\n",
       "Residual deviance: 79.137  on 75  degrees of freedom\n",
       "AIC: 93.137\n",
       "\n",
       "Number of Fisher Scoring iterations: 4\n"
      ]
     },
     "metadata": {},
     "output_type": "display_data"
    },
    {
     "data": {
      "text/html": [
       "<table>\n",
       "<thead><tr><th></th><th scope=col>Df</th><th scope=col>Deviance</th><th scope=col>Resid. Df</th><th scope=col>Resid. Dev</th><th scope=col>Pr(&gt;Chi)</th></tr></thead>\n",
       "<tbody>\n",
       "\t<tr><th scope=row>NULL</th><td>NA        </td><td>        NA</td><td>81        </td><td>80.94469  </td><td>       NA </td></tr>\n",
       "\t<tr><th scope=row>sex</th><td> 1        </td><td>0.94197479</td><td>80        </td><td>80.00272  </td><td>0.3317705 </td></tr>\n",
       "\t<tr><th scope=row>definition</th><td> 1        </td><td>0.38433584</td><td>79        </td><td>79.61838  </td><td>0.5352919 </td></tr>\n",
       "\t<tr><th scope=row>need</th><td> 1        </td><td>0.02882834</td><td>78        </td><td>79.58955  </td><td>0.8651760 </td></tr>\n",
       "\t<tr><th scope=row>purpose</th><td> 2        </td><td>0.26862463</td><td>76        </td><td>79.32093  </td><td>0.8743170 </td></tr>\n",
       "\t<tr><th scope=row>interest</th><td> 1        </td><td>0.18350622</td><td>75        </td><td>79.13742  </td><td>0.6683772 </td></tr>\n",
       "</tbody>\n",
       "</table>\n"
      ],
      "text/latex": [
       "\\begin{tabular}{r|lllll}\n",
       "  & Df & Deviance & Resid. Df & Resid. Dev & Pr(>Chi)\\\\\n",
       "\\hline\n",
       "\tNULL & NA         &         NA & 81         & 80.94469   &        NA \\\\\n",
       "\tsex &  1         & 0.94197479 & 80         & 80.00272   & 0.3317705 \\\\\n",
       "\tdefinition &  1         & 0.38433584 & 79         & 79.61838   & 0.5352919 \\\\\n",
       "\tneed &  1         & 0.02882834 & 78         & 79.58955   & 0.8651760 \\\\\n",
       "\tpurpose &  2         & 0.26862463 & 76         & 79.32093   & 0.8743170 \\\\\n",
       "\tinterest &  1         & 0.18350622 & 75         & 79.13742   & 0.6683772 \\\\\n",
       "\\end{tabular}\n"
      ],
      "text/markdown": [
       "\n",
       "| <!--/--> | Df | Deviance | Resid. Df | Resid. Dev | Pr(>Chi) |\n",
       "|---|---|---|---|---|---|\n",
       "| NULL | NA         |         NA | 81         | 80.94469   |        NA  |\n",
       "| sex |  1         | 0.94197479 | 80         | 80.00272   | 0.3317705  |\n",
       "| definition |  1         | 0.38433584 | 79         | 79.61838   | 0.5352919  |\n",
       "| need |  1         | 0.02882834 | 78         | 79.58955   | 0.8651760  |\n",
       "| purpose |  2         | 0.26862463 | 76         | 79.32093   | 0.8743170  |\n",
       "| interest |  1         | 0.18350622 | 75         | 79.13742   | 0.6683772  |\n",
       "\n"
      ],
      "text/plain": [
       "           Df Deviance   Resid. Df Resid. Dev Pr(>Chi) \n",
       "NULL       NA         NA 81        80.94469          NA\n",
       "sex         1 0.94197479 80        80.00272   0.3317705\n",
       "definition  1 0.38433584 79        79.61838   0.5352919\n",
       "need        1 0.02882834 78        79.58955   0.8651760\n",
       "purpose     2 0.26862463 76        79.32093   0.8743170\n",
       "interest    1 0.18350622 75        79.13742   0.6683772"
      ]
     },
     "metadata": {},
     "output_type": "display_data"
    },
    {
     "data": {
      "text/html": [
       "0.645833333333333"
      ],
      "text/latex": [
       "0.645833333333333"
      ],
      "text/markdown": [
       "0.645833333333333"
      ],
      "text/plain": [
       "[1] 0.6458333"
      ]
     },
     "metadata": {},
     "output_type": "display_data"
    },
    {
     "data": {
      "image/png": "[encoded data removed]",
      "text/plain": [
       "plot without title"
      ]
     },
     "metadata": {},
     "output_type": "display_data"
    }
   ],
   "source": [
    "model <- glm(t2_3 ~ sex + definition + need + purpose \n",
    "              + interest, data =train, family = binomial)\n",
    "summary(model)\n",
    "\n",
    "\n",
    "anova(model, test=\"Chisq\")\n",
    "\n",
    "\n",
    "p <- predict(model, newdata=test, type=\"response\")\n",
    "pr <- prediction(p, test$t2_3)\n",
    "prf <- performance(pr, measure = \"tpr\", x.measure = \"fpr\")\n",
    "plot(prf)\n",
    "\n",
    "auc <- performance(pr, measure = \"auc\")\n",
    "auc <- auc@y.values[[1]]\n",
    "auc"
   ]
  },
  {
   "cell_type": "code",
   "execution_count": 23,
   "metadata": {},
   "outputs": [
    {
     "data": {
      "text/plain": [
       "\n",
       "Call:\n",
       "glm(formula = t2_4 ~ sex + definition + need + purpose + interest, \n",
       "    family = binomial, data = train)\n",
       "\n",
       "Deviance Residuals: \n",
       "    Min       1Q   Median       3Q      Max  \n",
       "-0.9417  -0.6546  -0.5927  -0.4868   2.0936  \n",
       "\n",
       "Coefficients:\n",
       "                  Estimate Std. Error z value Pr(>|z|)\n",
       "(Intercept)       -1.12991    1.32316  -0.854    0.393\n",
       "sexMale            0.23234    0.83094   0.280    0.780\n",
       "definitionharmony  0.70309    0.85461   0.823    0.411\n",
       "needharmony       -0.47474    0.69014  -0.688    0.492\n",
       "purposecosmetic    0.05866    0.88963   0.066    0.947\n",
       "purposeetc         0.02924    0.78534   0.037    0.970\n",
       "interest          -0.19449    0.29464  -0.660    0.509\n",
       "\n",
       "(Dispersion parameter for binomial family taken to be 1)\n",
       "\n",
       "    Null deviance: 78.032  on 81  degrees of freedom\n",
       "Residual deviance: 76.407  on 75  degrees of freedom\n",
       "AIC: 90.407\n",
       "\n",
       "Number of Fisher Scoring iterations: 4\n"
      ]
     },
     "metadata": {},
     "output_type": "display_data"
    },
    {
     "data": {
      "text/html": [
       "<table>\n",
       "<thead><tr><th></th><th scope=col>Df</th><th scope=col>Deviance</th><th scope=col>Resid. Df</th><th scope=col>Resid. Dev</th><th scope=col>Pr(&gt;Chi)</th></tr></thead>\n",
       "<tbody>\n",
       "\t<tr><th scope=row>NULL</th><td>NA         </td><td>         NA</td><td>81         </td><td>78.03164   </td><td>       NA  </td></tr>\n",
       "\t<tr><th scope=row>sex</th><td> 1         </td><td>0.229820522</td><td>80         </td><td>77.80182   </td><td>0.6316569  </td></tr>\n",
       "\t<tr><th scope=row>definition</th><td> 1         </td><td>0.472888490</td><td>79         </td><td>77.32893   </td><td>0.4916613  </td></tr>\n",
       "\t<tr><th scope=row>need</th><td> 1         </td><td>0.483993945</td><td>78         </td><td>76.84494   </td><td>0.4866188  </td></tr>\n",
       "\t<tr><th scope=row>purpose</th><td> 2         </td><td>0.002226111</td><td>76         </td><td>76.84271   </td><td>0.9988876  </td></tr>\n",
       "\t<tr><th scope=row>interest</th><td> 1         </td><td>0.435648240</td><td>75         </td><td>76.40706   </td><td>0.5092304  </td></tr>\n",
       "</tbody>\n",
       "</table>\n"
      ],
      "text/latex": [
       "\\begin{tabular}{r|lllll}\n",
       "  & Df & Deviance & Resid. Df & Resid. Dev & Pr(>Chi)\\\\\n",
       "\\hline\n",
       "\tNULL & NA          &          NA & 81          & 78.03164    &        NA  \\\\\n",
       "\tsex &  1          & 0.229820522 & 80          & 77.80182    & 0.6316569  \\\\\n",
       "\tdefinition &  1          & 0.472888490 & 79          & 77.32893    & 0.4916613  \\\\\n",
       "\tneed &  1          & 0.483993945 & 78          & 76.84494    & 0.4866188  \\\\\n",
       "\tpurpose &  2          & 0.002226111 & 76          & 76.84271    & 0.9988876  \\\\\n",
       "\tinterest &  1          & 0.435648240 & 75          & 76.40706    & 0.5092304  \\\\\n",
       "\\end{tabular}\n"
      ],
      "text/markdown": [
       "\n",
       "| <!--/--> | Df | Deviance | Resid. Df | Resid. Dev | Pr(>Chi) |\n",
       "|---|---|---|---|---|---|\n",
       "| NULL | NA          |          NA | 81          | 78.03164    |        NA   |\n",
       "| sex |  1          | 0.229820522 | 80          | 77.80182    | 0.6316569   |\n",
       "| definition |  1          | 0.472888490 | 79          | 77.32893    | 0.4916613   |\n",
       "| need |  1          | 0.483993945 | 78          | 76.84494    | 0.4866188   |\n",
       "| purpose |  2          | 0.002226111 | 76          | 76.84271    | 0.9988876   |\n",
       "| interest |  1          | 0.435648240 | 75          | 76.40706    | 0.5092304   |\n",
       "\n"
      ],
      "text/plain": [
       "           Df Deviance    Resid. Df Resid. Dev Pr(>Chi) \n",
       "NULL       NA          NA 81        78.03164          NA\n",
       "sex         1 0.229820522 80        77.80182   0.6316569\n",
       "definition  1 0.472888490 79        77.32893   0.4916613\n",
       "need        1 0.483993945 78        76.84494   0.4866188\n",
       "purpose     2 0.002226111 76        76.84271   0.9988876\n",
       "interest    1 0.435648240 75        76.40706   0.5092304"
      ]
     },
     "metadata": {},
     "output_type": "display_data"
    },
    {
     "data": {
      "text/html": [
       "0.208333333333333"
      ],
      "text/latex": [
       "0.208333333333333"
      ],
      "text/markdown": [
       "0.208333333333333"
      ],
      "text/plain": [
       "[1] 0.2083333"
      ]
     },
     "metadata": {},
     "output_type": "display_data"
    },
    {
     "data": {
      "image/png": "[encoded data removed]",
      "text/plain": [
       "plot without title"
      ]
     },
     "metadata": {},
     "output_type": "display_data"
    }
   ],
   "source": [
    "model <- glm(t2_4 ~ sex + definition + need + purpose \n",
    "              + interest, data =train, family = binomial)\n",
    "summary(model)\n",
    "\n",
    "\n",
    "anova(model, test=\"Chisq\")\n",
    "\n",
    "\n",
    "p <- predict(model, newdata=test, type=\"response\")\n",
    "pr <- prediction(p, test$t2_4)\n",
    "prf <- performance(pr, measure = \"tpr\", x.measure = \"fpr\")\n",
    "plot(prf)\n",
    "\n",
    "auc <- performance(pr, measure = \"auc\")\n",
    "auc <- auc@y.values[[1]]\n",
    "auc"
   ]
  },
  {
   "cell_type": "code",
   "execution_count": 24,
   "metadata": {},
   "outputs": [
    {
     "data": {
      "text/plain": [
       "\n",
       "Call:\n",
       "glm(formula = t2_5 ~ sex + definition + need + purpose + interest, \n",
       "    family = binomial, data = train)\n",
       "\n",
       "Deviance Residuals: \n",
       "    Min       1Q   Median       3Q      Max  \n",
       "-0.8783  -0.5054  -0.4008  -0.3157   2.4471  \n",
       "\n",
       "Coefficients:\n",
       "                  Estimate Std. Error z value Pr(>|z|)  \n",
       "(Intercept)        -4.3792     1.8565  -2.359   0.0183 *\n",
       "sexMale             0.2821     1.1143   0.253   0.8001  \n",
       "definitionharmony  -0.2255     0.9929  -0.227   0.8204  \n",
       "needharmony         0.3892     0.9501   0.410   0.6821  \n",
       "purposecosmetic    -0.1902     1.3520  -0.141   0.8881  \n",
       "purposeetc          0.7857     0.9577   0.820   0.4120  \n",
       "interest            0.4788     0.4011   1.194   0.2326  \n",
       "---\n",
       "Signif. codes:  0 '***' 0.001 '**' 0.01 '*' 0.05 '.' 0.1 ' ' 1\n",
       "\n",
       "(Dispersion parameter for binomial family taken to be 1)\n",
       "\n",
       "    Null deviance: 56.745  on 81  degrees of freedom\n",
       "Residual deviance: 53.324  on 75  degrees of freedom\n",
       "AIC: 67.324\n",
       "\n",
       "Number of Fisher Scoring iterations: 5\n"
      ]
     },
     "metadata": {},
     "output_type": "display_data"
    },
    {
     "data": {
      "text/html": [
       "<table>\n",
       "<thead><tr><th></th><th scope=col>Df</th><th scope=col>Deviance</th><th scope=col>Resid. Df</th><th scope=col>Resid. Dev</th><th scope=col>Pr(&gt;Chi)</th></tr></thead>\n",
       "<tbody>\n",
       "\t<tr><th scope=row>NULL</th><td>NA          </td><td>          NA</td><td>81          </td><td>56.74484    </td><td>       NA   </td></tr>\n",
       "\t<tr><th scope=row>sex</th><td> 1          </td><td>0.0004322511</td><td>80          </td><td>56.74440    </td><td>0.9834127   </td></tr>\n",
       "\t<tr><th scope=row>definition</th><td> 1          </td><td>0.1513692629</td><td>79          </td><td>56.59303    </td><td>0.6972303   </td></tr>\n",
       "\t<tr><th scope=row>need</th><td> 1          </td><td>0.3299361100</td><td>78          </td><td>56.26310    </td><td>0.5656967   </td></tr>\n",
       "\t<tr><th scope=row>purpose</th><td> 2          </td><td>1.4026188586</td><td>76          </td><td>54.86048    </td><td>0.4959355   </td></tr>\n",
       "\t<tr><th scope=row>interest</th><td> 1          </td><td>1.5367720602</td><td>75          </td><td>53.32371    </td><td>0.2150989   </td></tr>\n",
       "</tbody>\n",
       "</table>\n"
      ],
      "text/latex": [
       "\\begin{tabular}{r|lllll}\n",
       "  & Df & Deviance & Resid. Df & Resid. Dev & Pr(>Chi)\\\\\n",
       "\\hline\n",
       "\tNULL & NA           &           NA & 81           & 56.74484     &        NA   \\\\\n",
       "\tsex &  1           & 0.0004322511 & 80           & 56.74440     & 0.9834127   \\\\\n",
       "\tdefinition &  1           & 0.1513692629 & 79           & 56.59303     & 0.6972303   \\\\\n",
       "\tneed &  1           & 0.3299361100 & 78           & 56.26310     & 0.5656967   \\\\\n",
       "\tpurpose &  2           & 1.4026188586 & 76           & 54.86048     & 0.4959355   \\\\\n",
       "\tinterest &  1           & 1.5367720602 & 75           & 53.32371     & 0.2150989   \\\\\n",
       "\\end{tabular}\n"
      ],
      "text/markdown": [
       "\n",
       "| <!--/--> | Df | Deviance | Resid. Df | Resid. Dev | Pr(>Chi) |\n",
       "|---|---|---|---|---|---|\n",
       "| NULL | NA           |           NA | 81           | 56.74484     |        NA    |\n",
       "| sex |  1           | 0.0004322511 | 80           | 56.74440     | 0.9834127    |\n",
       "| definition |  1           | 0.1513692629 | 79           | 56.59303     | 0.6972303    |\n",
       "| need |  1           | 0.3299361100 | 78           | 56.26310     | 0.5656967    |\n",
       "| purpose |  2           | 1.4026188586 | 76           | 54.86048     | 0.4959355    |\n",
       "| interest |  1           | 1.5367720602 | 75           | 53.32371     | 0.2150989    |\n",
       "\n"
      ],
      "text/plain": [
       "           Df Deviance     Resid. Df Resid. Dev Pr(>Chi) \n",
       "NULL       NA           NA 81        56.74484          NA\n",
       "sex         1 0.0004322511 80        56.74440   0.9834127\n",
       "definition  1 0.1513692629 79        56.59303   0.6972303\n",
       "need        1 0.3299361100 78        56.26310   0.5656967\n",
       "purpose     2 1.4026188586 76        54.86048   0.4959355\n",
       "interest    1 1.5367720602 75        53.32371   0.2150989"
      ]
     },
     "metadata": {},
     "output_type": "display_data"
    },
    {
     "data": {
      "text/html": [
       "0.502"
      ],
      "text/latex": [
       "0.502"
      ],
      "text/markdown": [
       "0.502"
      ],
      "text/plain": [
       "[1] 0.502"
      ]
     },
     "metadata": {},
     "output_type": "display_data"
    },
    {
     "data": {
      "image/png": "[encoded data removed]",
      "text/plain": [
       "plot without title"
      ]
     },
     "metadata": {},
     "output_type": "display_data"
    }
   ],
   "source": [
    "model <- glm(t2_5 ~ sex + definition + need + purpose \n",
    "              + interest, data =train, family = binomial)\n",
    "summary(model)\n",
    "\n",
    "\n",
    "anova(model, test=\"Chisq\")\n",
    "\n",
    "\n",
    "p <- predict(model, newdata=test, type=\"response\")\n",
    "pr <- prediction(p, test$t2_5)\n",
    "prf <- performance(pr, measure = \"tpr\", x.measure = \"fpr\")\n",
    "plot(prf)\n",
    "\n",
    "auc <- performance(pr, measure = \"auc\")\n",
    "auc <- auc@y.values[[1]]\n",
    "auc"
   ]
  },
  {
   "cell_type": "code",
   "execution_count": 25,
   "metadata": {},
   "outputs": [
    {
     "data": {
      "text/plain": [
       "\n",
       "Call:\n",
       "glm(formula = d1_1 ~ sex + definition + need + purpose + interest, \n",
       "    family = binomial, data = train)\n",
       "\n",
       "Deviance Residuals: \n",
       "    Min       1Q   Median       3Q      Max  \n",
       "-0.9585  -0.8264  -0.6666   1.3770   1.8952  \n",
       "\n",
       "Coefficients:\n",
       "                  Estimate Std. Error z value Pr(>|z|)\n",
       "(Intercept)       -1.14599    1.16030  -0.988    0.323\n",
       "sexMale            0.78136    0.75850   1.030    0.303\n",
       "definitionharmony -0.19911    0.69842  -0.285    0.776\n",
       "needharmony       -0.16022    0.62360  -0.257    0.797\n",
       "purposecosmetic   -0.03258    0.86432  -0.038    0.970\n",
       "purposeetc         0.63712    0.68548   0.929    0.353\n",
       "interest          -0.01530    0.25627  -0.060    0.952\n",
       "\n",
       "(Dispersion parameter for binomial family taken to be 1)\n",
       "\n",
       "    Null deviance: 95.375  on 81  degrees of freedom\n",
       "Residual deviance: 93.114  on 75  degrees of freedom\n",
       "AIC: 107.11\n",
       "\n",
       "Number of Fisher Scoring iterations: 4\n"
      ]
     },
     "metadata": {},
     "output_type": "display_data"
    },
    {
     "data": {
      "text/html": [
       "<table>\n",
       "<thead><tr><th></th><th scope=col>Df</th><th scope=col>Deviance</th><th scope=col>Resid. Df</th><th scope=col>Resid. Dev</th><th scope=col>Pr(&gt;Chi)</th></tr></thead>\n",
       "<tbody>\n",
       "\t<tr><th scope=row>NULL</th><td>NA         </td><td>         NA</td><td>81         </td><td>95.37474   </td><td>       NA  </td></tr>\n",
       "\t<tr><th scope=row>sex</th><td> 1         </td><td>0.481332567</td><td>80         </td><td>94.89341   </td><td>0.4878193  </td></tr>\n",
       "\t<tr><th scope=row>definition</th><td> 1         </td><td>0.457993410</td><td>79         </td><td>94.43542   </td><td>0.4985633  </td></tr>\n",
       "\t<tr><th scope=row>need</th><td> 1         </td><td>0.029343187</td><td>78         </td><td>94.40607   </td><td>0.8639890  </td></tr>\n",
       "\t<tr><th scope=row>purpose</th><td> 2         </td><td>1.288837331</td><td>76         </td><td>93.11723   </td><td>0.5249676  </td></tr>\n",
       "\t<tr><th scope=row>interest</th><td> 1         </td><td>0.003561553</td><td>75         </td><td>93.11367   </td><td>0.9524115  </td></tr>\n",
       "</tbody>\n",
       "</table>\n"
      ],
      "text/latex": [
       "\\begin{tabular}{r|lllll}\n",
       "  & Df & Deviance & Resid. Df & Resid. Dev & Pr(>Chi)\\\\\n",
       "\\hline\n",
       "\tNULL & NA          &          NA & 81          & 95.37474    &        NA  \\\\\n",
       "\tsex &  1          & 0.481332567 & 80          & 94.89341    & 0.4878193  \\\\\n",
       "\tdefinition &  1          & 0.457993410 & 79          & 94.43542    & 0.4985633  \\\\\n",
       "\tneed &  1          & 0.029343187 & 78          & 94.40607    & 0.8639890  \\\\\n",
       "\tpurpose &  2          & 1.288837331 & 76          & 93.11723    & 0.5249676  \\\\\n",
       "\tinterest &  1          & 0.003561553 & 75          & 93.11367    & 0.9524115  \\\\\n",
       "\\end{tabular}\n"
      ],
      "text/markdown": [
       "\n",
       "| <!--/--> | Df | Deviance | Resid. Df | Resid. Dev | Pr(>Chi) |\n",
       "|---|---|---|---|---|---|\n",
       "| NULL | NA          |          NA | 81          | 95.37474    |        NA   |\n",
       "| sex |  1          | 0.481332567 | 80          | 94.89341    | 0.4878193   |\n",
       "| definition |  1          | 0.457993410 | 79          | 94.43542    | 0.4985633   |\n",
       "| need |  1          | 0.029343187 | 78          | 94.40607    | 0.8639890   |\n",
       "| purpose |  2          | 1.288837331 | 76          | 93.11723    | 0.5249676   |\n",
       "| interest |  1          | 0.003561553 | 75          | 93.11367    | 0.9524115   |\n",
       "\n"
      ],
      "text/plain": [
       "           Df Deviance    Resid. Df Resid. Dev Pr(>Chi) \n",
       "NULL       NA          NA 81        95.37474          NA\n",
       "sex         1 0.481332567 80        94.89341   0.4878193\n",
       "definition  1 0.457993410 79        94.43542   0.4985633\n",
       "need        1 0.029343187 78        94.40607   0.8639890\n",
       "purpose     2 1.288837331 76        93.11723   0.5249676\n",
       "interest    1 0.003561553 75        93.11367   0.9524115"
      ]
     },
     "metadata": {},
     "output_type": "display_data"
    },
    {
     "data": {
      "text/html": [
       "0.596774193548387"
      ],
      "text/latex": [
       "0.596774193548387"
      ],
      "text/markdown": [
       "0.596774193548387"
      ],
      "text/plain": [
       "[1] 0.5967742"
      ]
     },
     "metadata": {},
     "output_type": "display_data"
    },
    {
     "data": {
      "image/png": "[encoded data removed]",
      "text/plain": [
       "plot without title"
      ]
     },
     "metadata": {},
     "output_type": "display_data"
    }
   ],
   "source": [
    "model <- glm(d1_1 ~ sex + definition + need + purpose \n",
    "              + interest, data =train, family = binomial)\n",
    "summary(model)\n",
    "\n",
    "\n",
    "anova(model, test=\"Chisq\")\n",
    "\n",
    "\n",
    "p <- predict(model, newdata=test, type=\"response\")\n",
    "pr <- prediction(p, test$d1_1)\n",
    "prf <- performance(pr, measure = \"tpr\", x.measure = \"fpr\")\n",
    "plot(prf)\n",
    "\n",
    "auc <- performance(pr, measure = \"auc\")\n",
    "auc <- auc@y.values[[1]]\n",
    "auc"
   ]
  },
  {
   "cell_type": "code",
   "execution_count": 26,
   "metadata": {},
   "outputs": [
    {
     "data": {
      "text/plain": [
       "\n",
       "Call:\n",
       "glm(formula = d1_2 ~ sex + definition + need + purpose + interest, \n",
       "    family = binomial, data = train)\n",
       "\n",
       "Deviance Residuals: \n",
       "    Min       1Q   Median       3Q      Max  \n",
       "-1.2215  -0.8904  -0.7381   1.1617   1.8251  \n",
       "\n",
       "Coefficients:\n",
       "                  Estimate Std. Error z value Pr(>|z|)\n",
       "(Intercept)        0.32431    1.09634   0.296    0.767\n",
       "sexMale           -0.65994    0.74466  -0.886    0.375\n",
       "definitionharmony -0.40404    0.63109  -0.640    0.522\n",
       "needharmony       -0.52758    0.56932  -0.927    0.354\n",
       "purposecosmetic   -0.40296    0.73070  -0.551    0.581\n",
       "purposeetc        -0.10808    0.61333  -0.176    0.860\n",
       "interest          -0.03773    0.24791  -0.152    0.879\n",
       "\n",
       "(Dispersion parameter for binomial family taken to be 1)\n",
       "\n",
       "    Null deviance: 105.29  on 81  degrees of freedom\n",
       "Residual deviance: 100.82  on 75  degrees of freedom\n",
       "AIC: 114.82\n",
       "\n",
       "Number of Fisher Scoring iterations: 4\n"
      ]
     },
     "metadata": {},
     "output_type": "display_data"
    },
    {
     "data": {
      "text/html": [
       "<table>\n",
       "<thead><tr><th></th><th scope=col>Df</th><th scope=col>Deviance</th><th scope=col>Resid. Df</th><th scope=col>Resid. Dev</th><th scope=col>Pr(&gt;Chi)</th></tr></thead>\n",
       "<tbody>\n",
       "\t<tr><th scope=row>NULL</th><td>NA        </td><td>        NA</td><td>81        </td><td>105.2882  </td><td>       NA </td></tr>\n",
       "\t<tr><th scope=row>sex</th><td> 1        </td><td>1.53870930</td><td>80        </td><td>103.7495  </td><td>0.2148100 </td></tr>\n",
       "\t<tr><th scope=row>definition</th><td> 1        </td><td>1.77360057</td><td>79        </td><td>101.9759  </td><td>0.1829371 </td></tr>\n",
       "\t<tr><th scope=row>need</th><td> 1        </td><td>0.80354494</td><td>78        </td><td>101.1724  </td><td>0.3700356 </td></tr>\n",
       "\t<tr><th scope=row>purpose</th><td> 2        </td><td>0.32646044</td><td>76        </td><td>100.8459  </td><td>0.8493956 </td></tr>\n",
       "\t<tr><th scope=row>interest</th><td> 1        </td><td>0.02315323</td><td>75        </td><td>100.8228  </td><td>0.8790593 </td></tr>\n",
       "</tbody>\n",
       "</table>\n"
      ],
      "text/latex": [
       "\\begin{tabular}{r|lllll}\n",
       "  & Df & Deviance & Resid. Df & Resid. Dev & Pr(>Chi)\\\\\n",
       "\\hline\n",
       "\tNULL & NA         &         NA & 81         & 105.2882   &        NA \\\\\n",
       "\tsex &  1         & 1.53870930 & 80         & 103.7495   & 0.2148100 \\\\\n",
       "\tdefinition &  1         & 1.77360057 & 79         & 101.9759   & 0.1829371 \\\\\n",
       "\tneed &  1         & 0.80354494 & 78         & 101.1724   & 0.3700356 \\\\\n",
       "\tpurpose &  2         & 0.32646044 & 76         & 100.8459   & 0.8493956 \\\\\n",
       "\tinterest &  1         & 0.02315323 & 75         & 100.8228   & 0.8790593 \\\\\n",
       "\\end{tabular}\n"
      ],
      "text/markdown": [
       "\n",
       "| <!--/--> | Df | Deviance | Resid. Df | Resid. Dev | Pr(>Chi) |\n",
       "|---|---|---|---|---|---|\n",
       "| NULL | NA         |         NA | 81         | 105.2882   |        NA  |\n",
       "| sex |  1         | 1.53870930 | 80         | 103.7495   | 0.2148100  |\n",
       "| definition |  1         | 1.77360057 | 79         | 101.9759   | 0.1829371  |\n",
       "| need |  1         | 0.80354494 | 78         | 101.1724   | 0.3700356  |\n",
       "| purpose |  2         | 0.32646044 | 76         | 100.8459   | 0.8493956  |\n",
       "| interest |  1         | 0.02315323 | 75         | 100.8228   | 0.8790593  |\n",
       "\n"
      ],
      "text/plain": [
       "           Df Deviance   Resid. Df Resid. Dev Pr(>Chi) \n",
       "NULL       NA         NA 81        105.2882          NA\n",
       "sex         1 1.53870930 80        103.7495   0.2148100\n",
       "definition  1 1.77360057 79        101.9759   0.1829371\n",
       "need        1 0.80354494 78        101.1724   0.3700356\n",
       "purpose     2 0.32646044 76        100.8459   0.8493956\n",
       "interest    1 0.02315323 75        100.8228   0.8790593"
      ]
     },
     "metadata": {},
     "output_type": "display_data"
    },
    {
     "data": {
      "text/html": [
       "0.5625"
      ],
      "text/latex": [
       "0.5625"
      ],
      "text/markdown": [
       "0.5625"
      ],
      "text/plain": [
       "[1] 0.5625"
      ]
     },
     "metadata": {},
     "output_type": "display_data"
    },
    {
     "data": {
      "image/png": "[encoded data removed]",
      "text/plain": [
       "plot without title"
      ]
     },
     "metadata": {},
     "output_type": "display_data"
    }
   ],
   "source": [
    "model <- glm(d1_2 ~ sex + definition + need + purpose \n",
    "              + interest, data =train, family = binomial)\n",
    "summary(model)\n",
    "\n",
    "\n",
    "anova(model, test=\"Chisq\")\n",
    "\n",
    "\n",
    "p <- predict(model, newdata=test, type=\"response\")\n",
    "pr <- prediction(p, test$d1_2)\n",
    "prf <- performance(pr, measure = \"tpr\", x.measure = \"fpr\")\n",
    "plot(prf)\n",
    "\n",
    "auc <- performance(pr, measure = \"auc\")\n",
    "auc <- auc@y.values[[1]]\n",
    "auc"
   ]
  },
  {
   "cell_type": "code",
   "execution_count": 27,
   "metadata": {},
   "outputs": [
    {
     "data": {
      "text/plain": [
       "\n",
       "Call:\n",
       "glm(formula = d1_3 ~ sex + definition + need + purpose + interest, \n",
       "    family = binomial, data = train)\n",
       "\n",
       "Deviance Residuals: \n",
       "    Min       1Q   Median       3Q      Max  \n",
       "-0.9146  -0.5189  -0.4549  -0.2921   2.1540  \n",
       "\n",
       "Coefficients:\n",
       "                   Estimate Std. Error z value Pr(>|z|)  \n",
       "(Intercept)       -3.403401   1.614903  -2.107   0.0351 *\n",
       "sexMale            1.148844   1.001800   1.147   0.2515  \n",
       "definitionharmony -0.104637   0.969750  -0.108   0.9141  \n",
       "needharmony        1.296128   0.922186   1.405   0.1599  \n",
       "purposecosmetic    1.559792   1.050241   1.485   0.1375  \n",
       "purposeetc         0.277666   1.009766   0.275   0.7833  \n",
       "interest          -0.001518   0.322471  -0.005   0.9962  \n",
       "---\n",
       "Signif. codes:  0 '***' 0.001 '**' 0.01 '*' 0.05 '.' 0.1 ' ' 1\n",
       "\n",
       "(Dispersion parameter for binomial family taken to be 1)\n",
       "\n",
       "    Null deviance: 68.275  on 81  degrees of freedom\n",
       "Residual deviance: 61.817  on 75  degrees of freedom\n",
       "AIC: 75.817\n",
       "\n",
       "Number of Fisher Scoring iterations: 5\n"
      ]
     },
     "metadata": {},
     "output_type": "display_data"
    },
    {
     "data": {
      "text/html": [
       "<table>\n",
       "<thead><tr><th></th><th scope=col>Df</th><th scope=col>Deviance</th><th scope=col>Resid. Df</th><th scope=col>Resid. Dev</th><th scope=col>Pr(&gt;Chi)</th></tr></thead>\n",
       "<tbody>\n",
       "\t<tr><th scope=row>NULL</th><td>NA          </td><td>          NA</td><td>81          </td><td>68.27486    </td><td>       NA   </td></tr>\n",
       "\t<tr><th scope=row>sex</th><td> 1          </td><td>9.788593e-01</td><td>80          </td><td>67.29600    </td><td>0.3224806   </td></tr>\n",
       "\t<tr><th scope=row>definition</th><td> 1          </td><td>5.763416e-01</td><td>79          </td><td>66.71966    </td><td>0.4477499   </td></tr>\n",
       "\t<tr><th scope=row>need</th><td> 1          </td><td>1.929226e+00</td><td>78          </td><td>64.79044    </td><td>0.1648431   </td></tr>\n",
       "\t<tr><th scope=row>purpose</th><td> 2          </td><td>2.973203e+00</td><td>76          </td><td>61.81723    </td><td>0.2261399   </td></tr>\n",
       "\t<tr><th scope=row>interest</th><td> 1          </td><td>2.216044e-05</td><td>75          </td><td>61.81721    </td><td>0.9962440   </td></tr>\n",
       "</tbody>\n",
       "</table>\n"
      ],
      "text/latex": [
       "\\begin{tabular}{r|lllll}\n",
       "  & Df & Deviance & Resid. Df & Resid. Dev & Pr(>Chi)\\\\\n",
       "\\hline\n",
       "\tNULL & NA           &           NA & 81           & 68.27486     &        NA   \\\\\n",
       "\tsex &  1           & 9.788593e-01 & 80           & 67.29600     & 0.3224806   \\\\\n",
       "\tdefinition &  1           & 5.763416e-01 & 79           & 66.71966     & 0.4477499   \\\\\n",
       "\tneed &  1           & 1.929226e+00 & 78           & 64.79044     & 0.1648431   \\\\\n",
       "\tpurpose &  2           & 2.973203e+00 & 76           & 61.81723     & 0.2261399   \\\\\n",
       "\tinterest &  1           & 2.216044e-05 & 75           & 61.81721     & 0.9962440   \\\\\n",
       "\\end{tabular}\n"
      ],
      "text/markdown": [
       "\n",
       "| <!--/--> | Df | Deviance | Resid. Df | Resid. Dev | Pr(>Chi) |\n",
       "|---|---|---|---|---|---|\n",
       "| NULL | NA           |           NA | 81           | 68.27486     |        NA    |\n",
       "| sex |  1           | 9.788593e-01 | 80           | 67.29600     | 0.3224806    |\n",
       "| definition |  1           | 5.763416e-01 | 79           | 66.71966     | 0.4477499    |\n",
       "| need |  1           | 1.929226e+00 | 78           | 64.79044     | 0.1648431    |\n",
       "| purpose |  2           | 2.973203e+00 | 76           | 61.81723     | 0.2261399    |\n",
       "| interest |  1           | 2.216044e-05 | 75           | 61.81721     | 0.9962440    |\n",
       "\n"
      ],
      "text/plain": [
       "           Df Deviance     Resid. Df Resid. Dev Pr(>Chi) \n",
       "NULL       NA           NA 81        68.27486          NA\n",
       "sex         1 9.788593e-01 80        67.29600   0.3224806\n",
       "definition  1 5.763416e-01 79        66.71966   0.4477499\n",
       "need        1 1.929226e+00 78        64.79044   0.1648431\n",
       "purpose     2 2.973203e+00 76        61.81723   0.2261399\n",
       "interest    1 2.216044e-05 75        61.81721   0.9962440"
      ]
     },
     "metadata": {},
     "output_type": "display_data"
    },
    {
     "data": {
      "text/html": [
       "0.596774193548387"
      ],
      "text/latex": [
       "0.596774193548387"
      ],
      "text/markdown": [
       "0.596774193548387"
      ],
      "text/plain": [
       "[1] 0.5967742"
      ]
     },
     "metadata": {},
     "output_type": "display_data"
    },
    {
     "data": {
      "image/png": "[encoded data removed]",
      "text/plain": [
       "plot without title"
      ]
     },
     "metadata": {},
     "output_type": "display_data"
    }
   ],
   "source": [
    "model <- glm(d1_3 ~ sex + definition + need + purpose \n",
    "              + interest, data =train, family = binomial)\n",
    "summary(model)\n",
    "\n",
    "\n",
    "anova(model, test=\"Chisq\")\n",
    "\n",
    "\n",
    "p <- predict(model, newdata=test, type=\"response\")\n",
    "pr <- prediction(p, test$d1_3)\n",
    "prf <- performance(pr, measure = \"tpr\", x.measure = \"fpr\")\n",
    "plot(prf)\n",
    "\n",
    "auc <- performance(pr, measure = \"auc\")\n",
    "auc <- auc@y.values[[1]]\n",
    "auc"
   ]
  },
  {
   "cell_type": "code",
   "execution_count": 28,
   "metadata": {},
   "outputs": [
    {
     "data": {
      "text/plain": [
       "\n",
       "Call:\n",
       "glm(formula = d1_5 ~ sex + definition + need + purpose + interest, \n",
       "    family = binomial, data = train)\n",
       "\n",
       "Deviance Residuals: \n",
       "     Min        1Q    Median        3Q       Max  \n",
       "-0.84467  -0.58319  -0.46187  -0.00014   2.15584  \n",
       "\n",
       "Coefficients:\n",
       "                   Estimate Std. Error z value Pr(>|z|)\n",
       "(Intercept)         -2.1994     1.6796  -1.309    0.190\n",
       "sexMale             -0.9762     0.9401  -1.038    0.299\n",
       "definitionharmony    0.6265     1.0178   0.616    0.538\n",
       "needharmony          0.1423     0.8701   0.164    0.870\n",
       "purposecosmetic    -17.3671  1616.8733  -0.011    0.991\n",
       "purposeetc          -0.6049     0.7808  -0.775    0.438\n",
       "interest             0.1167     0.3690   0.316    0.752\n",
       "\n",
       "(Dispersion parameter for binomial family taken to be 1)\n",
       "\n",
       "    Null deviance: 60.810  on 81  degrees of freedom\n",
       "Residual deviance: 54.347  on 75  degrees of freedom\n",
       "AIC: 68.347\n",
       "\n",
       "Number of Fisher Scoring iterations: 17\n"
      ]
     },
     "metadata": {},
     "output_type": "display_data"
    },
    {
     "data": {
      "text/html": [
       "<table>\n",
       "<thead><tr><th></th><th scope=col>Df</th><th scope=col>Deviance</th><th scope=col>Resid. Df</th><th scope=col>Resid. Dev</th><th scope=col>Pr(&gt;Chi)</th></tr></thead>\n",
       "<tbody>\n",
       "\t<tr><th scope=row>NULL</th><td>NA        </td><td>        NA</td><td>81        </td><td>60.81033  </td><td>        NA</td></tr>\n",
       "\t<tr><th scope=row>sex</th><td> 1        </td><td>0.02579746</td><td>80        </td><td>60.78454  </td><td>0.87239594</td></tr>\n",
       "\t<tr><th scope=row>definition</th><td> 1        </td><td>0.46836024</td><td>79        </td><td>60.31618  </td><td>0.49374251</td></tr>\n",
       "\t<tr><th scope=row>need</th><td> 1        </td><td>0.07717403</td><td>78        </td><td>60.23900  </td><td>0.78116424</td></tr>\n",
       "\t<tr><th scope=row>purpose</th><td> 2        </td><td>5.79160440</td><td>76        </td><td>54.44740  </td><td>0.05525468</td></tr>\n",
       "\t<tr><th scope=row>interest</th><td> 1        </td><td>0.10018828</td><td>75        </td><td>54.34721  </td><td>0.75160381</td></tr>\n",
       "</tbody>\n",
       "</table>\n"
      ],
      "text/latex": [
       "\\begin{tabular}{r|lllll}\n",
       "  & Df & Deviance & Resid. Df & Resid. Dev & Pr(>Chi)\\\\\n",
       "\\hline\n",
       "\tNULL & NA         &         NA & 81         & 60.81033   &         NA\\\\\n",
       "\tsex &  1         & 0.02579746 & 80         & 60.78454   & 0.87239594\\\\\n",
       "\tdefinition &  1         & 0.46836024 & 79         & 60.31618   & 0.49374251\\\\\n",
       "\tneed &  1         & 0.07717403 & 78         & 60.23900   & 0.78116424\\\\\n",
       "\tpurpose &  2         & 5.79160440 & 76         & 54.44740   & 0.05525468\\\\\n",
       "\tinterest &  1         & 0.10018828 & 75         & 54.34721   & 0.75160381\\\\\n",
       "\\end{tabular}\n"
      ],
      "text/markdown": [
       "\n",
       "| <!--/--> | Df | Deviance | Resid. Df | Resid. Dev | Pr(>Chi) |\n",
       "|---|---|---|---|---|---|\n",
       "| NULL | NA         |         NA | 81         | 60.81033   |         NA |\n",
       "| sex |  1         | 0.02579746 | 80         | 60.78454   | 0.87239594 |\n",
       "| definition |  1         | 0.46836024 | 79         | 60.31618   | 0.49374251 |\n",
       "| need |  1         | 0.07717403 | 78         | 60.23900   | 0.78116424 |\n",
       "| purpose |  2         | 5.79160440 | 76         | 54.44740   | 0.05525468 |\n",
       "| interest |  1         | 0.10018828 | 75         | 54.34721   | 0.75160381 |\n",
       "\n"
      ],
      "text/plain": [
       "           Df Deviance   Resid. Df Resid. Dev Pr(>Chi)  \n",
       "NULL       NA         NA 81        60.81033           NA\n",
       "sex         1 0.02579746 80        60.78454   0.87239594\n",
       "definition  1 0.46836024 79        60.31618   0.49374251\n",
       "need        1 0.07717403 78        60.23900   0.78116424\n",
       "purpose     2 5.79160440 76        54.44740   0.05525468\n",
       "interest    1 0.10018828 75        54.34721   0.75160381"
      ]
     },
     "metadata": {},
     "output_type": "display_data"
    },
    {
     "data": {
      "text/html": [
       "0.427083333333333"
      ],
      "text/latex": [
       "0.427083333333333"
      ],
      "text/markdown": [
       "0.427083333333333"
      ],
      "text/plain": [
       "[1] 0.4270833"
      ]
     },
     "metadata": {},
     "output_type": "display_data"
    },
    {
     "data": {
      "image/png": "[encoded data removed]",
      "text/plain": [
       "plot without title"
      ]
     },
     "metadata": {},
     "output_type": "display_data"
    }
   ],
   "source": [
    "model <- glm(d1_5 ~ sex + definition + need + purpose \n",
    "              + interest, data =train, family = binomial)\n",
    "summary(model)\n",
    "\n",
    "\n",
    "anova(model, test=\"Chisq\")\n",
    "\n",
    "\n",
    "p <- predict(model, newdata=test, type=\"response\")\n",
    "pr <- prediction(p, test$d1_5)\n",
    "prf <- performance(pr, measure = \"tpr\", x.measure = \"fpr\")\n",
    "plot(prf)\n",
    "\n",
    "auc <- performance(pr, measure = \"auc\")\n",
    "auc <- auc@y.values[[1]]\n",
    "auc"
   ]
  },
  {
   "cell_type": "code",
   "execution_count": 29,
   "metadata": {},
   "outputs": [
    {
     "data": {
      "text/plain": [
       "\n",
       "Call:\n",
       "glm(formula = d2_1 ~ sex + definition + need + purpose + interest, \n",
       "    family = binomial, data = train)\n",
       "\n",
       "Deviance Residuals: \n",
       "    Min       1Q   Median       3Q      Max  \n",
       "-1.2216  -0.9514  -0.8085   1.2678   1.7856  \n",
       "\n",
       "Coefficients:\n",
       "                  Estimate Std. Error z value Pr(>|z|)\n",
       "(Intercept)       -0.79606    1.07753  -0.739    0.460\n",
       "sexMale           -0.29527    0.69484  -0.425    0.671\n",
       "definitionharmony  0.39244    0.64088   0.612    0.540\n",
       "needharmony       -0.75868    0.56264  -1.348    0.178\n",
       "purposecosmetic   -0.48846    0.73050  -0.669    0.504\n",
       "purposeetc        -0.07168    0.60370  -0.119    0.905\n",
       "interest           0.16901    0.24328   0.695    0.487\n",
       "\n",
       "(Dispersion parameter for binomial family taken to be 1)\n",
       "\n",
       "    Null deviance: 107.70  on 81  degrees of freedom\n",
       "Residual deviance: 104.93  on 75  degrees of freedom\n",
       "AIC: 118.93\n",
       "\n",
       "Number of Fisher Scoring iterations: 4\n"
      ]
     },
     "metadata": {},
     "output_type": "display_data"
    },
    {
     "data": {
      "text/html": [
       "<table>\n",
       "<thead><tr><th></th><th scope=col>Df</th><th scope=col>Deviance</th><th scope=col>Resid. Df</th><th scope=col>Resid. Dev</th><th scope=col>Pr(&gt;Chi)</th></tr></thead>\n",
       "<tbody>\n",
       "\t<tr><th scope=row>NULL</th><td>NA        </td><td>        NA</td><td>81        </td><td>107.7008  </td><td>       NA </td></tr>\n",
       "\t<tr><th scope=row>sex</th><td> 1        </td><td>0.10616238</td><td>80        </td><td>107.5946  </td><td>0.7445562 </td></tr>\n",
       "\t<tr><th scope=row>definition</th><td> 1        </td><td>0.04815161</td><td>79        </td><td>107.5465  </td><td>0.8263114 </td></tr>\n",
       "\t<tr><th scope=row>need</th><td> 1        </td><td>1.63105598</td><td>78        </td><td>105.9154  </td><td>0.2015571 </td></tr>\n",
       "\t<tr><th scope=row>purpose</th><td> 2        </td><td>0.49996369</td><td>76        </td><td>105.4154  </td><td>0.7788149 </td></tr>\n",
       "\t<tr><th scope=row>interest</th><td> 1        </td><td>0.48893602</td><td>75        </td><td>104.9265  </td><td>0.4844023 </td></tr>\n",
       "</tbody>\n",
       "</table>\n"
      ],
      "text/latex": [
       "\\begin{tabular}{r|lllll}\n",
       "  & Df & Deviance & Resid. Df & Resid. Dev & Pr(>Chi)\\\\\n",
       "\\hline\n",
       "\tNULL & NA         &         NA & 81         & 107.7008   &        NA \\\\\n",
       "\tsex &  1         & 0.10616238 & 80         & 107.5946   & 0.7445562 \\\\\n",
       "\tdefinition &  1         & 0.04815161 & 79         & 107.5465   & 0.8263114 \\\\\n",
       "\tneed &  1         & 1.63105598 & 78         & 105.9154   & 0.2015571 \\\\\n",
       "\tpurpose &  2         & 0.49996369 & 76         & 105.4154   & 0.7788149 \\\\\n",
       "\tinterest &  1         & 0.48893602 & 75         & 104.9265   & 0.4844023 \\\\\n",
       "\\end{tabular}\n"
      ],
      "text/markdown": [
       "\n",
       "| <!--/--> | Df | Deviance | Resid. Df | Resid. Dev | Pr(>Chi) |\n",
       "|---|---|---|---|---|---|\n",
       "| NULL | NA         |         NA | 81         | 107.7008   |        NA  |\n",
       "| sex |  1         | 0.10616238 | 80         | 107.5946   | 0.7445562  |\n",
       "| definition |  1         | 0.04815161 | 79         | 107.5465   | 0.8263114  |\n",
       "| need |  1         | 1.63105598 | 78         | 105.9154   | 0.2015571  |\n",
       "| purpose |  2         | 0.49996369 | 76         | 105.4154   | 0.7788149  |\n",
       "| interest |  1         | 0.48893602 | 75         | 104.9265   | 0.4844023  |\n",
       "\n"
      ],
      "text/plain": [
       "           Df Deviance   Resid. Df Resid. Dev Pr(>Chi) \n",
       "NULL       NA         NA 81        107.7008          NA\n",
       "sex         1 0.10616238 80        107.5946   0.7445562\n",
       "definition  1 0.04815161 79        107.5465   0.8263114\n",
       "need        1 1.63105598 78        105.9154   0.2015571\n",
       "purpose     2 0.49996369 76        105.4154   0.7788149\n",
       "interest    1 0.48893602 75        104.9265   0.4844023"
      ]
     },
     "metadata": {},
     "output_type": "display_data"
    },
    {
     "data": {
      "text/html": [
       "0.477891156462585"
      ],
      "text/latex": [
       "0.477891156462585"
      ],
      "text/markdown": [
       "0.477891156462585"
      ],
      "text/plain": [
       "[1] 0.4778912"
      ]
     },
     "metadata": {},
     "output_type": "display_data"
    },
    {
     "data": {
      "image/png": "[encoded data removed]",
      "text/plain": [
       "plot without title"
      ]
     },
     "metadata": {},
     "output_type": "display_data"
    }
   ],
   "source": [
    "model <- glm(d2_1 ~ sex + definition + need + purpose \n",
    "              + interest, data =train, family = binomial)\n",
    "summary(model)\n",
    "\n",
    "\n",
    "anova(model, test=\"Chisq\")\n",
    "\n",
    "\n",
    "p <- predict(model, newdata=test, type=\"response\")\n",
    "pr <- prediction(p, test$d2_1)\n",
    "prf <- performance(pr, measure = \"tpr\", x.measure = \"fpr\")\n",
    "plot(prf)\n",
    "\n",
    "auc <- performance(pr, measure = \"auc\")\n",
    "auc <- auc@y.values[[1]]\n",
    "auc"
   ]
  },
  {
   "cell_type": "code",
   "execution_count": 30,
   "metadata": {},
   "outputs": [
    {
     "data": {
      "text/plain": [
       "\n",
       "Call:\n",
       "glm(formula = d2_2 ~ sex + definition + need + purpose + interest, \n",
       "    family = binomial, data = train)\n",
       "\n",
       "Deviance Residuals: \n",
       "    Min       1Q   Median       3Q      Max  \n",
       "-1.0631  -0.7371  -0.5493  -0.3965   2.3128  \n",
       "\n",
       "Coefficients:\n",
       "                  Estimate Std. Error z value Pr(>|z|)\n",
       "(Intercept)        0.72204    1.26825   0.569    0.569\n",
       "sexMale           -1.31996    0.91502  -1.443    0.149\n",
       "definitionharmony -0.42343    0.75994  -0.557    0.577\n",
       "needharmony        0.07978    0.70406   0.113    0.910\n",
       "purposecosmetic   -1.27388    0.91700  -1.389    0.165\n",
       "purposeetc        -0.54566    0.66919  -0.815    0.415\n",
       "interest          -0.33230    0.29610  -1.122    0.262\n",
       "\n",
       "(Dispersion parameter for binomial family taken to be 1)\n",
       "\n",
       "    Null deviance: 83.702  on 81  degrees of freedom\n",
       "Residual deviance: 78.567  on 75  degrees of freedom\n",
       "AIC: 92.567\n",
       "\n",
       "Number of Fisher Scoring iterations: 4\n"
      ]
     },
     "metadata": {},
     "output_type": "display_data"
    },
    {
     "data": {
      "text/html": [
       "<table>\n",
       "<thead><tr><th></th><th scope=col>Df</th><th scope=col>Deviance</th><th scope=col>Resid. Df</th><th scope=col>Resid. Dev</th><th scope=col>Pr(&gt;Chi)</th></tr></thead>\n",
       "<tbody>\n",
       "\t<tr><th scope=row>NULL</th><td>NA        </td><td>        NA</td><td>81        </td><td>83.70236  </td><td>       NA </td></tr>\n",
       "\t<tr><th scope=row>sex</th><td> 1        </td><td>1.44726289</td><td>80        </td><td>82.25509  </td><td>0.2289677 </td></tr>\n",
       "\t<tr><th scope=row>definition</th><td> 1        </td><td>0.19698362</td><td>79        </td><td>82.05811  </td><td>0.6571667 </td></tr>\n",
       "\t<tr><th scope=row>need</th><td> 1        </td><td>0.01671926</td><td>78        </td><td>82.04139  </td><td>0.8971179 </td></tr>\n",
       "\t<tr><th scope=row>purpose</th><td> 2        </td><td>2.20123854</td><td>76        </td><td>79.84015  </td><td>0.3326650 </td></tr>\n",
       "\t<tr><th scope=row>interest</th><td> 1        </td><td>1.27354445</td><td>75        </td><td>78.56661  </td><td>0.2591028 </td></tr>\n",
       "</tbody>\n",
       "</table>\n"
      ],
      "text/latex": [
       "\\begin{tabular}{r|lllll}\n",
       "  & Df & Deviance & Resid. Df & Resid. Dev & Pr(>Chi)\\\\\n",
       "\\hline\n",
       "\tNULL & NA         &         NA & 81         & 83.70236   &        NA \\\\\n",
       "\tsex &  1         & 1.44726289 & 80         & 82.25509   & 0.2289677 \\\\\n",
       "\tdefinition &  1         & 0.19698362 & 79         & 82.05811   & 0.6571667 \\\\\n",
       "\tneed &  1         & 0.01671926 & 78         & 82.04139   & 0.8971179 \\\\\n",
       "\tpurpose &  2         & 2.20123854 & 76         & 79.84015   & 0.3326650 \\\\\n",
       "\tinterest &  1         & 1.27354445 & 75         & 78.56661   & 0.2591028 \\\\\n",
       "\\end{tabular}\n"
      ],
      "text/markdown": [
       "\n",
       "| <!--/--> | Df | Deviance | Resid. Df | Resid. Dev | Pr(>Chi) |\n",
       "|---|---|---|---|---|---|\n",
       "| NULL | NA         |         NA | 81         | 83.70236   |        NA  |\n",
       "| sex |  1         | 1.44726289 | 80         | 82.25509   | 0.2289677  |\n",
       "| definition |  1         | 0.19698362 | 79         | 82.05811   | 0.6571667  |\n",
       "| need |  1         | 0.01671926 | 78         | 82.04139   | 0.8971179  |\n",
       "| purpose |  2         | 2.20123854 | 76         | 79.84015   | 0.3326650  |\n",
       "| interest |  1         | 1.27354445 | 75         | 78.56661   | 0.2591028  |\n",
       "\n"
      ],
      "text/plain": [
       "           Df Deviance   Resid. Df Resid. Dev Pr(>Chi) \n",
       "NULL       NA         NA 81        83.70236          NA\n",
       "sex         1 1.44726289 80        82.25509   0.2289677\n",
       "definition  1 0.19698362 79        82.05811   0.6571667\n",
       "need        1 0.01671926 78        82.04139   0.8971179\n",
       "purpose     2 2.20123854 76        79.84015   0.3326650\n",
       "interest    1 1.27354445 75        78.56661   0.2591028"
      ]
     },
     "metadata": {},
     "output_type": "display_data"
    },
    {
     "data": {
      "text/html": [
       "0.754032258064516"
      ],
      "text/latex": [
       "0.754032258064516"
      ],
      "text/markdown": [
       "0.754032258064516"
      ],
      "text/plain": [
       "[1] 0.7540323"
      ]
     },
     "metadata": {},
     "output_type": "display_data"
    },
    {
     "data": {
      "image/png": "[encoded data removed]",
      "text/plain": [
       "plot without title"
      ]
     },
     "metadata": {},
     "output_type": "display_data"
    }
   ],
   "source": [
    "model <- glm(d2_2 ~ sex + definition + need + purpose \n",
    "              + interest, data =train, family = binomial)\n",
    "summary(model)\n",
    "\n",
    "\n",
    "anova(model, test=\"Chisq\")\n",
    "\n",
    "\n",
    "p <- predict(model, newdata=test, type=\"response\")\n",
    "pr <- prediction(p, test$d2_2)\n",
    "prf <- performance(pr, measure = \"tpr\", x.measure = \"fpr\")\n",
    "plot(prf)\n",
    "\n",
    "auc <- performance(pr, measure = \"auc\")\n",
    "auc <- auc@y.values[[1]]\n",
    "auc"
   ]
  },
  {
   "cell_type": "code",
   "execution_count": 31,
   "metadata": {},
   "outputs": [
    {
     "data": {
      "text/plain": [
       "\n",
       "Call:\n",
       "glm(formula = d2_3 ~ sex + definition + need + purpose + interest, \n",
       "    family = binomial, data = train)\n",
       "\n",
       "Deviance Residuals: \n",
       "    Min       1Q   Median       3Q      Max  \n",
       "-1.0427  -0.6864  -0.3840  -0.2059   2.4757  \n",
       "\n",
       "Coefficients:\n",
       "                  Estimate Std. Error z value Pr(>|z|)  \n",
       "(Intercept)        -3.4244     1.7510  -1.956   0.0505 .\n",
       "sexMale             1.0753     0.9894   1.087   0.2771  \n",
       "definitionharmony  -0.7056     1.0809  -0.653   0.5139  \n",
       "needharmony         2.3216     1.2891   1.801   0.0717 .\n",
       "purposecosmetic    -0.1248     1.3457  -0.093   0.9261  \n",
       "purposeetc          0.9077     0.9492   0.956   0.3390  \n",
       "interest           -0.1000     0.3414  -0.293   0.7696  \n",
       "---\n",
       "Signif. codes:  0 '***' 0.001 '**' 0.01 '*' 0.05 '.' 0.1 ' ' 1\n",
       "\n",
       "(Dispersion parameter for binomial family taken to be 1)\n",
       "\n",
       "    Null deviance: 64.648  on 81  degrees of freedom\n",
       "Residual deviance: 56.821  on 75  degrees of freedom\n",
       "AIC: 70.821\n",
       "\n",
       "Number of Fisher Scoring iterations: 6\n"
      ]
     },
     "metadata": {},
     "output_type": "display_data"
    },
    {
     "data": {
      "text/html": [
       "<table>\n",
       "<thead><tr><th></th><th scope=col>Df</th><th scope=col>Deviance</th><th scope=col>Resid. Df</th><th scope=col>Resid. Dev</th><th scope=col>Pr(&gt;Chi)</th></tr></thead>\n",
       "<tbody>\n",
       "\t<tr><th scope=row>NULL</th><td>NA        </td><td>        NA</td><td>81        </td><td>64.64772  </td><td>        NA</td></tr>\n",
       "\t<tr><th scope=row>sex</th><td> 1        </td><td>1.39184679</td><td>80        </td><td>63.25587  </td><td>0.23809347</td></tr>\n",
       "\t<tr><th scope=row>definition</th><td> 1        </td><td>0.26254695</td><td>79        </td><td>62.99332  </td><td>0.60837574</td></tr>\n",
       "\t<tr><th scope=row>need</th><td> 1        </td><td>4.67208089</td><td>78        </td><td>58.32124  </td><td>0.03065676</td></tr>\n",
       "\t<tr><th scope=row>purpose</th><td> 2        </td><td>1.41462941</td><td>76        </td><td>56.90661  </td><td>0.49296618</td></tr>\n",
       "\t<tr><th scope=row>interest</th><td> 1        </td><td>0.08579135</td><td>75        </td><td>56.82082  </td><td>0.76959737</td></tr>\n",
       "</tbody>\n",
       "</table>\n"
      ],
      "text/latex": [
       "\\begin{tabular}{r|lllll}\n",
       "  & Df & Deviance & Resid. Df & Resid. Dev & Pr(>Chi)\\\\\n",
       "\\hline\n",
       "\tNULL & NA         &         NA & 81         & 64.64772   &         NA\\\\\n",
       "\tsex &  1         & 1.39184679 & 80         & 63.25587   & 0.23809347\\\\\n",
       "\tdefinition &  1         & 0.26254695 & 79         & 62.99332   & 0.60837574\\\\\n",
       "\tneed &  1         & 4.67208089 & 78         & 58.32124   & 0.03065676\\\\\n",
       "\tpurpose &  2         & 1.41462941 & 76         & 56.90661   & 0.49296618\\\\\n",
       "\tinterest &  1         & 0.08579135 & 75         & 56.82082   & 0.76959737\\\\\n",
       "\\end{tabular}\n"
      ],
      "text/markdown": [
       "\n",
       "| <!--/--> | Df | Deviance | Resid. Df | Resid. Dev | Pr(>Chi) |\n",
       "|---|---|---|---|---|---|\n",
       "| NULL | NA         |         NA | 81         | 64.64772   |         NA |\n",
       "| sex |  1         | 1.39184679 | 80         | 63.25587   | 0.23809347 |\n",
       "| definition |  1         | 0.26254695 | 79         | 62.99332   | 0.60837574 |\n",
       "| need |  1         | 4.67208089 | 78         | 58.32124   | 0.03065676 |\n",
       "| purpose |  2         | 1.41462941 | 76         | 56.90661   | 0.49296618 |\n",
       "| interest |  1         | 0.08579135 | 75         | 56.82082   | 0.76959737 |\n",
       "\n"
      ],
      "text/plain": [
       "           Df Deviance   Resid. Df Resid. Dev Pr(>Chi)  \n",
       "NULL       NA         NA 81        64.64772           NA\n",
       "sex         1 1.39184679 80        63.25587   0.23809347\n",
       "definition  1 0.26254695 79        62.99332   0.60837574\n",
       "need        1 4.67208089 78        58.32124   0.03065676\n",
       "purpose     2 1.41462941 76        56.90661   0.49296618\n",
       "interest    1 0.08579135 75        56.82082   0.76959737"
      ]
     },
     "metadata": {},
     "output_type": "display_data"
    },
    {
     "data": {
      "text/html": [
       "0.637096774193548"
      ],
      "text/latex": [
       "0.637096774193548"
      ],
      "text/markdown": [
       "0.637096774193548"
      ],
      "text/plain": [
       "[1] 0.6370968"
      ]
     },
     "metadata": {},
     "output_type": "display_data"
    },
    {
     "data": {
      "image/png": "[encoded data removed]",
      "text/plain": [
       "plot without title"
      ]
     },
     "metadata": {},
     "output_type": "display_data"
    }
   ],
   "source": [
    "model <- glm(d2_3 ~ sex + definition + need + purpose \n",
    "              + interest, data =train, family = binomial)\n",
    "summary(model)\n",
    "\n",
    "\n",
    "anova(model, test=\"Chisq\")\n",
    "\n",
    "\n",
    "p <- predict(model, newdata=test, type=\"response\")\n",
    "pr <- prediction(p, test$d2_3)\n",
    "prf <- performance(pr, measure = \"tpr\", x.measure = \"fpr\")\n",
    "plot(prf)\n",
    "\n",
    "auc <- performance(pr, measure = \"auc\")\n",
    "auc <- auc@y.values[[1]]\n",
    "auc"
   ]
  },
  {
   "cell_type": "code",
   "execution_count": 32,
   "metadata": {},
   "outputs": [
    {
     "data": {
      "text/plain": [
       "\n",
       "Call:\n",
       "glm(formula = d2_4 ~ sex + definition + need + purpose + interest, \n",
       "    family = binomial, data = train)\n",
       "\n",
       "Deviance Residuals: \n",
       "    Min       1Q   Median       3Q      Max  \n",
       "-1.1179  -0.5745  -0.5014  -0.4124   2.2301  \n",
       "\n",
       "Coefficients:\n",
       "                   Estimate Std. Error z value Pr(>|z|)  \n",
       "(Intercept)       -0.928243   1.396201  -0.665   0.5062  \n",
       "sexMale           -0.029108   1.041511  -0.028   0.9777  \n",
       "definitionharmony -0.000302   0.835388   0.000   0.9997  \n",
       "needharmony       -0.176468   0.734024  -0.240   0.8100  \n",
       "purposecosmetic    1.547333   0.897448   1.724   0.0847 .\n",
       "purposeetc         0.165235   0.901921   0.183   0.8546  \n",
       "interest          -0.292009   0.315087  -0.927   0.3541  \n",
       "---\n",
       "Signif. codes:  0 '***' 0.001 '**' 0.01 '*' 0.05 '.' 0.1 ' ' 1\n",
       "\n",
       "(Dispersion parameter for binomial family taken to be 1)\n",
       "\n",
       "    Null deviance: 74.955  on 81  degrees of freedom\n",
       "Residual deviance: 68.933  on 75  degrees of freedom\n",
       "AIC: 82.933\n",
       "\n",
       "Number of Fisher Scoring iterations: 4\n"
      ]
     },
     "metadata": {},
     "output_type": "display_data"
    },
    {
     "data": {
      "text/html": [
       "<table>\n",
       "<thead><tr><th></th><th scope=col>Df</th><th scope=col>Deviance</th><th scope=col>Resid. Df</th><th scope=col>Resid. Dev</th><th scope=col>Pr(&gt;Chi)</th></tr></thead>\n",
       "<tbody>\n",
       "\t<tr><th scope=row>NULL</th><td>NA        </td><td>        NA</td><td>81        </td><td>74.95530  </td><td>       NA </td></tr>\n",
       "\t<tr><th scope=row>sex</th><td> 1        </td><td>0.62741963</td><td>80        </td><td>74.32788  </td><td>0.4283034 </td></tr>\n",
       "\t<tr><th scope=row>definition</th><td> 1        </td><td>0.02450294</td><td>79        </td><td>74.30338  </td><td>0.8756120 </td></tr>\n",
       "\t<tr><th scope=row>need</th><td> 1        </td><td>0.19999871</td><td>78        </td><td>74.10338  </td><td>0.6547219 </td></tr>\n",
       "\t<tr><th scope=row>purpose</th><td> 2        </td><td>4.29549990</td><td>76        </td><td>69.80788  </td><td>0.1167465 </td></tr>\n",
       "\t<tr><th scope=row>interest</th><td> 1        </td><td>0.87474680</td><td>75        </td><td>68.93314  </td><td>0.3496445 </td></tr>\n",
       "</tbody>\n",
       "</table>\n"
      ],
      "text/latex": [
       "\\begin{tabular}{r|lllll}\n",
       "  & Df & Deviance & Resid. Df & Resid. Dev & Pr(>Chi)\\\\\n",
       "\\hline\n",
       "\tNULL & NA         &         NA & 81         & 74.95530   &        NA \\\\\n",
       "\tsex &  1         & 0.62741963 & 80         & 74.32788   & 0.4283034 \\\\\n",
       "\tdefinition &  1         & 0.02450294 & 79         & 74.30338   & 0.8756120 \\\\\n",
       "\tneed &  1         & 0.19999871 & 78         & 74.10338   & 0.6547219 \\\\\n",
       "\tpurpose &  2         & 4.29549990 & 76         & 69.80788   & 0.1167465 \\\\\n",
       "\tinterest &  1         & 0.87474680 & 75         & 68.93314   & 0.3496445 \\\\\n",
       "\\end{tabular}\n"
      ],
      "text/markdown": [
       "\n",
       "| <!--/--> | Df | Deviance | Resid. Df | Resid. Dev | Pr(>Chi) |\n",
       "|---|---|---|---|---|---|\n",
       "| NULL | NA         |         NA | 81         | 74.95530   |        NA  |\n",
       "| sex |  1         | 0.62741963 | 80         | 74.32788   | 0.4283034  |\n",
       "| definition |  1         | 0.02450294 | 79         | 74.30338   | 0.8756120  |\n",
       "| need |  1         | 0.19999871 | 78         | 74.10338   | 0.6547219  |\n",
       "| purpose |  2         | 4.29549990 | 76         | 69.80788   | 0.1167465  |\n",
       "| interest |  1         | 0.87474680 | 75         | 68.93314   | 0.3496445  |\n",
       "\n"
      ],
      "text/plain": [
       "           Df Deviance   Resid. Df Resid. Dev Pr(>Chi) \n",
       "NULL       NA         NA 81        74.95530          NA\n",
       "sex         1 0.62741963 80        74.32788   0.4283034\n",
       "definition  1 0.02450294 79        74.30338   0.8756120\n",
       "need        1 0.19999871 78        74.10338   0.6547219\n",
       "purpose     2 4.29549990 76        69.80788   0.1167465\n",
       "interest    1 0.87474680 75        68.93314   0.3496445"
      ]
     },
     "metadata": {},
     "output_type": "display_data"
    },
    {
     "data": {
      "text/html": [
       "0.465277777777778"
      ],
      "text/latex": [
       "0.465277777777778"
      ],
      "text/markdown": [
       "0.465277777777778"
      ],
      "text/plain": [
       "[1] 0.4652778"
      ]
     },
     "metadata": {},
     "output_type": "display_data"
    },
    {
     "data": {
      "image/png": "[encoded data removed]",
      "text/plain": [
       "plot without title"
      ]
     },
     "metadata": {},
     "output_type": "display_data"
    }
   ],
   "source": [
    "model <- glm(d2_4 ~ sex + definition + need + purpose \n",
    "              + interest, data =train, family = binomial)\n",
    "summary(model)\n",
    "\n",
    "\n",
    "anova(model, test=\"Chisq\")\n",
    "\n",
    "\n",
    "p <- predict(model, newdata=test, type=\"response\")\n",
    "pr <- prediction(p, test$d2_4)\n",
    "prf <- performance(pr, measure = \"tpr\", x.measure = \"fpr\")\n",
    "plot(prf)\n",
    "\n",
    "auc <- performance(pr, measure = \"auc\")\n",
    "auc <- auc@y.values[[1]]\n",
    "auc"
   ]
  },
  {
   "cell_type": "code",
   "execution_count": 33,
   "metadata": {},
   "outputs": [
    {
     "data": {
      "text/plain": [
       "\n",
       "Call:\n",
       "glm(formula = d2_5 ~ sex + definition + need + purpose + interest, \n",
       "    family = binomial, data = train)\n",
       "\n",
       "Deviance Residuals: \n",
       "    Min       1Q   Median       3Q      Max  \n",
       "-0.9595  -0.5148  -0.4097  -0.3117   2.3496  \n",
       "\n",
       "Coefficients:\n",
       "                  Estimate Std. Error z value Pr(>|z|)   \n",
       "(Intercept)       -4.76959    1.83432  -2.600  0.00932 **\n",
       "sexMale            1.08096    0.99359   1.088  0.27663   \n",
       "definitionharmony  0.32638    0.98200   0.332  0.73962   \n",
       "needharmony        0.13279    0.82520   0.161  0.87216   \n",
       "purposecosmetic    0.47179    1.13474   0.416  0.67758   \n",
       "purposeetc         0.09297    0.99504   0.093  0.92556   \n",
       "interest           0.53852    0.37993   1.417  0.15636   \n",
       "---\n",
       "Signif. codes:  0 '***' 0.001 '**' 0.01 '*' 0.05 '.' 0.1 ' ' 1\n",
       "\n",
       "(Dispersion parameter for binomial family taken to be 1)\n",
       "\n",
       "    Null deviance: 60.81  on 81  degrees of freedom\n",
       "Residual deviance: 56.27  on 75  degrees of freedom\n",
       "AIC: 70.27\n",
       "\n",
       "Number of Fisher Scoring iterations: 5\n"
      ]
     },
     "metadata": {},
     "output_type": "display_data"
    },
    {
     "data": {
      "text/html": [
       "<table>\n",
       "<thead><tr><th></th><th scope=col>Df</th><th scope=col>Deviance</th><th scope=col>Resid. Df</th><th scope=col>Resid. Dev</th><th scope=col>Pr(&gt;Chi)</th></tr></thead>\n",
       "<tbody>\n",
       "\t<tr><th scope=row>NULL</th><td>NA        </td><td>        NA</td><td>81        </td><td>60.81033  </td><td>       NA </td></tr>\n",
       "\t<tr><th scope=row>sex</th><td> 1        </td><td>1.91637857</td><td>80        </td><td>58.89395  </td><td>0.1662564 </td></tr>\n",
       "\t<tr><th scope=row>definition</th><td> 1        </td><td>0.05956039</td><td>79        </td><td>58.83439  </td><td>0.8071921 </td></tr>\n",
       "\t<tr><th scope=row>need</th><td> 1        </td><td>0.05114968</td><td>78        </td><td>58.78324  </td><td>0.8210747 </td></tr>\n",
       "\t<tr><th scope=row>purpose</th><td> 2        </td><td>0.30617581</td><td>76        </td><td>58.47707  </td><td>0.8580543 </td></tr>\n",
       "\t<tr><th scope=row>interest</th><td> 1        </td><td>2.20731108</td><td>75        </td><td>56.26976  </td><td>0.1373579 </td></tr>\n",
       "</tbody>\n",
       "</table>\n"
      ],
      "text/latex": [
       "\\begin{tabular}{r|lllll}\n",
       "  & Df & Deviance & Resid. Df & Resid. Dev & Pr(>Chi)\\\\\n",
       "\\hline\n",
       "\tNULL & NA         &         NA & 81         & 60.81033   &        NA \\\\\n",
       "\tsex &  1         & 1.91637857 & 80         & 58.89395   & 0.1662564 \\\\\n",
       "\tdefinition &  1         & 0.05956039 & 79         & 58.83439   & 0.8071921 \\\\\n",
       "\tneed &  1         & 0.05114968 & 78         & 58.78324   & 0.8210747 \\\\\n",
       "\tpurpose &  2         & 0.30617581 & 76         & 58.47707   & 0.8580543 \\\\\n",
       "\tinterest &  1         & 2.20731108 & 75         & 56.26976   & 0.1373579 \\\\\n",
       "\\end{tabular}\n"
      ],
      "text/markdown": [
       "\n",
       "| <!--/--> | Df | Deviance | Resid. Df | Resid. Dev | Pr(>Chi) |\n",
       "|---|---|---|---|---|---|\n",
       "| NULL | NA         |         NA | 81         | 60.81033   |        NA  |\n",
       "| sex |  1         | 1.91637857 | 80         | 58.89395   | 0.1662564  |\n",
       "| definition |  1         | 0.05956039 | 79         | 58.83439   | 0.8071921  |\n",
       "| need |  1         | 0.05114968 | 78         | 58.78324   | 0.8210747  |\n",
       "| purpose |  2         | 0.30617581 | 76         | 58.47707   | 0.8580543  |\n",
       "| interest |  1         | 2.20731108 | 75         | 56.26976   | 0.1373579  |\n",
       "\n"
      ],
      "text/plain": [
       "           Df Deviance   Resid. Df Resid. Dev Pr(>Chi) \n",
       "NULL       NA         NA 81        60.81033          NA\n",
       "sex         1 1.91637857 80        58.89395   0.1662564\n",
       "definition  1 0.05956039 79        58.83439   0.8071921\n",
       "need        1 0.05114968 78        58.78324   0.8210747\n",
       "purpose     2 0.30617581 76        58.47707   0.8580543\n",
       "interest    1 2.20731108 75        56.26976   0.1373579"
      ]
     },
     "metadata": {},
     "output_type": "display_data"
    },
    {
     "data": {
      "text/html": [
       "0.39"
      ],
      "text/latex": [
       "0.39"
      ],
      "text/markdown": [
       "0.39"
      ],
      "text/plain": [
       "[1] 0.39"
      ]
     },
     "metadata": {},
     "output_type": "display_data"
    },
    {
     "data": {
      "image/png": "[encoded data removed]",
      "text/plain": [
       "plot without title"
      ]
     },
     "metadata": {},
     "output_type": "display_data"
    }
   ],
   "source": [
    "model <- glm(d2_5 ~ sex + definition + need + purpose \n",
    "              + interest, data =train, family = binomial)\n",
    "summary(model)\n",
    "\n",
    "\n",
    "anova(model, test=\"Chisq\")\n",
    "\n",
    "\n",
    "p <- predict(model, newdata=test, type=\"response\")\n",
    "pr <- prediction(p, test$d2_5)\n",
    "prf <- performance(pr, measure = \"tpr\", x.measure = \"fpr\")\n",
    "plot(prf)\n",
    "\n",
    "auc <- performance(pr, measure = \"auc\")\n",
    "auc <- auc@y.values[[1]]\n",
    "auc"
   ]
  },
  {
   "cell_type": "code",
   "execution_count": 34,
   "metadata": {},
   "outputs": [
    {
     "data": {
      "text/plain": [
       "\n",
       "Call:\n",
       "glm(formula = d3_1 ~ sex + definition + need + purpose + interest, \n",
       "    family = binomial, data = train)\n",
       "\n",
       "Deviance Residuals: \n",
       "    Min       1Q   Median       3Q      Max  \n",
       "-1.3448  -0.6758  -0.4388  -0.2833   2.2346  \n",
       "\n",
       "Coefficients:\n",
       "                  Estimate Std. Error z value Pr(>|z|)  \n",
       "(Intercept)        -2.7237     1.4490  -1.880   0.0602 .\n",
       "sexMale            -0.3375     1.0007  -0.337   0.7359  \n",
       "definitionharmony  -0.2308     0.7500  -0.308   0.7582  \n",
       "needharmony        -0.8883     0.6777  -1.311   0.1899  \n",
       "purposecosmetic     1.3706     0.8299   1.651   0.0986 .\n",
       "purposeetc         -0.5374     0.8516  -0.631   0.5280  \n",
       "interest            0.4923     0.3333   1.477   0.1396  \n",
       "---\n",
       "Signif. codes:  0 '***' 0.001 '**' 0.01 '*' 0.05 '.' 0.1 ' ' 1\n",
       "\n",
       "(Dispersion parameter for binomial family taken to be 1)\n",
       "\n",
       "    Null deviance: 80.945  on 81  degrees of freedom\n",
       "Residual deviance: 69.302  on 75  degrees of freedom\n",
       "AIC: 83.302\n",
       "\n",
       "Number of Fisher Scoring iterations: 5\n"
      ]
     },
     "metadata": {},
     "output_type": "display_data"
    },
    {
     "data": {
      "text/html": [
       "<table>\n",
       "<thead><tr><th></th><th scope=col>Df</th><th scope=col>Deviance</th><th scope=col>Resid. Df</th><th scope=col>Resid. Dev</th><th scope=col>Pr(&gt;Chi)</th></tr></thead>\n",
       "<tbody>\n",
       "\t<tr><th scope=row>NULL</th><td>NA        </td><td>       NA </td><td>81        </td><td>80.94469  </td><td>        NA</td></tr>\n",
       "\t<tr><th scope=row>sex</th><td> 1        </td><td>1.1456071 </td><td>80        </td><td>79.79908  </td><td>0.28447062</td></tr>\n",
       "\t<tr><th scope=row>definition</th><td> 1        </td><td>0.4420626 </td><td>79        </td><td>79.35702  </td><td>0.50612862</td></tr>\n",
       "\t<tr><th scope=row>need</th><td> 1        </td><td>1.8909006 </td><td>78        </td><td>77.46612  </td><td>0.16910038</td></tr>\n",
       "\t<tr><th scope=row>purpose</th><td> 2        </td><td>5.8196175 </td><td>76        </td><td>71.64650  </td><td>0.05448615</td></tr>\n",
       "\t<tr><th scope=row>interest</th><td> 1        </td><td>2.3442034 </td><td>75        </td><td>69.30230  </td><td>0.12574983</td></tr>\n",
       "</tbody>\n",
       "</table>\n"
      ],
      "text/latex": [
       "\\begin{tabular}{r|lllll}\n",
       "  & Df & Deviance & Resid. Df & Resid. Dev & Pr(>Chi)\\\\\n",
       "\\hline\n",
       "\tNULL & NA         &        NA  & 81         & 80.94469   &         NA\\\\\n",
       "\tsex &  1         & 1.1456071  & 80         & 79.79908   & 0.28447062\\\\\n",
       "\tdefinition &  1         & 0.4420626  & 79         & 79.35702   & 0.50612862\\\\\n",
       "\tneed &  1         & 1.8909006  & 78         & 77.46612   & 0.16910038\\\\\n",
       "\tpurpose &  2         & 5.8196175  & 76         & 71.64650   & 0.05448615\\\\\n",
       "\tinterest &  1         & 2.3442034  & 75         & 69.30230   & 0.12574983\\\\\n",
       "\\end{tabular}\n"
      ],
      "text/markdown": [
       "\n",
       "| <!--/--> | Df | Deviance | Resid. Df | Resid. Dev | Pr(>Chi) |\n",
       "|---|---|---|---|---|---|\n",
       "| NULL | NA         |        NA  | 81         | 80.94469   |         NA |\n",
       "| sex |  1         | 1.1456071  | 80         | 79.79908   | 0.28447062 |\n",
       "| definition |  1         | 0.4420626  | 79         | 79.35702   | 0.50612862 |\n",
       "| need |  1         | 1.8909006  | 78         | 77.46612   | 0.16910038 |\n",
       "| purpose |  2         | 5.8196175  | 76         | 71.64650   | 0.05448615 |\n",
       "| interest |  1         | 2.3442034  | 75         | 69.30230   | 0.12574983 |\n",
       "\n"
      ],
      "text/plain": [
       "           Df Deviance  Resid. Df Resid. Dev Pr(>Chi)  \n",
       "NULL       NA        NA 81        80.94469           NA\n",
       "sex         1 1.1456071 80        79.79908   0.28447062\n",
       "definition  1 0.4420626 79        79.35702   0.50612862\n",
       "need        1 1.8909006 78        77.46612   0.16910038\n",
       "purpose     2 5.8196175 76        71.64650   0.05448615\n",
       "interest    1 2.3442034 75        69.30230   0.12574983"
      ]
     },
     "metadata": {},
     "output_type": "display_data"
    },
    {
     "data": {
      "text/html": [
       "0.71875"
      ],
      "text/latex": [
       "0.71875"
      ],
      "text/markdown": [
       "0.71875"
      ],
      "text/plain": [
       "[1] 0.71875"
      ]
     },
     "metadata": {},
     "output_type": "display_data"
    },
    {
     "data": {
      "image/png": "[encoded data removed]",
      "text/plain": [
       "plot without title"
      ]
     },
     "metadata": {},
     "output_type": "display_data"
    }
   ],
   "source": [
    "model <- glm(d3_1 ~ sex + definition + need + purpose \n",
    "              + interest, data =train, family = binomial)\n",
    "summary(model)\n",
    "\n",
    "\n",
    "anova(model, test=\"Chisq\")\n",
    "\n",
    "\n",
    "p <- predict(model, newdata=test, type=\"response\")\n",
    "pr <- prediction(p, test$d3_1)\n",
    "prf <- performance(pr, measure = \"tpr\", x.measure = \"fpr\")\n",
    "plot(prf)\n",
    "\n",
    "auc <- performance(pr, measure = \"auc\")\n",
    "auc <- auc@y.values[[1]]\n",
    "auc"
   ]
  },
  {
   "cell_type": "code",
   "execution_count": 35,
   "metadata": {},
   "outputs": [
    {
     "data": {
      "text/plain": [
       "\n",
       "Call:\n",
       "glm(formula = d3_2 ~ sex + definition + need + purpose + interest, \n",
       "    family = binomial, data = train)\n",
       "\n",
       "Deviance Residuals: \n",
       "    Min       1Q   Median       3Q      Max  \n",
       "-1.1011  -0.7738  -0.6593  -0.2833   2.2918  \n",
       "\n",
       "Coefficients:\n",
       "                  Estimate Std. Error z value Pr(>|z|)\n",
       "(Intercept)         0.1187     1.2293   0.097    0.923\n",
       "sexMale             0.2520     0.7273   0.346    0.729\n",
       "definitionharmony  -0.3536     0.7680  -0.460    0.645\n",
       "needharmony         0.3819     0.6858   0.557    0.578\n",
       "purposecosmetic    -1.7980     1.1580  -1.553    0.121\n",
       "purposeetc         -0.3277     0.6662  -0.492    0.623\n",
       "interest           -0.2906     0.2783  -1.044    0.296\n",
       "\n",
       "(Dispersion parameter for binomial family taken to be 1)\n",
       "\n",
       "    Null deviance: 88.778  on 81  degrees of freedom\n",
       "Residual deviance: 82.724  on 75  degrees of freedom\n",
       "AIC: 96.724\n",
       "\n",
       "Number of Fisher Scoring iterations: 5\n"
      ]
     },
     "metadata": {},
     "output_type": "display_data"
    },
    {
     "data": {
      "text/html": [
       "<table>\n",
       "<thead><tr><th></th><th scope=col>Df</th><th scope=col>Deviance</th><th scope=col>Resid. Df</th><th scope=col>Resid. Dev</th><th scope=col>Pr(&gt;Chi)</th></tr></thead>\n",
       "<tbody>\n",
       "\t<tr><th scope=row>NULL</th><td>NA        </td><td>        NA</td><td>81        </td><td>88.77830  </td><td>       NA </td></tr>\n",
       "\t<tr><th scope=row>sex</th><td> 1        </td><td>1.26165292</td><td>80        </td><td>87.51665  </td><td>0.2613384 </td></tr>\n",
       "\t<tr><th scope=row>definition</th><td> 1        </td><td>0.01530553</td><td>79        </td><td>87.50134  </td><td>0.9015405 </td></tr>\n",
       "\t<tr><th scope=row>need</th><td> 1        </td><td>0.34877640</td><td>78        </td><td>87.15256  </td><td>0.5548066 </td></tr>\n",
       "\t<tr><th scope=row>purpose</th><td> 2        </td><td>3.32765253</td><td>76        </td><td>83.82491  </td><td>0.1894128 </td></tr>\n",
       "\t<tr><th scope=row>interest</th><td> 1        </td><td>1.10110190</td><td>75        </td><td>82.72381  </td><td>0.2940244 </td></tr>\n",
       "</tbody>\n",
       "</table>\n"
      ],
      "text/latex": [
       "\\begin{tabular}{r|lllll}\n",
       "  & Df & Deviance & Resid. Df & Resid. Dev & Pr(>Chi)\\\\\n",
       "\\hline\n",
       "\tNULL & NA         &         NA & 81         & 88.77830   &        NA \\\\\n",
       "\tsex &  1         & 1.26165292 & 80         & 87.51665   & 0.2613384 \\\\\n",
       "\tdefinition &  1         & 0.01530553 & 79         & 87.50134   & 0.9015405 \\\\\n",
       "\tneed &  1         & 0.34877640 & 78         & 87.15256   & 0.5548066 \\\\\n",
       "\tpurpose &  2         & 3.32765253 & 76         & 83.82491   & 0.1894128 \\\\\n",
       "\tinterest &  1         & 1.10110190 & 75         & 82.72381   & 0.2940244 \\\\\n",
       "\\end{tabular}\n"
      ],
      "text/markdown": [
       "\n",
       "| <!--/--> | Df | Deviance | Resid. Df | Resid. Dev | Pr(>Chi) |\n",
       "|---|---|---|---|---|---|\n",
       "| NULL | NA         |         NA | 81         | 88.77830   |        NA  |\n",
       "| sex |  1         | 1.26165292 | 80         | 87.51665   | 0.2613384  |\n",
       "| definition |  1         | 0.01530553 | 79         | 87.50134   | 0.9015405  |\n",
       "| need |  1         | 0.34877640 | 78         | 87.15256   | 0.5548066  |\n",
       "| purpose |  2         | 3.32765253 | 76         | 83.82491   | 0.1894128  |\n",
       "| interest |  1         | 1.10110190 | 75         | 82.72381   | 0.2940244  |\n",
       "\n"
      ],
      "text/plain": [
       "           Df Deviance   Resid. Df Resid. Dev Pr(>Chi) \n",
       "NULL       NA         NA 81        88.77830          NA\n",
       "sex         1 1.26165292 80        87.51665   0.2613384\n",
       "definition  1 0.01530553 79        87.50134   0.9015405\n",
       "need        1 0.34877640 78        87.15256   0.5548066\n",
       "purpose     2 3.32765253 76        83.82491   0.1894128\n",
       "interest    1 1.10110190 75        82.72381   0.2940244"
      ]
     },
     "metadata": {},
     "output_type": "display_data"
    },
    {
     "data": {
      "text/html": [
       "0.635416666666667"
      ],
      "text/latex": [
       "0.635416666666667"
      ],
      "text/markdown": [
       "0.635416666666667"
      ],
      "text/plain": [
       "[1] 0.6354167"
      ]
     },
     "metadata": {},
     "output_type": "display_data"
    },
    {
     "data": {
      "image/png": "[encoded data removed]",
      "text/plain": [
       "plot without title"
      ]
     },
     "metadata": {},
     "output_type": "display_data"
    }
   ],
   "source": [
    "model <- glm(d3_2 ~ sex + definition + need + purpose \n",
    "              + interest, data =train, family = binomial)\n",
    "summary(model)\n",
    "\n",
    "\n",
    "anova(model, test=\"Chisq\")\n",
    "\n",
    "\n",
    "p <- predict(model, newdata=test, type=\"response\")\n",
    "pr <- prediction(p, test$d3_2)\n",
    "prf <- performance(pr, measure = \"tpr\", x.measure = \"fpr\")\n",
    "plot(prf)\n",
    "\n",
    "auc <- performance(pr, measure = \"auc\")\n",
    "auc <- auc@y.values[[1]]\n",
    "auc"
   ]
  },
  {
   "cell_type": "code",
   "execution_count": 36,
   "metadata": {},
   "outputs": [
    {
     "data": {
      "text/plain": [
       "\n",
       "Call:\n",
       "glm(formula = d3_3 ~ sex + definition + need + purpose + interest, \n",
       "    family = binomial, data = train)\n",
       "\n",
       "Deviance Residuals: \n",
       "    Min       1Q   Median       3Q      Max  \n",
       "-1.2177  -0.6556  -0.5402  -0.3969   2.1764  \n",
       "\n",
       "Coefficients:\n",
       "                  Estimate Std. Error z value Pr(>|z|)  \n",
       "(Intercept)        -3.3955     1.4912  -2.277   0.0228 *\n",
       "sexMale             0.9157     0.9472   0.967   0.3337  \n",
       "definitionharmony   0.3693     0.9026   0.409   0.6824  \n",
       "needharmony         0.2879     0.7864   0.366   0.7143  \n",
       "purposecosmetic     0.4190     1.1014   0.380   0.7036  \n",
       "purposeetc          1.1365     0.8821   1.288   0.1976  \n",
       "interest            0.1561     0.3083   0.506   0.6126  \n",
       "---\n",
       "Signif. codes:  0 '***' 0.001 '**' 0.01 '*' 0.05 '.' 0.1 ' ' 1\n",
       "\n",
       "(Dispersion parameter for binomial family taken to be 1)\n",
       "\n",
       "    Null deviance: 74.955  on 81  degrees of freedom\n",
       "Residual deviance: 71.551  on 75  degrees of freedom\n",
       "AIC: 85.551\n",
       "\n",
       "Number of Fisher Scoring iterations: 4\n"
      ]
     },
     "metadata": {},
     "output_type": "display_data"
    },
    {
     "data": {
      "text/html": [
       "<table>\n",
       "<thead><tr><th></th><th scope=col>Df</th><th scope=col>Deviance</th><th scope=col>Resid. Df</th><th scope=col>Resid. Dev</th><th scope=col>Pr(&gt;Chi)</th></tr></thead>\n",
       "<tbody>\n",
       "\t<tr><th scope=row>NULL</th><td>NA       </td><td>       NA</td><td>81       </td><td>74.95530 </td><td>       NA</td></tr>\n",
       "\t<tr><th scope=row>sex</th><td> 1       </td><td>0.4108245</td><td>80       </td><td>74.54448 </td><td>0.5215513</td></tr>\n",
       "\t<tr><th scope=row>definition</th><td> 1       </td><td>0.2167133</td><td>79       </td><td>74.32777 </td><td>0.6415557</td></tr>\n",
       "\t<tr><th scope=row>need</th><td> 1       </td><td>0.2906931</td><td>78       </td><td>74.03707 </td><td>0.5897767</td></tr>\n",
       "\t<tr><th scope=row>purpose</th><td> 2       </td><td>2.2258673</td><td>76       </td><td>71.81121 </td><td>0.3285936</td></tr>\n",
       "\t<tr><th scope=row>interest</th><td> 1       </td><td>0.2599547</td><td>75       </td><td>71.55125 </td><td>0.6101513</td></tr>\n",
       "</tbody>\n",
       "</table>\n"
      ],
      "text/latex": [
       "\\begin{tabular}{r|lllll}\n",
       "  & Df & Deviance & Resid. Df & Resid. Dev & Pr(>Chi)\\\\\n",
       "\\hline\n",
       "\tNULL & NA        &        NA & 81        & 74.95530  &        NA\\\\\n",
       "\tsex &  1        & 0.4108245 & 80        & 74.54448  & 0.5215513\\\\\n",
       "\tdefinition &  1        & 0.2167133 & 79        & 74.32777  & 0.6415557\\\\\n",
       "\tneed &  1        & 0.2906931 & 78        & 74.03707  & 0.5897767\\\\\n",
       "\tpurpose &  2        & 2.2258673 & 76        & 71.81121  & 0.3285936\\\\\n",
       "\tinterest &  1        & 0.2599547 & 75        & 71.55125  & 0.6101513\\\\\n",
       "\\end{tabular}\n"
      ],
      "text/markdown": [
       "\n",
       "| <!--/--> | Df | Deviance | Resid. Df | Resid. Dev | Pr(>Chi) |\n",
       "|---|---|---|---|---|---|\n",
       "| NULL | NA        |        NA | 81        | 74.95530  |        NA |\n",
       "| sex |  1        | 0.4108245 | 80        | 74.54448  | 0.5215513 |\n",
       "| definition |  1        | 0.2167133 | 79        | 74.32777  | 0.6415557 |\n",
       "| need |  1        | 0.2906931 | 78        | 74.03707  | 0.5897767 |\n",
       "| purpose |  2        | 2.2258673 | 76        | 71.81121  | 0.3285936 |\n",
       "| interest |  1        | 0.2599547 | 75        | 71.55125  | 0.6101513 |\n",
       "\n"
      ],
      "text/plain": [
       "           Df Deviance  Resid. Df Resid. Dev Pr(>Chi) \n",
       "NULL       NA        NA 81        74.95530          NA\n",
       "sex         1 0.4108245 80        74.54448   0.5215513\n",
       "definition  1 0.2167133 79        74.32777   0.6415557\n",
       "need        1 0.2906931 78        74.03707   0.5897767\n",
       "purpose     2 2.2258673 76        71.81121   0.3285936\n",
       "interest    1 0.2599547 75        71.55125   0.6101513"
      ]
     },
     "metadata": {},
     "output_type": "display_data"
    },
    {
     "data": {
      "text/html": [
       "0.417832167832168"
      ],
      "text/latex": [
       "0.417832167832168"
      ],
      "text/markdown": [
       "0.417832167832168"
      ],
      "text/plain": [
       "[1] 0.4178322"
      ]
     },
     "metadata": {},
     "output_type": "display_data"
    },
    {
     "data": {
      "image/png": "[encoded data removed]",
      "text/plain": [
       "plot without title"
      ]
     },
     "metadata": {},
     "output_type": "display_data"
    }
   ],
   "source": [
    "model <- glm(d3_3 ~ sex + definition + need + purpose \n",
    "              + interest, data =train, family = binomial)\n",
    "summary(model)\n",
    "\n",
    "\n",
    "anova(model, test=\"Chisq\")\n",
    "\n",
    "\n",
    "p <- predict(model, newdata=test, type=\"response\")\n",
    "pr <- prediction(p, test$d3_3)\n",
    "prf <- performance(pr, measure = \"tpr\", x.measure = \"fpr\")\n",
    "plot(prf)\n",
    "\n",
    "auc <- performance(pr, measure = \"auc\")\n",
    "auc <- auc@y.values[[1]]\n",
    "auc"
   ]
  },
  {
   "cell_type": "code",
   "execution_count": 37,
   "metadata": {},
   "outputs": [
    {
     "data": {
      "text/plain": [
       "\n",
       "Call:\n",
       "glm(formula = d3_4 ~ sex + definition + need + purpose + interest, \n",
       "    family = binomial, data = train)\n",
       "\n",
       "Deviance Residuals: \n",
       "    Min       1Q   Median       3Q      Max  \n",
       "-0.7136  -0.5750  -0.5192  -0.3664   2.4149  \n",
       "\n",
       "Coefficients:\n",
       "                  Estimate Std. Error z value Pr(>|z|)\n",
       "(Intercept)       -1.06073    1.48719  -0.713    0.476\n",
       "sexMale           -0.40014    0.97678  -0.410    0.682\n",
       "definitionharmony -0.22619    0.88164  -0.257    0.798\n",
       "needharmony       -0.25188    0.80072  -0.315    0.753\n",
       "purposecosmetic   -1.14413    1.20606  -0.949    0.343\n",
       "purposeetc        -0.10156    0.79296  -0.128    0.898\n",
       "interest          -0.05913    0.34218  -0.173    0.863\n",
       "\n",
       "(Dispersion parameter for binomial family taken to be 1)\n",
       "\n",
       "    Null deviance: 64.648  on 81  degrees of freedom\n",
       "Residual deviance: 62.918  on 75  degrees of freedom\n",
       "AIC: 76.918\n",
       "\n",
       "Number of Fisher Scoring iterations: 5\n"
      ]
     },
     "metadata": {},
     "output_type": "display_data"
    },
    {
     "data": {
      "text/html": [
       "<table>\n",
       "<thead><tr><th></th><th scope=col>Df</th><th scope=col>Deviance</th><th scope=col>Resid. Df</th><th scope=col>Resid. Dev</th><th scope=col>Pr(&gt;Chi)</th></tr></thead>\n",
       "<tbody>\n",
       "\t<tr><th scope=row>NULL</th><td>NA        </td><td>        NA</td><td>81        </td><td>64.64772  </td><td>       NA </td></tr>\n",
       "\t<tr><th scope=row>sex</th><td> 1        </td><td>0.10942066</td><td>80        </td><td>64.53830  </td><td>0.7408047 </td></tr>\n",
       "\t<tr><th scope=row>definition</th><td> 1        </td><td>0.33367239</td><td>79        </td><td>64.20462  </td><td>0.5635046 </td></tr>\n",
       "\t<tr><th scope=row>need</th><td> 1        </td><td>0.06134894</td><td>78        </td><td>64.14328  </td><td>0.8043765 </td></tr>\n",
       "\t<tr><th scope=row>purpose</th><td> 2        </td><td>1.19524621</td><td>76        </td><td>62.94803  </td><td>0.5501177 </td></tr>\n",
       "\t<tr><th scope=row>interest</th><td> 1        </td><td>0.02978958</td><td>75        </td><td>62.91824  </td><td>0.8629685 </td></tr>\n",
       "</tbody>\n",
       "</table>\n"
      ],
      "text/latex": [
       "\\begin{tabular}{r|lllll}\n",
       "  & Df & Deviance & Resid. Df & Resid. Dev & Pr(>Chi)\\\\\n",
       "\\hline\n",
       "\tNULL & NA         &         NA & 81         & 64.64772   &        NA \\\\\n",
       "\tsex &  1         & 0.10942066 & 80         & 64.53830   & 0.7408047 \\\\\n",
       "\tdefinition &  1         & 0.33367239 & 79         & 64.20462   & 0.5635046 \\\\\n",
       "\tneed &  1         & 0.06134894 & 78         & 64.14328   & 0.8043765 \\\\\n",
       "\tpurpose &  2         & 1.19524621 & 76         & 62.94803   & 0.5501177 \\\\\n",
       "\tinterest &  1         & 0.02978958 & 75         & 62.91824   & 0.8629685 \\\\\n",
       "\\end{tabular}\n"
      ],
      "text/markdown": [
       "\n",
       "| <!--/--> | Df | Deviance | Resid. Df | Resid. Dev | Pr(>Chi) |\n",
       "|---|---|---|---|---|---|\n",
       "| NULL | NA         |         NA | 81         | 64.64772   |        NA  |\n",
       "| sex |  1         | 0.10942066 | 80         | 64.53830   | 0.7408047  |\n",
       "| definition |  1         | 0.33367239 | 79         | 64.20462   | 0.5635046  |\n",
       "| need |  1         | 0.06134894 | 78         | 64.14328   | 0.8043765  |\n",
       "| purpose |  2         | 1.19524621 | 76         | 62.94803   | 0.5501177  |\n",
       "| interest |  1         | 0.02978958 | 75         | 62.91824   | 0.8629685  |\n",
       "\n"
      ],
      "text/plain": [
       "           Df Deviance   Resid. Df Resid. Dev Pr(>Chi) \n",
       "NULL       NA         NA 81        64.64772          NA\n",
       "sex         1 0.10942066 80        64.53830   0.7408047\n",
       "definition  1 0.33367239 79        64.20462   0.5635046\n",
       "need        1 0.06134894 78        64.14328   0.8043765\n",
       "purpose     2 1.19524621 76        62.94803   0.5501177\n",
       "interest    1 0.02978958 75        62.91824   0.8629685"
      ]
     },
     "metadata": {},
     "output_type": "display_data"
    },
    {
     "data": {
      "text/html": [
       "0.3125"
      ],
      "text/latex": [
       "0.3125"
      ],
      "text/markdown": [
       "0.3125"
      ],
      "text/plain": [
       "[1] 0.3125"
      ]
     },
     "metadata": {},
     "output_type": "display_data"
    },
    {
     "data": {
      "image/png": "[encoded data removed]",
      "text/plain": [
       "plot without title"
      ]
     },
     "metadata": {},
     "output_type": "display_data"
    }
   ],
   "source": [
    "model <- glm(d3_4 ~ sex + definition + need + purpose \n",
    "              + interest, data =train, family = binomial)\n",
    "summary(model)\n",
    "\n",
    "\n",
    "anova(model, test=\"Chisq\")\n",
    "\n",
    "\n",
    "p <- predict(model, newdata=test, type=\"response\")\n",
    "pr <- prediction(p, test$d3_4)\n",
    "prf <- performance(pr, measure = \"tpr\", x.measure = \"fpr\")\n",
    "plot(prf)\n",
    "\n",
    "auc <- performance(pr, measure = \"auc\")\n",
    "auc <- auc@y.values[[1]]\n",
    "auc"
   ]
  },
  {
   "cell_type": "code",
   "execution_count": 38,
   "metadata": {},
   "outputs": [
    {
     "data": {
      "text/plain": [
       "\n",
       "Call:\n",
       "glm(formula = d3_5 ~ sex + definition + need + purpose + interest, \n",
       "    family = binomial, data = train)\n",
       "\n",
       "Deviance Residuals: \n",
       "    Min       1Q   Median       3Q      Max  \n",
       "-0.9694  -0.8272  -0.7174   1.3902   1.8792  \n",
       "\n",
       "Coefficients:\n",
       "                  Estimate Std. Error z value Pr(>|z|)\n",
       "(Intercept)       -0.75145    1.15404  -0.651    0.515\n",
       "sexMale           -0.44010    0.76284  -0.577    0.564\n",
       "definitionharmony  0.24798    0.70988   0.349    0.727\n",
       "needharmony        0.29196    0.62607   0.466    0.641\n",
       "purposecosmetic    0.13623    0.74928   0.182    0.856\n",
       "purposeetc        -0.07712    0.65681  -0.117    0.907\n",
       "interest          -0.14988    0.25828  -0.580    0.562\n",
       "\n",
       "(Dispersion parameter for binomial family taken to be 1)\n",
       "\n",
       "    Null deviance: 95.375  on 81  degrees of freedom\n",
       "Residual deviance: 93.841  on 75  degrees of freedom\n",
       "AIC: 107.84\n",
       "\n",
       "Number of Fisher Scoring iterations: 4\n"
      ]
     },
     "metadata": {},
     "output_type": "display_data"
    },
    {
     "data": {
      "text/html": [
       "<table>\n",
       "<thead><tr><th></th><th scope=col>Df</th><th scope=col>Deviance</th><th scope=col>Resid. Df</th><th scope=col>Resid. Dev</th><th scope=col>Pr(&gt;Chi)</th></tr></thead>\n",
       "<tbody>\n",
       "\t<tr><th scope=row>NULL</th><td>NA       </td><td>       NA</td><td>81       </td><td>95.37474 </td><td>       NA</td></tr>\n",
       "\t<tr><th scope=row>sex</th><td> 1       </td><td>0.2566751</td><td>80       </td><td>95.11807 </td><td>0.6124137</td></tr>\n",
       "\t<tr><th scope=row>definition</th><td> 1       </td><td>0.6635051</td><td>79       </td><td>94.45456 </td><td>0.4153252</td></tr>\n",
       "\t<tr><th scope=row>need</th><td> 1       </td><td>0.1774376</td><td>78       </td><td>94.27712 </td><td>0.6735847</td></tr>\n",
       "\t<tr><th scope=row>purpose</th><td> 2       </td><td>0.0996099</td><td>76       </td><td>94.17751 </td><td>0.9514150</td></tr>\n",
       "\t<tr><th scope=row>interest</th><td> 1       </td><td>0.3365909</td><td>75       </td><td>93.84092 </td><td>0.5618037</td></tr>\n",
       "</tbody>\n",
       "</table>\n"
      ],
      "text/latex": [
       "\\begin{tabular}{r|lllll}\n",
       "  & Df & Deviance & Resid. Df & Resid. Dev & Pr(>Chi)\\\\\n",
       "\\hline\n",
       "\tNULL & NA        &        NA & 81        & 95.37474  &        NA\\\\\n",
       "\tsex &  1        & 0.2566751 & 80        & 95.11807  & 0.6124137\\\\\n",
       "\tdefinition &  1        & 0.6635051 & 79        & 94.45456  & 0.4153252\\\\\n",
       "\tneed &  1        & 0.1774376 & 78        & 94.27712  & 0.6735847\\\\\n",
       "\tpurpose &  2        & 0.0996099 & 76        & 94.17751  & 0.9514150\\\\\n",
       "\tinterest &  1        & 0.3365909 & 75        & 93.84092  & 0.5618037\\\\\n",
       "\\end{tabular}\n"
      ],
      "text/markdown": [
       "\n",
       "| <!--/--> | Df | Deviance | Resid. Df | Resid. Dev | Pr(>Chi) |\n",
       "|---|---|---|---|---|---|\n",
       "| NULL | NA        |        NA | 81        | 95.37474  |        NA |\n",
       "| sex |  1        | 0.2566751 | 80        | 95.11807  | 0.6124137 |\n",
       "| definition |  1        | 0.6635051 | 79        | 94.45456  | 0.4153252 |\n",
       "| need |  1        | 0.1774376 | 78        | 94.27712  | 0.6735847 |\n",
       "| purpose |  2        | 0.0996099 | 76        | 94.17751  | 0.9514150 |\n",
       "| interest |  1        | 0.3365909 | 75        | 93.84092  | 0.5618037 |\n",
       "\n"
      ],
      "text/plain": [
       "           Df Deviance  Resid. Df Resid. Dev Pr(>Chi) \n",
       "NULL       NA        NA 81        95.37474          NA\n",
       "sex         1 0.2566751 80        95.11807   0.6124137\n",
       "definition  1 0.6635051 79        94.45456   0.4153252\n",
       "need        1 0.1774376 78        94.27712   0.6735847\n",
       "purpose     2 0.0996099 76        94.17751   0.9514150\n",
       "interest    1 0.3365909 75        93.84092   0.5618037"
      ]
     },
     "metadata": {},
     "output_type": "display_data"
    },
    {
     "data": {
      "text/html": [
       "0.398148148148148"
      ],
      "text/latex": [
       "0.398148148148148"
      ],
      "text/markdown": [
       "0.398148148148148"
      ],
      "text/plain": [
       "[1] 0.3981481"
      ]
     },
     "metadata": {},
     "output_type": "display_data"
    },
    {
     "data": {
      "image/png": "[encoded data removed]",
      "text/plain": [
       "plot without title"
      ]
     },
     "metadata": {},
     "output_type": "display_data"
    }
   ],
   "source": [
    "model <- glm(d3_5 ~ sex + definition + need + purpose \n",
    "              + interest, data =train, family = binomial)\n",
    "summary(model)\n",
    "\n",
    "\n",
    "anova(model, test=\"Chisq\")\n",
    "\n",
    "\n",
    "p <- predict(model, newdata=test, type=\"response\")\n",
    "pr <- prediction(p, test$d3_5)\n",
    "prf <- performance(pr, measure = \"tpr\", x.measure = \"fpr\")\n",
    "plot(prf)\n",
    "\n",
    "auc <- performance(pr, measure = \"auc\")\n",
    "auc <- auc@y.values[[1]]\n",
    "auc"
   ]
  },
  {
   "cell_type": "code",
   "execution_count": null,
   "metadata": {},
   "outputs": [],
   "source": []
  }
 ],
 "metadata": {
  "kernelspec": {
   "display_name": "R",
   "language": "R",
   "name": "ir"
  },
  "language_info": {
   "codemirror_mode": "r",
   "file_extension": ".r",
   "mimetype": "text/x-r-source",
   "name": "R",
   "pygments_lexer": "r",
   "version": "3.6.1"
  }
 },
 "nbformat": 4,
 "nbformat_minor": 4
}
