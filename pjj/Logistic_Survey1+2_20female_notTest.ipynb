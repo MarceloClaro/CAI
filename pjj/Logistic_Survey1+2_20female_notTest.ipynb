{
 "cells": [
  {
   "cell_type": "code",
   "execution_count": 1,
   "metadata": {
    "scrolled": true
   },
   "outputs": [
    {
     "name": "stderr",
     "output_type": "stream",
     "text": [
      "Warning message:\n",
      "\"package 'ROCR' was built under R version 3.6.3\"Loading required package: gplots\n",
      "Warning message:\n",
      "\"package 'gplots' was built under R version 3.6.3\"\n",
      "Attaching package: 'gplots'\n",
      "\n",
      "The following object is masked from 'package:stats':\n",
      "\n",
      "    lowess\n",
      "\n",
      "Warning message:\n",
      "\"package 'dplyr' was built under R version 3.6.3\"\n",
      "Attaching package: 'dplyr'\n",
      "\n",
      "The following objects are masked from 'package:stats':\n",
      "\n",
      "    filter, lag\n",
      "\n",
      "The following objects are masked from 'package:base':\n",
      "\n",
      "    intersect, setdiff, setequal, union\n",
      "\n"
     ]
    }
   ],
   "source": [
    "library(ROCR)\n",
    "library(dplyr)"
   ]
  },
  {
   "cell_type": "code",
   "execution_count": 2,
   "metadata": {},
   "outputs": [],
   "source": [
    "survey <- read.csv('전처리/survey.csv')"
   ]
  },
  {
   "cell_type": "code",
   "execution_count": 3,
   "metadata": {
    "scrolled": false
   },
   "outputs": [
    {
     "name": "stdout",
     "output_type": "stream",
     "text": [
      "'data.frame':\t213 obs. of  13 variables:\n",
      " $ X          : int  0 1 2 3 4 5 6 7 8 9 ...\n",
      " $ sex        : Factor w/ 2 levels \"Female\",\"Male\": 2 1 1 1 2 1 2 1 1 1 ...\n",
      " $ age_class  : int  20 20 20 20 20 20 20 20 30 30 ...\n",
      " $ definition : Factor w/ 2 levels \"bright\",\"harmony\": 2 1 1 1 2 1 1 1 2 2 ...\n",
      " $ need       : Factor w/ 2 levels \"bright\",\"harmony\": 2 2 1 1 2 1 2 1 2 1 ...\n",
      " $ purpose    : Factor w/ 3 levels \"clothes\",\"cosmetic\",..: 1 1 1 1 1 1 1 2 1 1 ...\n",
      " $ interest   : int  5 5 3 3 5 5 3 3 4 3 ...\n",
      " $ comp       : int  4 1 2 3 5 5 5 2 3 3 ...\n",
      " $ triangle1  : int  5 1 4 4 5 5 5 4 2 5 ...\n",
      " $ triangle2  : int  2 2 1 3 4 4 2 3 2 3 ...\n",
      " $ doubleness1: int  3 2 2 2 1 2 5 4 5 2 ...\n",
      " $ doubleness2: int  2 3 1 2 2 2 4 3 4 3 ...\n",
      " $ doubleness3: int  2 2 2 1 3 1 5 1 5 5 ...\n"
     ]
    },
    {
     "data": {
      "text/html": [
       "<table>\n",
       "<thead><tr><th scope=col>X</th><th scope=col>sex</th><th scope=col>age_class</th><th scope=col>definition</th><th scope=col>need</th><th scope=col>purpose</th><th scope=col>interest</th><th scope=col>comp</th><th scope=col>triangle1</th><th scope=col>triangle2</th><th scope=col>doubleness1</th><th scope=col>doubleness2</th><th scope=col>doubleness3</th></tr></thead>\n",
       "<tbody>\n",
       "\t<tr><td>0      </td><td>Male   </td><td>20     </td><td>harmony</td><td>harmony</td><td>clothes</td><td>5      </td><td>4      </td><td>5      </td><td>2      </td><td>3      </td><td>2      </td><td>2      </td></tr>\n",
       "\t<tr><td>1      </td><td>Female </td><td>20     </td><td>bright </td><td>harmony</td><td>clothes</td><td>5      </td><td>1      </td><td>1      </td><td>2      </td><td>2      </td><td>3      </td><td>2      </td></tr>\n",
       "\t<tr><td>2      </td><td>Female </td><td>20     </td><td>bright </td><td>bright </td><td>clothes</td><td>3      </td><td>2      </td><td>4      </td><td>1      </td><td>2      </td><td>1      </td><td>2      </td></tr>\n",
       "\t<tr><td>3      </td><td>Female </td><td>20     </td><td>bright </td><td>bright </td><td>clothes</td><td>3      </td><td>3      </td><td>4      </td><td>3      </td><td>2      </td><td>2      </td><td>1      </td></tr>\n",
       "\t<tr><td>4      </td><td>Male   </td><td>20     </td><td>harmony</td><td>harmony</td><td>clothes</td><td>5      </td><td>5      </td><td>5      </td><td>4      </td><td>1      </td><td>2      </td><td>3      </td></tr>\n",
       "\t<tr><td>5      </td><td>Female </td><td>20     </td><td>bright </td><td>bright </td><td>clothes</td><td>5      </td><td>5      </td><td>5      </td><td>4      </td><td>2      </td><td>2      </td><td>1      </td></tr>\n",
       "</tbody>\n",
       "</table>\n"
      ],
      "text/latex": [
       "\\begin{tabular}{r|lllllllllllll}\n",
       " X & sex & age\\_class & definition & need & purpose & interest & comp & triangle1 & triangle2 & doubleness1 & doubleness2 & doubleness3\\\\\n",
       "\\hline\n",
       "\t 0       & Male    & 20      & harmony & harmony & clothes & 5       & 4       & 5       & 2       & 3       & 2       & 2      \\\\\n",
       "\t 1       & Female  & 20      & bright  & harmony & clothes & 5       & 1       & 1       & 2       & 2       & 3       & 2      \\\\\n",
       "\t 2       & Female  & 20      & bright  & bright  & clothes & 3       & 2       & 4       & 1       & 2       & 1       & 2      \\\\\n",
       "\t 3       & Female  & 20      & bright  & bright  & clothes & 3       & 3       & 4       & 3       & 2       & 2       & 1      \\\\\n",
       "\t 4       & Male    & 20      & harmony & harmony & clothes & 5       & 5       & 5       & 4       & 1       & 2       & 3      \\\\\n",
       "\t 5       & Female  & 20      & bright  & bright  & clothes & 5       & 5       & 5       & 4       & 2       & 2       & 1      \\\\\n",
       "\\end{tabular}\n"
      ],
      "text/markdown": [
       "\n",
       "| X | sex | age_class | definition | need | purpose | interest | comp | triangle1 | triangle2 | doubleness1 | doubleness2 | doubleness3 |\n",
       "|---|---|---|---|---|---|---|---|---|---|---|---|---|\n",
       "| 0       | Male    | 20      | harmony | harmony | clothes | 5       | 4       | 5       | 2       | 3       | 2       | 2       |\n",
       "| 1       | Female  | 20      | bright  | harmony | clothes | 5       | 1       | 1       | 2       | 2       | 3       | 2       |\n",
       "| 2       | Female  | 20      | bright  | bright  | clothes | 3       | 2       | 4       | 1       | 2       | 1       | 2       |\n",
       "| 3       | Female  | 20      | bright  | bright  | clothes | 3       | 3       | 4       | 3       | 2       | 2       | 1       |\n",
       "| 4       | Male    | 20      | harmony | harmony | clothes | 5       | 5       | 5       | 4       | 1       | 2       | 3       |\n",
       "| 5       | Female  | 20      | bright  | bright  | clothes | 5       | 5       | 5       | 4       | 2       | 2       | 1       |\n",
       "\n"
      ],
      "text/plain": [
       "  X sex    age_class definition need    purpose interest comp triangle1\n",
       "1 0 Male   20        harmony    harmony clothes 5        4    5        \n",
       "2 1 Female 20        bright     harmony clothes 5        1    1        \n",
       "3 2 Female 20        bright     bright  clothes 3        2    4        \n",
       "4 3 Female 20        bright     bright  clothes 3        3    4        \n",
       "5 4 Male   20        harmony    harmony clothes 5        5    5        \n",
       "6 5 Female 20        bright     bright  clothes 5        5    5        \n",
       "  triangle2 doubleness1 doubleness2 doubleness3\n",
       "1 2         3           2           2          \n",
       "2 2         2           3           2          \n",
       "3 1         2           1           2          \n",
       "4 3         2           2           1          \n",
       "5 4         1           2           3          \n",
       "6 4         2           2           1          "
      ]
     },
     "metadata": {},
     "output_type": "display_data"
    }
   ],
   "source": [
    "str(survey)\n",
    "head(survey)"
   ]
  },
  {
   "cell_type": "code",
   "execution_count": 4,
   "metadata": {
    "scrolled": true
   },
   "outputs": [],
   "source": [
    "survey = filter(survey, sex=='Female', age_class==20)"
   ]
  },
  {
   "cell_type": "code",
   "execution_count": 5,
   "metadata": {},
   "outputs": [
    {
     "name": "stdout",
     "output_type": "stream",
     "text": [
      "'data.frame':\t110 obs. of  13 variables:\n",
      " $ X          : int  1 2 3 5 7 10 12 14 15 17 ...\n",
      " $ sex        : Factor w/ 2 levels \"Female\",\"Male\": 1 1 1 1 1 1 1 1 1 1 ...\n",
      " $ age_class  : int  20 20 20 20 20 20 20 20 20 20 ...\n",
      " $ definition : Factor w/ 2 levels \"bright\",\"harmony\": 1 1 1 1 1 1 2 1 2 2 ...\n",
      " $ need       : Factor w/ 2 levels \"bright\",\"harmony\": 2 1 1 1 1 1 2 1 1 2 ...\n",
      " $ purpose    : Factor w/ 3 levels \"clothes\",\"cosmetic\",..: 1 1 1 1 2 2 1 3 2 1 ...\n",
      " $ interest   : int  5 3 3 5 3 3 1 4 3 3 ...\n",
      " $ comp       : int  1 2 3 5 2 2 5 4 4 2 ...\n",
      " $ triangle1  : int  1 4 4 5 4 5 4 3 4 3 ...\n",
      " $ triangle2  : int  2 1 3 4 3 3 2 4 4 4 ...\n",
      " $ doubleness1: int  2 2 2 2 4 1 1 3 5 5 ...\n",
      " $ doubleness2: int  3 1 2 2 3 5 4 4 2 2 ...\n",
      " $ doubleness3: int  2 2 1 1 1 3 2 2 1 5 ...\n"
     ]
    }
   ],
   "source": [
    "str(survey)"
   ]
  },
  {
   "cell_type": "code",
   "execution_count": 6,
   "metadata": {},
   "outputs": [],
   "source": [
    "survey$comp1 <- case_when(\n",
    "    survey$comp == 1 ~ 1,\n",
    "    survey$comp != 1 ~ 0)\n",
    "\n",
    "survey$comp2 <- case_when(\n",
    "    survey$comp == 2 ~ 1,\n",
    "    survey$comp != 2 ~ 0)\n",
    "\n",
    "survey$comp3 <- case_when(\n",
    "    survey$comp == 3 ~ 1,\n",
    "    survey$comp != 3 ~ 0)\n",
    "\n",
    "survey$comp4 <- case_when(\n",
    "    survey$comp == 4 ~ 1,\n",
    "    survey$comp != 4 ~ 0)\n",
    "\n",
    "survey$comp5 <- case_when(\n",
    "    survey$comp == 5 ~ 1,\n",
    "    survey$comp != 5 ~ 0)\n",
    "\n",
    "survey$t1_1 <- case_when(\n",
    "    survey$triangle1 == 1 ~ 1,\n",
    "    survey$triangle1 != 1 ~ 0)\n",
    "\n",
    "survey$t1_2 <- case_when(\n",
    "    survey$triangle1 == 2 ~ 1,\n",
    "    survey$triangle1 != 2 ~ 0)\n",
    "\n",
    "survey$t1_3 <- case_when(\n",
    "    survey$triangle1 == 3 ~ 1,\n",
    "    survey$triangle1 != 3 ~ 0)\n",
    "\n",
    "survey$t1_4 <- case_when(\n",
    "    survey$triangle1 == 4 ~ 1,\n",
    "    survey$triangle1 != 4 ~ 0)\n",
    "\n",
    "survey$t1_5 <- case_when(\n",
    "    survey$triangle1 == 5 ~ 1,\n",
    "    survey$triangle1 != 5 ~ 0)\n",
    "\t\n",
    "survey$t2_1 <- case_when(\n",
    "    survey$triangle2 == 1 ~ 1,\n",
    "    survey$triangle2 != 1 ~ 0)\n",
    "\n",
    "survey$t2_2 <- case_when(\n",
    "    survey$triangle2 == 2 ~ 1,\n",
    "    survey$triangle2 != 2 ~ 0)\n",
    "\n",
    "survey$t2_3 <- case_when(\n",
    "    survey$triangle2 == 3 ~ 1,\n",
    "    survey$triangle2 != 3 ~ 0)\n",
    "\n",
    "survey$t2_4 <- case_when(\n",
    "    survey$triangle2 == 4 ~ 1,\n",
    "    survey$triangle2 != 4 ~ 0)\n",
    "\n",
    "survey$t2_5 <- case_when(\n",
    "    survey$triangle2 == 5 ~ 1,\n",
    "    survey$triangle2 != 5 ~ 0)\n",
    "\t\n",
    "survey$d1_1 <- case_when(\n",
    "    survey$doubleness1 == 1 ~ 1,\n",
    "    survey$doubleness1 != 1 ~ 0)\n",
    "\n",
    "survey$d1_2 <- case_when(\n",
    "    survey$doubleness1 == 2 ~ 1,\n",
    "    survey$doubleness1 != 2 ~ 0)\n",
    "\n",
    "survey$d1_3 <- case_when(\n",
    "    survey$doubleness1 == 3 ~ 1,\n",
    "    survey$doubleness1 != 3 ~ 0)\n",
    "\n",
    "survey$d1_4 <- case_when(\n",
    "    survey$doubleness1 == 4 ~ 1,\n",
    "    survey$doubleness1 != 4 ~ 0)\n",
    "\n",
    "survey$d1_5 <- case_when(\n",
    "    survey$doubleness1 == 5 ~ 1,\n",
    "    survey$doubleness1 != 5 ~ 0)\n",
    "\t\n",
    "survey$d2_1 <- case_when(\n",
    "    survey$doubleness2 == 1 ~ 1,\n",
    "    survey$doubleness2 != 1 ~ 0)\n",
    "\n",
    "survey$d2_2 <- case_when(\n",
    "    survey$doubleness2 == 2 ~ 1,\n",
    "    survey$doubleness2 != 2 ~ 0)\n",
    "\n",
    "survey$d2_3 <- case_when(\n",
    "    survey$doubleness2 == 3 ~ 1,\n",
    "    survey$doubleness2 != 3 ~ 0)\n",
    "\n",
    "survey$d2_4 <- case_when(\n",
    "    survey$doubleness2 == 4 ~ 1,\n",
    "    survey$doubleness2 != 4 ~ 0)\n",
    "\n",
    "survey$d2_5 <- case_when(\n",
    "    survey$doubleness2 == 5 ~ 1,\n",
    "    survey$doubleness2 != 5 ~ 0)\n",
    "\t\n",
    "survey$d3_1 <- case_when(\n",
    "    survey$doubleness3 == 1 ~ 1,\n",
    "    survey$doubleness3 != 1 ~ 0)\n",
    "\n",
    "survey$d3_2 <- case_when(\n",
    "    survey$doubleness3 == 2 ~ 1,\n",
    "    survey$doubleness3 != 2 ~ 0)\n",
    "\n",
    "survey$d3_3 <- case_when(\n",
    "    survey$doubleness3 == 3 ~ 1,\n",
    "    survey$doubleness3 != 3 ~ 0)\n",
    "\n",
    "survey$d3_4 <- case_when(\n",
    "    survey$doubleness3 == 4 ~ 1,\n",
    "    survey$doubleness3 != 4 ~ 0)\n",
    "\n",
    "survey$d3_5 <- case_when(\n",
    "    survey$doubleness3 == 5 ~ 1,\n",
    "    survey$doubleness3 != 5 ~ 0)"
   ]
  },
  {
   "cell_type": "code",
   "execution_count": 7,
   "metadata": {},
   "outputs": [
    {
     "data": {
      "text/html": [
       "<table>\n",
       "<thead><tr><th scope=col>X</th><th scope=col>sex</th><th scope=col>age_class</th><th scope=col>definition</th><th scope=col>need</th><th scope=col>purpose</th><th scope=col>interest</th><th scope=col>comp</th><th scope=col>triangle1</th><th scope=col>triangle2</th><th scope=col>...</th><th scope=col>d2_1</th><th scope=col>d2_2</th><th scope=col>d2_3</th><th scope=col>d2_4</th><th scope=col>d2_5</th><th scope=col>d3_1</th><th scope=col>d3_2</th><th scope=col>d3_3</th><th scope=col>d3_4</th><th scope=col>d3_5</th></tr></thead>\n",
       "<tbody>\n",
       "\t<tr><td> 1      </td><td>Female  </td><td>20      </td><td>bright  </td><td>harmony </td><td>clothes </td><td>5       </td><td>1       </td><td>1       </td><td>2       </td><td>...     </td><td>0       </td><td>0       </td><td>1       </td><td>0       </td><td>0       </td><td>0       </td><td>1       </td><td>0       </td><td>0       </td><td>0       </td></tr>\n",
       "\t<tr><td> 2      </td><td>Female  </td><td>20      </td><td>bright  </td><td>bright  </td><td>clothes </td><td>3       </td><td>2       </td><td>4       </td><td>1       </td><td>...     </td><td>1       </td><td>0       </td><td>0       </td><td>0       </td><td>0       </td><td>0       </td><td>1       </td><td>0       </td><td>0       </td><td>0       </td></tr>\n",
       "\t<tr><td> 3      </td><td>Female  </td><td>20      </td><td>bright  </td><td>bright  </td><td>clothes </td><td>3       </td><td>3       </td><td>4       </td><td>3       </td><td>...     </td><td>0       </td><td>1       </td><td>0       </td><td>0       </td><td>0       </td><td>1       </td><td>0       </td><td>0       </td><td>0       </td><td>0       </td></tr>\n",
       "\t<tr><td> 5      </td><td>Female  </td><td>20      </td><td>bright  </td><td>bright  </td><td>clothes </td><td>5       </td><td>5       </td><td>5       </td><td>4       </td><td>...     </td><td>0       </td><td>1       </td><td>0       </td><td>0       </td><td>0       </td><td>1       </td><td>0       </td><td>0       </td><td>0       </td><td>0       </td></tr>\n",
       "\t<tr><td> 7      </td><td>Female  </td><td>20      </td><td>bright  </td><td>bright  </td><td>cosmetic</td><td>3       </td><td>2       </td><td>4       </td><td>3       </td><td>...     </td><td>0       </td><td>0       </td><td>1       </td><td>0       </td><td>0       </td><td>1       </td><td>0       </td><td>0       </td><td>0       </td><td>0       </td></tr>\n",
       "\t<tr><td>10      </td><td>Female  </td><td>20      </td><td>bright  </td><td>bright  </td><td>cosmetic</td><td>3       </td><td>2       </td><td>5       </td><td>3       </td><td>...     </td><td>0       </td><td>0       </td><td>0       </td><td>0       </td><td>1       </td><td>0       </td><td>0       </td><td>1       </td><td>0       </td><td>0       </td></tr>\n",
       "</tbody>\n",
       "</table>\n"
      ],
      "text/latex": [
       "\\begin{tabular}{r|lllllllllllllllllllllllllllllllllllllllllll}\n",
       " X & sex & age\\_class & definition & need & purpose & interest & comp & triangle1 & triangle2 & ... & d2\\_1 & d2\\_2 & d2\\_3 & d2\\_4 & d2\\_5 & d3\\_1 & d3\\_2 & d3\\_3 & d3\\_4 & d3\\_5\\\\\n",
       "\\hline\n",
       "\t  1       & Female   & 20       & bright   & harmony  & clothes  & 5        & 1        & 1        & 2        & ...      & 0        & 0        & 1        & 0        & 0        & 0        & 1        & 0        & 0        & 0       \\\\\n",
       "\t  2       & Female   & 20       & bright   & bright   & clothes  & 3        & 2        & 4        & 1        & ...      & 1        & 0        & 0        & 0        & 0        & 0        & 1        & 0        & 0        & 0       \\\\\n",
       "\t  3       & Female   & 20       & bright   & bright   & clothes  & 3        & 3        & 4        & 3        & ...      & 0        & 1        & 0        & 0        & 0        & 1        & 0        & 0        & 0        & 0       \\\\\n",
       "\t  5       & Female   & 20       & bright   & bright   & clothes  & 5        & 5        & 5        & 4        & ...      & 0        & 1        & 0        & 0        & 0        & 1        & 0        & 0        & 0        & 0       \\\\\n",
       "\t  7       & Female   & 20       & bright   & bright   & cosmetic & 3        & 2        & 4        & 3        & ...      & 0        & 0        & 1        & 0        & 0        & 1        & 0        & 0        & 0        & 0       \\\\\n",
       "\t 10       & Female   & 20       & bright   & bright   & cosmetic & 3        & 2        & 5        & 3        & ...      & 0        & 0        & 0        & 0        & 1        & 0        & 0        & 1        & 0        & 0       \\\\\n",
       "\\end{tabular}\n"
      ],
      "text/markdown": [
       "\n",
       "| X | sex | age_class | definition | need | purpose | interest | comp | triangle1 | triangle2 | ... | d2_1 | d2_2 | d2_3 | d2_4 | d2_5 | d3_1 | d3_2 | d3_3 | d3_4 | d3_5 |\n",
       "|---|---|---|---|---|---|---|---|---|---|---|---|---|---|---|---|---|---|---|---|---|\n",
       "|  1       | Female   | 20       | bright   | harmony  | clothes  | 5        | 1        | 1        | 2        | ...      | 0        | 0        | 1        | 0        | 0        | 0        | 1        | 0        | 0        | 0        |\n",
       "|  2       | Female   | 20       | bright   | bright   | clothes  | 3        | 2        | 4        | 1        | ...      | 1        | 0        | 0        | 0        | 0        | 0        | 1        | 0        | 0        | 0        |\n",
       "|  3       | Female   | 20       | bright   | bright   | clothes  | 3        | 3        | 4        | 3        | ...      | 0        | 1        | 0        | 0        | 0        | 1        | 0        | 0        | 0        | 0        |\n",
       "|  5       | Female   | 20       | bright   | bright   | clothes  | 5        | 5        | 5        | 4        | ...      | 0        | 1        | 0        | 0        | 0        | 1        | 0        | 0        | 0        | 0        |\n",
       "|  7       | Female   | 20       | bright   | bright   | cosmetic | 3        | 2        | 4        | 3        | ...      | 0        | 0        | 1        | 0        | 0        | 1        | 0        | 0        | 0        | 0        |\n",
       "| 10       | Female   | 20       | bright   | bright   | cosmetic | 3        | 2        | 5        | 3        | ...      | 0        | 0        | 0        | 0        | 1        | 0        | 0        | 1        | 0        | 0        |\n",
       "\n"
      ],
      "text/plain": [
       "  X  sex    age_class definition need    purpose  interest comp triangle1\n",
       "1  1 Female 20        bright     harmony clothes  5        1    1        \n",
       "2  2 Female 20        bright     bright  clothes  3        2    4        \n",
       "3  3 Female 20        bright     bright  clothes  3        3    4        \n",
       "4  5 Female 20        bright     bright  clothes  5        5    5        \n",
       "5  7 Female 20        bright     bright  cosmetic 3        2    4        \n",
       "6 10 Female 20        bright     bright  cosmetic 3        2    5        \n",
       "  triangle2 ... d2_1 d2_2 d2_3 d2_4 d2_5 d3_1 d3_2 d3_3 d3_4 d3_5\n",
       "1 2         ... 0    0    1    0    0    0    1    0    0    0   \n",
       "2 1         ... 1    0    0    0    0    0    1    0    0    0   \n",
       "3 3         ... 0    1    0    0    0    1    0    0    0    0   \n",
       "4 4         ... 0    1    0    0    0    1    0    0    0    0   \n",
       "5 3         ... 0    0    1    0    0    1    0    0    0    0   \n",
       "6 3         ... 0    0    0    0    1    0    0    1    0    0   "
      ]
     },
     "metadata": {},
     "output_type": "display_data"
    }
   ],
   "source": [
    "head(survey)"
   ]
  },
  {
   "cell_type": "code",
   "execution_count": 8,
   "metadata": {},
   "outputs": [
    {
     "data": {
      "text/plain": [
       "\n",
       "Call:\n",
       "glm(formula = comp1 ~ definition + need + purpose + interest, \n",
       "    family = binomial, data = survey)\n",
       "\n",
       "Deviance Residuals: \n",
       "    Min       1Q   Median       3Q      Max  \n",
       "-1.3191  -0.8603  -0.6946   1.2409   2.0298  \n",
       "\n",
       "Coefficients:\n",
       "                  Estimate Std. Error z value Pr(>|z|)   \n",
       "(Intercept)        -3.7249     1.1454  -3.252  0.00115 **\n",
       "definitionharmony   0.3310     0.5713   0.579  0.56229   \n",
       "needharmony         0.1366     0.5107   0.267  0.78909   \n",
       "purposecosmetic     0.4956     0.6074   0.816  0.41454   \n",
       "purposeetc          0.3208     0.5196   0.617  0.53702   \n",
       "interest            0.6527     0.2590   2.520  0.01174 * \n",
       "---\n",
       "Signif. codes:  0 '***' 0.001 '**' 0.01 '*' 0.05 '.' 0.1 ' ' 1\n",
       "\n",
       "(Dispersion parameter for binomial family taken to be 1)\n",
       "\n",
       "    Null deviance: 137.61  on 109  degrees of freedom\n",
       "Residual deviance: 129.26  on 104  degrees of freedom\n",
       "AIC: 141.26\n",
       "\n",
       "Number of Fisher Scoring iterations: 4\n"
      ]
     },
     "metadata": {},
     "output_type": "display_data"
    }
   ],
   "source": [
    "model <- glm(comp1 ~ definition + need + purpose \n",
    "              + interest, data =survey, family = binomial)\n",
    "summary(model)"
   ]
  },
  {
   "cell_type": "code",
   "execution_count": 9,
   "metadata": {},
   "outputs": [
    {
     "data": {
      "text/html": [
       "<table>\n",
       "<thead><tr><th></th><th scope=col>Df</th><th scope=col>Deviance</th><th scope=col>Resid. Df</th><th scope=col>Resid. Dev</th><th scope=col>Pr(&gt;Chi)</th></tr></thead>\n",
       "<tbody>\n",
       "\t<tr><th scope=row>NULL</th><td>NA        </td><td>       NA </td><td>109       </td><td>137.6081  </td><td>        NA</td></tr>\n",
       "\t<tr><th scope=row>definition</th><td> 1        </td><td>0.1560049 </td><td>108       </td><td>137.4521  </td><td>0.69286164</td></tr>\n",
       "\t<tr><th scope=row>need</th><td> 1        </td><td>0.1652894 </td><td>107       </td><td>137.2868  </td><td>0.68433265</td></tr>\n",
       "\t<tr><th scope=row>purpose</th><td> 2        </td><td>1.0482795 </td><td>105       </td><td>136.2385  </td><td>0.59206448</td></tr>\n",
       "\t<tr><th scope=row>interest</th><td> 1        </td><td>6.9833733 </td><td>104       </td><td>129.2552  </td><td>0.00822704</td></tr>\n",
       "</tbody>\n",
       "</table>\n"
      ],
      "text/latex": [
       "\\begin{tabular}{r|lllll}\n",
       "  & Df & Deviance & Resid. Df & Resid. Dev & Pr(>Chi)\\\\\n",
       "\\hline\n",
       "\tNULL & NA         &        NA  & 109        & 137.6081   &         NA\\\\\n",
       "\tdefinition &  1         & 0.1560049  & 108        & 137.4521   & 0.69286164\\\\\n",
       "\tneed &  1         & 0.1652894  & 107        & 137.2868   & 0.68433265\\\\\n",
       "\tpurpose &  2         & 1.0482795  & 105        & 136.2385   & 0.59206448\\\\\n",
       "\tinterest &  1         & 6.9833733  & 104        & 129.2552   & 0.00822704\\\\\n",
       "\\end{tabular}\n"
      ],
      "text/markdown": [
       "\n",
       "| <!--/--> | Df | Deviance | Resid. Df | Resid. Dev | Pr(>Chi) |\n",
       "|---|---|---|---|---|---|\n",
       "| NULL | NA         |        NA  | 109        | 137.6081   |         NA |\n",
       "| definition |  1         | 0.1560049  | 108        | 137.4521   | 0.69286164 |\n",
       "| need |  1         | 0.1652894  | 107        | 137.2868   | 0.68433265 |\n",
       "| purpose |  2         | 1.0482795  | 105        | 136.2385   | 0.59206448 |\n",
       "| interest |  1         | 6.9833733  | 104        | 129.2552   | 0.00822704 |\n",
       "\n"
      ],
      "text/plain": [
       "           Df Deviance  Resid. Df Resid. Dev Pr(>Chi)  \n",
       "NULL       NA        NA 109       137.6081           NA\n",
       "definition  1 0.1560049 108       137.4521   0.69286164\n",
       "need        1 0.1652894 107       137.2868   0.68433265\n",
       "purpose     2 1.0482795 105       136.2385   0.59206448\n",
       "interest    1 6.9833733 104       129.2552   0.00822704"
      ]
     },
     "metadata": {},
     "output_type": "display_data"
    }
   ],
   "source": [
    "anova(model, test=\"Chisq\")"
   ]
  },
  {
   "cell_type": "code",
   "execution_count": 10,
   "metadata": {},
   "outputs": [
    {
     "data": {
      "text/plain": [
       "\n",
       "Call:\n",
       "glm(formula = comp2 ~ definition + need + purpose + interest, \n",
       "    family = binomial, data = survey)\n",
       "\n",
       "Deviance Residuals: \n",
       "    Min       1Q   Median       3Q      Max  \n",
       "-1.0343  -0.7381  -0.6314  -0.5124   2.0471  \n",
       "\n",
       "Coefficients:\n",
       "                  Estimate Std. Error z value Pr(>|z|)\n",
       "(Intercept)         0.2708     1.0985   0.247    0.805\n",
       "definitionharmony  -0.5126     0.6051  -0.847    0.397\n",
       "needharmony         0.1815     0.5637   0.322    0.747\n",
       "purposecosmetic    -0.3725     0.6485  -0.574    0.566\n",
       "purposeetc         -0.4733     0.5323  -0.889    0.374\n",
       "interest           -0.2861     0.2663  -1.074    0.283\n",
       "\n",
       "(Dispersion parameter for binomial family taken to be 1)\n",
       "\n",
       "    Null deviance: 115.41  on 109  degrees of freedom\n",
       "Residual deviance: 112.80  on 104  degrees of freedom\n",
       "AIC: 124.8\n",
       "\n",
       "Number of Fisher Scoring iterations: 4\n"
      ]
     },
     "metadata": {},
     "output_type": "display_data"
    },
    {
     "data": {
      "text/html": [
       "<table>\n",
       "<thead><tr><th></th><th scope=col>Df</th><th scope=col>Deviance</th><th scope=col>Resid. Df</th><th scope=col>Resid. Dev</th><th scope=col>Pr(&gt;Chi)</th></tr></thead>\n",
       "<tbody>\n",
       "\t<tr><th scope=row>NULL</th><td>NA       </td><td>       NA</td><td>109      </td><td>115.4114 </td><td>       NA</td></tr>\n",
       "\t<tr><th scope=row>definition</th><td> 1       </td><td>0.3930075</td><td>108      </td><td>115.0184 </td><td>0.5307227</td></tr>\n",
       "\t<tr><th scope=row>need</th><td> 1       </td><td>0.0760756</td><td>107      </td><td>114.9423 </td><td>0.7826878</td></tr>\n",
       "\t<tr><th scope=row>purpose</th><td> 2       </td><td>0.9791236</td><td>105      </td><td>113.9632 </td><td>0.6128949</td></tr>\n",
       "\t<tr><th scope=row>interest</th><td> 1       </td><td>1.1654957</td><td>104      </td><td>112.7977 </td><td>0.2803287</td></tr>\n",
       "</tbody>\n",
       "</table>\n"
      ],
      "text/latex": [
       "\\begin{tabular}{r|lllll}\n",
       "  & Df & Deviance & Resid. Df & Resid. Dev & Pr(>Chi)\\\\\n",
       "\\hline\n",
       "\tNULL & NA        &        NA & 109       & 115.4114  &        NA\\\\\n",
       "\tdefinition &  1        & 0.3930075 & 108       & 115.0184  & 0.5307227\\\\\n",
       "\tneed &  1        & 0.0760756 & 107       & 114.9423  & 0.7826878\\\\\n",
       "\tpurpose &  2        & 0.9791236 & 105       & 113.9632  & 0.6128949\\\\\n",
       "\tinterest &  1        & 1.1654957 & 104       & 112.7977  & 0.2803287\\\\\n",
       "\\end{tabular}\n"
      ],
      "text/markdown": [
       "\n",
       "| <!--/--> | Df | Deviance | Resid. Df | Resid. Dev | Pr(>Chi) |\n",
       "|---|---|---|---|---|---|\n",
       "| NULL | NA        |        NA | 109       | 115.4114  |        NA |\n",
       "| definition |  1        | 0.3930075 | 108       | 115.0184  | 0.5307227 |\n",
       "| need |  1        | 0.0760756 | 107       | 114.9423  | 0.7826878 |\n",
       "| purpose |  2        | 0.9791236 | 105       | 113.9632  | 0.6128949 |\n",
       "| interest |  1        | 1.1654957 | 104       | 112.7977  | 0.2803287 |\n",
       "\n"
      ],
      "text/plain": [
       "           Df Deviance  Resid. Df Resid. Dev Pr(>Chi) \n",
       "NULL       NA        NA 109       115.4114          NA\n",
       "definition  1 0.3930075 108       115.0184   0.5307227\n",
       "need        1 0.0760756 107       114.9423   0.7826878\n",
       "purpose     2 0.9791236 105       113.9632   0.6128949\n",
       "interest    1 1.1654957 104       112.7977   0.2803287"
      ]
     },
     "metadata": {},
     "output_type": "display_data"
    }
   ],
   "source": [
    "model <- glm(comp2 ~ definition + need + purpose \n",
    "              + interest, data =survey, family = binomial)\n",
    "summary(model)\n",
    "\n",
    "\n",
    "anova(model, test=\"Chisq\")"
   ]
  },
  {
   "cell_type": "code",
   "execution_count": 11,
   "metadata": {},
   "outputs": [
    {
     "data": {
      "text/plain": [
       "\n",
       "Call:\n",
       "glm(formula = comp3 ~ definition + need + purpose + interest, \n",
       "    family = binomial, data = survey)\n",
       "\n",
       "Deviance Residuals: \n",
       "    Min       1Q   Median       3Q      Max  \n",
       "-0.9566  -0.5652  -0.4818  -0.3628   2.5188  \n",
       "\n",
       "Coefficients:\n",
       "                  Estimate Std. Error z value Pr(>|z|)  \n",
       "(Intercept)        0.04825    1.31527   0.037   0.9707  \n",
       "definitionharmony -0.42970    0.79274  -0.542   0.5878  \n",
       "needharmony        0.44167    0.73246   0.603   0.5465  \n",
       "purposecosmetic   -0.32990    0.93334  -0.353   0.7237  \n",
       "purposeetc         0.45834    0.66457   0.690   0.4904  \n",
       "interest          -0.60451    0.32160  -1.880   0.0601 .\n",
       "---\n",
       "Signif. codes:  0 '***' 0.001 '**' 0.01 '*' 0.05 '.' 0.1 ' ' 1\n",
       "\n",
       "(Dispersion parameter for binomial family taken to be 1)\n",
       "\n",
       "    Null deviance: 87.628  on 109  degrees of freedom\n",
       "Residual deviance: 82.355  on 104  degrees of freedom\n",
       "AIC: 94.355\n",
       "\n",
       "Number of Fisher Scoring iterations: 5\n"
      ]
     },
     "metadata": {},
     "output_type": "display_data"
    },
    {
     "data": {
      "text/html": [
       "<table>\n",
       "<thead><tr><th></th><th scope=col>Df</th><th scope=col>Deviance</th><th scope=col>Resid. Df</th><th scope=col>Resid. Dev</th><th scope=col>Pr(&gt;Chi)</th></tr></thead>\n",
       "<tbody>\n",
       "\t<tr><th scope=row>NULL</th><td>NA        </td><td>        NA</td><td>109       </td><td>87.62757  </td><td>        NA</td></tr>\n",
       "\t<tr><th scope=row>definition</th><td> 1        </td><td>0.01988723</td><td>108       </td><td>87.60768  </td><td>0.88785250</td></tr>\n",
       "\t<tr><th scope=row>need</th><td> 1        </td><td>0.44990471</td><td>107       </td><td>87.15777  </td><td>0.50238021</td></tr>\n",
       "\t<tr><th scope=row>purpose</th><td> 2        </td><td>1.09866282</td><td>105       </td><td>86.05911  </td><td>0.57733568</td></tr>\n",
       "\t<tr><th scope=row>interest</th><td> 1        </td><td>3.70459240</td><td>104       </td><td>82.35452  </td><td>0.05426292</td></tr>\n",
       "</tbody>\n",
       "</table>\n"
      ],
      "text/latex": [
       "\\begin{tabular}{r|lllll}\n",
       "  & Df & Deviance & Resid. Df & Resid. Dev & Pr(>Chi)\\\\\n",
       "\\hline\n",
       "\tNULL & NA         &         NA & 109        & 87.62757   &         NA\\\\\n",
       "\tdefinition &  1         & 0.01988723 & 108        & 87.60768   & 0.88785250\\\\\n",
       "\tneed &  1         & 0.44990471 & 107        & 87.15777   & 0.50238021\\\\\n",
       "\tpurpose &  2         & 1.09866282 & 105        & 86.05911   & 0.57733568\\\\\n",
       "\tinterest &  1         & 3.70459240 & 104        & 82.35452   & 0.05426292\\\\\n",
       "\\end{tabular}\n"
      ],
      "text/markdown": [
       "\n",
       "| <!--/--> | Df | Deviance | Resid. Df | Resid. Dev | Pr(>Chi) |\n",
       "|---|---|---|---|---|---|\n",
       "| NULL | NA         |         NA | 109        | 87.62757   |         NA |\n",
       "| definition |  1         | 0.01988723 | 108        | 87.60768   | 0.88785250 |\n",
       "| need |  1         | 0.44990471 | 107        | 87.15777   | 0.50238021 |\n",
       "| purpose |  2         | 1.09866282 | 105        | 86.05911   | 0.57733568 |\n",
       "| interest |  1         | 3.70459240 | 104        | 82.35452   | 0.05426292 |\n",
       "\n"
      ],
      "text/plain": [
       "           Df Deviance   Resid. Df Resid. Dev Pr(>Chi)  \n",
       "NULL       NA         NA 109       87.62757           NA\n",
       "definition  1 0.01988723 108       87.60768   0.88785250\n",
       "need        1 0.44990471 107       87.15777   0.50238021\n",
       "purpose     2 1.09866282 105       86.05911   0.57733568\n",
       "interest    1 3.70459240 104       82.35452   0.05426292"
      ]
     },
     "metadata": {},
     "output_type": "display_data"
    }
   ],
   "source": [
    "model <- glm(comp3 ~ definition + need + purpose \n",
    "              + interest, data =survey, family = binomial)\n",
    "summary(model)\n",
    "\n",
    "\n",
    "anova(model, test=\"Chisq\")"
   ]
  },
  {
   "cell_type": "code",
   "execution_count": 12,
   "metadata": {},
   "outputs": [
    {
     "data": {
      "text/plain": [
       "\n",
       "Call:\n",
       "glm(formula = comp4 ~ definition + need + purpose + interest, \n",
       "    family = binomial, data = survey)\n",
       "\n",
       "Deviance Residuals: \n",
       "    Min       1Q   Median       3Q      Max  \n",
       "-1.0949  -0.5702  -0.4454  -0.3029   2.4239  \n",
       "\n",
       "Coefficients:\n",
       "                  Estimate Std. Error z value Pr(>|z|)  \n",
       "(Intercept)       -1.08641    1.41202  -0.769    0.442  \n",
       "definitionharmony  0.49627    0.72272   0.687    0.492  \n",
       "needharmony       -1.60437    0.70026  -2.291    0.022 *\n",
       "purposecosmetic    0.05419    0.89425   0.061    0.952  \n",
       "purposeetc         0.85205    0.73537   1.159    0.247  \n",
       "interest          -0.22959    0.32781  -0.700    0.484  \n",
       "---\n",
       "Signif. codes:  0 '***' 0.001 '**' 0.01 '*' 0.05 '.' 0.1 ' ' 1\n",
       "\n",
       "(Dispersion parameter for binomial family taken to be 1)\n",
       "\n",
       "    Null deviance: 87.628  on 109  degrees of freedom\n",
       "Residual deviance: 80.137  on 104  degrees of freedom\n",
       "AIC: 92.137\n",
       "\n",
       "Number of Fisher Scoring iterations: 5\n"
      ]
     },
     "metadata": {},
     "output_type": "display_data"
    },
    {
     "data": {
      "text/html": [
       "<table>\n",
       "<thead><tr><th></th><th scope=col>Df</th><th scope=col>Deviance</th><th scope=col>Resid. Df</th><th scope=col>Resid. Dev</th><th scope=col>Pr(&gt;Chi)</th></tr></thead>\n",
       "<tbody>\n",
       "\t<tr><th scope=row>NULL</th><td>NA        </td><td>       NA </td><td>109       </td><td>87.62757  </td><td>        NA</td></tr>\n",
       "\t<tr><th scope=row>definition</th><td> 1        </td><td>0.2213963 </td><td>108       </td><td>87.40617  </td><td>0.63797809</td></tr>\n",
       "\t<tr><th scope=row>need</th><td> 1        </td><td>4.9319014 </td><td>107       </td><td>82.47427  </td><td>0.02636529</td></tr>\n",
       "\t<tr><th scope=row>purpose</th><td> 2        </td><td>1.8463736 </td><td>105       </td><td>80.62789  </td><td>0.39725106</td></tr>\n",
       "\t<tr><th scope=row>interest</th><td> 1        </td><td>0.4908265 </td><td>104       </td><td>80.13707  </td><td>0.48355884</td></tr>\n",
       "</tbody>\n",
       "</table>\n"
      ],
      "text/latex": [
       "\\begin{tabular}{r|lllll}\n",
       "  & Df & Deviance & Resid. Df & Resid. Dev & Pr(>Chi)\\\\\n",
       "\\hline\n",
       "\tNULL & NA         &        NA  & 109        & 87.62757   &         NA\\\\\n",
       "\tdefinition &  1         & 0.2213963  & 108        & 87.40617   & 0.63797809\\\\\n",
       "\tneed &  1         & 4.9319014  & 107        & 82.47427   & 0.02636529\\\\\n",
       "\tpurpose &  2         & 1.8463736  & 105        & 80.62789   & 0.39725106\\\\\n",
       "\tinterest &  1         & 0.4908265  & 104        & 80.13707   & 0.48355884\\\\\n",
       "\\end{tabular}\n"
      ],
      "text/markdown": [
       "\n",
       "| <!--/--> | Df | Deviance | Resid. Df | Resid. Dev | Pr(>Chi) |\n",
       "|---|---|---|---|---|---|\n",
       "| NULL | NA         |        NA  | 109        | 87.62757   |         NA |\n",
       "| definition |  1         | 0.2213963  | 108        | 87.40617   | 0.63797809 |\n",
       "| need |  1         | 4.9319014  | 107        | 82.47427   | 0.02636529 |\n",
       "| purpose |  2         | 1.8463736  | 105        | 80.62789   | 0.39725106 |\n",
       "| interest |  1         | 0.4908265  | 104        | 80.13707   | 0.48355884 |\n",
       "\n"
      ],
      "text/plain": [
       "           Df Deviance  Resid. Df Resid. Dev Pr(>Chi)  \n",
       "NULL       NA        NA 109       87.62757           NA\n",
       "definition  1 0.2213963 108       87.40617   0.63797809\n",
       "need        1 4.9319014 107       82.47427   0.02636529\n",
       "purpose     2 1.8463736 105       80.62789   0.39725106\n",
       "interest    1 0.4908265 104       80.13707   0.48355884"
      ]
     },
     "metadata": {},
     "output_type": "display_data"
    }
   ],
   "source": [
    "model <- glm(comp4 ~ definition + need + purpose \n",
    "              + interest, data =survey, family = binomial)\n",
    "summary(model)\n",
    "\n",
    "\n",
    "anova(model, test=\"Chisq\")"
   ]
  },
  {
   "cell_type": "code",
   "execution_count": 13,
   "metadata": {},
   "outputs": [
    {
     "data": {
      "text/plain": [
       "\n",
       "Call:\n",
       "glm(formula = comp5 ~ definition + need + purpose + interest, \n",
       "    family = binomial, data = survey)\n",
       "\n",
       "Deviance Residuals: \n",
       "    Min       1Q   Median       3Q      Max  \n",
       "-0.8836  -0.6689  -0.5854  -0.4513   2.1978  \n",
       "\n",
       "Coefficients:\n",
       "                  Estimate Std. Error z value Pr(>|z|)\n",
       "(Intercept)       -1.79933    1.20793  -1.490    0.136\n",
       "definitionharmony  0.08332    0.66160   0.126    0.900\n",
       "needharmony        0.45698    0.59304   0.771    0.441\n",
       "purposecosmetic   -0.02163    0.63384  -0.034    0.973\n",
       "purposeetc        -0.83411    0.58259  -1.432    0.152\n",
       "interest           0.10396    0.28533   0.364    0.716\n",
       "\n",
       "(Dispersion parameter for binomial family taken to be 1)\n",
       "\n",
       "    Null deviance: 107.26  on 109  degrees of freedom\n",
       "Residual deviance: 103.87  on 104  degrees of freedom\n",
       "AIC: 115.87\n",
       "\n",
       "Number of Fisher Scoring iterations: 4\n"
      ]
     },
     "metadata": {},
     "output_type": "display_data"
    },
    {
     "data": {
      "text/html": [
       "<table>\n",
       "<thead><tr><th></th><th scope=col>Df</th><th scope=col>Deviance</th><th scope=col>Resid. Df</th><th scope=col>Resid. Dev</th><th scope=col>Pr(&gt;Chi)</th></tr></thead>\n",
       "<tbody>\n",
       "\t<tr><th scope=row>NULL</th><td>NA       </td><td>       NA</td><td>109      </td><td>107.2585 </td><td>       NA</td></tr>\n",
       "\t<tr><th scope=row>definition</th><td> 1       </td><td>0.2517106</td><td>108      </td><td>107.0068 </td><td>0.6158731</td></tr>\n",
       "\t<tr><th scope=row>need</th><td> 1       </td><td>0.3897383</td><td>107      </td><td>106.6170 </td><td>0.5324370</td></tr>\n",
       "\t<tr><th scope=row>purpose</th><td> 2       </td><td>2.6098606</td><td>105      </td><td>104.0072 </td><td>0.2711914</td></tr>\n",
       "\t<tr><th scope=row>interest</th><td> 1       </td><td>0.1334322</td><td>104      </td><td>103.8737 </td><td>0.7148997</td></tr>\n",
       "</tbody>\n",
       "</table>\n"
      ],
      "text/latex": [
       "\\begin{tabular}{r|lllll}\n",
       "  & Df & Deviance & Resid. Df & Resid. Dev & Pr(>Chi)\\\\\n",
       "\\hline\n",
       "\tNULL & NA        &        NA & 109       & 107.2585  &        NA\\\\\n",
       "\tdefinition &  1        & 0.2517106 & 108       & 107.0068  & 0.6158731\\\\\n",
       "\tneed &  1        & 0.3897383 & 107       & 106.6170  & 0.5324370\\\\\n",
       "\tpurpose &  2        & 2.6098606 & 105       & 104.0072  & 0.2711914\\\\\n",
       "\tinterest &  1        & 0.1334322 & 104       & 103.8737  & 0.7148997\\\\\n",
       "\\end{tabular}\n"
      ],
      "text/markdown": [
       "\n",
       "| <!--/--> | Df | Deviance | Resid. Df | Resid. Dev | Pr(>Chi) |\n",
       "|---|---|---|---|---|---|\n",
       "| NULL | NA        |        NA | 109       | 107.2585  |        NA |\n",
       "| definition |  1        | 0.2517106 | 108       | 107.0068  | 0.6158731 |\n",
       "| need |  1        | 0.3897383 | 107       | 106.6170  | 0.5324370 |\n",
       "| purpose |  2        | 2.6098606 | 105       | 104.0072  | 0.2711914 |\n",
       "| interest |  1        | 0.1334322 | 104       | 103.8737  | 0.7148997 |\n",
       "\n"
      ],
      "text/plain": [
       "           Df Deviance  Resid. Df Resid. Dev Pr(>Chi) \n",
       "NULL       NA        NA 109       107.2585          NA\n",
       "definition  1 0.2517106 108       107.0068   0.6158731\n",
       "need        1 0.3897383 107       106.6170   0.5324370\n",
       "purpose     2 2.6098606 105       104.0072   0.2711914\n",
       "interest    1 0.1334322 104       103.8737   0.7148997"
      ]
     },
     "metadata": {},
     "output_type": "display_data"
    }
   ],
   "source": [
    "model <- glm(comp5 ~ definition + need + purpose \n",
    "              + interest, data =survey, family = binomial)\n",
    "summary(model)\n",
    "\n",
    "\n",
    "anova(model, test=\"Chisq\")"
   ]
  },
  {
   "cell_type": "code",
   "execution_count": 14,
   "metadata": {},
   "outputs": [
    {
     "data": {
      "text/plain": [
       "\n",
       "Call:\n",
       "glm(formula = t1_1 ~ definition + need + purpose + interest, \n",
       "    family = binomial, data = survey)\n",
       "\n",
       "Deviance Residuals: \n",
       "    Min       1Q   Median       3Q      Max  \n",
       "-1.1499  -0.5733  -0.4049  -0.2095   2.4207  \n",
       "\n",
       "Coefficients:\n",
       "                  Estimate Std. Error z value Pr(>|z|)   \n",
       "(Intercept)        -5.2832     1.8057  -2.926  0.00344 **\n",
       "definitionharmony   1.4717     1.1401   1.291  0.19675   \n",
       "needharmony         0.7836     0.7680   1.020  0.30757   \n",
       "purposecosmetic     1.1187     0.8023   1.394  0.16319   \n",
       "purposeetc         -0.1700     0.7910  -0.215  0.82986   \n",
       "interest            0.3688     0.3630   1.016  0.30958   \n",
       "---\n",
       "Signif. codes:  0 '***' 0.001 '**' 0.01 '*' 0.05 '.' 0.1 ' ' 1\n",
       "\n",
       "(Dispersion parameter for binomial family taken to be 1)\n",
       "\n",
       "    Null deviance: 83.857  on 109  degrees of freedom\n",
       "Residual deviance: 74.035  on 104  degrees of freedom\n",
       "AIC: 86.035\n",
       "\n",
       "Number of Fisher Scoring iterations: 6\n"
      ]
     },
     "metadata": {},
     "output_type": "display_data"
    },
    {
     "data": {
      "text/html": [
       "<table>\n",
       "<thead><tr><th></th><th scope=col>Df</th><th scope=col>Deviance</th><th scope=col>Resid. Df</th><th scope=col>Resid. Dev</th><th scope=col>Pr(&gt;Chi)</th></tr></thead>\n",
       "<tbody>\n",
       "\t<tr><th scope=row>NULL</th><td>NA        </td><td>       NA </td><td>109       </td><td>83.85722  </td><td>        NA</td></tr>\n",
       "\t<tr><th scope=row>definition</th><td> 1        </td><td>4.3722073 </td><td>108       </td><td>79.48502  </td><td>0.03652964</td></tr>\n",
       "\t<tr><th scope=row>need</th><td> 1        </td><td>0.5759597 </td><td>107       </td><td>78.90906  </td><td>0.44790035</td></tr>\n",
       "\t<tr><th scope=row>purpose</th><td> 2        </td><td>3.8107862 </td><td>105       </td><td>75.09827  </td><td>0.14876415</td></tr>\n",
       "\t<tr><th scope=row>interest</th><td> 1        </td><td>1.0634262 </td><td>104       </td><td>74.03484  </td><td>0.30243505</td></tr>\n",
       "</tbody>\n",
       "</table>\n"
      ],
      "text/latex": [
       "\\begin{tabular}{r|lllll}\n",
       "  & Df & Deviance & Resid. Df & Resid. Dev & Pr(>Chi)\\\\\n",
       "\\hline\n",
       "\tNULL & NA         &        NA  & 109        & 83.85722   &         NA\\\\\n",
       "\tdefinition &  1         & 4.3722073  & 108        & 79.48502   & 0.03652964\\\\\n",
       "\tneed &  1         & 0.5759597  & 107        & 78.90906   & 0.44790035\\\\\n",
       "\tpurpose &  2         & 3.8107862  & 105        & 75.09827   & 0.14876415\\\\\n",
       "\tinterest &  1         & 1.0634262  & 104        & 74.03484   & 0.30243505\\\\\n",
       "\\end{tabular}\n"
      ],
      "text/markdown": [
       "\n",
       "| <!--/--> | Df | Deviance | Resid. Df | Resid. Dev | Pr(>Chi) |\n",
       "|---|---|---|---|---|---|\n",
       "| NULL | NA         |        NA  | 109        | 83.85722   |         NA |\n",
       "| definition |  1         | 4.3722073  | 108        | 79.48502   | 0.03652964 |\n",
       "| need |  1         | 0.5759597  | 107        | 78.90906   | 0.44790035 |\n",
       "| purpose |  2         | 3.8107862  | 105        | 75.09827   | 0.14876415 |\n",
       "| interest |  1         | 1.0634262  | 104        | 74.03484   | 0.30243505 |\n",
       "\n"
      ],
      "text/plain": [
       "           Df Deviance  Resid. Df Resid. Dev Pr(>Chi)  \n",
       "NULL       NA        NA 109       83.85722           NA\n",
       "definition  1 4.3722073 108       79.48502   0.03652964\n",
       "need        1 0.5759597 107       78.90906   0.44790035\n",
       "purpose     2 3.8107862 105       75.09827   0.14876415\n",
       "interest    1 1.0634262 104       74.03484   0.30243505"
      ]
     },
     "metadata": {},
     "output_type": "display_data"
    }
   ],
   "source": [
    "model <- glm(t1_1 ~ definition + need + purpose \n",
    "              + interest, data =survey, family = binomial)\n",
    "summary(model)\n",
    "\n",
    "\n",
    "anova(model, test=\"Chisq\")"
   ]
  },
  {
   "cell_type": "code",
   "execution_count": 15,
   "metadata": {},
   "outputs": [
    {
     "data": {
      "text/plain": [
       "\n",
       "Call:\n",
       "glm(formula = t1_2 ~ definition + need + purpose + interest, \n",
       "    family = binomial, data = survey)\n",
       "\n",
       "Deviance Residuals: \n",
       "    Min       1Q   Median       3Q      Max  \n",
       "-0.9761  -0.4595  -0.3789  -0.2288   2.6417  \n",
       "\n",
       "Coefficients:\n",
       "                  Estimate Std. Error z value Pr(>|z|)\n",
       "(Intercept)        -1.0603     1.5605  -0.679    0.497\n",
       "definitionharmony  -0.5488     0.8114  -0.676    0.499\n",
       "needharmony        -1.1526     0.8116  -1.420    0.156\n",
       "purposecosmetic    -0.5887     1.2778  -0.461    0.645\n",
       "purposeetc          1.2631     0.8384   1.507    0.132\n",
       "interest           -0.2322     0.3599  -0.645    0.519\n",
       "\n",
       "(Dispersion parameter for binomial family taken to be 1)\n",
       "\n",
       "    Null deviance: 75.814  on 109  degrees of freedom\n",
       "Residual deviance: 66.154  on 104  degrees of freedom\n",
       "AIC: 78.154\n",
       "\n",
       "Number of Fisher Scoring iterations: 6\n"
      ]
     },
     "metadata": {},
     "output_type": "display_data"
    },
    {
     "data": {
      "text/html": [
       "<table>\n",
       "<thead><tr><th></th><th scope=col>Df</th><th scope=col>Deviance</th><th scope=col>Resid. Df</th><th scope=col>Resid. Dev</th><th scope=col>Pr(&gt;Chi)</th></tr></thead>\n",
       "<tbody>\n",
       "\t<tr><th scope=row>NULL</th><td>NA        </td><td>       NA </td><td>109       </td><td>75.81430  </td><td>        NA</td></tr>\n",
       "\t<tr><th scope=row>definition</th><td> 1        </td><td>2.8874246 </td><td>108       </td><td>72.92687  </td><td>0.08927353</td></tr>\n",
       "\t<tr><th scope=row>need</th><td> 1        </td><td>1.4746339 </td><td>107       </td><td>71.45224  </td><td>0.22461599</td></tr>\n",
       "\t<tr><th scope=row>purpose</th><td> 2        </td><td>4.8808057 </td><td>105       </td><td>66.57143  </td><td>0.08712575</td></tr>\n",
       "\t<tr><th scope=row>interest</th><td> 1        </td><td>0.4169459 </td><td>104       </td><td>66.15448  </td><td>0.51846493</td></tr>\n",
       "</tbody>\n",
       "</table>\n"
      ],
      "text/latex": [
       "\\begin{tabular}{r|lllll}\n",
       "  & Df & Deviance & Resid. Df & Resid. Dev & Pr(>Chi)\\\\\n",
       "\\hline\n",
       "\tNULL & NA         &        NA  & 109        & 75.81430   &         NA\\\\\n",
       "\tdefinition &  1         & 2.8874246  & 108        & 72.92687   & 0.08927353\\\\\n",
       "\tneed &  1         & 1.4746339  & 107        & 71.45224   & 0.22461599\\\\\n",
       "\tpurpose &  2         & 4.8808057  & 105        & 66.57143   & 0.08712575\\\\\n",
       "\tinterest &  1         & 0.4169459  & 104        & 66.15448   & 0.51846493\\\\\n",
       "\\end{tabular}\n"
      ],
      "text/markdown": [
       "\n",
       "| <!--/--> | Df | Deviance | Resid. Df | Resid. Dev | Pr(>Chi) |\n",
       "|---|---|---|---|---|---|\n",
       "| NULL | NA         |        NA  | 109        | 75.81430   |         NA |\n",
       "| definition |  1         | 2.8874246  | 108        | 72.92687   | 0.08927353 |\n",
       "| need |  1         | 1.4746339  | 107        | 71.45224   | 0.22461599 |\n",
       "| purpose |  2         | 4.8808057  | 105        | 66.57143   | 0.08712575 |\n",
       "| interest |  1         | 0.4169459  | 104        | 66.15448   | 0.51846493 |\n",
       "\n"
      ],
      "text/plain": [
       "           Df Deviance  Resid. Df Resid. Dev Pr(>Chi)  \n",
       "NULL       NA        NA 109       75.81430           NA\n",
       "definition  1 2.8874246 108       72.92687   0.08927353\n",
       "need        1 1.4746339 107       71.45224   0.22461599\n",
       "purpose     2 4.8808057 105       66.57143   0.08712575\n",
       "interest    1 0.4169459 104       66.15448   0.51846493"
      ]
     },
     "metadata": {},
     "output_type": "display_data"
    }
   ],
   "source": [
    "model <- glm(t1_2 ~ definition + need + purpose \n",
    "              + interest, data =survey, family = binomial)\n",
    "summary(model)\n",
    "\n",
    "\n",
    "anova(model, test=\"Chisq\")"
   ]
  },
  {
   "cell_type": "code",
   "execution_count": 16,
   "metadata": {},
   "outputs": [
    {
     "data": {
      "text/plain": [
       "\n",
       "Call:\n",
       "glm(formula = t1_3 ~ definition + need + purpose + interest, \n",
       "    family = binomial, data = survey)\n",
       "\n",
       "Deviance Residuals: \n",
       "    Min       1Q   Median       3Q      Max  \n",
       "-1.0089  -0.7208  -0.6311  -0.4911   1.9654  \n",
       "\n",
       "Coefficients:\n",
       "                  Estimate Std. Error z value Pr(>|z|)\n",
       "(Intercept)        0.06515    1.11692   0.058    0.953\n",
       "definitionharmony -0.78076    0.61980  -1.260    0.208\n",
       "needharmony        0.50001    0.58582   0.854    0.393\n",
       "purposecosmetic    0.08418    0.63878   0.132    0.895\n",
       "purposeetc        -0.44028    0.55567  -0.792    0.428\n",
       "interest          -0.27971    0.27249  -1.026    0.305\n",
       "\n",
       "(Dispersion parameter for binomial family taken to be 1)\n",
       "\n",
       "    Null deviance: 112.80  on 109  degrees of freedom\n",
       "Residual deviance: 109.52  on 104  degrees of freedom\n",
       "AIC: 121.52\n",
       "\n",
       "Number of Fisher Scoring iterations: 4\n"
      ]
     },
     "metadata": {},
     "output_type": "display_data"
    },
    {
     "data": {
      "text/html": [
       "<table>\n",
       "<thead><tr><th></th><th scope=col>Df</th><th scope=col>Deviance</th><th scope=col>Resid. Df</th><th scope=col>Resid. Dev</th><th scope=col>Pr(&gt;Chi)</th></tr></thead>\n",
       "<tbody>\n",
       "\t<tr><th scope=row>NULL</th><td>NA       </td><td>       NA</td><td>109      </td><td>112.8049 </td><td>       NA</td></tr>\n",
       "\t<tr><th scope=row>definition</th><td> 1       </td><td>0.6073058</td><td>108      </td><td>112.1976 </td><td>0.4358040</td></tr>\n",
       "\t<tr><th scope=row>need</th><td> 1       </td><td>0.4937885</td><td>107      </td><td>111.7038 </td><td>0.4822422</td></tr>\n",
       "\t<tr><th scope=row>purpose</th><td> 2       </td><td>1.1176689</td><td>105      </td><td>110.5862 </td><td>0.5718752</td></tr>\n",
       "\t<tr><th scope=row>interest</th><td> 1       </td><td>1.0617177</td><td>104      </td><td>109.5245 </td><td>0.3028238</td></tr>\n",
       "</tbody>\n",
       "</table>\n"
      ],
      "text/latex": [
       "\\begin{tabular}{r|lllll}\n",
       "  & Df & Deviance & Resid. Df & Resid. Dev & Pr(>Chi)\\\\\n",
       "\\hline\n",
       "\tNULL & NA        &        NA & 109       & 112.8049  &        NA\\\\\n",
       "\tdefinition &  1        & 0.6073058 & 108       & 112.1976  & 0.4358040\\\\\n",
       "\tneed &  1        & 0.4937885 & 107       & 111.7038  & 0.4822422\\\\\n",
       "\tpurpose &  2        & 1.1176689 & 105       & 110.5862  & 0.5718752\\\\\n",
       "\tinterest &  1        & 1.0617177 & 104       & 109.5245  & 0.3028238\\\\\n",
       "\\end{tabular}\n"
      ],
      "text/markdown": [
       "\n",
       "| <!--/--> | Df | Deviance | Resid. Df | Resid. Dev | Pr(>Chi) |\n",
       "|---|---|---|---|---|---|\n",
       "| NULL | NA        |        NA | 109       | 112.8049  |        NA |\n",
       "| definition |  1        | 0.6073058 | 108       | 112.1976  | 0.4358040 |\n",
       "| need |  1        | 0.4937885 | 107       | 111.7038  | 0.4822422 |\n",
       "| purpose |  2        | 1.1176689 | 105       | 110.5862  | 0.5718752 |\n",
       "| interest |  1        | 1.0617177 | 104       | 109.5245  | 0.3028238 |\n",
       "\n"
      ],
      "text/plain": [
       "           Df Deviance  Resid. Df Resid. Dev Pr(>Chi) \n",
       "NULL       NA        NA 109       112.8049          NA\n",
       "definition  1 0.6073058 108       112.1976   0.4358040\n",
       "need        1 0.4937885 107       111.7038   0.4822422\n",
       "purpose     2 1.1176689 105       110.5862   0.5718752\n",
       "interest    1 1.0617177 104       109.5245   0.3028238"
      ]
     },
     "metadata": {},
     "output_type": "display_data"
    }
   ],
   "source": [
    "model <- glm(t1_3 ~ definition + need + purpose \n",
    "              + interest, data =survey, family = binomial)\n",
    "summary(model)\n",
    "\n",
    "\n",
    "anova(model, test=\"Chisq\")"
   ]
  },
  {
   "cell_type": "code",
   "execution_count": 17,
   "metadata": {},
   "outputs": [
    {
     "data": {
      "text/plain": [
       "\n",
       "Call:\n",
       "glm(formula = t1_4 ~ definition + need + purpose + interest, \n",
       "    family = binomial, data = survey)\n",
       "\n",
       "Deviance Residuals: \n",
       "    Min       1Q   Median       3Q      Max  \n",
       "-1.1525  -0.9488  -0.8740   1.3562   1.7126  \n",
       "\n",
       "Coefficients:\n",
       "                  Estimate Std. Error z value Pr(>|z|)\n",
       "(Intercept)       -1.35608    0.98893  -1.371    0.170\n",
       "definitionharmony  0.52917    0.54613   0.969    0.333\n",
       "needharmony       -0.09041    0.48050  -0.188    0.851\n",
       "purposecosmetic   -0.30893    0.57400  -0.538    0.590\n",
       "purposeetc        -0.10815    0.46940  -0.230    0.818\n",
       "interest           0.15360    0.22926   0.670    0.503\n",
       "\n",
       "(Dispersion parameter for binomial family taken to be 1)\n",
       "\n",
       "    Null deviance: 143.05  on 109  degrees of freedom\n",
       "Residual deviance: 141.54  on 104  degrees of freedom\n",
       "AIC: 153.54\n",
       "\n",
       "Number of Fisher Scoring iterations: 4\n"
      ]
     },
     "metadata": {},
     "output_type": "display_data"
    },
    {
     "data": {
      "text/html": [
       "<table>\n",
       "<thead><tr><th></th><th scope=col>Df</th><th scope=col>Deviance</th><th scope=col>Resid. Df</th><th scope=col>Resid. Dev</th><th scope=col>Pr(&gt;Chi)</th></tr></thead>\n",
       "<tbody>\n",
       "\t<tr><th scope=row>NULL</th><td>NA         </td><td>         NA</td><td>109        </td><td>143.0473   </td><td>       NA  </td></tr>\n",
       "\t<tr><th scope=row>definition</th><td> 1         </td><td>0.793504623</td><td>108        </td><td>142.2538   </td><td>0.3730425  </td></tr>\n",
       "\t<tr><th scope=row>need</th><td> 1         </td><td>0.004784067</td><td>107        </td><td>142.2490   </td><td>0.9448567  </td></tr>\n",
       "\t<tr><th scope=row>purpose</th><td> 2         </td><td>0.259554383</td><td>105        </td><td>141.9895   </td><td>0.8782911  </td></tr>\n",
       "\t<tr><th scope=row>interest</th><td> 1         </td><td>0.452852169</td><td>104        </td><td>141.5366   </td><td>0.5009836  </td></tr>\n",
       "</tbody>\n",
       "</table>\n"
      ],
      "text/latex": [
       "\\begin{tabular}{r|lllll}\n",
       "  & Df & Deviance & Resid. Df & Resid. Dev & Pr(>Chi)\\\\\n",
       "\\hline\n",
       "\tNULL & NA          &          NA & 109         & 143.0473    &        NA  \\\\\n",
       "\tdefinition &  1          & 0.793504623 & 108         & 142.2538    & 0.3730425  \\\\\n",
       "\tneed &  1          & 0.004784067 & 107         & 142.2490    & 0.9448567  \\\\\n",
       "\tpurpose &  2          & 0.259554383 & 105         & 141.9895    & 0.8782911  \\\\\n",
       "\tinterest &  1          & 0.452852169 & 104         & 141.5366    & 0.5009836  \\\\\n",
       "\\end{tabular}\n"
      ],
      "text/markdown": [
       "\n",
       "| <!--/--> | Df | Deviance | Resid. Df | Resid. Dev | Pr(>Chi) |\n",
       "|---|---|---|---|---|---|\n",
       "| NULL | NA          |          NA | 109         | 143.0473    |        NA   |\n",
       "| definition |  1          | 0.793504623 | 108         | 142.2538    | 0.3730425   |\n",
       "| need |  1          | 0.004784067 | 107         | 142.2490    | 0.9448567   |\n",
       "| purpose |  2          | 0.259554383 | 105         | 141.9895    | 0.8782911   |\n",
       "| interest |  1          | 0.452852169 | 104         | 141.5366    | 0.5009836   |\n",
       "\n"
      ],
      "text/plain": [
       "           Df Deviance    Resid. Df Resid. Dev Pr(>Chi) \n",
       "NULL       NA          NA 109       143.0473          NA\n",
       "definition  1 0.793504623 108       142.2538   0.3730425\n",
       "need        1 0.004784067 107       142.2490   0.9448567\n",
       "purpose     2 0.259554383 105       141.9895   0.8782911\n",
       "interest    1 0.452852169 104       141.5366   0.5009836"
      ]
     },
     "metadata": {},
     "output_type": "display_data"
    }
   ],
   "source": [
    "model <- glm(t1_4 ~ definition + need + purpose \n",
    "              + interest, data =survey, family = binomial)\n",
    "summary(model)\n",
    "\n",
    "\n",
    "anova(model, test=\"Chisq\")"
   ]
  },
  {
   "cell_type": "code",
   "execution_count": 18,
   "metadata": {},
   "outputs": [
    {
     "data": {
      "text/plain": [
       "\n",
       "Call:\n",
       "glm(formula = t1_5 ~ definition + need + purpose + interest, \n",
       "    family = binomial, data = survey)\n",
       "\n",
       "Deviance Residuals: \n",
       "    Min       1Q   Median       3Q      Max  \n",
       "-0.7885  -0.6921  -0.6387  -0.5418   1.9641  \n",
       "\n",
       "Coefficients:\n",
       "                  Estimate Std. Error z value Pr(>|z|)\n",
       "(Intercept)       -0.82149    1.13969  -0.721    0.471\n",
       "definitionharmony -0.10540    0.62215  -0.169    0.865\n",
       "needharmony       -0.22607    0.57122  -0.396    0.692\n",
       "purposecosmetic   -0.40053    0.70212  -0.570    0.568\n",
       "purposeetc        -0.04201    0.54862  -0.077    0.939\n",
       "interest          -0.07278    0.27003  -0.270    0.788\n",
       "\n",
       "(Dispersion parameter for binomial family taken to be 1)\n",
       "\n",
       "    Null deviance: 110.09  on 109  degrees of freedom\n",
       "Residual deviance: 109.35  on 104  degrees of freedom\n",
       "AIC: 121.35\n",
       "\n",
       "Number of Fisher Scoring iterations: 4\n"
      ]
     },
     "metadata": {},
     "output_type": "display_data"
    },
    {
     "data": {
      "text/html": [
       "<table>\n",
       "<thead><tr><th></th><th scope=col>Df</th><th scope=col>Deviance</th><th scope=col>Resid. Df</th><th scope=col>Resid. Dev</th><th scope=col>Pr(&gt;Chi)</th></tr></thead>\n",
       "<tbody>\n",
       "\t<tr><th scope=row>NULL</th><td>NA        </td><td>        NA</td><td>109       </td><td>110.0885  </td><td>       NA </td></tr>\n",
       "\t<tr><th scope=row>definition</th><td> 1        </td><td>0.17643246</td><td>108       </td><td>109.9121  </td><td>0.6744572 </td></tr>\n",
       "\t<tr><th scope=row>need</th><td> 1        </td><td>0.09810716</td><td>107       </td><td>109.8140  </td><td>0.7541130 </td></tr>\n",
       "\t<tr><th scope=row>purpose</th><td> 2        </td><td>0.39637853</td><td>105       </td><td>109.4176  </td><td>0.8202146 </td></tr>\n",
       "\t<tr><th scope=row>interest</th><td> 1        </td><td>0.07256888</td><td>104       </td><td>109.3450  </td><td>0.7876326 </td></tr>\n",
       "</tbody>\n",
       "</table>\n"
      ],
      "text/latex": [
       "\\begin{tabular}{r|lllll}\n",
       "  & Df & Deviance & Resid. Df & Resid. Dev & Pr(>Chi)\\\\\n",
       "\\hline\n",
       "\tNULL & NA         &         NA & 109        & 110.0885   &        NA \\\\\n",
       "\tdefinition &  1         & 0.17643246 & 108        & 109.9121   & 0.6744572 \\\\\n",
       "\tneed &  1         & 0.09810716 & 107        & 109.8140   & 0.7541130 \\\\\n",
       "\tpurpose &  2         & 0.39637853 & 105        & 109.4176   & 0.8202146 \\\\\n",
       "\tinterest &  1         & 0.07256888 & 104        & 109.3450   & 0.7876326 \\\\\n",
       "\\end{tabular}\n"
      ],
      "text/markdown": [
       "\n",
       "| <!--/--> | Df | Deviance | Resid. Df | Resid. Dev | Pr(>Chi) |\n",
       "|---|---|---|---|---|---|\n",
       "| NULL | NA         |         NA | 109        | 110.0885   |        NA  |\n",
       "| definition |  1         | 0.17643246 | 108        | 109.9121   | 0.6744572  |\n",
       "| need |  1         | 0.09810716 | 107        | 109.8140   | 0.7541130  |\n",
       "| purpose |  2         | 0.39637853 | 105        | 109.4176   | 0.8202146  |\n",
       "| interest |  1         | 0.07256888 | 104        | 109.3450   | 0.7876326  |\n",
       "\n"
      ],
      "text/plain": [
       "           Df Deviance   Resid. Df Resid. Dev Pr(>Chi) \n",
       "NULL       NA         NA 109       110.0885          NA\n",
       "definition  1 0.17643246 108       109.9121   0.6744572\n",
       "need        1 0.09810716 107       109.8140   0.7541130\n",
       "purpose     2 0.39637853 105       109.4176   0.8202146\n",
       "interest    1 0.07256888 104       109.3450   0.7876326"
      ]
     },
     "metadata": {},
     "output_type": "display_data"
    }
   ],
   "source": [
    "model <- glm(t1_5 ~ definition + need + purpose \n",
    "              + interest, data =survey, family = binomial)\n",
    "summary(model)\n",
    "\n",
    "\n",
    "anova(model, test=\"Chisq\")"
   ]
  },
  {
   "cell_type": "code",
   "execution_count": 19,
   "metadata": {},
   "outputs": [
    {
     "data": {
      "text/plain": [
       "\n",
       "Call:\n",
       "glm(formula = t2_1 ~ definition + need + purpose + interest, \n",
       "    family = binomial, data = survey)\n",
       "\n",
       "Deviance Residuals: \n",
       "    Min       1Q   Median       3Q      Max  \n",
       "-0.9340  -0.7295  -0.6455  -0.5692   1.9634  \n",
       "\n",
       "Coefficients:\n",
       "                  Estimate Std. Error z value Pr(>|z|)\n",
       "(Intercept)       -0.36506    1.10976  -0.329    0.742\n",
       "definitionharmony -0.03184    0.61246  -0.052    0.959\n",
       "needharmony       -0.26240    0.55439  -0.473    0.636\n",
       "purposecosmetic    0.31078    0.66354   0.468    0.640\n",
       "purposeetc         0.29537    0.56459   0.523    0.601\n",
       "interest          -0.27468    0.26487  -1.037    0.300\n",
       "\n",
       "(Dispersion parameter for binomial family taken to be 1)\n",
       "\n",
       "    Null deviance: 115.41  on 109  degrees of freedom\n",
       "Residual deviance: 113.74  on 104  degrees of freedom\n",
       "AIC: 125.74\n",
       "\n",
       "Number of Fisher Scoring iterations: 4\n"
      ]
     },
     "metadata": {},
     "output_type": "display_data"
    },
    {
     "data": {
      "text/html": [
       "<table>\n",
       "<thead><tr><th></th><th scope=col>Df</th><th scope=col>Deviance</th><th scope=col>Resid. Df</th><th scope=col>Resid. Dev</th><th scope=col>Pr(&gt;Chi)</th></tr></thead>\n",
       "<tbody>\n",
       "\t<tr><th scope=row>NULL</th><td>NA        </td><td>        NA</td><td>109       </td><td>115.4114  </td><td>       NA </td></tr>\n",
       "\t<tr><th scope=row>definition</th><td> 1        </td><td>0.01463768</td><td>108       </td><td>115.3967  </td><td>0.9037019 </td></tr>\n",
       "\t<tr><th scope=row>need</th><td> 1        </td><td>0.32423499</td><td>107       </td><td>115.0725  </td><td>0.5690736 </td></tr>\n",
       "\t<tr><th scope=row>purpose</th><td> 2        </td><td>0.24705658</td><td>105       </td><td>114.8254  </td><td>0.8837966 </td></tr>\n",
       "\t<tr><th scope=row>interest</th><td> 1        </td><td>1.08430860</td><td>104       </td><td>113.7411  </td><td>0.2977357 </td></tr>\n",
       "</tbody>\n",
       "</table>\n"
      ],
      "text/latex": [
       "\\begin{tabular}{r|lllll}\n",
       "  & Df & Deviance & Resid. Df & Resid. Dev & Pr(>Chi)\\\\\n",
       "\\hline\n",
       "\tNULL & NA         &         NA & 109        & 115.4114   &        NA \\\\\n",
       "\tdefinition &  1         & 0.01463768 & 108        & 115.3967   & 0.9037019 \\\\\n",
       "\tneed &  1         & 0.32423499 & 107        & 115.0725   & 0.5690736 \\\\\n",
       "\tpurpose &  2         & 0.24705658 & 105        & 114.8254   & 0.8837966 \\\\\n",
       "\tinterest &  1         & 1.08430860 & 104        & 113.7411   & 0.2977357 \\\\\n",
       "\\end{tabular}\n"
      ],
      "text/markdown": [
       "\n",
       "| <!--/--> | Df | Deviance | Resid. Df | Resid. Dev | Pr(>Chi) |\n",
       "|---|---|---|---|---|---|\n",
       "| NULL | NA         |         NA | 109        | 115.4114   |        NA  |\n",
       "| definition |  1         | 0.01463768 | 108        | 115.3967   | 0.9037019  |\n",
       "| need |  1         | 0.32423499 | 107        | 115.0725   | 0.5690736  |\n",
       "| purpose |  2         | 0.24705658 | 105        | 114.8254   | 0.8837966  |\n",
       "| interest |  1         | 1.08430860 | 104        | 113.7411   | 0.2977357  |\n",
       "\n"
      ],
      "text/plain": [
       "           Df Deviance   Resid. Df Resid. Dev Pr(>Chi) \n",
       "NULL       NA         NA 109       115.4114          NA\n",
       "definition  1 0.01463768 108       115.3967   0.9037019\n",
       "need        1 0.32423499 107       115.0725   0.5690736\n",
       "purpose     2 0.24705658 105       114.8254   0.8837966\n",
       "interest    1 1.08430860 104       113.7411   0.2977357"
      ]
     },
     "metadata": {},
     "output_type": "display_data"
    }
   ],
   "source": [
    "model <- glm(t2_1 ~ definition + need + purpose \n",
    "              + interest, data =survey, family = binomial)\n",
    "summary(model)\n",
    "\n",
    "\n",
    "anova(model, test=\"Chisq\")"
   ]
  },
  {
   "cell_type": "code",
   "execution_count": 20,
   "metadata": {},
   "outputs": [
    {
     "data": {
      "text/plain": [
       "\n",
       "Call:\n",
       "glm(formula = t2_2 ~ definition + need + purpose + interest, \n",
       "    family = binomial, data = survey)\n",
       "\n",
       "Deviance Residuals: \n",
       "    Min       1Q   Median       3Q      Max  \n",
       "-0.8380  -0.6276  -0.5538  -0.3754   2.3674  \n",
       "\n",
       "Coefficients:\n",
       "                  Estimate Std. Error z value Pr(>|z|)\n",
       "(Intercept)       -1.77526    1.28731  -1.379    0.168\n",
       "definitionharmony  0.51751    0.76845   0.673    0.501\n",
       "needharmony        0.51401    0.64533   0.797    0.426\n",
       "purposecosmetic   -0.35632    0.71080  -0.501    0.616\n",
       "purposeetc        -0.65859    0.60041  -1.097    0.273\n",
       "interest          -0.06115    0.29629  -0.206    0.836\n",
       "\n",
       "(Dispersion parameter for binomial family taken to be 1)\n",
       "\n",
       "    Null deviance: 98.043  on 109  degrees of freedom\n",
       "Residual deviance: 94.656  on 104  degrees of freedom\n",
       "AIC: 106.66\n",
       "\n",
       "Number of Fisher Scoring iterations: 5\n"
      ]
     },
     "metadata": {},
     "output_type": "display_data"
    },
    {
     "data": {
      "text/html": [
       "<table>\n",
       "<thead><tr><th></th><th scope=col>Df</th><th scope=col>Deviance</th><th scope=col>Resid. Df</th><th scope=col>Resid. Dev</th><th scope=col>Pr(&gt;Chi)</th></tr></thead>\n",
       "<tbody>\n",
       "\t<tr><th scope=row>NULL</th><td>NA        </td><td>        NA</td><td>109       </td><td>98.04320  </td><td>       NA </td></tr>\n",
       "\t<tr><th scope=row>definition</th><td> 1        </td><td>1.53689865</td><td>108       </td><td>96.50630  </td><td>0.2150800 </td></tr>\n",
       "\t<tr><th scope=row>need</th><td> 1        </td><td>0.56164790</td><td>107       </td><td>95.94465  </td><td>0.4535970 </td></tr>\n",
       "\t<tr><th scope=row>purpose</th><td> 2        </td><td>1.24637317</td><td>105       </td><td>94.69828  </td><td>0.5362330 </td></tr>\n",
       "\t<tr><th scope=row>interest</th><td> 1        </td><td>0.04256292</td><td>104       </td><td>94.65572  </td><td>0.8365505 </td></tr>\n",
       "</tbody>\n",
       "</table>\n"
      ],
      "text/latex": [
       "\\begin{tabular}{r|lllll}\n",
       "  & Df & Deviance & Resid. Df & Resid. Dev & Pr(>Chi)\\\\\n",
       "\\hline\n",
       "\tNULL & NA         &         NA & 109        & 98.04320   &        NA \\\\\n",
       "\tdefinition &  1         & 1.53689865 & 108        & 96.50630   & 0.2150800 \\\\\n",
       "\tneed &  1         & 0.56164790 & 107        & 95.94465   & 0.4535970 \\\\\n",
       "\tpurpose &  2         & 1.24637317 & 105        & 94.69828   & 0.5362330 \\\\\n",
       "\tinterest &  1         & 0.04256292 & 104        & 94.65572   & 0.8365505 \\\\\n",
       "\\end{tabular}\n"
      ],
      "text/markdown": [
       "\n",
       "| <!--/--> | Df | Deviance | Resid. Df | Resid. Dev | Pr(>Chi) |\n",
       "|---|---|---|---|---|---|\n",
       "| NULL | NA         |         NA | 109        | 98.04320   |        NA  |\n",
       "| definition |  1         | 1.53689865 | 108        | 96.50630   | 0.2150800  |\n",
       "| need |  1         | 0.56164790 | 107        | 95.94465   | 0.4535970  |\n",
       "| purpose |  2         | 1.24637317 | 105        | 94.69828   | 0.5362330  |\n",
       "| interest |  1         | 0.04256292 | 104        | 94.65572   | 0.8365505  |\n",
       "\n"
      ],
      "text/plain": [
       "           Df Deviance   Resid. Df Resid. Dev Pr(>Chi) \n",
       "NULL       NA         NA 109       98.04320          NA\n",
       "definition  1 1.53689865 108       96.50630   0.2150800\n",
       "need        1 0.56164790 107       95.94465   0.4535970\n",
       "purpose     2 1.24637317 105       94.69828   0.5362330\n",
       "interest    1 0.04256292 104       94.65572   0.8365505"
      ]
     },
     "metadata": {},
     "output_type": "display_data"
    }
   ],
   "source": [
    "model <- glm(t2_2 ~ definition + need + purpose \n",
    "              + interest, data =survey, family = binomial)\n",
    "summary(model)\n",
    "\n",
    "\n",
    "anova(model, test=\"Chisq\")"
   ]
  },
  {
   "cell_type": "code",
   "execution_count": 21,
   "metadata": {},
   "outputs": [
    {
     "data": {
      "text/plain": [
       "\n",
       "Call:\n",
       "glm(formula = t2_3 ~ definition + need + purpose + interest, \n",
       "    family = binomial, data = survey)\n",
       "\n",
       "Deviance Residuals: \n",
       "    Min       1Q   Median       3Q      Max  \n",
       "-0.9113  -0.7207  -0.6981  -0.5557   1.9560  \n",
       "\n",
       "Coefficients:\n",
       "                  Estimate Std. Error z value Pr(>|z|)\n",
       "(Intercept)       -1.02357    1.10747  -0.924    0.355\n",
       "definitionharmony -0.59219    0.61455  -0.964    0.335\n",
       "needharmony        0.46543    0.57973   0.803    0.422\n",
       "purposecosmetic   -0.01555    0.66951  -0.023    0.981\n",
       "purposeetc         0.05652    0.54464   0.104    0.917\n",
       "interest          -0.04060    0.26217  -0.155    0.877\n",
       "\n",
       "(Dispersion parameter for binomial family taken to be 1)\n",
       "\n",
       "    Null deviance: 115.41  on 109  degrees of freedom\n",
       "Residual deviance: 114.29  on 104  degrees of freedom\n",
       "AIC: 126.29\n",
       "\n",
       "Number of Fisher Scoring iterations: 4\n"
      ]
     },
     "metadata": {},
     "output_type": "display_data"
    },
    {
     "data": {
      "text/html": [
       "<table>\n",
       "<thead><tr><th></th><th scope=col>Df</th><th scope=col>Deviance</th><th scope=col>Resid. Df</th><th scope=col>Resid. Dev</th><th scope=col>Pr(&gt;Chi)</th></tr></thead>\n",
       "<tbody>\n",
       "\t<tr><th scope=row>NULL</th><td>NA        </td><td>        NA</td><td>109       </td><td>115.4114  </td><td>       NA </td></tr>\n",
       "\t<tr><th scope=row>definition</th><td> 1        </td><td>0.39300753</td><td>108       </td><td>115.0184  </td><td>0.5307227 </td></tr>\n",
       "\t<tr><th scope=row>need</th><td> 1        </td><td>0.69200890</td><td>107       </td><td>114.3263  </td><td>0.4054819 </td></tr>\n",
       "\t<tr><th scope=row>purpose</th><td> 2        </td><td>0.01630846</td><td>105       </td><td>114.3100  </td><td>0.9918789 </td></tr>\n",
       "\t<tr><th scope=row>interest</th><td> 1        </td><td>0.02395572</td><td>104       </td><td>114.2861  </td><td>0.8769976 </td></tr>\n",
       "</tbody>\n",
       "</table>\n"
      ],
      "text/latex": [
       "\\begin{tabular}{r|lllll}\n",
       "  & Df & Deviance & Resid. Df & Resid. Dev & Pr(>Chi)\\\\\n",
       "\\hline\n",
       "\tNULL & NA         &         NA & 109        & 115.4114   &        NA \\\\\n",
       "\tdefinition &  1         & 0.39300753 & 108        & 115.0184   & 0.5307227 \\\\\n",
       "\tneed &  1         & 0.69200890 & 107        & 114.3263   & 0.4054819 \\\\\n",
       "\tpurpose &  2         & 0.01630846 & 105        & 114.3100   & 0.9918789 \\\\\n",
       "\tinterest &  1         & 0.02395572 & 104        & 114.2861   & 0.8769976 \\\\\n",
       "\\end{tabular}\n"
      ],
      "text/markdown": [
       "\n",
       "| <!--/--> | Df | Deviance | Resid. Df | Resid. Dev | Pr(>Chi) |\n",
       "|---|---|---|---|---|---|\n",
       "| NULL | NA         |         NA | 109        | 115.4114   |        NA  |\n",
       "| definition |  1         | 0.39300753 | 108        | 115.0184   | 0.5307227  |\n",
       "| need |  1         | 0.69200890 | 107        | 114.3263   | 0.4054819  |\n",
       "| purpose |  2         | 0.01630846 | 105        | 114.3100   | 0.9918789  |\n",
       "| interest |  1         | 0.02395572 | 104        | 114.2861   | 0.8769976  |\n",
       "\n"
      ],
      "text/plain": [
       "           Df Deviance   Resid. Df Resid. Dev Pr(>Chi) \n",
       "NULL       NA         NA 109       115.4114          NA\n",
       "definition  1 0.39300753 108       115.0184   0.5307227\n",
       "need        1 0.69200890 107       114.3263   0.4054819\n",
       "purpose     2 0.01630846 105       114.3100   0.9918789\n",
       "interest    1 0.02395572 104       114.2861   0.8769976"
      ]
     },
     "metadata": {},
     "output_type": "display_data"
    }
   ],
   "source": [
    "model <- glm(t2_3 ~ definition + need + purpose \n",
    "              + interest, data =survey, family = binomial)\n",
    "summary(model)\n",
    "\n",
    "\n",
    "anova(model, test=\"Chisq\")"
   ]
  },
  {
   "cell_type": "code",
   "execution_count": 22,
   "metadata": {},
   "outputs": [
    {
     "data": {
      "text/plain": [
       "\n",
       "Call:\n",
       "glm(formula = t2_4 ~ definition + need + purpose + interest, \n",
       "    family = binomial, data = survey)\n",
       "\n",
       "Deviance Residuals: \n",
       "    Min       1Q   Median       3Q      Max  \n",
       "-0.8412  -0.7466  -0.6769  -0.6228   1.8631  \n",
       "\n",
       "Coefficients:\n",
       "                  Estimate Std. Error z value Pr(>|z|)\n",
       "(Intercept)       -1.00546    1.10401  -0.911    0.362\n",
       "definitionharmony -0.03527    0.58687  -0.060    0.952\n",
       "needharmony       -0.34331    0.53752  -0.639    0.523\n",
       "purposecosmetic   -0.09271    0.63032  -0.147    0.883\n",
       "purposeetc        -0.23118    0.53434  -0.433    0.665\n",
       "interest           0.03679    0.26186   0.140    0.888\n",
       "\n",
       "(Dispersion parameter for binomial family taken to be 1)\n",
       "\n",
       "    Null deviance: 117.91  on 109  degrees of freedom\n",
       "Residual deviance: 117.03  on 104  degrees of freedom\n",
       "AIC: 129.03\n",
       "\n",
       "Number of Fisher Scoring iterations: 4\n"
      ]
     },
     "metadata": {},
     "output_type": "display_data"
    },
    {
     "data": {
      "text/html": [
       "<table>\n",
       "<thead><tr><th></th><th scope=col>Df</th><th scope=col>Deviance</th><th scope=col>Resid. Df</th><th scope=col>Resid. Dev</th><th scope=col>Pr(&gt;Chi)</th></tr></thead>\n",
       "<tbody>\n",
       "\t<tr><th scope=row>NULL</th><td>NA        </td><td>        NA</td><td>109       </td><td>117.9112  </td><td>       NA </td></tr>\n",
       "\t<tr><th scope=row>definition</th><td> 1        </td><td>0.22892430</td><td>108       </td><td>117.6823  </td><td>0.6323226 </td></tr>\n",
       "\t<tr><th scope=row>need</th><td> 1        </td><td>0.44340207</td><td>107       </td><td>117.2388  </td><td>0.5054850 </td></tr>\n",
       "\t<tr><th scope=row>purpose</th><td> 2        </td><td>0.18445319</td><td>105       </td><td>117.0544  </td><td>0.9118985 </td></tr>\n",
       "\t<tr><th scope=row>interest</th><td> 1        </td><td>0.01976162</td><td>104       </td><td>117.0346  </td><td>0.8882049 </td></tr>\n",
       "</tbody>\n",
       "</table>\n"
      ],
      "text/latex": [
       "\\begin{tabular}{r|lllll}\n",
       "  & Df & Deviance & Resid. Df & Resid. Dev & Pr(>Chi)\\\\\n",
       "\\hline\n",
       "\tNULL & NA         &         NA & 109        & 117.9112   &        NA \\\\\n",
       "\tdefinition &  1         & 0.22892430 & 108        & 117.6823   & 0.6323226 \\\\\n",
       "\tneed &  1         & 0.44340207 & 107        & 117.2388   & 0.5054850 \\\\\n",
       "\tpurpose &  2         & 0.18445319 & 105        & 117.0544   & 0.9118985 \\\\\n",
       "\tinterest &  1         & 0.01976162 & 104        & 117.0346   & 0.8882049 \\\\\n",
       "\\end{tabular}\n"
      ],
      "text/markdown": [
       "\n",
       "| <!--/--> | Df | Deviance | Resid. Df | Resid. Dev | Pr(>Chi) |\n",
       "|---|---|---|---|---|---|\n",
       "| NULL | NA         |         NA | 109        | 117.9112   |        NA  |\n",
       "| definition |  1         | 0.22892430 | 108        | 117.6823   | 0.6323226  |\n",
       "| need |  1         | 0.44340207 | 107        | 117.2388   | 0.5054850  |\n",
       "| purpose |  2         | 0.18445319 | 105        | 117.0544   | 0.9118985  |\n",
       "| interest |  1         | 0.01976162 | 104        | 117.0346   | 0.8882049  |\n",
       "\n"
      ],
      "text/plain": [
       "           Df Deviance   Resid. Df Resid. Dev Pr(>Chi) \n",
       "NULL       NA         NA 109       117.9112          NA\n",
       "definition  1 0.22892430 108       117.6823   0.6323226\n",
       "need        1 0.44340207 107       117.2388   0.5054850\n",
       "purpose     2 0.18445319 105       117.0544   0.9118985\n",
       "interest    1 0.01976162 104       117.0346   0.8882049"
      ]
     },
     "metadata": {},
     "output_type": "display_data"
    }
   ],
   "source": [
    "model <- glm(t2_4 ~ definition + need + purpose \n",
    "              + interest, data =survey, family = binomial)\n",
    "summary(model)\n",
    "\n",
    "\n",
    "anova(model, test=\"Chisq\")"
   ]
  },
  {
   "cell_type": "code",
   "execution_count": 23,
   "metadata": {},
   "outputs": [
    {
     "data": {
      "text/plain": [
       "\n",
       "Call:\n",
       "glm(formula = t2_5 ~ definition + need + purpose + interest, \n",
       "    family = binomial, data = survey)\n",
       "\n",
       "Deviance Residuals: \n",
       "    Min       1Q   Median       3Q      Max  \n",
       "-0.8616  -0.6796  -0.5654  -0.4684   2.2672  \n",
       "\n",
       "Coefficients:\n",
       "                  Estimate Std. Error z value Pr(>|z|)   \n",
       "(Intercept)        -3.5061     1.3500  -2.597   0.0094 **\n",
       "definitionharmony   0.4178     0.6972   0.599   0.5490   \n",
       "needharmony        -0.2715     0.6156  -0.441   0.6591   \n",
       "purposecosmetic     0.2121     0.7760   0.273   0.7846   \n",
       "purposeetc          0.5511     0.6414   0.859   0.3902   \n",
       "interest            0.4018     0.2991   1.343   0.1792   \n",
       "---\n",
       "Signif. codes:  0 '***' 0.001 '**' 0.01 '*' 0.05 '.' 0.1 ' ' 1\n",
       "\n",
       "(Dispersion parameter for binomial family taken to be 1)\n",
       "\n",
       "    Null deviance: 101.241  on 109  degrees of freedom\n",
       "Residual deviance:  98.211  on 104  degrees of freedom\n",
       "AIC: 110.21\n",
       "\n",
       "Number of Fisher Scoring iterations: 4\n"
      ]
     },
     "metadata": {},
     "output_type": "display_data"
    },
    {
     "data": {
      "text/html": [
       "<table>\n",
       "<thead><tr><th></th><th scope=col>Df</th><th scope=col>Deviance</th><th scope=col>Resid. Df</th><th scope=col>Resid. Dev</th><th scope=col>Pr(&gt;Chi)</th></tr></thead>\n",
       "<tbody>\n",
       "\t<tr><th scope=row>NULL</th><td>NA        </td><td>        NA</td><td>109       </td><td>101.24057 </td><td>       NA </td></tr>\n",
       "\t<tr><th scope=row>definition</th><td> 1        </td><td>0.03995113</td><td>108       </td><td>101.20062 </td><td>0.8415762 </td></tr>\n",
       "\t<tr><th scope=row>need</th><td> 1        </td><td>0.06285786</td><td>107       </td><td>101.13776 </td><td>0.8020347 </td></tr>\n",
       "\t<tr><th scope=row>purpose</th><td> 2        </td><td>1.05192825</td><td>105       </td><td>100.08583 </td><td>0.5909853 </td></tr>\n",
       "\t<tr><th scope=row>interest</th><td> 1        </td><td>1.87487242</td><td>104       </td><td> 98.21096 </td><td>0.1709181 </td></tr>\n",
       "</tbody>\n",
       "</table>\n"
      ],
      "text/latex": [
       "\\begin{tabular}{r|lllll}\n",
       "  & Df & Deviance & Resid. Df & Resid. Dev & Pr(>Chi)\\\\\n",
       "\\hline\n",
       "\tNULL & NA         &         NA & 109        & 101.24057  &        NA \\\\\n",
       "\tdefinition &  1         & 0.03995113 & 108        & 101.20062  & 0.8415762 \\\\\n",
       "\tneed &  1         & 0.06285786 & 107        & 101.13776  & 0.8020347 \\\\\n",
       "\tpurpose &  2         & 1.05192825 & 105        & 100.08583  & 0.5909853 \\\\\n",
       "\tinterest &  1         & 1.87487242 & 104        &  98.21096  & 0.1709181 \\\\\n",
       "\\end{tabular}\n"
      ],
      "text/markdown": [
       "\n",
       "| <!--/--> | Df | Deviance | Resid. Df | Resid. Dev | Pr(>Chi) |\n",
       "|---|---|---|---|---|---|\n",
       "| NULL | NA         |         NA | 109        | 101.24057  |        NA  |\n",
       "| definition |  1         | 0.03995113 | 108        | 101.20062  | 0.8415762  |\n",
       "| need |  1         | 0.06285786 | 107        | 101.13776  | 0.8020347  |\n",
       "| purpose |  2         | 1.05192825 | 105        | 100.08583  | 0.5909853  |\n",
       "| interest |  1         | 1.87487242 | 104        |  98.21096  | 0.1709181  |\n",
       "\n"
      ],
      "text/plain": [
       "           Df Deviance   Resid. Df Resid. Dev Pr(>Chi) \n",
       "NULL       NA         NA 109       101.24057         NA\n",
       "definition  1 0.03995113 108       101.20062  0.8415762\n",
       "need        1 0.06285786 107       101.13776  0.8020347\n",
       "purpose     2 1.05192825 105       100.08583  0.5909853\n",
       "interest    1 1.87487242 104        98.21096  0.1709181"
      ]
     },
     "metadata": {},
     "output_type": "display_data"
    }
   ],
   "source": [
    "model <- glm(t2_5 ~ definition + need + purpose \n",
    "              + interest, data =survey, family = binomial)\n",
    "summary(model)\n",
    "\n",
    "\n",
    "anova(model, test=\"Chisq\")"
   ]
  },
  {
   "cell_type": "code",
   "execution_count": 24,
   "metadata": {},
   "outputs": [
    {
     "data": {
      "text/plain": [
       "\n",
       "Call:\n",
       "glm(formula = d1_1 ~ definition + need + purpose + interest, \n",
       "    family = binomial, data = survey)\n",
       "\n",
       "Deviance Residuals: \n",
       "    Min       1Q   Median       3Q      Max  \n",
       "-0.9068  -0.6963  -0.6280  -0.5565   2.0235  \n",
       "\n",
       "Coefficients:\n",
       "                  Estimate Std. Error z value Pr(>|z|)\n",
       "(Intercept)        -0.9016     1.1522  -0.782    0.434\n",
       "definitionharmony  -0.2437     0.6251  -0.390    0.697\n",
       "needharmony        -0.1082     0.5751  -0.188    0.851\n",
       "purposecosmetic     0.5532     0.6860   0.806    0.420\n",
       "purposeetc          0.3858     0.5967   0.647    0.518\n",
       "interest           -0.1639     0.2729  -0.601    0.548\n",
       "\n",
       "(Dispersion parameter for binomial family taken to be 1)\n",
       "\n",
       "    Null deviance: 110.09  on 109  degrees of freedom\n",
       "Residual deviance: 108.79  on 104  degrees of freedom\n",
       "AIC: 120.79\n",
       "\n",
       "Number of Fisher Scoring iterations: 4\n"
      ]
     },
     "metadata": {},
     "output_type": "display_data"
    },
    {
     "data": {
      "text/html": [
       "<table>\n",
       "<thead><tr><th></th><th scope=col>Df</th><th scope=col>Deviance</th><th scope=col>Resid. Df</th><th scope=col>Resid. Dev</th><th scope=col>Pr(&gt;Chi)</th></tr></thead>\n",
       "<tbody>\n",
       "\t<tr><th scope=row>NULL</th><td>NA        </td><td>        NA</td><td>109       </td><td>110.0885  </td><td>       NA </td></tr>\n",
       "\t<tr><th scope=row>definition</th><td> 1        </td><td>0.17643246</td><td>108       </td><td>109.9121  </td><td>0.6744572 </td></tr>\n",
       "\t<tr><th scope=row>need</th><td> 1        </td><td>0.09810716</td><td>107       </td><td>109.8140  </td><td>0.7541130 </td></tr>\n",
       "\t<tr><th scope=row>purpose</th><td> 2        </td><td>0.66210144</td><td>105       </td><td>109.1519  </td><td>0.7181687 </td></tr>\n",
       "\t<tr><th scope=row>interest</th><td> 1        </td><td>0.36076931</td><td>104       </td><td>108.7911  </td><td>0.5480793 </td></tr>\n",
       "</tbody>\n",
       "</table>\n"
      ],
      "text/latex": [
       "\\begin{tabular}{r|lllll}\n",
       "  & Df & Deviance & Resid. Df & Resid. Dev & Pr(>Chi)\\\\\n",
       "\\hline\n",
       "\tNULL & NA         &         NA & 109        & 110.0885   &        NA \\\\\n",
       "\tdefinition &  1         & 0.17643246 & 108        & 109.9121   & 0.6744572 \\\\\n",
       "\tneed &  1         & 0.09810716 & 107        & 109.8140   & 0.7541130 \\\\\n",
       "\tpurpose &  2         & 0.66210144 & 105        & 109.1519   & 0.7181687 \\\\\n",
       "\tinterest &  1         & 0.36076931 & 104        & 108.7911   & 0.5480793 \\\\\n",
       "\\end{tabular}\n"
      ],
      "text/markdown": [
       "\n",
       "| <!--/--> | Df | Deviance | Resid. Df | Resid. Dev | Pr(>Chi) |\n",
       "|---|---|---|---|---|---|\n",
       "| NULL | NA         |         NA | 109        | 110.0885   |        NA  |\n",
       "| definition |  1         | 0.17643246 | 108        | 109.9121   | 0.6744572  |\n",
       "| need |  1         | 0.09810716 | 107        | 109.8140   | 0.7541130  |\n",
       "| purpose |  2         | 0.66210144 | 105        | 109.1519   | 0.7181687  |\n",
       "| interest |  1         | 0.36076931 | 104        | 108.7911   | 0.5480793  |\n",
       "\n"
      ],
      "text/plain": [
       "           Df Deviance   Resid. Df Resid. Dev Pr(>Chi) \n",
       "NULL       NA         NA 109       110.0885          NA\n",
       "definition  1 0.17643246 108       109.9121   0.6744572\n",
       "need        1 0.09810716 107       109.8140   0.7541130\n",
       "purpose     2 0.66210144 105       109.1519   0.7181687\n",
       "interest    1 0.36076931 104       108.7911   0.5480793"
      ]
     },
     "metadata": {},
     "output_type": "display_data"
    }
   ],
   "source": [
    "model <- glm(d1_1 ~ definition + need + purpose \n",
    "              + interest, data =survey, family = binomial)\n",
    "summary(model)\n",
    "\n",
    "\n",
    "anova(model, test=\"Chisq\")"
   ]
  },
  {
   "cell_type": "code",
   "execution_count": 25,
   "metadata": {},
   "outputs": [
    {
     "data": {
      "text/plain": [
       "\n",
       "Call:\n",
       "glm(formula = d1_2 ~ definition + need + purpose + interest, \n",
       "    family = binomial, data = survey)\n",
       "\n",
       "Deviance Residuals: \n",
       "    Min       1Q   Median       3Q      Max  \n",
       "-1.4480  -0.9761  -0.7593   1.1842   1.8296  \n",
       "\n",
       "Coefficients:\n",
       "                  Estimate Std. Error z value Pr(>|z|)  \n",
       "(Intercept)         1.8225     0.9966   1.829   0.0674 .\n",
       "definitionharmony  -0.5972     0.5262  -1.135   0.2564  \n",
       "needharmony        -0.2390     0.4806  -0.497   0.6190  \n",
       "purposecosmetic    -0.7390     0.5748  -1.286   0.1986  \n",
       "purposeetc         -0.6043     0.4672  -1.293   0.1959  \n",
       "interest           -0.3696     0.2338  -1.581   0.1139  \n",
       "---\n",
       "Signif. codes:  0 '***' 0.001 '**' 0.01 '*' 0.05 '.' 0.1 ' ' 1\n",
       "\n",
       "(Dispersion parameter for binomial family taken to be 1)\n",
       "\n",
       "    Null deviance: 146.29  on 109  degrees of freedom\n",
       "Residual deviance: 139.00  on 104  degrees of freedom\n",
       "AIC: 151\n",
       "\n",
       "Number of Fisher Scoring iterations: 4\n"
      ]
     },
     "metadata": {},
     "output_type": "display_data"
    },
    {
     "data": {
      "text/html": [
       "<table>\n",
       "<thead><tr><th></th><th scope=col>Df</th><th scope=col>Deviance</th><th scope=col>Resid. Df</th><th scope=col>Resid. Dev</th><th scope=col>Pr(&gt;Chi)</th></tr></thead>\n",
       "<tbody>\n",
       "\t<tr><th scope=row>NULL</th><td>NA       </td><td>       NA</td><td>109      </td><td>146.2884 </td><td>       NA</td></tr>\n",
       "\t<tr><th scope=row>definition</th><td> 1       </td><td>1.8772999</td><td>108      </td><td>144.4111 </td><td>0.1706413</td></tr>\n",
       "\t<tr><th scope=row>need</th><td> 1       </td><td>0.2477139</td><td>107      </td><td>144.1634 </td><td>0.6186894</td></tr>\n",
       "\t<tr><th scope=row>purpose</th><td> 2       </td><td>2.5918179</td><td>105      </td><td>141.5716 </td><td>0.2736490</td></tr>\n",
       "\t<tr><th scope=row>interest</th><td> 1       </td><td>2.5762980</td><td>104      </td><td>138.9953 </td><td>0.1084751</td></tr>\n",
       "</tbody>\n",
       "</table>\n"
      ],
      "text/latex": [
       "\\begin{tabular}{r|lllll}\n",
       "  & Df & Deviance & Resid. Df & Resid. Dev & Pr(>Chi)\\\\\n",
       "\\hline\n",
       "\tNULL & NA        &        NA & 109       & 146.2884  &        NA\\\\\n",
       "\tdefinition &  1        & 1.8772999 & 108       & 144.4111  & 0.1706413\\\\\n",
       "\tneed &  1        & 0.2477139 & 107       & 144.1634  & 0.6186894\\\\\n",
       "\tpurpose &  2        & 2.5918179 & 105       & 141.5716  & 0.2736490\\\\\n",
       "\tinterest &  1        & 2.5762980 & 104       & 138.9953  & 0.1084751\\\\\n",
       "\\end{tabular}\n"
      ],
      "text/markdown": [
       "\n",
       "| <!--/--> | Df | Deviance | Resid. Df | Resid. Dev | Pr(>Chi) |\n",
       "|---|---|---|---|---|---|\n",
       "| NULL | NA        |        NA | 109       | 146.2884  |        NA |\n",
       "| definition |  1        | 1.8772999 | 108       | 144.4111  | 0.1706413 |\n",
       "| need |  1        | 0.2477139 | 107       | 144.1634  | 0.6186894 |\n",
       "| purpose |  2        | 2.5918179 | 105       | 141.5716  | 0.2736490 |\n",
       "| interest |  1        | 2.5762980 | 104       | 138.9953  | 0.1084751 |\n",
       "\n"
      ],
      "text/plain": [
       "           Df Deviance  Resid. Df Resid. Dev Pr(>Chi) \n",
       "NULL       NA        NA 109       146.2884          NA\n",
       "definition  1 1.8772999 108       144.4111   0.1706413\n",
       "need        1 0.2477139 107       144.1634   0.6186894\n",
       "purpose     2 2.5918179 105       141.5716   0.2736490\n",
       "interest    1 2.5762980 104       138.9953   0.1084751"
      ]
     },
     "metadata": {},
     "output_type": "display_data"
    }
   ],
   "source": [
    "model <- glm(d1_2 ~ definition + need + purpose \n",
    "              + interest, data =survey, family = binomial)\n",
    "summary(model)\n",
    "\n",
    "\n",
    "anova(model, test=\"Chisq\")"
   ]
  },
  {
   "cell_type": "code",
   "execution_count": 26,
   "metadata": {},
   "outputs": [
    {
     "data": {
      "text/plain": [
       "\n",
       "Call:\n",
       "glm(formula = d1_3 ~ definition + need + purpose + interest, \n",
       "    family = binomial, data = survey)\n",
       "\n",
       "Deviance Residuals: \n",
       "    Min       1Q   Median       3Q      Max  \n",
       "-0.8144  -0.6275  -0.3381  -0.2680   2.5173  \n",
       "\n",
       "Coefficients:\n",
       "                  Estimate Std. Error z value Pr(>|z|)   \n",
       "(Intercept)       -5.23645    1.82622  -2.867  0.00414 **\n",
       "definitionharmony  0.04004    0.98770   0.041  0.96766   \n",
       "needharmony        1.47923    0.95333   1.552  0.12075   \n",
       "purposecosmetic    1.57423    1.21241   1.298  0.19414   \n",
       "purposeetc         1.79763    1.09219   1.646  0.09978 . \n",
       "interest           0.19723    0.35048   0.563  0.57361   \n",
       "---\n",
       "Signif. codes:  0 '***' 0.001 '**' 0.01 '*' 0.05 '.' 0.1 ' ' 1\n",
       "\n",
       "(Dispersion parameter for binomial family taken to be 1)\n",
       "\n",
       "    Null deviance: 79.923  on 109  degrees of freedom\n",
       "Residual deviance: 70.862  on 104  degrees of freedom\n",
       "AIC: 82.862\n",
       "\n",
       "Number of Fisher Scoring iterations: 6\n"
      ]
     },
     "metadata": {},
     "output_type": "display_data"
    },
    {
     "data": {
      "text/html": [
       "<table>\n",
       "<thead><tr><th></th><th scope=col>Df</th><th scope=col>Deviance</th><th scope=col>Resid. Df</th><th scope=col>Resid. Dev</th><th scope=col>Pr(&gt;Chi)</th></tr></thead>\n",
       "<tbody>\n",
       "\t<tr><th scope=row>NULL</th><td>NA        </td><td>       NA </td><td>109       </td><td>79.92307  </td><td>        NA</td></tr>\n",
       "\t<tr><th scope=row>definition</th><td> 1        </td><td>1.3255907 </td><td>108       </td><td>78.59748  </td><td>0.24959115</td></tr>\n",
       "\t<tr><th scope=row>need</th><td> 1        </td><td>3.1403436 </td><td>107       </td><td>75.45713  </td><td>0.07637772</td></tr>\n",
       "\t<tr><th scope=row>purpose</th><td> 2        </td><td>4.2734904 </td><td>105       </td><td>71.18364  </td><td>0.11803841</td></tr>\n",
       "\t<tr><th scope=row>interest</th><td> 1        </td><td>0.3219909 </td><td>104       </td><td>70.86165  </td><td>0.57041361</td></tr>\n",
       "</tbody>\n",
       "</table>\n"
      ],
      "text/latex": [
       "\\begin{tabular}{r|lllll}\n",
       "  & Df & Deviance & Resid. Df & Resid. Dev & Pr(>Chi)\\\\\n",
       "\\hline\n",
       "\tNULL & NA         &        NA  & 109        & 79.92307   &         NA\\\\\n",
       "\tdefinition &  1         & 1.3255907  & 108        & 78.59748   & 0.24959115\\\\\n",
       "\tneed &  1         & 3.1403436  & 107        & 75.45713   & 0.07637772\\\\\n",
       "\tpurpose &  2         & 4.2734904  & 105        & 71.18364   & 0.11803841\\\\\n",
       "\tinterest &  1         & 0.3219909  & 104        & 70.86165   & 0.57041361\\\\\n",
       "\\end{tabular}\n"
      ],
      "text/markdown": [
       "\n",
       "| <!--/--> | Df | Deviance | Resid. Df | Resid. Dev | Pr(>Chi) |\n",
       "|---|---|---|---|---|---|\n",
       "| NULL | NA         |        NA  | 109        | 79.92307   |         NA |\n",
       "| definition |  1         | 1.3255907  | 108        | 78.59748   | 0.24959115 |\n",
       "| need |  1         | 3.1403436  | 107        | 75.45713   | 0.07637772 |\n",
       "| purpose |  2         | 4.2734904  | 105        | 71.18364   | 0.11803841 |\n",
       "| interest |  1         | 0.3219909  | 104        | 70.86165   | 0.57041361 |\n",
       "\n"
      ],
      "text/plain": [
       "           Df Deviance  Resid. Df Resid. Dev Pr(>Chi)  \n",
       "NULL       NA        NA 109       79.92307           NA\n",
       "definition  1 1.3255907 108       78.59748   0.24959115\n",
       "need        1 3.1403436 107       75.45713   0.07637772\n",
       "purpose     2 4.2734904 105       71.18364   0.11803841\n",
       "interest    1 0.3219909 104       70.86165   0.57041361"
      ]
     },
     "metadata": {},
     "output_type": "display_data"
    }
   ],
   "source": [
    "model <- glm(d1_3 ~ definition + need + purpose \n",
    "              + interest, data =survey, family = binomial)\n",
    "summary(model)\n",
    "\n",
    "\n",
    "anova(model, test=\"Chisq\")"
   ]
  },
  {
   "cell_type": "code",
   "execution_count": 27,
   "metadata": {},
   "outputs": [
    {
     "data": {
      "text/plain": [
       "\n",
       "Call:\n",
       "glm(formula = d1_5 ~ definition + need + purpose + interest, \n",
       "    family = binomial, data = survey)\n",
       "\n",
       "Deviance Residuals: \n",
       "    Min       1Q   Median       3Q      Max  \n",
       "-0.8806  -0.6234  -0.5047  -0.2762   2.5776  \n",
       "\n",
       "Coefficients:\n",
       "                  Estimate Std. Error z value Pr(>|z|)  \n",
       "(Intercept)       -3.64541    1.43688  -2.537   0.0112 *\n",
       "definitionharmony  0.83403    0.82300   1.013   0.3109  \n",
       "needharmony        0.03781    0.69387   0.054   0.9565  \n",
       "purposecosmetic   -1.60574    1.14294  -1.405   0.1600  \n",
       "purposeetc         0.13999    0.61310   0.228   0.8194  \n",
       "interest           0.37727    0.31268   1.207   0.2276  \n",
       "---\n",
       "Signif. codes:  0 '***' 0.001 '**' 0.01 '*' 0.05 '.' 0.1 ' ' 1\n",
       "\n",
       "(Dispersion parameter for binomial family taken to be 1)\n",
       "\n",
       "    Null deviance: 91.243  on 109  degrees of freedom\n",
       "Residual deviance: 84.903  on 104  degrees of freedom\n",
       "AIC: 96.903\n",
       "\n",
       "Number of Fisher Scoring iterations: 5\n"
      ]
     },
     "metadata": {},
     "output_type": "display_data"
    },
    {
     "data": {
      "text/html": [
       "<table>\n",
       "<thead><tr><th></th><th scope=col>Df</th><th scope=col>Deviance</th><th scope=col>Resid. Df</th><th scope=col>Resid. Dev</th><th scope=col>Pr(&gt;Chi)</th></tr></thead>\n",
       "<tbody>\n",
       "\t<tr><th scope=row>NULL</th><td>NA       </td><td>       NA</td><td>109      </td><td>91.24342 </td><td>       NA</td></tr>\n",
       "\t<tr><th scope=row>definition</th><td> 1       </td><td>0.8816905</td><td>108      </td><td>90.36173 </td><td>0.3477391</td></tr>\n",
       "\t<tr><th scope=row>need</th><td> 1       </td><td>0.2079476</td><td>107      </td><td>90.15378 </td><td>0.6483808</td></tr>\n",
       "\t<tr><th scope=row>purpose</th><td> 2       </td><td>3.7431331</td><td>105      </td><td>86.41065 </td><td>0.1538824</td></tr>\n",
       "\t<tr><th scope=row>interest</th><td> 1       </td><td>1.5071724</td><td>104      </td><td>84.90348 </td><td>0.2195711</td></tr>\n",
       "</tbody>\n",
       "</table>\n"
      ],
      "text/latex": [
       "\\begin{tabular}{r|lllll}\n",
       "  & Df & Deviance & Resid. Df & Resid. Dev & Pr(>Chi)\\\\\n",
       "\\hline\n",
       "\tNULL & NA        &        NA & 109       & 91.24342  &        NA\\\\\n",
       "\tdefinition &  1        & 0.8816905 & 108       & 90.36173  & 0.3477391\\\\\n",
       "\tneed &  1        & 0.2079476 & 107       & 90.15378  & 0.6483808\\\\\n",
       "\tpurpose &  2        & 3.7431331 & 105       & 86.41065  & 0.1538824\\\\\n",
       "\tinterest &  1        & 1.5071724 & 104       & 84.90348  & 0.2195711\\\\\n",
       "\\end{tabular}\n"
      ],
      "text/markdown": [
       "\n",
       "| <!--/--> | Df | Deviance | Resid. Df | Resid. Dev | Pr(>Chi) |\n",
       "|---|---|---|---|---|---|\n",
       "| NULL | NA        |        NA | 109       | 91.24342  |        NA |\n",
       "| definition |  1        | 0.8816905 | 108       | 90.36173  | 0.3477391 |\n",
       "| need |  1        | 0.2079476 | 107       | 90.15378  | 0.6483808 |\n",
       "| purpose |  2        | 3.7431331 | 105       | 86.41065  | 0.1538824 |\n",
       "| interest |  1        | 1.5071724 | 104       | 84.90348  | 0.2195711 |\n",
       "\n"
      ],
      "text/plain": [
       "           Df Deviance  Resid. Df Resid. Dev Pr(>Chi) \n",
       "NULL       NA        NA 109       91.24342          NA\n",
       "definition  1 0.8816905 108       90.36173   0.3477391\n",
       "need        1 0.2079476 107       90.15378   0.6483808\n",
       "purpose     2 3.7431331 105       86.41065   0.1538824\n",
       "interest    1 1.5071724 104       84.90348   0.2195711"
      ]
     },
     "metadata": {},
     "output_type": "display_data"
    }
   ],
   "source": [
    "model <- glm(d1_5 ~ definition + need + purpose \n",
    "              + interest, data =survey, family = binomial)\n",
    "summary(model)\n",
    "\n",
    "\n",
    "anova(model, test=\"Chisq\")"
   ]
  },
  {
   "cell_type": "code",
   "execution_count": 28,
   "metadata": {},
   "outputs": [
    {
     "data": {
      "text/plain": [
       "\n",
       "Call:\n",
       "glm(formula = d2_1 ~ definition + need + purpose + interest, \n",
       "    family = binomial, data = survey)\n",
       "\n",
       "Deviance Residuals: \n",
       "    Min       1Q   Median       3Q      Max  \n",
       "-0.9868  -0.8494  -0.7826   1.4916   1.7017  \n",
       "\n",
       "Coefficients:\n",
       "                  Estimate Std. Error z value Pr(>|z|)\n",
       "(Intercept)       -1.29577    1.03062  -1.257    0.209\n",
       "definitionharmony  0.19390    0.55813   0.347    0.728\n",
       "needharmony       -0.26234    0.50193  -0.523    0.601\n",
       "purposecosmetic   -0.05772    0.60203  -0.096    0.924\n",
       "purposeetc         0.09029    0.49747   0.182    0.856\n",
       "interest           0.10901    0.24019   0.454    0.650\n",
       "\n",
       "(Dispersion parameter for binomial family taken to be 1)\n",
       "\n",
       "    Null deviance: 132.65  on 109  degrees of freedom\n",
       "Residual deviance: 132.14  on 104  degrees of freedom\n",
       "AIC: 144.14\n",
       "\n",
       "Number of Fisher Scoring iterations: 4\n"
      ]
     },
     "metadata": {},
     "output_type": "display_data"
    },
    {
     "data": {
      "text/html": [
       "<table>\n",
       "<thead><tr><th></th><th scope=col>Df</th><th scope=col>Deviance</th><th scope=col>Resid. Df</th><th scope=col>Resid. Dev</th><th scope=col>Pr(&gt;Chi)</th></tr></thead>\n",
       "<tbody>\n",
       "\t<tr><th scope=row>NULL</th><td>NA          </td><td>          NA</td><td>109         </td><td>132.6520    </td><td>       NA   </td></tr>\n",
       "\t<tr><th scope=row>definition</th><td> 1          </td><td>0.0000719986</td><td>108         </td><td>132.6519    </td><td>0.9932299   </td></tr>\n",
       "\t<tr><th scope=row>need</th><td> 1          </td><td>0.2058396802</td><td>107         </td><td>132.4461    </td><td>0.6500479   </td></tr>\n",
       "\t<tr><th scope=row>purpose</th><td> 2          </td><td>0.0967008833</td><td>105         </td><td>132.3494    </td><td>0.9527998   </td></tr>\n",
       "\t<tr><th scope=row>interest</th><td> 1          </td><td>0.2070483217</td><td>104         </td><td>132.1423    </td><td>0.6490908   </td></tr>\n",
       "</tbody>\n",
       "</table>\n"
      ],
      "text/latex": [
       "\\begin{tabular}{r|lllll}\n",
       "  & Df & Deviance & Resid. Df & Resid. Dev & Pr(>Chi)\\\\\n",
       "\\hline\n",
       "\tNULL & NA           &           NA & 109          & 132.6520     &        NA   \\\\\n",
       "\tdefinition &  1           & 0.0000719986 & 108          & 132.6519     & 0.9932299   \\\\\n",
       "\tneed &  1           & 0.2058396802 & 107          & 132.4461     & 0.6500479   \\\\\n",
       "\tpurpose &  2           & 0.0967008833 & 105          & 132.3494     & 0.9527998   \\\\\n",
       "\tinterest &  1           & 0.2070483217 & 104          & 132.1423     & 0.6490908   \\\\\n",
       "\\end{tabular}\n"
      ],
      "text/markdown": [
       "\n",
       "| <!--/--> | Df | Deviance | Resid. Df | Resid. Dev | Pr(>Chi) |\n",
       "|---|---|---|---|---|---|\n",
       "| NULL | NA           |           NA | 109          | 132.6520     |        NA    |\n",
       "| definition |  1           | 0.0000719986 | 108          | 132.6519     | 0.9932299    |\n",
       "| need |  1           | 0.2058396802 | 107          | 132.4461     | 0.6500479    |\n",
       "| purpose |  2           | 0.0967008833 | 105          | 132.3494     | 0.9527998    |\n",
       "| interest |  1           | 0.2070483217 | 104          | 132.1423     | 0.6490908    |\n",
       "\n"
      ],
      "text/plain": [
       "           Df Deviance     Resid. Df Resid. Dev Pr(>Chi) \n",
       "NULL       NA           NA 109       132.6520          NA\n",
       "definition  1 0.0000719986 108       132.6519   0.9932299\n",
       "need        1 0.2058396802 107       132.4461   0.6500479\n",
       "purpose     2 0.0967008833 105       132.3494   0.9527998\n",
       "interest    1 0.2070483217 104       132.1423   0.6490908"
      ]
     },
     "metadata": {},
     "output_type": "display_data"
    }
   ],
   "source": [
    "model <- glm(d2_1 ~ definition + need + purpose \n",
    "              + interest, data =survey, family = binomial)\n",
    "summary(model)\n",
    "\n",
    "\n",
    "anova(model, test=\"Chisq\")"
   ]
  },
  {
   "cell_type": "code",
   "execution_count": 29,
   "metadata": {},
   "outputs": [
    {
     "data": {
      "text/plain": [
       "\n",
       "Call:\n",
       "glm(formula = d2_2 ~ definition + need + purpose + interest, \n",
       "    family = binomial, data = survey)\n",
       "\n",
       "Deviance Residuals: \n",
       "    Min       1Q   Median       3Q      Max  \n",
       "-1.1338  -0.8183  -0.6394   0.7753   1.9381  \n",
       "\n",
       "Coefficients:\n",
       "                  Estimate Std. Error z value Pr(>|z|)\n",
       "(Intercept)        0.03830    1.06094   0.036    0.971\n",
       "definitionharmony -0.54565    0.56153  -0.972    0.331\n",
       "needharmony       -0.27315    0.52822  -0.517    0.605\n",
       "purposecosmetic   -0.74289    0.63652  -1.167    0.243\n",
       "purposeetc        -0.56142    0.50396  -1.114    0.265\n",
       "interest          -0.04723    0.25372  -0.186    0.852\n",
       "\n",
       "(Dispersion parameter for binomial family taken to be 1)\n",
       "\n",
       "    Null deviance: 124.80  on 109  degrees of freedom\n",
       "Residual deviance: 120.56  on 104  degrees of freedom\n",
       "AIC: 132.56\n",
       "\n",
       "Number of Fisher Scoring iterations: 4\n"
      ]
     },
     "metadata": {},
     "output_type": "display_data"
    },
    {
     "data": {
      "text/html": [
       "<table>\n",
       "<thead><tr><th></th><th scope=col>Df</th><th scope=col>Deviance</th><th scope=col>Resid. Df</th><th scope=col>Resid. Dev</th><th scope=col>Pr(&gt;Chi)</th></tr></thead>\n",
       "<tbody>\n",
       "\t<tr><th scope=row>NULL</th><td>NA        </td><td>        NA</td><td>109       </td><td>124.8003  </td><td>       NA </td></tr>\n",
       "\t<tr><th scope=row>definition</th><td> 1        </td><td>2.19720837</td><td>108       </td><td>122.6031  </td><td>0.1382609 </td></tr>\n",
       "\t<tr><th scope=row>need</th><td> 1        </td><td>0.18579189</td><td>107       </td><td>122.4173  </td><td>0.6664423 </td></tr>\n",
       "\t<tr><th scope=row>purpose</th><td> 2        </td><td>1.82360140</td><td>105       </td><td>120.5937  </td><td>0.4018001 </td></tr>\n",
       "\t<tr><th scope=row>interest</th><td> 1        </td><td>0.03462031</td><td>104       </td><td>120.5590  </td><td>0.8523935 </td></tr>\n",
       "</tbody>\n",
       "</table>\n"
      ],
      "text/latex": [
       "\\begin{tabular}{r|lllll}\n",
       "  & Df & Deviance & Resid. Df & Resid. Dev & Pr(>Chi)\\\\\n",
       "\\hline\n",
       "\tNULL & NA         &         NA & 109        & 124.8003   &        NA \\\\\n",
       "\tdefinition &  1         & 2.19720837 & 108        & 122.6031   & 0.1382609 \\\\\n",
       "\tneed &  1         & 0.18579189 & 107        & 122.4173   & 0.6664423 \\\\\n",
       "\tpurpose &  2         & 1.82360140 & 105        & 120.5937   & 0.4018001 \\\\\n",
       "\tinterest &  1         & 0.03462031 & 104        & 120.5590   & 0.8523935 \\\\\n",
       "\\end{tabular}\n"
      ],
      "text/markdown": [
       "\n",
       "| <!--/--> | Df | Deviance | Resid. Df | Resid. Dev | Pr(>Chi) |\n",
       "|---|---|---|---|---|---|\n",
       "| NULL | NA         |         NA | 109        | 124.8003   |        NA  |\n",
       "| definition |  1         | 2.19720837 | 108        | 122.6031   | 0.1382609  |\n",
       "| need |  1         | 0.18579189 | 107        | 122.4173   | 0.6664423  |\n",
       "| purpose |  2         | 1.82360140 | 105        | 120.5937   | 0.4018001  |\n",
       "| interest |  1         | 0.03462031 | 104        | 120.5590   | 0.8523935  |\n",
       "\n"
      ],
      "text/plain": [
       "           Df Deviance   Resid. Df Resid. Dev Pr(>Chi) \n",
       "NULL       NA         NA 109       124.8003          NA\n",
       "definition  1 2.19720837 108       122.6031   0.1382609\n",
       "need        1 0.18579189 107       122.4173   0.6664423\n",
       "purpose     2 1.82360140 105       120.5937   0.4018001\n",
       "interest    1 0.03462031 104       120.5590   0.8523935"
      ]
     },
     "metadata": {},
     "output_type": "display_data"
    }
   ],
   "source": [
    "model <- glm(d2_2 ~ definition + need + purpose \n",
    "              + interest, data =survey, family = binomial)\n",
    "summary(model)\n",
    "\n",
    "\n",
    "anova(model, test=\"Chisq\")"
   ]
  },
  {
   "cell_type": "code",
   "execution_count": 30,
   "metadata": {},
   "outputs": [
    {
     "data": {
      "text/plain": [
       "\n",
       "Call:\n",
       "glm(formula = d2_3 ~ definition + need + purpose + interest, \n",
       "    family = binomial, data = survey)\n",
       "\n",
       "Deviance Residuals: \n",
       "    Min       1Q   Median       3Q      Max  \n",
       "-0.8474  -0.5320  -0.3486  -0.2736   2.3985  \n",
       "\n",
       "Coefficients:\n",
       "                  Estimate Std. Error z value Pr(>|z|)  \n",
       "(Intercept)       -4.08852    1.71082  -2.390   0.0169 *\n",
       "definitionharmony -0.37154    0.92127  -0.403   0.6867  \n",
       "needharmony        1.09034    0.88840   1.227   0.2197  \n",
       "purposecosmetic    1.13234    1.27248   0.890   0.3735  \n",
       "purposeetc         1.97513    1.08409   1.822   0.0685 .\n",
       "interest           0.04594    0.33800   0.136   0.8919  \n",
       "---\n",
       "Signif. codes:  0 '***' 0.001 '**' 0.01 '*' 0.05 '.' 0.1 ' ' 1\n",
       "\n",
       "(Dispersion parameter for binomial family taken to be 1)\n",
       "\n",
       "    Null deviance: 79.923  on 109  degrees of freedom\n",
       "Residual deviance: 72.258  on 104  degrees of freedom\n",
       "AIC: 84.258\n",
       "\n",
       "Number of Fisher Scoring iterations: 6\n"
      ]
     },
     "metadata": {},
     "output_type": "display_data"
    },
    {
     "data": {
      "text/html": [
       "<table>\n",
       "<thead><tr><th></th><th scope=col>Df</th><th scope=col>Deviance</th><th scope=col>Resid. Df</th><th scope=col>Resid. Dev</th><th scope=col>Pr(&gt;Chi)</th></tr></thead>\n",
       "<tbody>\n",
       "\t<tr><th scope=row>NULL</th><td>NA        </td><td>        NA</td><td>109       </td><td>79.92307  </td><td>        NA</td></tr>\n",
       "\t<tr><th scope=row>definition</th><td> 1        </td><td>0.19662578</td><td>108       </td><td>79.72644  </td><td>0.65745832</td></tr>\n",
       "\t<tr><th scope=row>need</th><td> 1        </td><td>1.98841572</td><td>107       </td><td>77.73803  </td><td>0.15850663</td></tr>\n",
       "\t<tr><th scope=row>purpose</th><td> 2        </td><td>5.46164443</td><td>105       </td><td>72.27638  </td><td>0.06516569</td></tr>\n",
       "\t<tr><th scope=row>interest</th><td> 1        </td><td>0.01852246</td><td>104       </td><td>72.25786  </td><td>0.89174440</td></tr>\n",
       "</tbody>\n",
       "</table>\n"
      ],
      "text/latex": [
       "\\begin{tabular}{r|lllll}\n",
       "  & Df & Deviance & Resid. Df & Resid. Dev & Pr(>Chi)\\\\\n",
       "\\hline\n",
       "\tNULL & NA         &         NA & 109        & 79.92307   &         NA\\\\\n",
       "\tdefinition &  1         & 0.19662578 & 108        & 79.72644   & 0.65745832\\\\\n",
       "\tneed &  1         & 1.98841572 & 107        & 77.73803   & 0.15850663\\\\\n",
       "\tpurpose &  2         & 5.46164443 & 105        & 72.27638   & 0.06516569\\\\\n",
       "\tinterest &  1         & 0.01852246 & 104        & 72.25786   & 0.89174440\\\\\n",
       "\\end{tabular}\n"
      ],
      "text/markdown": [
       "\n",
       "| <!--/--> | Df | Deviance | Resid. Df | Resid. Dev | Pr(>Chi) |\n",
       "|---|---|---|---|---|---|\n",
       "| NULL | NA         |         NA | 109        | 79.92307   |         NA |\n",
       "| definition |  1         | 0.19662578 | 108        | 79.72644   | 0.65745832 |\n",
       "| need |  1         | 1.98841572 | 107        | 77.73803   | 0.15850663 |\n",
       "| purpose |  2         | 5.46164443 | 105        | 72.27638   | 0.06516569 |\n",
       "| interest |  1         | 0.01852246 | 104        | 72.25786   | 0.89174440 |\n",
       "\n"
      ],
      "text/plain": [
       "           Df Deviance   Resid. Df Resid. Dev Pr(>Chi)  \n",
       "NULL       NA         NA 109       79.92307           NA\n",
       "definition  1 0.19662578 108       79.72644   0.65745832\n",
       "need        1 1.98841572 107       77.73803   0.15850663\n",
       "purpose     2 5.46164443 105       72.27638   0.06516569\n",
       "interest    1 0.01852246 104       72.25786   0.89174440"
      ]
     },
     "metadata": {},
     "output_type": "display_data"
    }
   ],
   "source": [
    "model <- glm(d2_3 ~ definition + need + purpose \n",
    "              + interest, data =survey, family = binomial)\n",
    "summary(model)\n",
    "\n",
    "\n",
    "anova(model, test=\"Chisq\")"
   ]
  },
  {
   "cell_type": "code",
   "execution_count": 31,
   "metadata": {},
   "outputs": [
    {
     "data": {
      "text/plain": [
       "\n",
       "Call:\n",
       "glm(formula = d2_4 ~ definition + need + purpose + interest, \n",
       "    family = binomial, data = survey)\n",
       "\n",
       "Deviance Residuals: \n",
       "    Min       1Q   Median       3Q      Max  \n",
       "-0.9519  -0.7581  -0.7205  -0.5732   1.9026  \n",
       "\n",
       "Coefficients:\n",
       "                  Estimate Std. Error z value Pr(>|z|)\n",
       "(Intercept)       -1.31689    1.09173  -1.206    0.228\n",
       "definitionharmony  0.44741    0.60993   0.734    0.463\n",
       "needharmony       -0.13911    0.52889  -0.263    0.793\n",
       "purposecosmetic    0.48158    0.61454   0.784    0.433\n",
       "purposeetc         0.04968    0.54307   0.091    0.927\n",
       "interest          -0.05622    0.25478  -0.221    0.825\n",
       "\n",
       "(Dispersion parameter for binomial family taken to be 1)\n",
       "\n",
       "    Null deviance: 122.60  on 109  degrees of freedom\n",
       "Residual deviance: 120.96  on 104  degrees of freedom\n",
       "AIC: 132.96\n",
       "\n",
       "Number of Fisher Scoring iterations: 4\n"
      ]
     },
     "metadata": {},
     "output_type": "display_data"
    },
    {
     "data": {
      "text/html": [
       "<table>\n",
       "<thead><tr><th></th><th scope=col>Df</th><th scope=col>Deviance</th><th scope=col>Resid. Df</th><th scope=col>Resid. Dev</th><th scope=col>Pr(&gt;Chi)</th></tr></thead>\n",
       "<tbody>\n",
       "\t<tr><th scope=row>NULL</th><td>NA        </td><td>        NA</td><td>109       </td><td>122.6029  </td><td>       NA </td></tr>\n",
       "\t<tr><th scope=row>definition</th><td> 1        </td><td>0.64921793</td><td>108       </td><td>121.9537  </td><td>0.4203924 </td></tr>\n",
       "\t<tr><th scope=row>need</th><td> 1        </td><td>0.19306030</td><td>107       </td><td>121.7607  </td><td>0.6603817 </td></tr>\n",
       "\t<tr><th scope=row>purpose</th><td> 2        </td><td>0.74990635</td><td>105       </td><td>121.0108  </td><td>0.6873215 </td></tr>\n",
       "\t<tr><th scope=row>interest</th><td> 1        </td><td>0.04864693</td><td>104       </td><td>120.9621  </td><td>0.8254347 </td></tr>\n",
       "</tbody>\n",
       "</table>\n"
      ],
      "text/latex": [
       "\\begin{tabular}{r|lllll}\n",
       "  & Df & Deviance & Resid. Df & Resid. Dev & Pr(>Chi)\\\\\n",
       "\\hline\n",
       "\tNULL & NA         &         NA & 109        & 122.6029   &        NA \\\\\n",
       "\tdefinition &  1         & 0.64921793 & 108        & 121.9537   & 0.4203924 \\\\\n",
       "\tneed &  1         & 0.19306030 & 107        & 121.7607   & 0.6603817 \\\\\n",
       "\tpurpose &  2         & 0.74990635 & 105        & 121.0108   & 0.6873215 \\\\\n",
       "\tinterest &  1         & 0.04864693 & 104        & 120.9621   & 0.8254347 \\\\\n",
       "\\end{tabular}\n"
      ],
      "text/markdown": [
       "\n",
       "| <!--/--> | Df | Deviance | Resid. Df | Resid. Dev | Pr(>Chi) |\n",
       "|---|---|---|---|---|---|\n",
       "| NULL | NA         |         NA | 109        | 122.6029   |        NA  |\n",
       "| definition |  1         | 0.64921793 | 108        | 121.9537   | 0.4203924  |\n",
       "| need |  1         | 0.19306030 | 107        | 121.7607   | 0.6603817  |\n",
       "| purpose |  2         | 0.74990635 | 105        | 121.0108   | 0.6873215  |\n",
       "| interest |  1         | 0.04864693 | 104        | 120.9621   | 0.8254347  |\n",
       "\n"
      ],
      "text/plain": [
       "           Df Deviance   Resid. Df Resid. Dev Pr(>Chi) \n",
       "NULL       NA         NA 109       122.6029          NA\n",
       "definition  1 0.64921793 108       121.9537   0.4203924\n",
       "need        1 0.19306030 107       121.7607   0.6603817\n",
       "purpose     2 0.74990635 105       121.0108   0.6873215\n",
       "interest    1 0.04864693 104       120.9621   0.8254347"
      ]
     },
     "metadata": {},
     "output_type": "display_data"
    }
   ],
   "source": [
    "model <- glm(d2_4 ~ definition + need + purpose \n",
    "              + interest, data =survey, family = binomial)\n",
    "summary(model)\n",
    "\n",
    "\n",
    "anova(model, test=\"Chisq\")"
   ]
  },
  {
   "cell_type": "code",
   "execution_count": 32,
   "metadata": {},
   "outputs": [
    {
     "data": {
      "text/plain": [
       "\n",
       "Call:\n",
       "glm(formula = d2_5 ~ definition + need + purpose + interest, \n",
       "    family = binomial, data = survey)\n",
       "\n",
       "Deviance Residuals: \n",
       "    Min       1Q   Median       3Q      Max  \n",
       "-0.6737  -0.4649  -0.3900  -0.3346   2.6207  \n",
       "\n",
       "Coefficients:\n",
       "                  Estimate Std. Error z value Pr(>|z|)\n",
       "(Intercept)       -1.94359    1.61671  -1.202    0.229\n",
       "definitionharmony  0.17286    0.94081   0.184    0.854\n",
       "needharmony        0.54662    0.82193   0.665    0.506\n",
       "purposecosmetic    0.03056    0.83524   0.037    0.971\n",
       "purposeetc        -0.88369    0.80701  -1.095    0.274\n",
       "interest          -0.14348    0.38661  -0.371    0.711\n",
       "\n",
       "(Dispersion parameter for binomial family taken to be 1)\n",
       "\n",
       "    Null deviance: 67.02  on 109  degrees of freedom\n",
       "Residual deviance: 64.55  on 104  degrees of freedom\n",
       "AIC: 76.55\n",
       "\n",
       "Number of Fisher Scoring iterations: 5\n"
      ]
     },
     "metadata": {},
     "output_type": "display_data"
    },
    {
     "data": {
      "text/html": [
       "<table>\n",
       "<thead><tr><th></th><th scope=col>Df</th><th scope=col>Deviance</th><th scope=col>Resid. Df</th><th scope=col>Resid. Dev</th><th scope=col>Pr(&gt;Chi)</th></tr></thead>\n",
       "<tbody>\n",
       "\t<tr><th scope=row>NULL</th><td>NA       </td><td>       NA</td><td>109      </td><td>67.01994 </td><td>       NA</td></tr>\n",
       "\t<tr><th scope=row>definition</th><td> 1       </td><td>0.3873281</td><td>108      </td><td>66.63261 </td><td>0.5337072</td></tr>\n",
       "\t<tr><th scope=row>need</th><td> 1       </td><td>0.2549295</td><td>107      </td><td>66.37768 </td><td>0.6136253</td></tr>\n",
       "\t<tr><th scope=row>purpose</th><td> 2       </td><td>1.6900395</td><td>105      </td><td>64.68764 </td><td>0.4295489</td></tr>\n",
       "\t<tr><th scope=row>interest</th><td> 1       </td><td>0.1374738</td><td>104      </td><td>64.55017 </td><td>0.7108054</td></tr>\n",
       "</tbody>\n",
       "</table>\n"
      ],
      "text/latex": [
       "\\begin{tabular}{r|lllll}\n",
       "  & Df & Deviance & Resid. Df & Resid. Dev & Pr(>Chi)\\\\\n",
       "\\hline\n",
       "\tNULL & NA        &        NA & 109       & 67.01994  &        NA\\\\\n",
       "\tdefinition &  1        & 0.3873281 & 108       & 66.63261  & 0.5337072\\\\\n",
       "\tneed &  1        & 0.2549295 & 107       & 66.37768  & 0.6136253\\\\\n",
       "\tpurpose &  2        & 1.6900395 & 105       & 64.68764  & 0.4295489\\\\\n",
       "\tinterest &  1        & 0.1374738 & 104       & 64.55017  & 0.7108054\\\\\n",
       "\\end{tabular}\n"
      ],
      "text/markdown": [
       "\n",
       "| <!--/--> | Df | Deviance | Resid. Df | Resid. Dev | Pr(>Chi) |\n",
       "|---|---|---|---|---|---|\n",
       "| NULL | NA        |        NA | 109       | 67.01994  |        NA |\n",
       "| definition |  1        | 0.3873281 | 108       | 66.63261  | 0.5337072 |\n",
       "| need |  1        | 0.2549295 | 107       | 66.37768  | 0.6136253 |\n",
       "| purpose |  2        | 1.6900395 | 105       | 64.68764  | 0.4295489 |\n",
       "| interest |  1        | 0.1374738 | 104       | 64.55017  | 0.7108054 |\n",
       "\n"
      ],
      "text/plain": [
       "           Df Deviance  Resid. Df Resid. Dev Pr(>Chi) \n",
       "NULL       NA        NA 109       67.01994          NA\n",
       "definition  1 0.3873281 108       66.63261   0.5337072\n",
       "need        1 0.2549295 107       66.37768   0.6136253\n",
       "purpose     2 1.6900395 105       64.68764   0.4295489\n",
       "interest    1 0.1374738 104       64.55017   0.7108054"
      ]
     },
     "metadata": {},
     "output_type": "display_data"
    }
   ],
   "source": [
    "model <- glm(d2_5 ~ definition + need + purpose \n",
    "              + interest, data =survey, family = binomial)\n",
    "summary(model)\n",
    "\n",
    "\n",
    "anova(model, test=\"Chisq\")"
   ]
  },
  {
   "cell_type": "code",
   "execution_count": 33,
   "metadata": {},
   "outputs": [
    {
     "data": {
      "text/plain": [
       "\n",
       "Call:\n",
       "glm(formula = d3_1 ~ definition + need + purpose + interest, \n",
       "    family = binomial, data = survey)\n",
       "\n",
       "Deviance Residuals: \n",
       "    Min       1Q   Median       3Q      Max  \n",
       "-1.2421  -0.7098  -0.4723  -0.3701   2.3071  \n",
       "\n",
       "Coefficients:\n",
       "                  Estimate Std. Error z value Pr(>|z|)  \n",
       "(Intercept)       -0.30316    1.17209  -0.259   0.7959  \n",
       "definitionharmony -0.39390    0.58066  -0.678   0.4975  \n",
       "needharmony       -0.77075    0.54618  -1.411   0.1582  \n",
       "purposecosmetic    0.16393    0.58699   0.279   0.7800  \n",
       "purposeetc        -1.29515    0.59395  -2.181   0.0292 *\n",
       "interest           0.05803    0.28719   0.202   0.8399  \n",
       "---\n",
       "Signif. codes:  0 '***' 0.001 '**' 0.01 '*' 0.05 '.' 0.1 ' ' 1\n",
       "\n",
       "(Dispersion parameter for binomial family taken to be 1)\n",
       "\n",
       "    Null deviance: 117.91  on 109  degrees of freedom\n",
       "Residual deviance: 105.43  on 104  degrees of freedom\n",
       "AIC: 117.43\n",
       "\n",
       "Number of Fisher Scoring iterations: 4\n"
      ]
     },
     "metadata": {},
     "output_type": "display_data"
    },
    {
     "data": {
      "text/html": [
       "<table>\n",
       "<thead><tr><th></th><th scope=col>Df</th><th scope=col>Deviance</th><th scope=col>Resid. Df</th><th scope=col>Resid. Dev</th><th scope=col>Pr(&gt;Chi)</th></tr></thead>\n",
       "<tbody>\n",
       "\t<tr><th scope=row>NULL</th><td>NA        </td><td>        NA</td><td>109       </td><td>117.9112  </td><td>        NA</td></tr>\n",
       "\t<tr><th scope=row>definition</th><td> 1        </td><td>2.13139321</td><td>108       </td><td>115.7798  </td><td>0.14430954</td></tr>\n",
       "\t<tr><th scope=row>need</th><td> 1        </td><td>2.85429318</td><td>107       </td><td>112.9255  </td><td>0.09113029</td></tr>\n",
       "\t<tr><th scope=row>purpose</th><td> 2        </td><td>7.45642242</td><td>105       </td><td>105.4691  </td><td>0.02403579</td></tr>\n",
       "\t<tr><th scope=row>interest</th><td> 1        </td><td>0.04091058</td><td>104       </td><td>105.4282  </td><td>0.83971062</td></tr>\n",
       "</tbody>\n",
       "</table>\n"
      ],
      "text/latex": [
       "\\begin{tabular}{r|lllll}\n",
       "  & Df & Deviance & Resid. Df & Resid. Dev & Pr(>Chi)\\\\\n",
       "\\hline\n",
       "\tNULL & NA         &         NA & 109        & 117.9112   &         NA\\\\\n",
       "\tdefinition &  1         & 2.13139321 & 108        & 115.7798   & 0.14430954\\\\\n",
       "\tneed &  1         & 2.85429318 & 107        & 112.9255   & 0.09113029\\\\\n",
       "\tpurpose &  2         & 7.45642242 & 105        & 105.4691   & 0.02403579\\\\\n",
       "\tinterest &  1         & 0.04091058 & 104        & 105.4282   & 0.83971062\\\\\n",
       "\\end{tabular}\n"
      ],
      "text/markdown": [
       "\n",
       "| <!--/--> | Df | Deviance | Resid. Df | Resid. Dev | Pr(>Chi) |\n",
       "|---|---|---|---|---|---|\n",
       "| NULL | NA         |         NA | 109        | 117.9112   |         NA |\n",
       "| definition |  1         | 2.13139321 | 108        | 115.7798   | 0.14430954 |\n",
       "| need |  1         | 2.85429318 | 107        | 112.9255   | 0.09113029 |\n",
       "| purpose |  2         | 7.45642242 | 105        | 105.4691   | 0.02403579 |\n",
       "| interest |  1         | 0.04091058 | 104        | 105.4282   | 0.83971062 |\n",
       "\n"
      ],
      "text/plain": [
       "           Df Deviance   Resid. Df Resid. Dev Pr(>Chi)  \n",
       "NULL       NA         NA 109       117.9112           NA\n",
       "definition  1 2.13139321 108       115.7798   0.14430954\n",
       "need        1 2.85429318 107       112.9255   0.09113029\n",
       "purpose     2 7.45642242 105       105.4691   0.02403579\n",
       "interest    1 0.04091058 104       105.4282   0.83971062"
      ]
     },
     "metadata": {},
     "output_type": "display_data"
    }
   ],
   "source": [
    "model <- glm(d3_1 ~ definition + need + purpose \n",
    "              + interest, data =survey, family = binomial)\n",
    "summary(model)\n",
    "\n",
    "\n",
    "anova(model, test=\"Chisq\")"
   ]
  },
  {
   "cell_type": "code",
   "execution_count": 34,
   "metadata": {},
   "outputs": [
    {
     "data": {
      "text/plain": [
       "\n",
       "Call:\n",
       "glm(formula = d3_2 ~ definition + need + purpose + interest, \n",
       "    family = binomial, data = survey)\n",
       "\n",
       "Deviance Residuals: \n",
       "    Min       1Q   Median       3Q      Max  \n",
       "-1.0977  -0.7213  -0.5512  -0.3888   2.4034  \n",
       "\n",
       "Coefficients:\n",
       "                  Estimate Std. Error z value Pr(>|z|)\n",
       "(Intercept)        -0.6313     1.1479  -0.550    0.582\n",
       "definitionharmony  -0.6441     0.6871  -0.938    0.348\n",
       "needharmony         0.9951     0.6571   1.514    0.130\n",
       "purposecosmetic    -0.3360     0.7822  -0.430    0.668\n",
       "purposeetc          0.4011     0.5688   0.705    0.481\n",
       "interest           -0.3111     0.2723  -1.142    0.253\n",
       "\n",
       "(Dispersion parameter for binomial family taken to be 1)\n",
       "\n",
       "    Null deviance: 110.09  on 109  degrees of freedom\n",
       "Residual deviance: 104.67  on 104  degrees of freedom\n",
       "AIC: 116.67\n",
       "\n",
       "Number of Fisher Scoring iterations: 4\n"
      ]
     },
     "metadata": {},
     "output_type": "display_data"
    },
    {
     "data": {
      "text/html": [
       "<table>\n",
       "<thead><tr><th></th><th scope=col>Df</th><th scope=col>Deviance</th><th scope=col>Resid. Df</th><th scope=col>Resid. Dev</th><th scope=col>Pr(&gt;Chi)</th></tr></thead>\n",
       "<tbody>\n",
       "\t<tr><th scope=row>NULL</th><td>NA        </td><td>        NA</td><td>109       </td><td>110.0885  </td><td>        NA</td></tr>\n",
       "\t<tr><th scope=row>definition</th><td> 1        </td><td>0.01128532</td><td>108       </td><td>110.0772  </td><td>0.91539797</td></tr>\n",
       "\t<tr><th scope=row>need</th><td> 1        </td><td>2.79361442</td><td>107       </td><td>107.2836  </td><td>0.09464054</td></tr>\n",
       "\t<tr><th scope=row>purpose</th><td> 2        </td><td>1.28807901</td><td>105       </td><td>105.9956  </td><td>0.52516672</td></tr>\n",
       "\t<tr><th scope=row>interest</th><td> 1        </td><td>1.32348460</td><td>104       </td><td>104.6721  </td><td>0.24996763</td></tr>\n",
       "</tbody>\n",
       "</table>\n"
      ],
      "text/latex": [
       "\\begin{tabular}{r|lllll}\n",
       "  & Df & Deviance & Resid. Df & Resid. Dev & Pr(>Chi)\\\\\n",
       "\\hline\n",
       "\tNULL & NA         &         NA & 109        & 110.0885   &         NA\\\\\n",
       "\tdefinition &  1         & 0.01128532 & 108        & 110.0772   & 0.91539797\\\\\n",
       "\tneed &  1         & 2.79361442 & 107        & 107.2836   & 0.09464054\\\\\n",
       "\tpurpose &  2         & 1.28807901 & 105        & 105.9956   & 0.52516672\\\\\n",
       "\tinterest &  1         & 1.32348460 & 104        & 104.6721   & 0.24996763\\\\\n",
       "\\end{tabular}\n"
      ],
      "text/markdown": [
       "\n",
       "| <!--/--> | Df | Deviance | Resid. Df | Resid. Dev | Pr(>Chi) |\n",
       "|---|---|---|---|---|---|\n",
       "| NULL | NA         |         NA | 109        | 110.0885   |         NA |\n",
       "| definition |  1         | 0.01128532 | 108        | 110.0772   | 0.91539797 |\n",
       "| need |  1         | 2.79361442 | 107        | 107.2836   | 0.09464054 |\n",
       "| purpose |  2         | 1.28807901 | 105        | 105.9956   | 0.52516672 |\n",
       "| interest |  1         | 1.32348460 | 104        | 104.6721   | 0.24996763 |\n",
       "\n"
      ],
      "text/plain": [
       "           Df Deviance   Resid. Df Resid. Dev Pr(>Chi)  \n",
       "NULL       NA         NA 109       110.0885           NA\n",
       "definition  1 0.01128532 108       110.0772   0.91539797\n",
       "need        1 2.79361442 107       107.2836   0.09464054\n",
       "purpose     2 1.28807901 105       105.9956   0.52516672\n",
       "interest    1 1.32348460 104       104.6721   0.24996763"
      ]
     },
     "metadata": {},
     "output_type": "display_data"
    }
   ],
   "source": [
    "model <- glm(d3_2 ~ definition + need + purpose \n",
    "              + interest, data =survey, family = binomial)\n",
    "summary(model)\n",
    "\n",
    "\n",
    "anova(model, test=\"Chisq\")"
   ]
  },
  {
   "cell_type": "code",
   "execution_count": 35,
   "metadata": {},
   "outputs": [
    {
     "data": {
      "text/plain": [
       "\n",
       "Call:\n",
       "glm(formula = d3_3 ~ definition + need + purpose + interest, \n",
       "    family = binomial, data = survey)\n",
       "\n",
       "Deviance Residuals: \n",
       "    Min       1Q   Median       3Q      Max  \n",
       "-1.3496  -0.7284  -0.5347  -0.3196   2.5421  \n",
       "\n",
       "Coefficients:\n",
       "                  Estimate Std. Error z value Pr(>|z|)   \n",
       "(Intercept)       -4.51006    1.43732  -3.138   0.0017 **\n",
       "definitionharmony  1.39134    0.75522   1.842   0.0654 . \n",
       "needharmony       -0.86305    0.61610  -1.401   0.1613   \n",
       "purposecosmetic   -0.78983    0.80071  -0.986   0.3239   \n",
       "purposeetc         0.05031    0.59894   0.084   0.9331   \n",
       "interest           0.70297    0.31467   2.234   0.0255 * \n",
       "---\n",
       "Signif. codes:  0 '***' 0.001 '**' 0.01 '*' 0.05 '.' 0.1 ' ' 1\n",
       "\n",
       "(Dispersion parameter for binomial family taken to be 1)\n",
       "\n",
       "    Null deviance: 104.311  on 109  degrees of freedom\n",
       "Residual deviance:  95.432  on 104  degrees of freedom\n",
       "AIC: 107.43\n",
       "\n",
       "Number of Fisher Scoring iterations: 5\n"
      ]
     },
     "metadata": {},
     "output_type": "display_data"
    },
    {
     "data": {
      "text/html": [
       "<table>\n",
       "<thead><tr><th></th><th scope=col>Df</th><th scope=col>Deviance</th><th scope=col>Resid. Df</th><th scope=col>Resid. Dev</th><th scope=col>Pr(&gt;Chi)</th></tr></thead>\n",
       "<tbody>\n",
       "\t<tr><th scope=row>NULL</th><td>NA        </td><td>       NA </td><td>109       </td><td>104.31065 </td><td>        NA</td></tr>\n",
       "\t<tr><th scope=row>definition</th><td> 1        </td><td>0.8540418 </td><td>108       </td><td>103.45661 </td><td>0.35541144</td></tr>\n",
       "\t<tr><th scope=row>need</th><td> 1        </td><td>0.9806346 </td><td>107       </td><td>102.47597 </td><td>0.32204220</td></tr>\n",
       "\t<tr><th scope=row>purpose</th><td> 2        </td><td>1.5387071 </td><td>105       </td><td>100.93727 </td><td>0.46331247</td></tr>\n",
       "\t<tr><th scope=row>interest</th><td> 1        </td><td>5.5053093 </td><td>104       </td><td> 95.43196 </td><td>0.01895883</td></tr>\n",
       "</tbody>\n",
       "</table>\n"
      ],
      "text/latex": [
       "\\begin{tabular}{r|lllll}\n",
       "  & Df & Deviance & Resid. Df & Resid. Dev & Pr(>Chi)\\\\\n",
       "\\hline\n",
       "\tNULL & NA         &        NA  & 109        & 104.31065  &         NA\\\\\n",
       "\tdefinition &  1         & 0.8540418  & 108        & 103.45661  & 0.35541144\\\\\n",
       "\tneed &  1         & 0.9806346  & 107        & 102.47597  & 0.32204220\\\\\n",
       "\tpurpose &  2         & 1.5387071  & 105        & 100.93727  & 0.46331247\\\\\n",
       "\tinterest &  1         & 5.5053093  & 104        &  95.43196  & 0.01895883\\\\\n",
       "\\end{tabular}\n"
      ],
      "text/markdown": [
       "\n",
       "| <!--/--> | Df | Deviance | Resid. Df | Resid. Dev | Pr(>Chi) |\n",
       "|---|---|---|---|---|---|\n",
       "| NULL | NA         |        NA  | 109        | 104.31065  |         NA |\n",
       "| definition |  1         | 0.8540418  | 108        | 103.45661  | 0.35541144 |\n",
       "| need |  1         | 0.9806346  | 107        | 102.47597  | 0.32204220 |\n",
       "| purpose |  2         | 1.5387071  | 105        | 100.93727  | 0.46331247 |\n",
       "| interest |  1         | 5.5053093  | 104        |  95.43196  | 0.01895883 |\n",
       "\n"
      ],
      "text/plain": [
       "           Df Deviance  Resid. Df Resid. Dev Pr(>Chi)  \n",
       "NULL       NA        NA 109       104.31065          NA\n",
       "definition  1 0.8540418 108       103.45661  0.35541144\n",
       "need        1 0.9806346 107       102.47597  0.32204220\n",
       "purpose     2 1.5387071 105       100.93727  0.46331247\n",
       "interest    1 5.5053093 104        95.43196  0.01895883"
      ]
     },
     "metadata": {},
     "output_type": "display_data"
    }
   ],
   "source": [
    "model <- glm(d3_3 ~ definition + need + purpose \n",
    "              + interest, data =survey, family = binomial)\n",
    "summary(model)\n",
    "\n",
    "\n",
    "anova(model, test=\"Chisq\")"
   ]
  },
  {
   "cell_type": "code",
   "execution_count": 36,
   "metadata": {},
   "outputs": [
    {
     "data": {
      "text/plain": [
       "\n",
       "Call:\n",
       "glm(formula = d3_4 ~ definition + need + purpose + interest, \n",
       "    family = binomial, data = survey)\n",
       "\n",
       "Deviance Residuals: \n",
       "    Min       1Q   Median       3Q      Max  \n",
       "-0.7075  -0.6334  -0.5188  -0.4212   2.3138  \n",
       "\n",
       "Coefficients:\n",
       "                  Estimate Std. Error z value Pr(>|z|)  \n",
       "(Intercept)        -2.9108     1.3840  -2.103   0.0354 *\n",
       "definitionharmony  -0.1176     0.7592  -0.155   0.8769  \n",
       "needharmony         0.5588     0.6980   0.801   0.4234  \n",
       "purposecosmetic     0.6718     0.8292   0.810   0.4178  \n",
       "purposeetc          0.6481     0.7136   0.908   0.3638  \n",
       "interest            0.1057     0.3106   0.340   0.7336  \n",
       "---\n",
       "Signif. codes:  0 '***' 0.001 '**' 0.01 '*' 0.05 '.' 0.1 ' ' 1\n",
       "\n",
       "(Dispersion parameter for binomial family taken to be 1)\n",
       "\n",
       "    Null deviance: 91.243  on 109  degrees of freedom\n",
       "Residual deviance: 89.278  on 104  degrees of freedom\n",
       "AIC: 101.28\n",
       "\n",
       "Number of Fisher Scoring iterations: 5\n"
      ]
     },
     "metadata": {},
     "output_type": "display_data"
    },
    {
     "data": {
      "text/html": [
       "<table>\n",
       "<thead><tr><th></th><th scope=col>Df</th><th scope=col>Deviance</th><th scope=col>Resid. Df</th><th scope=col>Resid. Dev</th><th scope=col>Pr(&gt;Chi)</th></tr></thead>\n",
       "<tbody>\n",
       "\t<tr><th scope=row>NULL</th><td>NA        </td><td>        NA</td><td>109       </td><td>91.24342  </td><td>       NA </td></tr>\n",
       "\t<tr><th scope=row>definition</th><td> 1        </td><td>0.09557117</td><td>108       </td><td>91.14785  </td><td>0.7572106 </td></tr>\n",
       "\t<tr><th scope=row>need</th><td> 1        </td><td>0.66941488</td><td>107       </td><td>90.47844  </td><td>0.4132557 </td></tr>\n",
       "\t<tr><th scope=row>purpose</th><td> 2        </td><td>1.08424515</td><td>105       </td><td>89.39419  </td><td>0.5815126 </td></tr>\n",
       "\t<tr><th scope=row>interest</th><td> 1        </td><td>0.11655467</td><td>104       </td><td>89.27764  </td><td>0.7328017 </td></tr>\n",
       "</tbody>\n",
       "</table>\n"
      ],
      "text/latex": [
       "\\begin{tabular}{r|lllll}\n",
       "  & Df & Deviance & Resid. Df & Resid. Dev & Pr(>Chi)\\\\\n",
       "\\hline\n",
       "\tNULL & NA         &         NA & 109        & 91.24342   &        NA \\\\\n",
       "\tdefinition &  1         & 0.09557117 & 108        & 91.14785   & 0.7572106 \\\\\n",
       "\tneed &  1         & 0.66941488 & 107        & 90.47844   & 0.4132557 \\\\\n",
       "\tpurpose &  2         & 1.08424515 & 105        & 89.39419   & 0.5815126 \\\\\n",
       "\tinterest &  1         & 0.11655467 & 104        & 89.27764   & 0.7328017 \\\\\n",
       "\\end{tabular}\n"
      ],
      "text/markdown": [
       "\n",
       "| <!--/--> | Df | Deviance | Resid. Df | Resid. Dev | Pr(>Chi) |\n",
       "|---|---|---|---|---|---|\n",
       "| NULL | NA         |         NA | 109        | 91.24342   |        NA  |\n",
       "| definition |  1         | 0.09557117 | 108        | 91.14785   | 0.7572106  |\n",
       "| need |  1         | 0.66941488 | 107        | 90.47844   | 0.4132557  |\n",
       "| purpose |  2         | 1.08424515 | 105        | 89.39419   | 0.5815126  |\n",
       "| interest |  1         | 0.11655467 | 104        | 89.27764   | 0.7328017  |\n",
       "\n"
      ],
      "text/plain": [
       "           Df Deviance   Resid. Df Resid. Dev Pr(>Chi) \n",
       "NULL       NA         NA 109       91.24342          NA\n",
       "definition  1 0.09557117 108       91.14785   0.7572106\n",
       "need        1 0.66941488 107       90.47844   0.4132557\n",
       "purpose     2 1.08424515 105       89.39419   0.5815126\n",
       "interest    1 0.11655467 104       89.27764   0.7328017"
      ]
     },
     "metadata": {},
     "output_type": "display_data"
    }
   ],
   "source": [
    "model <- glm(d3_4 ~ definition + need + purpose \n",
    "              + interest, data =survey, family = binomial)\n",
    "summary(model)\n",
    "\n",
    "\n",
    "anova(model, test=\"Chisq\")"
   ]
  },
  {
   "cell_type": "code",
   "execution_count": 37,
   "metadata": {},
   "outputs": [
    {
     "data": {
      "text/plain": [
       "\n",
       "Call:\n",
       "glm(formula = d3_5 ~ definition + need + purpose + interest, \n",
       "    family = binomial, data = survey)\n",
       "\n",
       "Deviance Residuals: \n",
       "    Min       1Q   Median       3Q      Max  \n",
       "-1.0159  -0.7607  -0.7103  -0.5038   1.9356  \n",
       "\n",
       "Coefficients:\n",
       "                  Estimate Std. Error z value Pr(>|z|)\n",
       "(Intercept)        -0.1587     1.0667  -0.149    0.882\n",
       "definitionharmony  -0.1238     0.6061  -0.204    0.838\n",
       "needharmony         0.2399     0.5478   0.438    0.661\n",
       "purposecosmetic     0.2014     0.6479   0.311    0.756\n",
       "purposeetc          0.3018     0.5370   0.562    0.574\n",
       "interest           -0.3498     0.2556  -1.369    0.171\n",
       "\n",
       "(Dispersion parameter for binomial family taken to be 1)\n",
       "\n",
       "    Null deviance: 122.60  on 109  degrees of freedom\n",
       "Residual deviance: 120.25  on 104  degrees of freedom\n",
       "AIC: 132.25\n",
       "\n",
       "Number of Fisher Scoring iterations: 4\n"
      ]
     },
     "metadata": {},
     "output_type": "display_data"
    },
    {
     "data": {
      "text/html": [
       "<table>\n",
       "<thead><tr><th></th><th scope=col>Df</th><th scope=col>Deviance</th><th scope=col>Resid. Df</th><th scope=col>Resid. Dev</th><th scope=col>Pr(&gt;Chi)</th></tr></thead>\n",
       "<tbody>\n",
       "\t<tr><th scope=row>NULL</th><td>NA        </td><td>        NA</td><td>109       </td><td>122.6029  </td><td>       NA </td></tr>\n",
       "\t<tr><th scope=row>definition</th><td> 1        </td><td>0.09101671</td><td>108       </td><td>122.5119  </td><td>0.7628886 </td></tr>\n",
       "\t<tr><th scope=row>need</th><td> 1        </td><td>0.13782614</td><td>107       </td><td>122.3741  </td><td>0.7104518 </td></tr>\n",
       "\t<tr><th scope=row>purpose</th><td> 2        </td><td>0.20617668</td><td>105       </td><td>122.1679  </td><td>0.9020473 </td></tr>\n",
       "\t<tr><th scope=row>interest</th><td> 1        </td><td>1.91437532</td><td>104       </td><td>120.2536  </td><td>0.1664780 </td></tr>\n",
       "</tbody>\n",
       "</table>\n"
      ],
      "text/latex": [
       "\\begin{tabular}{r|lllll}\n",
       "  & Df & Deviance & Resid. Df & Resid. Dev & Pr(>Chi)\\\\\n",
       "\\hline\n",
       "\tNULL & NA         &         NA & 109        & 122.6029   &        NA \\\\\n",
       "\tdefinition &  1         & 0.09101671 & 108        & 122.5119   & 0.7628886 \\\\\n",
       "\tneed &  1         & 0.13782614 & 107        & 122.3741   & 0.7104518 \\\\\n",
       "\tpurpose &  2         & 0.20617668 & 105        & 122.1679   & 0.9020473 \\\\\n",
       "\tinterest &  1         & 1.91437532 & 104        & 120.2536   & 0.1664780 \\\\\n",
       "\\end{tabular}\n"
      ],
      "text/markdown": [
       "\n",
       "| <!--/--> | Df | Deviance | Resid. Df | Resid. Dev | Pr(>Chi) |\n",
       "|---|---|---|---|---|---|\n",
       "| NULL | NA         |         NA | 109        | 122.6029   |        NA  |\n",
       "| definition |  1         | 0.09101671 | 108        | 122.5119   | 0.7628886  |\n",
       "| need |  1         | 0.13782614 | 107        | 122.3741   | 0.7104518  |\n",
       "| purpose |  2         | 0.20617668 | 105        | 122.1679   | 0.9020473  |\n",
       "| interest |  1         | 1.91437532 | 104        | 120.2536   | 0.1664780  |\n",
       "\n"
      ],
      "text/plain": [
       "           Df Deviance   Resid. Df Resid. Dev Pr(>Chi) \n",
       "NULL       NA         NA 109       122.6029          NA\n",
       "definition  1 0.09101671 108       122.5119   0.7628886\n",
       "need        1 0.13782614 107       122.3741   0.7104518\n",
       "purpose     2 0.20617668 105       122.1679   0.9020473\n",
       "interest    1 1.91437532 104       120.2536   0.1664780"
      ]
     },
     "metadata": {},
     "output_type": "display_data"
    }
   ],
   "source": [
    "model <- glm(d3_5 ~ definition + need + purpose \n",
    "              + interest, data =survey, family = binomial)\n",
    "summary(model)\n",
    "\n",
    "\n",
    "anova(model, test=\"Chisq\")"
   ]
  },
  {
   "cell_type": "code",
   "execution_count": null,
   "metadata": {},
   "outputs": [],
   "source": []
  }
 ],
 "metadata": {
  "kernelspec": {
   "display_name": "R",
   "language": "R",
   "name": "ir"
  },
  "language_info": {
   "codemirror_mode": "r",
   "file_extension": ".r",
   "mimetype": "text/x-r-source",
   "name": "R",
   "pygments_lexer": "r",
   "version": "3.6.1"
  }
 },
 "nbformat": 4,
 "nbformat_minor": 4
}
