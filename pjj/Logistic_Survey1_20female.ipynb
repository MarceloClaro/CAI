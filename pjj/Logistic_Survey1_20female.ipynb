{
 "cells": [
  {
   "cell_type": "code",
   "execution_count": 1,
   "metadata": {
    "scrolled": true
   },
   "outputs": [
    {
     "name": "stderr",
     "output_type": "stream",
     "text": [
      "Warning message:\n",
      "\"package 'ROCR' was built under R version 3.6.3\"Loading required package: gplots\n",
      "Warning message:\n",
      "\"package 'gplots' was built under R version 3.6.3\"\n",
      "Attaching package: 'gplots'\n",
      "\n",
      "The following object is masked from 'package:stats':\n",
      "\n",
      "    lowess\n",
      "\n",
      "Warning message:\n",
      "\"package 'dplyr' was built under R version 3.6.3\"\n",
      "Attaching package: 'dplyr'\n",
      "\n",
      "The following objects are masked from 'package:stats':\n",
      "\n",
      "    filter, lag\n",
      "\n",
      "The following objects are masked from 'package:base':\n",
      "\n",
      "    intersect, setdiff, setequal, union\n",
      "\n"
     ]
    }
   ],
   "source": [
    "library(ROCR)\n",
    "library(dplyr)"
   ]
  },
  {
   "cell_type": "code",
   "execution_count": 2,
   "metadata": {},
   "outputs": [],
   "source": [
    "survey <- read.csv('전처리/1번설문/change_bright.csv')"
   ]
  },
  {
   "cell_type": "code",
   "execution_count": 3,
   "metadata": {
    "scrolled": false
   },
   "outputs": [
    {
     "name": "stdout",
     "output_type": "stream",
     "text": [
      "'data.frame':\t117 obs. of  13 variables:\n",
      " $ X          : int  0 1 2 3 4 5 6 7 8 9 ...\n",
      " $ sex        : Factor w/ 2 levels \"Female\",\"Male\": 2 1 1 1 1 1 1 2 1 1 ...\n",
      " $ age_class  : int  20 20 20 20 20 20 20 20 20 20 ...\n",
      " $ definition : Factor w/ 2 levels \"bright\",\"harmony\": 2 1 1 2 1 2 2 2 2 1 ...\n",
      " $ need       : Factor w/ 2 levels \"bright\",\"harmony\": 2 2 1 2 1 2 2 2 2 1 ...\n",
      " $ purpose    : Factor w/ 3 levels \"clothes\",\"cosmetic\",..: 1 1 1 1 3 3 3 1 1 1 ...\n",
      " $ interest   : int  5 5 3 3 4 2 5 3 4 4 ...\n",
      " $ comp       : int  4 1 2 5 4 3 1 1 1 5 ...\n",
      " $ triangle1  : int  5 1 4 5 2 4 4 1 4 5 ...\n",
      " $ triangle2  : int  2 2 1 4 1 1 5 3 1 2 ...\n",
      " $ doubleness1: int  3 2 2 5 1 2 3 1 1 2 ...\n",
      " $ doubleness2: int  2 3 1 4 2 2 3 5 2 1 ...\n",
      " $ doubleness3: int  2 2 2 1 2 2 3 5 2 5 ...\n"
     ]
    },
    {
     "data": {
      "text/html": [
       "<table>\n",
       "<thead><tr><th scope=col>X</th><th scope=col>sex</th><th scope=col>age_class</th><th scope=col>definition</th><th scope=col>need</th><th scope=col>purpose</th><th scope=col>interest</th><th scope=col>comp</th><th scope=col>triangle1</th><th scope=col>triangle2</th><th scope=col>doubleness1</th><th scope=col>doubleness2</th><th scope=col>doubleness3</th></tr></thead>\n",
       "<tbody>\n",
       "\t<tr><td>0      </td><td>Male   </td><td>20     </td><td>harmony</td><td>harmony</td><td>clothes</td><td>5      </td><td>4      </td><td>5      </td><td>2      </td><td>3      </td><td>2      </td><td>2      </td></tr>\n",
       "\t<tr><td>1      </td><td>Female </td><td>20     </td><td>bright </td><td>harmony</td><td>clothes</td><td>5      </td><td>1      </td><td>1      </td><td>2      </td><td>2      </td><td>3      </td><td>2      </td></tr>\n",
       "\t<tr><td>2      </td><td>Female </td><td>20     </td><td>bright </td><td>bright </td><td>clothes</td><td>3      </td><td>2      </td><td>4      </td><td>1      </td><td>2      </td><td>1      </td><td>2      </td></tr>\n",
       "\t<tr><td>3      </td><td>Female </td><td>20     </td><td>harmony</td><td>harmony</td><td>clothes</td><td>3      </td><td>5      </td><td>5      </td><td>4      </td><td>5      </td><td>4      </td><td>1      </td></tr>\n",
       "\t<tr><td>4      </td><td>Female </td><td>20     </td><td>bright </td><td>bright </td><td>etc    </td><td>4      </td><td>4      </td><td>2      </td><td>1      </td><td>1      </td><td>2      </td><td>2      </td></tr>\n",
       "\t<tr><td>5      </td><td>Female </td><td>20     </td><td>harmony</td><td>harmony</td><td>etc    </td><td>2      </td><td>3      </td><td>4      </td><td>1      </td><td>2      </td><td>2      </td><td>2      </td></tr>\n",
       "</tbody>\n",
       "</table>\n"
      ],
      "text/latex": [
       "\\begin{tabular}{r|lllllllllllll}\n",
       " X & sex & age\\_class & definition & need & purpose & interest & comp & triangle1 & triangle2 & doubleness1 & doubleness2 & doubleness3\\\\\n",
       "\\hline\n",
       "\t 0       & Male    & 20      & harmony & harmony & clothes & 5       & 4       & 5       & 2       & 3       & 2       & 2      \\\\\n",
       "\t 1       & Female  & 20      & bright  & harmony & clothes & 5       & 1       & 1       & 2       & 2       & 3       & 2      \\\\\n",
       "\t 2       & Female  & 20      & bright  & bright  & clothes & 3       & 2       & 4       & 1       & 2       & 1       & 2      \\\\\n",
       "\t 3       & Female  & 20      & harmony & harmony & clothes & 3       & 5       & 5       & 4       & 5       & 4       & 1      \\\\\n",
       "\t 4       & Female  & 20      & bright  & bright  & etc     & 4       & 4       & 2       & 1       & 1       & 2       & 2      \\\\\n",
       "\t 5       & Female  & 20      & harmony & harmony & etc     & 2       & 3       & 4       & 1       & 2       & 2       & 2      \\\\\n",
       "\\end{tabular}\n"
      ],
      "text/markdown": [
       "\n",
       "| X | sex | age_class | definition | need | purpose | interest | comp | triangle1 | triangle2 | doubleness1 | doubleness2 | doubleness3 |\n",
       "|---|---|---|---|---|---|---|---|---|---|---|---|---|\n",
       "| 0       | Male    | 20      | harmony | harmony | clothes | 5       | 4       | 5       | 2       | 3       | 2       | 2       |\n",
       "| 1       | Female  | 20      | bright  | harmony | clothes | 5       | 1       | 1       | 2       | 2       | 3       | 2       |\n",
       "| 2       | Female  | 20      | bright  | bright  | clothes | 3       | 2       | 4       | 1       | 2       | 1       | 2       |\n",
       "| 3       | Female  | 20      | harmony | harmony | clothes | 3       | 5       | 5       | 4       | 5       | 4       | 1       |\n",
       "| 4       | Female  | 20      | bright  | bright  | etc     | 4       | 4       | 2       | 1       | 1       | 2       | 2       |\n",
       "| 5       | Female  | 20      | harmony | harmony | etc     | 2       | 3       | 4       | 1       | 2       | 2       | 2       |\n",
       "\n"
      ],
      "text/plain": [
       "  X sex    age_class definition need    purpose interest comp triangle1\n",
       "1 0 Male   20        harmony    harmony clothes 5        4    5        \n",
       "2 1 Female 20        bright     harmony clothes 5        1    1        \n",
       "3 2 Female 20        bright     bright  clothes 3        2    4        \n",
       "4 3 Female 20        harmony    harmony clothes 3        5    5        \n",
       "5 4 Female 20        bright     bright  etc     4        4    2        \n",
       "6 5 Female 20        harmony    harmony etc     2        3    4        \n",
       "  triangle2 doubleness1 doubleness2 doubleness3\n",
       "1 2         3           2           2          \n",
       "2 2         2           3           2          \n",
       "3 1         2           1           2          \n",
       "4 4         5           4           1          \n",
       "5 1         1           2           2          \n",
       "6 1         2           2           2          "
      ]
     },
     "metadata": {},
     "output_type": "display_data"
    }
   ],
   "source": [
    "str(survey)\n",
    "head(survey)"
   ]
  },
  {
   "cell_type": "code",
   "execution_count": 4,
   "metadata": {
    "scrolled": true
   },
   "outputs": [],
   "source": [
    "survey = filter(survey, sex=='Female')"
   ]
  },
  {
   "cell_type": "code",
   "execution_count": 5,
   "metadata": {},
   "outputs": [
    {
     "name": "stdout",
     "output_type": "stream",
     "text": [
      "'data.frame':\t90 obs. of  13 variables:\n",
      " $ X          : int  1 2 3 4 5 6 8 9 10 12 ...\n",
      " $ sex        : Factor w/ 2 levels \"Female\",\"Male\": 1 1 1 1 1 1 1 1 1 1 ...\n",
      " $ age_class  : int  20 20 20 20 20 20 20 20 20 20 ...\n",
      " $ definition : Factor w/ 2 levels \"bright\",\"harmony\": 1 1 2 1 2 2 2 1 2 2 ...\n",
      " $ need       : Factor w/ 2 levels \"bright\",\"harmony\": 2 1 2 1 2 2 2 1 2 2 ...\n",
      " $ purpose    : Factor w/ 3 levels \"clothes\",\"cosmetic\",..: 1 1 1 3 3 3 1 1 3 3 ...\n",
      " $ interest   : int  5 3 3 4 2 5 4 4 3 3 ...\n",
      " $ comp       : int  1 2 5 4 3 1 1 5 5 1 ...\n",
      " $ triangle1  : int  1 4 5 2 4 4 4 5 3 4 ...\n",
      " $ triangle2  : int  2 1 4 1 1 5 1 2 2 3 ...\n",
      " $ doubleness1: int  2 2 5 1 2 3 1 2 3 3 ...\n",
      " $ doubleness2: int  3 1 4 2 2 3 2 1 5 1 ...\n",
      " $ doubleness3: int  2 2 1 2 2 3 2 5 2 2 ...\n"
     ]
    }
   ],
   "source": [
    "str(survey)"
   ]
  },
  {
   "cell_type": "code",
   "execution_count": 6,
   "metadata": {},
   "outputs": [],
   "source": [
    "survey$comp1 <- case_when(\n",
    "    survey$comp == 1 ~ 1,\n",
    "    survey$comp != 1 ~ 0)\n",
    "\n",
    "survey$comp2 <- case_when(\n",
    "    survey$comp == 2 ~ 1,\n",
    "    survey$comp != 2 ~ 0)\n",
    "\n",
    "survey$comp3 <- case_when(\n",
    "    survey$comp == 3 ~ 1,\n",
    "    survey$comp != 3 ~ 0)\n",
    "\n",
    "survey$comp4 <- case_when(\n",
    "    survey$comp == 4 ~ 1,\n",
    "    survey$comp != 4 ~ 0)\n",
    "\n",
    "survey$comp5 <- case_when(\n",
    "    survey$comp == 5 ~ 1,\n",
    "    survey$comp != 5 ~ 0)\n",
    "\n",
    "survey$t1_1 <- case_when(\n",
    "    survey$triangle1 == 1 ~ 1,\n",
    "    survey$triangle1 != 1 ~ 0)\n",
    "\n",
    "survey$t1_2 <- case_when(\n",
    "    survey$triangle1 == 2 ~ 1,\n",
    "    survey$triangle1 != 2 ~ 0)\n",
    "\n",
    "survey$t1_3 <- case_when(\n",
    "    survey$triangle1 == 3 ~ 1,\n",
    "    survey$triangle1 != 3 ~ 0)\n",
    "\n",
    "survey$t1_4 <- case_when(\n",
    "    survey$triangle1 == 4 ~ 1,\n",
    "    survey$triangle1 != 4 ~ 0)\n",
    "\n",
    "survey$t1_5 <- case_when(\n",
    "    survey$triangle1 == 5 ~ 1,\n",
    "    survey$triangle1 != 5 ~ 0)\n",
    "\t\n",
    "survey$t2_1 <- case_when(\n",
    "    survey$triangle2 == 1 ~ 1,\n",
    "    survey$triangle2 != 1 ~ 0)\n",
    "\n",
    "survey$t2_2 <- case_when(\n",
    "    survey$triangle2 == 2 ~ 1,\n",
    "    survey$triangle2 != 2 ~ 0)\n",
    "\n",
    "survey$t2_3 <- case_when(\n",
    "    survey$triangle2 == 3 ~ 1,\n",
    "    survey$triangle2 != 3 ~ 0)\n",
    "\n",
    "survey$t2_4 <- case_when(\n",
    "    survey$triangle2 == 4 ~ 1,\n",
    "    survey$triangle2 != 4 ~ 0)\n",
    "\n",
    "survey$t2_5 <- case_when(\n",
    "    survey$triangle2 == 5 ~ 1,\n",
    "    survey$triangle2 != 5 ~ 0)\n",
    "\t\n",
    "survey$d1_1 <- case_when(\n",
    "    survey$doubleness1 == 1 ~ 1,\n",
    "    survey$doubleness1 != 1 ~ 0)\n",
    "\n",
    "survey$d1_2 <- case_when(\n",
    "    survey$doubleness1 == 2 ~ 1,\n",
    "    survey$doubleness1 != 2 ~ 0)\n",
    "\n",
    "survey$d1_3 <- case_when(\n",
    "    survey$doubleness1 == 3 ~ 1,\n",
    "    survey$doubleness1 != 3 ~ 0)\n",
    "\n",
    "survey$d1_4 <- case_when(\n",
    "    survey$doubleness1 == 4 ~ 1,\n",
    "    survey$doubleness1 != 4 ~ 0)\n",
    "\n",
    "survey$d1_5 <- case_when(\n",
    "    survey$doubleness1 == 5 ~ 1,\n",
    "    survey$doubleness1 != 5 ~ 0)\n",
    "\t\n",
    "survey$d2_1 <- case_when(\n",
    "    survey$doubleness2 == 1 ~ 1,\n",
    "    survey$doubleness2 != 1 ~ 0)\n",
    "\n",
    "survey$d2_2 <- case_when(\n",
    "    survey$doubleness2 == 2 ~ 1,\n",
    "    survey$doubleness2 != 2 ~ 0)\n",
    "\n",
    "survey$d2_3 <- case_when(\n",
    "    survey$doubleness2 == 3 ~ 1,\n",
    "    survey$doubleness2 != 3 ~ 0)\n",
    "\n",
    "survey$d2_4 <- case_when(\n",
    "    survey$doubleness2 == 4 ~ 1,\n",
    "    survey$doubleness2 != 4 ~ 0)\n",
    "\n",
    "survey$d2_5 <- case_when(\n",
    "    survey$doubleness2 == 5 ~ 1,\n",
    "    survey$doubleness2 != 5 ~ 0)\n",
    "\t\n",
    "survey$d3_1 <- case_when(\n",
    "    survey$doubleness3 == 1 ~ 1,\n",
    "    survey$doubleness3 != 1 ~ 0)\n",
    "\n",
    "survey$d3_2 <- case_when(\n",
    "    survey$doubleness3 == 2 ~ 1,\n",
    "    survey$doubleness3 != 2 ~ 0)\n",
    "\n",
    "survey$d3_3 <- case_when(\n",
    "    survey$doubleness3 == 3 ~ 1,\n",
    "    survey$doubleness3 != 3 ~ 0)\n",
    "\n",
    "survey$d3_4 <- case_when(\n",
    "    survey$doubleness3 == 4 ~ 1,\n",
    "    survey$doubleness3 != 4 ~ 0)\n",
    "\n",
    "survey$d3_5 <- case_when(\n",
    "    survey$doubleness3 == 5 ~ 1,\n",
    "    survey$doubleness3 != 5 ~ 0)"
   ]
  },
  {
   "cell_type": "code",
   "execution_count": 7,
   "metadata": {},
   "outputs": [
    {
     "data": {
      "text/html": [
       "<table>\n",
       "<thead><tr><th scope=col>X</th><th scope=col>sex</th><th scope=col>age_class</th><th scope=col>definition</th><th scope=col>need</th><th scope=col>purpose</th><th scope=col>interest</th><th scope=col>comp</th><th scope=col>triangle1</th><th scope=col>triangle2</th><th scope=col>...</th><th scope=col>d2_1</th><th scope=col>d2_2</th><th scope=col>d2_3</th><th scope=col>d2_4</th><th scope=col>d2_5</th><th scope=col>d3_1</th><th scope=col>d3_2</th><th scope=col>d3_3</th><th scope=col>d3_4</th><th scope=col>d3_5</th></tr></thead>\n",
       "<tbody>\n",
       "\t<tr><td>1      </td><td>Female </td><td>20     </td><td>bright </td><td>harmony</td><td>clothes</td><td>5      </td><td>1      </td><td>1      </td><td>2      </td><td>...    </td><td>0      </td><td>0      </td><td>1      </td><td>0      </td><td>0      </td><td>0      </td><td>1      </td><td>0      </td><td>0      </td><td>0      </td></tr>\n",
       "\t<tr><td>2      </td><td>Female </td><td>20     </td><td>bright </td><td>bright </td><td>clothes</td><td>3      </td><td>2      </td><td>4      </td><td>1      </td><td>...    </td><td>1      </td><td>0      </td><td>0      </td><td>0      </td><td>0      </td><td>0      </td><td>1      </td><td>0      </td><td>0      </td><td>0      </td></tr>\n",
       "\t<tr><td>3      </td><td>Female </td><td>20     </td><td>harmony</td><td>harmony</td><td>clothes</td><td>3      </td><td>5      </td><td>5      </td><td>4      </td><td>...    </td><td>0      </td><td>0      </td><td>0      </td><td>1      </td><td>0      </td><td>1      </td><td>0      </td><td>0      </td><td>0      </td><td>0      </td></tr>\n",
       "\t<tr><td>4      </td><td>Female </td><td>20     </td><td>bright </td><td>bright </td><td>etc    </td><td>4      </td><td>4      </td><td>2      </td><td>1      </td><td>...    </td><td>0      </td><td>1      </td><td>0      </td><td>0      </td><td>0      </td><td>0      </td><td>1      </td><td>0      </td><td>0      </td><td>0      </td></tr>\n",
       "\t<tr><td>5      </td><td>Female </td><td>20     </td><td>harmony</td><td>harmony</td><td>etc    </td><td>2      </td><td>3      </td><td>4      </td><td>1      </td><td>...    </td><td>0      </td><td>1      </td><td>0      </td><td>0      </td><td>0      </td><td>0      </td><td>1      </td><td>0      </td><td>0      </td><td>0      </td></tr>\n",
       "\t<tr><td>6      </td><td>Female </td><td>20     </td><td>harmony</td><td>harmony</td><td>etc    </td><td>5      </td><td>1      </td><td>4      </td><td>5      </td><td>...    </td><td>0      </td><td>0      </td><td>1      </td><td>0      </td><td>0      </td><td>0      </td><td>0      </td><td>1      </td><td>0      </td><td>0      </td></tr>\n",
       "</tbody>\n",
       "</table>\n"
      ],
      "text/latex": [
       "\\begin{tabular}{r|lllllllllllllllllllllllllllllllllllllllllll}\n",
       " X & sex & age\\_class & definition & need & purpose & interest & comp & triangle1 & triangle2 & ... & d2\\_1 & d2\\_2 & d2\\_3 & d2\\_4 & d2\\_5 & d3\\_1 & d3\\_2 & d3\\_3 & d3\\_4 & d3\\_5\\\\\n",
       "\\hline\n",
       "\t 1       & Female  & 20      & bright  & harmony & clothes & 5       & 1       & 1       & 2       & ...     & 0       & 0       & 1       & 0       & 0       & 0       & 1       & 0       & 0       & 0      \\\\\n",
       "\t 2       & Female  & 20      & bright  & bright  & clothes & 3       & 2       & 4       & 1       & ...     & 1       & 0       & 0       & 0       & 0       & 0       & 1       & 0       & 0       & 0      \\\\\n",
       "\t 3       & Female  & 20      & harmony & harmony & clothes & 3       & 5       & 5       & 4       & ...     & 0       & 0       & 0       & 1       & 0       & 1       & 0       & 0       & 0       & 0      \\\\\n",
       "\t 4       & Female  & 20      & bright  & bright  & etc     & 4       & 4       & 2       & 1       & ...     & 0       & 1       & 0       & 0       & 0       & 0       & 1       & 0       & 0       & 0      \\\\\n",
       "\t 5       & Female  & 20      & harmony & harmony & etc     & 2       & 3       & 4       & 1       & ...     & 0       & 1       & 0       & 0       & 0       & 0       & 1       & 0       & 0       & 0      \\\\\n",
       "\t 6       & Female  & 20      & harmony & harmony & etc     & 5       & 1       & 4       & 5       & ...     & 0       & 0       & 1       & 0       & 0       & 0       & 0       & 1       & 0       & 0      \\\\\n",
       "\\end{tabular}\n"
      ],
      "text/markdown": [
       "\n",
       "| X | sex | age_class | definition | need | purpose | interest | comp | triangle1 | triangle2 | ... | d2_1 | d2_2 | d2_3 | d2_4 | d2_5 | d3_1 | d3_2 | d3_3 | d3_4 | d3_5 |\n",
       "|---|---|---|---|---|---|---|---|---|---|---|---|---|---|---|---|---|---|---|---|---|\n",
       "| 1       | Female  | 20      | bright  | harmony | clothes | 5       | 1       | 1       | 2       | ...     | 0       | 0       | 1       | 0       | 0       | 0       | 1       | 0       | 0       | 0       |\n",
       "| 2       | Female  | 20      | bright  | bright  | clothes | 3       | 2       | 4       | 1       | ...     | 1       | 0       | 0       | 0       | 0       | 0       | 1       | 0       | 0       | 0       |\n",
       "| 3       | Female  | 20      | harmony | harmony | clothes | 3       | 5       | 5       | 4       | ...     | 0       | 0       | 0       | 1       | 0       | 1       | 0       | 0       | 0       | 0       |\n",
       "| 4       | Female  | 20      | bright  | bright  | etc     | 4       | 4       | 2       | 1       | ...     | 0       | 1       | 0       | 0       | 0       | 0       | 1       | 0       | 0       | 0       |\n",
       "| 5       | Female  | 20      | harmony | harmony | etc     | 2       | 3       | 4       | 1       | ...     | 0       | 1       | 0       | 0       | 0       | 0       | 1       | 0       | 0       | 0       |\n",
       "| 6       | Female  | 20      | harmony | harmony | etc     | 5       | 1       | 4       | 5       | ...     | 0       | 0       | 1       | 0       | 0       | 0       | 0       | 1       | 0       | 0       |\n",
       "\n"
      ],
      "text/plain": [
       "  X sex    age_class definition need    purpose interest comp triangle1\n",
       "1 1 Female 20        bright     harmony clothes 5        1    1        \n",
       "2 2 Female 20        bright     bright  clothes 3        2    4        \n",
       "3 3 Female 20        harmony    harmony clothes 3        5    5        \n",
       "4 4 Female 20        bright     bright  etc     4        4    2        \n",
       "5 5 Female 20        harmony    harmony etc     2        3    4        \n",
       "6 6 Female 20        harmony    harmony etc     5        1    4        \n",
       "  triangle2 ... d2_1 d2_2 d2_3 d2_4 d2_5 d3_1 d3_2 d3_3 d3_4 d3_5\n",
       "1 2         ... 0    0    1    0    0    0    1    0    0    0   \n",
       "2 1         ... 1    0    0    0    0    0    1    0    0    0   \n",
       "3 4         ... 0    0    0    1    0    1    0    0    0    0   \n",
       "4 1         ... 0    1    0    0    0    0    1    0    0    0   \n",
       "5 1         ... 0    1    0    0    0    0    1    0    0    0   \n",
       "6 5         ... 0    0    1    0    0    0    0    1    0    0   "
      ]
     },
     "metadata": {},
     "output_type": "display_data"
    }
   ],
   "source": [
    "head(survey)"
   ]
  },
  {
   "cell_type": "code",
   "execution_count": 8,
   "metadata": {},
   "outputs": [],
   "source": [
    "train <- survey[1:63, ]\n",
    "test <- survey[64:90, ]"
   ]
  },
  {
   "cell_type": "code",
   "execution_count": 9,
   "metadata": {},
   "outputs": [
    {
     "data": {
      "text/plain": [
       "\n",
       "Call:\n",
       "glm(formula = comp1 ~ definition + need + purpose + interest, \n",
       "    family = binomial, data = train)\n",
       "\n",
       "Deviance Residuals: \n",
       "    Min       1Q   Median       3Q      Max  \n",
       "-1.4409  -0.9950  -0.6398   0.9427   2.1600  \n",
       "\n",
       "Coefficients:\n",
       "                  Estimate Std. Error z value Pr(>|z|)   \n",
       "(Intercept)        -4.5903     1.6000  -2.869  0.00412 **\n",
       "definitionharmony   0.7487     0.7598   0.985  0.32441   \n",
       "needharmony         0.8834     0.6835   1.293  0.19615   \n",
       "purposecosmetic    -0.2012     0.7727  -0.260  0.79460   \n",
       "purposeetc          0.1449     0.6783   0.214  0.83078   \n",
       "interest            0.8535     0.3517   2.427  0.01523 * \n",
       "---\n",
       "Signif. codes:  0 '***' 0.001 '**' 0.01 '*' 0.05 '.' 0.1 ' ' 1\n",
       "\n",
       "(Dispersion parameter for binomial family taken to be 1)\n",
       "\n",
       "    Null deviance: 84.635  on 62  degrees of freedom\n",
       "Residual deviance: 73.421  on 57  degrees of freedom\n",
       "AIC: 85.421\n",
       "\n",
       "Number of Fisher Scoring iterations: 4\n"
      ]
     },
     "metadata": {},
     "output_type": "display_data"
    }
   ],
   "source": [
    "model <- glm(comp1 ~ definition + need + purpose \n",
    "              + interest, data =train, family = binomial)\n",
    "summary(model)"
   ]
  },
  {
   "cell_type": "code",
   "execution_count": 10,
   "metadata": {},
   "outputs": [
    {
     "data": {
      "text/html": [
       "<table>\n",
       "<thead><tr><th></th><th scope=col>Df</th><th scope=col>Deviance</th><th scope=col>Resid. Df</th><th scope=col>Resid. Dev</th><th scope=col>Pr(&gt;Chi)</th></tr></thead>\n",
       "<tbody>\n",
       "\t<tr><th scope=row>NULL</th><td>NA         </td><td>       NA  </td><td>62         </td><td>84.63464   </td><td>         NA</td></tr>\n",
       "\t<tr><th scope=row>definition</th><td> 1         </td><td>2.2343606  </td><td>61         </td><td>82.40028   </td><td>0.134972446</td></tr>\n",
       "\t<tr><th scope=row>need</th><td> 1         </td><td>1.8066598  </td><td>60         </td><td>80.59362   </td><td>0.178909434</td></tr>\n",
       "\t<tr><th scope=row>purpose</th><td> 2         </td><td>0.1810582  </td><td>58         </td><td>80.41256   </td><td>0.913447769</td></tr>\n",
       "\t<tr><th scope=row>interest</th><td> 1         </td><td>6.9920085  </td><td>57         </td><td>73.42055   </td><td>0.008187443</td></tr>\n",
       "</tbody>\n",
       "</table>\n"
      ],
      "text/latex": [
       "\\begin{tabular}{r|lllll}\n",
       "  & Df & Deviance & Resid. Df & Resid. Dev & Pr(>Chi)\\\\\n",
       "\\hline\n",
       "\tNULL & NA          &        NA   & 62          & 84.63464    &          NA\\\\\n",
       "\tdefinition &  1          & 2.2343606   & 61          & 82.40028    & 0.134972446\\\\\n",
       "\tneed &  1          & 1.8066598   & 60          & 80.59362    & 0.178909434\\\\\n",
       "\tpurpose &  2          & 0.1810582   & 58          & 80.41256    & 0.913447769\\\\\n",
       "\tinterest &  1          & 6.9920085   & 57          & 73.42055    & 0.008187443\\\\\n",
       "\\end{tabular}\n"
      ],
      "text/markdown": [
       "\n",
       "| <!--/--> | Df | Deviance | Resid. Df | Resid. Dev | Pr(>Chi) |\n",
       "|---|---|---|---|---|---|\n",
       "| NULL | NA          |        NA   | 62          | 84.63464    |          NA |\n",
       "| definition |  1          | 2.2343606   | 61          | 82.40028    | 0.134972446 |\n",
       "| need |  1          | 1.8066598   | 60          | 80.59362    | 0.178909434 |\n",
       "| purpose |  2          | 0.1810582   | 58          | 80.41256    | 0.913447769 |\n",
       "| interest |  1          | 6.9920085   | 57          | 73.42055    | 0.008187443 |\n",
       "\n"
      ],
      "text/plain": [
       "           Df Deviance  Resid. Df Resid. Dev Pr(>Chi)   \n",
       "NULL       NA        NA 62        84.63464            NA\n",
       "definition  1 2.2343606 61        82.40028   0.134972446\n",
       "need        1 1.8066598 60        80.59362   0.178909434\n",
       "purpose     2 0.1810582 58        80.41256   0.913447769\n",
       "interest    1 6.9920085 57        73.42055   0.008187443"
      ]
     },
     "metadata": {},
     "output_type": "display_data"
    }
   ],
   "source": [
    "anova(model, test=\"Chisq\")"
   ]
  },
  {
   "cell_type": "code",
   "execution_count": 11,
   "metadata": {
    "scrolled": false
   },
   "outputs": [
    {
     "data": {
      "image/png": "[encoded data removed]",
      "text/plain": [
       "plot without title"
      ]
     },
     "metadata": {},
     "output_type": "display_data"
    }
   ],
   "source": [
    "p <- predict(model, newdata=test, type=\"response\")\n",
    "pr <- prediction(p, test$comp1)\n",
    "prf <- performance(pr, measure = \"tpr\", x.measure = \"fpr\")\n",
    "plot(prf)"
   ]
  },
  {
   "cell_type": "code",
   "execution_count": 12,
   "metadata": {},
   "outputs": [
    {
     "data": {
      "text/html": [
       "0.595679012345679"
      ],
      "text/latex": [
       "0.595679012345679"
      ],
      "text/markdown": [
       "0.595679012345679"
      ],
      "text/plain": [
       "[1] 0.595679"
      ]
     },
     "metadata": {},
     "output_type": "display_data"
    }
   ],
   "source": [
    "auc <- performance(pr, measure = \"auc\")\n",
    "auc <- auc@y.values[[1]]\n",
    "auc"
   ]
  },
  {
   "cell_type": "code",
   "execution_count": 13,
   "metadata": {},
   "outputs": [
    {
     "data": {
      "text/plain": [
       "\n",
       "Call:\n",
       "glm(formula = comp2 ~ definition + need + purpose + interest, \n",
       "    family = binomial, data = train)\n",
       "\n",
       "Deviance Residuals: \n",
       "    Min       1Q   Median       3Q      Max  \n",
       "-0.8607  -0.6807  -0.5262  -0.4108   2.2412  \n",
       "\n",
       "Coefficients:\n",
       "                   Estimate Std. Error z value Pr(>|z|)\n",
       "(Intercept)       -0.943790   1.554856  -0.607    0.544\n",
       "definitionharmony -0.543811   0.861457  -0.631    0.528\n",
       "needharmony       -0.558060   0.839607  -0.665    0.506\n",
       "purposecosmetic    0.131858   0.915201   0.144    0.885\n",
       "purposeetc        -0.394029   0.865213  -0.455    0.649\n",
       "interest           0.003232   0.371475   0.009    0.993\n",
       "\n",
       "(Dispersion parameter for binomial family taken to be 1)\n",
       "\n",
       "    Null deviance: 55.132  on 62  degrees of freedom\n",
       "Residual deviance: 53.090  on 57  degrees of freedom\n",
       "AIC: 65.09\n",
       "\n",
       "Number of Fisher Scoring iterations: 4\n"
      ]
     },
     "metadata": {},
     "output_type": "display_data"
    },
    {
     "data": {
      "text/html": [
       "<table>\n",
       "<thead><tr><th></th><th scope=col>Df</th><th scope=col>Deviance</th><th scope=col>Resid. Df</th><th scope=col>Resid. Dev</th><th scope=col>Pr(&gt;Chi)</th></tr></thead>\n",
       "<tbody>\n",
       "\t<tr><th scope=row>NULL</th><td>NA          </td><td>          NA</td><td>62          </td><td>55.13233    </td><td>       NA   </td></tr>\n",
       "\t<tr><th scope=row>definition</th><td> 1          </td><td>1.144929e+00</td><td>61          </td><td>53.98740    </td><td>0.2846132   </td></tr>\n",
       "\t<tr><th scope=row>need</th><td> 1          </td><td>4.896579e-01</td><td>60          </td><td>53.49774    </td><td>0.4840800   </td></tr>\n",
       "\t<tr><th scope=row>purpose</th><td> 2          </td><td>4.071784e-01</td><td>58          </td><td>53.09057    </td><td>0.8157974   </td></tr>\n",
       "\t<tr><th scope=row>interest</th><td> 1          </td><td>7.568599e-05</td><td>57          </td><td>53.09049    </td><td>0.9930587   </td></tr>\n",
       "</tbody>\n",
       "</table>\n"
      ],
      "text/latex": [
       "\\begin{tabular}{r|lllll}\n",
       "  & Df & Deviance & Resid. Df & Resid. Dev & Pr(>Chi)\\\\\n",
       "\\hline\n",
       "\tNULL & NA           &           NA & 62           & 55.13233     &        NA   \\\\\n",
       "\tdefinition &  1           & 1.144929e+00 & 61           & 53.98740     & 0.2846132   \\\\\n",
       "\tneed &  1           & 4.896579e-01 & 60           & 53.49774     & 0.4840800   \\\\\n",
       "\tpurpose &  2           & 4.071784e-01 & 58           & 53.09057     & 0.8157974   \\\\\n",
       "\tinterest &  1           & 7.568599e-05 & 57           & 53.09049     & 0.9930587   \\\\\n",
       "\\end{tabular}\n"
      ],
      "text/markdown": [
       "\n",
       "| <!--/--> | Df | Deviance | Resid. Df | Resid. Dev | Pr(>Chi) |\n",
       "|---|---|---|---|---|---|\n",
       "| NULL | NA           |           NA | 62           | 55.13233     |        NA    |\n",
       "| definition |  1           | 1.144929e+00 | 61           | 53.98740     | 0.2846132    |\n",
       "| need |  1           | 4.896579e-01 | 60           | 53.49774     | 0.4840800    |\n",
       "| purpose |  2           | 4.071784e-01 | 58           | 53.09057     | 0.8157974    |\n",
       "| interest |  1           | 7.568599e-05 | 57           | 53.09049     | 0.9930587    |\n",
       "\n"
      ],
      "text/plain": [
       "           Df Deviance     Resid. Df Resid. Dev Pr(>Chi) \n",
       "NULL       NA           NA 62        55.13233          NA\n",
       "definition  1 1.144929e+00 61        53.98740   0.2846132\n",
       "need        1 4.896579e-01 60        53.49774   0.4840800\n",
       "purpose     2 4.071784e-01 58        53.09057   0.8157974\n",
       "interest    1 7.568599e-05 57        53.09049   0.9930587"
      ]
     },
     "metadata": {},
     "output_type": "display_data"
    },
    {
     "data": {
      "text/html": [
       "0.540909090909091"
      ],
      "text/latex": [
       "0.540909090909091"
      ],
      "text/markdown": [
       "0.540909090909091"
      ],
      "text/plain": [
       "[1] 0.5409091"
      ]
     },
     "metadata": {},
     "output_type": "display_data"
    },
    {
     "data": {
      "image/png": "[encoded data removed]",
      "text/plain": [
       "plot without title"
      ]
     },
     "metadata": {},
     "output_type": "display_data"
    }
   ],
   "source": [
    "model <- glm(comp2 ~ definition + need + purpose \n",
    "              + interest, data =train, family = binomial)\n",
    "summary(model)\n",
    "\n",
    "\n",
    "anova(model, test=\"Chisq\")\n",
    "\n",
    "\n",
    "p <- predict(model, newdata=test, type=\"response\")\n",
    "pr <- prediction(p, test$comp2)\n",
    "prf <- performance(pr, measure = \"tpr\", x.measure = \"fpr\")\n",
    "plot(prf)\n",
    "\n",
    "auc <- performance(pr, measure = \"auc\")\n",
    "auc <- auc@y.values[[1]]\n",
    "auc"
   ]
  },
  {
   "cell_type": "code",
   "execution_count": 14,
   "metadata": {},
   "outputs": [
    {
     "data": {
      "text/plain": [
       "\n",
       "Call:\n",
       "glm(formula = comp3 ~ definition + need + purpose + interest, \n",
       "    family = binomial, data = train)\n",
       "\n",
       "Deviance Residuals: \n",
       "    Min       1Q   Median       3Q      Max  \n",
       "-1.2659  -0.5967  -0.4175  -0.2843   2.3825  \n",
       "\n",
       "Coefficients:\n",
       "                  Estimate Std. Error z value Pr(>|z|)  \n",
       "(Intercept)         0.3308     1.6141   0.205    0.838  \n",
       "definitionharmony  -0.4715     1.0911  -0.432    0.666  \n",
       "needharmony         1.0172     1.0829   0.939    0.348  \n",
       "purposecosmetic     0.7122     1.0369   0.687    0.492  \n",
       "purposeetc          0.6221     0.9349   0.665    0.506  \n",
       "interest           -0.8373     0.3993  -2.097    0.036 *\n",
       "---\n",
       "Signif. codes:  0 '***' 0.001 '**' 0.01 '*' 0.05 '.' 0.1 ' ' 1\n",
       "\n",
       "(Dispersion parameter for binomial family taken to be 1)\n",
       "\n",
       "    Null deviance: 55.132  on 62  degrees of freedom\n",
       "Residual deviance: 48.846  on 57  degrees of freedom\n",
       "AIC: 60.846\n",
       "\n",
       "Number of Fisher Scoring iterations: 5\n"
      ]
     },
     "metadata": {},
     "output_type": "display_data"
    },
    {
     "data": {
      "text/html": [
       "<table>\n",
       "<thead><tr><th></th><th scope=col>Df</th><th scope=col>Deviance</th><th scope=col>Resid. Df</th><th scope=col>Resid. Dev</th><th scope=col>Pr(&gt;Chi)</th></tr></thead>\n",
       "<tbody>\n",
       "\t<tr><th scope=row>NULL</th><td>NA        </td><td>       NA </td><td>62        </td><td>55.13233  </td><td>        NA</td></tr>\n",
       "\t<tr><th scope=row>definition</th><td> 1        </td><td>0.1291661 </td><td>61        </td><td>55.00316  </td><td>0.71929821</td></tr>\n",
       "\t<tr><th scope=row>need</th><td> 1        </td><td>0.7414861 </td><td>60        </td><td>54.26168  </td><td>0.38918524</td></tr>\n",
       "\t<tr><th scope=row>purpose</th><td> 2        </td><td>0.5398165 </td><td>58        </td><td>53.72186  </td><td>0.76344953</td></tr>\n",
       "\t<tr><th scope=row>interest</th><td> 1        </td><td>4.8762958 </td><td>57        </td><td>48.84557  </td><td>0.02722799</td></tr>\n",
       "</tbody>\n",
       "</table>\n"
      ],
      "text/latex": [
       "\\begin{tabular}{r|lllll}\n",
       "  & Df & Deviance & Resid. Df & Resid. Dev & Pr(>Chi)\\\\\n",
       "\\hline\n",
       "\tNULL & NA         &        NA  & 62         & 55.13233   &         NA\\\\\n",
       "\tdefinition &  1         & 0.1291661  & 61         & 55.00316   & 0.71929821\\\\\n",
       "\tneed &  1         & 0.7414861  & 60         & 54.26168   & 0.38918524\\\\\n",
       "\tpurpose &  2         & 0.5398165  & 58         & 53.72186   & 0.76344953\\\\\n",
       "\tinterest &  1         & 4.8762958  & 57         & 48.84557   & 0.02722799\\\\\n",
       "\\end{tabular}\n"
      ],
      "text/markdown": [
       "\n",
       "| <!--/--> | Df | Deviance | Resid. Df | Resid. Dev | Pr(>Chi) |\n",
       "|---|---|---|---|---|---|\n",
       "| NULL | NA         |        NA  | 62         | 55.13233   |         NA |\n",
       "| definition |  1         | 0.1291661  | 61         | 55.00316   | 0.71929821 |\n",
       "| need |  1         | 0.7414861  | 60         | 54.26168   | 0.38918524 |\n",
       "| purpose |  2         | 0.5398165  | 58         | 53.72186   | 0.76344953 |\n",
       "| interest |  1         | 4.8762958  | 57         | 48.84557   | 0.02722799 |\n",
       "\n"
      ],
      "text/plain": [
       "           Df Deviance  Resid. Df Resid. Dev Pr(>Chi)  \n",
       "NULL       NA        NA 62        55.13233           NA\n",
       "definition  1 0.1291661 61        55.00316   0.71929821\n",
       "need        1 0.7414861 60        54.26168   0.38918524\n",
       "purpose     2 0.5398165 58        53.72186   0.76344953\n",
       "interest    1 4.8762958 57        48.84557   0.02722799"
      ]
     },
     "metadata": {},
     "output_type": "display_data"
    },
    {
     "data": {
      "text/html": [
       "0.583333333333333"
      ],
      "text/latex": [
       "0.583333333333333"
      ],
      "text/markdown": [
       "0.583333333333333"
      ],
      "text/plain": [
       "[1] 0.5833333"
      ]
     },
     "metadata": {},
     "output_type": "display_data"
    },
    {
     "data": {
      "image/png": "[encoded data removed]",
      "text/plain": [
       "plot without title"
      ]
     },
     "metadata": {},
     "output_type": "display_data"
    }
   ],
   "source": [
    "model <- glm(comp3 ~ definition + need + purpose \n",
    "              + interest, data =train, family = binomial)\n",
    "summary(model)\n",
    "\n",
    "\n",
    "anova(model, test=\"Chisq\")\n",
    "\n",
    "\n",
    "p <- predict(model, newdata=test, type=\"response\")\n",
    "pr <- prediction(p, test$comp3)\n",
    "prf <- performance(pr, measure = \"tpr\", x.measure = \"fpr\")\n",
    "plot(prf)\n",
    "\n",
    "auc <- performance(pr, measure = \"auc\")\n",
    "auc <- auc@y.values[[1]]\n",
    "auc"
   ]
  },
  {
   "cell_type": "code",
   "execution_count": 15,
   "metadata": {},
   "outputs": [
    {
     "data": {
      "text/plain": [
       "\n",
       "Call:\n",
       "glm(formula = comp4 ~ definition + need + purpose + interest, \n",
       "    family = binomial, data = train)\n",
       "\n",
       "Deviance Residuals: \n",
       "     Min        1Q    Median        3Q       Max  \n",
       "-1.36680  -0.55632  -0.00006  -0.00003   1.83041  \n",
       "\n",
       "Coefficients:\n",
       "                   Estimate Std. Error z value Pr(>|z|)\n",
       "(Intercept)         -0.8018     2.2867  -0.351    0.726\n",
       "definitionharmony    1.5830     1.2888   1.228    0.219\n",
       "needharmony        -20.3167  2835.2370  -0.007    0.994\n",
       "purposecosmetic     -0.9786     1.4163  -0.691    0.490\n",
       "purposeetc           0.6129     1.3710   0.447    0.655\n",
       "interest            -0.3197     0.5586  -0.572    0.567\n",
       "\n",
       "(Dispersion parameter for binomial family taken to be 1)\n",
       "\n",
       "    Null deviance: 39.626  on 62  degrees of freedom\n",
       "Residual deviance: 26.269  on 57  degrees of freedom\n",
       "AIC: 38.269\n",
       "\n",
       "Number of Fisher Scoring iterations: 19\n"
      ]
     },
     "metadata": {},
     "output_type": "display_data"
    },
    {
     "data": {
      "text/html": [
       "<table>\n",
       "<thead><tr><th></th><th scope=col>Df</th><th scope=col>Deviance</th><th scope=col>Resid. Df</th><th scope=col>Resid. Dev</th><th scope=col>Pr(&gt;Chi)</th></tr></thead>\n",
       "<tbody>\n",
       "\t<tr><th scope=row>NULL</th><td>NA          </td><td>        NA  </td><td>62          </td><td>39.62602    </td><td>          NA</td></tr>\n",
       "\t<tr><th scope=row>definition</th><td> 1          </td><td> 0.6358168  </td><td>61          </td><td>38.99020    </td><td>0.4252296826</td></tr>\n",
       "\t<tr><th scope=row>need</th><td> 1          </td><td>11.3127420  </td><td>60          </td><td>27.67746    </td><td>0.0007697701</td></tr>\n",
       "\t<tr><th scope=row>purpose</th><td> 2          </td><td> 1.0824291  </td><td>58          </td><td>26.59503    </td><td>0.5820409002</td></tr>\n",
       "\t<tr><th scope=row>interest</th><td> 1          </td><td> 0.3263538  </td><td>57          </td><td>26.26868    </td><td>0.5678140249</td></tr>\n",
       "</tbody>\n",
       "</table>\n"
      ],
      "text/latex": [
       "\\begin{tabular}{r|lllll}\n",
       "  & Df & Deviance & Resid. Df & Resid. Dev & Pr(>Chi)\\\\\n",
       "\\hline\n",
       "\tNULL & NA           &         NA   & 62           & 39.62602     &           NA\\\\\n",
       "\tdefinition &  1           &  0.6358168   & 61           & 38.99020     & 0.4252296826\\\\\n",
       "\tneed &  1           & 11.3127420   & 60           & 27.67746     & 0.0007697701\\\\\n",
       "\tpurpose &  2           &  1.0824291   & 58           & 26.59503     & 0.5820409002\\\\\n",
       "\tinterest &  1           &  0.3263538   & 57           & 26.26868     & 0.5678140249\\\\\n",
       "\\end{tabular}\n"
      ],
      "text/markdown": [
       "\n",
       "| <!--/--> | Df | Deviance | Resid. Df | Resid. Dev | Pr(>Chi) |\n",
       "|---|---|---|---|---|---|\n",
       "| NULL | NA           |         NA   | 62           | 39.62602     |           NA |\n",
       "| definition |  1           |  0.6358168   | 61           | 38.99020     | 0.4252296826 |\n",
       "| need |  1           | 11.3127420   | 60           | 27.67746     | 0.0007697701 |\n",
       "| purpose |  2           |  1.0824291   | 58           | 26.59503     | 0.5820409002 |\n",
       "| interest |  1           |  0.3263538   | 57           | 26.26868     | 0.5678140249 |\n",
       "\n"
      ],
      "text/plain": [
       "           Df Deviance   Resid. Df Resid. Dev Pr(>Chi)    \n",
       "NULL       NA         NA 62        39.62602             NA\n",
       "definition  1  0.6358168 61        38.99020   0.4252296826\n",
       "need        1 11.3127420 60        27.67746   0.0007697701\n",
       "purpose     2  1.0824291 58        26.59503   0.5820409002\n",
       "interest    1  0.3263538 57        26.26868   0.5678140249"
      ]
     },
     "metadata": {},
     "output_type": "display_data"
    },
    {
     "data": {
      "text/html": [
       "0.326086956521739"
      ],
      "text/latex": [
       "0.326086956521739"
      ],
      "text/markdown": [
       "0.326086956521739"
      ],
      "text/plain": [
       "[1] 0.326087"
      ]
     },
     "metadata": {},
     "output_type": "display_data"
    },
    {
     "data": {
      "image/png": "[encoded data removed]",
      "text/plain": [
       "plot without title"
      ]
     },
     "metadata": {},
     "output_type": "display_data"
    }
   ],
   "source": [
    "model <- glm(comp4 ~ definition + need + purpose \n",
    "              + interest, data =train, family = binomial)\n",
    "summary(model)\n",
    "\n",
    "\n",
    "anova(model, test=\"Chisq\")\n",
    "\n",
    "\n",
    "p <- predict(model, newdata=test, type=\"response\")\n",
    "pr <- prediction(p, test$comp4)\n",
    "prf <- performance(pr, measure = \"tpr\", x.measure = \"fpr\")\n",
    "plot(prf)\n",
    "\n",
    "auc <- performance(pr, measure = \"auc\")\n",
    "auc <- auc@y.values[[1]]\n",
    "auc"
   ]
  },
  {
   "cell_type": "code",
   "execution_count": 16,
   "metadata": {},
   "outputs": [
    {
     "data": {
      "text/plain": [
       "\n",
       "Call:\n",
       "glm(formula = comp5 ~ definition + need + purpose + interest, \n",
       "    family = binomial, data = train)\n",
       "\n",
       "Deviance Residuals: \n",
       "    Min       1Q   Median       3Q      Max  \n",
       "-0.9561  -0.6980  -0.5950  -0.4851   2.0964  \n",
       "\n",
       "Coefficients:\n",
       "                  Estimate Std. Error z value Pr(>|z|)\n",
       "(Intercept)        -0.1078     1.4328  -0.075    0.940\n",
       "definitionharmony  -0.7404     0.8498  -0.871    0.384\n",
       "needharmony         0.4527     0.8313   0.545    0.586\n",
       "purposecosmetic    -0.1734     0.8690  -0.199    0.842\n",
       "purposeetc         -0.3634     0.7648  -0.475    0.635\n",
       "interest           -0.2645     0.3448  -0.767    0.443\n",
       "\n",
       "(Dispersion parameter for binomial family taken to be 1)\n",
       "\n",
       "    Null deviance: 61.351  on 62  degrees of freedom\n",
       "Residual deviance: 59.953  on 57  degrees of freedom\n",
       "AIC: 71.953\n",
       "\n",
       "Number of Fisher Scoring iterations: 4\n"
      ]
     },
     "metadata": {},
     "output_type": "display_data"
    },
    {
     "data": {
      "text/html": [
       "<table>\n",
       "<thead><tr><th></th><th scope=col>Df</th><th scope=col>Deviance</th><th scope=col>Resid. Df</th><th scope=col>Resid. Dev</th><th scope=col>Pr(&gt;Chi)</th></tr></thead>\n",
       "<tbody>\n",
       "\t<tr><th scope=row>NULL</th><td>NA       </td><td>       NA</td><td>62       </td><td>61.35100 </td><td>       NA</td></tr>\n",
       "\t<tr><th scope=row>definition</th><td> 1       </td><td>0.2911146</td><td>61       </td><td>61.05989 </td><td>0.5895072</td></tr>\n",
       "\t<tr><th scope=row>need</th><td> 1       </td><td>0.2551503</td><td>60       </td><td>60.80474 </td><td>0.6134717</td></tr>\n",
       "\t<tr><th scope=row>purpose</th><td> 2       </td><td>0.2621421</td><td>58       </td><td>60.54259 </td><td>0.8771554</td></tr>\n",
       "\t<tr><th scope=row>interest</th><td> 1       </td><td>0.5897674</td><td>57       </td><td>59.95283 </td><td>0.4425091</td></tr>\n",
       "</tbody>\n",
       "</table>\n"
      ],
      "text/latex": [
       "\\begin{tabular}{r|lllll}\n",
       "  & Df & Deviance & Resid. Df & Resid. Dev & Pr(>Chi)\\\\\n",
       "\\hline\n",
       "\tNULL & NA        &        NA & 62        & 61.35100  &        NA\\\\\n",
       "\tdefinition &  1        & 0.2911146 & 61        & 61.05989  & 0.5895072\\\\\n",
       "\tneed &  1        & 0.2551503 & 60        & 60.80474  & 0.6134717\\\\\n",
       "\tpurpose &  2        & 0.2621421 & 58        & 60.54259  & 0.8771554\\\\\n",
       "\tinterest &  1        & 0.5897674 & 57        & 59.95283  & 0.4425091\\\\\n",
       "\\end{tabular}\n"
      ],
      "text/markdown": [
       "\n",
       "| <!--/--> | Df | Deviance | Resid. Df | Resid. Dev | Pr(>Chi) |\n",
       "|---|---|---|---|---|---|\n",
       "| NULL | NA        |        NA | 62        | 61.35100  |        NA |\n",
       "| definition |  1        | 0.2911146 | 61        | 61.05989  | 0.5895072 |\n",
       "| need |  1        | 0.2551503 | 60        | 60.80474  | 0.6134717 |\n",
       "| purpose |  2        | 0.2621421 | 58        | 60.54259  | 0.8771554 |\n",
       "| interest |  1        | 0.5897674 | 57        | 59.95283  | 0.4425091 |\n",
       "\n"
      ],
      "text/plain": [
       "           Df Deviance  Resid. Df Resid. Dev Pr(>Chi) \n",
       "NULL       NA        NA 62        61.35100          NA\n",
       "definition  1 0.2911146 61        61.05989   0.5895072\n",
       "need        1 0.2551503 60        60.80474   0.6134717\n",
       "purpose     2 0.2621421 58        60.54259   0.8771554\n",
       "interest    1 0.5897674 57        59.95283   0.4425091"
      ]
     },
     "metadata": {},
     "output_type": "display_data"
    },
    {
     "data": {
      "text/html": [
       "0.333333333333333"
      ],
      "text/latex": [
       "0.333333333333333"
      ],
      "text/markdown": [
       "0.333333333333333"
      ],
      "text/plain": [
       "[1] 0.3333333"
      ]
     },
     "metadata": {},
     "output_type": "display_data"
    },
    {
     "data": {
      "image/png": "[encoded data removed]",
      "text/plain": [
       "plot without title"
      ]
     },
     "metadata": {},
     "output_type": "display_data"
    }
   ],
   "source": [
    "model <- glm(comp5 ~ definition + need + purpose \n",
    "              + interest, data =train, family = binomial)\n",
    "summary(model)\n",
    "\n",
    "\n",
    "anova(model, test=\"Chisq\")\n",
    "\n",
    "\n",
    "p <- predict(model, newdata=test, type=\"response\")\n",
    "pr <- prediction(p, test$comp5)\n",
    "prf <- performance(pr, measure = \"tpr\", x.measure = \"fpr\")\n",
    "plot(prf)\n",
    "\n",
    "auc <- performance(pr, measure = \"auc\")\n",
    "auc <- auc@y.values[[1]]\n",
    "auc"
   ]
  },
  {
   "cell_type": "code",
   "execution_count": 17,
   "metadata": {},
   "outputs": [
    {
     "data": {
      "text/plain": [
       "\n",
       "Call:\n",
       "glm(formula = t1_1 ~ definition + need + purpose + interest, \n",
       "    family = binomial, data = train)\n",
       "\n",
       "Deviance Residuals: \n",
       "    Min       1Q   Median       3Q      Max  \n",
       "-0.9737  -0.6163  -0.4421  -0.3265   2.4106  \n",
       "\n",
       "Coefficients:\n",
       "                  Estimate Std. Error z value Pr(>|z|)  \n",
       "(Intercept)        -4.4555     2.0171  -2.209   0.0272 *\n",
       "definitionharmony   0.6394     1.0629   0.602   0.5475  \n",
       "needharmony         0.2083     0.9426   0.221   0.8251  \n",
       "purposecosmetic     1.7098     1.1888   1.438   0.1504  \n",
       "purposeetc          1.0609     1.1774   0.901   0.3676  \n",
       "interest            0.2796     0.4135   0.676   0.4989  \n",
       "---\n",
       "Signif. codes:  0 '***' 0.001 '**' 0.01 '*' 0.05 '.' 0.1 ' ' 1\n",
       "\n",
       "(Dispersion parameter for binomial family taken to be 1)\n",
       "\n",
       "    Null deviance: 51.675  on 62  degrees of freedom\n",
       "Residual deviance: 47.708  on 57  degrees of freedom\n",
       "AIC: 59.708\n",
       "\n",
       "Number of Fisher Scoring iterations: 5\n"
      ]
     },
     "metadata": {},
     "output_type": "display_data"
    },
    {
     "data": {
      "text/html": [
       "<table>\n",
       "<thead><tr><th></th><th scope=col>Df</th><th scope=col>Deviance</th><th scope=col>Resid. Df</th><th scope=col>Resid. Dev</th><th scope=col>Pr(&gt;Chi)</th></tr></thead>\n",
       "<tbody>\n",
       "\t<tr><th scope=row>NULL</th><td>NA        </td><td>        NA</td><td>62        </td><td>51.67466  </td><td>       NA </td></tr>\n",
       "\t<tr><th scope=row>definition</th><td> 1        </td><td>0.79301611</td><td>61        </td><td>50.88164  </td><td>0.3731897 </td></tr>\n",
       "\t<tr><th scope=row>need</th><td> 1        </td><td>0.02384651</td><td>60        </td><td>50.85779  </td><td>0.8772761 </td></tr>\n",
       "\t<tr><th scope=row>purpose</th><td> 2        </td><td>2.67449936</td><td>58        </td><td>48.18329  </td><td>0.2625668 </td></tr>\n",
       "\t<tr><th scope=row>interest</th><td> 1        </td><td>0.47479433</td><td>57        </td><td>47.70850  </td><td>0.4907898 </td></tr>\n",
       "</tbody>\n",
       "</table>\n"
      ],
      "text/latex": [
       "\\begin{tabular}{r|lllll}\n",
       "  & Df & Deviance & Resid. Df & Resid. Dev & Pr(>Chi)\\\\\n",
       "\\hline\n",
       "\tNULL & NA         &         NA & 62         & 51.67466   &        NA \\\\\n",
       "\tdefinition &  1         & 0.79301611 & 61         & 50.88164   & 0.3731897 \\\\\n",
       "\tneed &  1         & 0.02384651 & 60         & 50.85779   & 0.8772761 \\\\\n",
       "\tpurpose &  2         & 2.67449936 & 58         & 48.18329   & 0.2625668 \\\\\n",
       "\tinterest &  1         & 0.47479433 & 57         & 47.70850   & 0.4907898 \\\\\n",
       "\\end{tabular}\n"
      ],
      "text/markdown": [
       "\n",
       "| <!--/--> | Df | Deviance | Resid. Df | Resid. Dev | Pr(>Chi) |\n",
       "|---|---|---|---|---|---|\n",
       "| NULL | NA         |         NA | 62         | 51.67466   |        NA  |\n",
       "| definition |  1         | 0.79301611 | 61         | 50.88164   | 0.3731897  |\n",
       "| need |  1         | 0.02384651 | 60         | 50.85779   | 0.8772761  |\n",
       "| purpose |  2         | 2.67449936 | 58         | 48.18329   | 0.2625668  |\n",
       "| interest |  1         | 0.47479433 | 57         | 47.70850   | 0.4907898  |\n",
       "\n"
      ],
      "text/plain": [
       "           Df Deviance   Resid. Df Resid. Dev Pr(>Chi) \n",
       "NULL       NA         NA 62        51.67466          NA\n",
       "definition  1 0.79301611 61        50.88164   0.3731897\n",
       "need        1 0.02384651 60        50.85779   0.8772761\n",
       "purpose     2 2.67449936 58        48.18329   0.2625668\n",
       "interest    1 0.47479433 57        47.70850   0.4907898"
      ]
     },
     "metadata": {},
     "output_type": "display_data"
    },
    {
     "data": {
      "text/html": [
       "0.504545454545455"
      ],
      "text/latex": [
       "0.504545454545455"
      ],
      "text/markdown": [
       "0.504545454545455"
      ],
      "text/plain": [
       "[1] 0.5045455"
      ]
     },
     "metadata": {},
     "output_type": "display_data"
    },
    {
     "data": {
      "image/png": "[encoded data removed]",
      "text/plain": [
       "plot without title"
      ]
     },
     "metadata": {},
     "output_type": "display_data"
    }
   ],
   "source": [
    "model <- glm(t1_1 ~ definition + need + purpose \n",
    "              + interest, data =train, family = binomial)\n",
    "summary(model)\n",
    "\n",
    "\n",
    "anova(model, test=\"Chisq\")\n",
    "\n",
    "\n",
    "p <- predict(model, newdata=test, type=\"response\")\n",
    "pr <- prediction(p, test$t1_1)\n",
    "prf <- performance(pr, measure = \"tpr\", x.measure = \"fpr\")\n",
    "plot(prf)\n",
    "\n",
    "auc <- performance(pr, measure = \"auc\")\n",
    "auc <- auc@y.values[[1]]\n",
    "auc"
   ]
  },
  {
   "cell_type": "code",
   "execution_count": 18,
   "metadata": {},
   "outputs": [
    {
     "data": {
      "text/plain": [
       "\n",
       "Call:\n",
       "glm(formula = t1_2 ~ definition + need + purpose + interest, \n",
       "    family = binomial, data = train)\n",
       "\n",
       "Deviance Residuals: \n",
       "    Min       1Q   Median       3Q      Max  \n",
       "-1.2047  -0.4557  -0.2235  -0.1386   2.7213  \n",
       "\n",
       "Coefficients:\n",
       "                  Estimate Std. Error z value Pr(>|z|)  \n",
       "(Intercept)         1.4569     2.0305   0.718    0.473  \n",
       "definitionharmony  -3.1625     1.4007  -2.258    0.024 *\n",
       "needharmony         0.8859     1.2558   0.705    0.481  \n",
       "purposecosmetic     0.8650     1.4544   0.595    0.552  \n",
       "purposeetc          1.4650     1.2132   1.208    0.227  \n",
       "interest           -0.9527     0.4840  -1.968    0.049 *\n",
       "---\n",
       "Signif. codes:  0 '***' 0.001 '**' 0.01 '*' 0.05 '.' 0.1 ' ' 1\n",
       "\n",
       "(Dispersion parameter for binomial family taken to be 1)\n",
       "\n",
       "    Null deviance: 51.675  on 62  degrees of freedom\n",
       "Residual deviance: 37.198  on 57  degrees of freedom\n",
       "AIC: 49.198\n",
       "\n",
       "Number of Fisher Scoring iterations: 6\n"
      ]
     },
     "metadata": {},
     "output_type": "display_data"
    },
    {
     "data": {
      "text/html": [
       "<table>\n",
       "<thead><tr><th></th><th scope=col>Df</th><th scope=col>Deviance</th><th scope=col>Resid. Df</th><th scope=col>Resid. Dev</th><th scope=col>Pr(&gt;Chi)</th></tr></thead>\n",
       "<tbody>\n",
       "\t<tr><th scope=row>NULL</th><td>NA         </td><td>        NA </td><td>62         </td><td>51.67466   </td><td>         NA</td></tr>\n",
       "\t<tr><th scope=row>definition</th><td> 1         </td><td>8.17052393 </td><td>61         </td><td>43.50413   </td><td>0.004257661</td></tr>\n",
       "\t<tr><th scope=row>need</th><td> 1         </td><td>0.02670656 </td><td>60         </td><td>43.47743   </td><td>0.870186649</td></tr>\n",
       "\t<tr><th scope=row>purpose</th><td> 2         </td><td>1.52160926 </td><td>58         </td><td>41.95582   </td><td>0.467290281</td></tr>\n",
       "\t<tr><th scope=row>interest</th><td> 1         </td><td>4.75801485 </td><td>57         </td><td>37.19780   </td><td>0.029162164</td></tr>\n",
       "</tbody>\n",
       "</table>\n"
      ],
      "text/latex": [
       "\\begin{tabular}{r|lllll}\n",
       "  & Df & Deviance & Resid. Df & Resid. Dev & Pr(>Chi)\\\\\n",
       "\\hline\n",
       "\tNULL & NA          &         NA  & 62          & 51.67466    &          NA\\\\\n",
       "\tdefinition &  1          & 8.17052393  & 61          & 43.50413    & 0.004257661\\\\\n",
       "\tneed &  1          & 0.02670656  & 60          & 43.47743    & 0.870186649\\\\\n",
       "\tpurpose &  2          & 1.52160926  & 58          & 41.95582    & 0.467290281\\\\\n",
       "\tinterest &  1          & 4.75801485  & 57          & 37.19780    & 0.029162164\\\\\n",
       "\\end{tabular}\n"
      ],
      "text/markdown": [
       "\n",
       "| <!--/--> | Df | Deviance | Resid. Df | Resid. Dev | Pr(>Chi) |\n",
       "|---|---|---|---|---|---|\n",
       "| NULL | NA          |         NA  | 62          | 51.67466    |          NA |\n",
       "| definition |  1          | 8.17052393  | 61          | 43.50413    | 0.004257661 |\n",
       "| need |  1          | 0.02670656  | 60          | 43.47743    | 0.870186649 |\n",
       "| purpose |  2          | 1.52160926  | 58          | 41.95582    | 0.467290281 |\n",
       "| interest |  1          | 4.75801485  | 57          | 37.19780    | 0.029162164 |\n",
       "\n"
      ],
      "text/plain": [
       "           Df Deviance   Resid. Df Resid. Dev Pr(>Chi)   \n",
       "NULL       NA         NA 62        51.67466            NA\n",
       "definition  1 8.17052393 61        43.50413   0.004257661\n",
       "need        1 0.02670656 60        43.47743   0.870186649\n",
       "purpose     2 1.52160926 58        41.95582   0.467290281\n",
       "interest    1 4.75801485 57        37.19780   0.029162164"
      ]
     },
     "metadata": {},
     "output_type": "display_data"
    },
    {
     "data": {
      "text/html": [
       "0.472727272727273"
      ],
      "text/latex": [
       "0.472727272727273"
      ],
      "text/markdown": [
       "0.472727272727273"
      ],
      "text/plain": [
       "[1] 0.4727273"
      ]
     },
     "metadata": {},
     "output_type": "display_data"
    },
    {
     "data": {
      "image/png": "[encoded data removed]",
      "text/plain": [
       "plot without title"
      ]
     },
     "metadata": {},
     "output_type": "display_data"
    }
   ],
   "source": [
    "model <- glm(t1_2 ~ definition + need + purpose \n",
    "              + interest, data =train, family = binomial)\n",
    "summary(model)\n",
    "\n",
    "\n",
    "anova(model, test=\"Chisq\")\n",
    "\n",
    "\n",
    "p <- predict(model, newdata=test, type=\"response\")\n",
    "pr <- prediction(p, test$t1_2)\n",
    "prf <- performance(pr, measure = \"tpr\", x.measure = \"fpr\")\n",
    "plot(prf)\n",
    "\n",
    "auc <- performance(pr, measure = \"auc\")\n",
    "auc <- auc@y.values[[1]]\n",
    "auc"
   ]
  },
  {
   "cell_type": "code",
   "execution_count": 19,
   "metadata": {},
   "outputs": [
    {
     "data": {
      "text/plain": [
       "\n",
       "Call:\n",
       "glm(formula = t1_3 ~ definition + need + purpose + interest, \n",
       "    family = binomial, data = train)\n",
       "\n",
       "Deviance Residuals: \n",
       "    Min       1Q   Median       3Q      Max  \n",
       "-1.1272  -0.6859  -0.5399  -0.4076   2.2492  \n",
       "\n",
       "Coefficients:\n",
       "                   Estimate Std. Error z value Pr(>|z|)\n",
       "(Intercept)        0.007123   1.483567   0.005    0.996\n",
       "definitionharmony -0.316440   0.853371  -0.371    0.711\n",
       "needharmony       -0.015151   0.806438  -0.019    0.985\n",
       "purposecosmetic    0.170926   0.818878   0.209    0.835\n",
       "purposeetc        -0.933059   0.848082  -1.100    0.271\n",
       "interest          -0.297235   0.362676  -0.820    0.412\n",
       "\n",
       "(Dispersion parameter for binomial family taken to be 1)\n",
       "\n",
       "    Null deviance: 58.352  on 62  degrees of freedom\n",
       "Residual deviance: 55.517  on 57  degrees of freedom\n",
       "AIC: 67.517\n",
       "\n",
       "Number of Fisher Scoring iterations: 4\n"
      ]
     },
     "metadata": {},
     "output_type": "display_data"
    },
    {
     "data": {
      "text/html": [
       "<table>\n",
       "<thead><tr><th></th><th scope=col>Df</th><th scope=col>Deviance</th><th scope=col>Resid. Df</th><th scope=col>Resid. Dev</th><th scope=col>Pr(&gt;Chi)</th></tr></thead>\n",
       "<tbody>\n",
       "\t<tr><th scope=row>NULL</th><td>NA        </td><td>        NA</td><td>62        </td><td>58.35193  </td><td>       NA </td></tr>\n",
       "\t<tr><th scope=row>definition</th><td> 1        </td><td>0.01215131</td><td>61        </td><td>58.33978  </td><td>0.9122246 </td></tr>\n",
       "\t<tr><th scope=row>need</th><td> 1        </td><td>0.02443075</td><td>60        </td><td>58.31535  </td><td>0.8757939 </td></tr>\n",
       "\t<tr><th scope=row>purpose</th><td> 2        </td><td>2.12028325</td><td>58        </td><td>56.19507  </td><td>0.3464067 </td></tr>\n",
       "\t<tr><th scope=row>interest</th><td> 1        </td><td>0.67852953</td><td>57        </td><td>55.51654  </td><td>0.4100935 </td></tr>\n",
       "</tbody>\n",
       "</table>\n"
      ],
      "text/latex": [
       "\\begin{tabular}{r|lllll}\n",
       "  & Df & Deviance & Resid. Df & Resid. Dev & Pr(>Chi)\\\\\n",
       "\\hline\n",
       "\tNULL & NA         &         NA & 62         & 58.35193   &        NA \\\\\n",
       "\tdefinition &  1         & 0.01215131 & 61         & 58.33978   & 0.9122246 \\\\\n",
       "\tneed &  1         & 0.02443075 & 60         & 58.31535   & 0.8757939 \\\\\n",
       "\tpurpose &  2         & 2.12028325 & 58         & 56.19507   & 0.3464067 \\\\\n",
       "\tinterest &  1         & 0.67852953 & 57         & 55.51654   & 0.4100935 \\\\\n",
       "\\end{tabular}\n"
      ],
      "text/markdown": [
       "\n",
       "| <!--/--> | Df | Deviance | Resid. Df | Resid. Dev | Pr(>Chi) |\n",
       "|---|---|---|---|---|---|\n",
       "| NULL | NA         |         NA | 62         | 58.35193   |        NA  |\n",
       "| definition |  1         | 0.01215131 | 61         | 58.33978   | 0.9122246  |\n",
       "| need |  1         | 0.02443075 | 60         | 58.31535   | 0.8757939  |\n",
       "| purpose |  2         | 2.12028325 | 58         | 56.19507   | 0.3464067  |\n",
       "| interest |  1         | 0.67852953 | 57         | 55.51654   | 0.4100935  |\n",
       "\n"
      ],
      "text/plain": [
       "           Df Deviance   Resid. Df Resid. Dev Pr(>Chi) \n",
       "NULL       NA         NA 62        58.35193          NA\n",
       "definition  1 0.01215131 61        58.33978   0.9122246\n",
       "need        1 0.02443075 60        58.31535   0.8757939\n",
       "purpose     2 2.12028325 58        56.19507   0.3464067\n",
       "interest    1 0.67852953 57        55.51654   0.4100935"
      ]
     },
     "metadata": {},
     "output_type": "display_data"
    },
    {
     "data": {
      "text/html": [
       "0.1"
      ],
      "text/latex": [
       "0.1"
      ],
      "text/markdown": [
       "0.1"
      ],
      "text/plain": [
       "[1] 0.1"
      ]
     },
     "metadata": {},
     "output_type": "display_data"
    },
    {
     "data": {
      "image/png": "[encoded data removed]",
      "text/plain": [
       "plot without title"
      ]
     },
     "metadata": {},
     "output_type": "display_data"
    }
   ],
   "source": [
    "model <- glm(t1_3 ~ definition + need + purpose \n",
    "              + interest, data =train, family = binomial)\n",
    "summary(model)\n",
    "\n",
    "\n",
    "anova(model, test=\"Chisq\")\n",
    "\n",
    "\n",
    "p <- predict(model, newdata=test, type=\"response\")\n",
    "pr <- prediction(p, test$t1_3)\n",
    "prf <- performance(pr, measure = \"tpr\", x.measure = \"fpr\")\n",
    "plot(prf)\n",
    "\n",
    "auc <- performance(pr, measure = \"auc\")\n",
    "auc <- auc@y.values[[1]]\n",
    "auc"
   ]
  },
  {
   "cell_type": "code",
   "execution_count": 20,
   "metadata": {},
   "outputs": [
    {
     "data": {
      "text/plain": [
       "\n",
       "Call:\n",
       "glm(formula = t1_4 ~ definition + need + purpose + interest, \n",
       "    family = binomial, data = train)\n",
       "\n",
       "Deviance Residuals: \n",
       "    Min       1Q   Median       3Q      Max  \n",
       "-1.3826  -0.9953  -0.7730   1.2140   1.7687  \n",
       "\n",
       "Coefficients:\n",
       "                  Estimate Std. Error z value Pr(>|z|)  \n",
       "(Intercept)       -2.64059    1.37299  -1.923   0.0544 .\n",
       "definitionharmony  0.69928    0.72937   0.959   0.3377  \n",
       "needharmony        0.21593    0.66288   0.326   0.7446  \n",
       "purposecosmetic   -0.42508    0.74887  -0.568   0.5703  \n",
       "purposeetc         0.01048    0.64291   0.016   0.9870  \n",
       "interest           0.43709    0.31102   1.405   0.1599  \n",
       "---\n",
       "Signif. codes:  0 '***' 0.001 '**' 0.01 '*' 0.05 '.' 0.1 ' ' 1\n",
       "\n",
       "(Dispersion parameter for binomial family taken to be 1)\n",
       "\n",
       "    Null deviance: 82.692  on 62  degrees of freedom\n",
       "Residual deviance: 78.759  on 57  degrees of freedom\n",
       "AIC: 90.759\n",
       "\n",
       "Number of Fisher Scoring iterations: 4\n"
      ]
     },
     "metadata": {},
     "output_type": "display_data"
    },
    {
     "data": {
      "text/html": [
       "<table>\n",
       "<thead><tr><th></th><th scope=col>Df</th><th scope=col>Deviance</th><th scope=col>Resid. Df</th><th scope=col>Resid. Dev</th><th scope=col>Pr(&gt;Chi)</th></tr></thead>\n",
       "<tbody>\n",
       "\t<tr><th scope=row>NULL</th><td>NA       </td><td>       NA</td><td>62       </td><td>82.69189 </td><td>       NA</td></tr>\n",
       "\t<tr><th scope=row>definition</th><td> 1       </td><td>1.2728981</td><td>61       </td><td>81.41899 </td><td>0.2592237</td></tr>\n",
       "\t<tr><th scope=row>need</th><td> 1       </td><td>0.1745126</td><td>60       </td><td>81.24447 </td><td>0.6761321</td></tr>\n",
       "\t<tr><th scope=row>purpose</th><td> 2       </td><td>0.3851908</td><td>58       </td><td>80.85928 </td><td>0.8248156</td></tr>\n",
       "\t<tr><th scope=row>interest</th><td> 1       </td><td>2.1000654</td><td>57       </td><td>78.75922 </td><td>0.1472928</td></tr>\n",
       "</tbody>\n",
       "</table>\n"
      ],
      "text/latex": [
       "\\begin{tabular}{r|lllll}\n",
       "  & Df & Deviance & Resid. Df & Resid. Dev & Pr(>Chi)\\\\\n",
       "\\hline\n",
       "\tNULL & NA        &        NA & 62        & 82.69189  &        NA\\\\\n",
       "\tdefinition &  1        & 1.2728981 & 61        & 81.41899  & 0.2592237\\\\\n",
       "\tneed &  1        & 0.1745126 & 60        & 81.24447  & 0.6761321\\\\\n",
       "\tpurpose &  2        & 0.3851908 & 58        & 80.85928  & 0.8248156\\\\\n",
       "\tinterest &  1        & 2.1000654 & 57        & 78.75922  & 0.1472928\\\\\n",
       "\\end{tabular}\n"
      ],
      "text/markdown": [
       "\n",
       "| <!--/--> | Df | Deviance | Resid. Df | Resid. Dev | Pr(>Chi) |\n",
       "|---|---|---|---|---|---|\n",
       "| NULL | NA        |        NA | 62        | 82.69189  |        NA |\n",
       "| definition |  1        | 1.2728981 | 61        | 81.41899  | 0.2592237 |\n",
       "| need |  1        | 0.1745126 | 60        | 81.24447  | 0.6761321 |\n",
       "| purpose |  2        | 0.3851908 | 58        | 80.85928  | 0.8248156 |\n",
       "| interest |  1        | 2.1000654 | 57        | 78.75922  | 0.1472928 |\n",
       "\n"
      ],
      "text/plain": [
       "           Df Deviance  Resid. Df Resid. Dev Pr(>Chi) \n",
       "NULL       NA        NA 62        82.69189          NA\n",
       "definition  1 1.2728981 61        81.41899   0.2592237\n",
       "need        1 0.1745126 60        81.24447   0.6761321\n",
       "purpose     2 0.3851908 58        80.85928   0.8248156\n",
       "interest    1 2.1000654 57        78.75922   0.1472928"
      ]
     },
     "metadata": {},
     "output_type": "display_data"
    },
    {
     "data": {
      "text/html": [
       "0.561111111111111"
      ],
      "text/latex": [
       "0.561111111111111"
      ],
      "text/markdown": [
       "0.561111111111111"
      ],
      "text/plain": [
       "[1] 0.5611111"
      ]
     },
     "metadata": {},
     "output_type": "display_data"
    },
    {
     "data": {
      "image/png": "[encoded data removed]",
      "text/plain": [
       "plot without title"
      ]
     },
     "metadata": {},
     "output_type": "display_data"
    }
   ],
   "source": [
    "model <- glm(t1_4 ~ definition + need + purpose \n",
    "              + interest, data =train, family = binomial)\n",
    "summary(model)\n",
    "\n",
    "\n",
    "anova(model, test=\"Chisq\")\n",
    "\n",
    "\n",
    "p <- predict(model, newdata=test, type=\"response\")\n",
    "pr <- prediction(p, test$t1_4)\n",
    "prf <- performance(pr, measure = \"tpr\", x.measure = \"fpr\")\n",
    "plot(prf)\n",
    "\n",
    "auc <- performance(pr, measure = \"auc\")\n",
    "auc <- auc@y.values[[1]]\n",
    "auc"
   ]
  },
  {
   "cell_type": "code",
   "execution_count": 21,
   "metadata": {},
   "outputs": [
    {
     "data": {
      "text/plain": [
       "\n",
       "Call:\n",
       "glm(formula = t1_5 ~ definition + need + purpose + interest, \n",
       "    family = binomial, data = train)\n",
       "\n",
       "Deviance Residuals: \n",
       "    Min       1Q   Median       3Q      Max  \n",
       "-1.0642  -0.6581  -0.5455  -0.3233   2.1758  \n",
       "\n",
       "Coefficients:\n",
       "                  Estimate Std. Error z value Pr(>|z|)\n",
       "(Intercept)        -1.7427     1.6523  -1.055    0.292\n",
       "definitionharmony   0.9296     0.9471   0.981    0.326\n",
       "needharmony        -0.6547     0.8476  -0.772    0.440\n",
       "purposecosmetic    -1.8612     1.1790  -1.579    0.114\n",
       "purposeetc         -0.4927     0.7513  -0.656    0.512\n",
       "interest            0.1352     0.3867   0.350    0.727\n",
       "\n",
       "(Dispersion parameter for binomial family taken to be 1)\n",
       "\n",
       "    Null deviance: 58.352  on 62  degrees of freedom\n",
       "Residual deviance: 54.273  on 57  degrees of freedom\n",
       "AIC: 66.273\n",
       "\n",
       "Number of Fisher Scoring iterations: 5\n"
      ]
     },
     "metadata": {},
     "output_type": "display_data"
    },
    {
     "data": {
      "text/html": [
       "<table>\n",
       "<thead><tr><th></th><th scope=col>Df</th><th scope=col>Deviance</th><th scope=col>Resid. Df</th><th scope=col>Resid. Dev</th><th scope=col>Pr(&gt;Chi)</th></tr></thead>\n",
       "<tbody>\n",
       "\t<tr><th scope=row>NULL</th><td>NA       </td><td>       NA</td><td>62       </td><td>58.35193 </td><td>       NA</td></tr>\n",
       "\t<tr><th scope=row>definition</th><td> 1       </td><td>0.3540740</td><td>61       </td><td>57.99786 </td><td>0.5518159</td></tr>\n",
       "\t<tr><th scope=row>need</th><td> 1       </td><td>0.4104542</td><td>60       </td><td>57.58740 </td><td>0.5217390</td></tr>\n",
       "\t<tr><th scope=row>purpose</th><td> 2       </td><td>3.1911935</td><td>58       </td><td>54.39621 </td><td>0.2027875</td></tr>\n",
       "\t<tr><th scope=row>interest</th><td> 1       </td><td>0.1231934</td><td>57       </td><td>54.27302 </td><td>0.7255964</td></tr>\n",
       "</tbody>\n",
       "</table>\n"
      ],
      "text/latex": [
       "\\begin{tabular}{r|lllll}\n",
       "  & Df & Deviance & Resid. Df & Resid. Dev & Pr(>Chi)\\\\\n",
       "\\hline\n",
       "\tNULL & NA        &        NA & 62        & 58.35193  &        NA\\\\\n",
       "\tdefinition &  1        & 0.3540740 & 61        & 57.99786  & 0.5518159\\\\\n",
       "\tneed &  1        & 0.4104542 & 60        & 57.58740  & 0.5217390\\\\\n",
       "\tpurpose &  2        & 3.1911935 & 58        & 54.39621  & 0.2027875\\\\\n",
       "\tinterest &  1        & 0.1231934 & 57        & 54.27302  & 0.7255964\\\\\n",
       "\\end{tabular}\n"
      ],
      "text/markdown": [
       "\n",
       "| <!--/--> | Df | Deviance | Resid. Df | Resid. Dev | Pr(>Chi) |\n",
       "|---|---|---|---|---|---|\n",
       "| NULL | NA        |        NA | 62        | 58.35193  |        NA |\n",
       "| definition |  1        | 0.3540740 | 61        | 57.99786  | 0.5518159 |\n",
       "| need |  1        | 0.4104542 | 60        | 57.58740  | 0.5217390 |\n",
       "| purpose |  2        | 3.1911935 | 58        | 54.39621  | 0.2027875 |\n",
       "| interest |  1        | 0.1231934 | 57        | 54.27302  | 0.7255964 |\n",
       "\n"
      ],
      "text/plain": [
       "           Df Deviance  Resid. Df Resid. Dev Pr(>Chi) \n",
       "NULL       NA        NA 62        58.35193          NA\n",
       "definition  1 0.3540740 61        57.99786   0.5518159\n",
       "need        1 0.4104542 60        57.58740   0.5217390\n",
       "purpose     2 3.1911935 58        54.39621   0.2027875\n",
       "interest    1 0.1231934 57        54.27302   0.7255964"
      ]
     },
     "metadata": {},
     "output_type": "display_data"
    },
    {
     "data": {
      "text/html": [
       "0.479166666666667"
      ],
      "text/latex": [
       "0.479166666666667"
      ],
      "text/markdown": [
       "0.479166666666667"
      ],
      "text/plain": [
       "[1] 0.4791667"
      ]
     },
     "metadata": {},
     "output_type": "display_data"
    },
    {
     "data": {
      "image/png": "[encoded data removed]",
      "text/plain": [
       "plot without title"
      ]
     },
     "metadata": {},
     "output_type": "display_data"
    }
   ],
   "source": [
    "model <- glm(t1_5 ~ definition + need + purpose \n",
    "              + interest, data =train, family = binomial)\n",
    "summary(model)\n",
    "\n",
    "\n",
    "anova(model, test=\"Chisq\")\n",
    "\n",
    "\n",
    "p <- predict(model, newdata=test, type=\"response\")\n",
    "pr <- prediction(p, test$t1_5)\n",
    "prf <- performance(pr, measure = \"tpr\", x.measure = \"fpr\")\n",
    "plot(prf)\n",
    "\n",
    "auc <- performance(pr, measure = \"auc\")\n",
    "auc <- auc@y.values[[1]]\n",
    "auc"
   ]
  },
  {
   "cell_type": "code",
   "execution_count": 22,
   "metadata": {},
   "outputs": [
    {
     "data": {
      "text/plain": [
       "\n",
       "Call:\n",
       "glm(formula = t2_1 ~ definition + need + purpose + interest, \n",
       "    family = binomial, data = train)\n",
       "\n",
       "Deviance Residuals: \n",
       "    Min       1Q   Median       3Q      Max  \n",
       "-1.1845  -0.7837  -0.6583   0.3937   1.9196  \n",
       "\n",
       "Coefficients:\n",
       "                  Estimate Std. Error z value Pr(>|z|)\n",
       "(Intercept)         0.4401     1.3277   0.331    0.740\n",
       "definitionharmony  -0.2133     0.7597  -0.281    0.779\n",
       "needharmony        -0.6477     0.7240  -0.895    0.371\n",
       "purposecosmetic    -0.1724     0.7987  -0.216    0.829\n",
       "purposeetc         -0.2454     0.7100  -0.346    0.730\n",
       "interest           -0.2509     0.3164  -0.793    0.428\n",
       "\n",
       "(Dispersion parameter for binomial family taken to be 1)\n",
       "\n",
       "    Null deviance: 71.398  on 62  degrees of freedom\n",
       "Residual deviance: 69.030  on 57  degrees of freedom\n",
       "AIC: 81.03\n",
       "\n",
       "Number of Fisher Scoring iterations: 4\n"
      ]
     },
     "metadata": {},
     "output_type": "display_data"
    },
    {
     "data": {
      "text/html": [
       "<table>\n",
       "<thead><tr><th></th><th scope=col>Df</th><th scope=col>Deviance</th><th scope=col>Resid. Df</th><th scope=col>Resid. Dev</th><th scope=col>Pr(&gt;Chi)</th></tr></thead>\n",
       "<tbody>\n",
       "\t<tr><th scope=row>NULL</th><td>NA       </td><td>       NA</td><td>62       </td><td>71.39826 </td><td>       NA</td></tr>\n",
       "\t<tr><th scope=row>definition</th><td> 1       </td><td>0.7208727</td><td>61       </td><td>70.67739 </td><td>0.3958578</td></tr>\n",
       "\t<tr><th scope=row>need</th><td> 1       </td><td>0.8642273</td><td>60       </td><td>69.81316 </td><td>0.3525584</td></tr>\n",
       "\t<tr><th scope=row>purpose</th><td> 2       </td><td>0.1480980</td><td>58       </td><td>69.66506 </td><td>0.9286262</td></tr>\n",
       "\t<tr><th scope=row>interest</th><td> 1       </td><td>0.6346344</td><td>57       </td><td>69.03043 </td><td>0.4256605</td></tr>\n",
       "</tbody>\n",
       "</table>\n"
      ],
      "text/latex": [
       "\\begin{tabular}{r|lllll}\n",
       "  & Df & Deviance & Resid. Df & Resid. Dev & Pr(>Chi)\\\\\n",
       "\\hline\n",
       "\tNULL & NA        &        NA & 62        & 71.39826  &        NA\\\\\n",
       "\tdefinition &  1        & 0.7208727 & 61        & 70.67739  & 0.3958578\\\\\n",
       "\tneed &  1        & 0.8642273 & 60        & 69.81316  & 0.3525584\\\\\n",
       "\tpurpose &  2        & 0.1480980 & 58        & 69.66506  & 0.9286262\\\\\n",
       "\tinterest &  1        & 0.6346344 & 57        & 69.03043  & 0.4256605\\\\\n",
       "\\end{tabular}\n"
      ],
      "text/markdown": [
       "\n",
       "| <!--/--> | Df | Deviance | Resid. Df | Resid. Dev | Pr(>Chi) |\n",
       "|---|---|---|---|---|---|\n",
       "| NULL | NA        |        NA | 62        | 71.39826  |        NA |\n",
       "| definition |  1        | 0.7208727 | 61        | 70.67739  | 0.3958578 |\n",
       "| need |  1        | 0.8642273 | 60        | 69.81316  | 0.3525584 |\n",
       "| purpose |  2        | 0.1480980 | 58        | 69.66506  | 0.9286262 |\n",
       "| interest |  1        | 0.6346344 | 57        | 69.03043  | 0.4256605 |\n",
       "\n"
      ],
      "text/plain": [
       "           Df Deviance  Resid. Df Resid. Dev Pr(>Chi) \n",
       "NULL       NA        NA 62        71.39826          NA\n",
       "definition  1 0.7208727 61        70.67739   0.3958578\n",
       "need        1 0.8642273 60        69.81316   0.3525584\n",
       "purpose     2 0.1480980 58        69.66506   0.9286262\n",
       "interest    1 0.6346344 57        69.03043   0.4256605"
      ]
     },
     "metadata": {},
     "output_type": "display_data"
    },
    {
     "data": {
      "text/html": [
       "0.601851851851852"
      ],
      "text/latex": [
       "0.601851851851852"
      ],
      "text/markdown": [
       "0.601851851851852"
      ],
      "text/plain": [
       "[1] 0.6018519"
      ]
     },
     "metadata": {},
     "output_type": "display_data"
    },
    {
     "data": {
      "image/png": "[encoded data removed]",
      "text/plain": [
       "plot without title"
      ]
     },
     "metadata": {},
     "output_type": "display_data"
    }
   ],
   "source": [
    "model <- glm(t2_1 ~ definition + need + purpose \n",
    "              + interest, data =train, family = binomial)\n",
    "summary(model)\n",
    "\n",
    "\n",
    "anova(model, test=\"Chisq\")\n",
    "\n",
    "\n",
    "p <- predict(model, newdata=test, type=\"response\")\n",
    "pr <- prediction(p, test$t2_1)\n",
    "prf <- performance(pr, measure = \"tpr\", x.measure = \"fpr\")\n",
    "plot(prf)\n",
    "\n",
    "auc <- performance(pr, measure = \"auc\")\n",
    "auc <- auc@y.values[[1]]\n",
    "auc"
   ]
  },
  {
   "cell_type": "code",
   "execution_count": 23,
   "metadata": {},
   "outputs": [
    {
     "data": {
      "text/plain": [
       "\n",
       "Call:\n",
       "glm(formula = t2_2 ~ definition + need + purpose + interest, \n",
       "    family = binomial, data = train)\n",
       "\n",
       "Deviance Residuals: \n",
       "    Min       1Q   Median       3Q      Max  \n",
       "-1.2127  -0.8735  -0.6244   1.1139   2.2983  \n",
       "\n",
       "Coefficients:\n",
       "                  Estimate Std. Error z value Pr(>|z|)\n",
       "(Intercept)       -0.02211    1.32053  -0.017    0.987\n",
       "definitionharmony  0.21795    0.78786   0.277    0.782\n",
       "needharmony        0.81305    0.73531   1.106    0.269\n",
       "purposecosmetic    0.25622    0.74559   0.344    0.731\n",
       "purposeetc        -0.57422    0.70418  -0.815    0.415\n",
       "interest          -0.39416    0.31603  -1.247    0.212\n",
       "\n",
       "(Dispersion parameter for binomial family taken to be 1)\n",
       "\n",
       "    Null deviance: 75.382  on 62  degrees of freedom\n",
       "Residual deviance: 69.534  on 57  degrees of freedom\n",
       "AIC: 81.534\n",
       "\n",
       "Number of Fisher Scoring iterations: 4\n"
      ]
     },
     "metadata": {},
     "output_type": "display_data"
    },
    {
     "data": {
      "text/html": [
       "<table>\n",
       "<thead><tr><th></th><th scope=col>Df</th><th scope=col>Deviance</th><th scope=col>Resid. Df</th><th scope=col>Resid. Dev</th><th scope=col>Pr(&gt;Chi)</th></tr></thead>\n",
       "<tbody>\n",
       "\t<tr><th scope=row>NULL</th><td>NA       </td><td>       NA</td><td>62       </td><td>75.38197 </td><td>       NA</td></tr>\n",
       "\t<tr><th scope=row>definition</th><td> 1       </td><td>1.8757249</td><td>61       </td><td>73.50624 </td><td>0.1708208</td></tr>\n",
       "\t<tr><th scope=row>need</th><td> 1       </td><td>0.8910608</td><td>60       </td><td>72.61518 </td><td>0.3451900</td></tr>\n",
       "\t<tr><th scope=row>purpose</th><td> 2       </td><td>1.4898827</td><td>58       </td><td>71.12530 </td><td>0.4747621</td></tr>\n",
       "\t<tr><th scope=row>interest</th><td> 1       </td><td>1.5916529</td><td>57       </td><td>69.53365 </td><td>0.2070901</td></tr>\n",
       "</tbody>\n",
       "</table>\n"
      ],
      "text/latex": [
       "\\begin{tabular}{r|lllll}\n",
       "  & Df & Deviance & Resid. Df & Resid. Dev & Pr(>Chi)\\\\\n",
       "\\hline\n",
       "\tNULL & NA        &        NA & 62        & 75.38197  &        NA\\\\\n",
       "\tdefinition &  1        & 1.8757249 & 61        & 73.50624  & 0.1708208\\\\\n",
       "\tneed &  1        & 0.8910608 & 60        & 72.61518  & 0.3451900\\\\\n",
       "\tpurpose &  2        & 1.4898827 & 58        & 71.12530  & 0.4747621\\\\\n",
       "\tinterest &  1        & 1.5916529 & 57        & 69.53365  & 0.2070901\\\\\n",
       "\\end{tabular}\n"
      ],
      "text/markdown": [
       "\n",
       "| <!--/--> | Df | Deviance | Resid. Df | Resid. Dev | Pr(>Chi) |\n",
       "|---|---|---|---|---|---|\n",
       "| NULL | NA        |        NA | 62        | 75.38197  |        NA |\n",
       "| definition |  1        | 1.8757249 | 61        | 73.50624  | 0.1708208 |\n",
       "| need |  1        | 0.8910608 | 60        | 72.61518  | 0.3451900 |\n",
       "| purpose |  2        | 1.4898827 | 58        | 71.12530  | 0.4747621 |\n",
       "| interest |  1        | 1.5916529 | 57        | 69.53365  | 0.2070901 |\n",
       "\n"
      ],
      "text/plain": [
       "           Df Deviance  Resid. Df Resid. Dev Pr(>Chi) \n",
       "NULL       NA        NA 62        75.38197          NA\n",
       "definition  1 1.8757249 61        73.50624   0.1708208\n",
       "need        1 0.8910608 60        72.61518   0.3451900\n",
       "purpose     2 1.4898827 58        71.12530   0.4747621\n",
       "interest    1 1.5916529 57        69.53365   0.2070901"
      ]
     },
     "metadata": {},
     "output_type": "display_data"
    },
    {
     "data": {
      "text/html": [
       "0.456521739130435"
      ],
      "text/latex": [
       "0.456521739130435"
      ],
      "text/markdown": [
       "0.456521739130435"
      ],
      "text/plain": [
       "[1] 0.4565217"
      ]
     },
     "metadata": {},
     "output_type": "display_data"
    },
    {
     "data": {
      "image/png": "[encoded data removed]",
      "text/plain": [
       "plot without title"
      ]
     },
     "metadata": {},
     "output_type": "display_data"
    }
   ],
   "source": [
    "model <- glm(t2_2 ~ definition + need + purpose \n",
    "              + interest, data =train, family = binomial)\n",
    "summary(model)\n",
    "\n",
    "\n",
    "anova(model, test=\"Chisq\")\n",
    "\n",
    "\n",
    "p <- predict(model, newdata=test, type=\"response\")\n",
    "pr <- prediction(p, test$t2_2)\n",
    "prf <- performance(pr, measure = \"tpr\", x.measure = \"fpr\")\n",
    "plot(prf)\n",
    "\n",
    "auc <- performance(pr, measure = \"auc\")\n",
    "auc <- auc@y.values[[1]]\n",
    "auc"
   ]
  },
  {
   "cell_type": "code",
   "execution_count": 24,
   "metadata": {},
   "outputs": [
    {
     "data": {
      "text/plain": [
       "\n",
       "Call:\n",
       "glm(formula = t2_3 ~ definition + need + purpose + interest, \n",
       "    family = binomial, data = train)\n",
       "\n",
       "Deviance Residuals: \n",
       "    Min       1Q   Median       3Q      Max  \n",
       "-1.0886  -0.6914  -0.5592  -0.3489   2.3004  \n",
       "\n",
       "Coefficients:\n",
       "                  Estimate Std. Error z value Pr(>|z|)\n",
       "(Intercept)        -2.5300     1.6514  -1.532    0.126\n",
       "definitionharmony  -1.0297     0.9182  -1.121    0.262\n",
       "needharmony         0.9992     0.9270   1.078    0.281\n",
       "purposecosmetic    -0.2707     1.0161  -0.266    0.790\n",
       "purposeetc          0.1964     0.8125   0.242    0.809\n",
       "interest            0.2637     0.3785   0.697    0.486\n",
       "\n",
       "(Dispersion parameter for binomial family taken to be 1)\n",
       "\n",
       "    Null deviance: 58.352  on 62  degrees of freedom\n",
       "Residual deviance: 55.477  on 57  degrees of freedom\n",
       "AIC: 67.477\n",
       "\n",
       "Number of Fisher Scoring iterations: 4\n"
      ]
     },
     "metadata": {},
     "output_type": "display_data"
    },
    {
     "data": {
      "text/html": [
       "<table>\n",
       "<thead><tr><th></th><th scope=col>Df</th><th scope=col>Deviance</th><th scope=col>Resid. Df</th><th scope=col>Resid. Dev</th><th scope=col>Pr(&gt;Chi)</th></tr></thead>\n",
       "<tbody>\n",
       "\t<tr><th scope=row>NULL</th><td>NA       </td><td>       NA</td><td>62       </td><td>58.35193 </td><td>       NA</td></tr>\n",
       "\t<tr><th scope=row>definition</th><td> 1       </td><td>0.6322661</td><td>61       </td><td>57.71967 </td><td>0.4265253</td></tr>\n",
       "\t<tr><th scope=row>need</th><td> 1       </td><td>1.4314234</td><td>60       </td><td>56.28824 </td><td>0.2315323</td></tr>\n",
       "\t<tr><th scope=row>purpose</th><td> 2       </td><td>0.3120782</td><td>58       </td><td>55.97617 </td><td>0.8555257</td></tr>\n",
       "\t<tr><th scope=row>interest</th><td> 1       </td><td>0.4992205</td><td>57       </td><td>55.47694 </td><td>0.4798428</td></tr>\n",
       "</tbody>\n",
       "</table>\n"
      ],
      "text/latex": [
       "\\begin{tabular}{r|lllll}\n",
       "  & Df & Deviance & Resid. Df & Resid. Dev & Pr(>Chi)\\\\\n",
       "\\hline\n",
       "\tNULL & NA        &        NA & 62        & 58.35193  &        NA\\\\\n",
       "\tdefinition &  1        & 0.6322661 & 61        & 57.71967  & 0.4265253\\\\\n",
       "\tneed &  1        & 1.4314234 & 60        & 56.28824  & 0.2315323\\\\\n",
       "\tpurpose &  2        & 0.3120782 & 58        & 55.97617  & 0.8555257\\\\\n",
       "\tinterest &  1        & 0.4992205 & 57        & 55.47694  & 0.4798428\\\\\n",
       "\\end{tabular}\n"
      ],
      "text/markdown": [
       "\n",
       "| <!--/--> | Df | Deviance | Resid. Df | Resid. Dev | Pr(>Chi) |\n",
       "|---|---|---|---|---|---|\n",
       "| NULL | NA        |        NA | 62        | 58.35193  |        NA |\n",
       "| definition |  1        | 0.6322661 | 61        | 57.71967  | 0.4265253 |\n",
       "| need |  1        | 1.4314234 | 60        | 56.28824  | 0.2315323 |\n",
       "| purpose |  2        | 0.3120782 | 58        | 55.97617  | 0.8555257 |\n",
       "| interest |  1        | 0.4992205 | 57        | 55.47694  | 0.4798428 |\n",
       "\n"
      ],
      "text/plain": [
       "           Df Deviance  Resid. Df Resid. Dev Pr(>Chi) \n",
       "NULL       NA        NA 62        58.35193          NA\n",
       "definition  1 0.6322661 61        57.71967   0.4265253\n",
       "need        1 1.4314234 60        56.28824   0.2315323\n",
       "purpose     2 0.3120782 58        55.97617   0.8555257\n",
       "interest    1 0.4992205 57        55.47694   0.4798428"
      ]
     },
     "metadata": {},
     "output_type": "display_data"
    },
    {
     "data": {
      "text/html": [
       "0.586363636363636"
      ],
      "text/latex": [
       "0.586363636363636"
      ],
      "text/markdown": [
       "0.586363636363636"
      ],
      "text/plain": [
       "[1] 0.5863636"
      ]
     },
     "metadata": {},
     "output_type": "display_data"
    },
    {
     "data": {
      "image/png": "[encoded data removed]",
      "text/plain": [
       "plot without title"
      ]
     },
     "metadata": {},
     "output_type": "display_data"
    }
   ],
   "source": [
    "model <- glm(t2_3 ~ definition + need + purpose \n",
    "              + interest, data =train, family = binomial)\n",
    "summary(model)\n",
    "\n",
    "\n",
    "anova(model, test=\"Chisq\")\n",
    "\n",
    "\n",
    "p <- predict(model, newdata=test, type=\"response\")\n",
    "pr <- prediction(p, test$t2_3)\n",
    "prf <- performance(pr, measure = \"tpr\", x.measure = \"fpr\")\n",
    "plot(prf)\n",
    "\n",
    "auc <- performance(pr, measure = \"auc\")\n",
    "auc <- auc@y.values[[1]]\n",
    "auc"
   ]
  },
  {
   "cell_type": "code",
   "execution_count": 25,
   "metadata": {},
   "outputs": [
    {
     "data": {
      "text/plain": [
       "\n",
       "Call:\n",
       "glm(formula = t2_4 ~ definition + need + purpose + interest, \n",
       "    family = binomial, data = train)\n",
       "\n",
       "Deviance Residuals: \n",
       "    Min       1Q   Median       3Q      Max  \n",
       "-1.0024  -0.6112  -0.5577  -0.4971   2.0333  \n",
       "\n",
       "Coefficients:\n",
       "                  Estimate Std. Error z value Pr(>|z|)\n",
       "(Intercept)       -2.19409    1.63642  -1.341    0.180\n",
       "definitionharmony  1.23691    0.95434   1.296    0.195\n",
       "needharmony       -1.21712    0.83843  -1.452    0.147\n",
       "purposecosmetic    0.06877    0.93376   0.074    0.941\n",
       "purposeetc         0.28807    0.86535   0.333    0.739\n",
       "interest           0.08079    0.37447   0.216    0.829\n",
       "\n",
       "(Dispersion parameter for binomial family taken to be 1)\n",
       "\n",
       "    Null deviance: 58.352  on 62  degrees of freedom\n",
       "Residual deviance: 55.736  on 57  degrees of freedom\n",
       "AIC: 67.736\n",
       "\n",
       "Number of Fisher Scoring iterations: 4\n"
      ]
     },
     "metadata": {},
     "output_type": "display_data"
    },
    {
     "data": {
      "text/html": [
       "<table>\n",
       "<thead><tr><th></th><th scope=col>Df</th><th scope=col>Deviance</th><th scope=col>Resid. Df</th><th scope=col>Resid. Dev</th><th scope=col>Pr(&gt;Chi)</th></tr></thead>\n",
       "<tbody>\n",
       "\t<tr><th scope=row>NULL</th><td>NA        </td><td>        NA</td><td>62        </td><td>58.35193  </td><td>       NA </td></tr>\n",
       "\t<tr><th scope=row>definition</th><td> 1        </td><td>0.35407404</td><td>61        </td><td>57.99786  </td><td>0.5518159 </td></tr>\n",
       "\t<tr><th scope=row>need</th><td> 1        </td><td>2.07946538</td><td>60        </td><td>55.91839  </td><td>0.1492925 </td></tr>\n",
       "\t<tr><th scope=row>purpose</th><td> 2        </td><td>0.13595464</td><td>58        </td><td>55.78244  </td><td>0.9342817 </td></tr>\n",
       "\t<tr><th scope=row>interest</th><td> 1        </td><td>0.04682233</td><td>57        </td><td>55.73562  </td><td>0.8286879 </td></tr>\n",
       "</tbody>\n",
       "</table>\n"
      ],
      "text/latex": [
       "\\begin{tabular}{r|lllll}\n",
       "  & Df & Deviance & Resid. Df & Resid. Dev & Pr(>Chi)\\\\\n",
       "\\hline\n",
       "\tNULL & NA         &         NA & 62         & 58.35193   &        NA \\\\\n",
       "\tdefinition &  1         & 0.35407404 & 61         & 57.99786   & 0.5518159 \\\\\n",
       "\tneed &  1         & 2.07946538 & 60         & 55.91839   & 0.1492925 \\\\\n",
       "\tpurpose &  2         & 0.13595464 & 58         & 55.78244   & 0.9342817 \\\\\n",
       "\tinterest &  1         & 0.04682233 & 57         & 55.73562   & 0.8286879 \\\\\n",
       "\\end{tabular}\n"
      ],
      "text/markdown": [
       "\n",
       "| <!--/--> | Df | Deviance | Resid. Df | Resid. Dev | Pr(>Chi) |\n",
       "|---|---|---|---|---|---|\n",
       "| NULL | NA         |         NA | 62         | 58.35193   |        NA  |\n",
       "| definition |  1         | 0.35407404 | 61         | 57.99786   | 0.5518159  |\n",
       "| need |  1         | 2.07946538 | 60         | 55.91839   | 0.1492925  |\n",
       "| purpose |  2         | 0.13595464 | 58         | 55.78244   | 0.9342817  |\n",
       "| interest |  1         | 0.04682233 | 57         | 55.73562   | 0.8286879  |\n",
       "\n"
      ],
      "text/plain": [
       "           Df Deviance   Resid. Df Resid. Dev Pr(>Chi) \n",
       "NULL       NA         NA 62        58.35193          NA\n",
       "definition  1 0.35407404 61        57.99786   0.5518159\n",
       "need        1 2.07946538 60        55.91839   0.1492925\n",
       "purpose     2 0.13595464 58        55.78244   0.9342817\n",
       "interest    1 0.04682233 57        55.73562   0.8286879"
      ]
     },
     "metadata": {},
     "output_type": "display_data"
    },
    {
     "data": {
      "text/html": [
       "0.222222222222222"
      ],
      "text/latex": [
       "0.222222222222222"
      ],
      "text/markdown": [
       "0.222222222222222"
      ],
      "text/plain": [
       "[1] 0.2222222"
      ]
     },
     "metadata": {},
     "output_type": "display_data"
    },
    {
     "data": {
      "image/png": "[encoded data removed]",
      "text/plain": [
       "plot without title"
      ]
     },
     "metadata": {},
     "output_type": "display_data"
    }
   ],
   "source": [
    "model <- glm(t2_4 ~ definition + need + purpose \n",
    "              + interest, data =train, family = binomial)\n",
    "summary(model)\n",
    "\n",
    "\n",
    "anova(model, test=\"Chisq\")\n",
    "\n",
    "\n",
    "p <- predict(model, newdata=test, type=\"response\")\n",
    "pr <- prediction(p, test$t2_4)\n",
    "prf <- performance(pr, measure = \"tpr\", x.measure = \"fpr\")\n",
    "plot(prf)\n",
    "\n",
    "auc <- performance(pr, measure = \"auc\")\n",
    "auc <- auc@y.values[[1]]\n",
    "auc"
   ]
  },
  {
   "cell_type": "code",
   "execution_count": 26,
   "metadata": {},
   "outputs": [
    {
     "data": {
      "text/plain": [
       "\n",
       "Call:\n",
       "glm(formula = t2_5 ~ definition + need + purpose + interest, \n",
       "    family = binomial, data = train)\n",
       "\n",
       "Deviance Residuals: \n",
       "    Min       1Q   Median       3Q      Max  \n",
       "-0.9119  -0.5180  -0.3619  -0.2594   2.6435  \n",
       "\n",
       "Coefficients:\n",
       "                  Estimate Std. Error z value Pr(>|z|)  \n",
       "(Intercept)       -5.77420    2.42966  -2.377   0.0175 *\n",
       "definitionharmony -0.11460    1.16862  -0.098   0.9219  \n",
       "needharmony        0.20316    1.14275   0.178   0.8589  \n",
       "purposecosmetic    0.07433    1.48431   0.050   0.9601  \n",
       "purposeetc         1.17172    1.16696   1.004   0.3153  \n",
       "interest           0.77030    0.50943   1.512   0.1305  \n",
       "---\n",
       "Signif. codes:  0 '***' 0.001 '**' 0.01 '*' 0.05 '.' 0.1 ' ' 1\n",
       "\n",
       "(Dispersion parameter for binomial family taken to be 1)\n",
       "\n",
       "    Null deviance: 43.953  on 62  degrees of freedom\n",
       "Residual deviance: 39.152  on 57  degrees of freedom\n",
       "AIC: 51.152\n",
       "\n",
       "Number of Fisher Scoring iterations: 5\n"
      ]
     },
     "metadata": {},
     "output_type": "display_data"
    },
    {
     "data": {
      "text/html": [
       "<table>\n",
       "<thead><tr><th></th><th scope=col>Df</th><th scope=col>Deviance</th><th scope=col>Resid. Df</th><th scope=col>Resid. Dev</th><th scope=col>Pr(&gt;Chi)</th></tr></thead>\n",
       "<tbody>\n",
       "\t<tr><th scope=row>NULL</th><td>NA       </td><td>       NA</td><td>62       </td><td>43.95284 </td><td>       NA</td></tr>\n",
       "\t<tr><th scope=row>definition</th><td> 1       </td><td>0.2127020</td><td>61       </td><td>43.74014 </td><td>0.6446578</td></tr>\n",
       "\t<tr><th scope=row>need</th><td> 1       </td><td>0.1115388</td><td>60       </td><td>43.62860 </td><td>0.7383990</td></tr>\n",
       "\t<tr><th scope=row>purpose</th><td> 2       </td><td>1.8732974</td><td>58       </td><td>41.75531 </td><td>0.3919391</td></tr>\n",
       "\t<tr><th scope=row>interest</th><td> 1       </td><td>2.6032380</td><td>57       </td><td>39.15207 </td><td>0.1066456</td></tr>\n",
       "</tbody>\n",
       "</table>\n"
      ],
      "text/latex": [
       "\\begin{tabular}{r|lllll}\n",
       "  & Df & Deviance & Resid. Df & Resid. Dev & Pr(>Chi)\\\\\n",
       "\\hline\n",
       "\tNULL & NA        &        NA & 62        & 43.95284  &        NA\\\\\n",
       "\tdefinition &  1        & 0.2127020 & 61        & 43.74014  & 0.6446578\\\\\n",
       "\tneed &  1        & 0.1115388 & 60        & 43.62860  & 0.7383990\\\\\n",
       "\tpurpose &  2        & 1.8732974 & 58        & 41.75531  & 0.3919391\\\\\n",
       "\tinterest &  1        & 2.6032380 & 57        & 39.15207  & 0.1066456\\\\\n",
       "\\end{tabular}\n"
      ],
      "text/markdown": [
       "\n",
       "| <!--/--> | Df | Deviance | Resid. Df | Resid. Dev | Pr(>Chi) |\n",
       "|---|---|---|---|---|---|\n",
       "| NULL | NA        |        NA | 62        | 43.95284  |        NA |\n",
       "| definition |  1        | 0.2127020 | 61        | 43.74014  | 0.6446578 |\n",
       "| need |  1        | 0.1115388 | 60        | 43.62860  | 0.7383990 |\n",
       "| purpose |  2        | 1.8732974 | 58        | 41.75531  | 0.3919391 |\n",
       "| interest |  1        | 2.6032380 | 57        | 39.15207  | 0.1066456 |\n",
       "\n"
      ],
      "text/plain": [
       "           Df Deviance  Resid. Df Resid. Dev Pr(>Chi) \n",
       "NULL       NA        NA 62        43.95284          NA\n",
       "definition  1 0.2127020 61        43.74014   0.6446578\n",
       "need        1 0.1115388 60        43.62860   0.7383990\n",
       "purpose     2 1.8732974 58        41.75531   0.3919391\n",
       "interest    1 2.6032380 57        39.15207   0.1066456"
      ]
     },
     "metadata": {},
     "output_type": "display_data"
    },
    {
     "data": {
      "text/html": [
       "0.634920634920635"
      ],
      "text/latex": [
       "0.634920634920635"
      ],
      "text/markdown": [
       "0.634920634920635"
      ],
      "text/plain": [
       "[1] 0.6349206"
      ]
     },
     "metadata": {},
     "output_type": "display_data"
    },
    {
     "data": {
      "image/png": "[encoded data removed]",
      "text/plain": [
       "plot without title"
      ]
     },
     "metadata": {},
     "output_type": "display_data"
    }
   ],
   "source": [
    "model <- glm(t2_5 ~ definition + need + purpose \n",
    "              + interest, data =train, family = binomial)\n",
    "summary(model)\n",
    "\n",
    "\n",
    "anova(model, test=\"Chisq\")\n",
    "\n",
    "\n",
    "p <- predict(model, newdata=test, type=\"response\")\n",
    "pr <- prediction(p, test$t2_5)\n",
    "prf <- performance(pr, measure = \"tpr\", x.measure = \"fpr\")\n",
    "plot(prf)\n",
    "\n",
    "auc <- performance(pr, measure = \"auc\")\n",
    "auc <- auc@y.values[[1]]\n",
    "auc"
   ]
  },
  {
   "cell_type": "code",
   "execution_count": 27,
   "metadata": {},
   "outputs": [
    {
     "data": {
      "text/plain": [
       "\n",
       "Call:\n",
       "glm(formula = d1_1 ~ definition + need + purpose + interest, \n",
       "    family = binomial, data = train)\n",
       "\n",
       "Deviance Residuals: \n",
       "    Min       1Q   Median       3Q      Max  \n",
       "-0.8892  -0.7698  -0.7015  -0.5422   1.9498  \n",
       "\n",
       "Coefficients:\n",
       "                    Estimate Std. Error z value Pr(>|z|)\n",
       "(Intercept)       -1.022e+00  1.380e+00  -0.740    0.459\n",
       "definitionharmony  2.119e-01  7.973e-01   0.266    0.790\n",
       "needharmony       -6.745e-01  7.532e-01  -0.896    0.370\n",
       "purposecosmetic   -2.552e-01  8.645e-01  -0.295    0.768\n",
       "purposeetc         2.975e-01  7.266e-01   0.409    0.682\n",
       "interest           7.635e-05  3.222e-01   0.000    1.000\n",
       "\n",
       "(Dispersion parameter for binomial family taken to be 1)\n",
       "\n",
       "    Null deviance: 69.158  on 62  degrees of freedom\n",
       "Residual deviance: 67.747  on 57  degrees of freedom\n",
       "AIC: 79.747\n",
       "\n",
       "Number of Fisher Scoring iterations: 4\n"
      ]
     },
     "metadata": {},
     "output_type": "display_data"
    },
    {
     "data": {
      "text/html": [
       "<table>\n",
       "<thead><tr><th></th><th scope=col>Df</th><th scope=col>Deviance</th><th scope=col>Resid. Df</th><th scope=col>Resid. Dev</th><th scope=col>Pr(&gt;Chi)</th></tr></thead>\n",
       "<tbody>\n",
       "\t<tr><th scope=row>NULL</th><td>NA          </td><td>          NA</td><td>62          </td><td>69.15817    </td><td>       NA   </td></tr>\n",
       "\t<tr><th scope=row>definition</th><td> 1          </td><td>2.204879e-01</td><td>61          </td><td>68.93768    </td><td>0.6386684   </td></tr>\n",
       "\t<tr><th scope=row>need</th><td> 1          </td><td>6.616125e-01</td><td>60          </td><td>68.27607    </td><td>0.4159913   </td></tr>\n",
       "\t<tr><th scope=row>purpose</th><td> 2          </td><td>5.288819e-01</td><td>58          </td><td>67.74719    </td><td>0.7676350   </td></tr>\n",
       "\t<tr><th scope=row>interest</th><td> 1          </td><td>5.615459e-08</td><td>57          </td><td>67.74719    </td><td>0.9998109   </td></tr>\n",
       "</tbody>\n",
       "</table>\n"
      ],
      "text/latex": [
       "\\begin{tabular}{r|lllll}\n",
       "  & Df & Deviance & Resid. Df & Resid. Dev & Pr(>Chi)\\\\\n",
       "\\hline\n",
       "\tNULL & NA           &           NA & 62           & 69.15817     &        NA   \\\\\n",
       "\tdefinition &  1           & 2.204879e-01 & 61           & 68.93768     & 0.6386684   \\\\\n",
       "\tneed &  1           & 6.616125e-01 & 60           & 68.27607     & 0.4159913   \\\\\n",
       "\tpurpose &  2           & 5.288819e-01 & 58           & 67.74719     & 0.7676350   \\\\\n",
       "\tinterest &  1           & 5.615459e-08 & 57           & 67.74719     & 0.9998109   \\\\\n",
       "\\end{tabular}\n"
      ],
      "text/markdown": [
       "\n",
       "| <!--/--> | Df | Deviance | Resid. Df | Resid. Dev | Pr(>Chi) |\n",
       "|---|---|---|---|---|---|\n",
       "| NULL | NA           |           NA | 62           | 69.15817     |        NA    |\n",
       "| definition |  1           | 2.204879e-01 | 61           | 68.93768     | 0.6386684    |\n",
       "| need |  1           | 6.616125e-01 | 60           | 68.27607     | 0.4159913    |\n",
       "| purpose |  2           | 5.288819e-01 | 58           | 67.74719     | 0.7676350    |\n",
       "| interest |  1           | 5.615459e-08 | 57           | 67.74719     | 0.9998109    |\n",
       "\n"
      ],
      "text/plain": [
       "           Df Deviance     Resid. Df Resid. Dev Pr(>Chi) \n",
       "NULL       NA           NA 62        69.15817          NA\n",
       "definition  1 2.204879e-01 61        68.93768   0.6386684\n",
       "need        1 6.616125e-01 60        68.27607   0.4159913\n",
       "purpose     2 5.288819e-01 58        67.74719   0.7676350\n",
       "interest    1 5.615459e-08 57        67.74719   0.9998109"
      ]
     },
     "metadata": {},
     "output_type": "display_data"
    },
    {
     "data": {
      "text/html": [
       "0.595454545454545"
      ],
      "text/latex": [
       "0.595454545454545"
      ],
      "text/markdown": [
       "0.595454545454545"
      ],
      "text/plain": [
       "[1] 0.5954545"
      ]
     },
     "metadata": {},
     "output_type": "display_data"
    },
    {
     "data": {
      "image/png": "[encoded data removed]",
      "text/plain": [
       "plot without title"
      ]
     },
     "metadata": {},
     "output_type": "display_data"
    }
   ],
   "source": [
    "model <- glm(d1_1 ~ definition + need + purpose \n",
    "              + interest, data =train, family = binomial)\n",
    "summary(model)\n",
    "\n",
    "\n",
    "anova(model, test=\"Chisq\")\n",
    "\n",
    "\n",
    "p <- predict(model, newdata=test, type=\"response\")\n",
    "pr <- prediction(p, test$d1_1)\n",
    "prf <- performance(pr, measure = \"tpr\", x.measure = \"fpr\")\n",
    "plot(prf)\n",
    "\n",
    "auc <- performance(pr, measure = \"auc\")\n",
    "auc <- auc@y.values[[1]]\n",
    "auc"
   ]
  },
  {
   "cell_type": "code",
   "execution_count": 28,
   "metadata": {},
   "outputs": [
    {
     "data": {
      "text/plain": [
       "\n",
       "Call:\n",
       "glm(formula = d1_2 ~ definition + need + purpose + interest, \n",
       "    family = binomial, data = train)\n",
       "\n",
       "Deviance Residuals: \n",
       "    Min       1Q   Median       3Q      Max  \n",
       "-1.2495  -0.9254  -0.8081   1.2083   1.6588  \n",
       "\n",
       "Coefficients:\n",
       "                  Estimate Std. Error z value Pr(>|z|)\n",
       "(Intercept)        0.57283    1.21408   0.472    0.637\n",
       "definitionharmony -0.71890    0.69025  -1.042    0.298\n",
       "needharmony       -0.08165    0.66027  -0.124    0.902\n",
       "purposecosmetic   -0.32507    0.73705  -0.441    0.659\n",
       "purposeetc        -0.00604    0.63143  -0.010    0.992\n",
       "interest          -0.13297    0.28381  -0.469    0.639\n",
       "\n",
       "(Dispersion parameter for binomial family taken to be 1)\n",
       "\n",
       "    Null deviance: 83.731  on 62  degrees of freedom\n",
       "Residual deviance: 81.231  on 57  degrees of freedom\n",
       "AIC: 93.231\n",
       "\n",
       "Number of Fisher Scoring iterations: 4\n"
      ]
     },
     "metadata": {},
     "output_type": "display_data"
    },
    {
     "data": {
      "text/html": [
       "<table>\n",
       "<thead><tr><th></th><th scope=col>Df</th><th scope=col>Deviance</th><th scope=col>Resid. Df</th><th scope=col>Resid. Dev</th><th scope=col>Pr(&gt;Chi)</th></tr></thead>\n",
       "<tbody>\n",
       "\t<tr><th scope=row>NULL</th><td>NA        </td><td>        NA</td><td>62        </td><td>83.73058  </td><td>       NA </td></tr>\n",
       "\t<tr><th scope=row>definition</th><td> 1        </td><td>2.01133372</td><td>61        </td><td>81.71925  </td><td>0.1561280 </td></tr>\n",
       "\t<tr><th scope=row>need</th><td> 1        </td><td>0.00913046</td><td>60        </td><td>81.71012  </td><td>0.9238752 </td></tr>\n",
       "\t<tr><th scope=row>purpose</th><td> 2        </td><td>0.25893123</td><td>58        </td><td>81.45119  </td><td>0.8785648 </td></tr>\n",
       "\t<tr><th scope=row>interest</th><td> 1        </td><td>0.22034747</td><td>57        </td><td>81.23084  </td><td>0.6387753 </td></tr>\n",
       "</tbody>\n",
       "</table>\n"
      ],
      "text/latex": [
       "\\begin{tabular}{r|lllll}\n",
       "  & Df & Deviance & Resid. Df & Resid. Dev & Pr(>Chi)\\\\\n",
       "\\hline\n",
       "\tNULL & NA         &         NA & 62         & 83.73058   &        NA \\\\\n",
       "\tdefinition &  1         & 2.01133372 & 61         & 81.71925   & 0.1561280 \\\\\n",
       "\tneed &  1         & 0.00913046 & 60         & 81.71012   & 0.9238752 \\\\\n",
       "\tpurpose &  2         & 0.25893123 & 58         & 81.45119   & 0.8785648 \\\\\n",
       "\tinterest &  1         & 0.22034747 & 57         & 81.23084   & 0.6387753 \\\\\n",
       "\\end{tabular}\n"
      ],
      "text/markdown": [
       "\n",
       "| <!--/--> | Df | Deviance | Resid. Df | Resid. Dev | Pr(>Chi) |\n",
       "|---|---|---|---|---|---|\n",
       "| NULL | NA         |         NA | 62         | 83.73058   |        NA  |\n",
       "| definition |  1         | 2.01133372 | 61         | 81.71925   | 0.1561280  |\n",
       "| need |  1         | 0.00913046 | 60         | 81.71012   | 0.9238752  |\n",
       "| purpose |  2         | 0.25893123 | 58         | 81.45119   | 0.8785648  |\n",
       "| interest |  1         | 0.22034747 | 57         | 81.23084   | 0.6387753  |\n",
       "\n"
      ],
      "text/plain": [
       "           Df Deviance   Resid. Df Resid. Dev Pr(>Chi) \n",
       "NULL       NA         NA 62        83.73058          NA\n",
       "definition  1 2.01133372 61        81.71925   0.1561280\n",
       "need        1 0.00913046 60        81.71012   0.9238752\n",
       "purpose     2 0.25893123 58        81.45119   0.8785648\n",
       "interest    1 0.22034747 57        81.23084   0.6387753"
      ]
     },
     "metadata": {},
     "output_type": "display_data"
    },
    {
     "data": {
      "text/html": [
       "0.549382716049383"
      ],
      "text/latex": [
       "0.549382716049383"
      ],
      "text/markdown": [
       "0.549382716049383"
      ],
      "text/plain": [
       "[1] 0.5493827"
      ]
     },
     "metadata": {},
     "output_type": "display_data"
    },
    {
     "data": {
      "image/png": "[encoded data removed]",
      "text/plain": [
       "plot without title"
      ]
     },
     "metadata": {},
     "output_type": "display_data"
    }
   ],
   "source": [
    "model <- glm(d1_2 ~ definition + need + purpose \n",
    "              + interest, data =train, family = binomial)\n",
    "summary(model)\n",
    "\n",
    "\n",
    "anova(model, test=\"Chisq\")\n",
    "\n",
    "\n",
    "p <- predict(model, newdata=test, type=\"response\")\n",
    "pr <- prediction(p, test$d1_2)\n",
    "prf <- performance(pr, measure = \"tpr\", x.measure = \"fpr\")\n",
    "plot(prf)\n",
    "\n",
    "auc <- performance(pr, measure = \"auc\")\n",
    "auc <- auc@y.values[[1]]\n",
    "auc"
   ]
  },
  {
   "cell_type": "code",
   "execution_count": 29,
   "metadata": {},
   "outputs": [
    {
     "data": {
      "text/plain": [
       "\n",
       "Call:\n",
       "glm(formula = d1_3 ~ definition + need + purpose + interest, \n",
       "    family = binomial, data = train)\n",
       "\n",
       "Deviance Residuals: \n",
       "    Min       1Q   Median       3Q      Max  \n",
       "-1.0614  -0.5084  -0.4068  -0.2847   2.2508  \n",
       "\n",
       "Coefficients:\n",
       "                  Estimate Std. Error z value Pr(>|z|)\n",
       "(Intercept)        -2.4677     1.8632  -1.324    0.185\n",
       "definitionharmony  -0.2570     1.1158  -0.230    0.818\n",
       "needharmony         1.1646     1.1029   1.056    0.291\n",
       "purposecosmetic     1.8746     1.2031   1.558    0.119\n",
       "purposeetc          0.7661     1.2093   0.633    0.526\n",
       "interest           -0.2967     0.4067  -0.730    0.466\n",
       "\n",
       "(Dispersion parameter for binomial family taken to be 1)\n",
       "\n",
       "    Null deviance: 47.957  on 62  degrees of freedom\n",
       "Residual deviance: 43.025  on 57  degrees of freedom\n",
       "AIC: 55.025\n",
       "\n",
       "Number of Fisher Scoring iterations: 5\n"
      ]
     },
     "metadata": {},
     "output_type": "display_data"
    },
    {
     "data": {
      "text/html": [
       "<table>\n",
       "<thead><tr><th></th><th scope=col>Df</th><th scope=col>Deviance</th><th scope=col>Resid. Df</th><th scope=col>Resid. Dev</th><th scope=col>Pr(&gt;Chi)</th></tr></thead>\n",
       "<tbody>\n",
       "\t<tr><th scope=row>NULL</th><td>NA       </td><td>       NA</td><td>62       </td><td>47.95726 </td><td>       NA</td></tr>\n",
       "\t<tr><th scope=row>definition</th><td> 1       </td><td>0.4158407</td><td>61       </td><td>47.54142 </td><td>0.5190198</td></tr>\n",
       "\t<tr><th scope=row>need</th><td> 1       </td><td>0.8422020</td><td>60       </td><td>46.69922 </td><td>0.3587678</td></tr>\n",
       "\t<tr><th scope=row>purpose</th><td> 2       </td><td>3.1452853</td><td>58       </td><td>43.55393 </td><td>0.2074961</td></tr>\n",
       "\t<tr><th scope=row>interest</th><td> 1       </td><td>0.5290555</td><td>57       </td><td>43.02488 </td><td>0.4670042</td></tr>\n",
       "</tbody>\n",
       "</table>\n"
      ],
      "text/latex": [
       "\\begin{tabular}{r|lllll}\n",
       "  & Df & Deviance & Resid. Df & Resid. Dev & Pr(>Chi)\\\\\n",
       "\\hline\n",
       "\tNULL & NA        &        NA & 62        & 47.95726  &        NA\\\\\n",
       "\tdefinition &  1        & 0.4158407 & 61        & 47.54142  & 0.5190198\\\\\n",
       "\tneed &  1        & 0.8422020 & 60        & 46.69922  & 0.3587678\\\\\n",
       "\tpurpose &  2        & 3.1452853 & 58        & 43.55393  & 0.2074961\\\\\n",
       "\tinterest &  1        & 0.5290555 & 57        & 43.02488  & 0.4670042\\\\\n",
       "\\end{tabular}\n"
      ],
      "text/markdown": [
       "\n",
       "| <!--/--> | Df | Deviance | Resid. Df | Resid. Dev | Pr(>Chi) |\n",
       "|---|---|---|---|---|---|\n",
       "| NULL | NA        |        NA | 62        | 47.95726  |        NA |\n",
       "| definition |  1        | 0.4158407 | 61        | 47.54142  | 0.5190198 |\n",
       "| need |  1        | 0.8422020 | 60        | 46.69922  | 0.3587678 |\n",
       "| purpose |  2        | 3.1452853 | 58        | 43.55393  | 0.2074961 |\n",
       "| interest |  1        | 0.5290555 | 57        | 43.02488  | 0.4670042 |\n",
       "\n"
      ],
      "text/plain": [
       "           Df Deviance  Resid. Df Resid. Dev Pr(>Chi) \n",
       "NULL       NA        NA 62        47.95726          NA\n",
       "definition  1 0.4158407 61        47.54142   0.5190198\n",
       "need        1 0.8422020 60        46.69922   0.3587678\n",
       "purpose     2 3.1452853 58        43.55393   0.2074961\n",
       "interest    1 0.5290555 57        43.02488   0.4670042"
      ]
     },
     "metadata": {},
     "output_type": "display_data"
    },
    {
     "data": {
      "text/html": [
       "0.603260869565217"
      ],
      "text/latex": [
       "0.603260869565217"
      ],
      "text/markdown": [
       "0.603260869565217"
      ],
      "text/plain": [
       "[1] 0.6032609"
      ]
     },
     "metadata": {},
     "output_type": "display_data"
    },
    {
     "data": {
      "image/png": "[encoded data removed]",
      "text/plain": [
       "plot without title"
      ]
     },
     "metadata": {},
     "output_type": "display_data"
    }
   ],
   "source": [
    "model <- glm(d1_3 ~ definition + need + purpose \n",
    "              + interest, data =train, family = binomial)\n",
    "summary(model)\n",
    "\n",
    "\n",
    "anova(model, test=\"Chisq\")\n",
    "\n",
    "\n",
    "p <- predict(model, newdata=test, type=\"response\")\n",
    "pr <- prediction(p, test$d1_3)\n",
    "prf <- performance(pr, measure = \"tpr\", x.measure = \"fpr\")\n",
    "plot(prf)\n",
    "\n",
    "auc <- performance(pr, measure = \"auc\")\n",
    "auc <- auc@y.values[[1]]\n",
    "auc"
   ]
  },
  {
   "cell_type": "code",
   "execution_count": 30,
   "metadata": {},
   "outputs": [
    {
     "data": {
      "text/plain": [
       "\n",
       "Call:\n",
       "glm(formula = d1_5 ~ definition + need + purpose + interest, \n",
       "    family = binomial, data = train)\n",
       "\n",
       "Deviance Residuals: \n",
       "     Min        1Q    Median        3Q       Max  \n",
       "-1.00214  -0.59007  -0.40510  -0.00008   2.11817  \n",
       "\n",
       "Coefficients:\n",
       "                   Estimate Std. Error z value Pr(>|z|)\n",
       "(Intercept)         -3.1866     1.9917  -1.600    0.110\n",
       "definitionharmony    0.3134     1.0906   0.287    0.774\n",
       "needharmony          0.8064     1.0532   0.766    0.444\n",
       "purposecosmetic    -18.3447  2622.4743  -0.007    0.994\n",
       "purposeetc          -0.5840     0.8045  -0.726    0.468\n",
       "interest             0.3279     0.4466   0.734    0.463\n",
       "\n",
       "(Dispersion parameter for binomial family taken to be 1)\n",
       "\n",
       "    Null deviance: 47.957  on 62  degrees of freedom\n",
       "Residual deviance: 40.575  on 57  degrees of freedom\n",
       "AIC: 52.575\n",
       "\n",
       "Number of Fisher Scoring iterations: 18\n"
      ]
     },
     "metadata": {},
     "output_type": "display_data"
    },
    {
     "data": {
      "text/html": [
       "<table>\n",
       "<thead><tr><th></th><th scope=col>Df</th><th scope=col>Deviance</th><th scope=col>Resid. Df</th><th scope=col>Resid. Dev</th><th scope=col>Pr(&gt;Chi)</th></tr></thead>\n",
       "<tbody>\n",
       "\t<tr><th scope=row>NULL</th><td>NA        </td><td>       NA </td><td>62        </td><td>47.95726  </td><td>        NA</td></tr>\n",
       "\t<tr><th scope=row>definition</th><td> 1        </td><td>0.4158407 </td><td>61        </td><td>47.54142  </td><td>0.51901980</td></tr>\n",
       "\t<tr><th scope=row>need</th><td> 1        </td><td>0.8422020 </td><td>60        </td><td>46.69922  </td><td>0.35876776</td></tr>\n",
       "\t<tr><th scope=row>purpose</th><td> 2        </td><td>5.5778537 </td><td>58        </td><td>41.12136  </td><td>0.06148716</td></tr>\n",
       "\t<tr><th scope=row>interest</th><td> 1        </td><td>0.5461732 </td><td>57        </td><td>40.57519  </td><td>0.45988554</td></tr>\n",
       "</tbody>\n",
       "</table>\n"
      ],
      "text/latex": [
       "\\begin{tabular}{r|lllll}\n",
       "  & Df & Deviance & Resid. Df & Resid. Dev & Pr(>Chi)\\\\\n",
       "\\hline\n",
       "\tNULL & NA         &        NA  & 62         & 47.95726   &         NA\\\\\n",
       "\tdefinition &  1         & 0.4158407  & 61         & 47.54142   & 0.51901980\\\\\n",
       "\tneed &  1         & 0.8422020  & 60         & 46.69922   & 0.35876776\\\\\n",
       "\tpurpose &  2         & 5.5778537  & 58         & 41.12136   & 0.06148716\\\\\n",
       "\tinterest &  1         & 0.5461732  & 57         & 40.57519   & 0.45988554\\\\\n",
       "\\end{tabular}\n"
      ],
      "text/markdown": [
       "\n",
       "| <!--/--> | Df | Deviance | Resid. Df | Resid. Dev | Pr(>Chi) |\n",
       "|---|---|---|---|---|---|\n",
       "| NULL | NA         |        NA  | 62         | 47.95726   |         NA |\n",
       "| definition |  1         | 0.4158407  | 61         | 47.54142   | 0.51901980 |\n",
       "| need |  1         | 0.8422020  | 60         | 46.69922   | 0.35876776 |\n",
       "| purpose |  2         | 5.5778537  | 58         | 41.12136   | 0.06148716 |\n",
       "| interest |  1         | 0.5461732  | 57         | 40.57519   | 0.45988554 |\n",
       "\n"
      ],
      "text/plain": [
       "           Df Deviance  Resid. Df Resid. Dev Pr(>Chi)  \n",
       "NULL       NA        NA 62        47.95726           NA\n",
       "definition  1 0.4158407 61        47.54142   0.51901980\n",
       "need        1 0.8422020 60        46.69922   0.35876776\n",
       "purpose     2 5.5778537 58        41.12136   0.06148716\n",
       "interest    1 0.5461732 57        40.57519   0.45988554"
      ]
     },
     "metadata": {},
     "output_type": "display_data"
    },
    {
     "data": {
      "text/html": [
       "0.461538461538462"
      ],
      "text/latex": [
       "0.461538461538462"
      ],
      "text/markdown": [
       "0.461538461538462"
      ],
      "text/plain": [
       "[1] 0.4615385"
      ]
     },
     "metadata": {},
     "output_type": "display_data"
    },
    {
     "data": {
      "image/png": "[encoded data removed]",
      "text/plain": [
       "plot without title"
      ]
     },
     "metadata": {},
     "output_type": "display_data"
    }
   ],
   "source": [
    "model <- glm(d1_5 ~ definition + need + purpose \n",
    "              + interest, data =train, family = binomial)\n",
    "summary(model)\n",
    "\n",
    "\n",
    "anova(model, test=\"Chisq\")\n",
    "\n",
    "\n",
    "p <- predict(model, newdata=test, type=\"response\")\n",
    "pr <- prediction(p, test$d1_5)\n",
    "prf <- performance(pr, measure = \"tpr\", x.measure = \"fpr\")\n",
    "plot(prf)\n",
    "\n",
    "auc <- performance(pr, measure = \"auc\")\n",
    "auc <- auc@y.values[[1]]\n",
    "auc"
   ]
  },
  {
   "cell_type": "code",
   "execution_count": 31,
   "metadata": {},
   "outputs": [
    {
     "data": {
      "text/plain": [
       "\n",
       "Call:\n",
       "glm(formula = d2_1 ~ definition + need + purpose + interest, \n",
       "    family = binomial, data = train)\n",
       "\n",
       "Deviance Residuals: \n",
       "    Min       1Q   Median       3Q      Max  \n",
       "-1.1286  -1.0015  -0.8572   1.3153   1.7632  \n",
       "\n",
       "Coefficients:\n",
       "                  Estimate Std. Error z value Pr(>|z|)\n",
       "(Intercept)        -1.1056     1.2369  -0.894    0.371\n",
       "definitionharmony   0.5051     0.7056   0.716    0.474\n",
       "needharmony        -0.4638     0.6564  -0.707    0.480\n",
       "purposecosmetic    -0.3929     0.7351  -0.534    0.593\n",
       "purposeetc          0.1420     0.6289   0.226    0.821\n",
       "interest            0.1613     0.2874   0.561    0.575\n",
       "\n",
       "(Dispersion parameter for binomial family taken to be 1)\n",
       "\n",
       "    Null deviance: 83.731  on 62  degrees of freedom\n",
       "Residual deviance: 82.358  on 57  degrees of freedom\n",
       "AIC: 94.358\n",
       "\n",
       "Number of Fisher Scoring iterations: 4\n"
      ]
     },
     "metadata": {},
     "output_type": "display_data"
    },
    {
     "data": {
      "text/html": [
       "<table>\n",
       "<thead><tr><th></th><th scope=col>Df</th><th scope=col>Deviance</th><th scope=col>Resid. Df</th><th scope=col>Resid. Dev</th><th scope=col>Pr(&gt;Chi)</th></tr></thead>\n",
       "<tbody>\n",
       "\t<tr><th scope=row>NULL</th><td>NA       </td><td>       NA</td><td>62       </td><td>83.73058 </td><td>       NA</td></tr>\n",
       "\t<tr><th scope=row>definition</th><td> 1       </td><td>0.0431061</td><td>61       </td><td>83.68748 </td><td>0.8355256</td></tr>\n",
       "\t<tr><th scope=row>need</th><td> 1       </td><td>0.3652605</td><td>60       </td><td>83.32222 </td><td>0.5455991</td></tr>\n",
       "\t<tr><th scope=row>purpose</th><td> 2       </td><td>0.6447970</td><td>58       </td><td>82.67742 </td><td>0.7244094</td></tr>\n",
       "\t<tr><th scope=row>interest</th><td> 1       </td><td>0.3192023</td><td>57       </td><td>82.35822 </td><td>0.5720875</td></tr>\n",
       "</tbody>\n",
       "</table>\n"
      ],
      "text/latex": [
       "\\begin{tabular}{r|lllll}\n",
       "  & Df & Deviance & Resid. Df & Resid. Dev & Pr(>Chi)\\\\\n",
       "\\hline\n",
       "\tNULL & NA        &        NA & 62        & 83.73058  &        NA\\\\\n",
       "\tdefinition &  1        & 0.0431061 & 61        & 83.68748  & 0.8355256\\\\\n",
       "\tneed &  1        & 0.3652605 & 60        & 83.32222  & 0.5455991\\\\\n",
       "\tpurpose &  2        & 0.6447970 & 58        & 82.67742  & 0.7244094\\\\\n",
       "\tinterest &  1        & 0.3192023 & 57        & 82.35822  & 0.5720875\\\\\n",
       "\\end{tabular}\n"
      ],
      "text/markdown": [
       "\n",
       "| <!--/--> | Df | Deviance | Resid. Df | Resid. Dev | Pr(>Chi) |\n",
       "|---|---|---|---|---|---|\n",
       "| NULL | NA        |        NA | 62        | 83.73058  |        NA |\n",
       "| definition |  1        | 0.0431061 | 61        | 83.68748  | 0.8355256 |\n",
       "| need |  1        | 0.3652605 | 60        | 83.32222  | 0.5455991 |\n",
       "| purpose |  2        | 0.6447970 | 58        | 82.67742  | 0.7244094 |\n",
       "| interest |  1        | 0.3192023 | 57        | 82.35822  | 0.5720875 |\n",
       "\n"
      ],
      "text/plain": [
       "           Df Deviance  Resid. Df Resid. Dev Pr(>Chi) \n",
       "NULL       NA        NA 62        83.73058          NA\n",
       "definition  1 0.0431061 61        83.68748   0.8355256\n",
       "need        1 0.3652605 60        83.32222   0.5455991\n",
       "purpose     2 0.6447970 58        82.67742   0.7244094\n",
       "interest    1 0.3192023 57        82.35822   0.5720875"
      ]
     },
     "metadata": {},
     "output_type": "display_data"
    },
    {
     "data": {
      "text/html": [
       "0.45"
      ],
      "text/latex": [
       "0.45"
      ],
      "text/markdown": [
       "0.45"
      ],
      "text/plain": [
       "[1] 0.45"
      ]
     },
     "metadata": {},
     "output_type": "display_data"
    },
    {
     "data": {
      "image/png": "[encoded data removed]",
      "text/plain": [
       "plot without title"
      ]
     },
     "metadata": {},
     "output_type": "display_data"
    }
   ],
   "source": [
    "model <- glm(d2_1 ~ definition + need + purpose \n",
    "              + interest, data =train, family = binomial)\n",
    "summary(model)\n",
    "\n",
    "\n",
    "anova(model, test=\"Chisq\")\n",
    "\n",
    "\n",
    "p <- predict(model, newdata=test, type=\"response\")\n",
    "pr <- prediction(p, test$d2_1)\n",
    "prf <- performance(pr, measure = \"tpr\", x.measure = \"fpr\")\n",
    "plot(prf)\n",
    "\n",
    "auc <- performance(pr, measure = \"auc\")\n",
    "auc <- auc@y.values[[1]]\n",
    "auc"
   ]
  },
  {
   "cell_type": "code",
   "execution_count": 32,
   "metadata": {},
   "outputs": [
    {
     "data": {
      "text/plain": [
       "\n",
       "Call:\n",
       "glm(formula = d2_2 ~ definition + need + purpose + interest, \n",
       "    family = binomial, data = train)\n",
       "\n",
       "Deviance Residuals: \n",
       "    Min       1Q   Median       3Q      Max  \n",
       "-1.1151  -0.7688  -0.5866  -0.3551   2.2082  \n",
       "\n",
       "Coefficients:\n",
       "                  Estimate Std. Error z value Pr(>|z|)\n",
       "(Intercept)        1.43436    1.38293   1.037    0.300\n",
       "definitionharmony -0.35538    0.82075  -0.433    0.665\n",
       "needharmony       -0.09464    0.78696  -0.120    0.904\n",
       "purposecosmetic   -1.31535    0.93751  -1.403    0.161\n",
       "purposeetc        -0.46927    0.68745  -0.683    0.495\n",
       "interest          -0.52758    0.33645  -1.568    0.117\n",
       "\n",
       "(Dispersion parameter for binomial family taken to be 1)\n",
       "\n",
       "    Null deviance: 69.158  on 62  degrees of freedom\n",
       "Residual deviance: 64.247  on 57  degrees of freedom\n",
       "AIC: 76.247\n",
       "\n",
       "Number of Fisher Scoring iterations: 4\n"
      ]
     },
     "metadata": {},
     "output_type": "display_data"
    },
    {
     "data": {
      "text/html": [
       "<table>\n",
       "<thead><tr><th></th><th scope=col>Df</th><th scope=col>Deviance</th><th scope=col>Resid. Df</th><th scope=col>Resid. Dev</th><th scope=col>Pr(&gt;Chi)</th></tr></thead>\n",
       "<tbody>\n",
       "\t<tr><th scope=row>NULL</th><td>NA         </td><td>         NA</td><td>62         </td><td>69.15817   </td><td>       NA  </td></tr>\n",
       "\t<tr><th scope=row>definition</th><td> 1         </td><td>0.220487941</td><td>61         </td><td>68.93768   </td><td>0.6386684  </td></tr>\n",
       "\t<tr><th scope=row>need</th><td> 1         </td><td>0.007160973</td><td>60         </td><td>68.93052   </td><td>0.9325615  </td></tr>\n",
       "\t<tr><th scope=row>purpose</th><td> 2         </td><td>2.129922872</td><td>58         </td><td>66.80060   </td><td>0.3447411  </td></tr>\n",
       "\t<tr><th scope=row>interest</th><td> 1         </td><td>2.553765093</td><td>57         </td><td>64.24684   </td><td>0.1100318  </td></tr>\n",
       "</tbody>\n",
       "</table>\n"
      ],
      "text/latex": [
       "\\begin{tabular}{r|lllll}\n",
       "  & Df & Deviance & Resid. Df & Resid. Dev & Pr(>Chi)\\\\\n",
       "\\hline\n",
       "\tNULL & NA          &          NA & 62          & 69.15817    &        NA  \\\\\n",
       "\tdefinition &  1          & 0.220487941 & 61          & 68.93768    & 0.6386684  \\\\\n",
       "\tneed &  1          & 0.007160973 & 60          & 68.93052    & 0.9325615  \\\\\n",
       "\tpurpose &  2          & 2.129922872 & 58          & 66.80060    & 0.3447411  \\\\\n",
       "\tinterest &  1          & 2.553765093 & 57          & 64.24684    & 0.1100318  \\\\\n",
       "\\end{tabular}\n"
      ],
      "text/markdown": [
       "\n",
       "| <!--/--> | Df | Deviance | Resid. Df | Resid. Dev | Pr(>Chi) |\n",
       "|---|---|---|---|---|---|\n",
       "| NULL | NA          |          NA | 62          | 69.15817    |        NA   |\n",
       "| definition |  1          | 0.220487941 | 61          | 68.93768    | 0.6386684   |\n",
       "| need |  1          | 0.007160973 | 60          | 68.93052    | 0.9325615   |\n",
       "| purpose |  2          | 2.129922872 | 58          | 66.80060    | 0.3447411   |\n",
       "| interest |  1          | 2.553765093 | 57          | 64.24684    | 0.1100318   |\n",
       "\n"
      ],
      "text/plain": [
       "           Df Deviance    Resid. Df Resid. Dev Pr(>Chi) \n",
       "NULL       NA          NA 62        69.15817          NA\n",
       "definition  1 0.220487941 61        68.93768   0.6386684\n",
       "need        1 0.007160973 60        68.93052   0.9325615\n",
       "purpose     2 2.129922872 58        66.80060   0.3447411\n",
       "interest    1 2.553765093 57        64.24684   0.1100318"
      ]
     },
     "metadata": {},
     "output_type": "display_data"
    },
    {
     "data": {
      "text/html": [
       "0.75"
      ],
      "text/latex": [
       "0.75"
      ],
      "text/markdown": [
       "0.75"
      ],
      "text/plain": [
       "[1] 0.75"
      ]
     },
     "metadata": {},
     "output_type": "display_data"
    },
    {
     "data": {
      "image/png": "[encoded data removed]",
      "text/plain": [
       "plot without title"
      ]
     },
     "metadata": {},
     "output_type": "display_data"
    }
   ],
   "source": [
    "model <- glm(d2_2 ~ definition + need + purpose \n",
    "              + interest, data =train, family = binomial)\n",
    "summary(model)\n",
    "\n",
    "\n",
    "anova(model, test=\"Chisq\")\n",
    "\n",
    "\n",
    "p <- predict(model, newdata=test, type=\"response\")\n",
    "pr <- prediction(p, test$d2_2)\n",
    "prf <- performance(pr, measure = \"tpr\", x.measure = \"fpr\")\n",
    "plot(prf)\n",
    "\n",
    "auc <- performance(pr, measure = \"auc\")\n",
    "auc <- auc@y.values[[1]]\n",
    "auc"
   ]
  },
  {
   "cell_type": "code",
   "execution_count": 33,
   "metadata": {},
   "outputs": [
    {
     "data": {
      "text/plain": [
       "\n",
       "Call:\n",
       "glm(formula = d2_3 ~ definition + need + purpose + interest, \n",
       "    family = binomial, data = train)\n",
       "\n",
       "Deviance Residuals: \n",
       "    Min       1Q   Median       3Q      Max  \n",
       "-1.0427  -0.4602  -0.3040  -0.1599   2.5841  \n",
       "\n",
       "Coefficients:\n",
       "                  Estimate Std. Error z value Pr(>|z|)  \n",
       "(Intercept)        -5.9173     2.6373  -2.244   0.0249 *\n",
       "definitionharmony  -1.0090     1.2662  -0.797   0.4255  \n",
       "needharmony         2.3095     1.5024   1.537   0.1242  \n",
       "purposecosmetic     0.2798     1.5326   0.183   0.8551  \n",
       "purposeetc          1.2137     1.2645   0.960   0.3371  \n",
       "interest            0.5172     0.5275   0.980   0.3269  \n",
       "---\n",
       "Signif. codes:  0 '***' 0.001 '**' 0.01 '*' 0.05 '.' 0.1 ' ' 1\n",
       "\n",
       "(Dispersion parameter for binomial family taken to be 1)\n",
       "\n",
       "    Null deviance: 39.626  on 62  degrees of freedom\n",
       "Residual deviance: 34.207  on 57  degrees of freedom\n",
       "AIC: 46.207\n",
       "\n",
       "Number of Fisher Scoring iterations: 6\n"
      ]
     },
     "metadata": {},
     "output_type": "display_data"
    },
    {
     "data": {
      "text/html": [
       "<table>\n",
       "<thead><tr><th></th><th scope=col>Df</th><th scope=col>Deviance</th><th scope=col>Resid. Df</th><th scope=col>Resid. Dev</th><th scope=col>Pr(&gt;Chi)</th></tr></thead>\n",
       "<tbody>\n",
       "\t<tr><th scope=row>NULL</th><td>NA         </td><td>         NA</td><td>62         </td><td>39.62602   </td><td>        NA </td></tr>\n",
       "\t<tr><th scope=row>definition</th><td> 1         </td><td>0.007400033</td><td>61         </td><td>39.61862   </td><td>0.93144778 </td></tr>\n",
       "\t<tr><th scope=row>need</th><td> 1         </td><td>2.921488934</td><td>60         </td><td>36.69713   </td><td>0.08740718 </td></tr>\n",
       "\t<tr><th scope=row>purpose</th><td> 2         </td><td>1.464027707</td><td>58         </td><td>35.23310   </td><td>0.48093947 </td></tr>\n",
       "\t<tr><th scope=row>interest</th><td> 1         </td><td>1.026585825</td><td>57         </td><td>34.20651   </td><td>0.31096191 </td></tr>\n",
       "</tbody>\n",
       "</table>\n"
      ],
      "text/latex": [
       "\\begin{tabular}{r|lllll}\n",
       "  & Df & Deviance & Resid. Df & Resid. Dev & Pr(>Chi)\\\\\n",
       "\\hline\n",
       "\tNULL & NA          &          NA & 62          & 39.62602    &         NA \\\\\n",
       "\tdefinition &  1          & 0.007400033 & 61          & 39.61862    & 0.93144778 \\\\\n",
       "\tneed &  1          & 2.921488934 & 60          & 36.69713    & 0.08740718 \\\\\n",
       "\tpurpose &  2          & 1.464027707 & 58          & 35.23310    & 0.48093947 \\\\\n",
       "\tinterest &  1          & 1.026585825 & 57          & 34.20651    & 0.31096191 \\\\\n",
       "\\end{tabular}\n"
      ],
      "text/markdown": [
       "\n",
       "| <!--/--> | Df | Deviance | Resid. Df | Resid. Dev | Pr(>Chi) |\n",
       "|---|---|---|---|---|---|\n",
       "| NULL | NA          |          NA | 62          | 39.62602    |         NA  |\n",
       "| definition |  1          | 0.007400033 | 61          | 39.61862    | 0.93144778  |\n",
       "| need |  1          | 2.921488934 | 60          | 36.69713    | 0.08740718  |\n",
       "| purpose |  2          | 1.464027707 | 58          | 35.23310    | 0.48093947  |\n",
       "| interest |  1          | 1.026585825 | 57          | 34.20651    | 0.31096191  |\n",
       "\n"
      ],
      "text/plain": [
       "           Df Deviance    Resid. Df Resid. Dev Pr(>Chi)  \n",
       "NULL       NA          NA 62        39.62602           NA\n",
       "definition  1 0.007400033 61        39.61862   0.93144778\n",
       "need        1 2.921488934 60        36.69713   0.08740718\n",
       "purpose     2 1.464027707 58        35.23310   0.48093947\n",
       "interest    1 1.026585825 57        34.20651   0.31096191"
      ]
     },
     "metadata": {},
     "output_type": "display_data"
    },
    {
     "data": {
      "text/html": [
       "0.706521739130435"
      ],
      "text/latex": [
       "0.706521739130435"
      ],
      "text/markdown": [
       "0.706521739130435"
      ],
      "text/plain": [
       "[1] 0.7065217"
      ]
     },
     "metadata": {},
     "output_type": "display_data"
    },
    {
     "data": {
      "image/png": "[encoded data removed]",
      "text/plain": [
       "plot without title"
      ]
     },
     "metadata": {},
     "output_type": "display_data"
    }
   ],
   "source": [
    "model <- glm(d2_3 ~ definition + need + purpose \n",
    "              + interest, data =train, family = binomial)\n",
    "summary(model)\n",
    "\n",
    "\n",
    "anova(model, test=\"Chisq\")\n",
    "\n",
    "\n",
    "p <- predict(model, newdata=test, type=\"response\")\n",
    "pr <- prediction(p, test$d2_3)\n",
    "prf <- performance(pr, measure = \"tpr\", x.measure = \"fpr\")\n",
    "plot(prf)\n",
    "\n",
    "auc <- performance(pr, measure = \"auc\")\n",
    "auc <- auc@y.values[[1]]\n",
    "auc"
   ]
  },
  {
   "cell_type": "code",
   "execution_count": 34,
   "metadata": {},
   "outputs": [
    {
     "data": {
      "text/plain": [
       "\n",
       "Call:\n",
       "glm(formula = d2_4 ~ definition + need + purpose + interest, \n",
       "    family = binomial, data = train)\n",
       "\n",
       "Deviance Residuals: \n",
       "    Min       1Q   Median       3Q      Max  \n",
       "-1.0549  -0.6127  -0.5275  -0.4284   2.1965  \n",
       "\n",
       "Coefficients:\n",
       "                  Estimate Std. Error z value Pr(>|z|)  \n",
       "(Intercept)        -1.0984     1.5328  -0.717   0.4736  \n",
       "definitionharmony   0.1839     0.8848   0.208   0.8353  \n",
       "needharmony        -0.4648     0.8162  -0.569   0.5691  \n",
       "purposecosmetic     1.5778     0.9183   1.718   0.0858 .\n",
       "purposeetc          0.2953     0.9441   0.313   0.7544  \n",
       "interest           -0.2469     0.3556  -0.694   0.4876  \n",
       "---\n",
       "Signif. codes:  0 '***' 0.001 '**' 0.01 '*' 0.05 '.' 0.1 ' ' 1\n",
       "\n",
       "(Dispersion parameter for binomial family taken to be 1)\n",
       "\n",
       "    Null deviance: 61.351  on 62  degrees of freedom\n",
       "Residual deviance: 56.166  on 57  degrees of freedom\n",
       "AIC: 68.166\n",
       "\n",
       "Number of Fisher Scoring iterations: 4\n"
      ]
     },
     "metadata": {},
     "output_type": "display_data"
    },
    {
     "data": {
      "text/html": [
       "<table>\n",
       "<thead><tr><th></th><th scope=col>Df</th><th scope=col>Deviance</th><th scope=col>Resid. Df</th><th scope=col>Resid. Dev</th><th scope=col>Pr(&gt;Chi)</th></tr></thead>\n",
       "<tbody>\n",
       "\t<tr><th scope=row>NULL</th><td>NA        </td><td>        NA</td><td>62        </td><td>61.35100  </td><td>       NA </td></tr>\n",
       "\t<tr><th scope=row>definition</th><td> 1        </td><td>0.01652587</td><td>61        </td><td>61.33448  </td><td>0.8977114 </td></tr>\n",
       "\t<tr><th scope=row>need</th><td> 1        </td><td>0.58275154</td><td>60        </td><td>60.75172  </td><td>0.4452358 </td></tr>\n",
       "\t<tr><th scope=row>purpose</th><td> 2        </td><td>4.09812956</td><td>58        </td><td>56.65359  </td><td>0.1288554 </td></tr>\n",
       "\t<tr><th scope=row>interest</th><td> 1        </td><td>0.48781445</td><td>57        </td><td>56.16578  </td><td>0.4849038 </td></tr>\n",
       "</tbody>\n",
       "</table>\n"
      ],
      "text/latex": [
       "\\begin{tabular}{r|lllll}\n",
       "  & Df & Deviance & Resid. Df & Resid. Dev & Pr(>Chi)\\\\\n",
       "\\hline\n",
       "\tNULL & NA         &         NA & 62         & 61.35100   &        NA \\\\\n",
       "\tdefinition &  1         & 0.01652587 & 61         & 61.33448   & 0.8977114 \\\\\n",
       "\tneed &  1         & 0.58275154 & 60         & 60.75172   & 0.4452358 \\\\\n",
       "\tpurpose &  2         & 4.09812956 & 58         & 56.65359   & 0.1288554 \\\\\n",
       "\tinterest &  1         & 0.48781445 & 57         & 56.16578   & 0.4849038 \\\\\n",
       "\\end{tabular}\n"
      ],
      "text/markdown": [
       "\n",
       "| <!--/--> | Df | Deviance | Resid. Df | Resid. Dev | Pr(>Chi) |\n",
       "|---|---|---|---|---|---|\n",
       "| NULL | NA         |         NA | 62         | 61.35100   |        NA  |\n",
       "| definition |  1         | 0.01652587 | 61         | 61.33448   | 0.8977114  |\n",
       "| need |  1         | 0.58275154 | 60         | 60.75172   | 0.4452358  |\n",
       "| purpose |  2         | 4.09812956 | 58         | 56.65359   | 0.1288554  |\n",
       "| interest |  1         | 0.48781445 | 57         | 56.16578   | 0.4849038  |\n",
       "\n"
      ],
      "text/plain": [
       "           Df Deviance   Resid. Df Resid. Dev Pr(>Chi) \n",
       "NULL       NA         NA 62        61.35100          NA\n",
       "definition  1 0.01652587 61        61.33448   0.8977114\n",
       "need        1 0.58275154 60        60.75172   0.4452358\n",
       "purpose     2 4.09812956 58        56.65359   0.1288554\n",
       "interest    1 0.48781445 57        56.16578   0.4849038"
      ]
     },
     "metadata": {},
     "output_type": "display_data"
    },
    {
     "data": {
      "text/html": [
       "0.332142857142857"
      ],
      "text/latex": [
       "0.332142857142857"
      ],
      "text/markdown": [
       "0.332142857142857"
      ],
      "text/plain": [
       "[1] 0.3321429"
      ]
     },
     "metadata": {},
     "output_type": "display_data"
    },
    {
     "data": {
      "image/png": "[encoded data removed]",
      "text/plain": [
       "plot without title"
      ]
     },
     "metadata": {},
     "output_type": "display_data"
    }
   ],
   "source": [
    "model <- glm(d2_4 ~ definition + need + purpose \n",
    "              + interest, data =train, family = binomial)\n",
    "summary(model)\n",
    "\n",
    "\n",
    "anova(model, test=\"Chisq\")\n",
    "\n",
    "\n",
    "p <- predict(model, newdata=test, type=\"response\")\n",
    "pr <- prediction(p, test$d2_4)\n",
    "prf <- performance(pr, measure = \"tpr\", x.measure = \"fpr\")\n",
    "plot(prf)\n",
    "\n",
    "auc <- performance(pr, measure = \"auc\")\n",
    "auc <- auc@y.values[[1]]\n",
    "auc"
   ]
  },
  {
   "cell_type": "code",
   "execution_count": 35,
   "metadata": {},
   "outputs": [
    {
     "data": {
      "text/plain": [
       "\n",
       "Call:\n",
       "glm(formula = d2_5 ~ definition + need + purpose + interest, \n",
       "    family = binomial, data = train)\n",
       "\n",
       "Deviance Residuals: \n",
       "    Min       1Q   Median       3Q      Max  \n",
       "-0.8049  -0.4659  -0.4211  -0.3152   2.4604  \n",
       "\n",
       "Coefficients:\n",
       "                  Estimate Std. Error z value Pr(>|z|)  \n",
       "(Intercept)        -4.5048     2.3485  -1.918   0.0551 .\n",
       "definitionharmony  -0.1854     1.0768  -0.172   0.8633  \n",
       "needharmony         0.5504     1.0414   0.529   0.5971  \n",
       "purposecosmetic     0.1078     1.0932   0.099   0.9215  \n",
       "purposeetc         -0.6333     1.0755  -0.589   0.5560  \n",
       "interest            0.5987     0.5236   1.143   0.2529  \n",
       "---\n",
       "Signif. codes:  0 '***' 0.001 '**' 0.01 '*' 0.05 '.' 0.1 ' ' 1\n",
       "\n",
       "(Dispersion parameter for binomial family taken to be 1)\n",
       "\n",
       "    Null deviance: 39.626  on 62  degrees of freedom\n",
       "Residual deviance: 37.382  on 57  degrees of freedom\n",
       "AIC: 49.382\n",
       "\n",
       "Number of Fisher Scoring iterations: 5\n"
      ]
     },
     "metadata": {},
     "output_type": "display_data"
    },
    {
     "data": {
      "text/html": [
       "<table>\n",
       "<thead><tr><th></th><th scope=col>Df</th><th scope=col>Deviance</th><th scope=col>Resid. Df</th><th scope=col>Resid. Dev</th><th scope=col>Pr(&gt;Chi)</th></tr></thead>\n",
       "<tbody>\n",
       "\t<tr><th scope=row>NULL</th><td>NA         </td><td>         NA</td><td>62         </td><td>39.62602   </td><td>       NA  </td></tr>\n",
       "\t<tr><th scope=row>definition</th><td> 1         </td><td>0.007400033</td><td>61         </td><td>39.61862   </td><td>0.9314478  </td></tr>\n",
       "\t<tr><th scope=row>need</th><td> 1         </td><td>0.307921055</td><td>60         </td><td>39.31070   </td><td>0.5789587  </td></tr>\n",
       "\t<tr><th scope=row>purpose</th><td> 2         </td><td>0.498366801</td><td>58         </td><td>38.81233   </td><td>0.7794370  </td></tr>\n",
       "\t<tr><th scope=row>interest</th><td> 1         </td><td>1.429935696</td><td>57         </td><td>37.38239   </td><td>0.2317749  </td></tr>\n",
       "</tbody>\n",
       "</table>\n"
      ],
      "text/latex": [
       "\\begin{tabular}{r|lllll}\n",
       "  & Df & Deviance & Resid. Df & Resid. Dev & Pr(>Chi)\\\\\n",
       "\\hline\n",
       "\tNULL & NA          &          NA & 62          & 39.62602    &        NA  \\\\\n",
       "\tdefinition &  1          & 0.007400033 & 61          & 39.61862    & 0.9314478  \\\\\n",
       "\tneed &  1          & 0.307921055 & 60          & 39.31070    & 0.5789587  \\\\\n",
       "\tpurpose &  2          & 0.498366801 & 58          & 38.81233    & 0.7794370  \\\\\n",
       "\tinterest &  1          & 1.429935696 & 57          & 37.38239    & 0.2317749  \\\\\n",
       "\\end{tabular}\n"
      ],
      "text/markdown": [
       "\n",
       "| <!--/--> | Df | Deviance | Resid. Df | Resid. Dev | Pr(>Chi) |\n",
       "|---|---|---|---|---|---|\n",
       "| NULL | NA          |          NA | 62          | 39.62602    |        NA   |\n",
       "| definition |  1          | 0.007400033 | 61          | 39.61862    | 0.9314478   |\n",
       "| need |  1          | 0.307921055 | 60          | 39.31070    | 0.5789587   |\n",
       "| purpose |  2          | 0.498366801 | 58          | 38.81233    | 0.7794370   |\n",
       "| interest |  1          | 1.429935696 | 57          | 37.38239    | 0.2317749   |\n",
       "\n"
      ],
      "text/plain": [
       "           Df Deviance    Resid. Df Resid. Dev Pr(>Chi) \n",
       "NULL       NA          NA 62        39.62602          NA\n",
       "definition  1 0.007400033 61        39.61862   0.9314478\n",
       "need        1 0.307921055 60        39.31070   0.5789587\n",
       "purpose     2 0.498366801 58        38.81233   0.7794370\n",
       "interest    1 1.429935696 57        37.38239   0.2317749"
      ]
     },
     "metadata": {},
     "output_type": "display_data"
    },
    {
     "data": {
      "text/html": [
       "0.569444444444444"
      ],
      "text/latex": [
       "0.569444444444444"
      ],
      "text/markdown": [
       "0.569444444444444"
      ],
      "text/plain": [
       "[1] 0.5694444"
      ]
     },
     "metadata": {},
     "output_type": "display_data"
    },
    {
     "data": {
      "image/png": "[encoded data removed]",
      "text/plain": [
       "plot without title"
      ]
     },
     "metadata": {},
     "output_type": "display_data"
    }
   ],
   "source": [
    "model <- glm(d2_5 ~ definition + need + purpose \n",
    "              + interest, data =train, family = binomial)\n",
    "summary(model)\n",
    "\n",
    "\n",
    "anova(model, test=\"Chisq\")\n",
    "\n",
    "\n",
    "p <- predict(model, newdata=test, type=\"response\")\n",
    "pr <- prediction(p, test$d2_5)\n",
    "prf <- performance(pr, measure = \"tpr\", x.measure = \"fpr\")\n",
    "plot(prf)\n",
    "\n",
    "auc <- performance(pr, measure = \"auc\")\n",
    "auc <- auc@y.values[[1]]\n",
    "auc"
   ]
  },
  {
   "cell_type": "code",
   "execution_count": 36,
   "metadata": {},
   "outputs": [
    {
     "data": {
      "text/plain": [
       "\n",
       "Call:\n",
       "glm(formula = d3_1 ~ definition + need + purpose + interest, \n",
       "    family = binomial, data = train)\n",
       "\n",
       "Deviance Residuals: \n",
       "    Min       1Q   Median       3Q      Max  \n",
       "-1.1989  -0.6704  -0.4657  -0.2982   2.1357  \n",
       "\n",
       "Coefficients:\n",
       "                  Estimate Std. Error z value Pr(>|z|)  \n",
       "(Intercept)       -2.77139    1.56079  -1.776   0.0758 .\n",
       "definitionharmony -0.68973    0.80290  -0.859   0.3903  \n",
       "needharmony       -0.09834    0.75677  -0.130   0.8966  \n",
       "purposecosmetic    1.43525    0.84063   1.707   0.0878 .\n",
       "purposeetc        -0.45606    0.86702  -0.526   0.5989  \n",
       "interest           0.46222    0.36276   1.274   0.2026  \n",
       "---\n",
       "Signif. codes:  0 '***' 0.001 '**' 0.01 '*' 0.05 '.' 0.1 ' ' 1\n",
       "\n",
       "(Dispersion parameter for binomial family taken to be 1)\n",
       "\n",
       "    Null deviance: 66.743  on 62  degrees of freedom\n",
       "Residual deviance: 58.461  on 57  degrees of freedom\n",
       "AIC: 70.461\n",
       "\n",
       "Number of Fisher Scoring iterations: 5\n"
      ]
     },
     "metadata": {},
     "output_type": "display_data"
    },
    {
     "data": {
      "text/html": [
       "<table>\n",
       "<thead><tr><th></th><th scope=col>Df</th><th scope=col>Deviance</th><th scope=col>Resid. Df</th><th scope=col>Resid. Dev</th><th scope=col>Pr(&gt;Chi)</th></tr></thead>\n",
       "<tbody>\n",
       "\t<tr><th scope=row>NULL</th><td>NA        </td><td>       NA </td><td>62        </td><td>66.74298  </td><td>        NA</td></tr>\n",
       "\t<tr><th scope=row>definition</th><td> 1        </td><td>0.4887201 </td><td>61        </td><td>66.25426  </td><td>0.48449878</td></tr>\n",
       "\t<tr><th scope=row>need</th><td> 1        </td><td>0.0635712 </td><td>60        </td><td>66.19069  </td><td>0.80093803</td></tr>\n",
       "\t<tr><th scope=row>purpose</th><td> 2        </td><td>6.0104552 </td><td>58        </td><td>60.18023  </td><td>0.04952748</td></tr>\n",
       "\t<tr><th scope=row>interest</th><td> 1        </td><td>1.7191111 </td><td>57        </td><td>58.46112  </td><td>0.18980751</td></tr>\n",
       "</tbody>\n",
       "</table>\n"
      ],
      "text/latex": [
       "\\begin{tabular}{r|lllll}\n",
       "  & Df & Deviance & Resid. Df & Resid. Dev & Pr(>Chi)\\\\\n",
       "\\hline\n",
       "\tNULL & NA         &        NA  & 62         & 66.74298   &         NA\\\\\n",
       "\tdefinition &  1         & 0.4887201  & 61         & 66.25426   & 0.48449878\\\\\n",
       "\tneed &  1         & 0.0635712  & 60         & 66.19069   & 0.80093803\\\\\n",
       "\tpurpose &  2         & 6.0104552  & 58         & 60.18023   & 0.04952748\\\\\n",
       "\tinterest &  1         & 1.7191111  & 57         & 58.46112   & 0.18980751\\\\\n",
       "\\end{tabular}\n"
      ],
      "text/markdown": [
       "\n",
       "| <!--/--> | Df | Deviance | Resid. Df | Resid. Dev | Pr(>Chi) |\n",
       "|---|---|---|---|---|---|\n",
       "| NULL | NA         |        NA  | 62         | 66.74298   |         NA |\n",
       "| definition |  1         | 0.4887201  | 61         | 66.25426   | 0.48449878 |\n",
       "| need |  1         | 0.0635712  | 60         | 66.19069   | 0.80093803 |\n",
       "| purpose |  2         | 6.0104552  | 58         | 60.18023   | 0.04952748 |\n",
       "| interest |  1         | 1.7191111  | 57         | 58.46112   | 0.18980751 |\n",
       "\n"
      ],
      "text/plain": [
       "           Df Deviance  Resid. Df Resid. Dev Pr(>Chi)  \n",
       "NULL       NA        NA 62        66.74298           NA\n",
       "definition  1 0.4887201 61        66.25426   0.48449878\n",
       "need        1 0.0635712 60        66.19069   0.80093803\n",
       "purpose     2 6.0104552 58        60.18023   0.04952748\n",
       "interest    1 1.7191111 57        58.46112   0.18980751"
      ]
     },
     "metadata": {},
     "output_type": "display_data"
    },
    {
     "data": {
      "text/html": [
       "0.527777777777778"
      ],
      "text/latex": [
       "0.527777777777778"
      ],
      "text/markdown": [
       "0.527777777777778"
      ],
      "text/plain": [
       "[1] 0.5277778"
      ]
     },
     "metadata": {},
     "output_type": "display_data"
    },
    {
     "data": {
      "image/png": "[encoded data removed]",
      "text/plain": [
       "plot without title"
      ]
     },
     "metadata": {},
     "output_type": "display_data"
    }
   ],
   "source": [
    "model <- glm(d3_1 ~ definition + need + purpose \n",
    "              + interest, data =train, family = binomial)\n",
    "summary(model)\n",
    "\n",
    "\n",
    "anova(model, test=\"Chisq\")\n",
    "\n",
    "\n",
    "p <- predict(model, newdata=test, type=\"response\")\n",
    "pr <- prediction(p, test$d3_1)\n",
    "prf <- performance(pr, measure = \"tpr\", x.measure = \"fpr\")\n",
    "plot(prf)\n",
    "\n",
    "auc <- performance(pr, measure = \"auc\")\n",
    "auc <- auc@y.values[[1]]\n",
    "auc"
   ]
  },
  {
   "cell_type": "code",
   "execution_count": 37,
   "metadata": {},
   "outputs": [
    {
     "data": {
      "text/plain": [
       "\n",
       "Call:\n",
       "glm(formula = d3_2 ~ definition + need + purpose + interest, \n",
       "    family = binomial, data = train)\n",
       "\n",
       "Deviance Residuals: \n",
       "    Min       1Q   Median       3Q      Max  \n",
       "-0.9630  -0.7621  -0.6862  -0.2968   2.3203  \n",
       "\n",
       "Coefficients:\n",
       "                  Estimate Std. Error z value Pr(>|z|)\n",
       "(Intercept)       -0.60046    1.48323  -0.405    0.686\n",
       "definitionharmony -0.43003    0.87258  -0.493    0.622\n",
       "needharmony        0.46696    0.84649   0.552    0.581\n",
       "purposecosmetic   -1.72553    1.16262  -1.484    0.138\n",
       "purposeetc        -0.20993    0.69289  -0.303    0.762\n",
       "interest          -0.09859    0.35173  -0.280    0.779\n",
       "\n",
       "(Dispersion parameter for binomial family taken to be 1)\n",
       "\n",
       "    Null deviance: 64.144  on 62  degrees of freedom\n",
       "Residual deviance: 60.409  on 57  degrees of freedom\n",
       "AIC: 72.409\n",
       "\n",
       "Number of Fisher Scoring iterations: 5\n"
      ]
     },
     "metadata": {},
     "output_type": "display_data"
    },
    {
     "data": {
      "text/html": [
       "<table>\n",
       "<thead><tr><th></th><th scope=col>Df</th><th scope=col>Deviance</th><th scope=col>Resid. Df</th><th scope=col>Resid. Dev</th><th scope=col>Pr(&gt;Chi)</th></tr></thead>\n",
       "<tbody>\n",
       "\t<tr><th scope=row>NULL</th><td>NA        </td><td>        NA</td><td>62        </td><td>64.14399  </td><td>       NA </td></tr>\n",
       "\t<tr><th scope=row>definition</th><td> 1        </td><td>0.08941082</td><td>61        </td><td>64.05458  </td><td>0.7649275 </td></tr>\n",
       "\t<tr><th scope=row>need</th><td> 1        </td><td>0.43710005</td><td>60        </td><td>63.61748  </td><td>0.5085255 </td></tr>\n",
       "\t<tr><th scope=row>purpose</th><td> 2        </td><td>3.13018067</td><td>58        </td><td>60.48730  </td><td>0.2090691 </td></tr>\n",
       "\t<tr><th scope=row>interest</th><td> 1        </td><td>0.07846807</td><td>57        </td><td>60.40883  </td><td>0.7793843 </td></tr>\n",
       "</tbody>\n",
       "</table>\n"
      ],
      "text/latex": [
       "\\begin{tabular}{r|lllll}\n",
       "  & Df & Deviance & Resid. Df & Resid. Dev & Pr(>Chi)\\\\\n",
       "\\hline\n",
       "\tNULL & NA         &         NA & 62         & 64.14399   &        NA \\\\\n",
       "\tdefinition &  1         & 0.08941082 & 61         & 64.05458   & 0.7649275 \\\\\n",
       "\tneed &  1         & 0.43710005 & 60         & 63.61748   & 0.5085255 \\\\\n",
       "\tpurpose &  2         & 3.13018067 & 58         & 60.48730   & 0.2090691 \\\\\n",
       "\tinterest &  1         & 0.07846807 & 57         & 60.40883   & 0.7793843 \\\\\n",
       "\\end{tabular}\n"
      ],
      "text/markdown": [
       "\n",
       "| <!--/--> | Df | Deviance | Resid. Df | Resid. Dev | Pr(>Chi) |\n",
       "|---|---|---|---|---|---|\n",
       "| NULL | NA         |         NA | 62         | 64.14399   |        NA  |\n",
       "| definition |  1         | 0.08941082 | 61         | 64.05458   | 0.7649275  |\n",
       "| need |  1         | 0.43710005 | 60         | 63.61748   | 0.5085255  |\n",
       "| purpose |  2         | 3.13018067 | 58         | 60.48730   | 0.2090691  |\n",
       "| interest |  1         | 0.07846807 | 57         | 60.40883   | 0.7793843  |\n",
       "\n"
      ],
      "text/plain": [
       "           Df Deviance   Resid. Df Resid. Dev Pr(>Chi) \n",
       "NULL       NA         NA 62        64.14399          NA\n",
       "definition  1 0.08941082 61        64.05458   0.7649275\n",
       "need        1 0.43710005 60        63.61748   0.5085255\n",
       "purpose     2 3.13018067 58        60.48730   0.2090691\n",
       "interest    1 0.07846807 57        60.40883   0.7793843"
      ]
     },
     "metadata": {},
     "output_type": "display_data"
    },
    {
     "data": {
      "text/html": [
       "0.715277777777778"
      ],
      "text/latex": [
       "0.715277777777778"
      ],
      "text/markdown": [
       "0.715277777777778"
      ],
      "text/plain": [
       "[1] 0.7152778"
      ]
     },
     "metadata": {},
     "output_type": "display_data"
    },
    {
     "data": {
      "image/png": "[encoded data removed]",
      "text/plain": [
       "plot without title"
      ]
     },
     "metadata": {},
     "output_type": "display_data"
    }
   ],
   "source": [
    "model <- glm(d3_2 ~ definition + need + purpose \n",
    "              + interest, data =train, family = binomial)\n",
    "summary(model)\n",
    "\n",
    "\n",
    "anova(model, test=\"Chisq\")\n",
    "\n",
    "\n",
    "p <- predict(model, newdata=test, type=\"response\")\n",
    "pr <- prediction(p, test$d3_2)\n",
    "prf <- performance(pr, measure = \"tpr\", x.measure = \"fpr\")\n",
    "plot(prf)\n",
    "\n",
    "auc <- performance(pr, measure = \"auc\")\n",
    "auc <- auc@y.values[[1]]\n",
    "auc"
   ]
  },
  {
   "cell_type": "code",
   "execution_count": 38,
   "metadata": {},
   "outputs": [
    {
     "data": {
      "text/plain": [
       "\n",
       "Call:\n",
       "glm(formula = d3_3 ~ definition + need + purpose + interest, \n",
       "    family = binomial, data = train)\n",
       "\n",
       "Deviance Residuals: \n",
       "    Min       1Q   Median       3Q      Max  \n",
       "-1.0698  -0.6563  -0.3725  -0.2522   2.6321  \n",
       "\n",
       "Coefficients:\n",
       "                  Estimate Std. Error z value Pr(>|z|)   \n",
       "(Intercept)        -6.2103     2.3278  -2.668  0.00763 **\n",
       "definitionharmony   0.8124     1.1066   0.734  0.46287   \n",
       "needharmony        -0.4509     1.0052  -0.449  0.65375   \n",
       "purposecosmetic     0.7904     1.3057   0.605  0.54495   \n",
       "purposeetc          1.5625     1.1881   1.315  0.18847   \n",
       "interest            0.8055     0.4657   1.730  0.08368 . \n",
       "---\n",
       "Signif. codes:  0 '***' 0.001 '**' 0.01 '*' 0.05 '.' 0.1 ' ' 1\n",
       "\n",
       "(Dispersion parameter for binomial family taken to be 1)\n",
       "\n",
       "    Null deviance: 51.675  on 62  degrees of freedom\n",
       "Residual deviance: 45.614  on 57  degrees of freedom\n",
       "AIC: 57.614\n",
       "\n",
       "Number of Fisher Scoring iterations: 5\n"
      ]
     },
     "metadata": {},
     "output_type": "display_data"
    },
    {
     "data": {
      "text/html": [
       "<table>\n",
       "<thead><tr><th></th><th scope=col>Df</th><th scope=col>Deviance</th><th scope=col>Resid. Df</th><th scope=col>Resid. Dev</th><th scope=col>Pr(&gt;Chi)</th></tr></thead>\n",
       "<tbody>\n",
       "\t<tr><th scope=row>NULL</th><td>NA        </td><td>        NA</td><td>62        </td><td>51.67466  </td><td>        NA</td></tr>\n",
       "\t<tr><th scope=row>definition</th><td> 1        </td><td>0.01171156</td><td>61        </td><td>51.66294  </td><td>0.91382120</td></tr>\n",
       "\t<tr><th scope=row>need</th><td> 1        </td><td>0.04098273</td><td>60        </td><td>51.62196  </td><td>0.83957127</td></tr>\n",
       "\t<tr><th scope=row>purpose</th><td> 2        </td><td>2.55203078</td><td>58        </td><td>49.06993  </td><td>0.27914738</td></tr>\n",
       "\t<tr><th scope=row>interest</th><td> 1        </td><td>3.45546126</td><td>57        </td><td>45.61447  </td><td>0.06304314</td></tr>\n",
       "</tbody>\n",
       "</table>\n"
      ],
      "text/latex": [
       "\\begin{tabular}{r|lllll}\n",
       "  & Df & Deviance & Resid. Df & Resid. Dev & Pr(>Chi)\\\\\n",
       "\\hline\n",
       "\tNULL & NA         &         NA & 62         & 51.67466   &         NA\\\\\n",
       "\tdefinition &  1         & 0.01171156 & 61         & 51.66294   & 0.91382120\\\\\n",
       "\tneed &  1         & 0.04098273 & 60         & 51.62196   & 0.83957127\\\\\n",
       "\tpurpose &  2         & 2.55203078 & 58         & 49.06993   & 0.27914738\\\\\n",
       "\tinterest &  1         & 3.45546126 & 57         & 45.61447   & 0.06304314\\\\\n",
       "\\end{tabular}\n"
      ],
      "text/markdown": [
       "\n",
       "| <!--/--> | Df | Deviance | Resid. Df | Resid. Dev | Pr(>Chi) |\n",
       "|---|---|---|---|---|---|\n",
       "| NULL | NA         |         NA | 62         | 51.67466   |         NA |\n",
       "| definition |  1         | 0.01171156 | 61         | 51.66294   | 0.91382120 |\n",
       "| need |  1         | 0.04098273 | 60         | 51.62196   | 0.83957127 |\n",
       "| purpose |  2         | 2.55203078 | 58         | 49.06993   | 0.27914738 |\n",
       "| interest |  1         | 3.45546126 | 57         | 45.61447   | 0.06304314 |\n",
       "\n"
      ],
      "text/plain": [
       "           Df Deviance   Resid. Df Resid. Dev Pr(>Chi)  \n",
       "NULL       NA         NA 62        51.67466           NA\n",
       "definition  1 0.01171156 61        51.66294   0.91382120\n",
       "need        1 0.04098273 60        51.62196   0.83957127\n",
       "purpose     2 2.55203078 58        49.06993   0.27914738\n",
       "interest    1 3.45546126 57        45.61447   0.06304314"
      ]
     },
     "metadata": {},
     "output_type": "display_data"
    },
    {
     "data": {
      "text/html": [
       "0.485294117647059"
      ],
      "text/latex": [
       "0.485294117647059"
      ],
      "text/markdown": [
       "0.485294117647059"
      ],
      "text/plain": [
       "[1] 0.4852941"
      ]
     },
     "metadata": {},
     "output_type": "display_data"
    },
    {
     "data": {
      "image/png": "[encoded data removed]",
      "text/plain": [
       "plot without title"
      ]
     },
     "metadata": {},
     "output_type": "display_data"
    }
   ],
   "source": [
    "model <- glm(d3_3 ~ definition + need + purpose \n",
    "              + interest, data =train, family = binomial)\n",
    "summary(model)\n",
    "\n",
    "\n",
    "anova(model, test=\"Chisq\")\n",
    "\n",
    "\n",
    "p <- predict(model, newdata=test, type=\"response\")\n",
    "pr <- prediction(p, test$d3_3)\n",
    "prf <- performance(pr, measure = \"tpr\", x.measure = \"fpr\")\n",
    "plot(prf)\n",
    "\n",
    "auc <- performance(pr, measure = \"auc\")\n",
    "auc <- auc@y.values[[1]]\n",
    "auc"
   ]
  },
  {
   "cell_type": "code",
   "execution_count": 39,
   "metadata": {},
   "outputs": [
    {
     "data": {
      "text/plain": [
       "\n",
       "Call:\n",
       "glm(formula = d3_4 ~ definition + need + purpose + interest, \n",
       "    family = binomial, data = train)\n",
       "\n",
       "Deviance Residuals: \n",
       "    Min       1Q   Median       3Q      Max  \n",
       "-0.7844  -0.6310  -0.4839  -0.3399   2.3270  \n",
       "\n",
       "Coefficients:\n",
       "                  Estimate Std. Error z value Pr(>|z|)\n",
       "(Intercept)        -0.4434     1.6578  -0.267    0.789\n",
       "definitionharmony   0.3244     1.0368   0.313    0.754\n",
       "needharmony        -0.3292     0.9682  -0.340    0.734\n",
       "purposecosmetic    -1.1256     1.2207  -0.922    0.356\n",
       "purposeetc          0.1320     0.8283   0.159    0.873\n",
       "interest           -0.3549     0.4004  -0.886    0.375\n",
       "\n",
       "(Dispersion parameter for binomial family taken to be 1)\n",
       "\n",
       "    Null deviance: 51.675  on 62  degrees of freedom\n",
       "Residual deviance: 49.391  on 57  degrees of freedom\n",
       "AIC: 61.391\n",
       "\n",
       "Number of Fisher Scoring iterations: 5\n"
      ]
     },
     "metadata": {},
     "output_type": "display_data"
    },
    {
     "data": {
      "text/html": [
       "<table>\n",
       "<thead><tr><th></th><th scope=col>Df</th><th scope=col>Deviance</th><th scope=col>Resid. Df</th><th scope=col>Resid. Dev</th><th scope=col>Pr(&gt;Chi)</th></tr></thead>\n",
       "<tbody>\n",
       "\t<tr><th scope=row>NULL</th><td>NA        </td><td>        NA</td><td>62        </td><td>51.67466  </td><td>       NA </td></tr>\n",
       "\t<tr><th scope=row>definition</th><td> 1        </td><td>0.01171156</td><td>61        </td><td>51.66294  </td><td>0.9138212 </td></tr>\n",
       "\t<tr><th scope=row>need</th><td> 1        </td><td>0.04098273</td><td>60        </td><td>51.62196  </td><td>0.8395713 </td></tr>\n",
       "\t<tr><th scope=row>purpose</th><td> 2        </td><td>1.43859205</td><td>58        </td><td>50.18337  </td><td>0.4870950 </td></tr>\n",
       "\t<tr><th scope=row>interest</th><td> 1        </td><td>0.79228601</td><td>57        </td><td>49.39108  </td><td>0.3734098 </td></tr>\n",
       "</tbody>\n",
       "</table>\n"
      ],
      "text/latex": [
       "\\begin{tabular}{r|lllll}\n",
       "  & Df & Deviance & Resid. Df & Resid. Dev & Pr(>Chi)\\\\\n",
       "\\hline\n",
       "\tNULL & NA         &         NA & 62         & 51.67466   &        NA \\\\\n",
       "\tdefinition &  1         & 0.01171156 & 61         & 51.66294   & 0.9138212 \\\\\n",
       "\tneed &  1         & 0.04098273 & 60         & 51.62196   & 0.8395713 \\\\\n",
       "\tpurpose &  2         & 1.43859205 & 58         & 50.18337   & 0.4870950 \\\\\n",
       "\tinterest &  1         & 0.79228601 & 57         & 49.39108   & 0.3734098 \\\\\n",
       "\\end{tabular}\n"
      ],
      "text/markdown": [
       "\n",
       "| <!--/--> | Df | Deviance | Resid. Df | Resid. Dev | Pr(>Chi) |\n",
       "|---|---|---|---|---|---|\n",
       "| NULL | NA         |         NA | 62         | 51.67466   |        NA  |\n",
       "| definition |  1         | 0.01171156 | 61         | 51.66294   | 0.9138212  |\n",
       "| need |  1         | 0.04098273 | 60         | 51.62196   | 0.8395713  |\n",
       "| purpose |  2         | 1.43859205 | 58         | 50.18337   | 0.4870950  |\n",
       "| interest |  1         | 0.79228601 | 57         | 49.39108   | 0.3734098  |\n",
       "\n"
      ],
      "text/plain": [
       "           Df Deviance   Resid. Df Resid. Dev Pr(>Chi) \n",
       "NULL       NA         NA 62        51.67466          NA\n",
       "definition  1 0.01171156 61        51.66294   0.9138212\n",
       "need        1 0.04098273 60        51.62196   0.8395713\n",
       "purpose     2 1.43859205 58        50.18337   0.4870950\n",
       "interest    1 0.79228601 57        49.39108   0.3734098"
      ]
     },
     "metadata": {},
     "output_type": "display_data"
    },
    {
     "data": {
      "text/html": [
       "0.28968253968254"
      ],
      "text/latex": [
       "0.28968253968254"
      ],
      "text/markdown": [
       "0.28968253968254"
      ],
      "text/plain": [
       "[1] 0.2896825"
      ]
     },
     "metadata": {},
     "output_type": "display_data"
    },
    {
     "data": {
      "image/png": "[encoded data removed]",
      "text/plain": [
       "plot without title"
      ]
     },
     "metadata": {},
     "output_type": "display_data"
    }
   ],
   "source": [
    "model <- glm(d3_4 ~ definition + need + purpose \n",
    "              + interest, data =train, family = binomial)\n",
    "summary(model)\n",
    "\n",
    "\n",
    "anova(model, test=\"Chisq\")\n",
    "\n",
    "\n",
    "p <- predict(model, newdata=test, type=\"response\")\n",
    "pr <- prediction(p, test$d3_4)\n",
    "prf <- performance(pr, measure = \"tpr\", x.measure = \"fpr\")\n",
    "plot(prf)\n",
    "\n",
    "auc <- performance(pr, measure = \"auc\")\n",
    "auc <- auc@y.values[[1]]\n",
    "auc"
   ]
  },
  {
   "cell_type": "code",
   "execution_count": 40,
   "metadata": {},
   "outputs": [
    {
     "data": {
      "text/plain": [
       "\n",
       "Call:\n",
       "glm(formula = d3_5 ~ definition + need + purpose + interest, \n",
       "    family = binomial, data = train)\n",
       "\n",
       "Deviance Residuals: \n",
       "    Min       1Q   Median       3Q      Max  \n",
       "-1.2509  -0.8293  -0.6756   1.2896   2.0832  \n",
       "\n",
       "Coefficients:\n",
       "                  Estimate Std. Error z value Pr(>|z|)\n",
       "(Intercept)        0.73135    1.29492   0.565    0.572\n",
       "definitionharmony  0.30414    0.77523   0.392    0.695\n",
       "needharmony        0.02908    0.71432   0.041    0.968\n",
       "purposecosmetic   -0.07518    0.75383  -0.100    0.921\n",
       "purposeetc        -0.35431    0.68533  -0.517    0.605\n",
       "interest          -0.48515    0.31354  -1.547    0.122\n",
       "\n",
       "(Dispersion parameter for binomial family taken to be 1)\n",
       "\n",
       "    Null deviance: 75.382  on 62  degrees of freedom\n",
       "Residual deviance: 71.936  on 57  degrees of freedom\n",
       "AIC: 83.936\n",
       "\n",
       "Number of Fisher Scoring iterations: 4\n"
      ]
     },
     "metadata": {},
     "output_type": "display_data"
    },
    {
     "data": {
      "text/html": [
       "<table>\n",
       "<thead><tr><th></th><th scope=col>Df</th><th scope=col>Deviance</th><th scope=col>Resid. Df</th><th scope=col>Resid. Dev</th><th scope=col>Pr(&gt;Chi)</th></tr></thead>\n",
       "<tbody>\n",
       "\t<tr><th scope=row>NULL</th><td>NA         </td><td>         NA</td><td>62         </td><td>75.38197   </td><td>       NA  </td></tr>\n",
       "\t<tr><th scope=row>definition</th><td> 1         </td><td>0.578959430</td><td>61         </td><td>74.80301   </td><td>0.4467205  </td></tr>\n",
       "\t<tr><th scope=row>need</th><td> 1         </td><td>0.001465467</td><td>60         </td><td>74.80154   </td><td>0.9694633  </td></tr>\n",
       "\t<tr><th scope=row>purpose</th><td> 2         </td><td>0.368194079</td><td>58         </td><td>74.43335   </td><td>0.8318551  </td></tr>\n",
       "\t<tr><th scope=row>interest</th><td> 1         </td><td>2.497602303</td><td>57         </td><td>71.93575   </td><td>0.1140198  </td></tr>\n",
       "</tbody>\n",
       "</table>\n"
      ],
      "text/latex": [
       "\\begin{tabular}{r|lllll}\n",
       "  & Df & Deviance & Resid. Df & Resid. Dev & Pr(>Chi)\\\\\n",
       "\\hline\n",
       "\tNULL & NA          &          NA & 62          & 75.38197    &        NA  \\\\\n",
       "\tdefinition &  1          & 0.578959430 & 61          & 74.80301    & 0.4467205  \\\\\n",
       "\tneed &  1          & 0.001465467 & 60          & 74.80154    & 0.9694633  \\\\\n",
       "\tpurpose &  2          & 0.368194079 & 58          & 74.43335    & 0.8318551  \\\\\n",
       "\tinterest &  1          & 2.497602303 & 57          & 71.93575    & 0.1140198  \\\\\n",
       "\\end{tabular}\n"
      ],
      "text/markdown": [
       "\n",
       "| <!--/--> | Df | Deviance | Resid. Df | Resid. Dev | Pr(>Chi) |\n",
       "|---|---|---|---|---|---|\n",
       "| NULL | NA          |          NA | 62          | 75.38197    |        NA   |\n",
       "| definition |  1          | 0.578959430 | 61          | 74.80301    | 0.4467205   |\n",
       "| need |  1          | 0.001465467 | 60          | 74.80154    | 0.9694633   |\n",
       "| purpose |  2          | 0.368194079 | 58          | 74.43335    | 0.8318551   |\n",
       "| interest |  1          | 2.497602303 | 57          | 71.93575    | 0.1140198   |\n",
       "\n"
      ],
      "text/plain": [
       "           Df Deviance    Resid. Df Resid. Dev Pr(>Chi) \n",
       "NULL       NA          NA 62        75.38197          NA\n",
       "definition  1 0.578959430 61        74.80301   0.4467205\n",
       "need        1 0.001465467 60        74.80154   0.9694633\n",
       "purpose     2 0.368194079 58        74.43335   0.8318551\n",
       "interest    1 2.497602303 57        71.93575   0.1140198"
      ]
     },
     "metadata": {},
     "output_type": "display_data"
    },
    {
     "data": {
      "text/html": [
       "0.440909090909091"
      ],
      "text/latex": [
       "0.440909090909091"
      ],
      "text/markdown": [
       "0.440909090909091"
      ],
      "text/plain": [
       "[1] 0.4409091"
      ]
     },
     "metadata": {},
     "output_type": "display_data"
    },
    {
     "data": {
      "image/png": "[encoded data removed]",
      "text/plain": [
       "plot without title"
      ]
     },
     "metadata": {},
     "output_type": "display_data"
    }
   ],
   "source": [
    "model <- glm(d3_5 ~ definition + need + purpose \n",
    "              + interest, data =train, family = binomial)\n",
    "summary(model)\n",
    "\n",
    "\n",
    "anova(model, test=\"Chisq\")\n",
    "\n",
    "\n",
    "p <- predict(model, newdata=test, type=\"response\")\n",
    "pr <- prediction(p, test$d3_5)\n",
    "prf <- performance(pr, measure = \"tpr\", x.measure = \"fpr\")\n",
    "plot(prf)\n",
    "\n",
    "auc <- performance(pr, measure = \"auc\")\n",
    "auc <- auc@y.values[[1]]\n",
    "auc"
   ]
  },
  {
   "cell_type": "code",
   "execution_count": null,
   "metadata": {},
   "outputs": [],
   "source": []
  }
 ],
 "metadata": {
  "kernelspec": {
   "display_name": "R",
   "language": "R",
   "name": "ir"
  },
  "language_info": {
   "codemirror_mode": "r",
   "file_extension": ".r",
   "mimetype": "text/x-r-source",
   "name": "R",
   "pygments_lexer": "r",
   "version": "3.6.1"
  }
 },
 "nbformat": 4,
 "nbformat_minor": 4
}
