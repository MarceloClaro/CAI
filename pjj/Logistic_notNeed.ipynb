{
 "cells": [
  {
   "cell_type": "code",
   "execution_count": 1,
   "metadata": {},
   "outputs": [],
   "source": [
    "total1 <- read.csv(\"C:/Users/utan_/Desktop/전처리/1번설문/comp1.csv\")"
   ]
  },
  {
   "cell_type": "code",
   "execution_count": 2,
   "metadata": {},
   "outputs": [
    {
     "name": "stdout",
     "output_type": "stream",
     "text": [
      "'data.frame':\t117 obs. of  13 variables:\n",
      " $ X          : int  0 1 2 3 4 5 6 7 8 9 ...\n",
      " $ sex        : Factor w/ 2 levels \"Female\",\"Male\": 2 1 1 1 1 1 1 2 1 1 ...\n",
      " $ age_class  : int  20 20 20 20 20 20 20 20 20 20 ...\n",
      " $ definition : Factor w/ 2 levels \"bright\",\"harmony\": 2 1 1 2 1 2 2 2 2 1 ...\n",
      " $ need       : Factor w/ 2 levels \"bright\",\"harmony\": 2 2 1 2 1 2 2 2 2 1 ...\n",
      " $ purpose    : Factor w/ 3 levels \"clothes\",\"cosmetic\",..: 1 1 1 1 3 3 3 1 1 1 ...\n",
      " $ interest   : int  5 5 3 3 4 2 5 3 4 4 ...\n",
      " $ comp       : int  0 1 0 0 0 0 1 1 1 0 ...\n",
      " $ triangle1  : int  5 1 4 5 2 4 4 1 4 5 ...\n",
      " $ triangle2  : int  2 2 1 4 1 1 5 3 1 2 ...\n",
      " $ doubleness1: int  3 2 2 5 1 2 3 1 1 2 ...\n",
      " $ doubleness2: int  2 3 1 4 2 2 3 5 2 1 ...\n",
      " $ doubleness3: int  2 2 2 1 2 2 3 5 2 5 ...\n"
     ]
    }
   ],
   "source": [
    "str(total1)"
   ]
  },
  {
   "cell_type": "code",
   "execution_count": 3,
   "metadata": {},
   "outputs": [
    {
     "data": {
      "text/html": [
       "<table>\n",
       "<thead><tr><th scope=col>X</th><th scope=col>sex</th><th scope=col>age_class</th><th scope=col>definition</th><th scope=col>need</th><th scope=col>purpose</th><th scope=col>interest</th><th scope=col>comp</th><th scope=col>triangle1</th><th scope=col>triangle2</th><th scope=col>doubleness1</th><th scope=col>doubleness2</th><th scope=col>doubleness3</th></tr></thead>\n",
       "<tbody>\n",
       "\t<tr><td>0      </td><td>Male   </td><td>20     </td><td>harmony</td><td>harmony</td><td>clothes</td><td>5      </td><td>0      </td><td>5      </td><td>2      </td><td>3      </td><td>2      </td><td>2      </td></tr>\n",
       "\t<tr><td>1      </td><td>Female </td><td>20     </td><td>bright </td><td>harmony</td><td>clothes</td><td>5      </td><td>1      </td><td>1      </td><td>2      </td><td>2      </td><td>3      </td><td>2      </td></tr>\n",
       "\t<tr><td>2      </td><td>Female </td><td>20     </td><td>bright </td><td>bright </td><td>clothes</td><td>3      </td><td>0      </td><td>4      </td><td>1      </td><td>2      </td><td>1      </td><td>2      </td></tr>\n",
       "\t<tr><td>3      </td><td>Female </td><td>20     </td><td>harmony</td><td>harmony</td><td>clothes</td><td>3      </td><td>0      </td><td>5      </td><td>4      </td><td>5      </td><td>4      </td><td>1      </td></tr>\n",
       "\t<tr><td>4      </td><td>Female </td><td>20     </td><td>bright </td><td>bright </td><td>etc    </td><td>4      </td><td>0      </td><td>2      </td><td>1      </td><td>1      </td><td>2      </td><td>2      </td></tr>\n",
       "\t<tr><td>5      </td><td>Female </td><td>20     </td><td>harmony</td><td>harmony</td><td>etc    </td><td>2      </td><td>0      </td><td>4      </td><td>1      </td><td>2      </td><td>2      </td><td>2      </td></tr>\n",
       "</tbody>\n",
       "</table>\n"
      ],
      "text/latex": [
       "\\begin{tabular}{r|lllllllllllll}\n",
       " X & sex & age\\_class & definition & need & purpose & interest & comp & triangle1 & triangle2 & doubleness1 & doubleness2 & doubleness3\\\\\n",
       "\\hline\n",
       "\t 0       & Male    & 20      & harmony & harmony & clothes & 5       & 0       & 5       & 2       & 3       & 2       & 2      \\\\\n",
       "\t 1       & Female  & 20      & bright  & harmony & clothes & 5       & 1       & 1       & 2       & 2       & 3       & 2      \\\\\n",
       "\t 2       & Female  & 20      & bright  & bright  & clothes & 3       & 0       & 4       & 1       & 2       & 1       & 2      \\\\\n",
       "\t 3       & Female  & 20      & harmony & harmony & clothes & 3       & 0       & 5       & 4       & 5       & 4       & 1      \\\\\n",
       "\t 4       & Female  & 20      & bright  & bright  & etc     & 4       & 0       & 2       & 1       & 1       & 2       & 2      \\\\\n",
       "\t 5       & Female  & 20      & harmony & harmony & etc     & 2       & 0       & 4       & 1       & 2       & 2       & 2      \\\\\n",
       "\\end{tabular}\n"
      ],
      "text/markdown": [
       "\n",
       "| X | sex | age_class | definition | need | purpose | interest | comp | triangle1 | triangle2 | doubleness1 | doubleness2 | doubleness3 |\n",
       "|---|---|---|---|---|---|---|---|---|---|---|---|---|\n",
       "| 0       | Male    | 20      | harmony | harmony | clothes | 5       | 0       | 5       | 2       | 3       | 2       | 2       |\n",
       "| 1       | Female  | 20      | bright  | harmony | clothes | 5       | 1       | 1       | 2       | 2       | 3       | 2       |\n",
       "| 2       | Female  | 20      | bright  | bright  | clothes | 3       | 0       | 4       | 1       | 2       | 1       | 2       |\n",
       "| 3       | Female  | 20      | harmony | harmony | clothes | 3       | 0       | 5       | 4       | 5       | 4       | 1       |\n",
       "| 4       | Female  | 20      | bright  | bright  | etc     | 4       | 0       | 2       | 1       | 1       | 2       | 2       |\n",
       "| 5       | Female  | 20      | harmony | harmony | etc     | 2       | 0       | 4       | 1       | 2       | 2       | 2       |\n",
       "\n"
      ],
      "text/plain": [
       "  X sex    age_class definition need    purpose interest comp triangle1\n",
       "1 0 Male   20        harmony    harmony clothes 5        0    5        \n",
       "2 1 Female 20        bright     harmony clothes 5        1    1        \n",
       "3 2 Female 20        bright     bright  clothes 3        0    4        \n",
       "4 3 Female 20        harmony    harmony clothes 3        0    5        \n",
       "5 4 Female 20        bright     bright  etc     4        0    2        \n",
       "6 5 Female 20        harmony    harmony etc     2        0    4        \n",
       "  triangle2 doubleness1 doubleness2 doubleness3\n",
       "1 2         3           2           2          \n",
       "2 2         2           3           2          \n",
       "3 1         2           1           2          \n",
       "4 4         5           4           1          \n",
       "5 1         1           2           2          \n",
       "6 1         2           2           2          "
      ]
     },
     "metadata": {},
     "output_type": "display_data"
    }
   ],
   "source": [
    "head(total1)"
   ]
  },
  {
   "cell_type": "code",
   "execution_count": 4,
   "metadata": {
    "scrolled": true
   },
   "outputs": [
    {
     "data": {
      "text/html": [
       "<table>\n",
       "<thead><tr><th scope=col>X</th><th scope=col>sex</th><th scope=col>age_class</th><th scope=col>definition</th><th scope=col>need</th><th scope=col>purpose</th><th scope=col>interest</th><th scope=col>comp</th><th scope=col>triangle1</th><th scope=col>triangle2</th><th scope=col>doubleness1</th><th scope=col>doubleness2</th><th scope=col>doubleness3</th></tr></thead>\n",
       "<tbody>\n",
       "\t<tr><td> 0      </td><td>Male    </td><td>20      </td><td>harmony </td><td>harmony </td><td>clothes </td><td>5       </td><td>0       </td><td>5       </td><td>2       </td><td>3       </td><td>2       </td><td>2       </td></tr>\n",
       "\t<tr><td> 1      </td><td>Female  </td><td>20      </td><td>bright  </td><td>harmony </td><td>clothes </td><td>5       </td><td>1       </td><td>1       </td><td>2       </td><td>2       </td><td>3       </td><td>2       </td></tr>\n",
       "\t<tr><td> 2      </td><td>Female  </td><td>20      </td><td>bright  </td><td>bright  </td><td>clothes </td><td>3       </td><td>0       </td><td>4       </td><td>1       </td><td>2       </td><td>1       </td><td>2       </td></tr>\n",
       "\t<tr><td> 3      </td><td>Female  </td><td>20      </td><td>harmony </td><td>harmony </td><td>clothes </td><td>3       </td><td>0       </td><td>5       </td><td>4       </td><td>5       </td><td>4       </td><td>1       </td></tr>\n",
       "\t<tr><td> 4      </td><td>Female  </td><td>20      </td><td>bright  </td><td>bright  </td><td>etc     </td><td>4       </td><td>0       </td><td>2       </td><td>1       </td><td>1       </td><td>2       </td><td>2       </td></tr>\n",
       "\t<tr><td> 5      </td><td>Female  </td><td>20      </td><td>harmony </td><td>harmony </td><td>etc     </td><td>2       </td><td>0       </td><td>4       </td><td>1       </td><td>2       </td><td>2       </td><td>2       </td></tr>\n",
       "\t<tr><td> 6      </td><td>Female  </td><td>20      </td><td>harmony </td><td>harmony </td><td>etc     </td><td>5       </td><td>1       </td><td>4       </td><td>5       </td><td>3       </td><td>3       </td><td>3       </td></tr>\n",
       "\t<tr><td> 7      </td><td>Male    </td><td>20      </td><td>harmony </td><td>harmony </td><td>clothes </td><td>3       </td><td>1       </td><td>1       </td><td>3       </td><td>1       </td><td>5       </td><td>5       </td></tr>\n",
       "\t<tr><td> 8      </td><td>Female  </td><td>20      </td><td>harmony </td><td>harmony </td><td>clothes </td><td>4       </td><td>1       </td><td>4       </td><td>1       </td><td>1       </td><td>2       </td><td>2       </td></tr>\n",
       "\t<tr><td> 9      </td><td>Female  </td><td>20      </td><td>bright  </td><td>bright  </td><td>clothes </td><td>4       </td><td>0       </td><td>5       </td><td>2       </td><td>2       </td><td>1       </td><td>5       </td></tr>\n",
       "\t<tr><td>10      </td><td>Female  </td><td>20      </td><td>harmony </td><td>harmony </td><td>etc     </td><td>3       </td><td>0       </td><td>3       </td><td>2       </td><td>3       </td><td>5       </td><td>2       </td></tr>\n",
       "\t<tr><td>11      </td><td>Male    </td><td>20      </td><td>harmony </td><td>harmony </td><td>clothes </td><td>3       </td><td>0       </td><td>4       </td><td>5       </td><td>4       </td><td>3       </td><td>3       </td></tr>\n",
       "\t<tr><td>12      </td><td>Female  </td><td>20      </td><td>harmony </td><td>harmony </td><td>etc     </td><td>3       </td><td>1       </td><td>4       </td><td>3       </td><td>3       </td><td>1       </td><td>2       </td></tr>\n",
       "\t<tr><td>13      </td><td>Female  </td><td>20      </td><td>bright  </td><td>bright  </td><td>cosmetic</td><td>3       </td><td>1       </td><td>3       </td><td>1       </td><td>1       </td><td>4       </td><td>2       </td></tr>\n",
       "\t<tr><td>14      </td><td>Female  </td><td>20      </td><td>harmony </td><td>harmony </td><td>clothes </td><td>3       </td><td>1       </td><td>5       </td><td>2       </td><td>3       </td><td>2       </td><td>5       </td></tr>\n",
       "\t<tr><td>15      </td><td>Female  </td><td>50      </td><td>harmony </td><td>harmony </td><td>clothes </td><td>3       </td><td>0       </td><td>4       </td><td>4       </td><td>4       </td><td>4       </td><td>4       </td></tr>\n",
       "\t<tr><td>16      </td><td>Female  </td><td>20      </td><td>harmony </td><td>bright  </td><td>etc     </td><td>3       </td><td>0       </td><td>1       </td><td>3       </td><td>1       </td><td>1       </td><td>3       </td></tr>\n",
       "\t<tr><td>17      </td><td>Female  </td><td>20      </td><td>harmony </td><td>harmony </td><td>clothes </td><td>3       </td><td>0       </td><td>2       </td><td>3       </td><td>5       </td><td>1       </td><td>3       </td></tr>\n",
       "\t<tr><td>18      </td><td>Male    </td><td>20      </td><td>harmony </td><td>harmony </td><td>clothes </td><td>2       </td><td>1       </td><td>5       </td><td>4       </td><td>4       </td><td>1       </td><td>3       </td></tr>\n",
       "\t<tr><td>19      </td><td>Female  </td><td>20      </td><td>bright  </td><td>bright  </td><td>etc     </td><td>3       </td><td>0       </td><td>2       </td><td>5       </td><td>2       </td><td>2       </td><td>1       </td></tr>\n",
       "\t<tr><td>20      </td><td>Female  </td><td>20      </td><td>harmony </td><td>bright  </td><td>cosmetic</td><td>4       </td><td>0       </td><td>4       </td><td>4       </td><td>1       </td><td>4       </td><td>1       </td></tr>\n",
       "\t<tr><td>21      </td><td>Female  </td><td>20      </td><td>harmony </td><td>harmony </td><td>cosmetic</td><td>5       </td><td>1       </td><td>4       </td><td>5       </td><td>1       </td><td>1       </td><td>1       </td></tr>\n",
       "\t<tr><td>22      </td><td>Female  </td><td>20      </td><td>harmony </td><td>harmony </td><td>clothes </td><td>5       </td><td>1       </td><td>4       </td><td>2       </td><td>2       </td><td>5       </td><td>1       </td></tr>\n",
       "\t<tr><td>23      </td><td>Female  </td><td>20      </td><td>harmony </td><td>harmony </td><td>etc     </td><td>5       </td><td>1       </td><td>4       </td><td>5       </td><td>2       </td><td>1       </td><td>5       </td></tr>\n",
       "\t<tr><td>24      </td><td>Male    </td><td>20      </td><td>harmony </td><td>harmony </td><td>clothes </td><td>2       </td><td>1       </td><td>3       </td><td>4       </td><td>2       </td><td>3       </td><td>2       </td></tr>\n",
       "\t<tr><td>25      </td><td>Male    </td><td>20      </td><td>harmony </td><td>harmony </td><td>clothes </td><td>2       </td><td>0       </td><td>1       </td><td>3       </td><td>1       </td><td>4       </td><td>2       </td></tr>\n",
       "\t<tr><td>26      </td><td>Female  </td><td>20      </td><td>bright  </td><td>bright  </td><td>etc     </td><td>5       </td><td>0       </td><td>2       </td><td>2       </td><td>1       </td><td>3       </td><td>5       </td></tr>\n",
       "\t<tr><td>27      </td><td>Female  </td><td>20      </td><td>bright  </td><td>bright  </td><td>etc     </td><td>4       </td><td>0       </td><td>4       </td><td>4       </td><td>4       </td><td>5       </td><td>5       </td></tr>\n",
       "\t<tr><td>28      </td><td>Male    </td><td>30      </td><td>harmony </td><td>harmony </td><td>clothes </td><td>3       </td><td>0       </td><td>1       </td><td>1       </td><td>3       </td><td>2       </td><td>2       </td></tr>\n",
       "\t<tr><td>29      </td><td>Female  </td><td>20      </td><td>harmony </td><td>harmony </td><td>clothes </td><td>3       </td><td>0       </td><td>5       </td><td>1       </td><td>1       </td><td>1       </td><td>5       </td></tr>\n",
       "\t<tr><td>...</td><td>...</td><td>...</td><td>...</td><td>...</td><td>...</td><td>...</td><td>...</td><td>...</td><td>...</td><td>...</td><td>...</td><td>...</td></tr>\n",
       "\t<tr><td> 87     </td><td>Female  </td><td>30      </td><td>bright  </td><td>bright  </td><td>etc     </td><td>4       </td><td>0       </td><td>2       </td><td>2       </td><td>4       </td><td>1       </td><td>3       </td></tr>\n",
       "\t<tr><td> 88     </td><td>Female  </td><td>30      </td><td>harmony </td><td>bright  </td><td>cosmetic</td><td>3       </td><td>0       </td><td>1       </td><td>1       </td><td>4       </td><td>1       </td><td>4       </td></tr>\n",
       "\t<tr><td> 89     </td><td>Female  </td><td>20      </td><td>harmony </td><td>harmony </td><td>clothes </td><td>3       </td><td>0       </td><td>4       </td><td>3       </td><td>4       </td><td>5       </td><td>3       </td></tr>\n",
       "\t<tr><td> 90     </td><td>Female  </td><td>20      </td><td>harmony </td><td>harmony </td><td>clothes </td><td>3       </td><td>1       </td><td>2       </td><td>2       </td><td>2       </td><td>4       </td><td>3       </td></tr>\n",
       "\t<tr><td> 91     </td><td>Female  </td><td>20      </td><td>harmony </td><td>harmony </td><td>etc     </td><td>3       </td><td>0       </td><td>1       </td><td>1       </td><td>3       </td><td>1       </td><td>2       </td></tr>\n",
       "\t<tr><td> 92     </td><td>Female  </td><td>20      </td><td>harmony </td><td>harmony </td><td>etc     </td><td>4       </td><td>0       </td><td>4       </td><td>1       </td><td>3       </td><td>3       </td><td>2       </td></tr>\n",
       "\t<tr><td> 93     </td><td>Female  </td><td>20      </td><td>harmony </td><td>harmony </td><td>etc     </td><td>1       </td><td>0       </td><td>4       </td><td>1       </td><td>2       </td><td>1       </td><td>5       </td></tr>\n",
       "\t<tr><td> 94     </td><td>Female  </td><td>20      </td><td>harmony </td><td>harmony </td><td>clothes </td><td>4       </td><td>0       </td><td>1       </td><td>1       </td><td>2       </td><td>4       </td><td>3       </td></tr>\n",
       "\t<tr><td> 95     </td><td>Female  </td><td>20      </td><td>harmony </td><td>harmony </td><td>etc     </td><td>4       </td><td>1       </td><td>2       </td><td>3       </td><td>1       </td><td>1       </td><td>5       </td></tr>\n",
       "\t<tr><td> 96     </td><td>Male    </td><td>20      </td><td>bright  </td><td>bright  </td><td>clothes </td><td>3       </td><td>0       </td><td>3       </td><td>1       </td><td>5       </td><td>2       </td><td>5       </td></tr>\n",
       "\t<tr><td> 97     </td><td>Female  </td><td>20      </td><td>harmony </td><td>harmony </td><td>clothes </td><td>5       </td><td>0       </td><td>4       </td><td>5       </td><td>4       </td><td>1       </td><td>3       </td></tr>\n",
       "\t<tr><td> 98     </td><td>Female  </td><td>10      </td><td>harmony </td><td>harmony </td><td>clothes </td><td>2       </td><td>0       </td><td>1       </td><td>1       </td><td>3       </td><td>4       </td><td>2       </td></tr>\n",
       "\t<tr><td> 99     </td><td>Male    </td><td>20      </td><td>harmony </td><td>harmony </td><td>clothes </td><td>5       </td><td>0       </td><td>1       </td><td>3       </td><td>4       </td><td>1       </td><td>5       </td></tr>\n",
       "\t<tr><td>100     </td><td>Male    </td><td>30      </td><td>bright  </td><td>bright  </td><td>clothes </td><td>3       </td><td>0       </td><td>4       </td><td>5       </td><td>2       </td><td>5       </td><td>4       </td></tr>\n",
       "\t<tr><td>101     </td><td>Female  </td><td>20      </td><td>harmony </td><td>bright  </td><td>etc     </td><td>3       </td><td>1       </td><td>4       </td><td>2       </td><td>4       </td><td>5       </td><td>3       </td></tr>\n",
       "\t<tr><td>102     </td><td>Male    </td><td>20      </td><td>harmony </td><td>harmony </td><td>clothes </td><td>3       </td><td>1       </td><td>4       </td><td>3       </td><td>4       </td><td>1       </td><td>3       </td></tr>\n",
       "\t<tr><td>103     </td><td>Female  </td><td>20      </td><td>harmony </td><td>bright  </td><td>etc     </td><td>5       </td><td>0       </td><td>4       </td><td>5       </td><td>5       </td><td>4       </td><td>3       </td></tr>\n",
       "\t<tr><td>104     </td><td>Female  </td><td>20      </td><td>harmony </td><td>harmony </td><td>etc     </td><td>4       </td><td>0       </td><td>3       </td><td>3       </td><td>3       </td><td>3       </td><td>4       </td></tr>\n",
       "\t<tr><td>105     </td><td>Male    </td><td>20      </td><td>harmony </td><td>harmony </td><td>clothes </td><td>3       </td><td>0       </td><td>1       </td><td>3       </td><td>5       </td><td>3       </td><td>4       </td></tr>\n",
       "\t<tr><td>106     </td><td>Female  </td><td>20      </td><td>harmony </td><td>bright  </td><td>etc     </td><td>3       </td><td>1       </td><td>4       </td><td>5       </td><td>1       </td><td>3       </td><td>1       </td></tr>\n",
       "\t<tr><td>107     </td><td>Female  </td><td>20      </td><td>harmony </td><td>harmony </td><td>clothes </td><td>3       </td><td>0       </td><td>4       </td><td>4       </td><td>2       </td><td>4       </td><td>4       </td></tr>\n",
       "\t<tr><td>108     </td><td>Female  </td><td>20      </td><td>harmony </td><td>harmony </td><td>cosmetic</td><td>4       </td><td>1       </td><td>4       </td><td>5       </td><td>4       </td><td>5       </td><td>4       </td></tr>\n",
       "\t<tr><td>109     </td><td>Male    </td><td>20      </td><td>harmony </td><td>harmony </td><td>clothes </td><td>2       </td><td>0       </td><td>1       </td><td>2       </td><td>4       </td><td>1       </td><td>3       </td></tr>\n",
       "\t<tr><td>110     </td><td>Female  </td><td>20      </td><td>harmony </td><td>harmony </td><td>etc     </td><td>4       </td><td>1       </td><td>3       </td><td>4       </td><td>2       </td><td>4       </td><td>4       </td></tr>\n",
       "\t<tr><td>111     </td><td>Female  </td><td>20      </td><td>harmony </td><td>harmony </td><td>etc     </td><td>4       </td><td>1       </td><td>4       </td><td>5       </td><td>2       </td><td>1       </td><td>5       </td></tr>\n",
       "\t<tr><td>112     </td><td>Female  </td><td>30      </td><td>harmony </td><td>harmony </td><td>cosmetic</td><td>4       </td><td>0       </td><td>2       </td><td>2       </td><td>4       </td><td>1       </td><td>3       </td></tr>\n",
       "\t<tr><td>113     </td><td>Male    </td><td>30      </td><td>harmony </td><td>bright  </td><td>cosmetic</td><td>2       </td><td>1       </td><td>4       </td><td>5       </td><td>2       </td><td>4       </td><td>3       </td></tr>\n",
       "\t<tr><td>114     </td><td>Female  </td><td>20      </td><td>bright  </td><td>harmony </td><td>etc     </td><td>4       </td><td>0       </td><td>5       </td><td>4       </td><td>1       </td><td>2       </td><td>5       </td></tr>\n",
       "\t<tr><td>115     </td><td>Male    </td><td>20      </td><td>bright  </td><td>harmony </td><td>clothes </td><td>2       </td><td>0       </td><td>2       </td><td>5       </td><td>4       </td><td>5       </td><td>5       </td></tr>\n",
       "\t<tr><td>116     </td><td>Female  </td><td>20      </td><td>harmony </td><td>bright  </td><td>clothes </td><td>3       </td><td>0       </td><td>5       </td><td>5       </td><td>4       </td><td>2       </td><td>1       </td></tr>\n",
       "</tbody>\n",
       "</table>\n"
      ],
      "text/latex": [
       "\\begin{tabular}{r|lllllllllllll}\n",
       " X & sex & age\\_class & definition & need & purpose & interest & comp & triangle1 & triangle2 & doubleness1 & doubleness2 & doubleness3\\\\\n",
       "\\hline\n",
       "\t  0       & Male     & 20       & harmony  & harmony  & clothes  & 5        & 0        & 5        & 2        & 3        & 2        & 2       \\\\\n",
       "\t  1       & Female   & 20       & bright   & harmony  & clothes  & 5        & 1        & 1        & 2        & 2        & 3        & 2       \\\\\n",
       "\t  2       & Female   & 20       & bright   & bright   & clothes  & 3        & 0        & 4        & 1        & 2        & 1        & 2       \\\\\n",
       "\t  3       & Female   & 20       & harmony  & harmony  & clothes  & 3        & 0        & 5        & 4        & 5        & 4        & 1       \\\\\n",
       "\t  4       & Female   & 20       & bright   & bright   & etc      & 4        & 0        & 2        & 1        & 1        & 2        & 2       \\\\\n",
       "\t  5       & Female   & 20       & harmony  & harmony  & etc      & 2        & 0        & 4        & 1        & 2        & 2        & 2       \\\\\n",
       "\t  6       & Female   & 20       & harmony  & harmony  & etc      & 5        & 1        & 4        & 5        & 3        & 3        & 3       \\\\\n",
       "\t  7       & Male     & 20       & harmony  & harmony  & clothes  & 3        & 1        & 1        & 3        & 1        & 5        & 5       \\\\\n",
       "\t  8       & Female   & 20       & harmony  & harmony  & clothes  & 4        & 1        & 4        & 1        & 1        & 2        & 2       \\\\\n",
       "\t  9       & Female   & 20       & bright   & bright   & clothes  & 4        & 0        & 5        & 2        & 2        & 1        & 5       \\\\\n",
       "\t 10       & Female   & 20       & harmony  & harmony  & etc      & 3        & 0        & 3        & 2        & 3        & 5        & 2       \\\\\n",
       "\t 11       & Male     & 20       & harmony  & harmony  & clothes  & 3        & 0        & 4        & 5        & 4        & 3        & 3       \\\\\n",
       "\t 12       & Female   & 20       & harmony  & harmony  & etc      & 3        & 1        & 4        & 3        & 3        & 1        & 2       \\\\\n",
       "\t 13       & Female   & 20       & bright   & bright   & cosmetic & 3        & 1        & 3        & 1        & 1        & 4        & 2       \\\\\n",
       "\t 14       & Female   & 20       & harmony  & harmony  & clothes  & 3        & 1        & 5        & 2        & 3        & 2        & 5       \\\\\n",
       "\t 15       & Female   & 50       & harmony  & harmony  & clothes  & 3        & 0        & 4        & 4        & 4        & 4        & 4       \\\\\n",
       "\t 16       & Female   & 20       & harmony  & bright   & etc      & 3        & 0        & 1        & 3        & 1        & 1        & 3       \\\\\n",
       "\t 17       & Female   & 20       & harmony  & harmony  & clothes  & 3        & 0        & 2        & 3        & 5        & 1        & 3       \\\\\n",
       "\t 18       & Male     & 20       & harmony  & harmony  & clothes  & 2        & 1        & 5        & 4        & 4        & 1        & 3       \\\\\n",
       "\t 19       & Female   & 20       & bright   & bright   & etc      & 3        & 0        & 2        & 5        & 2        & 2        & 1       \\\\\n",
       "\t 20       & Female   & 20       & harmony  & bright   & cosmetic & 4        & 0        & 4        & 4        & 1        & 4        & 1       \\\\\n",
       "\t 21       & Female   & 20       & harmony  & harmony  & cosmetic & 5        & 1        & 4        & 5        & 1        & 1        & 1       \\\\\n",
       "\t 22       & Female   & 20       & harmony  & harmony  & clothes  & 5        & 1        & 4        & 2        & 2        & 5        & 1       \\\\\n",
       "\t 23       & Female   & 20       & harmony  & harmony  & etc      & 5        & 1        & 4        & 5        & 2        & 1        & 5       \\\\\n",
       "\t 24       & Male     & 20       & harmony  & harmony  & clothes  & 2        & 1        & 3        & 4        & 2        & 3        & 2       \\\\\n",
       "\t 25       & Male     & 20       & harmony  & harmony  & clothes  & 2        & 0        & 1        & 3        & 1        & 4        & 2       \\\\\n",
       "\t 26       & Female   & 20       & bright   & bright   & etc      & 5        & 0        & 2        & 2        & 1        & 3        & 5       \\\\\n",
       "\t 27       & Female   & 20       & bright   & bright   & etc      & 4        & 0        & 4        & 4        & 4        & 5        & 5       \\\\\n",
       "\t 28       & Male     & 30       & harmony  & harmony  & clothes  & 3        & 0        & 1        & 1        & 3        & 2        & 2       \\\\\n",
       "\t 29       & Female   & 20       & harmony  & harmony  & clothes  & 3        & 0        & 5        & 1        & 1        & 1        & 5       \\\\\n",
       "\t ... & ... & ... & ... & ... & ... & ... & ... & ... & ... & ... & ... & ...\\\\\n",
       "\t  87      & Female   & 30       & bright   & bright   & etc      & 4        & 0        & 2        & 2        & 4        & 1        & 3       \\\\\n",
       "\t  88      & Female   & 30       & harmony  & bright   & cosmetic & 3        & 0        & 1        & 1        & 4        & 1        & 4       \\\\\n",
       "\t  89      & Female   & 20       & harmony  & harmony  & clothes  & 3        & 0        & 4        & 3        & 4        & 5        & 3       \\\\\n",
       "\t  90      & Female   & 20       & harmony  & harmony  & clothes  & 3        & 1        & 2        & 2        & 2        & 4        & 3       \\\\\n",
       "\t  91      & Female   & 20       & harmony  & harmony  & etc      & 3        & 0        & 1        & 1        & 3        & 1        & 2       \\\\\n",
       "\t  92      & Female   & 20       & harmony  & harmony  & etc      & 4        & 0        & 4        & 1        & 3        & 3        & 2       \\\\\n",
       "\t  93      & Female   & 20       & harmony  & harmony  & etc      & 1        & 0        & 4        & 1        & 2        & 1        & 5       \\\\\n",
       "\t  94      & Female   & 20       & harmony  & harmony  & clothes  & 4        & 0        & 1        & 1        & 2        & 4        & 3       \\\\\n",
       "\t  95      & Female   & 20       & harmony  & harmony  & etc      & 4        & 1        & 2        & 3        & 1        & 1        & 5       \\\\\n",
       "\t  96      & Male     & 20       & bright   & bright   & clothes  & 3        & 0        & 3        & 1        & 5        & 2        & 5       \\\\\n",
       "\t  97      & Female   & 20       & harmony  & harmony  & clothes  & 5        & 0        & 4        & 5        & 4        & 1        & 3       \\\\\n",
       "\t  98      & Female   & 10       & harmony  & harmony  & clothes  & 2        & 0        & 1        & 1        & 3        & 4        & 2       \\\\\n",
       "\t  99      & Male     & 20       & harmony  & harmony  & clothes  & 5        & 0        & 1        & 3        & 4        & 1        & 5       \\\\\n",
       "\t 100      & Male     & 30       & bright   & bright   & clothes  & 3        & 0        & 4        & 5        & 2        & 5        & 4       \\\\\n",
       "\t 101      & Female   & 20       & harmony  & bright   & etc      & 3        & 1        & 4        & 2        & 4        & 5        & 3       \\\\\n",
       "\t 102      & Male     & 20       & harmony  & harmony  & clothes  & 3        & 1        & 4        & 3        & 4        & 1        & 3       \\\\\n",
       "\t 103      & Female   & 20       & harmony  & bright   & etc      & 5        & 0        & 4        & 5        & 5        & 4        & 3       \\\\\n",
       "\t 104      & Female   & 20       & harmony  & harmony  & etc      & 4        & 0        & 3        & 3        & 3        & 3        & 4       \\\\\n",
       "\t 105      & Male     & 20       & harmony  & harmony  & clothes  & 3        & 0        & 1        & 3        & 5        & 3        & 4       \\\\\n",
       "\t 106      & Female   & 20       & harmony  & bright   & etc      & 3        & 1        & 4        & 5        & 1        & 3        & 1       \\\\\n",
       "\t 107      & Female   & 20       & harmony  & harmony  & clothes  & 3        & 0        & 4        & 4        & 2        & 4        & 4       \\\\\n",
       "\t 108      & Female   & 20       & harmony  & harmony  & cosmetic & 4        & 1        & 4        & 5        & 4        & 5        & 4       \\\\\n",
       "\t 109      & Male     & 20       & harmony  & harmony  & clothes  & 2        & 0        & 1        & 2        & 4        & 1        & 3       \\\\\n",
       "\t 110      & Female   & 20       & harmony  & harmony  & etc      & 4        & 1        & 3        & 4        & 2        & 4        & 4       \\\\\n",
       "\t 111      & Female   & 20       & harmony  & harmony  & etc      & 4        & 1        & 4        & 5        & 2        & 1        & 5       \\\\\n",
       "\t 112      & Female   & 30       & harmony  & harmony  & cosmetic & 4        & 0        & 2        & 2        & 4        & 1        & 3       \\\\\n",
       "\t 113      & Male     & 30       & harmony  & bright   & cosmetic & 2        & 1        & 4        & 5        & 2        & 4        & 3       \\\\\n",
       "\t 114      & Female   & 20       & bright   & harmony  & etc      & 4        & 0        & 5        & 4        & 1        & 2        & 5       \\\\\n",
       "\t 115      & Male     & 20       & bright   & harmony  & clothes  & 2        & 0        & 2        & 5        & 4        & 5        & 5       \\\\\n",
       "\t 116      & Female   & 20       & harmony  & bright   & clothes  & 3        & 0        & 5        & 5        & 4        & 2        & 1       \\\\\n",
       "\\end{tabular}\n"
      ],
      "text/markdown": [
       "\n",
       "| X | sex | age_class | definition | need | purpose | interest | comp | triangle1 | triangle2 | doubleness1 | doubleness2 | doubleness3 |\n",
       "|---|---|---|---|---|---|---|---|---|---|---|---|---|\n",
       "|  0       | Male     | 20       | harmony  | harmony  | clothes  | 5        | 0        | 5        | 2        | 3        | 2        | 2        |\n",
       "|  1       | Female   | 20       | bright   | harmony  | clothes  | 5        | 1        | 1        | 2        | 2        | 3        | 2        |\n",
       "|  2       | Female   | 20       | bright   | bright   | clothes  | 3        | 0        | 4        | 1        | 2        | 1        | 2        |\n",
       "|  3       | Female   | 20       | harmony  | harmony  | clothes  | 3        | 0        | 5        | 4        | 5        | 4        | 1        |\n",
       "|  4       | Female   | 20       | bright   | bright   | etc      | 4        | 0        | 2        | 1        | 1        | 2        | 2        |\n",
       "|  5       | Female   | 20       | harmony  | harmony  | etc      | 2        | 0        | 4        | 1        | 2        | 2        | 2        |\n",
       "|  6       | Female   | 20       | harmony  | harmony  | etc      | 5        | 1        | 4        | 5        | 3        | 3        | 3        |\n",
       "|  7       | Male     | 20       | harmony  | harmony  | clothes  | 3        | 1        | 1        | 3        | 1        | 5        | 5        |\n",
       "|  8       | Female   | 20       | harmony  | harmony  | clothes  | 4        | 1        | 4        | 1        | 1        | 2        | 2        |\n",
       "|  9       | Female   | 20       | bright   | bright   | clothes  | 4        | 0        | 5        | 2        | 2        | 1        | 5        |\n",
       "| 10       | Female   | 20       | harmony  | harmony  | etc      | 3        | 0        | 3        | 2        | 3        | 5        | 2        |\n",
       "| 11       | Male     | 20       | harmony  | harmony  | clothes  | 3        | 0        | 4        | 5        | 4        | 3        | 3        |\n",
       "| 12       | Female   | 20       | harmony  | harmony  | etc      | 3        | 1        | 4        | 3        | 3        | 1        | 2        |\n",
       "| 13       | Female   | 20       | bright   | bright   | cosmetic | 3        | 1        | 3        | 1        | 1        | 4        | 2        |\n",
       "| 14       | Female   | 20       | harmony  | harmony  | clothes  | 3        | 1        | 5        | 2        | 3        | 2        | 5        |\n",
       "| 15       | Female   | 50       | harmony  | harmony  | clothes  | 3        | 0        | 4        | 4        | 4        | 4        | 4        |\n",
       "| 16       | Female   | 20       | harmony  | bright   | etc      | 3        | 0        | 1        | 3        | 1        | 1        | 3        |\n",
       "| 17       | Female   | 20       | harmony  | harmony  | clothes  | 3        | 0        | 2        | 3        | 5        | 1        | 3        |\n",
       "| 18       | Male     | 20       | harmony  | harmony  | clothes  | 2        | 1        | 5        | 4        | 4        | 1        | 3        |\n",
       "| 19       | Female   | 20       | bright   | bright   | etc      | 3        | 0        | 2        | 5        | 2        | 2        | 1        |\n",
       "| 20       | Female   | 20       | harmony  | bright   | cosmetic | 4        | 0        | 4        | 4        | 1        | 4        | 1        |\n",
       "| 21       | Female   | 20       | harmony  | harmony  | cosmetic | 5        | 1        | 4        | 5        | 1        | 1        | 1        |\n",
       "| 22       | Female   | 20       | harmony  | harmony  | clothes  | 5        | 1        | 4        | 2        | 2        | 5        | 1        |\n",
       "| 23       | Female   | 20       | harmony  | harmony  | etc      | 5        | 1        | 4        | 5        | 2        | 1        | 5        |\n",
       "| 24       | Male     | 20       | harmony  | harmony  | clothes  | 2        | 1        | 3        | 4        | 2        | 3        | 2        |\n",
       "| 25       | Male     | 20       | harmony  | harmony  | clothes  | 2        | 0        | 1        | 3        | 1        | 4        | 2        |\n",
       "| 26       | Female   | 20       | bright   | bright   | etc      | 5        | 0        | 2        | 2        | 1        | 3        | 5        |\n",
       "| 27       | Female   | 20       | bright   | bright   | etc      | 4        | 0        | 4        | 4        | 4        | 5        | 5        |\n",
       "| 28       | Male     | 30       | harmony  | harmony  | clothes  | 3        | 0        | 1        | 1        | 3        | 2        | 2        |\n",
       "| 29       | Female   | 20       | harmony  | harmony  | clothes  | 3        | 0        | 5        | 1        | 1        | 1        | 5        |\n",
       "| ... | ... | ... | ... | ... | ... | ... | ... | ... | ... | ... | ... | ... |\n",
       "|  87      | Female   | 30       | bright   | bright   | etc      | 4        | 0        | 2        | 2        | 4        | 1        | 3        |\n",
       "|  88      | Female   | 30       | harmony  | bright   | cosmetic | 3        | 0        | 1        | 1        | 4        | 1        | 4        |\n",
       "|  89      | Female   | 20       | harmony  | harmony  | clothes  | 3        | 0        | 4        | 3        | 4        | 5        | 3        |\n",
       "|  90      | Female   | 20       | harmony  | harmony  | clothes  | 3        | 1        | 2        | 2        | 2        | 4        | 3        |\n",
       "|  91      | Female   | 20       | harmony  | harmony  | etc      | 3        | 0        | 1        | 1        | 3        | 1        | 2        |\n",
       "|  92      | Female   | 20       | harmony  | harmony  | etc      | 4        | 0        | 4        | 1        | 3        | 3        | 2        |\n",
       "|  93      | Female   | 20       | harmony  | harmony  | etc      | 1        | 0        | 4        | 1        | 2        | 1        | 5        |\n",
       "|  94      | Female   | 20       | harmony  | harmony  | clothes  | 4        | 0        | 1        | 1        | 2        | 4        | 3        |\n",
       "|  95      | Female   | 20       | harmony  | harmony  | etc      | 4        | 1        | 2        | 3        | 1        | 1        | 5        |\n",
       "|  96      | Male     | 20       | bright   | bright   | clothes  | 3        | 0        | 3        | 1        | 5        | 2        | 5        |\n",
       "|  97      | Female   | 20       | harmony  | harmony  | clothes  | 5        | 0        | 4        | 5        | 4        | 1        | 3        |\n",
       "|  98      | Female   | 10       | harmony  | harmony  | clothes  | 2        | 0        | 1        | 1        | 3        | 4        | 2        |\n",
       "|  99      | Male     | 20       | harmony  | harmony  | clothes  | 5        | 0        | 1        | 3        | 4        | 1        | 5        |\n",
       "| 100      | Male     | 30       | bright   | bright   | clothes  | 3        | 0        | 4        | 5        | 2        | 5        | 4        |\n",
       "| 101      | Female   | 20       | harmony  | bright   | etc      | 3        | 1        | 4        | 2        | 4        | 5        | 3        |\n",
       "| 102      | Male     | 20       | harmony  | harmony  | clothes  | 3        | 1        | 4        | 3        | 4        | 1        | 3        |\n",
       "| 103      | Female   | 20       | harmony  | bright   | etc      | 5        | 0        | 4        | 5        | 5        | 4        | 3        |\n",
       "| 104      | Female   | 20       | harmony  | harmony  | etc      | 4        | 0        | 3        | 3        | 3        | 3        | 4        |\n",
       "| 105      | Male     | 20       | harmony  | harmony  | clothes  | 3        | 0        | 1        | 3        | 5        | 3        | 4        |\n",
       "| 106      | Female   | 20       | harmony  | bright   | etc      | 3        | 1        | 4        | 5        | 1        | 3        | 1        |\n",
       "| 107      | Female   | 20       | harmony  | harmony  | clothes  | 3        | 0        | 4        | 4        | 2        | 4        | 4        |\n",
       "| 108      | Female   | 20       | harmony  | harmony  | cosmetic | 4        | 1        | 4        | 5        | 4        | 5        | 4        |\n",
       "| 109      | Male     | 20       | harmony  | harmony  | clothes  | 2        | 0        | 1        | 2        | 4        | 1        | 3        |\n",
       "| 110      | Female   | 20       | harmony  | harmony  | etc      | 4        | 1        | 3        | 4        | 2        | 4        | 4        |\n",
       "| 111      | Female   | 20       | harmony  | harmony  | etc      | 4        | 1        | 4        | 5        | 2        | 1        | 5        |\n",
       "| 112      | Female   | 30       | harmony  | harmony  | cosmetic | 4        | 0        | 2        | 2        | 4        | 1        | 3        |\n",
       "| 113      | Male     | 30       | harmony  | bright   | cosmetic | 2        | 1        | 4        | 5        | 2        | 4        | 3        |\n",
       "| 114      | Female   | 20       | bright   | harmony  | etc      | 4        | 0        | 5        | 4        | 1        | 2        | 5        |\n",
       "| 115      | Male     | 20       | bright   | harmony  | clothes  | 2        | 0        | 2        | 5        | 4        | 5        | 5        |\n",
       "| 116      | Female   | 20       | harmony  | bright   | clothes  | 3        | 0        | 5        | 5        | 4        | 2        | 1        |\n",
       "\n"
      ],
      "text/plain": [
       "    X   sex    age_class definition need    purpose  interest comp triangle1\n",
       "1    0  Male   20        harmony    harmony clothes  5        0    5        \n",
       "2    1  Female 20        bright     harmony clothes  5        1    1        \n",
       "3    2  Female 20        bright     bright  clothes  3        0    4        \n",
       "4    3  Female 20        harmony    harmony clothes  3        0    5        \n",
       "5    4  Female 20        bright     bright  etc      4        0    2        \n",
       "6    5  Female 20        harmony    harmony etc      2        0    4        \n",
       "7    6  Female 20        harmony    harmony etc      5        1    4        \n",
       "8    7  Male   20        harmony    harmony clothes  3        1    1        \n",
       "9    8  Female 20        harmony    harmony clothes  4        1    4        \n",
       "10   9  Female 20        bright     bright  clothes  4        0    5        \n",
       "11  10  Female 20        harmony    harmony etc      3        0    3        \n",
       "12  11  Male   20        harmony    harmony clothes  3        0    4        \n",
       "13  12  Female 20        harmony    harmony etc      3        1    4        \n",
       "14  13  Female 20        bright     bright  cosmetic 3        1    3        \n",
       "15  14  Female 20        harmony    harmony clothes  3        1    5        \n",
       "16  15  Female 50        harmony    harmony clothes  3        0    4        \n",
       "17  16  Female 20        harmony    bright  etc      3        0    1        \n",
       "18  17  Female 20        harmony    harmony clothes  3        0    2        \n",
       "19  18  Male   20        harmony    harmony clothes  2        1    5        \n",
       "20  19  Female 20        bright     bright  etc      3        0    2        \n",
       "21  20  Female 20        harmony    bright  cosmetic 4        0    4        \n",
       "22  21  Female 20        harmony    harmony cosmetic 5        1    4        \n",
       "23  22  Female 20        harmony    harmony clothes  5        1    4        \n",
       "24  23  Female 20        harmony    harmony etc      5        1    4        \n",
       "25  24  Male   20        harmony    harmony clothes  2        1    3        \n",
       "26  25  Male   20        harmony    harmony clothes  2        0    1        \n",
       "27  26  Female 20        bright     bright  etc      5        0    2        \n",
       "28  27  Female 20        bright     bright  etc      4        0    4        \n",
       "29  28  Male   30        harmony    harmony clothes  3        0    1        \n",
       "30  29  Female 20        harmony    harmony clothes  3        0    5        \n",
       "... ... ...    ...       ...        ...     ...      ...      ...  ...      \n",
       "88   87 Female 30        bright     bright  etc      4        0    2        \n",
       "89   88 Female 30        harmony    bright  cosmetic 3        0    1        \n",
       "90   89 Female 20        harmony    harmony clothes  3        0    4        \n",
       "91   90 Female 20        harmony    harmony clothes  3        1    2        \n",
       "92   91 Female 20        harmony    harmony etc      3        0    1        \n",
       "93   92 Female 20        harmony    harmony etc      4        0    4        \n",
       "94   93 Female 20        harmony    harmony etc      1        0    4        \n",
       "95   94 Female 20        harmony    harmony clothes  4        0    1        \n",
       "96   95 Female 20        harmony    harmony etc      4        1    2        \n",
       "97   96 Male   20        bright     bright  clothes  3        0    3        \n",
       "98   97 Female 20        harmony    harmony clothes  5        0    4        \n",
       "99   98 Female 10        harmony    harmony clothes  2        0    1        \n",
       "100  99 Male   20        harmony    harmony clothes  5        0    1        \n",
       "101 100 Male   30        bright     bright  clothes  3        0    4        \n",
       "102 101 Female 20        harmony    bright  etc      3        1    4        \n",
       "103 102 Male   20        harmony    harmony clothes  3        1    4        \n",
       "104 103 Female 20        harmony    bright  etc      5        0    4        \n",
       "105 104 Female 20        harmony    harmony etc      4        0    3        \n",
       "106 105 Male   20        harmony    harmony clothes  3        0    1        \n",
       "107 106 Female 20        harmony    bright  etc      3        1    4        \n",
       "108 107 Female 20        harmony    harmony clothes  3        0    4        \n",
       "109 108 Female 20        harmony    harmony cosmetic 4        1    4        \n",
       "110 109 Male   20        harmony    harmony clothes  2        0    1        \n",
       "111 110 Female 20        harmony    harmony etc      4        1    3        \n",
       "112 111 Female 20        harmony    harmony etc      4        1    4        \n",
       "113 112 Female 30        harmony    harmony cosmetic 4        0    2        \n",
       "114 113 Male   30        harmony    bright  cosmetic 2        1    4        \n",
       "115 114 Female 20        bright     harmony etc      4        0    5        \n",
       "116 115 Male   20        bright     harmony clothes  2        0    2        \n",
       "117 116 Female 20        harmony    bright  clothes  3        0    5        \n",
       "    triangle2 doubleness1 doubleness2 doubleness3\n",
       "1   2         3           2           2          \n",
       "2   2         2           3           2          \n",
       "3   1         2           1           2          \n",
       "4   4         5           4           1          \n",
       "5   1         1           2           2          \n",
       "6   1         2           2           2          \n",
       "7   5         3           3           3          \n",
       "8   3         1           5           5          \n",
       "9   1         1           2           2          \n",
       "10  2         2           1           5          \n",
       "11  2         3           5           2          \n",
       "12  5         4           3           3          \n",
       "13  3         3           1           2          \n",
       "14  1         1           4           2          \n",
       "15  2         3           2           5          \n",
       "16  4         4           4           4          \n",
       "17  3         1           1           3          \n",
       "18  3         5           1           3          \n",
       "19  4         4           1           3          \n",
       "20  5         2           2           1          \n",
       "21  4         1           4           1          \n",
       "22  5         1           1           1          \n",
       "23  2         2           5           1          \n",
       "24  5         2           1           5          \n",
       "25  4         2           3           2          \n",
       "26  3         1           4           2          \n",
       "27  2         1           3           5          \n",
       "28  4         4           5           5          \n",
       "29  1         3           2           2          \n",
       "30  1         1           1           5          \n",
       "... ...       ...         ...         ...        \n",
       "88  2         4           1           3          \n",
       "89  1         4           1           4          \n",
       "90  3         4           5           3          \n",
       "91  2         2           4           3          \n",
       "92  1         3           1           2          \n",
       "93  1         3           3           2          \n",
       "94  1         2           1           5          \n",
       "95  1         2           4           3          \n",
       "96  3         1           1           5          \n",
       "97  1         5           2           5          \n",
       "98  5         4           1           3          \n",
       "99  1         3           4           2          \n",
       "100 3         4           1           5          \n",
       "101 5         2           5           4          \n",
       "102 2         4           5           3          \n",
       "103 3         4           1           3          \n",
       "104 5         5           4           3          \n",
       "105 3         3           3           4          \n",
       "106 3         5           3           4          \n",
       "107 5         1           3           1          \n",
       "108 4         2           4           4          \n",
       "109 5         4           5           4          \n",
       "110 2         4           1           3          \n",
       "111 4         2           4           4          \n",
       "112 5         2           1           5          \n",
       "113 2         4           1           3          \n",
       "114 5         2           4           3          \n",
       "115 4         1           2           5          \n",
       "116 5         4           5           5          \n",
       "117 5         4           2           1          "
      ]
     },
     "metadata": {},
     "output_type": "display_data"
    }
   ],
   "source": [
    "total1[is.na(total1)] <- 0\n",
    "total1"
   ]
  },
  {
   "cell_type": "code",
   "execution_count": 75,
   "metadata": {
    "scrolled": false
   },
   "outputs": [
    {
     "data": {
      "text/plain": [
       "\n",
       "Call:\n",
       "glm(formula = comp ~ sex + need + purpose + interest, family = binomial, \n",
       "    data = total1)\n",
       "\n",
       "Deviance Residuals: \n",
       "    Min       1Q   Median       3Q      Max  \n",
       "-1.3900  -0.9863  -0.8232   1.1803   1.7987  \n",
       "\n",
       "Coefficients:\n",
       "                Estimate Std. Error z value Pr(>|z|)  \n",
       "(Intercept)      -2.0882     0.8781  -2.378   0.0174 *\n",
       "sexMale           0.2580     0.5627   0.458   0.6466  \n",
       "needharmony       0.6708     0.4163   1.611   0.1071  \n",
       "purposecosmetic   0.5016     0.5991   0.837   0.4024  \n",
       "purposeetc        0.4938     0.5176   0.954   0.3401  \n",
       "interest          0.2305     0.2034   1.133   0.2572  \n",
       "---\n",
       "Signif. codes:  0 '***' 0.001 '**' 0.01 '*' 0.05 '.' 0.1 ' ' 1\n",
       "\n",
       "(Dispersion parameter for binomial family taken to be 1)\n",
       "\n",
       "    Null deviance: 154.93  on 116  degrees of freedom\n",
       "Residual deviance: 149.92  on 111  degrees of freedom\n",
       "AIC: 161.92\n",
       "\n",
       "Number of Fisher Scoring iterations: 4\n"
      ]
     },
     "metadata": {},
     "output_type": "display_data"
    }
   ],
   "source": [
    "result <- glm(comp ~ sex + need + purpose \n",
    "              + interest, family=binomial, data=total1)\n",
    "\n",
    "summary(result)"
   ]
  },
  {
   "cell_type": "code",
   "execution_count": 76,
   "metadata": {},
   "outputs": [
    {
     "data": {
      "text/plain": [
       "\n",
       "Call:\n",
       "glm(formula = comp ~ sex + need + purpose + interest, family = binomial, \n",
       "    data = total1_1)\n",
       "\n",
       "Deviance Residuals: \n",
       "    Min       1Q   Median       3Q      Max  \n",
       "-1.3044  -0.9562  -0.8011   1.2466   1.8122  \n",
       "\n",
       "Coefficients:\n",
       "                Estimate Std. Error z value Pr(>|z|)  \n",
       "(Intercept)      -1.8112     0.7507  -2.412   0.0158 *\n",
       "sexMale           0.2315     0.5593   0.414   0.6789  \n",
       "needharmony       0.6500     0.4161   1.562   0.1183  \n",
       "purposecosmetic   0.4440     0.6009   0.739   0.4600  \n",
       "purposeetc        0.4549     0.5218   0.872   0.3833  \n",
       "interest          0.3842     0.3971   0.967   0.3333  \n",
       "---\n",
       "Signif. codes:  0 '***' 0.001 '**' 0.01 '*' 0.05 '.' 0.1 ' ' 1\n",
       "\n",
       "(Dispersion parameter for binomial family taken to be 1)\n",
       "\n",
       "    Null deviance: 154.93  on 116  degrees of freedom\n",
       "Residual deviance: 150.29  on 111  degrees of freedom\n",
       "AIC: 162.29\n",
       "\n",
       "Number of Fisher Scoring iterations: 4\n"
      ]
     },
     "metadata": {},
     "output_type": "display_data"
    }
   ],
   "source": [
    "total1_1 <- read.csv(\"C:/Users/utan_/Desktop/전처리/1번설문/comp1,123~45.csv\")\n",
    "total1_1[is.na(total1_1)] <- 0\n",
    "\n",
    "result <- glm(comp ~ sex  + need + purpose \n",
    "              + interest, family=binomial, data=total1_1)\n",
    "\n",
    "summary(result)"
   ]
  },
  {
   "cell_type": "code",
   "execution_count": 77,
   "metadata": {},
   "outputs": [
    {
     "data": {
      "text/plain": [
       "\n",
       "Call:\n",
       "glm(formula = comp ~ sex + need + purpose + interest, family = binomial, \n",
       "    data = total1_2)\n",
       "\n",
       "Deviance Residuals: \n",
       "    Min       1Q   Median       3Q      Max  \n",
       "-1.2833  -0.9519  -0.8456   1.2085   1.7498  \n",
       "\n",
       "Coefficients:\n",
       "                Estimate Std. Error z value Pr(>|z|)  \n",
       "(Intercept)      -1.7894     1.2493  -1.432   0.1520  \n",
       "sexMale           0.2879     0.5718   0.503   0.6147  \n",
       "needharmony       0.6937     0.4173   1.662   0.0964 .\n",
       "purposecosmetic   0.5204     0.5972   0.871   0.3835  \n",
       "purposeetc        0.5509     0.5151   1.070   0.2848  \n",
       "interest          0.2512     0.5724   0.439   0.6608  \n",
       "---\n",
       "Signif. codes:  0 '***' 0.001 '**' 0.01 '*' 0.05 '.' 0.1 ' ' 1\n",
       "\n",
       "(Dispersion parameter for binomial family taken to be 1)\n",
       "\n",
       "    Null deviance: 154.93  on 116  degrees of freedom\n",
       "Residual deviance: 151.03  on 111  degrees of freedom\n",
       "AIC: 163.03\n",
       "\n",
       "Number of Fisher Scoring iterations: 4\n"
      ]
     },
     "metadata": {},
     "output_type": "display_data"
    }
   ],
   "source": [
    "total1_2 <- read.csv(\"C:/Users/utan_/Desktop/전처리/1번설문/comp1,12~345.csv\")\n",
    "total1_2[is.na(total1_2)] <- 0\n",
    "\n",
    "result <- glm(comp ~ sex  + need + purpose \n",
    "              + interest, family=binomial, data=total1_2)\n",
    "\n",
    "summary(result)"
   ]
  },
  {
   "cell_type": "code",
   "execution_count": 78,
   "metadata": {},
   "outputs": [
    {
     "data": {
      "text/plain": [
       "\n",
       "Call:\n",
       "glm(formula = comp ~ sex + need + purpose + interest, family = binomial, \n",
       "    data = total2)\n",
       "\n",
       "Deviance Residuals: \n",
       "    Min       1Q   Median       3Q      Max  \n",
       "-0.9984  -0.6321  -0.4751  -0.4111   2.2418  \n",
       "\n",
       "Coefficients:\n",
       "                Estimate Std. Error z value Pr(>|z|)  \n",
       "(Intercept)     -0.17155    1.10732  -0.155   0.8769  \n",
       "sexMale         -0.70852    0.69627  -1.018   0.3089  \n",
       "needharmony     -0.80279    0.52472  -1.530   0.1260  \n",
       "purposecosmetic -1.07221    0.76806  -1.396   0.1627  \n",
       "purposeetc      -1.10044    0.65410  -1.682   0.0925 .\n",
       "interest        -0.08838    0.27812  -0.318   0.7506  \n",
       "---\n",
       "Signif. codes:  0 '***' 0.001 '**' 0.01 '*' 0.05 '.' 0.1 ' ' 1\n",
       "\n",
       "(Dispersion parameter for binomial family taken to be 1)\n",
       "\n",
       "    Null deviance: 103.806  on 116  degrees of freedom\n",
       "Residual deviance:  98.298  on 111  degrees of freedom\n",
       "AIC: 110.3\n",
       "\n",
       "Number of Fisher Scoring iterations: 4\n"
      ]
     },
     "metadata": {},
     "output_type": "display_data"
    }
   ],
   "source": [
    "total2 <- read.csv(\"C:/Users/utan_/Desktop/전처리/1번설문/comp2.csv\")\n",
    "total2[is.na(total2)] <- 0\n",
    "\n",
    "result <- glm(comp ~ sex  + need + purpose \n",
    "              + interest, family=binomial, data=total2)\n",
    "\n",
    "summary(result)"
   ]
  },
  {
   "cell_type": "code",
   "execution_count": 79,
   "metadata": {
    "scrolled": false
   },
   "outputs": [
    {
     "data": {
      "text/plain": [
       "\n",
       "Call:\n",
       "glm(formula = comp ~ sex + need + purpose + interest, family = binomial, \n",
       "    data = total3)\n",
       "\n",
       "Deviance Residuals: \n",
       "    Min       1Q   Median       3Q      Max  \n",
       "-0.9570  -0.6186  -0.4987  -0.3762   2.3167  \n",
       "\n",
       "Coefficients:\n",
       "                Estimate Std. Error z value Pr(>|z|)  \n",
       "(Intercept)      -0.9662     1.1828  -0.817   0.4140  \n",
       "sexMale           0.3775     0.8080   0.467   0.6403  \n",
       "needharmony       0.5068     0.5933   0.854   0.3929  \n",
       "purposecosmetic   0.4632     0.8862   0.523   0.6012  \n",
       "purposeetc        0.9283     0.7542   1.231   0.2184  \n",
       "interest         -0.5062     0.2798  -1.809   0.0704 .\n",
       "---\n",
       "Signif. codes:  0 '***' 0.001 '**' 0.01 '*' 0.05 '.' 0.1 ' ' 1\n",
       "\n",
       "(Dispersion parameter for binomial family taken to be 1)\n",
       "\n",
       "    Null deviance: 96.985  on 116  degrees of freedom\n",
       "Residual deviance: 91.543  on 111  degrees of freedom\n",
       "AIC: 103.54\n",
       "\n",
       "Number of Fisher Scoring iterations: 5\n"
      ]
     },
     "metadata": {},
     "output_type": "display_data"
    }
   ],
   "source": [
    "total3 <- read.csv(\"C:/Users/utan_/Desktop/전처리/1번설문/comp3.csv\")\n",
    "total3[is.na(total3)] <- 0\n",
    "\n",
    "result <- glm(comp ~ sex  + need + purpose \n",
    "              + interest, family=binomial, data=total3)\n",
    "\n",
    "summary(result)"
   ]
  },
  {
   "cell_type": "code",
   "execution_count": 80,
   "metadata": {},
   "outputs": [
    {
     "data": {
      "text/plain": [
       "\n",
       "Call:\n",
       "glm(formula = comp ~ sex + need + purpose + interest, family = binomial, \n",
       "    data = total3_1)\n",
       "\n",
       "Deviance Residuals: \n",
       "    Min       1Q   Median       3Q      Max  \n",
       "-1.3044  -0.9562  -0.8011   1.2466   1.8122  \n",
       "\n",
       "Coefficients:\n",
       "                Estimate Std. Error z value Pr(>|z|)  \n",
       "(Intercept)      -1.8112     0.7507  -2.412   0.0158 *\n",
       "sexMale           0.2315     0.5593   0.414   0.6789  \n",
       "needharmony       0.6500     0.4161   1.562   0.1183  \n",
       "purposecosmetic   0.4440     0.6009   0.739   0.4600  \n",
       "purposeetc        0.4549     0.5218   0.872   0.3833  \n",
       "interest          0.3842     0.3971   0.967   0.3333  \n",
       "---\n",
       "Signif. codes:  0 '***' 0.001 '**' 0.01 '*' 0.05 '.' 0.1 ' ' 1\n",
       "\n",
       "(Dispersion parameter for binomial family taken to be 1)\n",
       "\n",
       "    Null deviance: 154.93  on 116  degrees of freedom\n",
       "Residual deviance: 150.29  on 111  degrees of freedom\n",
       "AIC: 162.29\n",
       "\n",
       "Number of Fisher Scoring iterations: 4\n"
      ]
     },
     "metadata": {},
     "output_type": "display_data"
    }
   ],
   "source": [
    "total3_1 <- read.csv(\"C:/Users/utan_/Desktop/전처리/1번설문/comp1,123~45.csv\")\n",
    "total3_1[is.na(total3_1)] <- 0\n",
    "\n",
    "result <- glm(comp ~ sex + need + purpose \n",
    "              + interest, family=binomial, data=total3_1)\n",
    "\n",
    "summary(result)"
   ]
  },
  {
   "cell_type": "code",
   "execution_count": 81,
   "metadata": {},
   "outputs": [
    {
     "data": {
      "text/plain": [
       "\n",
       "Call:\n",
       "glm(formula = comp ~ sex + need + purpose + interest, family = binomial, \n",
       "    data = total3_2)\n",
       "\n",
       "Deviance Residuals: \n",
       "    Min       1Q   Median       3Q      Max  \n",
       "-1.2833  -0.9519  -0.8456   1.2085   1.7498  \n",
       "\n",
       "Coefficients:\n",
       "                Estimate Std. Error z value Pr(>|z|)  \n",
       "(Intercept)      -1.7894     1.2493  -1.432   0.1520  \n",
       "sexMale           0.2879     0.5718   0.503   0.6147  \n",
       "needharmony       0.6937     0.4173   1.662   0.0964 .\n",
       "purposecosmetic   0.5204     0.5972   0.871   0.3835  \n",
       "purposeetc        0.5509     0.5151   1.070   0.2848  \n",
       "interest          0.2512     0.5724   0.439   0.6608  \n",
       "---\n",
       "Signif. codes:  0 '***' 0.001 '**' 0.01 '*' 0.05 '.' 0.1 ' ' 1\n",
       "\n",
       "(Dispersion parameter for binomial family taken to be 1)\n",
       "\n",
       "    Null deviance: 154.93  on 116  degrees of freedom\n",
       "Residual deviance: 151.03  on 111  degrees of freedom\n",
       "AIC: 163.03\n",
       "\n",
       "Number of Fisher Scoring iterations: 4\n"
      ]
     },
     "metadata": {},
     "output_type": "display_data"
    }
   ],
   "source": [
    "total3_2 <- read.csv(\"C:/Users/utan_/Desktop/전처리/1번설문/comp1,12~345.csv\")\n",
    "total3_2[is.na(total3_2)] <- 0\n",
    "\n",
    "result <- glm(comp ~ sex  + need + purpose \n",
    "              + interest, family=binomial, data=total3_2)\n",
    "\n",
    "summary(result)"
   ]
  },
  {
   "cell_type": "code",
   "execution_count": 82,
   "metadata": {},
   "outputs": [
    {
     "data": {
      "text/plain": [
       "\n",
       "Call:\n",
       "glm(formula = comp ~ sex + need + purpose + interest, family = binomial, \n",
       "    data = total4)\n",
       "\n",
       "Deviance Residuals: \n",
       "    Min       1Q   Median       3Q      Max  \n",
       "-0.6904  -0.5487  -0.4387  -0.3903   2.3330  \n",
       "\n",
       "Coefficients:\n",
       "                Estimate Std. Error z value Pr(>|z|)\n",
       "(Intercept)     -1.10957    1.28177  -0.866    0.387\n",
       "sexMale         -0.10260    0.82503  -0.124    0.901\n",
       "needharmony     -0.71417    0.60331  -1.184    0.237\n",
       "purposecosmetic -0.08094    0.84357  -0.096    0.924\n",
       "purposeetc      -0.34161    0.78230  -0.437    0.662\n",
       "interest        -0.12202    0.31713  -0.385    0.700\n",
       "\n",
       "(Dispersion parameter for binomial family taken to be 1)\n",
       "\n",
       "    Null deviance: 81.627  on 116  degrees of freedom\n",
       "Residual deviance: 79.793  on 111  degrees of freedom\n",
       "AIC: 91.793\n",
       "\n",
       "Number of Fisher Scoring iterations: 5\n"
      ]
     },
     "metadata": {},
     "output_type": "display_data"
    }
   ],
   "source": [
    "total4 <- read.csv(\"C:/Users/utan_/Desktop/전처리/1번설문/comp4.csv\")\n",
    "total4[is.na(total4)] <- 0\n",
    "\n",
    "result <- glm(comp ~ sex  + need + purpose \n",
    "              + interest, family=binomial, data=total4)\n",
    "\n",
    "summary(result)"
   ]
  },
  {
   "cell_type": "code",
   "execution_count": 83,
   "metadata": {
    "scrolled": false
   },
   "outputs": [
    {
     "data": {
      "text/plain": [
       "\n",
       "Call:\n",
       "glm(formula = comp ~ sex + need + purpose + interest, family = binomial, \n",
       "    data = total5)\n",
       "\n",
       "Deviance Residuals: \n",
       "    Min       1Q   Median       3Q      Max  \n",
       "-0.8269  -0.6976  -0.6355  -0.5804   1.9310  \n",
       "\n",
       "Coefficients:\n",
       "                Estimate Std. Error z value Pr(>|z|)  \n",
       "(Intercept)     -1.89632    1.01709  -1.864   0.0623 .\n",
       "sexMale          0.11631    0.63761   0.182   0.8553  \n",
       "needharmony     -0.18858    0.47413  -0.398   0.6908  \n",
       "purposecosmetic  0.01904    0.68218   0.028   0.9777  \n",
       "purposeetc      -0.19883    0.60514  -0.329   0.7425  \n",
       "interest         0.19595    0.24381   0.804   0.4216  \n",
       "---\n",
       "Signif. codes:  0 '***' 0.001 '**' 0.01 '*' 0.05 '.' 0.1 ' ' 1\n",
       "\n",
       "(Dispersion parameter for binomial family taken to be 1)\n",
       "\n",
       "    Null deviance: 118.74  on 116  degrees of freedom\n",
       "Residual deviance: 117.77  on 111  degrees of freedom\n",
       "AIC: 129.77\n",
       "\n",
       "Number of Fisher Scoring iterations: 4\n"
      ]
     },
     "metadata": {},
     "output_type": "display_data"
    }
   ],
   "source": [
    "total5 <- read.csv(\"C:/Users/utan_/Desktop/전처리/1번설문/comp5.csv\")\n",
    "total5[is.na(total5)] <- 0\n",
    "\n",
    "result <- glm(comp ~ sex  + need + purpose \n",
    "              + interest, family=binomial, data=total5)\n",
    "\n",
    "summary(result)"
   ]
  },
  {
   "cell_type": "code",
   "execution_count": 14,
   "metadata": {},
   "outputs": [],
   "source": [
    "total <- read.csv(\"C:/Users/utan_/Desktop/전처리/1번설문/change_bright.csv\")"
   ]
  },
  {
   "cell_type": "code",
   "execution_count": 15,
   "metadata": {},
   "outputs": [
    {
     "name": "stderr",
     "output_type": "stream",
     "text": [
      "\n",
      "Attaching package: 'dplyr'\n",
      "\n",
      "The following objects are masked from 'package:stats':\n",
      "\n",
      "    filter, lag\n",
      "\n",
      "The following objects are masked from 'package:base':\n",
      "\n",
      "    intersect, setdiff, setequal, union\n",
      "\n"
     ]
    }
   ],
   "source": [
    "library(dplyr)"
   ]
  },
  {
   "cell_type": "code",
   "execution_count": 16,
   "metadata": {
    "scrolled": true
   },
   "outputs": [
    {
     "data": {
      "text/html": [
       "<table>\n",
       "<thead><tr><th scope=col>X</th><th scope=col>sex</th><th scope=col>age_class</th><th scope=col>definition</th><th scope=col>need</th><th scope=col>purpose</th><th scope=col>interest</th><th scope=col>comp</th><th scope=col>triangle1</th><th scope=col>triangle2</th><th scope=col>doubleness1</th><th scope=col>doubleness2</th><th scope=col>doubleness3</th></tr></thead>\n",
       "<tbody>\n",
       "\t<tr><td>0      </td><td>Male   </td><td>20     </td><td>harmony</td><td>harmony</td><td>clothes</td><td>5      </td><td>4      </td><td>5      </td><td>2      </td><td>3      </td><td>2      </td><td>2      </td></tr>\n",
       "\t<tr><td>1      </td><td>Female </td><td>20     </td><td>bright </td><td>harmony</td><td>clothes</td><td>5      </td><td>1      </td><td>1      </td><td>2      </td><td>2      </td><td>3      </td><td>2      </td></tr>\n",
       "\t<tr><td>2      </td><td>Female </td><td>20     </td><td>bright </td><td>bright </td><td>clothes</td><td>3      </td><td>2      </td><td>4      </td><td>1      </td><td>2      </td><td>1      </td><td>2      </td></tr>\n",
       "\t<tr><td>3      </td><td>Female </td><td>20     </td><td>harmony</td><td>harmony</td><td>clothes</td><td>3      </td><td>5      </td><td>5      </td><td>4      </td><td>5      </td><td>4      </td><td>1      </td></tr>\n",
       "\t<tr><td>4      </td><td>Female </td><td>20     </td><td>bright </td><td>bright </td><td>etc    </td><td>4      </td><td>4      </td><td>2      </td><td>1      </td><td>1      </td><td>2      </td><td>2      </td></tr>\n",
       "\t<tr><td>5      </td><td>Female </td><td>20     </td><td>harmony</td><td>harmony</td><td>etc    </td><td>2      </td><td>3      </td><td>4      </td><td>1      </td><td>2      </td><td>2      </td><td>2      </td></tr>\n",
       "</tbody>\n",
       "</table>\n"
      ],
      "text/latex": [
       "\\begin{tabular}{r|lllllllllllll}\n",
       " X & sex & age\\_class & definition & need & purpose & interest & comp & triangle1 & triangle2 & doubleness1 & doubleness2 & doubleness3\\\\\n",
       "\\hline\n",
       "\t 0       & Male    & 20      & harmony & harmony & clothes & 5       & 4       & 5       & 2       & 3       & 2       & 2      \\\\\n",
       "\t 1       & Female  & 20      & bright  & harmony & clothes & 5       & 1       & 1       & 2       & 2       & 3       & 2      \\\\\n",
       "\t 2       & Female  & 20      & bright  & bright  & clothes & 3       & 2       & 4       & 1       & 2       & 1       & 2      \\\\\n",
       "\t 3       & Female  & 20      & harmony & harmony & clothes & 3       & 5       & 5       & 4       & 5       & 4       & 1      \\\\\n",
       "\t 4       & Female  & 20      & bright  & bright  & etc     & 4       & 4       & 2       & 1       & 1       & 2       & 2      \\\\\n",
       "\t 5       & Female  & 20      & harmony & harmony & etc     & 2       & 3       & 4       & 1       & 2       & 2       & 2      \\\\\n",
       "\\end{tabular}\n"
      ],
      "text/markdown": [
       "\n",
       "| X | sex | age_class | definition | need | purpose | interest | comp | triangle1 | triangle2 | doubleness1 | doubleness2 | doubleness3 |\n",
       "|---|---|---|---|---|---|---|---|---|---|---|---|---|\n",
       "| 0       | Male    | 20      | harmony | harmony | clothes | 5       | 4       | 5       | 2       | 3       | 2       | 2       |\n",
       "| 1       | Female  | 20      | bright  | harmony | clothes | 5       | 1       | 1       | 2       | 2       | 3       | 2       |\n",
       "| 2       | Female  | 20      | bright  | bright  | clothes | 3       | 2       | 4       | 1       | 2       | 1       | 2       |\n",
       "| 3       | Female  | 20      | harmony | harmony | clothes | 3       | 5       | 5       | 4       | 5       | 4       | 1       |\n",
       "| 4       | Female  | 20      | bright  | bright  | etc     | 4       | 4       | 2       | 1       | 1       | 2       | 2       |\n",
       "| 5       | Female  | 20      | harmony | harmony | etc     | 2       | 3       | 4       | 1       | 2       | 2       | 2       |\n",
       "\n"
      ],
      "text/plain": [
       "  X sex    age_class definition need    purpose interest comp triangle1\n",
       "1 0 Male   20        harmony    harmony clothes 5        4    5        \n",
       "2 1 Female 20        bright     harmony clothes 5        1    1        \n",
       "3 2 Female 20        bright     bright  clothes 3        2    4        \n",
       "4 3 Female 20        harmony    harmony clothes 3        5    5        \n",
       "5 4 Female 20        bright     bright  etc     4        4    2        \n",
       "6 5 Female 20        harmony    harmony etc     2        3    4        \n",
       "  triangle2 doubleness1 doubleness2 doubleness3\n",
       "1 2         3           2           2          \n",
       "2 2         2           3           2          \n",
       "3 1         2           1           2          \n",
       "4 4         5           4           1          \n",
       "5 1         1           2           2          \n",
       "6 1         2           2           2          "
      ]
     },
     "metadata": {},
     "output_type": "display_data"
    }
   ],
   "source": [
    "head(total)"
   ]
  },
  {
   "cell_type": "code",
   "execution_count": 41,
   "metadata": {},
   "outputs": [],
   "source": [
    "total$t1_1 <- case_when(\n",
    "    total$triangle1 == 1 ~ 1,\n",
    "    total$triangle1 != 1 ~ 0)\n",
    "\n",
    "total$t1_2 <- case_when(\n",
    "    total$triangle1 == 2 ~ 1,\n",
    "    total$triangle1 != 2 ~ 0)\n",
    "\n",
    "total$t1_3 <- case_when(\n",
    "    total$triangle1 == 3 ~ 1,\n",
    "    total$triangle1 != 3 ~ 0)\n",
    "\n",
    "total$t1_4 <- case_when(\n",
    "    total$triangle1 == 4 ~ 1,\n",
    "    total$triangle1 != 4 ~ 0)\n",
    "\n",
    "total$t1_5 <- case_when(\n",
    "    total$triangle1 == 5 ~ 1,\n",
    "    total$triangle1 != 5 ~ 0)"
   ]
  },
  {
   "cell_type": "code",
   "execution_count": 47,
   "metadata": {},
   "outputs": [],
   "source": [
    "total$t2_1 <- case_when(\n",
    "    total$triangle2 == 1 ~ 1,\n",
    "    total$triangle2 != 1 ~ 0)\n",
    "\n",
    "total$t2_2 <- case_when(\n",
    "    total$triangle2 == 2 ~ 1,\n",
    "    total$triangle2 != 2 ~ 0)\n",
    "\n",
    "total$t2_3 <- case_when(\n",
    "    total$triangle2 == 3 ~ 1,\n",
    "    total$triangle2 != 3 ~ 0)\n",
    "\n",
    "total$t2_4 <- case_when(\n",
    "    total$triangle2 == 4 ~ 1,\n",
    "    total$triangle2 != 4 ~ 0)\n",
    "\n",
    "total$t2_5 <- case_when(\n",
    "    total$triangle2 == 5 ~ 1,\n",
    "    total$triangle2 != 5 ~ 0)"
   ]
  },
  {
   "cell_type": "code",
   "execution_count": 48,
   "metadata": {},
   "outputs": [],
   "source": [
    "total$d1_1 <- case_when(\n",
    "    total$doubleness1 == 1 ~ 1,\n",
    "    total$doubleness1 != 1 ~ 0)\n",
    "\n",
    "total$d1_2 <- case_when(\n",
    "    total$doubleness1 == 2 ~ 1,\n",
    "    total$doubleness1 != 2 ~ 0)\n",
    "\n",
    "total$d1_3 <- case_when(\n",
    "    total$doubleness1 == 3 ~ 1,\n",
    "    total$doubleness1 != 3 ~ 0)\n",
    "\n",
    "total$d1_4 <- case_when(\n",
    "    total$doubleness1 == 4 ~ 1,\n",
    "    total$doubleness1 != 4 ~ 0)\n",
    "\n",
    "total$d1_5 <- case_when(\n",
    "    total$doubleness1 == 5 ~ 1,\n",
    "    total$doubleness1 != 5 ~ 0)"
   ]
  },
  {
   "cell_type": "code",
   "execution_count": 49,
   "metadata": {},
   "outputs": [],
   "source": [
    "total$d2_1 <- case_when(\n",
    "    total$doubleness2 == 1 ~ 1,\n",
    "    total$doubleness2 != 1 ~ 0)\n",
    "\n",
    "total$d2_2 <- case_when(\n",
    "    total$doubleness2 == 2 ~ 1,\n",
    "    total$doubleness2 != 2 ~ 0)\n",
    "\n",
    "total$d2_3 <- case_when(\n",
    "    total$doubleness2 == 3 ~ 1,\n",
    "    total$doubleness2 != 3 ~ 0)\n",
    "\n",
    "total$d2_4 <- case_when(\n",
    "    total$doubleness2 == 4 ~ 1,\n",
    "    total$doubleness2 != 4 ~ 0)\n",
    "\n",
    "total$d2_5 <- case_when(\n",
    "    total$doubleness2 == 5 ~ 1,\n",
    "    total$doubleness2 != 5 ~ 0)"
   ]
  },
  {
   "cell_type": "code",
   "execution_count": 50,
   "metadata": {},
   "outputs": [],
   "source": [
    "total$d3_1 <- case_when(\n",
    "    total$doubleness3 == 1 ~ 1,\n",
    "    total$doubleness3 != 1 ~ 0)\n",
    "\n",
    "total$d3_2 <- case_when(\n",
    "    total$doubleness3 == 2 ~ 1,\n",
    "    total$doubleness3 != 2 ~ 0)\n",
    "\n",
    "total$d3_3 <- case_when(\n",
    "    total$doubleness3 == 3 ~ 1,\n",
    "    total$doubleness3 != 3 ~ 0)\n",
    "\n",
    "total$d3_4 <- case_when(\n",
    "    total$doubleness3 == 4 ~ 1,\n",
    "    total$doubleness3 != 4 ~ 0)\n",
    "\n",
    "total$d3_5 <- case_when(\n",
    "    total$doubleness3 == 5 ~ 1,\n",
    "    total$doubleness3 != 5 ~ 0)"
   ]
  },
  {
   "cell_type": "code",
   "execution_count": 51,
   "metadata": {
    "scrolled": true
   },
   "outputs": [
    {
     "data": {
      "text/html": [
       "<table>\n",
       "<thead><tr><th scope=col>X</th><th scope=col>sex</th><th scope=col>age_class</th><th scope=col>definition</th><th scope=col>need</th><th scope=col>purpose</th><th scope=col>interest</th><th scope=col>comp</th><th scope=col>triangle1</th><th scope=col>triangle2</th><th scope=col>...</th><th scope=col>d2_1</th><th scope=col>d2_2</th><th scope=col>d2_3</th><th scope=col>d2_4</th><th scope=col>d2_5</th><th scope=col>d3_1</th><th scope=col>d3_2</th><th scope=col>d3_3</th><th scope=col>d3_4</th><th scope=col>d3_5</th></tr></thead>\n",
       "<tbody>\n",
       "\t<tr><td> 0      </td><td>Male    </td><td>20      </td><td>harmony </td><td>harmony </td><td>clothes </td><td>5       </td><td>4       </td><td>5       </td><td>2       </td><td>...     </td><td>0       </td><td>1       </td><td>0       </td><td>0       </td><td>0       </td><td>0       </td><td>1       </td><td>0       </td><td>0       </td><td>0       </td></tr>\n",
       "\t<tr><td> 1      </td><td>Female  </td><td>20      </td><td>bright  </td><td>harmony </td><td>clothes </td><td>5       </td><td>1       </td><td>1       </td><td>2       </td><td>...     </td><td>0       </td><td>0       </td><td>1       </td><td>0       </td><td>0       </td><td>0       </td><td>1       </td><td>0       </td><td>0       </td><td>0       </td></tr>\n",
       "\t<tr><td> 2      </td><td>Female  </td><td>20      </td><td>bright  </td><td>bright  </td><td>clothes </td><td>3       </td><td>2       </td><td>4       </td><td>1       </td><td>...     </td><td>1       </td><td>0       </td><td>0       </td><td>0       </td><td>0       </td><td>0       </td><td>1       </td><td>0       </td><td>0       </td><td>0       </td></tr>\n",
       "\t<tr><td> 3      </td><td>Female  </td><td>20      </td><td>harmony </td><td>harmony </td><td>clothes </td><td>3       </td><td>5       </td><td>5       </td><td>4       </td><td>...     </td><td>0       </td><td>0       </td><td>0       </td><td>1       </td><td>0       </td><td>1       </td><td>0       </td><td>0       </td><td>0       </td><td>0       </td></tr>\n",
       "\t<tr><td> 4      </td><td>Female  </td><td>20      </td><td>bright  </td><td>bright  </td><td>etc     </td><td>4       </td><td>4       </td><td>2       </td><td>1       </td><td>...     </td><td>0       </td><td>1       </td><td>0       </td><td>0       </td><td>0       </td><td>0       </td><td>1       </td><td>0       </td><td>0       </td><td>0       </td></tr>\n",
       "\t<tr><td> 5      </td><td>Female  </td><td>20      </td><td>harmony </td><td>harmony </td><td>etc     </td><td>2       </td><td>3       </td><td>4       </td><td>1       </td><td>...     </td><td>0       </td><td>1       </td><td>0       </td><td>0       </td><td>0       </td><td>0       </td><td>1       </td><td>0       </td><td>0       </td><td>0       </td></tr>\n",
       "\t<tr><td> 6      </td><td>Female  </td><td>20      </td><td>harmony </td><td>harmony </td><td>etc     </td><td>5       </td><td>1       </td><td>4       </td><td>5       </td><td>...     </td><td>0       </td><td>0       </td><td>1       </td><td>0       </td><td>0       </td><td>0       </td><td>0       </td><td>1       </td><td>0       </td><td>0       </td></tr>\n",
       "\t<tr><td> 7      </td><td>Male    </td><td>20      </td><td>harmony </td><td>harmony </td><td>clothes </td><td>3       </td><td>1       </td><td>1       </td><td>3       </td><td>...     </td><td>0       </td><td>0       </td><td>0       </td><td>0       </td><td>1       </td><td>0       </td><td>0       </td><td>0       </td><td>0       </td><td>1       </td></tr>\n",
       "\t<tr><td> 8      </td><td>Female  </td><td>20      </td><td>harmony </td><td>harmony </td><td>clothes </td><td>4       </td><td>1       </td><td>4       </td><td>1       </td><td>...     </td><td>0       </td><td>1       </td><td>0       </td><td>0       </td><td>0       </td><td>0       </td><td>1       </td><td>0       </td><td>0       </td><td>0       </td></tr>\n",
       "\t<tr><td> 9      </td><td>Female  </td><td>20      </td><td>bright  </td><td>bright  </td><td>clothes </td><td>4       </td><td>5       </td><td>5       </td><td>2       </td><td>...     </td><td>1       </td><td>0       </td><td>0       </td><td>0       </td><td>0       </td><td>0       </td><td>0       </td><td>0       </td><td>0       </td><td>1       </td></tr>\n",
       "\t<tr><td>10      </td><td>Female  </td><td>20      </td><td>harmony </td><td>harmony </td><td>etc     </td><td>3       </td><td>5       </td><td>3       </td><td>2       </td><td>...     </td><td>0       </td><td>0       </td><td>0       </td><td>0       </td><td>1       </td><td>0       </td><td>1       </td><td>0       </td><td>0       </td><td>0       </td></tr>\n",
       "\t<tr><td>11      </td><td>Male    </td><td>20      </td><td>harmony </td><td>harmony </td><td>clothes </td><td>3       </td><td>5       </td><td>4       </td><td>5       </td><td>...     </td><td>0       </td><td>0       </td><td>1       </td><td>0       </td><td>0       </td><td>0       </td><td>0       </td><td>1       </td><td>0       </td><td>0       </td></tr>\n",
       "\t<tr><td>12      </td><td>Female  </td><td>20      </td><td>harmony </td><td>harmony </td><td>etc     </td><td>3       </td><td>1       </td><td>4       </td><td>3       </td><td>...     </td><td>1       </td><td>0       </td><td>0       </td><td>0       </td><td>0       </td><td>0       </td><td>1       </td><td>0       </td><td>0       </td><td>0       </td></tr>\n",
       "\t<tr><td>13      </td><td>Female  </td><td>20      </td><td>bright  </td><td>bright  </td><td>cosmetic</td><td>3       </td><td>1       </td><td>3       </td><td>1       </td><td>...     </td><td>0       </td><td>0       </td><td>0       </td><td>1       </td><td>0       </td><td>0       </td><td>1       </td><td>0       </td><td>0       </td><td>0       </td></tr>\n",
       "\t<tr><td>14      </td><td>Female  </td><td>20      </td><td>harmony </td><td>harmony </td><td>clothes </td><td>3       </td><td>1       </td><td>5       </td><td>2       </td><td>...     </td><td>0       </td><td>1       </td><td>0       </td><td>0       </td><td>0       </td><td>0       </td><td>0       </td><td>0       </td><td>0       </td><td>1       </td></tr>\n",
       "\t<tr><td>15      </td><td>Female  </td><td>50      </td><td>harmony </td><td>harmony </td><td>clothes </td><td>3       </td><td>2       </td><td>4       </td><td>4       </td><td>...     </td><td>0       </td><td>0       </td><td>0       </td><td>1       </td><td>0       </td><td>0       </td><td>0       </td><td>0       </td><td>1       </td><td>0       </td></tr>\n",
       "\t<tr><td>16      </td><td>Female  </td><td>20      </td><td>harmony </td><td>bright  </td><td>etc     </td><td>3       </td><td>2       </td><td>1       </td><td>3       </td><td>...     </td><td>1       </td><td>0       </td><td>0       </td><td>0       </td><td>0       </td><td>0       </td><td>0       </td><td>1       </td><td>0       </td><td>0       </td></tr>\n",
       "\t<tr><td>17      </td><td>Female  </td><td>20      </td><td>harmony </td><td>harmony </td><td>clothes </td><td>3       </td><td>3       </td><td>2       </td><td>3       </td><td>...     </td><td>1       </td><td>0       </td><td>0       </td><td>0       </td><td>0       </td><td>0       </td><td>0       </td><td>1       </td><td>0       </td><td>0       </td></tr>\n",
       "\t<tr><td>18      </td><td>Male    </td><td>20      </td><td>harmony </td><td>harmony </td><td>clothes </td><td>2       </td><td>1       </td><td>5       </td><td>4       </td><td>...     </td><td>1       </td><td>0       </td><td>0       </td><td>0       </td><td>0       </td><td>0       </td><td>0       </td><td>1       </td><td>0       </td><td>0       </td></tr>\n",
       "\t<tr><td>19      </td><td>Female  </td><td>20      </td><td>bright  </td><td>bright  </td><td>etc     </td><td>3       </td><td>5       </td><td>2       </td><td>5       </td><td>...     </td><td>0       </td><td>1       </td><td>0       </td><td>0       </td><td>0       </td><td>1       </td><td>0       </td><td>0       </td><td>0       </td><td>0       </td></tr>\n",
       "\t<tr><td>20      </td><td>Female  </td><td>20      </td><td>harmony </td><td>bright  </td><td>cosmetic</td><td>4       </td><td>3       </td><td>4       </td><td>4       </td><td>...     </td><td>0       </td><td>0       </td><td>0       </td><td>1       </td><td>0       </td><td>1       </td><td>0       </td><td>0       </td><td>0       </td><td>0       </td></tr>\n",
       "\t<tr><td>21      </td><td>Female  </td><td>20      </td><td>harmony </td><td>harmony </td><td>cosmetic</td><td>5       </td><td>1       </td><td>4       </td><td>5       </td><td>...     </td><td>1       </td><td>0       </td><td>0       </td><td>0       </td><td>0       </td><td>1       </td><td>0       </td><td>0       </td><td>0       </td><td>0       </td></tr>\n",
       "\t<tr><td>22      </td><td>Female  </td><td>20      </td><td>harmony </td><td>harmony </td><td>clothes </td><td>5       </td><td>1       </td><td>4       </td><td>2       </td><td>...     </td><td>0       </td><td>0       </td><td>0       </td><td>0       </td><td>1       </td><td>1       </td><td>0       </td><td>0       </td><td>0       </td><td>0       </td></tr>\n",
       "\t<tr><td>23      </td><td>Female  </td><td>20      </td><td>harmony </td><td>harmony </td><td>etc     </td><td>5       </td><td>1       </td><td>4       </td><td>5       </td><td>...     </td><td>1       </td><td>0       </td><td>0       </td><td>0       </td><td>0       </td><td>0       </td><td>0       </td><td>0       </td><td>0       </td><td>1       </td></tr>\n",
       "\t<tr><td>24      </td><td>Male    </td><td>20      </td><td>harmony </td><td>harmony </td><td>clothes </td><td>2       </td><td>1       </td><td>3       </td><td>4       </td><td>...     </td><td>0       </td><td>0       </td><td>1       </td><td>0       </td><td>0       </td><td>0       </td><td>1       </td><td>0       </td><td>0       </td><td>0       </td></tr>\n",
       "\t<tr><td>25      </td><td>Male    </td><td>20      </td><td>harmony </td><td>harmony </td><td>clothes </td><td>2       </td><td>2       </td><td>1       </td><td>3       </td><td>...     </td><td>0       </td><td>0       </td><td>0       </td><td>1       </td><td>0       </td><td>0       </td><td>1       </td><td>0       </td><td>0       </td><td>0       </td></tr>\n",
       "\t<tr><td>26      </td><td>Female  </td><td>20      </td><td>bright  </td><td>bright  </td><td>etc     </td><td>5       </td><td>2       </td><td>2       </td><td>2       </td><td>...     </td><td>0       </td><td>0       </td><td>1       </td><td>0       </td><td>0       </td><td>0       </td><td>0       </td><td>0       </td><td>0       </td><td>1       </td></tr>\n",
       "\t<tr><td>27      </td><td>Female  </td><td>20      </td><td>bright  </td><td>bright  </td><td>etc     </td><td>4       </td><td>3       </td><td>4       </td><td>4       </td><td>...     </td><td>0       </td><td>0       </td><td>0       </td><td>0       </td><td>1       </td><td>0       </td><td>0       </td><td>0       </td><td>0       </td><td>1       </td></tr>\n",
       "\t<tr><td>28      </td><td>Male    </td><td>30      </td><td>harmony </td><td>harmony </td><td>clothes </td><td>3       </td><td>4       </td><td>1       </td><td>1       </td><td>...     </td><td>0       </td><td>1       </td><td>0       </td><td>0       </td><td>0       </td><td>0       </td><td>1       </td><td>0       </td><td>0       </td><td>0       </td></tr>\n",
       "\t<tr><td>29      </td><td>Female  </td><td>20      </td><td>harmony </td><td>harmony </td><td>clothes </td><td>3       </td><td>3       </td><td>5       </td><td>1       </td><td>...     </td><td>1       </td><td>0       </td><td>0       </td><td>0       </td><td>0       </td><td>0       </td><td>0       </td><td>0       </td><td>0       </td><td>1       </td></tr>\n",
       "\t<tr><td>...</td><td>...</td><td>...</td><td>...</td><td>...</td><td>...</td><td>...</td><td>...</td><td>...</td><td>...</td><td>   </td><td>...</td><td>...</td><td>...</td><td>...</td><td>...</td><td>...</td><td>...</td><td>...</td><td>...</td><td>...</td></tr>\n",
       "\t<tr><td> 87     </td><td>Female  </td><td>30      </td><td>bright  </td><td>bright  </td><td>etc     </td><td>4       </td><td>3       </td><td>2       </td><td>2       </td><td>...     </td><td>1       </td><td>0       </td><td>0       </td><td>0       </td><td>0       </td><td>0       </td><td>0       </td><td>1       </td><td>0       </td><td>0       </td></tr>\n",
       "\t<tr><td> 88     </td><td>Female  </td><td>30      </td><td>harmony </td><td>bright  </td><td>cosmetic</td><td>3       </td><td>5       </td><td>1       </td><td>1       </td><td>...     </td><td>1       </td><td>0       </td><td>0       </td><td>0       </td><td>0       </td><td>0       </td><td>0       </td><td>0       </td><td>1       </td><td>0       </td></tr>\n",
       "\t<tr><td> 89     </td><td>Female  </td><td>20      </td><td>harmony </td><td>harmony </td><td>clothes </td><td>3       </td><td>5       </td><td>4       </td><td>3       </td><td>...     </td><td>0       </td><td>0       </td><td>0       </td><td>0       </td><td>1       </td><td>0       </td><td>0       </td><td>1       </td><td>0       </td><td>0       </td></tr>\n",
       "\t<tr><td> 90     </td><td>Female  </td><td>20      </td><td>harmony </td><td>harmony </td><td>clothes </td><td>3       </td><td>1       </td><td>2       </td><td>2       </td><td>...     </td><td>0       </td><td>0       </td><td>0       </td><td>1       </td><td>0       </td><td>0       </td><td>0       </td><td>1       </td><td>0       </td><td>0       </td></tr>\n",
       "\t<tr><td> 91     </td><td>Female  </td><td>20      </td><td>harmony </td><td>harmony </td><td>etc     </td><td>3       </td><td>2       </td><td>1       </td><td>1       </td><td>...     </td><td>1       </td><td>0       </td><td>0       </td><td>0       </td><td>0       </td><td>0       </td><td>1       </td><td>0       </td><td>0       </td><td>0       </td></tr>\n",
       "\t<tr><td> 92     </td><td>Female  </td><td>20      </td><td>harmony </td><td>harmony </td><td>etc     </td><td>4       </td><td>5       </td><td>4       </td><td>1       </td><td>...     </td><td>0       </td><td>0       </td><td>1       </td><td>0       </td><td>0       </td><td>0       </td><td>1       </td><td>0       </td><td>0       </td><td>0       </td></tr>\n",
       "\t<tr><td> 93     </td><td>Female  </td><td>20      </td><td>harmony </td><td>harmony </td><td>etc     </td><td>1       </td><td>3       </td><td>4       </td><td>1       </td><td>...     </td><td>1       </td><td>0       </td><td>0       </td><td>0       </td><td>0       </td><td>0       </td><td>0       </td><td>0       </td><td>0       </td><td>1       </td></tr>\n",
       "\t<tr><td> 94     </td><td>Female  </td><td>20      </td><td>harmony </td><td>harmony </td><td>clothes </td><td>4       </td><td>2       </td><td>1       </td><td>1       </td><td>...     </td><td>0       </td><td>0       </td><td>0       </td><td>1       </td><td>0       </td><td>0       </td><td>0       </td><td>1       </td><td>0       </td><td>0       </td></tr>\n",
       "\t<tr><td> 95     </td><td>Female  </td><td>20      </td><td>harmony </td><td>harmony </td><td>etc     </td><td>4       </td><td>1       </td><td>2       </td><td>3       </td><td>...     </td><td>1       </td><td>0       </td><td>0       </td><td>0       </td><td>0       </td><td>0       </td><td>0       </td><td>0       </td><td>0       </td><td>1       </td></tr>\n",
       "\t<tr><td> 96     </td><td>Male    </td><td>20      </td><td>bright  </td><td>bright  </td><td>clothes </td><td>3       </td><td>5       </td><td>3       </td><td>1       </td><td>...     </td><td>0       </td><td>1       </td><td>0       </td><td>0       </td><td>0       </td><td>0       </td><td>0       </td><td>0       </td><td>0       </td><td>1       </td></tr>\n",
       "\t<tr><td> 97     </td><td>Female  </td><td>20      </td><td>harmony </td><td>harmony </td><td>clothes </td><td>5       </td><td>5       </td><td>4       </td><td>5       </td><td>...     </td><td>1       </td><td>0       </td><td>0       </td><td>0       </td><td>0       </td><td>0       </td><td>0       </td><td>1       </td><td>0       </td><td>0       </td></tr>\n",
       "\t<tr><td> 98     </td><td>Female  </td><td>10      </td><td>harmony </td><td>harmony </td><td>clothes </td><td>2       </td><td>4       </td><td>1       </td><td>1       </td><td>...     </td><td>0       </td><td>0       </td><td>0       </td><td>1       </td><td>0       </td><td>0       </td><td>1       </td><td>0       </td><td>0       </td><td>0       </td></tr>\n",
       "\t<tr><td> 99     </td><td>Male    </td><td>20      </td><td>harmony </td><td>harmony </td><td>clothes </td><td>5       </td><td>3       </td><td>1       </td><td>3       </td><td>...     </td><td>1       </td><td>0       </td><td>0       </td><td>0       </td><td>0       </td><td>0       </td><td>0       </td><td>0       </td><td>0       </td><td>1       </td></tr>\n",
       "\t<tr><td>100     </td><td>Male    </td><td>30      </td><td>bright  </td><td>bright  </td><td>clothes </td><td>3       </td><td>3       </td><td>4       </td><td>5       </td><td>...     </td><td>0       </td><td>0       </td><td>0       </td><td>0       </td><td>1       </td><td>0       </td><td>0       </td><td>0       </td><td>1       </td><td>0       </td></tr>\n",
       "\t<tr><td>101     </td><td>Female  </td><td>20      </td><td>harmony </td><td>bright  </td><td>etc     </td><td>3       </td><td>1       </td><td>4       </td><td>2       </td><td>...     </td><td>0       </td><td>0       </td><td>0       </td><td>0       </td><td>1       </td><td>0       </td><td>0       </td><td>1       </td><td>0       </td><td>0       </td></tr>\n",
       "\t<tr><td>102     </td><td>Male    </td><td>20      </td><td>harmony </td><td>harmony </td><td>clothes </td><td>3       </td><td>1       </td><td>4       </td><td>3       </td><td>...     </td><td>1       </td><td>0       </td><td>0       </td><td>0       </td><td>0       </td><td>0       </td><td>0       </td><td>1       </td><td>0       </td><td>0       </td></tr>\n",
       "\t<tr><td>103     </td><td>Female  </td><td>20      </td><td>harmony </td><td>bright  </td><td>etc     </td><td>5       </td><td>5       </td><td>4       </td><td>5       </td><td>...     </td><td>0       </td><td>0       </td><td>0       </td><td>1       </td><td>0       </td><td>0       </td><td>0       </td><td>1       </td><td>0       </td><td>0       </td></tr>\n",
       "\t<tr><td>104     </td><td>Female  </td><td>20      </td><td>harmony </td><td>harmony </td><td>etc     </td><td>4       </td><td>3       </td><td>3       </td><td>3       </td><td>...     </td><td>0       </td><td>0       </td><td>1       </td><td>0       </td><td>0       </td><td>0       </td><td>0       </td><td>0       </td><td>1       </td><td>0       </td></tr>\n",
       "\t<tr><td>105     </td><td>Male    </td><td>20      </td><td>harmony </td><td>harmony </td><td>clothes </td><td>3       </td><td>5       </td><td>1       </td><td>3       </td><td>...     </td><td>0       </td><td>0       </td><td>1       </td><td>0       </td><td>0       </td><td>0       </td><td>0       </td><td>0       </td><td>1       </td><td>0       </td></tr>\n",
       "\t<tr><td>106     </td><td>Female  </td><td>20      </td><td>harmony </td><td>bright  </td><td>etc     </td><td>3       </td><td>1       </td><td>4       </td><td>5       </td><td>...     </td><td>0       </td><td>0       </td><td>1       </td><td>0       </td><td>0       </td><td>1       </td><td>0       </td><td>0       </td><td>0       </td><td>0       </td></tr>\n",
       "\t<tr><td>107     </td><td>Female  </td><td>20      </td><td>harmony </td><td>harmony </td><td>clothes </td><td>3       </td><td>2       </td><td>4       </td><td>4       </td><td>...     </td><td>0       </td><td>0       </td><td>0       </td><td>1       </td><td>0       </td><td>0       </td><td>0       </td><td>0       </td><td>1       </td><td>0       </td></tr>\n",
       "\t<tr><td>108     </td><td>Female  </td><td>20      </td><td>harmony </td><td>harmony </td><td>cosmetic</td><td>4       </td><td>1       </td><td>4       </td><td>5       </td><td>...     </td><td>0       </td><td>0       </td><td>0       </td><td>0       </td><td>1       </td><td>0       </td><td>0       </td><td>0       </td><td>1       </td><td>0       </td></tr>\n",
       "\t<tr><td>109     </td><td>Male    </td><td>20      </td><td>harmony </td><td>harmony </td><td>clothes </td><td>2       </td><td>2       </td><td>1       </td><td>2       </td><td>...     </td><td>1       </td><td>0       </td><td>0       </td><td>0       </td><td>0       </td><td>0       </td><td>0       </td><td>1       </td><td>0       </td><td>0       </td></tr>\n",
       "\t<tr><td>110     </td><td>Female  </td><td>20      </td><td>harmony </td><td>harmony </td><td>etc     </td><td>4       </td><td>1       </td><td>3       </td><td>4       </td><td>...     </td><td>0       </td><td>0       </td><td>0       </td><td>1       </td><td>0       </td><td>0       </td><td>0       </td><td>0       </td><td>1       </td><td>0       </td></tr>\n",
       "\t<tr><td>111     </td><td>Female  </td><td>20      </td><td>harmony </td><td>harmony </td><td>etc     </td><td>4       </td><td>1       </td><td>4       </td><td>5       </td><td>...     </td><td>1       </td><td>0       </td><td>0       </td><td>0       </td><td>0       </td><td>0       </td><td>0       </td><td>0       </td><td>0       </td><td>1       </td></tr>\n",
       "\t<tr><td>112     </td><td>Female  </td><td>30      </td><td>harmony </td><td>harmony </td><td>cosmetic</td><td>4       </td><td>4       </td><td>2       </td><td>2       </td><td>...     </td><td>1       </td><td>0       </td><td>0       </td><td>0       </td><td>0       </td><td>0       </td><td>0       </td><td>1       </td><td>0       </td><td>0       </td></tr>\n",
       "\t<tr><td>113     </td><td>Male    </td><td>30      </td><td>harmony </td><td>bright  </td><td>cosmetic</td><td>2       </td><td>1       </td><td>4       </td><td>5       </td><td>...     </td><td>0       </td><td>0       </td><td>0       </td><td>1       </td><td>0       </td><td>0       </td><td>0       </td><td>1       </td><td>0       </td><td>0       </td></tr>\n",
       "\t<tr><td>114     </td><td>Female  </td><td>20      </td><td>bright  </td><td>harmony </td><td>etc     </td><td>4       </td><td>4       </td><td>5       </td><td>4       </td><td>...     </td><td>0       </td><td>1       </td><td>0       </td><td>0       </td><td>0       </td><td>0       </td><td>0       </td><td>0       </td><td>0       </td><td>1       </td></tr>\n",
       "\t<tr><td>115     </td><td>Male    </td><td>20      </td><td>bright  </td><td>harmony </td><td>clothes </td><td>2       </td><td>3       </td><td>2       </td><td>5       </td><td>...     </td><td>0       </td><td>0       </td><td>0       </td><td>0       </td><td>1       </td><td>0       </td><td>0       </td><td>0       </td><td>0       </td><td>1       </td></tr>\n",
       "\t<tr><td>116     </td><td>Female  </td><td>20      </td><td>harmony </td><td>bright  </td><td>clothes </td><td>3       </td><td>2       </td><td>5       </td><td>5       </td><td>...     </td><td>0       </td><td>1       </td><td>0       </td><td>0       </td><td>0       </td><td>1       </td><td>0       </td><td>0       </td><td>0       </td><td>0       </td></tr>\n",
       "</tbody>\n",
       "</table>\n"
      ],
      "text/latex": [
       "\\begin{tabular}{r|llllllllllllllllllllllllllllllllllllll}\n",
       " X & sex & age\\_class & definition & need & purpose & interest & comp & triangle1 & triangle2 & ... & d2\\_1 & d2\\_2 & d2\\_3 & d2\\_4 & d2\\_5 & d3\\_1 & d3\\_2 & d3\\_3 & d3\\_4 & d3\\_5\\\\\n",
       "\\hline\n",
       "\t  0       & Male     & 20       & harmony  & harmony  & clothes  & 5        & 4        & 5        & 2        & ...      & 0        & 1        & 0        & 0        & 0        & 0        & 1        & 0        & 0        & 0       \\\\\n",
       "\t  1       & Female   & 20       & bright   & harmony  & clothes  & 5        & 1        & 1        & 2        & ...      & 0        & 0        & 1        & 0        & 0        & 0        & 1        & 0        & 0        & 0       \\\\\n",
       "\t  2       & Female   & 20       & bright   & bright   & clothes  & 3        & 2        & 4        & 1        & ...      & 1        & 0        & 0        & 0        & 0        & 0        & 1        & 0        & 0        & 0       \\\\\n",
       "\t  3       & Female   & 20       & harmony  & harmony  & clothes  & 3        & 5        & 5        & 4        & ...      & 0        & 0        & 0        & 1        & 0        & 1        & 0        & 0        & 0        & 0       \\\\\n",
       "\t  4       & Female   & 20       & bright   & bright   & etc      & 4        & 4        & 2        & 1        & ...      & 0        & 1        & 0        & 0        & 0        & 0        & 1        & 0        & 0        & 0       \\\\\n",
       "\t  5       & Female   & 20       & harmony  & harmony  & etc      & 2        & 3        & 4        & 1        & ...      & 0        & 1        & 0        & 0        & 0        & 0        & 1        & 0        & 0        & 0       \\\\\n",
       "\t  6       & Female   & 20       & harmony  & harmony  & etc      & 5        & 1        & 4        & 5        & ...      & 0        & 0        & 1        & 0        & 0        & 0        & 0        & 1        & 0        & 0       \\\\\n",
       "\t  7       & Male     & 20       & harmony  & harmony  & clothes  & 3        & 1        & 1        & 3        & ...      & 0        & 0        & 0        & 0        & 1        & 0        & 0        & 0        & 0        & 1       \\\\\n",
       "\t  8       & Female   & 20       & harmony  & harmony  & clothes  & 4        & 1        & 4        & 1        & ...      & 0        & 1        & 0        & 0        & 0        & 0        & 1        & 0        & 0        & 0       \\\\\n",
       "\t  9       & Female   & 20       & bright   & bright   & clothes  & 4        & 5        & 5        & 2        & ...      & 1        & 0        & 0        & 0        & 0        & 0        & 0        & 0        & 0        & 1       \\\\\n",
       "\t 10       & Female   & 20       & harmony  & harmony  & etc      & 3        & 5        & 3        & 2        & ...      & 0        & 0        & 0        & 0        & 1        & 0        & 1        & 0        & 0        & 0       \\\\\n",
       "\t 11       & Male     & 20       & harmony  & harmony  & clothes  & 3        & 5        & 4        & 5        & ...      & 0        & 0        & 1        & 0        & 0        & 0        & 0        & 1        & 0        & 0       \\\\\n",
       "\t 12       & Female   & 20       & harmony  & harmony  & etc      & 3        & 1        & 4        & 3        & ...      & 1        & 0        & 0        & 0        & 0        & 0        & 1        & 0        & 0        & 0       \\\\\n",
       "\t 13       & Female   & 20       & bright   & bright   & cosmetic & 3        & 1        & 3        & 1        & ...      & 0        & 0        & 0        & 1        & 0        & 0        & 1        & 0        & 0        & 0       \\\\\n",
       "\t 14       & Female   & 20       & harmony  & harmony  & clothes  & 3        & 1        & 5        & 2        & ...      & 0        & 1        & 0        & 0        & 0        & 0        & 0        & 0        & 0        & 1       \\\\\n",
       "\t 15       & Female   & 50       & harmony  & harmony  & clothes  & 3        & 2        & 4        & 4        & ...      & 0        & 0        & 0        & 1        & 0        & 0        & 0        & 0        & 1        & 0       \\\\\n",
       "\t 16       & Female   & 20       & harmony  & bright   & etc      & 3        & 2        & 1        & 3        & ...      & 1        & 0        & 0        & 0        & 0        & 0        & 0        & 1        & 0        & 0       \\\\\n",
       "\t 17       & Female   & 20       & harmony  & harmony  & clothes  & 3        & 3        & 2        & 3        & ...      & 1        & 0        & 0        & 0        & 0        & 0        & 0        & 1        & 0        & 0       \\\\\n",
       "\t 18       & Male     & 20       & harmony  & harmony  & clothes  & 2        & 1        & 5        & 4        & ...      & 1        & 0        & 0        & 0        & 0        & 0        & 0        & 1        & 0        & 0       \\\\\n",
       "\t 19       & Female   & 20       & bright   & bright   & etc      & 3        & 5        & 2        & 5        & ...      & 0        & 1        & 0        & 0        & 0        & 1        & 0        & 0        & 0        & 0       \\\\\n",
       "\t 20       & Female   & 20       & harmony  & bright   & cosmetic & 4        & 3        & 4        & 4        & ...      & 0        & 0        & 0        & 1        & 0        & 1        & 0        & 0        & 0        & 0       \\\\\n",
       "\t 21       & Female   & 20       & harmony  & harmony  & cosmetic & 5        & 1        & 4        & 5        & ...      & 1        & 0        & 0        & 0        & 0        & 1        & 0        & 0        & 0        & 0       \\\\\n",
       "\t 22       & Female   & 20       & harmony  & harmony  & clothes  & 5        & 1        & 4        & 2        & ...      & 0        & 0        & 0        & 0        & 1        & 1        & 0        & 0        & 0        & 0       \\\\\n",
       "\t 23       & Female   & 20       & harmony  & harmony  & etc      & 5        & 1        & 4        & 5        & ...      & 1        & 0        & 0        & 0        & 0        & 0        & 0        & 0        & 0        & 1       \\\\\n",
       "\t 24       & Male     & 20       & harmony  & harmony  & clothes  & 2        & 1        & 3        & 4        & ...      & 0        & 0        & 1        & 0        & 0        & 0        & 1        & 0        & 0        & 0       \\\\\n",
       "\t 25       & Male     & 20       & harmony  & harmony  & clothes  & 2        & 2        & 1        & 3        & ...      & 0        & 0        & 0        & 1        & 0        & 0        & 1        & 0        & 0        & 0       \\\\\n",
       "\t 26       & Female   & 20       & bright   & bright   & etc      & 5        & 2        & 2        & 2        & ...      & 0        & 0        & 1        & 0        & 0        & 0        & 0        & 0        & 0        & 1       \\\\\n",
       "\t 27       & Female   & 20       & bright   & bright   & etc      & 4        & 3        & 4        & 4        & ...      & 0        & 0        & 0        & 0        & 1        & 0        & 0        & 0        & 0        & 1       \\\\\n",
       "\t 28       & Male     & 30       & harmony  & harmony  & clothes  & 3        & 4        & 1        & 1        & ...      & 0        & 1        & 0        & 0        & 0        & 0        & 1        & 0        & 0        & 0       \\\\\n",
       "\t 29       & Female   & 20       & harmony  & harmony  & clothes  & 3        & 3        & 5        & 1        & ...      & 1        & 0        & 0        & 0        & 0        & 0        & 0        & 0        & 0        & 1       \\\\\n",
       "\t ... & ... & ... & ... & ... & ... & ... & ... & ... & ... &     & ... & ... & ... & ... & ... & ... & ... & ... & ... & ...\\\\\n",
       "\t  87      & Female   & 30       & bright   & bright   & etc      & 4        & 3        & 2        & 2        & ...      & 1        & 0        & 0        & 0        & 0        & 0        & 0        & 1        & 0        & 0       \\\\\n",
       "\t  88      & Female   & 30       & harmony  & bright   & cosmetic & 3        & 5        & 1        & 1        & ...      & 1        & 0        & 0        & 0        & 0        & 0        & 0        & 0        & 1        & 0       \\\\\n",
       "\t  89      & Female   & 20       & harmony  & harmony  & clothes  & 3        & 5        & 4        & 3        & ...      & 0        & 0        & 0        & 0        & 1        & 0        & 0        & 1        & 0        & 0       \\\\\n",
       "\t  90      & Female   & 20       & harmony  & harmony  & clothes  & 3        & 1        & 2        & 2        & ...      & 0        & 0        & 0        & 1        & 0        & 0        & 0        & 1        & 0        & 0       \\\\\n",
       "\t  91      & Female   & 20       & harmony  & harmony  & etc      & 3        & 2        & 1        & 1        & ...      & 1        & 0        & 0        & 0        & 0        & 0        & 1        & 0        & 0        & 0       \\\\\n",
       "\t  92      & Female   & 20       & harmony  & harmony  & etc      & 4        & 5        & 4        & 1        & ...      & 0        & 0        & 1        & 0        & 0        & 0        & 1        & 0        & 0        & 0       \\\\\n",
       "\t  93      & Female   & 20       & harmony  & harmony  & etc      & 1        & 3        & 4        & 1        & ...      & 1        & 0        & 0        & 0        & 0        & 0        & 0        & 0        & 0        & 1       \\\\\n",
       "\t  94      & Female   & 20       & harmony  & harmony  & clothes  & 4        & 2        & 1        & 1        & ...      & 0        & 0        & 0        & 1        & 0        & 0        & 0        & 1        & 0        & 0       \\\\\n",
       "\t  95      & Female   & 20       & harmony  & harmony  & etc      & 4        & 1        & 2        & 3        & ...      & 1        & 0        & 0        & 0        & 0        & 0        & 0        & 0        & 0        & 1       \\\\\n",
       "\t  96      & Male     & 20       & bright   & bright   & clothes  & 3        & 5        & 3        & 1        & ...      & 0        & 1        & 0        & 0        & 0        & 0        & 0        & 0        & 0        & 1       \\\\\n",
       "\t  97      & Female   & 20       & harmony  & harmony  & clothes  & 5        & 5        & 4        & 5        & ...      & 1        & 0        & 0        & 0        & 0        & 0        & 0        & 1        & 0        & 0       \\\\\n",
       "\t  98      & Female   & 10       & harmony  & harmony  & clothes  & 2        & 4        & 1        & 1        & ...      & 0        & 0        & 0        & 1        & 0        & 0        & 1        & 0        & 0        & 0       \\\\\n",
       "\t  99      & Male     & 20       & harmony  & harmony  & clothes  & 5        & 3        & 1        & 3        & ...      & 1        & 0        & 0        & 0        & 0        & 0        & 0        & 0        & 0        & 1       \\\\\n",
       "\t 100      & Male     & 30       & bright   & bright   & clothes  & 3        & 3        & 4        & 5        & ...      & 0        & 0        & 0        & 0        & 1        & 0        & 0        & 0        & 1        & 0       \\\\\n",
       "\t 101      & Female   & 20       & harmony  & bright   & etc      & 3        & 1        & 4        & 2        & ...      & 0        & 0        & 0        & 0        & 1        & 0        & 0        & 1        & 0        & 0       \\\\\n",
       "\t 102      & Male     & 20       & harmony  & harmony  & clothes  & 3        & 1        & 4        & 3        & ...      & 1        & 0        & 0        & 0        & 0        & 0        & 0        & 1        & 0        & 0       \\\\\n",
       "\t 103      & Female   & 20       & harmony  & bright   & etc      & 5        & 5        & 4        & 5        & ...      & 0        & 0        & 0        & 1        & 0        & 0        & 0        & 1        & 0        & 0       \\\\\n",
       "\t 104      & Female   & 20       & harmony  & harmony  & etc      & 4        & 3        & 3        & 3        & ...      & 0        & 0        & 1        & 0        & 0        & 0        & 0        & 0        & 1        & 0       \\\\\n",
       "\t 105      & Male     & 20       & harmony  & harmony  & clothes  & 3        & 5        & 1        & 3        & ...      & 0        & 0        & 1        & 0        & 0        & 0        & 0        & 0        & 1        & 0       \\\\\n",
       "\t 106      & Female   & 20       & harmony  & bright   & etc      & 3        & 1        & 4        & 5        & ...      & 0        & 0        & 1        & 0        & 0        & 1        & 0        & 0        & 0        & 0       \\\\\n",
       "\t 107      & Female   & 20       & harmony  & harmony  & clothes  & 3        & 2        & 4        & 4        & ...      & 0        & 0        & 0        & 1        & 0        & 0        & 0        & 0        & 1        & 0       \\\\\n",
       "\t 108      & Female   & 20       & harmony  & harmony  & cosmetic & 4        & 1        & 4        & 5        & ...      & 0        & 0        & 0        & 0        & 1        & 0        & 0        & 0        & 1        & 0       \\\\\n",
       "\t 109      & Male     & 20       & harmony  & harmony  & clothes  & 2        & 2        & 1        & 2        & ...      & 1        & 0        & 0        & 0        & 0        & 0        & 0        & 1        & 0        & 0       \\\\\n",
       "\t 110      & Female   & 20       & harmony  & harmony  & etc      & 4        & 1        & 3        & 4        & ...      & 0        & 0        & 0        & 1        & 0        & 0        & 0        & 0        & 1        & 0       \\\\\n",
       "\t 111      & Female   & 20       & harmony  & harmony  & etc      & 4        & 1        & 4        & 5        & ...      & 1        & 0        & 0        & 0        & 0        & 0        & 0        & 0        & 0        & 1       \\\\\n",
       "\t 112      & Female   & 30       & harmony  & harmony  & cosmetic & 4        & 4        & 2        & 2        & ...      & 1        & 0        & 0        & 0        & 0        & 0        & 0        & 1        & 0        & 0       \\\\\n",
       "\t 113      & Male     & 30       & harmony  & bright   & cosmetic & 2        & 1        & 4        & 5        & ...      & 0        & 0        & 0        & 1        & 0        & 0        & 0        & 1        & 0        & 0       \\\\\n",
       "\t 114      & Female   & 20       & bright   & harmony  & etc      & 4        & 4        & 5        & 4        & ...      & 0        & 1        & 0        & 0        & 0        & 0        & 0        & 0        & 0        & 1       \\\\\n",
       "\t 115      & Male     & 20       & bright   & harmony  & clothes  & 2        & 3        & 2        & 5        & ...      & 0        & 0        & 0        & 0        & 1        & 0        & 0        & 0        & 0        & 1       \\\\\n",
       "\t 116      & Female   & 20       & harmony  & bright   & clothes  & 3        & 2        & 5        & 5        & ...      & 0        & 1        & 0        & 0        & 0        & 1        & 0        & 0        & 0        & 0       \\\\\n",
       "\\end{tabular}\n"
      ],
      "text/markdown": [
       "\n",
       "| X | sex | age_class | definition | need | purpose | interest | comp | triangle1 | triangle2 | ... | d2_1 | d2_2 | d2_3 | d2_4 | d2_5 | d3_1 | d3_2 | d3_3 | d3_4 | d3_5 |\n",
       "|---|---|---|---|---|---|---|---|---|---|---|---|---|---|---|---|---|---|---|---|---|\n",
       "|  0       | Male     | 20       | harmony  | harmony  | clothes  | 5        | 4        | 5        | 2        | ...      | 0        | 1        | 0        | 0        | 0        | 0        | 1        | 0        | 0        | 0        |\n",
       "|  1       | Female   | 20       | bright   | harmony  | clothes  | 5        | 1        | 1        | 2        | ...      | 0        | 0        | 1        | 0        | 0        | 0        | 1        | 0        | 0        | 0        |\n",
       "|  2       | Female   | 20       | bright   | bright   | clothes  | 3        | 2        | 4        | 1        | ...      | 1        | 0        | 0        | 0        | 0        | 0        | 1        | 0        | 0        | 0        |\n",
       "|  3       | Female   | 20       | harmony  | harmony  | clothes  | 3        | 5        | 5        | 4        | ...      | 0        | 0        | 0        | 1        | 0        | 1        | 0        | 0        | 0        | 0        |\n",
       "|  4       | Female   | 20       | bright   | bright   | etc      | 4        | 4        | 2        | 1        | ...      | 0        | 1        | 0        | 0        | 0        | 0        | 1        | 0        | 0        | 0        |\n",
       "|  5       | Female   | 20       | harmony  | harmony  | etc      | 2        | 3        | 4        | 1        | ...      | 0        | 1        | 0        | 0        | 0        | 0        | 1        | 0        | 0        | 0        |\n",
       "|  6       | Female   | 20       | harmony  | harmony  | etc      | 5        | 1        | 4        | 5        | ...      | 0        | 0        | 1        | 0        | 0        | 0        | 0        | 1        | 0        | 0        |\n",
       "|  7       | Male     | 20       | harmony  | harmony  | clothes  | 3        | 1        | 1        | 3        | ...      | 0        | 0        | 0        | 0        | 1        | 0        | 0        | 0        | 0        | 1        |\n",
       "|  8       | Female   | 20       | harmony  | harmony  | clothes  | 4        | 1        | 4        | 1        | ...      | 0        | 1        | 0        | 0        | 0        | 0        | 1        | 0        | 0        | 0        |\n",
       "|  9       | Female   | 20       | bright   | bright   | clothes  | 4        | 5        | 5        | 2        | ...      | 1        | 0        | 0        | 0        | 0        | 0        | 0        | 0        | 0        | 1        |\n",
       "| 10       | Female   | 20       | harmony  | harmony  | etc      | 3        | 5        | 3        | 2        | ...      | 0        | 0        | 0        | 0        | 1        | 0        | 1        | 0        | 0        | 0        |\n",
       "| 11       | Male     | 20       | harmony  | harmony  | clothes  | 3        | 5        | 4        | 5        | ...      | 0        | 0        | 1        | 0        | 0        | 0        | 0        | 1        | 0        | 0        |\n",
       "| 12       | Female   | 20       | harmony  | harmony  | etc      | 3        | 1        | 4        | 3        | ...      | 1        | 0        | 0        | 0        | 0        | 0        | 1        | 0        | 0        | 0        |\n",
       "| 13       | Female   | 20       | bright   | bright   | cosmetic | 3        | 1        | 3        | 1        | ...      | 0        | 0        | 0        | 1        | 0        | 0        | 1        | 0        | 0        | 0        |\n",
       "| 14       | Female   | 20       | harmony  | harmony  | clothes  | 3        | 1        | 5        | 2        | ...      | 0        | 1        | 0        | 0        | 0        | 0        | 0        | 0        | 0        | 1        |\n",
       "| 15       | Female   | 50       | harmony  | harmony  | clothes  | 3        | 2        | 4        | 4        | ...      | 0        | 0        | 0        | 1        | 0        | 0        | 0        | 0        | 1        | 0        |\n",
       "| 16       | Female   | 20       | harmony  | bright   | etc      | 3        | 2        | 1        | 3        | ...      | 1        | 0        | 0        | 0        | 0        | 0        | 0        | 1        | 0        | 0        |\n",
       "| 17       | Female   | 20       | harmony  | harmony  | clothes  | 3        | 3        | 2        | 3        | ...      | 1        | 0        | 0        | 0        | 0        | 0        | 0        | 1        | 0        | 0        |\n",
       "| 18       | Male     | 20       | harmony  | harmony  | clothes  | 2        | 1        | 5        | 4        | ...      | 1        | 0        | 0        | 0        | 0        | 0        | 0        | 1        | 0        | 0        |\n",
       "| 19       | Female   | 20       | bright   | bright   | etc      | 3        | 5        | 2        | 5        | ...      | 0        | 1        | 0        | 0        | 0        | 1        | 0        | 0        | 0        | 0        |\n",
       "| 20       | Female   | 20       | harmony  | bright   | cosmetic | 4        | 3        | 4        | 4        | ...      | 0        | 0        | 0        | 1        | 0        | 1        | 0        | 0        | 0        | 0        |\n",
       "| 21       | Female   | 20       | harmony  | harmony  | cosmetic | 5        | 1        | 4        | 5        | ...      | 1        | 0        | 0        | 0        | 0        | 1        | 0        | 0        | 0        | 0        |\n",
       "| 22       | Female   | 20       | harmony  | harmony  | clothes  | 5        | 1        | 4        | 2        | ...      | 0        | 0        | 0        | 0        | 1        | 1        | 0        | 0        | 0        | 0        |\n",
       "| 23       | Female   | 20       | harmony  | harmony  | etc      | 5        | 1        | 4        | 5        | ...      | 1        | 0        | 0        | 0        | 0        | 0        | 0        | 0        | 0        | 1        |\n",
       "| 24       | Male     | 20       | harmony  | harmony  | clothes  | 2        | 1        | 3        | 4        | ...      | 0        | 0        | 1        | 0        | 0        | 0        | 1        | 0        | 0        | 0        |\n",
       "| 25       | Male     | 20       | harmony  | harmony  | clothes  | 2        | 2        | 1        | 3        | ...      | 0        | 0        | 0        | 1        | 0        | 0        | 1        | 0        | 0        | 0        |\n",
       "| 26       | Female   | 20       | bright   | bright   | etc      | 5        | 2        | 2        | 2        | ...      | 0        | 0        | 1        | 0        | 0        | 0        | 0        | 0        | 0        | 1        |\n",
       "| 27       | Female   | 20       | bright   | bright   | etc      | 4        | 3        | 4        | 4        | ...      | 0        | 0        | 0        | 0        | 1        | 0        | 0        | 0        | 0        | 1        |\n",
       "| 28       | Male     | 30       | harmony  | harmony  | clothes  | 3        | 4        | 1        | 1        | ...      | 0        | 1        | 0        | 0        | 0        | 0        | 1        | 0        | 0        | 0        |\n",
       "| 29       | Female   | 20       | harmony  | harmony  | clothes  | 3        | 3        | 5        | 1        | ...      | 1        | 0        | 0        | 0        | 0        | 0        | 0        | 0        | 0        | 1        |\n",
       "| ... | ... | ... | ... | ... | ... | ... | ... | ... | ... |     | ... | ... | ... | ... | ... | ... | ... | ... | ... | ... |\n",
       "|  87      | Female   | 30       | bright   | bright   | etc      | 4        | 3        | 2        | 2        | ...      | 1        | 0        | 0        | 0        | 0        | 0        | 0        | 1        | 0        | 0        |\n",
       "|  88      | Female   | 30       | harmony  | bright   | cosmetic | 3        | 5        | 1        | 1        | ...      | 1        | 0        | 0        | 0        | 0        | 0        | 0        | 0        | 1        | 0        |\n",
       "|  89      | Female   | 20       | harmony  | harmony  | clothes  | 3        | 5        | 4        | 3        | ...      | 0        | 0        | 0        | 0        | 1        | 0        | 0        | 1        | 0        | 0        |\n",
       "|  90      | Female   | 20       | harmony  | harmony  | clothes  | 3        | 1        | 2        | 2        | ...      | 0        | 0        | 0        | 1        | 0        | 0        | 0        | 1        | 0        | 0        |\n",
       "|  91      | Female   | 20       | harmony  | harmony  | etc      | 3        | 2        | 1        | 1        | ...      | 1        | 0        | 0        | 0        | 0        | 0        | 1        | 0        | 0        | 0        |\n",
       "|  92      | Female   | 20       | harmony  | harmony  | etc      | 4        | 5        | 4        | 1        | ...      | 0        | 0        | 1        | 0        | 0        | 0        | 1        | 0        | 0        | 0        |\n",
       "|  93      | Female   | 20       | harmony  | harmony  | etc      | 1        | 3        | 4        | 1        | ...      | 1        | 0        | 0        | 0        | 0        | 0        | 0        | 0        | 0        | 1        |\n",
       "|  94      | Female   | 20       | harmony  | harmony  | clothes  | 4        | 2        | 1        | 1        | ...      | 0        | 0        | 0        | 1        | 0        | 0        | 0        | 1        | 0        | 0        |\n",
       "|  95      | Female   | 20       | harmony  | harmony  | etc      | 4        | 1        | 2        | 3        | ...      | 1        | 0        | 0        | 0        | 0        | 0        | 0        | 0        | 0        | 1        |\n",
       "|  96      | Male     | 20       | bright   | bright   | clothes  | 3        | 5        | 3        | 1        | ...      | 0        | 1        | 0        | 0        | 0        | 0        | 0        | 0        | 0        | 1        |\n",
       "|  97      | Female   | 20       | harmony  | harmony  | clothes  | 5        | 5        | 4        | 5        | ...      | 1        | 0        | 0        | 0        | 0        | 0        | 0        | 1        | 0        | 0        |\n",
       "|  98      | Female   | 10       | harmony  | harmony  | clothes  | 2        | 4        | 1        | 1        | ...      | 0        | 0        | 0        | 1        | 0        | 0        | 1        | 0        | 0        | 0        |\n",
       "|  99      | Male     | 20       | harmony  | harmony  | clothes  | 5        | 3        | 1        | 3        | ...      | 1        | 0        | 0        | 0        | 0        | 0        | 0        | 0        | 0        | 1        |\n",
       "| 100      | Male     | 30       | bright   | bright   | clothes  | 3        | 3        | 4        | 5        | ...      | 0        | 0        | 0        | 0        | 1        | 0        | 0        | 0        | 1        | 0        |\n",
       "| 101      | Female   | 20       | harmony  | bright   | etc      | 3        | 1        | 4        | 2        | ...      | 0        | 0        | 0        | 0        | 1        | 0        | 0        | 1        | 0        | 0        |\n",
       "| 102      | Male     | 20       | harmony  | harmony  | clothes  | 3        | 1        | 4        | 3        | ...      | 1        | 0        | 0        | 0        | 0        | 0        | 0        | 1        | 0        | 0        |\n",
       "| 103      | Female   | 20       | harmony  | bright   | etc      | 5        | 5        | 4        | 5        | ...      | 0        | 0        | 0        | 1        | 0        | 0        | 0        | 1        | 0        | 0        |\n",
       "| 104      | Female   | 20       | harmony  | harmony  | etc      | 4        | 3        | 3        | 3        | ...      | 0        | 0        | 1        | 0        | 0        | 0        | 0        | 0        | 1        | 0        |\n",
       "| 105      | Male     | 20       | harmony  | harmony  | clothes  | 3        | 5        | 1        | 3        | ...      | 0        | 0        | 1        | 0        | 0        | 0        | 0        | 0        | 1        | 0        |\n",
       "| 106      | Female   | 20       | harmony  | bright   | etc      | 3        | 1        | 4        | 5        | ...      | 0        | 0        | 1        | 0        | 0        | 1        | 0        | 0        | 0        | 0        |\n",
       "| 107      | Female   | 20       | harmony  | harmony  | clothes  | 3        | 2        | 4        | 4        | ...      | 0        | 0        | 0        | 1        | 0        | 0        | 0        | 0        | 1        | 0        |\n",
       "| 108      | Female   | 20       | harmony  | harmony  | cosmetic | 4        | 1        | 4        | 5        | ...      | 0        | 0        | 0        | 0        | 1        | 0        | 0        | 0        | 1        | 0        |\n",
       "| 109      | Male     | 20       | harmony  | harmony  | clothes  | 2        | 2        | 1        | 2        | ...      | 1        | 0        | 0        | 0        | 0        | 0        | 0        | 1        | 0        | 0        |\n",
       "| 110      | Female   | 20       | harmony  | harmony  | etc      | 4        | 1        | 3        | 4        | ...      | 0        | 0        | 0        | 1        | 0        | 0        | 0        | 0        | 1        | 0        |\n",
       "| 111      | Female   | 20       | harmony  | harmony  | etc      | 4        | 1        | 4        | 5        | ...      | 1        | 0        | 0        | 0        | 0        | 0        | 0        | 0        | 0        | 1        |\n",
       "| 112      | Female   | 30       | harmony  | harmony  | cosmetic | 4        | 4        | 2        | 2        | ...      | 1        | 0        | 0        | 0        | 0        | 0        | 0        | 1        | 0        | 0        |\n",
       "| 113      | Male     | 30       | harmony  | bright   | cosmetic | 2        | 1        | 4        | 5        | ...      | 0        | 0        | 0        | 1        | 0        | 0        | 0        | 1        | 0        | 0        |\n",
       "| 114      | Female   | 20       | bright   | harmony  | etc      | 4        | 4        | 5        | 4        | ...      | 0        | 1        | 0        | 0        | 0        | 0        | 0        | 0        | 0        | 1        |\n",
       "| 115      | Male     | 20       | bright   | harmony  | clothes  | 2        | 3        | 2        | 5        | ...      | 0        | 0        | 0        | 0        | 1        | 0        | 0        | 0        | 0        | 1        |\n",
       "| 116      | Female   | 20       | harmony  | bright   | clothes  | 3        | 2        | 5        | 5        | ...      | 0        | 1        | 0        | 0        | 0        | 1        | 0        | 0        | 0        | 0        |\n",
       "\n"
      ],
      "text/plain": [
       "    X   sex    age_class definition need    purpose  interest comp triangle1\n",
       "1    0  Male   20        harmony    harmony clothes  5        4    5        \n",
       "2    1  Female 20        bright     harmony clothes  5        1    1        \n",
       "3    2  Female 20        bright     bright  clothes  3        2    4        \n",
       "4    3  Female 20        harmony    harmony clothes  3        5    5        \n",
       "5    4  Female 20        bright     bright  etc      4        4    2        \n",
       "6    5  Female 20        harmony    harmony etc      2        3    4        \n",
       "7    6  Female 20        harmony    harmony etc      5        1    4        \n",
       "8    7  Male   20        harmony    harmony clothes  3        1    1        \n",
       "9    8  Female 20        harmony    harmony clothes  4        1    4        \n",
       "10   9  Female 20        bright     bright  clothes  4        5    5        \n",
       "11  10  Female 20        harmony    harmony etc      3        5    3        \n",
       "12  11  Male   20        harmony    harmony clothes  3        5    4        \n",
       "13  12  Female 20        harmony    harmony etc      3        1    4        \n",
       "14  13  Female 20        bright     bright  cosmetic 3        1    3        \n",
       "15  14  Female 20        harmony    harmony clothes  3        1    5        \n",
       "16  15  Female 50        harmony    harmony clothes  3        2    4        \n",
       "17  16  Female 20        harmony    bright  etc      3        2    1        \n",
       "18  17  Female 20        harmony    harmony clothes  3        3    2        \n",
       "19  18  Male   20        harmony    harmony clothes  2        1    5        \n",
       "20  19  Female 20        bright     bright  etc      3        5    2        \n",
       "21  20  Female 20        harmony    bright  cosmetic 4        3    4        \n",
       "22  21  Female 20        harmony    harmony cosmetic 5        1    4        \n",
       "23  22  Female 20        harmony    harmony clothes  5        1    4        \n",
       "24  23  Female 20        harmony    harmony etc      5        1    4        \n",
       "25  24  Male   20        harmony    harmony clothes  2        1    3        \n",
       "26  25  Male   20        harmony    harmony clothes  2        2    1        \n",
       "27  26  Female 20        bright     bright  etc      5        2    2        \n",
       "28  27  Female 20        bright     bright  etc      4        3    4        \n",
       "29  28  Male   30        harmony    harmony clothes  3        4    1        \n",
       "30  29  Female 20        harmony    harmony clothes  3        3    5        \n",
       "... ... ...    ...       ...        ...     ...      ...      ...  ...      \n",
       "88   87 Female 30        bright     bright  etc      4        3    2        \n",
       "89   88 Female 30        harmony    bright  cosmetic 3        5    1        \n",
       "90   89 Female 20        harmony    harmony clothes  3        5    4        \n",
       "91   90 Female 20        harmony    harmony clothes  3        1    2        \n",
       "92   91 Female 20        harmony    harmony etc      3        2    1        \n",
       "93   92 Female 20        harmony    harmony etc      4        5    4        \n",
       "94   93 Female 20        harmony    harmony etc      1        3    4        \n",
       "95   94 Female 20        harmony    harmony clothes  4        2    1        \n",
       "96   95 Female 20        harmony    harmony etc      4        1    2        \n",
       "97   96 Male   20        bright     bright  clothes  3        5    3        \n",
       "98   97 Female 20        harmony    harmony clothes  5        5    4        \n",
       "99   98 Female 10        harmony    harmony clothes  2        4    1        \n",
       "100  99 Male   20        harmony    harmony clothes  5        3    1        \n",
       "101 100 Male   30        bright     bright  clothes  3        3    4        \n",
       "102 101 Female 20        harmony    bright  etc      3        1    4        \n",
       "103 102 Male   20        harmony    harmony clothes  3        1    4        \n",
       "104 103 Female 20        harmony    bright  etc      5        5    4        \n",
       "105 104 Female 20        harmony    harmony etc      4        3    3        \n",
       "106 105 Male   20        harmony    harmony clothes  3        5    1        \n",
       "107 106 Female 20        harmony    bright  etc      3        1    4        \n",
       "108 107 Female 20        harmony    harmony clothes  3        2    4        \n",
       "109 108 Female 20        harmony    harmony cosmetic 4        1    4        \n",
       "110 109 Male   20        harmony    harmony clothes  2        2    1        \n",
       "111 110 Female 20        harmony    harmony etc      4        1    3        \n",
       "112 111 Female 20        harmony    harmony etc      4        1    4        \n",
       "113 112 Female 30        harmony    harmony cosmetic 4        4    2        \n",
       "114 113 Male   30        harmony    bright  cosmetic 2        1    4        \n",
       "115 114 Female 20        bright     harmony etc      4        4    5        \n",
       "116 115 Male   20        bright     harmony clothes  2        3    2        \n",
       "117 116 Female 20        harmony    bright  clothes  3        2    5        \n",
       "    triangle2 ... d2_1 d2_2 d2_3 d2_4 d2_5 d3_1 d3_2 d3_3 d3_4 d3_5\n",
       "1   2         ... 0    1    0    0    0    0    1    0    0    0   \n",
       "2   2         ... 0    0    1    0    0    0    1    0    0    0   \n",
       "3   1         ... 1    0    0    0    0    0    1    0    0    0   \n",
       "4   4         ... 0    0    0    1    0    1    0    0    0    0   \n",
       "5   1         ... 0    1    0    0    0    0    1    0    0    0   \n",
       "6   1         ... 0    1    0    0    0    0    1    0    0    0   \n",
       "7   5         ... 0    0    1    0    0    0    0    1    0    0   \n",
       "8   3         ... 0    0    0    0    1    0    0    0    0    1   \n",
       "9   1         ... 0    1    0    0    0    0    1    0    0    0   \n",
       "10  2         ... 1    0    0    0    0    0    0    0    0    1   \n",
       "11  2         ... 0    0    0    0    1    0    1    0    0    0   \n",
       "12  5         ... 0    0    1    0    0    0    0    1    0    0   \n",
       "13  3         ... 1    0    0    0    0    0    1    0    0    0   \n",
       "14  1         ... 0    0    0    1    0    0    1    0    0    0   \n",
       "15  2         ... 0    1    0    0    0    0    0    0    0    1   \n",
       "16  4         ... 0    0    0    1    0    0    0    0    1    0   \n",
       "17  3         ... 1    0    0    0    0    0    0    1    0    0   \n",
       "18  3         ... 1    0    0    0    0    0    0    1    0    0   \n",
       "19  4         ... 1    0    0    0    0    0    0    1    0    0   \n",
       "20  5         ... 0    1    0    0    0    1    0    0    0    0   \n",
       "21  4         ... 0    0    0    1    0    1    0    0    0    0   \n",
       "22  5         ... 1    0    0    0    0    1    0    0    0    0   \n",
       "23  2         ... 0    0    0    0    1    1    0    0    0    0   \n",
       "24  5         ... 1    0    0    0    0    0    0    0    0    1   \n",
       "25  4         ... 0    0    1    0    0    0    1    0    0    0   \n",
       "26  3         ... 0    0    0    1    0    0    1    0    0    0   \n",
       "27  2         ... 0    0    1    0    0    0    0    0    0    1   \n",
       "28  4         ... 0    0    0    0    1    0    0    0    0    1   \n",
       "29  1         ... 0    1    0    0    0    0    1    0    0    0   \n",
       "30  1         ... 1    0    0    0    0    0    0    0    0    1   \n",
       "... ...           ...  ...  ...  ...  ...  ...  ...  ...  ...  ... \n",
       "88  2         ... 1    0    0    0    0    0    0    1    0    0   \n",
       "89  1         ... 1    0    0    0    0    0    0    0    1    0   \n",
       "90  3         ... 0    0    0    0    1    0    0    1    0    0   \n",
       "91  2         ... 0    0    0    1    0    0    0    1    0    0   \n",
       "92  1         ... 1    0    0    0    0    0    1    0    0    0   \n",
       "93  1         ... 0    0    1    0    0    0    1    0    0    0   \n",
       "94  1         ... 1    0    0    0    0    0    0    0    0    1   \n",
       "95  1         ... 0    0    0    1    0    0    0    1    0    0   \n",
       "96  3         ... 1    0    0    0    0    0    0    0    0    1   \n",
       "97  1         ... 0    1    0    0    0    0    0    0    0    1   \n",
       "98  5         ... 1    0    0    0    0    0    0    1    0    0   \n",
       "99  1         ... 0    0    0    1    0    0    1    0    0    0   \n",
       "100 3         ... 1    0    0    0    0    0    0    0    0    1   \n",
       "101 5         ... 0    0    0    0    1    0    0    0    1    0   \n",
       "102 2         ... 0    0    0    0    1    0    0    1    0    0   \n",
       "103 3         ... 1    0    0    0    0    0    0    1    0    0   \n",
       "104 5         ... 0    0    0    1    0    0    0    1    0    0   \n",
       "105 3         ... 0    0    1    0    0    0    0    0    1    0   \n",
       "106 3         ... 0    0    1    0    0    0    0    0    1    0   \n",
       "107 5         ... 0    0    1    0    0    1    0    0    0    0   \n",
       "108 4         ... 0    0    0    1    0    0    0    0    1    0   \n",
       "109 5         ... 0    0    0    0    1    0    0    0    1    0   \n",
       "110 2         ... 1    0    0    0    0    0    0    1    0    0   \n",
       "111 4         ... 0    0    0    1    0    0    0    0    1    0   \n",
       "112 5         ... 1    0    0    0    0    0    0    0    0    1   \n",
       "113 2         ... 1    0    0    0    0    0    0    1    0    0   \n",
       "114 5         ... 0    0    0    1    0    0    0    1    0    0   \n",
       "115 4         ... 0    1    0    0    0    0    0    0    0    1   \n",
       "116 5         ... 0    0    0    0    1    0    0    0    0    1   \n",
       "117 5         ... 0    1    0    0    0    1    0    0    0    0   "
      ]
     },
     "metadata": {},
     "output_type": "display_data"
    }
   ],
   "source": [
    "total"
   ]
  },
  {
   "cell_type": "code",
   "execution_count": 84,
   "metadata": {},
   "outputs": [
    {
     "data": {
      "text/plain": [
       "\n",
       "Call:\n",
       "glm(formula = t1_1 ~ sex + need + purpose + interest, family = binomial, \n",
       "    data = total)\n",
       "\n",
       "Deviance Residuals: \n",
       "    Min       1Q   Median       3Q      Max  \n",
       "-1.2073  -0.6600  -0.5591  -0.3743   2.2211  \n",
       "\n",
       "Coefficients:\n",
       "                Estimate Std. Error z value Pr(>|z|)  \n",
       "(Intercept)      -2.2704     1.0645  -2.133   0.0329 *\n",
       "sexMale           1.4618     0.6704   2.180   0.0292 *\n",
       "needharmony       0.8467     0.5469   1.548   0.1216  \n",
       "purposecosmetic   1.1142     0.7433   1.499   0.1339  \n",
       "purposeetc        0.2457     0.7129   0.345   0.7304  \n",
       "interest         -0.1177     0.2398  -0.491   0.6234  \n",
       "---\n",
       "Signif. codes:  0 '***' 0.001 '**' 0.01 '*' 0.05 '.' 0.1 ' ' 1\n",
       "\n",
       "(Dispersion parameter for binomial family taken to be 1)\n",
       "\n",
       "    Null deviance: 118.74  on 116  degrees of freedom\n",
       "Residual deviance: 108.72  on 111  degrees of freedom\n",
       "AIC: 120.72\n",
       "\n",
       "Number of Fisher Scoring iterations: 4\n"
      ]
     },
     "metadata": {},
     "output_type": "display_data"
    }
   ],
   "source": [
    "result <- glm(t1_1 ~ sex + need + purpose \n",
    "              + interest, family=binomial, data=total)\n",
    "\n",
    "summary(result)"
   ]
  },
  {
   "cell_type": "code",
   "execution_count": 85,
   "metadata": {},
   "outputs": [
    {
     "data": {
      "text/plain": [
       "\n",
       "Call:\n",
       "glm(formula = t1_2 ~ sex + need + purpose + interest, family = binomial, \n",
       "    data = total)\n",
       "\n",
       "Deviance Residuals: \n",
       "    Min       1Q   Median       3Q      Max  \n",
       "-0.8959  -0.5657  -0.4541  -0.3575   2.5064  \n",
       "\n",
       "Coefficients:\n",
       "                Estimate Std. Error z value Pr(>|z|)\n",
       "(Intercept)      -0.7677     1.2254  -0.626    0.531\n",
       "sexMale          -0.3459     0.9471  -0.365    0.715\n",
       "needharmony      -0.4687     0.5603  -0.836    0.403\n",
       "purposecosmetic   0.6824     0.8526   0.800    0.423\n",
       "purposeetc        0.9094     0.7685   1.183    0.237\n",
       "interest         -0.3787     0.2920  -1.297    0.195\n",
       "\n",
       "(Dispersion parameter for binomial family taken to be 1)\n",
       "\n",
       "    Null deviance: 93.372  on 116  degrees of freedom\n",
       "Residual deviance: 88.139  on 111  degrees of freedom\n",
       "AIC: 100.14\n",
       "\n",
       "Number of Fisher Scoring iterations: 5\n"
      ]
     },
     "metadata": {},
     "output_type": "display_data"
    }
   ],
   "source": [
    "result <- glm(t1_2 ~ sex + need + purpose \n",
    "              + interest, family=binomial, data=total)\n",
    "\n",
    "summary(result)"
   ]
  },
  {
   "cell_type": "code",
   "execution_count": 86,
   "metadata": {},
   "outputs": [
    {
     "data": {
      "text/plain": [
       "\n",
       "Call:\n",
       "glm(formula = t1_3 ~ sex + need + purpose + interest, family = binomial, \n",
       "    data = total)\n",
       "\n",
       "Deviance Residuals: \n",
       "    Min       1Q   Median       3Q      Max  \n",
       "-0.6722  -0.5926  -0.5432  -0.4777   2.1362  \n",
       "\n",
       "Coefficients:\n",
       "                Estimate Std. Error z value Pr(>|z|)  \n",
       "(Intercept)     -1.95819    1.14727  -1.707   0.0879 .\n",
       "sexMale         -0.11009    0.72758  -0.151   0.8797  \n",
       "needharmony      0.17400    0.55656   0.313   0.7546  \n",
       "purposecosmetic  0.10720    0.74946   0.143   0.8863  \n",
       "purposeetc      -0.39859    0.69636  -0.572   0.5671  \n",
       "interest         0.06093    0.27580   0.221   0.8252  \n",
       "---\n",
       "Signif. codes:  0 '***' 0.001 '**' 0.01 '*' 0.05 '.' 0.1 ' ' 1\n",
       "\n",
       "(Dispersion parameter for binomial family taken to be 1)\n",
       "\n",
       "    Null deviance: 96.985  on 116  degrees of freedom\n",
       "Residual deviance: 96.303  on 111  degrees of freedom\n",
       "AIC: 108.3\n",
       "\n",
       "Number of Fisher Scoring iterations: 4\n"
      ]
     },
     "metadata": {},
     "output_type": "display_data"
    }
   ],
   "source": [
    "result <- glm(t1_3 ~ sex + need + purpose \n",
    "              + interest, family=binomial, data=total)\n",
    "\n",
    "summary(result)"
   ]
  },
  {
   "cell_type": "code",
   "execution_count": 87,
   "metadata": {},
   "outputs": [
    {
     "data": {
      "text/plain": [
       "\n",
       "Call:\n",
       "glm(formula = t1_4 ~ sex + need + purpose + interest, family = binomial, \n",
       "    data = total)\n",
       "\n",
       "Deviance Residuals: \n",
       "    Min       1Q   Median       3Q      Max  \n",
       "-1.1909  -0.9578  -0.8750   1.3365   1.7128  \n",
       "\n",
       "Coefficients:\n",
       "                Estimate Std. Error z value Pr(>|z|)\n",
       "(Intercept)     -0.84212    0.84842  -0.993    0.321\n",
       "sexMale         -0.44486    0.55853  -0.796    0.426\n",
       "needharmony     -0.22344    0.39990  -0.559    0.576\n",
       "purposecosmetic -0.26710    0.58390  -0.457    0.647\n",
       "purposeetc      -0.08015    0.49675  -0.161    0.872\n",
       "interest         0.17474    0.20507   0.852    0.394\n",
       "\n",
       "(Dispersion parameter for binomial family taken to be 1)\n",
       "\n",
       "    Null deviance: 153.88  on 116  degrees of freedom\n",
       "Residual deviance: 151.88  on 111  degrees of freedom\n",
       "AIC: 163.88\n",
       "\n",
       "Number of Fisher Scoring iterations: 4\n"
      ]
     },
     "metadata": {},
     "output_type": "display_data"
    }
   ],
   "source": [
    "result <- glm(t1_4 ~ sex + need + purpose \n",
    "              + interest, family=binomial, data=total)\n",
    "\n",
    "summary(result)"
   ]
  },
  {
   "cell_type": "code",
   "execution_count": 88,
   "metadata": {},
   "outputs": [
    {
     "data": {
      "text/plain": [
       "\n",
       "Call:\n",
       "glm(formula = t1_5 ~ sex + need + purpose + interest, family = binomial, \n",
       "    data = total)\n",
       "\n",
       "Deviance Residuals: \n",
       "    Min       1Q   Median       3Q      Max  \n",
       "-0.7970  -0.6170  -0.5252  -0.3074   2.4736  \n",
       "\n",
       "Coefficients:\n",
       "                Estimate Std. Error z value Pr(>|z|)  \n",
       "(Intercept)      -1.4000     1.1632  -1.204   0.2287  \n",
       "sexMale          -0.8232     0.7585  -1.085   0.2778  \n",
       "needharmony      -0.2254     0.5498  -0.410   0.6818  \n",
       "purposecosmetic  -1.9232     1.1219  -1.714   0.0865 .\n",
       "purposeetc       -0.4741     0.6181  -0.767   0.4430  \n",
       "interest          0.1040     0.2868   0.363   0.7169  \n",
       "---\n",
       "Signif. codes:  0 '***' 0.001 '**' 0.01 '*' 0.05 '.' 0.1 ' ' 1\n",
       "\n",
       "(Dispersion parameter for binomial family taken to be 1)\n",
       "\n",
       "    Null deviance: 96.985  on 116  degrees of freedom\n",
       "Residual deviance: 92.317  on 111  degrees of freedom\n",
       "AIC: 104.32\n",
       "\n",
       "Number of Fisher Scoring iterations: 5\n"
      ]
     },
     "metadata": {},
     "output_type": "display_data"
    }
   ],
   "source": [
    "result <- glm(t1_5 ~ sex + need + purpose \n",
    "              + interest, family=binomial, data=total)\n",
    "\n",
    "summary(result)"
   ]
  },
  {
   "cell_type": "code",
   "execution_count": 89,
   "metadata": {},
   "outputs": [
    {
     "data": {
      "text/plain": [
       "\n",
       "Call:\n",
       "glm(formula = t2_1 ~ sex + need + purpose + interest, family = binomial, \n",
       "    data = total)\n",
       "\n",
       "Deviance Residuals: \n",
       "    Min       1Q   Median       3Q      Max  \n",
       "-1.2940  -0.8148  -0.6745  -0.3291   2.4260  \n",
       "\n",
       "Coefficients:\n",
       "                Estimate Std. Error z value Pr(>|z|)\n",
       "(Intercept)      0.54367    0.98041   0.555    0.579\n",
       "sexMale         -1.21865    0.74252  -1.641    0.101\n",
       "needharmony     -0.36882    0.45493  -0.811    0.418\n",
       "purposecosmetic  0.09525    0.63094   0.151    0.880\n",
       "purposeetc      -0.06348    0.56051  -0.113    0.910\n",
       "interest        -0.36897    0.24347  -1.515    0.130\n",
       "\n",
       "(Dispersion parameter for binomial family taken to be 1)\n",
       "\n",
       "    Null deviance: 128.77  on 116  degrees of freedom\n",
       "Residual deviance: 122.00  on 111  degrees of freedom\n",
       "AIC: 134\n",
       "\n",
       "Number of Fisher Scoring iterations: 4\n"
      ]
     },
     "metadata": {},
     "output_type": "display_data"
    }
   ],
   "source": [
    "result <- glm(t2_1 ~ sex + need + purpose \n",
    "              + interest, family=binomial, data=total)\n",
    "\n",
    "summary(result)"
   ]
  },
  {
   "cell_type": "code",
   "execution_count": 90,
   "metadata": {},
   "outputs": [
    {
     "data": {
      "text/plain": [
       "\n",
       "Call:\n",
       "glm(formula = t2_2 ~ sex + need + purpose + interest, family = binomial, \n",
       "    data = total)\n",
       "\n",
       "Deviance Residuals: \n",
       "    Min       1Q   Median       3Q      Max  \n",
       "-0.9391  -0.7609  -0.7223  -0.5935   1.9096  \n",
       "\n",
       "Coefficients:\n",
       "                Estimate Std. Error z value Pr(>|z|)\n",
       "(Intercept)      -1.2607     0.9506  -1.326    0.185\n",
       "sexMale          -0.1736     0.6212  -0.279    0.780\n",
       "needharmony       0.4224     0.4685   0.901    0.367\n",
       "purposecosmetic   0.3672     0.6310   0.582    0.561\n",
       "purposeetc       -0.1880     0.5756  -0.327    0.744\n",
       "interest         -0.0397     0.2270  -0.175    0.861\n",
       "\n",
       "(Dispersion parameter for binomial family taken to be 1)\n",
       "\n",
       "    Null deviance: 128.77  on 116  degrees of freedom\n",
       "Residual deviance: 127.12  on 111  degrees of freedom\n",
       "AIC: 139.12\n",
       "\n",
       "Number of Fisher Scoring iterations: 4\n"
      ]
     },
     "metadata": {},
     "output_type": "display_data"
    }
   ],
   "source": [
    "result <- glm(t2_2 ~ sex + need + purpose \n",
    "              + interest, family=binomial, data=total)\n",
    "\n",
    "summary(result)"
   ]
  },
  {
   "cell_type": "code",
   "execution_count": 91,
   "metadata": {},
   "outputs": [
    {
     "data": {
      "text/plain": [
       "\n",
       "Call:\n",
       "glm(formula = t2_3 ~ sex + need + purpose + interest, family = binomial, \n",
       "    data = total)\n",
       "\n",
       "Deviance Residuals: \n",
       "    Min       1Q   Median       3Q      Max  \n",
       "-1.0224  -0.6933  -0.6020  -0.4724   2.1205  \n",
       "\n",
       "Coefficients:\n",
       "                Estimate Std. Error z value Pr(>|z|)  \n",
       "(Intercept)      -2.3463     1.0291  -2.280   0.0226 *\n",
       "sexMale           0.4986     0.6131   0.813   0.4161  \n",
       "needharmony       0.1679     0.4935   0.340   0.7337  \n",
       "purposecosmetic  -0.5727     0.7692  -0.745   0.4565  \n",
       "purposeetc       -0.2199     0.6032  -0.364   0.7155  \n",
       "interest          0.2608     0.2436   1.071   0.2843  \n",
       "---\n",
       "Signif. codes:  0 '***' 0.001 '**' 0.01 '*' 0.05 '.' 0.1 ' ' 1\n",
       "\n",
       "(Dispersion parameter for binomial family taken to be 1)\n",
       "\n",
       "    Null deviance: 118.74  on 116  degrees of freedom\n",
       "Residual deviance: 115.10  on 111  degrees of freedom\n",
       "AIC: 127.1\n",
       "\n",
       "Number of Fisher Scoring iterations: 4\n"
      ]
     },
     "metadata": {},
     "output_type": "display_data"
    }
   ],
   "source": [
    "result <- glm(t2_3 ~ sex + need + purpose \n",
    "              + interest, family=binomial, data=total)\n",
    "\n",
    "summary(result)"
   ]
  },
  {
   "cell_type": "code",
   "execution_count": 92,
   "metadata": {},
   "outputs": [
    {
     "data": {
      "text/plain": [
       "\n",
       "Call:\n",
       "glm(formula = t2_3 ~ sex + need + purpose + interest, family = binomial, \n",
       "    data = total)\n",
       "\n",
       "Deviance Residuals: \n",
       "    Min       1Q   Median       3Q      Max  \n",
       "-1.0224  -0.6933  -0.6020  -0.4724   2.1205  \n",
       "\n",
       "Coefficients:\n",
       "                Estimate Std. Error z value Pr(>|z|)  \n",
       "(Intercept)      -2.3463     1.0291  -2.280   0.0226 *\n",
       "sexMale           0.4986     0.6131   0.813   0.4161  \n",
       "needharmony       0.1679     0.4935   0.340   0.7337  \n",
       "purposecosmetic  -0.5727     0.7692  -0.745   0.4565  \n",
       "purposeetc       -0.2199     0.6032  -0.364   0.7155  \n",
       "interest          0.2608     0.2436   1.071   0.2843  \n",
       "---\n",
       "Signif. codes:  0 '***' 0.001 '**' 0.01 '*' 0.05 '.' 0.1 ' ' 1\n",
       "\n",
       "(Dispersion parameter for binomial family taken to be 1)\n",
       "\n",
       "    Null deviance: 118.74  on 116  degrees of freedom\n",
       "Residual deviance: 115.10  on 111  degrees of freedom\n",
       "AIC: 127.1\n",
       "\n",
       "Number of Fisher Scoring iterations: 4\n"
      ]
     },
     "metadata": {},
     "output_type": "display_data"
    }
   ],
   "source": [
    "result <- glm(t2_3 ~ sex + need + purpose \n",
    "              + interest, family=binomial, data=total)\n",
    "\n",
    "summary(result)"
   ]
  },
  {
   "cell_type": "code",
   "execution_count": 93,
   "metadata": {},
   "outputs": [
    {
     "data": {
      "text/plain": [
       "\n",
       "Call:\n",
       "glm(formula = t2_4 ~ sex + need + purpose + interest, family = binomial, \n",
       "    data = total)\n",
       "\n",
       "Deviance Residuals: \n",
       "    Min       1Q   Median       3Q      Max  \n",
       "-0.6790  -0.6094  -0.5594  -0.5102   2.0871  \n",
       "\n",
       "Coefficients:\n",
       "                Estimate Std. Error z value Pr(>|z|)\n",
       "(Intercept)     -1.54737    1.11193  -1.392    0.164\n",
       "sexMale         -0.13431    0.72773  -0.185    0.854\n",
       "needharmony      0.24965    0.54780   0.456    0.649\n",
       "purposecosmetic -0.21881    0.80095  -0.273    0.785\n",
       "purposeetc       0.02074    0.65610   0.032    0.975\n",
       "interest        -0.07289    0.26629  -0.274    0.784\n",
       "\n",
       "(Dispersion parameter for binomial family taken to be 1)\n",
       "\n",
       "    Null deviance: 100.46  on 116  degrees of freedom\n",
       "Residual deviance: 100.02  on 111  degrees of freedom\n",
       "AIC: 112.02\n",
       "\n",
       "Number of Fisher Scoring iterations: 4\n"
      ]
     },
     "metadata": {},
     "output_type": "display_data"
    }
   ],
   "source": [
    "result <- glm(t2_4 ~ sex + need + purpose \n",
    "              + interest, family=binomial, data=total)\n",
    "\n",
    "summary(result)"
   ]
  },
  {
   "cell_type": "code",
   "execution_count": 57,
   "metadata": {},
   "outputs": [
    {
     "data": {
      "text/plain": [
       "\n",
       "Call:\n",
       "glm(formula = t2_5 ~ sex + definition + need + purpose + interest, \n",
       "    family = binomial, data = total)\n",
       "\n",
       "Deviance Residuals: \n",
       "    Min       1Q   Median       3Q      Max  \n",
       "-1.0098  -0.6326  -0.5350  -0.3965   2.1217  \n",
       "\n",
       "Coefficients:\n",
       "                  Estimate Std. Error z value Pr(>|z|)  \n",
       "(Intercept)        -2.9254     1.2499  -2.341   0.0193 *\n",
       "sexMale             0.9398     0.7307   1.286   0.1984  \n",
       "definitionharmony   0.2674     0.6757   0.396   0.6923  \n",
       "needharmony        -0.6316     0.5853  -1.079   0.2805  \n",
       "purposecosmetic     0.1145     0.8563   0.134   0.8936  \n",
       "purposeetc          0.6321     0.7135   0.886   0.3756  \n",
       "interest            0.2620     0.2715   0.965   0.3346  \n",
       "---\n",
       "Signif. codes:  0 '***' 0.001 '**' 0.01 '*' 0.05 '.' 0.1 ' ' 1\n",
       "\n",
       "(Dispersion parameter for binomial family taken to be 1)\n",
       "\n",
       "    Null deviance: 103.806  on 116  degrees of freedom\n",
       "Residual deviance:  99.861  on 110  degrees of freedom\n",
       "AIC: 113.86\n",
       "\n",
       "Number of Fisher Scoring iterations: 4\n"
      ]
     },
     "metadata": {},
     "output_type": "display_data"
    }
   ],
   "source": [
    "result <- glm(t2_5 ~ sex + definition + need + purpose \n",
    "              + interest, family=binomial, data=total)\n",
    "\n",
    "summary(result)"
   ]
  },
  {
   "cell_type": "code",
   "execution_count": 94,
   "metadata": {},
   "outputs": [
    {
     "data": {
      "text/plain": [
       "\n",
       "Call:\n",
       "glm(formula = d1_1 ~ sex + need + purpose + interest, family = binomial, \n",
       "    data = total)\n",
       "\n",
       "Deviance Residuals: \n",
       "    Min       1Q   Median       3Q      Max  \n",
       "-0.9287  -0.7688  -0.6208  -0.5229   2.0607  \n",
       "\n",
       "Coefficients:\n",
       "                Estimate Std. Error z value Pr(>|z|)  \n",
       "(Intercept)     -1.92358    1.01400  -1.897   0.0578 .\n",
       "sexMale          0.52250    0.67341   0.776   0.4378  \n",
       "needharmony     -0.22221    0.46453  -0.478   0.6324  \n",
       "purposecosmetic  0.18364    0.75236   0.244   0.8072  \n",
       "purposeetc       0.93098    0.61919   1.504   0.1327  \n",
       "interest         0.07498    0.23477   0.319   0.7494  \n",
       "---\n",
       "Signif. codes:  0 '***' 0.001 '**' 0.01 '*' 0.05 '.' 0.1 ' ' 1\n",
       "\n",
       "(Dispersion parameter for binomial family taken to be 1)\n",
       "\n",
       "    Null deviance: 123.95  on 116  degrees of freedom\n",
       "Residual deviance: 120.60  on 111  degrees of freedom\n",
       "AIC: 132.6\n",
       "\n",
       "Number of Fisher Scoring iterations: 4\n"
      ]
     },
     "metadata": {},
     "output_type": "display_data"
    }
   ],
   "source": [
    "result <- glm(d1_1 ~ sex + need + purpose \n",
    "              + interest, family=binomial, data=total)\n",
    "\n",
    "summary(result)"
   ]
  },
  {
   "cell_type": "code",
   "execution_count": 95,
   "metadata": {},
   "outputs": [
    {
     "data": {
      "text/plain": [
       "\n",
       "Call:\n",
       "glm(formula = d1_2 ~ sex + need + purpose + interest, family = binomial, \n",
       "    data = total)\n",
       "\n",
       "Deviance Residuals: \n",
       "    Min       1Q   Median       3Q      Max  \n",
       "-1.2015  -0.9466  -0.7878   1.2878   1.9165  \n",
       "\n",
       "Coefficients:\n",
       "                Estimate Std. Error z value Pr(>|z|)\n",
       "(Intercept)       0.4416     0.8803   0.502    0.616\n",
       "sexMale          -0.8358     0.5981  -1.397    0.162\n",
       "needharmony      -0.6269     0.4094  -1.531    0.126\n",
       "purposecosmetic  -0.3122     0.5919  -0.527    0.598\n",
       "purposeetc       -0.2194     0.5105  -0.430    0.667\n",
       "interest         -0.1284     0.2134  -0.602    0.547\n",
       "\n",
       "(Dispersion parameter for binomial family taken to be 1)\n",
       "\n",
       "    Null deviance: 148.94  on 116  degrees of freedom\n",
       "Residual deviance: 144.01  on 111  degrees of freedom\n",
       "AIC: 156.01\n",
       "\n",
       "Number of Fisher Scoring iterations: 4\n"
      ]
     },
     "metadata": {},
     "output_type": "display_data"
    }
   ],
   "source": [
    "result <- glm(d1_2 ~ sex + need + purpose \n",
    "              + interest, family=binomial, data=total)\n",
    "\n",
    "summary(result)"
   ]
  },
  {
   "cell_type": "code",
   "execution_count": 96,
   "metadata": {},
   "outputs": [
    {
     "data": {
      "text/plain": [
       "\n",
       "Call:\n",
       "glm(formula = d1_3 ~ sex + need + purpose + interest, family = binomial, \n",
       "    data = total)\n",
       "\n",
       "Deviance Residuals: \n",
       "    Min       1Q   Median       3Q      Max  \n",
       "-0.8412  -0.6525  -0.4643  -0.2782   2.3423  \n",
       "\n",
       "Coefficients:\n",
       "                Estimate Std. Error z value Pr(>|z|)   \n",
       "(Intercept)     -3.60804    1.32782  -2.717  0.00658 **\n",
       "sexMale          0.45224    0.81314   0.556  0.57810   \n",
       "needharmony      1.76844    0.79885   2.214  0.02685 * \n",
       "purposecosmetic  1.03398    0.86901   1.190  0.23411   \n",
       "purposeetc       0.55038    0.77836   0.707  0.47950   \n",
       "interest        -0.02563    0.27925  -0.092  0.92686   \n",
       "---\n",
       "Signif. codes:  0 '***' 0.001 '**' 0.01 '*' 0.05 '.' 0.1 ' ' 1\n",
       "\n",
       "(Dispersion parameter for binomial family taken to be 1)\n",
       "\n",
       "    Null deviance: 93.372  on 116  degrees of freedom\n",
       "Residual deviance: 85.852  on 111  degrees of freedom\n",
       "AIC: 97.852\n",
       "\n",
       "Number of Fisher Scoring iterations: 5\n"
      ]
     },
     "metadata": {},
     "output_type": "display_data"
    }
   ],
   "source": [
    "result <- glm(d1_3 ~ sex + need + purpose \n",
    "              + interest, family=binomial, data=total)\n",
    "\n",
    "summary(result)"
   ]
  },
  {
   "cell_type": "code",
   "execution_count": 97,
   "metadata": {},
   "outputs": [
    {
     "data": {
      "text/plain": [
       "\n",
       "Call:\n",
       "glm(formula = d1_4 ~ sex + need + purpose + interest, family = binomial, \n",
       "    data = total)\n",
       "\n",
       "Deviance Residuals: \n",
       "    Min       1Q   Median       3Q      Max  \n",
       "-0.9112  -0.7213  -0.4672  -0.4073   2.2498  \n",
       "\n",
       "Coefficients:\n",
       "                Estimate Std. Error z value Pr(>|z|)\n",
       "(Intercept)     -1.42248    1.02484  -1.388    0.165\n",
       "sexMale          0.26738    0.62291   0.429    0.668\n",
       "needharmony      0.24824    0.50833   0.488    0.625\n",
       "purposecosmetic  0.52996    0.64514   0.821    0.411\n",
       "purposeetc      -0.94668    0.69547  -1.361    0.173\n",
       "interest        -0.01965    0.24736  -0.079    0.937\n",
       "\n",
       "(Dispersion parameter for binomial family taken to be 1)\n",
       "\n",
       "    Null deviance: 115.98  on 116  degrees of freedom\n",
       "Residual deviance: 110.09  on 111  degrees of freedom\n",
       "AIC: 122.09\n",
       "\n",
       "Number of Fisher Scoring iterations: 4\n"
      ]
     },
     "metadata": {},
     "output_type": "display_data"
    }
   ],
   "source": [
    "result <- glm(d1_4 ~ sex + need + purpose \n",
    "              + interest, family=binomial, data=total)\n",
    "\n",
    "summary(result)"
   ]
  },
  {
   "cell_type": "code",
   "execution_count": 98,
   "metadata": {},
   "outputs": [
    {
     "data": {
      "text/plain": [
       "\n",
       "Call:\n",
       "glm(formula = d1_5 ~ sex + need + purpose + interest, family = binomial, \n",
       "    data = total)\n",
       "\n",
       "Deviance Residuals: \n",
       "     Min        1Q    Median        3Q       Max  \n",
       "-0.64313  -0.55066  -0.49779  -0.00013   2.21559  \n",
       "\n",
       "Coefficients:\n",
       "                  Estimate Std. Error z value Pr(>|z|)\n",
       "(Intercept)     -2.078e+00  1.287e+00  -1.615    0.106\n",
       "sexMale          1.138e-03  7.503e-01   0.002    0.999\n",
       "needharmony     -1.874e-01  6.229e-01  -0.301    0.764\n",
       "purposecosmetic -1.693e+01  1.358e+03  -0.012    0.990\n",
       "purposeetc      -4.023e-01  7.082e-01  -0.568    0.570\n",
       "interest         1.515e-01  3.139e-01   0.483    0.629\n",
       "\n",
       "(Dispersion parameter for binomial family taken to be 1)\n",
       "\n",
       "    Null deviance: 81.627  on 116  degrees of freedom\n",
       "Residual deviance: 74.887  on 111  degrees of freedom\n",
       "AIC: 86.887\n",
       "\n",
       "Number of Fisher Scoring iterations: 17\n"
      ]
     },
     "metadata": {},
     "output_type": "display_data"
    }
   ],
   "source": [
    "result <- glm(d1_5 ~ sex + need + purpose \n",
    "              + interest, family=binomial, data=total)\n",
    "\n",
    "summary(result)"
   ]
  },
  {
   "cell_type": "code",
   "execution_count": 99,
   "metadata": {},
   "outputs": [
    {
     "data": {
      "text/plain": [
       "\n",
       "Call:\n",
       "glm(formula = d2_1 ~ sex + need + purpose + interest, family = binomial, \n",
       "    data = total)\n",
       "\n",
       "Deviance Residuals: \n",
       "    Min       1Q   Median       3Q      Max  \n",
       "-1.1447  -0.9687  -0.8761   1.3468   1.5679  \n",
       "\n",
       "Coefficients:\n",
       "                Estimate Std. Error z value Pr(>|z|)\n",
       "(Intercept)      -0.8884     0.8423  -1.055    0.292\n",
       "sexMale           0.1481     0.5467   0.271    0.786\n",
       "needharmony      -0.3123     0.3964  -0.788    0.431\n",
       "purposecosmetic   0.1630     0.5801   0.281    0.779\n",
       "purposeetc        0.1943     0.5037   0.386    0.700\n",
       "interest          0.1233     0.2015   0.612    0.541\n",
       "\n",
       "(Dispersion parameter for binomial family taken to be 1)\n",
       "\n",
       "    Null deviance: 154.93  on 116  degrees of freedom\n",
       "Residual deviance: 153.70  on 111  degrees of freedom\n",
       "AIC: 165.7\n",
       "\n",
       "Number of Fisher Scoring iterations: 4\n"
      ]
     },
     "metadata": {},
     "output_type": "display_data"
    }
   ],
   "source": [
    "result <- glm(d2_1 ~ sex + need + purpose \n",
    "              + interest, family=binomial, data=total)\n",
    "\n",
    "summary(result)"
   ]
  },
  {
   "cell_type": "code",
   "execution_count": 100,
   "metadata": {},
   "outputs": [
    {
     "data": {
      "text/plain": [
       "\n",
       "Call:\n",
       "glm(formula = d2_2 ~ sex + need + purpose + interest, family = binomial, \n",
       "    data = total)\n",
       "\n",
       "Deviance Residuals: \n",
       "    Min       1Q   Median       3Q      Max  \n",
       "-1.0358  -0.6672  -0.5128  -0.3474   2.3011  \n",
       "\n",
       "Coefficients:\n",
       "                Estimate Std. Error z value Pr(>|z|)  \n",
       "(Intercept)       0.2677     1.0760   0.249   0.8036  \n",
       "sexMale          -1.2458     0.7456  -1.671   0.0947 .\n",
       "needharmony      -0.5776     0.5078  -1.138   0.2553  \n",
       "purposecosmetic  -1.6540     0.8635  -1.915   0.0554 .\n",
       "purposeetc       -0.6726     0.5818  -1.156   0.2477  \n",
       "interest         -0.2034     0.2687  -0.757   0.4491  \n",
       "---\n",
       "Signif. codes:  0 '***' 0.001 '**' 0.01 '*' 0.05 '.' 0.1 ' ' 1\n",
       "\n",
       "(Dispersion parameter for binomial family taken to be 1)\n",
       "\n",
       "    Null deviance: 110.12  on 116  degrees of freedom\n",
       "Residual deviance: 103.16  on 111  degrees of freedom\n",
       "AIC: 115.16\n",
       "\n",
       "Number of Fisher Scoring iterations: 5\n"
      ]
     },
     "metadata": {},
     "output_type": "display_data"
    }
   ],
   "source": [
    "result <- glm(d2_2 ~ sex + need + purpose \n",
    "              + interest, family=binomial, data=total)\n",
    "\n",
    "summary(result)"
   ]
  },
  {
   "cell_type": "code",
   "execution_count": 101,
   "metadata": {},
   "outputs": [
    {
     "data": {
      "text/plain": [
       "\n",
       "Call:\n",
       "glm(formula = d2_3 ~ sex + need + purpose + interest, family = binomial, \n",
       "    data = total)\n",
       "\n",
       "Deviance Residuals: \n",
       "    Min       1Q   Median       3Q      Max  \n",
       "-1.2149  -0.7069  -0.3809  -0.1976   2.3125  \n",
       "\n",
       "Coefficients:\n",
       "                 Estimate Std. Error z value Pr(>|z|)   \n",
       "(Intercept)     -3.949582   1.393906  -2.833   0.0046 **\n",
       "sexMale          1.164492   0.873748   1.333   0.1826   \n",
       "needharmony      1.510254   0.798523   1.891   0.0586 . \n",
       "purposecosmetic -0.175240   1.268077  -0.138   0.8901   \n",
       "purposeetc       1.323989   0.846447   1.564   0.1178   \n",
       "interest         0.007708   0.282854   0.027   0.9783   \n",
       "---\n",
       "Signif. codes:  0 '***' 0.001 '**' 0.01 '*' 0.05 '.' 0.1 ' ' 1\n",
       "\n",
       "(Dispersion parameter for binomial family taken to be 1)\n",
       "\n",
       "    Null deviance: 89.613  on 116  degrees of freedom\n",
       "Residual deviance: 79.627  on 111  degrees of freedom\n",
       "AIC: 91.627\n",
       "\n",
       "Number of Fisher Scoring iterations: 6\n"
      ]
     },
     "metadata": {},
     "output_type": "display_data"
    }
   ],
   "source": [
    "result <- glm(d2_3 ~ sex + need + purpose \n",
    "              + interest, family=binomial, data=total)\n",
    "\n",
    "summary(result)"
   ]
  },
  {
   "cell_type": "code",
   "execution_count": 102,
   "metadata": {},
   "outputs": [
    {
     "data": {
      "text/plain": [
       "\n",
       "Call:\n",
       "glm(formula = d2_4 ~ sex + need + purpose + interest, family = binomial, \n",
       "    data = total)\n",
       "\n",
       "Deviance Residuals: \n",
       "    Min       1Q   Median       3Q      Max  \n",
       "-1.0888  -0.6666  -0.5265  -0.4275   2.1924  \n",
       "\n",
       "Coefficients:\n",
       "                Estimate Std. Error z value Pr(>|z|)\n",
       "(Intercept)     -0.50877    1.05701  -0.481    0.630\n",
       "sexMale         -0.80806    0.76100  -1.062    0.288\n",
       "needharmony      0.03826    0.50588   0.076    0.940\n",
       "purposecosmetic  0.77337    0.64624   1.197    0.231\n",
       "purposeetc      -0.40558    0.64858  -0.625    0.532\n",
       "interest        -0.25748    0.26162  -0.984    0.325\n",
       "\n",
       "(Dispersion parameter for binomial family taken to be 1)\n",
       "\n",
       "    Null deviance: 113.11  on 116  degrees of freedom\n",
       "Residual deviance: 106.79  on 111  degrees of freedom\n",
       "AIC: 118.79\n",
       "\n",
       "Number of Fisher Scoring iterations: 4\n"
      ]
     },
     "metadata": {},
     "output_type": "display_data"
    }
   ],
   "source": [
    "result <- glm(d2_4 ~ sex + need + purpose \n",
    "              + interest, family=binomial, data=total)\n",
    "\n",
    "summary(result)"
   ]
  },
  {
   "cell_type": "code",
   "execution_count": 103,
   "metadata": {},
   "outputs": [
    {
     "data": {
      "text/plain": [
       "\n",
       "Call:\n",
       "glm(formula = d2_5 ~ sex + need + purpose + interest, family = binomial, \n",
       "    data = total)\n",
       "\n",
       "Deviance Residuals: \n",
       "    Min       1Q   Median       3Q      Max  \n",
       "-0.8617  -0.5266  -0.4608  -0.3965   2.3205  \n",
       "\n",
       "Coefficients:\n",
       "                Estimate Std. Error z value Pr(>|z|)   \n",
       "(Intercept)      -3.2845     1.2647  -2.597   0.0094 **\n",
       "sexMale           1.0110     0.7462   1.355   0.1755   \n",
       "needharmony       0.1730     0.6019   0.287   0.7738   \n",
       "purposecosmetic   0.3382     0.8648   0.391   0.6957   \n",
       "purposeetc       -0.1182     0.8001  -0.148   0.8826   \n",
       "interest          0.2602     0.2901   0.897   0.3698   \n",
       "---\n",
       "Signif. codes:  0 '***' 0.001 '**' 0.01 '*' 0.05 '.' 0.1 ' ' 1\n",
       "\n",
       "(Dispersion parameter for binomial family taken to be 1)\n",
       "\n",
       "    Null deviance: 89.613  on 116  degrees of freedom\n",
       "Residual deviance: 85.983  on 111  degrees of freedom\n",
       "AIC: 97.983\n",
       "\n",
       "Number of Fisher Scoring iterations: 5\n"
      ]
     },
     "metadata": {},
     "output_type": "display_data"
    }
   ],
   "source": [
    "result <- glm(d2_5 ~ sex + need + purpose \n",
    "              + interest, family=binomial, data=total)\n",
    "\n",
    "summary(result)"
   ]
  },
  {
   "cell_type": "code",
   "execution_count": 106,
   "metadata": {},
   "outputs": [
    {
     "data": {
      "text/plain": [
       "\n",
       "Call:\n",
       "glm(formula = d3_1 ~ sex + need + purpose + interest, family = binomial, \n",
       "    data = total)\n",
       "\n",
       "Deviance Residuals: \n",
       "    Min       1Q   Median       3Q      Max  \n",
       "-1.2499  -0.6258  -0.4129  -0.2749   2.2864  \n",
       "\n",
       "Coefficients:\n",
       "                Estimate Std. Error z value Pr(>|z|)  \n",
       "(Intercept)      -2.5641     1.2663  -2.025   0.0429 *\n",
       "sexMale          -0.8380     0.8906  -0.941   0.3468  \n",
       "needharmony      -1.1872     0.5516  -2.152   0.0314 *\n",
       "purposecosmetic   0.9567     0.6982   1.370   0.1706  \n",
       "purposeetc       -0.5627     0.7294  -0.771   0.4404  \n",
       "interest          0.4441     0.3108   1.429   0.1530  \n",
       "---\n",
       "Signif. codes:  0 '***' 0.001 '**' 0.01 '*' 0.05 '.' 0.1 ' ' 1\n",
       "\n",
       "(Dispersion parameter for binomial family taken to be 1)\n",
       "\n",
       "    Null deviance: 103.806  on 116  degrees of freedom\n",
       "Residual deviance:  89.794  on 111  degrees of freedom\n",
       "AIC: 101.79\n",
       "\n",
       "Number of Fisher Scoring iterations: 5\n"
      ]
     },
     "metadata": {},
     "output_type": "display_data"
    }
   ],
   "source": [
    "result <- glm(d3_1 ~ sex + need + purpose \n",
    "              + interest, family=binomial, data=total)\n",
    "\n",
    "summary(result)"
   ]
  },
  {
   "cell_type": "code",
   "execution_count": 107,
   "metadata": {},
   "outputs": [
    {
     "data": {
      "text/plain": [
       "\n",
       "Call:\n",
       "glm(formula = d3_2 ~ sex + need + purpose + interest, family = binomial, \n",
       "    data = total)\n",
       "\n",
       "Deviance Residuals: \n",
       "    Min       1Q   Median       3Q      Max  \n",
       "-0.9589  -0.7082  -0.6055  -0.2766   2.5621  \n",
       "\n",
       "Coefficients:\n",
       "                Estimate Std. Error z value Pr(>|z|)  \n",
       "(Intercept)      -0.6700     1.0382  -0.645   0.5187  \n",
       "sexMale          -0.1094     0.6435  -0.170   0.8650  \n",
       "needharmony       0.4774     0.5362   0.890   0.3733  \n",
       "purposecosmetic  -1.8572     1.1167  -1.663   0.0963 .\n",
       "purposeetc       -0.1068     0.5880  -0.182   0.8558  \n",
       "interest         -0.2389     0.2506  -0.954   0.3403  \n",
       "---\n",
       "Signif. codes:  0 '***' 0.001 '**' 0.01 '*' 0.05 '.' 0.1 ' ' 1\n",
       "\n",
       "(Dispersion parameter for binomial family taken to be 1)\n",
       "\n",
       "    Null deviance: 113.11  on 116  degrees of freedom\n",
       "Residual deviance: 106.16  on 111  degrees of freedom\n",
       "AIC: 118.16\n",
       "\n",
       "Number of Fisher Scoring iterations: 5\n"
      ]
     },
     "metadata": {},
     "output_type": "display_data"
    }
   ],
   "source": [
    "result <- glm(d3_2 ~ sex + need + purpose \n",
    "              + interest, family=binomial, data=total)\n",
    "\n",
    "summary(result)"
   ]
  },
  {
   "cell_type": "code",
   "execution_count": 108,
   "metadata": {},
   "outputs": [
    {
     "data": {
      "text/plain": [
       "\n",
       "Call:\n",
       "glm(formula = d3_3 ~ sex + need + purpose + interest, family = binomial, \n",
       "    data = total)\n",
       "\n",
       "Deviance Residuals: \n",
       "    Min       1Q   Median       3Q      Max  \n",
       "-0.9525  -0.7390  -0.6734  -0.5925   1.8468  \n",
       "\n",
       "Coefficients:\n",
       "                 Estimate Std. Error z value Pr(>|z|)  \n",
       "(Intercept)     -1.812803   0.971961  -1.865   0.0622 .\n",
       "sexMale          0.457430   0.603823   0.758   0.4487  \n",
       "needharmony      0.006793   0.462037   0.015   0.9883  \n",
       "purposecosmetic -0.275609   0.709015  -0.389   0.6975  \n",
       "purposeetc       0.063997   0.578492   0.111   0.9119  \n",
       "interest         0.145885   0.230188   0.634   0.5262  \n",
       "---\n",
       "Signif. codes:  0 '***' 0.001 '**' 0.01 '*' 0.05 '.' 0.1 ' ' 1\n",
       "\n",
       "(Dispersion parameter for binomial family taken to be 1)\n",
       "\n",
       "    Null deviance: 126.41  on 116  degrees of freedom\n",
       "Residual deviance: 124.85  on 111  degrees of freedom\n",
       "AIC: 136.85\n",
       "\n",
       "Number of Fisher Scoring iterations: 4\n"
      ]
     },
     "metadata": {},
     "output_type": "display_data"
    }
   ],
   "source": [
    "result <- glm(d3_3 ~ sex + need + purpose \n",
    "              + interest, family=binomial, data=total)\n",
    "\n",
    "summary(result)"
   ]
  },
  {
   "cell_type": "code",
   "execution_count": 109,
   "metadata": {},
   "outputs": [
    {
     "data": {
      "text/plain": [
       "\n",
       "Call:\n",
       "glm(formula = d3_4 ~ sex + need + purpose + interest, family = binomial, \n",
       "    data = total)\n",
       "\n",
       "Deviance Residuals: \n",
       "    Min       1Q   Median       3Q      Max  \n",
       "-0.6644  -0.6123  -0.5839  -0.5553   2.0001  \n",
       "\n",
       "Coefficients:\n",
       "                Estimate Std. Error z value Pr(>|z|)\n",
       "(Intercept)     -1.40059    1.09234  -1.282    0.200\n",
       "sexMale         -0.12928    0.72215  -0.179    0.858\n",
       "needharmony     -0.16695    0.51636  -0.323    0.746\n",
       "purposecosmetic  0.03360    0.74444   0.045    0.964\n",
       "purposeetc      -0.02049    0.65309  -0.031    0.975\n",
       "interest        -0.03158    0.26367  -0.120    0.905\n",
       "\n",
       "(Dispersion parameter for binomial family taken to be 1)\n",
       "\n",
       "    Null deviance: 103.81  on 116  degrees of freedom\n",
       "Residual deviance: 103.62  on 111  degrees of freedom\n",
       "AIC: 115.62\n",
       "\n",
       "Number of Fisher Scoring iterations: 4\n"
      ]
     },
     "metadata": {},
     "output_type": "display_data"
    }
   ],
   "source": [
    "result <- glm(d3_4 ~ sex + need + purpose \n",
    "              + interest, family=binomial, data=total)\n",
    "\n",
    "summary(result)"
   ]
  },
  {
   "cell_type": "code",
   "execution_count": 110,
   "metadata": {},
   "outputs": [
    {
     "data": {
      "text/plain": [
       "\n",
       "Call:\n",
       "glm(formula = d3_5 ~ sex + need + purpose + interest, family = binomial, \n",
       "    data = total)\n",
       "\n",
       "Deviance Residuals: \n",
       "    Min       1Q   Median       3Q      Max  \n",
       "-0.9690  -0.8303  -0.7082   1.3337   1.9546  \n",
       "\n",
       "Coefficients:\n",
       "                Estimate Std. Error z value Pr(>|z|)\n",
       "(Intercept)      -1.1415     0.9336  -1.223    0.221\n",
       "sexMale           0.1754     0.6144   0.285    0.775\n",
       "needharmony       0.5348     0.4628   1.155    0.248\n",
       "purposecosmetic   0.3427     0.6580   0.521    0.602\n",
       "purposeetc        0.3988     0.5693   0.700    0.484\n",
       "interest         -0.1521     0.2204  -0.690    0.490\n",
       "\n",
       "(Dispersion parameter for binomial family taken to be 1)\n",
       "\n",
       "    Null deviance: 133.21  on 116  degrees of freedom\n",
       "Residual deviance: 131.01  on 111  degrees of freedom\n",
       "AIC: 143.01\n",
       "\n",
       "Number of Fisher Scoring iterations: 4\n"
      ]
     },
     "metadata": {},
     "output_type": "display_data"
    }
   ],
   "source": [
    "result <- glm(d3_5 ~ sex + need + purpose \n",
    "              + interest, family=binomial, data=total)\n",
    "\n",
    "summary(result)"
   ]
  },
  {
   "cell_type": "code",
   "execution_count": null,
   "metadata": {},
   "outputs": [],
   "source": []
  }
 ],
 "metadata": {
  "kernelspec": {
   "display_name": "R",
   "language": "R",
   "name": "ir"
  },
  "language_info": {
   "codemirror_mode": "r",
   "file_extension": ".r",
   "mimetype": "text/x-r-source",
   "name": "R",
   "pygments_lexer": "r",
   "version": "3.6.1"
  }
 },
 "nbformat": 4,
 "nbformat_minor": 4
}
