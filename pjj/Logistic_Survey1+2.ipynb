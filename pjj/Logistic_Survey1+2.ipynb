{
 "cells": [
  {
   "cell_type": "code",
   "execution_count": 1,
   "metadata": {},
   "outputs": [
    {
     "name": "stderr",
     "output_type": "stream",
     "text": [
      "Warning message:\n",
      "\"package 'ROCR' was built under R version 3.6.3\"Loading required package: gplots\n",
      "Warning message:\n",
      "\"package 'gplots' was built under R version 3.6.3\"\n",
      "Attaching package: 'gplots'\n",
      "\n",
      "The following object is masked from 'package:stats':\n",
      "\n",
      "    lowess\n",
      "\n",
      "Warning message:\n",
      "\"package 'dplyr' was built under R version 3.6.3\"\n",
      "Attaching package: 'dplyr'\n",
      "\n",
      "The following objects are masked from 'package:stats':\n",
      "\n",
      "    filter, lag\n",
      "\n",
      "The following objects are masked from 'package:base':\n",
      "\n",
      "    intersect, setdiff, setequal, union\n",
      "\n"
     ]
    }
   ],
   "source": [
    "library(ROCR)\n",
    "library(dplyr)"
   ]
  },
  {
   "cell_type": "code",
   "execution_count": 2,
   "metadata": {},
   "outputs": [],
   "source": [
    "survey <- read.csv('전처리/survey.csv')"
   ]
  },
  {
   "cell_type": "code",
   "execution_count": 3,
   "metadata": {},
   "outputs": [
    {
     "name": "stdout",
     "output_type": "stream",
     "text": [
      "'data.frame':\t213 obs. of  13 variables:\n",
      " $ X          : int  0 1 2 3 4 5 6 7 8 9 ...\n",
      " $ sex        : Factor w/ 2 levels \"Female\",\"Male\": 2 1 1 1 2 1 2 1 1 1 ...\n",
      " $ age_class  : int  20 20 20 20 20 20 20 20 30 30 ...\n",
      " $ definition : Factor w/ 2 levels \"bright\",\"harmony\": 2 1 1 1 2 1 1 1 2 2 ...\n",
      " $ need       : Factor w/ 2 levels \"bright\",\"harmony\": 2 2 1 1 2 1 2 1 2 1 ...\n",
      " $ purpose    : Factor w/ 3 levels \"clothes\",\"cosmetic\",..: 1 1 1 1 1 1 1 2 1 1 ...\n",
      " $ interest   : int  5 5 3 3 5 5 3 3 4 3 ...\n",
      " $ comp       : int  4 1 2 3 5 5 5 2 3 3 ...\n",
      " $ triangle1  : int  5 1 4 4 5 5 5 4 2 5 ...\n",
      " $ triangle2  : int  2 2 1 3 4 4 2 3 2 3 ...\n",
      " $ doubleness1: int  3 2 2 2 1 2 5 4 5 2 ...\n",
      " $ doubleness2: int  2 3 1 2 2 2 4 3 4 3 ...\n",
      " $ doubleness3: int  2 2 2 1 3 1 5 1 5 5 ...\n"
     ]
    },
    {
     "data": {
      "text/html": [
       "<table>\n",
       "<thead><tr><th scope=col>X</th><th scope=col>sex</th><th scope=col>age_class</th><th scope=col>definition</th><th scope=col>need</th><th scope=col>purpose</th><th scope=col>interest</th><th scope=col>comp</th><th scope=col>triangle1</th><th scope=col>triangle2</th><th scope=col>doubleness1</th><th scope=col>doubleness2</th><th scope=col>doubleness3</th></tr></thead>\n",
       "<tbody>\n",
       "\t<tr><td>0      </td><td>Male   </td><td>20     </td><td>harmony</td><td>harmony</td><td>clothes</td><td>5      </td><td>4      </td><td>5      </td><td>2      </td><td>3      </td><td>2      </td><td>2      </td></tr>\n",
       "\t<tr><td>1      </td><td>Female </td><td>20     </td><td>bright </td><td>harmony</td><td>clothes</td><td>5      </td><td>1      </td><td>1      </td><td>2      </td><td>2      </td><td>3      </td><td>2      </td></tr>\n",
       "\t<tr><td>2      </td><td>Female </td><td>20     </td><td>bright </td><td>bright </td><td>clothes</td><td>3      </td><td>2      </td><td>4      </td><td>1      </td><td>2      </td><td>1      </td><td>2      </td></tr>\n",
       "\t<tr><td>3      </td><td>Female </td><td>20     </td><td>bright </td><td>bright </td><td>clothes</td><td>3      </td><td>3      </td><td>4      </td><td>3      </td><td>2      </td><td>2      </td><td>1      </td></tr>\n",
       "\t<tr><td>4      </td><td>Male   </td><td>20     </td><td>harmony</td><td>harmony</td><td>clothes</td><td>5      </td><td>5      </td><td>5      </td><td>4      </td><td>1      </td><td>2      </td><td>3      </td></tr>\n",
       "\t<tr><td>5      </td><td>Female </td><td>20     </td><td>bright </td><td>bright </td><td>clothes</td><td>5      </td><td>5      </td><td>5      </td><td>4      </td><td>2      </td><td>2      </td><td>1      </td></tr>\n",
       "</tbody>\n",
       "</table>\n"
      ],
      "text/latex": [
       "\\begin{tabular}{r|lllllllllllll}\n",
       " X & sex & age\\_class & definition & need & purpose & interest & comp & triangle1 & triangle2 & doubleness1 & doubleness2 & doubleness3\\\\\n",
       "\\hline\n",
       "\t 0       & Male    & 20      & harmony & harmony & clothes & 5       & 4       & 5       & 2       & 3       & 2       & 2      \\\\\n",
       "\t 1       & Female  & 20      & bright  & harmony & clothes & 5       & 1       & 1       & 2       & 2       & 3       & 2      \\\\\n",
       "\t 2       & Female  & 20      & bright  & bright  & clothes & 3       & 2       & 4       & 1       & 2       & 1       & 2      \\\\\n",
       "\t 3       & Female  & 20      & bright  & bright  & clothes & 3       & 3       & 4       & 3       & 2       & 2       & 1      \\\\\n",
       "\t 4       & Male    & 20      & harmony & harmony & clothes & 5       & 5       & 5       & 4       & 1       & 2       & 3      \\\\\n",
       "\t 5       & Female  & 20      & bright  & bright  & clothes & 5       & 5       & 5       & 4       & 2       & 2       & 1      \\\\\n",
       "\\end{tabular}\n"
      ],
      "text/markdown": [
       "\n",
       "| X | sex | age_class | definition | need | purpose | interest | comp | triangle1 | triangle2 | doubleness1 | doubleness2 | doubleness3 |\n",
       "|---|---|---|---|---|---|---|---|---|---|---|---|---|\n",
       "| 0       | Male    | 20      | harmony | harmony | clothes | 5       | 4       | 5       | 2       | 3       | 2       | 2       |\n",
       "| 1       | Female  | 20      | bright  | harmony | clothes | 5       | 1       | 1       | 2       | 2       | 3       | 2       |\n",
       "| 2       | Female  | 20      | bright  | bright  | clothes | 3       | 2       | 4       | 1       | 2       | 1       | 2       |\n",
       "| 3       | Female  | 20      | bright  | bright  | clothes | 3       | 3       | 4       | 3       | 2       | 2       | 1       |\n",
       "| 4       | Male    | 20      | harmony | harmony | clothes | 5       | 5       | 5       | 4       | 1       | 2       | 3       |\n",
       "| 5       | Female  | 20      | bright  | bright  | clothes | 5       | 5       | 5       | 4       | 2       | 2       | 1       |\n",
       "\n"
      ],
      "text/plain": [
       "  X sex    age_class definition need    purpose interest comp triangle1\n",
       "1 0 Male   20        harmony    harmony clothes 5        4    5        \n",
       "2 1 Female 20        bright     harmony clothes 5        1    1        \n",
       "3 2 Female 20        bright     bright  clothes 3        2    4        \n",
       "4 3 Female 20        bright     bright  clothes 3        3    4        \n",
       "5 4 Male   20        harmony    harmony clothes 5        5    5        \n",
       "6 5 Female 20        bright     bright  clothes 5        5    5        \n",
       "  triangle2 doubleness1 doubleness2 doubleness3\n",
       "1 2         3           2           2          \n",
       "2 2         2           3           2          \n",
       "3 1         2           1           2          \n",
       "4 3         2           2           1          \n",
       "5 4         1           2           3          \n",
       "6 4         2           2           1          "
      ]
     },
     "metadata": {},
     "output_type": "display_data"
    }
   ],
   "source": [
    "str(survey)\n",
    "head(survey)"
   ]
  },
  {
   "cell_type": "code",
   "execution_count": 4,
   "metadata": {},
   "outputs": [],
   "source": [
    "survey$comp1 <- case_when(\n",
    "    survey$comp == 1 ~ 1,\n",
    "    survey$comp != 1 ~ 0)\n",
    "\n",
    "survey$comp2 <- case_when(\n",
    "    survey$comp == 2 ~ 1,\n",
    "    survey$comp != 2 ~ 0)\n",
    "\n",
    "survey$comp3 <- case_when(\n",
    "    survey$comp == 3 ~ 1,\n",
    "    survey$comp != 3 ~ 0)\n",
    "\n",
    "survey$comp4 <- case_when(\n",
    "    survey$comp == 4 ~ 1,\n",
    "    survey$comp != 4 ~ 0)\n",
    "\n",
    "survey$comp5 <- case_when(\n",
    "    survey$comp == 5 ~ 1,\n",
    "    survey$comp != 5 ~ 0)\n",
    "\n",
    "survey$t1_1 <- case_when(\n",
    "    survey$triangle1 == 1 ~ 1,\n",
    "    survey$triangle1 != 1 ~ 0)\n",
    "\n",
    "survey$t1_2 <- case_when(\n",
    "    survey$triangle1 == 2 ~ 1,\n",
    "    survey$triangle1 != 2 ~ 0)\n",
    "\n",
    "survey$t1_3 <- case_when(\n",
    "    survey$triangle1 == 3 ~ 1,\n",
    "    survey$triangle1 != 3 ~ 0)\n",
    "\n",
    "survey$t1_4 <- case_when(\n",
    "    survey$triangle1 == 4 ~ 1,\n",
    "    survey$triangle1 != 4 ~ 0)\n",
    "\n",
    "survey$t1_5 <- case_when(\n",
    "    survey$triangle1 == 5 ~ 1,\n",
    "    survey$triangle1 != 5 ~ 0)\n",
    "\t\n",
    "survey$t2_1 <- case_when(\n",
    "    survey$triangle2 == 1 ~ 1,\n",
    "    survey$triangle2 != 1 ~ 0)\n",
    "\n",
    "survey$t2_2 <- case_when(\n",
    "    survey$triangle2 == 2 ~ 1,\n",
    "    survey$triangle2 != 2 ~ 0)\n",
    "\n",
    "survey$t2_3 <- case_when(\n",
    "    survey$triangle2 == 3 ~ 1,\n",
    "    survey$triangle2 != 3 ~ 0)\n",
    "\n",
    "survey$t2_4 <- case_when(\n",
    "    survey$triangle2 == 4 ~ 1,\n",
    "    survey$triangle2 != 4 ~ 0)\n",
    "\n",
    "survey$t2_5 <- case_when(\n",
    "    survey$triangle2 == 5 ~ 1,\n",
    "    survey$triangle2 != 5 ~ 0)\n",
    "\t\n",
    "survey$d1_1 <- case_when(\n",
    "    survey$doubleness1 == 1 ~ 1,\n",
    "    survey$doubleness1 != 1 ~ 0)\n",
    "\n",
    "survey$d1_2 <- case_when(\n",
    "    survey$doubleness1 == 2 ~ 1,\n",
    "    survey$doubleness1 != 2 ~ 0)\n",
    "\n",
    "survey$d1_3 <- case_when(\n",
    "    survey$doubleness1 == 3 ~ 1,\n",
    "    survey$doubleness1 != 3 ~ 0)\n",
    "\n",
    "survey$d1_4 <- case_when(\n",
    "    survey$doubleness1 == 4 ~ 1,\n",
    "    survey$doubleness1 != 4 ~ 0)\n",
    "\n",
    "survey$d1_5 <- case_when(\n",
    "    survey$doubleness1 == 5 ~ 1,\n",
    "    survey$doubleness1 != 5 ~ 0)\n",
    "\t\n",
    "survey$d2_1 <- case_when(\n",
    "    survey$doubleness2 == 1 ~ 1,\n",
    "    survey$doubleness2 != 1 ~ 0)\n",
    "\n",
    "survey$d2_2 <- case_when(\n",
    "    survey$doubleness2 == 2 ~ 1,\n",
    "    survey$doubleness2 != 2 ~ 0)\n",
    "\n",
    "survey$d2_3 <- case_when(\n",
    "    survey$doubleness2 == 3 ~ 1,\n",
    "    survey$doubleness2 != 3 ~ 0)\n",
    "\n",
    "survey$d2_4 <- case_when(\n",
    "    survey$doubleness2 == 4 ~ 1,\n",
    "    survey$doubleness2 != 4 ~ 0)\n",
    "\n",
    "survey$d2_5 <- case_when(\n",
    "    survey$doubleness2 == 5 ~ 1,\n",
    "    survey$doubleness2 != 5 ~ 0)\n",
    "\t\n",
    "survey$d3_1 <- case_when(\n",
    "    survey$doubleness3 == 1 ~ 1,\n",
    "    survey$doubleness3 != 1 ~ 0)\n",
    "\n",
    "survey$d3_2 <- case_when(\n",
    "    survey$doubleness3 == 2 ~ 1,\n",
    "    survey$doubleness3 != 2 ~ 0)\n",
    "\n",
    "survey$d3_3 <- case_when(\n",
    "    survey$doubleness3 == 3 ~ 1,\n",
    "    survey$doubleness3 != 3 ~ 0)\n",
    "\n",
    "survey$d3_4 <- case_when(\n",
    "    survey$doubleness3 == 4 ~ 1,\n",
    "    survey$doubleness3 != 4 ~ 0)\n",
    "\n",
    "survey$d3_5 <- case_when(\n",
    "    survey$doubleness3 == 5 ~ 1,\n",
    "    survey$doubleness3 != 5 ~ 0)"
   ]
  },
  {
   "cell_type": "code",
   "execution_count": 5,
   "metadata": {},
   "outputs": [
    {
     "data": {
      "text/html": [
       "<table>\n",
       "<thead><tr><th scope=col>X</th><th scope=col>sex</th><th scope=col>age_class</th><th scope=col>definition</th><th scope=col>need</th><th scope=col>purpose</th><th scope=col>interest</th><th scope=col>comp</th><th scope=col>triangle1</th><th scope=col>triangle2</th><th scope=col>...</th><th scope=col>d2_1</th><th scope=col>d2_2</th><th scope=col>d2_3</th><th scope=col>d2_4</th><th scope=col>d2_5</th><th scope=col>d3_1</th><th scope=col>d3_2</th><th scope=col>d3_3</th><th scope=col>d3_4</th><th scope=col>d3_5</th></tr></thead>\n",
       "<tbody>\n",
       "\t<tr><td>0      </td><td>Male   </td><td>20     </td><td>harmony</td><td>harmony</td><td>clothes</td><td>5      </td><td>4      </td><td>5      </td><td>2      </td><td>...    </td><td>0      </td><td>1      </td><td>0      </td><td>0      </td><td>0      </td><td>0      </td><td>1      </td><td>0      </td><td>0      </td><td>0      </td></tr>\n",
       "\t<tr><td>1      </td><td>Female </td><td>20     </td><td>bright </td><td>harmony</td><td>clothes</td><td>5      </td><td>1      </td><td>1      </td><td>2      </td><td>...    </td><td>0      </td><td>0      </td><td>1      </td><td>0      </td><td>0      </td><td>0      </td><td>1      </td><td>0      </td><td>0      </td><td>0      </td></tr>\n",
       "\t<tr><td>2      </td><td>Female </td><td>20     </td><td>bright </td><td>bright </td><td>clothes</td><td>3      </td><td>2      </td><td>4      </td><td>1      </td><td>...    </td><td>1      </td><td>0      </td><td>0      </td><td>0      </td><td>0      </td><td>0      </td><td>1      </td><td>0      </td><td>0      </td><td>0      </td></tr>\n",
       "\t<tr><td>3      </td><td>Female </td><td>20     </td><td>bright </td><td>bright </td><td>clothes</td><td>3      </td><td>3      </td><td>4      </td><td>3      </td><td>...    </td><td>0      </td><td>1      </td><td>0      </td><td>0      </td><td>0      </td><td>1      </td><td>0      </td><td>0      </td><td>0      </td><td>0      </td></tr>\n",
       "\t<tr><td>4      </td><td>Male   </td><td>20     </td><td>harmony</td><td>harmony</td><td>clothes</td><td>5      </td><td>5      </td><td>5      </td><td>4      </td><td>...    </td><td>0      </td><td>1      </td><td>0      </td><td>0      </td><td>0      </td><td>0      </td><td>0      </td><td>1      </td><td>0      </td><td>0      </td></tr>\n",
       "\t<tr><td>5      </td><td>Female </td><td>20     </td><td>bright </td><td>bright </td><td>clothes</td><td>5      </td><td>5      </td><td>5      </td><td>4      </td><td>...    </td><td>0      </td><td>1      </td><td>0      </td><td>0      </td><td>0      </td><td>1      </td><td>0      </td><td>0      </td><td>0      </td><td>0      </td></tr>\n",
       "</tbody>\n",
       "</table>\n"
      ],
      "text/latex": [
       "\\begin{tabular}{r|lllllllllllllllllllllllllllllllllllllllllll}\n",
       " X & sex & age\\_class & definition & need & purpose & interest & comp & triangle1 & triangle2 & ... & d2\\_1 & d2\\_2 & d2\\_3 & d2\\_4 & d2\\_5 & d3\\_1 & d3\\_2 & d3\\_3 & d3\\_4 & d3\\_5\\\\\n",
       "\\hline\n",
       "\t 0       & Male    & 20      & harmony & harmony & clothes & 5       & 4       & 5       & 2       & ...     & 0       & 1       & 0       & 0       & 0       & 0       & 1       & 0       & 0       & 0      \\\\\n",
       "\t 1       & Female  & 20      & bright  & harmony & clothes & 5       & 1       & 1       & 2       & ...     & 0       & 0       & 1       & 0       & 0       & 0       & 1       & 0       & 0       & 0      \\\\\n",
       "\t 2       & Female  & 20      & bright  & bright  & clothes & 3       & 2       & 4       & 1       & ...     & 1       & 0       & 0       & 0       & 0       & 0       & 1       & 0       & 0       & 0      \\\\\n",
       "\t 3       & Female  & 20      & bright  & bright  & clothes & 3       & 3       & 4       & 3       & ...     & 0       & 1       & 0       & 0       & 0       & 1       & 0       & 0       & 0       & 0      \\\\\n",
       "\t 4       & Male    & 20      & harmony & harmony & clothes & 5       & 5       & 5       & 4       & ...     & 0       & 1       & 0       & 0       & 0       & 0       & 0       & 1       & 0       & 0      \\\\\n",
       "\t 5       & Female  & 20      & bright  & bright  & clothes & 5       & 5       & 5       & 4       & ...     & 0       & 1       & 0       & 0       & 0       & 1       & 0       & 0       & 0       & 0      \\\\\n",
       "\\end{tabular}\n"
      ],
      "text/markdown": [
       "\n",
       "| X | sex | age_class | definition | need | purpose | interest | comp | triangle1 | triangle2 | ... | d2_1 | d2_2 | d2_3 | d2_4 | d2_5 | d3_1 | d3_2 | d3_3 | d3_4 | d3_5 |\n",
       "|---|---|---|---|---|---|---|---|---|---|---|---|---|---|---|---|---|---|---|---|---|\n",
       "| 0       | Male    | 20      | harmony | harmony | clothes | 5       | 4       | 5       | 2       | ...     | 0       | 1       | 0       | 0       | 0       | 0       | 1       | 0       | 0       | 0       |\n",
       "| 1       | Female  | 20      | bright  | harmony | clothes | 5       | 1       | 1       | 2       | ...     | 0       | 0       | 1       | 0       | 0       | 0       | 1       | 0       | 0       | 0       |\n",
       "| 2       | Female  | 20      | bright  | bright  | clothes | 3       | 2       | 4       | 1       | ...     | 1       | 0       | 0       | 0       | 0       | 0       | 1       | 0       | 0       | 0       |\n",
       "| 3       | Female  | 20      | bright  | bright  | clothes | 3       | 3       | 4       | 3       | ...     | 0       | 1       | 0       | 0       | 0       | 1       | 0       | 0       | 0       | 0       |\n",
       "| 4       | Male    | 20      | harmony | harmony | clothes | 5       | 5       | 5       | 4       | ...     | 0       | 1       | 0       | 0       | 0       | 0       | 0       | 1       | 0       | 0       |\n",
       "| 5       | Female  | 20      | bright  | bright  | clothes | 5       | 5       | 5       | 4       | ...     | 0       | 1       | 0       | 0       | 0       | 1       | 0       | 0       | 0       | 0       |\n",
       "\n"
      ],
      "text/plain": [
       "  X sex    age_class definition need    purpose interest comp triangle1\n",
       "1 0 Male   20        harmony    harmony clothes 5        4    5        \n",
       "2 1 Female 20        bright     harmony clothes 5        1    1        \n",
       "3 2 Female 20        bright     bright  clothes 3        2    4        \n",
       "4 3 Female 20        bright     bright  clothes 3        3    4        \n",
       "5 4 Male   20        harmony    harmony clothes 5        5    5        \n",
       "6 5 Female 20        bright     bright  clothes 5        5    5        \n",
       "  triangle2 ... d2_1 d2_2 d2_3 d2_4 d2_5 d3_1 d3_2 d3_3 d3_4 d3_5\n",
       "1 2         ... 0    1    0    0    0    0    1    0    0    0   \n",
       "2 2         ... 0    0    1    0    0    0    1    0    0    0   \n",
       "3 1         ... 1    0    0    0    0    0    1    0    0    0   \n",
       "4 3         ... 0    1    0    0    0    1    0    0    0    0   \n",
       "5 4         ... 0    1    0    0    0    0    0    1    0    0   \n",
       "6 4         ... 0    1    0    0    0    1    0    0    0    0   "
      ]
     },
     "metadata": {},
     "output_type": "display_data"
    }
   ],
   "source": [
    "head(survey)"
   ]
  },
  {
   "cell_type": "code",
   "execution_count": 6,
   "metadata": {},
   "outputs": [],
   "source": [
    "train <- survey[1:149, ]\n",
    "test <- survey[150:213, ]"
   ]
  },
  {
   "cell_type": "code",
   "execution_count": 7,
   "metadata": {},
   "outputs": [
    {
     "data": {
      "text/plain": [
       "\n",
       "Call:\n",
       "glm(formula = comp1 ~ sex + definition + need + purpose + interest, \n",
       "    family = binomial, data = train)\n",
       "\n",
       "Deviance Residuals: \n",
       "    Min       1Q   Median       3Q      Max  \n",
       "-1.1739  -0.8595  -0.7225   1.2888   2.0851  \n",
       "\n",
       "Coefficients:\n",
       "                  Estimate Std. Error z value Pr(>|z|)  \n",
       "(Intercept)        -1.7814     0.8065  -2.209   0.0272 *\n",
       "sexMale            -0.5826     0.5066  -1.150   0.2501  \n",
       "definitionharmony  -0.2368     0.4944  -0.479   0.6320  \n",
       "needharmony         0.6779     0.4515   1.501   0.1332  \n",
       "purposecosmetic    -0.2867     0.5541  -0.517   0.6048  \n",
       "purposeetc         -0.1657     0.4856  -0.341   0.7328  \n",
       "interest            0.2738     0.1799   1.522   0.1280  \n",
       "---\n",
       "Signif. codes:  0 '***' 0.001 '**' 0.01 '*' 0.05 '.' 0.1 ' ' 1\n",
       "\n",
       "(Dispersion parameter for binomial family taken to be 1)\n",
       "\n",
       "    Null deviance: 180.84  on 148  degrees of freedom\n",
       "Residual deviance: 174.80  on 142  degrees of freedom\n",
       "AIC: 188.8\n",
       "\n",
       "Number of Fisher Scoring iterations: 4\n"
      ]
     },
     "metadata": {},
     "output_type": "display_data"
    }
   ],
   "source": [
    "model <- glm(comp1 ~ sex + definition + need + purpose \n",
    "              + interest, data =train, family = binomial)\n",
    "summary(model)"
   ]
  },
  {
   "cell_type": "code",
   "execution_count": 8,
   "metadata": {},
   "outputs": [
    {
     "data": {
      "text/html": [
       "<table>\n",
       "<thead><tr><th></th><th scope=col>Df</th><th scope=col>Deviance</th><th scope=col>Resid. Df</th><th scope=col>Resid. Dev</th><th scope=col>Pr(&gt;Chi)</th></tr></thead>\n",
       "<tbody>\n",
       "\t<tr><th scope=row>NULL</th><td>NA         </td><td>         NA</td><td>148        </td><td>180.8356   </td><td>       NA  </td></tr>\n",
       "\t<tr><th scope=row>sex</th><td> 1         </td><td>1.033351051</td><td>147        </td><td>179.8023   </td><td>0.3093729  </td></tr>\n",
       "\t<tr><th scope=row>definition</th><td> 1         </td><td>0.005088529</td><td>146        </td><td>179.7972   </td><td>0.9431320  </td></tr>\n",
       "\t<tr><th scope=row>need</th><td> 1         </td><td>2.363009180</td><td>145        </td><td>177.4342   </td><td>0.1242423  </td></tr>\n",
       "\t<tr><th scope=row>purpose</th><td> 2         </td><td>0.241826706</td><td>143        </td><td>177.1924   </td><td>0.8861107  </td></tr>\n",
       "\t<tr><th scope=row>interest</th><td> 1         </td><td>2.390138203</td><td>142        </td><td>174.8022   </td><td>0.1221028  </td></tr>\n",
       "</tbody>\n",
       "</table>\n"
      ],
      "text/latex": [
       "\\begin{tabular}{r|lllll}\n",
       "  & Df & Deviance & Resid. Df & Resid. Dev & Pr(>Chi)\\\\\n",
       "\\hline\n",
       "\tNULL & NA          &          NA & 148         & 180.8356    &        NA  \\\\\n",
       "\tsex &  1          & 1.033351051 & 147         & 179.8023    & 0.3093729  \\\\\n",
       "\tdefinition &  1          & 0.005088529 & 146         & 179.7972    & 0.9431320  \\\\\n",
       "\tneed &  1          & 2.363009180 & 145         & 177.4342    & 0.1242423  \\\\\n",
       "\tpurpose &  2          & 0.241826706 & 143         & 177.1924    & 0.8861107  \\\\\n",
       "\tinterest &  1          & 2.390138203 & 142         & 174.8022    & 0.1221028  \\\\\n",
       "\\end{tabular}\n"
      ],
      "text/markdown": [
       "\n",
       "| <!--/--> | Df | Deviance | Resid. Df | Resid. Dev | Pr(>Chi) |\n",
       "|---|---|---|---|---|---|\n",
       "| NULL | NA          |          NA | 148         | 180.8356    |        NA   |\n",
       "| sex |  1          | 1.033351051 | 147         | 179.8023    | 0.3093729   |\n",
       "| definition |  1          | 0.005088529 | 146         | 179.7972    | 0.9431320   |\n",
       "| need |  1          | 2.363009180 | 145         | 177.4342    | 0.1242423   |\n",
       "| purpose |  2          | 0.241826706 | 143         | 177.1924    | 0.8861107   |\n",
       "| interest |  1          | 2.390138203 | 142         | 174.8022    | 0.1221028   |\n",
       "\n"
      ],
      "text/plain": [
       "           Df Deviance    Resid. Df Resid. Dev Pr(>Chi) \n",
       "NULL       NA          NA 148       180.8356          NA\n",
       "sex         1 1.033351051 147       179.8023   0.3093729\n",
       "definition  1 0.005088529 146       179.7972   0.9431320\n",
       "need        1 2.363009180 145       177.4342   0.1242423\n",
       "purpose     2 0.241826706 143       177.1924   0.8861107\n",
       "interest    1 2.390138203 142       174.8022   0.1221028"
      ]
     },
     "metadata": {},
     "output_type": "display_data"
    }
   ],
   "source": [
    "anova(model, test=\"Chisq\")"
   ]
  },
  {
   "cell_type": "code",
   "execution_count": 9,
   "metadata": {
    "scrolled": true
   },
   "outputs": [
    {
     "data": {
      "image/png": "[encoded data removed]",
      "text/plain": [
       "plot without title"
      ]
     },
     "metadata": {},
     "output_type": "display_data"
    }
   ],
   "source": [
    "p <- predict(model, newdata=test, type=\"response\")\n",
    "pr <- prediction(p, test$comp1)\n",
    "prf <- performance(pr, measure = \"tpr\", x.measure = \"fpr\")\n",
    "plot(prf)"
   ]
  },
  {
   "cell_type": "code",
   "execution_count": 10,
   "metadata": {},
   "outputs": [
    {
     "data": {
      "text/html": [
       "0.378582202111614"
      ],
      "text/latex": [
       "0.378582202111614"
      ],
      "text/markdown": [
       "0.378582202111614"
      ],
      "text/plain": [
       "[1] 0.3785822"
      ]
     },
     "metadata": {},
     "output_type": "display_data"
    }
   ],
   "source": [
    "auc <- performance(pr, measure = \"auc\")\n",
    "auc <- auc@y.values[[1]]\n",
    "auc"
   ]
  },
  {
   "cell_type": "code",
   "execution_count": 11,
   "metadata": {},
   "outputs": [
    {
     "data": {
      "text/plain": [
       "\n",
       "Call:\n",
       "glm(formula = comp2 ~ sex + definition + need + purpose + interest, \n",
       "    family = binomial, data = train)\n",
       "\n",
       "Deviance Residuals: \n",
       "    Min       1Q   Median       3Q      Max  \n",
       "-1.0611  -0.7353  -0.6294  -0.5791   1.9331  \n",
       "\n",
       "Coefficients:\n",
       "                  Estimate Std. Error z value Pr(>|z|)\n",
       "(Intercept)       -1.07074    0.84754  -1.263    0.206\n",
       "sexMale            0.18241    0.57405   0.318    0.751\n",
       "definitionharmony -0.35595    0.51658  -0.689    0.491\n",
       "needharmony       -0.19980    0.47097  -0.424    0.671\n",
       "purposecosmetic    0.84034    0.58310   1.441    0.150\n",
       "purposeetc         0.06281    0.57080   0.110    0.912\n",
       "interest          -0.02475    0.18950  -0.131    0.896\n",
       "\n",
       "(Dispersion parameter for binomial family taken to be 1)\n",
       "\n",
       "    Null deviance: 157.57  on 148  degrees of freedom\n",
       "Residual deviance: 153.44  on 142  degrees of freedom\n",
       "AIC: 167.44\n",
       "\n",
       "Number of Fisher Scoring iterations: 4\n"
      ]
     },
     "metadata": {},
     "output_type": "display_data"
    },
    {
     "data": {
      "text/html": [
       "<table>\n",
       "<thead><tr><th></th><th scope=col>Df</th><th scope=col>Deviance</th><th scope=col>Resid. Df</th><th scope=col>Resid. Dev</th><th scope=col>Pr(&gt;Chi)</th></tr></thead>\n",
       "<tbody>\n",
       "\t<tr><th scope=row>NULL</th><td>NA        </td><td>        NA</td><td>148       </td><td>157.5736  </td><td>       NA </td></tr>\n",
       "\t<tr><th scope=row>sex</th><td> 1        </td><td>0.26170820</td><td>147       </td><td>157.3119  </td><td>0.6089490 </td></tr>\n",
       "\t<tr><th scope=row>definition</th><td> 1        </td><td>0.88020792</td><td>146       </td><td>156.4317  </td><td>0.3481447 </td></tr>\n",
       "\t<tr><th scope=row>need</th><td> 1        </td><td>0.27061809</td><td>145       </td><td>156.1610  </td><td>0.6029175 </td></tr>\n",
       "\t<tr><th scope=row>purpose</th><td> 2        </td><td>2.70106572</td><td>143       </td><td>153.4600  </td><td>0.2591022 </td></tr>\n",
       "\t<tr><th scope=row>interest</th><td> 1        </td><td>0.01704129</td><td>142       </td><td>153.4429  </td><td>0.8961374 </td></tr>\n",
       "</tbody>\n",
       "</table>\n"
      ],
      "text/latex": [
       "\\begin{tabular}{r|lllll}\n",
       "  & Df & Deviance & Resid. Df & Resid. Dev & Pr(>Chi)\\\\\n",
       "\\hline\n",
       "\tNULL & NA         &         NA & 148        & 157.5736   &        NA \\\\\n",
       "\tsex &  1         & 0.26170820 & 147        & 157.3119   & 0.6089490 \\\\\n",
       "\tdefinition &  1         & 0.88020792 & 146        & 156.4317   & 0.3481447 \\\\\n",
       "\tneed &  1         & 0.27061809 & 145        & 156.1610   & 0.6029175 \\\\\n",
       "\tpurpose &  2         & 2.70106572 & 143        & 153.4600   & 0.2591022 \\\\\n",
       "\tinterest &  1         & 0.01704129 & 142        & 153.4429   & 0.8961374 \\\\\n",
       "\\end{tabular}\n"
      ],
      "text/markdown": [
       "\n",
       "| <!--/--> | Df | Deviance | Resid. Df | Resid. Dev | Pr(>Chi) |\n",
       "|---|---|---|---|---|---|\n",
       "| NULL | NA         |         NA | 148        | 157.5736   |        NA  |\n",
       "| sex |  1         | 0.26170820 | 147        | 157.3119   | 0.6089490  |\n",
       "| definition |  1         | 0.88020792 | 146        | 156.4317   | 0.3481447  |\n",
       "| need |  1         | 0.27061809 | 145        | 156.1610   | 0.6029175  |\n",
       "| purpose |  2         | 2.70106572 | 143        | 153.4600   | 0.2591022  |\n",
       "| interest |  1         | 0.01704129 | 142        | 153.4429   | 0.8961374  |\n",
       "\n"
      ],
      "text/plain": [
       "           Df Deviance   Resid. Df Resid. Dev Pr(>Chi) \n",
       "NULL       NA         NA 148       157.5736          NA\n",
       "sex         1 0.26170820 147       157.3119   0.6089490\n",
       "definition  1 0.88020792 146       156.4317   0.3481447\n",
       "need        1 0.27061809 145       156.1610   0.6029175\n",
       "purpose     2 2.70106572 143       153.4600   0.2591022\n",
       "interest    1 0.01704129 142       153.4429   0.8961374"
      ]
     },
     "metadata": {},
     "output_type": "display_data"
    },
    {
     "data": {
      "text/html": [
       "0.409285714285714"
      ],
      "text/latex": [
       "0.409285714285714"
      ],
      "text/markdown": [
       "0.409285714285714"
      ],
      "text/plain": [
       "[1] 0.4092857"
      ]
     },
     "metadata": {},
     "output_type": "display_data"
    },
    {
     "data": {
      "image/png": "[encoded data removed]",
      "text/plain": [
       "plot without title"
      ]
     },
     "metadata": {},
     "output_type": "display_data"
    }
   ],
   "source": [
    "model <- glm(comp2 ~ sex + definition + need + purpose \n",
    "              + interest, data =train, family = binomial)\n",
    "summary(model)\n",
    "\n",
    "\n",
    "anova(model, test=\"Chisq\")\n",
    "\n",
    "\n",
    "p <- predict(model, newdata=test, type=\"response\")\n",
    "pr <- prediction(p, test$comp2)\n",
    "prf <- performance(pr, measure = \"tpr\", x.measure = \"fpr\")\n",
    "plot(prf)\n",
    "\n",
    "auc <- performance(pr, measure = \"auc\")\n",
    "auc <- auc@y.values[[1]]\n",
    "auc"
   ]
  },
  {
   "cell_type": "code",
   "execution_count": 12,
   "metadata": {},
   "outputs": [
    {
     "data": {
      "text/plain": [
       "\n",
       "Call:\n",
       "glm(formula = comp3 ~ sex + definition + need + purpose + interest, \n",
       "    family = binomial, data = train)\n",
       "\n",
       "Deviance Residuals: \n",
       "    Min       1Q   Median       3Q      Max  \n",
       "-0.8490  -0.6584  -0.5544  -0.4652   2.2157  \n",
       "\n",
       "Coefficients:\n",
       "                  Estimate Std. Error z value Pr(>|z|)\n",
       "(Intercept)        -0.8076     0.9378  -0.861    0.389\n",
       "sexMale            -0.1503     0.5762  -0.261    0.794\n",
       "definitionharmony   0.5699     0.6203   0.919    0.358\n",
       "needharmony        -0.3812     0.5016  -0.760    0.447\n",
       "purposecosmetic    -0.5104     0.6890  -0.741    0.459\n",
       "purposeetc         -0.2821     0.5895  -0.479    0.632\n",
       "interest           -0.2235     0.2066  -1.082    0.279\n",
       "\n",
       "(Dispersion parameter for binomial family taken to be 1)\n",
       "\n",
       "    Null deviance: 137.96  on 148  degrees of freedom\n",
       "Residual deviance: 134.74  on 142  degrees of freedom\n",
       "AIC: 148.74\n",
       "\n",
       "Number of Fisher Scoring iterations: 4\n"
      ]
     },
     "metadata": {},
     "output_type": "display_data"
    },
    {
     "data": {
      "text/html": [
       "<table>\n",
       "<thead><tr><th></th><th scope=col>Df</th><th scope=col>Deviance</th><th scope=col>Resid. Df</th><th scope=col>Resid. Dev</th><th scope=col>Pr(&gt;Chi)</th></tr></thead>\n",
       "<tbody>\n",
       "\t<tr><th scope=row>NULL</th><td>NA       </td><td>       NA</td><td>148      </td><td>137.9576 </td><td>       NA</td></tr>\n",
       "\t<tr><th scope=row>sex</th><td> 1       </td><td>0.2034043</td><td>147      </td><td>137.7542 </td><td>0.6519869</td></tr>\n",
       "\t<tr><th scope=row>definition</th><td> 1       </td><td>0.6743895</td><td>146      </td><td>137.0798 </td><td>0.4115254</td></tr>\n",
       "\t<tr><th scope=row>need</th><td> 1       </td><td>0.5031268</td><td>145      </td><td>136.5767 </td><td>0.4781295</td></tr>\n",
       "\t<tr><th scope=row>purpose</th><td> 2       </td><td>0.6542161</td><td>143      </td><td>135.9225 </td><td>0.7210058</td></tr>\n",
       "\t<tr><th scope=row>interest</th><td> 1       </td><td>1.1780531</td><td>142      </td><td>134.7444 </td><td>0.2777527</td></tr>\n",
       "</tbody>\n",
       "</table>\n"
      ],
      "text/latex": [
       "\\begin{tabular}{r|lllll}\n",
       "  & Df & Deviance & Resid. Df & Resid. Dev & Pr(>Chi)\\\\\n",
       "\\hline\n",
       "\tNULL & NA        &        NA & 148       & 137.9576  &        NA\\\\\n",
       "\tsex &  1        & 0.2034043 & 147       & 137.7542  & 0.6519869\\\\\n",
       "\tdefinition &  1        & 0.6743895 & 146       & 137.0798  & 0.4115254\\\\\n",
       "\tneed &  1        & 0.5031268 & 145       & 136.5767  & 0.4781295\\\\\n",
       "\tpurpose &  2        & 0.6542161 & 143       & 135.9225  & 0.7210058\\\\\n",
       "\tinterest &  1        & 1.1780531 & 142       & 134.7444  & 0.2777527\\\\\n",
       "\\end{tabular}\n"
      ],
      "text/markdown": [
       "\n",
       "| <!--/--> | Df | Deviance | Resid. Df | Resid. Dev | Pr(>Chi) |\n",
       "|---|---|---|---|---|---|\n",
       "| NULL | NA        |        NA | 148       | 137.9576  |        NA |\n",
       "| sex |  1        | 0.2034043 | 147       | 137.7542  | 0.6519869 |\n",
       "| definition |  1        | 0.6743895 | 146       | 137.0798  | 0.4115254 |\n",
       "| need |  1        | 0.5031268 | 145       | 136.5767  | 0.4781295 |\n",
       "| purpose |  2        | 0.6542161 | 143       | 135.9225  | 0.7210058 |\n",
       "| interest |  1        | 1.1780531 | 142       | 134.7444  | 0.2777527 |\n",
       "\n"
      ],
      "text/plain": [
       "           Df Deviance  Resid. Df Resid. Dev Pr(>Chi) \n",
       "NULL       NA        NA 148       137.9576          NA\n",
       "sex         1 0.2034043 147       137.7542   0.6519869\n",
       "definition  1 0.6743895 146       137.0798   0.4115254\n",
       "need        1 0.5031268 145       136.5767   0.4781295\n",
       "purpose     2 0.6542161 143       135.9225   0.7210058\n",
       "interest    1 1.1780531 142       134.7444   0.2777527"
      ]
     },
     "metadata": {},
     "output_type": "display_data"
    },
    {
     "data": {
      "text/html": [
       "0.378019323671498"
      ],
      "text/latex": [
       "0.378019323671498"
      ],
      "text/markdown": [
       "0.378019323671498"
      ],
      "text/plain": [
       "[1] 0.3780193"
      ]
     },
     "metadata": {},
     "output_type": "display_data"
    },
    {
     "data": {
      "image/png": "[encoded data removed]",
      "text/plain": [
       "plot without title"
      ]
     },
     "metadata": {},
     "output_type": "display_data"
    }
   ],
   "source": [
    "model <- glm(comp3 ~ sex + definition + need + purpose \n",
    "              + interest, data =train, family = binomial)\n",
    "summary(model)\n",
    "\n",
    "\n",
    "anova(model, test=\"Chisq\")\n",
    "\n",
    "\n",
    "p <- predict(model, newdata=test, type=\"response\")\n",
    "pr <- prediction(p, test$comp3)\n",
    "prf <- performance(pr, measure = \"tpr\", x.measure = \"fpr\")\n",
    "plot(prf)\n",
    "\n",
    "auc <- performance(pr, measure = \"auc\")\n",
    "auc <- auc@y.values[[1]]\n",
    "auc"
   ]
  },
  {
   "cell_type": "code",
   "execution_count": 13,
   "metadata": {},
   "outputs": [
    {
     "data": {
      "text/plain": [
       "\n",
       "Call:\n",
       "glm(formula = comp4 ~ sex + definition + need + purpose + interest, \n",
       "    family = binomial, data = train)\n",
       "\n",
       "Deviance Residuals: \n",
       "    Min       1Q   Median       3Q      Max  \n",
       "-1.0995  -0.5461  -0.3890  -0.3239   2.4538  \n",
       "\n",
       "Coefficients:\n",
       "                  Estimate Std. Error z value Pr(>|z|)  \n",
       "(Intercept)        -1.9775     1.1674  -1.694   0.0903 .\n",
       "sexMale             0.3391     0.7843   0.432   0.6655  \n",
       "definitionharmony   1.0755     0.7077   1.520   0.1286  \n",
       "needharmony        -1.4523     0.5962  -2.436   0.0149 *\n",
       "purposecosmetic     0.2351     0.8808   0.267   0.7896  \n",
       "purposeetc          1.0938     0.7430   1.472   0.1409  \n",
       "interest           -0.1890     0.2453  -0.771   0.4410  \n",
       "---\n",
       "Signif. codes:  0 '***' 0.001 '**' 0.01 '*' 0.05 '.' 0.1 ' ' 1\n",
       "\n",
       "(Dispersion parameter for binomial family taken to be 1)\n",
       "\n",
       "    Null deviance: 109.82  on 148  degrees of freedom\n",
       "Residual deviance: 101.25  on 142  degrees of freedom\n",
       "AIC: 115.25\n",
       "\n",
       "Number of Fisher Scoring iterations: 5\n"
      ]
     },
     "metadata": {},
     "output_type": "display_data"
    },
    {
     "data": {
      "text/html": [
       "<table>\n",
       "<thead><tr><th></th><th scope=col>Df</th><th scope=col>Deviance</th><th scope=col>Resid. Df</th><th scope=col>Resid. Dev</th><th scope=col>Pr(&gt;Chi)</th></tr></thead>\n",
       "<tbody>\n",
       "\t<tr><th scope=row>NULL</th><td>NA        </td><td>       NA </td><td>148       </td><td>109.8209  </td><td>        NA</td></tr>\n",
       "\t<tr><th scope=row>sex</th><td> 1        </td><td>0.0934497 </td><td>147       </td><td>109.7275  </td><td>0.75983654</td></tr>\n",
       "\t<tr><th scope=row>definition</th><td> 1        </td><td>0.2582852 </td><td>146       </td><td>109.4692  </td><td>0.61130068</td></tr>\n",
       "\t<tr><th scope=row>need</th><td> 1        </td><td>5.1393179 </td><td>145       </td><td>104.3299  </td><td>0.02338984</td></tr>\n",
       "\t<tr><th scope=row>purpose</th><td> 2        </td><td>2.4823224 </td><td>143       </td><td>101.8475  </td><td>0.28904838</td></tr>\n",
       "\t<tr><th scope=row>interest</th><td> 1        </td><td>0.5952291 </td><td>142       </td><td>101.2523  </td><td>0.44040416</td></tr>\n",
       "</tbody>\n",
       "</table>\n"
      ],
      "text/latex": [
       "\\begin{tabular}{r|lllll}\n",
       "  & Df & Deviance & Resid. Df & Resid. Dev & Pr(>Chi)\\\\\n",
       "\\hline\n",
       "\tNULL & NA         &        NA  & 148        & 109.8209   &         NA\\\\\n",
       "\tsex &  1         & 0.0934497  & 147        & 109.7275   & 0.75983654\\\\\n",
       "\tdefinition &  1         & 0.2582852  & 146        & 109.4692   & 0.61130068\\\\\n",
       "\tneed &  1         & 5.1393179  & 145        & 104.3299   & 0.02338984\\\\\n",
       "\tpurpose &  2         & 2.4823224  & 143        & 101.8475   & 0.28904838\\\\\n",
       "\tinterest &  1         & 0.5952291  & 142        & 101.2523   & 0.44040416\\\\\n",
       "\\end{tabular}\n"
      ],
      "text/markdown": [
       "\n",
       "| <!--/--> | Df | Deviance | Resid. Df | Resid. Dev | Pr(>Chi) |\n",
       "|---|---|---|---|---|---|\n",
       "| NULL | NA         |        NA  | 148        | 109.8209   |         NA |\n",
       "| sex |  1         | 0.0934497  | 147        | 109.7275   | 0.75983654 |\n",
       "| definition |  1         | 0.2582852  | 146        | 109.4692   | 0.61130068 |\n",
       "| need |  1         | 5.1393179  | 145        | 104.3299   | 0.02338984 |\n",
       "| purpose |  2         | 2.4823224  | 143        | 101.8475   | 0.28904838 |\n",
       "| interest |  1         | 0.5952291  | 142        | 101.2523   | 0.44040416 |\n",
       "\n"
      ],
      "text/plain": [
       "           Df Deviance  Resid. Df Resid. Dev Pr(>Chi)  \n",
       "NULL       NA        NA 148       109.8209           NA\n",
       "sex         1 0.0934497 147       109.7275   0.75983654\n",
       "definition  1 0.2582852 146       109.4692   0.61130068\n",
       "need        1 5.1393179 145       104.3299   0.02338984\n",
       "purpose     2 2.4823224 143       101.8475   0.28904838\n",
       "interest    1 0.5952291 142       101.2523   0.44040416"
      ]
     },
     "metadata": {},
     "output_type": "display_data"
    },
    {
     "data": {
      "text/html": [
       "0.344611528822055"
      ],
      "text/latex": [
       "0.344611528822055"
      ],
      "text/markdown": [
       "0.344611528822055"
      ],
      "text/plain": [
       "[1] 0.3446115"
      ]
     },
     "metadata": {},
     "output_type": "display_data"
    },
    {
     "data": {
      "image/png": "[encoded data removed]",
      "text/plain": [
       "plot without title"
      ]
     },
     "metadata": {},
     "output_type": "display_data"
    }
   ],
   "source": [
    "model <- glm(comp4 ~ sex + definition + need + purpose \n",
    "              + interest, data =train, family = binomial)\n",
    "summary(model)\n",
    "\n",
    "\n",
    "anova(model, test=\"Chisq\")\n",
    "\n",
    "\n",
    "p <- predict(model, newdata=test, type=\"response\")\n",
    "pr <- prediction(p, test$comp4)\n",
    "prf <- performance(pr, measure = \"tpr\", x.measure = \"fpr\")\n",
    "plot(prf)\n",
    "\n",
    "auc <- performance(pr, measure = \"auc\")\n",
    "auc <- auc@y.values[[1]]\n",
    "auc"
   ]
  },
  {
   "cell_type": "code",
   "execution_count": 14,
   "metadata": {},
   "outputs": [
    {
     "data": {
      "text/plain": [
       "\n",
       "Call:\n",
       "glm(formula = comp5 ~ sex + definition + need + purpose + interest, \n",
       "    family = binomial, data = train)\n",
       "\n",
       "Deviance Residuals: \n",
       "    Min       1Q   Median       3Q      Max  \n",
       "-1.0197  -0.6768  -0.5883  -0.4227   2.2443  \n",
       "\n",
       "Coefficients:\n",
       "                   Estimate Std. Error z value Pr(>|z|)  \n",
       "(Intercept)       -1.580692   0.910763  -1.736   0.0826 .\n",
       "sexMale            0.444236   0.557754   0.796   0.4258  \n",
       "definitionharmony -0.537069   0.595396  -0.902   0.3670  \n",
       "needharmony        0.771259   0.542751   1.421   0.1553  \n",
       "purposecosmetic   -0.302441   0.689690  -0.439   0.6610  \n",
       "purposeetc        -0.242248   0.592763  -0.409   0.6828  \n",
       "interest          -0.003531   0.197799  -0.018   0.9858  \n",
       "---\n",
       "Signif. codes:  0 '***' 0.001 '**' 0.01 '*' 0.05 '.' 0.1 ' ' 1\n",
       "\n",
       "(Dispersion parameter for binomial family taken to be 1)\n",
       "\n",
       "    Null deviance: 143.99  on 148  degrees of freedom\n",
       "Residual deviance: 139.24  on 142  degrees of freedom\n",
       "AIC: 153.24\n",
       "\n",
       "Number of Fisher Scoring iterations: 4\n"
      ]
     },
     "metadata": {},
     "output_type": "display_data"
    },
    {
     "data": {
      "text/html": [
       "<table>\n",
       "<thead><tr><th></th><th scope=col>Df</th><th scope=col>Deviance</th><th scope=col>Resid. Df</th><th scope=col>Resid. Dev</th><th scope=col>Pr(&gt;Chi)</th></tr></thead>\n",
       "<tbody>\n",
       "\t<tr><th scope=row>NULL</th><td>NA          </td><td>          NA</td><td>148         </td><td>143.9912    </td><td>       NA   </td></tr>\n",
       "\t<tr><th scope=row>sex</th><td> 1          </td><td>2.2231815416</td><td>147         </td><td>141.7681    </td><td>0.1359526   </td></tr>\n",
       "\t<tr><th scope=row>definition</th><td> 1          </td><td>0.0714709747</td><td>146         </td><td>141.6966    </td><td>0.7892070   </td></tr>\n",
       "\t<tr><th scope=row>need</th><td> 1          </td><td>2.2062118150</td><td>145         </td><td>139.4904    </td><td>0.1374558   </td></tr>\n",
       "\t<tr><th scope=row>purpose</th><td> 2          </td><td>0.2513333066</td><td>143         </td><td>139.2390    </td><td>0.8819088   </td></tr>\n",
       "\t<tr><th scope=row>interest</th><td> 1          </td><td>0.0003185446</td><td>142         </td><td>139.2387    </td><td>0.9857603   </td></tr>\n",
       "</tbody>\n",
       "</table>\n"
      ],
      "text/latex": [
       "\\begin{tabular}{r|lllll}\n",
       "  & Df & Deviance & Resid. Df & Resid. Dev & Pr(>Chi)\\\\\n",
       "\\hline\n",
       "\tNULL & NA           &           NA & 148          & 143.9912     &        NA   \\\\\n",
       "\tsex &  1           & 2.2231815416 & 147          & 141.7681     & 0.1359526   \\\\\n",
       "\tdefinition &  1           & 0.0714709747 & 146          & 141.6966     & 0.7892070   \\\\\n",
       "\tneed &  1           & 2.2062118150 & 145          & 139.4904     & 0.1374558   \\\\\n",
       "\tpurpose &  2           & 0.2513333066 & 143          & 139.2390     & 0.8819088   \\\\\n",
       "\tinterest &  1           & 0.0003185446 & 142          & 139.2387     & 0.9857603   \\\\\n",
       "\\end{tabular}\n"
      ],
      "text/markdown": [
       "\n",
       "| <!--/--> | Df | Deviance | Resid. Df | Resid. Dev | Pr(>Chi) |\n",
       "|---|---|---|---|---|---|\n",
       "| NULL | NA           |           NA | 148          | 143.9912     |        NA    |\n",
       "| sex |  1           | 2.2231815416 | 147          | 141.7681     | 0.1359526    |\n",
       "| definition |  1           | 0.0714709747 | 146          | 141.6966     | 0.7892070    |\n",
       "| need |  1           | 2.2062118150 | 145          | 139.4904     | 0.1374558    |\n",
       "| purpose |  2           | 0.2513333066 | 143          | 139.2390     | 0.8819088    |\n",
       "| interest |  1           | 0.0003185446 | 142          | 139.2387     | 0.9857603    |\n",
       "\n"
      ],
      "text/plain": [
       "           Df Deviance     Resid. Df Resid. Dev Pr(>Chi) \n",
       "NULL       NA           NA 148       143.9912          NA\n",
       "sex         1 2.2231815416 147       141.7681   0.1359526\n",
       "definition  1 0.0714709747 146       141.6966   0.7892070\n",
       "need        1 2.2062118150 145       139.4904   0.1374558\n",
       "purpose     2 0.2513333066 143       139.2390   0.8819088\n",
       "interest    1 0.0003185446 142       139.2387   0.9857603"
      ]
     },
     "metadata": {},
     "output_type": "display_data"
    },
    {
     "data": {
      "text/html": [
       "0.387820512820513"
      ],
      "text/latex": [
       "0.387820512820513"
      ],
      "text/markdown": [
       "0.387820512820513"
      ],
      "text/plain": [
       "[1] 0.3878205"
      ]
     },
     "metadata": {},
     "output_type": "display_data"
    },
    {
     "data": {
      "image/png": "[encoded data removed]",
      "text/plain": [
       "plot without title"
      ]
     },
     "metadata": {},
     "output_type": "display_data"
    }
   ],
   "source": [
    "model <- glm(comp5 ~ sex + definition + need + purpose \n",
    "              + interest, data =train, family = binomial)\n",
    "summary(model)\n",
    "\n",
    "\n",
    "anova(model, test=\"Chisq\")\n",
    "\n",
    "\n",
    "p <- predict(model, newdata=test, type=\"response\")\n",
    "pr <- prediction(p, test$comp5)\n",
    "prf <- performance(pr, measure = \"tpr\", x.measure = \"fpr\")\n",
    "plot(prf)\n",
    "\n",
    "auc <- performance(pr, measure = \"auc\")\n",
    "auc <- auc@y.values[[1]]\n",
    "auc"
   ]
  },
  {
   "cell_type": "code",
   "execution_count": 15,
   "metadata": {},
   "outputs": [
    {
     "data": {
      "text/plain": [
       "\n",
       "Call:\n",
       "glm(formula = t1_1 ~ sex + definition + need + purpose + interest, \n",
       "    family = binomial, data = train)\n",
       "\n",
       "Deviance Residuals: \n",
       "    Min       1Q   Median       3Q      Max  \n",
       "-1.1232  -0.6110  -0.4968  -0.3721   2.3495  \n",
       "\n",
       "Coefficients:\n",
       "                  Estimate Std. Error z value Pr(>|z|)   \n",
       "(Intercept)        -3.6798     1.1359  -3.240   0.0012 **\n",
       "sexMale             0.9861     0.7005   1.408   0.1592   \n",
       "definitionharmony   0.5753     0.7479   0.769   0.4418   \n",
       "needharmony         0.3397     0.5884   0.577   0.5637   \n",
       "purposecosmetic     1.0044     0.7795   1.288   0.1976   \n",
       "purposeetc          0.6215     0.7391   0.841   0.4004   \n",
       "interest            0.1291     0.2192   0.589   0.5559   \n",
       "---\n",
       "Signif. codes:  0 '***' 0.001 '**' 0.01 '*' 0.05 '.' 0.1 ' ' 1\n",
       "\n",
       "(Dispersion parameter for binomial family taken to be 1)\n",
       "\n",
       "    Null deviance: 121.19  on 148  degrees of freedom\n",
       "Residual deviance: 115.79  on 142  degrees of freedom\n",
       "AIC: 129.79\n",
       "\n",
       "Number of Fisher Scoring iterations: 5\n"
      ]
     },
     "metadata": {},
     "output_type": "display_data"
    },
    {
     "data": {
      "text/html": [
       "<table>\n",
       "<thead><tr><th></th><th scope=col>Df</th><th scope=col>Deviance</th><th scope=col>Resid. Df</th><th scope=col>Resid. Dev</th><th scope=col>Pr(&gt;Chi)</th></tr></thead>\n",
       "<tbody>\n",
       "\t<tr><th scope=row>NULL</th><td>NA       </td><td>       NA</td><td>148      </td><td>121.1863 </td><td>       NA</td></tr>\n",
       "\t<tr><th scope=row>sex</th><td> 1       </td><td>1.5692869</td><td>147      </td><td>119.6170 </td><td>0.2103106</td></tr>\n",
       "\t<tr><th scope=row>definition</th><td> 1       </td><td>1.2688513</td><td>146      </td><td>118.3482 </td><td>0.2599823</td></tr>\n",
       "\t<tr><th scope=row>need</th><td> 1       </td><td>0.3306449</td><td>145      </td><td>118.0175 </td><td>0.5652796</td></tr>\n",
       "\t<tr><th scope=row>purpose</th><td> 2       </td><td>1.8768284</td><td>143      </td><td>116.1407 </td><td>0.3912478</td></tr>\n",
       "\t<tr><th scope=row>interest</th><td> 1       </td><td>0.3505903</td><td>142      </td><td>115.7901 </td><td>0.5537792</td></tr>\n",
       "</tbody>\n",
       "</table>\n"
      ],
      "text/latex": [
       "\\begin{tabular}{r|lllll}\n",
       "  & Df & Deviance & Resid. Df & Resid. Dev & Pr(>Chi)\\\\\n",
       "\\hline\n",
       "\tNULL & NA        &        NA & 148       & 121.1863  &        NA\\\\\n",
       "\tsex &  1        & 1.5692869 & 147       & 119.6170  & 0.2103106\\\\\n",
       "\tdefinition &  1        & 1.2688513 & 146       & 118.3482  & 0.2599823\\\\\n",
       "\tneed &  1        & 0.3306449 & 145       & 118.0175  & 0.5652796\\\\\n",
       "\tpurpose &  2        & 1.8768284 & 143       & 116.1407  & 0.3912478\\\\\n",
       "\tinterest &  1        & 0.3505903 & 142       & 115.7901  & 0.5537792\\\\\n",
       "\\end{tabular}\n"
      ],
      "text/markdown": [
       "\n",
       "| <!--/--> | Df | Deviance | Resid. Df | Resid. Dev | Pr(>Chi) |\n",
       "|---|---|---|---|---|---|\n",
       "| NULL | NA        |        NA | 148       | 121.1863  |        NA |\n",
       "| sex |  1        | 1.5692869 | 147       | 119.6170  | 0.2103106 |\n",
       "| definition |  1        | 1.2688513 | 146       | 118.3482  | 0.2599823 |\n",
       "| need |  1        | 0.3306449 | 145       | 118.0175  | 0.5652796 |\n",
       "| purpose |  2        | 1.8768284 | 143       | 116.1407  | 0.3912478 |\n",
       "| interest |  1        | 0.3505903 | 142       | 115.7901  | 0.5537792 |\n",
       "\n"
      ],
      "text/plain": [
       "           Df Deviance  Resid. Df Resid. Dev Pr(>Chi) \n",
       "NULL       NA        NA 148       121.1863          NA\n",
       "sex         1 1.5692869 147       119.6170   0.2103106\n",
       "definition  1 1.2688513 146       118.3482   0.2599823\n",
       "need        1 0.3306449 145       118.0175   0.5652796\n",
       "purpose     2 1.8768284 143       116.1407   0.3912478\n",
       "interest    1 0.3505903 142       115.7901   0.5537792"
      ]
     },
     "metadata": {},
     "output_type": "display_data"
    },
    {
     "data": {
      "text/html": [
       "0.494854202401372"
      ],
      "text/latex": [
       "0.494854202401372"
      ],
      "text/markdown": [
       "0.494854202401372"
      ],
      "text/plain": [
       "[1] 0.4948542"
      ]
     },
     "metadata": {},
     "output_type": "display_data"
    },
    {
     "data": {
      "image/png": "[encoded data removed]",
      "text/plain": [
       "plot without title"
      ]
     },
     "metadata": {},
     "output_type": "display_data"
    }
   ],
   "source": [
    "model <- glm(t1_1 ~ sex + definition + need + purpose \n",
    "              + interest, data =train, family = binomial)\n",
    "summary(model)\n",
    "\n",
    "\n",
    "anova(model, test=\"Chisq\")\n",
    "\n",
    "\n",
    "p <- predict(model, newdata=test, type=\"response\")\n",
    "pr <- prediction(p, test$t1_1)\n",
    "prf <- performance(pr, measure = \"tpr\", x.measure = \"fpr\")\n",
    "plot(prf)\n",
    "\n",
    "auc <- performance(pr, measure = \"auc\")\n",
    "auc <- auc@y.values[[1]]\n",
    "auc"
   ]
  },
  {
   "cell_type": "code",
   "execution_count": 16,
   "metadata": {},
   "outputs": [
    {
     "data": {
      "text/plain": [
       "\n",
       "Call:\n",
       "glm(formula = t1_2 ~ sex + definition + need + purpose + interest, \n",
       "    family = binomial, data = train)\n",
       "\n",
       "Deviance Residuals: \n",
       "    Min       1Q   Median       3Q      Max  \n",
       "-1.2416  -0.5401  -0.3903  -0.2809   2.6116  \n",
       "\n",
       "Coefficients:\n",
       "                  Estimate Std. Error z value Pr(>|z|)  \n",
       "(Intercept)         0.2418     1.0912   0.222   0.8247  \n",
       "sexMale             0.8489     0.7613   1.115   0.2648  \n",
       "definitionharmony  -1.4171     0.7129  -1.988   0.0468 *\n",
       "needharmony         0.1079     0.6558   0.165   0.8693  \n",
       "purposecosmetic    -0.3613     0.9806  -0.368   0.7125  \n",
       "purposeetc          0.9454     0.7152   1.322   0.1862  \n",
       "interest           -0.5773     0.2487  -2.321   0.0203 *\n",
       "---\n",
       "Signif. codes:  0 '***' 0.001 '**' 0.01 '*' 0.05 '.' 0.1 ' ' 1\n",
       "\n",
       "(Dispersion parameter for binomial family taken to be 1)\n",
       "\n",
       "    Null deviance: 113.73  on 148  degrees of freedom\n",
       "Residual deviance: 101.76  on 142  degrees of freedom\n",
       "AIC: 115.76\n",
       "\n",
       "Number of Fisher Scoring iterations: 5\n"
      ]
     },
     "metadata": {},
     "output_type": "display_data"
    },
    {
     "data": {
      "text/html": [
       "<table>\n",
       "<thead><tr><th></th><th scope=col>Df</th><th scope=col>Deviance</th><th scope=col>Resid. Df</th><th scope=col>Resid. Dev</th><th scope=col>Pr(&gt;Chi)</th></tr></thead>\n",
       "<tbody>\n",
       "\t<tr><th scope=row>NULL</th><td>NA        </td><td>        NA</td><td>148       </td><td>113.7284  </td><td>        NA</td></tr>\n",
       "\t<tr><th scope=row>sex</th><td> 1        </td><td>0.35392106</td><td>147       </td><td>113.3744  </td><td>0.55190186</td></tr>\n",
       "\t<tr><th scope=row>definition</th><td> 1        </td><td>3.56313604</td><td>146       </td><td>109.8113  </td><td>0.05907603</td></tr>\n",
       "\t<tr><th scope=row>need</th><td> 1        </td><td>0.01274642</td><td>145       </td><td>109.7986  </td><td>0.91010981</td></tr>\n",
       "\t<tr><th scope=row>purpose</th><td> 2        </td><td>2.24290494</td><td>143       </td><td>107.5557  </td><td>0.32580623</td></tr>\n",
       "\t<tr><th scope=row>interest</th><td> 1        </td><td>5.79434216</td><td>142       </td><td>101.7613  </td><td>0.01607783</td></tr>\n",
       "</tbody>\n",
       "</table>\n"
      ],
      "text/latex": [
       "\\begin{tabular}{r|lllll}\n",
       "  & Df & Deviance & Resid. Df & Resid. Dev & Pr(>Chi)\\\\\n",
       "\\hline\n",
       "\tNULL & NA         &         NA & 148        & 113.7284   &         NA\\\\\n",
       "\tsex &  1         & 0.35392106 & 147        & 113.3744   & 0.55190186\\\\\n",
       "\tdefinition &  1         & 3.56313604 & 146        & 109.8113   & 0.05907603\\\\\n",
       "\tneed &  1         & 0.01274642 & 145        & 109.7986   & 0.91010981\\\\\n",
       "\tpurpose &  2         & 2.24290494 & 143        & 107.5557   & 0.32580623\\\\\n",
       "\tinterest &  1         & 5.79434216 & 142        & 101.7613   & 0.01607783\\\\\n",
       "\\end{tabular}\n"
      ],
      "text/markdown": [
       "\n",
       "| <!--/--> | Df | Deviance | Resid. Df | Resid. Dev | Pr(>Chi) |\n",
       "|---|---|---|---|---|---|\n",
       "| NULL | NA         |         NA | 148        | 113.7284   |         NA |\n",
       "| sex |  1         | 0.35392106 | 147        | 113.3744   | 0.55190186 |\n",
       "| definition |  1         | 3.56313604 | 146        | 109.8113   | 0.05907603 |\n",
       "| need |  1         | 0.01274642 | 145        | 109.7986   | 0.91010981 |\n",
       "| purpose |  2         | 2.24290494 | 143        | 107.5557   | 0.32580623 |\n",
       "| interest |  1         | 5.79434216 | 142        | 101.7613   | 0.01607783 |\n",
       "\n"
      ],
      "text/plain": [
       "           Df Deviance   Resid. Df Resid. Dev Pr(>Chi)  \n",
       "NULL       NA         NA 148       113.7284           NA\n",
       "sex         1 0.35392106 147       113.3744   0.55190186\n",
       "definition  1 3.56313604 146       109.8113   0.05907603\n",
       "need        1 0.01274642 145       109.7986   0.91010981\n",
       "purpose     2 2.24290494 143       107.5557   0.32580623\n",
       "interest    1 5.79434216 142       101.7613   0.01607783"
      ]
     },
     "metadata": {},
     "output_type": "display_data"
    },
    {
     "data": {
      "text/html": [
       "0.426243567753002"
      ],
      "text/latex": [
       "0.426243567753002"
      ],
      "text/markdown": [
       "0.426243567753002"
      ],
      "text/plain": [
       "[1] 0.4262436"
      ]
     },
     "metadata": {},
     "output_type": "display_data"
    },
    {
     "data": {
      "image/png": "[encoded data removed]",
      "text/plain": [
       "plot without title"
      ]
     },
     "metadata": {},
     "output_type": "display_data"
    }
   ],
   "source": [
    "model <- glm(t1_2 ~ sex + definition + need + purpose \n",
    "              + interest, data =train, family = binomial)\n",
    "summary(model)\n",
    "\n",
    "\n",
    "anova(model, test=\"Chisq\")\n",
    "\n",
    "\n",
    "p <- predict(model, newdata=test, type=\"response\")\n",
    "pr <- prediction(p, test$t1_2)\n",
    "prf <- performance(pr, measure = \"tpr\", x.measure = \"fpr\")\n",
    "plot(prf)\n",
    "\n",
    "auc <- performance(pr, measure = \"auc\")\n",
    "auc <- auc@y.values[[1]]\n",
    "auc"
   ]
  },
  {
   "cell_type": "code",
   "execution_count": 17,
   "metadata": {},
   "outputs": [
    {
     "data": {
      "text/plain": [
       "\n",
       "Call:\n",
       "glm(formula = t1_3 ~ sex + definition + need + purpose + interest, \n",
       "    family = binomial, data = train)\n",
       "\n",
       "Deviance Residuals: \n",
       "    Min       1Q   Median       3Q      Max  \n",
       "-0.8205  -0.7398  -0.6394  -0.5216   2.1247  \n",
       "\n",
       "Coefficients:\n",
       "                  Estimate Std. Error z value Pr(>|z|)\n",
       "(Intercept)       -0.92346    0.86288  -1.070    0.285\n",
       "sexMale           -0.58928    0.57694  -1.021    0.307\n",
       "definitionharmony -0.26591    0.54142  -0.491    0.623\n",
       "needharmony        0.34720    0.49496   0.701    0.483\n",
       "purposecosmetic    0.05204    0.59263   0.088    0.930\n",
       "purposeetc        -0.08525    0.53853  -0.158    0.874\n",
       "interest          -0.07360    0.19499  -0.377    0.706\n",
       "\n",
       "(Dispersion parameter for binomial family taken to be 1)\n",
       "\n",
       "    Null deviance: 152.39  on 148  degrees of freedom\n",
       "Residual deviance: 150.33  on 142  degrees of freedom\n",
       "AIC: 164.33\n",
       "\n",
       "Number of Fisher Scoring iterations: 4\n"
      ]
     },
     "metadata": {},
     "output_type": "display_data"
    },
    {
     "data": {
      "text/html": [
       "<table>\n",
       "<thead><tr><th></th><th scope=col>Df</th><th scope=col>Deviance</th><th scope=col>Resid. Df</th><th scope=col>Resid. Dev</th><th scope=col>Pr(&gt;Chi)</th></tr></thead>\n",
       "<tbody>\n",
       "\t<tr><th scope=row>NULL</th><td>NA        </td><td>        NA</td><td>148       </td><td>152.3872  </td><td>       NA </td></tr>\n",
       "\t<tr><th scope=row>sex</th><td> 1        </td><td>1.31793610</td><td>147       </td><td>151.0693  </td><td>0.2509628 </td></tr>\n",
       "\t<tr><th scope=row>definition</th><td> 1        </td><td>0.01205911</td><td>146       </td><td>151.0572  </td><td>0.9125569 </td></tr>\n",
       "\t<tr><th scope=row>need</th><td> 1        </td><td>0.49140380</td><td>145       </td><td>150.5658  </td><td>0.4833018 </td></tr>\n",
       "\t<tr><th scope=row>purpose</th><td> 2        </td><td>0.08966480</td><td>143       </td><td>150.4762  </td><td>0.9561577 </td></tr>\n",
       "\t<tr><th scope=row>interest</th><td> 1        </td><td>0.14229972</td><td>142       </td><td>150.3339  </td><td>0.7060054 </td></tr>\n",
       "</tbody>\n",
       "</table>\n"
      ],
      "text/latex": [
       "\\begin{tabular}{r|lllll}\n",
       "  & Df & Deviance & Resid. Df & Resid. Dev & Pr(>Chi)\\\\\n",
       "\\hline\n",
       "\tNULL & NA         &         NA & 148        & 152.3872   &        NA \\\\\n",
       "\tsex &  1         & 1.31793610 & 147        & 151.0693   & 0.2509628 \\\\\n",
       "\tdefinition &  1         & 0.01205911 & 146        & 151.0572   & 0.9125569 \\\\\n",
       "\tneed &  1         & 0.49140380 & 145        & 150.5658   & 0.4833018 \\\\\n",
       "\tpurpose &  2         & 0.08966480 & 143        & 150.4762   & 0.9561577 \\\\\n",
       "\tinterest &  1         & 0.14229972 & 142        & 150.3339   & 0.7060054 \\\\\n",
       "\\end{tabular}\n"
      ],
      "text/markdown": [
       "\n",
       "| <!--/--> | Df | Deviance | Resid. Df | Resid. Dev | Pr(>Chi) |\n",
       "|---|---|---|---|---|---|\n",
       "| NULL | NA         |         NA | 148        | 152.3872   |        NA  |\n",
       "| sex |  1         | 1.31793610 | 147        | 151.0693   | 0.2509628  |\n",
       "| definition |  1         | 0.01205911 | 146        | 151.0572   | 0.9125569  |\n",
       "| need |  1         | 0.49140380 | 145        | 150.5658   | 0.4833018  |\n",
       "| purpose |  2         | 0.08966480 | 143        | 150.4762   | 0.9561577  |\n",
       "| interest |  1         | 0.14229972 | 142        | 150.3339   | 0.7060054  |\n",
       "\n"
      ],
      "text/plain": [
       "           Df Deviance   Resid. Df Resid. Dev Pr(>Chi) \n",
       "NULL       NA         NA 148       152.3872          NA\n",
       "sex         1 1.31793610 147       151.0693   0.2509628\n",
       "definition  1 0.01205911 146       151.0572   0.9125569\n",
       "need        1 0.49140380 145       150.5658   0.4833018\n",
       "purpose     2 0.08966480 143       150.4762   0.9561577\n",
       "interest    1 0.14229972 142       150.3339   0.7060054"
      ]
     },
     "metadata": {},
     "output_type": "display_data"
    },
    {
     "data": {
      "text/html": [
       "0.482312925170068"
      ],
      "text/latex": [
       "0.482312925170068"
      ],
      "text/markdown": [
       "0.482312925170068"
      ],
      "text/plain": [
       "[1] 0.4823129"
      ]
     },
     "metadata": {},
     "output_type": "display_data"
    },
    {
     "data": {
      "image/png": "[encoded data removed]",
      "text/plain": [
       "plot without title"
      ]
     },
     "metadata": {},
     "output_type": "display_data"
    }
   ],
   "source": [
    "model <- glm(t1_3 ~ sex + definition + need + purpose \n",
    "              + interest, data =train, family = binomial)\n",
    "summary(model)\n",
    "\n",
    "\n",
    "anova(model, test=\"Chisq\")\n",
    "\n",
    "\n",
    "p <- predict(model, newdata=test, type=\"response\")\n",
    "pr <- prediction(p, test$t1_3)\n",
    "prf <- performance(pr, measure = \"tpr\", x.measure = \"fpr\")\n",
    "plot(prf)\n",
    "\n",
    "auc <- performance(pr, measure = \"auc\")\n",
    "auc <- auc@y.values[[1]]\n",
    "auc"
   ]
  },
  {
   "cell_type": "code",
   "execution_count": 18,
   "metadata": {},
   "outputs": [
    {
     "data": {
      "text/plain": [
       "\n",
       "Call:\n",
       "glm(formula = t1_4 ~ sex + definition + need + purpose + interest, \n",
       "    family = binomial, data = train)\n",
       "\n",
       "Deviance Residuals: \n",
       "    Min       1Q   Median       3Q      Max  \n",
       "-1.0647  -0.8418  -0.6843   1.2620   1.9589  \n",
       "\n",
       "Coefficients:\n",
       "                  Estimate Std. Error z value Pr(>|z|)  \n",
       "(Intercept)       -2.07339    0.85162  -2.435   0.0149 *\n",
       "sexMale           -0.97902    0.55695  -1.758   0.0788 .\n",
       "definitionharmony  0.31197    0.50604   0.616   0.5376  \n",
       "needharmony        0.10433    0.44962   0.232   0.8165  \n",
       "purposecosmetic    0.03233    0.55084   0.059   0.9532  \n",
       "purposeetc        -0.07442    0.49974  -0.149   0.8816  \n",
       "interest           0.29207    0.19112   1.528   0.1265  \n",
       "---\n",
       "Signif. codes:  0 '***' 0.001 '**' 0.01 '*' 0.05 '.' 0.1 ' ' 1\n",
       "\n",
       "(Dispersion parameter for binomial family taken to be 1)\n",
       "\n",
       "    Null deviance: 171.31  on 148  degrees of freedom\n",
       "Residual deviance: 164.01  on 142  degrees of freedom\n",
       "AIC: 178.01\n",
       "\n",
       "Number of Fisher Scoring iterations: 4\n"
      ]
     },
     "metadata": {},
     "output_type": "display_data"
    },
    {
     "data": {
      "text/html": [
       "<table>\n",
       "<thead><tr><th></th><th scope=col>Df</th><th scope=col>Deviance</th><th scope=col>Resid. Df</th><th scope=col>Resid. Dev</th><th scope=col>Pr(&gt;Chi)</th></tr></thead>\n",
       "<tbody>\n",
       "\t<tr><th scope=row>NULL</th><td>NA         </td><td>         NA</td><td>148        </td><td>171.3125   </td><td>        NA </td></tr>\n",
       "\t<tr><th scope=row>sex</th><td> 1         </td><td>4.431521051</td><td>147        </td><td>166.8810   </td><td>0.03528105 </td></tr>\n",
       "\t<tr><th scope=row>definition</th><td> 1         </td><td>0.412118681</td><td>146        </td><td>166.4689   </td><td>0.52089610 </td></tr>\n",
       "\t<tr><th scope=row>need</th><td> 1         </td><td>0.032984931</td><td>145        </td><td>166.4359   </td><td>0.85588288 </td></tr>\n",
       "\t<tr><th scope=row>purpose</th><td> 2         </td><td>0.009338062</td><td>143        </td><td>166.4265   </td><td>0.99534185 </td></tr>\n",
       "\t<tr><th scope=row>interest</th><td> 1         </td><td>2.416369284</td><td>142        </td><td>164.0102   </td><td>0.12007294 </td></tr>\n",
       "</tbody>\n",
       "</table>\n"
      ],
      "text/latex": [
       "\\begin{tabular}{r|lllll}\n",
       "  & Df & Deviance & Resid. Df & Resid. Dev & Pr(>Chi)\\\\\n",
       "\\hline\n",
       "\tNULL & NA          &          NA & 148         & 171.3125    &         NA \\\\\n",
       "\tsex &  1          & 4.431521051 & 147         & 166.8810    & 0.03528105 \\\\\n",
       "\tdefinition &  1          & 0.412118681 & 146         & 166.4689    & 0.52089610 \\\\\n",
       "\tneed &  1          & 0.032984931 & 145         & 166.4359    & 0.85588288 \\\\\n",
       "\tpurpose &  2          & 0.009338062 & 143         & 166.4265    & 0.99534185 \\\\\n",
       "\tinterest &  1          & 2.416369284 & 142         & 164.0102    & 0.12007294 \\\\\n",
       "\\end{tabular}\n"
      ],
      "text/markdown": [
       "\n",
       "| <!--/--> | Df | Deviance | Resid. Df | Resid. Dev | Pr(>Chi) |\n",
       "|---|---|---|---|---|---|\n",
       "| NULL | NA          |          NA | 148         | 171.3125    |         NA  |\n",
       "| sex |  1          | 4.431521051 | 147         | 166.8810    | 0.03528105  |\n",
       "| definition |  1          | 0.412118681 | 146         | 166.4689    | 0.52089610  |\n",
       "| need |  1          | 0.032984931 | 145         | 166.4359    | 0.85588288  |\n",
       "| purpose |  2          | 0.009338062 | 143         | 166.4265    | 0.99534185  |\n",
       "| interest |  1          | 2.416369284 | 142         | 164.0102    | 0.12007294  |\n",
       "\n"
      ],
      "text/plain": [
       "           Df Deviance    Resid. Df Resid. Dev Pr(>Chi)  \n",
       "NULL       NA          NA 148       171.3125           NA\n",
       "sex         1 4.431521051 147       166.8810   0.03528105\n",
       "definition  1 0.412118681 146       166.4689   0.52089610\n",
       "need        1 0.032984931 145       166.4359   0.85588288\n",
       "purpose     2 0.009338062 143       166.4265   0.99534185\n",
       "interest    1 2.416369284 142       164.0102   0.12007294"
      ]
     },
     "metadata": {},
     "output_type": "display_data"
    },
    {
     "data": {
      "text/html": [
       "0.52536231884058"
      ],
      "text/latex": [
       "0.52536231884058"
      ],
      "text/markdown": [
       "0.52536231884058"
      ],
      "text/plain": [
       "[1] 0.5253623"
      ]
     },
     "metadata": {},
     "output_type": "display_data"
    },
    {
     "data": {
      "image/png": "[encoded data removed]",
      "text/plain": [
       "plot without title"
      ]
     },
     "metadata": {},
     "output_type": "display_data"
    }
   ],
   "source": [
    "model <- glm(t1_4 ~ sex + definition + need + purpose \n",
    "              + interest, data =train, family = binomial)\n",
    "summary(model)\n",
    "\n",
    "\n",
    "anova(model, test=\"Chisq\")\n",
    "\n",
    "\n",
    "p <- predict(model, newdata=test, type=\"response\")\n",
    "pr <- prediction(p, test$t1_4)\n",
    "prf <- performance(pr, measure = \"tpr\", x.measure = \"fpr\")\n",
    "plot(prf)\n",
    "\n",
    "auc <- performance(pr, measure = \"auc\")\n",
    "auc <- auc@y.values[[1]]\n",
    "auc"
   ]
  },
  {
   "cell_type": "code",
   "execution_count": 19,
   "metadata": {},
   "outputs": [
    {
     "data": {
      "text/plain": [
       "\n",
       "Call:\n",
       "glm(formula = t1_5 ~ sex + definition + need + purpose + interest, \n",
       "    family = binomial, data = train)\n",
       "\n",
       "Deviance Residuals: \n",
       "    Min       1Q   Median       3Q      Max  \n",
       "-1.1444  -0.8032  -0.6370   1.2296   1.9670  \n",
       "\n",
       "Coefficients:\n",
       "                  Estimate Std. Error z value Pr(>|z|)\n",
       "(Intercept)       -0.78874    0.81145  -0.972    0.331\n",
       "sexMale            0.27291    0.49602   0.550    0.582\n",
       "definitionharmony  0.32819    0.51166   0.641    0.521\n",
       "needharmony       -0.59288    0.43854  -1.352    0.176\n",
       "purposecosmetic   -0.59767    0.58994  -1.013    0.311\n",
       "purposeetc        -0.76882    0.53749  -1.430    0.153\n",
       "interest           0.02188    0.17990   0.122    0.903\n",
       "\n",
       "(Dispersion parameter for binomial family taken to be 1)\n",
       "\n",
       "    Null deviance: 171.31  on 148  degrees of freedom\n",
       "Residual deviance: 164.69  on 142  degrees of freedom\n",
       "AIC: 178.69\n",
       "\n",
       "Number of Fisher Scoring iterations: 4\n"
      ]
     },
     "metadata": {},
     "output_type": "display_data"
    },
    {
     "data": {
      "text/html": [
       "<table>\n",
       "<thead><tr><th></th><th scope=col>Df</th><th scope=col>Deviance</th><th scope=col>Resid. Df</th><th scope=col>Resid. Dev</th><th scope=col>Pr(&gt;Chi)</th></tr></thead>\n",
       "<tbody>\n",
       "\t<tr><th scope=row>NULL</th><td>NA         </td><td>         NA</td><td>148        </td><td>171.3125   </td><td>       NA  </td></tr>\n",
       "\t<tr><th scope=row>sex</th><td> 1         </td><td>2.475007739</td><td>147        </td><td>168.8375   </td><td>0.1156689  </td></tr>\n",
       "\t<tr><th scope=row>definition</th><td> 1         </td><td>0.008870907</td><td>146        </td><td>168.8286   </td><td>0.9249618  </td></tr>\n",
       "\t<tr><th scope=row>need</th><td> 1         </td><td>1.884829437</td><td>145        </td><td>166.9438   </td><td>0.1697863  </td></tr>\n",
       "\t<tr><th scope=row>purpose</th><td> 2         </td><td>2.237033985</td><td>143        </td><td>164.7068   </td><td>0.3267640  </td></tr>\n",
       "\t<tr><th scope=row>interest</th><td> 1         </td><td>0.014803176</td><td>142        </td><td>164.6920   </td><td>0.9031617  </td></tr>\n",
       "</tbody>\n",
       "</table>\n"
      ],
      "text/latex": [
       "\\begin{tabular}{r|lllll}\n",
       "  & Df & Deviance & Resid. Df & Resid. Dev & Pr(>Chi)\\\\\n",
       "\\hline\n",
       "\tNULL & NA          &          NA & 148         & 171.3125    &        NA  \\\\\n",
       "\tsex &  1          & 2.475007739 & 147         & 168.8375    & 0.1156689  \\\\\n",
       "\tdefinition &  1          & 0.008870907 & 146         & 168.8286    & 0.9249618  \\\\\n",
       "\tneed &  1          & 1.884829437 & 145         & 166.9438    & 0.1697863  \\\\\n",
       "\tpurpose &  2          & 2.237033985 & 143         & 164.7068    & 0.3267640  \\\\\n",
       "\tinterest &  1          & 0.014803176 & 142         & 164.6920    & 0.9031617  \\\\\n",
       "\\end{tabular}\n"
      ],
      "text/markdown": [
       "\n",
       "| <!--/--> | Df | Deviance | Resid. Df | Resid. Dev | Pr(>Chi) |\n",
       "|---|---|---|---|---|---|\n",
       "| NULL | NA          |          NA | 148         | 171.3125    |        NA   |\n",
       "| sex |  1          | 2.475007739 | 147         | 168.8375    | 0.1156689   |\n",
       "| definition |  1          | 0.008870907 | 146         | 168.8286    | 0.9249618   |\n",
       "| need |  1          | 1.884829437 | 145         | 166.9438    | 0.1697863   |\n",
       "| purpose |  2          | 2.237033985 | 143         | 164.7068    | 0.3267640   |\n",
       "| interest |  1          | 0.014803176 | 142         | 164.6920    | 0.9031617   |\n",
       "\n"
      ],
      "text/plain": [
       "           Df Deviance    Resid. Df Resid. Dev Pr(>Chi) \n",
       "NULL       NA          NA 148       171.3125          NA\n",
       "sex         1 2.475007739 147       168.8375   0.1156689\n",
       "definition  1 0.008870907 146       168.8286   0.9249618\n",
       "need        1 1.884829437 145       166.9438   0.1697863\n",
       "purpose     2 2.237033985 143       164.7068   0.3267640\n",
       "interest    1 0.014803176 142       164.6920   0.9031617"
      ]
     },
     "metadata": {},
     "output_type": "display_data"
    },
    {
     "data": {
      "text/html": [
       "0.431313131313131"
      ],
      "text/latex": [
       "0.431313131313131"
      ],
      "text/markdown": [
       "0.431313131313131"
      ],
      "text/plain": [
       "[1] 0.4313131"
      ]
     },
     "metadata": {},
     "output_type": "display_data"
    },
    {
     "data": {
      "image/png": "[encoded data removed]",
      "text/plain": [
       "plot without title"
      ]
     },
     "metadata": {},
     "output_type": "display_data"
    }
   ],
   "source": [
    "model <- glm(t1_5 ~ sex + definition + need + purpose \n",
    "              + interest, data =train, family = binomial)\n",
    "summary(model)\n",
    "\n",
    "\n",
    "anova(model, test=\"Chisq\")\n",
    "\n",
    "\n",
    "p <- predict(model, newdata=test, type=\"response\")\n",
    "pr <- prediction(p, test$t1_5)\n",
    "prf <- performance(pr, measure = \"tpr\", x.measure = \"fpr\")\n",
    "plot(prf)\n",
    "\n",
    "auc <- performance(pr, measure = \"auc\")\n",
    "auc <- auc@y.values[[1]]\n",
    "auc"
   ]
  },
  {
   "cell_type": "code",
   "execution_count": 20,
   "metadata": {},
   "outputs": [
    {
     "data": {
      "text/plain": [
       "\n",
       "Call:\n",
       "glm(formula = t2_1 ~ sex + definition + need + purpose + interest, \n",
       "    family = binomial, data = train)\n",
       "\n",
       "Deviance Residuals: \n",
       "    Min       1Q   Median       3Q      Max  \n",
       "-0.8574  -0.6731  -0.5691  -0.3510   2.3738  \n",
       "\n",
       "Coefficients:\n",
       "                  Estimate Std. Error z value Pr(>|z|)  \n",
       "(Intercept)        -2.0002     0.9939  -2.012   0.0442 *\n",
       "sexMale            -1.0774     0.7462  -1.444   0.1488  \n",
       "definitionharmony   0.0782     0.5800   0.135   0.8927  \n",
       "needharmony        -0.1488     0.5342  -0.279   0.7806  \n",
       "purposecosmetic     0.0294     0.6746   0.044   0.9652  \n",
       "purposeetc          0.5349     0.5746   0.931   0.3519  \n",
       "interest            0.1308     0.2247   0.582   0.5606  \n",
       "---\n",
       "Signif. codes:  0 '***' 0.001 '**' 0.01 '*' 0.05 '.' 0.1 ' ' 1\n",
       "\n",
       "(Dispersion parameter for binomial family taken to be 1)\n",
       "\n",
       "    Null deviance: 134.8  on 148  degrees of freedom\n",
       "Residual deviance: 127.2  on 142  degrees of freedom\n",
       "AIC: 141.2\n",
       "\n",
       "Number of Fisher Scoring iterations: 5\n"
      ]
     },
     "metadata": {},
     "output_type": "display_data"
    },
    {
     "data": {
      "text/html": [
       "<table>\n",
       "<thead><tr><th></th><th scope=col>Df</th><th scope=col>Deviance</th><th scope=col>Resid. Df</th><th scope=col>Resid. Dev</th><th scope=col>Pr(&gt;Chi)</th></tr></thead>\n",
       "<tbody>\n",
       "\t<tr><th scope=row>NULL</th><td>NA        </td><td>        NA</td><td>148       </td><td>134.8024  </td><td>        NA</td></tr>\n",
       "\t<tr><th scope=row>sex</th><td> 1        </td><td>5.77471429</td><td>147       </td><td>129.0277  </td><td>0.01625836</td></tr>\n",
       "\t<tr><th scope=row>definition</th><td> 1        </td><td>0.01683101</td><td>146       </td><td>129.0108  </td><td>0.89677658</td></tr>\n",
       "\t<tr><th scope=row>need</th><td> 1        </td><td>0.05833768</td><td>145       </td><td>128.9525  </td><td>0.80914286</td></tr>\n",
       "\t<tr><th scope=row>purpose</th><td> 2        </td><td>1.41062419</td><td>143       </td><td>127.5419  </td><td>0.49395439</td></tr>\n",
       "\t<tr><th scope=row>interest</th><td> 1        </td><td>0.34211882</td><td>142       </td><td>127.1998  </td><td>0.55860874</td></tr>\n",
       "</tbody>\n",
       "</table>\n"
      ],
      "text/latex": [
       "\\begin{tabular}{r|lllll}\n",
       "  & Df & Deviance & Resid. Df & Resid. Dev & Pr(>Chi)\\\\\n",
       "\\hline\n",
       "\tNULL & NA         &         NA & 148        & 134.8024   &         NA\\\\\n",
       "\tsex &  1         & 5.77471429 & 147        & 129.0277   & 0.01625836\\\\\n",
       "\tdefinition &  1         & 0.01683101 & 146        & 129.0108   & 0.89677658\\\\\n",
       "\tneed &  1         & 0.05833768 & 145        & 128.9525   & 0.80914286\\\\\n",
       "\tpurpose &  2         & 1.41062419 & 143        & 127.5419   & 0.49395439\\\\\n",
       "\tinterest &  1         & 0.34211882 & 142        & 127.1998   & 0.55860874\\\\\n",
       "\\end{tabular}\n"
      ],
      "text/markdown": [
       "\n",
       "| <!--/--> | Df | Deviance | Resid. Df | Resid. Dev | Pr(>Chi) |\n",
       "|---|---|---|---|---|---|\n",
       "| NULL | NA         |         NA | 148        | 134.8024   |         NA |\n",
       "| sex |  1         | 5.77471429 | 147        | 129.0277   | 0.01625836 |\n",
       "| definition |  1         | 0.01683101 | 146        | 129.0108   | 0.89677658 |\n",
       "| need |  1         | 0.05833768 | 145        | 128.9525   | 0.80914286 |\n",
       "| purpose |  2         | 1.41062419 | 143        | 127.5419   | 0.49395439 |\n",
       "| interest |  1         | 0.34211882 | 142        | 127.1998   | 0.55860874 |\n",
       "\n"
      ],
      "text/plain": [
       "           Df Deviance   Resid. Df Resid. Dev Pr(>Chi)  \n",
       "NULL       NA         NA 148       134.8024           NA\n",
       "sex         1 5.77471429 147       129.0277   0.01625836\n",
       "definition  1 0.01683101 146       129.0108   0.89677658\n",
       "need        1 0.05833768 145       128.9525   0.80914286\n",
       "purpose     2 1.41062419 143       127.5419   0.49395439\n",
       "interest    1 0.34211882 142       127.1998   0.55860874"
      ]
     },
     "metadata": {},
     "output_type": "display_data"
    },
    {
     "data": {
      "text/html": [
       "0.510185185185185"
      ],
      "text/latex": [
       "0.510185185185185"
      ],
      "text/markdown": [
       "0.510185185185185"
      ],
      "text/plain": [
       "[1] 0.5101852"
      ]
     },
     "metadata": {},
     "output_type": "display_data"
    },
    {
     "data": {
      "image/png": "[encoded data removed]",
      "text/plain": [
       "plot without title"
      ]
     },
     "metadata": {},
     "output_type": "display_data"
    }
   ],
   "source": [
    "model <- glm(t2_1 ~ sex + definition + need + purpose \n",
    "              + interest, data =train, family = binomial)\n",
    "summary(model)\n",
    "\n",
    "\n",
    "anova(model, test=\"Chisq\")\n",
    "\n",
    "\n",
    "p <- predict(model, newdata=test, type=\"response\")\n",
    "pr <- prediction(p, test$t2_1)\n",
    "prf <- performance(pr, measure = \"tpr\", x.measure = \"fpr\")\n",
    "plot(prf)\n",
    "\n",
    "auc <- performance(pr, measure = \"auc\")\n",
    "auc <- auc@y.values[[1]]\n",
    "auc"
   ]
  },
  {
   "cell_type": "code",
   "execution_count": 21,
   "metadata": {},
   "outputs": [
    {
     "data": {
      "text/plain": [
       "\n",
       "Call:\n",
       "glm(formula = t2_2 ~ sex + definition + need + purpose + interest, \n",
       "    family = binomial, data = train)\n",
       "\n",
       "Deviance Residuals: \n",
       "    Min       1Q   Median       3Q      Max  \n",
       "-1.0759  -0.7795  -0.5979  -0.4384   2.2677  \n",
       "\n",
       "Coefficients:\n",
       "                  Estimate Std. Error z value Pr(>|z|)\n",
       "(Intercept)       -1.23953    0.87886  -1.410    0.158\n",
       "sexMale            0.22300    0.52345   0.426    0.670\n",
       "definitionharmony  0.40038    0.60370   0.663    0.507\n",
       "needharmony        0.57048    0.49019   1.164    0.245\n",
       "purposecosmetic   -0.05194    0.61705  -0.084    0.933\n",
       "purposeetc        -0.26247    0.56250  -0.467    0.641\n",
       "interest          -0.19796    0.18547  -1.067    0.286\n",
       "\n",
       "(Dispersion parameter for binomial family taken to be 1)\n",
       "\n",
       "    Null deviance: 160.05  on 148  degrees of freedom\n",
       "Residual deviance: 152.83  on 142  degrees of freedom\n",
       "AIC: 166.83\n",
       "\n",
       "Number of Fisher Scoring iterations: 4\n"
      ]
     },
     "metadata": {},
     "output_type": "display_data"
    },
    {
     "data": {
      "text/html": [
       "<table>\n",
       "<thead><tr><th></th><th scope=col>Df</th><th scope=col>Deviance</th><th scope=col>Resid. Df</th><th scope=col>Resid. Dev</th><th scope=col>Pr(&gt;Chi)</th></tr></thead>\n",
       "<tbody>\n",
       "\t<tr><th scope=row>NULL</th><td>NA       </td><td>       NA</td><td>148      </td><td>160.0491 </td><td>       NA</td></tr>\n",
       "\t<tr><th scope=row>sex</th><td> 1       </td><td>2.1174488</td><td>147      </td><td>157.9316 </td><td>0.1456290</td></tr>\n",
       "\t<tr><th scope=row>definition</th><td> 1       </td><td>2.2110067</td><td>146      </td><td>155.7206 </td><td>0.1370292</td></tr>\n",
       "\t<tr><th scope=row>need</th><td> 1       </td><td>1.3743299</td><td>145      </td><td>154.3463 </td><td>0.2410693</td></tr>\n",
       "\t<tr><th scope=row>purpose</th><td> 2       </td><td>0.3712138</td><td>143      </td><td>153.9751 </td><td>0.8306000</td></tr>\n",
       "\t<tr><th scope=row>interest</th><td> 1       </td><td>1.1466039</td><td>142      </td><td>152.8285 </td><td>0.2842612</td></tr>\n",
       "</tbody>\n",
       "</table>\n"
      ],
      "text/latex": [
       "\\begin{tabular}{r|lllll}\n",
       "  & Df & Deviance & Resid. Df & Resid. Dev & Pr(>Chi)\\\\\n",
       "\\hline\n",
       "\tNULL & NA        &        NA & 148       & 160.0491  &        NA\\\\\n",
       "\tsex &  1        & 2.1174488 & 147       & 157.9316  & 0.1456290\\\\\n",
       "\tdefinition &  1        & 2.2110067 & 146       & 155.7206  & 0.1370292\\\\\n",
       "\tneed &  1        & 1.3743299 & 145       & 154.3463  & 0.2410693\\\\\n",
       "\tpurpose &  2        & 0.3712138 & 143       & 153.9751  & 0.8306000\\\\\n",
       "\tinterest &  1        & 1.1466039 & 142       & 152.8285  & 0.2842612\\\\\n",
       "\\end{tabular}\n"
      ],
      "text/markdown": [
       "\n",
       "| <!--/--> | Df | Deviance | Resid. Df | Resid. Dev | Pr(>Chi) |\n",
       "|---|---|---|---|---|---|\n",
       "| NULL | NA        |        NA | 148       | 160.0491  |        NA |\n",
       "| sex |  1        | 2.1174488 | 147       | 157.9316  | 0.1456290 |\n",
       "| definition |  1        | 2.2110067 | 146       | 155.7206  | 0.1370292 |\n",
       "| need |  1        | 1.3743299 | 145       | 154.3463  | 0.2410693 |\n",
       "| purpose |  2        | 0.3712138 | 143       | 153.9751  | 0.8306000 |\n",
       "| interest |  1        | 1.1466039 | 142       | 152.8285  | 0.2842612 |\n",
       "\n"
      ],
      "text/plain": [
       "           Df Deviance  Resid. Df Resid. Dev Pr(>Chi) \n",
       "NULL       NA        NA 148       160.0491          NA\n",
       "sex         1 2.1174488 147       157.9316   0.1456290\n",
       "definition  1 2.2110067 146       155.7206   0.1370292\n",
       "need        1 1.3743299 145       154.3463   0.2410693\n",
       "purpose     2 0.3712138 143       153.9751   0.8306000\n",
       "interest    1 1.1466039 142       152.8285   0.2842612"
      ]
     },
     "metadata": {},
     "output_type": "display_data"
    },
    {
     "data": {
      "text/html": [
       "0.433583959899749"
      ],
      "text/latex": [
       "0.433583959899749"
      ],
      "text/markdown": [
       "0.433583959899749"
      ],
      "text/plain": [
       "[1] 0.433584"
      ]
     },
     "metadata": {},
     "output_type": "display_data"
    },
    {
     "data": {
      "image/png": "[encoded data removed]",
      "text/plain": [
       "plot without title"
      ]
     },
     "metadata": {},
     "output_type": "display_data"
    }
   ],
   "source": [
    "model <- glm(t2_2 ~ sex + definition + need + purpose \n",
    "              + interest, data =train, family = binomial)\n",
    "summary(model)\n",
    "\n",
    "\n",
    "anova(model, test=\"Chisq\")\n",
    "\n",
    "\n",
    "p <- predict(model, newdata=test, type=\"response\")\n",
    "pr <- prediction(p, test$t2_2)\n",
    "prf <- performance(pr, measure = \"tpr\", x.measure = \"fpr\")\n",
    "plot(prf)\n",
    "\n",
    "auc <- performance(pr, measure = \"auc\")\n",
    "auc <- auc@y.values[[1]]\n",
    "auc"
   ]
  },
  {
   "cell_type": "code",
   "execution_count": 22,
   "metadata": {},
   "outputs": [
    {
     "data": {
      "text/plain": [
       "\n",
       "Call:\n",
       "glm(formula = t2_3 ~ sex + definition + need + purpose + interest, \n",
       "    family = binomial, data = train)\n",
       "\n",
       "Deviance Residuals: \n",
       "    Min       1Q   Median       3Q      Max  \n",
       "-1.2254  -0.7932  -0.6379  -0.5223   2.0055  \n",
       "\n",
       "Coefficients:\n",
       "                  Estimate Std. Error z value Pr(>|z|)\n",
       "(Intercept)       -0.91079    0.81019  -1.124    0.261\n",
       "sexMale            0.55159    0.51519   1.071    0.284\n",
       "definitionharmony -0.74144    0.51153  -1.449    0.147\n",
       "needharmony        0.19157    0.46368   0.413    0.679\n",
       "purposecosmetic   -0.25211    0.60245  -0.418    0.676\n",
       "purposeetc        -0.38293    0.53933  -0.710    0.478\n",
       "interest           0.05596    0.18084   0.309    0.757\n",
       "\n",
       "(Dispersion parameter for binomial family taken to be 1)\n",
       "\n",
       "    Null deviance: 167.02  on 148  degrees of freedom\n",
       "Residual deviance: 162.05  on 142  degrees of freedom\n",
       "AIC: 176.05\n",
       "\n",
       "Number of Fisher Scoring iterations: 4\n"
      ]
     },
     "metadata": {},
     "output_type": "display_data"
    },
    {
     "data": {
      "text/html": [
       "<table>\n",
       "<thead><tr><th></th><th scope=col>Df</th><th scope=col>Deviance</th><th scope=col>Resid. Df</th><th scope=col>Resid. Dev</th><th scope=col>Pr(&gt;Chi)</th></tr></thead>\n",
       "<tbody>\n",
       "\t<tr><th scope=row>NULL</th><td>NA        </td><td>        NA</td><td>148       </td><td>167.0243  </td><td>       NA </td></tr>\n",
       "\t<tr><th scope=row>sex</th><td> 1        </td><td>2.09049013</td><td>147       </td><td>164.9338  </td><td>0.1482185 </td></tr>\n",
       "\t<tr><th scope=row>definition</th><td> 1        </td><td>2.13801477</td><td>146       </td><td>162.7958  </td><td>0.1436877 </td></tr>\n",
       "\t<tr><th scope=row>need</th><td> 1        </td><td>0.18131366</td><td>145       </td><td>162.6145  </td><td>0.6702467 </td></tr>\n",
       "\t<tr><th scope=row>purpose</th><td> 2        </td><td>0.47249261</td><td>143       </td><td>162.1420  </td><td>0.7895862 </td></tr>\n",
       "\t<tr><th scope=row>interest</th><td> 1        </td><td>0.09602495</td><td>142       </td><td>162.0460  </td><td>0.7566530 </td></tr>\n",
       "</tbody>\n",
       "</table>\n"
      ],
      "text/latex": [
       "\\begin{tabular}{r|lllll}\n",
       "  & Df & Deviance & Resid. Df & Resid. Dev & Pr(>Chi)\\\\\n",
       "\\hline\n",
       "\tNULL & NA         &         NA & 148        & 167.0243   &        NA \\\\\n",
       "\tsex &  1         & 2.09049013 & 147        & 164.9338   & 0.1482185 \\\\\n",
       "\tdefinition &  1         & 2.13801477 & 146        & 162.7958   & 0.1436877 \\\\\n",
       "\tneed &  1         & 0.18131366 & 145        & 162.6145   & 0.6702467 \\\\\n",
       "\tpurpose &  2         & 0.47249261 & 143        & 162.1420   & 0.7895862 \\\\\n",
       "\tinterest &  1         & 0.09602495 & 142        & 162.0460   & 0.7566530 \\\\\n",
       "\\end{tabular}\n"
      ],
      "text/markdown": [
       "\n",
       "| <!--/--> | Df | Deviance | Resid. Df | Resid. Dev | Pr(>Chi) |\n",
       "|---|---|---|---|---|---|\n",
       "| NULL | NA         |         NA | 148        | 167.0243   |        NA  |\n",
       "| sex |  1         | 2.09049013 | 147        | 164.9338   | 0.1482185  |\n",
       "| definition |  1         | 2.13801477 | 146        | 162.7958   | 0.1436877  |\n",
       "| need |  1         | 0.18131366 | 145        | 162.6145   | 0.6702467  |\n",
       "| purpose |  2         | 0.47249261 | 143        | 162.1420   | 0.7895862  |\n",
       "| interest |  1         | 0.09602495 | 142        | 162.0460   | 0.7566530  |\n",
       "\n"
      ],
      "text/plain": [
       "           Df Deviance   Resid. Df Resid. Dev Pr(>Chi) \n",
       "NULL       NA         NA 148       167.0243          NA\n",
       "sex         1 2.09049013 147       164.9338   0.1482185\n",
       "definition  1 2.13801477 146       162.7958   0.1436877\n",
       "need        1 0.18131366 145       162.6145   0.6702467\n",
       "purpose     2 0.47249261 143       162.1420   0.7895862\n",
       "interest    1 0.09602495 142       162.0460   0.7566530"
      ]
     },
     "metadata": {},
     "output_type": "display_data"
    },
    {
     "data": {
      "text/html": [
       "0.588068181818182"
      ],
      "text/latex": [
       "0.588068181818182"
      ],
      "text/markdown": [
       "0.588068181818182"
      ],
      "text/plain": [
       "[1] 0.5880682"
      ]
     },
     "metadata": {},
     "output_type": "display_data"
    },
    {
     "data": {
      "image/png": "[encoded data removed]",
      "text/plain": [
       "plot without title"
      ]
     },
     "metadata": {},
     "output_type": "display_data"
    }
   ],
   "source": [
    "model <- glm(t2_3 ~ sex + definition + need + purpose \n",
    "              + interest, data =train, family = binomial)\n",
    "summary(model)\n",
    "\n",
    "\n",
    "anova(model, test=\"Chisq\")\n",
    "\n",
    "\n",
    "p <- predict(model, newdata=test, type=\"response\")\n",
    "pr <- prediction(p, test$t2_3)\n",
    "prf <- performance(pr, measure = \"tpr\", x.measure = \"fpr\")\n",
    "plot(prf)\n",
    "\n",
    "auc <- performance(pr, measure = \"auc\")\n",
    "auc <- auc@y.values[[1]]\n",
    "auc"
   ]
  },
  {
   "cell_type": "code",
   "execution_count": 23,
   "metadata": {},
   "outputs": [
    {
     "data": {
      "text/plain": [
       "\n",
       "Call:\n",
       "glm(formula = t2_4 ~ sex + definition + need + purpose + interest, \n",
       "    family = binomial, data = train)\n",
       "\n",
       "Deviance Residuals: \n",
       "    Min       1Q   Median       3Q      Max  \n",
       "-0.9908  -0.7647  -0.6561  -0.5115   1.8698  \n",
       "\n",
       "Coefficients:\n",
       "                  Estimate Std. Error z value Pr(>|z|)\n",
       "(Intercept)       -0.91255    0.83639  -1.091    0.275\n",
       "sexMale           -0.30127    0.53453  -0.564    0.573\n",
       "definitionharmony  0.58664    0.52897   1.109    0.267\n",
       "needharmony       -0.62364    0.44712  -1.395    0.163\n",
       "purposecosmetic   -0.01944    0.57032  -0.034    0.973\n",
       "purposeetc        -0.39003    0.53935  -0.723    0.470\n",
       "interest          -0.04344    0.18651  -0.233    0.816\n",
       "\n",
       "(Dispersion parameter for binomial family taken to be 1)\n",
       "\n",
       "    Null deviance: 162.45  on 148  degrees of freedom\n",
       "Residual deviance: 159.09  on 142  degrees of freedom\n",
       "AIC: 173.09\n",
       "\n",
       "Number of Fisher Scoring iterations: 4\n"
      ]
     },
     "metadata": {},
     "output_type": "display_data"
    },
    {
     "data": {
      "text/html": [
       "<table>\n",
       "<thead><tr><th></th><th scope=col>Df</th><th scope=col>Deviance</th><th scope=col>Resid. Df</th><th scope=col>Resid. Dev</th><th scope=col>Pr(&gt;Chi)</th></tr></thead>\n",
       "<tbody>\n",
       "\t<tr><th scope=row>NULL</th><td>NA        </td><td>        NA</td><td>148       </td><td>162.4484  </td><td>       NA </td></tr>\n",
       "\t<tr><th scope=row>sex</th><td> 1        </td><td>0.11464222</td><td>147       </td><td>162.3337  </td><td>0.7349197 </td></tr>\n",
       "\t<tr><th scope=row>definition</th><td> 1        </td><td>0.39068485</td><td>146       </td><td>161.9431  </td><td>0.5319396 </td></tr>\n",
       "\t<tr><th scope=row>need</th><td> 1        </td><td>2.07386285</td><td>145       </td><td>159.8692  </td><td>0.1498416 </td></tr>\n",
       "\t<tr><th scope=row>purpose</th><td> 2        </td><td>0.72615592</td><td>143       </td><td>159.1430  </td><td>0.6955322 </td></tr>\n",
       "\t<tr><th scope=row>interest</th><td> 1        </td><td>0.05420646</td><td>142       </td><td>159.0888  </td><td>0.8158990 </td></tr>\n",
       "</tbody>\n",
       "</table>\n"
      ],
      "text/latex": [
       "\\begin{tabular}{r|lllll}\n",
       "  & Df & Deviance & Resid. Df & Resid. Dev & Pr(>Chi)\\\\\n",
       "\\hline\n",
       "\tNULL & NA         &         NA & 148        & 162.4484   &        NA \\\\\n",
       "\tsex &  1         & 0.11464222 & 147        & 162.3337   & 0.7349197 \\\\\n",
       "\tdefinition &  1         & 0.39068485 & 146        & 161.9431   & 0.5319396 \\\\\n",
       "\tneed &  1         & 2.07386285 & 145        & 159.8692   & 0.1498416 \\\\\n",
       "\tpurpose &  2         & 0.72615592 & 143        & 159.1430   & 0.6955322 \\\\\n",
       "\tinterest &  1         & 0.05420646 & 142        & 159.0888   & 0.8158990 \\\\\n",
       "\\end{tabular}\n"
      ],
      "text/markdown": [
       "\n",
       "| <!--/--> | Df | Deviance | Resid. Df | Resid. Dev | Pr(>Chi) |\n",
       "|---|---|---|---|---|---|\n",
       "| NULL | NA         |         NA | 148        | 162.4484   |        NA  |\n",
       "| sex |  1         | 0.11464222 | 147        | 162.3337   | 0.7349197  |\n",
       "| definition |  1         | 0.39068485 | 146        | 161.9431   | 0.5319396  |\n",
       "| need |  1         | 2.07386285 | 145        | 159.8692   | 0.1498416  |\n",
       "| purpose |  2         | 0.72615592 | 143        | 159.1430   | 0.6955322  |\n",
       "| interest |  1         | 0.05420646 | 142        | 159.0888   | 0.8158990  |\n",
       "\n"
      ],
      "text/plain": [
       "           Df Deviance   Resid. Df Resid. Dev Pr(>Chi) \n",
       "NULL       NA         NA 148       162.4484          NA\n",
       "sex         1 0.11464222 147       162.3337   0.7349197\n",
       "definition  1 0.39068485 146       161.9431   0.5319396\n",
       "need        1 2.07386285 145       159.8692   0.1498416\n",
       "purpose     2 0.72615592 143       159.1430   0.6955322\n",
       "interest    1 0.05420646 142       159.0888   0.8158990"
      ]
     },
     "metadata": {},
     "output_type": "display_data"
    },
    {
     "data": {
      "text/html": [
       "0.450257289879931"
      ],
      "text/latex": [
       "0.450257289879931"
      ],
      "text/markdown": [
       "0.450257289879931"
      ],
      "text/plain": [
       "[1] 0.4502573"
      ]
     },
     "metadata": {},
     "output_type": "display_data"
    },
    {
     "data": {
      "image/png": "[encoded data removed]",
      "text/plain": [
       "plot without title"
      ]
     },
     "metadata": {},
     "output_type": "display_data"
    }
   ],
   "source": [
    "model <- glm(t2_4 ~ sex + definition + need + purpose \n",
    "              + interest, data =train, family = binomial)\n",
    "summary(model)\n",
    "\n",
    "\n",
    "anova(model, test=\"Chisq\")\n",
    "\n",
    "\n",
    "p <- predict(model, newdata=test, type=\"response\")\n",
    "pr <- prediction(p, test$t2_4)\n",
    "prf <- performance(pr, measure = \"tpr\", x.measure = \"fpr\")\n",
    "plot(prf)\n",
    "\n",
    "auc <- performance(pr, measure = \"auc\")\n",
    "auc <- auc@y.values[[1]]\n",
    "auc"
   ]
  },
  {
   "cell_type": "code",
   "execution_count": 24,
   "metadata": {},
   "outputs": [
    {
     "data": {
      "text/plain": [
       "\n",
       "Call:\n",
       "glm(formula = t2_5 ~ sex + definition + need + purpose + interest, \n",
       "    family = binomial, data = train)\n",
       "\n",
       "Deviance Residuals: \n",
       "    Min       1Q   Median       3Q      Max  \n",
       "-0.7112  -0.5532  -0.4560  -0.3876   2.3523  \n",
       "\n",
       "Coefficients:\n",
       "                  Estimate Std. Error z value Pr(>|z|)  \n",
       "(Intercept)       -2.79168    1.12936  -2.472   0.0134 *\n",
       "sexMale            0.08438    0.77976   0.108   0.9138  \n",
       "definitionharmony -0.28458    0.66566  -0.428   0.6690  \n",
       "needharmony        0.08982    0.62175   0.144   0.8851  \n",
       "purposecosmetic    0.60631    0.80267   0.755   0.4500  \n",
       "purposeetc         0.82038    0.71512   1.147   0.2513  \n",
       "interest           0.14514    0.24483   0.593   0.5533  \n",
       "---\n",
       "Signif. codes:  0 '***' 0.001 '**' 0.01 '*' 0.05 '.' 0.1 ' ' 1\n",
       "\n",
       "(Dispersion parameter for binomial family taken to be 1)\n",
       "\n",
       "    Null deviance: 109.82  on 148  degrees of freedom\n",
       "Residual deviance: 106.81  on 142  degrees of freedom\n",
       "AIC: 120.81\n",
       "\n",
       "Number of Fisher Scoring iterations: 5\n"
      ]
     },
     "metadata": {},
     "output_type": "display_data"
    },
    {
     "data": {
      "text/html": [
       "<table>\n",
       "<thead><tr><th></th><th scope=col>Df</th><th scope=col>Deviance</th><th scope=col>Resid. Df</th><th scope=col>Resid. Dev</th><th scope=col>Pr(&gt;Chi)</th></tr></thead>\n",
       "<tbody>\n",
       "\t<tr><th scope=row>NULL</th><td>NA        </td><td>        NA</td><td>148       </td><td>109.8209  </td><td>       NA </td></tr>\n",
       "\t<tr><th scope=row>sex</th><td> 1        </td><td>0.75721902</td><td>147       </td><td>109.0637  </td><td>0.3842002 </td></tr>\n",
       "\t<tr><th scope=row>definition</th><td> 1        </td><td>0.26008099</td><td>146       </td><td>108.8036  </td><td>0.6100645 </td></tr>\n",
       "\t<tr><th scope=row>need</th><td> 1        </td><td>0.01929968</td><td>145       </td><td>108.7843  </td><td>0.8895108 </td></tr>\n",
       "\t<tr><th scope=row>purpose</th><td> 2        </td><td>1.61763441</td><td>143       </td><td>107.1667  </td><td>0.4453846 </td></tr>\n",
       "\t<tr><th scope=row>interest</th><td> 1        </td><td>0.35651743</td><td>142       </td><td>106.8102  </td><td>0.5504468 </td></tr>\n",
       "</tbody>\n",
       "</table>\n"
      ],
      "text/latex": [
       "\\begin{tabular}{r|lllll}\n",
       "  & Df & Deviance & Resid. Df & Resid. Dev & Pr(>Chi)\\\\\n",
       "\\hline\n",
       "\tNULL & NA         &         NA & 148        & 109.8209   &        NA \\\\\n",
       "\tsex &  1         & 0.75721902 & 147        & 109.0637   & 0.3842002 \\\\\n",
       "\tdefinition &  1         & 0.26008099 & 146        & 108.8036   & 0.6100645 \\\\\n",
       "\tneed &  1         & 0.01929968 & 145        & 108.7843   & 0.8895108 \\\\\n",
       "\tpurpose &  2         & 1.61763441 & 143        & 107.1667   & 0.4453846 \\\\\n",
       "\tinterest &  1         & 0.35651743 & 142        & 106.8102   & 0.5504468 \\\\\n",
       "\\end{tabular}\n"
      ],
      "text/markdown": [
       "\n",
       "| <!--/--> | Df | Deviance | Resid. Df | Resid. Dev | Pr(>Chi) |\n",
       "|---|---|---|---|---|---|\n",
       "| NULL | NA         |         NA | 148        | 109.8209   |        NA  |\n",
       "| sex |  1         | 0.75721902 | 147        | 109.0637   | 0.3842002  |\n",
       "| definition |  1         | 0.26008099 | 146        | 108.8036   | 0.6100645  |\n",
       "| need |  1         | 0.01929968 | 145        | 108.7843   | 0.8895108  |\n",
       "| purpose |  2         | 1.61763441 | 143        | 107.1667   | 0.4453846  |\n",
       "| interest |  1         | 0.35651743 | 142        | 106.8102   | 0.5504468  |\n",
       "\n"
      ],
      "text/plain": [
       "           Df Deviance   Resid. Df Resid. Dev Pr(>Chi) \n",
       "NULL       NA         NA 148       109.8209          NA\n",
       "sex         1 0.75721902 147       109.0637   0.3842002\n",
       "definition  1 0.26008099 146       108.8036   0.6100645\n",
       "need        1 0.01929968 145       108.7843   0.8895108\n",
       "purpose     2 1.61763441 143       107.1667   0.4453846\n",
       "interest    1 0.35651743 142       106.8102   0.5504468"
      ]
     },
     "metadata": {},
     "output_type": "display_data"
    },
    {
     "data": {
      "text/html": [
       "0.546223958333333"
      ],
      "text/latex": [
       "0.546223958333333"
      ],
      "text/markdown": [
       "0.546223958333333"
      ],
      "text/plain": [
       "[1] 0.546224"
      ]
     },
     "metadata": {},
     "output_type": "display_data"
    },
    {
     "data": {
      "image/png": "[encoded data removed]",
      "text/plain": [
       "plot without title"
      ]
     },
     "metadata": {},
     "output_type": "display_data"
    }
   ],
   "source": [
    "model <- glm(t2_5 ~ sex + definition + need + purpose \n",
    "              + interest, data =train, family = binomial)\n",
    "summary(model)\n",
    "\n",
    "\n",
    "anova(model, test=\"Chisq\")\n",
    "\n",
    "\n",
    "p <- predict(model, newdata=test, type=\"response\")\n",
    "pr <- prediction(p, test$t2_5)\n",
    "prf <- performance(pr, measure = \"tpr\", x.measure = \"fpr\")\n",
    "plot(prf)\n",
    "\n",
    "auc <- performance(pr, measure = \"auc\")\n",
    "auc <- auc@y.values[[1]]\n",
    "auc"
   ]
  },
  {
   "cell_type": "code",
   "execution_count": 25,
   "metadata": {},
   "outputs": [
    {
     "data": {
      "text/plain": [
       "\n",
       "Call:\n",
       "glm(formula = d1_1 ~ sex + definition + need + purpose + interest, \n",
       "    family = binomial, data = train)\n",
       "\n",
       "Deviance Residuals: \n",
       "    Min       1Q   Median       3Q      Max  \n",
       "-0.8295  -0.6969  -0.6408  -0.5454   1.9994  \n",
       "\n",
       "Coefficients:\n",
       "                  Estimate Std. Error z value Pr(>|z|)  \n",
       "(Intercept)       -2.02891    0.89949  -2.256   0.0241 *\n",
       "sexMale            0.04152    0.56916   0.073   0.9418  \n",
       "definitionharmony -0.13337    0.55622  -0.240   0.8105  \n",
       "needharmony        0.32087    0.50031   0.641   0.5213  \n",
       "purposecosmetic   -0.06941    0.65145  -0.107   0.9152  \n",
       "purposeetc         0.28232    0.55188   0.512   0.6090  \n",
       "interest           0.13383    0.19590   0.683   0.4945  \n",
       "---\n",
       "Signif. codes:  0 '***' 0.001 '**' 0.01 '*' 0.05 '.' 0.1 ' ' 1\n",
       "\n",
       "(Dispersion parameter for binomial family taken to be 1)\n",
       "\n",
       "    Null deviance: 149.67  on 148  degrees of freedom\n",
       "Residual deviance: 148.16  on 142  degrees of freedom\n",
       "AIC: 162.16\n",
       "\n",
       "Number of Fisher Scoring iterations: 4\n"
      ]
     },
     "metadata": {},
     "output_type": "display_data"
    },
    {
     "data": {
      "text/html": [
       "<table>\n",
       "<thead><tr><th></th><th scope=col>Df</th><th scope=col>Deviance</th><th scope=col>Resid. Df</th><th scope=col>Resid. Dev</th><th scope=col>Pr(&gt;Chi)</th></tr></thead>\n",
       "<tbody>\n",
       "\t<tr><th scope=row>NULL</th><td>NA         </td><td>         NA</td><td>148        </td><td>149.6728   </td><td>       NA  </td></tr>\n",
       "\t<tr><th scope=row>sex</th><td> 1         </td><td>0.013451723</td><td>147        </td><td>149.6593   </td><td>0.9076672  </td></tr>\n",
       "\t<tr><th scope=row>definition</th><td> 1         </td><td>0.001532281</td><td>146        </td><td>149.6578   </td><td>0.9687753  </td></tr>\n",
       "\t<tr><th scope=row>need</th><td> 1         </td><td>0.457385834</td><td>145        </td><td>149.2004   </td><td>0.4988482  </td></tr>\n",
       "\t<tr><th scope=row>purpose</th><td> 2         </td><td>0.569230438</td><td>143        </td><td>148.6312   </td><td>0.7523037  </td></tr>\n",
       "\t<tr><th scope=row>interest</th><td> 1         </td><td>0.471562632</td><td>142        </td><td>148.1596   </td><td>0.4922692  </td></tr>\n",
       "</tbody>\n",
       "</table>\n"
      ],
      "text/latex": [
       "\\begin{tabular}{r|lllll}\n",
       "  & Df & Deviance & Resid. Df & Resid. Dev & Pr(>Chi)\\\\\n",
       "\\hline\n",
       "\tNULL & NA          &          NA & 148         & 149.6728    &        NA  \\\\\n",
       "\tsex &  1          & 0.013451723 & 147         & 149.6593    & 0.9076672  \\\\\n",
       "\tdefinition &  1          & 0.001532281 & 146         & 149.6578    & 0.9687753  \\\\\n",
       "\tneed &  1          & 0.457385834 & 145         & 149.2004    & 0.4988482  \\\\\n",
       "\tpurpose &  2          & 0.569230438 & 143         & 148.6312    & 0.7523037  \\\\\n",
       "\tinterest &  1          & 0.471562632 & 142         & 148.1596    & 0.4922692  \\\\\n",
       "\\end{tabular}\n"
      ],
      "text/markdown": [
       "\n",
       "| <!--/--> | Df | Deviance | Resid. Df | Resid. Dev | Pr(>Chi) |\n",
       "|---|---|---|---|---|---|\n",
       "| NULL | NA          |          NA | 148         | 149.6728    |        NA   |\n",
       "| sex |  1          | 0.013451723 | 147         | 149.6593    | 0.9076672   |\n",
       "| definition |  1          | 0.001532281 | 146         | 149.6578    | 0.9687753   |\n",
       "| need |  1          | 0.457385834 | 145         | 149.2004    | 0.4988482   |\n",
       "| purpose |  2          | 0.569230438 | 143         | 148.6312    | 0.7523037   |\n",
       "| interest |  1          | 0.471562632 | 142         | 148.1596    | 0.4922692   |\n",
       "\n"
      ],
      "text/plain": [
       "           Df Deviance    Resid. Df Resid. Dev Pr(>Chi) \n",
       "NULL       NA          NA 148       149.6728          NA\n",
       "sex         1 0.013451723 147       149.6593   0.9076672\n",
       "definition  1 0.001532281 146       149.6578   0.9687753\n",
       "need        1 0.457385834 145       149.2004   0.4988482\n",
       "purpose     2 0.569230438 143       148.6312   0.7523037\n",
       "interest    1 0.471562632 142       148.1596   0.4922692"
      ]
     },
     "metadata": {},
     "output_type": "display_data"
    },
    {
     "data": {
      "text/html": [
       "0.53448275862069"
      ],
      "text/latex": [
       "0.53448275862069"
      ],
      "text/markdown": [
       "0.53448275862069"
      ],
      "text/plain": [
       "[1] 0.5344828"
      ]
     },
     "metadata": {},
     "output_type": "display_data"
    },
    {
     "data": {
      "image/png": "[encoded data removed]",
      "text/plain": [
       "plot without title"
      ]
     },
     "metadata": {},
     "output_type": "display_data"
    }
   ],
   "source": [
    "model <- glm(d1_1 ~ sex + definition + need + purpose \n",
    "              + interest, data =train, family = binomial)\n",
    "summary(model)\n",
    "\n",
    "\n",
    "anova(model, test=\"Chisq\")\n",
    "\n",
    "\n",
    "p <- predict(model, newdata=test, type=\"response\")\n",
    "pr <- prediction(p, test$d1_1)\n",
    "prf <- performance(pr, measure = \"tpr\", x.measure = \"fpr\")\n",
    "plot(prf)\n",
    "\n",
    "auc <- performance(pr, measure = \"auc\")\n",
    "auc <- auc@y.values[[1]]\n",
    "auc"
   ]
  },
  {
   "cell_type": "code",
   "execution_count": 26,
   "metadata": {},
   "outputs": [
    {
     "data": {
      "text/plain": [
       "\n",
       "Call:\n",
       "glm(formula = d1_2 ~ sex + definition + need + purpose + interest, \n",
       "    family = binomial, data = train)\n",
       "\n",
       "Deviance Residuals: \n",
       "    Min       1Q   Median       3Q      Max  \n",
       "-1.4210  -0.9304  -0.7650   1.2584   1.8073  \n",
       "\n",
       "Coefficients:\n",
       "                  Estimate Std. Error z value Pr(>|z|)\n",
       "(Intercept)         0.8933     0.7655   1.167    0.243\n",
       "sexMale            -0.4785     0.4904  -0.976    0.329\n",
       "definitionharmony  -0.4080     0.4564  -0.894    0.371\n",
       "needharmony        -0.5804     0.4100  -1.415    0.157\n",
       "purposecosmetic    -0.4248     0.5358  -0.793    0.428\n",
       "purposeetc         -0.4365     0.4785  -0.912    0.362\n",
       "interest           -0.1684     0.1706  -0.987    0.324\n",
       "\n",
       "(Dispersion parameter for binomial family taken to be 1)\n",
       "\n",
       "    Null deviance: 191.48  on 148  degrees of freedom\n",
       "Residual deviance: 183.84  on 142  degrees of freedom\n",
       "AIC: 197.84\n",
       "\n",
       "Number of Fisher Scoring iterations: 4\n"
      ]
     },
     "metadata": {},
     "output_type": "display_data"
    },
    {
     "data": {
      "text/html": [
       "<table>\n",
       "<thead><tr><th></th><th scope=col>Df</th><th scope=col>Deviance</th><th scope=col>Resid. Df</th><th scope=col>Resid. Dev</th><th scope=col>Pr(&gt;Chi)</th></tr></thead>\n",
       "<tbody>\n",
       "\t<tr><th scope=row>NULL</th><td>NA       </td><td>      NA </td><td>148      </td><td>191.4762 </td><td>       NA</td></tr>\n",
       "\t<tr><th scope=row>sex</th><td> 1       </td><td>1.072054 </td><td>147      </td><td>190.4041 </td><td>0.3004819</td></tr>\n",
       "\t<tr><th scope=row>definition</th><td> 1       </td><td>2.511711 </td><td>146      </td><td>187.8924 </td><td>0.1130032</td></tr>\n",
       "\t<tr><th scope=row>need</th><td> 1       </td><td>1.901650 </td><td>145      </td><td>185.9907 </td><td>0.1678938</td></tr>\n",
       "\t<tr><th scope=row>purpose</th><td> 2       </td><td>1.172296 </td><td>143      </td><td>184.8184 </td><td>0.5564667</td></tr>\n",
       "\t<tr><th scope=row>interest</th><td> 1       </td><td>0.981152 </td><td>142      </td><td>183.8373 </td><td>0.3219146</td></tr>\n",
       "</tbody>\n",
       "</table>\n"
      ],
      "text/latex": [
       "\\begin{tabular}{r|lllll}\n",
       "  & Df & Deviance & Resid. Df & Resid. Dev & Pr(>Chi)\\\\\n",
       "\\hline\n",
       "\tNULL & NA        &       NA  & 148       & 191.4762  &        NA\\\\\n",
       "\tsex &  1        & 1.072054  & 147       & 190.4041  & 0.3004819\\\\\n",
       "\tdefinition &  1        & 2.511711  & 146       & 187.8924  & 0.1130032\\\\\n",
       "\tneed &  1        & 1.901650  & 145       & 185.9907  & 0.1678938\\\\\n",
       "\tpurpose &  2        & 1.172296  & 143       & 184.8184  & 0.5564667\\\\\n",
       "\tinterest &  1        & 0.981152  & 142       & 183.8373  & 0.3219146\\\\\n",
       "\\end{tabular}\n"
      ],
      "text/markdown": [
       "\n",
       "| <!--/--> | Df | Deviance | Resid. Df | Resid. Dev | Pr(>Chi) |\n",
       "|---|---|---|---|---|---|\n",
       "| NULL | NA        |       NA  | 148       | 191.4762  |        NA |\n",
       "| sex |  1        | 1.072054  | 147       | 190.4041  | 0.3004819 |\n",
       "| definition |  1        | 2.511711  | 146       | 187.8924  | 0.1130032 |\n",
       "| need |  1        | 1.901650  | 145       | 185.9907  | 0.1678938 |\n",
       "| purpose |  2        | 1.172296  | 143       | 184.8184  | 0.5564667 |\n",
       "| interest |  1        | 0.981152  | 142       | 183.8373  | 0.3219146 |\n",
       "\n"
      ],
      "text/plain": [
       "           Df Deviance Resid. Df Resid. Dev Pr(>Chi) \n",
       "NULL       NA       NA 148       191.4762          NA\n",
       "sex         1 1.072054 147       190.4041   0.3004819\n",
       "definition  1 2.511711 146       187.8924   0.1130032\n",
       "need        1 1.901650 145       185.9907   0.1678938\n",
       "purpose     2 1.172296 143       184.8184   0.5564667\n",
       "interest    1 0.981152 142       183.8373   0.3219146"
      ]
     },
     "metadata": {},
     "output_type": "display_data"
    },
    {
     "data": {
      "text/html": [
       "0.649431818181818"
      ],
      "text/latex": [
       "0.649431818181818"
      ],
      "text/markdown": [
       "0.649431818181818"
      ],
      "text/plain": [
       "[1] 0.6494318"
      ]
     },
     "metadata": {},
     "output_type": "display_data"
    },
    {
     "data": {
      "image/png": "[encoded data removed]",
      "text/plain": [
       "plot without title"
      ]
     },
     "metadata": {},
     "output_type": "display_data"
    }
   ],
   "source": [
    "model <- glm(d1_2 ~ sex + definition + need + purpose \n",
    "              + interest, data =train, family = binomial)\n",
    "summary(model)\n",
    "\n",
    "\n",
    "anova(model, test=\"Chisq\")\n",
    "\n",
    "\n",
    "p <- predict(model, newdata=test, type=\"response\")\n",
    "pr <- prediction(p, test$d1_2)\n",
    "prf <- performance(pr, measure = \"tpr\", x.measure = \"fpr\")\n",
    "plot(prf)\n",
    "\n",
    "auc <- performance(pr, measure = \"auc\")\n",
    "auc <- auc@y.values[[1]]\n",
    "auc"
   ]
  },
  {
   "cell_type": "code",
   "execution_count": 27,
   "metadata": {},
   "outputs": [
    {
     "data": {
      "text/plain": [
       "\n",
       "Call:\n",
       "glm(formula = d1_3 ~ sex + definition + need + purpose + interest, \n",
       "    family = binomial, data = train)\n",
       "\n",
       "Deviance Residuals: \n",
       "    Min       1Q   Median       3Q      Max  \n",
       "-1.0273  -0.5873  -0.4919  -0.3760   2.3871  \n",
       "\n",
       "Coefficients:\n",
       "                  Estimate Std. Error z value Pr(>|z|)   \n",
       "(Intercept)        -3.6884     1.1512  -3.204  0.00135 **\n",
       "sexMale             1.0493     0.7080   1.482  0.13833   \n",
       "definitionharmony   0.5430     0.7532   0.721  0.47092   \n",
       "needharmony         0.2299     0.5938   0.387  0.69863   \n",
       "purposecosmetic     0.7481     0.8109   0.923  0.35626   \n",
       "purposeetc          0.6420     0.7442   0.863  0.38836   \n",
       "interest            0.1508     0.2232   0.676  0.49907   \n",
       "---\n",
       "Signif. codes:  0 '***' 0.001 '**' 0.01 '*' 0.05 '.' 0.1 ' ' 1\n",
       "\n",
       "(Dispersion parameter for binomial family taken to be 1)\n",
       "\n",
       "    Null deviance: 117.52  on 148  degrees of freedom\n",
       "Residual deviance: 112.71  on 142  degrees of freedom\n",
       "AIC: 126.71\n",
       "\n",
       "Number of Fisher Scoring iterations: 5\n"
      ]
     },
     "metadata": {},
     "output_type": "display_data"
    },
    {
     "data": {
      "text/html": [
       "<table>\n",
       "<thead><tr><th></th><th scope=col>Df</th><th scope=col>Deviance</th><th scope=col>Resid. Df</th><th scope=col>Resid. Dev</th><th scope=col>Pr(&gt;Chi)</th></tr></thead>\n",
       "<tbody>\n",
       "\t<tr><th scope=row>NULL</th><td>NA       </td><td>       NA</td><td>148      </td><td>117.5151 </td><td>       NA</td></tr>\n",
       "\t<tr><th scope=row>sex</th><td> 1       </td><td>2.0466900</td><td>147      </td><td>115.4684 </td><td>0.1525375</td></tr>\n",
       "\t<tr><th scope=row>definition</th><td> 1       </td><td>0.8909716</td><td>146      </td><td>114.5774 </td><td>0.3452141</td></tr>\n",
       "\t<tr><th scope=row>need</th><td> 1       </td><td>0.1692685</td><td>145      </td><td>114.4082 </td><td>0.6807627</td></tr>\n",
       "\t<tr><th scope=row>purpose</th><td> 2       </td><td>1.2339033</td><td>143      </td><td>113.1743 </td><td>0.5395868</td></tr>\n",
       "\t<tr><th scope=row>interest</th><td> 1       </td><td>0.4630579</td><td>142      </td><td>112.7112 </td><td>0.4961983</td></tr>\n",
       "</tbody>\n",
       "</table>\n"
      ],
      "text/latex": [
       "\\begin{tabular}{r|lllll}\n",
       "  & Df & Deviance & Resid. Df & Resid. Dev & Pr(>Chi)\\\\\n",
       "\\hline\n",
       "\tNULL & NA        &        NA & 148       & 117.5151  &        NA\\\\\n",
       "\tsex &  1        & 2.0466900 & 147       & 115.4684  & 0.1525375\\\\\n",
       "\tdefinition &  1        & 0.8909716 & 146       & 114.5774  & 0.3452141\\\\\n",
       "\tneed &  1        & 0.1692685 & 145       & 114.4082  & 0.6807627\\\\\n",
       "\tpurpose &  2        & 1.2339033 & 143       & 113.1743  & 0.5395868\\\\\n",
       "\tinterest &  1        & 0.4630579 & 142       & 112.7112  & 0.4961983\\\\\n",
       "\\end{tabular}\n"
      ],
      "text/markdown": [
       "\n",
       "| <!--/--> | Df | Deviance | Resid. Df | Resid. Dev | Pr(>Chi) |\n",
       "|---|---|---|---|---|---|\n",
       "| NULL | NA        |        NA | 148       | 117.5151  |        NA |\n",
       "| sex |  1        | 2.0466900 | 147       | 115.4684  | 0.1525375 |\n",
       "| definition |  1        | 0.8909716 | 146       | 114.5774  | 0.3452141 |\n",
       "| need |  1        | 0.1692685 | 145       | 114.4082  | 0.6807627 |\n",
       "| purpose |  2        | 1.2339033 | 143       | 113.1743  | 0.5395868 |\n",
       "| interest |  1        | 0.4630579 | 142       | 112.7112  | 0.4961983 |\n",
       "\n"
      ],
      "text/plain": [
       "           Df Deviance  Resid. Df Resid. Dev Pr(>Chi) \n",
       "NULL       NA        NA 148       117.5151          NA\n",
       "sex         1 2.0466900 147       115.4684   0.1525375\n",
       "definition  1 0.8909716 146       114.5774   0.3452141\n",
       "need        1 0.1692685 145       114.4082   0.6807627\n",
       "purpose     2 1.2339033 143       113.1743   0.5395868\n",
       "interest    1 0.4630579 142       112.7112   0.4961983"
      ]
     },
     "metadata": {},
     "output_type": "display_data"
    },
    {
     "data": {
      "text/html": [
       "0.586466165413534"
      ],
      "text/latex": [
       "0.586466165413534"
      ],
      "text/markdown": [
       "0.586466165413534"
      ],
      "text/plain": [
       "[1] 0.5864662"
      ]
     },
     "metadata": {},
     "output_type": "display_data"
    },
    {
     "data": {
      "image/png": "[encoded data removed]",
      "text/plain": [
       "plot without title"
      ]
     },
     "metadata": {},
     "output_type": "display_data"
    }
   ],
   "source": [
    "model <- glm(d1_3 ~ sex + definition + need + purpose \n",
    "              + interest, data =train, family = binomial)\n",
    "summary(model)\n",
    "\n",
    "\n",
    "anova(model, test=\"Chisq\")\n",
    "\n",
    "\n",
    "p <- predict(model, newdata=test, type=\"response\")\n",
    "pr <- prediction(p, test$d1_3)\n",
    "prf <- performance(pr, measure = \"tpr\", x.measure = \"fpr\")\n",
    "plot(prf)\n",
    "\n",
    "auc <- performance(pr, measure = \"auc\")\n",
    "auc <- auc@y.values[[1]]\n",
    "auc"
   ]
  },
  {
   "cell_type": "code",
   "execution_count": 28,
   "metadata": {},
   "outputs": [
    {
     "data": {
      "text/plain": [
       "\n",
       "Call:\n",
       "glm(formula = d1_5 ~ sex + definition + need + purpose + interest, \n",
       "    family = binomial, data = train)\n",
       "\n",
       "Deviance Residuals: \n",
       "    Min       1Q   Median       3Q      Max  \n",
       "-0.7728  -0.6972  -0.5756  -0.4601   2.1439  \n",
       "\n",
       "Coefficients:\n",
       "                  Estimate Std. Error z value Pr(>|z|)  \n",
       "(Intercept)       -1.62042    0.94266  -1.719   0.0856 .\n",
       "sexMale            0.10536    0.56743   0.186   0.8527  \n",
       "definitionharmony  0.36905    0.62486   0.591   0.5548  \n",
       "needharmony        0.16255    0.51493   0.316   0.7523  \n",
       "purposecosmetic   -0.65193    0.74823  -0.871   0.3836  \n",
       "purposeetc         0.11654    0.56994   0.204   0.8380  \n",
       "interest          -0.07226    0.20028  -0.361   0.7182  \n",
       "---\n",
       "Signif. codes:  0 '***' 0.001 '**' 0.01 '*' 0.05 '.' 0.1 ' ' 1\n",
       "\n",
       "(Dispersion parameter for binomial family taken to be 1)\n",
       "\n",
       "    Null deviance: 141.02  on 148  degrees of freedom\n",
       "Residual deviance: 138.15  on 142  degrees of freedom\n",
       "AIC: 152.15\n",
       "\n",
       "Number of Fisher Scoring iterations: 4\n"
      ]
     },
     "metadata": {},
     "output_type": "display_data"
    },
    {
     "data": {
      "text/html": [
       "<table>\n",
       "<thead><tr><th></th><th scope=col>Df</th><th scope=col>Deviance</th><th scope=col>Resid. Df</th><th scope=col>Resid. Dev</th><th scope=col>Pr(&gt;Chi)</th></tr></thead>\n",
       "<tbody>\n",
       "\t<tr><th scope=row>NULL</th><td>NA       </td><td>       NA</td><td>148      </td><td>141.0197 </td><td>       NA</td></tr>\n",
       "\t<tr><th scope=row>sex</th><td> 1       </td><td>0.5725475</td><td>147      </td><td>140.4471 </td><td>0.4492484</td></tr>\n",
       "\t<tr><th scope=row>definition</th><td> 1       </td><td>0.7437638</td><td>146      </td><td>139.7034 </td><td>0.3884579</td></tr>\n",
       "\t<tr><th scope=row>need</th><td> 1       </td><td>0.1573105</td><td>145      </td><td>139.5461 </td><td>0.6916448</td></tr>\n",
       "\t<tr><th scope=row>purpose</th><td> 2       </td><td>1.2669482</td><td>143      </td><td>138.2791 </td><td>0.5307447</td></tr>\n",
       "\t<tr><th scope=row>interest</th><td> 1       </td><td>0.1300925</td><td>142      </td><td>138.1490 </td><td>0.7183361</td></tr>\n",
       "</tbody>\n",
       "</table>\n"
      ],
      "text/latex": [
       "\\begin{tabular}{r|lllll}\n",
       "  & Df & Deviance & Resid. Df & Resid. Dev & Pr(>Chi)\\\\\n",
       "\\hline\n",
       "\tNULL & NA        &        NA & 148       & 141.0197  &        NA\\\\\n",
       "\tsex &  1        & 0.5725475 & 147       & 140.4471  & 0.4492484\\\\\n",
       "\tdefinition &  1        & 0.7437638 & 146       & 139.7034  & 0.3884579\\\\\n",
       "\tneed &  1        & 0.1573105 & 145       & 139.5461  & 0.6916448\\\\\n",
       "\tpurpose &  2        & 1.2669482 & 143       & 138.2791  & 0.5307447\\\\\n",
       "\tinterest &  1        & 0.1300925 & 142       & 138.1490  & 0.7183361\\\\\n",
       "\\end{tabular}\n"
      ],
      "text/markdown": [
       "\n",
       "| <!--/--> | Df | Deviance | Resid. Df | Resid. Dev | Pr(>Chi) |\n",
       "|---|---|---|---|---|---|\n",
       "| NULL | NA        |        NA | 148       | 141.0197  |        NA |\n",
       "| sex |  1        | 0.5725475 | 147       | 140.4471  | 0.4492484 |\n",
       "| definition |  1        | 0.7437638 | 146       | 139.7034  | 0.3884579 |\n",
       "| need |  1        | 0.1573105 | 145       | 139.5461  | 0.6916448 |\n",
       "| purpose |  2        | 1.2669482 | 143       | 138.2791  | 0.5307447 |\n",
       "| interest |  1        | 0.1300925 | 142       | 138.1490  | 0.7183361 |\n",
       "\n"
      ],
      "text/plain": [
       "           Df Deviance  Resid. Df Resid. Dev Pr(>Chi) \n",
       "NULL       NA        NA 148       141.0197          NA\n",
       "sex         1 0.5725475 147       140.4471   0.4492484\n",
       "definition  1 0.7437638 146       139.7034   0.3884579\n",
       "need        1 0.1573105 145       139.5461   0.6916448\n",
       "purpose     2 1.2669482 143       138.2791   0.5307447\n",
       "interest    1 0.1300925 142       138.1490   0.7183361"
      ]
     },
     "metadata": {},
     "output_type": "display_data"
    },
    {
     "data": {
      "text/html": [
       "0.564625850340136"
      ],
      "text/latex": [
       "0.564625850340136"
      ],
      "text/markdown": [
       "0.564625850340136"
      ],
      "text/plain": [
       "[1] 0.5646259"
      ]
     },
     "metadata": {},
     "output_type": "display_data"
    },
    {
     "data": {
      "image/png": "[encoded data removed]",
      "text/plain": [
       "plot without title"
      ]
     },
     "metadata": {},
     "output_type": "display_data"
    }
   ],
   "source": [
    "model <- glm(d1_5 ~ sex + definition + need + purpose \n",
    "              + interest, data =train, family = binomial)\n",
    "summary(model)\n",
    "\n",
    "\n",
    "anova(model, test=\"Chisq\")\n",
    "\n",
    "\n",
    "p <- predict(model, newdata=test, type=\"response\")\n",
    "pr <- prediction(p, test$d1_5)\n",
    "prf <- performance(pr, measure = \"tpr\", x.measure = \"fpr\")\n",
    "plot(prf)\n",
    "\n",
    "auc <- performance(pr, measure = \"auc\")\n",
    "auc <- auc@y.values[[1]]\n",
    "auc"
   ]
  },
  {
   "cell_type": "code",
   "execution_count": 29,
   "metadata": {},
   "outputs": [
    {
     "data": {
      "text/plain": [
       "\n",
       "Call:\n",
       "glm(formula = d2_1 ~ sex + definition + need + purpose + interest, \n",
       "    family = binomial, data = train)\n",
       "\n",
       "Deviance Residuals: \n",
       "    Min       1Q   Median       3Q      Max  \n",
       "-1.1299  -0.8096  -0.6593  -0.4357   2.0304  \n",
       "\n",
       "Coefficients:\n",
       "                  Estimate Std. Error z value Pr(>|z|)  \n",
       "(Intercept)       -2.10040    0.85888  -2.446   0.0145 *\n",
       "sexMale           -0.41046    0.54084  -0.759   0.4479  \n",
       "definitionharmony  0.41404    0.50712   0.816   0.4142  \n",
       "needharmony       -0.48007    0.44487  -1.079   0.2805  \n",
       "purposecosmetic   -0.22695    0.58332  -0.389   0.6972  \n",
       "purposeetc        -0.05604    0.51357  -0.109   0.9131  \n",
       "interest           0.32593    0.19250   1.693   0.0904 .\n",
       "---\n",
       "Signif. codes:  0 '***' 0.001 '**' 0.01 '*' 0.05 '.' 0.1 ' ' 1\n",
       "\n",
       "(Dispersion parameter for binomial family taken to be 1)\n",
       "\n",
       "    Null deviance: 167.02  on 148  degrees of freedom\n",
       "Residual deviance: 161.60  on 142  degrees of freedom\n",
       "AIC: 175.6\n",
       "\n",
       "Number of Fisher Scoring iterations: 4\n"
      ]
     },
     "metadata": {},
     "output_type": "display_data"
    },
    {
     "data": {
      "text/html": [
       "<table>\n",
       "<thead><tr><th></th><th scope=col>Df</th><th scope=col>Deviance</th><th scope=col>Resid. Df</th><th scope=col>Resid. Dev</th><th scope=col>Pr(&gt;Chi)</th></tr></thead>\n",
       "<tbody>\n",
       "\t<tr><th scope=row>NULL</th><td>NA        </td><td>        NA</td><td>148       </td><td>167.0243  </td><td>        NA</td></tr>\n",
       "\t<tr><th scope=row>sex</th><td> 1        </td><td>1.01978394</td><td>147       </td><td>166.0045  </td><td>0.31257026</td></tr>\n",
       "\t<tr><th scope=row>definition</th><td> 1        </td><td>0.01721512</td><td>146       </td><td>165.9873  </td><td>0.89561203</td></tr>\n",
       "\t<tr><th scope=row>need</th><td> 1        </td><td>1.15719127</td><td>145       </td><td>164.8301  </td><td>0.28204881</td></tr>\n",
       "\t<tr><th scope=row>purpose</th><td> 2        </td><td>0.24207668</td><td>143       </td><td>164.5881  </td><td>0.88599999</td></tr>\n",
       "\t<tr><th scope=row>interest</th><td> 1        </td><td>2.98617447</td><td>142       </td><td>161.6019  </td><td>0.08397834</td></tr>\n",
       "</tbody>\n",
       "</table>\n"
      ],
      "text/latex": [
       "\\begin{tabular}{r|lllll}\n",
       "  & Df & Deviance & Resid. Df & Resid. Dev & Pr(>Chi)\\\\\n",
       "\\hline\n",
       "\tNULL & NA         &         NA & 148        & 167.0243   &         NA\\\\\n",
       "\tsex &  1         & 1.01978394 & 147        & 166.0045   & 0.31257026\\\\\n",
       "\tdefinition &  1         & 0.01721512 & 146        & 165.9873   & 0.89561203\\\\\n",
       "\tneed &  1         & 1.15719127 & 145        & 164.8301   & 0.28204881\\\\\n",
       "\tpurpose &  2         & 0.24207668 & 143        & 164.5881   & 0.88599999\\\\\n",
       "\tinterest &  1         & 2.98617447 & 142        & 161.6019   & 0.08397834\\\\\n",
       "\\end{tabular}\n"
      ],
      "text/markdown": [
       "\n",
       "| <!--/--> | Df | Deviance | Resid. Df | Resid. Dev | Pr(>Chi) |\n",
       "|---|---|---|---|---|---|\n",
       "| NULL | NA         |         NA | 148        | 167.0243   |         NA |\n",
       "| sex |  1         | 1.01978394 | 147        | 166.0045   | 0.31257026 |\n",
       "| definition |  1         | 0.01721512 | 146        | 165.9873   | 0.89561203 |\n",
       "| need |  1         | 1.15719127 | 145        | 164.8301   | 0.28204881 |\n",
       "| purpose |  2         | 0.24207668 | 143        | 164.5881   | 0.88599999 |\n",
       "| interest |  1         | 2.98617447 | 142        | 161.6019   | 0.08397834 |\n",
       "\n"
      ],
      "text/plain": [
       "           Df Deviance   Resid. Df Resid. Dev Pr(>Chi)  \n",
       "NULL       NA         NA 148       167.0243           NA\n",
       "sex         1 1.01978394 147       166.0045   0.31257026\n",
       "definition  1 0.01721512 146       165.9873   0.89561203\n",
       "need        1 1.15719127 145       164.8301   0.28204881\n",
       "purpose     2 0.24207668 143       164.5881   0.88599999\n",
       "interest    1 2.98617447 142       161.6019   0.08397834"
      ]
     },
     "metadata": {},
     "output_type": "display_data"
    },
    {
     "data": {
      "text/html": [
       "0.487755102040816"
      ],
      "text/latex": [
       "0.487755102040816"
      ],
      "text/markdown": [
       "0.487755102040816"
      ],
      "text/plain": [
       "[1] 0.4877551"
      ]
     },
     "metadata": {},
     "output_type": "display_data"
    },
    {
     "data": {
      "image/png": "[encoded data removed]",
      "text/plain": [
       "plot without title"
      ]
     },
     "metadata": {},
     "output_type": "display_data"
    }
   ],
   "source": [
    "model <- glm(d2_1 ~ sex + definition + need + purpose \n",
    "              + interest, data =train, family = binomial)\n",
    "summary(model)\n",
    "\n",
    "\n",
    "anova(model, test=\"Chisq\")\n",
    "\n",
    "\n",
    "p <- predict(model, newdata=test, type=\"response\")\n",
    "pr <- prediction(p, test$d2_1)\n",
    "prf <- performance(pr, measure = \"tpr\", x.measure = \"fpr\")\n",
    "plot(prf)\n",
    "\n",
    "auc <- performance(pr, measure = \"auc\")\n",
    "auc <- auc@y.values[[1]]\n",
    "auc"
   ]
  },
  {
   "cell_type": "code",
   "execution_count": 30,
   "metadata": {},
   "outputs": [
    {
     "data": {
      "text/plain": [
       "\n",
       "Call:\n",
       "glm(formula = d2_2 ~ sex + definition + need + purpose + interest, \n",
       "    family = binomial, data = train)\n",
       "\n",
       "Deviance Residuals: \n",
       "    Min       1Q   Median       3Q      Max  \n",
       "-1.1322  -0.8614  -0.6970   1.3470   2.0028  \n",
       "\n",
       "Coefficients:\n",
       "                  Estimate Std. Error z value Pr(>|z|)\n",
       "(Intercept)        -0.3729     0.7889  -0.473    0.636\n",
       "sexMale            -0.2686     0.4917  -0.546    0.585\n",
       "definitionharmony  -0.2653     0.5134  -0.517    0.605\n",
       "needharmony         0.6725     0.4572   1.471    0.141\n",
       "purposecosmetic    -0.6568     0.5861  -1.121    0.262\n",
       "purposeetc         -0.3524     0.4930  -0.715    0.475\n",
       "interest           -0.1415     0.1747  -0.810    0.418\n",
       "\n",
       "(Dispersion parameter for binomial family taken to be 1)\n",
       "\n",
       "    Null deviance: 177.23  on 148  degrees of freedom\n",
       "Residual deviance: 172.48  on 142  degrees of freedom\n",
       "AIC: 186.48\n",
       "\n",
       "Number of Fisher Scoring iterations: 4\n"
      ]
     },
     "metadata": {},
     "output_type": "display_data"
    },
    {
     "data": {
      "text/html": [
       "<table>\n",
       "<thead><tr><th></th><th scope=col>Df</th><th scope=col>Deviance</th><th scope=col>Resid. Df</th><th scope=col>Resid. Dev</th><th scope=col>Pr(&gt;Chi)</th></tr></thead>\n",
       "<tbody>\n",
       "\t<tr><th scope=row>NULL</th><td>NA       </td><td>       NA</td><td>148      </td><td>177.2264 </td><td>       NA</td></tr>\n",
       "\t<tr><th scope=row>sex</th><td> 1       </td><td>0.1645732</td><td>147      </td><td>177.0618 </td><td>0.6849805</td></tr>\n",
       "\t<tr><th scope=row>definition</th><td> 1       </td><td>0.1010288</td><td>146      </td><td>176.9608 </td><td>0.7505985</td></tr>\n",
       "\t<tr><th scope=row>need</th><td> 1       </td><td>2.4053192</td><td>145      </td><td>174.5555 </td><td>0.1209235</td></tr>\n",
       "\t<tr><th scope=row>purpose</th><td> 2       </td><td>1.4187518</td><td>143      </td><td>173.1367 </td><td>0.4919511</td></tr>\n",
       "\t<tr><th scope=row>interest</th><td> 1       </td><td>0.6571294</td><td>142      </td><td>172.4796 </td><td>0.4175752</td></tr>\n",
       "</tbody>\n",
       "</table>\n"
      ],
      "text/latex": [
       "\\begin{tabular}{r|lllll}\n",
       "  & Df & Deviance & Resid. Df & Resid. Dev & Pr(>Chi)\\\\\n",
       "\\hline\n",
       "\tNULL & NA        &        NA & 148       & 177.2264  &        NA\\\\\n",
       "\tsex &  1        & 0.1645732 & 147       & 177.0618  & 0.6849805\\\\\n",
       "\tdefinition &  1        & 0.1010288 & 146       & 176.9608  & 0.7505985\\\\\n",
       "\tneed &  1        & 2.4053192 & 145       & 174.5555  & 0.1209235\\\\\n",
       "\tpurpose &  2        & 1.4187518 & 143       & 173.1367  & 0.4919511\\\\\n",
       "\tinterest &  1        & 0.6571294 & 142       & 172.4796  & 0.4175752\\\\\n",
       "\\end{tabular}\n"
      ],
      "text/markdown": [
       "\n",
       "| <!--/--> | Df | Deviance | Resid. Df | Resid. Dev | Pr(>Chi) |\n",
       "|---|---|---|---|---|---|\n",
       "| NULL | NA        |        NA | 148       | 177.2264  |        NA |\n",
       "| sex |  1        | 0.1645732 | 147       | 177.0618  | 0.6849805 |\n",
       "| definition |  1        | 0.1010288 | 146       | 176.9608  | 0.7505985 |\n",
       "| need |  1        | 2.4053192 | 145       | 174.5555  | 0.1209235 |\n",
       "| purpose |  2        | 1.4187518 | 143       | 173.1367  | 0.4919511 |\n",
       "| interest |  1        | 0.6571294 | 142       | 172.4796  | 0.4175752 |\n",
       "\n"
      ],
      "text/plain": [
       "           Df Deviance  Resid. Df Resid. Dev Pr(>Chi) \n",
       "NULL       NA        NA 148       177.2264          NA\n",
       "sex         1 0.1645732 147       177.0618   0.6849805\n",
       "definition  1 0.1010288 146       176.9608   0.7505985\n",
       "need        1 2.4053192 145       174.5555   0.1209235\n",
       "purpose     2 1.4187518 143       173.1367   0.4919511\n",
       "interest    1 0.6571294 142       172.4796   0.4175752"
      ]
     },
     "metadata": {},
     "output_type": "display_data"
    },
    {
     "data": {
      "text/html": [
       "0.482142857142857"
      ],
      "text/latex": [
       "0.482142857142857"
      ],
      "text/markdown": [
       "0.482142857142857"
      ],
      "text/plain": [
       "[1] 0.4821429"
      ]
     },
     "metadata": {},
     "output_type": "display_data"
    },
    {
     "data": {
      "image/png": "[encoded data removed]",
      "text/plain": [
       "plot without title"
      ]
     },
     "metadata": {},
     "output_type": "display_data"
    }
   ],
   "source": [
    "model <- glm(d2_2 ~ sex + definition + need + purpose \n",
    "              + interest, data =train, family = binomial)\n",
    "summary(model)\n",
    "\n",
    "\n",
    "anova(model, test=\"Chisq\")\n",
    "\n",
    "\n",
    "p <- predict(model, newdata=test, type=\"response\")\n",
    "pr <- prediction(p, test$d2_2)\n",
    "prf <- performance(pr, measure = \"tpr\", x.measure = \"fpr\")\n",
    "plot(prf)\n",
    "\n",
    "auc <- performance(pr, measure = \"auc\")\n",
    "auc <- auc@y.values[[1]]\n",
    "auc"
   ]
  },
  {
   "cell_type": "code",
   "execution_count": 31,
   "metadata": {},
   "outputs": [
    {
     "data": {
      "text/plain": [
       "\n",
       "Call:\n",
       "glm(formula = d2_3 ~ sex + definition + need + purpose + interest, \n",
       "    family = binomial, data = train)\n",
       "\n",
       "Deviance Residuals: \n",
       "    Min       1Q   Median       3Q      Max  \n",
       "-1.1236  -0.6304  -0.5275  -0.4034   2.4195  \n",
       "\n",
       "Coefficients:\n",
       "                  Estimate Std. Error z value Pr(>|z|)  \n",
       "(Intercept)        -1.7449     1.0205  -1.710   0.0873 .\n",
       "sexMale             0.4671     0.6690   0.698   0.4851  \n",
       "definitionharmony   0.2951     0.6990   0.422   0.6730  \n",
       "needharmony         0.3604     0.5776   0.624   0.5326  \n",
       "purposecosmetic     0.7380     0.7423   0.994   0.3202  \n",
       "purposeetc          0.7918     0.6719   1.179   0.2386  \n",
       "interest           -0.2975     0.2124  -1.401   0.1613  \n",
       "---\n",
       "Signif. codes:  0 '***' 0.001 '**' 0.01 '*' 0.05 '.' 0.1 ' ' 1\n",
       "\n",
       "(Dispersion parameter for binomial family taken to be 1)\n",
       "\n",
       "    Null deviance: 128.20  on 148  degrees of freedom\n",
       "Residual deviance: 123.22  on 142  degrees of freedom\n",
       "AIC: 137.22\n",
       "\n",
       "Number of Fisher Scoring iterations: 5\n"
      ]
     },
     "metadata": {},
     "output_type": "display_data"
    },
    {
     "data": {
      "text/html": [
       "<table>\n",
       "<thead><tr><th></th><th scope=col>Df</th><th scope=col>Deviance</th><th scope=col>Resid. Df</th><th scope=col>Resid. Dev</th><th scope=col>Pr(&gt;Chi)</th></tr></thead>\n",
       "<tbody>\n",
       "\t<tr><th scope=row>NULL</th><td>NA       </td><td>       NA</td><td>148      </td><td>128.2002 </td><td>       NA</td></tr>\n",
       "\t<tr><th scope=row>sex</th><td> 1       </td><td>0.1914428</td><td>147      </td><td>128.0088 </td><td>0.6617185</td></tr>\n",
       "\t<tr><th scope=row>definition</th><td> 1       </td><td>1.0027883</td><td>146      </td><td>127.0060 </td><td>0.3166368</td></tr>\n",
       "\t<tr><th scope=row>need</th><td> 1       </td><td>0.4582778</td><td>145      </td><td>126.5477 </td><td>0.4984299</td></tr>\n",
       "\t<tr><th scope=row>purpose</th><td> 2       </td><td>1.3413536</td><td>143      </td><td>125.2064 </td><td>0.5113624</td></tr>\n",
       "\t<tr><th scope=row>interest</th><td> 1       </td><td>1.9902593</td><td>142      </td><td>123.2161 </td><td>0.1583138</td></tr>\n",
       "</tbody>\n",
       "</table>\n"
      ],
      "text/latex": [
       "\\begin{tabular}{r|lllll}\n",
       "  & Df & Deviance & Resid. Df & Resid. Dev & Pr(>Chi)\\\\\n",
       "\\hline\n",
       "\tNULL & NA        &        NA & 148       & 128.2002  &        NA\\\\\n",
       "\tsex &  1        & 0.1914428 & 147       & 128.0088  & 0.6617185\\\\\n",
       "\tdefinition &  1        & 1.0027883 & 146       & 127.0060  & 0.3166368\\\\\n",
       "\tneed &  1        & 0.4582778 & 145       & 126.5477  & 0.4984299\\\\\n",
       "\tpurpose &  2        & 1.3413536 & 143       & 125.2064  & 0.5113624\\\\\n",
       "\tinterest &  1        & 1.9902593 & 142       & 123.2161  & 0.1583138\\\\\n",
       "\\end{tabular}\n"
      ],
      "text/markdown": [
       "\n",
       "| <!--/--> | Df | Deviance | Resid. Df | Resid. Dev | Pr(>Chi) |\n",
       "|---|---|---|---|---|---|\n",
       "| NULL | NA        |        NA | 148       | 128.2002  |        NA |\n",
       "| sex |  1        | 0.1914428 | 147       | 128.0088  | 0.6617185 |\n",
       "| definition |  1        | 1.0027883 | 146       | 127.0060  | 0.3166368 |\n",
       "| need |  1        | 0.4582778 | 145       | 126.5477  | 0.4984299 |\n",
       "| purpose |  2        | 1.3413536 | 143       | 125.2064  | 0.5113624 |\n",
       "| interest |  1        | 1.9902593 | 142       | 123.2161  | 0.1583138 |\n",
       "\n"
      ],
      "text/plain": [
       "           Df Deviance  Resid. Df Resid. Dev Pr(>Chi) \n",
       "NULL       NA        NA 148       128.2002          NA\n",
       "sex         1 0.1914428 147       128.0088   0.6617185\n",
       "definition  1 1.0027883 146       127.0060   0.3166368\n",
       "need        1 0.4582778 145       126.5477   0.4984299\n",
       "purpose     2 1.3413536 143       125.2064   0.5113624\n",
       "interest    1 1.9902593 142       123.2161   0.1583138"
      ]
     },
     "metadata": {},
     "output_type": "display_data"
    },
    {
     "data": {
      "text/html": [
       "0.471717171717172"
      ],
      "text/latex": [
       "0.471717171717172"
      ],
      "text/markdown": [
       "0.471717171717172"
      ],
      "text/plain": [
       "[1] 0.4717172"
      ]
     },
     "metadata": {},
     "output_type": "display_data"
    },
    {
     "data": {
      "image/png": "[encoded data removed]",
      "text/plain": [
       "plot without title"
      ]
     },
     "metadata": {},
     "output_type": "display_data"
    }
   ],
   "source": [
    "model <- glm(d2_3 ~ sex + definition + need + purpose \n",
    "              + interest, data =train, family = binomial)\n",
    "summary(model)\n",
    "\n",
    "\n",
    "anova(model, test=\"Chisq\")\n",
    "\n",
    "\n",
    "p <- predict(model, newdata=test, type=\"response\")\n",
    "pr <- prediction(p, test$d2_3)\n",
    "prf <- performance(pr, measure = \"tpr\", x.measure = \"fpr\")\n",
    "plot(prf)\n",
    "\n",
    "auc <- performance(pr, measure = \"auc\")\n",
    "auc <- auc@y.values[[1]]\n",
    "auc"
   ]
  },
  {
   "cell_type": "code",
   "execution_count": 32,
   "metadata": {},
   "outputs": [
    {
     "data": {
      "text/plain": [
       "\n",
       "Call:\n",
       "glm(formula = d2_4 ~ sex + definition + need + purpose + interest, \n",
       "    family = binomial, data = train)\n",
       "\n",
       "Deviance Residuals: \n",
       "    Min       1Q   Median       3Q      Max  \n",
       "-0.9214  -0.7341  -0.6204  -0.4921   2.0557  \n",
       "\n",
       "Coefficients:\n",
       "                  Estimate Std. Error z value Pr(>|z|)\n",
       "(Intercept)       -0.34882    0.86049  -0.405    0.685\n",
       "sexMale           -0.46903    0.58508  -0.802    0.423\n",
       "definitionharmony -0.09131    0.52453  -0.174    0.862\n",
       "needharmony       -0.44526    0.47479  -0.938    0.348\n",
       "purposecosmetic    0.18400    0.58486   0.315    0.753\n",
       "purposeetc        -0.19234    0.55331  -0.348    0.728\n",
       "interest          -0.15743    0.19704  -0.799    0.424\n",
       "\n",
       "(Dispersion parameter for binomial family taken to be 1)\n",
       "\n",
       "    Null deviance: 152.39  on 148  degrees of freedom\n",
       "Residual deviance: 148.59  on 142  degrees of freedom\n",
       "AIC: 162.59\n",
       "\n",
       "Number of Fisher Scoring iterations: 4\n"
      ]
     },
     "metadata": {},
     "output_type": "display_data"
    },
    {
     "data": {
      "text/html": [
       "<table>\n",
       "<thead><tr><th></th><th scope=col>Df</th><th scope=col>Deviance</th><th scope=col>Resid. Df</th><th scope=col>Resid. Dev</th><th scope=col>Pr(&gt;Chi)</th></tr></thead>\n",
       "<tbody>\n",
       "\t<tr><th scope=row>NULL</th><td>NA       </td><td>       NA</td><td>148      </td><td>152.3872 </td><td>       NA</td></tr>\n",
       "\t<tr><th scope=row>sex</th><td> 1       </td><td>1.3179361</td><td>147      </td><td>151.0693 </td><td>0.2509628</td></tr>\n",
       "\t<tr><th scope=row>definition</th><td> 1       </td><td>0.3263217</td><td>146      </td><td>150.7430 </td><td>0.5678331</td></tr>\n",
       "\t<tr><th scope=row>need</th><td> 1       </td><td>0.9258525</td><td>145      </td><td>149.8171 </td><td>0.3359430</td></tr>\n",
       "\t<tr><th scope=row>purpose</th><td> 2       </td><td>0.5905365</td><td>143      </td><td>149.2266 </td><td>0.7443319</td></tr>\n",
       "\t<tr><th scope=row>interest</th><td> 1       </td><td>0.6396610</td><td>142      </td><td>148.5869 </td><td>0.4238336</td></tr>\n",
       "</tbody>\n",
       "</table>\n"
      ],
      "text/latex": [
       "\\begin{tabular}{r|lllll}\n",
       "  & Df & Deviance & Resid. Df & Resid. Dev & Pr(>Chi)\\\\\n",
       "\\hline\n",
       "\tNULL & NA        &        NA & 148       & 152.3872  &        NA\\\\\n",
       "\tsex &  1        & 1.3179361 & 147       & 151.0693  & 0.2509628\\\\\n",
       "\tdefinition &  1        & 0.3263217 & 146       & 150.7430  & 0.5678331\\\\\n",
       "\tneed &  1        & 0.9258525 & 145       & 149.8171  & 0.3359430\\\\\n",
       "\tpurpose &  2        & 0.5905365 & 143       & 149.2266  & 0.7443319\\\\\n",
       "\tinterest &  1        & 0.6396610 & 142       & 148.5869  & 0.4238336\\\\\n",
       "\\end{tabular}\n"
      ],
      "text/markdown": [
       "\n",
       "| <!--/--> | Df | Deviance | Resid. Df | Resid. Dev | Pr(>Chi) |\n",
       "|---|---|---|---|---|---|\n",
       "| NULL | NA        |        NA | 148       | 152.3872  |        NA |\n",
       "| sex |  1        | 1.3179361 | 147       | 151.0693  | 0.2509628 |\n",
       "| definition |  1        | 0.3263217 | 146       | 150.7430  | 0.5678331 |\n",
       "| need |  1        | 0.9258525 | 145       | 149.8171  | 0.3359430 |\n",
       "| purpose |  2        | 0.5905365 | 143       | 149.2266  | 0.7443319 |\n",
       "| interest |  1        | 0.6396610 | 142       | 148.5869  | 0.4238336 |\n",
       "\n"
      ],
      "text/plain": [
       "           Df Deviance  Resid. Df Resid. Dev Pr(>Chi) \n",
       "NULL       NA        NA 148       152.3872          NA\n",
       "sex         1 1.3179361 147       151.0693   0.2509628\n",
       "definition  1 0.3263217 146       150.7430   0.5678331\n",
       "need        1 0.9258525 145       149.8171   0.3359430\n",
       "purpose     2 0.5905365 143       149.2266   0.7443319\n",
       "interest    1 0.6396610 142       148.5869   0.4238336"
      ]
     },
     "metadata": {},
     "output_type": "display_data"
    },
    {
     "data": {
      "text/html": [
       "0.526908635794743"
      ],
      "text/latex": [
       "0.526908635794743"
      ],
      "text/markdown": [
       "0.526908635794743"
      ],
      "text/plain": [
       "[1] 0.5269086"
      ]
     },
     "metadata": {},
     "output_type": "display_data"
    },
    {
     "data": {
      "image/png": "[encoded data removed]",
      "text/plain": [
       "plot without title"
      ]
     },
     "metadata": {},
     "output_type": "display_data"
    }
   ],
   "source": [
    "model <- glm(d2_4 ~ sex + definition + need + purpose \n",
    "              + interest, data =train, family = binomial)\n",
    "summary(model)\n",
    "\n",
    "\n",
    "anova(model, test=\"Chisq\")\n",
    "\n",
    "\n",
    "p <- predict(model, newdata=test, type=\"response\")\n",
    "pr <- prediction(p, test$d2_4)\n",
    "prf <- performance(pr, measure = \"tpr\", x.measure = \"fpr\")\n",
    "plot(prf)\n",
    "\n",
    "auc <- performance(pr, measure = \"auc\")\n",
    "auc <- auc@y.values[[1]]\n",
    "auc"
   ]
  },
  {
   "cell_type": "code",
   "execution_count": 33,
   "metadata": {},
   "outputs": [
    {
     "data": {
      "text/plain": [
       "\n",
       "Call:\n",
       "glm(formula = d2_5 ~ sex + definition + need + purpose + interest, \n",
       "    family = binomial, data = train)\n",
       "\n",
       "Deviance Residuals: \n",
       "    Min       1Q   Median       3Q      Max  \n",
       "-0.9590  -0.4994  -0.4074  -0.3071   2.5711  \n",
       "\n",
       "Coefficients:\n",
       "                  Estimate Std. Error z value Pr(>|z|)   \n",
       "(Intercept)        -3.7029     1.2188  -3.038  0.00238 **\n",
       "sexMale             1.4499     0.7968   1.820  0.06880 . \n",
       "definitionharmony  -0.4589     0.7037  -0.652  0.51430   \n",
       "needharmony        -0.1910     0.6394  -0.299  0.76521   \n",
       "purposecosmetic     0.5567     0.8943   0.622  0.53362   \n",
       "purposeetc          0.2376     0.8428   0.282  0.77797   \n",
       "interest            0.3616     0.2585   1.399  0.16192   \n",
       "---\n",
       "Signif. codes:  0 '***' 0.001 '**' 0.01 '*' 0.05 '.' 0.1 ' ' 1\n",
       "\n",
       "(Dispersion parameter for binomial family taken to be 1)\n",
       "\n",
       "    Null deviance: 101.620  on 148  degrees of freedom\n",
       "Residual deviance:  95.021  on 142  degrees of freedom\n",
       "AIC: 109.02\n",
       "\n",
       "Number of Fisher Scoring iterations: 5\n"
      ]
     },
     "metadata": {},
     "output_type": "display_data"
    },
    {
     "data": {
      "text/html": [
       "<table>\n",
       "<thead><tr><th></th><th scope=col>Df</th><th scope=col>Deviance</th><th scope=col>Resid. Df</th><th scope=col>Resid. Dev</th><th scope=col>Pr(&gt;Chi)</th></tr></thead>\n",
       "<tbody>\n",
       "\t<tr><th scope=row>NULL</th><td>NA        </td><td>        NA</td><td>148       </td><td>101.62029 </td><td>        NA</td></tr>\n",
       "\t<tr><th scope=row>sex</th><td> 1        </td><td>2.86639878</td><td>147       </td><td> 98.75389 </td><td>0.09044705</td></tr>\n",
       "\t<tr><th scope=row>definition</th><td> 1        </td><td>1.08296540</td><td>146       </td><td> 97.67093 </td><td>0.29803512</td></tr>\n",
       "\t<tr><th scope=row>need</th><td> 1        </td><td>0.07338581</td><td>145       </td><td> 97.59754 </td><td>0.78646937</td></tr>\n",
       "\t<tr><th scope=row>purpose</th><td> 2        </td><td>0.50279056</td><td>143       </td><td> 97.09475 </td><td>0.77771490</td></tr>\n",
       "\t<tr><th scope=row>interest</th><td> 1        </td><td>2.07326632</td><td>142       </td><td> 95.02149 </td><td>0.14990018</td></tr>\n",
       "</tbody>\n",
       "</table>\n"
      ],
      "text/latex": [
       "\\begin{tabular}{r|lllll}\n",
       "  & Df & Deviance & Resid. Df & Resid. Dev & Pr(>Chi)\\\\\n",
       "\\hline\n",
       "\tNULL & NA         &         NA & 148        & 101.62029  &         NA\\\\\n",
       "\tsex &  1         & 2.86639878 & 147        &  98.75389  & 0.09044705\\\\\n",
       "\tdefinition &  1         & 1.08296540 & 146        &  97.67093  & 0.29803512\\\\\n",
       "\tneed &  1         & 0.07338581 & 145        &  97.59754  & 0.78646937\\\\\n",
       "\tpurpose &  2         & 0.50279056 & 143        &  97.09475  & 0.77771490\\\\\n",
       "\tinterest &  1         & 2.07326632 & 142        &  95.02149  & 0.14990018\\\\\n",
       "\\end{tabular}\n"
      ],
      "text/markdown": [
       "\n",
       "| <!--/--> | Df | Deviance | Resid. Df | Resid. Dev | Pr(>Chi) |\n",
       "|---|---|---|---|---|---|\n",
       "| NULL | NA         |         NA | 148        | 101.62029  |         NA |\n",
       "| sex |  1         | 2.86639878 | 147        |  98.75389  | 0.09044705 |\n",
       "| definition |  1         | 1.08296540 | 146        |  97.67093  | 0.29803512 |\n",
       "| need |  1         | 0.07338581 | 145        |  97.59754  | 0.78646937 |\n",
       "| purpose |  2         | 0.50279056 | 143        |  97.09475  | 0.77771490 |\n",
       "| interest |  1         | 2.07326632 | 142        |  95.02149  | 0.14990018 |\n",
       "\n"
      ],
      "text/plain": [
       "           Df Deviance   Resid. Df Resid. Dev Pr(>Chi)  \n",
       "NULL       NA         NA 148       101.62029          NA\n",
       "sex         1 2.86639878 147        98.75389  0.09044705\n",
       "definition  1 1.08296540 146        97.67093  0.29803512\n",
       "need        1 0.07338581 145        97.59754  0.78646937\n",
       "purpose     2 0.50279056 143        97.09475  0.77771490\n",
       "interest    1 2.07326632 142        95.02149  0.14990018"
      ]
     },
     "metadata": {},
     "output_type": "display_data"
    },
    {
     "data": {
      "text/html": [
       "0.419191919191919"
      ],
      "text/latex": [
       "0.419191919191919"
      ],
      "text/markdown": [
       "0.419191919191919"
      ],
      "text/plain": [
       "[1] 0.4191919"
      ]
     },
     "metadata": {},
     "output_type": "display_data"
    },
    {
     "data": {
      "image/png": "[encoded data removed]",
      "text/plain": [
       "plot without title"
      ]
     },
     "metadata": {},
     "output_type": "display_data"
    }
   ],
   "source": [
    "model <- glm(d2_5 ~ sex + definition + need + purpose \n",
    "              + interest, data =train, family = binomial)\n",
    "summary(model)\n",
    "\n",
    "\n",
    "anova(model, test=\"Chisq\")\n",
    "\n",
    "\n",
    "p <- predict(model, newdata=test, type=\"response\")\n",
    "pr <- prediction(p, test$d2_5)\n",
    "prf <- performance(pr, measure = \"tpr\", x.measure = \"fpr\")\n",
    "plot(prf)\n",
    "\n",
    "auc <- performance(pr, measure = \"auc\")\n",
    "auc <- auc@y.values[[1]]\n",
    "auc"
   ]
  },
  {
   "cell_type": "code",
   "execution_count": 34,
   "metadata": {},
   "outputs": [
    {
     "data": {
      "text/plain": [
       "\n",
       "Call:\n",
       "glm(formula = d3_1 ~ sex + definition + need + purpose + interest, \n",
       "    family = binomial, data = train)\n",
       "\n",
       "Deviance Residuals: \n",
       "    Min       1Q   Median       3Q      Max  \n",
       "-1.6488  -0.7373  -0.5444  -0.2192   2.4423  \n",
       "\n",
       "Coefficients:\n",
       "                  Estimate Std. Error z value Pr(>|z|)  \n",
       "(Intercept)        -1.0041     0.8656  -1.160   0.2460  \n",
       "sexMale            -0.2121     0.5604  -0.378   0.7051  \n",
       "definitionharmony  -0.5131     0.4968  -1.033   0.3017  \n",
       "needharmony        -0.9665     0.4608  -2.097   0.0360 *\n",
       "purposecosmetic     0.6307     0.5530   1.140   0.2541  \n",
       "purposeetc         -1.3082     0.6150  -2.127   0.0334 *\n",
       "interest            0.2872     0.2047   1.403   0.1606  \n",
       "---\n",
       "Signif. codes:  0 '***' 0.001 '**' 0.01 '*' 0.05 '.' 0.1 ' ' 1\n",
       "\n",
       "(Dispersion parameter for binomial family taken to be 1)\n",
       "\n",
       "    Null deviance: 167.02  on 148  degrees of freedom\n",
       "Residual deviance: 144.97  on 142  degrees of freedom\n",
       "AIC: 158.97\n",
       "\n",
       "Number of Fisher Scoring iterations: 4\n"
      ]
     },
     "metadata": {},
     "output_type": "display_data"
    },
    {
     "data": {
      "text/html": [
       "<table>\n",
       "<thead><tr><th></th><th scope=col>Df</th><th scope=col>Deviance</th><th scope=col>Resid. Df</th><th scope=col>Resid. Dev</th><th scope=col>Pr(&gt;Chi)</th></tr></thead>\n",
       "<tbody>\n",
       "\t<tr><th scope=row>NULL</th><td>NA         </td><td>       NA  </td><td>148        </td><td>167.0243   </td><td>         NA</td></tr>\n",
       "\t<tr><th scope=row>sex</th><td> 1         </td><td> 1.019784  </td><td>147        </td><td>166.0045   </td><td>0.312570264</td></tr>\n",
       "\t<tr><th scope=row>definition</th><td> 1         </td><td> 4.124110  </td><td>146        </td><td>161.8804   </td><td>0.042276259</td></tr>\n",
       "\t<tr><th scope=row>need</th><td> 1         </td><td> 4.686862  </td><td>145        </td><td>157.1936   </td><td>0.030394113</td></tr>\n",
       "\t<tr><th scope=row>purpose</th><td> 2         </td><td>10.200420  </td><td>143        </td><td>146.9932   </td><td>0.006095466</td></tr>\n",
       "\t<tr><th scope=row>interest</th><td> 1         </td><td> 2.026144  </td><td>142        </td><td>144.9670   </td><td>0.154612414</td></tr>\n",
       "</tbody>\n",
       "</table>\n"
      ],
      "text/latex": [
       "\\begin{tabular}{r|lllll}\n",
       "  & Df & Deviance & Resid. Df & Resid. Dev & Pr(>Chi)\\\\\n",
       "\\hline\n",
       "\tNULL & NA          &        NA   & 148         & 167.0243    &          NA\\\\\n",
       "\tsex &  1          &  1.019784   & 147         & 166.0045    & 0.312570264\\\\\n",
       "\tdefinition &  1          &  4.124110   & 146         & 161.8804    & 0.042276259\\\\\n",
       "\tneed &  1          &  4.686862   & 145         & 157.1936    & 0.030394113\\\\\n",
       "\tpurpose &  2          & 10.200420   & 143         & 146.9932    & 0.006095466\\\\\n",
       "\tinterest &  1          &  2.026144   & 142         & 144.9670    & 0.154612414\\\\\n",
       "\\end{tabular}\n"
      ],
      "text/markdown": [
       "\n",
       "| <!--/--> | Df | Deviance | Resid. Df | Resid. Dev | Pr(>Chi) |\n",
       "|---|---|---|---|---|---|\n",
       "| NULL | NA          |        NA   | 148         | 167.0243    |          NA |\n",
       "| sex |  1          |  1.019784   | 147         | 166.0045    | 0.312570264 |\n",
       "| definition |  1          |  4.124110   | 146         | 161.8804    | 0.042276259 |\n",
       "| need |  1          |  4.686862   | 145         | 157.1936    | 0.030394113 |\n",
       "| purpose |  2          | 10.200420   | 143         | 146.9932    | 0.006095466 |\n",
       "| interest |  1          |  2.026144   | 142         | 144.9670    | 0.154612414 |\n",
       "\n"
      ],
      "text/plain": [
       "           Df Deviance  Resid. Df Resid. Dev Pr(>Chi)   \n",
       "NULL       NA        NA 148       167.0243            NA\n",
       "sex         1  1.019784 147       166.0045   0.312570264\n",
       "definition  1  4.124110 146       161.8804   0.042276259\n",
       "need        1  4.686862 145       157.1936   0.030394113\n",
       "purpose     2 10.200420 143       146.9932   0.006095466\n",
       "interest    1  2.026144 142       144.9670   0.154612414"
      ]
     },
     "metadata": {},
     "output_type": "display_data"
    },
    {
     "data": {
      "text/html": [
       "0.489974937343358"
      ],
      "text/latex": [
       "0.489974937343358"
      ],
      "text/markdown": [
       "0.489974937343358"
      ],
      "text/plain": [
       "[1] 0.4899749"
      ]
     },
     "metadata": {},
     "output_type": "display_data"
    },
    {
     "data": {
      "image/png": "[encoded data removed]",
      "text/plain": [
       "plot without title"
      ]
     },
     "metadata": {},
     "output_type": "display_data"
    }
   ],
   "source": [
    "model <- glm(d3_1 ~ sex + definition + need + purpose \n",
    "              + interest, data =train, family = binomial)\n",
    "summary(model)\n",
    "\n",
    "\n",
    "anova(model, test=\"Chisq\")\n",
    "\n",
    "\n",
    "p <- predict(model, newdata=test, type=\"response\")\n",
    "pr <- prediction(p, test$d3_1)\n",
    "prf <- performance(pr, measure = \"tpr\", x.measure = \"fpr\")\n",
    "plot(prf)\n",
    "\n",
    "auc <- performance(pr, measure = \"auc\")\n",
    "auc <- auc@y.values[[1]]\n",
    "auc"
   ]
  },
  {
   "cell_type": "code",
   "execution_count": 35,
   "metadata": {},
   "outputs": [
    {
     "data": {
      "text/plain": [
       "\n",
       "Call:\n",
       "glm(formula = d3_2 ~ sex + definition + need + purpose + interest, \n",
       "    family = binomial, data = train)\n",
       "\n",
       "Deviance Residuals: \n",
       "    Min       1Q   Median       3Q      Max  \n",
       "-0.8034  -0.6675  -0.5873  -0.4053   2.2539  \n",
       "\n",
       "Coefficients:\n",
       "                  Estimate Std. Error z value Pr(>|z|)  \n",
       "(Intercept)       -1.58482    0.93878  -1.688   0.0914 .\n",
       "sexMale           -0.34941    0.57611  -0.606   0.5442  \n",
       "definitionharmony -0.03634    0.61000  -0.060   0.9525  \n",
       "needharmony        0.63938    0.54308   1.177   0.2391  \n",
       "purposecosmetic   -0.78756    0.74119  -1.063   0.2880  \n",
       "purposeetc         0.07343    0.55131   0.133   0.8940  \n",
       "interest          -0.02848    0.20440  -0.139   0.8892  \n",
       "---\n",
       "Signif. codes:  0 '***' 0.001 '**' 0.01 '*' 0.05 '.' 0.1 ' ' 1\n",
       "\n",
       "(Dispersion parameter for binomial family taken to be 1)\n",
       "\n",
       "    Null deviance: 141.02  on 148  degrees of freedom\n",
       "Residual deviance: 137.23  on 142  degrees of freedom\n",
       "AIC: 151.23\n",
       "\n",
       "Number of Fisher Scoring iterations: 4\n"
      ]
     },
     "metadata": {},
     "output_type": "display_data"
    },
    {
     "data": {
      "text/html": [
       "<table>\n",
       "<thead><tr><th></th><th scope=col>Df</th><th scope=col>Deviance</th><th scope=col>Resid. Df</th><th scope=col>Resid. Dev</th><th scope=col>Pr(&gt;Chi)</th></tr></thead>\n",
       "<tbody>\n",
       "\t<tr><th scope=row>NULL</th><td>NA        </td><td>        NA</td><td>148       </td><td>141.0197  </td><td>       NA </td></tr>\n",
       "\t<tr><th scope=row>sex</th><td> 1        </td><td>0.02400966</td><td>147       </td><td>140.9957  </td><td>0.8768603 </td></tr>\n",
       "\t<tr><th scope=row>definition</th><td> 1        </td><td>0.34049590</td><td>146       </td><td>140.6552  </td><td>0.5595431 </td></tr>\n",
       "\t<tr><th scope=row>need</th><td> 1        </td><td>1.66603582</td><td>145       </td><td>138.9891  </td><td>0.1967903 </td></tr>\n",
       "\t<tr><th scope=row>purpose</th><td> 2        </td><td>1.73997944</td><td>143       </td><td>137.2492  </td><td>0.4189559 </td></tr>\n",
       "\t<tr><th scope=row>interest</th><td> 1        </td><td>0.01939728</td><td>142       </td><td>137.2298  </td><td>0.8892335 </td></tr>\n",
       "</tbody>\n",
       "</table>\n"
      ],
      "text/latex": [
       "\\begin{tabular}{r|lllll}\n",
       "  & Df & Deviance & Resid. Df & Resid. Dev & Pr(>Chi)\\\\\n",
       "\\hline\n",
       "\tNULL & NA         &         NA & 148        & 141.0197   &        NA \\\\\n",
       "\tsex &  1         & 0.02400966 & 147        & 140.9957   & 0.8768603 \\\\\n",
       "\tdefinition &  1         & 0.34049590 & 146        & 140.6552   & 0.5595431 \\\\\n",
       "\tneed &  1         & 1.66603582 & 145        & 138.9891   & 0.1967903 \\\\\n",
       "\tpurpose &  2         & 1.73997944 & 143        & 137.2492   & 0.4189559 \\\\\n",
       "\tinterest &  1         & 0.01939728 & 142        & 137.2298   & 0.8892335 \\\\\n",
       "\\end{tabular}\n"
      ],
      "text/markdown": [
       "\n",
       "| <!--/--> | Df | Deviance | Resid. Df | Resid. Dev | Pr(>Chi) |\n",
       "|---|---|---|---|---|---|\n",
       "| NULL | NA         |         NA | 148        | 141.0197   |        NA  |\n",
       "| sex |  1         | 0.02400966 | 147        | 140.9957   | 0.8768603  |\n",
       "| definition |  1         | 0.34049590 | 146        | 140.6552   | 0.5595431  |\n",
       "| need |  1         | 1.66603582 | 145        | 138.9891   | 0.1967903  |\n",
       "| purpose |  2         | 1.73997944 | 143        | 137.2492   | 0.4189559  |\n",
       "| interest |  1         | 0.01939728 | 142        | 137.2298   | 0.8892335  |\n",
       "\n"
      ],
      "text/plain": [
       "           Df Deviance   Resid. Df Resid. Dev Pr(>Chi) \n",
       "NULL       NA         NA 148       141.0197          NA\n",
       "sex         1 0.02400966 147       140.9957   0.8768603\n",
       "definition  1 0.34049590 146       140.6552   0.5595431\n",
       "need        1 1.66603582 145       138.9891   0.1967903\n",
       "purpose     2 1.73997944 143       137.2492   0.4189559\n",
       "interest    1 0.01939728 142       137.2298   0.8892335"
      ]
     },
     "metadata": {},
     "output_type": "display_data"
    },
    {
     "data": {
      "text/html": [
       "0.706481481481481"
      ],
      "text/latex": [
       "0.706481481481481"
      ],
      "text/markdown": [
       "0.706481481481481"
      ],
      "text/plain": [
       "[1] 0.7064815"
      ]
     },
     "metadata": {},
     "output_type": "display_data"
    },
    {
     "data": {
      "image/png": "[encoded data removed]",
      "text/plain": [
       "plot without title"
      ]
     },
     "metadata": {},
     "output_type": "display_data"
    }
   ],
   "source": [
    "model <- glm(d3_2 ~ sex + definition + need + purpose \n",
    "              + interest, data =train, family = binomial)\n",
    "summary(model)\n",
    "\n",
    "\n",
    "anova(model, test=\"Chisq\")\n",
    "\n",
    "\n",
    "p <- predict(model, newdata=test, type=\"response\")\n",
    "pr <- prediction(p, test$d3_2)\n",
    "prf <- performance(pr, measure = \"tpr\", x.measure = \"fpr\")\n",
    "plot(prf)\n",
    "\n",
    "auc <- performance(pr, measure = \"auc\")\n",
    "auc <- auc@y.values[[1]]\n",
    "auc"
   ]
  },
  {
   "cell_type": "code",
   "execution_count": 36,
   "metadata": {},
   "outputs": [
    {
     "data": {
      "text/plain": [
       "\n",
       "Call:\n",
       "glm(formula = d3_3 ~ sex + definition + need + purpose + interest, \n",
       "    family = binomial, data = train)\n",
       "\n",
       "Deviance Residuals: \n",
       "    Min       1Q   Median       3Q      Max  \n",
       "-1.0864  -0.7380  -0.5158  -0.3512   2.3734  \n",
       "\n",
       "Coefficients:\n",
       "                  Estimate Std. Error z value Pr(>|z|)   \n",
       "(Intercept)       -2.60790    1.01134  -2.579  0.00992 **\n",
       "sexMale            0.82030    0.62418   1.314  0.18878   \n",
       "definitionharmony  0.78838    0.67671   1.165  0.24401   \n",
       "needharmony       -0.04400    0.52099  -0.084  0.93270   \n",
       "purposecosmetic   -0.02849    0.80013  -0.036  0.97160   \n",
       "purposeetc         1.02273    0.62802   1.629  0.10342   \n",
       "interest          -0.03947    0.19894  -0.198  0.84272   \n",
       "---\n",
       "Signif. codes:  0 '***' 0.001 '**' 0.01 '*' 0.05 '.' 0.1 ' ' 1\n",
       "\n",
       "(Dispersion parameter for binomial family taken to be 1)\n",
       "\n",
       "    Null deviance: 141.02  on 148  degrees of freedom\n",
       "Residual deviance: 134.03  on 142  degrees of freedom\n",
       "AIC: 148.03\n",
       "\n",
       "Number of Fisher Scoring iterations: 5\n"
      ]
     },
     "metadata": {},
     "output_type": "display_data"
    },
    {
     "data": {
      "text/html": [
       "<table>\n",
       "<thead><tr><th></th><th scope=col>Df</th><th scope=col>Deviance</th><th scope=col>Resid. Df</th><th scope=col>Resid. Dev</th><th scope=col>Pr(&gt;Chi)</th></tr></thead>\n",
       "<tbody>\n",
       "\t<tr><th scope=row>NULL</th><td>NA         </td><td>         NA</td><td>148        </td><td>141.0197   </td><td>       NA  </td></tr>\n",
       "\t<tr><th scope=row>sex</th><td> 1         </td><td>1.449405504</td><td>147        </td><td>139.5703   </td><td>0.2286234  </td></tr>\n",
       "\t<tr><th scope=row>definition</th><td> 1         </td><td>1.665670242</td><td>146        </td><td>137.9046   </td><td>0.1968395  </td></tr>\n",
       "\t<tr><th scope=row>need</th><td> 1         </td><td>0.006634699</td><td>145        </td><td>137.8980   </td><td>0.9350812  </td></tr>\n",
       "\t<tr><th scope=row>purpose</th><td> 2         </td><td>3.828849049</td><td>143        </td><td>134.0691   </td><td>0.1474266  </td></tr>\n",
       "\t<tr><th scope=row>interest</th><td> 1         </td><td>0.039354146</td><td>142        </td><td>134.0298   </td><td>0.8427487  </td></tr>\n",
       "</tbody>\n",
       "</table>\n"
      ],
      "text/latex": [
       "\\begin{tabular}{r|lllll}\n",
       "  & Df & Deviance & Resid. Df & Resid. Dev & Pr(>Chi)\\\\\n",
       "\\hline\n",
       "\tNULL & NA          &          NA & 148         & 141.0197    &        NA  \\\\\n",
       "\tsex &  1          & 1.449405504 & 147         & 139.5703    & 0.2286234  \\\\\n",
       "\tdefinition &  1          & 1.665670242 & 146         & 137.9046    & 0.1968395  \\\\\n",
       "\tneed &  1          & 0.006634699 & 145         & 137.8980    & 0.9350812  \\\\\n",
       "\tpurpose &  2          & 3.828849049 & 143         & 134.0691    & 0.1474266  \\\\\n",
       "\tinterest &  1          & 0.039354146 & 142         & 134.0298    & 0.8427487  \\\\\n",
       "\\end{tabular}\n"
      ],
      "text/markdown": [
       "\n",
       "| <!--/--> | Df | Deviance | Resid. Df | Resid. Dev | Pr(>Chi) |\n",
       "|---|---|---|---|---|---|\n",
       "| NULL | NA          |          NA | 148         | 141.0197    |        NA   |\n",
       "| sex |  1          | 1.449405504 | 147         | 139.5703    | 0.2286234   |\n",
       "| definition |  1          | 1.665670242 | 146         | 137.9046    | 0.1968395   |\n",
       "| need |  1          | 0.006634699 | 145         | 137.8980    | 0.9350812   |\n",
       "| purpose |  2          | 3.828849049 | 143         | 134.0691    | 0.1474266   |\n",
       "| interest |  1          | 0.039354146 | 142         | 134.0298    | 0.8427487   |\n",
       "\n"
      ],
      "text/plain": [
       "           Df Deviance    Resid. Df Resid. Dev Pr(>Chi) \n",
       "NULL       NA          NA 148       141.0197          NA\n",
       "sex         1 1.449405504 147       139.5703   0.2286234\n",
       "definition  1 1.665670242 146       137.9046   0.1968395\n",
       "need        1 0.006634699 145       137.8980   0.9350812\n",
       "purpose     2 3.828849049 143       134.0691   0.1474266\n",
       "interest    1 0.039354146 142       134.0298   0.8427487"
      ]
     },
     "metadata": {},
     "output_type": "display_data"
    },
    {
     "data": {
      "text/html": [
       "0.35"
      ],
      "text/latex": [
       "0.35"
      ],
      "text/markdown": [
       "0.35"
      ],
      "text/plain": [
       "[1] 0.35"
      ]
     },
     "metadata": {},
     "output_type": "display_data"
    },
    {
     "data": {
      "image/png": "[encoded data removed]",
      "text/plain": [
       "plot without title"
      ]
     },
     "metadata": {},
     "output_type": "display_data"
    }
   ],
   "source": [
    "model <- glm(d3_3 ~ sex + definition + need + purpose \n",
    "              + interest, data =train, family = binomial)\n",
    "summary(model)\n",
    "\n",
    "\n",
    "anova(model, test=\"Chisq\")\n",
    "\n",
    "\n",
    "p <- predict(model, newdata=test, type=\"response\")\n",
    "pr <- prediction(p, test$d3_3)\n",
    "prf <- performance(pr, measure = \"tpr\", x.measure = \"fpr\")\n",
    "plot(prf)\n",
    "\n",
    "auc <- performance(pr, measure = \"auc\")\n",
    "auc <- auc@y.values[[1]]\n",
    "auc"
   ]
  },
  {
   "cell_type": "code",
   "execution_count": 37,
   "metadata": {},
   "outputs": [
    {
     "data": {
      "text/plain": [
       "\n",
       "Call:\n",
       "glm(formula = d3_4 ~ sex + definition + need + purpose + interest, \n",
       "    family = binomial, data = train)\n",
       "\n",
       "Deviance Residuals: \n",
       "    Min       1Q   Median       3Q      Max  \n",
       "-0.7282  -0.5406  -0.4755  -0.2979   2.6683  \n",
       "\n",
       "Coefficients:\n",
       "                  Estimate Std. Error z value Pr(>|z|)  \n",
       "(Intercept)        -2.2764     1.1338  -2.008   0.0447 *\n",
       "sexMale             0.3538     0.7088   0.499   0.6177  \n",
       "definitionharmony  -0.6572     0.6856  -0.959   0.3378  \n",
       "needharmony         0.2192     0.6424   0.341   0.7330  \n",
       "purposecosmetic    -1.2271     1.1486  -1.068   0.2854  \n",
       "purposeetc          0.3181     0.6766   0.470   0.6383  \n",
       "interest            0.1368     0.2504   0.546   0.5848  \n",
       "---\n",
       "Signif. codes:  0 '***' 0.001 '**' 0.01 '*' 0.05 '.' 0.1 ' ' 1\n",
       "\n",
       "(Dispersion parameter for binomial family taken to be 1)\n",
       "\n",
       "    Null deviance: 105.79  on 148  degrees of freedom\n",
       "Residual deviance: 101.19  on 142  degrees of freedom\n",
       "AIC: 115.19\n",
       "\n",
       "Number of Fisher Scoring iterations: 6\n"
      ]
     },
     "metadata": {},
     "output_type": "display_data"
    },
    {
     "data": {
      "text/html": [
       "<table>\n",
       "<thead><tr><th></th><th scope=col>Df</th><th scope=col>Deviance</th><th scope=col>Resid. Df</th><th scope=col>Resid. Dev</th><th scope=col>Pr(&gt;Chi)</th></tr></thead>\n",
       "<tbody>\n",
       "\t<tr><th scope=row>NULL</th><td>NA       </td><td>       NA</td><td>148      </td><td>105.7870 </td><td>       NA</td></tr>\n",
       "\t<tr><th scope=row>sex</th><td> 1       </td><td>0.1721220</td><td>147      </td><td>105.6149 </td><td>0.6782328</td></tr>\n",
       "\t<tr><th scope=row>definition</th><td> 1       </td><td>1.0953503</td><td>146      </td><td>104.5196 </td><td>0.2952888</td></tr>\n",
       "\t<tr><th scope=row>need</th><td> 1       </td><td>0.1745682</td><td>145      </td><td>104.3450 </td><td>0.6760834</td></tr>\n",
       "\t<tr><th scope=row>purpose</th><td> 2       </td><td>2.8485896</td><td>143      </td><td>101.4964 </td><td>0.2406781</td></tr>\n",
       "\t<tr><th scope=row>interest</th><td> 1       </td><td>0.3014883</td><td>142      </td><td>101.1949 </td><td>0.5829509</td></tr>\n",
       "</tbody>\n",
       "</table>\n"
      ],
      "text/latex": [
       "\\begin{tabular}{r|lllll}\n",
       "  & Df & Deviance & Resid. Df & Resid. Dev & Pr(>Chi)\\\\\n",
       "\\hline\n",
       "\tNULL & NA        &        NA & 148       & 105.7870  &        NA\\\\\n",
       "\tsex &  1        & 0.1721220 & 147       & 105.6149  & 0.6782328\\\\\n",
       "\tdefinition &  1        & 1.0953503 & 146       & 104.5196  & 0.2952888\\\\\n",
       "\tneed &  1        & 0.1745682 & 145       & 104.3450  & 0.6760834\\\\\n",
       "\tpurpose &  2        & 2.8485896 & 143       & 101.4964  & 0.2406781\\\\\n",
       "\tinterest &  1        & 0.3014883 & 142       & 101.1949  & 0.5829509\\\\\n",
       "\\end{tabular}\n"
      ],
      "text/markdown": [
       "\n",
       "| <!--/--> | Df | Deviance | Resid. Df | Resid. Dev | Pr(>Chi) |\n",
       "|---|---|---|---|---|---|\n",
       "| NULL | NA        |        NA | 148       | 105.7870  |        NA |\n",
       "| sex |  1        | 0.1721220 | 147       | 105.6149  | 0.6782328 |\n",
       "| definition |  1        | 1.0953503 | 146       | 104.5196  | 0.2952888 |\n",
       "| need |  1        | 0.1745682 | 145       | 104.3450  | 0.6760834 |\n",
       "| purpose |  2        | 2.8485896 | 143       | 101.4964  | 0.2406781 |\n",
       "| interest |  1        | 0.3014883 | 142       | 101.1949  | 0.5829509 |\n",
       "\n"
      ],
      "text/plain": [
       "           Df Deviance  Resid. Df Resid. Dev Pr(>Chi) \n",
       "NULL       NA        NA 148       105.7870          NA\n",
       "sex         1 0.1721220 147       105.6149   0.6782328\n",
       "definition  1 1.0953503 146       104.5196   0.2952888\n",
       "need        1 0.1745682 145       104.3450   0.6760834\n",
       "purpose     2 2.8485896 143       101.4964   0.2406781\n",
       "interest    1 0.3014883 142       101.1949   0.5829509"
      ]
     },
     "metadata": {},
     "output_type": "display_data"
    },
    {
     "data": {
      "text/html": [
       "0.439108061749571"
      ],
      "text/latex": [
       "0.439108061749571"
      ],
      "text/markdown": [
       "0.439108061749571"
      ],
      "text/plain": [
       "[1] 0.4391081"
      ]
     },
     "metadata": {},
     "output_type": "display_data"
    },
    {
     "data": {
      "image/png": "[encoded data removed]",
      "text/plain": [
       "plot without title"
      ]
     },
     "metadata": {},
     "output_type": "display_data"
    }
   ],
   "source": [
    "model <- glm(d3_4 ~ sex + definition + need + purpose \n",
    "              + interest, data =train, family = binomial)\n",
    "summary(model)\n",
    "\n",
    "\n",
    "anova(model, test=\"Chisq\")\n",
    "\n",
    "\n",
    "p <- predict(model, newdata=test, type=\"response\")\n",
    "pr <- prediction(p, test$d3_4)\n",
    "prf <- performance(pr, measure = \"tpr\", x.measure = \"fpr\")\n",
    "plot(prf)\n",
    "\n",
    "auc <- performance(pr, measure = \"auc\")\n",
    "auc <- auc@y.values[[1]]\n",
    "auc"
   ]
  },
  {
   "cell_type": "code",
   "execution_count": 38,
   "metadata": {},
   "outputs": [
    {
     "data": {
      "text/plain": [
       "\n",
       "Call:\n",
       "glm(formula = d3_5 ~ sex + definition + need + purpose + interest, \n",
       "    family = binomial, data = train)\n",
       "\n",
       "Deviance Residuals: \n",
       "    Min       1Q   Median       3Q      Max  \n",
       "-1.0962  -0.8305  -0.7208   1.3719   1.9498  \n",
       "\n",
       "Coefficients:\n",
       "                  Estimate Std. Error z value Pr(>|z|)\n",
       "(Intercept)       -0.60508    0.79973  -0.757    0.449\n",
       "sexMale           -0.30115    0.51028  -0.590    0.555\n",
       "definitionharmony  0.35791    0.52539   0.681    0.496\n",
       "needharmony        0.27355    0.44505   0.615    0.539\n",
       "purposecosmetic    0.16154    0.55494   0.291    0.771\n",
       "purposeetc        -0.03196    0.50677  -0.063    0.950\n",
       "interest          -0.22041    0.17607  -1.252    0.211\n",
       "\n",
       "(Dispersion parameter for binomial family taken to be 1)\n",
       "\n",
       "    Null deviance: 175.32  on 148  degrees of freedom\n",
       "Residual deviance: 171.45  on 142  degrees of freedom\n",
       "AIC: 185.45\n",
       "\n",
       "Number of Fisher Scoring iterations: 4\n"
      ]
     },
     "metadata": {},
     "output_type": "display_data"
    },
    {
     "data": {
      "text/html": [
       "<table>\n",
       "<thead><tr><th></th><th scope=col>Df</th><th scope=col>Deviance</th><th scope=col>Resid. Df</th><th scope=col>Resid. Dev</th><th scope=col>Pr(&gt;Chi)</th></tr></thead>\n",
       "<tbody>\n",
       "\t<tr><th scope=row>NULL</th><td>NA        </td><td>        NA</td><td>148       </td><td>175.3227  </td><td>       NA </td></tr>\n",
       "\t<tr><th scope=row>sex</th><td> 1        </td><td>0.06863179</td><td>147       </td><td>175.2541  </td><td>0.7933394 </td></tr>\n",
       "\t<tr><th scope=row>definition</th><td> 1        </td><td>1.62244084</td><td>146       </td><td>173.6317  </td><td>0.2027518 </td></tr>\n",
       "\t<tr><th scope=row>need</th><td> 1        </td><td>0.37763673</td><td>145       </td><td>173.2540  </td><td>0.5388707 </td></tr>\n",
       "\t<tr><th scope=row>purpose</th><td> 2        </td><td>0.22078754</td><td>143       </td><td>173.0332  </td><td>0.8954815 </td></tr>\n",
       "\t<tr><th scope=row>interest</th><td> 1        </td><td>1.58293127</td><td>142       </td><td>171.4503  </td><td>0.2083390 </td></tr>\n",
       "</tbody>\n",
       "</table>\n"
      ],
      "text/latex": [
       "\\begin{tabular}{r|lllll}\n",
       "  & Df & Deviance & Resid. Df & Resid. Dev & Pr(>Chi)\\\\\n",
       "\\hline\n",
       "\tNULL & NA         &         NA & 148        & 175.3227   &        NA \\\\\n",
       "\tsex &  1         & 0.06863179 & 147        & 175.2541   & 0.7933394 \\\\\n",
       "\tdefinition &  1         & 1.62244084 & 146        & 173.6317   & 0.2027518 \\\\\n",
       "\tneed &  1         & 0.37763673 & 145        & 173.2540   & 0.5388707 \\\\\n",
       "\tpurpose &  2         & 0.22078754 & 143        & 173.0332   & 0.8954815 \\\\\n",
       "\tinterest &  1         & 1.58293127 & 142        & 171.4503   & 0.2083390 \\\\\n",
       "\\end{tabular}\n"
      ],
      "text/markdown": [
       "\n",
       "| <!--/--> | Df | Deviance | Resid. Df | Resid. Dev | Pr(>Chi) |\n",
       "|---|---|---|---|---|---|\n",
       "| NULL | NA         |         NA | 148        | 175.3227   |        NA  |\n",
       "| sex |  1         | 0.06863179 | 147        | 175.2541   | 0.7933394  |\n",
       "| definition |  1         | 1.62244084 | 146        | 173.6317   | 0.2027518  |\n",
       "| need |  1         | 0.37763673 | 145        | 173.2540   | 0.5388707  |\n",
       "| purpose |  2         | 0.22078754 | 143        | 173.0332   | 0.8954815  |\n",
       "| interest |  1         | 1.58293127 | 142        | 171.4503   | 0.2083390  |\n",
       "\n"
      ],
      "text/plain": [
       "           Df Deviance   Resid. Df Resid. Dev Pr(>Chi) \n",
       "NULL       NA         NA 148       175.3227          NA\n",
       "sex         1 0.06863179 147       175.2541   0.7933394\n",
       "definition  1 1.62244084 146       173.6317   0.2027518\n",
       "need        1 0.37763673 145       173.2540   0.5388707\n",
       "purpose     2 0.22078754 143       173.0332   0.8954815\n",
       "interest    1 1.58293127 142       171.4503   0.2083390"
      ]
     },
     "metadata": {},
     "output_type": "display_data"
    },
    {
     "data": {
      "text/html": [
       "0.361979166666667"
      ],
      "text/latex": [
       "0.361979166666667"
      ],
      "text/markdown": [
       "0.361979166666667"
      ],
      "text/plain": [
       "[1] 0.3619792"
      ]
     },
     "metadata": {},
     "output_type": "display_data"
    },
    {
     "data": {
      "image/png": "[encoded data removed]",
      "text/plain": [
       "plot without title"
      ]
     },
     "metadata": {},
     "output_type": "display_data"
    }
   ],
   "source": [
    "model <- glm(d3_5 ~ sex + definition + need + purpose \n",
    "              + interest, data =train, family = binomial)\n",
    "summary(model)\n",
    "\n",
    "\n",
    "anova(model, test=\"Chisq\")\n",
    "\n",
    "\n",
    "p <- predict(model, newdata=test, type=\"response\")\n",
    "pr <- prediction(p, test$d3_5)\n",
    "prf <- performance(pr, measure = \"tpr\", x.measure = \"fpr\")\n",
    "plot(prf)\n",
    "\n",
    "auc <- performance(pr, measure = \"auc\")\n",
    "auc <- auc@y.values[[1]]\n",
    "auc"
   ]
  },
  {
   "cell_type": "code",
   "execution_count": null,
   "metadata": {},
   "outputs": [],
   "source": []
  }
 ],
 "metadata": {
  "kernelspec": {
   "display_name": "R",
   "language": "R",
   "name": "ir"
  },
  "language_info": {
   "codemirror_mode": "r",
   "file_extension": ".r",
   "mimetype": "text/x-r-source",
   "name": "R",
   "pygments_lexer": "r",
   "version": "3.6.1"
  }
 },
 "nbformat": 4,
 "nbformat_minor": 4
}
